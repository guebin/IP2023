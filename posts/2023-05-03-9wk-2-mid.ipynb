{
 "cells": [
  {
   "cell_type": "raw",
   "id": "83739eb0-57a3-4f13-8d74-7f32500d3649",
   "metadata": {},
   "source": [
    "---\n",
    "title: \"09wk-2: 중간고사\"\n",
    "author: \"최규빈\"\n",
    "date: \"05/03/2023\"\n",
    "---"
   ]
  },
  {
   "cell_type": "markdown",
   "id": "643258d1-ff46-4258-83b7-deaa56e6a14e",
   "metadata": {},
   "source": [
    "<a href=\"https://colab.research.google.com/github/guebin/PP2023/blob/main/posts/2023-05-03-9wk-2-mid.ipynb\"><img src=\"https://colab.research.google.com/assets/colab-badge.svg\" style=\"text-align: left\"></a>"
   ]
  },
  {
   "cell_type": "markdown",
   "id": "8225e111-ed4f-458a-b3db-69b7478e39f8",
   "metadata": {},
   "source": [
    "**제출은 `*.ipynb`, `*.html`, `*.pdf` 파일로 제출할 것** \n",
    "\n",
    "- `ipynb` 파일형태제출을 권장함. "
   ]
  },
  {
   "cell_type": "markdown",
   "id": "e2dbb2b8-8301-4f7e-bb10-badd751766dc",
   "metadata": {},
   "source": [
    "# Imports "
   ]
  },
  {
   "cell_type": "code",
   "execution_count": 4,
   "id": "57a11f55-3e57-4fb5-b03d-038ef3bdcd03",
   "metadata": {},
   "outputs": [],
   "source": [
    "import pandas as pd\n",
    "import numpy as np\n",
    "import matplotlib.pyplot as plt\n",
    "import yfinance as yf"
   ]
  },
  {
   "cell_type": "markdown",
   "id": "3864a1d2-be75-414f-95ce-95e2fea2f2e2",
   "metadata": {
    "tags": []
   },
   "source": [
    "# 1. pandas and numpy (35점)"
   ]
  },
  {
   "cell_type": "markdown",
   "id": "2cddb99d-be16-40a4-a137-0f6b54b0da92",
   "metadata": {},
   "source": [
    "## FIFA23"
   ]
  },
  {
   "cell_type": "markdown",
   "id": "2322a126-0910-4397-b6c3-ac17a9104704",
   "metadata": {},
   "source": [
    "`(1)--(3)` 아래는 FIFA23 자료를 불러오는 코드이다. "
   ]
  },
  {
   "cell_type": "code",
   "execution_count": 46,
   "id": "b5dbe9d3-ab4c-44af-93dc-1b10b0228868",
   "metadata": {},
   "outputs": [
    {
     "data": {
      "text/html": [
       "<div>\n",
       "<style scoped>\n",
       "    .dataframe tbody tr th:only-of-type {\n",
       "        vertical-align: middle;\n",
       "    }\n",
       "\n",
       "    .dataframe tbody tr th {\n",
       "        vertical-align: top;\n",
       "    }\n",
       "\n",
       "    .dataframe thead th {\n",
       "        text-align: right;\n",
       "    }\n",
       "</style>\n",
       "<table border=\"1\" class=\"dataframe\">\n",
       "  <thead>\n",
       "    <tr style=\"text-align: right;\">\n",
       "      <th></th>\n",
       "      <th>ID</th>\n",
       "      <th>Name</th>\n",
       "      <th>Age</th>\n",
       "      <th>Photo</th>\n",
       "      <th>Nationality</th>\n",
       "      <th>Flag</th>\n",
       "      <th>Overall</th>\n",
       "      <th>Potential</th>\n",
       "      <th>Club</th>\n",
       "      <th>Club Logo</th>\n",
       "      <th>...</th>\n",
       "      <th>Work Rate</th>\n",
       "      <th>Body Type</th>\n",
       "      <th>Real Face</th>\n",
       "      <th>Position</th>\n",
       "      <th>Joined</th>\n",
       "      <th>Contract Valid Until</th>\n",
       "      <th>Height</th>\n",
       "      <th>Weight</th>\n",
       "      <th>Release Clause</th>\n",
       "      <th>Kit Number</th>\n",
       "    </tr>\n",
       "  </thead>\n",
       "  <tbody>\n",
       "    <tr>\n",
       "      <th>0</th>\n",
       "      <td>209658</td>\n",
       "      <td>L. Goretzka</td>\n",
       "      <td>27</td>\n",
       "      <td>https://cdn.sofifa.net/players/209/658/23_60.png</td>\n",
       "      <td>Germany</td>\n",
       "      <td>https://cdn.sofifa.net/flags/de.png</td>\n",
       "      <td>87</td>\n",
       "      <td>88</td>\n",
       "      <td>FC Bayern München</td>\n",
       "      <td>https://cdn.sofifa.net/teams/21/30.png</td>\n",
       "      <td>...</td>\n",
       "      <td>High/ Medium</td>\n",
       "      <td>Unique</td>\n",
       "      <td>Yes</td>\n",
       "      <td>&lt;span class=\"pos pos28\"&gt;SUB</td>\n",
       "      <td>Jul 1, 2018</td>\n",
       "      <td>2026</td>\n",
       "      <td>189cm</td>\n",
       "      <td>82kg</td>\n",
       "      <td>€157M</td>\n",
       "      <td>8.0</td>\n",
       "    </tr>\n",
       "    <tr>\n",
       "      <th>1</th>\n",
       "      <td>212198</td>\n",
       "      <td>Bruno Fernandes</td>\n",
       "      <td>27</td>\n",
       "      <td>https://cdn.sofifa.net/players/212/198/23_60.png</td>\n",
       "      <td>Portugal</td>\n",
       "      <td>https://cdn.sofifa.net/flags/pt.png</td>\n",
       "      <td>86</td>\n",
       "      <td>87</td>\n",
       "      <td>Manchester United</td>\n",
       "      <td>https://cdn.sofifa.net/teams/11/30.png</td>\n",
       "      <td>...</td>\n",
       "      <td>High/ High</td>\n",
       "      <td>Unique</td>\n",
       "      <td>Yes</td>\n",
       "      <td>&lt;span class=\"pos pos15\"&gt;LCM</td>\n",
       "      <td>Jan 30, 2020</td>\n",
       "      <td>2026</td>\n",
       "      <td>179cm</td>\n",
       "      <td>69kg</td>\n",
       "      <td>€155M</td>\n",
       "      <td>8.0</td>\n",
       "    </tr>\n",
       "    <tr>\n",
       "      <th>2</th>\n",
       "      <td>224334</td>\n",
       "      <td>M. Acuña</td>\n",
       "      <td>30</td>\n",
       "      <td>https://cdn.sofifa.net/players/224/334/23_60.png</td>\n",
       "      <td>Argentina</td>\n",
       "      <td>https://cdn.sofifa.net/flags/ar.png</td>\n",
       "      <td>85</td>\n",
       "      <td>85</td>\n",
       "      <td>Sevilla FC</td>\n",
       "      <td>https://cdn.sofifa.net/teams/481/30.png</td>\n",
       "      <td>...</td>\n",
       "      <td>High/ High</td>\n",
       "      <td>Stocky (170-185)</td>\n",
       "      <td>No</td>\n",
       "      <td>&lt;span class=\"pos pos7\"&gt;LB</td>\n",
       "      <td>Sep 14, 2020</td>\n",
       "      <td>2024</td>\n",
       "      <td>172cm</td>\n",
       "      <td>69kg</td>\n",
       "      <td>€97.7M</td>\n",
       "      <td>19.0</td>\n",
       "    </tr>\n",
       "    <tr>\n",
       "      <th>3</th>\n",
       "      <td>192985</td>\n",
       "      <td>K. De Bruyne</td>\n",
       "      <td>31</td>\n",
       "      <td>https://cdn.sofifa.net/players/192/985/23_60.png</td>\n",
       "      <td>Belgium</td>\n",
       "      <td>https://cdn.sofifa.net/flags/be.png</td>\n",
       "      <td>91</td>\n",
       "      <td>91</td>\n",
       "      <td>Manchester City</td>\n",
       "      <td>https://cdn.sofifa.net/teams/10/30.png</td>\n",
       "      <td>...</td>\n",
       "      <td>High/ High</td>\n",
       "      <td>Unique</td>\n",
       "      <td>Yes</td>\n",
       "      <td>&lt;span class=\"pos pos13\"&gt;RCM</td>\n",
       "      <td>Aug 30, 2015</td>\n",
       "      <td>2025</td>\n",
       "      <td>181cm</td>\n",
       "      <td>70kg</td>\n",
       "      <td>€198.9M</td>\n",
       "      <td>17.0</td>\n",
       "    </tr>\n",
       "    <tr>\n",
       "      <th>4</th>\n",
       "      <td>224232</td>\n",
       "      <td>N. Barella</td>\n",
       "      <td>25</td>\n",
       "      <td>https://cdn.sofifa.net/players/224/232/23_60.png</td>\n",
       "      <td>Italy</td>\n",
       "      <td>https://cdn.sofifa.net/flags/it.png</td>\n",
       "      <td>86</td>\n",
       "      <td>89</td>\n",
       "      <td>Inter</td>\n",
       "      <td>https://cdn.sofifa.net/teams/44/30.png</td>\n",
       "      <td>...</td>\n",
       "      <td>High/ High</td>\n",
       "      <td>Normal (170-)</td>\n",
       "      <td>Yes</td>\n",
       "      <td>&lt;span class=\"pos pos13\"&gt;RCM</td>\n",
       "      <td>Sep 1, 2020</td>\n",
       "      <td>2026</td>\n",
       "      <td>172cm</td>\n",
       "      <td>68kg</td>\n",
       "      <td>€154.4M</td>\n",
       "      <td>23.0</td>\n",
       "    </tr>\n",
       "  </tbody>\n",
       "</table>\n",
       "<p>5 rows × 27 columns</p>\n",
       "</div>"
      ],
      "text/plain": [
       "       ID             Name  Age   \n",
       "0  209658      L. Goretzka   27  \\\n",
       "1  212198  Bruno Fernandes   27   \n",
       "2  224334         M. Acuña   30   \n",
       "3  192985     K. De Bruyne   31   \n",
       "4  224232       N. Barella   25   \n",
       "\n",
       "                                              Photo Nationality   \n",
       "0  https://cdn.sofifa.net/players/209/658/23_60.png     Germany  \\\n",
       "1  https://cdn.sofifa.net/players/212/198/23_60.png    Portugal   \n",
       "2  https://cdn.sofifa.net/players/224/334/23_60.png   Argentina   \n",
       "3  https://cdn.sofifa.net/players/192/985/23_60.png     Belgium   \n",
       "4  https://cdn.sofifa.net/players/224/232/23_60.png       Italy   \n",
       "\n",
       "                                  Flag  Overall  Potential               Club   \n",
       "0  https://cdn.sofifa.net/flags/de.png       87         88  FC Bayern München  \\\n",
       "1  https://cdn.sofifa.net/flags/pt.png       86         87  Manchester United   \n",
       "2  https://cdn.sofifa.net/flags/ar.png       85         85         Sevilla FC   \n",
       "3  https://cdn.sofifa.net/flags/be.png       91         91    Manchester City   \n",
       "4  https://cdn.sofifa.net/flags/it.png       86         89              Inter   \n",
       "\n",
       "                                 Club Logo  ...     Work Rate   \n",
       "0   https://cdn.sofifa.net/teams/21/30.png  ...  High/ Medium  \\\n",
       "1   https://cdn.sofifa.net/teams/11/30.png  ...    High/ High   \n",
       "2  https://cdn.sofifa.net/teams/481/30.png  ...    High/ High   \n",
       "3   https://cdn.sofifa.net/teams/10/30.png  ...    High/ High   \n",
       "4   https://cdn.sofifa.net/teams/44/30.png  ...    High/ High   \n",
       "\n",
       "          Body Type  Real Face                     Position        Joined   \n",
       "0            Unique        Yes  <span class=\"pos pos28\">SUB   Jul 1, 2018  \\\n",
       "1            Unique        Yes  <span class=\"pos pos15\">LCM  Jan 30, 2020   \n",
       "2  Stocky (170-185)         No    <span class=\"pos pos7\">LB  Sep 14, 2020   \n",
       "3            Unique        Yes  <span class=\"pos pos13\">RCM  Aug 30, 2015   \n",
       "4     Normal (170-)        Yes  <span class=\"pos pos13\">RCM   Sep 1, 2020   \n",
       "\n",
       "   Contract Valid Until  Height Weight Release Clause Kit Number  \n",
       "0                  2026   189cm   82kg          €157M        8.0  \n",
       "1                  2026   179cm   69kg          €155M        8.0  \n",
       "2                  2024   172cm   69kg         €97.7M       19.0  \n",
       "3                  2025   181cm   70kg        €198.9M       17.0  \n",
       "4                  2026   172cm   68kg        €154.4M       23.0  \n",
       "\n",
       "[5 rows x 27 columns]"
      ]
     },
     "execution_count": 46,
     "metadata": {},
     "output_type": "execute_result"
    }
   ],
   "source": [
    "df=pd.read_csv('https://raw.githubusercontent.com/guebin/DV2022/master/posts/FIFA23_official_data.csv').drop(columns=['Loaned From', 'Best Overall Rating']).dropna().reset_index(drop=True)\n",
    "df.head()"
   ]
  },
  {
   "cell_type": "markdown",
   "id": "aff16067-9044-45ad-8471-1a0329a9b975",
   "metadata": {},
   "source": [
    "`(1)` 공백이 포함된 column이름이 총 몇개인지 count하는 코드를 작성하라."
   ]
  },
  {
   "cell_type": "markdown",
   "id": "af79879d-8e1a-4559-b709-bd52abcac6d8",
   "metadata": {},
   "source": [
    "**hint** 모두 11개의 column name에 공백이 포함되어있음 "
   ]
  },
  {
   "cell_type": "markdown",
   "id": "edeb20ae-59d0-40ab-ab4f-adf610ac6e5c",
   "metadata": {},
   "source": [
    "`(2)` column name에 공백이 포함된 열을 출력하라. "
   ]
  },
  {
   "cell_type": "code",
   "execution_count": 31,
   "id": "6cd01a52-4da4-4d3c-9363-a2001ac34d2a",
   "metadata": {},
   "outputs": [
    {
     "data": {
      "text/html": [
       "<div>\n",
       "<style scoped>\n",
       "    .dataframe tbody tr th:only-of-type {\n",
       "        vertical-align: middle;\n",
       "    }\n",
       "\n",
       "    .dataframe tbody tr th {\n",
       "        vertical-align: top;\n",
       "    }\n",
       "\n",
       "    .dataframe thead th {\n",
       "        text-align: right;\n",
       "    }\n",
       "</style>\n",
       "<table border=\"1\" class=\"dataframe\">\n",
       "  <thead>\n",
       "    <tr style=\"text-align: right;\">\n",
       "      <th></th>\n",
       "      <th>Club Logo</th>\n",
       "      <th>Preferred Foot</th>\n",
       "      <th>International Reputation</th>\n",
       "      <th>Weak Foot</th>\n",
       "      <th>Skill Moves</th>\n",
       "      <th>Work Rate</th>\n",
       "      <th>Body Type</th>\n",
       "      <th>Real Face</th>\n",
       "      <th>Contract Valid Until</th>\n",
       "      <th>Release Clause</th>\n",
       "      <th>Kit Number</th>\n",
       "    </tr>\n",
       "  </thead>\n",
       "  <tbody>\n",
       "    <tr>\n",
       "      <th>0</th>\n",
       "      <td>https://cdn.sofifa.net/teams/21/30.png</td>\n",
       "      <td>Right</td>\n",
       "      <td>4.0</td>\n",
       "      <td>4.0</td>\n",
       "      <td>3.0</td>\n",
       "      <td>High/ Medium</td>\n",
       "      <td>Unique</td>\n",
       "      <td>Yes</td>\n",
       "      <td>2026</td>\n",
       "      <td>€157M</td>\n",
       "      <td>8.0</td>\n",
       "    </tr>\n",
       "    <tr>\n",
       "      <th>1</th>\n",
       "      <td>https://cdn.sofifa.net/teams/11/30.png</td>\n",
       "      <td>Right</td>\n",
       "      <td>3.0</td>\n",
       "      <td>3.0</td>\n",
       "      <td>4.0</td>\n",
       "      <td>High/ High</td>\n",
       "      <td>Unique</td>\n",
       "      <td>Yes</td>\n",
       "      <td>2026</td>\n",
       "      <td>€155M</td>\n",
       "      <td>8.0</td>\n",
       "    </tr>\n",
       "    <tr>\n",
       "      <th>2</th>\n",
       "      <td>https://cdn.sofifa.net/teams/481/30.png</td>\n",
       "      <td>Left</td>\n",
       "      <td>2.0</td>\n",
       "      <td>3.0</td>\n",
       "      <td>3.0</td>\n",
       "      <td>High/ High</td>\n",
       "      <td>Stocky (170-185)</td>\n",
       "      <td>No</td>\n",
       "      <td>2024</td>\n",
       "      <td>€97.7M</td>\n",
       "      <td>19.0</td>\n",
       "    </tr>\n",
       "    <tr>\n",
       "      <th>3</th>\n",
       "      <td>https://cdn.sofifa.net/teams/10/30.png</td>\n",
       "      <td>Right</td>\n",
       "      <td>4.0</td>\n",
       "      <td>5.0</td>\n",
       "      <td>4.0</td>\n",
       "      <td>High/ High</td>\n",
       "      <td>Unique</td>\n",
       "      <td>Yes</td>\n",
       "      <td>2025</td>\n",
       "      <td>€198.9M</td>\n",
       "      <td>17.0</td>\n",
       "    </tr>\n",
       "    <tr>\n",
       "      <th>4</th>\n",
       "      <td>https://cdn.sofifa.net/teams/44/30.png</td>\n",
       "      <td>Right</td>\n",
       "      <td>3.0</td>\n",
       "      <td>3.0</td>\n",
       "      <td>3.0</td>\n",
       "      <td>High/ High</td>\n",
       "      <td>Normal (170-)</td>\n",
       "      <td>Yes</td>\n",
       "      <td>2026</td>\n",
       "      <td>€154.4M</td>\n",
       "      <td>23.0</td>\n",
       "    </tr>\n",
       "    <tr>\n",
       "      <th>...</th>\n",
       "      <td>...</td>\n",
       "      <td>...</td>\n",
       "      <td>...</td>\n",
       "      <td>...</td>\n",
       "      <td>...</td>\n",
       "      <td>...</td>\n",
       "      <td>...</td>\n",
       "      <td>...</td>\n",
       "      <td>...</td>\n",
       "      <td>...</td>\n",
       "      <td>...</td>\n",
       "    </tr>\n",
       "    <tr>\n",
       "      <th>16359</th>\n",
       "      <td>https://cdn.sofifa.net/teams/114628/30.png</td>\n",
       "      <td>Right</td>\n",
       "      <td>1.0</td>\n",
       "      <td>3.0</td>\n",
       "      <td>1.0</td>\n",
       "      <td>Medium/ Medium</td>\n",
       "      <td>Normal (185+)</td>\n",
       "      <td>No</td>\n",
       "      <td>2027</td>\n",
       "      <td>€218K</td>\n",
       "      <td>35.0</td>\n",
       "    </tr>\n",
       "    <tr>\n",
       "      <th>16360</th>\n",
       "      <td>https://cdn.sofifa.net/teams/1478/30.png</td>\n",
       "      <td>Right</td>\n",
       "      <td>1.0</td>\n",
       "      <td>2.0</td>\n",
       "      <td>1.0</td>\n",
       "      <td>Medium/ Medium</td>\n",
       "      <td>Lean (185+)</td>\n",
       "      <td>No</td>\n",
       "      <td>2026</td>\n",
       "      <td>€188K</td>\n",
       "      <td>21.0</td>\n",
       "    </tr>\n",
       "    <tr>\n",
       "      <th>16361</th>\n",
       "      <td>https://cdn.sofifa.net/teams/113796/30.png</td>\n",
       "      <td>Right</td>\n",
       "      <td>1.0</td>\n",
       "      <td>2.0</td>\n",
       "      <td>1.0</td>\n",
       "      <td>Medium/ Medium</td>\n",
       "      <td>Lean (185+)</td>\n",
       "      <td>No</td>\n",
       "      <td>2023</td>\n",
       "      <td>€142K</td>\n",
       "      <td>12.0</td>\n",
       "    </tr>\n",
       "    <tr>\n",
       "      <th>16362</th>\n",
       "      <td>https://cdn.sofifa.net/teams/112260/30.png</td>\n",
       "      <td>Right</td>\n",
       "      <td>1.0</td>\n",
       "      <td>2.0</td>\n",
       "      <td>1.0</td>\n",
       "      <td>Medium/ Medium</td>\n",
       "      <td>Normal (185+)</td>\n",
       "      <td>No</td>\n",
       "      <td>2021</td>\n",
       "      <td>€214K</td>\n",
       "      <td>40.0</td>\n",
       "    </tr>\n",
       "    <tr>\n",
       "      <th>16363</th>\n",
       "      <td>https://cdn.sofifa.net/teams/702/30.png</td>\n",
       "      <td>Left</td>\n",
       "      <td>1.0</td>\n",
       "      <td>2.0</td>\n",
       "      <td>1.0</td>\n",
       "      <td>Medium/ Medium</td>\n",
       "      <td>Normal (185+)</td>\n",
       "      <td>No</td>\n",
       "      <td>2021</td>\n",
       "      <td>€131K</td>\n",
       "      <td>30.0</td>\n",
       "    </tr>\n",
       "  </tbody>\n",
       "</table>\n",
       "<p>16364 rows × 11 columns</p>\n",
       "</div>"
      ],
      "text/plain": [
       "                                        Club Logo Preferred Foot   \n",
       "0          https://cdn.sofifa.net/teams/21/30.png          Right  \\\n",
       "1          https://cdn.sofifa.net/teams/11/30.png          Right   \n",
       "2         https://cdn.sofifa.net/teams/481/30.png           Left   \n",
       "3          https://cdn.sofifa.net/teams/10/30.png          Right   \n",
       "4          https://cdn.sofifa.net/teams/44/30.png          Right   \n",
       "...                                           ...            ...   \n",
       "16359  https://cdn.sofifa.net/teams/114628/30.png          Right   \n",
       "16360    https://cdn.sofifa.net/teams/1478/30.png          Right   \n",
       "16361  https://cdn.sofifa.net/teams/113796/30.png          Right   \n",
       "16362  https://cdn.sofifa.net/teams/112260/30.png          Right   \n",
       "16363     https://cdn.sofifa.net/teams/702/30.png           Left   \n",
       "\n",
       "       International Reputation  Weak Foot  Skill Moves       Work Rate   \n",
       "0                           4.0        4.0          3.0    High/ Medium  \\\n",
       "1                           3.0        3.0          4.0      High/ High   \n",
       "2                           2.0        3.0          3.0      High/ High   \n",
       "3                           4.0        5.0          4.0      High/ High   \n",
       "4                           3.0        3.0          3.0      High/ High   \n",
       "...                         ...        ...          ...             ...   \n",
       "16359                       1.0        3.0          1.0  Medium/ Medium   \n",
       "16360                       1.0        2.0          1.0  Medium/ Medium   \n",
       "16361                       1.0        2.0          1.0  Medium/ Medium   \n",
       "16362                       1.0        2.0          1.0  Medium/ Medium   \n",
       "16363                       1.0        2.0          1.0  Medium/ Medium   \n",
       "\n",
       "              Body Type Real Face Contract Valid Until Release Clause   \n",
       "0                Unique       Yes                 2026          €157M  \\\n",
       "1                Unique       Yes                 2026          €155M   \n",
       "2      Stocky (170-185)        No                 2024         €97.7M   \n",
       "3                Unique       Yes                 2025        €198.9M   \n",
       "4         Normal (170-)       Yes                 2026        €154.4M   \n",
       "...                 ...       ...                  ...            ...   \n",
       "16359     Normal (185+)        No                 2027          €218K   \n",
       "16360       Lean (185+)        No                 2026          €188K   \n",
       "16361       Lean (185+)        No                 2023          €142K   \n",
       "16362     Normal (185+)        No                 2021          €214K   \n",
       "16363     Normal (185+)        No                 2021          €131K   \n",
       "\n",
       "       Kit Number  \n",
       "0             8.0  \n",
       "1             8.0  \n",
       "2            19.0  \n",
       "3            17.0  \n",
       "4            23.0  \n",
       "...           ...  \n",
       "16359        35.0  \n",
       "16360        21.0  \n",
       "16361        12.0  \n",
       "16362        40.0  \n",
       "16363        30.0  \n",
       "\n",
       "[16364 rows x 11 columns]"
      ]
     },
     "execution_count": 31,
     "metadata": {},
     "output_type": "execute_result"
    }
   ],
   "source": [
    "# 출력예시 "
   ]
  },
  {
   "cell_type": "markdown",
   "id": "cde759c5-e1d7-4985-b842-2f40fa84dea1",
   "metadata": {
    "tags": []
   },
   "source": [
    "`(3)` 데이터프레임을 올바르게 해석한 사람을 모두 고르시오 (모두 맞출경우만 정답으로 인정)\n",
    "\n",
    "- 세민: 데이터프레임에는 모두 27개의 열이 있다. \n",
    "- 성재: 한국선수(`Nationality==Korea Republic`)와 일본선수(`Nationality==Japan`)의 `Overall`의 평균값은 일본이 더 높다. \n",
    "- 민정: 총 159개의 나라선수들이 포함되어 있다. \n",
    "- 슬기: 선수들의 연령이 25세이상(>=)인 선수들은 그렇지 않은 선수들보다 평균적으로 키(`Height`)가크다. "
   ]
  },
  {
   "cell_type": "markdown",
   "id": "6beed95c-8071-494e-a6c7-254aeaa2a4c1",
   "metadata": {},
   "source": [
    "## 삼성전자의 주가"
   ]
  },
  {
   "cell_type": "markdown",
   "id": "a5e76b9d-a2a9-49c1-911a-00aa7d7c7d05",
   "metadata": {},
   "source": [
    "`(4)--(5)` 다음은 삼성전자의 주가를 크롤링하는 코드이다. "
   ]
  },
  {
   "cell_type": "code",
   "execution_count": 10,
   "id": "ac8f0da9-e17e-45ed-9d34-afa3ca784df3",
   "metadata": {},
   "outputs": [
    {
     "name": "stdout",
     "output_type": "stream",
     "text": [
      "[*********************100%***********************]  1 of 1 completed\n"
     ]
    }
   ],
   "source": [
    "start_date = \"2023-01-01\"\n",
    "end_date = \"2023-05-02\"\n",
    "y = yf.download(\"005930.KS\", start=start_date, end=end_date)['Adj Close'].to_numpy()"
   ]
  },
  {
   "cell_type": "markdown",
   "id": "79f9c7f0-c146-4e9f-b62f-90691dd113dd",
   "metadata": {},
   "source": [
    "삼성전자의 주가 ${\\boldsymbol y}$를 시각화하면 아래와 같다. "
   ]
  },
  {
   "cell_type": "code",
   "execution_count": 13,
   "id": "3c45a2bd-6684-4493-86ba-6da6de2b674f",
   "metadata": {},
   "outputs": [
    {
     "data": {
      "text/plain": [
       "[<matplotlib.lines.Line2D at 0x7f9669849a60>]"
      ]
     },
     "execution_count": 13,
     "metadata": {},
     "output_type": "execute_result"
    },
    {
     "data": {
      "image/png": "[encoded data removed]",
      "text/plain": [
       "<Figure size 432x288 with 1 Axes>"
      ]
     },
     "metadata": {
      "needs_background": "light"
     },
     "output_type": "display_data"
    }
   ],
   "source": [
    "plt.plot(y)"
   ]
  },
  {
   "cell_type": "markdown",
   "id": "ae8bd18e-75ba-484b-a832-a97fbcfbca00",
   "metadata": {},
   "source": [
    "`(4)` 아래와 같은 변환을 이용하여 ${\\boldsymbol y}$를 $\\tilde {\\boldsymbol y}$로 변환하고 결과를 시각화하라. "
   ]
  },
  {
   "cell_type": "markdown",
   "id": "5e999e22-ce0a-4ef0-8a2a-e7f8de76772b",
   "metadata": {},
   "source": [
    "- $\\tilde{y}_1= \\frac{1}{4}(3y_1 + y_2)$\n",
    "- $\\tilde{y}_i= \\frac{1}{4}(y_{i-1}+2y_i+y_{i+1})$, for $i=2,3,\\dots,n-1$ \n",
    "- $\\tilde{y}_n= \\frac{1}{4}(y_{n-1}+3y_{n})$"
   ]
  },
  {
   "cell_type": "markdown",
   "id": "ea417be6-4225-4773-b8da-da8ab0276b1c",
   "metadata": {},
   "source": [
    "**hint**: 아래의 코드를 관찰 "
   ]
  },
  {
   "cell_type": "code",
   "execution_count": 22,
   "id": "f7f724a2-4374-48f4-9f29-fe6925c492d2",
   "metadata": {},
   "outputs": [
    {
     "data": {
      "text/plain": [
       "array([[2., 1., 0., 0.],\n",
       "       [1., 2., 1., 0.],\n",
       "       [0., 1., 2., 1.],\n",
       "       [0., 0., 1., 2.]])"
      ]
     },
     "execution_count": 22,
     "metadata": {},
     "output_type": "execute_result"
    }
   ],
   "source": [
    "np.eye(4) + np.array([abs(i-j)<2 for i in range(4) for j in range(4)]).reshape(4,4) "
   ]
  },
  {
   "cell_type": "markdown",
   "id": "a96a6958-8901-4639-b916-858932bc8c95",
   "metadata": {},
   "source": [
    "`(5)` `(4)`의 변환을 50회 반복적용하고 결과를 시각화하라. "
   ]
  },
  {
   "cell_type": "markdown",
   "id": "1e584f36-54df-4d77-96b4-66379af84c8a",
   "metadata": {},
   "source": [
    "## 회귀모형"
   ]
  },
  {
   "cell_type": "markdown",
   "id": "0483dd9b-5ea7-429c-a8de-12089f6e77b1",
   "metadata": {},
   "source": [
    "`(6)--(7)` $(x_i,y_i)$가 아래와 같이 주어졌다고 가정하자. "
   ]
  },
  {
   "cell_type": "code",
   "execution_count": 41,
   "id": "ebd83cce-1ef4-4cd6-a0a1-e060734a99bf",
   "metadata": {},
   "outputs": [],
   "source": [
    "x =  np.array([0.00983, 0.01098, 0.02951, 0.0384 , 0.03973, 0.04178, 0.0533 ,\n",
    "               0.058  , 0.09454, 0.1103 , 0.1328 , 0.1412 , 0.1497 , 0.1664 ,\n",
    "               0.1906 , 0.1923 , 0.198  , 0.2141 , 0.2393 , 0.2433 , 0.3157 ,\n",
    "               0.3228 , 0.3418 , 0.3552 , 0.3918 , 0.3962 , 0.4    , 0.4482 ,\n",
    "               0.496  , 0.507  , 0.53   , 0.5654 , 0.582  , 0.5854 , 0.5854 ,\n",
    "               0.6606 , 0.7007 , 0.723  , 0.7305 , 0.7383 , 0.7656 , 0.7725 ,\n",
    "               0.831  , 0.8896 , 0.9053 , 0.914  , 0.949  , 0.952  , 0.9727 ,\n",
    "               0.982  ])\n",
    "y =  np.array([0.7381, 0.7043, 0.3937, 0.1365, 0.3784, 0.3028, 0.1037, 0.3846,\n",
    "               0.706 , 0.7572, 0.2421, 0.232 , 0.9855, 1.162 , 0.4653, 0.6791,\n",
    "               0.6905, 0.6865, 0.9757, 0.7665, 0.9522, 0.4641, 0.5498, 1.1509,\n",
    "               0.5288, 1.1195, 1.1659, 1.4341, 1.2779, 1.1648, 1.4002, 0.7472,\n",
    "               0.9142, 0.9658, 1.0707, 1.4501, 1.6758, 0.8778, 1.3384, 0.7476,\n",
    "               1.3086, 1.7537, 1.5559, 1.2928, 1.3832, 1.3115, 1.3382, 1.536 ,           \n",
    "               1.9177, 1.2069])"
   ]
  },
  {
   "cell_type": "code",
   "execution_count": 43,
   "id": "bcbdbb67-f82f-429e-8818-d6ae04f20ea5",
   "metadata": {},
   "outputs": [
    {
     "data": {
      "text/plain": [
       "[<matplotlib.lines.Line2D at 0x7f9666f0d7c0>]"
      ]
     },
     "execution_count": 43,
     "metadata": {},
     "output_type": "execute_result"
    },
    {
     "data": {
      "image/png": "[encoded data removed]",
      "text/plain": [
       "<Figure size 432x288 with 1 Axes>"
      ]
     },
     "metadata": {
      "needs_background": "light"
     },
     "output_type": "display_data"
    }
   ],
   "source": [
    "plt.plot(x,y,'o')"
   ]
  },
  {
   "cell_type": "markdown",
   "id": "06216e0d-55bf-47d7-a8ce-2497fe022057",
   "metadata": {},
   "source": [
    "`6`. 아래의 수식을 이용하여 적절한 추세선 $\\hat{y}_i= \\hat{\\beta}_0 +\\hat{\\beta}_1 x_i$를 구하고 시각화하라. "
   ]
  },
  {
   "cell_type": "markdown",
   "id": "ddf1b2db-1de9-4a01-a816-71520377b4f3",
   "metadata": {},
   "source": [
    "$$\\begin{bmatrix} \\hat{\\beta}_0 \\\\ \\hat{\\beta}_1 \\end{bmatrix} = ({\\bf X}^T {\\bf X})^{-1}{\\bf X}^T {\\boldsymbol y}, \\quad {\\bf X}=\\begin{bmatrix} 1 & x_1 \\\\ 1 & x_2 \\\\ \\dots \\\\ 1 & x_n \\end{bmatrix}$$ "
   ]
  },
  {
   "cell_type": "markdown",
   "id": "be8952a5-7fc6-4827-b99d-b1997c584f6e",
   "metadata": {},
   "source": [
    "`7`. $\\frac{1}{n}\\sum_{i=1}^{n}(y_i-\\hat{y}_i)^2$을 계산하라. "
   ]
  },
  {
   "cell_type": "markdown",
   "id": "222e4963-90da-4db4-b580-ab1539418f7b",
   "metadata": {},
   "source": [
    "# 2. fashion MNIST data (60점)"
   ]
  },
  {
   "cell_type": "markdown",
   "id": "e6c3d16e-f352-4e12-9fed-0ac2619a4dc5",
   "metadata": {},
   "source": [
    "아래는 9가지의 의류이미지가 저장된 이미지데이터를 불러오는 코드이다. "
   ]
  },
  {
   "cell_type": "code",
   "execution_count": 10,
   "id": "7dc4f14c-0b68-4fc6-8617-ae782da323c3",
   "metadata": {},
   "outputs": [],
   "source": [
    "#df_train=pd.read_csv('fashion-mnist_train.csv')\n",
    "#df_test=pd.read_csv('fashion-mnist_test.csv')"
   ]
  },
  {
   "cell_type": "code",
   "execution_count": 11,
   "id": "fce74000-08c4-462d-acd8-70e821df0f48",
   "metadata": {},
   "outputs": [],
   "source": [
    "def rshp(row):\n",
    "    return row.reshape(28,28)"
   ]
  },
  {
   "cell_type": "code",
   "execution_count": 12,
   "id": "084d6540-4f85-4817-9043-33406de63270",
   "metadata": {},
   "outputs": [
    {
     "ename": "NameError",
     "evalue": "name 'df_train' is not defined",
     "output_type": "error",
     "traceback": [
      "\u001b[0;31m---------------------------------------------------------------------------\u001b[0m",
      "\u001b[0;31mNameError\u001b[0m                                 Traceback (most recent call last)",
      "Cell \u001b[0;32mIn[12], line 1\u001b[0m\n\u001b[0;32m----> 1\u001b[0m xtrain \u001b[38;5;241m=\u001b[39m np\u001b[38;5;241m.\u001b[39mapply_along_axis(rshp,axis\u001b[38;5;241m=\u001b[39m\u001b[38;5;241m1\u001b[39m,arr\u001b[38;5;241m=\u001b[39mnp\u001b[38;5;241m.\u001b[39marray(\u001b[43mdf_train\u001b[49m\u001b[38;5;241m.\u001b[39miloc[:,\u001b[38;5;241m1\u001b[39m:]))\n\u001b[1;32m      2\u001b[0m xtest  \u001b[38;5;241m=\u001b[39m np\u001b[38;5;241m.\u001b[39mapply_along_axis(rshp,axis\u001b[38;5;241m=\u001b[39m\u001b[38;5;241m1\u001b[39m,arr\u001b[38;5;241m=\u001b[39mnp\u001b[38;5;241m.\u001b[39marray(df_test\u001b[38;5;241m.\u001b[39miloc[:,\u001b[38;5;241m1\u001b[39m:]))\n\u001b[1;32m      3\u001b[0m ytrain \u001b[38;5;241m=\u001b[39m np\u001b[38;5;241m.\u001b[39marray(df_train\u001b[38;5;241m.\u001b[39mlabel)\n",
      "\u001b[0;31mNameError\u001b[0m: name 'df_train' is not defined"
     ]
    }
   ],
   "source": [
    "xtrain = np.apply_along_axis(rshp,axis=1,arr=np.array(df_train.iloc[:,1:]))\n",
    "xtest  = np.apply_along_axis(rshp,axis=1,arr=np.array(df_test.iloc[:,1:]))\n",
    "ytrain = np.array(df_train.label)\n",
    "ytest  = np.array(df_test.label)"
   ]
  },
  {
   "cell_type": "markdown",
   "id": "8377738e-c306-45d0-a464-81ac1b3eceed",
   "metadata": {},
   "source": [
    "아래는 데이터에 대한 설명이다. \n",
    "\n",
    "- 전체의 이미지의 수는 70000개이며, 60000개의 이미지 ${\\tt xtrain}$에 10000개의 이미지는 ${\\tt xtest}$에 저장되어 있다. \n",
    "- 이미지에 대한 라벨은 각각 ${\\tt ytrain}$과 $\\tt ytest$에 저장되어 있다. 따라서 $\\tt ytrain$에는 60000개의 이미지에 해당하는 라벨이, $\\tt ytest$에는 10000개의 이미지에 해당하는 라벨이 기록되어 있다. \n",
    "- 보통 분석에서는 60000개의 이미지를 가지고 라벨을 맞추는 \"훈련\"을 하고 (${\\tt xtrain}$을 이용하여 ${\\tt ytrain}$을 맞추는 방법을 학습하고), 그러한 훈련이 잘 되었는지 10000개의 이미지를 이용하여 \"테스트\"한다. \n",
    "- 위와 같은 의미로 $({\\tt xtrain}, {\\tt ytrain})$ 을 training data set, $({\\tt xtest},{\\tt ytest})$ 를 test data set 이라고 부른다. (ref: [위키참고](https://en.wikipedia.org/wiki/Training,_validation,_and_test_data_sets))"
   ]
  },
  {
   "cell_type": "markdown",
   "id": "8c5733e6-900e-471a-b1d0-acd85bf6fec8",
   "metadata": {},
   "source": [
    "아래는 이미지자료와 시각화에 대한 설명이다. \n",
    "\n",
    "- 각 이미지는 (28,28) 픽셀의 흑백이미지이다. 따라서 각 이미지는 (28,28,3) 이 아니라 (28,28) 의 shape을 가진 텐서로 구성되어있다. \n",
    "- 흑백이미지를 시각화 하기 위해서는 `plt.imshow(img, cmap='gray')`를 이용한다. 여기에서 ${\\tt img}$은 임의의 2차원 텐서이며 이 예제의 경우 (28,28)의 shape을 가진다. "
   ]
  },
  {
   "cell_type": "markdown",
   "id": "52fa47ed-426a-44c2-bb36-f05154696b43",
   "metadata": {},
   "source": [
    "아래는 ${\\tt xtrain}$의 두번째 이미지, 즉 ${\\tt xtrain[1,:,:]}$를 확인하는 코드의 예시이다. "
   ]
  },
  {
   "cell_type": "code",
   "execution_count": 141,
   "id": "c0adfcce-30b0-4b0d-a8e7-cf1f5928103f",
   "metadata": {},
   "outputs": [
    {
     "data": {
      "text/plain": [
       "<matplotlib.image.AxesImage at 0x7f4552a11df0>"
      ]
     },
     "execution_count": 141,
     "metadata": {},
     "output_type": "execute_result"
    },
    {
     "data": {
      "image/png": "[encoded data removed]",
      "text/plain": [
       "<Figure size 432x288 with 1 Axes>"
      ]
     },
     "metadata": {
      "needs_background": "light"
     },
     "output_type": "display_data"
    }
   ],
   "source": [
    "# plt.imshow(xtrain[1,:,:],cmap='gray')\n",
    "plt.imshow(xtrain[1],cmap='gray') ## 같은코드임"
   ]
  },
  {
   "cell_type": "markdown",
   "id": "abeeb94f-5a64-4f8a-9e9f-2a9089e8419a",
   "metadata": {},
   "source": [
    "이 이미지에 대한 label은 ${\\tt ytrain[1]}$의 값으로 확인가능하다. "
   ]
  },
  {
   "cell_type": "code",
   "execution_count": 142,
   "id": "b5a3bad7-c9c1-479d-85b9-2e6c802ddfee",
   "metadata": {},
   "outputs": [
    {
     "data": {
      "text/plain": [
       "9"
      ]
     },
     "execution_count": 142,
     "metadata": {},
     "output_type": "execute_result"
    }
   ],
   "source": [
    "ytrain[1]"
   ]
  },
  {
   "cell_type": "markdown",
   "id": "57f236ce-bf5a-415a-8e3c-a54f52d545ef",
   "metadata": {},
   "source": [
    "이미지와 라벨을 한번에 표현하는 코드는 아래와 같이 작성가능하다. "
   ]
  },
  {
   "cell_type": "code",
   "execution_count": 143,
   "id": "0c116c43-1ed7-4421-80a5-94f940211821",
   "metadata": {},
   "outputs": [
    {
     "data": {
      "image/png": "[encoded data removed]",
      "text/plain": [
       "<Figure size 432x288 with 1 Axes>"
      ]
     },
     "metadata": {
      "needs_background": "light"
     },
     "output_type": "display_data"
    }
   ],
   "source": [
    "plt.imshow(xtrain[1],cmap='gray')\n",
    "plt.title('label={}'.format(ytrain[1]));"
   ]
  },
  {
   "cell_type": "markdown",
   "id": "5d3fbe66-61fa-4d42-81d2-18ca7cab94fd",
   "metadata": {},
   "source": [
    "여기에서 9가 의미하는 것은 'Ankel boot'이며, 다른 숫자가 의미하는 것은 각각 아래와 같다. "
   ]
  },
  {
   "cell_type": "code",
   "execution_count": 145,
   "id": "2e6f9679-cb03-4e19-871c-93fd5cb46ef6",
   "metadata": {},
   "outputs": [],
   "source": [
    "labels= {0:'T-shirt/top', \n",
    "         1:'Trouser', \n",
    "         2:'Pullover', \n",
    "         3:'Dress', \n",
    "         4:'Coat', \n",
    "         5:'Sandal', \n",
    "         6:'Shirt', \n",
    "         7:'Sneaker', \n",
    "         8:'Bag', \n",
    "         9:'Ankel boot'} "
   ]
  },
  {
   "cell_type": "markdown",
   "id": "86a37d0a-7e4e-4845-8623-4eb7719c2b39",
   "metadata": {},
   "source": [
    "아래는 ${\\tt xtrain}$의 처음 10개의 이미지를 라벨과 함께 출력하는 코드이다. "
   ]
  },
  {
   "cell_type": "code",
   "execution_count": 223,
   "id": "30c5af65-e6a8-46a6-aa37-21521761ae84",
   "metadata": {},
   "outputs": [
    {
     "data": {
      "image/png": "[encoded data removed]",
      "text/plain": [
       "<Figure size 720x360 with 10 Axes>"
      ]
     },
     "metadata": {
      "needs_background": "light"
     },
     "output_type": "display_data"
    }
   ],
   "source": [
    "fig, ax = plt.subplots(2,5,figsize=(10,5))\n",
    "\n",
    "ax[0][0].imshow(xtrain[0],cmap='gray'); ax[0][0].set_title('label={}'.format(labels[ytest[0]]));\n",
    "ax[0][1].imshow(xtrain[1],cmap='gray'); ax[0][1].set_title('label={}'.format(labels[ytest[1]]));\n",
    "ax[0][2].imshow(xtrain[2],cmap='gray'); ax[0][2].set_title('label={}'.format(labels[ytest[2]]));\n",
    "ax[0][3].imshow(xtrain[3],cmap='gray'); ax[0][3].set_title('label={}'.format(labels[ytest[3]]));\n",
    "ax[0][4].imshow(xtrain[4],cmap='gray'); ax[0][4].set_title('label={}'.format(labels[ytest[4]]));\n",
    "\n",
    "ax[1][0].imshow(xtrain[5],cmap='gray'); ax[1][0].set_title('label={}'.format(labels[ytest[5]]));\n",
    "ax[1][1].imshow(xtrain[6],cmap='gray'); ax[1][1].set_title('label={}'.format(labels[ytest[6]]));\n",
    "ax[1][2].imshow(xtrain[7],cmap='gray'); ax[1][2].set_title('label={}'.format(labels[ytest[7]]));\n",
    "ax[1][3].imshow(xtrain[8],cmap='gray'); ax[1][3].set_title('label={}'.format(labels[ytest[8]]));\n",
    "ax[1][4].imshow(xtrain[9],cmap='gray'); ax[1][4].set_title('label={}'.format(labels[ytest[9]]));\n",
    "\n",
    "fig.tight_layout()"
   ]
  },
  {
   "cell_type": "markdown",
   "id": "e7662409-20a9-4296-bd38-393093fe5531",
   "metadata": {},
   "source": [
    "---"
   ]
  },
  {
   "cell_type": "markdown",
   "id": "c1593fba-d7c3-4673-a509-7c16bf3f3f81",
   "metadata": {},
   "source": [
    "`(1)` ${\\tt xtrain}$에서 각 라벨에 대한 평균이미지를 계산하고 계산결과를 ${\\tt imgmean}$에 길이가 10인 `list`로 저장하라. 즉 ${\\tt imgmean}$은 아래와 같은 자료구조를 가지고 있어야 한다. \n",
    "\n",
    "- ${\\tt imgmean}=\\big[{\\tt imgmean[0]},\\dots, {\\tt imgmean[9]}\\big]$ \n",
    "- ${\\tt imgmean[0]}, \\dots, {\\tt imgmean[9]}$ 는 각각 (28,28)의 shape을 가진 numpy array \n",
    "- ${\\tt imgmean[0]}, \\dots, {\\tt imgmean[9]}$ 는 각각 숫자 0,1, ..., 9의 평균이미지를 의미"
   ]
  },
  {
   "cell_type": "markdown",
   "id": "ff1c007e-bc92-4f2c-87a6-3f91b9b37529",
   "metadata": {},
   "source": [
    "${\\tt imgmean[0]},\\dots, {\\tt imgmean[9]}$를 시각화 하라. 시각화예시는 아래와 같다. "
   ]
  },
  {
   "cell_type": "code",
   "execution_count": 237,
   "id": "97a677ba-48a6-44f5-9930-78f453d969e8",
   "metadata": {},
   "outputs": [
    {
     "data": {
      "image/png": "[encoded data removed]",
      "text/plain": [
       "<Figure size 720x360 with 10 Axes>"
      ]
     },
     "metadata": {
      "needs_background": "light"
     },
     "output_type": "display_data"
    }
   ],
   "source": [
    "# 시각화예시"
   ]
  },
  {
   "cell_type": "markdown",
   "id": "21fba240-e61d-4fc5-aa48-a8d17b02bcc0",
   "metadata": {},
   "source": [
    "**note**: 그림에 대한 라벨은 시각화 하지 않아도 무방하다. (감점없음) "
   ]
  },
  {
   "cell_type": "markdown",
   "id": "deab9375-8f8a-4c16-8281-d81458c3fbc0",
   "metadata": {},
   "source": [
    "`(2)` 아래와 같은 numpy array 를 생성하라. \n",
    "\n",
    "$${\\tt loss}= \n",
    "\\begin{bmatrix} \n",
    "{\\tt loss[0,0]} & \\dots & {\\tt loss[0,9]} \\\\ \n",
    "{\\tt loss[1,0]} & \\dots & {\\tt loss[1,9]} \\\\ \n",
    "\\dots & \\dots &  \\dots \\\\ \n",
    "{\\tt loss[59999,0]}& \\dots &{\\tt loss[59999,9]} \\\\ \n",
    "\\end{bmatrix}$$\n",
    "\n",
    "여기에서 \n",
    "\n",
    "$${\\tt loss[i,j]} = \\frac{1}{28\\times 28} \\sum_{p=0}^{27}\\sum_{q=0}^{27}\\big({\\tt xtrain[i,p,q]}-{\\tt imgmean[j][p,q]}\\big)^2$$\n",
    "\n",
    "이다. 이제 ${\\tt loss}$에서 \"최소값을 가지는 원소의 인덱스를 출력\"하는 함수를 행별로 적용해 이미지를 분류하라. 예를들어 모든 $j=0,1,\\dots,9$ 에 대하여 아래를 계산한 결과 \n",
    "\n",
    "$$\\frac{1}{28\\times 28} \\sum_{p=0}^{27}\\sum_{q=0}^{27}\\big({\\tt xtrain[1,p,q]}-{\\tt imgmean[j][p,q]}\\big)^2$$\n",
    "\n",
    "$j=9$일 경우 그 값이 가장 작다면 ${\\tt xtrain[1]}$ 이미지는 9번으로 분류한다. 분류한 결과와 실제 라벨 ${\\tt ytrain}$을 비교하라. 얼마나 많은 결과가 일치하는지 비율을 계산하라. "
   ]
  },
  {
   "cell_type": "markdown",
   "id": "591e565b-a4a5-4eb5-bfc9-14cea06d1e1e",
   "metadata": {},
   "source": [
    "`(3)` ${\\tt xtrain}$에서 학습한 평균이미지 ${\\tt imgmean}$를 바탕으로 ${\\tt xtest}$의 1번라벨에 해당하는 이미지만을 분류하라. 아래의 물음에 답하라. \n",
    "\n",
    "- 1번라벨에 해당하는 이미지를 0번라벨로 분류한 경우는 모두 몇건인가? (잘못된 분류) \n",
    "- 1번라벨에 해당하는 이미지를 1번라벨로 분류한 경우는 모두 몇건인가? (올바른 분류)\n",
    "- $\\dots$\n",
    "- 1번라벨에 해당하는 이미지를 9번라벨로 분류한 경우는 모두 몇건인가? (잘못된 분류)"
   ]
  },
  {
   "cell_type": "markdown",
   "id": "faf225f5-dcc5-49dc-a4e0-4d80a1d79da9",
   "metadata": {},
   "source": [
    "**hint**: 아래와 같은 결과를 주는 dictionary를 만들면 된다. \n",
    "\n",
    "```\n",
    "{0: 28, 1: 895, 2: 11, 3: 36, 4: 8, 5: 12, 6: 10, 7: 0, 8: 0, 9: 0}\n",
    "```\n",
    "\n",
    "- 1번라벨에 해당하는 이미지를 0번라벨로 분류한 경우는 모두 28건\n",
    "- 1번라벨에 해당하는 이미지를 1번라벨로 분류한 경우는 모두 895건\n",
    "- $\\dots$\n",
    "- 1번라벨에 해당하는 이미지를 9번라벨로 분류한 경우는 모두 0건 \n"
   ]
  },
  {
   "cell_type": "markdown",
   "id": "44cb4361-2dd4-4679-89bb-8e2a6798adce",
   "metadata": {},
   "source": [
    "`(4)` ${\\tt xtest}$의 이미지를 올바르게 분류한 비율을 카테고리별로 정리하라. \n",
    "\n",
    "``` \n",
    "### 출력예시\n",
    "\n",
    "{'T-shirt/top': 0.7,\n",
    " 'Trouser': 0.895,\n",
    " 'Pullover': 0.496,\n",
    " 'Dress': 0.802,\n",
    " 'Coat': 0.599,\n",
    " 'Sandal': 0.757,\n",
    " 'Shirt': 0.202,\n",
    " 'Sneaker': 0.794,\n",
    " 'Bag': 0.761,\n",
    " 'Ankel boot': 0.851}\n",
    "```"
   ]
  },
  {
   "cell_type": "markdown",
   "id": "70f7cb79-ad4a-4bc0-8b92-d9595a6b7993",
   "metadata": {},
   "source": [
    "# 3. 파이썬의 설치 (5점)\n",
    "\n",
    "다음을 읽고 파이썬과 가상환경에 대하여 올바른 진술을 한 사람을 모두 골라라. (모두 맞출 경우만 정답으로 인정함) \n",
    "\n",
    "**민정**: 구글코랩은 사용자의 컴퓨터에 설치된 아나콘다를 기반으로 동작하며, 실제적으로는 사용자의 ipython과 크롬과의 통신만을 담당한다. 따라서 구글코랩은 반드시 파이썬만 연결하여 사용가능하지 않으며 실제로 구글코랩에 R을 연결하여 사용하기도 한다. \n",
    "\n",
    "**구환**: 아래와 같이 스크립트로 구성되 `mysum.py`와 같은 파이썬파일을 실행하기 위해서는 반드시 ipython 이나 주피터랩이 설치된 상태이어야 한다. \n",
    "\n",
    "```Python\n",
    "## mysum.py\n",
    "total = 0 \n",
    "for i in range(1,11): \n",
    "    total = total + i\n",
    "print(total)\n",
    "```\n",
    "\n",
    "**슬기**: 아나콘다를 이용하여 가상환경을 만들 경우 두 가지버전 이상의 python을 동시에 관리할 수 있다. \n",
    "\n",
    "**승민**: 아래와 같이 `myfuns.py` 파일을 구성하였다고 하자. \n",
    "\n",
    "```Python\n",
    "# myfuns.py\n",
    "def vec2_add(a,b): \n",
    "    return [a[0]+b[0], a[1]+b[1]]\n",
    "```\n",
    "\n",
    "이 경우 아래와 같이 임의의 주피터 노트북에서 `myfuns`를 임포트하면 `vec2_add` 함수를 사용할 수 있다. \n",
    "\n",
    "```Python\n",
    "import myfuns\n",
    "```\n",
    "\n",
    "단, 여기에서 `myfuns.py`는 현재 실행중인 노트북과 같은 폴더에 있다고 가정한다. "
   ]
  }
 ],
 "metadata": {
  "kernelspec": {
   "display_name": "Python 3",
   "language": "python",
   "name": "python3"
  },
  "language_info": {
   "codemirror_mode": {
    "name": "ipython",
    "version": 3
   },
   "file_extension": ".py",
   "mimetype": "text/x-python",
   "name": "python",
   "nbconvert_exporter": "python",
   "pygments_lexer": "ipython3",
   "version": "3.8.16"
  }
 },
 "nbformat": 4,
 "nbformat_minor": 5
}
