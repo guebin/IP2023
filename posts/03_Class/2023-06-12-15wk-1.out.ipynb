{
  "cells": [
    {
      "cell_type": "markdown",
      "metadata": {},
      "source": [
        "# 15wk-1: 클래스공부 5단계 – 상속\n",
        "\n",
        "최규빈  \n",
        "2023-06-12\n",
        "\n",
        "<a href=\"https://colab.research.google.com/github/guebin/PP2023/blob/main/posts/03_Class/2023-06-12-15wk-1.ipynb\"><img src=\"https://colab.research.google.com/assets/colab-badge.svg\" style=\"text-align: left\"></a>\n",
        "\n",
        "# 강의영상\n",
        "\n",
        "> youtube:\n",
        "> <https://youtube.com/playlist?list=PLQqh36zP38-zY0ccMvo01wQXc1Ht9H2TA>\n",
        "\n",
        "# 클래스공부 5단계: 상속\n",
        "\n",
        "## 상속의 사용방법\n",
        "\n",
        "`-` 클래스를 조금 수정하고 싶을때, 아래와 같은 문법을 이용하면 편리하다.\n",
        "\n",
        "``` python\n",
        "class 새로운_클래스_이름(수정할_클래스_이름): \n",
        "    def 수정_및_추가할_함수이름(self,...):\n",
        "        ...\n",
        "```\n",
        "\n",
        "## 간단한 사용예시"
      ],
      "id": "61211ae7-14b6-4d10-9617-5657010d1cbb"
    },
    {
      "cell_type": "code",
      "execution_count": 341,
      "metadata": {
        "tags": []
      },
      "outputs": [],
      "source": [
        "class Init:\n",
        "    def __init__(self,value):\n",
        "        ## 여기는 Init 클래스야 \n",
        "        print(\"Init클래스에서 정의된 __init__메소드를 실행합니다\")        \n",
        "        self.value = value"
      ],
      "id": "afe7e37f-ebb2-4a14-b9c1-7199385ab206"
    },
    {
      "cell_type": "code",
      "execution_count": 342,
      "metadata": {
        "tags": []
      },
      "outputs": [],
      "source": [
        "class Show(Init):\n",
        "    def show(self):\n",
        "        ## 여기는 Show 클래스야\n",
        "        print(\"Show클래스에서 정의된 show메소드를 실행합니다\")\n",
        "        print('value={}'.format(self.value))"
      ],
      "id": "b54dc947-0b8b-42a4-aa53-7856e43ea29a"
    },
    {
      "cell_type": "code",
      "execution_count": 344,
      "metadata": {},
      "outputs": [
        {
          "output_type": "stream",
          "name": "stdout",
          "text": [
            "Init클래스에서 정의된 __init__메소드를 실행합니다"
          ]
        }
      ],
      "source": [
        "a = Show(5)"
      ],
      "id": "70b3148d-7529-4e9a-9226-a174416f9409"
    },
    {
      "cell_type": "code",
      "execution_count": 345,
      "metadata": {},
      "outputs": [
        {
          "output_type": "stream",
          "name": "stdout",
          "text": [
            "Show클래스에서 정의된 show메소드를 실행합니다\n",
            "value=5"
          ]
        }
      ],
      "source": [
        "a.show()"
      ],
      "id": "185c3a25-376c-431e-8c72-dcd5ecf51c50"
    },
    {
      "cell_type": "code",
      "execution_count": 346,
      "metadata": {},
      "outputs": [],
      "source": [
        "a.show??"
      ],
      "id": "f3933cc8-6155-4547-bfe3-e0fc2a48f36e"
    },
    {
      "cell_type": "code",
      "execution_count": 347,
      "metadata": {},
      "outputs": [],
      "source": [
        "a.__init__??"
      ],
      "id": "a0388baa-53bd-4c73-826a-b76d6d6d20cd"
    },
    {
      "cell_type": "markdown",
      "metadata": {},
      "source": [
        "## 슈퍼클래스 메소드 재활용\n",
        "\n",
        "`-` 방법1: 직접 슈퍼클래스 명시"
      ],
      "id": "8fb4c5fe-fba7-494f-9aac-90f743165297"
    },
    {
      "cell_type": "code",
      "execution_count": 348,
      "metadata": {},
      "outputs": [],
      "source": [
        "class Deco(Show):\n",
        "    def __init__(self,value):\n",
        "        ## 여기는 Deco클래스야~\n",
        "        print(\"짜라란~~\")\n",
        "        Show.__init__(self,value)\n",
        "        print(\"짠짠~!!\")"
      ],
      "id": "a1e90845-9f91-4baa-be90-05ce21720448"
    },
    {
      "cell_type": "code",
      "execution_count": 349,
      "metadata": {},
      "outputs": [
        {
          "output_type": "stream",
          "name": "stdout",
          "text": [
            "짜라란~~\n",
            "Init클래스에서 정의된 __init__메소드를 실행합니다\n",
            "짠짠~!!"
          ]
        }
      ],
      "source": [
        "a=Deco(5)"
      ],
      "id": "1639491f-9e97-4cf4-bf3d-2e502751c8ce"
    },
    {
      "cell_type": "code",
      "execution_count": 354,
      "metadata": {},
      "outputs": [],
      "source": [
        "a.show??"
      ],
      "id": "6707a1ea-a132-4f63-9d2d-0b6effdcab84"
    },
    {
      "cell_type": "code",
      "execution_count": 353,
      "metadata": {},
      "outputs": [],
      "source": [
        "a.__init__??"
      ],
      "id": "3a982e2f-6f95-447f-a9c6-f22aef03dbd4"
    },
    {
      "cell_type": "markdown",
      "metadata": {},
      "source": [
        "`-` 방법2: super() 이용 (생략안한버전)"
      ],
      "id": "ff3b4b82-79d1-48f8-8b05-4270e6c239ef"
    },
    {
      "cell_type": "code",
      "execution_count": 361,
      "metadata": {},
      "outputs": [],
      "source": [
        "class Deco(Show):\n",
        "    def __init__(self,value):\n",
        "        ## 여기는 Deco클래스야~\n",
        "        print(\"짜라란~~\")\n",
        "        super(Deco,self).__init__(value)\n",
        "        print(\"짠짠~!!\")"
      ],
      "id": "a2012c24-0438-4b46-8606-e0c7e43c4330"
    },
    {
      "cell_type": "code",
      "execution_count": 362,
      "metadata": {},
      "outputs": [
        {
          "output_type": "stream",
          "name": "stdout",
          "text": [
            "짜라란~~\n",
            "Init클래스에서 정의된 __init__메소드를 실행합니다\n",
            "짠짠~!!"
          ]
        }
      ],
      "source": [
        "a=Deco(5)"
      ],
      "id": "056c7793-73bd-40c2-8107-39cca9cc7f29"
    },
    {
      "cell_type": "code",
      "execution_count": 363,
      "metadata": {},
      "outputs": [],
      "source": [
        "a.show??"
      ],
      "id": "355cbe43-6cae-430a-8f1a-4eef78409208"
    },
    {
      "cell_type": "code",
      "execution_count": 364,
      "metadata": {},
      "outputs": [],
      "source": [
        "a.__init__??"
      ],
      "id": "129a7781-f874-4afc-a718-489786053949"
    },
    {
      "cell_type": "markdown",
      "metadata": {},
      "source": [
        "`-` 방법3: super() 이용 (생략한버젼) \\<– 이렇게 쓰세요!"
      ],
      "id": "a51d014a-bf70-4990-bd4f-92c53bfb6638"
    },
    {
      "cell_type": "code",
      "execution_count": 379,
      "metadata": {},
      "outputs": [],
      "source": [
        "class Deco(Show):\n",
        "    def __init__(self,value):\n",
        "        ## 여기는 Deco클래스야~\n",
        "        print(\"짜라란~~\")\n",
        "        super().__init__(value)\n",
        "        print(\"짠짠~!!\")"
      ],
      "id": "7078e281-93fc-4f99-9e5f-52edd2a49bf5"
    },
    {
      "cell_type": "code",
      "execution_count": 366,
      "metadata": {},
      "outputs": [
        {
          "output_type": "stream",
          "name": "stdout",
          "text": [
            "짜라란~~\n",
            "Init클래스에서 정의된 __init__메소드를 실행합니다\n",
            "짠짠~!!"
          ]
        }
      ],
      "source": [
        "a=Deco(5)"
      ],
      "id": "fae6bcae-9da7-4f0d-a98e-b46dd8bc8dbc"
    },
    {
      "cell_type": "code",
      "execution_count": 367,
      "metadata": {},
      "outputs": [],
      "source": [
        "a.show??"
      ],
      "id": "6778eef2-43a8-4255-b425-146c3e1d6dcc"
    },
    {
      "cell_type": "code",
      "execution_count": 368,
      "metadata": {},
      "outputs": [],
      "source": [
        "a.__init__??"
      ],
      "id": "8d6ee300-6546-44c9-956c-e49d34f2879b"
    },
    {
      "cell_type": "markdown",
      "metadata": {},
      "source": [
        "`-` 방법4: super() 이용, 방법3을 이해하기 위한 코드"
      ],
      "id": "a3912d8d-5b61-4c98-acf8-a34f939e8215"
    },
    {
      "cell_type": "code",
      "execution_count": 375,
      "metadata": {},
      "outputs": [],
      "source": [
        "class Deco(Show):\n",
        "    def __init__(self,value):\n",
        "        ## 여기는 Deco클래스야~\n",
        "        print(\"짜라란~~\")\n",
        "        super(__class__,self).__init__(value)\n",
        "        print(\"짠짠~!!\")"
      ],
      "id": "0ceefcfa-0615-436d-8326-f4dad706cdc6"
    },
    {
      "cell_type": "code",
      "execution_count": 376,
      "metadata": {},
      "outputs": [
        {
          "output_type": "stream",
          "name": "stdout",
          "text": [
            "짜라란~~\n",
            "Init클래스에서 정의된 __init__메소드를 실행합니다\n",
            "짠짠~!!"
          ]
        }
      ],
      "source": [
        "a=Deco(5)"
      ],
      "id": "a03210ae-4236-4869-a397-81e323c982e3"
    },
    {
      "cell_type": "code",
      "execution_count": 377,
      "metadata": {},
      "outputs": [],
      "source": [
        "a.show??"
      ],
      "id": "623515cf-07d8-4a99-b35e-7c59840c3458"
    },
    {
      "cell_type": "code",
      "execution_count": 378,
      "metadata": {},
      "outputs": [],
      "source": [
        "a.__init__??"
      ],
      "id": "7d488a93-b8f3-4363-b0d1-a8bcfccf540d"
    },
    {
      "cell_type": "markdown",
      "metadata": {},
      "source": [
        "`-` 이때 방법2-4는 완전히 동일한 코드이다, 방법1-4는 이 예제에서\n",
        "같은효과이다.\n",
        "\n",
        "## 다중상속\n",
        "\n",
        "### ***일반적인 다중상속***\n",
        "\n",
        "`-` Add 클래스선언"
      ],
      "id": "74430786-991c-4309-b532-4cd5c436f8d2"
    },
    {
      "cell_type": "code",
      "execution_count": 380,
      "metadata": {},
      "outputs": [],
      "source": [
        "class Add:\n",
        "    def __init__(self,value):\n",
        "        self.value = value \n",
        "    def __add__(self,value2):\n",
        "        return self.value + value2"
      ],
      "id": "2d4f44dd-05cd-41bf-843e-edc5b979862a"
    },
    {
      "cell_type": "code",
      "execution_count": 381,
      "metadata": {},
      "outputs": [],
      "source": [
        "a=Add(2)"
      ],
      "id": "8e19d7af-4460-4a7c-bb0c-d26af7fee51f"
    },
    {
      "cell_type": "code",
      "execution_count": 382,
      "metadata": {},
      "outputs": [],
      "source": [
        "a+5"
      ],
      "id": "ab7535e3-5fac-4001-93dc-0a0cb670463d"
    },
    {
      "cell_type": "code",
      "execution_count": 384,
      "metadata": {},
      "outputs": [],
      "source": [
        "a*2 # 곱하기는 정의한적없음"
      ],
      "id": "90365133-4c55-4633-acd8-caa87655bc85"
    },
    {
      "cell_type": "markdown",
      "metadata": {},
      "source": [
        "`-` Mul 클래스선언"
      ],
      "id": "e5917633-2d81-4229-8c67-70b0437c68da"
    },
    {
      "cell_type": "code",
      "execution_count": 386,
      "metadata": {},
      "outputs": [],
      "source": [
        "class Mul:\n",
        "    def __init__(self,value):\n",
        "        self.value = value \n",
        "    def __mul__(self,value2):\n",
        "        return self.value * value2"
      ],
      "id": "610ec7e7-717b-4da5-bad6-e3519e1c4fbd"
    },
    {
      "cell_type": "code",
      "execution_count": 387,
      "metadata": {},
      "outputs": [],
      "source": [
        "a = Mul(5)\n",
        "a.value"
      ],
      "id": "a3fa0688-30be-4acd-906d-ab5c02d7e9f4"
    },
    {
      "cell_type": "code",
      "execution_count": 391,
      "metadata": {},
      "outputs": [],
      "source": [
        "a+2 #정의한적 없음"
      ],
      "id": "a3ccd029-b254-494a-a14b-c4e52dc369a7"
    },
    {
      "cell_type": "code",
      "execution_count": 390,
      "metadata": {},
      "outputs": [],
      "source": [
        "a*2 "
      ],
      "id": "e6474331-9c47-4048-9cfe-2b80ee6ebdb4"
    },
    {
      "cell_type": "markdown",
      "metadata": {},
      "source": [
        "`-` AddMul 클래스를 선언 (기존의 Add, Mul 상속받아서 이용)"
      ],
      "id": "69d94e73-bdd9-4432-a6c0-5c38436103a4"
    },
    {
      "cell_type": "code",
      "execution_count": 392,
      "metadata": {},
      "outputs": [],
      "source": [
        "class AddMul(Add,Mul):\n",
        "    pass "
      ],
      "id": "e686fa69-0636-4350-a470-a2517ad534be"
    },
    {
      "cell_type": "code",
      "execution_count": 393,
      "metadata": {},
      "outputs": [],
      "source": [
        "a = AddMul(5)\n",
        "a.value"
      ],
      "id": "30324b4b-4e9e-463c-8cf1-74bc1b2636b1"
    },
    {
      "cell_type": "code",
      "execution_count": 394,
      "metadata": {},
      "outputs": [],
      "source": [
        "a+2"
      ],
      "id": "90885545-18aa-49d4-a6f0-5deaefb17488"
    },
    {
      "cell_type": "code",
      "execution_count": 395,
      "metadata": {},
      "outputs": [],
      "source": [
        "a*5"
      ],
      "id": "3f17a572-7d96-4b68-92f3-b680ab92ca0a"
    },
    {
      "cell_type": "markdown",
      "metadata": {},
      "source": [
        "### ***다중상속 우선순위 (`__init__`이 겹치는뎅?)***"
      ],
      "id": "61029b7c-584a-46ac-8fe0-f6d57b68cc7f"
    },
    {
      "cell_type": "code",
      "execution_count": 401,
      "metadata": {},
      "outputs": [],
      "source": [
        "class Add:\n",
        "    def __init__(self,value):\n",
        "        print(\"Add클래스에서 정의된 __init__ 메소드가 실행됩니다\")\n",
        "        self.value = value \n",
        "    def __add__(self,value2):\n",
        "        return self.value + value2\n",
        "              \n",
        "class Mul:\n",
        "    def __init__(self,value):\n",
        "        print(\"Mul클래스에서 정의된 __init__ 메소드가 실행됩니다\")        \n",
        "        self.value = value \n",
        "    def __mul__(self,value2):\n",
        "        return self.value * value2        \n",
        "    \n",
        "class AddMul(Add,Mul):\n",
        "    pass     "
      ],
      "id": "f9aa2c56-659c-442d-b2fa-27d5150dcfa9"
    },
    {
      "cell_type": "code",
      "execution_count": 402,
      "metadata": {},
      "outputs": [
        {
          "output_type": "stream",
          "name": "stdout",
          "text": [
            "Add클래스에서 정의된 __init__ 메소드가 실행됩니다"
          ]
        }
      ],
      "source": [
        "a = AddMul(5)"
      ],
      "id": "86beb292-4dfa-43f7-8b16-fa8143603511"
    },
    {
      "cell_type": "markdown",
      "metadata": {},
      "source": [
        "### ***믹스인 클래스 ($\\star\\star\\star$)***"
      ],
      "id": "fb68efb8-da76-480d-9d6e-54ce99c9e0ec"
    },
    {
      "cell_type": "code",
      "execution_count": 405,
      "metadata": {},
      "outputs": [],
      "source": [
        "class Init:\n",
        "    def __init__(self,value):\n",
        "        ## 여기는 Init 클래스야 \n",
        "        print(\"Init클래스에서 정의된 __init__메소드를 실행합니다\")        \n",
        "        self.value = value\n",
        "\n",
        "class Add(Init):\n",
        "    def __add__(self,value2):\n",
        "        return self.value + value2\n",
        "              \n",
        "class Mul(Init):\n",
        "    def __mul__(self,value2):\n",
        "        return self.value * value2        \n",
        "    \n",
        "class AddMul(Add,Mul):\n",
        "    pass     "
      ],
      "id": "7c777c80-ec24-4866-93fa-c60842ef0a7d"
    },
    {
      "cell_type": "code",
      "execution_count": 406,
      "metadata": {},
      "outputs": [
        {
          "output_type": "stream",
          "name": "stdout",
          "text": [
            "Init클래스에서 정의된 __init__메소드를 실행합니다"
          ]
        }
      ],
      "source": [
        "a = AddMul(5)"
      ],
      "id": "9a996d60-89b0-4f7e-b242-6b73aa18bc56"
    },
    {
      "cell_type": "code",
      "execution_count": 407,
      "metadata": {},
      "outputs": [],
      "source": [
        "a+2"
      ],
      "id": "1dcc4470-e002-4d38-80e2-19e23de1c777"
    },
    {
      "cell_type": "code",
      "execution_count": 408,
      "metadata": {},
      "outputs": [],
      "source": [
        "a*5"
      ],
      "id": "66ac8358-4e5c-4f1c-9350-1b7d124dd916"
    },
    {
      "cell_type": "markdown",
      "metadata": {},
      "source": [
        "## 다중상속시 `super()`의 활용\n",
        "\n",
        "### ***super()를 쓰지 않은 나쁜사용예시***\n",
        "\n",
        "`-` 초기값을 설정하는 클래스 만듬"
      ],
      "id": "d404cfb3-9b76-4be2-b581-396d5a96d47c"
    },
    {
      "cell_type": "code",
      "execution_count": 409,
      "metadata": {},
      "outputs": [],
      "source": [
        "class Init:\n",
        "    def __init__(self,value):\n",
        "        ## 여기는 Init 클래스야 \n",
        "        print(\"Init클래스에서 정의된 __init__메소드를 실행합니다\")        \n",
        "        self.value = value"
      ],
      "id": "a2144da0-ee4d-4036-bdab-aa2c6d2f6548"
    },
    {
      "cell_type": "markdown",
      "metadata": {},
      "source": [
        "`-` init을 상속받아서\n",
        "\n",
        "-   “${\\tt 초기값}= {\\tt 초기값} \\times 2$”\n",
        "-   “${\\tt 초기값}= {\\tt 초기값} + 5$”\n",
        "\n",
        "를 인스턴스 생성과 동시에 수행하는 클래스를 각각 만듦"
      ],
      "id": "2d7aa4a9-9a87-494e-8544-c2b5a1387b6c"
    },
    {
      "cell_type": "code",
      "execution_count": 410,
      "metadata": {},
      "outputs": [],
      "source": [
        "class Times2(Init):\n",
        "    def __init__(self,value):\n",
        "        Init.__init__(self,value)\n",
        "        self.value = self.value * 2"
      ],
      "id": "4b7f652b-eaa5-441d-a675-87ac64c75709"
    },
    {
      "cell_type": "code",
      "execution_count": 411,
      "metadata": {},
      "outputs": [
        {
          "output_type": "stream",
          "name": "stdout",
          "text": [
            "Init클래스에서 정의된 __init__메소드를 실행합니다"
          ]
        }
      ],
      "source": [
        "a=Times2(5)\n",
        "a.value"
      ],
      "id": "e2f11566-aab5-4888-b29d-d17723431bfc"
    },
    {
      "cell_type": "code",
      "execution_count": 412,
      "metadata": {},
      "outputs": [],
      "source": [
        "class Plus5(Init):\n",
        "    def __init__(self,value):\n",
        "        Init.__init__(self,value)\n",
        "        self.value = self.value + 5"
      ],
      "id": "f3d68ad0-01a9-4abe-84a3-664c978be556"
    },
    {
      "cell_type": "code",
      "execution_count": 413,
      "metadata": {},
      "outputs": [
        {
          "output_type": "stream",
          "name": "stdout",
          "text": [
            "Init클래스에서 정의된 __init__메소드를 실행합니다"
          ]
        }
      ],
      "source": [
        "a=Plus5(5)\n",
        "a.value"
      ],
      "id": "7b1e4464-f4f0-475a-af2b-e69b5c4f08a6"
    },
    {
      "cell_type": "markdown",
      "metadata": {},
      "source": [
        "`-` 지나고 보니까 “${\\tt 초기값} = {\\tt 초기값} \\times 2 + 5$” 를\n",
        "인스턴스 생성과 동시에 수행해주는 클래스를 만들고 싶음."
      ],
      "id": "26960b17-70a9-4ba8-a6fc-61cab6d00524"
    },
    {
      "cell_type": "code",
      "execution_count": 425,
      "metadata": {},
      "outputs": [],
      "source": [
        "class Times2Plus5(Times2,Plus5):\n",
        "    def __init__(self,value):\n",
        "        Times2.__init__(self,value)\n",
        "        Plus5.__init__(self,self.value)"
      ],
      "id": "19828979-6cfa-40fd-ad2b-d6fee7da2160"
    },
    {
      "cell_type": "code",
      "execution_count": 426,
      "metadata": {},
      "outputs": [
        {
          "output_type": "stream",
          "name": "stdout",
          "text": [
            "Init클래스에서 정의된 __init__메소드를 실행합니다\n",
            "Init클래스에서 정의된 __init__메소드를 실행합니다"
          ]
        }
      ],
      "source": [
        "a = Times2Plus5(5)"
      ],
      "id": "138380e6-73da-44f9-8577-35589be04cc3"
    },
    {
      "cell_type": "code",
      "execution_count": 427,
      "metadata": {},
      "outputs": [],
      "source": [
        "a.value "
      ],
      "id": "204ec697-148f-4450-9de1-c76a42103298"
    },
    {
      "cell_type": "markdown",
      "metadata": {},
      "source": [
        "`-` 싫은이유1: 코드가 지저분하다.\n",
        "\n",
        "`-` 싫은이유2: 진정한 의미의 상속이 아닌것 같다."
      ],
      "id": "4d19ccfb-9fc0-4ecc-9271-b9ed076c9c88"
    },
    {
      "cell_type": "code",
      "execution_count": 429,
      "metadata": {},
      "outputs": [],
      "source": [
        "class Times2Plus5():\n",
        "    def __init__(self,value):\n",
        "        Times2.__init__(self,value)\n",
        "        Plus5.__init__(self,self.value)"
      ],
      "id": "f0458ce0-de8b-412d-b13f-39bc0fd7d486"
    },
    {
      "cell_type": "code",
      "execution_count": 430,
      "metadata": {},
      "outputs": [
        {
          "output_type": "stream",
          "name": "stdout",
          "text": [
            "Init클래스에서 정의된 __init__메소드를 실행합니다\n",
            "Init클래스에서 정의된 __init__메소드를 실행합니다"
          ]
        }
      ],
      "source": [
        "a = Times2Plus5(5)"
      ],
      "id": "5ca1990e-090f-480d-b3b5-6bc750c1e64c"
    },
    {
      "cell_type": "code",
      "execution_count": 431,
      "metadata": {},
      "outputs": [],
      "source": [
        "a.value "
      ],
      "id": "2bb38b04-043e-45cc-b209-849cbb9d54cf"
    },
    {
      "cell_type": "markdown",
      "metadata": {},
      "source": [
        "### ***super()를 활용한 좋은사용예시***\n",
        "\n",
        "`-` 아키텍처를 아래와 같이 바꾸자"
      ],
      "id": "06499041-af45-4993-8f65-919bc3cf81bd"
    },
    {
      "cell_type": "code",
      "execution_count": 452,
      "metadata": {},
      "outputs": [],
      "source": [
        "class Init(object):\n",
        "    def __init__(self,value):\n",
        "        ## 여기는 Init 클래스야 \n",
        "        print(\"Init클래스에서 정의된 __init__메소드를 실행합니다\")        \n",
        "        self.value = value\n",
        "        \n",
        "class Times2(Init):\n",
        "    def __init__(self,value):\n",
        "        super().__init__(value)\n",
        "        self.value = self.value * 2\n",
        "        \n",
        "class Plus5(Init):\n",
        "    def __init__(self,value):\n",
        "        super().__init__(value)\n",
        "        self.value = self.value + 5\n",
        "        \n",
        "class Times2Plus5(Plus5,Times2):\n",
        "    def __init__(self,value):\n",
        "        super().__init__(value)"
      ],
      "id": "ffe1eb9d-4da3-482c-9de1-f10b1fa189fa"
    },
    {
      "cell_type": "markdown",
      "metadata": {},
      "source": [
        "`-` 써보자"
      ],
      "id": "b328f3d1-3e73-48df-97e9-0c0707e7f487"
    },
    {
      "cell_type": "code",
      "execution_count": 453,
      "metadata": {},
      "outputs": [
        {
          "output_type": "stream",
          "name": "stdout",
          "text": [
            "Init클래스에서 정의된 __init__메소드를 실행합니다"
          ]
        }
      ],
      "source": [
        "a=Times2Plus5(5)"
      ],
      "id": "86116fcd-bd20-4019-a399-c4e1b5bf808b"
    },
    {
      "cell_type": "code",
      "execution_count": 454,
      "metadata": {},
      "outputs": [],
      "source": [
        "a.value"
      ],
      "id": "4120dad1-cf15-46aa-be28-885848ad44c0"
    },
    {
      "cell_type": "code",
      "execution_count": 455,
      "metadata": {},
      "outputs": [],
      "source": [
        "(5*2)+5"
      ],
      "id": "c8f9c35d-00e5-49e1-bd33-b7f9269e78d9"
    },
    {
      "cell_type": "markdown",
      "metadata": {},
      "source": [
        "`-` 이것이 왜 가능?\n",
        "\n",
        "> 원리: mro상으로 상위에 있는 순서대로 타고 올라간 뒤, mro순서대로\n",
        "> 한번씩만 `__init__`을 실행함!!\n",
        "\n",
        "`-` 소감: 코드가 깔끔하긴해 + 진정한 상속의 느낌도 있어 (그렇지만\n",
        "사용하고 싶지는 않음)\n",
        "\n",
        "## `super()`의 사용방법\n",
        "\n",
        "`-` 이제 “$({\\tt 초기값} \\times 2 + 5)\\times 2$” 를 수행해주는 클래스를\n",
        "만들고 싶음."
      ],
      "id": "1ac5da7d-8552-4ebe-83a9-709d0766246a"
    },
    {
      "cell_type": "code",
      "execution_count": 477,
      "metadata": {},
      "outputs": [],
      "source": [
        "class Init(object):\n",
        "    def __init__(self,value):\n",
        "        ## 여기는 Init 클래스야 \n",
        "        print(\"Init클래스에서 정의된 __init__메소드를 실행합니다\")        \n",
        "        self.value = value\n",
        "        \n",
        "class Times2(Init):\n",
        "    def __init__(self,value):\n",
        "        super().__init__(value)\n",
        "        self.value = self.value * 2\n",
        "        \n",
        "class Plus5(Init):\n",
        "    def __init__(self,value):\n",
        "        super().__init__(value)\n",
        "        self.value = self.value + 5\n",
        "        \n",
        "class Times2Plus5Times2(Plus5,Times2):\n",
        "    def __init__(self,value):\n",
        "        super().__init__(value)\n",
        "        super(Plus5,self).__init__(self.value)"
      ],
      "id": "c453a150-8253-48e7-b5e3-d0669adc4bd0"
    },
    {
      "cell_type": "code",
      "execution_count": 478,
      "metadata": {},
      "outputs": [
        {
          "output_type": "stream",
          "name": "stdout",
          "text": [
            "Init클래스에서 정의된 __init__메소드를 실행합니다\n",
            "Init클래스에서 정의된 __init__메소드를 실행합니다"
          ]
        }
      ],
      "source": [
        "a=Times2Plus5Times2(5)"
      ],
      "id": "50a94b67-a56a-48c1-b3be-ded684399898"
    },
    {
      "cell_type": "code",
      "execution_count": 479,
      "metadata": {},
      "outputs": [],
      "source": [
        "a.value"
      ],
      "id": "651e308e-11b2-4909-92ec-ec2860d34e5c"
    },
    {
      "cell_type": "code",
      "execution_count": 480,
      "metadata": {},
      "outputs": [],
      "source": [
        "Times2Plus5Times2.mro()"
      ],
      "id": "0686ac66-f9c0-47fa-9c47-b7b868a6dd54"
    },
    {
      "cell_type": "markdown",
      "metadata": {},
      "source": [
        "`-` 코드해석\n",
        "\n",
        "-   `super().__init__(value)` 은 `Times2Plus5Times2`의 MRO순서로 상위인\n",
        "    클래스 `Init`,`Times2`,`Plus` 의 `__init__`을 순서대로 실행하되\n",
        "    중복실행은 하지 않음.\n",
        "-   `super(Plus5,self).__init__(self.value)` 은 `Plus5`보다 MRO순서로\n",
        "    상위인 클래스 `Init,Times2` 의 `__init__`을 순서대로 실행하되\n",
        "    중복실행은 하지 않음.\n",
        "\n",
        "`-` 그냥 이게 낫지 않나?"
      ],
      "id": "68c2cb95-fe6e-4a0d-9de1-68a026e97d20"
    },
    {
      "cell_type": "code",
      "execution_count": 486,
      "metadata": {},
      "outputs": [],
      "source": [
        "class Init(object):\n",
        "    def __init__(self,value):\n",
        "        ## 여기는 Init 클래스야 \n",
        "        print(\"Init클래스에서 정의된 __init__메소드를 실행합니다\")        \n",
        "        self.value = value\n",
        "        \n",
        "class Times2(Init):\n",
        "    def times2(self):\n",
        "        self.value = self.value * 2\n",
        "        \n",
        "class Plus5(Init):\n",
        "    def plus5(self):\n",
        "        self.value = self.value + 5\n",
        "        \n",
        "class Times2Plus5Times2(Plus5,Times2):\n",
        "    def times2plus5times2(self):\n",
        "        self.times2()\n",
        "        self.plus5()\n",
        "        self.times2()"
      ],
      "id": "a22a1939-abf8-4c50-980f-7718adb7fa09"
    },
    {
      "cell_type": "code",
      "execution_count": 487,
      "metadata": {},
      "outputs": [
        {
          "output_type": "stream",
          "name": "stdout",
          "text": [
            "Init클래스에서 정의된 __init__메소드를 실행합니다"
          ]
        }
      ],
      "source": [
        "a = Times2Plus5Times2(5)"
      ],
      "id": "68baa8be-aece-45d4-a044-397d22809a76"
    },
    {
      "cell_type": "code",
      "execution_count": 488,
      "metadata": {},
      "outputs": [],
      "source": [
        "a.times2plus5times2()"
      ],
      "id": "57ef5c19-131d-40d7-8ef7-ec1fc9fe7ede"
    },
    {
      "cell_type": "code",
      "execution_count": 489,
      "metadata": {},
      "outputs": [],
      "source": [
        "a.value"
      ],
      "id": "f7db2336-ea31-4b31-b1e1-bf2f7e7de97d"
    },
    {
      "cell_type": "markdown",
      "metadata": {},
      "source": [
        "`-` 그래도 이 문법을 알아야 한다. 왜??\n",
        "\n",
        "| 단계                              | 인터넷밈                                                                                                                      | 클래스                                                                                                                                                     | 레포트표지                                                                                                                                               |\n",
        "|:-----------------|:-----------------|:-----------------|:-----------------|\n",
        "| 1단계: 구상                       | $\\bullet$ 이거 재미있다. <br/> $\\bullet$ 밈화하자.                                                                            | $\\bullet$ 이 코드 반복해서 자주 쓸 것 같다. <br/> $\\bullet$ 이 코드를 쉽게 찍어내는 (복사할 수 있는) 클래스를 만들자                                       | $\\bullet$ 레포트 표지를 자주 만들 것 같음 <br/> $\\bullet$ 양식파일을 만들까?                                                                             |\n",
        "| 2단계: 틀생성                     | $\\bullet$ “밈틀”: 복사하고 싶은 속성을 추려 밈을 생산하기에 유리한 틀을 만듬                                                  | $\\bullet$ 클래스의 선언                                                                                                                                    | $\\bullet$ REPORT_2023_최규빈.hwp 양식파일을 생성                                                                                                         |\n",
        "| 3단계: 틀 $\\to$ 복제              | $\\bullet$ 밈화: “밈틀”에서 다양한 밈을 만들고 놈                                                                              | $\\bullet$ 인스턴스화: 클래스에서 인스턴스를 생산                                                                                                           | $\\bullet$ 레포트 양식표지에서 다양한 레포트를 냄                                                                                                         |\n",
        "| 4단계: 틀 $\\to$ 틀변경 $\\to$ 복제 | $\\bullet$ 생각해보니까 초기 밈틀은 시시함. <br/> $\\bullet$ 초기 밈틀을 수정해 새로운 밈틀을 만들고 더 재미있는 밈을 만들고 놈 | $\\bullet$ 초기클래스와 비슷한 클래스를 선언할 일이 생김 <br/> $\\bullet$ 상속,오버라이딩: 초기클래스를 상속받아 클래스를 새롭게 정의하고 인스턴스를 재 생산 | $\\bullet$ 공모전에 참가하여 결과보고서를 작성할 일이 생김. <br/> $\\bullet$ REPORT_2023_최규빈.hwp 를 적당히 변형하여 수정된 틀을 만들고 결과보고서 생산. |\n",
        "\n",
        "> 상속은 위의 표에서 4단계에 해당한다. 즉 어떠한 클래스를 상속받을때는\n",
        "> “내가 만든 클래스”가 아닐 경우가 대부분이다. 따라서 “애초부터 메소드가\n",
        "> 겹치지 않게 클래스들을 깔끔하게 디자인을 하는것” 은 불가능한 경우가\n",
        "> 많다.\n",
        "\n",
        "## 리스트의 상속\n",
        "\n",
        "`-` list와 비슷한데 멤버들의 빈도가 계산되는 메소드를 포함하는 새로운\n",
        "나만의 list를 만들고 싶다."
      ],
      "id": "76058f4b-4cc7-442f-83bc-3052de56a7da"
    },
    {
      "cell_type": "code",
      "execution_count": 495,
      "metadata": {},
      "outputs": [],
      "source": [
        "lst = list('asdfasssdfa')\n",
        "lst "
      ],
      "id": "f1df390f-3fc3-4115-8ff2-8d7d063f7fa2"
    },
    {
      "cell_type": "markdown",
      "metadata": {},
      "source": [
        "`-` 각 원소들의 빈도를 구해보면 아래와 같다."
      ],
      "id": "0d9ad368-0f1c-4627-904c-c845714499ca"
    },
    {
      "cell_type": "code",
      "execution_count": 501,
      "metadata": {},
      "outputs": [],
      "source": [
        "{s:lst.count(s) for s in set(lst)}"
      ],
      "id": "a04e6d67-5b4b-422e-879e-bcbd94c4c539"
    },
    {
      "cell_type": "code",
      "execution_count": 502,
      "metadata": {},
      "outputs": [],
      "source": [
        "lst.freq() # 이렇게 실행하면 위의결과가 나왔으면 좋겠다."
      ],
      "id": "b44fa362-4897-42a2-b3a4-9f27ec0b5ade"
    },
    {
      "cell_type": "markdown",
      "metadata": {},
      "source": [
        "`-` 이것을 내가 정의하는 새로운 list의 메소드로 넣고 싶다."
      ],
      "id": "365630ae-1ec7-4688-a6cc-aa8977e0b134"
    },
    {
      "cell_type": "code",
      "execution_count": 503,
      "metadata": {},
      "outputs": [],
      "source": [
        "class List(list):\n",
        "    def freq(self):\n",
        "        return {s:self.count(s) for s in set(self)}"
      ],
      "id": "556d50f6-9590-4c8b-900d-c964a12c8027"
    },
    {
      "cell_type": "code",
      "execution_count": 504,
      "metadata": {},
      "outputs": [],
      "source": [
        "lst2 = List('asdfasssdfa')"
      ],
      "id": "26341307-5aba-4e1d-9cdb-5c4b8514e7ef"
    },
    {
      "cell_type": "code",
      "execution_count": 514,
      "metadata": {},
      "outputs": [],
      "source": [
        "lst2"
      ],
      "id": "7a432f64-d82d-4b6f-9fe7-a2fea1027d23"
    },
    {
      "cell_type": "code",
      "execution_count": 509,
      "metadata": {},
      "outputs": [],
      "source": [
        "lst"
      ],
      "id": "1f28d34a-ecd7-427f-bda1-169e42d5db61"
    },
    {
      "cell_type": "code",
      "execution_count": 517,
      "metadata": {},
      "outputs": [],
      "source": [
        "#lst2+lst ## 거의 lst2는 일반적인 lst와 같은역할"
      ],
      "id": "9ce38429-4aa8-489d-a3c4-4cd0481a43ee"
    },
    {
      "cell_type": "markdown",
      "metadata": {},
      "source": [
        "`-` 기존리스트에서 추가로 frequency() 메소드가 존재함."
      ],
      "id": "b17c82fd-0a82-4048-9d27-48f463dbd890"
    },
    {
      "cell_type": "code",
      "execution_count": 513,
      "metadata": {},
      "outputs": [],
      "source": [
        "lst2.freq()"
      ],
      "id": "a2dc40db-dadd-4c2a-ad48-fd76d71de2b9"
    },
    {
      "cell_type": "markdown",
      "metadata": {},
      "source": [
        "# 숙제"
      ],
      "id": "a5449738-311c-41d8-9d4e-7b1cf0231587"
    },
    {
      "cell_type": "code",
      "execution_count": 678,
      "metadata": {},
      "outputs": [],
      "source": [
        "import datetime"
      ],
      "id": "fe2ab416-c4c2-4cce-ae8d-d91881a60c4c"
    },
    {
      "cell_type": "markdown",
      "metadata": {},
      "source": [
        "`(1)` 아래의 코드를 관찰하고 datetime의 동작을 유추하라."
      ],
      "id": "dac79f6e-dd69-4f58-991e-c437cb9d66e8"
    },
    {
      "cell_type": "code",
      "execution_count": 598,
      "metadata": {},
      "outputs": [],
      "source": [
        "current_time = datetime.datetime.now().strftime('%y-%m-%d %X')\n",
        "current_time"
      ],
      "id": "bca82aed-2ed8-4db8-bec4-9f00d793ff7b"
    },
    {
      "cell_type": "markdown",
      "metadata": {},
      "source": [
        "`(2)` 아래의 코드를 관찰하고 Time 클래스의 기능을 추정하라."
      ],
      "id": "7c490dea-3a5c-43a8-a146-cd74647c1075"
    },
    {
      "cell_type": "code",
      "execution_count": 599,
      "metadata": {},
      "outputs": [],
      "source": [
        "class Time:\n",
        "    def time(self):\n",
        "        return datetime.datetime.now().strftime('%y-%m-%d %X')"
      ],
      "id": "50292d70-c6e6-4d00-be1d-4fbeeaf97f01"
    },
    {
      "cell_type": "code",
      "execution_count": 600,
      "metadata": {},
      "outputs": [],
      "source": [
        "time_ins = Time()"
      ],
      "id": "fe521817-df36-44b3-9f2c-c2c5cca7aa19"
    },
    {
      "cell_type": "code",
      "execution_count": 601,
      "metadata": {},
      "outputs": [],
      "source": [
        "time_ins.time()"
      ],
      "id": "3e89e97a-92a8-41d2-be35-d6db1914080e"
    },
    {
      "cell_type": "code",
      "execution_count": 602,
      "metadata": {},
      "outputs": [],
      "source": [
        "time_ins.time()"
      ],
      "id": "473faf7d-79e3-42a0-b2ea-255cf44b84eb"
    },
    {
      "cell_type": "markdown",
      "metadata": {},
      "source": [
        "`(3)` Time을 상속받아 Init 클래스를 만들고 `__repr__`을 조작하여 아래와\n",
        "같이 인스턴스 생성시점을 출력하는 기능을 구현하라."
      ],
      "id": "34b50447-3129-4070-b2e1-4369e3137a19"
    },
    {
      "cell_type": "code",
      "execution_count": 641,
      "metadata": {},
      "outputs": [],
      "source": [
        "a = Init()"
      ],
      "id": "c762e87b-769f-47dc-a0ad-1ffe6667f9f4"
    },
    {
      "cell_type": "code",
      "execution_count": 642,
      "metadata": {},
      "outputs": [],
      "source": [
        "a"
      ],
      "id": "5efb7af7-347e-4094-85c6-dbdb48ce304e"
    },
    {
      "cell_type": "code",
      "execution_count": 643,
      "metadata": {},
      "outputs": [],
      "source": [
        "b = Init()"
      ],
      "id": "ff810f79-f460-4730-bb95-fae9bc4cb969"
    },
    {
      "cell_type": "code",
      "execution_count": 644,
      "metadata": {},
      "outputs": [],
      "source": [
        "a,b"
      ],
      "id": "0bb8d477-a9e2-4502-b7f1-72ea59e2176f"
    },
    {
      "cell_type": "markdown",
      "metadata": {},
      "source": [
        "`(4)` 아래는 Dummy 클래스이다."
      ],
      "id": "4ebee5ce-65fc-40fe-a9c3-e52ac12fa5be"
    },
    {
      "cell_type": "code",
      "execution_count": 612,
      "metadata": {},
      "outputs": [],
      "source": [
        "class Dummy:\n",
        "    def __init__(self):\n",
        "        self.a = 1\n",
        "        self.b = 2 \n",
        "    def dummy(self):\n",
        "        pass"
      ],
      "id": "6958194b-b5e1-4432-b1e1-68c0ac61d2b5"
    },
    {
      "cell_type": "code",
      "execution_count": 613,
      "metadata": {},
      "outputs": [],
      "source": [
        "dummy = Dummy()"
      ],
      "id": "1bfb47b0-ca80-4d2d-b681-914381a94e9a"
    },
    {
      "cell_type": "code",
      "execution_count": 614,
      "metadata": {},
      "outputs": [],
      "source": [
        "dir(dummy)"
      ],
      "id": "5b35964f-677e-41bf-a110-3adba0ff9c4c"
    },
    {
      "cell_type": "markdown",
      "metadata": {},
      "source": [
        "dummy 클래스에서 숨겨지지 않은 attribute는 ‘a’, ‘b’, ‘dummy’ 이다. 이를\n",
        "출력하는 코드를 작성하라.\n",
        "\n",
        "**hint:** 숨겨지지 않은 attribute는 `_`로 시작하지 않는다."
      ],
      "id": "de99b4b3-ae5b-4528-b00f-0af07042bb53"
    },
    {
      "cell_type": "code",
      "execution_count": 615,
      "metadata": {},
      "outputs": [],
      "source": [
        "[l for l in dir(dummy) if l[0]!='_']"
      ],
      "id": "78e5f7f7-e1f3-4a21-b2e8-4bb527029dc5"
    },
    {
      "cell_type": "markdown",
      "metadata": {},
      "source": [
        "**hint2** (5)번의 코드를 잘 관찰하세요..\n",
        "\n",
        "`(5)` 아래클래스를 관찰하고 check()의 기능을 유추하라."
      ],
      "id": "70664311-d529-4e86-a5cc-2a58f42a9311"
    },
    {
      "cell_type": "code",
      "execution_count": null,
      "metadata": {},
      "outputs": [],
      "source": [
        "class Check:\n",
        "    def ckeck(self):\n",
        "        return [l for l in dir(self) if l[0]!='_']"
      ],
      "id": "b3516485-c5e4-411c-86d1-44b79d2d4fb1"
    },
    {
      "cell_type": "code",
      "execution_count": 610,
      "metadata": {},
      "outputs": [],
      "source": [
        "ck = Check()"
      ],
      "id": "61b863bf-877d-48bb-8af8-5448a8921826"
    },
    {
      "cell_type": "code",
      "execution_count": 611,
      "metadata": {},
      "outputs": [],
      "source": [
        "ck.ckeck()"
      ],
      "id": "2f754e5a-0ce7-4414-83d7-d7ee3683d063"
    },
    {
      "cell_type": "markdown",
      "metadata": {},
      "source": [
        "`(6)` tuple 클래스와 Check를 상속받아 아래와 같은 역할을 하는 새로운\n",
        "Tuple 클래스를 만들라."
      ],
      "id": "93b9d724-4d3a-49e6-9919-0dbf6e9ce5dd"
    },
    {
      "cell_type": "code",
      "execution_count": 677,
      "metadata": {},
      "outputs": [],
      "source": [
        "tpl = Tuple('asdfassdfsasdf')\n",
        "tpl # 값과 함께 사용가능한 메소드가 함께 출력 "
      ],
      "id": "3402404d-1e1a-4163-a0fd-efaa4b844f3f"
    },
    {
      "cell_type": "code",
      "execution_count": 676,
      "metadata": {},
      "outputs": [],
      "source": [
        "tpl.freq()"
      ],
      "id": "49aabbb5-db18-4c7d-bdde-39667ea72b03"
    }
  ],
  "nbformat": 4,
  "nbformat_minor": 5,
  "metadata": {
    "kernelspec": {
      "name": "python3",
      "display_name": "Python 3",
      "language": "python"
    },
    "language_info": {
      "name": "python",
      "codemirror_mode": {
        "name": "ipython",
        "version": "3"
      },
      "file_extension": ".py",
      "mimetype": "text/x-python",
      "nbconvert_exporter": "python",
      "pygments_lexer": "ipython3",
      "version": "3.8.16"
    }
  }
}