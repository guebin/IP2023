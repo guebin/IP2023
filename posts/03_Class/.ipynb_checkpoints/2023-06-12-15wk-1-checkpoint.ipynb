{
 "cells": [
  {
   "cell_type": "raw",
   "id": "a1528b7b-1d00-4bcd-bdd4-490ab2e6d884",
   "metadata": {},
   "source": [
    "---\n",
    "title: \"15wk-1: 클래스공부 5단계 -- 상속\"\n",
    "author: \"최규빈\"\n",
    "date: \"06/12/2023\"\n",
    "---"
   ]
  },
  {
   "cell_type": "markdown",
   "id": "6dea5cee-a6c8-45ed-8d69-2463517388fb",
   "metadata": {},
   "source": [
    "<a href=\"https://colab.research.google.com/github/guebin/PP2023/blob/main/posts/03_Class/2023-06-12-15wk-1.ipynb\"><img src=\"https://colab.research.google.com/assets/colab-badge.svg\" style=\"text-align: left\"></a>"
   ]
  },
  {
   "cell_type": "markdown",
   "id": "e3779239-e70a-4c88-8e81-9393046deddb",
   "metadata": {},
   "source": [
    "# imports "
   ]
  },
  {
   "cell_type": "code",
   "execution_count": 7,
   "id": "cf1d6ea0-e1cb-41e3-8ad4-06c906e43137",
   "metadata": {},
   "outputs": [],
   "source": [
    "import numpy as np\n",
    "import pandas as pd"
   ]
  },
  {
   "cell_type": "markdown",
   "id": "b38407e9-82a0-4863-87e5-0865f8fa31c1",
   "metadata": {},
   "source": [
    "# 클래스공부 5단계: 상속"
   ]
  },
  {
   "cell_type": "markdown",
   "id": "3cd9f0ef-1ece-4965-8f1f-0cd38502e082",
   "metadata": {},
   "source": [
    "## 상속의 사용방법"
   ]
  },
  {
   "cell_type": "markdown",
   "id": "20517b7a-c5a6-4e6a-8931-7f7c9a69633f",
   "metadata": {},
   "source": [
    "`-` 클래스를 조금 수정하고 싶을때, 아래와 같은 문법을 이용하면 편리하다. \n",
    "\n",
    "```Python\n",
    "class 새로운_클래스_이름(수정할_클래스_이름): \n",
    "    def 수정_및_추가할_함수이름(self,...):\n",
    "        ...\n",
    "```"
   ]
  },
  {
   "cell_type": "markdown",
   "id": "4ddf0179-e96e-4580-a4da-eb40002f1fe4",
   "metadata": {},
   "source": [
    "## 간단한 사용예시"
   ]
  },
  {
   "cell_type": "code",
   "execution_count": 315,
   "id": "5d91015a-a17c-4ea5-91f8-703b4e5d5935",
   "metadata": {},
   "outputs": [],
   "source": [
    "class Init:\n",
    "    def __init__(self,value):\n",
    "        ## 여기는 Init클래스~\n",
    "        print('Init.__init__')\n",
    "        self.value = value "
   ]
  },
  {
   "cell_type": "code",
   "execution_count": 372,
   "id": "32525cf9-a50c-405e-8977-be77d864d7c9",
   "metadata": {},
   "outputs": [],
   "source": [
    "class Show(Init):\n",
    "    def show(self):\n",
    "        ## 여기는 Show클래스~\n",
    "        print('Show.show')\n",
    "        return str(self.value)"
   ]
  },
  {
   "cell_type": "code",
   "execution_count": 317,
   "id": "0948a550-d465-4819-b469-47181b9ca76a",
   "metadata": {},
   "outputs": [
    {
     "name": "stdout",
     "output_type": "stream",
     "text": [
      "Init.__init__\n"
     ]
    }
   ],
   "source": [
    "b = Show(10)"
   ]
  },
  {
   "cell_type": "code",
   "execution_count": 318,
   "id": "478e2eb4-2f09-4748-9793-53b5ecedc95e",
   "metadata": {},
   "outputs": [
    {
     "data": {
      "text/plain": [
       "\u001b[0;31mSignature:\u001b[0m \u001b[0mb\u001b[0m\u001b[0;34m.\u001b[0m\u001b[0m__init__\u001b[0m\u001b[0;34m(\u001b[0m\u001b[0mvalue\u001b[0m\u001b[0;34m)\u001b[0m\u001b[0;34m\u001b[0m\u001b[0;34m\u001b[0m\u001b[0m\n",
       "\u001b[0;31mDocstring:\u001b[0m Initialize self.  See help(type(self)) for accurate signature.\n",
       "\u001b[0;31mSource:\u001b[0m   \n",
       "    \u001b[0;32mdef\u001b[0m \u001b[0m__init__\u001b[0m\u001b[0;34m(\u001b[0m\u001b[0mself\u001b[0m\u001b[0;34m,\u001b[0m\u001b[0mvalue\u001b[0m\u001b[0;34m)\u001b[0m\u001b[0;34m:\u001b[0m\u001b[0;34m\u001b[0m\n",
       "\u001b[0;34m\u001b[0m        \u001b[0;31m## 여기는 Init클래스~\u001b[0m\u001b[0;34m\u001b[0m\n",
       "\u001b[0;34m\u001b[0m        \u001b[0mprint\u001b[0m\u001b[0;34m(\u001b[0m\u001b[0;34m'Init.__init__'\u001b[0m\u001b[0;34m)\u001b[0m\u001b[0;34m\u001b[0m\n",
       "\u001b[0;34m\u001b[0m        \u001b[0mself\u001b[0m\u001b[0;34m.\u001b[0m\u001b[0mvalue\u001b[0m \u001b[0;34m=\u001b[0m \u001b[0mvalue\u001b[0m\u001b[0;34m\u001b[0m\u001b[0;34m\u001b[0m\u001b[0m\n",
       "\u001b[0;31mFile:\u001b[0m      ~/Dropbox/07_lectures/PP2023/posts/03_Class/<ipython-input-315-5ec125829d7f>\n",
       "\u001b[0;31mType:\u001b[0m      method"
      ]
     },
     "metadata": {},
     "output_type": "display_data"
    }
   ],
   "source": [
    "b.__init__??"
   ]
  },
  {
   "cell_type": "code",
   "execution_count": 319,
   "id": "1783e028-c6dd-4085-aca5-5d0c97b1e875",
   "metadata": {},
   "outputs": [
    {
     "data": {
      "text/plain": [
       "\u001b[0;31mSignature:\u001b[0m \u001b[0mb\u001b[0m\u001b[0;34m.\u001b[0m\u001b[0mshow\u001b[0m\u001b[0;34m(\u001b[0m\u001b[0;34m)\u001b[0m\u001b[0;34m\u001b[0m\u001b[0;34m\u001b[0m\u001b[0m\n",
       "\u001b[0;31mDocstring:\u001b[0m <no docstring>\n",
       "\u001b[0;31mSource:\u001b[0m   \n",
       "    \u001b[0;32mdef\u001b[0m \u001b[0mshow\u001b[0m\u001b[0;34m(\u001b[0m\u001b[0mself\u001b[0m\u001b[0;34m)\u001b[0m\u001b[0;34m:\u001b[0m\u001b[0;34m\u001b[0m\n",
       "\u001b[0;34m\u001b[0m        \u001b[0;31m## 여기는 Show클래스~\u001b[0m\u001b[0;34m\u001b[0m\n",
       "\u001b[0;34m\u001b[0m        \u001b[0mprint\u001b[0m\u001b[0;34m(\u001b[0m\u001b[0;34m'Show.show'\u001b[0m\u001b[0;34m)\u001b[0m\u001b[0;34m\u001b[0m\n",
       "\u001b[0;34m\u001b[0m        \u001b[0;32mreturn\u001b[0m \u001b[0mstr\u001b[0m\u001b[0;34m(\u001b[0m\u001b[0mself\u001b[0m\u001b[0;34m.\u001b[0m\u001b[0mvalue\u001b[0m\u001b[0;34m)\u001b[0m\u001b[0;34m\u001b[0m\u001b[0;34m\u001b[0m\u001b[0m\n",
       "\u001b[0;31mFile:\u001b[0m      ~/Dropbox/07_lectures/PP2023/posts/03_Class/<ipython-input-316-83f95d7ca548>\n",
       "\u001b[0;31mType:\u001b[0m      method"
      ]
     },
     "metadata": {},
     "output_type": "display_data"
    }
   ],
   "source": [
    "b.show??"
   ]
  },
  {
   "cell_type": "markdown",
   "id": "fc535f67-90b5-42b8-b459-43165225ac97",
   "metadata": {},
   "source": [
    "## 슈퍼클래스 메소드 재활용"
   ]
  },
  {
   "cell_type": "markdown",
   "id": "0550828e-8ff2-42e6-824d-802b76c14a8d",
   "metadata": {},
   "source": [
    "`-` 방법1: 직접 슈퍼클래스 명시"
   ]
  },
  {
   "cell_type": "code",
   "execution_count": 384,
   "id": "0208bbd0-ad2f-495a-af72-0dd23bd2778a",
   "metadata": {},
   "outputs": [],
   "source": [
    "class Deco(Show):\n",
    "    def __init__(self,value):\n",
    "        print(\"안녕하세요? 새로운 인스턴스를 생성합니다\")\n",
    "        Show.__init__(self,value)"
   ]
  },
  {
   "cell_type": "code",
   "execution_count": 385,
   "id": "cb50a593-e382-490e-bd01-4b17ee3c2078",
   "metadata": {},
   "outputs": [
    {
     "name": "stdout",
     "output_type": "stream",
     "text": [
      "안녕하세요? 새로운 인스턴스를 생성합니다\n",
      "Init.__init__\n"
     ]
    }
   ],
   "source": [
    "a=Deco(5)"
   ]
  },
  {
   "cell_type": "code",
   "execution_count": 386,
   "id": "05860b87-1c8e-4158-834d-d3e98a9b7bf5",
   "metadata": {},
   "outputs": [
    {
     "name": "stdout",
     "output_type": "stream",
     "text": [
      "Show.show\n"
     ]
    },
    {
     "data": {
      "text/plain": [
       "'5'"
      ]
     },
     "execution_count": 386,
     "metadata": {},
     "output_type": "execute_result"
    }
   ],
   "source": [
    "a.show()"
   ]
  },
  {
   "cell_type": "markdown",
   "id": "3a9cd020-adcd-4131-a4de-ede607759355",
   "metadata": {},
   "source": [
    "`-` 방법2: super method 이용 (생략안한버전)"
   ]
  },
  {
   "cell_type": "code",
   "execution_count": 387,
   "id": "96676902-6928-462a-a9f0-67e7451b032d",
   "metadata": {},
   "outputs": [],
   "source": [
    "class Deco(Show):\n",
    "    def __init__(self,value):\n",
    "        print(\"안녕하세요? 새로운 인스턴스를 생성합니다\")\n",
    "        super(Deco,self).__init__(value)"
   ]
  },
  {
   "cell_type": "code",
   "execution_count": 388,
   "id": "d27c4a20-ef8f-49fb-9906-76dd43018c4d",
   "metadata": {},
   "outputs": [
    {
     "name": "stdout",
     "output_type": "stream",
     "text": [
      "안녕하세요? 새로운 인스턴스를 생성합니다\n",
      "Init.__init__\n"
     ]
    }
   ],
   "source": [
    "a=Deco(5)"
   ]
  },
  {
   "cell_type": "code",
   "execution_count": 389,
   "id": "e5830509-8b42-4f89-8edb-e03247e85e2f",
   "metadata": {},
   "outputs": [
    {
     "name": "stdout",
     "output_type": "stream",
     "text": [
      "Show.show\n"
     ]
    },
    {
     "data": {
      "text/plain": [
       "'5'"
      ]
     },
     "execution_count": 389,
     "metadata": {},
     "output_type": "execute_result"
    }
   ],
   "source": [
    "a.show()"
   ]
  },
  {
   "cell_type": "markdown",
   "id": "be96ef37-441e-4492-9b92-55ba7126eb63",
   "metadata": {},
   "source": [
    "`-` 방법3: super method 이용 (생략한버젼) <-- 이렇게 쓰세요!"
   ]
  },
  {
   "cell_type": "code",
   "execution_count": 390,
   "id": "9d46a81e-5fb9-4ec8-8633-63157d8a23de",
   "metadata": {},
   "outputs": [],
   "source": [
    "class Deco(Show):\n",
    "    def __init__(self,value):\n",
    "        print(\"안녕하세요? 새로운 인스턴스를 생성합니다\")\n",
    "        super().__init__(value) \n",
    "    "
   ]
  },
  {
   "cell_type": "code",
   "execution_count": 391,
   "id": "93423cce-a8c4-49cc-bdf6-d27f9d747ab1",
   "metadata": {},
   "outputs": [
    {
     "name": "stdout",
     "output_type": "stream",
     "text": [
      "안녕하세요? 새로운 인스턴스를 생성합니다\n",
      "Init.__init__\n"
     ]
    }
   ],
   "source": [
    "a=Deco(5)"
   ]
  },
  {
   "cell_type": "code",
   "execution_count": 392,
   "id": "d3b471a8-ff43-48f6-b2ed-5604586e4639",
   "metadata": {},
   "outputs": [
    {
     "name": "stdout",
     "output_type": "stream",
     "text": [
      "Show.show\n"
     ]
    },
    {
     "data": {
      "text/plain": [
       "'5'"
      ]
     },
     "execution_count": 392,
     "metadata": {},
     "output_type": "execute_result"
    }
   ],
   "source": [
    "a.show()"
   ]
  },
  {
   "cell_type": "markdown",
   "id": "eb8127a2-458d-4a1c-a890-8f1d16064bc1",
   "metadata": {},
   "source": [
    "`-` 방법4: super 메소드 이용, 방법3을 이해하기 위한 코드"
   ]
  },
  {
   "cell_type": "code",
   "execution_count": 393,
   "id": "2ef5ced4-fdef-404e-a255-1419512f2279",
   "metadata": {},
   "outputs": [],
   "source": [
    "class Deco(Show):\n",
    "    def __init__(self,value):\n",
    "        print(\"안녕하세요? 새로운 인스턴스를 생성합니다\")\n",
    "        super(__class__,self).__init__(value) \n",
    "    "
   ]
  },
  {
   "cell_type": "code",
   "execution_count": 394,
   "id": "7483d145-6282-458e-bc93-28aa173a3c15",
   "metadata": {},
   "outputs": [
    {
     "name": "stdout",
     "output_type": "stream",
     "text": [
      "안녕하세요? 새로운 인스턴스를 생성합니다\n",
      "Init.__init__\n"
     ]
    }
   ],
   "source": [
    "a=Deco(5)"
   ]
  },
  {
   "cell_type": "code",
   "execution_count": 395,
   "id": "4ff4704b-ed8a-401d-9f66-27c98fea4933",
   "metadata": {},
   "outputs": [
    {
     "name": "stdout",
     "output_type": "stream",
     "text": [
      "Show.show\n"
     ]
    },
    {
     "data": {
      "text/plain": [
       "'5'"
      ]
     },
     "execution_count": 395,
     "metadata": {},
     "output_type": "execute_result"
    }
   ],
   "source": [
    "a.show()"
   ]
  },
  {
   "cell_type": "markdown",
   "id": "ed4f1d62-e10f-4f96-962c-7e8af0107241",
   "metadata": {},
   "source": [
    "***아래를 관찰하면 `super(__class__,self)` 의 의미를 이해하기 편리하다***"
   ]
  },
  {
   "cell_type": "code",
   "execution_count": 396,
   "id": "4967d5a0-ce65-4baa-bda5-3981350fb4f4",
   "metadata": {},
   "outputs": [
    {
     "data": {
      "text/plain": [
       "__main__.Deco"
      ]
     },
     "execution_count": 396,
     "metadata": {},
     "output_type": "execute_result"
    }
   ],
   "source": [
    "a.__class__"
   ]
  },
  {
   "cell_type": "markdown",
   "id": "f9f7ecdc-7c7c-4eb6-9253-693956ebb307",
   "metadata": {},
   "source": [
    "## 다중상속 "
   ]
  },
  {
   "cell_type": "code",
   "execution_count": 464,
   "id": "bfead361-8c81-4288-ac68-8a0af2e43f1d",
   "metadata": {},
   "outputs": [],
   "source": [
    "class Add:\n",
    "    def __init__(self,a):\n",
    "        self.a = a\n",
    "    def __add__(self,b):\n",
    "        return self.a + b "
   ]
  },
  {
   "cell_type": "code",
   "execution_count": 465,
   "id": "567e9f3e-9c88-4d88-8918-6fd502bfeec0",
   "metadata": {},
   "outputs": [],
   "source": [
    "a=Add(3)"
   ]
  },
  {
   "cell_type": "code",
   "execution_count": 466,
   "id": "b3d82c8d-6856-4dc0-b7d1-8e60a79816a1",
   "metadata": {},
   "outputs": [
    {
     "data": {
      "text/plain": [
       "8"
      ]
     },
     "execution_count": 466,
     "metadata": {},
     "output_type": "execute_result"
    }
   ],
   "source": [
    "a+5"
   ]
  },
  {
   "cell_type": "code",
   "execution_count": 467,
   "id": "01a36d4b-ff76-4e6a-9b11-c05d3dd172dd",
   "metadata": {},
   "outputs": [
    {
     "ename": "TypeError",
     "evalue": "unsupported operand type(s) for *: 'Add' and 'int'",
     "output_type": "error",
     "traceback": [
      "\u001b[0;31m---------------------------------------------------------------------------\u001b[0m",
      "\u001b[0;31mTypeError\u001b[0m                                 Traceback (most recent call last)",
      "Cell \u001b[0;32mIn[467], line 1\u001b[0m\n\u001b[0;32m----> 1\u001b[0m \u001b[43ma\u001b[49m\u001b[38;5;241;43m*\u001b[39;49m\u001b[38;5;241;43m3\u001b[39;49m\n",
      "\u001b[0;31mTypeError\u001b[0m: unsupported operand type(s) for *: 'Add' and 'int'"
     ]
    }
   ],
   "source": [
    "a*3"
   ]
  },
  {
   "cell_type": "code",
   "execution_count": 468,
   "id": "f0342f35-ee29-4196-a6f4-f53710ffbe03",
   "metadata": {},
   "outputs": [],
   "source": [
    "class Mul:\n",
    "    def __init__(self,a):\n",
    "        self.a = a \n",
    "    def __mul__(self,b):\n",
    "        return self.a * b "
   ]
  },
  {
   "cell_type": "code",
   "execution_count": 469,
   "id": "40fa6617-f835-4af2-833f-53c3d1cf3a32",
   "metadata": {},
   "outputs": [],
   "source": [
    "a=Mul(3)"
   ]
  },
  {
   "cell_type": "code",
   "execution_count": 470,
   "id": "f7dd6720-c82a-4aad-ba09-1694c1ebab46",
   "metadata": {},
   "outputs": [
    {
     "data": {
      "text/plain": [
       "9"
      ]
     },
     "execution_count": 470,
     "metadata": {},
     "output_type": "execute_result"
    }
   ],
   "source": [
    "a*3"
   ]
  },
  {
   "cell_type": "code",
   "execution_count": 471,
   "id": "9ac3994c-8be4-497f-9529-bc12575cab5e",
   "metadata": {},
   "outputs": [
    {
     "ename": "TypeError",
     "evalue": "unsupported operand type(s) for +: 'Mul' and 'int'",
     "output_type": "error",
     "traceback": [
      "\u001b[0;31m---------------------------------------------------------------------------\u001b[0m",
      "\u001b[0;31mTypeError\u001b[0m                                 Traceback (most recent call last)",
      "Cell \u001b[0;32mIn[471], line 1\u001b[0m\n\u001b[0;32m----> 1\u001b[0m \u001b[43ma\u001b[49m\u001b[38;5;241;43m+\u001b[39;49m\u001b[38;5;241;43m5\u001b[39;49m\n",
      "\u001b[0;31mTypeError\u001b[0m: unsupported operand type(s) for +: 'Mul' and 'int'"
     ]
    }
   ],
   "source": [
    "a+5"
   ]
  },
  {
   "cell_type": "code",
   "execution_count": 472,
   "id": "66b5d37d-9b47-4543-a8e5-84b1bf136d4b",
   "metadata": {},
   "outputs": [],
   "source": [
    "class AddMul(Add,Mul):\n",
    "    pass"
   ]
  },
  {
   "cell_type": "code",
   "execution_count": 473,
   "id": "52adac82-0da4-4d18-a654-ada2d45ba7df",
   "metadata": {},
   "outputs": [],
   "source": [
    "a=AddMul(3)"
   ]
  },
  {
   "cell_type": "code",
   "execution_count": 474,
   "id": "34a19268-f071-46c5-bb4d-4c991cee7609",
   "metadata": {},
   "outputs": [
    {
     "data": {
      "text/plain": [
       "6"
      ]
     },
     "execution_count": 474,
     "metadata": {},
     "output_type": "execute_result"
    }
   ],
   "source": [
    "a+3"
   ]
  },
  {
   "cell_type": "code",
   "execution_count": 475,
   "id": "4f129575-27c1-42d2-a97a-089f796a39ab",
   "metadata": {},
   "outputs": [
    {
     "data": {
      "text/plain": [
       "9"
      ]
     },
     "execution_count": 475,
     "metadata": {},
     "output_type": "execute_result"
    }
   ],
   "source": [
    "a*3"
   ]
  },
  {
   "cell_type": "markdown",
   "id": "4f017cfa-957c-42a4-80ea-4656771487dd",
   "metadata": {},
   "source": [
    "## 다중상속 우선순위"
   ]
  },
  {
   "cell_type": "code",
   "execution_count": 476,
   "id": "2b2330aa-fc8c-4b9e-b3f8-2e2712b430f6",
   "metadata": {},
   "outputs": [],
   "source": [
    "class Add:\n",
    "    def __init__(self,a):\n",
    "        self.a = a\n",
    "        print('Add클래스의 인스턴스를 만들었습니다.')\n",
    "    def __add__(self,b):\n",
    "        return self.a + b "
   ]
  },
  {
   "cell_type": "code",
   "execution_count": 477,
   "id": "77957a42-d0f0-450f-94f7-4ab2a1c81f19",
   "metadata": {},
   "outputs": [],
   "source": [
    "class Mul:\n",
    "    def __init__(self,a):\n",
    "        self.a = a\n",
    "        print('Mul클래스의 인스턴스를 만들었습니다.')\n",
    "    def __mul__(self,b):\n",
    "        return self.a * b "
   ]
  },
  {
   "cell_type": "code",
   "execution_count": 478,
   "id": "0a80fb47-451e-4db0-a6bf-10e33e3dbad7",
   "metadata": {},
   "outputs": [],
   "source": [
    "class AddMul(Add,Mul):\n",
    "    pass "
   ]
  },
  {
   "cell_type": "code",
   "execution_count": 479,
   "id": "8bd02911-5350-4570-a8e3-54ad88d2f7cc",
   "metadata": {},
   "outputs": [
    {
     "name": "stdout",
     "output_type": "stream",
     "text": [
      "Add클래스의 인스턴스를 만들었습니다.\n"
     ]
    }
   ],
   "source": [
    "a = AddMul(3)"
   ]
  },
  {
   "cell_type": "code",
   "execution_count": 480,
   "id": "6542df2e-b341-4857-a493-2467e2345ea8",
   "metadata": {},
   "outputs": [
    {
     "data": {
      "text/plain": [
       "[__main__.AddMul, __main__.Add, __main__.Mul, object]"
      ]
     },
     "execution_count": 480,
     "metadata": {},
     "output_type": "execute_result"
    }
   ],
   "source": [
    "AddMul.mro()"
   ]
  },
  {
   "cell_type": "markdown",
   "id": "633ad748-4ebf-4a0d-a78f-710d8dc9a2a3",
   "metadata": {},
   "source": [
    "***object는 뭐지??***"
   ]
  },
  {
   "cell_type": "code",
   "execution_count": 481,
   "id": "c55a2745-6fd3-40ae-aea6-2f4c325c62a5",
   "metadata": {},
   "outputs": [
    {
     "data": {
      "text/plain": [
       "\u001b[0;31mInit signature:\u001b[0m \u001b[0mobject\u001b[0m\u001b[0;34m(\u001b[0m\u001b[0;34m)\u001b[0m\u001b[0;34m\u001b[0m\u001b[0;34m\u001b[0m\u001b[0m\n",
       "\u001b[0;31mDocstring:\u001b[0m     \n",
       "The base class of the class hierarchy.\n",
       "\n",
       "When called, it accepts no arguments and returns a new featureless\n",
       "instance that has no instance attributes and cannot be given any.\n",
       "\u001b[0;31mType:\u001b[0m           type\n",
       "\u001b[0;31mSubclasses:\u001b[0m     type, weakref, weakcallableproxy, weakproxy, int, bytearray, bytes, list, NoneType, NotImplementedType, ..."
      ]
     },
     "metadata": {},
     "output_type": "display_data"
    }
   ],
   "source": [
    "object??"
   ]
  },
  {
   "cell_type": "markdown",
   "id": "5fab8246-cfd5-4b6d-8982-8cb0f705be7a",
   "metadata": {},
   "source": [
    "## 다중상속시 `super()`의 활용"
   ]
  },
  {
   "cell_type": "markdown",
   "id": "f98b79fd-14b3-4bda-807b-e512aabb4849",
   "metadata": {},
   "source": [
    "### ***super()를 쓰지 않은 나쁜사용예시***"
   ]
  },
  {
   "cell_type": "markdown",
   "id": "115dbe63-3d9d-4629-8a43-2afa042f528a",
   "metadata": {},
   "source": [
    "`-` 초기값을 설정하는 클래스 만듬 "
   ]
  },
  {
   "cell_type": "code",
   "execution_count": 508,
   "id": "48328286-38e4-4b27-89b0-1789e19b5d15",
   "metadata": {},
   "outputs": [],
   "source": [
    "class Init:\n",
    "    def __init__(self,value):\n",
    "        self.value = value "
   ]
  },
  {
   "cell_type": "markdown",
   "id": "95a04487-50b9-45b8-bd06-427811e9f93d",
   "metadata": {},
   "source": [
    "`-` init을 상속받아서 ${\\tt 초기값} \\times 2$ 와 ${\\tt 초기값} + 5$ 를 수행하는 클래스를 만듬 "
   ]
  },
  {
   "cell_type": "code",
   "execution_count": 509,
   "id": "ab522bf7-de80-4b8e-ae73-bfb7954f037f",
   "metadata": {},
   "outputs": [],
   "source": [
    "class Times2(Init):\n",
    "    def __init__(self,value):\n",
    "        Init.__init__(self,value)\n",
    "        self.value = self.value*2 \n",
    "        \n",
    "class Plus5(Init):\n",
    "    def __init__(self,value):\n",
    "        Init.__init__(self,value)\n",
    "        self.value = self.value+5 "
   ]
  },
  {
   "cell_type": "code",
   "execution_count": 510,
   "id": "ad4e822c-378c-4111-9e94-8736318551dc",
   "metadata": {},
   "outputs": [
    {
     "data": {
      "text/plain": [
       "8"
      ]
     },
     "execution_count": 510,
     "metadata": {},
     "output_type": "execute_result"
    }
   ],
   "source": [
    "a= Times2(4)\n",
    "a.value"
   ]
  },
  {
   "cell_type": "code",
   "execution_count": 511,
   "id": "988703cc-7913-45ff-92d9-f6edea4445d9",
   "metadata": {},
   "outputs": [
    {
     "data": {
      "text/plain": [
       "7"
      ]
     },
     "execution_count": 511,
     "metadata": {},
     "output_type": "execute_result"
    }
   ],
   "source": [
    "a = Plus5(2)\n",
    "a.value"
   ]
  },
  {
   "cell_type": "markdown",
   "id": "46c61f9f-305d-4a7f-bce3-b9801dc4d412",
   "metadata": {},
   "source": [
    "`-` 지나고 보니까 ${\\tt 초기값} \\times 2 + 5$ 를 수행해주는 클래스를 만들고 싶음. "
   ]
  },
  {
   "cell_type": "code",
   "execution_count": 512,
   "id": "9e00eb9a-2f7b-48e6-8d72-2724bf1f7975",
   "metadata": {},
   "outputs": [],
   "source": [
    "class Times2Plus5(Times2,Plus5):\n",
    "    def __init__(self,value):\n",
    "        Init.__init__(self,value)\n",
    "        Times2.__init__(self,self.value)\n",
    "        Plus5.__init__(self,self.value)"
   ]
  },
  {
   "cell_type": "code",
   "execution_count": 513,
   "id": "ce4fd7f2-d072-4370-872b-1721980b922b",
   "metadata": {},
   "outputs": [],
   "source": [
    "a = Times2Plus5(5)"
   ]
  },
  {
   "cell_type": "code",
   "execution_count": 514,
   "id": "c6f2b3d8-6e0a-4712-9a67-e941a0ee6931",
   "metadata": {},
   "outputs": [
    {
     "data": {
      "text/plain": [
       "15"
      ]
     },
     "execution_count": 514,
     "metadata": {},
     "output_type": "execute_result"
    }
   ],
   "source": [
    "a.value"
   ]
  },
  {
   "cell_type": "markdown",
   "id": "4bbcc698-9cca-431d-a48b-1869c961cdda",
   "metadata": {},
   "source": [
    "### ***super()를 활용한 좋은사용예시***"
   ]
  },
  {
   "cell_type": "markdown",
   "id": "eeed5529-e043-4a34-b71a-0e71d991bbdb",
   "metadata": {},
   "source": [
    "`-` 아키텍처를 아래와 같이 바꾸자"
   ]
  },
  {
   "cell_type": "code",
   "execution_count": 489,
   "id": "465a436b-66f6-48d0-9201-219246ce7c12",
   "metadata": {},
   "outputs": [],
   "source": [
    "class Init:\n",
    "    def __init__(self,value):\n",
    "        self.value = value \n",
    "        \n",
    "class Times2(Init):\n",
    "    def __init__(self,value):\n",
    "        super().__init__(value) ## 수정\n",
    "        self.value = self.value*2 \n",
    "        \n",
    "class Plus5(Init):\n",
    "    def __init__(self,value):\n",
    "        super().__init__(value) ## 수정 \n",
    "        self.value = self.value+5 \n",
    "        \n",
    "class Times2Plus5(Plus5,Times2):\n",
    "    def __init__(self,value):\n",
    "        super().__init__(value)"
   ]
  },
  {
   "cell_type": "code",
   "execution_count": 490,
   "id": "77fb9c1a-3aa1-4cb9-8e1d-9893bfe50d54",
   "metadata": {},
   "outputs": [
    {
     "data": {
      "text/plain": [
       "[__main__.Times2Plus5, __main__.Plus5, __main__.Times2, __main__.Init, object]"
      ]
     },
     "execution_count": 490,
     "metadata": {},
     "output_type": "execute_result"
    }
   ],
   "source": [
    "Times2Plus5.mro()"
   ]
  },
  {
   "cell_type": "code",
   "execution_count": 491,
   "id": "907742b5-1182-424b-8708-9e5d39987734",
   "metadata": {},
   "outputs": [
    {
     "data": {
      "text/plain": [
       "15"
      ]
     },
     "execution_count": 491,
     "metadata": {},
     "output_type": "execute_result"
    }
   ],
   "source": [
    "a=Times2Plus5(5)\n",
    "a.value"
   ]
  },
  {
   "cell_type": "markdown",
   "id": "5a8e0eff-bd27-4030-b7b5-0b3c9811a3d6",
   "metadata": {},
   "source": [
    "`-` 이것이 왜 가능? "
   ]
  },
  {
   "cell_type": "markdown",
   "id": "1e7cf6ae-3af1-4b8e-a577-6392807e6c3b",
   "metadata": {},
   "source": [
    "> 원리: mro상으로 상위에 있는 순서대로 타고 올라간 뒤, mro순서대로 한번씩만 `__init__`을 실행함!!"
   ]
  },
  {
   "cell_type": "markdown",
   "id": "3de58821-335c-4cb3-ad0c-2bdec510d04f",
   "metadata": {},
   "source": [
    "`-` 장점: 기존의 코드들도 잘 동작함"
   ]
  },
  {
   "cell_type": "code",
   "execution_count": 493,
   "id": "9841dd1c-ff37-46b3-8f69-6903959d6fb1",
   "metadata": {},
   "outputs": [
    {
     "data": {
      "text/plain": [
       "4"
      ]
     },
     "execution_count": 493,
     "metadata": {},
     "output_type": "execute_result"
    }
   ],
   "source": [
    "a=Times2(2)\n",
    "a.value"
   ]
  },
  {
   "cell_type": "markdown",
   "id": "b1d9477f-68de-48cc-af93-bddb10cb0399",
   "metadata": {},
   "source": [
    "## `super()`의 사용방법"
   ]
  },
  {
   "cell_type": "markdown",
   "id": "44090721-8914-4137-a4d2-63ec557ae4c1",
   "metadata": {},
   "source": [
    "`-` 하위클래스에서 슈퍼클래스의 특정기능에 접근하기 위함"
   ]
  },
  {
   "cell_type": "code",
   "execution_count": 505,
   "id": "b941b10b-14a6-4165-8496-815425e0dc2c",
   "metadata": {},
   "outputs": [],
   "source": [
    "class Init:\n",
    "    def __init__(self,value):\n",
    "        self.value = value \n",
    "        \n",
    "class Times2(Init):\n",
    "    def __init__(self,value):\n",
    "        super().__init__(value) ## 수정\n",
    "        self.value = self.value*2 \n",
    "        \n",
    "class Plus5(Init):\n",
    "    def __init__(self,value):\n",
    "        super().__init__(value) ## 수정 \n",
    "        self.value = self.value+5 \n",
    "        \n",
    "class Times2Plus5Times2(Plus5,Times2):\n",
    "    def __init__(self,value):\n",
    "        super().__init__(value)\n",
    "        super(Plus5,self).__init__(self.value) "
   ]
  },
  {
   "cell_type": "code",
   "execution_count": 506,
   "id": "236f45a9-2a4e-452e-8108-3432a99ef4a8",
   "metadata": {},
   "outputs": [],
   "source": [
    "a=Times2Plus5Times2(5)"
   ]
  },
  {
   "cell_type": "code",
   "execution_count": 507,
   "id": "6c6e93c1-7053-4b14-9d57-0ff8ef59c960",
   "metadata": {},
   "outputs": [
    {
     "data": {
      "text/plain": [
       "30"
      ]
     },
     "execution_count": 507,
     "metadata": {},
     "output_type": "execute_result"
    }
   ],
   "source": [
    "a.value"
   ]
  },
  {
   "cell_type": "markdown",
   "id": "ac608dd6-2a4e-40d4-9080-8ed9899f41ec",
   "metadata": {},
   "source": [
    "`-` 코드해석 \n",
    "\n",
    "- `super(Times2Plus5Times2,self).__init__()` 은 Times2Plus5Times2의 상위클래스를 모두 찾아서 순서대로 `.__init__()`을 실행 \n",
    "\n",
    "- `super(Plus5,self).__init__()` 은 Plus5의 상위클래스를 모두 찾아서 순서대로 `.__init__()`을 실행 "
   ]
  },
  {
   "cell_type": "markdown",
   "id": "91aae805-e099-4e1c-991e-c5478ddc3fdd",
   "metadata": {},
   "source": [
    "## 리스트의 상속"
   ]
  },
  {
   "cell_type": "markdown",
   "id": "15579fe0-9207-4a3a-950d-006acbe59d22",
   "metadata": {},
   "source": [
    "`-` list와 비슷한데 멤버들의 빈도가 계산되는 메소드를 포함하는 새로운 나만의 list를 만들고 싶다. "
   ]
  },
  {
   "cell_type": "code",
   "execution_count": 516,
   "id": "7d1d9d02-2135-4c84-947e-1fe36ac465a9",
   "metadata": {},
   "outputs": [
    {
     "data": {
      "text/plain": [
       "['a', 'b', 'a', 'c', 'b', 'a', 'd']"
      ]
     },
     "execution_count": 516,
     "metadata": {},
     "output_type": "execute_result"
    }
   ],
   "source": [
    "lst = ['a','b','a','c','b','a','d']\n",
    "lst"
   ]
  },
  {
   "cell_type": "markdown",
   "id": "e2f870f7-b73f-45cc-b8a8-88ebfcc15eea",
   "metadata": {},
   "source": [
    "`-` 각 원소들의 빈도를 구해보면 아래와 같다. "
   ]
  },
  {
   "cell_type": "code",
   "execution_count": 517,
   "id": "e750f662-d177-4f86-ab47-1e4812fc583f",
   "metadata": {},
   "outputs": [
    {
     "data": {
      "text/plain": [
       "{'c': 1, 'a': 3, 'b': 2, 'd': 1}"
      ]
     },
     "execution_count": 517,
     "metadata": {},
     "output_type": "execute_result"
    }
   ],
   "source": [
    "{a:lst.count(a) for a in set(lst)}"
   ]
  },
  {
   "cell_type": "markdown",
   "id": "45dcc3fc-99dd-4a77-91b3-0e2dfb14b3a5",
   "metadata": {},
   "source": [
    "- `lst.frequency()`를 입력하면 위의 빈도가 출력되도록 변형된 list를 쓰고 싶다. "
   ]
  },
  {
   "cell_type": "markdown",
   "id": "0ba02916-77b8-459f-bb93-00f76594a690",
   "metadata": {},
   "source": [
    "`-` 이것을 내가 정의하는 새로운 list의 메소드로 넣고 싶다. "
   ]
  },
  {
   "cell_type": "code",
   "execution_count": 98,
   "id": "fae8910f-c223-4d53-8c7b-ce7a799525ee",
   "metadata": {},
   "outputs": [],
   "source": [
    "class L(list): \n",
    "    def frequency(self):\n",
    "        return {a:lst.count(a) for a in set(self)} "
   ]
  },
  {
   "cell_type": "code",
   "execution_count": 99,
   "id": "4b1a5fd6-1acc-4dd5-9b9a-0d247d431bc9",
   "metadata": {},
   "outputs": [],
   "source": [
    "lst = L([1,1,1,2,2,3])"
   ]
  },
  {
   "cell_type": "code",
   "execution_count": 100,
   "id": "ed88be68-c166-4db6-a2c2-ed6b17935e3e",
   "metadata": {},
   "outputs": [
    {
     "data": {
      "text/plain": [
       "[1, 1, 1, 2, 2, 3]"
      ]
     },
     "execution_count": 100,
     "metadata": {},
     "output_type": "execute_result"
    }
   ],
   "source": [
    "lst # 원래 list에 있는 repr 기능을 상속받아서 이루어지는 결과"
   ]
  },
  {
   "cell_type": "code",
   "execution_count": 101,
   "id": "4aa7c64a-ccdd-4956-9d3e-aa26234a6c8e",
   "metadata": {},
   "outputs": [
    {
     "data": {
      "text/plain": [
       "[1, 1, 1, 2, 2, 3, 4, 5, 6]"
      ]
     },
     "execution_count": 101,
     "metadata": {},
     "output_type": "execute_result"
    }
   ],
   "source": [
    "_lst = L([4,5,6])\n",
    "lst + _lst # L자료형끼리의 덧셈"
   ]
  },
  {
   "cell_type": "code",
   "execution_count": 102,
   "id": "c6512501-1acf-4c6f-81ae-60d5401e716c",
   "metadata": {},
   "outputs": [
    {
     "data": {
      "text/plain": [
       "[1, 1, 1, 2, 2, 3, 4, 5, 6]"
      ]
     },
     "execution_count": 102,
     "metadata": {},
     "output_type": "execute_result"
    }
   ],
   "source": [
    "lst + [4,5,6] # L자료형과 list자료형의 덧셈도 가능"
   ]
  },
  {
   "cell_type": "markdown",
   "id": "43f20f2f-98ff-4c0b-aca7-1f675e6b83f4",
   "metadata": {},
   "source": [
    "- L자료형의 덧셈은 list의 덧셈과 완전히 같음 "
   ]
  },
  {
   "cell_type": "code",
   "execution_count": 103,
   "id": "83e88f7e-8b0f-48e0-be1a-8f9c39d79db3",
   "metadata": {},
   "outputs": [
    {
     "data": {
      "text/plain": [
       "[1, 1, 1, 2, 2, 3, 10]"
      ]
     },
     "execution_count": 103,
     "metadata": {},
     "output_type": "execute_result"
    }
   ],
   "source": [
    "lst.append(10) # append함수도 그대로 쓸 수 있음\n",
    "lst"
   ]
  },
  {
   "cell_type": "markdown",
   "id": "7d4d5d84-398e-419f-b86e-b3c089ab05ff",
   "metadata": {},
   "source": [
    "`-` 기존리스트에서 추가로 frequency() 메소드가 존재함. "
   ]
  },
  {
   "cell_type": "code",
   "execution_count": 104,
   "id": "c659bab1-2e7f-4414-87e7-f04ccd9a2a89",
   "metadata": {},
   "outputs": [
    {
     "data": {
      "text/plain": [
       "{10: 1, 1: 3, 2: 2, 3: 1}"
      ]
     },
     "execution_count": 104,
     "metadata": {},
     "output_type": "execute_result"
    }
   ],
   "source": [
    "lst.frequency()"
   ]
  }
 ],
 "metadata": {
  "kernelspec": {
   "display_name": "Python 3",
   "language": "python",
   "name": "python3"
  },
  "language_info": {
   "codemirror_mode": {
    "name": "ipython",
    "version": 3
   },
   "file_extension": ".py",
   "mimetype": "text/x-python",
   "name": "python",
   "nbconvert_exporter": "python",
   "pygments_lexer": "ipython3",
   "version": "3.8.16"
  }
 },
 "nbformat": 4,
 "nbformat_minor": 5
}
