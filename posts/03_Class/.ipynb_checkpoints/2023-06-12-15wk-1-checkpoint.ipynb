{
 "cells": [
  {
   "cell_type": "raw",
   "id": "a1528b7b-1d00-4bcd-bdd4-490ab2e6d884",
   "metadata": {},
   "source": [
    "---\n",
    "title: \"15wk-1: 클래스공부 5단계 -- 상속\"\n",
    "author: \"최규빈\"\n",
    "date: \"06/12/2023\"\n",
    "---"
   ]
  },
  {
   "cell_type": "markdown",
   "id": "6dea5cee-a6c8-45ed-8d69-2463517388fb",
   "metadata": {},
   "source": [
    "<a href=\"https://colab.research.google.com/github/guebin/PP2023/blob/main/posts/03_Class/2023-06-12-15wk-1.ipynb\"><img src=\"https://colab.research.google.com/assets/colab-badge.svg\" style=\"text-align: left\"></a>"
   ]
  },
  {
   "cell_type": "markdown",
   "id": "e3779239-e70a-4c88-8e81-9393046deddb",
   "metadata": {},
   "source": [
    "# imports "
   ]
  },
  {
   "cell_type": "markdown",
   "id": "182b11f8-1b90-424b-bd7e-86bd56003bb7",
   "metadata": {},
   "source": [
    "## 상속의 사용방법"
   ]
  },
  {
   "cell_type": "markdown",
   "id": "0ae7e4c4-de36-4219-9621-ef2072be50e2",
   "metadata": {},
   "source": [
    "`-` 클래스를 조금 수정하고 싶을때, 아래와 같은 문법을 이용하면 편리하다. \n",
    "\n",
    "```Python\n",
    "class 새로운_클래스_이름(수정할_클래스_이름): \n",
    "    def 수정_및_추가할_함수이름(self,...):\n",
    "        ...\n",
    "```"
   ]
  },
  {
   "cell_type": "markdown",
   "id": "f1d5207b-0197-4e9c-ba92-3cc9f507ec8e",
   "metadata": {},
   "source": [
    "## 간단한 사용예시"
   ]
  },
  {
   "cell_type": "code",
   "execution_count": 198,
   "id": "72226a21-b48b-44cc-8c6f-943e22a4ac0c",
   "metadata": {},
   "outputs": [],
   "source": [
    "class Init:\n",
    "    def __init__(self,value):\n",
    "        ## 여기는 Init 클래스야\n",
    "        print('Init 클래스에 정의된 __init__ 메소드를 실행합니다.')\n",
    "        self.value = value "
   ]
  },
  {
   "cell_type": "code",
   "execution_count": 199,
   "id": "d465311e-6d42-4dda-8736-81a715e5767d",
   "metadata": {},
   "outputs": [],
   "source": [
    "class Show(Init): \n",
    "    def show(self):\n",
    "        ## 여기는 Show 클래스야 \n",
    "        print('Show 클래스에 정의된 show 메소드를 실행합니다.')\n",
    "        print('value={}'.format(self.value))"
   ]
  },
  {
   "cell_type": "code",
   "execution_count": 200,
   "id": "afd1f1c4-4d50-4c41-81da-d55de1deccf8",
   "metadata": {},
   "outputs": [
    {
     "name": "stdout",
     "output_type": "stream",
     "text": [
      "Init 클래스에 정의된 __init__ 메소드를 실행합니다.\n"
     ]
    },
    {
     "data": {
      "text/plain": [
       "<__main__.Show at 0x7fb6e5b84520>"
      ]
     },
     "execution_count": 200,
     "metadata": {},
     "output_type": "execute_result"
    }
   ],
   "source": [
    "a=Show(5) \n",
    "a"
   ]
  },
  {
   "cell_type": "code",
   "execution_count": 201,
   "id": "cf98e9d1-2a34-40cb-8774-499d68409382",
   "metadata": {},
   "outputs": [
    {
     "name": "stdout",
     "output_type": "stream",
     "text": [
      "Show 클래스에 정의된 show 메소드를 실행합니다.\n",
      "value=5\n"
     ]
    }
   ],
   "source": [
    "a.show()"
   ]
  },
  {
   "cell_type": "code",
   "execution_count": 202,
   "id": "cb413b86-751a-457c-953f-9544c47580de",
   "metadata": {},
   "outputs": [
    {
     "data": {
      "text/plain": [
       "\u001b[0;31mSignature:\u001b[0m \u001b[0ma\u001b[0m\u001b[0;34m.\u001b[0m\u001b[0mshow\u001b[0m\u001b[0;34m(\u001b[0m\u001b[0;34m)\u001b[0m\u001b[0;34m\u001b[0m\u001b[0;34m\u001b[0m\u001b[0m\n",
       "\u001b[0;31mDocstring:\u001b[0m <no docstring>\n",
       "\u001b[0;31mSource:\u001b[0m   \n",
       "    \u001b[0;32mdef\u001b[0m \u001b[0mshow\u001b[0m\u001b[0;34m(\u001b[0m\u001b[0mself\u001b[0m\u001b[0;34m)\u001b[0m\u001b[0;34m:\u001b[0m\u001b[0;34m\u001b[0m\n",
       "\u001b[0;34m\u001b[0m        \u001b[0;31m## 여기는 Show 클래스야 \u001b[0m\u001b[0;34m\u001b[0m\n",
       "\u001b[0;34m\u001b[0m        \u001b[0mprint\u001b[0m\u001b[0;34m(\u001b[0m\u001b[0;34m'Show 클래스에 정의된 show 메소드를 실행합니다.'\u001b[0m\u001b[0;34m)\u001b[0m\u001b[0;34m\u001b[0m\n",
       "\u001b[0;34m\u001b[0m        \u001b[0mprint\u001b[0m\u001b[0;34m(\u001b[0m\u001b[0;34m'value={}'\u001b[0m\u001b[0;34m.\u001b[0m\u001b[0mformat\u001b[0m\u001b[0;34m(\u001b[0m\u001b[0mself\u001b[0m\u001b[0;34m.\u001b[0m\u001b[0mvalue\u001b[0m\u001b[0;34m)\u001b[0m\u001b[0;34m)\u001b[0m\u001b[0;34m\u001b[0m\u001b[0;34m\u001b[0m\u001b[0m\n",
       "\u001b[0;31mFile:\u001b[0m      ~/Dropbox/07_lectures/PP2023/posts/03_Class/<ipython-input-199-17ba396d6b13>\n",
       "\u001b[0;31mType:\u001b[0m      method"
      ]
     },
     "metadata": {},
     "output_type": "display_data"
    }
   ],
   "source": [
    "a.show??"
   ]
  },
  {
   "cell_type": "code",
   "execution_count": 203,
   "id": "88888e22-f3d1-483c-a345-7d16caa3225d",
   "metadata": {},
   "outputs": [
    {
     "data": {
      "text/plain": [
       "\u001b[0;31mSignature:\u001b[0m \u001b[0ma\u001b[0m\u001b[0;34m.\u001b[0m\u001b[0m__init__\u001b[0m\u001b[0;34m(\u001b[0m\u001b[0mvalue\u001b[0m\u001b[0;34m)\u001b[0m\u001b[0;34m\u001b[0m\u001b[0;34m\u001b[0m\u001b[0m\n",
       "\u001b[0;31mDocstring:\u001b[0m Initialize self.  See help(type(self)) for accurate signature.\n",
       "\u001b[0;31mSource:\u001b[0m   \n",
       "    \u001b[0;32mdef\u001b[0m \u001b[0m__init__\u001b[0m\u001b[0;34m(\u001b[0m\u001b[0mself\u001b[0m\u001b[0;34m,\u001b[0m\u001b[0mvalue\u001b[0m\u001b[0;34m)\u001b[0m\u001b[0;34m:\u001b[0m\u001b[0;34m\u001b[0m\n",
       "\u001b[0;34m\u001b[0m        \u001b[0;31m## 여기는 Init 클래스야\u001b[0m\u001b[0;34m\u001b[0m\n",
       "\u001b[0;34m\u001b[0m        \u001b[0mprint\u001b[0m\u001b[0;34m(\u001b[0m\u001b[0;34m'Init 클래스에 정의된 __init__ 메소드를 실행합니다.'\u001b[0m\u001b[0;34m)\u001b[0m\u001b[0;34m\u001b[0m\n",
       "\u001b[0;34m\u001b[0m        \u001b[0mself\u001b[0m\u001b[0;34m.\u001b[0m\u001b[0mvalue\u001b[0m \u001b[0;34m=\u001b[0m \u001b[0mvalue\u001b[0m\u001b[0;34m\u001b[0m\u001b[0;34m\u001b[0m\u001b[0m\n",
       "\u001b[0;31mFile:\u001b[0m      ~/Dropbox/07_lectures/PP2023/posts/03_Class/<ipython-input-198-1ccfa3103b08>\n",
       "\u001b[0;31mType:\u001b[0m      method"
      ]
     },
     "metadata": {},
     "output_type": "display_data"
    }
   ],
   "source": [
    "a.__init__??"
   ]
  },
  {
   "cell_type": "markdown",
   "id": "19a1c223-5dce-47a1-ba62-f4a99df52479",
   "metadata": {},
   "source": [
    "## 슈퍼클래스 메소드 재활용"
   ]
  },
  {
   "cell_type": "markdown",
   "id": "7ce6e3d6-cb75-42a4-9e32-7421a5126efb",
   "metadata": {},
   "source": [
    "`-` 방법1: 직접 슈퍼클래스 명시"
   ]
  },
  {
   "cell_type": "code",
   "execution_count": 208,
   "id": "3258349e-fc35-4d56-9b69-eccd51a2b9f7",
   "metadata": {},
   "outputs": [],
   "source": [
    "class Deco(Show):\n",
    "    def __init__(self,value):\n",
    "        ## 여기는 Deco 클래스야~\n",
    "        print(\"짜라란~\")\n",
    "        Show.__init__(self,value)\n",
    "        print(\"짠짠~!\")"
   ]
  },
  {
   "cell_type": "code",
   "execution_count": 209,
   "id": "25056429-9989-4f27-a7ab-4e30e2d57e9a",
   "metadata": {},
   "outputs": [
    {
     "name": "stdout",
     "output_type": "stream",
     "text": [
      "짜라란~\n",
      "Init 클래스에 정의된 __init__ 메소드를 실행합니다.\n",
      "짠짠~!\n"
     ]
    }
   ],
   "source": [
    "a = Deco(5)"
   ]
  },
  {
   "cell_type": "code",
   "execution_count": 210,
   "id": "0c874d04-5e6f-4f1f-a0fa-535a82ac46ad",
   "metadata": {},
   "outputs": [
    {
     "data": {
      "text/plain": [
       "\u001b[0;31mSignature:\u001b[0m \u001b[0ma\u001b[0m\u001b[0;34m.\u001b[0m\u001b[0mshow\u001b[0m\u001b[0;34m(\u001b[0m\u001b[0;34m)\u001b[0m\u001b[0;34m\u001b[0m\u001b[0;34m\u001b[0m\u001b[0m\n",
       "\u001b[0;31mDocstring:\u001b[0m <no docstring>\n",
       "\u001b[0;31mSource:\u001b[0m   \n",
       "    \u001b[0;32mdef\u001b[0m \u001b[0mshow\u001b[0m\u001b[0;34m(\u001b[0m\u001b[0mself\u001b[0m\u001b[0;34m)\u001b[0m\u001b[0;34m:\u001b[0m\u001b[0;34m\u001b[0m\n",
       "\u001b[0;34m\u001b[0m        \u001b[0;31m## 여기는 Show 클래스야 \u001b[0m\u001b[0;34m\u001b[0m\n",
       "\u001b[0;34m\u001b[0m        \u001b[0mprint\u001b[0m\u001b[0;34m(\u001b[0m\u001b[0;34m'Show 클래스에 정의된 show 메소드를 실행합니다.'\u001b[0m\u001b[0;34m)\u001b[0m\u001b[0;34m\u001b[0m\n",
       "\u001b[0;34m\u001b[0m        \u001b[0mprint\u001b[0m\u001b[0;34m(\u001b[0m\u001b[0;34m'value={}'\u001b[0m\u001b[0;34m.\u001b[0m\u001b[0mformat\u001b[0m\u001b[0;34m(\u001b[0m\u001b[0mself\u001b[0m\u001b[0;34m.\u001b[0m\u001b[0mvalue\u001b[0m\u001b[0;34m)\u001b[0m\u001b[0;34m)\u001b[0m\u001b[0;34m\u001b[0m\u001b[0;34m\u001b[0m\u001b[0m\n",
       "\u001b[0;31mFile:\u001b[0m      ~/Dropbox/07_lectures/PP2023/posts/03_Class/<ipython-input-199-17ba396d6b13>\n",
       "\u001b[0;31mType:\u001b[0m      method"
      ]
     },
     "metadata": {},
     "output_type": "display_data"
    }
   ],
   "source": [
    "a.show??"
   ]
  },
  {
   "cell_type": "code",
   "execution_count": 211,
   "id": "4bdafd98-b553-4c86-87c3-28ba732e567b",
   "metadata": {},
   "outputs": [
    {
     "data": {
      "text/plain": [
       "\u001b[0;31mSignature:\u001b[0m \u001b[0ma\u001b[0m\u001b[0;34m.\u001b[0m\u001b[0m__init__\u001b[0m\u001b[0;34m(\u001b[0m\u001b[0mvalue\u001b[0m\u001b[0;34m)\u001b[0m\u001b[0;34m\u001b[0m\u001b[0;34m\u001b[0m\u001b[0m\n",
       "\u001b[0;31mDocstring:\u001b[0m Initialize self.  See help(type(self)) for accurate signature.\n",
       "\u001b[0;31mSource:\u001b[0m   \n",
       "    \u001b[0;32mdef\u001b[0m \u001b[0m__init__\u001b[0m\u001b[0;34m(\u001b[0m\u001b[0mself\u001b[0m\u001b[0;34m,\u001b[0m\u001b[0mvalue\u001b[0m\u001b[0;34m)\u001b[0m\u001b[0;34m:\u001b[0m\u001b[0;34m\u001b[0m\n",
       "\u001b[0;34m\u001b[0m        \u001b[0;31m## 여기는 Deco 클래스야~\u001b[0m\u001b[0;34m\u001b[0m\n",
       "\u001b[0;34m\u001b[0m        \u001b[0mprint\u001b[0m\u001b[0;34m(\u001b[0m\u001b[0;34m\"짜라란~\"\u001b[0m\u001b[0;34m)\u001b[0m\u001b[0;34m\u001b[0m\n",
       "\u001b[0;34m\u001b[0m        \u001b[0mShow\u001b[0m\u001b[0;34m.\u001b[0m\u001b[0m__init__\u001b[0m\u001b[0;34m(\u001b[0m\u001b[0mself\u001b[0m\u001b[0;34m,\u001b[0m\u001b[0mvalue\u001b[0m\u001b[0;34m)\u001b[0m\u001b[0;34m\u001b[0m\n",
       "\u001b[0;34m\u001b[0m        \u001b[0mprint\u001b[0m\u001b[0;34m(\u001b[0m\u001b[0;34m\"짠짠~!\"\u001b[0m\u001b[0;34m)\u001b[0m\u001b[0;34m\u001b[0m\u001b[0;34m\u001b[0m\u001b[0m\n",
       "\u001b[0;31mFile:\u001b[0m      ~/Dropbox/07_lectures/PP2023/posts/03_Class/<ipython-input-208-989ff8782608>\n",
       "\u001b[0;31mType:\u001b[0m      method"
      ]
     },
     "metadata": {},
     "output_type": "display_data"
    }
   ],
   "source": [
    "a.__init__??"
   ]
  },
  {
   "cell_type": "markdown",
   "id": "20433744-3799-44be-980a-786532cd60c5",
   "metadata": {},
   "source": [
    "`-` 방법2: super() 이용 (생략안한버전)"
   ]
  },
  {
   "cell_type": "code",
   "execution_count": 212,
   "id": "eb79910b-c2c9-4d6a-9b5e-2d2b53b0b3ed",
   "metadata": {},
   "outputs": [],
   "source": [
    "class Deco(Show):\n",
    "    def __init__(self,value):\n",
    "        ## 여기는 Deco 클래스야~\n",
    "        print(\"짜라란~\")\n",
    "        super(Deco,self).__init__(value)\n",
    "        print(\"짠짠~!\")"
   ]
  },
  {
   "cell_type": "code",
   "execution_count": 213,
   "id": "a6ae8033-d27f-48f7-b208-562f6d2449b8",
   "metadata": {},
   "outputs": [
    {
     "name": "stdout",
     "output_type": "stream",
     "text": [
      "짜라란~\n",
      "Init 클래스에 정의된 __init__ 메소드를 실행합니다.\n",
      "짠짠~!\n"
     ]
    }
   ],
   "source": [
    "a = Deco(5)"
   ]
  },
  {
   "cell_type": "code",
   "execution_count": 214,
   "id": "000ecf2e-668a-48be-a51e-62fbc2a4b3dd",
   "metadata": {},
   "outputs": [
    {
     "data": {
      "text/plain": [
       "\u001b[0;31mSignature:\u001b[0m \u001b[0ma\u001b[0m\u001b[0;34m.\u001b[0m\u001b[0mshow\u001b[0m\u001b[0;34m(\u001b[0m\u001b[0;34m)\u001b[0m\u001b[0;34m\u001b[0m\u001b[0;34m\u001b[0m\u001b[0m\n",
       "\u001b[0;31mDocstring:\u001b[0m <no docstring>\n",
       "\u001b[0;31mSource:\u001b[0m   \n",
       "    \u001b[0;32mdef\u001b[0m \u001b[0mshow\u001b[0m\u001b[0;34m(\u001b[0m\u001b[0mself\u001b[0m\u001b[0;34m)\u001b[0m\u001b[0;34m:\u001b[0m\u001b[0;34m\u001b[0m\n",
       "\u001b[0;34m\u001b[0m        \u001b[0;31m## 여기는 Show 클래스야 \u001b[0m\u001b[0;34m\u001b[0m\n",
       "\u001b[0;34m\u001b[0m        \u001b[0mprint\u001b[0m\u001b[0;34m(\u001b[0m\u001b[0;34m'Show 클래스에 정의된 show 메소드를 실행합니다.'\u001b[0m\u001b[0;34m)\u001b[0m\u001b[0;34m\u001b[0m\n",
       "\u001b[0;34m\u001b[0m        \u001b[0mprint\u001b[0m\u001b[0;34m(\u001b[0m\u001b[0;34m'value={}'\u001b[0m\u001b[0;34m.\u001b[0m\u001b[0mformat\u001b[0m\u001b[0;34m(\u001b[0m\u001b[0mself\u001b[0m\u001b[0;34m.\u001b[0m\u001b[0mvalue\u001b[0m\u001b[0;34m)\u001b[0m\u001b[0;34m)\u001b[0m\u001b[0;34m\u001b[0m\u001b[0;34m\u001b[0m\u001b[0m\n",
       "\u001b[0;31mFile:\u001b[0m      ~/Dropbox/07_lectures/PP2023/posts/03_Class/<ipython-input-199-17ba396d6b13>\n",
       "\u001b[0;31mType:\u001b[0m      method"
      ]
     },
     "metadata": {},
     "output_type": "display_data"
    }
   ],
   "source": [
    "a.show??"
   ]
  },
  {
   "cell_type": "code",
   "execution_count": 215,
   "id": "0aac6957-e4b1-4474-9996-c171af3f2366",
   "metadata": {},
   "outputs": [
    {
     "data": {
      "text/plain": [
       "\u001b[0;31mSignature:\u001b[0m \u001b[0ma\u001b[0m\u001b[0;34m.\u001b[0m\u001b[0m__init__\u001b[0m\u001b[0;34m(\u001b[0m\u001b[0mvalue\u001b[0m\u001b[0;34m)\u001b[0m\u001b[0;34m\u001b[0m\u001b[0;34m\u001b[0m\u001b[0m\n",
       "\u001b[0;31mDocstring:\u001b[0m Initialize self.  See help(type(self)) for accurate signature.\n",
       "\u001b[0;31mSource:\u001b[0m   \n",
       "    \u001b[0;32mdef\u001b[0m \u001b[0m__init__\u001b[0m\u001b[0;34m(\u001b[0m\u001b[0mself\u001b[0m\u001b[0;34m,\u001b[0m\u001b[0mvalue\u001b[0m\u001b[0;34m)\u001b[0m\u001b[0;34m:\u001b[0m\u001b[0;34m\u001b[0m\n",
       "\u001b[0;34m\u001b[0m        \u001b[0;31m## 여기는 Deco 클래스야~\u001b[0m\u001b[0;34m\u001b[0m\n",
       "\u001b[0;34m\u001b[0m        \u001b[0mprint\u001b[0m\u001b[0;34m(\u001b[0m\u001b[0;34m\"짜라란~\"\u001b[0m\u001b[0;34m)\u001b[0m\u001b[0;34m\u001b[0m\n",
       "\u001b[0;34m\u001b[0m        \u001b[0msuper\u001b[0m\u001b[0;34m(\u001b[0m\u001b[0mDeco\u001b[0m\u001b[0;34m,\u001b[0m\u001b[0mself\u001b[0m\u001b[0;34m)\u001b[0m\u001b[0;34m.\u001b[0m\u001b[0m__init__\u001b[0m\u001b[0;34m(\u001b[0m\u001b[0mvalue\u001b[0m\u001b[0;34m)\u001b[0m\u001b[0;34m\u001b[0m\n",
       "\u001b[0;34m\u001b[0m        \u001b[0mprint\u001b[0m\u001b[0;34m(\u001b[0m\u001b[0;34m\"짠짠~!\"\u001b[0m\u001b[0;34m)\u001b[0m\u001b[0;34m\u001b[0m\u001b[0;34m\u001b[0m\u001b[0m\n",
       "\u001b[0;31mFile:\u001b[0m      ~/Dropbox/07_lectures/PP2023/posts/03_Class/<ipython-input-212-9373c440e07c>\n",
       "\u001b[0;31mType:\u001b[0m      method"
      ]
     },
     "metadata": {},
     "output_type": "display_data"
    }
   ],
   "source": [
    "a.__init__??"
   ]
  },
  {
   "cell_type": "markdown",
   "id": "e2847ef5-72b8-4f24-820b-91c9deea97e5",
   "metadata": {},
   "source": [
    "`-` 방법3: super() 이용 (생략한버젼) <-- 이렇게 쓰세요!"
   ]
  },
  {
   "cell_type": "code",
   "execution_count": 217,
   "id": "ada854f3-993b-4db8-9155-cb4b2cd25098",
   "metadata": {},
   "outputs": [],
   "source": [
    "class Deco(Show):\n",
    "    def __init__(self,value):\n",
    "        ## 여기는 Deco 클래스야~\n",
    "        print(\"짜라란~\")\n",
    "        super().__init__(value)\n",
    "        print(\"짠짠~!\")"
   ]
  },
  {
   "cell_type": "code",
   "execution_count": 218,
   "id": "a5603a5b-6353-4dd6-9bb6-b4eb91055907",
   "metadata": {},
   "outputs": [
    {
     "name": "stdout",
     "output_type": "stream",
     "text": [
      "짜라란~\n",
      "Init 클래스에 정의된 __init__ 메소드를 실행합니다.\n",
      "짠짠~!\n"
     ]
    }
   ],
   "source": [
    "a = Deco(5)"
   ]
  },
  {
   "cell_type": "code",
   "execution_count": 219,
   "id": "8b63a9b7-cfef-49a4-af46-08dafebffa3b",
   "metadata": {},
   "outputs": [
    {
     "data": {
      "text/plain": [
       "\u001b[0;31mSignature:\u001b[0m \u001b[0ma\u001b[0m\u001b[0;34m.\u001b[0m\u001b[0mshow\u001b[0m\u001b[0;34m(\u001b[0m\u001b[0;34m)\u001b[0m\u001b[0;34m\u001b[0m\u001b[0;34m\u001b[0m\u001b[0m\n",
       "\u001b[0;31mDocstring:\u001b[0m <no docstring>\n",
       "\u001b[0;31mSource:\u001b[0m   \n",
       "    \u001b[0;32mdef\u001b[0m \u001b[0mshow\u001b[0m\u001b[0;34m(\u001b[0m\u001b[0mself\u001b[0m\u001b[0;34m)\u001b[0m\u001b[0;34m:\u001b[0m\u001b[0;34m\u001b[0m\n",
       "\u001b[0;34m\u001b[0m        \u001b[0;31m## 여기는 Show 클래스야 \u001b[0m\u001b[0;34m\u001b[0m\n",
       "\u001b[0;34m\u001b[0m        \u001b[0mprint\u001b[0m\u001b[0;34m(\u001b[0m\u001b[0;34m'Show 클래스에 정의된 show 메소드를 실행합니다.'\u001b[0m\u001b[0;34m)\u001b[0m\u001b[0;34m\u001b[0m\n",
       "\u001b[0;34m\u001b[0m        \u001b[0mprint\u001b[0m\u001b[0;34m(\u001b[0m\u001b[0;34m'value={}'\u001b[0m\u001b[0;34m.\u001b[0m\u001b[0mformat\u001b[0m\u001b[0;34m(\u001b[0m\u001b[0mself\u001b[0m\u001b[0;34m.\u001b[0m\u001b[0mvalue\u001b[0m\u001b[0;34m)\u001b[0m\u001b[0;34m)\u001b[0m\u001b[0;34m\u001b[0m\u001b[0;34m\u001b[0m\u001b[0m\n",
       "\u001b[0;31mFile:\u001b[0m      ~/Dropbox/07_lectures/PP2023/posts/03_Class/<ipython-input-199-17ba396d6b13>\n",
       "\u001b[0;31mType:\u001b[0m      method"
      ]
     },
     "metadata": {},
     "output_type": "display_data"
    }
   ],
   "source": [
    "a.show??"
   ]
  },
  {
   "cell_type": "code",
   "execution_count": 220,
   "id": "c46911c7-7077-4ad4-888c-7bd0716d1207",
   "metadata": {},
   "outputs": [
    {
     "data": {
      "text/plain": [
       "\u001b[0;31mSignature:\u001b[0m \u001b[0ma\u001b[0m\u001b[0;34m.\u001b[0m\u001b[0m__init__\u001b[0m\u001b[0;34m(\u001b[0m\u001b[0mvalue\u001b[0m\u001b[0;34m)\u001b[0m\u001b[0;34m\u001b[0m\u001b[0;34m\u001b[0m\u001b[0m\n",
       "\u001b[0;31mDocstring:\u001b[0m Initialize self.  See help(type(self)) for accurate signature.\n",
       "\u001b[0;31mSource:\u001b[0m   \n",
       "    \u001b[0;32mdef\u001b[0m \u001b[0m__init__\u001b[0m\u001b[0;34m(\u001b[0m\u001b[0mself\u001b[0m\u001b[0;34m,\u001b[0m\u001b[0mvalue\u001b[0m\u001b[0;34m)\u001b[0m\u001b[0;34m:\u001b[0m\u001b[0;34m\u001b[0m\n",
       "\u001b[0;34m\u001b[0m        \u001b[0;31m## 여기는 Deco 클래스야~\u001b[0m\u001b[0;34m\u001b[0m\n",
       "\u001b[0;34m\u001b[0m        \u001b[0mprint\u001b[0m\u001b[0;34m(\u001b[0m\u001b[0;34m\"짜라란~\"\u001b[0m\u001b[0;34m)\u001b[0m\u001b[0;34m\u001b[0m\n",
       "\u001b[0;34m\u001b[0m        \u001b[0msuper\u001b[0m\u001b[0;34m(\u001b[0m\u001b[0;34m)\u001b[0m\u001b[0;34m.\u001b[0m\u001b[0m__init__\u001b[0m\u001b[0;34m(\u001b[0m\u001b[0mvalue\u001b[0m\u001b[0;34m)\u001b[0m\u001b[0;34m\u001b[0m\n",
       "\u001b[0;34m\u001b[0m        \u001b[0mprint\u001b[0m\u001b[0;34m(\u001b[0m\u001b[0;34m\"짠짠~!\"\u001b[0m\u001b[0;34m)\u001b[0m\u001b[0;34m\u001b[0m\u001b[0;34m\u001b[0m\u001b[0m\n",
       "\u001b[0;31mFile:\u001b[0m      ~/Dropbox/07_lectures/PP2023/posts/03_Class/<ipython-input-217-d490d9d71128>\n",
       "\u001b[0;31mType:\u001b[0m      method"
      ]
     },
     "metadata": {},
     "output_type": "display_data"
    }
   ],
   "source": [
    "a.__init__??"
   ]
  },
  {
   "cell_type": "markdown",
   "id": "1eb72133-63cf-462d-8553-2d066126af90",
   "metadata": {},
   "source": [
    "`-` 방법4: super() 이용, 방법3을 이해하기 위한 코드"
   ]
  },
  {
   "cell_type": "code",
   "execution_count": 221,
   "id": "bed0df13-a3e2-417c-b1ff-75c93a6603bc",
   "metadata": {},
   "outputs": [],
   "source": [
    "class Deco(Show):\n",
    "    def __init__(self,value):\n",
    "        ## 여기는 Deco 클래스야~\n",
    "        print(\"짜라란~\")\n",
    "        super(__class__,self).__init__(value)\n",
    "        print(\"짠짠~!\")"
   ]
  },
  {
   "cell_type": "code",
   "execution_count": 222,
   "id": "dbbc8c7e-3e19-4b96-bec3-37ca97d7d9b4",
   "metadata": {},
   "outputs": [
    {
     "name": "stdout",
     "output_type": "stream",
     "text": [
      "짜라란~\n",
      "Init 클래스에 정의된 __init__ 메소드를 실행합니다.\n",
      "짠짠~!\n"
     ]
    }
   ],
   "source": [
    "a = Deco(5)"
   ]
  },
  {
   "cell_type": "code",
   "execution_count": 223,
   "id": "f4bc0e70-e3ba-466c-947f-4192d993007b",
   "metadata": {},
   "outputs": [
    {
     "data": {
      "text/plain": [
       "\u001b[0;31mSignature:\u001b[0m \u001b[0ma\u001b[0m\u001b[0;34m.\u001b[0m\u001b[0mshow\u001b[0m\u001b[0;34m(\u001b[0m\u001b[0;34m)\u001b[0m\u001b[0;34m\u001b[0m\u001b[0;34m\u001b[0m\u001b[0m\n",
       "\u001b[0;31mDocstring:\u001b[0m <no docstring>\n",
       "\u001b[0;31mSource:\u001b[0m   \n",
       "    \u001b[0;32mdef\u001b[0m \u001b[0mshow\u001b[0m\u001b[0;34m(\u001b[0m\u001b[0mself\u001b[0m\u001b[0;34m)\u001b[0m\u001b[0;34m:\u001b[0m\u001b[0;34m\u001b[0m\n",
       "\u001b[0;34m\u001b[0m        \u001b[0;31m## 여기는 Show 클래스야 \u001b[0m\u001b[0;34m\u001b[0m\n",
       "\u001b[0;34m\u001b[0m        \u001b[0mprint\u001b[0m\u001b[0;34m(\u001b[0m\u001b[0;34m'Show 클래스에 정의된 show 메소드를 실행합니다.'\u001b[0m\u001b[0;34m)\u001b[0m\u001b[0;34m\u001b[0m\n",
       "\u001b[0;34m\u001b[0m        \u001b[0mprint\u001b[0m\u001b[0;34m(\u001b[0m\u001b[0;34m'value={}'\u001b[0m\u001b[0;34m.\u001b[0m\u001b[0mformat\u001b[0m\u001b[0;34m(\u001b[0m\u001b[0mself\u001b[0m\u001b[0;34m.\u001b[0m\u001b[0mvalue\u001b[0m\u001b[0;34m)\u001b[0m\u001b[0;34m)\u001b[0m\u001b[0;34m\u001b[0m\u001b[0;34m\u001b[0m\u001b[0m\n",
       "\u001b[0;31mFile:\u001b[0m      ~/Dropbox/07_lectures/PP2023/posts/03_Class/<ipython-input-199-17ba396d6b13>\n",
       "\u001b[0;31mType:\u001b[0m      method"
      ]
     },
     "metadata": {},
     "output_type": "display_data"
    }
   ],
   "source": [
    "a.show??"
   ]
  },
  {
   "cell_type": "code",
   "execution_count": 224,
   "id": "d591a395-a1b7-465d-a1a9-9b015f4c1677",
   "metadata": {},
   "outputs": [
    {
     "data": {
      "text/plain": [
       "\u001b[0;31mSignature:\u001b[0m \u001b[0ma\u001b[0m\u001b[0;34m.\u001b[0m\u001b[0m__init__\u001b[0m\u001b[0;34m(\u001b[0m\u001b[0mvalue\u001b[0m\u001b[0;34m)\u001b[0m\u001b[0;34m\u001b[0m\u001b[0;34m\u001b[0m\u001b[0m\n",
       "\u001b[0;31mDocstring:\u001b[0m Initialize self.  See help(type(self)) for accurate signature.\n",
       "\u001b[0;31mSource:\u001b[0m   \n",
       "    \u001b[0;32mdef\u001b[0m \u001b[0m__init__\u001b[0m\u001b[0;34m(\u001b[0m\u001b[0mself\u001b[0m\u001b[0;34m,\u001b[0m\u001b[0mvalue\u001b[0m\u001b[0;34m)\u001b[0m\u001b[0;34m:\u001b[0m\u001b[0;34m\u001b[0m\n",
       "\u001b[0;34m\u001b[0m        \u001b[0;31m## 여기는 Deco 클래스야~\u001b[0m\u001b[0;34m\u001b[0m\n",
       "\u001b[0;34m\u001b[0m        \u001b[0mprint\u001b[0m\u001b[0;34m(\u001b[0m\u001b[0;34m\"짜라란~\"\u001b[0m\u001b[0;34m)\u001b[0m\u001b[0;34m\u001b[0m\n",
       "\u001b[0;34m\u001b[0m        \u001b[0msuper\u001b[0m\u001b[0;34m(\u001b[0m\u001b[0m__class__\u001b[0m\u001b[0;34m,\u001b[0m\u001b[0mself\u001b[0m\u001b[0;34m)\u001b[0m\u001b[0;34m.\u001b[0m\u001b[0m__init__\u001b[0m\u001b[0;34m(\u001b[0m\u001b[0mvalue\u001b[0m\u001b[0;34m)\u001b[0m\u001b[0;34m\u001b[0m\n",
       "\u001b[0;34m\u001b[0m        \u001b[0mprint\u001b[0m\u001b[0;34m(\u001b[0m\u001b[0;34m\"짠짠~!\"\u001b[0m\u001b[0;34m)\u001b[0m\u001b[0;34m\u001b[0m\u001b[0;34m\u001b[0m\u001b[0m\n",
       "\u001b[0;31mFile:\u001b[0m      ~/Dropbox/07_lectures/PP2023/posts/03_Class/<ipython-input-221-284dd9972614>\n",
       "\u001b[0;31mType:\u001b[0m      method"
      ]
     },
     "metadata": {},
     "output_type": "display_data"
    }
   ],
   "source": [
    "a.__init__??"
   ]
  },
  {
   "cell_type": "markdown",
   "id": "b8f70b6b-cfe1-4121-82f8-01e33d81d958",
   "metadata": {},
   "source": [
    "## 다중상속"
   ]
  },
  {
   "cell_type": "markdown",
   "id": "819e2ea2-9234-4777-8fc1-019050b516f1",
   "metadata": {},
   "source": [
    "### ***일반적인 다중상속***"
   ]
  },
  {
   "cell_type": "code",
   "execution_count": 242,
   "id": "89fb099f-4c2a-4b68-a3ad-020efbce3455",
   "metadata": {},
   "outputs": [],
   "source": [
    "class Add: \n",
    "    def __init__(self,value):\n",
    "        self.value = value \n",
    "    def __add__(self,value2):\n",
    "        return self.value + value2"
   ]
  },
  {
   "cell_type": "code",
   "execution_count": 243,
   "id": "59fc867a-4d85-4e1d-9800-b83a9543402a",
   "metadata": {},
   "outputs": [
    {
     "data": {
      "text/plain": [
       "7"
      ]
     },
     "execution_count": 243,
     "metadata": {},
     "output_type": "execute_result"
    }
   ],
   "source": [
    "a = Add(5)\n",
    "a+2"
   ]
  },
  {
   "cell_type": "code",
   "execution_count": 244,
   "id": "7b39b2d4-814a-4b96-9719-840fc68a5405",
   "metadata": {},
   "outputs": [],
   "source": [
    "class Mul: \n",
    "    def __init__(self,value):\n",
    "        self.value = value \n",
    "    def __mul__(self,value2):\n",
    "        return self.value * value2"
   ]
  },
  {
   "cell_type": "code",
   "execution_count": 245,
   "id": "fc1f732b-14d9-4fdb-8473-6802d03adb42",
   "metadata": {},
   "outputs": [
    {
     "data": {
      "text/plain": [
       "10"
      ]
     },
     "execution_count": 245,
     "metadata": {},
     "output_type": "execute_result"
    }
   ],
   "source": [
    "a = Mul(5)\n",
    "a*2"
   ]
  },
  {
   "cell_type": "code",
   "execution_count": 246,
   "id": "9885306e-d0a2-4880-8846-7e23b7758132",
   "metadata": {},
   "outputs": [],
   "source": [
    "class AddMul(Add,Mul):\n",
    "    pass"
   ]
  },
  {
   "cell_type": "code",
   "execution_count": 250,
   "id": "0c20d78b-3ceb-4b27-acb9-090ba8f2cf5d",
   "metadata": {},
   "outputs": [],
   "source": [
    "a = AddMul(5)"
   ]
  },
  {
   "cell_type": "code",
   "execution_count": 251,
   "id": "f55b85a5-7ad1-4f4c-8e57-89df3d2c4154",
   "metadata": {},
   "outputs": [
    {
     "data": {
      "text/plain": [
       "10"
      ]
     },
     "execution_count": 251,
     "metadata": {},
     "output_type": "execute_result"
    }
   ],
   "source": [
    "a*2"
   ]
  },
  {
   "cell_type": "code",
   "execution_count": 252,
   "id": "6b3428d7-713b-4192-9f07-13779465c226",
   "metadata": {},
   "outputs": [
    {
     "data": {
      "text/plain": [
       "10"
      ]
     },
     "execution_count": 252,
     "metadata": {},
     "output_type": "execute_result"
    }
   ],
   "source": [
    "a+5"
   ]
  },
  {
   "cell_type": "markdown",
   "id": "962147e3-3833-43f0-9aa1-128003c99c1a",
   "metadata": {
    "tags": []
   },
   "source": [
    "### ***다중상속 우선순위 (`__init__`이 겹치는뎅?)***"
   ]
  },
  {
   "cell_type": "code",
   "execution_count": 253,
   "id": "7a324caa-f0d2-42a0-acc1-7f0c156bd03c",
   "metadata": {},
   "outputs": [],
   "source": [
    "class Add: \n",
    "    def __init__(self,value):\n",
    "        print(\"Add 클래스에서 정의된 __init__ 을 실행합니다.\")\n",
    "        self.value = value \n",
    "    def __add__(self,value2):\n",
    "        return self.value + value2\n",
    "class Mul: \n",
    "    def __init__(self,value):\n",
    "        print(\"Mul 클래스에서 정의된 __init__ 을 실행합니다.\")\n",
    "        self.value = value \n",
    "    def __mul__(self,value2):\n",
    "        return self.value * value2    \n",
    "class AddMul(Add,Mul):\n",
    "    pass    "
   ]
  },
  {
   "cell_type": "code",
   "execution_count": 254,
   "id": "f49480ff-cade-4e40-aee4-760794de28f8",
   "metadata": {},
   "outputs": [
    {
     "name": "stdout",
     "output_type": "stream",
     "text": [
      "Add 클래스에서 정의된 __init__ 을 실행합니다.\n"
     ]
    }
   ],
   "source": [
    "a = AddMul(5)"
   ]
  },
  {
   "cell_type": "markdown",
   "id": "d28a85ee-d501-49f5-b79d-89850256b08c",
   "metadata": {},
   "source": [
    "### ***믹스인 클래스 ($\\star\\star\\star$)***"
   ]
  },
  {
   "cell_type": "code",
   "execution_count": 258,
   "id": "128f091a-9968-4a4d-81ce-3b93ff29707d",
   "metadata": {},
   "outputs": [],
   "source": [
    "class Init:\n",
    "    def __init__(self,value):\n",
    "        ## 여기는 Init 클래스야\n",
    "        print('Init 클래스에 정의된 __init__ 메소드를 실행합니다.')\n",
    "        self.value = value \n",
    "class Add(Init): \n",
    "    def __add__(self,value2):\n",
    "        return self.value + value2\n",
    "class Mul(Init): \n",
    "    def __mul__(self,value2):\n",
    "        return self.value * value2    \n",
    "class AddMul(Add,Mul,Init):\n",
    "    pass    "
   ]
  },
  {
   "cell_type": "code",
   "execution_count": 259,
   "id": "5ed6deb9-690b-4596-9677-7c8ff0139ebe",
   "metadata": {},
   "outputs": [
    {
     "name": "stdout",
     "output_type": "stream",
     "text": [
      "Init 클래스에 정의된 __init__ 메소드를 실행합니다.\n"
     ]
    }
   ],
   "source": [
    "a=AddMul(5)"
   ]
  },
  {
   "cell_type": "code",
   "execution_count": 260,
   "id": "1ba855e6-0e25-41d9-8e46-abb17150b355",
   "metadata": {},
   "outputs": [
    {
     "data": {
      "text/plain": [
       "7"
      ]
     },
     "execution_count": 260,
     "metadata": {},
     "output_type": "execute_result"
    }
   ],
   "source": [
    "a+2"
   ]
  },
  {
   "cell_type": "code",
   "execution_count": 262,
   "id": "31d2226a-8370-4ce7-a1f8-da34123a5ba6",
   "metadata": {},
   "outputs": [
    {
     "data": {
      "text/plain": [
       "25"
      ]
     },
     "execution_count": 262,
     "metadata": {},
     "output_type": "execute_result"
    }
   ],
   "source": [
    "a*5"
   ]
  },
  {
   "cell_type": "markdown",
   "id": "9974f73b-5024-4f39-9d07-20847d860018",
   "metadata": {},
   "source": [
    "## 다중상속시 `super()`의 활용"
   ]
  },
  {
   "cell_type": "markdown",
   "id": "b6b111d9-d50f-471f-81c0-9d49bc18646e",
   "metadata": {},
   "source": [
    "### ***super()를 쓰지 않은 나쁜사용예시***"
   ]
  },
  {
   "cell_type": "markdown",
   "id": "6f00eea3-63fe-48de-9674-20b839396e69",
   "metadata": {},
   "source": [
    "`-` 초기값을 설정하는 클래스 만듬 "
   ]
  },
  {
   "cell_type": "code",
   "execution_count": 263,
   "id": "ea6e5b9d-4f1f-443e-9e7a-6e2955ec7259",
   "metadata": {},
   "outputs": [],
   "source": [
    "class Init:\n",
    "    def __init__(self,value):\n",
    "        ## 여기는 Init 클래스야\n",
    "        print('Init 클래스에 정의된 __init__ 메소드를 실행합니다.')\n",
    "        self.value = value "
   ]
  },
  {
   "cell_type": "markdown",
   "id": "4c1d117d-d047-43f4-a28d-8767b7a7687f",
   "metadata": {},
   "source": [
    "`-` init을 상속받아서 \n",
    "\n",
    "- \"${\\tt 초기값}= {\\tt 초기값} \\times 2$\" \n",
    "- \"${\\tt 초기값}= {\\tt 초기값} + 5$\" \n",
    "\n",
    "를 인스턴스 생성과 동시에 수행하는 클래스를 각각 만듦"
   ]
  },
  {
   "cell_type": "code",
   "execution_count": 279,
   "id": "b6c062c4-8c9d-4481-b84a-fe763a98b8b6",
   "metadata": {},
   "outputs": [],
   "source": [
    "class Times2(Init):\n",
    "    def __init__(self,value):\n",
    "        Init.__init__(self,value)\n",
    "        self.value = self.value * 2         "
   ]
  },
  {
   "cell_type": "code",
   "execution_count": 283,
   "id": "c4dc2e99-4db8-49d2-80a2-f0e5bb25ce93",
   "metadata": {},
   "outputs": [],
   "source": [
    "class Plus5(Init):\n",
    "    def __init__(self,value):\n",
    "        Init.__init__(self,value)\n",
    "        self.value = self.value + 5"
   ]
  },
  {
   "cell_type": "code",
   "execution_count": 284,
   "id": "7e6c0e7b-a298-4c8a-a5a5-e99c234f3d09",
   "metadata": {},
   "outputs": [
    {
     "name": "stdout",
     "output_type": "stream",
     "text": [
      "Init 클래스에 정의된 __init__ 메소드를 실행합니다.\n"
     ]
    },
    {
     "data": {
      "text/plain": [
       "10"
      ]
     },
     "execution_count": 284,
     "metadata": {},
     "output_type": "execute_result"
    }
   ],
   "source": [
    "a= Times2(5)\n",
    "a.value"
   ]
  },
  {
   "cell_type": "code",
   "execution_count": 285,
   "id": "76a60974-aedd-408e-b9dd-6c154d134aa0",
   "metadata": {},
   "outputs": [
    {
     "name": "stdout",
     "output_type": "stream",
     "text": [
      "Init 클래스에 정의된 __init__ 메소드를 실행합니다.\n"
     ]
    },
    {
     "data": {
      "text/plain": [
       "10"
      ]
     },
     "execution_count": 285,
     "metadata": {},
     "output_type": "execute_result"
    }
   ],
   "source": [
    "a= Plus5(5)\n",
    "a.value"
   ]
  },
  {
   "cell_type": "markdown",
   "id": "909d717e-040f-403c-8091-127da9ca43df",
   "metadata": {},
   "source": [
    "`-` 지나고 보니까 \"${\\tt 초기값} = {\\tt 초기값} \\times 2 + 5$\" 를 인스턴스 생성과 동시에 수행해주는 클래스를 만들고 싶음. "
   ]
  },
  {
   "cell_type": "code",
   "execution_count": 291,
   "id": "61f29164-1866-4927-b20b-979c0739a54d",
   "metadata": {},
   "outputs": [],
   "source": [
    "class Times2Plus5(Times2,Plus5,Init):\n",
    "    def __init__(self,value):\n",
    "        Init.__init__(self,value)\n",
    "        Times2.__init__(self,self.value)\n",
    "        Plus5.__init__(self,self.value)"
   ]
  },
  {
   "cell_type": "code",
   "execution_count": 292,
   "id": "a7b21d47-7fdc-4922-893e-88373e504a8b",
   "metadata": {},
   "outputs": [
    {
     "name": "stdout",
     "output_type": "stream",
     "text": [
      "Init 클래스에 정의된 __init__ 메소드를 실행합니다.\n",
      "Init 클래스에 정의된 __init__ 메소드를 실행합니다.\n",
      "Init 클래스에 정의된 __init__ 메소드를 실행합니다.\n"
     ]
    }
   ],
   "source": [
    "a=Times2Plus5(5)"
   ]
  },
  {
   "cell_type": "code",
   "execution_count": 293,
   "id": "c7c435ab-9529-4a48-8a2b-e938c2897835",
   "metadata": {},
   "outputs": [
    {
     "data": {
      "text/plain": [
       "15"
      ]
     },
     "execution_count": 293,
     "metadata": {},
     "output_type": "execute_result"
    }
   ],
   "source": [
    "a.value"
   ]
  },
  {
   "cell_type": "markdown",
   "id": "57ca7a36-bc8a-4547-bae4-5698de7d7034",
   "metadata": {},
   "source": [
    "`-` 싫은이유1: "
   ]
  },
  {
   "cell_type": "markdown",
   "id": "0f18f767-0b3a-44b9-818b-372f4cbd9dda",
   "metadata": {},
   "source": [
    "`-` 싫은이유2:"
   ]
  },
  {
   "cell_type": "code",
   "execution_count": 294,
   "id": "1fc06954-3a5e-4aa2-83d2-d785d70f1258",
   "metadata": {},
   "outputs": [],
   "source": [
    "class Times2Plus5():\n",
    "    def __init__(self,value):\n",
    "        Init.__init__(self,value)\n",
    "        Times2.__init__(self,self.value)\n",
    "        Plus5.__init__(self,self.value)"
   ]
  },
  {
   "cell_type": "code",
   "execution_count": 295,
   "id": "6ba3e087-4272-49f2-b567-394754f1723b",
   "metadata": {},
   "outputs": [
    {
     "name": "stdout",
     "output_type": "stream",
     "text": [
      "Init 클래스에 정의된 __init__ 메소드를 실행합니다.\n",
      "Init 클래스에 정의된 __init__ 메소드를 실행합니다.\n",
      "Init 클래스에 정의된 __init__ 메소드를 실행합니다.\n"
     ]
    }
   ],
   "source": [
    "a=Times2Plus5(5)"
   ]
  },
  {
   "cell_type": "code",
   "execution_count": 296,
   "id": "f257c477-963f-4394-a85a-1fcfb58e3a37",
   "metadata": {},
   "outputs": [
    {
     "data": {
      "text/plain": [
       "15"
      ]
     },
     "execution_count": 296,
     "metadata": {},
     "output_type": "execute_result"
    }
   ],
   "source": [
    "a.value"
   ]
  },
  {
   "cell_type": "markdown",
   "id": "d9bd56b1-214c-4710-b93c-4a0743bd526f",
   "metadata": {},
   "source": [
    "### ***super()를 활용한 좋은사용예시***"
   ]
  },
  {
   "cell_type": "markdown",
   "id": "bcc05d34-0211-47c0-8e38-0e4e7232338e",
   "metadata": {},
   "source": [
    "`-` 아키텍처를 아래와 같이 바꾸자"
   ]
  },
  {
   "cell_type": "code",
   "execution_count": 298,
   "id": "47a87546-bff9-42df-a00b-2a172eb992a9",
   "metadata": {},
   "outputs": [],
   "source": [
    "class Init:\n",
    "    def __init__(self,value):\n",
    "        ## 여기는 Init 클래스야\n",
    "        print('Init 클래스에 정의된 __init__ 메소드를 실행합니다.')\n",
    "        self.value = value \n",
    "        \n",
    "class Times2(Init):\n",
    "    def __init__(self,value):\n",
    "        super().__init__(value)\n",
    "        self.value = self.value * 2         \n",
    "\n",
    "class Plus5(Init):\n",
    "    def __init__(self,value):\n",
    "        super().__init__(value)\n",
    "        self.value = self.value + 5\n",
    "        \n",
    "class Times2Plus5(Plus5,Times2,Init):\n",
    "    def __init__(self,value):\n",
    "        super().__init__(value)"
   ]
  },
  {
   "cell_type": "markdown",
   "id": "21459eec-dce5-4b3b-9d0d-3e8d3755480a",
   "metadata": {},
   "source": [
    "`-` 써보자"
   ]
  },
  {
   "cell_type": "code",
   "execution_count": 300,
   "id": "17e1ea33-4627-4822-ac04-73330243a818",
   "metadata": {},
   "outputs": [
    {
     "name": "stdout",
     "output_type": "stream",
     "text": [
      "Init 클래스에 정의된 __init__ 메소드를 실행합니다.\n"
     ]
    },
    {
     "data": {
      "text/plain": [
       "15"
      ]
     },
     "execution_count": 300,
     "metadata": {},
     "output_type": "execute_result"
    }
   ],
   "source": [
    "a= Times2Plus5(5)\n",
    "a.value"
   ]
  },
  {
   "cell_type": "markdown",
   "id": "43607041-caca-4c0c-8a7e-cece7d5e9b3d",
   "metadata": {},
   "source": [
    "`-` 이것이 왜 가능? "
   ]
  },
  {
   "cell_type": "markdown",
   "id": "a702c996-1603-4b9a-9618-2121ea6f1eb7",
   "metadata": {},
   "source": [
    "> 원리: mro상으로 상위에 있는 순서대로 타고 올라간 뒤, mro순서대로 한번씩만 `__init__`을 실행함!!"
   ]
  },
  {
   "cell_type": "markdown",
   "id": "133ad4f2-0393-4274-9458-8e42c06c2dbe",
   "metadata": {},
   "source": [
    "`-` 소감: 코드가 깔끔하긴해 + 진정한 상속의 느낌도 있어"
   ]
  },
  {
   "cell_type": "markdown",
   "id": "2fe68ff3-2fde-40e4-996d-2bc9a0d531c9",
   "metadata": {},
   "source": [
    "## `super()`의 사용방법"
   ]
  },
  {
   "cell_type": "markdown",
   "id": "9eb31e62-895f-4a79-971c-f7ecbe336cbd",
   "metadata": {},
   "source": [
    "`-` 이제 \"$({\\tt 초기값} \\times 2 + 5)\\times 2$\" 를 수행해주는 클래스를 만들고 싶음. "
   ]
  },
  {
   "cell_type": "code",
   "execution_count": 305,
   "id": "70ef8d41-c061-4d2b-99ec-f110d6c7e940",
   "metadata": {},
   "outputs": [],
   "source": [
    "class Init:\n",
    "    def __init__(self,value):\n",
    "        ## 여기는 Init 클래스야\n",
    "        print('Init 클래스에 정의된 __init__ 메소드를 실행합니다.')\n",
    "        self.value = value \n",
    "        \n",
    "class Times2(Init):\n",
    "    def __init__(self,value):\n",
    "        super().__init__(value)\n",
    "        self.value = self.value * 2         \n",
    "\n",
    "class Plus5(Init):\n",
    "    def __init__(self,value):\n",
    "        super().__init__(value)\n",
    "        self.value = self.value + 5\n",
    "        \n",
    "class Times2Plus5Times2(Plus5,Times2,Init):\n",
    "    def __init__(self,value):\n",
    "        super().__init__(value)\n",
    "        super(Plus5,self).__init__(self.value)"
   ]
  },
  {
   "cell_type": "code",
   "execution_count": 304,
   "id": "e1db3260-c347-4a25-a027-98244022bff1",
   "metadata": {},
   "outputs": [
    {
     "name": "stdout",
     "output_type": "stream",
     "text": [
      "Init 클래스에 정의된 __init__ 메소드를 실행합니다.\n",
      "Init 클래스에 정의된 __init__ 메소드를 실행합니다.\n"
     ]
    },
    {
     "data": {
      "text/plain": [
       "30"
      ]
     },
     "execution_count": 304,
     "metadata": {},
     "output_type": "execute_result"
    }
   ],
   "source": [
    "a=Times2Plus5Times2(5)\n",
    "a.value"
   ]
  },
  {
   "cell_type": "markdown",
   "id": "8b282360-2f42-4ed8-9151-741e1af51de0",
   "metadata": {},
   "source": [
    "`-` 코드해석"
   ]
  },
  {
   "cell_type": "markdown",
   "id": "434aca1b-8104-4b11-9eea-0e0e121b0342",
   "metadata": {},
   "source": [
    "`-` 그냥 이게 낫지 않나?"
   ]
  },
  {
   "cell_type": "code",
   "execution_count": 309,
   "id": "d8e3b3c4-0267-42df-ba76-33ac7d92e86c",
   "metadata": {},
   "outputs": [],
   "source": [
    "class Init:\n",
    "    def __init__(self,value):\n",
    "        ## 여기는 Init 클래스야\n",
    "        print('Init 클래스에 정의된 __init__ 메소드를 실행합니다.')\n",
    "        self.value = value \n",
    "        \n",
    "class Times2:\n",
    "    def times2(self):\n",
    "        self.value = self.value * 2         \n",
    "\n",
    "class Plus5:\n",
    "    def plus5(self):\n",
    "        self.value = self.value + 5\n",
    "        \n",
    "class Times2Plus5Times2(Plus5,Times2,Init):\n",
    "    def times2plus5times2(self):\n",
    "        self.times2()\n",
    "        self.plus5()\n",
    "        self.times2()\n"
   ]
  },
  {
   "cell_type": "code",
   "execution_count": 310,
   "id": "0468c180-716d-43d6-b1ce-4fdedfceeb84",
   "metadata": {},
   "outputs": [
    {
     "name": "stdout",
     "output_type": "stream",
     "text": [
      "Init 클래스에 정의된 __init__ 메소드를 실행합니다.\n"
     ]
    },
    {
     "data": {
      "text/plain": [
       "5"
      ]
     },
     "execution_count": 310,
     "metadata": {},
     "output_type": "execute_result"
    }
   ],
   "source": [
    "a= Times2Plus5Times2(5)\n",
    "a.value"
   ]
  },
  {
   "cell_type": "code",
   "execution_count": 311,
   "id": "1e475640-ddc1-4df9-a017-ad72fc2846db",
   "metadata": {},
   "outputs": [],
   "source": [
    "a.times2plus5times2()"
   ]
  },
  {
   "cell_type": "code",
   "execution_count": 312,
   "id": "20d837ec-4a9f-421d-b293-1f5c629dc2b7",
   "metadata": {},
   "outputs": [
    {
     "data": {
      "text/plain": [
       "30"
      ]
     },
     "execution_count": 312,
     "metadata": {},
     "output_type": "execute_result"
    }
   ],
   "source": [
    "a.value"
   ]
  },
  {
   "cell_type": "markdown",
   "id": "6542bc2d-e013-49c3-b0ba-936eeaf590cf",
   "metadata": {},
   "source": [
    "- 이렇게 애초부터 메소드들이 겹치지 않게 깔끔하게 클래스를 디자인해서 쓰는게 더 나은것 같은데?"
   ]
  },
  {
   "cell_type": "markdown",
   "id": "6a932bf4-7c28-4b0f-8153-c90ebf18e6e6",
   "metadata": {},
   "source": [
    "`-` 그래도 이 문법을 알아야 한다. 왜??"
   ]
  },
  {
   "cell_type": "markdown",
   "id": "7f4b92ca-8a51-45ef-a702-df0a983e60ea",
   "metadata": {},
   "source": [
    "|단계|인터넷밈|클래스|레포트표지|\n",
    "|:-|:-|:-|:-|\n",
    "|1단계: 구상| $\\bullet$ 이거 재미있다. <br/> $\\bullet$ 밈화하자.| $\\bullet$ 이 코드 반복해서 자주 쓸 것 같다. <br/> $\\bullet$ 이 코드를 쉽게 찍어내는 (복사할 수 있는) 클래스를 만들자| $\\bullet$ 레포트 표지를 자주 만들 것 같음 <br/> $\\bullet$  양식파일을 만들까? |\n",
    "|2단계: 틀생성| $\\bullet$ \"밈틀\": 복사하고 싶은 속성을 추려 밈을 생산하기에 유리한 틀을 만듬 | $\\bullet$ 클래스의 선언 | $\\bullet$ REPORT_2023_최규빈.hwp 양식파일을 생성 |\n",
    "|3단계: 틀 $\\to$ 복제| $\\bullet$ 밈화: \"밈틀\"에서 다양한 밈을 만들고 놈 | $\\bullet$ 인스턴스화: 클래스에서 인스턴스를 생산 | $\\bullet$ 레포트 양식표지에서 다양한 레포트를 냄 | \n",
    "|4단계: 틀 $\\to$ 틀변경 $\\to$ 복제| $\\bullet$ 생각해보니까 초기 밈틀은 시시함. <br/> $\\bullet$  초기 밈틀을 수정해 새로운 밈틀을 만들고 더 재미있는 밈을 만들고 놈 | $\\bullet$ 초기클래스와 비슷한 클래스를 선언할 일이 생김 <br/> $\\bullet$ 상속,오버라이딩: 초기클래스를 상속받아 클래스를 새롭게 정의하고 인스턴스를 재 생산 | $\\bullet$ 공모전에 참가하여 결과보고서를 작성할 일이 생김. <br/> $\\bullet$ REPORT_2023_최규빈.hwp 를 적당히 변형하여 수정된 틀을 만들고 결과보고서 생산. "
   ]
  },
  {
   "cell_type": "markdown",
   "id": "ed69a2fa-9270-4756-8130-d66fe3e2b739",
   "metadata": {},
   "source": [
    "> 상속은 위의 표에서 4단계에 해당한다. 즉 어떠한 클래스를 상속받을때는 \"내가 만든 클래스\"가 아닐 경우가 대부분이다. 따라서 \"애초부터 메소드가 겹치지 않게 클래스들을 깔끔하게 디자인을 하는것\" 은 불가능한 경우가 많다. "
   ]
  },
  {
   "cell_type": "markdown",
   "id": "e9d4256b-dc33-41f1-a2f3-567b3cb71fbc",
   "metadata": {},
   "source": [
    "## 리스트의 상속"
   ]
  },
  {
   "cell_type": "markdown",
   "id": "f2a2fb1c-8340-4695-a43f-2dd66fb790cb",
   "metadata": {},
   "source": [
    "`-` list와 비슷한데 멤버들의 빈도가 계산되는 메소드를 포함하는 새로운 나만의 list를 만들고 싶다. "
   ]
  },
  {
   "cell_type": "code",
   "execution_count": 314,
   "id": "06c7a217-adca-4544-ad88-4bbe61ff6eff",
   "metadata": {},
   "outputs": [
    {
     "data": {
      "text/plain": [
       "['a', 's', 'd', 'f', 'a', 'a', 's', 'd', 'f', 'f']"
      ]
     },
     "execution_count": 314,
     "metadata": {},
     "output_type": "execute_result"
    }
   ],
   "source": [
    "lst = list('asdfaasdff')\n",
    "lst"
   ]
  },
  {
   "cell_type": "markdown",
   "id": "2ca3c798-30f1-48c5-9f99-65819becf2f3",
   "metadata": {},
   "source": [
    "`-` 각 원소들의 빈도를 구해보면 아래와 같다. "
   ]
  },
  {
   "cell_type": "code",
   "execution_count": 318,
   "id": "ac23193b-5219-4586-838d-7a0457674491",
   "metadata": {},
   "outputs": [
    {
     "data": {
      "text/plain": [
       "{'d': 2, 'a': 3, 's': 2, 'f': 3}"
      ]
     },
     "execution_count": 318,
     "metadata": {},
     "output_type": "execute_result"
    }
   ],
   "source": [
    "{s:lst.count(s) for s in set(lst)}"
   ]
  },
  {
   "cell_type": "markdown",
   "id": "3f9d6833-c920-4b21-9c44-f6551d12e26e",
   "metadata": {},
   "source": [
    "`-` 이것을 내가 정의하는 새로운 list의 메소드로 넣고 싶다. "
   ]
  },
  {
   "cell_type": "code",
   "execution_count": 319,
   "id": "8eca5d3f-410c-4523-b019-7840d8f48afd",
   "metadata": {},
   "outputs": [],
   "source": [
    "class List(list):\n",
    "    def freq(self):\n",
    "        return {s:self.count(s) for s in set(self)}"
   ]
  },
  {
   "cell_type": "markdown",
   "id": "c35b3149-fd61-4c12-ac39-f85f2b6f51fe",
   "metadata": {},
   "source": [
    "`-` 기존리스트에서 추가로 frequency() 메소드가 존재함. "
   ]
  },
  {
   "cell_type": "code",
   "execution_count": 320,
   "id": "de1b34e9-271b-42b3-96d4-bc6de0d9afd7",
   "metadata": {},
   "outputs": [],
   "source": [
    "lst = List('asdfaasdff')"
   ]
  },
  {
   "cell_type": "code",
   "execution_count": 324,
   "id": "11daadb2-0e28-4fe3-8d11-c171446f9f8e",
   "metadata": {},
   "outputs": [
    {
     "data": {
      "text/plain": [
       "{'d': 2, 'a': 3, 's': 2, 'f': 3}"
      ]
     },
     "execution_count": 324,
     "metadata": {},
     "output_type": "execute_result"
    }
   ],
   "source": [
    "lst.freq()"
   ]
  }
 ],
 "metadata": {
  "kernelspec": {
   "display_name": "Python 3",
   "language": "python",
   "name": "python3"
  },
  "language_info": {
   "codemirror_mode": {
    "name": "ipython",
    "version": 3
   },
   "file_extension": ".py",
   "mimetype": "text/x-python",
   "name": "python",
   "nbconvert_exporter": "python",
   "pygments_lexer": "ipython3",
   "version": "3.8.16"
  }
 },
 "nbformat": 4,
 "nbformat_minor": 5
}
