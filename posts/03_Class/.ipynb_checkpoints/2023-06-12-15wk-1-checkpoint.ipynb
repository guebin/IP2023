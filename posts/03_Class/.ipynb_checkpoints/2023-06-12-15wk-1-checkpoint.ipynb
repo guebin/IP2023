{
 "cells": [
  {
   "cell_type": "raw",
   "id": "a1528b7b-1d00-4bcd-bdd4-490ab2e6d884",
   "metadata": {},
   "source": [
    "---\n",
    "title: \"15wk-1: 클래스공부 5단계 -- 상속\"\n",
    "author: \"최규빈\"\n",
    "date: \"06/12/2023\"\n",
    "---"
   ]
  },
  {
   "cell_type": "markdown",
   "id": "6dea5cee-a6c8-45ed-8d69-2463517388fb",
   "metadata": {},
   "source": [
    "<a href=\"https://colab.research.google.com/github/guebin/PP2023/blob/main/posts/03_Class/2023-06-12-15wk-1.ipynb\"><img src=\"https://colab.research.google.com/assets/colab-badge.svg\" style=\"text-align: left\"></a>"
   ]
  },
  {
   "cell_type": "markdown",
   "id": "b38407e9-82a0-4863-87e5-0865f8fa31c1",
   "metadata": {},
   "source": [
    "# 클래스공부 5단계: 상속"
   ]
  },
  {
   "cell_type": "markdown",
   "id": "3cd9f0ef-1ece-4965-8f1f-0cd38502e082",
   "metadata": {},
   "source": [
    "## 상속의 사용방법"
   ]
  },
  {
   "cell_type": "markdown",
   "id": "20517b7a-c5a6-4e6a-8931-7f7c9a69633f",
   "metadata": {},
   "source": [
    "`-` 클래스를 조금 수정하고 싶을때, 아래와 같은 문법을 이용하면 편리하다. \n",
    "\n",
    "```Python\n",
    "class 새로운_클래스_이름(수정할_클래스_이름): \n",
    "    def 수정_및_추가할_함수이름(self,...):\n",
    "        ...\n",
    "```"
   ]
  },
  {
   "cell_type": "markdown",
   "id": "4ddf0179-e96e-4580-a4da-eb40002f1fe4",
   "metadata": {},
   "source": [
    "## 간단한 사용예시"
   ]
  },
  {
   "cell_type": "code",
   "execution_count": 341,
   "id": "afe7e37f-ebb2-4a14-b9c1-7199385ab206",
   "metadata": {
    "tags": []
   },
   "outputs": [],
   "source": [
    "class Init:\n",
    "    def __init__(self,value):\n",
    "        ## 여기는 Init 클래스야 \n",
    "        print(\"Init클래스에서 정의된 __init__메소드를 실행합니다\")        \n",
    "        self.value = value"
   ]
  },
  {
   "cell_type": "code",
   "execution_count": 342,
   "id": "b54dc947-0b8b-42a4-aa53-7856e43ea29a",
   "metadata": {
    "tags": []
   },
   "outputs": [],
   "source": [
    "class Show(Init):\n",
    "    def show(self):\n",
    "        ## 여기는 Show 클래스야\n",
    "        print(\"Show클래스에서 정의된 show메소드를 실행합니다\")\n",
    "        print('value={}'.format(self.value))"
   ]
  },
  {
   "cell_type": "code",
   "execution_count": 344,
   "id": "70b3148d-7529-4e9a-9226-a174416f9409",
   "metadata": {},
   "outputs": [
    {
     "name": "stdout",
     "output_type": "stream",
     "text": [
      "Init클래스에서 정의된 __init__메소드를 실행합니다\n"
     ]
    }
   ],
   "source": [
    "a = Show(5)"
   ]
  },
  {
   "cell_type": "code",
   "execution_count": 345,
   "id": "185c3a25-376c-431e-8c72-dcd5ecf51c50",
   "metadata": {},
   "outputs": [
    {
     "name": "stdout",
     "output_type": "stream",
     "text": [
      "Show클래스에서 정의된 show메소드를 실행합니다\n",
      "value=5\n"
     ]
    }
   ],
   "source": [
    "a.show()"
   ]
  },
  {
   "cell_type": "code",
   "execution_count": 346,
   "id": "f3933cc8-6155-4547-bfe3-e0fc2a48f36e",
   "metadata": {},
   "outputs": [
    {
     "data": {
      "text/plain": [
       "\u001b[0;31mSignature:\u001b[0m \u001b[0ma\u001b[0m\u001b[0;34m.\u001b[0m\u001b[0mshow\u001b[0m\u001b[0;34m(\u001b[0m\u001b[0;34m)\u001b[0m\u001b[0;34m\u001b[0m\u001b[0;34m\u001b[0m\u001b[0m\n",
       "\u001b[0;31mDocstring:\u001b[0m <no docstring>\n",
       "\u001b[0;31mSource:\u001b[0m   \n",
       "    \u001b[0;32mdef\u001b[0m \u001b[0mshow\u001b[0m\u001b[0;34m(\u001b[0m\u001b[0mself\u001b[0m\u001b[0;34m)\u001b[0m\u001b[0;34m:\u001b[0m\u001b[0;34m\u001b[0m\n",
       "\u001b[0;34m\u001b[0m        \u001b[0;31m## 여기는 Show 클래스야\u001b[0m\u001b[0;34m\u001b[0m\n",
       "\u001b[0;34m\u001b[0m        \u001b[0mprint\u001b[0m\u001b[0;34m(\u001b[0m\u001b[0;34m\"Show클래스에서 정의된 show메소드를 실행합니다\"\u001b[0m\u001b[0;34m)\u001b[0m\u001b[0;34m\u001b[0m\n",
       "\u001b[0;34m\u001b[0m        \u001b[0mprint\u001b[0m\u001b[0;34m(\u001b[0m\u001b[0;34m'value={}'\u001b[0m\u001b[0;34m.\u001b[0m\u001b[0mformat\u001b[0m\u001b[0;34m(\u001b[0m\u001b[0mself\u001b[0m\u001b[0;34m.\u001b[0m\u001b[0mvalue\u001b[0m\u001b[0;34m)\u001b[0m\u001b[0;34m)\u001b[0m\u001b[0;34m\u001b[0m\u001b[0;34m\u001b[0m\u001b[0m\n",
       "\u001b[0;31mFile:\u001b[0m      ~/Dropbox/07_lectures/PP2023/posts/03_Class/<ipython-input-342-5ac798f79ec3>\n",
       "\u001b[0;31mType:\u001b[0m      method"
      ]
     },
     "metadata": {},
     "output_type": "display_data"
    }
   ],
   "source": [
    "a.show??"
   ]
  },
  {
   "cell_type": "code",
   "execution_count": 347,
   "id": "a0388baa-53bd-4c73-826a-b76d6d6d20cd",
   "metadata": {},
   "outputs": [
    {
     "data": {
      "text/plain": [
       "\u001b[0;31mSignature:\u001b[0m \u001b[0ma\u001b[0m\u001b[0;34m.\u001b[0m\u001b[0m__init__\u001b[0m\u001b[0;34m(\u001b[0m\u001b[0mvalue\u001b[0m\u001b[0;34m)\u001b[0m\u001b[0;34m\u001b[0m\u001b[0;34m\u001b[0m\u001b[0m\n",
       "\u001b[0;31mDocstring:\u001b[0m Initialize self.  See help(type(self)) for accurate signature.\n",
       "\u001b[0;31mSource:\u001b[0m   \n",
       "    \u001b[0;32mdef\u001b[0m \u001b[0m__init__\u001b[0m\u001b[0;34m(\u001b[0m\u001b[0mself\u001b[0m\u001b[0;34m,\u001b[0m\u001b[0mvalue\u001b[0m\u001b[0;34m)\u001b[0m\u001b[0;34m:\u001b[0m\u001b[0;34m\u001b[0m\n",
       "\u001b[0;34m\u001b[0m        \u001b[0;31m## 여기는 Init 클래스야 \u001b[0m\u001b[0;34m\u001b[0m\n",
       "\u001b[0;34m\u001b[0m        \u001b[0mprint\u001b[0m\u001b[0;34m(\u001b[0m\u001b[0;34m\"Init클래스에서 정의된 __init__메소드를 실행합니다\"\u001b[0m\u001b[0;34m)\u001b[0m        \u001b[0;34m\u001b[0m\n",
       "\u001b[0;34m\u001b[0m        \u001b[0mself\u001b[0m\u001b[0;34m.\u001b[0m\u001b[0mvalue\u001b[0m \u001b[0;34m=\u001b[0m \u001b[0mvalue\u001b[0m\u001b[0;34m\u001b[0m\u001b[0;34m\u001b[0m\u001b[0m\n",
       "\u001b[0;31mFile:\u001b[0m      ~/Dropbox/07_lectures/PP2023/posts/03_Class/<ipython-input-341-3a7b8109daf8>\n",
       "\u001b[0;31mType:\u001b[0m      method"
      ]
     },
     "metadata": {},
     "output_type": "display_data"
    }
   ],
   "source": [
    "a.__init__??"
   ]
  },
  {
   "cell_type": "markdown",
   "id": "fc535f67-90b5-42b8-b459-43165225ac97",
   "metadata": {},
   "source": [
    "## 슈퍼클래스 메소드 재활용"
   ]
  },
  {
   "cell_type": "markdown",
   "id": "0550828e-8ff2-42e6-824d-802b76c14a8d",
   "metadata": {},
   "source": [
    "`-` 방법1: 직접 슈퍼클래스 명시"
   ]
  },
  {
   "cell_type": "code",
   "execution_count": 348,
   "id": "a1e90845-9f91-4baa-be90-05ce21720448",
   "metadata": {},
   "outputs": [],
   "source": [
    "class Deco(Show):\n",
    "    def __init__(self,value):\n",
    "        ## 여기는 Deco클래스야~\n",
    "        print(\"짜라란~~\")\n",
    "        Show.__init__(self,value)\n",
    "        print(\"짠짠~!!\")"
   ]
  },
  {
   "cell_type": "code",
   "execution_count": 349,
   "id": "1639491f-9e97-4cf4-bf3d-2e502751c8ce",
   "metadata": {},
   "outputs": [
    {
     "name": "stdout",
     "output_type": "stream",
     "text": [
      "짜라란~~\n",
      "Init클래스에서 정의된 __init__메소드를 실행합니다\n",
      "짠짠~!!\n"
     ]
    }
   ],
   "source": [
    "a=Deco(5)"
   ]
  },
  {
   "cell_type": "code",
   "execution_count": 354,
   "id": "6707a1ea-a132-4f63-9d2d-0b6effdcab84",
   "metadata": {},
   "outputs": [
    {
     "data": {
      "text/plain": [
       "\u001b[0;31mSignature:\u001b[0m \u001b[0ma\u001b[0m\u001b[0;34m.\u001b[0m\u001b[0mshow\u001b[0m\u001b[0;34m(\u001b[0m\u001b[0;34m)\u001b[0m\u001b[0;34m\u001b[0m\u001b[0;34m\u001b[0m\u001b[0m\n",
       "\u001b[0;31mDocstring:\u001b[0m <no docstring>\n",
       "\u001b[0;31mSource:\u001b[0m   \n",
       "    \u001b[0;32mdef\u001b[0m \u001b[0mshow\u001b[0m\u001b[0;34m(\u001b[0m\u001b[0mself\u001b[0m\u001b[0;34m)\u001b[0m\u001b[0;34m:\u001b[0m\u001b[0;34m\u001b[0m\n",
       "\u001b[0;34m\u001b[0m        \u001b[0;31m## 여기는 Show 클래스야\u001b[0m\u001b[0;34m\u001b[0m\n",
       "\u001b[0;34m\u001b[0m        \u001b[0mprint\u001b[0m\u001b[0;34m(\u001b[0m\u001b[0;34m\"Show클래스에서 정의된 show메소드를 실행합니다\"\u001b[0m\u001b[0;34m)\u001b[0m\u001b[0;34m\u001b[0m\n",
       "\u001b[0;34m\u001b[0m        \u001b[0mprint\u001b[0m\u001b[0;34m(\u001b[0m\u001b[0;34m'value={}'\u001b[0m\u001b[0;34m.\u001b[0m\u001b[0mformat\u001b[0m\u001b[0;34m(\u001b[0m\u001b[0mself\u001b[0m\u001b[0;34m.\u001b[0m\u001b[0mvalue\u001b[0m\u001b[0;34m)\u001b[0m\u001b[0;34m)\u001b[0m\u001b[0;34m\u001b[0m\u001b[0;34m\u001b[0m\u001b[0m\n",
       "\u001b[0;31mFile:\u001b[0m      ~/Dropbox/07_lectures/PP2023/posts/03_Class/<ipython-input-342-5ac798f79ec3>\n",
       "\u001b[0;31mType:\u001b[0m      method"
      ]
     },
     "metadata": {},
     "output_type": "display_data"
    }
   ],
   "source": [
    "a.show??"
   ]
  },
  {
   "cell_type": "code",
   "execution_count": 353,
   "id": "3a982e2f-6f95-447f-a9c6-f22aef03dbd4",
   "metadata": {},
   "outputs": [
    {
     "data": {
      "text/plain": [
       "\u001b[0;31mSignature:\u001b[0m \u001b[0ma\u001b[0m\u001b[0;34m.\u001b[0m\u001b[0m__init__\u001b[0m\u001b[0;34m(\u001b[0m\u001b[0mvalue\u001b[0m\u001b[0;34m)\u001b[0m\u001b[0;34m\u001b[0m\u001b[0;34m\u001b[0m\u001b[0m\n",
       "\u001b[0;31mDocstring:\u001b[0m Initialize self.  See help(type(self)) for accurate signature.\n",
       "\u001b[0;31mSource:\u001b[0m   \n",
       "    \u001b[0;32mdef\u001b[0m \u001b[0m__init__\u001b[0m\u001b[0;34m(\u001b[0m\u001b[0mself\u001b[0m\u001b[0;34m,\u001b[0m\u001b[0mvalue\u001b[0m\u001b[0;34m)\u001b[0m\u001b[0;34m:\u001b[0m\u001b[0;34m\u001b[0m\n",
       "\u001b[0;34m\u001b[0m        \u001b[0;31m## 여기는 Deco클래스야~\u001b[0m\u001b[0;34m\u001b[0m\n",
       "\u001b[0;34m\u001b[0m        \u001b[0mprint\u001b[0m\u001b[0;34m(\u001b[0m\u001b[0;34m\"짜라란~~\"\u001b[0m\u001b[0;34m)\u001b[0m\u001b[0;34m\u001b[0m\n",
       "\u001b[0;34m\u001b[0m        \u001b[0mShow\u001b[0m\u001b[0;34m.\u001b[0m\u001b[0m__init__\u001b[0m\u001b[0;34m(\u001b[0m\u001b[0mself\u001b[0m\u001b[0;34m,\u001b[0m\u001b[0mvalue\u001b[0m\u001b[0;34m)\u001b[0m\u001b[0;34m\u001b[0m\n",
       "\u001b[0;34m\u001b[0m        \u001b[0mprint\u001b[0m\u001b[0;34m(\u001b[0m\u001b[0;34m\"짠짠~!!\"\u001b[0m\u001b[0;34m)\u001b[0m\u001b[0;34m\u001b[0m\u001b[0;34m\u001b[0m\u001b[0m\n",
       "\u001b[0;31mFile:\u001b[0m      ~/Dropbox/07_lectures/PP2023/posts/03_Class/<ipython-input-348-8837bbd4ea3b>\n",
       "\u001b[0;31mType:\u001b[0m      method"
      ]
     },
     "metadata": {},
     "output_type": "display_data"
    }
   ],
   "source": [
    "a.__init__??"
   ]
  },
  {
   "cell_type": "markdown",
   "id": "3a9cd020-adcd-4131-a4de-ede607759355",
   "metadata": {},
   "source": [
    "`-` 방법2: super() 이용 (생략안한버전)"
   ]
  },
  {
   "cell_type": "code",
   "execution_count": 361,
   "id": "a2012c24-0438-4b46-8606-e0c7e43c4330",
   "metadata": {},
   "outputs": [],
   "source": [
    "class Deco(Show):\n",
    "    def __init__(self,value):\n",
    "        ## 여기는 Deco클래스야~\n",
    "        print(\"짜라란~~\")\n",
    "        super(Deco,self).__init__(value)\n",
    "        print(\"짠짠~!!\")"
   ]
  },
  {
   "cell_type": "code",
   "execution_count": 362,
   "id": "056c7793-73bd-40c2-8107-39cca9cc7f29",
   "metadata": {},
   "outputs": [
    {
     "name": "stdout",
     "output_type": "stream",
     "text": [
      "짜라란~~\n",
      "Init클래스에서 정의된 __init__메소드를 실행합니다\n",
      "짠짠~!!\n"
     ]
    }
   ],
   "source": [
    "a=Deco(5)"
   ]
  },
  {
   "cell_type": "code",
   "execution_count": 363,
   "id": "355cbe43-6cae-430a-8f1a-4eef78409208",
   "metadata": {},
   "outputs": [
    {
     "data": {
      "text/plain": [
       "\u001b[0;31mSignature:\u001b[0m \u001b[0ma\u001b[0m\u001b[0;34m.\u001b[0m\u001b[0mshow\u001b[0m\u001b[0;34m(\u001b[0m\u001b[0;34m)\u001b[0m\u001b[0;34m\u001b[0m\u001b[0;34m\u001b[0m\u001b[0m\n",
       "\u001b[0;31mDocstring:\u001b[0m <no docstring>\n",
       "\u001b[0;31mSource:\u001b[0m   \n",
       "    \u001b[0;32mdef\u001b[0m \u001b[0mshow\u001b[0m\u001b[0;34m(\u001b[0m\u001b[0mself\u001b[0m\u001b[0;34m)\u001b[0m\u001b[0;34m:\u001b[0m\u001b[0;34m\u001b[0m\n",
       "\u001b[0;34m\u001b[0m        \u001b[0;31m## 여기는 Show 클래스야\u001b[0m\u001b[0;34m\u001b[0m\n",
       "\u001b[0;34m\u001b[0m        \u001b[0mprint\u001b[0m\u001b[0;34m(\u001b[0m\u001b[0;34m\"Show클래스에서 정의된 show메소드를 실행합니다\"\u001b[0m\u001b[0;34m)\u001b[0m\u001b[0;34m\u001b[0m\n",
       "\u001b[0;34m\u001b[0m        \u001b[0mprint\u001b[0m\u001b[0;34m(\u001b[0m\u001b[0;34m'value={}'\u001b[0m\u001b[0;34m.\u001b[0m\u001b[0mformat\u001b[0m\u001b[0;34m(\u001b[0m\u001b[0mself\u001b[0m\u001b[0;34m.\u001b[0m\u001b[0mvalue\u001b[0m\u001b[0;34m)\u001b[0m\u001b[0;34m)\u001b[0m\u001b[0;34m\u001b[0m\u001b[0;34m\u001b[0m\u001b[0m\n",
       "\u001b[0;31mFile:\u001b[0m      ~/Dropbox/07_lectures/PP2023/posts/03_Class/<ipython-input-342-5ac798f79ec3>\n",
       "\u001b[0;31mType:\u001b[0m      method"
      ]
     },
     "metadata": {},
     "output_type": "display_data"
    }
   ],
   "source": [
    "a.show??"
   ]
  },
  {
   "cell_type": "code",
   "execution_count": 364,
   "id": "129a7781-f874-4afc-a718-489786053949",
   "metadata": {},
   "outputs": [
    {
     "data": {
      "text/plain": [
       "\u001b[0;31mSignature:\u001b[0m \u001b[0ma\u001b[0m\u001b[0;34m.\u001b[0m\u001b[0m__init__\u001b[0m\u001b[0;34m(\u001b[0m\u001b[0mvalue\u001b[0m\u001b[0;34m)\u001b[0m\u001b[0;34m\u001b[0m\u001b[0;34m\u001b[0m\u001b[0m\n",
       "\u001b[0;31mDocstring:\u001b[0m Initialize self.  See help(type(self)) for accurate signature.\n",
       "\u001b[0;31mSource:\u001b[0m   \n",
       "    \u001b[0;32mdef\u001b[0m \u001b[0m__init__\u001b[0m\u001b[0;34m(\u001b[0m\u001b[0mself\u001b[0m\u001b[0;34m,\u001b[0m\u001b[0mvalue\u001b[0m\u001b[0;34m)\u001b[0m\u001b[0;34m:\u001b[0m\u001b[0;34m\u001b[0m\n",
       "\u001b[0;34m\u001b[0m        \u001b[0;31m## 여기는 Deco클래스야~\u001b[0m\u001b[0;34m\u001b[0m\n",
       "\u001b[0;34m\u001b[0m        \u001b[0mprint\u001b[0m\u001b[0;34m(\u001b[0m\u001b[0;34m\"짜라란~~\"\u001b[0m\u001b[0;34m)\u001b[0m\u001b[0;34m\u001b[0m\n",
       "\u001b[0;34m\u001b[0m        \u001b[0msuper\u001b[0m\u001b[0;34m(\u001b[0m\u001b[0mDeco\u001b[0m\u001b[0;34m,\u001b[0m\u001b[0mself\u001b[0m\u001b[0;34m)\u001b[0m\u001b[0;34m.\u001b[0m\u001b[0m__init__\u001b[0m\u001b[0;34m(\u001b[0m\u001b[0mvalue\u001b[0m\u001b[0;34m)\u001b[0m\u001b[0;34m\u001b[0m\n",
       "\u001b[0;34m\u001b[0m        \u001b[0mprint\u001b[0m\u001b[0;34m(\u001b[0m\u001b[0;34m\"짠짠~!!\"\u001b[0m\u001b[0;34m)\u001b[0m\u001b[0;34m\u001b[0m\u001b[0;34m\u001b[0m\u001b[0m\n",
       "\u001b[0;31mFile:\u001b[0m      ~/Dropbox/07_lectures/PP2023/posts/03_Class/<ipython-input-361-5ba5667ac964>\n",
       "\u001b[0;31mType:\u001b[0m      method"
      ]
     },
     "metadata": {},
     "output_type": "display_data"
    }
   ],
   "source": [
    "a.__init__??"
   ]
  },
  {
   "cell_type": "markdown",
   "id": "be96ef37-441e-4492-9b92-55ba7126eb63",
   "metadata": {},
   "source": [
    "`-` 방법3: super() 이용 (생략한버젼) <-- 이렇게 쓰세요!"
   ]
  },
  {
   "cell_type": "code",
   "execution_count": 379,
   "id": "7078e281-93fc-4f99-9e5f-52edd2a49bf5",
   "metadata": {},
   "outputs": [],
   "source": [
    "class Deco(Show):\n",
    "    def __init__(self,value):\n",
    "        ## 여기는 Deco클래스야~\n",
    "        print(\"짜라란~~\")\n",
    "        super().__init__(value)\n",
    "        print(\"짠짠~!!\")"
   ]
  },
  {
   "cell_type": "code",
   "execution_count": 366,
   "id": "fae6bcae-9da7-4f0d-a98e-b46dd8bc8dbc",
   "metadata": {},
   "outputs": [
    {
     "name": "stdout",
     "output_type": "stream",
     "text": [
      "짜라란~~\n",
      "Init클래스에서 정의된 __init__메소드를 실행합니다\n",
      "짠짠~!!\n"
     ]
    }
   ],
   "source": [
    "a=Deco(5)"
   ]
  },
  {
   "cell_type": "code",
   "execution_count": 367,
   "id": "6778eef2-43a8-4255-b425-146c3e1d6dcc",
   "metadata": {},
   "outputs": [
    {
     "data": {
      "text/plain": [
       "\u001b[0;31mSignature:\u001b[0m \u001b[0ma\u001b[0m\u001b[0;34m.\u001b[0m\u001b[0mshow\u001b[0m\u001b[0;34m(\u001b[0m\u001b[0;34m)\u001b[0m\u001b[0;34m\u001b[0m\u001b[0;34m\u001b[0m\u001b[0m\n",
       "\u001b[0;31mDocstring:\u001b[0m <no docstring>\n",
       "\u001b[0;31mSource:\u001b[0m   \n",
       "    \u001b[0;32mdef\u001b[0m \u001b[0mshow\u001b[0m\u001b[0;34m(\u001b[0m\u001b[0mself\u001b[0m\u001b[0;34m)\u001b[0m\u001b[0;34m:\u001b[0m\u001b[0;34m\u001b[0m\n",
       "\u001b[0;34m\u001b[0m        \u001b[0;31m## 여기는 Show 클래스야\u001b[0m\u001b[0;34m\u001b[0m\n",
       "\u001b[0;34m\u001b[0m        \u001b[0mprint\u001b[0m\u001b[0;34m(\u001b[0m\u001b[0;34m\"Show클래스에서 정의된 show메소드를 실행합니다\"\u001b[0m\u001b[0;34m)\u001b[0m\u001b[0;34m\u001b[0m\n",
       "\u001b[0;34m\u001b[0m        \u001b[0mprint\u001b[0m\u001b[0;34m(\u001b[0m\u001b[0;34m'value={}'\u001b[0m\u001b[0;34m.\u001b[0m\u001b[0mformat\u001b[0m\u001b[0;34m(\u001b[0m\u001b[0mself\u001b[0m\u001b[0;34m.\u001b[0m\u001b[0mvalue\u001b[0m\u001b[0;34m)\u001b[0m\u001b[0;34m)\u001b[0m\u001b[0;34m\u001b[0m\u001b[0;34m\u001b[0m\u001b[0m\n",
       "\u001b[0;31mFile:\u001b[0m      ~/Dropbox/07_lectures/PP2023/posts/03_Class/<ipython-input-342-5ac798f79ec3>\n",
       "\u001b[0;31mType:\u001b[0m      method"
      ]
     },
     "metadata": {},
     "output_type": "display_data"
    }
   ],
   "source": [
    "a.show??"
   ]
  },
  {
   "cell_type": "code",
   "execution_count": 368,
   "id": "8d6ee300-6546-44c9-956c-e49d34f2879b",
   "metadata": {},
   "outputs": [
    {
     "data": {
      "text/plain": [
       "\u001b[0;31mSignature:\u001b[0m \u001b[0ma\u001b[0m\u001b[0;34m.\u001b[0m\u001b[0m__init__\u001b[0m\u001b[0;34m(\u001b[0m\u001b[0mvalue\u001b[0m\u001b[0;34m)\u001b[0m\u001b[0;34m\u001b[0m\u001b[0;34m\u001b[0m\u001b[0m\n",
       "\u001b[0;31mDocstring:\u001b[0m Initialize self.  See help(type(self)) for accurate signature.\n",
       "\u001b[0;31mSource:\u001b[0m   \n",
       "    \u001b[0;32mdef\u001b[0m \u001b[0m__init__\u001b[0m\u001b[0;34m(\u001b[0m\u001b[0mself\u001b[0m\u001b[0;34m,\u001b[0m\u001b[0mvalue\u001b[0m\u001b[0;34m)\u001b[0m\u001b[0;34m:\u001b[0m\u001b[0;34m\u001b[0m\n",
       "\u001b[0;34m\u001b[0m        \u001b[0;31m## 여기는 Deco클래스야~\u001b[0m\u001b[0;34m\u001b[0m\n",
       "\u001b[0;34m\u001b[0m        \u001b[0mprint\u001b[0m\u001b[0;34m(\u001b[0m\u001b[0;34m\"짜라란~~\"\u001b[0m\u001b[0;34m)\u001b[0m\u001b[0;34m\u001b[0m\n",
       "\u001b[0;34m\u001b[0m        \u001b[0msuper\u001b[0m\u001b[0;34m(\u001b[0m\u001b[0;34m)\u001b[0m\u001b[0;34m.\u001b[0m\u001b[0m__init__\u001b[0m\u001b[0;34m(\u001b[0m\u001b[0mvalue\u001b[0m\u001b[0;34m)\u001b[0m\u001b[0;34m\u001b[0m\n",
       "\u001b[0;34m\u001b[0m        \u001b[0mprint\u001b[0m\u001b[0;34m(\u001b[0m\u001b[0;34m\"짠짠~!!\"\u001b[0m\u001b[0;34m)\u001b[0m\u001b[0;34m\u001b[0m\u001b[0;34m\u001b[0m\u001b[0m\n",
       "\u001b[0;31mFile:\u001b[0m      ~/Dropbox/07_lectures/PP2023/posts/03_Class/<ipython-input-365-9c3108795053>\n",
       "\u001b[0;31mType:\u001b[0m      method"
      ]
     },
     "metadata": {},
     "output_type": "display_data"
    }
   ],
   "source": [
    "a.__init__??"
   ]
  },
  {
   "cell_type": "markdown",
   "id": "eb8127a2-458d-4a1c-a890-8f1d16064bc1",
   "metadata": {},
   "source": [
    "`-` 방법4: super() 이용, 방법3을 이해하기 위한 코드"
   ]
  },
  {
   "cell_type": "code",
   "execution_count": 375,
   "id": "0ceefcfa-0615-436d-8326-f4dad706cdc6",
   "metadata": {},
   "outputs": [],
   "source": [
    "class Deco(Show):\n",
    "    def __init__(self,value):\n",
    "        ## 여기는 Deco클래스야~\n",
    "        print(\"짜라란~~\")\n",
    "        super(__class__,self).__init__(value)\n",
    "        print(\"짠짠~!!\")"
   ]
  },
  {
   "cell_type": "code",
   "execution_count": 376,
   "id": "a03210ae-4236-4869-a397-81e323c982e3",
   "metadata": {},
   "outputs": [
    {
     "name": "stdout",
     "output_type": "stream",
     "text": [
      "짜라란~~\n",
      "Init클래스에서 정의된 __init__메소드를 실행합니다\n",
      "짠짠~!!\n"
     ]
    }
   ],
   "source": [
    "a=Deco(5)"
   ]
  },
  {
   "cell_type": "code",
   "execution_count": 377,
   "id": "623515cf-07d8-4a99-b35e-7c59840c3458",
   "metadata": {},
   "outputs": [
    {
     "data": {
      "text/plain": [
       "\u001b[0;31mSignature:\u001b[0m \u001b[0ma\u001b[0m\u001b[0;34m.\u001b[0m\u001b[0mshow\u001b[0m\u001b[0;34m(\u001b[0m\u001b[0;34m)\u001b[0m\u001b[0;34m\u001b[0m\u001b[0;34m\u001b[0m\u001b[0m\n",
       "\u001b[0;31mDocstring:\u001b[0m <no docstring>\n",
       "\u001b[0;31mSource:\u001b[0m   \n",
       "    \u001b[0;32mdef\u001b[0m \u001b[0mshow\u001b[0m\u001b[0;34m(\u001b[0m\u001b[0mself\u001b[0m\u001b[0;34m)\u001b[0m\u001b[0;34m:\u001b[0m\u001b[0;34m\u001b[0m\n",
       "\u001b[0;34m\u001b[0m        \u001b[0;31m## 여기는 Show 클래스야\u001b[0m\u001b[0;34m\u001b[0m\n",
       "\u001b[0;34m\u001b[0m        \u001b[0mprint\u001b[0m\u001b[0;34m(\u001b[0m\u001b[0;34m\"Show클래스에서 정의된 show메소드를 실행합니다\"\u001b[0m\u001b[0;34m)\u001b[0m\u001b[0;34m\u001b[0m\n",
       "\u001b[0;34m\u001b[0m        \u001b[0mprint\u001b[0m\u001b[0;34m(\u001b[0m\u001b[0;34m'value={}'\u001b[0m\u001b[0;34m.\u001b[0m\u001b[0mformat\u001b[0m\u001b[0;34m(\u001b[0m\u001b[0mself\u001b[0m\u001b[0;34m.\u001b[0m\u001b[0mvalue\u001b[0m\u001b[0;34m)\u001b[0m\u001b[0;34m)\u001b[0m\u001b[0;34m\u001b[0m\u001b[0;34m\u001b[0m\u001b[0m\n",
       "\u001b[0;31mFile:\u001b[0m      ~/Dropbox/07_lectures/PP2023/posts/03_Class/<ipython-input-342-5ac798f79ec3>\n",
       "\u001b[0;31mType:\u001b[0m      method"
      ]
     },
     "metadata": {},
     "output_type": "display_data"
    }
   ],
   "source": [
    "a.show??"
   ]
  },
  {
   "cell_type": "code",
   "execution_count": 378,
   "id": "7d488a93-b8f3-4363-b0d1-a8bcfccf540d",
   "metadata": {},
   "outputs": [
    {
     "data": {
      "text/plain": [
       "\u001b[0;31mSignature:\u001b[0m \u001b[0ma\u001b[0m\u001b[0;34m.\u001b[0m\u001b[0m__init__\u001b[0m\u001b[0;34m(\u001b[0m\u001b[0mvalue\u001b[0m\u001b[0;34m)\u001b[0m\u001b[0;34m\u001b[0m\u001b[0;34m\u001b[0m\u001b[0m\n",
       "\u001b[0;31mDocstring:\u001b[0m Initialize self.  See help(type(self)) for accurate signature.\n",
       "\u001b[0;31mSource:\u001b[0m   \n",
       "    \u001b[0;32mdef\u001b[0m \u001b[0m__init__\u001b[0m\u001b[0;34m(\u001b[0m\u001b[0mself\u001b[0m\u001b[0;34m,\u001b[0m\u001b[0mvalue\u001b[0m\u001b[0;34m)\u001b[0m\u001b[0;34m:\u001b[0m\u001b[0;34m\u001b[0m\n",
       "\u001b[0;34m\u001b[0m        \u001b[0;31m## 여기는 Deco클래스야~\u001b[0m\u001b[0;34m\u001b[0m\n",
       "\u001b[0;34m\u001b[0m        \u001b[0mprint\u001b[0m\u001b[0;34m(\u001b[0m\u001b[0;34m\"짜라란~~\"\u001b[0m\u001b[0;34m)\u001b[0m\u001b[0;34m\u001b[0m\n",
       "\u001b[0;34m\u001b[0m        \u001b[0msuper\u001b[0m\u001b[0;34m(\u001b[0m\u001b[0m__class__\u001b[0m\u001b[0;34m,\u001b[0m\u001b[0mself\u001b[0m\u001b[0;34m)\u001b[0m\u001b[0;34m.\u001b[0m\u001b[0m__init__\u001b[0m\u001b[0;34m(\u001b[0m\u001b[0mvalue\u001b[0m\u001b[0;34m)\u001b[0m\u001b[0;34m\u001b[0m\n",
       "\u001b[0;34m\u001b[0m        \u001b[0mprint\u001b[0m\u001b[0;34m(\u001b[0m\u001b[0;34m\"짠짠~!!\"\u001b[0m\u001b[0;34m)\u001b[0m\u001b[0;34m\u001b[0m\u001b[0;34m\u001b[0m\u001b[0m\n",
       "\u001b[0;31mFile:\u001b[0m      ~/Dropbox/07_lectures/PP2023/posts/03_Class/<ipython-input-375-4e2b30e113c0>\n",
       "\u001b[0;31mType:\u001b[0m      method"
      ]
     },
     "metadata": {},
     "output_type": "display_data"
    }
   ],
   "source": [
    "a.__init__??"
   ]
  },
  {
   "cell_type": "markdown",
   "id": "48db0625-a6c8-4a0f-956b-0851b7505a92",
   "metadata": {},
   "source": [
    "`-` 이때 방법2-4는 완전히 동일한 코드이다, 방법1-4는 이 예제에서 같은효과이다. "
   ]
  },
  {
   "cell_type": "markdown",
   "id": "f9f7ecdc-7c7c-4eb6-9253-693956ebb307",
   "metadata": {},
   "source": [
    "## 다중상속"
   ]
  },
  {
   "cell_type": "markdown",
   "id": "981626f6-cc59-4880-9146-644f162980a8",
   "metadata": {},
   "source": [
    "### ***일반적인 다중상속***"
   ]
  },
  {
   "cell_type": "markdown",
   "id": "7ebe275f-3a36-4c5b-8711-8336c9b9cc32",
   "metadata": {},
   "source": [
    "`-` Add 클래스선언"
   ]
  },
  {
   "cell_type": "code",
   "execution_count": 380,
   "id": "2d4f44dd-05cd-41bf-843e-edc5b979862a",
   "metadata": {},
   "outputs": [],
   "source": [
    "class Add:\n",
    "    def __init__(self,value):\n",
    "        self.value = value \n",
    "    def __add__(self,value2):\n",
    "        return self.value + value2"
   ]
  },
  {
   "cell_type": "code",
   "execution_count": 381,
   "id": "8e19d7af-4460-4a7c-bb0c-d26af7fee51f",
   "metadata": {},
   "outputs": [],
   "source": [
    "a=Add(2)"
   ]
  },
  {
   "cell_type": "code",
   "execution_count": 382,
   "id": "ab7535e3-5fac-4001-93dc-0a0cb670463d",
   "metadata": {},
   "outputs": [
    {
     "data": {
      "text/plain": [
       "7"
      ]
     },
     "execution_count": 382,
     "metadata": {},
     "output_type": "execute_result"
    }
   ],
   "source": [
    "a+5"
   ]
  },
  {
   "cell_type": "code",
   "execution_count": 384,
   "id": "90365133-4c55-4633-acd8-caa87655bc85",
   "metadata": {},
   "outputs": [
    {
     "ename": "TypeError",
     "evalue": "unsupported operand type(s) for *: 'Add' and 'int'",
     "output_type": "error",
     "traceback": [
      "\u001b[0;31m---------------------------------------------------------------------------\u001b[0m",
      "\u001b[0;31mTypeError\u001b[0m                                 Traceback (most recent call last)",
      "Cell \u001b[0;32mIn[384], line 1\u001b[0m\n\u001b[0;32m----> 1\u001b[0m \u001b[43ma\u001b[49m\u001b[38;5;241;43m*\u001b[39;49m\u001b[38;5;241;43m2\u001b[39;49m \u001b[38;5;66;03m# 곱하기는 정의한적없음\u001b[39;00m\n",
      "\u001b[0;31mTypeError\u001b[0m: unsupported operand type(s) for *: 'Add' and 'int'"
     ]
    }
   ],
   "source": [
    "a*2 # 곱하기는 정의한적없음"
   ]
  },
  {
   "cell_type": "markdown",
   "id": "b4c2ec64-64cd-493c-991c-bbcc5ea0e25b",
   "metadata": {},
   "source": [
    "`-` Mul 클래스선언"
   ]
  },
  {
   "cell_type": "code",
   "execution_count": 386,
   "id": "610ec7e7-717b-4da5-bad6-e3519e1c4fbd",
   "metadata": {},
   "outputs": [],
   "source": [
    "class Mul:\n",
    "    def __init__(self,value):\n",
    "        self.value = value \n",
    "    def __mul__(self,value2):\n",
    "        return self.value * value2"
   ]
  },
  {
   "cell_type": "code",
   "execution_count": 387,
   "id": "a3fa0688-30be-4acd-906d-ab5c02d7e9f4",
   "metadata": {},
   "outputs": [
    {
     "data": {
      "text/plain": [
       "5"
      ]
     },
     "execution_count": 387,
     "metadata": {},
     "output_type": "execute_result"
    }
   ],
   "source": [
    "a = Mul(5)\n",
    "a.value"
   ]
  },
  {
   "cell_type": "code",
   "execution_count": 391,
   "id": "a3ccd029-b254-494a-a14b-c4e52dc369a7",
   "metadata": {},
   "outputs": [
    {
     "ename": "TypeError",
     "evalue": "unsupported operand type(s) for +: 'Mul' and 'int'",
     "output_type": "error",
     "traceback": [
      "\u001b[0;31m---------------------------------------------------------------------------\u001b[0m",
      "\u001b[0;31mTypeError\u001b[0m                                 Traceback (most recent call last)",
      "Cell \u001b[0;32mIn[391], line 1\u001b[0m\n\u001b[0;32m----> 1\u001b[0m \u001b[43ma\u001b[49m\u001b[38;5;241;43m+\u001b[39;49m\u001b[38;5;241;43m2\u001b[39;49m \u001b[38;5;66;03m#정의한적 없음\u001b[39;00m\n",
      "\u001b[0;31mTypeError\u001b[0m: unsupported operand type(s) for +: 'Mul' and 'int'"
     ]
    }
   ],
   "source": [
    "a+2 #정의한적 없음"
   ]
  },
  {
   "cell_type": "code",
   "execution_count": 390,
   "id": "e6474331-9c47-4048-9cfe-2b80ee6ebdb4",
   "metadata": {},
   "outputs": [
    {
     "data": {
      "text/plain": [
       "10"
      ]
     },
     "execution_count": 390,
     "metadata": {},
     "output_type": "execute_result"
    }
   ],
   "source": [
    "a*2 "
   ]
  },
  {
   "cell_type": "markdown",
   "id": "4a753787-1418-4b65-b79c-75a311dc7679",
   "metadata": {},
   "source": [
    "`-` AddMul 클래스를 선언 (기존의 Add, Mul 상속받아서 이용)"
   ]
  },
  {
   "cell_type": "code",
   "execution_count": 392,
   "id": "e686fa69-0636-4350-a470-a2517ad534be",
   "metadata": {},
   "outputs": [],
   "source": [
    "class AddMul(Add,Mul):\n",
    "    pass "
   ]
  },
  {
   "cell_type": "code",
   "execution_count": 393,
   "id": "30324b4b-4e9e-463c-8cf1-74bc1b2636b1",
   "metadata": {},
   "outputs": [
    {
     "data": {
      "text/plain": [
       "5"
      ]
     },
     "execution_count": 393,
     "metadata": {},
     "output_type": "execute_result"
    }
   ],
   "source": [
    "a = AddMul(5)\n",
    "a.value"
   ]
  },
  {
   "cell_type": "code",
   "execution_count": 394,
   "id": "90885545-18aa-49d4-a6f0-5deaefb17488",
   "metadata": {},
   "outputs": [
    {
     "data": {
      "text/plain": [
       "7"
      ]
     },
     "execution_count": 394,
     "metadata": {},
     "output_type": "execute_result"
    }
   ],
   "source": [
    "a+2"
   ]
  },
  {
   "cell_type": "code",
   "execution_count": 395,
   "id": "3f17a572-7d96-4b68-92f3-b680ab92ca0a",
   "metadata": {},
   "outputs": [
    {
     "data": {
      "text/plain": [
       "25"
      ]
     },
     "execution_count": 395,
     "metadata": {},
     "output_type": "execute_result"
    }
   ],
   "source": [
    "a*5"
   ]
  },
  {
   "cell_type": "markdown",
   "id": "50936e45-6a6d-44b2-be2e-91a3dfe8ef20",
   "metadata": {
    "tags": []
   },
   "source": [
    "### ***다중상속 우선순위 (`__init__`이 겹치는뎅?)***"
   ]
  },
  {
   "cell_type": "code",
   "execution_count": 401,
   "id": "f9aa2c56-659c-442d-b2fa-27d5150dcfa9",
   "metadata": {},
   "outputs": [],
   "source": [
    "class Add:\n",
    "    def __init__(self,value):\n",
    "        print(\"Add클래스에서 정의된 __init__ 메소드가 실행됩니다\")\n",
    "        self.value = value \n",
    "    def __add__(self,value2):\n",
    "        return self.value + value2\n",
    "              \n",
    "class Mul:\n",
    "    def __init__(self,value):\n",
    "        print(\"Mul클래스에서 정의된 __init__ 메소드가 실행됩니다\")        \n",
    "        self.value = value \n",
    "    def __mul__(self,value2):\n",
    "        return self.value * value2        \n",
    "    \n",
    "class AddMul(Add,Mul):\n",
    "    pass     "
   ]
  },
  {
   "cell_type": "code",
   "execution_count": 402,
   "id": "86beb292-4dfa-43f7-8b16-fa8143603511",
   "metadata": {},
   "outputs": [
    {
     "name": "stdout",
     "output_type": "stream",
     "text": [
      "Add클래스에서 정의된 __init__ 메소드가 실행됩니다\n"
     ]
    }
   ],
   "source": [
    "a = AddMul(5)"
   ]
  },
  {
   "cell_type": "markdown",
   "id": "f17fb3c4-5a17-45ed-8680-94581007b524",
   "metadata": {},
   "source": [
    "### ***믹스인 클래스 ($\\star\\star\\star$)***"
   ]
  },
  {
   "cell_type": "code",
   "execution_count": 405,
   "id": "7c777c80-ec24-4866-93fa-c60842ef0a7d",
   "metadata": {},
   "outputs": [],
   "source": [
    "class Init:\n",
    "    def __init__(self,value):\n",
    "        ## 여기는 Init 클래스야 \n",
    "        print(\"Init클래스에서 정의된 __init__메소드를 실행합니다\")        \n",
    "        self.value = value\n",
    "\n",
    "class Add(Init):\n",
    "    def __add__(self,value2):\n",
    "        return self.value + value2\n",
    "              \n",
    "class Mul(Init):\n",
    "    def __mul__(self,value2):\n",
    "        return self.value * value2        \n",
    "    \n",
    "class AddMul(Add,Mul):\n",
    "    pass     "
   ]
  },
  {
   "cell_type": "code",
   "execution_count": 406,
   "id": "9a996d60-89b0-4f7e-b242-6b73aa18bc56",
   "metadata": {},
   "outputs": [
    {
     "name": "stdout",
     "output_type": "stream",
     "text": [
      "Init클래스에서 정의된 __init__메소드를 실행합니다\n"
     ]
    }
   ],
   "source": [
    "a = AddMul(5)"
   ]
  },
  {
   "cell_type": "code",
   "execution_count": 407,
   "id": "1dcc4470-e002-4d38-80e2-19e23de1c777",
   "metadata": {},
   "outputs": [
    {
     "data": {
      "text/plain": [
       "7"
      ]
     },
     "execution_count": 407,
     "metadata": {},
     "output_type": "execute_result"
    }
   ],
   "source": [
    "a+2"
   ]
  },
  {
   "cell_type": "code",
   "execution_count": 408,
   "id": "66ac8358-4e5c-4f1c-9350-1b7d124dd916",
   "metadata": {},
   "outputs": [
    {
     "data": {
      "text/plain": [
       "25"
      ]
     },
     "execution_count": 408,
     "metadata": {},
     "output_type": "execute_result"
    }
   ],
   "source": [
    "a*5"
   ]
  },
  {
   "cell_type": "markdown",
   "id": "5fab8246-cfd5-4b6d-8982-8cb0f705be7a",
   "metadata": {},
   "source": [
    "## 다중상속시 `super()`의 활용"
   ]
  },
  {
   "cell_type": "markdown",
   "id": "f98b79fd-14b3-4bda-807b-e512aabb4849",
   "metadata": {},
   "source": [
    "### ***super()를 쓰지 않은 나쁜사용예시***"
   ]
  },
  {
   "cell_type": "markdown",
   "id": "115dbe63-3d9d-4629-8a43-2afa042f528a",
   "metadata": {},
   "source": [
    "`-` 초기값을 설정하는 클래스 만듬 "
   ]
  },
  {
   "cell_type": "code",
   "execution_count": 409,
   "id": "a2144da0-ee4d-4036-bdab-aa2c6d2f6548",
   "metadata": {},
   "outputs": [],
   "source": [
    "class Init:\n",
    "    def __init__(self,value):\n",
    "        ## 여기는 Init 클래스야 \n",
    "        print(\"Init클래스에서 정의된 __init__메소드를 실행합니다\")        \n",
    "        self.value = value"
   ]
  },
  {
   "cell_type": "markdown",
   "id": "95a04487-50b9-45b8-bd06-427811e9f93d",
   "metadata": {},
   "source": [
    "`-` init을 상속받아서 \n",
    "\n",
    "- \"${\\tt 초기값}= {\\tt 초기값} \\times 2$\" \n",
    "- \"${\\tt 초기값}= {\\tt 초기값} + 5$\" \n",
    "\n",
    "를 인스턴스 생성과 동시에 수행하는 클래스를 각각 만듦"
   ]
  },
  {
   "cell_type": "code",
   "execution_count": 410,
   "id": "4b7f652b-eaa5-441d-a675-87ac64c75709",
   "metadata": {},
   "outputs": [],
   "source": [
    "class Times2(Init):\n",
    "    def __init__(self,value):\n",
    "        Init.__init__(self,value)\n",
    "        self.value = self.value * 2"
   ]
  },
  {
   "cell_type": "code",
   "execution_count": 411,
   "id": "e2f11566-aab5-4888-b29d-d17723431bfc",
   "metadata": {},
   "outputs": [
    {
     "name": "stdout",
     "output_type": "stream",
     "text": [
      "Init클래스에서 정의된 __init__메소드를 실행합니다\n"
     ]
    },
    {
     "data": {
      "text/plain": [
       "10"
      ]
     },
     "execution_count": 411,
     "metadata": {},
     "output_type": "execute_result"
    }
   ],
   "source": [
    "a=Times2(5)\n",
    "a.value"
   ]
  },
  {
   "cell_type": "code",
   "execution_count": 412,
   "id": "f3d68ad0-01a9-4abe-84a3-664c978be556",
   "metadata": {},
   "outputs": [],
   "source": [
    "class Plus5(Init):\n",
    "    def __init__(self,value):\n",
    "        Init.__init__(self,value)\n",
    "        self.value = self.value + 5"
   ]
  },
  {
   "cell_type": "code",
   "execution_count": 413,
   "id": "7b1e4464-f4f0-475a-af2b-e69b5c4f08a6",
   "metadata": {},
   "outputs": [
    {
     "name": "stdout",
     "output_type": "stream",
     "text": [
      "Init클래스에서 정의된 __init__메소드를 실행합니다\n"
     ]
    },
    {
     "data": {
      "text/plain": [
       "10"
      ]
     },
     "execution_count": 413,
     "metadata": {},
     "output_type": "execute_result"
    }
   ],
   "source": [
    "a=Plus5(5)\n",
    "a.value"
   ]
  },
  {
   "cell_type": "markdown",
   "id": "46c61f9f-305d-4a7f-bce3-b9801dc4d412",
   "metadata": {},
   "source": [
    "`-` 지나고 보니까 \"${\\tt 초기값} = {\\tt 초기값} \\times 2 + 5$\" 를 인스턴스 생성과 동시에 수행해주는 클래스를 만들고 싶음. "
   ]
  },
  {
   "cell_type": "code",
   "execution_count": 425,
   "id": "19828979-6cfa-40fd-ad2b-d6fee7da2160",
   "metadata": {},
   "outputs": [],
   "source": [
    "class Times2Plus5(Times2,Plus5):\n",
    "    def __init__(self,value):\n",
    "        Times2.__init__(self,value)\n",
    "        Plus5.__init__(self,self.value)"
   ]
  },
  {
   "cell_type": "code",
   "execution_count": 426,
   "id": "138380e6-73da-44f9-8577-35589be04cc3",
   "metadata": {},
   "outputs": [
    {
     "name": "stdout",
     "output_type": "stream",
     "text": [
      "Init클래스에서 정의된 __init__메소드를 실행합니다\n",
      "Init클래스에서 정의된 __init__메소드를 실행합니다\n"
     ]
    }
   ],
   "source": [
    "a = Times2Plus5(5)"
   ]
  },
  {
   "cell_type": "code",
   "execution_count": 427,
   "id": "204ec697-148f-4450-9de1-c76a42103298",
   "metadata": {},
   "outputs": [
    {
     "data": {
      "text/plain": [
       "15"
      ]
     },
     "execution_count": 427,
     "metadata": {},
     "output_type": "execute_result"
    }
   ],
   "source": [
    "a.value "
   ]
  },
  {
   "cell_type": "markdown",
   "id": "1edcfc89-351b-4790-9b64-9e258e5b6089",
   "metadata": {},
   "source": [
    "`-` 싫은이유1: 코드가 지저분하다."
   ]
  },
  {
   "cell_type": "markdown",
   "id": "725e350b-a205-4785-8a64-9f1b517aa99d",
   "metadata": {},
   "source": [
    "`-` 싫은이유2: 진정한 의미의 상속이 아닌것 같다. "
   ]
  },
  {
   "cell_type": "code",
   "execution_count": 429,
   "id": "f0458ce0-de8b-412d-b13f-39bc0fd7d486",
   "metadata": {},
   "outputs": [],
   "source": [
    "class Times2Plus5():\n",
    "    def __init__(self,value):\n",
    "        Times2.__init__(self,value)\n",
    "        Plus5.__init__(self,self.value)"
   ]
  },
  {
   "cell_type": "code",
   "execution_count": 430,
   "id": "5ca1990e-090f-480d-b3b5-6bc750c1e64c",
   "metadata": {},
   "outputs": [
    {
     "name": "stdout",
     "output_type": "stream",
     "text": [
      "Init클래스에서 정의된 __init__메소드를 실행합니다\n",
      "Init클래스에서 정의된 __init__메소드를 실행합니다\n"
     ]
    }
   ],
   "source": [
    "a = Times2Plus5(5)"
   ]
  },
  {
   "cell_type": "code",
   "execution_count": 431,
   "id": "2bb38b04-043e-45cc-b209-849cbb9d54cf",
   "metadata": {},
   "outputs": [
    {
     "data": {
      "text/plain": [
       "15"
      ]
     },
     "execution_count": 431,
     "metadata": {},
     "output_type": "execute_result"
    }
   ],
   "source": [
    "a.value "
   ]
  },
  {
   "cell_type": "markdown",
   "id": "4bbcc698-9cca-431d-a48b-1869c961cdda",
   "metadata": {},
   "source": [
    "### ***super()를 활용한 좋은사용예시***"
   ]
  },
  {
   "cell_type": "markdown",
   "id": "eeed5529-e043-4a34-b71a-0e71d991bbdb",
   "metadata": {},
   "source": [
    "`-` 아키텍처를 아래와 같이 바꾸자"
   ]
  },
  {
   "cell_type": "code",
   "execution_count": 452,
   "id": "ffe1eb9d-4da3-482c-9de1-f10b1fa189fa",
   "metadata": {},
   "outputs": [],
   "source": [
    "class Init(object):\n",
    "    def __init__(self,value):\n",
    "        ## 여기는 Init 클래스야 \n",
    "        print(\"Init클래스에서 정의된 __init__메소드를 실행합니다\")        \n",
    "        self.value = value\n",
    "        \n",
    "class Times2(Init):\n",
    "    def __init__(self,value):\n",
    "        super().__init__(value)\n",
    "        self.value = self.value * 2\n",
    "        \n",
    "class Plus5(Init):\n",
    "    def __init__(self,value):\n",
    "        super().__init__(value)\n",
    "        self.value = self.value + 5\n",
    "        \n",
    "class Times2Plus5(Plus5,Times2):\n",
    "    def __init__(self,value):\n",
    "        super().__init__(value)"
   ]
  },
  {
   "cell_type": "markdown",
   "id": "b70f2fd8-1cbb-4d8e-8025-0ea547c038f0",
   "metadata": {},
   "source": [
    "`-` 써보자"
   ]
  },
  {
   "cell_type": "code",
   "execution_count": 453,
   "id": "86116fcd-bd20-4019-a399-c4e1b5bf808b",
   "metadata": {},
   "outputs": [
    {
     "name": "stdout",
     "output_type": "stream",
     "text": [
      "Init클래스에서 정의된 __init__메소드를 실행합니다\n"
     ]
    }
   ],
   "source": [
    "a=Times2Plus5(5)"
   ]
  },
  {
   "cell_type": "code",
   "execution_count": 454,
   "id": "4120dad1-cf15-46aa-be28-885848ad44c0",
   "metadata": {},
   "outputs": [
    {
     "data": {
      "text/plain": [
       "15"
      ]
     },
     "execution_count": 454,
     "metadata": {},
     "output_type": "execute_result"
    }
   ],
   "source": [
    "a.value"
   ]
  },
  {
   "cell_type": "code",
   "execution_count": 455,
   "id": "c8f9c35d-00e5-49e1-bd33-b7f9269e78d9",
   "metadata": {},
   "outputs": [
    {
     "data": {
      "text/plain": [
       "15"
      ]
     },
     "execution_count": 455,
     "metadata": {},
     "output_type": "execute_result"
    }
   ],
   "source": [
    "(5*2)+5"
   ]
  },
  {
   "cell_type": "markdown",
   "id": "5a8e0eff-bd27-4030-b7b5-0b3c9811a3d6",
   "metadata": {},
   "source": [
    "`-` 이것이 왜 가능? "
   ]
  },
  {
   "cell_type": "markdown",
   "id": "1e7cf6ae-3af1-4b8e-a577-6392807e6c3b",
   "metadata": {},
   "source": [
    "> 원리: mro상으로 상위에 있는 순서대로 타고 올라간 뒤, mro순서대로 한번씩만 `__init__`을 실행함!!"
   ]
  },
  {
   "cell_type": "markdown",
   "id": "0a8efb1d-80b2-4fc7-b3b0-834f626e2014",
   "metadata": {},
   "source": [
    "`-` 소감: 코드가 깔끔하긴해 + 진정한 상속의 느낌도 있어 (그렇지만 사용하고 싶지는 않음) "
   ]
  },
  {
   "cell_type": "markdown",
   "id": "b1d9477f-68de-48cc-af93-bddb10cb0399",
   "metadata": {},
   "source": [
    "## `super()`의 사용방법"
   ]
  },
  {
   "cell_type": "markdown",
   "id": "c2e46cbb-83ca-4f1e-8ffc-5fc6616045b9",
   "metadata": {},
   "source": [
    "`-` 이제 \"$({\\tt 초기값} \\times 2 + 5)\\times 2$\" 를 수행해주는 클래스를 만들고 싶음. "
   ]
  },
  {
   "cell_type": "code",
   "execution_count": 477,
   "id": "c453a150-8253-48e7-b5e3-d0669adc4bd0",
   "metadata": {},
   "outputs": [],
   "source": [
    "class Init(object):\n",
    "    def __init__(self,value):\n",
    "        ## 여기는 Init 클래스야 \n",
    "        print(\"Init클래스에서 정의된 __init__메소드를 실행합니다\")        \n",
    "        self.value = value\n",
    "        \n",
    "class Times2(Init):\n",
    "    def __init__(self,value):\n",
    "        super().__init__(value)\n",
    "        self.value = self.value * 2\n",
    "        \n",
    "class Plus5(Init):\n",
    "    def __init__(self,value):\n",
    "        super().__init__(value)\n",
    "        self.value = self.value + 5\n",
    "        \n",
    "class Times2Plus5Times2(Plus5,Times2):\n",
    "    def __init__(self,value):\n",
    "        super().__init__(value)\n",
    "        super(Plus5,self).__init__(self.value)"
   ]
  },
  {
   "cell_type": "code",
   "execution_count": 478,
   "id": "50a94b67-a56a-48c1-b3be-ded684399898",
   "metadata": {},
   "outputs": [
    {
     "name": "stdout",
     "output_type": "stream",
     "text": [
      "Init클래스에서 정의된 __init__메소드를 실행합니다\n",
      "Init클래스에서 정의된 __init__메소드를 실행합니다\n"
     ]
    }
   ],
   "source": [
    "a=Times2Plus5Times2(5)"
   ]
  },
  {
   "cell_type": "code",
   "execution_count": 479,
   "id": "651e308e-11b2-4909-92ec-ec2860d34e5c",
   "metadata": {},
   "outputs": [
    {
     "data": {
      "text/plain": [
       "30"
      ]
     },
     "execution_count": 479,
     "metadata": {},
     "output_type": "execute_result"
    }
   ],
   "source": [
    "a.value"
   ]
  },
  {
   "cell_type": "code",
   "execution_count": 480,
   "id": "0686ac66-f9c0-47fa-9c47-b7b868a6dd54",
   "metadata": {},
   "outputs": [
    {
     "data": {
      "text/plain": [
       "[__main__.Times2Plus5Times2,\n",
       " __main__.Plus5,\n",
       " __main__.Times2,\n",
       " __main__.Init,\n",
       " object]"
      ]
     },
     "execution_count": 480,
     "metadata": {},
     "output_type": "execute_result"
    }
   ],
   "source": [
    "Times2Plus5Times2.mro()"
   ]
  },
  {
   "cell_type": "markdown",
   "id": "144971c0-a7c6-485e-a34c-9e0d1540f546",
   "metadata": {},
   "source": [
    "`-` 코드해석\n",
    "\n",
    "- `super().__init__(value)` 은 `Times2Plus5Times2`의 MRO순서로 상위인 클래스 `Init`,`Times2`,`Plus` 의 `__init__`을 순서대로 실행하되 중복실행은 하지 않음. \n",
    "- `super(Plus5,self).__init__(self.value)` 은 `Plus5`보다 MRO순서로 상위인 클래스 `Init,Times2` 의 `__init__`을 순서대로 실행하되 중복실행은 하지 않음. "
   ]
  },
  {
   "cell_type": "markdown",
   "id": "39d38393-ef54-4de1-84e4-0305bf719d68",
   "metadata": {},
   "source": [
    "`-` 그냥 이게 낫지 않나?"
   ]
  },
  {
   "cell_type": "code",
   "execution_count": 486,
   "id": "a22a1939-abf8-4c50-980f-7718adb7fa09",
   "metadata": {},
   "outputs": [],
   "source": [
    "class Init(object):\n",
    "    def __init__(self,value):\n",
    "        ## 여기는 Init 클래스야 \n",
    "        print(\"Init클래스에서 정의된 __init__메소드를 실행합니다\")        \n",
    "        self.value = value\n",
    "        \n",
    "class Times2(Init):\n",
    "    def times2(self):\n",
    "        self.value = self.value * 2\n",
    "        \n",
    "class Plus5(Init):\n",
    "    def plus5(self):\n",
    "        self.value = self.value + 5\n",
    "        \n",
    "class Times2Plus5Times2(Plus5,Times2):\n",
    "    def times2plus5times2(self):\n",
    "        self.times2()\n",
    "        self.plus5()\n",
    "        self.times2()"
   ]
  },
  {
   "cell_type": "code",
   "execution_count": 487,
   "id": "68baa8be-aece-45d4-a044-397d22809a76",
   "metadata": {},
   "outputs": [
    {
     "name": "stdout",
     "output_type": "stream",
     "text": [
      "Init클래스에서 정의된 __init__메소드를 실행합니다\n"
     ]
    }
   ],
   "source": [
    "a = Times2Plus5Times2(5)"
   ]
  },
  {
   "cell_type": "code",
   "execution_count": 488,
   "id": "57ef5c19-131d-40d7-8ef7-ec1fc9fe7ede",
   "metadata": {},
   "outputs": [],
   "source": [
    "a.times2plus5times2()"
   ]
  },
  {
   "cell_type": "code",
   "execution_count": 489,
   "id": "f7db2336-ea31-4b31-b1e1-bf2f7e7de97d",
   "metadata": {},
   "outputs": [
    {
     "data": {
      "text/plain": [
       "30"
      ]
     },
     "execution_count": 489,
     "metadata": {},
     "output_type": "execute_result"
    }
   ],
   "source": [
    "a.value"
   ]
  },
  {
   "cell_type": "markdown",
   "id": "8d1d076e-383e-4896-9ff6-b1dc6658d6bd",
   "metadata": {},
   "source": [
    "`-` 그래도 이 문법을 알아야 한다. 왜??"
   ]
  },
  {
   "cell_type": "markdown",
   "id": "0881f45b-3dd1-4cf2-95d1-652f7ea1668f",
   "metadata": {},
   "source": [
    "|단계|인터넷밈|클래스|레포트표지|\n",
    "|:-|:-|:-|:-|\n",
    "|1단계: 구상| $\\bullet$ 이거 재미있다. <br/> $\\bullet$ 밈화하자.| $\\bullet$ 이 코드 반복해서 자주 쓸 것 같다. <br/> $\\bullet$ 이 코드를 쉽게 찍어내는 (복사할 수 있는) 클래스를 만들자| $\\bullet$ 레포트 표지를 자주 만들 것 같음 <br/> $\\bullet$  양식파일을 만들까? |\n",
    "|2단계: 틀생성| $\\bullet$ \"밈틀\": 복사하고 싶은 속성을 추려 밈을 생산하기에 유리한 틀을 만듬 | $\\bullet$ 클래스의 선언 | $\\bullet$ REPORT_2023_최규빈.hwp 양식파일을 생성 |\n",
    "|3단계: 틀 $\\to$ 복제| $\\bullet$ 밈화: \"밈틀\"에서 다양한 밈을 만들고 놈 | $\\bullet$ 인스턴스화: 클래스에서 인스턴스를 생산 | $\\bullet$ 레포트 양식표지에서 다양한 레포트를 냄 | \n",
    "|4단계: 틀 $\\to$ 틀변경 $\\to$ 복제| $\\bullet$ 생각해보니까 초기 밈틀은 시시함. <br/> $\\bullet$  초기 밈틀을 수정해 새로운 밈틀을 만들고 더 재미있는 밈을 만들고 놈 | $\\bullet$ 초기클래스와 비슷한 클래스를 선언할 일이 생김 <br/> $\\bullet$ 상속,오버라이딩: 초기클래스를 상속받아 클래스를 새롭게 정의하고 인스턴스를 재 생산 | $\\bullet$ 공모전에 참가하여 결과보고서를 작성할 일이 생김. <br/> $\\bullet$ REPORT_2023_최규빈.hwp 를 적당히 변형하여 수정된 틀을 만들고 결과보고서 생산. "
   ]
  },
  {
   "cell_type": "markdown",
   "id": "0cadc1ea-01d8-4160-bbc4-217672261ae9",
   "metadata": {},
   "source": [
    "> 상속은 위의 표에서 4단계에 해당한다. 즉 어떠한 클래스를 상속받을때는 \"내가 만든 클래스\"가 아닐 경우가 대부분이다. 따라서 \"애초부터 메소드가 겹치지 않게 클래스들을 깔끔하게 디자인을 하는것\" 은 불가능한 경우가 많다. "
   ]
  },
  {
   "cell_type": "markdown",
   "id": "91aae805-e099-4e1c-991e-c5478ddc3fdd",
   "metadata": {},
   "source": [
    "## 리스트의 상속"
   ]
  },
  {
   "cell_type": "markdown",
   "id": "15579fe0-9207-4a3a-950d-006acbe59d22",
   "metadata": {},
   "source": [
    "`-` list와 비슷한데 멤버들의 빈도가 계산되는 메소드를 포함하는 새로운 나만의 list를 만들고 싶다. "
   ]
  },
  {
   "cell_type": "code",
   "execution_count": 495,
   "id": "f1df390f-3fc3-4115-8ff2-8d7d063f7fa2",
   "metadata": {},
   "outputs": [
    {
     "data": {
      "text/plain": [
       "['a', 's', 'd', 'f', 'a', 's', 's', 's', 'd', 'f', 'a']"
      ]
     },
     "execution_count": 495,
     "metadata": {},
     "output_type": "execute_result"
    }
   ],
   "source": [
    "lst = list('asdfasssdfa')\n",
    "lst "
   ]
  },
  {
   "cell_type": "markdown",
   "id": "e2f870f7-b73f-45cc-b8a8-88ebfcc15eea",
   "metadata": {},
   "source": [
    "`-` 각 원소들의 빈도를 구해보면 아래와 같다. "
   ]
  },
  {
   "cell_type": "code",
   "execution_count": 501,
   "id": "a04e6d67-5b4b-422e-879e-bcbd94c4c539",
   "metadata": {},
   "outputs": [
    {
     "data": {
      "text/plain": [
       "{'d': 2, 'a': 3, 's': 4, 'f': 2}"
      ]
     },
     "execution_count": 501,
     "metadata": {},
     "output_type": "execute_result"
    }
   ],
   "source": [
    "{s:lst.count(s) for s in set(lst)}"
   ]
  },
  {
   "cell_type": "code",
   "execution_count": 502,
   "id": "b44fa362-4897-42a2-b3a4-9f27ec0b5ade",
   "metadata": {},
   "outputs": [
    {
     "ename": "AttributeError",
     "evalue": "'list' object has no attribute 'freq'",
     "output_type": "error",
     "traceback": [
      "\u001b[0;31m---------------------------------------------------------------------------\u001b[0m",
      "\u001b[0;31mAttributeError\u001b[0m                            Traceback (most recent call last)",
      "Cell \u001b[0;32mIn[502], line 1\u001b[0m\n\u001b[0;32m----> 1\u001b[0m \u001b[43mlst\u001b[49m\u001b[38;5;241;43m.\u001b[39;49m\u001b[43mfreq\u001b[49m() \u001b[38;5;66;03m# 이렇게 실행하면 위의결과가 나왔으면 좋겠다.\u001b[39;00m\n",
      "\u001b[0;31mAttributeError\u001b[0m: 'list' object has no attribute 'freq'"
     ]
    }
   ],
   "source": [
    "lst.freq() # 이렇게 실행하면 위의결과가 나왔으면 좋겠다."
   ]
  },
  {
   "cell_type": "markdown",
   "id": "0ba02916-77b8-459f-bb93-00f76594a690",
   "metadata": {},
   "source": [
    "`-` 이것을 내가 정의하는 새로운 list의 메소드로 넣고 싶다. "
   ]
  },
  {
   "cell_type": "code",
   "execution_count": 503,
   "id": "556d50f6-9590-4c8b-900d-c964a12c8027",
   "metadata": {},
   "outputs": [],
   "source": [
    "class List(list):\n",
    "    def freq(self):\n",
    "        return {s:self.count(s) for s in set(self)}"
   ]
  },
  {
   "cell_type": "code",
   "execution_count": 504,
   "id": "26341307-5aba-4e1d-9cdb-5c4b8514e7ef",
   "metadata": {},
   "outputs": [],
   "source": [
    "lst2 = List('asdfasssdfa')"
   ]
  },
  {
   "cell_type": "code",
   "execution_count": 514,
   "id": "7a432f64-d82d-4b6f-9fe7-a2fea1027d23",
   "metadata": {},
   "outputs": [
    {
     "data": {
      "text/plain": [
       "['a', 's', 'd', 'f', 'a', 's', 's', 's', 'd', 'f', 'a']"
      ]
     },
     "execution_count": 514,
     "metadata": {},
     "output_type": "execute_result"
    }
   ],
   "source": [
    "lst2"
   ]
  },
  {
   "cell_type": "code",
   "execution_count": 509,
   "id": "1f28d34a-ecd7-427f-bda1-169e42d5db61",
   "metadata": {},
   "outputs": [
    {
     "data": {
      "text/plain": [
       "['a', 's', 'd', 'f', 'a', 's', 's', 's', 'd', 'f', 'a']"
      ]
     },
     "execution_count": 509,
     "metadata": {},
     "output_type": "execute_result"
    }
   ],
   "source": [
    "lst"
   ]
  },
  {
   "cell_type": "code",
   "execution_count": 517,
   "id": "9ce38429-4aa8-489d-a3c4-4cd0481a43ee",
   "metadata": {},
   "outputs": [],
   "source": [
    "#lst2+lst ## 거의 lst2는 일반적인 lst와 같은역할"
   ]
  },
  {
   "cell_type": "markdown",
   "id": "7d4d5d84-398e-419f-b86e-b3c089ab05ff",
   "metadata": {},
   "source": [
    "`-` 기존리스트에서 추가로 frequency() 메소드가 존재함. "
   ]
  },
  {
   "cell_type": "code",
   "execution_count": 513,
   "id": "a2dc40db-dadd-4c2a-ad48-fd76d71de2b9",
   "metadata": {},
   "outputs": [
    {
     "data": {
      "text/plain": [
       "{'d': 2, 'a': 3, 's': 4, 'f': 2}"
      ]
     },
     "execution_count": 513,
     "metadata": {},
     "output_type": "execute_result"
    }
   ],
   "source": [
    "lst2.freq()"
   ]
  }
 ],
 "metadata": {
  "kernelspec": {
   "display_name": "Python 3",
   "language": "python",
   "name": "python3"
  },
  "language_info": {
   "codemirror_mode": {
    "name": "ipython",
    "version": 3
   },
   "file_extension": ".py",
   "mimetype": "text/x-python",
   "name": "python",
   "nbconvert_exporter": "python",
   "pygments_lexer": "ipython3",
   "version": "3.8.16"
  }
 },
 "nbformat": 4,
 "nbformat_minor": 5
}
