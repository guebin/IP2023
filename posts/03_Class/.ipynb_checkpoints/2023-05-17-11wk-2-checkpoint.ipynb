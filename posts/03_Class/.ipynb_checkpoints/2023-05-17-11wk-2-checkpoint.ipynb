{
 "cells": [
  {
   "cell_type": "raw",
   "id": "5ff27886-46ce-48cc-85bc-519b845aac2f",
   "metadata": {},
   "source": [
    "---\n",
    "title: \"11wk-2: 클래스 (3)\"\n",
    "author: \"최규빈\"\n",
    "date: \"05/17/2023\"\n",
    "---"
   ]
  },
  {
   "cell_type": "code",
   "execution_count": null,
   "id": "7c775f8c-aafd-443e-bf3e-6bf1f3d9613c",
   "metadata": {},
   "outputs": [
    {
     "name": "stdout",
     "output_type": "stream",
     "text": [
      "git: 'add.' is not a git command. See 'git --help'.\n",
      "\n",
      "The most similar command is\n",
      "\tadd\n",
      "On branch main\n",
      "Your branch is up to date with 'origin/main'.\n",
      "\n",
      "Changes not staged for commit:\n",
      "  (use \"git add/rm <file>...\" to update what will be committed)\n",
      "  (use \"git restore <file>...\" to discard changes in working directory)\n",
      "\t\u001b[31mmodified:   ../../.ipynb_checkpoints/_quarto-checkpoint.yml\u001b[m\n",
      "\t\u001b[31mmodified:   ../../_quarto.yml\u001b[m\n",
      "\t\u001b[31mmodified:   ../../_site/index.html\u001b[m\n",
      "\t\u001b[31mmodified:   ../../_site/listings.json\u001b[m\n",
      "\t\u001b[31mmodified:   ../../_site/posts/2023-05-08-10wk-1-mid.html\u001b[m\n",
      "\t\u001b[31mmodified:   ../../_site/search.json\u001b[m\n",
      "\t\u001b[31mmodified:   ../../_site/sitemap.xml\u001b[m\n",
      "\t\u001b[31mmodified:   ../02_DataScience/.ipynb_checkpoints/2023-05-01-9wk-1-checkpoint.ipynb\u001b[m\n",
      "\t\u001b[31mmodified:   ../02_DataScience/2023-05-01-9wk-1.ipynb\u001b[m\n",
      "\t\u001b[31mdeleted:    \"\\brest.ipynb\"\u001b[m\n",
      "\t\u001b[31mdeleted:    \".ipynb_checkpoints/\\brest-checkpoint.ipynb\"\u001b[m\n",
      "\t\u001b[31mmodified:   .ipynb_checkpoints/2023-05-15-11wk-1-checkpoint.ipynb\u001b[m\n",
      "\t\u001b[31mmodified:   .ipynb_checkpoints/rest1-checkpoint.ipynb\u001b[m\n",
      "\t\u001b[31mmodified:   2023-05-15-11wk-1.ipynb\u001b[m\n",
      "\t\u001b[31mmodified:   rest1.ipynb\u001b[m\n",
      "\t\u001b[31mmodified:   ../2023-05-08-10wk-1-mid.ipynb\u001b[m\n",
      "\n",
      "Untracked files:\n",
      "  (use \"git add <file>...\" to include in what will be committed)\n",
      "\t\u001b[31m../../_site/posts/02_DataScience/\u001b[m\n",
      "\t\u001b[31m../../_site/posts/03_Class/\u001b[m\n",
      "\t\u001b[31m\"\\brest2.ipynb\"\u001b[m\n",
      "\t\u001b[31m\".ipynb_checkpoints/\\brest2-checkpoint.ipynb\"\u001b[m\n",
      "\t\u001b[31m.ipynb_checkpoints/2023-05-17-11wk-2-checkpoint.ipynb\u001b[m\n",
      "\t\u001b[31m2023-05-17-11wk-2.ipynb\u001b[m\n",
      "\n",
      "no changes added to commit (use \"git add\" and/or \"git commit -a\")\n",
      "Everything up-to-date\n",
      "From https://github.com/guebin/PP2023\n",
      " * branch            gh-pages   -> FETCH_HEAD\n",
      "\u001b[1m\u001b[34mRendering for publish:\n",
      "\u001b[39m\u001b[22m\n",
      "\u001b[1m\u001b[34m[ 1/29] about.qmd\u001b[39m\u001b[22m\n",
      "\u001b[1m\u001b[34m[ 2/29] posts/Appendix/2022-06-14-final.ipynb\u001b[39m\u001b[22m\n",
      "\u001b[1m\u001b[34m[ 3/29] posts/Appendix/2021-04-20-mid.ipynb\u001b[39m\u001b[22m\n",
      "\u001b[1m\u001b[34m[ 4/29] posts/Appendix/2022-05-03-mid.ipynb\u001b[39m\u001b[22m\n",
      "\u001b[1m\u001b[34m[ 5/29] posts/Appendix/2021-06-09-final.ipynb\u001b[39m\u001b[22m\n",
      "\u001b[1m\u001b[34m[ 6/29] posts/2023-03-06-1wk-1.ipynb\u001b[39m\u001b[22m\n",
      "\u001b[1m\u001b[34m[ 7/29] posts/03_Class/2023-05-15-11wk-1.ipynb\u001b[39m\u001b[22m\n"
     ]
    }
   ],
   "source": [
    "!git add .\n",
    "!git commit -m .\n",
    "!git push \n",
    "!quarto publish --no-browser --no-prompt"
   ]
  },
  {
   "cell_type": "markdown",
   "id": "e19185e4-c364-4079-8b35-7d3a19028893",
   "metadata": {},
   "source": [
    "# 강의영상 "
   ]
  },
  {
   "cell_type": "markdown",
   "id": "4a0a9f20-09fe-4df1-83a3-76b323e30b6a",
   "metadata": {},
   "source": [
    "> youtube: "
   ]
  },
  {
   "cell_type": "markdown",
   "id": "cb1cd6d0-f369-4700-8dc5-76675669db4d",
   "metadata": {},
   "source": [
    "# imports "
   ]
  },
  {
   "cell_type": "code",
   "execution_count": 1,
   "id": "e0891f94-334c-4581-b4f7-33cbf8541cb4",
   "metadata": {},
   "outputs": [],
   "source": [
    "from IPython.core.display import HTML"
   ]
  },
  {
   "cell_type": "markdown",
   "id": "0a9a2769-d49d-4a7c-a0a5-b3f4ed9d69cb",
   "metadata": {},
   "source": [
    "# 클래스공부 1단계 "
   ]
  },
  {
   "cell_type": "code",
   "execution_count": 1,
   "id": "0e421a8c-027c-4eb1-b54c-81d2c80e0a77",
   "metadata": {},
   "outputs": [],
   "source": [
    "class JungKKuckMa:\n",
    "    pass\n",
    "pp2023 = JungKKuckMa()"
   ]
  },
  {
   "cell_type": "code",
   "execution_count": null,
   "id": "11494036-9224-4685-b2c7-386328375b7c",
   "metadata": {},
   "outputs": [],
   "source": [
    "pp2023.title = '파이썬 프로그래밍 중간고사 패배는 괜찮다.'\n",
    "pp2023.imgurl = 'https://github.com/guebin/PP2023/blob/main/posts/03_Class/PP2023mid.jpg?raw=true?'\n",
    "pp2023.ques = \"Q: 파이썬 프로그래밍 기말고사, 어떤 점에 유의해야 할까?\"\n",
    "pp2023.ans = \"A: 최규빈 교수 문제 스타일에 대해서 더 분석할 건 없는 것 같고, 내가 내 코드를 잘 구현하는 게 제일 중요한 것 같고 중간고사는 망하긴 했지만 제 스스로 안 무너지면 충분히 기말고사는 잘 볼 수 있을 것 같아요.\"\n",
    "pp2023.highlight = '마음'\n",
    "pp2023.html_str =\\\n",
    "'''\n",
    "<style>\n",
    "    .title {{\n",
    "        font-family: \"Times New Roman\", serif;\n",
    "        font-size: 30px;\n",
    "        font-weight: 900;\n",
    "    }}\n",
    "    .text {{\n",
    "        font-family: \"Arial\", sans-serif;\n",
    "        font-size: 20px;\n",
    "        font-style: italic;\n",
    "    }}\n",
    "    .highlight {{\n",
    "        font-family: \"Montserrat\", monospace;\n",
    "        font-size: 35px;\n",
    "        font-weight: 900;\n",
    "        text-decoration: underline;\n",
    "        font-style: normal;\n",
    "        color: darkblue;\n",
    "        background-color: #FFFF00;\n",
    "    }}\n",
    "</style>\n",
    "<p class=\"title\">{ttl}</p>\n",
    "<img src={url} width=\"600\">\n",
    "<p> \\n </p>\n",
    "<p class=\"text\">{q}</p>\n",
    "<p class=\"text\">{a}</p>\n",
    "<p class=\"title\">중요한 것은 꺽이지 않는 <span class=\"highlight\">{hlght}</span></p>\n",
    "'''"
   ]
  },
  {
   "cell_type": "code",
   "execution_count": null,
   "id": "67b7cba5-29e4-4562-8d66-1f8979087e7e",
   "metadata": {},
   "outputs": [],
   "source": [
    "def show(pp2023):\n",
    "    _str = html_str.format(\n",
    "        title = pp2023.title,\n",
    "        imgurl = pp2023.imgurl, \n",
    "        ques = pp2023.ques,\n",
    "        ans = pp2023.ans, \n",
    "        end = pp2023.end\n",
    "    )\n",
    "    display(HTML(_str))"
   ]
  }
 ],
 "metadata": {
  "kernelspec": {
   "display_name": "Python 3",
   "language": "python",
   "name": "python3"
  },
  "language_info": {
   "codemirror_mode": {
    "name": "ipython",
    "version": 3
   },
   "file_extension": ".py",
   "mimetype": "text/x-python",
   "name": "python",
   "nbconvert_exporter": "python",
   "pygments_lexer": "ipython3",
   "version": "3.8.16"
  }
 },
 "nbformat": 4,
 "nbformat_minor": 5
}
