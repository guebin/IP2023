{
 "cells": [
  {
   "cell_type": "raw",
   "id": "a1528b7b-1d00-4bcd-bdd4-490ab2e6d884",
   "metadata": {},
   "source": [
    "---\n",
    "title: \"14wk-1: 클래스공부 4단계 -- 파이썬의 비밀 (2)\"\n",
    "author: \"최규빈\"\n",
    "date: \"06/05/2023\"\n",
    "---"
   ]
  },
  {
   "cell_type": "markdown",
   "id": "d9716751-195a-4265-8977-8dafb04c3abe",
   "metadata": {},
   "source": [
    "<a href=\"https://colab.research.google.com/github/guebin/PP2023/blob/main/posts/03_Class/2023-06-05-14wk-1.ipynb\"><img src=\"https://colab.research.google.com/assets/colab-badge.svg\" style=\"text-align: left\"></a>"
   ]
  },
  {
   "cell_type": "markdown",
   "id": "7a6f8b5b-169e-4ea9-8fa8-d9bb31a6b4fe",
   "metadata": {},
   "source": [
    "# imports "
   ]
  },
  {
   "cell_type": "code",
   "execution_count": 418,
   "id": "6835093b-64a4-467c-9f96-ad622c5bef2c",
   "metadata": {},
   "outputs": [],
   "source": [
    "import numpy as np\n",
    "import matplotlib.pyplot as plt\n",
    "import pandas as pd"
   ]
  },
  {
   "cell_type": "markdown",
   "id": "97993944-7895-4942-8b63-3baaea87f9e1",
   "metadata": {},
   "source": [
    "# 예비학습"
   ]
  },
  {
   "cell_type": "markdown",
   "id": "687e7738-1637-4882-8f55-06bb6e33b504",
   "metadata": {},
   "source": [
    "## 모티브: 클래스를 수정은 불편해"
   ]
  },
  {
   "cell_type": "markdown",
   "id": "67d6f489-0c53-4bb5-ac4b-dfddf219e242",
   "metadata": {},
   "source": [
    "`-` 예시1: UpJump ver1"
   ]
  },
  {
   "cell_type": "code",
   "execution_count": 2,
   "id": "7e049991-6479-4cd8-aeb5-0de9d96d8f71",
   "metadata": {},
   "outputs": [],
   "source": [
    "class UpJump:\n",
    "    def __init__(self):\n",
    "        self.value = 0\n",
    "    def up(self):\n",
    "        self.value = self.value + 1  \n",
    "    def __repr__(self):\n",
    "        return str(self.value)"
   ]
  },
  {
   "cell_type": "code",
   "execution_count": 3,
   "id": "a7f3ede5-94d4-459e-a7cf-1f15d0d4c002",
   "metadata": {},
   "outputs": [],
   "source": [
    "a = UpJump()\n",
    "a.up()"
   ]
  },
  {
   "cell_type": "code",
   "execution_count": 4,
   "id": "587e516d-0114-4646-92a7-c037fdc45966",
   "metadata": {},
   "outputs": [
    {
     "data": {
      "text/plain": [
       "1"
      ]
     },
     "execution_count": 4,
     "metadata": {},
     "output_type": "execute_result"
    }
   ],
   "source": [
    "a"
   ]
  },
  {
   "cell_type": "code",
   "execution_count": 5,
   "id": "708adca9-6775-4dae-a215-1920189ae095",
   "metadata": {},
   "outputs": [
    {
     "ename": "AttributeError",
     "evalue": "'UpJump' object has no attribute 'jump'",
     "output_type": "error",
     "traceback": [
      "\u001b[0;31m---------------------------------------------------------------------------\u001b[0m",
      "\u001b[0;31mAttributeError\u001b[0m                            Traceback (most recent call last)",
      "Cell \u001b[0;32mIn[5], line 1\u001b[0m\n\u001b[0;32m----> 1\u001b[0m \u001b[43ma\u001b[49m\u001b[38;5;241;43m.\u001b[39;49m\u001b[43mjump\u001b[49m(\u001b[38;5;241m2\u001b[39m)\n",
      "\u001b[0;31mAttributeError\u001b[0m: 'UpJump' object has no attribute 'jump'"
     ]
    }
   ],
   "source": [
    "a.jump(2)"
   ]
  },
  {
   "cell_type": "markdown",
   "id": "4f8236fd-6ebc-4f69-814f-ff5659c646db",
   "metadata": {},
   "source": [
    "- 점프는 아직 구현하지 않음."
   ]
  },
  {
   "cell_type": "markdown",
   "id": "b7ec6b3b-7341-4f38-820a-1acbf903c4e0",
   "metadata": {},
   "source": [
    "`-` 예시2: UpJump ver2 "
   ]
  },
  {
   "cell_type": "code",
   "execution_count": 6,
   "id": "6b208b24-11c0-4ee7-8069-3e3d98342b82",
   "metadata": {},
   "outputs": [],
   "source": [
    "class UpJump_Ver2:\n",
    "    def __init__(self):\n",
    "        self.value = 0\n",
    "    def up(self):\n",
    "        self.value = self.value + 1  \n",
    "    def jump(self,jump_size):\n",
    "        self.value = self.value + jump_size\n",
    "    def __repr__(self):\n",
    "        return str(self.value)        "
   ]
  },
  {
   "cell_type": "code",
   "execution_count": 7,
   "id": "67f341b0-18df-4094-9f30-35819692e94c",
   "metadata": {},
   "outputs": [],
   "source": [
    "a = UpJump_Ver2()"
   ]
  },
  {
   "cell_type": "code",
   "execution_count": 8,
   "id": "5970e315-22eb-4b30-a13b-53770333aea7",
   "metadata": {},
   "outputs": [],
   "source": [
    "a.up()"
   ]
  },
  {
   "cell_type": "code",
   "execution_count": 9,
   "id": "804406ac-14e8-492e-92ef-526746a6a9c6",
   "metadata": {},
   "outputs": [],
   "source": [
    "a.jump(2)"
   ]
  },
  {
   "cell_type": "code",
   "execution_count": 10,
   "id": "777112ad-22f7-4443-b6a2-720e9e0ccf3c",
   "metadata": {},
   "outputs": [
    {
     "data": {
      "text/plain": [
       "3"
      ]
     },
     "execution_count": 10,
     "metadata": {},
     "output_type": "execute_result"
    }
   ],
   "source": [
    "a"
   ]
  },
  {
   "cell_type": "markdown",
   "id": "2df2e4d7-5534-419f-b10f-6258962e9a27",
   "metadata": {},
   "source": [
    "`-` 예시3: UpJump ver2의 다른 구현 "
   ]
  },
  {
   "cell_type": "code",
   "execution_count": 11,
   "id": "bd1720d4-1772-4e2b-80a7-cf585b27b897",
   "metadata": {},
   "outputs": [],
   "source": [
    "class UpJump_Ver2(UpJump):\n",
    "    def jump(self,jump_size):\n",
    "        self.value = self.value + jump_size    "
   ]
  },
  {
   "cell_type": "code",
   "execution_count": 12,
   "id": "9920c0cb-2a2c-49ea-b307-6a92ba5505b8",
   "metadata": {},
   "outputs": [],
   "source": [
    "a = UpJump_Ver2()"
   ]
  },
  {
   "cell_type": "code",
   "execution_count": 13,
   "id": "5995ea6e-ddce-49fb-a9ea-fb55c7a263f3",
   "metadata": {},
   "outputs": [],
   "source": [
    "a.up()"
   ]
  },
  {
   "cell_type": "code",
   "execution_count": 14,
   "id": "ceb4b006-8c4e-4b0b-b320-db2512bc6a54",
   "metadata": {},
   "outputs": [],
   "source": [
    "a.jump(2)"
   ]
  },
  {
   "cell_type": "code",
   "execution_count": 15,
   "id": "631d60da-087f-4a07-afbe-7c6db5d521ff",
   "metadata": {},
   "outputs": [
    {
     "data": {
      "text/plain": [
       "3"
      ]
     },
     "execution_count": 15,
     "metadata": {},
     "output_type": "execute_result"
    }
   ],
   "source": [
    "a"
   ]
  },
  {
   "cell_type": "markdown",
   "id": "c9604d7a-f59f-490e-bcd6-5540fa148946",
   "metadata": {},
   "source": [
    "## 꿀팁"
   ]
  },
  {
   "cell_type": "markdown",
   "id": "554cd878-a011-4e1b-a00e-6dc82c8b24f5",
   "metadata": {},
   "source": [
    "`-` 클래스를 조금 수정하고 싶을때, 아래와 같은 문법을 이용하면 편리하다. \n",
    "\n",
    "```Python\n",
    "class 새로운_클래스_이름(수정할_클래스_이름): \n",
    "    def 수정_및_추가할_함수이름(self,...):\n",
    "        ...\n",
    "```"
   ]
  },
  {
   "cell_type": "markdown",
   "id": "6cc32bbc-0922-408d-a72a-ac9baaa71e70",
   "metadata": {},
   "source": [
    "`-` 사용예시"
   ]
  },
  {
   "cell_type": "code",
   "execution_count": 16,
   "id": "0e97ca15-984a-45bd-88c6-27e2b7c5292b",
   "metadata": {},
   "outputs": [],
   "source": [
    "class UpJump_Ver3(UpJump_Ver2):\n",
    "    def __repr__(self):\n",
    "        return '현재의 이 인스턴스의 value는 {}입니다.'.format(self.value)"
   ]
  },
  {
   "cell_type": "code",
   "execution_count": 17,
   "id": "e927b5ed-483d-4827-b4a5-87fdfbf4330e",
   "metadata": {},
   "outputs": [],
   "source": [
    "a=UpJump_Ver3()"
   ]
  },
  {
   "cell_type": "code",
   "execution_count": 18,
   "id": "0186d7d6-2265-4dc9-86a0-bd727de0deb4",
   "metadata": {},
   "outputs": [
    {
     "data": {
      "text/plain": [
       "현재의 이 인스턴스의 value는 0입니다."
      ]
     },
     "execution_count": 18,
     "metadata": {},
     "output_type": "execute_result"
    }
   ],
   "source": [
    "a"
   ]
  },
  {
   "cell_type": "code",
   "execution_count": 19,
   "id": "319c4387-baed-42f1-adda-421ca2b00e84",
   "metadata": {},
   "outputs": [],
   "source": [
    "a.jump(50)"
   ]
  },
  {
   "cell_type": "code",
   "execution_count": 20,
   "id": "17db8cab-cb62-4eaf-a670-15eeb5858ab8",
   "metadata": {},
   "outputs": [
    {
     "data": {
      "text/plain": [
       "현재의 이 인스턴스의 value는 50입니다."
      ]
     },
     "execution_count": 20,
     "metadata": {},
     "output_type": "execute_result"
    }
   ],
   "source": [
    "a"
   ]
  },
  {
   "cell_type": "markdown",
   "id": "da1c7dcf-5b87-4ea8-ac6b-1ff26dfa9414",
   "metadata": {},
   "source": [
    "# 클래스공부 4단계: 파이썬의 비밀 (2)"
   ]
  },
  {
   "cell_type": "markdown",
   "id": "1bfa78cd-7e18-4544-9bcf-0d1abfbf9003",
   "metadata": {},
   "source": [
    "## 비밀6: `__add__`"
   ]
  },
  {
   "cell_type": "markdown",
   "id": "366664d9-f1e3-4123-a808-6bc8d12b0e5c",
   "metadata": {},
   "source": [
    "### ***motive***"
   ]
  },
  {
   "cell_type": "markdown",
   "id": "9a4903fc-67ca-4bd6-99d0-05c2fa7e040a",
   "metadata": {},
   "source": [
    "`-` 모티브: 아래의 연산구조를 관찰하자. "
   ]
  },
  {
   "cell_type": "code",
   "execution_count": 21,
   "id": "e68c3bd6-fde4-4c84-8f9d-eef44dd272e6",
   "metadata": {},
   "outputs": [
    {
     "data": {
      "text/plain": [
       "3"
      ]
     },
     "execution_count": 21,
     "metadata": {},
     "output_type": "execute_result"
    }
   ],
   "source": [
    "a=1\n",
    "b=2 \n",
    "a+b"
   ]
  },
  {
   "cell_type": "markdown",
   "id": "ff7c545a-632a-4ff3-b64c-6aa2765be421",
   "metadata": {},
   "source": [
    "`-` 아래의 연산구조를 관찰하자. "
   ]
  },
  {
   "cell_type": "code",
   "execution_count": 22,
   "id": "bb5f3757-0656-4dca-94f5-c9330123c921",
   "metadata": {},
   "outputs": [
    {
     "data": {
      "text/plain": [
       "3"
      ]
     },
     "execution_count": 22,
     "metadata": {},
     "output_type": "execute_result"
    }
   ],
   "source": [
    "a=1 \n",
    "b=2 \n",
    "a+b "
   ]
  },
  {
   "cell_type": "markdown",
   "id": "13884c76-7b58-451b-b19f-5ddfc890295f",
   "metadata": {},
   "source": [
    "- a라는 인스턴스와 b라는 인스턴스를 +라는 기호가 연결하고 있다. "
   ]
  },
  {
   "cell_type": "markdown",
   "id": "3b0d9cc3-7d83-4918-b3fa-7fac645ae86a",
   "metadata": {},
   "source": [
    "`-` 이번에는 아래의 연산구조를 관찰하자."
   ]
  },
  {
   "cell_type": "code",
   "execution_count": 23,
   "id": "09ef66e5-9549-450f-9787-a0b344bf4237",
   "metadata": {},
   "outputs": [
    {
     "data": {
      "text/plain": [
       "[1, 2, 3, 4]"
      ]
     },
     "execution_count": 23,
     "metadata": {},
     "output_type": "execute_result"
    }
   ],
   "source": [
    "a=[1,2]\n",
    "b=[3,4]\n",
    "a+b"
   ]
  },
  {
   "cell_type": "markdown",
   "id": "90085783-57d6-4153-add7-52b34f122abf",
   "metadata": {},
   "source": [
    "- a라는 인스턴스와 b라는 인스턴스를 +라는 기호가 연결하고 있다. "
   ]
  },
  {
   "cell_type": "markdown",
   "id": "b413724f-f9b5-4f8b-82d4-30cc9f29499c",
   "metadata": {},
   "source": [
    "`-` 동작이 다른 이유?\n",
    "\n",
    "- 클래스를 배우기 이전: int자료형의 `+`는 \"정수의 덧셈\"을 의미하고 list자료형의 `+`는 \"자료의 추가\"를 의미한다. \n",
    "- 클래스를 배운 이후: 아마 클래스는 `+`라는 연산을 정의하는 숨겨진 메소드가 있을것이다. (print가 그랬듯이) 그리고 int클래스에서는 그 메소드를 \"정수의 덧셈\"이 되도록 정의하였고 list클래스에서는 그 메소드를 \"자료의 추가\"를 의미하도록 정의하였다. "
   ]
  },
  {
   "cell_type": "markdown",
   "id": "a47bf074-64fe-4538-b534-d24f111fdca6",
   "metadata": {},
   "source": [
    "`-` 아래의 결과를 관찰"
   ]
  },
  {
   "cell_type": "code",
   "execution_count": 24,
   "id": "f4f0dde0-56e8-48bd-9753-172d733b8b4a",
   "metadata": {},
   "outputs": [],
   "source": [
    "a=1\n",
    "b=2"
   ]
  },
  {
   "cell_type": "code",
   "execution_count": 25,
   "id": "65165032-06ec-4354-b1a1-3dfd1f2bb31d",
   "metadata": {},
   "outputs": [
    {
     "data": {
      "text/plain": [
       "3"
      ]
     },
     "execution_count": 25,
     "metadata": {},
     "output_type": "execute_result"
    }
   ],
   "source": [
    "a.__add__(b)"
   ]
  },
  {
   "cell_type": "code",
   "execution_count": 26,
   "id": "8a9fb0a1-8e8e-40e8-b8da-8c23f118c287",
   "metadata": {},
   "outputs": [
    {
     "data": {
      "text/plain": [
       "3"
      ]
     },
     "execution_count": 26,
     "metadata": {},
     "output_type": "execute_result"
    }
   ],
   "source": [
    "b.__add__(a)"
   ]
  },
  {
   "cell_type": "code",
   "execution_count": 27,
   "id": "c45b0642-1a76-478d-9398-db8201d4a617",
   "metadata": {},
   "outputs": [],
   "source": [
    "a=[1,2]\n",
    "b=[3,4]"
   ]
  },
  {
   "cell_type": "code",
   "execution_count": 28,
   "id": "29d37b65-6e02-40be-9d72-90b8c33d5472",
   "metadata": {},
   "outputs": [
    {
     "data": {
      "text/plain": [
       "[1, 2, 3, 4]"
      ]
     },
     "execution_count": 28,
     "metadata": {},
     "output_type": "execute_result"
    }
   ],
   "source": [
    "a.__add__(b)"
   ]
  },
  {
   "cell_type": "code",
   "execution_count": 29,
   "id": "2849a30b-17f9-4398-9224-4e203e503cce",
   "metadata": {},
   "outputs": [
    {
     "data": {
      "text/plain": [
       "[3, 4, 1, 2]"
      ]
     },
     "execution_count": 29,
     "metadata": {},
     "output_type": "execute_result"
    }
   ],
   "source": [
    "b.__add__(a)"
   ]
  },
  {
   "cell_type": "markdown",
   "id": "e80b031f-6df9-403b-980a-f667934dd7a8",
   "metadata": {},
   "source": [
    "`-` 확인: a+b는 사실 내부적으로 `a.__add__(b)`의 축약구문이다. "
   ]
  },
  {
   "cell_type": "markdown",
   "id": "9f3013b5-b806-45cc-8899-6c11eec3737f",
   "metadata": {},
   "source": [
    "`-` 추측: 따라서 만약 `a.__add__(b)`의 기능을 바꾸면 (재정의하면) a+b의 기능도 바뀔 것이다. "
   ]
  },
  {
   "cell_type": "markdown",
   "id": "130a2583-005b-4728-8da5-9c626f42e975",
   "metadata": {},
   "source": [
    "### ***Student_Ver2: `__add__`의 사용***"
   ]
  },
  {
   "cell_type": "markdown",
   "id": "8560a0a0-39bc-422d-85c8-8fd7145e6724",
   "metadata": {},
   "source": [
    "`-` Student 클래스 선언 "
   ]
  },
  {
   "cell_type": "code",
   "execution_count": 30,
   "id": "c64faa6b-cbfd-43bd-b89e-d20e98ba1dbe",
   "metadata": {},
   "outputs": [],
   "source": [
    "class Student:\n",
    "    def __init__(self, age=20.0, semester=0): \n",
    "        self.age = age\n",
    "        self.semester = semester\n",
    "        print(\"입학을 축하합니다. 당신의 나이는 {}이고 현재 학기는 {}학기 입니다.\".format(self.age,self.semester))\n",
    "    def __add__(self,registration_status): \n",
    "        if registration_status=='휴학': \n",
    "            self.age=self.age+0.5\n",
    "        elif registration_status=='등록':\n",
    "            self.age=self.age+0.5 \n",
    "            self.semester= self.semester+1 \n",
    "    def _repr_html_(self):\n",
    "        html_str = \"\"\"\n",
    "        나이: {} <br/>\n",
    "        학기: {} <br/>\n",
    "        \"\"\"\n",
    "        return html_str.format(self.age,self.semester)"
   ]
  },
  {
   "cell_type": "markdown",
   "id": "9f238d81-f98e-4b22-8757-9e2c5fb7a54c",
   "metadata": {},
   "source": [
    "`-` 사용 "
   ]
  },
  {
   "cell_type": "code",
   "execution_count": 31,
   "id": "7f58c252-297a-4634-b518-7ca51fc82e47",
   "metadata": {},
   "outputs": [
    {
     "name": "stdout",
     "output_type": "stream",
     "text": [
      "입학을 축하합니다. 당신의 나이는 20.0이고 현재 학기는 0학기 입니다.\n"
     ]
    }
   ],
   "source": [
    "boram = Student()"
   ]
  },
  {
   "cell_type": "code",
   "execution_count": 32,
   "id": "e5e4cb99-5932-45bd-bd94-5320b1ae8c0f",
   "metadata": {},
   "outputs": [
    {
     "data": {
      "text/html": [
       "\n",
       "        나이: 20.0 <br/>\n",
       "        학기: 0 <br/>\n",
       "        "
      ],
      "text/plain": [
       "<__main__.Student at 0x7f09a96868b0>"
      ]
     },
     "execution_count": 32,
     "metadata": {},
     "output_type": "execute_result"
    }
   ],
   "source": [
    "boram"
   ]
  },
  {
   "cell_type": "code",
   "execution_count": 33,
   "id": "3ffa9896-27ac-40d6-9ea9-6dcf06b18010",
   "metadata": {},
   "outputs": [
    {
     "data": {
      "text/html": [
       "\n",
       "        나이: 20.5 <br/>\n",
       "        학기: 1 <br/>\n",
       "        "
      ],
      "text/plain": [
       "<__main__.Student at 0x7f09a96868b0>"
      ]
     },
     "execution_count": 33,
     "metadata": {},
     "output_type": "execute_result"
    }
   ],
   "source": [
    "boram + '등록'\n",
    "boram"
   ]
  },
  {
   "cell_type": "code",
   "execution_count": 34,
   "id": "3dd512be-7499-4cf1-9f80-de2c44be045d",
   "metadata": {},
   "outputs": [
    {
     "data": {
      "text/html": [
       "\n",
       "        나이: 21.0 <br/>\n",
       "        학기: 1 <br/>\n",
       "        "
      ],
      "text/plain": [
       "<__main__.Student at 0x7f09a96868b0>"
      ]
     },
     "execution_count": 34,
     "metadata": {},
     "output_type": "execute_result"
    }
   ],
   "source": [
    "boram + '휴학'\n",
    "boram"
   ]
  },
  {
   "cell_type": "markdown",
   "id": "93c482d5-5df8-4758-87f7-2983a71c9776",
   "metadata": {},
   "source": [
    "`-` 잘못된 사용 "
   ]
  },
  {
   "cell_type": "code",
   "execution_count": 35,
   "id": "e657175e-84f1-423a-afad-2b169ff2c68e",
   "metadata": {},
   "outputs": [
    {
     "name": "stdout",
     "output_type": "stream",
     "text": [
      "입학을 축하합니다. 당신의 나이는 20.0이고 현재 학기는 0학기 입니다.\n"
     ]
    }
   ],
   "source": [
    "boram = Student()"
   ]
  },
  {
   "cell_type": "code",
   "execution_count": 36,
   "id": "637592e1-2cea-464c-ac1a-170eaf800f02",
   "metadata": {},
   "outputs": [
    {
     "ename": "TypeError",
     "evalue": "unsupported operand type(s) for +: 'NoneType' and 'str'",
     "output_type": "error",
     "traceback": [
      "\u001b[0;31m---------------------------------------------------------------------------\u001b[0m",
      "\u001b[0;31mTypeError\u001b[0m                                 Traceback (most recent call last)",
      "Cell \u001b[0;32mIn[36], line 1\u001b[0m\n\u001b[0;32m----> 1\u001b[0m \u001b[43mboram\u001b[49m\u001b[43m \u001b[49m\u001b[38;5;241;43m+\u001b[39;49m\u001b[43m \u001b[49m\u001b[38;5;124;43m'\u001b[39;49m\u001b[38;5;124;43m등록\u001b[39;49m\u001b[38;5;124;43m'\u001b[39;49m\u001b[38;5;241;43m+\u001b[39;49m\u001b[43m \u001b[49m\u001b[38;5;124;43m'\u001b[39;49m\u001b[38;5;124;43m휴학\u001b[39;49m\u001b[38;5;124;43m'\u001b[39;49m \u001b[38;5;241m+\u001b[39m \u001b[38;5;124m'\u001b[39m\u001b[38;5;124m등록\u001b[39m\u001b[38;5;124m'\u001b[39m \u001b[38;5;241m+\u001b[39m \u001b[38;5;124m'\u001b[39m\u001b[38;5;124m휴학\u001b[39m\u001b[38;5;124m'\u001b[39m\n",
      "\u001b[0;31mTypeError\u001b[0m: unsupported operand type(s) for +: 'NoneType' and 'str'"
     ]
    }
   ],
   "source": [
    "boram + '등록'+ '휴학' + '등록' + '휴학'"
   ]
  },
  {
   "cell_type": "markdown",
   "id": "47dfeb81-6aa8-4ace-8da3-e2f87dc53ee3",
   "metadata": {},
   "source": [
    "- 에러가?"
   ]
  },
  {
   "cell_type": "markdown",
   "id": "95d1cde5-016f-462d-9fe3-2adc49c7a393",
   "metadata": {},
   "source": [
    "`-` 올바른 코드 "
   ]
  },
  {
   "cell_type": "code",
   "execution_count": 37,
   "id": "e0f7fa65-9dfa-4649-84d4-a02c2a3d7cd1",
   "metadata": {},
   "outputs": [],
   "source": [
    "class Student_Ver2:\n",
    "    def __init__(self, age=20.0, semester=0): \n",
    "        self.age = age\n",
    "        self.semester = semester\n",
    "        print(\"입학을 축하합니다. 당신의 나이는 {}이고 현재 학기는 {}학기 입니다.\".format(self.age,self.semester))\n",
    "    def __add__(self,registration_status): \n",
    "        if registration_status=='휴학': \n",
    "            self.age = self.age+0.5\n",
    "        elif registration_status=='등록':\n",
    "            self.age = self.age+0.5 \n",
    "            self.semester = self.semester+1 \n",
    "        return self\n",
    "    def _repr_html_(self):\n",
    "        html_str = \"\"\"\n",
    "        나이: {} <br/>\n",
    "        학기: {} <br/>\n",
    "        \"\"\"\n",
    "        return html_str.format(self.age,self.semester)"
   ]
  },
  {
   "cell_type": "code",
   "execution_count": 39,
   "id": "8c10b901-9272-4a97-8922-e4d6ccf30992",
   "metadata": {},
   "outputs": [
    {
     "name": "stdout",
     "output_type": "stream",
     "text": [
      "입학을 축하합니다. 당신의 나이는 20.0이고 현재 학기는 0학기 입니다.\n"
     ]
    }
   ],
   "source": [
    "boram = Student_Ver2()"
   ]
  },
  {
   "cell_type": "code",
   "execution_count": 40,
   "id": "fc7547df-3fe5-4655-9370-967b97adf5fe",
   "metadata": {},
   "outputs": [
    {
     "data": {
      "text/html": [
       "\n",
       "        나이: 22.0 <br/>\n",
       "        학기: 2 <br/>\n",
       "        "
      ],
      "text/plain": [
       "<__main__.Student_Ver2 at 0x7f09a94023a0>"
      ]
     },
     "execution_count": 40,
     "metadata": {},
     "output_type": "execute_result"
    }
   ],
   "source": [
    "boram + '등록'+ '휴학' + '등록' + '휴학'"
   ]
  },
  {
   "cell_type": "markdown",
   "id": "b3f1803c-c612-4ca4-88b1-ff1af8b7cf90",
   "metadata": {},
   "source": [
    "### ***Student_Ver2의 다른구현1***"
   ]
  },
  {
   "cell_type": "code",
   "execution_count": 41,
   "id": "a69650a4-5271-4b1c-8213-4781630ce1d8",
   "metadata": {},
   "outputs": [],
   "source": [
    "class Student_Ver2(Student):\n",
    "    def __add__(self,registration_status): \n",
    "        if registration_status=='휴학': \n",
    "            self.age = self.age+0.5\n",
    "        elif registration_status=='등록':\n",
    "            self.age = self.age+0.5 \n",
    "            self.semester = self.semester+1 \n",
    "        return self"
   ]
  },
  {
   "cell_type": "code",
   "execution_count": 42,
   "id": "4198b0fa-a094-47b7-ab7a-6ea6bb20d1b9",
   "metadata": {},
   "outputs": [
    {
     "name": "stdout",
     "output_type": "stream",
     "text": [
      "입학을 축하합니다. 당신의 나이는 20.0이고 현재 학기는 0학기 입니다.\n"
     ]
    }
   ],
   "source": [
    "boram = Student_Ver2()"
   ]
  },
  {
   "cell_type": "code",
   "execution_count": 43,
   "id": "148d3241-b9b9-455f-b145-9a9d8d814d50",
   "metadata": {},
   "outputs": [
    {
     "data": {
      "text/html": [
       "\n",
       "        나이: 22.0 <br/>\n",
       "        학기: 2 <br/>\n",
       "        "
      ],
      "text/plain": [
       "<__main__.Student_Ver2 at 0x7f09c0f2ec10>"
      ]
     },
     "execution_count": 43,
     "metadata": {},
     "output_type": "execute_result"
    }
   ],
   "source": [
    "boram + '등록'+ '휴학' + '등록' + '휴학'"
   ]
  },
  {
   "cell_type": "markdown",
   "id": "02e98fea-7156-4f17-804e-2a56ceed53f3",
   "metadata": {},
   "source": [
    "### ***Student_Ver2의 다른구현2***"
   ]
  },
  {
   "cell_type": "markdown",
   "id": "8bde6c86-8266-4ee5-a27d-e6c46355aea3",
   "metadata": {},
   "source": [
    "- 요거까지는 지금 몰라도 됩니다"
   ]
  },
  {
   "cell_type": "code",
   "execution_count": 44,
   "id": "e4f14087-bc4b-4a7a-9e35-4d9d7f7fa515",
   "metadata": {},
   "outputs": [],
   "source": [
    "class Student_Ver2(Student):\n",
    "    def __add__(self,registration_status): \n",
    "        super().__add__(registration_status)\n",
    "        return self"
   ]
  },
  {
   "cell_type": "code",
   "execution_count": 45,
   "id": "87524983-6ae6-4612-a171-2c5f612e1fa3",
   "metadata": {},
   "outputs": [
    {
     "name": "stdout",
     "output_type": "stream",
     "text": [
      "입학을 축하합니다. 당신의 나이는 20.0이고 현재 학기는 0학기 입니다.\n"
     ]
    }
   ],
   "source": [
    "boram = Student_Ver2()"
   ]
  },
  {
   "cell_type": "code",
   "execution_count": 46,
   "id": "6877ae1e-e99b-416a-bcfd-a79c991be4ef",
   "metadata": {},
   "outputs": [
    {
     "data": {
      "text/html": [
       "\n",
       "        나이: 22.0 <br/>\n",
       "        학기: 2 <br/>\n",
       "        "
      ],
      "text/plain": [
       "<__main__.Student_Ver2 at 0x7f09c4796df0>"
      ]
     },
     "execution_count": 46,
     "metadata": {},
     "output_type": "execute_result"
    }
   ],
   "source": [
    "boram + '등록'+ '휴학' + '등록' + '휴학'"
   ]
  },
  {
   "cell_type": "markdown",
   "id": "c0831954-ec97-438b-8b4c-cfcbbf0ebd9b",
   "metadata": {},
   "source": [
    "> 파이썬의 비밀6: `a+b`는 사실 `a.__add__(b)`의 축약형이다. "
   ]
  },
  {
   "cell_type": "markdown",
   "id": "e26a2144-2130-45a6-9429-1501f7b2bf53",
   "metadata": {},
   "source": [
    "## 비밀7: `__getitem__`"
   ]
  },
  {
   "cell_type": "markdown",
   "id": "79019f7a-0c8a-4820-a4c0-7dcaa334ba67",
   "metadata": {},
   "source": [
    "### ***motive***"
   ]
  },
  {
   "cell_type": "code",
   "execution_count": 47,
   "id": "a473dd99-6b0c-44b3-9f1c-3fbfbdf3b88e",
   "metadata": {},
   "outputs": [],
   "source": [
    "a=[11,22,32]"
   ]
  },
  {
   "cell_type": "code",
   "execution_count": 48,
   "id": "52aa075e-6db4-467c-b945-e1faf61142b0",
   "metadata": {},
   "outputs": [
    {
     "data": {
      "text/plain": [
       "11"
      ]
     },
     "execution_count": 48,
     "metadata": {},
     "output_type": "execute_result"
    }
   ],
   "source": [
    "a[0]"
   ]
  },
  {
   "cell_type": "markdown",
   "id": "3d95285a-ef32-4a6f-b2b0-271ab4fba8a0",
   "metadata": {},
   "source": [
    "- 이거 좋아보인다? "
   ]
  },
  {
   "cell_type": "code",
   "execution_count": 49,
   "id": "d7c6a6f1-6e5e-4a06-b7f2-780a18d44d4a",
   "metadata": {},
   "outputs": [
    {
     "data": {
      "text/plain": [
       "11"
      ]
     },
     "execution_count": 49,
     "metadata": {},
     "output_type": "execute_result"
    }
   ],
   "source": [
    "a.__getitem__(0)"
   ]
  },
  {
   "cell_type": "markdown",
   "id": "61790ae2-0b44-46b9-86c1-53812d002613",
   "metadata": {},
   "source": [
    "- 이런거였어?"
   ]
  },
  {
   "cell_type": "markdown",
   "id": "94598d7d-b716-4113-992f-582b2333b6ef",
   "metadata": {},
   "source": [
    "### ***RPS_Ver2: `__getitem__`의 사용***"
   ]
  },
  {
   "cell_type": "code",
   "execution_count": 53,
   "id": "0fabe7b7-e631-4ec9-8e9f-1fa98f6cf131",
   "metadata": {},
   "outputs": [],
   "source": [
    "class RPS:\n",
    "    def __init__(self,candidate):\n",
    "        self.candidate = candidate\n",
    "        self.actions = list() \n",
    "    def pick(self):\n",
    "        self.actions.append(np.random.choice(self.candidate))        \n",
    "    def _repr_html_(self):\n",
    "        html_str = \"\"\"\n",
    "        낼 수 있는 패: {} <br/>\n",
    "        기록: {}\n",
    "        \"\"\"        \n",
    "        return html_str.format(self.candidate,self.actions)"
   ]
  },
  {
   "cell_type": "code",
   "execution_count": 54,
   "id": "06091157-6e97-48a5-8104-49499eddfa4c",
   "metadata": {},
   "outputs": [],
   "source": [
    "a = RPS(['가위','바위','보'])"
   ]
  },
  {
   "cell_type": "code",
   "execution_count": 55,
   "id": "894e9809-6935-4ec3-b5d6-ef772eb92a6a",
   "metadata": {},
   "outputs": [],
   "source": [
    "a.pick()\n",
    "a.pick()"
   ]
  },
  {
   "cell_type": "code",
   "execution_count": 56,
   "id": "d625afab-6a16-4676-bd89-c6ed49fe1cfe",
   "metadata": {},
   "outputs": [
    {
     "data": {
      "text/plain": [
       "['바위', '가위']"
      ]
     },
     "execution_count": 56,
     "metadata": {},
     "output_type": "execute_result"
    }
   ],
   "source": [
    "a.actions"
   ]
  },
  {
   "cell_type": "code",
   "execution_count": 57,
   "id": "bf7dc13b-13ab-46d0-af7e-c2149b70ab0b",
   "metadata": {},
   "outputs": [
    {
     "ename": "TypeError",
     "evalue": "'RPS' object is not subscriptable",
     "output_type": "error",
     "traceback": [
      "\u001b[0;31m---------------------------------------------------------------------------\u001b[0m",
      "\u001b[0;31mTypeError\u001b[0m                                 Traceback (most recent call last)",
      "Cell \u001b[0;32mIn[57], line 1\u001b[0m\n\u001b[0;32m----> 1\u001b[0m \u001b[43ma\u001b[49m\u001b[43m[\u001b[49m\u001b[38;5;241;43m0\u001b[39;49m\u001b[43m]\u001b[49m, a[\u001b[38;5;241m1\u001b[39m]\n",
      "\u001b[0;31mTypeError\u001b[0m: 'RPS' object is not subscriptable"
     ]
    }
   ],
   "source": [
    "a[0], a[1]"
   ]
  },
  {
   "cell_type": "markdown",
   "id": "b01b4083-d385-44c1-bbb8-8f95b0e2f799",
   "metadata": {},
   "source": [
    "- 결과가 '가위', '바위'로 나오면 좋겠다.. 물론 지금은 불가능해"
   ]
  },
  {
   "cell_type": "code",
   "execution_count": 61,
   "id": "8f1ecdb1-9ba2-4c84-a299-0f15aaf633b7",
   "metadata": {},
   "outputs": [],
   "source": [
    "class RPS_Ver2(RPS):\n",
    "    '''\n",
    "    Ver1: init, pick, repr_html\n",
    "    Ver2: getitem 추가 \n",
    "    '''\n",
    "    def __getitem__(self,item):\n",
    "        return self.actions[item]"
   ]
  },
  {
   "cell_type": "code",
   "execution_count": 62,
   "id": "f5db411d-ffdf-4b23-a6d1-157167e57bb5",
   "metadata": {},
   "outputs": [
    {
     "data": {
      "text/plain": [
       "\u001b[0;31mInit signature:\u001b[0m \u001b[0mRPS_Ver2\u001b[0m\u001b[0;34m(\u001b[0m\u001b[0mcandidate\u001b[0m\u001b[0;34m)\u001b[0m\u001b[0;34m\u001b[0m\u001b[0;34m\u001b[0m\u001b[0m\n",
       "\u001b[0;31mDocstring:\u001b[0m     \n",
       "Ver1: init, pick, repr_html\n",
       "Ver2: getitem 추가 \n",
       "\u001b[0;31mType:\u001b[0m           type\n",
       "\u001b[0;31mSubclasses:\u001b[0m     "
      ]
     },
     "metadata": {},
     "output_type": "display_data"
    }
   ],
   "source": [
    "RPS_Ver2?"
   ]
  },
  {
   "cell_type": "code",
   "execution_count": 63,
   "id": "85c3e27a-4a50-49ab-9276-04e2f74961f4",
   "metadata": {},
   "outputs": [],
   "source": [
    "a = RPS_Ver2(['가위','바위','보'])"
   ]
  },
  {
   "cell_type": "code",
   "execution_count": 64,
   "id": "3745326f-28bf-4b94-b5c1-c5075486bd3d",
   "metadata": {},
   "outputs": [],
   "source": [
    "a.pick()\n",
    "a.pick()\n",
    "a.pick()"
   ]
  },
  {
   "cell_type": "code",
   "execution_count": 65,
   "id": "283b54b0-b33f-405f-853b-5a381ca822b5",
   "metadata": {},
   "outputs": [
    {
     "data": {
      "text/html": [
       "\n",
       "        낼 수 있는 패: ['가위', '바위', '보'] <br/>\n",
       "        기록: ['바위', '바위', '바위']\n",
       "        "
      ],
      "text/plain": [
       "<__main__.RPS_Ver2 at 0x7f09a96379d0>"
      ]
     },
     "execution_count": 65,
     "metadata": {},
     "output_type": "execute_result"
    }
   ],
   "source": [
    "a"
   ]
  },
  {
   "cell_type": "code",
   "execution_count": 66,
   "id": "2e2ed367-3093-429f-a28c-4dcd7034fa64",
   "metadata": {},
   "outputs": [
    {
     "data": {
      "text/plain": [
       "'바위'"
      ]
     },
     "execution_count": 66,
     "metadata": {},
     "output_type": "execute_result"
    }
   ],
   "source": [
    "a[0]"
   ]
  },
  {
   "cell_type": "code",
   "execution_count": 67,
   "id": "1f66078b-59a1-4118-8f98-de35e2acdadf",
   "metadata": {},
   "outputs": [
    {
     "data": {
      "text/plain": [
       "['바위', '바위']"
      ]
     },
     "execution_count": 67,
     "metadata": {},
     "output_type": "execute_result"
    }
   ],
   "source": [
    "a[:2]"
   ]
  },
  {
   "cell_type": "markdown",
   "id": "091fcdae-3ae7-4940-8d6d-05c047696e39",
   "metadata": {},
   "source": [
    "> 파이썬의 비밀7: `a[0]`는 `a.__getitem__(0)`의 축약형이다. "
   ]
  },
  {
   "cell_type": "markdown",
   "id": "a19e9867-e172-4707-8584-01a470b5a68c",
   "metadata": {},
   "source": [
    "## 비밀8: `__setitem__`"
   ]
  },
  {
   "cell_type": "markdown",
   "id": "99d47534-6b75-4ccc-871f-c0cd80f7b6f4",
   "metadata": {},
   "source": [
    "### ***motive***"
   ]
  },
  {
   "cell_type": "code",
   "execution_count": 73,
   "id": "3f5a5a59-9aaa-41e5-84c7-d28de583fed1",
   "metadata": {},
   "outputs": [
    {
     "data": {
      "text/html": [
       "\n",
       "        낼 수 있는 패: ['가위', '바위'] <br/>\n",
       "        기록: []\n",
       "        "
      ],
      "text/plain": [
       "<__main__.RPS_Ver2 at 0x7f09a9489970>"
      ]
     },
     "execution_count": 73,
     "metadata": {},
     "output_type": "execute_result"
    }
   ],
   "source": [
    "a = RPS_Ver2(['가위','바위'])\n",
    "a"
   ]
  },
  {
   "cell_type": "code",
   "execution_count": 74,
   "id": "1c42ea45-110c-4743-a977-36a25189e177",
   "metadata": {},
   "outputs": [
    {
     "data": {
      "text/html": [
       "\n",
       "        낼 수 있는 패: ['가위', '바위'] <br/>\n",
       "        기록: ['바위', '가위']\n",
       "        "
      ],
      "text/plain": [
       "<__main__.RPS_Ver2 at 0x7f09a9489970>"
      ]
     },
     "execution_count": 74,
     "metadata": {},
     "output_type": "execute_result"
    }
   ],
   "source": [
    "a.pick()\n",
    "a.pick()\n",
    "a"
   ]
  },
  {
   "cell_type": "code",
   "execution_count": 75,
   "id": "3ec880c0-9f6c-4b1c-9ee6-599149bd869a",
   "metadata": {},
   "outputs": [
    {
     "data": {
      "text/plain": [
       "'바위'"
      ]
     },
     "execution_count": 75,
     "metadata": {},
     "output_type": "execute_result"
    }
   ],
   "source": [
    "a[0]"
   ]
  },
  {
   "cell_type": "code",
   "execution_count": 77,
   "id": "99b23a3e-5173-4d95-9168-4677af53d05d",
   "metadata": {},
   "outputs": [
    {
     "ename": "TypeError",
     "evalue": "'RPS_Ver2' object does not support item assignment",
     "output_type": "error",
     "traceback": [
      "\u001b[0;31m---------------------------------------------------------------------------\u001b[0m",
      "\u001b[0;31mTypeError\u001b[0m                                 Traceback (most recent call last)",
      "Cell \u001b[0;32mIn[77], line 1\u001b[0m\n\u001b[0;32m----> 1\u001b[0m \u001b[43ma\u001b[49m\u001b[43m[\u001b[49m\u001b[38;5;241;43m0\u001b[39;49m\u001b[43m]\u001b[49m \u001b[38;5;241m=\u001b[39m \u001b[38;5;124m'\u001b[39m\u001b[38;5;124m보\u001b[39m\u001b[38;5;124m'\u001b[39m \n",
      "\u001b[0;31mTypeError\u001b[0m: 'RPS_Ver2' object does not support item assignment"
     ]
    }
   ],
   "source": [
    "a[0] = '보' "
   ]
  },
  {
   "cell_type": "markdown",
   "id": "795645fd-fe32-47e6-9662-23ef0dfb1330",
   "metadata": {},
   "source": [
    "- 경우에 따라서는 이런 문법이 필요하기도 하다."
   ]
  },
  {
   "cell_type": "markdown",
   "id": "ba75018d-c2b6-4afc-b0d1-e1327183603a",
   "metadata": {},
   "source": [
    "### ***RPS_Ver3: `__setitem__` 사용*** "
   ]
  },
  {
   "cell_type": "markdown",
   "id": "1b92221e-72b8-42c5-b88a-ef3b092e1b6d",
   "metadata": {},
   "source": [
    "`-` 관찰"
   ]
  },
  {
   "cell_type": "code",
   "execution_count": 108,
   "id": "647f7361-3725-404c-9380-fe460401212e",
   "metadata": {},
   "outputs": [],
   "source": [
    "lst = [1,2,3]"
   ]
  },
  {
   "cell_type": "code",
   "execution_count": 109,
   "id": "186a0757-cd33-4f4a-8df4-b87935ebf1e2",
   "metadata": {},
   "outputs": [],
   "source": [
    "lst.__setitem__(0,11)"
   ]
  },
  {
   "cell_type": "code",
   "execution_count": 110,
   "id": "50bde749-e45e-47b6-bc3b-e719428bec73",
   "metadata": {},
   "outputs": [
    {
     "data": {
      "text/plain": [
       "[11, 2, 3]"
      ]
     },
     "execution_count": 110,
     "metadata": {},
     "output_type": "execute_result"
    }
   ],
   "source": [
    "lst"
   ]
  },
  {
   "cell_type": "markdown",
   "id": "4f9d28f4-aed3-4623-a30a-343b242c2189",
   "metadata": {},
   "source": [
    "`-` RPS예제"
   ]
  },
  {
   "cell_type": "code",
   "execution_count": 111,
   "id": "2939163b-a32e-452d-8603-af40e247a795",
   "metadata": {},
   "outputs": [],
   "source": [
    "class RPS_Ver3(RPS_Ver2):\n",
    "    def __setitem__(self,index,val):\n",
    "        self.actions[index] = val"
   ]
  },
  {
   "cell_type": "code",
   "execution_count": 112,
   "id": "3d194d9b-1039-473c-93a6-24e3e7f82c18",
   "metadata": {},
   "outputs": [],
   "source": [
    "a=RPS_Ver3(['가위','바위','보'])"
   ]
  },
  {
   "cell_type": "code",
   "execution_count": 113,
   "id": "04faea21-7c98-4231-b929-1ce890ae766c",
   "metadata": {},
   "outputs": [],
   "source": [
    "a.pick()"
   ]
  },
  {
   "cell_type": "code",
   "execution_count": 114,
   "id": "37301247-2cae-4421-ad89-23ba7ecadb4e",
   "metadata": {},
   "outputs": [
    {
     "data": {
      "text/html": [
       "\n",
       "        낼 수 있는 패: ['가위', '바위', '보'] <br/>\n",
       "        기록: ['보']\n",
       "        "
      ],
      "text/plain": [
       "<__main__.RPS_Ver3 at 0x7f09a849aeb0>"
      ]
     },
     "execution_count": 114,
     "metadata": {},
     "output_type": "execute_result"
    }
   ],
   "source": [
    "a"
   ]
  },
  {
   "cell_type": "code",
   "execution_count": 115,
   "id": "3074d699-ea92-4895-8542-69fffcb4e3af",
   "metadata": {},
   "outputs": [],
   "source": [
    "a[0]='가위'"
   ]
  },
  {
   "cell_type": "code",
   "execution_count": 116,
   "id": "0ae5a3b1-83f0-48b2-a8d9-8ecb079e4ccb",
   "metadata": {},
   "outputs": [
    {
     "data": {
      "text/html": [
       "\n",
       "        낼 수 있는 패: ['가위', '바위', '보'] <br/>\n",
       "        기록: ['가위']\n",
       "        "
      ],
      "text/plain": [
       "<__main__.RPS_Ver3 at 0x7f09a849aeb0>"
      ]
     },
     "execution_count": 116,
     "metadata": {},
     "output_type": "execute_result"
    }
   ],
   "source": [
    "a"
   ]
  },
  {
   "cell_type": "markdown",
   "id": "b0ba537d-fe10-489a-906c-7c84a1fbda1a",
   "metadata": {},
   "source": [
    "> 파이썬의 비밀8: `a[0]=11`는 `a.__setitem__(0,11)`의 축약형이다. "
   ]
  },
  {
   "cell_type": "markdown",
   "id": "6f13895c-3ce2-4b11-b89b-c6eaadce9916",
   "metadata": {},
   "source": [
    "\n",
    "## 비밀9: `__len__`"
   ]
  },
  {
   "cell_type": "markdown",
   "id": "4fae7ba6-cd9d-4bc1-b191-9413fdfb6047",
   "metadata": {},
   "source": [
    "### ***motive***"
   ]
  },
  {
   "cell_type": "code",
   "execution_count": 117,
   "id": "760c4fed-f77c-4698-ac63-c40a1603acd6",
   "metadata": {},
   "outputs": [
    {
     "data": {
      "text/html": [
       "\n",
       "        낼 수 있는 패: ['가위', '바위', '보'] <br/>\n",
       "        기록: []\n",
       "        "
      ],
      "text/plain": [
       "<__main__.RPS_Ver3 at 0x7f09a8e27520>"
      ]
     },
     "execution_count": 117,
     "metadata": {},
     "output_type": "execute_result"
    }
   ],
   "source": [
    "a= RPS_Ver3(['가위','바위','보'])\n",
    "a"
   ]
  },
  {
   "cell_type": "code",
   "execution_count": 118,
   "id": "258174c9-eea8-497d-98e2-c991ca4a92fe",
   "metadata": {},
   "outputs": [],
   "source": [
    "a.pick()\n",
    "a.pick()\n",
    "a.pick()"
   ]
  },
  {
   "cell_type": "code",
   "execution_count": 119,
   "id": "2a12cf8d-604a-48d4-9496-7fcf991d2884",
   "metadata": {},
   "outputs": [
    {
     "data": {
      "text/html": [
       "\n",
       "        낼 수 있는 패: ['가위', '바위', '보'] <br/>\n",
       "        기록: ['바위', '보', '보']\n",
       "        "
      ],
      "text/plain": [
       "<__main__.RPS_Ver3 at 0x7f09a8e27520>"
      ]
     },
     "execution_count": 119,
     "metadata": {},
     "output_type": "execute_result"
    }
   ],
   "source": [
    "a"
   ]
  },
  {
   "cell_type": "code",
   "execution_count": 120,
   "id": "5b9d94b3-29d3-417c-9c7d-9486b0241d5b",
   "metadata": {},
   "outputs": [
    {
     "data": {
      "text/plain": [
       "('바위', '보', '보')"
      ]
     },
     "execution_count": 120,
     "metadata": {},
     "output_type": "execute_result"
    }
   ],
   "source": [
    "a[0],a[1],a[2]"
   ]
  },
  {
   "cell_type": "code",
   "execution_count": 121,
   "id": "86bb0b7b-c8e9-46a0-993b-b3a1b88571ca",
   "metadata": {},
   "outputs": [
    {
     "ename": "AttributeError",
     "evalue": "'RPS_Ver3' object has no attribute '__len__'",
     "output_type": "error",
     "traceback": [
      "\u001b[0;31m---------------------------------------------------------------------------\u001b[0m",
      "\u001b[0;31mAttributeError\u001b[0m                            Traceback (most recent call last)",
      "Cell \u001b[0;32mIn[121], line 1\u001b[0m\n\u001b[0;32m----> 1\u001b[0m \u001b[43ma\u001b[49m\u001b[38;5;241;43m.\u001b[39;49m\u001b[38;5;21;43m__len__\u001b[39;49m()\n",
      "\u001b[0;31mAttributeError\u001b[0m: 'RPS_Ver3' object has no attribute '__len__'"
     ]
    }
   ],
   "source": [
    "a.__len__()"
   ]
  },
  {
   "cell_type": "code",
   "execution_count": 122,
   "id": "e2cdd122-5ea5-4c14-917a-3f2c257c16f7",
   "metadata": {},
   "outputs": [
    {
     "ename": "TypeError",
     "evalue": "object of type 'RPS_Ver3' has no len()",
     "output_type": "error",
     "traceback": [
      "\u001b[0;31m---------------------------------------------------------------------------\u001b[0m",
      "\u001b[0;31mTypeError\u001b[0m                                 Traceback (most recent call last)",
      "Cell \u001b[0;32mIn[122], line 1\u001b[0m\n\u001b[0;32m----> 1\u001b[0m \u001b[38;5;28;43mlen\u001b[39;49m\u001b[43m(\u001b[49m\u001b[43ma\u001b[49m\u001b[43m)\u001b[49m\n",
      "\u001b[0;31mTypeError\u001b[0m: object of type 'RPS_Ver3' has no len()"
     ]
    }
   ],
   "source": [
    "len(a)"
   ]
  },
  {
   "cell_type": "markdown",
   "id": "9bbdde39-5729-4365-804d-c96d62296565",
   "metadata": {},
   "source": [
    "### ***RPS_Ver4: `__len__` 의 사용***"
   ]
  },
  {
   "cell_type": "code",
   "execution_count": 123,
   "id": "a709deca-70ea-48fa-8255-25bc881d400e",
   "metadata": {},
   "outputs": [],
   "source": [
    "class RPS_Ver4(RPS_Ver2):\n",
    "    def __len__(self):\n",
    "        return len(self.actions)"
   ]
  },
  {
   "cell_type": "code",
   "execution_count": 124,
   "id": "02aa010f-3504-4b8d-9629-552eb4e05a88",
   "metadata": {},
   "outputs": [
    {
     "data": {
      "text/html": [
       "\n",
       "        낼 수 있는 패: ['가위', '바위', '보'] <br/>\n",
       "        기록: []\n",
       "        "
      ],
      "text/plain": [
       "<__main__.RPS_Ver4 at 0x7f09a8e110d0>"
      ]
     },
     "execution_count": 124,
     "metadata": {},
     "output_type": "execute_result"
    }
   ],
   "source": [
    "a = RPS_Ver4(['가위','바위','보'])\n",
    "a"
   ]
  },
  {
   "cell_type": "code",
   "execution_count": 125,
   "id": "d982c836-7cd6-4e58-b880-f1d6feb87ca8",
   "metadata": {},
   "outputs": [],
   "source": [
    "a.pick()\n",
    "a.pick()\n",
    "a.pick()\n",
    "a.pick()"
   ]
  },
  {
   "cell_type": "code",
   "execution_count": 126,
   "id": "a4c93125-c5ae-4374-b456-8d79aacd9e91",
   "metadata": {},
   "outputs": [
    {
     "data": {
      "text/html": [
       "\n",
       "        낼 수 있는 패: ['가위', '바위', '보'] <br/>\n",
       "        기록: ['가위', '가위', '바위', '바위']\n",
       "        "
      ],
      "text/plain": [
       "<__main__.RPS_Ver4 at 0x7f09a8e110d0>"
      ]
     },
     "execution_count": 126,
     "metadata": {},
     "output_type": "execute_result"
    }
   ],
   "source": [
    "a"
   ]
  },
  {
   "cell_type": "code",
   "execution_count": 128,
   "id": "2786e0dc-b382-4314-acb8-f1cd0c399153",
   "metadata": {},
   "outputs": [
    {
     "data": {
      "text/plain": [
       "4"
      ]
     },
     "execution_count": 128,
     "metadata": {},
     "output_type": "execute_result"
    }
   ],
   "source": [
    "a.__len__()"
   ]
  },
  {
   "cell_type": "code",
   "execution_count": 127,
   "id": "6a94b93c-e04c-4442-94f8-405e3d6c129b",
   "metadata": {},
   "outputs": [
    {
     "data": {
      "text/plain": [
       "4"
      ]
     },
     "execution_count": 127,
     "metadata": {},
     "output_type": "execute_result"
    }
   ],
   "source": [
    "len(a)"
   ]
  },
  {
   "cell_type": "markdown",
   "id": "8446a2fd-d5da-428f-86ca-945e43334db4",
   "metadata": {},
   "source": [
    "> 파이썬의 비밀9: `a.__len__()`는 `len(a)`의 축약형이다. "
   ]
  },
  {
   "cell_type": "markdown",
   "id": "69bc6579-490f-4602-9ff8-ea7a26208a18",
   "metadata": {},
   "source": [
    "## 비밀10: 비교연산자"
   ]
  },
  {
   "cell_type": "markdown",
   "id": "ff18083f-5fe5-4c76-a500-0d8c7fe0d382",
   "metadata": {},
   "source": [
    "### ***motive1***"
   ]
  },
  {
   "cell_type": "code",
   "execution_count": 137,
   "id": "519963db-147b-4e04-abbe-13b773bfc512",
   "metadata": {},
   "outputs": [],
   "source": [
    "a = RPS_Ver4(['가위'])\n",
    "b = RPS_Ver4(['가위'])"
   ]
  },
  {
   "cell_type": "code",
   "execution_count": 138,
   "id": "b45dc600-002d-4d98-8d2f-21170e6f71b2",
   "metadata": {},
   "outputs": [],
   "source": [
    "a.pick()\n",
    "b.pick()"
   ]
  },
  {
   "cell_type": "code",
   "execution_count": 139,
   "id": "26157840-5134-478b-abe1-c2ee3e00ff2a",
   "metadata": {},
   "outputs": [
    {
     "data": {
      "text/html": [
       "\n",
       "        낼 수 있는 패: ['가위'] <br/>\n",
       "        기록: ['가위']\n",
       "        "
      ],
      "text/plain": [
       "<__main__.RPS_Ver4 at 0x7f09a8f723d0>"
      ]
     },
     "execution_count": 139,
     "metadata": {},
     "output_type": "execute_result"
    }
   ],
   "source": [
    "a"
   ]
  },
  {
   "cell_type": "code",
   "execution_count": 140,
   "id": "24e29923-27fd-4785-887c-ee11714bf2fb",
   "metadata": {},
   "outputs": [
    {
     "data": {
      "text/html": [
       "\n",
       "        낼 수 있는 패: ['가위'] <br/>\n",
       "        기록: ['가위']\n",
       "        "
      ],
      "text/plain": [
       "<__main__.RPS_Ver4 at 0x7f09a8f72040>"
      ]
     },
     "execution_count": 140,
     "metadata": {},
     "output_type": "execute_result"
    }
   ],
   "source": [
    "b"
   ]
  },
  {
   "cell_type": "code",
   "execution_count": 142,
   "id": "db9d8b11-15bd-4a21-b5c9-45cf0b9d888a",
   "metadata": {},
   "outputs": [
    {
     "data": {
      "text/plain": [
       "False"
      ]
     },
     "execution_count": 142,
     "metadata": {},
     "output_type": "execute_result"
    }
   ],
   "source": [
    "a == b"
   ]
  },
  {
   "cell_type": "markdown",
   "id": "e3752700-5585-4da9-aa6b-67f7ab629b6d",
   "metadata": {},
   "source": [
    "- `가위 == 가위` 이면 True가 나오면 좋겠구만.. "
   ]
  },
  {
   "cell_type": "code",
   "execution_count": 143,
   "id": "8936bbe9-a77b-4050-8f04-5d4956ce4fdf",
   "metadata": {},
   "outputs": [
    {
     "data": {
      "text/plain": [
       "True"
      ]
     },
     "execution_count": 143,
     "metadata": {},
     "output_type": "execute_result"
    }
   ],
   "source": [
    "a[-1] == b[-1] "
   ]
  },
  {
   "cell_type": "markdown",
   "id": "88aa73f1-17ab-433f-aa78-7625af541363",
   "metadata": {},
   "source": [
    "- 이렇게 하면 되긴하지.."
   ]
  },
  {
   "cell_type": "markdown",
   "id": "e9bef382-b33b-44d6-971b-b859e49e2460",
   "metadata": {},
   "source": [
    "### ***RPS_Ver5: `__eq__` 의 사용***"
   ]
  },
  {
   "cell_type": "markdown",
   "id": "76d086d5-0c5f-4511-a1de-d5d119ac8453",
   "metadata": {},
   "source": [
    "`-` 관찰 "
   ]
  },
  {
   "cell_type": "code",
   "execution_count": 223,
   "id": "f6286cd9-b400-4b46-9b4e-4488c0f6eae6",
   "metadata": {},
   "outputs": [],
   "source": [
    "a = 1"
   ]
  },
  {
   "cell_type": "code",
   "execution_count": 225,
   "id": "1d546444-867b-42c5-914f-672009ad10ea",
   "metadata": {},
   "outputs": [
    {
     "data": {
      "text/plain": [
       "True"
      ]
     },
     "execution_count": 225,
     "metadata": {},
     "output_type": "execute_result"
    }
   ],
   "source": [
    "a.__eq__(1)"
   ]
  },
  {
   "cell_type": "code",
   "execution_count": 226,
   "id": "8f6c5a90-5a41-4ea1-9479-ee654188111f",
   "metadata": {},
   "outputs": [
    {
     "data": {
      "text/plain": [
       "False"
      ]
     },
     "execution_count": 226,
     "metadata": {},
     "output_type": "execute_result"
    }
   ],
   "source": [
    "a.__eq__(2)"
   ]
  },
  {
   "cell_type": "markdown",
   "id": "b0ee2bbc-e9ab-4e35-aeb5-d5503e60a021",
   "metadata": {},
   "source": [
    "`-` 구현 "
   ]
  },
  {
   "cell_type": "code",
   "execution_count": 189,
   "id": "80d56f09-62ab-4233-a282-a38aa28f2f95",
   "metadata": {},
   "outputs": [],
   "source": [
    "class RPS_Ver5(RPS_Ver4):\n",
    "    def __eq__(self,other):\n",
    "        return self[-1] == other[-1]"
   ]
  },
  {
   "cell_type": "code",
   "execution_count": 190,
   "id": "195daaf3-5425-4ccf-a033-a95d90b84655",
   "metadata": {},
   "outputs": [],
   "source": [
    "a = RPS_Ver5(['가위','바위'])\n",
    "b = RPS_Ver5(['가위','바위'])"
   ]
  },
  {
   "cell_type": "markdown",
   "id": "f82ee8e3-2907-4763-b016-20f04bd5904a",
   "metadata": {},
   "source": [
    "`-` 1회 대결 "
   ]
  },
  {
   "cell_type": "code",
   "execution_count": 191,
   "id": "e20f3c77-bb55-4566-b07f-c910af3ef1c3",
   "metadata": {},
   "outputs": [],
   "source": [
    "a.pick()\n",
    "b.pick()"
   ]
  },
  {
   "cell_type": "code",
   "execution_count": 192,
   "id": "50a2e28b-4ce1-47cd-b92f-95ef643588d9",
   "metadata": {},
   "outputs": [
    {
     "data": {
      "text/html": [
       "\n",
       "        낼 수 있는 패: ['가위', '바위'] <br/>\n",
       "        기록: ['바위']\n",
       "        "
      ],
      "text/plain": [
       "<__main__.RPS_Ver5 at 0x7f09a8f71520>"
      ]
     },
     "execution_count": 192,
     "metadata": {},
     "output_type": "execute_result"
    }
   ],
   "source": [
    "a"
   ]
  },
  {
   "cell_type": "code",
   "execution_count": 193,
   "id": "ac755145-3aba-4b4a-89af-8b8feec7bb0b",
   "metadata": {},
   "outputs": [
    {
     "data": {
      "text/html": [
       "\n",
       "        낼 수 있는 패: ['가위', '바위'] <br/>\n",
       "        기록: ['가위']\n",
       "        "
      ],
      "text/plain": [
       "<__main__.RPS_Ver5 at 0x7f09a8f71070>"
      ]
     },
     "execution_count": 193,
     "metadata": {},
     "output_type": "execute_result"
    }
   ],
   "source": [
    "b"
   ]
  },
  {
   "cell_type": "code",
   "execution_count": 194,
   "id": "1576d8ee-aef8-481f-973a-b3886aad80ac",
   "metadata": {},
   "outputs": [
    {
     "data": {
      "text/plain": [
       "False"
      ]
     },
     "execution_count": 194,
     "metadata": {},
     "output_type": "execute_result"
    }
   ],
   "source": [
    "a == b"
   ]
  },
  {
   "cell_type": "markdown",
   "id": "7036d271-62f3-4ee8-b4a1-8e0c20a1155c",
   "metadata": {},
   "source": [
    "`-` 2회 대결 "
   ]
  },
  {
   "cell_type": "code",
   "execution_count": 195,
   "id": "3aa53a4e-b751-481a-885c-477f74e68fe7",
   "metadata": {},
   "outputs": [],
   "source": [
    "a.pick()\n",
    "b.pick()"
   ]
  },
  {
   "cell_type": "code",
   "execution_count": 196,
   "id": "9557f686-dd49-45cb-b3a2-79066420c4d7",
   "metadata": {},
   "outputs": [
    {
     "data": {
      "text/html": [
       "\n",
       "        낼 수 있는 패: ['가위', '바위'] <br/>\n",
       "        기록: ['바위', '바위']\n",
       "        "
      ],
      "text/plain": [
       "<__main__.RPS_Ver5 at 0x7f09a8f71520>"
      ]
     },
     "execution_count": 196,
     "metadata": {},
     "output_type": "execute_result"
    }
   ],
   "source": [
    "a"
   ]
  },
  {
   "cell_type": "code",
   "execution_count": 197,
   "id": "2cb4cb44-89e9-4849-b2ea-1c9a4d596ba1",
   "metadata": {},
   "outputs": [
    {
     "data": {
      "text/html": [
       "\n",
       "        낼 수 있는 패: ['가위', '바위'] <br/>\n",
       "        기록: ['가위', '바위']\n",
       "        "
      ],
      "text/plain": [
       "<__main__.RPS_Ver5 at 0x7f09a8f71070>"
      ]
     },
     "execution_count": 197,
     "metadata": {},
     "output_type": "execute_result"
    }
   ],
   "source": [
    "b"
   ]
  },
  {
   "cell_type": "code",
   "execution_count": 198,
   "id": "a4bed330-929b-4c40-a825-bcbf211c6258",
   "metadata": {},
   "outputs": [
    {
     "data": {
      "text/plain": [
       "True"
      ]
     },
     "execution_count": 198,
     "metadata": {},
     "output_type": "execute_result"
    }
   ],
   "source": [
    "a == b"
   ]
  },
  {
   "cell_type": "markdown",
   "id": "916d5775-f65e-41b4-9a49-251af942cb80",
   "metadata": {},
   "source": [
    "`-` 3회 대결 "
   ]
  },
  {
   "cell_type": "code",
   "execution_count": 199,
   "id": "310f4458-5b95-48ba-bbd2-81c4d3ba8f55",
   "metadata": {},
   "outputs": [],
   "source": [
    "a.pick()\n",
    "b.pick()"
   ]
  },
  {
   "cell_type": "code",
   "execution_count": 200,
   "id": "458bdf73-5fcf-4151-9cda-ed42dc38ef72",
   "metadata": {},
   "outputs": [
    {
     "data": {
      "text/html": [
       "\n",
       "        낼 수 있는 패: ['가위', '바위'] <br/>\n",
       "        기록: ['바위', '바위', '가위']\n",
       "        "
      ],
      "text/plain": [
       "<__main__.RPS_Ver5 at 0x7f09a8f71520>"
      ]
     },
     "execution_count": 200,
     "metadata": {},
     "output_type": "execute_result"
    }
   ],
   "source": [
    "a"
   ]
  },
  {
   "cell_type": "code",
   "execution_count": 201,
   "id": "de2580f7-e3d5-4126-af52-61fe8a06fc62",
   "metadata": {},
   "outputs": [
    {
     "data": {
      "text/html": [
       "\n",
       "        낼 수 있는 패: ['가위', '바위'] <br/>\n",
       "        기록: ['가위', '바위', '바위']\n",
       "        "
      ],
      "text/plain": [
       "<__main__.RPS_Ver5 at 0x7f09a8f71070>"
      ]
     },
     "execution_count": 201,
     "metadata": {},
     "output_type": "execute_result"
    }
   ],
   "source": [
    "b"
   ]
  },
  {
   "cell_type": "code",
   "execution_count": 202,
   "id": "8330588a-05e9-4cc4-981e-d88b4025f4b2",
   "metadata": {},
   "outputs": [
    {
     "data": {
      "text/plain": [
       "False"
      ]
     },
     "execution_count": 202,
     "metadata": {},
     "output_type": "execute_result"
    }
   ],
   "source": [
    "a == b"
   ]
  },
  {
   "cell_type": "markdown",
   "id": "1c23db0e-9925-47c1-ba7e-0ee9624abd6c",
   "metadata": {},
   "source": [
    "### ***motive2***"
   ]
  },
  {
   "cell_type": "code",
   "execution_count": 205,
   "id": "61787796-cde2-4292-9094-f088be1dec96",
   "metadata": {},
   "outputs": [
    {
     "data": {
      "text/plain": [
       "('가위', '바위')"
      ]
     },
     "execution_count": 205,
     "metadata": {},
     "output_type": "execute_result"
    }
   ],
   "source": [
    "a[-1], b[-1]"
   ]
  },
  {
   "cell_type": "code",
   "execution_count": 206,
   "id": "eb721e7d-62db-40e6-af0a-8f0882b293ca",
   "metadata": {},
   "outputs": [
    {
     "ename": "TypeError",
     "evalue": "'>' not supported between instances of 'RPS_Ver5' and 'RPS_Ver5'",
     "output_type": "error",
     "traceback": [
      "\u001b[0;31m---------------------------------------------------------------------------\u001b[0m",
      "\u001b[0;31mTypeError\u001b[0m                                 Traceback (most recent call last)",
      "Cell \u001b[0;32mIn[206], line 1\u001b[0m\n\u001b[0;32m----> 1\u001b[0m \u001b[43ma\u001b[49m\u001b[43m \u001b[49m\u001b[38;5;241;43m>\u001b[39;49m\u001b[43m \u001b[49m\u001b[43mb\u001b[49m\n",
      "\u001b[0;31mTypeError\u001b[0m: '>' not supported between instances of 'RPS_Ver5' and 'RPS_Ver5'"
     ]
    }
   ],
   "source": [
    "a > b"
   ]
  },
  {
   "cell_type": "markdown",
   "id": "a9d5c5d5-380c-4dd8-8cb4-376a5b9c8091",
   "metadata": {},
   "source": [
    "- False 가 나오면 좋겟구만.. "
   ]
  },
  {
   "cell_type": "markdown",
   "id": "e788eb5d-683f-4113-b3ea-8bf20c09df49",
   "metadata": {
    "tags": []
   },
   "source": [
    "### ***RPS_Ver6: `__gt__` 의 사용***"
   ]
  },
  {
   "cell_type": "markdown",
   "id": "3defc07a-8c04-486b-928b-623b330ad145",
   "metadata": {},
   "source": [
    "`-` 관찰 "
   ]
  },
  {
   "cell_type": "code",
   "execution_count": 223,
   "id": "f0597eeb-d4cf-4e11-8144-3389f459da0f",
   "metadata": {},
   "outputs": [],
   "source": [
    "a = 1"
   ]
  },
  {
   "cell_type": "code",
   "execution_count": 227,
   "id": "7d9385f3-c580-4fa0-ba02-dabcb9b37fcf",
   "metadata": {},
   "outputs": [
    {
     "data": {
      "text/plain": [
       "False"
      ]
     },
     "execution_count": 227,
     "metadata": {},
     "output_type": "execute_result"
    }
   ],
   "source": [
    "a.__gt__(1)"
   ]
  },
  {
   "cell_type": "code",
   "execution_count": 228,
   "id": "d1001999-255d-46fc-aea6-57b72b4bd9ce",
   "metadata": {},
   "outputs": [
    {
     "data": {
      "text/plain": [
       "True"
      ]
     },
     "execution_count": 228,
     "metadata": {},
     "output_type": "execute_result"
    }
   ],
   "source": [
    "a.__gt__(0)"
   ]
  },
  {
   "cell_type": "markdown",
   "id": "af311d32-bace-493c-a6d0-9f0d67f7d439",
   "metadata": {},
   "source": [
    "`-` **예비학습**"
   ]
  },
  {
   "cell_type": "code",
   "execution_count": 210,
   "id": "fe5363d7-39ab-4a6c-9ae8-8ddbf2259ebb",
   "metadata": {},
   "outputs": [
    {
     "data": {
      "text/plain": [
       "['가위', '바위']"
      ]
     },
     "execution_count": 210,
     "metadata": {},
     "output_type": "execute_result"
    }
   ],
   "source": [
    "[a[-1],b[-1]] "
   ]
  },
  {
   "cell_type": "code",
   "execution_count": 211,
   "id": "4ad92fa1-25db-4916-9846-42fc77899a17",
   "metadata": {},
   "outputs": [
    {
     "data": {
      "text/plain": [
       "False"
      ]
     },
     "execution_count": 211,
     "metadata": {},
     "output_type": "execute_result"
    }
   ],
   "source": [
    "[a[-1],b[-1]] in [['가위','보'],['바위','가위'],['보','바위']]"
   ]
  },
  {
   "cell_type": "markdown",
   "id": "086c46d5-3afd-4da4-8e7c-856317a9d1f4",
   "metadata": {},
   "source": [
    "`-` 구현 "
   ]
  },
  {
   "cell_type": "code",
   "execution_count": 231,
   "id": "c88866c8-b7c9-4599-bb35-75c971a03ee1",
   "metadata": {},
   "outputs": [],
   "source": [
    "class RPS_Ver6(RPS_Ver5):\n",
    "    def __gt__(self,other):\n",
    "        return [self[-1],other[-1]] in [['가위','보'],['바위','가위'],['보','바위']]"
   ]
  },
  {
   "cell_type": "code",
   "execution_count": 232,
   "id": "fcf450c1-70d6-4d9b-a9d9-b7e40a871604",
   "metadata": {},
   "outputs": [],
   "source": [
    "a = RPS_Ver6(['가위','바위','보'])\n",
    "b = RPS_Ver6(['가위','바위','보'])"
   ]
  },
  {
   "cell_type": "markdown",
   "id": "d6e19525-c1f0-4c01-ab7e-8ccb1bb34186",
   "metadata": {},
   "source": [
    "`-` 1회대결 "
   ]
  },
  {
   "cell_type": "code",
   "execution_count": 233,
   "id": "7e336058-a655-4c91-af05-e6d534608f7c",
   "metadata": {},
   "outputs": [],
   "source": [
    "a.pick() \n",
    "b.pick()"
   ]
  },
  {
   "cell_type": "code",
   "execution_count": 234,
   "id": "2142524c-9f45-4a51-a27b-077ce4c13fc3",
   "metadata": {},
   "outputs": [
    {
     "data": {
      "text/html": [
       "\n",
       "        낼 수 있는 패: ['가위', '바위', '보'] <br/>\n",
       "        기록: ['바위']\n",
       "        "
      ],
      "text/plain": [
       "<__main__.RPS_Ver6 at 0x7f09a8e276a0>"
      ]
     },
     "execution_count": 234,
     "metadata": {},
     "output_type": "execute_result"
    }
   ],
   "source": [
    "a"
   ]
  },
  {
   "cell_type": "code",
   "execution_count": 235,
   "id": "edfccb72-3a1c-40e7-bb26-49288e828e57",
   "metadata": {},
   "outputs": [
    {
     "data": {
      "text/html": [
       "\n",
       "        낼 수 있는 패: ['가위', '바위', '보'] <br/>\n",
       "        기록: ['가위']\n",
       "        "
      ],
      "text/plain": [
       "<__main__.RPS_Ver6 at 0x7f09a8fb8880>"
      ]
     },
     "execution_count": 235,
     "metadata": {},
     "output_type": "execute_result"
    }
   ],
   "source": [
    "b"
   ]
  },
  {
   "cell_type": "code",
   "execution_count": 236,
   "id": "cde45114-fb10-4e01-8cae-aa63f6debaef",
   "metadata": {},
   "outputs": [
    {
     "data": {
      "text/plain": [
       "True"
      ]
     },
     "execution_count": 236,
     "metadata": {},
     "output_type": "execute_result"
    }
   ],
   "source": [
    "a>b"
   ]
  },
  {
   "cell_type": "markdown",
   "id": "bff6ea05-3844-46b9-a6c3-7fe5de108793",
   "metadata": {},
   "source": [
    "`-` 2회대결 "
   ]
  },
  {
   "cell_type": "code",
   "execution_count": 237,
   "id": "ee799dc5-596e-40bf-8376-46d981a4958b",
   "metadata": {},
   "outputs": [],
   "source": [
    "a.pick() \n",
    "b.pick()"
   ]
  },
  {
   "cell_type": "code",
   "execution_count": 239,
   "id": "d7a98b62-235f-48c1-9733-a7ed3cac0a6b",
   "metadata": {},
   "outputs": [
    {
     "data": {
      "text/html": [
       "\n",
       "        낼 수 있는 패: ['가위', '바위', '보'] <br/>\n",
       "        기록: ['바위', '가위']\n",
       "        "
      ],
      "text/plain": [
       "<__main__.RPS_Ver6 at 0x7f09a8e276a0>"
      ]
     },
     "execution_count": 239,
     "metadata": {},
     "output_type": "execute_result"
    }
   ],
   "source": [
    "a"
   ]
  },
  {
   "cell_type": "code",
   "execution_count": 238,
   "id": "ba23f80b-700c-436a-894a-8866e84f7d4c",
   "metadata": {},
   "outputs": [
    {
     "data": {
      "text/html": [
       "\n",
       "        낼 수 있는 패: ['가위', '바위', '보'] <br/>\n",
       "        기록: ['가위', '보']\n",
       "        "
      ],
      "text/plain": [
       "<__main__.RPS_Ver6 at 0x7f09a8fb8880>"
      ]
     },
     "execution_count": 238,
     "metadata": {},
     "output_type": "execute_result"
    }
   ],
   "source": [
    "b"
   ]
  },
  {
   "cell_type": "code",
   "execution_count": 240,
   "id": "dd53c67d-029d-4490-9c63-5d6f7d54e685",
   "metadata": {},
   "outputs": [
    {
     "data": {
      "text/plain": [
       "True"
      ]
     },
     "execution_count": 240,
     "metadata": {},
     "output_type": "execute_result"
    }
   ],
   "source": [
    "a>b"
   ]
  },
  {
   "cell_type": "markdown",
   "id": "b9608c4f-1253-4eb5-8277-c2d6519a9e11",
   "metadata": {},
   "source": [
    "### ***motive3***"
   ]
  },
  {
   "cell_type": "code",
   "execution_count": 243,
   "id": "46624ad7-4c1a-4485-a237-d7081746f8e1",
   "metadata": {},
   "outputs": [
    {
     "data": {
      "text/html": [
       "\n",
       "        낼 수 있는 패: ['가위', '바위', '보'] <br/>\n",
       "        기록: ['바위', '가위']\n",
       "        "
      ],
      "text/plain": [
       "<__main__.RPS_Ver6 at 0x7f09a8e276a0>"
      ]
     },
     "execution_count": 243,
     "metadata": {},
     "output_type": "execute_result"
    }
   ],
   "source": [
    "a"
   ]
  },
  {
   "cell_type": "code",
   "execution_count": 244,
   "id": "58112bd7-0851-4908-bf70-4a7a98c03cbe",
   "metadata": {},
   "outputs": [
    {
     "data": {
      "text/html": [
       "\n",
       "        낼 수 있는 패: ['가위', '바위', '보'] <br/>\n",
       "        기록: ['가위', '보']\n",
       "        "
      ],
      "text/plain": [
       "<__main__.RPS_Ver6 at 0x7f09a8fb8880>"
      ]
     },
     "execution_count": 244,
     "metadata": {},
     "output_type": "execute_result"
    }
   ],
   "source": [
    "b"
   ]
  },
  {
   "cell_type": "code",
   "execution_count": 246,
   "id": "6de0c6e4-98d8-484c-a2ed-ea1995204eef",
   "metadata": {},
   "outputs": [
    {
     "ename": "TypeError",
     "evalue": "'>=' not supported between instances of 'RPS_Ver6' and 'RPS_Ver6'",
     "output_type": "error",
     "traceback": [
      "\u001b[0;31m---------------------------------------------------------------------------\u001b[0m",
      "\u001b[0;31mTypeError\u001b[0m                                 Traceback (most recent call last)",
      "Cell \u001b[0;32mIn[246], line 1\u001b[0m\n\u001b[0;32m----> 1\u001b[0m \u001b[43ma\u001b[49m\u001b[38;5;241;43m>\u001b[39;49m\u001b[38;5;241;43m=\u001b[39;49m\u001b[43mb\u001b[49m\n",
      "\u001b[0;31mTypeError\u001b[0m: '>=' not supported between instances of 'RPS_Ver6' and 'RPS_Ver6'"
     ]
    }
   ],
   "source": [
    "a>=b"
   ]
  },
  {
   "cell_type": "markdown",
   "id": "b06b0a17-fd4c-448a-aa19-b2997eee6b3e",
   "metadata": {},
   "source": [
    "- True로 나오면 좋겠구만.."
   ]
  },
  {
   "cell_type": "code",
   "execution_count": 247,
   "id": "458aaa73-0929-4df9-ba05-8e93d9435f70",
   "metadata": {},
   "outputs": [
    {
     "data": {
      "text/plain": [
       "False"
      ]
     },
     "execution_count": 247,
     "metadata": {},
     "output_type": "execute_result"
    }
   ],
   "source": [
    "a < b"
   ]
  },
  {
   "cell_type": "markdown",
   "id": "b8af8d4c-6b3e-4de8-a5e2-27286bc6b7f1",
   "metadata": {},
   "source": [
    "- 이것도 정의 새로 해야겠는걸? "
   ]
  },
  {
   "cell_type": "markdown",
   "id": "404a567e-ba71-4c5b-a728-0df29f674ded",
   "metadata": {
    "tags": []
   },
   "source": [
    "### ***RPS_Ver7: `__ge__`, `__lt__`, `__le__` 의 사용***"
   ]
  },
  {
   "cell_type": "markdown",
   "id": "90a4d91d-d8be-400a-863d-1a89df9018b1",
   "metadata": {},
   "source": [
    "`-` 관찰: 생략 "
   ]
  },
  {
   "cell_type": "markdown",
   "id": "f6e3cb0b-3875-4ebc-a618-40a45dd59de9",
   "metadata": {},
   "source": [
    "`-` 비교연산자 정리"
   ]
  },
  {
   "cell_type": "markdown",
   "id": "15375435-42ac-48ba-8fc7-4865595bf44f",
   "metadata": {},
   "source": [
    "|특수메소드|의미|\n",
    "|:-:|:-:|\n",
    "|`__eq__`|`self == other`|\n",
    "|`__gt__`|`self > other`|\n",
    "|`__lt__`|`self < other`|\n",
    "|`__ge__`|`self >= other`|\n",
    "|`__le__`|`self <= other`|"
   ]
  },
  {
   "cell_type": "markdown",
   "id": "2de31e6b-35c6-41d3-82e9-f45329898eaf",
   "metadata": {},
   "source": [
    "`-` 구현 "
   ]
  },
  {
   "cell_type": "code",
   "execution_count": 313,
   "id": "498638da-17f4-4877-a6c6-ff076fe05296",
   "metadata": {},
   "outputs": [],
   "source": [
    "class RPS_Ver7(RPS_Ver6):\n",
    "    def __ge__(self,other):\n",
    "        return (self == other) or (self > other)\n",
    "    def __lt__(self,other):\n",
    "        return not (self >= other)\n",
    "    def __le__(self,other):\n",
    "        return (self == other) or (self < other)"
   ]
  },
  {
   "cell_type": "code",
   "execution_count": 319,
   "id": "f6fff8fb-b49f-44e7-9b04-dff39402afb0",
   "metadata": {},
   "outputs": [],
   "source": [
    "a = RPS_Ver7(['가위','바위','보'])\n",
    "b = RPS_Ver7(['가위','바위','보'])"
   ]
  },
  {
   "cell_type": "code",
   "execution_count": 320,
   "id": "0142cc0f-0a70-4e34-8f24-3691aa474e8f",
   "metadata": {},
   "outputs": [],
   "source": [
    "a.pick()\n",
    "b.pick()"
   ]
  },
  {
   "cell_type": "code",
   "execution_count": 321,
   "id": "073658fb-478a-488e-bc6d-30649ec6d744",
   "metadata": {},
   "outputs": [
    {
     "data": {
      "text/html": [
       "\n",
       "        낼 수 있는 패: ['가위', '바위', '보'] <br/>\n",
       "        기록: ['보']\n",
       "        "
      ],
      "text/plain": [
       "<__main__.RPS_Ver7 at 0x7f09a8d5a9a0>"
      ]
     },
     "execution_count": 321,
     "metadata": {},
     "output_type": "execute_result"
    }
   ],
   "source": [
    "a"
   ]
  },
  {
   "cell_type": "code",
   "execution_count": 322,
   "id": "6456f11b-d61b-4bd2-907e-c4a8831faef6",
   "metadata": {},
   "outputs": [
    {
     "data": {
      "text/html": [
       "\n",
       "        낼 수 있는 패: ['가위', '바위', '보'] <br/>\n",
       "        기록: ['보']\n",
       "        "
      ],
      "text/plain": [
       "<__main__.RPS_Ver7 at 0x7f09a8d5a3a0>"
      ]
     },
     "execution_count": 322,
     "metadata": {},
     "output_type": "execute_result"
    }
   ],
   "source": [
    "b"
   ]
  },
  {
   "cell_type": "code",
   "execution_count": 323,
   "id": "1d4c45b5-be2c-44fe-a2e5-9b68a69f9b3f",
   "metadata": {},
   "outputs": [
    {
     "data": {
      "text/plain": [
       "(True, False, False, True, True)"
      ]
     },
     "execution_count": 323,
     "metadata": {},
     "output_type": "execute_result"
    }
   ],
   "source": [
    "a==b, a>b, a<b, a>=b, a<=b "
   ]
  },
  {
   "cell_type": "markdown",
   "id": "31812af3-a4af-4a85-8c9e-532260c82128",
   "metadata": {},
   "source": [
    "> 파이썬의 비밀10: `__eq__`, `__gt__`, `__lt__`, `__ge__`, `__le__`는 각각 `==`, `>`, `<`, `>=`, `<=` 를 재정의한다. "
   ]
  },
  {
   "cell_type": "markdown",
   "id": "430b3a70-9e73-4ca7-8599-7ef65b89e8b9",
   "metadata": {},
   "source": [
    "## 비밀11: `__call__` $(\\star\\star\\star)$"
   ]
  },
  {
   "cell_type": "markdown",
   "id": "45e6dabe-8660-419a-97dd-350198669b86",
   "metadata": {},
   "source": [
    "### ***함수공부***"
   ]
  },
  {
   "cell_type": "markdown",
   "id": "78db9acc-fcb6-490c-9bd7-4842e5de4c85",
   "metadata": {},
   "source": [
    "`-` 다시 함수를 공부해봅시다. "
   ]
  },
  {
   "cell_type": "code",
   "execution_count": 203,
   "id": "9d03d636-825e-4c2f-8329-749557ec3b8d",
   "metadata": {},
   "outputs": [],
   "source": [
    "def f(x):\n",
    "    return x+1 "
   ]
  },
  {
   "cell_type": "code",
   "execution_count": 204,
   "id": "538788d7-05cd-4c34-97ea-b14745c6ed32",
   "metadata": {},
   "outputs": [
    {
     "data": {
      "text/plain": [
       "4"
      ]
     },
     "execution_count": 204,
     "metadata": {},
     "output_type": "execute_result"
    }
   ],
   "source": [
    "f(3)"
   ]
  },
  {
   "cell_type": "markdown",
   "id": "a593ca28-09e8-4f63-a38b-ffdedc880e64",
   "metadata": {},
   "source": [
    "`-` 함수의 사용방법? \n",
    "\n",
    "- 입력으로 변수 x를 받음 = 입력으로 인스턴스 x를 받음. \n",
    "- 출력으로 변수 x+1을 리턴 = 출력으로 인스턴스 x+1을 리턴. "
   ]
  },
  {
   "cell_type": "markdown",
   "id": "c1e2a7bc-36d9-45f2-8388-03c5cd5b10dc",
   "metadata": {},
   "source": [
    "`-` 사실1: 파이썬에서 함수는 인스턴스를 입력으로 받고 인스턴스를 출력한다. "
   ]
  },
  {
   "cell_type": "markdown",
   "id": "06b774c2-3214-4a32-bb59-375e02f45e58",
   "metadata": {},
   "source": [
    "`-` 함수의 자료형? "
   ]
  },
  {
   "cell_type": "code",
   "execution_count": 207,
   "id": "edaf23ef-e8aa-4d8a-8d23-151e7276d708",
   "metadata": {},
   "outputs": [
    {
     "data": {
      "text/plain": [
       "\u001b[0;31mSignature:\u001b[0m \u001b[0mf\u001b[0m\u001b[0;34m(\u001b[0m\u001b[0mx\u001b[0m\u001b[0;34m)\u001b[0m\u001b[0;34m\u001b[0m\u001b[0;34m\u001b[0m\u001b[0m\n",
       "\u001b[0;31mDocstring:\u001b[0m <no docstring>\n",
       "\u001b[0;31mFile:\u001b[0m      /tmp/ipykernel_3296343/2907208198.py\n",
       "\u001b[0;31mType:\u001b[0m      function\n"
      ]
     },
     "metadata": {},
     "output_type": "display_data"
    }
   ],
   "source": [
    "?f"
   ]
  },
  {
   "cell_type": "markdown",
   "id": "d0fd9324-7cb6-4f71-b2f4-51b08789b0fd",
   "metadata": {},
   "source": [
    "- type이 function이다. \n",
    "- f는 function class의 instance이다. \n",
    "- 결국 f 역시 하나의 오브젝트에 불과하다. "
   ]
  },
  {
   "cell_type": "markdown",
   "id": "3ab7d4d2-87f0-4e17-9f4b-301a82372e4a",
   "metadata": {},
   "source": [
    "`-` 사실2: 함수도 결국 인스턴스이다. -> 함수의 입력으로 함수를 쓸 수도 있고 함수의 출력으로 함수가 나올 수도 있다. "
   ]
  },
  {
   "cell_type": "markdown",
   "id": "d1aec639-a66b-4dc4-98ec-4161f60f349b",
   "metadata": {},
   "source": [
    "> \"파이썬의 모든 것은 오브젝트이다.\" <-- 명언처럼 외우세여"
   ]
  },
  {
   "cell_type": "markdown",
   "id": "aab4803c-0648-4e3f-b313-7309ea02432d",
   "metadata": {},
   "source": [
    "### ***함수도 인스턴스다***"
   ]
  },
  {
   "cell_type": "markdown",
   "id": "4d400d00-280d-429b-aabf-904e18ed6b8c",
   "metadata": {},
   "source": [
    "(예제1) 숫자입력, 함수출력 "
   ]
  },
  {
   "cell_type": "code",
   "execution_count": 362,
   "id": "86c3359b-a335-4bc7-8305-3b2e3b6a2d86",
   "metadata": {},
   "outputs": [],
   "source": [
    "def f(a):\n",
    "    def _f(x):\n",
    "        return (x-a)**2 \n",
    "    return _f"
   ]
  },
  {
   "cell_type": "code",
   "execution_count": 363,
   "id": "061f6d6d-c2f9-4d7a-8d0d-bb4c1713b876",
   "metadata": {},
   "outputs": [],
   "source": [
    "g=f(10) # g(x)=(x-10)**2 "
   ]
  },
  {
   "cell_type": "code",
   "execution_count": 364,
   "id": "9a907484-d7c5-4034-bc6b-df889aab1ed3",
   "metadata": {},
   "outputs": [
    {
     "data": {
      "text/plain": [
       "64"
      ]
     },
     "execution_count": 364,
     "metadata": {},
     "output_type": "execute_result"
    }
   ],
   "source": [
    "g(2) # (2-10)**2 = 64"
   ]
  },
  {
   "cell_type": "markdown",
   "id": "718bbf0b-b493-4beb-a0b8-25c7a8812dcb",
   "metadata": {},
   "source": [
    "- 해석: $f(a)$는 $a$를 입력으로 받고 $g(x)=(x-a)^2$라는 함수를 리턴해주는 함수 "
   ]
  },
  {
   "cell_type": "markdown",
   "id": "0cebcd23-15e5-4028-9c2c-f2db8caac7ed",
   "metadata": {},
   "source": [
    "(예제1)의 다른표현: 익명함수 lambda "
   ]
  },
  {
   "cell_type": "markdown",
   "id": "b146724a-a7a8-4bd4-a66d-8939a2996b6a",
   "metadata": {},
   "source": [
    "표현1"
   ]
  },
  {
   "cell_type": "code",
   "execution_count": 365,
   "id": "592d674c-07e6-4c08-ba1f-9aa901e8dc26",
   "metadata": {},
   "outputs": [],
   "source": [
    "def f(a):\n",
    "    _f = lambda x: (x-a)**2 ### lambda x: (x-a)**2 가 실행되는 순간 함수오브젝트가 만들어지고 그것이 _f 로 저장됨 \n",
    "    return _f"
   ]
  },
  {
   "cell_type": "code",
   "execution_count": 366,
   "id": "5d588bba-75cd-489b-a18f-801f64ab7b4d",
   "metadata": {},
   "outputs": [],
   "source": [
    "g=f(10) # g(x)=(x-10)**2 "
   ]
  },
  {
   "cell_type": "code",
   "execution_count": 367,
   "id": "15fbaf2a-b022-46f4-9202-c629a83efe1d",
   "metadata": {},
   "outputs": [
    {
     "data": {
      "text/plain": [
       "49"
      ]
     },
     "execution_count": 367,
     "metadata": {},
     "output_type": "execute_result"
    }
   ],
   "source": [
    "g(3) # (3-10)**2 = 49"
   ]
  },
  {
   "cell_type": "markdown",
   "id": "55019025-d354-4acf-97b4-bae51fa39f22",
   "metadata": {},
   "source": [
    "표현2"
   ]
  },
  {
   "cell_type": "code",
   "execution_count": 368,
   "id": "2f14809d-bcce-4380-86f0-5598eab20e24",
   "metadata": {},
   "outputs": [],
   "source": [
    "def f(a):\n",
    "    return lambda x: (x-a)**2 "
   ]
  },
  {
   "cell_type": "code",
   "execution_count": 369,
   "id": "4ffa1e83-c055-4f35-b384-41a06a3ec068",
   "metadata": {},
   "outputs": [],
   "source": [
    "g=f(10) # g(x)=(x-10)**2 "
   ]
  },
  {
   "cell_type": "code",
   "execution_count": 370,
   "id": "4ec2204e-c1c2-4b92-970b-d4ba9058c2db",
   "metadata": {},
   "outputs": [
    {
     "data": {
      "text/plain": [
       "49"
      ]
     },
     "execution_count": 370,
     "metadata": {},
     "output_type": "execute_result"
    }
   ],
   "source": [
    "g(3) # (3-10)**2 = 49"
   ]
  },
  {
   "cell_type": "markdown",
   "id": "c3fa1056-671c-4ddf-8125-9054b2f2ebcf",
   "metadata": {},
   "source": [
    "- `lambda x: (x-a)**2` 는 $\\text{lambda}(x) = (x-a)^2$의 느낌으로 기억하면 외우기 쉽다. \n",
    "- `lambda x: (x-a)**2` 는 \"아직 이름이 없는 함수오브젝트를 (가칭 lambda 라고 하자) 만들고 기능은 `x`를 입력으로 하고 `(x-a)**2`를 출력하도록 하자\" 라는 뜻으로 해석하면 된다. "
   ]
  },
  {
   "cell_type": "markdown",
   "id": "1ddb1620-2abb-476e-b745-2131514ac7a1",
   "metadata": {},
   "source": [
    "(예제2) 함수입력, 숫자출력 "
   ]
  },
  {
   "cell_type": "code",
   "execution_count": 371,
   "id": "2c736945-2020-4384-9e18-8c5b1120e032",
   "metadata": {},
   "outputs": [],
   "source": [
    "def f(x):\n",
    "    return x**2 "
   ]
  },
  {
   "cell_type": "code",
   "execution_count": 372,
   "id": "d03a9268-2614-4fbb-97b5-c71a77f6ebca",
   "metadata": {},
   "outputs": [],
   "source": [
    "def d(f,x): # 함수를 입력을 받는 함수를 정의 \n",
    "    h=0.000000000001\n",
    "    return (f(x+h)-f(x))/h "
   ]
  },
  {
   "cell_type": "code",
   "execution_count": 373,
   "id": "741f03aa-92f6-4249-b303-8859429a6c75",
   "metadata": {},
   "outputs": [
    {
     "data": {
      "text/plain": [
       "8.000711204658728"
      ]
     },
     "execution_count": 373,
     "metadata": {},
     "output_type": "execute_result"
    }
   ],
   "source": [
    "d(f,4) # f'(4) = 2*4 = 8"
   ]
  },
  {
   "cell_type": "markdown",
   "id": "90306ccc-72a8-4954-9855-25e77a19a20b",
   "metadata": {},
   "source": [
    "(예제3) 함수입력, 함수출력 "
   ]
  },
  {
   "cell_type": "code",
   "execution_count": 374,
   "id": "dde6f53d-c8c5-4f76-a7be-b70f1b63084e",
   "metadata": {},
   "outputs": [],
   "source": [
    "def f(x): \n",
    "    return x**2 "
   ]
  },
  {
   "cell_type": "code",
   "execution_count": 376,
   "id": "bd2a874a-b00c-49c9-ad16-9d64370ae733",
   "metadata": {},
   "outputs": [],
   "source": [
    "def derivate(f): \n",
    "    # step1: 함수오브젝트 f는 입력으로 받은상태 \n",
    "    # step2: 함수오브젝트 f를 이용하여 df라는 함수를 정의 \n",
    "    def df(x): \n",
    "        h=0.000000000001\n",
    "        return (f(x+h)-f(x))/h \n",
    "    # step3: 정의된 df를 리턴\n",
    "    return df"
   ]
  },
  {
   "cell_type": "code",
   "execution_count": 377,
   "id": "e74aecd5-1a71-4639-ae8b-19583ddcdcc4",
   "metadata": {},
   "outputs": [],
   "source": [
    "ff = derivate(f)"
   ]
  },
  {
   "cell_type": "code",
   "execution_count": 378,
   "id": "e35736c0-bf01-40cb-b34c-44aa996f9b72",
   "metadata": {},
   "outputs": [
    {
     "data": {
      "text/plain": [
       "14.004797321831575"
      ]
     },
     "execution_count": 378,
     "metadata": {},
     "output_type": "execute_result"
    }
   ],
   "source": [
    "ff(7) # f의 도함수"
   ]
  },
  {
   "cell_type": "markdown",
   "id": "9f1b849a-11e6-489a-af64-29ba9700b258",
   "metadata": {},
   "source": [
    "**원래함수 시각화**"
   ]
  },
  {
   "cell_type": "code",
   "execution_count": 381,
   "id": "36319018-a9f5-4cb0-b376-6abb7fdf50f5",
   "metadata": {},
   "outputs": [
    {
     "data": {
      "text/plain": [
       "[<matplotlib.lines.Line2D at 0x7f09a8b6f070>]"
      ]
     },
     "execution_count": 381,
     "metadata": {},
     "output_type": "execute_result"
    },
    {
     "data": {
      "image/png": "[encoded data removed]",
      "text/plain": [
       "<Figure size 432x288 with 1 Axes>"
      ]
     },
     "metadata": {
      "needs_background": "light"
     },
     "output_type": "display_data"
    }
   ],
   "source": [
    "x = np.linspace(-1,1,100)\n",
    "plt.plot(x,f(x))"
   ]
  },
  {
   "cell_type": "markdown",
   "id": "7fa4d5f8-474e-48ce-8a1b-8992fdedf06e",
   "metadata": {},
   "source": [
    "**도함수 시각화**"
   ]
  },
  {
   "cell_type": "code",
   "execution_count": 386,
   "id": "cd3de78e-4e12-43d1-94d1-b88140718a28",
   "metadata": {},
   "outputs": [
    {
     "data": {
      "text/plain": [
       "<matplotlib.legend.Legend at 0x7f0997112d90>"
      ]
     },
     "execution_count": 386,
     "metadata": {},
     "output_type": "execute_result"
    },
    {
     "data": {
      "image/png": "[encoded data removed]",
      "text/plain": [
       "<Figure size 432x288 with 1 Axes>"
      ]
     },
     "metadata": {
      "needs_background": "light"
     },
     "output_type": "display_data"
    }
   ],
   "source": [
    "x = np.linspace(-1,1,100)\n",
    "plt.plot(x,f(x),label=r'$f(x)=x^2$')\n",
    "plt.plot(x,ff(x),label=r'$ff(x)=2x$')\n",
    "plt.legend()"
   ]
  },
  {
   "cell_type": "markdown",
   "id": "dc53267f-bb95-4f15-ba5f-4ce91f8ae93e",
   "metadata": {},
   "source": [
    "(예제3)의 다른표현 "
   ]
  },
  {
   "cell_type": "code",
   "execution_count": 387,
   "id": "17840c26-1142-4aa3-8276-c183e3036d4d",
   "metadata": {},
   "outputs": [],
   "source": [
    "def f(x): \n",
    "    return x**2 "
   ]
  },
  {
   "cell_type": "code",
   "execution_count": 388,
   "id": "05f95e9c-b61e-44a8-a53b-889a79622d28",
   "metadata": {},
   "outputs": [],
   "source": [
    "def derivate(f): \n",
    "    h=0.000000000001\n",
    "    return lambda x: (f(x+h)-f(x))/h "
   ]
  },
  {
   "cell_type": "code",
   "execution_count": 389,
   "id": "2ecf2fa2-8032-4be4-97a5-45c6bff59866",
   "metadata": {},
   "outputs": [],
   "source": [
    "ff = derivate(f)"
   ]
  },
  {
   "cell_type": "code",
   "execution_count": 390,
   "id": "18ff7d32-45c3-44bc-beff-644074d95b5e",
   "metadata": {},
   "outputs": [
    {
     "data": {
      "text/plain": [
       "20.00888343900442"
      ]
     },
     "execution_count": 390,
     "metadata": {},
     "output_type": "execute_result"
    }
   ],
   "source": [
    "ff(10)"
   ]
  },
  {
   "cell_type": "code",
   "execution_count": 391,
   "id": "48a30f1e-daa2-4d98-85fc-568422c4c23f",
   "metadata": {},
   "outputs": [
    {
     "data": {
      "text/plain": [
       "<matplotlib.legend.Legend at 0x7f09974fc310>"
      ]
     },
     "execution_count": 391,
     "metadata": {},
     "output_type": "execute_result"
    },
    {
     "data": {
      "image/png": "[encoded data removed]",
      "text/plain": [
       "<Figure size 432x288 with 1 Axes>"
      ]
     },
     "metadata": {
      "needs_background": "light"
     },
     "output_type": "display_data"
    }
   ],
   "source": [
    "x = np.linspace(-1,1,100)\n",
    "plt.plot(x,f(x),label=r'$f(x)=x^2$')\n",
    "plt.plot(x,ff(x),label=r'$ff(x)=2x$')\n",
    "plt.legend()"
   ]
  },
  {
   "cell_type": "markdown",
   "id": "78f1810f-7f04-4ab7-b1b9-d0ace26a9290",
   "metadata": {},
   "source": [
    "(예제4) 함수들의 리스트 "
   ]
  },
  {
   "cell_type": "code",
   "execution_count": 392,
   "id": "32b3ba28-164e-44a2-aacf-affaac0d1f36",
   "metadata": {},
   "outputs": [
    {
     "data": {
      "text/plain": [
       "[<function __main__.<lambda>(x)>,\n",
       " <function __main__.<lambda>(x)>,\n",
       " <function __main__.<lambda>(x)>]"
      ]
     },
     "execution_count": 392,
     "metadata": {},
     "output_type": "execute_result"
    }
   ],
   "source": [
    "flst = [lambda x: x, lambda x: x**2, lambda x: x**3] \n",
    "flst"
   ]
  },
  {
   "cell_type": "code",
   "execution_count": 393,
   "id": "365678f9-22aa-46f2-890f-8c06ae882799",
   "metadata": {},
   "outputs": [
    {
     "name": "stdout",
     "output_type": "stream",
     "text": [
      "2\n",
      "4\n",
      "8\n"
     ]
    }
   ],
   "source": [
    "for f in flst:\n",
    "    print(f(2))"
   ]
  },
  {
   "cell_type": "code",
   "execution_count": 394,
   "id": "d68cac9d-37d8-40a8-8f4f-9a23c1222b56",
   "metadata": {},
   "outputs": [
    {
     "data": {
      "image/png": "[encoded data removed]",
      "text/plain": [
       "<Figure size 432x288 with 1 Axes>"
      ]
     },
     "metadata": {
      "needs_background": "light"
     },
     "output_type": "display_data"
    }
   ],
   "source": [
    "for f in flst: \n",
    "    plt.plot(x,f(x),'--')"
   ]
  },
  {
   "cell_type": "markdown",
   "id": "52589886-c1ef-47b1-8ef4-f8ece02f2276",
   "metadata": {},
   "source": [
    "위의코드는 아래와 같음 "
   ]
  },
  {
   "cell_type": "code",
   "execution_count": 395,
   "id": "eca55297-bcd1-4d80-8bec-24d4320c18ab",
   "metadata": {},
   "outputs": [
    {
     "data": {
      "text/plain": [
       "[<matplotlib.lines.Line2D at 0x7f0996f814f0>]"
      ]
     },
     "execution_count": 395,
     "metadata": {},
     "output_type": "execute_result"
    },
    {
     "data": {
      "image/png": "[encoded data removed]",
      "text/plain": [
       "<Figure size 432x288 with 1 Axes>"
      ]
     },
     "metadata": {
      "needs_background": "light"
     },
     "output_type": "display_data"
    }
   ],
   "source": [
    "plt.plot(x,(lambda x: x)(x),'--')\n",
    "plt.plot(x,(lambda x: x**2)(x),'--')\n",
    "plt.plot(x,(lambda x: x**3)(x),'--')"
   ]
  },
  {
   "cell_type": "markdown",
   "id": "d02de560-5216-42a5-bac3-0c8f7f3585dd",
   "metadata": {},
   "source": [
    "### ***정리***"
   ]
  },
  {
   "cell_type": "markdown",
   "id": "a1badeb7-c7dc-48cc-a642-05a217140e22",
   "metadata": {},
   "source": [
    "`-` 지금까지 개념 \n",
    "\n",
    "- 함수: 변수를 입력으로 받아서 변수를 출력하는 개념 \n",
    "- 변수: 어떠한 값을 저장하는 용도로 쓰거나 함수의 입력 혹은 출력으로 사용함"
   ]
  },
  {
   "cell_type": "markdown",
   "id": "08be2884-d748-4e39-9640-9c7c6a0ec61f",
   "metadata": {},
   "source": [
    "`-` R과 구별되는 파이썬의 독특한 테크닉 (부제: 파이썬에서 함수를 잘 쓰려면?)\n",
    "\n",
    "- 변수든 함수이든 둘다 인스턴스임. (즉 어떠한 클래스에서 찍힌 똑같은 오브젝트라는 의미)\n",
    "- 변수를 함수처럼: 메소드 `lst.append(1)`은 마치 `append(lst,1)`와 같은 함수로 쓸 수 있음\n",
    "- 함수를 변수처럼($\\star$): 함수자체를 함수의 입력으로 혹은 출력으로 쓸 수도 있음. 함수를 특정 값처럼 생각해서 함수들의 list를 만들 수도 있다. "
   ]
  },
  {
   "cell_type": "markdown",
   "id": "fe5a8055-2917-4865-95ab-e37e02a586b4",
   "metadata": {},
   "source": [
    "### ***callable object***"
   ]
  },
  {
   "cell_type": "markdown",
   "id": "79b503bc-4677-4c04-9ccd-99590534e30d",
   "metadata": {},
   "source": [
    "`-` 함수 오브젝트의 비밀? "
   ]
  },
  {
   "cell_type": "code",
   "execution_count": 396,
   "id": "28345165-d190-41e3-ba75-4b8e655f7a07",
   "metadata": {},
   "outputs": [],
   "source": [
    "f = lambda x: x+1 "
   ]
  },
  {
   "cell_type": "code",
   "execution_count": 397,
   "id": "a3ea028e-87f4-4d7b-baca-7f54bfca2f97",
   "metadata": {},
   "outputs": [
    {
     "data": {
      "text/plain": [
       "{'__call__'}"
      ]
     },
     "execution_count": 397,
     "metadata": {},
     "output_type": "execute_result"
    }
   ],
   "source": [
    "set(dir(f)) & {'__call__'}"
   ]
  },
  {
   "cell_type": "markdown",
   "id": "9198e26e-e6d6-4173-8530-472f0d7c31d2",
   "metadata": {},
   "source": [
    "- 함수 오브젝트에는 숨겨진 기능 `__call__`이 있다. "
   ]
  },
  {
   "cell_type": "code",
   "execution_count": 398,
   "id": "63c53c50-b029-4ec2-8e30-1568d6ee18dd",
   "metadata": {},
   "outputs": [
    {
     "data": {
      "text/plain": [
       "4"
      ]
     },
     "execution_count": 398,
     "metadata": {},
     "output_type": "execute_result"
    }
   ],
   "source": [
    "f.__call__(3) # f(3)"
   ]
  },
  {
   "cell_type": "code",
   "execution_count": 399,
   "id": "67f265c0-4988-43fa-8ad6-81bca5b86e79",
   "metadata": {},
   "outputs": [
    {
     "data": {
      "text/plain": [
       "5"
      ]
     },
     "execution_count": 399,
     "metadata": {},
     "output_type": "execute_result"
    }
   ],
   "source": [
    "f.__call__(4) # f(4)"
   ]
  },
  {
   "cell_type": "markdown",
   "id": "2f26944a-b680-4a5c-a2c0-8bf0eba2fd4a",
   "metadata": {},
   "source": [
    "- 여기에 우리가 정의한 내용이 있다. "
   ]
  },
  {
   "cell_type": "markdown",
   "id": "defc38cd-6ec9-4ce9-b954-0d5b1390aa5a",
   "metadata": {},
   "source": [
    "`-` 함수처럼 쓸 수 없는 인스턴스는 단지 call이 없는 것일 뿐이다. "
   ]
  },
  {
   "cell_type": "code",
   "execution_count": 400,
   "id": "e1a769e6-39d6-4c29-bc97-61841620d293",
   "metadata": {},
   "outputs": [],
   "source": [
    "class Klass: \n",
    "    def __init__(self):\n",
    "        self.name='guebin'"
   ]
  },
  {
   "cell_type": "code",
   "execution_count": 401,
   "id": "308eccd8-93e5-45c3-aee0-85d7f8496213",
   "metadata": {},
   "outputs": [],
   "source": [
    "a=Klass()"
   ]
  },
  {
   "cell_type": "code",
   "execution_count": 402,
   "id": "0a4c3678-d47d-454e-b452-17404e5c0d20",
   "metadata": {},
   "outputs": [
    {
     "ename": "TypeError",
     "evalue": "'Klass' object is not callable",
     "output_type": "error",
     "traceback": [
      "\u001b[0;31m---------------------------------------------------------------------------\u001b[0m",
      "\u001b[0;31mTypeError\u001b[0m                                 Traceback (most recent call last)",
      "Cell \u001b[0;32mIn[402], line 1\u001b[0m\n\u001b[0;32m----> 1\u001b[0m \u001b[43ma\u001b[49m\u001b[43m(\u001b[49m\u001b[43m)\u001b[49m\n",
      "\u001b[0;31mTypeError\u001b[0m: 'Klass' object is not callable"
     ]
    }
   ],
   "source": [
    "a()"
   ]
  },
  {
   "cell_type": "markdown",
   "id": "2152df95-3b84-4500-9af0-5e3efef47d11",
   "metadata": {},
   "source": [
    "- a는 callable이 아니라고 한다. "
   ]
  },
  {
   "cell_type": "code",
   "execution_count": 403,
   "id": "44121865-7d2a-4dc2-83a6-2beba8c23b02",
   "metadata": {},
   "outputs": [],
   "source": [
    "class Klass2(Klass): \n",
    "    def __call__(self):\n",
    "        print(self.name)"
   ]
  },
  {
   "cell_type": "code",
   "execution_count": 404,
   "id": "86c434c1-ff63-4f18-a060-40bdab7461d5",
   "metadata": {},
   "outputs": [],
   "source": [
    "b=Klass2()"
   ]
  },
  {
   "cell_type": "code",
   "execution_count": 405,
   "id": "73400640-4ea5-4648-b032-b02107ec4f2d",
   "metadata": {},
   "outputs": [
    {
     "name": "stdout",
     "output_type": "stream",
     "text": [
      "guebin\n"
     ]
    }
   ],
   "source": [
    "b()"
   ]
  },
  {
   "cell_type": "markdown",
   "id": "7752063f-5f52-4c78-a904-4c132398d7d5",
   "metadata": {},
   "source": [
    "- b는 callable object! 즉 숨겨진 메서드로 `__call__`를 가진 오브젝트!\n",
    "- Klass는 callable object를 만들지 못하지만 Klass2는 callable object를 만든다. "
   ]
  },
  {
   "cell_type": "markdown",
   "id": "66c23a47-c840-470e-ba31-2243c533dc65",
   "metadata": {},
   "source": [
    "`-` 클래스로 함수를 만들기 (=함수인스턴스를 찍어내는 클래스 설계)"
   ]
  },
  {
   "cell_type": "code",
   "execution_count": 406,
   "id": "b5b2ea3d-47b0-4e2a-b904-5e4b7b15a613",
   "metadata": {},
   "outputs": [],
   "source": [
    "class AddConstant: \n",
    "    def __init__(self,const):\n",
    "        self.const = const \n",
    "    def __call__(self,x):\n",
    "        return x + self.const"
   ]
  },
  {
   "cell_type": "code",
   "execution_count": 407,
   "id": "e3daaa72-3061-468f-8f04-beb10a1b7c77",
   "metadata": {},
   "outputs": [],
   "source": [
    "f = AddConstant(3) # callable object생성, f.const에는 3이 저장되어있음. "
   ]
  },
  {
   "cell_type": "code",
   "execution_count": 408,
   "id": "5d205a3b-1ff9-4132-9120-9dc1ce2e82e3",
   "metadata": {},
   "outputs": [
    {
     "data": {
      "text/plain": [
       "8"
      ]
     },
     "execution_count": 408,
     "metadata": {},
     "output_type": "execute_result"
    }
   ],
   "source": [
    "f(5) # f.const 와 5를 더하는 기능을 수행, # 즉 f(x) = x+3 을 수행함"
   ]
  },
  {
   "cell_type": "code",
   "execution_count": 409,
   "id": "fffd5ddb-426e-41c6-96cf-1e29162f110a",
   "metadata": {},
   "outputs": [
    {
     "data": {
      "text/plain": [
       "13"
      ]
     },
     "execution_count": 409,
     "metadata": {},
     "output_type": "execute_result"
    }
   ],
   "source": [
    "f(10) "
   ]
  },
  {
   "cell_type": "markdown",
   "id": "4a81bd7c-e1a7-4010-9eba-76524ad5581c",
   "metadata": {},
   "source": [
    "`-` 클래스도 그러고 보니까 `오브젝트` 아니었나? "
   ]
  },
  {
   "cell_type": "code",
   "execution_count": 482,
   "id": "eaf368ec-f844-438e-b42c-2297e3725bee",
   "metadata": {},
   "outputs": [
    {
     "data": {
      "text/plain": [
       "\u001b[0;31mInit signature:\u001b[0m \u001b[0mStudent_Ver2\u001b[0m\u001b[0;34m(\u001b[0m\u001b[0mage\u001b[0m\u001b[0;34m=\u001b[0m\u001b[0;36m20.0\u001b[0m\u001b[0;34m,\u001b[0m \u001b[0msemester\u001b[0m\u001b[0;34m=\u001b[0m\u001b[0;36m0\u001b[0m\u001b[0;34m)\u001b[0m\u001b[0;34m\u001b[0m\u001b[0;34m\u001b[0m\u001b[0m\n",
       "\u001b[0;31mDocstring:\u001b[0m      <no docstring>\n",
       "\u001b[0;31mType:\u001b[0m           type\n",
       "\u001b[0;31mSubclasses:\u001b[0m     "
      ]
     },
     "metadata": {},
     "output_type": "display_data"
    }
   ],
   "source": [
    "Student_Ver2?"
   ]
  },
  {
   "cell_type": "markdown",
   "id": "28beaa5b-d7e7-4fa4-9f51-3a8fb59d4936",
   "metadata": {},
   "source": [
    "- 이것도 type 이라는 또 다른 클래스에서 (클래스를 찍는 클래스) 찍힌 오브젝트이구나.."
   ]
  },
  {
   "cell_type": "markdown",
   "id": "5feab9b1-363b-4423-8ba7-f1a447a71ecd",
   "metadata": {},
   "source": [
    "`-` 클래스 \"오브젝트\"도 함수 \"오브젝트\"처럼 `Student_Ver2()`와 같이 사용하면 인스턴스를 만들었음. -> `Student_Ver2.__call__()` 은 `Student_Ver2()`와 같은 역할을 할 것이다. "
   ]
  },
  {
   "cell_type": "markdown",
   "id": "0170318a-90bd-4426-920f-d534810e8f02",
   "metadata": {},
   "source": [
    "***일반적인 구현에서 \"클래스 $\\to$ 인스턴스\" 과정*** "
   ]
  },
  {
   "cell_type": "code",
   "execution_count": 483,
   "id": "8cfd96ea-4c00-4406-ac6b-3887b2c11e5b",
   "metadata": {},
   "outputs": [
    {
     "name": "stdout",
     "output_type": "stream",
     "text": [
      "입학을 축하합니다. 당신의 나이는 20.0이고 현재 학기는 0학기 입니다.\n"
     ]
    }
   ],
   "source": [
    "boram = Student_Ver2(age=20.0,semester=0)"
   ]
  },
  {
   "cell_type": "code",
   "execution_count": 484,
   "id": "d267e2f8-c153-4a97-84ec-533a3022925b",
   "metadata": {},
   "outputs": [
    {
     "data": {
      "text/html": [
       "\n",
       "        나이: 21.5 <br/>\n",
       "        학기: 1 <br/>\n",
       "        "
      ],
      "text/plain": [
       "<__main__.Student_Ver2 at 0x7f09949c2b50>"
      ]
     },
     "execution_count": 484,
     "metadata": {},
     "output_type": "execute_result"
    }
   ],
   "source": [
    "boram + '등록' + '휴학' + '휴학'"
   ]
  },
  {
   "cell_type": "markdown",
   "id": "531c1f43-9a4f-4fae-8847-ae0ee2419015",
   "metadata": {},
   "source": [
    "***공부를 위해 call을 이용해본 \"클래스 $\\to$ 인스턴스\" 과정*** "
   ]
  },
  {
   "cell_type": "code",
   "execution_count": 485,
   "id": "6e9fce5d-7ab4-4f89-90e7-5de90f1f8f71",
   "metadata": {},
   "outputs": [
    {
     "name": "stdout",
     "output_type": "stream",
     "text": [
      "입학을 축하합니다. 당신의 나이는 20.0이고 현재 학기는 0학기 입니다.\n"
     ]
    }
   ],
   "source": [
    "boram = Student_Ver2.__call__(age=20.0,semester=0)"
   ]
  },
  {
   "cell_type": "code",
   "execution_count": 486,
   "id": "39a814ab-d6a3-491f-a1d2-fab676304c40",
   "metadata": {},
   "outputs": [
    {
     "data": {
      "text/html": [
       "\n",
       "        나이: 21.5 <br/>\n",
       "        학기: 1 <br/>\n",
       "        "
      ],
      "text/plain": [
       "<__main__.Student_Ver2 at 0x7f09949c2520>"
      ]
     },
     "execution_count": 486,
     "metadata": {},
     "output_type": "execute_result"
    }
   ],
   "source": [
    "boram + '등록' + '휴학' + '휴학'"
   ]
  },
  {
   "cell_type": "markdown",
   "id": "e6582806-250b-4aac-8155-7126548f1f49",
   "metadata": {},
   "source": [
    "> 파이썬의 비밀11: `f()`와 같이 쓸 수 있는 오브젝트는 단지 `__call__` 이 정의되어있는 오브젝트일 뿐이다. "
   ]
  },
  {
   "cell_type": "markdown",
   "id": "9334d996-1b84-4514-a659-e93f19d65438",
   "metadata": {},
   "source": [
    "## 비밀12: `__iter__` ($\\star\\star\\star\\star\\star$)"
   ]
  },
  {
   "cell_type": "markdown",
   "id": "6e2c68df-68df-4698-8082-768e95e587dc",
   "metadata": {},
   "source": [
    "### ***for문의 복습***"
   ]
  },
  {
   "cell_type": "markdown",
   "id": "74a14e4e-4ff3-4ca8-820f-022ec16ed2ea",
   "metadata": {},
   "source": [
    "`-` 아래와 같은 예제들을 관찰하여 for문을 복습하자. "
   ]
  },
  {
   "cell_type": "markdown",
   "id": "53a268d3-c233-499d-ae65-4f8b9729c4b1",
   "metadata": {},
   "source": [
    "(예제1)"
   ]
  },
  {
   "cell_type": "code",
   "execution_count": 419,
   "id": "e18bf42e-00d9-4c42-9e8f-d953721a8823",
   "metadata": {},
   "outputs": [
    {
     "name": "stdout",
     "output_type": "stream",
     "text": [
      "1\n",
      "2\n",
      "3\n",
      "4\n"
     ]
    }
   ],
   "source": [
    "for i in [1,2,3,4]:\n",
    "    print(i)"
   ]
  },
  {
   "cell_type": "markdown",
   "id": "73282463-9b47-43a1-ad24-7d4c203ffd18",
   "metadata": {},
   "source": [
    "(예제2)"
   ]
  },
  {
   "cell_type": "code",
   "execution_count": 420,
   "id": "17fdcb42-b39d-48ce-b70b-a61e3567bfcd",
   "metadata": {},
   "outputs": [
    {
     "name": "stdout",
     "output_type": "stream",
     "text": [
      "1\n",
      "2\n",
      "3\n",
      "4\n"
     ]
    }
   ],
   "source": [
    "for i in (1,2,3,4): \n",
    "    print(i)"
   ]
  },
  {
   "cell_type": "markdown",
   "id": "882acabf-c78c-4b53-835f-5c738f7f277e",
   "metadata": {},
   "source": [
    "(예제3)"
   ]
  },
  {
   "cell_type": "code",
   "execution_count": 421,
   "id": "8c695c33-5a44-413c-ba88-968fbb89993f",
   "metadata": {},
   "outputs": [
    {
     "name": "stdout",
     "output_type": "stream",
     "text": [
      "1\n",
      "2\n",
      "3\n",
      "4\n"
     ]
    }
   ],
   "source": [
    "for i in '1234':\n",
    "    print(i)"
   ]
  },
  {
   "cell_type": "markdown",
   "id": "24f18b90-1681-4447-8ab6-4db3d1ce5e95",
   "metadata": {},
   "source": [
    "(예제4)"
   ]
  },
  {
   "cell_type": "code",
   "execution_count": 422,
   "id": "3278c525-97a9-4148-a3ce-70abd5be4969",
   "metadata": {},
   "outputs": [
    {
     "ename": "TypeError",
     "evalue": "'int' object is not iterable",
     "output_type": "error",
     "traceback": [
      "\u001b[0;31m---------------------------------------------------------------------------\u001b[0m",
      "\u001b[0;31mTypeError\u001b[0m                                 Traceback (most recent call last)",
      "Cell \u001b[0;32mIn[422], line 2\u001b[0m\n\u001b[1;32m      1\u001b[0m a\u001b[38;5;241m=\u001b[39m\u001b[38;5;241m5\u001b[39m \n\u001b[0;32m----> 2\u001b[0m \u001b[38;5;28;01mfor\u001b[39;00m i \u001b[38;5;129;01min\u001b[39;00m a:\n\u001b[1;32m      3\u001b[0m     \u001b[38;5;28mprint\u001b[39m(i) \n",
      "\u001b[0;31mTypeError\u001b[0m: 'int' object is not iterable"
     ]
    }
   ],
   "source": [
    "a=5 \n",
    "for i in a:\n",
    "    print(i) "
   ]
  },
  {
   "cell_type": "markdown",
   "id": "c95a5495-8722-4b71-aa56-fb76dd4ed6a4",
   "metadata": {},
   "source": [
    "- 5라고 출력되어야 하지 않나?"
   ]
  },
  {
   "cell_type": "markdown",
   "id": "07d7392c-402a-4064-bba5-208b81f28d36",
   "metadata": {},
   "source": [
    "`-` 의문1: \n",
    "\n",
    "```python\n",
    "for i in ???:\n",
    "    print(i)\n",
    "```\n",
    "\n",
    "에서 ??? 자리에 올수 있는 것이 무엇일까? "
   ]
  },
  {
   "cell_type": "markdown",
   "id": "75952fb5-fea9-45a6-9b87-1630c083d2bf",
   "metadata": {},
   "source": [
    "(예제5)"
   ]
  },
  {
   "cell_type": "markdown",
   "id": "2ff28581-4482-48c4-87ca-35168827f3b2",
   "metadata": {},
   "source": [
    "*상황1*: 우리가 아는 더블리스트"
   ]
  },
  {
   "cell_type": "code",
   "execution_count": 423,
   "id": "7045ada5-15a5-4f76-9bad-7b95eb83082a",
   "metadata": {},
   "outputs": [
    {
     "name": "stdout",
     "output_type": "stream",
     "text": [
      "[1, 2, 3, 4]\n",
      "[3, 4, 5, 6]\n"
     ]
    }
   ],
   "source": [
    "lst = [[1,2,3,4],[3,4,5,6]]\n",
    "for l in lst: \n",
    "    print(l)"
   ]
  },
  {
   "cell_type": "markdown",
   "id": "c17560f8-be06-4c55-82f6-91108e19f033",
   "metadata": {},
   "source": [
    "*상황2*: 더블리스트를 데이터프레임으로 바꾸니까 for의 동작이 미묘하게 달라졌다. "
   ]
  },
  {
   "cell_type": "code",
   "execution_count": 428,
   "id": "bb4a0855-c227-4a67-af9d-1ea4e96b0638",
   "metadata": {},
   "outputs": [
    {
     "data": {
      "text/html": [
       "<div>\n",
       "<style scoped>\n",
       "    .dataframe tbody tr th:only-of-type {\n",
       "        vertical-align: middle;\n",
       "    }\n",
       "\n",
       "    .dataframe tbody tr th {\n",
       "        vertical-align: top;\n",
       "    }\n",
       "\n",
       "    .dataframe thead th {\n",
       "        text-align: right;\n",
       "    }\n",
       "</style>\n",
       "<table border=\"1\" class=\"dataframe\">\n",
       "  <thead>\n",
       "    <tr style=\"text-align: right;\">\n",
       "      <th></th>\n",
       "      <th>0</th>\n",
       "      <th>1</th>\n",
       "      <th>2</th>\n",
       "      <th>3</th>\n",
       "    </tr>\n",
       "  </thead>\n",
       "  <tbody>\n",
       "    <tr>\n",
       "      <th>0</th>\n",
       "      <td>1</td>\n",
       "      <td>2</td>\n",
       "      <td>3</td>\n",
       "      <td>4</td>\n",
       "    </tr>\n",
       "    <tr>\n",
       "      <th>1</th>\n",
       "      <td>3</td>\n",
       "      <td>4</td>\n",
       "      <td>5</td>\n",
       "      <td>6</td>\n",
       "    </tr>\n",
       "  </tbody>\n",
       "</table>\n",
       "</div>"
      ],
      "text/plain": [
       "   0  1  2  3\n",
       "0  1  2  3  4\n",
       "1  3  4  5  6"
      ]
     },
     "execution_count": 428,
     "metadata": {},
     "output_type": "execute_result"
    }
   ],
   "source": [
    "df=pd.DataFrame(lst)\n",
    "df"
   ]
  },
  {
   "cell_type": "code",
   "execution_count": 429,
   "id": "ed99562c-8b05-4fb9-98c1-88e98d23b94a",
   "metadata": {},
   "outputs": [
    {
     "name": "stdout",
     "output_type": "stream",
     "text": [
      "0\n",
      "1\n",
      "2\n",
      "3\n"
     ]
    }
   ],
   "source": [
    "for i in df:\n",
    "    print(i)"
   ]
  },
  {
   "cell_type": "markdown",
   "id": "57e4f059-4c7b-4ba7-b17a-f3edfedc86ef",
   "metadata": {},
   "source": [
    "칼럼이름들이 나오는것 같음 -> 확인해보자. "
   ]
  },
  {
   "cell_type": "code",
   "execution_count": 426,
   "id": "a1c4e2f6-2bf0-44c1-af9b-2786d6bfb288",
   "metadata": {},
   "outputs": [
    {
     "data": {
      "text/html": [
       "<div>\n",
       "<style scoped>\n",
       "    .dataframe tbody tr th:only-of-type {\n",
       "        vertical-align: middle;\n",
       "    }\n",
       "\n",
       "    .dataframe tbody tr th {\n",
       "        vertical-align: top;\n",
       "    }\n",
       "\n",
       "    .dataframe thead th {\n",
       "        text-align: right;\n",
       "    }\n",
       "</style>\n",
       "<table border=\"1\" class=\"dataframe\">\n",
       "  <thead>\n",
       "    <tr style=\"text-align: right;\">\n",
       "      <th></th>\n",
       "      <th>X1</th>\n",
       "      <th>X2</th>\n",
       "      <th>X3</th>\n",
       "      <th>X4</th>\n",
       "    </tr>\n",
       "  </thead>\n",
       "  <tbody>\n",
       "    <tr>\n",
       "      <th>0</th>\n",
       "      <td>1</td>\n",
       "      <td>2</td>\n",
       "      <td>3</td>\n",
       "      <td>4</td>\n",
       "    </tr>\n",
       "    <tr>\n",
       "      <th>1</th>\n",
       "      <td>3</td>\n",
       "      <td>4</td>\n",
       "      <td>5</td>\n",
       "      <td>6</td>\n",
       "    </tr>\n",
       "  </tbody>\n",
       "</table>\n",
       "</div>"
      ],
      "text/plain": [
       "   X1  X2  X3  X4\n",
       "0   1   2   3   4\n",
       "1   3   4   5   6"
      ]
     },
     "execution_count": 426,
     "metadata": {},
     "output_type": "execute_result"
    }
   ],
   "source": [
    "df.columns = pd.Index(['X'+str(i) for i in range(1,5)])\n",
    "df"
   ]
  },
  {
   "cell_type": "code",
   "execution_count": 427,
   "id": "bf1a3339-f9a7-4e90-b0fd-326e60170f19",
   "metadata": {},
   "outputs": [
    {
     "name": "stdout",
     "output_type": "stream",
     "text": [
      "X1\n",
      "X2\n",
      "X3\n",
      "X4\n"
     ]
    }
   ],
   "source": [
    "for i in df: \n",
    "    print(i) "
   ]
  },
  {
   "cell_type": "markdown",
   "id": "42dda276-05ad-4a73-bd04-d45f49b1b299",
   "metadata": {},
   "source": [
    "`-` 의문2: for의 출력결과는 어떻게 예측할 수 있을까?"
   ]
  },
  {
   "cell_type": "markdown",
   "id": "b7e9d826-4aaa-4a4d-ba45-3f65dc708138",
   "metadata": {},
   "source": [
    "### ***for문의 동작원리***"
   ]
  },
  {
   "cell_type": "markdown",
   "id": "b511da3d-d98c-4578-a322-8067c01549d5",
   "metadata": {},
   "source": [
    "`-` 의문1의 해결: 아래의 ??? 자리에 올 수 있는 것은 dir()하여 `__iter__`가 있는 object이다. \n",
    "\n",
    "```python\n",
    "for i in ???:\n",
    "    print(i)\n",
    "```\n",
    "\n",
    "이러한 오브젝트를 iterable object라고 한다. "
   ]
  },
  {
   "cell_type": "markdown",
   "id": "bb917b8f-53ee-43fd-87d1-2507e30c23f0",
   "metadata": {},
   "source": [
    "`-` 확인 "
   ]
  },
  {
   "cell_type": "code",
   "execution_count": 350,
   "id": "4999be97-deb1-4bf5-a6ae-5eb128298fb0",
   "metadata": {},
   "outputs": [
    {
     "data": {
      "text/plain": [
       "{'__iter__'}"
      ]
     },
     "execution_count": 350,
     "metadata": {},
     "output_type": "execute_result"
    }
   ],
   "source": [
    "a=[1,2,3] \n",
    "set(dir(a)) & {'__iter__'}"
   ]
  },
  {
   "cell_type": "code",
   "execution_count": 351,
   "id": "d5d65ddd-3e1d-4e8a-a40b-84c8cbe44094",
   "metadata": {},
   "outputs": [
    {
     "data": {
      "text/plain": [
       "{'__iter__'}"
      ]
     },
     "execution_count": 351,
     "metadata": {},
     "output_type": "execute_result"
    }
   ],
   "source": [
    "a=1,2,3\n",
    "set(dir(a)) & {'__iter__'}"
   ]
  },
  {
   "cell_type": "code",
   "execution_count": 352,
   "id": "19b0f842-8131-4757-8430-7db2e964b242",
   "metadata": {},
   "outputs": [
    {
     "data": {
      "text/plain": [
       "{'__iter__'}"
      ]
     },
     "execution_count": 352,
     "metadata": {},
     "output_type": "execute_result"
    }
   ],
   "source": [
    "a='123'\n",
    "set(dir(a)) & {'__iter__'}"
   ]
  },
  {
   "cell_type": "code",
   "execution_count": 354,
   "id": "ad5c7186-536c-4afd-ac28-a33edbc4e851",
   "metadata": {},
   "outputs": [
    {
     "data": {
      "text/plain": [
       "set()"
      ]
     },
     "execution_count": 354,
     "metadata": {},
     "output_type": "execute_result"
    }
   ],
   "source": [
    "a=5\n",
    "set(dir(a)) & {'__iter__'}"
   ]
  },
  {
   "cell_type": "markdown",
   "id": "74f407c0-4ced-4073-af25-4b87a822a806",
   "metadata": {},
   "source": [
    "- 예상대로 예제1~4에서는 int의 클래스의 instance만 `__iter__` 가 없다. "
   ]
  },
  {
   "cell_type": "markdown",
   "id": "47a7d247-940c-466f-b8e0-9bd4a923c2a7",
   "metadata": {},
   "source": [
    "`-` `__iter__`의 역할: iterable object를 iterator로 만들 수 있다!"
   ]
  },
  {
   "cell_type": "code",
   "execution_count": 449,
   "id": "936f6a92-3912-4f22-b5ee-c4a67daf5f38",
   "metadata": {},
   "outputs": [
    {
     "data": {
      "text/plain": [
       "[1, 2, 3]"
      ]
     },
     "execution_count": 449,
     "metadata": {},
     "output_type": "execute_result"
    }
   ],
   "source": [
    "lst = [1,2,3] \n",
    "lst "
   ]
  },
  {
   "cell_type": "code",
   "execution_count": 450,
   "id": "e50790e5-159e-4abc-b6f8-bcb144bc61be",
   "metadata": {},
   "outputs": [
    {
     "data": {
      "text/plain": [
       "2"
      ]
     },
     "execution_count": 450,
     "metadata": {},
     "output_type": "execute_result"
    }
   ],
   "source": [
    "lst[1] # 충실한 리스트"
   ]
  },
  {
   "cell_type": "code",
   "execution_count": 451,
   "id": "227a7151-aa7e-4eb1-8c1c-b0085975e15b",
   "metadata": {},
   "outputs": [
    {
     "data": {
      "text/plain": [
       "<list_iterator at 0x7f0994f1e4f0>"
      ]
     },
     "execution_count": 451,
     "metadata": {},
     "output_type": "execute_result"
    }
   ],
   "source": [
    "ltor = iter(lst)\n",
    "#ltor = lst.__iter__() \n",
    "ltor"
   ]
  },
  {
   "cell_type": "code",
   "execution_count": 452,
   "id": "04b3ffb5-6fa3-48f1-bb94-1362ea626028",
   "metadata": {},
   "outputs": [
    {
     "ename": "TypeError",
     "evalue": "'list_iterator' object is not subscriptable",
     "output_type": "error",
     "traceback": [
      "\u001b[0;31m---------------------------------------------------------------------------\u001b[0m",
      "\u001b[0;31mTypeError\u001b[0m                                 Traceback (most recent call last)",
      "Cell \u001b[0;32mIn[452], line 1\u001b[0m\n\u001b[0;32m----> 1\u001b[0m \u001b[43mltor\u001b[49m\u001b[43m[\u001b[49m\u001b[38;5;241;43m1\u001b[39;49m\u001b[43m]\u001b[49m \u001b[38;5;66;03m# 더이상 리스트가 아니다\u001b[39;00m\n",
      "\u001b[0;31mTypeError\u001b[0m: 'list_iterator' object is not subscriptable"
     ]
    }
   ],
   "source": [
    "ltor[1] # 더이상 리스트가 아니다"
   ]
  },
  {
   "cell_type": "code",
   "execution_count": 453,
   "id": "daba51ac-c832-499c-8482-e77bea4f9ec4",
   "metadata": {},
   "outputs": [
    {
     "data": {
      "text/plain": [
       "\u001b[0;31mType:\u001b[0m        list_iterator\n",
       "\u001b[0;31mString form:\u001b[0m <list_iterator object at 0x7f0994f1e4f0>\n",
       "\u001b[0;31mDocstring:\u001b[0m   <no docstring>"
      ]
     },
     "metadata": {},
     "output_type": "display_data"
    }
   ],
   "source": [
    "ltor?"
   ]
  },
  {
   "cell_type": "markdown",
   "id": "0a08ec75-9fbb-476b-afd3-754f9c39901a",
   "metadata": {},
   "source": [
    "`-` iterator가 되면 무엇이 좋은가? -> 숨겨진 기능 `__next__`가 열린다. "
   ]
  },
  {
   "cell_type": "code",
   "execution_count": 454,
   "id": "bd49c506-6262-4bad-b126-9e8cc8062206",
   "metadata": {},
   "outputs": [
    {
     "data": {
      "text/plain": [
       "(set(), {'__next__'})"
      ]
     },
     "execution_count": 454,
     "metadata": {},
     "output_type": "execute_result"
    }
   ],
   "source": [
    "set(dir(lst)) & {'__next__'}, set(dir(ltor)) & {'__next__'}"
   ]
  },
  {
   "cell_type": "markdown",
   "id": "2ee8e6fa-70cf-45d7-a760-29f4b69e0bac",
   "metadata": {},
   "source": [
    "- lst에는 `__next__`가 없지만 ltor에는 있다!"
   ]
  },
  {
   "cell_type": "markdown",
   "id": "fd1acfab-4550-4534-8399-5e504750079f",
   "metadata": {},
   "source": [
    "`-` 그래서 `__next__`의 기능은? -> 원소를 차례대로 꺼내준다 + 더 이상 꺼낼 원소가 없으면 StopIteration Error를 발생시킨다. "
   ]
  },
  {
   "cell_type": "code",
   "execution_count": 455,
   "id": "e11771fe-3a2b-4858-9260-c0342b5e9024",
   "metadata": {},
   "outputs": [
    {
     "data": {
      "text/plain": [
       "[1, 2, 3]"
      ]
     },
     "execution_count": 455,
     "metadata": {},
     "output_type": "execute_result"
    }
   ],
   "source": [
    "lst"
   ]
  },
  {
   "cell_type": "code",
   "execution_count": 456,
   "id": "3c2369b5-131f-4cc0-a158-95bda3c2d4dc",
   "metadata": {},
   "outputs": [
    {
     "data": {
      "text/plain": [
       "1"
      ]
     },
     "execution_count": 456,
     "metadata": {},
     "output_type": "execute_result"
    }
   ],
   "source": [
    "ltor.__next__() "
   ]
  },
  {
   "cell_type": "code",
   "execution_count": 457,
   "id": "60ac15de-2ff6-4531-99d5-ca0ff14ec601",
   "metadata": {},
   "outputs": [
    {
     "data": {
      "text/plain": [
       "2"
      ]
     },
     "execution_count": 457,
     "metadata": {},
     "output_type": "execute_result"
    }
   ],
   "source": [
    "ltor.__next__() "
   ]
  },
  {
   "cell_type": "code",
   "execution_count": 458,
   "id": "a43b9bc6-aef7-4e63-bae4-d664ac773ccf",
   "metadata": {},
   "outputs": [
    {
     "data": {
      "text/plain": [
       "3"
      ]
     },
     "execution_count": 458,
     "metadata": {},
     "output_type": "execute_result"
    }
   ],
   "source": [
    "ltor.__next__() "
   ]
  },
  {
   "cell_type": "code",
   "execution_count": 459,
   "id": "4c660172-9707-45af-a242-6f432caaa91c",
   "metadata": {},
   "outputs": [
    {
     "ename": "StopIteration",
     "evalue": "",
     "output_type": "error",
     "traceback": [
      "\u001b[0;31m---------------------------------------------------------------------------\u001b[0m",
      "\u001b[0;31mStopIteration\u001b[0m                             Traceback (most recent call last)",
      "Cell \u001b[0;32mIn[459], line 1\u001b[0m\n\u001b[0;32m----> 1\u001b[0m \u001b[43mltor\u001b[49m\u001b[38;5;241;43m.\u001b[39;49m\u001b[38;5;21;43m__next__\u001b[39;49m\u001b[43m(\u001b[49m\u001b[43m)\u001b[49m\n",
      "\u001b[0;31mStopIteration\u001b[0m: "
     ]
    }
   ],
   "source": [
    "ltor.__next__()"
   ]
  },
  {
   "cell_type": "markdown",
   "id": "ea86440a-f612-438d-adce-58d8eec27c06",
   "metadata": {},
   "source": [
    "`-` for문의 동작원리 \n",
    "\n",
    "```python\n",
    "for i in something:\n",
    "    print(i)\n",
    "```\n",
    "\n",
    "1. `something.__iter__()` 혹은 `iter(something)` 를 이용하여 something을 iterator로 만든다. (iterable object를 iterator로 만든다) 만약에 이미 something이 iterator 라면 아무일도 하지 않는다.^[사실 이미 something이 iterator인 경우에는 iter(something)를 하면 자기자신이 리턴된다.] \n",
    "2. 1의 결과로 만들어진 iterator 에서 `.__next__()`함수를 호출하고 결과를 i에 저장한뒤에 for문 블락안에 있는 내용 (들여쓰기 된 내용)을 실행한다. -> 반복\n",
    "3. StopIteration 에러가 발생하면 for문을 멈춘다. "
   ]
  },
  {
   "cell_type": "markdown",
   "id": "ccb2e210-3c40-4b1d-a9d0-6734519e03ad",
   "metadata": {},
   "source": [
    "`-` 아래의 ??? 자리에 올 수 있는 것이 iterable object가 아니라 iterator 자체일 경우\n",
    "\n",
    "```python\n",
    "for i in ???:\n",
    "    print(i)\n",
    "```"
   ]
  },
  {
   "cell_type": "code",
   "execution_count": 460,
   "id": "dc29294e-f7e9-489c-b300-9952ade4a39b",
   "metadata": {},
   "outputs": [
    {
     "name": "stdout",
     "output_type": "stream",
     "text": [
      "1\n",
      "2\n",
      "3\n"
     ]
    }
   ],
   "source": [
    "ltor = iter(lst)\n",
    "for i in ltor:\n",
    "    print(i)"
   ]
  },
  {
   "cell_type": "markdown",
   "id": "c0ad85ae-7ab2-4d59-8fa6-5f24c9a77f8c",
   "metadata": {},
   "source": [
    "- for문은 잘 돌아감 "
   ]
  },
  {
   "cell_type": "code",
   "execution_count": 464,
   "id": "28104554-5030-46bf-9f36-81db910c74ef",
   "metadata": {},
   "outputs": [
    {
     "data": {
      "text/plain": [
       "<list_iterator at 0x7f0994e91af0>"
      ]
     },
     "execution_count": 464,
     "metadata": {},
     "output_type": "execute_result"
    }
   ],
   "source": [
    "ltor = iter(lst)\n",
    "ltor"
   ]
  },
  {
   "cell_type": "code",
   "execution_count": 465,
   "id": "406a483d-4ff6-4741-8611-171bef1e4717",
   "metadata": {},
   "outputs": [
    {
     "data": {
      "text/plain": [
       "<list_iterator at 0x7f0994e91af0>"
      ]
     },
     "execution_count": 465,
     "metadata": {},
     "output_type": "execute_result"
    }
   ],
   "source": [
    "iter(ltor) # 이미 iterator인 상태에서는 iter를 써도 자기자신을 리턴한다."
   ]
  },
  {
   "cell_type": "markdown",
   "id": "3d5638a5-bc04-4b5c-b159-2b8074045127",
   "metadata": {},
   "source": [
    "`-` 요약\n",
    "- iterable object는 숨겨진 기능으로 `__iter__`를 가진다. \n",
    "- iterator는 숨겨진 기능으로 `__iter__`와 `__next__`를 가진다. 따라서 정의상 iterator는 그 자체로 iterable object가 된다!"
   ]
  },
  {
   "cell_type": "code",
   "execution_count": 466,
   "id": "8a266d7f-0c34-46f9-bceb-4e59ea93ca82",
   "metadata": {},
   "outputs": [],
   "source": [
    "lst = [1,2,3]\n",
    "ltor = iter(lst) "
   ]
  },
  {
   "cell_type": "code",
   "execution_count": 467,
   "id": "b8031af2-99c6-4fc6-b79f-43db8d462c8e",
   "metadata": {},
   "outputs": [
    {
     "data": {
      "text/plain": [
       "{'__iter__'}"
      ]
     },
     "execution_count": 467,
     "metadata": {},
     "output_type": "execute_result"
    }
   ],
   "source": [
    "set(dir(lst)) & {'__iter__', '__next__'}"
   ]
  },
  {
   "cell_type": "code",
   "execution_count": 468,
   "id": "dcb601bc-800a-4339-b939-8f7f2f016916",
   "metadata": {},
   "outputs": [
    {
     "data": {
      "text/plain": [
       "{'__iter__', '__next__'}"
      ]
     },
     "execution_count": 468,
     "metadata": {},
     "output_type": "execute_result"
    }
   ],
   "source": [
    "set(dir(ltor)) & {'__iter__', '__next__'}"
   ]
  },
  {
   "cell_type": "markdown",
   "id": "885a421f-f44d-4eb3-974a-2252ceaf6827",
   "metadata": {},
   "source": [
    "`-` 의문2의 해결: for의 출력결과는 어떻게 예측할 수 있을까? iterator를 만들어서 `.__next__()`의 출력값을 확인하면 알 수 있다. "
   ]
  },
  {
   "cell_type": "code",
   "execution_count": 470,
   "id": "557beb99-3ec7-4fe1-a075-84b8e120095a",
   "metadata": {},
   "outputs": [
    {
     "data": {
      "text/html": [
       "<div>\n",
       "<style scoped>\n",
       "    .dataframe tbody tr th:only-of-type {\n",
       "        vertical-align: middle;\n",
       "    }\n",
       "\n",
       "    .dataframe tbody tr th {\n",
       "        vertical-align: top;\n",
       "    }\n",
       "\n",
       "    .dataframe thead th {\n",
       "        text-align: right;\n",
       "    }\n",
       "</style>\n",
       "<table border=\"1\" class=\"dataframe\">\n",
       "  <thead>\n",
       "    <tr style=\"text-align: right;\">\n",
       "      <th></th>\n",
       "      <th>X1</th>\n",
       "      <th>X2</th>\n",
       "      <th>X3</th>\n",
       "      <th>X4</th>\n",
       "    </tr>\n",
       "  </thead>\n",
       "  <tbody>\n",
       "    <tr>\n",
       "      <th>0</th>\n",
       "      <td>1</td>\n",
       "      <td>2</td>\n",
       "      <td>3</td>\n",
       "      <td>4</td>\n",
       "    </tr>\n",
       "    <tr>\n",
       "      <th>1</th>\n",
       "      <td>3</td>\n",
       "      <td>4</td>\n",
       "      <td>5</td>\n",
       "      <td>6</td>\n",
       "    </tr>\n",
       "  </tbody>\n",
       "</table>\n",
       "</div>"
      ],
      "text/plain": [
       "   X1  X2  X3  X4\n",
       "0   1   2   3   4\n",
       "1   3   4   5   6"
      ]
     },
     "execution_count": 470,
     "metadata": {},
     "output_type": "execute_result"
    }
   ],
   "source": [
    "df.columns = pd.Index(['X'+str(i) for i in range(1,5)])\n",
    "df"
   ]
  },
  {
   "cell_type": "code",
   "execution_count": 471,
   "id": "ae1d7f7d-6ba3-4218-9954-bf87173e0209",
   "metadata": {},
   "outputs": [
    {
     "name": "stdout",
     "output_type": "stream",
     "text": [
      "X1\n",
      "X2\n",
      "X3\n",
      "X4\n"
     ]
    }
   ],
   "source": [
    "for i in df:\n",
    "    print(i)"
   ]
  },
  {
   "cell_type": "code",
   "execution_count": 472,
   "id": "f873eb37-7a95-467a-8e22-f8669f2deccf",
   "metadata": {},
   "outputs": [
    {
     "data": {
      "text/plain": [
       "'X1'"
      ]
     },
     "execution_count": 472,
     "metadata": {},
     "output_type": "execute_result"
    }
   ],
   "source": [
    "dftor=iter(df)\n",
    "dftor.__next__()"
   ]
  },
  {
   "cell_type": "code",
   "execution_count": 473,
   "id": "e8347cae-04d8-4043-b6ab-c1ca87f45e6a",
   "metadata": {},
   "outputs": [
    {
     "data": {
      "text/plain": [
       "'X2'"
      ]
     },
     "execution_count": 473,
     "metadata": {},
     "output_type": "execute_result"
    }
   ],
   "source": [
    "dftor.__next__()"
   ]
  },
  {
   "cell_type": "code",
   "execution_count": 474,
   "id": "ef2dc941-a3f3-49a3-be91-23633e346ca1",
   "metadata": {},
   "outputs": [
    {
     "data": {
      "text/plain": [
       "'X3'"
      ]
     },
     "execution_count": 474,
     "metadata": {},
     "output_type": "execute_result"
    }
   ],
   "source": [
    "dftor.__next__()"
   ]
  },
  {
   "cell_type": "code",
   "execution_count": 475,
   "id": "0255f983-f6eb-4bb0-bc6d-3a79e3cdc4c6",
   "metadata": {},
   "outputs": [
    {
     "data": {
      "text/plain": [
       "'X4'"
      ]
     },
     "execution_count": 475,
     "metadata": {},
     "output_type": "execute_result"
    }
   ],
   "source": [
    "dftor.__next__()"
   ]
  },
  {
   "cell_type": "code",
   "execution_count": 476,
   "id": "d5d2862d-f120-49df-9123-cff2e6288f2e",
   "metadata": {},
   "outputs": [
    {
     "ename": "StopIteration",
     "evalue": "",
     "output_type": "error",
     "traceback": [
      "\u001b[0;31m---------------------------------------------------------------------------\u001b[0m",
      "\u001b[0;31mStopIteration\u001b[0m                             Traceback (most recent call last)",
      "Cell \u001b[0;32mIn[476], line 1\u001b[0m\n\u001b[0;32m----> 1\u001b[0m \u001b[43mdftor\u001b[49m\u001b[38;5;241;43m.\u001b[39;49m\u001b[38;5;21;43m__next__\u001b[39;49m\u001b[43m(\u001b[49m\u001b[43m)\u001b[49m\n",
      "\u001b[0;31mStopIteration\u001b[0m: "
     ]
    }
   ],
   "source": [
    "dftor.__next__()"
   ]
  },
  {
   "cell_type": "markdown",
   "id": "6ecc8810-7741-4929-902e-c8f6a5f205d7",
   "metadata": {},
   "source": [
    "### ***range()***"
   ]
  },
  {
   "cell_type": "markdown",
   "id": "ff816bee-3bfe-4a4c-b778-890b45e7e4ed",
   "metadata": {},
   "source": [
    "`-` 파이썬에서 for문을 처음 배울 때: range(5)를 써라!"
   ]
  },
  {
   "cell_type": "code",
   "execution_count": 405,
   "id": "a244ddfa-69e7-4d9f-944f-90679649bf49",
   "metadata": {},
   "outputs": [
    {
     "name": "stdout",
     "output_type": "stream",
     "text": [
      "0\n",
      "1\n",
      "2\n",
      "3\n",
      "4\n"
     ]
    }
   ],
   "source": [
    "for i in range(5):\n",
    "    print(i)"
   ]
  },
  {
   "cell_type": "markdown",
   "id": "bea6703f-1b7c-4430-a53d-6e8c95cbbc7d",
   "metadata": {},
   "source": [
    "- range(5)가 도데체 무엇이길래? "
   ]
  },
  {
   "cell_type": "markdown",
   "id": "4c7a5787-c8be-4694-9406-527ec26d9b23",
   "metadata": {},
   "source": [
    "`-` `range(5)`의 정체는 그냥 iterable object이다. "
   ]
  },
  {
   "cell_type": "code",
   "execution_count": 411,
   "id": "284d89b6-b0c1-4a64-b095-1e277aed0d1b",
   "metadata": {},
   "outputs": [
    {
     "data": {
      "text/plain": [
       "{'__iter__'}"
      ]
     },
     "execution_count": 411,
     "metadata": {},
     "output_type": "execute_result"
    }
   ],
   "source": [
    "set(dir(range(5))) & {'__iter__','__next__'}"
   ]
  },
  {
   "cell_type": "markdown",
   "id": "6ad5bb76-091f-4cf6-923a-cebeeb28710d",
   "metadata": {},
   "source": [
    "`-` 그래서 언제든지 iterator로 바꿀 수 있다. "
   ]
  },
  {
   "cell_type": "code",
   "execution_count": 415,
   "id": "6965594e-ceba-4a5c-9406-77d3bce989e3",
   "metadata": {},
   "outputs": [
    {
     "data": {
      "text/plain": [
       "<range_iterator at 0x7f68c2ff2b70>"
      ]
     },
     "execution_count": 415,
     "metadata": {},
     "output_type": "execute_result"
    }
   ],
   "source": [
    "rtor= iter(range(5))\n",
    "rtor"
   ]
  },
  {
   "cell_type": "code",
   "execution_count": 416,
   "id": "5e1648cf-8c07-470e-bf8e-7bef3c4d117c",
   "metadata": {},
   "outputs": [
    {
     "data": {
      "text/plain": [
       "{'__iter__', '__next__'}"
      ]
     },
     "execution_count": 416,
     "metadata": {},
     "output_type": "execute_result"
    }
   ],
   "source": [
    "set(dir(rtor)) &  {'__iter__','__next__'}"
   ]
  },
  {
   "cell_type": "markdown",
   "id": "c0c160a6-87bd-4eee-8d8f-d1e911062596",
   "metadata": {},
   "source": [
    "`-` for문에서 range(5)가 행동하는 방법? "
   ]
  },
  {
   "cell_type": "code",
   "execution_count": 417,
   "id": "016caddc-cf06-4e92-8417-ce511668c52b",
   "metadata": {},
   "outputs": [],
   "source": [
    "rtor = iter(range(5))"
   ]
  },
  {
   "cell_type": "code",
   "execution_count": 418,
   "id": "706c03eb-a223-40ef-af66-b248956a0225",
   "metadata": {},
   "outputs": [
    {
     "data": {
      "text/plain": [
       "0"
      ]
     },
     "execution_count": 418,
     "metadata": {},
     "output_type": "execute_result"
    }
   ],
   "source": [
    "rtor.__next__()"
   ]
  },
  {
   "cell_type": "code",
   "execution_count": 419,
   "id": "e05f926a-16b7-4e46-9667-5156a7416d54",
   "metadata": {},
   "outputs": [
    {
     "data": {
      "text/plain": [
       "1"
      ]
     },
     "execution_count": 419,
     "metadata": {},
     "output_type": "execute_result"
    }
   ],
   "source": [
    "rtor.__next__()"
   ]
  },
  {
   "cell_type": "code",
   "execution_count": 420,
   "id": "b5360b19-9c6c-4f03-8c8a-383373a20614",
   "metadata": {},
   "outputs": [
    {
     "data": {
      "text/plain": [
       "2"
      ]
     },
     "execution_count": 420,
     "metadata": {},
     "output_type": "execute_result"
    }
   ],
   "source": [
    "rtor.__next__()"
   ]
  },
  {
   "cell_type": "code",
   "execution_count": 421,
   "id": "e5bb10f1-4277-4467-92ef-63050debc086",
   "metadata": {},
   "outputs": [
    {
     "data": {
      "text/plain": [
       "3"
      ]
     },
     "execution_count": 421,
     "metadata": {},
     "output_type": "execute_result"
    }
   ],
   "source": [
    "rtor.__next__()"
   ]
  },
  {
   "cell_type": "code",
   "execution_count": 422,
   "id": "f089c1f9-1f18-48a1-b44a-52b751d319b8",
   "metadata": {},
   "outputs": [
    {
     "data": {
      "text/plain": [
       "4"
      ]
     },
     "execution_count": 422,
     "metadata": {},
     "output_type": "execute_result"
    }
   ],
   "source": [
    "rtor.__next__()"
   ]
  },
  {
   "cell_type": "code",
   "execution_count": 423,
   "id": "1e4348e1-0623-4537-94e6-0362520db2cf",
   "metadata": {},
   "outputs": [
    {
     "ename": "StopIteration",
     "evalue": "",
     "output_type": "error",
     "traceback": [
      "\u001b[0;31m---------------------------------------------------------------------------\u001b[0m",
      "\u001b[0;31mStopIteration\u001b[0m                             Traceback (most recent call last)",
      "Input \u001b[0;32mIn [423]\u001b[0m, in \u001b[0;36m<cell line: 1>\u001b[0;34m()\u001b[0m\n\u001b[0;32m----> 1\u001b[0m \u001b[43mrtor\u001b[49m\u001b[38;5;241;43m.\u001b[39;49m\u001b[38;5;21;43m__next__\u001b[39;49m\u001b[43m(\u001b[49m\u001b[43m)\u001b[49m\n",
      "\u001b[0;31mStopIteration\u001b[0m: "
     ]
    }
   ],
   "source": [
    "rtor.__next__()"
   ]
  },
  {
   "cell_type": "markdown",
   "id": "7e4e71c5-074b-477e-81b1-4e4d0bdc5d63",
   "metadata": {},
   "source": [
    "### ***zip***"
   ]
  },
  {
   "cell_type": "markdown",
   "id": "bc095542-cb78-4e9f-9618-e5b73b07fbd4",
   "metadata": {},
   "source": [
    "`-` 이터레이터의 개념을 알면 for문에 대한 이해도가 대폭 상승한다. "
   ]
  },
  {
   "cell_type": "code",
   "execution_count": 424,
   "id": "b0d99dca-8656-477d-8e36-1cb0880e8384",
   "metadata": {},
   "outputs": [
    {
     "name": "stdout",
     "output_type": "stream",
     "text": [
      "(1, 'a')\n",
      "(2, 'b')\n",
      "(3, 'c')\n"
     ]
    }
   ],
   "source": [
    "for i in zip([1,2,3],'abc'):\n",
    "    print(i)"
   ]
  },
  {
   "cell_type": "markdown",
   "id": "ffb35a62-c690-47e2-91a6-1cad00e820c6",
   "metadata": {},
   "source": [
    "- zip은 뭐지?"
   ]
  },
  {
   "cell_type": "code",
   "execution_count": 425,
   "id": "938e4da2-b6c8-46b6-b863-8359bdcac746",
   "metadata": {},
   "outputs": [
    {
     "data": {
      "text/plain": [
       "<zip at 0x7f68c2ff7bc0>"
      ]
     },
     "execution_count": 425,
     "metadata": {},
     "output_type": "execute_result"
    }
   ],
   "source": [
    "zip([1,2,3],'abc')"
   ]
  },
  {
   "cell_type": "markdown",
   "id": "715e0114-d897-49e4-8629-d9ab708db595",
   "metadata": {},
   "source": [
    "`-` 어차피 `for i in ????`: 의 ???? 자리는 iterable object의 자리이다. "
   ]
  },
  {
   "cell_type": "code",
   "execution_count": 428,
   "id": "4f5a5504-d011-4d1b-b876-1cb869a7976b",
   "metadata": {},
   "outputs": [
    {
     "data": {
      "text/plain": [
       "{'__iter__', '__next__'}"
      ]
     },
     "execution_count": 428,
     "metadata": {},
     "output_type": "execute_result"
    }
   ],
   "source": [
    "set(dir(zip([1,2,3],'abc'))) & {'__iter__','__next__'}"
   ]
  },
  {
   "cell_type": "markdown",
   "id": "3792b544-5796-4e35-8991-36ebb00e864e",
   "metadata": {},
   "source": [
    "- `__next__()`함수가 있음 $\\to$ `zip([1,2,3],'abc')`은 그자체로 iterator 였다!"
   ]
  },
  {
   "cell_type": "code",
   "execution_count": 429,
   "id": "0d23fbf1-77f5-494d-8d0a-bce83f38d4b4",
   "metadata": {},
   "outputs": [],
   "source": [
    "z= zip([1,2,3],'abc')"
   ]
  },
  {
   "cell_type": "code",
   "execution_count": 430,
   "id": "a96fe763-2f65-490f-a140-bb3dfbdd14ca",
   "metadata": {},
   "outputs": [
    {
     "data": {
      "text/plain": [
       "(1, 'a')"
      ]
     },
     "execution_count": 430,
     "metadata": {},
     "output_type": "execute_result"
    }
   ],
   "source": [
    "z.__next__()"
   ]
  },
  {
   "cell_type": "code",
   "execution_count": 431,
   "id": "3b449a17-cea2-4e2e-9a74-0c564c231e11",
   "metadata": {},
   "outputs": [
    {
     "data": {
      "text/plain": [
       "(2, 'b')"
      ]
     },
     "execution_count": 431,
     "metadata": {},
     "output_type": "execute_result"
    }
   ],
   "source": [
    "z.__next__()"
   ]
  },
  {
   "cell_type": "code",
   "execution_count": 432,
   "id": "0c2a4bce-e7c7-4c71-a10e-4cb305bd2eb7",
   "metadata": {},
   "outputs": [
    {
     "data": {
      "text/plain": [
       "(3, 'c')"
      ]
     },
     "execution_count": 432,
     "metadata": {},
     "output_type": "execute_result"
    }
   ],
   "source": [
    "z.__next__()"
   ]
  },
  {
   "cell_type": "code",
   "execution_count": 433,
   "id": "1047b77b-9468-41f3-be57-42a7c15e3a61",
   "metadata": {},
   "outputs": [
    {
     "ename": "StopIteration",
     "evalue": "",
     "output_type": "error",
     "traceback": [
      "\u001b[0;31m---------------------------------------------------------------------------\u001b[0m",
      "\u001b[0;31mStopIteration\u001b[0m                             Traceback (most recent call last)",
      "Input \u001b[0;32mIn [433]\u001b[0m, in \u001b[0;36m<cell line: 1>\u001b[0;34m()\u001b[0m\n\u001b[0;32m----> 1\u001b[0m \u001b[43mz\u001b[49m\u001b[38;5;241;43m.\u001b[39;49m\u001b[38;5;21;43m__next__\u001b[39;49m\u001b[43m(\u001b[49m\u001b[43m)\u001b[49m\n",
      "\u001b[0;31mStopIteration\u001b[0m: "
     ]
    }
   ],
   "source": [
    "z.__next__()"
   ]
  },
  {
   "cell_type": "markdown",
   "id": "b7ba4e32-beb6-4c49-964d-0355a02b58f5",
   "metadata": {},
   "source": [
    "***또다른 이해: 그러고보니까 `zip([1,2,3],'abc')`은 뭐하는 문법이지?***"
   ]
  },
  {
   "cell_type": "code",
   "execution_count": 489,
   "id": "21ff13f4-4ddd-40b4-b070-715c14cfaec6",
   "metadata": {},
   "outputs": [
    {
     "data": {
      "text/plain": [
       "\u001b[0;31mInit signature:\u001b[0m \u001b[0mzip\u001b[0m\u001b[0;34m(\u001b[0m\u001b[0mself\u001b[0m\u001b[0;34m,\u001b[0m \u001b[0;34m/\u001b[0m\u001b[0;34m,\u001b[0m \u001b[0;34m*\u001b[0m\u001b[0margs\u001b[0m\u001b[0;34m,\u001b[0m \u001b[0;34m**\u001b[0m\u001b[0mkwargs\u001b[0m\u001b[0;34m)\u001b[0m\u001b[0;34m\u001b[0m\u001b[0;34m\u001b[0m\u001b[0m\n",
       "\u001b[0;31mDocstring:\u001b[0m     \n",
       "zip(*iterables) --> A zip object yielding tuples until an input is exhausted.\n",
       "\n",
       "   >>> list(zip('abcdefg', range(3), range(4)))\n",
       "   [('a', 0, 0), ('b', 1, 1), ('c', 2, 2)]\n",
       "\n",
       "The zip object yields n-length tuples, where n is the number of iterables\n",
       "passed as positional arguments to zip().  The i-th element in every tuple\n",
       "comes from the i-th iterable argument to zip().  This continues until the\n",
       "shortest argument is exhausted.\n",
       "\u001b[0;31mType:\u001b[0m           type\n",
       "\u001b[0;31mSubclasses:\u001b[0m     "
      ]
     },
     "metadata": {},
     "output_type": "display_data"
    }
   ],
   "source": [
    "zip?"
   ]
  },
  {
   "cell_type": "markdown",
   "id": "24463937-e55c-4154-b224-313f321660b6",
   "metadata": {},
   "source": [
    "- 너 클래스였어? "
   ]
  },
  {
   "cell_type": "code",
   "execution_count": 508,
   "id": "b34f258a-5c0a-4f42-8282-f1ee408a1405",
   "metadata": {},
   "outputs": [],
   "source": [
    "iterator_from_zip = zip.__call__([1,2,3],'abc')"
   ]
  },
  {
   "cell_type": "code",
   "execution_count": 509,
   "id": "b09aa4ec-f6ec-463a-a40c-434a7931c21f",
   "metadata": {},
   "outputs": [
    {
     "name": "stdout",
     "output_type": "stream",
     "text": [
      "1 a\n",
      "2 b\n",
      "3 c\n"
     ]
    }
   ],
   "source": [
    "for i,j in iterator_from_zip:\n",
    "    print(i,j)"
   ]
  },
  {
   "cell_type": "markdown",
   "id": "f611b7c3-554a-4802-8809-f11b8d180cf0",
   "metadata": {},
   "source": [
    "> 파이썬의 작은 비밀: zip은 iterator를 찍어내는 클래스이다. "
   ]
  },
  {
   "cell_type": "markdown",
   "id": "f4bab4b6-7ce2-4336-9ee2-0857336a3299",
   "metadata": {
    "tags": []
   },
   "source": [
    "### ***enumerate***"
   ]
  },
  {
   "cell_type": "markdown",
   "id": "12c7b344-314b-49d1-9533-57ab66a0c63c",
   "metadata": {},
   "source": [
    "`-` zip의 짝궁으로 enumerate가 있음 "
   ]
  },
  {
   "cell_type": "code",
   "execution_count": 510,
   "id": "4a2fb88f-619c-4f5c-8e2f-c004559d0f20",
   "metadata": {},
   "outputs": [
    {
     "name": "stdout",
     "output_type": "stream",
     "text": [
      "(0, 'a')\n",
      "(1, 'b')\n",
      "(2, 'c')\n"
     ]
    }
   ],
   "source": [
    "for i in enumerate('abc'):\n",
    "    print(i)"
   ]
  },
  {
   "cell_type": "markdown",
   "id": "c193e743-398f-4634-a989-006545dc351d",
   "metadata": {},
   "source": [
    "`-` `enumerate('abc')`도 문법상 iterable object 아니면 iterator 임."
   ]
  },
  {
   "cell_type": "code",
   "execution_count": 512,
   "id": "c602d7b0-7c98-40ae-b8d8-d4494be8bfbc",
   "metadata": {},
   "outputs": [
    {
     "data": {
      "text/plain": [
       "{'__iter__', '__next__'}"
      ]
     },
     "execution_count": 512,
     "metadata": {},
     "output_type": "execute_result"
    }
   ],
   "source": [
    "set(dir(enumerate('abc'))) & {'__iter__', '__next__'}"
   ]
  },
  {
   "cell_type": "markdown",
   "id": "f8d8b1a8-7fa7-4941-aa6a-64b40d0655bb",
   "metadata": {},
   "source": [
    "- iterator 였군 "
   ]
  },
  {
   "cell_type": "code",
   "execution_count": 514,
   "id": "a69d44c3-8bb2-487f-a2d6-6f8e3724b0cc",
   "metadata": {},
   "outputs": [],
   "source": [
    "iterator = enumerate('abc')"
   ]
  },
  {
   "cell_type": "code",
   "execution_count": 515,
   "id": "f4477dba-64df-4cfc-9689-68b853342ee9",
   "metadata": {},
   "outputs": [
    {
     "data": {
      "text/plain": [
       "(0, 'a')"
      ]
     },
     "execution_count": 515,
     "metadata": {},
     "output_type": "execute_result"
    }
   ],
   "source": [
    "next(iterator)"
   ]
  },
  {
   "cell_type": "code",
   "execution_count": 516,
   "id": "ac338b79-3c1f-408b-8dc0-d8fc015897bd",
   "metadata": {},
   "outputs": [
    {
     "data": {
      "text/plain": [
       "(1, 'b')"
      ]
     },
     "execution_count": 516,
     "metadata": {},
     "output_type": "execute_result"
    }
   ],
   "source": [
    "next(iterator)"
   ]
  },
  {
   "cell_type": "code",
   "execution_count": 517,
   "id": "af5e39b9-5b6e-4ad0-b9e1-d1a5f26c165c",
   "metadata": {},
   "outputs": [
    {
     "data": {
      "text/plain": [
       "(2, 'c')"
      ]
     },
     "execution_count": 517,
     "metadata": {},
     "output_type": "execute_result"
    }
   ],
   "source": [
    "next(iterator)"
   ]
  },
  {
   "cell_type": "code",
   "execution_count": 518,
   "id": "580517e2-8da4-4cb9-810d-d97932e88215",
   "metadata": {},
   "outputs": [
    {
     "ename": "StopIteration",
     "evalue": "",
     "output_type": "error",
     "traceback": [
      "\u001b[0;31m---------------------------------------------------------------------------\u001b[0m",
      "\u001b[0;31mStopIteration\u001b[0m                             Traceback (most recent call last)",
      "Cell \u001b[0;32mIn[518], line 1\u001b[0m\n\u001b[0;32m----> 1\u001b[0m \u001b[38;5;28;43mnext\u001b[39;49m\u001b[43m(\u001b[49m\u001b[43miterator\u001b[49m\u001b[43m)\u001b[49m\n",
      "\u001b[0;31mStopIteration\u001b[0m: "
     ]
    }
   ],
   "source": [
    "next(iterator)"
   ]
  },
  {
   "cell_type": "markdown",
   "id": "b34c7774-54e8-4aaf-ad97-f0a983ebfc0c",
   "metadata": {},
   "source": [
    "`-` 참고: enumerate 는 클래스임 "
   ]
  },
  {
   "cell_type": "code",
   "execution_count": 519,
   "id": "1b11b264-72b6-4996-91e2-32e3bfe084c3",
   "metadata": {},
   "outputs": [
    {
     "data": {
      "text/plain": [
       "\u001b[0;31mInit signature:\u001b[0m \u001b[0menumerate\u001b[0m\u001b[0;34m(\u001b[0m\u001b[0miterable\u001b[0m\u001b[0;34m,\u001b[0m \u001b[0mstart\u001b[0m\u001b[0;34m=\u001b[0m\u001b[0;36m0\u001b[0m\u001b[0;34m)\u001b[0m\u001b[0;34m\u001b[0m\u001b[0;34m\u001b[0m\u001b[0m\n",
       "\u001b[0;31mDocstring:\u001b[0m     \n",
       "Return an enumerate object.\n",
       "\n",
       "  iterable\n",
       "    an object supporting iteration\n",
       "\n",
       "The enumerate object yields pairs containing a count (from start, which\n",
       "defaults to zero) and a value yielded by the iterable argument.\n",
       "\n",
       "enumerate is useful for obtaining an indexed list:\n",
       "    (0, seq[0]), (1, seq[1]), (2, seq[2]), ...\n",
       "\u001b[0;31mType:\u001b[0m           type\n",
       "\u001b[0;31mSubclasses:\u001b[0m     "
      ]
     },
     "metadata": {},
     "output_type": "display_data"
    }
   ],
   "source": [
    "enumerate?"
   ]
  },
  {
   "cell_type": "markdown",
   "id": "80d344bf-fc2e-433b-9f3b-21bfc034e222",
   "metadata": {},
   "source": [
    "> 파이썬의 작은 비밀: enumerate 역시 iterator를 찍어내는 클래스다. "
   ]
  },
  {
   "cell_type": "markdown",
   "id": "7be5ae9b-6cc6-4b31-906c-835760bfaf5d",
   "metadata": {},
   "source": [
    "### ***사용자정의 이터레이터***"
   ]
  },
  {
   "cell_type": "markdown",
   "id": "be7dcbd9-537c-4e89-bb6c-eefba2ac8b34",
   "metadata": {},
   "source": [
    "`-` 내가 이터레이터를 만들어보자. "
   ]
  },
  {
   "cell_type": "code",
   "execution_count": 520,
   "id": "545b5a4e-1829-4a4c-804e-981fe754d315",
   "metadata": {},
   "outputs": [],
   "source": [
    "class RPS_ITER: # 찌를 내는순간 for문이 멈추도록 하는 이터레이터를 만들자\n",
    "    def __init__(self): \n",
    "        self.candidate = [\"묵\",\"찌\",\"빠\"] \n",
    "    def __iter__(self):\n",
    "        return self \n",
    "    def __next__(self):\n",
    "        action = np.random.choice(self.candidate)\n",
    "        if action == \"찌\":\n",
    "            print(\"찌가 나와서 for문을 멈춥니다\")\n",
    "            raise StopIteration\n",
    "        else:\n",
    "            return action"
   ]
  },
  {
   "cell_type": "code",
   "execution_count": 521,
   "id": "473bbedc-a861-4869-884b-01f90105aa5d",
   "metadata": {},
   "outputs": [],
   "source": [
    "a= RPS_ITER()"
   ]
  },
  {
   "cell_type": "code",
   "execution_count": 522,
   "id": "99288b28-921e-470c-9d55-854846082118",
   "metadata": {},
   "outputs": [
    {
     "data": {
      "text/plain": [
       "{'__iter__', '__next__'}"
      ]
     },
     "execution_count": 522,
     "metadata": {},
     "output_type": "execute_result"
    }
   ],
   "source": [
    "set(dir(a)) & {'__iter__', '__next__'} # a는 이터레이터!"
   ]
  },
  {
   "cell_type": "code",
   "execution_count": 523,
   "id": "041afc1f-05c6-4d11-83fd-f0395cfef76f",
   "metadata": {},
   "outputs": [
    {
     "data": {
      "text/plain": [
       "'묵'"
      ]
     },
     "execution_count": 523,
     "metadata": {},
     "output_type": "execute_result"
    }
   ],
   "source": [
    "a.__next__()"
   ]
  },
  {
   "cell_type": "code",
   "execution_count": 524,
   "id": "4c286d98-e4e3-411e-969f-fe867b955bdc",
   "metadata": {},
   "outputs": [
    {
     "data": {
      "text/plain": [
       "'빠'"
      ]
     },
     "execution_count": 524,
     "metadata": {},
     "output_type": "execute_result"
    }
   ],
   "source": [
    "a.__next__()"
   ]
  },
  {
   "cell_type": "code",
   "execution_count": 525,
   "id": "7de08320-9efc-49de-9cbd-bf2aec52f8d5",
   "metadata": {},
   "outputs": [
    {
     "data": {
      "text/plain": [
       "'빠'"
      ]
     },
     "execution_count": 525,
     "metadata": {},
     "output_type": "execute_result"
    }
   ],
   "source": [
    "a.__next__()"
   ]
  },
  {
   "cell_type": "code",
   "execution_count": 526,
   "id": "afea36c5-0425-4c19-bc1a-1f5551876c81",
   "metadata": {},
   "outputs": [
    {
     "data": {
      "text/plain": [
       "'묵'"
      ]
     },
     "execution_count": 526,
     "metadata": {},
     "output_type": "execute_result"
    }
   ],
   "source": [
    "a.__next__()"
   ]
  },
  {
   "cell_type": "code",
   "execution_count": 528,
   "id": "ac4e758c-7277-43b3-96f4-d5e35c55b685",
   "metadata": {},
   "outputs": [
    {
     "name": "stdout",
     "output_type": "stream",
     "text": [
      "묵\n",
      "빠\n",
      "찌가 나와서 for문을 멈춥니다\n"
     ]
    }
   ],
   "source": [
    "for i in a:\n",
    "    print(i)"
   ]
  },
  {
   "cell_type": "markdown",
   "id": "19c9549d-fab8-462c-9649-cc8d5860adba",
   "metadata": {
    "tags": []
   },
   "source": [
    "## 비밀을 알아서 좋은점"
   ]
  },
  {
   "cell_type": "markdown",
   "id": "dfc5520f-6c36-4b63-b33c-0ab03334ec57",
   "metadata": {},
   "source": [
    "### ***파이썬의 에러메시지 이해***"
   ]
  },
  {
   "cell_type": "markdown",
   "id": "6a6780ea-5e16-4fa7-a6dc-fea9273e1b20",
   "metadata": {},
   "source": [
    "TypeError: 타입이 맞지 않는 연산을 수행하려고 할 때 발생합니다. 예를 들어, 숫자와 문자열을 더하려고 할 때 발생합니다."
   ]
  },
  {
   "cell_type": "code",
   "execution_count": 25,
   "id": "9af3e964-9952-4402-929b-2a6b5877ea5e",
   "metadata": {},
   "outputs": [
    {
     "ename": "TypeError",
     "evalue": "unsupported operand type(s) for +: 'int' and 'str'",
     "output_type": "error",
     "traceback": [
      "\u001b[0;31m---------------------------------------------------------------------------\u001b[0m",
      "\u001b[0;31mTypeError\u001b[0m                                 Traceback (most recent call last)",
      "Cell \u001b[0;32mIn[25], line 1\u001b[0m\n\u001b[0;32m----> 1\u001b[0m result \u001b[38;5;241m=\u001b[39m \u001b[38;5;241;43m10\u001b[39;49m\u001b[43m \u001b[49m\u001b[38;5;241;43m+\u001b[39;49m\u001b[43m \u001b[49m\u001b[38;5;124;43m\"\u001b[39;49m\u001b[38;5;124;43m20\u001b[39;49m\u001b[38;5;124;43m\"\u001b[39;49m  \u001b[38;5;66;03m# TypeError: unsupported operand type(s) for +: 'int' and 'str'\u001b[39;00m\n",
      "\u001b[0;31mTypeError\u001b[0m: unsupported operand type(s) for +: 'int' and 'str'"
     ]
    }
   ],
   "source": [
    "result = 10 + \"20\"  # TypeError: unsupported operand type(s) for +: 'int' and 'str'"
   ]
  },
  {
   "cell_type": "markdown",
   "id": "8e59ea24-18f8-4f8c-bea6-bae8a410734f",
   "metadata": {},
   "source": [
    "SyntaxError: 코드의 구문이 잘못되었을 때 발생합니다. 주로 오타, 괄호 불일치, 콜론(:) 빠뜨림 등의 문제로 인해 발생합니다."
   ]
  },
  {
   "cell_type": "code",
   "execution_count": 23,
   "id": "a90b396e-6c5f-4a30-9928-526e32a71bc9",
   "metadata": {},
   "outputs": [
    {
     "ename": "SyntaxError",
     "evalue": "invalid syntax (<ipython-input-23-5259b3c47c58>, line 1)",
     "output_type": "error",
     "traceback": [
      "\u001b[0;36m  Cell \u001b[0;32mIn[23], line 1\u001b[0;36m\u001b[0m\n\u001b[0;31m    if x == 5\u001b[0m\n\u001b[0m             ^\u001b[0m\n\u001b[0;31mSyntaxError\u001b[0m\u001b[0;31m:\u001b[0m invalid syntax\n"
     ]
    }
   ],
   "source": [
    "if x == 5\n",
    "    print(\"x is equal to 5\")  # SyntaxError: invalid syntax"
   ]
  },
  {
   "cell_type": "markdown",
   "id": "f5a94acb-3593-41c0-8a06-fed99481bebf",
   "metadata": {},
   "source": [
    "NameError: 정의되지 않은 변수나 함수를 사용하려고 할 때 발생합니다. 변수나 함수를 정의한 후에 사용해야 합니다."
   ]
  },
  {
   "cell_type": "code",
   "execution_count": 24,
   "id": "1a94d4a1-1ded-4942-aacb-1e21fc33be32",
   "metadata": {},
   "outputs": [
    {
     "ename": "NameError",
     "evalue": "name 'unknown_variable' is not defined",
     "output_type": "error",
     "traceback": [
      "\u001b[0;31m---------------------------------------------------------------------------\u001b[0m",
      "\u001b[0;31mNameError\u001b[0m                                 Traceback (most recent call last)",
      "Cell \u001b[0;32mIn[24], line 1\u001b[0m\n\u001b[0;32m----> 1\u001b[0m \u001b[38;5;28mprint\u001b[39m(\u001b[43munknown_variable\u001b[49m)  \u001b[38;5;66;03m# NameError: name 'unknown_variable' is not defined\u001b[39;00m\n",
      "\u001b[0;31mNameError\u001b[0m: name 'unknown_variable' is not defined"
     ]
    }
   ],
   "source": [
    "print(unknown_variable)  # NameError: name 'unknown_variable' is not defined"
   ]
  },
  {
   "cell_type": "markdown",
   "id": "e81c5f25-935f-4e53-9882-acf287e012cd",
   "metadata": {},
   "source": [
    "ValueError: 함수나 메서드에 전달되는 인자의 값이 올바르지 않을 때 발생합니다. 타입은 올바르지만 범위나 조건에 맞지 않는 값이 전달된 경우에 해당합니다."
   ]
  },
  {
   "cell_type": "code",
   "execution_count": 31,
   "id": "18361232-5b48-4a63-a020-fc5318b19d2a",
   "metadata": {},
   "outputs": [
    {
     "ename": "ValueError",
     "evalue": "invalid literal for int() with base 10: 'abc'",
     "output_type": "error",
     "traceback": [
      "\u001b[0;31m---------------------------------------------------------------------------\u001b[0m",
      "\u001b[0;31mValueError\u001b[0m                                Traceback (most recent call last)",
      "Cell \u001b[0;32mIn[31], line 1\u001b[0m\n\u001b[0;32m----> 1\u001b[0m int_value \u001b[38;5;241m=\u001b[39m \u001b[38;5;28;43mint\u001b[39;49m\u001b[43m(\u001b[49m\u001b[38;5;124;43m\"\u001b[39;49m\u001b[38;5;124;43mabc\u001b[39;49m\u001b[38;5;124;43m\"\u001b[39;49m\u001b[43m)\u001b[49m  \u001b[38;5;66;03m# ValueError: invalid literal for int() with base 10: 'abc'\u001b[39;00m\n",
      "\u001b[0;31mValueError\u001b[0m: invalid literal for int() with base 10: 'abc'"
     ]
    }
   ],
   "source": [
    "int_value = int(\"abc\")  # ValueError: invalid literal for int() with base 10: 'abc'"
   ]
  },
  {
   "cell_type": "markdown",
   "id": "691ae351-d751-4f48-b99c-e6476289fbea",
   "metadata": {},
   "source": [
    "AttributeError: 객체가 속성(attribute)이나 메서드(method)를 가지고 있지 않을 때 발생합니다."
   ]
  },
  {
   "cell_type": "code",
   "execution_count": 32,
   "id": "3b21725d-8385-4890-bcad-0d0b6108e0b9",
   "metadata": {},
   "outputs": [
    {
     "ename": "AttributeError",
     "evalue": "'list' object has no attribute 'upper'",
     "output_type": "error",
     "traceback": [
      "\u001b[0;31m---------------------------------------------------------------------------\u001b[0m",
      "\u001b[0;31mAttributeError\u001b[0m                            Traceback (most recent call last)",
      "Cell \u001b[0;32mIn[32], line 3\u001b[0m\n\u001b[1;32m      1\u001b[0m my_list \u001b[38;5;241m=\u001b[39m [\u001b[38;5;241m1\u001b[39m, \u001b[38;5;241m2\u001b[39m, \u001b[38;5;241m3\u001b[39m]\n\u001b[1;32m      2\u001b[0m my_list\u001b[38;5;241m.\u001b[39mappend(\u001b[38;5;241m4\u001b[39m)\n\u001b[0;32m----> 3\u001b[0m \u001b[43mmy_list\u001b[49m\u001b[38;5;241;43m.\u001b[39;49m\u001b[43mupper\u001b[49m()  \u001b[38;5;66;03m# AttributeError: 'list' object has no attribute 'upper'\u001b[39;00m\n",
      "\u001b[0;31mAttributeError\u001b[0m: 'list' object has no attribute 'upper'"
     ]
    }
   ],
   "source": [
    "my_list = [1, 2, 3]\n",
    "my_list.append(4)\n",
    "my_list.upper()  # AttributeError: 'list' object has no attribute 'upper'"
   ]
  },
  {
   "cell_type": "markdown",
   "id": "d512c787-cf94-4bd0-b024-b463da267664",
   "metadata": {},
   "source": [
    "ImportError: 모듈을 임포트하는 과정에서 문제가 발생할 때 발생합니다. 임포트하려는 모듈이 존재하지 않거나, 임포트 경로 설정이 잘못된 경우에 해당합니다."
   ]
  },
  {
   "cell_type": "code",
   "execution_count": 33,
   "id": "1272f677-0259-4a6f-8489-ea9fad534dc2",
   "metadata": {},
   "outputs": [
    {
     "ename": "ModuleNotFoundError",
     "evalue": "No module named 'non_existent_module'",
     "output_type": "error",
     "traceback": [
      "\u001b[0;31m---------------------------------------------------------------------------\u001b[0m",
      "\u001b[0;31mModuleNotFoundError\u001b[0m                       Traceback (most recent call last)",
      "Cell \u001b[0;32mIn[33], line 1\u001b[0m\n\u001b[0;32m----> 1\u001b[0m \u001b[38;5;28;01mimport\u001b[39;00m \u001b[38;5;21;01mnon_existent_module\u001b[39;00m  \u001b[38;5;66;03m# ImportError: No module named 'non_existent_module'\u001b[39;00m\n",
      "\u001b[0;31mModuleNotFoundError\u001b[0m: No module named 'non_existent_module'"
     ]
    }
   ],
   "source": [
    "import non_existent_module  # ImportError: No module named 'non_existent_module'"
   ]
  },
  {
   "cell_type": "markdown",
   "id": "6e45dbe8-358b-4e15-8f0f-2e547406a6cb",
   "metadata": {},
   "source": [
    "IOError: 파일 입출력 작업 중에 발생하는 에러입니다. 파일이 존재하지 않거나, 파일에 쓰기 권한이 없는 경우 등에 해당합니다."
   ]
  },
  {
   "cell_type": "code",
   "execution_count": 34,
   "id": "c419fd92-a3a5-4a22-a7b9-fbb5e42d7971",
   "metadata": {},
   "outputs": [
    {
     "ename": "FileNotFoundError",
     "evalue": "[Errno 2] No such file or directory: 'file.txt'",
     "output_type": "error",
     "traceback": [
      "\u001b[0;31m---------------------------------------------------------------------------\u001b[0m",
      "\u001b[0;31mFileNotFoundError\u001b[0m                         Traceback (most recent call last)",
      "Cell \u001b[0;32mIn[34], line 1\u001b[0m\n\u001b[0;32m----> 1\u001b[0m file \u001b[38;5;241m=\u001b[39m \u001b[38;5;28;43mopen\u001b[39;49m\u001b[43m(\u001b[49m\u001b[38;5;124;43m'\u001b[39;49m\u001b[38;5;124;43mfile.txt\u001b[39;49m\u001b[38;5;124;43m'\u001b[39;49m\u001b[43m,\u001b[49m\u001b[43m \u001b[49m\u001b[38;5;124;43m'\u001b[39;49m\u001b[38;5;124;43mr\u001b[39;49m\u001b[38;5;124;43m'\u001b[39;49m\u001b[43m)\u001b[49m  \u001b[38;5;66;03m# IOError: [Errno 2] No such file or directory: 'file.txt'\u001b[39;00m\n",
      "File \u001b[0;32m~/anaconda3/envs/py38/lib/python3.8/site-packages/IPython/core/interactiveshell.py:284\u001b[0m, in \u001b[0;36m_modified_open\u001b[0;34m(file, *args, **kwargs)\u001b[0m\n\u001b[1;32m    277\u001b[0m \u001b[38;5;28;01mif\u001b[39;00m file \u001b[38;5;129;01min\u001b[39;00m {\u001b[38;5;241m0\u001b[39m, \u001b[38;5;241m1\u001b[39m, \u001b[38;5;241m2\u001b[39m}:\n\u001b[1;32m    278\u001b[0m     \u001b[38;5;28;01mraise\u001b[39;00m \u001b[38;5;167;01mValueError\u001b[39;00m(\n\u001b[1;32m    279\u001b[0m         \u001b[38;5;124mf\u001b[39m\u001b[38;5;124m\"\u001b[39m\u001b[38;5;124mIPython won\u001b[39m\u001b[38;5;124m'\u001b[39m\u001b[38;5;124mt let you open fd=\u001b[39m\u001b[38;5;132;01m{\u001b[39;00mfile\u001b[38;5;132;01m}\u001b[39;00m\u001b[38;5;124m by default \u001b[39m\u001b[38;5;124m\"\u001b[39m\n\u001b[1;32m    280\u001b[0m         \u001b[38;5;124m\"\u001b[39m\u001b[38;5;124mas it is likely to crash IPython. If you know what you are doing, \u001b[39m\u001b[38;5;124m\"\u001b[39m\n\u001b[1;32m    281\u001b[0m         \u001b[38;5;124m\"\u001b[39m\u001b[38;5;124myou can use builtins\u001b[39m\u001b[38;5;124m'\u001b[39m\u001b[38;5;124m open.\u001b[39m\u001b[38;5;124m\"\u001b[39m\n\u001b[1;32m    282\u001b[0m     )\n\u001b[0;32m--> 284\u001b[0m \u001b[38;5;28;01mreturn\u001b[39;00m \u001b[43mio_open\u001b[49m\u001b[43m(\u001b[49m\u001b[43mfile\u001b[49m\u001b[43m,\u001b[49m\u001b[43m \u001b[49m\u001b[38;5;241;43m*\u001b[39;49m\u001b[43margs\u001b[49m\u001b[43m,\u001b[49m\u001b[43m \u001b[49m\u001b[38;5;241;43m*\u001b[39;49m\u001b[38;5;241;43m*\u001b[39;49m\u001b[43mkwargs\u001b[49m\u001b[43m)\u001b[49m\n",
      "\u001b[0;31mFileNotFoundError\u001b[0m: [Errno 2] No such file or directory: 'file.txt'"
     ]
    }
   ],
   "source": [
    "file = open('file.txt', 'r')  # IOError: [Errno 2] No such file or directory: 'file.txt'"
   ]
  },
  {
   "cell_type": "markdown",
   "id": "43a4aa2e-1a66-409f-b9fc-047f0d1e0807",
   "metadata": {},
   "source": [
    "KeyboardInterrupt: 사용자가 Ctrl+C를 눌러 프로그램의 실행을 중단할 때 발생합니다."
   ]
  },
  {
   "cell_type": "code",
   "execution_count": 35,
   "id": "3f57f3b1-2c98-478b-ad2d-d5b6b4ea5a69",
   "metadata": {},
   "outputs": [
    {
     "ename": "KeyboardInterrupt",
     "evalue": "",
     "output_type": "error",
     "traceback": [
      "\u001b[0;31m---------------------------------------------------------------------------\u001b[0m",
      "\u001b[0;31mKeyboardInterrupt\u001b[0m                         Traceback (most recent call last)",
      "Cell \u001b[0;32mIn[35], line 2\u001b[0m\n\u001b[1;32m      1\u001b[0m \u001b[38;5;28;01mwhile\u001b[39;00m \u001b[38;5;28;01mTrue\u001b[39;00m:\n\u001b[0;32m----> 2\u001b[0m     \u001b[38;5;28;01mpass\u001b[39;00m  \u001b[38;5;66;03m# 무한 루프\u001b[39;00m\n\u001b[1;32m      3\u001b[0m \u001b[38;5;66;03m# KeyboardInterrupt: \u001b[39;00m\n",
      "\u001b[0;31mKeyboardInterrupt\u001b[0m: "
     ]
    }
   ],
   "source": [
    "while True:\n",
    "    pass  # 무한 루프\n",
    "# KeyboardInterrupt: \n"
   ]
  },
  {
   "cell_type": "markdown",
   "id": "c38ff6f5-e6cc-458e-9b85-166c30392691",
   "metadata": {},
   "source": [
    "MemoryError: 메모리 부족으로 인해 객체를 생성하거나 작업을 수행할 수 없을 때 발생합니다."
   ]
  },
  {
   "cell_type": "code",
   "execution_count": 40,
   "id": "cba805e2-aca7-4706-a9fe-891742908744",
   "metadata": {},
   "outputs": [
    {
     "ename": "OverflowError",
     "evalue": "cannot fit 'int' into an index-sized integer",
     "output_type": "error",
     "traceback": [
      "\u001b[0;31m---------------------------------------------------------------------------\u001b[0m",
      "\u001b[0;31mOverflowError\u001b[0m                             Traceback (most recent call last)",
      "Cell \u001b[0;32mIn[40], line 1\u001b[0m\n\u001b[0;32m----> 1\u001b[0m big_list \u001b[38;5;241m=\u001b[39m \u001b[43m[\u001b[49m\u001b[38;5;241;43m0\u001b[39;49m\u001b[43m]\u001b[49m\u001b[43m \u001b[49m\u001b[38;5;241;43m*\u001b[39;49m\u001b[43m \u001b[49m\u001b[43m(\u001b[49m\u001b[38;5;241;43m10\u001b[39;49m\u001b[43m \u001b[49m\u001b[38;5;241;43m*\u001b[39;49m\u001b[38;5;241;43m*\u001b[39;49m\u001b[43m \u001b[49m\u001b[38;5;241;43m100\u001b[39;49m\u001b[43m)\u001b[49m  \u001b[38;5;66;03m# MemoryError\u001b[39;00m\n",
      "\u001b[0;31mOverflowError\u001b[0m: cannot fit 'int' into an index-sized integer"
     ]
    }
   ],
   "source": [
    "big_list = [0] * (10 ** 100)  # MemoryError"
   ]
  },
  {
   "cell_type": "markdown",
   "id": "46ede8eb-f7ad-4aca-867b-3b499dbfb739",
   "metadata": {},
   "source": [
    "IndexError: 유효하지 않은 인덱스를 사용하여 시퀀스(리스트, 튜플, 문자열 등)의 요소에 접근하려고 할 때 발생합니다."
   ]
  },
  {
   "cell_type": "code",
   "execution_count": 27,
   "id": "d1d6fc29-b0bf-450b-8e1a-f02974e0bb74",
   "metadata": {},
   "outputs": [
    {
     "ename": "IndexError",
     "evalue": "list index out of range",
     "output_type": "error",
     "traceback": [
      "\u001b[0;31m---------------------------------------------------------------------------\u001b[0m",
      "\u001b[0;31mIndexError\u001b[0m                                Traceback (most recent call last)",
      "Cell \u001b[0;32mIn[27], line 2\u001b[0m\n\u001b[1;32m      1\u001b[0m my_list \u001b[38;5;241m=\u001b[39m [\u001b[38;5;241m1\u001b[39m, \u001b[38;5;241m2\u001b[39m, \u001b[38;5;241m3\u001b[39m]\n\u001b[0;32m----> 2\u001b[0m \u001b[38;5;28mprint\u001b[39m(\u001b[43mmy_list\u001b[49m\u001b[43m[\u001b[49m\u001b[38;5;241;43m5\u001b[39;49m\u001b[43m]\u001b[49m)  \u001b[38;5;66;03m# IndexError: list index out of range\u001b[39;00m\n",
      "\u001b[0;31mIndexError\u001b[0m: list index out of range"
     ]
    }
   ],
   "source": [
    "my_list = [1, 2, 3]\n",
    "print(my_list[5])  # IndexError: list index out of range"
   ]
  },
  {
   "cell_type": "markdown",
   "id": "5b16cf96-75cf-423e-a840-5e1559b4a6d8",
   "metadata": {},
   "source": [
    "KeyError: 딕셔너리에서 존재하지 않는 키를 사용하여 요소에 접근하려고 할 때 발생합니다."
   ]
  },
  {
   "cell_type": "code",
   "execution_count": 28,
   "id": "619043f9-4dea-4a7c-8fb7-59390d1cf332",
   "metadata": {},
   "outputs": [
    {
     "ename": "KeyError",
     "evalue": "'address'",
     "output_type": "error",
     "traceback": [
      "\u001b[0;31m---------------------------------------------------------------------------\u001b[0m",
      "\u001b[0;31mKeyError\u001b[0m                                  Traceback (most recent call last)",
      "Cell \u001b[0;32mIn[28], line 2\u001b[0m\n\u001b[1;32m      1\u001b[0m my_dict \u001b[38;5;241m=\u001b[39m {\u001b[38;5;124m'\u001b[39m\u001b[38;5;124mname\u001b[39m\u001b[38;5;124m'\u001b[39m: \u001b[38;5;124m'\u001b[39m\u001b[38;5;124mJohn\u001b[39m\u001b[38;5;124m'\u001b[39m, \u001b[38;5;124m'\u001b[39m\u001b[38;5;124mage\u001b[39m\u001b[38;5;124m'\u001b[39m: \u001b[38;5;241m25\u001b[39m}\n\u001b[0;32m----> 2\u001b[0m \u001b[38;5;28mprint\u001b[39m(\u001b[43mmy_dict\u001b[49m\u001b[43m[\u001b[49m\u001b[38;5;124;43m'\u001b[39;49m\u001b[38;5;124;43maddress\u001b[39;49m\u001b[38;5;124;43m'\u001b[39;49m\u001b[43m]\u001b[49m)  \u001b[38;5;66;03m# KeyError: 'address'\u001b[39;00m\n",
      "\u001b[0;31mKeyError\u001b[0m: 'address'"
     ]
    }
   ],
   "source": [
    "my_dict = {'name': 'John', 'age': 25}\n",
    "print(my_dict['address'])  # KeyError: 'address'"
   ]
  },
  {
   "cell_type": "markdown",
   "id": "d3e83c3f-9575-438a-a982-1b634be50a07",
   "metadata": {},
   "source": [
    "FileNotFoundError: 존재하지 않는 파일을 열려고 할 때 발생합니다."
   ]
  },
  {
   "cell_type": "code",
   "execution_count": 29,
   "id": "c5dc6044-f2b8-4a28-b521-6d483e1de716",
   "metadata": {},
   "outputs": [
    {
     "ename": "FileNotFoundError",
     "evalue": "[Errno 2] No such file or directory: 'nonexistent_file.txt'",
     "output_type": "error",
     "traceback": [
      "\u001b[0;31m---------------------------------------------------------------------------\u001b[0m",
      "\u001b[0;31mFileNotFoundError\u001b[0m                         Traceback (most recent call last)",
      "Cell \u001b[0;32mIn[29], line 1\u001b[0m\n\u001b[0;32m----> 1\u001b[0m file \u001b[38;5;241m=\u001b[39m \u001b[38;5;28;43mopen\u001b[39;49m\u001b[43m(\u001b[49m\u001b[38;5;124;43m'\u001b[39;49m\u001b[38;5;124;43mnonexistent_file.txt\u001b[39;49m\u001b[38;5;124;43m'\u001b[39;49m\u001b[43m)\u001b[49m  \u001b[38;5;66;03m# FileNotFoundError: [Errno 2] No such file or directory: 'nonexistent_file.txt'\u001b[39;00m\n",
      "File \u001b[0;32m~/anaconda3/envs/py38/lib/python3.8/site-packages/IPython/core/interactiveshell.py:284\u001b[0m, in \u001b[0;36m_modified_open\u001b[0;34m(file, *args, **kwargs)\u001b[0m\n\u001b[1;32m    277\u001b[0m \u001b[38;5;28;01mif\u001b[39;00m file \u001b[38;5;129;01min\u001b[39;00m {\u001b[38;5;241m0\u001b[39m, \u001b[38;5;241m1\u001b[39m, \u001b[38;5;241m2\u001b[39m}:\n\u001b[1;32m    278\u001b[0m     \u001b[38;5;28;01mraise\u001b[39;00m \u001b[38;5;167;01mValueError\u001b[39;00m(\n\u001b[1;32m    279\u001b[0m         \u001b[38;5;124mf\u001b[39m\u001b[38;5;124m\"\u001b[39m\u001b[38;5;124mIPython won\u001b[39m\u001b[38;5;124m'\u001b[39m\u001b[38;5;124mt let you open fd=\u001b[39m\u001b[38;5;132;01m{\u001b[39;00mfile\u001b[38;5;132;01m}\u001b[39;00m\u001b[38;5;124m by default \u001b[39m\u001b[38;5;124m\"\u001b[39m\n\u001b[1;32m    280\u001b[0m         \u001b[38;5;124m\"\u001b[39m\u001b[38;5;124mas it is likely to crash IPython. If you know what you are doing, \u001b[39m\u001b[38;5;124m\"\u001b[39m\n\u001b[1;32m    281\u001b[0m         \u001b[38;5;124m\"\u001b[39m\u001b[38;5;124myou can use builtins\u001b[39m\u001b[38;5;124m'\u001b[39m\u001b[38;5;124m open.\u001b[39m\u001b[38;5;124m\"\u001b[39m\n\u001b[1;32m    282\u001b[0m     )\n\u001b[0;32m--> 284\u001b[0m \u001b[38;5;28;01mreturn\u001b[39;00m \u001b[43mio_open\u001b[49m\u001b[43m(\u001b[49m\u001b[43mfile\u001b[49m\u001b[43m,\u001b[49m\u001b[43m \u001b[49m\u001b[38;5;241;43m*\u001b[39;49m\u001b[43margs\u001b[49m\u001b[43m,\u001b[49m\u001b[43m \u001b[49m\u001b[38;5;241;43m*\u001b[39;49m\u001b[38;5;241;43m*\u001b[39;49m\u001b[43mkwargs\u001b[49m\u001b[43m)\u001b[49m\n",
      "\u001b[0;31mFileNotFoundError\u001b[0m: [Errno 2] No such file or directory: 'nonexistent_file.txt'"
     ]
    }
   ],
   "source": [
    "file = open('nonexistent_file.txt')  # FileNotFoundError: [Errno 2] No such file or directory: 'nonexistent_file.txt'"
   ]
  },
  {
   "cell_type": "markdown",
   "id": "a526c53b-01ab-4349-b64d-f13fb90e3bab",
   "metadata": {},
   "source": [
    "ZeroDivisionError: 0으로 나누기 연산을 수행하려고 할 때 발생합니다."
   ]
  },
  {
   "cell_type": "code",
   "execution_count": 30,
   "id": "44cce322-5c86-427d-b7a4-2f267eecd7f1",
   "metadata": {},
   "outputs": [
    {
     "ename": "ZeroDivisionError",
     "evalue": "division by zero",
     "output_type": "error",
     "traceback": [
      "\u001b[0;31m---------------------------------------------------------------------------\u001b[0m",
      "\u001b[0;31mZeroDivisionError\u001b[0m                         Traceback (most recent call last)",
      "Cell \u001b[0;32mIn[30], line 1\u001b[0m\n\u001b[0;32m----> 1\u001b[0m result \u001b[38;5;241m=\u001b[39m \u001b[38;5;241;43m10\u001b[39;49m\u001b[43m \u001b[49m\u001b[38;5;241;43m/\u001b[39;49m\u001b[43m \u001b[49m\u001b[38;5;241;43m0\u001b[39;49m  \u001b[38;5;66;03m# ZeroDivisionError: division by zero\u001b[39;00m\n",
      "\u001b[0;31mZeroDivisionError\u001b[0m: division by zero"
     ]
    }
   ],
   "source": [
    "result = 10 / 0  # ZeroDivisionError: division by zero"
   ]
  },
  {
   "cell_type": "markdown",
   "id": "b54aedf7-9562-4f07-8cba-c970a72aea79",
   "metadata": {},
   "source": [
    "### ***`TypeError`에 대한 심층분석***"
   ]
  },
  {
   "cell_type": "markdown",
   "id": "937230a1-0d23-4750-87b1-c5e93f633d94",
   "metadata": {},
   "source": [
    "`-` `.__add__` 가 올바르게 정의되지 않아서 생기는 경우"
   ]
  },
  {
   "cell_type": "markdown",
   "id": "3ef2b93d-4c38-4098-a78f-2c0520e7aaba",
   "metadata": {},
   "source": [
    "```\n",
    "---------------------------------------------------------------------------\n",
    "TypeError                                 Traceback (most recent call last)\n",
    "Cell In[37], line 1\n",
    "----> 1 boram + '등록'+ '휴학' + '등록' + '휴학'\n",
    "\n",
    "TypeError: unsupported operand type(s) for +: 'NoneType' and 'str'\n",
    "```"
   ]
  },
  {
   "cell_type": "markdown",
   "id": "8610003b-58db-4c05-9858-64f001ca5cd2",
   "metadata": {},
   "source": [
    "`-` `.__getitem__`이 정의되지 않은 오브젝트에서 인덱싱을 시도할때 생기는 오류 "
   ]
  },
  {
   "cell_type": "markdown",
   "id": "7973049d-759b-4ebe-b47e-bed37397d6d9",
   "metadata": {},
   "source": [
    "```\n",
    "---------------------------------------------------------------------------\n",
    "TypeError                                 Traceback (most recent call last)\n",
    "Cell In[57], line 1\n",
    "----> 1 a[0], a[1]\n",
    "\n",
    "TypeError: 'RPS' object is not subscriptable\n",
    "```"
   ]
  },
  {
   "cell_type": "markdown",
   "id": "ddc9ba04-bda4-4673-9162-da3d5c2827d2",
   "metadata": {},
   "source": [
    "`-` `.__setitem__`이 정의되지 않은 오브젝트에서 할당을 시도할때 생기는 오류 "
   ]
  },
  {
   "cell_type": "markdown",
   "id": "c0e27ee8-ff71-49af-bec0-64240703c179",
   "metadata": {},
   "source": [
    "```\n",
    "---------------------------------------------------------------------------\n",
    "TypeError                                 Traceback (most recent call last)\n",
    "Cell In[77], line 1\n",
    "----> 1 a[0] = '보' \n",
    "\n",
    "TypeError: 'RPS_Ver2' object does not support item assignment\n",
    "```"
   ]
  },
  {
   "cell_type": "markdown",
   "id": "e03f0c37-faf6-449b-87f3-c40d3c8fde7c",
   "metadata": {},
   "source": [
    "`-` `.__len__` 이 정의되지 않은 오브젝트에서 len을 이용할때 생기는 오류 "
   ]
  },
  {
   "cell_type": "markdown",
   "id": "ceaad653-9ced-4ccd-976b-b3dd69f5dd0a",
   "metadata": {},
   "source": [
    "```\n",
    "---------------------------------------------------------------------------\n",
    "TypeError                                 Traceback (most recent call last)\n",
    "Cell In[122], line 1\n",
    "----> 1 len(a)\n",
    "\n",
    "TypeError: object of type 'RPS_Ver3' has no len()\n",
    "\n",
    "```"
   ]
  },
  {
   "cell_type": "markdown",
   "id": "431343c5-9bbc-4d0f-9bb0-57984eb4fa6a",
   "metadata": {},
   "source": [
    "`-` `.__call__`이 정의되지 않은 오브젝트를 함수처럼 이용하려 할때 생기는 오류 "
   ]
  },
  {
   "cell_type": "markdown",
   "id": "73af6580-4713-4242-a675-5df80524f60c",
   "metadata": {},
   "source": [
    "```\n",
    "---------------------------------------------------------------------------\n",
    "TypeError                                 Traceback (most recent call last)\n",
    "Cell In[402], line 1\n",
    "----> 1 a()\n",
    "\n",
    "TypeError: 'Klass' object is not callable\n",
    "```"
   ]
  },
  {
   "cell_type": "markdown",
   "id": "bb9a4270-cb9a-4a12-bcda-6f0195f7f3da",
   "metadata": {},
   "source": [
    "`-` `.__iter__`가 정의되지 않은 오브젝트에 반복문을 적용하려 하면 생기는 오류 "
   ]
  },
  {
   "cell_type": "markdown",
   "id": "7e58b3bc-79af-4a58-9f12-b46d6716df91",
   "metadata": {},
   "source": [
    "```\n",
    "---------------------------------------------------------------------------\n",
    "TypeError                                 Traceback (most recent call last)\n",
    "Cell In[422], line 2\n",
    "      1 a=5 \n",
    "----> 2 for i in a:\n",
    "      3     print(i) \n",
    "\n",
    "TypeError: 'int' object is not iterable\n",
    "```"
   ]
  }
 ],
 "metadata": {
  "kernelspec": {
   "display_name": "Python 3",
   "language": "python",
   "name": "python3"
  },
  "language_info": {
   "codemirror_mode": {
    "name": "ipython",
    "version": 3
   },
   "file_extension": ".py",
   "mimetype": "text/x-python",
   "name": "python",
   "nbconvert_exporter": "python",
   "pygments_lexer": "ipython3",
   "version": "3.8.16"
  }
 },
 "nbformat": 4,
 "nbformat_minor": 5
}
