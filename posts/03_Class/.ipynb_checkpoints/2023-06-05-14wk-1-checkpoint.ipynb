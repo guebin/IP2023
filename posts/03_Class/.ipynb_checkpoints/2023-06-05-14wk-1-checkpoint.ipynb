{
 "cells": [
  {
   "cell_type": "raw",
   "id": "a1528b7b-1d00-4bcd-bdd4-490ab2e6d884",
   "metadata": {},
   "source": [
    "---\n",
    "title: \"14wk-1: 클래스공부 4단계 -- 파이썬의 비밀 (2)\"\n",
    "author: \"최규빈\"\n",
    "date: \"06/05/2023\"\n",
    "---"
   ]
  },
  {
   "cell_type": "markdown",
   "id": "d9716751-195a-4265-8977-8dafb04c3abe",
   "metadata": {},
   "source": [
    "<a href=\"https://colab.research.google.com/github/guebin/PP2023/blob/main/posts/03_Class/2023-06-05-14wk-1.ipynb\"><img src=\"https://colab.research.google.com/assets/colab-badge.svg\" style=\"text-align: left\"></a>"
   ]
  },
  {
   "cell_type": "markdown",
   "id": "f38a3e5a-3e59-47cb-8da6-c9bfaa6551b0",
   "metadata": {},
   "source": [
    "# 강의영상 "
   ]
  },
  {
   "cell_type": "markdown",
   "id": "692916b1-843a-4ad5-a13a-3575e670248b",
   "metadata": {},
   "source": [
    "> youtube: <https://youtube.com/playlist?list=PLQqh36zP38-xEFWxQ9YvfTo0wBN4CUZlP>"
   ]
  },
  {
   "cell_type": "markdown",
   "id": "7a6f8b5b-169e-4ea9-8fa8-d9bb31a6b4fe",
   "metadata": {},
   "source": [
    "# imports "
   ]
  },
  {
   "cell_type": "code",
   "execution_count": 1,
   "id": "6835093b-64a4-467c-9f96-ad622c5bef2c",
   "metadata": {},
   "outputs": [],
   "source": [
    "import numpy as np\n",
    "import matplotlib.pyplot as plt\n",
    "import pandas as pd"
   ]
  },
  {
   "cell_type": "markdown",
   "id": "97993944-7895-4942-8b63-3baaea87f9e1",
   "metadata": {},
   "source": [
    "# 예비학습"
   ]
  },
  {
   "cell_type": "markdown",
   "id": "687e7738-1637-4882-8f55-06bb6e33b504",
   "metadata": {},
   "source": [
    "## 모티브: 클래스를 수정은 불편해"
   ]
  },
  {
   "cell_type": "markdown",
   "id": "67d6f489-0c53-4bb5-ac4b-dfddf219e242",
   "metadata": {},
   "source": [
    "`-` 예시1: UpJump ver1"
   ]
  },
  {
   "cell_type": "code",
   "execution_count": 2,
   "id": "7e049991-6479-4cd8-aeb5-0de9d96d8f71",
   "metadata": {},
   "outputs": [],
   "source": [
    "class UpJump:\n",
    "    def __init__(self):\n",
    "        self.value = 0\n",
    "    def up(self):\n",
    "        self.value = self.value + 1  \n",
    "    def __repr__(self):\n",
    "        return str(self.value)"
   ]
  },
  {
   "cell_type": "code",
   "execution_count": 3,
   "id": "a7f3ede5-94d4-459e-a7cf-1f15d0d4c002",
   "metadata": {},
   "outputs": [],
   "source": [
    "a = UpJump()\n",
    "a.up()"
   ]
  },
  {
   "cell_type": "code",
   "execution_count": 6,
   "id": "587e516d-0114-4646-92a7-c037fdc45966",
   "metadata": {},
   "outputs": [
    {
     "data": {
      "text/plain": [
       "1"
      ]
     },
     "execution_count": 6,
     "metadata": {},
     "output_type": "execute_result"
    }
   ],
   "source": [
    "a"
   ]
  },
  {
   "cell_type": "code",
   "execution_count": 7,
   "id": "708adca9-6775-4dae-a215-1920189ae095",
   "metadata": {},
   "outputs": [
    {
     "ename": "AttributeError",
     "evalue": "'UpJump' object has no attribute 'jump'",
     "output_type": "error",
     "traceback": [
      "\u001b[0;31m---------------------------------------------------------------------------\u001b[0m",
      "\u001b[0;31mAttributeError\u001b[0m                            Traceback (most recent call last)",
      "Cell \u001b[0;32mIn[7], line 1\u001b[0m\n\u001b[0;32m----> 1\u001b[0m \u001b[43ma\u001b[49m\u001b[38;5;241;43m.\u001b[39;49m\u001b[43mjump\u001b[49m(\u001b[38;5;241m2\u001b[39m)\n",
      "\u001b[0;31mAttributeError\u001b[0m: 'UpJump' object has no attribute 'jump'"
     ]
    }
   ],
   "source": [
    "a.jump(2)"
   ]
  },
  {
   "cell_type": "markdown",
   "id": "4f8236fd-6ebc-4f69-814f-ff5659c646db",
   "metadata": {},
   "source": [
    "- 점프는 아직 구현하지 않음."
   ]
  },
  {
   "cell_type": "markdown",
   "id": "b7ec6b3b-7341-4f38-820a-1acbf903c4e0",
   "metadata": {},
   "source": [
    "`-` 예시2: UpJump ver2 "
   ]
  },
  {
   "cell_type": "code",
   "execution_count": 8,
   "id": "6b208b24-11c0-4ee7-8069-3e3d98342b82",
   "metadata": {},
   "outputs": [],
   "source": [
    "class UpJump_Ver2:\n",
    "    def __init__(self):\n",
    "        self.value = 0\n",
    "    def up(self):\n",
    "        self.value = self.value + 1  \n",
    "    def jump(self,jump_size):\n",
    "        self.value = self.value + jump_size\n",
    "    def __repr__(self):\n",
    "        return str(self.value)        "
   ]
  },
  {
   "cell_type": "code",
   "execution_count": 9,
   "id": "67f341b0-18df-4094-9f30-35819692e94c",
   "metadata": {},
   "outputs": [],
   "source": [
    "a = UpJump_Ver2()"
   ]
  },
  {
   "cell_type": "code",
   "execution_count": 10,
   "id": "5970e315-22eb-4b30-a13b-53770333aea7",
   "metadata": {},
   "outputs": [],
   "source": [
    "a.up()"
   ]
  },
  {
   "cell_type": "code",
   "execution_count": 11,
   "id": "804406ac-14e8-492e-92ef-526746a6a9c6",
   "metadata": {},
   "outputs": [],
   "source": [
    "a.jump(2)"
   ]
  },
  {
   "cell_type": "code",
   "execution_count": 12,
   "id": "777112ad-22f7-4443-b6a2-720e9e0ccf3c",
   "metadata": {},
   "outputs": [
    {
     "data": {
      "text/plain": [
       "3"
      ]
     },
     "execution_count": 12,
     "metadata": {},
     "output_type": "execute_result"
    }
   ],
   "source": [
    "a"
   ]
  },
  {
   "cell_type": "markdown",
   "id": "2df2e4d7-5534-419f-b10f-6258962e9a27",
   "metadata": {},
   "source": [
    "`-` 예시3: UpJump ver2의 다른 구현 "
   ]
  },
  {
   "cell_type": "code",
   "execution_count": 13,
   "id": "bd1720d4-1772-4e2b-80a7-cf585b27b897",
   "metadata": {},
   "outputs": [],
   "source": [
    "class UpJump_Ver2(UpJump):\n",
    "    def jump(self,jump_size):\n",
    "        self.value = self.value + jump_size    "
   ]
  },
  {
   "cell_type": "code",
   "execution_count": 14,
   "id": "9920c0cb-2a2c-49ea-b307-6a92ba5505b8",
   "metadata": {},
   "outputs": [],
   "source": [
    "a = UpJump_Ver2()"
   ]
  },
  {
   "cell_type": "code",
   "execution_count": 15,
   "id": "5995ea6e-ddce-49fb-a9ea-fb55c7a263f3",
   "metadata": {},
   "outputs": [],
   "source": [
    "a.up()"
   ]
  },
  {
   "cell_type": "code",
   "execution_count": 16,
   "id": "ceb4b006-8c4e-4b0b-b320-db2512bc6a54",
   "metadata": {},
   "outputs": [],
   "source": [
    "a.jump(2)"
   ]
  },
  {
   "cell_type": "code",
   "execution_count": 17,
   "id": "631d60da-087f-4a07-afbe-7c6db5d521ff",
   "metadata": {},
   "outputs": [
    {
     "data": {
      "text/plain": [
       "3"
      ]
     },
     "execution_count": 17,
     "metadata": {},
     "output_type": "execute_result"
    }
   ],
   "source": [
    "a"
   ]
  },
  {
   "cell_type": "markdown",
   "id": "c9604d7a-f59f-490e-bcd6-5540fa148946",
   "metadata": {},
   "source": [
    "## 꿀팁"
   ]
  },
  {
   "cell_type": "markdown",
   "id": "554cd878-a011-4e1b-a00e-6dc82c8b24f5",
   "metadata": {},
   "source": [
    "`-` 클래스를 조금 수정하고 싶을때, 아래와 같은 문법을 이용하면 편리하다. \n",
    "\n",
    "```Python\n",
    "class 새로운_클래스_이름(수정할_클래스_이름): \n",
    "    def 수정_및_추가할_함수이름(self,...):\n",
    "        ...\n",
    "```"
   ]
  },
  {
   "cell_type": "markdown",
   "id": "6cc32bbc-0922-408d-a72a-ac9baaa71e70",
   "metadata": {},
   "source": [
    "`-` 사용예시"
   ]
  },
  {
   "cell_type": "code",
   "execution_count": 18,
   "id": "0e97ca15-984a-45bd-88c6-27e2b7c5292b",
   "metadata": {},
   "outputs": [],
   "source": [
    "class UpJump_Ver3(UpJump_Ver2):\n",
    "    def __repr__(self):\n",
    "        return '현재의 이 인스턴스의 value는 {}입니다.'.format(self.value)"
   ]
  },
  {
   "cell_type": "code",
   "execution_count": 19,
   "id": "e927b5ed-483d-4827-b4a5-87fdfbf4330e",
   "metadata": {},
   "outputs": [],
   "source": [
    "a=UpJump_Ver3()"
   ]
  },
  {
   "cell_type": "code",
   "execution_count": 20,
   "id": "0186d7d6-2265-4dc9-86a0-bd727de0deb4",
   "metadata": {},
   "outputs": [
    {
     "data": {
      "text/plain": [
       "현재의 이 인스턴스의 value는 0입니다."
      ]
     },
     "execution_count": 20,
     "metadata": {},
     "output_type": "execute_result"
    }
   ],
   "source": [
    "a"
   ]
  },
  {
   "cell_type": "code",
   "execution_count": 21,
   "id": "319c4387-baed-42f1-adda-421ca2b00e84",
   "metadata": {},
   "outputs": [],
   "source": [
    "a.jump(50)"
   ]
  },
  {
   "cell_type": "code",
   "execution_count": 22,
   "id": "17db8cab-cb62-4eaf-a670-15eeb5858ab8",
   "metadata": {},
   "outputs": [
    {
     "data": {
      "text/plain": [
       "현재의 이 인스턴스의 value는 50입니다."
      ]
     },
     "execution_count": 22,
     "metadata": {},
     "output_type": "execute_result"
    }
   ],
   "source": [
    "a"
   ]
  },
  {
   "cell_type": "markdown",
   "id": "da1c7dcf-5b87-4ea8-ac6b-1ff26dfa9414",
   "metadata": {},
   "source": [
    "# 클래스공부 4단계: 파이썬의 비밀 (2)"
   ]
  },
  {
   "cell_type": "markdown",
   "id": "1bfa78cd-7e18-4544-9bcf-0d1abfbf9003",
   "metadata": {},
   "source": [
    "## 비밀6: `__add__`"
   ]
  },
  {
   "cell_type": "markdown",
   "id": "366664d9-f1e3-4123-a808-6bc8d12b0e5c",
   "metadata": {},
   "source": [
    "### ***motive***"
   ]
  },
  {
   "cell_type": "markdown",
   "id": "9a4903fc-67ca-4bd6-99d0-05c2fa7e040a",
   "metadata": {},
   "source": [
    "`-` 모티브: 아래의 연산구조를 관찰하자. "
   ]
  },
  {
   "cell_type": "code",
   "execution_count": 23,
   "id": "e68c3bd6-fde4-4c84-8f9d-eef44dd272e6",
   "metadata": {},
   "outputs": [
    {
     "data": {
      "text/plain": [
       "3"
      ]
     },
     "execution_count": 23,
     "metadata": {},
     "output_type": "execute_result"
    }
   ],
   "source": [
    "a=1\n",
    "b=2 \n",
    "a+b"
   ]
  },
  {
   "cell_type": "markdown",
   "id": "13884c76-7b58-451b-b19f-5ddfc890295f",
   "metadata": {},
   "source": [
    "- a라는 인스턴스와 b라는 인스턴스를 +라는 기호가 연결하고 있다. "
   ]
  },
  {
   "cell_type": "markdown",
   "id": "3b0d9cc3-7d83-4918-b3fa-7fac645ae86a",
   "metadata": {},
   "source": [
    "`-` 이번에는 아래의 연산구조를 관찰하자."
   ]
  },
  {
   "cell_type": "code",
   "execution_count": 24,
   "id": "09ef66e5-9549-450f-9787-a0b344bf4237",
   "metadata": {},
   "outputs": [
    {
     "data": {
      "text/plain": [
       "[1, 2, 3, 4]"
      ]
     },
     "execution_count": 24,
     "metadata": {},
     "output_type": "execute_result"
    }
   ],
   "source": [
    "a=[1,2]\n",
    "b=[3,4]\n",
    "a+b"
   ]
  },
  {
   "cell_type": "markdown",
   "id": "90085783-57d6-4153-add7-52b34f122abf",
   "metadata": {},
   "source": [
    "- a라는 인스턴스와 b라는 인스턴스를 +라는 기호가 연결하고 있다. "
   ]
  },
  {
   "cell_type": "markdown",
   "id": "b413724f-f9b5-4f8b-82d4-30cc9f29499c",
   "metadata": {},
   "source": [
    "`-` 동작이 다른 이유?\n",
    "\n",
    "- 클래스를 배우기 이전: int자료형의 `+`는 \"정수의 덧셈\"을 의미하고 list자료형의 `+`는 \"자료의 추가\"를 의미한다. \n",
    "- 클래스를 배운 이후: 아마 클래스는 `+`라는 연산을 정의하는 숨겨진 메소드가 있을것이다. (print가 그랬듯이) 그리고 int클래스에서는 그 메소드를 \"정수의 덧셈\"이 되도록 정의하였고 list클래스에서는 그 메소드를 \"자료의 추가\"를 의미하도록 정의하였다. "
   ]
  },
  {
   "cell_type": "markdown",
   "id": "a47bf074-64fe-4538-b534-d24f111fdca6",
   "metadata": {},
   "source": [
    "`-` 아래의 결과를 관찰"
   ]
  },
  {
   "cell_type": "code",
   "execution_count": 25,
   "id": "f4f0dde0-56e8-48bd-9753-172d733b8b4a",
   "metadata": {},
   "outputs": [],
   "source": [
    "a=1\n",
    "b=2"
   ]
  },
  {
   "cell_type": "code",
   "execution_count": 29,
   "id": "65165032-06ec-4354-b1a1-3dfd1f2bb31d",
   "metadata": {},
   "outputs": [
    {
     "data": {
      "text/plain": [
       "3"
      ]
     },
     "execution_count": 29,
     "metadata": {},
     "output_type": "execute_result"
    }
   ],
   "source": [
    "a.__add__(b)"
   ]
  },
  {
   "cell_type": "code",
   "execution_count": 30,
   "id": "8a9fb0a1-8e8e-40e8-b8da-8c23f118c287",
   "metadata": {},
   "outputs": [
    {
     "data": {
      "text/plain": [
       "3"
      ]
     },
     "execution_count": 30,
     "metadata": {},
     "output_type": "execute_result"
    }
   ],
   "source": [
    "b.__add__(a)"
   ]
  },
  {
   "cell_type": "code",
   "execution_count": 31,
   "id": "c45b0642-1a76-478d-9398-db8201d4a617",
   "metadata": {},
   "outputs": [],
   "source": [
    "a=[1,2]\n",
    "b=[3,4]"
   ]
  },
  {
   "cell_type": "code",
   "execution_count": 34,
   "id": "29d37b65-6e02-40be-9d72-90b8c33d5472",
   "metadata": {},
   "outputs": [
    {
     "data": {
      "text/plain": [
       "[1, 2, 3, 4]"
      ]
     },
     "execution_count": 34,
     "metadata": {},
     "output_type": "execute_result"
    }
   ],
   "source": [
    "a.__add__(b) # a+b "
   ]
  },
  {
   "cell_type": "code",
   "execution_count": 35,
   "id": "2849a30b-17f9-4398-9224-4e203e503cce",
   "metadata": {},
   "outputs": [
    {
     "data": {
      "text/plain": [
       "[3, 4, 1, 2]"
      ]
     },
     "execution_count": 35,
     "metadata": {},
     "output_type": "execute_result"
    }
   ],
   "source": [
    "b.__add__(a) # b+a "
   ]
  },
  {
   "cell_type": "markdown",
   "id": "e80b031f-6df9-403b-980a-f667934dd7a8",
   "metadata": {},
   "source": [
    "`-` 확인: a+b는 사실 내부적으로 `a.__add__(b)`의 축약구문이다. "
   ]
  },
  {
   "cell_type": "markdown",
   "id": "9f3013b5-b806-45cc-8899-6c11eec3737f",
   "metadata": {},
   "source": [
    "`-` 추측: 따라서 만약 `a.__add__(b)`의 기능을 바꾸면 (재정의하면) a+b의 기능도 바뀔 것이다. "
   ]
  },
  {
   "cell_type": "markdown",
   "id": "130a2583-005b-4728-8da5-9c626f42e975",
   "metadata": {},
   "source": [
    "### ***Student_Ver2: `__add__`의 사용***"
   ]
  },
  {
   "cell_type": "markdown",
   "id": "8560a0a0-39bc-422d-85c8-8fd7145e6724",
   "metadata": {},
   "source": [
    "`-` Student 클래스 선언 "
   ]
  },
  {
   "cell_type": "code",
   "execution_count": 68,
   "id": "c64faa6b-cbfd-43bd-b89e-d20e98ba1dbe",
   "metadata": {},
   "outputs": [],
   "source": [
    "class Student:\n",
    "    def __init__(self, age=20.0, semester=0): \n",
    "        self.age = age\n",
    "        self.semester = semester\n",
    "        print(\"입학을 축하합니다. 당신의 나이는 {}이고 현재 학기는 {}학기 입니다.\".format(self.age,self.semester))\n",
    "    def __add__(self,registration_status): \n",
    "        if registration_status=='휴학': \n",
    "            self.age=self.age+0.5\n",
    "        elif registration_status=='등록':\n",
    "            self.age=self.age+0.5 \n",
    "            self.semester= self.semester+1 \n",
    "    def _repr_html_(self):\n",
    "        html_str = \"\"\"\n",
    "        나이: {} <br/>\n",
    "        학기: {} <br/>\n",
    "        \"\"\"\n",
    "        return html_str.format(self.age,self.semester)"
   ]
  },
  {
   "cell_type": "markdown",
   "id": "9f238d81-f98e-4b22-8757-9e2c5fb7a54c",
   "metadata": {},
   "source": [
    "`-` 사용 "
   ]
  },
  {
   "cell_type": "code",
   "execution_count": 69,
   "id": "7f58c252-297a-4634-b518-7ca51fc82e47",
   "metadata": {},
   "outputs": [
    {
     "name": "stdout",
     "output_type": "stream",
     "text": [
      "입학을 축하합니다. 당신의 나이는 20.0이고 현재 학기는 0학기 입니다.\n"
     ]
    }
   ],
   "source": [
    "boram = Student()"
   ]
  },
  {
   "cell_type": "code",
   "execution_count": 70,
   "id": "e5e4cb99-5932-45bd-bd94-5320b1ae8c0f",
   "metadata": {},
   "outputs": [
    {
     "data": {
      "text/html": [
       "\n",
       "        나이: 20.0 <br/>\n",
       "        학기: 0 <br/>\n",
       "        "
      ],
      "text/plain": [
       "<__main__.Student at 0x7f4c1698fca0>"
      ]
     },
     "execution_count": 70,
     "metadata": {},
     "output_type": "execute_result"
    }
   ],
   "source": [
    "boram"
   ]
  },
  {
   "cell_type": "code",
   "execution_count": 71,
   "id": "3ffa9896-27ac-40d6-9ea9-6dcf06b18010",
   "metadata": {},
   "outputs": [
    {
     "data": {
      "text/html": [
       "\n",
       "        나이: 20.5 <br/>\n",
       "        학기: 1 <br/>\n",
       "        "
      ],
      "text/plain": [
       "<__main__.Student at 0x7f4c1698fca0>"
      ]
     },
     "execution_count": 71,
     "metadata": {},
     "output_type": "execute_result"
    }
   ],
   "source": [
    "boram + '등록'\n",
    "boram"
   ]
  },
  {
   "cell_type": "code",
   "execution_count": 72,
   "id": "3dd512be-7499-4cf1-9f80-de2c44be045d",
   "metadata": {},
   "outputs": [
    {
     "data": {
      "text/html": [
       "\n",
       "        나이: 21.0 <br/>\n",
       "        학기: 1 <br/>\n",
       "        "
      ],
      "text/plain": [
       "<__main__.Student at 0x7f4c1698fca0>"
      ]
     },
     "execution_count": 72,
     "metadata": {},
     "output_type": "execute_result"
    }
   ],
   "source": [
    "boram + '휴학'\n",
    "boram"
   ]
  },
  {
   "cell_type": "markdown",
   "id": "93c482d5-5df8-4758-87f7-2983a71c9776",
   "metadata": {},
   "source": [
    "`-` 잘못된 사용 "
   ]
  },
  {
   "cell_type": "code",
   "execution_count": 49,
   "id": "e657175e-84f1-423a-afad-2b169ff2c68e",
   "metadata": {},
   "outputs": [
    {
     "name": "stdout",
     "output_type": "stream",
     "text": [
      "입학을 축하합니다. 당신의 나이는 20.0이고 현재 학기는 0학기 입니다.\n"
     ]
    }
   ],
   "source": [
    "boram = Student()"
   ]
  },
  {
   "cell_type": "code",
   "execution_count": 54,
   "id": "637592e1-2cea-464c-ac1a-170eaf800f02",
   "metadata": {},
   "outputs": [
    {
     "ename": "TypeError",
     "evalue": "unsupported operand type(s) for +: 'NoneType' and 'str'",
     "output_type": "error",
     "traceback": [
      "\u001b[0;31m---------------------------------------------------------------------------\u001b[0m",
      "\u001b[0;31mTypeError\u001b[0m                                 Traceback (most recent call last)",
      "Cell \u001b[0;32mIn[54], line 1\u001b[0m\n\u001b[0;32m----> 1\u001b[0m \u001b[43mboram\u001b[49m\u001b[43m \u001b[49m\u001b[38;5;241;43m+\u001b[39;49m\u001b[43m \u001b[49m\u001b[38;5;124;43m'\u001b[39;49m\u001b[38;5;124;43m등록\u001b[39;49m\u001b[38;5;124;43m'\u001b[39;49m\u001b[38;5;241;43m+\u001b[39;49m\u001b[43m \u001b[49m\u001b[38;5;124;43m'\u001b[39;49m\u001b[38;5;124;43m휴학\u001b[39;49m\u001b[38;5;124;43m'\u001b[39;49m \u001b[38;5;241m+\u001b[39m \u001b[38;5;124m'\u001b[39m\u001b[38;5;124m등록\u001b[39m\u001b[38;5;124m'\u001b[39m \u001b[38;5;241m+\u001b[39m \u001b[38;5;124m'\u001b[39m\u001b[38;5;124m휴학\u001b[39m\u001b[38;5;124m'\u001b[39m\n",
      "\u001b[0;31mTypeError\u001b[0m: unsupported operand type(s) for +: 'NoneType' and 'str'"
     ]
    }
   ],
   "source": [
    "boram + '등록'+ '휴학' + '등록' + '휴학'"
   ]
  },
  {
   "cell_type": "markdown",
   "id": "47dfeb81-6aa8-4ace-8da3-e2f87dc53ee3",
   "metadata": {},
   "source": [
    "- 에러가?"
   ]
  },
  {
   "cell_type": "markdown",
   "id": "95d1cde5-016f-462d-9fe3-2adc49c7a393",
   "metadata": {},
   "source": [
    "`-` 올바른 코드 "
   ]
  },
  {
   "cell_type": "code",
   "execution_count": 55,
   "id": "e0f7fa65-9dfa-4649-84d4-a02c2a3d7cd1",
   "metadata": {},
   "outputs": [],
   "source": [
    "class Student_Ver2:\n",
    "    def __init__(self, age=20.0, semester=0): \n",
    "        self.age = age\n",
    "        self.semester = semester\n",
    "        print(\"입학을 축하합니다. 당신의 나이는 {}이고 현재 학기는 {}학기 입니다.\".format(self.age,self.semester))\n",
    "    def __add__(self,registration_status): \n",
    "        if registration_status=='휴학': \n",
    "            self.age = self.age+0.5\n",
    "        elif registration_status=='등록':\n",
    "            self.age = self.age+0.5 \n",
    "            self.semester = self.semester+1 \n",
    "        return self \n",
    "    def _repr_html_(self):\n",
    "        html_str = \"\"\"\n",
    "        나이: {} <br/>\n",
    "        학기: {} <br/>\n",
    "        \"\"\"\n",
    "        return html_str.format(self.age,self.semester)"
   ]
  },
  {
   "cell_type": "code",
   "execution_count": 56,
   "id": "8c10b901-9272-4a97-8922-e4d6ccf30992",
   "metadata": {},
   "outputs": [
    {
     "name": "stdout",
     "output_type": "stream",
     "text": [
      "입학을 축하합니다. 당신의 나이는 20.0이고 현재 학기는 0학기 입니다.\n"
     ]
    }
   ],
   "source": [
    "boram = Student_Ver2()"
   ]
  },
  {
   "cell_type": "code",
   "execution_count": 61,
   "id": "fc7547df-3fe5-4655-9370-967b97adf5fe",
   "metadata": {},
   "outputs": [
    {
     "data": {
      "text/html": [
       "\n",
       "        나이: 23.5 <br/>\n",
       "        학기: 5 <br/>\n",
       "        "
      ],
      "text/plain": [
       "<__main__.Student_Ver2 at 0x7f4c1689c8b0>"
      ]
     },
     "execution_count": 61,
     "metadata": {},
     "output_type": "execute_result"
    }
   ],
   "source": [
    "boram + \"등록\""
   ]
  },
  {
   "cell_type": "markdown",
   "id": "b3f1803c-c612-4ca4-88b1-ff1af8b7cf90",
   "metadata": {},
   "source": [
    "### ***Student_Ver2의 다른구현1***"
   ]
  },
  {
   "cell_type": "code",
   "execution_count": 73,
   "id": "a69650a4-5271-4b1c-8213-4781630ce1d8",
   "metadata": {},
   "outputs": [],
   "source": [
    "class Student_Ver2(Student):\n",
    "    def __add__(self,registration_status): \n",
    "        if registration_status=='휴학': \n",
    "            self.age = self.age+0.5\n",
    "        elif registration_status=='등록':\n",
    "            self.age = self.age+0.5 \n",
    "            self.semester = self.semester+1 \n",
    "        return self"
   ]
  },
  {
   "cell_type": "code",
   "execution_count": 74,
   "id": "4198b0fa-a094-47b7-ab7a-6ea6bb20d1b9",
   "metadata": {},
   "outputs": [
    {
     "name": "stdout",
     "output_type": "stream",
     "text": [
      "입학을 축하합니다. 당신의 나이는 20.0이고 현재 학기는 0학기 입니다.\n"
     ]
    }
   ],
   "source": [
    "boram = Student_Ver2()"
   ]
  },
  {
   "cell_type": "code",
   "execution_count": 75,
   "id": "148d3241-b9b9-455f-b145-9a9d8d814d50",
   "metadata": {},
   "outputs": [
    {
     "data": {
      "text/html": [
       "\n",
       "        나이: 22.0 <br/>\n",
       "        학기: 2 <br/>\n",
       "        "
      ],
      "text/plain": [
       "<__main__.Student_Ver2 at 0x7f4c16aa1760>"
      ]
     },
     "execution_count": 75,
     "metadata": {},
     "output_type": "execute_result"
    }
   ],
   "source": [
    "boram + '등록'+ '휴학' + '등록' + '휴학'"
   ]
  },
  {
   "cell_type": "markdown",
   "id": "02e98fea-7156-4f17-804e-2a56ceed53f3",
   "metadata": {},
   "source": [
    "### ***Student_Ver2의 다른구현2***"
   ]
  },
  {
   "cell_type": "markdown",
   "id": "8bde6c86-8266-4ee5-a27d-e6c46355aea3",
   "metadata": {},
   "source": [
    "- 요거까지는 지금 몰라도 됩니다"
   ]
  },
  {
   "cell_type": "code",
   "execution_count": 80,
   "id": "e4f14087-bc4b-4a7a-9e35-4d9d7f7fa515",
   "metadata": {},
   "outputs": [],
   "source": [
    "class Student_Ver2(Student):\n",
    "    def __add__(self,registration_status): \n",
    "        super().__add__(registration_status)\n",
    "        return self"
   ]
  },
  {
   "cell_type": "code",
   "execution_count": 81,
   "id": "87524983-6ae6-4612-a171-2c5f612e1fa3",
   "metadata": {},
   "outputs": [
    {
     "name": "stdout",
     "output_type": "stream",
     "text": [
      "입학을 축하합니다. 당신의 나이는 20.0이고 현재 학기는 0학기 입니다.\n"
     ]
    }
   ],
   "source": [
    "boram = Student_Ver2()"
   ]
  },
  {
   "cell_type": "code",
   "execution_count": 82,
   "id": "6877ae1e-e99b-416a-bcfd-a79c991be4ef",
   "metadata": {},
   "outputs": [
    {
     "data": {
      "text/html": [
       "\n",
       "        나이: 22.0 <br/>\n",
       "        학기: 2 <br/>\n",
       "        "
      ],
      "text/plain": [
       "<__main__.Student_Ver2 at 0x7f4c15e63d30>"
      ]
     },
     "execution_count": 82,
     "metadata": {},
     "output_type": "execute_result"
    }
   ],
   "source": [
    "boram + '등록' + '휴학' + '등록' + '휴학'"
   ]
  },
  {
   "cell_type": "markdown",
   "id": "c0831954-ec97-438b-8b4c-cfcbbf0ebd9b",
   "metadata": {},
   "source": [
    "> 파이썬의 비밀6: `a+b`는 사실 `a.__add__(b)`의 축약형이다. "
   ]
  },
  {
   "cell_type": "markdown",
   "id": "e26a2144-2130-45a6-9429-1501f7b2bf53",
   "metadata": {},
   "source": [
    "## 비밀7: `__getitem__`"
   ]
  },
  {
   "cell_type": "markdown",
   "id": "79019f7a-0c8a-4820-a4c0-7dcaa334ba67",
   "metadata": {},
   "source": [
    "### ***motive***"
   ]
  },
  {
   "cell_type": "code",
   "execution_count": 83,
   "id": "a473dd99-6b0c-44b3-9f1c-3fbfbdf3b88e",
   "metadata": {},
   "outputs": [],
   "source": [
    "a=[11,22,32]"
   ]
  },
  {
   "cell_type": "code",
   "execution_count": 84,
   "id": "52aa075e-6db4-467c-b945-e1faf61142b0",
   "metadata": {},
   "outputs": [
    {
     "data": {
      "text/plain": [
       "11"
      ]
     },
     "execution_count": 84,
     "metadata": {},
     "output_type": "execute_result"
    }
   ],
   "source": [
    "a[0]"
   ]
  },
  {
   "cell_type": "markdown",
   "id": "3d95285a-ef32-4a6f-b2b0-271ab4fba8a0",
   "metadata": {},
   "source": [
    "- 이거 좋아보인다? "
   ]
  },
  {
   "cell_type": "code",
   "execution_count": 87,
   "id": "d7c6a6f1-6e5e-4a06-b7f2-780a18d44d4a",
   "metadata": {},
   "outputs": [
    {
     "data": {
      "text/plain": [
       "11"
      ]
     },
     "execution_count": 87,
     "metadata": {},
     "output_type": "execute_result"
    }
   ],
   "source": [
    "a.__getitem__(0) # a[0]"
   ]
  },
  {
   "cell_type": "markdown",
   "id": "61790ae2-0b44-46b9-86c1-53812d002613",
   "metadata": {},
   "source": [
    "- 이런거였어?"
   ]
  },
  {
   "cell_type": "markdown",
   "id": "94598d7d-b716-4113-992f-582b2333b6ef",
   "metadata": {},
   "source": [
    "### ***RPS_Ver2: `__getitem__`의 사용***"
   ]
  },
  {
   "cell_type": "code",
   "execution_count": 88,
   "id": "0fabe7b7-e631-4ec9-8e9f-1fa98f6cf131",
   "metadata": {},
   "outputs": [],
   "source": [
    "class RPS:\n",
    "    def __init__(self,candidate):\n",
    "        self.candidate = candidate\n",
    "        self.actions = list() \n",
    "    def pick(self):\n",
    "        self.actions.append(np.random.choice(self.candidate))        \n",
    "    def _repr_html_(self):\n",
    "        html_str = \"\"\"\n",
    "        낼 수 있는 패: {} <br/>\n",
    "        기록: {}\n",
    "        \"\"\"        \n",
    "        return html_str.format(self.candidate,self.actions)"
   ]
  },
  {
   "cell_type": "code",
   "execution_count": 92,
   "id": "06091157-6e97-48a5-8104-49499eddfa4c",
   "metadata": {},
   "outputs": [],
   "source": [
    "a = RPS(['가위','바위','보'])"
   ]
  },
  {
   "cell_type": "code",
   "execution_count": 96,
   "id": "894e9809-6935-4ec3-b5d6-ef772eb92a6a",
   "metadata": {},
   "outputs": [],
   "source": [
    "a.pick()\n",
    "a.pick()"
   ]
  },
  {
   "cell_type": "code",
   "execution_count": 97,
   "id": "d625afab-6a16-4676-bd89-c6ed49fe1cfe",
   "metadata": {},
   "outputs": [
    {
     "data": {
      "text/plain": [
       "['바위', '바위']"
      ]
     },
     "execution_count": 97,
     "metadata": {},
     "output_type": "execute_result"
    }
   ],
   "source": [
    "a.actions"
   ]
  },
  {
   "cell_type": "code",
   "execution_count": 100,
   "id": "bf7dc13b-13ab-46d0-af7e-c2149b70ab0b",
   "metadata": {},
   "outputs": [
    {
     "ename": "TypeError",
     "evalue": "'RPS' object is not subscriptable",
     "output_type": "error",
     "traceback": [
      "\u001b[0;31m---------------------------------------------------------------------------\u001b[0m",
      "\u001b[0;31mTypeError\u001b[0m                                 Traceback (most recent call last)",
      "Cell \u001b[0;32mIn[100], line 1\u001b[0m\n\u001b[0;32m----> 1\u001b[0m \u001b[43ma\u001b[49m\u001b[43m[\u001b[49m\u001b[38;5;241;43m0\u001b[39;49m\u001b[43m]\u001b[49m, a[\u001b[38;5;241m1\u001b[39m]\n",
      "\u001b[0;31mTypeError\u001b[0m: 'RPS' object is not subscriptable"
     ]
    }
   ],
   "source": [
    "a[0], a[1]"
   ]
  },
  {
   "cell_type": "markdown",
   "id": "b01b4083-d385-44c1-bbb8-8f95b0e2f799",
   "metadata": {},
   "source": [
    "- 결과가 '가위', '바위'로 나오면 좋겠다.. 물론 지금은 불가능해"
   ]
  },
  {
   "cell_type": "code",
   "execution_count": 104,
   "id": "8f1ecdb1-9ba2-4c84-a299-0f15aaf633b7",
   "metadata": {},
   "outputs": [],
   "source": [
    "class RPS_Ver2(RPS):\n",
    "    def __getitem__(self,item):\n",
    "        return self.actions[item]"
   ]
  },
  {
   "cell_type": "code",
   "execution_count": 105,
   "id": "85c3e27a-4a50-49ab-9276-04e2f74961f4",
   "metadata": {},
   "outputs": [],
   "source": [
    "a = RPS_Ver2(['가위','바위','보'])"
   ]
  },
  {
   "cell_type": "code",
   "execution_count": 106,
   "id": "3745326f-28bf-4b94-b5c1-c5075486bd3d",
   "metadata": {},
   "outputs": [],
   "source": [
    "a.pick()\n",
    "a.pick()\n",
    "a.pick()"
   ]
  },
  {
   "cell_type": "code",
   "execution_count": 107,
   "id": "283b54b0-b33f-405f-853b-5a381ca822b5",
   "metadata": {},
   "outputs": [
    {
     "data": {
      "text/html": [
       "\n",
       "        낼 수 있는 패: ['가위', '바위', '보'] <br/>\n",
       "        기록: ['가위', '가위', '바위']\n",
       "        "
      ],
      "text/plain": [
       "<__main__.RPS_Ver2 at 0x7f4c15e8e760>"
      ]
     },
     "execution_count": 107,
     "metadata": {},
     "output_type": "execute_result"
    }
   ],
   "source": [
    "a"
   ]
  },
  {
   "cell_type": "code",
   "execution_count": 116,
   "id": "2e2ed367-3093-429f-a28c-4dcd7034fa64",
   "metadata": {},
   "outputs": [
    {
     "data": {
      "text/plain": [
       "'가위'"
      ]
     },
     "execution_count": 116,
     "metadata": {},
     "output_type": "execute_result"
    }
   ],
   "source": [
    "a[0]"
   ]
  },
  {
   "cell_type": "code",
   "execution_count": 117,
   "id": "1f66078b-59a1-4118-8f98-de35e2acdadf",
   "metadata": {},
   "outputs": [
    {
     "data": {
      "text/plain": [
       "['가위', '가위']"
      ]
     },
     "execution_count": 117,
     "metadata": {},
     "output_type": "execute_result"
    }
   ],
   "source": [
    "a[:2]"
   ]
  },
  {
   "cell_type": "markdown",
   "id": "091fcdae-3ae7-4940-8d6d-05c047696e39",
   "metadata": {},
   "source": [
    "> 파이썬의 비밀7: `a[0]`는 `a.__getitem__(0)`의 축약형이다. "
   ]
  },
  {
   "cell_type": "markdown",
   "id": "a19e9867-e172-4707-8584-01a470b5a68c",
   "metadata": {},
   "source": [
    "## 비밀8: `__setitem__`"
   ]
  },
  {
   "cell_type": "markdown",
   "id": "99d47534-6b75-4ccc-871f-c0cd80f7b6f4",
   "metadata": {},
   "source": [
    "### ***motive***"
   ]
  },
  {
   "cell_type": "code",
   "execution_count": 118,
   "id": "3f5a5a59-9aaa-41e5-84c7-d28de583fed1",
   "metadata": {},
   "outputs": [
    {
     "data": {
      "text/html": [
       "\n",
       "        낼 수 있는 패: ['가위', '바위'] <br/>\n",
       "        기록: []\n",
       "        "
      ],
      "text/plain": [
       "<__main__.RPS_Ver2 at 0x7f4c1618aca0>"
      ]
     },
     "execution_count": 118,
     "metadata": {},
     "output_type": "execute_result"
    }
   ],
   "source": [
    "a = RPS_Ver2(['가위','바위'])\n",
    "a"
   ]
  },
  {
   "cell_type": "code",
   "execution_count": 119,
   "id": "1c42ea45-110c-4743-a977-36a25189e177",
   "metadata": {},
   "outputs": [
    {
     "data": {
      "text/html": [
       "\n",
       "        낼 수 있는 패: ['가위', '바위'] <br/>\n",
       "        기록: ['가위', '바위']\n",
       "        "
      ],
      "text/plain": [
       "<__main__.RPS_Ver2 at 0x7f4c1618aca0>"
      ]
     },
     "execution_count": 119,
     "metadata": {},
     "output_type": "execute_result"
    }
   ],
   "source": [
    "a.pick()\n",
    "a.pick()\n",
    "a"
   ]
  },
  {
   "cell_type": "code",
   "execution_count": 120,
   "id": "3ec880c0-9f6c-4b1c-9ee6-599149bd869a",
   "metadata": {},
   "outputs": [
    {
     "data": {
      "text/plain": [
       "'가위'"
      ]
     },
     "execution_count": 120,
     "metadata": {},
     "output_type": "execute_result"
    }
   ],
   "source": [
    "a[0]"
   ]
  },
  {
   "cell_type": "code",
   "execution_count": 121,
   "id": "99b23a3e-5173-4d95-9168-4677af53d05d",
   "metadata": {},
   "outputs": [
    {
     "ename": "TypeError",
     "evalue": "'RPS_Ver2' object does not support item assignment",
     "output_type": "error",
     "traceback": [
      "\u001b[0;31m---------------------------------------------------------------------------\u001b[0m",
      "\u001b[0;31mTypeError\u001b[0m                                 Traceback (most recent call last)",
      "Cell \u001b[0;32mIn[121], line 1\u001b[0m\n\u001b[0;32m----> 1\u001b[0m \u001b[43ma\u001b[49m\u001b[43m[\u001b[49m\u001b[38;5;241;43m0\u001b[39;49m\u001b[43m]\u001b[49m \u001b[38;5;241m=\u001b[39m \u001b[38;5;124m'\u001b[39m\u001b[38;5;124m보\u001b[39m\u001b[38;5;124m'\u001b[39m \n",
      "\u001b[0;31mTypeError\u001b[0m: 'RPS_Ver2' object does not support item assignment"
     ]
    }
   ],
   "source": [
    "a[0] = '보' "
   ]
  },
  {
   "cell_type": "markdown",
   "id": "795645fd-fe32-47e6-9662-23ef0dfb1330",
   "metadata": {},
   "source": [
    "- 경우에 따라서는 이런 문법이 필요하기도 하다."
   ]
  },
  {
   "cell_type": "markdown",
   "id": "ba75018d-c2b6-4afc-b0d1-e1327183603a",
   "metadata": {},
   "source": [
    "### ***RPS_Ver3: `__setitem__` 사용*** "
   ]
  },
  {
   "cell_type": "markdown",
   "id": "1b92221e-72b8-42c5-b88a-ef3b092e1b6d",
   "metadata": {},
   "source": [
    "`-` 관찰"
   ]
  },
  {
   "cell_type": "code",
   "execution_count": 123,
   "id": "647f7361-3725-404c-9380-fe460401212e",
   "metadata": {},
   "outputs": [],
   "source": [
    "lst = [1,2,3]"
   ]
  },
  {
   "cell_type": "code",
   "execution_count": 124,
   "id": "186a0757-cd33-4f4a-8df4-b87935ebf1e2",
   "metadata": {},
   "outputs": [],
   "source": [
    "lst.__setitem__(0,11)"
   ]
  },
  {
   "cell_type": "code",
   "execution_count": 125,
   "id": "50bde749-e45e-47b6-bc3b-e719428bec73",
   "metadata": {},
   "outputs": [
    {
     "data": {
      "text/plain": [
       "[11, 2, 3]"
      ]
     },
     "execution_count": 125,
     "metadata": {},
     "output_type": "execute_result"
    }
   ],
   "source": [
    "lst"
   ]
  },
  {
   "cell_type": "markdown",
   "id": "4f9d28f4-aed3-4623-a30a-343b242c2189",
   "metadata": {},
   "source": [
    "`-` RPS예제"
   ]
  },
  {
   "cell_type": "code",
   "execution_count": 126,
   "id": "2939163b-a32e-452d-8603-af40e247a795",
   "metadata": {},
   "outputs": [],
   "source": [
    "class RPS_Ver3(RPS_Ver2):\n",
    "    def __setitem__(self,index,val):\n",
    "        self.actions[index] = val"
   ]
  },
  {
   "cell_type": "code",
   "execution_count": 127,
   "id": "3d194d9b-1039-473c-93a6-24e3e7f82c18",
   "metadata": {},
   "outputs": [],
   "source": [
    "a=RPS_Ver3(['가위','바위','보'])"
   ]
  },
  {
   "cell_type": "code",
   "execution_count": 128,
   "id": "04faea21-7c98-4231-b929-1ce890ae766c",
   "metadata": {},
   "outputs": [],
   "source": [
    "a.pick()"
   ]
  },
  {
   "cell_type": "code",
   "execution_count": 129,
   "id": "37301247-2cae-4421-ad89-23ba7ecadb4e",
   "metadata": {},
   "outputs": [
    {
     "data": {
      "text/html": [
       "\n",
       "        낼 수 있는 패: ['가위', '바위', '보'] <br/>\n",
       "        기록: ['보']\n",
       "        "
      ],
      "text/plain": [
       "<__main__.RPS_Ver3 at 0x7f4c16c0fc40>"
      ]
     },
     "execution_count": 129,
     "metadata": {},
     "output_type": "execute_result"
    }
   ],
   "source": [
    "a"
   ]
  },
  {
   "cell_type": "code",
   "execution_count": 131,
   "id": "3074d699-ea92-4895-8542-69fffcb4e3af",
   "metadata": {},
   "outputs": [],
   "source": [
    "a[0]='가위'"
   ]
  },
  {
   "cell_type": "code",
   "execution_count": 132,
   "id": "0ae5a3b1-83f0-48b2-a8d9-8ecb079e4ccb",
   "metadata": {},
   "outputs": [
    {
     "data": {
      "text/html": [
       "\n",
       "        낼 수 있는 패: ['가위', '바위', '보'] <br/>\n",
       "        기록: ['가위']\n",
       "        "
      ],
      "text/plain": [
       "<__main__.RPS_Ver3 at 0x7f4c16c0fc40>"
      ]
     },
     "execution_count": 132,
     "metadata": {},
     "output_type": "execute_result"
    }
   ],
   "source": [
    "a"
   ]
  },
  {
   "cell_type": "markdown",
   "id": "b0ba537d-fe10-489a-906c-7c84a1fbda1a",
   "metadata": {},
   "source": [
    "> 파이썬의 비밀8: `a[0]=11`는 `a.__setitem__(0,11)`의 축약형이다. "
   ]
  },
  {
   "cell_type": "markdown",
   "id": "6f13895c-3ce2-4b11-b89b-c6eaadce9916",
   "metadata": {},
   "source": [
    "\n",
    "## 비밀9: `__len__`"
   ]
  },
  {
   "cell_type": "markdown",
   "id": "4fae7ba6-cd9d-4bc1-b191-9413fdfb6047",
   "metadata": {},
   "source": [
    "### ***motive***"
   ]
  },
  {
   "cell_type": "code",
   "execution_count": 139,
   "id": "760c4fed-f77c-4698-ac63-c40a1603acd6",
   "metadata": {},
   "outputs": [
    {
     "data": {
      "text/html": [
       "\n",
       "        낼 수 있는 패: ['가위', '바위', '보'] <br/>\n",
       "        기록: []\n",
       "        "
      ],
      "text/plain": [
       "<__main__.RPS_Ver3 at 0x7f4c1689c7f0>"
      ]
     },
     "execution_count": 139,
     "metadata": {},
     "output_type": "execute_result"
    }
   ],
   "source": [
    "a= RPS_Ver3(['가위','바위','보'])\n",
    "a"
   ]
  },
  {
   "cell_type": "code",
   "execution_count": 140,
   "id": "258174c9-eea8-497d-98e2-c991ca4a92fe",
   "metadata": {},
   "outputs": [],
   "source": [
    "a.pick()\n",
    "a.pick()\n",
    "a.pick()"
   ]
  },
  {
   "cell_type": "code",
   "execution_count": 141,
   "id": "2a12cf8d-604a-48d4-9496-7fcf991d2884",
   "metadata": {},
   "outputs": [
    {
     "data": {
      "text/html": [
       "\n",
       "        낼 수 있는 패: ['가위', '바위', '보'] <br/>\n",
       "        기록: ['보', '가위', '바위']\n",
       "        "
      ],
      "text/plain": [
       "<__main__.RPS_Ver3 at 0x7f4c1689c7f0>"
      ]
     },
     "execution_count": 141,
     "metadata": {},
     "output_type": "execute_result"
    }
   ],
   "source": [
    "a"
   ]
  },
  {
   "cell_type": "code",
   "execution_count": 142,
   "id": "5b9d94b3-29d3-417c-9c7d-9486b0241d5b",
   "metadata": {},
   "outputs": [
    {
     "data": {
      "text/plain": [
       "('보', '가위', '바위')"
      ]
     },
     "execution_count": 142,
     "metadata": {},
     "output_type": "execute_result"
    }
   ],
   "source": [
    "a[0],a[1],a[2]"
   ]
  },
  {
   "cell_type": "code",
   "execution_count": 143,
   "id": "1f13560e-95b4-4125-bc93-cbc75350ad85",
   "metadata": {},
   "outputs": [
    {
     "ename": "TypeError",
     "evalue": "object of type 'RPS_Ver3' has no len()",
     "output_type": "error",
     "traceback": [
      "\u001b[0;31m---------------------------------------------------------------------------\u001b[0m",
      "\u001b[0;31mTypeError\u001b[0m                                 Traceback (most recent call last)",
      "Cell \u001b[0;32mIn[143], line 1\u001b[0m\n\u001b[0;32m----> 1\u001b[0m \u001b[38;5;28;43mlen\u001b[39;49m\u001b[43m(\u001b[49m\u001b[43ma\u001b[49m\u001b[43m)\u001b[49m\n",
      "\u001b[0;31mTypeError\u001b[0m: object of type 'RPS_Ver3' has no len()"
     ]
    }
   ],
   "source": [
    "len(a)"
   ]
  },
  {
   "cell_type": "markdown",
   "id": "9bbdde39-5729-4365-804d-c96d62296565",
   "metadata": {},
   "source": [
    "### ***RPS_Ver4: `__len__` 의 사용***"
   ]
  },
  {
   "cell_type": "code",
   "execution_count": 145,
   "id": "a709deca-70ea-48fa-8255-25bc881d400e",
   "metadata": {},
   "outputs": [],
   "source": [
    "class RPS_Ver4(RPS_Ver2):\n",
    "    def __len__(self):\n",
    "        return len(self.actions)"
   ]
  },
  {
   "cell_type": "code",
   "execution_count": 146,
   "id": "02aa010f-3504-4b8d-9629-552eb4e05a88",
   "metadata": {},
   "outputs": [
    {
     "data": {
      "text/html": [
       "\n",
       "        낼 수 있는 패: ['가위', '바위', '보'] <br/>\n",
       "        기록: []\n",
       "        "
      ],
      "text/plain": [
       "<__main__.RPS_Ver4 at 0x7f4c161641f0>"
      ]
     },
     "execution_count": 146,
     "metadata": {},
     "output_type": "execute_result"
    }
   ],
   "source": [
    "a = RPS_Ver4(['가위','바위','보'])\n",
    "a"
   ]
  },
  {
   "cell_type": "code",
   "execution_count": 147,
   "id": "d982c836-7cd6-4e58-b880-f1d6feb87ca8",
   "metadata": {},
   "outputs": [],
   "source": [
    "a.pick()\n",
    "a.pick()\n",
    "a.pick()\n",
    "a.pick()"
   ]
  },
  {
   "cell_type": "code",
   "execution_count": 148,
   "id": "a4c93125-c5ae-4374-b456-8d79aacd9e91",
   "metadata": {},
   "outputs": [
    {
     "data": {
      "text/html": [
       "\n",
       "        낼 수 있는 패: ['가위', '바위', '보'] <br/>\n",
       "        기록: ['가위', '가위', '보', '바위']\n",
       "        "
      ],
      "text/plain": [
       "<__main__.RPS_Ver4 at 0x7f4c161641f0>"
      ]
     },
     "execution_count": 148,
     "metadata": {},
     "output_type": "execute_result"
    }
   ],
   "source": [
    "a"
   ]
  },
  {
   "cell_type": "code",
   "execution_count": 149,
   "id": "2786e0dc-b382-4314-acb8-f1cd0c399153",
   "metadata": {},
   "outputs": [
    {
     "data": {
      "text/plain": [
       "4"
      ]
     },
     "execution_count": 149,
     "metadata": {},
     "output_type": "execute_result"
    }
   ],
   "source": [
    "a.__len__() # len(a.actions)"
   ]
  },
  {
   "cell_type": "code",
   "execution_count": 150,
   "id": "6a94b93c-e04c-4442-94f8-405e3d6c129b",
   "metadata": {},
   "outputs": [
    {
     "data": {
      "text/plain": [
       "4"
      ]
     },
     "execution_count": 150,
     "metadata": {},
     "output_type": "execute_result"
    }
   ],
   "source": [
    "len(a) # a.__len__()"
   ]
  },
  {
   "cell_type": "markdown",
   "id": "8446a2fd-d5da-428f-86ca-945e43334db4",
   "metadata": {},
   "source": [
    "> 파이썬의 비밀9: `a.__len__()`는 `len(a)`의 축약형이다. "
   ]
  },
  {
   "cell_type": "markdown",
   "id": "69bc6579-490f-4602-9ff8-ea7a26208a18",
   "metadata": {},
   "source": [
    "## 비밀10: 비교연산자"
   ]
  },
  {
   "cell_type": "markdown",
   "id": "ff18083f-5fe5-4c76-a500-0d8c7fe0d382",
   "metadata": {},
   "source": [
    "### ***motive1***"
   ]
  },
  {
   "cell_type": "code",
   "execution_count": 153,
   "id": "519963db-147b-4e04-abbe-13b773bfc512",
   "metadata": {},
   "outputs": [],
   "source": [
    "a = RPS_Ver4(['가위'])\n",
    "b = RPS_Ver4(['가위'])"
   ]
  },
  {
   "cell_type": "code",
   "execution_count": 154,
   "id": "b45dc600-002d-4d98-8d2f-21170e6f71b2",
   "metadata": {},
   "outputs": [],
   "source": [
    "a.pick()\n",
    "b.pick()"
   ]
  },
  {
   "cell_type": "code",
   "execution_count": 155,
   "id": "26157840-5134-478b-abe1-c2ee3e00ff2a",
   "metadata": {},
   "outputs": [
    {
     "data": {
      "text/html": [
       "\n",
       "        낼 수 있는 패: ['가위'] <br/>\n",
       "        기록: ['가위']\n",
       "        "
      ],
      "text/plain": [
       "<__main__.RPS_Ver4 at 0x7f4c16b1ab50>"
      ]
     },
     "execution_count": 155,
     "metadata": {},
     "output_type": "execute_result"
    }
   ],
   "source": [
    "a"
   ]
  },
  {
   "cell_type": "code",
   "execution_count": 156,
   "id": "24e29923-27fd-4785-887c-ee11714bf2fb",
   "metadata": {},
   "outputs": [
    {
     "data": {
      "text/html": [
       "\n",
       "        낼 수 있는 패: ['가위'] <br/>\n",
       "        기록: ['가위']\n",
       "        "
      ],
      "text/plain": [
       "<__main__.RPS_Ver4 at 0x7f4c1689c4f0>"
      ]
     },
     "execution_count": 156,
     "metadata": {},
     "output_type": "execute_result"
    }
   ],
   "source": [
    "b"
   ]
  },
  {
   "cell_type": "code",
   "execution_count": 158,
   "id": "db9d8b11-15bd-4a21-b5c9-45cf0b9d888a",
   "metadata": {},
   "outputs": [
    {
     "data": {
      "text/plain": [
       "False"
      ]
     },
     "execution_count": 158,
     "metadata": {},
     "output_type": "execute_result"
    }
   ],
   "source": [
    "a == b"
   ]
  },
  {
   "cell_type": "markdown",
   "id": "e3752700-5585-4da9-aa6b-67f7ab629b6d",
   "metadata": {},
   "source": [
    "- `가위 == 가위` 이면 True가 나오면 좋겠구만.. "
   ]
  },
  {
   "cell_type": "code",
   "execution_count": 160,
   "id": "8936bbe9-a77b-4050-8f04-5d4956ce4fdf",
   "metadata": {},
   "outputs": [
    {
     "data": {
      "text/plain": [
       "True"
      ]
     },
     "execution_count": 160,
     "metadata": {},
     "output_type": "execute_result"
    }
   ],
   "source": [
    "a[-1] == b[-1] "
   ]
  },
  {
   "cell_type": "markdown",
   "id": "88aa73f1-17ab-433f-aa78-7625af541363",
   "metadata": {},
   "source": [
    "- 이렇게 하면 되긴하지.."
   ]
  },
  {
   "cell_type": "markdown",
   "id": "e9bef382-b33b-44d6-971b-b859e49e2460",
   "metadata": {},
   "source": [
    "### ***RPS_Ver5: `__eq__` 의 사용***"
   ]
  },
  {
   "cell_type": "markdown",
   "id": "76d086d5-0c5f-4511-a1de-d5d119ac8453",
   "metadata": {},
   "source": [
    "`-` 관찰 "
   ]
  },
  {
   "cell_type": "code",
   "execution_count": 161,
   "id": "f6286cd9-b400-4b46-9b4e-4488c0f6eae6",
   "metadata": {},
   "outputs": [],
   "source": [
    "a = 1"
   ]
  },
  {
   "cell_type": "code",
   "execution_count": 164,
   "id": "1d546444-867b-42c5-914f-672009ad10ea",
   "metadata": {},
   "outputs": [
    {
     "data": {
      "text/plain": [
       "True"
      ]
     },
     "execution_count": 164,
     "metadata": {},
     "output_type": "execute_result"
    }
   ],
   "source": [
    "a.__eq__(1) # a == 1"
   ]
  },
  {
   "cell_type": "code",
   "execution_count": 167,
   "id": "8f6c5a90-5a41-4ea1-9479-ee654188111f",
   "metadata": {},
   "outputs": [
    {
     "data": {
      "text/plain": [
       "False"
      ]
     },
     "execution_count": 167,
     "metadata": {},
     "output_type": "execute_result"
    }
   ],
   "source": [
    "a.__eq__(2) # a == 2 "
   ]
  },
  {
   "cell_type": "markdown",
   "id": "b0ee2bbc-e9ab-4e35-aeb5-d5503e60a021",
   "metadata": {},
   "source": [
    "`-` 구현 "
   ]
  },
  {
   "cell_type": "code",
   "execution_count": 216,
   "id": "80d56f09-62ab-4233-a282-a38aa28f2f95",
   "metadata": {},
   "outputs": [],
   "source": [
    "class RPS_Ver5(RPS_Ver4):\n",
    "    def __eq__(self,other):\n",
    "        return self[-1] == other[-1]"
   ]
  },
  {
   "cell_type": "code",
   "execution_count": 217,
   "id": "195daaf3-5425-4ccf-a033-a95d90b84655",
   "metadata": {},
   "outputs": [],
   "source": [
    "a = RPS_Ver5(['가위','바위'])\n",
    "b = RPS_Ver5(['가위','바위'])"
   ]
  },
  {
   "cell_type": "markdown",
   "id": "f82ee8e3-2907-4763-b016-20f04bd5904a",
   "metadata": {},
   "source": [
    "`-` 1회 대결 "
   ]
  },
  {
   "cell_type": "code",
   "execution_count": 218,
   "id": "e20f3c77-bb55-4566-b07f-c910af3ef1c3",
   "metadata": {},
   "outputs": [],
   "source": [
    "a.pick()\n",
    "b.pick()"
   ]
  },
  {
   "cell_type": "code",
   "execution_count": 219,
   "id": "50a2e28b-4ce1-47cd-b92f-95ef643588d9",
   "metadata": {},
   "outputs": [
    {
     "data": {
      "text/html": [
       "\n",
       "        낼 수 있는 패: ['가위', '바위'] <br/>\n",
       "        기록: ['바위']\n",
       "        "
      ],
      "text/plain": [
       "<__main__.RPS_Ver5 at 0x7f4c1689cfa0>"
      ]
     },
     "execution_count": 219,
     "metadata": {},
     "output_type": "execute_result"
    }
   ],
   "source": [
    "a"
   ]
  },
  {
   "cell_type": "code",
   "execution_count": 220,
   "id": "ac755145-3aba-4b4a-89af-8b8feec7bb0b",
   "metadata": {},
   "outputs": [
    {
     "data": {
      "text/html": [
       "\n",
       "        낼 수 있는 패: ['가위', '바위'] <br/>\n",
       "        기록: ['바위']\n",
       "        "
      ],
      "text/plain": [
       "<__main__.RPS_Ver5 at 0x7f4c41121280>"
      ]
     },
     "execution_count": 220,
     "metadata": {},
     "output_type": "execute_result"
    }
   ],
   "source": [
    "b"
   ]
  },
  {
   "cell_type": "code",
   "execution_count": 221,
   "id": "1576d8ee-aef8-481f-973a-b3886aad80ac",
   "metadata": {},
   "outputs": [
    {
     "data": {
      "text/plain": [
       "True"
      ]
     },
     "execution_count": 221,
     "metadata": {},
     "output_type": "execute_result"
    }
   ],
   "source": [
    "a == b"
   ]
  },
  {
   "cell_type": "markdown",
   "id": "7036d271-62f3-4ee8-b4a1-8e0c20a1155c",
   "metadata": {},
   "source": [
    "`-` 2회 대결 "
   ]
  },
  {
   "cell_type": "code",
   "execution_count": 222,
   "id": "3aa53a4e-b751-481a-885c-477f74e68fe7",
   "metadata": {},
   "outputs": [],
   "source": [
    "a.pick()\n",
    "b.pick()"
   ]
  },
  {
   "cell_type": "code",
   "execution_count": 223,
   "id": "9557f686-dd49-45cb-b3a2-79066420c4d7",
   "metadata": {},
   "outputs": [
    {
     "data": {
      "text/html": [
       "\n",
       "        낼 수 있는 패: ['가위', '바위'] <br/>\n",
       "        기록: ['바위', '가위']\n",
       "        "
      ],
      "text/plain": [
       "<__main__.RPS_Ver5 at 0x7f4c1689cfa0>"
      ]
     },
     "execution_count": 223,
     "metadata": {},
     "output_type": "execute_result"
    }
   ],
   "source": [
    "a"
   ]
  },
  {
   "cell_type": "code",
   "execution_count": 224,
   "id": "2cb4cb44-89e9-4849-b2ea-1c9a4d596ba1",
   "metadata": {},
   "outputs": [
    {
     "data": {
      "text/html": [
       "\n",
       "        낼 수 있는 패: ['가위', '바위'] <br/>\n",
       "        기록: ['바위', '가위']\n",
       "        "
      ],
      "text/plain": [
       "<__main__.RPS_Ver5 at 0x7f4c41121280>"
      ]
     },
     "execution_count": 224,
     "metadata": {},
     "output_type": "execute_result"
    }
   ],
   "source": [
    "b"
   ]
  },
  {
   "cell_type": "code",
   "execution_count": 225,
   "id": "a4bed330-929b-4c40-a825-bcbf211c6258",
   "metadata": {},
   "outputs": [
    {
     "data": {
      "text/plain": [
       "True"
      ]
     },
     "execution_count": 225,
     "metadata": {},
     "output_type": "execute_result"
    }
   ],
   "source": [
    "a == b"
   ]
  },
  {
   "cell_type": "markdown",
   "id": "916d5775-f65e-41b4-9a49-251af942cb80",
   "metadata": {},
   "source": [
    "`-` 3회 대결 "
   ]
  },
  {
   "cell_type": "code",
   "execution_count": 226,
   "id": "310f4458-5b95-48ba-bbd2-81c4d3ba8f55",
   "metadata": {},
   "outputs": [],
   "source": [
    "a.pick()\n",
    "b.pick()"
   ]
  },
  {
   "cell_type": "code",
   "execution_count": 227,
   "id": "458bdf73-5fcf-4151-9cda-ed42dc38ef72",
   "metadata": {},
   "outputs": [
    {
     "data": {
      "text/html": [
       "\n",
       "        낼 수 있는 패: ['가위', '바위'] <br/>\n",
       "        기록: ['바위', '가위', '가위']\n",
       "        "
      ],
      "text/plain": [
       "<__main__.RPS_Ver5 at 0x7f4c1689cfa0>"
      ]
     },
     "execution_count": 227,
     "metadata": {},
     "output_type": "execute_result"
    }
   ],
   "source": [
    "a"
   ]
  },
  {
   "cell_type": "code",
   "execution_count": 228,
   "id": "de2580f7-e3d5-4126-af52-61fe8a06fc62",
   "metadata": {},
   "outputs": [
    {
     "data": {
      "text/html": [
       "\n",
       "        낼 수 있는 패: ['가위', '바위'] <br/>\n",
       "        기록: ['바위', '가위', '바위']\n",
       "        "
      ],
      "text/plain": [
       "<__main__.RPS_Ver5 at 0x7f4c41121280>"
      ]
     },
     "execution_count": 228,
     "metadata": {},
     "output_type": "execute_result"
    }
   ],
   "source": [
    "b"
   ]
  },
  {
   "cell_type": "code",
   "execution_count": 229,
   "id": "8330588a-05e9-4cc4-981e-d88b4025f4b2",
   "metadata": {},
   "outputs": [
    {
     "data": {
      "text/plain": [
       "False"
      ]
     },
     "execution_count": 229,
     "metadata": {},
     "output_type": "execute_result"
    }
   ],
   "source": [
    "a == b"
   ]
  },
  {
   "cell_type": "markdown",
   "id": "1c23db0e-9925-47c1-ba7e-0ee9624abd6c",
   "metadata": {},
   "source": [
    "### ***motive2***"
   ]
  },
  {
   "cell_type": "code",
   "execution_count": 185,
   "id": "61787796-cde2-4292-9094-f088be1dec96",
   "metadata": {},
   "outputs": [
    {
     "data": {
      "text/plain": [
       "('바위', '바위')"
      ]
     },
     "execution_count": 185,
     "metadata": {},
     "output_type": "execute_result"
    }
   ],
   "source": [
    "a[-1], b[-1]"
   ]
  },
  {
   "cell_type": "code",
   "execution_count": 186,
   "id": "eb721e7d-62db-40e6-af0a-8f0882b293ca",
   "metadata": {},
   "outputs": [
    {
     "ename": "TypeError",
     "evalue": "'>' not supported between instances of 'RPS_Ver5' and 'RPS_Ver5'",
     "output_type": "error",
     "traceback": [
      "\u001b[0;31m---------------------------------------------------------------------------\u001b[0m",
      "\u001b[0;31mTypeError\u001b[0m                                 Traceback (most recent call last)",
      "Cell \u001b[0;32mIn[186], line 1\u001b[0m\n\u001b[0;32m----> 1\u001b[0m \u001b[43ma\u001b[49m\u001b[43m \u001b[49m\u001b[38;5;241;43m>\u001b[39;49m\u001b[43m \u001b[49m\u001b[43mb\u001b[49m\n",
      "\u001b[0;31mTypeError\u001b[0m: '>' not supported between instances of 'RPS_Ver5' and 'RPS_Ver5'"
     ]
    }
   ],
   "source": [
    "a > b"
   ]
  },
  {
   "cell_type": "markdown",
   "id": "a9d5c5d5-380c-4dd8-8cb4-376a5b9c8091",
   "metadata": {},
   "source": [
    "- False 가 나오면 좋겟구만.. "
   ]
  },
  {
   "cell_type": "markdown",
   "id": "e788eb5d-683f-4113-b3ea-8bf20c09df49",
   "metadata": {
    "tags": []
   },
   "source": [
    "### ***RPS_Ver6: `__gt__` 의 사용***"
   ]
  },
  {
   "cell_type": "markdown",
   "id": "3defc07a-8c04-486b-928b-623b330ad145",
   "metadata": {},
   "source": [
    "`-` 관찰 "
   ]
  },
  {
   "cell_type": "code",
   "execution_count": 187,
   "id": "f0597eeb-d4cf-4e11-8144-3389f459da0f",
   "metadata": {},
   "outputs": [],
   "source": [
    "a = 1"
   ]
  },
  {
   "cell_type": "code",
   "execution_count": 188,
   "id": "7d9385f3-c580-4fa0-ba02-dabcb9b37fcf",
   "metadata": {},
   "outputs": [
    {
     "data": {
      "text/plain": [
       "False"
      ]
     },
     "execution_count": 188,
     "metadata": {},
     "output_type": "execute_result"
    }
   ],
   "source": [
    "a.__gt__(1) # a>1"
   ]
  },
  {
   "cell_type": "code",
   "execution_count": 189,
   "id": "d1001999-255d-46fc-aea6-57b72b4bd9ce",
   "metadata": {},
   "outputs": [
    {
     "data": {
      "text/plain": [
       "True"
      ]
     },
     "execution_count": 189,
     "metadata": {},
     "output_type": "execute_result"
    }
   ],
   "source": [
    "a.__gt__(0) # a>0 "
   ]
  },
  {
   "cell_type": "markdown",
   "id": "af311d32-bace-493c-a6d0-9f0d67f7d439",
   "metadata": {},
   "source": [
    "`-` **예비학습**"
   ]
  },
  {
   "cell_type": "code",
   "execution_count": 232,
   "id": "fe5363d7-39ab-4a6c-9ae8-8ddbf2259ebb",
   "metadata": {},
   "outputs": [
    {
     "data": {
      "text/plain": [
       "['가위', '바위']"
      ]
     },
     "execution_count": 232,
     "metadata": {},
     "output_type": "execute_result"
    }
   ],
   "source": [
    "[a[-1],b[-1]]"
   ]
  },
  {
   "cell_type": "code",
   "execution_count": 233,
   "id": "4ad92fa1-25db-4916-9846-42fc77899a17",
   "metadata": {},
   "outputs": [
    {
     "data": {
      "text/plain": [
       "False"
      ]
     },
     "execution_count": 233,
     "metadata": {},
     "output_type": "execute_result"
    }
   ],
   "source": [
    "[a[-1],b[-1]] in [['가위','보'],['바위','가위'],['보','바위']]"
   ]
  },
  {
   "cell_type": "markdown",
   "id": "086c46d5-3afd-4da4-8e7c-856317a9d1f4",
   "metadata": {},
   "source": [
    "`-` 구현 "
   ]
  },
  {
   "cell_type": "code",
   "execution_count": 234,
   "id": "c88866c8-b7c9-4599-bb35-75c971a03ee1",
   "metadata": {},
   "outputs": [],
   "source": [
    "class RPS_Ver6(RPS_Ver5):\n",
    "    def __gt__(self,other):\n",
    "        return [self[-1],other[-1]] in [['가위','보'],['바위','가위'],['보','바위']]"
   ]
  },
  {
   "cell_type": "code",
   "execution_count": 235,
   "id": "fcf450c1-70d6-4d9b-a9d9-b7e40a871604",
   "metadata": {},
   "outputs": [],
   "source": [
    "a = RPS_Ver6(['가위','바위','보'])\n",
    "b = RPS_Ver6(['가위','바위','보'])"
   ]
  },
  {
   "cell_type": "markdown",
   "id": "d6e19525-c1f0-4c01-ab7e-8ccb1bb34186",
   "metadata": {},
   "source": [
    "`-` 1회대결 "
   ]
  },
  {
   "cell_type": "code",
   "execution_count": 236,
   "id": "7e336058-a655-4c91-af05-e6d534608f7c",
   "metadata": {},
   "outputs": [],
   "source": [
    "a.pick() \n",
    "b.pick()"
   ]
  },
  {
   "cell_type": "code",
   "execution_count": 237,
   "id": "2142524c-9f45-4a51-a27b-077ce4c13fc3",
   "metadata": {},
   "outputs": [
    {
     "data": {
      "text/html": [
       "\n",
       "        낼 수 있는 패: ['가위', '바위', '보'] <br/>\n",
       "        기록: ['바위']\n",
       "        "
      ],
      "text/plain": [
       "<__main__.RPS_Ver6 at 0x7f4c16f006d0>"
      ]
     },
     "execution_count": 237,
     "metadata": {},
     "output_type": "execute_result"
    }
   ],
   "source": [
    "a"
   ]
  },
  {
   "cell_type": "code",
   "execution_count": 238,
   "id": "edfccb72-3a1c-40e7-bb26-49288e828e57",
   "metadata": {},
   "outputs": [
    {
     "data": {
      "text/html": [
       "\n",
       "        낼 수 있는 패: ['가위', '바위', '보'] <br/>\n",
       "        기록: ['바위']\n",
       "        "
      ],
      "text/plain": [
       "<__main__.RPS_Ver6 at 0x7f4c16f00100>"
      ]
     },
     "execution_count": 238,
     "metadata": {},
     "output_type": "execute_result"
    }
   ],
   "source": [
    "b"
   ]
  },
  {
   "cell_type": "code",
   "execution_count": 240,
   "id": "cde45114-fb10-4e01-8cae-aa63f6debaef",
   "metadata": {},
   "outputs": [
    {
     "data": {
      "text/plain": [
       "(False, True)"
      ]
     },
     "execution_count": 240,
     "metadata": {},
     "output_type": "execute_result"
    }
   ],
   "source": [
    "a>b, a==b"
   ]
  },
  {
   "cell_type": "markdown",
   "id": "bff6ea05-3844-46b9-a6c3-7fe5de108793",
   "metadata": {},
   "source": [
    "`-` 2회대결 "
   ]
  },
  {
   "cell_type": "code",
   "execution_count": 241,
   "id": "ee799dc5-596e-40bf-8376-46d981a4958b",
   "metadata": {},
   "outputs": [],
   "source": [
    "a.pick() \n",
    "b.pick()"
   ]
  },
  {
   "cell_type": "code",
   "execution_count": 242,
   "id": "d7a98b62-235f-48c1-9733-a7ed3cac0a6b",
   "metadata": {},
   "outputs": [
    {
     "data": {
      "text/html": [
       "\n",
       "        낼 수 있는 패: ['가위', '바위', '보'] <br/>\n",
       "        기록: ['바위', '보']\n",
       "        "
      ],
      "text/plain": [
       "<__main__.RPS_Ver6 at 0x7f4c16f006d0>"
      ]
     },
     "execution_count": 242,
     "metadata": {},
     "output_type": "execute_result"
    }
   ],
   "source": [
    "a"
   ]
  },
  {
   "cell_type": "code",
   "execution_count": 243,
   "id": "ba23f80b-700c-436a-894a-8866e84f7d4c",
   "metadata": {},
   "outputs": [
    {
     "data": {
      "text/html": [
       "\n",
       "        낼 수 있는 패: ['가위', '바위', '보'] <br/>\n",
       "        기록: ['바위', '바위']\n",
       "        "
      ],
      "text/plain": [
       "<__main__.RPS_Ver6 at 0x7f4c16f00100>"
      ]
     },
     "execution_count": 243,
     "metadata": {},
     "output_type": "execute_result"
    }
   ],
   "source": [
    "b"
   ]
  },
  {
   "cell_type": "code",
   "execution_count": 245,
   "id": "dd53c67d-029d-4490-9c63-5d6f7d54e685",
   "metadata": {},
   "outputs": [
    {
     "data": {
      "text/plain": [
       "(True, False)"
      ]
     },
     "execution_count": 245,
     "metadata": {},
     "output_type": "execute_result"
    }
   ],
   "source": [
    "a>b, a==b"
   ]
  },
  {
   "cell_type": "markdown",
   "id": "b9608c4f-1253-4eb5-8277-c2d6519a9e11",
   "metadata": {},
   "source": [
    "### ***motive3***"
   ]
  },
  {
   "cell_type": "code",
   "execution_count": 246,
   "id": "46624ad7-4c1a-4485-a237-d7081746f8e1",
   "metadata": {},
   "outputs": [
    {
     "data": {
      "text/html": [
       "\n",
       "        낼 수 있는 패: ['가위', '바위', '보'] <br/>\n",
       "        기록: ['바위', '보']\n",
       "        "
      ],
      "text/plain": [
       "<__main__.RPS_Ver6 at 0x7f4c16f006d0>"
      ]
     },
     "execution_count": 246,
     "metadata": {},
     "output_type": "execute_result"
    }
   ],
   "source": [
    "a"
   ]
  },
  {
   "cell_type": "code",
   "execution_count": 247,
   "id": "58112bd7-0851-4908-bf70-4a7a98c03cbe",
   "metadata": {},
   "outputs": [
    {
     "data": {
      "text/html": [
       "\n",
       "        낼 수 있는 패: ['가위', '바위', '보'] <br/>\n",
       "        기록: ['바위', '바위']\n",
       "        "
      ],
      "text/plain": [
       "<__main__.RPS_Ver6 at 0x7f4c16f00100>"
      ]
     },
     "execution_count": 247,
     "metadata": {},
     "output_type": "execute_result"
    }
   ],
   "source": [
    "b"
   ]
  },
  {
   "cell_type": "code",
   "execution_count": 248,
   "id": "6de0c6e4-98d8-484c-a2ed-ea1995204eef",
   "metadata": {},
   "outputs": [
    {
     "ename": "TypeError",
     "evalue": "'>=' not supported between instances of 'RPS_Ver6' and 'RPS_Ver6'",
     "output_type": "error",
     "traceback": [
      "\u001b[0;31m---------------------------------------------------------------------------\u001b[0m",
      "\u001b[0;31mTypeError\u001b[0m                                 Traceback (most recent call last)",
      "Cell \u001b[0;32mIn[248], line 1\u001b[0m\n\u001b[0;32m----> 1\u001b[0m \u001b[43ma\u001b[49m\u001b[38;5;241;43m>\u001b[39;49m\u001b[38;5;241;43m=\u001b[39;49m\u001b[43mb\u001b[49m\n",
      "\u001b[0;31mTypeError\u001b[0m: '>=' not supported between instances of 'RPS_Ver6' and 'RPS_Ver6'"
     ]
    }
   ],
   "source": [
    "a>=b"
   ]
  },
  {
   "cell_type": "markdown",
   "id": "b06b0a17-fd4c-448a-aa19-b2997eee6b3e",
   "metadata": {},
   "source": [
    "- True로 나오면 좋겠구만.."
   ]
  },
  {
   "cell_type": "code",
   "execution_count": 249,
   "id": "458aaa73-0929-4df9-ba05-8e93d9435f70",
   "metadata": {},
   "outputs": [
    {
     "data": {
      "text/plain": [
       "False"
      ]
     },
     "execution_count": 249,
     "metadata": {},
     "output_type": "execute_result"
    }
   ],
   "source": [
    "a < b"
   ]
  },
  {
   "cell_type": "markdown",
   "id": "b8af8d4c-6b3e-4de8-a5e2-27286bc6b7f1",
   "metadata": {},
   "source": [
    "- 이것도 정의 새로 해야겠는걸? "
   ]
  },
  {
   "cell_type": "markdown",
   "id": "404a567e-ba71-4c5b-a728-0df29f674ded",
   "metadata": {
    "tags": []
   },
   "source": [
    "### ***RPS_Ver7: `__ge__`, `__lt__`, `__le__` 의 사용***"
   ]
  },
  {
   "cell_type": "markdown",
   "id": "90a4d91d-d8be-400a-863d-1a89df9018b1",
   "metadata": {},
   "source": [
    "`-` 관찰: 생략 "
   ]
  },
  {
   "cell_type": "markdown",
   "id": "f6e3cb0b-3875-4ebc-a618-40a45dd59de9",
   "metadata": {},
   "source": [
    "`-` 비교연산자 정리"
   ]
  },
  {
   "cell_type": "markdown",
   "id": "15375435-42ac-48ba-8fc7-4865595bf44f",
   "metadata": {},
   "source": [
    "|특수메소드|의미|\n",
    "|:-:|:-:|\n",
    "|`__eq__`|`self == other`|\n",
    "|`__gt__`|`self > other`|\n",
    "|`__lt__`|`self < other`|\n",
    "|`__ge__`|`self >= other`|\n",
    "|`__le__`|`self <= other`|"
   ]
  },
  {
   "cell_type": "markdown",
   "id": "2de31e6b-35c6-41d3-82e9-f45329898eaf",
   "metadata": {},
   "source": [
    "`-` 구현 "
   ]
  },
  {
   "cell_type": "code",
   "execution_count": 252,
   "id": "498638da-17f4-4877-a6c6-ff076fe05296",
   "metadata": {},
   "outputs": [],
   "source": [
    "class RPS_Ver7(RPS_Ver6):\n",
    "    def __ge__(self,other):\n",
    "        return (self == other) or (self > other)\n",
    "    def __lt__(self,other):\n",
    "        return not (self >= other)\n",
    "    def __le__(self,other):\n",
    "        return (self == other) or (self < other)"
   ]
  },
  {
   "cell_type": "code",
   "execution_count": 258,
   "id": "f6fff8fb-b49f-44e7-9b04-dff39402afb0",
   "metadata": {},
   "outputs": [],
   "source": [
    "a = RPS_Ver7(['가위','바위','보'])\n",
    "b = RPS_Ver7(['가위','바위','보'])"
   ]
  },
  {
   "cell_type": "code",
   "execution_count": 259,
   "id": "0142cc0f-0a70-4e34-8f24-3691aa474e8f",
   "metadata": {},
   "outputs": [],
   "source": [
    "a.pick()\n",
    "b.pick()"
   ]
  },
  {
   "cell_type": "code",
   "execution_count": 260,
   "id": "073658fb-478a-488e-bc6d-30649ec6d744",
   "metadata": {},
   "outputs": [
    {
     "data": {
      "text/html": [
       "\n",
       "        낼 수 있는 패: ['가위', '바위', '보'] <br/>\n",
       "        기록: ['보']\n",
       "        "
      ],
      "text/plain": [
       "<__main__.RPS_Ver7 at 0x7f4c16b155e0>"
      ]
     },
     "execution_count": 260,
     "metadata": {},
     "output_type": "execute_result"
    }
   ],
   "source": [
    "a"
   ]
  },
  {
   "cell_type": "code",
   "execution_count": 261,
   "id": "6456f11b-d61b-4bd2-907e-c4a8831faef6",
   "metadata": {},
   "outputs": [
    {
     "data": {
      "text/html": [
       "\n",
       "        낼 수 있는 패: ['가위', '바위', '보'] <br/>\n",
       "        기록: ['가위']\n",
       "        "
      ],
      "text/plain": [
       "<__main__.RPS_Ver7 at 0x7f4c16b15b80>"
      ]
     },
     "execution_count": 261,
     "metadata": {},
     "output_type": "execute_result"
    }
   ],
   "source": [
    "b"
   ]
  },
  {
   "cell_type": "code",
   "execution_count": 262,
   "id": "1d4c45b5-be2c-44fe-a2e5-9b68a69f9b3f",
   "metadata": {},
   "outputs": [
    {
     "data": {
      "text/plain": [
       "(False, False, True, False, True)"
      ]
     },
     "execution_count": 262,
     "metadata": {},
     "output_type": "execute_result"
    }
   ],
   "source": [
    "a==b, a>b, a<b, a>=b, a<=b "
   ]
  },
  {
   "cell_type": "markdown",
   "id": "31812af3-a4af-4a85-8c9e-532260c82128",
   "metadata": {},
   "source": [
    "> 파이썬의 비밀10: `__eq__`, `__gt__`, `__lt__`, `__ge__`, `__le__`는 각각 `==`, `>`, `<`, `>=`, `<=` 를 재정의한다. "
   ]
  },
  {
   "cell_type": "markdown",
   "id": "430b3a70-9e73-4ca7-8599-7ef65b89e8b9",
   "metadata": {},
   "source": [
    "## 비밀11: `__call__` $(\\star\\star\\star)$"
   ]
  },
  {
   "cell_type": "markdown",
   "id": "45e6dabe-8660-419a-97dd-350198669b86",
   "metadata": {},
   "source": [
    "### ***함수공부***"
   ]
  },
  {
   "cell_type": "markdown",
   "id": "78db9acc-fcb6-490c-9bd7-4842e5de4c85",
   "metadata": {},
   "source": [
    "`-` 다시 함수를 공부해봅시다. "
   ]
  },
  {
   "cell_type": "code",
   "execution_count": 264,
   "id": "9d03d636-825e-4c2f-8329-749557ec3b8d",
   "metadata": {},
   "outputs": [],
   "source": [
    "def f(x):\n",
    "    return x+1 "
   ]
  },
  {
   "cell_type": "code",
   "execution_count": 265,
   "id": "538788d7-05cd-4c34-97ea-b14745c6ed32",
   "metadata": {},
   "outputs": [
    {
     "data": {
      "text/plain": [
       "4"
      ]
     },
     "execution_count": 265,
     "metadata": {},
     "output_type": "execute_result"
    }
   ],
   "source": [
    "f(3)"
   ]
  },
  {
   "cell_type": "markdown",
   "id": "a593ca28-09e8-4f63-a38b-ffdedc880e64",
   "metadata": {},
   "source": [
    "`-` 함수의 사용방법? \n",
    "\n",
    "- 입력으로 변수 x를 받음 = 입력으로 인스턴스 x를 받음. \n",
    "- 출력으로 변수 x+1을 리턴 = 출력으로 인스턴스 x+1을 리턴. "
   ]
  },
  {
   "cell_type": "markdown",
   "id": "c1e2a7bc-36d9-45f2-8388-03c5cd5b10dc",
   "metadata": {},
   "source": [
    "`-` 사실1: 파이썬에서 함수는 인스턴스를 입력으로 받고 인스턴스를 출력한다. "
   ]
  },
  {
   "cell_type": "markdown",
   "id": "06b774c2-3214-4a32-bb59-375e02f45e58",
   "metadata": {},
   "source": [
    "`-` 함수의 자료형? "
   ]
  },
  {
   "cell_type": "code",
   "execution_count": 266,
   "id": "edaf23ef-e8aa-4d8a-8d23-151e7276d708",
   "metadata": {},
   "outputs": [
    {
     "data": {
      "text/plain": [
       "\u001b[0;31mSignature:\u001b[0m \u001b[0mf\u001b[0m\u001b[0;34m(\u001b[0m\u001b[0mx\u001b[0m\u001b[0;34m)\u001b[0m\u001b[0;34m\u001b[0m\u001b[0;34m\u001b[0m\u001b[0m\n",
       "\u001b[0;31mDocstring:\u001b[0m <no docstring>\n",
       "\u001b[0;31mFile:\u001b[0m      ~/Dropbox/07_lectures/PP2023/posts/03_Class/<ipython-input-264-76b767537386>\n",
       "\u001b[0;31mType:\u001b[0m      function"
      ]
     },
     "metadata": {},
     "output_type": "display_data"
    }
   ],
   "source": [
    "?f"
   ]
  },
  {
   "cell_type": "markdown",
   "id": "d0fd9324-7cb6-4f71-b2f4-51b08789b0fd",
   "metadata": {},
   "source": [
    "- type이 function이다. \n",
    "- f는 function class의 instance이다. \n",
    "- 결국 f 역시 하나의 오브젝트에 불과하다. "
   ]
  },
  {
   "cell_type": "markdown",
   "id": "3ab7d4d2-87f0-4e17-9f4b-301a82372e4a",
   "metadata": {},
   "source": [
    "`-` 사실2: 함수도 결국 인스턴스이다. -> 함수의 입력으로 함수를 쓸 수도 있고 함수의 출력으로 함수가 나올 수도 있다. "
   ]
  },
  {
   "cell_type": "markdown",
   "id": "d1aec639-a66b-4dc4-98ec-4161f60f349b",
   "metadata": {},
   "source": [
    "> \"파이썬의 모든 것은 오브젝트이다.\" <-- 명언처럼 외우세여"
   ]
  },
  {
   "cell_type": "markdown",
   "id": "aab4803c-0648-4e3f-b313-7309ea02432d",
   "metadata": {},
   "source": [
    "### ***함수도 인스턴스다***"
   ]
  },
  {
   "cell_type": "markdown",
   "id": "4d400d00-280d-429b-aabf-904e18ed6b8c",
   "metadata": {},
   "source": [
    "(예제1) 숫자입력, 함수출력 "
   ]
  },
  {
   "cell_type": "code",
   "execution_count": 268,
   "id": "86c3359b-a335-4bc7-8305-3b2e3b6a2d86",
   "metadata": {},
   "outputs": [],
   "source": [
    "def f(a):\n",
    "    def _f(x):\n",
    "        return (x-a)**2 \n",
    "    return _f"
   ]
  },
  {
   "cell_type": "code",
   "execution_count": 269,
   "id": "061f6d6d-c2f9-4d7a-8d0d-bb4c1713b876",
   "metadata": {},
   "outputs": [],
   "source": [
    "g=f(10) # g(x)=(x-10)**2 "
   ]
  },
  {
   "cell_type": "code",
   "execution_count": 270,
   "id": "9a907484-d7c5-4034-bc6b-df889aab1ed3",
   "metadata": {},
   "outputs": [
    {
     "data": {
      "text/plain": [
       "64"
      ]
     },
     "execution_count": 270,
     "metadata": {},
     "output_type": "execute_result"
    }
   ],
   "source": [
    "g(2) # (2-10)**2 = 64"
   ]
  },
  {
   "cell_type": "markdown",
   "id": "718bbf0b-b493-4beb-a0b8-25c7a8812dcb",
   "metadata": {},
   "source": [
    "- 해석: $f(a)$는 $a$를 입력으로 받고 $g(x)=(x-a)^2$라는 함수를 리턴해주는 함수 "
   ]
  },
  {
   "cell_type": "markdown",
   "id": "0cebcd23-15e5-4028-9c2c-f2db8caac7ed",
   "metadata": {},
   "source": [
    "(예제1)의 다른표현: 익명함수 lambda "
   ]
  },
  {
   "cell_type": "code",
   "execution_count": 271,
   "id": "66a7df48-9d3e-42fd-9cac-8761f6d1212a",
   "metadata": {},
   "outputs": [],
   "source": [
    "def f(x):\n",
    "    return x+1"
   ]
  },
  {
   "cell_type": "code",
   "execution_count": 280,
   "id": "318ff6ce-b337-4cfc-9bec-10dc889bdf51",
   "metadata": {},
   "outputs": [],
   "source": [
    "f= lambda x: x+1"
   ]
  },
  {
   "cell_type": "markdown",
   "id": "b146724a-a7a8-4bd4-a66d-8939a2996b6a",
   "metadata": {},
   "source": [
    "표현1"
   ]
  },
  {
   "cell_type": "code",
   "execution_count": 281,
   "id": "592d674c-07e6-4c08-ba1f-9aa901e8dc26",
   "metadata": {},
   "outputs": [],
   "source": [
    "def f(a):\n",
    "    _f = lambda x: (x-a)**2 ### lambda x: (x-a)**2 가 실행되는 순간 함수오브젝트가 만들어지고 그것이 _f 로 저장됨 \n",
    "    return _f"
   ]
  },
  {
   "cell_type": "code",
   "execution_count": 282,
   "id": "5d588bba-75cd-489b-a18f-801f64ab7b4d",
   "metadata": {},
   "outputs": [],
   "source": [
    "g=f(10) # g(x)=(x-10)**2 "
   ]
  },
  {
   "cell_type": "code",
   "execution_count": 283,
   "id": "15fbaf2a-b022-46f4-9202-c629a83efe1d",
   "metadata": {},
   "outputs": [
    {
     "data": {
      "text/plain": [
       "49"
      ]
     },
     "execution_count": 283,
     "metadata": {},
     "output_type": "execute_result"
    }
   ],
   "source": [
    "g(3) # (3-10)**2 = 49"
   ]
  },
  {
   "cell_type": "markdown",
   "id": "55019025-d354-4acf-97b4-bae51fa39f22",
   "metadata": {},
   "source": [
    "표현2"
   ]
  },
  {
   "cell_type": "code",
   "execution_count": 286,
   "id": "2f14809d-bcce-4380-86f0-5598eab20e24",
   "metadata": {},
   "outputs": [],
   "source": [
    "def f(a):\n",
    "    return lambda x: (x-a)**2 "
   ]
  },
  {
   "cell_type": "code",
   "execution_count": 287,
   "id": "4ffa1e83-c055-4f35-b384-41a06a3ec068",
   "metadata": {},
   "outputs": [],
   "source": [
    "g=f(10) # g(x)=(x-10)**2 "
   ]
  },
  {
   "cell_type": "code",
   "execution_count": 288,
   "id": "4ec2204e-c1c2-4b92-970b-d4ba9058c2db",
   "metadata": {},
   "outputs": [
    {
     "data": {
      "text/plain": [
       "49"
      ]
     },
     "execution_count": 288,
     "metadata": {},
     "output_type": "execute_result"
    }
   ],
   "source": [
    "g(3) # (3-10)**2 = 49"
   ]
  },
  {
   "cell_type": "markdown",
   "id": "c3fa1056-671c-4ddf-8125-9054b2f2ebcf",
   "metadata": {},
   "source": [
    "- `lambda x: (x-a)**2` 는 $\\text{lambda}(x) = (x-a)^2$의 느낌으로 기억하면 외우기 쉽다. \n",
    "- `lambda x: (x-a)**2` 는 \"아직 이름이 없는 함수오브젝트를 (가칭 lambda 라고 하자) 만들고 기능은 `x`를 입력으로 하고 `(x-a)**2`를 출력하도록 하자\" 라는 뜻으로 해석하면 된다. "
   ]
  },
  {
   "cell_type": "markdown",
   "id": "1ddb1620-2abb-476e-b745-2131514ac7a1",
   "metadata": {},
   "source": [
    "(예제2) 함수입력, 숫자출력 "
   ]
  },
  {
   "cell_type": "code",
   "execution_count": 295,
   "id": "d03a9268-2614-4fbb-97b5-c71a77f6ebca",
   "metadata": {},
   "outputs": [],
   "source": [
    "def d(f,x): # 함수를 입력을 받는 함수를 정의 \n",
    "    h=0.000000000001\n",
    "    return (f(x+h)-f(x))/h "
   ]
  },
  {
   "cell_type": "code",
   "execution_count": 298,
   "id": "741f03aa-92f6-4249-b303-8859429a6c75",
   "metadata": {},
   "outputs": [
    {
     "data": {
      "text/plain": [
       "8.000711204658728"
      ]
     },
     "execution_count": 298,
     "metadata": {},
     "output_type": "execute_result"
    }
   ],
   "source": [
    "d(f,4) # f'(4) = 2*4 = 8"
   ]
  },
  {
   "cell_type": "markdown",
   "id": "90306ccc-72a8-4954-9855-25e77a19a20b",
   "metadata": {},
   "source": [
    "(예제3) 함수입력, 함수출력 "
   ]
  },
  {
   "cell_type": "code",
   "execution_count": 299,
   "id": "dde6f53d-c8c5-4f76-a7be-b70f1b63084e",
   "metadata": {},
   "outputs": [],
   "source": [
    "def f(x): \n",
    "    return x**2 "
   ]
  },
  {
   "cell_type": "code",
   "execution_count": 307,
   "id": "bd2a874a-b00c-49c9-ad16-9d64370ae733",
   "metadata": {},
   "outputs": [],
   "source": [
    "def derivate(f): \n",
    "    # step1: 함수오브젝트 f는 입력으로 받은상태 \n",
    "    # step2: 함수오브젝트 f를 이용하여 df라는 함수를 정의 \n",
    "    def df(x): \n",
    "        h=0.000000000001\n",
    "        return (f(x+h)-f(x))/h \n",
    "    # step3: 정의된 df를 리턴\n",
    "    return df"
   ]
  },
  {
   "cell_type": "code",
   "execution_count": 308,
   "id": "1e68d532-5728-4554-9bd1-b3cdb066bdc9",
   "metadata": {},
   "outputs": [],
   "source": [
    "ff = derivate(f)"
   ]
  },
  {
   "cell_type": "code",
   "execution_count": 309,
   "id": "e35736c0-bf01-40cb-b34c-44aa996f9b72",
   "metadata": {},
   "outputs": [
    {
     "data": {
      "text/plain": [
       "14.004797321831575"
      ]
     },
     "execution_count": 309,
     "metadata": {},
     "output_type": "execute_result"
    }
   ],
   "source": [
    "ff(7) # f의 도함수"
   ]
  },
  {
   "cell_type": "markdown",
   "id": "9f1b849a-11e6-489a-af64-29ba9700b258",
   "metadata": {},
   "source": [
    "**원래함수 시각화**"
   ]
  },
  {
   "cell_type": "code",
   "execution_count": 310,
   "id": "36319018-a9f5-4cb0-b376-6abb7fdf50f5",
   "metadata": {},
   "outputs": [
    {
     "data": {
      "text/plain": [
       "[<matplotlib.lines.Line2D at 0x7f4c15ff65e0>]"
      ]
     },
     "execution_count": 310,
     "metadata": {},
     "output_type": "execute_result"
    },
    {
     "data": {
      "image/png": "[encoded data removed]",
      "text/plain": [
       "<Figure size 432x288 with 1 Axes>"
      ]
     },
     "metadata": {
      "needs_background": "light"
     },
     "output_type": "display_data"
    }
   ],
   "source": [
    "x = np.linspace(-1,1,100)\n",
    "plt.plot(x,f(x))"
   ]
  },
  {
   "cell_type": "markdown",
   "id": "7fa4d5f8-474e-48ce-8a1b-8992fdedf06e",
   "metadata": {},
   "source": [
    "**도함수 시각화**"
   ]
  },
  {
   "cell_type": "code",
   "execution_count": 311,
   "id": "cd3de78e-4e12-43d1-94d1-b88140718a28",
   "metadata": {},
   "outputs": [
    {
     "data": {
      "text/plain": [
       "<matplotlib.legend.Legend at 0x7f4c15ef3d00>"
      ]
     },
     "execution_count": 311,
     "metadata": {},
     "output_type": "execute_result"
    },
    {
     "data": {
      "image/png": "[encoded data removed]",
      "text/plain": [
       "<Figure size 432x288 with 1 Axes>"
      ]
     },
     "metadata": {
      "needs_background": "light"
     },
     "output_type": "display_data"
    }
   ],
   "source": [
    "x = np.linspace(-1,1,100)\n",
    "plt.plot(x,f(x),label=r'$f(x)=x^2$')\n",
    "plt.plot(x,ff(x),label=r'$ff(x)=2x$')\n",
    "plt.legend()"
   ]
  },
  {
   "cell_type": "markdown",
   "id": "dc53267f-bb95-4f15-ba5f-4ce91f8ae93e",
   "metadata": {},
   "source": [
    "(예제3)의 다른표현 "
   ]
  },
  {
   "cell_type": "code",
   "execution_count": 312,
   "id": "17840c26-1142-4aa3-8276-c183e3036d4d",
   "metadata": {},
   "outputs": [],
   "source": [
    "def f(x): \n",
    "    return x**2 "
   ]
  },
  {
   "cell_type": "code",
   "execution_count": 314,
   "id": "05f95e9c-b61e-44a8-a53b-889a79622d28",
   "metadata": {},
   "outputs": [],
   "source": [
    "def derivate(f): \n",
    "    h=0.000000000001\n",
    "    return lambda x: (f(x+h)-f(x))/h "
   ]
  },
  {
   "cell_type": "code",
   "execution_count": 315,
   "id": "2ecf2fa2-8032-4be4-97a5-45c6bff59866",
   "metadata": {},
   "outputs": [],
   "source": [
    "ff = derivate(f)"
   ]
  },
  {
   "cell_type": "code",
   "execution_count": 316,
   "id": "18ff7d32-45c3-44bc-beff-644074d95b5e",
   "metadata": {},
   "outputs": [
    {
     "data": {
      "text/plain": [
       "20.00888343900442"
      ]
     },
     "execution_count": 316,
     "metadata": {},
     "output_type": "execute_result"
    }
   ],
   "source": [
    "ff(10)"
   ]
  },
  {
   "cell_type": "code",
   "execution_count": 317,
   "id": "48a30f1e-daa2-4d98-85fc-568422c4c23f",
   "metadata": {},
   "outputs": [
    {
     "data": {
      "text/plain": [
       "<matplotlib.legend.Legend at 0x7f4c1686aa90>"
      ]
     },
     "execution_count": 317,
     "metadata": {},
     "output_type": "execute_result"
    },
    {
     "data": {
      "image/png": "[encoded data removed]",
      "text/plain": [
       "<Figure size 432x288 with 1 Axes>"
      ]
     },
     "metadata": {
      "needs_background": "light"
     },
     "output_type": "display_data"
    }
   ],
   "source": [
    "x = np.linspace(-1,1,100)\n",
    "plt.plot(x,f(x),label=r'$f(x)=x^2$')\n",
    "plt.plot(x,ff(x),label=r'$ff(x)=2x$')\n",
    "plt.legend()"
   ]
  },
  {
   "cell_type": "markdown",
   "id": "78f1810f-7f04-4ab7-b1b9-d0ace26a9290",
   "metadata": {},
   "source": [
    "(예제4) 함수들의 리스트 "
   ]
  },
  {
   "cell_type": "code",
   "execution_count": 318,
   "id": "32b3ba28-164e-44a2-aacf-affaac0d1f36",
   "metadata": {},
   "outputs": [
    {
     "data": {
      "text/plain": [
       "[<function __main__.<lambda>(x)>,\n",
       " <function __main__.<lambda>(x)>,\n",
       " <function __main__.<lambda>(x)>]"
      ]
     },
     "execution_count": 318,
     "metadata": {},
     "output_type": "execute_result"
    }
   ],
   "source": [
    "flst = [lambda x: x, lambda x: x**2, lambda x: x**3] \n",
    "flst"
   ]
  },
  {
   "cell_type": "code",
   "execution_count": 324,
   "id": "365678f9-22aa-46f2-890f-8c06ae882799",
   "metadata": {},
   "outputs": [
    {
     "name": "stdout",
     "output_type": "stream",
     "text": [
      "2\n",
      "4\n",
      "8\n"
     ]
    }
   ],
   "source": [
    "for f in flst:\n",
    "    print(f(2))"
   ]
  },
  {
   "cell_type": "code",
   "execution_count": 325,
   "id": "d68cac9d-37d8-40a8-8f4f-9a23c1222b56",
   "metadata": {},
   "outputs": [
    {
     "data": {
      "image/png": "[encoded data removed]",
      "text/plain": [
       "<Figure size 432x288 with 1 Axes>"
      ]
     },
     "metadata": {
      "needs_background": "light"
     },
     "output_type": "display_data"
    }
   ],
   "source": [
    "for f in flst: \n",
    "    plt.plot(x,f(x),'--')"
   ]
  },
  {
   "cell_type": "markdown",
   "id": "52589886-c1ef-47b1-8ef4-f8ece02f2276",
   "metadata": {},
   "source": [
    "위의코드는 아래와 같음 "
   ]
  },
  {
   "cell_type": "code",
   "execution_count": 326,
   "id": "eca55297-bcd1-4d80-8bec-24d4320c18ab",
   "metadata": {},
   "outputs": [
    {
     "data": {
      "text/plain": [
       "[<matplotlib.lines.Line2D at 0x7f4c152baac0>]"
      ]
     },
     "execution_count": 326,
     "metadata": {},
     "output_type": "execute_result"
    },
    {
     "data": {
      "image/png": "[encoded data removed]",
      "text/plain": [
       "<Figure size 432x288 with 1 Axes>"
      ]
     },
     "metadata": {
      "needs_background": "light"
     },
     "output_type": "display_data"
    }
   ],
   "source": [
    "plt.plot(x,(lambda x: x)(x),'--')\n",
    "plt.plot(x,(lambda x: x**2)(x),'--')\n",
    "plt.plot(x,(lambda x: x**3)(x),'--')"
   ]
  },
  {
   "cell_type": "markdown",
   "id": "d02de560-5216-42a5-bac3-0c8f7f3585dd",
   "metadata": {},
   "source": [
    "### ***정리***"
   ]
  },
  {
   "cell_type": "markdown",
   "id": "a1badeb7-c7dc-48cc-a642-05a217140e22",
   "metadata": {},
   "source": [
    "`-` 지금까지 개념 \n",
    "\n",
    "- 함수: 변수를 입력으로 받아서 변수를 출력하는 개념 \n",
    "- 변수: 어떠한 값을 저장하는 용도로 쓰거나 함수의 입력 혹은 출력으로 사용함"
   ]
  },
  {
   "cell_type": "markdown",
   "id": "08be2884-d748-4e39-9640-9c7c6a0ec61f",
   "metadata": {},
   "source": [
    "`-` R과 구별되는 파이썬의 독특한 테크닉 (부제: 파이썬에서 함수를 잘 쓰려면?)\n",
    "\n",
    "- 변수든 함수이든 둘다 인스턴스임. (즉 어떠한 클래스에서 찍힌 똑같은 오브젝트라는 의미)\n",
    "- 변수를 함수처럼: 메소드 `lst.append(1)`은 마치 `append(lst,1)`와 같은 함수로 쓸 수 있음\n",
    "- 함수를 변수처럼($\\star$): 함수자체를 함수의 입력으로 혹은 출력으로 쓸 수도 있음. 함수를 특정 값처럼 생각해서 함수들의 list를 만들 수도 있다. "
   ]
  },
  {
   "cell_type": "markdown",
   "id": "fe5a8055-2917-4865-95ab-e37e02a586b4",
   "metadata": {},
   "source": [
    "### ***callable object***"
   ]
  },
  {
   "cell_type": "markdown",
   "id": "79b503bc-4677-4c04-9ccd-99590534e30d",
   "metadata": {},
   "source": [
    "`-` 함수 오브젝트의 비밀? "
   ]
  },
  {
   "cell_type": "code",
   "execution_count": 327,
   "id": "28345165-d190-41e3-ba75-4b8e655f7a07",
   "metadata": {},
   "outputs": [],
   "source": [
    "f = lambda x: x+1 "
   ]
  },
  {
   "cell_type": "code",
   "execution_count": 330,
   "id": "b3482316-f1e6-4e18-ab7c-188862a22935",
   "metadata": {},
   "outputs": [],
   "source": [
    "a=11"
   ]
  },
  {
   "cell_type": "code",
   "execution_count": 328,
   "id": "a3ea028e-87f4-4d7b-baca-7f54bfca2f97",
   "metadata": {},
   "outputs": [
    {
     "data": {
      "text/plain": [
       "{'__call__'}"
      ]
     },
     "execution_count": 328,
     "metadata": {},
     "output_type": "execute_result"
    }
   ],
   "source": [
    "set(dir(f)) & {'__call__'}"
   ]
  },
  {
   "cell_type": "markdown",
   "id": "9198e26e-e6d6-4173-8530-472f0d7c31d2",
   "metadata": {},
   "source": [
    "- 함수 오브젝트에는 숨겨진 기능 `__call__`이 있다. "
   ]
  },
  {
   "cell_type": "code",
   "execution_count": 332,
   "id": "63c53c50-b029-4ec2-8e30-1568d6ee18dd",
   "metadata": {},
   "outputs": [
    {
     "data": {
      "text/plain": [
       "4"
      ]
     },
     "execution_count": 332,
     "metadata": {},
     "output_type": "execute_result"
    }
   ],
   "source": [
    "f.__call__(3) # f(3)"
   ]
  },
  {
   "cell_type": "code",
   "execution_count": 333,
   "id": "67f265c0-4988-43fa-8ad6-81bca5b86e79",
   "metadata": {},
   "outputs": [
    {
     "data": {
      "text/plain": [
       "5"
      ]
     },
     "execution_count": 333,
     "metadata": {},
     "output_type": "execute_result"
    }
   ],
   "source": [
    "f.__call__(4) # f(4)"
   ]
  },
  {
   "cell_type": "markdown",
   "id": "2f26944a-b680-4a5c-a2c0-8bf0eba2fd4a",
   "metadata": {},
   "source": [
    "- 여기에 우리가 정의한 내용이 있다. "
   ]
  },
  {
   "cell_type": "markdown",
   "id": "defc38cd-6ec9-4ce9-b954-0d5b1390aa5a",
   "metadata": {},
   "source": [
    "`-` 함수처럼 쓸 수 없는 인스턴스는 단지 call이 없는 것일 뿐이다. "
   ]
  },
  {
   "cell_type": "code",
   "execution_count": 334,
   "id": "e1a769e6-39d6-4c29-bc97-61841620d293",
   "metadata": {},
   "outputs": [],
   "source": [
    "class Klass: \n",
    "    def __init__(self):\n",
    "        self.name='guebin'"
   ]
  },
  {
   "cell_type": "code",
   "execution_count": 335,
   "id": "308eccd8-93e5-45c3-aee0-85d7f8496213",
   "metadata": {},
   "outputs": [],
   "source": [
    "a=Klass()"
   ]
  },
  {
   "cell_type": "code",
   "execution_count": 336,
   "id": "0a4c3678-d47d-454e-b452-17404e5c0d20",
   "metadata": {},
   "outputs": [
    {
     "ename": "TypeError",
     "evalue": "'Klass' object is not callable",
     "output_type": "error",
     "traceback": [
      "\u001b[0;31m---------------------------------------------------------------------------\u001b[0m",
      "\u001b[0;31mTypeError\u001b[0m                                 Traceback (most recent call last)",
      "Cell \u001b[0;32mIn[336], line 1\u001b[0m\n\u001b[0;32m----> 1\u001b[0m \u001b[43ma\u001b[49m\u001b[43m(\u001b[49m\u001b[43m)\u001b[49m\n",
      "\u001b[0;31mTypeError\u001b[0m: 'Klass' object is not callable"
     ]
    }
   ],
   "source": [
    "a()"
   ]
  },
  {
   "cell_type": "markdown",
   "id": "2152df95-3b84-4500-9af0-5e3efef47d11",
   "metadata": {},
   "source": [
    "- a는 callable이 아니라고 한다. "
   ]
  },
  {
   "cell_type": "code",
   "execution_count": 338,
   "id": "44121865-7d2a-4dc2-83a6-2beba8c23b02",
   "metadata": {},
   "outputs": [],
   "source": [
    "class Klass2(Klass): \n",
    "    def __call__(self):\n",
    "        print(self.name)"
   ]
  },
  {
   "cell_type": "code",
   "execution_count": 339,
   "id": "86c434c1-ff63-4f18-a060-40bdab7461d5",
   "metadata": {},
   "outputs": [],
   "source": [
    "b=Klass2()"
   ]
  },
  {
   "cell_type": "code",
   "execution_count": 340,
   "id": "73400640-4ea5-4648-b032-b02107ec4f2d",
   "metadata": {},
   "outputs": [
    {
     "name": "stdout",
     "output_type": "stream",
     "text": [
      "guebin\n"
     ]
    }
   ],
   "source": [
    "b()"
   ]
  },
  {
   "cell_type": "markdown",
   "id": "7752063f-5f52-4c78-a904-4c132398d7d5",
   "metadata": {},
   "source": [
    "- b는 callable object! 즉 숨겨진 메서드로 `__call__`를 가진 오브젝트!\n",
    "- Klass는 callable object를 만들지 못하지만 Klass2는 callable object를 만든다. "
   ]
  },
  {
   "cell_type": "markdown",
   "id": "66c23a47-c840-470e-ba31-2243c533dc65",
   "metadata": {},
   "source": [
    "`-` 클래스로 함수를 만들기 (=함수인스턴스를 찍어내는 클래스 설계)"
   ]
  },
  {
   "cell_type": "code",
   "execution_count": 341,
   "id": "b5b2ea3d-47b0-4e2a-b904-5e4b7b15a613",
   "metadata": {},
   "outputs": [],
   "source": [
    "class AddConstant: \n",
    "    def __init__(self,const):\n",
    "        self.const = const \n",
    "    def __call__(self,x):\n",
    "        return x + self.const"
   ]
  },
  {
   "cell_type": "code",
   "execution_count": 342,
   "id": "e3daaa72-3061-468f-8f04-beb10a1b7c77",
   "metadata": {},
   "outputs": [],
   "source": [
    "f = AddConstant(3) # callable object생성, f.const에는 3이 저장되어있음. "
   ]
  },
  {
   "cell_type": "code",
   "execution_count": 343,
   "id": "5d205a3b-1ff9-4132-9120-9dc1ce2e82e3",
   "metadata": {},
   "outputs": [
    {
     "data": {
      "text/plain": [
       "8"
      ]
     },
     "execution_count": 343,
     "metadata": {},
     "output_type": "execute_result"
    }
   ],
   "source": [
    "f(5) # f.const 와 5를 더하는 기능을 수행, # 즉 f(x) = x+3 을 수행함"
   ]
  },
  {
   "cell_type": "code",
   "execution_count": 344,
   "id": "fffd5ddb-426e-41c6-96cf-1e29162f110a",
   "metadata": {},
   "outputs": [
    {
     "data": {
      "text/plain": [
       "13"
      ]
     },
     "execution_count": 344,
     "metadata": {},
     "output_type": "execute_result"
    }
   ],
   "source": [
    "f(10) "
   ]
  },
  {
   "cell_type": "markdown",
   "id": "4a81bd7c-e1a7-4010-9eba-76524ad5581c",
   "metadata": {},
   "source": [
    "`-` 클래스도 그러고 보니까 `오브젝트` 아니었나? "
   ]
  },
  {
   "cell_type": "code",
   "execution_count": 345,
   "id": "eaf368ec-f844-438e-b42c-2297e3725bee",
   "metadata": {},
   "outputs": [
    {
     "data": {
      "text/plain": [
       "\u001b[0;31mInit signature:\u001b[0m \u001b[0mStudent_Ver2\u001b[0m\u001b[0;34m(\u001b[0m\u001b[0mage\u001b[0m\u001b[0;34m=\u001b[0m\u001b[0;36m20.0\u001b[0m\u001b[0;34m,\u001b[0m \u001b[0msemester\u001b[0m\u001b[0;34m=\u001b[0m\u001b[0;36m0\u001b[0m\u001b[0;34m)\u001b[0m\u001b[0;34m\u001b[0m\u001b[0;34m\u001b[0m\u001b[0m\n",
       "\u001b[0;31mDocstring:\u001b[0m      <no docstring>\n",
       "\u001b[0;31mType:\u001b[0m           type\n",
       "\u001b[0;31mSubclasses:\u001b[0m     "
      ]
     },
     "metadata": {},
     "output_type": "display_data"
    }
   ],
   "source": [
    "Student_Ver2?"
   ]
  },
  {
   "cell_type": "markdown",
   "id": "28beaa5b-d7e7-4fa4-9f51-3a8fb59d4936",
   "metadata": {},
   "source": [
    "- 이것도 type 이라는 또 다른 클래스에서 (클래스를 찍는 클래스) 찍힌 오브젝트이구나.."
   ]
  },
  {
   "cell_type": "markdown",
   "id": "5feab9b1-363b-4423-8ba7-f1a447a71ecd",
   "metadata": {},
   "source": [
    "`-` 클래스 \"오브젝트\"도 함수 \"오브젝트\"처럼 `Student_Ver2()`와 같이 사용하면 인스턴스를 만들었음. -> `Student_Ver2.__call__()` 은 `Student_Ver2()`와 같은 역할을 할 것이다. "
   ]
  },
  {
   "cell_type": "markdown",
   "id": "0170318a-90bd-4426-920f-d534810e8f02",
   "metadata": {},
   "source": [
    "***일반적인 구현에서 \"클래스 $\\to$ 인스턴스\" 과정*** "
   ]
  },
  {
   "cell_type": "code",
   "execution_count": 347,
   "id": "8cfd96ea-4c00-4406-ac6b-3887b2c11e5b",
   "metadata": {},
   "outputs": [
    {
     "name": "stdout",
     "output_type": "stream",
     "text": [
      "입학을 축하합니다. 당신의 나이는 20.0이고 현재 학기는 0학기 입니다.\n"
     ]
    }
   ],
   "source": [
    "boram = Student_Ver2(age=20.0,semester=0)"
   ]
  },
  {
   "cell_type": "code",
   "execution_count": 348,
   "id": "d267e2f8-c153-4a97-84ec-533a3022925b",
   "metadata": {},
   "outputs": [
    {
     "data": {
      "text/html": [
       "\n",
       "        나이: 21.5 <br/>\n",
       "        학기: 1 <br/>\n",
       "        "
      ],
      "text/plain": [
       "<__main__.Student_Ver2 at 0x7f4c15f26850>"
      ]
     },
     "execution_count": 348,
     "metadata": {},
     "output_type": "execute_result"
    }
   ],
   "source": [
    "boram + '등록' + '휴학' + '휴학'"
   ]
  },
  {
   "cell_type": "markdown",
   "id": "531c1f43-9a4f-4fae-8847-ae0ee2419015",
   "metadata": {},
   "source": [
    "***공부를 위해 call을 이용해본 \"클래스 $\\to$ 인스턴스\" 과정*** "
   ]
  },
  {
   "cell_type": "code",
   "execution_count": 351,
   "id": "6e9fce5d-7ab4-4f89-90e7-5de90f1f8f71",
   "metadata": {},
   "outputs": [
    {
     "name": "stdout",
     "output_type": "stream",
     "text": [
      "입학을 축하합니다. 당신의 나이는 20.0이고 현재 학기는 0학기 입니다.\n"
     ]
    }
   ],
   "source": [
    "boram = Student_Ver2.__call__(age=20.0,semester=0) #\n",
    "# boram = Student_Ver2(age=20.0,semester=0)"
   ]
  },
  {
   "cell_type": "code",
   "execution_count": 352,
   "id": "39a814ab-d6a3-491f-a1d2-fab676304c40",
   "metadata": {},
   "outputs": [
    {
     "data": {
      "text/html": [
       "\n",
       "        나이: 21.5 <br/>\n",
       "        학기: 1 <br/>\n",
       "        "
      ],
      "text/plain": [
       "<__main__.Student_Ver2 at 0x7f4c15387d90>"
      ]
     },
     "execution_count": 352,
     "metadata": {},
     "output_type": "execute_result"
    }
   ],
   "source": [
    "boram + '등록' + '휴학' + '휴학'"
   ]
  },
  {
   "cell_type": "markdown",
   "id": "e6582806-250b-4aac-8155-7126548f1f49",
   "metadata": {},
   "source": [
    "> 파이썬의 비밀11: `f()`와 같이 쓸 수 있는 오브젝트는 단지 `__call__` 이 정의되어있는 오브젝트일 뿐이다. "
   ]
  }
 ],
 "metadata": {
  "kernelspec": {
   "display_name": "Python 3",
   "language": "python",
   "name": "python3"
  },
  "language_info": {
   "codemirror_mode": {
    "name": "ipython",
    "version": 3
   },
   "file_extension": ".py",
   "mimetype": "text/x-python",
   "name": "python",
   "nbconvert_exporter": "python",
   "pygments_lexer": "ipython3",
   "version": "3.8.16"
  }
 },
 "nbformat": 4,
 "nbformat_minor": 5
}
