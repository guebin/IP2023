{
 "cells": [
  {
   "cell_type": "raw",
   "id": "a1528b7b-1d00-4bcd-bdd4-490ab2e6d884",
   "metadata": {},
   "source": [
    "---\n",
    "title: \"14wk-2: 클래스공부 4단계 -- 파이썬의 비밀 (3) // forlecture\"\n",
    "author: \"최규빈\"\n",
    "date: \"06/07/2023\"\n",
    "---"
   ]
  },
  {
   "cell_type": "markdown",
   "id": "8cd988d6-1845-4a21-be51-84de35155147",
   "metadata": {},
   "source": [
    "<a href=\"https://colab.research.google.com/github/guebin/PP2023/blob/main/posts/03_Class/2023-06-07-14wk-2.ipynb\"><img src=\"https://colab.research.google.com/assets/colab-badge.svg\" style=\"text-align: left\"></a>"
   ]
  },
  {
   "cell_type": "markdown",
   "id": "e9e36c27-02ce-44b5-8b12-0a4fa79bf284",
   "metadata": {},
   "source": [
    "# 클래스공부 4단계: 파이썬의 비밀 (3)"
   ]
  },
  {
   "cell_type": "markdown",
   "id": "238ce98d-774f-487e-9e61-e958676080cb",
   "metadata": {},
   "source": [
    "## 비밀12: `__iter__` ($\\star\\star\\star\\star\\star$)"
   ]
  },
  {
   "cell_type": "markdown",
   "id": "d5ced810-dfc3-497d-a8fc-e67d328cf94e",
   "metadata": {},
   "source": [
    "### ***for문의 복습***"
   ]
  },
  {
   "cell_type": "markdown",
   "id": "c9e6e542-46cf-41ea-bafa-d7d2fa6cbfc8",
   "metadata": {},
   "source": [
    "`-` 아래와 같은 예제들을 관찰하여 for문을 복습하자. "
   ]
  },
  {
   "cell_type": "markdown",
   "id": "8031fb8d-2d14-4a99-b38e-91345b86c2cc",
   "metadata": {},
   "source": [
    "(예제1) [1,2,3,4]"
   ]
  },
  {
   "cell_type": "markdown",
   "id": "6fe602d7-9643-493c-ac0f-ec89426c1eba",
   "metadata": {},
   "source": [
    "(예제2) (1,2,3,4) "
   ]
  },
  {
   "cell_type": "markdown",
   "id": "6304994a-e0cc-4d3a-ad05-d3198b4d999a",
   "metadata": {},
   "source": [
    "(예제3) '1234'"
   ]
  },
  {
   "cell_type": "markdown",
   "id": "cb386697-439d-46cd-9893-0ac140d3753f",
   "metadata": {},
   "source": [
    "(예제4) 5"
   ]
  },
  {
   "cell_type": "markdown",
   "id": "1e4aa53f-a86e-4a1b-80a7-c8fb35c0aeca",
   "metadata": {},
   "source": [
    "`-` 의문1: \n",
    "\n",
    "```python\n",
    "for i in ???:\n",
    "    print(i)\n",
    "```\n",
    "\n",
    "에서 ??? 자리에 올수 있는 것이 무엇일까? "
   ]
  },
  {
   "cell_type": "markdown",
   "id": "ea5f953e-250f-4edf-82fa-908b61b62d31",
   "metadata": {},
   "source": [
    "(예제5) [[1,2,3,4],[3,4,5,6]], pd.DataFrame([[1,2,3,4],[3,4,5,6]])"
   ]
  },
  {
   "cell_type": "markdown",
   "id": "de494518-0c93-4b9a-a617-8a0469b4353d",
   "metadata": {},
   "source": [
    "`-` 의문2: for의 출력결과는 어떻게 예측할 수 있을까?"
   ]
  },
  {
   "cell_type": "markdown",
   "id": "acc3fde5-af13-44bb-a676-d68133ea41f1",
   "metadata": {},
   "source": [
    "### ***for문의 동작원리***"
   ]
  },
  {
   "cell_type": "markdown",
   "id": "6157b39c-b4b4-4259-a219-e33ac14805e9",
   "metadata": {},
   "source": [
    "`-` 의문1의 해결: 아래의 ??? 자리에 올 수 있는 것은 dir()하여 `__iter__`가 있는 object이다. \n",
    "\n",
    "```python\n",
    "for i in ???:\n",
    "    print(i)\n",
    "```\n",
    "\n",
    "이러한 오브젝트를 iterable object라고 한다. "
   ]
  },
  {
   "cell_type": "markdown",
   "id": "5228a07c-6548-4605-8743-3654309673ff",
   "metadata": {},
   "source": [
    "`-` 예제1~4 확인 "
   ]
  },
  {
   "cell_type": "markdown",
   "id": "32659ce2-afae-4860-b9f4-a2ab2df8452a",
   "metadata": {},
   "source": [
    "`-` `__iter__`의 역할: iterable object를 iterator로 만들 수 있다!"
   ]
  },
  {
   "cell_type": "markdown",
   "id": "41db5275-c81d-41fd-84c1-383016db1b25",
   "metadata": {},
   "source": [
    "`-` iterator가 되면 무엇이 좋은가? -> 숨겨진 기능 `__next__`가 열린다. "
   ]
  },
  {
   "cell_type": "markdown",
   "id": "9d12f08e-6de1-4fb3-bc41-12478f43f100",
   "metadata": {},
   "source": [
    "`-` 그래서 `__next__`의 기능은? -> 원소를 차례대로 꺼내준다 + 더 이상 꺼낼 원소가 없으면 StopIteration Error를 발생시킨다. "
   ]
  },
  {
   "cell_type": "markdown",
   "id": "079153e5-fef9-40f0-b1e8-a8b796c00c06",
   "metadata": {},
   "source": [
    "`-` for문의 동작원리 \n",
    "\n",
    "```python\n",
    "for i in iterable:\n",
    "    ...\n",
    "```"
   ]
  },
  {
   "cell_type": "markdown",
   "id": "10b025c1-7c29-441a-bcb5-6e3d6807d055",
   "metadata": {},
   "source": [
    "```{mermaid}\n",
    "\n",
    "flowchart LR\n",
    "  A[iterable] --> |\"__iter__()\"| B(iterator)\n",
    "  B --> |\"__next__()\"| C{stop?}\n",
    "  C --> |NO| D[i] --> E[...] --> B\n",
    "  C --> |YES| F[end]\n",
    "```"
   ]
  },
  {
   "cell_type": "markdown",
   "id": "954c30c1-7856-4052-a8ff-f03565b01124",
   "metadata": {},
   "source": [
    "`-` 아래의 구조도 잘 돌아갈까?\n",
    "\n",
    "```python\n",
    "for i in iterator:\n",
    "    print(i)\n",
    "```"
   ]
  },
  {
   "cell_type": "markdown",
   "id": "837328c7-ea42-40dd-8444-fea20a4756cf",
   "metadata": {},
   "source": [
    "```{mermaid}\n",
    "\n",
    "flowchart LR\n",
    "  A(iterator) --> |\"__iter__()\"| B(iterator)\n",
    "  B --> |\"__next__()\"| C{stop?}\n",
    "  C --> |NO| D[i] --> E[...] --> B\n",
    "  C --> |YES| F[end]\n",
    "```"
   ]
  },
  {
   "cell_type": "markdown",
   "id": "ed04ceb3-ef38-4db9-9fb7-a794f9d70084",
   "metadata": {},
   "source": [
    "> iterator의 iter가 자기자신을 리턴하도록 하는 트릭을 쓰면 for문을 안전하게 돌릴 수 있다. "
   ]
  },
  {
   "cell_type": "markdown",
   "id": "9b7f1c08-063d-4fee-bda9-588f3e87a1ff",
   "metadata": {},
   "source": [
    "`-` 요약\n",
    "\n",
    "- iterable object는 숨겨진 기능으로 `__iter__`를 가진다. \n",
    "- iterator는 숨겨진 기능으로 `__iter__`와 `__next__`를 가진다. 따라서 정의상 iterator는 그 자체로 iterable object가 된다!\n",
    "- iterator의 `__iter__`는 자기자신을 리턴한다. "
   ]
  },
  {
   "cell_type": "markdown",
   "id": "25babae3-d9bf-4162-a971-52a47e44dd78",
   "metadata": {},
   "source": [
    "`-` 의문2의 해결: for의 출력결과는 어떻게 예측할 수 있을까? iterator를 만들어서 `.__next__()`의 출력값을 확인하면 알 수 있다. "
   ]
  },
  {
   "cell_type": "markdown",
   "id": "0d5a020f-8850-4fbd-b78b-a3c8d3792a1b",
   "metadata": {},
   "source": [
    "### ***사용자정의 이터레이터***"
   ]
  },
  {
   "cell_type": "markdown",
   "id": "571a2eda-e64f-4243-a6dd-9184ad7e9a7b",
   "metadata": {},
   "source": [
    "`-` 내가 이터레이터를 만들어보자. "
   ]
  },
  {
   "cell_type": "markdown",
   "id": "c122ed53-9c6e-466f-a8a7-d6adbb6ccd30",
   "metadata": {},
   "source": [
    "`-` 찌를 내는 순간 for문이 멈추도록 하는 이터레이터를 만들자."
   ]
  },
  {
   "cell_type": "code",
   "execution_count": 520,
   "id": "ca0bc3f8-9885-4949-a2bc-a67e718f6eb3",
   "metadata": {},
   "outputs": [],
   "source": [
    "class RPS_ITER: # 찌를 내는순간 for문이 멈추도록 하는 이터레이터를 만들자\n",
    "    def __init__(self): \n",
    "        self.candidate = [\"묵\",\"찌\",\"빠\"] \n",
    "    def __iter__(self):\n",
    "        return self \n",
    "    def __next__(self):\n",
    "        action = np.random.choice(self.candidate)\n",
    "        if action == \"찌\":\n",
    "            print(\"찌가 나와서 for문을 멈춥니다\")\n",
    "            raise StopIteration\n",
    "        else:\n",
    "            return action"
   ]
  },
  {
   "cell_type": "markdown",
   "id": "5808f476-6df8-44ae-9de5-cad4543af466",
   "metadata": {},
   "source": [
    "### ***range()***"
   ]
  },
  {
   "cell_type": "markdown",
   "id": "7bc17086-0613-41e6-a423-8e8efb0ad6e8",
   "metadata": {},
   "source": [
    "`-` 파이썬에서 for문을 처음 배울 때: range(5)를 써라!"
   ]
  },
  {
   "cell_type": "code",
   "execution_count": 405,
   "id": "a9ed0a36-e84f-46b0-a206-1e4ff107e847",
   "metadata": {},
   "outputs": [
    {
     "name": "stdout",
     "output_type": "stream",
     "text": [
      "0\n",
      "1\n",
      "2\n",
      "3\n",
      "4\n"
     ]
    }
   ],
   "source": [
    "for i in range(5):\n",
    "    print(i)"
   ]
  },
  {
   "cell_type": "markdown",
   "id": "d9fae6bb-e04e-401b-984c-1190c3cfe461",
   "metadata": {},
   "source": [
    "- range(5)가 도데체 무엇이길래? "
   ]
  },
  {
   "cell_type": "markdown",
   "id": "155fa75f-bbc9-427d-a655-5cfb2090ac8f",
   "metadata": {},
   "source": [
    "`-` `range(5)`의 정체는 그냥 iterable object이다. "
   ]
  },
  {
   "cell_type": "code",
   "execution_count": 411,
   "id": "b86393e1-12ea-49f0-8745-1166af682e3a",
   "metadata": {},
   "outputs": [
    {
     "data": {
      "text/plain": [
       "{'__iter__'}"
      ]
     },
     "execution_count": 411,
     "metadata": {},
     "output_type": "execute_result"
    }
   ],
   "source": [
    "set(dir(range(5))) & {'__iter__','__next__'}"
   ]
  },
  {
   "cell_type": "markdown",
   "id": "33a5f90e-790b-4657-a40f-15caf1612ed6",
   "metadata": {},
   "source": [
    "`-` 그래서 언제든지 iterator로 바꿀 수 있다. "
   ]
  },
  {
   "cell_type": "code",
   "execution_count": 415,
   "id": "11fef0d7-3f68-4413-a031-d41f56a889e1",
   "metadata": {},
   "outputs": [
    {
     "data": {
      "text/plain": [
       "<range_iterator at 0x7f68c2ff2b70>"
      ]
     },
     "execution_count": 415,
     "metadata": {},
     "output_type": "execute_result"
    }
   ],
   "source": [
    "rtor= iter(range(5))\n",
    "rtor"
   ]
  },
  {
   "cell_type": "code",
   "execution_count": 416,
   "id": "3ee8ad91-cc1b-4533-8d17-15c9d23c14eb",
   "metadata": {},
   "outputs": [
    {
     "data": {
      "text/plain": [
       "{'__iter__', '__next__'}"
      ]
     },
     "execution_count": 416,
     "metadata": {},
     "output_type": "execute_result"
    }
   ],
   "source": [
    "set(dir(rtor)) &  {'__iter__','__next__'}"
   ]
  },
  {
   "cell_type": "markdown",
   "id": "b638592c-43ea-4f82-8f86-fe3a01cfcd87",
   "metadata": {},
   "source": [
    "`-` for문에서 range(5)가 행동하는 방법? "
   ]
  },
  {
   "cell_type": "code",
   "execution_count": 417,
   "id": "2487464c-2851-4f8a-a6af-9b51f91d6652",
   "metadata": {},
   "outputs": [],
   "source": [
    "rtor = iter(range(5))"
   ]
  },
  {
   "cell_type": "code",
   "execution_count": 418,
   "id": "0617fcfa-0e87-4dd6-93d4-6ae4a2ea88ad",
   "metadata": {},
   "outputs": [
    {
     "data": {
      "text/plain": [
       "0"
      ]
     },
     "execution_count": 418,
     "metadata": {},
     "output_type": "execute_result"
    }
   ],
   "source": [
    "rtor.__next__()"
   ]
  },
  {
   "cell_type": "code",
   "execution_count": 419,
   "id": "74548ee6-469e-4928-90ac-5aa7f1ef5de0",
   "metadata": {},
   "outputs": [
    {
     "data": {
      "text/plain": [
       "1"
      ]
     },
     "execution_count": 419,
     "metadata": {},
     "output_type": "execute_result"
    }
   ],
   "source": [
    "rtor.__next__()"
   ]
  },
  {
   "cell_type": "code",
   "execution_count": 420,
   "id": "ebfbfdbe-9c45-4abb-a304-0b439a907455",
   "metadata": {},
   "outputs": [
    {
     "data": {
      "text/plain": [
       "2"
      ]
     },
     "execution_count": 420,
     "metadata": {},
     "output_type": "execute_result"
    }
   ],
   "source": [
    "rtor.__next__()"
   ]
  },
  {
   "cell_type": "code",
   "execution_count": 421,
   "id": "d808aa29-9c85-439b-a074-5ab7a3b4c938",
   "metadata": {},
   "outputs": [
    {
     "data": {
      "text/plain": [
       "3"
      ]
     },
     "execution_count": 421,
     "metadata": {},
     "output_type": "execute_result"
    }
   ],
   "source": [
    "rtor.__next__()"
   ]
  },
  {
   "cell_type": "code",
   "execution_count": 422,
   "id": "9fdaba0a-71d3-4dc5-9c79-99f246519406",
   "metadata": {},
   "outputs": [
    {
     "data": {
      "text/plain": [
       "4"
      ]
     },
     "execution_count": 422,
     "metadata": {},
     "output_type": "execute_result"
    }
   ],
   "source": [
    "rtor.__next__()"
   ]
  },
  {
   "cell_type": "code",
   "execution_count": 423,
   "id": "afdd205d-57f8-4b88-92fd-7ad7d21bc06c",
   "metadata": {},
   "outputs": [
    {
     "ename": "StopIteration",
     "evalue": "",
     "output_type": "error",
     "traceback": [
      "\u001b[0;31m---------------------------------------------------------------------------\u001b[0m",
      "\u001b[0;31mStopIteration\u001b[0m                             Traceback (most recent call last)",
      "Input \u001b[0;32mIn [423]\u001b[0m, in \u001b[0;36m<cell line: 1>\u001b[0;34m()\u001b[0m\n\u001b[0;32m----> 1\u001b[0m \u001b[43mrtor\u001b[49m\u001b[38;5;241;43m.\u001b[39;49m\u001b[38;5;21;43m__next__\u001b[39;49m\u001b[43m(\u001b[49m\u001b[43m)\u001b[49m\n",
      "\u001b[0;31mStopIteration\u001b[0m: "
     ]
    }
   ],
   "source": [
    "rtor.__next__()"
   ]
  },
  {
   "cell_type": "markdown",
   "id": "17fe6e4d-398d-4328-9a99-0e24e2f8655d",
   "metadata": {},
   "source": [
    "### ***zip***"
   ]
  },
  {
   "cell_type": "markdown",
   "id": "cd010926-188a-4987-935f-2094b18881ad",
   "metadata": {},
   "source": [
    "`-` 이터레이터의 개념을 알면 for문에 대한 이해도가 대폭 상승한다. "
   ]
  },
  {
   "cell_type": "code",
   "execution_count": 424,
   "id": "984fb3a1-043c-435a-bc6b-156a6b5fcfb0",
   "metadata": {},
   "outputs": [
    {
     "name": "stdout",
     "output_type": "stream",
     "text": [
      "(1, 'a')\n",
      "(2, 'b')\n",
      "(3, 'c')\n"
     ]
    }
   ],
   "source": [
    "for i in zip([1,2,3],'abc'):\n",
    "    print(i)"
   ]
  },
  {
   "cell_type": "markdown",
   "id": "88cbde49-edde-47ea-8cac-2b7bb432ca2a",
   "metadata": {},
   "source": [
    "- zip은 뭐지?"
   ]
  },
  {
   "cell_type": "code",
   "execution_count": 425,
   "id": "d13c1302-50a4-44a6-acf2-3baaafc0aed4",
   "metadata": {},
   "outputs": [
    {
     "data": {
      "text/plain": [
       "<zip at 0x7f68c2ff7bc0>"
      ]
     },
     "execution_count": 425,
     "metadata": {},
     "output_type": "execute_result"
    }
   ],
   "source": [
    "zip([1,2,3],'abc')"
   ]
  },
  {
   "cell_type": "markdown",
   "id": "bb3a1ae4-7937-4ead-ab33-0c1df9de507b",
   "metadata": {},
   "source": [
    "`-` 어차피 `for i in ????`: 의 ???? 자리는 iterable object의 자리이다. "
   ]
  },
  {
   "cell_type": "code",
   "execution_count": 428,
   "id": "f3bbcd6f-d280-491c-83ec-cdc3d39b42bc",
   "metadata": {},
   "outputs": [
    {
     "data": {
      "text/plain": [
       "{'__iter__', '__next__'}"
      ]
     },
     "execution_count": 428,
     "metadata": {},
     "output_type": "execute_result"
    }
   ],
   "source": [
    "set(dir(zip([1,2,3],'abc'))) & {'__iter__','__next__'}"
   ]
  },
  {
   "cell_type": "markdown",
   "id": "197ee75d-5211-40f3-a49c-440ff7952ea9",
   "metadata": {},
   "source": [
    "- `__next__()`함수가 있음 $\\to$ `zip([1,2,3],'abc')`은 그자체로 iterator 였다!"
   ]
  },
  {
   "cell_type": "code",
   "execution_count": 429,
   "id": "ce3a3250-ad30-4bd4-9230-76aaba80dd09",
   "metadata": {},
   "outputs": [],
   "source": [
    "z= zip([1,2,3],'abc')"
   ]
  },
  {
   "cell_type": "code",
   "execution_count": 430,
   "id": "c819150d-1466-4c70-adfb-3e4825eb2203",
   "metadata": {},
   "outputs": [
    {
     "data": {
      "text/plain": [
       "(1, 'a')"
      ]
     },
     "execution_count": 430,
     "metadata": {},
     "output_type": "execute_result"
    }
   ],
   "source": [
    "z.__next__()"
   ]
  },
  {
   "cell_type": "code",
   "execution_count": 431,
   "id": "238bd91e-1e7b-479e-bdd4-45e879be061f",
   "metadata": {},
   "outputs": [
    {
     "data": {
      "text/plain": [
       "(2, 'b')"
      ]
     },
     "execution_count": 431,
     "metadata": {},
     "output_type": "execute_result"
    }
   ],
   "source": [
    "z.__next__()"
   ]
  },
  {
   "cell_type": "code",
   "execution_count": 432,
   "id": "7fec9b62-926b-4e47-8ebf-ab6d754c99f0",
   "metadata": {},
   "outputs": [
    {
     "data": {
      "text/plain": [
       "(3, 'c')"
      ]
     },
     "execution_count": 432,
     "metadata": {},
     "output_type": "execute_result"
    }
   ],
   "source": [
    "z.__next__()"
   ]
  },
  {
   "cell_type": "code",
   "execution_count": 433,
   "id": "8ff77b8c-f87b-4a15-ba91-3cb973107d73",
   "metadata": {},
   "outputs": [
    {
     "ename": "StopIteration",
     "evalue": "",
     "output_type": "error",
     "traceback": [
      "\u001b[0;31m---------------------------------------------------------------------------\u001b[0m",
      "\u001b[0;31mStopIteration\u001b[0m                             Traceback (most recent call last)",
      "Input \u001b[0;32mIn [433]\u001b[0m, in \u001b[0;36m<cell line: 1>\u001b[0;34m()\u001b[0m\n\u001b[0;32m----> 1\u001b[0m \u001b[43mz\u001b[49m\u001b[38;5;241;43m.\u001b[39;49m\u001b[38;5;21;43m__next__\u001b[39;49m\u001b[43m(\u001b[49m\u001b[43m)\u001b[49m\n",
      "\u001b[0;31mStopIteration\u001b[0m: "
     ]
    }
   ],
   "source": [
    "z.__next__()"
   ]
  },
  {
   "cell_type": "markdown",
   "id": "ab08b558-de95-4928-b5e5-076f73f6227a",
   "metadata": {},
   "source": [
    "***또다른 이해: 그러고보니까 `zip([1,2,3],'abc')`은 뭐하는 문법이지?***"
   ]
  },
  {
   "cell_type": "code",
   "execution_count": 489,
   "id": "78c47699-b8c8-432f-a1c0-65353d269942",
   "metadata": {},
   "outputs": [
    {
     "data": {
      "text/plain": [
       "\u001b[0;31mInit signature:\u001b[0m \u001b[0mzip\u001b[0m\u001b[0;34m(\u001b[0m\u001b[0mself\u001b[0m\u001b[0;34m,\u001b[0m \u001b[0;34m/\u001b[0m\u001b[0;34m,\u001b[0m \u001b[0;34m*\u001b[0m\u001b[0margs\u001b[0m\u001b[0;34m,\u001b[0m \u001b[0;34m**\u001b[0m\u001b[0mkwargs\u001b[0m\u001b[0;34m)\u001b[0m\u001b[0;34m\u001b[0m\u001b[0;34m\u001b[0m\u001b[0m\n",
       "\u001b[0;31mDocstring:\u001b[0m     \n",
       "zip(*iterables) --> A zip object yielding tuples until an input is exhausted.\n",
       "\n",
       "   >>> list(zip('abcdefg', range(3), range(4)))\n",
       "   [('a', 0, 0), ('b', 1, 1), ('c', 2, 2)]\n",
       "\n",
       "The zip object yields n-length tuples, where n is the number of iterables\n",
       "passed as positional arguments to zip().  The i-th element in every tuple\n",
       "comes from the i-th iterable argument to zip().  This continues until the\n",
       "shortest argument is exhausted.\n",
       "\u001b[0;31mType:\u001b[0m           type\n",
       "\u001b[0;31mSubclasses:\u001b[0m     "
      ]
     },
     "metadata": {},
     "output_type": "display_data"
    }
   ],
   "source": [
    "zip?"
   ]
  },
  {
   "cell_type": "markdown",
   "id": "924642fe-c807-42da-9cae-84352c8d0c51",
   "metadata": {},
   "source": [
    "- 너 클래스였어? "
   ]
  },
  {
   "cell_type": "code",
   "execution_count": 508,
   "id": "0dbd688b-4778-4043-a2c0-f629e8b75aa4",
   "metadata": {},
   "outputs": [],
   "source": [
    "iterator_from_zip = zip.__call__([1,2,3],'abc')"
   ]
  },
  {
   "cell_type": "code",
   "execution_count": 509,
   "id": "421526e6-d754-4f53-9ed2-22f891906f9c",
   "metadata": {},
   "outputs": [
    {
     "name": "stdout",
     "output_type": "stream",
     "text": [
      "1 a\n",
      "2 b\n",
      "3 c\n"
     ]
    }
   ],
   "source": [
    "for i,j in iterator_from_zip:\n",
    "    print(i,j)"
   ]
  },
  {
   "cell_type": "markdown",
   "id": "d3d21e98-74b3-4442-8cce-c2d413afc2a0",
   "metadata": {},
   "source": [
    "> 파이썬의 작은 비밀: zip은 iterator를 찍어내는 클래스이다. "
   ]
  },
  {
   "cell_type": "markdown",
   "id": "90c01936-eb8b-4ffd-ac99-2cbdc70b3c5e",
   "metadata": {
    "tags": []
   },
   "source": [
    "### ***enumerate***"
   ]
  },
  {
   "cell_type": "markdown",
   "id": "8dbacaea-cda9-4ff5-bc1a-c3142a88fb24",
   "metadata": {},
   "source": [
    "`-` zip의 짝궁으로 enumerate가 있음 "
   ]
  },
  {
   "cell_type": "code",
   "execution_count": 510,
   "id": "a24e8cc0-8114-4932-ba58-1c15697498e0",
   "metadata": {},
   "outputs": [
    {
     "name": "stdout",
     "output_type": "stream",
     "text": [
      "(0, 'a')\n",
      "(1, 'b')\n",
      "(2, 'c')\n"
     ]
    }
   ],
   "source": [
    "for i in enumerate('abc'):\n",
    "    print(i)"
   ]
  },
  {
   "cell_type": "markdown",
   "id": "21d63336-f15c-4fe3-9881-ccbe3e55333c",
   "metadata": {},
   "source": [
    "`-` `enumerate('abc')`도 문법상 iterable object 아니면 iterator 임."
   ]
  },
  {
   "cell_type": "code",
   "execution_count": 512,
   "id": "6a00f160-afde-494f-ab7d-505cdbf09e63",
   "metadata": {},
   "outputs": [
    {
     "data": {
      "text/plain": [
       "{'__iter__', '__next__'}"
      ]
     },
     "execution_count": 512,
     "metadata": {},
     "output_type": "execute_result"
    }
   ],
   "source": [
    "set(dir(enumerate('abc'))) & {'__iter__', '__next__'}"
   ]
  },
  {
   "cell_type": "markdown",
   "id": "17f1ccb7-9ee7-4446-93df-686463ced635",
   "metadata": {},
   "source": [
    "- iterator 였군 "
   ]
  },
  {
   "cell_type": "code",
   "execution_count": 514,
   "id": "83ba392e-cfd2-41cb-8623-377c8aabaa32",
   "metadata": {},
   "outputs": [],
   "source": [
    "iterator = enumerate('abc')"
   ]
  },
  {
   "cell_type": "code",
   "execution_count": 515,
   "id": "39e86034-77a9-4a38-826c-15bce957cb88",
   "metadata": {},
   "outputs": [
    {
     "data": {
      "text/plain": [
       "(0, 'a')"
      ]
     },
     "execution_count": 515,
     "metadata": {},
     "output_type": "execute_result"
    }
   ],
   "source": [
    "next(iterator)"
   ]
  },
  {
   "cell_type": "code",
   "execution_count": 516,
   "id": "d28f72d9-8e88-4d45-8622-5fc22317c3e9",
   "metadata": {},
   "outputs": [
    {
     "data": {
      "text/plain": [
       "(1, 'b')"
      ]
     },
     "execution_count": 516,
     "metadata": {},
     "output_type": "execute_result"
    }
   ],
   "source": [
    "next(iterator)"
   ]
  },
  {
   "cell_type": "code",
   "execution_count": 517,
   "id": "410cd24b-b3ce-4d59-84bd-4e7606280bd0",
   "metadata": {},
   "outputs": [
    {
     "data": {
      "text/plain": [
       "(2, 'c')"
      ]
     },
     "execution_count": 517,
     "metadata": {},
     "output_type": "execute_result"
    }
   ],
   "source": [
    "next(iterator)"
   ]
  },
  {
   "cell_type": "code",
   "execution_count": 518,
   "id": "f057b74e-e4aa-4cbb-abd0-d97978fa0df0",
   "metadata": {},
   "outputs": [
    {
     "ename": "StopIteration",
     "evalue": "",
     "output_type": "error",
     "traceback": [
      "\u001b[0;31m---------------------------------------------------------------------------\u001b[0m",
      "\u001b[0;31mStopIteration\u001b[0m                             Traceback (most recent call last)",
      "Cell \u001b[0;32mIn[518], line 1\u001b[0m\n\u001b[0;32m----> 1\u001b[0m \u001b[38;5;28;43mnext\u001b[39;49m\u001b[43m(\u001b[49m\u001b[43miterator\u001b[49m\u001b[43m)\u001b[49m\n",
      "\u001b[0;31mStopIteration\u001b[0m: "
     ]
    }
   ],
   "source": [
    "next(iterator)"
   ]
  },
  {
   "cell_type": "markdown",
   "id": "3938dd0b-b5e9-42b1-9b9f-88563b85344f",
   "metadata": {},
   "source": [
    "`-` 참고: enumerate 는 클래스임 "
   ]
  },
  {
   "cell_type": "code",
   "execution_count": 519,
   "id": "1b1cdfb6-7991-42fc-ad4f-381f20a42385",
   "metadata": {},
   "outputs": [
    {
     "data": {
      "text/plain": [
       "\u001b[0;31mInit signature:\u001b[0m \u001b[0menumerate\u001b[0m\u001b[0;34m(\u001b[0m\u001b[0miterable\u001b[0m\u001b[0;34m,\u001b[0m \u001b[0mstart\u001b[0m\u001b[0;34m=\u001b[0m\u001b[0;36m0\u001b[0m\u001b[0;34m)\u001b[0m\u001b[0;34m\u001b[0m\u001b[0;34m\u001b[0m\u001b[0m\n",
       "\u001b[0;31mDocstring:\u001b[0m     \n",
       "Return an enumerate object.\n",
       "\n",
       "  iterable\n",
       "    an object supporting iteration\n",
       "\n",
       "The enumerate object yields pairs containing a count (from start, which\n",
       "defaults to zero) and a value yielded by the iterable argument.\n",
       "\n",
       "enumerate is useful for obtaining an indexed list:\n",
       "    (0, seq[0]), (1, seq[1]), (2, seq[2]), ...\n",
       "\u001b[0;31mType:\u001b[0m           type\n",
       "\u001b[0;31mSubclasses:\u001b[0m     "
      ]
     },
     "metadata": {},
     "output_type": "display_data"
    }
   ],
   "source": [
    "enumerate?"
   ]
  },
  {
   "cell_type": "markdown",
   "id": "ea7f60df-2293-43e1-99d1-87b3d4b3c68d",
   "metadata": {},
   "source": [
    "> 파이썬의 작은 비밀: enumerate 역시 iterator를 찍어내는 클래스다. "
   ]
  },
  {
   "cell_type": "markdown",
   "id": "f801eaf1-4a03-4b32-a1ae-aea7c464151b",
   "metadata": {},
   "source": [
    "> 파이썬의 비밀12: iterator나 iterable object만 for문과 함께 사용할 수 있다. "
   ]
  },
  {
   "cell_type": "markdown",
   "id": "9a56d506-43a8-4e5d-bd7c-afaac322cb73",
   "metadata": {
    "tags": []
   },
   "source": [
    "## 비밀을 알아서 좋은점"
   ]
  },
  {
   "cell_type": "markdown",
   "id": "dd703f8f-1624-410d-baab-79d98964cbd1",
   "metadata": {},
   "source": [
    "### ***파이썬의 에러메시지 이해***"
   ]
  },
  {
   "cell_type": "markdown",
   "id": "17d5a065-cb34-4134-b217-e54b6500df63",
   "metadata": {},
   "source": [
    "`TypeError`: 타입이 맞지 않는 연산을 수행하려고 할 때 발생. 예를 들어, 숫자와 문자열을 더하려고 할 때 발생."
   ]
  },
  {
   "cell_type": "code",
   "execution_count": 25,
   "id": "1d73cf4d-0052-4602-8089-c5f6b0cf2d83",
   "metadata": {},
   "outputs": [
    {
     "ename": "TypeError",
     "evalue": "unsupported operand type(s) for +: 'int' and 'str'",
     "output_type": "error",
     "traceback": [
      "\u001b[0;31m---------------------------------------------------------------------------\u001b[0m",
      "\u001b[0;31mTypeError\u001b[0m                                 Traceback (most recent call last)",
      "Cell \u001b[0;32mIn[25], line 1\u001b[0m\n\u001b[0;32m----> 1\u001b[0m result \u001b[38;5;241m=\u001b[39m \u001b[38;5;241;43m10\u001b[39;49m\u001b[43m \u001b[49m\u001b[38;5;241;43m+\u001b[39;49m\u001b[43m \u001b[49m\u001b[38;5;124;43m\"\u001b[39;49m\u001b[38;5;124;43m20\u001b[39;49m\u001b[38;5;124;43m\"\u001b[39;49m  \u001b[38;5;66;03m# TypeError: unsupported operand type(s) for +: 'int' and 'str'\u001b[39;00m\n",
      "\u001b[0;31mTypeError\u001b[0m: unsupported operand type(s) for +: 'int' and 'str'"
     ]
    }
   ],
   "source": [
    "result = 10 + \"20\"  # TypeError: unsupported operand type(s) for +: 'int' and 'str'"
   ]
  },
  {
   "cell_type": "markdown",
   "id": "5014c35d-5213-417a-92bf-8d8caa35d2bc",
   "metadata": {},
   "source": [
    "`SyntaxError`: 코드의 구문이 잘못되었을 때 발생. 주로 오타, 괄호 불일치, 콜론(:) 빠뜨림 등의 문제로 인해 발생."
   ]
  },
  {
   "cell_type": "code",
   "execution_count": 23,
   "id": "3b42fbc3-2edb-40de-9538-49873992837d",
   "metadata": {},
   "outputs": [
    {
     "ename": "SyntaxError",
     "evalue": "invalid syntax (<ipython-input-23-5259b3c47c58>, line 1)",
     "output_type": "error",
     "traceback": [
      "\u001b[0;36m  Cell \u001b[0;32mIn[23], line 1\u001b[0;36m\u001b[0m\n\u001b[0;31m    if x == 5\u001b[0m\n\u001b[0m             ^\u001b[0m\n\u001b[0;31mSyntaxError\u001b[0m\u001b[0;31m:\u001b[0m invalid syntax\n"
     ]
    }
   ],
   "source": [
    "if x == 5\n",
    "    print(\"x is equal to 5\")  # SyntaxError: invalid syntax"
   ]
  },
  {
   "cell_type": "markdown",
   "id": "2a597c9e-291e-4d42-9bf3-ff3a1371e539",
   "metadata": {},
   "source": [
    "`NameError`: 정의되지 않은 변수나 함수를 사용하려고 할 때 발생."
   ]
  },
  {
   "cell_type": "code",
   "execution_count": 24,
   "id": "72d96ead-b7df-4940-9081-532d00f72f65",
   "metadata": {},
   "outputs": [
    {
     "ename": "NameError",
     "evalue": "name 'unknown_variable' is not defined",
     "output_type": "error",
     "traceback": [
      "\u001b[0;31m---------------------------------------------------------------------------\u001b[0m",
      "\u001b[0;31mNameError\u001b[0m                                 Traceback (most recent call last)",
      "Cell \u001b[0;32mIn[24], line 1\u001b[0m\n\u001b[0;32m----> 1\u001b[0m \u001b[38;5;28mprint\u001b[39m(\u001b[43munknown_variable\u001b[49m)  \u001b[38;5;66;03m# NameError: name 'unknown_variable' is not defined\u001b[39;00m\n",
      "\u001b[0;31mNameError\u001b[0m: name 'unknown_variable' is not defined"
     ]
    }
   ],
   "source": [
    "print(unknown_variable)  # NameError: name 'unknown_variable' is not defined"
   ]
  },
  {
   "cell_type": "markdown",
   "id": "79d94fb2-3811-4877-8518-0c5aaaf21f4b",
   "metadata": {},
   "source": [
    "`ValueError`: 함수나 메서드에 전달되는 인자의 값이 올바르지 않을 때 발생. "
   ]
  },
  {
   "cell_type": "code",
   "execution_count": 31,
   "id": "e6df22f2-69be-4f23-9365-95e19bb0b948",
   "metadata": {},
   "outputs": [
    {
     "ename": "ValueError",
     "evalue": "invalid literal for int() with base 10: 'abc'",
     "output_type": "error",
     "traceback": [
      "\u001b[0;31m---------------------------------------------------------------------------\u001b[0m",
      "\u001b[0;31mValueError\u001b[0m                                Traceback (most recent call last)",
      "Cell \u001b[0;32mIn[31], line 1\u001b[0m\n\u001b[0;32m----> 1\u001b[0m int_value \u001b[38;5;241m=\u001b[39m \u001b[38;5;28;43mint\u001b[39;49m\u001b[43m(\u001b[49m\u001b[38;5;124;43m\"\u001b[39;49m\u001b[38;5;124;43mabc\u001b[39;49m\u001b[38;5;124;43m\"\u001b[39;49m\u001b[43m)\u001b[49m  \u001b[38;5;66;03m# ValueError: invalid literal for int() with base 10: 'abc'\u001b[39;00m\n",
      "\u001b[0;31mValueError\u001b[0m: invalid literal for int() with base 10: 'abc'"
     ]
    }
   ],
   "source": [
    "int_value = int(\"abc\")  # ValueError: invalid literal for int() with base 10: 'abc'"
   ]
  },
  {
   "cell_type": "markdown",
   "id": "10d0a310-12fe-45c4-b3ac-c301d98a96f2",
   "metadata": {},
   "source": [
    "`AttributeError`: 객체가 속성(attribute)이나 메서드(method)를 가지고 있지 않을 때 발생"
   ]
  },
  {
   "cell_type": "code",
   "execution_count": 32,
   "id": "3ea1f955-51e3-48ee-b350-09009858e6c8",
   "metadata": {},
   "outputs": [
    {
     "ename": "AttributeError",
     "evalue": "'list' object has no attribute 'upper'",
     "output_type": "error",
     "traceback": [
      "\u001b[0;31m---------------------------------------------------------------------------\u001b[0m",
      "\u001b[0;31mAttributeError\u001b[0m                            Traceback (most recent call last)",
      "Cell \u001b[0;32mIn[32], line 3\u001b[0m\n\u001b[1;32m      1\u001b[0m my_list \u001b[38;5;241m=\u001b[39m [\u001b[38;5;241m1\u001b[39m, \u001b[38;5;241m2\u001b[39m, \u001b[38;5;241m3\u001b[39m]\n\u001b[1;32m      2\u001b[0m my_list\u001b[38;5;241m.\u001b[39mappend(\u001b[38;5;241m4\u001b[39m)\n\u001b[0;32m----> 3\u001b[0m \u001b[43mmy_list\u001b[49m\u001b[38;5;241;43m.\u001b[39;49m\u001b[43mupper\u001b[49m()  \u001b[38;5;66;03m# AttributeError: 'list' object has no attribute 'upper'\u001b[39;00m\n",
      "\u001b[0;31mAttributeError\u001b[0m: 'list' object has no attribute 'upper'"
     ]
    }
   ],
   "source": [
    "my_list = [1, 2, 3]\n",
    "my_list.append(4)\n",
    "my_list.upper()  # AttributeError: 'list' object has no attribute 'upper'"
   ]
  },
  {
   "cell_type": "markdown",
   "id": "f845f7ed-6d67-4953-bc40-b9904553a8b3",
   "metadata": {},
   "source": [
    "`ImportError`: 모듈을 임포트하는 과정에서 문제가 발생할 때 발생. 임포트하려는 모듈이 존재하지 않거나, 임포트 경로 설정이 잘못된 경우에 해당."
   ]
  },
  {
   "cell_type": "code",
   "execution_count": 33,
   "id": "f89f6398-bebb-4fb1-9989-c3ab9b722e19",
   "metadata": {},
   "outputs": [
    {
     "ename": "ModuleNotFoundError",
     "evalue": "No module named 'non_existent_module'",
     "output_type": "error",
     "traceback": [
      "\u001b[0;31m---------------------------------------------------------------------------\u001b[0m",
      "\u001b[0;31mModuleNotFoundError\u001b[0m                       Traceback (most recent call last)",
      "Cell \u001b[0;32mIn[33], line 1\u001b[0m\n\u001b[0;32m----> 1\u001b[0m \u001b[38;5;28;01mimport\u001b[39;00m \u001b[38;5;21;01mnon_existent_module\u001b[39;00m  \u001b[38;5;66;03m# ImportError: No module named 'non_existent_module'\u001b[39;00m\n",
      "\u001b[0;31mModuleNotFoundError\u001b[0m: No module named 'non_existent_module'"
     ]
    }
   ],
   "source": [
    "import non_existent_module  # ImportError: No module named 'non_existent_module'"
   ]
  },
  {
   "cell_type": "markdown",
   "id": "b93b5325-1a33-4de2-a1c2-e0532a7538af",
   "metadata": {},
   "source": [
    "`IOError`: 파일 입출력 작업 중에 발생하는 에러. 파일이 존재하지 않거나, 파일에 쓰기 권한이 없는 경우 등에 해당."
   ]
  },
  {
   "cell_type": "code",
   "execution_count": 34,
   "id": "ef51b4e2-549f-4a0e-a45e-8381809ab077",
   "metadata": {},
   "outputs": [
    {
     "ename": "FileNotFoundError",
     "evalue": "[Errno 2] No such file or directory: 'file.txt'",
     "output_type": "error",
     "traceback": [
      "\u001b[0;31m---------------------------------------------------------------------------\u001b[0m",
      "\u001b[0;31mFileNotFoundError\u001b[0m                         Traceback (most recent call last)",
      "Cell \u001b[0;32mIn[34], line 1\u001b[0m\n\u001b[0;32m----> 1\u001b[0m file \u001b[38;5;241m=\u001b[39m \u001b[38;5;28;43mopen\u001b[39;49m\u001b[43m(\u001b[49m\u001b[38;5;124;43m'\u001b[39;49m\u001b[38;5;124;43mfile.txt\u001b[39;49m\u001b[38;5;124;43m'\u001b[39;49m\u001b[43m,\u001b[49m\u001b[43m \u001b[49m\u001b[38;5;124;43m'\u001b[39;49m\u001b[38;5;124;43mr\u001b[39;49m\u001b[38;5;124;43m'\u001b[39;49m\u001b[43m)\u001b[49m  \u001b[38;5;66;03m# IOError: [Errno 2] No such file or directory: 'file.txt'\u001b[39;00m\n",
      "File \u001b[0;32m~/anaconda3/envs/py38/lib/python3.8/site-packages/IPython/core/interactiveshell.py:284\u001b[0m, in \u001b[0;36m_modified_open\u001b[0;34m(file, *args, **kwargs)\u001b[0m\n\u001b[1;32m    277\u001b[0m \u001b[38;5;28;01mif\u001b[39;00m file \u001b[38;5;129;01min\u001b[39;00m {\u001b[38;5;241m0\u001b[39m, \u001b[38;5;241m1\u001b[39m, \u001b[38;5;241m2\u001b[39m}:\n\u001b[1;32m    278\u001b[0m     \u001b[38;5;28;01mraise\u001b[39;00m \u001b[38;5;167;01mValueError\u001b[39;00m(\n\u001b[1;32m    279\u001b[0m         \u001b[38;5;124mf\u001b[39m\u001b[38;5;124m\"\u001b[39m\u001b[38;5;124mIPython won\u001b[39m\u001b[38;5;124m'\u001b[39m\u001b[38;5;124mt let you open fd=\u001b[39m\u001b[38;5;132;01m{\u001b[39;00mfile\u001b[38;5;132;01m}\u001b[39;00m\u001b[38;5;124m by default \u001b[39m\u001b[38;5;124m\"\u001b[39m\n\u001b[1;32m    280\u001b[0m         \u001b[38;5;124m\"\u001b[39m\u001b[38;5;124mas it is likely to crash IPython. If you know what you are doing, \u001b[39m\u001b[38;5;124m\"\u001b[39m\n\u001b[1;32m    281\u001b[0m         \u001b[38;5;124m\"\u001b[39m\u001b[38;5;124myou can use builtins\u001b[39m\u001b[38;5;124m'\u001b[39m\u001b[38;5;124m open.\u001b[39m\u001b[38;5;124m\"\u001b[39m\n\u001b[1;32m    282\u001b[0m     )\n\u001b[0;32m--> 284\u001b[0m \u001b[38;5;28;01mreturn\u001b[39;00m \u001b[43mio_open\u001b[49m\u001b[43m(\u001b[49m\u001b[43mfile\u001b[49m\u001b[43m,\u001b[49m\u001b[43m \u001b[49m\u001b[38;5;241;43m*\u001b[39;49m\u001b[43margs\u001b[49m\u001b[43m,\u001b[49m\u001b[43m \u001b[49m\u001b[38;5;241;43m*\u001b[39;49m\u001b[38;5;241;43m*\u001b[39;49m\u001b[43mkwargs\u001b[49m\u001b[43m)\u001b[49m\n",
      "\u001b[0;31mFileNotFoundError\u001b[0m: [Errno 2] No such file or directory: 'file.txt'"
     ]
    }
   ],
   "source": [
    "file = open('file.txt', 'r')  # IOError: [Errno 2] No such file or directory: 'file.txt'"
   ]
  },
  {
   "cell_type": "markdown",
   "id": "11d847ef-1a0a-42f2-bcf6-c2a0ef18a673",
   "metadata": {},
   "source": [
    "`KeyboardInterrupt`: 사용자가 프로그램의 실행을 중단할 때 발생."
   ]
  },
  {
   "cell_type": "code",
   "execution_count": 35,
   "id": "d9fd7b44-93f8-4460-a9a7-76bb99226ca4",
   "metadata": {},
   "outputs": [
    {
     "ename": "KeyboardInterrupt",
     "evalue": "",
     "output_type": "error",
     "traceback": [
      "\u001b[0;31m---------------------------------------------------------------------------\u001b[0m",
      "\u001b[0;31mKeyboardInterrupt\u001b[0m                         Traceback (most recent call last)",
      "Cell \u001b[0;32mIn[35], line 2\u001b[0m\n\u001b[1;32m      1\u001b[0m \u001b[38;5;28;01mwhile\u001b[39;00m \u001b[38;5;28;01mTrue\u001b[39;00m:\n\u001b[0;32m----> 2\u001b[0m     \u001b[38;5;28;01mpass\u001b[39;00m  \u001b[38;5;66;03m# 무한 루프\u001b[39;00m\n\u001b[1;32m      3\u001b[0m \u001b[38;5;66;03m# KeyboardInterrupt: \u001b[39;00m\n",
      "\u001b[0;31mKeyboardInterrupt\u001b[0m: "
     ]
    }
   ],
   "source": [
    "while True:\n",
    "    pass  # 무한 루프\n",
    "# KeyboardInterrupt: \n"
   ]
  },
  {
   "cell_type": "markdown",
   "id": "456bd421-a5db-43f7-bab0-4def1a84210b",
   "metadata": {},
   "source": [
    "`IndexError`: 유효하지 않은 인덱스를 사용하여 시퀀스(리스트, 튜플, 문자열 등)의 요소에 접근하려고 할 때 발생."
   ]
  },
  {
   "cell_type": "code",
   "execution_count": 27,
   "id": "a4b5fb4c-6074-499e-9016-54bd97c77074",
   "metadata": {},
   "outputs": [
    {
     "ename": "IndexError",
     "evalue": "list index out of range",
     "output_type": "error",
     "traceback": [
      "\u001b[0;31m---------------------------------------------------------------------------\u001b[0m",
      "\u001b[0;31mIndexError\u001b[0m                                Traceback (most recent call last)",
      "Cell \u001b[0;32mIn[27], line 2\u001b[0m\n\u001b[1;32m      1\u001b[0m my_list \u001b[38;5;241m=\u001b[39m [\u001b[38;5;241m1\u001b[39m, \u001b[38;5;241m2\u001b[39m, \u001b[38;5;241m3\u001b[39m]\n\u001b[0;32m----> 2\u001b[0m \u001b[38;5;28mprint\u001b[39m(\u001b[43mmy_list\u001b[49m\u001b[43m[\u001b[49m\u001b[38;5;241;43m5\u001b[39;49m\u001b[43m]\u001b[49m)  \u001b[38;5;66;03m# IndexError: list index out of range\u001b[39;00m\n",
      "\u001b[0;31mIndexError\u001b[0m: list index out of range"
     ]
    }
   ],
   "source": [
    "my_list = [1, 2, 3]\n",
    "print(my_list[5])  # IndexError: list index out of range"
   ]
  },
  {
   "cell_type": "markdown",
   "id": "b7d5a155-4a00-442d-b067-3f3592abbfdd",
   "metadata": {},
   "source": [
    "`KeyError`: 딕셔너리에서 존재하지 않는 키를 사용하여 요소에 접근하려고 할 때 발생."
   ]
  },
  {
   "cell_type": "code",
   "execution_count": 28,
   "id": "f3a30c00-bf99-4147-a5d3-822b7e0eeb5c",
   "metadata": {},
   "outputs": [
    {
     "ename": "KeyError",
     "evalue": "'address'",
     "output_type": "error",
     "traceback": [
      "\u001b[0;31m---------------------------------------------------------------------------\u001b[0m",
      "\u001b[0;31mKeyError\u001b[0m                                  Traceback (most recent call last)",
      "Cell \u001b[0;32mIn[28], line 2\u001b[0m\n\u001b[1;32m      1\u001b[0m my_dict \u001b[38;5;241m=\u001b[39m {\u001b[38;5;124m'\u001b[39m\u001b[38;5;124mname\u001b[39m\u001b[38;5;124m'\u001b[39m: \u001b[38;5;124m'\u001b[39m\u001b[38;5;124mJohn\u001b[39m\u001b[38;5;124m'\u001b[39m, \u001b[38;5;124m'\u001b[39m\u001b[38;5;124mage\u001b[39m\u001b[38;5;124m'\u001b[39m: \u001b[38;5;241m25\u001b[39m}\n\u001b[0;32m----> 2\u001b[0m \u001b[38;5;28mprint\u001b[39m(\u001b[43mmy_dict\u001b[49m\u001b[43m[\u001b[49m\u001b[38;5;124;43m'\u001b[39;49m\u001b[38;5;124;43maddress\u001b[39;49m\u001b[38;5;124;43m'\u001b[39;49m\u001b[43m]\u001b[49m)  \u001b[38;5;66;03m# KeyError: 'address'\u001b[39;00m\n",
      "\u001b[0;31mKeyError\u001b[0m: 'address'"
     ]
    }
   ],
   "source": [
    "my_dict = {'name': 'John', 'age': 25}\n",
    "print(my_dict['address'])  # KeyError: 'address'"
   ]
  },
  {
   "cell_type": "markdown",
   "id": "91ffab81-c8c5-4519-95c5-15039f20cb33",
   "metadata": {},
   "source": [
    "`FileNotFoundError`: 존재하지 않는 파일을 열려고 할 때 발생."
   ]
  },
  {
   "cell_type": "code",
   "execution_count": 29,
   "id": "3a49ed80-697f-4a12-b746-57d0b0292a2f",
   "metadata": {},
   "outputs": [
    {
     "ename": "FileNotFoundError",
     "evalue": "[Errno 2] No such file or directory: 'nonexistent_file.txt'",
     "output_type": "error",
     "traceback": [
      "\u001b[0;31m---------------------------------------------------------------------------\u001b[0m",
      "\u001b[0;31mFileNotFoundError\u001b[0m                         Traceback (most recent call last)",
      "Cell \u001b[0;32mIn[29], line 1\u001b[0m\n\u001b[0;32m----> 1\u001b[0m file \u001b[38;5;241m=\u001b[39m \u001b[38;5;28;43mopen\u001b[39;49m\u001b[43m(\u001b[49m\u001b[38;5;124;43m'\u001b[39;49m\u001b[38;5;124;43mnonexistent_file.txt\u001b[39;49m\u001b[38;5;124;43m'\u001b[39;49m\u001b[43m)\u001b[49m  \u001b[38;5;66;03m# FileNotFoundError: [Errno 2] No such file or directory: 'nonexistent_file.txt'\u001b[39;00m\n",
      "File \u001b[0;32m~/anaconda3/envs/py38/lib/python3.8/site-packages/IPython/core/interactiveshell.py:284\u001b[0m, in \u001b[0;36m_modified_open\u001b[0;34m(file, *args, **kwargs)\u001b[0m\n\u001b[1;32m    277\u001b[0m \u001b[38;5;28;01mif\u001b[39;00m file \u001b[38;5;129;01min\u001b[39;00m {\u001b[38;5;241m0\u001b[39m, \u001b[38;5;241m1\u001b[39m, \u001b[38;5;241m2\u001b[39m}:\n\u001b[1;32m    278\u001b[0m     \u001b[38;5;28;01mraise\u001b[39;00m \u001b[38;5;167;01mValueError\u001b[39;00m(\n\u001b[1;32m    279\u001b[0m         \u001b[38;5;124mf\u001b[39m\u001b[38;5;124m\"\u001b[39m\u001b[38;5;124mIPython won\u001b[39m\u001b[38;5;124m'\u001b[39m\u001b[38;5;124mt let you open fd=\u001b[39m\u001b[38;5;132;01m{\u001b[39;00mfile\u001b[38;5;132;01m}\u001b[39;00m\u001b[38;5;124m by default \u001b[39m\u001b[38;5;124m\"\u001b[39m\n\u001b[1;32m    280\u001b[0m         \u001b[38;5;124m\"\u001b[39m\u001b[38;5;124mas it is likely to crash IPython. If you know what you are doing, \u001b[39m\u001b[38;5;124m\"\u001b[39m\n\u001b[1;32m    281\u001b[0m         \u001b[38;5;124m\"\u001b[39m\u001b[38;5;124myou can use builtins\u001b[39m\u001b[38;5;124m'\u001b[39m\u001b[38;5;124m open.\u001b[39m\u001b[38;5;124m\"\u001b[39m\n\u001b[1;32m    282\u001b[0m     )\n\u001b[0;32m--> 284\u001b[0m \u001b[38;5;28;01mreturn\u001b[39;00m \u001b[43mio_open\u001b[49m\u001b[43m(\u001b[49m\u001b[43mfile\u001b[49m\u001b[43m,\u001b[49m\u001b[43m \u001b[49m\u001b[38;5;241;43m*\u001b[39;49m\u001b[43margs\u001b[49m\u001b[43m,\u001b[49m\u001b[43m \u001b[49m\u001b[38;5;241;43m*\u001b[39;49m\u001b[38;5;241;43m*\u001b[39;49m\u001b[43mkwargs\u001b[49m\u001b[43m)\u001b[49m\n",
      "\u001b[0;31mFileNotFoundError\u001b[0m: [Errno 2] No such file or directory: 'nonexistent_file.txt'"
     ]
    }
   ],
   "source": [
    "file = open('nonexistent_file.txt')  # FileNotFoundError: [Errno 2] No such file or directory: 'nonexistent_file.txt'"
   ]
  },
  {
   "cell_type": "markdown",
   "id": "58d2f517-67f3-4c6d-9082-513c85696d40",
   "metadata": {},
   "source": [
    "`ZeroDivisionError`: 0으로 나누기 연산을 수행하려고 할 때 발생."
   ]
  },
  {
   "cell_type": "code",
   "execution_count": 30,
   "id": "34eb22ef-ddf5-4b8a-ba38-4224c32beea2",
   "metadata": {},
   "outputs": [
    {
     "ename": "ZeroDivisionError",
     "evalue": "division by zero",
     "output_type": "error",
     "traceback": [
      "\u001b[0;31m---------------------------------------------------------------------------\u001b[0m",
      "\u001b[0;31mZeroDivisionError\u001b[0m                         Traceback (most recent call last)",
      "Cell \u001b[0;32mIn[30], line 1\u001b[0m\n\u001b[0;32m----> 1\u001b[0m result \u001b[38;5;241m=\u001b[39m \u001b[38;5;241;43m10\u001b[39;49m\u001b[43m \u001b[49m\u001b[38;5;241;43m/\u001b[39;49m\u001b[43m \u001b[49m\u001b[38;5;241;43m0\u001b[39;49m  \u001b[38;5;66;03m# ZeroDivisionError: division by zero\u001b[39;00m\n",
      "\u001b[0;31mZeroDivisionError\u001b[0m: division by zero"
     ]
    }
   ],
   "source": [
    "result = 10 / 0  # ZeroDivisionError: division by zero"
   ]
  },
  {
   "cell_type": "markdown",
   "id": "0cdc01a9-3285-41a1-8b2b-12cee704bd24",
   "metadata": {},
   "source": [
    "### ***`TypeError`에 대한 심층분석***"
   ]
  },
  {
   "cell_type": "markdown",
   "id": "6e01e011-a9c2-4f3a-9d37-361facf97625",
   "metadata": {},
   "source": [
    "`-` `.__add__` 가 올바르게 정의되지 않아서 생기는 경우"
   ]
  },
  {
   "cell_type": "markdown",
   "id": "2d9d94d3-f2bf-4202-b6ac-facb11c0b11c",
   "metadata": {},
   "source": [
    "```\n",
    "---------------------------------------------------------------------------\n",
    "TypeError                                 Traceback (most recent call last)\n",
    "Cell In[37], line 1\n",
    "----> 1 boram + '등록'+ '휴학' + '등록' + '휴학'\n",
    "\n",
    "TypeError: unsupported operand type(s) for +: 'NoneType' and 'str'\n",
    "```"
   ]
  },
  {
   "cell_type": "markdown",
   "id": "b7fd8402-a8c5-41e2-82d9-d6008db8ffa5",
   "metadata": {},
   "source": [
    "`-` `.__getitem__`이 정의되지 않은 오브젝트에서 인덱싱을 시도할때 생기는 오류 "
   ]
  },
  {
   "cell_type": "markdown",
   "id": "63dfb022-3cf7-4c06-9f67-a7231076f6cf",
   "metadata": {},
   "source": [
    "```\n",
    "---------------------------------------------------------------------------\n",
    "TypeError                                 Traceback (most recent call last)\n",
    "Cell In[57], line 1\n",
    "----> 1 a[0], a[1]\n",
    "\n",
    "TypeError: 'RPS' object is not subscriptable\n",
    "```"
   ]
  },
  {
   "cell_type": "markdown",
   "id": "c8d50086-fe0a-4da9-a8f2-a5e19d5e9522",
   "metadata": {},
   "source": [
    "`-` `.__setitem__`이 정의되지 않은 오브젝트에서 할당을 시도할때 생기는 오류 "
   ]
  },
  {
   "cell_type": "markdown",
   "id": "03a73017-b1c5-4f12-80ad-e55dd2d5e40a",
   "metadata": {},
   "source": [
    "```\n",
    "---------------------------------------------------------------------------\n",
    "TypeError                                 Traceback (most recent call last)\n",
    "Cell In[77], line 1\n",
    "----> 1 a[0] = '보' \n",
    "\n",
    "TypeError: 'RPS_Ver2' object does not support item assignment\n",
    "```"
   ]
  },
  {
   "cell_type": "markdown",
   "id": "1ba85dda-5d64-481e-9c60-d519c2f16027",
   "metadata": {},
   "source": [
    "`-` `.__len__` 이 정의되지 않은 오브젝트에서 len을 이용할때 생기는 오류 "
   ]
  },
  {
   "cell_type": "markdown",
   "id": "4c58f91c-d006-4d52-aca9-11c2c7305d9d",
   "metadata": {},
   "source": [
    "```\n",
    "---------------------------------------------------------------------------\n",
    "TypeError                                 Traceback (most recent call last)\n",
    "Cell In[122], line 1\n",
    "----> 1 len(a)\n",
    "\n",
    "TypeError: object of type 'RPS_Ver3' has no len()\n",
    "\n",
    "```"
   ]
  },
  {
   "cell_type": "markdown",
   "id": "e1c08f07-e92f-4a99-9dc5-e614f0a84ad6",
   "metadata": {},
   "source": [
    "`-` `.__call__`이 정의되지 않은 오브젝트를 함수처럼 이용하려 할때 생기는 오류 "
   ]
  },
  {
   "cell_type": "markdown",
   "id": "c9b8a209-6cb0-4863-8e5f-2e6fe5b4f6e5",
   "metadata": {},
   "source": [
    "```\n",
    "---------------------------------------------------------------------------\n",
    "TypeError                                 Traceback (most recent call last)\n",
    "Cell In[402], line 1\n",
    "----> 1 a()\n",
    "\n",
    "TypeError: 'Klass' object is not callable\n",
    "```"
   ]
  },
  {
   "cell_type": "markdown",
   "id": "79f1de21-a1af-4b92-9c91-3444cd9ace14",
   "metadata": {},
   "source": [
    "`-` `.__iter__`가 정의되지 않은 오브젝트를 iterable 오브젝트처럼 사용하려 할때 생기는 오류"
   ]
  },
  {
   "cell_type": "markdown",
   "id": "b3d69c4c-77f2-4bea-8067-9af4fdfd042a",
   "metadata": {},
   "source": [
    "```\n",
    "---------------------------------------------------------------------------\n",
    "TypeError                                 Traceback (most recent call last)\n",
    "Cell In[422], line 2\n",
    "      1 a=5 \n",
    "----> 2 for i in a:\n",
    "      3     print(i) \n",
    "\n",
    "TypeError: 'int' object is not iterable\n",
    "```"
   ]
  }
 ],
 "metadata": {
  "kernelspec": {
   "display_name": "Python 3",
   "language": "python",
   "name": "python3"
  },
  "language_info": {
   "codemirror_mode": {
    "name": "ipython",
    "version": 3
   },
   "file_extension": ".py",
   "mimetype": "text/x-python",
   "name": "python",
   "nbconvert_exporter": "python",
   "pygments_lexer": "ipython3",
   "version": "3.8.16"
  }
 },
 "nbformat": 4,
 "nbformat_minor": 5
}
