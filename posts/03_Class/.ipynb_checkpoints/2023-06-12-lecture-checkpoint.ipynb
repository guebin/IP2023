{
 "cells": [
  {
   "cell_type": "raw",
   "id": "a1528b7b-1d00-4bcd-bdd4-490ab2e6d884",
   "metadata": {},
   "source": [
    "---\n",
    "title: \"15wk-1: 클래스공부 5단계 (강의용)\"\n",
    "author: \"최규빈\"\n",
    "date: \"06/12/2023\"\n",
    "---"
   ]
  },
  {
   "cell_type": "markdown",
   "id": "6dea5cee-a6c8-45ed-8d69-2463517388fb",
   "metadata": {},
   "source": [
    "<a href=\"https://colab.research.google.com/github/guebin/PP2023/blob/main/posts/03_Class/2023-06-12-15wk-1.ipynb\"><img src=\"https://colab.research.google.com/assets/colab-badge.svg\" style=\"text-align: left\"></a>"
   ]
  },
  {
   "cell_type": "markdown",
   "id": "b38407e9-82a0-4863-87e5-0865f8fa31c1",
   "metadata": {},
   "source": [
    "# 클래스공부 5단계: 상속"
   ]
  },
  {
   "cell_type": "markdown",
   "id": "3cd9f0ef-1ece-4965-8f1f-0cd38502e082",
   "metadata": {},
   "source": [
    "## 상속의 사용방법"
   ]
  },
  {
   "cell_type": "markdown",
   "id": "20517b7a-c5a6-4e6a-8931-7f7c9a69633f",
   "metadata": {},
   "source": [
    "`-` 클래스를 조금 수정하고 싶을때, 아래와 같은 문법을 이용하면 편리하다. \n",
    "\n",
    "```Python\n",
    "class 새로운_클래스_이름(수정할_클래스_이름): \n",
    "    def 수정_및_추가할_함수이름(self,...):\n",
    "        ...\n",
    "```"
   ]
  },
  {
   "cell_type": "markdown",
   "id": "4ddf0179-e96e-4580-a4da-eb40002f1fe4",
   "metadata": {},
   "source": [
    "## 간단한 사용예시"
   ]
  },
  {
   "cell_type": "markdown",
   "id": "fc535f67-90b5-42b8-b459-43165225ac97",
   "metadata": {},
   "source": [
    "## 슈퍼클래스 메소드 재활용"
   ]
  },
  {
   "cell_type": "markdown",
   "id": "0550828e-8ff2-42e6-824d-802b76c14a8d",
   "metadata": {},
   "source": [
    "`-` 방법1: 직접 슈퍼클래스 명시"
   ]
  },
  {
   "cell_type": "markdown",
   "id": "3a9cd020-adcd-4131-a4de-ede607759355",
   "metadata": {},
   "source": [
    "`-` 방법2: super() 이용 (생략안한버전)"
   ]
  },
  {
   "cell_type": "markdown",
   "id": "be96ef37-441e-4492-9b92-55ba7126eb63",
   "metadata": {},
   "source": [
    "`-` 방법3: super() 이용 (생략한버젼) <-- 이렇게 쓰세요!"
   ]
  },
  {
   "cell_type": "markdown",
   "id": "eb8127a2-458d-4a1c-a890-8f1d16064bc1",
   "metadata": {},
   "source": [
    "`-` 방법4: super() 이용, 방법3을 이해하기 위한 코드"
   ]
  },
  {
   "cell_type": "markdown",
   "id": "f9f7ecdc-7c7c-4eb6-9253-693956ebb307",
   "metadata": {},
   "source": [
    "## 다중상속"
   ]
  },
  {
   "cell_type": "markdown",
   "id": "981626f6-cc59-4880-9146-644f162980a8",
   "metadata": {},
   "source": [
    "### ***일반적인 다중상속***"
   ]
  },
  {
   "cell_type": "markdown",
   "id": "50936e45-6a6d-44b2-be2e-91a3dfe8ef20",
   "metadata": {
    "tags": []
   },
   "source": [
    "### ***다중상속 우선순위 (`__init__`이 겹치는뎅?)***"
   ]
  },
  {
   "cell_type": "markdown",
   "id": "f17fb3c4-5a17-45ed-8680-94581007b524",
   "metadata": {},
   "source": [
    "### ***믹스인 클래스 ($\\star\\star\\star$)***"
   ]
  },
  {
   "cell_type": "markdown",
   "id": "5fab8246-cfd5-4b6d-8982-8cb0f705be7a",
   "metadata": {},
   "source": [
    "## 다중상속시 `super()`의 활용"
   ]
  },
  {
   "cell_type": "markdown",
   "id": "f98b79fd-14b3-4bda-807b-e512aabb4849",
   "metadata": {},
   "source": [
    "### ***super()를 쓰지 않은 나쁜사용예시***"
   ]
  },
  {
   "cell_type": "markdown",
   "id": "115dbe63-3d9d-4629-8a43-2afa042f528a",
   "metadata": {},
   "source": [
    "`-` 초기값을 설정하는 클래스 만듬 "
   ]
  },
  {
   "cell_type": "markdown",
   "id": "95a04487-50b9-45b8-bd06-427811e9f93d",
   "metadata": {},
   "source": [
    "`-` init을 상속받아서 \n",
    "\n",
    "- \"${\\tt 초기값}= {\\tt 초기값} \\times 2$\" \n",
    "- \"${\\tt 초기값}= {\\tt 초기값} + 5$\" \n",
    "\n",
    "를 인스턴스 생성과 동시에 수행하는 클래스를 각각 만듦"
   ]
  },
  {
   "cell_type": "markdown",
   "id": "46c61f9f-305d-4a7f-bce3-b9801dc4d412",
   "metadata": {},
   "source": [
    "`-` 지나고 보니까 \"${\\tt 초기값} = {\\tt 초기값} \\times 2 + 5$\" 를 인스턴스 생성과 동시에 수행해주는 클래스를 만들고 싶음. "
   ]
  },
  {
   "cell_type": "markdown",
   "id": "1edcfc89-351b-4790-9b64-9e258e5b6089",
   "metadata": {},
   "source": [
    "`-` 싫은이유1: "
   ]
  },
  {
   "cell_type": "markdown",
   "id": "725e350b-a205-4785-8a64-9f1b517aa99d",
   "metadata": {},
   "source": [
    "`-` 싫은이유2:"
   ]
  },
  {
   "cell_type": "markdown",
   "id": "4bbcc698-9cca-431d-a48b-1869c961cdda",
   "metadata": {},
   "source": [
    "### ***super()를 활용한 좋은사용예시***"
   ]
  },
  {
   "cell_type": "markdown",
   "id": "eeed5529-e043-4a34-b71a-0e71d991bbdb",
   "metadata": {},
   "source": [
    "`-` 아키텍처를 아래와 같이 바꾸자"
   ]
  },
  {
   "cell_type": "markdown",
   "id": "b70f2fd8-1cbb-4d8e-8025-0ea547c038f0",
   "metadata": {},
   "source": [
    "`-` 써보자"
   ]
  },
  {
   "cell_type": "markdown",
   "id": "5a8e0eff-bd27-4030-b7b5-0b3c9811a3d6",
   "metadata": {},
   "source": [
    "`-` 이것이 왜 가능? "
   ]
  },
  {
   "cell_type": "markdown",
   "id": "1e7cf6ae-3af1-4b8e-a577-6392807e6c3b",
   "metadata": {},
   "source": [
    "> 원리: mro상으로 상위에 있는 순서대로 타고 올라간 뒤, mro순서대로 한번씩만 `__init__`을 실행함!!"
   ]
  },
  {
   "cell_type": "markdown",
   "id": "0a8efb1d-80b2-4fc7-b3b0-834f626e2014",
   "metadata": {},
   "source": [
    "`-` 소감: 코드가 깔끔하긴해 + 진정한 상속의 느낌도 있어"
   ]
  },
  {
   "cell_type": "markdown",
   "id": "b1d9477f-68de-48cc-af93-bddb10cb0399",
   "metadata": {},
   "source": [
    "## `super()`의 사용방법"
   ]
  },
  {
   "cell_type": "markdown",
   "id": "c2e46cbb-83ca-4f1e-8ffc-5fc6616045b9",
   "metadata": {},
   "source": [
    "`-` 이제 \"$({\\tt 초기값} \\times 2 + 5)\\times 2$\" 를 수행해주는 클래스를 만들고 싶음. "
   ]
  },
  {
   "cell_type": "markdown",
   "id": "2295b45e-73df-465c-9cf5-8d552b185e19",
   "metadata": {},
   "source": [
    "`-` 코드해석"
   ]
  },
  {
   "cell_type": "markdown",
   "id": "39d38393-ef54-4de1-84e4-0305bf719d68",
   "metadata": {},
   "source": [
    "`-` 그냥 이게 낫지 않나?"
   ]
  },
  {
   "cell_type": "markdown",
   "id": "8d1d076e-383e-4896-9ff6-b1dc6658d6bd",
   "metadata": {},
   "source": [
    "`-` 그래도 이 문법을 알아야 한다. 왜??"
   ]
  },
  {
   "cell_type": "markdown",
   "id": "0881f45b-3dd1-4cf2-95d1-652f7ea1668f",
   "metadata": {},
   "source": [
    "|단계|인터넷밈|클래스|레포트표지|\n",
    "|:-|:-|:-|:-|\n",
    "|1단계: 구상| $\\bullet$ 이거 재미있다. <br/> $\\bullet$ 밈화하자.| $\\bullet$ 이 코드 반복해서 자주 쓸 것 같다. <br/> $\\bullet$ 이 코드를 쉽게 찍어내는 (복사할 수 있는) 클래스를 만들자| $\\bullet$ 레포트 표지를 자주 만들 것 같음 <br/> $\\bullet$  양식파일을 만들까? |\n",
    "|2단계: 틀생성| $\\bullet$ \"밈틀\": 복사하고 싶은 속성을 추려 밈을 생산하기에 유리한 틀을 만듬 | $\\bullet$ 클래스의 선언 | $\\bullet$ REPORT_2023_최규빈.hwp 양식파일을 생성 |\n",
    "|3단계: 틀 $\\to$ 복제| $\\bullet$ 밈화: \"밈틀\"에서 다양한 밈을 만들고 놈 | $\\bullet$ 인스턴스화: 클래스에서 인스턴스를 생산 | $\\bullet$ 레포트 양식표지에서 다양한 레포트를 냄 | \n",
    "|4단계: 틀 $\\to$ 틀변경 $\\to$ 복제| $\\bullet$ 생각해보니까 초기 밈틀은 시시함. <br/> $\\bullet$  초기 밈틀을 수정해 새로운 밈틀을 만들고 더 재미있는 밈을 만들고 놈 | $\\bullet$ 초기클래스와 비슷한 클래스를 선언할 일이 생김 <br/> $\\bullet$ 상속,오버라이딩: 초기클래스를 상속받아 클래스를 새롭게 정의하고 인스턴스를 재 생산 | $\\bullet$ 공모전에 참가하여 결과보고서를 작성할 일이 생김. <br/> $\\bullet$ REPORT_2023_최규빈.hwp 를 적당히 변형하여 수정된 틀을 만들고 결과보고서 생산. "
   ]
  },
  {
   "cell_type": "markdown",
   "id": "0cadc1ea-01d8-4160-bbc4-217672261ae9",
   "metadata": {},
   "source": [
    "> 상속은 위의 표에서 4단계에 해당한다. 즉 어떠한 클래스를 상속받을때는 \"내가 만든 클래스\"가 아닐 경우가 대부분이다. 따라서 \"애초부터 메소드가 겹치지 않게 클래스들을 깔끔하게 디자인을 하는것\" 은 불가능한 경우가 많다. "
   ]
  },
  {
   "cell_type": "markdown",
   "id": "91aae805-e099-4e1c-991e-c5478ddc3fdd",
   "metadata": {},
   "source": [
    "## 리스트의 상속"
   ]
  },
  {
   "cell_type": "markdown",
   "id": "15579fe0-9207-4a3a-950d-006acbe59d22",
   "metadata": {},
   "source": [
    "`-` list와 비슷한데 멤버들의 빈도가 계산되는 메소드를 포함하는 새로운 나만의 list를 만들고 싶다. "
   ]
  },
  {
   "cell_type": "markdown",
   "id": "e2f870f7-b73f-45cc-b8a8-88ebfcc15eea",
   "metadata": {},
   "source": [
    "`-` 각 원소들의 빈도를 구해보면 아래와 같다. "
   ]
  },
  {
   "cell_type": "markdown",
   "id": "0ba02916-77b8-459f-bb93-00f76594a690",
   "metadata": {},
   "source": [
    "`-` 이것을 내가 정의하는 새로운 list의 메소드로 넣고 싶다. "
   ]
  },
  {
   "cell_type": "markdown",
   "id": "7d4d5d84-398e-419f-b86e-b3c089ab05ff",
   "metadata": {},
   "source": [
    "`-` 기존리스트에서 추가로 frequency() 메소드가 존재함. "
   ]
  }
 ],
 "metadata": {
  "kernelspec": {
   "display_name": "Python 3",
   "language": "python",
   "name": "python3"
  },
  "language_info": {
   "codemirror_mode": {
    "name": "ipython",
    "version": 3
   },
   "file_extension": ".py",
   "mimetype": "text/x-python",
   "name": "python",
   "nbconvert_exporter": "python",
   "pygments_lexer": "ipython3",
   "version": "3.8.16"
  }
 },
 "nbformat": 4,
 "nbformat_minor": 5
}
