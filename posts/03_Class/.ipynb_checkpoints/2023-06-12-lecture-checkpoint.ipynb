{
 "cells": [
  {
   "cell_type": "raw",
   "id": "a1528b7b-1d00-4bcd-bdd4-490ab2e6d884",
   "metadata": {},
   "source": [
    "---\n",
    "title: \"15wk-1: 클래스공부 5단계 -- 상속\"\n",
    "author: \"최규빈\"\n",
    "date: \"06/12/2023\"\n",
    "---"
   ]
  },
  {
   "cell_type": "markdown",
   "id": "6dea5cee-a6c8-45ed-8d69-2463517388fb",
   "metadata": {},
   "source": [
    "<a href=\"https://colab.research.google.com/github/guebin/PP2023/blob/main/posts/03_Class/2023-06-12-15wk-1.ipynb\"><img src=\"https://colab.research.google.com/assets/colab-badge.svg\" style=\"text-align: left\"></a>"
   ]
  },
  {
   "cell_type": "markdown",
   "id": "b38407e9-82a0-4863-87e5-0865f8fa31c1",
   "metadata": {},
   "source": [
    "# 클래스공부 5단계: 상속"
   ]
  },
  {
   "cell_type": "markdown",
   "id": "3cd9f0ef-1ece-4965-8f1f-0cd38502e082",
   "metadata": {},
   "source": [
    "## 상속의 사용방법"
   ]
  },
  {
   "cell_type": "markdown",
   "id": "20517b7a-c5a6-4e6a-8931-7f7c9a69633f",
   "metadata": {},
   "source": [
    "`-` 클래스를 조금 수정하고 싶을때, 아래와 같은 문법을 이용하면 편리하다. \n",
    "\n",
    "```Python\n",
    "class 새로운_클래스_이름(수정할_클래스_이름): \n",
    "    def 수정_및_추가할_함수이름(self,...):\n",
    "        ...\n",
    "```"
   ]
  },
  {
   "cell_type": "markdown",
   "id": "4ddf0179-e96e-4580-a4da-eb40002f1fe4",
   "metadata": {},
   "source": [
    "## 간단한 사용예시"
   ]
  },
  {
   "cell_type": "code",
   "execution_count": 198,
   "id": "ee808c67-e95d-4eec-871c-50187ade2504",
   "metadata": {},
   "outputs": [],
   "source": [
    "class Init:\n",
    "    def __init__(self,value):\n",
    "        ## 여기는 Init 클래스야\n",
    "        print('Init 클래스에 정의된 __init__ 메소드를 실행합니다.')\n",
    "        self.value = value "
   ]
  },
  {
   "cell_type": "code",
   "execution_count": 199,
   "id": "74892f0c-878f-4867-90d4-7d338c5c9fdc",
   "metadata": {},
   "outputs": [],
   "source": [
    "class Show(Init): \n",
    "    def show(self):\n",
    "        ## 여기는 Show 클래스야 \n",
    "        print('Show 클래스에 정의된 show 메소드를 실행합니다.')\n",
    "        print('value={}'.format(self.value))"
   ]
  },
  {
   "cell_type": "code",
   "execution_count": 200,
   "id": "921cb07f-86c8-4bbf-b660-1b8982c371ff",
   "metadata": {},
   "outputs": [
    {
     "name": "stdout",
     "output_type": "stream",
     "text": [
      "Init 클래스에 정의된 __init__ 메소드를 실행합니다.\n"
     ]
    },
    {
     "data": {
      "text/plain": [
       "<__main__.Show at 0x7fb6e5b84520>"
      ]
     },
     "execution_count": 200,
     "metadata": {},
     "output_type": "execute_result"
    }
   ],
   "source": [
    "a=Show(5) \n",
    "a"
   ]
  },
  {
   "cell_type": "code",
   "execution_count": 201,
   "id": "48e05965-e5af-4c21-b662-e85d2c6a261b",
   "metadata": {},
   "outputs": [
    {
     "name": "stdout",
     "output_type": "stream",
     "text": [
      "Show 클래스에 정의된 show 메소드를 실행합니다.\n",
      "value=5\n"
     ]
    }
   ],
   "source": [
    "a.show()"
   ]
  },
  {
   "cell_type": "code",
   "execution_count": 202,
   "id": "44d7d5bf-1994-4358-8249-fc8452273f0d",
   "metadata": {},
   "outputs": [
    {
     "data": {
      "text/plain": [
       "\u001b[0;31mSignature:\u001b[0m \u001b[0ma\u001b[0m\u001b[0;34m.\u001b[0m\u001b[0mshow\u001b[0m\u001b[0;34m(\u001b[0m\u001b[0;34m)\u001b[0m\u001b[0;34m\u001b[0m\u001b[0;34m\u001b[0m\u001b[0m\n",
       "\u001b[0;31mDocstring:\u001b[0m <no docstring>\n",
       "\u001b[0;31mSource:\u001b[0m   \n",
       "    \u001b[0;32mdef\u001b[0m \u001b[0mshow\u001b[0m\u001b[0;34m(\u001b[0m\u001b[0mself\u001b[0m\u001b[0;34m)\u001b[0m\u001b[0;34m:\u001b[0m\u001b[0;34m\u001b[0m\n",
       "\u001b[0;34m\u001b[0m        \u001b[0;31m## 여기는 Show 클래스야 \u001b[0m\u001b[0;34m\u001b[0m\n",
       "\u001b[0;34m\u001b[0m        \u001b[0mprint\u001b[0m\u001b[0;34m(\u001b[0m\u001b[0;34m'Show 클래스에 정의된 show 메소드를 실행합니다.'\u001b[0m\u001b[0;34m)\u001b[0m\u001b[0;34m\u001b[0m\n",
       "\u001b[0;34m\u001b[0m        \u001b[0mprint\u001b[0m\u001b[0;34m(\u001b[0m\u001b[0;34m'value={}'\u001b[0m\u001b[0;34m.\u001b[0m\u001b[0mformat\u001b[0m\u001b[0;34m(\u001b[0m\u001b[0mself\u001b[0m\u001b[0;34m.\u001b[0m\u001b[0mvalue\u001b[0m\u001b[0;34m)\u001b[0m\u001b[0;34m)\u001b[0m\u001b[0;34m\u001b[0m\u001b[0;34m\u001b[0m\u001b[0m\n",
       "\u001b[0;31mFile:\u001b[0m      ~/Dropbox/07_lectures/PP2023/posts/03_Class/<ipython-input-199-17ba396d6b13>\n",
       "\u001b[0;31mType:\u001b[0m      method"
      ]
     },
     "metadata": {},
     "output_type": "display_data"
    }
   ],
   "source": [
    "a.show??"
   ]
  },
  {
   "cell_type": "code",
   "execution_count": 203,
   "id": "1d91c499-b0b2-4490-a8f0-9a7282b2a4fd",
   "metadata": {},
   "outputs": [
    {
     "data": {
      "text/plain": [
       "\u001b[0;31mSignature:\u001b[0m \u001b[0ma\u001b[0m\u001b[0;34m.\u001b[0m\u001b[0m__init__\u001b[0m\u001b[0;34m(\u001b[0m\u001b[0mvalue\u001b[0m\u001b[0;34m)\u001b[0m\u001b[0;34m\u001b[0m\u001b[0;34m\u001b[0m\u001b[0m\n",
       "\u001b[0;31mDocstring:\u001b[0m Initialize self.  See help(type(self)) for accurate signature.\n",
       "\u001b[0;31mSource:\u001b[0m   \n",
       "    \u001b[0;32mdef\u001b[0m \u001b[0m__init__\u001b[0m\u001b[0;34m(\u001b[0m\u001b[0mself\u001b[0m\u001b[0;34m,\u001b[0m\u001b[0mvalue\u001b[0m\u001b[0;34m)\u001b[0m\u001b[0;34m:\u001b[0m\u001b[0;34m\u001b[0m\n",
       "\u001b[0;34m\u001b[0m        \u001b[0;31m## 여기는 Init 클래스야\u001b[0m\u001b[0;34m\u001b[0m\n",
       "\u001b[0;34m\u001b[0m        \u001b[0mprint\u001b[0m\u001b[0;34m(\u001b[0m\u001b[0;34m'Init 클래스에 정의된 __init__ 메소드를 실행합니다.'\u001b[0m\u001b[0;34m)\u001b[0m\u001b[0;34m\u001b[0m\n",
       "\u001b[0;34m\u001b[0m        \u001b[0mself\u001b[0m\u001b[0;34m.\u001b[0m\u001b[0mvalue\u001b[0m \u001b[0;34m=\u001b[0m \u001b[0mvalue\u001b[0m\u001b[0;34m\u001b[0m\u001b[0;34m\u001b[0m\u001b[0m\n",
       "\u001b[0;31mFile:\u001b[0m      ~/Dropbox/07_lectures/PP2023/posts/03_Class/<ipython-input-198-1ccfa3103b08>\n",
       "\u001b[0;31mType:\u001b[0m      method"
      ]
     },
     "metadata": {},
     "output_type": "display_data"
    }
   ],
   "source": [
    "a.__init__??"
   ]
  },
  {
   "cell_type": "markdown",
   "id": "fc535f67-90b5-42b8-b459-43165225ac97",
   "metadata": {},
   "source": [
    "## 슈퍼클래스 메소드 재활용"
   ]
  },
  {
   "cell_type": "markdown",
   "id": "0550828e-8ff2-42e6-824d-802b76c14a8d",
   "metadata": {},
   "source": [
    "`-` 방법1: 직접 슈퍼클래스 명시"
   ]
  },
  {
   "cell_type": "code",
   "execution_count": 208,
   "id": "4bffec24-67c4-45a8-81b8-08208eea84f4",
   "metadata": {},
   "outputs": [],
   "source": [
    "class Deco(Show):\n",
    "    def __init__(self,value):\n",
    "        ## 여기는 Deco 클래스야~\n",
    "        print(\"짜라란~\")\n",
    "        Show.__init__(self,value)\n",
    "        print(\"짠짠~!\")"
   ]
  },
  {
   "cell_type": "code",
   "execution_count": 209,
   "id": "7ff59ae9-c8f7-4a70-8daa-5f18e03a63c8",
   "metadata": {},
   "outputs": [
    {
     "name": "stdout",
     "output_type": "stream",
     "text": [
      "짜라란~\n",
      "Init 클래스에 정의된 __init__ 메소드를 실행합니다.\n",
      "짠짠~!\n"
     ]
    }
   ],
   "source": [
    "a = Deco(5)"
   ]
  },
  {
   "cell_type": "code",
   "execution_count": 210,
   "id": "67aadc17-e00d-4ce2-a497-41b4916624dc",
   "metadata": {},
   "outputs": [
    {
     "data": {
      "text/plain": [
       "\u001b[0;31mSignature:\u001b[0m \u001b[0ma\u001b[0m\u001b[0;34m.\u001b[0m\u001b[0mshow\u001b[0m\u001b[0;34m(\u001b[0m\u001b[0;34m)\u001b[0m\u001b[0;34m\u001b[0m\u001b[0;34m\u001b[0m\u001b[0m\n",
       "\u001b[0;31mDocstring:\u001b[0m <no docstring>\n",
       "\u001b[0;31mSource:\u001b[0m   \n",
       "    \u001b[0;32mdef\u001b[0m \u001b[0mshow\u001b[0m\u001b[0;34m(\u001b[0m\u001b[0mself\u001b[0m\u001b[0;34m)\u001b[0m\u001b[0;34m:\u001b[0m\u001b[0;34m\u001b[0m\n",
       "\u001b[0;34m\u001b[0m        \u001b[0;31m## 여기는 Show 클래스야 \u001b[0m\u001b[0;34m\u001b[0m\n",
       "\u001b[0;34m\u001b[0m        \u001b[0mprint\u001b[0m\u001b[0;34m(\u001b[0m\u001b[0;34m'Show 클래스에 정의된 show 메소드를 실행합니다.'\u001b[0m\u001b[0;34m)\u001b[0m\u001b[0;34m\u001b[0m\n",
       "\u001b[0;34m\u001b[0m        \u001b[0mprint\u001b[0m\u001b[0;34m(\u001b[0m\u001b[0;34m'value={}'\u001b[0m\u001b[0;34m.\u001b[0m\u001b[0mformat\u001b[0m\u001b[0;34m(\u001b[0m\u001b[0mself\u001b[0m\u001b[0;34m.\u001b[0m\u001b[0mvalue\u001b[0m\u001b[0;34m)\u001b[0m\u001b[0;34m)\u001b[0m\u001b[0;34m\u001b[0m\u001b[0;34m\u001b[0m\u001b[0m\n",
       "\u001b[0;31mFile:\u001b[0m      ~/Dropbox/07_lectures/PP2023/posts/03_Class/<ipython-input-199-17ba396d6b13>\n",
       "\u001b[0;31mType:\u001b[0m      method"
      ]
     },
     "metadata": {},
     "output_type": "display_data"
    }
   ],
   "source": [
    "a.show??"
   ]
  },
  {
   "cell_type": "code",
   "execution_count": 211,
   "id": "12e59592-0a53-489c-a917-a0392f5ce8d0",
   "metadata": {},
   "outputs": [
    {
     "data": {
      "text/plain": [
       "\u001b[0;31mSignature:\u001b[0m \u001b[0ma\u001b[0m\u001b[0;34m.\u001b[0m\u001b[0m__init__\u001b[0m\u001b[0;34m(\u001b[0m\u001b[0mvalue\u001b[0m\u001b[0;34m)\u001b[0m\u001b[0;34m\u001b[0m\u001b[0;34m\u001b[0m\u001b[0m\n",
       "\u001b[0;31mDocstring:\u001b[0m Initialize self.  See help(type(self)) for accurate signature.\n",
       "\u001b[0;31mSource:\u001b[0m   \n",
       "    \u001b[0;32mdef\u001b[0m \u001b[0m__init__\u001b[0m\u001b[0;34m(\u001b[0m\u001b[0mself\u001b[0m\u001b[0;34m,\u001b[0m\u001b[0mvalue\u001b[0m\u001b[0;34m)\u001b[0m\u001b[0;34m:\u001b[0m\u001b[0;34m\u001b[0m\n",
       "\u001b[0;34m\u001b[0m        \u001b[0;31m## 여기는 Deco 클래스야~\u001b[0m\u001b[0;34m\u001b[0m\n",
       "\u001b[0;34m\u001b[0m        \u001b[0mprint\u001b[0m\u001b[0;34m(\u001b[0m\u001b[0;34m\"짜라란~\"\u001b[0m\u001b[0;34m)\u001b[0m\u001b[0;34m\u001b[0m\n",
       "\u001b[0;34m\u001b[0m        \u001b[0mShow\u001b[0m\u001b[0;34m.\u001b[0m\u001b[0m__init__\u001b[0m\u001b[0;34m(\u001b[0m\u001b[0mself\u001b[0m\u001b[0;34m,\u001b[0m\u001b[0mvalue\u001b[0m\u001b[0;34m)\u001b[0m\u001b[0;34m\u001b[0m\n",
       "\u001b[0;34m\u001b[0m        \u001b[0mprint\u001b[0m\u001b[0;34m(\u001b[0m\u001b[0;34m\"짠짠~!\"\u001b[0m\u001b[0;34m)\u001b[0m\u001b[0;34m\u001b[0m\u001b[0;34m\u001b[0m\u001b[0m\n",
       "\u001b[0;31mFile:\u001b[0m      ~/Dropbox/07_lectures/PP2023/posts/03_Class/<ipython-input-208-989ff8782608>\n",
       "\u001b[0;31mType:\u001b[0m      method"
      ]
     },
     "metadata": {},
     "output_type": "display_data"
    }
   ],
   "source": [
    "a.__init__??"
   ]
  },
  {
   "cell_type": "markdown",
   "id": "3a9cd020-adcd-4131-a4de-ede607759355",
   "metadata": {},
   "source": [
    "`-` 방법2: super() 이용 (생략안한버전)"
   ]
  },
  {
   "cell_type": "code",
   "execution_count": 212,
   "id": "1213b4b9-501d-49a7-bd21-0a972b553727",
   "metadata": {},
   "outputs": [],
   "source": [
    "class Deco(Show):\n",
    "    def __init__(self,value):\n",
    "        ## 여기는 Deco 클래스야~\n",
    "        print(\"짜라란~\")\n",
    "        super(Deco,self).__init__(value)\n",
    "        print(\"짠짠~!\")"
   ]
  },
  {
   "cell_type": "code",
   "execution_count": 213,
   "id": "090a5ac2-41fd-42d5-9b95-e7d8cf69f706",
   "metadata": {},
   "outputs": [
    {
     "name": "stdout",
     "output_type": "stream",
     "text": [
      "짜라란~\n",
      "Init 클래스에 정의된 __init__ 메소드를 실행합니다.\n",
      "짠짠~!\n"
     ]
    }
   ],
   "source": [
    "a = Deco(5)"
   ]
  },
  {
   "cell_type": "code",
   "execution_count": 214,
   "id": "2e98df47-d714-4a68-b627-b13e4401d2c4",
   "metadata": {},
   "outputs": [
    {
     "data": {
      "text/plain": [
       "\u001b[0;31mSignature:\u001b[0m \u001b[0ma\u001b[0m\u001b[0;34m.\u001b[0m\u001b[0mshow\u001b[0m\u001b[0;34m(\u001b[0m\u001b[0;34m)\u001b[0m\u001b[0;34m\u001b[0m\u001b[0;34m\u001b[0m\u001b[0m\n",
       "\u001b[0;31mDocstring:\u001b[0m <no docstring>\n",
       "\u001b[0;31mSource:\u001b[0m   \n",
       "    \u001b[0;32mdef\u001b[0m \u001b[0mshow\u001b[0m\u001b[0;34m(\u001b[0m\u001b[0mself\u001b[0m\u001b[0;34m)\u001b[0m\u001b[0;34m:\u001b[0m\u001b[0;34m\u001b[0m\n",
       "\u001b[0;34m\u001b[0m        \u001b[0;31m## 여기는 Show 클래스야 \u001b[0m\u001b[0;34m\u001b[0m\n",
       "\u001b[0;34m\u001b[0m        \u001b[0mprint\u001b[0m\u001b[0;34m(\u001b[0m\u001b[0;34m'Show 클래스에 정의된 show 메소드를 실행합니다.'\u001b[0m\u001b[0;34m)\u001b[0m\u001b[0;34m\u001b[0m\n",
       "\u001b[0;34m\u001b[0m        \u001b[0mprint\u001b[0m\u001b[0;34m(\u001b[0m\u001b[0;34m'value={}'\u001b[0m\u001b[0;34m.\u001b[0m\u001b[0mformat\u001b[0m\u001b[0;34m(\u001b[0m\u001b[0mself\u001b[0m\u001b[0;34m.\u001b[0m\u001b[0mvalue\u001b[0m\u001b[0;34m)\u001b[0m\u001b[0;34m)\u001b[0m\u001b[0;34m\u001b[0m\u001b[0;34m\u001b[0m\u001b[0m\n",
       "\u001b[0;31mFile:\u001b[0m      ~/Dropbox/07_lectures/PP2023/posts/03_Class/<ipython-input-199-17ba396d6b13>\n",
       "\u001b[0;31mType:\u001b[0m      method"
      ]
     },
     "metadata": {},
     "output_type": "display_data"
    }
   ],
   "source": [
    "a.show??"
   ]
  },
  {
   "cell_type": "code",
   "execution_count": 215,
   "id": "f80b2d85-64d3-40cd-ad74-ff2ddf617669",
   "metadata": {},
   "outputs": [
    {
     "data": {
      "text/plain": [
       "\u001b[0;31mSignature:\u001b[0m \u001b[0ma\u001b[0m\u001b[0;34m.\u001b[0m\u001b[0m__init__\u001b[0m\u001b[0;34m(\u001b[0m\u001b[0mvalue\u001b[0m\u001b[0;34m)\u001b[0m\u001b[0;34m\u001b[0m\u001b[0;34m\u001b[0m\u001b[0m\n",
       "\u001b[0;31mDocstring:\u001b[0m Initialize self.  See help(type(self)) for accurate signature.\n",
       "\u001b[0;31mSource:\u001b[0m   \n",
       "    \u001b[0;32mdef\u001b[0m \u001b[0m__init__\u001b[0m\u001b[0;34m(\u001b[0m\u001b[0mself\u001b[0m\u001b[0;34m,\u001b[0m\u001b[0mvalue\u001b[0m\u001b[0;34m)\u001b[0m\u001b[0;34m:\u001b[0m\u001b[0;34m\u001b[0m\n",
       "\u001b[0;34m\u001b[0m        \u001b[0;31m## 여기는 Deco 클래스야~\u001b[0m\u001b[0;34m\u001b[0m\n",
       "\u001b[0;34m\u001b[0m        \u001b[0mprint\u001b[0m\u001b[0;34m(\u001b[0m\u001b[0;34m\"짜라란~\"\u001b[0m\u001b[0;34m)\u001b[0m\u001b[0;34m\u001b[0m\n",
       "\u001b[0;34m\u001b[0m        \u001b[0msuper\u001b[0m\u001b[0;34m(\u001b[0m\u001b[0mDeco\u001b[0m\u001b[0;34m,\u001b[0m\u001b[0mself\u001b[0m\u001b[0;34m)\u001b[0m\u001b[0;34m.\u001b[0m\u001b[0m__init__\u001b[0m\u001b[0;34m(\u001b[0m\u001b[0mvalue\u001b[0m\u001b[0;34m)\u001b[0m\u001b[0;34m\u001b[0m\n",
       "\u001b[0;34m\u001b[0m        \u001b[0mprint\u001b[0m\u001b[0;34m(\u001b[0m\u001b[0;34m\"짠짠~!\"\u001b[0m\u001b[0;34m)\u001b[0m\u001b[0;34m\u001b[0m\u001b[0;34m\u001b[0m\u001b[0m\n",
       "\u001b[0;31mFile:\u001b[0m      ~/Dropbox/07_lectures/PP2023/posts/03_Class/<ipython-input-212-9373c440e07c>\n",
       "\u001b[0;31mType:\u001b[0m      method"
      ]
     },
     "metadata": {},
     "output_type": "display_data"
    }
   ],
   "source": [
    "a.__init__??"
   ]
  },
  {
   "cell_type": "markdown",
   "id": "be96ef37-441e-4492-9b92-55ba7126eb63",
   "metadata": {},
   "source": [
    "`-` 방법3: super() 이용 (생략한버젼) <-- 이렇게 쓰세요!"
   ]
  },
  {
   "cell_type": "code",
   "execution_count": 217,
   "id": "295e014f-0366-4e89-a5e6-39e580ef35e8",
   "metadata": {},
   "outputs": [],
   "source": [
    "class Deco(Show):\n",
    "    def __init__(self,value):\n",
    "        ## 여기는 Deco 클래스야~\n",
    "        print(\"짜라란~\")\n",
    "        super().__init__(value)\n",
    "        print(\"짠짠~!\")"
   ]
  },
  {
   "cell_type": "code",
   "execution_count": 218,
   "id": "dab3ed76-bb62-4efb-a6e7-093a0d45f227",
   "metadata": {},
   "outputs": [
    {
     "name": "stdout",
     "output_type": "stream",
     "text": [
      "짜라란~\n",
      "Init 클래스에 정의된 __init__ 메소드를 실행합니다.\n",
      "짠짠~!\n"
     ]
    }
   ],
   "source": [
    "a = Deco(5)"
   ]
  },
  {
   "cell_type": "code",
   "execution_count": 219,
   "id": "ee0c1abb-fd9a-4f44-b9ac-c057da520a2f",
   "metadata": {},
   "outputs": [
    {
     "data": {
      "text/plain": [
       "\u001b[0;31mSignature:\u001b[0m \u001b[0ma\u001b[0m\u001b[0;34m.\u001b[0m\u001b[0mshow\u001b[0m\u001b[0;34m(\u001b[0m\u001b[0;34m)\u001b[0m\u001b[0;34m\u001b[0m\u001b[0;34m\u001b[0m\u001b[0m\n",
       "\u001b[0;31mDocstring:\u001b[0m <no docstring>\n",
       "\u001b[0;31mSource:\u001b[0m   \n",
       "    \u001b[0;32mdef\u001b[0m \u001b[0mshow\u001b[0m\u001b[0;34m(\u001b[0m\u001b[0mself\u001b[0m\u001b[0;34m)\u001b[0m\u001b[0;34m:\u001b[0m\u001b[0;34m\u001b[0m\n",
       "\u001b[0;34m\u001b[0m        \u001b[0;31m## 여기는 Show 클래스야 \u001b[0m\u001b[0;34m\u001b[0m\n",
       "\u001b[0;34m\u001b[0m        \u001b[0mprint\u001b[0m\u001b[0;34m(\u001b[0m\u001b[0;34m'Show 클래스에 정의된 show 메소드를 실행합니다.'\u001b[0m\u001b[0;34m)\u001b[0m\u001b[0;34m\u001b[0m\n",
       "\u001b[0;34m\u001b[0m        \u001b[0mprint\u001b[0m\u001b[0;34m(\u001b[0m\u001b[0;34m'value={}'\u001b[0m\u001b[0;34m.\u001b[0m\u001b[0mformat\u001b[0m\u001b[0;34m(\u001b[0m\u001b[0mself\u001b[0m\u001b[0;34m.\u001b[0m\u001b[0mvalue\u001b[0m\u001b[0;34m)\u001b[0m\u001b[0;34m)\u001b[0m\u001b[0;34m\u001b[0m\u001b[0;34m\u001b[0m\u001b[0m\n",
       "\u001b[0;31mFile:\u001b[0m      ~/Dropbox/07_lectures/PP2023/posts/03_Class/<ipython-input-199-17ba396d6b13>\n",
       "\u001b[0;31mType:\u001b[0m      method"
      ]
     },
     "metadata": {},
     "output_type": "display_data"
    }
   ],
   "source": [
    "a.show??"
   ]
  },
  {
   "cell_type": "code",
   "execution_count": 220,
   "id": "8496a021-34aa-495a-b514-5cc70845180b",
   "metadata": {},
   "outputs": [
    {
     "data": {
      "text/plain": [
       "\u001b[0;31mSignature:\u001b[0m \u001b[0ma\u001b[0m\u001b[0;34m.\u001b[0m\u001b[0m__init__\u001b[0m\u001b[0;34m(\u001b[0m\u001b[0mvalue\u001b[0m\u001b[0;34m)\u001b[0m\u001b[0;34m\u001b[0m\u001b[0;34m\u001b[0m\u001b[0m\n",
       "\u001b[0;31mDocstring:\u001b[0m Initialize self.  See help(type(self)) for accurate signature.\n",
       "\u001b[0;31mSource:\u001b[0m   \n",
       "    \u001b[0;32mdef\u001b[0m \u001b[0m__init__\u001b[0m\u001b[0;34m(\u001b[0m\u001b[0mself\u001b[0m\u001b[0;34m,\u001b[0m\u001b[0mvalue\u001b[0m\u001b[0;34m)\u001b[0m\u001b[0;34m:\u001b[0m\u001b[0;34m\u001b[0m\n",
       "\u001b[0;34m\u001b[0m        \u001b[0;31m## 여기는 Deco 클래스야~\u001b[0m\u001b[0;34m\u001b[0m\n",
       "\u001b[0;34m\u001b[0m        \u001b[0mprint\u001b[0m\u001b[0;34m(\u001b[0m\u001b[0;34m\"짜라란~\"\u001b[0m\u001b[0;34m)\u001b[0m\u001b[0;34m\u001b[0m\n",
       "\u001b[0;34m\u001b[0m        \u001b[0msuper\u001b[0m\u001b[0;34m(\u001b[0m\u001b[0;34m)\u001b[0m\u001b[0;34m.\u001b[0m\u001b[0m__init__\u001b[0m\u001b[0;34m(\u001b[0m\u001b[0mvalue\u001b[0m\u001b[0;34m)\u001b[0m\u001b[0;34m\u001b[0m\n",
       "\u001b[0;34m\u001b[0m        \u001b[0mprint\u001b[0m\u001b[0;34m(\u001b[0m\u001b[0;34m\"짠짠~!\"\u001b[0m\u001b[0;34m)\u001b[0m\u001b[0;34m\u001b[0m\u001b[0;34m\u001b[0m\u001b[0m\n",
       "\u001b[0;31mFile:\u001b[0m      ~/Dropbox/07_lectures/PP2023/posts/03_Class/<ipython-input-217-d490d9d71128>\n",
       "\u001b[0;31mType:\u001b[0m      method"
      ]
     },
     "metadata": {},
     "output_type": "display_data"
    }
   ],
   "source": [
    "a.__init__??"
   ]
  },
  {
   "cell_type": "markdown",
   "id": "eb8127a2-458d-4a1c-a890-8f1d16064bc1",
   "metadata": {},
   "source": [
    "`-` 방법4: super() 이용, 방법3을 이해하기 위한 코드"
   ]
  },
  {
   "cell_type": "code",
   "execution_count": 221,
   "id": "d30fe50c-8c01-427e-bd97-53cf0bdab49d",
   "metadata": {},
   "outputs": [],
   "source": [
    "class Deco(Show):\n",
    "    def __init__(self,value):\n",
    "        ## 여기는 Deco 클래스야~\n",
    "        print(\"짜라란~\")\n",
    "        super(__class__,self).__init__(value)\n",
    "        print(\"짠짠~!\")"
   ]
  },
  {
   "cell_type": "code",
   "execution_count": 222,
   "id": "8d2290be-aea5-42a8-ab53-50dcffeb7258",
   "metadata": {},
   "outputs": [
    {
     "name": "stdout",
     "output_type": "stream",
     "text": [
      "짜라란~\n",
      "Init 클래스에 정의된 __init__ 메소드를 실행합니다.\n",
      "짠짠~!\n"
     ]
    }
   ],
   "source": [
    "a = Deco(5)"
   ]
  },
  {
   "cell_type": "code",
   "execution_count": 223,
   "id": "83bf516d-306f-4194-b8b4-fc27d98e926a",
   "metadata": {},
   "outputs": [
    {
     "data": {
      "text/plain": [
       "\u001b[0;31mSignature:\u001b[0m \u001b[0ma\u001b[0m\u001b[0;34m.\u001b[0m\u001b[0mshow\u001b[0m\u001b[0;34m(\u001b[0m\u001b[0;34m)\u001b[0m\u001b[0;34m\u001b[0m\u001b[0;34m\u001b[0m\u001b[0m\n",
       "\u001b[0;31mDocstring:\u001b[0m <no docstring>\n",
       "\u001b[0;31mSource:\u001b[0m   \n",
       "    \u001b[0;32mdef\u001b[0m \u001b[0mshow\u001b[0m\u001b[0;34m(\u001b[0m\u001b[0mself\u001b[0m\u001b[0;34m)\u001b[0m\u001b[0;34m:\u001b[0m\u001b[0;34m\u001b[0m\n",
       "\u001b[0;34m\u001b[0m        \u001b[0;31m## 여기는 Show 클래스야 \u001b[0m\u001b[0;34m\u001b[0m\n",
       "\u001b[0;34m\u001b[0m        \u001b[0mprint\u001b[0m\u001b[0;34m(\u001b[0m\u001b[0;34m'Show 클래스에 정의된 show 메소드를 실행합니다.'\u001b[0m\u001b[0;34m)\u001b[0m\u001b[0;34m\u001b[0m\n",
       "\u001b[0;34m\u001b[0m        \u001b[0mprint\u001b[0m\u001b[0;34m(\u001b[0m\u001b[0;34m'value={}'\u001b[0m\u001b[0;34m.\u001b[0m\u001b[0mformat\u001b[0m\u001b[0;34m(\u001b[0m\u001b[0mself\u001b[0m\u001b[0;34m.\u001b[0m\u001b[0mvalue\u001b[0m\u001b[0;34m)\u001b[0m\u001b[0;34m)\u001b[0m\u001b[0;34m\u001b[0m\u001b[0;34m\u001b[0m\u001b[0m\n",
       "\u001b[0;31mFile:\u001b[0m      ~/Dropbox/07_lectures/PP2023/posts/03_Class/<ipython-input-199-17ba396d6b13>\n",
       "\u001b[0;31mType:\u001b[0m      method"
      ]
     },
     "metadata": {},
     "output_type": "display_data"
    }
   ],
   "source": [
    "a.show??"
   ]
  },
  {
   "cell_type": "code",
   "execution_count": 224,
   "id": "19f14362-a7ab-4a99-97ac-9314231d8ed4",
   "metadata": {},
   "outputs": [
    {
     "data": {
      "text/plain": [
       "\u001b[0;31mSignature:\u001b[0m \u001b[0ma\u001b[0m\u001b[0;34m.\u001b[0m\u001b[0m__init__\u001b[0m\u001b[0;34m(\u001b[0m\u001b[0mvalue\u001b[0m\u001b[0;34m)\u001b[0m\u001b[0;34m\u001b[0m\u001b[0;34m\u001b[0m\u001b[0m\n",
       "\u001b[0;31mDocstring:\u001b[0m Initialize self.  See help(type(self)) for accurate signature.\n",
       "\u001b[0;31mSource:\u001b[0m   \n",
       "    \u001b[0;32mdef\u001b[0m \u001b[0m__init__\u001b[0m\u001b[0;34m(\u001b[0m\u001b[0mself\u001b[0m\u001b[0;34m,\u001b[0m\u001b[0mvalue\u001b[0m\u001b[0;34m)\u001b[0m\u001b[0;34m:\u001b[0m\u001b[0;34m\u001b[0m\n",
       "\u001b[0;34m\u001b[0m        \u001b[0;31m## 여기는 Deco 클래스야~\u001b[0m\u001b[0;34m\u001b[0m\n",
       "\u001b[0;34m\u001b[0m        \u001b[0mprint\u001b[0m\u001b[0;34m(\u001b[0m\u001b[0;34m\"짜라란~\"\u001b[0m\u001b[0;34m)\u001b[0m\u001b[0;34m\u001b[0m\n",
       "\u001b[0;34m\u001b[0m        \u001b[0msuper\u001b[0m\u001b[0;34m(\u001b[0m\u001b[0m__class__\u001b[0m\u001b[0;34m,\u001b[0m\u001b[0mself\u001b[0m\u001b[0;34m)\u001b[0m\u001b[0;34m.\u001b[0m\u001b[0m__init__\u001b[0m\u001b[0;34m(\u001b[0m\u001b[0mvalue\u001b[0m\u001b[0;34m)\u001b[0m\u001b[0;34m\u001b[0m\n",
       "\u001b[0;34m\u001b[0m        \u001b[0mprint\u001b[0m\u001b[0;34m(\u001b[0m\u001b[0;34m\"짠짠~!\"\u001b[0m\u001b[0;34m)\u001b[0m\u001b[0;34m\u001b[0m\u001b[0;34m\u001b[0m\u001b[0m\n",
       "\u001b[0;31mFile:\u001b[0m      ~/Dropbox/07_lectures/PP2023/posts/03_Class/<ipython-input-221-284dd9972614>\n",
       "\u001b[0;31mType:\u001b[0m      method"
      ]
     },
     "metadata": {},
     "output_type": "display_data"
    }
   ],
   "source": [
    "a.__init__??"
   ]
  },
  {
   "cell_type": "markdown",
   "id": "f9f7ecdc-7c7c-4eb6-9253-693956ebb307",
   "metadata": {},
   "source": [
    "## 다중상속"
   ]
  },
  {
   "cell_type": "markdown",
   "id": "981626f6-cc59-4880-9146-644f162980a8",
   "metadata": {},
   "source": [
    "### ***일반적인 다중상속***"
   ]
  },
  {
   "cell_type": "code",
   "execution_count": 242,
   "id": "6aba0cbe-5e70-4036-9d9b-b7b1beff7bb7",
   "metadata": {},
   "outputs": [],
   "source": [
    "class Add: \n",
    "    def __init__(self,value):\n",
    "        self.value = value \n",
    "    def __add__(self,value2):\n",
    "        return self.value + value2"
   ]
  },
  {
   "cell_type": "code",
   "execution_count": 243,
   "id": "cfb221ca-3b45-4e6b-b95d-503bce23b252",
   "metadata": {},
   "outputs": [
    {
     "data": {
      "text/plain": [
       "7"
      ]
     },
     "execution_count": 243,
     "metadata": {},
     "output_type": "execute_result"
    }
   ],
   "source": [
    "a = Add(5)\n",
    "a+2"
   ]
  },
  {
   "cell_type": "code",
   "execution_count": 244,
   "id": "684fcddf-048f-497c-a558-f21c9312cb90",
   "metadata": {},
   "outputs": [],
   "source": [
    "class Mul: \n",
    "    def __init__(self,value):\n",
    "        self.value = value \n",
    "    def __mul__(self,value2):\n",
    "        return self.value * value2"
   ]
  },
  {
   "cell_type": "code",
   "execution_count": 245,
   "id": "d39b9e1e-2b9c-42ac-aa66-535b3d823f47",
   "metadata": {},
   "outputs": [
    {
     "data": {
      "text/plain": [
       "10"
      ]
     },
     "execution_count": 245,
     "metadata": {},
     "output_type": "execute_result"
    }
   ],
   "source": [
    "a = Mul(5)\n",
    "a*2"
   ]
  },
  {
   "cell_type": "code",
   "execution_count": 246,
   "id": "ddeee1b8-d527-4cd9-878b-d899bed34207",
   "metadata": {},
   "outputs": [],
   "source": [
    "class AddMul(Add,Mul):\n",
    "    pass"
   ]
  },
  {
   "cell_type": "code",
   "execution_count": 250,
   "id": "9a571eab-58db-42f7-9de6-708b15265d1b",
   "metadata": {},
   "outputs": [],
   "source": [
    "a = AddMul(5)"
   ]
  },
  {
   "cell_type": "code",
   "execution_count": 251,
   "id": "b5afa40f-aeeb-468d-8d61-f11ad7a12c21",
   "metadata": {},
   "outputs": [
    {
     "data": {
      "text/plain": [
       "10"
      ]
     },
     "execution_count": 251,
     "metadata": {},
     "output_type": "execute_result"
    }
   ],
   "source": [
    "a*2"
   ]
  },
  {
   "cell_type": "code",
   "execution_count": 252,
   "id": "c2be3949-b060-4115-8361-275fd888bf6e",
   "metadata": {},
   "outputs": [
    {
     "data": {
      "text/plain": [
       "10"
      ]
     },
     "execution_count": 252,
     "metadata": {},
     "output_type": "execute_result"
    }
   ],
   "source": [
    "a+5"
   ]
  },
  {
   "cell_type": "markdown",
   "id": "50936e45-6a6d-44b2-be2e-91a3dfe8ef20",
   "metadata": {
    "tags": []
   },
   "source": [
    "### ***다중상속 우선순위 (`__init__`이 겹치는뎅?)***"
   ]
  },
  {
   "cell_type": "code",
   "execution_count": 253,
   "id": "402f5b15-b77d-4a55-bdb3-5080fbd04994",
   "metadata": {},
   "outputs": [],
   "source": [
    "class Add: \n",
    "    def __init__(self,value):\n",
    "        print(\"Add 클래스에서 정의된 __init__ 을 실행합니다.\")\n",
    "        self.value = value \n",
    "    def __add__(self,value2):\n",
    "        return self.value + value2\n",
    "class Mul: \n",
    "    def __init__(self,value):\n",
    "        print(\"Mul 클래스에서 정의된 __init__ 을 실행합니다.\")\n",
    "        self.value = value \n",
    "    def __mul__(self,value2):\n",
    "        return self.value * value2    \n",
    "class AddMul(Add,Mul):\n",
    "    pass    "
   ]
  },
  {
   "cell_type": "code",
   "execution_count": 254,
   "id": "861517b6-d4a0-4f61-8b17-c3d9896819ef",
   "metadata": {},
   "outputs": [
    {
     "name": "stdout",
     "output_type": "stream",
     "text": [
      "Add 클래스에서 정의된 __init__ 을 실행합니다.\n"
     ]
    }
   ],
   "source": [
    "a = AddMul(5)"
   ]
  },
  {
   "cell_type": "markdown",
   "id": "f17fb3c4-5a17-45ed-8680-94581007b524",
   "metadata": {},
   "source": [
    "### ***믹스인 클래스 ($\\star\\star\\star$)***"
   ]
  },
  {
   "cell_type": "code",
   "execution_count": 258,
   "id": "13901106-a7f2-4f0d-92d0-af8370e2e287",
   "metadata": {},
   "outputs": [],
   "source": [
    "class Init:\n",
    "    def __init__(self,value):\n",
    "        ## 여기는 Init 클래스야\n",
    "        print('Init 클래스에 정의된 __init__ 메소드를 실행합니다.')\n",
    "        self.value = value \n",
    "class Add(Init): \n",
    "    def __add__(self,value2):\n",
    "        return self.value + value2\n",
    "class Mul(Init): \n",
    "    def __mul__(self,value2):\n",
    "        return self.value * value2    \n",
    "class AddMul(Add,Mul,Init):\n",
    "    pass    "
   ]
  },
  {
   "cell_type": "code",
   "execution_count": 259,
   "id": "7ca433c0-977a-4de9-969c-9fbd31d9207d",
   "metadata": {},
   "outputs": [
    {
     "name": "stdout",
     "output_type": "stream",
     "text": [
      "Init 클래스에 정의된 __init__ 메소드를 실행합니다.\n"
     ]
    }
   ],
   "source": [
    "a=AddMul(5)"
   ]
  },
  {
   "cell_type": "code",
   "execution_count": 260,
   "id": "d44b23ce-6d05-435a-a5d1-044bf69c4941",
   "metadata": {},
   "outputs": [
    {
     "data": {
      "text/plain": [
       "7"
      ]
     },
     "execution_count": 260,
     "metadata": {},
     "output_type": "execute_result"
    }
   ],
   "source": [
    "a+2"
   ]
  },
  {
   "cell_type": "code",
   "execution_count": 262,
   "id": "67696a1a-4b10-4ac8-9af2-3207a2db520d",
   "metadata": {},
   "outputs": [
    {
     "data": {
      "text/plain": [
       "25"
      ]
     },
     "execution_count": 262,
     "metadata": {},
     "output_type": "execute_result"
    }
   ],
   "source": [
    "a*5"
   ]
  },
  {
   "cell_type": "markdown",
   "id": "5fab8246-cfd5-4b6d-8982-8cb0f705be7a",
   "metadata": {},
   "source": [
    "## 다중상속시 `super()`의 활용"
   ]
  },
  {
   "cell_type": "markdown",
   "id": "f98b79fd-14b3-4bda-807b-e512aabb4849",
   "metadata": {},
   "source": [
    "### ***super()를 쓰지 않은 나쁜사용예시***"
   ]
  },
  {
   "cell_type": "markdown",
   "id": "115dbe63-3d9d-4629-8a43-2afa042f528a",
   "metadata": {},
   "source": [
    "`-` 초기값을 설정하는 클래스 만듬 "
   ]
  },
  {
   "cell_type": "code",
   "execution_count": 263,
   "id": "98c1e3dd-1e38-4320-9070-568132895dbb",
   "metadata": {},
   "outputs": [],
   "source": [
    "class Init:\n",
    "    def __init__(self,value):\n",
    "        ## 여기는 Init 클래스야\n",
    "        print('Init 클래스에 정의된 __init__ 메소드를 실행합니다.')\n",
    "        self.value = value "
   ]
  },
  {
   "cell_type": "markdown",
   "id": "95a04487-50b9-45b8-bd06-427811e9f93d",
   "metadata": {},
   "source": [
    "`-` init을 상속받아서 \n",
    "\n",
    "- \"${\\tt 초기값}= {\\tt 초기값} \\times 2$\" \n",
    "- \"${\\tt 초기값}= {\\tt 초기값} + 5$\" \n",
    "\n",
    "를 인스턴스 생성과 동시에 수행하는 클래스를 각각 만듦"
   ]
  },
  {
   "cell_type": "code",
   "execution_count": 279,
   "id": "06d72d0f-13ef-48bd-bd5f-53fd2498c7d1",
   "metadata": {},
   "outputs": [],
   "source": [
    "class Times2(Init):\n",
    "    def __init__(self,value):\n",
    "        Init.__init__(self,value)\n",
    "        self.value = self.value * 2         "
   ]
  },
  {
   "cell_type": "code",
   "execution_count": 283,
   "id": "354c1884-6f5f-4537-ba80-217f4d8f3089",
   "metadata": {},
   "outputs": [],
   "source": [
    "class Plus5(Init):\n",
    "    def __init__(self,value):\n",
    "        Init.__init__(self,value)\n",
    "        self.value = self.value + 5"
   ]
  },
  {
   "cell_type": "code",
   "execution_count": 284,
   "id": "d17e0b56-61cf-43aa-88f8-eae962dfc85a",
   "metadata": {},
   "outputs": [
    {
     "name": "stdout",
     "output_type": "stream",
     "text": [
      "Init 클래스에 정의된 __init__ 메소드를 실행합니다.\n"
     ]
    },
    {
     "data": {
      "text/plain": [
       "10"
      ]
     },
     "execution_count": 284,
     "metadata": {},
     "output_type": "execute_result"
    }
   ],
   "source": [
    "a= Times2(5)\n",
    "a.value"
   ]
  },
  {
   "cell_type": "code",
   "execution_count": 285,
   "id": "5af9918d-51c4-4674-9613-a9531fce143b",
   "metadata": {},
   "outputs": [
    {
     "name": "stdout",
     "output_type": "stream",
     "text": [
      "Init 클래스에 정의된 __init__ 메소드를 실행합니다.\n"
     ]
    },
    {
     "data": {
      "text/plain": [
       "10"
      ]
     },
     "execution_count": 285,
     "metadata": {},
     "output_type": "execute_result"
    }
   ],
   "source": [
    "a= Plus5(5)\n",
    "a.value"
   ]
  },
  {
   "cell_type": "markdown",
   "id": "46c61f9f-305d-4a7f-bce3-b9801dc4d412",
   "metadata": {},
   "source": [
    "`-` 지나고 보니까 \"${\\tt 초기값} = {\\tt 초기값} \\times 2 + 5$\" 를 인스턴스 생성과 동시에 수행해주는 클래스를 만들고 싶음. "
   ]
  },
  {
   "cell_type": "code",
   "execution_count": 291,
   "id": "da403684-94a7-4572-b2b8-001696158d52",
   "metadata": {},
   "outputs": [],
   "source": [
    "class Times2Plus5(Times2,Plus5,Init):\n",
    "    def __init__(self,value):\n",
    "        Init.__init__(self,value)\n",
    "        Times2.__init__(self,self.value)\n",
    "        Plus5.__init__(self,self.value)"
   ]
  },
  {
   "cell_type": "code",
   "execution_count": 292,
   "id": "8b0755b9-8d99-4ada-9885-9f621a08cbaf",
   "metadata": {},
   "outputs": [
    {
     "name": "stdout",
     "output_type": "stream",
     "text": [
      "Init 클래스에 정의된 __init__ 메소드를 실행합니다.\n",
      "Init 클래스에 정의된 __init__ 메소드를 실행합니다.\n",
      "Init 클래스에 정의된 __init__ 메소드를 실행합니다.\n"
     ]
    }
   ],
   "source": [
    "a=Times2Plus5(5)"
   ]
  },
  {
   "cell_type": "code",
   "execution_count": 293,
   "id": "7827d1dc-1b2c-447a-8c16-b090dee119e1",
   "metadata": {},
   "outputs": [
    {
     "data": {
      "text/plain": [
       "15"
      ]
     },
     "execution_count": 293,
     "metadata": {},
     "output_type": "execute_result"
    }
   ],
   "source": [
    "a.value"
   ]
  },
  {
   "cell_type": "markdown",
   "id": "1edcfc89-351b-4790-9b64-9e258e5b6089",
   "metadata": {},
   "source": [
    "`-` 싫은이유1: "
   ]
  },
  {
   "cell_type": "markdown",
   "id": "725e350b-a205-4785-8a64-9f1b517aa99d",
   "metadata": {},
   "source": [
    "`-` 싫은이유2:"
   ]
  },
  {
   "cell_type": "code",
   "execution_count": 294,
   "id": "7d5b0e27-fea8-488e-afa1-e7a8c8e9148b",
   "metadata": {},
   "outputs": [],
   "source": [
    "class Times2Plus5():\n",
    "    def __init__(self,value):\n",
    "        Init.__init__(self,value)\n",
    "        Times2.__init__(self,self.value)\n",
    "        Plus5.__init__(self,self.value)"
   ]
  },
  {
   "cell_type": "code",
   "execution_count": 295,
   "id": "fa30875f-43c1-47ff-8288-5a9f2bb619f7",
   "metadata": {},
   "outputs": [
    {
     "name": "stdout",
     "output_type": "stream",
     "text": [
      "Init 클래스에 정의된 __init__ 메소드를 실행합니다.\n",
      "Init 클래스에 정의된 __init__ 메소드를 실행합니다.\n",
      "Init 클래스에 정의된 __init__ 메소드를 실행합니다.\n"
     ]
    }
   ],
   "source": [
    "a=Times2Plus5(5)"
   ]
  },
  {
   "cell_type": "code",
   "execution_count": 296,
   "id": "69dd4d23-82c5-432f-b5fb-81eaeff07c36",
   "metadata": {},
   "outputs": [
    {
     "data": {
      "text/plain": [
       "15"
      ]
     },
     "execution_count": 296,
     "metadata": {},
     "output_type": "execute_result"
    }
   ],
   "source": [
    "a.value"
   ]
  },
  {
   "cell_type": "markdown",
   "id": "4bbcc698-9cca-431d-a48b-1869c961cdda",
   "metadata": {},
   "source": [
    "### ***super()를 활용한 좋은사용예시***"
   ]
  },
  {
   "cell_type": "markdown",
   "id": "eeed5529-e043-4a34-b71a-0e71d991bbdb",
   "metadata": {},
   "source": [
    "`-` 아키텍처를 아래와 같이 바꾸자"
   ]
  },
  {
   "cell_type": "code",
   "execution_count": 298,
   "id": "0ea0d8a2-a3d5-4408-bc8a-2882d0284027",
   "metadata": {},
   "outputs": [],
   "source": [
    "class Init:\n",
    "    def __init__(self,value):\n",
    "        ## 여기는 Init 클래스야\n",
    "        print('Init 클래스에 정의된 __init__ 메소드를 실행합니다.')\n",
    "        self.value = value \n",
    "        \n",
    "class Times2(Init):\n",
    "    def __init__(self,value):\n",
    "        super().__init__(value)\n",
    "        self.value = self.value * 2         \n",
    "\n",
    "class Plus5(Init):\n",
    "    def __init__(self,value):\n",
    "        super().__init__(value)\n",
    "        self.value = self.value + 5\n",
    "        \n",
    "class Times2Plus5(Plus5,Times2,Init):\n",
    "    def __init__(self,value):\n",
    "        super().__init__(value)"
   ]
  },
  {
   "cell_type": "markdown",
   "id": "b70f2fd8-1cbb-4d8e-8025-0ea547c038f0",
   "metadata": {},
   "source": [
    "`-` 써보자"
   ]
  },
  {
   "cell_type": "code",
   "execution_count": 300,
   "id": "ba5c7669-3ebe-45d4-9ca1-9637ff1bc593",
   "metadata": {},
   "outputs": [
    {
     "name": "stdout",
     "output_type": "stream",
     "text": [
      "Init 클래스에 정의된 __init__ 메소드를 실행합니다.\n"
     ]
    },
    {
     "data": {
      "text/plain": [
       "15"
      ]
     },
     "execution_count": 300,
     "metadata": {},
     "output_type": "execute_result"
    }
   ],
   "source": [
    "a= Times2Plus5(5)\n",
    "a.value"
   ]
  },
  {
   "cell_type": "markdown",
   "id": "5a8e0eff-bd27-4030-b7b5-0b3c9811a3d6",
   "metadata": {},
   "source": [
    "`-` 이것이 왜 가능? "
   ]
  },
  {
   "cell_type": "markdown",
   "id": "1e7cf6ae-3af1-4b8e-a577-6392807e6c3b",
   "metadata": {},
   "source": [
    "> 원리: mro상으로 상위에 있는 순서대로 타고 올라간 뒤, mro순서대로 한번씩만 `__init__`을 실행함!!"
   ]
  },
  {
   "cell_type": "markdown",
   "id": "0a8efb1d-80b2-4fc7-b3b0-834f626e2014",
   "metadata": {},
   "source": [
    "`-` 소감: 코드가 깔끔하긴해 + 진정한 상속의 느낌도 있어"
   ]
  },
  {
   "cell_type": "markdown",
   "id": "b1d9477f-68de-48cc-af93-bddb10cb0399",
   "metadata": {},
   "source": [
    "## `super()`의 사용방법"
   ]
  },
  {
   "cell_type": "markdown",
   "id": "c2e46cbb-83ca-4f1e-8ffc-5fc6616045b9",
   "metadata": {},
   "source": [
    "`-` 이제 \"$({\\tt 초기값} \\times 2 + 5)\\times 2$\" 를 수행해주는 클래스를 만들고 싶음. "
   ]
  },
  {
   "cell_type": "code",
   "execution_count": 305,
   "id": "7c9b61cf-7b04-4e8e-9274-2a0ddcfd152c",
   "metadata": {},
   "outputs": [],
   "source": [
    "class Init:\n",
    "    def __init__(self,value):\n",
    "        ## 여기는 Init 클래스야\n",
    "        print('Init 클래스에 정의된 __init__ 메소드를 실행합니다.')\n",
    "        self.value = value \n",
    "        \n",
    "class Times2(Init):\n",
    "    def __init__(self,value):\n",
    "        super().__init__(value)\n",
    "        self.value = self.value * 2         \n",
    "\n",
    "class Plus5(Init):\n",
    "    def __init__(self,value):\n",
    "        super().__init__(value)\n",
    "        self.value = self.value + 5\n",
    "        \n",
    "class Times2Plus5Times2(Plus5,Times2,Init):\n",
    "    def __init__(self,value):\n",
    "        super().__init__(value)\n",
    "        super(Plus5,self).__init__(self.value)"
   ]
  },
  {
   "cell_type": "code",
   "execution_count": 304,
   "id": "82df6c6c-7d6e-423a-851a-855306a1e4af",
   "metadata": {},
   "outputs": [
    {
     "name": "stdout",
     "output_type": "stream",
     "text": [
      "Init 클래스에 정의된 __init__ 메소드를 실행합니다.\n",
      "Init 클래스에 정의된 __init__ 메소드를 실행합니다.\n"
     ]
    },
    {
     "data": {
      "text/plain": [
       "30"
      ]
     },
     "execution_count": 304,
     "metadata": {},
     "output_type": "execute_result"
    }
   ],
   "source": [
    "a=Times2Plus5Times2(5)\n",
    "a.value"
   ]
  },
  {
   "cell_type": "markdown",
   "id": "2295b45e-73df-465c-9cf5-8d552b185e19",
   "metadata": {},
   "source": [
    "`-` 코드해석"
   ]
  },
  {
   "cell_type": "markdown",
   "id": "39d38393-ef54-4de1-84e4-0305bf719d68",
   "metadata": {},
   "source": [
    "`-` 그냥 이게 낫지 않나?"
   ]
  },
  {
   "cell_type": "code",
   "execution_count": 309,
   "id": "f18463f4-e75b-47ed-99a3-e63de3bc0b42",
   "metadata": {},
   "outputs": [],
   "source": [
    "class Init:\n",
    "    def __init__(self,value):\n",
    "        ## 여기는 Init 클래스야\n",
    "        print('Init 클래스에 정의된 __init__ 메소드를 실행합니다.')\n",
    "        self.value = value \n",
    "        \n",
    "class Times2:\n",
    "    def times2(self):\n",
    "        self.value = self.value * 2         \n",
    "\n",
    "class Plus5:\n",
    "    def plus5(self):\n",
    "        self.value = self.value + 5\n",
    "        \n",
    "class Times2Plus5Times2(Plus5,Times2,Init):\n",
    "    def times2plus5times2(self):\n",
    "        self.times2()\n",
    "        self.plus5()\n",
    "        self.times2()\n"
   ]
  },
  {
   "cell_type": "code",
   "execution_count": 310,
   "id": "c6c425ef-ae94-4db4-89f7-8e212f30aeb0",
   "metadata": {},
   "outputs": [
    {
     "name": "stdout",
     "output_type": "stream",
     "text": [
      "Init 클래스에 정의된 __init__ 메소드를 실행합니다.\n"
     ]
    },
    {
     "data": {
      "text/plain": [
       "5"
      ]
     },
     "execution_count": 310,
     "metadata": {},
     "output_type": "execute_result"
    }
   ],
   "source": [
    "a= Times2Plus5Times2(5)\n",
    "a.value"
   ]
  },
  {
   "cell_type": "code",
   "execution_count": 311,
   "id": "b8daf1a9-5abc-4e8f-a261-f39d0fdb01f0",
   "metadata": {},
   "outputs": [],
   "source": [
    "a.times2plus5times2()"
   ]
  },
  {
   "cell_type": "code",
   "execution_count": 312,
   "id": "23dd0de2-8cc2-4c02-a301-356f8046effb",
   "metadata": {},
   "outputs": [
    {
     "data": {
      "text/plain": [
       "30"
      ]
     },
     "execution_count": 312,
     "metadata": {},
     "output_type": "execute_result"
    }
   ],
   "source": [
    "a.value"
   ]
  },
  {
   "cell_type": "markdown",
   "id": "bb8e5f77-29f9-4a38-b0c4-23bf6267c646",
   "metadata": {},
   "source": [
    "- 이렇게 애초부터 메소드들이 겹치지 않게 깔끔하게 클래스를 디자인해서 쓰는게 더 나은것 같은데?"
   ]
  },
  {
   "cell_type": "markdown",
   "id": "8d1d076e-383e-4896-9ff6-b1dc6658d6bd",
   "metadata": {},
   "source": [
    "`-` 그래도 이 문법을 알아야 한다. 왜??"
   ]
  },
  {
   "cell_type": "markdown",
   "id": "0881f45b-3dd1-4cf2-95d1-652f7ea1668f",
   "metadata": {},
   "source": [
    "|단계|인터넷밈|클래스|레포트표지|\n",
    "|:-|:-|:-|:-|\n",
    "|1단계: 구상| $\\bullet$ 이거 재미있다. <br/> $\\bullet$ 밈화하자.| $\\bullet$ 이 코드 반복해서 자주 쓸 것 같다. <br/> $\\bullet$ 이 코드를 쉽게 찍어내는 (복사할 수 있는) 클래스를 만들자| $\\bullet$ 레포트 표지를 자주 만들 것 같음 <br/> $\\bullet$  양식파일을 만들까? |\n",
    "|2단계: 틀생성| $\\bullet$ \"밈틀\": 복사하고 싶은 속성을 추려 밈을 생산하기에 유리한 틀을 만듬 | $\\bullet$ 클래스의 선언 | $\\bullet$ REPORT_2023_최규빈.hwp 양식파일을 생성 |\n",
    "|3단계: 틀 $\\to$ 복제| $\\bullet$ 밈화: \"밈틀\"에서 다양한 밈을 만들고 놈 | $\\bullet$ 인스턴스화: 클래스에서 인스턴스를 생산 | $\\bullet$ 레포트 양식표지에서 다양한 레포트를 냄 | \n",
    "|4단계: 틀 $\\to$ 틀변경 $\\to$ 복제| $\\bullet$ 생각해보니까 초기 밈틀은 시시함. <br/> $\\bullet$  초기 밈틀을 수정해 새로운 밈틀을 만들고 더 재미있는 밈을 만들고 놈 | $\\bullet$ 초기클래스와 비슷한 클래스를 선언할 일이 생김 <br/> $\\bullet$ 상속,오버라이딩: 초기클래스를 상속받아 클래스를 새롭게 정의하고 인스턴스를 재 생산 | $\\bullet$ 공모전에 참가하여 결과보고서를 작성할 일이 생김. <br/> $\\bullet$ REPORT_2023_최규빈.hwp 를 적당히 변형하여 수정된 틀을 만들고 결과보고서 생산. "
   ]
  },
  {
   "cell_type": "markdown",
   "id": "0cadc1ea-01d8-4160-bbc4-217672261ae9",
   "metadata": {},
   "source": [
    "> 상속은 위의 표에서 4단계에 해당한다. 즉 어떠한 클래스를 상속받을때는 \"내가 만든 클래스\"가 아닐 경우가 대부분이다. 따라서 \"애초부터 메소드가 겹치지 않게 클래스들을 깔끔하게 디자인을 하는것\" 은 불가능한 경우가 많다. "
   ]
  },
  {
   "cell_type": "markdown",
   "id": "91aae805-e099-4e1c-991e-c5478ddc3fdd",
   "metadata": {},
   "source": [
    "## 리스트의 상속"
   ]
  },
  {
   "cell_type": "markdown",
   "id": "15579fe0-9207-4a3a-950d-006acbe59d22",
   "metadata": {},
   "source": [
    "`-` list와 비슷한데 멤버들의 빈도가 계산되는 메소드를 포함하는 새로운 나만의 list를 만들고 싶다. "
   ]
  },
  {
   "cell_type": "code",
   "execution_count": 314,
   "id": "bf01f769-f977-43da-9e58-47cf913f37d6",
   "metadata": {},
   "outputs": [
    {
     "data": {
      "text/plain": [
       "['a', 's', 'd', 'f', 'a', 'a', 's', 'd', 'f', 'f']"
      ]
     },
     "execution_count": 314,
     "metadata": {},
     "output_type": "execute_result"
    }
   ],
   "source": [
    "lst = list('asdfaasdff')\n",
    "lst"
   ]
  },
  {
   "cell_type": "markdown",
   "id": "e2f870f7-b73f-45cc-b8a8-88ebfcc15eea",
   "metadata": {},
   "source": [
    "`-` 각 원소들의 빈도를 구해보면 아래와 같다. "
   ]
  },
  {
   "cell_type": "code",
   "execution_count": 318,
   "id": "e7d46e45-f79e-4b98-9a33-e1b3ee825ef3",
   "metadata": {},
   "outputs": [
    {
     "data": {
      "text/plain": [
       "{'d': 2, 'a': 3, 's': 2, 'f': 3}"
      ]
     },
     "execution_count": 318,
     "metadata": {},
     "output_type": "execute_result"
    }
   ],
   "source": [
    "{s:lst.count(s) for s in set(lst)}"
   ]
  },
  {
   "cell_type": "markdown",
   "id": "0ba02916-77b8-459f-bb93-00f76594a690",
   "metadata": {},
   "source": [
    "`-` 이것을 내가 정의하는 새로운 list의 메소드로 넣고 싶다. "
   ]
  },
  {
   "cell_type": "code",
   "execution_count": 319,
   "id": "0963a729-0e94-470c-b620-c21279cfbcb8",
   "metadata": {},
   "outputs": [],
   "source": [
    "class List(list):\n",
    "    def freq(self):\n",
    "        return {s:self.count(s) for s in set(self)}"
   ]
  },
  {
   "cell_type": "markdown",
   "id": "7d4d5d84-398e-419f-b86e-b3c089ab05ff",
   "metadata": {},
   "source": [
    "`-` 기존리스트에서 추가로 frequency() 메소드가 존재함. "
   ]
  },
  {
   "cell_type": "code",
   "execution_count": 320,
   "id": "8c25d860-002a-4169-abcd-c1e57869dee5",
   "metadata": {},
   "outputs": [],
   "source": [
    "lst = List('asdfaasdff')"
   ]
  },
  {
   "cell_type": "code",
   "execution_count": 324,
   "id": "58f8690d-5f31-42a7-9213-0cd59e4c2556",
   "metadata": {},
   "outputs": [
    {
     "data": {
      "text/plain": [
       "{'d': 2, 'a': 3, 's': 2, 'f': 3}"
      ]
     },
     "execution_count": 324,
     "metadata": {},
     "output_type": "execute_result"
    }
   ],
   "source": [
    "lst.freq()"
   ]
  }
 ],
 "metadata": {
  "kernelspec": {
   "display_name": "Python 3",
   "language": "python",
   "name": "python3"
  },
  "language_info": {
   "codemirror_mode": {
    "name": "ipython",
    "version": 3
   },
   "file_extension": ".py",
   "mimetype": "text/x-python",
   "name": "python",
   "nbconvert_exporter": "python",
   "pygments_lexer": "ipython3",
   "version": "3.8.16"
  }
 },
 "nbformat": 4,
 "nbformat_minor": 5
}
