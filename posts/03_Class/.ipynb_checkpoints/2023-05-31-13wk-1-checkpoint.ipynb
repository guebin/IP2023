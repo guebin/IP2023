{
 "cells": [
  {
   "cell_type": "raw",
   "id": "9937a572-d7ff-43fc-8ca9-4683a2198b05",
   "metadata": {},
   "source": [
    "---\n",
    "title: \"13wk-1: 파이썬의 비밀 1\"\n",
    "author: \"최규빈\"\n",
    "date: \"05/31/2023\"\n",
    "---"
   ]
  },
  {
   "cell_type": "markdown",
   "id": "c950cad3-1ea5-446a-88db-a8bb150fe1f9",
   "metadata": {},
   "source": [
    "<a href=\"https://colab.research.google.com/github/guebin/PP2023/blob/main/posts/03_Class/2023-05-31-13wk-1.ipynb\"><img src=\"https://colab.research.google.com/assets/colab-badge.svg\" style=\"text-align: left\"></a>"
   ]
  }
 ],
 "metadata": {
  "kernelspec": {
   "display_name": "Python 3",
   "language": "python",
   "name": "python3"
  },
  "language_info": {
   "codemirror_mode": {
    "name": "ipython",
    "version": 3
   },
   "file_extension": ".py",
   "mimetype": "text/x-python",
   "name": "python",
   "nbconvert_exporter": "python",
   "pygments_lexer": "ipython3",
   "version": "3.8.16"
  }
 },
 "nbformat": 4,
 "nbformat_minor": 5
}
