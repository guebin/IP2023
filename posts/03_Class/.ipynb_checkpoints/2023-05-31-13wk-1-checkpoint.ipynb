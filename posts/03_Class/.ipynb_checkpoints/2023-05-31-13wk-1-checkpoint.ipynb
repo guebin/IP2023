{
 "cells": [
  {
   "cell_type": "raw",
   "id": "9937a572-d7ff-43fc-8ca9-4683a2198b05",
   "metadata": {},
   "source": [
    "---\n",
    "title: \"13wk-1: 클래스공부 4단계 -- 파이썬의 비밀 1\"\n",
    "author: \"최규빈\"\n",
    "date: \"05/31/2023\"\n",
    "---"
   ]
  },
  {
   "cell_type": "markdown",
   "id": "c950cad3-1ea5-446a-88db-a8bb150fe1f9",
   "metadata": {},
   "source": [
    "<a href=\"https://colab.research.google.com/github/guebin/PP2023/blob/main/posts/03_Class/2023-05-31-13wk-1.ipynb\"><img src=\"https://colab.research.google.com/assets/colab-badge.svg\" style=\"text-align: left\"></a>"
   ]
  },
  {
   "cell_type": "code",
   "execution_count": 1,
   "id": "338abec2-e309-4cea-a33a-1cba5f5a6dc8",
   "metadata": {},
   "outputs": [
    {
     "name": "stdout",
     "output_type": "stream",
     "text": [
      "[main b96081f] .\n",
      " 12 files changed, 100 insertions(+), 10 deletions(-)\n",
      " create mode 100644 posts/03_Class/.ipynb_checkpoints/2023-05-31-13wk-1-checkpoint.ipynb\n",
      " create mode 100644 posts/03_Class/2023-05-31-13wk-1.ipynb\n",
      "Enumerating objects: 16, done.\n",
      "Counting objects: 100% (16/16), done.\n",
      "Delta compression using up to 16 threads\n",
      "Compressing objects: 100% (11/11), done.\n",
      "Writing objects: 100% (11/11), 627.10 KiB | 18.44 MiB/s, done.\n",
      "Total 11 (delta 5), reused 0 (delta 0)\n",
      "remote: Resolving deltas: 100% (5/5), completed with 4 local objects.\u001b[K\n",
      "To https://github.com/guebin/PP2023.git\n",
      "   12f2af1..b96081f  main -> main\n",
      "From https://github.com/guebin/PP2023\n",
      " * branch            gh-pages   -> FETCH_HEAD\n",
      "\u001b[1m\u001b[34mRendering for publish:\n",
      "\u001b[39m\u001b[22m\n",
      "\u001b[1m\u001b[34m[ 1/30] about.qmd\u001b[39m\u001b[22m\n",
      "\u001b[1m\u001b[34m[ 2/30] posts/Appendix/2022-06-14-final.ipynb\u001b[39m\u001b[22m\n",
      "\u001b[1m\u001b[34m[ 3/30] posts/Appendix/2021-04-20-mid.ipynb\u001b[39m\u001b[22m\n",
      "\u001b[1m\u001b[34m[ 4/30] posts/Appendix/2022-05-03-mid.ipynb\u001b[39m\u001b[22m\n",
      "\u001b[1m\u001b[34m[ 5/30] posts/Appendix/2021-06-09-final.ipynb\u001b[39m\u001b[22m\n",
      "\u001b[1m\u001b[34m[ 6/30] posts/2023-03-06-1wk-1.ipynb\u001b[39m\u001b[22m\n",
      "\u001b[1m\u001b[34m[ 7/30] posts/03_Class/2023-05-31-13wk-1.ipynb\u001b[39m\u001b[22m\n",
      "\u001b[1m\u001b[34m[ 8/30] posts/03_Class/2023-05-15-11wk-1.ipynb\u001b[39m\u001b[22m\n",
      "\u001b[1m\u001b[34m[ 9/30] posts/03_Class/2023-05-10-10wk-2.ipynb\u001b[39m\u001b[22m\n",
      "\u001b[1m\u001b[34m[10/30] posts/03_Class/2023-05-24-12wk-2.ipynb\u001b[39m\u001b[22m\n",
      "\u001b[1m\u001b[34m[11/30] posts/03_Class/2023-05-17-11wk-2.ipynb\u001b[39m\u001b[22m\n",
      "\u001b[1m\u001b[34m[12/30] posts/03_Class/2023-05-22-12wk-1.ipynb\u001b[39m\u001b[22m\n",
      "\u001b[1m\u001b[34m[13/30] posts/2023-05-08-10wk-1-mid.ipynb\u001b[39m\u001b[22m\n",
      "\u001b[1m\u001b[34m[14/30] posts/02_DataScience/2023-04-10-6wk-1.ipynb\u001b[39m\u001b[22m\n",
      "\u001b[1m\u001b[34m[15/30] posts/02_DataScience/2023-04-26-8wk-2.ipynb\u001b[39m\u001b[22m\n",
      "\u001b[1m\u001b[34m[16/30] posts/02_DataScience/2023-05-01-9wk-1.ipynb\u001b[39m\u001b[22m\n",
      "\u001b[1m\u001b[34m[17/30] posts/02_DataScience/2023-04-12-6wk-2.ipynb\u001b[39m\u001b[22m\n",
      "\u001b[1m\u001b[34m[18/30] posts/02_DataScience/2023-04-17-7wk-1.ipynb\u001b[39m\u001b[22m\n",
      "\u001b[1m\u001b[34m[19/30] posts/02_DataScience/2023-04-19-7wk-2.ipynb\u001b[39m\u001b[22m\n",
      "\u001b[1m\u001b[34m[20/30] posts/02_DataScience/2023-04-24-8wk-1.ipynb\u001b[39m\u001b[22m\n",
      "\u001b[1m\u001b[34m[21/30] posts/01_PythonBasic/2023-03-22-3wk-2.ipynb\u001b[39m\u001b[22m\n",
      "\u001b[1m\u001b[34m[22/30] posts/01_PythonBasic/2023-03-08-1wk-2.ipynb\u001b[39m\u001b[22m\n",
      "\u001b[1m\u001b[34m[23/30] posts/01_PythonBasic/2023-03-20-3wk-1.ipynb\u001b[39m\u001b[22m\n",
      "\u001b[1m\u001b[34m[24/30] posts/01_PythonBasic/2023-03-15-2wk-2.ipynb\u001b[39m\u001b[22m\n",
      "\u001b[1m\u001b[34m[25/30] posts/01_PythonBasic/2023-03-13-2wk-1.ipynb\u001b[39m\u001b[22m\n",
      "\u001b[1m\u001b[34m[26/30] posts/01_PythonBasic/2023-03-27-4wk-1.ipynb\u001b[39m\u001b[22m\n",
      "\u001b[1m\u001b[34m[27/30] posts/01_PythonBasic/2023-04-05-5wk-2.ipynb\u001b[39m\u001b[22m\n",
      "\u001b[1m\u001b[34m[28/30] posts/01_PythonBasic/2023-04-03-5wk-1.ipynb\u001b[39m\u001b[22m\n",
      "\u001b[1m\u001b[34m[29/30] posts/01_PythonBasic/2023-03-29-4wk-2.ipynb\u001b[39m\u001b[22m\n",
      "\u001b[1m\u001b[34m[30/30] index.qmd\u001b[39m\u001b[22m\n",
      "\u001b[33mWARNING: File /home/cgb2/Dropbox/07_lectures/PP2023/posts/Appendix/2022-06-14-final.ipynb in the listing 'listing' contains no metadata.\u001b[39m\n",
      "\u001b[33mWARNING: File /home/cgb2/Dropbox/07_lectures/PP2023/posts/Appendix/2021-04-20-mid.ipynb in the listing 'listing' contains no metadata.\u001b[39m\n",
      "\u001b[33mWARNING: File /home/cgb2/Dropbox/07_lectures/PP2023/posts/Appendix/2022-05-03-mid.ipynb in the listing 'listing' contains no metadata.\u001b[39m\n",
      "\u001b[33mWARNING: File /home/cgb2/Dropbox/07_lectures/PP2023/posts/Appendix/2021-06-09-final.ipynb in the listing 'listing' contains no metadata.\u001b[39m\n",
      "\u001b[33mWARNING: File /home/cgb2/Dropbox/07_lectures/PP2023/posts/2023-03-06-1wk-1.ipynb in the listing 'listing' contains no metadata.\u001b[39m\n",
      "\u001b[33mWARNING: File /home/cgb2/Dropbox/07_lectures/PP2023/posts/03_Class/2023-05-31-13wk-1.ipynb in the listing 'listing' contains no metadata.\u001b[39m\n",
      "\u001b[33mWARNING: File /home/cgb2/Dropbox/07_lectures/PP2023/posts/03_Class/2023-05-15-11wk-1.ipynb in the listing 'listing' contains no metadata.\u001b[39m\n",
      "\u001b[33mWARNING: File /home/cgb2/Dropbox/07_lectures/PP2023/posts/03_Class/2023-05-10-10wk-2.ipynb in the listing 'listing' contains no metadata.\u001b[39m\n",
      "\u001b[33mWARNING: File /home/cgb2/Dropbox/07_lectures/PP2023/posts/03_Class/2023-05-24-12wk-2.ipynb in the listing 'listing' contains no metadata.\u001b[39m\n",
      "\u001b[33mWARNING: File /home/cgb2/Dropbox/07_lectures/PP2023/posts/03_Class/2023-05-17-11wk-2.ipynb in the listing 'listing' contains no metadata.\u001b[39m\n",
      "\u001b[33mWARNING: File /home/cgb2/Dropbox/07_lectures/PP2023/posts/03_Class/2023-05-22-12wk-1.ipynb in the listing 'listing' contains no metadata.\u001b[39m\n",
      "\u001b[33mWARNING: File /home/cgb2/Dropbox/07_lectures/PP2023/posts/2023-05-08-10wk-1-mid.ipynb in the listing 'listing' contains no metadata.\u001b[39m\n",
      "\u001b[33mWARNING: File /home/cgb2/Dropbox/07_lectures/PP2023/posts/02_DataScience/2023-04-10-6wk-1.ipynb in the listing 'listing' contains no metadata.\u001b[39m\n",
      "\u001b[33mWARNING: File /home/cgb2/Dropbox/07_lectures/PP2023/posts/02_DataScience/2023-04-26-8wk-2.ipynb in the listing 'listing' contains no metadata.\u001b[39m\n",
      "\u001b[33mWARNING: File /home/cgb2/Dropbox/07_lectures/PP2023/posts/02_DataScience/2023-05-01-9wk-1.ipynb in the listing 'listing' contains no metadata.\u001b[39m\n",
      "\u001b[33mWARNING: File /home/cgb2/Dropbox/07_lectures/PP2023/posts/02_DataScience/2023-04-12-6wk-2.ipynb in the listing 'listing' contains no metadata.\u001b[39m\n",
      "\u001b[33mWARNING: File /home/cgb2/Dropbox/07_lectures/PP2023/posts/02_DataScience/2023-04-17-7wk-1.ipynb in the listing 'listing' contains no metadata.\u001b[39m\n",
      "\u001b[33mWARNING: File /home/cgb2/Dropbox/07_lectures/PP2023/posts/02_DataScience/2023-04-19-7wk-2.ipynb in the listing 'listing' contains no metadata.\u001b[39m\n",
      "\u001b[33mWARNING: File /home/cgb2/Dropbox/07_lectures/PP2023/posts/02_DataScience/2023-04-24-8wk-1.ipynb in the listing 'listing' contains no metadata.\u001b[39m\n",
      "\u001b[33mWARNING: File /home/cgb2/Dropbox/07_lectures/PP2023/posts/01_PythonBasic/2023-03-22-3wk-2.ipynb in the listing 'listing' contains no metadata.\u001b[39m\n",
      "\u001b[33mWARNING: File /home/cgb2/Dropbox/07_lectures/PP2023/posts/01_PythonBasic/2023-03-08-1wk-2.ipynb in the listing 'listing' contains no metadata.\u001b[39m\n",
      "\u001b[33mWARNING: File /home/cgb2/Dropbox/07_lectures/PP2023/posts/01_PythonBasic/2023-03-20-3wk-1.ipynb in the listing 'listing' contains no metadata.\u001b[39m\n",
      "\u001b[33mWARNING: File /home/cgb2/Dropbox/07_lectures/PP2023/posts/01_PythonBasic/2023-03-15-2wk-2.ipynb in the listing 'listing' contains no metadata.\u001b[39m\n",
      "\u001b[33mWARNING: File /home/cgb2/Dropbox/07_lectures/PP2023/posts/01_PythonBasic/2023-03-13-2wk-1.ipynb in the listing 'listing' contains no metadata.\u001b[39m\n",
      "\u001b[33mWARNING: File /home/cgb2/Dropbox/07_lectures/PP2023/posts/01_PythonBasic/2023-03-27-4wk-1.ipynb in the listing 'listing' contains no metadata.\u001b[39m\n",
      "\u001b[33mWARNING: File /home/cgb2/Dropbox/07_lectures/PP2023/posts/01_PythonBasic/2023-04-05-5wk-2.ipynb in the listing 'listing' contains no metadata.\u001b[39m\n",
      "\u001b[33mWARNING: File /home/cgb2/Dropbox/07_lectures/PP2023/posts/01_PythonBasic/2023-04-03-5wk-1.ipynb in the listing 'listing' contains no metadata.\u001b[39m\n",
      "\u001b[33mWARNING: File /home/cgb2/Dropbox/07_lectures/PP2023/posts/01_PythonBasic/2023-03-29-4wk-2.ipynb in the listing 'listing' contains no metadata.\u001b[39m\n",
      "\n",
      "Preparing worktree (resetting branch 'gh-pages'; was at 18b0f80)\n",
      "Branch 'gh-pages' set up to track remote branch 'gh-pages' from 'origin'.\n",
      "HEAD is now at 18b0f80 Built site for gh-pages\n",
      "[gh-pages 126ed0b] Built site for gh-pages\n",
      " 11 files changed, 406 insertions(+), 103 deletions(-)\n",
      " create mode 100644 posts/03_Class/2023-05-31-13wk-1.html\n",
      "origin\thttps://github.com/guebin/PP2023.git (fetch)\n",
      "origin\thttps://github.com/guebin/PP2023.git (push)\n",
      "remote: Resolving deltas: 100% (13/13), completed with 12 local objects.        \n",
      "To https://github.com/guebin/PP2023.git\n",
      "   18b0f80..126ed0b  HEAD -> gh-pages\n",
      "\n",
      "\u001b[33mNOTE: GitHub Pages sites use caching so you might need to click the refresh\n",
      "button within your web browser to see changes after deployment.\n",
      "\u001b[39m\n",
      "[✓] Published to https://guebin.github.io/PP2023/\n",
      "\n",
      "\u001b[33mNOTE: GitHub Pages deployments normally take a few minutes (your site updates\n",
      "will be visible once the deploy completes)\n",
      "\u001b[39m\n"
     ]
    }
   ],
   "source": [
    "!git add .\n",
    "!git commit -m .\n",
    "!git push \n",
    "!quarto publish --no-browser --no-prompt"
   ]
  },
  {
   "cell_type": "code",
   "execution_count": null,
   "id": "bdf29bda-863b-43d1-be21-a4722418c107",
   "metadata": {},
   "outputs": [],
   "source": []
  }
 ],
 "metadata": {
  "kernelspec": {
   "display_name": "Python 3",
   "language": "python",
   "name": "python3"
  },
  "language_info": {
   "codemirror_mode": {
    "name": "ipython",
    "version": 3
   },
   "file_extension": ".py",
   "mimetype": "text/x-python",
   "name": "python",
   "nbconvert_exporter": "python",
   "pygments_lexer": "ipython3",
   "version": "3.8.16"
  }
 },
 "nbformat": 4,
 "nbformat_minor": 5
}
