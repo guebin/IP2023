{
 "cells": [
  {
   "cell_type": "raw",
   "id": "809afe51-3936-433f-9d3d-612ee572e0e7",
   "metadata": {},
   "source": [
    "---\n",
    "title: \"12wk-2: 클래스 (5)\"\n",
    "author: \"최규빈\"\n",
    "date: \"05/24/2023\"\n",
    "---"
   ]
  },
  {
   "cell_type": "markdown",
   "id": "ac4e5f69-0314-4810-855e-0e805e1975aa",
   "metadata": {},
   "source": [
    "<a href=\"https://colab.research.google.com/github/guebin/PP2023/blob/main/posts/03_Class/2023-05-24-12wk-2.ipynb\"><img src=\"https://colab.research.google.com/assets/colab-badge.svg\" style=\"text-align: left\"></a>"
   ]
  },
  {
   "cell_type": "markdown",
   "id": "151f2661-277a-438e-8122-738a42bf186a",
   "metadata": {},
   "source": [
    "# imports "
   ]
  },
  {
   "cell_type": "code",
   "execution_count": 79,
   "id": "eca9048c-beb0-40cf-8cdd-026f76aed90f",
   "metadata": {},
   "outputs": [],
   "source": [
    "import matplotlib.pyplot as plt\n",
    "from IPython.core.display import HTML"
   ]
  },
  {
   "cell_type": "markdown",
   "id": "0bf487c1-438e-461e-aa8f-9bb8a2493c26",
   "metadata": {},
   "source": [
    "# 클래스공부 3단계: 문제연습"
   ]
  },
  {
   "cell_type": "markdown",
   "id": "8fe36c97-3729-4998-9e25-72c2215e2fef",
   "metadata": {},
   "source": [
    "## 암기사항 "
   ]
  },
  {
   "cell_type": "markdown",
   "id": "34910766-100d-4a6b-a61d-e351a9686c89",
   "metadata": {},
   "source": [
    "***외우세요*** (논리적으로 생각하지 말고)"
   ]
  },
  {
   "cell_type": "markdown",
   "id": "2e57addb-b078-463b-a3b4-f6fd428a3cf4",
   "metadata": {},
   "source": [
    "`#1` 클래스의 선언: 클래스의 선언은 아래와 같이 하며 클래스의 이름은 대문자로 한다. "
   ]
  },
  {
   "cell_type": "markdown",
   "id": "afa2eda4-f728-4313-a743-c6861a579f3f",
   "metadata": {},
   "source": [
    "```Python\n",
    "# 예시1: 좋은사례\n",
    "class JungKKuckMa:\n",
    "    pass \n",
    "```"
   ]
  },
  {
   "cell_type": "markdown",
   "id": "0bcb2ea7-0f82-4a4a-a814-fde52c3918ec",
   "metadata": {},
   "source": [
    "```Python\n",
    "# 예시2: 나쁜사례 -- 클래스 이름은 대문자로 시작해야해\n",
    "class jungkkuckma:\n",
    "    pass \n",
    "```"
   ]
  },
  {
   "cell_type": "markdown",
   "id": "3aa2463d-e67a-4e3f-b520-73051b35e7ed",
   "metadata": {},
   "source": [
    "> 딴지: 1. 사실 저거 말고도 선언하는 방법 있는데.. 2. 대문자가 아니어도 에러는 안나는데.. "
   ]
  },
  {
   "cell_type": "markdown",
   "id": "531cbec1-d3a7-4de6-9948-968b12ae3579",
   "metadata": {},
   "source": [
    "`#2` 클래스의 내용: 클래스의 내용은 메소드만을 정의하는데에만 사용한다. "
   ]
  },
  {
   "cell_type": "markdown",
   "id": "6a0543b2-9916-4602-9a07-9ffdbebec46d",
   "metadata": {},
   "source": [
    "```Python\n",
    "# 예시1: 클래스의 내용을 메소드로만 작성한예시 \n",
    "class JungKKuckMa:\n",
    "    def method1(self): \n",
    "        blabla\n",
    "    def method2(self): \n",
    "        blabla\n",
    "    def method3(self): \n",
    "        blabla\n",
    "    def method4(self): \n",
    "        blabla\n",
    "    def method5(self): \n",
    "        blabla    \n",
    "```"
   ]
  },
  {
   "cell_type": "markdown",
   "id": "5dea502c-063a-422c-b55e-c19fe3670f61",
   "metadata": {},
   "source": [
    "```Python\n",
    "# 예시2: 나쁜사례\n",
    "class JungKKuckMa:\n",
    "    a=1 \n",
    "    b=1 \n",
    "```"
   ]
  },
  {
   "cell_type": "markdown",
   "id": "752e5f6d-2f36-4a25-8d7a-4c3c678f91f2",
   "metadata": {},
   "source": [
    "> 딴지: 꼭 메소드만 쓰라는 법은 없지 않나? "
   ]
  },
  {
   "cell_type": "markdown",
   "id": "858fdd20-944d-4889-ac87-803154cd9a62",
   "metadata": {},
   "source": [
    "`#3` 메소드의 첫번째 입력은 항상 self 로 사용한다."
   ]
  },
  {
   "cell_type": "markdown",
   "id": "d9eb8ebc-08c8-4d82-a31a-5597e3c8c7bb",
   "metadata": {},
   "source": [
    "> 딴지: 이것도 꼭 그런건 아님 "
   ]
  },
  {
   "cell_type": "markdown",
   "id": "87203e9e-c7f8-4ca0-9179-3a8c6a6b1243",
   "metadata": {},
   "source": [
    "`#4` `__init__` 메소드는 \"클래스 $\\to$ 인스턴스\" 시점에 자동으로 실행되는 특수한 메소드이다. "
   ]
  },
  {
   "cell_type": "markdown",
   "id": "a1a424f5-6c86-47b1-82b9-3da8d436167d",
   "metadata": {},
   "source": [
    "## 문제풀이 "
   ]
  },
  {
   "cell_type": "markdown",
   "id": "1bb42e54-d0cc-4153-aa4a-e6681a8d3971",
   "metadata": {},
   "source": [
    "***각 예제의 조건에 맞는 클래스를 구현하라***"
   ]
  },
  {
   "cell_type": "markdown",
   "id": "50fd18e1-8017-4405-ba83-4509bc3bef5c",
   "metadata": {},
   "source": [
    "`-` **예제1** -- self는 항상 써야 해\n",
    "\n",
    "아래의 조건에 맞는 클래스를 구현하라.\n",
    "\n",
    "1. 클래스에는 hello()라는 메소드가 정의되어 있으며, hello()의 기능은 \"안녕하세요\"를 출력하는 것이다. "
   ]
  },
  {
   "cell_type": "markdown",
   "id": "8d00b0f6-004f-4719-9e5d-36ceea8464c8",
   "metadata": {},
   "source": [
    "`-` **예제2**-- `__init__`의 사용방법 \n",
    "\n",
    "아래의 조건에 맞는 클래스를 구현하라.\n",
    "\n",
    "1. \"클래스 $\\to$ 인스턴스\"의 과정에서 변수 a가 True 로 초기설정된다. \n",
    "2. 클래스에는 show()라는 메소드가 정의되어 있으며, show()의 기능은 a의 값을 print 하는 기능을 한다. "
   ]
  },
  {
   "cell_type": "markdown",
   "id": "8c23b140-8e9d-4fbf-bf79-9b57e8ddb63a",
   "metadata": {},
   "source": [
    "`-` **예제3**-- method의 정의 및 사용 \n",
    "\n",
    "아래의 조건에 맞는 클래스를 구현하라.\n",
    "\n",
    "1. \"클래스 $\\to$ 인스턴스\"의 과정에서 변수 a가 True 로 초기설정된다. \n",
    "2. 클래스에는 toggle() 이라는 메소드가 정의되어 있다. 이 기능은 변수 a의 값이 True 이면 False 로, False 이면 True 로 바꾸는 역할을 한다. \n",
    "3. 클래스에는 show()라는 메소드가 정의되어 있다. 이 기능은 a의 값을 print 하는 기능을 한다. "
   ]
  },
  {
   "cell_type": "markdown",
   "id": "359c55f3-c053-409e-a21f-348de41b6d53",
   "metadata": {},
   "source": [
    "`-` **예제4** -- method의 정의 및 사용 \n",
    "\n",
    "아래의 조건에 맞는 클래스를 구현하라.\n",
    "\n",
    "1. \"클래스 $\\to$ 인스턴스\"의 과정에서 변수 a가 0으로 초기설정된다. \n",
    "2. 클래스에는 up()라는 메소드가 정의되어 있다. up()의 기능은 a의 값을 1증가시키는 기능을 한다. \n",
    "3. 클래스에는 show()라는 메소드가 정의되어 있다. show()의 기능은 a의 값을 print 하는 가능을 한다. "
   ]
  },
  {
   "cell_type": "markdown",
   "id": "a9dbf93a-154c-4b29-8148-ac6f4199151d",
   "metadata": {},
   "source": [
    "`-` **예제5** -- 외부입력을 사용하는 `__init__` \n",
    "\n",
    "아래의 조건에 맞는 클래스를 구현하라.\n",
    "\n",
    "1. \"클래스 $\\to$ 인스턴스\"의 과정에서 변수 a의 값이 사용자가 입력한 값으로 초기설정된다. \n",
    "2. 클래스에는 show()라는 메소드가 정의되어 있다. show()의 기능은 a의 값을 print 하는 가능을 한다. "
   ]
  },
  {
   "cell_type": "markdown",
   "id": "fd8aa87f-0c65-411c-ac91-5ddfe9538f95",
   "metadata": {},
   "source": [
    "`-` **예제6** -- 외부입력을 사용하는 method \n",
    "\n",
    "아래의 조건에 맞는 클래스를 구현하라.\n",
    "\n",
    "1. \"클래스 $\\to$ 인스턴스\"의 과정에서 변수 a가 0으로 초기설정된다. \n",
    "2. 클래스에는 up()라는 메소드가 정의되어 있다. up()의 기능은 a의 값을 1증가시키는 기능을 한다. \n",
    "3. 클래스에는 jump()라는 메소드가 정의되어 있다. jump()는 jump_size 를 입력으로 받으며 a의 값을 jump_size 만큼 증가시키는 기능을 한다. \n",
    "4. 클래스에는 show()라는 메소드가 정의되어 있다. show()의 기능은 a의 값을 print 하는 기능을 한다. "
   ]
  },
  {
   "cell_type": "markdown",
   "id": "ed7653c2-de8b-4fbb-b6c8-419d37a97361",
   "metadata": {},
   "source": [
    "`-` **예제7** -- 메소드에서 메소드 사용하기 \n",
    "\n",
    "아래의 조건에 맞는 클래스를 구현하라.\n",
    "\n",
    "1. \"클래스 $\\to$ 인스턴스\"의 과정에서 변수 a가 0으로 초기설정된다. \n",
    "2. 클래스에는 up()라는 메소드가 정의되어 있다. up()의 기능은 a의 값을 1증가시키는 기능을 한다. \n",
    "3. 클래스에는 jump()라는 메소드가 정의되어 있다. jump()는 jump_size 를 입력으로 받으며 a의 값을 jump_size 만큼 증가시키는 기능을 한다. \n",
    "4. 클래스에는 reset()이라는 메소드가 정의되어 있다. reset()는 a의 값을 0으로 초기화하는 역할을 한다. \n",
    "5. 클래스에는 show()라는 메소드가 정의되어 있다. show()의 기능은 a의 값을 print 하는 기능을 한다. "
   ]
  },
  {
   "cell_type": "markdown",
   "id": "120a4905-8c08-4916-ab7c-8ded30c87093",
   "metadata": {},
   "source": [
    "`-` **예제8:** -- 이미지출력 "
   ]
  },
  {
   "cell_type": "markdown",
   "id": "add8db6e-1e10-479e-9417-a904e6b07b7d",
   "metadata": {},
   "source": [
    "아래의 코드를 관찰"
   ]
  },
  {
   "cell_type": "code",
   "execution_count": 85,
   "id": "b38c7009-8ee2-4e0c-bc69-b894f5972c63",
   "metadata": {},
   "outputs": [
    {
     "data": {
      "text/html": [
       "<img src=https://github.com/guebin/PP2023/blob/main/posts/03_Class/burgerking.png?raw=true width=\"600\">"
      ],
      "text/plain": [
       "<IPython.core.display.HTML object>"
      ]
     },
     "metadata": {},
     "output_type": "display_data"
    }
   ],
   "source": [
    "url = 'https://github.com/guebin/PP2023/blob/main/posts/03_Class/burgerking.png?raw=true'\n",
    "html_str = '<img src={url} width=\"600\">'.format(url=url)\n",
    "display(HTML(html_str))"
   ]
  },
  {
   "cell_type": "markdown",
   "id": "24783aad-bc30-41eb-a9fc-22b2f1d0d737",
   "metadata": {},
   "source": [
    "아래의 조건에 맞는 클래스를 구현하라. \n",
    "\n",
    "1. \"클래스 $\\to$ 인스턴스\"의 과정에서 변수 url이 위에서 제시된 값으로 초기화된다. \n",
    "2. 클래스에는 show()라는 함수가 있어서 url에 해당하는 이미지를 출력해주는 기능을 가진다. "
   ]
  },
  {
   "cell_type": "markdown",
   "id": "35d709f7-fa5b-40d9-9cc6-86e4d5971bf1",
   "metadata": {},
   "source": [
    "`-` **예제9--** 이미지 출력 + 횟수 기록 \n",
    "\n",
    "1. \"클래스 $\\to$ 인스턴스\"의 과정에서 변수 url이 위에서 제시된 값으로 초기화된다. \n",
    "2. 클래스에는 show()라는 함수가 있어서 (1) url에 해당하는 이미지를 출력하고 (2) \"당신은 이 그림을 $n$번 보았습니다\" 를 출력하는 기능을 한다. 여기에서 $n$은 그림을 본 횟수"
   ]
  },
  {
   "cell_type": "markdown",
   "id": "b53c7a89-ffc2-478a-8e4c-0920d0cb2074",
   "metadata": {},
   "source": [
    "`-` **예제10** -- 여러 인스턴스 동시관리\n",
    "\n",
    "예제9에서 만든 클래스를 이용하여 아래의 url에 해당하는 이미지를 출력하라. \n",
    "\n",
    "- https://github.com/guebin/PP2023/blob/main/posts/03_Class/JungGGuckMa.jpg?raw=true\n",
    "\n",
    ".show()를 이용해 두 이미지를 번갈아 가며 관찰하고 횟수가 올바르게 카운트되는지 확인하라. "
   ]
  }
 ],
 "metadata": {
  "kernelspec": {
   "display_name": "Python 3",
   "language": "python",
   "name": "python3"
  },
  "language_info": {
   "codemirror_mode": {
    "name": "ipython",
    "version": 3
   },
   "file_extension": ".py",
   "mimetype": "text/x-python",
   "name": "python",
   "nbconvert_exporter": "python",
   "pygments_lexer": "ipython3",
   "version": "3.8.16"
  }
 },
 "nbformat": 4,
 "nbformat_minor": 5
}
