{
 "cells": [
  {
   "cell_type": "raw",
   "id": "a1528b7b-1d00-4bcd-bdd4-490ab2e6d884",
   "metadata": {},
   "source": [
    "---\n",
    "title: \"14wk-2: 클래스공부 4단계 -- 파이썬의 비밀 (3)\"\n",
    "author: \"최규빈\"\n",
    "date: \"06/07/2023\"\n",
    "---"
   ]
  },
  {
   "cell_type": "markdown",
   "id": "8cd988d6-1845-4a21-be51-84de35155147",
   "metadata": {},
   "source": [
    "<a href=\"https://colab.research.google.com/github/guebin/PP2023/blob/main/posts/03_Class/2023-06-07-14wk-2.ipynb\"><img src=\"https://colab.research.google.com/assets/colab-badge.svg\" style=\"text-align: left\"></a>"
   ]
  },
  {
   "cell_type": "markdown",
   "id": "0c02ca08-11f6-4bc6-9b57-2d5d1ae274cf",
   "metadata": {
    "tags": []
   },
   "source": [
    "# imports "
   ]
  },
  {
   "cell_type": "code",
   "execution_count": 14,
   "id": "0af2488d-77b4-46d5-acd6-bc02c0b5c65b",
   "metadata": {},
   "outputs": [],
   "source": [
    "import numpy as np\n",
    "import pandas as pd"
   ]
  },
  {
   "cell_type": "markdown",
   "id": "bec798a6-0f01-4d82-92dc-93fd1e71b032",
   "metadata": {},
   "source": [
    "# 클래스공부 4단계: 파이썬의 비밀 (3)"
   ]
  },
  {
   "cell_type": "markdown",
   "id": "17057103-7f2a-4364-a3de-5babce342384",
   "metadata": {},
   "source": [
    "## 비밀12: `__iter__` ($\\star\\star\\star\\star\\star$)"
   ]
  },
  {
   "cell_type": "markdown",
   "id": "1c02135c-8e12-4d1d-8c74-318c3c7578c0",
   "metadata": {},
   "source": [
    "### ***for문의 복습***"
   ]
  },
  {
   "cell_type": "markdown",
   "id": "b17830eb-2274-4cca-9e76-18dff8f82a81",
   "metadata": {},
   "source": [
    "`-` 아래와 같은 예제들을 관찰하여 for문을 복습하자. "
   ]
  },
  {
   "cell_type": "markdown",
   "id": "94ff98b4-bcf8-48ed-9078-77b42825b17f",
   "metadata": {},
   "source": [
    "(예제1) [1,2,3,4]"
   ]
  },
  {
   "cell_type": "code",
   "execution_count": 2,
   "id": "c3515406-eb8d-4246-a099-5bb57d4829cc",
   "metadata": {},
   "outputs": [
    {
     "name": "stdout",
     "output_type": "stream",
     "text": [
      "1\n",
      "2\n",
      "33\n",
      "4\n"
     ]
    }
   ],
   "source": [
    "for i in [1,2,33,4]:\n",
    "    print(i)"
   ]
  },
  {
   "cell_type": "markdown",
   "id": "63e7b680-3b55-48fb-9f39-b8185eed2f42",
   "metadata": {},
   "source": [
    "(예제2) (1,2,3,4) "
   ]
  },
  {
   "cell_type": "code",
   "execution_count": 3,
   "id": "d7674f54-6283-4c1a-9b12-17dde6a6ec1c",
   "metadata": {},
   "outputs": [
    {
     "name": "stdout",
     "output_type": "stream",
     "text": [
      "1\n",
      "2\n",
      "33\n",
      "4\n"
     ]
    }
   ],
   "source": [
    "for i in (1,2,33,4):\n",
    "    print(i)"
   ]
  },
  {
   "cell_type": "markdown",
   "id": "fead96ba-62ce-4a8a-86ee-72901c019091",
   "metadata": {},
   "source": [
    "(예제3) '1234'"
   ]
  },
  {
   "cell_type": "code",
   "execution_count": 4,
   "id": "0666f79a-6857-4318-a907-454d1f55b7a6",
   "metadata": {},
   "outputs": [
    {
     "name": "stdout",
     "output_type": "stream",
     "text": [
      "1\n",
      "2\n",
      "3\n",
      "a\n",
      "s\n",
      "d\n",
      "f\n"
     ]
    }
   ],
   "source": [
    "for i in '123asdf':\n",
    "    print(i)"
   ]
  },
  {
   "cell_type": "markdown",
   "id": "da64825d-245b-4b7a-99ec-7b89d2ffa96b",
   "metadata": {},
   "source": [
    "(예제4) 5"
   ]
  },
  {
   "cell_type": "code",
   "execution_count": 7,
   "id": "d099e8e7-feda-43db-a439-6a628e04e450",
   "metadata": {},
   "outputs": [
    {
     "ename": "TypeError",
     "evalue": "'int' object is not iterable",
     "output_type": "error",
     "traceback": [
      "\u001b[0;31m---------------------------------------------------------------------------\u001b[0m",
      "\u001b[0;31mTypeError\u001b[0m                                 Traceback (most recent call last)",
      "Cell \u001b[0;32mIn[7], line 1\u001b[0m\n\u001b[0;32m----> 1\u001b[0m \u001b[38;5;28;01mfor\u001b[39;00m i \u001b[38;5;129;01min\u001b[39;00m \u001b[38;5;241m5\u001b[39m:\n\u001b[1;32m      2\u001b[0m     \u001b[38;5;28mprint\u001b[39m(i)\n",
      "\u001b[0;31mTypeError\u001b[0m: 'int' object is not iterable"
     ]
    }
   ],
   "source": [
    "for i in 5:\n",
    "    print(i)"
   ]
  },
  {
   "cell_type": "markdown",
   "id": "67214327-1e4a-453b-a32c-dae38e918b25",
   "metadata": {},
   "source": [
    "`-` 의문1: \n",
    "\n",
    "```python\n",
    "for i in ???:\n",
    "    print(i)\n",
    "```\n",
    "\n",
    "에서 ??? 자리에 올수 있는 것이 무엇일까? "
   ]
  },
  {
   "cell_type": "markdown",
   "id": "42f0e9ac-0f0b-4781-bfc3-cd0abdc9be80",
   "metadata": {},
   "source": [
    "(예제5) [[1,2,3,4],[3,4,5,6]], pd.DataFrame([[1,2,3,4],[3,4,5,6]])"
   ]
  },
  {
   "cell_type": "code",
   "execution_count": 9,
   "id": "e4d7419c-9b6f-4335-97dc-641061103241",
   "metadata": {},
   "outputs": [
    {
     "data": {
      "text/plain": [
       "[[1, 2, 3, 4], [3, 4, 5, 6]]"
      ]
     },
     "execution_count": 9,
     "metadata": {},
     "output_type": "execute_result"
    }
   ],
   "source": [
    "lst = [[1,2,3,4],[3,4,5,6]]\n",
    "lst"
   ]
  },
  {
   "cell_type": "code",
   "execution_count": 22,
   "id": "7aacc913-bbc9-4043-b564-80c6705be6fa",
   "metadata": {},
   "outputs": [
    {
     "name": "stdout",
     "output_type": "stream",
     "text": [
      "[1, 2, 3, 4]\n",
      "[3, 4, 5, 6]\n"
     ]
    }
   ],
   "source": [
    "for l in lst:\n",
    "    print(l)"
   ]
  },
  {
   "cell_type": "code",
   "execution_count": 23,
   "id": "a0e3a92e-b049-4a66-8536-21d361661390",
   "metadata": {},
   "outputs": [
    {
     "name": "stdout",
     "output_type": "stream",
     "text": [
      "[1 2 3 4]\n",
      "[3 4 5 6]\n"
     ]
    }
   ],
   "source": [
    "for l in np.array(lst):\n",
    "    print(l)"
   ]
  },
  {
   "cell_type": "code",
   "execution_count": 24,
   "id": "a45256f8-0f6c-4b48-a0ba-170a1bba8e74",
   "metadata": {},
   "outputs": [
    {
     "name": "stdout",
     "output_type": "stream",
     "text": [
      "0\n",
      "1\n",
      "2\n",
      "3\n"
     ]
    }
   ],
   "source": [
    "for l in pd.DataFrame(lst):\n",
    "    print(l)"
   ]
  },
  {
   "cell_type": "markdown",
   "id": "84c7c854-bdef-476b-b850-edea1770dae1",
   "metadata": {},
   "source": [
    "`-` 데이터프레임인 경우는 colname이 반복 "
   ]
  },
  {
   "cell_type": "code",
   "execution_count": 25,
   "id": "40b1abb5-0b7f-4f48-b46e-af06b47f7ca5",
   "metadata": {},
   "outputs": [
    {
     "data": {
      "text/html": [
       "<div>\n",
       "<style scoped>\n",
       "    .dataframe tbody tr th:only-of-type {\n",
       "        vertical-align: middle;\n",
       "    }\n",
       "\n",
       "    .dataframe tbody tr th {\n",
       "        vertical-align: top;\n",
       "    }\n",
       "\n",
       "    .dataframe thead th {\n",
       "        text-align: right;\n",
       "    }\n",
       "</style>\n",
       "<table border=\"1\" class=\"dataframe\">\n",
       "  <thead>\n",
       "    <tr style=\"text-align: right;\">\n",
       "      <th></th>\n",
       "      <th>x</th>\n",
       "      <th>y</th>\n",
       "    </tr>\n",
       "  </thead>\n",
       "  <tbody>\n",
       "    <tr>\n",
       "      <th>0</th>\n",
       "      <td>1</td>\n",
       "      <td>2</td>\n",
       "    </tr>\n",
       "    <tr>\n",
       "      <th>1</th>\n",
       "      <td>2</td>\n",
       "      <td>3</td>\n",
       "    </tr>\n",
       "    <tr>\n",
       "      <th>2</th>\n",
       "      <td>3</td>\n",
       "      <td>4</td>\n",
       "    </tr>\n",
       "  </tbody>\n",
       "</table>\n",
       "</div>"
      ],
      "text/plain": [
       "   x  y\n",
       "0  1  2\n",
       "1  2  3\n",
       "2  3  4"
      ]
     },
     "execution_count": 25,
     "metadata": {},
     "output_type": "execute_result"
    }
   ],
   "source": [
    "df = pd.DataFrame({'x':[1,2,3],'y':[2,3,4]})\n",
    "df"
   ]
  },
  {
   "cell_type": "code",
   "execution_count": 26,
   "id": "c62e9ad0-cdd2-44e0-8971-e27f523fec58",
   "metadata": {},
   "outputs": [
    {
     "name": "stdout",
     "output_type": "stream",
     "text": [
      "x\n",
      "y\n"
     ]
    }
   ],
   "source": [
    "for d in df:\n",
    "    print(d)"
   ]
  },
  {
   "cell_type": "markdown",
   "id": "04786851-7740-4bd3-9e20-7ca9d955ef45",
   "metadata": {},
   "source": [
    "`-` 의문2: for의 출력결과는 어떻게 예측할 수 있을까?"
   ]
  },
  {
   "cell_type": "markdown",
   "id": "2cb123ee-d544-4531-b189-bb1419e274df",
   "metadata": {},
   "source": [
    "### ***for문의 동작원리***"
   ]
  },
  {
   "cell_type": "markdown",
   "id": "d6e339e1-0716-4000-9a04-1fa1d95e7488",
   "metadata": {},
   "source": [
    "`-` 의문1의 해결: 아래의 ??? 자리에 올 수 있는 것은 dir()하여 `__iter__`가 있는 object이다. \n",
    "\n",
    "```python\n",
    "for i in ???:\n",
    "    print(i)\n",
    "```\n",
    "\n",
    "이러한 오브젝트를 iterable object라고 한다. "
   ]
  },
  {
   "cell_type": "markdown",
   "id": "94f494bf-9b0a-43bb-828a-406ba65c9251",
   "metadata": {},
   "source": [
    "`-` 예제1~4 확인 "
   ]
  },
  {
   "cell_type": "code",
   "execution_count": 34,
   "id": "c716fb7b-36ab-451f-a7ea-3258b3d51985",
   "metadata": {},
   "outputs": [
    {
     "data": {
      "text/plain": [
       "{'__iter__'}"
      ]
     },
     "execution_count": 34,
     "metadata": {},
     "output_type": "execute_result"
    }
   ],
   "source": [
    "lst = [1,2,3]\n",
    "set(dir(lst)) & {'__iter__'}"
   ]
  },
  {
   "cell_type": "code",
   "execution_count": 35,
   "id": "55b4d22f-1569-4559-a3a6-86207d237cc0",
   "metadata": {},
   "outputs": [
    {
     "data": {
      "text/plain": [
       "{'__iter__'}"
      ]
     },
     "execution_count": 35,
     "metadata": {},
     "output_type": "execute_result"
    }
   ],
   "source": [
    "tpl = 1,2,3\n",
    "set(dir(tpl)) & {'__iter__'}"
   ]
  },
  {
   "cell_type": "code",
   "execution_count": 36,
   "id": "7ff2313c-977a-46a2-8743-3977d47ab0b3",
   "metadata": {},
   "outputs": [
    {
     "data": {
      "text/plain": [
       "{'__iter__'}"
      ]
     },
     "execution_count": 36,
     "metadata": {},
     "output_type": "execute_result"
    }
   ],
   "source": [
    "string = '123'\n",
    "set(dir(string)) & {'__iter__'}"
   ]
  },
  {
   "cell_type": "code",
   "execution_count": 37,
   "id": "2ff13329-9df5-4735-8535-c02a40cf18a1",
   "metadata": {},
   "outputs": [
    {
     "data": {
      "text/plain": [
       "set()"
      ]
     },
     "execution_count": 37,
     "metadata": {},
     "output_type": "execute_result"
    }
   ],
   "source": [
    "a = 5\n",
    "set(dir(a)) & {'__iter__'}"
   ]
  },
  {
   "cell_type": "markdown",
   "id": "de946eab-7bbd-4d9f-815f-101090139891",
   "metadata": {},
   "source": [
    "`-` `__iter__`의 역할: iterable object를 iterator로 만들 수 있다!"
   ]
  },
  {
   "cell_type": "code",
   "execution_count": 68,
   "id": "32b7ca53-acab-41c8-be28-c4cc14c94ccb",
   "metadata": {},
   "outputs": [],
   "source": [
    "lst = [1,22,-33]"
   ]
  },
  {
   "cell_type": "code",
   "execution_count": 69,
   "id": "fe3f5cc9-e9fa-4e97-91ac-d6cebf5e9385",
   "metadata": {},
   "outputs": [],
   "source": [
    "lst_iterator = lst.__iter__() \n",
    "# lst_iterator = iter(lst)"
   ]
  },
  {
   "cell_type": "markdown",
   "id": "3ff4b96f-9843-4113-a47c-a7d4b0b5b520",
   "metadata": {},
   "source": [
    "`-` iterator가 되면 무엇이 좋은가? -> 숨겨진 기능 `__next__`가 열린다. "
   ]
  },
  {
   "cell_type": "code",
   "execution_count": 70,
   "id": "64ba4d1c-6d3a-4ee1-90b4-f558a4a4935c",
   "metadata": {},
   "outputs": [
    {
     "data": {
      "text/plain": [
       "{'__next__'}"
      ]
     },
     "execution_count": 70,
     "metadata": {},
     "output_type": "execute_result"
    }
   ],
   "source": [
    "set(dir(lst_iterator)) & {'__next__'}"
   ]
  },
  {
   "cell_type": "markdown",
   "id": "631e6701-b45a-49c7-9bb7-aeb7ab891f27",
   "metadata": {},
   "source": [
    "`-` 그래서 `__next__`의 기능은? -> 원소를 차례대로 꺼내준다 + 더 이상 꺼낼 원소가 없으면 StopIteration Error를 발생시킨다. "
   ]
  },
  {
   "cell_type": "code",
   "execution_count": 71,
   "id": "9f16e514-c552-47ba-89bf-1841b5d3f85a",
   "metadata": {},
   "outputs": [
    {
     "data": {
      "text/plain": [
       "1"
      ]
     },
     "execution_count": 71,
     "metadata": {},
     "output_type": "execute_result"
    }
   ],
   "source": [
    "next(lst_iterator)\n",
    "# lst_iterator.__next__() # 같은코드"
   ]
  },
  {
   "cell_type": "code",
   "execution_count": 72,
   "id": "50f2c387-13b4-4059-8098-1a69975ef6b2",
   "metadata": {},
   "outputs": [
    {
     "data": {
      "text/plain": [
       "22"
      ]
     },
     "execution_count": 72,
     "metadata": {},
     "output_type": "execute_result"
    }
   ],
   "source": [
    "next(lst_iterator)\n",
    "# lst_iterator.__next__() # 같은코드"
   ]
  },
  {
   "cell_type": "code",
   "execution_count": 73,
   "id": "60f08ee2-90fe-4c1a-8798-b8cd78b78756",
   "metadata": {},
   "outputs": [
    {
     "data": {
      "text/plain": [
       "-33"
      ]
     },
     "execution_count": 73,
     "metadata": {},
     "output_type": "execute_result"
    }
   ],
   "source": [
    "next(lst_iterator)\n",
    "# lst_iterator.__next__() # 같은코드"
   ]
  },
  {
   "cell_type": "code",
   "execution_count": 74,
   "id": "2ddc5af2-3940-45fe-bf5a-46fdde7de0c1",
   "metadata": {},
   "outputs": [
    {
     "ename": "StopIteration",
     "evalue": "",
     "output_type": "error",
     "traceback": [
      "\u001b[0;31m---------------------------------------------------------------------------\u001b[0m",
      "\u001b[0;31mStopIteration\u001b[0m                             Traceback (most recent call last)",
      "Cell \u001b[0;32mIn[74], line 1\u001b[0m\n\u001b[0;32m----> 1\u001b[0m \u001b[38;5;28;43mnext\u001b[39;49m\u001b[43m(\u001b[49m\u001b[43mlst_iterator\u001b[49m\u001b[43m)\u001b[49m\n",
      "\u001b[0;31mStopIteration\u001b[0m: "
     ]
    }
   ],
   "source": [
    "next(lst_iterator)\n",
    "# lst_iterator.__next__() # 같은코드"
   ]
  },
  {
   "cell_type": "markdown",
   "id": "5f858291-7505-490a-b1d5-391df0379959",
   "metadata": {},
   "source": [
    "`-` for문의 동작원리 \n",
    "\n",
    "```python\n",
    "for i in iterable:\n",
    "    ...\n",
    "```"
   ]
  },
  {
   "cell_type": "markdown",
   "id": "534a9d9c-3627-4b7e-9a55-ceb515e641ea",
   "metadata": {},
   "source": [
    "1. 이터레이터생성: `.__iter__()` 혹은 `iter()`을 이용하여 iterable을 iterator로 만든다. \n",
    "\n",
    "2. $i$생성 및 반복: 1에서 만들어진 iterator에서 `.__next__()`함수를 호출하고 결과를 $i$에 저장한뒤 for문 블락안의 내용 (들여쓰기 된 내용) 을 실행한다. $\\to$ 반복한다. \n",
    "\n",
    "3. 정지: `.__next__()`함수를 호출할때 StopIteration Error가 나오면 for문을 멈춘다. "
   ]
  },
  {
   "cell_type": "markdown",
   "id": "48556d4f-b7dc-4493-bc46-9c08efc98c94",
   "metadata": {},
   "source": [
    "```{mermaid}\n",
    "\n",
    "flowchart LR\n",
    "  A[iterable] --> |\"__iter__()\"| B(iterator)\n",
    "  B --> |\"__next__()\"| C{stop?}\n",
    "  C --> |NO| D[i] --> E[...] --> B\n",
    "  C --> |YES| F[end]\n",
    "```"
   ]
  },
  {
   "cell_type": "markdown",
   "id": "d55c2db0-5ef2-4177-b7b0-452b92762a55",
   "metadata": {},
   "source": [
    "`-` 아래의 구조도 잘 돌아갈까?\n",
    "\n",
    "```python\n",
    "for i in iterator:\n",
    "    print(i)\n",
    "```"
   ]
  },
  {
   "cell_type": "markdown",
   "id": "506a529e-3540-470b-8a76-8e7f9bea6361",
   "metadata": {},
   "source": [
    "> iterator의 iter가 자기자신을 리턴하도록 하는 트릭을 쓰면 \"1.이터레이터생성 2.$i$생성 및 반복 3.정지\"의 동작원리를 수정하지 않고 for문을 안전하게 돌릴 수 있다. "
   ]
  },
  {
   "cell_type": "markdown",
   "id": "61d70b9c-1b8c-4f47-9deb-c5a1cf307758",
   "metadata": {},
   "source": [
    "```{mermaid}\n",
    "\n",
    "flowchart LR\n",
    "  A(iterator) --> |\"__iter__()\"| B(iterator)\n",
    "  B --> |\"__next__()\"| C{stop?}\n",
    "  C --> |NO| D[i] --> E[...] --> B\n",
    "  C --> |YES| F[end]\n",
    "```"
   ]
  },
  {
   "cell_type": "markdown",
   "id": "eefc4c3a-55b9-423e-8b59-4d121055aaf0",
   "metadata": {},
   "source": [
    "`-` 요약\n",
    "\n",
    "- iterable object는 숨겨진 기능으로 `__iter__`를 가진다. \n",
    "- iterator는 숨겨진 기능으로 `__iter__`와 `__next__`를 가진다. 따라서 정의상 iterator는 그 자체로 iterable object가 된다!\n",
    "- iterator의 `__iter__`는 자기자신을 리턴한다. "
   ]
  },
  {
   "cell_type": "markdown",
   "id": "b9fc8535-965c-4cfc-9f76-da872840e6c8",
   "metadata": {},
   "source": [
    "`-` 의문2의 해결: for의 출력결과는 어떻게 예측할 수 있을까? iterator를 만들어서 `.__next__()`의 출력값을 확인하면 알 수 있다. "
   ]
  },
  {
   "cell_type": "code",
   "execution_count": 81,
   "id": "36465038-7850-45bc-9d7d-298f8bbb3351",
   "metadata": {},
   "outputs": [],
   "source": [
    "_df_itertor = iter(df)"
   ]
  },
  {
   "cell_type": "code",
   "execution_count": 82,
   "id": "30668b93-7494-4e85-b2cc-8b5e1c07f2e9",
   "metadata": {},
   "outputs": [
    {
     "data": {
      "text/plain": [
       "'x'"
      ]
     },
     "execution_count": 82,
     "metadata": {},
     "output_type": "execute_result"
    }
   ],
   "source": [
    "next(_df_itertor)"
   ]
  },
  {
   "cell_type": "code",
   "execution_count": 83,
   "id": "c02e70ae-24f2-4697-bd50-1d3906b49df2",
   "metadata": {},
   "outputs": [
    {
     "data": {
      "text/plain": [
       "'y'"
      ]
     },
     "execution_count": 83,
     "metadata": {},
     "output_type": "execute_result"
    }
   ],
   "source": [
    "next(_df_itertor)"
   ]
  },
  {
   "cell_type": "code",
   "execution_count": 84,
   "id": "6880e7ea-8e1a-4bc8-8e76-e184b34bad5f",
   "metadata": {},
   "outputs": [
    {
     "ename": "StopIteration",
     "evalue": "",
     "output_type": "error",
     "traceback": [
      "\u001b[0;31m---------------------------------------------------------------------------\u001b[0m",
      "\u001b[0;31mStopIteration\u001b[0m                             Traceback (most recent call last)",
      "Cell \u001b[0;32mIn[84], line 1\u001b[0m\n\u001b[0;32m----> 1\u001b[0m \u001b[38;5;28;43mnext\u001b[39;49m\u001b[43m(\u001b[49m\u001b[43m_df_itertor\u001b[49m\u001b[43m)\u001b[49m\n",
      "\u001b[0;31mStopIteration\u001b[0m: "
     ]
    }
   ],
   "source": [
    "next(_df_itertor)"
   ]
  },
  {
   "cell_type": "markdown",
   "id": "ab8e10d4-734e-4532-b9ba-31dfb500bfc2",
   "metadata": {},
   "source": [
    "### ***사용자정의 이터레이터***"
   ]
  },
  {
   "cell_type": "markdown",
   "id": "d0675324-bb01-4df8-a74f-7bccc27d4b6c",
   "metadata": {},
   "source": [
    "`-` 내가 이터레이터를 만들어보자. "
   ]
  },
  {
   "cell_type": "markdown",
   "id": "f128d58a-fc98-4234-8b08-68fabb66a241",
   "metadata": {},
   "source": [
    "`-` 찌를 내는 순간 for문이 멈추도록 하는 이터레이터를 만들자."
   ]
  },
  {
   "cell_type": "code",
   "execution_count": 86,
   "id": "2f51c263-fad2-4f51-83fb-df8f8844687f",
   "metadata": {},
   "outputs": [],
   "source": [
    "class RPS_ITERATOR: # 찌를 내는순간 for문이 멈추도록 하는 이터레이터를 만들자\n",
    "    def __init__(self): \n",
    "        self.candidate = [\"묵\",\"찌\",\"빠\"] \n",
    "    def __iter__(self):\n",
    "        return self \n",
    "    def __next__(self):\n",
    "        action = np.random.choice(self.candidate)\n",
    "        if action == \"찌\":\n",
    "            print(\"찌가 나와서 for문을 멈춥니다\")\n",
    "            raise StopIteration\n",
    "        else:\n",
    "            return action"
   ]
  },
  {
   "cell_type": "code",
   "execution_count": 87,
   "id": "3b046906-92a8-4bbd-ba39-75d4aee6be87",
   "metadata": {},
   "outputs": [],
   "source": [
    "a = RPS_ITERATOR()"
   ]
  },
  {
   "cell_type": "code",
   "execution_count": 89,
   "id": "0356608f-a756-4a08-aa76-837bf05bbe1d",
   "metadata": {},
   "outputs": [
    {
     "data": {
      "text/plain": [
       "'빠'"
      ]
     },
     "execution_count": 89,
     "metadata": {},
     "output_type": "execute_result"
    }
   ],
   "source": [
    "a.__next__()"
   ]
  },
  {
   "cell_type": "code",
   "execution_count": 90,
   "id": "1b33cb7e-32ab-4bee-bb2f-ad4a8bbe702b",
   "metadata": {},
   "outputs": [
    {
     "data": {
      "text/plain": [
       "'묵'"
      ]
     },
     "execution_count": 90,
     "metadata": {},
     "output_type": "execute_result"
    }
   ],
   "source": [
    "a.__next__()"
   ]
  },
  {
   "cell_type": "code",
   "execution_count": 91,
   "id": "bec9cf1a-0c7e-425b-afb5-8a6768d7c845",
   "metadata": {},
   "outputs": [
    {
     "data": {
      "text/plain": [
       "'묵'"
      ]
     },
     "execution_count": 91,
     "metadata": {},
     "output_type": "execute_result"
    }
   ],
   "source": [
    "a.__next__()"
   ]
  },
  {
   "cell_type": "code",
   "execution_count": 92,
   "id": "6d32df3e-4d94-4d09-945c-d207d385e7ea",
   "metadata": {},
   "outputs": [
    {
     "name": "stdout",
     "output_type": "stream",
     "text": [
      "찌가 나와서 for문을 멈춥니다\n"
     ]
    },
    {
     "ename": "StopIteration",
     "evalue": "",
     "output_type": "error",
     "traceback": [
      "\u001b[0;31m---------------------------------------------------------------------------\u001b[0m",
      "\u001b[0;31mStopIteration\u001b[0m                             Traceback (most recent call last)",
      "Cell \u001b[0;32mIn[92], line 1\u001b[0m\n\u001b[0;32m----> 1\u001b[0m \u001b[43ma\u001b[49m\u001b[38;5;241;43m.\u001b[39;49m\u001b[38;5;21;43m__next__\u001b[39;49m\u001b[43m(\u001b[49m\u001b[43m)\u001b[49m\n",
      "Cell \u001b[0;32mIn[86], line 10\u001b[0m, in \u001b[0;36mRPS_ITERATOR.__next__\u001b[0;34m(self)\u001b[0m\n\u001b[1;32m      8\u001b[0m \u001b[38;5;28;01mif\u001b[39;00m action \u001b[38;5;241m==\u001b[39m \u001b[38;5;124m\"\u001b[39m\u001b[38;5;124m찌\u001b[39m\u001b[38;5;124m\"\u001b[39m:\n\u001b[1;32m      9\u001b[0m     \u001b[38;5;28mprint\u001b[39m(\u001b[38;5;124m\"\u001b[39m\u001b[38;5;124m찌가 나와서 for문을 멈춥니다\u001b[39m\u001b[38;5;124m\"\u001b[39m)\n\u001b[0;32m---> 10\u001b[0m     \u001b[38;5;28;01mraise\u001b[39;00m \u001b[38;5;167;01mStopIteration\u001b[39;00m\n\u001b[1;32m     11\u001b[0m \u001b[38;5;28;01melse\u001b[39;00m:\n\u001b[1;32m     12\u001b[0m     \u001b[38;5;28;01mreturn\u001b[39;00m action\n",
      "\u001b[0;31mStopIteration\u001b[0m: "
     ]
    }
   ],
   "source": [
    "a.__next__()"
   ]
  },
  {
   "cell_type": "code",
   "execution_count": 94,
   "id": "93d632ec-5416-44e8-8441-8863e7771c3b",
   "metadata": {},
   "outputs": [
    {
     "name": "stdout",
     "output_type": "stream",
     "text": [
      "빠\n",
      "묵\n",
      "묵\n",
      "빠\n",
      "빠\n",
      "찌가 나와서 for문을 멈춥니다\n"
     ]
    }
   ],
   "source": [
    "for i in a:\n",
    "    print(i)"
   ]
  },
  {
   "cell_type": "markdown",
   "id": "542b606c-4b34-4545-9389-28e9b575afbf",
   "metadata": {},
   "source": [
    "### ***range()***"
   ]
  },
  {
   "cell_type": "markdown",
   "id": "b7b1fee3-ba0f-4c4e-b939-a25c37414442",
   "metadata": {},
   "source": [
    "`-` 파이썬에서 for문을 처음 배울 때: range(5)를 써라!"
   ]
  },
  {
   "cell_type": "code",
   "execution_count": 95,
   "id": "91bfd470-e70b-4fcb-a2c3-abea705292f0",
   "metadata": {},
   "outputs": [
    {
     "name": "stdout",
     "output_type": "stream",
     "text": [
      "0\n",
      "1\n",
      "2\n",
      "3\n",
      "4\n"
     ]
    }
   ],
   "source": [
    "for i in range(5):\n",
    "    print(i)"
   ]
  },
  {
   "cell_type": "markdown",
   "id": "c6bc5e3f-ed80-4ceb-b05c-dd2f7b736a1c",
   "metadata": {},
   "source": [
    "- range(5)가 도데체 무엇이길래? "
   ]
  },
  {
   "cell_type": "markdown",
   "id": "c805f9ab-b817-436c-bb64-b3d22efbc098",
   "metadata": {},
   "source": [
    "`-` `range(5)`의 정체는 그냥 iterable object이다. "
   ]
  },
  {
   "cell_type": "code",
   "execution_count": 101,
   "id": "aee229a8-0e90-47e2-8fb9-f8fd85946bec",
   "metadata": {},
   "outputs": [
    {
     "data": {
      "text/plain": [
       "{'__iter__'}"
      ]
     },
     "execution_count": 101,
     "metadata": {},
     "output_type": "execute_result"
    }
   ],
   "source": [
    "set(dir(range(5))) & {'__iter__','__next__'}"
   ]
  },
  {
   "cell_type": "markdown",
   "id": "815a8c23-b72f-47dc-b3fc-8ee570267d81",
   "metadata": {},
   "source": [
    "`-` 그래서 언제든지 iterator로 바꿀 수 있다. "
   ]
  },
  {
   "cell_type": "code",
   "execution_count": 102,
   "id": "d677e733-4e89-4ead-8a3c-e1077c87d40e",
   "metadata": {},
   "outputs": [
    {
     "data": {
      "text/plain": [
       "<range_iterator at 0x7f9a8e84f5d0>"
      ]
     },
     "execution_count": 102,
     "metadata": {},
     "output_type": "execute_result"
    }
   ],
   "source": [
    "rtor= iter(range(5))\n",
    "rtor"
   ]
  },
  {
   "cell_type": "code",
   "execution_count": 103,
   "id": "f37ac9f2-b5f6-4c4c-8bef-028479339141",
   "metadata": {},
   "outputs": [
    {
     "data": {
      "text/plain": [
       "{'__iter__', '__next__'}"
      ]
     },
     "execution_count": 103,
     "metadata": {},
     "output_type": "execute_result"
    }
   ],
   "source": [
    "set(dir(rtor)) &  {'__iter__','__next__'}"
   ]
  },
  {
   "cell_type": "markdown",
   "id": "c2a1491d-bcb7-4b77-89b2-66189860eedf",
   "metadata": {},
   "source": [
    "`-` for문에서 range(5)가 행동하는 방법? "
   ]
  },
  {
   "cell_type": "code",
   "execution_count": 104,
   "id": "3053bffb-861a-4e68-8ad2-521454d9ffb5",
   "metadata": {},
   "outputs": [],
   "source": [
    "rtor = iter(range(5))"
   ]
  },
  {
   "cell_type": "code",
   "execution_count": 105,
   "id": "6f1e13d8-c8d6-4f67-afaf-b5fa26256659",
   "metadata": {},
   "outputs": [
    {
     "data": {
      "text/plain": [
       "0"
      ]
     },
     "execution_count": 105,
     "metadata": {},
     "output_type": "execute_result"
    }
   ],
   "source": [
    "rtor.__next__()"
   ]
  },
  {
   "cell_type": "code",
   "execution_count": 106,
   "id": "266c263f-39bc-4b29-a788-b3c71bc19c1a",
   "metadata": {},
   "outputs": [
    {
     "data": {
      "text/plain": [
       "1"
      ]
     },
     "execution_count": 106,
     "metadata": {},
     "output_type": "execute_result"
    }
   ],
   "source": [
    "rtor.__next__()"
   ]
  },
  {
   "cell_type": "code",
   "execution_count": 107,
   "id": "f8c072f7-579c-4f27-9662-0fb9fc1f6826",
   "metadata": {},
   "outputs": [
    {
     "data": {
      "text/plain": [
       "2"
      ]
     },
     "execution_count": 107,
     "metadata": {},
     "output_type": "execute_result"
    }
   ],
   "source": [
    "rtor.__next__()"
   ]
  },
  {
   "cell_type": "code",
   "execution_count": 108,
   "id": "f9fb7229-8628-4e01-91f7-edff221a7e96",
   "metadata": {},
   "outputs": [
    {
     "data": {
      "text/plain": [
       "3"
      ]
     },
     "execution_count": 108,
     "metadata": {},
     "output_type": "execute_result"
    }
   ],
   "source": [
    "rtor.__next__()"
   ]
  },
  {
   "cell_type": "code",
   "execution_count": 109,
   "id": "18ffad6d-7345-4988-94c4-db498e140c1e",
   "metadata": {},
   "outputs": [
    {
     "data": {
      "text/plain": [
       "4"
      ]
     },
     "execution_count": 109,
     "metadata": {},
     "output_type": "execute_result"
    }
   ],
   "source": [
    "rtor.__next__()"
   ]
  },
  {
   "cell_type": "code",
   "execution_count": 110,
   "id": "f4c0bdec-1e2d-44aa-a645-c9fe45a48a67",
   "metadata": {},
   "outputs": [
    {
     "ename": "StopIteration",
     "evalue": "",
     "output_type": "error",
     "traceback": [
      "\u001b[0;31m---------------------------------------------------------------------------\u001b[0m",
      "\u001b[0;31mStopIteration\u001b[0m                             Traceback (most recent call last)",
      "Cell \u001b[0;32mIn[110], line 1\u001b[0m\n\u001b[0;32m----> 1\u001b[0m \u001b[43mrtor\u001b[49m\u001b[38;5;241;43m.\u001b[39;49m\u001b[38;5;21;43m__next__\u001b[39;49m\u001b[43m(\u001b[49m\u001b[43m)\u001b[49m\n",
      "\u001b[0;31mStopIteration\u001b[0m: "
     ]
    }
   ],
   "source": [
    "rtor.__next__()"
   ]
  },
  {
   "cell_type": "markdown",
   "id": "6ce4be97-3ac6-45c3-8feb-afce0fa037cd",
   "metadata": {},
   "source": [
    "### ***zip***"
   ]
  },
  {
   "cell_type": "markdown",
   "id": "21a49298-c673-47ff-9783-ad9f2b30f848",
   "metadata": {},
   "source": [
    "`-` 이터레이터의 개념을 알면 for문에 대한 이해도가 대폭 상승한다. "
   ]
  },
  {
   "cell_type": "code",
   "execution_count": 114,
   "id": "9b639b6b-149c-4e29-88d8-fa224201f310",
   "metadata": {},
   "outputs": [
    {
     "name": "stdout",
     "output_type": "stream",
     "text": [
      "1 a\n",
      "2 b\n",
      "3 c\n"
     ]
    }
   ],
   "source": [
    "for i,j in zip([1,2,3],'abc'):\n",
    "    print(i,j)"
   ]
  },
  {
   "cell_type": "markdown",
   "id": "9158c4b6-73ee-449c-b6fe-9305801e1e83",
   "metadata": {},
   "source": [
    "- zip은 뭐지?"
   ]
  },
  {
   "cell_type": "code",
   "execution_count": 115,
   "id": "4f338722-e742-40fa-b109-99bdfe69c7a8",
   "metadata": {},
   "outputs": [
    {
     "data": {
      "text/plain": [
       "<zip at 0x7f9a8e7dd5c0>"
      ]
     },
     "execution_count": 115,
     "metadata": {},
     "output_type": "execute_result"
    }
   ],
   "source": [
    "zip([1,2,3],'abc')"
   ]
  },
  {
   "cell_type": "markdown",
   "id": "8aae7609-2554-42d5-8848-c740e36aee48",
   "metadata": {},
   "source": [
    "`-` 어차피 `for i in ????`: 의 ???? 자리는 iterable object의 자리이다. "
   ]
  },
  {
   "cell_type": "code",
   "execution_count": 116,
   "id": "535e9f82-4120-449e-be3f-05eb46593b8e",
   "metadata": {},
   "outputs": [
    {
     "data": {
      "text/plain": [
       "{'__iter__', '__next__'}"
      ]
     },
     "execution_count": 116,
     "metadata": {},
     "output_type": "execute_result"
    }
   ],
   "source": [
    "set(dir(zip([1,2,3],'abc'))) & {'__iter__','__next__'}"
   ]
  },
  {
   "cell_type": "markdown",
   "id": "8a796c68-6838-4170-9a46-55aab34c379e",
   "metadata": {},
   "source": [
    "- `__next__()`함수가 있음 $\\to$ `zip([1,2,3],'abc')`은 그자체로 iterator 였다!"
   ]
  },
  {
   "cell_type": "code",
   "execution_count": 117,
   "id": "a9e36aa7-b5a1-41c6-b6de-d4eda6f7f6bd",
   "metadata": {},
   "outputs": [],
   "source": [
    "z= zip([1,2,3],'abc')"
   ]
  },
  {
   "cell_type": "code",
   "execution_count": 118,
   "id": "09473d01-67ed-4121-9b8f-457b858e462c",
   "metadata": {},
   "outputs": [
    {
     "data": {
      "text/plain": [
       "(1, 'a')"
      ]
     },
     "execution_count": 118,
     "metadata": {},
     "output_type": "execute_result"
    }
   ],
   "source": [
    "z.__next__()"
   ]
  },
  {
   "cell_type": "code",
   "execution_count": 119,
   "id": "da12e92b-1643-44c8-8371-a8a9163ca0ae",
   "metadata": {},
   "outputs": [
    {
     "data": {
      "text/plain": [
       "(2, 'b')"
      ]
     },
     "execution_count": 119,
     "metadata": {},
     "output_type": "execute_result"
    }
   ],
   "source": [
    "z.__next__()"
   ]
  },
  {
   "cell_type": "code",
   "execution_count": 120,
   "id": "067399f3-3017-4dc8-af9a-50d3b93b4f2e",
   "metadata": {},
   "outputs": [
    {
     "data": {
      "text/plain": [
       "(3, 'c')"
      ]
     },
     "execution_count": 120,
     "metadata": {},
     "output_type": "execute_result"
    }
   ],
   "source": [
    "z.__next__()"
   ]
  },
  {
   "cell_type": "code",
   "execution_count": 121,
   "id": "8ddb2fcb-d6c1-4c92-b8d8-1f8a469578f2",
   "metadata": {},
   "outputs": [
    {
     "ename": "StopIteration",
     "evalue": "",
     "output_type": "error",
     "traceback": [
      "\u001b[0;31m---------------------------------------------------------------------------\u001b[0m",
      "\u001b[0;31mStopIteration\u001b[0m                             Traceback (most recent call last)",
      "Cell \u001b[0;32mIn[121], line 1\u001b[0m\n\u001b[0;32m----> 1\u001b[0m \u001b[43mz\u001b[49m\u001b[38;5;241;43m.\u001b[39;49m\u001b[38;5;21;43m__next__\u001b[39;49m\u001b[43m(\u001b[49m\u001b[43m)\u001b[49m\n",
      "\u001b[0;31mStopIteration\u001b[0m: "
     ]
    }
   ],
   "source": [
    "z.__next__()"
   ]
  },
  {
   "cell_type": "markdown",
   "id": "64e93dff-61d4-499a-bcf8-2f6f55da13ad",
   "metadata": {},
   "source": [
    "***또다른 이해: 그러고보니까 `zip([1,2,3],'abc')`은 뭐하는 문법이지?***"
   ]
  },
  {
   "cell_type": "code",
   "execution_count": 489,
   "id": "7f4b88f6-e8c4-4e6d-9306-1da2f4a6a83d",
   "metadata": {},
   "outputs": [
    {
     "data": {
      "text/plain": [
       "\u001b[0;31mInit signature:\u001b[0m \u001b[0mzip\u001b[0m\u001b[0;34m(\u001b[0m\u001b[0mself\u001b[0m\u001b[0;34m,\u001b[0m \u001b[0;34m/\u001b[0m\u001b[0;34m,\u001b[0m \u001b[0;34m*\u001b[0m\u001b[0margs\u001b[0m\u001b[0;34m,\u001b[0m \u001b[0;34m**\u001b[0m\u001b[0mkwargs\u001b[0m\u001b[0;34m)\u001b[0m\u001b[0;34m\u001b[0m\u001b[0;34m\u001b[0m\u001b[0m\n",
       "\u001b[0;31mDocstring:\u001b[0m     \n",
       "zip(*iterables) --> A zip object yielding tuples until an input is exhausted.\n",
       "\n",
       "   >>> list(zip('abcdefg', range(3), range(4)))\n",
       "   [('a', 0, 0), ('b', 1, 1), ('c', 2, 2)]\n",
       "\n",
       "The zip object yields n-length tuples, where n is the number of iterables\n",
       "passed as positional arguments to zip().  The i-th element in every tuple\n",
       "comes from the i-th iterable argument to zip().  This continues until the\n",
       "shortest argument is exhausted.\n",
       "\u001b[0;31mType:\u001b[0m           type\n",
       "\u001b[0;31mSubclasses:\u001b[0m     "
      ]
     },
     "metadata": {},
     "output_type": "display_data"
    }
   ],
   "source": [
    "zip?"
   ]
  },
  {
   "cell_type": "markdown",
   "id": "b251ae92-574d-4395-97df-288475f83435",
   "metadata": {},
   "source": [
    "- 너 클래스였어? "
   ]
  },
  {
   "cell_type": "code",
   "execution_count": 124,
   "id": "f3300349-d57e-4d33-8787-fb2e10e1d9a6",
   "metadata": {},
   "outputs": [],
   "source": [
    "iterator_from_zip = zip.__call__([1,2,3],'abc')"
   ]
  },
  {
   "cell_type": "code",
   "execution_count": 125,
   "id": "fafceb95-b673-4cb8-a862-540b585f910a",
   "metadata": {},
   "outputs": [
    {
     "name": "stdout",
     "output_type": "stream",
     "text": [
      "1 a\n",
      "2 b\n",
      "3 c\n"
     ]
    }
   ],
   "source": [
    "for i,j in iterator_from_zip:\n",
    "    print(i,j)"
   ]
  },
  {
   "cell_type": "markdown",
   "id": "2b89a65c-b6db-4977-87a1-e5bf24568751",
   "metadata": {},
   "source": [
    "> 파이썬의 작은 비밀: zip은 iterator를 찍어내는 클래스이다. "
   ]
  },
  {
   "cell_type": "markdown",
   "id": "a46ac68e-bc8c-4615-9419-8f098e7016c3",
   "metadata": {
    "tags": []
   },
   "source": [
    "### ***enumerate***"
   ]
  },
  {
   "cell_type": "markdown",
   "id": "7b246700-9ba4-48ab-985a-52a9f713b05f",
   "metadata": {},
   "source": [
    "`-` zip의 짝궁으로 enumerate가 있음 "
   ]
  },
  {
   "cell_type": "code",
   "execution_count": 129,
   "id": "dd0a4471-a643-457e-b24d-4c65b454b114",
   "metadata": {},
   "outputs": [
    {
     "name": "stdout",
     "output_type": "stream",
     "text": [
      "0 a\n",
      "1 b\n",
      "2 c\n"
     ]
    }
   ],
   "source": [
    "for i,s in enumerate('abc'):\n",
    "    print(i,s)"
   ]
  },
  {
   "cell_type": "markdown",
   "id": "9987a3e6-6092-4af6-b45b-0bff3bac15ac",
   "metadata": {},
   "source": [
    "`-` `enumerate('abc')`도 문법상 iterable object 아니면 iterator 임."
   ]
  },
  {
   "cell_type": "code",
   "execution_count": 130,
   "id": "3f37cf2b-31bc-4732-88ec-00c0712b227a",
   "metadata": {},
   "outputs": [
    {
     "data": {
      "text/plain": [
       "{'__iter__', '__next__'}"
      ]
     },
     "execution_count": 130,
     "metadata": {},
     "output_type": "execute_result"
    }
   ],
   "source": [
    "set(dir(enumerate('abc'))) & {'__iter__', '__next__'}"
   ]
  },
  {
   "cell_type": "markdown",
   "id": "69b4c9a9-1c58-487a-b4be-332193d58da6",
   "metadata": {},
   "source": [
    "- iterator 였군 "
   ]
  },
  {
   "cell_type": "code",
   "execution_count": 131,
   "id": "7a0aecad-2e5b-497f-bc50-3865f3764257",
   "metadata": {},
   "outputs": [],
   "source": [
    "iterator = enumerate('abc')"
   ]
  },
  {
   "cell_type": "code",
   "execution_count": 132,
   "id": "7fde70d4-2157-479f-a5bd-9275945b4218",
   "metadata": {},
   "outputs": [
    {
     "data": {
      "text/plain": [
       "(0, 'a')"
      ]
     },
     "execution_count": 132,
     "metadata": {},
     "output_type": "execute_result"
    }
   ],
   "source": [
    "next(iterator)"
   ]
  },
  {
   "cell_type": "code",
   "execution_count": 133,
   "id": "8963f8bc-8836-4eaf-a219-1ce09ecdaeb4",
   "metadata": {},
   "outputs": [
    {
     "data": {
      "text/plain": [
       "(1, 'b')"
      ]
     },
     "execution_count": 133,
     "metadata": {},
     "output_type": "execute_result"
    }
   ],
   "source": [
    "next(iterator)"
   ]
  },
  {
   "cell_type": "code",
   "execution_count": 134,
   "id": "615973c0-1882-47bb-ad1a-2d367fe5a404",
   "metadata": {},
   "outputs": [
    {
     "data": {
      "text/plain": [
       "(2, 'c')"
      ]
     },
     "execution_count": 134,
     "metadata": {},
     "output_type": "execute_result"
    }
   ],
   "source": [
    "next(iterator)"
   ]
  },
  {
   "cell_type": "code",
   "execution_count": 135,
   "id": "8678ca9b-9d77-4434-8e41-2084dd597c95",
   "metadata": {},
   "outputs": [
    {
     "ename": "StopIteration",
     "evalue": "",
     "output_type": "error",
     "traceback": [
      "\u001b[0;31m---------------------------------------------------------------------------\u001b[0m",
      "\u001b[0;31mStopIteration\u001b[0m                             Traceback (most recent call last)",
      "Cell \u001b[0;32mIn[135], line 1\u001b[0m\n\u001b[0;32m----> 1\u001b[0m \u001b[38;5;28;43mnext\u001b[39;49m\u001b[43m(\u001b[49m\u001b[43miterator\u001b[49m\u001b[43m)\u001b[49m\n",
      "\u001b[0;31mStopIteration\u001b[0m: "
     ]
    }
   ],
   "source": [
    "next(iterator)"
   ]
  },
  {
   "cell_type": "markdown",
   "id": "99f4d059-aefb-4b0b-9407-3e618ebbab1e",
   "metadata": {},
   "source": [
    "`-` 참고: enumerate 는 클래스임 "
   ]
  },
  {
   "cell_type": "code",
   "execution_count": 136,
   "id": "0df4d6ff-6bbc-42d4-8f45-f013e6a831b7",
   "metadata": {},
   "outputs": [
    {
     "data": {
      "text/plain": [
       "\u001b[0;31mInit signature:\u001b[0m \u001b[0menumerate\u001b[0m\u001b[0;34m(\u001b[0m\u001b[0miterable\u001b[0m\u001b[0;34m,\u001b[0m \u001b[0mstart\u001b[0m\u001b[0;34m=\u001b[0m\u001b[0;36m0\u001b[0m\u001b[0;34m)\u001b[0m\u001b[0;34m\u001b[0m\u001b[0;34m\u001b[0m\u001b[0m\n",
       "\u001b[0;31mDocstring:\u001b[0m     \n",
       "Return an enumerate object.\n",
       "\n",
       "  iterable\n",
       "    an object supporting iteration\n",
       "\n",
       "The enumerate object yields pairs containing a count (from start, which\n",
       "defaults to zero) and a value yielded by the iterable argument.\n",
       "\n",
       "enumerate is useful for obtaining an indexed list:\n",
       "    (0, seq[0]), (1, seq[1]), (2, seq[2]), ...\n",
       "\u001b[0;31mType:\u001b[0m           type\n",
       "\u001b[0;31mSubclasses:\u001b[0m     "
      ]
     },
     "metadata": {},
     "output_type": "display_data"
    }
   ],
   "source": [
    "enumerate?"
   ]
  },
  {
   "cell_type": "markdown",
   "id": "ccc8b71d-a127-488a-9829-3a3f8f2a1e3a",
   "metadata": {},
   "source": [
    "> 파이썬의 작은 비밀: enumerate 역시 iterator를 찍어내는 클래스다. "
   ]
  },
  {
   "cell_type": "markdown",
   "id": "f87a2b9d-83e8-4482-af28-82fb31b81f58",
   "metadata": {},
   "source": [
    "> 파이썬의 비밀12: iterator나 iterable object만 for문과 함께 사용할 수 있다. "
   ]
  },
  {
   "cell_type": "markdown",
   "id": "843ab878-59e8-4a36-b92d-c1c61e41cfea",
   "metadata": {
    "tags": []
   },
   "source": [
    "## 비밀을 알아서 좋은점"
   ]
  },
  {
   "cell_type": "markdown",
   "id": "bcbe7344-d353-4948-afeb-408fb4b7eaaa",
   "metadata": {},
   "source": [
    "### ***파이썬의 에러메시지 이해***"
   ]
  },
  {
   "cell_type": "markdown",
   "id": "3c525ff1-2c7a-4788-ab0a-8fa9fee3cf57",
   "metadata": {},
   "source": [
    "`TypeError`: 타입이 맞지 않는 연산을 수행하려고 할 때 발생. 예를 들어, 숫자와 문자열을 더하려고 할 때 발생."
   ]
  },
  {
   "cell_type": "code",
   "execution_count": 25,
   "id": "381349be-dd27-42e0-88de-115ab7bfe2c2",
   "metadata": {},
   "outputs": [
    {
     "ename": "TypeError",
     "evalue": "unsupported operand type(s) for +: 'int' and 'str'",
     "output_type": "error",
     "traceback": [
      "\u001b[0;31m---------------------------------------------------------------------------\u001b[0m",
      "\u001b[0;31mTypeError\u001b[0m                                 Traceback (most recent call last)",
      "Cell \u001b[0;32mIn[25], line 1\u001b[0m\n\u001b[0;32m----> 1\u001b[0m result \u001b[38;5;241m=\u001b[39m \u001b[38;5;241;43m10\u001b[39;49m\u001b[43m \u001b[49m\u001b[38;5;241;43m+\u001b[39;49m\u001b[43m \u001b[49m\u001b[38;5;124;43m\"\u001b[39;49m\u001b[38;5;124;43m20\u001b[39;49m\u001b[38;5;124;43m\"\u001b[39;49m  \u001b[38;5;66;03m# TypeError: unsupported operand type(s) for +: 'int' and 'str'\u001b[39;00m\n",
      "\u001b[0;31mTypeError\u001b[0m: unsupported operand type(s) for +: 'int' and 'str'"
     ]
    }
   ],
   "source": [
    "result = 10 + \"20\"  # TypeError: unsupported operand type(s) for +: 'int' and 'str'"
   ]
  },
  {
   "cell_type": "markdown",
   "id": "092c582e-fef8-4c39-946d-f6d7e3b292d0",
   "metadata": {},
   "source": [
    "`SyntaxError`: 코드의 구문이 잘못되었을 때 발생. 주로 오타, 괄호 불일치, 콜론(:) 빠뜨림 등의 문제로 인해 발생."
   ]
  },
  {
   "cell_type": "code",
   "execution_count": 23,
   "id": "1c3866b8-1eed-443b-8db9-513cabe8177e",
   "metadata": {},
   "outputs": [
    {
     "ename": "SyntaxError",
     "evalue": "invalid syntax (<ipython-input-23-5259b3c47c58>, line 1)",
     "output_type": "error",
     "traceback": [
      "\u001b[0;36m  Cell \u001b[0;32mIn[23], line 1\u001b[0;36m\u001b[0m\n\u001b[0;31m    if x == 5\u001b[0m\n\u001b[0m             ^\u001b[0m\n\u001b[0;31mSyntaxError\u001b[0m\u001b[0;31m:\u001b[0m invalid syntax\n"
     ]
    }
   ],
   "source": [
    "if x == 5\n",
    "    print(\"x is equal to 5\")  # SyntaxError: invalid syntax"
   ]
  },
  {
   "cell_type": "markdown",
   "id": "d6d5dfe8-cc6e-41d6-a689-166a07628e4f",
   "metadata": {},
   "source": [
    "`NameError`: 정의되지 않은 변수나 함수를 사용하려고 할 때 발생."
   ]
  },
  {
   "cell_type": "code",
   "execution_count": 24,
   "id": "09d96f74-5c42-490c-9c38-20c9c587eee1",
   "metadata": {},
   "outputs": [
    {
     "ename": "NameError",
     "evalue": "name 'unknown_variable' is not defined",
     "output_type": "error",
     "traceback": [
      "\u001b[0;31m---------------------------------------------------------------------------\u001b[0m",
      "\u001b[0;31mNameError\u001b[0m                                 Traceback (most recent call last)",
      "Cell \u001b[0;32mIn[24], line 1\u001b[0m\n\u001b[0;32m----> 1\u001b[0m \u001b[38;5;28mprint\u001b[39m(\u001b[43munknown_variable\u001b[49m)  \u001b[38;5;66;03m# NameError: name 'unknown_variable' is not defined\u001b[39;00m\n",
      "\u001b[0;31mNameError\u001b[0m: name 'unknown_variable' is not defined"
     ]
    }
   ],
   "source": [
    "print(unknown_variable)  # NameError: name 'unknown_variable' is not defined"
   ]
  },
  {
   "cell_type": "markdown",
   "id": "abf402f3-bceb-4a98-ba47-88f6e8b604e5",
   "metadata": {},
   "source": [
    "`ValueError`: 함수나 메서드에 전달되는 인자의 값이 올바르지 않을 때 발생. "
   ]
  },
  {
   "cell_type": "code",
   "execution_count": 31,
   "id": "6a7636ea-5b3e-4947-b4b1-3d538ac5f73b",
   "metadata": {},
   "outputs": [
    {
     "ename": "ValueError",
     "evalue": "invalid literal for int() with base 10: 'abc'",
     "output_type": "error",
     "traceback": [
      "\u001b[0;31m---------------------------------------------------------------------------\u001b[0m",
      "\u001b[0;31mValueError\u001b[0m                                Traceback (most recent call last)",
      "Cell \u001b[0;32mIn[31], line 1\u001b[0m\n\u001b[0;32m----> 1\u001b[0m int_value \u001b[38;5;241m=\u001b[39m \u001b[38;5;28;43mint\u001b[39;49m\u001b[43m(\u001b[49m\u001b[38;5;124;43m\"\u001b[39;49m\u001b[38;5;124;43mabc\u001b[39;49m\u001b[38;5;124;43m\"\u001b[39;49m\u001b[43m)\u001b[49m  \u001b[38;5;66;03m# ValueError: invalid literal for int() with base 10: 'abc'\u001b[39;00m\n",
      "\u001b[0;31mValueError\u001b[0m: invalid literal for int() with base 10: 'abc'"
     ]
    }
   ],
   "source": [
    "int_value = int(\"abc\")  # ValueError: invalid literal for int() with base 10: 'abc'"
   ]
  },
  {
   "cell_type": "markdown",
   "id": "6efb5e09-8957-4d78-9b75-9c46201191eb",
   "metadata": {},
   "source": [
    "`AttributeError`: 객체가 속성(attribute)이나 메서드(method)를 가지고 있지 않을 때 발생"
   ]
  },
  {
   "cell_type": "code",
   "execution_count": 32,
   "id": "a518b251-f7b6-4482-80bc-e7e00175d731",
   "metadata": {},
   "outputs": [
    {
     "ename": "AttributeError",
     "evalue": "'list' object has no attribute 'upper'",
     "output_type": "error",
     "traceback": [
      "\u001b[0;31m---------------------------------------------------------------------------\u001b[0m",
      "\u001b[0;31mAttributeError\u001b[0m                            Traceback (most recent call last)",
      "Cell \u001b[0;32mIn[32], line 3\u001b[0m\n\u001b[1;32m      1\u001b[0m my_list \u001b[38;5;241m=\u001b[39m [\u001b[38;5;241m1\u001b[39m, \u001b[38;5;241m2\u001b[39m, \u001b[38;5;241m3\u001b[39m]\n\u001b[1;32m      2\u001b[0m my_list\u001b[38;5;241m.\u001b[39mappend(\u001b[38;5;241m4\u001b[39m)\n\u001b[0;32m----> 3\u001b[0m \u001b[43mmy_list\u001b[49m\u001b[38;5;241;43m.\u001b[39;49m\u001b[43mupper\u001b[49m()  \u001b[38;5;66;03m# AttributeError: 'list' object has no attribute 'upper'\u001b[39;00m\n",
      "\u001b[0;31mAttributeError\u001b[0m: 'list' object has no attribute 'upper'"
     ]
    }
   ],
   "source": [
    "my_list = [1, 2, 3]\n",
    "my_list.append(4)\n",
    "my_list.upper()  # AttributeError: 'list' object has no attribute 'upper'"
   ]
  },
  {
   "cell_type": "markdown",
   "id": "bf313aca-d27d-47dc-99d5-31d979b0fc49",
   "metadata": {},
   "source": [
    "`ImportError`: 모듈을 임포트하는 과정에서 문제가 발생할 때 발생. 임포트하려는 모듈이 존재하지 않거나, 임포트 경로 설정이 잘못된 경우에 해당."
   ]
  },
  {
   "cell_type": "code",
   "execution_count": 33,
   "id": "26d3f7d9-5848-446d-b21d-0899ba8ae378",
   "metadata": {},
   "outputs": [
    {
     "ename": "ModuleNotFoundError",
     "evalue": "No module named 'non_existent_module'",
     "output_type": "error",
     "traceback": [
      "\u001b[0;31m---------------------------------------------------------------------------\u001b[0m",
      "\u001b[0;31mModuleNotFoundError\u001b[0m                       Traceback (most recent call last)",
      "Cell \u001b[0;32mIn[33], line 1\u001b[0m\n\u001b[0;32m----> 1\u001b[0m \u001b[38;5;28;01mimport\u001b[39;00m \u001b[38;5;21;01mnon_existent_module\u001b[39;00m  \u001b[38;5;66;03m# ImportError: No module named 'non_existent_module'\u001b[39;00m\n",
      "\u001b[0;31mModuleNotFoundError\u001b[0m: No module named 'non_existent_module'"
     ]
    }
   ],
   "source": [
    "import non_existent_module  # ImportError: No module named 'non_existent_module'"
   ]
  },
  {
   "cell_type": "markdown",
   "id": "eac8a083-ae98-454f-9048-3cba701b21cb",
   "metadata": {},
   "source": [
    "`IOError`: 파일 입출력 작업 중에 발생하는 에러. 파일이 존재하지 않거나, 파일에 쓰기 권한이 없는 경우 등에 해당."
   ]
  },
  {
   "cell_type": "code",
   "execution_count": 34,
   "id": "50ea1825-86e9-44e8-9167-003735a2b3e2",
   "metadata": {},
   "outputs": [
    {
     "ename": "FileNotFoundError",
     "evalue": "[Errno 2] No such file or directory: 'file.txt'",
     "output_type": "error",
     "traceback": [
      "\u001b[0;31m---------------------------------------------------------------------------\u001b[0m",
      "\u001b[0;31mFileNotFoundError\u001b[0m                         Traceback (most recent call last)",
      "Cell \u001b[0;32mIn[34], line 1\u001b[0m\n\u001b[0;32m----> 1\u001b[0m file \u001b[38;5;241m=\u001b[39m \u001b[38;5;28;43mopen\u001b[39;49m\u001b[43m(\u001b[49m\u001b[38;5;124;43m'\u001b[39;49m\u001b[38;5;124;43mfile.txt\u001b[39;49m\u001b[38;5;124;43m'\u001b[39;49m\u001b[43m,\u001b[49m\u001b[43m \u001b[49m\u001b[38;5;124;43m'\u001b[39;49m\u001b[38;5;124;43mr\u001b[39;49m\u001b[38;5;124;43m'\u001b[39;49m\u001b[43m)\u001b[49m  \u001b[38;5;66;03m# IOError: [Errno 2] No such file or directory: 'file.txt'\u001b[39;00m\n",
      "File \u001b[0;32m~/anaconda3/envs/py38/lib/python3.8/site-packages/IPython/core/interactiveshell.py:284\u001b[0m, in \u001b[0;36m_modified_open\u001b[0;34m(file, *args, **kwargs)\u001b[0m\n\u001b[1;32m    277\u001b[0m \u001b[38;5;28;01mif\u001b[39;00m file \u001b[38;5;129;01min\u001b[39;00m {\u001b[38;5;241m0\u001b[39m, \u001b[38;5;241m1\u001b[39m, \u001b[38;5;241m2\u001b[39m}:\n\u001b[1;32m    278\u001b[0m     \u001b[38;5;28;01mraise\u001b[39;00m \u001b[38;5;167;01mValueError\u001b[39;00m(\n\u001b[1;32m    279\u001b[0m         \u001b[38;5;124mf\u001b[39m\u001b[38;5;124m\"\u001b[39m\u001b[38;5;124mIPython won\u001b[39m\u001b[38;5;124m'\u001b[39m\u001b[38;5;124mt let you open fd=\u001b[39m\u001b[38;5;132;01m{\u001b[39;00mfile\u001b[38;5;132;01m}\u001b[39;00m\u001b[38;5;124m by default \u001b[39m\u001b[38;5;124m\"\u001b[39m\n\u001b[1;32m    280\u001b[0m         \u001b[38;5;124m\"\u001b[39m\u001b[38;5;124mas it is likely to crash IPython. If you know what you are doing, \u001b[39m\u001b[38;5;124m\"\u001b[39m\n\u001b[1;32m    281\u001b[0m         \u001b[38;5;124m\"\u001b[39m\u001b[38;5;124myou can use builtins\u001b[39m\u001b[38;5;124m'\u001b[39m\u001b[38;5;124m open.\u001b[39m\u001b[38;5;124m\"\u001b[39m\n\u001b[1;32m    282\u001b[0m     )\n\u001b[0;32m--> 284\u001b[0m \u001b[38;5;28;01mreturn\u001b[39;00m \u001b[43mio_open\u001b[49m\u001b[43m(\u001b[49m\u001b[43mfile\u001b[49m\u001b[43m,\u001b[49m\u001b[43m \u001b[49m\u001b[38;5;241;43m*\u001b[39;49m\u001b[43margs\u001b[49m\u001b[43m,\u001b[49m\u001b[43m \u001b[49m\u001b[38;5;241;43m*\u001b[39;49m\u001b[38;5;241;43m*\u001b[39;49m\u001b[43mkwargs\u001b[49m\u001b[43m)\u001b[49m\n",
      "\u001b[0;31mFileNotFoundError\u001b[0m: [Errno 2] No such file or directory: 'file.txt'"
     ]
    }
   ],
   "source": [
    "file = open('file.txt', 'r')  # IOError: [Errno 2] No such file or directory: 'file.txt'"
   ]
  },
  {
   "cell_type": "markdown",
   "id": "d6667c56-ac2b-47be-b55b-d34ed587ab14",
   "metadata": {},
   "source": [
    "`KeyboardInterrupt`: 사용자가 프로그램의 실행을 중단할 때 발생."
   ]
  },
  {
   "cell_type": "code",
   "execution_count": 137,
   "id": "e66466d3-cbfe-4b25-81db-b38f66026423",
   "metadata": {},
   "outputs": [
    {
     "ename": "KeyboardInterrupt",
     "evalue": "",
     "output_type": "error",
     "traceback": [
      "\u001b[0;31m---------------------------------------------------------------------------\u001b[0m",
      "\u001b[0;31mKeyboardInterrupt\u001b[0m                         Traceback (most recent call last)",
      "Cell \u001b[0;32mIn[137], line 2\u001b[0m\n\u001b[1;32m      1\u001b[0m \u001b[38;5;28;01mwhile\u001b[39;00m \u001b[38;5;28;01mTrue\u001b[39;00m:\n\u001b[0;32m----> 2\u001b[0m     \u001b[38;5;28;01mpass\u001b[39;00m  \u001b[38;5;66;03m# 무한 루프\u001b[39;00m\n\u001b[1;32m      3\u001b[0m \u001b[38;5;66;03m# KeyboardInterrupt: \u001b[39;00m\n",
      "\u001b[0;31mKeyboardInterrupt\u001b[0m: "
     ]
    }
   ],
   "source": [
    "while True:\n",
    "    pass  # 무한 루프\n",
    "# KeyboardInterrupt: \n"
   ]
  },
  {
   "cell_type": "markdown",
   "id": "726dff26-febd-40ea-b684-c3707a2b22a3",
   "metadata": {},
   "source": [
    "`IndexError`: 유효하지 않은 인덱스를 사용하여 시퀀스(리스트, 튜플, 문자열 등)의 요소에 접근하려고 할 때 발생."
   ]
  },
  {
   "cell_type": "code",
   "execution_count": 27,
   "id": "2e5de641-9383-44f6-ab8f-9c0c96a166aa",
   "metadata": {},
   "outputs": [
    {
     "ename": "IndexError",
     "evalue": "list index out of range",
     "output_type": "error",
     "traceback": [
      "\u001b[0;31m---------------------------------------------------------------------------\u001b[0m",
      "\u001b[0;31mIndexError\u001b[0m                                Traceback (most recent call last)",
      "Cell \u001b[0;32mIn[27], line 2\u001b[0m\n\u001b[1;32m      1\u001b[0m my_list \u001b[38;5;241m=\u001b[39m [\u001b[38;5;241m1\u001b[39m, \u001b[38;5;241m2\u001b[39m, \u001b[38;5;241m3\u001b[39m]\n\u001b[0;32m----> 2\u001b[0m \u001b[38;5;28mprint\u001b[39m(\u001b[43mmy_list\u001b[49m\u001b[43m[\u001b[49m\u001b[38;5;241;43m5\u001b[39;49m\u001b[43m]\u001b[49m)  \u001b[38;5;66;03m# IndexError: list index out of range\u001b[39;00m\n",
      "\u001b[0;31mIndexError\u001b[0m: list index out of range"
     ]
    }
   ],
   "source": [
    "my_list = [1, 2, 3]\n",
    "print(my_list[5])  # IndexError: list index out of range"
   ]
  },
  {
   "cell_type": "markdown",
   "id": "53a5f614-7d6d-4dfe-9dcf-2585bb29318e",
   "metadata": {},
   "source": [
    "`KeyError`: 딕셔너리에서 존재하지 않는 키를 사용하여 요소에 접근하려고 할 때 발생."
   ]
  },
  {
   "cell_type": "code",
   "execution_count": 28,
   "id": "be04a2fc-ef62-4b60-85ea-ab4062f28ffa",
   "metadata": {},
   "outputs": [
    {
     "ename": "KeyError",
     "evalue": "'address'",
     "output_type": "error",
     "traceback": [
      "\u001b[0;31m---------------------------------------------------------------------------\u001b[0m",
      "\u001b[0;31mKeyError\u001b[0m                                  Traceback (most recent call last)",
      "Cell \u001b[0;32mIn[28], line 2\u001b[0m\n\u001b[1;32m      1\u001b[0m my_dict \u001b[38;5;241m=\u001b[39m {\u001b[38;5;124m'\u001b[39m\u001b[38;5;124mname\u001b[39m\u001b[38;5;124m'\u001b[39m: \u001b[38;5;124m'\u001b[39m\u001b[38;5;124mJohn\u001b[39m\u001b[38;5;124m'\u001b[39m, \u001b[38;5;124m'\u001b[39m\u001b[38;5;124mage\u001b[39m\u001b[38;5;124m'\u001b[39m: \u001b[38;5;241m25\u001b[39m}\n\u001b[0;32m----> 2\u001b[0m \u001b[38;5;28mprint\u001b[39m(\u001b[43mmy_dict\u001b[49m\u001b[43m[\u001b[49m\u001b[38;5;124;43m'\u001b[39;49m\u001b[38;5;124;43maddress\u001b[39;49m\u001b[38;5;124;43m'\u001b[39;49m\u001b[43m]\u001b[49m)  \u001b[38;5;66;03m# KeyError: 'address'\u001b[39;00m\n",
      "\u001b[0;31mKeyError\u001b[0m: 'address'"
     ]
    }
   ],
   "source": [
    "my_dict = {'name': 'John', 'age': 25}\n",
    "print(my_dict['address'])  # KeyError: 'address'"
   ]
  },
  {
   "cell_type": "markdown",
   "id": "12b8446a-b595-4f8e-bfc5-896042f95957",
   "metadata": {},
   "source": [
    "`FileNotFoundError`: 존재하지 않는 파일을 열려고 할 때 발생."
   ]
  },
  {
   "cell_type": "code",
   "execution_count": 29,
   "id": "efda775f-2532-4bd9-8539-7e93d0a1fd42",
   "metadata": {},
   "outputs": [
    {
     "ename": "FileNotFoundError",
     "evalue": "[Errno 2] No such file or directory: 'nonexistent_file.txt'",
     "output_type": "error",
     "traceback": [
      "\u001b[0;31m---------------------------------------------------------------------------\u001b[0m",
      "\u001b[0;31mFileNotFoundError\u001b[0m                         Traceback (most recent call last)",
      "Cell \u001b[0;32mIn[29], line 1\u001b[0m\n\u001b[0;32m----> 1\u001b[0m file \u001b[38;5;241m=\u001b[39m \u001b[38;5;28;43mopen\u001b[39;49m\u001b[43m(\u001b[49m\u001b[38;5;124;43m'\u001b[39;49m\u001b[38;5;124;43mnonexistent_file.txt\u001b[39;49m\u001b[38;5;124;43m'\u001b[39;49m\u001b[43m)\u001b[49m  \u001b[38;5;66;03m# FileNotFoundError: [Errno 2] No such file or directory: 'nonexistent_file.txt'\u001b[39;00m\n",
      "File \u001b[0;32m~/anaconda3/envs/py38/lib/python3.8/site-packages/IPython/core/interactiveshell.py:284\u001b[0m, in \u001b[0;36m_modified_open\u001b[0;34m(file, *args, **kwargs)\u001b[0m\n\u001b[1;32m    277\u001b[0m \u001b[38;5;28;01mif\u001b[39;00m file \u001b[38;5;129;01min\u001b[39;00m {\u001b[38;5;241m0\u001b[39m, \u001b[38;5;241m1\u001b[39m, \u001b[38;5;241m2\u001b[39m}:\n\u001b[1;32m    278\u001b[0m     \u001b[38;5;28;01mraise\u001b[39;00m \u001b[38;5;167;01mValueError\u001b[39;00m(\n\u001b[1;32m    279\u001b[0m         \u001b[38;5;124mf\u001b[39m\u001b[38;5;124m\"\u001b[39m\u001b[38;5;124mIPython won\u001b[39m\u001b[38;5;124m'\u001b[39m\u001b[38;5;124mt let you open fd=\u001b[39m\u001b[38;5;132;01m{\u001b[39;00mfile\u001b[38;5;132;01m}\u001b[39;00m\u001b[38;5;124m by default \u001b[39m\u001b[38;5;124m\"\u001b[39m\n\u001b[1;32m    280\u001b[0m         \u001b[38;5;124m\"\u001b[39m\u001b[38;5;124mas it is likely to crash IPython. If you know what you are doing, \u001b[39m\u001b[38;5;124m\"\u001b[39m\n\u001b[1;32m    281\u001b[0m         \u001b[38;5;124m\"\u001b[39m\u001b[38;5;124myou can use builtins\u001b[39m\u001b[38;5;124m'\u001b[39m\u001b[38;5;124m open.\u001b[39m\u001b[38;5;124m\"\u001b[39m\n\u001b[1;32m    282\u001b[0m     )\n\u001b[0;32m--> 284\u001b[0m \u001b[38;5;28;01mreturn\u001b[39;00m \u001b[43mio_open\u001b[49m\u001b[43m(\u001b[49m\u001b[43mfile\u001b[49m\u001b[43m,\u001b[49m\u001b[43m \u001b[49m\u001b[38;5;241;43m*\u001b[39;49m\u001b[43margs\u001b[49m\u001b[43m,\u001b[49m\u001b[43m \u001b[49m\u001b[38;5;241;43m*\u001b[39;49m\u001b[38;5;241;43m*\u001b[39;49m\u001b[43mkwargs\u001b[49m\u001b[43m)\u001b[49m\n",
      "\u001b[0;31mFileNotFoundError\u001b[0m: [Errno 2] No such file or directory: 'nonexistent_file.txt'"
     ]
    }
   ],
   "source": [
    "file = open('nonexistent_file.txt')  # FileNotFoundError: [Errno 2] No such file or directory: 'nonexistent_file.txt'"
   ]
  },
  {
   "cell_type": "markdown",
   "id": "5d4e1d23-7139-4142-89cd-510c23c62b54",
   "metadata": {},
   "source": [
    "`ZeroDivisionError`: 0으로 나누기 연산을 수행하려고 할 때 발생."
   ]
  },
  {
   "cell_type": "code",
   "execution_count": 30,
   "id": "bfb2b66c-ced4-4b84-b688-62e8770389f0",
   "metadata": {},
   "outputs": [
    {
     "ename": "ZeroDivisionError",
     "evalue": "division by zero",
     "output_type": "error",
     "traceback": [
      "\u001b[0;31m---------------------------------------------------------------------------\u001b[0m",
      "\u001b[0;31mZeroDivisionError\u001b[0m                         Traceback (most recent call last)",
      "Cell \u001b[0;32mIn[30], line 1\u001b[0m\n\u001b[0;32m----> 1\u001b[0m result \u001b[38;5;241m=\u001b[39m \u001b[38;5;241;43m10\u001b[39;49m\u001b[43m \u001b[49m\u001b[38;5;241;43m/\u001b[39;49m\u001b[43m \u001b[49m\u001b[38;5;241;43m0\u001b[39;49m  \u001b[38;5;66;03m# ZeroDivisionError: division by zero\u001b[39;00m\n",
      "\u001b[0;31mZeroDivisionError\u001b[0m: division by zero"
     ]
    }
   ],
   "source": [
    "result = 10 / 0  # ZeroDivisionError: division by zero"
   ]
  },
  {
   "cell_type": "markdown",
   "id": "720abbc9-e041-44e7-8120-b20a236ed29a",
   "metadata": {},
   "source": [
    "### ***`TypeError`에 대한 심층분석***"
   ]
  },
  {
   "cell_type": "markdown",
   "id": "ce25c7d9-04fc-46c5-9a84-ddd89f24589c",
   "metadata": {},
   "source": [
    "`-` `.__add__` 가 올바르게 정의되지 않아서 생기는 경우"
   ]
  },
  {
   "cell_type": "markdown",
   "id": "cfa1e262-bbb9-47aa-a59f-bb7939dd7258",
   "metadata": {},
   "source": [
    "```\n",
    "---------------------------------------------------------------------------\n",
    "TypeError                                 Traceback (most recent call last)\n",
    "Cell In[37], line 1\n",
    "----> 1 boram + '등록'+ '휴학' + '등록' + '휴학'\n",
    "\n",
    "TypeError: unsupported operand type(s) for +: 'NoneType' and 'str'\n",
    "```"
   ]
  },
  {
   "cell_type": "markdown",
   "id": "7789d9d3-275f-4346-b4c9-006fd2e7556e",
   "metadata": {},
   "source": [
    "`-` `.__getitem__`이 정의되지 않은 오브젝트에서 인덱싱을 시도할때 생기는 오류 "
   ]
  },
  {
   "cell_type": "markdown",
   "id": "9ebb0ed2-a61f-4a7a-aa43-e871a5a2ca2d",
   "metadata": {},
   "source": [
    "```\n",
    "---------------------------------------------------------------------------\n",
    "TypeError                                 Traceback (most recent call last)\n",
    "Cell In[57], line 1\n",
    "----> 1 a[0], a[1]\n",
    "\n",
    "TypeError: 'RPS' object is not subscriptable\n",
    "```"
   ]
  },
  {
   "cell_type": "markdown",
   "id": "13859990-0eed-4034-a3c6-7a269b9fd05a",
   "metadata": {},
   "source": [
    "`-` `.__setitem__`이 정의되지 않은 오브젝트에서 할당을 시도할때 생기는 오류 "
   ]
  },
  {
   "cell_type": "markdown",
   "id": "db0b424e-3e87-4fbd-abec-82fb73843e36",
   "metadata": {},
   "source": [
    "```\n",
    "---------------------------------------------------------------------------\n",
    "TypeError                                 Traceback (most recent call last)\n",
    "Cell In[77], line 1\n",
    "----> 1 a[0] = '보' \n",
    "\n",
    "TypeError: 'RPS_Ver2' object does not support item assignment\n",
    "```"
   ]
  },
  {
   "cell_type": "markdown",
   "id": "7d952dce-6ddf-4200-b0e1-294b78d7a887",
   "metadata": {},
   "source": [
    "`-` `.__len__` 이 정의되지 않은 오브젝트에서 len을 이용할때 생기는 오류 "
   ]
  },
  {
   "cell_type": "markdown",
   "id": "09560a46-1807-4e72-b764-b18e424405f9",
   "metadata": {},
   "source": [
    "```\n",
    "---------------------------------------------------------------------------\n",
    "TypeError                                 Traceback (most recent call last)\n",
    "Cell In[122], line 1\n",
    "----> 1 len(a)\n",
    "\n",
    "TypeError: object of type 'RPS_Ver3' has no len()\n",
    "\n",
    "```"
   ]
  },
  {
   "cell_type": "markdown",
   "id": "95e7aa4a-85f1-4c0a-9eb2-4ddccb15d0a0",
   "metadata": {},
   "source": [
    "`-` `.__call__`이 정의되지 않은 오브젝트를 함수처럼 이용하려 할때 생기는 오류 "
   ]
  },
  {
   "cell_type": "markdown",
   "id": "afeaab09-6ae0-4cd5-90ac-76d0f9fbeb83",
   "metadata": {},
   "source": [
    "```\n",
    "---------------------------------------------------------------------------\n",
    "TypeError                                 Traceback (most recent call last)\n",
    "Cell In[402], line 1\n",
    "----> 1 a()\n",
    "\n",
    "TypeError: 'Klass' object is not callable\n",
    "```"
   ]
  },
  {
   "cell_type": "markdown",
   "id": "fc16717b-1949-4026-8896-8971550af52c",
   "metadata": {},
   "source": [
    "`-` `.__iter__`가 정의되지 않은 오브젝트를 iterable 오브젝트처럼 사용하려 할때 생기는 오류"
   ]
  },
  {
   "cell_type": "markdown",
   "id": "3db44ce5-9f0d-4c28-b459-c7f779c88049",
   "metadata": {},
   "source": [
    "```\n",
    "---------------------------------------------------------------------------\n",
    "TypeError                                 Traceback (most recent call last)\n",
    "Cell In[422], line 2\n",
    "      1 a=5 \n",
    "----> 2 for i in a:\n",
    "      3     print(i) \n",
    "\n",
    "TypeError: 'int' object is not iterable\n",
    "```"
   ]
  }
 ],
 "metadata": {
  "kernelspec": {
   "display_name": "Python 3",
   "language": "python",
   "name": "python3"
  },
  "language_info": {
   "codemirror_mode": {
    "name": "ipython",
    "version": 3
   },
   "file_extension": ".py",
   "mimetype": "text/x-python",
   "name": "python",
   "nbconvert_exporter": "python",
   "pygments_lexer": "ipython3",
   "version": "3.8.16"
  }
 },
 "nbformat": 4,
 "nbformat_minor": 5
}
