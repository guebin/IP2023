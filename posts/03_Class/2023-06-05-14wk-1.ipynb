{
 "cells": [
  {
   "cell_type": "raw",
   "id": "a1528b7b-1d00-4bcd-bdd4-490ab2e6d884",
   "metadata": {},
   "source": [
    "---\n",
    "title: \"14wk-1: 클래스공부 4단계 -- 파이썬의 비밀들 (2)\"\n",
    "author: \"최규빈\"\n",
    "date: \"06/05/2023\"\n",
    "---"
   ]
  },
  {
   "cell_type": "markdown",
   "id": "d9716751-195a-4265-8977-8dafb04c3abe",
   "metadata": {},
   "source": [
    "<a href=\"https://colab.research.google.com/github/guebin/PP2023/blob/main/posts/03_Class/2023-06-05-14wk-1.ipynb\"><img src=\"https://colab.research.google.com/assets/colab-badge.svg\" style=\"text-align: left\"></a>"
   ]
  },
  {
   "cell_type": "markdown",
   "id": "f92ec288-47f6-48e5-90e1-a487cbbe0775",
   "metadata": {},
   "source": [
    "# 그동안의 비밀 "
   ]
  },
  {
   "cell_type": "markdown",
   "id": "0056ab93-9529-49c2-9ed0-3b32a1db009b",
   "metadata": {},
   "source": [
    "`-` 비밀1: 자료형에 대한 비밀\n",
    "\n",
    "`-` 비밀2: `__init__`\n",
    "\n",
    "`-` 비밀3: `__str__`\n",
    "\n",
    "`-` 비밀4: `__repr__`\n",
    "\n",
    "`-` 비밀5: `_repr_html_`"
   ]
  },
  {
   "cell_type": "markdown",
   "id": "57f5345c-1a57-495c-8730-19fc92f4af3d",
   "metadata": {},
   "source": [
    "# 클래스공부 4단계: 파이썬의 비밀 (cont)"
   ]
  },
  {
   "cell_type": "code",
   "execution_count": null,
   "id": "d494404e-4b1b-44e6-b393-41c459b3e428",
   "metadata": {},
   "outputs": [],
   "source": [
    "`-` r"
   ]
  },
  {
   "cell_type": "code",
   "execution_count": null,
   "id": "6075ce24-42f3-4a60-8b5f-2cb08b72bc91",
   "metadata": {},
   "outputs": [],
   "source": [
    "## 비밀6: "
   ]
  }
 ],
 "metadata": {
  "kernelspec": {
   "display_name": "Python 3",
   "language": "python",
   "name": "python3"
  },
  "language_info": {
   "codemirror_mode": {
    "name": "ipython",
    "version": 3
   },
   "file_extension": ".py",
   "mimetype": "text/x-python",
   "name": "python",
   "nbconvert_exporter": "python",
   "pygments_lexer": "ipython3",
   "version": "3.8.16"
  }
 },
 "nbformat": 4,
 "nbformat_minor": 5
}
