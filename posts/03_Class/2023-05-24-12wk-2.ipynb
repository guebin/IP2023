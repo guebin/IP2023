{
 "cells": [
  {
   "cell_type": "raw",
   "id": "809afe51-3936-433f-9d3d-612ee572e0e7",
   "metadata": {},
   "source": [
    "---\n",
    "title: \"12wk-2: 클래스 (5)\"\n",
    "author: \"최규빈\"\n",
    "date: \"05/24/2023\"\n",
    "---"
   ]
  },
  {
   "cell_type": "markdown",
   "id": "ac4e5f69-0314-4810-855e-0e805e1975aa",
   "metadata": {},
   "source": [
    "<a href=\"https://colab.research.google.com/github/guebin/PP2023/blob/main/posts/03_Class/2023-05-24-12wk-2.ipynb\"><img src=\"https://colab.research.google.com/assets/colab-badge.svg\" style=\"text-align: left\"></a>"
   ]
  },
  {
   "cell_type": "markdown",
   "id": "151f2661-277a-438e-8122-738a42bf186a",
   "metadata": {},
   "source": [
    "# imports "
   ]
  },
  {
   "cell_type": "code",
   "execution_count": 1,
   "id": "eca9048c-beb0-40cf-8cdd-026f76aed90f",
   "metadata": {},
   "outputs": [],
   "source": [
    "import matplotlib.pyplot as plt\n",
    "from IPython.core.display import HTML"
   ]
  },
  {
   "cell_type": "markdown",
   "id": "0bf487c1-438e-461e-aa8f-9bb8a2493c26",
   "metadata": {},
   "source": [
    "# 클래스공부 3단계: 문제연습"
   ]
  },
  {
   "cell_type": "markdown",
   "id": "8fe36c97-3729-4998-9e25-72c2215e2fef",
   "metadata": {},
   "source": [
    "## 암기사항 "
   ]
  },
  {
   "cell_type": "markdown",
   "id": "34910766-100d-4a6b-a61d-e351a9686c89",
   "metadata": {},
   "source": [
    "***외우세요*** (논리적으로 생각하지 말고)"
   ]
  },
  {
   "cell_type": "markdown",
   "id": "2e57addb-b078-463b-a3b4-f6fd428a3cf4",
   "metadata": {},
   "source": [
    "`#1` 클래스의 선언: 클래스의 선언은 아래와 같이 하며 클래스의 이름은 대문자로 한다. "
   ]
  },
  {
   "cell_type": "markdown",
   "id": "afa2eda4-f728-4313-a743-c6861a579f3f",
   "metadata": {},
   "source": [
    "```Python\n",
    "# 예시1: 좋은사례\n",
    "class JungKKuckMa:\n",
    "    pass \n",
    "```"
   ]
  },
  {
   "cell_type": "markdown",
   "id": "0bcb2ea7-0f82-4a4a-a814-fde52c3918ec",
   "metadata": {},
   "source": [
    "```Python\n",
    "# 예시2: 나쁜사례 -- 클래스 이름은 대문자로 시작해야해\n",
    "class jungkkuckma:\n",
    "    pass \n",
    "```"
   ]
  },
  {
   "cell_type": "markdown",
   "id": "3aa2463d-e67a-4e3f-b520-73051b35e7ed",
   "metadata": {},
   "source": [
    "> 딴지: 1. 사실 저거 말고도 선언하는 방법 있는데.. 2. 대문자가 아니어도 에러는 안나는데.. "
   ]
  },
  {
   "cell_type": "markdown",
   "id": "531cbec1-d3a7-4de6-9948-968b12ae3579",
   "metadata": {},
   "source": [
    "`#2` 클래스의 내용: 클래스의 내용은 메소드만을 정의하는데에만 사용한다. "
   ]
  },
  {
   "cell_type": "markdown",
   "id": "6a0543b2-9916-4602-9a07-9ffdbebec46d",
   "metadata": {},
   "source": [
    "```Python\n",
    "# 예시1: 클래스의 내용을 메소드로만 작성한예시 \n",
    "class JungKKuckMa:\n",
    "    def method1(self): \n",
    "        blabla\n",
    "    def method2(self): \n",
    "        blabla\n",
    "    def method3(self): \n",
    "        blabla\n",
    "    def method4(self): \n",
    "        blabla\n",
    "    def method5(self): \n",
    "        blabla    \n",
    "```"
   ]
  },
  {
   "cell_type": "markdown",
   "id": "5dea502c-063a-422c-b55e-c19fe3670f61",
   "metadata": {},
   "source": [
    "```Python\n",
    "# 예시2: 나쁜사례\n",
    "class JungKKuckMa:\n",
    "    a=1 \n",
    "    b=1 \n",
    "```"
   ]
  },
  {
   "cell_type": "markdown",
   "id": "5a96c79e-6c5e-4563-b2fc-5cb56079abc8",
   "metadata": {},
   "source": [
    "> 딴지: 꼭 메소드만 클래스의 내용으로 쓰라는 법은 없음"
   ]
  },
  {
   "cell_type": "markdown",
   "id": "858fdd20-944d-4889-ac87-803154cd9a62",
   "metadata": {},
   "source": [
    "`#3` 메소드의 첫번째 입력은 항상 self 로 사용한다."
   ]
  },
  {
   "cell_type": "markdown",
   "id": "d9eb8ebc-08c8-4d82-a31a-5597e3c8c7bb",
   "metadata": {},
   "source": [
    "> 딴지: 이것도 꼭 그런건 아님 "
   ]
  },
  {
   "cell_type": "markdown",
   "id": "87203e9e-c7f8-4ca0-9179-3a8c6a6b1243",
   "metadata": {},
   "source": [
    "`#4` `__init__` 메소드는 \"클래스 $\\to$ 인스턴스\" 시점에 자동으로 실행되는 특수한 메소드이다. "
   ]
  },
  {
   "cell_type": "markdown",
   "id": "a1a424f5-6c86-47b1-82b9-3da8d436167d",
   "metadata": {},
   "source": [
    "## 문제풀이 "
   ]
  },
  {
   "cell_type": "markdown",
   "id": "1bb42e54-d0cc-4153-aa4a-e6681a8d3971",
   "metadata": {},
   "source": [
    "***각 예제의 조건에 맞는 클래스를 구현하라***"
   ]
  },
  {
   "cell_type": "markdown",
   "id": "50fd18e1-8017-4405-ba83-4509bc3bef5c",
   "metadata": {},
   "source": [
    "`-` **예제1** -- self는 항상 써야 해\n",
    "\n",
    "아래의 조건에 맞는 클래스를 구현하라.\n",
    "\n",
    "1. 클래스에는 hello()라는 메소드가 정의되어 있으며, hello()의 기능은 \"안녕하세요\"를 출력하는 것이다. "
   ]
  },
  {
   "cell_type": "markdown",
   "id": "06a4b30e-e4e9-4a3e-b76c-f425944d839d",
   "metadata": {},
   "source": [
    "(풀이)"
   ]
  },
  {
   "cell_type": "code",
   "execution_count": 8,
   "id": "1d1d84b3-ce1c-452f-9db9-a47d42fb0c5d",
   "metadata": {},
   "outputs": [],
   "source": [
    "class Klass: \n",
    "    def hello(self):\n",
    "        print(\"안녕하세요\")"
   ]
  },
  {
   "cell_type": "code",
   "execution_count": 9,
   "id": "3a0727c6-1bb4-4cc0-b953-50d5b908d1e3",
   "metadata": {},
   "outputs": [],
   "source": [
    "ins = Klass()"
   ]
  },
  {
   "cell_type": "code",
   "execution_count": 10,
   "id": "dc7688af-2e9f-4364-a099-9988e758e183",
   "metadata": {},
   "outputs": [
    {
     "name": "stdout",
     "output_type": "stream",
     "text": [
      "안녕하세요\n"
     ]
    }
   ],
   "source": [
    "ins.hello()"
   ]
  },
  {
   "cell_type": "markdown",
   "id": "8d00b0f6-004f-4719-9e5d-36ceea8464c8",
   "metadata": {},
   "source": [
    "`-` **예제2**-- `__init__`의 사용방법 \n",
    "\n",
    "아래의 조건에 맞는 클래스를 구현하라.\n",
    "\n",
    "1. \"클래스 $\\to$ 인스턴스\"의 과정에서 변수 a가 True 로 초기설정된다. \n",
    "2. 클래스에는 show()라는 메소드가 정의되어 있으며, show()의 기능은 a의 값을 print 하는 기능을 한다. "
   ]
  },
  {
   "cell_type": "markdown",
   "id": "b8fda9ca-db7a-48d0-83e8-75bfea254976",
   "metadata": {},
   "source": [
    "(풀이)"
   ]
  },
  {
   "cell_type": "code",
   "execution_count": 11,
   "id": "0181e390-15c9-4986-8b5e-91679f71c7c5",
   "metadata": {},
   "outputs": [],
   "source": [
    "class Klass: \n",
    "    def __init__(self):\n",
    "        self.a = True\n",
    "    def show(self):\n",
    "        print(self.a)"
   ]
  },
  {
   "cell_type": "code",
   "execution_count": 12,
   "id": "a62a1285-b2f9-44ed-93e2-3a14f3cc4bdd",
   "metadata": {},
   "outputs": [],
   "source": [
    "ins = Klass()"
   ]
  },
  {
   "cell_type": "code",
   "execution_count": 14,
   "id": "17b7ca86-f705-48ae-bbb4-546375ca6809",
   "metadata": {},
   "outputs": [
    {
     "name": "stdout",
     "output_type": "stream",
     "text": [
      "True\n"
     ]
    }
   ],
   "source": [
    "ins.show()"
   ]
  },
  {
   "cell_type": "markdown",
   "id": "8c23b140-8e9d-4fbf-bf79-9b57e8ddb63a",
   "metadata": {},
   "source": [
    "`-` **예제3**-- method의 정의 및 사용 \n",
    "\n",
    "아래의 조건에 맞는 클래스를 구현하라.\n",
    "\n",
    "1. \"클래스 $\\to$ 인스턴스\"의 과정에서 변수 a가 True 로 초기설정된다. \n",
    "2. 클래스에는 toggle() 이라는 메소드가 정의되어 있다. 이 기능은 변수 a의 값이 True 이면 False 로, False 이면 True 로 바꾸는 역할을 한다. \n",
    "3. 클래스에는 show()라는 메소드가 정의되어 있다. 이 기능은 a의 값을 print 하는 기능을 한다. "
   ]
  },
  {
   "cell_type": "markdown",
   "id": "599c2c4c-7e77-4178-8088-c6f51544eed9",
   "metadata": {},
   "source": [
    "(풀이)"
   ]
  },
  {
   "cell_type": "code",
   "execution_count": 19,
   "id": "774f52c5-de61-4f35-a771-394405a57b42",
   "metadata": {},
   "outputs": [],
   "source": [
    "class Klass: \n",
    "    def __init__(self):\n",
    "        self.a = True\n",
    "    def toggle(self):\n",
    "        self.a = not self.a\n",
    "    def show(self):\n",
    "        print(self.a)"
   ]
  },
  {
   "cell_type": "code",
   "execution_count": 20,
   "id": "b83176b4-21f1-4ee9-84cc-1916594808d3",
   "metadata": {},
   "outputs": [],
   "source": [
    "ins = Klass()"
   ]
  },
  {
   "cell_type": "code",
   "execution_count": 21,
   "id": "7c7e1e31-ec97-427a-bd86-87f68ce80035",
   "metadata": {},
   "outputs": [
    {
     "data": {
      "text/plain": [
       "True"
      ]
     },
     "execution_count": 21,
     "metadata": {},
     "output_type": "execute_result"
    }
   ],
   "source": [
    "ins.a"
   ]
  },
  {
   "cell_type": "code",
   "execution_count": 23,
   "id": "621e78ea-9194-4fe6-8e93-18391f6d25e5",
   "metadata": {},
   "outputs": [],
   "source": [
    "ins.toggle()"
   ]
  },
  {
   "cell_type": "code",
   "execution_count": 24,
   "id": "891475ef-32eb-475f-84c9-cffdb3eb30f4",
   "metadata": {},
   "outputs": [
    {
     "name": "stdout",
     "output_type": "stream",
     "text": [
      "False\n"
     ]
    }
   ],
   "source": [
    "ins.show()"
   ]
  },
  {
   "cell_type": "code",
   "execution_count": 25,
   "id": "03f274f7-32c2-4b96-b977-558514b8c68d",
   "metadata": {},
   "outputs": [
    {
     "name": "stdout",
     "output_type": "stream",
     "text": [
      "False\n"
     ]
    }
   ],
   "source": [
    "ins.toggle()\n",
    "ins.toggle()\n",
    "ins.show()"
   ]
  },
  {
   "cell_type": "code",
   "execution_count": 26,
   "id": "c40e2108-4152-4c35-8520-d80f4f26c3cd",
   "metadata": {},
   "outputs": [
    {
     "name": "stdout",
     "output_type": "stream",
     "text": [
      "True\n"
     ]
    }
   ],
   "source": [
    "ins.toggle()\n",
    "ins.toggle()\n",
    "ins.toggle()\n",
    "ins.show()"
   ]
  },
  {
   "cell_type": "markdown",
   "id": "359c55f3-c053-409e-a21f-348de41b6d53",
   "metadata": {},
   "source": [
    "`-` **예제4** -- method의 정의 및 사용 \n",
    "\n",
    "아래의 조건에 맞는 클래스를 구현하라.\n",
    "\n",
    "1. \"클래스 $\\to$ 인스턴스\"의 과정에서 변수 a가 0으로 초기설정된다. \n",
    "2. 클래스에는 up()라는 메소드가 정의되어 있다. up()의 기능은 a의 값을 1증가시키는 기능을 한다. \n",
    "3. 클래스에는 show()라는 메소드가 정의되어 있다. show()의 기능은 a의 값을 print 하는 가능을 한다. "
   ]
  },
  {
   "cell_type": "markdown",
   "id": "a3d92b2c-55d7-4151-a1e2-d03697b96c9e",
   "metadata": {},
   "source": [
    "(풀이)"
   ]
  },
  {
   "cell_type": "code",
   "execution_count": 27,
   "id": "544ad45f-7d7f-4b48-aaf5-497481054c0f",
   "metadata": {},
   "outputs": [],
   "source": [
    "class Klass:\n",
    "    def __init__(self):\n",
    "        self.a = 0 \n",
    "    def up(self):\n",
    "        self.a = self.a + 1\n",
    "    def show(self):\n",
    "        print(self.a) "
   ]
  },
  {
   "cell_type": "code",
   "execution_count": 28,
   "id": "ce530d07-4542-46f5-abb5-7575285614ba",
   "metadata": {},
   "outputs": [],
   "source": [
    "ins = Klass() "
   ]
  },
  {
   "cell_type": "code",
   "execution_count": 31,
   "id": "c6b427f7-9cc6-49d9-86aa-cb17349d0a5e",
   "metadata": {},
   "outputs": [
    {
     "name": "stdout",
     "output_type": "stream",
     "text": [
      "0\n"
     ]
    }
   ],
   "source": [
    "ins.show()"
   ]
  },
  {
   "cell_type": "code",
   "execution_count": 32,
   "id": "b0229906-df35-43d8-b172-fca4137b6cdf",
   "metadata": {},
   "outputs": [
    {
     "name": "stdout",
     "output_type": "stream",
     "text": [
      "2\n"
     ]
    }
   ],
   "source": [
    "ins.up()\n",
    "ins.up()\n",
    "ins.show()"
   ]
  },
  {
   "cell_type": "markdown",
   "id": "a9dbf93a-154c-4b29-8148-ac6f4199151d",
   "metadata": {},
   "source": [
    "`-` **예제5** -- 외부입력을 사용하는 `__init__` \n",
    "\n",
    "아래의 조건에 맞는 클래스를 구현하라.\n",
    "\n",
    "1. \"클래스 $\\to$ 인스턴스\"의 과정에서 변수 a의 값이 사용자가 입력한 값으로 초기설정된다. \n",
    "2. 클래스에는 show()라는 메소드가 정의되어 있다. show()의 기능은 a의 값을 print 하는 가능을 한다. "
   ]
  },
  {
   "cell_type": "markdown",
   "id": "1426eeaf-4e92-49ef-8fd9-ef8d503a4a37",
   "metadata": {},
   "source": [
    "(풀이)"
   ]
  },
  {
   "cell_type": "code",
   "execution_count": 33,
   "id": "3593fb28-d890-4582-99d7-b825886eb2e9",
   "metadata": {},
   "outputs": [],
   "source": [
    "class Klass:\n",
    "    def __init__(self,value):\n",
    "        self.a = value\n",
    "    def show(self):\n",
    "        print(self.a) "
   ]
  },
  {
   "cell_type": "code",
   "execution_count": 38,
   "id": "21a3b588-f04c-4d31-a2ef-458029a6a59c",
   "metadata": {},
   "outputs": [],
   "source": [
    "ins = Klass(397)"
   ]
  },
  {
   "cell_type": "code",
   "execution_count": 39,
   "id": "6170bdfe-c1cb-4961-8a0d-c1c771c0a7a2",
   "metadata": {},
   "outputs": [
    {
     "name": "stdout",
     "output_type": "stream",
     "text": [
      "397\n"
     ]
    }
   ],
   "source": [
    "ins.show()"
   ]
  },
  {
   "cell_type": "markdown",
   "id": "fd8aa87f-0c65-411c-ac91-5ddfe9538f95",
   "metadata": {},
   "source": [
    "`-` **예제6** -- 외부입력을 사용하는 method \n",
    "\n",
    "아래의 조건에 맞는 클래스를 구현하라.\n",
    "\n",
    "1. \"클래스 $\\to$ 인스턴스\"의 과정에서 변수 a가 0으로 초기설정된다. \n",
    "2. 클래스에는 up()라는 메소드가 정의되어 있다. up()의 기능은 a의 값을 1증가시키는 기능을 한다. \n",
    "3. 클래스에는 jump()라는 메소드가 정의되어 있다. jump()는 jump_size 를 입력으로 받으며 a의 값을 jump_size 만큼 증가시키는 기능을 한다. \n",
    "4. 클래스에는 show()라는 메소드가 정의되어 있다. show()의 기능은 a의 값을 print 하는 기능을 한다. "
   ]
  },
  {
   "cell_type": "markdown",
   "id": "08361bf7-9d89-4ea8-8cac-f82735f2dc75",
   "metadata": {},
   "source": [
    "(풀이)"
   ]
  },
  {
   "cell_type": "code",
   "execution_count": 44,
   "id": "4527d941-d930-473c-ba9a-8a06fa04c268",
   "metadata": {},
   "outputs": [],
   "source": [
    "class Klass:\n",
    "    def __init__(self):\n",
    "        self.a = 0\n",
    "    def up(self):\n",
    "        self.a = self.a + 1  \n",
    "    def jump(self,jump_size):\n",
    "        self.a = self.a + jump_size      \n",
    "    def show(self):\n",
    "        print('a={}'.format(self.a))"
   ]
  },
  {
   "cell_type": "code",
   "execution_count": 45,
   "id": "4110b3bd-8f4f-4d56-b3f4-8730cd852ba9",
   "metadata": {},
   "outputs": [],
   "source": [
    "ins = Klass()"
   ]
  },
  {
   "cell_type": "code",
   "execution_count": 47,
   "id": "57e6b007-2186-4bd8-ab6a-ba84a795ea68",
   "metadata": {},
   "outputs": [
    {
     "name": "stdout",
     "output_type": "stream",
     "text": [
      "a=0\n"
     ]
    }
   ],
   "source": [
    "ins.show()"
   ]
  },
  {
   "cell_type": "code",
   "execution_count": 48,
   "id": "d3c2862a-dfa6-48b1-a8b9-8a5631561e49",
   "metadata": {},
   "outputs": [
    {
     "name": "stdout",
     "output_type": "stream",
     "text": [
      "a=1\n"
     ]
    }
   ],
   "source": [
    "ins.up()\n",
    "ins.show()"
   ]
  },
  {
   "cell_type": "code",
   "execution_count": 49,
   "id": "386b1946-e4d7-4e0e-bca5-7d1c451e5653",
   "metadata": {},
   "outputs": [
    {
     "name": "stdout",
     "output_type": "stream",
     "text": [
      "a=102\n"
     ]
    }
   ],
   "source": [
    "ins.up()\n",
    "ins.jump(100)\n",
    "ins.show()"
   ]
  },
  {
   "cell_type": "markdown",
   "id": "ed7653c2-de8b-4fbb-b6c8-419d37a97361",
   "metadata": {},
   "source": [
    "`-` **예제7** -- 메소드에서 메소드 사용하기 \n",
    "\n",
    "아래의 조건에 맞는 클래스를 구현하라.\n",
    "\n",
    "1. \"클래스 $\\to$ 인스턴스\"의 과정에서 변수 a가 0으로 초기설정된다. \n",
    "2. 클래스에는 up()라는 메소드가 정의되어 있다. up()의 기능은 a의 값을 1증가시키는 기능을 한다. \n",
    "3. 클래스에는 jump()라는 메소드가 정의되어 있다. jump()는 jump_size 를 입력으로 받으며 a의 값을 jump_size 만큼 증가시키는 기능을 한다. \n",
    "4. 클래스에는 reset()이라는 메소드가 정의되어 있다. reset()는 a의 값을 0으로 초기화하는 역할을 한다. \n",
    "5. 클래스에는 show()라는 메소드가 정의되어 있다. show()의 기능은 a의 값을 print 하는 기능을 한다. "
   ]
  },
  {
   "cell_type": "code",
   "execution_count": 63,
   "id": "91678750-ca0f-4442-99ad-8bd029ca48ed",
   "metadata": {},
   "outputs": [],
   "source": [
    "class Klass:\n",
    "    def __init__(self):\n",
    "        self.a = 0\n",
    "    def up(self):\n",
    "        self.a = self.a + 1  \n",
    "    def jump(self,jump_size):\n",
    "        self.a = self.a + jump_size      \n",
    "    def show(self):\n",
    "        print('a={}'.format(self.a))\n",
    "    def reset(self):\n",
    "        self.__init__()"
   ]
  },
  {
   "cell_type": "code",
   "execution_count": 64,
   "id": "479317cf-0edb-4b59-aee3-f605a405a4dd",
   "metadata": {},
   "outputs": [],
   "source": [
    "ins = Klass()"
   ]
  },
  {
   "cell_type": "code",
   "execution_count": 65,
   "id": "1794e2d5-714a-4165-bb8a-9a766614cf42",
   "metadata": {},
   "outputs": [
    {
     "name": "stdout",
     "output_type": "stream",
     "text": [
      "a=0\n"
     ]
    }
   ],
   "source": [
    "ins.show()"
   ]
  },
  {
   "cell_type": "code",
   "execution_count": 66,
   "id": "0b55b5ed-1fc8-427c-8082-7051d782034f",
   "metadata": {},
   "outputs": [],
   "source": [
    "ins.up()\n",
    "ins.jump(3)\n",
    "ins.up()\n",
    "ins.up()\n",
    "ins.jump(5)"
   ]
  },
  {
   "cell_type": "code",
   "execution_count": 67,
   "id": "8dfe0cfd-fdf8-4380-81cf-638886f461ba",
   "metadata": {},
   "outputs": [
    {
     "name": "stdout",
     "output_type": "stream",
     "text": [
      "a=11\n"
     ]
    }
   ],
   "source": [
    "ins.show()"
   ]
  },
  {
   "cell_type": "code",
   "execution_count": 68,
   "id": "c896f624-1576-4bea-98d4-291b136c8bc2",
   "metadata": {},
   "outputs": [
    {
     "name": "stdout",
     "output_type": "stream",
     "text": [
      "a=0\n"
     ]
    }
   ],
   "source": [
    "ins.reset()\n",
    "ins.show()"
   ]
  },
  {
   "cell_type": "markdown",
   "id": "120a4905-8c08-4916-ab7c-8ded30c87093",
   "metadata": {},
   "source": [
    "`-` **예제8:** -- 이미지출력 "
   ]
  },
  {
   "cell_type": "markdown",
   "id": "add8db6e-1e10-479e-9417-a904e6b07b7d",
   "metadata": {},
   "source": [
    "아래의 코드를 관찰"
   ]
  },
  {
   "cell_type": "code",
   "execution_count": 69,
   "id": "b38c7009-8ee2-4e0c-bc69-b894f5972c63",
   "metadata": {},
   "outputs": [
    {
     "data": {
      "text/html": [
       "<img src=https://github.com/guebin/PP2023/blob/main/posts/03_Class/burgerking.png?raw=true width=\"600\">"
      ],
      "text/plain": [
       "<IPython.core.display.HTML object>"
      ]
     },
     "metadata": {},
     "output_type": "display_data"
    }
   ],
   "source": [
    "url = 'https://github.com/guebin/PP2023/blob/main/posts/03_Class/burgerking.png?raw=true'\n",
    "html_str = '<img src={url} width=\"600\">'.format(url=url)\n",
    "display(HTML(html_str))"
   ]
  },
  {
   "cell_type": "markdown",
   "id": "24783aad-bc30-41eb-a9fc-22b2f1d0d737",
   "metadata": {},
   "source": [
    "아래의 조건에 맞는 클래스를 구현하라. \n",
    "\n",
    "1. \"클래스 $\\to$ 인스턴스\"의 과정에서 변수 url이 위에서 제시된 값으로 초기화된다. \n",
    "2. 클래스에는 show()라는 함수가 있어서 url에 해당하는 이미지를 출력해주는 기능을 가진다. "
   ]
  },
  {
   "cell_type": "markdown",
   "id": "df4e3083-ba15-4de5-9acb-7b9be51d5ec3",
   "metadata": {},
   "source": [
    "(풀이)"
   ]
  },
  {
   "cell_type": "code",
   "execution_count": 116,
   "id": "e05b9046-3dc7-443c-bae3-0269be239864",
   "metadata": {},
   "outputs": [],
   "source": [
    "class Klass:\n",
    "    def __init__(self):\n",
    "        self.url = 'https://github.com/guebin/PP2023/blob/main/posts/03_Class/burgerking.png?raw=true'\n",
    "    def show(self):\n",
    "        html_str = '<img src={url} width=\"600\">'.format(url=self.url)\n",
    "        display(HTML(html_str))"
   ]
  },
  {
   "cell_type": "code",
   "execution_count": 117,
   "id": "edbeedf9-b7da-457a-a8ea-e3aabc5357df",
   "metadata": {},
   "outputs": [],
   "source": [
    "ins = Klass()"
   ]
  },
  {
   "cell_type": "code",
   "execution_count": 118,
   "id": "fb1604b4-96eb-454a-a785-ad6b35286ed7",
   "metadata": {},
   "outputs": [
    {
     "data": {
      "text/html": [
       "<img src=https://github.com/guebin/PP2023/blob/main/posts/03_Class/burgerking.png?raw=true width=\"600\">"
      ],
      "text/plain": [
       "<IPython.core.display.HTML object>"
      ]
     },
     "metadata": {},
     "output_type": "display_data"
    }
   ],
   "source": [
    "ins.show()"
   ]
  },
  {
   "cell_type": "markdown",
   "id": "35d709f7-fa5b-40d9-9cc6-86e4d5971bf1",
   "metadata": {},
   "source": [
    "`-` **예제9--** 이미지 출력 + 횟수 기록 \n",
    "\n",
    "1. \"클래스 $\\to$ 인스턴스\"의 과정에서 변수 url이 위에서 제시된 값으로 초기화된다. \n",
    "2. 클래스에는 show()라는 함수가 있어서 (1) url에 해당하는 이미지를 출력하고 (2) \"당신은 이 그림을 $n$번 보았습니다\" 를 출력하는 기능을 한다. 여기에서 $n$은 그림을 본 횟수"
   ]
  },
  {
   "cell_type": "code",
   "execution_count": 119,
   "id": "145c6b1e-df79-4bc0-9053-93af671f4aa6",
   "metadata": {},
   "outputs": [],
   "source": [
    "class Klass:\n",
    "    def __init__(self):\n",
    "        self.n = 0\n",
    "        self.url = 'https://github.com/guebin/PP2023/blob/main/posts/03_Class/burgerking.png?raw=true'\n",
    "    def show(self):\n",
    "        self.n = self.n + 1 \n",
    "        html_str = '<img src={url} width=\"600\">'.format(url=self.url)\n",
    "        display(HTML(html_str))\n",
    "        print(\"당신은 이 그림을 {}번 보았습니다.\".format(self.n))"
   ]
  },
  {
   "cell_type": "code",
   "execution_count": 107,
   "id": "54890adc-3907-44f9-8a8c-fcd87cda7376",
   "metadata": {},
   "outputs": [],
   "source": [
    "ins = Klass()"
   ]
  },
  {
   "cell_type": "code",
   "execution_count": 108,
   "id": "9c8ae784-0a7c-47ef-9fff-99b84975a97f",
   "metadata": {},
   "outputs": [
    {
     "data": {
      "text/html": [
       "<img src=https://github.com/guebin/PP2023/blob/main/posts/03_Class/burgerking.png?raw=true width=\"600\">"
      ],
      "text/plain": [
       "<IPython.core.display.HTML object>"
      ]
     },
     "metadata": {},
     "output_type": "display_data"
    },
    {
     "name": "stdout",
     "output_type": "stream",
     "text": [
      "당신은 이 그림을 1번 보았습니다.\n"
     ]
    }
   ],
   "source": [
    "ins.show()"
   ]
  },
  {
   "cell_type": "markdown",
   "id": "b53c7a89-ffc2-478a-8e4c-0920d0cb2074",
   "metadata": {},
   "source": [
    "`-` **예제10** -- 여러 인스턴스 동시관리\n",
    "\n",
    "예제9에서 만든 클래스를 이용하여 아래의 url에 해당하는 이미지를 출력하라. \n",
    "\n",
    "- https://github.com/guebin/PP2023/blob/main/posts/03_Class/JungGGuckMa.jpg?raw=true\n",
    "\n",
    ".show()를 이용해 두 이미지를 번갈아 가며 관찰하고 횟수가 올바르게 카운트되는지 확인하라. "
   ]
  },
  {
   "cell_type": "code",
   "execution_count": 109,
   "id": "343b20cc-a28f-4f56-81b6-907851c2baa6",
   "metadata": {},
   "outputs": [],
   "source": [
    "ins1 = Klass()\n",
    "ins2 = Klass()"
   ]
  },
  {
   "cell_type": "code",
   "execution_count": 110,
   "id": "22f92b31-7b3f-4a7d-994b-633484f11feb",
   "metadata": {},
   "outputs": [],
   "source": [
    "ins2.url = 'https://github.com/guebin/PP2023/blob/main/posts/03_Class/JungGGuckMa.jpg?raw=true'"
   ]
  },
  {
   "cell_type": "code",
   "execution_count": 111,
   "id": "f297152c-61b6-4e5b-b53a-73232b5dc4c7",
   "metadata": {},
   "outputs": [
    {
     "data": {
      "text/html": [
       "<img src=https://github.com/guebin/PP2023/blob/main/posts/03_Class/burgerking.png?raw=true width=\"600\">"
      ],
      "text/plain": [
       "<IPython.core.display.HTML object>"
      ]
     },
     "metadata": {},
     "output_type": "display_data"
    },
    {
     "name": "stdout",
     "output_type": "stream",
     "text": [
      "당신은 이 그림을 1번 보았습니다.\n"
     ]
    }
   ],
   "source": [
    "ins1.show()"
   ]
  },
  {
   "cell_type": "code",
   "execution_count": 112,
   "id": "1820caa4-7c4c-4f4e-8154-2fda7ac87248",
   "metadata": {},
   "outputs": [
    {
     "data": {
      "text/html": [
       "<img src=https://github.com/guebin/PP2023/blob/main/posts/03_Class/JungGGuckMa.jpg?raw=true width=\"600\">"
      ],
      "text/plain": [
       "<IPython.core.display.HTML object>"
      ]
     },
     "metadata": {},
     "output_type": "display_data"
    },
    {
     "name": "stdout",
     "output_type": "stream",
     "text": [
      "당신은 이 그림을 1번 보았습니다.\n"
     ]
    }
   ],
   "source": [
    "ins2.show()"
   ]
  },
  {
   "cell_type": "code",
   "execution_count": 114,
   "id": "3af47881-f97a-4a22-8613-06a901608f0b",
   "metadata": {},
   "outputs": [
    {
     "data": {
      "text/html": [
       "<img src=https://github.com/guebin/PP2023/blob/main/posts/03_Class/JungGGuckMa.jpg?raw=true width=\"600\">"
      ],
      "text/plain": [
       "<IPython.core.display.HTML object>"
      ]
     },
     "metadata": {},
     "output_type": "display_data"
    },
    {
     "name": "stdout",
     "output_type": "stream",
     "text": [
      "당신은 이 그림을 3번 보았습니다.\n"
     ]
    }
   ],
   "source": [
    "ins2.show()"
   ]
  },
  {
   "cell_type": "code",
   "execution_count": 115,
   "id": "97fe768e-a54f-4d4b-8ec3-4aa5076091d2",
   "metadata": {},
   "outputs": [
    {
     "data": {
      "text/html": [
       "<img src=https://github.com/guebin/PP2023/blob/main/posts/03_Class/burgerking.png?raw=true width=\"600\">"
      ],
      "text/plain": [
       "<IPython.core.display.HTML object>"
      ]
     },
     "metadata": {},
     "output_type": "display_data"
    },
    {
     "name": "stdout",
     "output_type": "stream",
     "text": [
      "당신은 이 그림을 2번 보았습니다.\n"
     ]
    }
   ],
   "source": [
    "ins1.show()"
   ]
  },
  {
   "cell_type": "code",
   "execution_count": null,
   "id": "ca5281fd-6ddb-40c7-a410-27e3e34fc867",
   "metadata": {},
   "outputs": [],
   "source": [
    "!git add .\n",
    "!git commit -m .\n",
    "!git push \n",
    "!quarto publish --no-browser "
   ]
  },
  {
   "cell_type": "code",
   "execution_count": null,
   "id": "f68459d9-ac8e-4f43-bc8f-f48186fc37fa",
   "metadata": {},
   "outputs": [],
   "source": []
  }
 ],
 "metadata": {
  "kernelspec": {
   "display_name": "Python 3",
   "language": "python",
   "name": "python3"
  },
  "language_info": {
   "codemirror_mode": {
    "name": "ipython",
    "version": 3
   },
   "file_extension": ".py",
   "mimetype": "text/x-python",
   "name": "python",
   "nbconvert_exporter": "python",
   "pygments_lexer": "ipython3",
   "version": "3.8.16"
  }
 },
 "nbformat": 4,
 "nbformat_minor": 5
}
