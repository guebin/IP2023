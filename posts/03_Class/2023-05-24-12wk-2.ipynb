{
 "cells": [
  {
   "cell_type": "raw",
   "id": "809afe51-3936-433f-9d3d-612ee572e0e7",
   "metadata": {},
   "source": [
    "---\n",
    "title: \"12wk-1: 클래스 (4)\"\n",
    "author: \"최규빈\"\n",
    "date: \"05/24/2023\"\n",
    "---"
   ]
  },
  {
   "cell_type": "markdown",
   "id": "ac4e5f69-0314-4810-855e-0e805e1975aa",
   "metadata": {},
   "source": [
    "<a href=\"https://colab.research.google.com/github/guebin/PP2023/blob/main/posts/03_Class/2023-05-24-12wk-2.ipynb\"><img src=\"https://colab.research.google.com/assets/colab-badge.svg\" style=\"text-align: left\"></a>"
   ]
  },
  {
   "cell_type": "markdown",
   "id": "151f2661-277a-438e-8122-738a42bf186a",
   "metadata": {},
   "source": [
    "# imports "
   ]
  },
  {
   "cell_type": "code",
   "execution_count": 1,
   "id": "eca9048c-beb0-40cf-8cdd-026f76aed90f",
   "metadata": {},
   "outputs": [],
   "source": [
    "import matplotlib.pyplot as plt"
   ]
  },
  {
   "cell_type": "markdown",
   "id": "0bf487c1-438e-461e-aa8f-9bb8a2493c26",
   "metadata": {},
   "source": [
    "# 클래스공부 3단계: 문제연습"
   ]
  },
  {
   "cell_type": "code",
   "execution_count": null,
   "id": "80470155-6606-4718-b326-46fc1cfc2b92",
   "metadata": {},
   "outputs": [],
   "source": []
  }
 ],
 "metadata": {
  "kernelspec": {
   "display_name": "Python 3",
   "language": "python",
   "name": "python3"
  },
  "language_info": {
   "codemirror_mode": {
    "name": "ipython",
    "version": 3
   },
   "file_extension": ".py",
   "mimetype": "text/x-python",
   "name": "python",
   "nbconvert_exporter": "python",
   "pygments_lexer": "ipython3",
   "version": "3.8.16"
  }
 },
 "nbformat": 4,
 "nbformat_minor": 5
}
