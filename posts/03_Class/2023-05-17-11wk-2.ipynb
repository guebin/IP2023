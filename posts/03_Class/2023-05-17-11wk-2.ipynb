{
 "cells": [
  {
   "cell_type": "raw",
   "id": "5ff27886-46ce-48cc-85bc-519b845aac2f",
   "metadata": {},
   "source": [
    "---\n",
    "title: \"11wk-2: 클래스 (3)\"\n",
    "author: \"최규빈\"\n",
    "date: \"05/17/2023\"\n",
    "---"
   ]
  },
  {
   "cell_type": "markdown",
   "id": "e19185e4-c364-4079-8b35-7d3a19028893",
   "metadata": {},
   "source": [
    "# 강의영상 "
   ]
  },
  {
   "cell_type": "markdown",
   "id": "4a0a9f20-09fe-4df1-83a3-76b323e30b6a",
   "metadata": {},
   "source": [
    "> youtube: "
   ]
  },
  {
   "cell_type": "markdown",
   "id": "cb1cd6d0-f369-4700-8dc5-76675669db4d",
   "metadata": {},
   "source": [
    "# imports "
   ]
  },
  {
   "cell_type": "code",
   "execution_count": 1,
   "id": "e0891f94-334c-4581-b4f7-33cbf8541cb4",
   "metadata": {},
   "outputs": [],
   "source": [
    "from IPython.core.display import HTML"
   ]
  },
  {
   "cell_type": "markdown",
   "id": "f698a67d-aa6f-447b-9e25-0690afa31e57",
   "metadata": {},
   "source": [
    "# 지난시간 사용한 코드 "
   ]
  },
  {
   "cell_type": "code",
   "execution_count": 5,
   "id": "0e421a8c-027c-4eb1-b54c-81d2c80e0a77",
   "metadata": {},
   "outputs": [],
   "source": [
    "class JungKKuckMa:\n",
    "    pass\n",
    "\n",
    "pp2023 = JungKKuckMa()"
   ]
  },
  {
   "cell_type": "code",
   "execution_count": 19,
   "id": "11494036-9224-4685-b2c7-386328375b7c",
   "metadata": {},
   "outputs": [],
   "source": [
    "pp2023.title = '파이썬 프로그래밍 중간고사 패배는 괜찮다.'\n",
    "pp2023.imgurl = 'https://github.com/guebin/PP2023/blob/main/posts/03_Class/PP2023mid.jpg?raw=true?'\n",
    "pp2023.ques = \"Q: 파이썬 프로그래밍 기말고사, 어떤 점에 유의해야 할까?\"\n",
    "pp2023.ans = \"A: 최규빈 교수 문제 스타일에 대해서 더 분석할 건 없는 것 같고, 내가 내 코드를 잘 구현하는 게 제일 중요한 것 같고 중간고사는 망하긴 했지만 제 스스로 안 무너지면 충분히 기말고사는 잘 볼 수 있을 것 같아요.\"\n",
    "pp2023.highlight = '마음'\n",
    "pp2023.html_str =\\\n",
    "'''\n",
    "<style>\n",
    "    .title {{\n",
    "        font-family: \"Times New Roman\", serif;\n",
    "        font-size: 30px;\n",
    "        font-weight: 900;\n",
    "    }}\n",
    "    .text {{\n",
    "        font-family: \"Arial\", sans-serif;\n",
    "        font-size: 20px;\n",
    "        font-style: italic;\n",
    "    }}\n",
    "    .highlight {{\n",
    "        font-family: \"Montserrat\", monospace;\n",
    "        font-size: 35px;\n",
    "        font-weight: 900;\n",
    "        text-decoration: underline;\n",
    "        font-style: normal;\n",
    "        color: darkblue;\n",
    "        background-color: #FFFF00;\n",
    "    }}\n",
    "</style>\n",
    "<p class=\"title\">{ttl}</p>\n",
    "<img src={url} width=\"600\">\n",
    "<p> \\n </p>\n",
    "<p class=\"text\">{Q}</p>\n",
    "<p class=\"text\">{A}</p>\n",
    "<p class=\"title\">중요한 것은 꺽이지 않는 <span class=\"highlight\">{hl}</span></p>\n",
    "'''"
   ]
  },
  {
   "cell_type": "code",
   "execution_count": 20,
   "id": "6eb34136-0a1f-45ba-bea6-11af3086a58a",
   "metadata": {},
   "outputs": [],
   "source": [
    "def show(pp2023):\n",
    "    _str = pp2023.html_str.format(\n",
    "        ttl = pp2023.title,\n",
    "        url = pp2023.imgurl,\n",
    "        Q = pp2023.ques,\n",
    "        A = pp2023.ans,\n",
    "        hl = pp2023.highlight\n",
    "    )\n",
    "    display(HTML(_str))"
   ]
  },
  {
   "cell_type": "code",
   "execution_count": 21,
   "id": "a2d28ddd-d69f-4052-89f0-7b659a5e8784",
   "metadata": {},
   "outputs": [
    {
     "data": {
      "text/html": [
       "\n",
       "<style>\n",
       "    .title {\n",
       "        font-family: \"Times New Roman\", serif;\n",
       "        font-size: 30px;\n",
       "        font-weight: 900;\n",
       "    }\n",
       "    .text {\n",
       "        font-family: \"Arial\", sans-serif;\n",
       "        font-size: 20px;\n",
       "        font-style: italic;\n",
       "    }\n",
       "    .highlight {\n",
       "        font-family: \"Montserrat\", monospace;\n",
       "        font-size: 35px;\n",
       "        font-weight: 900;\n",
       "        text-decoration: underline;\n",
       "        font-style: normal;\n",
       "        color: darkblue;\n",
       "        background-color: #FFFF00;\n",
       "    }\n",
       "</style>\n",
       "<p class=\"title\">파이썬 프로그래밍 중간고사 패배는 괜찮다.</p>\n",
       "<img src=https://github.com/guebin/PP2023/blob/main/posts/03_Class/PP2023mid.jpg?raw=true? width=\"600\">\n",
       "<p> \n",
       " </p>\n",
       "<p class=\"text\">Q: 파이썬 프로그래밍 기말고사, 어떤 점에 유의해야 할까?</p>\n",
       "<p class=\"text\">A: 최규빈 교수 문제 스타일에 대해서 더 분석할 건 없는 것 같고, 내가 내 코드를 잘 구현하는 게 제일 중요한 것 같고 중간고사는 망하긴 했지만 제 스스로 안 무너지면 충분히 기말고사는 잘 볼 수 있을 것 같아요.</p>\n",
       "<p class=\"title\">중요한 것은 꺽이지 않는 <span class=\"highlight\">마음</span></p>\n"
      ],
      "text/plain": [
       "<IPython.core.display.HTML object>"
      ]
     },
     "metadata": {},
     "output_type": "display_data"
    }
   ],
   "source": [
    "show(pp2023)"
   ]
  },
  {
   "cell_type": "markdown",
   "id": "0a9a2769-d49d-4a7c-a0a5-b3f4ed9d69cb",
   "metadata": {},
   "source": [
    "# 클래스공부 1단계 "
   ]
  },
  {
   "cell_type": "markdown",
   "id": "a10a8949-b449-48de-b6ae-e73d49b44c0e",
   "metadata": {},
   "source": [
    "## 메소드 ($\\star$)"
   ]
  },
  {
   "cell_type": "markdown",
   "id": "ef24dca7-a2c5-4d1b-9d03-517768e1fe47",
   "metadata": {},
   "source": [
    "`-` 직관: \n",
    "\n",
    "1. show라는 함수는 `pp2023`, `burger` 외부에 독립적으로 존재하는 함수. \n",
    "2. show라는 함수를 과 같이`pp2023.title`과 `pp2023` 혹은 `burger` 안에 종속시키고 싶다. "
   ]
  },
  {
   "cell_type": "markdown",
   "id": "a342d5df-7000-4ced-a1ee-352cbf943816",
   "metadata": {},
   "source": [
    "> 어차피 show는 pp2023, burger와 같이 JungKKuckMa의 인스턴스를 입력으로 받을 예정이므로 pp2023과 burger와 관련이 있다. 그래서 같이 묶는게 깔끔하다는 생각이 든다. "
   ]
  },
  {
   "cell_type": "markdown",
   "id": "3666ad27-756f-4477-b7d9-b9bacc506677",
   "metadata": {},
   "source": [
    "`-` 시도1: 결국 `pp2023.show`와 같은 것을 만들고 싶은것이므로 `pp2023.title` 을 설정하듯이 해보자. $\\to$ 실패  "
   ]
  },
  {
   "cell_type": "code",
   "execution_count": 24,
   "id": "0ec47a4a-52b7-4f5b-8830-48e62f7ebd20",
   "metadata": {},
   "outputs": [],
   "source": [
    "class JungKKuckMa:\n",
    "    pass\n",
    "\n",
    "pp2023 = JungKKuckMa()"
   ]
  },
  {
   "cell_type": "code",
   "execution_count": 25,
   "id": "a8e79f05-fa49-4084-baa4-e926e3bde7c7",
   "metadata": {},
   "outputs": [],
   "source": [
    "pp2023.title = '파이썬 프로그래밍 중간고사 패배는 괜찮다.'\n",
    "pp2023.imgurl = 'https://github.com/guebin/PP2023/blob/main/posts/03_Class/PP2023mid.jpg?raw=true?'\n",
    "pp2023.ques = \"Q: 파이썬 프로그래밍 기말고사, 어떤 점에 유의해야 할까?\"\n",
    "pp2023.ans = \"A: 최규빈 교수 문제 스타일에 대해서 더 분석할 건 없는 것 같고, 내가 내 코드를 잘 구현하는 게 제일 중요한 것 같고 중간고사는 망하긴 했지만 제 스스로 안 무너지면 충분히 기말고사는 잘 볼 수 있을 것 같아요.\"\n",
    "pp2023.highlight = '마음'\n",
    "pp2023.html_str =\\\n",
    "'''\n",
    "<style>\n",
    "    .title {{\n",
    "        font-family: \"Times New Roman\", serif;\n",
    "        font-size: 30px;\n",
    "        font-weight: 900;\n",
    "    }}\n",
    "    .text {{\n",
    "        font-family: \"Arial\", sans-serif;\n",
    "        font-size: 20px;\n",
    "        font-style: italic;\n",
    "    }}\n",
    "    .highlight {{\n",
    "        font-family: \"Montserrat\", monospace;\n",
    "        font-size: 35px;\n",
    "        font-weight: 900;\n",
    "        text-decoration: underline;\n",
    "        font-style: normal;\n",
    "        color: darkblue;\n",
    "        background-color: #FFFF00;\n",
    "    }}\n",
    "</style>\n",
    "<p class=\"title\">{ttl}</p>\n",
    "<img src={url} width=\"600\">\n",
    "<p> \\n </p>\n",
    "<p class=\"text\">{Q}</p>\n",
    "<p class=\"text\">{A}</p>\n",
    "<p class=\"title\">중요한 것은 꺽이지 않는 <span class=\"highlight\">{hl}</span></p>\n",
    "'''"
   ]
  },
  {
   "cell_type": "code",
   "execution_count": 26,
   "id": "7eebbd0b-f952-43d1-a45b-b1434717c77b",
   "metadata": {},
   "outputs": [
    {
     "ename": "SyntaxError",
     "evalue": "invalid syntax (<ipython-input-26-7e81d9b4ed5c>, line 12)",
     "output_type": "error",
     "traceback": [
      "\u001b[0;36m  Cell \u001b[0;32mIn[26], line 12\u001b[0;36m\u001b[0m\n\u001b[0;31m    def pp2023.show(pp2023):\u001b[0m\n\u001b[0m              ^\u001b[0m\n\u001b[0;31mSyntaxError\u001b[0m\u001b[0;31m:\u001b[0m invalid syntax\n"
     ]
    }
   ],
   "source": [
    "# 원래코드 \n",
    "# def show(pp2023):\n",
    "#     _str = pp2023.html_str.format(\n",
    "#         ttl = pp2023.title,\n",
    "#         url = pp2023.imgurl,\n",
    "#         Q = pp2023.ques,\n",
    "#         A = pp2023.ans,\n",
    "#         hl = pp2023.highlight\n",
    "#     )\n",
    "#     display(HTML(_str))\n",
    "# 수정한코드 \n",
    "def pp2023.show(pp2023):\n",
    "    _str = pp2023.html_str.format(\n",
    "        ttl = pp2023.title,\n",
    "        url = pp2023.imgurl,\n",
    "        Q = pp2023.ques,\n",
    "        A = pp2023.ans,\n",
    "        hl = pp2023.highlight\n",
    "    )\n",
    "    display(HTML(_str))"
   ]
  },
  {
   "cell_type": "markdown",
   "id": "720e5e98-5326-4596-ab2a-f7f6a6701e1d",
   "metadata": {},
   "source": [
    "실패했다.. "
   ]
  },
  {
   "cell_type": "markdown",
   "id": "20cbc206-d355-427d-975a-203ac10ce308",
   "metadata": {},
   "source": [
    "`-` 시도2: 성공"
   ]
  },
  {
   "cell_type": "code",
   "execution_count": 33,
   "id": "d10cd060-3a28-4701-9c86-458d871f8b88",
   "metadata": {},
   "outputs": [],
   "source": [
    "class JungKKuckMa:\n",
    "    def show(self):\n",
    "        _str = self.html_str.format(\n",
    "            ttl = self.title,\n",
    "            url = self.imgurl,\n",
    "            Q = self.ques,\n",
    "            A = self.ans,\n",
    "            hl = self.highlight\n",
    "        )\n",
    "        display(HTML(_str))\n",
    "# show함수를 그대로 넣고 pp2023을 self로 바꿈 "
   ]
  },
  {
   "cell_type": "code",
   "execution_count": 34,
   "id": "89e9f806-14e0-4f5f-97a2-677ab4c80f79",
   "metadata": {},
   "outputs": [],
   "source": [
    "pp2023 = JungKKuckMa()"
   ]
  },
  {
   "cell_type": "markdown",
   "id": "d96256c2-2595-4509-9695-e467a7f0e560",
   "metadata": {},
   "source": [
    "*(참고) 이 시점에 `pp2023.` + tab을 누르면 show 함수가 자동완성 된다.*"
   ]
  },
  {
   "cell_type": "code",
   "execution_count": 36,
   "id": "c034ad2b-65aa-4492-8e6e-fc697c90ee40",
   "metadata": {},
   "outputs": [],
   "source": [
    "pp2023.title = '파이썬 프로그래밍 중간고사 패배는 괜찮다.'\n",
    "pp2023.imgurl = 'https://github.com/guebin/PP2023/blob/main/posts/03_Class/PP2023mid.jpg?raw=true?'\n",
    "pp2023.ques = \"Q: 파이썬 프로그래밍 기말고사, 어떤 점에 유의해야 할까?\"\n",
    "pp2023.ans = \"A: 최규빈 교수 문제 스타일에 대해서 더 분석할 건 없는 것 같고, 내가 내 코드를 잘 구현하는 게 제일 중요한 것 같고 중간고사는 망하긴 했지만 제 스스로 안 무너지면 충분히 기말고사는 잘 볼 수 있을 것 같아요.\"\n",
    "pp2023.highlight = '마음'\n",
    "pp2023.html_str =\\\n",
    "'''\n",
    "<style>\n",
    "    .title {{\n",
    "        font-family: \"Times New Roman\", serif;\n",
    "        font-size: 30px;\n",
    "        font-weight: 900;\n",
    "    }}\n",
    "    .text {{\n",
    "        font-family: \"Arial\", sans-serif;\n",
    "        font-size: 20px;\n",
    "        font-style: italic;\n",
    "    }}\n",
    "    .highlight {{\n",
    "        font-family: \"Montserrat\", monospace;\n",
    "        font-size: 35px;\n",
    "        font-weight: 900;\n",
    "        text-decoration: underline;\n",
    "        font-style: normal;\n",
    "        color: darkblue;\n",
    "        background-color: #FFFF00;\n",
    "    }}\n",
    "</style>\n",
    "<p class=\"title\">{ttl}</p>\n",
    "<img src={url} width=\"600\">\n",
    "<p> \\n </p>\n",
    "<p class=\"text\">{Q}</p>\n",
    "<p class=\"text\">{A}</p>\n",
    "<p class=\"title\">중요한 것은 꺽이지 않는 <span class=\"highlight\">{hl}</span></p>\n",
    "'''"
   ]
  },
  {
   "cell_type": "markdown",
   "id": "cbd07b4c-7dd7-4397-a35e-3c219b556ae3",
   "metadata": {},
   "source": [
    "*(참고) 이 시점에서 `pp2023.` + tab 을 하면 아래와 같이 보인다.*"
   ]
  },
  {
   "attachments": {
    "fbce7dbd-f3ab-4fdb-b78d-80a0cfc079d1.png": {
     "image/png": "[encoded data removed]"
    }
   },
   "cell_type": "markdown",
   "id": "8b62b805-8b8e-4f36-a3a3-363b08fe5649",
   "metadata": {},
   "source": [
    "![](attachment:fbce7dbd-f3ab-4fdb-b78d-80a0cfc079d1.png)"
   ]
  },
  {
   "cell_type": "markdown",
   "id": "3b143f67-45db-4faf-8e9a-c217d3749ff8",
   "metadata": {},
   "source": [
    "pp2023 내부에는 ans,highlight, html_str 등과 함께 show도 포함되어있음. "
   ]
  },
  {
   "cell_type": "code",
   "execution_count": 42,
   "id": "96832ca2-e13f-44fe-9b62-2a92314a1277",
   "metadata": {},
   "outputs": [
    {
     "data": {
      "text/html": [
       "\n",
       "<style>\n",
       "    .title {\n",
       "        font-family: \"Times New Roman\", serif;\n",
       "        font-size: 30px;\n",
       "        font-weight: 900;\n",
       "    }\n",
       "    .text {\n",
       "        font-family: \"Arial\", sans-serif;\n",
       "        font-size: 20px;\n",
       "        font-style: italic;\n",
       "    }\n",
       "    .highlight {\n",
       "        font-family: \"Montserrat\", monospace;\n",
       "        font-size: 35px;\n",
       "        font-weight: 900;\n",
       "        text-decoration: underline;\n",
       "        font-style: normal;\n",
       "        color: darkblue;\n",
       "        background-color: #FFFF00;\n",
       "    }\n",
       "</style>\n",
       "<p class=\"title\">파이썬 프로그래밍 중간고사 패배는 괜찮다.</p>\n",
       "<img src=https://github.com/guebin/PP2023/blob/main/posts/03_Class/PP2023mid.jpg?raw=true? width=\"600\">\n",
       "<p> \n",
       " </p>\n",
       "<p class=\"text\">Q: 파이썬 프로그래밍 기말고사, 어떤 점에 유의해야 할까?</p>\n",
       "<p class=\"text\">A: 최규빈 교수 문제 스타일에 대해서 더 분석할 건 없는 것 같고, 내가 내 코드를 잘 구현하는 게 제일 중요한 것 같고 중간고사는 망하긴 했지만 제 스스로 안 무너지면 충분히 기말고사는 잘 볼 수 있을 것 같아요.</p>\n",
       "<p class=\"title\">중요한 것은 꺽이지 않는 <span class=\"highlight\">마음</span></p>\n"
      ],
      "text/plain": [
       "<IPython.core.display.HTML object>"
      ]
     },
     "metadata": {},
     "output_type": "display_data"
    }
   ],
   "source": [
    "pp2023.show() \n",
    "\n",
    "# pp2023.show의 입력을 생략해도, pp2023 자체는 자동으로 입력대상으로 고려 "
   ]
  },
  {
   "cell_type": "markdown",
   "id": "eb3f085a-2c5a-4676-8997-ee2f794f2e51",
   "metadata": {},
   "source": [
    "`-` 암기 \n",
    "\n",
    "1. 선언하는 방법: 외부에 선언한 show의 코드를 그대로 복붙하여 Class안으로 가져온다. $\\to$ pp2023이라고 되었던 부분을 모두 self로 바꾼다!\n",
    "2. 사용하는 방법: pp2023의 내부에 소속된 함수 (ex: pp2023.show) 를 사용할때는, 함수의 사용에 pp2023의 정보를 쓰더라도 (ex: pp2023.title 등), 입력으로 pp2023을 생략한다."
   ]
  },
  {
   "cell_type": "markdown",
   "id": "7e2e69b9-616c-492e-864a-1b6ab5420849",
   "metadata": {},
   "source": [
    "## self의 의미 ($\\star$)"
   ]
  },
  {
   "cell_type": "markdown",
   "id": "03c426a2-a053-410d-972f-6a20bc810987",
   "metadata": {},
   "source": [
    "`-` 아래의 코드를 다시 관찰하자."
   ]
  },
  {
   "cell_type": "code",
   "execution_count": 55,
   "id": "f0ff9939-b4d7-44ed-be1f-c9931f3e6755",
   "metadata": {},
   "outputs": [],
   "source": [
    "class JungKKuckMa:\n",
    "    def show(self):\n",
    "        _str = self.html_str.format(\n",
    "            ttl = self.title,\n",
    "            url = self.imgurl,\n",
    "            Q = self.ques,\n",
    "            A = self.ans,\n",
    "            hl = self.highlight\n",
    "        )\n",
    "        display(HTML(_str))\n",
    "# show함수를 그대로 넣고 pp2023을 self로 바꿈 "
   ]
  },
  {
   "cell_type": "code",
   "execution_count": 47,
   "id": "a6243ff1-81c2-4c43-8095-f2b549c421c0",
   "metadata": {},
   "outputs": [],
   "source": [
    "pp2023 = JungKKuckMa()"
   ]
  },
  {
   "cell_type": "markdown",
   "id": "c713aec9-c47a-4d57-b80f-2d9f3b39fa85",
   "metadata": {},
   "source": [
    "`-` 관찰\n",
    "\n",
    "- `self`는 `pp2023` 혹은 `burger` 에 대응한다. \n",
    "- 즉 `self`는 `JungKKuckMa` 클래스에서 생성할 인스턴스의 이름에 대응한다. \n",
    "- 비유하면 `self`는 `JungKKuckMa` 에서 태어날 아기의 이름을 대신한다. "
   ]
  },
  {
   "cell_type": "markdown",
   "id": "ddc7a281-3c66-4d3e-b0d9-a053b79b563b",
   "metadata": {},
   "source": [
    "`-` 우리가 하고 싶은 것: 클래스가 설계되는 시점에서, 클래스가 설계완료되고 그 후에 태어날 인스턴스의 이름을 이용해 show 함수의 동작을 define 하는 것"
   ]
  },
  {
   "cell_type": "markdown",
   "id": "7cf90ed0-166c-4b6a-8002-f66b728c2dbf",
   "metadata": {},
   "source": [
    "`-` 즉 아래의 코드에서 \n",
    "\n",
    "```Python\n",
    "    def show(self):\n",
    "        _str = self.html_str.format(\n",
    "            ttl = self.title,\n",
    "            url = self.imgurl,\n",
    "            Q = self.ques,\n",
    "            A = self.ans,\n",
    "            hl = self.highlight\n",
    "        )\n",
    "        display(HTML(_str))\n",
    "```\n",
    "\n",
    "def show 이후에 서술된 모든 내용은 시점상 `???? = JungKKuckMa()` 가 선언된 이후의 행동을 \"미리\" 정의하는 코드이며, 이때 `self`는 `????`의 자리를 대신한다. "
   ]
  },
  {
   "cell_type": "markdown",
   "id": "142c7d5a-8ed1-469d-86e8-438bb485a0a6",
   "metadata": {},
   "source": [
    "`-` self의 의미: `???? = JungKKuckMa()` 에 의해서 의하여 태어날 인스턴스 \"태명\" \n",
    "\n",
    "1. 우리는 클래스가 설계되는 시점에서 인스턴스가 태어난 이후에 하게 될 일련의 동작을 정의하고 싶음. \n",
    "2. 그런데 클래스가 설계하는 시점에서는 인스턴스의 이름이 정해지지 않았으므로 (아직 태어나지도 않음) 1번의 작업이 불편하다. \n",
    "3. 그래서 앞으로는 1번의 작업이 원활하게 진행되도록, 앞으로 태어날 인스턴스의 이름은 모두 self라는 가칭으로 부른다. "
   ]
  },
  {
   "cell_type": "markdown",
   "id": "efdc04d7-88fe-49e4-95a4-3f2188eb48f1",
   "metadata": {},
   "source": [
    "`-` 시점이 꼬일시 발생하는 오류 "
   ]
  },
  {
   "cell_type": "code",
   "execution_count": 64,
   "id": "42147595-296b-4273-914c-213770e3a7cb",
   "metadata": {},
   "outputs": [],
   "source": [
    "class JungKKuckMa:\n",
    "    def show(self):\n",
    "        _str = self.html_str.format(\n",
    "            ttl = self.title,\n",
    "            url = self.imgurl,\n",
    "            Q = self.ques,\n",
    "            A = self.ans,\n",
    "            hl = self.highlight\n",
    "        )\n",
    "        display(HTML(_str))"
   ]
  },
  {
   "cell_type": "code",
   "execution_count": 65,
   "id": "3c04f667-8fe7-486a-8d5b-422073242774",
   "metadata": {},
   "outputs": [],
   "source": [
    "pp2023 = JungKKuckMa()"
   ]
  },
  {
   "cell_type": "code",
   "execution_count": 66,
   "id": "245c3418-b2c8-4296-a9cd-d06947f70a75",
   "metadata": {},
   "outputs": [],
   "source": [
    "pp2023.title = '파이썬 프로그래밍 중간고사 패배는 괜찮다.'\n",
    "# pp2023.imgurl = 'https://github.com/guebin/PP2023/blob/main/posts/03_Class/PP2023mid.jpg?raw=true?'\n",
    "# pp2023.ques = \"Q: 파이썬 프로그래밍 기말고사, 어떤 점에 유의해야 할까?\"\n",
    "# pp2023.ans = \"A: 최규빈 교수 문제 스타일에 대해서 더 분석할 건 없는 것 같고, 내가 내 코드를 잘 구현하는 게 제일 중요한 것 같고 중간고사는 망하긴 했지만 제 스스로 안 무너지면 충분히 기말고사는 잘 볼 수 있을 것 같아요.\"\n",
    "# pp2023.highlight = '마음'\n",
    "pp2023.html_str =\\\n",
    "'''\n",
    "<style>\n",
    "    .title {{\n",
    "        font-family: \"Times New Roman\", serif;\n",
    "        font-size: 30px;\n",
    "        font-weight: 900;\n",
    "    }}\n",
    "    .text {{\n",
    "        font-family: \"Arial\", sans-serif;\n",
    "        font-size: 20px;\n",
    "        font-style: italic;\n",
    "    }}\n",
    "    .highlight {{\n",
    "        font-family: \"Montserrat\", monospace;\n",
    "        font-size: 35px;\n",
    "        font-weight: 900;\n",
    "        text-decoration: underline;\n",
    "        font-style: normal;\n",
    "        color: darkblue;\n",
    "        background-color: #FFFF00;\n",
    "    }}\n",
    "</style>\n",
    "<p class=\"title\">{ttl}</p>\n",
    "<img src={url} width=\"600\">\n",
    "<p> \\n </p>\n",
    "<p class=\"text\">{Q}</p>\n",
    "<p class=\"text\">{A}</p>\n",
    "<p class=\"title\">중요한 것은 꺽이지 않는 <span class=\"highlight\">{hl}</span></p>\n",
    "'''"
   ]
  },
  {
   "cell_type": "code",
   "execution_count": 67,
   "id": "aafafe74-f7b9-4c4f-be9c-2457c5e2a0f9",
   "metadata": {},
   "outputs": [
    {
     "ename": "AttributeError",
     "evalue": "'JungKKuckMa' object has no attribute 'imgurl'",
     "output_type": "error",
     "traceback": [
      "\u001b[0;31m---------------------------------------------------------------------------\u001b[0m",
      "\u001b[0;31mAttributeError\u001b[0m                            Traceback (most recent call last)",
      "Cell \u001b[0;32mIn[67], line 1\u001b[0m\n\u001b[0;32m----> 1\u001b[0m \u001b[43mpp2023\u001b[49m\u001b[38;5;241;43m.\u001b[39;49m\u001b[43mshow\u001b[49m\u001b[43m(\u001b[49m\u001b[43m)\u001b[49m\n",
      "Cell \u001b[0;32mIn[64], line 5\u001b[0m, in \u001b[0;36mJungKKuckMa.show\u001b[0;34m(self)\u001b[0m\n\u001b[1;32m      2\u001b[0m \u001b[38;5;28;01mdef\u001b[39;00m \u001b[38;5;21mshow\u001b[39m(\u001b[38;5;28mself\u001b[39m):\n\u001b[1;32m      3\u001b[0m     _str \u001b[38;5;241m=\u001b[39m \u001b[38;5;28mself\u001b[39m\u001b[38;5;241m.\u001b[39mhtml_str\u001b[38;5;241m.\u001b[39mformat(\n\u001b[1;32m      4\u001b[0m         ttl \u001b[38;5;241m=\u001b[39m \u001b[38;5;28mself\u001b[39m\u001b[38;5;241m.\u001b[39mtitle,\n\u001b[0;32m----> 5\u001b[0m         url \u001b[38;5;241m=\u001b[39m \u001b[38;5;28;43mself\u001b[39;49m\u001b[38;5;241;43m.\u001b[39;49m\u001b[43mimgurl\u001b[49m,\n\u001b[1;32m      6\u001b[0m         Q \u001b[38;5;241m=\u001b[39m \u001b[38;5;28mself\u001b[39m\u001b[38;5;241m.\u001b[39mques,\n\u001b[1;32m      7\u001b[0m         A \u001b[38;5;241m=\u001b[39m \u001b[38;5;28mself\u001b[39m\u001b[38;5;241m.\u001b[39mans,\n\u001b[1;32m      8\u001b[0m         hl \u001b[38;5;241m=\u001b[39m \u001b[38;5;28mself\u001b[39m\u001b[38;5;241m.\u001b[39mhighlight\n\u001b[1;32m      9\u001b[0m     )\n\u001b[1;32m     10\u001b[0m     display(HTML(_str))\n",
      "\u001b[0;31mAttributeError\u001b[0m: 'JungKKuckMa' object has no attribute 'imgurl'"
     ]
    }
   ],
   "source": [
    "pp2023.show()"
   ]
  }
 ],
 "metadata": {
  "kernelspec": {
   "display_name": "Python 3",
   "language": "python",
   "name": "python3"
  },
  "language_info": {
   "codemirror_mode": {
    "name": "ipython",
    "version": 3
   },
   "file_extension": ".py",
   "mimetype": "text/x-python",
   "name": "python",
   "nbconvert_exporter": "python",
   "pygments_lexer": "ipython3",
   "version": "3.8.16"
  }
 },
 "nbformat": 4,
 "nbformat_minor": 5
}
