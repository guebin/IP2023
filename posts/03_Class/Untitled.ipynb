{
 "cells": [
  {
   "cell_type": "code",
   "execution_count": 1,
   "id": "e2c0f1b0-088d-46e5-9444-4fffb89442a0",
   "metadata": {},
   "outputs": [],
   "source": [
    "import numpy as np"
   ]
  },
  {
   "cell_type": "code",
   "execution_count": 6,
   "id": "99976ce7-4cbd-4f3a-af6c-45ed9249e8c6",
   "metadata": {},
   "outputs": [],
   "source": [
    "T = 100000"
   ]
  },
  {
   "cell_type": "code",
   "execution_count": null,
   "id": "f318cb80-d555-461f-9666-3882ec3bca89",
   "metadata": {},
   "outputs": [],
   "source": [
    "M= np.arange(T*T).reshape(T,T)"
   ]
  },
  {
   "cell_type": "code",
   "execution_count": null,
   "id": "56b985fa-dfcc-45a0-bab7-d93ef39adff7",
   "metadata": {},
   "outputs": [],
   "source": []
  }
 ],
 "metadata": {
  "kernelspec": {
   "display_name": "Python 3",
   "language": "python",
   "name": "python3"
  },
  "language_info": {
   "codemirror_mode": {
    "name": "ipython",
    "version": 3
   },
   "file_extension": ".py",
   "mimetype": "text/x-python",
   "name": "python",
   "nbconvert_exporter": "python",
   "pygments_lexer": "ipython3",
   "version": "3.8.16"
  }
 },
 "nbformat": 4,
 "nbformat_minor": 5
}
