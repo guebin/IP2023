{
 "cells": [
  {
   "cell_type": "raw",
   "id": "e12e74fa-8510-4f61-91a9-9150c617bf48",
   "metadata": {},
   "source": [
    "---\n",
    "title: \"11wk-1: 클래스 (2)\"\n",
    "author: \"최규빈\"\n",
    "date: \"05/15/2023\"\n",
    "---"
   ]
  },
  {
   "cell_type": "markdown",
   "id": "f13e2a0f-af50-4875-8c88-7e438eebd5c4",
   "metadata": {},
   "source": [
    "<a href=\"https://colab.research.google.com/github/guebin/PP2023/blob/main/posts/03_Class/2023-05-15-11wk-1.ipynb\"><img src=\"https://colab.research.google.com/assets/colab-badge.svg\" style=\"text-align: left\"></a>"
   ]
  },
  {
   "cell_type": "markdown",
   "id": "28f663a8-4436-4e82-a317-a9186d3e440b",
   "metadata": {},
   "source": [
    "# 강의영상 "
   ]
  },
  {
   "cell_type": "markdown",
   "id": "21e47355-9999-43ee-bcee-e0c498f7179e",
   "metadata": {},
   "source": [
    "> youtube: <https://youtube.com/playlist?list=PLQqh36zP38-y_wMxWRPdN7TE79Ghx8xUA> "
   ]
  },
  {
   "cell_type": "markdown",
   "id": "50b60741-3985-40f4-9f20-430fbaf87c04",
   "metadata": {},
   "source": [
    "# imports "
   ]
  },
  {
   "cell_type": "code",
   "execution_count": 1,
   "id": "283d8174-52e4-45ab-bbc9-07758094caf2",
   "metadata": {},
   "outputs": [],
   "source": [
    "from IPython.core.display import HTML"
   ]
  },
  {
   "cell_type": "markdown",
   "id": "2e39a1ca-0a87-4c15-b7e3-15027fb679c0",
   "metadata": {},
   "source": [
    "# 예비학습"
   ]
  },
  {
   "cell_type": "markdown",
   "id": "2dd43e8a-9002-4c6a-ac33-c11864d202e8",
   "metadata": {},
   "source": [
    "## 코드줄바꿈 "
   ]
  },
  {
   "cell_type": "markdown",
   "id": "3e92d58e-8555-483b-8ca8-52b041527c08",
   "metadata": {},
   "source": [
    "`\\`: 코드가 길때 줄을 바꾸는 기능 "
   ]
  },
  {
   "cell_type": "markdown",
   "id": "bff6de9b-63b3-4c7f-ab71-090adf39839c",
   "metadata": {},
   "source": [
    "`-` 예시1"
   ]
  },
  {
   "cell_type": "code",
   "execution_count": 2,
   "id": "8d1fff91-bb20-4a51-b456-6b515a4d714e",
   "metadata": {},
   "outputs": [],
   "source": [
    "a\\\n",
    "=55"
   ]
  },
  {
   "cell_type": "code",
   "execution_count": 3,
   "id": "f6f27933-dbc4-4c79-ba33-07ce326205b8",
   "metadata": {},
   "outputs": [
    {
     "data": {
      "text/plain": [
       "55"
      ]
     },
     "execution_count": 3,
     "metadata": {},
     "output_type": "execute_result"
    }
   ],
   "source": [
    "a"
   ]
  },
  {
   "cell_type": "code",
   "execution_count": 4,
   "id": "95ae691b-80ae-4a36-9ec7-79a313f4d931",
   "metadata": {},
   "outputs": [],
   "source": [
    "a=\\\n",
    "33"
   ]
  },
  {
   "cell_type": "code",
   "execution_count": 5,
   "id": "879e3fdc-d066-4b65-950d-57f43b42e189",
   "metadata": {},
   "outputs": [
    {
     "data": {
      "text/plain": [
       "33"
      ]
     },
     "execution_count": 5,
     "metadata": {},
     "output_type": "execute_result"
    }
   ],
   "source": [
    "a"
   ]
  },
  {
   "cell_type": "markdown",
   "id": "677f1205-9b05-4320-9fd8-2edf60c68ff5",
   "metadata": {},
   "source": [
    "`-` 예시2"
   ]
  },
  {
   "cell_type": "code",
   "execution_count": 6,
   "id": "13053545-d328-4f42-9f36-776f6fa67de5",
   "metadata": {},
   "outputs": [
    {
     "data": {
      "text/plain": [
       "0.5"
      ]
     },
     "execution_count": 6,
     "metadata": {},
     "output_type": "execute_result"
    }
   ],
   "source": [
    "a=0.5 \n",
    "a"
   ]
  },
  {
   "cell_type": "markdown",
   "id": "57aa0536-52fa-4b83-bad7-8ddb454f43e3",
   "metadata": {},
   "source": [
    "$a+a^2+a^3+a^4+a^5$ 를 계산하고 싶다면? "
   ]
  },
  {
   "cell_type": "markdown",
   "id": "6505b31a-73ab-45b6-8cc7-d37176017065",
   "metadata": {},
   "source": [
    "(방법1)"
   ]
  },
  {
   "cell_type": "code",
   "execution_count": 7,
   "id": "a60dd3b2-7914-4dd8-9be7-a437605e623a",
   "metadata": {},
   "outputs": [
    {
     "data": {
      "text/plain": [
       "0.96875"
      ]
     },
     "execution_count": 7,
     "metadata": {},
     "output_type": "execute_result"
    }
   ],
   "source": [
    "a + a**2 + a**3 + a**4 + a**5 "
   ]
  },
  {
   "cell_type": "markdown",
   "id": "ff162cd6-2460-4314-adf6-50ac2f5f8b4f",
   "metadata": {},
   "source": [
    "(방법2)"
   ]
  },
  {
   "cell_type": "code",
   "execution_count": 8,
   "id": "52f7caa3-a6e7-4835-902a-e337d49f0eee",
   "metadata": {},
   "outputs": [
    {
     "data": {
      "text/plain": [
       "0.96875"
      ]
     },
     "execution_count": 8,
     "metadata": {},
     "output_type": "execute_result"
    }
   ],
   "source": [
    "a +\\\n",
    "a**2 +\\\n",
    "a**3 +\\\n",
    "a**4 +\\\n",
    "a**5 "
   ]
  },
  {
   "cell_type": "markdown",
   "id": "b89c569a-18eb-4677-99c6-b4264dd7dcc1",
   "metadata": {},
   "source": [
    "## `'''`으로 선언하는 문자열 "
   ]
  },
  {
   "cell_type": "markdown",
   "id": "966db04c-082e-4a83-8833-2394d585fd1a",
   "metadata": {},
   "source": [
    "`-` 예시1"
   ]
  },
  {
   "cell_type": "code",
   "execution_count": 9,
   "id": "4b67f1bd-2a0f-4e40-a7d6-42376b0a70e0",
   "metadata": {},
   "outputs": [
    {
     "name": "stdout",
     "output_type": "stream",
     "text": [
      "\n",
      "1. asdf\n",
      "2. sdfa\n",
      "3. dfas\n",
      "4. fasd\n",
      "\n"
     ]
    }
   ],
   "source": [
    "string = '\\n1. asdf\\n2. sdfa\\n3. dfas\\n4. fasd\\n'\n",
    "print(string)"
   ]
  },
  {
   "cell_type": "code",
   "execution_count": 10,
   "id": "3d952b7f-f308-47a1-a553-73b044d2c6d3",
   "metadata": {},
   "outputs": [
    {
     "name": "stdout",
     "output_type": "stream",
     "text": [
      "\n",
      "1. asdf\n",
      "2. sdfa\n",
      "3. dfas\n",
      "4. fasd\n",
      "\n"
     ]
    }
   ],
   "source": [
    "string = \\\n",
    "'''\n",
    "1. asdf\n",
    "2. sdfa\n",
    "3. dfas\n",
    "4. fasd\n",
    "'''\n",
    "print(string)"
   ]
  },
  {
   "cell_type": "markdown",
   "id": "cd676582-bcda-4aa9-abb5-10241cd2853e",
   "metadata": {},
   "source": [
    "`-` 예시2 "
   ]
  },
  {
   "cell_type": "code",
   "execution_count": 11,
   "id": "288e1da0-64e2-4aa4-8ec5-2786f7e714a1",
   "metadata": {},
   "outputs": [],
   "source": [
    "string = \\\n",
    "'''\n",
    "1. asdf\n",
    "2. sdfa\n",
    "3. dfas\n",
    "4. fasd\n",
    "5. {}\n",
    "6. {}\n",
    "'''"
   ]
  },
  {
   "cell_type": "code",
   "execution_count": 12,
   "id": "5be2e653-cd71-457c-bf71-37946d909a90",
   "metadata": {},
   "outputs": [
    {
     "name": "stdout",
     "output_type": "stream",
     "text": [
      "\n",
      "1. asdf\n",
      "2. sdfa\n",
      "3. dfas\n",
      "4. fasd\n",
      "5. aaaa\n",
      "6. bbbb\n",
      "\n"
     ]
    }
   ],
   "source": [
    "print(string.format('aaaa','bbbb'))"
   ]
  },
  {
   "cell_type": "markdown",
   "id": "436126d3-0ba2-4cb2-8c72-e848cdc3c989",
   "metadata": {},
   "source": [
    "## 문자열 포맷팅 "
   ]
  },
  {
   "cell_type": "markdown",
   "id": "b333804a-7724-4e55-89b8-2f38bf5651b4",
   "metadata": {},
   "source": [
    "`-` 예시1 "
   ]
  },
  {
   "cell_type": "code",
   "execution_count": 13,
   "id": "5f293012-2e7a-499b-abcb-2d039a1e6fad",
   "metadata": {},
   "outputs": [],
   "source": [
    "string = \\\n",
    "'''\n",
    "1. 이름: {}\n",
    "2. 소속: {}\n",
    "'''"
   ]
  },
  {
   "cell_type": "code",
   "execution_count": 14,
   "id": "09365fd2-8f3e-4a9d-8bba-cac9ad9ab36d",
   "metadata": {},
   "outputs": [
    {
     "name": "stdout",
     "output_type": "stream",
     "text": [
      "\n",
      "1. 이름: 최규빈\n",
      "2. 소속: 통계학과\n",
      "\n"
     ]
    }
   ],
   "source": [
    "print(string.format('최규빈','통계학과'))"
   ]
  },
  {
   "cell_type": "code",
   "execution_count": 15,
   "id": "96a690a4-ea27-4888-8043-7e7e2dc8bd20",
   "metadata": {},
   "outputs": [
    {
     "name": "stdout",
     "output_type": "stream",
     "text": [
      "\n",
      "1. 이름: 통계학과\n",
      "2. 소속: 최규빈\n",
      "\n"
     ]
    }
   ],
   "source": [
    "print(string.format('통계학과','최규빈'))"
   ]
  },
  {
   "cell_type": "markdown",
   "id": "7980d10c-983e-4ccb-9ffa-f2b005b7e0d7",
   "metadata": {},
   "source": [
    "`-` 예시2 "
   ]
  },
  {
   "cell_type": "code",
   "execution_count": 16,
   "id": "1e497894-5f5a-4aa3-bdd4-e94e8be05f00",
   "metadata": {},
   "outputs": [],
   "source": [
    "string = \\\n",
    "'''\n",
    "1. 이름: {name}\n",
    "2. 소속: {affiliation}\n",
    "'''"
   ]
  },
  {
   "cell_type": "code",
   "execution_count": 17,
   "id": "f06daa44-83bf-4e5c-87dc-5d6eebcfe397",
   "metadata": {},
   "outputs": [
    {
     "name": "stdout",
     "output_type": "stream",
     "text": [
      "\n",
      "1. 이름: 최규빈\n",
      "2. 소속: 통계학과\n",
      "\n"
     ]
    }
   ],
   "source": [
    "print(string.format(name='최규빈', affiliation='통계학과'))"
   ]
  },
  {
   "cell_type": "code",
   "execution_count": 18,
   "id": "6270381e-d7fb-4f2a-85a4-4ab9dbdd365b",
   "metadata": {},
   "outputs": [
    {
     "name": "stdout",
     "output_type": "stream",
     "text": [
      "\n",
      "1. 이름: 최규빈\n",
      "2. 소속: 통계학과\n",
      "\n"
     ]
    }
   ],
   "source": [
    "print(string.format(affiliation='통계학과',name='최규빈'))"
   ]
  },
  {
   "cell_type": "markdown",
   "id": "8ee55bec-cd59-4f44-8dfc-9a12fbc99f45",
   "metadata": {},
   "source": [
    "## HTML"
   ]
  },
  {
   "cell_type": "markdown",
   "id": "0e50351c-5842-422d-9500-97f4f0ba93a7",
   "metadata": {},
   "source": [
    "`-` 예제1: 텍스트 출력 "
   ]
  },
  {
   "cell_type": "code",
   "execution_count": 19,
   "id": "80a9ec67-8ee8-42b9-8b04-a04b8636218e",
   "metadata": {},
   "outputs": [],
   "source": [
    "html_str = '''\n",
    "<p> 파이썬 프로그래밍 2023 </p>\n",
    "'''"
   ]
  },
  {
   "cell_type": "code",
   "execution_count": 20,
   "id": "4c78a6ae-94d7-49d0-936d-3bae46a71dcc",
   "metadata": {},
   "outputs": [
    {
     "data": {
      "text/html": [
       "\n",
       "<p> 파이썬 프로그래밍 2023 </p>\n"
      ],
      "text/plain": [
       "<IPython.core.display.HTML object>"
      ]
     },
     "execution_count": 20,
     "metadata": {},
     "output_type": "execute_result"
    }
   ],
   "source": [
    "HTML(html_str)"
   ]
  },
  {
   "cell_type": "markdown",
   "id": "2be18dc6-bf25-4577-9bd3-113d9e9ca29f",
   "metadata": {},
   "source": [
    "`-` 예제2: 텍스트의 스타일변경 "
   ]
  },
  {
   "cell_type": "code",
   "execution_count": 21,
   "id": "82969341-fe99-4f90-9edb-734c828737e3",
   "metadata": {},
   "outputs": [],
   "source": [
    "html_str = '''\n",
    "<style>\n",
    "    .title {\n",
    "        font-family: \"Times New Roman\", serif;\n",
    "        font-size: 30px;\n",
    "        font-weight: 900;\n",
    "    }\n",
    "</style>\n",
    "<p class=\"title\">파이썬 프로그래밍 2023</p>\n",
    "'''"
   ]
  },
  {
   "cell_type": "code",
   "execution_count": 22,
   "id": "c63f688f-95b2-4f06-b5a6-7bdac075a7aa",
   "metadata": {},
   "outputs": [
    {
     "data": {
      "text/html": [
       "\n",
       "<style>\n",
       "    .title {\n",
       "        font-family: \"Times New Roman\", serif;\n",
       "        font-size: 30px;\n",
       "        font-weight: 900;\n",
       "    }\n",
       "</style>\n",
       "<p class=\"title\">파이썬 프로그래밍 2023</p>\n"
      ],
      "text/plain": [
       "<IPython.core.display.HTML object>"
      ]
     },
     "execution_count": 22,
     "metadata": {},
     "output_type": "execute_result"
    }
   ],
   "source": [
    "HTML(html_str)"
   ]
  },
  {
   "cell_type": "markdown",
   "id": "dea870da-a133-4f31-8ffd-75b50fc5ed32",
   "metadata": {},
   "source": [
    "`-` 예제3: 이미지의 삽입 "
   ]
  },
  {
   "cell_type": "code",
   "execution_count": 23,
   "id": "68a765d0-1a7c-407d-8bbe-5c0cbe63abb8",
   "metadata": {},
   "outputs": [
    {
     "data": {
      "text/html": [
       "\n",
       "<img src = https://github.com/guebin/PP2023/blob/main/posts/03_Class/JungGGuckMa.jpg?raw=true>\n"
      ],
      "text/plain": [
       "<IPython.core.display.HTML object>"
      ]
     },
     "execution_count": 23,
     "metadata": {},
     "output_type": "execute_result"
    }
   ],
   "source": [
    "html_str = '''\n",
    "<img src = https://github.com/guebin/PP2023/blob/main/posts/03_Class/JungGGuckMa.jpg?raw=true>\n",
    "'''\n",
    "HTML(html_str)"
   ]
  },
  {
   "cell_type": "markdown",
   "id": "e656db91-d8cf-4956-a1a8-4b096a231628",
   "metadata": {},
   "source": [
    "`-` 예제4: 텍스트 + 이미지"
   ]
  },
  {
   "cell_type": "code",
   "execution_count": 24,
   "id": "8c3cf71e-bac3-4972-9c14-f2bfaa79c3c9",
   "metadata": {},
   "outputs": [
    {
     "data": {
      "text/html": [
       "\n",
       "<p> 로그전 패배는 괜찮아 </p>\n",
       "<img src = https://github.com/guebin/PP2023/blob/main/posts/03_Class/JungGGuckMa.jpg?raw=true>\n",
       "<p> 중요한 건 꺾이지 않는 마음 </p>\n"
      ],
      "text/plain": [
       "<IPython.core.display.HTML object>"
      ]
     },
     "execution_count": 24,
     "metadata": {},
     "output_type": "execute_result"
    }
   ],
   "source": [
    "html_str = '''\n",
    "<p> 로그전 패배는 괜찮아 </p>\n",
    "<img src = https://github.com/guebin/PP2023/blob/main/posts/03_Class/JungGGuckMa.jpg?raw=true>\n",
    "<p> 중요한 건 꺾이지 않는 마음 </p>\n",
    "'''\n",
    "HTML(html_str)"
   ]
  },
  {
   "cell_type": "markdown",
   "id": "4b52933a-5862-4216-a010-3788bdc67d3e",
   "metadata": {},
   "source": [
    "## display "
   ]
  },
  {
   "cell_type": "markdown",
   "id": "8ed518b1-dc4d-434e-967f-d16e787bdb2b",
   "metadata": {},
   "source": [
    "`-` 아래는 `HTML(html_str)`의 내용을 명시적으로 display 하는 코드이다. "
   ]
  },
  {
   "cell_type": "code",
   "execution_count": 25,
   "id": "8aca9bec-32e4-4ef5-af54-20b979538fcc",
   "metadata": {},
   "outputs": [
    {
     "data": {
      "text/html": [
       "\n",
       "<p> 로그전 패배는 괜찮아 </p>\n",
       "<img src = https://github.com/guebin/PP2023/blob/main/posts/03_Class/JungGGuckMa.jpg?raw=true>\n",
       "<p> 중요한 건 꺾이지 않는 마음 </p>\n"
      ],
      "text/plain": [
       "<IPython.core.display.HTML object>"
      ]
     },
     "metadata": {},
     "output_type": "display_data"
    }
   ],
   "source": [
    "display(HTML(html_str))"
   ]
  },
  {
   "cell_type": "markdown",
   "id": "451addaf-e5d5-47c5-8423-154e83420e08",
   "metadata": {},
   "source": [
    "`-` 이것은 마치 아래와 유사함. "
   ]
  },
  {
   "cell_type": "code",
   "execution_count": 26,
   "id": "6d108c6c-3497-43f2-811d-faf8c82843fe",
   "metadata": {},
   "outputs": [],
   "source": [
    "a=1"
   ]
  },
  {
   "cell_type": "code",
   "execution_count": 27,
   "id": "7a5e2d45-18e4-4699-b2d6-8afe3841bd5a",
   "metadata": {},
   "outputs": [
    {
     "data": {
      "text/plain": [
       "1"
      ]
     },
     "execution_count": 27,
     "metadata": {},
     "output_type": "execute_result"
    }
   ],
   "source": [
    "a"
   ]
  },
  {
   "cell_type": "code",
   "execution_count": 28,
   "id": "0efb5fe9-f4f2-44e4-b173-7df2355805b7",
   "metadata": {},
   "outputs": [
    {
     "name": "stdout",
     "output_type": "stream",
     "text": [
      "1\n"
     ]
    }
   ],
   "source": [
    "print(a)"
   ]
  },
  {
   "cell_type": "markdown",
   "id": "36d222ec-ae3f-45b2-bac0-83cc7072cd7f",
   "metadata": {},
   "source": [
    "# 중요한 것은 꺽이지 않는 마음 "
   ]
  },
  {
   "cell_type": "markdown",
   "id": "da8195d0-0d69-4536-9760-1b9fd088d5c6",
   "metadata": {},
   "source": [
    "## 구현 "
   ]
  },
  {
   "cell_type": "markdown",
   "id": "70254b74-d9ba-41fe-b845-a7c21990fdb6",
   "metadata": {},
   "source": [
    "`-` 기사처럼 보이도록 html_str 을 선언 "
   ]
  },
  {
   "cell_type": "code",
   "execution_count": 46,
   "id": "40d2829b-389c-45ee-938c-2ec78725f457",
   "metadata": {},
   "outputs": [],
   "source": [
    "html_str = '''\n",
    "<style>\n",
    "    .title {\n",
    "        font-family: \"Times New Roman\", serif;\n",
    "        font-size: 30px;\n",
    "        font-weight: 900;\n",
    "    }\n",
    "    .text {\n",
    "        font-family: \"Arial\", sans-serif;\n",
    "        font-size: 20px;\n",
    "        font-style: italic;\n",
    "    }\n",
    "    .highlight {\n",
    "        font-family: \"Montserrat\", monospace;\n",
    "        font-size: 35px;\n",
    "        font-weight: 900;\n",
    "        text-decoration: underline;\n",
    "        font-style: normal;\n",
    "        color: darkblue;\n",
    "        background-color: #FFFF00;\n",
    "    }\n",
    "</style>\n",
    "\n",
    "<p class=\"title\">RGE전 패배는 괜찮다.</p>\n",
    "<img src=https://github.com/guebin/PP2023/blob/main/posts/03_Class/JungGGuckMa.jpg?raw=true width=\"600\">\n",
    "<p> \\n </p>\n",
    "<p class=\"text\"> Q: 로그와 2라운드 재대결, 어떤 점에 유의해야 할까?</p>\n",
    "<p class=\"text\"> A: 상대팀에 대해서 더 분석할 건 없는 것 같고, 저희가 저희 플레이 잘하는 게 제일 중요한 것 같고 오늘 지긴 했지만 저희끼리만 안 무너지면 충분히 이길 수 있을 것 같아요.\n",
    "<p class=\"title\">중요한 것은 꺽이지 않는 <span class=\"highlight\">마음</span></p>\n",
    "'''"
   ]
  },
  {
   "cell_type": "code",
   "execution_count": 48,
   "id": "396d80b2-e706-42c2-873a-11695aa78420",
   "metadata": {},
   "outputs": [
    {
     "data": {
      "text/html": [
       "\n",
       "<style>\n",
       "    .title {\n",
       "        font-family: \"Times New Roman\", serif;\n",
       "        font-size: 30px;\n",
       "        font-weight: 900;\n",
       "    }\n",
       "    .text {\n",
       "        font-family: \"Arial\", sans-serif;\n",
       "        font-size: 20px;\n",
       "        font-style: italic;\n",
       "    }\n",
       "    .highlight {\n",
       "        font-family: \"Montserrat\", monospace;\n",
       "        font-size: 35px;\n",
       "        font-weight: 900;\n",
       "        text-decoration: underline;\n",
       "        font-style: normal;\n",
       "        color: darkblue;\n",
       "        background-color: #FFFF00;\n",
       "    }\n",
       "</style>\n",
       "\n",
       "<p class=\"title\">RGE전 패배는 괜찮다.</p>\n",
       "<img src=https://github.com/guebin/PP2023/blob/main/posts/03_Class/JungGGuckMa.jpg?raw=true width=\"600\">\n",
       "<p> \n",
       " </p>\n",
       "<p class=\"text\"> Q: 로그와 2라운드 재대결, 어떤 점에 유의해야 할까?</p>\n",
       "<p class=\"text\"> A: 상대팀에 대해서 더 분석할 건 없는 것 같고, 저희가 저희 플레이 잘하는 게 제일 중요한 것 같고 오늘 지긴 했지만 저희끼리만 안 무너지면 충분히 이길 수 있을 것 같아요.\n",
       "<p class=\"title\">중요한 것은 꺽이지 않는 <span class=\"highlight\">마음</span></p>\n"
      ],
      "text/plain": [
       "<IPython.core.display.HTML object>"
      ]
     },
     "metadata": {},
     "output_type": "display_data"
    }
   ],
   "source": [
    "display(HTML(html_str))"
   ]
  },
  {
   "cell_type": "markdown",
   "id": "0ac3fa7e-bd94-42d4-889f-a8c0925fb919",
   "metadata": {},
   "source": [
    "## 1단계: 밈의 구상 "
   ]
  },
  {
   "cell_type": "markdown",
   "id": "a4aa806b-bba8-46fd-b3d7-03230f755655",
   "metadata": {},
   "source": [
    "`-` 파이썬 프로그래밍 2023 중간고사. \n",
    "\n",
    "- <https://github.com/guebin/PP2023/blob/main/posts/03_Class/PP2023mid.jpg?raw=true>"
   ]
  },
  {
   "cell_type": "code",
   "execution_count": 56,
   "id": "5fbac013-5ba2-4fcf-b488-43c8bb5fe967",
   "metadata": {},
   "outputs": [],
   "source": [
    "html_str = '''\n",
    "<style>\n",
    "    .title {\n",
    "        font-family: \"Times New Roman\", serif;\n",
    "        font-size: 30px;\n",
    "        font-weight: 900;\n",
    "    }\n",
    "    .text {\n",
    "        font-family: \"Arial\", sans-serif;\n",
    "        font-size: 20px;\n",
    "        font-style: italic;\n",
    "    }\n",
    "    .highlight {\n",
    "        font-family: \"Montserrat\", monospace;\n",
    "        font-size: 35px;\n",
    "        font-weight: 900;\n",
    "        text-decoration: underline;\n",
    "        font-style: normal;\n",
    "        color: darkblue;\n",
    "        background-color: #FFFF00;\n",
    "    }\n",
    "</style>\n",
    "\n",
    "<p class=\"title\">파이썬 프로그래밍 중간고사 패배는 괜찮다.</p>\n",
    "<img src=https://github.com/guebin/PP2023/blob/main/posts/03_Class/PP2023mid.jpg?raw=true width=\"600\">\n",
    "<p> \\n </p>\n",
    "<p class=\"text\"> Q: 파이썬 프로그래밍 기말고사, 어떤 점에 유의해야 할까?</p>\n",
    "<p class=\"text\"> A: 최규빈 교수 문제 스타일에 대해서 더 분석할 건 없는 것 같고, 제가 제 코드를 잘 구현하는 게 제일 중요한 것 같고 오늘 중간고사는 망하긴 했지만 저 스스로가 안 무너지면 충분히 기말고사는 잘 볼 수 있을 것 같아요.\n",
    "<p class=\"title\">중요한 것은 꺽이지 않는 <span class=\"highlight\">마음</span></p>\n",
    "'''"
   ]
  },
  {
   "cell_type": "code",
   "execution_count": 57,
   "id": "28f74d4e-5168-42fe-b986-7f2bf04e4754",
   "metadata": {},
   "outputs": [
    {
     "data": {
      "text/html": [
       "\n",
       "<style>\n",
       "    .title {\n",
       "        font-family: \"Times New Roman\", serif;\n",
       "        font-size: 30px;\n",
       "        font-weight: 900;\n",
       "    }\n",
       "    .text {\n",
       "        font-family: \"Arial\", sans-serif;\n",
       "        font-size: 20px;\n",
       "        font-style: italic;\n",
       "    }\n",
       "    .highlight {\n",
       "        font-family: \"Montserrat\", monospace;\n",
       "        font-size: 35px;\n",
       "        font-weight: 900;\n",
       "        text-decoration: underline;\n",
       "        font-style: normal;\n",
       "        color: darkblue;\n",
       "        background-color: #FFFF00;\n",
       "    }\n",
       "</style>\n",
       "\n",
       "<p class=\"title\">파이썬 프로그래밍 중간고사 패배는 괜찮다.</p>\n",
       "<img src=https://github.com/guebin/PP2023/blob/main/posts/03_Class/PP2023mid.jpg?raw=true width=\"600\">\n",
       "<p> \n",
       " </p>\n",
       "<p class=\"text\"> Q: 파이썬 프로그래밍 기말고사, 어떤 점에 유의해야 할까?</p>\n",
       "<p class=\"text\"> A: 최규빈 교수 문제 스타일에 대해서 더 분석할 건 없는 것 같고, 제가 제 코드를 잘 구현하는 게 제일 중요한 것 같고 오늘 중간고사는 망하긴 했지만 저 스스로가 안 무너지면 충분히 기말고사는 잘 볼 수 있을 것 같아요.\n",
       "<p class=\"title\">중요한 것은 꺽이지 않는 <span class=\"highlight\">마음</span></p>\n"
      ],
      "text/plain": [
       "<IPython.core.display.HTML object>"
      ]
     },
     "metadata": {},
     "output_type": "display_data"
    }
   ],
   "source": [
    "display(HTML(html_str))"
   ]
  },
  {
   "cell_type": "markdown",
   "id": "f67845f4-6e28-4fd0-805e-226f0c76fe18",
   "metadata": {},
   "source": [
    "`-` 이거 왠지 재미있는데?"
   ]
  },
  {
   "cell_type": "markdown",
   "id": "0d6f658c-6204-420b-bbd5-8bac38b50f38",
   "metadata": {},
   "source": [
    "`-` 밈의 속성을 추려보자. \n",
    "\n",
    "- title: 타이틀에 해당하는 텍스트\n",
    "- img: DEFT의 인터뷰 이미지\n",
    "- Q: 인터뷰질문에 해당하는 텍스트 \n",
    "- A: 인터뷰답변에 해당하는 텍스트\n",
    "- 중꺽마에서의 \"마음\""
   ]
  },
  {
   "cell_type": "markdown",
   "id": "72d3513c-f60c-4f1f-9bff-45addef479ab",
   "metadata": {},
   "source": [
    "## 2단계: 양식틀의 완성 (함수이용)"
   ]
  },
  {
   "cell_type": "code",
   "execution_count": 85,
   "id": "4d21b10c-fecd-4552-a788-ace953b82b75",
   "metadata": {},
   "outputs": [],
   "source": [
    "html_str = '''\n",
    "<style>\n",
    "    .title {{\n",
    "        font-family: \"Times New Roman\", serif;\n",
    "        font-size: 30px;\n",
    "        font-weight: 900;\n",
    "    }}\n",
    "    .text {{\n",
    "        font-family: \"Arial\", sans-serif;\n",
    "        font-size: 20px;\n",
    "        font-style: italic;\n",
    "    }}\n",
    "    .highlight {{\n",
    "        font-family: \"Montserrat\", monospace;\n",
    "        font-size: 35px;\n",
    "        font-weight: 900;\n",
    "        text-decoration: underline;\n",
    "        font-style: normal;\n",
    "        color: darkblue;\n",
    "        background-color: #FFFF00;\n",
    "    }}\n",
    "</style>\n",
    "\n",
    "<p class=\"title\">{ttl}</p>\n",
    "<img src={url} width=\"600\">\n",
    "<p> \\n </p>\n",
    "<p class=\"text\"> {Q}</p>\n",
    "<p class=\"text\"> {A}</p>\n",
    "<p class=\"title\">중요한 것은 꺽이지 않는 <span class=\"highlight\">{hl}</span></p>\n",
    "'''"
   ]
  },
  {
   "cell_type": "code",
   "execution_count": 99,
   "id": "d7a84cff-4c3d-4212-a3e6-8145d8a4e7a6",
   "metadata": {},
   "outputs": [],
   "source": [
    "title = '파이썬 프로그래밍 중간고사 패배는 괜찮다!!!'\n",
    "imgurl = 'https://github.com/guebin/PP2023/blob/main/posts/03_Class/PP2023mid.jpg?raw=true'\n",
    "ques = 'Q: 파이썬 프로그래밍 기말고사, 어떤 점에 유의해야 할까?'\n",
    "ans = 'A: 최규빈 교수 문제 스타일에 대해서 더 분석할 건 없는 것 같고, 제가 제 코드를 잘 구현하는 게 제일 중요한 것 같고 오늘 중간고사는 망하긴 했지만 저 스스로가 안 무너지면 충분히 기말고사는 잘 볼 수 있을 것 같아요.'\n",
    "highlight = '마음'"
   ]
  },
  {
   "cell_type": "code",
   "execution_count": 91,
   "id": "cfb1bfa6-365a-4b6a-acf6-284b8dc90a79",
   "metadata": {},
   "outputs": [
    {
     "data": {
      "text/html": [
       "\n",
       "<style>\n",
       "    .title {\n",
       "        font-family: \"Times New Roman\", serif;\n",
       "        font-size: 30px;\n",
       "        font-weight: 900;\n",
       "    }\n",
       "    .text {\n",
       "        font-family: \"Arial\", sans-serif;\n",
       "        font-size: 20px;\n",
       "        font-style: italic;\n",
       "    }\n",
       "    .highlight {\n",
       "        font-family: \"Montserrat\", monospace;\n",
       "        font-size: 35px;\n",
       "        font-weight: 900;\n",
       "        text-decoration: underline;\n",
       "        font-style: normal;\n",
       "        color: darkblue;\n",
       "        background-color: #FFFF00;\n",
       "    }\n",
       "</style>\n",
       "\n",
       "<p class=\"title\">파이썬 프로그래밍 중간고사 패배는 괜찮다!!!</p>\n",
       "<img src=https://github.com/guebin/PP2023/blob/main/posts/03_Class/PP2023mid.jpg?raw=true width=\"600\">\n",
       "<p> \n",
       " </p>\n",
       "<p class=\"text\"> Q: 파이썬 프로그래밍 기말고사, 어떤 점에 유의해야 할까?</p>\n",
       "<p class=\"text\"> A: 최규빈 교수 문제 스타일에 대해서 더 분석할 건 없는 것 같고, 제가 제 코드를 잘 구현하는 게 제일 중요한 것 같고 오늘 중간고사는 망하긴 했지만 저 스스로가 안 무너지면 충분히 기말고사는 잘 볼 수 있을 것 같아요.</p>\n",
       "<p class=\"title\">중요한 것은 꺽이지 않는 <span class=\"highlight\">마음</span></p>\n"
      ],
      "text/plain": [
       "<IPython.core.display.HTML object>"
      ]
     },
     "metadata": {},
     "output_type": "display_data"
    }
   ],
   "source": [
    "_str = html_str.format(\n",
    "    ttl = title,\n",
    "    url = imgurl,\n",
    "    Q = ques,\n",
    "    A = ans,\n",
    "    hl = highlight\n",
    ")\n",
    "display(HTML(_str))"
   ]
  },
  {
   "cell_type": "markdown",
   "id": "32c88c4e-273e-4ea6-bc92-fc9bb04f7ce9",
   "metadata": {},
   "source": [
    "`-` 함수의 선언 "
   ]
  },
  {
   "cell_type": "code",
   "execution_count": 92,
   "id": "5f44c562-c3f3-44a7-84d0-55c7eda066ce",
   "metadata": {},
   "outputs": [],
   "source": [
    "def show_JungGGuckMa(html_str,title,imgurl,ques,ans,highlight):\n",
    "    _str = html_str.format(\n",
    "        ttl = title,\n",
    "        url = imgurl,\n",
    "        Q = ques,\n",
    "        A = ans,\n",
    "        hl = highlight\n",
    "    )\n",
    "    display(HTML(_str))"
   ]
  },
  {
   "cell_type": "code",
   "execution_count": 93,
   "id": "c1219642-bc94-420e-a99d-a646bc3e1315",
   "metadata": {},
   "outputs": [
    {
     "data": {
      "text/html": [
       "\n",
       "<style>\n",
       "    .title {\n",
       "        font-family: \"Times New Roman\", serif;\n",
       "        font-size: 30px;\n",
       "        font-weight: 900;\n",
       "    }\n",
       "    .text {\n",
       "        font-family: \"Arial\", sans-serif;\n",
       "        font-size: 20px;\n",
       "        font-style: italic;\n",
       "    }\n",
       "    .highlight {\n",
       "        font-family: \"Montserrat\", monospace;\n",
       "        font-size: 35px;\n",
       "        font-weight: 900;\n",
       "        text-decoration: underline;\n",
       "        font-style: normal;\n",
       "        color: darkblue;\n",
       "        background-color: #FFFF00;\n",
       "    }\n",
       "</style>\n",
       "\n",
       "<p class=\"title\">파이썬 프로그래밍 중간고사 패배는 괜찮다!!!</p>\n",
       "<img src=https://github.com/guebin/PP2023/blob/main/posts/03_Class/PP2023mid.jpg?raw=true width=\"600\">\n",
       "<p> \n",
       " </p>\n",
       "<p class=\"text\"> Q: 파이썬 프로그래밍 기말고사, 어떤 점에 유의해야 할까?</p>\n",
       "<p class=\"text\"> A: 최규빈 교수 문제 스타일에 대해서 더 분석할 건 없는 것 같고, 제가 제 코드를 잘 구현하는 게 제일 중요한 것 같고 오늘 중간고사는 망하긴 했지만 저 스스로가 안 무너지면 충분히 기말고사는 잘 볼 수 있을 것 같아요.</p>\n",
       "<p class=\"title\">중요한 것은 꺽이지 않는 <span class=\"highlight\">마음</span></p>\n"
      ],
      "text/plain": [
       "<IPython.core.display.HTML object>"
      ]
     },
     "metadata": {},
     "output_type": "display_data"
    }
   ],
   "source": [
    "show_JungGGuckMa(html_str,title,imgurl,ques,ans,highlight)"
   ]
  },
  {
   "cell_type": "markdown",
   "id": "fc0f98d4-fb87-4bdc-af4e-bd43f3048854",
   "metadata": {},
   "source": [
    "## 3단계: 밈놀이 (함수)"
   ]
  },
  {
   "cell_type": "markdown",
   "id": "b15b4d56-e3dd-4d17-ac9b-df61a7aaa7b1",
   "metadata": {},
   "source": [
    "### ***t=1 -- 밈1: 파이썬 프로그래밍 중간고사***"
   ]
  },
  {
   "cell_type": "code",
   "execution_count": 95,
   "id": "93c4a8e3-408a-47b8-8193-15e503691338",
   "metadata": {},
   "outputs": [
    {
     "data": {
      "text/html": [
       "\n",
       "<style>\n",
       "    .title {\n",
       "        font-family: \"Times New Roman\", serif;\n",
       "        font-size: 30px;\n",
       "        font-weight: 900;\n",
       "    }\n",
       "    .text {\n",
       "        font-family: \"Arial\", sans-serif;\n",
       "        font-size: 20px;\n",
       "        font-style: italic;\n",
       "    }\n",
       "    .highlight {\n",
       "        font-family: \"Montserrat\", monospace;\n",
       "        font-size: 35px;\n",
       "        font-weight: 900;\n",
       "        text-decoration: underline;\n",
       "        font-style: normal;\n",
       "        color: darkblue;\n",
       "        background-color: #FFFF00;\n",
       "    }\n",
       "</style>\n",
       "\n",
       "<p class=\"title\">파이썬 프로그래밍 중간고사 패배는 괜찮다!!!</p>\n",
       "<img src=https://github.com/guebin/PP2023/blob/main/posts/03_Class/PP2023mid.jpg?raw=true width=\"600\">\n",
       "<p> \n",
       " </p>\n",
       "<p class=\"text\"> Q: 파이썬 프로그래밍 기말고사, 어떤 점에 유의해야 할까?</p>\n",
       "<p class=\"text\"> A: 최규빈 교수 문제 스타일에 대해서 더 분석할 건 없는 것 같고, 제가 제 코드를 잘 구현하는 게 제일 중요한 것 같고 오늘 중간고사는 망하긴 했지만 저 스스로가 안 무너지면 충분히 기말고사는 잘 볼 수 있을 것 같아요.</p>\n",
       "<p class=\"title\">중요한 것은 꺽이지 않는 <span class=\"highlight\">마음</span></p>\n"
      ],
      "text/plain": [
       "<IPython.core.display.HTML object>"
      ]
     },
     "metadata": {},
     "output_type": "display_data"
    }
   ],
   "source": [
    "# 필요한 변수들 선언\n",
    "# show_JungGGuckMa 함수 선언 \n",
    "# 사용\n",
    "show_JungGGuckMa(html_str,title,imgurl,ques,ans,highlight)"
   ]
  },
  {
   "cell_type": "markdown",
   "id": "c4339e59-2957-4b73-adb4-9abf84d262f5",
   "metadata": {},
   "source": [
    "### ***t=2 -- 밈2: 버거킹***"
   ]
  },
  {
   "cell_type": "markdown",
   "id": "e2c9a830-2258-4961-bc29-a86929d6a7b6",
   "metadata": {},
   "source": [
    "ref: <https://i2.ruliweb.com/ori/22/12/03/184d62f98aace2c4.png>"
   ]
  },
  {
   "cell_type": "code",
   "execution_count": 111,
   "id": "269ec536-a1fb-497b-ab0a-d8061fbc5936",
   "metadata": {},
   "outputs": [],
   "source": [
    "title = '버거 2개를 골라도 6000원'\n",
    "imgurl2 = 'https://github.com/guebin/PP2023/blob/main/posts/03_Class/burgerking.png?raw=true'\n",
    "ques = '기간: 11월28일(월)-12월4일(일)'\n",
    "ans = '콰트로치즈 와퍼 주니어, 통새우 와퍼 주니어, 롱치킨 버거 최대 42% 할인'\n",
    "highlight = '할인'"
   ]
  },
  {
   "cell_type": "code",
   "execution_count": 113,
   "id": "7d40765e-c669-4a97-a67f-ef12890b77d7",
   "metadata": {},
   "outputs": [
    {
     "data": {
      "text/html": [
       "\n",
       "<style>\n",
       "    .title {\n",
       "        font-family: \"Times New Roman\", serif;\n",
       "        font-size: 30px;\n",
       "        font-weight: 900;\n",
       "    }\n",
       "    .text {\n",
       "        font-family: \"Arial\", sans-serif;\n",
       "        font-size: 20px;\n",
       "        font-style: italic;\n",
       "    }\n",
       "    .highlight {\n",
       "        font-family: \"Montserrat\", monospace;\n",
       "        font-size: 35px;\n",
       "        font-weight: 900;\n",
       "        text-decoration: underline;\n",
       "        font-style: normal;\n",
       "        color: darkblue;\n",
       "        background-color: #FFFF00;\n",
       "    }\n",
       "</style>\n",
       "\n",
       "<p class=\"title\">버거 2개를 골라도 6000원</p>\n",
       "<img src=https://github.com/guebin/PP2023/blob/main/posts/03_Class/burgerking.png?raw=true width=\"600\">\n",
       "<p> \n",
       " </p>\n",
       "<p class=\"text\"> 기간: 11월28일(월)-12월4일(일)</p>\n",
       "<p class=\"text\"> 콰트로치즈 와퍼 주니어, 통새우 와퍼 주니어, 롱치킨 버거 최대 42% 할인</p>\n",
       "<p class=\"title\">중요한 것은 꺽이지 않는 <span class=\"highlight\">할인</span></p>\n"
      ],
      "text/plain": [
       "<IPython.core.display.HTML object>"
      ]
     },
     "metadata": {},
     "output_type": "display_data"
    }
   ],
   "source": [
    "show_JungGGuckMa(html_str,title,imgurl2,ques,ans,highlight)"
   ]
  },
  {
   "cell_type": "markdown",
   "id": "d0e5947a-28eb-41de-947a-86a91921d1a3",
   "metadata": {},
   "source": [
    "### ***t=3 -- 밈1변경: 중요한 것은 꺾이지 않는 \"집중력\"***"
   ]
  },
  {
   "cell_type": "code",
   "execution_count": 115,
   "id": "c5ebe611-d581-4ed4-be8c-3d313fb760b4",
   "metadata": {},
   "outputs": [],
   "source": [
    "title = '파이썬 프로그래밍 중간고사 패배는 괜찮다!!!'\n",
    "imgurl = 'https://github.com/guebin/PP2023/blob/main/posts/03_Class/PP2023mid.jpg?raw=true'\n",
    "ques = 'Q: 파이썬 프로그래밍 기말고사, 어떤 점에 유의해야 할까?'\n",
    "ans = 'A: 최규빈 교수 문제 스타일에 대해서 더 분석할 건 없는 것 같고, 제가 제 코드를 잘 구현하는 게 제일 중요한 것 같고 오늘 중간고사는 망하긴 했지만 저 스스로가 안 무너지면 충분히 기말고사는 잘 볼 수 있을 것 같아요.'\n",
    "highlight = '집중력'"
   ]
  },
  {
   "cell_type": "code",
   "execution_count": 116,
   "id": "e22b6ec7-96e8-4941-b718-4bbc3b3f5e78",
   "metadata": {},
   "outputs": [
    {
     "data": {
      "text/html": [
       "\n",
       "<style>\n",
       "    .title {\n",
       "        font-family: \"Times New Roman\", serif;\n",
       "        font-size: 30px;\n",
       "        font-weight: 900;\n",
       "    }\n",
       "    .text {\n",
       "        font-family: \"Arial\", sans-serif;\n",
       "        font-size: 20px;\n",
       "        font-style: italic;\n",
       "    }\n",
       "    .highlight {\n",
       "        font-family: \"Montserrat\", monospace;\n",
       "        font-size: 35px;\n",
       "        font-weight: 900;\n",
       "        text-decoration: underline;\n",
       "        font-style: normal;\n",
       "        color: darkblue;\n",
       "        background-color: #FFFF00;\n",
       "    }\n",
       "</style>\n",
       "\n",
       "<p class=\"title\">파이썬 프로그래밍 중간고사 패배는 괜찮다!!!</p>\n",
       "<img src=https://github.com/guebin/PP2023/blob/main/posts/03_Class/PP2023mid.jpg?raw=true width=\"600\">\n",
       "<p> \n",
       " </p>\n",
       "<p class=\"text\"> Q: 파이썬 프로그래밍 기말고사, 어떤 점에 유의해야 할까?</p>\n",
       "<p class=\"text\"> A: 최규빈 교수 문제 스타일에 대해서 더 분석할 건 없는 것 같고, 제가 제 코드를 잘 구현하는 게 제일 중요한 것 같고 오늘 중간고사는 망하긴 했지만 저 스스로가 안 무너지면 충분히 기말고사는 잘 볼 수 있을 것 같아요.</p>\n",
       "<p class=\"title\">중요한 것은 꺽이지 않는 <span class=\"highlight\">집중력</span></p>\n"
      ],
      "text/plain": [
       "<IPython.core.display.HTML object>"
      ]
     },
     "metadata": {},
     "output_type": "display_data"
    }
   ],
   "source": [
    "show_JungGGuckMa(html_str,title,imgurl,ques,ans,highlight)"
   ]
  },
  {
   "cell_type": "markdown",
   "id": "9ef6ae86-b04b-4b4d-bc43-82f8f7a7fa46",
   "metadata": {},
   "source": [
    "`-` 수정이 아니라 거의 새로 만든 수준인데? "
   ]
  },
  {
   "cell_type": "markdown",
   "id": "5db4f2b3-26de-4cca-8197-cd2ea536f0e5",
   "metadata": {},
   "source": [
    "### ***t=4 -- 밈2변경: 버거 종류 수정***"
   ]
  },
  {
   "cell_type": "markdown",
   "id": "6aaff27f-7331-4e91-989f-b6d57be4c551",
   "metadata": {},
   "source": [
    "`-` 귀찮아서..."
   ]
  },
  {
   "cell_type": "markdown",
   "id": "276730ac-d478-4abf-94a4-501166b6794c",
   "metadata": {},
   "source": [
    "### ***이러한 코드의 비판*** "
   ]
  },
  {
   "cell_type": "markdown",
   "id": "6e64c990-fa57-46b5-a83f-a8f2cada3234",
   "metadata": {},
   "source": [
    "`-` 변수들이 정리가 되어있지 않고 산만함 "
   ]
  },
  {
   "cell_type": "markdown",
   "id": "2f26fde0-609e-4cbb-b989-9237594fe34b",
   "metadata": {},
   "source": [
    "## 3단계: 밈놀이 (클래스)"
   ]
  },
  {
   "cell_type": "code",
   "execution_count": 131,
   "id": "9645199e-fe8c-4d38-8d16-ad12a74ebf93",
   "metadata": {},
   "outputs": [],
   "source": [
    "class JungKKuckMa:\n",
    "    pass "
   ]
  },
  {
   "cell_type": "markdown",
   "id": "690a3706-6d76-4ece-b525-1a3f35b135b7",
   "metadata": {},
   "source": [
    "### ***t=1 -- 밈1: 파이썬 프로그래밍 중간고사***"
   ]
  },
  {
   "cell_type": "code",
   "execution_count": 132,
   "id": "f1a294d3-2068-47b1-a8af-06f46ce919c9",
   "metadata": {},
   "outputs": [
    {
     "data": {
      "text/plain": [
       "<__main__.JungKKuckMa at 0x7ff765fe9760>"
      ]
     },
     "execution_count": 132,
     "metadata": {},
     "output_type": "execute_result"
    }
   ],
   "source": [
    "pp2023 = JungKKuckMa()\n",
    "pp2023"
   ]
  },
  {
   "cell_type": "markdown",
   "id": "13eb7462-4bbe-4470-bc7f-e07ec55c0c62",
   "metadata": {},
   "source": [
    "*(참고) 여기에서 `pp2023.`을 치고 tab을 눌러도 아무런 변화가 없음.*"
   ]
  },
  {
   "attachments": {
    "db44152d-5dcf-4fea-8070-058e8ece912c.png": {
     "image/png": "[encoded data removed]"
    }
   },
   "cell_type": "markdown",
   "id": "61dddf67-0897-42c4-aa4b-2848b6cd545e",
   "metadata": {},
   "source": [
    "![](attachment:db44152d-5dcf-4fea-8070-058e8ece912c.png)"
   ]
  },
  {
   "cell_type": "code",
   "execution_count": 133,
   "id": "f59f97f3-87fc-47c4-aa3f-6dee495463b0",
   "metadata": {},
   "outputs": [],
   "source": [
    "pp2023.title = '파이썬 프로그래밍 중간고사 패배는 괜찮다!!!'\n",
    "pp2023.imgurl = 'https://github.com/guebin/PP2023/blob/main/posts/03_Class/PP2023mid.jpg?raw=true'\n",
    "pp2023.ques = 'Q: 파이썬 프로그래밍 기말고사, 어떤 점에 유의해야 할까?'\n",
    "pp2023.ans = 'A: 최규빈 교수 문제 스타일에 대해서 더 분석할 건 없는 것 같고, 제가 제 코드를 잘 구현하는 게 제일 중요한 것 같고 오늘 중간고사는 망하긴 했지만 저 스스로가 안 무너지면 충분히 기말고사는 잘 볼 수 있을 것 같아요.'\n",
    "pp2023.highlight = '마음'\n",
    "pp2023.html_str =\\\n",
    "'''\n",
    "<style>\n",
    "    .title {{\n",
    "        font-family: \"Times New Roman\", serif;\n",
    "        font-size: 30px;\n",
    "        font-weight: 900;\n",
    "    }}\n",
    "    .text {{\n",
    "        font-family: \"Arial\", sans-serif;\n",
    "        font-size: 20px;\n",
    "        font-style: italic;\n",
    "    }}\n",
    "    .highlight {{\n",
    "        font-family: \"Montserrat\", monospace;\n",
    "        font-size: 35px;\n",
    "        font-weight: 900;\n",
    "        text-decoration: underline;\n",
    "        font-style: normal;\n",
    "        color: darkblue;\n",
    "        background-color: #FFFF00;\n",
    "    }}\n",
    "</style>\n",
    "\n",
    "<p class=\"title\">{ttl}</p>\n",
    "<img src={url} width=\"600\">\n",
    "<p> \\n </p>\n",
    "<p class=\"text\"> {Q}</p>\n",
    "<p class=\"text\"> {A}</p>\n",
    "<p class=\"title\">중요한 것은 꺽이지 않는 <span class=\"highlight\">{hl}</span></p>\n",
    "'''"
   ]
  },
  {
   "cell_type": "markdown",
   "id": "762b2840-f5ab-4861-a9c2-d208eaf1cdd1",
   "metadata": {},
   "source": [
    "*(참고) 이 상태에서 `pp2023.` + tab 을 하면 아래와 같이 보인다.*"
   ]
  },
  {
   "attachments": {
    "e7462662-31f7-451c-babb-97fe354c2929.png": {
     "image/png": "[encoded data removed]"
    }
   },
   "cell_type": "markdown",
   "id": "f435302a-a4cf-4e6f-88d8-870dab5e8fed",
   "metadata": {},
   "source": [
    "![image.png](attachment:e7462662-31f7-451c-babb-97fe354c2929.png)"
   ]
  },
  {
   "cell_type": "code",
   "execution_count": 134,
   "id": "750b55be-d4cc-4128-bbfa-f55fc2ec37a8",
   "metadata": {},
   "outputs": [],
   "source": [
    "def show(pp2023):\n",
    "    _str = pp2023.html_str.format(\n",
    "        ttl = pp2023.title,\n",
    "        url = pp2023.imgurl,\n",
    "        Q = pp2023.ques,\n",
    "        A = pp2023.ans,\n",
    "        hl = pp2023.highlight\n",
    "    )\n",
    "    display(HTML(_str))"
   ]
  },
  {
   "cell_type": "code",
   "execution_count": 135,
   "id": "c3b1c772-29a3-497b-832e-9ce71b7cc44c",
   "metadata": {},
   "outputs": [
    {
     "data": {
      "text/html": [
       "\n",
       "<style>\n",
       "    .title {\n",
       "        font-family: \"Times New Roman\", serif;\n",
       "        font-size: 30px;\n",
       "        font-weight: 900;\n",
       "    }\n",
       "    .text {\n",
       "        font-family: \"Arial\", sans-serif;\n",
       "        font-size: 20px;\n",
       "        font-style: italic;\n",
       "    }\n",
       "    .highlight {\n",
       "        font-family: \"Montserrat\", monospace;\n",
       "        font-size: 35px;\n",
       "        font-weight: 900;\n",
       "        text-decoration: underline;\n",
       "        font-style: normal;\n",
       "        color: darkblue;\n",
       "        background-color: #FFFF00;\n",
       "    }\n",
       "</style>\n",
       "\n",
       "<p class=\"title\">파이썬 프로그래밍 중간고사 패배는 괜찮다!!!</p>\n",
       "<img src=https://github.com/guebin/PP2023/blob/main/posts/03_Class/PP2023mid.jpg?raw=true width=\"600\">\n",
       "<p> \n",
       " </p>\n",
       "<p class=\"text\"> Q: 파이썬 프로그래밍 기말고사, 어떤 점에 유의해야 할까?</p>\n",
       "<p class=\"text\"> A: 최규빈 교수 문제 스타일에 대해서 더 분석할 건 없는 것 같고, 제가 제 코드를 잘 구현하는 게 제일 중요한 것 같고 오늘 중간고사는 망하긴 했지만 저 스스로가 안 무너지면 충분히 기말고사는 잘 볼 수 있을 것 같아요.</p>\n",
       "<p class=\"title\">중요한 것은 꺽이지 않는 <span class=\"highlight\">마음</span></p>\n"
      ],
      "text/plain": [
       "<IPython.core.display.HTML object>"
      ]
     },
     "metadata": {},
     "output_type": "display_data"
    }
   ],
   "source": [
    "show(pp2023)"
   ]
  },
  {
   "cell_type": "markdown",
   "id": "89b91d88-5168-45ed-803c-ecc9a6853f57",
   "metadata": {},
   "source": [
    "### ***t=2 -- 밈2: 버거킹***"
   ]
  },
  {
   "cell_type": "code",
   "execution_count": 136,
   "id": "e49cdf6e-3671-4e00-bbda-6c9904268f30",
   "metadata": {},
   "outputs": [
    {
     "data": {
      "text/plain": [
       "<__main__.JungKKuckMa at 0x7ff76654f310>"
      ]
     },
     "execution_count": 136,
     "metadata": {},
     "output_type": "execute_result"
    }
   ],
   "source": [
    "burger = JungKKuckMa()\n",
    "burger"
   ]
  },
  {
   "cell_type": "markdown",
   "id": "52908d8c-4c75-4dd7-8a8a-843de06fef7f",
   "metadata": {},
   "source": [
    "*(참고) 여기에서 `burger.`을 치고 tab을 눌러도 아무런 변화가 없음.*"
   ]
  },
  {
   "attachments": {
    "4de3eaea-90e9-429f-b1ed-27adc5c357c0.png": {
     "image/png": "[encoded data removed]"
    }
   },
   "cell_type": "markdown",
   "id": "2c0f0e4e-49ed-4e08-987b-615bef4e44d9",
   "metadata": {},
   "source": [
    "![](attachment:4de3eaea-90e9-429f-b1ed-27adc5c357c0.png)"
   ]
  },
  {
   "cell_type": "code",
   "execution_count": 140,
   "id": "c3c2b1e7-926a-4735-8241-a53b06f9882d",
   "metadata": {},
   "outputs": [],
   "source": [
    "burger.title = '버거 2개를 골라도 6000원'\n",
    "burger.imgurl = 'https://github.com/guebin/PP2023/blob/main/posts/03_Class/burgerking.png?raw=true'\n",
    "burger.ques = '기간: 11월28일(월)-12월4일(일)'\n",
    "burger.ans = '콰트로치즈 와퍼 주니어, 통새우 와퍼 주니어, 롱치킨 버거 최대 42% 할인'\n",
    "burger.highlight = '할인'\n",
    "burger.html_str =\\\n",
    "'''\n",
    "<style>\n",
    "    .title {{\n",
    "        font-family: \"Times New Roman\", serif;\n",
    "        font-size: 30px;\n",
    "        font-weight: 900;\n",
    "    }}\n",
    "    .text {{\n",
    "        font-family: \"Arial\", sans-serif;\n",
    "        font-size: 20px;\n",
    "        font-style: italic;\n",
    "    }}\n",
    "    .highlight {{\n",
    "        font-family: \"Montserrat\", monospace;\n",
    "        font-size: 35px;\n",
    "        font-weight: 900;\n",
    "        text-decoration: underline;\n",
    "        font-style: normal;\n",
    "        color: darkblue;\n",
    "        background-color: #FFFF00;\n",
    "    }}\n",
    "</style>\n",
    "\n",
    "<p class=\"title\">{ttl}</p>\n",
    "<img src={url} width=\"600\">\n",
    "<p> \\n </p>\n",
    "<p class=\"text\"> {Q}</p>\n",
    "<p class=\"text\"> {A}</p>\n",
    "<p class=\"title\">중요한 것은 꺽이지 않는 <span class=\"highlight\">{hl}</span></p>\n",
    "'''"
   ]
  },
  {
   "cell_type": "markdown",
   "id": "5c344cd3-714d-46d9-bdb4-900af73b6d2d",
   "metadata": {},
   "source": [
    "*(참고) 이 순간은 `burger.` + tab 을 하면 아래와 같이 나온다.*"
   ]
  },
  {
   "attachments": {
    "a6019b53-4d2f-43a0-8dc3-e1a12ac6d427.png": {
     "image/png": "[encoded data removed]"
    }
   },
   "cell_type": "markdown",
   "id": "10b04e9d-5d30-48d1-aa33-55d4dbe43853",
   "metadata": {},
   "source": [
    "![](attachment:a6019b53-4d2f-43a0-8dc3-e1a12ac6d427.png)"
   ]
  },
  {
   "cell_type": "markdown",
   "id": "d8bbcd74-92be-4824-8bd1-40c1aa588e03",
   "metadata": {},
   "source": [
    "`-` show() 함수는 재사용가능하겠는데? "
   ]
  },
  {
   "cell_type": "code",
   "execution_count": 141,
   "id": "d6e44649-886e-4b6b-a3d1-10313903fd99",
   "metadata": {},
   "outputs": [],
   "source": [
    "# def show(pp2023):\n",
    "#     _str = pp2023.html_str.format(\n",
    "#         ttl = pp2023.title,\n",
    "#         url = pp2023.imgurl,\n",
    "#         Q = pp2023.ques,\n",
    "#         A = pp2023.ans,\n",
    "#         hl = pp2023.highlight\n",
    "#     )\n",
    "#     display(HTML(_str))"
   ]
  },
  {
   "cell_type": "markdown",
   "id": "4ac27806-1451-479f-a2c2-fa6684320948",
   "metadata": {},
   "source": [
    "- pp2023, burger 를 show 함수의 입력 x로 생각해도 무방 "
   ]
  },
  {
   "cell_type": "code",
   "execution_count": 142,
   "id": "3108b090-bb4b-4454-83de-e9473ec76c87",
   "metadata": {},
   "outputs": [
    {
     "data": {
      "text/html": [
       "\n",
       "<style>\n",
       "    .title {\n",
       "        font-family: \"Times New Roman\", serif;\n",
       "        font-size: 30px;\n",
       "        font-weight: 900;\n",
       "    }\n",
       "    .text {\n",
       "        font-family: \"Arial\", sans-serif;\n",
       "        font-size: 20px;\n",
       "        font-style: italic;\n",
       "    }\n",
       "    .highlight {\n",
       "        font-family: \"Montserrat\", monospace;\n",
       "        font-size: 35px;\n",
       "        font-weight: 900;\n",
       "        text-decoration: underline;\n",
       "        font-style: normal;\n",
       "        color: darkblue;\n",
       "        background-color: #FFFF00;\n",
       "    }\n",
       "</style>\n",
       "\n",
       "<p class=\"title\">버거 2개를 골라도 6000원</p>\n",
       "<img src=https://github.com/guebin/PP2023/blob/main/posts/03_Class/burgerking.png?raw=true width=\"600\">\n",
       "<p> \n",
       " </p>\n",
       "<p class=\"text\"> 기간: 11월28일(월)-12월4일(일)</p>\n",
       "<p class=\"text\"> 콰트로치즈 와퍼 주니어, 통새우 와퍼 주니어, 롱치킨 버거 최대 42% 할인</p>\n",
       "<p class=\"title\">중요한 것은 꺽이지 않는 <span class=\"highlight\">할인</span></p>\n"
      ],
      "text/plain": [
       "<IPython.core.display.HTML object>"
      ]
     },
     "metadata": {},
     "output_type": "display_data"
    }
   ],
   "source": [
    "show(burger)"
   ]
  },
  {
   "cell_type": "markdown",
   "id": "d8d8b25c-00d4-4feb-b7dd-a5d2ee922c01",
   "metadata": {},
   "source": [
    "### ***t=3 -- 밈1변경: 중요한 것은 꺾이지 않는 \"집중력\"***"
   ]
  },
  {
   "cell_type": "code",
   "execution_count": 146,
   "id": "3cc54e29-11c9-472d-b910-694d9fcc9d41",
   "metadata": {},
   "outputs": [],
   "source": [
    "pp2023.highlight = '집중력'"
   ]
  },
  {
   "cell_type": "code",
   "execution_count": 147,
   "id": "d2b42cf3-997a-4576-a61b-c38fd3cdf790",
   "metadata": {},
   "outputs": [
    {
     "data": {
      "text/html": [
       "\n",
       "<style>\n",
       "    .title {\n",
       "        font-family: \"Times New Roman\", serif;\n",
       "        font-size: 30px;\n",
       "        font-weight: 900;\n",
       "    }\n",
       "    .text {\n",
       "        font-family: \"Arial\", sans-serif;\n",
       "        font-size: 20px;\n",
       "        font-style: italic;\n",
       "    }\n",
       "    .highlight {\n",
       "        font-family: \"Montserrat\", monospace;\n",
       "        font-size: 35px;\n",
       "        font-weight: 900;\n",
       "        text-decoration: underline;\n",
       "        font-style: normal;\n",
       "        color: darkblue;\n",
       "        background-color: #FFFF00;\n",
       "    }\n",
       "</style>\n",
       "\n",
       "<p class=\"title\">파이썬 프로그래밍 중간고사 패배는 괜찮다!!!</p>\n",
       "<img src=https://github.com/guebin/PP2023/blob/main/posts/03_Class/PP2023mid.jpg?raw=true width=\"600\">\n",
       "<p> \n",
       " </p>\n",
       "<p class=\"text\"> Q: 파이썬 프로그래밍 기말고사, 어떤 점에 유의해야 할까?</p>\n",
       "<p class=\"text\"> A: 최규빈 교수 문제 스타일에 대해서 더 분석할 건 없는 것 같고, 제가 제 코드를 잘 구현하는 게 제일 중요한 것 같고 오늘 중간고사는 망하긴 했지만 저 스스로가 안 무너지면 충분히 기말고사는 잘 볼 수 있을 것 같아요.</p>\n",
       "<p class=\"title\">중요한 것은 꺽이지 않는 <span class=\"highlight\">집중력</span></p>\n"
      ],
      "text/plain": [
       "<IPython.core.display.HTML object>"
      ]
     },
     "metadata": {},
     "output_type": "display_data"
    }
   ],
   "source": [
    "show(pp2023)"
   ]
  },
  {
   "cell_type": "markdown",
   "id": "fa2fb24c-f312-4fcb-b6e5-7929c719e000",
   "metadata": {},
   "source": [
    "### ***t=4 -- 밈2변경: 버거 종류 수정***"
   ]
  },
  {
   "cell_type": "code",
   "execution_count": 153,
   "id": "0582ea75-94ce-4853-82a7-d49b97ab15f2",
   "metadata": {},
   "outputs": [],
   "source": [
    "burger.ans = '기네스콰트로치즈와퍼, 기네스와퍼, 몬스터와퍼, 몬스터X 최대 XX% 할인' "
   ]
  },
  {
   "cell_type": "code",
   "execution_count": 154,
   "id": "3c5353eb-c209-4431-800a-866d6c4f0908",
   "metadata": {},
   "outputs": [
    {
     "data": {
      "text/html": [
       "\n",
       "<style>\n",
       "    .title {\n",
       "        font-family: \"Times New Roman\", serif;\n",
       "        font-size: 30px;\n",
       "        font-weight: 900;\n",
       "    }\n",
       "    .text {\n",
       "        font-family: \"Arial\", sans-serif;\n",
       "        font-size: 20px;\n",
       "        font-style: italic;\n",
       "    }\n",
       "    .highlight {\n",
       "        font-family: \"Montserrat\", monospace;\n",
       "        font-size: 35px;\n",
       "        font-weight: 900;\n",
       "        text-decoration: underline;\n",
       "        font-style: normal;\n",
       "        color: darkblue;\n",
       "        background-color: #FFFF00;\n",
       "    }\n",
       "</style>\n",
       "\n",
       "<p class=\"title\">버거 2개를 골라도 6000원</p>\n",
       "<img src=https://github.com/guebin/PP2023/blob/main/posts/03_Class/burgerking.png?raw=true width=\"600\">\n",
       "<p> \n",
       " </p>\n",
       "<p class=\"text\"> 기간: 11월28일(월)-12월4일(일)</p>\n",
       "<p class=\"text\"> 기네스콰트로치즈와퍼, 기네스와퍼, 몬스터와퍼, 몬스터X 최대 XX% 할인</p>\n",
       "<p class=\"title\">중요한 것은 꺽이지 않는 <span class=\"highlight\">할인</span></p>\n"
      ],
      "text/plain": [
       "<IPython.core.display.HTML object>"
      ]
     },
     "metadata": {},
     "output_type": "display_data"
    }
   ],
   "source": [
    "show(burger)"
   ]
  },
  {
   "cell_type": "markdown",
   "id": "9b4e3c81-d432-4610-a828-2d13f2bfcbfb",
   "metadata": {},
   "source": [
    "### ***코드의 복습 + 대응하는 용어의 정리*** "
   ]
  },
  {
   "cell_type": "markdown",
   "id": "42f18086-a036-49b0-8d3b-9549d64b4870",
   "metadata": {},
   "source": [
    "`-` 코드조각1: 아래의 과정은 \"`JungKKuckMa`라는 이름의 클래스를 선언한다.\" 라고 표현한다. "
   ]
  },
  {
   "cell_type": "code",
   "execution_count": 131,
   "id": "6925de4b-4a54-44bf-910c-c8022d9097ae",
   "metadata": {},
   "outputs": [],
   "source": [
    "class JungKKuckMa:\n",
    "    pass "
   ]
  },
  {
   "cell_type": "markdown",
   "id": "cd2dae4c-1f8a-4482-b083-b3183de81cbd",
   "metadata": {},
   "source": [
    "- 'JungKKuckMa.HWP'라는 빈 한글파일을 만들어 두는 과정이라 비유할 수 있다."
   ]
  },
  {
   "cell_type": "markdown",
   "id": "af5a9e12-880a-46cc-8f9c-d7c31e052cea",
   "metadata": {},
   "source": [
    "`-` 코드조각2: 아래의 과정은 \"`JungKKuckMa`라는 클래스에서 `pp2023`이라는 인스턴스를 **생성**시켰다.\" 고 표현한다. "
   ]
  },
  {
   "cell_type": "code",
   "execution_count": 132,
   "id": "0fb79217-f0e5-4a60-baa8-bc6ebc548f63",
   "metadata": {},
   "outputs": [
    {
     "data": {
      "text/plain": [
       "<__main__.JungKKuckMa at 0x7ff765fe9760>"
      ]
     },
     "execution_count": 132,
     "metadata": {},
     "output_type": "execute_result"
    }
   ],
   "source": [
    "pp2023 = JungKKuckMa()\n",
    "pp2023"
   ]
  },
  {
   "cell_type": "markdown",
   "id": "f571ef44-cc11-4e89-94c0-73e6767a84ec",
   "metadata": {},
   "source": [
    "- 만들어둔 'JungKKuckMa.HWP'를 Ctrl + C,V 하여 새로운 hwp파일을 만들고 파일이름을 'pp2023.HWP' 파일로 변경한 상황으로 비유하라 수 있다. \n",
    "- 느낌: 'JungKKuckMa.HWP'에서 'pp2023.HWP'이 태어난 느낌!!"
   ]
  },
  {
   "cell_type": "markdown",
   "id": "fa0120d9-94f3-4f91-9479-ab27fa3e9092",
   "metadata": {},
   "source": [
    "`-` 코드조각3: 아래의 과정은 `pp2023` 안의 소속된 변수를 정의한다. \n",
    "\n",
    "- 여기에서 정의된 `pp2023.title` 등을 \"`pp2023`의 attribute\" 라고 표현한다. "
   ]
  },
  {
   "cell_type": "code",
   "execution_count": 133,
   "id": "5749232a-8331-4a2e-bc10-ad076050d2fa",
   "metadata": {},
   "outputs": [],
   "source": [
    "pp2023.title = '파이썬 프로그래밍 중간고사 패배는 괜찮다!!!'\n",
    "pp2023.imgurl = 'https://github.com/guebin/PP2023/blob/main/posts/03_Class/PP2023mid.jpg?raw=true'\n",
    "pp2023.ques = 'Q: 파이썬 프로그래밍 기말고사, 어떤 점에 유의해야 할까?'\n",
    "pp2023.ans = 'A: 최규빈 교수 문제 스타일에 대해서 더 분석할 건 없는 것 같고, 제가 제 코드를 잘 구현하는 게 제일 중요한 것 같고 오늘 중간고사는 망하긴 했지만 저 스스로가 안 무너지면 충분히 기말고사는 잘 볼 수 있을 것 같아요.'\n",
    "pp2023.highlight = '마음'\n",
    "pp2023.html_str =\\\n",
    "'''\n",
    "<style>\n",
    "    .title {{\n",
    "        font-family: \"Times New Roman\", serif;\n",
    "        font-size: 30px;\n",
    "        font-weight: 900;\n",
    "    }}\n",
    "    .text {{\n",
    "        font-family: \"Arial\", sans-serif;\n",
    "        font-size: 20px;\n",
    "        font-style: italic;\n",
    "    }}\n",
    "    .highlight {{\n",
    "        font-family: \"Montserrat\", monospace;\n",
    "        font-size: 35px;\n",
    "        font-weight: 900;\n",
    "        text-decoration: underline;\n",
    "        font-style: normal;\n",
    "        color: darkblue;\n",
    "        background-color: #FFFF00;\n",
    "    }}\n",
    "</style>\n",
    "\n",
    "<p class=\"title\">{ttl}</p>\n",
    "<img src={url} width=\"600\">\n",
    "<p> \\n </p>\n",
    "<p class=\"text\"> {Q}</p>\n",
    "<p class=\"text\"> {A}</p>\n",
    "<p class=\"title\">중요한 것은 꺽이지 않는 <span class=\"highlight\">{hl}</span></p>\n",
    "'''"
   ]
  },
  {
   "cell_type": "markdown",
   "id": "e7ac4706-81d7-4539-b794-7c6e987d0542",
   "metadata": {},
   "source": [
    "- 'pp2023.HWP' 라는 문서안에 내용을 채우는 과정이라고 비유할 수 있다. "
   ]
  },
  {
   "cell_type": "markdown",
   "id": "d28d1924-6347-4a68-ae98-ab004d674751",
   "metadata": {},
   "source": [
    "`-` 코드조각4: 아래의 과정은 클래스에서 생성된 인스턴스를 입력으로 받아서 어떠한 동작을 수행할 함수를 정의 "
   ]
  },
  {
   "cell_type": "code",
   "execution_count": 134,
   "id": "178a6ad6-cd3a-48ed-bdb8-cc0373d592df",
   "metadata": {},
   "outputs": [],
   "source": [
    "def show(pp2023):\n",
    "    _str = pp2023.html_str.format(\n",
    "        ttl = pp2023.title,\n",
    "        url = pp2023.imgurl,\n",
    "        Q = pp2023.ques,\n",
    "        A = pp2023.ans,\n",
    "        hl = pp2023.highlight\n",
    "    )\n",
    "    display(HTML(_str))"
   ]
  },
  {
   "cell_type": "markdown",
   "id": "fe5b9cc1-1717-4e6c-b754-c208044e6261",
   "metadata": {},
   "source": [
    "- 특징: show의 입력은 너무 깔끔하다. 클래스에서 생성된 인스턴스의 이름을 받아서 여러변수를 한번에 정리하였음. "
   ]
  },
  {
   "cell_type": "markdown",
   "id": "28b7a51c-4067-4902-b67b-917ce65d745a",
   "metadata": {},
   "source": [
    "`-` 코드조각5: 아래의 과정은 생성된 인스턴스를 입력으로 받아서 어떠한 함수를 수행하는 과정이다.  "
   ]
  },
  {
   "cell_type": "code",
   "execution_count": 155,
   "id": "6bde2c16-ea54-4b12-925f-fc968e518a13",
   "metadata": {},
   "outputs": [],
   "source": [
    "# show(pp2023)\n",
    "# show(burger)"
   ]
  },
  {
   "cell_type": "markdown",
   "id": "75180816-f974-4617-9d94-c823958f4df4",
   "metadata": {},
   "source": [
    "- show 라는 버튼을 눌러서 'pp2023.HWP' 혹은 'burger.HWP' 를 보는 느낌 \n",
    "- show 라는 버튼은 'pp2023.HWP' 혹은 'burger.HWP' 외부에서 독립적으로 선언된 함수임. "
   ]
  },
  {
   "cell_type": "markdown",
   "id": "fc3d87c8-08f6-433d-8035-9e7dba38608c",
   "metadata": {},
   "source": [
    "# 숙제 "
   ]
  },
  {
   "cell_type": "markdown",
   "id": "66396b9b-adb5-46e4-856e-810a6285e69c",
   "metadata": {},
   "source": [
    "없습니다 "
   ]
  }
 ],
 "metadata": {
  "kernelspec": {
   "display_name": "Python 3",
   "language": "python",
   "name": "python3"
  },
  "language_info": {
   "codemirror_mode": {
    "name": "ipython",
    "version": 3
   },
   "file_extension": ".py",
   "mimetype": "text/x-python",
   "name": "python",
   "nbconvert_exporter": "python",
   "pygments_lexer": "ipython3",
   "version": "3.8.16"
  }
 },
 "nbformat": 4,
 "nbformat_minor": 5
}
