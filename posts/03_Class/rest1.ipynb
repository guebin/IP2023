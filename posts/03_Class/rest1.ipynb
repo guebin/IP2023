{
 "cells": [
  {
   "cell_type": "markdown",
   "id": "e9050337-c19b-488a-8db8-80c4174f1ab7",
   "metadata": {},
   "source": [
    "# imports "
   ]
  },
  {
   "cell_type": "code",
   "execution_count": 1,
   "id": "4100a487-c29a-42f8-9b5f-9d4d9fb22446",
   "metadata": {},
   "outputs": [],
   "source": [
    "from IPython.core.display import HTML "
   ]
  },
  {
   "cell_type": "markdown",
   "id": "584c7a03-6c38-4270-b14c-3dfb04357d84",
   "metadata": {},
   "source": [
    "# 예비학습"
   ]
  },
  {
   "cell_type": "markdown",
   "id": "c25e40d9-a914-47e1-a6f5-e0d663983803",
   "metadata": {},
   "source": [
    "## 코드줄바꿈 "
   ]
  },
  {
   "cell_type": "markdown",
   "id": "16caff63-0fa6-46bc-ae12-7babe07b0b33",
   "metadata": {},
   "source": [
    "`-` 예시1: 코드가 길때 줄을 바꾸는 기능 "
   ]
  },
  {
   "cell_type": "code",
   "execution_count": 2,
   "id": "90146f52-99c9-45c9-9565-38bfced7facd",
   "metadata": {},
   "outputs": [],
   "source": [
    "a=\\\n",
    "1"
   ]
  },
  {
   "cell_type": "code",
   "execution_count": 3,
   "id": "e2bec251-a1b7-4266-9acb-3ea43ff33303",
   "metadata": {},
   "outputs": [
    {
     "data": {
      "text/plain": [
       "1"
      ]
     },
     "execution_count": 3,
     "metadata": {},
     "output_type": "execute_result"
    }
   ],
   "source": [
    "a"
   ]
  },
  {
   "cell_type": "code",
   "execution_count": 4,
   "id": "efa27acc-f33a-40cc-a060-90ad496ace96",
   "metadata": {},
   "outputs": [],
   "source": [
    "a\\\n",
    "=1/2"
   ]
  },
  {
   "cell_type": "code",
   "execution_count": 5,
   "id": "4369cf17-2e5f-469b-a904-37d33b04109b",
   "metadata": {},
   "outputs": [
    {
     "data": {
      "text/plain": [
       "0.5"
      ]
     },
     "execution_count": 5,
     "metadata": {},
     "output_type": "execute_result"
    }
   ],
   "source": [
    "a"
   ]
  },
  {
   "cell_type": "code",
   "execution_count": 6,
   "id": "a28f2872-f840-4677-96bd-ff173fa0e878",
   "metadata": {},
   "outputs": [
    {
     "data": {
      "text/plain": [
       "0.96875"
      ]
     },
     "execution_count": 6,
     "metadata": {},
     "output_type": "execute_result"
    }
   ],
   "source": [
    "a+\\\n",
    "a**2+\\\n",
    "a**3+\\\n",
    "a**4+\\\n",
    "a**5"
   ]
  },
  {
   "cell_type": "markdown",
   "id": "eb298d57-3762-417b-b1bb-48c18a2f4f0e",
   "metadata": {},
   "source": [
    "## `'''`으로 선언하는 문자열"
   ]
  },
  {
   "cell_type": "markdown",
   "id": "56bf9d28-7f4a-4a21-a9b2-175669d8fb85",
   "metadata": {},
   "source": [
    "`-` 예시1"
   ]
  },
  {
   "cell_type": "code",
   "execution_count": 7,
   "id": "c45f1bcd-5b9f-4b83-b07a-b44033e44df3",
   "metadata": {},
   "outputs": [
    {
     "name": "stdout",
     "output_type": "stream",
     "text": [
      "\n",
      "1. asdf\n",
      "2. sdfa\n",
      "3. dfas\n",
      "4. fasd\n",
      "\n"
     ]
    }
   ],
   "source": [
    "string = \"\\n1. asdf\\n2. sdfa\\n3. dfas\\n4. fasd\\n\"\n",
    "print(string)"
   ]
  },
  {
   "cell_type": "code",
   "execution_count": 8,
   "id": "394ce48c-2f4a-4ae6-8fd8-08c2c8e52ea7",
   "metadata": {},
   "outputs": [],
   "source": [
    "string = \\\n",
    "'''\n",
    "1. asdf\n",
    "2. sdfa\n",
    "3. dfas\n",
    "4. fasd\n",
    "'''"
   ]
  },
  {
   "cell_type": "code",
   "execution_count": 9,
   "id": "310d3872-d3ce-4678-b0a3-ad653d09642f",
   "metadata": {},
   "outputs": [
    {
     "name": "stdout",
     "output_type": "stream",
     "text": [
      "\n",
      "1. asdf\n",
      "2. sdfa\n",
      "3. dfas\n",
      "4. fasd\n",
      "\n"
     ]
    }
   ],
   "source": [
    "print(string)"
   ]
  },
  {
   "cell_type": "markdown",
   "id": "51b03d0c-2e16-4866-a92f-f3a4d9923e95",
   "metadata": {},
   "source": [
    "`-` 예시2"
   ]
  },
  {
   "cell_type": "code",
   "execution_count": 10,
   "id": "cd5ef5eb-0b44-4ae8-88b7-c5a43289803b",
   "metadata": {},
   "outputs": [],
   "source": [
    "string = \\\n",
    "'''\n",
    "1. asdf\n",
    "2. sdfa\n",
    "3. dfas\n",
    "4. fasd\n",
    "5. {}\n",
    "6. {}\n",
    "'''"
   ]
  },
  {
   "cell_type": "code",
   "execution_count": 11,
   "id": "714b3bef-c3e8-48ee-94bc-787ebf8acdeb",
   "metadata": {},
   "outputs": [
    {
     "name": "stdout",
     "output_type": "stream",
     "text": [
      "\n",
      "1. asdf\n",
      "2. sdfa\n",
      "3. dfas\n",
      "4. fasd\n",
      "5. aaaa\n",
      "6. bbbb\n",
      "\n"
     ]
    }
   ],
   "source": [
    "print(string.format('aaaa','bbbb'))"
   ]
  },
  {
   "cell_type": "markdown",
   "id": "dd5e6f61-342e-4d7b-8bb9-293eacb825d3",
   "metadata": {},
   "source": [
    "## 문자열 포매팅 "
   ]
  },
  {
   "cell_type": "markdown",
   "id": "d6c2da2f-bc44-4b5b-9746-8d4f8a8df969",
   "metadata": {},
   "source": [
    "`-` 예시1"
   ]
  },
  {
   "cell_type": "code",
   "execution_count": 12,
   "id": "95679bb6-0526-460c-8368-22b6bb2bdc6a",
   "metadata": {},
   "outputs": [
    {
     "name": "stdout",
     "output_type": "stream",
     "text": [
      "\n",
      "1. 이름: 최규빈\n",
      "2. 소속: 통계학과\n",
      "\n"
     ]
    }
   ],
   "source": [
    "string = \\\n",
    "'''\n",
    "1. 이름: {}\n",
    "2. 소속: {}\n",
    "'''\n",
    "print(string.format('최규빈','통계학과'))"
   ]
  },
  {
   "cell_type": "code",
   "execution_count": 13,
   "id": "9e32841b-8e8d-4481-acf8-b9999334897b",
   "metadata": {},
   "outputs": [
    {
     "name": "stdout",
     "output_type": "stream",
     "text": [
      "\n",
      "1. 이름: 통계학과\n",
      "2. 소속: 최규빈\n",
      "\n"
     ]
    }
   ],
   "source": [
    "string = \\\n",
    "'''\n",
    "1. 이름: {}\n",
    "2. 소속: {}\n",
    "'''\n",
    "print(string.format('통계학과','최규빈'))"
   ]
  },
  {
   "cell_type": "markdown",
   "id": "e88f685a-3f31-4d32-8679-f31816e35dd6",
   "metadata": {},
   "source": [
    "`-` 예시2"
   ]
  },
  {
   "cell_type": "code",
   "execution_count": 14,
   "id": "5380a2f7-366f-47e4-9e6e-4726d48d1aec",
   "metadata": {},
   "outputs": [
    {
     "name": "stdout",
     "output_type": "stream",
     "text": [
      "\n",
      "1. 이름: 최규빈\n",
      "2. 소속: 통계학과\n",
      "\n"
     ]
    }
   ],
   "source": [
    "string = \\\n",
    "'''\n",
    "1. 이름: {name}\n",
    "2. 소속: {affiliation}\n",
    "'''\n",
    "print(string.format(affiliation='통계학과',name='최규빈'))"
   ]
  },
  {
   "cell_type": "code",
   "execution_count": 15,
   "id": "a52ebee2-9921-47f8-be77-d68031b6463d",
   "metadata": {},
   "outputs": [
    {
     "data": {
      "text/plain": [
       "{'name': '통계학과', 'affilication': '최규빈'}"
      ]
     },
     "execution_count": 15,
     "metadata": {},
     "output_type": "execute_result"
    }
   ],
   "source": [
    "{'name':'통계학과','affilication':'최규빈'}"
   ]
  },
  {
   "cell_type": "markdown",
   "id": "1cd8e517-ade1-4317-ba6b-ae8103104c85",
   "metadata": {},
   "source": [
    "## HTML"
   ]
  },
  {
   "cell_type": "markdown",
   "id": "08454556-bbf3-4e02-9389-4666226f5f11",
   "metadata": {},
   "source": [
    "`-` 예제1: 텍스트 출력 "
   ]
  },
  {
   "cell_type": "code",
   "execution_count": 16,
   "id": "4cc11ca7-a9db-4002-bfd9-e620122c5874",
   "metadata": {},
   "outputs": [],
   "source": [
    "html_str = '''\n",
    "<p> 파이썬 프로그래밍 2023 </p>\n",
    "'''"
   ]
  },
  {
   "cell_type": "code",
   "execution_count": 17,
   "id": "1b43d78e-56f2-410b-8e81-8d80b4e227eb",
   "metadata": {},
   "outputs": [
    {
     "name": "stdout",
     "output_type": "stream",
     "text": [
      "\n",
      "<p> 파이썬 프로그래밍 2023 </p>\n",
      "\n"
     ]
    }
   ],
   "source": [
    "print(html_str)"
   ]
  },
  {
   "cell_type": "code",
   "execution_count": 18,
   "id": "51b221ff-ebe4-4586-b4b1-1463f362803f",
   "metadata": {},
   "outputs": [
    {
     "data": {
      "text/html": [
       "\n",
       "<p> 파이썬 프로그래밍 2023 </p>\n"
      ],
      "text/plain": [
       "<IPython.core.display.HTML object>"
      ]
     },
     "execution_count": 18,
     "metadata": {},
     "output_type": "execute_result"
    }
   ],
   "source": [
    "HTML(html_str)"
   ]
  },
  {
   "cell_type": "markdown",
   "id": "3b9d197d-a317-406d-a1da-3b17cdc428a8",
   "metadata": {},
   "source": [
    "`-` 예제2: 텍스트의 스타일 변경"
   ]
  },
  {
   "cell_type": "code",
   "execution_count": 19,
   "id": "3accaf71-e764-4394-8056-eba02812a6f9",
   "metadata": {},
   "outputs": [],
   "source": [
    "html_str = '''\n",
    "<style>\n",
    "    .title {\n",
    "        font-family: \"Times New Roman\", serif;\n",
    "        font-size: 30px;\n",
    "        font-weight: 900;\n",
    "    }\n",
    "</style>\n",
    "<p class=\"title\">파이썬 프로그래밍 2023</p>\n",
    "'''"
   ]
  },
  {
   "cell_type": "code",
   "execution_count": 20,
   "id": "c61b19c4-67ad-4a6c-a6ad-22c7b201bd55",
   "metadata": {},
   "outputs": [
    {
     "data": {
      "text/html": [
       "\n",
       "<style>\n",
       "    .title {\n",
       "        font-family: \"Times New Roman\", serif;\n",
       "        font-size: 30px;\n",
       "        font-weight: 900;\n",
       "    }\n",
       "</style>\n",
       "<p class=\"title\">파이썬 프로그래밍 2023</p>\n"
      ],
      "text/plain": [
       "<IPython.core.display.HTML object>"
      ]
     },
     "execution_count": 20,
     "metadata": {},
     "output_type": "execute_result"
    }
   ],
   "source": [
    "HTML(html_str)"
   ]
  },
  {
   "cell_type": "markdown",
   "id": "9a243d16-b6a5-4e25-b786-37bd7906eee3",
   "metadata": {},
   "source": [
    "> 다양한 방식으로 변경가능합니다. 자세한건 ChapGPT에게 물어보세요. "
   ]
  },
  {
   "cell_type": "markdown",
   "id": "474904c1-ca71-4b98-9c49-b0af25ca4239",
   "metadata": {},
   "source": [
    "`-` 예제3: 이미지삽입 "
   ]
  },
  {
   "cell_type": "code",
   "execution_count": 21,
   "id": "f3c3f9de-485b-456a-aa9d-3f085ddece6b",
   "metadata": {},
   "outputs": [
    {
     "data": {
      "text/html": [
       "\n",
       "<img src='https://github.com/guebin/PP2023/blob/main/posts/03_Class/JungGGuckMa.jpg?raw=true' width=\"600\">>\n",
       "<p> \n",
       " </p>\n"
      ],
      "text/plain": [
       "<IPython.core.display.HTML object>"
      ]
     },
     "execution_count": 21,
     "metadata": {},
     "output_type": "execute_result"
    }
   ],
   "source": [
    "html_str = '''\n",
    "<img src='https://github.com/guebin/PP2023/blob/main/posts/03_Class/JungGGuckMa.jpg?raw=true' width=\"600\">>\n",
    "<p> \\n </p>\n",
    "'''\n",
    "HTML(html_str)"
   ]
  },
  {
   "cell_type": "markdown",
   "id": "f8696486-6154-44d4-aee3-7fda0b4e9a0e",
   "metadata": {},
   "source": [
    "`-` 예제4: 텍스트+이미지삽입"
   ]
  },
  {
   "cell_type": "code",
   "execution_count": 387,
   "id": "cefb03f6-d37d-459d-a8eb-d79ce975aa52",
   "metadata": {},
   "outputs": [
    {
     "data": {
      "text/html": [
       "\n",
       "<p> 로그전 패배 괜찮아 </p>\n",
       "<img src='https://github.com/guebin/PP2023/blob/main/posts/03_Class/JungGGuckMa.jpg?raw=true' width=\"600\">\n",
       "<p> 중요한 건 꺾이지 않는 마음 </p>\n"
      ],
      "text/plain": [
       "<IPython.core.display.HTML object>"
      ]
     },
     "execution_count": 387,
     "metadata": {},
     "output_type": "execute_result"
    }
   ],
   "source": [
    "html_str = '''\n",
    "<p> 로그전 패배 괜찮아 </p>\n",
    "<img src='https://github.com/guebin/PP2023/blob/main/posts/03_Class/JungGGuckMa.jpg?raw=true' width=\"600\">\n",
    "<p> 중요한 건 꺾이지 않는 마음 </p>\n",
    "'''\n",
    "HTML(html_str)"
   ]
  },
  {
   "cell_type": "markdown",
   "id": "bbcfe8d8-497d-4512-b743-dcdb0484fce3",
   "metadata": {},
   "source": [
    "## display"
   ]
  },
  {
   "cell_type": "markdown",
   "id": "d97396af-a6c8-48c8-ae44-499efb8ff9da",
   "metadata": {},
   "source": [
    "`-` 아래는 HTML(html_str)의 내용을 명시적으로 display하는 코드이다. "
   ]
  },
  {
   "cell_type": "code",
   "execution_count": 398,
   "id": "f4a0693a-73df-41e8-8c7a-8a7f04b5f753",
   "metadata": {},
   "outputs": [
    {
     "data": {
      "text/html": [
       "\n",
       "<p> 로그전 패배 괜찮아 </p>\n",
       "<img src='https://github.com/guebin/PP2023/blob/main/posts/03_Class/JungGGuckMa.jpg?raw=true' width=\"600\">\n",
       "<p> 중요한 건 꺾이지 않는 마음 </p>\n"
      ],
      "text/plain": [
       "<IPython.core.display.HTML object>"
      ]
     },
     "execution_count": 398,
     "metadata": {},
     "output_type": "execute_result"
    }
   ],
   "source": [
    "HTML(html_str)"
   ]
  },
  {
   "cell_type": "code",
   "execution_count": 397,
   "id": "075ee963-0e10-4e6a-9998-4788223d7afe",
   "metadata": {},
   "outputs": [
    {
     "data": {
      "text/html": [
       "\n",
       "<p> 로그전 패배 괜찮아 </p>\n",
       "<img src='https://github.com/guebin/PP2023/blob/main/posts/03_Class/JungGGuckMa.jpg?raw=true' width=\"600\">\n",
       "<p> 중요한 건 꺾이지 않는 마음 </p>\n"
      ],
      "text/plain": [
       "<IPython.core.display.HTML object>"
      ]
     },
     "metadata": {},
     "output_type": "display_data"
    }
   ],
   "source": [
    "display(HTML(html_str))"
   ]
  },
  {
   "cell_type": "markdown",
   "id": "a4881f19-1b73-4e3c-8be9-f8e861ff23de",
   "metadata": {},
   "source": [
    "`-` 이것은 마치 아래의 코드와 유사함. "
   ]
  },
  {
   "cell_type": "code",
   "execution_count": 400,
   "id": "5ddb4361-c9a5-420a-81ca-555b61b7d95a",
   "metadata": {},
   "outputs": [],
   "source": [
    "a=1"
   ]
  },
  {
   "cell_type": "code",
   "execution_count": 401,
   "id": "f12065ee-f9a9-4577-b820-00e290aef449",
   "metadata": {},
   "outputs": [
    {
     "data": {
      "text/plain": [
       "1"
      ]
     },
     "execution_count": 401,
     "metadata": {},
     "output_type": "execute_result"
    }
   ],
   "source": [
    "a"
   ]
  },
  {
   "cell_type": "code",
   "execution_count": 402,
   "id": "01ad53a5-90f7-4c4d-be85-813d82b302d7",
   "metadata": {},
   "outputs": [
    {
     "name": "stdout",
     "output_type": "stream",
     "text": [
      "1\n"
     ]
    }
   ],
   "source": [
    "print(a)"
   ]
  },
  {
   "cell_type": "markdown",
   "id": "e1f9cd2d-9ef7-479d-afe9-53554668c877",
   "metadata": {},
   "source": [
    "# 중요한 것은 꺾이지 않는 마음 (1)"
   ]
  },
  {
   "cell_type": "markdown",
   "id": "168b4575-c481-405e-99ac-b64985eeb684",
   "metadata": {},
   "source": [
    "## 구현 "
   ]
  },
  {
   "cell_type": "markdown",
   "id": "5b2f803f-d12a-4aca-a1a9-4adcc5cec8b9",
   "metadata": {},
   "source": [
    "`-` 간단한구현 "
   ]
  },
  {
   "cell_type": "code",
   "execution_count": 403,
   "id": "fb318903-68e7-46c3-89e9-045f00beb9e5",
   "metadata": {},
   "outputs": [],
   "source": [
    "html_str = '''\n",
    "<style>\n",
    "    .title {{\n",
    "        font-family: \"Times New Roman\", serif;\n",
    "        font-size: 30px;\n",
    "        font-weight: 900;\n",
    "    }}\n",
    "    .text {{\n",
    "        font-family: \"Arial\", sans-serif;\n",
    "        font-size: 20px;\n",
    "        font-style: italic;\n",
    "    }}\n",
    "    .highlight {{\n",
    "        font-family: \"Montserrat\", monospace;\n",
    "        font-size: 35px;\n",
    "        font-weight: 900;\n",
    "        text-decoration: underline;\n",
    "        font-style: normal;\n",
    "        color: darkblue;\n",
    "        background-color: #FFFF00;\n",
    "    }}\n",
    "</style>\n",
    "\n",
    "<p class=\"title\">RGE전 패배는 괜찮다.</p>\n",
    "<img src=https://github.com/guebin/PP2023/blob/main/posts/03_Class/JungGGuckMa.jpg?raw=true width=\"600\">\n",
    "<p> \\n </p>\n",
    "<p class=\"text\"> Q: 로그와 2라운드 재대결, 어떤 점에 유의해야 할까?</p>\n",
    "<p class=\"text\"> A: 상대팀에 대해서 더 분석할 건 없는 것 같고, 저희가 저희 플레이 잘하는 게 제일 중요한 것 같고 오늘 지긴 했지만 저희끼리만 안 무너지면 충분히 이길 수 있을 것 같아요.\n",
    "<p class=\"title\">중요한 것은 꺽이지 않는 <span class=\"highlight\">마음</span></p>\n",
    "'''"
   ]
  },
  {
   "cell_type": "code",
   "execution_count": 405,
   "id": "0969ec48-6175-4b8b-a87a-596866cd9cda",
   "metadata": {},
   "outputs": [
    {
     "data": {
      "text/html": [
       "\n",
       "<style>\n",
       "    .title {{\n",
       "        font-family: \"Times New Roman\", serif;\n",
       "        font-size: 30px;\n",
       "        font-weight: 900;\n",
       "    }}\n",
       "    .text {{\n",
       "        font-family: \"Arial\", sans-serif;\n",
       "        font-size: 20px;\n",
       "        font-style: italic;\n",
       "    }}\n",
       "    .highlight {{\n",
       "        font-family: \"Montserrat\", monospace;\n",
       "        font-size: 35px;\n",
       "        font-weight: 900;\n",
       "        text-decoration: underline;\n",
       "        font-style: normal;\n",
       "        color: darkblue;\n",
       "        background-color: #FFFF00;\n",
       "    }}\n",
       "</style>\n",
       "\n",
       "<p class=\"title\">RGE전 패배는 괜찮다.</p>\n",
       "<img src=https://github.com/guebin/PP2023/blob/main/posts/03_Class/JungGGuckMa.jpg?raw=true width=\"600\">\n",
       "<p> \n",
       " </p>\n",
       "<p class=\"text\"> Q: 로그와 2라운드 재대결, 어떤 점에 유의해야 할까?</p>\n",
       "<p class=\"text\"> A: 상대팀에 대해서 더 분석할 건 없는 것 같고, 저희가 저희 플레이 잘하는 게 제일 중요한 것 같고 오늘 지긴 했지만 저희끼리만 안 무너지면 충분히 이길 수 있을 것 같아요.\n",
       "<p class=\"title\">중요한 것은 꺽이지 않는 <span class=\"highlight\">마음</span></p>\n"
      ],
      "text/plain": [
       "<IPython.core.display.HTML object>"
      ]
     },
     "execution_count": 405,
     "metadata": {},
     "output_type": "execute_result"
    }
   ],
   "source": [
    "HTML(html_str)"
   ]
  },
  {
   "cell_type": "markdown",
   "id": "698b8b86-d0a4-4d43-9a99-208407619581",
   "metadata": {},
   "source": [
    "## 1단계: 밈놀이 "
   ]
  },
  {
   "cell_type": "markdown",
   "id": "95e3d2d2-1d6b-4c41-b26d-96913b7b1379",
   "metadata": {},
   "source": [
    "`-` 파이썬 프로그래밍 2023 중간고사 \n",
    "\n",
    "- <https://github.com/guebin/PP2023/blob/main/posts/03_Class/PP2023mid.jpg?raw=true>"
   ]
  },
  {
   "cell_type": "code",
   "execution_count": 62,
   "id": "c60154c2-d7f0-4ebd-bcf5-a6edcfcc3c5c",
   "metadata": {},
   "outputs": [],
   "source": [
    "html_str = '''\n",
    "<style>\n",
    "    .title {\n",
    "        font-family: \"Times New Roman\", serif;\n",
    "        font-size: 30px;\n",
    "        font-weight: 900;\n",
    "    }\n",
    "    .text {\n",
    "        font-family: \"Arial\", sans-serif;\n",
    "        font-size: 20px;\n",
    "        font-style: italic;\n",
    "    }\n",
    "    .highlight {\n",
    "        font-family: \"Montserrat\", monospace;\n",
    "        font-size: 35px;\n",
    "        font-weight: 900;\n",
    "        text-decoration: underline;\n",
    "        font-style: normal;\n",
    "        color: darkblue;\n",
    "        background-color: #FFFF00;\n",
    "    }\n",
    "</style>\n",
    "\n",
    "<p class=\"title\">파이썬 프로그래밍 중간고사 패배는 괜찮다.</p>\n",
    "<img src=https://github.com/guebin/PP2023/blob/main/posts/03_Class/PP2023mid.jpg?raw=true? width=\"600\">\n",
    "<p> \\n </p>\n",
    "<p class=\"text\"> Q: 파이썬 프로그래밍 기말고사, 어떤 점에 유의해야 할까?</p>\n",
    "<p class=\"text\"> A: 최규빈 교수 문제 스타일에 대해서 더 분석할 건 없는 것 같고, 내가 내 코드를 잘 구현하는 게 제일 중요한 것 같고 중간고사는 망하긴 했지만 제 스스로 안 무너지면 충분히 기말고사는 잘 볼 수 있을 것 같아요.\n",
    "<p class=\"title\">중요한 것은 꺽이지 않는 <span class=\"highlight\">마음</span></p>111\n",
    "'''"
   ]
  },
  {
   "cell_type": "code",
   "execution_count": 65,
   "id": "ede7f3d1-3d26-47e7-8923-f067e5b4e516",
   "metadata": {},
   "outputs": [
    {
     "data": {
      "text/html": [
       "\n",
       "<style>\n",
       "    .title {\n",
       "        font-family: \"Times New Roman\", serif;\n",
       "        font-size: 30px;\n",
       "        font-weight: 900;\n",
       "    }\n",
       "    .text {\n",
       "        font-family: \"Arial\", sans-serif;\n",
       "        font-size: 20px;\n",
       "        font-style: italic;\n",
       "    }\n",
       "    .highlight {\n",
       "        font-family: \"Montserrat\", monospace;\n",
       "        font-size: 35px;\n",
       "        font-weight: 900;\n",
       "        text-decoration: underline;\n",
       "        font-style: normal;\n",
       "        color: darkblue;\n",
       "        background-color: #FFFF00;\n",
       "    }\n",
       "</style>\n",
       "\n",
       "<p class=\"title\">파이썬 프로그래밍 중간고사 패배는 괜찮다.</p>\n",
       "<img src=https://github.com/guebin/PP2023/blob/main/posts/03_Class/PP2023mid.jpg?raw=true? width=\"600\">\n",
       "<p> \n",
       " </p>\n",
       "<p class=\"text\"> Q: 파이썬 프로그래밍 기말고사, 어떤 점에 유의해야 할까?</p>\n",
       "<p class=\"text\"> A: 최규빈 교수 문제 스타일에 대해서 더 분석할 건 없는 것 같고, 내가 내 코드를 잘 구현하는 게 제일 중요한 것 같고 중간고사는 망하긴 했지만 제 스스로 안 무너지면 충분히 기말고사는 잘 볼 수 있을 것 같아요.\n",
       "<p class=\"title\">중요한 것은 꺽이지 않는 <span class=\"highlight\">마음</span></p>\n"
      ],
      "text/plain": [
       "<IPython.core.display.HTML object>"
      ]
     },
     "execution_count": 65,
     "metadata": {},
     "output_type": "execute_result"
    }
   ],
   "source": [
    "HTML(html_str)"
   ]
  },
  {
   "cell_type": "markdown",
   "id": "5c8d649f-401c-4b39-a232-060878c9f74f",
   "metadata": {},
   "source": [
    "`-` 이거 왠지 재미있는데? "
   ]
  },
  {
   "cell_type": "markdown",
   "id": "1bb70402-6387-4108-b1f1-cdfeee58fbf0",
   "metadata": {},
   "source": [
    "`-` 밈의 속성을 추리자. \n",
    "\n",
    "- title: 타이틀에 해당하는 텍스트 \n",
    "- img: DEFT의 인터뷰 이미지\n",
    "- Q: 인터뷰질문에 해당하는 텍스트\n",
    "- A: 인터뷰답변에 해당하는 텍스트\n",
    "- 중꺾마: 중요한 것은 꺽이지 않는 마음 "
   ]
  },
  {
   "cell_type": "markdown",
   "id": "4cdb823f-0837-4012-9844-68197057220f",
   "metadata": {},
   "source": [
    "## 2단계: 양식틀의 완성 (함수이용)"
   ]
  },
  {
   "cell_type": "markdown",
   "id": "c1cab281-e9b1-4e2a-a020-b3c1aaf56f85",
   "metadata": {},
   "source": [
    "`-` 필요한 변수들 선언 "
   ]
  },
  {
   "cell_type": "code",
   "execution_count": 233,
   "id": "c6a251e0-2fc9-401c-98b5-4e77cf4a64b9",
   "metadata": {},
   "outputs": [],
   "source": [
    "title = '파이썬 프로그래밍 중간고사 패배는 괜찮다.'\n",
    "imgurl = 'https://github.com/guebin/PP2023/blob/main/posts/03_Class/PP2023mid.jpg?raw=true?'\n",
    "ques = \"Q: 파이썬 프로그래밍 기말고사, 어떤 점에 유의해야 할까?\"\n",
    "ans = \"A: 최규빈 교수 문제 스타일에 대해서 더 분석할 건 없는 것 같고, 내가 내 코드를 잘 구현하는 게 제일 중요한 것 같고 중간고사는 망하긴 했지만 제 스스로 안 무너지면 충분히 기말고사는 잘 볼 수 있을 것 같아요.\"\n",
    "hightlight = '마음'"
   ]
  },
  {
   "cell_type": "code",
   "execution_count": 232,
   "id": "156dde4d-d562-4419-a879-05d9fb15ff1c",
   "metadata": {},
   "outputs": [],
   "source": [
    "html_str =\\\n",
    "'''\n",
    "<style>\n",
    "    .title {{\n",
    "        font-family: \"Times New Roman\", serif;\n",
    "        font-size: 30px;\n",
    "        font-weight: 900;\n",
    "    }}\n",
    "    .text {{\n",
    "        font-family: \"Arial\", sans-serif;\n",
    "        font-size: 20px;\n",
    "        font-style: italic;\n",
    "    }}\n",
    "    .highlight {{\n",
    "        font-family: \"Montserrat\", monospace;\n",
    "        font-size: 35px;\n",
    "        font-weight: 900;\n",
    "        text-decoration: underline;\n",
    "        font-style: normal;\n",
    "        color: darkblue;\n",
    "        background-color: #FFFF00;\n",
    "    }}\n",
    "</style>\n",
    "<p class=\"title\">{ttl}</p>\n",
    "<img src={url} width=\"600\">\n",
    "<p> \\n </p>\n",
    "<p class=\"text\">{q}</p>\n",
    "<p class=\"text\">{a}</p>\n",
    "<p class=\"title\">중요한 것은 꺽이지 않는 <span class=\"highlight\">{hlght}</span></p>\n",
    "'''"
   ]
  },
  {
   "cell_type": "code",
   "execution_count": 234,
   "id": "2a83c61e-63c5-43e2-b434-e03561652e79",
   "metadata": {},
   "outputs": [
    {
     "data": {
      "text/html": [
       "\n",
       "<style>\n",
       "    .title {\n",
       "        font-family: \"Times New Roman\", serif;\n",
       "        font-size: 30px;\n",
       "        font-weight: 900;\n",
       "    }\n",
       "    .text {\n",
       "        font-family: \"Arial\", sans-serif;\n",
       "        font-size: 20px;\n",
       "        font-style: italic;\n",
       "    }\n",
       "    .highlight {\n",
       "        font-family: \"Montserrat\", monospace;\n",
       "        font-size: 35px;\n",
       "        font-weight: 900;\n",
       "        text-decoration: underline;\n",
       "        font-style: normal;\n",
       "        color: darkblue;\n",
       "        background-color: #FFFF00;\n",
       "    }\n",
       "</style>\n",
       "<p class=\"title\">파이썬 프로그래밍 중간고사 패배는 괜찮다.</p>\n",
       "<img src=https://github.com/guebin/PP2023/blob/main/posts/03_Class/PP2023mid.jpg?raw=true? width=\"600\">\n",
       "<p> \n",
       " </p>\n",
       "<p class=\"text\">Q: 파이썬 프로그래밍 기말고사, 어떤 점에 유의해야 할까?</p>\n",
       "<p class=\"text\">A: 최규빈 교수 문제 스타일에 대해서 더 분석할 건 없는 것 같고, 내가 내 코드를 잘 구현하는 게 제일 중요한 것 같고 중간고사는 망하긴 했지만 제 스스로 안 무너지면 충분히 기말고사는 잘 볼 수 있을 것 같아요.</p>\n",
       "<p class=\"title\">중요한 것은 꺽이지 않는 <span class=\"highlight\">마음</span></p>\n"
      ],
      "text/plain": [
       "<IPython.core.display.HTML object>"
      ]
     },
     "execution_count": 234,
     "metadata": {},
     "output_type": "execute_result"
    }
   ],
   "source": [
    "_str = html_str.format(\n",
    "    ttl = title,\n",
    "    url = imgurl, \n",
    "    q = ques,\n",
    "    a = ans, \n",
    "    hlght = hightlight\n",
    ")\n",
    "HTML(_str)"
   ]
  },
  {
   "cell_type": "markdown",
   "id": "55f9a4be-844f-42d6-9d73-12839eb29a65",
   "metadata": {},
   "source": [
    "`-` 함수의 선언"
   ]
  },
  {
   "cell_type": "code",
   "execution_count": 235,
   "id": "95e18f28-e5d8-400f-bfaf-a83dbf5447cf",
   "metadata": {},
   "outputs": [],
   "source": [
    "def show_JungGGuckMa(html_str,title,imgurl,ques,ans,end):\n",
    "    _str = html_str.format(\n",
    "        ttl = title,\n",
    "        url = imgurl, \n",
    "        q = ques,\n",
    "        a = ans, \n",
    "        hlght = hightlight\n",
    "    )\n",
    "    display(HTML(_str))"
   ]
  },
  {
   "cell_type": "code",
   "execution_count": 237,
   "id": "f3fc2e08-9ab9-4709-8d8e-15daf05f0851",
   "metadata": {},
   "outputs": [
    {
     "data": {
      "text/html": [
       "\n",
       "<style>\n",
       "    .title {\n",
       "        font-family: \"Times New Roman\", serif;\n",
       "        font-size: 30px;\n",
       "        font-weight: 900;\n",
       "    }\n",
       "    .text {\n",
       "        font-family: \"Arial\", sans-serif;\n",
       "        font-size: 20px;\n",
       "        font-style: italic;\n",
       "    }\n",
       "    .highlight {\n",
       "        font-family: \"Montserrat\", monospace;\n",
       "        font-size: 35px;\n",
       "        font-weight: 900;\n",
       "        text-decoration: underline;\n",
       "        font-style: normal;\n",
       "        color: darkblue;\n",
       "        background-color: #FFFF00;\n",
       "    }\n",
       "</style>\n",
       "<p class=\"title\">파이썬 프로그래밍 중간고사 패배는 괜찮다.</p>\n",
       "<img src=https://github.com/guebin/PP2023/blob/main/posts/03_Class/PP2023mid.jpg?raw=true? width=\"600\">\n",
       "<p> \n",
       " </p>\n",
       "<p class=\"text\">Q: 파이썬 프로그래밍 기말고사, 어떤 점에 유의해야 할까?</p>\n",
       "<p class=\"text\">A: 최규빈 교수 문제 스타일에 대해서 더 분석할 건 없는 것 같고, 내가 내 코드를 잘 구현하는 게 제일 중요한 것 같고 중간고사는 망하긴 했지만 제 스스로 안 무너지면 충분히 기말고사는 잘 볼 수 있을 것 같아요.</p>\n",
       "<p class=\"title\">중요한 것은 꺽이지 않는 <span class=\"highlight\">마음</span></p>\n"
      ],
      "text/plain": [
       "<IPython.core.display.HTML object>"
      ]
     },
     "metadata": {},
     "output_type": "display_data"
    }
   ],
   "source": [
    "show_JungGGuckMa(html_str,title,imgurl,ques,ans,hightlight)"
   ]
  },
  {
   "cell_type": "markdown",
   "id": "ebcc1868-79df-4037-b7c1-0dceb9ea0a4b",
   "metadata": {},
   "source": [
    "## 3단계: 함수로 밈놀이 "
   ]
  },
  {
   "cell_type": "markdown",
   "id": "ccbc2664-cb54-49ae-a33b-1910a72144d1",
   "metadata": {},
   "source": [
    "### ***t=1 -- 밈1: 파이썬 프로그래밍 중간고사***"
   ]
  },
  {
   "cell_type": "code",
   "execution_count": 238,
   "id": "0abac4ef-cadb-42dc-86b2-a94d246a55e9",
   "metadata": {},
   "outputs": [
    {
     "data": {
      "text/html": [
       "\n",
       "<style>\n",
       "    .title {\n",
       "        font-family: \"Times New Roman\", serif;\n",
       "        font-size: 30px;\n",
       "        font-weight: 900;\n",
       "    }\n",
       "    .text {\n",
       "        font-family: \"Arial\", sans-serif;\n",
       "        font-size: 20px;\n",
       "        font-style: italic;\n",
       "    }\n",
       "    .highlight {\n",
       "        font-family: \"Montserrat\", monospace;\n",
       "        font-size: 35px;\n",
       "        font-weight: 900;\n",
       "        text-decoration: underline;\n",
       "        font-style: normal;\n",
       "        color: darkblue;\n",
       "        background-color: #FFFF00;\n",
       "    }\n",
       "</style>\n",
       "<p class=\"title\">파이썬 프로그래밍 중간고사 패배는 괜찮다.</p>\n",
       "<img src=https://github.com/guebin/PP2023/blob/main/posts/03_Class/PP2023mid.jpg?raw=true? width=\"600\">\n",
       "<p> \n",
       " </p>\n",
       "<p class=\"text\">Q: 파이썬 프로그래밍 기말고사, 어떤 점에 유의해야 할까?</p>\n",
       "<p class=\"text\">A: 최규빈 교수 문제 스타일에 대해서 더 분석할 건 없는 것 같고, 내가 내 코드를 잘 구현하는 게 제일 중요한 것 같고 중간고사는 망하긴 했지만 제 스스로 안 무너지면 충분히 기말고사는 잘 볼 수 있을 것 같아요.</p>\n",
       "<p class=\"title\">중요한 것은 꺽이지 않는 <span class=\"highlight\">마음</span></p>\n"
      ],
      "text/plain": [
       "<IPython.core.display.HTML object>"
      ]
     },
     "metadata": {},
     "output_type": "display_data"
    }
   ],
   "source": [
    "# 필요한 변수들 선언\n",
    "# - 아까 만들었으니까 생략\n",
    "# 밈생성하는 함수 \n",
    "show_JungGGuckMa(html_str,title,imgurl,ques,ans,hightlight)"
   ]
  },
  {
   "cell_type": "markdown",
   "id": "5ffc41fb-84de-4f4b-bccb-f3e02266359d",
   "metadata": {},
   "source": [
    "### ***t=2 -- 밈2:버거킹***"
   ]
  },
  {
   "cell_type": "markdown",
   "id": "f412f5f2-6906-45d7-92ac-df3cd8a0c1be",
   "metadata": {},
   "source": [
    "ref: <https://i2.ruliweb.com/ori/22/12/03/184d62f98aace2c4.png>"
   ]
  },
  {
   "cell_type": "code",
   "execution_count": 101,
   "id": "73e6d7c4-1a9d-47b8-8f07-e81c29e1c558",
   "metadata": {},
   "outputs": [],
   "source": [
    "imgurl2 = 'https://github.com/guebin/PP2023/blob/main/posts/03_Class/burgerking.png?raw=true'"
   ]
  },
  {
   "cell_type": "code",
   "execution_count": 239,
   "id": "5c278022-0779-457c-951c-1d63ce40d093",
   "metadata": {},
   "outputs": [
    {
     "data": {
      "text/html": [
       "\n",
       "<style>\n",
       "    .title {\n",
       "        font-family: \"Times New Roman\", serif;\n",
       "        font-size: 30px;\n",
       "        font-weight: 900;\n",
       "    }\n",
       "    .text {\n",
       "        font-family: \"Arial\", sans-serif;\n",
       "        font-size: 20px;\n",
       "        font-style: italic;\n",
       "    }\n",
       "    .highlight {\n",
       "        font-family: \"Montserrat\", monospace;\n",
       "        font-size: 35px;\n",
       "        font-weight: 900;\n",
       "        text-decoration: underline;\n",
       "        font-style: normal;\n",
       "        color: darkblue;\n",
       "        background-color: #FFFF00;\n",
       "    }\n",
       "</style>\n",
       "<p class=\"title\">버거 2개를 골라도 6000원!</p>\n",
       "<img src=https://github.com/guebin/PP2023/blob/main/posts/03_Class/burgerking.png?raw=true width=\"600\">\n",
       "<p> \n",
       " </p>\n",
       "<p class=\"text\">기간: 11월28일(월)~12.4(일)</p>\n",
       "<p class=\"text\">콰트로치즈 와파 주니어, 통새우 와퍼 주니어, 롱치킨 버거 최대 42% 할인!</p>\n",
       "<p class=\"title\">중요한 것은 꺽이지 않는 <span class=\"highlight\">마음</span></p>\n"
      ],
      "text/plain": [
       "<IPython.core.display.HTML object>"
      ]
     },
     "metadata": {},
     "output_type": "display_data"
    }
   ],
   "source": [
    "# 필요한 변수들 선언\n",
    "title = '버거 2개를 골라도 6000원!' \n",
    "ques = '기간: 11월28일(월)~12.4(일)'\n",
    "ans = '콰트로치즈 와파 주니어, 통새우 와퍼 주니어, 롱치킨 버거 최대 42% 할인!'\n",
    "end = '할인' \n",
    "# 밈생성하는 함수 \n",
    "show_JungGGuckMa(html_str,title,imgurl2,ques,ans,hightlight)"
   ]
  },
  {
   "cell_type": "markdown",
   "id": "8748a3ec-0968-4141-9d6d-f05517026b76",
   "metadata": {},
   "source": [
    "### ***t=3 -- 밈1변경: 중요한 것은 꺽이지 않는 \"집중력!\"***"
   ]
  },
  {
   "cell_type": "code",
   "execution_count": 240,
   "id": "2882518e-9654-4d3f-9170-57068a0b4202",
   "metadata": {},
   "outputs": [],
   "source": [
    "title = '파이썬 프로그래밍 중간고사 패배는 괜찮다.'\n",
    "imgurl = 'https://github.com/guebin/PP2023/blob/main/posts/03_Class/PP2023mid.jpg?raw=true?'\n",
    "ques = \"Q: 파이썬 프로그래밍 기말고사, 어떤 점에 유의해야 할까?\"\n",
    "ans = \"A: 최규빈 교수 문제 스타일에 대해서 더 분석할 건 없는 것 같고, 내가 내 코드를 잘 구현하는 게 제일 중요한 것 같고 중간고사는 망하긴 했지만 제 스스로 안 무너지면 충분히 기말고사는 잘 볼 수 있을 것 같아요.\"\n",
    "hightlight = '집중력!'"
   ]
  },
  {
   "cell_type": "code",
   "execution_count": 87,
   "id": "93aff644-a54a-4fad-9e6e-026bcb7a8d15",
   "metadata": {},
   "outputs": [
    {
     "data": {
      "text/html": [
       "\n",
       "<style>\n",
       "    .title {\n",
       "        font-family: \"Times New Roman\", serif;\n",
       "        font-size: 30px;\n",
       "        font-weight: 900;\n",
       "    }\n",
       "    .text {\n",
       "        font-family: \"Arial\", sans-serif;\n",
       "        font-size: 20px;\n",
       "        font-style: italic;\n",
       "    }\n",
       "    .highlight {\n",
       "        font-family: \"Montserrat\", monospace;\n",
       "        font-size: 35px;\n",
       "        font-weight: 900;\n",
       "        text-decoration: underline;\n",
       "        font-style: normal;\n",
       "        color: darkblue;\n",
       "        background-color: #FFFF00;\n",
       "    }\n",
       "</style>\n",
       "<p class=\"title\">파이썬 프로그래밍 중간고사 패배는 괜찮다.</p>\n",
       "<img src=https://github.com/guebin/PP2023/blob/main/posts/03_Class/PP2023mid.jpg?raw=true? width=\"600\">\n",
       "<p> \n",
       " </p>\n",
       "<p class=\"text\">Q: 파이썬 프로그래밍 기말고사, 어떤 점에 유의해야 할까?</p>\n",
       "<p class=\"text\">A: 최규빈 교수 문제 스타일에 대해서 더 분석할 건 없는 것 같고, 내가 내 코드를 잘 구현하는 게 제일 중요한 것 같고 중간고사는 망하긴 했지만 제 스스로 안 무너지면 충분히 기말고사는 잘 볼 수 있을 것 같아요.</p>\n",
       "<p class=\"title\">중요한 것은 꺽이지 않는 <span class=\"highlight\">집중력!</span></p>\n"
      ],
      "text/plain": [
       "<IPython.core.display.HTML object>"
      ]
     },
     "metadata": {},
     "output_type": "display_data"
    }
   ],
   "source": [
    "show_JungGGuckMa(html_str,title,imgurl,ques,ans,end)"
   ]
  },
  {
   "cell_type": "markdown",
   "id": "5e13d915-d8a7-4735-b949-ad837d9ddd12",
   "metadata": {},
   "source": [
    "`-` 수정이 아니라 거의 새로 만든 수준인데? "
   ]
  },
  {
   "cell_type": "markdown",
   "id": "e3bd250a-f77c-4ce1-8b33-a3576b0d4955",
   "metadata": {},
   "source": [
    "### ***t=4 -- 밈2변경: 버거 종류 수정***"
   ]
  },
  {
   "cell_type": "markdown",
   "id": "49d679c0-c7dd-4b0c-bd42-a78384714028",
   "metadata": {},
   "source": [
    "`-` 귀찮아서 못하겠다. "
   ]
  },
  {
   "cell_type": "markdown",
   "id": "7b83938f-3d8a-4503-a06b-5fb7e7fe228e",
   "metadata": {},
   "source": [
    "### ***이러한 코드의 비판***"
   ]
  },
  {
   "cell_type": "markdown",
   "id": "c7f8223a-db12-4260-825f-3f26aa2d6c80",
   "metadata": {},
   "source": [
    "`-` 변수들이 정리가 되어있지 않음. "
   ]
  },
  {
   "cell_type": "markdown",
   "id": "f573ccc3-8b68-435c-a14b-6cd191ec7372",
   "metadata": {},
   "source": [
    "## 3단계: 클래스로 밈놀이 "
   ]
  },
  {
   "cell_type": "code",
   "execution_count": 343,
   "id": "8c1b0830-0706-4848-8c32-6e864b07b4b5",
   "metadata": {},
   "outputs": [],
   "source": [
    "class JungKKuckMa:\n",
    "    pass"
   ]
  },
  {
   "cell_type": "markdown",
   "id": "472b8168-f05a-4bef-bd20-215c07fc2dbd",
   "metadata": {},
   "source": [
    "### ***t=1 -- 밈1: 파이썬 프로그래밍 중간고사***"
   ]
  },
  {
   "cell_type": "code",
   "execution_count": 344,
   "id": "47fe3220-d5d1-46d7-bcb0-5d7e2b7445bb",
   "metadata": {},
   "outputs": [
    {
     "data": {
      "text/plain": [
       "<__main__.JungKKuckMa at 0x7fa3a7e88f70>"
      ]
     },
     "execution_count": 344,
     "metadata": {},
     "output_type": "execute_result"
    }
   ],
   "source": [
    "pp2023 = JungKKuckMa()\n",
    "pp2023"
   ]
  },
  {
   "cell_type": "markdown",
   "id": "598a994f-0bf8-4d60-a8fd-8412ab2fd84b",
   "metadata": {},
   "source": [
    "*(참고) 여기에서 `pp2023.`을 치고 tab을 눌러도 아무 변화없다.*"
   ]
  },
  {
   "attachments": {
    "5790cdcf-131e-48d5-aded-aef1e44653f7.png": {
     "image/png": "[encoded data removed]"
    }
   },
   "cell_type": "markdown",
   "id": "64d9147f-ac00-4f27-8529-6c37ea48388a",
   "metadata": {},
   "source": [
    "![](attachment:5790cdcf-131e-48d5-aded-aef1e44653f7.png)"
   ]
  },
  {
   "cell_type": "code",
   "execution_count": 345,
   "id": "8c0fce8b-e02b-4c95-870c-3724e9722b0c",
   "metadata": {},
   "outputs": [],
   "source": [
    "pp2023.title = '파이썬 프로그래밍 중간고사 패배는 괜찮다.'\n",
    "pp2023.imgurl = 'https://github.com/guebin/PP2023/blob/main/posts/03_Class/PP2023mid.jpg?raw=true?'\n",
    "pp2023.ques = \"Q: 파이썬 프로그래밍 기말고사, 어떤 점에 유의해야 할까?\"\n",
    "pp2023.ans = \"A: 최규빈 교수 문제 스타일에 대해서 더 분석할 건 없는 것 같고, 내가 내 코드를 잘 구현하는 게 제일 중요한 것 같고 중간고사는 망하긴 했지만 제 스스로 안 무너지면 충분히 기말고사는 잘 볼 수 있을 것 같아요.\"\n",
    "pp2023.highligt = '마음'\n",
    "pp2023.html_str =\\\n",
    "'''\n",
    "<style>\n",
    "    .title {{\n",
    "        font-family: \"Times New Roman\", serif;\n",
    "        font-size: 30px;\n",
    "        font-weight: 900;\n",
    "    }}\n",
    "    .text {{\n",
    "        font-family: \"Arial\", sans-serif;\n",
    "        font-size: 20px;\n",
    "        font-style: italic;\n",
    "    }}\n",
    "    .highlight {{\n",
    "        font-family: \"Montserrat\", monospace;\n",
    "        font-size: 35px;\n",
    "        font-weight: 900;\n",
    "        text-decoration: underline;\n",
    "        font-style: normal;\n",
    "        color: darkblue;\n",
    "        background-color: #FFFF00;\n",
    "    }}\n",
    "</style>\n",
    "<p class=\"title\">{ttl}</p>\n",
    "<img src={url} width=\"600\">\n",
    "<p> \\n </p>\n",
    "<p class=\"text\">{q}</p>\n",
    "<p class=\"text\">{a}</p>\n",
    "<p class=\"title\">중요한 것은 꺽이지 않는 <span class=\"highlight\">{hlght}</span></p>\n",
    "'''"
   ]
  },
  {
   "cell_type": "markdown",
   "id": "4ad62477-bde4-4ebc-9982-b9cffd034f7b",
   "metadata": {},
   "source": [
    "*(참고) 이 상태에서는 `pp2023.`을 누르고 tab을 입력하면 아래와 같이 출력*"
   ]
  },
  {
   "attachments": {
    "df7a05f4-2f26-481a-b85c-4f5ba66bb4fa.png": {
     "image/png": "[encoded data removed]"
    }
   },
   "cell_type": "markdown",
   "id": "84107dbd-a9ac-41ed-b011-3bd2f5683b1d",
   "metadata": {},
   "source": [
    "![](attachment:df7a05f4-2f26-481a-b85c-4f5ba66bb4fa.png)"
   ]
  },
  {
   "cell_type": "code",
   "execution_count": 346,
   "id": "50d2ca06-e60a-413f-b552-46c6a768ee6b",
   "metadata": {},
   "outputs": [],
   "source": [
    "def show(pp2023):\n",
    "    _str = pp2023.html_str.format(\n",
    "        ttl = pp2023.title,\n",
    "        url = pp2023.imgurl, \n",
    "        q = pp2023.ques,\n",
    "        a = pp2023.ans, \n",
    "        hlght = pp2023.highligt   \n",
    "    )\n",
    "    display(HTML(_str))"
   ]
  },
  {
   "cell_type": "code",
   "execution_count": 347,
   "id": "42b8c233-ef57-4a05-bf27-ee339d319524",
   "metadata": {},
   "outputs": [
    {
     "data": {
      "text/html": [
       "\n",
       "<style>\n",
       "    .title {\n",
       "        font-family: \"Times New Roman\", serif;\n",
       "        font-size: 30px;\n",
       "        font-weight: 900;\n",
       "    }\n",
       "    .text {\n",
       "        font-family: \"Arial\", sans-serif;\n",
       "        font-size: 20px;\n",
       "        font-style: italic;\n",
       "    }\n",
       "    .highlight {\n",
       "        font-family: \"Montserrat\", monospace;\n",
       "        font-size: 35px;\n",
       "        font-weight: 900;\n",
       "        text-decoration: underline;\n",
       "        font-style: normal;\n",
       "        color: darkblue;\n",
       "        background-color: #FFFF00;\n",
       "    }\n",
       "</style>\n",
       "<p class=\"title\">파이썬 프로그래밍 중간고사 패배는 괜찮다.</p>\n",
       "<img src=https://github.com/guebin/PP2023/blob/main/posts/03_Class/PP2023mid.jpg?raw=true? width=\"600\">\n",
       "<p> \n",
       " </p>\n",
       "<p class=\"text\">Q: 파이썬 프로그래밍 기말고사, 어떤 점에 유의해야 할까?</p>\n",
       "<p class=\"text\">A: 최규빈 교수 문제 스타일에 대해서 더 분석할 건 없는 것 같고, 내가 내 코드를 잘 구현하는 게 제일 중요한 것 같고 중간고사는 망하긴 했지만 제 스스로 안 무너지면 충분히 기말고사는 잘 볼 수 있을 것 같아요.</p>\n",
       "<p class=\"title\">중요한 것은 꺽이지 않는 <span class=\"highlight\">마음</span></p>\n"
      ],
      "text/plain": [
       "<IPython.core.display.HTML object>"
      ]
     },
     "metadata": {},
     "output_type": "display_data"
    }
   ],
   "source": [
    "show(pp2023)"
   ]
  },
  {
   "cell_type": "markdown",
   "id": "4f695a38-e973-4d6d-a0ef-5691b14085af",
   "metadata": {},
   "source": [
    "### ***t=2 -- 밈2:버거킹***"
   ]
  },
  {
   "cell_type": "code",
   "execution_count": 348,
   "id": "d13882e9-827a-49e6-bbd2-5f28a009a42f",
   "metadata": {},
   "outputs": [
    {
     "data": {
      "text/plain": [
       "<__main__.JungKKuckMa at 0x7fa3bc1dc9a0>"
      ]
     },
     "execution_count": 348,
     "metadata": {},
     "output_type": "execute_result"
    }
   ],
   "source": [
    "burger = JungKKuckMa()\n",
    "burger"
   ]
  },
  {
   "cell_type": "code",
   "execution_count": 349,
   "id": "1881b2dd-1bb3-4f91-abdf-ebc4f68a67ce",
   "metadata": {},
   "outputs": [],
   "source": [
    "burger.title = '버거 2개를 골라도 6000원!' \n",
    "burger.imgurl = 'https://github.com/guebin/PP2023/blob/main/posts/03_Class/burgerking.png?raw=true'\n",
    "burger.ques = '기간: 11월28일(월)~12.4(일)'\n",
    "burger.ans = '콰트로치즈 와파 주니어, 통새우 와퍼 주니어, 롱치킨 버거 최대 42% 할인!'\n",
    "burger.highligt = '할인'\n",
    "burger.html_str =\\\n",
    "'''\n",
    "<style>\n",
    "    .title {{\n",
    "        font-family: \"Times New Roman\", serif;\n",
    "        font-size: 30px;\n",
    "        font-weight: 900;\n",
    "    }}\n",
    "    .text {{\n",
    "        font-family: \"Arial\", sans-serif;\n",
    "        font-size: 20px;\n",
    "        font-style: italic;\n",
    "    }}\n",
    "    .highlight {{\n",
    "        font-family: \"Montserrat\", monospace;\n",
    "        font-size: 35px;\n",
    "        font-weight: 900;\n",
    "        text-decoration: underline;\n",
    "        font-style: normal;\n",
    "        color: darkblue;\n",
    "        background-color: #FFFF00;\n",
    "    }}\n",
    "</style>\n",
    "<p class=\"title\">{ttl}</p>\n",
    "<img src={url} width=\"600\">\n",
    "<p> \\n </p>\n",
    "<p class=\"text\">{q}</p>\n",
    "<p class=\"text\">{a}</p>\n",
    "<p class=\"title\">중요한 것은 꺽이지 않는 <span class=\"highlight\">{hlght}</span></p>\n",
    "'''"
   ]
  },
  {
   "cell_type": "markdown",
   "id": "026f1e6d-e86f-471e-9787-db6403600e6f",
   "metadata": {},
   "source": [
    "`-` `show()` 함수는 재사용가능하겠는데? "
   ]
  },
  {
   "cell_type": "code",
   "execution_count": 350,
   "id": "c13ab879-941a-4f9b-9171-325623e2bad1",
   "metadata": {},
   "outputs": [],
   "source": [
    "# 생각해보니까 이건 재활용 해도 괜찮겠는데? \n",
    "# def show(pp2023):\n",
    "#     _str = pp2023.html_str.format(\n",
    "#         title = pp2023.title,\n",
    "#         imgurl = pp2023.imgurl, \n",
    "#         ques = pp2023.ques,\n",
    "#         ans = pp2023.ans, \n",
    "#         end = pp2023.end\n",
    "#     )\n",
    "#     display(HTML(_str))"
   ]
  },
  {
   "cell_type": "markdown",
   "id": "54d31b46-5395-43c0-9ffb-dbe31268f0da",
   "metadata": {},
   "source": [
    "- pp2023, burger 를 show함수의 입력 x로 생각하면 되는거아냐? --> 맞아요"
   ]
  },
  {
   "cell_type": "code",
   "execution_count": 351,
   "id": "4dbfa689-76ad-4fef-a98f-8653777a6327",
   "metadata": {},
   "outputs": [
    {
     "data": {
      "text/html": [
       "\n",
       "<style>\n",
       "    .title {\n",
       "        font-family: \"Times New Roman\", serif;\n",
       "        font-size: 30px;\n",
       "        font-weight: 900;\n",
       "    }\n",
       "    .text {\n",
       "        font-family: \"Arial\", sans-serif;\n",
       "        font-size: 20px;\n",
       "        font-style: italic;\n",
       "    }\n",
       "    .highlight {\n",
       "        font-family: \"Montserrat\", monospace;\n",
       "        font-size: 35px;\n",
       "        font-weight: 900;\n",
       "        text-decoration: underline;\n",
       "        font-style: normal;\n",
       "        color: darkblue;\n",
       "        background-color: #FFFF00;\n",
       "    }\n",
       "</style>\n",
       "<p class=\"title\">버거 2개를 골라도 6000원!</p>\n",
       "<img src=https://github.com/guebin/PP2023/blob/main/posts/03_Class/burgerking.png?raw=true width=\"600\">\n",
       "<p> \n",
       " </p>\n",
       "<p class=\"text\">기간: 11월28일(월)~12.4(일)</p>\n",
       "<p class=\"text\">콰트로치즈 와파 주니어, 통새우 와퍼 주니어, 롱치킨 버거 최대 42% 할인!</p>\n",
       "<p class=\"title\">중요한 것은 꺽이지 않는 <span class=\"highlight\">할인</span></p>\n"
      ],
      "text/plain": [
       "<IPython.core.display.HTML object>"
      ]
     },
     "metadata": {},
     "output_type": "display_data"
    }
   ],
   "source": [
    "show(burger)"
   ]
  },
  {
   "cell_type": "markdown",
   "id": "b19b8585-4fae-4180-92e1-a7ea67bbab24",
   "metadata": {},
   "source": [
    "### ***t=3 -- 밈1변경: 중요한 것은 꺽이지 않는 \"집중력!\"***"
   ]
  },
  {
   "cell_type": "code",
   "execution_count": 352,
   "id": "35121b3b-926c-4a18-a1e4-7dc42862ff85",
   "metadata": {},
   "outputs": [],
   "source": [
    "pp2023.end = \"집중력\""
   ]
  },
  {
   "cell_type": "code",
   "execution_count": 353,
   "id": "e3675040-4e82-4b7e-a931-aeaf6714535b",
   "metadata": {},
   "outputs": [
    {
     "data": {
      "text/html": [
       "\n",
       "<style>\n",
       "    .title {\n",
       "        font-family: \"Times New Roman\", serif;\n",
       "        font-size: 30px;\n",
       "        font-weight: 900;\n",
       "    }\n",
       "    .text {\n",
       "        font-family: \"Arial\", sans-serif;\n",
       "        font-size: 20px;\n",
       "        font-style: italic;\n",
       "    }\n",
       "    .highlight {\n",
       "        font-family: \"Montserrat\", monospace;\n",
       "        font-size: 35px;\n",
       "        font-weight: 900;\n",
       "        text-decoration: underline;\n",
       "        font-style: normal;\n",
       "        color: darkblue;\n",
       "        background-color: #FFFF00;\n",
       "    }\n",
       "</style>\n",
       "<p class=\"title\">파이썬 프로그래밍 중간고사 패배는 괜찮다.</p>\n",
       "<img src=https://github.com/guebin/PP2023/blob/main/posts/03_Class/PP2023mid.jpg?raw=true? width=\"600\">\n",
       "<p> \n",
       " </p>\n",
       "<p class=\"text\">Q: 파이썬 프로그래밍 기말고사, 어떤 점에 유의해야 할까?</p>\n",
       "<p class=\"text\">A: 최규빈 교수 문제 스타일에 대해서 더 분석할 건 없는 것 같고, 내가 내 코드를 잘 구현하는 게 제일 중요한 것 같고 중간고사는 망하긴 했지만 제 스스로 안 무너지면 충분히 기말고사는 잘 볼 수 있을 것 같아요.</p>\n",
       "<p class=\"title\">중요한 것은 꺽이지 않는 <span class=\"highlight\">마음</span></p>\n"
      ],
      "text/plain": [
       "<IPython.core.display.HTML object>"
      ]
     },
     "metadata": {},
     "output_type": "display_data"
    }
   ],
   "source": [
    "show(pp2023)"
   ]
  },
  {
   "cell_type": "markdown",
   "id": "6cebe836-ce6d-41c2-8445-6a694905b69a",
   "metadata": {},
   "source": [
    "### ***t=4 -- 밈2변경: 버거 종류 수정***"
   ]
  },
  {
   "cell_type": "code",
   "execution_count": 354,
   "id": "9f3bb6e5-6137-419c-b1ef-ea6eebad2adc",
   "metadata": {},
   "outputs": [],
   "source": [
    "burger.ans = '기네스콰트로치즈와퍼, 기네스와퍼, 몬스터와퍼, 몬스터X, 최대 XX% 할인!' "
   ]
  },
  {
   "cell_type": "code",
   "execution_count": 355,
   "id": "cc0e82c1-5549-4323-b282-3c898151bef5",
   "metadata": {},
   "outputs": [
    {
     "data": {
      "text/html": [
       "\n",
       "<style>\n",
       "    .title {\n",
       "        font-family: \"Times New Roman\", serif;\n",
       "        font-size: 30px;\n",
       "        font-weight: 900;\n",
       "    }\n",
       "    .text {\n",
       "        font-family: \"Arial\", sans-serif;\n",
       "        font-size: 20px;\n",
       "        font-style: italic;\n",
       "    }\n",
       "    .highlight {\n",
       "        font-family: \"Montserrat\", monospace;\n",
       "        font-size: 35px;\n",
       "        font-weight: 900;\n",
       "        text-decoration: underline;\n",
       "        font-style: normal;\n",
       "        color: darkblue;\n",
       "        background-color: #FFFF00;\n",
       "    }\n",
       "</style>\n",
       "<p class=\"title\">버거 2개를 골라도 6000원!</p>\n",
       "<img src=https://github.com/guebin/PP2023/blob/main/posts/03_Class/burgerking.png?raw=true width=\"600\">\n",
       "<p> \n",
       " </p>\n",
       "<p class=\"text\">기간: 11월28일(월)~12.4(일)</p>\n",
       "<p class=\"text\">기네스콰트로치즈와퍼, 기네스와퍼, 몬스터와퍼, 몬스터X, 최대 XX% 할인!</p>\n",
       "<p class=\"title\">중요한 것은 꺽이지 않는 <span class=\"highlight\">할인</span></p>\n"
      ],
      "text/plain": [
       "<IPython.core.display.HTML object>"
      ]
     },
     "metadata": {},
     "output_type": "display_data"
    }
   ],
   "source": [
    "show(burger)"
   ]
  },
  {
   "cell_type": "markdown",
   "id": "6975ff27-7b45-466b-86fd-7ebcda6ffafc",
   "metadata": {},
   "source": [
    "### ***코드를 복습 + 대응하는 용어정리*** "
   ]
  },
  {
   "cell_type": "markdown",
   "id": "313dac3b-c1e3-4653-aef7-064a56a016bd",
   "metadata": {},
   "source": [
    "`-` 코드조각1: 아래의 과정은 \"`JungKKuckMa`라는 이름의 클래스를 선언한다\"고 표현한다. "
   ]
  },
  {
   "cell_type": "code",
   "execution_count": 356,
   "id": "09b8b8e6-4f62-4a70-a512-b7f7406068e4",
   "metadata": {},
   "outputs": [],
   "source": [
    "class JungKKuckMa:\n",
    "    pass"
   ]
  },
  {
   "cell_type": "markdown",
   "id": "c90cc67a-594b-47d7-b0fb-e75e2ad5a6c3",
   "metadata": {},
   "source": [
    "- `JungKKuckMa.HWP`를 만들어 두는 과정이라 비유할 수 있다. "
   ]
  },
  {
   "cell_type": "markdown",
   "id": "b8fd85ce-fc36-4a8e-a10a-40fd74773b28",
   "metadata": {},
   "source": [
    "`-` 코드조각2: 아래의 과정은 \"`JungKKuckMa`라는 클래스에서 `pp2023`이라는 인스턴스를 **생성**시켰다.\" 고 표현한다. "
   ]
  },
  {
   "cell_type": "code",
   "execution_count": 357,
   "id": "64da5b17-f895-480e-b3df-120237bc79c5",
   "metadata": {},
   "outputs": [
    {
     "data": {
      "text/plain": [
       "<__main__.JungKKuckMa at 0x7fa3a7eaebe0>"
      ]
     },
     "execution_count": 357,
     "metadata": {},
     "output_type": "execute_result"
    }
   ],
   "source": [
    "pp2023 = JungKKuckMa()\n",
    "pp2023"
   ]
  },
  {
   "cell_type": "markdown",
   "id": "2b172c93-3db8-4298-bc1e-53f01719759d",
   "metadata": {},
   "source": [
    "- 만들어둔 `JungKKuckMa.HWP`를 Ctrl C,V 하여 새로운 hwp파일을 만들고 파일이름을 `pp2023.HWP`로 변경한 것으로 비유가능\n",
    "- 느낌: `JungKKuckMa.HWP`에서 `pp2023.HWP` 이 \"태어난\" 느낌!!!!!"
   ]
  },
  {
   "cell_type": "markdown",
   "id": "937e7b94-0443-4ca1-a5dc-ee0d923493b1",
   "metadata": {},
   "source": [
    "`-` 코드조각3: 아래의 과정은 `pp2023` 안에 소속된 변수를 정의한다. \n",
    "\n",
    "- 여기에서 정의된 `pp2023.title` 등을  \"`pp2023`의 attribute\"라고 부른다. "
   ]
  },
  {
   "cell_type": "code",
   "execution_count": 358,
   "id": "9c464422-3a19-4061-ade9-26dfdf8f50af",
   "metadata": {},
   "outputs": [],
   "source": [
    "pp2023.title = '파이썬 프로그래밍 중간고사 패배는 괜찮다.'\n",
    "pp2023.imgurl = 'https://github.com/guebin/PP2023/blob/main/posts/03_Class/PP2023mid.jpg?raw=true?'\n",
    "pp2023.ques = \"Q: 파이썬 프로그래밍 기말고사, 어떤 점에 유의해야 할까?\"\n",
    "pp2023.ans = \"A: 최규빈 교수 문제 스타일에 대해서 더 분석할 건 없는 것 같고, 내가 내 코드를 잘 구현하는 게 제일 중요한 것 같고 중간고사는 망하긴 했지만 제 스스로 안 무너지면 충분히 기말고사는 잘 볼 수 있을 것 같아요.\"\n",
    "pp2023.highligt = '마음'\n",
    "pp2023.html_str =\\\n",
    "'''\n",
    "<style>\n",
    "    .title {{\n",
    "        font-family: \"Times New Roman\", serif;\n",
    "        font-size: 30px;\n",
    "        font-weight: 900;\n",
    "    }}\n",
    "    .text {{\n",
    "        font-family: \"Arial\", sans-serif;\n",
    "        font-size: 20px;\n",
    "        font-style: italic;\n",
    "    }}\n",
    "    .highlight {{\n",
    "        font-family: \"Montserrat\", monospace;\n",
    "        font-size: 35px;\n",
    "        font-weight: 900;\n",
    "        text-decoration: underline;\n",
    "        font-style: normal;\n",
    "        color: darkblue;\n",
    "        background-color: #FFFF00;\n",
    "    }}\n",
    "</style>\n",
    "<p class=\"title\">{ttl}</p>\n",
    "<img src={url} width=\"600\">\n",
    "<p> \\n </p>\n",
    "<p class=\"text\">{q}</p>\n",
    "<p class=\"text\">{a}</p>\n",
    "<p class=\"title\">중요한 것은 꺽이지 않는 <span class=\"highlight\">{hlght}</span></p>\n",
    "'''"
   ]
  },
  {
   "cell_type": "markdown",
   "id": "8d5daa63-a71e-4e8a-b52b-fb91c7f584d8",
   "metadata": {},
   "source": [
    "- `pp2023.HWP`이라는 문서안의 내용을 채우는 과정이라고 비유 할 수 있다. "
   ]
  },
  {
   "cell_type": "markdown",
   "id": "893e293d-2fef-4800-8929-33562c541114",
   "metadata": {},
   "source": [
    "`-` 코드조각4: 아래의 과정은 클래스에서 생성된 인스턴스를 입력으로 받아서 어떠한 동작을 수행할 함수를 정의"
   ]
  },
  {
   "cell_type": "code",
   "execution_count": 359,
   "id": "90b35b4b-e739-41c8-bd6d-df4e1da8eb02",
   "metadata": {},
   "outputs": [],
   "source": [
    "def show(pp2023): ## 좀 더 일반화하면 \"pp2023\"자리에는 JungKKuckMa에서 태어날 아기의 이름이 들어오면 된다. \n",
    "    _str = pp2023.html_str.format(\n",
    "        ttl = pp2023.title,\n",
    "        url = pp2023.imgurl, \n",
    "        q = pp2023.ques,\n",
    "        a = pp2023.ans, \n",
    "        hlght = pp2023.highligt   \n",
    "    )\n",
    "    display(HTML(_str))"
   ]
  },
  {
   "cell_type": "markdown",
   "id": "d9559212-58d8-4c51-9431-8a0ee69e0269",
   "metadata": {},
   "source": [
    "- 특징: show의 입력은 너무 깔끔하다. 클래스에서 생성된 인스턴스이름을 입력으로 받아서 여러변수를 한번에 정리한다."
   ]
  },
  {
   "cell_type": "markdown",
   "id": "98283475-b2be-4ab1-9e28-4379fe6aada3",
   "metadata": {},
   "source": [
    "`-` 코드조각5: 아래의 과정은 클래스에서 생성된 인스턴스를 입력으로 받아서 어떠한 함수를 수행하는 과정이다. "
   ]
  },
  {
   "cell_type": "code",
   "execution_count": 360,
   "id": "e26f0610-8077-43cc-9440-7f31c2d62325",
   "metadata": {},
   "outputs": [],
   "source": [
    "#show(pp2023)\n",
    "#show(burger)"
   ]
  },
  {
   "cell_type": "markdown",
   "id": "c3b52872-a839-4549-9754-af6f09a7218c",
   "metadata": {},
   "source": [
    "- show 라는 버튼을 눌러서 `pp2023.HWP` 혹은 `burger.HWP` 를 보는 느낌\n",
    "- show 라는 버튼은 `pp2023.HWP` 혹은 `burger.HWP` 와 독립적으로 만들어진 기능. 따라서 이 과정은 한컴뷰어와 같은 외부프로그램을 이용하여 문서를 보는것으로 비유가능하다. "
   ]
  },
  {
   "cell_type": "markdown",
   "id": "f0e8f6e7-7ac3-4aad-97c2-9662f64b6a6f",
   "metadata": {},
   "source": [
    "# 클래스공부 1단계 "
   ]
  },
  {
   "cell_type": "markdown",
   "id": "aacf3556-ad30-49ef-bdcd-6299c2dbbb34",
   "metadata": {},
   "source": [
    "## 메소드 ($\\star\\star$)"
   ]
  },
  {
   "cell_type": "markdown",
   "id": "2e0ce5b8-75e9-4555-8621-a8d8de0b78de",
   "metadata": {},
   "source": [
    "`-` 직관: \n",
    "\n",
    "1. show 함수는 `pp2023`, `burger` 와 외부에 독립적으로 존재하는 함수임. \n",
    "2. show 함수를 pp2023 혹은 burger 안에 종속시킬수 없을까? (어차피 show는 pp2023, burger 와 같이 JungKKuckMa의 인스턴스에만 적용할 예정이므로 같이 묶는게 더 깔끔할것 같음) "
   ]
  },
  {
   "cell_type": "markdown",
   "id": "a54c98cb-fa78-4e9e-a336-e8447bc8750f",
   "metadata": {},
   "source": [
    "`-` 시도1: 그냥 `pp2023.title` 설정한듯이 하면 되지 않나? $\\to$ 실패"
   ]
  },
  {
   "cell_type": "code",
   "execution_count": 361,
   "id": "84e0613d-beae-410d-8dae-bac9b240db70",
   "metadata": {},
   "outputs": [],
   "source": [
    "class JungKKuckMa:\n",
    "    pass\n",
    "\n",
    "pp2023 = JungKKuckMa()"
   ]
  },
  {
   "cell_type": "code",
   "execution_count": 362,
   "id": "6ee36dac-0adb-44ee-8fa9-42846a77a0a7",
   "metadata": {},
   "outputs": [],
   "source": [
    "pp2023.title = '파이썬 프로그래밍 중간고사 패배는 괜찮다.'\n",
    "pp2023.imgurl = 'https://github.com/guebin/PP2023/blob/main/posts/03_Class/PP2023mid.jpg?raw=true?'\n",
    "pp2023.ques = \"Q: 파이썬 프로그래밍 기말고사, 어떤 점에 유의해야 할까?\"\n",
    "pp2023.ans = \"A: 최규빈 교수 문제 스타일에 대해서 더 분석할 건 없는 것 같고, 내가 내 코드를 잘 구현하는 게 제일 중요한 것 같고 중간고사는 망하긴 했지만 제 스스로 안 무너지면 충분히 기말고사는 잘 볼 수 있을 것 같아요.\"\n",
    "pp2023.highlight = '마음'\n",
    "pp2023.html_str =\\\n",
    "'''\n",
    "<style>\n",
    "    .title {{\n",
    "        font-family: \"Times New Roman\", serif;\n",
    "        font-size: 30px;\n",
    "        font-weight: 900;\n",
    "    }}\n",
    "    .text {{\n",
    "        font-family: \"Arial\", sans-serif;\n",
    "        font-size: 20px;\n",
    "        font-style: italic;\n",
    "    }}\n",
    "    .highlight {{\n",
    "        font-family: \"Montserrat\", monospace;\n",
    "        font-size: 35px;\n",
    "        font-weight: 900;\n",
    "        text-decoration: underline;\n",
    "        font-style: normal;\n",
    "        color: darkblue;\n",
    "        background-color: #FFFF00;\n",
    "    }}\n",
    "</style>\n",
    "<p class=\"title\">{ttl}</p>\n",
    "<img src={url} width=\"600\">\n",
    "<p> \\n </p>\n",
    "<p class=\"text\">{q}</p>\n",
    "<p class=\"text\">{a}</p>\n",
    "<p class=\"title\">중요한 것은 꺽이지 않는 <span class=\"highlight\">{hlght}</span></p>\n",
    "'''"
   ]
  },
  {
   "cell_type": "code",
   "execution_count": 363,
   "id": "9cb5b725-3bfe-434d-8d2a-e953f87d2ba6",
   "metadata": {},
   "outputs": [
    {
     "ename": "SyntaxError",
     "evalue": "invalid syntax (<ipython-input-363-e4b769096315>, line 13)",
     "output_type": "error",
     "traceback": [
      "\u001b[0;36m  Cell \u001b[0;32mIn[363], line 13\u001b[0;36m\u001b[0m\n\u001b[0;31m    def pp2023.show(pp2023):\u001b[0m\n\u001b[0m              ^\u001b[0m\n\u001b[0;31mSyntaxError\u001b[0m\u001b[0;31m:\u001b[0m invalid syntax\n"
     ]
    }
   ],
   "source": [
    "# 원래코드 \n",
    "# def show(pp2023):\n",
    "#     _str = html_str.format(\n",
    "#         title = pp2023.title,\n",
    "#         imgurl = pp2023.imgurl, \n",
    "#         ques = pp2023.ques,\n",
    "#         ans = pp2023.ans, \n",
    "#         end = pp2023.end\n",
    "#     )\n",
    "#     display(HTML(_str))    \n",
    "\n",
    "# 수정 \n",
    "def pp2023.show(pp2023):\n",
    "    _str = pp2023.html_str.format(\n",
    "        title = pp2023.title,\n",
    "        imgurl = pp2023.imgurl, \n",
    "        ques = pp2023.ques,\n",
    "        ans = pp2023.ans, \n",
    "        end = pp2023.end\n",
    "    )\n",
    "    display(HTML(_str))    "
   ]
  },
  {
   "cell_type": "markdown",
   "id": "a4c786c6-956e-452a-9e1b-0afa57b3711b",
   "metadata": {},
   "source": [
    "실패했다.. "
   ]
  },
  {
   "cell_type": "markdown",
   "id": "736f8127-403a-4331-ba7c-93248ea6a9d2",
   "metadata": {},
   "source": [
    "`-` 시도2: 성공 "
   ]
  },
  {
   "cell_type": "code",
   "execution_count": 364,
   "id": "53dd213f-2b11-40a6-82cb-5d3089f18052",
   "metadata": {},
   "outputs": [],
   "source": [
    "class JungKKuckMa:\n",
    "    def show(self):\n",
    "        _str = self.html_str.format(\n",
    "            ttl = self.title,\n",
    "            url = self.imgurl, \n",
    "            q = self.ques,\n",
    "            a = self.ans, \n",
    "            hlght = self.highlight\n",
    "        )\n",
    "        display(HTML(_str))  \n",
    "        \n",
    "# self로 바꿨네?"
   ]
  },
  {
   "cell_type": "code",
   "execution_count": 365,
   "id": "4d66055a-971e-45f0-b043-b46d3f881add",
   "metadata": {},
   "outputs": [],
   "source": [
    "pp2023 = JungKKuckMa()"
   ]
  },
  {
   "cell_type": "markdown",
   "id": "4680e1f8-471c-4a2a-b260-ccd97b6ef73f",
   "metadata": {},
   "source": [
    "*(참고) 이 시점에 `pp2023.` + tab을 누르면 show 함수가 자동완성 된다.*"
   ]
  },
  {
   "cell_type": "code",
   "execution_count": 366,
   "id": "5b8c1208-4567-495c-994f-28bc31f66059",
   "metadata": {},
   "outputs": [],
   "source": [
    "pp2023.title = '파이썬 프로그래밍 중간고사 패배는 괜찮다.'\n",
    "pp2023.imgurl = 'https://github.com/guebin/PP2023/blob/main/posts/03_Class/PP2023mid.jpg?raw=true?'\n",
    "pp2023.ques = \"Q: 파이썬 프로그래밍 기말고사, 어떤 점에 유의해야 할까?\"\n",
    "pp2023.ans = \"A: 최규빈 교수 문제 스타일에 대해서 더 분석할 건 없는 것 같고, 내가 내 코드를 잘 구현하는 게 제일 중요한 것 같고 중간고사는 망하긴 했지만 제 스스로 안 무너지면 충분히 기말고사는 잘 볼 수 있을 것 같아요.\"\n",
    "pp2023.highlight = '마음'\n",
    "pp2023.html_str =\\\n",
    "'''\n",
    "<style>\n",
    "    .title {{\n",
    "        font-family: \"Times New Roman\", serif;\n",
    "        font-size: 30px;\n",
    "        font-weight: 900;\n",
    "    }}\n",
    "    .text {{\n",
    "        font-family: \"Arial\", sans-serif;\n",
    "        font-size: 20px;\n",
    "        font-style: italic;\n",
    "    }}\n",
    "    .highlight {{\n",
    "        font-family: \"Montserrat\", monospace;\n",
    "        font-size: 35px;\n",
    "        font-weight: 900;\n",
    "        text-decoration: underline;\n",
    "        font-style: normal;\n",
    "        color: darkblue;\n",
    "        background-color: #FFFF00;\n",
    "    }}\n",
    "</style>\n",
    "<p class=\"title\">{ttl}</p>\n",
    "<img src={url} width=\"600\">\n",
    "<p> \\n </p>\n",
    "<p class=\"text\">{q}</p>\n",
    "<p class=\"text\">{a}</p>\n",
    "<p class=\"title\">중요한 것은 꺽이지 않는 <span class=\"highlight\">{hlght}</span></p>\n",
    "'''"
   ]
  },
  {
   "cell_type": "markdown",
   "id": "268937ff-affc-4e45-8601-c242f9660199",
   "metadata": {},
   "source": [
    "*(참고) 이 시점에 `pp2023.` tab을 누르면 아래와 같이 보인다.*"
   ]
  },
  {
   "attachments": {
    "786c849a-1166-4d34-878a-90dbf43c9238.png": {
     "image/png": "[encoded data removed]"
    }
   },
   "cell_type": "markdown",
   "id": "4883d694-8a91-4fab-b23d-59b5a1032201",
   "metadata": {},
   "source": [
    "![](attachment:786c849a-1166-4d34-878a-90dbf43c9238.png)"
   ]
  },
  {
   "cell_type": "code",
   "execution_count": 302,
   "id": "6244e8c1-b3ef-460d-b5cc-db1b14be029a",
   "metadata": {},
   "outputs": [
    {
     "data": {
      "text/html": [
       "\n",
       "        <style>\n",
       "            .title {\n",
       "                font-family: \"Times New Roman\", serif;\n",
       "                font-size: 30px;\n",
       "                font-weight: 900;\n",
       "            }\n",
       "            .text {\n",
       "                font-family: \"Arial\", sans-serif;\n",
       "                font-size: 20px;\n",
       "                font-style: italic;\n",
       "            }\n",
       "            .highlight {\n",
       "                font-family: \"Montserrat\", monospace;\n",
       "                font-size: 35px;\n",
       "                font-weight: 900;\n",
       "                text-decoration: underline;\n",
       "                font-style: normal;\n",
       "                color: darkblue;\n",
       "                background-color: #FFFF00;\n",
       "            }\n",
       "        </style>\n",
       "        <p class=\"title\">파이썬 프로그래밍 중간고사 패배는 괜찮다.</p>\n",
       "        <img src=https://github.com/guebin/PP2023/blob/main/posts/03_Class/PP2023mid.jpg?raw=true? width=\"600\">\n",
       "        <p> \n",
       " </p>\n",
       "        <p class=\"text\">Q: 파이썬 프로그래밍 기말고사, 어떤 점에 유의해야 할까?</p>\n",
       "        <p class=\"text\">A: 최규빈 교수 문제 스타일에 대해서 더 분석할 건 없는 것 같고, 내가 내 코드를 잘 구현하는 게 제일 중요한 것 같고 중간고사는 망하긴 했지만 제 스스로 안 무너지면 충분히 기말고사는 잘 볼 수 있을 것 같아요.</p>\n",
       "        <p class=\"title\">중요한 것은 꺽이지 않는 <span class=\"highlight\">마음</span></p>\n",
       "        "
      ],
      "text/plain": [
       "<IPython.core.display.HTML object>"
      ]
     },
     "metadata": {},
     "output_type": "display_data"
    }
   ],
   "source": [
    "pp2023.show() \n",
    "\n",
    "# 헉 입력생략?? "
   ]
  },
  {
   "cell_type": "markdown",
   "id": "eac77592-763a-482d-82d4-0ea76f3c4795",
   "metadata": {},
   "source": [
    "`-` 암기 \n",
    "\n",
    "1. 선언하는 방법: 외부에 선언한 show코드를 그대로 복붙하여 Class 안으로 가져온다. $\\to$ pp2023이라고 되어있는 부분을 모두 self로 바꾼다!\n",
    "2. 사용하는 방법: pp2023의 내부에 정의된 함수는 모두 기본적으로 pp2023을 입력으로 받으므로 함수의 입력은 생략가능하다. "
   ]
  },
  {
   "cell_type": "markdown",
   "id": "6b4a320e-da23-420d-be35-f6036c28c08a",
   "metadata": {},
   "source": [
    "> `pp2023` 내부에 선언된 변수 혹은 함수를 `pp2023`의 attribute 이라고 한다. 특별히 그것이 함수일 경우는 \"메소드\"라는 용어를 사용한다. "
   ]
  },
  {
   "cell_type": "markdown",
   "id": "b7c0faad-39a1-4591-bacb-a41044b2abac",
   "metadata": {},
   "source": [
    "## self의 의미 ($\\star\\star$)"
   ]
  },
  {
   "cell_type": "markdown",
   "id": "41ad2d7a-1eb2-45cc-bbde-4793c213c358",
   "metadata": {},
   "source": [
    "`-` 관찰\n",
    "\n",
    "- `self`는 `pp2023` 혹은 `burger`에 대응한다. \n",
    "- 즉 `self`는 `JungKKuckMa` 클래스에서 생성된 인스턴스 이름에 대응한다. \n",
    "- 비유하면 `self`는 `JungKKuckMa` 에서 태어난 아기 이름에 대응한다. "
   ]
  },
  {
   "cell_type": "markdown",
   "id": "62d07cfb-bed2-4cd0-b59b-309342dce8eb",
   "metadata": {},
   "source": [
    "`-` 우리가 하고 싶은 것: 클래스가 설계되는 시점에서 인스턴스가 태어난 이후에 하게 될 일련의 동작을 정의"
   ]
  },
  {
   "cell_type": "markdown",
   "id": "03633cfd-6826-4d93-b9ce-d65683855d5a",
   "metadata": {},
   "source": [
    "```Python\n",
    "class JungKKuckMa:\n",
    "    def show(self):\n",
    "        _str = self.html_str.format(\n",
    "            ttl = self.title,\n",
    "            url = self.imgurl, \n",
    "            q = self.ques,\n",
    "            a = self.ans, \n",
    "            hlght = self.highlight\n",
    "        )\n",
    "        display(HTML(_str))\n",
    "```"
   ]
  },
  {
   "cell_type": "markdown",
   "id": "b07f9093-2c03-4d3e-9298-43b4f3649f60",
   "metadata": {},
   "source": [
    "- 위의 코드에서 def show에 서술된 모든 문법은 시점상 `???? = JungKKuckMa()`가 선언된 이후의 코드들이며, 이때 self는 `????`의 자리를 대신한다. "
   ]
  },
  {
   "cell_type": "markdown",
   "id": "202382a4-7e95-41b0-8b17-6ed9c8ff1791",
   "metadata": {},
   "source": [
    "`-` self의 의미: `????=JungKKuckMa()` 에 의하여 태어날 인스턴스의 \"태명\" \n",
    "\n",
    "1. 우리는 클래스가 설계되는 시점에서 인스턴스가 태어난 이후에 하게 될 일련의 동작을 정의하고 싶다.\n",
    "2. 그런데 클래스를 설계하는 시점에서는 인스턴스의 이름이 정해지지 않았으므로 (아직 태어나지도 않음) 이 작업이 불편하다. \n",
    "3. 그래서 앞으로는 1의 과정이 용이하도록 하기 위해서, 앞으로 태어날 인스턴스의 이름은 모두 self 라는 가칭으로 부른다. "
   ]
  },
  {
   "cell_type": "markdown",
   "id": "4c256bff-ee22-4104-afe0-7538b11cbee5",
   "metadata": {},
   "source": [
    "`-` 요약: self의 의미는 (후에 만들어질) 인스턴스의 이름이다. "
   ]
  },
  {
   "cell_type": "markdown",
   "id": "3d6b938e-8135-4db2-985f-a51165ddfa6e",
   "metadata": {},
   "source": [
    "# 클래스공부 2단계"
   ]
  },
  {
   "cell_type": "markdown",
   "id": "f0afcec6-e2fc-42b7-8b6c-a83f65c94d71",
   "metadata": {},
   "source": [
    "## 모티브"
   ]
  },
  {
   "cell_type": "markdown",
   "id": "a00204a4-51c5-466e-9eb2-c2be863649fb",
   "metadata": {},
   "source": [
    "`-` 모티브: 태어날때마다 변수들을 선언하는게 귀찮다. "
   ]
  },
  {
   "cell_type": "markdown",
   "id": "5a1039a7-b419-42c0-aa1e-89a914a1d52f",
   "metadata": {},
   "source": [
    "## 트릭 "
   ]
  },
  {
   "cell_type": "markdown",
   "id": "94f6c448-51ca-4ec9-a8b8-fcffee6474ed",
   "metadata": {},
   "source": [
    "`-` 트릭 "
   ]
  },
  {
   "cell_type": "code",
   "execution_count": 367,
   "id": "a7c2d7db-63c8-49d9-bfff-eb79c6ad894e",
   "metadata": {},
   "outputs": [],
   "source": [
    "class JungKKuckMa:\n",
    "    def init(self):\n",
    "        self.title = '파이썬 프로그래밍 중간고사 패배는 괜찮다.'\n",
    "        self.imgurl = 'https://github.com/guebin/PP2023/blob/main/posts/03_Class/PP2023mid.jpg?raw=true?'\n",
    "        self.ques = \"Q: 파이썬 프로그래밍 기말고사, 어떤 점에 유의해야 할까?\"\n",
    "        self.ans = \"A: 최규빈 교수 문제 스타일에 대해서 더 분석할 건 없는 것 같고, 내가 내 코드를 잘 구현하는 게 제일 중요한 것 같고 중간고사는 망하긴 했지만 제 스스로 안 무너지면 충분히 기말고사는 잘 볼 수 있을 것 같아요.\"\n",
    "        self.highlight = '마음'\n",
    "        self.html_str = \\\n",
    "        '''\n",
    "        <style>\n",
    "            .title {{\n",
    "                font-family: \"Times New Roman\", serif;\n",
    "                font-size: 30px;\n",
    "                font-weight: 900;\n",
    "            }}\n",
    "            .text {{\n",
    "                font-family: \"Arial\", sans-serif;\n",
    "                font-size: 20px;\n",
    "                font-style: italic;\n",
    "            }}\n",
    "            .highlight {{\n",
    "                font-family: \"Montserrat\", monospace;\n",
    "                font-size: 35px;\n",
    "                font-weight: 900;\n",
    "                text-decoration: underline;\n",
    "                font-style: normal;\n",
    "                color: darkblue;\n",
    "                background-color: #FFFF00;\n",
    "            }}\n",
    "        </style>\n",
    "        <p class=\"title\">{ttl}</p>\n",
    "        <img src={url} width=\"600\">\n",
    "        <p> \\n </p>\n",
    "        <p class=\"text\">{q}</p>\n",
    "        <p class=\"text\">{a}</p>\n",
    "        <p class=\"title\">중요한 것은 꺽이지 않는 <span class=\"highlight\">{hlght}</span></p>\n",
    "        '''\n",
    "    def show(self):\n",
    "        _str = self.html_str.format(\n",
    "            ttl = self.title,\n",
    "            url = self.imgurl, \n",
    "            q = self.ques,\n",
    "            a = self.ans, \n",
    "            hlght = self.highlight\n",
    "        )\n",
    "        display(HTML(_str))"
   ]
  },
  {
   "cell_type": "markdown",
   "id": "501c83ae-92ff-4a5e-82cb-8ed87463e5bb",
   "metadata": {},
   "source": [
    "## 사용 "
   ]
  },
  {
   "cell_type": "markdown",
   "id": "4e150b3c-f309-4609-81da-1d4d8ac0639c",
   "metadata": {},
   "source": [
    "### ***t=1 -- 밈1: 파이썬 프로그래밍 중간고사***"
   ]
  },
  {
   "cell_type": "code",
   "execution_count": 368,
   "id": "fd85db7b-922b-4f86-8b83-0808424d49fc",
   "metadata": {},
   "outputs": [],
   "source": [
    "pp2023 = JungKKuckMa()"
   ]
  },
  {
   "cell_type": "markdown",
   "id": "4ff0c103-66ed-4dff-ad82-aa7e418185c0",
   "metadata": {},
   "source": [
    "*(참고) 이 시점에서 `pp2023.`+tab을 누르면?*"
   ]
  },
  {
   "attachments": {
    "10956fb5-023c-4c59-afc1-053c28f3e749.png": {
     "image/png": "[encoded data removed]"
    }
   },
   "cell_type": "markdown",
   "id": "6e0d43b5-322c-458b-b5f5-1ee57b5dacb1",
   "metadata": {},
   "source": [
    "![](attachment:10956fb5-023c-4c59-afc1-053c28f3e749.png)"
   ]
  },
  {
   "cell_type": "code",
   "execution_count": 370,
   "id": "dfc25916-a18d-4e53-9891-97d72e09d715",
   "metadata": {},
   "outputs": [],
   "source": [
    "pp2023.init()"
   ]
  },
  {
   "cell_type": "markdown",
   "id": "3c049053-e8e6-4d2f-9ec6-f425b4c9c67a",
   "metadata": {},
   "source": [
    "*(참고) 이 시점에서 `pp2023.`+tab을 누르면?*"
   ]
  },
  {
   "attachments": {
    "e7a74df7-6e26-4a13-840c-2d7664a2a77b.png": {
     "image/png": "[encoded data removed]"
    }
   },
   "cell_type": "markdown",
   "id": "5532ce9e-f630-4c9a-8309-c3364484ff79",
   "metadata": {},
   "source": [
    "![](attachment:e7a74df7-6e26-4a13-840c-2d7664a2a77b.png)"
   ]
  },
  {
   "cell_type": "code",
   "execution_count": 371,
   "id": "874d8cb8-0740-4d76-b258-e4b643645c74",
   "metadata": {},
   "outputs": [
    {
     "data": {
      "text/html": [
       "\n",
       "        <style>\n",
       "            .title {\n",
       "                font-family: \"Times New Roman\", serif;\n",
       "                font-size: 30px;\n",
       "                font-weight: 900;\n",
       "            }\n",
       "            .text {\n",
       "                font-family: \"Arial\", sans-serif;\n",
       "                font-size: 20px;\n",
       "                font-style: italic;\n",
       "            }\n",
       "            .highlight {\n",
       "                font-family: \"Montserrat\", monospace;\n",
       "                font-size: 35px;\n",
       "                font-weight: 900;\n",
       "                text-decoration: underline;\n",
       "                font-style: normal;\n",
       "                color: darkblue;\n",
       "                background-color: #FFFF00;\n",
       "            }\n",
       "        </style>\n",
       "        <p class=\"title\">파이썬 프로그래밍 중간고사 패배는 괜찮다.</p>\n",
       "        <img src=https://github.com/guebin/PP2023/blob/main/posts/03_Class/PP2023mid.jpg?raw=true? width=\"600\">\n",
       "        <p> \n",
       " </p>\n",
       "        <p class=\"text\">Q: 파이썬 프로그래밍 기말고사, 어떤 점에 유의해야 할까?</p>\n",
       "        <p class=\"text\">A: 최규빈 교수 문제 스타일에 대해서 더 분석할 건 없는 것 같고, 내가 내 코드를 잘 구현하는 게 제일 중요한 것 같고 중간고사는 망하긴 했지만 제 스스로 안 무너지면 충분히 기말고사는 잘 볼 수 있을 것 같아요.</p>\n",
       "        <p class=\"title\">중요한 것은 꺽이지 않는 <span class=\"highlight\">마음</span></p>\n",
       "        "
      ],
      "text/plain": [
       "<IPython.core.display.HTML object>"
      ]
     },
     "metadata": {},
     "output_type": "display_data"
    }
   ],
   "source": [
    "pp2023.show()"
   ]
  },
  {
   "cell_type": "markdown",
   "id": "e59a8000-295d-4203-85f9-b55ce117aced",
   "metadata": {},
   "source": [
    "### ***t=2 -- 밈2:버거킹***"
   ]
  },
  {
   "cell_type": "code",
   "execution_count": 372,
   "id": "589e9cd7-9a9f-49d5-976a-a5b0eb05a3e3",
   "metadata": {},
   "outputs": [],
   "source": [
    "burger = JungKKuckMa()\n",
    "burger.init()"
   ]
  },
  {
   "cell_type": "code",
   "execution_count": 373,
   "id": "f8f6ef45-345c-41ba-9e5f-239c330f74dd",
   "metadata": {},
   "outputs": [],
   "source": [
    "burger.title = '버거 2개를 골라도 6000원!' \n",
    "burger.imgurl = 'https://github.com/guebin/PP2023/blob/main/posts/03_Class/burgerking.png?raw=true'\n",
    "burger.ques = '기간: 11월28일(월)~12.4(일)'\n",
    "burger.ans = '콰트로치즈 와파 주니어, 통새우 와퍼 주니어, 롱치킨 버거 최대 42% 할인!'\n",
    "burger.highlight = '할인'"
   ]
  },
  {
   "cell_type": "code",
   "execution_count": 374,
   "id": "aee60ef9-73ee-4990-b55c-0788a868b6aa",
   "metadata": {},
   "outputs": [
    {
     "data": {
      "text/html": [
       "\n",
       "        <style>\n",
       "            .title {\n",
       "                font-family: \"Times New Roman\", serif;\n",
       "                font-size: 30px;\n",
       "                font-weight: 900;\n",
       "            }\n",
       "            .text {\n",
       "                font-family: \"Arial\", sans-serif;\n",
       "                font-size: 20px;\n",
       "                font-style: italic;\n",
       "            }\n",
       "            .highlight {\n",
       "                font-family: \"Montserrat\", monospace;\n",
       "                font-size: 35px;\n",
       "                font-weight: 900;\n",
       "                text-decoration: underline;\n",
       "                font-style: normal;\n",
       "                color: darkblue;\n",
       "                background-color: #FFFF00;\n",
       "            }\n",
       "        </style>\n",
       "        <p class=\"title\">버거 2개를 골라도 6000원!</p>\n",
       "        <img src=https://github.com/guebin/PP2023/blob/main/posts/03_Class/burgerking.png?raw=true width=\"600\">\n",
       "        <p> \n",
       " </p>\n",
       "        <p class=\"text\">기간: 11월28일(월)~12.4(일)</p>\n",
       "        <p class=\"text\">콰트로치즈 와파 주니어, 통새우 와퍼 주니어, 롱치킨 버거 최대 42% 할인!</p>\n",
       "        <p class=\"title\">중요한 것은 꺽이지 않는 <span class=\"highlight\">할인</span></p>\n",
       "        "
      ],
      "text/plain": [
       "<IPython.core.display.HTML object>"
      ]
     },
     "metadata": {},
     "output_type": "display_data"
    }
   ],
   "source": [
    "burger.show()"
   ]
  },
  {
   "cell_type": "markdown",
   "id": "176afcc1-2474-420e-804f-3e3eb7427a07",
   "metadata": {},
   "source": [
    "### ***t=3 -- 밈1변경: 중요한 것은 꺽이지 않는 \"집중력!\"***"
   ]
  },
  {
   "cell_type": "code",
   "execution_count": 375,
   "id": "dc4288aa-827f-41d6-8347-6f1e5ac5b14c",
   "metadata": {},
   "outputs": [],
   "source": [
    "pp2023.highlight = \"집중력\""
   ]
  },
  {
   "cell_type": "code",
   "execution_count": 376,
   "id": "c7af0b2d-2ff5-4bef-99a5-40d8820c0217",
   "metadata": {},
   "outputs": [
    {
     "data": {
      "text/html": [
       "\n",
       "        <style>\n",
       "            .title {\n",
       "                font-family: \"Times New Roman\", serif;\n",
       "                font-size: 30px;\n",
       "                font-weight: 900;\n",
       "            }\n",
       "            .text {\n",
       "                font-family: \"Arial\", sans-serif;\n",
       "                font-size: 20px;\n",
       "                font-style: italic;\n",
       "            }\n",
       "            .highlight {\n",
       "                font-family: \"Montserrat\", monospace;\n",
       "                font-size: 35px;\n",
       "                font-weight: 900;\n",
       "                text-decoration: underline;\n",
       "                font-style: normal;\n",
       "                color: darkblue;\n",
       "                background-color: #FFFF00;\n",
       "            }\n",
       "        </style>\n",
       "        <p class=\"title\">파이썬 프로그래밍 중간고사 패배는 괜찮다.</p>\n",
       "        <img src=https://github.com/guebin/PP2023/blob/main/posts/03_Class/PP2023mid.jpg?raw=true? width=\"600\">\n",
       "        <p> \n",
       " </p>\n",
       "        <p class=\"text\">Q: 파이썬 프로그래밍 기말고사, 어떤 점에 유의해야 할까?</p>\n",
       "        <p class=\"text\">A: 최규빈 교수 문제 스타일에 대해서 더 분석할 건 없는 것 같고, 내가 내 코드를 잘 구현하는 게 제일 중요한 것 같고 중간고사는 망하긴 했지만 제 스스로 안 무너지면 충분히 기말고사는 잘 볼 수 있을 것 같아요.</p>\n",
       "        <p class=\"title\">중요한 것은 꺽이지 않는 <span class=\"highlight\">집중력</span></p>\n",
       "        "
      ],
      "text/plain": [
       "<IPython.core.display.HTML object>"
      ]
     },
     "metadata": {},
     "output_type": "display_data"
    }
   ],
   "source": [
    "pp2023.show()"
   ]
  },
  {
   "cell_type": "markdown",
   "id": "6dbfda88-f0ea-4092-922a-6660a972887c",
   "metadata": {},
   "source": [
    "### ***t=4 -- 밈2변경: 버거 종류 수정***"
   ]
  },
  {
   "cell_type": "code",
   "execution_count": 377,
   "id": "8b7b73ef-6beb-4da1-9e1a-b4d8f23734a0",
   "metadata": {},
   "outputs": [],
   "source": [
    "burger.ans = '기네스콰트로치즈와퍼, 기네스와퍼, 몬스터와퍼, 몬스터X, 최대 XX% 할인!' "
   ]
  },
  {
   "cell_type": "code",
   "execution_count": 378,
   "id": "92109de3-f7b1-4e3b-9313-3d0caf30c4b5",
   "metadata": {},
   "outputs": [
    {
     "data": {
      "text/html": [
       "\n",
       "        <style>\n",
       "            .title {\n",
       "                font-family: \"Times New Roman\", serif;\n",
       "                font-size: 30px;\n",
       "                font-weight: 900;\n",
       "            }\n",
       "            .text {\n",
       "                font-family: \"Arial\", sans-serif;\n",
       "                font-size: 20px;\n",
       "                font-style: italic;\n",
       "            }\n",
       "            .highlight {\n",
       "                font-family: \"Montserrat\", monospace;\n",
       "                font-size: 35px;\n",
       "                font-weight: 900;\n",
       "                text-decoration: underline;\n",
       "                font-style: normal;\n",
       "                color: darkblue;\n",
       "                background-color: #FFFF00;\n",
       "            }\n",
       "        </style>\n",
       "        <p class=\"title\">버거 2개를 골라도 6000원!</p>\n",
       "        <img src=https://github.com/guebin/PP2023/blob/main/posts/03_Class/burgerking.png?raw=true width=\"600\">\n",
       "        <p> \n",
       " </p>\n",
       "        <p class=\"text\">기간: 11월28일(월)~12.4(일)</p>\n",
       "        <p class=\"text\">기네스콰트로치즈와퍼, 기네스와퍼, 몬스터와퍼, 몬스터X, 최대 XX% 할인!</p>\n",
       "        <p class=\"title\">중요한 것은 꺽이지 않는 <span class=\"highlight\">할인</span></p>\n",
       "        "
      ],
      "text/plain": [
       "<IPython.core.display.HTML object>"
      ]
     },
     "metadata": {},
     "output_type": "display_data"
    }
   ],
   "source": [
    "burger.show()"
   ]
  },
  {
   "cell_type": "markdown",
   "id": "d01876fe-4c0c-4c70-a833-aed291537211",
   "metadata": {},
   "source": [
    "## `__init__()` "
   ]
  },
  {
   "cell_type": "markdown",
   "id": "3ef85a18-3540-461f-a108-9b6242dd950d",
   "metadata": {},
   "source": [
    "`-` 생각해보니까 위의 코드는 클래스를 만들고 `pp2023.init()` 등을 실행하는게 고정임 "
   ]
  },
  {
   "cell_type": "markdown",
   "id": "85ab3f58-8411-47eb-bba8-eab528484021",
   "metadata": {},
   "source": [
    "`-` 만드는 시점에서 **자동으로** `init()`이 실행되면 어떨까? 좋겟지..."
   ]
  },
  {
   "cell_type": "code",
   "execution_count": 379,
   "id": "b274cba6-173e-4c2c-9451-b3b2c6f7ecdf",
   "metadata": {},
   "outputs": [],
   "source": [
    "class JungKKuckMa:\n",
    "    def __init__(self):\n",
    "        self.title = '파이썬 프로그래밍 중간고사 패배는 괜찮다.'\n",
    "        self.imgurl = 'https://github.com/guebin/PP2023/blob/main/posts/03_Class/PP2023mid.jpg?raw=true?'\n",
    "        self.ques = \"Q: 파이썬 프로그래밍 기말고사, 어떤 점에 유의해야 할까?\"\n",
    "        self.ans = \"A: 최규빈 교수 문제 스타일에 대해서 더 분석할 건 없는 것 같고, 내가 내 코드를 잘 구현하는 게 제일 중요한 것 같고 중간고사는 망하긴 했지만 제 스스로 안 무너지면 충분히 기말고사는 잘 볼 수 있을 것 같아요.\"\n",
    "        self.highlight = '마음'\n",
    "        self.html_str = \\\n",
    "        '''\n",
    "        <style>\n",
    "            .title {{\n",
    "                font-family: \"Times New Roman\", serif;\n",
    "                font-size: 30px;\n",
    "                font-weight: 900;\n",
    "            }}\n",
    "            .text {{\n",
    "                font-family: \"Arial\", sans-serif;\n",
    "                font-size: 20px;\n",
    "                font-style: italic;\n",
    "            }}\n",
    "            .highlight {{\n",
    "                font-family: \"Montserrat\", monospace;\n",
    "                font-size: 35px;\n",
    "                font-weight: 900;\n",
    "                text-decoration: underline;\n",
    "                font-style: normal;\n",
    "                color: darkblue;\n",
    "                background-color: #FFFF00;\n",
    "            }}\n",
    "        </style>\n",
    "        <p class=\"title\">{ttl}</p>\n",
    "        <img src={url} width=\"600\">\n",
    "        <p> \\n </p>\n",
    "        <p class=\"text\">{q}</p>\n",
    "        <p class=\"text\">{a}</p>\n",
    "        <p class=\"title\">중요한 것은 꺽이지 않는 <span class=\"highlight\">{hlght}</span></p>\n",
    "        '''\n",
    "    def show(self):\n",
    "        _str = self.html_str.format(\n",
    "            ttl = self.title,\n",
    "            url = self.imgurl, \n",
    "            q = self.ques,\n",
    "            a = self.ans, \n",
    "            hlght = self.highlight\n",
    "        )\n",
    "        display(HTML(_str))"
   ]
  },
  {
   "cell_type": "markdown",
   "id": "a601cd99-fb5d-4e2a-b9b4-12a7dbfff239",
   "metadata": {},
   "source": [
    "`-` 사용예시"
   ]
  },
  {
   "cell_type": "code",
   "execution_count": 380,
   "id": "c3b1779c-a3ea-4cf4-995b-412c132eb451",
   "metadata": {},
   "outputs": [],
   "source": [
    "pp2023 = JungKKuckMa()"
   ]
  },
  {
   "cell_type": "markdown",
   "id": "b9b60e0e-d2dd-4c88-96ce-2b640ce60460",
   "metadata": {},
   "source": [
    "*(참고) 이 시점에서 `pp2023.`+tab 하면?*"
   ]
  },
  {
   "attachments": {
    "f4b2a407-ff01-4748-b372-8a65580a4bd5.png": {
     "image/png": "[encoded data removed]"
    }
   },
   "cell_type": "markdown",
   "id": "733aaef0-63ea-4ae3-b564-a83f911a2b15",
   "metadata": {},
   "source": [
    "![](attachment:f4b2a407-ff01-4748-b372-8a65580a4bd5.png)"
   ]
  },
  {
   "cell_type": "markdown",
   "id": "3006c83a-b1a5-48c1-a5b2-86bd419336f1",
   "metadata": {},
   "source": [
    "- 변수들이 미리 선언되어있음 \n",
    "- 함수 `__init__`은 안보임 (숨어있음) "
   ]
  },
  {
   "cell_type": "markdown",
   "id": "01711650-f0f1-4799-846b-f66adb923c91",
   "metadata": {},
   "source": [
    "*(참고) 숨은 함수 강제소환*"
   ]
  },
  {
   "cell_type": "code",
   "execution_count": 384,
   "id": "06e0a704-c21b-4c1b-8a20-fda92f68400f",
   "metadata": {},
   "outputs": [
    {
     "data": {
      "text/plain": [
       "\u001b[0;31mSignature:\u001b[0m \u001b[0mpp2023\u001b[0m\u001b[0;34m.\u001b[0m\u001b[0m__init__\u001b[0m\u001b[0;34m(\u001b[0m\u001b[0;34m)\u001b[0m\u001b[0;34m\u001b[0m\u001b[0;34m\u001b[0m\u001b[0m\n",
       "\u001b[0;31mDocstring:\u001b[0m Initialize self.  See help(type(self)) for accurate signature.\n",
       "\u001b[0;31mSource:\u001b[0m   \n",
       "    \u001b[0;32mdef\u001b[0m \u001b[0m__init__\u001b[0m\u001b[0;34m(\u001b[0m\u001b[0mself\u001b[0m\u001b[0;34m)\u001b[0m\u001b[0;34m:\u001b[0m\u001b[0;34m\u001b[0m\n",
       "\u001b[0;34m\u001b[0m        \u001b[0mself\u001b[0m\u001b[0;34m.\u001b[0m\u001b[0mtitle\u001b[0m \u001b[0;34m=\u001b[0m \u001b[0;34m'파이썬 프로그래밍 중간고사 패배는 괜찮다.'\u001b[0m\u001b[0;34m\u001b[0m\n",
       "\u001b[0;34m\u001b[0m        \u001b[0mself\u001b[0m\u001b[0;34m.\u001b[0m\u001b[0mimgurl\u001b[0m \u001b[0;34m=\u001b[0m \u001b[0;34m'https://github.com/guebin/PP2023/blob/main/posts/03_Class/PP2023mid.jpg?raw=true?'\u001b[0m\u001b[0;34m\u001b[0m\n",
       "\u001b[0;34m\u001b[0m        \u001b[0mself\u001b[0m\u001b[0;34m.\u001b[0m\u001b[0mques\u001b[0m \u001b[0;34m=\u001b[0m \u001b[0;34m\"Q: 파이썬 프로그래밍 기말고사, 어떤 점에 유의해야 할까?\"\u001b[0m\u001b[0;34m\u001b[0m\n",
       "\u001b[0;34m\u001b[0m        \u001b[0mself\u001b[0m\u001b[0;34m.\u001b[0m\u001b[0mans\u001b[0m \u001b[0;34m=\u001b[0m \u001b[0;34m\"A: 최규빈 교수 문제 스타일에 대해서 더 분석할 건 없는 것 같고, 내가 내 코드를 잘 구현하는 게 제일 중요한 것 같고 중간고사는 망하긴 했지만 제 스스로 안 무너지면 충분히 기말고사는 잘 볼 수 있을 것 같아요.\"\u001b[0m\u001b[0;34m\u001b[0m\n",
       "\u001b[0;34m\u001b[0m        \u001b[0mself\u001b[0m\u001b[0;34m.\u001b[0m\u001b[0mhighlight\u001b[0m \u001b[0;34m=\u001b[0m \u001b[0;34m'마음'\u001b[0m\u001b[0;34m\u001b[0m\n",
       "\u001b[0;34m\u001b[0m        \u001b[0mself\u001b[0m\u001b[0;34m.\u001b[0m\u001b[0mhtml_str\u001b[0m \u001b[0;34m=\u001b[0m \\\n",
       "        \u001b[0;34m'''\u001b[0m\n",
       "\u001b[0;34m        <style>\u001b[0m\n",
       "\u001b[0;34m            .title {{\u001b[0m\n",
       "\u001b[0;34m                font-family: \"Times New Roman\", serif;\u001b[0m\n",
       "\u001b[0;34m                font-size: 30px;\u001b[0m\n",
       "\u001b[0;34m                font-weight: 900;\u001b[0m\n",
       "\u001b[0;34m            }}\u001b[0m\n",
       "\u001b[0;34m            .text {{\u001b[0m\n",
       "\u001b[0;34m                font-family: \"Arial\", sans-serif;\u001b[0m\n",
       "\u001b[0;34m                font-size: 20px;\u001b[0m\n",
       "\u001b[0;34m                font-style: italic;\u001b[0m\n",
       "\u001b[0;34m            }}\u001b[0m\n",
       "\u001b[0;34m            .highlight {{\u001b[0m\n",
       "\u001b[0;34m                font-family: \"Montserrat\", monospace;\u001b[0m\n",
       "\u001b[0;34m                font-size: 35px;\u001b[0m\n",
       "\u001b[0;34m                font-weight: 900;\u001b[0m\n",
       "\u001b[0;34m                text-decoration: underline;\u001b[0m\n",
       "\u001b[0;34m                font-style: normal;\u001b[0m\n",
       "\u001b[0;34m                color: darkblue;\u001b[0m\n",
       "\u001b[0;34m                background-color: #FFFF00;\u001b[0m\n",
       "\u001b[0;34m            }}\u001b[0m\n",
       "\u001b[0;34m        </style>\u001b[0m\n",
       "\u001b[0;34m        <p class=\"title\">{ttl}</p>\u001b[0m\n",
       "\u001b[0;34m        <img src={url} width=\"600\">\u001b[0m\n",
       "\u001b[0;34m        <p> \\n </p>\u001b[0m\n",
       "\u001b[0;34m        <p class=\"text\">{q}</p>\u001b[0m\n",
       "\u001b[0;34m        <p class=\"text\">{a}</p>\u001b[0m\n",
       "\u001b[0;34m        <p class=\"title\">중요한 것은 꺽이지 않는 <span class=\"highlight\">{hlght}</span></p>\u001b[0m\n",
       "\u001b[0;34m        '''\u001b[0m\u001b[0;34m\u001b[0m\u001b[0;34m\u001b[0m\u001b[0m\n",
       "\u001b[0;31mFile:\u001b[0m      ~/Dropbox/07_lectures/PP2023/posts/03_Class/<ipython-input-379-0c9cb7fb89e8>\n",
       "\u001b[0;31mType:\u001b[0m      method"
      ]
     },
     "metadata": {},
     "output_type": "display_data"
    }
   ],
   "source": [
    "pp2023.__init__??"
   ]
  },
  {
   "cell_type": "code",
   "execution_count": 386,
   "id": "78c3dd08-3bb6-4ef3-9578-24ecfe33848a",
   "metadata": {},
   "outputs": [
    {
     "data": {
      "text/html": [
       "\n",
       "        <style>\n",
       "            .title {\n",
       "                font-family: \"Times New Roman\", serif;\n",
       "                font-size: 30px;\n",
       "                font-weight: 900;\n",
       "            }\n",
       "            .text {\n",
       "                font-family: \"Arial\", sans-serif;\n",
       "                font-size: 20px;\n",
       "                font-style: italic;\n",
       "            }\n",
       "            .highlight {\n",
       "                font-family: \"Montserrat\", monospace;\n",
       "                font-size: 35px;\n",
       "                font-weight: 900;\n",
       "                text-decoration: underline;\n",
       "                font-style: normal;\n",
       "                color: darkblue;\n",
       "                background-color: #FFFF00;\n",
       "            }\n",
       "        </style>\n",
       "        <p class=\"title\">파이썬 프로그래밍 중간고사 패배는 괜찮다.</p>\n",
       "        <img src=https://github.com/guebin/PP2023/blob/main/posts/03_Class/PP2023mid.jpg?raw=true? width=\"600\">\n",
       "        <p> \n",
       " </p>\n",
       "        <p class=\"text\">Q: 파이썬 프로그래밍 기말고사, 어떤 점에 유의해야 할까?</p>\n",
       "        <p class=\"text\">A: 최규빈 교수 문제 스타일에 대해서 더 분석할 건 없는 것 같고, 내가 내 코드를 잘 구현하는 게 제일 중요한 것 같고 중간고사는 망하긴 했지만 제 스스로 안 무너지면 충분히 기말고사는 잘 볼 수 있을 것 같아요.</p>\n",
       "        <p class=\"title\">중요한 것은 꺽이지 않는 <span class=\"highlight\">마음</span></p>\n",
       "        "
      ],
      "text/plain": [
       "<IPython.core.display.HTML object>"
      ]
     },
     "metadata": {},
     "output_type": "display_data"
    }
   ],
   "source": [
    "# pp2023.init() # 아까는 이게 필요했는데 이제 필요없당~\n",
    "pp2023.show()"
   ]
  }
 ],
 "metadata": {
  "kernelspec": {
   "display_name": "Python 3",
   "language": "python",
   "name": "python3"
  },
  "language_info": {
   "codemirror_mode": {
    "name": "ipython",
    "version": 3
   },
   "file_extension": ".py",
   "mimetype": "text/x-python",
   "name": "python",
   "nbconvert_exporter": "python",
   "pygments_lexer": "ipython3",
   "version": "3.8.16"
  }
 },
 "nbformat": 4,
 "nbformat_minor": 5
}
