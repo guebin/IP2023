{
 "cells": [
  {
   "cell_type": "raw",
   "id": "9937a572-d7ff-43fc-8ca9-4683a2198b05",
   "metadata": {},
   "source": [
    "---\n",
    "title: \"13wk-2: 클래스공부 4단계 -- 파이썬의 비밀들 (1)\"\n",
    "author: \"최규빈\"\n",
    "date: \"05/31/2023\"\n",
    "---"
   ]
  },
  {
   "cell_type": "markdown",
   "id": "c950cad3-1ea5-446a-88db-a8bb150fe1f9",
   "metadata": {},
   "source": [
    "<a href=\"https://colab.research.google.com/github/guebin/PP2023/blob/main/posts/03_Class/2023-05-31-13wk-2.ipynb\"><img src=\"https://colab.research.google.com/assets/colab-badge.svg\" style=\"text-align: left\"></a>"
   ]
  },
  {
   "cell_type": "markdown",
   "id": "ef92f68e-abb2-4c9c-bc31-97c152730941",
   "metadata": {
    "tags": []
   },
   "source": [
    "# 강의영상"
   ]
  },
  {
   "cell_type": "markdown",
   "id": "2e6d099c-b46d-4801-bcf1-1b84be0fb729",
   "metadata": {},
   "source": [
    "> youtube: <https://youtube.com/playlist?list=PLQqh36zP38-wvGt0tmUiESB7Fm-eA7VYx>"
   ]
  },
  {
   "cell_type": "markdown",
   "id": "e5eff3c3-92a3-4612-9f9a-624f076641f8",
   "metadata": {},
   "source": [
    "# import"
   ]
  },
  {
   "cell_type": "code",
   "execution_count": 156,
   "id": "b8b4b0dc-a34f-416e-90e9-09e6eaa80816",
   "metadata": {},
   "outputs": [],
   "source": [
    "from IPython.core.display import HTML\n",
    "import numpy as np\n",
    "import pandas as pd"
   ]
  },
  {
   "cell_type": "markdown",
   "id": "ceb15633-50af-446e-9a6c-af133a7bfb8a",
   "metadata": {},
   "source": [
    "# 클래스공부 4단계: 파이썬의 비밀 "
   ]
  },
  {
   "cell_type": "markdown",
   "id": "622a1274-96db-4303-ab94-073fed2ba6c2",
   "metadata": {},
   "source": [
    "## 비밀1: 자료형에 대한 비밀"
   ]
  },
  {
   "cell_type": "markdown",
   "id": "d556869c-de0b-4f9d-86e2-999b0758f877",
   "metadata": {},
   "source": [
    "***탐구***: 인스턴스의 자료형이 뭔지 탐구해보자!"
   ]
  },
  {
   "cell_type": "markdown",
   "id": "f2beeeac-dcd7-4143-9a7f-4de26a4bfffd",
   "metadata": {},
   "source": [
    "`-` 아래의 클래스를 선언해보자. "
   ]
  },
  {
   "cell_type": "code",
   "execution_count": 25,
   "id": "96db4ae3-9c16-4058-8528-94aff85bac9a",
   "metadata": {},
   "outputs": [],
   "source": [
    "class JungKKuckMa:\n",
    "    def __init__(self):\n",
    "        self.title = '파이썬 프로그래밍 중간고사 패배는 괜찮다.'\n",
    "        self.imgurl = 'https://github.com/guebin/PP2023/blob/main/posts/03_Class/PP2023mid.jpg?raw=true?'\n",
    "        self.ques = \"Q: 파이썬 프로그래밍 기말고사, 어떤 점에 유의해야 할까?\"\n",
    "        self.ans = \"A: 최규빈 교수 문제 스타일에 대해서 더 분석할 건 없는 것 같고, 내가 내 코드를 잘 구현하는 게 제일 중요한 것 같고 중간고사는 망하긴 했지만 제 스스로 안 무너지면 충분히 기말고사는 잘 볼 수 있을 것 같아요.\"\n",
    "        self.highlight = '마음'\n",
    "        self.html_str =\\\n",
    "        '''\n",
    "        <style>\n",
    "            .title {{\n",
    "                font-family: \"Times New Roman\", serif;\n",
    "                font-size: 30px;\n",
    "                font-weight: 900;\n",
    "            }}\n",
    "            .text {{\n",
    "                font-family: \"Arial\", sans-serif;\n",
    "                font-size: 20px;\n",
    "                font-style: italic;\n",
    "            }}\n",
    "            .highlight {{\n",
    "                font-family: \"Montserrat\", monospace;\n",
    "                font-size: 35px;\n",
    "                font-weight: 900;\n",
    "                text-decoration: underline;\n",
    "                font-style: normal;\n",
    "                color: darkblue;\n",
    "                background-color: #FFFF00;\n",
    "            }}\n",
    "        </style>\n",
    "        <p class=\"title\">{ttl}</p>\n",
    "        <img src={url} width=\"600\">\n",
    "        <p> \\n </p>\n",
    "        <p class=\"text\">{Q}</p>\n",
    "        <p class=\"text\">{A}</p>\n",
    "        <p class=\"title\">중요한 것은 꺾이지 않는 <span class=\"highlight\">{hl}</span></p>\n",
    "        '''    \n",
    "    def show(self):\n",
    "        _str = self.html_str.format(\n",
    "            ttl = self.title,\n",
    "            url = self.imgurl,\n",
    "            Q = self.ques,\n",
    "            A = self.ans,\n",
    "            hl = self.highlight\n",
    "        )\n",
    "        display(HTML(_str)) "
   ]
  },
  {
   "cell_type": "markdown",
   "id": "bb3ce60b-4ae7-4bf6-a850-b61e0f585a42",
   "metadata": {},
   "source": [
    "`-` 인스턴스를 생성해보자. "
   ]
  },
  {
   "cell_type": "code",
   "execution_count": 26,
   "id": "95c6eb43-c285-4e28-9145-9db67452d1a9",
   "metadata": {},
   "outputs": [],
   "source": [
    "pp2023 = JungKKuckMa()"
   ]
  },
  {
   "cell_type": "code",
   "execution_count": 27,
   "id": "7156cc2f-82f7-45f3-95ca-d50b9470bfe7",
   "metadata": {},
   "outputs": [
    {
     "data": {
      "text/html": [
       "\n",
       "        <style>\n",
       "            .title {\n",
       "                font-family: \"Times New Roman\", serif;\n",
       "                font-size: 30px;\n",
       "                font-weight: 900;\n",
       "            }\n",
       "            .text {\n",
       "                font-family: \"Arial\", sans-serif;\n",
       "                font-size: 20px;\n",
       "                font-style: italic;\n",
       "            }\n",
       "            .highlight {\n",
       "                font-family: \"Montserrat\", monospace;\n",
       "                font-size: 35px;\n",
       "                font-weight: 900;\n",
       "                text-decoration: underline;\n",
       "                font-style: normal;\n",
       "                color: darkblue;\n",
       "                background-color: #FFFF00;\n",
       "            }\n",
       "        </style>\n",
       "        <p class=\"title\">파이썬 프로그래밍 중간고사 패배는 괜찮다.</p>\n",
       "        <img src=https://github.com/guebin/PP2023/blob/main/posts/03_Class/PP2023mid.jpg?raw=true? width=\"600\">\n",
       "        <p> \n",
       " </p>\n",
       "        <p class=\"text\">Q: 파이썬 프로그래밍 기말고사, 어떤 점에 유의해야 할까?</p>\n",
       "        <p class=\"text\">A: 최규빈 교수 문제 스타일에 대해서 더 분석할 건 없는 것 같고, 내가 내 코드를 잘 구현하는 게 제일 중요한 것 같고 중간고사는 망하긴 했지만 제 스스로 안 무너지면 충분히 기말고사는 잘 볼 수 있을 것 같아요.</p>\n",
       "        <p class=\"title\">중요한 것은 꺾이지 않는 <span class=\"highlight\">마음</span></p>\n",
       "        "
      ],
      "text/plain": [
       "<IPython.core.display.HTML object>"
      ]
     },
     "metadata": {},
     "output_type": "display_data"
    }
   ],
   "source": [
    "pp2023.show()"
   ]
  },
  {
   "cell_type": "markdown",
   "id": "7fd1d384-fc8c-400b-9c91-8c5ba5f98f5a",
   "metadata": {},
   "source": [
    "`-` 타입을 알아보자."
   ]
  },
  {
   "cell_type": "code",
   "execution_count": 29,
   "id": "2e0a1da3-ed6b-4df3-955a-2cf5b4f25df7",
   "metadata": {},
   "outputs": [
    {
     "data": {
      "text/plain": [
       "\u001b[0;31mType:\u001b[0m        JungKKuckMa\n",
       "\u001b[0;31mString form:\u001b[0m <__main__.JungKKuckMa object at 0x7f02a12c93d0>\n",
       "\u001b[0;31mDocstring:\u001b[0m   <no docstring>"
      ]
     },
     "metadata": {},
     "output_type": "display_data"
    }
   ],
   "source": [
    "pp2023?"
   ]
  },
  {
   "cell_type": "markdown",
   "id": "7a4cf16a-9b9c-42a3-aeb3-73afdc738125",
   "metadata": {},
   "source": [
    "`-` ??? 타입은 자료형, 즉 `int`, `float`, `list` 이런것 아니었나?? "
   ]
  },
  {
   "cell_type": "code",
   "execution_count": 30,
   "id": "d0e46e5d-eaba-4fb0-9219-1b4f3fb6aaff",
   "metadata": {},
   "outputs": [
    {
     "data": {
      "text/plain": [
       "\u001b[0;31mType:\u001b[0m        list\n",
       "\u001b[0;31mString form:\u001b[0m [1, 2, 3]\n",
       "\u001b[0;31mLength:\u001b[0m      3\n",
       "\u001b[0;31mDocstring:\u001b[0m  \n",
       "Built-in mutable sequence.\n",
       "\n",
       "If no argument is given, the constructor creates a new empty list.\n",
       "The argument must be an iterable if specified."
      ]
     },
     "metadata": {},
     "output_type": "display_data"
    }
   ],
   "source": [
    "a=[1,2,3]\n",
    "a?"
   ]
  },
  {
   "cell_type": "markdown",
   "id": "a786be66-5bd2-4943-b8ab-f658521f056d",
   "metadata": {},
   "source": [
    "`-` 그런데 지금 pp2023의 자료형은 JungKKuckMa 이다.\n",
    "\n",
    "- 가설1: 사실 파이썬 내부에 JungKKuckMa 이라는 자료형이 있었다. 그런데 내가 만든 pp2023 이라는 인스턴스는 우연히 그 자료형을 따르는 것! (이건 너무 억지스럽다)\n",
    "- 가설2: 사실 \"인스턴스의 자료형 = 인스턴스를 찍어낸 클래스 이름\" 이다. 따라서 pp2023의 자료형이 JungKKuckMa 가 된다. 그렇다면 자료형이 list인것은 사실 list라는 클래스에서 생긴 인스턴스라고 유추할 수 있다 -> 리스트자료형을 찍어낼 수 있는 어떠한 클래스가 파이썬에 내부적으로 존재할 것이다. (이게 맞는것 같다)"
   ]
  },
  {
   "cell_type": "markdown",
   "id": "3ea54ecd-e243-4c12-b441-665e5df37b02",
   "metadata": {},
   "source": [
    "***깨달음1***"
   ]
  },
  {
   "cell_type": "markdown",
   "id": "2917a5f0-7fb0-47c6-ba1f-174095ad06bd",
   "metadata": {},
   "source": [
    "`-` 가설2가 맞다? 그렇다면 아래는 모두 어딘가에서 찍혀진 인스턴스이다. "
   ]
  },
  {
   "cell_type": "code",
   "execution_count": 59,
   "id": "a6e20fae-d914-4212-9191-a411193095ba",
   "metadata": {},
   "outputs": [
    {
     "data": {
      "text/plain": [
       "\u001b[0;31mType:\u001b[0m        list\n",
       "\u001b[0;31mString form:\u001b[0m [1, 2, 3]\n",
       "\u001b[0;31mLength:\u001b[0m      3\n",
       "\u001b[0;31mDocstring:\u001b[0m  \n",
       "Built-in mutable sequence.\n",
       "\n",
       "If no argument is given, the constructor creates a new empty list.\n",
       "The argument must be an iterable if specified.\n"
      ]
     },
     "metadata": {},
     "output_type": "display_data"
    }
   ],
   "source": [
    "a=[1,2,3]\n",
    "a?"
   ]
  },
  {
   "cell_type": "code",
   "execution_count": 60,
   "id": "eec41f45-d49f-47ce-8aee-1756a0b3a185",
   "metadata": {},
   "outputs": [
    {
     "data": {
      "text/plain": [
       "\u001b[0;31mType:\u001b[0m        tuple\n",
       "\u001b[0;31mString form:\u001b[0m (1, 2, 3)\n",
       "\u001b[0;31mLength:\u001b[0m      3\n",
       "\u001b[0;31mDocstring:\u001b[0m  \n",
       "Built-in immutable sequence.\n",
       "\n",
       "If no argument is given, the constructor returns an empty tuple.\n",
       "If iterable is specified the tuple is initialized from iterable's items.\n",
       "\n",
       "If the argument is a tuple, the return value is the same object.\n"
      ]
     },
     "metadata": {},
     "output_type": "display_data"
    }
   ],
   "source": [
    "a=1,2,3\n",
    "a?"
   ]
  },
  {
   "cell_type": "code",
   "execution_count": 61,
   "id": "ca675f64-5baa-42e1-9afb-655397824b84",
   "metadata": {},
   "outputs": [
    {
     "data": {
      "text/plain": [
       "\u001b[0;31mType:\u001b[0m        int\n",
       "\u001b[0;31mString form:\u001b[0m 1\n",
       "\u001b[0;31mDocstring:\u001b[0m  \n",
       "int([x]) -> integer\n",
       "int(x, base=10) -> integer\n",
       "\n",
       "Convert a number or string to an integer, or return 0 if no arguments\n",
       "are given.  If x is a number, return x.__int__().  For floating point\n",
       "numbers, this truncates towards zero.\n",
       "\n",
       "If x is not a number or if base is given, then x must be a string,\n",
       "bytes, or bytearray instance representing an integer literal in the\n",
       "given base.  The literal can be preceded by '+' or '-' and be surrounded\n",
       "by whitespace.  The base defaults to 10.  Valid bases are 0 and 2-36.\n",
       "Base 0 means to interpret the base from the string as an integer literal.\n",
       ">>> int('0b100', base=0)\n",
       "4\n"
      ]
     },
     "metadata": {},
     "output_type": "display_data"
    }
   ],
   "source": [
    "a=1\n",
    "a?"
   ]
  },
  {
   "cell_type": "code",
   "execution_count": 62,
   "id": "61f491c7-89cf-4430-bd5e-ee7fd2407ee9",
   "metadata": {},
   "outputs": [
    {
     "data": {
      "text/plain": [
       "\u001b[0;31mType:\u001b[0m        str\n",
       "\u001b[0;31mString form:\u001b[0m 1\n",
       "\u001b[0;31mLength:\u001b[0m      1\n",
       "\u001b[0;31mDocstring:\u001b[0m  \n",
       "str(object='') -> str\n",
       "str(bytes_or_buffer[, encoding[, errors]]) -> str\n",
       "\n",
       "Create a new string object from the given object. If encoding or\n",
       "errors is specified, then the object must expose a data buffer\n",
       "that will be decoded using the given encoding and error handler.\n",
       "Otherwise, returns the result of object.__str__() (if defined)\n",
       "or repr(object).\n",
       "encoding defaults to sys.getdefaultencoding().\n",
       "errors defaults to 'strict'.\n"
      ]
     },
     "metadata": {},
     "output_type": "display_data"
    }
   ],
   "source": [
    "a='1'\n",
    "a?"
   ]
  },
  {
   "cell_type": "markdown",
   "id": "5db0d997-b283-4197-8fc7-fe6e9e097324",
   "metadata": {},
   "source": [
    "`-` 그리고 위의 `a=[1,2,3]`과 같은 것들은 모두 \"클래스->인스턴스\"에 해당하는 과정이었음 "
   ]
  },
  {
   "cell_type": "markdown",
   "id": "63767b86-9237-48e4-a62f-c3d9385860f6",
   "metadata": {},
   "source": [
    "***깨달음2***"
   ]
  },
  {
   "cell_type": "markdown",
   "id": "403f178f-8292-40bb-90f7-4baf0a5c0a55",
   "metadata": {},
   "source": [
    "`-` 생각해보니까 아래와 같이 list를 선언하는 방식도 있었음 "
   ]
  },
  {
   "cell_type": "code",
   "execution_count": 63,
   "id": "2ed70046-7a1e-42b2-ba39-874ccb4265fe",
   "metadata": {},
   "outputs": [
    {
     "data": {
      "text/plain": [
       "[]"
      ]
     },
     "execution_count": 63,
     "metadata": {},
     "output_type": "execute_result"
    }
   ],
   "source": [
    "a=list()\n",
    "a"
   ]
  },
  {
   "cell_type": "markdown",
   "id": "ef44fc6f-8d2b-49c9-b933-5958759c40f3",
   "metadata": {},
   "source": [
    "- 이거 지금 생각하니까 list라는 이름의 클래스에서 a라는 인스턴스를 찍어내는 문법이다?!"
   ]
  },
  {
   "cell_type": "markdown",
   "id": "763f0b9a-f9f1-4325-a33b-977a51ef0eb1",
   "metadata": {},
   "source": [
    "`-` 아래도 가능함"
   ]
  },
  {
   "cell_type": "code",
   "execution_count": 70,
   "id": "1891ce6b-aaeb-4fea-9e4b-5ac09c54619e",
   "metadata": {},
   "outputs": [
    {
     "data": {
      "text/plain": [
       "\u001b[0;31mType:\u001b[0m        list\n",
       "\u001b[0;31mString form:\u001b[0m [1, 2, 3]\n",
       "\u001b[0;31mLength:\u001b[0m      3\n",
       "\u001b[0;31mDocstring:\u001b[0m  \n",
       "Built-in mutable sequence.\n",
       "\n",
       "If no argument is given, the constructor creates a new empty list.\n",
       "The argument must be an iterable if specified.\n"
      ]
     },
     "metadata": {},
     "output_type": "display_data"
    }
   ],
   "source": [
    "a=list((1,2,3))\n",
    "a?"
   ]
  },
  {
   "cell_type": "markdown",
   "id": "c5f64e69-9b4f-4cd5-94be-0aee23a14bfb",
   "metadata": {},
   "source": [
    "- 이것도 지금 보니까 list라는 이름의 클래스에서 a라는 인스턴스를 찍어내는 문법이다. 여기에서 (1,2,3)은 `__init__()`의 입력이다. "
   ]
  },
  {
   "cell_type": "markdown",
   "id": "f2c94b7c-0a76-46d9-978b-8c2e226f4e93",
   "metadata": {},
   "source": [
    "***깨달음3***"
   ]
  },
  {
   "cell_type": "markdown",
   "id": "770e0b58-5c00-4999-b8b2-6e5e0758b25f",
   "metadata": {},
   "source": [
    "`-` 그러고보니까 각 자료형마다 특수한 기능들이 있었음 "
   ]
  },
  {
   "cell_type": "code",
   "execution_count": 74,
   "id": "9adb4e56-f49a-4811-96c3-37a29a7c73b0",
   "metadata": {},
   "outputs": [],
   "source": [
    "a=[1,2,3] "
   ]
  },
  {
   "cell_type": "markdown",
   "id": "8ee279bc-f7f2-42ad-9a58-7fb0722045db",
   "metadata": {},
   "source": [
    "`-` `a.`+tab 을 하면 append, clear 등등이 나온다. "
   ]
  },
  {
   "cell_type": "markdown",
   "id": "7eed48f0-073c-423f-8f2c-f6a71c8cbc2e",
   "metadata": {},
   "source": [
    "`-` 이러한 기능은 지금까지 우리가 \"list자료형 특수기능들\"이라고 부르면서 사용했었다. 그런데 a가 list클래스에서 생성된 인스턴스라는 관점에서 보면 이러한 기능들은 list클래스에서 정의된 메소드라고 볼 수 있다. "
   ]
  },
  {
   "cell_type": "markdown",
   "id": "7741d746-c0fc-4a46-b2b3-6f690ea1579c",
   "metadata": {},
   "source": [
    "> 파이썬의 비밀1: 인스턴스의 자료형은 클래스의 이름이다. "
   ]
  },
  {
   "cell_type": "markdown",
   "id": "a4b909c8-d218-4dd3-8bb7-be7f321e95ff",
   "metadata": {},
   "source": [
    "## 비밀2: `__init__`"
   ]
  },
  {
   "cell_type": "markdown",
   "id": "58085c91-79e6-4f8b-9d6e-1c82e2af51f5",
   "metadata": {},
   "source": [
    "`-` 예시1"
   ]
  },
  {
   "cell_type": "code",
   "execution_count": 107,
   "id": "2187b9ae-6cab-4a1a-8efc-1cdec1cc475e",
   "metadata": {},
   "outputs": [
    {
     "data": {
      "text/plain": [
       "['1', '2', '3']"
      ]
     },
     "execution_count": 107,
     "metadata": {},
     "output_type": "execute_result"
    }
   ],
   "source": [
    "a = '123'  \n",
    "list(a)"
   ]
  },
  {
   "cell_type": "markdown",
   "id": "096586b9-a168-47f3-a708-529637801cbd",
   "metadata": {},
   "source": [
    "`-` 예시2"
   ]
  },
  {
   "cell_type": "code",
   "execution_count": 113,
   "id": "82b1b1b7-2b29-4185-ba2c-bd5d0845da4d",
   "metadata": {},
   "outputs": [
    {
     "data": {
      "text/plain": [
       "['1', '2', '3']"
      ]
     },
     "execution_count": 113,
     "metadata": {},
     "output_type": "execute_result"
    }
   ],
   "source": [
    "a = list()\n",
    "a.__init__('123')\n",
    "a"
   ]
  },
  {
   "cell_type": "markdown",
   "id": "d64f0a4b-537d-4da1-bd81-436a92d94ad0",
   "metadata": {},
   "source": [
    "`-` 예시3"
   ]
  },
  {
   "cell_type": "code",
   "execution_count": 112,
   "id": "67a4a3a3-3f53-4339-8fd9-654d991914a4",
   "metadata": {},
   "outputs": [
    {
     "data": {
      "text/plain": [
       "[]"
      ]
     },
     "execution_count": 112,
     "metadata": {},
     "output_type": "execute_result"
    }
   ],
   "source": [
    "a = list()\n",
    "a.__init__('123') \n",
    "a.__init__() # 이런식으로 다시 리스트롤 초기화하는 것도 가능\n",
    "a"
   ]
  },
  {
   "cell_type": "markdown",
   "id": "4d92944a-fbe9-452e-be15-4b67a0d5ad78",
   "metadata": {},
   "source": [
    "> 파이썬의 비밀2: list('123')은 사실 자료형을 변환하는 것이 아니라, '123'을 list 클래스의 `__init__()` 입력으로 하여 \"list 클래스 $\\to$ 인스턴스\" 를 수행하는 코드로 해석가능하다. "
   ]
  },
  {
   "cell_type": "markdown",
   "id": "8eacd150-9d6b-4231-80dd-afc0255f67b8",
   "metadata": {},
   "source": [
    "## 비밀3: `__str__`"
   ]
  },
  {
   "cell_type": "markdown",
   "id": "40c3a89d-b530-40d2-a154-cc681661bade",
   "metadata": {},
   "source": [
    "### ***motive***"
   ]
  },
  {
   "cell_type": "markdown",
   "id": "b760190f-9d3c-4211-b60e-afbebdc9e0e1",
   "metadata": {},
   "source": [
    "`-` 아래와 같은 클래스를 관찰하자. "
   ]
  },
  {
   "cell_type": "code",
   "execution_count": 70,
   "id": "7555c37b-6dcc-4fdc-a4b4-d479a0024661",
   "metadata": {},
   "outputs": [],
   "source": [
    "class UpJump:\n",
    "    def __init__(self):\n",
    "        self.reset()\n",
    "    def up(self):\n",
    "        self.a = self.a + 1  \n",
    "        print(\"a의 값이 1 증가합니다.\")\n",
    "    def jump(self,jump_size):\n",
    "        self.a = self.a + jump_size      \n",
    "        print(\"a의 값이 {} 증가합니다.\".format(jump_size))\n",
    "    def show(self):\n",
    "        print('a={}'.format(self.a))\n",
    "    def reset(self):\n",
    "        self.a = 0\n",
    "        print(\"a의 값이 0으로 초기화 되었습니다.\")"
   ]
  },
  {
   "cell_type": "code",
   "execution_count": 71,
   "id": "5c5d280d-74e8-49fc-94ec-98b7f728a05d",
   "metadata": {},
   "outputs": [
    {
     "name": "stdout",
     "output_type": "stream",
     "text": [
      "a의 값이 0으로 초기화 되었습니다.\n"
     ]
    }
   ],
   "source": [
    "upjump = UpJump()"
   ]
  },
  {
   "cell_type": "code",
   "execution_count": 72,
   "id": "5d88822d-0f47-461e-aed9-335ae215b775",
   "metadata": {},
   "outputs": [
    {
     "data": {
      "text/plain": [
       "\u001b[0;31mType:\u001b[0m        UpJump\n",
       "\u001b[0;31mString form:\u001b[0m <__main__.UpJump object at 0x7f02a149f0a0>\n",
       "\u001b[0;31mDocstring:\u001b[0m   <no docstring>"
      ]
     },
     "metadata": {},
     "output_type": "display_data"
    }
   ],
   "source": [
    "upjump?"
   ]
  },
  {
   "cell_type": "code",
   "execution_count": 73,
   "id": "4da5d63c-b1f5-4c3a-ba9c-ef7b927d346b",
   "metadata": {},
   "outputs": [
    {
     "name": "stdout",
     "output_type": "stream",
     "text": [
      "a의 값이 1 증가합니다.\n"
     ]
    }
   ],
   "source": [
    "upjump.up()"
   ]
  },
  {
   "cell_type": "code",
   "execution_count": 74,
   "id": "50ae7ae8-8b88-4f6c-a6df-a9347ce86468",
   "metadata": {},
   "outputs": [
    {
     "name": "stdout",
     "output_type": "stream",
     "text": [
      "a의 값이 -2 증가합니다.\n"
     ]
    }
   ],
   "source": [
    "upjump.jump(-2)"
   ]
  },
  {
   "cell_type": "code",
   "execution_count": 75,
   "id": "ba51bc16-3d5f-4d52-8455-e1b8010ce518",
   "metadata": {},
   "outputs": [
    {
     "name": "stdout",
     "output_type": "stream",
     "text": [
      "a=-1\n"
     ]
    }
   ],
   "source": [
    "upjump.show()"
   ]
  },
  {
   "cell_type": "code",
   "execution_count": 76,
   "id": "53493a07-3ce0-407a-8daa-0b88c595b21e",
   "metadata": {},
   "outputs": [
    {
     "name": "stdout",
     "output_type": "stream",
     "text": [
      "a의 값이 0으로 초기화 되었습니다.\n"
     ]
    }
   ],
   "source": [
    "upjump.reset()"
   ]
  },
  {
   "cell_type": "markdown",
   "id": "509dbd3d-a96f-46f9-b87b-a629c5e95de8",
   "metadata": {},
   "source": [
    "`-` 모티브: 생각해보니까 show와 print의 기능이 거의 비슷함 $\\to$ print(upjump)를 하면 upjump.show()와 동일한 효과를 내도록 만들수 있을까? "
   ]
  },
  {
   "cell_type": "markdown",
   "id": "8b30358f-1dcb-4ed8-94c2-613a1a8e9b42",
   "metadata": {},
   "source": [
    "`-` 말도 안되는 소리 같음. 왜?\n",
    "\n",
    "- 이유1: print는 파이썬 내장기능이다. 내장기능을 우리가 마음대로 커스터마이징해서 쓰기는 어려울 것 같다. \n",
    "- 이유2: 이유1이 해결된다고 쳐도 문제이다. 그럼 지금까지 우리가 써왔던 수많은 print()의 결과는 어떻게 되는가? "
   ]
  },
  {
   "cell_type": "markdown",
   "id": "7d13c860-f003-4958-bec7-8fec54f2e227",
   "metadata": {},
   "source": [
    "`-` 그런데 upjump의 자료형(UpJump자료형)에 해당하는 오브젝트들에 한정하여 print를 수정하는 방법이 가능하다면? (그럼 다른 오브젝트들은 수정된 print에 영향을 받지 않음)"
   ]
  },
  {
   "cell_type": "markdown",
   "id": "2813f52b-602e-4383-9a7b-40aa4be29505",
   "metadata": {},
   "source": [
    "### ***관찰1***"
   ]
  },
  {
   "cell_type": "markdown",
   "id": "f759bd1c-6833-4809-8d96-8fe5ce18e7e7",
   "metadata": {},
   "source": [
    "`-` 현재 print(upjump)의 결과는 아래와 같다. "
   ]
  },
  {
   "cell_type": "code",
   "execution_count": 78,
   "id": "5e85a6de-9f47-45ad-a7d0-3b7bcde888ea",
   "metadata": {},
   "outputs": [
    {
     "name": "stdout",
     "output_type": "stream",
     "text": [
      "<__main__.UpJump object at 0x7f02a149f0a0>\n"
     ]
    }
   ],
   "source": [
    "print(upjump)"
   ]
  },
  {
   "cell_type": "markdown",
   "id": "737c780c-f3fd-4873-be83-236fa87850cf",
   "metadata": {},
   "source": [
    "- upjump는 UpJump 클래스에서 만들어진 인스턴스이며, upjump가 저장된 메모리주소는 0x7f02a149f0a0 라는 의미"
   ]
  },
  {
   "cell_type": "markdown",
   "id": "58a82a2a-a080-408f-872b-17e1129d7809",
   "metadata": {},
   "source": [
    "### ***관찰2***"
   ]
  },
  {
   "cell_type": "markdown",
   "id": "fc1053d1-30fb-49df-bbc0-788ac17a62ef",
   "metadata": {},
   "source": [
    "`-` upjump 에는 `__str__()`이라는 숨겨진 메소드가 있다. "
   ]
  },
  {
   "cell_type": "markdown",
   "id": "fd102380-53f5-41c4-b1aa-d0def94a6ca5",
   "metadata": {},
   "source": [
    "> 결국 `print(upjump)` 는 `print(upjump.__str__())` 와 같은 역할 "
   ]
  },
  {
   "cell_type": "markdown",
   "id": "893fb72e-040e-478e-bbe2-f2d4853f39ed",
   "metadata": {},
   "source": [
    "### ***해킹?*** "
   ]
  },
  {
   "cell_type": "markdown",
   "id": "da117f97-33b5-4865-97ea-001f1a61f6eb",
   "metadata": {},
   "source": [
    "`-` `upjump.__str__()`의 기능을 재정의하면 `print(upjump)`의 결과도 바뀌지 않을까??"
   ]
  },
  {
   "cell_type": "markdown",
   "id": "28add3cc-847b-4f02-8cc1-dd973b702934",
   "metadata": {},
   "source": [
    "***예비학습:*** 함수 덮어씌우기 (재정의하기)"
   ]
  },
  {
   "cell_type": "code",
   "execution_count": 82,
   "id": "6ea51661-bfe9-4093-869d-d1ec65e9ea18",
   "metadata": {},
   "outputs": [],
   "source": [
    "def f():\n",
    "    print('asdf')"
   ]
  },
  {
   "cell_type": "code",
   "execution_count": 83,
   "id": "28351aa3-4a2f-40ea-8284-b4593c17f837",
   "metadata": {},
   "outputs": [
    {
     "name": "stdout",
     "output_type": "stream",
     "text": [
      "asdf\n"
     ]
    }
   ],
   "source": [
    "f()"
   ]
  },
  {
   "cell_type": "code",
   "execution_count": 84,
   "id": "9027640c-184d-471f-b008-7450149f4c02",
   "metadata": {},
   "outputs": [],
   "source": [
    "def f():\n",
    "    print('guebin hahaha')"
   ]
  },
  {
   "cell_type": "code",
   "execution_count": 85,
   "id": "2e3afa9b-1208-4191-80ea-8b3906ccdeb8",
   "metadata": {},
   "outputs": [
    {
     "name": "stdout",
     "output_type": "stream",
     "text": [
      "guebin hahaha\n"
     ]
    }
   ],
   "source": [
    "f()"
   ]
  },
  {
   "cell_type": "markdown",
   "id": "1799dfce-8cdb-402d-b27a-634bdf30d795",
   "metadata": {},
   "source": [
    "이런식으로 함수가 이미 정의되어 있더라도, 내가 나중에 덮어씌우면 그 함수의 기능을 다시 정의한다."
   ]
  },
  {
   "cell_type": "markdown",
   "id": "c98265f6-9fdb-4f43-8371-7c053e90994f",
   "metadata": {},
   "source": [
    "***예비학습 끝***"
   ]
  },
  {
   "cell_type": "markdown",
   "id": "aa14b54b-2bd6-4287-8572-1b6f2811e2ce",
   "metadata": {},
   "source": [
    "`-` 이제 **`.__str__()`의 기능을 재정의** 하여 보자. "
   ]
  },
  {
   "cell_type": "code",
   "execution_count": 87,
   "id": "0717ddc7-c54a-4e84-82cc-6e27e02c48b8",
   "metadata": {},
   "outputs": [],
   "source": [
    "class UpJump:\n",
    "    def __init__(self):\n",
    "        self.reset()\n",
    "    def up(self):\n",
    "        self.a = self.a + 1  \n",
    "        print(\"a의 값이 1 증가합니다.\")\n",
    "    def jump(self,jump_size):\n",
    "        self.a = self.a + jump_size      \n",
    "        print(\"a의 값이 {} 증가합니다.\".format(jump_size))\n",
    "    def __str__(self):\n",
    "        return 'a={}'.format(self.a)\n",
    "    def reset(self):\n",
    "        self.a = 0\n",
    "        print(\"a의 값이 0으로 초기화 되었습니다.\")"
   ]
  },
  {
   "cell_type": "code",
   "execution_count": 99,
   "id": "72abb81a-a261-405d-90aa-30d7fcfc752f",
   "metadata": {},
   "outputs": [
    {
     "name": "stdout",
     "output_type": "stream",
     "text": [
      "a의 값이 0으로 초기화 되었습니다.\n"
     ]
    }
   ],
   "source": [
    "upjump = UpJump()"
   ]
  },
  {
   "cell_type": "code",
   "execution_count": 102,
   "id": "9706194f-40c8-462a-8a0a-8a949ecef74d",
   "metadata": {},
   "outputs": [
    {
     "data": {
      "text/plain": [
       "'a=0'"
      ]
     },
     "execution_count": 102,
     "metadata": {},
     "output_type": "execute_result"
    }
   ],
   "source": [
    "upjump.__str__()"
   ]
  },
  {
   "cell_type": "code",
   "execution_count": 103,
   "id": "c0aecffd-9ce2-42e2-ae8d-99bb38e7cdb2",
   "metadata": {},
   "outputs": [
    {
     "name": "stdout",
     "output_type": "stream",
     "text": [
      "a=0\n"
     ]
    }
   ],
   "source": [
    "print(upjump.__str__())"
   ]
  },
  {
   "cell_type": "code",
   "execution_count": 104,
   "id": "9375d8c6-eb11-4d96-b69d-e3c1507cd8eb",
   "metadata": {},
   "outputs": [
    {
     "name": "stdout",
     "output_type": "stream",
     "text": [
      "a=0\n"
     ]
    }
   ],
   "source": [
    "print(upjump) ## 성공!"
   ]
  },
  {
   "cell_type": "markdown",
   "id": "af8265e3-b35f-40e5-af7a-700cad084cfe",
   "metadata": {},
   "source": [
    "### ***지금까지의 print*** 다시 확인"
   ]
  },
  {
   "cell_type": "markdown",
   "id": "1516c32e-8183-45ea-90ef-7af471dd1bd7",
   "metadata": {},
   "source": [
    "`-` 예시1"
   ]
  },
  {
   "cell_type": "code",
   "execution_count": 114,
   "id": "74369294-dca1-44e7-a29b-fb8d23e5aa4e",
   "metadata": {},
   "outputs": [
    {
     "name": "stdout",
     "output_type": "stream",
     "text": [
      "[1, 2, 3]\n"
     ]
    }
   ],
   "source": [
    "a=[1,2,3]\n",
    "print(a)"
   ]
  },
  {
   "cell_type": "code",
   "execution_count": 115,
   "id": "4a90cbfc-50e8-406d-8232-37d59c14ffac",
   "metadata": {},
   "outputs": [
    {
     "data": {
      "text/plain": [
       "'[1, 2, 3]'"
      ]
     },
     "execution_count": 115,
     "metadata": {},
     "output_type": "execute_result"
    }
   ],
   "source": [
    "a.__str__()"
   ]
  },
  {
   "cell_type": "code",
   "execution_count": 117,
   "id": "b5d38266-db41-4601-bba1-477a5b49e3e6",
   "metadata": {},
   "outputs": [
    {
     "name": "stdout",
     "output_type": "stream",
     "text": [
      "[1, 2, 3]\n"
     ]
    }
   ],
   "source": [
    "print(a.__str__())"
   ]
  },
  {
   "cell_type": "markdown",
   "id": "cf93dca5-1f38-43b0-a334-dc6a0e6231bf",
   "metadata": {},
   "source": [
    "`-` 예시2"
   ]
  },
  {
   "cell_type": "code",
   "execution_count": 118,
   "id": "f433158e-3143-4d21-b92c-4156dac6912f",
   "metadata": {},
   "outputs": [
    {
     "name": "stdout",
     "output_type": "stream",
     "text": [
      "{1, 2, 3}\n"
     ]
    }
   ],
   "source": [
    "a={1,2,3}\n",
    "print(a)"
   ]
  },
  {
   "cell_type": "code",
   "execution_count": 119,
   "id": "75045fcb-b73c-4682-844c-906387f0a14f",
   "metadata": {},
   "outputs": [
    {
     "data": {
      "text/plain": [
       "'{1, 2, 3}'"
      ]
     },
     "execution_count": 119,
     "metadata": {},
     "output_type": "execute_result"
    }
   ],
   "source": [
    "a.__str__()"
   ]
  },
  {
   "cell_type": "code",
   "execution_count": 120,
   "id": "7ca5c7b8-ac15-426e-9e8f-1980f562456a",
   "metadata": {},
   "outputs": [
    {
     "name": "stdout",
     "output_type": "stream",
     "text": [
      "{1, 2, 3}\n"
     ]
    }
   ],
   "source": [
    "print(a.__str__())"
   ]
  },
  {
   "cell_type": "markdown",
   "id": "052b8ea1-096d-4141-950b-fcd09b1fdb98",
   "metadata": {},
   "source": [
    "`-` 예시3"
   ]
  },
  {
   "cell_type": "code",
   "execution_count": 127,
   "id": "1c970933-8430-47e9-8c3d-df741dd35c87",
   "metadata": {},
   "outputs": [
    {
     "name": "stdout",
     "output_type": "stream",
     "text": [
      "[[0 1]\n",
      " [2 3]]\n"
     ]
    }
   ],
   "source": [
    "a= np.arange(4).reshape(2,2)\n",
    "print(a)"
   ]
  },
  {
   "cell_type": "code",
   "execution_count": 128,
   "id": "aec04cf9-c3e4-4027-ac0d-17d5c377bc54",
   "metadata": {},
   "outputs": [
    {
     "data": {
      "text/plain": [
       "'[[0 1]\\n [2 3]]'"
      ]
     },
     "execution_count": 128,
     "metadata": {},
     "output_type": "execute_result"
    }
   ],
   "source": [
    "a.__str__()"
   ]
  },
  {
   "cell_type": "code",
   "execution_count": 129,
   "id": "83d8b07a-14c7-4f38-8a17-e707cadb65e1",
   "metadata": {},
   "outputs": [
    {
     "name": "stdout",
     "output_type": "stream",
     "text": [
      "[[0 1]\n",
      " [2 3]]\n"
     ]
    }
   ],
   "source": [
    "print(a.__str__())"
   ]
  },
  {
   "cell_type": "markdown",
   "id": "6987460f-5787-43ea-9f9d-9f1f7a6ad860",
   "metadata": {},
   "source": [
    "> 파이썬의 비밀3: `print(a)`는 사실 `print(a.__str__())` 의 축약버전이었다. "
   ]
  },
  {
   "cell_type": "markdown",
   "id": "b899f0c7-205d-4caf-b2b2-293624347cbc",
   "metadata": {},
   "source": [
    "***직관: 클래스에서 정의된 숨겨진 메소드 `__????__` 들이 사실 파이썬의 비밀 덩어리였음!!!***"
   ]
  },
  {
   "cell_type": "markdown",
   "id": "37b08cdc-8c09-4379-8516-ba003402bc11",
   "metadata": {},
   "source": [
    "## 비밀4: `__repr__`"
   ]
  },
  {
   "cell_type": "markdown",
   "id": "519dfcb2-f4bb-4d89-a2b1-ca1c83c03d4f",
   "metadata": {},
   "source": [
    "### ***motive***"
   ]
  },
  {
   "cell_type": "markdown",
   "id": "59131313-4e05-4d9d-b7f0-25dccf8a86bf",
   "metadata": {},
   "source": [
    "> repr은 representation의 약자이다. "
   ]
  },
  {
   "cell_type": "markdown",
   "id": "f79a5af7-9a39-426c-a059-a52c7247e25f",
   "metadata": {},
   "source": [
    "`-` 모티브: 생각해보니까 print를 해서 우리가 원하는 정보를 확인하는건 아니었음 "
   ]
  },
  {
   "cell_type": "code",
   "execution_count": 130,
   "id": "4e382f6d-4ba4-4202-9662-8a369b4df1b5",
   "metadata": {},
   "outputs": [],
   "source": [
    "a=[1,2,3]"
   ]
  },
  {
   "cell_type": "code",
   "execution_count": 131,
   "id": "ad009254-9e4e-4d51-a2a9-813e0afe6da9",
   "metadata": {},
   "outputs": [
    {
     "data": {
      "text/plain": [
       "[1, 2, 3]"
      ]
     },
     "execution_count": 131,
     "metadata": {},
     "output_type": "execute_result"
    }
   ],
   "source": [
    "a"
   ]
  },
  {
   "cell_type": "code",
   "execution_count": 132,
   "id": "be3bea05-c731-4725-82ab-f1faa15c4a6e",
   "metadata": {},
   "outputs": [
    {
     "name": "stdout",
     "output_type": "stream",
     "text": [
      "[1, 2, 3]\n"
     ]
    }
   ],
   "source": [
    "print(a)"
   ]
  },
  {
   "cell_type": "markdown",
   "id": "5fa371aa-746e-4194-ad2e-ada3a8df51d8",
   "metadata": {},
   "source": [
    "`-` 의문: `a + 엔터`는 `print(a) + 엔터`와 같은 효과인가? "
   ]
  },
  {
   "cell_type": "markdown",
   "id": "35e874f8-d29c-40d5-8edd-d9e75710e89c",
   "metadata": {},
   "source": [
    "`-` 반례 "
   ]
  },
  {
   "cell_type": "code",
   "execution_count": 133,
   "id": "0b3ea9a0-cdcd-4cfe-b074-cd1bf062c22a",
   "metadata": {},
   "outputs": [
    {
     "data": {
      "text/plain": [
       "array([[0, 1],\n",
       "       [2, 3]])"
      ]
     },
     "execution_count": 133,
     "metadata": {},
     "output_type": "execute_result"
    }
   ],
   "source": [
    "a= np.arange(4).reshape(2,2)\n",
    "a"
   ]
  },
  {
   "cell_type": "code",
   "execution_count": 135,
   "id": "3eef51a5-e862-46c9-a1af-134b5e324ae4",
   "metadata": {},
   "outputs": [
    {
     "name": "stdout",
     "output_type": "stream",
     "text": [
      "[[0 1]\n",
      " [2 3]]\n"
     ]
    }
   ],
   "source": [
    "print(a)"
   ]
  },
  {
   "cell_type": "markdown",
   "id": "d4ee9767-9992-4f2f-ae8e-aef2f8e572a9",
   "metadata": {},
   "source": [
    "### ***`__repr__`*** 의 역할 "
   ]
  },
  {
   "cell_type": "markdown",
   "id": "ed0ec58f-f8e8-4c29-aba2-ea0d7a36a319",
   "metadata": {},
   "source": [
    "`-` `a + 엔터`와 `print(a) + 엔터`가 다른 경우도 있다. $\\to$ 추측: 서로 다른 숨겨진 기능이 있다! $\\to$ 결론: 추측이 맞다. 그 기능은 `__repr__`에 저장되어있음."
   ]
  },
  {
   "cell_type": "code",
   "execution_count": 136,
   "id": "04c792ac-b3de-4c90-afaf-9f061d5a4485",
   "metadata": {},
   "outputs": [
    {
     "data": {
      "text/plain": [
       "'[[0 1]\\n [2 3]]'"
      ]
     },
     "execution_count": 136,
     "metadata": {},
     "output_type": "execute_result"
    }
   ],
   "source": [
    "a.__str__()"
   ]
  },
  {
   "cell_type": "code",
   "execution_count": 138,
   "id": "99233b57-4e04-4dc2-a208-986a38836ed3",
   "metadata": {},
   "outputs": [
    {
     "data": {
      "text/plain": [
       "'array([[0, 1],\\n       [2, 3]])'"
      ]
     },
     "execution_count": 138,
     "metadata": {},
     "output_type": "execute_result"
    }
   ],
   "source": [
    "a.__repr__() # 이렇게 조잡하다고? ㅋㅋㅋ"
   ]
  },
  {
   "cell_type": "code",
   "execution_count": 141,
   "id": "35259aa8-4350-48a7-8053-a43c89dea18d",
   "metadata": {},
   "outputs": [
    {
     "name": "stdout",
     "output_type": "stream",
     "text": [
      "[[0 1]\n",
      " [2 3]]\n"
     ]
    }
   ],
   "source": [
    "print(a.__str__()) # print(a) + 엔터와 같은 효과"
   ]
  },
  {
   "cell_type": "code",
   "execution_count": 143,
   "id": "91351e2d-3a22-4f03-a10a-4ced5236f938",
   "metadata": {},
   "outputs": [
    {
     "name": "stdout",
     "output_type": "stream",
     "text": [
      "array([[0, 1],\n",
      "       [2, 3]])\n"
     ]
    }
   ],
   "source": [
    "print(a.__repr__()) # a + 엔터와 같은 효과"
   ]
  },
  {
   "cell_type": "markdown",
   "id": "a678ec76-dcef-40ef-b643-783436a8bf2b",
   "metadata": {},
   "source": [
    "### ***연습***"
   ]
  },
  {
   "cell_type": "code",
   "execution_count": 144,
   "id": "ce73358c-752e-4e87-a150-e28a8e70fea3",
   "metadata": {},
   "outputs": [],
   "source": [
    "class UpJump:\n",
    "    def __init__(self):\n",
    "        self.reset()\n",
    "    def up(self):\n",
    "        self.a = self.a + 1  \n",
    "        print(\"a의 값이 1 증가합니다.\")\n",
    "    def jump(self,jump_size):\n",
    "        self.a = self.a + jump_size      \n",
    "        print(\"a의 값이 {} 증가합니다.\".format(jump_size))\n",
    "    def __str__(self):\n",
    "        return 'a의 값은 {}입니다.'.format(self.a)\n",
    "    def reset(self):\n",
    "        self.a = 0\n",
    "        print(\"a의 값이 0으로 초기화 되었습니다.\")\n",
    "    def __repr__(self):\n",
    "        return 'a={}'.format(self.a)\n",
    "    "
   ]
  },
  {
   "cell_type": "code",
   "execution_count": 145,
   "id": "9d5207b0-d9ad-4dd6-90fa-22c794dd32d6",
   "metadata": {},
   "outputs": [
    {
     "name": "stdout",
     "output_type": "stream",
     "text": [
      "a의 값이 0으로 초기화 되었습니다.\n"
     ]
    }
   ],
   "source": [
    "upjump = UpJump()"
   ]
  },
  {
   "cell_type": "code",
   "execution_count": 146,
   "id": "d86faa2c-716e-47eb-a2a2-b5b747e24c8e",
   "metadata": {},
   "outputs": [
    {
     "name": "stdout",
     "output_type": "stream",
     "text": [
      "a의 값은 0입니다.\n"
     ]
    }
   ],
   "source": [
    "print(upjump)"
   ]
  },
  {
   "cell_type": "code",
   "execution_count": 147,
   "id": "048cb9c0-b338-4f1e-a85e-a6207fd393f3",
   "metadata": {},
   "outputs": [
    {
     "data": {
      "text/plain": [
       "a=0"
      ]
     },
     "execution_count": 147,
     "metadata": {},
     "output_type": "execute_result"
    }
   ],
   "source": [
    "upjump"
   ]
  },
  {
   "cell_type": "markdown",
   "id": "9b1ab6ab-a8d1-4ddc-87bd-dbc400096cfd",
   "metadata": {},
   "source": [
    "### ***`__repr__()` $\\Rightarrow$ `__str__()`***"
   ]
  },
  {
   "cell_type": "markdown",
   "id": "899161bf-2b7b-4089-acae-471b089d9460",
   "metadata": {},
   "source": [
    "`-` 만약에 `__repr__()` 만 정의되었고 `__str__()`이 정의되지 않았다면 `__repr__()`의 내용이 `__str__()`의 내용을 대신한다. (하지만 역은 성립하지 않음)"
   ]
  },
  {
   "cell_type": "code",
   "execution_count": 148,
   "id": "7fa8356a-7e06-4024-9eea-348eb70859f2",
   "metadata": {},
   "outputs": [],
   "source": [
    "class UpJump:\n",
    "    def __init__(self):\n",
    "        self.reset()\n",
    "    def up(self):\n",
    "        self.a = self.a + 1  \n",
    "        print(\"a의 값이 1 증가합니다.\")\n",
    "    def jump(self,jump_size):\n",
    "        self.a = self.a + jump_size      \n",
    "        print(\"a의 값이 {} 증가합니다.\".format(jump_size))\n",
    "    # def __str__(self):\n",
    "    #     return 'a의 값은 {}입니다.'.format(self.a)\n",
    "    def reset(self):\n",
    "        self.a = 0\n",
    "        print(\"a의 값이 0으로 초기화 되었습니다.\")\n",
    "    def __repr__(self):\n",
    "        return 'a={}'.format(self.a)\n",
    "    "
   ]
  },
  {
   "cell_type": "code",
   "execution_count": 149,
   "id": "4fe99be7-8942-4e18-8937-0bb7a26877f9",
   "metadata": {},
   "outputs": [
    {
     "name": "stdout",
     "output_type": "stream",
     "text": [
      "a의 값이 0으로 초기화 되었습니다.\n"
     ]
    }
   ],
   "source": [
    "upjump = UpJump()"
   ]
  },
  {
   "cell_type": "code",
   "execution_count": 150,
   "id": "571a44f7-21bb-429b-bc6a-395d98f16277",
   "metadata": {},
   "outputs": [
    {
     "name": "stdout",
     "output_type": "stream",
     "text": [
      "a=0\n"
     ]
    }
   ],
   "source": [
    "print(upjump)"
   ]
  },
  {
   "cell_type": "code",
   "execution_count": 151,
   "id": "aaae063a-473e-4b6f-af1f-767692fc9402",
   "metadata": {},
   "outputs": [
    {
     "data": {
      "text/plain": [
       "a=0"
      ]
     },
     "execution_count": 151,
     "metadata": {},
     "output_type": "execute_result"
    }
   ],
   "source": [
    "upjump"
   ]
  },
  {
   "cell_type": "markdown",
   "id": "200b5828-79ae-49f2-a7e8-bbaebccc51b6",
   "metadata": {},
   "source": [
    "`-` 역은 성립안함! 즉 `__str__()` 만 정의되었고 `__repr__()`이 정의되지 않은경우에는 `__str__()`의 내용이 `__repr__()`의 내용을 대신할 수 없다. "
   ]
  },
  {
   "cell_type": "code",
   "execution_count": 152,
   "id": "cefed414-63f4-493b-a5d2-7074e20afd3b",
   "metadata": {},
   "outputs": [],
   "source": [
    "class UpJump:\n",
    "    def __init__(self):\n",
    "        self.reset()\n",
    "    def up(self):\n",
    "        self.a = self.a + 1  \n",
    "        print(\"a의 값이 1 증가합니다.\")\n",
    "    def jump(self,jump_size):\n",
    "        self.a = self.a + jump_size      \n",
    "        print(\"a의 값이 {} 증가합니다.\".format(jump_size))\n",
    "    def __str__(self):\n",
    "        return 'a의 값은 {}입니다.'.format(self.a)\n",
    "    def reset(self):\n",
    "        self.a = 0\n",
    "        print(\"a의 값이 0으로 초기화 되었습니다.\")\n",
    "    # def __repr__(self):\n",
    "    #     return 'a={}'.format(self.a)    "
   ]
  },
  {
   "cell_type": "code",
   "execution_count": 153,
   "id": "87b5c254-c9a7-47ef-a1cb-49b8f5ea53ad",
   "metadata": {},
   "outputs": [
    {
     "name": "stdout",
     "output_type": "stream",
     "text": [
      "a의 값이 0으로 초기화 되었습니다.\n"
     ]
    }
   ],
   "source": [
    "upjump = UpJump()"
   ]
  },
  {
   "cell_type": "code",
   "execution_count": 154,
   "id": "4847d4de-8ef6-4192-9618-efed198e9a39",
   "metadata": {},
   "outputs": [
    {
     "name": "stdout",
     "output_type": "stream",
     "text": [
      "a의 값은 0입니다.\n"
     ]
    }
   ],
   "source": [
    "print(upjump)"
   ]
  },
  {
   "cell_type": "code",
   "execution_count": 155,
   "id": "9ac6283a-a0f4-481d-b677-77116cafc686",
   "metadata": {},
   "outputs": [
    {
     "data": {
      "text/plain": [
       "<__main__.UpJump at 0x7f028f6b18b0>"
      ]
     },
     "execution_count": 155,
     "metadata": {},
     "output_type": "execute_result"
    }
   ],
   "source": [
    "upjump"
   ]
  },
  {
   "cell_type": "markdown",
   "id": "d2f924ee-2c34-4cd0-80e7-58694a9cd005",
   "metadata": {},
   "source": [
    "> 파이썬의 비밀4: 대화형콘솔에서 `a+엔터`하여 나오는 출력결과는 `print(a.__repr__())` 이라고 생각할 수 있다. (생각할수 있다? 아닐 수도 있다는 거야?)"
   ]
  },
  {
   "cell_type": "markdown",
   "id": "2ed63b3a-cf77-45e8-82eb-aa619e2cbe46",
   "metadata": {},
   "source": [
    "## 비밀5: `_repr_html_`"
   ]
  },
  {
   "cell_type": "markdown",
   "id": "62a3a1e0-09f5-462a-9435-9e22e3d0b840",
   "metadata": {},
   "source": [
    "### ***motive***"
   ]
  },
  {
   "cell_type": "markdown",
   "id": "5ea5e2c1-cb39-4180-a2dd-de822dc3f163",
   "metadata": {},
   "source": [
    "`-` 모티브: 요즘에는 IDE의 발전에 따라서 `오브젝트이름 + 엔터` 를 입력할때 나오는 출력의 형태도 다양해지고 있음. "
   ]
  },
  {
   "cell_type": "code",
   "execution_count": 158,
   "id": "8d3c19f1-a671-4069-8521-145ddde0891d",
   "metadata": {},
   "outputs": [
    {
     "data": {
      "text/html": [
       "<div>\n",
       "<style scoped>\n",
       "    .dataframe tbody tr th:only-of-type {\n",
       "        vertical-align: middle;\n",
       "    }\n",
       "\n",
       "    .dataframe tbody tr th {\n",
       "        vertical-align: top;\n",
       "    }\n",
       "\n",
       "    .dataframe thead th {\n",
       "        text-align: right;\n",
       "    }\n",
       "</style>\n",
       "<table border=\"1\" class=\"dataframe\">\n",
       "  <thead>\n",
       "    <tr style=\"text-align: right;\">\n",
       "      <th></th>\n",
       "      <th>a</th>\n",
       "      <th>b</th>\n",
       "    </tr>\n",
       "  </thead>\n",
       "  <tbody>\n",
       "    <tr>\n",
       "      <th>0</th>\n",
       "      <td>1</td>\n",
       "      <td>2</td>\n",
       "    </tr>\n",
       "    <tr>\n",
       "      <th>1</th>\n",
       "      <td>2</td>\n",
       "      <td>3</td>\n",
       "    </tr>\n",
       "    <tr>\n",
       "      <th>2</th>\n",
       "      <td>3</td>\n",
       "      <td>4</td>\n",
       "    </tr>\n",
       "  </tbody>\n",
       "</table>\n",
       "</div>"
      ],
      "text/plain": [
       "   a  b\n",
       "0  1  2\n",
       "1  2  3\n",
       "2  3  4"
      ]
     },
     "execution_count": 158,
     "metadata": {},
     "output_type": "execute_result"
    }
   ],
   "source": [
    "df = pd.DataFrame({'a':[1,2,3],'b':[2,3,4]})\n",
    "df"
   ]
  },
  {
   "cell_type": "markdown",
   "id": "ce3a3566-4512-408b-ba4d-7243702227bb",
   "metadata": {},
   "source": [
    "- 예쁘게 나온다... 이건 근데 문자열따위로 구현할 수 있는 출력 기능이 아닌것 같은데? "
   ]
  },
  {
   "cell_type": "code",
   "execution_count": 160,
   "id": "c62f2a37-b658-448d-98cf-29efad21082b",
   "metadata": {},
   "outputs": [
    {
     "name": "stdout",
     "output_type": "stream",
     "text": [
      "   a  b\n",
      "0  1  2\n",
      "1  2  3\n",
      "2  3  4\n"
     ]
    }
   ],
   "source": [
    "print(df.__repr__())"
   ]
  },
  {
   "cell_type": "code",
   "execution_count": 161,
   "id": "f06e5c46-2e39-44b6-8e83-f8226e9738d0",
   "metadata": {},
   "outputs": [
    {
     "name": "stdout",
     "output_type": "stream",
     "text": [
      "   a  b\n",
      "0  1  2\n",
      "1  2  3\n",
      "2  3  4\n"
     ]
    }
   ],
   "source": [
    "print(df.__str__())"
   ]
  },
  {
   "cell_type": "markdown",
   "id": "6e5d2f34-aef7-493d-baf3-02faad3b9580",
   "metadata": {},
   "source": [
    "### ***`_repr_html_`*** 의 역할"
   ]
  },
  {
   "cell_type": "code",
   "execution_count": 164,
   "id": "2b8ce386-8744-4797-b87f-3f618430f968",
   "metadata": {},
   "outputs": [
    {
     "data": {
      "text/plain": [
       "'<div>\\n<style scoped>\\n    .dataframe tbody tr th:only-of-type {\\n        vertical-align: middle;\\n    }\\n\\n    .dataframe tbody tr th {\\n        vertical-align: top;\\n    }\\n\\n    .dataframe thead th {\\n        text-align: right;\\n    }\\n</style>\\n<table border=\"1\" class=\"dataframe\">\\n  <thead>\\n    <tr style=\"text-align: right;\">\\n      <th></th>\\n      <th>a</th>\\n      <th>b</th>\\n    </tr>\\n  </thead>\\n  <tbody>\\n    <tr>\\n      <th>0</th>\\n      <td>1</td>\\n      <td>2</td>\\n    </tr>\\n    <tr>\\n      <th>1</th>\\n      <td>2</td>\\n      <td>3</td>\\n    </tr>\\n    <tr>\\n      <th>2</th>\\n      <td>3</td>\\n      <td>4</td>\\n    </tr>\\n  </tbody>\\n</table>\\n</div>'"
      ]
     },
     "execution_count": 164,
     "metadata": {},
     "output_type": "execute_result"
    }
   ],
   "source": [
    "df._repr_html_()"
   ]
  },
  {
   "cell_type": "code",
   "execution_count": 166,
   "id": "806f0040-5688-41e0-bb2a-1e8cc2dc0551",
   "metadata": {},
   "outputs": [
    {
     "data": {
      "text/html": [
       "<div>\n",
       "<style scoped>\n",
       "    .dataframe tbody tr th:only-of-type {\n",
       "        vertical-align: middle;\n",
       "    }\n",
       "\n",
       "    .dataframe tbody tr th {\n",
       "        vertical-align: top;\n",
       "    }\n",
       "\n",
       "    .dataframe thead th {\n",
       "        text-align: right;\n",
       "    }\n",
       "</style>\n",
       "<table border=\"1\" class=\"dataframe\">\n",
       "  <thead>\n",
       "    <tr style=\"text-align: right;\">\n",
       "      <th></th>\n",
       "      <th>a</th>\n",
       "      <th>b</th>\n",
       "    </tr>\n",
       "  </thead>\n",
       "  <tbody>\n",
       "    <tr>\n",
       "      <th>0</th>\n",
       "      <td>1</td>\n",
       "      <td>2</td>\n",
       "    </tr>\n",
       "    <tr>\n",
       "      <th>1</th>\n",
       "      <td>2</td>\n",
       "      <td>3</td>\n",
       "    </tr>\n",
       "    <tr>\n",
       "      <th>2</th>\n",
       "      <td>3</td>\n",
       "      <td>4</td>\n",
       "    </tr>\n",
       "  </tbody>\n",
       "</table>\n",
       "</div>"
      ],
      "text/plain": [
       "<IPython.core.display.HTML object>"
      ]
     },
     "execution_count": 166,
     "metadata": {},
     "output_type": "execute_result"
    }
   ],
   "source": [
    "HTML(df._repr_html_())"
   ]
  },
  {
   "cell_type": "markdown",
   "id": "bfda3afb-c4c9-4678-abf0-d368a4a2a679",
   "metadata": {},
   "source": [
    "***참고: 그럼 `df.__repr__()`의 역할은 뭐야?***\n",
    "\n",
    "1. 대화형콘솔중 HTML 출력을 지원하면 `오브젝트이름+엔터`는 `HTML(df._repr_html_())` 의 효과\n",
    "2. 대화형콘솔중 HTML 출력을 지원하지 않으면 `오브젝트이름+엔터`는 `print(df.__str__())` 의 효과\n",
    "\n"
   ]
  },
  {
   "attachments": {
    "c07183d1-88cf-431c-888d-669c12b09d52.png": {
     "image/png": "[encoded data removed]"
    }
   },
   "cell_type": "markdown",
   "id": "dbd46e87-7d69-4dd3-965d-b86a748232ff",
   "metadata": {},
   "source": [
    "![그림1: HTML을 지원하는 않는 대화형 콘솔에서의 df출력예시](attachment:c07183d1-88cf-431c-888d-669c12b09d52.png)\n"
   ]
  },
  {
   "cell_type": "markdown",
   "id": "b4dc86c5-6790-4cfc-bc90-0a0c86239ead",
   "metadata": {},
   "source": [
    "### ***`_repr_html_()` // `__repr__()` $\\Rightarrow$ `__str__()`*** "
   ]
  },
  {
   "cell_type": "code",
   "execution_count": 173,
   "id": "11676692-c84a-4bc5-87f3-8f835dcdf1b9",
   "metadata": {},
   "outputs": [],
   "source": [
    "class UpJump:\n",
    "    def __init__(self):\n",
    "        self.reset()\n",
    "    def up(self):\n",
    "        self.a = self.a + 1  \n",
    "        print(\"a의 값이 1 증가합니다.\")\n",
    "    def jump(self,jump_size):\n",
    "        self.a = self.a + jump_size      \n",
    "        print(\"a의 값이 {} 증가합니다.\".format(jump_size))\n",
    "    # def __str__(self):\n",
    "    #     return 'a의 값은 {}입니다.'.format(self.a)\n",
    "    def reset(self):\n",
    "        self.a = 0\n",
    "        print(\"a의 값이 0으로 초기화 되었습니다.\")\n",
    "    # def __repr__(self):\n",
    "    #     return 'a={}'.format(self.a)    \n",
    "    def _repr_html_(self):\n",
    "        return 'a={}'.format(self.a)            "
   ]
  },
  {
   "cell_type": "code",
   "execution_count": 174,
   "id": "912147cf-ea01-424b-8ea9-821eb315676b",
   "metadata": {},
   "outputs": [
    {
     "name": "stdout",
     "output_type": "stream",
     "text": [
      "a의 값이 0으로 초기화 되었습니다.\n"
     ]
    }
   ],
   "source": [
    "upjump = UpJump()"
   ]
  },
  {
   "cell_type": "code",
   "execution_count": 176,
   "id": "c03c14e4-9441-49f9-9216-c8c187d92031",
   "metadata": {},
   "outputs": [
    {
     "data": {
      "text/html": [
       "a=0"
      ],
      "text/plain": [
       "<__main__.UpJump at 0x7f027d189d90>"
      ]
     },
     "execution_count": 176,
     "metadata": {},
     "output_type": "execute_result"
    }
   ],
   "source": [
    "upjump"
   ]
  },
  {
   "cell_type": "code",
   "execution_count": 178,
   "id": "0c2a226a-005d-44c8-bed2-fb58b5aacfc7",
   "metadata": {},
   "outputs": [
    {
     "name": "stdout",
     "output_type": "stream",
     "text": [
      "<__main__.UpJump object at 0x7f027d189d90>\n"
     ]
    }
   ],
   "source": [
    "print(upjump)"
   ]
  },
  {
   "cell_type": "markdown",
   "id": "b42f00b0-8c0c-4c0e-b87f-cce9cf67c632",
   "metadata": {},
   "source": [
    "> 꿀팁: `__repr__()` 과 `__str__()` 을 재정의하지 않고 `_repr_html_`만을 재정의하여 출력결과를 바꿀 수 있다. "
   ]
  },
  {
   "cell_type": "markdown",
   "id": "8c392342-d6a0-4955-b89d-b365485b4fa3",
   "metadata": {},
   "source": [
    "### ***연습***"
   ]
  },
  {
   "cell_type": "code",
   "execution_count": 184,
   "id": "d86b6a05-d536-479f-b465-bf5fdf9b847c",
   "metadata": {},
   "outputs": [],
   "source": [
    "class JungKKuckMa:\n",
    "    def __init__(self):\n",
    "        self.title = '파이썬 프로그래밍 중간고사 패배는 괜찮다.'\n",
    "        self.imgurl = 'https://github.com/guebin/PP2023/blob/main/posts/03_Class/PP2023mid.jpg?raw=true?'\n",
    "        self.ques = \"Q: 파이썬 프로그래밍 기말고사, 어떤 점에 유의해야 할까?\"\n",
    "        self.ans = \"A: 최규빈 교수 문제 스타일에 대해서 더 분석할 건 없는 것 같고, 내가 내 코드를 잘 구현하는 게 제일 중요한 것 같고 중간고사는 망하긴 했지만 제 스스로 안 무너지면 충분히 기말고사는 잘 볼 수 있을 것 같아요.\"\n",
    "        self.highlight = '마음'\n",
    "        self.html_str =\\\n",
    "        '''\n",
    "        <style>\n",
    "            .title {{\n",
    "                font-family: \"Times New Roman\", serif;\n",
    "                font-size: 30px;\n",
    "                font-weight: 900;\n",
    "            }}\n",
    "            .text {{\n",
    "                font-family: \"Arial\", sans-serif;\n",
    "                font-size: 20px;\n",
    "                font-style: italic;\n",
    "            }}\n",
    "            .highlight {{\n",
    "                font-family: \"Montserrat\", monospace;\n",
    "                font-size: 35px;\n",
    "                font-weight: 900;\n",
    "                text-decoration: underline;\n",
    "                font-style: normal;\n",
    "                color: darkblue;\n",
    "                background-color: #FFFF00;\n",
    "            }}\n",
    "        </style>\n",
    "        <p class=\"title\">{ttl}</p>\n",
    "        <img src={url} width=\"600\">\n",
    "        <p> \\n </p>\n",
    "        <p class=\"text\">{Q}</p>\n",
    "        <p class=\"text\">{A}</p>\n",
    "        <p class=\"title\">중요한 것은 꺾이지 않는 <span class=\"highlight\">{hl}</span></p>\n",
    "        '''    \n",
    "    def _repr_html_(self):\n",
    "        _str = self.html_str.format(\n",
    "            ttl = self.title,\n",
    "            url = self.imgurl,\n",
    "            Q = self.ques,\n",
    "            A = self.ans,\n",
    "            hl = self.highlight\n",
    "        )\n",
    "        return _str"
   ]
  },
  {
   "cell_type": "code",
   "execution_count": 185,
   "id": "3539a50c-a458-4413-8422-722dcec73508",
   "metadata": {},
   "outputs": [],
   "source": [
    "a = JungKKuckMa()"
   ]
  },
  {
   "cell_type": "code",
   "execution_count": 186,
   "id": "95de96ce-549b-4da3-ac2c-1a501f89dcef",
   "metadata": {},
   "outputs": [
    {
     "data": {
      "text/html": [
       "\n",
       "        <style>\n",
       "            .title {\n",
       "                font-family: \"Times New Roman\", serif;\n",
       "                font-size: 30px;\n",
       "                font-weight: 900;\n",
       "            }\n",
       "            .text {\n",
       "                font-family: \"Arial\", sans-serif;\n",
       "                font-size: 20px;\n",
       "                font-style: italic;\n",
       "            }\n",
       "            .highlight {\n",
       "                font-family: \"Montserrat\", monospace;\n",
       "                font-size: 35px;\n",
       "                font-weight: 900;\n",
       "                text-decoration: underline;\n",
       "                font-style: normal;\n",
       "                color: darkblue;\n",
       "                background-color: #FFFF00;\n",
       "            }\n",
       "        </style>\n",
       "        <p class=\"title\">파이썬 프로그래밍 중간고사 패배는 괜찮다.</p>\n",
       "        <img src=https://github.com/guebin/PP2023/blob/main/posts/03_Class/PP2023mid.jpg?raw=true? width=\"600\">\n",
       "        <p> \n",
       " </p>\n",
       "        <p class=\"text\">Q: 파이썬 프로그래밍 기말고사, 어떤 점에 유의해야 할까?</p>\n",
       "        <p class=\"text\">A: 최규빈 교수 문제 스타일에 대해서 더 분석할 건 없는 것 같고, 내가 내 코드를 잘 구현하는 게 제일 중요한 것 같고 중간고사는 망하긴 했지만 제 스스로 안 무너지면 충분히 기말고사는 잘 볼 수 있을 것 같아요.</p>\n",
       "        <p class=\"title\">중요한 것은 꺾이지 않는 <span class=\"highlight\">마음</span></p>\n",
       "        "
      ],
      "text/plain": [
       "<__main__.JungKKuckMa at 0x7f027d193ca0>"
      ]
     },
     "execution_count": 186,
     "metadata": {},
     "output_type": "execute_result"
    }
   ],
   "source": [
    "a"
   ]
  },
  {
   "cell_type": "markdown",
   "id": "0315f063-9992-435a-8059-fae1698a9e54",
   "metadata": {},
   "source": [
    "> 파이썬의 비밀5: 대화형콘솔에서 `a+엔터`하여 나오는 출력결과는 `print(a.__repr__())` 혹은 `HTML(a._repr_html_())`  이다. "
   ]
  },
  {
   "cell_type": "markdown",
   "id": "d2a2992a-2902-498d-a81c-29a253b6e6a5",
   "metadata": {},
   "source": [
    "# 숙제"
   ]
  },
  {
   "cell_type": "markdown",
   "id": "67598bb6-c3e4-420f-8f6c-addd1457d574",
   "metadata": {},
   "source": [
    "`1`. Student 클래스를 생성지침 및 사용예시를 참고하여 설계하라. \n",
    "\n",
    "**`생성지침`**\n",
    "\n",
    "**attributes**\n",
    "\n",
    "- `name`: 이름을 저장하는 변수\n",
    "- `age`: 나이를 저장하는 변수\n",
    "- `semester`: 학기를 저장하는 변수\n",
    "\n",
    "**methods**\n",
    "\n",
    "- `__init__`: name, age, semester 세 가지 매개변수를 입력받아 인스턴스의 attribute로 저장\n",
    "- `__str__`: 인스턴스의 정보(이름,나이,학기)를 문자열 형태로 반환"
   ]
  },
  {
   "cell_type": "markdown",
   "id": "2fa6dfc2-a332-438b-aa38-3de7816ad1d6",
   "metadata": {},
   "source": [
    "**`사용예시`**"
   ]
  },
  {
   "cell_type": "code",
   "execution_count": 224,
   "id": "6360425b-492a-4600-aa21-cf30c17624ee",
   "metadata": {},
   "outputs": [
    {
     "name": "stdout",
     "output_type": "stream",
     "text": [
      "이름: 김보람\n",
      "나이: 20\n",
      "학기: 1\n"
     ]
    }
   ],
   "source": [
    "# 사용 예시\n",
    "boram = Student(name='김보람', age=20, semester=1)\n",
    "print(boram)"
   ]
  },
  {
   "cell_type": "markdown",
   "id": "27ba37b9-62b6-4e85-80f3-a2b079fdaaae",
   "metadata": {},
   "source": [
    "`2`. RPS 클래스를 생성지침 및 사용예시를 참고하여 설계하라. \n",
    "\n",
    "**`생성지침`**\n",
    "\n",
    "**속성**\n",
    "\n",
    "- `candidate` (리스트): 사용 가능한 선택지인 '가위', '바위', '보'로 이루어진 리스트\n",
    "- `actions` (리스트): 선택한 동작을 기록하는 리스트\n",
    "\n",
    "**메서드**\n",
    "\n",
    "- `__init__`: 클래스의 생성자로, candidate 매개변수를 입력으로 받아 인스턴스의 속성으로 저장한다. 그리고 actions를 빈 리스트로 초기화한다.\n",
    "- `pick`: candidate에서 무작위로 하나의 선택지를 고르고, actions에 선택한 동작을 기록한다.\n",
    "- `_repr_html_(self)`: 클래스의 정보를 HTML 형식의 문자열로 반환한다. 반환된 문자열에는 candidate와 actions의 내용이 포함되어야 한다.\n",
    "\n",
    "**클래스 설명**:\n",
    "RPS 클래스는 가위, 바위, 보 중 하나를 선택하고, 선택한 동작을 기록하는 클래스이다. 사용 가능한 선택지는 candidate 속성에 저장되고, 선택한 동작은 actions에 기록된다. 클래스의 정보는 HTML 형식의 문자열로 표현되며, 낼 수 있는 패(candidate)와 기록된 동작(actions)이 포함된다."
   ]
  },
  {
   "cell_type": "markdown",
   "id": "97e9bdf5-06ee-4962-8dd0-7e733ba87063",
   "metadata": {},
   "source": [
    "**`사용예시`**"
   ]
  },
  {
   "cell_type": "markdown",
   "id": "be6cc6b2-411d-45cf-a8e8-58dd33643738",
   "metadata": {},
   "source": [
    "**예시1: 인스턴스의 생성**"
   ]
  },
  {
   "cell_type": "code",
   "execution_count": 237,
   "id": "99038ba8-68d9-480e-8036-73be72cdc072",
   "metadata": {},
   "outputs": [],
   "source": [
    "a = RPS(['가위','바위','보'])"
   ]
  },
  {
   "cell_type": "markdown",
   "id": "2a433c9b-c69a-4098-9cbb-8c2b70bf0618",
   "metadata": {},
   "source": [
    "**예시2: 인스턴스의 속성확인**"
   ]
  },
  {
   "cell_type": "code",
   "execution_count": 238,
   "id": "d0731172-c238-4ad1-9d26-1ba0527dbda3",
   "metadata": {},
   "outputs": [
    {
     "data": {
      "text/plain": [
       "(['가위', '바위', '보'], [])"
      ]
     },
     "execution_count": 238,
     "metadata": {},
     "output_type": "execute_result"
    }
   ],
   "source": [
    "a.candidate, a.actions"
   ]
  },
  {
   "cell_type": "markdown",
   "id": "9a7ed27e-27db-4054-b8d1-ed68eff78ff6",
   "metadata": {},
   "source": [
    "**예시3: `_repr_html_`의 사용예시**"
   ]
  },
  {
   "cell_type": "code",
   "execution_count": 239,
   "id": "82fe5760-d0f5-471b-aa32-be9d173acc84",
   "metadata": {},
   "outputs": [
    {
     "data": {
      "text/html": [
       "\n",
       "        낼 수 있는 패: ['가위', '바위', '보'] <br/> \n",
       "        기록: []\n",
       "        "
      ],
      "text/plain": [
       "<__main__.RPS at 0x7f73816c9400>"
      ]
     },
     "execution_count": 239,
     "metadata": {},
     "output_type": "execute_result"
    }
   ],
   "source": [
    "a"
   ]
  },
  {
   "cell_type": "markdown",
   "id": "60753a63-7d53-41c5-8e3f-5a8e97056663",
   "metadata": {},
   "source": [
    "**예시4: `pick` method의 사용예시**"
   ]
  },
  {
   "cell_type": "code",
   "execution_count": 240,
   "id": "68488530-7beb-4634-8092-f8644fdf6cad",
   "metadata": {},
   "outputs": [],
   "source": [
    "for i in range(5):\n",
    "    a.pick()"
   ]
  },
  {
   "cell_type": "code",
   "execution_count": 241,
   "id": "988d3bc8-e7c7-4af7-b5fd-a046d452aa5f",
   "metadata": {},
   "outputs": [
    {
     "data": {
      "text/plain": [
       "(['가위', '바위', '보'], ['바위', '가위', '보', '바위', '바위'])"
      ]
     },
     "execution_count": 241,
     "metadata": {},
     "output_type": "execute_result"
    }
   ],
   "source": [
    "a.candidate, a.actions"
   ]
  },
  {
   "cell_type": "code",
   "execution_count": 242,
   "id": "d360e571-b0f6-4b97-a667-7b3868005b0e",
   "metadata": {},
   "outputs": [
    {
     "data": {
      "text/html": [
       "\n",
       "        낼 수 있는 패: ['가위', '바위', '보'] <br/> \n",
       "        기록: ['바위', '가위', '보', '바위', '바위']\n",
       "        "
      ],
      "text/plain": [
       "<__main__.RPS at 0x7f73816c9400>"
      ]
     },
     "execution_count": 242,
     "metadata": {},
     "output_type": "execute_result"
    }
   ],
   "source": [
    "a"
   ]
  },
  {
   "cell_type": "markdown",
   "id": "a5471bfb-c5d7-4911-8fa3-4930a01ceb5a",
   "metadata": {},
   "source": [
    "::: {.callout-note}\n",
    "\n",
    "**힌트**: ['가위','바위','보']에서 하나의 원소를 임의로 뽑는 코드의 구현을 위해 아래를 참고하라. ChatGPT를 활용하여 np.random.choice 함수의 사용방법을 익혀라. \n",
    "\n",
    "```Python\n",
    "np.random.choice(['가위','바위','보'])\n",
    "```\n",
    ":::"
   ]
  },
  {
   "cell_type": "markdown",
   "id": "dea48758-ed66-4fa6-94f0-786271969fab",
   "metadata": {},
   "source": [
    "`3`.  RPS클래스에서 player a와 player b를 만들어라. Player a는 ['가위','보'] 중에 하나를 낼 수 있다. 그리고 Player b는 ['가위'] 만 낼 수 있다. 누가 더 유리한가? 10회 가상대결을 해보고 누가 더 유리하게 나왔는지 판단하라. "
   ]
  },
  {
   "cell_type": "markdown",
   "id": "ff3e8f94-1788-4fda-bd2c-2cfaef5e0a8d",
   "metadata": {},
   "source": [
    "::: {.callout-note}\n",
    "\n",
    "**힌트**: 당연히 b가 유리하겠죠? 저는 시뮬레이션 결과가 아래와 같이 나왔습니다. \n",
    "\n",
    "```\n",
    "{'a승리': 0, 'b승리': 5, '무승부': 5}\n",
    "```\n",
    "\n",
    ":::"
   ]
  },
  {
   "cell_type": "markdown",
   "id": "b2630782-0b78-4eeb-98fb-aef346f96a2b",
   "metadata": {},
   "source": [
    "`4`.  RPS클래스에서 player a와 player b를 만들어라. Player a는 ['가위','보'] 중에 하나를 낼 수 있다. 그리고 Player b는 ['가위','바위'] 중 하나를 낼 수 있다. 누가 더 유리한가? 100회 가상대결을 해보고 누가 더 유리하게 나왔는지 판단하라. "
   ]
  },
  {
   "cell_type": "markdown",
   "id": "00b23c24-b27a-4f64-bd12-6e662a357081",
   "metadata": {},
   "source": [
    "::: {.callout-note}\n",
    "\n",
    "**힌트**: 시뮬레이션 결과 저는 답이 이렇게 나왔습니다. \n",
    "\n",
    "```\n",
    "{'a승리': 24, 'b승리': 55, '무승부': 21}\n",
    "```\n",
    "\n",
    "즉 정답은 \"b가 더 유리하다.\" 입니다. 왜 b가 유리한지 스스로 생각해보시기 바랍니다.\n",
    ":::"
   ]
  }
 ],
 "metadata": {
  "kernelspec": {
   "display_name": "Python 3",
   "language": "python",
   "name": "python3"
  },
  "language_info": {
   "codemirror_mode": {
    "name": "ipython",
    "version": 3
   },
   "file_extension": ".py",
   "mimetype": "text/x-python",
   "name": "python",
   "nbconvert_exporter": "python",
   "pygments_lexer": "ipython3",
   "version": "3.8.16"
  }
 },
 "nbformat": 4,
 "nbformat_minor": 5
}
