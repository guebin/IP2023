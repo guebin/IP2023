{
 "cells": [
  {
   "cell_type": "raw",
   "id": "a1528b7b-1d00-4bcd-bdd4-490ab2e6d884",
   "metadata": {},
   "source": [
    "---\n",
    "title: \"15wk-1: 상속\"\n",
    "author: \"최규빈\"\n",
    "date: \"06/12/2023\"\n",
    "---"
   ]
  },
  {
   "cell_type": "markdown",
   "id": "6dea5cee-a6c8-45ed-8d69-2463517388fb",
   "metadata": {},
   "source": [
    "<a href=\"https://colab.research.google.com/github/guebin/PP2023/blob/main/posts/03_Class/2023-06-12-15wk-1.ipynb\"><img src=\"https://colab.research.google.com/assets/colab-badge.svg\" style=\"text-align: left\"></a>"
   ]
  },
  {
   "cell_type": "code",
   "execution_count": 1,
   "id": "bfbe4bfc-1ea1-43f6-a15a-55511c859d17",
   "metadata": {},
   "outputs": [
    {
     "name": "stdout",
     "output_type": "stream",
     "text": [
      "[main d5745e6] .\n",
      " 10 files changed, 410 insertions(+), 2 deletions(-)\n",
      " create mode 100644 posts/03_Class/.ipynb_checkpoints/2023-05-31-13wk-2-checkpoint.ipynb\n",
      " create mode 100644 posts/03_Class/.ipynb_checkpoints/2023-06-05-14wk-1-checkpoint.ipynb\n",
      " create mode 100644 posts/03_Class/.ipynb_checkpoints/2023-06-07-14wk-2-checkpoint.ipynb\n",
      " create mode 100644 posts/03_Class/.ipynb_checkpoints/2023-06-12-15wk-1-checkpoint.ipynb\n",
      " create mode 100644 posts/03_Class/2023-05-31-13wk-2.ipynb\n",
      " create mode 100644 posts/03_Class/2023-06-05-14wk-1.ipynb\n",
      " create mode 100644 posts/03_Class/2023-06-07-14wk-2.ipynb\n",
      " create mode 100644 posts/03_Class/2023-06-12-15wk-1.ipynb\n",
      "Enumerating objects: 15, done.\n",
      "Counting objects: 100% (15/15), done.\n",
      "Delta compression using up to 16 threads\n",
      "Compressing objects: 100% (10/10), done.\n",
      "Writing objects: 100% (10/10), 1.42 KiB | 1.42 MiB/s, done.\n",
      "Total 10 (delta 9), reused 0 (delta 0)\n",
      "remote: Resolving deltas: 100% (9/9), completed with 4 local objects.\u001b[K\n",
      "To https://github.com/guebin/PP2023.git\n",
      "   16ca5a4..d5745e6  main -> main\n",
      "From https://github.com/guebin/PP2023\n",
      " * branch            gh-pages   -> FETCH_HEAD\n",
      "\u001b[1m\u001b[34mRendering for publish:\n",
      "\u001b[39m\u001b[22m\n",
      "\u001b[1m\u001b[34m[ 1/34] about.qmd\u001b[39m\u001b[22m\n",
      "\u001b[1m\u001b[34m[ 2/34] posts/Appendix/2022-06-14-final.ipynb\u001b[39m\u001b[22m\n",
      "\u001b[1m\u001b[34m[ 3/34] posts/Appendix/2021-04-20-mid.ipynb\u001b[39m\u001b[22m\n",
      "\u001b[1m\u001b[34m[ 4/34] posts/Appendix/2022-05-03-mid.ipynb\u001b[39m\u001b[22m\n",
      "\u001b[1m\u001b[34m[ 5/34] posts/Appendix/2021-06-09-final.ipynb\u001b[39m\u001b[22m\n",
      "\u001b[1m\u001b[34m[ 6/34] posts/2023-03-06-1wk-1.ipynb\u001b[39m\u001b[22m\n",
      "\u001b[1m\u001b[34m[ 7/34] posts/03_Class/2023-05-31-13wk-1.ipynb\u001b[39m\u001b[22m\n",
      "\u001b[1m\u001b[34m[ 8/34] posts/03_Class/2023-05-15-11wk-1.ipynb\u001b[39m\u001b[22m\n",
      "\u001b[1m\u001b[34m[ 9/34] posts/03_Class/2023-06-05-14wk-1.ipynb\u001b[39m\u001b[22m\n",
      "\u001b[91mERROR: YAMLError: can not read a block mapping entry; a multiline key may not be an implicit key at line 4, column 5:\n",
      "    date: \"06/05/2023\"\n",
      "        ^\u001b[39m\n"
     ]
    }
   ],
   "source": [
    "!git add .\n",
    "!git commit -m .\n",
    "!git push \n",
    "!quarto publish --no-browser --no-prompt"
   ]
  },
  {
   "cell_type": "code",
   "execution_count": null,
   "id": "e67af6fe-e605-4872-a225-5cd2a7f9cbf6",
   "metadata": {},
   "outputs": [],
   "source": []
  }
 ],
 "metadata": {
  "kernelspec": {
   "display_name": "Python 3",
   "language": "python",
   "name": "python3"
  },
  "language_info": {
   "codemirror_mode": {
    "name": "ipython",
    "version": 3
   },
   "file_extension": ".py",
   "mimetype": "text/x-python",
   "name": "python",
   "nbconvert_exporter": "python",
   "pygments_lexer": "ipython3",
   "version": "3.8.16"
  }
 },
 "nbformat": 4,
 "nbformat_minor": 5
}
