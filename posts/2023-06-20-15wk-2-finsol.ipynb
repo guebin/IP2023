{
 "cells": [
  {
   "cell_type": "raw",
   "id": "6ff3c683-04ea-4227-a71e-4ecf170c9567",
   "metadata": {},
   "source": [
    "---\n",
    "title: \"15wk-2: 기말고사 풀이\"\n",
    "author: \"최규빈\"\n",
    "date: \"06/20/2023\"\n",
    "---"
   ]
  },
  {
   "cell_type": "markdown",
   "id": "93e93c53-909e-42e2-b5e1-8e7aebc7e5d0",
   "metadata": {},
   "source": [
    "<a href=\"https://colab.research.google.com/github/guebin/PP2023/blob/main/posts/2023-06-19-15wk-2-fin.ipynb\"><img src=\"https://colab.research.google.com/assets/colab-badge.svg\" style=\"text-align: left\"></a>"
   ]
  },
  {
   "cell_type": "markdown",
   "id": "1df6f6af-4713-4476-ab1d-68311506db5a",
   "metadata": {},
   "source": [
    "**제출은 `*.ipynb`, `*.html`, `*.pdf` 파일로 제출할 것** \n",
    "\n",
    "- `ipynb` 파일형태제출을 권장함. "
   ]
  },
  {
   "cell_type": "markdown",
   "id": "b3a8f8cd-f8a0-49e6-8796-c238e505544d",
   "metadata": {},
   "source": [
    "# imports "
   ]
  },
  {
   "cell_type": "code",
   "execution_count": 5,
   "id": "21a5e3fe-6648-481d-8bfe-554d59f978e6",
   "metadata": {},
   "outputs": [],
   "source": [
    "import numpy as np\n",
    "import matplotlib.pyplot as plt\n",
    "import datetime"
   ]
  },
  {
   "cell_type": "markdown",
   "id": "4dde3381-d1d4-4559-94c8-ec7c4dc887ce",
   "metadata": {},
   "source": [
    "# `1`. 묵찌빠 (150점)"
   ]
  },
  {
   "cell_type": "markdown",
   "id": "f40fd0b3-7bfc-49c0-b437-126d2f5f3d38",
   "metadata": {},
   "source": [
    "::: {.callout-note}\n",
    "\n",
    "### 묵찌빠\n",
    "ref: <https://namu.wiki/w/묵찌빠>\n",
    "\n",
    "묵찌빠는 가위바위보의 변형 놀이이다. 보통 가위바위보의 게임과 연이어 진행되는데, 가위바위보 승부 이후 이긴 사람이 공격권을 가지고, 묵(바위)/찌(가위)/빠(보자기) 가운데 하나를 외치는 동시에 말한 것과 일치하도록 손 모양을 바꾼다. 공격권을 가진 사람의 손 모양이 상대(수비권을 가진 사람)의 손 모양과 일치하면 공격권을 가진 사람의 승리한다. 승부가 갈리지 않았을 경우에는 다시 가위바위보를 하는 것이 아니라, 현 상태에서 가위바위보 규칙 상 이긴 사람이 공격권을 가져가게 된다.\n",
    "\n",
    ":::"
   ]
  },
  {
   "cell_type": "markdown",
   "id": "b45c04cc-c48e-4133-9ffb-4403efee6b36",
   "metadata": {},
   "source": [
    "`(1)` 아래는 RPS_BASE 클래스의 구현예시이다. "
   ]
  },
  {
   "cell_type": "code",
   "execution_count": 7,
   "id": "19c7784a-2278-4b08-99b5-b4c1b2c73c0f",
   "metadata": {},
   "outputs": [],
   "source": [
    "class RPS_BASE:\n",
    "    def __init__(self,candidate):\n",
    "        self.candidate = candidate\n",
    "        self.actions = list() \n",
    "    def __setitem__(self,index,val):\n",
    "        self.actions[index] = val\n",
    "    def __getitem__(self,item):\n",
    "        return self.actions[item]        \n",
    "    def __len__(self):\n",
    "        return len(self.actions)\n",
    "    def __eq__(self,other):\n",
    "        return self[-1] == other[-1]\n",
    "    def __gt__(self,other):\n",
    "        return [self[-1],other[-1]] in [['묵','찌'],['찌','빠'],['빠','묵']]\n",
    "    def __ge__(self,other):\n",
    "        return (self == other) or (self > other)\n",
    "    def __lt__(self,other):\n",
    "        return not (self >= other)\n",
    "    def __le__(self,other):\n",
    "        return (self == other) or (self < other)    \n",
    "    def _repr_html_(self):\n",
    "        html_str = \"\"\"\n",
    "        낼 수 있는 패: {} <br/>\n",
    "        기록: {}\n",
    "        \"\"\"        \n",
    "        return html_str.format(self.candidate,self.actions)       \n",
    "    def pick(self):\n",
    "        self.actions.append(np.random.choice(self.candidate))        "
   ]
  },
  {
   "cell_type": "markdown",
   "id": "8c3c02ea-6bfd-4256-8bba-4c25b04b8a1b",
   "metadata": {},
   "source": [
    "이 클래스에서 아래와 같은 2명의 플레이어 인스턴스를 생성하라. \n",
    "\n",
    "- `a`: ['묵','찌'] 중에 하나를 랜덤으로 선택 \n",
    "- `b`: ['찌','빠'] 중에 하나를 랜덤으로 선택 "
   ]
  },
  {
   "cell_type": "markdown",
   "id": "acc1897d-d56d-4645-9814-016d437798de",
   "metadata": {},
   "source": [
    "두 인스턴스를 100회 랜덤대결하고 결과를 기록하라. 어떠한 플레이어가 더 유리한가? "
   ]
  },
  {
   "cell_type": "markdown",
   "id": "9a2f5fb6-9569-40c4-bfd0-7faa87ca6edc",
   "metadata": {},
   "source": [
    "> 답안은 100회중 a몇회 승리, b몇회 승리와 같은 숫자형식으로만 나오면 인정한다. (코드를 정리하거나 별도의 클래스를 만드는 것을 요구하지 않음) "
   ]
  },
  {
   "cell_type": "markdown",
   "id": "6179aaea-0a39-4c96-8bab-12630f54dbec",
   "metadata": {},
   "source": [
    "`(풀이)`"
   ]
  },
  {
   "cell_type": "code",
   "execution_count": 23,
   "id": "da9b2023-e885-4720-bbfd-78e1dbb0a753",
   "metadata": {},
   "outputs": [],
   "source": [
    "a = RPS_BASE(['묵','찌'])\n",
    "b = RPS_BASE(['찌','빠'])"
   ]
  },
  {
   "cell_type": "code",
   "execution_count": 24,
   "id": "2d61ea17-7f8b-48a2-8a68-122fdcda1261",
   "metadata": {},
   "outputs": [],
   "source": [
    "rslt = []\n",
    "for _ in range(100):\n",
    "    a.pick()\n",
    "    b.pick()\n",
    "    if a>b: \n",
    "        rslt.append('a')\n",
    "    elif a==b: \n",
    "        rslt.append('-')\n",
    "    else: \n",
    "        rslt.append('b')"
   ]
  },
  {
   "cell_type": "code",
   "execution_count": 25,
   "id": "fc2bb7e8-417f-4693-8b33-01efa2d73bd3",
   "metadata": {},
   "outputs": [
    {
     "data": {
      "text/plain": [
       "{'a의승리': 53, '무승부': 21, 'b의승리': 26}"
      ]
     },
     "execution_count": 25,
     "metadata": {},
     "output_type": "execute_result"
    }
   ],
   "source": [
    "{'a의승리':rslt.count('a'),'무승부':rslt.count('-'),'b의승리':rslt.count('b')}"
   ]
  },
  {
   "cell_type": "markdown",
   "id": "49d32ab6-9987-48ee-8d90-325d0d4a8697",
   "metadata": {},
   "source": [
    "---"
   ]
  },
  {
   "cell_type": "markdown",
   "id": "c5d45fc7-67bd-4467-9cb4-a9fd9541856d",
   "metadata": {},
   "source": [
    "`(2)` RPS_BASE에서 아래와 같은 두명의 플레이어 인스턴스를 생성하라. \n",
    "\n",
    "- `a`: ['묵','찌','빠'] 중 하나를 랜덤으로 선택 \n",
    "- `b`: ['찌','빠'] 중 하나를 랜덤으로 선택 "
   ]
  },
  {
   "cell_type": "markdown",
   "id": "92f2efca-479e-417d-a114-2ac9aff25160",
   "metadata": {},
   "source": [
    "아래와 같은 a,b의 attribute을 변경하라. "
   ]
  },
  {
   "cell_type": "code",
   "execution_count": 672,
   "id": "13b5e638-5c0b-4d39-bce4-d1efe500df03",
   "metadata": {},
   "outputs": [],
   "source": [
    "a.modes = [None]\n",
    "a.actions = [None] \n",
    "b.modes = [None]\n",
    "b.actions = [None]"
   ]
  },
  {
   "cell_type": "markdown",
   "id": "2dbfefbe-f28a-42d4-8327-9081c703af86",
   "metadata": {},
   "source": [
    "플레이어 a,b를 이용하여 반복적으로 가위바위보 대결을 수행하고 아래와 같이 대결결과에 따라 공격권을 결정하는 함수 `mul`을 만들어라. \n",
    "\n",
    "**경우1: 플레이어 a가 승리할 경우**\n",
    "\n",
    "- a가 공격모드, b가 수비모드가 된다. \n",
    "- `a.modes`에는 'Attack' 이 `b.modes`에는 `Defence`가 추가된다. \n",
    "- `a.actions`와 `b.actions`는 각각의 플레이어가 선택한 패(묵,찌,빠)가 기록된다. \n",
    "\n",
    "\n",
    "**경우2: 플레이어 b가 승리할 경우**\n",
    "\n",
    "- b가 공격모드, a가 수비모드가 된다. \n",
    "- `b.modes`에는 'Attack' 이 `a.modes`에는 `Defence`가 추가된다. \n",
    "- `a.actions`와 `b.actions`는 각각의 플레이어가 선택한 패(묵,찌,빠)가 기록된다. \n",
    "\n",
    "**경우3: 비길경우**\n",
    "\n",
    "- 공격권의 변화는 없다. \n",
    "- `a.modes`,`b.modes`는 각각 이전의 값이 추가된다. \n",
    "- `a.actions`와 `b.actions`는 각각의 플레이어가 선택한 패(묵,찌,빠)가 기록된다. "
   ]
  },
  {
   "cell_type": "markdown",
   "id": "57e25117-2a55-484e-b2dd-67ce31210db9",
   "metadata": {},
   "source": [
    "아래는 함수 mul을 사용한 예시이다. "
   ]
  },
  {
   "cell_type": "markdown",
   "id": "1a0fc408-5538-466f-95d8-0e19965f5268",
   "metadata": {},
   "source": [
    "**시점1: 둘다 찌를 내어 공격권을 아무도 획득하지못함**"
   ]
  },
  {
   "cell_type": "code",
   "execution_count": 693,
   "id": "c6b8c6a8-5447-405f-81c7-15bea3a79c76",
   "metadata": {},
   "outputs": [],
   "source": [
    "mul(a,b)"
   ]
  },
  {
   "cell_type": "code",
   "execution_count": 702,
   "id": "813fce95-0054-4cb3-bb6d-6788dce352e0",
   "metadata": {},
   "outputs": [
    {
     "data": {
      "text/html": [
       "\n",
       "        낼 수 있는 패: ['묵', '찌', '빠'] <br/>\n",
       "        기록: [None, '찌']\n",
       "        "
      ],
      "text/plain": [
       "<__main__.RPS_BASE at 0x7f238c0e1850>"
      ]
     },
     "execution_count": 702,
     "metadata": {},
     "output_type": "execute_result"
    }
   ],
   "source": [
    "a"
   ]
  },
  {
   "cell_type": "code",
   "execution_count": 703,
   "id": "948237f0-44f5-4ad5-a099-dbaa623a38f7",
   "metadata": {},
   "outputs": [
    {
     "data": {
      "text/html": [
       "\n",
       "        낼 수 있는 패: ['찌', '빠'] <br/>\n",
       "        기록: [None, '찌']\n",
       "        "
      ],
      "text/plain": [
       "<__main__.RPS_BASE at 0x7f238c4e54c0>"
      ]
     },
     "execution_count": 703,
     "metadata": {},
     "output_type": "execute_result"
    }
   ],
   "source": [
    "b"
   ]
  },
  {
   "cell_type": "code",
   "execution_count": 704,
   "id": "b2a45c21-dfd5-45e6-b14f-7c66d6b62b76",
   "metadata": {},
   "outputs": [
    {
     "data": {
      "text/plain": [
       "[None, None]"
      ]
     },
     "execution_count": 704,
     "metadata": {},
     "output_type": "execute_result"
    }
   ],
   "source": [
    "a.modes"
   ]
  },
  {
   "cell_type": "code",
   "execution_count": 705,
   "id": "f5d82d9a-c9ba-4d7f-90b7-c507b054f9e0",
   "metadata": {},
   "outputs": [
    {
     "data": {
      "text/plain": [
       "[None, None]"
      ]
     },
     "execution_count": 705,
     "metadata": {},
     "output_type": "execute_result"
    }
   ],
   "source": [
    "b.modes"
   ]
  },
  {
   "cell_type": "markdown",
   "id": "d5cee07b-44b6-42db-b7f5-8a55357dfb16",
   "metadata": {},
   "source": [
    "**시점2:** 이번에도 둘다 찌를 내어 아무도 공격권을 획득하지 못함 "
   ]
  },
  {
   "cell_type": "code",
   "execution_count": 706,
   "id": "e143c1d8-1f73-42d9-ad37-10013b6d8dd0",
   "metadata": {},
   "outputs": [],
   "source": [
    "mul(a,b)"
   ]
  },
  {
   "cell_type": "code",
   "execution_count": 707,
   "id": "641e1aa1-7893-48df-88b4-15cf33f43b8d",
   "metadata": {},
   "outputs": [
    {
     "data": {
      "text/html": [
       "\n",
       "        낼 수 있는 패: ['묵', '찌', '빠'] <br/>\n",
       "        기록: [None, '찌', '찌']\n",
       "        "
      ],
      "text/plain": [
       "<__main__.RPS_BASE at 0x7f238c0e1850>"
      ]
     },
     "execution_count": 707,
     "metadata": {},
     "output_type": "execute_result"
    }
   ],
   "source": [
    "a"
   ]
  },
  {
   "cell_type": "code",
   "execution_count": 708,
   "id": "4a57f2c9-3dfd-41ba-9d5e-746e910ff1d5",
   "metadata": {},
   "outputs": [
    {
     "data": {
      "text/html": [
       "\n",
       "        낼 수 있는 패: ['찌', '빠'] <br/>\n",
       "        기록: [None, '찌', '찌']\n",
       "        "
      ],
      "text/plain": [
       "<__main__.RPS_BASE at 0x7f238c4e54c0>"
      ]
     },
     "execution_count": 708,
     "metadata": {},
     "output_type": "execute_result"
    }
   ],
   "source": [
    "b"
   ]
  },
  {
   "cell_type": "code",
   "execution_count": 709,
   "id": "98e5c03f-39ed-4377-8cbf-cfc6881f8d6f",
   "metadata": {},
   "outputs": [
    {
     "data": {
      "text/plain": [
       "[None, None, None]"
      ]
     },
     "execution_count": 709,
     "metadata": {},
     "output_type": "execute_result"
    }
   ],
   "source": [
    "a.modes"
   ]
  },
  {
   "cell_type": "code",
   "execution_count": 710,
   "id": "8d42dad4-8121-41ad-8249-b9687fa84d76",
   "metadata": {},
   "outputs": [
    {
     "data": {
      "text/plain": [
       "[None, None, None]"
      ]
     },
     "execution_count": 710,
     "metadata": {},
     "output_type": "execute_result"
    }
   ],
   "source": [
    "b.modes"
   ]
  },
  {
   "cell_type": "markdown",
   "id": "a60496db-78fd-4a4a-9fbf-8ddac3e3eb29",
   "metadata": {},
   "source": [
    "**시점3:** 이번에는 a가 공격권을 획득 (묵>찌)"
   ]
  },
  {
   "cell_type": "code",
   "execution_count": 711,
   "id": "37981f02-123d-4902-90c1-123fc40a6f46",
   "metadata": {},
   "outputs": [],
   "source": [
    "mul(a,b)"
   ]
  },
  {
   "cell_type": "code",
   "execution_count": 712,
   "id": "74ded083-6c72-4069-be80-3a3ea982a7bc",
   "metadata": {},
   "outputs": [
    {
     "data": {
      "text/html": [
       "\n",
       "        낼 수 있는 패: ['묵', '찌', '빠'] <br/>\n",
       "        기록: [None, '찌', '찌', '묵']\n",
       "        "
      ],
      "text/plain": [
       "<__main__.RPS_BASE at 0x7f238c0e1850>"
      ]
     },
     "execution_count": 712,
     "metadata": {},
     "output_type": "execute_result"
    }
   ],
   "source": [
    "a"
   ]
  },
  {
   "cell_type": "code",
   "execution_count": 713,
   "id": "629fa94f-03c9-4c9e-91de-1d8a95dcece8",
   "metadata": {},
   "outputs": [
    {
     "data": {
      "text/html": [
       "\n",
       "        낼 수 있는 패: ['찌', '빠'] <br/>\n",
       "        기록: [None, '찌', '찌', '찌']\n",
       "        "
      ],
      "text/plain": [
       "<__main__.RPS_BASE at 0x7f238c4e54c0>"
      ]
     },
     "execution_count": 713,
     "metadata": {},
     "output_type": "execute_result"
    }
   ],
   "source": [
    "b"
   ]
  },
  {
   "cell_type": "code",
   "execution_count": 714,
   "id": "10c1a068-fe54-45d8-84aa-3309e8bb0a80",
   "metadata": {},
   "outputs": [
    {
     "data": {
      "text/plain": [
       "[None, None, None, 'Attack']"
      ]
     },
     "execution_count": 714,
     "metadata": {},
     "output_type": "execute_result"
    }
   ],
   "source": [
    "a.modes"
   ]
  },
  {
   "cell_type": "code",
   "execution_count": 715,
   "id": "72e42d98-b8a9-43a1-9722-14b496d9e303",
   "metadata": {},
   "outputs": [
    {
     "data": {
      "text/plain": [
       "[None, None, None, 'Defence']"
      ]
     },
     "execution_count": 715,
     "metadata": {},
     "output_type": "execute_result"
    }
   ],
   "source": [
    "b.modes"
   ]
  },
  {
   "cell_type": "markdown",
   "id": "9bf7dc1e-14bc-4c52-b3f2-552da726d086",
   "metadata": {},
   "source": [
    "**시점4:** 이번에는 b가 공격권을 획득 (찌>빠)"
   ]
  },
  {
   "cell_type": "code",
   "execution_count": 716,
   "id": "787eb3fa-3c4d-4c7b-b836-a4eb5de422e2",
   "metadata": {},
   "outputs": [],
   "source": [
    "mul(a,b)"
   ]
  },
  {
   "cell_type": "code",
   "execution_count": 717,
   "id": "c061b7c0-ed91-47c9-8f27-49e68bd7e5d9",
   "metadata": {},
   "outputs": [
    {
     "data": {
      "text/html": [
       "\n",
       "        낼 수 있는 패: ['묵', '찌', '빠'] <br/>\n",
       "        기록: [None, '찌', '찌', '묵', '빠']\n",
       "        "
      ],
      "text/plain": [
       "<__main__.RPS_BASE at 0x7f238c0e1850>"
      ]
     },
     "execution_count": 717,
     "metadata": {},
     "output_type": "execute_result"
    }
   ],
   "source": [
    "a"
   ]
  },
  {
   "cell_type": "code",
   "execution_count": 718,
   "id": "74cfc258-af52-4b76-9b93-254622cdf7fd",
   "metadata": {},
   "outputs": [
    {
     "data": {
      "text/html": [
       "\n",
       "        낼 수 있는 패: ['찌', '빠'] <br/>\n",
       "        기록: [None, '찌', '찌', '찌', '찌']\n",
       "        "
      ],
      "text/plain": [
       "<__main__.RPS_BASE at 0x7f238c4e54c0>"
      ]
     },
     "execution_count": 718,
     "metadata": {},
     "output_type": "execute_result"
    }
   ],
   "source": [
    "b"
   ]
  },
  {
   "cell_type": "code",
   "execution_count": 719,
   "id": "cfd3ecf1-4e32-4569-b13d-47803155b859",
   "metadata": {},
   "outputs": [
    {
     "data": {
      "text/plain": [
       "[None, None, None, 'Attack', 'Defence']"
      ]
     },
     "execution_count": 719,
     "metadata": {},
     "output_type": "execute_result"
    }
   ],
   "source": [
    "a.modes"
   ]
  },
  {
   "cell_type": "code",
   "execution_count": 720,
   "id": "2ed06118-1734-4425-a896-c5ae11736f83",
   "metadata": {},
   "outputs": [
    {
     "data": {
      "text/plain": [
       "[None, None, None, 'Defence', 'Attack']"
      ]
     },
     "execution_count": 720,
     "metadata": {},
     "output_type": "execute_result"
    }
   ],
   "source": [
    "b.modes"
   ]
  },
  {
   "cell_type": "markdown",
   "id": "8333c255-ab43-446f-b8fa-866d9d7eee61",
   "metadata": {},
   "source": [
    "`(풀이)` -- 생략, (3)번 풀이로 대체"
   ]
  },
  {
   "cell_type": "markdown",
   "id": "157965c1-3cc2-40dd-abc5-da08f65efbce",
   "metadata": {},
   "source": [
    "---"
   ]
  },
  {
   "cell_type": "markdown",
   "id": "d10ff607-b490-4e2e-8b23-b5856819509e",
   "metadata": {},
   "source": [
    "`(3)` RPS_BASE를 상속받아 MookjjibbaPlayer라는 새로운 클래스를 정의하라. MookjjibbaPlayer 클래스에서 아래의 메소드를 새롭게 정의 혹은 재정의하여 \n",
    "\n",
    "1. `__init__`\n",
    "2. `_repr_html_`\n",
    "3. `__mul__`\n",
    "4. `reset`\n",
    "\n",
    "인스턴스가 아래와 같은 동작을 하도록 설계하라. \n"
   ]
  },
  {
   "cell_type": "markdown",
   "id": "359070db-ec40-42b9-a51a-5c64787a2c66",
   "metadata": {},
   "source": [
    "**시점0: 생성예시 (`__init__`)**"
   ]
  },
  {
   "cell_type": "code",
   "execution_count": 765,
   "id": "8984389b-00c8-492f-8bc5-cd1f2af91cdf",
   "metadata": {},
   "outputs": [],
   "source": [
    "a=MookjjibbaPlayer(['묵','찌','빠'])\n",
    "b=MookjjibbaPlayer(['묵','찌','빠'])"
   ]
  },
  {
   "cell_type": "code",
   "execution_count": 766,
   "id": "e13ad5c3-4193-40da-9e42-96222ced7ee0",
   "metadata": {},
   "outputs": [
    {
     "data": {
      "text/plain": [
       "[None]"
      ]
     },
     "execution_count": 766,
     "metadata": {},
     "output_type": "execute_result"
    }
   ],
   "source": [
    "a.actions"
   ]
  },
  {
   "cell_type": "code",
   "execution_count": 767,
   "id": "fa83fcca-8076-4559-92fd-365e4d459c19",
   "metadata": {},
   "outputs": [
    {
     "data": {
      "text/plain": [
       "[None]"
      ]
     },
     "execution_count": 767,
     "metadata": {},
     "output_type": "execute_result"
    }
   ],
   "source": [
    "a.modes"
   ]
  },
  {
   "cell_type": "markdown",
   "id": "ac90aa5d-658f-485f-98d8-52fb03d3ce79",
   "metadata": {},
   "source": [
    "::: {.callout-note}\n",
    "\n",
    "### `__init__` 의 동작\n",
    "\n",
    "1. 슈퍼클래스(RPS_BASE)의 `__init__`을 동작시킴\n",
    "2. MookjjibbaPlayer의 인스턴가 가지는 actions, modes 값을 [None] 으로 초기화 \n",
    ":::"
   ]
  },
  {
   "cell_type": "markdown",
   "id": "02b5661f-3099-4849-a4fb-095e26d2dd68",
   "metadata": {},
   "source": [
    "**시점0: 출력예시(`_repr_html_`)** "
   ]
  },
  {
   "cell_type": "code",
   "execution_count": 770,
   "id": "0c1fb8c9-075d-4809-adce-7b6f3e853023",
   "metadata": {},
   "outputs": [
    {
     "data": {
      "text/html": [
       "\n",
       "        낼 수 있는 패: ['묵', '찌', '빠'] <br/>\n",
       "        기록: [None] <br/>\n",
       "        모드: [None] <br/>\n",
       "        "
      ],
      "text/plain": [
       "<__main__.MookjjibbaPlayer at 0x7f238c0d8910>"
      ]
     },
     "execution_count": 770,
     "metadata": {},
     "output_type": "execute_result"
    }
   ],
   "source": [
    "a"
   ]
  },
  {
   "cell_type": "code",
   "execution_count": 771,
   "id": "686ccd5a-4e52-4f66-8e66-48b9b3e1d646",
   "metadata": {},
   "outputs": [
    {
     "data": {
      "text/html": [
       "\n",
       "        낼 수 있는 패: ['묵', '찌', '빠'] <br/>\n",
       "        기록: [None] <br/>\n",
       "        모드: [None] <br/>\n",
       "        "
      ],
      "text/plain": [
       "<__main__.MookjjibbaPlayer at 0x7f238c1bf5b0>"
      ]
     },
     "execution_count": 771,
     "metadata": {},
     "output_type": "execute_result"
    }
   ],
   "source": [
    "b"
   ]
  },
  {
   "cell_type": "markdown",
   "id": "2c10537b-5f1e-472a-beac-925ba961b05d",
   "metadata": {},
   "source": [
    "::: {.callout-note}\n",
    "\n",
    "### `_repr_html_` 의 동작\n",
    "\n",
    "위와 같이 \"낼 수 있는 패\", \"기록\", \"모드\" 가 함께 출력되도록 설계할 것 \n",
    "\n",
    ":::"
   ]
  },
  {
   "cell_type": "markdown",
   "id": "768cc3e4-9a7c-434b-b053-4ee7dfbb70df",
   "metadata": {},
   "source": [
    "**시점1: 대결 및 결과출력 (`__mul__`, `_repr_html_`)**"
   ]
  },
  {
   "cell_type": "code",
   "execution_count": 772,
   "id": "0cb07dd4-8247-40d5-aa0f-5a654ef3ffa0",
   "metadata": {},
   "outputs": [],
   "source": [
    "a*b"
   ]
  },
  {
   "cell_type": "code",
   "execution_count": 773,
   "id": "bbce9c1e-5550-491e-8fe7-9d09cc0e44c6",
   "metadata": {},
   "outputs": [
    {
     "data": {
      "text/html": [
       "\n",
       "        낼 수 있는 패: ['묵', '찌', '빠'] <br/>\n",
       "        기록: [None, '묵'] <br/>\n",
       "        모드: [None, None] <br/>\n",
       "        "
      ],
      "text/plain": [
       "<__main__.MookjjibbaPlayer at 0x7f238c0d8910>"
      ]
     },
     "execution_count": 773,
     "metadata": {},
     "output_type": "execute_result"
    }
   ],
   "source": [
    "a"
   ]
  },
  {
   "cell_type": "code",
   "execution_count": 774,
   "id": "42d07d26-a154-4df5-a176-b8084e3f40f8",
   "metadata": {},
   "outputs": [
    {
     "data": {
      "text/html": [
       "\n",
       "        낼 수 있는 패: ['묵', '찌', '빠'] <br/>\n",
       "        기록: [None, '묵'] <br/>\n",
       "        모드: [None, None] <br/>\n",
       "        "
      ],
      "text/plain": [
       "<__main__.MookjjibbaPlayer at 0x7f238c1bf5b0>"
      ]
     },
     "execution_count": 774,
     "metadata": {},
     "output_type": "execute_result"
    }
   ],
   "source": [
    "b"
   ]
  },
  {
   "cell_type": "markdown",
   "id": "14e3d129-b997-4c22-bcf1-5b2336fa6263",
   "metadata": {},
   "source": [
    "::: {.callout-note}\n",
    "\n",
    "### `__mul__` 의 동작\n",
    "\n",
    "1. 두 플레이어의 대결을 진행\n",
    "2. 결과를 보고 modes 의 값을 update \n",
    "\n",
    "위의 상황은 두 플레이어 모두 \"묵\"을 내어 어느쪽도 공격권을 가지지 못한 상태를 의미\n",
    "\n",
    ":::"
   ]
  },
  {
   "cell_type": "markdown",
   "id": "d53c4011-c67d-4210-9448-e092832a170d",
   "metadata": {},
   "source": [
    "**시점2: 대결 및 결과출력 (`__mul__`, `_repr_html_`)**"
   ]
  },
  {
   "cell_type": "code",
   "execution_count": 775,
   "id": "2435db8a-0efb-440a-8bdc-8c32ff209eb5",
   "metadata": {},
   "outputs": [],
   "source": [
    "a*b"
   ]
  },
  {
   "cell_type": "code",
   "execution_count": 776,
   "id": "c2e33f6d-2edf-46f1-8cce-105a5c7c0e4b",
   "metadata": {},
   "outputs": [
    {
     "data": {
      "text/html": [
       "\n",
       "        낼 수 있는 패: ['묵', '찌', '빠'] <br/>\n",
       "        기록: [None, '묵', '묵'] <br/>\n",
       "        모드: [None, None, 'Defence'] <br/>\n",
       "        "
      ],
      "text/plain": [
       "<__main__.MookjjibbaPlayer at 0x7f238c0d8910>"
      ]
     },
     "execution_count": 776,
     "metadata": {},
     "output_type": "execute_result"
    }
   ],
   "source": [
    "a"
   ]
  },
  {
   "cell_type": "code",
   "execution_count": 777,
   "id": "177b8374-6bda-4bc3-a3f4-a17698cdc597",
   "metadata": {},
   "outputs": [
    {
     "data": {
      "text/html": [
       "\n",
       "        낼 수 있는 패: ['묵', '찌', '빠'] <br/>\n",
       "        기록: [None, '묵', '빠'] <br/>\n",
       "        모드: [None, None, 'Attack'] <br/>\n",
       "        "
      ],
      "text/plain": [
       "<__main__.MookjjibbaPlayer at 0x7f238c1bf5b0>"
      ]
     },
     "execution_count": 777,
     "metadata": {},
     "output_type": "execute_result"
    }
   ],
   "source": [
    "b"
   ]
  },
  {
   "cell_type": "markdown",
   "id": "fc354fc3-8fa9-4259-b383-4f17558ddc9c",
   "metadata": {},
   "source": [
    "::: {.callout-note}\n",
    "\n",
    "### `__mul__` 의 동작\n",
    "\n",
    "1. 두 플레이어의 대결을 진행\n",
    "2. 결과를 보고 modes 의 값을 update \n",
    "\n",
    "위의 상황은 a가 묵, b가 빠를 내어 b가 공격권을 획득한 상황을 의미 \n",
    ":::"
   ]
  },
  {
   "cell_type": "markdown",
   "id": "ed7c3467-2b6f-48d0-b235-957714fb1515",
   "metadata": {},
   "source": [
    "**시점3: 대결결과의 초기화 (`reset`)**"
   ]
  },
  {
   "cell_type": "code",
   "execution_count": 778,
   "id": "c2d05499-b3e0-4fcb-8eea-c2bca07ea62b",
   "metadata": {},
   "outputs": [
    {
     "data": {
      "text/html": [
       "\n",
       "        낼 수 있는 패: ['묵', '찌', '빠'] <br/>\n",
       "        기록: [None, '묵', '묵'] <br/>\n",
       "        모드: [None, None, 'Defence'] <br/>\n",
       "        "
      ],
      "text/plain": [
       "<__main__.MookjjibbaPlayer at 0x7f238c0d8910>"
      ]
     },
     "execution_count": 778,
     "metadata": {},
     "output_type": "execute_result"
    }
   ],
   "source": [
    "a"
   ]
  },
  {
   "cell_type": "code",
   "execution_count": 779,
   "id": "b5189cd5-443b-4ce0-a932-5162b25a9c43",
   "metadata": {},
   "outputs": [],
   "source": [
    "a.reset()"
   ]
  },
  {
   "cell_type": "code",
   "execution_count": 780,
   "id": "751baed7-6444-41d2-aeea-17ded64758e1",
   "metadata": {},
   "outputs": [
    {
     "data": {
      "text/html": [
       "\n",
       "        낼 수 있는 패: ['묵', '찌', '빠'] <br/>\n",
       "        기록: [None] <br/>\n",
       "        모드: [None] <br/>\n",
       "        "
      ],
      "text/plain": [
       "<__main__.MookjjibbaPlayer at 0x7f238c0d8910>"
      ]
     },
     "execution_count": 780,
     "metadata": {},
     "output_type": "execute_result"
    }
   ],
   "source": [
    "a"
   ]
  },
  {
   "cell_type": "markdown",
   "id": "9ca7a077-bb35-49a8-8474-c11bd1008dbd",
   "metadata": {},
   "source": [
    "::: {.callout-note}\n",
    "\n",
    "### `reset` 의 동작\n",
    "\n",
    "1. 플레이어의 기록을 초기화\n",
    "2. 플레이어의 모드를 초기화\n",
    "\n",
    ":::"
   ]
  },
  {
   "cell_type": "markdown",
   "id": "6fe195b0-6db1-4ae4-bccd-6a06f3adc37f",
   "metadata": {},
   "source": [
    "`(풀이)`"
   ]
  },
  {
   "cell_type": "code",
   "execution_count": 26,
   "id": "365e5ef5-7977-408d-9721-b7caa4ffb515",
   "metadata": {},
   "outputs": [],
   "source": [
    "class MookjjibbaPlayer(RPS_BASE):\n",
    "    def __init__(self,candidate):\n",
    "        super().__init__(candidate)\n",
    "        self.modes = [None]\n",
    "        self.actions = [None]\n",
    "    def __mul__(self,other):\n",
    "        self.pick()\n",
    "        other.pick()\n",
    "        if self > other:\n",
    "            self.modes.append('Attack')\n",
    "            other.modes.append('Defence')\n",
    "        elif self < other:\n",
    "            self.modes.append('Defence')\n",
    "            other.modes.append('Attack')\n",
    "        else: \n",
    "            self.modes.append(self.modes[-1]) \n",
    "            other.modes.append(other.modes[-1])\n",
    "    def _repr_html_(self):\n",
    "        html_str = \"\"\"\n",
    "        낼 수 있는 패: {} <br/>\n",
    "        기록: {} <br/>\n",
    "        모드: {} <br/>\n",
    "        \"\"\"        \n",
    "        return html_str.format(self.candidate,self.actions,self.modes)\n",
    "    def reset(self):\n",
    "        self.__init__(self.candidate)"
   ]
  },
  {
   "cell_type": "markdown",
   "id": "848ce9f2-8dcd-4e3a-bac3-da76efb2b2db",
   "metadata": {},
   "source": [
    "**`__init__`, `_repr_html_`** 체크"
   ]
  },
  {
   "cell_type": "code",
   "execution_count": 36,
   "id": "497917e5-ba58-4c29-95dc-c980325686f5",
   "metadata": {},
   "outputs": [],
   "source": [
    "a=MookjjibbaPlayer(['묵','찌','빠'])\n",
    "b=MookjjibbaPlayer(['묵','찌','빠'])"
   ]
  },
  {
   "cell_type": "code",
   "execution_count": 37,
   "id": "d112f6b1-602f-4838-ae1c-07695c01d8c3",
   "metadata": {},
   "outputs": [
    {
     "data": {
      "text/html": [
       "\n",
       "        낼 수 있는 패: ['묵', '찌', '빠'] <br/>\n",
       "        기록: [None] <br/>\n",
       "        모드: [None] <br/>\n",
       "        "
      ],
      "text/plain": [
       "<__main__.MookjjibbaPlayer at 0x7effabdd68e0>"
      ]
     },
     "execution_count": 37,
     "metadata": {},
     "output_type": "execute_result"
    }
   ],
   "source": [
    "a"
   ]
  },
  {
   "cell_type": "code",
   "execution_count": 38,
   "id": "beca7342-95db-4bdb-aefc-32e42704c9ad",
   "metadata": {},
   "outputs": [
    {
     "data": {
      "text/html": [
       "\n",
       "        낼 수 있는 패: ['묵', '찌', '빠'] <br/>\n",
       "        기록: [None] <br/>\n",
       "        모드: [None] <br/>\n",
       "        "
      ],
      "text/plain": [
       "<__main__.MookjjibbaPlayer at 0x7effabdd6fa0>"
      ]
     },
     "execution_count": 38,
     "metadata": {},
     "output_type": "execute_result"
    }
   ],
   "source": [
    "b"
   ]
  },
  {
   "cell_type": "markdown",
   "id": "470daceb-8227-4f67-a43a-27423813560b",
   "metadata": {},
   "source": [
    "**`__mul__`, `_repr_html_`, `reset`** 체크"
   ]
  },
  {
   "cell_type": "code",
   "execution_count": 39,
   "id": "7d824723-2cc0-477b-81c4-f03eed4e37bf",
   "metadata": {},
   "outputs": [],
   "source": [
    "for _ in range(3):\n",
    "    a*b"
   ]
  },
  {
   "cell_type": "code",
   "execution_count": 40,
   "id": "55ccccca-9e23-4e92-b37b-5d5871bd0ad8",
   "metadata": {},
   "outputs": [
    {
     "data": {
      "text/html": [
       "\n",
       "        낼 수 있는 패: ['묵', '찌', '빠'] <br/>\n",
       "        기록: [None, '묵', '찌', '찌'] <br/>\n",
       "        모드: [None, 'Attack', 'Attack', 'Defence'] <br/>\n",
       "        "
      ],
      "text/plain": [
       "<__main__.MookjjibbaPlayer at 0x7effabdd68e0>"
      ]
     },
     "execution_count": 40,
     "metadata": {},
     "output_type": "execute_result"
    }
   ],
   "source": [
    "a"
   ]
  },
  {
   "cell_type": "code",
   "execution_count": 41,
   "id": "f8f3e863-272d-41ce-963e-aba6de935dfa",
   "metadata": {},
   "outputs": [
    {
     "data": {
      "text/html": [
       "\n",
       "        낼 수 있는 패: ['묵', '찌', '빠'] <br/>\n",
       "        기록: [None, '찌', '찌', '묵'] <br/>\n",
       "        모드: [None, 'Defence', 'Defence', 'Attack'] <br/>\n",
       "        "
      ],
      "text/plain": [
       "<__main__.MookjjibbaPlayer at 0x7effabdd6fa0>"
      ]
     },
     "execution_count": 41,
     "metadata": {},
     "output_type": "execute_result"
    }
   ],
   "source": [
    "b"
   ]
  },
  {
   "cell_type": "code",
   "execution_count": 42,
   "id": "6c02f3c3-72c2-4cc8-9d5f-2d562f2ceee7",
   "metadata": {},
   "outputs": [],
   "source": [
    "a.reset()"
   ]
  },
  {
   "cell_type": "code",
   "execution_count": 43,
   "id": "ebfc6aa5-3f31-4773-b0ae-3bf948d65636",
   "metadata": {},
   "outputs": [
    {
     "data": {
      "text/html": [
       "\n",
       "        낼 수 있는 패: ['묵', '찌', '빠'] <br/>\n",
       "        기록: [None] <br/>\n",
       "        모드: [None] <br/>\n",
       "        "
      ],
      "text/plain": [
       "<__main__.MookjjibbaPlayer at 0x7effabdd68e0>"
      ]
     },
     "execution_count": 43,
     "metadata": {},
     "output_type": "execute_result"
    }
   ],
   "source": [
    "a"
   ]
  },
  {
   "cell_type": "markdown",
   "id": "282f6b47-d5f5-4c07-9079-f4b5ce101615",
   "metadata": {},
   "source": [
    "`(4)` `(3)` 에서 생성된 MookjjibbaPlayer의 두 개의 인스턴스 a,b를 입력으로 받고 최초공격권을 결정하는 함수 `jumpball`을 설계하라. "
   ]
  },
  {
   "cell_type": "markdown",
   "id": "f5719e16-dd8d-4599-a423-15f4765acf41",
   "metadata": {},
   "source": [
    "아래는 jumpball함수의 사용예시이다."
   ]
  },
  {
   "cell_type": "code",
   "execution_count": null,
   "id": "49527017-c897-492c-8065-92acc37c222d",
   "metadata": {},
   "outputs": [
    {
     "data": {
      "text/html": [
       "\n",
       "        낼 수 있는 패: ['묵', '찌', '빠'] <br/>\n",
       "        기록: [None] <br/>\n",
       "        모드: [None] <br/>\n",
       "        "
      ],
      "text/plain": [
       "<__main__.MookjjibbaPlayer at 0x7f238c0d8910>"
      ]
     },
     "execution_count": 874,
     "metadata": {},
     "output_type": "execute_result"
    }
   ],
   "source": [
    "a"
   ]
  },
  {
   "cell_type": "code",
   "execution_count": 875,
   "id": "670e06d5-c03f-4ea2-a9f2-77df420346c6",
   "metadata": {},
   "outputs": [
    {
     "data": {
      "text/html": [
       "\n",
       "        낼 수 있는 패: ['묵', '찌', '빠'] <br/>\n",
       "        기록: [None] <br/>\n",
       "        모드: [None] <br/>\n",
       "        "
      ],
      "text/plain": [
       "<__main__.MookjjibbaPlayer at 0x7f238c1bf5b0>"
      ]
     },
     "execution_count": 875,
     "metadata": {},
     "output_type": "execute_result"
    }
   ],
   "source": [
    "b"
   ]
  },
  {
   "cell_type": "code",
   "execution_count": 876,
   "id": "78af2550-0da2-4ad7-a052-134c5dcc9b04",
   "metadata": {},
   "outputs": [],
   "source": [
    "jumpball(a,b)"
   ]
  },
  {
   "cell_type": "code",
   "execution_count": 877,
   "id": "e0217bbe-72f6-4805-96cd-cf6bbeabf46a",
   "metadata": {},
   "outputs": [
    {
     "data": {
      "text/html": [
       "\n",
       "        낼 수 있는 패: ['묵', '찌', '빠'] <br/>\n",
       "        기록: [None, '찌', '찌', '찌'] <br/>\n",
       "        모드: [None, None, None, 'Defence'] <br/>\n",
       "        "
      ],
      "text/plain": [
       "<__main__.MookjjibbaPlayer at 0x7f238c0d8910>"
      ]
     },
     "execution_count": 877,
     "metadata": {},
     "output_type": "execute_result"
    }
   ],
   "source": [
    "a"
   ]
  },
  {
   "cell_type": "code",
   "execution_count": 878,
   "id": "05e63fee-8ac2-4ff0-b80b-85373803cf52",
   "metadata": {},
   "outputs": [
    {
     "data": {
      "text/html": [
       "\n",
       "        낼 수 있는 패: ['묵', '찌', '빠'] <br/>\n",
       "        기록: [None, '찌', '찌', '묵'] <br/>\n",
       "        모드: [None, None, None, 'Attack'] <br/>\n",
       "        "
      ],
      "text/plain": [
       "<__main__.MookjjibbaPlayer at 0x7f238c1bf5b0>"
      ]
     },
     "execution_count": 878,
     "metadata": {},
     "output_type": "execute_result"
    }
   ],
   "source": [
    "b"
   ]
  },
  {
   "cell_type": "markdown",
   "id": "abbb8b39-c0f1-4089-9b91-14ddc0ede6cc",
   "metadata": {},
   "source": [
    "> 처음 2번의 가위,바위,보는 비겼으나 이후에 b가 승리하여 초기공격권을 b가 획득하였음. "
   ]
  },
  {
   "cell_type": "markdown",
   "id": "ee96deeb-a44f-44d1-9e44-4210cdebd066",
   "metadata": {},
   "source": [
    "`(풀이)` -- 생략, (5)번풀이 참고"
   ]
  },
  {
   "cell_type": "markdown",
   "id": "bb7b8269-3182-450a-9659-5c1801219b46",
   "metadata": {},
   "source": [
    "`(5)` 지금까지 코드를 바탕으로 \n",
    "\n",
    "- a: ['묵','찌'] 중 하나를 랜덤으로 고르는 플레이어\n",
    "- b: ['찌','빠'] 중 하나를 랜덤으로 고르는 플레이어\n",
    "\n",
    "를 설정하여 100회 가상대결을 진행하라. 100회 가상대결결과를 제시하라."
   ]
  },
  {
   "cell_type": "markdown",
   "id": "5f98ce13-e3f7-4290-9bb0-2cf0033ee5a9",
   "metadata": {},
   "source": [
    "(참고) -- 아래는 제가 구현한 예시입니다. 참고용일 뿐이며 이와 같은 방식으로 구현할 필요는 없습니다. "
   ]
  },
  {
   "cell_type": "markdown",
   "id": "731bfae8-1191-40e1-bf9a-116fb98f2810",
   "metadata": {},
   "source": [
    "**1. a,b 두명의 플레이어 생성**"
   ]
  },
  {
   "cell_type": "code",
   "execution_count": null,
   "id": "d2e3ce17-77e5-4402-8f59-db68b9d9a0d6",
   "metadata": {},
   "outputs": [],
   "source": [
    "a=MookjjibbaPlayer(['묵','찌'])\n",
    "b=MookjjibbaPlayer(['찌','빠'])"
   ]
  },
  {
   "cell_type": "code",
   "execution_count": null,
   "id": "954789d6-5e6e-42a7-93bb-35e8a72c0914",
   "metadata": {},
   "outputs": [
    {
     "data": {
      "text/html": [
       "\n",
       "        낼 수 있는 패: ['묵', '찌'] <br/>\n",
       "        기록: [None] <br/>\n",
       "        모드: [None] <br/>\n",
       "        "
      ],
      "text/plain": [
       "<__main__.MookjjibbaPlayer at 0x7f238c9252b0>"
      ]
     },
     "execution_count": 1052,
     "metadata": {},
     "output_type": "execute_result"
    }
   ],
   "source": [
    "a"
   ]
  },
  {
   "cell_type": "code",
   "execution_count": null,
   "id": "6014c33c-3058-41ae-8ba5-939783ca1677",
   "metadata": {},
   "outputs": [
    {
     "data": {
      "text/html": [
       "\n",
       "        낼 수 있는 패: ['찌', '빠'] <br/>\n",
       "        기록: [None] <br/>\n",
       "        모드: [None] <br/>\n",
       "        "
      ],
      "text/plain": [
       "<__main__.MookjjibbaPlayer at 0x7f238c9253a0>"
      ]
     },
     "execution_count": 1053,
     "metadata": {},
     "output_type": "execute_result"
    }
   ],
   "source": [
    "b"
   ]
  },
  {
   "cell_type": "markdown",
   "id": "e13ac994-d314-46bd-b7ba-fb9715271dae",
   "metadata": {},
   "source": [
    "> a,b 플레이어가 초기화 "
   ]
  },
  {
   "cell_type": "markdown",
   "id": "25e77ec6-8481-47a8-a149-a9d941333c6f",
   "metadata": {},
   "source": [
    "**2. a,b 두명의 플레이어를 입력으로 하여 게임1을 생성후 1회 게임진행**"
   ]
  },
  {
   "cell_type": "code",
   "execution_count": null,
   "id": "9ee012f7-062e-46d6-b8f9-cbcd390885b2",
   "metadata": {},
   "outputs": [],
   "source": [
    "game = PlayMookjjibba(a,b)"
   ]
  },
  {
   "cell_type": "code",
   "execution_count": null,
   "id": "56aae94f-6e9f-4021-b0f2-4c667fa9cfe8",
   "metadata": {},
   "outputs": [],
   "source": [
    "game.play()"
   ]
  },
  {
   "cell_type": "code",
   "execution_count": null,
   "id": "a533429f-928e-4f70-8675-43f025436ec7",
   "metadata": {},
   "outputs": [
    {
     "data": {
      "text/html": [
       "\n",
       "        낼 수 있는 패: ['묵', '찌'] <br/>\n",
       "        기록: [None, '찌', '묵', '묵', '찌'] <br/>\n",
       "        모드: [None, 'Attack', 'Defence', 'Defence', 'Defence'] <br/>\n",
       "        "
      ],
      "text/plain": [
       "<__main__.MookjjibbaPlayer at 0x7f238c9252b0>"
      ]
     },
     "execution_count": 1056,
     "metadata": {},
     "output_type": "execute_result"
    }
   ],
   "source": [
    "a"
   ]
  },
  {
   "cell_type": "code",
   "execution_count": null,
   "id": "4b5e9448-7397-4561-b385-208d6b62dbc6",
   "metadata": {},
   "outputs": [
    {
     "data": {
      "text/html": [
       "\n",
       "        낼 수 있는 패: ['찌', '빠'] <br/>\n",
       "        기록: [None, '빠', '빠', '빠', '찌'] <br/>\n",
       "        모드: [None, 'Defence', 'Attack', 'Attack', 'Attack'] <br/>\n",
       "        "
      ],
      "text/plain": [
       "<__main__.MookjjibbaPlayer at 0x7f238c9253a0>"
      ]
     },
     "execution_count": 1057,
     "metadata": {},
     "output_type": "execute_result"
    }
   ],
   "source": [
    "b"
   ]
  },
  {
   "cell_type": "markdown",
   "id": "1e69fb8f-8e1d-4c57-9631-9d0a0f3bf0a3",
   "metadata": {},
   "source": [
    "> a가 찌, b가 빠를 내어 최초 공격권을 a가 획득하였지만 이후 공격권을 상실한 상실함. 이후 4번째 가위바위보에서 b가 a가 동시에 찌를 내며 b의 승리로 마무리됨 "
   ]
  },
  {
   "cell_type": "markdown",
   "id": "4c03dde4-7c6b-4454-9447-1469e2fb4850",
   "metadata": {},
   "source": [
    "**3. game.records 에 b의 승리가 기록되어 있음** "
   ]
  },
  {
   "cell_type": "code",
   "execution_count": null,
   "id": "1efcadb0-b63d-4600-a1e7-25bcbaf1f6ba",
   "metadata": {},
   "outputs": [
    {
     "data": {
      "text/plain": [
       "['b']"
      ]
     },
     "execution_count": 1058,
     "metadata": {},
     "output_type": "execute_result"
    }
   ],
   "source": [
    "game.records "
   ]
  },
  {
   "cell_type": "markdown",
   "id": "4b0edc9f-9008-4b5f-ac61-a336e80d8cf2",
   "metadata": {},
   "source": [
    "**4. 1회 대결기록을 삭제하고 또 다른 게임을 진행: 이번에는 a의 승리**"
   ]
  },
  {
   "cell_type": "code",
   "execution_count": null,
   "id": "61f29fac-80af-490a-b707-dc91390e531b",
   "metadata": {},
   "outputs": [],
   "source": [
    "game.reset_player_history()"
   ]
  },
  {
   "cell_type": "code",
   "execution_count": null,
   "id": "f459dade-2c1f-4463-bc5a-f875bc16eb32",
   "metadata": {},
   "outputs": [
    {
     "data": {
      "text/html": [
       "\n",
       "        낼 수 있는 패: ['묵', '찌'] <br/>\n",
       "        기록: [None] <br/>\n",
       "        모드: [None] <br/>\n",
       "        "
      ],
      "text/plain": [
       "<__main__.MookjjibbaPlayer at 0x7f238c9252b0>"
      ]
     },
     "execution_count": 1060,
     "metadata": {},
     "output_type": "execute_result"
    }
   ],
   "source": [
    "a"
   ]
  },
  {
   "cell_type": "code",
   "execution_count": null,
   "id": "47e5f29d-33f0-43c4-9eda-79e03cf64016",
   "metadata": {},
   "outputs": [
    {
     "data": {
      "text/html": [
       "\n",
       "        낼 수 있는 패: ['찌', '빠'] <br/>\n",
       "        기록: [None] <br/>\n",
       "        모드: [None] <br/>\n",
       "        "
      ],
      "text/plain": [
       "<__main__.MookjjibbaPlayer at 0x7f238c9253a0>"
      ]
     },
     "execution_count": 1061,
     "metadata": {},
     "output_type": "execute_result"
    }
   ],
   "source": [
    "b"
   ]
  },
  {
   "cell_type": "code",
   "execution_count": null,
   "id": "18b8ef2c-4fc2-4983-8b82-1c602125d129",
   "metadata": {},
   "outputs": [],
   "source": [
    "game.play()"
   ]
  },
  {
   "cell_type": "code",
   "execution_count": null,
   "id": "1e4e79e1-8891-43bc-b292-e0f24d19710b",
   "metadata": {},
   "outputs": [
    {
     "data": {
      "text/html": [
       "\n",
       "        낼 수 있는 패: ['묵', '찌'] <br/>\n",
       "        기록: [None, '찌', '찌', '찌'] <br/>\n",
       "        모드: [None, None, 'Attack', 'Attack'] <br/>\n",
       "        "
      ],
      "text/plain": [
       "<__main__.MookjjibbaPlayer at 0x7f238c9252b0>"
      ]
     },
     "execution_count": 1063,
     "metadata": {},
     "output_type": "execute_result"
    }
   ],
   "source": [
    "a"
   ]
  },
  {
   "cell_type": "code",
   "execution_count": null,
   "id": "971ae2e2-7167-43e9-840a-eb4b7ed0b168",
   "metadata": {},
   "outputs": [
    {
     "data": {
      "text/html": [
       "\n",
       "        낼 수 있는 패: ['찌', '빠'] <br/>\n",
       "        기록: [None, '찌', '빠', '찌'] <br/>\n",
       "        모드: [None, None, 'Defence', 'Defence'] <br/>\n",
       "        "
      ],
      "text/plain": [
       "<__main__.MookjjibbaPlayer at 0x7f238c9253a0>"
      ]
     },
     "execution_count": 1064,
     "metadata": {},
     "output_type": "execute_result"
    }
   ],
   "source": [
    "b"
   ]
  },
  {
   "cell_type": "markdown",
   "id": "b98a3b15-88d2-4f94-b9ae-d1fc3b78a30e",
   "metadata": {},
   "source": [
    "> 공격권은 2번만에 A가 획득, 1번의 공격을 통하여 마무리 "
   ]
  },
  {
   "cell_type": "markdown",
   "id": "b43dbecb-83f5-4cb1-9113-37d9f3b71adf",
   "metadata": {},
   "source": [
    "**5. 이번에는 a의 승리가 기록됨**"
   ]
  },
  {
   "cell_type": "code",
   "execution_count": null,
   "id": "eedbd398-4d5b-4aba-9a27-ec7a0c0bb25c",
   "metadata": {},
   "outputs": [
    {
     "data": {
      "text/plain": [
       "['b', 'a']"
      ]
     },
     "execution_count": 1065,
     "metadata": {},
     "output_type": "execute_result"
    }
   ],
   "source": [
    "game.records"
   ]
  },
  {
   "cell_type": "markdown",
   "id": "f993b955-e06f-4ee2-9558-148e743b6744",
   "metadata": {},
   "source": [
    "`(풀이)`"
   ]
  },
  {
   "cell_type": "code",
   "execution_count": 56,
   "id": "49b3334e-957f-4512-8fd7-7c399de2577d",
   "metadata": {},
   "outputs": [],
   "source": [
    "class PlayMookjjibba:\n",
    "    def __init__(self,a,b):\n",
    "        self.a = a\n",
    "        self.b = b\n",
    "        self.records = list()\n",
    "    def reset_player_history(self):\n",
    "        self.a.reset()\n",
    "        self.b.reset()\n",
    "    def record(self):\n",
    "        if self.a.modes[-1] == 'Attack':\n",
    "            self.records.append('a')\n",
    "        else:\n",
    "            self.records.append('b')\n",
    "    def jumpball(self):\n",
    "        self.a * self.b \n",
    "        while self.a == self.b:\n",
    "            self.a * self.b \n",
    "    def play(self):\n",
    "        self.jumpball()\n",
    "        while self.a != self.b:\n",
    "            self.a * self.b \n",
    "        self.record()"
   ]
  },
  {
   "cell_type": "code",
   "execution_count": 57,
   "id": "231c1d74-0942-43ff-91a1-cae9262a5918",
   "metadata": {},
   "outputs": [],
   "source": [
    "a=MookjjibbaPlayer(['묵','찌'])\n",
    "b=MookjjibbaPlayer(['찌','빠'])\n",
    "game = PlayMookjjibba(a,b)"
   ]
  },
  {
   "cell_type": "code",
   "execution_count": 58,
   "id": "f5e2b86d-048a-4405-9923-733811b40293",
   "metadata": {},
   "outputs": [],
   "source": [
    "for _ in range(1000):\n",
    "    game.play()"
   ]
  },
  {
   "cell_type": "code",
   "execution_count": 59,
   "id": "339e5e5d-8eec-4332-be46-03c353bb1b24",
   "metadata": {},
   "outputs": [
    {
     "data": {
      "text/plain": [
       "{'a': 678, 'b': 322}"
      ]
     },
     "execution_count": 59,
     "metadata": {},
     "output_type": "execute_result"
    }
   ],
   "source": [
    "{'a':game.records.count('a'),'b':game.records.count('b')}"
   ]
  },
  {
   "cell_type": "markdown",
   "id": "05830d1b-0763-4f41-b0e3-4f4804064143",
   "metadata": {},
   "source": [
    "# `2`. 종합문항 (50점)"
   ]
  },
  {
   "cell_type": "markdown",
   "id": "81dcd5db-bae4-45f5-a76a-97047de236f2",
   "metadata": {},
   "source": [
    "`(1)` LinearRegression 이라는 이름의 클래스를 만들고 아래의 기능을 넣어라. \n",
    "\n",
    "**`__init__`**: \"클래스 $\\to$ 인스턴스\" 인 시점에 길이가 $n$인 numpy array ${\\bf x}=(x_1,\\dots,x_n)$, ${\\bf y}=(y_1,\\dots,y_n)$을 입력으로 받아 내부에 저장한다. \n",
    "\n",
    "**`fit`**: fit은 내부에 저장된 ${\\bf x}$, ${\\bf y}$를 이용하여 $\\hat{\\bf y}=(\\hat{y}_1,\\dots,\\hat{y}_n)$을 계산하는 역할을 한다. 계산은 아래의 수식을 이용한다. \n",
    "$$\\hat{\\bf y}= {\\bf X}({\\bf X}^T {\\bf X})^{-1}{\\bf X}^T {\\bf y}, \\quad {\\bf X}=\\begin{bmatrix} 1 & x_1 \\\\ 1 & x_2 \\\\ \\dots \\\\ 1 & x_n \\end{bmatrix}$$ \n",
    "\n",
    "**`plot`**: plot은 $(x_i,y_i)$와 $(x_i,\\hat{y}_i)$를 시각화하는 역할을 한다. "
   ]
  },
  {
   "cell_type": "markdown",
   "id": "fc188dd6-f0c3-42d2-8ab2-8dcb6f5aab4a",
   "metadata": {},
   "source": [
    "아래의 자료를 LinearRegression의 입력으로 받고 시각화하는 분석을 수행하라. "
   ]
  },
  {
   "cell_type": "code",
   "execution_count": 62,
   "id": "7c268703-3d76-4583-94b1-b1c6196b13d7",
   "metadata": {},
   "outputs": [
    {
     "data": {
      "text/plain": [
       "[<matplotlib.lines.Line2D at 0x7effa96db520>]"
      ]
     },
     "execution_count": 62,
     "metadata": {},
     "output_type": "execute_result"
    },
    {
     "data": {
      "image/png": "[encoded data removed]",
      "text/plain": [
       "<Figure size 432x288 with 1 Axes>"
      ]
     },
     "metadata": {
      "needs_background": "light"
     },
     "output_type": "display_data"
    }
   ],
   "source": [
    "x = np.linspace(0,1,100)\n",
    "y = 2*x + np.random.normal(size=100)\n",
    "plt.plot(x,y,'o')"
   ]
  },
  {
   "cell_type": "markdown",
   "id": "f71492fa-1ec4-4f47-872b-2282eb560e48",
   "metadata": {},
   "source": [
    "`(풀이)`"
   ]
  },
  {
   "cell_type": "code",
   "execution_count": 63,
   "id": "dca70ffb-206b-4eab-9971-8f37a5d4bdbf",
   "metadata": {},
   "outputs": [],
   "source": [
    "class LinearRegression: \n",
    "    def __init__(self,x,y):\n",
    "        self.x = x\n",
    "        self.y = y \n",
    "    def fit(self):\n",
    "        n = len(self.x)\n",
    "        self.X = np.stack([np.ones(n),self.x],axis=1)\n",
    "        self.yhat = self.X@np.linalg.inv(self.X.T@self.X)@self.X.T@self.y \n",
    "    def plot(self):\n",
    "        plt.plot(self.x,self.y,'o',label=r'$(x_i,y_i)$')\n",
    "        plt.plot(self.x,self.yhat,'--',label=r'$(x_i,\\hat{y}_i)$')\n",
    "        plt.legend()"
   ]
  },
  {
   "cell_type": "code",
   "execution_count": 64,
   "id": "1ab13e45-a048-43f9-966c-82f9b32540b0",
   "metadata": {},
   "outputs": [
    {
     "data": {
      "image/png": "[encoded data removed]",
      "text/plain": [
       "<Figure size 432x288 with 1 Axes>"
      ]
     },
     "metadata": {
      "needs_background": "light"
     },
     "output_type": "display_data"
    }
   ],
   "source": [
    "linreg = LinearRegression(x,y)\n",
    "linreg.fit()\n",
    "linreg.plot()"
   ]
  },
  {
   "cell_type": "markdown",
   "id": "cdec4aad-a6e4-4aad-ab70-54c08a9baf84",
   "metadata": {},
   "source": [
    "> 5월24일 12wk-2 숙제참고"
   ]
  },
  {
   "cell_type": "markdown",
   "id": "a6d89c2c-3202-466b-989a-04abc4e09e2a",
   "metadata": {},
   "source": [
    "`(2)` 앞면과 뒷면이 나올 확률이 각각 1/2인 동전을 생각하자. 하니와 규빈은 이 동전을 연속으로 던져서 아래와 같은 룰을 정하여 내기를 하였다. \n",
    "\n",
    "- 동전을 연속으로 반복하여 던진다. 최근 2회의 결과가 (뒷면,앞면) 이 나오면 하니의 승리\n",
    "- 동전을 연속으로 반복하여 던진다. 최근 2회의 결과가 (뒷면,뒷면) 이 나오면 규빈의 승리 "
   ]
  },
  {
   "cell_type": "markdown",
   "id": "cafd55b1-f6b9-4dec-87ac-5bea3ae549fe",
   "metadata": {},
   "source": [
    "이 내기는 하니가 유리한가? 규빈이 유리한가? 시뮬레이션을 통해 검증하라. "
   ]
  },
  {
   "cell_type": "markdown",
   "id": "be8f6c3a-abcf-4f8d-ba93-a767dff448de",
   "metadata": {},
   "source": [
    "::: {.callout-note}\n",
    "\n",
    "**hint**: 똑같이 유리하다\n",
    "\n",
    ":::"
   ]
  },
  {
   "cell_type": "markdown",
   "id": "f8f0cedb-f2bc-4850-a563-77939f55bad9",
   "metadata": {},
   "source": [
    "`(풀이)`"
   ]
  },
  {
   "cell_type": "markdown",
   "id": "39a1d2cb-2155-4269-8fa2-76e57e542759",
   "metadata": {},
   "source": [
    "**Step1** CoinFlipper 설계"
   ]
  },
  {
   "cell_type": "code",
   "execution_count": 241,
   "id": "a6b99a05-8b51-49ba-ab8b-24bd0b86824e",
   "metadata": {},
   "outputs": [],
   "source": [
    "class CoinFlipper: \n",
    "    def __init__(self):\n",
    "        self.coins = list()\n",
    "        self.win_cond = {'하니':[],'규빈':[]}\n",
    "        self.winner = str()        \n",
    "    def __iter__(self):\n",
    "        return self \n",
    "    def __next__(self):\n",
    "        self.coins.append(np.random.choice(['앞면','뒷면']))\n",
    "        if self.coins[-2:] == self.win_cond['하니']:\n",
    "            self.winner = '하니'\n",
    "            raise StopIteration\n",
    "        elif self.coins[-2:] == self.win_cond['규빈']:\n",
    "            self.winner = '규빈'\n",
    "            raise StopIteration        \n",
    "        else:\n",
    "            pass\n",
    "    def __call__(self,win_cond):\n",
    "        self.win_cond = win_cond\n",
    "        for _ in self:\n",
    "            pass \n",
    "    def __repr__(self):\n",
    "        repr_str = '하니의 승리조건: {}\\n규빈의 승리조건: {}\\n동전을 던진결과들: {}\\n최종승리자: {}'.format(\n",
    "            self.win_cond['하니'],\n",
    "            self.win_cond['규빈'],\n",
    "            self.coins,\n",
    "            self.winner\n",
    "        )\n",
    "        return repr_str"
   ]
  },
  {
   "cell_type": "code",
   "execution_count": 242,
   "id": "632cd3b6-8f30-4019-9db5-45a725d2446e",
   "metadata": {},
   "outputs": [],
   "source": [
    "coin_fliper = CoinFlipper()"
   ]
  },
  {
   "cell_type": "code",
   "execution_count": 235,
   "id": "71f59b42-7668-4c44-a725-52e3a6eef5bb",
   "metadata": {},
   "outputs": [
    {
     "data": {
      "text/plain": [
       "하니의 승리조건: []\n",
       "규빈의 승리조건: []\n",
       "동전을 던진결과들: []\n",
       "최종승리자: "
      ]
     },
     "execution_count": 235,
     "metadata": {},
     "output_type": "execute_result"
    }
   ],
   "source": [
    "coin_fliper"
   ]
  },
  {
   "cell_type": "code",
   "execution_count": 236,
   "id": "2f6699c5-5e96-4207-9879-7b2dd2c7b894",
   "metadata": {},
   "outputs": [],
   "source": [
    "win_cond = {\n",
    "    '하니':['앞면','뒷면'],\n",
    "    '규빈':['뒷면','앞면']\n",
    "}\n",
    "coin_fliper(win_cond)"
   ]
  },
  {
   "cell_type": "code",
   "execution_count": 237,
   "id": "bf1bc4b5-1666-4961-a749-de83c3eaf172",
   "metadata": {},
   "outputs": [
    {
     "data": {
      "text/plain": [
       "하니의 승리조건: ['앞면', '뒷면']\n",
       "규빈의 승리조건: ['뒷면', '앞면']\n",
       "동전을 던진결과들: ['뒷면', '뒷면', '뒷면', '뒷면', '앞면']\n",
       "최종승리자: 규빈"
      ]
     },
     "execution_count": 237,
     "metadata": {},
     "output_type": "execute_result"
    }
   ],
   "source": [
    "coin_fliper"
   ]
  },
  {
   "cell_type": "markdown",
   "id": "1348c0ff-4e9c-49a7-bd76-7a33d3d40191",
   "metadata": {},
   "source": [
    "**Step2:** 100회 대결진행 "
   ]
  },
  {
   "cell_type": "code",
   "execution_count": 238,
   "id": "46348d6a-95f0-48ff-b642-7b7755143e92",
   "metadata": {},
   "outputs": [],
   "source": [
    "coinfliper_lst = [CoinFlipper() for _ in range(100)]\n",
    "winners = [] \n",
    "for coinfliper in coinfliper_lst:\n",
    "    coinfliper(win_cond)\n",
    "    winners.append(coinfliper.winner)"
   ]
  },
  {
   "cell_type": "code",
   "execution_count": 239,
   "id": "3257073e-381a-4899-b1b7-bda57c2ee16f",
   "metadata": {},
   "outputs": [
    {
     "data": {
      "text/plain": [
       "{'하니': 51, '규빈': 49}"
      ]
     },
     "execution_count": 239,
     "metadata": {},
     "output_type": "execute_result"
    }
   ],
   "source": [
    "{'하니':winners.count('하니'), '규빈':winners.count('규빈')}"
   ]
  },
  {
   "cell_type": "markdown",
   "id": "2e148a9d-94bf-45fe-b071-58304cc01589",
   "metadata": {},
   "source": [
    "---"
   ]
  },
  {
   "cell_type": "markdown",
   "id": "9039242b-e2ff-4741-a1ab-defc9818a20c",
   "metadata": {},
   "source": [
    "참고로 $n$회 대결결과는 아래와 같이 조회가능 "
   ]
  },
  {
   "cell_type": "code",
   "execution_count": 240,
   "id": "fd5e3b07-75e9-4a0b-ba4d-d717221eaea9",
   "metadata": {},
   "outputs": [
    {
     "data": {
      "text/plain": [
       "하니의 승리조건: ['앞면', '뒷면']\n",
       "규빈의 승리조건: ['뒷면', '앞면']\n",
       "동전을 던진결과들: ['앞면', '앞면', '뒷면']\n",
       "최종승리자: 하니"
      ]
     },
     "execution_count": 240,
     "metadata": {},
     "output_type": "execute_result"
    }
   ],
   "source": [
    "coinfliper_lst[3]"
   ]
  },
  {
   "cell_type": "markdown",
   "id": "7d49ffda-4717-4e6a-a4d4-0d19e9ae4b1e",
   "metadata": {},
   "source": [
    "`(3)` 앞면과 뒷면이 나올 확률이 각각 1/2인 동전을 생각하자. 하니와 규빈은 이 동전을 연속으로 던져서 아래와 같은 룰을 정하여 내기를 하였다. \n",
    "\n",
    "- 동전을 연속으로 반복하여 던진다. 최근 2회의 결과가 (앞면,뒷면) 이 나오면 하니의 승리\n",
    "- 동전을 연속으로 반복하여 던진다. 최근 2회의 결과가 (뒷면,뒷면) 이 나오면 규빈의 승리 "
   ]
  },
  {
   "cell_type": "markdown",
   "id": "eccef138-b02f-4f2c-83dc-de574480a28b",
   "metadata": {},
   "source": [
    "이 내기는 하니가 유리한가? 규빈이 유리한가? 시뮬레이션을 통해 검증하라. "
   ]
  },
  {
   "cell_type": "markdown",
   "id": "c1683d84-ff59-49e0-8b71-e6c33309ad39",
   "metadata": {},
   "source": [
    "::: {.callout-note}\n",
    "\n",
    "**hint**: 이 내기는 하니가 유리하다.\n",
    "\n",
    ":::"
   ]
  },
  {
   "cell_type": "markdown",
   "id": "6c829fee-acfd-4bd7-b2f9-a2083218c2b4",
   "metadata": {},
   "source": [
    "`(풀이)`"
   ]
  },
  {
   "cell_type": "code",
   "execution_count": 246,
   "id": "7b79ce04-86c9-43d2-8c7a-0d449d633714",
   "metadata": {},
   "outputs": [],
   "source": [
    "win_cond = {\n",
    "    '하니':['앞면','뒷면'],\n",
    "    '규빈':['뒷면','뒷면']\n",
    "}\n",
    "coin_fliper(win_cond)"
   ]
  },
  {
   "cell_type": "code",
   "execution_count": 247,
   "id": "54c26e71-6a8f-4a98-b7c4-6f79f5e567f7",
   "metadata": {},
   "outputs": [],
   "source": [
    "coinfliper_lst = [CoinFlipper() for _ in range(100)]\n",
    "winners = [] \n",
    "for coinfliper in coinfliper_lst:\n",
    "    coinfliper(win_cond)\n",
    "    winners.append(coinfliper.winner)"
   ]
  },
  {
   "cell_type": "code",
   "execution_count": 248,
   "id": "32135e93-56e2-4584-990f-e0d7949e9914",
   "metadata": {},
   "outputs": [
    {
     "data": {
      "text/plain": [
       "{'하니': 73, '규빈': 27}"
      ]
     },
     "execution_count": 248,
     "metadata": {},
     "output_type": "execute_result"
    }
   ],
   "source": [
    "{'하니':winners.count('하니'), '규빈':winners.count('규빈')}"
   ]
  },
  {
   "cell_type": "markdown",
   "id": "3155388d-5513-4f44-8877-448506a910a5",
   "metadata": {},
   "source": [
    "`(4)` Time을 상속받아 Init 클래스를 만들고 `__repr__`을 조작하여 아래와 같이 인스턴스 생성시점을 출력하는 기능을 구현하라. "
   ]
  },
  {
   "cell_type": "code",
   "execution_count": 230,
   "id": "bdf5381e-7a91-4c8d-a74a-42684628be2f",
   "metadata": {},
   "outputs": [],
   "source": [
    "class Time:\n",
    "    def time(self):\n",
    "        return datetime.datetime.now().strftime('%y-%m-%d %X')"
   ]
  },
  {
   "cell_type": "markdown",
   "id": "2d586ba2-9289-443f-a5de-a8ecf8df975d",
   "metadata": {},
   "source": [
    "`(풀이)`"
   ]
  },
  {
   "cell_type": "code",
   "execution_count": 249,
   "id": "b75df7e7-335b-4051-a6e4-c26645c10c8c",
   "metadata": {},
   "outputs": [],
   "source": [
    "class Init(Time):\n",
    "    def __init__(self):\n",
    "        self.init_time = self.time()\n",
    "    def __repr__(self):\n",
    "        return '인스턴스생성시점: {}'.format(self.init_time)"
   ]
  },
  {
   "cell_type": "code",
   "execution_count": 250,
   "id": "03cc19b6-4197-4f45-9dd6-421b6c4e49a2",
   "metadata": {},
   "outputs": [],
   "source": [
    "a = Init()"
   ]
  },
  {
   "cell_type": "code",
   "execution_count": 251,
   "id": "37468a08-14e9-4613-9c26-e53c7cd1567d",
   "metadata": {},
   "outputs": [
    {
     "data": {
      "text/plain": [
       "인스턴스생성시점: 23-06-20 14:05:58"
      ]
     },
     "execution_count": 251,
     "metadata": {},
     "output_type": "execute_result"
    }
   ],
   "source": [
    "a"
   ]
  },
  {
   "cell_type": "code",
   "execution_count": 252,
   "id": "a3f4d1cc-d3e6-49e9-8e88-a9813d3d879e",
   "metadata": {},
   "outputs": [],
   "source": [
    "b = Init()"
   ]
  },
  {
   "cell_type": "code",
   "execution_count": 253,
   "id": "64f0e7aa-381e-45f5-9038-17877ab5e31e",
   "metadata": {},
   "outputs": [
    {
     "data": {
      "text/plain": [
       "(인스턴스생성시점: 23-06-20 14:05:58, 인스턴스생성시점: 23-06-20 14:05:59)"
      ]
     },
     "execution_count": 253,
     "metadata": {},
     "output_type": "execute_result"
    }
   ],
   "source": [
    "a,b"
   ]
  },
  {
   "cell_type": "markdown",
   "id": "e4a59102-8a0f-4ab3-be53-a90d0cdd1ac5",
   "metadata": {},
   "source": [
    "`(5)` tuple 클래스와 아래의 Check를 상속받아 아래와 같은 역할을 하는 새로운 Tuple 클래스를 만들라. "
   ]
  },
  {
   "cell_type": "code",
   "execution_count": 254,
   "id": "acfd1c37-e900-4544-9099-158d0d806321",
   "metadata": {},
   "outputs": [],
   "source": [
    "class Check:\n",
    "    def ckeck(self):\n",
    "        return [l for l in dir(self) if l[0]!='_']"
   ]
  },
  {
   "cell_type": "markdown",
   "id": "29ca0ce3-17c2-4884-b805-308cfe8e9dce",
   "metadata": {},
   "source": [
    "`(풀이)`"
   ]
  },
  {
   "cell_type": "code",
   "execution_count": 271,
   "id": "04304069-3696-456f-a8d9-f9c96b6ce041",
   "metadata": {},
   "outputs": [],
   "source": [
    "class Tuple(Check,tuple):\n",
    "    def freq(self):\n",
    "        return {s:self.count(s) for s in set(self)}\n",
    "    def __repr__(self):\n",
    "        return super().__repr__() + '\\n' +'methods={}'.format(self.ckeck())"
   ]
  },
  {
   "cell_type": "code",
   "execution_count": 272,
   "id": "fdae6374-c612-491b-9eb8-780c160d0292",
   "metadata": {},
   "outputs": [
    {
     "data": {
      "text/plain": [
       "('a', 's', 'd', 'f', 'a', 's', 's', 'd', 'f', 's', 'a', 's', 'd', 'f')\n",
       "methods=['ckeck', 'count', 'freq', 'index']"
      ]
     },
     "execution_count": 272,
     "metadata": {},
     "output_type": "execute_result"
    }
   ],
   "source": [
    "tpl = Tuple('asdfassdfsasdf')\n",
    "tpl # 값과 함께 사용가능한 메소드가 함께 출력 "
   ]
  },
  {
   "cell_type": "code",
   "execution_count": 273,
   "id": "9f2f73c2-0f3c-447c-a4c2-0c04d5f37949",
   "metadata": {},
   "outputs": [
    {
     "data": {
      "text/plain": [
       "{'f': 3, 'd': 3, 's': 5, 'a': 3}"
      ]
     },
     "execution_count": 273,
     "metadata": {},
     "output_type": "execute_result"
    }
   ],
   "source": [
    "tpl.freq()"
   ]
  },
  {
   "cell_type": "markdown",
   "id": "e566ff4a-aeb1-47cc-bb95-dcb9320a9bda",
   "metadata": {},
   "source": [
    "`(6)` 아래와 같은 클래스를 고려하자. "
   ]
  },
  {
   "cell_type": "code",
   "execution_count": 1103,
   "id": "2ed230a8-1c61-43fd-8ebc-4485e17e6c51",
   "metadata": {},
   "outputs": [],
   "source": [
    "class Init(object):\n",
    "    def __init__(self,value):\n",
    "        self.value = value\n",
    "        \n",
    "class Times2(Init):\n",
    "    def __init__(self,value):\n",
    "        super().__init__(value)\n",
    "        self.value = self.value * 2\n",
    "        \n",
    "class Plus5(Init):\n",
    "    def __init__(self,value):\n",
    "        super().__init__(value)\n",
    "        self.value = self.value + 5"
   ]
  },
  {
   "cell_type": "markdown",
   "id": "c2798255-245c-4533-890c-5e9670bf3db9",
   "metadata": {},
   "source": [
    "`Plus5`와 `Times2`를 상속하여 적당한 클래스 `Times2Plus5`를 정의하고 생성과 동시에 $x \\to (x\\times 2)+5$ 를 수행도록 하라. "
   ]
  },
  {
   "cell_type": "markdown",
   "id": "a03d4c1e-d60f-4e7c-8f28-33fd8482ee59",
   "metadata": {},
   "source": [
    "`(풀이)`"
   ]
  },
  {
   "cell_type": "code",
   "execution_count": null,
   "id": "1618c537-ad35-49ec-9ca8-68012edd3535",
   "metadata": {},
   "outputs": [],
   "source": [
    "class Times2Plus5(Plus5,Times2):\n",
    "    def __init__(self,value):\n",
    "        super().__init__(value)"
   ]
  },
  {
   "cell_type": "markdown",
   "id": "dab5da62-21c5-4201-b55a-e737491dec57",
   "metadata": {},
   "source": [
    "**사용예시**"
   ]
  },
  {
   "cell_type": "code",
   "execution_count": 1105,
   "id": "a3cf737e-8864-4628-9dec-3afac5d154b8",
   "metadata": {},
   "outputs": [
    {
     "data": {
      "text/plain": [
       "5"
      ]
     },
     "execution_count": 1105,
     "metadata": {},
     "output_type": "execute_result"
    }
   ],
   "source": [
    "a=Times2Plus5(0)\n",
    "a.value"
   ]
  },
  {
   "cell_type": "code",
   "execution_count": 1106,
   "id": "5de1aebe-d00e-41c6-8e25-839b0beb2622",
   "metadata": {},
   "outputs": [
    {
     "data": {
      "text/plain": [
       "7"
      ]
     },
     "execution_count": 1106,
     "metadata": {},
     "output_type": "execute_result"
    }
   ],
   "source": [
    "a=Times2Plus5(1)\n",
    "a.value"
   ]
  },
  {
   "cell_type": "code",
   "execution_count": 1107,
   "id": "b916f7ae-83f6-49fc-a265-9c9dd74f1702",
   "metadata": {},
   "outputs": [
    {
     "data": {
      "text/plain": [
       "15"
      ]
     },
     "execution_count": 1107,
     "metadata": {},
     "output_type": "execute_result"
    }
   ],
   "source": [
    "a=Times2Plus5(5)\n",
    "a.value"
   ]
  },
  {
   "cell_type": "markdown",
   "id": "614dad6b-77a4-46c8-b3e1-0c877ffaf42f",
   "metadata": {},
   "source": [
    "`(7)` 아래의 함수가 있다고 하자. "
   ]
  },
  {
   "cell_type": "code",
   "execution_count": 276,
   "id": "3fbe5122-be5f-4ef4-b531-c4b3608a47e4",
   "metadata": {},
   "outputs": [],
   "source": [
    "def f(x): \n",
    "    return np.sin(x)"
   ]
  },
  {
   "cell_type": "markdown",
   "id": "5e8c4dee-d3ef-44ff-b263-c698077e2f64",
   "metadata": {},
   "source": [
    "적당한 함수 `derivate`를 정의하여 함수를 입력으로 받으면 그 도함수를 출력으로 리턴하도록 하라. 아래의 코드를 이용하여 검증하라. "
   ]
  },
  {
   "cell_type": "code",
   "execution_count": 277,
   "id": "b5e24b2c-bdea-43fd-a22c-28cd08878551",
   "metadata": {},
   "outputs": [
    {
     "data": {
      "text/plain": [
       "<matplotlib.legend.Legend at 0x7effa80130a0>"
      ]
     },
     "execution_count": 277,
     "metadata": {},
     "output_type": "execute_result"
    },
    {
     "data": {
      "image/png": "[encoded data removed]",
      "text/plain": [
       "<Figure size 432x288 with 1 Axes>"
      ]
     },
     "metadata": {
      "needs_background": "light"
     },
     "output_type": "display_data"
    }
   ],
   "source": [
    "x = np.linspace(-6,6,100)\n",
    "plt.plot(x,f(x),label=r'$f(x)=\\sin(x)$')\n",
    "plt.plot(x,(derivate(f))(x),label=r'$f\\'(x)=\\cos(x)$')\n",
    "plt.legend()"
   ]
  },
  {
   "cell_type": "markdown",
   "id": "41c784e2-974a-4fb6-90c9-9b80199666e7",
   "metadata": {},
   "source": [
    "`(풀이)`"
   ]
  },
  {
   "cell_type": "code",
   "execution_count": 280,
   "id": "5ad2f7e5-bd95-4115-ae10-0c3ec26a27aa",
   "metadata": {},
   "outputs": [],
   "source": [
    "def f(x): \n",
    "    return np.sin(x)\n",
    "def derivate(f): \n",
    "    # step1: 함수오브젝트 f는 입력으로 받은상태 \n",
    "    # step2: 함수오브젝트 f를 이용하여 df라는 함수를 정의 \n",
    "    def df(x): \n",
    "        h=0.000000000001\n",
    "        return (f(x+h)-f(x))/h \n",
    "    # step3: 정의된 df를 리턴\n",
    "    return df"
   ]
  },
  {
   "cell_type": "code",
   "execution_count": 281,
   "id": "57861473-4ef6-43c9-9367-e52269f9d6bd",
   "metadata": {},
   "outputs": [
    {
     "data": {
      "text/plain": [
       "<matplotlib.legend.Legend at 0x7effa7ec2f10>"
      ]
     },
     "execution_count": 281,
     "metadata": {},
     "output_type": "execute_result"
    },
    {
     "data": {
      "image/png": "[encoded data removed]",
      "text/plain": [
       "<Figure size 432x288 with 1 Axes>"
      ]
     },
     "metadata": {
      "needs_background": "light"
     },
     "output_type": "display_data"
    }
   ],
   "source": [
    "x = np.linspace(-6,6,100)\n",
    "plt.plot(x,f(x),label=r'$f(x)=\\sin(x)$')\n",
    "plt.plot(x,(derivate(f))(x),label=r'$f\\'(x)=\\cos(x)$')\n",
    "plt.legend()"
   ]
  },
  {
   "cell_type": "markdown",
   "id": "0a4dbc8c-6325-42de-818e-17bdb61e83f1",
   "metadata": {},
   "source": [
    "`(8)` Student 클래스를 생성지침 및 사용예시를 참고하여 설계하라. \n",
    "\n",
    "**`생성지침`**\n",
    "\n",
    "**attributes**\n",
    "\n",
    "- `name`: 이름을 저장하는 변수\n",
    "- `age`: 나이를 저장하는 변수\n",
    "- `semester`: 학기를 저장하는 변수\n",
    "\n",
    "**methods**\n",
    "\n",
    "- `__init__`: name, age, semester 세 가지 매개변수를 입력받아 인스턴스의 attribute로 저장\n",
    "- `__str__`: 인스턴스의 정보(이름,나이,학기)를 문자열 형태로 반환"
   ]
  },
  {
   "cell_type": "markdown",
   "id": "c1133418-bbc9-43e4-9b61-76b33136ddf4",
   "metadata": {},
   "source": [
    "**`사용예시`**"
   ]
  },
  {
   "cell_type": "code",
   "execution_count": 224,
   "id": "ac042625-284c-443f-b04c-ae8048359d59",
   "metadata": {},
   "outputs": [
    {
     "name": "stdout",
     "output_type": "stream",
     "text": [
      "이름: 김보람\n",
      "나이: 20\n",
      "학기: 1\n"
     ]
    }
   ],
   "source": [
    "# 사용 예시\n",
    "boram = Student(name='김보람', age=20, semester=1)\n",
    "print(boram)"
   ]
  },
  {
   "cell_type": "markdown",
   "id": "c76ea278-6533-4ace-90c4-c8474ffff849",
   "metadata": {},
   "source": [
    "`(풀이)`"
   ]
  },
  {
   "cell_type": "code",
   "execution_count": 331,
   "id": "1808dcfb-a0b2-4411-9d7f-b1e5a92d0636",
   "metadata": {},
   "outputs": [],
   "source": [
    "class Student:\n",
    "    def __init__(self,name='김보람',age=20,semester=0): \n",
    "        self.name = name\n",
    "        self.age = age\n",
    "        self.semester = semester\n",
    "    def __str__(self):\n",
    "        print_str = '''이름: {}\\n나이: {}\\n학기: {}'''.format(self.name,self.age,self.semester)\n",
    "        return print_str"
   ]
  },
  {
   "cell_type": "code",
   "execution_count": 332,
   "id": "f569ca4b-4245-4473-8d17-d89bdd2cf035",
   "metadata": {},
   "outputs": [
    {
     "name": "stdout",
     "output_type": "stream",
     "text": [
      "이름: 김보람\n",
      "나이: 20\n",
      "학기: 1\n"
     ]
    }
   ],
   "source": [
    "# 사용 예시\n",
    "boram = Student(name='김보람', age=20, semester=1)\n",
    "print(boram)"
   ]
  },
  {
   "cell_type": "markdown",
   "id": "136b5b7c-4144-4e1b-be62-7e33ff6426b8",
   "metadata": {},
   "source": [
    "`(9)` 8의 클래스를 상속받아 Student2 만들라. `__add__` 재정의하여 Student2의 인스턴스가 아래와 같이 동작하도록 하라. "
   ]
  },
  {
   "cell_type": "code",
   "execution_count": 336,
   "id": "cdbbbc5c-5dc7-412e-a5bd-a45fdd5c47e3",
   "metadata": {},
   "outputs": [
    {
     "name": "stdout",
     "output_type": "stream",
     "text": [
      "입학을 축하합니다. 당신의 나이는 20이고 현재 학기는 0학기 입니다.\n"
     ]
    }
   ],
   "source": [
    "boram = Student2()"
   ]
  },
  {
   "cell_type": "code",
   "execution_count": 337,
   "id": "86c23d64-1333-410b-bcbc-072bdb1f7f49",
   "metadata": {},
   "outputs": [
    {
     "data": {
      "text/html": [
       "\n",
       "        나이: 22.0 <br/>\n",
       "        학기: 2 <br/>\n",
       "        "
      ],
      "text/plain": [
       "<__main__.Student2 at 0x7effa80586a0>"
      ]
     },
     "execution_count": 337,
     "metadata": {},
     "output_type": "execute_result"
    }
   ],
   "source": [
    "boram + '등록'+ '휴학' + '등록' + '휴학'\n",
    "boram"
   ]
  },
  {
   "cell_type": "markdown",
   "id": "eab3f80c-5270-4cba-8a92-163e92f50c02",
   "metadata": {},
   "source": [
    "> 4학기가 지났으므로 나이는 22살이 된다. 4학기중 2학기만 등록하였으므로 현재는 2학기를 마친상태이다. "
   ]
  },
  {
   "cell_type": "markdown",
   "id": "565bbc67-363d-4877-ac28-90513d51271c",
   "metadata": {},
   "source": [
    "`(풀이)`"
   ]
  },
  {
   "cell_type": "code",
   "execution_count": 333,
   "id": "ff1cb2a3-ed72-47cb-a9bd-533abec5db0a",
   "metadata": {},
   "outputs": [],
   "source": [
    "class Student2(Student):\n",
    "    def __init__(self,name='김보람',age=20,semester=0): \n",
    "        super().__init__()\n",
    "        print(\"입학을 축하합니다. 당신의 나이는 {}이고 현재 학기는 {}학기 입니다.\".format(self.age,self.semester))\n",
    "    def __add__(self,registration_status): \n",
    "        if registration_status=='휴학': \n",
    "            self.age=self.age+0.5\n",
    "        elif registration_status=='등록':\n",
    "            self.age=self.age+0.5 \n",
    "            self.semester= self.semester+1 \n",
    "        return self\n",
    "    def _repr_html_(self):\n",
    "        html_str = \"\"\"\n",
    "        나이: {} <br/>\n",
    "        학기: {} <br/>\n",
    "        \"\"\"\n",
    "        return html_str.format(self.age,self.semester)"
   ]
  },
  {
   "cell_type": "code",
   "execution_count": 334,
   "id": "4b0540b0-d5fd-4c74-99c4-19ed1691bcce",
   "metadata": {},
   "outputs": [
    {
     "name": "stdout",
     "output_type": "stream",
     "text": [
      "입학을 축하합니다. 당신의 나이는 20이고 현재 학기는 0학기 입니다.\n"
     ]
    }
   ],
   "source": [
    "boram = Student2()"
   ]
  },
  {
   "cell_type": "code",
   "execution_count": 335,
   "id": "f975154d-0d5f-4f29-81c2-a8415a34a72a",
   "metadata": {},
   "outputs": [
    {
     "data": {
      "text/html": [
       "\n",
       "        나이: 22.0 <br/>\n",
       "        학기: 2 <br/>\n",
       "        "
      ],
      "text/plain": [
       "<__main__.Student2 at 0x7effd421d670>"
      ]
     },
     "execution_count": 335,
     "metadata": {},
     "output_type": "execute_result"
    }
   ],
   "source": [
    "boram + '등록'+ '휴학' + '등록' + '휴학'\n",
    "boram"
   ]
  },
  {
   "cell_type": "markdown",
   "id": "6bd02022-cecb-4880-9e17-81e475ada450",
   "metadata": {},
   "source": [
    "`(10)` 적당한 클래스를 선언하여 $f(x)=x+{\\tt const}$를 수행하는 함수를 생성하도록 하라."
   ]
  },
  {
   "cell_type": "markdown",
   "id": "73ebd266-0b33-4431-adb9-82f034dc2699",
   "metadata": {},
   "source": [
    "**사용예시1**"
   ]
  },
  {
   "cell_type": "code",
   "execution_count": 265,
   "id": "0bada165-89ff-4735-ad32-7064ca4fab7a",
   "metadata": {},
   "outputs": [],
   "source": [
    "f = AddConstant(5) # f(x) = x+5 "
   ]
  },
  {
   "cell_type": "code",
   "execution_count": 266,
   "id": "50bd0e97-f4e7-419e-9cd4-97bde3a78f6d",
   "metadata": {},
   "outputs": [
    {
     "data": {
      "text/plain": [
       "15"
      ]
     },
     "execution_count": 266,
     "metadata": {},
     "output_type": "execute_result"
    }
   ],
   "source": [
    "f(10)"
   ]
  },
  {
   "cell_type": "markdown",
   "id": "853feb20-ca3b-46c8-80ce-2b9b2421365f",
   "metadata": {},
   "source": [
    "**사용예시2**"
   ]
  },
  {
   "cell_type": "code",
   "execution_count": 267,
   "id": "a2fab431-486d-413b-807c-eb0b216fe24b",
   "metadata": {},
   "outputs": [],
   "source": [
    "f = AddConstant(-3) # f(x) = x-3"
   ]
  },
  {
   "cell_type": "code",
   "execution_count": 268,
   "id": "e51199e0-f454-415e-b917-2f64e34c7d90",
   "metadata": {},
   "outputs": [
    {
     "data": {
      "text/plain": [
       "7"
      ]
     },
     "execution_count": 268,
     "metadata": {},
     "output_type": "execute_result"
    }
   ],
   "source": [
    "f(10)"
   ]
  },
  {
   "cell_type": "markdown",
   "id": "f4a177d8-f536-4c80-b6fa-a29584365fa0",
   "metadata": {},
   "source": [
    "`(풀이)`"
   ]
  },
  {
   "cell_type": "code",
   "execution_count": 264,
   "id": "247912c3-2293-4e92-8a81-fbe6a7a1bd79",
   "metadata": {},
   "outputs": [],
   "source": [
    "class AddConstant: \n",
    "    def __init__(self,const):\n",
    "        self.const = const \n",
    "    def __call__(self,x):\n",
    "        return x + self.const"
   ]
  },
  {
   "cell_type": "code",
   "execution_count": 269,
   "id": "6e5e9dc3-686f-48ae-b328-0c73ab208e7f",
   "metadata": {},
   "outputs": [
    {
     "data": {
      "text/plain": [
       "15"
      ]
     },
     "execution_count": 269,
     "metadata": {},
     "output_type": "execute_result"
    }
   ],
   "source": [
    "f = AddConstant(5) # f(x) = x+5 \n",
    "f(10)"
   ]
  },
  {
   "cell_type": "code",
   "execution_count": 270,
   "id": "17f159f4-8219-4d4d-8fc3-6fb4b42aa76c",
   "metadata": {},
   "outputs": [
    {
     "data": {
      "text/plain": [
       "7"
      ]
     },
     "execution_count": 270,
     "metadata": {},
     "output_type": "execute_result"
    }
   ],
   "source": [
    "f = AddConstant(-3) # f(x) = x-3\n",
    "f(10)"
   ]
  }
 ],
 "metadata": {
  "kernelspec": {
   "display_name": "Python 3",
   "language": "python",
   "name": "python3"
  },
  "language_info": {
   "codemirror_mode": {
    "name": "ipython",
    "version": 3
   },
   "file_extension": ".py",
   "mimetype": "text/x-python",
   "name": "python",
   "nbconvert_exporter": "python",
   "pygments_lexer": "ipython3",
   "version": "3.8.16"
  }
 },
 "nbformat": 4,
 "nbformat_minor": 5
}
