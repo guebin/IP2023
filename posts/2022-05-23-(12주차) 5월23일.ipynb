{
 "cells": [
  {
   "cell_type": "markdown",
   "id": "03003417-27d8-4963-b8ff-c090ce25ace7",
   "metadata": {
    "slideshow": {
     "slide_type": "slide"
    },
    "tags": []
   },
   "source": [
    "# (12주차) 5월23일\n",
    "> 클래스 공부 4단계\n",
    "\n",
    "- toc:true\n",
    "- branch: master\n",
    "- badges: true\n",
    "- comments: true\n",
    "- author: 최규빈"
   ]
  },
  {
   "cell_type": "markdown",
   "id": "5672f9f4-d57f-4c7d-8eb3-cdfb5071115a",
   "metadata": {},
   "source": [
    "## 강의영상 "
   ]
  },
  {
   "cell_type": "markdown",
   "id": "bbfa629a-e8ca-45b0-aeb7-5a14e531a04d",
   "metadata": {},
   "source": [
    "> youtube: https://youtube.com/playlist?list=PLQqh36zP38-yFD2egdVArP7O2A5r8s0Gz"
   ]
  },
  {
   "cell_type": "markdown",
   "id": "8e2821c0-468e-4e34-a294-684865b28897",
   "metadata": {},
   "source": [
    "`-` (1/4) motivating example\n",
    "\n",
    "`-` (2/4) `__str__`, 파이썬의 비밀2 \n",
    "\n",
    "`-` (3/4) `__repr__`, 파이썬의 비밀3 \n",
    "\n",
    "`-` (4/4) 주피터노트북의 비밀 (`_repr_html_`), `__repr__`와 `__str__`의 우선적용 순위"
   ]
  },
  {
   "cell_type": "markdown",
   "id": "2ed1bd61-cacc-462f-b58e-c6d79e11b4da",
   "metadata": {},
   "source": [
    "## imports"
   ]
  },
  {
   "cell_type": "code",
   "execution_count": 12,
   "id": "1de25c03-a912-4c0f-aa02-d446c0da1bdb",
   "metadata": {},
   "outputs": [],
   "source": [
    "import numpy as np"
   ]
  },
  {
   "cell_type": "markdown",
   "id": "e2ff7ae9-5b40-44c1-97b2-2fceb17a2ffc",
   "metadata": {},
   "source": [
    "## 클래스공부 4단계"
   ]
  },
  {
   "cell_type": "markdown",
   "id": "b0ef5554-03ba-425e-8281-574b4a63ddca",
   "metadata": {},
   "source": [
    "### Motivating Example"
   ]
  },
  {
   "cell_type": "markdown",
   "id": "5694d318-4e59-426c-b0d9-f1fb4c422eb2",
   "metadata": {},
   "source": [
    "`-` 가위바위보"
   ]
  },
  {
   "cell_type": "code",
   "execution_count": 13,
   "id": "230e5868-b43a-4e81-b0bb-0cb7c0bf3f53",
   "metadata": {},
   "outputs": [],
   "source": [
    "class RPS: \n",
    "    def __init__(self,candidate=['가위','바위','보']):\n",
    "        self.candidate = candidate\n",
    "    def throw(self):\n",
    "        print(np.random.choice(self.candidate))"
   ]
  },
  {
   "cell_type": "code",
   "execution_count": 14,
   "id": "08cebb3b-e0ee-46c2-9e40-5a5f723c3e28",
   "metadata": {},
   "outputs": [],
   "source": [
    "a=RPS() # __init__는 암묵적으로 실행"
   ]
  },
  {
   "cell_type": "code",
   "execution_count": 15,
   "id": "d49e49cc-0e07-45f6-a76a-47cd00fe2401",
   "metadata": {},
   "outputs": [
    {
     "name": "stdout",
     "output_type": "stream",
     "text": [
      "보\n"
     ]
    }
   ],
   "source": [
    "a.throw()"
   ]
  },
  {
   "cell_type": "markdown",
   "id": "5ff0b4e3-c638-4c89-a65a-0449d3b2341a",
   "metadata": {},
   "source": [
    "`-` 생각해보니까 throw는 choose + show 의 결합인것 같다. "
   ]
  },
  {
   "cell_type": "code",
   "execution_count": 16,
   "id": "36988ccc-e472-41a1-ba21-7dfe0de5d55f",
   "metadata": {},
   "outputs": [],
   "source": [
    "class RPS: ## 시점1\n",
    "    def __init__(self,candidate=['가위','바위','보']):\n",
    "        self.candidate = candidate\n",
    "    def choose(self):\n",
    "        self.actions = np.random.choice(self.candidate)\n",
    "    def show(self):\n",
    "        print(self.actions)"
   ]
  },
  {
   "cell_type": "code",
   "execution_count": 17,
   "id": "a36587b7-af46-4345-aeca-e89f7e585245",
   "metadata": {},
   "outputs": [],
   "source": [
    "a=RPS() ## 시점2"
   ]
  },
  {
   "cell_type": "code",
   "execution_count": 18,
   "id": "9e14fa06-d6b1-4117-8d90-2905a03420c0",
   "metadata": {},
   "outputs": [
    {
     "ename": "AttributeError",
     "evalue": "'RPS' object has no attribute 'actions'",
     "output_type": "error",
     "traceback": [
      "\u001b[0;31m---------------------------------------------------------------------------\u001b[0m",
      "\u001b[0;31mAttributeError\u001b[0m                            Traceback (most recent call last)",
      "\u001b[0;32m/tmp/ipykernel_410503/3398782843.py\u001b[0m in \u001b[0;36m<module>\u001b[0;34m\u001b[0m\n\u001b[0;32m----> 1\u001b[0;31m \u001b[0ma\u001b[0m\u001b[0;34m.\u001b[0m\u001b[0mactions\u001b[0m \u001b[0;31m## 시점3\u001b[0m\u001b[0;34m\u001b[0m\u001b[0;34m\u001b[0m\u001b[0m\n\u001b[0m",
      "\u001b[0;31mAttributeError\u001b[0m: 'RPS' object has no attribute 'actions'"
     ]
    }
   ],
   "source": [
    "a.actions ## 시점3"
   ]
  },
  {
   "cell_type": "code",
   "execution_count": 19,
   "id": "54f05874-d826-4367-9e95-42b794411fae",
   "metadata": {},
   "outputs": [],
   "source": [
    "a.choose() ## 시점4"
   ]
  },
  {
   "cell_type": "code",
   "execution_count": 20,
   "id": "02e36727-fa0a-4489-92d3-c23e9a2c7187",
   "metadata": {},
   "outputs": [
    {
     "data": {
      "text/plain": [
       "'바위'"
      ]
     },
     "execution_count": 20,
     "metadata": {},
     "output_type": "execute_result"
    }
   ],
   "source": [
    "a.actions ## 시점5 "
   ]
  },
  {
   "cell_type": "code",
   "execution_count": 21,
   "id": "26d7e0d7-feb0-4240-bb1a-c8d8706e9544",
   "metadata": {},
   "outputs": [
    {
     "name": "stdout",
     "output_type": "stream",
     "text": [
      "바위\n"
     ]
    }
   ],
   "source": [
    "a.show() ## 시점6"
   ]
  },
  {
   "cell_type": "markdown",
   "id": "6e338d81-ba8e-4b1d-b253-bb0f64ca7cca",
   "metadata": {},
   "source": [
    "***보충학습***: 위와 같은코드"
   ]
  },
  {
   "cell_type": "code",
   "execution_count": 22,
   "id": "320d36c0-63f0-4df3-b7ae-812d480a300a",
   "metadata": {},
   "outputs": [],
   "source": [
    "class _RPS: ## 시점1\n",
    "    pass # <- 이렇게하면 아무기능이 없는 비어있는 클래스가 정의된다 "
   ]
  },
  {
   "cell_type": "code",
   "execution_count": 23,
   "id": "1cb1db10-f570-4313-b00c-b46b4cef9462",
   "metadata": {},
   "outputs": [],
   "source": [
    "_a = _RPS() ## 시점2\n",
    "def _init(_a,candidate=['가위','바위','보']):\n",
    "    _a.candidate = candidate \n",
    "_init(_a)"
   ]
  },
  {
   "cell_type": "code",
   "execution_count": 24,
   "id": "54ba6d27-d0ba-4349-9fdc-8776b5f92235",
   "metadata": {},
   "outputs": [
    {
     "ename": "AttributeError",
     "evalue": "'_RPS' object has no attribute 'actions'",
     "output_type": "error",
     "traceback": [
      "\u001b[0;31m---------------------------------------------------------------------------\u001b[0m",
      "\u001b[0;31mAttributeError\u001b[0m                            Traceback (most recent call last)",
      "\u001b[0;32m/tmp/ipykernel_410503/1882391892.py\u001b[0m in \u001b[0;36m<module>\u001b[0;34m\u001b[0m\n\u001b[0;32m----> 1\u001b[0;31m \u001b[0m_a\u001b[0m\u001b[0;34m.\u001b[0m\u001b[0mactions\u001b[0m \u001b[0;31m## 시점3\u001b[0m\u001b[0;34m\u001b[0m\u001b[0;34m\u001b[0m\u001b[0m\n\u001b[0m",
      "\u001b[0;31mAttributeError\u001b[0m: '_RPS' object has no attribute 'actions'"
     ]
    }
   ],
   "source": [
    "_a.actions ## 시점3"
   ]
  },
  {
   "cell_type": "code",
   "execution_count": 25,
   "id": "2326bec6-cf92-4a04-b3da-a4875f622a80",
   "metadata": {},
   "outputs": [],
   "source": [
    "def _choose(_a): ## 시점4\n",
    "    _a.actions = np.random.choice(_a.candidate)\n",
    "_choose(_a)"
   ]
  },
  {
   "cell_type": "code",
   "execution_count": 26,
   "id": "8d42046c-83fa-4e80-a5f1-7359cd44bc12",
   "metadata": {},
   "outputs": [
    {
     "data": {
      "text/plain": [
       "'바위'"
      ]
     },
     "execution_count": 26,
     "metadata": {},
     "output_type": "execute_result"
    }
   ],
   "source": [
    "_a.actions ## 시점5"
   ]
  },
  {
   "cell_type": "code",
   "execution_count": 27,
   "id": "32fafddc-805a-4c0b-bb59-5c666024e3b4",
   "metadata": {},
   "outputs": [
    {
     "name": "stdout",
     "output_type": "stream",
     "text": [
      "바위\n"
     ]
    }
   ],
   "source": [
    "def _show(_a): ## 시점6\n",
    "    print(_a.actions)\n",
    "_show(_a)"
   ]
  },
  {
   "cell_type": "markdown",
   "id": "5f464d9f-8dd8-4edd-a4af-538fc8da6484",
   "metadata": {},
   "source": [
    "`-` 또 다른 인스턴스 b를 만들자. b는 가위만 낼 수 있다. "
   ]
  },
  {
   "cell_type": "code",
   "execution_count": 28,
   "id": "dcb8f022-a329-401b-a007-1af5506724f7",
   "metadata": {},
   "outputs": [],
   "source": [
    "b=RPS(['가위'])"
   ]
  },
  {
   "cell_type": "code",
   "execution_count": 29,
   "id": "14a09544-ed36-4bd2-8b52-219ae63c357f",
   "metadata": {},
   "outputs": [
    {
     "data": {
      "text/plain": [
       "['가위']"
      ]
     },
     "execution_count": 29,
     "metadata": {},
     "output_type": "execute_result"
    }
   ],
   "source": [
    "b.candidate"
   ]
  },
  {
   "cell_type": "code",
   "execution_count": 30,
   "id": "e95fd404-9b39-48b8-9702-b826580fe2c7",
   "metadata": {},
   "outputs": [
    {
     "name": "stdout",
     "output_type": "stream",
     "text": [
      "가위\n"
     ]
    }
   ],
   "source": [
    "b.choose()\n",
    "b.show()"
   ]
  },
  {
   "cell_type": "markdown",
   "id": "f9db90ca-0f73-4ba1-950a-abbd7bd6b1ab",
   "metadata": {},
   "source": [
    "`-` a,b의 선택들을 모아서 기록을 하고 싶다. "
   ]
  },
  {
   "cell_type": "code",
   "execution_count": 31,
   "id": "3b891854-81af-4a21-8edb-6d6f621a4730",
   "metadata": {},
   "outputs": [],
   "source": [
    "class RPS:\n",
    "    def __init__(self,candidate=['가위','바위','보']):\n",
    "        self.candidate = candidate\n",
    "        self.actions = list() \n",
    "    def choose(self):\n",
    "        self.actions.append(np.random.choice(self.candidate))\n",
    "    def show(self):\n",
    "        print(self.actions[-1])"
   ]
  },
  {
   "cell_type": "code",
   "execution_count": 32,
   "id": "ca9e6461-b03d-4300-9d6f-c27443b49902",
   "metadata": {},
   "outputs": [],
   "source": [
    "a=RPS()\n",
    "b=RPS(['가위'])"
   ]
  },
  {
   "cell_type": "code",
   "execution_count": 33,
   "id": "adbefee7-9c06-4cb0-846e-3efc969671d7",
   "metadata": {},
   "outputs": [
    {
     "name": "stdout",
     "output_type": "stream",
     "text": [
      "가위\n",
      "보\n",
      "보\n",
      "바위\n",
      "가위\n"
     ]
    }
   ],
   "source": [
    "for i in range(5):\n",
    "    a.choose()\n",
    "    a.show()"
   ]
  },
  {
   "cell_type": "code",
   "execution_count": 34,
   "id": "38fc21db-0245-4ee9-9943-03dc6c29a033",
   "metadata": {},
   "outputs": [
    {
     "data": {
      "text/plain": [
       "['가위', '보', '보', '바위', '가위']"
      ]
     },
     "execution_count": 34,
     "metadata": {},
     "output_type": "execute_result"
    }
   ],
   "source": [
    "a.actions"
   ]
  },
  {
   "cell_type": "code",
   "execution_count": 35,
   "id": "313082bb-7f14-4498-8439-3296644e391c",
   "metadata": {},
   "outputs": [
    {
     "name": "stdout",
     "output_type": "stream",
     "text": [
      "가위\n",
      "가위\n",
      "가위\n",
      "가위\n",
      "가위\n"
     ]
    }
   ],
   "source": [
    "for i in range(5):\n",
    "    b.choose()\n",
    "    b.show()"
   ]
  },
  {
   "cell_type": "code",
   "execution_count": 36,
   "id": "547bf452-225d-47a1-9410-314d344ba2c7",
   "metadata": {},
   "outputs": [
    {
     "data": {
      "text/plain": [
       "['가위', '가위', '가위', '가위', '가위']"
      ]
     },
     "execution_count": 36,
     "metadata": {},
     "output_type": "execute_result"
    }
   ],
   "source": [
    "b.actions"
   ]
  },
  {
   "cell_type": "markdown",
   "id": "f4881c6f-a631-412a-bdce-00a58669e8a3",
   "metadata": {},
   "source": [
    "`-` info라는 함수를 만들어서 a,b 오브젝트가 가지고 있는 정보를 모두 보도록 하자. "
   ]
  },
  {
   "cell_type": "markdown",
   "id": "c2c2f666-5b53-44a5-89f0-c26b04e1f8ef",
   "metadata": {},
   "source": [
    "(예비학습) 문자열 `\\n`이 포함된다면?"
   ]
  },
  {
   "cell_type": "code",
   "execution_count": 37,
   "id": "94f60cd5-a497-46f7-97cc-4dc38f859da4",
   "metadata": {},
   "outputs": [
    {
     "data": {
      "text/plain": [
       "'asdf\\n1234'"
      ]
     },
     "execution_count": 37,
     "metadata": {},
     "output_type": "execute_result"
    }
   ],
   "source": [
    "'asdf\\n1234'"
   ]
  },
  {
   "cell_type": "code",
   "execution_count": 38,
   "id": "a2e365d2-a37c-4a72-813a-ab5628e733fe",
   "metadata": {},
   "outputs": [
    {
     "name": "stdout",
     "output_type": "stream",
     "text": [
      "asdf\n",
      "1234\n"
     ]
    }
   ],
   "source": [
    "print('asdf\\n1234')"
   ]
  },
  {
   "cell_type": "markdown",
   "id": "a975efcc-7156-435a-baa4-e34f82a3ecc8",
   "metadata": {},
   "source": [
    "예비학습 끝"
   ]
  },
  {
   "cell_type": "code",
   "execution_count": 39,
   "id": "28d87b79-ecf0-4e58-beb0-4b0c19dc4a43",
   "metadata": {},
   "outputs": [],
   "source": [
    "class RPS: \n",
    "    def __init__(self,candidate=['가위','바위','보']):\n",
    "        self.candidate = candidate\n",
    "        self.actions = list() \n",
    "    def choose(self):\n",
    "        self.actions.append(np.random.choice(self.candidate))\n",
    "    def show(self):\n",
    "        print(self.actions[-1])\n",
    "    def info(self):\n",
    "        print(\"낼 수 있는 패: {}\\n기록: {}\".format(self.candidate,self.actions))"
   ]
  },
  {
   "cell_type": "code",
   "execution_count": 40,
   "id": "4e2d801d-bb58-411e-8f7f-077b3a9a2318",
   "metadata": {},
   "outputs": [],
   "source": [
    "a=RPS()\n",
    "b=RPS(['가위'])"
   ]
  },
  {
   "cell_type": "code",
   "execution_count": 41,
   "id": "379bf1d7-b401-47f0-8300-8ab577c4812f",
   "metadata": {},
   "outputs": [
    {
     "name": "stdout",
     "output_type": "stream",
     "text": [
      "가위\n",
      "바위\n",
      "가위\n",
      "바위\n",
      "바위\n"
     ]
    }
   ],
   "source": [
    "for i in range(5):\n",
    "    a.choose()\n",
    "    a.show()    "
   ]
  },
  {
   "cell_type": "code",
   "execution_count": 42,
   "id": "3234d721-e37e-4d2c-adf9-d1a0b15f0ef6",
   "metadata": {},
   "outputs": [
    {
     "name": "stdout",
     "output_type": "stream",
     "text": [
      "가위\n",
      "가위\n",
      "가위\n",
      "가위\n",
      "가위\n"
     ]
    }
   ],
   "source": [
    "for i in range(5):\n",
    "    b.choose()\n",
    "    b.show()"
   ]
  },
  {
   "cell_type": "code",
   "execution_count": 43,
   "id": "d996add0-7f9a-4b7c-a301-d629ec61f8d1",
   "metadata": {},
   "outputs": [
    {
     "name": "stdout",
     "output_type": "stream",
     "text": [
      "낼 수 있는 패: ['가위', '바위', '보']\n",
      "기록: ['가위', '바위', '가위', '바위', '바위']\n"
     ]
    }
   ],
   "source": [
    "a.info()"
   ]
  },
  {
   "cell_type": "code",
   "execution_count": 44,
   "id": "9356118f-5e8c-4c59-afcf-80a6c431a82f",
   "metadata": {},
   "outputs": [
    {
     "name": "stdout",
     "output_type": "stream",
     "text": [
      "낼 수 있는 패: ['가위']\n",
      "기록: ['가위', '가위', '가위', '가위', '가위']\n"
     ]
    }
   ],
   "source": [
    "b.info()"
   ]
  },
  {
   "cell_type": "markdown",
   "id": "6a2337af-c7a7-45c2-b282-964c800b5794",
   "metadata": {},
   "source": [
    "`-` 만들고보니까 info와 print의 기능이 거의 비슷함 $\\to$ print(a)를 하면 a.info()와 동일한 효과를 내도록 만들 수 있을까? "
   ]
  },
  {
   "cell_type": "markdown",
   "id": "ac4b78a7-7345-4e6d-a6ba-3d19c6f67e03",
   "metadata": {},
   "source": [
    "`-` 말도 안되는 소리같다. 왜? \n",
    "- 이유1: print는 파이썬 내장기능, 내장기능을 우리가 맘대로 커스터마이징해서 쓰기는 어려울 것 같다. \n",
    "- 이유2: 이유1이 해결된다고 쳐도 문제다. 그럼 지금까지 우리가 사용했던 수 많은 print()의 결과는 어떻게 되는가? "
   ]
  },
  {
   "cell_type": "markdown",
   "id": "9e6b3443-8f01-439a-8e08-b89363355f42",
   "metadata": {},
   "source": [
    "`-` 그런데 a의 자료형(RPS자료형)에 해당하는 오브젝트들에 한정하여 print를 수정하는 방법이 가능하다면? (그럼 다른 오브젝트들은 수정된 print에 영향을 받지 않음)"
   ]
  },
  {
   "cell_type": "markdown",
   "id": "eea530e6-c0bd-4ead-a287-5177e3fd6a14",
   "metadata": {},
   "source": [
    "### `__str__`"
   ]
  },
  {
   "cell_type": "markdown",
   "id": "9801bfa9-8ffe-424a-a936-2f5e430c382e",
   "metadata": {},
   "source": [
    "`-` 관찰1: 현재 print(a)의 결과는 아래와 같다. "
   ]
  },
  {
   "cell_type": "code",
   "execution_count": 45,
   "id": "426a151c-f996-488b-8112-36e8394e405d",
   "metadata": {},
   "outputs": [
    {
     "name": "stdout",
     "output_type": "stream",
     "text": [
      "<__main__.RPS object at 0x7f091837a550>\n"
     ]
    }
   ],
   "source": [
    "print(a)"
   ]
  },
  {
   "cell_type": "markdown",
   "id": "eb3837d4-a6c2-4028-9d0e-6cb05a00549e",
   "metadata": {},
   "source": [
    "- a는 RPS클래스에서 만든 오브젝트이며 a가 저장된 메모리 주소는 0x7fef32fef8b0라는 의미"
   ]
  },
  {
   "cell_type": "markdown",
   "id": "a2b80530-f77b-4a23-940f-30a1686c61d8",
   "metadata": {},
   "source": [
    "`-` 관찰2: a에는 `__str__`이 있다. "
   ]
  },
  {
   "cell_type": "code",
   "execution_count": 46,
   "id": "f62e5487-c8e0-4008-8b36-e3efa5ca050c",
   "metadata": {},
   "outputs": [
    {
     "data": {
      "text/plain": [
       "{'__str__'}"
      ]
     },
     "execution_count": 46,
     "metadata": {},
     "output_type": "execute_result"
    }
   ],
   "source": [
    "set(dir(a)) & {'__str__'}"
   ]
  },
  {
   "cell_type": "markdown",
   "id": "071d86ff-5766-4507-abcc-121f460589bf",
   "metadata": {},
   "source": [
    "이것을 함수처럼 사용하니까 아래와 같이 된다. "
   ]
  },
  {
   "cell_type": "code",
   "execution_count": 47,
   "id": "5bbbef6e-2678-41c0-8020-0d1dbf507558",
   "metadata": {},
   "outputs": [
    {
     "data": {
      "text/plain": [
       "'<__main__.RPS object at 0x7f091837a550>'"
      ]
     },
     "execution_count": 47,
     "metadata": {},
     "output_type": "execute_result"
    }
   ],
   "source": [
    "a.__str__()"
   ]
  },
  {
   "cell_type": "markdown",
   "id": "556e7929-d190-4399-aad8-b90acde4a23a",
   "metadata": {},
   "source": [
    "?? print(a)를 해서 나오는 문자열이 리턴된다.. "
   ]
  },
  {
   "cell_type": "code",
   "execution_count": 48,
   "id": "6863033a-e727-460a-9744-b8206a885df2",
   "metadata": {},
   "outputs": [
    {
     "name": "stdout",
     "output_type": "stream",
     "text": [
      "<__main__.RPS object at 0x7f091837a550>\n"
     ]
    }
   ],
   "source": [
    "print(a.__str__()) # 이거 print(a)를 실행한 결과와 같다?"
   ]
  },
  {
   "cell_type": "markdown",
   "id": "16a60ffc-e183-4c8a-8f5f-a7e5b07dbe49",
   "metadata": {},
   "source": [
    "`-` 생각: 만약에 내가 `a.__str__()`라는 함수를 재정의하여 리턴값을 'guebin hahaha'로 바꾸게 되면 print(a)해서 나오는 결과는 어떻게 될까? (약간 해커같죠)"
   ]
  },
  {
   "cell_type": "markdown",
   "id": "8d3bb4b3-7d5e-46da-8578-6f348a084117",
   "metadata": {},
   "source": [
    "(예비학습) 함수덮어씌우기"
   ]
  },
  {
   "cell_type": "code",
   "execution_count": 49,
   "id": "b92a20f5-1867-4d2f-9b1b-9ff1dedcac8d",
   "metadata": {},
   "outputs": [],
   "source": [
    "def f():\n",
    "    print('asdf')"
   ]
  },
  {
   "cell_type": "code",
   "execution_count": 50,
   "id": "c31b52f1-c9b7-4515-9092-90d5f8d64a4f",
   "metadata": {},
   "outputs": [
    {
     "name": "stdout",
     "output_type": "stream",
     "text": [
      "asdf\n"
     ]
    }
   ],
   "source": [
    "f()"
   ]
  },
  {
   "cell_type": "code",
   "execution_count": 51,
   "id": "acd19ebd-a3e7-4a71-a1fd-ab4cf3610e54",
   "metadata": {},
   "outputs": [],
   "source": [
    "def f():\n",
    "    print('guebin hahaha')"
   ]
  },
  {
   "cell_type": "code",
   "execution_count": 52,
   "id": "d5f46285-56da-45f4-8c9a-020883aa0ac2",
   "metadata": {},
   "outputs": [
    {
     "name": "stdout",
     "output_type": "stream",
     "text": [
      "guebin hahaha\n"
     ]
    }
   ],
   "source": [
    "f()"
   ]
  },
  {
   "cell_type": "markdown",
   "id": "abe0e1c8-dbc2-415e-b966-f5c5d11a0b46",
   "metadata": {},
   "source": [
    "이런식으로 함수가 이미 정의되어 있더라도, 내가 나중에 덮어씌우면 그 함수의 기능을 다시 정의한다. "
   ]
  },
  {
   "cell_type": "markdown",
   "id": "92598d67-c4d2-4b93-89df-a878623fc314",
   "metadata": {},
   "source": [
    "(해킹시작)"
   ]
  },
  {
   "cell_type": "code",
   "execution_count": 53,
   "id": "fa98d2b0-5a97-4d71-b943-c5e81ddeb930",
   "metadata": {},
   "outputs": [],
   "source": [
    "class RPS: \n",
    "    def __init__(self,candidate=['가위','바위','보']):\n",
    "        self.candidate = candidate\n",
    "        self.actions = list() \n",
    "    def choose(self):\n",
    "        self.actions.append(np.random.choice(self.candidate))\n",
    "    def show(self):\n",
    "        print(self.actions[-1])\n",
    "    def __str__(self):\n",
    "        return 'guebin hahaha'\n",
    "    def info(self):\n",
    "        print(\"낼 수 있는 패: {}\\n기록: {}\".format(self.candidate,self.actions))"
   ]
  },
  {
   "cell_type": "code",
   "execution_count": 54,
   "id": "5cc38d1b-d9dc-4b70-915b-cca73a817bf6",
   "metadata": {},
   "outputs": [],
   "source": [
    "a=RPS()"
   ]
  },
  {
   "cell_type": "code",
   "execution_count": 55,
   "id": "ed055ff8-23a5-40a2-87f0-4b6d085a3828",
   "metadata": {},
   "outputs": [
    {
     "name": "stdout",
     "output_type": "stream",
     "text": [
      "guebin hahaha\n"
     ]
    }
   ],
   "source": [
    "print(a)"
   ]
  },
  {
   "cell_type": "code",
   "execution_count": 56,
   "id": "ab474b67-7ae5-487b-b37c-bf6270666295",
   "metadata": {},
   "outputs": [
    {
     "name": "stdout",
     "output_type": "stream",
     "text": [
      "guebin hahaha\n"
     ]
    }
   ],
   "source": [
    "print(a.__str__())"
   ]
  },
  {
   "cell_type": "markdown",
   "id": "15874a2c-d33f-431f-af80-c08336f5e932",
   "metadata": {},
   "source": [
    "`-` `__str__`의 리턴값을 info에서 타이핑했던 문자열로 재정의한다면? "
   ]
  },
  {
   "cell_type": "code",
   "execution_count": 57,
   "id": "dca15743-0574-426e-bbde-827a34d8e8cd",
   "metadata": {},
   "outputs": [],
   "source": [
    "class RPS: \n",
    "    def __init__(self,candidate=['가위','바위','보']):\n",
    "        self.candidate = candidate\n",
    "        self.actions = list() \n",
    "    def choose(self):\n",
    "        self.actions.append(np.random.choice(self.candidate))\n",
    "    def show(self):\n",
    "        print(self.actions[-1])\n",
    "    def __str__(self):\n",
    "        return \"낼 수 있는 패: {}\\n기록: {}\".format(self.candidate,self.actions)"
   ]
  },
  {
   "cell_type": "code",
   "execution_count": 58,
   "id": "f999975d-d5e2-4e6b-85d8-7ca29fc41f6c",
   "metadata": {},
   "outputs": [],
   "source": [
    "a=RPS()"
   ]
  },
  {
   "cell_type": "code",
   "execution_count": 59,
   "id": "0298dc8b-07cc-46b2-a64c-673e7398ecb1",
   "metadata": {},
   "outputs": [
    {
     "name": "stdout",
     "output_type": "stream",
     "text": [
      "낼 수 있는 패: ['가위', '바위', '보']\n",
      "기록: []\n"
     ]
    }
   ],
   "source": [
    "print(a)"
   ]
  },
  {
   "cell_type": "code",
   "execution_count": 60,
   "id": "861189ae-4eb9-4739-9114-dd46c78b4a77",
   "metadata": {},
   "outputs": [
    {
     "name": "stdout",
     "output_type": "stream",
     "text": [
      "보\n"
     ]
    }
   ],
   "source": [
    "a.choose()\n",
    "a.show()"
   ]
  },
  {
   "cell_type": "code",
   "execution_count": 61,
   "id": "70bb9b57-31e7-4278-afa8-86791549b42a",
   "metadata": {},
   "outputs": [
    {
     "name": "stdout",
     "output_type": "stream",
     "text": [
      "낼 수 있는 패: ['가위', '바위', '보']\n",
      "기록: ['보']\n"
     ]
    }
   ],
   "source": [
    "print(a)"
   ]
  },
  {
   "cell_type": "markdown",
   "id": "85f8594a-3370-48b4-8f5f-6b5837d3790a",
   "metadata": {},
   "source": [
    "### 파이썬의 비밀2"
   ]
  },
  {
   "cell_type": "markdown",
   "id": "ff0665bc-2558-44c8-9082-53c068170c4d",
   "metadata": {},
   "source": [
    "`-` `print(a)`와 `print(a.__str__())`는 같은 문법이다. "
   ]
  },
  {
   "cell_type": "markdown",
   "id": "1efe8a6c-6433-41fd-800b-41e5f36c59fd",
   "metadata": {},
   "source": [
    "`-` 참고로 `a.__str__()`와 `str(a)`도 같은 문법이다. "
   ]
  },
  {
   "cell_type": "code",
   "execution_count": 62,
   "id": "4a773778-6814-49b7-a663-10745345bb06",
   "metadata": {},
   "outputs": [
    {
     "data": {
      "text/plain": [
       "\"낼 수 있는 패: ['가위', '바위', '보']\\n기록: ['보']\""
      ]
     },
     "execution_count": 62,
     "metadata": {},
     "output_type": "execute_result"
    }
   ],
   "source": [
    "a.__str__()"
   ]
  },
  {
   "cell_type": "code",
   "execution_count": 63,
   "id": "b7b6ab09-571c-4dd7-b54d-0c52febaad70",
   "metadata": {},
   "outputs": [
    {
     "data": {
      "text/plain": [
       "\"낼 수 있는 패: ['가위', '바위', '보']\\n기록: ['보']\""
      ]
     },
     "execution_count": 63,
     "metadata": {},
     "output_type": "execute_result"
    }
   ],
   "source": [
    "str(a)"
   ]
  },
  {
   "cell_type": "markdown",
   "id": "98965999-57db-4325-9d1d-9a9f52172ecf",
   "metadata": {},
   "source": [
    "`-` 지금까지 우리가 썼던 기능들 확인!"
   ]
  },
  {
   "cell_type": "markdown",
   "id": "4adb175d-1a2b-40af-aaba-82276e546339",
   "metadata": {},
   "source": [
    "(예제1)"
   ]
  },
  {
   "cell_type": "code",
   "execution_count": 64,
   "id": "09479b1a-3acd-4941-9cbd-71696a6c575d",
   "metadata": {},
   "outputs": [],
   "source": [
    "a=[1,2,3]"
   ]
  },
  {
   "cell_type": "code",
   "execution_count": 65,
   "id": "9a65e349-d644-442f-add2-1bd7ae109ae3",
   "metadata": {},
   "outputs": [
    {
     "name": "stdout",
     "output_type": "stream",
     "text": [
      "[1, 2, 3]\n"
     ]
    }
   ],
   "source": [
    "print(a)"
   ]
  },
  {
   "cell_type": "code",
   "execution_count": 66,
   "id": "bfbb45b2-da32-4357-bd1e-b87e74997dc8",
   "metadata": {},
   "outputs": [
    {
     "data": {
      "text/plain": [
       "'[1, 2, 3]'"
      ]
     },
     "execution_count": 66,
     "metadata": {},
     "output_type": "execute_result"
    }
   ],
   "source": [
    "a.__str__()"
   ]
  },
  {
   "cell_type": "code",
   "execution_count": 67,
   "id": "fd5fd0a5-326c-4f06-80e5-9300ffe22f87",
   "metadata": {},
   "outputs": [
    {
     "data": {
      "text/plain": [
       "'[1, 2, 3]'"
      ]
     },
     "execution_count": 67,
     "metadata": {},
     "output_type": "execute_result"
    }
   ],
   "source": [
    "str(a)"
   ]
  },
  {
   "cell_type": "markdown",
   "id": "7f7fbd6e-0b36-4cee-adbf-9fb638ab9321",
   "metadata": {},
   "source": [
    "(예제2)"
   ]
  },
  {
   "cell_type": "code",
   "execution_count": 68,
   "id": "288f9aa1-6f40-460c-9448-a4ac08751bf7",
   "metadata": {},
   "outputs": [
    {
     "name": "stdout",
     "output_type": "stream",
     "text": [
      "{1, 2, 3}\n"
     ]
    }
   ],
   "source": [
    "a={1,2,3}\n",
    "print(a)"
   ]
  },
  {
   "cell_type": "code",
   "execution_count": 69,
   "id": "15ac99ae-14d9-4323-b30b-879972f00d54",
   "metadata": {},
   "outputs": [
    {
     "data": {
      "text/plain": [
       "'{1, 2, 3}'"
      ]
     },
     "execution_count": 69,
     "metadata": {},
     "output_type": "execute_result"
    }
   ],
   "source": [
    "a.__str__()"
   ]
  },
  {
   "cell_type": "code",
   "execution_count": 70,
   "id": "127a4135-326d-44b9-8b21-f44b7a362122",
   "metadata": {},
   "outputs": [
    {
     "data": {
      "text/plain": [
       "'{1, 2, 3}'"
      ]
     },
     "execution_count": 70,
     "metadata": {},
     "output_type": "execute_result"
    }
   ],
   "source": [
    "str(a)"
   ]
  },
  {
   "cell_type": "markdown",
   "id": "79ee97bd-0b6b-4f1e-b77b-bf4ce1ad71ac",
   "metadata": {},
   "source": [
    "(예제3)"
   ]
  },
  {
   "cell_type": "code",
   "execution_count": 71,
   "id": "84a6555d-ec40-4cbf-a94c-6095055a6789",
   "metadata": {},
   "outputs": [
    {
     "data": {
      "text/plain": [
       "()"
      ]
     },
     "execution_count": 71,
     "metadata": {},
     "output_type": "execute_result"
    }
   ],
   "source": [
    "a=np.array(1)\n",
    "a.shape"
   ]
  },
  {
   "cell_type": "code",
   "execution_count": 72,
   "id": "c3aa22fb-dcb8-40e1-9755-23a4f40d638e",
   "metadata": {},
   "outputs": [
    {
     "name": "stdout",
     "output_type": "stream",
     "text": [
      "()\n"
     ]
    }
   ],
   "source": [
    "print(a.shape)"
   ]
  },
  {
   "cell_type": "code",
   "execution_count": 73,
   "id": "5ca86282-605e-48be-9c3b-5b9c6a4bc24c",
   "metadata": {},
   "outputs": [
    {
     "data": {
      "text/plain": [
       "'()'"
      ]
     },
     "execution_count": 73,
     "metadata": {},
     "output_type": "execute_result"
    }
   ],
   "source": [
    "a.shape.__str__()"
   ]
  },
  {
   "cell_type": "code",
   "execution_count": 74,
   "id": "681b0503-6cac-46b1-8cd4-430656c83bb9",
   "metadata": {},
   "outputs": [
    {
     "data": {
      "text/plain": [
       "'()'"
      ]
     },
     "execution_count": 74,
     "metadata": {},
     "output_type": "execute_result"
    }
   ],
   "source": [
    "str(a.shape)"
   ]
  },
  {
   "cell_type": "markdown",
   "id": "0787f4be-3bd4-48ff-ae8a-f7be37103b11",
   "metadata": {},
   "source": [
    "(예제4)"
   ]
  },
  {
   "cell_type": "code",
   "execution_count": 75,
   "id": "e6192fd3-fee5-4572-a259-eb5065f5a751",
   "metadata": {},
   "outputs": [
    {
     "name": "stdout",
     "output_type": "stream",
     "text": [
      "range(0, 10)\n"
     ]
    }
   ],
   "source": [
    "a=range(10) \n",
    "print(a)"
   ]
  },
  {
   "cell_type": "code",
   "execution_count": 76,
   "id": "8d530992-0a9e-4629-a27d-e2d873d21ce0",
   "metadata": {},
   "outputs": [
    {
     "data": {
      "text/plain": [
       "'range(0, 10)'"
      ]
     },
     "execution_count": 76,
     "metadata": {},
     "output_type": "execute_result"
    }
   ],
   "source": [
    "a.__str__()"
   ]
  },
  {
   "cell_type": "code",
   "execution_count": 77,
   "id": "464d261f-22fb-468b-bdbf-df1bed047364",
   "metadata": {},
   "outputs": [
    {
     "data": {
      "text/plain": [
       "'range(0, 10)'"
      ]
     },
     "execution_count": 77,
     "metadata": {},
     "output_type": "execute_result"
    }
   ],
   "source": [
    "str(a)"
   ]
  },
  {
   "cell_type": "markdown",
   "id": "65aee2dd-85eb-4e9b-9c1d-33d296540aa1",
   "metadata": {},
   "source": [
    "(예제5)"
   ]
  },
  {
   "cell_type": "code",
   "execution_count": 78,
   "id": "ecc96019-4be7-46cb-a09f-030f063c2d94",
   "metadata": {},
   "outputs": [
    {
     "name": "stdout",
     "output_type": "stream",
     "text": [
      "[[ 0  1  2  3  4  5  6  7  8  9]\n",
      " [10 11 12 13 14 15 16 17 18 19]\n",
      " [20 21 22 23 24 25 26 27 28 29]\n",
      " [30 31 32 33 34 35 36 37 38 39]\n",
      " [40 41 42 43 44 45 46 47 48 49]\n",
      " [50 51 52 53 54 55 56 57 58 59]\n",
      " [60 61 62 63 64 65 66 67 68 69]\n",
      " [70 71 72 73 74 75 76 77 78 79]\n",
      " [80 81 82 83 84 85 86 87 88 89]\n",
      " [90 91 92 93 94 95 96 97 98 99]]\n"
     ]
    }
   ],
   "source": [
    "a = np.arange(100).reshape(10,10)\n",
    "print(a)"
   ]
  },
  {
   "cell_type": "code",
   "execution_count": 79,
   "id": "a21bb91a-eaa9-4242-81e7-0014eeed307b",
   "metadata": {},
   "outputs": [
    {
     "data": {
      "text/plain": [
       "'[[ 0  1  2  3  4  5  6  7  8  9]\\n [10 11 12 13 14 15 16 17 18 19]\\n [20 21 22 23 24 25 26 27 28 29]\\n [30 31 32 33 34 35 36 37 38 39]\\n [40 41 42 43 44 45 46 47 48 49]\\n [50 51 52 53 54 55 56 57 58 59]\\n [60 61 62 63 64 65 66 67 68 69]\\n [70 71 72 73 74 75 76 77 78 79]\\n [80 81 82 83 84 85 86 87 88 89]\\n [90 91 92 93 94 95 96 97 98 99]]'"
      ]
     },
     "execution_count": 79,
     "metadata": {},
     "output_type": "execute_result"
    }
   ],
   "source": [
    "a.__str__()"
   ]
  },
  {
   "cell_type": "code",
   "execution_count": 80,
   "id": "9f9993e6-c123-4a3d-8d3a-f17f17f4aac3",
   "metadata": {},
   "outputs": [
    {
     "data": {
      "text/plain": [
       "'[[ 0  1  2  3  4  5  6  7  8  9]\\n [10 11 12 13 14 15 16 17 18 19]\\n [20 21 22 23 24 25 26 27 28 29]\\n [30 31 32 33 34 35 36 37 38 39]\\n [40 41 42 43 44 45 46 47 48 49]\\n [50 51 52 53 54 55 56 57 58 59]\\n [60 61 62 63 64 65 66 67 68 69]\\n [70 71 72 73 74 75 76 77 78 79]\\n [80 81 82 83 84 85 86 87 88 89]\\n [90 91 92 93 94 95 96 97 98 99]]'"
      ]
     },
     "execution_count": 80,
     "metadata": {},
     "output_type": "execute_result"
    }
   ],
   "source": [
    "str(a)"
   ]
  },
  {
   "cell_type": "markdown",
   "id": "b924513d-697f-4893-9f64-d4778f20191a",
   "metadata": {},
   "source": [
    "### `__repr__`"
   ]
  },
  {
   "cell_type": "markdown",
   "id": "dfc1dc66-46a7-49bc-b36e-45689296dc64",
   "metadata": {},
   "source": [
    "`-` 생각해보니까 print를 해서 우리가 원하는 정보를 확인하는건 아니었음 "
   ]
  },
  {
   "cell_type": "code",
   "execution_count": 81,
   "id": "aa0eac9f-d4f4-401c-af8c-1df7367a6339",
   "metadata": {},
   "outputs": [],
   "source": [
    "a=[1,2,3]"
   ]
  },
  {
   "cell_type": "code",
   "execution_count": 82,
   "id": "699af803-0337-473d-96bf-40290809432b",
   "metadata": {},
   "outputs": [
    {
     "data": {
      "text/plain": [
       "[1, 2, 3]"
      ]
     },
     "execution_count": 82,
     "metadata": {},
     "output_type": "execute_result"
    }
   ],
   "source": [
    "a"
   ]
  },
  {
   "cell_type": "code",
   "execution_count": 83,
   "id": "7fb3ec8d-77d8-4565-a00f-410416612ff1",
   "metadata": {},
   "outputs": [
    {
     "name": "stdout",
     "output_type": "stream",
     "text": [
      "[1, 2, 3]\n"
     ]
    }
   ],
   "source": [
    "print(a) "
   ]
  },
  {
   "cell_type": "markdown",
   "id": "05b0d35a-00fe-42e3-986b-f88b205613ad",
   "metadata": {},
   "source": [
    "`-` `a + 엔터`는 `print(a) + 엔터`와 같은효과인가? "
   ]
  },
  {
   "cell_type": "markdown",
   "id": "0b259da3-1beb-47aa-8201-63d854e12fb1",
   "metadata": {},
   "source": [
    "(반례)"
   ]
  },
  {
   "cell_type": "code",
   "execution_count": 84,
   "id": "7708cb84-1794-424d-9a02-01e27da9f629",
   "metadata": {},
   "outputs": [],
   "source": [
    "a=np.array([1,2,3,4]).reshape(2,2)"
   ]
  },
  {
   "cell_type": "code",
   "execution_count": 85,
   "id": "78ba0692-ebb6-4b3a-8d2c-c7fe4c2b9a82",
   "metadata": {},
   "outputs": [
    {
     "data": {
      "text/plain": [
       "array([[1, 2],\n",
       "       [3, 4]])"
      ]
     },
     "execution_count": 85,
     "metadata": {},
     "output_type": "execute_result"
    }
   ],
   "source": [
    "a"
   ]
  },
  {
   "cell_type": "code",
   "execution_count": 86,
   "id": "e4d12aa9-10a5-4ac7-a6c3-f56692b73b3a",
   "metadata": {},
   "outputs": [
    {
     "name": "stdout",
     "output_type": "stream",
     "text": [
      "[[1 2]\n",
      " [3 4]]\n"
     ]
    }
   ],
   "source": [
    "print(a)"
   ]
  },
  {
   "cell_type": "markdown",
   "id": "7cc70eed-8b4d-4323-ae3e-d0abdc237865",
   "metadata": {},
   "source": [
    "`-` `a + 엔터`는 `print(a) + 엔터`가 다른 경우도 있다. $\\to$ 추측: 서로 다른 숨겨진 기능이 있다! $\\to$ 결론: 추측이 맞다. 그 기능은 `__repr__`에 저장되어있음. "
   ]
  },
  {
   "cell_type": "code",
   "execution_count": 87,
   "id": "3d4a08ab-240d-4a1a-b45d-a33f3aa67097",
   "metadata": {},
   "outputs": [],
   "source": [
    "class RPS: \n",
    "    def __init__(self,candidate=['가위','바위','보']):\n",
    "        self.candidate = candidate\n",
    "        self.actions = list() \n",
    "    def choose(self):\n",
    "        self.actions.append(np.random.choice(self.candidate))\n",
    "    def show(self):\n",
    "        print(self.actions[-1])\n",
    "    def __repr__(self):\n",
    "        return \"낼 수 있는 패: {}\\n기록: {}\".format(self.candidate,self.actions)"
   ]
  },
  {
   "cell_type": "code",
   "execution_count": 88,
   "id": "6277f323-d91f-482c-9916-f19d1f12dbe6",
   "metadata": {},
   "outputs": [],
   "source": [
    "a=RPS()"
   ]
  },
  {
   "cell_type": "code",
   "execution_count": 89,
   "id": "f7410839-09b7-40c6-ad5a-38ab20c0b099",
   "metadata": {},
   "outputs": [
    {
     "data": {
      "text/plain": [
       "낼 수 있는 패: ['가위', '바위', '보']\n",
       "기록: []"
      ]
     },
     "execution_count": 89,
     "metadata": {},
     "output_type": "execute_result"
    }
   ],
   "source": [
    "a # print(a.__repr__())"
   ]
  },
  {
   "cell_type": "markdown",
   "id": "20dc847c-e628-42ce-9d81-b113b7121152",
   "metadata": {},
   "source": [
    "`-` 그럼 우리가 지금까지 했던것은?"
   ]
  },
  {
   "cell_type": "code",
   "execution_count": 90,
   "id": "2bb0d79f-fef9-421e-bc5d-9c7756e9bffb",
   "metadata": {},
   "outputs": [],
   "source": [
    "a = np.array([1,2,3])"
   ]
  },
  {
   "cell_type": "code",
   "execution_count": 91,
   "id": "1f678e9a-75e1-47d8-ac73-1d7cba46cb89",
   "metadata": {},
   "outputs": [
    {
     "data": {
      "text/plain": [
       "array([1, 2, 3])"
      ]
     },
     "execution_count": 91,
     "metadata": {},
     "output_type": "execute_result"
    }
   ],
   "source": [
    "a"
   ]
  },
  {
   "cell_type": "code",
   "execution_count": 92,
   "id": "67cf65b4-828f-4103-bb7f-53b3b445dfec",
   "metadata": {},
   "outputs": [
    {
     "name": "stdout",
     "output_type": "stream",
     "text": [
      "[1 2 3]\n"
     ]
    }
   ],
   "source": [
    "print(a)"
   ]
  },
  {
   "cell_type": "code",
   "execution_count": 93,
   "id": "e55ed163-2b0a-4147-a4e7-cbe67635ddc3",
   "metadata": {},
   "outputs": [
    {
     "data": {
      "text/plain": [
       "'array([1, 2, 3])'"
      ]
     },
     "execution_count": 93,
     "metadata": {},
     "output_type": "execute_result"
    }
   ],
   "source": [
    "a.__repr__()"
   ]
  },
  {
   "cell_type": "code",
   "execution_count": 94,
   "id": "b9228031-1079-4629-b037-2cd1baeb8aa4",
   "metadata": {},
   "outputs": [
    {
     "data": {
      "text/plain": [
       "'[1 2 3]'"
      ]
     },
     "execution_count": 94,
     "metadata": {},
     "output_type": "execute_result"
    }
   ],
   "source": [
    "a.__str__()"
   ]
  },
  {
   "cell_type": "markdown",
   "id": "34fe0e73-2dac-4c33-a702-3bc5de08e0bf",
   "metadata": {},
   "source": [
    "### 파이썬의 비밀3"
   ]
  },
  {
   "cell_type": "markdown",
   "id": "e5c6d8de-9576-4f15-be2b-199db0f7f585",
   "metadata": {},
   "source": [
    "`-` 대화형콘솔에서 `오브젝트이름+엔터`를 쳐서 나오는 출력은 `__repr__`의 결과와 연관있다. "
   ]
  },
  {
   "cell_type": "code",
   "execution_count": 95,
   "id": "f220910e-6a46-4055-91a1-0443db77d703",
   "metadata": {},
   "outputs": [
    {
     "data": {
      "text/plain": [
       "array([[   0,    1,    2, ...,   97,   98,   99],\n",
       "       [ 100,  101,  102, ...,  197,  198,  199],\n",
       "       [ 200,  201,  202, ...,  297,  298,  299],\n",
       "       ...,\n",
       "       [9700, 9701, 9702, ..., 9797, 9798, 9799],\n",
       "       [9800, 9801, 9802, ..., 9897, 9898, 9899],\n",
       "       [9900, 9901, 9902, ..., 9997, 9998, 9999]])"
      ]
     },
     "execution_count": 95,
     "metadata": {},
     "output_type": "execute_result"
    }
   ],
   "source": [
    "a = np.array(range(10000)).reshape(100,100)\n",
    "a"
   ]
  },
  {
   "cell_type": "code",
   "execution_count": 96,
   "id": "56f4236c-3091-4506-a30b-9a2af6267dbd",
   "metadata": {},
   "outputs": [
    {
     "data": {
      "text/plain": [
       "'array([[   0,    1,    2, ...,   97,   98,   99],\\n       [ 100,  101,  102, ...,  197,  198,  199],\\n       [ 200,  201,  202, ...,  297,  298,  299],\\n       ...,\\n       [9700, 9701, 9702, ..., 9797, 9798, 9799],\\n       [9800, 9801, 9802, ..., 9897, 9898, 9899],\\n       [9900, 9901, 9902, ..., 9997, 9998, 9999]])'"
      ]
     },
     "execution_count": 96,
     "metadata": {},
     "output_type": "execute_result"
    }
   ],
   "source": [
    "a.__repr__()"
   ]
  },
  {
   "cell_type": "markdown",
   "id": "eb754296-9e98-4c56-a88e-7ab4ef93b65e",
   "metadata": {},
   "source": [
    "`-` 참고로 `a.__repr__()`은 `repr(a)`와 같다. "
   ]
  },
  {
   "cell_type": "code",
   "execution_count": 97,
   "id": "83e9c573-3ffe-455a-9008-e359e917235b",
   "metadata": {},
   "outputs": [
    {
     "data": {
      "text/plain": [
       "'array([[   0,    1,    2, ...,   97,   98,   99],\\n       [ 100,  101,  102, ...,  197,  198,  199],\\n       [ 200,  201,  202, ...,  297,  298,  299],\\n       ...,\\n       [9700, 9701, 9702, ..., 9797, 9798, 9799],\\n       [9800, 9801, 9802, ..., 9897, 9898, 9899],\\n       [9900, 9901, 9902, ..., 9997, 9998, 9999]])'"
      ]
     },
     "execution_count": 97,
     "metadata": {},
     "output_type": "execute_result"
    }
   ],
   "source": [
    "repr(a)"
   ]
  },
  {
   "cell_type": "markdown",
   "id": "b853109d-8a34-47eb-bebc-aa676c9a9951",
   "metadata": {},
   "source": [
    "### 주피터노트북의 비밀 (`_repr_html_`)"
   ]
  },
  {
   "cell_type": "markdown",
   "id": "59436e66-9bc9-4ff9-85a0-e90caf052e9a",
   "metadata": {},
   "source": [
    "`-` 요즘에는 IDE의 발전에 따라서 `오브젝트이름+엔터`칠떄 나오는 출력의 형태도 다양해지고 있음 "
   ]
  },
  {
   "cell_type": "code",
   "execution_count": 98,
   "id": "57353a34-2102-485f-94b9-02691e0b7a45",
   "metadata": {},
   "outputs": [],
   "source": [
    "import pandas as pd "
   ]
  },
  {
   "cell_type": "code",
   "execution_count": 99,
   "id": "12c1791e-17d5-430f-b500-1730f2dd207f",
   "metadata": {},
   "outputs": [],
   "source": [
    "df = pd.DataFrame({'a':[1,2,3],'b':[2,3,4]})"
   ]
  },
  {
   "cell_type": "code",
   "execution_count": 100,
   "id": "3695bd31-6440-438b-8dd2-2082a0383d74",
   "metadata": {},
   "outputs": [
    {
     "data": {
      "text/html": [
       "<div>\n",
       "<style scoped>\n",
       "    .dataframe tbody tr th:only-of-type {\n",
       "        vertical-align: middle;\n",
       "    }\n",
       "\n",
       "    .dataframe tbody tr th {\n",
       "        vertical-align: top;\n",
       "    }\n",
       "\n",
       "    .dataframe thead th {\n",
       "        text-align: right;\n",
       "    }\n",
       "</style>\n",
       "<table border=\"1\" class=\"dataframe\">\n",
       "  <thead>\n",
       "    <tr style=\"text-align: right;\">\n",
       "      <th></th>\n",
       "      <th>a</th>\n",
       "      <th>b</th>\n",
       "    </tr>\n",
       "  </thead>\n",
       "  <tbody>\n",
       "    <tr>\n",
       "      <th>0</th>\n",
       "      <td>1</td>\n",
       "      <td>2</td>\n",
       "    </tr>\n",
       "    <tr>\n",
       "      <th>1</th>\n",
       "      <td>2</td>\n",
       "      <td>3</td>\n",
       "    </tr>\n",
       "    <tr>\n",
       "      <th>2</th>\n",
       "      <td>3</td>\n",
       "      <td>4</td>\n",
       "    </tr>\n",
       "  </tbody>\n",
       "</table>\n",
       "</div>"
      ],
      "text/plain": [
       "   a  b\n",
       "0  1  2\n",
       "1  2  3\n",
       "2  3  4"
      ]
     },
     "execution_count": 100,
     "metadata": {},
     "output_type": "execute_result"
    }
   ],
   "source": [
    "df"
   ]
  },
  {
   "cell_type": "markdown",
   "id": "ccd06376-9ec9-4962-9fb7-48c3c286aad3",
   "metadata": {},
   "source": [
    "- 예쁘게나온다."
   ]
  },
  {
   "cell_type": "markdown",
   "id": "88997bd2-ff38-4ba2-87b2-5719f3633db0",
   "metadata": {},
   "source": [
    "`-` 위의결과는 `print(df.__repr__())`의 결과와 조금 다르게 나온다?"
   ]
  },
  {
   "cell_type": "code",
   "execution_count": 101,
   "id": "a32f9cd5-b247-47b2-bc42-92f64283afe8",
   "metadata": {},
   "outputs": [
    {
     "name": "stdout",
     "output_type": "stream",
     "text": [
      "   a  b\n",
      "0  1  2\n",
      "1  2  3\n",
      "2  3  4\n"
     ]
    }
   ],
   "source": [
    "print(df.__repr__())"
   ]
  },
  {
   "cell_type": "markdown",
   "id": "c34dff62-ce00-4b9a-93c3-bec4e25710ad",
   "metadata": {},
   "source": [
    "`-` `print(df.__repr__())`는 예전 검은화면에서 코딩할때가 나오는 출력임 \n",
    "\n",
    "```\n",
    "Python 3.10.2 | packaged by conda-forge | (main, Feb  1 2022, 19:28:35) [GCC 9.4.0] on linux\n",
    "Type \"help\", \"copyright\", \"credits\" or \"license\" for more information.\n",
    ">>> import pandas as pd \n",
    ">>> df = pd.DataFrame({'a':[1,2,3],'b':[2,3,4]})\n",
    ">>> df\n",
    "   a  b\n",
    "0  1  2\n",
    "1  2  3\n",
    "2  3  4\n",
    ">>> \n",
    "```"
   ]
  },
  {
   "cell_type": "markdown",
   "id": "94a7c9df-f79a-4472-8d5b-2d0c72792233",
   "metadata": {},
   "source": [
    "`-` 주피터에서는? \"오브젝트이름+엔터\"치면 `HTML(df._repr_html_())`이 실행되고, `_repr_html_()`이 정의되어 있지 않으면 `print(df.__repr__())`이 실행된다. "
   ]
  },
  {
   "cell_type": "code",
   "execution_count": 102,
   "id": "624fac07-fcff-4828-9607-cb0c02020906",
   "metadata": {},
   "outputs": [
    {
     "data": {
      "text/plain": [
       "'<div>\\n<style scoped>\\n    .dataframe tbody tr th:only-of-type {\\n        vertical-align: middle;\\n    }\\n\\n    .dataframe tbody tr th {\\n        vertical-align: top;\\n    }\\n\\n    .dataframe thead th {\\n        text-align: right;\\n    }\\n</style>\\n<table border=\"1\" class=\"dataframe\">\\n  <thead>\\n    <tr style=\"text-align: right;\">\\n      <th></th>\\n      <th>a</th>\\n      <th>b</th>\\n    </tr>\\n  </thead>\\n  <tbody>\\n    <tr>\\n      <th>0</th>\\n      <td>1</td>\\n      <td>2</td>\\n    </tr>\\n    <tr>\\n      <th>1</th>\\n      <td>2</td>\\n      <td>3</td>\\n    </tr>\\n    <tr>\\n      <th>2</th>\\n      <td>3</td>\\n      <td>4</td>\\n    </tr>\\n  </tbody>\\n</table>\\n</div>'"
      ]
     },
     "execution_count": 102,
     "metadata": {},
     "output_type": "execute_result"
    }
   ],
   "source": [
    "df._repr_html_()"
   ]
  },
  {
   "cell_type": "markdown",
   "id": "822659b3-08dc-475a-a988-2f9eb028e318",
   "metadata": {},
   "source": [
    "- html코드!"
   ]
  },
  {
   "cell_type": "code",
   "execution_count": 103,
   "id": "c5d9cff2-3a85-4900-9176-d68a5ed40332",
   "metadata": {},
   "outputs": [],
   "source": [
    "from IPython.core.display import HTML"
   ]
  },
  {
   "cell_type": "code",
   "execution_count": 104,
   "id": "b5c500d6-06f3-49ac-bcea-7c38e42f9553",
   "metadata": {},
   "outputs": [
    {
     "data": {
      "text/html": [
       "<div>\n",
       "<style scoped>\n",
       "    .dataframe tbody tr th:only-of-type {\n",
       "        vertical-align: middle;\n",
       "    }\n",
       "\n",
       "    .dataframe tbody tr th {\n",
       "        vertical-align: top;\n",
       "    }\n",
       "\n",
       "    .dataframe thead th {\n",
       "        text-align: right;\n",
       "    }\n",
       "</style>\n",
       "<table border=\"1\" class=\"dataframe\">\n",
       "  <thead>\n",
       "    <tr style=\"text-align: right;\">\n",
       "      <th></th>\n",
       "      <th>a</th>\n",
       "      <th>b</th>\n",
       "    </tr>\n",
       "  </thead>\n",
       "  <tbody>\n",
       "    <tr>\n",
       "      <th>0</th>\n",
       "      <td>1</td>\n",
       "      <td>2</td>\n",
       "    </tr>\n",
       "    <tr>\n",
       "      <th>1</th>\n",
       "      <td>2</td>\n",
       "      <td>3</td>\n",
       "    </tr>\n",
       "    <tr>\n",
       "      <th>2</th>\n",
       "      <td>3</td>\n",
       "      <td>4</td>\n",
       "    </tr>\n",
       "  </tbody>\n",
       "</table>\n",
       "</div>"
      ],
      "text/plain": [
       "<IPython.core.display.HTML object>"
      ]
     },
     "execution_count": 104,
     "metadata": {},
     "output_type": "execute_result"
    }
   ],
   "source": [
    "HTML(df._repr_html_())"
   ]
  },
  {
   "cell_type": "markdown",
   "id": "02d888a9-6240-4b08-a9b1-e1eb0bc1060c",
   "metadata": {},
   "source": [
    "`-` 물론 `df._repr_html_()`함수가 내부적으로 있어도 html이 지원되지 않는 환경이라면 `print(df.__repr__())`이 내부적으로 수행된다. "
   ]
  },
  {
   "cell_type": "markdown",
   "id": "d924ba3d-6ba9-47c2-b898-2af3d905172d",
   "metadata": {},
   "source": [
    "### `__repr__`와 `__str__`의 우선적용 순위"
   ]
  },
  {
   "cell_type": "markdown",
   "id": "1a18551d-0966-4538-8e66-119a9e9a3299",
   "metadata": {},
   "source": [
    "(예제1) "
   ]
  },
  {
   "cell_type": "markdown",
   "id": "6686f0bc-82be-42a2-9b07-ab45091f2a4b",
   "metadata": {},
   "source": [
    "`-` 아래의 예제를 관찰하자. "
   ]
  },
  {
   "cell_type": "code",
   "execution_count": 105,
   "id": "94a9578e-b8fa-413e-941c-7066a2b4b042",
   "metadata": {},
   "outputs": [],
   "source": [
    "class RPS: \n",
    "    def __init__(self,candidate=['가위','바위','보']):\n",
    "        self.candidate = candidate\n",
    "        self.actions = list() \n",
    "    def choose(self):\n",
    "        self.actions.append(np.random.choice(self.candidate))\n",
    "    def show(self):\n",
    "        print(self.actions[-1])\n",
    "    def __repr__(self):\n",
    "        return \"낼 수 있는 패: {}\\n기록: {}\".format(self.candidate,self.actions)"
   ]
  },
  {
   "cell_type": "code",
   "execution_count": 106,
   "id": "72a31521-60f7-48b9-aeab-51567064c212",
   "metadata": {},
   "outputs": [
    {
     "data": {
      "text/plain": [
       "낼 수 있는 패: ['가위', '바위', '보']\n",
       "기록: []"
      ]
     },
     "execution_count": 106,
     "metadata": {},
     "output_type": "execute_result"
    }
   ],
   "source": [
    "a=RPS()\n",
    "a"
   ]
  },
  {
   "cell_type": "code",
   "execution_count": 107,
   "id": "8a2ca858-c1af-4236-abde-4d1b09265b4b",
   "metadata": {},
   "outputs": [
    {
     "data": {
      "text/plain": [
       "\"낼 수 있는 패: ['가위', '바위', '보']\\n기록: []\""
      ]
     },
     "execution_count": 107,
     "metadata": {},
     "output_type": "execute_result"
    }
   ],
   "source": [
    "a.__repr__()"
   ]
  },
  {
   "cell_type": "code",
   "execution_count": 108,
   "id": "c648fc7d-0fd9-42cf-9c61-af9d442db666",
   "metadata": {},
   "outputs": [
    {
     "data": {
      "text/plain": [
       "\"낼 수 있는 패: ['가위', '바위', '보']\\n기록: []\""
      ]
     },
     "execution_count": 108,
     "metadata": {},
     "output_type": "execute_result"
    }
   ],
   "source": [
    "repr(a)"
   ]
  },
  {
   "cell_type": "markdown",
   "id": "fb0493ee-37b7-46f1-a1ad-65d28cf366c6",
   "metadata": {},
   "source": [
    "`-` 여기까지는 상식수준의 결과임. 이제 아래를 관찰하라. "
   ]
  },
  {
   "cell_type": "code",
   "execution_count": 109,
   "id": "6965817d-980d-4b1c-8011-942fadc04cbf",
   "metadata": {},
   "outputs": [
    {
     "name": "stdout",
     "output_type": "stream",
     "text": [
      "낼 수 있는 패: ['가위', '바위', '보']\n",
      "기록: []\n"
     ]
    }
   ],
   "source": [
    "print(a) # print(a.__str__())"
   ]
  },
  {
   "cell_type": "code",
   "execution_count": 110,
   "id": "b0d96f4d-d578-43f0-b787-69ba28fc90f1",
   "metadata": {},
   "outputs": [
    {
     "data": {
      "text/plain": [
       "\"낼 수 있는 패: ['가위', '바위', '보']\\n기록: []\""
      ]
     },
     "execution_count": 110,
     "metadata": {},
     "output_type": "execute_result"
    }
   ],
   "source": [
    "a.__str__()"
   ]
  },
  {
   "cell_type": "code",
   "execution_count": 111,
   "id": "4604e6dc-ba75-4c6e-b511-f6e3c94e6e14",
   "metadata": {},
   "outputs": [
    {
     "data": {
      "text/plain": [
       "\"낼 수 있는 패: ['가위', '바위', '보']\\n기록: []\""
      ]
     },
     "execution_count": 111,
     "metadata": {},
     "output_type": "execute_result"
    }
   ],
   "source": [
    "str(a)"
   ]
  },
  {
   "cell_type": "markdown",
   "id": "497f6fd6-3e8d-42ea-87a2-0b9b9556fe33",
   "metadata": {},
   "source": [
    "- `__str__()`은 건드린적이 없는데? $\\to$ 건드린적은 없는데 기능이 바껴있음 "
   ]
  },
  {
   "cell_type": "code",
   "execution_count": 112,
   "id": "7b7bcfca-3711-4b6d-b890-9e775e9fe89e",
   "metadata": {},
   "outputs": [
    {
     "data": {
      "text/plain": [
       "\u001b[0;31mSignature:\u001b[0m      \u001b[0ma\u001b[0m\u001b[0;34m.\u001b[0m\u001b[0m__str__\u001b[0m\u001b[0;34m(\u001b[0m\u001b[0;34m)\u001b[0m\u001b[0;34m\u001b[0m\u001b[0;34m\u001b[0m\u001b[0m\n",
       "\u001b[0;31mCall signature:\u001b[0m \u001b[0ma\u001b[0m\u001b[0;34m.\u001b[0m\u001b[0m__str__\u001b[0m\u001b[0;34m(\u001b[0m\u001b[0;34m*\u001b[0m\u001b[0margs\u001b[0m\u001b[0;34m,\u001b[0m \u001b[0;34m**\u001b[0m\u001b[0mkwargs\u001b[0m\u001b[0;34m)\u001b[0m\u001b[0;34m\u001b[0m\u001b[0;34m\u001b[0m\u001b[0m\n",
       "\u001b[0;31mType:\u001b[0m           method-wrapper\n",
       "\u001b[0;31mString form:\u001b[0m    <method-wrapper '__str__' of RPS object at 0x7f08f1eebb90>\n",
       "\u001b[0;31mDocstring:\u001b[0m      Return str(self).\n"
      ]
     },
     "metadata": {},
     "output_type": "display_data"
    }
   ],
   "source": [
    "a.__str__??"
   ]
  },
  {
   "cell_type": "code",
   "execution_count": 113,
   "id": "1660a5f9-265b-4a4c-a08d-f522dd50a923",
   "metadata": {},
   "outputs": [
    {
     "data": {
      "text/plain": [
       "\u001b[0;31mSignature:\u001b[0m \u001b[0ma\u001b[0m\u001b[0;34m.\u001b[0m\u001b[0m__repr__\u001b[0m\u001b[0;34m(\u001b[0m\u001b[0;34m)\u001b[0m\u001b[0;34m\u001b[0m\u001b[0;34m\u001b[0m\u001b[0m\n",
       "\u001b[0;31mDocstring:\u001b[0m Return repr(self).\n",
       "\u001b[0;31mSource:\u001b[0m   \n",
       "    \u001b[0;32mdef\u001b[0m \u001b[0m__repr__\u001b[0m\u001b[0;34m(\u001b[0m\u001b[0mself\u001b[0m\u001b[0;34m)\u001b[0m\u001b[0;34m:\u001b[0m\u001b[0;34m\u001b[0m\n",
       "\u001b[0;34m\u001b[0m        \u001b[0;32mreturn\u001b[0m \u001b[0;34m\"낼 수 있는 패: {}\\n기록: {}\"\u001b[0m\u001b[0;34m.\u001b[0m\u001b[0mformat\u001b[0m\u001b[0;34m(\u001b[0m\u001b[0mself\u001b[0m\u001b[0;34m.\u001b[0m\u001b[0mcandidate\u001b[0m\u001b[0;34m,\u001b[0m\u001b[0mself\u001b[0m\u001b[0;34m.\u001b[0m\u001b[0mactions\u001b[0m\u001b[0;34m)\u001b[0m\u001b[0;34m\u001b[0m\u001b[0;34m\u001b[0m\u001b[0m\n",
       "\u001b[0;31mFile:\u001b[0m      /tmp/ipykernel_410503/2192172939.py\n",
       "\u001b[0;31mType:\u001b[0m      method\n"
      ]
     },
     "metadata": {},
     "output_type": "display_data"
    }
   ],
   "source": [
    "a.__repr__??"
   ]
  },
  {
   "cell_type": "markdown",
   "id": "c44c0427-a284-4a09-9117-97b953089e46",
   "metadata": {},
   "source": [
    "(예제2)"
   ]
  },
  {
   "cell_type": "markdown",
   "id": "b0013789-eede-4bfe-8678-cf3cf8258412",
   "metadata": {},
   "source": [
    "`-` 아래의 예제를 관찰하자."
   ]
  },
  {
   "cell_type": "code",
   "execution_count": 114,
   "id": "cbc933f6-945a-4a15-bcd1-3081997bd438",
   "metadata": {},
   "outputs": [],
   "source": [
    "class RPS: \n",
    "    def __init__(self,candidate=['가위','바위','보']):\n",
    "        self.candidate = candidate\n",
    "        self.actions = list() \n",
    "    def choose(self):\n",
    "        self.actions.append(np.random.choice(self.candidate))\n",
    "    def show(self):\n",
    "        print(self.actions[-1])\n",
    "    def __str__(self):\n",
    "        return \"낼 수 있는 패: {}\\n기록: {}\".format(self.candidate,self.actions)"
   ]
  },
  {
   "cell_type": "code",
   "execution_count": 115,
   "id": "011a9ac9-27be-4858-840b-c1a42b7537a5",
   "metadata": {},
   "outputs": [],
   "source": [
    "a=RPS()"
   ]
  },
  {
   "cell_type": "code",
   "execution_count": 116,
   "id": "94553af4-2bef-4f76-9d7a-6995e76e5015",
   "metadata": {},
   "outputs": [
    {
     "name": "stdout",
     "output_type": "stream",
     "text": [
      "낼 수 있는 패: ['가위', '바위', '보']\n",
      "기록: []\n"
     ]
    }
   ],
   "source": [
    "print(a)"
   ]
  },
  {
   "cell_type": "code",
   "execution_count": 117,
   "id": "e946b91c-56e4-4fe8-b8a5-a529398b17a9",
   "metadata": {},
   "outputs": [
    {
     "data": {
      "text/plain": [
       "<__main__.RPS at 0x7f08f1f0f290>"
      ]
     },
     "execution_count": 117,
     "metadata": {},
     "output_type": "execute_result"
    }
   ],
   "source": [
    "a"
   ]
  },
  {
   "cell_type": "code",
   "execution_count": 118,
   "id": "dd60031c-fc7c-4bae-ada2-404e42014613",
   "metadata": {},
   "outputs": [
    {
     "data": {
      "text/plain": [
       "\"낼 수 있는 패: ['가위', '바위', '보']\\n기록: []\""
      ]
     },
     "execution_count": 118,
     "metadata": {},
     "output_type": "execute_result"
    }
   ],
   "source": [
    "a.__str__()"
   ]
  },
  {
   "cell_type": "code",
   "execution_count": 119,
   "id": "4723ecf4-1eeb-43ca-9f2a-7e0bcd38d02e",
   "metadata": {},
   "outputs": [
    {
     "data": {
      "text/plain": [
       "'<__main__.RPS object at 0x7f08f1f0f290>'"
      ]
     },
     "execution_count": 119,
     "metadata": {},
     "output_type": "execute_result"
    }
   ],
   "source": [
    "a.__repr__()"
   ]
  },
  {
   "cell_type": "code",
   "execution_count": 120,
   "id": "307ab477-b4c2-40c7-bee5-7bdc86cbca9e",
   "metadata": {},
   "outputs": [
    {
     "data": {
      "text/plain": [
       "\u001b[0;31mSignature:\u001b[0m \u001b[0ma\u001b[0m\u001b[0;34m.\u001b[0m\u001b[0m__str__\u001b[0m\u001b[0;34m(\u001b[0m\u001b[0;34m)\u001b[0m\u001b[0;34m\u001b[0m\u001b[0;34m\u001b[0m\u001b[0m\n",
       "\u001b[0;31mDocstring:\u001b[0m Return str(self).\n",
       "\u001b[0;31mSource:\u001b[0m   \n",
       "    \u001b[0;32mdef\u001b[0m \u001b[0m__str__\u001b[0m\u001b[0;34m(\u001b[0m\u001b[0mself\u001b[0m\u001b[0;34m)\u001b[0m\u001b[0;34m:\u001b[0m\u001b[0;34m\u001b[0m\n",
       "\u001b[0;34m\u001b[0m        \u001b[0;32mreturn\u001b[0m \u001b[0;34m\"낼 수 있는 패: {}\\n기록: {}\"\u001b[0m\u001b[0;34m.\u001b[0m\u001b[0mformat\u001b[0m\u001b[0;34m(\u001b[0m\u001b[0mself\u001b[0m\u001b[0;34m.\u001b[0m\u001b[0mcandidate\u001b[0m\u001b[0;34m,\u001b[0m\u001b[0mself\u001b[0m\u001b[0;34m.\u001b[0m\u001b[0mactions\u001b[0m\u001b[0;34m)\u001b[0m\u001b[0;34m\u001b[0m\u001b[0;34m\u001b[0m\u001b[0m\n",
       "\u001b[0;31mFile:\u001b[0m      /tmp/ipykernel_410503/793119288.py\n",
       "\u001b[0;31mType:\u001b[0m      method\n"
      ]
     },
     "metadata": {},
     "output_type": "display_data"
    }
   ],
   "source": [
    "a.__str__??"
   ]
  },
  {
   "cell_type": "code",
   "execution_count": 121,
   "id": "edaaa177-b16c-4bd2-b530-313cef5d78bb",
   "metadata": {},
   "outputs": [
    {
     "data": {
      "text/plain": [
       "\u001b[0;31mSignature:\u001b[0m      \u001b[0ma\u001b[0m\u001b[0;34m.\u001b[0m\u001b[0m__repr__\u001b[0m\u001b[0;34m(\u001b[0m\u001b[0;34m)\u001b[0m\u001b[0;34m\u001b[0m\u001b[0;34m\u001b[0m\u001b[0m\n",
       "\u001b[0;31mCall signature:\u001b[0m \u001b[0ma\u001b[0m\u001b[0;34m.\u001b[0m\u001b[0m__repr__\u001b[0m\u001b[0;34m(\u001b[0m\u001b[0;34m*\u001b[0m\u001b[0margs\u001b[0m\u001b[0;34m,\u001b[0m \u001b[0;34m**\u001b[0m\u001b[0mkwargs\u001b[0m\u001b[0;34m)\u001b[0m\u001b[0;34m\u001b[0m\u001b[0;34m\u001b[0m\u001b[0m\n",
       "\u001b[0;31mType:\u001b[0m           method-wrapper\n",
       "\u001b[0;31mString form:\u001b[0m    <method-wrapper '__repr__' of RPS object at 0x7f08f1f0f290>\n",
       "\u001b[0;31mDocstring:\u001b[0m      Return repr(self).\n"
      ]
     },
     "metadata": {},
     "output_type": "display_data"
    }
   ],
   "source": [
    "a.__repr__??"
   ]
  },
  {
   "cell_type": "markdown",
   "id": "9f9bc434-01ee-405c-b187-22e178ff1325",
   "metadata": {},
   "source": [
    "(예제3)"
   ]
  },
  {
   "cell_type": "code",
   "execution_count": 122,
   "id": "180c7b07-dab1-4cf8-bd7d-552b28579ca0",
   "metadata": {},
   "outputs": [],
   "source": [
    "class RPS: \n",
    "    def __init__(self,candidate=['가위','바위','보']):\n",
    "        self.candidate = candidate\n",
    "        self.actions = list() \n",
    "    def choose(self):\n",
    "        self.actions.append(np.random.choice(self.candidate))\n",
    "    def show(self):\n",
    "        print(self.actions[-1])\n",
    "    def __repr__(self):\n",
    "        return \"guebin hahaha\"\n",
    "    def __str__(self):\n",
    "        return \"낼 수 있는 패: {}\\n기록: {}\".format(self.candidate,self.actions)"
   ]
  },
  {
   "cell_type": "code",
   "execution_count": 123,
   "id": "63de60cf-bbeb-445e-8438-1fc5e935599c",
   "metadata": {},
   "outputs": [],
   "source": [
    "a=RPS()"
   ]
  },
  {
   "cell_type": "code",
   "execution_count": 124,
   "id": "16a3a5dc-b1a1-4789-a479-77e7e6da4e4b",
   "metadata": {},
   "outputs": [
    {
     "data": {
      "text/plain": [
       "guebin hahaha"
      ]
     },
     "execution_count": 124,
     "metadata": {},
     "output_type": "execute_result"
    }
   ],
   "source": [
    "a"
   ]
  },
  {
   "cell_type": "code",
   "execution_count": 125,
   "id": "6a8f48ea-1b6d-4a4d-8d79-a413aa59532a",
   "metadata": {},
   "outputs": [
    {
     "name": "stdout",
     "output_type": "stream",
     "text": [
      "낼 수 있는 패: ['가위', '바위', '보']\n",
      "기록: []\n"
     ]
    }
   ],
   "source": [
    "print(a)"
   ]
  },
  {
   "cell_type": "markdown",
   "id": "7b90e488-57ba-4feb-934d-8ea1a0c3a9f8",
   "metadata": {},
   "source": [
    "`-` `__str__`와 `__repr__`을 건드리지 않고 출력결과를 바꾸고 싶다면? "
   ]
  },
  {
   "cell_type": "code",
   "execution_count": 126,
   "id": "dccdee21-15b7-4509-a204-cefc0a95b5e6",
   "metadata": {},
   "outputs": [],
   "source": [
    "class RPS: \n",
    "    def __init__(self,candidate=['가위','바위','보']):\n",
    "        self.candidate = candidate\n",
    "        self.actions = list() \n",
    "    def choose(self):\n",
    "        self.actions.append(np.random.choice(self.candidate))\n",
    "    def show(self):\n",
    "        print(self.actions[-1])\n",
    "    def _repr_html_(self):\n",
    "        html_str = \"\"\"\n",
    "        낼 수 있는 패: {} <br/> \n",
    "        기록: {}\n",
    "        \"\"\"\n",
    "        return html_str.format(self.candidate,self.actions)"
   ]
  },
  {
   "cell_type": "code",
   "execution_count": 127,
   "id": "a577d2fd-911c-4484-85a8-b24d535f48ae",
   "metadata": {},
   "outputs": [],
   "source": [
    "a=RPS()"
   ]
  },
  {
   "cell_type": "code",
   "execution_count": 128,
   "id": "90bc8883-014d-40c9-a359-67cf1b8d0e1e",
   "metadata": {},
   "outputs": [
    {
     "data": {
      "text/plain": [
       "'<__main__.RPS object at 0x7f08f1eb5590>'"
      ]
     },
     "execution_count": 128,
     "metadata": {},
     "output_type": "execute_result"
    }
   ],
   "source": [
    "str(a)"
   ]
  },
  {
   "cell_type": "code",
   "execution_count": 129,
   "id": "094f8e46-9cf5-4a18-8550-a0191eca5551",
   "metadata": {},
   "outputs": [
    {
     "data": {
      "text/plain": [
       "'<__main__.RPS object at 0x7f08f1eb5590>'"
      ]
     },
     "execution_count": 129,
     "metadata": {},
     "output_type": "execute_result"
    }
   ],
   "source": [
    "repr(a)"
   ]
  },
  {
   "cell_type": "code",
   "execution_count": 130,
   "id": "d3c3088a-05a3-46ac-bc90-328d1a6283b1",
   "metadata": {},
   "outputs": [
    {
     "data": {
      "text/html": [
       "\n",
       "        낼 수 있는 패: ['가위', '바위', '보'] <br/> \n",
       "        기록: []\n",
       "        "
      ],
      "text/plain": [
       "<__main__.RPS at 0x7f08f1eb5590>"
      ]
     },
     "execution_count": 130,
     "metadata": {},
     "output_type": "execute_result"
    }
   ],
   "source": [
    "a"
   ]
  },
  {
   "cell_type": "code",
   "execution_count": 131,
   "id": "8302677d-f821-49bf-b5c7-4b18254ce4ca",
   "metadata": {},
   "outputs": [
    {
     "name": "stdout",
     "output_type": "stream",
     "text": [
      "바위\n",
      "보\n",
      "보\n",
      "보\n",
      "가위\n"
     ]
    }
   ],
   "source": [
    "for i in range(5):\n",
    "    a.choose()\n",
    "    a.show()"
   ]
  },
  {
   "cell_type": "code",
   "execution_count": 132,
   "id": "7cb509b5-ab67-4be0-891d-017202b6d373",
   "metadata": {},
   "outputs": [
    {
     "data": {
      "text/html": [
       "\n",
       "        낼 수 있는 패: ['가위', '바위', '보'] <br/> \n",
       "        기록: ['바위', '보', '보', '보', '가위']\n",
       "        "
      ],
      "text/plain": [
       "<__main__.RPS at 0x7f08f1eb5590>"
      ]
     },
     "execution_count": 132,
     "metadata": {},
     "output_type": "execute_result"
    }
   ],
   "source": [
    "a"
   ]
  },
  {
   "cell_type": "markdown",
   "id": "1f5e07f7-8515-4438-83c7-db93b5f91496",
   "metadata": {},
   "source": [
    "## 숙제"
   ]
  },
  {
   "cell_type": "markdown",
   "id": "2427f0d4-5481-4a0b-8f87-dbcf837f4c95",
   "metadata": {},
   "source": [
    "아래의 클래스를 수정하여 \n",
    "```python\n",
    "class RPS: \n",
    "    def __init__(self,candidate=['가위','바위','보']):\n",
    "        self.candidate = candidate\n",
    "        self.actions = list() \n",
    "    def choose(self):\n",
    "        self.actions.append(np.random.choice(self.candidate))\n",
    "    def show(self):\n",
    "        print(self.actions[-1])\n",
    "    def _repr_html_(self):\n",
    "        html_str = \"\"\"\n",
    "        낼 수 있는 패: {} <br/> \n",
    "        기록: {}\n",
    "        \"\"\"\n",
    "        return html_str.format(self.candidate,self.actions)\n",
    "```\n",
    "클래스에서 생성된 인스턴스의 출력결과가 아래와 같도록 하라. \n",
    "\n",
    "```\n",
    "학번: 202143052 \n",
    "낼 수 있는 패: ['가위', '바위', '보']\n",
    "기록: ['가위', '가위', '보', '보', '바위']\n",
    "```\n",
    "\n",
    "\n"
   ]
  }
 ],
 "metadata": {
  "kernelspec": {
   "display_name": "Python 3 (ipykernel)",
   "language": "python",
   "name": "python3"
  },
  "language_info": {
   "codemirror_mode": {
    "name": "ipython",
    "version": 3
   },
   "file_extension": ".py",
   "mimetype": "text/x-python",
   "name": "python",
   "nbconvert_exporter": "python",
   "pygments_lexer": "ipython3",
   "version": "3.7.13"
  }
 },
 "nbformat": 4,
 "nbformat_minor": 5
}
