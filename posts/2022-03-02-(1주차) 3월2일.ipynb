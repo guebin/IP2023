{
 "cells": [
  {
   "cell_type": "markdown",
   "id": "5ae28dd0-885e-4350-a014-b18c2de566c5",
   "metadata": {},
   "source": [
    "# (1주차) 3월2일 \n",
    "> 강의소개\n",
    "\n",
    "- toc:true\n",
    "- branch: master\n",
    "- badges: true\n",
    "- comments: true\n",
    "- author: 최규빈"
   ]
  },
  {
   "cell_type": "markdown",
   "id": "14bd08c9-0cde-4ec5-992e-d41b137138a6",
   "metadata": {},
   "source": [
    "### 강의영상 "
   ]
  },
  {
   "cell_type": "markdown",
   "id": "0259f3a4-0144-4b8d-b837-232e260c123a",
   "metadata": {},
   "source": [
    "> youtube: https://youtube.com/playlist?list=PLQqh36zP38-wJ9o4u3GHaOgNW-pLNbusl"
   ]
  }
 ],
 "metadata": {
  "kernelspec": {
   "display_name": "Python 3",
   "language": "python",
   "name": "python3"
  },
  "language_info": {
   "codemirror_mode": {
    "name": "ipython",
    "version": 3
   },
   "file_extension": ".py",
   "mimetype": "text/x-python",
   "name": "python",
   "nbconvert_exporter": "python",
   "pygments_lexer": "ipython3",
   "version": "3.9.7"
  }
 },
 "nbformat": 4,
 "nbformat_minor": 5
}
