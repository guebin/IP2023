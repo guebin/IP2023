{
 "cells": [
  {
   "cell_type": "raw",
   "id": "c49ee4fc-a6f7-4ee8-90a6-8922db6efbc8",
   "metadata": {},
   "source": [
    "---\n",
    "title: \"13wk-1: 깊은복사와 얕은복사\"\n",
    "author: \"최규빈\"\n",
    "date: \"06/21/2023\"\n",
    "---"
   ]
  },
  {
   "cell_type": "markdown",
   "id": "3653f186-6a4b-4f22-b127-42f1f721819f",
   "metadata": {},
   "source": [
    "<a href=\"https://colab.research.google.com/github/guebin/PP2023/blob/main/posts/2023-06-20-13wk-1.ipynb\"><img src=\"https://colab.research.google.com/assets/colab-badge.svg\" style=\"text-align: left\"></a>"
   ]
  },
  {
   "cell_type": "markdown",
   "id": "6602e1d4-34d0-456d-9776-31937dfe4135",
   "metadata": {},
   "source": [
    "> 모르고 살았다면 더 좋았을 내용 "
   ]
  },
  {
   "cell_type": "markdown",
   "id": "8946367c-8b8f-4fed-be4c-326a94bd6749",
   "metadata": {},
   "source": [
    "# import"
   ]
  },
  {
   "cell_type": "code",
   "execution_count": 2,
   "id": "0abb5f54-3170-4919-a31d-3f6e6d540698",
   "metadata": {},
   "outputs": [],
   "source": [
    "import numpy as np\n",
    "import pandas as pd "
   ]
  },
  {
   "cell_type": "markdown",
   "id": "4739fd9b-cbf6-4d25-b285-d7c391f806bc",
   "metadata": {},
   "source": [
    "# Introduction"
   ]
  },
  {
   "cell_type": "markdown",
   "id": "e9898f92-ab32-4de8-9243-653e43efdce6",
   "metadata": {},
   "source": [
    "## 비상식적인 append "
   ]
  },
  {
   "cell_type": "markdown",
   "id": "9e5f30a7-3281-4e95-993d-4074a165396e",
   "metadata": {},
   "source": [
    "`-` 아래의 코드를 관찰하자. "
   ]
  },
  {
   "cell_type": "code",
   "execution_count": 42,
   "id": "7db5633e-972c-47ee-bdc5-bd93aaedb8d0",
   "metadata": {},
   "outputs": [],
   "source": [
    "a=[1,2,3]\n",
    "b=a\n",
    "a=a+[4]"
   ]
  },
  {
   "cell_type": "markdown",
   "id": "208564ef-9f73-4035-aafe-ebc96e32a56f",
   "metadata": {},
   "source": [
    "현재 a,b의 출력결과는? "
   ]
  },
  {
   "cell_type": "code",
   "execution_count": 45,
   "id": "1f4c4018-26b4-43ec-9661-3020eeb9577a",
   "metadata": {},
   "outputs": [
    {
     "name": "stdout",
     "output_type": "stream",
     "text": [
      "a= [1, 2, 3, 4]\n",
      "b= [1, 2, 3]\n"
     ]
    }
   ],
   "source": [
    "print('a=', a)\n",
    "print('b=', b)"
   ]
  },
  {
   "cell_type": "markdown",
   "id": "8f792003-beff-4a67-a66b-072ef1d1abc8",
   "metadata": {},
   "source": [
    "`-` 이제 다시 아래의 코드를 관찰하자. "
   ]
  },
  {
   "cell_type": "code",
   "execution_count": 10,
   "id": "06b85b48-35b9-43de-b54d-773d7fd5c0ed",
   "metadata": {},
   "outputs": [],
   "source": [
    "a=[1,2,3]\n",
    "b=a\n",
    "a.append(4) "
   ]
  },
  {
   "cell_type": "markdown",
   "id": "5375edb0-b0d7-4a3d-bc9c-0232b5fcc6df",
   "metadata": {},
   "source": [
    "현재 a,b의 출력결과는? "
   ]
  },
  {
   "cell_type": "code",
   "execution_count": 46,
   "id": "86e2026b-d2db-4bfa-b581-67baabc0f813",
   "metadata": {},
   "outputs": [
    {
     "name": "stdout",
     "output_type": "stream",
     "text": [
      "a= [1, 2, 3, 4]\n",
      "b= [1, 2, 3]\n"
     ]
    }
   ],
   "source": [
    "print('a=', a)\n",
    "print('b=', b)"
   ]
  },
  {
   "cell_type": "markdown",
   "id": "7a18180f-469e-428b-a29c-0cf1a4704ec0",
   "metadata": {},
   "source": [
    "## append의 동작원리: 틀린상상 "
   ]
  },
  {
   "cell_type": "markdown",
   "id": "0afdfeb5-5256-4eb1-b300-aedeeef6b7b4",
   "metadata": {},
   "source": [
    "`-` 상자로서의 변수: 변수가 데이터를 저장하는 일종의 상자와 같다. <-- 아주 흔한 오해 (Fluent Python)"
   ]
  },
  {
   "cell_type": "markdown",
   "id": "0a708802-b335-4548-8d04-cf0dc1dee973",
   "metadata": {},
   "source": [
    "> 흔히 비유하는 '상자로서의 변수' 개념이 실제로는 객체지향적 언어에서 참조변수를 이해하는 데 방해가 된다. "
   ]
  },
  {
   "cell_type": "markdown",
   "id": "7270d56c-8af5-4544-8318-b87fa2814bda",
   "metadata": {},
   "source": [
    "`-` \"상자로서의 변수\" 관점에서 아래의 코드를 해석하자. (일단 아래의 해석들이 틀린해석이라는 사실을 명심할 것)"
   ]
  },
  {
   "cell_type": "markdown",
   "id": "ac23cf60-fb03-4d77-ad8a-a3461f0ec6d8",
   "metadata": {},
   "source": [
    "```python\n",
    "a=[1,2,3]\n",
    "b=a\n",
    "a.append(4)\n",
    "```"
   ]
  },
  {
   "cell_type": "markdown",
   "id": "307b855a-ac0b-48e9-aa90-53f9b9e15ffd",
   "metadata": {},
   "source": [
    "a,b라는 변수들은 메모리에 어떻게 저장이 되어있을까? "
   ]
  },
  {
   "cell_type": "markdown",
   "id": "1316fc2a-f743-48be-b488-3809f125f50f",
   "metadata": {},
   "source": [
    "상상력을 조금 발휘하면 아래와 같이 여길 수 있다. "
   ]
  },
  {
   "cell_type": "markdown",
   "id": "4e768f7a-8b81-4757-930b-e3fa6cdb61a6",
   "metadata": {},
   "source": [
    "(1) 메모리는 변수를 담을 방이 여러개 있는 호텔이라고 생각하자. "
   ]
  },
  {
   "cell_type": "markdown",
   "id": "95a8b2a4-fbc3-4e1b-8af0-38b4a3db4ede",
   "metadata": {},
   "source": [
    "(2) 아래를 실행하였을 경우 \n",
    "```python\n",
    "a=[1,2,3]\n",
    "```\n",
    "- 메모리주소1에 존재하는 방을 a라고 하고, 그 방에 [1,2,3]을 넣는다. "
   ]
  },
  {
   "cell_type": "markdown",
   "id": "917d1832-d898-4636-9c1f-150761f2616b",
   "metadata": {},
   "source": [
    "(3) 아래를 실행하였을 경우 \n",
    "```python\n",
    "b=a\n",
    "```\n",
    "- 메모리주소2에 존재하는 방을 b라고 하고, 그 방에 a를 넣어야하는데, a는 [1,2,3]이니까 [1,2,3]을 넣는다. "
   ]
  },
  {
   "cell_type": "markdown",
   "id": "54a91b2f-51ce-4106-a351-e30dbbc996c8",
   "metadata": {},
   "source": [
    "(4) 아래를 실행하면 \n",
    "```python\n",
    "a.append(4)\n",
    "```\n",
    "- 방 a로가서 [1,2,3]을 [1,2,3,4]로 바꾼다. \n",
    "- 그리고 방 b에는 아무것도 하지 않는다. "
   ]
  },
  {
   "cell_type": "markdown",
   "id": "cdfc313a-5995-4840-901b-f51d9a6033ca",
   "metadata": {},
   "source": [
    "`-` R에서는 맞는 비유인데, 파이썬은 적절하지 않은 비유이다. "
   ]
  },
  {
   "cell_type": "markdown",
   "id": "a2883380-20ba-4ee1-90e4-0f832a233936",
   "metadata": {},
   "source": [
    "### 틀린이유 "
   ]
  },
  {
   "cell_type": "code",
   "execution_count": 9,
   "id": "b6f8d1ba-0149-4325-aa4a-a15d6af35589",
   "metadata": {},
   "outputs": [
    {
     "data": {
      "text/plain": [
       "139753545242336"
      ]
     },
     "execution_count": 9,
     "metadata": {},
     "output_type": "execute_result"
    }
   ],
   "source": [
    "id(a)"
   ]
  },
  {
   "cell_type": "code",
   "execution_count": 10,
   "id": "6a785a56-3b73-4841-a3c1-cce35ca3210e",
   "metadata": {},
   "outputs": [
    {
     "data": {
      "text/plain": [
       "139753545242336"
      ]
     },
     "execution_count": 10,
     "metadata": {},
     "output_type": "execute_result"
    }
   ],
   "source": [
    "id(b)"
   ]
  },
  {
   "cell_type": "markdown",
   "id": "30187945-1b55-47f8-a4f5-c876cac2e86e",
   "metadata": {},
   "source": [
    "실제로는 a,b가 저장된 메모리 주소가 동일함 "
   ]
  },
  {
   "cell_type": "markdown",
   "id": "23fc5c84-f26a-4532-b48e-42782c981cb9",
   "metadata": {},
   "source": [
    "## append의 동작원리: 올바른 상상 "
   ]
  },
  {
   "cell_type": "markdown",
   "id": "7574a740-0ad3-4b78-8a84-f26e034d4a82",
   "metadata": {},
   "source": [
    "> 파이썬에서의 변수는 자바에서의 참조변수와 같으므로 변수는 객체에 붙은 레이블이라고 생각하는 것이 좋다. "
   ]
  },
  {
   "cell_type": "markdown",
   "id": "61740261-d0c8-414f-a087-efe2f7cd1f45",
   "metadata": {},
   "source": [
    "`-` 파이썬에서는 아래가 더 적절한 비유이다. "
   ]
  },
  {
   "cell_type": "markdown",
   "id": "1476630f-e481-487f-a78a-cd4853fbe7bd",
   "metadata": {},
   "source": [
    "(1) 메모리는 변수를 담을 방이 여러개 있는 호텔이라고 생각하자. "
   ]
  },
  {
   "cell_type": "markdown",
   "id": "4704d920-bd72-46ad-8ba0-147c331e5e83",
   "metadata": {},
   "source": [
    "(2) 아래를 실행하였을 경우 \n",
    "```python\n",
    "a=[1,2,3]\n",
    "```\n",
    "- 메모리주소 `139753545242336`에서 [1,2,3]을 생성\n",
    "- 방 `139753545242336`의 방문에 `a`라는 포스트잇을 붙인다. \n",
    "- 앞으로 [1,2,3]에 접근하기 위해서는 여러 메모리방중에서 `a`라는 포스트잇이 붙은 방을 찾아가면 된다. "
   ]
  },
  {
   "cell_type": "markdown",
   "id": "23ffad14-3105-4bda-a550-13f8c8d6e75a",
   "metadata": {},
   "source": [
    "(3) 아래를 실행하였을 경우 \n",
    "```python\n",
    "b=a\n",
    "```\n",
    "- `a`라는 포스트잇이 지칭하는 객체를 가져옴. 그리고 그 객체에 `b`라는 포스트잇을 붙인다. \n",
    "- 쉽게말하면 `b`라는 포스트잇을 방 `139753545242336`의 방문에 붙인다는 이야기. \n",
    "- 앞으로 [1,2,3]에 접근하기 위해서는 여러 메모리방중에서 `a`라는 포스트잇이 붙어 있거나 `b`라는 포스트잇이 붙어있는 방을 찾아가면 된다. "
   ]
  },
  {
   "cell_type": "markdown",
   "id": "bafbe8c8-6773-4061-86f0-82b4021d446e",
   "metadata": {},
   "source": [
    "(4) 아래를 실행하면 \n",
    "```python\n",
    "a.append(4)\n",
    "```\n",
    "- `a`라는 포스트잇이 붙어있는 방으로 가서, 그 내용물에 `append`함수를 적용하여 4를 추가하라. 즉 내용물 [1,2,3]을 [1,2,3,4]로 바꾸라. \n",
    "- 같은방(`139753545242336`)에 `a`,`b`라는 포스트잇이 모두 붙어있음. 따라서 `b`라는 포스트잇이 붙은 방을 찾아가서 내용물을 열어보면 [1,2,3,4]가 나온다. "
   ]
  },
  {
   "cell_type": "markdown",
   "id": "21f29230-42b1-4f12-908c-1a54cc4ca8d0",
   "metadata": {},
   "source": [
    "# 할당문(=)의 이해 "
   ]
  },
  {
   "cell_type": "markdown",
   "id": "5070199b-9e2f-4de9-9525-aec5f72be39a",
   "metadata": {},
   "source": [
    "`-` 파이썬에서 할당문을 이해하기 위해서는 언제나 오른쪽을 먼저 읽어야 한다. \n",
    "\n",
    "- 할당문의 오른쪽에서는 객체를 \"생성\"하거나 \"가져옴\"\n",
    "- 그 후에 라벨을 붙이듯이 할당문 왼쪽의 변수가 할당문 오른쪽의 객체에 바인딩 된다. (참조)"
   ]
  },
  {
   "cell_type": "markdown",
   "id": "e6183176-9fb0-441c-84c5-c1793fdbbbff",
   "metadata": {},
   "source": [
    "`-` `b=a`는 \n",
    "\n",
    "> 나는 이미 a가 의미하는게 무엇인지 알고있어. 그런데 그 실체를 b라고도 부르고 싶어. \n",
    "\n",
    "라는 것과 같다. 즉 이미 `a`라고 부르고 있는것을 내가 `b`라고도 부르고 싶다는 의미인데 이는 마치 별명과 같다. (`b`는 `a`의 별명, alias) 그리고 이처럼 하나의 오브젝트에 여러개의 이름을 붙이는 것을 에일리어싱이라고 부른다. "
   ]
  },
  {
   "cell_type": "markdown",
   "id": "bddf6171-7e13-4221-bd6f-c15f8e833ed1",
   "metadata": {},
   "source": [
    "# id, value "
   ]
  },
  {
   "cell_type": "markdown",
   "id": "95e62295-b656-4394-856b-001e1f20683f",
   "metadata": {},
   "source": [
    "## 예제1: 같은 value, 다른 id"
   ]
  },
  {
   "cell_type": "code",
   "execution_count": 12,
   "id": "86f64045-3a73-4790-ac71-c98499a19286",
   "metadata": {},
   "outputs": [],
   "source": [
    "a=[1,2,3]\n",
    "b=a\n",
    "a.append(4)\n",
    "c=[1,2,3,4]"
   ]
  },
  {
   "cell_type": "markdown",
   "id": "4f3f33a1-6043-4218-928c-adcee6050165",
   "metadata": {},
   "source": [
    "여기에서 a,b,c는 모두 같은 value를 가진다. "
   ]
  },
  {
   "cell_type": "code",
   "execution_count": 13,
   "id": "6609c778-ac27-46f9-9fde-5ae334b089c6",
   "metadata": {},
   "outputs": [
    {
     "data": {
      "text/plain": [
       "[1, 2, 3, 4]"
      ]
     },
     "execution_count": 13,
     "metadata": {},
     "output_type": "execute_result"
    }
   ],
   "source": [
    "a"
   ]
  },
  {
   "cell_type": "code",
   "execution_count": 14,
   "id": "c090d8f9-6225-48f0-9731-652f0e82aba8",
   "metadata": {},
   "outputs": [
    {
     "data": {
      "text/plain": [
       "[1, 2, 3, 4]"
      ]
     },
     "execution_count": 14,
     "metadata": {},
     "output_type": "execute_result"
    }
   ],
   "source": [
    "b"
   ]
  },
  {
   "cell_type": "code",
   "execution_count": 15,
   "id": "78628fb2-6bb0-45a2-bb0b-85b2720b5ca4",
   "metadata": {},
   "outputs": [
    {
     "data": {
      "text/plain": [
       "[1, 2, 3, 4]"
      ]
     },
     "execution_count": 15,
     "metadata": {},
     "output_type": "execute_result"
    }
   ],
   "source": [
    "c"
   ]
  },
  {
   "cell_type": "markdown",
   "id": "2663da54-a891-46dd-84f2-bf8515a84b78",
   "metadata": {},
   "source": [
    "하지만 그 id까지 같은 것은 아니다. "
   ]
  },
  {
   "cell_type": "code",
   "execution_count": 20,
   "id": "ea870f62-da1a-4eae-a7a4-4e93a592cd3c",
   "metadata": {},
   "outputs": [
    {
     "data": {
      "text/plain": [
       "(139851739924096, 139851739924096, 139851742724800)"
      ]
     },
     "execution_count": 20,
     "metadata": {},
     "output_type": "execute_result"
    }
   ],
   "source": [
    "id(a), id(b), id(c)"
   ]
  },
  {
   "cell_type": "markdown",
   "id": "138e6fac-d749-4373-ad08-5aee4bf8b18a",
   "metadata": {},
   "source": [
    "## 예제2"
   ]
  },
  {
   "cell_type": "markdown",
   "id": "fb95110b-55a8-4a40-a830-2cb13d018105",
   "metadata": {},
   "source": [
    "(관찰)"
   ]
  },
  {
   "cell_type": "code",
   "execution_count": 47,
   "id": "be68c879-09b7-42f4-b353-5acd5e0aae4d",
   "metadata": {},
   "outputs": [
    {
     "name": "stdout",
     "output_type": "stream",
     "text": [
      "a= [1, 2, 3, 4]\n",
      "b= [1, 2, 3]\n"
     ]
    }
   ],
   "source": [
    "a=[1,2,3] # 할당\n",
    "b=a # 에일리어싱 \n",
    "a=[1,2,3]+[4] # 재할당 \n",
    "print('a=',a)\n",
    "print('b=',b)"
   ]
  },
  {
   "cell_type": "markdown",
   "id": "41f5be0f-47f8-4597-b00d-242166c6ff0d",
   "metadata": {},
   "source": [
    "(해설)"
   ]
  },
  {
   "cell_type": "code",
   "execution_count": 13,
   "id": "1b6da934-07c3-4f26-9c68-9d6a95cffa9e",
   "metadata": {},
   "outputs": [
    {
     "data": {
      "text/plain": [
       "(140346713595728, 140346713595168)"
      ]
     },
     "execution_count": 13,
     "metadata": {},
     "output_type": "execute_result"
    }
   ],
   "source": [
    "id(a),id(b)"
   ]
  },
  {
   "cell_type": "markdown",
   "id": "fb43d306-961a-49ea-a927-2bfeecf3ad97",
   "metadata": {},
   "source": [
    "- 포인트: [1,2,3]+[4] 가 실행되는 순간 새로운 오브젝트가 만들어지고 그 오브젝트를 a라는 이름으로 다시 할당되었음. (재할당)"
   ]
  },
  {
   "cell_type": "markdown",
   "id": "b2d41e07-6dcb-4ca2-b6c3-3123d252e1f3",
   "metadata": {},
   "source": [
    "# 인터닝 "
   ]
  },
  {
   "cell_type": "markdown",
   "id": "64f406e3-eac3-499c-92ba-af2cb0d120db",
   "metadata": {},
   "source": [
    "## 예제1"
   ]
  },
  {
   "cell_type": "code",
   "execution_count": 25,
   "id": "5f7a95c1-898c-4e52-9bfc-41921440dde6",
   "metadata": {},
   "outputs": [
    {
     "data": {
      "text/plain": [
       "139753546122608"
      ]
     },
     "execution_count": 25,
     "metadata": {},
     "output_type": "execute_result"
    }
   ],
   "source": [
    "a=1+2021\n",
    "id(a)"
   ]
  },
  {
   "cell_type": "code",
   "execution_count": 26,
   "id": "4d16a627-f844-499c-94f8-b15a3086c6ab",
   "metadata": {},
   "outputs": [
    {
     "data": {
      "text/plain": [
       "139753545299280"
      ]
     },
     "execution_count": 26,
     "metadata": {},
     "output_type": "execute_result"
    }
   ],
   "source": [
    "b=2023-1\n",
    "id(b)"
   ]
  },
  {
   "cell_type": "code",
   "execution_count": 27,
   "id": "722b5b1d-93b2-46d4-9c36-b9fa887880c9",
   "metadata": {},
   "outputs": [
    {
     "data": {
      "text/plain": [
       "139753545299472"
      ]
     },
     "execution_count": 27,
     "metadata": {},
     "output_type": "execute_result"
    }
   ],
   "source": [
    "id(2022)"
   ]
  },
  {
   "cell_type": "markdown",
   "id": "387151fb-1eff-4416-804b-28883a3fa6cf",
   "metadata": {},
   "source": [
    "- 당연한결과임. "
   ]
  },
  {
   "cell_type": "markdown",
   "id": "10b818ae-c68e-459c-b345-0815e718077a",
   "metadata": {},
   "source": [
    "## 예제2: 이제 다 이해했다고 생각했는데.. "
   ]
  },
  {
   "cell_type": "code",
   "execution_count": 22,
   "id": "983c848a-0d2b-45fe-b4e7-f635169c46eb",
   "metadata": {},
   "outputs": [
    {
     "data": {
      "text/plain": [
       "7394720"
      ]
     },
     "execution_count": 22,
     "metadata": {},
     "output_type": "execute_result"
    }
   ],
   "source": [
    "a=1+2 \n",
    "id(a)"
   ]
  },
  {
   "cell_type": "code",
   "execution_count": 23,
   "id": "177e9a61-6397-4e54-bfba-31019bac53c9",
   "metadata": {},
   "outputs": [
    {
     "data": {
      "text/plain": [
       "7394720"
      ]
     },
     "execution_count": 23,
     "metadata": {},
     "output_type": "execute_result"
    }
   ],
   "source": [
    "b=4-1\n",
    "id(b)"
   ]
  },
  {
   "cell_type": "markdown",
   "id": "576e18ca-df9f-4b6f-a4a9-d410d1c803c8",
   "metadata": {},
   "source": [
    "- id(a)와 id(b)가 왜 똑같지..? "
   ]
  },
  {
   "cell_type": "markdown",
   "id": "bbaff8c3-16aa-456a-85e3-5a52ba687832",
   "metadata": {},
   "source": [
    "(해설) 파이썬의 경우 효율성을 위해서 -5~256까지의 정수를 미리 저장해둠. "
   ]
  },
  {
   "cell_type": "code",
   "execution_count": 14,
   "id": "6b9d9322-4098-4c5a-a691-ab6862b88f6d",
   "metadata": {},
   "outputs": [
    {
     "data": {
      "text/plain": [
       "7394720"
      ]
     },
     "execution_count": 14,
     "metadata": {},
     "output_type": "execute_result"
    }
   ],
   "source": [
    "id(3)"
   ]
  },
  {
   "cell_type": "markdown",
   "id": "d2b53667-26dd-49f8-b760-963ae4a72ca1",
   "metadata": {},
   "source": [
    "- 3은 언제나 7394720에 지박령마냥 밖혀있음 "
   ]
  },
  {
   "cell_type": "markdown",
   "id": "81f08735-2777-4f4d-8c8b-f5de8ae707ba",
   "metadata": {},
   "source": [
    "# `.copy()`의 사용 (shallow copy의 사용)"
   ]
  },
  {
   "cell_type": "markdown",
   "id": "89ca3b36-3974-44f6-aaea-cce4dd3d71f1",
   "metadata": {
    "tags": []
   },
   "source": [
    "## 예제1"
   ]
  },
  {
   "cell_type": "markdown",
   "id": "472870e2-762f-4764-9c45-7099d6ea3996",
   "metadata": {},
   "source": [
    "(관찰) 아래의 예제를 살펴보자. 참조를 제대로 이해했다면 아래의 예제는 자연스럽게 이해가능할 것임. "
   ]
  },
  {
   "cell_type": "code",
   "execution_count": 19,
   "id": "71bf83d9-3737-4534-8ce4-d200af7b3606",
   "metadata": {},
   "outputs": [
    {
     "name": "stdout",
     "output_type": "stream",
     "text": [
      "시점1\n",
      "l1= [3, [66, 55, 44]]\n",
      "l2= [3, [66, 55, 44]]\n",
      "시점2\n",
      "l1= [4, [66, 55, 44]]\n",
      "l2= [4, [66, 55, 44]]\n",
      "시점3\n",
      "l1= [4, [66, 55, 44], 5]\n",
      "l2= [4, [66, 55, 44], 5]\n"
     ]
    }
   ],
   "source": [
    "l1 = [3, [66,55,44]]\n",
    "l2 = l1 \n",
    "print('시점1')\n",
    "print('l1=',l1)\n",
    "print('l2=',l2)\n",
    "\n",
    "l1[0]=4 \n",
    "print('시점2')\n",
    "print('l1=',l1)\n",
    "print('l2=',l2)\n",
    "\n",
    "l2.append(5)\n",
    "print('시점3')\n",
    "print('l1=',l1)\n",
    "print('l2=',l2)"
   ]
  },
  {
   "cell_type": "markdown",
   "id": "9a553208-9014-4f80-a55a-1311f6e9f1fe",
   "metadata": {},
   "source": [
    "(해설)"
   ]
  },
  {
   "cell_type": "code",
   "execution_count": 28,
   "id": "055d33db-4f02-454c-af2e-8b8966270feb",
   "metadata": {},
   "outputs": [],
   "source": [
    "l1 = [3, [66,55,44]]\n",
    "l2 = l1 "
   ]
  },
  {
   "cell_type": "code",
   "execution_count": 29,
   "id": "28b2ed18-2a54-410c-8d39-3967c941b13f",
   "metadata": {},
   "outputs": [
    {
     "data": {
      "text/plain": [
       "(139753545268832, 139753545268832)"
      ]
     },
     "execution_count": 29,
     "metadata": {},
     "output_type": "execute_result"
    }
   ],
   "source": [
    "id(l1),id(l2)"
   ]
  },
  {
   "cell_type": "markdown",
   "id": "710fef22-24fc-4b0c-9e63-b38a3b1b9d09",
   "metadata": {},
   "source": [
    "이해는 되지만 우리가 원한건 이런게 아니야 "
   ]
  },
  {
   "cell_type": "markdown",
   "id": "f483f0d7-3484-4717-9a0d-e20d102359b1",
   "metadata": {},
   "source": [
    "## 예제2: R과 같이 = 를 쓰고 싶다면? "
   ]
  },
  {
   "cell_type": "markdown",
   "id": "48f00c32-518c-4cb1-9c20-686c4f9e793b",
   "metadata": {},
   "source": [
    "(관찰)"
   ]
  },
  {
   "cell_type": "code",
   "execution_count": 20,
   "id": "2f59a7db-a906-4c07-a1fb-6a34ed851afe",
   "metadata": {},
   "outputs": [
    {
     "name": "stdout",
     "output_type": "stream",
     "text": [
      "시점1\n",
      "l1= [3, [66, 55, 44]]\n",
      "l2= [3, [66, 55, 44]]\n",
      "시점2\n",
      "l1= [4, [66, 55, 44]]\n",
      "l2= [3, [66, 55, 44]]\n",
      "시점3\n",
      "l1= [4, [66, 55, 44]]\n",
      "l2= [3, [66, 55, 44], 5]\n"
     ]
    }
   ],
   "source": [
    "l1 = [3, [66,55,44]]\n",
    "l2 = l1.copy()\n",
    "print('시점1')\n",
    "print('l1=',l1)\n",
    "print('l2=',l2)\n",
    "\n",
    "l1[0]=4 \n",
    "print('시점2')\n",
    "print('l1=',l1)\n",
    "print('l2=',l2)\n",
    "\n",
    "l2.append(5)\n",
    "print('시점3')\n",
    "print('l1=',l1)\n",
    "print('l2=',l2)"
   ]
  },
  {
   "cell_type": "markdown",
   "id": "228540c8-1abe-48e3-9a6c-4d7d483ff242",
   "metadata": {},
   "source": [
    "(해설)"
   ]
  },
  {
   "cell_type": "code",
   "execution_count": 21,
   "id": "79cf87c6-28e8-4718-bcd0-9bd24d2a14f9",
   "metadata": {},
   "outputs": [],
   "source": [
    "l1 = [3, [66,55,44]]\n",
    "l2 = l1.copy()"
   ]
  },
  {
   "cell_type": "code",
   "execution_count": 22,
   "id": "01f8c788-1da6-4b42-bc7a-f9b642685d04",
   "metadata": {},
   "outputs": [
    {
     "data": {
      "text/plain": [
       "(140346713602720, 140346713599104)"
      ]
     },
     "execution_count": 22,
     "metadata": {},
     "output_type": "execute_result"
    }
   ],
   "source": [
    "id(l1),id(l2) ## 드디어 주소가 달라졌다."
   ]
  },
  {
   "cell_type": "markdown",
   "id": "61335e55-32d2-4714-85cd-5b4b28f7e562",
   "metadata": {},
   "source": [
    "## 예제3: 이제 다 이해했다고 생각했는데.. "
   ]
  },
  {
   "cell_type": "markdown",
   "id": "a5ecc79e-203e-45fb-876e-ea2123e732c6",
   "metadata": {},
   "source": [
    "(관찰)"
   ]
  },
  {
   "cell_type": "code",
   "execution_count": 23,
   "id": "e000b425-bc99-484f-8907-c52bf8f771eb",
   "metadata": {},
   "outputs": [
    {
     "name": "stdout",
     "output_type": "stream",
     "text": [
      "l1= [3, [66, 55, 44, 33]]\n",
      "l2= [3, [66, 55, 44, 33]]\n"
     ]
    }
   ],
   "source": [
    "l1 = [3,[66,55,44]]\n",
    "l2 = l1.copy()\n",
    "l1[1].append(33)\n",
    "print('l1=',l1)\n",
    "print('l2=',l2)"
   ]
  },
  {
   "cell_type": "markdown",
   "id": "5bfadccc-1a74-4182-81af-e7ea7e0a98ac",
   "metadata": {},
   "source": [
    "(의문)"
   ]
  },
  {
   "cell_type": "code",
   "execution_count": 24,
   "id": "b2825b08-81c3-4192-89db-0ad5148b9adf",
   "metadata": {},
   "outputs": [
    {
     "data": {
      "text/plain": [
       "(140346713608432, 140346731755152)"
      ]
     },
     "execution_count": 24,
     "metadata": {},
     "output_type": "execute_result"
    }
   ],
   "source": [
    "id(l1),id(l2)"
   ]
  },
  {
   "cell_type": "markdown",
   "id": "6ac9ffb8-2222-4e0b-81e0-ed7c589a74a0",
   "metadata": {},
   "source": [
    "- l1이랑 l2의 주소도 다르게 나오는데 왜 또 참조한것마냥 l1과 l2가 같이 바뀌고 있지? "
   ]
  },
  {
   "cell_type": "markdown",
   "id": "705bb7e6-8be2-48aa-83d8-193c49f0eacf",
   "metadata": {},
   "source": [
    "# Shallow copy의 이해"
   ]
  },
  {
   "cell_type": "markdown",
   "id": "3fc7cbe8-d1c9-431b-b90c-b6149ea7f0a1",
   "metadata": {},
   "source": [
    "`-` 방금 살펴본 예제3을 이해하기 위해서는 shallow copy를 이해해야 한다. "
   ]
  },
  {
   "cell_type": "markdown",
   "id": "850bbb7e-7777-4f07-8b15-88bb70f2d5f8",
   "metadata": {},
   "source": [
    "## 예제1"
   ]
  },
  {
   "cell_type": "markdown",
   "id": "e741be26-31c5-4b95-8a7e-bccf2bdf9c89",
   "metadata": {},
   "source": [
    "(관찰+해설)"
   ]
  },
  {
   "cell_type": "code",
   "execution_count": 53,
   "id": "362245a3-a271-468d-bb37-9601de50f37d",
   "metadata": {},
   "outputs": [],
   "source": [
    "a=2222\n",
    "b=2222"
   ]
  },
  {
   "cell_type": "code",
   "execution_count": 54,
   "id": "40148dbd-6e83-4a08-8717-3558f2489658",
   "metadata": {},
   "outputs": [
    {
     "data": {
      "text/plain": [
       "(139753545300880, 139753545301808)"
      ]
     },
     "execution_count": 54,
     "metadata": {},
     "output_type": "execute_result"
    }
   ],
   "source": [
    "id(a),id(b)"
   ]
  },
  {
   "cell_type": "markdown",
   "id": "0fbe75bc-669a-4aa2-b33a-27285a2746ce",
   "metadata": {},
   "source": [
    "메모리 상황 "
   ]
  },
  {
   "cell_type": "markdown",
   "id": "a8800bd9-7e5f-4dd3-93b9-7301b6379b16",
   "metadata": {},
   "source": [
    "1. 2222라는 오브젝트가 어떤공간(`139753545300880`)에 생성되고 그 공간에 `a`라는 라벨이 붙음 \n",
    "2. 2222라는 오브젝트가 어떤공간(`139753545301808`)에 생성되고 그 공간에 `b`라는 라벨이 붙음 "
   ]
  },
  {
   "cell_type": "markdown",
   "id": "27e2da26-ca1b-460c-9ca1-806cc6fc09fe",
   "metadata": {},
   "source": [
    "즉 -5~256 이외의 2개의 메모리 공간을 추가적으로 사용 "
   ]
  },
  {
   "cell_type": "markdown",
   "id": "77aaa78a-2033-4e89-a54c-0db5d0e78982",
   "metadata": {},
   "source": [
    "## 예제2"
   ]
  },
  {
   "cell_type": "markdown",
   "id": "e7ad4aaf-af8d-46ef-a423-aa1820bc8899",
   "metadata": {},
   "source": [
    "(관찰)"
   ]
  },
  {
   "cell_type": "code",
   "execution_count": 3,
   "id": "49a8c247-b43f-4174-92bf-fb41546c4510",
   "metadata": {},
   "outputs": [
    {
     "name": "stdout",
     "output_type": "stream",
     "text": [
      "a= [1, 2, 2222, 4]\n",
      "b= [1, 2, 2222]\n"
     ]
    }
   ],
   "source": [
    "a=[1,2,2222]\n",
    "b=[1,2,2222]\n",
    "a.append(4)\n",
    "print('a=',a)\n",
    "print('b=',b)"
   ]
  },
  {
   "cell_type": "markdown",
   "id": "d125728e-35ba-4154-b3e4-a28222bd6ba9",
   "metadata": {},
   "source": [
    "(해설)"
   ]
  },
  {
   "cell_type": "code",
   "execution_count": 264,
   "id": "9078edd2-8e19-4043-ac85-f9d5fd5077bb",
   "metadata": {},
   "outputs": [],
   "source": [
    "a=[1,2,2222]\n",
    "b=[1,2,2222]"
   ]
  },
  {
   "cell_type": "code",
   "execution_count": 274,
   "id": "2eee2947-ffc0-4a91-8608-4ed9cd501caf",
   "metadata": {},
   "outputs": [
    {
     "data": {
      "text/plain": [
       "(139753182327904, [7394656, 7394688, 139753178093776])"
      ]
     },
     "execution_count": 274,
     "metadata": {},
     "output_type": "execute_result"
    }
   ],
   "source": [
    "id(a), [id(a[0]),id(a[1]),id(a[2])] # a=[1,2,2222]"
   ]
  },
  {
   "cell_type": "code",
   "execution_count": 275,
   "id": "84c540ba-07e6-4e3d-9a2d-f38760227c04",
   "metadata": {},
   "outputs": [
    {
     "data": {
      "text/plain": [
       "(139753173818656, [7394656, 7394688, 139753178095568])"
      ]
     },
     "execution_count": 275,
     "metadata": {},
     "output_type": "execute_result"
    }
   ],
   "source": [
    "id(b), [id(b[0]),id(b[1]),id(b[2])] # b=[1,2,2222] "
   ]
  },
  {
   "cell_type": "code",
   "execution_count": 269,
   "id": "8d235c7d-a821-4c61-90be-059969842f65",
   "metadata": {},
   "outputs": [],
   "source": [
    "a.append(4)"
   ]
  },
  {
   "cell_type": "code",
   "execution_count": 270,
   "id": "f80fbf0e-c340-428e-ac16-1325b86becda",
   "metadata": {},
   "outputs": [
    {
     "data": {
      "text/plain": [
       "[1, 2, 2222, 4]"
      ]
     },
     "execution_count": 270,
     "metadata": {},
     "output_type": "execute_result"
    }
   ],
   "source": [
    "a"
   ]
  },
  {
   "cell_type": "code",
   "execution_count": 271,
   "id": "f97cfde5-f7f8-4e5c-94a6-2edfe0f10eda",
   "metadata": {},
   "outputs": [
    {
     "data": {
      "text/plain": [
       "[1, 2, 2222]"
      ]
     },
     "execution_count": 271,
     "metadata": {},
     "output_type": "execute_result"
    }
   ],
   "source": [
    "b"
   ]
  },
  {
   "cell_type": "markdown",
   "id": "a846833e-6ce1-46e0-8867-b86f2be9a9d4",
   "metadata": {},
   "source": [
    "메모리상황 "
   ]
  },
  {
   "cell_type": "markdown",
   "id": "3e70fca8-00a6-43ba-aeec-19be122dea36",
   "metadata": {},
   "source": [
    "0. -5~256까지의 숫자는 미리 메모리에 저장되어 있다. 이중에서 1은 `7394656`, 2는 `7394688`에 저장되어있음. \n",
    "1. 2222가 공간 `139753178093776`에서 만들어진다. \n",
    "2. 어떠한 리스트오브젝트가 공간 `139753182327904`에서 만들어지고 원소로 [1,2,2222]를 가진다. 이 공간에 `a`라는 포스트잇을 붙인다. \n",
    "3. 2222가 공간 `139753178095568`에서 만들어진다.\n",
    "4. 어떠한 리스트오브젝트가 공간 `139753173818656`에서 만들어지고 원소로 [1,2,2222]를 가진다. 이 공간에 `b`라는 포스트잇을 붙인다. \n",
    "5. `a`라는 포스트잇이 붙은 공간으로 이동하여 원소에 4를 추가시킨다. "
   ]
  },
  {
   "cell_type": "markdown",
   "id": "e3f9fde7-4249-4eeb-9ae4-051d884da60f",
   "metadata": {},
   "source": [
    "즉 -5~256이외에 4개의 메모리 공간을 추가사용 (a,b,a의 2222,b의 2222)"
   ]
  },
  {
   "cell_type": "markdown",
   "id": "745ff768-cf37-44e6-8d89-f80de097ab37",
   "metadata": {},
   "source": [
    "## 예제3"
   ]
  },
  {
   "cell_type": "markdown",
   "id": "99ef2c49-571f-4017-b3dd-51d12476d268",
   "metadata": {},
   "source": [
    "(관찰)"
   ]
  },
  {
   "cell_type": "code",
   "execution_count": 4,
   "id": "416d0b8d-b1ab-4dbf-bcc7-2da3a27799ee",
   "metadata": {},
   "outputs": [
    {
     "name": "stdout",
     "output_type": "stream",
     "text": [
      "l1= [7777, [66, 55, 44]]\n",
      "l2= [3, [66, 55, 44]]\n"
     ]
    }
   ],
   "source": [
    "l1 = [3,[66,55,44]]\n",
    "l2 = l1.copy()\n",
    "l1[0] = 7777\n",
    "print('l1=',l1)\n",
    "print('l2=',l2)"
   ]
  },
  {
   "cell_type": "markdown",
   "id": "e2dc957d-3bf4-405d-8ea7-9a7734ad0dd5",
   "metadata": {},
   "source": [
    "(해설)"
   ]
  },
  {
   "cell_type": "code",
   "execution_count": 258,
   "id": "5a0616e8-c8fe-4d75-8d98-cc2871414122",
   "metadata": {},
   "outputs": [],
   "source": [
    "l1 = [3,[66,55,44]]\n",
    "l2 = l1.copy()"
   ]
  },
  {
   "cell_type": "code",
   "execution_count": 259,
   "id": "8e85eba4-fc39-427a-923f-59f1a5504881",
   "metadata": {},
   "outputs": [
    {
     "data": {
      "text/plain": [
       "(139753183437040, [7394720, 139753183707216])"
      ]
     },
     "execution_count": 259,
     "metadata": {},
     "output_type": "execute_result"
    }
   ],
   "source": [
    "id(l1), [id(l1[0]), id(l1[1])]"
   ]
  },
  {
   "cell_type": "code",
   "execution_count": 260,
   "id": "85837a07-f19d-4d67-ab14-068370c00228",
   "metadata": {},
   "outputs": [
    {
     "data": {
      "text/plain": [
       "(139753182311120, [7394720, 139753183707216])"
      ]
     },
     "execution_count": 260,
     "metadata": {},
     "output_type": "execute_result"
    }
   ],
   "source": [
    "id(l2), [id(l2[0]), id(l2[1])]"
   ]
  },
  {
   "cell_type": "markdown",
   "id": "5d7e48c5-de33-4a13-b3b7-4175fbdb3b58",
   "metadata": {},
   "source": [
    "메모리상황 "
   ]
  },
  {
   "cell_type": "markdown",
   "id": "c7255803-a87c-4486-ae99-ade9306934a0",
   "metadata": {},
   "source": [
    "0. -5~256까지의 숫자가 메모리에 저장되어 있다. \n",
    "1. 저장된 숫자중 66,55,44를 묶어서 리스트로 구성하고 이 리스트를 공간 `139753183707216`에 저장. \n",
    "2. 숫자 3과 공간 `139753183707216`에 저장된 리스트 [66,55,44]를 하나로 묶어서 새로운 리스트를 구성하고 이를 공간 `139753183437040`에 저장. 공간 `139753183437040`에 `l1`이라는 포스트잇 생성. \n",
    "3. 공간 `139753182311120`에 `l1`의 원소들을 모아서 새로운 리스트를 구성함. 공간 `139753182311120`에 `l2`라는 포스트잇 생성. "
   ]
  },
  {
   "cell_type": "code",
   "execution_count": 261,
   "id": "79df33aa-09c2-4159-a432-20ad3f68cb11",
   "metadata": {},
   "outputs": [
    {
     "data": {
      "text/plain": [
       "([7777, [66, 55, 44]], [3, [66, 55, 44]])"
      ]
     },
     "execution_count": 261,
     "metadata": {},
     "output_type": "execute_result"
    }
   ],
   "source": [
    "l1[0] = 7777\n",
    "l1,l2"
   ]
  },
  {
   "cell_type": "code",
   "execution_count": 262,
   "id": "5fe64eec-1f3d-49ce-9384-d763127ade83",
   "metadata": {},
   "outputs": [
    {
     "data": {
      "text/plain": [
       "(139753183437040, [139753178092080, 139753183707216])"
      ]
     },
     "execution_count": 262,
     "metadata": {},
     "output_type": "execute_result"
    }
   ],
   "source": [
    "id(l1), [id(l1[0]), id(l1[1])]"
   ]
  },
  {
   "cell_type": "code",
   "execution_count": 263,
   "id": "b496a4b5-5bb6-4ddf-8dd4-73a9177ecd0b",
   "metadata": {},
   "outputs": [
    {
     "data": {
      "text/plain": [
       "(139753182311120, [7394720, 139753183707216])"
      ]
     },
     "execution_count": 263,
     "metadata": {},
     "output_type": "execute_result"
    }
   ],
   "source": [
    "id(l2), [id(l2[0]), id(l2[1])]"
   ]
  },
  {
   "cell_type": "markdown",
   "id": "0cbbec6a-d891-460b-b82e-29d9d3a1ff0a",
   "metadata": {},
   "source": [
    "0. l1[0]은 원래 공간 `7394720`와 binding 되어 있었음.  \n",
    "1. 그런데 7777이라는 새로운 오브젝트가 공간 `139753178092080`에 생성되고 l1[0]이 공간 `139753178092080`와 다시 binding 됨. "
   ]
  },
  {
   "cell_type": "markdown",
   "id": "0c0b6136-fb69-4d58-b1d2-50968a274e4b",
   "metadata": {
    "tags": []
   },
   "source": [
    "## 예제4"
   ]
  },
  {
   "cell_type": "markdown",
   "id": "66812fe3-fc7f-430e-82fd-845ba2531a67",
   "metadata": {},
   "source": [
    "(관찰)"
   ]
  },
  {
   "cell_type": "code",
   "execution_count": 5,
   "id": "72bf6193-d33d-4961-95aa-078c7c00b8e6",
   "metadata": {},
   "outputs": [
    {
     "name": "stdout",
     "output_type": "stream",
     "text": [
      "l1= [3, [66, 55, 44], 7777]\n",
      "l2= [3, [66, 55, 44]]\n"
     ]
    }
   ],
   "source": [
    "l1 = [3,[66,55,44]]\n",
    "l2 = l1.copy()\n",
    "l1.append(7777)\n",
    "print('l1=',l1)\n",
    "print('l2=',l2)"
   ]
  },
  {
   "cell_type": "markdown",
   "id": "8678aaec-ef28-4180-b064-4c582205cf9f",
   "metadata": {},
   "source": [
    "(해설)"
   ]
  },
  {
   "cell_type": "code",
   "execution_count": 282,
   "id": "7b5bf1e0-e08b-4764-9755-5fa272169ba8",
   "metadata": {},
   "outputs": [],
   "source": [
    "l1 = [3,[66,55,44]]\n",
    "l2 = l1.copy()\n",
    "l1.append(7777)"
   ]
  },
  {
   "cell_type": "code",
   "execution_count": 283,
   "id": "08a5e7cc-101a-4e67-9644-ce325bbf4c81",
   "metadata": {},
   "outputs": [
    {
     "data": {
      "text/plain": [
       "([3, [66, 55, 44], 7777], [3, [66, 55, 44]])"
      ]
     },
     "execution_count": 283,
     "metadata": {},
     "output_type": "execute_result"
    }
   ],
   "source": [
    "l1,l2"
   ]
  },
  {
   "cell_type": "code",
   "execution_count": 278,
   "id": "a0a1b99a-aebd-4356-8e06-0d86290af492",
   "metadata": {},
   "outputs": [
    {
     "data": {
      "text/plain": [
       "(139753183257056, [7394720, 139753184484240, 139753180268560])"
      ]
     },
     "execution_count": 278,
     "metadata": {},
     "output_type": "execute_result"
    }
   ],
   "source": [
    "id(l1), [id(l1[0]), id(l1[1]), id(l1[2])]"
   ]
  },
  {
   "cell_type": "code",
   "execution_count": 279,
   "id": "c383588a-b7a8-459c-b230-7e75087286da",
   "metadata": {},
   "outputs": [
    {
     "data": {
      "text/plain": [
       "(139753183216656, [7394720, 139753184484240])"
      ]
     },
     "execution_count": 279,
     "metadata": {},
     "output_type": "execute_result"
    }
   ],
   "source": [
    "id(l2), [id(l2[0]), id(l2[1])]"
   ]
  },
  {
   "cell_type": "markdown",
   "id": "818f21f2-73db-478f-b3fc-2ae0bc8a3230",
   "metadata": {},
   "source": [
    "> 예제3, 예제4를 통하여 리스트가 가변형객체라는 것을 확인할 수 있다. 예제3의 경우 l1이 저장되어있던 메모리공간의 내용물이 [3,[66,55,44]] 에서 [7777,[66,55,44]] 로 바뀌었다. 예제4의 경우 l1이 저장되어있던 메모리공간의 내용물이 [3,[66,55,44]] 에서 [3,[66,55,44],7777] 로 바뀌었다. "
   ]
  },
  {
   "cell_type": "markdown",
   "id": "8cbfa31f-7a97-4dbd-95bd-7fc45e263bde",
   "metadata": {
    "tags": []
   },
   "source": [
    "## 예제5: 우리를 힘들게 했던 그 예제. "
   ]
  },
  {
   "cell_type": "markdown",
   "id": "9f91884d-d6ac-4979-9190-2aa801681727",
   "metadata": {},
   "source": [
    "(관찰)"
   ]
  },
  {
   "cell_type": "code",
   "execution_count": 6,
   "id": "ba5051bc-2498-4178-a964-790be6c3f3ec",
   "metadata": {},
   "outputs": [
    {
     "name": "stdout",
     "output_type": "stream",
     "text": [
      "l1= [3, [66, 55, 44, 7777]]\n",
      "l2= [3, [66, 55, 44, 7777]]\n"
     ]
    }
   ],
   "source": [
    "l1 = [3,[66,55,44]]\n",
    "l2 = l1.copy()\n",
    "l1[1].append(7777)\n",
    "print('l1=',l1)\n",
    "print('l2=',l2)"
   ]
  },
  {
   "cell_type": "markdown",
   "id": "a81a7e65-1203-48cb-99aa-312f60924d08",
   "metadata": {},
   "source": [
    "(해설-시점1)"
   ]
  },
  {
   "cell_type": "code",
   "execution_count": 284,
   "id": "d76fae09-2b4f-4643-a40c-aff02de19083",
   "metadata": {},
   "outputs": [],
   "source": [
    "l1 = [3,[66,55,44]]\n",
    "l2 = l1.copy()"
   ]
  },
  {
   "cell_type": "code",
   "execution_count": 285,
   "id": "8e7b67ef-f5a7-466d-bc8f-ca792444adbc",
   "metadata": {},
   "outputs": [
    {
     "data": {
      "text/plain": [
       "([3, [66, 55, 44]], [3, [66, 55, 44]])"
      ]
     },
     "execution_count": 285,
     "metadata": {},
     "output_type": "execute_result"
    }
   ],
   "source": [
    "l1,l2"
   ]
  },
  {
   "cell_type": "code",
   "execution_count": 286,
   "id": "fb72de9d-06f8-4803-9f6f-9c47062b1c93",
   "metadata": {},
   "outputs": [
    {
     "data": {
      "text/plain": [
       "(139753181411920, [7394720, 139753181409920])"
      ]
     },
     "execution_count": 286,
     "metadata": {},
     "output_type": "execute_result"
    }
   ],
   "source": [
    "id(l1), [id(l1[0]), id(l1[1])]"
   ]
  },
  {
   "cell_type": "code",
   "execution_count": 287,
   "id": "05f49796-4656-405a-b610-a2290a585a95",
   "metadata": {},
   "outputs": [
    {
     "data": {
      "text/plain": [
       "(139753181409440, [7394720, 139753181409920])"
      ]
     },
     "execution_count": 287,
     "metadata": {},
     "output_type": "execute_result"
    }
   ],
   "source": [
    "id(l2), [id(l2[0]), id(l2[1])]"
   ]
  },
  {
   "cell_type": "markdown",
   "id": "6df32db7-51df-41f3-be10-c4a3c82657fa",
   "metadata": {},
   "source": [
    "(해설-시점2)"
   ]
  },
  {
   "cell_type": "code",
   "execution_count": 288,
   "id": "20f6e815-e0df-4cf1-a847-862ae78966db",
   "metadata": {},
   "outputs": [],
   "source": [
    "l1[1].append(7777)"
   ]
  },
  {
   "cell_type": "code",
   "execution_count": 289,
   "id": "955db7ea-2f81-4418-88d4-cc2084352bae",
   "metadata": {},
   "outputs": [
    {
     "data": {
      "text/plain": [
       "([3, [66, 55, 44, 7777]], [3, [66, 55, 44, 7777]])"
      ]
     },
     "execution_count": 289,
     "metadata": {},
     "output_type": "execute_result"
    }
   ],
   "source": [
    "l1,l2"
   ]
  },
  {
   "cell_type": "code",
   "execution_count": 290,
   "id": "9ed6b8e1-1854-4b06-a6d3-0b8d4d8c3fd9",
   "metadata": {},
   "outputs": [
    {
     "data": {
      "text/plain": [
       "(139753181411920, [7394720, 139753181409920])"
      ]
     },
     "execution_count": 290,
     "metadata": {},
     "output_type": "execute_result"
    }
   ],
   "source": [
    "id(l1), [id(l1[0]), id(l1[1])]"
   ]
  },
  {
   "cell_type": "code",
   "execution_count": 291,
   "id": "e50f9fee-9aa0-42b0-91a5-1cafa5185154",
   "metadata": {},
   "outputs": [
    {
     "data": {
      "text/plain": [
       "(139753181409440, [7394720, 139753181409920])"
      ]
     },
     "execution_count": 291,
     "metadata": {},
     "output_type": "execute_result"
    }
   ],
   "source": [
    "id(l2), [id(l2[0]), id(l2[1])]"
   ]
  },
  {
   "cell_type": "markdown",
   "id": "e92a9f9d-09b6-45ad-b512-3f1acac57edf",
   "metadata": {},
   "source": [
    "해설: 사실 시점1에서 메모리 주소상황을 잘 이해했다면 신기한 일이 아니다. `.copy()`는 l1과 l2의 주소만 다르게 만들 뿐 내용물인 `l1[0]`,`l1[1]`는 동일하니까."
   ]
  },
  {
   "cell_type": "markdown",
   "id": "3d7013e6-1626-4b0f-831d-08b453231d2b",
   "metadata": {},
   "source": [
    "## 예제6: 신임교수=['최규빈','이영미']"
   ]
  },
  {
   "cell_type": "markdown",
   "id": "04bc2737-d347-4d18-962b-fd9724ebce8a",
   "metadata": {},
   "source": [
    "`-` 최규빈, 이영미는 신임교수임 "
   ]
  },
  {
   "cell_type": "code",
   "execution_count": 316,
   "id": "c2c0332d-fa4c-4143-8cba-575cc8081430",
   "metadata": {},
   "outputs": [],
   "source": [
    "신임교수 = ['최규빈','이영미']"
   ]
  },
  {
   "cell_type": "code",
   "execution_count": 317,
   "id": "70e72e76-c1b9-4502-8746-57911fcbc7c9",
   "metadata": {},
   "outputs": [
    {
     "data": {
      "text/plain": [
       "(139753182527808, 139753171447312, 139753171447408)"
      ]
     },
     "execution_count": 317,
     "metadata": {},
     "output_type": "execute_result"
    }
   ],
   "source": [
    "id(신임교수), id('최규빈'), id('이영미')"
   ]
  },
  {
   "cell_type": "markdown",
   "id": "4824d3aa-a848-4d21-9fdb-4eb140ad6950",
   "metadata": {},
   "source": [
    "`-` 신임교수를 누군가는 막내들이라고 부르기도 함. "
   ]
  },
  {
   "cell_type": "code",
   "execution_count": 318,
   "id": "226b3037-70a0-4355-bf02-9c2ea11cd1b8",
   "metadata": {},
   "outputs": [],
   "source": [
    "막내들 = 신임교수 "
   ]
  },
  {
   "cell_type": "code",
   "execution_count": 319,
   "id": "2c376f81-ca69-4640-a25f-d3ce8e731a23",
   "metadata": {},
   "outputs": [
    {
     "data": {
      "text/plain": [
       "(139753182527808, 139753182527808)"
      ]
     },
     "execution_count": 319,
     "metadata": {},
     "output_type": "execute_result"
    }
   ],
   "source": [
    "id(막내들), id(신임교수)"
   ]
  },
  {
   "cell_type": "markdown",
   "id": "3d16a1f7-8cb2-476e-be6c-f6604762e769",
   "metadata": {},
   "source": [
    "\"막내들\"이라는 단어와 \"신임교수\"라는 단어는 사실 같은 말임 "
   ]
  },
  {
   "cell_type": "markdown",
   "id": "eaba3da2-8b39-48a5-951a-a5635aaa6778",
   "metadata": {},
   "source": [
    "`-` 새로운 교수 \"박혜원\"이 뽑혔음. "
   ]
  },
  {
   "cell_type": "code",
   "execution_count": 320,
   "id": "cd876ee8-62cd-44ca-b1b0-45ad40893efd",
   "metadata": {},
   "outputs": [],
   "source": [
    "신임교수.append(\"박혜원\")"
   ]
  },
  {
   "cell_type": "code",
   "execution_count": 321,
   "id": "debb0819-0ef4-4cb7-bcf6-5c17d4bc35f9",
   "metadata": {},
   "outputs": [
    {
     "data": {
      "text/plain": [
       "(['최규빈', '이영미', '박혜원'], ['최규빈', '이영미', '박혜원'])"
      ]
     },
     "execution_count": 321,
     "metadata": {},
     "output_type": "execute_result"
    }
   ],
   "source": [
    "신임교수, 막내들"
   ]
  },
  {
   "cell_type": "markdown",
   "id": "5b833797-389d-4e7b-ad79-948f87327cd4",
   "metadata": {},
   "source": [
    "`-` 전북대 통계학과에서 R특강팀을 구성하여 방학중 R교육을 실시하고자함. 특강팀은 우선 신임교수들로 구성. "
   ]
  },
  {
   "cell_type": "code",
   "execution_count": 322,
   "id": "9b0c9fd9-5fde-4991-ae43-7b80f151f1fb",
   "metadata": {},
   "outputs": [
    {
     "data": {
      "text/plain": [
       "['최규빈', '이영미', '박혜원']"
      ]
     },
     "execution_count": 322,
     "metadata": {},
     "output_type": "execute_result"
    }
   ],
   "source": [
    "R특강팀 = 신임교수.copy()\n",
    "R특강팀 "
   ]
  },
  {
   "cell_type": "markdown",
   "id": "a8e807a5-c215-4a66-b4cd-ebfdc9e1ed13",
   "metadata": {},
   "source": [
    "`-` R특강팀에 `최혜미`교수님 추가. (그렇지만 최혜미교수님이 막내는 아니야.. // 참조와 shallow copy의 차이점) "
   ]
  },
  {
   "cell_type": "code",
   "execution_count": 323,
   "id": "b0898ca7-e6e4-403d-869e-aa9ca7f28581",
   "metadata": {},
   "outputs": [],
   "source": [
    "R특강팀.append(\"최혜미\") "
   ]
  },
  {
   "cell_type": "code",
   "execution_count": 324,
   "id": "f4175e24-57a7-43ab-b420-945874ec0883",
   "metadata": {},
   "outputs": [
    {
     "data": {
      "text/plain": [
       "(['최규빈', '이영미', '박혜원', '최혜미'], ['최규빈', '이영미', '박혜원'], ['최규빈', '이영미', '박혜원'])"
      ]
     },
     "execution_count": 324,
     "metadata": {},
     "output_type": "execute_result"
    }
   ],
   "source": [
    "R특강팀, 신임교수, 막내들"
   ]
  },
  {
   "cell_type": "markdown",
   "id": "2ccda595-2cc5-440d-b9d9-12e2ca978fab",
   "metadata": {},
   "source": [
    "`-` R특강팀에서 양성준 교수를 추가하여 파이썬 특강팀을 구성 (R특강팀의 구분을 위해서 중첩리스트 구조로 만들자)"
   ]
  },
  {
   "cell_type": "code",
   "execution_count": 326,
   "id": "7f719d2c-cda2-4d57-9fb0-97ed25a97f21",
   "metadata": {},
   "outputs": [
    {
     "data": {
      "text/plain": [
       "[['최규빈', '이영미', '박혜원', '최혜미'], '양성준']"
      ]
     },
     "execution_count": 326,
     "metadata": {},
     "output_type": "execute_result"
    }
   ],
   "source": [
    "파이썬특강팀 = [R특강팀, \"양성준\"]\n",
    "파이썬특강팀"
   ]
  },
  {
   "cell_type": "markdown",
   "id": "040b9510-11dd-4b9f-b546-e92a322794a4",
   "metadata": {},
   "source": [
    "`-` 이영미교수는 다른 일이 많아서 R특강 팀에서 제외됨. (그럼 자연히 파이썬에서도 제외됨!!) "
   ]
  },
  {
   "cell_type": "code",
   "execution_count": 327,
   "id": "0e47dca9-7d95-489e-97fa-2971afa77141",
   "metadata": {},
   "outputs": [],
   "source": [
    "R특강팀.remove(\"이영미\")"
   ]
  },
  {
   "cell_type": "code",
   "execution_count": 328,
   "id": "b5e54e92-3717-4f01-b388-2d7e4e4d5012",
   "metadata": {},
   "outputs": [
    {
     "data": {
      "text/plain": [
       "(['최규빈', '박혜원', '최혜미'], [['최규빈', '박혜원', '최혜미'], '양성준'])"
      ]
     },
     "execution_count": 328,
     "metadata": {},
     "output_type": "execute_result"
    }
   ],
   "source": [
    "R특강팀, 파이썬특강팀"
   ]
  },
  {
   "cell_type": "markdown",
   "id": "cb14e228-7380-4d1d-9eb3-e17242774ab3",
   "metadata": {},
   "source": [
    "하지만 이영미교수는 여전히 신임교수이면서 막내들임 "
   ]
  },
  {
   "cell_type": "code",
   "execution_count": 329,
   "id": "12e7be9f-dc04-4639-ac69-310be40e5506",
   "metadata": {},
   "outputs": [
    {
     "data": {
      "text/plain": [
       "(['최규빈', '이영미', '박혜원'], ['최규빈', '이영미', '박혜원'])"
      ]
     },
     "execution_count": 329,
     "metadata": {},
     "output_type": "execute_result"
    }
   ],
   "source": [
    "신임교수, 막내들"
   ]
  },
  {
   "cell_type": "markdown",
   "id": "b092cd32-691a-4a4b-8237-201cccaf0ad5",
   "metadata": {},
   "source": [
    "`-` 새로운 교수로 \"손흥민\"이 임용됨. "
   ]
  },
  {
   "cell_type": "code",
   "execution_count": 330,
   "id": "4ec1b4e2-173b-486d-9a1d-b3ad4bb0a96d",
   "metadata": {},
   "outputs": [],
   "source": [
    "막내들.append(\"손흥민\")"
   ]
  },
  {
   "cell_type": "code",
   "execution_count": 331,
   "id": "faacc867-c2d8-4da2-95a6-b4df6e3ebcfb",
   "metadata": {},
   "outputs": [
    {
     "data": {
      "text/plain": [
       "(['최규빈', '이영미', '박혜원', '손흥민'], ['최규빈', '이영미', '박혜원', '손흥민'])"
      ]
     },
     "execution_count": 331,
     "metadata": {},
     "output_type": "execute_result"
    }
   ],
   "source": [
    "막내들, 신임교수"
   ]
  },
  {
   "cell_type": "markdown",
   "id": "daf05dc7-1a3f-452c-94e7-2516f7ae32fe",
   "metadata": {},
   "source": [
    "`-` 그렇다고 해서 손흥민 교수가 바로 R이나 파이썬 특강팀에 자동소속되는건 아님"
   ]
  },
  {
   "cell_type": "code",
   "execution_count": 332,
   "id": "dbd0bbd4-c6ee-464c-a2e6-ee6242013d43",
   "metadata": {},
   "outputs": [
    {
     "data": {
      "text/plain": [
       "(['최규빈', '박혜원', '최혜미'], [['최규빈', '박혜원', '최혜미'], '양성준'])"
      ]
     },
     "execution_count": 332,
     "metadata": {},
     "output_type": "execute_result"
    }
   ],
   "source": [
    "R특강팀, 파이썬특강팀"
   ]
  },
  {
   "cell_type": "markdown",
   "id": "0c9154b7-9418-43ea-9fa4-758b60e889dc",
   "metadata": {},
   "source": [
    "# Deep copy"
   ]
  },
  {
   "cell_type": "markdown",
   "id": "4383fa1e-e103-4e54-9ab7-0be8c89d9d29",
   "metadata": {},
   "source": [
    "## 예제1: Motivation example"
   ]
  },
  {
   "cell_type": "markdown",
   "id": "39168b59-bfc5-446d-864d-1182a918c94c",
   "metadata": {},
   "source": [
    "`-` 아래의 상황을 다시 생각해보자."
   ]
  },
  {
   "cell_type": "code",
   "execution_count": 338,
   "id": "0596e42f-7e9f-4db1-b5b1-a1034e26d7cb",
   "metadata": {},
   "outputs": [],
   "source": [
    "파이썬특강팀 = [\"양성준\",[\"최규빈\",\"이영미\",\"최혜미\"]]\n",
    "ADSP특강팀 = 파이썬특강팀.copy()\n",
    "파이썬특강팀[-1].remove(\"이영미\")"
   ]
  },
  {
   "cell_type": "code",
   "execution_count": 340,
   "id": "617f4ccb-7d9f-4fea-bcdd-d5928137143e",
   "metadata": {},
   "outputs": [
    {
     "data": {
      "text/plain": [
       "(['양성준', ['최규빈', '최혜미']], ['양성준', ['최규빈', '최혜미']])"
      ]
     },
     "execution_count": 340,
     "metadata": {},
     "output_type": "execute_result"
    }
   ],
   "source": [
    "파이썬특강팀, ADSP특강팀"
   ]
  },
  {
   "cell_type": "markdown",
   "id": "12ea1a26-5e71-4b8f-a990-da04319769fc",
   "metadata": {},
   "source": [
    "**이슈:** 이영미교수가 파이썬특강에서 제외되면서 ADSP특강팀에서도 제외되었음. 그런데 사실 이영미교수가 파이썬특강팀에서만 제외되길 원한 것이지 ADSP특강팀에서 제외되길 원한게 아닐수도 있음. "
   ]
  },
  {
   "cell_type": "markdown",
   "id": "2ec95af9-7873-4d0a-b22d-adbf061783cd",
   "metadata": {
    "tags": []
   },
   "source": [
    "**해결**: Deep copy의 사용"
   ]
  },
  {
   "cell_type": "code",
   "execution_count": 34,
   "id": "4f0431e1-df81-4da3-9979-15667883c3f4",
   "metadata": {},
   "outputs": [],
   "source": [
    "import copy"
   ]
  },
  {
   "cell_type": "code",
   "execution_count": 35,
   "id": "7ea1ebbc-a2c1-4f40-91d0-b9f0d618aef8",
   "metadata": {},
   "outputs": [],
   "source": [
    "파이썬특강팀 = [\"양성준\",[\"최규빈\",\"이영미\",\"최혜미\"]]\n",
    "ADSP특강팀 = copy.deepcopy(파이썬특강팀)\n",
    "파이썬특강팀[-1].remove(\"이영미\")"
   ]
  },
  {
   "cell_type": "code",
   "execution_count": 36,
   "id": "187e61c5-5260-49ac-aadc-8caa07db9c27",
   "metadata": {},
   "outputs": [
    {
     "data": {
      "text/plain": [
       "(['양성준', ['최규빈', '최혜미']], ['양성준', ['최규빈', '이영미', '최혜미']])"
      ]
     },
     "execution_count": 36,
     "metadata": {},
     "output_type": "execute_result"
    }
   ],
   "source": [
    "파이썬특강팀, ADSP특강팀"
   ]
  },
  {
   "cell_type": "markdown",
   "id": "f65b1671-738e-4580-b316-7c8b9062a65d",
   "metadata": {},
   "source": [
    "## 예제2"
   ]
  },
  {
   "cell_type": "markdown",
   "id": "303b6e26-1e58-4f68-92ce-1f2fe18027e2",
   "metadata": {},
   "source": [
    "`-` deepcopy"
   ]
  },
  {
   "cell_type": "code",
   "execution_count": 37,
   "id": "b9e35a2d-3191-402a-a2b7-1c507946d188",
   "metadata": {},
   "outputs": [],
   "source": [
    "l1 = [3,[66,[55,44]]] \n",
    "l2 = copy.deepcopy(l1)"
   ]
  },
  {
   "cell_type": "code",
   "execution_count": 38,
   "id": "6a057181-304c-4244-85bf-7166f3a41567",
   "metadata": {},
   "outputs": [],
   "source": [
    "l2[1][1].append(33)"
   ]
  },
  {
   "cell_type": "code",
   "execution_count": 39,
   "id": "a3a3f6db-666e-40e0-8d6b-9953f3f14ce7",
   "metadata": {},
   "outputs": [
    {
     "data": {
      "text/plain": [
       "([3, [66, [55, 44]]], [3, [66, [55, 44, 33]]])"
      ]
     },
     "execution_count": 39,
     "metadata": {},
     "output_type": "execute_result"
    }
   ],
   "source": [
    "l1,l2"
   ]
  },
  {
   "cell_type": "code",
   "execution_count": 40,
   "id": "e5e2bd64-306e-4615-9535-274318a7afb6",
   "metadata": {},
   "outputs": [
    {
     "name": "stdout",
     "output_type": "stream",
     "text": [
      "level 1\n",
      "l1: 140346731797872\n",
      "l2: 140346713502576\n"
     ]
    }
   ],
   "source": [
    "print('level 1')\n",
    "print('l1:', id(l1))\n",
    "print('l2:', id(l2))"
   ]
  },
  {
   "cell_type": "markdown",
   "id": "5df440e4-34a6-4f69-b544-85db0fdc6df7",
   "metadata": {},
   "source": [
    "- 레벨1: `l1`,`l2` 의 메모리 주소가 다름을 확인"
   ]
  },
  {
   "cell_type": "code",
   "execution_count": 41,
   "id": "f598925b-9257-4fef-8cbf-1d53f02cff8d",
   "metadata": {},
   "outputs": [
    {
     "name": "stdout",
     "output_type": "stream",
     "text": [
      "level 2\n",
      "l1: 140346731797872 [7394720, 140346713544496]\n",
      "l2: 140346713502576 [7394720, 140346478134928]\n"
     ]
    }
   ],
   "source": [
    "print('level 2')\n",
    "print('l1:', id(l1), [id(l1[0]),id(l1[1])])\n",
    "print('l2:', id(l2), [id(l2[0]),id(l2[1])])"
   ]
  },
  {
   "cell_type": "markdown",
   "id": "a9b99122-19ad-4c19-b2e3-5a9ab0666108",
   "metadata": {},
   "source": [
    "- 레벨2: `l1안에 있는 [66,[55,44]]`와 `l2안에 있는 [66,[55,44]]`의 메모리 주소가 다름도 확인. "
   ]
  },
  {
   "cell_type": "code",
   "execution_count": 43,
   "id": "20f40c1a-a7af-43ed-bb05-57a9b3b77e92",
   "metadata": {},
   "outputs": [
    {
     "name": "stdout",
     "output_type": "stream",
     "text": [
      "level 3\n",
      "l1: 140346731797872 [7394720, [7396736, 140346713594848]]\n",
      "l2: 140346713502576 [7394720, [7396736, 140346477770704]]\n"
     ]
    }
   ],
   "source": [
    "print('level 3')\n",
    "print('l1:', id(l1), [id(l1[0]),[id(l1[1][0]),id(l1[1][1])]])\n",
    "print('l2:', id(l2), [id(l2[0]),[id(l2[1][0]),id(l2[1][1])]])"
   ]
  },
  {
   "cell_type": "markdown",
   "id": "dcf7796f-1368-44a9-8c75-a7a46cd8c27c",
   "metadata": {},
   "source": [
    "- 레벨3: `l1안의 [66,[55,44]] 안의 [55,44]`와 `l2안의 [66,[55,44]] 안의 [55,44]`의 메모리 주소까지도 다름을 확인. "
   ]
  },
  {
   "cell_type": "markdown",
   "id": "2010dbf3-f193-470f-8ed5-16f1e5e301cd",
   "metadata": {},
   "source": [
    "`-` 비교를 위한 shallow copy"
   ]
  },
  {
   "cell_type": "code",
   "execution_count": 44,
   "id": "424d2218-5ac4-4ecc-9236-c3534deed81e",
   "metadata": {},
   "outputs": [],
   "source": [
    "l1 = [3,[66,[55,44]]] \n",
    "l2 = l1.copy()"
   ]
  },
  {
   "cell_type": "code",
   "execution_count": 45,
   "id": "0657f5ef-3b1c-4063-a036-12ed5c3d34bd",
   "metadata": {},
   "outputs": [],
   "source": [
    "l2[1][1].append(33)"
   ]
  },
  {
   "cell_type": "code",
   "execution_count": 46,
   "id": "3491d2a6-f131-4441-a07d-f9e865f56521",
   "metadata": {},
   "outputs": [
    {
     "data": {
      "text/plain": [
       "([3, [66, [55, 44, 33]]], [3, [66, [55, 44, 33]]])"
      ]
     },
     "execution_count": 46,
     "metadata": {},
     "output_type": "execute_result"
    }
   ],
   "source": [
    "l1,l2"
   ]
  },
  {
   "cell_type": "code",
   "execution_count": 47,
   "id": "15b00bd6-bfc3-4081-889d-e98553f3d9a0",
   "metadata": {},
   "outputs": [
    {
     "name": "stdout",
     "output_type": "stream",
     "text": [
      "level 1\n",
      "l1: 140346478137008\n",
      "l2: 140346477791984\n"
     ]
    }
   ],
   "source": [
    "print('level 1')\n",
    "print('l1:', id(l1))\n",
    "print('l2:', id(l2))"
   ]
  },
  {
   "cell_type": "markdown",
   "id": "3851d3aa-2be7-4e59-ad26-094eb4c03a57",
   "metadata": {},
   "source": [
    "- 레벨1: `l1`,`l2` 의 메모리 주소가 다름을 확인"
   ]
  },
  {
   "cell_type": "code",
   "execution_count": 29,
   "id": "264a8f54-33b2-42fc-9a95-e775386cf008",
   "metadata": {},
   "outputs": [
    {
     "name": "stdout",
     "output_type": "stream",
     "text": [
      "level 2\n",
      "l1: 140346713603280 [7394720, 140346713602720]\n",
      "l2: 140346713602880 [7394720, 140346713602720]\n"
     ]
    }
   ],
   "source": [
    "print('level 2')\n",
    "print('l1:', id(l1), [id(l1[0]),id(l1[1])])\n",
    "print('l2:', id(l2), [id(l2[0]),id(l2[1])])"
   ]
  },
  {
   "cell_type": "markdown",
   "id": "6d57cb2b-8bb7-4a0a-ad4c-3bddd9edd351",
   "metadata": {},
   "source": [
    "- 레벨2: `l1안에 있는 [66,[55,44]]`와 `l2안에 있는 [66,[55,44]]`의 메모리 주소는 같음!!"
   ]
  },
  {
   "cell_type": "code",
   "execution_count": 30,
   "id": "ec2c279f-2608-4d0a-abae-87c9b5e80fac",
   "metadata": {
    "scrolled": true
   },
   "outputs": [
    {
     "name": "stdout",
     "output_type": "stream",
     "text": [
      "level 3\n",
      "l1: 140346713603280 [7394720, [7396736, 140346713556624]]\n",
      "l2: 140346713602880 [7394720, [7396736, 140346713556624]]\n"
     ]
    }
   ],
   "source": [
    "print('level 3')\n",
    "print('l1:', id(l1), [id(l1[0]),[id(l1[1][0]),id(l1[1][1])]])\n",
    "print('l2:', id(l2), [id(l2[0]),[id(l2[1][0]),id(l2[1][1])]])"
   ]
  },
  {
   "cell_type": "markdown",
   "id": "1b32eda5-6b0d-42b7-84c4-cce2f7da01ca",
   "metadata": {},
   "source": [
    "- 레벨3: `l1안의 [66,[55,44]] 안의 [55,44]`와 `l2안의 [66,[55,44]] 안의 [55,44]`의 메모리 주소도 같음!!"
   ]
  },
  {
   "cell_type": "markdown",
   "id": "8819e4e1-3909-43dd-96a5-62d0dbd7a802",
   "metadata": {},
   "source": [
    "`-` 비교를 위한 참조 "
   ]
  },
  {
   "cell_type": "code",
   "execution_count": 48,
   "id": "c5cff9fb-048b-4987-b9a0-13f84c3b2f76",
   "metadata": {},
   "outputs": [],
   "source": [
    "l1 = [3,[66,[55,44]]] \n",
    "l2 = l1"
   ]
  },
  {
   "cell_type": "code",
   "execution_count": 49,
   "id": "da4fabe5-b27f-4c5b-b0ea-2768e734e515",
   "metadata": {},
   "outputs": [],
   "source": [
    "l2[1][1].append(33)"
   ]
  },
  {
   "cell_type": "code",
   "execution_count": 50,
   "id": "30033d7a-59aa-4947-ad66-fc0c9874a671",
   "metadata": {},
   "outputs": [
    {
     "data": {
      "text/plain": [
       "([3, [66, [55, 44, 33]]], [3, [66, [55, 44, 33]]])"
      ]
     },
     "execution_count": 50,
     "metadata": {},
     "output_type": "execute_result"
    }
   ],
   "source": [
    "l1,l2"
   ]
  },
  {
   "cell_type": "code",
   "execution_count": 51,
   "id": "8bed9345-35ee-4680-8fbc-6c1ce2da5d0a",
   "metadata": {},
   "outputs": [
    {
     "name": "stdout",
     "output_type": "stream",
     "text": [
      "level 1\n",
      "l1: 140346478134288\n",
      "l2: 140346478134288\n"
     ]
    }
   ],
   "source": [
    "print('level 1')\n",
    "print('l1:', id(l1))\n",
    "print('l2:', id(l2))"
   ]
  },
  {
   "cell_type": "markdown",
   "id": "fe03a09b-ca63-4542-9f22-c95d13c4f587",
   "metadata": {},
   "source": [
    "- 레벨1: `l1`,`l2` 여기서부터 메모리 주소가 같다. "
   ]
  },
  {
   "cell_type": "code",
   "execution_count": 52,
   "id": "39ccc98f-e3ec-4f4d-b079-3d1269ceba6e",
   "metadata": {},
   "outputs": [
    {
     "name": "stdout",
     "output_type": "stream",
     "text": [
      "level 2\n",
      "l1: 140346478134288 [7394720, 140346713615648]\n",
      "l2: 140346478134288 [7394720, 140346713615648]\n"
     ]
    }
   ],
   "source": [
    "print('level 2')\n",
    "print('l1:', id(l1), [id(l1[0]),id(l1[1])])\n",
    "print('l2:', id(l2), [id(l2[0]),id(l2[1])])"
   ]
  },
  {
   "cell_type": "code",
   "execution_count": 53,
   "id": "5ddd6d80-a46a-42f0-b4d5-b4903185d939",
   "metadata": {},
   "outputs": [
    {
     "name": "stdout",
     "output_type": "stream",
     "text": [
      "level 3\n",
      "l1: 140346478134288 [7394720, [7396736, 140346713786480]]\n",
      "l2: 140346478134288 [7394720, [7396736, 140346713786480]]\n"
     ]
    }
   ],
   "source": [
    "print('level 3')\n",
    "print('l1:', id(l1), [id(l1[0]),[id(l1[1][0]),id(l1[1][1])]])\n",
    "print('l2:', id(l2), [id(l2[0]),[id(l2[1][0]),id(l2[1][1])]])"
   ]
  },
  {
   "cell_type": "markdown",
   "id": "c16b86c3-a3b8-4fd3-82c5-07a2bd2bbfe9",
   "metadata": {},
   "source": [
    "> 문헌에 따라서 shallow copy를 레벨1 deep copy라고 부르기도 한다. "
   ]
  },
  {
   "cell_type": "markdown",
   "id": "89b75611-ca7e-4d79-bbb5-126eb53864ea",
   "metadata": {},
   "source": [
    "# Shallow copy 연습문제 "
   ]
  },
  {
   "cell_type": "markdown",
   "id": "f17f1ee0-9372-4056-860b-e74617e5ca4e",
   "metadata": {},
   "source": [
    "## 예제1"
   ]
  },
  {
   "cell_type": "markdown",
   "id": "dacc7b8c-7660-4d58-b3ad-cc36ed04649f",
   "metadata": {},
   "source": [
    "`-` 아래의 코드결과를 예측하라. 결과가 나오는 이유를 설명하라. "
   ]
  },
  {
   "cell_type": "code",
   "execution_count": 54,
   "id": "c2b518da-85ad-4025-9d63-8ef512dffd6d",
   "metadata": {},
   "outputs": [],
   "source": [
    "l1= [3,[66,55,44]]\n",
    "l2= l1.copy() \n",
    "l1[-1].append(33)"
   ]
  },
  {
   "cell_type": "code",
   "execution_count": 56,
   "id": "4ef28523-f194-46b8-bd3e-441a5e7f463d",
   "metadata": {},
   "outputs": [
    {
     "name": "stdout",
     "output_type": "stream",
     "text": [
      "l1= [3, [66, 55, 44, 33]]\n",
      "l2= [3, [66, 55, 44, 33]]\n"
     ]
    }
   ],
   "source": [
    "print('l1=', l1)\n",
    "print('l2=', l2)"
   ]
  },
  {
   "cell_type": "markdown",
   "id": "00fdb8a4-40a2-4399-a541-8b1e32fe14a9",
   "metadata": {},
   "source": [
    "- 포인트: shallow copy (=level 1 deep copy) 이므로 `l1안의 [66,55,44]`와 `l2안의 [66,55,44]`는 같은 메모리 주소를 가짐 "
   ]
  },
  {
   "cell_type": "markdown",
   "id": "c9997903-2a0a-4581-bea3-25034435698f",
   "metadata": {},
   "source": [
    "## 예제2"
   ]
  },
  {
   "cell_type": "markdown",
   "id": "bc04169e-3d7d-419b-afde-0bd54a4d5ed9",
   "metadata": {},
   "source": [
    "`-` 아래의 코드결과를 예측하라. 결과가 나오는 이유를 설명하라. "
   ]
  },
  {
   "cell_type": "code",
   "execution_count": 58,
   "id": "1015b645-a6e3-4b98-a968-5dce15a1284f",
   "metadata": {},
   "outputs": [],
   "source": [
    "l1= [3,[66,55,44]] \n",
    "l2= l1.copy() \n",
    "l1[-1] = l1[-1]+[33] "
   ]
  },
  {
   "cell_type": "code",
   "execution_count": 59,
   "id": "7f5d2332-4a8f-4b79-8f85-f55093e8381e",
   "metadata": {},
   "outputs": [
    {
     "name": "stdout",
     "output_type": "stream",
     "text": [
      "l1= [3, [66, 55, 44, 33]]\n",
      "l2= [3, [66, 55, 44]]\n"
     ]
    }
   ],
   "source": [
    "print('l1=', l1)\n",
    "print('l2=', l2)"
   ]
  },
  {
   "cell_type": "markdown",
   "id": "85a6fd1e-5cc5-48d4-aa62-e5a2aedd31eb",
   "metadata": {},
   "source": [
    "- 포인트: `l1[-1]+[33]`가 실행되는 순간 새로운 오브젝트가 생성되고 이 새로운 오브젝트가 l1의 마지막 원소에 새롭게 할당된다. "
   ]
  },
  {
   "cell_type": "markdown",
   "id": "b9e1154a-2783-4613-a48f-034f63d6c05a",
   "metadata": {},
   "source": [
    "## 예제3"
   ]
  },
  {
   "cell_type": "code",
   "execution_count": 66,
   "id": "06df3187-f162-4f86-ae3e-ba52f6fd3ded",
   "metadata": {},
   "outputs": [],
   "source": [
    "l1= [3,[66,55,44]] \n",
    "l2= l1.copy() \n",
    "l1[-1] = l1[-1]+[33] \n",
    "l1[-1].remove(33)"
   ]
  },
  {
   "cell_type": "code",
   "execution_count": 67,
   "id": "df5219e2-790c-4edf-bdb9-0e952a2974b2",
   "metadata": {},
   "outputs": [
    {
     "name": "stdout",
     "output_type": "stream",
     "text": [
      "l1= [3, [66, 55, 44]]\n",
      "l2= [3, [66, 55, 44]]\n"
     ]
    }
   ],
   "source": [
    "print('l1=', l1)\n",
    "print('l2=', l2)"
   ]
  },
  {
   "cell_type": "markdown",
   "id": "9adc5f6d-46f0-4769-aa84-dcbb21248480",
   "metadata": {},
   "source": [
    "- 포인트: 이 상황에서 `l1안의 [66,55,44]`와 `l2안의 [66,55,44]`는 서로 다른 메모리 주소를 가진다. "
   ]
  },
  {
   "cell_type": "markdown",
   "id": "679989f5-3a29-4207-9065-4e4fb25f9f53",
   "metadata": {},
   "source": [
    "## 예제4"
   ]
  },
  {
   "cell_type": "code",
   "execution_count": 68,
   "id": "96ca9782-7c2c-41f0-875c-0ac83c13787f",
   "metadata": {},
   "outputs": [],
   "source": [
    "l1= [3,[66,55,44]] \n",
    "l2= l1.copy() \n",
    "l1[-1] = l1[-1]+[33] \n",
    "l1[-1].remove(33)\n",
    "l1[-1].append(33)"
   ]
  },
  {
   "cell_type": "markdown",
   "id": "0ec0e3a8-d6b3-4e19-b976-a45e910b2e6a",
   "metadata": {},
   "source": [
    "(잘못된 상상) 아래의 코드와 결과가 같을거야!!"
   ]
  },
  {
   "cell_type": "code",
   "execution_count": 69,
   "id": "5962edc1-0f25-409e-9345-51b90a2525b9",
   "metadata": {},
   "outputs": [],
   "source": [
    "l1= [3,[66,55,44]] \n",
    "l2= l1.copy() \n",
    "# l1[-1] = l1[-1]+[33] \n",
    "# l1[-1].remove(33)\n",
    "l1[-1].append(33)"
   ]
  },
  {
   "cell_type": "code",
   "execution_count": 70,
   "id": "6b5517ea-5ef0-4bbf-a90e-6509dbef4333",
   "metadata": {},
   "outputs": [
    {
     "name": "stdout",
     "output_type": "stream",
     "text": [
      "l1= [3, [66, 55, 44, 33]]\n",
      "l2= [3, [66, 55, 44, 33]]\n"
     ]
    }
   ],
   "source": [
    "print('l1=', l1)\n",
    "print('l2=', l2)"
   ]
  },
  {
   "cell_type": "markdown",
   "id": "69bcc4d5-fec6-4c85-9c0b-a1f6f92e2709",
   "metadata": {},
   "source": [
    "(하지만 현실은)"
   ]
  },
  {
   "cell_type": "code",
   "execution_count": 71,
   "id": "5ac7c049-43af-4f09-81e0-8017ba6570e7",
   "metadata": {},
   "outputs": [],
   "source": [
    "l1= [3,[66,55,44]] \n",
    "l2= l1.copy() \n",
    "l1[-1] = l1[-1]+[33] \n",
    "l1[-1].remove(33)\n",
    "l1[-1].append(33)"
   ]
  },
  {
   "cell_type": "code",
   "execution_count": 72,
   "id": "272faa62-4b28-4990-b078-96d40cfce5be",
   "metadata": {},
   "outputs": [
    {
     "name": "stdout",
     "output_type": "stream",
     "text": [
      "l1= [3, [66, 55, 44, 33]]\n",
      "l2= [3, [66, 55, 44]]\n"
     ]
    }
   ],
   "source": [
    "print('l1=', l1)\n",
    "print('l2=', l2)"
   ]
  },
  {
   "cell_type": "markdown",
   "id": "82f17cde-a650-4edb-9806-6de578bca69c",
   "metadata": {},
   "source": [
    "- 포인트: 예제3을 이해했다면 그냥 이해되는것 "
   ]
  },
  {
   "cell_type": "markdown",
   "id": "5d45b19d-0a31-45ad-b909-72616465197a",
   "metadata": {},
   "source": [
    "## 예제5"
   ]
  },
  {
   "cell_type": "code",
   "execution_count": 73,
   "id": "7c71bd0b-dc8d-4c4a-8aea-ad041b8e7530",
   "metadata": {},
   "outputs": [],
   "source": [
    "l1= [3,[66,55,44]] \n",
    "l2= l1.copy() \n",
    "l1[-1] += [33] # l1[-1] = l1[-1]+[33] \n",
    "l1[-1].remove(33)\n",
    "l1[-1].append(33)"
   ]
  },
  {
   "cell_type": "code",
   "execution_count": 74,
   "id": "75e87329-a9f4-4b6f-adec-47f3a96cb198",
   "metadata": {},
   "outputs": [
    {
     "name": "stdout",
     "output_type": "stream",
     "text": [
      "l1= [3, [66, 55, 44, 33]]\n",
      "l2= [3, [66, 55, 44, 33]]\n"
     ]
    }
   ],
   "source": [
    "print('l1=', l1)\n",
    "print('l2=', l2)"
   ]
  },
  {
   "cell_type": "markdown",
   "id": "46793d05-97d7-441c-86dc-76edf631dc59",
   "metadata": {},
   "source": [
    "- 포인트: `+=` 연산자의 올바른 이해 "
   ]
  },
  {
   "cell_type": "markdown",
   "id": "4057a5e1-1c7c-4b21-92c9-2e62e77bd09e",
   "metadata": {},
   "source": [
    "> ??? 예제4랑 예제5는 같은코드가 아니었음!!! `a += [1]` 는 새로운 오브젝트를 만드는게 아니고, 기존의 오브젝트를 변형하는 스타일의 코드였음! (마치 append 메소드처럼) "
   ]
  },
  {
   "cell_type": "markdown",
   "id": "39b72212-aad8-4358-828f-d31b3d857fbd",
   "metadata": {},
   "source": [
    "# 불변형 객체 "
   ]
  },
  {
   "cell_type": "markdown",
   "id": "13aa4630-d2b8-4c3e-bf3a-e130f5dc736e",
   "metadata": {},
   "source": [
    "## Motivation example"
   ]
  },
  {
   "cell_type": "markdown",
   "id": "00facfd0-e066-4c89-a210-c76ab29d8aa9",
   "metadata": {},
   "source": [
    "`-` 우리는 이제 아래의 내용은 마스터함 "
   ]
  },
  {
   "cell_type": "code",
   "execution_count": 75,
   "id": "e00a05ff-a4af-469e-a863-e1b5e113bc40",
   "metadata": {},
   "outputs": [],
   "source": [
    "l1= [3,[66,55,44]] \n",
    "l2= l1.copy() \n",
    "l1[-1] += [33] # l1[-1].append(33)이랑 같은거.."
   ]
  },
  {
   "cell_type": "code",
   "execution_count": 76,
   "id": "d6f7279b-2c6f-4c9e-b4a1-b8462ac6d8f1",
   "metadata": {},
   "outputs": [
    {
     "name": "stdout",
     "output_type": "stream",
     "text": [
      "l1= [3, [66, 55, 44, 33]]\n",
      "l2= [3, [66, 55, 44, 33]]\n"
     ]
    }
   ],
   "source": [
    "print('l1=', l1)\n",
    "print('l2=', l2)"
   ]
  },
  {
   "cell_type": "markdown",
   "id": "af77b240-689e-4a39-9382-ff68c6b98443",
   "metadata": {},
   "source": [
    "`-` 아래의 결과를 한번 예측해볼까? "
   ]
  },
  {
   "cell_type": "code",
   "execution_count": 77,
   "id": "f4224b61-c0c4-43ae-a0b3-b5a3930d1b2c",
   "metadata": {},
   "outputs": [],
   "source": [
    "l1=[3,(66,55,44)]\n",
    "l2=l1.copy()\n",
    "l2[1] += (33,)"
   ]
  },
  {
   "cell_type": "code",
   "execution_count": 78,
   "id": "49b48b64-4ef9-4da4-8008-d42d5f102cd5",
   "metadata": {},
   "outputs": [
    {
     "name": "stdout",
     "output_type": "stream",
     "text": [
      "l1= [3, (66, 55, 44)]\n",
      "l2= [3, (66, 55, 44, 33)]\n"
     ]
    }
   ],
   "source": [
    "print('l1=', l1)\n",
    "print('l2=', l2)"
   ]
  },
  {
   "cell_type": "markdown",
   "id": "f95e0f39-a493-4fc5-a3a6-b9d55928de8c",
   "metadata": {},
   "source": [
    "## 해설 "
   ]
  },
  {
   "cell_type": "markdown",
   "id": "d5618de6-c745-41f2-9c7b-315d51b8d1be",
   "metadata": {},
   "source": [
    "(시점1)"
   ]
  },
  {
   "cell_type": "code",
   "execution_count": 394,
   "id": "b34ebeac-ce2f-43e9-a4fd-7b8009acba7e",
   "metadata": {},
   "outputs": [],
   "source": [
    "l1=[3,(66,55,44)]\n",
    "l2=l1.copy()"
   ]
  },
  {
   "cell_type": "code",
   "execution_count": 395,
   "id": "a70f2e29-7fa2-4480-bc2a-d1bb9afc5f82",
   "metadata": {},
   "outputs": [
    {
     "data": {
      "text/plain": [
       "([3, (66, 55, 44)], [3, (66, 55, 44)])"
      ]
     },
     "execution_count": 395,
     "metadata": {},
     "output_type": "execute_result"
    }
   ],
   "source": [
    "l1,l2"
   ]
  },
  {
   "cell_type": "code",
   "execution_count": 396,
   "id": "a60426df-ea34-4920-8f66-266541ae8aff",
   "metadata": {},
   "outputs": [
    {
     "name": "stdout",
     "output_type": "stream",
     "text": [
      "level 1\n",
      "l1: 139753183621520\n",
      "l2: 139753181521472\n"
     ]
    }
   ],
   "source": [
    "print('level 1')\n",
    "print('l1:', id(l1))\n",
    "print('l2:', id(l2))"
   ]
  },
  {
   "cell_type": "code",
   "execution_count": 397,
   "id": "1aa7adcd-9ad6-463f-9b7a-d23a20e3979b",
   "metadata": {},
   "outputs": [
    {
     "name": "stdout",
     "output_type": "stream",
     "text": [
      "level 2\n",
      "l1: 139753183621520 [7394720, 139753182280032]\n",
      "l2: 139753181521472 [7394720, 139753182280032]\n"
     ]
    }
   ],
   "source": [
    "print('level 2')\n",
    "print('l1:', id(l1), [id(l1[0]),id(l1[1])])\n",
    "print('l2:', id(l2), [id(l2[0]),id(l2[1])])"
   ]
  },
  {
   "cell_type": "markdown",
   "id": "c90cba54-17fe-497a-a137-859a6650477f",
   "metadata": {},
   "source": [
    "(시점2)"
   ]
  },
  {
   "cell_type": "code",
   "execution_count": 398,
   "id": "bdeaa5db-bc36-4472-975b-d4f42113069a",
   "metadata": {},
   "outputs": [],
   "source": [
    "l2[1] += (33,)"
   ]
  },
  {
   "cell_type": "code",
   "execution_count": 399,
   "id": "8be1e764-9167-4251-9b0f-ea0ecd8468a7",
   "metadata": {},
   "outputs": [
    {
     "data": {
      "text/plain": [
       "([3, (66, 55, 44)], [3, (66, 55, 44, 33)])"
      ]
     },
     "execution_count": 399,
     "metadata": {},
     "output_type": "execute_result"
    }
   ],
   "source": [
    "l1,l2"
   ]
  },
  {
   "cell_type": "code",
   "execution_count": 400,
   "id": "71d237ce-9708-4165-ac78-9d75882b1139",
   "metadata": {},
   "outputs": [
    {
     "name": "stdout",
     "output_type": "stream",
     "text": [
      "level 1\n",
      "l1: 139753183621520\n",
      "l2: 139753181521472\n"
     ]
    }
   ],
   "source": [
    "print('level 1')\n",
    "print('l1:', id(l1))\n",
    "print('l2:', id(l2))"
   ]
  },
  {
   "cell_type": "code",
   "execution_count": 401,
   "id": "e79fa5c8-e39c-45e2-b42b-8516f1eb23c6",
   "metadata": {},
   "outputs": [
    {
     "name": "stdout",
     "output_type": "stream",
     "text": [
      "level 2\n",
      "l1: 139753183621520 [7394720, 139753182280032]\n",
      "l2: 139753181521472 [7394720, 139753174874064]\n"
     ]
    }
   ],
   "source": [
    "print('level 2')\n",
    "print('l1:', id(l1), [id(l1[0]),id(l1[1])])\n",
    "print('l2:', id(l2), [id(l2[0]),id(l2[1])])"
   ]
  },
  {
   "cell_type": "markdown",
   "id": "208e869a-ffb1-4306-b8ae-2a619e0cbbcc",
   "metadata": {},
   "source": [
    "주소 `139753182280032`에 있는 값을 바꾸고 싶지만 불변형이라 못바꿈 $\\to$ 그냥 새로 만들자. 그래서 그걸 `139753174874064`에 저장하자. "
   ]
  },
  {
   "cell_type": "markdown",
   "id": "f6a72cbd-e1a1-4052-9d9c-dbf25366b368",
   "metadata": {},
   "source": [
    "# Shallow-copy vs Deep-copy"
   ]
  },
  {
   "cell_type": "markdown",
   "id": "c3d51184-5794-45d3-8fba-fc0d06bee67e",
   "metadata": {},
   "source": [
    "`-` 암기용문구: \"shallow copy는 껍데기만 복사한다. deep copy는 내부까지 복사한다.\""
   ]
  },
  {
   "cell_type": "markdown",
   "id": "edf2af9e-7a9a-4fdc-adfb-14a666d9b1f8",
   "metadata": {},
   "source": [
    "`-` 일부교재에서는 경우에 따라 shallow copy가 선호될 수 있다는 식으로 설명되어있으나 솔직히 대부분 코드에서 shallow copy의 동작을 의도하고 코드를 사용하진 않는다. 대부분의 경우에서 shallow copy는 불필요한 side effect을 유발하는 쓸모없는 개념이라 생각한다. (차라리 참조를 쓰면 썼지..)"
   ]
  },
  {
   "cell_type": "markdown",
   "id": "34aa2506-454a-4295-ba42-12e1e13f55c6",
   "metadata": {},
   "source": [
    "`-` 그럼 shallow copy의 장점은 무엇인가? shallow copy가 deep copy보다 메모리를 더 적게 사용한다. "
   ]
  },
  {
   "cell_type": "markdown",
   "id": "2f1ea5a5-b9f9-451a-9725-c568a0818fb2",
   "metadata": {},
   "source": [
    "```Python\n",
    "## 예제1\n",
    "lst1 = ['양성준',['최규빈','이영미','최혜미']]\n",
    "lst2 = lst1.copy()\n",
    "## 예제2 \n",
    "lst1 = ['양성준',['최규빈','이영미','최혜미']]\n",
    "lst2 = copy.deepcopy(lst1)\n",
    "```"
   ]
  },
  {
   "cell_type": "markdown",
   "id": "0cb7eeba-6222-483d-a37e-0a20135b24d3",
   "metadata": {},
   "source": [
    "- 예제1: 4+1+2 = 7개의 공간 사용 \n",
    "- 예제2: 4+2+2 = 8개의 공간 사용 "
   ]
  },
  {
   "cell_type": "markdown",
   "id": "aacfceea-fd48-48c6-86e2-086b73d2ff0c",
   "metadata": {},
   "source": [
    "**요약**"
   ]
  },
  {
   "cell_type": "markdown",
   "id": "45e91baa-b43b-430f-a9da-d823837e2445",
   "metadata": {},
   "source": [
    "`-` 파이썬은 메모리를 아끼기 위해서 shallow copy라는 이상한 행동을 한다. (하지만 우리는 shallow copy 를 원하지 않아. 우리는 deep copy 만 쓰고 싶음!) "
   ]
  },
  {
   "cell_type": "markdown",
   "id": "3ef9e776-777f-4b10-ba11-3b76021c3f72",
   "metadata": {},
   "source": [
    "`-` 통찰1: 그런데 오묘하게도 [1,2,3,4,5,6]와 같이 1차원 리스트인 경우는 문제가 되지 않음. \n",
    "\n",
    "-  1차원 리스트의 경우(= 중첩된 리스트가 아닐 경우)는 level 1 수준에서의 deep copy만 있으면 충분하므로 이때는 shallow copy = deep copy 임."
   ]
  },
  {
   "cell_type": "markdown",
   "id": "d7686f90-33dd-45a5-8285-d340aea330a4",
   "metadata": {},
   "source": [
    "`-` 통찰2: 생각해보니까 모든 자료형이 불변형인 경우에도 문제가 되지 않음. (R은 모든 자료형이 불변형이다) "
   ]
  },
  {
   "cell_type": "markdown",
   "id": "321a59b3-4a72-4730-bc9a-490ba76c4741",
   "metadata": {},
   "source": [
    "`-` 문제상황요약: [[1,2],[3,4]] 와 같이 리스트에 리스트가 포함된 형태라면 문제가 생긴다. $\\to$ 그런데 우리가 자주 쓰는 매트릭스가 사실 이러한 중첩된 리스트 구조 아니야? \n",
    "\n",
    "- 해결책1: 깊은복사 (이미했음)\n",
    "- 해결책2: 넘파이 (이걸로 뭘 어떻게 개선한다는거야?)"
   ]
  },
  {
   "cell_type": "markdown",
   "id": "09ba00d3-b7a7-4d28-9d1a-ecdefdac93b8",
   "metadata": {},
   "source": [
    "# numpy "
   ]
  },
  {
   "cell_type": "code",
   "execution_count": 404,
   "id": "869da87d-1749-41ae-bad2-69a643f14a4d",
   "metadata": {},
   "outputs": [],
   "source": [
    "import numpy as np"
   ]
  },
  {
   "cell_type": "markdown",
   "id": "805ec483-5a14-46b4-b779-6cbe3032eeb6",
   "metadata": {},
   "source": [
    "## 2차원의 실체 "
   ]
  },
  {
   "cell_type": "markdown",
   "id": "341cbf90-6b3e-44d1-8d86-062dab217032",
   "metadata": {},
   "source": [
    "`-` 2차원 array a,b를 선언하자. "
   ]
  },
  {
   "cell_type": "code",
   "execution_count": 486,
   "id": "995a86eb-c3f1-456c-8f24-134e40b311f9",
   "metadata": {},
   "outputs": [],
   "source": [
    "a = np.array([[11,22,33,44]]).reshape(2,2)\n",
    "b = np.array([[11,22,33,44,55,66]]).reshape(2,3)\n",
    "c = np.array([11,22,33,44]).reshape(4,1)\n",
    "d = np.array([11,22,33,44])"
   ]
  },
  {
   "cell_type": "markdown",
   "id": "5cd4d9d5-aaff-4605-a9eb-be0542e9ec33",
   "metadata": {},
   "source": [
    "`-` a,b,c,d 속성비교 "
   ]
  },
  {
   "cell_type": "code",
   "execution_count": 487,
   "id": "58c971fa-fe98-4188-be05-fb679b559204",
   "metadata": {},
   "outputs": [
    {
     "data": {
      "text/plain": [
       "((2, 2), (2, 3), (4, 1), (4,))"
      ]
     },
     "execution_count": 487,
     "metadata": {},
     "output_type": "execute_result"
    }
   ],
   "source": [
    "a.shape, b.shape, c.shape, d.shape ## 차원 "
   ]
  },
  {
   "cell_type": "code",
   "execution_count": 115,
   "id": "2f1c9e98-c093-4ef8-b6ee-7f9c448070c5",
   "metadata": {},
   "outputs": [
    {
     "data": {
      "text/plain": [
       "((16, 8), (24, 8), (8, 8), (8,))"
      ]
     },
     "execution_count": 115,
     "metadata": {},
     "output_type": "execute_result"
    }
   ],
   "source": [
    "a.strides, b.strides, c.strides, d.strides ## 차원이랑 관련이 있어보임.. + 8의 배수 "
   ]
  },
  {
   "cell_type": "markdown",
   "id": "e59cab26-d036-4c98-a91d-2c8e16eb410b",
   "metadata": {},
   "source": [
    "`-` ((16, 8), (24, 8), (8, 8), (8,)) 와 같은 저 숫자들이 도데체 무엇을 의미하는거야?!\n",
    "\n",
    "- 사전지식: 컴퓨터는 하나의 숫자를 저장하는데 메모리를 8칸 쓴다. \n",
    "- 가정: 만약에 컴퓨터가 1차원으로만 숫자를 저장한다면?? \n",
    "- strides의 의미: (다음 행으로 가기위해서 JUMP해야하는 메모리 공간수, 다음 열로 가기위해서 JUMP해야하는 메모리 공간수) "
   ]
  },
  {
   "cell_type": "markdown",
   "id": "6e2f5ee3-bdb6-423d-b812-5ce2bc1af538",
   "metadata": {},
   "source": [
    "`-` 통찰: strides의 존재로 인해서 유추할 수 있는 것은 a,b,c,d 는 모두 1차원으로 저장되어있다는 사실이다. (중첩된 리스트꼴이 아니라)"
   ]
  },
  {
   "cell_type": "markdown",
   "id": "692f2433-ff31-4b4c-b856-991484a7178c",
   "metadata": {},
   "source": [
    "`-` 그렇다면.. shallow copy = deep copy?!"
   ]
  },
  {
   "cell_type": "code",
   "execution_count": 6,
   "id": "2e2a7071-7667-4c90-a2a7-47806a3025a0",
   "metadata": {},
   "outputs": [],
   "source": [
    "A1=[[1,2],[3,4]]\n",
    "A2=A1.copy()\n",
    "B1=np.array([[1,2],[3,4]])\n",
    "B2=B1.copy()"
   ]
  },
  {
   "cell_type": "code",
   "execution_count": 8,
   "id": "ac144114-437f-4e10-99e2-4bcb33ee08ce",
   "metadata": {},
   "outputs": [],
   "source": [
    "A2[0][0]=11\n",
    "B2[0][0]=11"
   ]
  },
  {
   "cell_type": "code",
   "execution_count": 9,
   "id": "a6c8bff8-1fbd-499f-b182-806eb8116fb9",
   "metadata": {},
   "outputs": [
    {
     "data": {
      "text/plain": [
       "([[11, 2], [3, 4]], [[11, 2], [3, 4]])"
      ]
     },
     "execution_count": 9,
     "metadata": {},
     "output_type": "execute_result"
    }
   ],
   "source": [
    "A1,A2"
   ]
  },
  {
   "cell_type": "code",
   "execution_count": 10,
   "id": "58d38f8d-74d1-421f-be04-3dfc35d72bec",
   "metadata": {},
   "outputs": [
    {
     "data": {
      "text/plain": [
       "(array([[1, 2],\n",
       "        [3, 4]]),\n",
       " array([[11,  2],\n",
       "        [ 3,  4]]))"
      ]
     },
     "execution_count": 10,
     "metadata": {},
     "output_type": "execute_result"
    }
   ],
   "source": [
    "B1,B2"
   ]
  },
  {
   "cell_type": "markdown",
   "id": "3f1659ec-a020-452f-aa85-047d863c92ee",
   "metadata": {},
   "source": [
    "`-` 잠깐 생각좀.. \n",
    "\n",
    "- A2를 바꿨는데 A1이 같이 바뀌는 것은 의도하지 않은 side effect임. \n",
    "- 이러한 side effect가 생기는 이유는 파이썬이 메모리를 저장하기 위해서 shallow copy라는 희한한 짓을 하기 때문임. \n",
    "- 이런 side effect을 방지하기 위해서는 deep copy를 써야함. 이 deep copy는 메모리를 더 많이 잡아먹는 단점이 있다. \n",
    "- 요약하면 side effect 방지와 메모리사용은 trade off 관계에 있음. \n",
    "- 그런데 생각해보니까 B2역시 B1의 shallow copy 임. 따라서 deep copy보다 메모리를 적게씀. **그런데 side effect도 발생하지 않음!?**\n"
   ]
  },
  {
   "cell_type": "markdown",
   "id": "64e360e8-0408-443e-b0d3-67a746634e1a",
   "metadata": {},
   "source": [
    "`-` B1에서 B2를 만드는 과정은 메모리를 적게 쓰지만 side effect과 가은 문제가 없음! (천재인데..?)"
   ]
  },
  {
   "cell_type": "markdown",
   "id": "f3b43851-32bf-4369-b15b-4cb4cd0b22af",
   "metadata": {},
   "source": [
    "`-` 용어정리: (필요할까..?)\n",
    "\n",
    "- numpy 한정 `.copy()` 는 copy모듈의 deepcopy와 동등한 효과를 준다. 하지만 실제로는 shallow copy 이다. [공식문서](https://numpy.org/doc/stable/reference/generated/numpy.copy.html)에는 \"Note that np.copy is a shallow copy and will not copy object elements within arrays.\" 라고 명시되어 있음. \n",
    "- 일부 블로그에서 deep copy라고 주장하기도 함. [블로그1](https://humaneer.net/292), [블로그2](https://python.plainenglish.io/shallow-copy-and-deep-copy-in-python-numpy-8861e0870c5f), [블로그3](https://yeko90.tistory.com/entry/%EB%84%98%ED%8C%8C%EC%9D%B4-%EA%B8%B0%EC%B4%88-%EA%B9%8A%EC%9D%80-%EB%B3%B5%EC%82%AC-%EC%96%95%EC%9D%80-%EB%B3%B5%EC%82%AC-copy-view) // 블로그2의 경우 참조와 shallow copy도 구분못함.. \n",
    "- 이따가 view라는 개념도 나올텐데 `.copy()`를 deep copy라고 주장하는 블로거들 대부분 `.view()`를 shallow copy 혹은 참조라고 주장한다. 하지만 copy와 view를 설명하는 [공식문서](https://numpy.org/doc/stable/user/basics.copies.html)에서는 view가 shallow copy라는 말을 찾아볼 수 없음. \n",
    "- 사실 좀 애매한게 copy가 shallow copy 와 deep copy 둘만 있는건 아님. 사실 `.view()`와 `.copy()` 만 놓고 비교할 때 `.view()`가 `.copy()`보다 더 얕은 수준의 복사를 하는것도 사실임 (반대로 `.copy()` 가 `.view()`보다 더 깊은 수준의 복사를 하는 것도 사실임) "
   ]
  },
  {
   "cell_type": "markdown",
   "id": "cac7fd79-0ea8-4cc6-b642-fb4a9d580511",
   "metadata": {},
   "source": [
    "## 참조 "
   ]
  },
  {
   "cell_type": "markdown",
   "id": "17f34fd7-64f5-49f9-98ed-02e4f8d5ae1c",
   "metadata": {},
   "source": [
    "`-` a를 선언, b는 a의 참조"
   ]
  },
  {
   "cell_type": "code",
   "execution_count": 407,
   "id": "c957dbec-1fdb-481a-b473-e22b60d33883",
   "metadata": {},
   "outputs": [],
   "source": [
    "a=np.array([[1,2],[3,4]])\n",
    "b=a ## 참조 "
   ]
  },
  {
   "cell_type": "code",
   "execution_count": 408,
   "id": "9d96e896-5558-4f86-9546-b668b6d2323e",
   "metadata": {},
   "outputs": [
    {
     "data": {
      "text/plain": [
       "array([[1, 2],\n",
       "       [3, 4]])"
      ]
     },
     "execution_count": 408,
     "metadata": {},
     "output_type": "execute_result"
    }
   ],
   "source": [
    "a"
   ]
  },
  {
   "cell_type": "code",
   "execution_count": 409,
   "id": "6599fe74-a11b-4b93-83a0-753068028a01",
   "metadata": {},
   "outputs": [
    {
     "data": {
      "text/plain": [
       "array([[1, 2],\n",
       "       [3, 4]])"
      ]
     },
     "execution_count": 409,
     "metadata": {},
     "output_type": "execute_result"
    }
   ],
   "source": [
    "b"
   ]
  },
  {
   "cell_type": "code",
   "execution_count": 410,
   "id": "9f59dad8-49de-481f-9920-0279e85d8e8d",
   "metadata": {},
   "outputs": [
    {
     "data": {
      "text/plain": [
       "(2, 2)"
      ]
     },
     "execution_count": 410,
     "metadata": {},
     "output_type": "execute_result"
    }
   ],
   "source": [
    "a.shape"
   ]
  },
  {
   "cell_type": "code",
   "execution_count": 411,
   "id": "ccf005ef-897b-4262-9354-e34872bbf451",
   "metadata": {},
   "outputs": [
    {
     "data": {
      "text/plain": [
       "(2, 2)"
      ]
     },
     "execution_count": 411,
     "metadata": {},
     "output_type": "execute_result"
    }
   ],
   "source": [
    "b.shape"
   ]
  },
  {
   "cell_type": "markdown",
   "id": "75839aca-da17-4f2f-99aa-79c09d6a71af",
   "metadata": {},
   "source": [
    "`-` a의 shape을 바꾸어보자 $\\to$ b도 같이 바뀐다 "
   ]
  },
  {
   "cell_type": "code",
   "execution_count": 412,
   "id": "52b8eb33-71c1-4a2e-9e59-e274d3783fcc",
   "metadata": {},
   "outputs": [],
   "source": [
    "a.shape = (4,)"
   ]
  },
  {
   "cell_type": "code",
   "execution_count": 413,
   "id": "d81333e4-cd35-4f64-996c-7711d83b360c",
   "metadata": {},
   "outputs": [
    {
     "data": {
      "text/plain": [
       "array([1, 2, 3, 4])"
      ]
     },
     "execution_count": 413,
     "metadata": {},
     "output_type": "execute_result"
    }
   ],
   "source": [
    "a"
   ]
  },
  {
   "cell_type": "code",
   "execution_count": 414,
   "id": "89a49222-d654-43e6-82a1-939596574050",
   "metadata": {},
   "outputs": [
    {
     "data": {
      "text/plain": [
       "array([1, 2, 3, 4])"
      ]
     },
     "execution_count": 414,
     "metadata": {},
     "output_type": "execute_result"
    }
   ],
   "source": [
    "b"
   ]
  },
  {
   "cell_type": "code",
   "execution_count": 415,
   "id": "ef155c62-a4df-4b9f-9030-42a5d8e13de9",
   "metadata": {},
   "outputs": [
    {
     "data": {
      "text/plain": [
       "(139753605843920, 139753605843920)"
      ]
     },
     "execution_count": 415,
     "metadata": {},
     "output_type": "execute_result"
    }
   ],
   "source": [
    "id(a),id(b)"
   ]
  },
  {
   "cell_type": "markdown",
   "id": "16d0f819-2f7f-4b23-a229-5e36831bfdd3",
   "metadata": {
    "tags": []
   },
   "source": [
    "## view "
   ]
  },
  {
   "cell_type": "markdown",
   "id": "8591b891-4c1e-4905-b0b9-1a5efd416596",
   "metadata": {},
   "source": [
    "`-` a를 선언, b는 a의 view"
   ]
  },
  {
   "cell_type": "code",
   "execution_count": 11,
   "id": "34df91d7-170b-4e62-8ae9-c7ad024db527",
   "metadata": {},
   "outputs": [],
   "source": [
    "a=np.array([[1,2],[3,4]]) \n",
    "b=a.view() ## 어떤 블로그등에서는 shallow copy 라고 부르기도 한다. "
   ]
  },
  {
   "cell_type": "code",
   "execution_count": 12,
   "id": "de5fed9a-e95f-48fb-929a-80e667b20f58",
   "metadata": {},
   "outputs": [
    {
     "data": {
      "text/plain": [
       "array([[1, 2],\n",
       "       [3, 4]])"
      ]
     },
     "execution_count": 12,
     "metadata": {},
     "output_type": "execute_result"
    }
   ],
   "source": [
    "a"
   ]
  },
  {
   "cell_type": "code",
   "execution_count": 13,
   "id": "2c1c3e31-f60b-4c87-ab0b-0a015d7c65b0",
   "metadata": {},
   "outputs": [
    {
     "data": {
      "text/plain": [
       "array([[1, 2],\n",
       "       [3, 4]])"
      ]
     },
     "execution_count": 13,
     "metadata": {},
     "output_type": "execute_result"
    }
   ],
   "source": [
    "b"
   ]
  },
  {
   "cell_type": "code",
   "execution_count": 14,
   "id": "73d838de-09ba-4cb2-b49d-2568e5777d49",
   "metadata": {},
   "outputs": [
    {
     "data": {
      "text/plain": [
       "(2, 2)"
      ]
     },
     "execution_count": 14,
     "metadata": {},
     "output_type": "execute_result"
    }
   ],
   "source": [
    "a.shape"
   ]
  },
  {
   "cell_type": "code",
   "execution_count": 15,
   "id": "872eed6d-b74f-461d-abc3-6dcee243c1ff",
   "metadata": {},
   "outputs": [
    {
     "data": {
      "text/plain": [
       "(2, 2)"
      ]
     },
     "execution_count": 15,
     "metadata": {},
     "output_type": "execute_result"
    }
   ],
   "source": [
    "b.shape"
   ]
  },
  {
   "cell_type": "code",
   "execution_count": 16,
   "id": "9c50d508-0e35-4655-95d7-d42dc3e31a9a",
   "metadata": {},
   "outputs": [],
   "source": [
    "a.shape= (4,1)"
   ]
  },
  {
   "cell_type": "code",
   "execution_count": 17,
   "id": "6d4d266c-fa4a-4743-b6ad-cacec418b6a3",
   "metadata": {},
   "outputs": [
    {
     "data": {
      "text/plain": [
       "array([[1],\n",
       "       [2],\n",
       "       [3],\n",
       "       [4]])"
      ]
     },
     "execution_count": 17,
     "metadata": {},
     "output_type": "execute_result"
    }
   ],
   "source": [
    "a"
   ]
  },
  {
   "cell_type": "code",
   "execution_count": 18,
   "id": "200bc012-c881-4735-92c1-4b88f3850ed7",
   "metadata": {},
   "outputs": [
    {
     "data": {
      "text/plain": [
       "array([[1, 2],\n",
       "       [3, 4]])"
      ]
     },
     "execution_count": 18,
     "metadata": {},
     "output_type": "execute_result"
    }
   ],
   "source": [
    "b"
   ]
  },
  {
   "cell_type": "code",
   "execution_count": 19,
   "id": "8c489cb6-94d7-4f70-8086-aa114a8c4b6e",
   "metadata": {},
   "outputs": [
    {
     "data": {
      "text/plain": [
       "(140105048258768, 140105048259152)"
      ]
     },
     "execution_count": 19,
     "metadata": {},
     "output_type": "execute_result"
    }
   ],
   "source": [
    "id(a), id(b)"
   ]
  },
  {
   "cell_type": "markdown",
   "id": "9e03c1be-97c9-4296-9a79-94d23042dd78",
   "metadata": {},
   "source": [
    "`-` 그런데.. "
   ]
  },
  {
   "cell_type": "code",
   "execution_count": 20,
   "id": "3dcbd103-b3cf-4ea9-94a8-0a9880c83349",
   "metadata": {},
   "outputs": [],
   "source": [
    "a[0]=100"
   ]
  },
  {
   "cell_type": "code",
   "execution_count": 21,
   "id": "ebf8148e-698f-4b5a-b9ea-9de0407d76d7",
   "metadata": {},
   "outputs": [
    {
     "data": {
      "text/plain": [
       "array([[100],\n",
       "       [  2],\n",
       "       [  3],\n",
       "       [  4]])"
      ]
     },
     "execution_count": 21,
     "metadata": {},
     "output_type": "execute_result"
    }
   ],
   "source": [
    "a"
   ]
  },
  {
   "cell_type": "code",
   "execution_count": 22,
   "id": "1014415a-bce8-4136-8903-e718e471ca3d",
   "metadata": {},
   "outputs": [
    {
     "data": {
      "text/plain": [
       "array([[100,   2],\n",
       "       [  3,   4]])"
      ]
     },
     "execution_count": 22,
     "metadata": {},
     "output_type": "execute_result"
    }
   ],
   "source": [
    "b"
   ]
  },
  {
   "cell_type": "markdown",
   "id": "0e87420a-8149-4b21-80bc-a5c4d3b4357e",
   "metadata": {},
   "source": [
    "`-` 출생의 비밀 "
   ]
  },
  {
   "cell_type": "code",
   "execution_count": 23,
   "id": "48fd56e1-c173-4fb1-8517-248de395b709",
   "metadata": {},
   "outputs": [
    {
     "data": {
      "text/plain": [
       "array([[100,   2],\n",
       "       [  3,   4]])"
      ]
     },
     "execution_count": 23,
     "metadata": {},
     "output_type": "execute_result"
    }
   ],
   "source": [
    "b"
   ]
  },
  {
   "cell_type": "code",
   "execution_count": 24,
   "id": "b0baf2f0-3d61-45b3-890b-a4c58e57939e",
   "metadata": {},
   "outputs": [
    {
     "data": {
      "text/plain": [
       "array([[100],\n",
       "       [  2],\n",
       "       [  3],\n",
       "       [  4]])"
      ]
     },
     "execution_count": 24,
     "metadata": {},
     "output_type": "execute_result"
    }
   ],
   "source": [
    "b.base"
   ]
  },
  {
   "cell_type": "markdown",
   "id": "f71707aa-6dea-400f-8f3f-2aecfb2bdcc1",
   "metadata": {},
   "source": [
    "- ? 이거 바뀐 a아니야? "
   ]
  },
  {
   "cell_type": "code",
   "execution_count": 25,
   "id": "db60fe0c-0645-4fa2-887c-8a0111f04934",
   "metadata": {},
   "outputs": [
    {
     "data": {
      "text/plain": [
       "(140105048258768, 140105048258768)"
      ]
     },
     "execution_count": 25,
     "metadata": {},
     "output_type": "execute_result"
    }
   ],
   "source": [
    "id(b.base), id(a)"
   ]
  },
  {
   "cell_type": "markdown",
   "id": "5fe4b4da-d1bd-4bb7-b0ec-c408f76cfe28",
   "metadata": {},
   "source": [
    "`-` View \n",
    "\n",
    "- b가 a의 뷰라는 의미는, b가 a를 소스로하여 만들어진 오브젝트란 의미이다. \n",
    "- 따라서 이때 b.base는 a가 된다. \n",
    "- b는 자체적으로 데이터를 가지고 있지 않으며 a와 공유한다. "
   ]
  },
  {
   "cell_type": "markdown",
   "id": "9ac8d904-5c80-4a5b-9666-bdc42b27f93f",
   "metadata": {},
   "source": [
    "`note1` 원본 ndarray의 일 경우는 .base가 None으로 나온다. "
   ]
  },
  {
   "cell_type": "code",
   "execution_count": 433,
   "id": "637e56a5-8920-40a9-b2e8-d8377b94590d",
   "metadata": {},
   "outputs": [],
   "source": [
    "a.base"
   ]
  },
  {
   "cell_type": "markdown",
   "id": "7a405989-b5cb-4392-b024-51d0791fb9e4",
   "metadata": {},
   "source": [
    "`note2` b.base의 shpae과 b의 shape은 아무 관련없다. "
   ]
  },
  {
   "cell_type": "code",
   "execution_count": 434,
   "id": "c3c46e6e-94e3-41f3-9e6e-59a9daa26689",
   "metadata": {},
   "outputs": [
    {
     "data": {
      "text/plain": [
       "(2, 2)"
      ]
     },
     "execution_count": 434,
     "metadata": {},
     "output_type": "execute_result"
    }
   ],
   "source": [
    "b.shape"
   ]
  },
  {
   "cell_type": "code",
   "execution_count": 435,
   "id": "c29b0e3f-9909-4c58-b9a6-7ee5e92973f2",
   "metadata": {},
   "outputs": [
    {
     "data": {
      "text/plain": [
       "(4, 1)"
      ]
     },
     "execution_count": 435,
     "metadata": {},
     "output_type": "execute_result"
    }
   ],
   "source": [
    "b.base.shape # a.shape과 같음"
   ]
  },
  {
   "cell_type": "markdown",
   "id": "702f0c53-cade-4750-8cc6-ed69c3a9bf3a",
   "metadata": {},
   "source": [
    "`-` numpy에서 view를 사용하는 예시 (transpose)"
   ]
  },
  {
   "cell_type": "code",
   "execution_count": 54,
   "id": "a231a4bb-eceb-4b62-aa77-7a3ddcaa8f12",
   "metadata": {},
   "outputs": [
    {
     "data": {
      "text/plain": [
       "(140104289713104, 140104289713104)"
      ]
     },
     "execution_count": 54,
     "metadata": {},
     "output_type": "execute_result"
    }
   ],
   "source": [
    "X = np.random.normal(size=[100,2])\n",
    "id((X.T).base), id(X)"
   ]
  },
  {
   "cell_type": "markdown",
   "id": "311dd8b0-9ae9-48bd-9072-6b6dbcc8ee19",
   "metadata": {},
   "source": [
    "- `X.T` 는 `X`의 view 이다."
   ]
  },
  {
   "cell_type": "code",
   "execution_count": 57,
   "id": "378b7daf-30ad-4dcf-a32d-227c1626c5f3",
   "metadata": {},
   "outputs": [
    {
     "data": {
      "text/plain": [
       "array([[81.26122629,  4.44010058],\n",
       "       [ 4.44010058, 82.45450712]])"
      ]
     },
     "execution_count": 57,
     "metadata": {},
     "output_type": "execute_result"
    }
   ],
   "source": [
    "X.T @ X ## 실제로 X.T를 메모리공간에 새로 만들어 숫자를 저장하지않고 X.T @ X를 계산할 수 있음 (R과차이점) "
   ]
  },
  {
   "cell_type": "markdown",
   "id": "2480de42-00f8-4aad-a23c-ff2d5738eb72",
   "metadata": {},
   "source": [
    "## copy "
   ]
  },
  {
   "cell_type": "markdown",
   "id": "2a6aeaab-6c76-4f59-a159-ac4ac33ca4f7",
   "metadata": {},
   "source": [
    "`-` a를 선언, b는 a의 copy"
   ]
  },
  {
   "cell_type": "code",
   "execution_count": 114,
   "id": "38c41ca0-bccc-4183-a51c-a42ffc401bd4",
   "metadata": {},
   "outputs": [],
   "source": [
    "a=np.array([[1,2],[3,4]])\n",
    "b=a.copy() # 껍데기를 새로 생성 (strides, shape) + 데이터도 a와 독립적으로 새로 생성하여 따로 메모리에 저장함. "
   ]
  },
  {
   "cell_type": "code",
   "execution_count": 492,
   "id": "080d58a1-ea8b-4891-8d33-17f3b98a4195",
   "metadata": {},
   "outputs": [
    {
     "data": {
      "text/plain": [
       "(139753151672016, 139753151660368)"
      ]
     },
     "execution_count": 492,
     "metadata": {},
     "output_type": "execute_result"
    }
   ],
   "source": [
    "id(a),id(b)"
   ]
  },
  {
   "cell_type": "markdown",
   "id": "4796e677-aac3-417a-93a5-b488e4a255eb",
   "metadata": {},
   "source": [
    "`-` a의 shape을 바꿔도 b에는 적용되지 않음 "
   ]
  },
  {
   "cell_type": "code",
   "execution_count": 438,
   "id": "b10cd802-5e2f-4c3d-a6a3-ff84bbff158a",
   "metadata": {},
   "outputs": [
    {
     "data": {
      "text/plain": [
       "array([[1],\n",
       "       [2],\n",
       "       [3],\n",
       "       [4]])"
      ]
     },
     "execution_count": 438,
     "metadata": {},
     "output_type": "execute_result"
    }
   ],
   "source": [
    "a.shape = (4,1)\n",
    "a"
   ]
  },
  {
   "cell_type": "code",
   "execution_count": 439,
   "id": "d9043667-24c2-4922-b517-80bbe22e7e5a",
   "metadata": {},
   "outputs": [
    {
     "data": {
      "text/plain": [
       "array([[1, 2],\n",
       "       [3, 4]])"
      ]
     },
     "execution_count": 439,
     "metadata": {},
     "output_type": "execute_result"
    }
   ],
   "source": [
    "b"
   ]
  },
  {
   "cell_type": "markdown",
   "id": "a51db13b-689f-43f7-881c-efe5a51d36dd",
   "metadata": {},
   "source": [
    "`-` 그리고 a[0]의 값을 바꿔도 b에는 적용되지 않음. "
   ]
  },
  {
   "cell_type": "code",
   "execution_count": 440,
   "id": "7b642832-5bae-4160-9556-90b56796d6a4",
   "metadata": {},
   "outputs": [],
   "source": [
    "a[0]=100"
   ]
  },
  {
   "cell_type": "code",
   "execution_count": 441,
   "id": "5989c838-d61b-484b-b595-4bd2c4ba080d",
   "metadata": {},
   "outputs": [
    {
     "data": {
      "text/plain": [
       "array([[100],\n",
       "       [  2],\n",
       "       [  3],\n",
       "       [  4]])"
      ]
     },
     "execution_count": 441,
     "metadata": {},
     "output_type": "execute_result"
    }
   ],
   "source": [
    "a"
   ]
  },
  {
   "cell_type": "code",
   "execution_count": 442,
   "id": "cd872fec-4c5f-4f5f-a608-7fc3fc1875ef",
   "metadata": {},
   "outputs": [
    {
     "data": {
      "text/plain": [
       "array([[1, 2],\n",
       "       [3, 4]])"
      ]
     },
     "execution_count": 442,
     "metadata": {},
     "output_type": "execute_result"
    }
   ],
   "source": [
    "b"
   ]
  },
  {
   "cell_type": "markdown",
   "id": "fb16f308-1041-4288-8706-61b052ea842c",
   "metadata": {},
   "source": [
    "`-` b의 출생을 조사해보니.. "
   ]
  },
  {
   "cell_type": "code",
   "execution_count": 443,
   "id": "8035e70a-93a0-4ce3-8fd2-d27c1928e0f5",
   "metadata": {},
   "outputs": [
    {
     "data": {
      "text/plain": [
       "(None, None)"
      ]
     },
     "execution_count": 443,
     "metadata": {},
     "output_type": "execute_result"
    }
   ],
   "source": [
    "a.base,b.base"
   ]
  },
  {
   "cell_type": "markdown",
   "id": "fa7e130b-71ee-4d54-8e17-bafa01f1b989",
   "metadata": {},
   "source": [
    "출생의 비밀은 없었다. 둘다 원본. "
   ]
  },
  {
   "cell_type": "markdown",
   "id": "b44f8bb8-1e84-4a44-88c8-7573f5df56e1",
   "metadata": {},
   "source": [
    "`-` `.view()` 는 껍데기만 새로생성 //  `.copy()` 는 껍데기와 데이터를 모두 새로 생성 "
   ]
  },
  {
   "cell_type": "markdown",
   "id": "10c1aafa-196e-4e04-8839-7536466685ca",
   "metadata": {},
   "source": [
    "### ***Appendix: .copy의 한계(?)***"
   ]
  },
  {
   "cell_type": "markdown",
   "id": "896eae96-41d4-4d7f-8968-eb64be0abaa2",
   "metadata": {},
   "source": [
    "(관찰)"
   ]
  },
  {
   "cell_type": "code",
   "execution_count": 82,
   "id": "73b73901-8783-4f23-b5ff-694185f016e8",
   "metadata": {},
   "outputs": [
    {
     "name": "stdout",
     "output_type": "stream",
     "text": [
      "시점1\n",
      "a= [1 list([1, 2])]\n",
      "b= [1 list([1, 2])]\n",
      "시점2\n",
      "a= [222 list([1, 2])]\n",
      "b= [1 list([1, 2])]\n",
      "시점2\n",
      "a= [222 list([333, 2])]\n",
      "b= [1 list([333, 2])]\n"
     ]
    }
   ],
   "source": [
    "a=np.array([1,[1,2]],dtype='O')\n",
    "b=a.copy()\n",
    "print('시점1')\n",
    "print('a=',a)\n",
    "print('b=',b)\n",
    "\n",
    "a[0]=222\n",
    "print('시점2')\n",
    "print('a=',a)\n",
    "print('b=',b)\n",
    "\n",
    "a[1][0]=333\n",
    "print('시점2')\n",
    "print('a=',a)\n",
    "print('b=',b)"
   ]
  },
  {
   "cell_type": "markdown",
   "id": "b5160302-ab35-426a-ac83-08b73f4ae8eb",
   "metadata": {},
   "source": [
    "- 왜 또 시점2에서는 a와 b가 같이 움직여?"
   ]
  },
  {
   "cell_type": "markdown",
   "id": "99c82653-0abc-40f1-b789-ce961f81c5d0",
   "metadata": {},
   "source": [
    "***해결책: 더 깊은 복사***"
   ]
  },
  {
   "cell_type": "code",
   "execution_count": 28,
   "id": "3df8f514-4c47-4824-8e09-0e2a49145465",
   "metadata": {},
   "outputs": [
    {
     "name": "stdout",
     "output_type": "stream",
     "text": [
      "시점1\n",
      "a= [1 list([1, 2])]\n",
      "b= [1 list([1, 2])]\n",
      "시점2\n",
      "a= [222 list([1, 2])]\n",
      "b= [1 list([1, 2])]\n",
      "시점2\n",
      "a= [222 list([333, 2])]\n",
      "b= [1 list([1, 2])]\n"
     ]
    }
   ],
   "source": [
    "a=np.array([1,[1,2]],dtype='O')\n",
    "b=copy.deepcopy(a)\n",
    "print('시점1')\n",
    "print('a=',a)\n",
    "print('b=',b)\n",
    "\n",
    "a[0]=222\n",
    "print('시점2')\n",
    "print('a=',a)\n",
    "print('b=',b)\n",
    "\n",
    "a[1][0]=333\n",
    "print('시점2')\n",
    "print('a=',a)\n",
    "print('b=',b)"
   ]
  },
  {
   "cell_type": "markdown",
   "id": "1fe95e1e-632d-4b17-bde8-b83581e26838",
   "metadata": {},
   "source": [
    "`-` 중간요약\n",
    "\n",
    "- 사실 `b=a.copy()`는 에서 `.copy()`는 사실 온전한 deep-copy가 아니다. \n",
    "- 그래서 `a`의 데이터가 중첩구조를 가지는 경우는 온전한 deep-copy가 수행되지 않는다. \n",
    "- 그런데 일반적으로 넘파이를 이용할때 자주 사용하는 데이터 구조인 행렬, 텐서등은 데이터가 중첩구조를 가지지 않는다. (1차원 array로만 저장되어 있음) \n",
    "- 따라서 행렬, 텐서에 한정하면 `.copy()`는 온전한 deep-copy라고 이해해도 무방하다. <-- 이것만 기억해!"
   ]
  },
  {
   "cell_type": "markdown",
   "id": "94c93837-7b3c-42f7-96d4-ad7780f06aff",
   "metadata": {},
   "source": [
    "## 요약 "
   ]
  },
  {
   "cell_type": "markdown",
   "id": "40506fc1-d95f-4c7e-b868-decb5b9f2d37",
   "metadata": {},
   "source": [
    "아래를 구분할 수 있으면 잘 이해한 것!! "
   ]
  },
  {
   "cell_type": "markdown",
   "id": "bf7769fe-27f8-4436-980d-2c7bc062bbd1",
   "metadata": {},
   "source": [
    "```Python \n",
    "arr = np.array(...) # arr -- [arr.shape, arr.strides, arr.base, ... ] \n",
    "arr2 = arr \n",
    "arr2 = arr.view()\n",
    "arr2 = arr.copy()\n",
    "arr2 = copy.deepcopy(arr)\n",
    "```"
   ]
  },
  {
   "cell_type": "markdown",
   "id": "aa446f05-2e25-44bd-8a96-1c47984028fe",
   "metadata": {},
   "source": [
    "## 별명, 뷰, 카피 "
   ]
  },
  {
   "cell_type": "markdown",
   "id": "ac458ca0-1ac8-433e-85b7-6a838cd2aa6f",
   "metadata": {},
   "source": [
    "`-` test 함수 작성 "
   ]
  },
  {
   "cell_type": "code",
   "execution_count": 88,
   "id": "24bc1cb7-4f0b-4da6-b4c7-51b7ea3cd4f0",
   "metadata": {},
   "outputs": [],
   "source": [
    "def test(a,b): \n",
    "    if id(a) == id(b): \n",
    "        print(\"별명\")\n",
    "    elif id(a) == id(b.base) or id(a.base)==id(b): \n",
    "        print(\"뷰\")\n",
    "    elif (id(a.base)!=id(None) and id(b.base)!=id(None)) and id(a.base) == id(b.base):\n",
    "        print(\"공통의 base를 가짐\")\n",
    "    else: \n",
    "        print(\"카피, 혹은 아무 관련없는 오브젝트\") "
   ]
  },
  {
   "cell_type": "markdown",
   "id": "7b73912f-d883-4ee0-aaca-7c6ceaaaa4f4",
   "metadata": {},
   "source": [
    "`-` 잘 동작하나? "
   ]
  },
  {
   "cell_type": "markdown",
   "id": "db1f00b9-e9ea-4f33-bbb2-37d319c763a5",
   "metadata": {},
   "source": [
    "(테스트1) "
   ]
  },
  {
   "cell_type": "code",
   "execution_count": 89,
   "id": "2e1cf4d9-a8d9-4004-9698-0c72c21e4d4e",
   "metadata": {},
   "outputs": [],
   "source": [
    "a=np.array([1,2,3,4])\n",
    "b=a"
   ]
  },
  {
   "cell_type": "code",
   "execution_count": 90,
   "id": "573fa673-7aed-4e7f-8e9b-8b22bedda0e7",
   "metadata": {},
   "outputs": [
    {
     "name": "stdout",
     "output_type": "stream",
     "text": [
      "별명\n"
     ]
    }
   ],
   "source": [
    "test(a,b)"
   ]
  },
  {
   "cell_type": "markdown",
   "id": "9fd18fa1-6569-415a-9aa2-992a5f5a5621",
   "metadata": {},
   "source": [
    "(테스트2) "
   ]
  },
  {
   "cell_type": "code",
   "execution_count": 91,
   "id": "a68f386e-a116-4ca0-abd1-7a02feeb2322",
   "metadata": {},
   "outputs": [],
   "source": [
    "a=np.array([1,2,3,4])\n",
    "b=a.view()"
   ]
  },
  {
   "cell_type": "code",
   "execution_count": 92,
   "id": "c4927633-c025-4b2f-949d-ce74e866ce76",
   "metadata": {},
   "outputs": [
    {
     "name": "stdout",
     "output_type": "stream",
     "text": [
      "뷰\n"
     ]
    }
   ],
   "source": [
    "test(a,b)"
   ]
  },
  {
   "cell_type": "markdown",
   "id": "39b87b83-6730-40fd-a4ab-84d65c26c21a",
   "metadata": {},
   "source": [
    "(테스트3) "
   ]
  },
  {
   "cell_type": "code",
   "execution_count": 93,
   "id": "05422e97-001a-4cdc-b44b-73419e357379",
   "metadata": {},
   "outputs": [],
   "source": [
    "a=np.array([1,2,3,4])\n",
    "b=a.view()\n",
    "c=a.view()"
   ]
  },
  {
   "cell_type": "code",
   "execution_count": 94,
   "id": "08952ed4-ebf1-4606-a8ae-40ae9c43dee3",
   "metadata": {},
   "outputs": [
    {
     "name": "stdout",
     "output_type": "stream",
     "text": [
      "공통의 base를 가짐\n"
     ]
    }
   ],
   "source": [
    "test(b,c)"
   ]
  },
  {
   "cell_type": "code",
   "execution_count": 95,
   "id": "5af14c33-0d23-4d0f-86f9-c0672865ae7f",
   "metadata": {},
   "outputs": [
    {
     "name": "stdout",
     "output_type": "stream",
     "text": [
      "뷰\n"
     ]
    }
   ],
   "source": [
    "test(a,b)"
   ]
  },
  {
   "cell_type": "code",
   "execution_count": 96,
   "id": "1d38d4d1-f47b-4bbb-a21f-e5da43773e54",
   "metadata": {},
   "outputs": [
    {
     "name": "stdout",
     "output_type": "stream",
     "text": [
      "뷰\n"
     ]
    }
   ],
   "source": [
    "test(a,c)"
   ]
  },
  {
   "cell_type": "markdown",
   "id": "57c7bf07-72d5-4fd0-8598-72f264e79910",
   "metadata": {},
   "source": [
    "(테스트4) "
   ]
  },
  {
   "cell_type": "code",
   "execution_count": 97,
   "id": "71c47502-70b0-48b8-a944-0ea79b51b9ac",
   "metadata": {},
   "outputs": [],
   "source": [
    "a=np.array([1,2,3,4])\n",
    "b=a.copy()"
   ]
  },
  {
   "cell_type": "code",
   "execution_count": 98,
   "id": "25b3141a-179a-46cb-b594-51523eed2916",
   "metadata": {},
   "outputs": [
    {
     "name": "stdout",
     "output_type": "stream",
     "text": [
      "카피, 혹은 아무 관련없는 오브젝트\n"
     ]
    }
   ],
   "source": [
    "test(a,b)"
   ]
  },
  {
   "cell_type": "markdown",
   "id": "08526162-bc56-47d2-a6de-6a322e91d356",
   "metadata": {},
   "source": [
    "## 결론 "
   ]
  },
  {
   "cell_type": "markdown",
   "id": "1b13ba96-6905-4d53-84e5-c167a5ab22f1",
   "metadata": {},
   "source": [
    "`-` 참조, 뷰, 카피의 개념을 잘 알고 있고 때에 따라 이들을 적절하게 사용하며 효율적으로 메모리를 쓰고 싶을것 같음. 하지만 이건 불가능한 소망임. "
   ]
  },
  {
   "cell_type": "markdown",
   "id": "90419860-077f-4b88-8129-e1088bbc2dc4",
   "metadata": {},
   "source": [
    "`-` 우리가 사용했던 어떠한 것들이 뷰가 나올지 카피가 나올지 잘 모른다. (그래서 원리를 이해해도 대응할 방법이 사실없음) "
   ]
  },
  {
   "cell_type": "markdown",
   "id": "f2d4303e-c69c-451c-a9ce-b1eb3ab0f7d5",
   "metadata": {},
   "source": [
    "### 예시1"
   ]
  },
  {
   "cell_type": "code",
   "execution_count": 101,
   "id": "c42bb30a-9715-4bdd-91df-0b8055f5ed13",
   "metadata": {},
   "outputs": [],
   "source": [
    "a=np.array([1,2,3,4])\n",
    "b=a[:3]"
   ]
  },
  {
   "cell_type": "code",
   "execution_count": 102,
   "id": "eba7b9fc-4577-45bd-86de-6a1625c1eabe",
   "metadata": {},
   "outputs": [
    {
     "data": {
      "text/plain": [
       "array([1, 2, 3, 4])"
      ]
     },
     "execution_count": 102,
     "metadata": {},
     "output_type": "execute_result"
    }
   ],
   "source": [
    "a"
   ]
  },
  {
   "cell_type": "code",
   "execution_count": 103,
   "id": "7d3b190b-f83f-4f5e-881d-008d66081556",
   "metadata": {},
   "outputs": [
    {
     "data": {
      "text/plain": [
       "array([1, 2, 3])"
      ]
     },
     "execution_count": 103,
     "metadata": {},
     "output_type": "execute_result"
    }
   ],
   "source": [
    "b"
   ]
  },
  {
   "cell_type": "code",
   "execution_count": 104,
   "id": "163d44f8-4c29-4475-85d4-a04008b0b5cb",
   "metadata": {},
   "outputs": [
    {
     "name": "stdout",
     "output_type": "stream",
     "text": [
      "뷰\n"
     ]
    }
   ],
   "source": [
    "test(a,b)"
   ]
  },
  {
   "cell_type": "code",
   "execution_count": 105,
   "id": "7f7ec59e-f7ba-4224-a9e0-56955a6838a8",
   "metadata": {},
   "outputs": [
    {
     "data": {
      "text/plain": [
       "array([1, 2, 3])"
      ]
     },
     "execution_count": 105,
     "metadata": {},
     "output_type": "execute_result"
    }
   ],
   "source": [
    "c=a[[0,1,2]]\n",
    "c"
   ]
  },
  {
   "cell_type": "code",
   "execution_count": 106,
   "id": "f340db98-1fa8-406a-a4e2-01bc751c19df",
   "metadata": {},
   "outputs": [
    {
     "name": "stdout",
     "output_type": "stream",
     "text": [
      "카피, 혹은 아무 관련없는 오브젝트\n"
     ]
    }
   ],
   "source": [
    "test(a,c)"
   ]
  },
  {
   "cell_type": "markdown",
   "id": "20261455-6c74-4b13-9a8c-65389987fb7b",
   "metadata": {},
   "source": [
    "### 예시2"
   ]
  },
  {
   "cell_type": "code",
   "execution_count": 107,
   "id": "c1aa466c-a9aa-4897-9154-ab204d964341",
   "metadata": {},
   "outputs": [
    {
     "data": {
      "text/plain": [
       "array([[1, 2],\n",
       "       [3, 4]])"
      ]
     },
     "execution_count": 107,
     "metadata": {},
     "output_type": "execute_result"
    }
   ],
   "source": [
    "a=np.array([[1,2],[3,4]])\n",
    "a"
   ]
  },
  {
   "cell_type": "code",
   "execution_count": 108,
   "id": "0d0ae18e-a889-4dbf-a267-afb14a06657e",
   "metadata": {},
   "outputs": [],
   "source": [
    "b=a.flatten()\n",
    "c=a.ravel()\n",
    "d=a.reshape(-1)"
   ]
  },
  {
   "cell_type": "code",
   "execution_count": 109,
   "id": "e9ac0892-a2d4-4b27-9a21-69ddf8a27c1b",
   "metadata": {},
   "outputs": [
    {
     "name": "stdout",
     "output_type": "stream",
     "text": [
      "카피, 혹은 아무 관련없는 오브젝트\n"
     ]
    }
   ],
   "source": [
    "test(a,b)"
   ]
  },
  {
   "cell_type": "code",
   "execution_count": 110,
   "id": "93b2409c-d906-4f7c-9292-edbf2ff3ae7c",
   "metadata": {},
   "outputs": [
    {
     "name": "stdout",
     "output_type": "stream",
     "text": [
      "뷰\n"
     ]
    }
   ],
   "source": [
    "test(a,c)"
   ]
  },
  {
   "cell_type": "code",
   "execution_count": 111,
   "id": "f85d48ba-1462-436c-946c-7203a072f64a",
   "metadata": {},
   "outputs": [
    {
     "name": "stdout",
     "output_type": "stream",
     "text": [
      "뷰\n"
     ]
    }
   ],
   "source": [
    "test(a,d)"
   ]
  },
  {
   "cell_type": "code",
   "execution_count": 112,
   "id": "692a34ed-ce94-4597-9345-efa84384e0ca",
   "metadata": {},
   "outputs": [
    {
     "name": "stdout",
     "output_type": "stream",
     "text": [
      "공통의 base를 가짐\n"
     ]
    }
   ],
   "source": [
    "test(c,d)"
   ]
  },
  {
   "cell_type": "code",
   "execution_count": 113,
   "id": "2fae4c5b-444c-4f9c-9bc9-fdada736c20b",
   "metadata": {},
   "outputs": [
    {
     "name": "stdout",
     "output_type": "stream",
     "text": [
      "카피, 혹은 아무 관련없는 오브젝트\n"
     ]
    }
   ],
   "source": [
    "test(b,c)"
   ]
  },
  {
   "cell_type": "markdown",
   "id": "c40da9d7-7ae0-4383-a81e-c08dedbaa230",
   "metadata": {},
   "source": [
    "`-` 심지어 copy인줄 알았던것이 사실 view라서 원치않는 side effect이 생길수 있음. $\\to$ 그냥 방어적 프로그래밍이 최선인듯 "
   ]
  }
 ],
 "metadata": {
  "kernelspec": {
   "display_name": "Python 3",
   "language": "python",
   "name": "python3"
  },
  "language_info": {
   "codemirror_mode": {
    "name": "ipython",
    "version": 3
   },
   "file_extension": ".py",
   "mimetype": "text/x-python",
   "name": "python",
   "nbconvert_exporter": "python",
   "pygments_lexer": "ipython3",
   "version": "3.8.16"
  }
 },
 "nbformat": 4,
 "nbformat_minor": 5
}
