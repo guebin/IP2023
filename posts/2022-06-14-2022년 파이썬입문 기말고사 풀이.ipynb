{
 "cells": [
  {
   "cell_type": "markdown",
   "id": "15f09386-e942-482d-bfbc-235685107ea3",
   "metadata": {
    "slideshow": {
     "slide_type": "slide"
    },
    "tags": []
   },
   "source": [
    "# 2022년 파이썬 입문 기말고사 풀이\n",
    "\n",
    "- branch: master\n",
    "- badges: true\n",
    "- author: 최규빈"
   ]
  },
  {
   "cell_type": "markdown",
   "id": "bb7abaed-489b-4414-8bf2-96f0e19c80b0",
   "metadata": {
    "tags": []
   },
   "source": [
    "## `0`. imports\n",
    "아래코드를 이용하여 numpy, matplotlib, pandas를 import하라. "
   ]
  },
  {
   "cell_type": "code",
   "execution_count": 511,
   "id": "e4797193-b171-4255-8e55-9b4cf3d3a361",
   "metadata": {},
   "outputs": [],
   "source": [
    "import numpy as np\n",
    "import matplotlib.pyplot as plt \n",
    "import pandas as pd\n",
    "from IPython.display import HTML"
   ]
  },
  {
   "cell_type": "markdown",
   "id": "f5df13bc-7339-4f49-94e4-8f86044a8aee",
   "metadata": {},
   "source": [
    "## `1`. 기본문제 (50점)"
   ]
  },
  {
   "cell_type": "markdown",
   "id": "510e38de-b6a7-476e-b680-fccd636265dc",
   "metadata": {},
   "source": [
    "`(1)` 도함수를 구하는 함수 `derivate`를 선언하라. 이 함수를 이용하여 $f(x)=x^2$의 그래프와 $f'(x)=2x$의 그래프를 $x \\in (-1,1)$의 범위에서 그려라. "
   ]
  },
  {
   "cell_type": "markdown",
   "id": "f14f1cb4-8cbf-46e8-9031-8c15cf96cbc2",
   "metadata": {},
   "source": [
    "(풀이)"
   ]
  },
  {
   "cell_type": "code",
   "execution_count": 512,
   "id": "896521d3-c1ce-4b94-9e25-2a6b046e3984",
   "metadata": {},
   "outputs": [],
   "source": [
    "def f(x): \n",
    "    return x**2 "
   ]
  },
  {
   "cell_type": "code",
   "execution_count": 513,
   "id": "3102de88-918e-4919-810e-4a4265863033",
   "metadata": {},
   "outputs": [],
   "source": [
    "def derivate(f): \n",
    "    def df(x): \n",
    "        h=0.000000000001\n",
    "        return (f(x+h)-f(x))/h \n",
    "    return df"
   ]
  },
  {
   "cell_type": "code",
   "execution_count": 516,
   "id": "3401a86e-673c-43bd-8e72-54047cc47562",
   "metadata": {},
   "outputs": [
    {
     "data": {
      "text/plain": [
       "[<matplotlib.lines.Line2D at 0x7fd22c893a00>]"
      ]
     },
     "execution_count": 516,
     "metadata": {},
     "output_type": "execute_result"
    },
    {
     "data": {
      "image/png": "[encoded data removed]",
      "text/plain": [
       "<Figure size 432x288 with 1 Axes>"
      ]
     },
     "metadata": {
      "needs_background": "light"
     },
     "output_type": "display_data"
    }
   ],
   "source": [
    "x = np.linspace(-1,1,100)\n",
    "plt.plot(x,f(x))\n",
    "plt.plot(x,derivate(f)(x))"
   ]
  },
  {
   "cell_type": "markdown",
   "id": "ee8975ea-573a-42fb-b9f8-9facc23ca163",
   "metadata": {},
   "source": [
    "`(2)` 적당한 클래스 정의하여 인스턴스 a를 만들고 print(a)의 출력결과가 본인의 학번이 나오도록 하라. "
   ]
  },
  {
   "cell_type": "markdown",
   "id": "51630eaa-f3d4-4c1c-8c54-27c2b7dc50a6",
   "metadata": {},
   "source": [
    "(풀이)"
   ]
  },
  {
   "cell_type": "code",
   "execution_count": 517,
   "id": "08e44740-2c11-43af-87d2-755c7e5dc15b",
   "metadata": {},
   "outputs": [],
   "source": [
    "class Klass:\n",
    "    def __str__(self):\n",
    "        return('2022-43052')"
   ]
  },
  {
   "cell_type": "code",
   "execution_count": 519,
   "id": "98ce0636-29c5-4665-b171-f6bcf8217f60",
   "metadata": {},
   "outputs": [
    {
     "name": "stdout",
     "output_type": "stream",
     "text": [
      "2022-43052\n"
     ]
    }
   ],
   "source": [
    "a=Klass()\n",
    "print(a)"
   ]
  },
  {
   "cell_type": "markdown",
   "id": "5dd8984b-df85-4a07-a3b8-1106646b1089",
   "metadata": {},
   "source": [
    "`(3)` for문이 실행될때마다 [묵,찌,빠] 중에 하나를 내며 빠를 누적 3회 낼경우 for문이 멈추는 이터레이터를 생성하라. "
   ]
  },
  {
   "cell_type": "markdown",
   "id": "9bb22a62-75d5-4c4c-ad5d-e02696525ab6",
   "metadata": {},
   "source": [
    "(풀이)"
   ]
  },
  {
   "cell_type": "code",
   "execution_count": 522,
   "id": "e4227cbf-c39f-4113-9dce-ee358a8ca086",
   "metadata": {},
   "outputs": [],
   "source": [
    "class Klass: # 찌를 내는순간 for문이 멈추도록 하는 이터레이터를 만들자\n",
    "    def __init__(self): \n",
    "        self.candidate = [\"묵\",\"찌\",\"빠\"] \n",
    "        self.dic = {'묵':0,'찌':0,'빠':0}\n",
    "    def __iter__(self):\n",
    "        return self \n",
    "    def __next__(self):\n",
    "        action = np.random.choice(self.candidate)\n",
    "        self.dic[action] += 1\n",
    "        if self.dic['빠']==3:\n",
    "            print(\"빠가 3번 누적되어 for문을 멈춥니다\")\n",
    "            raise StopIteration\n",
    "        else:\n",
    "            return action"
   ]
  },
  {
   "cell_type": "code",
   "execution_count": 523,
   "id": "d864876f-75b2-4c74-baa9-de1c2da06f69",
   "metadata": {},
   "outputs": [
    {
     "name": "stdout",
     "output_type": "stream",
     "text": [
      "빠\n",
      "묵\n",
      "빠\n",
      "빠가 3번 누적되어 for문을 멈춥니다\n"
     ]
    }
   ],
   "source": [
    "a=Klass()\n",
    "for i in a:\n",
    "    print(i)"
   ]
  },
  {
   "cell_type": "markdown",
   "id": "869cf2b5-3a5d-4a43-b01c-55ce152646aa",
   "metadata": {},
   "source": [
    "***(4)-(6)*** "
   ]
  },
  {
   "cell_type": "code",
   "execution_count": 548,
   "id": "9b9f8a56-9146-46a6-81bf-62aae65f3c2a",
   "metadata": {},
   "outputs": [],
   "source": [
    "class GS25: \n",
    "    n=0 \n",
    "    total_number_of_guests = 0 \n",
    "    def __init__(self):\n",
    "        self.number_of_guests = 0 "
   ]
  },
  {
   "cell_type": "markdown",
   "id": "8831ee19-933b-48a9-a333-fe91565ca52a",
   "metadata": {},
   "source": [
    "`(4)` 위의 클래스를 수정하여 아래와 같이 GS25에서 새로운 인스턴스가 생성될때마다 \n",
    "```\n",
    "GS25의 점포수가 ?개로 늘었습니다.\n",
    "``` \n",
    "라는 메시지가 출력되도록 하라. "
   ]
  },
  {
   "cell_type": "markdown",
   "id": "fa402459-84f6-4015-b2c2-6d6a87979f06",
   "metadata": {},
   "source": [
    "`(5)` 함수 `come`를 인스턴스 메소드로 정의하라. 이 메소드가 실행될때마다 각 점포의 손님 인스턴스 변수 `number_of_guests`와 클래스변수 `total_number_of_guests`를 1씩 증가시키고 아래의 메시지를 출력하라. \n",
    "```\n",
    "새로운 손님이 오셨습니다!\n",
    "GS25를 방문한 총 손님수는 n명입니다. \n",
    "현재 GS25 점포를 방문한 손님수는 m명입니다. \n",
    "```"
   ]
  },
  {
   "cell_type": "markdown",
   "id": "e16c0359-6384-4d4f-a094-53c3584cb2f5",
   "metadata": {},
   "source": [
    "`(6)` 새로운 클래스메서드 show를 만들고 아래와 같은 메시지를 출력하도록 하라. \n",
    "\n",
    "```\n",
    "GS25의 점포수: ??\n",
    "GS25를 방문한 총 손님수: ??\n",
    "```"
   ]
  },
  {
   "cell_type": "markdown",
   "id": "7ea91606-6220-4dac-97f8-7183e83bebd6",
   "metadata": {},
   "source": [
    "(풀이)"
   ]
  },
  {
   "cell_type": "code",
   "execution_count": 549,
   "id": "6fdce4bb-1d5f-4305-a2f7-5aeaacd57449",
   "metadata": {},
   "outputs": [],
   "source": [
    "class GS25: \n",
    "    n=0 \n",
    "    total_number_of_guests = 0 \n",
    "    def __init__(self):\n",
    "        self.number_of_guests = 0 \n",
    "        GS25.n += 1 \n",
    "        print(\"GS25의 점포수가 {}개로 늘었습니다.\".format(GS25.n))\n",
    "    def come(self):\n",
    "        GS25.total_number_of_guests += 1 \n",
    "        self.number_of_guests += 1\n",
    "        print(\"새로운 손님이 오셨습니다!\")\n",
    "        print(\"GS25를 방문한 총 손님수는 {}명입니다.\".format(GS25.total_number_of_guests))\n",
    "        print(\"현재 GS25 점포를 방문한 손님수는 {}명입니다.\".format(self.number_of_guests))\n",
    "    @classmethod\n",
    "    def show(cls):\n",
    "        print(\"GS25의 점포수: {}\".format(cls.n))\n",
    "        print(\"GS25를 방문한 총 손님수: {}\".format(cls.total_number_of_guests))"
   ]
  },
  {
   "cell_type": "code",
   "execution_count": 550,
   "id": "23ae8ff6-c101-4ec3-af82-7ede3cd2061c",
   "metadata": {},
   "outputs": [
    {
     "name": "stdout",
     "output_type": "stream",
     "text": [
      "GS25의 점포수가 1개로 늘었습니다.\n"
     ]
    }
   ],
   "source": [
    "a=GS25() ## (4)의 사용예시"
   ]
  },
  {
   "cell_type": "code",
   "execution_count": 551,
   "id": "c5186a43-6833-4615-a277-46d3797c5b7d",
   "metadata": {},
   "outputs": [
    {
     "name": "stdout",
     "output_type": "stream",
     "text": [
      "GS25의 점포수가 2개로 늘었습니다.\n"
     ]
    }
   ],
   "source": [
    "b=GS25() ## (4)의 사용예시"
   ]
  },
  {
   "cell_type": "code",
   "execution_count": 552,
   "id": "c8648f2f-1d7d-42b8-bd75-c6913d9e4662",
   "metadata": {},
   "outputs": [
    {
     "name": "stdout",
     "output_type": "stream",
     "text": [
      "새로운 손님이 오셨습니다!\n",
      "GS25를 방문한 총 손님수는 1명입니다.\n",
      "현재 GS25 점포를 방문한 손님수는 1명입니다.\n"
     ]
    }
   ],
   "source": [
    "a.come() ## (5)의 사용예시"
   ]
  },
  {
   "cell_type": "code",
   "execution_count": 553,
   "id": "e2c7da1d-eea1-4273-8f3b-c4323beed2a4",
   "metadata": {},
   "outputs": [
    {
     "name": "stdout",
     "output_type": "stream",
     "text": [
      "새로운 손님이 오셨습니다!\n",
      "GS25를 방문한 총 손님수는 2명입니다.\n",
      "현재 GS25 점포를 방문한 손님수는 2명입니다.\n"
     ]
    }
   ],
   "source": [
    "a.come() ## (5)의 사용예시"
   ]
  },
  {
   "cell_type": "code",
   "execution_count": 554,
   "id": "07369ad1-7295-42a8-8c0c-5bc2691eac5b",
   "metadata": {},
   "outputs": [
    {
     "name": "stdout",
     "output_type": "stream",
     "text": [
      "새로운 손님이 오셨습니다!\n",
      "GS25를 방문한 총 손님수는 3명입니다.\n",
      "현재 GS25 점포를 방문한 손님수는 1명입니다.\n"
     ]
    }
   ],
   "source": [
    "b.come() ## (5)의 사용예시"
   ]
  },
  {
   "cell_type": "code",
   "execution_count": 555,
   "id": "3a461957-1be3-48b5-b8c3-838a4ef98b6f",
   "metadata": {},
   "outputs": [
    {
     "name": "stdout",
     "output_type": "stream",
     "text": [
      "GS25의 점포수: 2\n",
      "GS25를 방문한 총 손님수: 3\n"
     ]
    }
   ],
   "source": [
    "GS25.show() ## (6)의 사용예시"
   ]
  },
  {
   "cell_type": "markdown",
   "id": "7e093061-981b-41cd-b402-bbce126efcfe",
   "metadata": {},
   "source": [
    "`(7)` `__eq__`는 연산 `==` 를 재정의하는 메소드이다. 클래스 `RPS_BASE`를 상속하여 새로운 클래스 RPS5를 만들라. 연산 `==`를 재정의하여 RPS7의 두 인스턴스의 action이 같은 경우 true를 리턴하는 기능을 구현하라. "
   ]
  },
  {
   "cell_type": "code",
   "execution_count": 564,
   "id": "a2191cda-e5d8-4df3-97d0-0cd1ac79da00",
   "metadata": {},
   "outputs": [],
   "source": [
    "class RPS_BASE:\n",
    "    def __init__(self):\n",
    "        self.action = np.random.choice(['가위','바위','보'])"
   ]
  },
  {
   "cell_type": "markdown",
   "id": "e12764ec-5252-4be5-9e1d-8c64e508b638",
   "metadata": {},
   "source": [
    "(풀이)"
   ]
  },
  {
   "cell_type": "code",
   "execution_count": 565,
   "id": "6ff90d57-75a8-4a70-a959-42feaeaf5783",
   "metadata": {},
   "outputs": [],
   "source": [
    "class RPS7(RPS_BASE):\n",
    "    def __eq__(self,other):\n",
    "        return self.action == other.action "
   ]
  },
  {
   "cell_type": "code",
   "execution_count": 566,
   "id": "48584644-b245-4bee-b9d0-3113cd4affde",
   "metadata": {},
   "outputs": [
    {
     "data": {
      "text/plain": [
       "'바위'"
      ]
     },
     "execution_count": 566,
     "metadata": {},
     "output_type": "execute_result"
    }
   ],
   "source": [
    "a=RPS7()\n",
    "a.action"
   ]
  },
  {
   "cell_type": "code",
   "execution_count": 567,
   "id": "39321e1c-e27d-48bd-a437-d360c48044a3",
   "metadata": {},
   "outputs": [
    {
     "data": {
      "text/plain": [
       "'가위'"
      ]
     },
     "execution_count": 567,
     "metadata": {},
     "output_type": "execute_result"
    }
   ],
   "source": [
    "b=RPS7()\n",
    "b.action"
   ]
  },
  {
   "cell_type": "code",
   "execution_count": 568,
   "id": "e865c70c-6c73-4a77-ae26-3141c8118493",
   "metadata": {},
   "outputs": [
    {
     "data": {
      "text/plain": [
       "False"
      ]
     },
     "execution_count": 568,
     "metadata": {},
     "output_type": "execute_result"
    }
   ],
   "source": [
    "a==b"
   ]
  },
  {
   "cell_type": "markdown",
   "id": "000f9ee9-0f1b-4459-a27d-e6738f4aed4a",
   "metadata": {},
   "source": [
    "`(8)` `__gt__`는 연산 `>` 를 재정의하는 메소드이다. 클래스 `RPS_BASE`를 상속하여 새로운 클래스 RPS6를 만들라. 연산 `>`를 재정의하여 RPS6의 두 인스턴스 a,b의 action이 각각 ('가위','보'), ('바위','가위'), ('보','바위') 인 경우 true를 리턴하는 기능을 구현하라. "
   ]
  },
  {
   "cell_type": "markdown",
   "id": "4e7b716b-ac02-4ce2-bfd2-9c9903c09fce",
   "metadata": {},
   "source": [
    "(풀이)"
   ]
  },
  {
   "cell_type": "code",
   "execution_count": 569,
   "id": "2d564aab-9a17-497d-9aca-81d111a8253d",
   "metadata": {},
   "outputs": [],
   "source": [
    "class RPS8(RPS_BASE):\n",
    "    def __gt__(self,other): # 연산 > 를 재정의 \n",
    "        pair = self.action, other.action\n",
    "        return pair == ('가위','보') or pair == ('바위','가위') or pair == ('보','바위') "
   ]
  },
  {
   "cell_type": "code",
   "execution_count": 570,
   "id": "dd0a9872-2b5e-4547-91e1-bb42de1dcfdd",
   "metadata": {},
   "outputs": [
    {
     "data": {
      "text/plain": [
       "'보'"
      ]
     },
     "execution_count": 570,
     "metadata": {},
     "output_type": "execute_result"
    }
   ],
   "source": [
    "a=RPS8()\n",
    "a.action"
   ]
  },
  {
   "cell_type": "code",
   "execution_count": 571,
   "id": "1ec4af26-a7f1-4f4b-8bc5-3b72cb8d6940",
   "metadata": {},
   "outputs": [
    {
     "data": {
      "text/plain": [
       "'가위'"
      ]
     },
     "execution_count": 571,
     "metadata": {},
     "output_type": "execute_result"
    }
   ],
   "source": [
    "b=RPS8()\n",
    "b.action"
   ]
  },
  {
   "cell_type": "code",
   "execution_count": 572,
   "id": "4fb63031-7052-4e8b-ab28-ff94e1299bb1",
   "metadata": {},
   "outputs": [
    {
     "data": {
      "text/plain": [
       "(False, True)"
      ]
     },
     "execution_count": 572,
     "metadata": {},
     "output_type": "execute_result"
    }
   ],
   "source": [
    "a>b, a<b"
   ]
  },
  {
   "cell_type": "markdown",
   "id": "161d4564-4497-40e5-9372-dc4118fb760f",
   "metadata": {},
   "source": [
    "***(9)-(10)***"
   ]
  },
  {
   "cell_type": "markdown",
   "id": "96190964-a7dc-4135-b411-fcb933996195",
   "metadata": {},
   "source": [
    "아래와 같은 데이터프레임을 선언하고 물음에 답하라. "
   ]
  },
  {
   "cell_type": "code",
   "execution_count": 573,
   "id": "d6ff7b13-47b3-4cd4-b9dc-91421865eca7",
   "metadata": {},
   "outputs": [
    {
     "data": {
      "text/html": [
       "<div>\n",
       "<style scoped>\n",
       "    .dataframe tbody tr th:only-of-type {\n",
       "        vertical-align: middle;\n",
       "    }\n",
       "\n",
       "    .dataframe tbody tr th {\n",
       "        vertical-align: top;\n",
       "    }\n",
       "\n",
       "    .dataframe thead th {\n",
       "        text-align: right;\n",
       "    }\n",
       "</style>\n",
       "<table border=\"1\" class=\"dataframe\">\n",
       "  <thead>\n",
       "    <tr style=\"text-align: right;\">\n",
       "      <th></th>\n",
       "      <th>type</th>\n",
       "      <th>score</th>\n",
       "    </tr>\n",
       "  </thead>\n",
       "  <tbody>\n",
       "    <tr>\n",
       "      <th>0</th>\n",
       "      <td>B</td>\n",
       "      <td>45</td>\n",
       "    </tr>\n",
       "    <tr>\n",
       "      <th>1</th>\n",
       "      <td>A</td>\n",
       "      <td>40</td>\n",
       "    </tr>\n",
       "    <tr>\n",
       "      <th>2</th>\n",
       "      <td>B</td>\n",
       "      <td>79</td>\n",
       "    </tr>\n",
       "    <tr>\n",
       "      <th>3</th>\n",
       "      <td>B</td>\n",
       "      <td>46</td>\n",
       "    </tr>\n",
       "    <tr>\n",
       "      <th>4</th>\n",
       "      <td>B</td>\n",
       "      <td>57</td>\n",
       "    </tr>\n",
       "    <tr>\n",
       "      <th>...</th>\n",
       "      <td>...</td>\n",
       "      <td>...</td>\n",
       "    </tr>\n",
       "    <tr>\n",
       "      <th>95</th>\n",
       "      <td>B</td>\n",
       "      <td>69</td>\n",
       "    </tr>\n",
       "    <tr>\n",
       "      <th>96</th>\n",
       "      <td>A</td>\n",
       "      <td>71</td>\n",
       "    </tr>\n",
       "    <tr>\n",
       "      <th>97</th>\n",
       "      <td>A</td>\n",
       "      <td>93</td>\n",
       "    </tr>\n",
       "    <tr>\n",
       "      <th>98</th>\n",
       "      <td>A</td>\n",
       "      <td>63</td>\n",
       "    </tr>\n",
       "    <tr>\n",
       "      <th>99</th>\n",
       "      <td>A</td>\n",
       "      <td>82</td>\n",
       "    </tr>\n",
       "  </tbody>\n",
       "</table>\n",
       "<p>100 rows × 2 columns</p>\n",
       "</div>"
      ],
      "text/plain": [
       "   type  score\n",
       "0     B     45\n",
       "1     A     40\n",
       "2     B     79\n",
       "3     B     46\n",
       "4     B     57\n",
       "..  ...    ...\n",
       "95    B     69\n",
       "96    A     71\n",
       "97    A     93\n",
       "98    A     63\n",
       "99    A     82\n",
       "\n",
       "[100 rows x 2 columns]"
      ]
     },
     "execution_count": 573,
     "metadata": {},
     "output_type": "execute_result"
    }
   ],
   "source": [
    "np.random.seed(43052)\n",
    "df=pd.DataFrame({'type':np.random.choice(['A','B'],100), 'score':np.random.randint(40,95,100)})\n",
    "df"
   ]
  },
  {
   "cell_type": "markdown",
   "id": "2451578c-6c1d-46cc-b188-f2f3ce9f9edf",
   "metadata": {},
   "source": [
    "`(9)` type=='A'의 평균score를 구하는 코드를 작성하라. "
   ]
  },
  {
   "cell_type": "markdown",
   "id": "2333dbe9-1955-4fd5-8911-205cbdd99e74",
   "metadata": {},
   "source": [
    "(풀이)"
   ]
  },
  {
   "cell_type": "code",
   "execution_count": 580,
   "id": "e7a9c978-9625-4d73-a339-f9161ff039c9",
   "metadata": {},
   "outputs": [
    {
     "data": {
      "text/plain": [
       "68.4"
      ]
     },
     "execution_count": 580,
     "metadata": {},
     "output_type": "execute_result"
    }
   ],
   "source": [
    "m = df.query(\"type=='A'\").score.mean()\n",
    "m"
   ]
  },
  {
   "cell_type": "markdown",
   "id": "849c6997-ac04-4afb-a07e-d9a2e0bc45b1",
   "metadata": {},
   "source": [
    "`(10)` type=='A'의 평균score보다 같거나 큰 값을 가지는 행을 출력하라."
   ]
  },
  {
   "cell_type": "markdown",
   "id": "72524472-ca18-4fa8-a635-3e8f8ab1dacf",
   "metadata": {},
   "source": [
    "(풀이)"
   ]
  },
  {
   "cell_type": "code",
   "execution_count": 665,
   "id": "2d789be1-72ec-48e3-976a-5fd2025b06a8",
   "metadata": {},
   "outputs": [],
   "source": [
    "# \n",
    "# 아래모두 정답으로 인정 (문제설명이 불충분) \n",
    "# df.query(\"type=='A' and score >= @m\") \n",
    "# df.query(\"score >= @m\") "
   ]
  },
  {
   "cell_type": "markdown",
   "id": "7d4fdd4f-6451-4a34-a860-7f80222e033f",
   "metadata": {},
   "source": [
    "## `2`. 가위, 바위, 보 하나빼기 (150점)"
   ]
  },
  {
   "cell_type": "code",
   "execution_count": 588,
   "id": "5805041f-feb2-42b5-ac7f-169d3189c256",
   "metadata": {},
   "outputs": [],
   "source": [
    "class RPS:\n",
    "    def __init__(self,candidate):\n",
    "        self.candidate = candidate\n",
    "        self.actions = list() \n",
    "        self.rewards = list()\n",
    "        self.prob = [0.5,0.5]\n",
    "\n",
    "    def __eq__(self,other): # 연산 == 를 재정의 \n",
    "        return self.actions[-1] == other.actions[-1] \n",
    "        #note: 둘의 액션이 같으면 무승부 \n",
    "    \n",
    "    def __gt__(self,other): # 연산 > 를 재정의 \n",
    "        pair = self.actions[-1], other.actions[-1]\n",
    "        return pair == ('가위','보') or pair == ('바위','가위') or pair == ('보','바위') \n",
    "        #note: 가위>보, 바위>가위, 보>가위 \n",
    "    \n",
    "    def __mul__(self,other):\n",
    "        # step1: 각자의 패를 선택 \n",
    "        self.choose()\n",
    "        other.choose()\n",
    "        \n",
    "        # step2: 승패 판단 + upate reward\n",
    "        if self == other: # 무승부일경우 \n",
    "            self.rewards.append(1)\n",
    "            other.rewards.append(1)\n",
    "        elif self > other: # self의 승리 \n",
    "            self.rewards.append(2)\n",
    "            other.rewards.append(0)\n",
    "        else: # other의 승리 \n",
    "            self.rewards.append(0)\n",
    "            other.rewards.append(2)\n",
    "        \n",
    "        # step3: update data\n",
    "        self.update_data()\n",
    "        other.update_data()\n",
    "    \n",
    "    def update_data(self):\n",
    "        self.data = pd.DataFrame({'actions':self.actions, 'rewards':self.rewards})\n",
    "    \n",
    "    def _repr_html_(self):\n",
    "        html_str = \"\"\"\n",
    "        낼 수 있는 패: {} <br/> \n",
    "        데이터: <br/>\n",
    "        {}\n",
    "        \"\"\"        \n",
    "        return html_str.format(self.candidate,self.data._repr_html_())\n",
    "    \n",
    "    def choose(self):\n",
    "        self.actions.append(np.random.choice(self.candidate,p=self.prob))"
   ]
  },
  {
   "cell_type": "markdown",
   "id": "b1338495-e05c-4d37-b9cb-5c7a70c9b265",
   "metadata": {},
   "source": [
    "`(1)` 플레이어A는 (가위,가위) 중 하나를 선택할 수 있고 플레이어B는 (가위,바위) 중 하나를 선택할 수 있다. 각 플레이어는 각 패 중 하나를 랜덤으로 선택하는 액션을 한다고 가정하자.\n",
    "아래에 해당하는 확률을 시뮬레이션을 이용하여 추정하라. \n",
    "\n",
    "- 플레이어A가 승리할 확률:\n",
    "- 플레이어B가 승리할 확률:\n",
    "- 플레이어A와 플레이어B가 비길 확률: "
   ]
  },
  {
   "cell_type": "markdown",
   "id": "c35521de-b3d9-4a32-bb97-78bd4339641f",
   "metadata": {},
   "source": [
    "**hint**: 50% 확률로 b가 승리하고 50% 확률로 비긴다. "
   ]
  },
  {
   "cell_type": "markdown",
   "id": "8b8ef4dd-b911-462a-b930-90313128a59a",
   "metadata": {},
   "source": [
    "(풀이)"
   ]
  },
  {
   "cell_type": "code",
   "execution_count": 589,
   "id": "76ffe85f-ea97-4d2f-8766-6501980a6866",
   "metadata": {},
   "outputs": [],
   "source": [
    "PlayerA = RPS(['가위','가위']) \n",
    "PlayerB = RPS(['가위','바위']) \n",
    "\n",
    "for _ in range(100):\n",
    "    PlayerA * PlayerB"
   ]
  },
  {
   "cell_type": "code",
   "execution_count": 590,
   "id": "5d3d573c-ea19-4ddc-9a00-963968e4a67e",
   "metadata": {},
   "outputs": [
    {
     "name": "stdout",
     "output_type": "stream",
     "text": [
      "플레이어A가 승리할 확률: 0.0\n",
      "플레이어B가 승리할 확률: 0.57\n",
      "플레이어A와 플레이어B가 비길 확률: 0.43\n"
     ]
    }
   ],
   "source": [
    "print('플레이어A가 승리할 확률: {}'.format(sum(PlayerA.data.rewards==2)/100))\n",
    "print('플레이어B가 승리할 확률: {}'.format(sum(PlayerA.data.rewards==0)/100))\n",
    "print('플레이어A와 플레이어B가 비길 확률: {}'.format(sum(PlayerA.data.rewards==1)/100))"
   ]
  },
  {
   "cell_type": "markdown",
   "id": "d98feb08-4d95-4a9e-8a34-80eff77f1489",
   "metadata": {},
   "source": [
    "`(2)` 문제 (1)과 같이 아래의 상황을 가정하자. \n",
    "\n",
    "||플레이어A|플레이어B|\n",
    "|:-:|:-:|:-:|\n",
    "|각 플레이어가 낼 수 있는 패 (candidate) | (가위,가위) | (가위,바위) |\n",
    "|각 패를 선택할 확률 (prob) | (0.5,0.5) | (0.5,0.5) |\n",
    "\n",
    "\n",
    "\n",
    "각 플레이어는 아래와 같은 규칙으로 가위바위보 결과에 따른 보상점수를 적립한다고 하자. \n",
    "- 승리: 보상점수 2점 적립\n",
    "- 무승부: 보상점수 1점 적립\n",
    "- 패배: 보상점수 0점 적립\n",
    "\n",
    "100번째 대결까지 시뮬레이션을 시행하고 플레이어B가 가위를 낼 경우 얻은 보상점수의 총합과 바위를 낼 경우 얻은 보상점수의 총합을 각각 구하라. 플레이어B는 가위를 내는것이 유리한가? 바위를 내는것이 유리한가? "
   ]
  },
  {
   "cell_type": "markdown",
   "id": "b531f35e-41d4-4bb6-9f1b-287a58d4efc2",
   "metadata": {},
   "source": [
    "**hint**: 플레이어B는 바위를 내는 것이 유리하다. \n",
    "\n",
    "**hint**: 플레이어B가 100번중에 49번 가위를 내고 51번 바위를 낸다면 플레이어B가 적립할 보상점수는 각각 아래와 같다. \n",
    "- 가위를 내었을 경우: 49 * 1 = 49점 \n",
    "- 바위를 내었을 경우: 51 * 2 = 102점 \n",
    "- 총 보상점수 = 49점 + 102점 = 151점 "
   ]
  },
  {
   "cell_type": "markdown",
   "id": "2793ffa1-5673-49f0-880e-f9862fb3518f",
   "metadata": {},
   "source": [
    "(풀이)"
   ]
  },
  {
   "cell_type": "code",
   "execution_count": 591,
   "id": "97f2c70b-9ae0-4418-bbfa-a592c6a77dfa",
   "metadata": {},
   "outputs": [
    {
     "name": "stdout",
     "output_type": "stream",
     "text": [
      "플레이어B가 가위를 낼 경우 얻은 보상점수의 총합: 43\n",
      "플레이어B가 바위를 낼 경우 얻은 보상점수의 총합: 114\n"
     ]
    }
   ],
   "source": [
    "print('플레이어B가 가위를 낼 경우 얻은 보상점수의 총합: {}'.format(PlayerB.data.query(\" actions=='가위'\").rewards.sum()))\n",
    "print('플레이어B가 바위를 낼 경우 얻은 보상점수의 총합: {}'.format(PlayerB.data.query(\" actions=='바위'\").rewards.sum()))"
   ]
  },
  {
   "cell_type": "markdown",
   "id": "23606f98-82ac-4086-aa97-be5315b76578",
   "metadata": {},
   "source": [
    "`(3)` (2)에서 얻은 데이터를 **학습**하여 플레이어B가 \"가위\" 혹은 \"바위\" 를 선택할 확률을 매시점 조금씩 조정한다고 가정하자. 구체적으로는 현재시점까지 얻은 보상점수의 비율로 확률을 결정한다. 예를들어 플레이어B가 100회의 대결동안 누적한 보상점수의 총합이 아래와 같다고 하자. \n",
    "\n",
    "- 가위를 내었을 경우 보상점수 총합 = 50점 \n",
    "- 바위를 내었을 경우 보상점수 총합 = 100점\n",
    "\n",
    "\n",
    "그렇다면 플레이어B는 각각 (50/150,100/150) 의 확률로 (가위,바위) 중 하나를 선택한다. 101번째 대결에 플레이어B가 가위를 내서 비겼다면 이후에는 (51/151,100/151) 의 확률로 (가위,바위) 중 하나를 선택한다. 102번째 대결에 플레이어B가 바위를 내서 이겼다면 이후에는 각각 (51/153,102/153) 의 확률로 (가위,바위) 중 하나를 선택한다. 이러한 상황을 요약하여 표로 정리하면 아래와 같다. \n",
    "\n",
    "\n",
    "|시점|플레이어B가 가위를 냈을 경우 얻은 점수 총합|플레이어B가 바위를 냈을 경우 얻은 점수 총합| t+1시점에서 플레이어B가 (가위,바위)를 낼 확률|\n",
    "|:-:|:-:|:-:|:-:|\n",
    "|t=100|50|100| (50/150, 100/150)|\n",
    "|t=101|51|100| (51/151, 100/151)|\n",
    "|t=102|51|102| (51/153, 102/153)|\n",
    "\n",
    "\n",
    "이러한 방식으로 500회까지 게임을 진행하며 확률을 수정하였을 경우 501번째 대결에서 플레이어B가 (가위,바위)를 낼 확률은 각각 얼마인가? \n"
   ]
  },
  {
   "cell_type": "markdown",
   "id": "9532fd24-ff0c-4e67-bd8d-fd2004432f22",
   "metadata": {},
   "source": [
    "**hint: 시간이 지날수록 플레이어B는 (가위,바위)중 바위를 내는 쪽이 유리하다는 것을 알게 될 것이다.**"
   ]
  },
  {
   "cell_type": "markdown",
   "id": "54865a46-efad-47f1-876b-0b1203993def",
   "metadata": {},
   "source": [
    "(풀이) "
   ]
  },
  {
   "cell_type": "code",
   "execution_count": 592,
   "id": "31d302ce-bb8d-4ef6-91db-d770636d7f0f",
   "metadata": {},
   "outputs": [],
   "source": [
    "class RPS2(RPS):\n",
    "    def __init__(self,candidate):\n",
    "        # 기존내용\n",
    "        self.candidate = candidate\n",
    "        self.actions = list() \n",
    "        self.rewards = list()\n",
    "        self.prob = [0.5,0.5]\n",
    "        # 새롭게 정의하는 내용 \n",
    "        self.data = dict()\n",
    "        self.trainable=False # 학습모드 설정 \n",
    "        \n",
    "    def update_data(self):\n",
    "        a = self.actions[-1]\n",
    "        r = self.rewards[-1] \n",
    "        self.data[a] = self.data.get(a,0)+r \n",
    "        \n",
    "    def _repr_html_(self):\n",
    "        html_str = \"\"\"\n",
    "        낼 수 있는 패: {} <br/> \n",
    "        확률: {} <br/>\n",
    "        데이터: {} \n",
    "        \"\"\"        \n",
    "        return html_str.format(self.candidate,self.prob,self.data)\n",
    "    \n",
    "    def choose(self):\n",
    "        if self.trainable:  # if self.trainalbe==True: \n",
    "            a1 = self.candidate[0] # action1 \n",
    "            a2 = self.candidate[1] # action2 \n",
    "            r1 = self.data[a1] # reward from action1 \n",
    "            r2 = self.data[a2] # reward from action2 \n",
    "            self.prob = [r1/(r1+r2), r2/(r1+r2)] \n",
    "        self.actions.append(np.random.choice(self.candidate,p=self.prob))"
   ]
  },
  {
   "cell_type": "code",
   "execution_count": 593,
   "id": "0cba2088-ae31-43a7-bc31-260b4c00cd84",
   "metadata": {},
   "outputs": [],
   "source": [
    "PlayerA=RPS2(['가위','가위'])\n",
    "PlayerB=RPS2(['가위','바위'])"
   ]
  },
  {
   "cell_type": "code",
   "execution_count": 594,
   "id": "b70ac896-057f-4e3b-8176-3e653bb2bf97",
   "metadata": {},
   "outputs": [],
   "source": [
    "#\n",
    "# 1~100 \n",
    "PlayerA.trainable=False \n",
    "PlayerB.trainable=False \n",
    "for _ in range(100):\n",
    "    PlayerA * PlayerB \n",
    "# 100~500     \n",
    "PlayerA.trainable=False \n",
    "PlayerB.trainable=True\n",
    "for _ in range(400):\n",
    "    PlayerA * PlayerB "
   ]
  },
  {
   "cell_type": "code",
   "execution_count": 595,
   "id": "39f4edf3-83f9-4326-8ec7-3eb519b32998",
   "metadata": {},
   "outputs": [
    {
     "data": {
      "text/html": [
       "\n",
       "        낼 수 있는 패: ['가위', '바위'] <br/> \n",
       "        확률: [0.1923536439665472, 0.8076463560334528] <br/>\n",
       "        데이터: {'바위': 678, '가위': 161} \n",
       "        "
      ],
      "text/plain": [
       "<__main__.RPC2 at 0x7fd19bac87f0>"
      ]
     },
     "execution_count": 595,
     "metadata": {},
     "output_type": "execute_result"
    }
   ],
   "source": [
    "PlayerB"
   ]
  },
  {
   "cell_type": "markdown",
   "id": "de442f38-ac1f-44b3-bc16-06535e37f067",
   "metadata": {},
   "source": [
    "---"
   ]
  },
  {
   "cell_type": "markdown",
   "id": "021ead79-79da-44fd-8533-0680b0ba11de",
   "metadata": {},
   "source": [
    "앞으로 아래와 같은 용어를 사용한다. \n",
    "- ***(정의) 어떠한 플레이어가 양손 중 하나를 선택하는 확률을 데이터를 바탕으로 매 순간 업데이트 한다면 그 플레이어는 \"학습모드 상태이다\"고 표현한다.***\n",
    "- ***(정의) 반대로 어떠한 플레이어가 양손 중 하나를 항상 동일한 확률로 낸다면 그 플레이어는 \"학습모드 상태가 아니다\"라고 표현한다.***"
   ]
  },
  {
   "cell_type": "markdown",
   "id": "15002921-e9e3-4271-ba37-08435f009661",
   "metadata": {},
   "source": [
    "---"
   ]
  },
  {
   "cell_type": "markdown",
   "id": "164af0f1-7649-43d8-a309-c1a3f71e5bde",
   "metadata": {},
   "source": [
    "`(4)` 새로운 두명의 플레이어C와 플레이어D를 만들어라. 두 플레이어는 모두 동일하게 (가위,바위) 중 하나를 선택할 수 있다. 두 명의 플레이어는 100번째 대결까지는 두 가지 패중 하나를 랜덤하게 선택하고 101번째 대결부터 500번째 대결까지는 문제(3)의 플레이어B와 같은 방식으로 확률을 업데이트 하여 두 가지 패를 서로 다른 확률로 낸다고 하자. 즉 100번째 대결까지는 두 플레이어가 모두 학습모드 상태가 아니고 101번째부터 500번째 대결까지는 두 플레이어가 모두 학습모드 상태이다. 500번째 대결까지의 학습이 끝났을 경우 플레이어 C와 플레이어D가 각 패를 낼 확률은 각각 얼마인가? "
   ]
  },
  {
   "cell_type": "markdown",
   "id": "d5c638ca-ac78-4b35-bc64-5eb0e6de54bb",
   "metadata": {},
   "source": [
    "|시점|플레이어C가 (가위,바위)를 낼 확률|플레이어D가 (가위,바위)를 낼 확률|비고|\n",
    "|:-:|:-:|:-:|:-:|\n",
    "|t <= 100|  (1/2, 1/2)|  (1/2, 1/2)| 양쪽 플레이어 모두 학습모드가 아님|\n",
    "|t <= 500| 대결 데이터를 학습하여 수정한 확률| 대결 데이터를 학습하여 수정한 확률| 양쪽 플레이어 모두 학습모드임 |"
   ]
  },
  {
   "cell_type": "markdown",
   "id": "9b0bb015-af68-46bc-8d17-b48e23b16bcd",
   "metadata": {},
   "source": [
    "**hint: 시간이 지날수록 두 플레이어 모두 바위를 내는 쪽이 유리하다는 것을 알게 될 것이다.**"
   ]
  },
  {
   "cell_type": "markdown",
   "id": "add2d435-c5c2-4d4d-8f44-140e9357c130",
   "metadata": {},
   "source": [
    "(풀이)"
   ]
  },
  {
   "cell_type": "code",
   "execution_count": 596,
   "id": "227edfc4-2e89-4e08-a031-588c5d39c77d",
   "metadata": {},
   "outputs": [],
   "source": [
    "PlayerC=RPS2(['가위','바위'])\n",
    "PlayerD=RPS2(['가위','바위'])"
   ]
  },
  {
   "cell_type": "code",
   "execution_count": 597,
   "id": "8021a647-c309-497a-adbe-2d63bb75b3f4",
   "metadata": {},
   "outputs": [],
   "source": [
    "#\n",
    "# 1~100 \n",
    "PlayerC.trainable=False \n",
    "PlayerD.trainable=False \n",
    "for _ in range(100):\n",
    "    PlayerC * PlayerD\n",
    "# 100~500     \n",
    "PlayerC.trainable=True\n",
    "PlayerD.trainable=True\n",
    "for _ in range(400):\n",
    "    PlayerC * PlayerD "
   ]
  },
  {
   "cell_type": "code",
   "execution_count": 598,
   "id": "b6e1a124-511e-49f7-b304-b2703d20a1a2",
   "metadata": {},
   "outputs": [
    {
     "data": {
      "text/html": [
       "\n",
       "        낼 수 있는 패: ['가위', '바위'] <br/> \n",
       "        확률: [0.07692307692307693, 0.9230769230769231] <br/>\n",
       "        데이터: {'바위': 469, '가위': 39} \n",
       "        "
      ],
      "text/plain": [
       "<__main__.RPC2 at 0x7fd19baca8f0>"
      ]
     },
     "execution_count": 598,
     "metadata": {},
     "output_type": "execute_result"
    }
   ],
   "source": [
    "PlayerC"
   ]
  },
  {
   "cell_type": "code",
   "execution_count": 599,
   "id": "2ae5b1cb-81e0-4be9-962e-22057c710a60",
   "metadata": {},
   "outputs": [
    {
     "data": {
      "text/html": [
       "\n",
       "        낼 수 있는 패: ['가위', '바위'] <br/> \n",
       "        확률: [0.07942973523421588, 0.9205702647657841] <br/>\n",
       "        데이터: {'바위': 453, '가위': 39} \n",
       "        "
      ],
      "text/plain": [
       "<__main__.RPC2 at 0x7fd19bac94e0>"
      ]
     },
     "execution_count": 599,
     "metadata": {},
     "output_type": "execute_result"
    }
   ],
   "source": [
    "PlayerD"
   ]
  },
  {
   "cell_type": "markdown",
   "id": "37542381-a4a6-46ab-9e49-7ac2eec5c153",
   "metadata": {},
   "source": [
    "`(5)` 새로운 플레이어 E와 F를 생각하자. 플레이어E와 플레이어F는 각각 (가위,바위) 그리고 (가위,보) 중 하나를 선택할 수 있다고 가정하자. 시뮬레이션 대결결과를 이용하여 아래의 확률을 근사적으로 추정하라. \n",
    "\n",
    "- 플레이어E가 승리할 확률:\n",
    "- 플레이어F가 승리할 확률:\n",
    "- 플레이어E와 플레이어F가 비길 확률: "
   ]
  },
  {
   "cell_type": "markdown",
   "id": "493bd704-c8d2-4096-975d-eaa040fe2fa9",
   "metadata": {},
   "source": [
    "**hint: 플레이어E가 가위를 낸다면 최소한 지지는 않기 때문에 플레이어E가 좀 더 유리한 패를 가지고 있다. 따라서 플레이어E의 결과가 더 좋을 것이다.**"
   ]
  },
  {
   "cell_type": "code",
   "execution_count": 600,
   "id": "e6f2a2a1-ecb5-4de2-bc63-6817bf165b92",
   "metadata": {},
   "outputs": [
    {
     "name": "stdout",
     "output_type": "stream",
     "text": [
      "플레이어E가 승리할 확률: 0.47\n",
      "플레이어F가 승리할 확률: 0.36\n",
      "플레이어E와 플레이어F가 비길 확률: 0.17\n"
     ]
    }
   ],
   "source": [
    "PlayerE=RPS(['가위','바위'])\n",
    "PlayerF=RPS(['가위','보']) \n",
    "\n",
    "for _ in range(100):\n",
    "    PlayerE * PlayerF\n",
    "\n",
    "print('플레이어E가 승리할 확률: {}'.format(sum(PlayerE.data.rewards==2)/100))\n",
    "print('플레이어F가 승리할 확률: {}'.format(sum(PlayerE.data.rewards==0)/100))\n",
    "print('플레이어E와 플레이어F가 비길 확률: {}'.format(sum(PlayerE.data.rewards==1)/100))"
   ]
  },
  {
   "cell_type": "markdown",
   "id": "675dd15c-6c25-4c26-a47c-302a31444cf0",
   "metadata": {},
   "source": [
    "`(6)` (5)와 동일한 두 명의 플레이어E, F를 생각하자. 두 플레이어는 100회까지는 랜덤으로 자신의 패를 선택한다. 그리고 101회부터 500회까지는 플레이어F만 데이터로 부터 학습을 하여 수정된 확률을 사용한다. 500번의 대결이 끝나고 플레이어F가 (가위,보)를 선택하는 확률이 어떻게 업데이트 되어있는가?"
   ]
  },
  {
   "cell_type": "markdown",
   "id": "a89b3339-debc-41ac-ad34-73d499a32c13",
   "metadata": {},
   "source": [
    "|시점|플레이어E가 (가위,바위)를 낼 확률|플레이어F가 (가위,보)를 낼 확률|비고|\n",
    "|:-:|:-:|:-:|:-:|\n",
    "|t <= 100|  (1/2, 1/2) |  (1/2, 1/2)| 양쪽 플레이어 모두 학습모드가 아님|\n",
    "|t <= 500| (1/2, 1/2) | 데이터를 학습하여 수정한 확률 | 플레이어E는 학습모드아님 / 플레이어F는 학습모드 |"
   ]
  },
  {
   "cell_type": "markdown",
   "id": "66ac842c-42ef-4a6d-9f59-c422fa147785",
   "metadata": {},
   "source": [
    "**hint: 플레이어F는 보를 내는 것이 낫다고 생각할 것이다. (가위를 내면 지거나 비기지만 보를 내면 지거나 이긴다.)**"
   ]
  },
  {
   "cell_type": "code",
   "execution_count": 601,
   "id": "a004094c-3a0c-4824-85e2-ca3fcc86e7bb",
   "metadata": {},
   "outputs": [],
   "source": [
    "PlayerE=RPS2(['가위','바위'])\n",
    "PlayerF=RPS2(['가위','보'])"
   ]
  },
  {
   "cell_type": "code",
   "execution_count": 602,
   "id": "abaa4a0d-00be-4d83-b24e-724bbe7c84af",
   "metadata": {},
   "outputs": [],
   "source": [
    "#\n",
    "# 1~100 \n",
    "PlayerE.trainable=False \n",
    "PlayerF.trainable=False \n",
    "for _ in range(100):\n",
    "    PlayerE * PlayerF\n",
    "# 100~500     \n",
    "PlayerE.trainable=False\n",
    "PlayerF.trainable=True\n",
    "for _ in range(400):\n",
    "    PlayerE * PlayerF"
   ]
  },
  {
   "cell_type": "code",
   "execution_count": 603,
   "id": "585ac0d1-2d59-4259-833f-ac9d345dafae",
   "metadata": {},
   "outputs": [
    {
     "data": {
      "text/html": [
       "\n",
       "        낼 수 있는 패: ['가위', '바위'] <br/> \n",
       "        확률: [0.5, 0.5] <br/>\n",
       "        데이터: {'바위': 112, '가위': 441} \n",
       "        "
      ],
      "text/plain": [
       "<__main__.RPC2 at 0x7fd19bacbcd0>"
      ]
     },
     "execution_count": 603,
     "metadata": {},
     "output_type": "execute_result"
    }
   ],
   "source": [
    "PlayerE"
   ]
  },
  {
   "cell_type": "code",
   "execution_count": 604,
   "id": "df3153ed-b3fc-45d9-bb73-0dff9db8988a",
   "metadata": {},
   "outputs": [
    {
     "data": {
      "text/html": [
       "\n",
       "        낼 수 있는 패: ['가위', '보'] <br/> \n",
       "        확률: [0.10067114093959731, 0.8993288590604027] <br/>\n",
       "        데이터: {'보': 402, '가위': 45} \n",
       "        "
      ],
      "text/plain": [
       "<__main__.RPC2 at 0x7fd19bac8760>"
      ]
     },
     "execution_count": 604,
     "metadata": {},
     "output_type": "execute_result"
    }
   ],
   "source": [
    "PlayerF"
   ]
  },
  {
   "cell_type": "markdown",
   "id": "9eec7000-7bbb-4eaf-b90a-dcd7be1095c0",
   "metadata": {},
   "source": [
    "`(7)` (6)번의 플레이어E와 플레이어F가 500회~1000회까지 추가로 게임을 한다. 이번에는 플레이어E만 데이터로부터 학습한다. 1000회까지 대결을 끝낸 이후 플레이어E가 (가위,바위)를 내는 확률은 어떻게 업데이트 되었는가? \n",
    "\n",
    "|시점|플레이어E가 (가위,바위)를 낼 확률|플레이어F가 (가위,보)를 낼 확률|비고|\n",
    "|:-:|:-:|:-:|:-:|\n",
    "|t <= 100|  (1/2, 1/2) |  (1/2, 1/2)| 양쪽 플레이어 모두 학습모드가 아님|\n",
    "|t <= 500| (1/2, 1/2) | 데이터를 학습하여 수정한 확률 | 플레이어E는 학습모드아님 / 플레이어F는 학습모드 |\n",
    "|t <= 1000| 데이터를 학습하여 수정한 확률 | t=500시점에 업데이트된 확률 | 플레이어E는 학습모드 / 플레이어F는 학습모드아님 |\n"
   ]
  },
  {
   "cell_type": "markdown",
   "id": "314993b9-aff2-45ba-aafc-9b3ecc48f78d",
   "metadata": {},
   "source": [
    "**hint: 플레이어F는 보를 내도록 학습되어 있다. 따라서 플레이어E가 바위를 내면 지고 가위를 내면 이길것이다. 따라서 플레이어E는 가위가 유리하다고 생각할 것이다.**"
   ]
  },
  {
   "cell_type": "code",
   "execution_count": 605,
   "id": "513acd5a-57ec-4ed9-8ad6-83205f344ed4",
   "metadata": {},
   "outputs": [],
   "source": [
    "# \n",
    "# 500~1000     \n",
    "PlayerE.trainable=True\n",
    "PlayerF.trainable=False\n",
    "for _ in range(500):\n",
    "    PlayerE * PlayerF"
   ]
  },
  {
   "cell_type": "code",
   "execution_count": 606,
   "id": "1914cf28-3040-4663-ae89-c58db79f9ab4",
   "metadata": {},
   "outputs": [
    {
     "data": {
      "text/html": [
       "\n",
       "        낼 수 있는 패: ['가위', '바위'] <br/> \n",
       "        확률: [0.902158273381295, 0.09784172661870504] <br/>\n",
       "        데이터: {'바위': 136, '가위': 1256} \n",
       "        "
      ],
      "text/plain": [
       "<__main__.RPC2 at 0x7fd19bacbcd0>"
      ]
     },
     "execution_count": 606,
     "metadata": {},
     "output_type": "execute_result"
    }
   ],
   "source": [
    "PlayerE"
   ]
  },
  {
   "cell_type": "code",
   "execution_count": 607,
   "id": "68dd5c89-381f-4dc5-961a-3ccc923b0332",
   "metadata": {},
   "outputs": [
    {
     "data": {
      "text/html": [
       "\n",
       "        낼 수 있는 패: ['가위', '보'] <br/> \n",
       "        확률: [0.10067114093959731, 0.8993288590604027] <br/>\n",
       "        데이터: {'보': 528, '가위': 80} \n",
       "        "
      ],
      "text/plain": [
       "<__main__.RPC2 at 0x7fd19bac8760>"
      ]
     },
     "execution_count": 607,
     "metadata": {},
     "output_type": "execute_result"
    }
   ],
   "source": [
    "PlayerF"
   ]
  },
  {
   "cell_type": "markdown",
   "id": "7fcdf4c8-1921-4fd4-af9a-36207f06d7f0",
   "metadata": {},
   "source": [
    "`(8)` (7)번의 플레이어E와 플레이어F가 1000회~30000회까지 추가로 게임을 한다. 이번에는 플레이어F만 데이터로부터 학습한다. 30000회까지 대결을 끝낸 이후 플레이어F가 (가위,보)를 내는 확률은 어떻게 업데이트 되었는가? "
   ]
  },
  {
   "cell_type": "markdown",
   "id": "ea2685ac-ec28-4941-a78a-286747f860d6",
   "metadata": {},
   "source": [
    "\n",
    "|시점|플레이어E가 (가위,바위)를 낼 확률|플레이어F가 (가위,보)를 낼 확률|비고|\n",
    "|:-:|:-:|:-:|:-:|\n",
    "|t <= 100|  (1/2, 1/2) |  (1/2, 1/2)| 양쪽 플레이어 모두 학습모드가 아님|\n",
    "|t <= 500| (1/2, 1/2) | 데이터를 학습하여 수정한 확률 | 플레이어E는 학습모드아님 / 플레이어F는 학습모드 |\n",
    "|t <= 1000| 데이터를 학습하여 수정한 확률 | t=500시점에 업데이트된 확률 | 플레이어E는 학습모드 / 플레이어F는 학습모드아님 |\n",
    "|t <= 30000|   t=1000시점에 업데이트된 확률 |  데이터를 학습하여 수정한 확률 |  플레이어E는 학습모드아님 / 플레이어F는 학습모드 |"
   ]
  },
  {
   "cell_type": "markdown",
   "id": "d604ce02-a491-48a7-ae6b-9c5034cbacac",
   "metadata": {},
   "source": [
    "**hint: 플레이어F는 원래 보가 유리하다고 생각하여 보를 자주 내도록 학습되었다. 하지만 플레이어E가 그러한 플레이어F의 성향을 파악하고 가위를 주로 내도록 학습하였다. 플레이어F는 그러한 플레이어E의 성향을 다시 파악하여 이번에는 가위을 자주 내는 것이 유리하다고 생각할 것이다.**"
   ]
  },
  {
   "cell_type": "code",
   "execution_count": 608,
   "id": "ec02ab61-f342-41cf-a59b-7450904c3f8b",
   "metadata": {},
   "outputs": [],
   "source": [
    "# \n",
    "# 1000~30000 \n",
    "PlayerE.trainable=False\n",
    "PlayerF.trainable=True\n",
    "for _ in range(29000):\n",
    "    PlayerE * PlayerF"
   ]
  },
  {
   "cell_type": "code",
   "execution_count": 609,
   "id": "3ed0e215-9f01-46a5-8144-79037e173614",
   "metadata": {},
   "outputs": [
    {
     "data": {
      "text/html": [
       "\n",
       "        낼 수 있는 패: ['가위', '바위'] <br/> \n",
       "        확률: [0.902158273381295, 0.09784172661870504] <br/>\n",
       "        데이터: {'바위': 4468, '가위': 33162} \n",
       "        "
      ],
      "text/plain": [
       "<__main__.RPC2 at 0x7fd19bacbcd0>"
      ]
     },
     "execution_count": 609,
     "metadata": {},
     "output_type": "execute_result"
    }
   ],
   "source": [
    "PlayerE"
   ]
  },
  {
   "cell_type": "code",
   "execution_count": 610,
   "id": "75a7988b-aee2-47f5-b310-3b5bc2b18fea",
   "metadata": {},
   "outputs": [
    {
     "data": {
      "text/html": [
       "\n",
       "        낼 수 있는 패: ['가위', '보'] <br/> \n",
       "        확률: [0.9214985023917028, 0.0785014976082972] <br/>\n",
       "        데이터: {'보': 1756, '가위': 20614} \n",
       "        "
      ],
      "text/plain": [
       "<__main__.RPC2 at 0x7fd19bac8760>"
      ]
     },
     "execution_count": 610,
     "metadata": {},
     "output_type": "execute_result"
    }
   ],
   "source": [
    "PlayerF"
   ]
  },
  {
   "cell_type": "markdown",
   "id": "ac9b7032-1d52-40ea-a8fa-e8c3b545c806",
   "metadata": {},
   "source": [
    "`(9)` 플레이어E와 플레이어F의 대결기록을 초기화 한다. 이번에는 플레이어F가 항상 (3/4)의 확률로 가위를 (1/4)의 확률로 보를 낸다고 가정한다. 플레이어E는 100번의 대결까지는 랜덤으로 (가위,바위)중 하나를 내고 101번째 대결부터 1000번째 대결까지는 대결 데이터를 학습하여 수정한 확률을 사용한다고 하자. 1000번째 대결이후에 플레이어E가 (가위,바위)를 내는 확률이 어떻게 업데이트 되어있는가? "
   ]
  },
  {
   "cell_type": "markdown",
   "id": "74a9c273-4e7f-46e6-b11b-7d9fd2dbdb97",
   "metadata": {},
   "source": [
    "|시점|플레이어E가 (가위,바위)를 낼 확률|플레이어F가 (가위,보)를 낼 확률|비고|\n",
    "|:-:|:-:|:-:|:-:|\n",
    "|t <= 100|  (1/2, 1/2) |  (3/4, 1/4)| 양쪽 플레이어 모두 학습모드가 아님|\n",
    "|t <= 1000| 데이터를 학습하여 수정한 확률 | (3/4, 1/4) | 플레이어E는 학습모드 / 플레이어F는 학습모드 아님 |"
   ]
  },
  {
   "cell_type": "markdown",
   "id": "1246006a-c345-4e86-a3bc-f29196f34095",
   "metadata": {},
   "source": [
    "(풀이)"
   ]
  },
  {
   "cell_type": "code",
   "execution_count": 651,
   "id": "19157c10-114d-4a04-ae07-84b17f55c32f",
   "metadata": {},
   "outputs": [],
   "source": [
    "PlayerE=RPS2(['가위','바위'])\n",
    "PlayerF=RPS2(['가위','보'])"
   ]
  },
  {
   "cell_type": "code",
   "execution_count": 652,
   "id": "caa81267-40a4-4513-a451-8ea3c9f9274c",
   "metadata": {},
   "outputs": [],
   "source": [
    "#\n",
    "# 1~100 \n",
    "PlayerE.trainable=False \n",
    "PlayerF.trainable=False \n",
    "PlayerF.prob=[3/4,1/4]\n",
    "for _ in range(100):\n",
    "    PlayerE * PlayerF\n",
    "# 100~1000     \n",
    "PlayerE.trainable=True\n",
    "PlayerF.trainable=False\n",
    "for _ in range(900):\n",
    "    PlayerE * PlayerF"
   ]
  },
  {
   "cell_type": "code",
   "execution_count": 653,
   "id": "84d8ecb5-ca2d-41c1-8497-191615ab7828",
   "metadata": {},
   "outputs": [
    {
     "data": {
      "text/html": [
       "\n",
       "        낼 수 있는 패: ['가위', '바위'] <br/> \n",
       "        확률: [0.363831308077198, 0.636168691922802] <br/>\n",
       "        데이터: {'바위': 892, '가위': 509} \n",
       "        "
      ],
      "text/plain": [
       "<__main__.RPC2 at 0x7fd19bac8310>"
      ]
     },
     "execution_count": 653,
     "metadata": {},
     "output_type": "execute_result"
    }
   ],
   "source": [
    "PlayerE"
   ]
  },
  {
   "cell_type": "markdown",
   "id": "543438db-d365-4cee-950e-8c1d6a5e0a83",
   "metadata": {},
   "source": [
    "> 바위가 좀 더 유리하게 나온다"
   ]
  },
  {
   "cell_type": "markdown",
   "id": "424db07c-8759-4411-95b8-753b4a544809",
   "metadata": {},
   "source": [
    "(추가풀이)"
   ]
  },
  {
   "cell_type": "code",
   "execution_count": 654,
   "id": "bf0586c2-ed4f-466c-acc0-bc3c790bd349",
   "metadata": {},
   "outputs": [],
   "source": [
    "# 계속시행한다면?\n",
    "PlayerE.trainable=True\n",
    "PlayerF.trainable=False\n",
    "for _ in range(10000*100):\n",
    "    PlayerE * PlayerF"
   ]
  },
  {
   "cell_type": "code",
   "execution_count": 655,
   "id": "b14ea7ef-418b-4898-8076-981aca8d187e",
   "metadata": {},
   "outputs": [
    {
     "data": {
      "text/html": [
       "\n",
       "        낼 수 있는 패: ['가위', '바위'] <br/> \n",
       "        확률: [0.1438411969483742, 0.8561588030516258] <br/>\n",
       "        데이터: {'바위': 1248374, '가위': 209736} \n",
       "        "
      ],
      "text/plain": [
       "<__main__.RPC2 at 0x7fd19bac8310>"
      ]
     },
     "execution_count": 655,
     "metadata": {},
     "output_type": "execute_result"
    }
   ],
   "source": [
    "PlayerE"
   ]
  },
  {
   "cell_type": "markdown",
   "id": "54789f84-5443-4c35-8aef-689c006112df",
   "metadata": {},
   "source": [
    "> E가 가위를 냈을경우 보상의 기대값은 $1\\times 3/4 + 2 \\times 1/4 = 5/4$ 이고 바위를 냈을경우 보상의 기대값은 $2\\times 3/4 + 0 \\times 1/4 = 6/4$ 이므로 바위가 더 유리하다. 따라서 점점 바위를 내도록 학습한다. "
   ]
  },
  {
   "cell_type": "markdown",
   "id": "8ea2b638-7beb-42d4-a270-3d521606aed1",
   "metadata": {},
   "source": [
    "`(10)` 플레이어E와 플레이어F의 대결기록을 초기화 한다. 이번에는 플레이어F가 항상 (2/3)의 확률로 가위를 (1/3)의 확률로 보를 낸다고 가정한다. 플레이어E는 100번의 대결까지는 랜덤으로 (가위,바위)중 하나를 내고 101번째 대결부터 1000번째 대결까지는 대결 데이터를 학습하여 수정한 확률을 사용한다고 하자. 1000번째 대결이후에 플레이어E가 (가위,바위)를 내는 확률이 어떻게 업데이트 되어있는가? "
   ]
  },
  {
   "cell_type": "markdown",
   "id": "3c3e083e-5cb8-4764-87cd-63e6fef410fc",
   "metadata": {},
   "source": [
    "|시점|플레이어E가 (가위,바위)를 낼 확률|플레이어F가 (가위,보)를 낼 확률|비고|\n",
    "|:-:|:-:|:-:|:-:|\n",
    "|t <= 100|  (1/2, 1/2) |  (2/3, 1/3)| 양쪽 플레이어 모두 학습모드가 아님|\n",
    "|t <= 1000| 데이터를 학습하여 수정한 확률 | (2/3, 1/3) | 플레이어E는 학습모드 / 플레이어F는 학습모드 아님 |"
   ]
  },
  {
   "cell_type": "code",
   "execution_count": 657,
   "id": "75808f95-c2f0-48e2-a770-54d8f7f2ca92",
   "metadata": {},
   "outputs": [],
   "source": [
    "PlayerE=RPS2(['가위','바위'])\n",
    "PlayerF=RPS2(['가위','보'])"
   ]
  },
  {
   "cell_type": "code",
   "execution_count": 658,
   "id": "8d47e8a3-5635-4895-b760-3dd42407f29a",
   "metadata": {},
   "outputs": [],
   "source": [
    "#\n",
    "# 1~100 \n",
    "PlayerE.trainable=False \n",
    "PlayerF.trainable=False \n",
    "PlayerF.prob=[2/3,1/3]\n",
    "for _ in range(100):\n",
    "    PlayerE * PlayerF\n",
    "# 100~1000     \n",
    "PlayerE.trainable=True\n",
    "PlayerF.trainable=False\n",
    "for _ in range(900):\n",
    "    PlayerE * PlayerF"
   ]
  },
  {
   "cell_type": "code",
   "execution_count": 659,
   "id": "4cb7cc37-b2e7-4cd2-9c3c-fd092c61e711",
   "metadata": {},
   "outputs": [
    {
     "data": {
      "text/html": [
       "\n",
       "        낼 수 있는 패: ['가위', '바위'] <br/> \n",
       "        확률: [0.5139500734214391, 0.48604992657856094] <br/>\n",
       "        데이터: {'바위': 664, '가위': 700} \n",
       "        "
      ],
      "text/plain": [
       "<__main__.RPC2 at 0x7fd19bacaf50>"
      ]
     },
     "execution_count": 659,
     "metadata": {},
     "output_type": "execute_result"
    }
   ],
   "source": [
    "PlayerE"
   ]
  },
  {
   "cell_type": "code",
   "execution_count": 660,
   "id": "4b8a6813-86bf-4b6f-8c45-82213d6c865d",
   "metadata": {},
   "outputs": [
    {
     "data": {
      "text/html": [
       "\n",
       "        낼 수 있는 패: ['가위', '보'] <br/> \n",
       "        확률: [0.6666666666666666, 0.3333333333333333] <br/>\n",
       "        데이터: {'가위': 344, '보': 292} \n",
       "        "
      ],
      "text/plain": [
       "<__main__.RPC2 at 0x7fd19baca920>"
      ]
     },
     "execution_count": 660,
     "metadata": {},
     "output_type": "execute_result"
    }
   ],
   "source": [
    "PlayerF"
   ]
  },
  {
   "cell_type": "markdown",
   "id": "e333605d-77c5-4a56-bde3-d8643c9041c0",
   "metadata": {},
   "source": [
    "> E가 가위를 냈을경우 보상의 기대값은 $1\\times 2/3 + 2 \\times 1/3 = 4/3$ 이고 바위를 냈을 경우 보상의 기대값은 $2\\times 2/3 + 0 \\times 1/3 = 4/3$ 이므로 가위도 바위도 유리하지 않다. 따라서 가위와 바위를 어떠한 확률로 내든 상관없다. "
   ]
  },
  {
   "cell_type": "markdown",
   "id": "27424e68-2608-41bd-9990-9a97640a3b00",
   "metadata": {},
   "source": [
    "***문제2의 추가해설***"
   ]
  },
  {
   "cell_type": "markdown",
   "id": "59239862-0633-42a5-846f-9c289f00edb9",
   "metadata": {},
   "source": [
    "(프로그래밍 팁)"
   ]
  },
  {
   "cell_type": "markdown",
   "id": "efeb7b35-12a6-4337-9f30-e423a3632acf",
   "metadata": {},
   "source": [
    "기본적인 구현기능인 RPS클래스를 상속을 이용하여 적절하게 modify하면 문제를 쉽게 풀 수 있습니다. 문항에 따라서 어떤것은 기본 RPS클래스를 쓰는것이 유리하고 어떠한 것은 새로운 클래스를 정의하는 것이 유리할 수 있습니다. 예를들어 2-(1),(2),(5)는 RPS클래스를 그대로 쓰는 것이 유리했으며 나머지는 새로운 클래스인 RPS2를 사용하는것이 문제풀이에 유리했습니다. "
   ]
  },
  {
   "cell_type": "markdown",
   "id": "0ee8066b-bc77-4806-a465-b566886709d9",
   "metadata": {},
   "source": [
    "(계산팁)"
   ]
  },
  {
   "cell_type": "markdown",
   "id": "1791e648-294c-4d10-9de3-870b989d094d",
   "metadata": {},
   "source": [
    "추가확률을 계산할 경우 pandas의 dataframe을 이용하는 것보다 RPS2에서 제가 구현한 것 처럼 dict와 같은 내장자료형을 이용하는 것이 훨씬 연산속도가 빠릅니다. 가령 8번문제의 경우 알고리즘에 따라서 연산시간이 오래걸릴 수도 있는데 제가 짠 코드를 기반으로 코랩에서 돌리면 2.4116초 정도로 결과를 얻을 수 있습니다. 연산속도의 차이가 나는 이유는 (1) 기본적으로 판다스는 느리며 (2) RPS의 data에는 모든 자료를 저장는데 RPS2의 data는 각 패를 내었을 경우 보상의 누적만 저장하기 때문입니다. 최근 데이터량의 증가로 인하여 알고리즘의 효율성을 생각해야할 때도 있는데요, 본인이 구현한 코드와 정답코드를 비교해가며 계산시간을 테스트해보는것도 좋은 경험일 것 같습니다. 계산시간을 측정하는 것은 4월18일 강의노트에 사용한 방법을 참고하시면 됩니다. "
   ]
  },
  {
   "cell_type": "markdown",
   "id": "ff0d791c-9c5c-47e7-8601-c3bae1710a1a",
   "metadata": {},
   "source": [
    "(약간의 개념해설)"
   ]
  },
  {
   "cell_type": "markdown",
   "id": "7701545e-2f27-4339-9558-7c85ba006506",
   "metadata": {},
   "source": [
    "이 문제는 제로섬게임의 확장입니다. (양쪽 플레이어의 보상합이 일정하므로 이러한 게임을 constantsum 이라고 부릅니다) 어떤 분은 이 문제를 보고 게임이론을 떠올릴 수 있고 어떤 분은 강화학습을 떠올렸을 것 같습니다. \n",
    "\n",
    "문제의 포인트는 상대방의 전략에 따라서 나의 최적전략이 끝없이 달라진다는 점입니다. 문항 (5)-(10)까지의 문제는 이러한 상황을 묘사합니다. 직관적으로는 더 좋은패를 가지고 있는 플레이어E가 유리할 듯 하지만 결국 상대의 패를 보고 전략을 끝없이 수정하면 어떠한 하나의 action도 최적이 될 수 없습니다. 이 문제의 경우 문항 (8)의 시점에서는 둘 다 가위를 내도록 업데이트 되었는데 이를 이용하여 플레이어E가 다시 바위를 낼 수 있고 그 심리를 역이용하여 플레이어F가 다시 보를 낼 수 있고 그 심리를 다시 역이용하여 플레이어E가 다시 가위를 내며 그 심리를 역이용하여 플레이어F는 다시 가위를 낼 수 있어 무한반복이 됩니다. (상대도 바보가 아니거든요.)\n",
    "\n",
    "하지만 두 가지 액션을 확률로 선택한다면 문항 (10)의 상황과 같이 상대방이 어떠한 선택을 하더라도 유리한 선택이 존재하지 않는 어떠한 균형점이 존재할 수 있는데 이를 내쉬의 균형이라 합니다. 내쉬의 균형에 따르면 플레이어E는 가위와 바위를 2:1의 비율로 플레이어F는 가위와 보를 2:1로 낼때 서로가 서로의 전략을 바꾸지 않는 균형상태에 도달합니다. 이러한 게임의 셋팅에 대하여 좀 더 관심 있으신 분은 게임이론을 참고하셔서 공부해보시기 바랍니다. (저도 기본적인 내용밖에 모르지만 흥미있는 분야입니다) \n",
    "\n",
    "만약 주어진 게임환경에서 플레이어E,F가 (에이전트라고 부릅니다) 전략을 학습하는 과정이 흥미롭게 느껴졌다면 강화학습을 한번 참고해보시기 바랍니다. 강화학습은 알파고를 학습시킨것으로 유명한 알고리즘입니다. 아래영상은 컴퓨터플레이어가 벽돌깨기 게임을 하며 데이터를 쌓고 데이터로 부터 적절한 action을 학습하는 과정을 묘사한 영상입니다. \n",
    "\n",
    "- https://www.youtube.com/watch?v=TmPfTpjtdgg\n",
    "\n",
    "여러분들이 기말고사에서 간단히 만들어본 알고리즘의 발전형입니다. 강화학습에 흥미가 있으시면 방학동안에 공부해보시길 바랍니다. (궁금한 점은 제 메일로 질문하셔도 됩니다, 제가 게임이론은 전공이 아니지만 강화학습은 약간 할줄 알거든요 ㅎㅎ) \n",
    "\n"
   ]
  },
  {
   "cell_type": "markdown",
   "id": "9cbea14a-ec13-4485-a864-f24820baf54b",
   "metadata": {},
   "source": [
    "### Appendix"
   ]
  },
  {
   "cell_type": "markdown",
   "id": "88fc7afc-cba0-4bd1-8634-e5b172dee372",
   "metadata": {},
   "source": [
    "`-` 아래의 클래스를 참고하여 문제1,2을 풀어라. (5월25일 강의노트에 소개된 클래스를 약간 정리한 것) \n",
    "- 참고하지 않아도 감점은 없음"
   ]
  },
  {
   "cell_type": "code",
   "execution_count": 2,
   "id": "9ab98c74-1e81-4110-8234-5d5c873098d8",
   "metadata": {},
   "outputs": [],
   "source": [
    "class RPS:\n",
    "    def __init__(self,candidate):\n",
    "        self.candidate = candidate\n",
    "        self.actions = list() \n",
    "        self.rewards = list()\n",
    "        self.prob = [0.5,0.5]\n",
    "\n",
    "    def __eq__(self,other): # 연산 == 를 재정의 \n",
    "        return self.actions[-1] == other.actions[-1] \n",
    "        #note: 둘의 액션이 같으면 무승부 \n",
    "    \n",
    "    def __gt__(self,other): # 연산 > 를 재정의 \n",
    "        pair = self.actions[-1], other.actions[-1]\n",
    "        return pair == ('가위','보') or pair == ('바위','가위') or pair == ('보','바위') \n",
    "        #note: 가위>보, 바위>가위, 보>가위 \n",
    "    \n",
    "    def __mul__(self,other):\n",
    "        # step1: 각자의 패를 선택 \n",
    "        self.choose()\n",
    "        other.choose()\n",
    "        \n",
    "        # step2: 승패 판단 + upate reward\n",
    "        if self == other: # 무승부일경우 \n",
    "            self.rewards.append(1)\n",
    "            other.rewards.append(1)\n",
    "        elif self > other: # self의 승리 \n",
    "            self.rewards.append(2)\n",
    "            other.rewards.append(0)\n",
    "        else: # other의 승리 \n",
    "            self.rewards.append(0)\n",
    "            other.rewards.append(2)\n",
    "        \n",
    "        # step3: update data\n",
    "        self.update_data()\n",
    "        other.update_data()\n",
    "    \n",
    "    def update_data(self):\n",
    "        self.data = pd.DataFrame({'actions':self.actions, 'rewards':self.rewards})\n",
    "    \n",
    "    def _repr_html_(self):\n",
    "        html_str = \"\"\"\n",
    "        낼 수 있는 패: {} <br/> \n",
    "        데이터: <br/>\n",
    "        {}\n",
    "        \"\"\"        \n",
    "        return html_str.format(self.candidate,self.data._repr_html_())\n",
    "    \n",
    "    def choose(self):\n",
    "        self.actions.append(np.random.choice(self.candidate,p=self.prob))"
   ]
  },
  {
   "cell_type": "markdown",
   "id": "e8483930-ec2e-4b87-8741-57248b1723a8",
   "metadata": {},
   "source": [
    "`-` 사용예시"
   ]
  },
  {
   "cell_type": "code",
   "execution_count": null,
   "id": "c9e0a8cd-3a76-46f2-9b07-85365382ca81",
   "metadata": {},
   "outputs": [],
   "source": [
    "a=RPS(['가위','가위'])\n",
    "b=RPS(['가위','보'])"
   ]
  },
  {
   "cell_type": "code",
   "execution_count": null,
   "id": "46d2d7d5-eaff-4e12-aef0-c32701f63f6a",
   "metadata": {},
   "outputs": [],
   "source": [
    "for i in range(5):\n",
    "    a*b"
   ]
  },
  {
   "cell_type": "code",
   "execution_count": null,
   "id": "55dfcfd8-3224-4acc-9452-36233fce1f3b",
   "metadata": {},
   "outputs": [
    {
     "data": {
      "text/html": [
       "\n",
       "        낼 수 있는 패: ['가위', '가위'] <br/> \n",
       "        데이터: <br/>\n",
       "        <div>\n",
       "<style scoped>\n",
       "    .dataframe tbody tr th:only-of-type {\n",
       "        vertical-align: middle;\n",
       "    }\n",
       "\n",
       "    .dataframe tbody tr th {\n",
       "        vertical-align: top;\n",
       "    }\n",
       "\n",
       "    .dataframe thead th {\n",
       "        text-align: right;\n",
       "    }\n",
       "</style>\n",
       "<table border=\"1\" class=\"dataframe\">\n",
       "  <thead>\n",
       "    <tr style=\"text-align: right;\">\n",
       "      <th></th>\n",
       "      <th>actions</th>\n",
       "      <th>rewards</th>\n",
       "    </tr>\n",
       "  </thead>\n",
       "  <tbody>\n",
       "    <tr>\n",
       "      <th>0</th>\n",
       "      <td>가위</td>\n",
       "      <td>2</td>\n",
       "    </tr>\n",
       "    <tr>\n",
       "      <th>1</th>\n",
       "      <td>가위</td>\n",
       "      <td>2</td>\n",
       "    </tr>\n",
       "    <tr>\n",
       "      <th>2</th>\n",
       "      <td>가위</td>\n",
       "      <td>1</td>\n",
       "    </tr>\n",
       "    <tr>\n",
       "      <th>3</th>\n",
       "      <td>가위</td>\n",
       "      <td>2</td>\n",
       "    </tr>\n",
       "    <tr>\n",
       "      <th>4</th>\n",
       "      <td>가위</td>\n",
       "      <td>2</td>\n",
       "    </tr>\n",
       "  </tbody>\n",
       "</table>\n",
       "</div>\n",
       "        "
      ],
      "text/plain": [
       "<__main__.RPC at 0x7fa369b290c0>"
      ]
     },
     "execution_count": 12,
     "metadata": {},
     "output_type": "execute_result"
    }
   ],
   "source": [
    "a"
   ]
  },
  {
   "cell_type": "code",
   "execution_count": null,
   "id": "39c67f96-772f-44e6-ab0b-9ed410a09bce",
   "metadata": {},
   "outputs": [
    {
     "data": {
      "text/html": [
       "\n",
       "        낼 수 있는 패: ['가위', '보'] <br/> \n",
       "        데이터: <br/>\n",
       "        <div>\n",
       "<style scoped>\n",
       "    .dataframe tbody tr th:only-of-type {\n",
       "        vertical-align: middle;\n",
       "    }\n",
       "\n",
       "    .dataframe tbody tr th {\n",
       "        vertical-align: top;\n",
       "    }\n",
       "\n",
       "    .dataframe thead th {\n",
       "        text-align: right;\n",
       "    }\n",
       "</style>\n",
       "<table border=\"1\" class=\"dataframe\">\n",
       "  <thead>\n",
       "    <tr style=\"text-align: right;\">\n",
       "      <th></th>\n",
       "      <th>actions</th>\n",
       "      <th>rewards</th>\n",
       "    </tr>\n",
       "  </thead>\n",
       "  <tbody>\n",
       "    <tr>\n",
       "      <th>0</th>\n",
       "      <td>보</td>\n",
       "      <td>0</td>\n",
       "    </tr>\n",
       "    <tr>\n",
       "      <th>1</th>\n",
       "      <td>보</td>\n",
       "      <td>0</td>\n",
       "    </tr>\n",
       "    <tr>\n",
       "      <th>2</th>\n",
       "      <td>가위</td>\n",
       "      <td>1</td>\n",
       "    </tr>\n",
       "    <tr>\n",
       "      <th>3</th>\n",
       "      <td>보</td>\n",
       "      <td>0</td>\n",
       "    </tr>\n",
       "    <tr>\n",
       "      <th>4</th>\n",
       "      <td>보</td>\n",
       "      <td>0</td>\n",
       "    </tr>\n",
       "  </tbody>\n",
       "</table>\n",
       "</div>\n",
       "        "
      ],
      "text/plain": [
       "<__main__.RPC at 0x7fa369b28eb0>"
      ]
     },
     "execution_count": 13,
     "metadata": {},
     "output_type": "execute_result"
    }
   ],
   "source": [
    "b"
   ]
  }
 ],
 "metadata": {
  "kernelspec": {
   "display_name": "Python 3 (ipykernel)",
   "language": "python",
   "name": "python3"
  },
  "language_info": {
   "codemirror_mode": {
    "name": "ipython",
    "version": 3
   },
   "file_extension": ".py",
   "mimetype": "text/x-python",
   "name": "python",
   "nbconvert_exporter": "python",
   "pygments_lexer": "ipython3",
   "version": "3.7.13"
  }
 },
 "nbformat": 4,
 "nbformat_minor": 5
}
