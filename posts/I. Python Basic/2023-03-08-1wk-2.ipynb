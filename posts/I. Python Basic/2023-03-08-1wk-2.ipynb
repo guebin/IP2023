{
 "cells": [
  {
   "cell_type": "raw",
   "id": "8dfc2a60-47be-412b-b39d-2536cf21696a",
   "metadata": {},
   "source": [
    "---\n",
    "title: \"01wk-2 draft\"\n",
    "author: \"최규빈\"\n",
    "date: \"03/07/2023\"\n",
    "---"
   ]
  },
  {
   "cell_type": "markdown",
   "id": "fcae94a1-8cef-470f-bf8e-be9c625cb38b",
   "metadata": {},
   "source": [
    "# 강의영상 "
   ]
  },
  {
   "cell_type": "markdown",
   "id": "b9327d03-e672-4177-a969-d7527e9488c3",
   "metadata": {
    "id": "limiting-attitude"
   },
   "source": [
    "# 파이썬 교재"
   ]
  },
  {
   "cell_type": "markdown",
   "id": "f5d0348d-fc6a-4e8c-bc4a-0d3dcae8e2f5",
   "metadata": {
    "id": "personalized-inspiration"
   },
   "source": [
    "`-` 전자교재\n",
    "\n",
    "- https://docs.python.org/3.9/tutorial/index.html\n",
    "- https://wikidocs.net/book/1\n",
    "- https://jakevdp.github.io/PythonDataScienceHandbook/"
   ]
  },
  {
   "cell_type": "markdown",
   "id": "4a9f3bec-a50c-4144-a966-d0783fd7ddc9",
   "metadata": {},
   "source": [
    "`-` 종이책\n",
    "\n",
    "- 효율적 개발로 이끄는 파이썬 실천 기술\n",
    "- Learning python: powerful object-oriented programming\n",
    "- 전문가를 위한 파이썬 : 파이썬3 버전 기준 | 간단하고, 명료하고, 효율적인 파이썬 프로그래밍"
   ]
  },
  {
   "cell_type": "markdown",
   "id": "e2eb412b-f864-4bcc-b7bf-63bf9ef05c81",
   "metadata": {},
   "source": [
    "# 주피터노트북, 주피터랩"
   ]
  },
  {
   "cell_type": "markdown",
   "id": "603e7772-c842-4a4f-9689-8b3bd43abced",
   "metadata": {},
   "source": [
    "`-` interactive notebook이 아니다. "
   ]
  },
  {
   "cell_type": "code",
   "execution_count": 9,
   "id": "c4894e2b-9818-43e6-b8a5-ec0b12116a9f",
   "metadata": {},
   "outputs": [
    {
     "data": {
      "text/plain": [
       "3"
      ]
     },
     "execution_count": 9,
     "metadata": {},
     "output_type": "execute_result"
    }
   ],
   "source": [
    "a=3\n",
    "a"
   ]
  },
  {
   "cell_type": "code",
   "execution_count": 10,
   "id": "d81a6529-5f81-4884-9237-4e459e09f8d4",
   "metadata": {},
   "outputs": [
    {
     "data": {
      "text/plain": [
       "3"
      ]
     },
     "execution_count": 10,
     "metadata": {},
     "output_type": "execute_result"
    }
   ],
   "source": [
    "b=3\n",
    "b"
   ]
  },
  {
   "cell_type": "code",
   "execution_count": 5,
   "id": "6325c722-0fa6-4a8c-8db6-2b20f70729db",
   "metadata": {},
   "outputs": [
    {
     "data": {
      "text/plain": [
       "5"
      ]
     },
     "execution_count": 5,
     "metadata": {},
     "output_type": "execute_result"
    }
   ],
   "source": [
    "a+b"
   ]
  },
  {
   "cell_type": "markdown",
   "id": "455b5b9f-5f31-4713-8be7-d1aab28e1e37",
   "metadata": {},
   "source": [
    "`-` 주피터랩: 주피터노트북의 확장버전 \n",
    "- 저는 주피터랩을 더 선호합니다.\n",
    "- 그런데 주피터노트북을 쓸 경우도 있음. "
   ]
  },
  {
   "cell_type": "markdown",
   "id": "687222b1-8215-4fd5-9390-76965eb62084",
   "metadata": {},
   "source": [
    "`-` 마크다운모드(글쓰기모드), 코드모드(프로그래밍모드)"
   ]
  },
  {
   "cell_type": "markdown",
   "id": "f226038d-c24f-42c2-a9a6-c2b23ea76483",
   "metadata": {},
   "source": [
    "# 자료형 "
   ]
  },
  {
   "cell_type": "markdown",
   "id": "94150770-ffae-4a61-8011-d58593f8fddd",
   "metadata": {},
   "source": [
    "`-` 파이썬의 기본자료형은 int, float, bool, str, list, tuple, dict, set 등이 있다.\n",
    "- 0차원 자료형: int, float, bool \n",
    "- 1차원 자료형: str, list, tuple, dict, set"
   ]
  },
  {
   "cell_type": "markdown",
   "id": "8765d352-8564-4b4d-8626-2225a819ea13",
   "metadata": {},
   "source": [
    "# int, float, bool, complex"
   ]
  },
  {
   "cell_type": "markdown",
   "id": "def958b3-47d0-4cd3-8507-4e1e42c36ddc",
   "metadata": {},
   "source": [
    "`-` int형 "
   ]
  },
  {
   "cell_type": "code",
   "execution_count": 14,
   "id": "1b29ab3b-e2e5-4798-95ce-641e3770a020",
   "metadata": {},
   "outputs": [],
   "source": [
    "a=100"
   ]
  },
  {
   "cell_type": "code",
   "execution_count": 15,
   "id": "1e52610d-ea3a-4dab-8b69-d04705d759ba",
   "metadata": {},
   "outputs": [
    {
     "data": {
      "text/plain": [
       "int"
      ]
     },
     "execution_count": 15,
     "metadata": {},
     "output_type": "execute_result"
    }
   ],
   "source": [
    "type(a)"
   ]
  },
  {
   "cell_type": "markdown",
   "id": "cc1fbbeb-068b-42a6-8c0c-9772b952428c",
   "metadata": {},
   "source": [
    "`-` float형 "
   ]
  },
  {
   "cell_type": "code",
   "execution_count": 18,
   "id": "bcfcd346-1943-4b3d-a5be-3e77657aa3f1",
   "metadata": {},
   "outputs": [
    {
     "data": {
      "text/plain": [
       "3.5999999999999996"
      ]
     },
     "execution_count": 18,
     "metadata": {},
     "output_type": "execute_result"
    }
   ],
   "source": [
    "a=1.2*3 \n",
    "a"
   ]
  },
  {
   "cell_type": "code",
   "execution_count": 19,
   "id": "6c60ce75-b0d1-490e-9c11-6fe2dae2d738",
   "metadata": {},
   "outputs": [
    {
     "data": {
      "text/plain": [
       "float"
      ]
     },
     "execution_count": 19,
     "metadata": {},
     "output_type": "execute_result"
    }
   ],
   "source": [
    "type(a)"
   ]
  },
  {
   "cell_type": "code",
   "execution_count": 20,
   "id": "6e44e4e8-9241-466d-90f5-ce0e648352b6",
   "metadata": {},
   "outputs": [
    {
     "data": {
      "text/plain": [
       "\u001b[0;31mType:\u001b[0m        float\n",
       "\u001b[0;31mString form:\u001b[0m 3.5999999999999996\n",
       "\u001b[0;31mDocstring:\u001b[0m   Convert a string or number to a floating point number, if possible.\n"
      ]
     },
     "metadata": {},
     "output_type": "display_data"
    }
   ],
   "source": [
    "a?"
   ]
  },
  {
   "cell_type": "markdown",
   "id": "c9636480-fc45-4e36-8f4b-dd7275f74fce",
   "metadata": {},
   "source": [
    "`-` bool형 "
   ]
  },
  {
   "cell_type": "code",
   "execution_count": 52,
   "id": "c4e1bd78-23d3-4404-8356-ec6c6bcc0c13",
   "metadata": {},
   "outputs": [],
   "source": [
    "a=True ## 숫자1으로 생각할 수 있음 \n",
    "b=False ## 숫자0으로 생각할 수 있음"
   ]
  },
  {
   "cell_type": "code",
   "execution_count": 24,
   "id": "1ad75565-03c3-4ac4-844f-6a312de68f66",
   "metadata": {},
   "outputs": [
    {
     "data": {
      "text/plain": [
       "bool"
      ]
     },
     "execution_count": 24,
     "metadata": {},
     "output_type": "execute_result"
    }
   ],
   "source": [
    "type(a)"
   ]
  },
  {
   "cell_type": "code",
   "execution_count": 25,
   "id": "0f530cc8-0d85-4d56-8902-8dadc37bed9d",
   "metadata": {},
   "outputs": [
    {
     "data": {
      "text/plain": [
       "bool"
      ]
     },
     "execution_count": 25,
     "metadata": {},
     "output_type": "execute_result"
    }
   ],
   "source": [
    "type(b)"
   ]
  },
  {
   "cell_type": "code",
   "execution_count": 27,
   "id": "aa5e54d7-7c8c-4398-9efb-260adc33af46",
   "metadata": {},
   "outputs": [
    {
     "data": {
      "text/plain": [
       "\u001b[0;31mType:\u001b[0m        bool\n",
       "\u001b[0;31mString form:\u001b[0m True\n",
       "\u001b[0;31mDocstring:\u001b[0m  \n",
       "bool(x) -> bool\n",
       "\n",
       "Returns True when the argument x is true, False otherwise.\n",
       "The builtins True and False are the only two instances of the class bool.\n",
       "The class bool is a subclass of the class int, and cannot be subclassed.\n"
      ]
     },
     "metadata": {},
     "output_type": "display_data"
    }
   ],
   "source": [
    "a?"
   ]
  },
  {
   "cell_type": "code",
   "execution_count": 28,
   "id": "80f65837-5acb-46f2-acaf-3f46e2fcda73",
   "metadata": {},
   "outputs": [
    {
     "data": {
      "text/plain": [
       "\u001b[0;31mType:\u001b[0m        bool\n",
       "\u001b[0;31mString form:\u001b[0m False\n",
       "\u001b[0;31mDocstring:\u001b[0m  \n",
       "bool(x) -> bool\n",
       "\n",
       "Returns True when the argument x is true, False otherwise.\n",
       "The builtins True and False are the only two instances of the class bool.\n",
       "The class bool is a subclass of the class int, and cannot be subclassed.\n"
      ]
     },
     "metadata": {},
     "output_type": "display_data"
    }
   ],
   "source": [
    "b?"
   ]
  },
  {
   "cell_type": "markdown",
   "id": "c5477454-5c0e-4767-b53f-53022aeac2a6",
   "metadata": {},
   "source": [
    "`-` bool형의 연산 "
   ]
  },
  {
   "cell_type": "code",
   "execution_count": 65,
   "id": "09d23a5e-0ae5-46fe-b9e3-35ca4d2921eb",
   "metadata": {},
   "outputs": [],
   "source": [
    "a=True ## 1\n",
    "b=False ## 0 "
   ]
  },
  {
   "cell_type": "code",
   "execution_count": 66,
   "id": "003980a9-ba53-48cd-a85f-759b7e5797d4",
   "metadata": {},
   "outputs": [
    {
     "data": {
      "text/plain": [
       "1"
      ]
     },
     "execution_count": 66,
     "metadata": {},
     "output_type": "execute_result"
    }
   ],
   "source": [
    "a+b"
   ]
  },
  {
   "cell_type": "code",
   "execution_count": 67,
   "id": "60c4bb4e-45b8-4b98-8de2-c2e3883741e7",
   "metadata": {},
   "outputs": [
    {
     "data": {
      "text/plain": [
       "0"
      ]
     },
     "execution_count": 67,
     "metadata": {},
     "output_type": "execute_result"
    }
   ],
   "source": [
    "a*b "
   ]
  },
  {
   "cell_type": "markdown",
   "id": "a2623a61-1294-452f-84dc-67d37c9328d6",
   "metadata": {},
   "source": [
    "`-` complex형 "
   ]
  },
  {
   "cell_type": "code",
   "execution_count": 29,
   "id": "4b351f96-81a0-4b8e-a7cf-5fc09c2d6f09",
   "metadata": {},
   "outputs": [],
   "source": [
    "a=1+2j\n",
    "b=2-2j"
   ]
  },
  {
   "cell_type": "code",
   "execution_count": 33,
   "id": "4fc2d9d3-8f71-469e-bf1e-d95c9398d41a",
   "metadata": {},
   "outputs": [
    {
     "data": {
      "text/plain": [
       "complex"
      ]
     },
     "execution_count": 33,
     "metadata": {},
     "output_type": "execute_result"
    }
   ],
   "source": [
    "type(a)"
   ]
  },
  {
   "cell_type": "code",
   "execution_count": 34,
   "id": "82c43ae8-8f36-487c-aaa5-84fe071781e1",
   "metadata": {},
   "outputs": [
    {
     "data": {
      "text/plain": [
       "complex"
      ]
     },
     "execution_count": 34,
     "metadata": {},
     "output_type": "execute_result"
    }
   ],
   "source": [
    "type(b)"
   ]
  },
  {
   "cell_type": "code",
   "execution_count": 35,
   "id": "fc19f936-bb90-4f7e-ad02-287f60ef4c44",
   "metadata": {},
   "outputs": [
    {
     "data": {
      "text/plain": [
       "\u001b[0;31mType:\u001b[0m        complex\n",
       "\u001b[0;31mString form:\u001b[0m (1+2j)\n",
       "\u001b[0;31mDocstring:\u001b[0m  \n",
       "Create a complex number from a real part and an optional imaginary part.\n",
       "\n",
       "This is equivalent to (real + imag*1j) where imag defaults to 0.\n"
      ]
     },
     "metadata": {},
     "output_type": "display_data"
    }
   ],
   "source": [
    "a?"
   ]
  },
  {
   "cell_type": "code",
   "execution_count": 36,
   "id": "0da15cd7-3cb3-49cb-b849-691ef89c9cec",
   "metadata": {},
   "outputs": [
    {
     "data": {
      "text/plain": [
       "\u001b[0;31mType:\u001b[0m        complex\n",
       "\u001b[0;31mString form:\u001b[0m (2-2j)\n",
       "\u001b[0;31mDocstring:\u001b[0m  \n",
       "Create a complex number from a real part and an optional imaginary part.\n",
       "\n",
       "This is equivalent to (real + imag*1j) where imag defaults to 0.\n"
      ]
     },
     "metadata": {},
     "output_type": "display_data"
    }
   ],
   "source": [
    "b?"
   ]
  },
  {
   "cell_type": "code",
   "execution_count": 39,
   "id": "2728c8cb-29ef-4f1c-b86b-b659513ea72b",
   "metadata": {},
   "outputs": [],
   "source": [
    "c=a+b"
   ]
  },
  {
   "cell_type": "code",
   "execution_count": 40,
   "id": "9260fbea-0887-4141-b7a0-9424648ccd7e",
   "metadata": {},
   "outputs": [
    {
     "data": {
      "text/plain": [
       "(3+0j)"
      ]
     },
     "execution_count": 40,
     "metadata": {},
     "output_type": "execute_result"
    }
   ],
   "source": [
    "c"
   ]
  },
  {
   "cell_type": "markdown",
   "id": "e580df44-ed31-4009-9f1f-ea166214d6f3",
   "metadata": {},
   "source": [
    "`-` 형태변환: float $\\to$ int "
   ]
  },
  {
   "cell_type": "markdown",
   "id": "5e5acacb-93eb-420a-a461-1b308766e4e1",
   "metadata": {},
   "source": [
    "(예시1)"
   ]
  },
  {
   "cell_type": "code",
   "execution_count": 42,
   "id": "8751c225-3b8d-44e2-bfcf-daf58499fba1",
   "metadata": {},
   "outputs": [
    {
     "data": {
      "text/plain": [
       "float"
      ]
     },
     "execution_count": 42,
     "metadata": {},
     "output_type": "execute_result"
    }
   ],
   "source": [
    "a=3.0\n",
    "type(a)"
   ]
  },
  {
   "cell_type": "code",
   "execution_count": 44,
   "id": "d1d6a707-a6d1-474b-b211-700f22e2279d",
   "metadata": {},
   "outputs": [],
   "source": [
    "a=int(a)"
   ]
  },
  {
   "cell_type": "code",
   "execution_count": 46,
   "id": "7269c089-b331-46f7-9670-7ba20e0271b6",
   "metadata": {},
   "outputs": [
    {
     "data": {
      "text/plain": [
       "int"
      ]
     },
     "execution_count": 46,
     "metadata": {},
     "output_type": "execute_result"
    }
   ],
   "source": [
    "type(a)"
   ]
  },
  {
   "cell_type": "markdown",
   "id": "7559a5dd-4e3e-4c07-9494-fbbcfdb3de2b",
   "metadata": {},
   "source": [
    "(예시2) 이경우는 정보의 손실이 발생 "
   ]
  },
  {
   "cell_type": "code",
   "execution_count": 47,
   "id": "4ad501ec-a3f0-4514-a79e-dbb6ee1d1a8f",
   "metadata": {},
   "outputs": [
    {
     "data": {
      "text/plain": [
       "3"
      ]
     },
     "execution_count": 47,
     "metadata": {},
     "output_type": "execute_result"
    }
   ],
   "source": [
    "a=3.14 \n",
    "int(a)"
   ]
  },
  {
   "cell_type": "markdown",
   "id": "008c9f99-21da-4a40-8253-91c2a25f80a8",
   "metadata": {},
   "source": [
    "`-` 형태변환: int $\\to$ float"
   ]
  },
  {
   "cell_type": "code",
   "execution_count": 49,
   "id": "addde2a1-d032-4db9-9e43-2608d530886f",
   "metadata": {},
   "outputs": [
    {
     "data": {
      "text/plain": [
       "int"
      ]
     },
     "execution_count": 49,
     "metadata": {},
     "output_type": "execute_result"
    }
   ],
   "source": [
    "a=3\n",
    "type(a)"
   ]
  },
  {
   "cell_type": "code",
   "execution_count": 51,
   "id": "09cf6cef-19a2-4573-a8f1-aa59dda5c0c6",
   "metadata": {},
   "outputs": [
    {
     "data": {
      "text/plain": [
       "float"
      ]
     },
     "execution_count": 51,
     "metadata": {},
     "output_type": "execute_result"
    }
   ],
   "source": [
    "a=float(a)\n",
    "type(a)"
   ]
  },
  {
   "cell_type": "markdown",
   "id": "44f3f700-7f27-4ca1-b5d1-9fec75adb337",
   "metadata": {},
   "source": [
    "`-` 형태변환: bool $\\to$ int/float, int/float $\\to$ bool "
   ]
  },
  {
   "cell_type": "markdown",
   "id": "c4ab41ef-df89-4257-b5f7-ee61518d1111",
   "metadata": {},
   "source": [
    "(예시1)"
   ]
  },
  {
   "cell_type": "code",
   "execution_count": 55,
   "id": "d794074c-780e-4859-9fc9-488e74565c34",
   "metadata": {},
   "outputs": [
    {
     "data": {
      "text/plain": [
       "bool"
      ]
     },
     "execution_count": 55,
     "metadata": {},
     "output_type": "execute_result"
    }
   ],
   "source": [
    "a=True\n",
    "type(a)"
   ]
  },
  {
   "cell_type": "code",
   "execution_count": 56,
   "id": "611c4f59-2c10-42e9-b6f0-70009a2c02d9",
   "metadata": {},
   "outputs": [
    {
     "data": {
      "text/plain": [
       "1"
      ]
     },
     "execution_count": 56,
     "metadata": {},
     "output_type": "execute_result"
    }
   ],
   "source": [
    "int(a)"
   ]
  },
  {
   "cell_type": "code",
   "execution_count": 57,
   "id": "d4405022-cf13-4882-a330-b8cc5634c94e",
   "metadata": {},
   "outputs": [
    {
     "data": {
      "text/plain": [
       "1.0"
      ]
     },
     "execution_count": 57,
     "metadata": {},
     "output_type": "execute_result"
    }
   ],
   "source": [
    "float(a)"
   ]
  },
  {
   "cell_type": "markdown",
   "id": "11c4227d-596b-44fe-8758-b423b7522548",
   "metadata": {},
   "source": [
    "(예시2)"
   ]
  },
  {
   "cell_type": "code",
   "execution_count": 59,
   "id": "9eb7accd-ccb8-4cfe-9cc1-ef51520ae0b7",
   "metadata": {},
   "outputs": [
    {
     "data": {
      "text/plain": [
       "True"
      ]
     },
     "execution_count": 59,
     "metadata": {},
     "output_type": "execute_result"
    }
   ],
   "source": [
    "a=1 \n",
    "bool(a)"
   ]
  },
  {
   "cell_type": "code",
   "execution_count": 60,
   "id": "244da79f-8c49-4d3d-b5a1-de87c6372a00",
   "metadata": {},
   "outputs": [
    {
     "data": {
      "text/plain": [
       "False"
      ]
     },
     "execution_count": 60,
     "metadata": {},
     "output_type": "execute_result"
    }
   ],
   "source": [
    "a=0\n",
    "bool(a)"
   ]
  },
  {
   "cell_type": "markdown",
   "id": "2d7b3273-e5ab-489d-841e-a67ea6d435ea",
   "metadata": {},
   "source": [
    "(예시3)"
   ]
  },
  {
   "cell_type": "code",
   "execution_count": 61,
   "id": "dcde50c5-33fc-49c7-b416-af42b06607a3",
   "metadata": {},
   "outputs": [
    {
     "data": {
      "text/plain": [
       "True"
      ]
     },
     "execution_count": 61,
     "metadata": {},
     "output_type": "execute_result"
    }
   ],
   "source": [
    "a=1.0\n",
    "bool(a)"
   ]
  },
  {
   "cell_type": "code",
   "execution_count": 62,
   "id": "41a9a3ab-6f02-466d-acbe-65687bbb5cad",
   "metadata": {},
   "outputs": [
    {
     "data": {
      "text/plain": [
       "False"
      ]
     },
     "execution_count": 62,
     "metadata": {},
     "output_type": "execute_result"
    }
   ],
   "source": [
    "a=0.0\n",
    "bool(a)"
   ]
  },
  {
   "cell_type": "markdown",
   "id": "ba625d32-3961-42c3-8993-659724eb7a27",
   "metadata": {},
   "source": [
    "`-` 이상한 형태변환도 가능하다. (이런것도 바꿔주나 싶은것도 바꿔줌) "
   ]
  },
  {
   "cell_type": "code",
   "execution_count": 75,
   "id": "93a47581-0871-429a-857f-b6826525e196",
   "metadata": {},
   "outputs": [
    {
     "data": {
      "text/plain": [
       "True"
      ]
     },
     "execution_count": 75,
     "metadata": {},
     "output_type": "execute_result"
    }
   ],
   "source": [
    "bool(-3.14)"
   ]
  },
  {
   "cell_type": "markdown",
   "id": "b8d27795-e840-4046-8f80-63266dc58ecb",
   "metadata": {},
   "source": [
    "- 저는 이런 코드를 의도적으로 사용하지 않아요.. "
   ]
  },
  {
   "cell_type": "code",
   "execution_count": 74,
   "id": "ce3d8847-d9d7-4e02-95ea-e1e9861156c1",
   "metadata": {},
   "outputs": [
    {
     "data": {
      "text/plain": [
       "3"
      ]
     },
     "execution_count": 74,
     "metadata": {},
     "output_type": "execute_result"
    }
   ],
   "source": [
    "int(3.14)"
   ]
  },
  {
   "cell_type": "markdown",
   "id": "83b3a37c-2e9a-4f45-a5eb-17b873fd20a1",
   "metadata": {},
   "source": [
    "`-` 형태변환이 항상가능한것도 아님 "
   ]
  },
  {
   "cell_type": "code",
   "execution_count": 78,
   "id": "828f77b2-b409-4bb7-b3c9-b1df1611fa0f",
   "metadata": {},
   "outputs": [
    {
     "ename": "TypeError",
     "evalue": "can't convert complex to float",
     "output_type": "error",
     "traceback": [
      "\u001b[0;31m---------------------------------------------------------------------------\u001b[0m",
      "\u001b[0;31mTypeError\u001b[0m                                 Traceback (most recent call last)",
      "Input \u001b[0;32mIn [78]\u001b[0m, in \u001b[0;36m<module>\u001b[0;34m\u001b[0m\n\u001b[0;32m----> 1\u001b[0m \u001b[38;5;28;43mfloat\u001b[39;49m\u001b[43m(\u001b[49m\u001b[38;5;241;43m3\u001b[39;49m\u001b[38;5;241;43m+\u001b[39;49m\u001b[38;5;241;43m0\u001b[39;49m\u001b[43mj\u001b[49m\u001b[43m)\u001b[49m\n",
      "\u001b[0;31mTypeError\u001b[0m: can't convert complex to float"
     ]
    }
   ],
   "source": [
    "float(3+0j) # 사실상 3+0j=3 이므로 float으로 형변환하면 3.0이 되어야 할 것 같은데 변환불가능하다. "
   ]
  },
  {
   "cell_type": "markdown",
   "id": "969ad7c4-9a97-40eb-9178-f1f3c9e5e0c9",
   "metadata": {},
   "source": [
    "`-` 암묵적형변환 (implicit) "
   ]
  },
  {
   "cell_type": "markdown",
   "id": "cc097315-9aff-42ba-990e-b06d97434496",
   "metadata": {},
   "source": [
    "(예비학습) implicit의 의미 \n",
    "- 추운날씨 -> 보일러좀 틀자! (explicit) / 오늘 날씨 좀 추운 것 같지 않아? (implicit) \n",
    "- 짜장면 먹을래? -> 싫어! (explicit) / 난 어제 짜장면 먹었는데.. (implicit)"
   ]
  },
  {
   "cell_type": "markdown",
   "id": "fc2b82c7-4ef4-4c67-963b-b5b504f39f6b",
   "metadata": {},
   "source": [
    "(예제) "
   ]
  },
  {
   "cell_type": "code",
   "execution_count": 81,
   "id": "fe791eb2-d4dc-47c5-aafe-b4b28835313c",
   "metadata": {},
   "outputs": [
    {
     "data": {
      "text/plain": [
       "1"
      ]
     },
     "execution_count": 81,
     "metadata": {},
     "output_type": "execute_result"
    }
   ],
   "source": [
    "True * 1 # 1을 곱할건데 너 계속 True로 있을꺼야? "
   ]
  },
  {
   "cell_type": "code",
   "execution_count": 82,
   "id": "8e2b60c4-2861-4023-89f7-543953d0e148",
   "metadata": {},
   "outputs": [
    {
     "data": {
      "text/plain": [
       "1.0"
      ]
     },
     "execution_count": 82,
     "metadata": {},
     "output_type": "execute_result"
    }
   ],
   "source": [
    "1 * 1.0 # 1.0을 곱할건데 너 계속 int로 있을꺼야? "
   ]
  },
  {
   "cell_type": "code",
   "execution_count": 84,
   "id": "5ff47f52-9289-420f-929c-690ddcb7fcc3",
   "metadata": {},
   "outputs": [
    {
     "data": {
      "text/plain": [
       "2"
      ]
     },
     "execution_count": 84,
     "metadata": {},
     "output_type": "execute_result"
    }
   ],
   "source": [
    "True+True # +연산을 할건데 계속 True로 있을꺼야? "
   ]
  }
 ],
 "metadata": {
  "kernelspec": {
   "display_name": "Python 3",
   "language": "python",
   "name": "python3"
  },
  "language_info": {
   "codemirror_mode": {
    "name": "ipython",
    "version": 3
   },
   "file_extension": ".py",
   "mimetype": "text/x-python",
   "name": "python",
   "nbconvert_exporter": "python",
   "pygments_lexer": "ipython3",
   "version": "3.7.15"
  }
 },
 "nbformat": 4,
 "nbformat_minor": 5
}
