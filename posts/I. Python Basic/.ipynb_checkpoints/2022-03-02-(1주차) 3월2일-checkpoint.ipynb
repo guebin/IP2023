{
 "cells": [
  {
   "cell_type": "raw",
   "id": "2e029dac-9d45-4578-9f54-7a315abdad10",
   "metadata": {},
   "source": [
    "---\n",
    "title: \"01wk-1 old\"\n",
    "author: \"최규빈\"\n",
    "date: \"03/02/2023\"\n",
    "draft: true\n",
    "---"
   ]
  },
  {
   "cell_type": "markdown",
   "id": "14bd08c9-0cde-4ec5-992e-d41b137138a6",
   "metadata": {},
   "source": [
    "### 강의영상 "
   ]
  },
  {
   "cell_type": "markdown",
   "id": "0259f3a4-0144-4b8d-b837-232e260c123a",
   "metadata": {},
   "source": [
    "> youtube: https://youtube.com/playlist?list=PLQqh36zP38-wJ9o4u3GHaOgNW-pLNbusl"
   ]
  }
 ],
 "metadata": {
  "kernelspec": {
   "display_name": "Python 3",
   "language": "python",
   "name": "python3"
  },
  "language_info": {
   "codemirror_mode": {
    "name": "ipython",
    "version": 3
   },
   "file_extension": ".py",
   "mimetype": "text/x-python",
   "name": "python",
   "nbconvert_exporter": "python",
   "pygments_lexer": "ipython3",
   "version": "3.7.15"
  }
 },
 "nbformat": 4,
 "nbformat_minor": 5
}
