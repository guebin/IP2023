{
 "cells": [
  {
   "cell_type": "raw",
   "id": "4449bf18-d389-4899-98b1-9c0470516740",
   "metadata": {},
   "source": [
    "---\n",
    "title: \"03wk-2: 파이썬의 자료형 (5)\"\n",
    "author: \"최규빈\"\n",
    "date: \"03/22/2023\"\n",
    "---"
   ]
  },
  {
   "cell_type": "markdown",
   "id": "e7ef6171-680a-4140-a676-fe1b3e753a61",
   "metadata": {},
   "source": [
    "<a href=\"https://colab.research.google.com/github/guebin/PP2023/blob/main/posts/01_PythonBasic/2023-03-22-3wk-2.ipynb\"><img src=\"https://colab.research.google.com/assets/colab-badge.svg\" style=\"text-align: left\"></a>"
   ]
  },
  {
   "cell_type": "markdown",
   "id": "af2bf62c-74b2-467a-907a-ead06ec07d4a",
   "metadata": {},
   "source": [
    "# 강의영상 "
   ]
  },
  {
   "cell_type": "markdown",
   "id": "bde9e2fd-b909-48bb-b4f1-c621315a0499",
   "metadata": {},
   "source": [
    "> youtube: <https://youtube.com/playlist?list=PLQqh36zP38-wD3v6CSCfWfbiSNfiajUh0>"
   ]
  },
  {
   "cell_type": "markdown",
   "id": "1543b08e-4389-4eaa-ba1f-159f736c2640",
   "metadata": {
    "tags": []
   },
   "source": [
    "# 튜플 고급내용"
   ]
  },
  {
   "cell_type": "markdown",
   "id": "b802ebf3-0840-4391-993f-33daaa7c4416",
   "metadata": {},
   "source": [
    "## 튜플을 왜 쓸까? (1)"
   ]
  },
  {
   "cell_type": "markdown",
   "id": "847bd0d4-8ee2-4b0a-8fa1-26a0a6c35fc8",
   "metadata": {},
   "source": [
    "`-` 책의 설명 (이 설명이 꼭 파이썬에 한정되는 것은 아님. 모든 언어에 존재하는 불변형 객체에 적용가능한 설명)\n",
    "\n",
    "- 실수방지 \n",
    "- 빠르다, 다중작업에 유리하다, 여러사람과 작업하기에 유리하다, 깊은복사/얕은복사시 원하지않는 오류(side effect이라고 함)를 방지할 수 있다, 메모리관리에도 유리함... \n",
    "- 느낌: 불변형은 기능제한이 있는데 가볍고 빠른, 가변형은 기능은 풍부하지만 약간 느리고 무거운 느낌임 (불변형:라면사리, 가변형:라면) "
   ]
  },
  {
   "cell_type": "markdown",
   "id": "f8aa4dda-e50b-41ff-babf-9cb19ca3c2d2",
   "metadata": {},
   "source": [
    "## 슬기로운 튜플사용 ($\\star\\star\\star\\star\\star$)"
   ]
  },
  {
   "cell_type": "markdown",
   "id": "ab000133-7108-419e-ad48-49680b11c21d",
   "metadata": {},
   "source": [
    "`-` 예제: 여러변수를 동시에 출력하고 싶을 경우 (다중출력?)"
   ]
  },
  {
   "cell_type": "markdown",
   "id": "ec98a762-f46f-46e1-b2a9-14cf36936068",
   "metadata": {},
   "source": [
    "변수를 아래와 같이 선언하였다고 하자. "
   ]
  },
  {
   "cell_type": "code",
   "execution_count": 192,
   "id": "99b06179-f86a-44a0-8f49-96d810816151",
   "metadata": {},
   "outputs": [],
   "source": [
    "a=1\n",
    "b=2\n",
    "c=3"
   ]
  },
  {
   "cell_type": "markdown",
   "id": "2071d82a-554a-47a6-bad3-0bfcba248433",
   "metadata": {},
   "source": [
    "선언된 값을 확인하려면? "
   ]
  },
  {
   "cell_type": "code",
   "execution_count": 193,
   "id": "ded7b310-8f1c-4229-b72b-907e0346b3a7",
   "metadata": {},
   "outputs": [
    {
     "data": {
      "text/plain": [
       "1"
      ]
     },
     "execution_count": 193,
     "metadata": {},
     "output_type": "execute_result"
    }
   ],
   "source": [
    "a"
   ]
  },
  {
   "cell_type": "code",
   "execution_count": 194,
   "id": "21a5f61f-8c76-464d-b057-76a741e43a1e",
   "metadata": {},
   "outputs": [
    {
     "data": {
      "text/plain": [
       "2"
      ]
     },
     "execution_count": 194,
     "metadata": {},
     "output_type": "execute_result"
    }
   ],
   "source": [
    "b"
   ]
  },
  {
   "cell_type": "code",
   "execution_count": 195,
   "id": "471137dc-5614-48f7-9b37-ed26fece0133",
   "metadata": {},
   "outputs": [
    {
     "data": {
      "text/plain": [
       "3"
      ]
     },
     "execution_count": 195,
     "metadata": {},
     "output_type": "execute_result"
    }
   ],
   "source": [
    "c"
   ]
  },
  {
   "cell_type": "markdown",
   "id": "4121eede-25f7-4e13-bb93-f53a1c453a01",
   "metadata": {},
   "source": [
    "튜플을 이용하면? "
   ]
  },
  {
   "cell_type": "code",
   "execution_count": 196,
   "id": "37023a9e-d0d3-46df-bd8d-dd8d3cb835eb",
   "metadata": {},
   "outputs": [
    {
     "data": {
      "text/plain": [
       "(1, 2, 3)"
      ]
     },
     "execution_count": 196,
     "metadata": {},
     "output_type": "execute_result"
    }
   ],
   "source": [
    "a,b,c # 괄호하나 생략하는것이 이렇게 편하다.."
   ]
  },
  {
   "cell_type": "markdown",
   "id": "aa2b8eb3-bb8c-462f-bc54-3bd5dfd91d8e",
   "metadata": {},
   "source": [
    "`-` 예제: 다중할당1 (여러개의 변수를 동시에 선언하고 싶을 경우) "
   ]
  },
  {
   "cell_type": "code",
   "execution_count": 101,
   "id": "bfaca07d-ae95-432d-ac22-cfd0d53045d3",
   "metadata": {},
   "outputs": [],
   "source": [
    "name, age, sex, height, weight = 'Tom', 20, 'M', 180, 70 "
   ]
  },
  {
   "cell_type": "code",
   "execution_count": 102,
   "id": "1603cf23-b48e-405e-846a-3c033c50bc6d",
   "metadata": {},
   "outputs": [
    {
     "data": {
      "text/plain": [
       "('Tom', 20, 'M', 180, 70)"
      ]
     },
     "execution_count": 102,
     "metadata": {},
     "output_type": "execute_result"
    }
   ],
   "source": [
    "name, age, sex, height, weight"
   ]
  },
  {
   "cell_type": "code",
   "execution_count": 11,
   "id": "86769ec4-4f7e-4d13-9898-053f851042fa",
   "metadata": {},
   "outputs": [
    {
     "data": {
      "text/plain": [
       "180"
      ]
     },
     "execution_count": 11,
     "metadata": {},
     "output_type": "execute_result"
    }
   ],
   "source": [
    "height"
   ]
  },
  {
   "cell_type": "markdown",
   "id": "f27498aa-e3a4-49f5-bf2d-3de3fe0638a3",
   "metadata": {},
   "source": [
    "`-` 예제: 다중할당2, 위도와 경도"
   ]
  },
  {
   "cell_type": "code",
   "execution_count": 105,
   "id": "fd4ce414-5bab-4d19-9352-e127d67a66d2",
   "metadata": {},
   "outputs": [
    {
     "data": {
      "text/plain": [
       "(37, 127)"
      ]
     },
     "execution_count": 105,
     "metadata": {},
     "output_type": "execute_result"
    }
   ],
   "source": [
    "coor = (37,127) # 서울 \n",
    "coor"
   ]
  },
  {
   "cell_type": "code",
   "execution_count": 106,
   "id": "6261f723-914c-4ef6-8b01-41e4e7a84ee5",
   "metadata": {},
   "outputs": [],
   "source": [
    "lat, long = coor"
   ]
  },
  {
   "cell_type": "code",
   "execution_count": 107,
   "id": "b2869fd6-e4e6-4cbb-b13c-c6760d828838",
   "metadata": {},
   "outputs": [
    {
     "data": {
      "text/plain": [
       "37"
      ]
     },
     "execution_count": 107,
     "metadata": {},
     "output_type": "execute_result"
    }
   ],
   "source": [
    "lat "
   ]
  },
  {
   "cell_type": "code",
   "execution_count": 108,
   "id": "cce692a6-4321-4e49-8853-fa07d1c4b7c8",
   "metadata": {},
   "outputs": [
    {
     "data": {
      "text/plain": [
       "127"
      ]
     },
     "execution_count": 108,
     "metadata": {},
     "output_type": "execute_result"
    }
   ],
   "source": [
    "long "
   ]
  },
  {
   "cell_type": "markdown",
   "id": "5d48c918-7245-4081-b7fd-c50b20a0719c",
   "metadata": {},
   "source": [
    "`-` 잠깐만: 다중할당은 꼭 튜플에서만 가능한가? "
   ]
  },
  {
   "cell_type": "markdown",
   "id": "1b0db655-f7aa-493e-8df8-4013eec3a30b",
   "metadata": {},
   "source": [
    "그건 아니다... "
   ]
  },
  {
   "cell_type": "code",
   "execution_count": 112,
   "id": "d67cea06-9942-4a84-920b-73d0f77d5674",
   "metadata": {},
   "outputs": [
    {
     "data": {
      "text/plain": [
       "(1, 2, 3)"
      ]
     },
     "execution_count": 112,
     "metadata": {},
     "output_type": "execute_result"
    }
   ],
   "source": [
    "[x,y,z] = [1,2,3] \n",
    "x,y,z # 다중출력 "
   ]
  },
  {
   "cell_type": "code",
   "execution_count": 113,
   "id": "80682112-1652-47aa-9ec4-0b30b47569c8",
   "metadata": {},
   "outputs": [
    {
     "data": {
      "text/plain": [
       "('h', 'i')"
      ]
     },
     "execution_count": 113,
     "metadata": {},
     "output_type": "execute_result"
    }
   ],
   "source": [
    "[x,y] = 'hi'\n",
    "x,y "
   ]
  },
  {
   "cell_type": "markdown",
   "id": "e4a63452-27d7-46ec-8729-5b9704bda641",
   "metadata": {},
   "source": [
    "튜플과 같이 사용하면 가독성이 극대화 (그래서 다중할당은 거의 튜플과 세트로 사용함) "
   ]
  },
  {
   "cell_type": "code",
   "execution_count": 114,
   "id": "c713c296-1c1d-45df-bc79-a493bd0cb858",
   "metadata": {},
   "outputs": [
    {
     "data": {
      "text/plain": [
       "(1, 2, 3)"
      ]
     },
     "execution_count": 114,
     "metadata": {},
     "output_type": "execute_result"
    }
   ],
   "source": [
    "x,y,z = 1,2,3\n",
    "x,y,z # 다중출력 "
   ]
  },
  {
   "cell_type": "code",
   "execution_count": 115,
   "id": "e76c0343-4739-4ea3-aa40-d951ca6d084c",
   "metadata": {},
   "outputs": [
    {
     "data": {
      "text/plain": [
       "('h', 'i')"
      ]
     },
     "execution_count": 115,
     "metadata": {},
     "output_type": "execute_result"
    }
   ],
   "source": [
    "x,y = 'hi'\n",
    "x,y "
   ]
  },
  {
   "cell_type": "markdown",
   "id": "55211c75-111f-412c-b75a-2c28e56716c9",
   "metadata": {},
   "source": [
    "`-` 예제: 임시변수 사용없이 두 변수의 값을 교환 "
   ]
  },
  {
   "cell_type": "code",
   "execution_count": 126,
   "id": "0bb809cf-51c4-4d65-bf47-d935430b42d3",
   "metadata": {},
   "outputs": [],
   "source": [
    "a=10\n",
    "b=20"
   ]
  },
  {
   "cell_type": "code",
   "execution_count": 127,
   "id": "dbba3f0c-940d-4dc0-afbd-5a902e72eb19",
   "metadata": {},
   "outputs": [],
   "source": [
    "a,b = b,a "
   ]
  },
  {
   "cell_type": "code",
   "execution_count": 128,
   "id": "17ea7f8b-9ceb-4713-b206-5cc7b7298374",
   "metadata": {},
   "outputs": [
    {
     "data": {
      "text/plain": [
       "20"
      ]
     },
     "execution_count": 128,
     "metadata": {},
     "output_type": "execute_result"
    }
   ],
   "source": [
    "a"
   ]
  },
  {
   "cell_type": "code",
   "execution_count": 129,
   "id": "6d6325a9-46d6-4b82-8397-9f5653246172",
   "metadata": {},
   "outputs": [
    {
     "data": {
      "text/plain": [
       "10"
      ]
     },
     "execution_count": 129,
     "metadata": {},
     "output_type": "execute_result"
    }
   ],
   "source": [
    "b"
   ]
  },
  {
   "cell_type": "markdown",
   "id": "f8a7236f-9b64-4baf-9373-a89d4d319802",
   "metadata": {},
   "source": [
    "`-` 예제: for문과 튜플"
   ]
  },
  {
   "cell_type": "code",
   "execution_count": 145,
   "id": "a403a286-7f1a-40a9-b38c-bbda662a6c5f",
   "metadata": {},
   "outputs": [
    {
     "data": {
      "text/plain": [
       "[['guebin', 202112345, 'M'],\n",
       " ['iu', 202254321, 'F'],\n",
       " ['hodong', 202011223, 'M']]"
      ]
     },
     "execution_count": 145,
     "metadata": {},
     "output_type": "execute_result"
    }
   ],
   "source": [
    "lst = [['guebin', 202112345, 'M'],\n",
    "       ['iu',202254321, 'F'],\n",
    "       ['hodong', 202011223, 'M']]\n",
    "lst"
   ]
  },
  {
   "cell_type": "code",
   "execution_count": 27,
   "id": "4d5ce0cd-1737-4b37-a1aa-17841c8266f1",
   "metadata": {},
   "outputs": [
    {
     "name": "stdout",
     "output_type": "stream",
     "text": [
      "guebin M\n",
      "iu F\n",
      "hodong M\n"
     ]
    }
   ],
   "source": [
    "for name,studentid,sex in lst: \n",
    "    print(name,sex)"
   ]
  },
  {
   "cell_type": "markdown",
   "id": "22cb6c6a-7944-40a9-b68e-1214cff99709",
   "metadata": {},
   "source": [
    "`-` 예제: for문과 튜플, dummy variable `_` "
   ]
  },
  {
   "cell_type": "code",
   "execution_count": 28,
   "id": "328e16e5-5ed8-41b5-9762-e8290107d92c",
   "metadata": {},
   "outputs": [
    {
     "name": "stdout",
     "output_type": "stream",
     "text": [
      "202112345\n",
      "202254321\n",
      "202011223\n"
     ]
    }
   ],
   "source": [
    "for name,studentid,sex in lst: \n",
    "    print(studentid)"
   ]
  },
  {
   "cell_type": "code",
   "execution_count": 156,
   "id": "9bb43f0f-1ce7-46a6-ba50-4c84449bbbb1",
   "metadata": {},
   "outputs": [
    {
     "name": "stdout",
     "output_type": "stream",
     "text": [
      "202112345\n",
      "202254321\n",
      "202011223\n"
     ]
    }
   ],
   "source": [
    "for _,studentid,_ in lst: \n",
    "    print(studentid)"
   ]
  },
  {
   "cell_type": "code",
   "execution_count": 157,
   "id": "26f12415-1764-4438-bf05-f7c0d4fe5458",
   "metadata": {},
   "outputs": [
    {
     "name": "stdout",
     "output_type": "stream",
     "text": [
      "M\n",
      "F\n",
      "M\n"
     ]
    }
   ],
   "source": [
    "for _,_,sex in lst: \n",
    "    print(sex)"
   ]
  },
  {
   "cell_type": "code",
   "execution_count": 158,
   "id": "26d18442-93b7-487a-92ba-4c7328cde68d",
   "metadata": {},
   "outputs": [
    {
     "name": "stdout",
     "output_type": "stream",
     "text": [
      "guebin M\n",
      "iu F\n",
      "hodong M\n"
     ]
    }
   ],
   "source": [
    "for name,_,sex in lst: \n",
    "    print(name,sex)"
   ]
  },
  {
   "cell_type": "code",
   "execution_count": 159,
   "id": "d8bedc9b-6427-49fd-ad3a-c7a9e342c963",
   "metadata": {},
   "outputs": [
    {
     "ename": "ValueError",
     "evalue": "too many values to unpack (expected 2)",
     "output_type": "error",
     "traceback": [
      "\u001b[0;31m---------------------------------------------------------------------------\u001b[0m",
      "\u001b[0;31mValueError\u001b[0m                                Traceback (most recent call last)",
      "Cell \u001b[0;32mIn[159], line 1\u001b[0m\n\u001b[0;32m----> 1\u001b[0m \u001b[38;5;28;01mfor\u001b[39;00m name,_  \u001b[38;5;129;01min\u001b[39;00m lst: \n\u001b[1;32m      2\u001b[0m     \u001b[38;5;28mprint\u001b[39m(name)\n",
      "\u001b[0;31mValueError\u001b[0m: too many values to unpack (expected 2)"
     ]
    }
   ],
   "source": [
    "for name,_  in lst: \n",
    "    print(name)"
   ]
  },
  {
   "cell_type": "code",
   "execution_count": 160,
   "id": "7fe817c3-91be-4c90-9dd4-89641e43fb42",
   "metadata": {},
   "outputs": [
    {
     "name": "stdout",
     "output_type": "stream",
     "text": [
      "guebin\n",
      "iu\n",
      "hodong\n"
     ]
    }
   ],
   "source": [
    "for name,*args  in lst: \n",
    "    print(name)"
   ]
  },
  {
   "cell_type": "markdown",
   "id": "bdfd5ead-a285-4633-903c-b427154d7101",
   "metadata": {},
   "source": [
    "`-` 예제: 튜플과 언패킹연산자 `*` "
   ]
  },
  {
   "cell_type": "code",
   "execution_count": 181,
   "id": "64e67f19-81e5-4d97-a441-73a7198f66cb",
   "metadata": {},
   "outputs": [
    {
     "data": {
      "text/plain": [
       "(1, 2, [3, 4, 5, 6, 7, 8, 9, 10])"
      ]
     },
     "execution_count": 181,
     "metadata": {},
     "output_type": "execute_result"
    }
   ],
   "source": [
    "head, body, *tail = range(1,11) \n",
    "head, body, tail"
   ]
  },
  {
   "cell_type": "code",
   "execution_count": 182,
   "id": "0d4d9bab-64db-4b16-b49a-64678b1e1ae4",
   "metadata": {},
   "outputs": [
    {
     "data": {
      "text/plain": [
       "(1, 2, [3, 4, 5, 6, 7], 8, 9, 10)"
      ]
     },
     "execution_count": 182,
     "metadata": {},
     "output_type": "execute_result"
    }
   ],
   "source": [
    "head1,head2, *body, tail1,tail2,tail3 = range(1,11) \n",
    "head1,head2, body, tail1,tail2,tail3 "
   ]
  },
  {
   "cell_type": "code",
   "execution_count": 183,
   "id": "0d45beed-3267-4516-b7c3-53c003f3e78c",
   "metadata": {},
   "outputs": [
    {
     "data": {
      "text/plain": [
       "([1, 2, 3, 4, 5, 6, 7, 8], 9, 10)"
      ]
     },
     "execution_count": 183,
     "metadata": {},
     "output_type": "execute_result"
    }
   ],
   "source": [
    "*head, body, tail = range(1,11) \n",
    "head, body, tail"
   ]
  },
  {
   "cell_type": "markdown",
   "id": "51054858-3679-46fe-a6e6-9596a2343d77",
   "metadata": {},
   "source": [
    "(관찰) "
   ]
  },
  {
   "cell_type": "markdown",
   "id": "1c68f1e2-cbdc-49c1-9676-e7350bc3d13f",
   "metadata": {},
   "source": [
    "그러고 보니까.. \n",
    "```python\n",
    "head1,head2, body, tail1,tail2,tail3  = (1, 2, [3,4,5,6,7], 8, 9, 10)\n",
    "head1,head2, *body, tail1,tail2,tail3   = (1, 2, 3,4,5,6,7, 8, 9, 10)\n",
    "```\n",
    "이렇다는 거잖아? "
   ]
  },
  {
   "cell_type": "markdown",
   "id": "6af0e5ce-6cb3-4f72-adad-0a7621d86645",
   "metadata": {},
   "source": [
    "`*`를 붙이면 1차원 자료구조가 풀린다..? "
   ]
  },
  {
   "cell_type": "code",
   "execution_count": 37,
   "id": "d2f7084c-ee9b-4ef3-9857-4f3381dbb3b1",
   "metadata": {},
   "outputs": [
    {
     "ename": "SyntaxError",
     "evalue": "can't use starred expression here (<ipython-input-37-63179bdb9a80>, line 1)",
     "output_type": "error",
     "traceback": [
      "\u001b[0;36m  Cell \u001b[0;32mIn[37], line 1\u001b[0;36m\u001b[0m\n\u001b[0;31m    *[1,2,3]\u001b[0m\n\u001b[0m    ^\u001b[0m\n\u001b[0;31mSyntaxError\u001b[0m\u001b[0;31m:\u001b[0m can't use starred expression here\n"
     ]
    }
   ],
   "source": [
    "*[1,2,3]"
   ]
  },
  {
   "cell_type": "code",
   "execution_count": 38,
   "id": "6a5d352a-0611-47af-89ac-3b2fc49e93c7",
   "metadata": {},
   "outputs": [
    {
     "name": "stdout",
     "output_type": "stream",
     "text": [
      "[1, 2, 3]\n"
     ]
    }
   ],
   "source": [
    "print([1,2,3])"
   ]
  },
  {
   "cell_type": "code",
   "execution_count": 39,
   "id": "1b31b179-c45c-4de6-b982-8acf099c363b",
   "metadata": {},
   "outputs": [
    {
     "name": "stdout",
     "output_type": "stream",
     "text": [
      "1 2 3\n"
     ]
    }
   ],
   "source": [
    "print(*[1,2,3]) ## 이런 느낌이란 말이지.."
   ]
  },
  {
   "cell_type": "markdown",
   "id": "f6258e43-060e-4c13-aa43-96bed258adfc",
   "metadata": {},
   "source": [
    "## 튜플을 왜 쓸까? (2)"
   ]
  },
  {
   "cell_type": "markdown",
   "id": "a96231cf-956f-484d-9d67-3926350427e6",
   "metadata": {},
   "source": [
    "`-` 책의 설명 (이 설명이 꼭 파이썬에 한정되는 것은 아님. 모든 언어에 존재하는 불변형 객체에 적용가능한 설명)\n",
    "\n",
    "- 실수방지 \n",
    "- 빠르다, 다중작업에 유리하다, 여러사람과 작업하기에 유리하다, 깊은복사/얕은복사시 원하지않는 오류(side effect이라고 함)를 방지할 수 있다, 메모리관리에도 유리함... \n",
    "- 느낌: 불변형은 기능제한이 있는데 가볍고 빠른, 가변형은 기능은 풍부하지만 약간 느리고 무거운 느낌임 (불변형:라면사리, 가변형:라면) "
   ]
  },
  {
   "cell_type": "markdown",
   "id": "ed133ae5-2f29-4428-84a3-fccf77207209",
   "metadata": {},
   "source": [
    "`-` 내 설명: 소괄화 생략할 수 있어서 쓰는거야\n",
    "\n",
    "- 튜플의 장점은 소괄호의 생략에 있음 (이것은 파이썬과 줄리아만 가능)\n",
    "- 소괄호생략 + 언패킹 $\\Rightarrow$ 엄청난 가독성\n",
    "- 컴공과 사람들 의견: 튜플 + 언패킹 $\\Rightarrow$ 엄청난 가독성 $\\Rightarrow$ 충격 $\\Rightarrow$ \"파이썬 편하더라고요..\""
   ]
  },
  {
   "cell_type": "code",
   "execution_count": 206,
   "id": "9797b464-b0fa-45ae-9905-9a42e135c33f",
   "metadata": {},
   "outputs": [],
   "source": [
    "def mycal(a,b):\n",
    "    return a+b, a-b, a*b, a/b  #여러개의 값을 리턴하는듯 보임. -> 사실은 길이가 4인 튜플 1개를 리턴"
   ]
  },
  {
   "cell_type": "code",
   "execution_count": 207,
   "id": "1bba2a64-3eb8-4e11-b304-5c724c8d7df6",
   "metadata": {},
   "outputs": [
    {
     "data": {
      "text/plain": [
       "(5, -1, 6, 0.6666666666666666)"
      ]
     },
     "execution_count": 207,
     "metadata": {},
     "output_type": "execute_result"
    }
   ],
   "source": [
    "mycal(2,3)"
   ]
  },
  {
   "cell_type": "code",
   "execution_count": 208,
   "id": "196fb8c7-160f-4815-bd98-a6fd93f2dbfc",
   "metadata": {},
   "outputs": [],
   "source": [
    "_, _, mulrslt, _ = mycal(2,3) # 병렬할당 "
   ]
  },
  {
   "cell_type": "code",
   "execution_count": 209,
   "id": "723439bd-5607-4ccd-8b8a-d28975377291",
   "metadata": {},
   "outputs": [
    {
     "data": {
      "text/plain": [
       "6"
      ]
     },
     "execution_count": 209,
     "metadata": {},
     "output_type": "execute_result"
    }
   ],
   "source": [
    "mulrslt"
   ]
  },
  {
   "cell_type": "markdown",
   "id": "ef4144d3-7c4a-485f-acbf-6f24c4f9e6c0",
   "metadata": {},
   "source": [
    "`-` 의문: 왜 튜플만 괄호를 생략할 수 있지? "
   ]
  },
  {
   "cell_type": "markdown",
   "id": "c9b8142a-138a-4c2a-b8ad-52ab1d4eba5e",
   "metadata": {},
   "source": [
    "답이 없는 문제인데 답을 해보겠습니다. \n",
    "\n",
    "- 튜플을 먼저 만들고, 괄호를 생략하는 문법을 추가한것은 아닐것임\n",
    "- 원래 괄호없이 컴마만 대충찍어서 선언가능한 아주간단한 타입의 벡터형을 만들고 싶었을 것임. \n",
    "- 왜? 괄호없는 벡터를 만들고, 언패킹을 사용하면 여러가지 구문들이 엄청나게 간단해짐. \n",
    "- 컴마컴마로 선언하는 벡터는 한 두번 쓰고 버리는 경우가 많으며 대부분 이름도 필요없음 $\\to$ 원소에 접근해서 sorting하여 순서를 바꾸고 싶다던가 원소를 추가할 이유가 없음 $\\to$ 비싼 가변형으로 만들 이유가 없다는 것.. \n",
    "- 우리가 필요한 것: 데이터가 벡터의 형태로 모여있기만 하면 된다!"
   ]
  }
 ],
 "metadata": {
  "kernelspec": {
   "display_name": "Python 3",
   "language": "python",
   "name": "python3"
  },
  "language_info": {
   "codemirror_mode": {
    "name": "ipython",
    "version": 3
   },
   "file_extension": ".py",
   "mimetype": "text/x-python",
   "name": "python",
   "nbconvert_exporter": "python",
   "pygments_lexer": "ipython3",
   "version": "3.8.16"
  }
 },
 "nbformat": 4,
 "nbformat_minor": 5
}
