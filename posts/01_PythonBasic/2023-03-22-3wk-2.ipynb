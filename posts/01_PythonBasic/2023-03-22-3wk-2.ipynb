{
 "cells": [
  {
   "cell_type": "raw",
   "id": "4449bf18-d389-4899-98b1-9c0470516740",
   "metadata": {},
   "source": [
    "---\n",
    "title: \"03wk-2: 파이썬의 자료형 (5) -- draft\"\n",
    "author: \"최규빈\"\n",
    "date: \"03/22/2023\"\n",
    "---"
   ]
  },
  {
   "cell_type": "markdown",
   "id": "1543b08e-4389-4eaa-ba1f-159f736c2640",
   "metadata": {},
   "source": [
    "# 튜플 고급내용"
   ]
  },
  {
   "cell_type": "markdown",
   "id": "b802ebf3-0840-4391-993f-33daaa7c4416",
   "metadata": {},
   "source": [
    "## 튜플을 왜 쓸까? (1)"
   ]
  },
  {
   "cell_type": "markdown",
   "id": "847bd0d4-8ee2-4b0a-8fa1-26a0a6c35fc8",
   "metadata": {},
   "source": [
    "`-` 책의 설명 (이 설명이 꼭 파이썬에 한정되는 것은 아님. 모든 언어에 존재하는 불변형 객체에 적용가능한 설명)\n",
    "\n",
    "- 실수방지 \n",
    "- 빠르다, 다중작업에 유리하다, 여러사람과 작업하기에 유리하다, 깊은복사/얕은복사시 원하지않는 오류(side effect이라고 함)를 방지할 수 있다, 메모리관리에도 유리함... \n",
    "- 느낌: 불변형은 기능제한이 있는데 가볍고 빠른, 가변형은 기능은 풍부하지만 약간 느리고 무거운 느낌임 (불변형:라면사리, 가변형:라면) "
   ]
  },
  {
   "cell_type": "markdown",
   "id": "f8aa4dda-e50b-41ff-babf-9cb19ca3c2d2",
   "metadata": {},
   "source": [
    "## 슬기로운 튜플사용 ($\\star\\star\\star\\star\\star$)"
   ]
  },
  {
   "cell_type": "markdown",
   "id": "ab000133-7108-419e-ad48-49680b11c21d",
   "metadata": {},
   "source": [
    "`-` 예제: 여러변수를 동시에 출력하고 싶을 경우 (다중출력?)"
   ]
  },
  {
   "cell_type": "markdown",
   "id": "ec98a762-f46f-46e1-b2a9-14cf36936068",
   "metadata": {},
   "source": [
    "변수를 아래와 같이 선언하였다고 하자. "
   ]
  },
  {
   "cell_type": "code",
   "execution_count": 4,
   "id": "99b06179-f86a-44a0-8f49-96d810816151",
   "metadata": {},
   "outputs": [],
   "source": [
    "a=1\n",
    "b=2\n",
    "c=3 "
   ]
  },
  {
   "cell_type": "markdown",
   "id": "2071d82a-554a-47a6-bad3-0bfcba248433",
   "metadata": {},
   "source": [
    "선언된 값을 확인하려면? "
   ]
  },
  {
   "cell_type": "code",
   "execution_count": 5,
   "id": "ded7b310-8f1c-4229-b72b-907e0346b3a7",
   "metadata": {},
   "outputs": [
    {
     "data": {
      "text/plain": [
       "1"
      ]
     },
     "execution_count": 5,
     "metadata": {},
     "output_type": "execute_result"
    }
   ],
   "source": [
    "a"
   ]
  },
  {
   "cell_type": "code",
   "execution_count": 6,
   "id": "21a5f61f-8c76-464d-b057-76a741e43a1e",
   "metadata": {},
   "outputs": [
    {
     "data": {
      "text/plain": [
       "2"
      ]
     },
     "execution_count": 6,
     "metadata": {},
     "output_type": "execute_result"
    }
   ],
   "source": [
    "b"
   ]
  },
  {
   "cell_type": "code",
   "execution_count": 7,
   "id": "471137dc-5614-48f7-9b37-ed26fece0133",
   "metadata": {},
   "outputs": [
    {
     "data": {
      "text/plain": [
       "3"
      ]
     },
     "execution_count": 7,
     "metadata": {},
     "output_type": "execute_result"
    }
   ],
   "source": [
    "c"
   ]
  },
  {
   "cell_type": "markdown",
   "id": "4121eede-25f7-4e13-bb93-f53a1c453a01",
   "metadata": {},
   "source": [
    "튜플을 이용하면? "
   ]
  },
  {
   "cell_type": "code",
   "execution_count": 8,
   "id": "37023a9e-d0d3-46df-bd8d-dd8d3cb835eb",
   "metadata": {},
   "outputs": [
    {
     "data": {
      "text/plain": [
       "(1, 2, 3)"
      ]
     },
     "execution_count": 8,
     "metadata": {},
     "output_type": "execute_result"
    }
   ],
   "source": [
    "a,b,c # 괄호하나 생략하는것이 이렇게 편하다.."
   ]
  },
  {
   "cell_type": "markdown",
   "id": "aa2b8eb3-bb8c-462f-bc54-3bd5dfd91d8e",
   "metadata": {},
   "source": [
    "`-` 예제: 다중할당1 (여러개의 변수를 동시에 선언하고 싶을 경우) "
   ]
  },
  {
   "cell_type": "code",
   "execution_count": 9,
   "id": "bfaca07d-ae95-432d-ac22-cfd0d53045d3",
   "metadata": {},
   "outputs": [],
   "source": [
    "name, age, sex, height, weight = 'Tom', 20, 'M', 180, 70 "
   ]
  },
  {
   "cell_type": "code",
   "execution_count": 10,
   "id": "1603cf23-b48e-405e-846a-3c033c50bc6d",
   "metadata": {},
   "outputs": [
    {
     "data": {
      "text/plain": [
       "('Tom', 20, 'M', 180, 70)"
      ]
     },
     "execution_count": 10,
     "metadata": {},
     "output_type": "execute_result"
    }
   ],
   "source": [
    "name, age, sex, height, weight"
   ]
  },
  {
   "cell_type": "code",
   "execution_count": 11,
   "id": "86769ec4-4f7e-4d13-9898-053f851042fa",
   "metadata": {},
   "outputs": [
    {
     "data": {
      "text/plain": [
       "180"
      ]
     },
     "execution_count": 11,
     "metadata": {},
     "output_type": "execute_result"
    }
   ],
   "source": [
    "height"
   ]
  },
  {
   "cell_type": "markdown",
   "id": "f27498aa-e3a4-49f5-bf2d-3de3fe0638a3",
   "metadata": {},
   "source": [
    "`-` 예제: 다중할당2, 위도와 경도"
   ]
  },
  {
   "cell_type": "code",
   "execution_count": 12,
   "id": "fd4ce414-5bab-4d19-9352-e127d67a66d2",
   "metadata": {},
   "outputs": [
    {
     "data": {
      "text/plain": [
       "(37, 127)"
      ]
     },
     "execution_count": 12,
     "metadata": {},
     "output_type": "execute_result"
    }
   ],
   "source": [
    "coor = (37,127) # 서울 \n",
    "coor"
   ]
  },
  {
   "cell_type": "code",
   "execution_count": 13,
   "id": "6261f723-914c-4ef6-8b01-41e4e7a84ee5",
   "metadata": {},
   "outputs": [],
   "source": [
    "lat, long = coor"
   ]
  },
  {
   "cell_type": "code",
   "execution_count": 14,
   "id": "b2869fd6-e4e6-4cbb-b13c-c6760d828838",
   "metadata": {},
   "outputs": [
    {
     "data": {
      "text/plain": [
       "37"
      ]
     },
     "execution_count": 14,
     "metadata": {},
     "output_type": "execute_result"
    }
   ],
   "source": [
    "lat "
   ]
  },
  {
   "cell_type": "code",
   "execution_count": 15,
   "id": "cce692a6-4321-4e49-8853-fa07d1c4b7c8",
   "metadata": {},
   "outputs": [
    {
     "data": {
      "text/plain": [
       "127"
      ]
     },
     "execution_count": 15,
     "metadata": {},
     "output_type": "execute_result"
    }
   ],
   "source": [
    "long "
   ]
  },
  {
   "cell_type": "markdown",
   "id": "5d48c918-7245-4081-b7fd-c50b20a0719c",
   "metadata": {},
   "source": [
    "`-` 잠깐만: 다중할당은 꼭 튜플에서만 가능한가? "
   ]
  },
  {
   "cell_type": "markdown",
   "id": "1b0db655-f7aa-493e-8df8-4013eec3a30b",
   "metadata": {},
   "source": [
    "그건 아니다... "
   ]
  },
  {
   "cell_type": "code",
   "execution_count": 16,
   "id": "d67cea06-9942-4a84-920b-73d0f77d5674",
   "metadata": {},
   "outputs": [
    {
     "data": {
      "text/plain": [
       "(1, 2, 3)"
      ]
     },
     "execution_count": 16,
     "metadata": {},
     "output_type": "execute_result"
    }
   ],
   "source": [
    "[x,y,z] = [1,2,3] \n",
    "x,y,z # 다중출력 "
   ]
  },
  {
   "cell_type": "code",
   "execution_count": 17,
   "id": "80682112-1652-47aa-9ec4-0b30b47569c8",
   "metadata": {},
   "outputs": [
    {
     "data": {
      "text/plain": [
       "('h', 'i')"
      ]
     },
     "execution_count": 17,
     "metadata": {},
     "output_type": "execute_result"
    }
   ],
   "source": [
    "[x,y] = 'hi'\n",
    "x,y "
   ]
  },
  {
   "cell_type": "markdown",
   "id": "e4a63452-27d7-46ec-8729-5b9704bda641",
   "metadata": {},
   "source": [
    "튜플과 같이 사용하면 가독성이 극대화 (그래서 다중할당은 거의 튜플과 세트로 사용함) "
   ]
  },
  {
   "cell_type": "code",
   "execution_count": 18,
   "id": "c713c296-1c1d-45df-bc79-a493bd0cb858",
   "metadata": {},
   "outputs": [
    {
     "data": {
      "text/plain": [
       "(1, 2, 3)"
      ]
     },
     "execution_count": 18,
     "metadata": {},
     "output_type": "execute_result"
    }
   ],
   "source": [
    "x,y,z = 1,2,3\n",
    "x,y,z # 다중출력 "
   ]
  },
  {
   "cell_type": "code",
   "execution_count": 19,
   "id": "e76c0343-4739-4ea3-aa40-d951ca6d084c",
   "metadata": {},
   "outputs": [
    {
     "data": {
      "text/plain": [
       "('h', 'i')"
      ]
     },
     "execution_count": 19,
     "metadata": {},
     "output_type": "execute_result"
    }
   ],
   "source": [
    "x,y = 'hi'\n",
    "x,y "
   ]
  },
  {
   "cell_type": "markdown",
   "id": "55211c75-111f-412c-b75a-2c28e56716c9",
   "metadata": {},
   "source": [
    "`-` 예제: 임시변수 사용없이 두 변수의 값을 교환 "
   ]
  },
  {
   "cell_type": "code",
   "execution_count": 20,
   "id": "0bb809cf-51c4-4d65-bf47-d935430b42d3",
   "metadata": {},
   "outputs": [],
   "source": [
    "a=10\n",
    "b=20"
   ]
  },
  {
   "cell_type": "code",
   "execution_count": 21,
   "id": "dbba3f0c-940d-4dc0-afbd-5a902e72eb19",
   "metadata": {},
   "outputs": [],
   "source": [
    "a,b = b,a "
   ]
  },
  {
   "cell_type": "code",
   "execution_count": 22,
   "id": "17ea7f8b-9ceb-4713-b206-5cc7b7298374",
   "metadata": {},
   "outputs": [
    {
     "data": {
      "text/plain": [
       "20"
      ]
     },
     "execution_count": 22,
     "metadata": {},
     "output_type": "execute_result"
    }
   ],
   "source": [
    "a"
   ]
  },
  {
   "cell_type": "code",
   "execution_count": 23,
   "id": "6d6325a9-46d6-4b82-8397-9f5653246172",
   "metadata": {},
   "outputs": [
    {
     "data": {
      "text/plain": [
       "10"
      ]
     },
     "execution_count": 23,
     "metadata": {},
     "output_type": "execute_result"
    }
   ],
   "source": [
    "b"
   ]
  },
  {
   "cell_type": "markdown",
   "id": "f8a7236f-9b64-4baf-9373-a89d4d319802",
   "metadata": {},
   "source": [
    "`-` 예제: for문과 튜플"
   ]
  },
  {
   "cell_type": "code",
   "execution_count": 24,
   "id": "a403a286-7f1a-40a9-b38c-bbda662a6c5f",
   "metadata": {},
   "outputs": [
    {
     "data": {
      "text/plain": [
       "[['guebin', 202112345, 'M'],\n",
       " ['iu', 202254321, 'F'],\n",
       " ['hodong', 202011223, 'M']]"
      ]
     },
     "execution_count": 24,
     "metadata": {},
     "output_type": "execute_result"
    }
   ],
   "source": [
    "lst = [['guebin', 202112345, 'M'],\n",
    "       ['iu',202254321, 'F'],\n",
    "       ['hodong', 202011223, 'M']]\n",
    "lst"
   ]
  },
  {
   "cell_type": "code",
   "execution_count": 25,
   "id": "75b68f84-435b-45ef-aa4b-47b64bacbdf1",
   "metadata": {},
   "outputs": [
    {
     "name": "stdout",
     "output_type": "stream",
     "text": [
      "['guebin', 202112345, 'M']\n",
      "['iu', 202254321, 'F']\n",
      "['hodong', 202011223, 'M']\n"
     ]
    }
   ],
   "source": [
    "for i in lst: \n",
    "    print(i)"
   ]
  },
  {
   "cell_type": "code",
   "execution_count": 26,
   "id": "4f6d11a0-e5e5-4f40-ae16-c2dd8df0a1ad",
   "metadata": {},
   "outputs": [
    {
     "name": "stdout",
     "output_type": "stream",
     "text": [
      "guebin\n",
      "iu\n",
      "hodong\n"
     ]
    }
   ],
   "source": [
    "for name,studentid,sex in lst: \n",
    "    print(name)"
   ]
  },
  {
   "cell_type": "code",
   "execution_count": 27,
   "id": "4d5ce0cd-1737-4b37-a1aa-17841c8266f1",
   "metadata": {},
   "outputs": [
    {
     "name": "stdout",
     "output_type": "stream",
     "text": [
      "guebin M\n",
      "iu F\n",
      "hodong M\n"
     ]
    }
   ],
   "source": [
    "for name,studentid,sex in lst: \n",
    "    print(name,sex)"
   ]
  },
  {
   "cell_type": "markdown",
   "id": "22cb6c6a-7944-40a9-b68e-1214cff99709",
   "metadata": {},
   "source": [
    "`-` 예제: for문과 튜플, dummy variable `_` "
   ]
  },
  {
   "cell_type": "code",
   "execution_count": 28,
   "id": "328e16e5-5ed8-41b5-9762-e8290107d92c",
   "metadata": {},
   "outputs": [
    {
     "name": "stdout",
     "output_type": "stream",
     "text": [
      "202112345\n",
      "202254321\n",
      "202011223\n"
     ]
    }
   ],
   "source": [
    "for name,studentid,sex in lst: \n",
    "    print(studentid)"
   ]
  },
  {
   "cell_type": "code",
   "execution_count": 29,
   "id": "9bb43f0f-1ce7-46a6-ba50-4c84449bbbb1",
   "metadata": {},
   "outputs": [
    {
     "name": "stdout",
     "output_type": "stream",
     "text": [
      "202112345\n",
      "202254321\n",
      "202011223\n"
     ]
    }
   ],
   "source": [
    "for _,studentid,_ in lst: \n",
    "    print(studentid)"
   ]
  },
  {
   "cell_type": "code",
   "execution_count": 30,
   "id": "26f12415-1764-4438-bf05-f7c0d4fe5458",
   "metadata": {},
   "outputs": [
    {
     "name": "stdout",
     "output_type": "stream",
     "text": [
      "M\n",
      "F\n",
      "M\n"
     ]
    }
   ],
   "source": [
    "for _,_,sex in lst: \n",
    "    print(sex)"
   ]
  },
  {
   "cell_type": "code",
   "execution_count": 31,
   "id": "26d18442-93b7-487a-92ba-4c7328cde68d",
   "metadata": {},
   "outputs": [
    {
     "name": "stdout",
     "output_type": "stream",
     "text": [
      "guebin M\n",
      "iu F\n",
      "hodong M\n"
     ]
    }
   ],
   "source": [
    "for name,_,sex in lst: \n",
    "    print(name,sex)"
   ]
  },
  {
   "cell_type": "code",
   "execution_count": 32,
   "id": "d8bedc9b-6427-49fd-ad3a-c7a9e342c963",
   "metadata": {},
   "outputs": [
    {
     "ename": "ValueError",
     "evalue": "too many values to unpack (expected 2)",
     "output_type": "error",
     "traceback": [
      "\u001b[0;31m---------------------------------------------------------------------------\u001b[0m",
      "\u001b[0;31mValueError\u001b[0m                                Traceback (most recent call last)",
      "Cell \u001b[0;32mIn[32], line 1\u001b[0m\n\u001b[0;32m----> 1\u001b[0m \u001b[38;5;28;01mfor\u001b[39;00m name,_  \u001b[38;5;129;01min\u001b[39;00m lst: \n\u001b[1;32m      2\u001b[0m     \u001b[38;5;28mprint\u001b[39m(name)\n",
      "\u001b[0;31mValueError\u001b[0m: too many values to unpack (expected 2)"
     ]
    }
   ],
   "source": [
    "for name,_  in lst: \n",
    "    print(name)"
   ]
  },
  {
   "cell_type": "code",
   "execution_count": 33,
   "id": "7fe817c3-91be-4c90-9dd4-89641e43fb42",
   "metadata": {},
   "outputs": [
    {
     "name": "stdout",
     "output_type": "stream",
     "text": [
      "guebin\n",
      "iu\n",
      "hodong\n"
     ]
    }
   ],
   "source": [
    "for name,*args  in lst: \n",
    "    print(name)"
   ]
  },
  {
   "cell_type": "markdown",
   "id": "bdfd5ead-a285-4633-903c-b427154d7101",
   "metadata": {},
   "source": [
    "`-` 예제: 튜플과 언패킹연산자 `*` "
   ]
  },
  {
   "cell_type": "code",
   "execution_count": 34,
   "id": "64e67f19-81e5-4d97-a441-73a7198f66cb",
   "metadata": {},
   "outputs": [
    {
     "data": {
      "text/plain": [
       "(1, 2, [3, 4, 5, 6, 7, 8, 9, 10])"
      ]
     },
     "execution_count": 34,
     "metadata": {},
     "output_type": "execute_result"
    }
   ],
   "source": [
    "head, body, *tail = range(1,11) \n",
    "head, body, tail"
   ]
  },
  {
   "cell_type": "code",
   "execution_count": 35,
   "id": "0d4d9bab-64db-4b16-b49a-64678b1e1ae4",
   "metadata": {},
   "outputs": [
    {
     "data": {
      "text/plain": [
       "(1, 2, [3, 4, 5, 6, 7], 8, 9, 10)"
      ]
     },
     "execution_count": 35,
     "metadata": {},
     "output_type": "execute_result"
    }
   ],
   "source": [
    "head1,head2, *body, tail1,tail2,tail3 = range(1,11) \n",
    "head1,head2, body, tail1,tail2,tail3 "
   ]
  },
  {
   "cell_type": "code",
   "execution_count": 36,
   "id": "0d45beed-3267-4516-b7c3-53c003f3e78c",
   "metadata": {},
   "outputs": [
    {
     "data": {
      "text/plain": [
       "([1, 2, 3, 4, 5, 6, 7, 8], 9, 10)"
      ]
     },
     "execution_count": 36,
     "metadata": {},
     "output_type": "execute_result"
    }
   ],
   "source": [
    "*head, body, tail = range(1,11) \n",
    "head, body, tail"
   ]
  },
  {
   "cell_type": "markdown",
   "id": "51054858-3679-46fe-a6e6-9596a2343d77",
   "metadata": {},
   "source": [
    "(관찰) "
   ]
  },
  {
   "cell_type": "markdown",
   "id": "1c68f1e2-cbdc-49c1-9676-e7350bc3d13f",
   "metadata": {},
   "source": [
    "그러고 보니까.. \n",
    "```python\n",
    "head1,head2, body, tail1,tail2,tail3  = (1, 2, [3,4,5,6,7], 8, 9, 10)\n",
    "head1,head2, *body, tail1,tail2,tail3   = (1, 2, 3,4,5,6,7, 8, 9, 10)\n",
    "```\n",
    "이렇다는 거잖아? "
   ]
  },
  {
   "cell_type": "markdown",
   "id": "6af0e5ce-6cb3-4f72-adad-0a7621d86645",
   "metadata": {},
   "source": [
    "`*`를 붙이면 1차원 자료구조가 풀린다..? "
   ]
  },
  {
   "cell_type": "code",
   "execution_count": 37,
   "id": "d2f7084c-ee9b-4ef3-9857-4f3381dbb3b1",
   "metadata": {},
   "outputs": [
    {
     "ename": "SyntaxError",
     "evalue": "can't use starred expression here (<ipython-input-37-63179bdb9a80>, line 1)",
     "output_type": "error",
     "traceback": [
      "\u001b[0;36m  Cell \u001b[0;32mIn[37], line 1\u001b[0;36m\u001b[0m\n\u001b[0;31m    *[1,2,3]\u001b[0m\n\u001b[0m    ^\u001b[0m\n\u001b[0;31mSyntaxError\u001b[0m\u001b[0;31m:\u001b[0m can't use starred expression here\n"
     ]
    }
   ],
   "source": [
    "*[1,2,3]"
   ]
  },
  {
   "cell_type": "code",
   "execution_count": 38,
   "id": "6a5d352a-0611-47af-89ac-3b2fc49e93c7",
   "metadata": {},
   "outputs": [
    {
     "name": "stdout",
     "output_type": "stream",
     "text": [
      "[1, 2, 3]\n"
     ]
    }
   ],
   "source": [
    "print([1,2,3])"
   ]
  },
  {
   "cell_type": "code",
   "execution_count": 39,
   "id": "1b31b179-c45c-4de6-b982-8acf099c363b",
   "metadata": {},
   "outputs": [
    {
     "name": "stdout",
     "output_type": "stream",
     "text": [
      "1 2 3\n"
     ]
    }
   ],
   "source": [
    "print(*[1,2,3]) ## 이런 느낌이란 말이지.."
   ]
  },
  {
   "cell_type": "markdown",
   "id": "f6258e43-060e-4c13-aa43-96bed258adfc",
   "metadata": {},
   "source": [
    "## 튜플을 왜 쓸까? (2)"
   ]
  },
  {
   "cell_type": "markdown",
   "id": "a96231cf-956f-484d-9d67-3926350427e6",
   "metadata": {},
   "source": [
    "`-` 책의 설명 (이 설명이 꼭 파이썬에 한정되는 것은 아님. 모든 언어에 존재하는 불변형 객체에 적용가능한 설명)\n",
    "\n",
    "- 실수방지 \n",
    "- 빠르다, 다중작업에 유리하다, 여러사람과 작업하기에 유리하다, 깊은복사/얕은복사시 원하지않는 오류(side effect이라고 함)를 방지할 수 있다, 메모리관리에도 유리함... \n",
    "- 느낌: 불변형은 기능제한이 있는데 가볍고 빠른, 가변형은 기능은 풍부하지만 약간 느리고 무거운 느낌임 (불변형:라면사리, 가변형:라면) "
   ]
  },
  {
   "cell_type": "markdown",
   "id": "ed133ae5-2f29-4428-84a3-fccf77207209",
   "metadata": {},
   "source": [
    "`-` 내 설명: 소괄화 생략할 수 있어서 쓰는거야\n",
    "\n",
    "- 튜플의 장점은 소괄호의 생략에 있음 (이것은 파이썬과 줄리아만 가능)\n",
    "- 소괄호생략 + 언패킹 $\\Rightarrow$ 엄청난 가독성\n",
    "- 컴공과 사람들 의견: 튜플 + 언패킹 $\\Rightarrow$ 엄청난 가독성 $\\Rightarrow$ 충격 $\\Rightarrow$ \"파이썬 편하더라고요..\""
   ]
  },
  {
   "cell_type": "code",
   "execution_count": 40,
   "id": "9797b464-b0fa-45ae-9905-9a42e135c33f",
   "metadata": {},
   "outputs": [],
   "source": [
    "def mycal(a,b):\n",
    "    return a+b, a-b, a*b, a/b  #여러개의 값을 리턴하는듯 보임. -> 사실은 길이가 4인 튜플 1개를 리턴"
   ]
  },
  {
   "cell_type": "code",
   "execution_count": 41,
   "id": "1bba2a64-3eb8-4e11-b304-5c724c8d7df6",
   "metadata": {},
   "outputs": [
    {
     "data": {
      "text/plain": [
       "(5, -1, 6, 0.6666666666666666)"
      ]
     },
     "execution_count": 41,
     "metadata": {},
     "output_type": "execute_result"
    }
   ],
   "source": [
    "mycal(2,3)"
   ]
  },
  {
   "cell_type": "code",
   "execution_count": 42,
   "id": "196fb8c7-160f-4815-bd98-a6fd93f2dbfc",
   "metadata": {},
   "outputs": [],
   "source": [
    "_, _, mulrslt, _ = mycal(2,3) # 병렬할당 "
   ]
  },
  {
   "cell_type": "code",
   "execution_count": 43,
   "id": "723439bd-5607-4ccd-8b8a-d28975377291",
   "metadata": {},
   "outputs": [
    {
     "data": {
      "text/plain": [
       "6"
      ]
     },
     "execution_count": 43,
     "metadata": {},
     "output_type": "execute_result"
    }
   ],
   "source": [
    "mulrslt"
   ]
  },
  {
   "cell_type": "markdown",
   "id": "ef4144d3-7c4a-485f-acbf-6f24c4f9e6c0",
   "metadata": {},
   "source": [
    "`-` 의문: 왜 튜플만 괄호를 생략할 수 있지? "
   ]
  },
  {
   "cell_type": "markdown",
   "id": "c9b8142a-138a-4c2a-b8ad-52ab1d4eba5e",
   "metadata": {},
   "source": [
    "답이 없는 문제인데 답을 해보겠습니다. \n",
    "\n",
    "- 튜플을 먼저 만들고, 괄호를 생략하는 문법을 추가한것은 아닐것임\n",
    "- 원래 괄호없이 컴마만 대충찍어서 선언가능한 아주간단한 타입의 벡터형을 만들고 싶었을 것임. \n",
    "- 왜? 괄호없는 벡터를 만들고, 언패킹을 사용하면 여러가지 구문들이 엄청나게 간단해짐. \n",
    "- 컴마컴마로 선언하는 벡터는 한 두번 쓰고 버리는 경우가 많으며 대부분 이름도 필요없음 $\\to$ 원소에 접근해서 sorting하여 순서를 바꾸고 싶다던가 원소를 추가할 이유가 없음 $\\to$ 비싼 가변형으로 만들 이유가 없다는 것.. \n",
    "- 우리가 필요한 것: 데이터가 벡터의 형태로 모여있기만 하면 된다!"
   ]
  },
  {
   "cell_type": "markdown",
   "id": "b9048a53-e1e6-4a92-b6d2-344ae23d6658",
   "metadata": {},
   "source": [
    "# 잡기술 (하지만 유용해)"
   ]
  },
  {
   "cell_type": "markdown",
   "id": "7a2997f8-4b1a-4f51-a133-d13b4035b698",
   "metadata": {},
   "source": [
    "## 인덱싱고급 (스트라이딩) "
   ]
  },
  {
   "cell_type": "markdown",
   "id": "b92203de-28b4-4839-97a6-a139d2c84c03",
   "metadata": {},
   "source": [
    "`-` 스트라이딩 [start:stop:step] "
   ]
  },
  {
   "cell_type": "code",
   "execution_count": 44,
   "id": "4b691454-4305-40f4-89b8-926c18dedc0d",
   "metadata": {},
   "outputs": [
    {
     "data": {
      "text/plain": [
       "['a', 'b', 'c', 'd', 'e', 'f', 'g', 'h']"
      ]
     },
     "execution_count": 44,
     "metadata": {},
     "output_type": "execute_result"
    }
   ],
   "source": [
    "lst = list('abcdefgh')\n",
    "lst"
   ]
  },
  {
   "cell_type": "code",
   "execution_count": 45,
   "id": "3be0a7bd-9984-4692-a63f-621f877103e8",
   "metadata": {},
   "outputs": [
    {
     "data": {
      "text/plain": [
       "['a', 'c', 'e', 'g']"
      ]
     },
     "execution_count": 45,
     "metadata": {},
     "output_type": "execute_result"
    }
   ],
   "source": [
    "lst[0:8:2]"
   ]
  },
  {
   "cell_type": "markdown",
   "id": "4a3502db-39e5-4e6d-b989-16de9637d97e",
   "metadata": {},
   "source": [
    "`-` 생략"
   ]
  },
  {
   "cell_type": "code",
   "execution_count": 46,
   "id": "5b9d3f65-0876-47b6-8747-b56ed57c7054",
   "metadata": {},
   "outputs": [
    {
     "data": {
      "text/plain": [
       "['a', 'c', 'e', 'g']"
      ]
     },
     "execution_count": 46,
     "metadata": {},
     "output_type": "execute_result"
    }
   ],
   "source": [
    "lst[::2]"
   ]
  },
  {
   "cell_type": "code",
   "execution_count": 47,
   "id": "8ed7a203-c811-4207-91c2-96b8312f49f3",
   "metadata": {},
   "outputs": [
    {
     "data": {
      "text/plain": [
       "['a', 'c', 'e', 'g']"
      ]
     },
     "execution_count": 47,
     "metadata": {},
     "output_type": "execute_result"
    }
   ],
   "source": [
    "lst[0::2]"
   ]
  },
  {
   "cell_type": "code",
   "execution_count": 48,
   "id": "640dbc23-9352-4115-86b0-452dcd31e5cf",
   "metadata": {},
   "outputs": [
    {
     "data": {
      "text/plain": [
       "['a', 'c', 'e', 'g']"
      ]
     },
     "execution_count": 48,
     "metadata": {},
     "output_type": "execute_result"
    }
   ],
   "source": [
    "lst[:8:2]"
   ]
  },
  {
   "cell_type": "markdown",
   "id": "e4bd276f-96a9-4366-932c-89c56f90b2e3",
   "metadata": {},
   "source": [
    "`-` 예제: 짝수/홀수 원소 추출 "
   ]
  },
  {
   "cell_type": "code",
   "execution_count": 49,
   "id": "43ef9a14-da61-4dd1-b5fc-101fe9e3ae43",
   "metadata": {},
   "outputs": [
    {
     "data": {
      "text/plain": [
       "['a', 'b', 'c', 'd', 'e', 'f', 'g', 'h']"
      ]
     },
     "execution_count": 49,
     "metadata": {},
     "output_type": "execute_result"
    }
   ],
   "source": [
    "lst"
   ]
  },
  {
   "cell_type": "code",
   "execution_count": 50,
   "id": "e6ad7197-01c4-487e-b3d6-386bb8cf2fc6",
   "metadata": {},
   "outputs": [
    {
     "data": {
      "text/plain": [
       "['a', 'c', 'e', 'g']"
      ]
     },
     "execution_count": 50,
     "metadata": {},
     "output_type": "execute_result"
    }
   ],
   "source": [
    "lst[::2] # 1,3,5,7, ... "
   ]
  },
  {
   "cell_type": "code",
   "execution_count": 51,
   "id": "51cf0848-b565-46c4-97ef-58567f614e68",
   "metadata": {},
   "outputs": [
    {
     "data": {
      "text/plain": [
       "['b', 'd', 'f', 'h']"
      ]
     },
     "execution_count": 51,
     "metadata": {},
     "output_type": "execute_result"
    }
   ],
   "source": [
    "lst[1::2] # 2,4,6,8, ... "
   ]
  },
  {
   "cell_type": "markdown",
   "id": "cfdfd9c8-8e61-479d-be40-fbff265db3cf",
   "metadata": {},
   "source": [
    "`-` step = -1 이면? "
   ]
  },
  {
   "cell_type": "code",
   "execution_count": 52,
   "id": "e7ce1b12-fcc2-48f1-b176-73897be4facb",
   "metadata": {},
   "outputs": [
    {
     "data": {
      "text/plain": [
       "['a', 'b', 'c', 'd', 'e', 'f', 'g', 'h']"
      ]
     },
     "execution_count": 52,
     "metadata": {},
     "output_type": "execute_result"
    }
   ],
   "source": [
    "lst"
   ]
  },
  {
   "cell_type": "code",
   "execution_count": 53,
   "id": "edc520a9-a661-440a-89d5-6872c9e6393e",
   "metadata": {},
   "outputs": [
    {
     "data": {
      "text/plain": [
       "['h', 'g', 'f', 'e', 'd', 'c', 'b', 'a']"
      ]
     },
     "execution_count": 53,
     "metadata": {},
     "output_type": "execute_result"
    }
   ],
   "source": [
    "lst[::-1]"
   ]
  },
  {
   "cell_type": "markdown",
   "id": "e8fef9fd-8b13-4edc-a36c-e8d3f4acc049",
   "metadata": {},
   "source": [
    "- reverse와 같은 기능"
   ]
  },
  {
   "cell_type": "markdown",
   "id": "547e0f60-aadc-41f9-ac42-dec9f22bf805",
   "metadata": {},
   "source": [
    "(reverse)와 비교"
   ]
  },
  {
   "cell_type": "markdown",
   "id": "06195143-a511-4efd-8188-ff8f3d224539",
   "metadata": {},
   "source": [
    "관찰1: reverse 메소드는 리스트 자체를 변화시킴"
   ]
  },
  {
   "cell_type": "code",
   "execution_count": 54,
   "id": "e7d2c924-9e76-4af8-8933-12e52b447285",
   "metadata": {},
   "outputs": [
    {
     "data": {
      "text/plain": [
       "['a', 'b', 'c', 'd', 'e', 'f', 'g', 'h']"
      ]
     },
     "execution_count": 54,
     "metadata": {},
     "output_type": "execute_result"
    }
   ],
   "source": [
    "lst = list('abcdefgh')\n",
    "lst"
   ]
  },
  {
   "cell_type": "code",
   "execution_count": 55,
   "id": "2563e091-5782-4bc2-a1a3-16e37a1d5967",
   "metadata": {},
   "outputs": [
    {
     "data": {
      "text/plain": [
       "['h', 'g', 'f', 'e', 'd', 'c', 'b', 'a']"
      ]
     },
     "execution_count": 55,
     "metadata": {},
     "output_type": "execute_result"
    }
   ],
   "source": [
    "lst.reverse() #리버스는 \n",
    "lst"
   ]
  },
  {
   "cell_type": "markdown",
   "id": "c144120c-a8ed-42fc-8ca2-d600c27d53d4",
   "metadata": {},
   "source": [
    "관찰2: [::-1]는 리스트는 변화시키지 않음"
   ]
  },
  {
   "cell_type": "code",
   "execution_count": 56,
   "id": "74952954-803c-4437-bdd9-27fde74d724f",
   "metadata": {},
   "outputs": [
    {
     "data": {
      "text/plain": [
       "['a', 'b', 'c', 'd', 'e', 'f', 'g', 'h']"
      ]
     },
     "execution_count": 56,
     "metadata": {},
     "output_type": "execute_result"
    }
   ],
   "source": [
    "lst = list('abcdefgh')\n",
    "lst"
   ]
  },
  {
   "cell_type": "code",
   "execution_count": 57,
   "id": "2f7d5404-df0d-4e0d-89a2-f4dfe3fc6830",
   "metadata": {},
   "outputs": [
    {
     "data": {
      "text/plain": [
       "['h', 'g', 'f', 'e', 'd', 'c', 'b', 'a']"
      ]
     },
     "execution_count": 57,
     "metadata": {},
     "output_type": "execute_result"
    }
   ],
   "source": [
    "lst[::-1]"
   ]
  },
  {
   "cell_type": "code",
   "execution_count": 58,
   "id": "c4899a35-8b16-4f1c-9333-9f808b8f9c12",
   "metadata": {},
   "outputs": [
    {
     "data": {
      "text/plain": [
       "['a', 'b', 'c', 'd', 'e', 'f', 'g', 'h']"
      ]
     },
     "execution_count": 58,
     "metadata": {},
     "output_type": "execute_result"
    }
   ],
   "source": [
    "lst"
   ]
  },
  {
   "cell_type": "markdown",
   "id": "af45d02d-96f0-4bd9-8132-37d648c057b2",
   "metadata": {},
   "source": [
    "`-` 사실 -step은 쓰는 것이 조금 까다롭다. "
   ]
  },
  {
   "cell_type": "markdown",
   "id": "73e5de1d-ac32-4a89-930c-08ae184f2bed",
   "metadata": {},
   "source": [
    "(예제) 처음과 끝을 생략하지 않고 아래와 동일한 효과를 주는 코드를 만들어 보자. "
   ]
  },
  {
   "cell_type": "code",
   "execution_count": 59,
   "id": "2aa357c1-24a6-45b3-92e1-f98e699880ce",
   "metadata": {},
   "outputs": [
    {
     "data": {
      "text/plain": [
       "['h', 'g', 'f', 'e', 'd', 'c', 'b', 'a']"
      ]
     },
     "execution_count": 59,
     "metadata": {},
     "output_type": "execute_result"
    }
   ],
   "source": [
    "lst = list('abcdefgh')\n",
    "lst[::-1]"
   ]
  },
  {
   "cell_type": "markdown",
   "id": "0bb3a01d-056d-4a31-9665-d7462f285552",
   "metadata": {},
   "source": [
    "(풀이)"
   ]
  },
  {
   "cell_type": "markdown",
   "id": "d8684f47-3c7f-41f3-a806-e0a475541cbd",
   "metadata": {},
   "source": [
    "결국 lst[?:?:-1]의 꼴에서 적당히 ?의 값을 채우면 된다. "
   ]
  },
  {
   "cell_type": "code",
   "execution_count": 60,
   "id": "f7a592f8-a054-4c88-b7a6-feca73772f96",
   "metadata": {},
   "outputs": [
    {
     "data": {
      "text/plain": [
       "['h', 'g', 'f', 'e', 'd', 'c', 'b', 'a']"
      ]
     },
     "execution_count": 60,
     "metadata": {},
     "output_type": "execute_result"
    }
   ],
   "source": [
    "lst[-1::-1] # 일단 첫 시작은 제일 마지막 원소 "
   ]
  },
  {
   "cell_type": "code",
   "execution_count": 61,
   "id": "269698f6-c005-44e7-a8d0-4d7432f83b66",
   "metadata": {},
   "outputs": [
    {
     "data": {
      "text/plain": [
       "['h', 'g', 'f', 'e', 'd', 'c', 'b']"
      ]
     },
     "execution_count": 61,
     "metadata": {},
     "output_type": "execute_result"
    }
   ],
   "source": [
    "lst[-1:0:-1] # 앗 마지막 인덱스는 포함 안되는거였지? "
   ]
  },
  {
   "cell_type": "code",
   "execution_count": 64,
   "id": "ddca2bc2-34e4-4c2f-8fa1-0f605eb76079",
   "metadata": {},
   "outputs": [
    {
     "data": {
      "text/plain": [
       "[]"
      ]
     },
     "execution_count": 64,
     "metadata": {},
     "output_type": "execute_result"
    }
   ],
   "source": [
    "lst[-1:-1:-1] # 우짜지??"
   ]
  },
  {
   "cell_type": "markdown",
   "id": "b865d206-e26e-4e82-8ebe-327c5dc98959",
   "metadata": {},
   "source": [
    "잠깐 인덱스를 생각해보자. "
   ]
  },
  {
   "cell_type": "markdown",
   "id": "e57557ca-e99d-4c65-9500-e1dfe5d55033",
   "metadata": {},
   "source": [
    "|a|b|c|d|e|f|g|h|\n",
    "|:-:|:-:|:-:|:-:|:-:|:-:|:-:|:-:|\n",
    "|0|1|2|3|4|5|6|7|\n",
    "|**-8**|-7|-6|-5|-4|-3|-2|**-1**|"
   ]
  },
  {
   "cell_type": "code",
   "execution_count": 65,
   "id": "43b5dbc5-a677-4d4d-aa6f-df5677c80fbc",
   "metadata": {},
   "outputs": [
    {
     "data": {
      "text/plain": [
       "['h', 'g', 'f', 'e', 'd', 'c', 'b', 'a']"
      ]
     },
     "execution_count": 65,
     "metadata": {},
     "output_type": "execute_result"
    }
   ],
   "source": [
    "lst[-1:-9:-1] # 아.."
   ]
  },
  {
   "cell_type": "markdown",
   "id": "58f0bd7d-296a-487f-9da5-95c93e023a2e",
   "metadata": {},
   "source": [
    "결론: -step을 자주 쓰진 말자?"
   ]
  },
  {
   "cell_type": "markdown",
   "id": "1ffbf709-9fd1-4412-b838-5da86bedc547",
   "metadata": {},
   "source": [
    "## 컴프리헨션 고급 (if문이 포함된 컴프리헨션) "
   ]
  },
  {
   "cell_type": "markdown",
   "id": "91d48d34-9ba9-429a-a69b-dc5af1108838",
   "metadata": {},
   "source": [
    "`-` 예제: 제곱수중에서 12로 나누어 떨어지는 수만 원소로 가지는 리스트를 만들고 싶다. \n",
    "- 제곱수: 1,4,9,16,25,36, ... \n",
    "- 12로 나누어 떨어지는 수: 36, ... "
   ]
  },
  {
   "cell_type": "markdown",
   "id": "61e8d542-7385-40ff-8991-c17a778f235d",
   "metadata": {},
   "source": [
    "(예비학습)"
   ]
  },
  {
   "cell_type": "code",
   "execution_count": 69,
   "id": "6b55a283-6060-44c7-af2c-78f3f5c447f2",
   "metadata": {},
   "outputs": [
    {
     "data": {
      "text/plain": [
       "0"
      ]
     },
     "execution_count": 69,
     "metadata": {},
     "output_type": "execute_result"
    }
   ],
   "source": [
    "12 % 4 # %는 나머지를 계산하는 연산자, 12를 4로 나누면 나머지가 0"
   ]
  },
  {
   "cell_type": "code",
   "execution_count": 70,
   "id": "b4f466ad-4b64-4135-9396-3ad194904420",
   "metadata": {},
   "outputs": [
    {
     "data": {
      "text/plain": [
       "2"
      ]
     },
     "execution_count": 70,
     "metadata": {},
     "output_type": "execute_result"
    }
   ],
   "source": [
    "12 % 5 # %는 나머지를 계산하는 연산자, 12를 5로 나누면 나머지가 2"
   ]
  },
  {
   "cell_type": "markdown",
   "id": "3564cc00-b7e9-4d00-a7fc-ae09c98f7b55",
   "metadata": {},
   "source": [
    "(풀이1)"
   ]
  },
  {
   "cell_type": "code",
   "execution_count": 74,
   "id": "ffb6a36a-0b93-4cba-a98b-d3e479ad1834",
   "metadata": {},
   "outputs": [],
   "source": [
    "lst = [] \n",
    "for i in range(1,101): \n",
    "    if (i**2 % 12 == 0): \n",
    "        lst.append(i**2)"
   ]
  },
  {
   "cell_type": "code",
   "execution_count": 75,
   "id": "267da77e-06ef-440a-85f4-f71eea15c1e9",
   "metadata": {},
   "outputs": [
    {
     "data": {
      "text/plain": [
       "[36,\n",
       " 144,\n",
       " 324,\n",
       " 576,\n",
       " 900,\n",
       " 1296,\n",
       " 1764,\n",
       " 2304,\n",
       " 2916,\n",
       " 3600,\n",
       " 4356,\n",
       " 5184,\n",
       " 6084,\n",
       " 7056,\n",
       " 8100,\n",
       " 9216]"
      ]
     },
     "execution_count": 75,
     "metadata": {},
     "output_type": "execute_result"
    }
   ],
   "source": [
    "lst"
   ]
  },
  {
   "cell_type": "markdown",
   "id": "7f8b5335-b988-4182-bffa-d909c2331165",
   "metadata": {},
   "source": [
    "(풀이2)"
   ]
  },
  {
   "cell_type": "code",
   "execution_count": 76,
   "id": "d3cf722c-fde5-414b-ac2f-cdeee8eb1bb1",
   "metadata": {},
   "outputs": [
    {
     "data": {
      "text/plain": [
       "[36,\n",
       " 144,\n",
       " 324,\n",
       " 576,\n",
       " 900,\n",
       " 1296,\n",
       " 1764,\n",
       " 2304,\n",
       " 2916,\n",
       " 3600,\n",
       " 4356,\n",
       " 5184,\n",
       " 6084,\n",
       " 7056,\n",
       " 8100,\n",
       " 9216]"
      ]
     },
     "execution_count": 76,
     "metadata": {},
     "output_type": "execute_result"
    }
   ],
   "source": [
    "[i**2 for i in range(1,101) if (i**2 % 12 == 0)]"
   ]
  },
  {
   "cell_type": "markdown",
   "id": "d1b8f773-b7d5-4abc-8a28-6966142a8aa4",
   "metadata": {},
   "source": [
    "## 함수고급 (조건부리턴)"
   ]
  },
  {
   "cell_type": "markdown",
   "id": "a45e562f-33ba-4e4d-bd59-ca11a786912e",
   "metadata": {},
   "source": [
    "`-` 홀수/짝수를 판별하는 함수 만들기 1"
   ]
  },
  {
   "cell_type": "code",
   "execution_count": 35,
   "id": "d4337c2f-b6ba-4928-a039-0edc70382438",
   "metadata": {},
   "outputs": [],
   "source": [
    "def test(a):\n",
    "    if a % 2 ==0: \n",
    "        return 'even'\n",
    "    else:\n",
    "        return 'odd'"
   ]
  },
  {
   "cell_type": "code",
   "execution_count": 36,
   "id": "1132bcca-fca3-4578-a351-e0e5b1678f14",
   "metadata": {},
   "outputs": [
    {
     "data": {
      "text/plain": [
       "'odd'"
      ]
     },
     "execution_count": 36,
     "metadata": {},
     "output_type": "execute_result"
    }
   ],
   "source": [
    "test(1)"
   ]
  },
  {
   "cell_type": "code",
   "execution_count": 37,
   "id": "733db52e-8e73-4fe2-bc99-866c6f9b0438",
   "metadata": {},
   "outputs": [
    {
     "data": {
      "text/plain": [
       "'even'"
      ]
     },
     "execution_count": 37,
     "metadata": {},
     "output_type": "execute_result"
    }
   ],
   "source": [
    "test(2)"
   ]
  },
  {
   "cell_type": "code",
   "execution_count": 38,
   "id": "af6ff3c7-6067-4277-8981-bc67a298b3fe",
   "metadata": {},
   "outputs": [
    {
     "data": {
      "text/plain": [
       "'odd'"
      ]
     },
     "execution_count": 38,
     "metadata": {},
     "output_type": "execute_result"
    }
   ],
   "source": [
    "test(3)"
   ]
  },
  {
   "cell_type": "code",
   "execution_count": 39,
   "id": "4c12c390-3762-4370-a9cb-16c437b56418",
   "metadata": {},
   "outputs": [
    {
     "data": {
      "text/plain": [
       "'even'"
      ]
     },
     "execution_count": 39,
     "metadata": {},
     "output_type": "execute_result"
    }
   ],
   "source": [
    "test(4)"
   ]
  },
  {
   "cell_type": "code",
   "execution_count": 40,
   "id": "2b699df4-5e54-4e50-8f12-cc6a48f06d30",
   "metadata": {},
   "outputs": [
    {
     "data": {
      "text/plain": [
       "['odd', 'even', 'odd', 'even', 'odd', 'even', 'odd', 'even', 'odd', 'even']"
      ]
     },
     "execution_count": 40,
     "metadata": {},
     "output_type": "execute_result"
    }
   ],
   "source": [
    "[test(a) for a in range(1,11)]"
   ]
  },
  {
   "cell_type": "markdown",
   "id": "3e935d89-9637-4d33-95ad-d7242b987b5f",
   "metadata": {},
   "source": [
    "`-` 홀수/짝수를 판별하는 함수 만들기 2"
   ]
  },
  {
   "cell_type": "code",
   "execution_count": 41,
   "id": "e9679f5c-a0dd-4a2d-b11f-b80900d3f6df",
   "metadata": {},
   "outputs": [],
   "source": [
    "def test(a):\n",
    "    return 'even' if a%2 ==0 else 'odd'"
   ]
  },
  {
   "cell_type": "code",
   "execution_count": 42,
   "id": "cfd25ddf-ebf7-47af-bc2f-ea1a11a7b7e2",
   "metadata": {},
   "outputs": [
    {
     "data": {
      "text/plain": [
       "'odd'"
      ]
     },
     "execution_count": 42,
     "metadata": {},
     "output_type": "execute_result"
    }
   ],
   "source": [
    "test(3)"
   ]
  },
  {
   "cell_type": "code",
   "execution_count": 43,
   "id": "e8d7ace2-a4d6-4fcc-95bd-2a2df30a678f",
   "metadata": {},
   "outputs": [
    {
     "data": {
      "text/plain": [
       "['odd', 'even', 'odd', 'even', 'odd', 'even', 'odd', 'even', 'odd', 'even']"
      ]
     },
     "execution_count": 43,
     "metadata": {},
     "output_type": "execute_result"
    }
   ],
   "source": [
    "[test(a) for a in range(1,11)]"
   ]
  },
  {
   "cell_type": "markdown",
   "id": "3dd54d95-6c38-4ad6-83b3-87d4f745acd6",
   "metadata": {},
   "source": [
    "## len함수 "
   ]
  },
  {
   "cell_type": "markdown",
   "id": "ddf71c8c-e332-4607-9b7f-2ae121656d2a",
   "metadata": {},
   "source": [
    "`-` 0차원 자료형은 len함수가 동작하지 않음 "
   ]
  },
  {
   "cell_type": "code",
   "execution_count": 44,
   "id": "657e0d1a-53df-4acf-9572-cb7ce2f5f4c5",
   "metadata": {},
   "outputs": [
    {
     "ename": "TypeError",
     "evalue": "object of type 'int' has no len()",
     "output_type": "error",
     "traceback": [
      "\u001b[0;31m---------------------------------------------------------------------------\u001b[0m",
      "\u001b[0;31mTypeError\u001b[0m                                 Traceback (most recent call last)",
      "Input \u001b[0;32mIn [44]\u001b[0m, in \u001b[0;36m<cell line: 2>\u001b[0;34m()\u001b[0m\n\u001b[1;32m      1\u001b[0m a\u001b[38;5;241m=\u001b[39m\u001b[38;5;241m1\u001b[39m \n\u001b[0;32m----> 2\u001b[0m \u001b[38;5;28;43mlen\u001b[39;49m\u001b[43m(\u001b[49m\u001b[43ma\u001b[49m\u001b[43m)\u001b[49m\n",
      "\u001b[0;31mTypeError\u001b[0m: object of type 'int' has no len()"
     ]
    }
   ],
   "source": [
    "a=1 \n",
    "len(a)"
   ]
  },
  {
   "cell_type": "code",
   "execution_count": 45,
   "id": "3e6b6c1b-4751-4494-9595-8d6236899dc0",
   "metadata": {},
   "outputs": [
    {
     "ename": "TypeError",
     "evalue": "object of type 'bool' has no len()",
     "output_type": "error",
     "traceback": [
      "\u001b[0;31m---------------------------------------------------------------------------\u001b[0m",
      "\u001b[0;31mTypeError\u001b[0m                                 Traceback (most recent call last)",
      "Input \u001b[0;32mIn [45]\u001b[0m, in \u001b[0;36m<cell line: 2>\u001b[0;34m()\u001b[0m\n\u001b[1;32m      1\u001b[0m a\u001b[38;5;241m=\u001b[39m\u001b[38;5;28;01mTrue\u001b[39;00m\n\u001b[0;32m----> 2\u001b[0m \u001b[38;5;28;43mlen\u001b[39;49m\u001b[43m(\u001b[49m\u001b[43ma\u001b[49m\u001b[43m)\u001b[49m\n",
      "\u001b[0;31mTypeError\u001b[0m: object of type 'bool' has no len()"
     ]
    }
   ],
   "source": [
    "a=True\n",
    "len(a)"
   ]
  },
  {
   "cell_type": "code",
   "execution_count": 46,
   "id": "4323faf8-5276-4961-85bf-f4e9f5331031",
   "metadata": {},
   "outputs": [
    {
     "ename": "TypeError",
     "evalue": "object of type 'float' has no len()",
     "output_type": "error",
     "traceback": [
      "\u001b[0;31m---------------------------------------------------------------------------\u001b[0m",
      "\u001b[0;31mTypeError\u001b[0m                                 Traceback (most recent call last)",
      "Input \u001b[0;32mIn [46]\u001b[0m, in \u001b[0;36m<cell line: 2>\u001b[0;34m()\u001b[0m\n\u001b[1;32m      1\u001b[0m a\u001b[38;5;241m=\u001b[39m\u001b[38;5;241m3.14\u001b[39m\n\u001b[0;32m----> 2\u001b[0m \u001b[38;5;28;43mlen\u001b[39;49m\u001b[43m(\u001b[49m\u001b[43ma\u001b[49m\u001b[43m)\u001b[49m\n",
      "\u001b[0;31mTypeError\u001b[0m: object of type 'float' has no len()"
     ]
    }
   ],
   "source": [
    "a=3.14\n",
    "len(a)"
   ]
  },
  {
   "cell_type": "markdown",
   "id": "377227a9-9209-4609-9733-3fb79e2496e1",
   "metadata": {},
   "source": [
    "> note: 이것이 어떠한 수학적인 의미를 가지거나 0차원의 본질적진리를 뜻하는 것은 안미. R에서는 1,3.14,TRUE의 길이가 1로 존재함. "
   ]
  },
  {
   "cell_type": "markdown",
   "id": "fbb8e37f-3731-46d6-851f-ac047512f550",
   "metadata": {},
   "source": [
    "`-` 1차원 자료형은 len함수가 동작"
   ]
  },
  {
   "cell_type": "code",
   "execution_count": 47,
   "id": "08c59631-ff9c-48d6-9703-68e9e90b5b4e",
   "metadata": {},
   "outputs": [
    {
     "data": {
      "text/plain": [
       "6"
      ]
     },
     "execution_count": 47,
     "metadata": {},
     "output_type": "execute_result"
    }
   ],
   "source": [
    "a='guebin'\n",
    "len(a)"
   ]
  },
  {
   "cell_type": "code",
   "execution_count": 48,
   "id": "3b12c6cc-4c9c-4192-875c-ee95efca2ac0",
   "metadata": {},
   "outputs": [
    {
     "data": {
      "text/plain": [
       "6"
      ]
     },
     "execution_count": 48,
     "metadata": {},
     "output_type": "execute_result"
    }
   ],
   "source": [
    "a=[1,2,3,4,5,6]\n",
    "len(a)"
   ]
  },
  {
   "cell_type": "code",
   "execution_count": 49,
   "id": "08df0a7b-ea22-4897-b75b-86b3170d1927",
   "metadata": {},
   "outputs": [
    {
     "data": {
      "text/plain": [
       "6"
      ]
     },
     "execution_count": 49,
     "metadata": {},
     "output_type": "execute_result"
    }
   ],
   "source": [
    "a=1,2,3,4,5,6 \n",
    "len(a)"
   ]
  },
  {
   "cell_type": "code",
   "execution_count": 50,
   "id": "a8ffd640-82e4-46fb-a794-278bb1bd0833",
   "metadata": {},
   "outputs": [
    {
     "data": {
      "text/plain": [
       "10"
      ]
     },
     "execution_count": 50,
     "metadata": {},
     "output_type": "execute_result"
    }
   ],
   "source": [
    "a=range(10)\n",
    "len(a)"
   ]
  },
  {
   "cell_type": "markdown",
   "id": "e9784c13-6bc3-4ca6-a383-29c246219e44",
   "metadata": {},
   "source": [
    "`-` 길이가 1인 1차원 자료형과 0차원 자료형은 다른것임 "
   ]
  },
  {
   "cell_type": "code",
   "execution_count": 51,
   "id": "43971a3d-240e-4750-81fa-0fac01d2b55b",
   "metadata": {},
   "outputs": [
    {
     "data": {
      "text/plain": [
       "1"
      ]
     },
     "execution_count": 51,
     "metadata": {},
     "output_type": "execute_result"
    }
   ],
   "source": [
    "a='g'\n",
    "len(a)"
   ]
  },
  {
   "cell_type": "code",
   "execution_count": 52,
   "id": "100d581e-69ee-44f0-bbdb-ce5a58fcc4f0",
   "metadata": {},
   "outputs": [
    {
     "data": {
      "text/plain": [
       "1"
      ]
     },
     "execution_count": 52,
     "metadata": {},
     "output_type": "execute_result"
    }
   ],
   "source": [
    "a=[1] \n",
    "len(a)"
   ]
  },
  {
   "cell_type": "code",
   "execution_count": 53,
   "id": "292810c7-31f8-40aa-812f-39aa683951be",
   "metadata": {},
   "outputs": [
    {
     "data": {
      "text/plain": [
       "1"
      ]
     },
     "execution_count": 53,
     "metadata": {},
     "output_type": "execute_result"
    }
   ],
   "source": [
    "a=(1,)\n",
    "len(a)"
   ]
  },
  {
   "cell_type": "code",
   "execution_count": 54,
   "id": "ca1e765a-9482-49cb-9d30-0797e1fa9b74",
   "metadata": {},
   "outputs": [
    {
     "data": {
      "text/plain": [
       "1"
      ]
     },
     "execution_count": 54,
     "metadata": {},
     "output_type": "execute_result"
    }
   ],
   "source": [
    "a=range(1)\n",
    "len(a)"
   ]
  },
  {
   "cell_type": "markdown",
   "id": "646eee99-df55-4674-84c0-c02545a137ca",
   "metadata": {},
   "source": [
    "`-` 길이가 0인 1차원 자료형도 존재함 "
   ]
  },
  {
   "cell_type": "code",
   "execution_count": 55,
   "id": "cf75e8b5-86aa-4657-af0d-648d6a17726d",
   "metadata": {},
   "outputs": [
    {
     "data": {
      "text/plain": [
       "0"
      ]
     },
     "execution_count": 55,
     "metadata": {},
     "output_type": "execute_result"
    }
   ],
   "source": [
    "a=''\n",
    "len(a)"
   ]
  },
  {
   "cell_type": "code",
   "execution_count": 56,
   "id": "b0c838c0-869d-4e03-b700-247afa84a33b",
   "metadata": {},
   "outputs": [
    {
     "data": {
      "text/plain": [
       "0"
      ]
     },
     "execution_count": 56,
     "metadata": {},
     "output_type": "execute_result"
    }
   ],
   "source": [
    "a=[]\n",
    "len(a)"
   ]
  },
  {
   "cell_type": "code",
   "execution_count": 57,
   "id": "ad083e75-4d3a-4f26-b678-ca2b3b873f7c",
   "metadata": {},
   "outputs": [
    {
     "data": {
      "text/plain": [
       "0"
      ]
     },
     "execution_count": 57,
     "metadata": {},
     "output_type": "execute_result"
    }
   ],
   "source": [
    "a=()\n",
    "len(a)"
   ]
  },
  {
   "cell_type": "code",
   "execution_count": 58,
   "id": "8cb8c518-3191-47db-a46a-a57f56a2f355",
   "metadata": {},
   "outputs": [
    {
     "data": {
      "text/plain": [
       "0"
      ]
     },
     "execution_count": 58,
     "metadata": {},
     "output_type": "execute_result"
    }
   ],
   "source": [
    "a=range(0)\n",
    "len(a)"
   ]
  },
  {
   "cell_type": "markdown",
   "id": "54df562f-815d-49cd-94eb-3eda61427831",
   "metadata": {
    "tags": []
   },
   "source": [
    "# 딕셔너리 "
   ]
  },
  {
   "cell_type": "markdown",
   "id": "56aee54a-32e0-4284-928d-605ddc12f84b",
   "metadata": {},
   "source": [
    "## intro: str, list, tuple 정리"
   ]
  },
  {
   "cell_type": "markdown",
   "id": "8b582b4c-0a35-470c-a7a6-5fa28faeddba",
   "metadata": {},
   "source": [
    "`-` str, list, tuple은 모두 시퀀스형이라는 공통점이 있다. $\\to$ 원소의 위치번호로 인덱싱이 가능 "
   ]
  },
  {
   "cell_type": "code",
   "execution_count": 59,
   "id": "60a96095-94b7-4423-86be-c0a3195dc989",
   "metadata": {},
   "outputs": [],
   "source": [
    "lst = [1,2,3,4]"
   ]
  },
  {
   "cell_type": "code",
   "execution_count": 60,
   "id": "219d6ec6-8a42-4d03-bec4-24c95604e224",
   "metadata": {},
   "outputs": [
    {
     "data": {
      "text/plain": [
       "1"
      ]
     },
     "execution_count": 60,
     "metadata": {},
     "output_type": "execute_result"
    }
   ],
   "source": [
    "lst[0] # 위치번호=0"
   ]
  },
  {
   "cell_type": "code",
   "execution_count": 61,
   "id": "9b2148fb-37d6-4940-baab-b9d49fb29af1",
   "metadata": {},
   "outputs": [
    {
     "data": {
      "text/plain": [
       "4"
      ]
     },
     "execution_count": 61,
     "metadata": {},
     "output_type": "execute_result"
    }
   ],
   "source": [
    "lst[-1] # 위치번호=-1"
   ]
  },
  {
   "cell_type": "markdown",
   "id": "9847c3b0-40d4-45a7-8dd9-1105545ca8d2",
   "metadata": {},
   "source": [
    "`-` str, list, tuple은 차이점도 존재함. 잠깐 정리해보자. "
   ]
  },
  {
   "cell_type": "markdown",
   "id": "e2feb7d7-c830-435a-bb24-448667aed5ff",
   "metadata": {},
   "source": [
    "***시퀀스형의 카테고리***\n",
    "\n",
    "- 컨테니어형: list, tuple \n",
    "- 균일형: str \n",
    "- 가변형: list \n",
    "- 불변형: tuple, str "
   ]
  },
  {
   "cell_type": "markdown",
   "id": "e004a95f-68fa-4030-9648-a9df7b69b45e",
   "metadata": {},
   "source": [
    "***표로 정리하면***"
   ]
  },
  {
   "cell_type": "markdown",
   "id": "df87802f-b61b-462d-ba60-5db88812bbdd",
   "metadata": {},
   "source": [
    "||컨테니어형|균일형|\n",
    "|:-:|:-:|:-:|\n",
    "|가변형|list|.|\n",
    "|불변형|tuple|str|"
   ]
  },
  {
   "cell_type": "markdown",
   "id": "73182807-d6cb-443d-8be5-9bf81379ac66",
   "metadata": {},
   "source": [
    "`-` 시퀀스형이 아닌 1차원 자료형도 있을까? 원소의 위치번호로 인덱싱이 불가능한 자료형 "
   ]
  },
  {
   "cell_type": "markdown",
   "id": "f2ad4704-fb0a-4857-9e24-40a948f15b5e",
   "metadata": {},
   "source": [
    "`-` 왜 이런게 필요할까? \n",
    "- 벡터에서 원소를 뽑는것은 정보의 모임에서 정보를 검색하는 것과 같다. \n",
    "- 정보를 `순서`대로 나열한뒤에 그 `순서`를 이용하여 검색하는 방법은 유용하다. \n",
    "- 하지만 경우에 따라서는 `키워드`를 기억해서 그 `키워드`를 바탕으로 정보에 접근하는 방법이 유용할 수 있다.  "
   ]
  },
  {
   "cell_type": "markdown",
   "id": "cf14d1d0-711b-43b2-8fca-b659576b3cfa",
   "metadata": {},
   "source": [
    "***카카오톡 대화내용검색*** "
   ]
  },
  {
   "cell_type": "markdown",
   "id": "1206c39b-f380-4729-95d8-22659b551371",
   "metadata": {},
   "source": [
    "(상황1) `오늘아침`에 와이프가 `뭔가`를 카톡으로 부탁했었음. 그런데 그 `뭔가`가 기억안남. "
   ]
  },
  {
   "cell_type": "markdown",
   "id": "1446aa8a-7f34-4438-9e99-a85e88a3a492",
   "metadata": {},
   "source": [
    "(상황2) `개강전에` 동료교수와 함께 `저녁약속`을 카톡으로 잡았었음. 그런데 그게 언제인지 기억안남. "
   ]
  },
  {
   "cell_type": "markdown",
   "id": "26e3a94a-b757-4de9-a9ee-439290a0a618",
   "metadata": {},
   "source": [
    "(상황3) `오늘아침` 동료교수와 함께 `점심약속`을 카톡으로 잡았었음. 그런데 그 장소가 기억나지 않음. "
   ]
  },
  {
   "cell_type": "markdown",
   "id": "24cd1ad5-b6ea-45ae-81a5-dd9ffee0f232",
   "metadata": {},
   "source": [
    "`-` 순서대로 정리된 자료를 검색할때는 시퀀스형이 유리하다. 그런데 키워드로 검색하고 싶을 경우는 딕셔너리 타입이 유리하다. "
   ]
  },
  {
   "cell_type": "markdown",
   "id": "aa22c1ea-75f6-40fd-ad29-1fab703ce7c2",
   "metadata": {},
   "source": [
    "## 선언 "
   ]
  },
  {
   "cell_type": "markdown",
   "id": "f0a3598c-4d47-4da4-8dff-e40f0e114755",
   "metadata": {},
   "source": [
    "`-` 방법1"
   ]
  },
  {
   "cell_type": "code",
   "execution_count": 62,
   "id": "6c19c996-3216-47fc-a981-c05c8937a719",
   "metadata": {},
   "outputs": [
    {
     "data": {
      "text/plain": [
       "{'guebin': 49, 'iu': 80}"
      ]
     },
     "execution_count": 62,
     "metadata": {},
     "output_type": "execute_result"
    }
   ],
   "source": [
    "score={'guebin':49, 'iu':80}\n",
    "score"
   ]
  },
  {
   "cell_type": "code",
   "execution_count": 63,
   "id": "cb099442-1237-4682-a82a-9b63e0b89dc3",
   "metadata": {},
   "outputs": [
    {
     "data": {
      "text/plain": [
       "dict"
      ]
     },
     "execution_count": 63,
     "metadata": {},
     "output_type": "execute_result"
    }
   ],
   "source": [
    "type(score)"
   ]
  },
  {
   "cell_type": "markdown",
   "id": "e1ff7d83-8971-4147-99a1-e92ae9be06a3",
   "metadata": {},
   "source": [
    "`-` 방법2"
   ]
  },
  {
   "cell_type": "code",
   "execution_count": 64,
   "id": "d1749fc2-81cb-49dc-92d9-f57fa9a27974",
   "metadata": {},
   "outputs": [
    {
     "data": {
      "text/plain": [
       "{'guebin': 49, 'iu': 80}"
      ]
     },
     "execution_count": 64,
     "metadata": {},
     "output_type": "execute_result"
    }
   ],
   "source": [
    "score=dict(guebin=49, iu=80)\n",
    "score"
   ]
  },
  {
   "cell_type": "code",
   "execution_count": 65,
   "id": "a35b5d15-0443-4ce9-a092-0df8db30eb66",
   "metadata": {},
   "outputs": [
    {
     "data": {
      "text/plain": [
       "dict"
      ]
     },
     "execution_count": 65,
     "metadata": {},
     "output_type": "execute_result"
    }
   ],
   "source": [
    "type(score)"
   ]
  },
  {
   "cell_type": "markdown",
   "id": "b78cca88-c45d-4dec-a980-c2f2b05bacde",
   "metadata": {},
   "source": [
    "`-` 방법3 "
   ]
  },
  {
   "cell_type": "code",
   "execution_count": 66,
   "id": "318fdf3a-de4e-4614-9284-ab37cdd7ba78",
   "metadata": {},
   "outputs": [
    {
     "data": {
      "text/plain": [
       "[['guebin', 49], ['iu', 80]]"
      ]
     },
     "execution_count": 66,
     "metadata": {},
     "output_type": "execute_result"
    }
   ],
   "source": [
    "_lst = [['guebin',49],['iu',80]]\n",
    "_lst "
   ]
  },
  {
   "cell_type": "code",
   "execution_count": 67,
   "id": "4860dd04-ad30-4949-ba37-6012ce2a3bc3",
   "metadata": {},
   "outputs": [
    {
     "data": {
      "text/plain": [
       "{'guebin': 49, 'iu': 80}"
      ]
     },
     "execution_count": 67,
     "metadata": {},
     "output_type": "execute_result"
    }
   ],
   "source": [
    "dict(_lst)"
   ]
  },
  {
   "cell_type": "markdown",
   "id": "4126942f-0131-45f3-b8df-676e856867be",
   "metadata": {},
   "source": [
    "`-` 방법4"
   ]
  },
  {
   "cell_type": "code",
   "execution_count": 68,
   "id": "d9d5429f-b210-46fa-8d9c-e89bd7fd624b",
   "metadata": {},
   "outputs": [
    {
     "data": {
      "text/plain": [
       "(('guebin', 49), ('iu', 80))"
      ]
     },
     "execution_count": 68,
     "metadata": {},
     "output_type": "execute_result"
    }
   ],
   "source": [
    "_tpl = ('guebin',49), ('iu',80)\n",
    "_tpl"
   ]
  },
  {
   "cell_type": "code",
   "execution_count": 69,
   "id": "bcd09ed9-0c3f-4afa-83f8-2ebec5f28c00",
   "metadata": {},
   "outputs": [
    {
     "data": {
      "text/plain": [
       "{'guebin': 49, 'iu': 80}"
      ]
     },
     "execution_count": 69,
     "metadata": {},
     "output_type": "execute_result"
    }
   ],
   "source": [
    "dict(_tpl)"
   ]
  },
  {
   "cell_type": "markdown",
   "id": "be121b7b-bd19-4137-b7f0-364788840f92",
   "metadata": {},
   "source": [
    "## 원소추출 "
   ]
  },
  {
   "cell_type": "code",
   "execution_count": 70,
   "id": "8f15f6a6-7e42-487d-9920-fb565232eb97",
   "metadata": {},
   "outputs": [
    {
     "data": {
      "text/plain": [
       "{'guebin': 49, 'iu': 80}"
      ]
     },
     "execution_count": 70,
     "metadata": {},
     "output_type": "execute_result"
    }
   ],
   "source": [
    "score = {'guebin':49, 'iu':80}\n",
    "score"
   ]
  },
  {
   "cell_type": "markdown",
   "id": "d7570845-3a39-4bf4-86c0-ef26be1212cd",
   "metadata": {},
   "source": [
    "guebin의 점수를 추출하고 싶다면? "
   ]
  },
  {
   "cell_type": "code",
   "execution_count": 71,
   "id": "8ebe2eaa-13ff-4814-8973-bc3c92257bc0",
   "metadata": {},
   "outputs": [
    {
     "ename": "KeyError",
     "evalue": "0",
     "output_type": "error",
     "traceback": [
      "\u001b[0;31m---------------------------------------------------------------------------\u001b[0m",
      "\u001b[0;31mKeyError\u001b[0m                                  Traceback (most recent call last)",
      "Input \u001b[0;32mIn [71]\u001b[0m, in \u001b[0;36m<cell line: 1>\u001b[0;34m()\u001b[0m\n\u001b[0;32m----> 1\u001b[0m \u001b[43mscore\u001b[49m\u001b[43m[\u001b[49m\u001b[38;5;241;43m0\u001b[39;49m\u001b[43m]\u001b[49m\n",
      "\u001b[0;31mKeyError\u001b[0m: 0"
     ]
    }
   ],
   "source": [
    "score[0] # 이렇게 뽑는것이 아니고! "
   ]
  },
  {
   "cell_type": "code",
   "execution_count": 72,
   "id": "48eb5ce2-074e-4164-8ffd-2f7dbae77628",
   "metadata": {},
   "outputs": [
    {
     "data": {
      "text/plain": [
       "49"
      ]
     },
     "execution_count": 72,
     "metadata": {},
     "output_type": "execute_result"
    }
   ],
   "source": [
    "score['guebin'] "
   ]
  },
  {
   "cell_type": "markdown",
   "id": "ddde0769-653b-4642-8a6b-9f6b9aa442d3",
   "metadata": {},
   "source": [
    "`-` 리스트로 저장했다면? "
   ]
  },
  {
   "cell_type": "code",
   "execution_count": 73,
   "id": "93dfd5da-02e5-4c52-88a5-948e7a7cf8b0",
   "metadata": {},
   "outputs": [
    {
     "data": {
      "text/plain": [
       "[['guebin', 49], ['iu', 80]]"
      ]
     },
     "execution_count": 73,
     "metadata": {},
     "output_type": "execute_result"
    }
   ],
   "source": [
    "score=[['guebin',49],['iu',80]]\n",
    "score"
   ]
  },
  {
   "cell_type": "markdown",
   "id": "0569b1dc-145f-43be-9491-5bc8933b34f5",
   "metadata": {},
   "source": [
    "guebin의 점수를 추출하고 싶다면? "
   ]
  },
  {
   "cell_type": "markdown",
   "id": "b0f9d905-74ce-44d2-9237-c9bceaf9ec49",
   "metadata": {},
   "source": [
    "(방법1)"
   ]
  },
  {
   "cell_type": "code",
   "execution_count": 74,
   "id": "b6c35939-205e-4a58-a9e4-2b80719af896",
   "metadata": {},
   "outputs": [
    {
     "data": {
      "text/plain": [
       "49"
      ]
     },
     "execution_count": 74,
     "metadata": {},
     "output_type": "execute_result"
    }
   ],
   "source": [
    "score[0][1] # guebin의 점수를 출력하란 의미"
   ]
  },
  {
   "cell_type": "markdown",
   "id": "a025aea6-8fbd-465b-9e31-b5ccdfd5bea4",
   "metadata": {},
   "source": [
    "(방법2)"
   ]
  },
  {
   "cell_type": "code",
   "execution_count": 75,
   "id": "9e69f5c3-e5f6-45a6-ad3a-5fd4118852ac",
   "metadata": {},
   "outputs": [
    {
     "data": {
      "text/plain": [
       "['guebin', 'iu']"
      ]
     },
     "execution_count": 75,
     "metadata": {},
     "output_type": "execute_result"
    }
   ],
   "source": [
    "_keys = [score[i][0] for i in range(len(score))] # 리스트컴프리헨션\n",
    "_keys"
   ]
  },
  {
   "cell_type": "code",
   "execution_count": 76,
   "id": "52a95c47-eb52-4b21-8a66-06f6794b325d",
   "metadata": {},
   "outputs": [
    {
     "data": {
      "text/plain": [
       "[49]"
      ]
     },
     "execution_count": 76,
     "metadata": {},
     "output_type": "execute_result"
    }
   ],
   "source": [
    "[score[i][1] for i in range(len(score)) if score[i][0] =='guebin' ] "
   ]
  },
  {
   "cell_type": "markdown",
   "id": "ff048753-7cb7-476b-97a8-2621eda77b6e",
   "metadata": {},
   "source": [
    "- 어지럽죠? "
   ]
  },
  {
   "cell_type": "markdown",
   "id": "0cdd8d84-933f-4a9a-82c7-1d0716fcb0b7",
   "metadata": {},
   "source": [
    "## 원소추가, 변경, 삭제"
   ]
  },
  {
   "cell_type": "code",
   "execution_count": 77,
   "id": "2dca3e73-5bd7-48d4-a2b0-f55e8c10a57b",
   "metadata": {},
   "outputs": [
    {
     "data": {
      "text/plain": [
       "{'guebin': 49, 'iu': 80}"
      ]
     },
     "execution_count": 77,
     "metadata": {},
     "output_type": "execute_result"
    }
   ],
   "source": [
    "score={'guebin':49, 'iu':80}\n",
    "score"
   ]
  },
  {
   "cell_type": "markdown",
   "id": "823bee2a-97d4-4eeb-89f8-dfdb205af61f",
   "metadata": {},
   "source": [
    "`-` 원소에 접근 "
   ]
  },
  {
   "cell_type": "code",
   "execution_count": 78,
   "id": "155fe266-61cf-4704-9eae-13d5f0fdd787",
   "metadata": {},
   "outputs": [
    {
     "data": {
      "text/plain": [
       "49"
      ]
     },
     "execution_count": 78,
     "metadata": {},
     "output_type": "execute_result"
    }
   ],
   "source": [
    "score['guebin']"
   ]
  },
  {
   "cell_type": "markdown",
   "id": "64025561-fe3d-4541-8b64-30151f6c73e3",
   "metadata": {},
   "source": [
    "`-` 추가"
   ]
  },
  {
   "cell_type": "code",
   "execution_count": 79,
   "id": "659642dd-b4f6-4681-b3cb-029cd29da559",
   "metadata": {},
   "outputs": [
    {
     "data": {
      "text/plain": [
       "{'guebin': 49, 'iu': 80, 'hynn': 99}"
      ]
     },
     "execution_count": 79,
     "metadata": {},
     "output_type": "execute_result"
    }
   ],
   "source": [
    "score['hynn'] = 99 # 추가 \n",
    "score "
   ]
  },
  {
   "cell_type": "markdown",
   "id": "3dcfa411-d89e-4810-b4b2-cc62c8c40152",
   "metadata": {},
   "source": [
    "`-` 변경 "
   ]
  },
  {
   "cell_type": "code",
   "execution_count": 80,
   "id": "58aab34c-fc4e-46ad-88b9-a13b7882d9f2",
   "metadata": {},
   "outputs": [
    {
     "data": {
      "text/plain": [
       "{'guebin': 49, 'iu': 99, 'hynn': 99}"
      ]
     },
     "execution_count": 80,
     "metadata": {},
     "output_type": "execute_result"
    }
   ],
   "source": [
    "score['iu'] = 99  # 변경 \n",
    "score "
   ]
  },
  {
   "cell_type": "markdown",
   "id": "b6713843-6a85-4995-8178-99b9dcb27ad5",
   "metadata": {},
   "source": [
    "`-` 삭제 "
   ]
  },
  {
   "cell_type": "markdown",
   "id": "e49ad2e9-4465-4bc9-87dc-a596e3b8ce62",
   "metadata": {},
   "source": [
    "(방법1)"
   ]
  },
  {
   "cell_type": "code",
   "execution_count": 81,
   "id": "973daa8c-322e-46ff-9070-67d1d3f64bae",
   "metadata": {},
   "outputs": [
    {
     "data": {
      "text/plain": [
       "{'iu': 80, 'hynn': 99}"
      ]
     },
     "execution_count": 81,
     "metadata": {},
     "output_type": "execute_result"
    }
   ],
   "source": [
    "score={'guebin':49, 'iu':80, 'hynn':99}\n",
    "del score['guebin']  \n",
    "score"
   ]
  },
  {
   "cell_type": "markdown",
   "id": "fc92c023-24ef-4799-ba95-f930468c9e5f",
   "metadata": {},
   "source": [
    "(방법2)"
   ]
  },
  {
   "cell_type": "code",
   "execution_count": 82,
   "id": "e845d851-dd8f-4b3b-952e-c53ee36979cf",
   "metadata": {},
   "outputs": [
    {
     "data": {
      "text/plain": [
       "49"
      ]
     },
     "execution_count": 82,
     "metadata": {},
     "output_type": "execute_result"
    }
   ],
   "source": [
    "score={'guebin':49, 'iu':80, 'hynn':99} \n",
    "score.pop('guebin')"
   ]
  },
  {
   "cell_type": "code",
   "execution_count": 83,
   "id": "6eba83ad-055b-40e7-b528-1ef598a27eb2",
   "metadata": {},
   "outputs": [
    {
     "data": {
      "text/plain": [
       "{'iu': 80, 'hynn': 99}"
      ]
     },
     "execution_count": 83,
     "metadata": {},
     "output_type": "execute_result"
    }
   ],
   "source": [
    "score"
   ]
  },
  {
   "cell_type": "markdown",
   "id": "09d5155c-8cc3-4bba-a3c3-8bfcceda7499",
   "metadata": {},
   "source": [
    "`-` 참고로 리스트였다면 이러한 삭제작업역시 비효율적이었을 것임 "
   ]
  },
  {
   "cell_type": "code",
   "execution_count": 84,
   "id": "e94202d7-f692-473c-b782-937e78f715fe",
   "metadata": {},
   "outputs": [
    {
     "data": {
      "text/plain": [
       "[['guebin', 49], ['iu', 80], ['hynn', 99]]"
      ]
     },
     "execution_count": 84,
     "metadata": {},
     "output_type": "execute_result"
    }
   ],
   "source": [
    "score = [['guebin',49],['iu',80],['hynn',99]] \n",
    "score"
   ]
  },
  {
   "cell_type": "code",
   "execution_count": 85,
   "id": "9d5b416a-3e5a-44ea-8e6e-7b30dcec62ca",
   "metadata": {},
   "outputs": [
    {
     "data": {
      "text/plain": [
       "[['iu', 80], ['hynn', 99]]"
      ]
     },
     "execution_count": 85,
     "metadata": {},
     "output_type": "execute_result"
    }
   ],
   "source": [
    "score = [[key,val] for key,val in score if key != 'guebin'] \n",
    "score"
   ]
  }
 ],
 "metadata": {
  "kernelspec": {
   "display_name": "Python 3",
   "language": "python",
   "name": "python3"
  },
  "language_info": {
   "codemirror_mode": {
    "name": "ipython",
    "version": 3
   },
   "file_extension": ".py",
   "mimetype": "text/x-python",
   "name": "python",
   "nbconvert_exporter": "python",
   "pygments_lexer": "ipython3",
   "version": "3.8.16"
  }
 },
 "nbformat": 4,
 "nbformat_minor": 5
}
