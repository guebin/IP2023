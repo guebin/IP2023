{
 "cells": [
  {
   "cell_type": "raw",
   "id": "8dfc2a60-47be-412b-b39d-2536cf21696a",
   "metadata": {},
   "source": [
    "---\n",
    "title: \"01wk-2: 파이썬의 자료형 I (int,float, bool, str) //  draft\"\n",
    "author: \"최규빈\"\n",
    "date: \"03/07/2023\"\n",
    "---"
   ]
  },
  {
   "cell_type": "markdown",
   "id": "56be95f0-5138-4c99-9ca4-91fc3449fd19",
   "metadata": {},
   "source": [
    "<a href=\"https://colab.research.google.com/github/guebin/PP2023/blob/main/posts/01_PythonBasic/2023-03-07\"><img src=\"https://colab.research.google.com/assets/colab-badge.svg\" style=\"text-align: left\"></a>"
   ]
  },
  {
   "cell_type": "markdown",
   "id": "709b8080-f3f4-4eb0-a273-70462c721f50",
   "metadata": {},
   "source": [
    "# Intro "
   ]
  },
  {
   "cell_type": "markdown",
   "id": "02f9d89c-cf14-4828-87e2-c8681bb6d57b",
   "metadata": {},
   "source": [
    "`-` 파이썬의 기본자료형은 int, float, bool, str, list, tuple, dict, set 등이 있다.\n",
    "\n",
    "- 0차원 자료형: int, float, bool \n",
    "- 1차원 자료형: str, list, tuple, dict, set"
   ]
  },
  {
   "cell_type": "markdown",
   "id": "605ca980-7747-4b3c-8d88-4aa7e4f6da0c",
   "metadata": {},
   "source": [
    "# int, float, bool "
   ]
  },
  {
   "cell_type": "markdown",
   "id": "1714514d-4353-4910-af8e-718a0536bee1",
   "metadata": {},
   "source": [
    "`-` int형 "
   ]
  },
  {
   "cell_type": "code",
   "execution_count": 14,
   "id": "fdb3309a-e078-4e2b-93e2-b6def0ef8971",
   "metadata": {
    "vscode": {
     "languageId": "python"
    }
   },
   "outputs": [],
   "source": [
    "a=100"
   ]
  },
  {
   "cell_type": "code",
   "execution_count": 15,
   "id": "11202d76-a8da-4e56-9125-96faaaf9102f",
   "metadata": {
    "vscode": {
     "languageId": "python"
    }
   },
   "outputs": [
    {
     "data": {
      "text/plain": [
       "int"
      ]
     },
     "execution_count": 15,
     "metadata": {},
     "output_type": "execute_result"
    }
   ],
   "source": [
    "type(a)"
   ]
  },
  {
   "cell_type": "markdown",
   "id": "9b465fa0-758d-4329-b406-9125a60df48e",
   "metadata": {},
   "source": [
    "`-` float형 "
   ]
  },
  {
   "cell_type": "code",
   "execution_count": 7,
   "id": "b7ce3930-402d-48a9-956d-7689692d2b71",
   "metadata": {
    "vscode": {
     "languageId": "python"
    }
   },
   "outputs": [
    {
     "data": {
      "text/plain": [
       "3.5999999999999996"
      ]
     },
     "execution_count": 7,
     "metadata": {},
     "output_type": "execute_result"
    }
   ],
   "source": [
    "a=1.2*3\n",
    "a"
   ]
  },
  {
   "cell_type": "code",
   "execution_count": 19,
   "id": "7da95b54-e04b-4952-b9e4-8e5a6757d525",
   "metadata": {
    "vscode": {
     "languageId": "python"
    }
   },
   "outputs": [
    {
     "data": {
      "text/plain": [
       "float"
      ]
     },
     "execution_count": 19,
     "metadata": {},
     "output_type": "execute_result"
    }
   ],
   "source": [
    "type(a)"
   ]
  },
  {
   "cell_type": "code",
   "execution_count": 20,
   "id": "e77f2b88-f329-402b-b02b-54bd8279acf6",
   "metadata": {
    "vscode": {
     "languageId": "python"
    }
   },
   "outputs": [
    {
     "data": {
      "text/plain": [
       "\u001b[0;31mType:\u001b[0m        float\n",
       "\u001b[0;31mString form:\u001b[0m 3.5999999999999996\n",
       "\u001b[0;31mDocstring:\u001b[0m   Convert a string or number to a floating point number, if possible.\n"
      ]
     },
     "metadata": {},
     "output_type": "display_data"
    }
   ],
   "source": [
    "a?"
   ]
  },
  {
   "cell_type": "markdown",
   "id": "cbf28fe8-73e1-40c2-94da-1cb5beb010f9",
   "metadata": {},
   "source": [
    "`-` bool형 "
   ]
  },
  {
   "cell_type": "code",
   "execution_count": 52,
   "id": "e4cf89f7-55ea-4291-84ab-247db0ee4890",
   "metadata": {
    "vscode": {
     "languageId": "python"
    }
   },
   "outputs": [],
   "source": [
    "a=True ## 숫자1으로 생각할 수 있음 \n",
    "b=False ## 숫자0으로 생각할 수 있음"
   ]
  },
  {
   "cell_type": "code",
   "execution_count": 24,
   "id": "10e9faf2-466c-4a02-bbda-e9b3d5f25f36",
   "metadata": {
    "vscode": {
     "languageId": "python"
    }
   },
   "outputs": [
    {
     "data": {
      "text/plain": [
       "bool"
      ]
     },
     "execution_count": 24,
     "metadata": {},
     "output_type": "execute_result"
    }
   ],
   "source": [
    "type(a)"
   ]
  },
  {
   "cell_type": "code",
   "execution_count": 25,
   "id": "03c105a3-2672-4dd6-85aa-e3695eda8ddb",
   "metadata": {
    "vscode": {
     "languageId": "python"
    }
   },
   "outputs": [
    {
     "data": {
      "text/plain": [
       "bool"
      ]
     },
     "execution_count": 25,
     "metadata": {},
     "output_type": "execute_result"
    }
   ],
   "source": [
    "type(b)"
   ]
  },
  {
   "cell_type": "code",
   "execution_count": 27,
   "id": "e7c178cc-8d06-4bd1-b5e2-fdadb64e99ff",
   "metadata": {
    "vscode": {
     "languageId": "python"
    }
   },
   "outputs": [
    {
     "data": {
      "text/plain": [
       "\u001b[0;31mType:\u001b[0m        bool\n",
       "\u001b[0;31mString form:\u001b[0m True\n",
       "\u001b[0;31mDocstring:\u001b[0m  \n",
       "bool(x) -> bool\n",
       "\n",
       "Returns True when the argument x is true, False otherwise.\n",
       "The builtins True and False are the only two instances of the class bool.\n",
       "The class bool is a subclass of the class int, and cannot be subclassed.\n"
      ]
     },
     "metadata": {},
     "output_type": "display_data"
    }
   ],
   "source": [
    "a?"
   ]
  },
  {
   "cell_type": "code",
   "execution_count": 28,
   "id": "54b6caa8-4102-476c-aaf2-39b7900222ad",
   "metadata": {
    "vscode": {
     "languageId": "python"
    }
   },
   "outputs": [
    {
     "data": {
      "text/plain": [
       "\u001b[0;31mType:\u001b[0m        bool\n",
       "\u001b[0;31mString form:\u001b[0m False\n",
       "\u001b[0;31mDocstring:\u001b[0m  \n",
       "bool(x) -> bool\n",
       "\n",
       "Returns True when the argument x is true, False otherwise.\n",
       "The builtins True and False are the only two instances of the class bool.\n",
       "The class bool is a subclass of the class int, and cannot be subclassed.\n"
      ]
     },
     "metadata": {},
     "output_type": "display_data"
    }
   ],
   "source": [
    "b?"
   ]
  },
  {
   "cell_type": "markdown",
   "id": "ede5666c-151f-4cb2-ab74-276cf1381276",
   "metadata": {},
   "source": [
    "`-` bool형의 연산 "
   ]
  },
  {
   "cell_type": "code",
   "execution_count": 15,
   "id": "e68b2f1f-81ab-4c59-9191-faa0fc326617",
   "metadata": {
    "vscode": {
     "languageId": "python"
    }
   },
   "outputs": [],
   "source": [
    "a=True ## 1\n",
    "b=False ## 0 "
   ]
  },
  {
   "cell_type": "code",
   "execution_count": 66,
   "id": "11fb5fc9-4f20-4554-ae96-ae3cd86ccd46",
   "metadata": {
    "vscode": {
     "languageId": "python"
    }
   },
   "outputs": [
    {
     "data": {
      "text/plain": [
       "1"
      ]
     },
     "execution_count": 66,
     "metadata": {},
     "output_type": "execute_result"
    }
   ],
   "source": [
    "a+b"
   ]
  },
  {
   "cell_type": "code",
   "execution_count": 67,
   "id": "1ed0252c-915d-4514-8a86-7c856666ec6a",
   "metadata": {
    "vscode": {
     "languageId": "python"
    }
   },
   "outputs": [
    {
     "data": {
      "text/plain": [
       "0"
      ]
     },
     "execution_count": 67,
     "metadata": {},
     "output_type": "execute_result"
    }
   ],
   "source": [
    "a*b "
   ]
  },
  {
   "cell_type": "markdown",
   "id": "acce630e-1969-43ed-a311-d7a2edbba3c5",
   "metadata": {},
   "source": [
    "`-` complex형 "
   ]
  },
  {
   "cell_type": "code",
   "execution_count": 20,
   "id": "f3f89287-ca1a-440f-a5c4-3c97977e772a",
   "metadata": {
    "vscode": {
     "languageId": "python"
    }
   },
   "outputs": [],
   "source": [
    "a=1+2j\n",
    "b=2-2j"
   ]
  },
  {
   "cell_type": "code",
   "execution_count": 21,
   "id": "09fad72b-86a9-452d-976d-cac70bdaa0fb",
   "metadata": {
    "vscode": {
     "languageId": "python"
    }
   },
   "outputs": [
    {
     "data": {
      "text/plain": [
       "complex"
      ]
     },
     "execution_count": 21,
     "metadata": {},
     "output_type": "execute_result"
    }
   ],
   "source": [
    "type(a)"
   ]
  },
  {
   "cell_type": "code",
   "execution_count": 22,
   "id": "b734208a-0410-441d-8e7f-ea7eada9b75c",
   "metadata": {
    "vscode": {
     "languageId": "python"
    }
   },
   "outputs": [
    {
     "data": {
      "text/plain": [
       "complex"
      ]
     },
     "execution_count": 22,
     "metadata": {},
     "output_type": "execute_result"
    }
   ],
   "source": [
    "type(b)"
   ]
  },
  {
   "cell_type": "code",
   "execution_count": 23,
   "id": "feb1dd1b-a4d8-4ae2-8212-b33995f1b060",
   "metadata": {
    "vscode": {
     "languageId": "python"
    }
   },
   "outputs": [
    {
     "data": {
      "text/plain": [
       "\u001b[0;31mType:\u001b[0m        complex\n",
       "\u001b[0;31mString form:\u001b[0m (1+2j)\n",
       "\u001b[0;31mDocstring:\u001b[0m  \n",
       "Create a complex number from a real part and an optional imaginary part.\n",
       "\n",
       "This is equivalent to (real + imag*1j) where imag defaults to 0.\n"
      ]
     },
     "metadata": {},
     "output_type": "display_data"
    }
   ],
   "source": [
    "a?"
   ]
  },
  {
   "cell_type": "code",
   "execution_count": 24,
   "id": "f2ae33ba-9d6d-4784-8b3f-24ed04d375ee",
   "metadata": {
    "vscode": {
     "languageId": "python"
    }
   },
   "outputs": [
    {
     "data": {
      "text/plain": [
       "\u001b[0;31mType:\u001b[0m        complex\n",
       "\u001b[0;31mString form:\u001b[0m (2-2j)\n",
       "\u001b[0;31mDocstring:\u001b[0m  \n",
       "Create a complex number from a real part and an optional imaginary part.\n",
       "\n",
       "This is equivalent to (real + imag*1j) where imag defaults to 0.\n"
      ]
     },
     "metadata": {},
     "output_type": "display_data"
    }
   ],
   "source": [
    "b?"
   ]
  },
  {
   "cell_type": "code",
   "execution_count": 25,
   "id": "7bd1a508-8a35-495e-88e7-85d8cab5c8ab",
   "metadata": {
    "vscode": {
     "languageId": "python"
    }
   },
   "outputs": [],
   "source": [
    "c=a+b"
   ]
  },
  {
   "cell_type": "code",
   "execution_count": 26,
   "id": "fcddae31-b57c-4b0c-98e1-2a08ebeb7686",
   "metadata": {
    "vscode": {
     "languageId": "python"
    }
   },
   "outputs": [
    {
     "data": {
      "text/plain": [
       "(3+0j)"
      ]
     },
     "execution_count": 26,
     "metadata": {},
     "output_type": "execute_result"
    }
   ],
   "source": [
    "c"
   ]
  },
  {
   "cell_type": "markdown",
   "id": "d2657d7b-788f-415a-8e43-95fbebce5217",
   "metadata": {},
   "source": [
    "`-` 형태변환: float $\\to$ int "
   ]
  },
  {
   "cell_type": "markdown",
   "id": "9d0152b0-ad24-4743-962c-fc4c4f3f83d3",
   "metadata": {},
   "source": [
    "(예시1)"
   ]
  },
  {
   "cell_type": "code",
   "execution_count": 27,
   "id": "6f964452-1762-43f6-ba1d-74596e10f49f",
   "metadata": {
    "vscode": {
     "languageId": "python"
    }
   },
   "outputs": [
    {
     "data": {
      "text/plain": [
       "float"
      ]
     },
     "execution_count": 27,
     "metadata": {},
     "output_type": "execute_result"
    }
   ],
   "source": [
    "a=3.0\n",
    "type(a)"
   ]
  },
  {
   "cell_type": "code",
   "execution_count": 28,
   "id": "c80b0380-031c-4c21-8606-3afffc6c1bca",
   "metadata": {
    "vscode": {
     "languageId": "python"
    }
   },
   "outputs": [],
   "source": [
    "a=int(a)"
   ]
  },
  {
   "cell_type": "code",
   "execution_count": 29,
   "id": "dd9cf497-7fbf-4e39-8f44-e6a343cf0298",
   "metadata": {
    "vscode": {
     "languageId": "python"
    }
   },
   "outputs": [
    {
     "data": {
      "text/plain": [
       "int"
      ]
     },
     "execution_count": 29,
     "metadata": {},
     "output_type": "execute_result"
    }
   ],
   "source": [
    "type(a)"
   ]
  },
  {
   "cell_type": "markdown",
   "id": "70e15659-2a0b-4628-bbf7-d9fdfb9d4e25",
   "metadata": {},
   "source": [
    "(예시2) 이경우는 정보의 손실이 발생 "
   ]
  },
  {
   "cell_type": "code",
   "execution_count": 30,
   "id": "0f945465-ab18-4c52-92cd-6126e5b0efa2",
   "metadata": {
    "vscode": {
     "languageId": "python"
    }
   },
   "outputs": [
    {
     "data": {
      "text/plain": [
       "3"
      ]
     },
     "execution_count": 30,
     "metadata": {},
     "output_type": "execute_result"
    }
   ],
   "source": [
    "a=3.14 \n",
    "int(a)"
   ]
  },
  {
   "cell_type": "markdown",
   "id": "350d0a13-fd99-4b1e-ac82-d70ec98fffaf",
   "metadata": {},
   "source": [
    "`-` 형태변환: int $\\to$ float"
   ]
  },
  {
   "cell_type": "code",
   "execution_count": 39,
   "id": "3ed49aa6-8de6-45bc-9aef-f6b5523c2b72",
   "metadata": {
    "vscode": {
     "languageId": "python"
    }
   },
   "outputs": [
    {
     "data": {
      "text/plain": [
       "int"
      ]
     },
     "execution_count": 39,
     "metadata": {},
     "output_type": "execute_result"
    }
   ],
   "source": [
    "a=3\n",
    "type(a)"
   ]
  },
  {
   "cell_type": "code",
   "execution_count": 40,
   "id": "ea3a05bd-567b-489d-a887-154261ce784c",
   "metadata": {
    "vscode": {
     "languageId": "python"
    }
   },
   "outputs": [
    {
     "data": {
      "text/plain": [
       "float"
      ]
     },
     "execution_count": 40,
     "metadata": {},
     "output_type": "execute_result"
    }
   ],
   "source": [
    "a=float(a)\n",
    "type(a)"
   ]
  },
  {
   "cell_type": "markdown",
   "id": "7996d091-ba5d-4734-8544-8e3fe41cca4d",
   "metadata": {},
   "source": [
    "`-` 형태변환: bool $\\to$ int/float, int/float $\\to$ bool "
   ]
  },
  {
   "cell_type": "markdown",
   "id": "dbf312ce-3b81-459f-8210-149511e1b399",
   "metadata": {},
   "source": [
    "(예시1)"
   ]
  },
  {
   "cell_type": "code",
   "execution_count": 41,
   "id": "4171066b-db9c-422f-abc8-e58545708528",
   "metadata": {
    "vscode": {
     "languageId": "python"
    }
   },
   "outputs": [
    {
     "data": {
      "text/plain": [
       "bool"
      ]
     },
     "execution_count": 41,
     "metadata": {},
     "output_type": "execute_result"
    }
   ],
   "source": [
    "a=True\n",
    "type(a)"
   ]
  },
  {
   "cell_type": "code",
   "execution_count": 42,
   "id": "5653b7c6-9610-4f4a-b528-ffb57b1cfb0e",
   "metadata": {
    "vscode": {
     "languageId": "python"
    }
   },
   "outputs": [
    {
     "data": {
      "text/plain": [
       "1"
      ]
     },
     "execution_count": 42,
     "metadata": {},
     "output_type": "execute_result"
    }
   ],
   "source": [
    "int(a)"
   ]
  },
  {
   "cell_type": "code",
   "execution_count": 43,
   "id": "1301ba7b-4945-4e65-9b7f-e3d1de995f41",
   "metadata": {
    "vscode": {
     "languageId": "python"
    }
   },
   "outputs": [
    {
     "data": {
      "text/plain": [
       "1.0"
      ]
     },
     "execution_count": 43,
     "metadata": {},
     "output_type": "execute_result"
    }
   ],
   "source": [
    "float(a)"
   ]
  },
  {
   "cell_type": "markdown",
   "id": "038a3b40-0a16-4746-bd9c-3e24d63ae520",
   "metadata": {},
   "source": [
    "(예시2)"
   ]
  },
  {
   "cell_type": "code",
   "execution_count": 59,
   "id": "85b738c9-3875-48bf-9aae-c49688ac0db2",
   "metadata": {
    "vscode": {
     "languageId": "python"
    }
   },
   "outputs": [
    {
     "data": {
      "text/plain": [
       "True"
      ]
     },
     "execution_count": 59,
     "metadata": {},
     "output_type": "execute_result"
    }
   ],
   "source": [
    "a=1 \n",
    "bool(a)"
   ]
  },
  {
   "cell_type": "code",
   "execution_count": 60,
   "id": "13e395de-b15d-49e5-9d6b-3fc3f198f4da",
   "metadata": {
    "vscode": {
     "languageId": "python"
    }
   },
   "outputs": [
    {
     "data": {
      "text/plain": [
       "False"
      ]
     },
     "execution_count": 60,
     "metadata": {},
     "output_type": "execute_result"
    }
   ],
   "source": [
    "a=0\n",
    "bool(a)"
   ]
  },
  {
   "cell_type": "markdown",
   "id": "03b12427-b6e3-4e68-baff-35667ff8bf29",
   "metadata": {},
   "source": [
    "(예시3)"
   ]
  },
  {
   "cell_type": "code",
   "execution_count": 61,
   "id": "508ff1d1-e626-4e76-ad52-dbb79377228b",
   "metadata": {
    "vscode": {
     "languageId": "python"
    }
   },
   "outputs": [
    {
     "data": {
      "text/plain": [
       "True"
      ]
     },
     "execution_count": 61,
     "metadata": {},
     "output_type": "execute_result"
    }
   ],
   "source": [
    "a=1.0\n",
    "bool(a)"
   ]
  },
  {
   "cell_type": "code",
   "execution_count": 62,
   "id": "50047512-a291-42b7-aa85-6031fb602437",
   "metadata": {
    "vscode": {
     "languageId": "python"
    }
   },
   "outputs": [
    {
     "data": {
      "text/plain": [
       "False"
      ]
     },
     "execution_count": 62,
     "metadata": {},
     "output_type": "execute_result"
    }
   ],
   "source": [
    "a=0.0\n",
    "bool(a)"
   ]
  },
  {
   "cell_type": "markdown",
   "id": "bbdfa72b-7dbf-4174-ab14-fcbedf5664ab",
   "metadata": {},
   "source": [
    "`-` 이상한 형태변환도 가능하다. (이런것도 바꿔주나 싶은것도 바꿔줌) "
   ]
  },
  {
   "cell_type": "code",
   "execution_count": 75,
   "id": "90d1d403-4f75-40f6-bc61-4e05f69b49e0",
   "metadata": {
    "vscode": {
     "languageId": "python"
    }
   },
   "outputs": [
    {
     "data": {
      "text/plain": [
       "True"
      ]
     },
     "execution_count": 75,
     "metadata": {},
     "output_type": "execute_result"
    }
   ],
   "source": [
    "bool(-3.14)"
   ]
  },
  {
   "cell_type": "markdown",
   "id": "5c5e1653-f31a-404d-b577-fd661d965199",
   "metadata": {},
   "source": [
    "- 저는 이런 코드를 의도적으로 사용하지 않아요.. "
   ]
  },
  {
   "cell_type": "code",
   "execution_count": 74,
   "id": "3304a522-95be-4981-814f-313acd50bbf9",
   "metadata": {
    "vscode": {
     "languageId": "python"
    }
   },
   "outputs": [
    {
     "data": {
      "text/plain": [
       "3"
      ]
     },
     "execution_count": 74,
     "metadata": {},
     "output_type": "execute_result"
    }
   ],
   "source": [
    "int(3.14)"
   ]
  },
  {
   "cell_type": "markdown",
   "id": "7deda6c5-cbb9-49b8-9365-b454b5b96e21",
   "metadata": {},
   "source": [
    "`-` 형태변환이 항상가능한것도 아님 "
   ]
  },
  {
   "cell_type": "code",
   "execution_count": 78,
   "id": "601b94de-583e-4e6d-8953-3782f834cf03",
   "metadata": {
    "vscode": {
     "languageId": "python"
    }
   },
   "outputs": [
    {
     "ename": "TypeError",
     "evalue": "can't convert complex to float",
     "output_type": "error",
     "traceback": [
      "\u001b[0;31m---------------------------------------------------------------------------\u001b[0m",
      "\u001b[0;31mTypeError\u001b[0m                                 Traceback (most recent call last)",
      "Input \u001b[0;32mIn [78]\u001b[0m, in \u001b[0;36m<module>\u001b[0;34m\u001b[0m\n\u001b[0;32m----> 1\u001b[0m \u001b[38;5;28;43mfloat\u001b[39;49m\u001b[43m(\u001b[49m\u001b[38;5;241;43m3\u001b[39;49m\u001b[38;5;241;43m+\u001b[39;49m\u001b[38;5;241;43m0\u001b[39;49m\u001b[43mj\u001b[49m\u001b[43m)\u001b[49m\n",
      "\u001b[0;31mTypeError\u001b[0m: can't convert complex to float"
     ]
    }
   ],
   "source": [
    "float(3+0j) # 사실상 3+0j=3 이므로 float으로 형변환하면 3.0이 되어야 할 것 같은데 변환불가능하다. "
   ]
  },
  {
   "cell_type": "markdown",
   "id": "94843261-465e-442b-a8e1-9b42cd5b72d7",
   "metadata": {},
   "source": [
    "`-` 암묵적형변환 (implicit) "
   ]
  },
  {
   "cell_type": "markdown",
   "id": "5fe07538-16a8-4504-a767-a2fe13c27427",
   "metadata": {},
   "source": [
    "(예비학습) implicit의 의미 \n",
    "- 추운날씨 -> 보일러좀 틀자! (explicit) / 오늘 날씨 좀 추운 것 같지 않아? (implicit) \n",
    "- 짜장면 먹을래? -> 싫어! (explicit) / 난 어제 짜장면 먹었는데.. (implicit)"
   ]
  },
  {
   "cell_type": "markdown",
   "id": "c80c3bfe-7dfc-4cee-99c7-4f0a6277f171",
   "metadata": {},
   "source": [
    "(예제) "
   ]
  },
  {
   "cell_type": "code",
   "execution_count": 50,
   "id": "b8eb78ad-969a-4b23-acb6-ec2192d137ad",
   "metadata": {
    "vscode": {
     "languageId": "python"
    }
   },
   "outputs": [
    {
     "data": {
      "text/plain": [
       "1"
      ]
     },
     "execution_count": 50,
     "metadata": {},
     "output_type": "execute_result"
    }
   ],
   "source": [
    "True * 1 # 1을 곱할건데 너 계속 True로 있을꺼야? "
   ]
  },
  {
   "cell_type": "code",
   "execution_count": 82,
   "id": "f9ec11b4-a75e-4c88-a4ad-de504ea3a556",
   "metadata": {
    "vscode": {
     "languageId": "python"
    }
   },
   "outputs": [
    {
     "data": {
      "text/plain": [
       "1.0"
      ]
     },
     "execution_count": 82,
     "metadata": {},
     "output_type": "execute_result"
    }
   ],
   "source": [
    "1 * 1.0 # 1.0을 곱할건데 너 계속 int로 있을꺼야? "
   ]
  },
  {
   "cell_type": "code",
   "execution_count": 84,
   "id": "5b72ccde-ba9e-4741-98ed-851225e16d28",
   "metadata": {
    "vscode": {
     "languageId": "python"
    }
   },
   "outputs": [
    {
     "data": {
      "text/plain": [
       "2"
      ]
     },
     "execution_count": 84,
     "metadata": {},
     "output_type": "execute_result"
    }
   ],
   "source": [
    "True+True # +연산을 할건데 계속 True로 있을꺼야? "
   ]
  },
  {
   "cell_type": "markdown",
   "id": "09246aef-0a46-4c62-bda3-e99cf1f747cf",
   "metadata": {},
   "source": [
    "# str"
   ]
  },
  {
   "cell_type": "markdown",
   "id": "c5b3b055-ad06-46ef-96fb-9a603bd741e6",
   "metadata": {},
   "source": [
    "## 선언 "
   ]
  },
  {
   "cell_type": "code",
   "execution_count": 51,
   "id": "0d18fb43-4b6c-4bf0-8cfd-abae7d80a7c0",
   "metadata": {
    "vscode": {
     "languageId": "python"
    }
   },
   "outputs": [],
   "source": [
    "a='guebin'"
   ]
  },
  {
   "cell_type": "code",
   "execution_count": 86,
   "id": "c3983c57-a551-4cfe-9718-e80d0a3f1cea",
   "metadata": {
    "vscode": {
     "languageId": "python"
    }
   },
   "outputs": [
    {
     "data": {
      "text/plain": [
       "'guebin'"
      ]
     },
     "execution_count": 86,
     "metadata": {},
     "output_type": "execute_result"
    }
   ],
   "source": [
    "a"
   ]
  },
  {
   "cell_type": "markdown",
   "id": "5b1daf5b-6614-4be1-8805-10eaef259f25",
   "metadata": {},
   "source": [
    "## 연산"
   ]
  },
  {
   "cell_type": "markdown",
   "id": "93ae5b5f-ab4e-46c1-b248-dda4465ddb63",
   "metadata": {},
   "source": [
    "`-` 더하기(+)연산 "
   ]
  },
  {
   "cell_type": "code",
   "execution_count": 53,
   "id": "c053d536-d971-4d56-8078-b0e7a10ee2ba",
   "metadata": {
    "vscode": {
     "languageId": "python"
    }
   },
   "outputs": [],
   "source": [
    "a='X'\n",
    "b='2'"
   ]
  },
  {
   "cell_type": "code",
   "execution_count": 91,
   "id": "d627f581-1cd9-427e-8e69-05ad0c53bd7f",
   "metadata": {
    "vscode": {
     "languageId": "python"
    }
   },
   "outputs": [
    {
     "data": {
      "text/plain": [
       "'X2'"
      ]
     },
     "execution_count": 91,
     "metadata": {},
     "output_type": "execute_result"
    }
   ],
   "source": [
    "c=a+b\n",
    "c"
   ]
  },
  {
   "cell_type": "markdown",
   "id": "a7d618c1-be9a-4ede-b96e-14f4cc73714e",
   "metadata": {},
   "source": [
    "`-` 빼기(-)연산 "
   ]
  },
  {
   "cell_type": "code",
   "execution_count": 92,
   "id": "1e356e5f-1c08-4dfc-8653-fdd38077b0fb",
   "metadata": {
    "vscode": {
     "languageId": "python"
    }
   },
   "outputs": [
    {
     "ename": "TypeError",
     "evalue": "unsupported operand type(s) for -: 'str' and 'str'",
     "output_type": "error",
     "traceback": [
      "\u001b[0;31m---------------------------------------------------------------------------\u001b[0m",
      "\u001b[0;31mTypeError\u001b[0m                                 Traceback (most recent call last)",
      "Input \u001b[0;32mIn [92]\u001b[0m, in \u001b[0;36m<module>\u001b[0;34m\u001b[0m\n\u001b[1;32m      1\u001b[0m a\u001b[38;5;241m=\u001b[39m\u001b[38;5;124m'\u001b[39m\u001b[38;5;124mX2\u001b[39m\u001b[38;5;124m'\u001b[39m\n\u001b[1;32m      2\u001b[0m b\u001b[38;5;241m=\u001b[39m\u001b[38;5;124m'\u001b[39m\u001b[38;5;124m2\u001b[39m\u001b[38;5;124m'\u001b[39m\n\u001b[0;32m----> 3\u001b[0m \u001b[43ma\u001b[49m\u001b[38;5;241;43m-\u001b[39;49m\u001b[43mb\u001b[49m\n",
      "\u001b[0;31mTypeError\u001b[0m: unsupported operand type(s) for -: 'str' and 'str'"
     ]
    }
   ],
   "source": [
    "a='X2'\n",
    "b='2'\n",
    "a-b"
   ]
  },
  {
   "cell_type": "markdown",
   "id": "f2e2a49c-262f-4dbb-b70a-0085d1081e5b",
   "metadata": {},
   "source": [
    "- 이런건 없다. "
   ]
  },
  {
   "cell_type": "markdown",
   "id": "8bc552f2-ce2d-42bf-84b7-018678360a77",
   "metadata": {},
   "source": [
    "`-` 곱하기(*)연산"
   ]
  },
  {
   "cell_type": "code",
   "execution_count": 63,
   "id": "b2f44549-e2f6-4590-bef9-6c26c2debe76",
   "metadata": {
    "vscode": {
     "languageId": "python"
    }
   },
   "outputs": [],
   "source": [
    "a='X'"
   ]
  },
  {
   "cell_type": "code",
   "execution_count": 64,
   "id": "7e00570a-d1bf-44e1-a7f4-f8e38699d095",
   "metadata": {
    "vscode": {
     "languageId": "python"
    }
   },
   "outputs": [
    {
     "data": {
      "text/plain": [
       "'XXX'"
      ]
     },
     "execution_count": 64,
     "metadata": {},
     "output_type": "execute_result"
    }
   ],
   "source": [
    "a+a+a"
   ]
  },
  {
   "cell_type": "code",
   "execution_count": 65,
   "id": "f67a3bc2-fba7-4141-8d48-ff417e4043d7",
   "metadata": {
    "vscode": {
     "languageId": "python"
    }
   },
   "outputs": [
    {
     "data": {
      "text/plain": [
       "'XXX'"
      ]
     },
     "execution_count": 65,
     "metadata": {},
     "output_type": "execute_result"
    }
   ],
   "source": [
    "a*3 # a*3 = a+a+a = 'X'+'X+'X'"
   ]
  },
  {
   "cell_type": "markdown",
   "id": "de812fdd-caf0-4ccd-8512-20171f587075",
   "metadata": {},
   "source": [
    "아래도 가능하다. "
   ]
  },
  {
   "cell_type": "code",
   "execution_count": 66,
   "id": "4a920917-2bbf-4228-9540-c36850acb3bf",
   "metadata": {
    "vscode": {
     "languageId": "python"
    }
   },
   "outputs": [
    {
     "data": {
      "text/plain": [
       "'XXX'"
      ]
     },
     "execution_count": 66,
     "metadata": {},
     "output_type": "execute_result"
    }
   ],
   "source": [
    "3*a"
   ]
  },
  {
   "cell_type": "markdown",
   "id": "563d3bda-6051-477a-98f6-cfa23b059bb5",
   "metadata": {},
   "source": [
    "그리고 아래도 가능하다. "
   ]
  },
  {
   "cell_type": "code",
   "execution_count": 67,
   "id": "aff1ecba-e604-4582-abc2-14688b34ca27",
   "metadata": {
    "vscode": {
     "languageId": "python"
    }
   },
   "outputs": [
    {
     "data": {
      "text/plain": [
       "'XXX'"
      ]
     },
     "execution_count": 67,
     "metadata": {},
     "output_type": "execute_result"
    }
   ],
   "source": [
    "a='X'\n",
    "b=3 \n",
    "a*b"
   ]
  },
  {
   "cell_type": "markdown",
   "id": "0578b1b7-b86b-4519-a78f-47dfe40cef1f",
   "metadata": {},
   "source": [
    "대신에 의미상 맞지 않는 것은 수행되지 않고 에러가 난다. "
   ]
  },
  {
   "cell_type": "code",
   "execution_count": 98,
   "id": "a6757234-2d59-4c4b-885e-c9220e5d7514",
   "metadata": {
    "vscode": {
     "languageId": "python"
    }
   },
   "outputs": [
    {
     "data": {
      "text/plain": [
       "'XY'"
      ]
     },
     "execution_count": 98,
     "metadata": {},
     "output_type": "execute_result"
    }
   ],
   "source": [
    "a='X'\n",
    "b='Y'\n",
    "a+b"
   ]
  },
  {
   "cell_type": "code",
   "execution_count": 99,
   "id": "54ad1933-3c92-4488-b37c-940f132c52ba",
   "metadata": {
    "vscode": {
     "languageId": "python"
    }
   },
   "outputs": [
    {
     "ename": "TypeError",
     "evalue": "can't multiply sequence by non-int of type 'str'",
     "output_type": "error",
     "traceback": [
      "\u001b[0;31m---------------------------------------------------------------------------\u001b[0m",
      "\u001b[0;31mTypeError\u001b[0m                                 Traceback (most recent call last)",
      "Input \u001b[0;32mIn [99]\u001b[0m, in \u001b[0;36m<module>\u001b[0;34m\u001b[0m\n\u001b[0;32m----> 1\u001b[0m \u001b[43ma\u001b[49m\u001b[38;5;241;43m*\u001b[39;49m\u001b[43mb\u001b[49m\n",
      "\u001b[0;31mTypeError\u001b[0m: can't multiply sequence by non-int of type 'str'"
     ]
    }
   ],
   "source": [
    "a*b"
   ]
  },
  {
   "cell_type": "markdown",
   "id": "465f0a9c-7eb5-4467-b0a5-c7857e173055",
   "metadata": {},
   "source": [
    "`-` 나눗셈(/)연산 "
   ]
  },
  {
   "cell_type": "code",
   "execution_count": 100,
   "id": "1b7e686c-430a-4a2a-8f98-d131e071f96f",
   "metadata": {
    "vscode": {
     "languageId": "python"
    }
   },
   "outputs": [],
   "source": [
    "a='XX'"
   ]
  },
  {
   "cell_type": "code",
   "execution_count": 101,
   "id": "164dc102-b935-4f50-94a0-657e965ac232",
   "metadata": {
    "vscode": {
     "languageId": "python"
    }
   },
   "outputs": [
    {
     "ename": "TypeError",
     "evalue": "unsupported operand type(s) for /: 'str' and 'int'",
     "output_type": "error",
     "traceback": [
      "\u001b[0;31m---------------------------------------------------------------------------\u001b[0m",
      "\u001b[0;31mTypeError\u001b[0m                                 Traceback (most recent call last)",
      "Input \u001b[0;32mIn [101]\u001b[0m, in \u001b[0;36m<module>\u001b[0;34m\u001b[0m\n\u001b[0;32m----> 1\u001b[0m \u001b[43ma\u001b[49m\u001b[38;5;241;43m/\u001b[39;49m\u001b[38;5;241;43m2\u001b[39;49m\n",
      "\u001b[0;31mTypeError\u001b[0m: unsupported operand type(s) for /: 'str' and 'int'"
     ]
    }
   ],
   "source": [
    "a/2"
   ]
  },
  {
   "cell_type": "markdown",
   "id": "0f3c36bb-7da9-40be-92e8-5d87e182a059",
   "metadata": {},
   "source": [
    "- 이런건 없다.. "
   ]
  },
  {
   "cell_type": "markdown",
   "id": "8f580a81-e895-4b64-99a5-d35dd1615000",
   "metadata": {},
   "source": [
    "## 인덱싱"
   ]
  },
  {
   "cell_type": "markdown",
   "id": "d98fcf9e-85cf-4b20-9dc5-d6a5e3b8bcde",
   "metadata": {},
   "source": [
    "`-` str은 하나의 벡터 문자가 여러개 있는 형태라고 생각하면 된다. "
   ]
  },
  {
   "cell_type": "code",
   "execution_count": 68,
   "id": "9939ceff-e039-4b47-a68b-566b02d146c0",
   "metadata": {
    "vscode": {
     "languageId": "python"
    }
   },
   "outputs": [],
   "source": [
    "a='guebin'"
   ]
  },
  {
   "cell_type": "code",
   "execution_count": 69,
   "id": "6146d338-26b9-468a-a913-1c4e538ffd78",
   "metadata": {
    "vscode": {
     "languageId": "python"
    }
   },
   "outputs": [
    {
     "data": {
      "text/plain": [
       "'guebin'"
      ]
     },
     "execution_count": 69,
     "metadata": {},
     "output_type": "execute_result"
    }
   ],
   "source": [
    "a"
   ]
  },
  {
   "cell_type": "markdown",
   "id": "4732ec5c-d477-4fa5-912c-a871a29d17a5",
   "metadata": {},
   "source": [
    "- 6개의 칸에 글씨가 하나씩 들어가 있음. "
   ]
  },
  {
   "cell_type": "markdown",
   "id": "1a815659-18d4-4941-b130-f4944a2f5cb8",
   "metadata": {},
   "source": [
    "`-` 대괄호 `[]`안에 숫자를 넣는 방식으로 벡터의 원소를 호출할 수 있다. (주의: 인덱스가 0부터 시작함) "
   ]
  },
  {
   "cell_type": "code",
   "execution_count": 72,
   "id": "945f5c62-40af-45d6-bbca-3ec7ab4020f3",
   "metadata": {
    "vscode": {
     "languageId": "python"
    }
   },
   "outputs": [
    {
     "data": {
      "text/plain": [
       "'g'"
      ]
     },
     "execution_count": 72,
     "metadata": {},
     "output_type": "execute_result"
    }
   ],
   "source": [
    "a[0] #첫번째원소"
   ]
  },
  {
   "cell_type": "code",
   "execution_count": 73,
   "id": "2737df1f-ada7-4a66-850f-b643470d4280",
   "metadata": {
    "vscode": {
     "languageId": "python"
    }
   },
   "outputs": [
    {
     "data": {
      "text/plain": [
       "'u'"
      ]
     },
     "execution_count": 73,
     "metadata": {},
     "output_type": "execute_result"
    }
   ],
   "source": [
    "a[1] #두번째원소 "
   ]
  },
  {
   "cell_type": "markdown",
   "id": "e00abf84-513d-4ed4-be62-359e90f7dc73",
   "metadata": {},
   "source": [
    "마지막원소는 -1로 호출할 수도 있다. "
   ]
  },
  {
   "cell_type": "code",
   "execution_count": 114,
   "id": "ecca0a87-d976-43ca-9fbb-dca1f0080556",
   "metadata": {
    "vscode": {
     "languageId": "python"
    }
   },
   "outputs": [
    {
     "data": {
      "text/plain": [
       "'n'"
      ]
     },
     "execution_count": 114,
     "metadata": {},
     "output_type": "execute_result"
    }
   ],
   "source": [
    "a[-1]"
   ]
  },
  {
   "cell_type": "markdown",
   "id": "d11d5f6c-1978-49d5-9c7e-8e9d61d5d451",
   "metadata": {},
   "source": [
    "마지막에서 2번째 원소는 -2로 호출가능하다. "
   ]
  },
  {
   "cell_type": "code",
   "execution_count": 115,
   "id": "d6513ead-6556-453b-a78e-df3f72d29fbc",
   "metadata": {
    "vscode": {
     "languageId": "python"
    }
   },
   "outputs": [
    {
     "data": {
      "text/plain": [
       "'i'"
      ]
     },
     "execution_count": 115,
     "metadata": {},
     "output_type": "execute_result"
    }
   ],
   "source": [
    "a[-2]"
   ]
  },
  {
   "cell_type": "markdown",
   "id": "f31b3cc9-e1a8-4e89-8b67-fb0c97b86a55",
   "metadata": {},
   "source": [
    "`-` 요약하면 아래와 같은 방식으로 호출가능함. "
   ]
  },
  {
   "cell_type": "markdown",
   "id": "b3a8e35f-57bd-467c-9eb9-ba57f97e4e51",
   "metadata": {},
   "source": [
    "|g|u|e|b|i|n|\n",
    "|:-:|:-:|:-:|:-:|:-:|:-:|\n",
    "|0|1|2|3|4|5|\n",
    "|0|-5|-4|-3|-2|-1|"
   ]
  },
  {
   "cell_type": "code",
   "execution_count": 120,
   "id": "f10a5b17-cc74-4b71-926f-f707475de3da",
   "metadata": {
    "vscode": {
     "languageId": "python"
    }
   },
   "outputs": [
    {
     "data": {
      "text/plain": [
       "'i'"
      ]
     },
     "execution_count": 120,
     "metadata": {},
     "output_type": "execute_result"
    }
   ],
   "source": [
    "a[4]"
   ]
  },
  {
   "cell_type": "code",
   "execution_count": 121,
   "id": "66d3b9e7-9097-497a-9870-8d8089ac8f0c",
   "metadata": {
    "vscode": {
     "languageId": "python"
    }
   },
   "outputs": [
    {
     "data": {
      "text/plain": [
       "'i'"
      ]
     },
     "execution_count": 121,
     "metadata": {},
     "output_type": "execute_result"
    }
   ],
   "source": [
    "a[-2]"
   ]
  },
  {
   "cell_type": "code",
   "execution_count": 123,
   "id": "df723794-84b3-41f5-928d-ed858fe1160a",
   "metadata": {
    "vscode": {
     "languageId": "python"
    }
   },
   "outputs": [
    {
     "data": {
      "text/plain": [
       "'e'"
      ]
     },
     "execution_count": 123,
     "metadata": {},
     "output_type": "execute_result"
    }
   ],
   "source": [
    "a[-4]"
   ]
  },
  {
   "cell_type": "markdown",
   "id": "f1007144-334a-4553-82be-13db8f564b80",
   "metadata": {},
   "source": [
    "`-` `:`을 이용하여 여러개의 원소를 호출할 수 있음. "
   ]
  },
  {
   "cell_type": "code",
   "execution_count": 78,
   "id": "284ce210-250a-414c-b7a5-800b23ae97a6",
   "metadata": {
    "vscode": {
     "languageId": "python"
    }
   },
   "outputs": [],
   "source": [
    "a='guebin'"
   ]
  },
  {
   "cell_type": "code",
   "execution_count": 85,
   "id": "8305a672-1977-4e83-8e33-a990c012a231",
   "metadata": {
    "vscode": {
     "languageId": "python"
    }
   },
   "outputs": [
    {
     "data": {
      "text/plain": [
       "'gue'"
      ]
     },
     "execution_count": 85,
     "metadata": {},
     "output_type": "execute_result"
    }
   ],
   "source": [
    "a[0:3] # a[0],a[1],a[2],a[3]이 아니라 a[0],a[1],a[2]까지만 뽑힌다. 즉 마지막의 3은 호출되지 않는다. "
   ]
  },
  {
   "cell_type": "code",
   "execution_count": 86,
   "id": "f52eab36-db11-4b8c-8cd0-1fa742bf806d",
   "metadata": {
    "vscode": {
     "languageId": "python"
    }
   },
   "outputs": [
    {
     "data": {
      "text/plain": [
       "'ue'"
      ]
     },
     "execution_count": 86,
     "metadata": {},
     "output_type": "execute_result"
    }
   ],
   "source": [
    "a[1:3] # a[1], a[2] 만 호출 // start=1,  stop=3 "
   ]
  },
  {
   "cell_type": "markdown",
   "id": "06a7576a-238c-42fd-b350-f75d51d55ebd",
   "metadata": {},
   "source": [
    "index=1부터 시작해서 마지막원소까지 호출하려면? "
   ]
  },
  {
   "cell_type": "code",
   "execution_count": 130,
   "id": "2b0837f3-5cc5-4106-8f47-4bca949b39cd",
   "metadata": {
    "vscode": {
     "languageId": "python"
    }
   },
   "outputs": [
    {
     "data": {
      "text/plain": [
       "'n'"
      ]
     },
     "execution_count": 130,
     "metadata": {},
     "output_type": "execute_result"
    }
   ],
   "source": [
    "a[5] # guebin의 마지막원소 'n'이 출려 "
   ]
  },
  {
   "cell_type": "code",
   "execution_count": 135,
   "id": "1f29ed94-f0b4-4ceb-bfb7-33c9b46efe46",
   "metadata": {
    "vscode": {
     "languageId": "python"
    }
   },
   "outputs": [
    {
     "data": {
      "text/plain": [
       "'uebi'"
      ]
     },
     "execution_count": 135,
     "metadata": {},
     "output_type": "execute_result"
    }
   ],
   "source": [
    "a[1:5] # 5는 포함되지 않으므로 틀림"
   ]
  },
  {
   "cell_type": "code",
   "execution_count": 136,
   "id": "c257d057-f990-4cb4-a899-c9b0f9620dd8",
   "metadata": {
    "vscode": {
     "languageId": "python"
    }
   },
   "outputs": [
    {
     "data": {
      "text/plain": [
       "'uebin'"
      ]
     },
     "execution_count": 136,
     "metadata": {},
     "output_type": "execute_result"
    }
   ],
   "source": [
    "a[1:6] # 정답"
   ]
  },
  {
   "cell_type": "markdown",
   "id": "d16da0d2-b569-4687-baf8-300b63dd1dab",
   "metadata": {},
   "source": [
    "안 헷갈리는 방법은 없을까? "
   ]
  },
  {
   "cell_type": "code",
   "execution_count": 137,
   "id": "7cf78f0c-61c7-4c89-b5b4-e857e7f9727c",
   "metadata": {
    "vscode": {
     "languageId": "python"
    }
   },
   "outputs": [
    {
     "data": {
      "text/plain": [
       "'n'"
      ]
     },
     "execution_count": 137,
     "metadata": {},
     "output_type": "execute_result"
    }
   ],
   "source": [
    "a[-1]"
   ]
  },
  {
   "cell_type": "code",
   "execution_count": 139,
   "id": "74513068-7d82-4cdf-99b1-597da3e1f9e3",
   "metadata": {
    "vscode": {
     "languageId": "python"
    }
   },
   "outputs": [
    {
     "data": {
      "text/plain": [
       "'uebi'"
      ]
     },
     "execution_count": 139,
     "metadata": {},
     "output_type": "execute_result"
    }
   ],
   "source": [
    "a[1:-1] # 이것은 결국 (a[1:5]와 같은 것임) "
   ]
  },
  {
   "cell_type": "markdown",
   "id": "f6e592b5-8dcd-4217-93a1-de0a93623707",
   "metadata": {},
   "source": [
    "해결책? 생략한다!!"
   ]
  },
  {
   "cell_type": "code",
   "execution_count": 140,
   "id": "5dfd8983-22a2-4815-93f9-feffd664d419",
   "metadata": {
    "vscode": {
     "languageId": "python"
    }
   },
   "outputs": [
    {
     "data": {
      "text/plain": [
       "'uebin'"
      ]
     },
     "execution_count": 140,
     "metadata": {},
     "output_type": "execute_result"
    }
   ],
   "source": [
    "a[1:]"
   ]
  },
  {
   "cell_type": "markdown",
   "id": "40fab059-7465-415a-affc-d1451c7a9703",
   "metadata": {},
   "source": [
    "`-` 생략의 응용1"
   ]
  },
  {
   "cell_type": "code",
   "execution_count": 158,
   "id": "eb59f81c-14f5-4436-a49e-765e11bf5340",
   "metadata": {
    "vscode": {
     "languageId": "python"
    }
   },
   "outputs": [
    {
     "data": {
      "text/plain": [
       "'k-pop'"
      ]
     },
     "execution_count": 158,
     "metadata": {},
     "output_type": "execute_result"
    }
   ],
   "source": [
    "a='k-pop' \n",
    "a"
   ]
  },
  {
   "cell_type": "code",
   "execution_count": 159,
   "id": "2e815712-f0be-45c6-b6a8-f1c7be32fd44",
   "metadata": {
    "vscode": {
     "languageId": "python"
    }
   },
   "outputs": [
    {
     "data": {
      "text/plain": [
       "'pop'"
      ]
     },
     "execution_count": 159,
     "metadata": {},
     "output_type": "execute_result"
    }
   ],
   "source": [
    "a[2:5]"
   ]
  },
  {
   "cell_type": "code",
   "execution_count": 160,
   "id": "146a4be3-1ddf-4960-9f27-ccbd11d668c3",
   "metadata": {
    "vscode": {
     "languageId": "python"
    }
   },
   "outputs": [
    {
     "data": {
      "text/plain": [
       "'pop'"
      ]
     },
     "execution_count": 160,
     "metadata": {},
     "output_type": "execute_result"
    }
   ],
   "source": [
    "a[2:]"
   ]
  },
  {
   "cell_type": "markdown",
   "id": "f36fac5e-01e3-484b-b151-53b11d34c50c",
   "metadata": {},
   "source": [
    "`-` 생략의 응용2"
   ]
  },
  {
   "cell_type": "code",
   "execution_count": 161,
   "id": "c5e9e735-6779-45e6-9182-2c9379995a90",
   "metadata": {
    "vscode": {
     "languageId": "python"
    }
   },
   "outputs": [
    {
     "data": {
      "text/plain": [
       "'k-pop'"
      ]
     },
     "execution_count": 161,
     "metadata": {},
     "output_type": "execute_result"
    }
   ],
   "source": [
    "a='k-pop'\n",
    "a"
   ]
  },
  {
   "cell_type": "code",
   "execution_count": 163,
   "id": "f04596ba-da3c-4c83-bc01-bd32c908900e",
   "metadata": {
    "vscode": {
     "languageId": "python"
    }
   },
   "outputs": [
    {
     "data": {
      "text/plain": [
       "'k-'"
      ]
     },
     "execution_count": 163,
     "metadata": {},
     "output_type": "execute_result"
    }
   ],
   "source": [
    "a[0:2] # a[0],a[1]"
   ]
  },
  {
   "cell_type": "code",
   "execution_count": 165,
   "id": "34134516-5d60-4eba-85ce-248e34b30fa8",
   "metadata": {
    "vscode": {
     "languageId": "python"
    }
   },
   "outputs": [
    {
     "data": {
      "text/plain": [
       "'k-'"
      ]
     },
     "execution_count": 165,
     "metadata": {},
     "output_type": "execute_result"
    }
   ],
   "source": [
    "a[:2] # a[0],a[1] "
   ]
  },
  {
   "cell_type": "markdown",
   "id": "fe34e414-f4ca-4e89-8359-d7170bb7305e",
   "metadata": {},
   "source": [
    "`-` 생략의 응용3"
   ]
  },
  {
   "cell_type": "code",
   "execution_count": 166,
   "id": "ab3f8737-c2ce-4d5f-96e3-d3887be51eb8",
   "metadata": {
    "vscode": {
     "languageId": "python"
    }
   },
   "outputs": [
    {
     "data": {
      "text/plain": [
       "'k-pop'"
      ]
     },
     "execution_count": 166,
     "metadata": {},
     "output_type": "execute_result"
    }
   ],
   "source": [
    "a='k-pop'\n",
    "a"
   ]
  },
  {
   "cell_type": "code",
   "execution_count": 170,
   "id": "ed9db11b-1fe8-4e9d-a944-6826b0aaa6bd",
   "metadata": {
    "vscode": {
     "languageId": "python"
    }
   },
   "outputs": [
    {
     "data": {
      "text/plain": [
       "'k-pop'"
      ]
     },
     "execution_count": 170,
     "metadata": {},
     "output_type": "execute_result"
    }
   ],
   "source": [
    "a[0:5] # a[0],...,a[4]"
   ]
  },
  {
   "cell_type": "code",
   "execution_count": 169,
   "id": "2e18f88a-2b29-4cc0-8823-5d2468934d68",
   "metadata": {
    "vscode": {
     "languageId": "python"
    }
   },
   "outputs": [
    {
     "data": {
      "text/plain": [
       "'k-pop'"
      ]
     },
     "execution_count": 169,
     "metadata": {},
     "output_type": "execute_result"
    }
   ],
   "source": [
    "a[:]"
   ]
  },
  {
   "cell_type": "markdown",
   "id": "13ad9a7b-a23f-4d45-86ef-8d6856154b34",
   "metadata": {},
   "source": [
    "## str 특수기능 "
   ]
  },
  {
   "cell_type": "markdown",
   "id": "8223a848-6f68-47d4-ba6c-34fdacf698e3",
   "metadata": {},
   "source": [
    "`-` 파이썬의 변수는 단순히 정보를 담는 그릇이 아니다. 유용한 기능을 제공하는 경우가 있다. "
   ]
  },
  {
   "cell_type": "code",
   "execution_count": 100,
   "id": "b45033df-ce07-4efa-aa3e-751c00fcaed9",
   "metadata": {
    "vscode": {
     "languageId": "python"
    }
   },
   "outputs": [
    {
     "data": {
      "text/plain": [
       "'ABCD'"
      ]
     },
     "execution_count": 100,
     "metadata": {},
     "output_type": "execute_result"
    }
   ],
   "source": [
    "a='ABCD' # a라는 변수는 'ABCD'라는 정보를 담는 그릇의 역할만 하지 않고, 특화된 어떠한 기능도 제공한다. \n",
    "a"
   ]
  },
  {
   "cell_type": "code",
   "execution_count": 101,
   "id": "19b61e32-790a-4f57-906b-8afef7b6e1af",
   "metadata": {
    "vscode": {
     "languageId": "python"
    }
   },
   "outputs": [
    {
     "data": {
      "text/plain": [
       "'abcd'"
      ]
     },
     "execution_count": 101,
     "metadata": {},
     "output_type": "execute_result"
    }
   ],
   "source": [
    "a.lower() # a.lower()를 쓰면 a의 모든 문자를 소문자로 바꾸는 기능을 제공, lower(a)라고 읽자!"
   ]
  },
  {
   "cell_type": "markdown",
   "id": "708c9856-4875-4f20-ad07-98554f383c5b",
   "metadata": {},
   "source": [
    "여기에서 lower()는 문자열에 특화된 기능임. 따라서 당연히 아래는 불가능 "
   ]
  },
  {
   "cell_type": "code",
   "execution_count": 194,
   "id": "9074e731-45f9-4812-9c77-503595af8690",
   "metadata": {
    "vscode": {
     "languageId": "python"
    }
   },
   "outputs": [
    {
     "ename": "AttributeError",
     "evalue": "'float' object has no attribute 'lower'",
     "output_type": "error",
     "traceback": [
      "\u001b[0;31m---------------------------------------------------------------------------\u001b[0m",
      "\u001b[0;31mAttributeError\u001b[0m                            Traceback (most recent call last)",
      "Input \u001b[0;32mIn [194]\u001b[0m, in \u001b[0;36m<module>\u001b[0;34m\u001b[0m\n\u001b[1;32m      1\u001b[0m a\u001b[38;5;241m=\u001b[39m\u001b[38;5;241m3.14\u001b[39m\n\u001b[0;32m----> 2\u001b[0m \u001b[43ma\u001b[49m\u001b[38;5;241;43m.\u001b[39;49m\u001b[43mlower\u001b[49m()\n",
      "\u001b[0;31mAttributeError\u001b[0m: 'float' object has no attribute 'lower'"
     ]
    }
   ],
   "source": [
    "a=3.14\n",
    "a.lower() # lower(a)"
   ]
  },
  {
   "cell_type": "markdown",
   "id": "c81ff3b4-e889-4a8d-a677-e4c853ffbe03",
   "metadata": {},
   "source": [
    "`-` 자료형에 특화된 기능(=함수)을 확인하는 방법? `a.`+ `tab` 으로 목록 확인 가능 "
   ]
  },
  {
   "cell_type": "code",
   "execution_count": 195,
   "id": "248dfbd7-609f-4cc5-9fb9-7166cb13b958",
   "metadata": {
    "vscode": {
     "languageId": "python"
    }
   },
   "outputs": [],
   "source": [
    "a='guebin'"
   ]
  },
  {
   "cell_type": "code",
   "execution_count": 191,
   "id": "bf12474f-2a62-4d1f-b072-ab143ef3f517",
   "metadata": {
    "vscode": {
     "languageId": "python"
    }
   },
   "outputs": [
    {
     "data": {
      "text/plain": [
       "\u001b[0;31mSignature:\u001b[0m \u001b[0ma\u001b[0m\u001b[0;34m.\u001b[0m\u001b[0mupper\u001b[0m\u001b[0;34m(\u001b[0m\u001b[0;34m)\u001b[0m\u001b[0;34m\u001b[0m\u001b[0;34m\u001b[0m\u001b[0m\n",
       "\u001b[0;31mDocstring:\u001b[0m Return a copy of the string converted to uppercase.\n",
       "\u001b[0;31mType:\u001b[0m      builtin_function_or_method\n"
      ]
     },
     "metadata": {},
     "output_type": "display_data"
    }
   ],
   "source": [
    "a.upper?"
   ]
  },
  {
   "cell_type": "code",
   "execution_count": 192,
   "id": "24a46a31-3037-462e-a34e-fd7af699bc0b",
   "metadata": {
    "vscode": {
     "languageId": "python"
    }
   },
   "outputs": [
    {
     "data": {
      "text/plain": [
       "'GUEBIN'"
      ]
     },
     "execution_count": 192,
     "metadata": {},
     "output_type": "execute_result"
    }
   ],
   "source": [
    "a.upper() # upper(a) "
   ]
  },
  {
   "cell_type": "code",
   "execution_count": 193,
   "id": "3f2ff03e-1d40-4b81-8f96-e958e71a9772",
   "metadata": {
    "vscode": {
     "languageId": "python"
    }
   },
   "outputs": [
    {
     "data": {
      "text/plain": [
       "'Guebin'"
      ]
     },
     "execution_count": 193,
     "metadata": {},
     "output_type": "execute_result"
    }
   ],
   "source": [
    "a.capitalize() # capitalize(a) "
   ]
  },
  {
   "cell_type": "markdown",
   "id": "22812a1f-14bf-4a74-8108-496cc1d87dc8",
   "metadata": {},
   "source": [
    "`-` 문자열에 대한 다른 내용들은 추후에 다루겠음. "
   ]
  },
  {
   "cell_type": "markdown",
   "id": "10dc637b-679f-4e79-9c95-b20f81ecbcde",
   "metadata": {},
   "source": [
    "`-` 마음의눈: `a.f()` 형태를 읽는 팁\n",
    "- `a.f()`는 `f(a)`로 생각하면 편리함. \n",
    "- `a.f(2)`는 `f(a,2)`로 생각하면 편리함. \n",
    "- 이런점에서 R `%>%` 연산자와 비슷하다고 생각할 수 있다. (약간 다르긴함) "
   ]
  },
  {
   "cell_type": "markdown",
   "id": "4d5266c2-0e24-4788-908f-eeb751cd1ada",
   "metadata": {},
   "source": [
    "`-` 사실 `.`은 좀 더 다양한 상황에서 쓰일 수 있다. `변수이름.함수이름()` 의 형태가 아니라 \n",
    "- `패지키이름.함수이름()`\n",
    "- `패키지이름.변수이름` \n",
    "- `패키지이름.패키지이름.함수이름()` \n",
    "- ... \n",
    "\n",
    "와 같이 다양한 형태가 가능하다. 근본적인 공통점은 `.`을 기준으로 `상위개념.하위개념` 으로 이해하는 것이 좋다. "
   ]
  },
  {
   "cell_type": "markdown",
   "id": "872dcf2c-4fbe-4895-860b-fc25b793ab9e",
   "metadata": {},
   "source": [
    "***0차원 vs 1차원***"
   ]
  },
  {
   "cell_type": "markdown",
   "id": "2c64fb07-5589-46ad-961d-557f58fada58",
   "metadata": {},
   "source": [
    "`-` `len`함수 소개: 원소의 갯수를 알려주는 함수. "
   ]
  },
  {
   "cell_type": "markdown",
   "id": "e307c4ac-231e-4679-a8c7-a1ac5bc8903f",
   "metadata": {},
   "source": [
    "(0차원) `len` 함수가 동작하지 않음."
   ]
  },
  {
   "cell_type": "code",
   "execution_count": 196,
   "id": "5d0f8ef8-3fc1-44b7-b41e-945db3ca4088",
   "metadata": {
    "vscode": {
     "languageId": "python"
    }
   },
   "outputs": [],
   "source": [
    "a=3.14"
   ]
  },
  {
   "cell_type": "code",
   "execution_count": 197,
   "id": "adb34083-b7d2-44b9-9a96-0614ac798ebc",
   "metadata": {
    "vscode": {
     "languageId": "python"
    }
   },
   "outputs": [
    {
     "ename": "TypeError",
     "evalue": "object of type 'float' has no len()",
     "output_type": "error",
     "traceback": [
      "\u001b[0;31m---------------------------------------------------------------------------\u001b[0m",
      "\u001b[0;31mTypeError\u001b[0m                                 Traceback (most recent call last)",
      "Input \u001b[0;32mIn [197]\u001b[0m, in \u001b[0;36m<module>\u001b[0;34m\u001b[0m\n\u001b[0;32m----> 1\u001b[0m \u001b[38;5;28;43mlen\u001b[39;49m\u001b[43m(\u001b[49m\u001b[43ma\u001b[49m\u001b[43m)\u001b[49m\n",
      "\u001b[0;31mTypeError\u001b[0m: object of type 'float' has no len()"
     ]
    }
   ],
   "source": [
    "len(a)"
   ]
  },
  {
   "cell_type": "code",
   "execution_count": 200,
   "id": "c96578e4-3546-41c1-b8b5-05b46ff53e90",
   "metadata": {
    "vscode": {
     "languageId": "python"
    }
   },
   "outputs": [],
   "source": [
    "b=True"
   ]
  },
  {
   "cell_type": "code",
   "execution_count": 201,
   "id": "a45754ff-4b7b-42ea-a87c-02555991a0b9",
   "metadata": {
    "vscode": {
     "languageId": "python"
    }
   },
   "outputs": [
    {
     "ename": "TypeError",
     "evalue": "object of type 'bool' has no len()",
     "output_type": "error",
     "traceback": [
      "\u001b[0;31m---------------------------------------------------------------------------\u001b[0m",
      "\u001b[0;31mTypeError\u001b[0m                                 Traceback (most recent call last)",
      "Input \u001b[0;32mIn [201]\u001b[0m, in \u001b[0;36m<module>\u001b[0;34m\u001b[0m\n\u001b[0;32m----> 1\u001b[0m \u001b[38;5;28;43mlen\u001b[39;49m\u001b[43m(\u001b[49m\u001b[43mb\u001b[49m\u001b[43m)\u001b[49m\n",
      "\u001b[0;31mTypeError\u001b[0m: object of type 'bool' has no len()"
     ]
    }
   ],
   "source": [
    "len(b)"
   ]
  },
  {
   "cell_type": "markdown",
   "id": "aa5de9cb-d4ff-4bbe-9806-9a6c53963bd5",
   "metadata": {},
   "source": [
    "(1차원) `len` 함수가 잘 동작함. "
   ]
  },
  {
   "cell_type": "code",
   "execution_count": 198,
   "id": "c3b6669c-00f7-4e2a-91c9-0ca39c3f9dcf",
   "metadata": {
    "vscode": {
     "languageId": "python"
    }
   },
   "outputs": [
    {
     "data": {
      "text/plain": [
       "4"
      ]
     },
     "execution_count": 198,
     "metadata": {},
     "output_type": "execute_result"
    }
   ],
   "source": [
    "a='3.14'\n",
    "len(a)"
   ]
  },
  {
   "cell_type": "code",
   "execution_count": 202,
   "id": "b35bbb11-f777-40d6-94f8-906260e322a9",
   "metadata": {
    "vscode": {
     "languageId": "python"
    }
   },
   "outputs": [],
   "source": [
    "b=[1,2,3]"
   ]
  },
  {
   "cell_type": "code",
   "execution_count": 203,
   "id": "31bd57fe-c309-4dcb-8d04-2313b1880426",
   "metadata": {
    "vscode": {
     "languageId": "python"
    }
   },
   "outputs": [
    {
     "data": {
      "text/plain": [
       "3"
      ]
     },
     "execution_count": 203,
     "metadata": {},
     "output_type": "execute_result"
    }
   ],
   "source": [
    "len(b)"
   ]
  },
  {
   "cell_type": "markdown",
   "id": "0d0de65c-8764-4836-9e0f-0b2a7e9e1998",
   "metadata": {},
   "source": [
    "***Quiz***"
   ]
  },
  {
   "cell_type": "markdown",
   "id": "fa8ad437-0dee-4aec-ba39-7bf95102f0d6",
   "metadata": {},
   "source": [
    "본인이름으로 str을 생성 \n",
    "\n",
    "- 성만 출력 \n",
    "- 이름만 출력"
   ]
  },
  {
   "cell_type": "markdown",
   "id": "4503934b-9ed7-4793-93c8-d702ffe1aae2",
   "metadata": {},
   "source": [
    "(예시) "
   ]
  },
  {
   "cell_type": "code",
   "execution_count": 205,
   "id": "e7a1a274-1473-483f-a2f4-d5df64871f53",
   "metadata": {
    "vscode": {
     "languageId": "python"
    }
   },
   "outputs": [],
   "source": [
    "a='GuebinChoi'"
   ]
  },
  {
   "cell_type": "code",
   "execution_count": 207,
   "id": "bbdee145-7c28-46d9-ba83-48d0cda7fa5a",
   "metadata": {
    "vscode": {
     "languageId": "python"
    }
   },
   "outputs": [
    {
     "data": {
      "text/plain": [
       "'Guebin'"
      ]
     },
     "execution_count": 207,
     "metadata": {},
     "output_type": "execute_result"
    }
   ],
   "source": [
    "a[:6]"
   ]
  },
  {
   "cell_type": "code",
   "execution_count": 208,
   "id": "36bcafd4-b2c6-499a-b2a6-d3f68ff4c581",
   "metadata": {
    "vscode": {
     "languageId": "python"
    }
   },
   "outputs": [
    {
     "data": {
      "text/plain": [
       "'Choi'"
      ]
     },
     "execution_count": 208,
     "metadata": {},
     "output_type": "execute_result"
    }
   ],
   "source": [
    "a[6:]"
   ]
  },
  {
   "cell_type": "markdown",
   "id": "fcae94a1-8cef-470f-bf8e-be9c625cb38b",
   "metadata": {},
   "source": [
    "# 강의영상 "
   ]
  },
  {
   "cell_type": "markdown",
   "id": "b9327d03-e672-4177-a969-d7527e9488c3",
   "metadata": {
    "id": "limiting-attitude"
   },
   "source": [
    "# 파이썬 교재"
   ]
  },
  {
   "cell_type": "markdown",
   "id": "f5d0348d-fc6a-4e8c-bc4a-0d3dcae8e2f5",
   "metadata": {
    "id": "personalized-inspiration"
   },
   "source": [
    "`-` 전자교재\n",
    "\n",
    "- https://docs.python.org/3.9/tutorial/index.html\n",
    "- https://wikidocs.net/book/1\n",
    "- https://jakevdp.github.io/PythonDataScienceHandbook/"
   ]
  },
  {
   "cell_type": "markdown",
   "id": "4a9f3bec-a50c-4144-a966-d0783fd7ddc9",
   "metadata": {},
   "source": [
    "`-` 종이책\n",
    "\n",
    "- 효율적 개발로 이끄는 파이썬 실천 기술\n",
    "- Learning python: powerful object-oriented programming\n",
    "- 전문가를 위한 파이썬 : 파이썬3 버전 기준 | 간단하고, 명료하고, 효율적인 파이썬 프로그래밍"
   ]
  },
  {
   "cell_type": "markdown",
   "id": "e2eb412b-f864-4bcc-b7bf-63bf9ef05c81",
   "metadata": {},
   "source": [
    "# 주피터노트북, 주피터랩"
   ]
  },
  {
   "cell_type": "markdown",
   "id": "603e7772-c842-4a4f-9689-8b3bd43abced",
   "metadata": {},
   "source": [
    "`-` interactive notebook이 아니다. "
   ]
  },
  {
   "cell_type": "code",
   "execution_count": 9,
   "id": "c4894e2b-9818-43e6-b8a5-ec0b12116a9f",
   "metadata": {},
   "outputs": [
    {
     "data": {
      "text/plain": [
       "3"
      ]
     },
     "execution_count": 9,
     "metadata": {},
     "output_type": "execute_result"
    }
   ],
   "source": [
    "a=3\n",
    "a"
   ]
  },
  {
   "cell_type": "code",
   "execution_count": 10,
   "id": "d81a6529-5f81-4884-9237-4e459e09f8d4",
   "metadata": {},
   "outputs": [
    {
     "data": {
      "text/plain": [
       "3"
      ]
     },
     "execution_count": 10,
     "metadata": {},
     "output_type": "execute_result"
    }
   ],
   "source": [
    "b=3\n",
    "b"
   ]
  },
  {
   "cell_type": "code",
   "execution_count": 5,
   "id": "6325c722-0fa6-4a8c-8db6-2b20f70729db",
   "metadata": {},
   "outputs": [
    {
     "data": {
      "text/plain": [
       "5"
      ]
     },
     "execution_count": 5,
     "metadata": {},
     "output_type": "execute_result"
    }
   ],
   "source": [
    "a+b"
   ]
  },
  {
   "cell_type": "markdown",
   "id": "455b5b9f-5f31-4713-8be7-d1aab28e1e37",
   "metadata": {},
   "source": [
    "`-` 주피터랩: 주피터노트북의 확장버전 \n",
    "- 저는 주피터랩을 더 선호합니다.\n",
    "- 그런데 주피터노트북을 쓸 경우도 있음. "
   ]
  },
  {
   "cell_type": "markdown",
   "id": "687222b1-8215-4fd5-9390-76965eb62084",
   "metadata": {},
   "source": [
    "`-` 마크다운모드(글쓰기모드), 코드모드(프로그래밍모드)"
   ]
  },
  {
   "cell_type": "markdown",
   "id": "18960180-057d-4150-ba06-4e1673baef7c",
   "metadata": {},
   "source": [
    "# 파이썬의 자료형 Intro "
   ]
  },
  {
   "cell_type": "markdown",
   "id": "626b2513-c46e-443b-8ea1-891f220bbd43",
   "metadata": {},
   "source": [
    "`-` 파이썬의 기본자료형은 int, float, bool, str, list, tuple, dict, set 등이 있다.\n",
    "\n",
    "- 0차원 자료형: int, float, bool \n",
    "- 1차원 자료형: str, list, tuple, dict, set"
   ]
  },
  {
   "cell_type": "markdown",
   "id": "fcb29942-19b4-47d5-9add-84ccf1245d8c",
   "metadata": {},
   "source": [
    "# int, float, bool "
   ]
  },
  {
   "cell_type": "markdown",
   "id": "f9f1403b-6716-43dd-a2c8-1cd384fdcf57",
   "metadata": {},
   "source": [
    "`-` int형 "
   ]
  },
  {
   "cell_type": "code",
   "execution_count": 14,
   "id": "8874f8f7-b2ad-4ebb-99fd-163775d6cf71",
   "metadata": {
    "vscode": {
     "languageId": "python"
    }
   },
   "outputs": [],
   "source": [
    "a=100"
   ]
  },
  {
   "cell_type": "code",
   "execution_count": 15,
   "id": "26dd1068-4c64-43eb-85fd-57e6bde66589",
   "metadata": {
    "vscode": {
     "languageId": "python"
    }
   },
   "outputs": [
    {
     "data": {
      "text/plain": [
       "int"
      ]
     },
     "execution_count": 15,
     "metadata": {},
     "output_type": "execute_result"
    }
   ],
   "source": [
    "type(a)"
   ]
  },
  {
   "cell_type": "markdown",
   "id": "cf943812-31cc-43e2-a2e7-a147da80f061",
   "metadata": {},
   "source": [
    "`-` float형 "
   ]
  },
  {
   "cell_type": "code",
   "execution_count": 7,
   "id": "a4c742e8-fc75-4514-a57e-fc3d0fef9ae3",
   "metadata": {
    "vscode": {
     "languageId": "python"
    }
   },
   "outputs": [
    {
     "data": {
      "text/plain": [
       "3.5999999999999996"
      ]
     },
     "execution_count": 7,
     "metadata": {},
     "output_type": "execute_result"
    }
   ],
   "source": [
    "a=1.2*3\n",
    "a"
   ]
  },
  {
   "cell_type": "code",
   "execution_count": 19,
   "id": "2095d5b9-c838-41c8-81f9-f34a21d0cdd4",
   "metadata": {
    "vscode": {
     "languageId": "python"
    }
   },
   "outputs": [
    {
     "data": {
      "text/plain": [
       "float"
      ]
     },
     "execution_count": 19,
     "metadata": {},
     "output_type": "execute_result"
    }
   ],
   "source": [
    "type(a)"
   ]
  },
  {
   "cell_type": "code",
   "execution_count": 20,
   "id": "93dfc11d-d3fe-4938-ae76-c6fa0f7b3529",
   "metadata": {
    "vscode": {
     "languageId": "python"
    }
   },
   "outputs": [
    {
     "data": {
      "text/plain": [
       "\u001b[0;31mType:\u001b[0m        float\n",
       "\u001b[0;31mString form:\u001b[0m 3.5999999999999996\n",
       "\u001b[0;31mDocstring:\u001b[0m   Convert a string or number to a floating point number, if possible.\n"
      ]
     },
     "metadata": {},
     "output_type": "display_data"
    }
   ],
   "source": [
    "a?"
   ]
  },
  {
   "cell_type": "markdown",
   "id": "9e52a702-9557-44b7-8d53-ddf29cb090b9",
   "metadata": {},
   "source": [
    "`-` bool형 "
   ]
  },
  {
   "cell_type": "code",
   "execution_count": 52,
   "id": "d25c236a-9c06-4cdf-a07e-565b5722ffc4",
   "metadata": {
    "vscode": {
     "languageId": "python"
    }
   },
   "outputs": [],
   "source": [
    "a=True ## 숫자1으로 생각할 수 있음 \n",
    "b=False ## 숫자0으로 생각할 수 있음"
   ]
  },
  {
   "cell_type": "code",
   "execution_count": 24,
   "id": "a5b4da36-3c35-4c19-8d55-8f59d0dc5696",
   "metadata": {
    "vscode": {
     "languageId": "python"
    }
   },
   "outputs": [
    {
     "data": {
      "text/plain": [
       "bool"
      ]
     },
     "execution_count": 24,
     "metadata": {},
     "output_type": "execute_result"
    }
   ],
   "source": [
    "type(a)"
   ]
  },
  {
   "cell_type": "code",
   "execution_count": 25,
   "id": "ba5b3bd7-d09c-4099-89d2-24d44faddae0",
   "metadata": {
    "vscode": {
     "languageId": "python"
    }
   },
   "outputs": [
    {
     "data": {
      "text/plain": [
       "bool"
      ]
     },
     "execution_count": 25,
     "metadata": {},
     "output_type": "execute_result"
    }
   ],
   "source": [
    "type(b)"
   ]
  },
  {
   "cell_type": "code",
   "execution_count": 27,
   "id": "6ac670f1-9160-4a46-a72b-6cf571a2e513",
   "metadata": {
    "vscode": {
     "languageId": "python"
    }
   },
   "outputs": [
    {
     "data": {
      "text/plain": [
       "\u001b[0;31mType:\u001b[0m        bool\n",
       "\u001b[0;31mString form:\u001b[0m True\n",
       "\u001b[0;31mDocstring:\u001b[0m  \n",
       "bool(x) -> bool\n",
       "\n",
       "Returns True when the argument x is true, False otherwise.\n",
       "The builtins True and False are the only two instances of the class bool.\n",
       "The class bool is a subclass of the class int, and cannot be subclassed.\n"
      ]
     },
     "metadata": {},
     "output_type": "display_data"
    }
   ],
   "source": [
    "a?"
   ]
  },
  {
   "cell_type": "code",
   "execution_count": 28,
   "id": "a889ca3f-451a-44cc-90c3-e9ace1d9a285",
   "metadata": {
    "vscode": {
     "languageId": "python"
    }
   },
   "outputs": [
    {
     "data": {
      "text/plain": [
       "\u001b[0;31mType:\u001b[0m        bool\n",
       "\u001b[0;31mString form:\u001b[0m False\n",
       "\u001b[0;31mDocstring:\u001b[0m  \n",
       "bool(x) -> bool\n",
       "\n",
       "Returns True when the argument x is true, False otherwise.\n",
       "The builtins True and False are the only two instances of the class bool.\n",
       "The class bool is a subclass of the class int, and cannot be subclassed.\n"
      ]
     },
     "metadata": {},
     "output_type": "display_data"
    }
   ],
   "source": [
    "b?"
   ]
  },
  {
   "cell_type": "markdown",
   "id": "a87bce05-f6e7-4019-8f22-93d566df50e6",
   "metadata": {},
   "source": [
    "`-` bool형의 연산 "
   ]
  },
  {
   "cell_type": "code",
   "execution_count": 15,
   "id": "a38f95ce-cabf-4f3d-b2ff-efb0c2c6d364",
   "metadata": {
    "vscode": {
     "languageId": "python"
    }
   },
   "outputs": [],
   "source": [
    "a=True ## 1\n",
    "b=False ## 0 "
   ]
  },
  {
   "cell_type": "code",
   "execution_count": 66,
   "id": "a03456c6-04f4-49cb-99d8-ee2b92e24389",
   "metadata": {
    "vscode": {
     "languageId": "python"
    }
   },
   "outputs": [
    {
     "data": {
      "text/plain": [
       "1"
      ]
     },
     "execution_count": 66,
     "metadata": {},
     "output_type": "execute_result"
    }
   ],
   "source": [
    "a+b"
   ]
  },
  {
   "cell_type": "code",
   "execution_count": 67,
   "id": "ae6d77da-1e5e-4186-a7fa-191b49919fb7",
   "metadata": {
    "vscode": {
     "languageId": "python"
    }
   },
   "outputs": [
    {
     "data": {
      "text/plain": [
       "0"
      ]
     },
     "execution_count": 67,
     "metadata": {},
     "output_type": "execute_result"
    }
   ],
   "source": [
    "a*b "
   ]
  },
  {
   "cell_type": "markdown",
   "id": "efcf2ba3-2a03-4405-911d-40440ab16a1f",
   "metadata": {},
   "source": [
    "`-` complex형 "
   ]
  },
  {
   "cell_type": "code",
   "execution_count": 20,
   "id": "fb128d44-433b-44f7-b86d-e2836ad01d9d",
   "metadata": {
    "vscode": {
     "languageId": "python"
    }
   },
   "outputs": [],
   "source": [
    "a=1+2j\n",
    "b=2-2j"
   ]
  },
  {
   "cell_type": "code",
   "execution_count": 21,
   "id": "66734028-c38c-4d99-aa2e-86089b0f155d",
   "metadata": {
    "vscode": {
     "languageId": "python"
    }
   },
   "outputs": [
    {
     "data": {
      "text/plain": [
       "complex"
      ]
     },
     "execution_count": 21,
     "metadata": {},
     "output_type": "execute_result"
    }
   ],
   "source": [
    "type(a)"
   ]
  },
  {
   "cell_type": "code",
   "execution_count": 22,
   "id": "599ecbc0-f951-4a01-931e-97619dd03532",
   "metadata": {
    "vscode": {
     "languageId": "python"
    }
   },
   "outputs": [
    {
     "data": {
      "text/plain": [
       "complex"
      ]
     },
     "execution_count": 22,
     "metadata": {},
     "output_type": "execute_result"
    }
   ],
   "source": [
    "type(b)"
   ]
  },
  {
   "cell_type": "code",
   "execution_count": 23,
   "id": "c893c3b4-754b-4a5b-9144-b1f616ba8e4b",
   "metadata": {
    "vscode": {
     "languageId": "python"
    }
   },
   "outputs": [
    {
     "data": {
      "text/plain": [
       "\u001b[0;31mType:\u001b[0m        complex\n",
       "\u001b[0;31mString form:\u001b[0m (1+2j)\n",
       "\u001b[0;31mDocstring:\u001b[0m  \n",
       "Create a complex number from a real part and an optional imaginary part.\n",
       "\n",
       "This is equivalent to (real + imag*1j) where imag defaults to 0.\n"
      ]
     },
     "metadata": {},
     "output_type": "display_data"
    }
   ],
   "source": [
    "a?"
   ]
  },
  {
   "cell_type": "code",
   "execution_count": 24,
   "id": "2a8d9fef-506a-42a9-bde6-637fa0fb7cb3",
   "metadata": {
    "vscode": {
     "languageId": "python"
    }
   },
   "outputs": [
    {
     "data": {
      "text/plain": [
       "\u001b[0;31mType:\u001b[0m        complex\n",
       "\u001b[0;31mString form:\u001b[0m (2-2j)\n",
       "\u001b[0;31mDocstring:\u001b[0m  \n",
       "Create a complex number from a real part and an optional imaginary part.\n",
       "\n",
       "This is equivalent to (real + imag*1j) where imag defaults to 0.\n"
      ]
     },
     "metadata": {},
     "output_type": "display_data"
    }
   ],
   "source": [
    "b?"
   ]
  },
  {
   "cell_type": "code",
   "execution_count": 25,
   "id": "70522b97-06f1-407a-831a-ca78b98b3667",
   "metadata": {
    "vscode": {
     "languageId": "python"
    }
   },
   "outputs": [],
   "source": [
    "c=a+b"
   ]
  },
  {
   "cell_type": "code",
   "execution_count": 26,
   "id": "b380a969-b214-4aac-9c4f-1e84513e44f5",
   "metadata": {
    "vscode": {
     "languageId": "python"
    }
   },
   "outputs": [
    {
     "data": {
      "text/plain": [
       "(3+0j)"
      ]
     },
     "execution_count": 26,
     "metadata": {},
     "output_type": "execute_result"
    }
   ],
   "source": [
    "c"
   ]
  },
  {
   "cell_type": "markdown",
   "id": "1538af08-c0f3-4966-9437-ad5ffbd3357d",
   "metadata": {},
   "source": [
    "`-` 형태변환: float $\\to$ int "
   ]
  },
  {
   "cell_type": "markdown",
   "id": "0bd9f8f3-5d27-4876-b486-a7621fa661f0",
   "metadata": {},
   "source": [
    "(예시1)"
   ]
  },
  {
   "cell_type": "code",
   "execution_count": 27,
   "id": "354f9f5c-526f-49da-b882-54afd6b42f6b",
   "metadata": {
    "vscode": {
     "languageId": "python"
    }
   },
   "outputs": [
    {
     "data": {
      "text/plain": [
       "float"
      ]
     },
     "execution_count": 27,
     "metadata": {},
     "output_type": "execute_result"
    }
   ],
   "source": [
    "a=3.0\n",
    "type(a)"
   ]
  },
  {
   "cell_type": "code",
   "execution_count": 28,
   "id": "c38e58ea-e012-4ded-ae99-50da01d2c548",
   "metadata": {
    "vscode": {
     "languageId": "python"
    }
   },
   "outputs": [],
   "source": [
    "a=int(a)"
   ]
  },
  {
   "cell_type": "code",
   "execution_count": 29,
   "id": "6e258d19-8e1d-4283-91ef-e302767437d1",
   "metadata": {
    "vscode": {
     "languageId": "python"
    }
   },
   "outputs": [
    {
     "data": {
      "text/plain": [
       "int"
      ]
     },
     "execution_count": 29,
     "metadata": {},
     "output_type": "execute_result"
    }
   ],
   "source": [
    "type(a)"
   ]
  },
  {
   "cell_type": "markdown",
   "id": "1f3f67af-581a-43de-9032-7af4b8b895d4",
   "metadata": {},
   "source": [
    "(예시2) 이경우는 정보의 손실이 발생 "
   ]
  },
  {
   "cell_type": "code",
   "execution_count": 30,
   "id": "7c197690-9cc0-44ae-b01f-2a4bb245c04c",
   "metadata": {
    "vscode": {
     "languageId": "python"
    }
   },
   "outputs": [
    {
     "data": {
      "text/plain": [
       "3"
      ]
     },
     "execution_count": 30,
     "metadata": {},
     "output_type": "execute_result"
    }
   ],
   "source": [
    "a=3.14 \n",
    "int(a)"
   ]
  },
  {
   "cell_type": "markdown",
   "id": "7e8a04b3-98f8-4c94-8398-af11947ebea2",
   "metadata": {},
   "source": [
    "`-` 형태변환: int $\\to$ float"
   ]
  },
  {
   "cell_type": "code",
   "execution_count": 39,
   "id": "71d0366f-7c0b-4107-a7ac-54f3c926fc15",
   "metadata": {
    "vscode": {
     "languageId": "python"
    }
   },
   "outputs": [
    {
     "data": {
      "text/plain": [
       "int"
      ]
     },
     "execution_count": 39,
     "metadata": {},
     "output_type": "execute_result"
    }
   ],
   "source": [
    "a=3\n",
    "type(a)"
   ]
  },
  {
   "cell_type": "code",
   "execution_count": 40,
   "id": "47edd1dd-ef4f-4d13-865b-4b1471635eaa",
   "metadata": {
    "vscode": {
     "languageId": "python"
    }
   },
   "outputs": [
    {
     "data": {
      "text/plain": [
       "float"
      ]
     },
     "execution_count": 40,
     "metadata": {},
     "output_type": "execute_result"
    }
   ],
   "source": [
    "a=float(a)\n",
    "type(a)"
   ]
  },
  {
   "cell_type": "markdown",
   "id": "a9038b00-5b15-492f-bf71-98390801d2d3",
   "metadata": {},
   "source": [
    "`-` 형태변환: bool $\\to$ int/float, int/float $\\to$ bool "
   ]
  },
  {
   "cell_type": "markdown",
   "id": "8803f123-52d7-4ecc-a49c-7749dcfda499",
   "metadata": {},
   "source": [
    "(예시1)"
   ]
  },
  {
   "cell_type": "code",
   "execution_count": 41,
   "id": "e4dd152c-8ba8-4ddc-a64b-873cdb59e08b",
   "metadata": {
    "vscode": {
     "languageId": "python"
    }
   },
   "outputs": [
    {
     "data": {
      "text/plain": [
       "bool"
      ]
     },
     "execution_count": 41,
     "metadata": {},
     "output_type": "execute_result"
    }
   ],
   "source": [
    "a=True\n",
    "type(a)"
   ]
  },
  {
   "cell_type": "code",
   "execution_count": 42,
   "id": "01dcd839-acd0-4bc3-a062-d6fd1d12dd36",
   "metadata": {
    "vscode": {
     "languageId": "python"
    }
   },
   "outputs": [
    {
     "data": {
      "text/plain": [
       "1"
      ]
     },
     "execution_count": 42,
     "metadata": {},
     "output_type": "execute_result"
    }
   ],
   "source": [
    "int(a)"
   ]
  },
  {
   "cell_type": "code",
   "execution_count": 43,
   "id": "b09e6c86-a9d2-4fdf-b0ef-3bd0e7f5c5e2",
   "metadata": {
    "vscode": {
     "languageId": "python"
    }
   },
   "outputs": [
    {
     "data": {
      "text/plain": [
       "1.0"
      ]
     },
     "execution_count": 43,
     "metadata": {},
     "output_type": "execute_result"
    }
   ],
   "source": [
    "float(a)"
   ]
  },
  {
   "cell_type": "markdown",
   "id": "b1baf47d-2d37-4c09-bb8b-1d7707ba7c4d",
   "metadata": {},
   "source": [
    "(예시2)"
   ]
  },
  {
   "cell_type": "code",
   "execution_count": 59,
   "id": "cb565eee-c0b2-4e49-98ca-2b6dea582084",
   "metadata": {
    "vscode": {
     "languageId": "python"
    }
   },
   "outputs": [
    {
     "data": {
      "text/plain": [
       "True"
      ]
     },
     "execution_count": 59,
     "metadata": {},
     "output_type": "execute_result"
    }
   ],
   "source": [
    "a=1 \n",
    "bool(a)"
   ]
  },
  {
   "cell_type": "code",
   "execution_count": 60,
   "id": "ab530653-fdde-48b1-86c6-2718437a7fd3",
   "metadata": {
    "vscode": {
     "languageId": "python"
    }
   },
   "outputs": [
    {
     "data": {
      "text/plain": [
       "False"
      ]
     },
     "execution_count": 60,
     "metadata": {},
     "output_type": "execute_result"
    }
   ],
   "source": [
    "a=0\n",
    "bool(a)"
   ]
  },
  {
   "cell_type": "markdown",
   "id": "b89298b6-ca99-403b-8c4e-ab00ff8fe272",
   "metadata": {},
   "source": [
    "(예시3)"
   ]
  },
  {
   "cell_type": "code",
   "execution_count": 61,
   "id": "58c8076e-c6df-4798-917f-88e18738c38d",
   "metadata": {
    "vscode": {
     "languageId": "python"
    }
   },
   "outputs": [
    {
     "data": {
      "text/plain": [
       "True"
      ]
     },
     "execution_count": 61,
     "metadata": {},
     "output_type": "execute_result"
    }
   ],
   "source": [
    "a=1.0\n",
    "bool(a)"
   ]
  },
  {
   "cell_type": "code",
   "execution_count": 62,
   "id": "dc3a2198-191a-4e93-b0cd-19c94e767934",
   "metadata": {
    "vscode": {
     "languageId": "python"
    }
   },
   "outputs": [
    {
     "data": {
      "text/plain": [
       "False"
      ]
     },
     "execution_count": 62,
     "metadata": {},
     "output_type": "execute_result"
    }
   ],
   "source": [
    "a=0.0\n",
    "bool(a)"
   ]
  },
  {
   "cell_type": "markdown",
   "id": "37cfe879-567f-4d0a-9128-2007fdb5f48c",
   "metadata": {},
   "source": [
    "`-` 이상한 형태변환도 가능하다. (이런것도 바꿔주나 싶은것도 바꿔줌) "
   ]
  },
  {
   "cell_type": "code",
   "execution_count": 75,
   "id": "d316114c-ffbd-434d-845f-fcd8fbbf7b81",
   "metadata": {
    "vscode": {
     "languageId": "python"
    }
   },
   "outputs": [
    {
     "data": {
      "text/plain": [
       "True"
      ]
     },
     "execution_count": 75,
     "metadata": {},
     "output_type": "execute_result"
    }
   ],
   "source": [
    "bool(-3.14)"
   ]
  },
  {
   "cell_type": "markdown",
   "id": "1fdb5645-ea4d-4e45-a859-3de75f313cb7",
   "metadata": {},
   "source": [
    "- 저는 이런 코드를 의도적으로 사용하지 않아요.. "
   ]
  },
  {
   "cell_type": "code",
   "execution_count": 74,
   "id": "b0b161a3-f7cd-417e-b4bf-752189c90d7b",
   "metadata": {
    "vscode": {
     "languageId": "python"
    }
   },
   "outputs": [
    {
     "data": {
      "text/plain": [
       "3"
      ]
     },
     "execution_count": 74,
     "metadata": {},
     "output_type": "execute_result"
    }
   ],
   "source": [
    "int(3.14)"
   ]
  },
  {
   "cell_type": "markdown",
   "id": "fcb8f641-e023-47b2-b6bd-85a73e2381be",
   "metadata": {},
   "source": [
    "`-` 형태변환이 항상가능한것도 아님 "
   ]
  },
  {
   "cell_type": "code",
   "execution_count": 78,
   "id": "a2ca66ca-c2e0-4834-bde5-4c0f54c62197",
   "metadata": {
    "vscode": {
     "languageId": "python"
    }
   },
   "outputs": [
    {
     "ename": "TypeError",
     "evalue": "can't convert complex to float",
     "output_type": "error",
     "traceback": [
      "\u001b[0;31m---------------------------------------------------------------------------\u001b[0m",
      "\u001b[0;31mTypeError\u001b[0m                                 Traceback (most recent call last)",
      "Input \u001b[0;32mIn [78]\u001b[0m, in \u001b[0;36m<module>\u001b[0;34m\u001b[0m\n\u001b[0;32m----> 1\u001b[0m \u001b[38;5;28;43mfloat\u001b[39;49m\u001b[43m(\u001b[49m\u001b[38;5;241;43m3\u001b[39;49m\u001b[38;5;241;43m+\u001b[39;49m\u001b[38;5;241;43m0\u001b[39;49m\u001b[43mj\u001b[49m\u001b[43m)\u001b[49m\n",
      "\u001b[0;31mTypeError\u001b[0m: can't convert complex to float"
     ]
    }
   ],
   "source": [
    "float(3+0j) # 사실상 3+0j=3 이므로 float으로 형변환하면 3.0이 되어야 할 것 같은데 변환불가능하다. "
   ]
  },
  {
   "cell_type": "markdown",
   "id": "46184803-675d-4f77-9645-491da68cf636",
   "metadata": {},
   "source": [
    "`-` 암묵적형변환 (implicit) "
   ]
  },
  {
   "cell_type": "markdown",
   "id": "f73a88b8-15b4-4e85-b4b8-1d7a1ad0b137",
   "metadata": {},
   "source": [
    "(예비학습) implicit의 의미 \n",
    "- 추운날씨 -> 보일러좀 틀자! (explicit) / 오늘 날씨 좀 추운 것 같지 않아? (implicit) \n",
    "- 짜장면 먹을래? -> 싫어! (explicit) / 난 어제 짜장면 먹었는데.. (implicit)"
   ]
  },
  {
   "cell_type": "markdown",
   "id": "da5c5408-6b2a-4164-9a39-63fcf9c40785",
   "metadata": {},
   "source": [
    "(예제) "
   ]
  },
  {
   "cell_type": "code",
   "execution_count": 50,
   "id": "7d3972f3-9ab1-4fe1-9f0c-7fe4c2ff39bb",
   "metadata": {
    "vscode": {
     "languageId": "python"
    }
   },
   "outputs": [
    {
     "data": {
      "text/plain": [
       "1"
      ]
     },
     "execution_count": 50,
     "metadata": {},
     "output_type": "execute_result"
    }
   ],
   "source": [
    "True * 1 # 1을 곱할건데 너 계속 True로 있을꺼야? "
   ]
  },
  {
   "cell_type": "code",
   "execution_count": 82,
   "id": "d962bbbd-ded8-4119-bc77-9730c10295db",
   "metadata": {
    "vscode": {
     "languageId": "python"
    }
   },
   "outputs": [
    {
     "data": {
      "text/plain": [
       "1.0"
      ]
     },
     "execution_count": 82,
     "metadata": {},
     "output_type": "execute_result"
    }
   ],
   "source": [
    "1 * 1.0 # 1.0을 곱할건데 너 계속 int로 있을꺼야? "
   ]
  },
  {
   "cell_type": "code",
   "execution_count": 84,
   "id": "589cf7b3-c18b-41a6-88a5-03fb8061a992",
   "metadata": {
    "vscode": {
     "languageId": "python"
    }
   },
   "outputs": [
    {
     "data": {
      "text/plain": [
       "2"
      ]
     },
     "execution_count": 84,
     "metadata": {},
     "output_type": "execute_result"
    }
   ],
   "source": [
    "True+True # +연산을 할건데 계속 True로 있을꺼야? "
   ]
  },
  {
   "cell_type": "markdown",
   "id": "c8ff6f0a-f4bb-455e-addd-91bc386a9aa1",
   "metadata": {},
   "source": [
    "# str"
   ]
  },
  {
   "cell_type": "markdown",
   "id": "7d575a23-d0a8-4214-aad6-6f1d2e975ec2",
   "metadata": {},
   "source": [
    "## 선언 "
   ]
  },
  {
   "cell_type": "code",
   "execution_count": 51,
   "id": "711388e2-71d6-4c75-8dfd-08c0a9cc6a7b",
   "metadata": {
    "vscode": {
     "languageId": "python"
    }
   },
   "outputs": [],
   "source": [
    "a='guebin'"
   ]
  },
  {
   "cell_type": "code",
   "execution_count": 86,
   "id": "5e83c7af-c471-43cc-90f2-440048065b75",
   "metadata": {
    "vscode": {
     "languageId": "python"
    }
   },
   "outputs": [
    {
     "data": {
      "text/plain": [
       "'guebin'"
      ]
     },
     "execution_count": 86,
     "metadata": {},
     "output_type": "execute_result"
    }
   ],
   "source": [
    "a"
   ]
  },
  {
   "cell_type": "markdown",
   "id": "1b5febb8-7e90-4a86-9546-7468c97a8bc4",
   "metadata": {},
   "source": [
    "## 연산"
   ]
  },
  {
   "cell_type": "markdown",
   "id": "6ccd811e-fa7b-4bb4-b1ab-dc01269c33f5",
   "metadata": {},
   "source": [
    "`-` 더하기(+)연산 "
   ]
  },
  {
   "cell_type": "code",
   "execution_count": 53,
   "id": "bcb7078a-7bf9-4c5a-bcb9-bb3bd80cd728",
   "metadata": {
    "vscode": {
     "languageId": "python"
    }
   },
   "outputs": [],
   "source": [
    "a='X'\n",
    "b='2'"
   ]
  },
  {
   "cell_type": "code",
   "execution_count": 91,
   "id": "f4d2478c-50aa-41fc-929d-3f256420d626",
   "metadata": {
    "vscode": {
     "languageId": "python"
    }
   },
   "outputs": [
    {
     "data": {
      "text/plain": [
       "'X2'"
      ]
     },
     "execution_count": 91,
     "metadata": {},
     "output_type": "execute_result"
    }
   ],
   "source": [
    "c=a+b\n",
    "c"
   ]
  },
  {
   "cell_type": "markdown",
   "id": "720ed6de-d61a-4ef7-8edf-e0c27153e653",
   "metadata": {},
   "source": [
    "`-` 빼기(-)연산 "
   ]
  },
  {
   "cell_type": "code",
   "execution_count": 92,
   "id": "a9f5485b-3154-4686-b9ec-36a870701bb6",
   "metadata": {
    "vscode": {
     "languageId": "python"
    }
   },
   "outputs": [
    {
     "ename": "TypeError",
     "evalue": "unsupported operand type(s) for -: 'str' and 'str'",
     "output_type": "error",
     "traceback": [
      "\u001b[0;31m---------------------------------------------------------------------------\u001b[0m",
      "\u001b[0;31mTypeError\u001b[0m                                 Traceback (most recent call last)",
      "Input \u001b[0;32mIn [92]\u001b[0m, in \u001b[0;36m<module>\u001b[0;34m\u001b[0m\n\u001b[1;32m      1\u001b[0m a\u001b[38;5;241m=\u001b[39m\u001b[38;5;124m'\u001b[39m\u001b[38;5;124mX2\u001b[39m\u001b[38;5;124m'\u001b[39m\n\u001b[1;32m      2\u001b[0m b\u001b[38;5;241m=\u001b[39m\u001b[38;5;124m'\u001b[39m\u001b[38;5;124m2\u001b[39m\u001b[38;5;124m'\u001b[39m\n\u001b[0;32m----> 3\u001b[0m \u001b[43ma\u001b[49m\u001b[38;5;241;43m-\u001b[39;49m\u001b[43mb\u001b[49m\n",
      "\u001b[0;31mTypeError\u001b[0m: unsupported operand type(s) for -: 'str' and 'str'"
     ]
    }
   ],
   "source": [
    "a='X2'\n",
    "b='2'\n",
    "a-b"
   ]
  },
  {
   "cell_type": "markdown",
   "id": "c4b726fa-1775-4f9d-a0b3-034a8db95557",
   "metadata": {},
   "source": [
    "- 이런건 없다. "
   ]
  },
  {
   "cell_type": "markdown",
   "id": "7be161af-6669-4aff-81f8-a5c4c163ac7a",
   "metadata": {},
   "source": [
    "`-` 곱하기(*)연산"
   ]
  },
  {
   "cell_type": "code",
   "execution_count": 63,
   "id": "fca961e0-3840-4850-9869-066e244389bf",
   "metadata": {
    "vscode": {
     "languageId": "python"
    }
   },
   "outputs": [],
   "source": [
    "a='X'"
   ]
  },
  {
   "cell_type": "code",
   "execution_count": 64,
   "id": "24cea461-afa5-4481-925b-cea02b5bf7f2",
   "metadata": {
    "vscode": {
     "languageId": "python"
    }
   },
   "outputs": [
    {
     "data": {
      "text/plain": [
       "'XXX'"
      ]
     },
     "execution_count": 64,
     "metadata": {},
     "output_type": "execute_result"
    }
   ],
   "source": [
    "a+a+a"
   ]
  },
  {
   "cell_type": "code",
   "execution_count": 65,
   "id": "71480963-96f2-49fe-92bc-6ea82f5498ea",
   "metadata": {
    "vscode": {
     "languageId": "python"
    }
   },
   "outputs": [
    {
     "data": {
      "text/plain": [
       "'XXX'"
      ]
     },
     "execution_count": 65,
     "metadata": {},
     "output_type": "execute_result"
    }
   ],
   "source": [
    "a*3 # a*3 = a+a+a = 'X'+'X+'X'"
   ]
  },
  {
   "cell_type": "markdown",
   "id": "ace4d825-9d86-4e16-8396-f1658500cfc1",
   "metadata": {},
   "source": [
    "아래도 가능하다. "
   ]
  },
  {
   "cell_type": "code",
   "execution_count": 66,
   "id": "f8d3dc11-2ce9-4a4a-882a-fe6494fc9fbc",
   "metadata": {
    "vscode": {
     "languageId": "python"
    }
   },
   "outputs": [
    {
     "data": {
      "text/plain": [
       "'XXX'"
      ]
     },
     "execution_count": 66,
     "metadata": {},
     "output_type": "execute_result"
    }
   ],
   "source": [
    "3*a"
   ]
  },
  {
   "cell_type": "markdown",
   "id": "baeb2e5d-a2a9-4eaa-b989-170536c4ed35",
   "metadata": {},
   "source": [
    "그리고 아래도 가능하다. "
   ]
  },
  {
   "cell_type": "code",
   "execution_count": 67,
   "id": "a5955bf4-8f8d-49ef-bfdb-6ef0fb1f2337",
   "metadata": {
    "vscode": {
     "languageId": "python"
    }
   },
   "outputs": [
    {
     "data": {
      "text/plain": [
       "'XXX'"
      ]
     },
     "execution_count": 67,
     "metadata": {},
     "output_type": "execute_result"
    }
   ],
   "source": [
    "a='X'\n",
    "b=3 \n",
    "a*b"
   ]
  },
  {
   "cell_type": "markdown",
   "id": "2818a3a2-c824-4c74-b72e-e26a414f2fa5",
   "metadata": {},
   "source": [
    "대신에 의미상 맞지 않는 것은 수행되지 않고 에러가 난다. "
   ]
  },
  {
   "cell_type": "code",
   "execution_count": 98,
   "id": "ca9af8eb-a51f-48d7-b7ad-833964de7432",
   "metadata": {
    "vscode": {
     "languageId": "python"
    }
   },
   "outputs": [
    {
     "data": {
      "text/plain": [
       "'XY'"
      ]
     },
     "execution_count": 98,
     "metadata": {},
     "output_type": "execute_result"
    }
   ],
   "source": [
    "a='X'\n",
    "b='Y'\n",
    "a+b"
   ]
  },
  {
   "cell_type": "code",
   "execution_count": 99,
   "id": "30f332fd-6ecb-4459-a721-aa26111c7368",
   "metadata": {
    "vscode": {
     "languageId": "python"
    }
   },
   "outputs": [
    {
     "ename": "TypeError",
     "evalue": "can't multiply sequence by non-int of type 'str'",
     "output_type": "error",
     "traceback": [
      "\u001b[0;31m---------------------------------------------------------------------------\u001b[0m",
      "\u001b[0;31mTypeError\u001b[0m                                 Traceback (most recent call last)",
      "Input \u001b[0;32mIn [99]\u001b[0m, in \u001b[0;36m<module>\u001b[0;34m\u001b[0m\n\u001b[0;32m----> 1\u001b[0m \u001b[43ma\u001b[49m\u001b[38;5;241;43m*\u001b[39;49m\u001b[43mb\u001b[49m\n",
      "\u001b[0;31mTypeError\u001b[0m: can't multiply sequence by non-int of type 'str'"
     ]
    }
   ],
   "source": [
    "a*b"
   ]
  },
  {
   "cell_type": "markdown",
   "id": "fdc9e932-eb91-48b6-b2d3-c8dbc94f7fe9",
   "metadata": {},
   "source": [
    "`-` 나눗셈(/)연산 "
   ]
  },
  {
   "cell_type": "code",
   "execution_count": 100,
   "id": "1071fe4e-b238-4344-8f9a-555669634fac",
   "metadata": {
    "vscode": {
     "languageId": "python"
    }
   },
   "outputs": [],
   "source": [
    "a='XX'"
   ]
  },
  {
   "cell_type": "code",
   "execution_count": 101,
   "id": "3806ba02-3b93-4f97-adbf-4c57d1ca1de3",
   "metadata": {
    "vscode": {
     "languageId": "python"
    }
   },
   "outputs": [
    {
     "ename": "TypeError",
     "evalue": "unsupported operand type(s) for /: 'str' and 'int'",
     "output_type": "error",
     "traceback": [
      "\u001b[0;31m---------------------------------------------------------------------------\u001b[0m",
      "\u001b[0;31mTypeError\u001b[0m                                 Traceback (most recent call last)",
      "Input \u001b[0;32mIn [101]\u001b[0m, in \u001b[0;36m<module>\u001b[0;34m\u001b[0m\n\u001b[0;32m----> 1\u001b[0m \u001b[43ma\u001b[49m\u001b[38;5;241;43m/\u001b[39;49m\u001b[38;5;241;43m2\u001b[39;49m\n",
      "\u001b[0;31mTypeError\u001b[0m: unsupported operand type(s) for /: 'str' and 'int'"
     ]
    }
   ],
   "source": [
    "a/2"
   ]
  },
  {
   "cell_type": "markdown",
   "id": "5925fed0-4339-4b35-855e-f050121f50a1",
   "metadata": {},
   "source": [
    "- 이런건 없다.. "
   ]
  },
  {
   "cell_type": "markdown",
   "id": "bc69ac46-d52b-4163-b3cc-05047ac59f93",
   "metadata": {},
   "source": [
    "## 인덱싱"
   ]
  },
  {
   "cell_type": "markdown",
   "id": "9123b823-9f5e-431d-b4ed-92be6219dc45",
   "metadata": {},
   "source": [
    "`-` str은 하나의 벡터 문자가 여러개 있는 형태라고 생각하면 된다. "
   ]
  },
  {
   "cell_type": "code",
   "execution_count": 68,
   "id": "b1244cea-4c9a-4dbd-94e9-53e6752feb0b",
   "metadata": {
    "vscode": {
     "languageId": "python"
    }
   },
   "outputs": [],
   "source": [
    "a='guebin'"
   ]
  },
  {
   "cell_type": "code",
   "execution_count": 69,
   "id": "abddac49-d8f1-4c7a-a24b-c7470a4cbf4a",
   "metadata": {
    "vscode": {
     "languageId": "python"
    }
   },
   "outputs": [
    {
     "data": {
      "text/plain": [
       "'guebin'"
      ]
     },
     "execution_count": 69,
     "metadata": {},
     "output_type": "execute_result"
    }
   ],
   "source": [
    "a"
   ]
  },
  {
   "cell_type": "markdown",
   "id": "7437710b-d604-4623-9188-3ce95406da54",
   "metadata": {},
   "source": [
    "- 6개의 칸에 글씨가 하나씩 들어가 있음. "
   ]
  },
  {
   "cell_type": "markdown",
   "id": "73c43f18-474e-4919-8550-d641a9fc05ac",
   "metadata": {},
   "source": [
    "`-` 대괄호 `[]`안에 숫자를 넣는 방식으로 벡터의 원소를 호출할 수 있다. (주의: 인덱스가 0부터 시작함) "
   ]
  },
  {
   "cell_type": "code",
   "execution_count": 72,
   "id": "97539977-3fad-4ef0-ae0e-0d805cbef124",
   "metadata": {
    "vscode": {
     "languageId": "python"
    }
   },
   "outputs": [
    {
     "data": {
      "text/plain": [
       "'g'"
      ]
     },
     "execution_count": 72,
     "metadata": {},
     "output_type": "execute_result"
    }
   ],
   "source": [
    "a[0] #첫번째원소"
   ]
  },
  {
   "cell_type": "code",
   "execution_count": 73,
   "id": "90780c4a-090d-4a00-ac92-085f9cb2f842",
   "metadata": {
    "vscode": {
     "languageId": "python"
    }
   },
   "outputs": [
    {
     "data": {
      "text/plain": [
       "'u'"
      ]
     },
     "execution_count": 73,
     "metadata": {},
     "output_type": "execute_result"
    }
   ],
   "source": [
    "a[1] #두번째원소 "
   ]
  },
  {
   "cell_type": "markdown",
   "id": "92eb3499-d8d1-48cb-a95e-164bed7c22c5",
   "metadata": {},
   "source": [
    "마지막원소는 -1로 호출할 수도 있다. "
   ]
  },
  {
   "cell_type": "code",
   "execution_count": 114,
   "id": "268a5373-5820-4fac-987f-2a086beaa7cd",
   "metadata": {
    "vscode": {
     "languageId": "python"
    }
   },
   "outputs": [
    {
     "data": {
      "text/plain": [
       "'n'"
      ]
     },
     "execution_count": 114,
     "metadata": {},
     "output_type": "execute_result"
    }
   ],
   "source": [
    "a[-1]"
   ]
  },
  {
   "cell_type": "markdown",
   "id": "9e8f49f9-4312-4b93-81d5-5d26544ddea0",
   "metadata": {},
   "source": [
    "마지막에서 2번째 원소는 -2로 호출가능하다. "
   ]
  },
  {
   "cell_type": "code",
   "execution_count": 115,
   "id": "ed452ebf-c67a-45a7-8e61-cc3464b7dd08",
   "metadata": {
    "vscode": {
     "languageId": "python"
    }
   },
   "outputs": [
    {
     "data": {
      "text/plain": [
       "'i'"
      ]
     },
     "execution_count": 115,
     "metadata": {},
     "output_type": "execute_result"
    }
   ],
   "source": [
    "a[-2]"
   ]
  },
  {
   "cell_type": "markdown",
   "id": "c07cb30b-2b1c-4873-8f06-2675ac16e136",
   "metadata": {},
   "source": [
    "`-` 요약하면 아래와 같은 방식으로 호출가능함. "
   ]
  },
  {
   "cell_type": "markdown",
   "id": "b8a14b3a-293a-4a6e-be0c-a2add95522a2",
   "metadata": {},
   "source": [
    "|g|u|e|b|i|n|\n",
    "|:-:|:-:|:-:|:-:|:-:|:-:|\n",
    "|0|1|2|3|4|5|\n",
    "|0|-5|-4|-3|-2|-1|"
   ]
  },
  {
   "cell_type": "code",
   "execution_count": 120,
   "id": "447d181f-4dd9-484c-850b-22a258e5de0b",
   "metadata": {
    "vscode": {
     "languageId": "python"
    }
   },
   "outputs": [
    {
     "data": {
      "text/plain": [
       "'i'"
      ]
     },
     "execution_count": 120,
     "metadata": {},
     "output_type": "execute_result"
    }
   ],
   "source": [
    "a[4]"
   ]
  },
  {
   "cell_type": "code",
   "execution_count": 121,
   "id": "db8c9816-c841-4756-99e8-807ba81cb227",
   "metadata": {
    "vscode": {
     "languageId": "python"
    }
   },
   "outputs": [
    {
     "data": {
      "text/plain": [
       "'i'"
      ]
     },
     "execution_count": 121,
     "metadata": {},
     "output_type": "execute_result"
    }
   ],
   "source": [
    "a[-2]"
   ]
  },
  {
   "cell_type": "code",
   "execution_count": 123,
   "id": "2919a302-de6b-468d-88b7-f81774606bd6",
   "metadata": {
    "vscode": {
     "languageId": "python"
    }
   },
   "outputs": [
    {
     "data": {
      "text/plain": [
       "'e'"
      ]
     },
     "execution_count": 123,
     "metadata": {},
     "output_type": "execute_result"
    }
   ],
   "source": [
    "a[-4]"
   ]
  },
  {
   "cell_type": "markdown",
   "id": "7bbba7c8-4516-480b-8c18-627235d7e4f9",
   "metadata": {},
   "source": [
    "`-` `:`을 이용하여 여러개의 원소를 호출할 수 있음. "
   ]
  },
  {
   "cell_type": "code",
   "execution_count": 78,
   "id": "7167623d-053a-431f-b176-d95d3e301fda",
   "metadata": {
    "vscode": {
     "languageId": "python"
    }
   },
   "outputs": [],
   "source": [
    "a='guebin'"
   ]
  },
  {
   "cell_type": "code",
   "execution_count": 85,
   "id": "89233aec-ba88-42bb-87b4-9e0b819e7d0e",
   "metadata": {
    "vscode": {
     "languageId": "python"
    }
   },
   "outputs": [
    {
     "data": {
      "text/plain": [
       "'gue'"
      ]
     },
     "execution_count": 85,
     "metadata": {},
     "output_type": "execute_result"
    }
   ],
   "source": [
    "a[0:3] # a[0],a[1],a[2],a[3]이 아니라 a[0],a[1],a[2]까지만 뽑힌다. 즉 마지막의 3은 호출되지 않는다. "
   ]
  },
  {
   "cell_type": "code",
   "execution_count": 86,
   "id": "d51f96cc-fedc-4803-ae1c-858ba15d810e",
   "metadata": {
    "vscode": {
     "languageId": "python"
    }
   },
   "outputs": [
    {
     "data": {
      "text/plain": [
       "'ue'"
      ]
     },
     "execution_count": 86,
     "metadata": {},
     "output_type": "execute_result"
    }
   ],
   "source": [
    "a[1:3] # a[1], a[2] 만 호출 // start=1,  stop=3 "
   ]
  },
  {
   "cell_type": "markdown",
   "id": "b6077738-46fd-4ca8-994e-2a415750189e",
   "metadata": {},
   "source": [
    "index=1부터 시작해서 마지막원소까지 호출하려면? "
   ]
  },
  {
   "cell_type": "code",
   "execution_count": 130,
   "id": "d8cb6c44-125a-4968-8cac-7c38ef9f5531",
   "metadata": {
    "vscode": {
     "languageId": "python"
    }
   },
   "outputs": [
    {
     "data": {
      "text/plain": [
       "'n'"
      ]
     },
     "execution_count": 130,
     "metadata": {},
     "output_type": "execute_result"
    }
   ],
   "source": [
    "a[5] # guebin의 마지막원소 'n'이 출려 "
   ]
  },
  {
   "cell_type": "code",
   "execution_count": 135,
   "id": "3c404902-7fb2-4879-a791-93a06942e1e9",
   "metadata": {
    "vscode": {
     "languageId": "python"
    }
   },
   "outputs": [
    {
     "data": {
      "text/plain": [
       "'uebi'"
      ]
     },
     "execution_count": 135,
     "metadata": {},
     "output_type": "execute_result"
    }
   ],
   "source": [
    "a[1:5] # 5는 포함되지 않으므로 틀림"
   ]
  },
  {
   "cell_type": "code",
   "execution_count": 136,
   "id": "b36c78cb-4af7-4e8d-8e6f-63ba3fb29bcd",
   "metadata": {
    "vscode": {
     "languageId": "python"
    }
   },
   "outputs": [
    {
     "data": {
      "text/plain": [
       "'uebin'"
      ]
     },
     "execution_count": 136,
     "metadata": {},
     "output_type": "execute_result"
    }
   ],
   "source": [
    "a[1:6] # 정답"
   ]
  },
  {
   "cell_type": "markdown",
   "id": "c54b611e-160d-4fca-9e7a-01a23ae096da",
   "metadata": {},
   "source": [
    "안 헷갈리는 방법은 없을까? "
   ]
  },
  {
   "cell_type": "code",
   "execution_count": 137,
   "id": "f55c8ab9-57a4-4748-811e-60edd3d6b19b",
   "metadata": {
    "vscode": {
     "languageId": "python"
    }
   },
   "outputs": [
    {
     "data": {
      "text/plain": [
       "'n'"
      ]
     },
     "execution_count": 137,
     "metadata": {},
     "output_type": "execute_result"
    }
   ],
   "source": [
    "a[-1]"
   ]
  },
  {
   "cell_type": "code",
   "execution_count": 139,
   "id": "8bf50417-62db-41d8-bfcf-a6dd7d145991",
   "metadata": {
    "vscode": {
     "languageId": "python"
    }
   },
   "outputs": [
    {
     "data": {
      "text/plain": [
       "'uebi'"
      ]
     },
     "execution_count": 139,
     "metadata": {},
     "output_type": "execute_result"
    }
   ],
   "source": [
    "a[1:-1] # 이것은 결국 (a[1:5]와 같은 것임) "
   ]
  },
  {
   "cell_type": "markdown",
   "id": "9d3a5562-1db5-4f41-a2ac-d4f4e3f7aca2",
   "metadata": {},
   "source": [
    "해결책? 생략한다!!"
   ]
  },
  {
   "cell_type": "code",
   "execution_count": 140,
   "id": "b03eaa40-2233-41b7-9937-8925a0bbd4ad",
   "metadata": {
    "vscode": {
     "languageId": "python"
    }
   },
   "outputs": [
    {
     "data": {
      "text/plain": [
       "'uebin'"
      ]
     },
     "execution_count": 140,
     "metadata": {},
     "output_type": "execute_result"
    }
   ],
   "source": [
    "a[1:]"
   ]
  },
  {
   "cell_type": "markdown",
   "id": "2b1d79de-53f5-4cf8-a39d-94595b959568",
   "metadata": {},
   "source": [
    "`-` 생략의 응용1"
   ]
  },
  {
   "cell_type": "code",
   "execution_count": 158,
   "id": "84d52156-1203-44be-825c-a069f884b4f6",
   "metadata": {
    "vscode": {
     "languageId": "python"
    }
   },
   "outputs": [
    {
     "data": {
      "text/plain": [
       "'k-pop'"
      ]
     },
     "execution_count": 158,
     "metadata": {},
     "output_type": "execute_result"
    }
   ],
   "source": [
    "a='k-pop' \n",
    "a"
   ]
  },
  {
   "cell_type": "code",
   "execution_count": 159,
   "id": "edb14359-3a10-4d30-a223-8c21b818091c",
   "metadata": {
    "vscode": {
     "languageId": "python"
    }
   },
   "outputs": [
    {
     "data": {
      "text/plain": [
       "'pop'"
      ]
     },
     "execution_count": 159,
     "metadata": {},
     "output_type": "execute_result"
    }
   ],
   "source": [
    "a[2:5]"
   ]
  },
  {
   "cell_type": "code",
   "execution_count": 160,
   "id": "a5586e05-a487-46f5-aea7-55a48fc60b05",
   "metadata": {
    "vscode": {
     "languageId": "python"
    }
   },
   "outputs": [
    {
     "data": {
      "text/plain": [
       "'pop'"
      ]
     },
     "execution_count": 160,
     "metadata": {},
     "output_type": "execute_result"
    }
   ],
   "source": [
    "a[2:]"
   ]
  },
  {
   "cell_type": "markdown",
   "id": "6d8e9c2d-9adc-4cf4-ba54-53b5626664a6",
   "metadata": {},
   "source": [
    "`-` 생략의 응용2"
   ]
  },
  {
   "cell_type": "code",
   "execution_count": 161,
   "id": "78516811-cc49-4cf8-bfba-93763c0c8c60",
   "metadata": {
    "vscode": {
     "languageId": "python"
    }
   },
   "outputs": [
    {
     "data": {
      "text/plain": [
       "'k-pop'"
      ]
     },
     "execution_count": 161,
     "metadata": {},
     "output_type": "execute_result"
    }
   ],
   "source": [
    "a='k-pop'\n",
    "a"
   ]
  },
  {
   "cell_type": "code",
   "execution_count": 163,
   "id": "c77451bf-5146-48f8-a94b-8a1e86f4a955",
   "metadata": {
    "vscode": {
     "languageId": "python"
    }
   },
   "outputs": [
    {
     "data": {
      "text/plain": [
       "'k-'"
      ]
     },
     "execution_count": 163,
     "metadata": {},
     "output_type": "execute_result"
    }
   ],
   "source": [
    "a[0:2] # a[0],a[1]"
   ]
  },
  {
   "cell_type": "code",
   "execution_count": 165,
   "id": "80e44c27-c03d-46c1-9820-f190b5e09002",
   "metadata": {
    "vscode": {
     "languageId": "python"
    }
   },
   "outputs": [
    {
     "data": {
      "text/plain": [
       "'k-'"
      ]
     },
     "execution_count": 165,
     "metadata": {},
     "output_type": "execute_result"
    }
   ],
   "source": [
    "a[:2] # a[0],a[1] "
   ]
  },
  {
   "cell_type": "markdown",
   "id": "ca0015d0-4e46-4478-a367-3ac529b2228e",
   "metadata": {},
   "source": [
    "`-` 생략의 응용3"
   ]
  },
  {
   "cell_type": "code",
   "execution_count": 166,
   "id": "8c2857f0-6d22-435c-b333-26f61dcaf6f4",
   "metadata": {
    "vscode": {
     "languageId": "python"
    }
   },
   "outputs": [
    {
     "data": {
      "text/plain": [
       "'k-pop'"
      ]
     },
     "execution_count": 166,
     "metadata": {},
     "output_type": "execute_result"
    }
   ],
   "source": [
    "a='k-pop'\n",
    "a"
   ]
  },
  {
   "cell_type": "code",
   "execution_count": 170,
   "id": "ae0b8802-cc00-4a2d-b1f9-2068e06882f0",
   "metadata": {
    "vscode": {
     "languageId": "python"
    }
   },
   "outputs": [
    {
     "data": {
      "text/plain": [
       "'k-pop'"
      ]
     },
     "execution_count": 170,
     "metadata": {},
     "output_type": "execute_result"
    }
   ],
   "source": [
    "a[0:5] # a[0],...,a[4]"
   ]
  },
  {
   "cell_type": "code",
   "execution_count": 169,
   "id": "87ff6688-fd72-46b5-bec4-1659647b4ba3",
   "metadata": {
    "vscode": {
     "languageId": "python"
    }
   },
   "outputs": [
    {
     "data": {
      "text/plain": [
       "'k-pop'"
      ]
     },
     "execution_count": 169,
     "metadata": {},
     "output_type": "execute_result"
    }
   ],
   "source": [
    "a[:]"
   ]
  },
  {
   "cell_type": "markdown",
   "id": "56cc297c-d58d-4fb4-8b4a-dc2e5bcb11c1",
   "metadata": {},
   "source": [
    "## str 특수기능 "
   ]
  },
  {
   "cell_type": "markdown",
   "id": "06f450a0-8c6f-4925-bec9-42dbc33a4032",
   "metadata": {},
   "source": [
    "`-` 파이썬의 변수는 단순히 정보를 담는 그릇이 아니다. 유용한 기능을 제공하는 경우가 있다. "
   ]
  },
  {
   "cell_type": "code",
   "execution_count": 100,
   "id": "ff628c4e-dec9-48de-8d1e-0874e1ffea4f",
   "metadata": {
    "vscode": {
     "languageId": "python"
    }
   },
   "outputs": [
    {
     "data": {
      "text/plain": [
       "'ABCD'"
      ]
     },
     "execution_count": 100,
     "metadata": {},
     "output_type": "execute_result"
    }
   ],
   "source": [
    "a='ABCD' # a라는 변수는 'ABCD'라는 정보를 담는 그릇의 역할만 하지 않고, 특화된 어떠한 기능도 제공한다. \n",
    "a"
   ]
  },
  {
   "cell_type": "code",
   "execution_count": 101,
   "id": "e0bec3fc-3a80-4742-a94d-f15283c9d9ad",
   "metadata": {
    "vscode": {
     "languageId": "python"
    }
   },
   "outputs": [
    {
     "data": {
      "text/plain": [
       "'abcd'"
      ]
     },
     "execution_count": 101,
     "metadata": {},
     "output_type": "execute_result"
    }
   ],
   "source": [
    "a.lower() # a.lower()를 쓰면 a의 모든 문자를 소문자로 바꾸는 기능을 제공, lower(a)라고 읽자!"
   ]
  },
  {
   "cell_type": "markdown",
   "id": "9a4fb42a-18e7-4715-87bf-4b916a42b064",
   "metadata": {},
   "source": [
    "여기에서 lower()는 문자열에 특화된 기능임. 따라서 당연히 아래는 불가능 "
   ]
  },
  {
   "cell_type": "code",
   "execution_count": 194,
   "id": "6d9c2936-d8a0-464c-b572-bc9f9747f186",
   "metadata": {
    "vscode": {
     "languageId": "python"
    }
   },
   "outputs": [
    {
     "ename": "AttributeError",
     "evalue": "'float' object has no attribute 'lower'",
     "output_type": "error",
     "traceback": [
      "\u001b[0;31m---------------------------------------------------------------------------\u001b[0m",
      "\u001b[0;31mAttributeError\u001b[0m                            Traceback (most recent call last)",
      "Input \u001b[0;32mIn [194]\u001b[0m, in \u001b[0;36m<module>\u001b[0;34m\u001b[0m\n\u001b[1;32m      1\u001b[0m a\u001b[38;5;241m=\u001b[39m\u001b[38;5;241m3.14\u001b[39m\n\u001b[0;32m----> 2\u001b[0m \u001b[43ma\u001b[49m\u001b[38;5;241;43m.\u001b[39;49m\u001b[43mlower\u001b[49m()\n",
      "\u001b[0;31mAttributeError\u001b[0m: 'float' object has no attribute 'lower'"
     ]
    }
   ],
   "source": [
    "a=3.14\n",
    "a.lower() # lower(a)"
   ]
  },
  {
   "cell_type": "markdown",
   "id": "f24fd2cc-10e4-4b86-adec-cec19b3aea4e",
   "metadata": {},
   "source": [
    "`-` 자료형에 특화된 기능(=함수)을 확인하는 방법? `a.`+ `tab` 으로 목록 확인 가능 "
   ]
  },
  {
   "cell_type": "code",
   "execution_count": 195,
   "id": "56b06266-c321-46cf-bb0f-a38293d2a7f5",
   "metadata": {
    "vscode": {
     "languageId": "python"
    }
   },
   "outputs": [],
   "source": [
    "a='guebin'"
   ]
  },
  {
   "cell_type": "code",
   "execution_count": 191,
   "id": "ec2b91a6-d944-45df-9246-5fefe3659af9",
   "metadata": {
    "vscode": {
     "languageId": "python"
    }
   },
   "outputs": [
    {
     "data": {
      "text/plain": [
       "\u001b[0;31mSignature:\u001b[0m \u001b[0ma\u001b[0m\u001b[0;34m.\u001b[0m\u001b[0mupper\u001b[0m\u001b[0;34m(\u001b[0m\u001b[0;34m)\u001b[0m\u001b[0;34m\u001b[0m\u001b[0;34m\u001b[0m\u001b[0m\n",
       "\u001b[0;31mDocstring:\u001b[0m Return a copy of the string converted to uppercase.\n",
       "\u001b[0;31mType:\u001b[0m      builtin_function_or_method\n"
      ]
     },
     "metadata": {},
     "output_type": "display_data"
    }
   ],
   "source": [
    "a.upper?"
   ]
  },
  {
   "cell_type": "code",
   "execution_count": 192,
   "id": "763c2f98-1450-4d80-be2a-4c7e99341326",
   "metadata": {
    "vscode": {
     "languageId": "python"
    }
   },
   "outputs": [
    {
     "data": {
      "text/plain": [
       "'GUEBIN'"
      ]
     },
     "execution_count": 192,
     "metadata": {},
     "output_type": "execute_result"
    }
   ],
   "source": [
    "a.upper() # upper(a) "
   ]
  },
  {
   "cell_type": "code",
   "execution_count": 193,
   "id": "4d62ed21-f473-4420-a0dc-7dca3510e0c6",
   "metadata": {
    "vscode": {
     "languageId": "python"
    }
   },
   "outputs": [
    {
     "data": {
      "text/plain": [
       "'Guebin'"
      ]
     },
     "execution_count": 193,
     "metadata": {},
     "output_type": "execute_result"
    }
   ],
   "source": [
    "a.capitalize() # capitalize(a) "
   ]
  },
  {
   "cell_type": "markdown",
   "id": "673b8577-6e42-4f82-9c74-a55662271440",
   "metadata": {},
   "source": [
    "`-` 문자열에 대한 다른 내용들은 추후에 다루겠음. "
   ]
  },
  {
   "cell_type": "markdown",
   "id": "4c8b76b2-b0ea-49cd-aed2-073e76cddaba",
   "metadata": {},
   "source": [
    "`-` 마음의눈: `a.f()` 형태를 읽는 팁\n",
    "- `a.f()`는 `f(a)`로 생각하면 편리함. \n",
    "- `a.f(2)`는 `f(a,2)`로 생각하면 편리함. \n",
    "- 이런점에서 R `%>%` 연산자와 비슷하다고 생각할 수 있다. (약간 다르긴함) "
   ]
  },
  {
   "cell_type": "markdown",
   "id": "2f613b2e-493f-4a38-89db-c7baab3e252b",
   "metadata": {},
   "source": [
    "`-` 사실 `.`은 좀 더 다양한 상황에서 쓰일 수 있다. `변수이름.함수이름()` 의 형태가 아니라 \n",
    "- `패지키이름.함수이름()`\n",
    "- `패키지이름.변수이름` \n",
    "- `패키지이름.패키지이름.함수이름()` \n",
    "- ... \n",
    "\n",
    "와 같이 다양한 형태가 가능하다. 근본적인 공통점은 `.`을 기준으로 `상위개념.하위개념` 으로 이해하는 것이 좋다. "
   ]
  },
  {
   "cell_type": "markdown",
   "id": "ffbc93db-c860-4689-b27b-5006abcc53d0",
   "metadata": {},
   "source": [
    "***0차원 vs 1차원***"
   ]
  },
  {
   "cell_type": "markdown",
   "id": "52dd60f4-8771-4ff1-9793-98fad6e9c55e",
   "metadata": {},
   "source": [
    "`-` `len`함수 소개: 원소의 갯수를 알려주는 함수. "
   ]
  },
  {
   "cell_type": "markdown",
   "id": "7813fd80-68f4-4993-96bc-773aed514088",
   "metadata": {},
   "source": [
    "(0차원) `len` 함수가 동작하지 않음."
   ]
  },
  {
   "cell_type": "code",
   "execution_count": 196,
   "id": "179f35c9-9375-4fc2-b8ae-7d1d1ff8a7d1",
   "metadata": {
    "vscode": {
     "languageId": "python"
    }
   },
   "outputs": [],
   "source": [
    "a=3.14"
   ]
  },
  {
   "cell_type": "code",
   "execution_count": 197,
   "id": "5b5a72dd-f05c-4f0e-8f21-8a4ba6c0f0c7",
   "metadata": {
    "vscode": {
     "languageId": "python"
    }
   },
   "outputs": [
    {
     "ename": "TypeError",
     "evalue": "object of type 'float' has no len()",
     "output_type": "error",
     "traceback": [
      "\u001b[0;31m---------------------------------------------------------------------------\u001b[0m",
      "\u001b[0;31mTypeError\u001b[0m                                 Traceback (most recent call last)",
      "Input \u001b[0;32mIn [197]\u001b[0m, in \u001b[0;36m<module>\u001b[0;34m\u001b[0m\n\u001b[0;32m----> 1\u001b[0m \u001b[38;5;28;43mlen\u001b[39;49m\u001b[43m(\u001b[49m\u001b[43ma\u001b[49m\u001b[43m)\u001b[49m\n",
      "\u001b[0;31mTypeError\u001b[0m: object of type 'float' has no len()"
     ]
    }
   ],
   "source": [
    "len(a)"
   ]
  },
  {
   "cell_type": "code",
   "execution_count": 200,
   "id": "8d024007-fdb3-4392-a2f3-47fabcf363b7",
   "metadata": {
    "vscode": {
     "languageId": "python"
    }
   },
   "outputs": [],
   "source": [
    "b=True"
   ]
  },
  {
   "cell_type": "code",
   "execution_count": 201,
   "id": "2efeb04f-31c3-4473-9159-6b63c31c7681",
   "metadata": {
    "vscode": {
     "languageId": "python"
    }
   },
   "outputs": [
    {
     "ename": "TypeError",
     "evalue": "object of type 'bool' has no len()",
     "output_type": "error",
     "traceback": [
      "\u001b[0;31m---------------------------------------------------------------------------\u001b[0m",
      "\u001b[0;31mTypeError\u001b[0m                                 Traceback (most recent call last)",
      "Input \u001b[0;32mIn [201]\u001b[0m, in \u001b[0;36m<module>\u001b[0;34m\u001b[0m\n\u001b[0;32m----> 1\u001b[0m \u001b[38;5;28;43mlen\u001b[39;49m\u001b[43m(\u001b[49m\u001b[43mb\u001b[49m\u001b[43m)\u001b[49m\n",
      "\u001b[0;31mTypeError\u001b[0m: object of type 'bool' has no len()"
     ]
    }
   ],
   "source": [
    "len(b)"
   ]
  },
  {
   "cell_type": "markdown",
   "id": "41c31a8a-a4cb-4e04-96ac-d5ce7bc8bca6",
   "metadata": {},
   "source": [
    "(1차원) `len` 함수가 잘 동작함. "
   ]
  },
  {
   "cell_type": "code",
   "execution_count": 198,
   "id": "f43f8125-f32d-45a8-8728-8efdcfd4ace5",
   "metadata": {
    "vscode": {
     "languageId": "python"
    }
   },
   "outputs": [
    {
     "data": {
      "text/plain": [
       "4"
      ]
     },
     "execution_count": 198,
     "metadata": {},
     "output_type": "execute_result"
    }
   ],
   "source": [
    "a='3.14'\n",
    "len(a)"
   ]
  },
  {
   "cell_type": "code",
   "execution_count": 202,
   "id": "d48458f9-2245-44ac-9204-c6b6f148fc70",
   "metadata": {
    "vscode": {
     "languageId": "python"
    }
   },
   "outputs": [],
   "source": [
    "b=[1,2,3]"
   ]
  },
  {
   "cell_type": "code",
   "execution_count": 203,
   "id": "602ffe93-f6dd-46c9-b56b-26d4262d2825",
   "metadata": {
    "vscode": {
     "languageId": "python"
    }
   },
   "outputs": [
    {
     "data": {
      "text/plain": [
       "3"
      ]
     },
     "execution_count": 203,
     "metadata": {},
     "output_type": "execute_result"
    }
   ],
   "source": [
    "len(b)"
   ]
  },
  {
   "cell_type": "markdown",
   "id": "94f8ce0b-16d7-4960-a5d5-357cc5613162",
   "metadata": {},
   "source": [
    "***Quiz***"
   ]
  },
  {
   "cell_type": "markdown",
   "id": "7ff91047-81b8-43ff-b951-0a5bf9513c7b",
   "metadata": {},
   "source": [
    "본인이름으로 str을 생성 \n",
    "\n",
    "- 성만 출력 \n",
    "- 이름만 출력"
   ]
  },
  {
   "cell_type": "markdown",
   "id": "c2f54c56-bed3-45dd-8149-9e96774dc66e",
   "metadata": {},
   "source": [
    "(예시) "
   ]
  },
  {
   "cell_type": "code",
   "execution_count": 205,
   "id": "53205081-f109-4f5b-96af-a2a3fcb65a1e",
   "metadata": {
    "vscode": {
     "languageId": "python"
    }
   },
   "outputs": [],
   "source": [
    "a='GuebinChoi'"
   ]
  },
  {
   "cell_type": "code",
   "execution_count": 207,
   "id": "16aea1b8-7093-4c21-8f36-6b1a0e3d8949",
   "metadata": {
    "vscode": {
     "languageId": "python"
    }
   },
   "outputs": [
    {
     "data": {
      "text/plain": [
       "'Guebin'"
      ]
     },
     "execution_count": 207,
     "metadata": {},
     "output_type": "execute_result"
    }
   ],
   "source": [
    "a[:6]"
   ]
  },
  {
   "cell_type": "code",
   "execution_count": 208,
   "id": "ac5eef45-35de-4aec-be00-4e776c16748f",
   "metadata": {
    "vscode": {
     "languageId": "python"
    }
   },
   "outputs": [
    {
     "data": {
      "text/plain": [
       "'Choi'"
      ]
     },
     "execution_count": 208,
     "metadata": {},
     "output_type": "execute_result"
    }
   ],
   "source": [
    "a[6:]"
   ]
  }
 ],
 "metadata": {
  "kernelspec": {
   "display_name": "Python 3",
   "language": "python",
   "name": "python3"
  },
  "language_info": {
   "codemirror_mode": {
    "name": "ipython",
    "version": 3
   },
   "file_extension": ".py",
   "mimetype": "text/x-python",
   "name": "python",
   "nbconvert_exporter": "python",
   "pygments_lexer": "ipython3",
   "version": "3.7.15"
  }
 },
 "nbformat": 4,
 "nbformat_minor": 5
}
