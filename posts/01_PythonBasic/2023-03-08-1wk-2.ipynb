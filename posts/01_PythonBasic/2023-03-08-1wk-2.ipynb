{
 "cells": [
  {
   "cell_type": "raw",
   "id": "8dfc2a60-47be-412b-b39d-2536cf21696a",
   "metadata": {},
   "source": [
    "---\n",
    "title: \"01wk-2: 파이썬의 자료형 I (draft)\"\n",
    "author: \"최규빈\"\n",
    "date: \"03/07/2023\"\n",
    "---"
   ]
  },
  {
   "cell_type": "markdown",
   "id": "56be95f0-5138-4c99-9ca4-91fc3449fd19",
   "metadata": {},
   "source": [
    "<a href=\"https://colab.research.google.com/github/guebin/PP2023/blob/main/posts/01_PythonBasic/2023-03-08-1wk-2.ipynb\"><img src=\"https://colab.research.google.com/assets/colab-badge.svg\" style=\"text-align: left\"></a>"
   ]
  },
  {
   "cell_type": "markdown",
   "id": "57490caa-e28b-4455-a639-d6c979e4d26b",
   "metadata": {},
   "source": [
    "# 강의영상 "
   ]
  },
  {
   "cell_type": "markdown",
   "id": "a722dd34-0b5d-4e3a-94a2-fec741138a52",
   "metadata": {},
   "source": [
    "> youtube: <https://youtube.com/playlist?list=PLQqh36zP38-w17wsQ3-WMvDNNWEX52GOX>"
   ]
  },
  {
   "cell_type": "markdown",
   "id": "709b8080-f3f4-4eb0-a273-70462c721f50",
   "metadata": {},
   "source": [
    "# Intro "
   ]
  },
  {
   "cell_type": "markdown",
   "id": "02f9d89c-cf14-4828-87e2-c8681bb6d57b",
   "metadata": {},
   "source": [
    "`-` 파이썬의 기본자료형은 int, float, bool, str, list, tuple, dict, set 등이 있다.\n",
    "\n",
    "- 0차원 자료형: int, float, bool \n",
    "- 1차원 자료형: str, list, tuple, dict, set"
   ]
  },
  {
   "cell_type": "markdown",
   "id": "605ca980-7747-4b3c-8d88-4aa7e4f6da0c",
   "metadata": {},
   "source": [
    "# int, float, bool "
   ]
  },
  {
   "cell_type": "markdown",
   "id": "1714514d-4353-4910-af8e-718a0536bee1",
   "metadata": {},
   "source": [
    "`-` int형 "
   ]
  },
  {
   "cell_type": "code",
   "execution_count": 14,
   "id": "fdb3309a-e078-4e2b-93e2-b6def0ef8971",
   "metadata": {
    "vscode": {
     "languageId": "python"
    }
   },
   "outputs": [],
   "source": [
    "a=100"
   ]
  },
  {
   "cell_type": "code",
   "execution_count": 15,
   "id": "11202d76-a8da-4e56-9125-96faaaf9102f",
   "metadata": {
    "vscode": {
     "languageId": "python"
    }
   },
   "outputs": [
    {
     "data": {
      "text/plain": [
       "int"
      ]
     },
     "execution_count": 15,
     "metadata": {},
     "output_type": "execute_result"
    }
   ],
   "source": [
    "type(a)"
   ]
  },
  {
   "cell_type": "markdown",
   "id": "9b465fa0-758d-4329-b406-9125a60df48e",
   "metadata": {},
   "source": [
    "`-` float형 "
   ]
  },
  {
   "cell_type": "code",
   "execution_count": 7,
   "id": "b7ce3930-402d-48a9-956d-7689692d2b71",
   "metadata": {
    "vscode": {
     "languageId": "python"
    }
   },
   "outputs": [
    {
     "data": {
      "text/plain": [
       "3.5999999999999996"
      ]
     },
     "execution_count": 7,
     "metadata": {},
     "output_type": "execute_result"
    }
   ],
   "source": [
    "a=1.2*3\n",
    "a"
   ]
  },
  {
   "cell_type": "code",
   "execution_count": 19,
   "id": "7da95b54-e04b-4952-b9e4-8e5a6757d525",
   "metadata": {
    "vscode": {
     "languageId": "python"
    }
   },
   "outputs": [
    {
     "data": {
      "text/plain": [
       "float"
      ]
     },
     "execution_count": 19,
     "metadata": {},
     "output_type": "execute_result"
    }
   ],
   "source": [
    "type(a)"
   ]
  },
  {
   "cell_type": "code",
   "execution_count": 20,
   "id": "e77f2b88-f329-402b-b02b-54bd8279acf6",
   "metadata": {
    "vscode": {
     "languageId": "python"
    }
   },
   "outputs": [
    {
     "data": {
      "text/plain": [
       "\u001b[0;31mType:\u001b[0m        float\n",
       "\u001b[0;31mString form:\u001b[0m 3.5999999999999996\n",
       "\u001b[0;31mDocstring:\u001b[0m   Convert a string or number to a floating point number, if possible.\n"
      ]
     },
     "metadata": {},
     "output_type": "display_data"
    }
   ],
   "source": [
    "a?"
   ]
  },
  {
   "cell_type": "markdown",
   "id": "cbf28fe8-73e1-40c2-94da-1cb5beb010f9",
   "metadata": {},
   "source": [
    "`-` bool형 "
   ]
  },
  {
   "cell_type": "code",
   "execution_count": 52,
   "id": "e4cf89f7-55ea-4291-84ab-247db0ee4890",
   "metadata": {
    "vscode": {
     "languageId": "python"
    }
   },
   "outputs": [],
   "source": [
    "a=True ## 숫자1으로 생각할 수 있음 \n",
    "b=False ## 숫자0으로 생각할 수 있음"
   ]
  },
  {
   "cell_type": "code",
   "execution_count": 24,
   "id": "10e9faf2-466c-4a02-bbda-e9b3d5f25f36",
   "metadata": {
    "vscode": {
     "languageId": "python"
    }
   },
   "outputs": [
    {
     "data": {
      "text/plain": [
       "bool"
      ]
     },
     "execution_count": 24,
     "metadata": {},
     "output_type": "execute_result"
    }
   ],
   "source": [
    "type(a)"
   ]
  },
  {
   "cell_type": "code",
   "execution_count": 25,
   "id": "03c105a3-2672-4dd6-85aa-e3695eda8ddb",
   "metadata": {
    "vscode": {
     "languageId": "python"
    }
   },
   "outputs": [
    {
     "data": {
      "text/plain": [
       "bool"
      ]
     },
     "execution_count": 25,
     "metadata": {},
     "output_type": "execute_result"
    }
   ],
   "source": [
    "type(b)"
   ]
  },
  {
   "cell_type": "code",
   "execution_count": 27,
   "id": "e7c178cc-8d06-4bd1-b5e2-fdadb64e99ff",
   "metadata": {
    "vscode": {
     "languageId": "python"
    }
   },
   "outputs": [
    {
     "data": {
      "text/plain": [
       "\u001b[0;31mType:\u001b[0m        bool\n",
       "\u001b[0;31mString form:\u001b[0m True\n",
       "\u001b[0;31mDocstring:\u001b[0m  \n",
       "bool(x) -> bool\n",
       "\n",
       "Returns True when the argument x is true, False otherwise.\n",
       "The builtins True and False are the only two instances of the class bool.\n",
       "The class bool is a subclass of the class int, and cannot be subclassed.\n"
      ]
     },
     "metadata": {},
     "output_type": "display_data"
    }
   ],
   "source": [
    "a?"
   ]
  },
  {
   "cell_type": "code",
   "execution_count": 28,
   "id": "54b6caa8-4102-476c-aaf2-39b7900222ad",
   "metadata": {
    "vscode": {
     "languageId": "python"
    }
   },
   "outputs": [
    {
     "data": {
      "text/plain": [
       "\u001b[0;31mType:\u001b[0m        bool\n",
       "\u001b[0;31mString form:\u001b[0m False\n",
       "\u001b[0;31mDocstring:\u001b[0m  \n",
       "bool(x) -> bool\n",
       "\n",
       "Returns True when the argument x is true, False otherwise.\n",
       "The builtins True and False are the only two instances of the class bool.\n",
       "The class bool is a subclass of the class int, and cannot be subclassed.\n"
      ]
     },
     "metadata": {},
     "output_type": "display_data"
    }
   ],
   "source": [
    "b?"
   ]
  },
  {
   "cell_type": "markdown",
   "id": "ede5666c-151f-4cb2-ab74-276cf1381276",
   "metadata": {},
   "source": [
    "`-` bool형의 연산 "
   ]
  },
  {
   "cell_type": "code",
   "execution_count": 15,
   "id": "e68b2f1f-81ab-4c59-9191-faa0fc326617",
   "metadata": {
    "vscode": {
     "languageId": "python"
    }
   },
   "outputs": [],
   "source": [
    "a=True ## 1\n",
    "b=False ## 0 "
   ]
  },
  {
   "cell_type": "code",
   "execution_count": 66,
   "id": "11fb5fc9-4f20-4554-ae96-ae3cd86ccd46",
   "metadata": {
    "vscode": {
     "languageId": "python"
    }
   },
   "outputs": [
    {
     "data": {
      "text/plain": [
       "1"
      ]
     },
     "execution_count": 66,
     "metadata": {},
     "output_type": "execute_result"
    }
   ],
   "source": [
    "a+b"
   ]
  },
  {
   "cell_type": "code",
   "execution_count": 67,
   "id": "1ed0252c-915d-4514-8a86-7c856666ec6a",
   "metadata": {
    "vscode": {
     "languageId": "python"
    }
   },
   "outputs": [
    {
     "data": {
      "text/plain": [
       "0"
      ]
     },
     "execution_count": 67,
     "metadata": {},
     "output_type": "execute_result"
    }
   ],
   "source": [
    "a*b "
   ]
  },
  {
   "cell_type": "markdown",
   "id": "acce630e-1969-43ed-a311-d7a2edbba3c5",
   "metadata": {},
   "source": [
    "`-` complex형 "
   ]
  },
  {
   "cell_type": "code",
   "execution_count": 20,
   "id": "f3f89287-ca1a-440f-a5c4-3c97977e772a",
   "metadata": {
    "vscode": {
     "languageId": "python"
    }
   },
   "outputs": [],
   "source": [
    "a=1+2j\n",
    "b=2-2j"
   ]
  },
  {
   "cell_type": "code",
   "execution_count": 21,
   "id": "09fad72b-86a9-452d-976d-cac70bdaa0fb",
   "metadata": {
    "vscode": {
     "languageId": "python"
    }
   },
   "outputs": [
    {
     "data": {
      "text/plain": [
       "complex"
      ]
     },
     "execution_count": 21,
     "metadata": {},
     "output_type": "execute_result"
    }
   ],
   "source": [
    "type(a)"
   ]
  },
  {
   "cell_type": "code",
   "execution_count": 22,
   "id": "b734208a-0410-441d-8e7f-ea7eada9b75c",
   "metadata": {
    "vscode": {
     "languageId": "python"
    }
   },
   "outputs": [
    {
     "data": {
      "text/plain": [
       "complex"
      ]
     },
     "execution_count": 22,
     "metadata": {},
     "output_type": "execute_result"
    }
   ],
   "source": [
    "type(b)"
   ]
  },
  {
   "cell_type": "code",
   "execution_count": 23,
   "id": "feb1dd1b-a4d8-4ae2-8212-b33995f1b060",
   "metadata": {
    "vscode": {
     "languageId": "python"
    }
   },
   "outputs": [
    {
     "data": {
      "text/plain": [
       "\u001b[0;31mType:\u001b[0m        complex\n",
       "\u001b[0;31mString form:\u001b[0m (1+2j)\n",
       "\u001b[0;31mDocstring:\u001b[0m  \n",
       "Create a complex number from a real part and an optional imaginary part.\n",
       "\n",
       "This is equivalent to (real + imag*1j) where imag defaults to 0.\n"
      ]
     },
     "metadata": {},
     "output_type": "display_data"
    }
   ],
   "source": [
    "a?"
   ]
  },
  {
   "cell_type": "code",
   "execution_count": 24,
   "id": "f2ae33ba-9d6d-4784-8b3f-24ed04d375ee",
   "metadata": {
    "vscode": {
     "languageId": "python"
    }
   },
   "outputs": [
    {
     "data": {
      "text/plain": [
       "\u001b[0;31mType:\u001b[0m        complex\n",
       "\u001b[0;31mString form:\u001b[0m (2-2j)\n",
       "\u001b[0;31mDocstring:\u001b[0m  \n",
       "Create a complex number from a real part and an optional imaginary part.\n",
       "\n",
       "This is equivalent to (real + imag*1j) where imag defaults to 0.\n"
      ]
     },
     "metadata": {},
     "output_type": "display_data"
    }
   ],
   "source": [
    "b?"
   ]
  },
  {
   "cell_type": "code",
   "execution_count": 25,
   "id": "7bd1a508-8a35-495e-88e7-85d8cab5c8ab",
   "metadata": {
    "vscode": {
     "languageId": "python"
    }
   },
   "outputs": [],
   "source": [
    "c=a+b"
   ]
  },
  {
   "cell_type": "code",
   "execution_count": 26,
   "id": "fcddae31-b57c-4b0c-98e1-2a08ebeb7686",
   "metadata": {
    "vscode": {
     "languageId": "python"
    }
   },
   "outputs": [
    {
     "data": {
      "text/plain": [
       "(3+0j)"
      ]
     },
     "execution_count": 26,
     "metadata": {},
     "output_type": "execute_result"
    }
   ],
   "source": [
    "c"
   ]
  },
  {
   "cell_type": "markdown",
   "id": "d2657d7b-788f-415a-8e43-95fbebce5217",
   "metadata": {},
   "source": [
    "`-` 형태변환: float $\\to$ int "
   ]
  },
  {
   "cell_type": "markdown",
   "id": "9d0152b0-ad24-4743-962c-fc4c4f3f83d3",
   "metadata": {},
   "source": [
    "(예시1)"
   ]
  },
  {
   "cell_type": "code",
   "execution_count": 27,
   "id": "6f964452-1762-43f6-ba1d-74596e10f49f",
   "metadata": {
    "vscode": {
     "languageId": "python"
    }
   },
   "outputs": [
    {
     "data": {
      "text/plain": [
       "float"
      ]
     },
     "execution_count": 27,
     "metadata": {},
     "output_type": "execute_result"
    }
   ],
   "source": [
    "a=3.0\n",
    "type(a)"
   ]
  },
  {
   "cell_type": "code",
   "execution_count": 28,
   "id": "c80b0380-031c-4c21-8606-3afffc6c1bca",
   "metadata": {
    "vscode": {
     "languageId": "python"
    }
   },
   "outputs": [],
   "source": [
    "a=int(a)"
   ]
  },
  {
   "cell_type": "code",
   "execution_count": 29,
   "id": "dd9cf497-7fbf-4e39-8f44-e6a343cf0298",
   "metadata": {
    "vscode": {
     "languageId": "python"
    }
   },
   "outputs": [
    {
     "data": {
      "text/plain": [
       "int"
      ]
     },
     "execution_count": 29,
     "metadata": {},
     "output_type": "execute_result"
    }
   ],
   "source": [
    "type(a)"
   ]
  },
  {
   "cell_type": "markdown",
   "id": "70e15659-2a0b-4628-bbf7-d9fdfb9d4e25",
   "metadata": {},
   "source": [
    "(예시2) 이경우는 정보의 손실이 발생 "
   ]
  },
  {
   "cell_type": "code",
   "execution_count": 30,
   "id": "0f945465-ab18-4c52-92cd-6126e5b0efa2",
   "metadata": {
    "vscode": {
     "languageId": "python"
    }
   },
   "outputs": [
    {
     "data": {
      "text/plain": [
       "3"
      ]
     },
     "execution_count": 30,
     "metadata": {},
     "output_type": "execute_result"
    }
   ],
   "source": [
    "a=3.14 \n",
    "int(a)"
   ]
  },
  {
   "cell_type": "markdown",
   "id": "350d0a13-fd99-4b1e-ac82-d70ec98fffaf",
   "metadata": {},
   "source": [
    "`-` 형태변환: int $\\to$ float"
   ]
  },
  {
   "cell_type": "code",
   "execution_count": 39,
   "id": "3ed49aa6-8de6-45bc-9aef-f6b5523c2b72",
   "metadata": {
    "vscode": {
     "languageId": "python"
    }
   },
   "outputs": [
    {
     "data": {
      "text/plain": [
       "int"
      ]
     },
     "execution_count": 39,
     "metadata": {},
     "output_type": "execute_result"
    }
   ],
   "source": [
    "a=3\n",
    "type(a)"
   ]
  },
  {
   "cell_type": "code",
   "execution_count": 40,
   "id": "ea3a05bd-567b-489d-a887-154261ce784c",
   "metadata": {
    "vscode": {
     "languageId": "python"
    }
   },
   "outputs": [
    {
     "data": {
      "text/plain": [
       "float"
      ]
     },
     "execution_count": 40,
     "metadata": {},
     "output_type": "execute_result"
    }
   ],
   "source": [
    "a=float(a)\n",
    "type(a)"
   ]
  },
  {
   "cell_type": "markdown",
   "id": "7996d091-ba5d-4734-8544-8e3fe41cca4d",
   "metadata": {},
   "source": [
    "`-` 형태변환: bool $\\to$ int/float, int/float $\\to$ bool "
   ]
  },
  {
   "cell_type": "markdown",
   "id": "dbf312ce-3b81-459f-8210-149511e1b399",
   "metadata": {},
   "source": [
    "(예시1)"
   ]
  },
  {
   "cell_type": "code",
   "execution_count": 41,
   "id": "4171066b-db9c-422f-abc8-e58545708528",
   "metadata": {
    "vscode": {
     "languageId": "python"
    }
   },
   "outputs": [
    {
     "data": {
      "text/plain": [
       "bool"
      ]
     },
     "execution_count": 41,
     "metadata": {},
     "output_type": "execute_result"
    }
   ],
   "source": [
    "a=True\n",
    "type(a)"
   ]
  },
  {
   "cell_type": "code",
   "execution_count": 42,
   "id": "5653b7c6-9610-4f4a-b528-ffb57b1cfb0e",
   "metadata": {
    "vscode": {
     "languageId": "python"
    }
   },
   "outputs": [
    {
     "data": {
      "text/plain": [
       "1"
      ]
     },
     "execution_count": 42,
     "metadata": {},
     "output_type": "execute_result"
    }
   ],
   "source": [
    "int(a)"
   ]
  },
  {
   "cell_type": "code",
   "execution_count": 43,
   "id": "1301ba7b-4945-4e65-9b7f-e3d1de995f41",
   "metadata": {
    "vscode": {
     "languageId": "python"
    }
   },
   "outputs": [
    {
     "data": {
      "text/plain": [
       "1.0"
      ]
     },
     "execution_count": 43,
     "metadata": {},
     "output_type": "execute_result"
    }
   ],
   "source": [
    "float(a)"
   ]
  },
  {
   "cell_type": "markdown",
   "id": "038a3b40-0a16-4746-bd9c-3e24d63ae520",
   "metadata": {},
   "source": [
    "(예시2)"
   ]
  },
  {
   "cell_type": "code",
   "execution_count": 59,
   "id": "85b738c9-3875-48bf-9aae-c49688ac0db2",
   "metadata": {
    "vscode": {
     "languageId": "python"
    }
   },
   "outputs": [
    {
     "data": {
      "text/plain": [
       "True"
      ]
     },
     "execution_count": 59,
     "metadata": {},
     "output_type": "execute_result"
    }
   ],
   "source": [
    "a=1 \n",
    "bool(a)"
   ]
  },
  {
   "cell_type": "code",
   "execution_count": 60,
   "id": "13e395de-b15d-49e5-9d6b-3fc3f198f4da",
   "metadata": {
    "vscode": {
     "languageId": "python"
    }
   },
   "outputs": [
    {
     "data": {
      "text/plain": [
       "False"
      ]
     },
     "execution_count": 60,
     "metadata": {},
     "output_type": "execute_result"
    }
   ],
   "source": [
    "a=0\n",
    "bool(a)"
   ]
  },
  {
   "cell_type": "markdown",
   "id": "03b12427-b6e3-4e68-baff-35667ff8bf29",
   "metadata": {},
   "source": [
    "(예시3)"
   ]
  },
  {
   "cell_type": "code",
   "execution_count": 61,
   "id": "508ff1d1-e626-4e76-ad52-dbb79377228b",
   "metadata": {
    "vscode": {
     "languageId": "python"
    }
   },
   "outputs": [
    {
     "data": {
      "text/plain": [
       "True"
      ]
     },
     "execution_count": 61,
     "metadata": {},
     "output_type": "execute_result"
    }
   ],
   "source": [
    "a=1.0\n",
    "bool(a)"
   ]
  },
  {
   "cell_type": "code",
   "execution_count": 62,
   "id": "50047512-a291-42b7-aa85-6031fb602437",
   "metadata": {
    "vscode": {
     "languageId": "python"
    }
   },
   "outputs": [
    {
     "data": {
      "text/plain": [
       "False"
      ]
     },
     "execution_count": 62,
     "metadata": {},
     "output_type": "execute_result"
    }
   ],
   "source": [
    "a=0.0\n",
    "bool(a)"
   ]
  },
  {
   "cell_type": "markdown",
   "id": "bbdfa72b-7dbf-4174-ab14-fcbedf5664ab",
   "metadata": {},
   "source": [
    "`-` 이상한 형태변환도 가능하다. (이런것도 바꿔주나 싶은것도 바꿔줌) "
   ]
  },
  {
   "cell_type": "code",
   "execution_count": 75,
   "id": "90d1d403-4f75-40f6-bc61-4e05f69b49e0",
   "metadata": {
    "vscode": {
     "languageId": "python"
    }
   },
   "outputs": [
    {
     "data": {
      "text/plain": [
       "True"
      ]
     },
     "execution_count": 75,
     "metadata": {},
     "output_type": "execute_result"
    }
   ],
   "source": [
    "bool(-3.14)"
   ]
  },
  {
   "cell_type": "markdown",
   "id": "5c5e1653-f31a-404d-b577-fd661d965199",
   "metadata": {},
   "source": [
    "- 저는 이런 코드를 의도적으로 사용하지 않아요.. "
   ]
  },
  {
   "cell_type": "code",
   "execution_count": 74,
   "id": "3304a522-95be-4981-814f-313acd50bbf9",
   "metadata": {
    "vscode": {
     "languageId": "python"
    }
   },
   "outputs": [
    {
     "data": {
      "text/plain": [
       "3"
      ]
     },
     "execution_count": 74,
     "metadata": {},
     "output_type": "execute_result"
    }
   ],
   "source": [
    "int(3.14)"
   ]
  },
  {
   "cell_type": "markdown",
   "id": "7deda6c5-cbb9-49b8-9365-b454b5b96e21",
   "metadata": {},
   "source": [
    "`-` 형태변환이 항상가능한것도 아님 "
   ]
  },
  {
   "cell_type": "code",
   "execution_count": 78,
   "id": "601b94de-583e-4e6d-8953-3782f834cf03",
   "metadata": {
    "vscode": {
     "languageId": "python"
    }
   },
   "outputs": [
    {
     "ename": "TypeError",
     "evalue": "can't convert complex to float",
     "output_type": "error",
     "traceback": [
      "\u001b[0;31m---------------------------------------------------------------------------\u001b[0m",
      "\u001b[0;31mTypeError\u001b[0m                                 Traceback (most recent call last)",
      "Input \u001b[0;32mIn [78]\u001b[0m, in \u001b[0;36m<module>\u001b[0;34m\u001b[0m\n\u001b[0;32m----> 1\u001b[0m \u001b[38;5;28;43mfloat\u001b[39;49m\u001b[43m(\u001b[49m\u001b[38;5;241;43m3\u001b[39;49m\u001b[38;5;241;43m+\u001b[39;49m\u001b[38;5;241;43m0\u001b[39;49m\u001b[43mj\u001b[49m\u001b[43m)\u001b[49m\n",
      "\u001b[0;31mTypeError\u001b[0m: can't convert complex to float"
     ]
    }
   ],
   "source": [
    "float(3+0j) # 사실상 3+0j=3 이므로 float으로 형변환하면 3.0이 되어야 할 것 같은데 변환불가능하다. "
   ]
  },
  {
   "cell_type": "markdown",
   "id": "94843261-465e-442b-a8e1-9b42cd5b72d7",
   "metadata": {},
   "source": [
    "`-` 암묵적형변환 (implicit) "
   ]
  },
  {
   "cell_type": "markdown",
   "id": "5fe07538-16a8-4504-a767-a2fe13c27427",
   "metadata": {},
   "source": [
    "(예비학습) implicit의 의미 \n",
    "- 추운날씨 -> 보일러좀 틀자! (explicit) / 오늘 날씨 좀 추운 것 같지 않아? (implicit) \n",
    "- 짜장면 먹을래? -> 싫어! (explicit) / 난 어제 짜장면 먹었는데.. (implicit)"
   ]
  },
  {
   "cell_type": "markdown",
   "id": "c80c3bfe-7dfc-4cee-99c7-4f0a6277f171",
   "metadata": {},
   "source": [
    "(예제) "
   ]
  },
  {
   "cell_type": "code",
   "execution_count": 50,
   "id": "b8eb78ad-969a-4b23-acb6-ec2192d137ad",
   "metadata": {
    "vscode": {
     "languageId": "python"
    }
   },
   "outputs": [
    {
     "data": {
      "text/plain": [
       "1"
      ]
     },
     "execution_count": 50,
     "metadata": {},
     "output_type": "execute_result"
    }
   ],
   "source": [
    "True * 1 # 1을 곱할건데 너 계속 True로 있을꺼야? "
   ]
  },
  {
   "cell_type": "code",
   "execution_count": 82,
   "id": "f9ec11b4-a75e-4c88-a4ad-de504ea3a556",
   "metadata": {
    "vscode": {
     "languageId": "python"
    }
   },
   "outputs": [
    {
     "data": {
      "text/plain": [
       "1.0"
      ]
     },
     "execution_count": 82,
     "metadata": {},
     "output_type": "execute_result"
    }
   ],
   "source": [
    "1 * 1.0 # 1.0을 곱할건데 너 계속 int로 있을꺼야? "
   ]
  },
  {
   "cell_type": "code",
   "execution_count": 84,
   "id": "5b72ccde-ba9e-4741-98ed-851225e16d28",
   "metadata": {
    "vscode": {
     "languageId": "python"
    }
   },
   "outputs": [
    {
     "data": {
      "text/plain": [
       "2"
      ]
     },
     "execution_count": 84,
     "metadata": {},
     "output_type": "execute_result"
    }
   ],
   "source": [
    "True+True # +연산을 할건데 계속 True로 있을꺼야? "
   ]
  },
  {
   "cell_type": "markdown",
   "id": "3c45be56-6071-414a-a656-ee0be7fbb143",
   "metadata": {},
   "source": [
    "# 숙제 "
   ]
  },
  {
   "cell_type": "markdown",
   "id": "b283b5a7-544b-4abe-b48a-5cc0c539616d",
   "metadata": {},
   "source": [
    "아래 강의노트의 영상 1-3을 참고하여 주피터랩을 설치하고 설치성공한 화면을 스크린샷으로 LMS에 제출 "
   ]
  },
  {
   "cell_type": "markdown",
   "id": "6cc71da9-b54c-4d40-bed3-3771257debc3",
   "metadata": {},
   "source": [
    "<https://guebin.github.io/IP2022/2022/03/07/(1주차)-3월7일.html>"
   ]
  }
 ],
 "metadata": {
  "kernelspec": {
   "display_name": "Python 3",
   "language": "python",
   "name": "python3"
  },
  "language_info": {
   "codemirror_mode": {
    "name": "ipython",
    "version": 3
   },
   "file_extension": ".py",
   "mimetype": "text/x-python",
   "name": "python",
   "nbconvert_exporter": "python",
   "pygments_lexer": "ipython3",
   "version": "3.8.16"
  }
 },
 "nbformat": 4,
 "nbformat_minor": 5
}
