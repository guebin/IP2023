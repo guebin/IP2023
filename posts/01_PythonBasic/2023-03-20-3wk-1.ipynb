{
 "cells": [
  {
   "cell_type": "raw",
   "id": "da48402f-cfcf-404a-a37f-7e08f71fcb27",
   "metadata": {},
   "source": [
    "---\n",
    "title: \"03wk-1: 파이썬의 자료형 (4)\"\n",
    "author: \"최규빈\"\n",
    "date: \"03/20/2023\"\n",
    "---"
   ]
  },
  {
   "cell_type": "markdown",
   "id": "882e5170-04a8-40df-bea5-a4eec0ae5ed2",
   "metadata": {},
   "source": [
    "<a href=\"https://colab.research.google.com/github/guebin/PP2023/blob/main/posts/01_PythonBasic/2023-03-20-3wk-1.ipynb\"><img src=\"https://colab.research.google.com/assets/colab-badge.svg\" style=\"text-align: left\"></a>"
   ]
  },
  {
   "cell_type": "markdown",
   "id": "7a6b7416-3845-4c65-92b0-afa2f5223037",
   "metadata": {},
   "source": [
    "# 강의영상 "
   ]
  },
  {
   "cell_type": "markdown",
   "id": "93f77a2e-eabe-437c-9da2-a3df705ce629",
   "metadata": {},
   "source": [
    "# list 고급내용 2"
   ]
  },
  {
   "cell_type": "markdown",
   "id": "95441d53-dd02-4e00-ab86-eb90522a8452",
   "metadata": {},
   "source": [
    "## 리스트 원소 추가"
   ]
  },
  {
   "cell_type": "markdown",
   "id": "dbcdb21f-a2e9-4faa-9361-3f6917860ee7",
   "metadata": {},
   "source": [
    "(예제) 비어있는 리스트를 만들고 원소 0,1,2를 차례로 추가하여 보자. "
   ]
  },
  {
   "cell_type": "markdown",
   "id": "59d9ccee-da5e-4816-afe6-0f7d6f831903",
   "metadata": {},
   "source": [
    "(풀이1)"
   ]
  },
  {
   "cell_type": "code",
   "execution_count": 130,
   "id": "672c84f9-8c0d-446e-b737-794e144ccd35",
   "metadata": {},
   "outputs": [
    {
     "data": {
      "text/plain": [
       "[]"
      ]
     },
     "execution_count": 130,
     "metadata": {},
     "output_type": "execute_result"
    }
   ],
   "source": [
    "a=[]\n",
    "a"
   ]
  },
  {
   "cell_type": "code",
   "execution_count": 131,
   "id": "a748c186-ef90-4fef-a0ec-2a2da9119fe7",
   "metadata": {},
   "outputs": [
    {
     "data": {
      "text/plain": [
       "[0]"
      ]
     },
     "execution_count": 131,
     "metadata": {},
     "output_type": "execute_result"
    }
   ],
   "source": [
    "a= a + [0] \n",
    "a"
   ]
  },
  {
   "cell_type": "code",
   "execution_count": 132,
   "id": "dc96b407-3f7c-46a6-84f7-da5c1c8dab6b",
   "metadata": {},
   "outputs": [
    {
     "data": {
      "text/plain": [
       "[0, 1]"
      ]
     },
     "execution_count": 132,
     "metadata": {},
     "output_type": "execute_result"
    }
   ],
   "source": [
    "a= a + [1]\n",
    "a"
   ]
  },
  {
   "cell_type": "code",
   "execution_count": 133,
   "id": "bdbf2e2d-8c65-467f-8acb-8b3cf2d86481",
   "metadata": {},
   "outputs": [
    {
     "data": {
      "text/plain": [
       "[0, 1, 2]"
      ]
     },
     "execution_count": 133,
     "metadata": {},
     "output_type": "execute_result"
    }
   ],
   "source": [
    "a= a + [2]\n",
    "a"
   ]
  },
  {
   "cell_type": "markdown",
   "id": "effea790-f9c6-41ad-9057-abbf87db3d04",
   "metadata": {},
   "source": [
    "(풀이2)"
   ]
  },
  {
   "cell_type": "code",
   "execution_count": 134,
   "id": "e8897c79-618b-464f-92f2-a688c879d4f4",
   "metadata": {},
   "outputs": [
    {
     "data": {
      "text/plain": [
       "[]"
      ]
     },
     "execution_count": 134,
     "metadata": {},
     "output_type": "execute_result"
    }
   ],
   "source": [
    "a=[]\n",
    "a"
   ]
  },
  {
   "cell_type": "code",
   "execution_count": 135,
   "id": "95f756ba-6dd6-4567-be03-8f830ca78530",
   "metadata": {},
   "outputs": [
    {
     "data": {
      "text/plain": [
       "[0]"
      ]
     },
     "execution_count": 135,
     "metadata": {},
     "output_type": "execute_result"
    }
   ],
   "source": [
    "a += [0] \n",
    "a"
   ]
  },
  {
   "cell_type": "code",
   "execution_count": 136,
   "id": "2e8838c1-a67b-4221-af77-2240bcf05884",
   "metadata": {},
   "outputs": [
    {
     "data": {
      "text/plain": [
       "[0, 1]"
      ]
     },
     "execution_count": 136,
     "metadata": {},
     "output_type": "execute_result"
    }
   ],
   "source": [
    "a += [1]\n",
    "a"
   ]
  },
  {
   "cell_type": "code",
   "execution_count": 137,
   "id": "bfcdd29a-3a35-46a4-9b5f-d1fac1df53bc",
   "metadata": {},
   "outputs": [
    {
     "data": {
      "text/plain": [
       "[0, 1, 2]"
      ]
     },
     "execution_count": 137,
     "metadata": {},
     "output_type": "execute_result"
    }
   ],
   "source": [
    "a += [2]\n",
    "a"
   ]
  },
  {
   "cell_type": "markdown",
   "id": "f4209f09-6859-44c2-9b32-ba5ecf1cdbcf",
   "metadata": {},
   "source": [
    "- 암기법: 중복되는 변수를 지우고 연산자의 순서를 바꾼다. "
   ]
  },
  {
   "cell_type": "markdown",
   "id": "fe7c1e64-bd78-4802-80e6-844858978d01",
   "metadata": {},
   "source": [
    "(풀이3) 리스트 특화기능(=메소드)를 이용 "
   ]
  },
  {
   "cell_type": "code",
   "execution_count": 142,
   "id": "60d70bdb-e6c6-48ed-9822-aee4574de2cb",
   "metadata": {},
   "outputs": [
    {
     "data": {
      "text/plain": [
       "[]"
      ]
     },
     "execution_count": 142,
     "metadata": {},
     "output_type": "execute_result"
    }
   ],
   "source": [
    "a=[]\n",
    "a"
   ]
  },
  {
   "cell_type": "code",
   "execution_count": 146,
   "id": "c6f36fdc-8e9f-4f9d-aa42-4b9cd29c6a65",
   "metadata": {},
   "outputs": [
    {
     "data": {
      "text/plain": [
       "[0]"
      ]
     },
     "execution_count": 146,
     "metadata": {},
     "output_type": "execute_result"
    }
   ],
   "source": [
    "a.append(0)\n",
    "a"
   ]
  },
  {
   "cell_type": "code",
   "execution_count": 147,
   "id": "a5a0154f-f878-48fb-906f-46862fee0648",
   "metadata": {},
   "outputs": [
    {
     "data": {
      "text/plain": [
       "[0, 1]"
      ]
     },
     "execution_count": 147,
     "metadata": {},
     "output_type": "execute_result"
    }
   ],
   "source": [
    "a.append(1)\n",
    "a"
   ]
  },
  {
   "cell_type": "code",
   "execution_count": 148,
   "id": "3bf8b3bc-c1bc-46c7-91e1-73cc1fb15859",
   "metadata": {},
   "outputs": [
    {
     "data": {
      "text/plain": [
       "[0, 1, 2]"
      ]
     },
     "execution_count": 148,
     "metadata": {},
     "output_type": "execute_result"
    }
   ],
   "source": [
    "a.append(2)\n",
    "a"
   ]
  },
  {
   "cell_type": "markdown",
   "id": "191c06a6-7f20-4eb3-84b2-04f517146711",
   "metadata": {},
   "source": [
    "## `a+[4]`와 `a.append(4)`의 차이점은? "
   ]
  },
  {
   "cell_type": "markdown",
   "id": "2dbc2cad-6747-400a-93ac-cd6a4e0fcbd6",
   "metadata": {},
   "source": [
    "(관찰1)"
   ]
  },
  {
   "cell_type": "code",
   "execution_count": 149,
   "id": "156c02f3-48b8-4ba2-9f7d-6576c4a6bba1",
   "metadata": {},
   "outputs": [
    {
     "data": {
      "text/plain": [
       "[1, 2, 3, 4]"
      ]
     },
     "execution_count": 149,
     "metadata": {},
     "output_type": "execute_result"
    }
   ],
   "source": [
    "a=[1,2,3]\n",
    "a+[4] ## 리스트 a와 리스트 [4]의 연산결과를 알려줘 "
   ]
  },
  {
   "cell_type": "code",
   "execution_count": 151,
   "id": "5d231af5-6b5f-457a-86f6-e287eb49f6d9",
   "metadata": {},
   "outputs": [
    {
     "data": {
      "text/plain": [
       "[1, 2, 3]"
      ]
     },
     "execution_count": 151,
     "metadata": {},
     "output_type": "execute_result"
    }
   ],
   "source": [
    "a ## a는 그대로임. 변화없음 "
   ]
  },
  {
   "cell_type": "markdown",
   "id": "d975aa8a-f3ff-410a-862f-c29e9460fdc2",
   "metadata": {},
   "source": [
    "(관찰2)"
   ]
  },
  {
   "cell_type": "code",
   "execution_count": 152,
   "id": "f6f94a68-6ff2-4f9b-af80-b54f79b1bf52",
   "metadata": {},
   "outputs": [],
   "source": [
    "a=[1,2,3]\n",
    "a.append(4)"
   ]
  },
  {
   "cell_type": "code",
   "execution_count": 154,
   "id": "652e449e-f195-45d2-bb98-705f27178ce1",
   "metadata": {},
   "outputs": [
    {
     "data": {
      "text/plain": [
       "[1, 2, 3, 4]"
      ]
     },
     "execution_count": 154,
     "metadata": {},
     "output_type": "execute_result"
    }
   ],
   "source": [
    "a ## a자체가 변화함 "
   ]
  },
  {
   "cell_type": "markdown",
   "id": "b4e98d65-93fa-49b9-b963-8af63d40afb0",
   "metadata": {},
   "source": [
    "비슷해보이지만 굉장히 미묘한 차이가 있음 "
   ]
  },
  {
   "cell_type": "markdown",
   "id": "cddbcc34-ae10-4b31-af0c-1be0615a0d32",
   "metadata": {},
   "source": [
    "`a.append(4)`: `a`에 4를 append하라 $\\to$ `a`가 변함\n",
    "\n",
    "`a+[4]`: `a`와 4를 연산하라 "
   ]
  },
  {
   "cell_type": "markdown",
   "id": "69c25a47-05e1-4f07-b61e-5aba1f6e53c2",
   "metadata": {},
   "source": [
    "## 리스트 특수기능 "
   ]
  },
  {
   "cell_type": "markdown",
   "id": "12df28a3-2794-4e09-9dd7-cfba8d117d6b",
   "metadata": {},
   "source": [
    "**(append)**"
   ]
  },
  {
   "cell_type": "code",
   "execution_count": 162,
   "id": "0bd3fb43-b8d6-43ad-8cef-ac7e5cd8d8b1",
   "metadata": {},
   "outputs": [
    {
     "data": {
      "text/plain": [
       "\u001b[0;31mSignature:\u001b[0m \u001b[0ma\u001b[0m\u001b[0;34m.\u001b[0m\u001b[0mappend\u001b[0m\u001b[0;34m(\u001b[0m\u001b[0mobject\u001b[0m\u001b[0;34m,\u001b[0m \u001b[0;34m/\u001b[0m\u001b[0;34m)\u001b[0m\u001b[0;34m\u001b[0m\u001b[0;34m\u001b[0m\u001b[0m\n",
       "\u001b[0;31mDocstring:\u001b[0m Append object to the end of the list.\n",
       "\u001b[0;31mType:\u001b[0m      builtin_function_or_method\n"
      ]
     },
     "metadata": {},
     "output_type": "display_data"
    }
   ],
   "source": [
    "a=[1,2,3,4]\n",
    "a.append?"
   ]
  },
  {
   "cell_type": "code",
   "execution_count": 163,
   "id": "e6ca368a-b585-40a7-ba53-a53abb95b295",
   "metadata": {},
   "outputs": [
    {
     "data": {
      "text/plain": [
       "[1, 2, 3, 4, 5]"
      ]
     },
     "execution_count": 163,
     "metadata": {},
     "output_type": "execute_result"
    }
   ],
   "source": [
    "a.append(5)\n",
    "a"
   ]
  },
  {
   "cell_type": "markdown",
   "id": "260e2013-7731-4c2e-8c9c-a06e7a5d86c6",
   "metadata": {},
   "source": [
    "**(clear)**"
   ]
  },
  {
   "cell_type": "code",
   "execution_count": 166,
   "id": "8e18a295-0987-4f6a-ba27-673e3c9912e6",
   "metadata": {},
   "outputs": [
    {
     "data": {
      "text/plain": [
       "\u001b[0;31mSignature:\u001b[0m \u001b[0ma\u001b[0m\u001b[0;34m.\u001b[0m\u001b[0mclear\u001b[0m\u001b[0;34m(\u001b[0m\u001b[0;34m)\u001b[0m\u001b[0;34m\u001b[0m\u001b[0;34m\u001b[0m\u001b[0m\n",
       "\u001b[0;31mDocstring:\u001b[0m Remove all items from list.\n",
       "\u001b[0;31mType:\u001b[0m      builtin_function_or_method\n"
      ]
     },
     "metadata": {},
     "output_type": "display_data"
    }
   ],
   "source": [
    "a=[1,2,3,4]\n",
    "a.clear?"
   ]
  },
  {
   "cell_type": "code",
   "execution_count": 168,
   "id": "0785ead4-51c0-4856-9d05-5c8ab61d1f6b",
   "metadata": {},
   "outputs": [
    {
     "data": {
      "text/plain": [
       "[]"
      ]
     },
     "execution_count": 168,
     "metadata": {},
     "output_type": "execute_result"
    }
   ],
   "source": [
    "a.clear()\n",
    "a"
   ]
  },
  {
   "cell_type": "markdown",
   "id": "176b11da-1d76-40be-a2d5-5e015640c0f6",
   "metadata": {},
   "source": [
    "**(copy)**"
   ]
  },
  {
   "cell_type": "code",
   "execution_count": 170,
   "id": "7146c588-741e-44f4-97ee-78252f4f8e41",
   "metadata": {},
   "outputs": [
    {
     "data": {
      "text/plain": [
       "\u001b[0;31mSignature:\u001b[0m \u001b[0ma\u001b[0m\u001b[0;34m.\u001b[0m\u001b[0mcopy\u001b[0m\u001b[0;34m(\u001b[0m\u001b[0;34m)\u001b[0m\u001b[0;34m\u001b[0m\u001b[0;34m\u001b[0m\u001b[0m\n",
       "\u001b[0;31mDocstring:\u001b[0m Return a shallow copy of the list.\n",
       "\u001b[0;31mType:\u001b[0m      builtin_function_or_method\n"
      ]
     },
     "metadata": {},
     "output_type": "display_data"
    }
   ],
   "source": [
    "a=[1,2,3,4]\n",
    "a.copy?"
   ]
  },
  {
   "cell_type": "code",
   "execution_count": 171,
   "id": "8c587c54-cd32-4309-a77e-ad7f6d0928ea",
   "metadata": {},
   "outputs": [
    {
     "data": {
      "text/plain": [
       "[1, 2, 3, 4]"
      ]
     },
     "execution_count": 171,
     "metadata": {},
     "output_type": "execute_result"
    }
   ],
   "source": [
    "b=a.copy()\n",
    "b"
   ]
  },
  {
   "cell_type": "markdown",
   "id": "b02357ec-0049-4c80-b481-c93e11fe86fe",
   "metadata": {},
   "source": [
    "**(count)**"
   ]
  },
  {
   "cell_type": "code",
   "execution_count": 4,
   "id": "59d4197d-8905-42d8-a53f-2332729c4e9c",
   "metadata": {},
   "outputs": [
    {
     "data": {
      "text/plain": [
       "\u001b[0;31mSignature:\u001b[0m \u001b[0ma\u001b[0m\u001b[0;34m.\u001b[0m\u001b[0mcount\u001b[0m\u001b[0;34m(\u001b[0m\u001b[0mvalue\u001b[0m\u001b[0;34m,\u001b[0m \u001b[0;34m/\u001b[0m\u001b[0;34m)\u001b[0m\u001b[0;34m\u001b[0m\u001b[0;34m\u001b[0m\u001b[0m\n",
       "\u001b[0;31mDocstring:\u001b[0m Return number of occurrences of value.\n",
       "\u001b[0;31mType:\u001b[0m      builtin_function_or_method"
      ]
     },
     "metadata": {},
     "output_type": "display_data"
    }
   ],
   "source": [
    "a=['a','a','b','b','b','c']\n",
    "a.count?"
   ]
  },
  {
   "cell_type": "code",
   "execution_count": 5,
   "id": "aa0ae32e-2e35-4cbf-8e5e-0f09dfc51ac8",
   "metadata": {},
   "outputs": [
    {
     "data": {
      "text/plain": [
       "2"
      ]
     },
     "execution_count": 5,
     "metadata": {},
     "output_type": "execute_result"
    }
   ],
   "source": [
    "a.count('a')"
   ]
  },
  {
   "cell_type": "code",
   "execution_count": 6,
   "id": "2af35690-ee60-41b9-84ab-d9907a91f423",
   "metadata": {},
   "outputs": [
    {
     "data": {
      "text/plain": [
       "3"
      ]
     },
     "execution_count": 6,
     "metadata": {},
     "output_type": "execute_result"
    }
   ],
   "source": [
    "a.count('b')"
   ]
  },
  {
   "cell_type": "code",
   "execution_count": 7,
   "id": "ea4094a1-2087-4967-be63-44ad2e0f2960",
   "metadata": {},
   "outputs": [
    {
     "data": {
      "text/plain": [
       "1"
      ]
     },
     "execution_count": 7,
     "metadata": {},
     "output_type": "execute_result"
    }
   ],
   "source": [
    "a.count('c')"
   ]
  },
  {
   "cell_type": "markdown",
   "id": "5ffe1816-4127-47de-bc62-d2f9eb6da930",
   "metadata": {},
   "source": [
    "**(extend)**"
   ]
  },
  {
   "cell_type": "code",
   "execution_count": 8,
   "id": "610d3ef6-4ba6-40b1-97b3-2ccbf4493328",
   "metadata": {},
   "outputs": [],
   "source": [
    "a=[1,2,3,4]\n",
    "b=[-1,-2,-3,-4]"
   ]
  },
  {
   "cell_type": "code",
   "execution_count": 9,
   "id": "ae158036-6c06-429e-87c7-b153b7ced0db",
   "metadata": {},
   "outputs": [
    {
     "data": {
      "text/plain": [
       "[1, 2, 3, 4, -1, -2, -3, -4]"
      ]
     },
     "execution_count": 9,
     "metadata": {},
     "output_type": "execute_result"
    }
   ],
   "source": [
    "a.extend(b)\n",
    "a"
   ]
  },
  {
   "cell_type": "code",
   "execution_count": 10,
   "id": "054878f6-2774-41e6-8ae1-83e1b3cb36c7",
   "metadata": {},
   "outputs": [],
   "source": [
    "a=[1,2,3,4]\n",
    "b=[-1,-2,-3,-4]"
   ]
  },
  {
   "cell_type": "code",
   "execution_count": 11,
   "id": "befbd3a3-828e-44a0-a37f-4daebd2a9ba1",
   "metadata": {},
   "outputs": [],
   "source": [
    "a.append(b)"
   ]
  },
  {
   "cell_type": "code",
   "execution_count": 12,
   "id": "c99fa162-719e-4885-99f1-5a42c271cb3d",
   "metadata": {},
   "outputs": [
    {
     "data": {
      "text/plain": [
       "[1, 2, 3, 4, [-1, -2, -3, -4]]"
      ]
     },
     "execution_count": 12,
     "metadata": {},
     "output_type": "execute_result"
    }
   ],
   "source": [
    "a"
   ]
  },
  {
   "cell_type": "markdown",
   "id": "df35778b-856f-4131-a8ce-8b7a7fd5aa4e",
   "metadata": {},
   "source": [
    "**(index)**"
   ]
  },
  {
   "cell_type": "code",
   "execution_count": 17,
   "id": "81084029-0603-4c5e-b87c-b58e362592be",
   "metadata": {},
   "outputs": [
    {
     "data": {
      "text/plain": [
       "\u001b[0;31mSignature:\u001b[0m \u001b[0ma\u001b[0m\u001b[0;34m.\u001b[0m\u001b[0mindex\u001b[0m\u001b[0;34m(\u001b[0m\u001b[0mvalue\u001b[0m\u001b[0;34m,\u001b[0m \u001b[0mstart\u001b[0m\u001b[0;34m=\u001b[0m\u001b[0;36m0\u001b[0m\u001b[0;34m,\u001b[0m \u001b[0mstop\u001b[0m\u001b[0;34m=\u001b[0m\u001b[0;36m9223372036854775807\u001b[0m\u001b[0;34m,\u001b[0m \u001b[0;34m/\u001b[0m\u001b[0;34m)\u001b[0m\u001b[0;34m\u001b[0m\u001b[0;34m\u001b[0m\u001b[0m\n",
       "\u001b[0;31mDocstring:\u001b[0m\n",
       "Return first index of value.\n",
       "\n",
       "Raises ValueError if the value is not present.\n",
       "\u001b[0;31mType:\u001b[0m      builtin_function_or_method"
      ]
     },
     "metadata": {},
     "output_type": "display_data"
    }
   ],
   "source": [
    "a=[11,22,'a',True, 22,'a']\n",
    "a.index?"
   ]
  },
  {
   "cell_type": "markdown",
   "id": "f555f41f-e0f8-4ac3-b7e1-31e98f240956",
   "metadata": {},
   "source": [
    "*사용방법1*"
   ]
  },
  {
   "cell_type": "code",
   "execution_count": 18,
   "id": "5226cc1e-0113-44ce-8071-1b258e3fa226",
   "metadata": {},
   "outputs": [
    {
     "data": {
      "text/plain": [
       "0"
      ]
     },
     "execution_count": 18,
     "metadata": {},
     "output_type": "execute_result"
    }
   ],
   "source": [
    "a.index(11)"
   ]
  },
  {
   "cell_type": "code",
   "execution_count": 19,
   "id": "ceb8422f-a6d1-4477-8638-ff555432b24c",
   "metadata": {},
   "outputs": [
    {
     "data": {
      "text/plain": [
       "1"
      ]
     },
     "execution_count": 19,
     "metadata": {},
     "output_type": "execute_result"
    }
   ],
   "source": [
    "a.index(22)"
   ]
  },
  {
   "cell_type": "code",
   "execution_count": 20,
   "id": "9d21375b-b3bd-45ba-9853-f8abe8069f0d",
   "metadata": {},
   "outputs": [
    {
     "data": {
      "text/plain": [
       "2"
      ]
     },
     "execution_count": 20,
     "metadata": {},
     "output_type": "execute_result"
    }
   ],
   "source": [
    "a.index('a')"
   ]
  },
  {
   "cell_type": "code",
   "execution_count": 21,
   "id": "87de829c-0697-4780-81fe-e4ceff106fc2",
   "metadata": {},
   "outputs": [
    {
     "data": {
      "text/plain": [
       "3"
      ]
     },
     "execution_count": 21,
     "metadata": {},
     "output_type": "execute_result"
    }
   ],
   "source": [
    "a.index(True)"
   ]
  },
  {
   "cell_type": "markdown",
   "id": "08b21626-663b-4d88-88b5-01c439581ac9",
   "metadata": {},
   "source": [
    "**(insert)**"
   ]
  },
  {
   "cell_type": "code",
   "execution_count": 22,
   "id": "42ac5c44-8a25-4397-9bb7-f5593fddeee0",
   "metadata": {},
   "outputs": [
    {
     "data": {
      "text/plain": [
       "\u001b[0;31mSignature:\u001b[0m \u001b[0ma\u001b[0m\u001b[0;34m.\u001b[0m\u001b[0minsert\u001b[0m\u001b[0;34m(\u001b[0m\u001b[0mindex\u001b[0m\u001b[0;34m,\u001b[0m \u001b[0mobject\u001b[0m\u001b[0;34m,\u001b[0m \u001b[0;34m/\u001b[0m\u001b[0;34m)\u001b[0m\u001b[0;34m\u001b[0m\u001b[0;34m\u001b[0m\u001b[0m\n",
       "\u001b[0;31mDocstring:\u001b[0m Insert object before index.\n",
       "\u001b[0;31mType:\u001b[0m      builtin_function_or_method"
      ]
     },
     "metadata": {},
     "output_type": "display_data"
    }
   ],
   "source": [
    "a=[1,2,3]\n",
    "a.insert?"
   ]
  },
  {
   "cell_type": "code",
   "execution_count": 23,
   "id": "5ddb180a-258c-4f7c-b572-4a1c7586501f",
   "metadata": {},
   "outputs": [
    {
     "data": {
      "text/plain": [
       "[1, 88, 2, 3]"
      ]
     },
     "execution_count": 23,
     "metadata": {},
     "output_type": "execute_result"
    }
   ],
   "source": [
    "a.insert(1,88) \n",
    "a"
   ]
  },
  {
   "cell_type": "markdown",
   "id": "1de4e857-97aa-4e51-abbb-8930793be24b",
   "metadata": {},
   "source": [
    "**(pop)**"
   ]
  },
  {
   "cell_type": "code",
   "execution_count": 24,
   "id": "e38a3df0-46ef-4fe3-9ff1-ac04f721d061",
   "metadata": {},
   "outputs": [
    {
     "data": {
      "text/plain": [
       "\u001b[0;31mSignature:\u001b[0m \u001b[0ma\u001b[0m\u001b[0;34m.\u001b[0m\u001b[0mpop\u001b[0m\u001b[0;34m(\u001b[0m\u001b[0mindex\u001b[0m\u001b[0;34m=\u001b[0m\u001b[0;34m-\u001b[0m\u001b[0;36m1\u001b[0m\u001b[0;34m,\u001b[0m \u001b[0;34m/\u001b[0m\u001b[0;34m)\u001b[0m\u001b[0;34m\u001b[0m\u001b[0;34m\u001b[0m\u001b[0m\n",
       "\u001b[0;31mDocstring:\u001b[0m\n",
       "Remove and return item at index (default last).\n",
       "\n",
       "Raises IndexError if list is empty or index is out of range.\n",
       "\u001b[0;31mType:\u001b[0m      builtin_function_or_method"
      ]
     },
     "metadata": {},
     "output_type": "display_data"
    }
   ],
   "source": [
    "a=['a',1,2,'d']\n",
    "a.pop?"
   ]
  },
  {
   "cell_type": "code",
   "execution_count": 25,
   "id": "f8a4b902-c813-43ba-b5cd-f94a759d0ff1",
   "metadata": {},
   "outputs": [
    {
     "data": {
      "text/plain": [
       "'d'"
      ]
     },
     "execution_count": 25,
     "metadata": {},
     "output_type": "execute_result"
    }
   ],
   "source": [
    "a.pop() # index=-1 이므로 마지막원소가 나타남"
   ]
  },
  {
   "cell_type": "code",
   "execution_count": 26,
   "id": "3e3f5f28-3686-4dbb-bf8b-36f24ffd6c64",
   "metadata": {},
   "outputs": [
    {
     "data": {
      "text/plain": [
       "['a', 1, 2]"
      ]
     },
     "execution_count": 26,
     "metadata": {},
     "output_type": "execute_result"
    }
   ],
   "source": [
    "a # a는 마지막 원소가 사라진 상태"
   ]
  },
  {
   "cell_type": "code",
   "execution_count": 27,
   "id": "7c66da37-052b-47a2-8d25-7b5deb4c5c9b",
   "metadata": {},
   "outputs": [
    {
     "data": {
      "text/plain": [
       "'a'"
      ]
     },
     "execution_count": 27,
     "metadata": {},
     "output_type": "execute_result"
    }
   ],
   "source": [
    "a.pop(0) # index=0 이므로 첫번쨰 원소가 나타남"
   ]
  },
  {
   "cell_type": "code",
   "execution_count": 28,
   "id": "f803baf4-4a07-45a1-8698-c5abcf37da3a",
   "metadata": {},
   "outputs": [
    {
     "data": {
      "text/plain": [
       "[1, 2]"
      ]
     },
     "execution_count": 28,
     "metadata": {},
     "output_type": "execute_result"
    }
   ],
   "source": [
    "a # a에는 첫번째 원소가 사라진 상태"
   ]
  },
  {
   "cell_type": "markdown",
   "id": "337aee52-480f-4571-abf4-a90a24e68b29",
   "metadata": {},
   "source": [
    "**(remove)**"
   ]
  },
  {
   "cell_type": "code",
   "execution_count": 29,
   "id": "d2b16621-dc4e-4729-bbbd-b196fcd3c84f",
   "metadata": {},
   "outputs": [
    {
     "data": {
      "text/plain": [
       "\u001b[0;31mSignature:\u001b[0m \u001b[0ma\u001b[0m\u001b[0;34m.\u001b[0m\u001b[0mremove\u001b[0m\u001b[0;34m(\u001b[0m\u001b[0mvalue\u001b[0m\u001b[0;34m,\u001b[0m \u001b[0;34m/\u001b[0m\u001b[0;34m)\u001b[0m\u001b[0;34m\u001b[0m\u001b[0;34m\u001b[0m\u001b[0m\n",
       "\u001b[0;31mDocstring:\u001b[0m\n",
       "Remove first occurrence of value.\n",
       "\n",
       "Raises ValueError if the value is not present.\n",
       "\u001b[0;31mType:\u001b[0m      builtin_function_or_method"
      ]
     },
     "metadata": {},
     "output_type": "display_data"
    }
   ],
   "source": [
    "a=['a',2,3,'d']\n",
    "a.remove?"
   ]
  },
  {
   "cell_type": "code",
   "execution_count": 30,
   "id": "4fc769f9-6695-4b56-9f8e-052e741b7b00",
   "metadata": {},
   "outputs": [],
   "source": [
    "a.remove('d')"
   ]
  },
  {
   "cell_type": "code",
   "execution_count": 31,
   "id": "515b51de-6e8f-48e5-a4d7-baec886407e4",
   "metadata": {},
   "outputs": [
    {
     "data": {
      "text/plain": [
       "['a', 2, 3]"
      ]
     },
     "execution_count": 31,
     "metadata": {},
     "output_type": "execute_result"
    }
   ],
   "source": [
    "a"
   ]
  },
  {
   "cell_type": "code",
   "execution_count": 32,
   "id": "c5fd20de-b3c4-4b09-9b12-eaefeea45acb",
   "metadata": {},
   "outputs": [],
   "source": [
    "a.remove('a')"
   ]
  },
  {
   "cell_type": "code",
   "execution_count": 33,
   "id": "ec2e67aa-2eda-4007-873c-6931ea57f584",
   "metadata": {},
   "outputs": [
    {
     "data": {
      "text/plain": [
       "[2, 3]"
      ]
     },
     "execution_count": 33,
     "metadata": {},
     "output_type": "execute_result"
    }
   ],
   "source": [
    "a"
   ]
  },
  {
   "cell_type": "markdown",
   "id": "6e439843-9fcf-4947-85a9-7428e9e1657f",
   "metadata": {},
   "source": [
    "**(reverse)**"
   ]
  },
  {
   "cell_type": "code",
   "execution_count": 34,
   "id": "ce005fac-7e25-4944-9c40-ada3094288d0",
   "metadata": {},
   "outputs": [
    {
     "data": {
      "text/plain": [
       "\u001b[0;31mSignature:\u001b[0m \u001b[0ma\u001b[0m\u001b[0;34m.\u001b[0m\u001b[0mreverse\u001b[0m\u001b[0;34m(\u001b[0m\u001b[0;34m)\u001b[0m\u001b[0;34m\u001b[0m\u001b[0;34m\u001b[0m\u001b[0m\n",
       "\u001b[0;31mDocstring:\u001b[0m Reverse *IN PLACE*.\n",
       "\u001b[0;31mType:\u001b[0m      builtin_function_or_method"
      ]
     },
     "metadata": {},
     "output_type": "display_data"
    }
   ],
   "source": [
    "a=[1,2,3,4]\n",
    "a.reverse?"
   ]
  },
  {
   "cell_type": "code",
   "execution_count": 35,
   "id": "d4ac7fb3-ee36-4748-ac04-a766ebd1ae45",
   "metadata": {},
   "outputs": [
    {
     "data": {
      "text/plain": [
       "[4, 3, 2, 1]"
      ]
     },
     "execution_count": 35,
     "metadata": {},
     "output_type": "execute_result"
    }
   ],
   "source": [
    "a.reverse()\n",
    "a"
   ]
  },
  {
   "cell_type": "markdown",
   "id": "74c3158e-a5a8-4eae-936c-5a4b8f5960e1",
   "metadata": {},
   "source": [
    "**(sort)**"
   ]
  },
  {
   "cell_type": "code",
   "execution_count": 36,
   "id": "1e244223-79ee-4a21-bbf5-8f066891d7f6",
   "metadata": {},
   "outputs": [
    {
     "data": {
      "text/plain": [
       "\u001b[0;31mSignature:\u001b[0m \u001b[0ma\u001b[0m\u001b[0;34m.\u001b[0m\u001b[0msort\u001b[0m\u001b[0;34m(\u001b[0m\u001b[0;34m*\u001b[0m\u001b[0;34m,\u001b[0m \u001b[0mkey\u001b[0m\u001b[0;34m=\u001b[0m\u001b[0;32mNone\u001b[0m\u001b[0;34m,\u001b[0m \u001b[0mreverse\u001b[0m\u001b[0;34m=\u001b[0m\u001b[0;32mFalse\u001b[0m\u001b[0;34m)\u001b[0m\u001b[0;34m\u001b[0m\u001b[0;34m\u001b[0m\u001b[0m\n",
       "\u001b[0;31mDocstring:\u001b[0m\n",
       "Sort the list in ascending order and return None.\n",
       "\n",
       "The sort is in-place (i.e. the list itself is modified) and stable (i.e. the\n",
       "order of two equal elements is maintained).\n",
       "\n",
       "If a key function is given, apply it once to each list item and sort them,\n",
       "ascending or descending, according to their function values.\n",
       "\n",
       "The reverse flag can be set to sort in descending order.\n",
       "\u001b[0;31mType:\u001b[0m      builtin_function_or_method"
      ]
     },
     "metadata": {},
     "output_type": "display_data"
    }
   ],
   "source": [
    "a=[1,3,2,4]\n",
    "a.sort?"
   ]
  },
  {
   "cell_type": "code",
   "execution_count": 37,
   "id": "d6f31bb5-56fa-406b-a396-f22f6c9f9196",
   "metadata": {},
   "outputs": [
    {
     "data": {
      "text/plain": [
       "[1, 2, 3, 4]"
      ]
     },
     "execution_count": 37,
     "metadata": {},
     "output_type": "execute_result"
    }
   ],
   "source": [
    "a.sort()\n",
    "a"
   ]
  },
  {
   "cell_type": "markdown",
   "id": "9aa847ad-df25-47ae-96af-dfa485c273c1",
   "metadata": {},
   "source": [
    "(다른예제들)"
   ]
  },
  {
   "cell_type": "code",
   "execution_count": 40,
   "id": "24bc1337-e44b-4836-9884-375fceb1814d",
   "metadata": {},
   "outputs": [
    {
     "data": {
      "text/plain": [
       "['g', 'u', 'e', 'b', 'i', 'n']"
      ]
     },
     "execution_count": 40,
     "metadata": {},
     "output_type": "execute_result"
    }
   ],
   "source": [
    "a=list('guebin')\n",
    "a"
   ]
  },
  {
   "cell_type": "code",
   "execution_count": 41,
   "id": "56b556fa-9cd5-48f0-a659-8aa06db5248d",
   "metadata": {},
   "outputs": [
    {
     "data": {
      "text/plain": [
       "['b', 'e', 'g', 'i', 'n', 'u']"
      ]
     },
     "execution_count": 41,
     "metadata": {},
     "output_type": "execute_result"
    }
   ],
   "source": [
    "a.sort()\n",
    "a"
   ]
  },
  {
   "cell_type": "code",
   "execution_count": 42,
   "id": "150b530d-3b34-4c12-a5d6-3ce89bb9dfd9",
   "metadata": {},
   "outputs": [
    {
     "data": {
      "text/plain": [
       "['u', 'n', 'i', 'g', 'e', 'b']"
      ]
     },
     "execution_count": 42,
     "metadata": {},
     "output_type": "execute_result"
    }
   ],
   "source": [
    "a.sort(reverse=True)\n",
    "a"
   ]
  },
  {
   "cell_type": "markdown",
   "id": "88b02838-8aae-4aae-81d6-61d4b841fb4a",
   "metadata": {},
   "source": [
    "## 중첩리스트 "
   ]
  },
  {
   "cell_type": "code",
   "execution_count": 43,
   "id": "265050ae-8660-4c7f-8290-e54284a8458b",
   "metadata": {},
   "outputs": [
    {
     "data": {
      "text/plain": [
       "[[1, 2, 3], [4, 5, 6], [7, 8, 9]]"
      ]
     },
     "execution_count": 43,
     "metadata": {},
     "output_type": "execute_result"
    }
   ],
   "source": [
    "A=[[1,2,3],[4,5,6],[7,8,9]]\n",
    "A"
   ]
  },
  {
   "cell_type": "markdown",
   "id": "7211022d-dce6-4847-a994-4969b9685fa4",
   "metadata": {},
   "source": [
    "`-` A는 아래와 같은 매트릭스로 이해할 수 있다"
   ]
  },
  {
   "cell_type": "markdown",
   "id": "b76ee542-c65c-4d82-93ad-a41a1a69b14c",
   "metadata": {},
   "source": [
    "$\n",
    "\\bf{A}=\\begin{bmatrix}\n",
    "1 & 2 & 3 \\\\ \n",
    "4 & 5 & 6 \\\\ \n",
    "7 & 8 & 9 \n",
    "\\end{bmatrix}\n",
    "$"
   ]
  },
  {
   "cell_type": "markdown",
   "id": "3bfae677-495d-4664-8c63-f63b93c470ee",
   "metadata": {},
   "source": [
    "`-` A에서 (2,1)의 원소를 뽑고싶다 = 4를 뽑고싶다 "
   ]
  },
  {
   "cell_type": "code",
   "execution_count": 44,
   "id": "544df6fe-1560-44ef-8faa-00919c4dd632",
   "metadata": {},
   "outputs": [
    {
     "ename": "TypeError",
     "evalue": "list indices must be integers or slices, not tuple",
     "output_type": "error",
     "traceback": [
      "\u001b[0;31m---------------------------------------------------------------------------\u001b[0m",
      "\u001b[0;31mTypeError\u001b[0m                                 Traceback (most recent call last)",
      "Cell \u001b[0;32mIn[44], line 1\u001b[0m\n\u001b[0;32m----> 1\u001b[0m \u001b[43mA\u001b[49m\u001b[43m[\u001b[49m\u001b[38;5;241;43m1\u001b[39;49m\u001b[43m,\u001b[49m\u001b[38;5;241;43m0\u001b[39;49m\u001b[43m]\u001b[49m\n",
      "\u001b[0;31mTypeError\u001b[0m: list indices must be integers or slices, not tuple"
     ]
    }
   ],
   "source": [
    "A[1,0]"
   ]
  },
  {
   "cell_type": "markdown",
   "id": "69201e83-72b4-4597-b293-5109795eb939",
   "metadata": {},
   "source": [
    "- 실패"
   ]
  },
  {
   "cell_type": "code",
   "execution_count": 45,
   "id": "274ed111-130e-48c4-81a2-4942d64b056b",
   "metadata": {},
   "outputs": [
    {
     "data": {
      "text/plain": [
       "4"
      ]
     },
     "execution_count": 45,
     "metadata": {},
     "output_type": "execute_result"
    }
   ],
   "source": [
    "A[1][0]"
   ]
  },
  {
   "cell_type": "markdown",
   "id": "0b477b31-e43e-42ca-b2d4-55f1653f2258",
   "metadata": {},
   "source": [
    "- 성공 "
   ]
  },
  {
   "cell_type": "markdown",
   "id": "a0bad1bc-a6ba-4ac3-98e2-a49dc5297fcc",
   "metadata": {},
   "source": [
    "`-` 성공의 이유를 분석해보자. "
   ]
  },
  {
   "cell_type": "code",
   "execution_count": 46,
   "id": "36a0b588-58ce-4a5c-bab3-acc825de5e34",
   "metadata": {},
   "outputs": [
    {
     "data": {
      "text/plain": [
       "[[1, 2, 3], [4, 5, 6], [7, 8, 9]]"
      ]
     },
     "execution_count": 46,
     "metadata": {},
     "output_type": "execute_result"
    }
   ],
   "source": [
    "A"
   ]
  },
  {
   "cell_type": "code",
   "execution_count": 47,
   "id": "cafa6a58-77ef-46cb-b376-7b5e46a5eda1",
   "metadata": {},
   "outputs": [
    {
     "data": {
      "text/plain": [
       "[4, 5, 6]"
      ]
     },
     "execution_count": 47,
     "metadata": {},
     "output_type": "execute_result"
    }
   ],
   "source": [
    "A[1]"
   ]
  },
  {
   "cell_type": "code",
   "execution_count": 48,
   "id": "e747ab73-a5d3-42ef-9ea0-430404b919c3",
   "metadata": {},
   "outputs": [
    {
     "data": {
      "text/plain": [
       "4"
      ]
     },
     "execution_count": 48,
     "metadata": {},
     "output_type": "execute_result"
    }
   ],
   "source": [
    "A[1][0]"
   ]
  },
  {
   "cell_type": "markdown",
   "id": "202b5a70-0e9f-4993-af65-6f6c31b863a9",
   "metadata": {},
   "source": [
    "`-` 매트릭스는 아니지만 매트릭스 같음!\n",
    "- 1차원 배열을 다차원 배열로 확장할 수 있는 기본 아이디어를 제공함 "
   ]
  },
  {
   "cell_type": "markdown",
   "id": "447be838-ed9d-498d-9340-1caf3bd244f9",
   "metadata": {},
   "source": [
    "# list 고급내용 3"
   ]
  },
  {
   "cell_type": "markdown",
   "id": "316f5d19-12ed-4675-a142-939f64de1e3f",
   "metadata": {},
   "source": [
    "`-` 리스트컴프리헨션을 다룬다. "
   ]
  },
  {
   "cell_type": "markdown",
   "id": "026d252d-c5a7-4d4a-b085-2243baafa4d7",
   "metadata": {},
   "source": [
    "## 예비학습1: for문 벼락치기 "
   ]
  },
  {
   "cell_type": "markdown",
   "id": "dcca4f82-6ff3-4c41-9ca1-342d3d9c7269",
   "metadata": {},
   "source": [
    "`-` 리스트 컴프리헨션을 이해하기 전에 for문에 대하여 알아보자. "
   ]
  },
  {
   "cell_type": "markdown",
   "id": "0aa49ea9-a854-442c-af4f-2a464d60c281",
   "metadata": {},
   "source": [
    "프로그램안에서 반복해서 무엇인가를 하고싶다 $\\to$ for "
   ]
  },
  {
   "cell_type": "code",
   "execution_count": 55,
   "id": "1437cc7a-b879-4165-88d7-0e85af24a434",
   "metadata": {},
   "outputs": [
    {
     "name": "stdout",
     "output_type": "stream",
     "text": [
      "0\n",
      "1\n",
      "2\n",
      "3\n"
     ]
    }
   ],
   "source": [
    "for i in [0,1,2,3]: ## 반복실행계획\n",
    "    print(i) ## 반복실행할내용, 탭을이용하여 들여쓰기해야한다. "
   ]
  },
  {
   "cell_type": "markdown",
   "id": "31f2273a-eeaf-4b88-a049-b86f5051dc07",
   "metadata": {},
   "source": [
    "(예제) 1,2,3,4의 합을 for문을 이용하여 구해보자. "
   ]
  },
  {
   "cell_type": "code",
   "execution_count": 57,
   "id": "106e9e1c-0448-42de-b726-93f3479a28b6",
   "metadata": {},
   "outputs": [],
   "source": [
    "_sum = 0\n",
    "for i in [1,2,3,4]: \n",
    "    _sum = _sum + i "
   ]
  },
  {
   "cell_type": "code",
   "execution_count": 58,
   "id": "f6f814fc-0584-4470-b276-c19335da2313",
   "metadata": {},
   "outputs": [
    {
     "data": {
      "text/plain": [
       "10"
      ]
     },
     "execution_count": 58,
     "metadata": {},
     "output_type": "execute_result"
    }
   ],
   "source": [
    "_sum"
   ]
  },
  {
   "cell_type": "code",
   "execution_count": 59,
   "id": "d773c10a-8978-4f09-a969-26bc9a184415",
   "metadata": {},
   "outputs": [],
   "source": [
    "_sum = 0\n",
    "i=1 \n",
    "_sum = _sum + i ## 1 <= 0+1\n",
    "i=2\n",
    "_sum = _sum + i ## 3 <= 1+2 \n",
    "i=3 \n",
    "_sum = _sum + i ## 6 <= 3+3\n",
    "i=4\n",
    "_sum = _sum + i ## 10 <= 6+4 "
   ]
  },
  {
   "cell_type": "code",
   "execution_count": 60,
   "id": "2152c3e9-06f3-4cc3-8ac4-60a6891a2719",
   "metadata": {},
   "outputs": [
    {
     "data": {
      "text/plain": [
       "10"
      ]
     },
     "execution_count": 60,
     "metadata": {},
     "output_type": "execute_result"
    }
   ],
   "source": [
    "_sum"
   ]
  },
  {
   "cell_type": "markdown",
   "id": "191dd67c-33f8-4103-a7a9-c4ea58a3fff0",
   "metadata": {},
   "source": [
    "`-` 궁금: 아래와 같은 코드가 있다고 하자. \n",
    "    \n",
    "```Python\n",
    "for i in ????: \n",
    "    print(i)\n",
    "```\n",
    "\n",
    "??? 자리에 올 수 있는건 무엇일까? "
   ]
  },
  {
   "cell_type": "markdown",
   "id": "948a02d7-1c96-4baf-bdab-e2fe93afaec8",
   "metadata": {},
   "source": [
    "- 대답하기 어려움. \n",
    "- 일단 list는 가능했음. "
   ]
  },
  {
   "cell_type": "markdown",
   "id": "48043309-bd5c-4324-85d7-da6315ed370c",
   "metadata": {},
   "source": [
    "(예시1)"
   ]
  },
  {
   "cell_type": "code",
   "execution_count": 61,
   "id": "80a8c05a-70fc-4457-b6f2-91e989a961ac",
   "metadata": {},
   "outputs": [
    {
     "name": "stdout",
     "output_type": "stream",
     "text": [
      "1\n",
      "2\n",
      "3\n",
      "4\n"
     ]
    }
   ],
   "source": [
    "for i in [1,2,3,4]: \n",
    "    print(i)"
   ]
  },
  {
   "cell_type": "markdown",
   "id": "fd4867a9-146f-48f2-8a6c-8d699ce9c412",
   "metadata": {},
   "source": [
    "(예시2)"
   ]
  },
  {
   "cell_type": "code",
   "execution_count": 62,
   "id": "bd88359f-24af-4b7a-aa90-3bcaa2cd112c",
   "metadata": {},
   "outputs": [
    {
     "name": "stdout",
     "output_type": "stream",
     "text": [
      "a\n",
      "b\n",
      "c\n",
      "d\n"
     ]
    }
   ],
   "source": [
    "for i in ['a','b','c','d']: \n",
    "    print(i)"
   ]
  },
  {
   "cell_type": "markdown",
   "id": "6d1263a0-fc4e-4b52-92cb-d645d38d36a5",
   "metadata": {},
   "source": [
    "(예시3)"
   ]
  },
  {
   "cell_type": "code",
   "execution_count": 64,
   "id": "565f3ce3-a771-4646-b535-2a7af5663439",
   "metadata": {},
   "outputs": [
    {
     "name": "stdout",
     "output_type": "stream",
     "text": [
      "a\n",
      "b\n",
      "c\n",
      "d\n"
     ]
    }
   ],
   "source": [
    "for i in 'abcd': \n",
    "    print(i)"
   ]
  },
  {
   "cell_type": "markdown",
   "id": "7be4aa68-922b-4f75-beb2-a6a48f396ec7",
   "metadata": {},
   "source": [
    "(예시4)"
   ]
  },
  {
   "cell_type": "code",
   "execution_count": 65,
   "id": "36ee3033-ca5a-42bd-84a3-82ce507308e0",
   "metadata": {},
   "outputs": [
    {
     "name": "stdout",
     "output_type": "stream",
     "text": [
      "1\n"
     ]
    }
   ],
   "source": [
    "for i in '1': \n",
    "    print(i)"
   ]
  },
  {
   "cell_type": "markdown",
   "id": "e3409516-a956-4d1b-ba6a-0d5f25c79b85",
   "metadata": {},
   "source": [
    "(예시5) "
   ]
  },
  {
   "cell_type": "code",
   "execution_count": 69,
   "id": "1f5c742e-53d7-497a-bd6b-3710c2f25c03",
   "metadata": {},
   "outputs": [
    {
     "ename": "TypeError",
     "evalue": "'int' object is not iterable",
     "output_type": "error",
     "traceback": [
      "\u001b[0;31m---------------------------------------------------------------------------\u001b[0m",
      "\u001b[0;31mTypeError\u001b[0m                                 Traceback (most recent call last)",
      "Cell \u001b[0;32mIn[69], line 1\u001b[0m\n\u001b[0;32m----> 1\u001b[0m \u001b[38;5;28;01mfor\u001b[39;00m i \u001b[38;5;129;01min\u001b[39;00m \u001b[38;5;241m1\u001b[39m: \n\u001b[1;32m      2\u001b[0m     \u001b[38;5;28mprint\u001b[39m(i)\n",
      "\u001b[0;31mTypeError\u001b[0m: 'int' object is not iterable"
     ]
    }
   ],
   "source": [
    "for i in 1: \n",
    "    print(i)"
   ]
  },
  {
   "cell_type": "markdown",
   "id": "e2157cb4-f655-4087-badd-bfbed5eb281c",
   "metadata": {},
   "source": [
    "(예시6)"
   ]
  },
  {
   "cell_type": "code",
   "execution_count": 70,
   "id": "08c8e8f2-34c1-463b-bf05-7a9b2ad21b8c",
   "metadata": {},
   "outputs": [
    {
     "name": "stdout",
     "output_type": "stream",
     "text": [
      "0\n",
      "1\n",
      "2\n",
      "3\n",
      "4\n",
      "5\n",
      "6\n",
      "7\n",
      "8\n",
      "9\n"
     ]
    }
   ],
   "source": [
    "for i in range(10): \n",
    "    print(i)"
   ]
  },
  {
   "cell_type": "markdown",
   "id": "5c349a51-3dfb-4fc3-9b47-c904d9765935",
   "metadata": {},
   "source": [
    "## 예비학습2: range"
   ]
  },
  {
   "cell_type": "code",
   "execution_count": 71,
   "id": "10e105d1-4a76-47b7-985b-ad46a3b4045c",
   "metadata": {},
   "outputs": [
    {
     "data": {
      "text/plain": [
       "range(0, 10)"
      ]
     },
     "execution_count": 71,
     "metadata": {},
     "output_type": "execute_result"
    }
   ],
   "source": [
    "range(0,10)"
   ]
  },
  {
   "cell_type": "markdown",
   "id": "3b8f5662-f599-4869-805a-575a39d4d9ff",
   "metadata": {},
   "source": [
    "- 이게뭐야? "
   ]
  },
  {
   "cell_type": "code",
   "execution_count": 438,
   "id": "6c00b01e-0300-4e5c-8745-9a8da0b0343a",
   "metadata": {},
   "outputs": [
    {
     "data": {
      "text/plain": [
       "\u001b[0;31mType:\u001b[0m        range\n",
       "\u001b[0;31mString form:\u001b[0m range(0, 10)\n",
       "\u001b[0;31mLength:\u001b[0m      10\n",
       "\u001b[0;31mDocstring:\u001b[0m  \n",
       "range(stop) -> range object\n",
       "range(start, stop[, step]) -> range object\n",
       "\n",
       "Return an object that produces a sequence of integers from start (inclusive)\n",
       "to stop (exclusive) by step.  range(i, j) produces i, i+1, i+2, ..., j-1.\n",
       "start defaults to 0, and stop is omitted!  range(4) produces 0, 1, 2, 3.\n",
       "These are exactly the valid indices for a list of 4 elements.\n",
       "When step is given, it specifies the increment (or decrement).\n"
      ]
     },
     "metadata": {},
     "output_type": "display_data"
    }
   ],
   "source": [
    "_tmp = range(0,10)\n",
    "_tmp?"
   ]
  },
  {
   "cell_type": "markdown",
   "id": "c163bc95-4f5c-4301-955b-ef3be28e74c5",
   "metadata": {},
   "source": [
    "- 우리가 아는 범위에서는 모르겠음.. 이런게 있나보다 하고 넘어가야 하겠음 "
   ]
  },
  {
   "cell_type": "code",
   "execution_count": 448,
   "id": "aae8fcff-cfa1-4f0c-b66b-d436824d7b1a",
   "metadata": {},
   "outputs": [
    {
     "data": {
      "text/plain": [
       "[0, 1, 2, 3, 4, 5, 6, 7, 8, 9]"
      ]
     },
     "execution_count": 448,
     "metadata": {},
     "output_type": "execute_result"
    }
   ],
   "source": [
    "list(range(0,10)) # 0을 포함, 10을 미포함 "
   ]
  },
  {
   "cell_type": "markdown",
   "id": "02195599-8db8-4bb7-a788-a40812ecbd68",
   "metadata": {},
   "source": [
    "- 이게 중요한것임. range(0,10)를 리스트화시키면 [0,1,2,...,9] 와 같은 리스트를 얻을 수 있음.  "
   ]
  },
  {
   "cell_type": "code",
   "execution_count": 453,
   "id": "dd75341d-7407-4b80-8669-b186bee09f57",
   "metadata": {},
   "outputs": [
    {
     "data": {
      "text/plain": [
       "[0, 1, 2, 3, 4, 5, 6, 7, 8, 9]"
      ]
     },
     "execution_count": 453,
     "metadata": {},
     "output_type": "execute_result"
    }
   ],
   "source": [
    "list(range(10)) # 0은 생략가능"
   ]
  },
  {
   "cell_type": "code",
   "execution_count": 452,
   "id": "16c34e53-054a-470b-aaa3-ec32464bda89",
   "metadata": {},
   "outputs": [
    {
     "data": {
      "text/plain": [
       "[2, 3, 4, 5, 6, 7, 8, 9]"
      ]
     },
     "execution_count": 452,
     "metadata": {},
     "output_type": "execute_result"
    }
   ],
   "source": [
    "list(range(2,10)) # 2는 포함, 10은 미포함 "
   ]
  },
  {
   "cell_type": "code",
   "execution_count": 455,
   "id": "2aca36e3-bc47-42dc-a2f0-dfb1bef931a9",
   "metadata": {},
   "outputs": [
    {
     "data": {
      "text/plain": [
       "[1, 3, 5, 7, 9]"
      ]
     },
     "execution_count": 455,
     "metadata": {},
     "output_type": "execute_result"
    }
   ],
   "source": [
    "list(range(1,10,2)) # 2는 포함, 10은 미포함 "
   ]
  },
  {
   "cell_type": "markdown",
   "id": "c87ec5ac-7bbd-485b-b3e7-84118bebee89",
   "metadata": {},
   "source": [
    "---"
   ]
  },
  {
   "cell_type": "markdown",
   "id": "b1c52aa9-9e9d-4838-b36e-7af14cd242bc",
   "metadata": {},
   "source": [
    "## 리스트 컴프리헨션 "
   ]
  },
  {
   "cell_type": "markdown",
   "id": "2f1d23d1-33c3-43c5-8d9d-f8a6a8a24f16",
   "metadata": {},
   "source": [
    "`-` 예제: $2^0, 2^1, 2^2, 2^3$를 원소로 가지는 리스트를 생성하라. "
   ]
  },
  {
   "cell_type": "markdown",
   "id": "fe3da585-637f-4e0c-b7e6-5001f92e3361",
   "metadata": {},
   "source": [
    "(풀이1) 직접입력"
   ]
  },
  {
   "cell_type": "code",
   "execution_count": 386,
   "id": "aef6d733-758b-4b10-ab93-24d795addef5",
   "metadata": {},
   "outputs": [
    {
     "data": {
      "text/plain": [
       "[1, 2, 4, 8]"
      ]
     },
     "execution_count": 386,
     "metadata": {},
     "output_type": "execute_result"
    }
   ],
   "source": [
    "x= [2**0, 2**1, 2**2, 2**3] \n",
    "x"
   ]
  },
  {
   "cell_type": "markdown",
   "id": "edf78316-ce1f-49f6-8950-82a5e6a19499",
   "metadata": {},
   "source": [
    "(풀이2) for문을 이용함 "
   ]
  },
  {
   "cell_type": "code",
   "execution_count": 388,
   "id": "020c566f-8a87-4639-99c3-391c1b3fb7d5",
   "metadata": {},
   "outputs": [],
   "source": [
    "x=[] \n",
    "for i in [0,1,2,3]:\n",
    "    x.append(2**i) "
   ]
  },
  {
   "cell_type": "code",
   "execution_count": 389,
   "id": "43b01ced-0d88-47f1-96d7-fd06fac523f7",
   "metadata": {},
   "outputs": [
    {
     "data": {
      "text/plain": [
       "[1, 2, 4, 8]"
      ]
     },
     "execution_count": 389,
     "metadata": {},
     "output_type": "execute_result"
    }
   ],
   "source": [
    "x"
   ]
  },
  {
   "cell_type": "markdown",
   "id": "d1ee4205-819b-4fe4-b07d-a5f5f237cc89",
   "metadata": {},
   "source": [
    "(풀이3) for문을 이용함 "
   ]
  },
  {
   "cell_type": "code",
   "execution_count": 390,
   "id": "82717b80-f843-448f-a137-02d0c5ab478f",
   "metadata": {},
   "outputs": [],
   "source": [
    "x=[] \n",
    "for i in [0,1,2,3]:\n",
    "    x = x+[2**i]"
   ]
  },
  {
   "cell_type": "code",
   "execution_count": 391,
   "id": "38055b5c-9c40-4ef8-8e31-6c8860b58263",
   "metadata": {},
   "outputs": [
    {
     "data": {
      "text/plain": [
       "[1, 2, 4, 8]"
      ]
     },
     "execution_count": 391,
     "metadata": {},
     "output_type": "execute_result"
    }
   ],
   "source": [
    "x"
   ]
  },
  {
   "cell_type": "markdown",
   "id": "95443f64-4b2b-4bee-b541-d95afb54aff3",
   "metadata": {},
   "source": [
    "(풀이4) for문을 이용함 "
   ]
  },
  {
   "cell_type": "code",
   "execution_count": 392,
   "id": "2d0d854d-802a-429d-a728-dec2e735e657",
   "metadata": {},
   "outputs": [],
   "source": [
    "x=[] \n",
    "for i in [0,1,2,3]:\n",
    "    x += [2**i]"
   ]
  },
  {
   "cell_type": "code",
   "execution_count": 393,
   "id": "a4403cbf-4690-4cc4-a279-81150c2225ef",
   "metadata": {},
   "outputs": [
    {
     "data": {
      "text/plain": [
       "[1, 2, 4, 8]"
      ]
     },
     "execution_count": 393,
     "metadata": {},
     "output_type": "execute_result"
    }
   ],
   "source": [
    "x"
   ]
  },
  {
   "cell_type": "markdown",
   "id": "30f1aaf4-e88a-4e4a-9a59-8076c2d6a264",
   "metadata": {},
   "source": [
    "(풀이5) 리스트컴프리헨션을 이용한 풀이 "
   ]
  },
  {
   "cell_type": "code",
   "execution_count": 394,
   "id": "d00a1a52-16e9-425c-827e-44d386858b30",
   "metadata": {},
   "outputs": [
    {
     "data": {
      "text/plain": [
       "[1, 2, 4, 8]"
      ]
     },
     "execution_count": 394,
     "metadata": {},
     "output_type": "execute_result"
    }
   ],
   "source": [
    "x= [2**i for i in [0,1,2,3]] \n",
    "x"
   ]
  },
  {
   "cell_type": "markdown",
   "id": "455dc88b-27b4-4694-827b-bf8cd32f1aee",
   "metadata": {},
   "source": [
    "`-` 리스트컴프리헨션의 문법 암기방법 \n",
    "- 집합에서 조건제시법을 연상 \n",
    "- $\\{2^0,2^1,2^2,2^3\\}=\\{2^i: i \\in \\{0,1,2,3\\} \\}$"
   ]
  },
  {
   "cell_type": "markdown",
   "id": "fc6dfedc-ace3-40ea-a061-723868c0ad9d",
   "metadata": {},
   "source": [
    "`-` 리스트컴프리헨션이란? \n",
    "- 리스트를 매우 효율적으로 만드는 테크닉 \n",
    "- for문에 비하여 가지고 있는 장점: (1) 코드가 간결하다 (2) 빠르다 "
   ]
  },
  {
   "cell_type": "markdown",
   "id": "2c5df1ef-7ea1-482f-837f-2af4a3dad907",
   "metadata": {},
   "source": [
    "## 리스트 컴프리헨션 연습"
   ]
  },
  {
   "cell_type": "markdown",
   "id": "7bc99e69-a41c-477a-9a94-1f0d04433144",
   "metadata": {},
   "source": [
    "`-` 예제1: 리스트 컴프리헨션을 이용하여 아래와 같은 리스트를 만들어라. "
   ]
  },
  {
   "cell_type": "code",
   "execution_count": 72,
   "id": "3b6d56da-6073-42de-827c-fd5d77108f45",
   "metadata": {},
   "outputs": [
    {
     "data": {
      "text/plain": [
       "['SSSS', 'PPPP', 'AAAA', 'MMMM']"
      ]
     },
     "execution_count": 72,
     "metadata": {},
     "output_type": "execute_result"
    }
   ],
   "source": [
    "['SSSS','PPPP','AAAA','MMMM']"
   ]
  },
  {
   "cell_type": "markdown",
   "id": "3f7f8fde-75b5-48d6-b0f2-34fce84d497b",
   "metadata": {},
   "source": [
    "(풀이)"
   ]
  },
  {
   "cell_type": "markdown",
   "id": "e05d911c-e4f3-4d0f-82d1-89ade5ea7af5",
   "metadata": {},
   "source": [
    "`-` 예제2: 리스트컴프리헨션을 이용하여 아래와 같은 리스트를 만들어라. "
   ]
  },
  {
   "cell_type": "code",
   "execution_count": 401,
   "id": "bc0929ff-1ee2-401e-b8ad-bf5c24199ba8",
   "metadata": {},
   "outputs": [
    {
     "data": {
      "text/plain": [
       "['X1', 'X2', 'X3', 'Y1', 'Y2', 'Y3']"
      ]
     },
     "execution_count": 401,
     "metadata": {},
     "output_type": "execute_result"
    }
   ],
   "source": [
    "['X1','X2','X3','Y1','Y2','Y3']"
   ]
  },
  {
   "cell_type": "markdown",
   "id": "c53f8a8f-028d-40a3-924c-f4495eee3d63",
   "metadata": {},
   "source": [
    "(풀이)"
   ]
  },
  {
   "cell_type": "markdown",
   "id": "14c8b00d-33d2-45e9-a9c7-24329cb70c38",
   "metadata": {},
   "source": [
    "`-` 예제: 리스트컴프리헨션을 이용하여 아래와 같은 리스트를 만들어라. "
   ]
  },
  {
   "cell_type": "code",
   "execution_count": 74,
   "id": "9b782eaf-9afc-4d39-a238-816f72145e53",
   "metadata": {},
   "outputs": [
    {
     "data": {
      "text/plain": [
       "['stat1', 'stat2', 'stat3', 'math1', 'math2', 'math3']"
      ]
     },
     "execution_count": 74,
     "metadata": {},
     "output_type": "execute_result"
    }
   ],
   "source": [
    "['stat1', 'stat2', 'stat3', 'math1', 'math2', 'math3']"
   ]
  },
  {
   "cell_type": "markdown",
   "id": "68172b71-12e7-4083-b6bc-207696833f71",
   "metadata": {},
   "source": [
    "(풀이) "
   ]
  },
  {
   "cell_type": "markdown",
   "id": "10ad285f-b4c1-4282-815b-681fbb9526b8",
   "metadata": {},
   "source": [
    "(다른풀이) 참고로 for문을 쓰면 좀 복잡해진다. "
   ]
  },
  {
   "cell_type": "code",
   "execution_count": 75,
   "id": "f8a18591-8941-493e-9a85-9cf0ceff9d45",
   "metadata": {},
   "outputs": [],
   "source": [
    "_lst = [] \n",
    "for x in ['stat','math']: \n",
    "    for y in '12345': \n",
    "        _lst = _lst + [x+y] "
   ]
  },
  {
   "cell_type": "code",
   "execution_count": 76,
   "id": "11d1f632-4436-4447-b764-fd89285c0529",
   "metadata": {},
   "outputs": [
    {
     "data": {
      "text/plain": [
       "['stat1',\n",
       " 'stat2',\n",
       " 'stat3',\n",
       " 'stat4',\n",
       " 'stat5',\n",
       " 'math1',\n",
       " 'math2',\n",
       " 'math3',\n",
       " 'math4',\n",
       " 'math5']"
      ]
     },
     "execution_count": 76,
     "metadata": {},
     "output_type": "execute_result"
    }
   ],
   "source": [
    "_lst "
   ]
  },
  {
   "cell_type": "markdown",
   "id": "939463c9-756d-4770-bdaf-58dd8829c94f",
   "metadata": {},
   "source": [
    "`-` 예제: 리스트컴프리헨션과 문자열 `'jbnu'`를 이용하여 아래와 같은 리스트를 만들어라. "
   ]
  },
  {
   "cell_type": "code",
   "execution_count": 77,
   "id": "885c7344-13e0-4eed-a9f6-276192191f98",
   "metadata": {},
   "outputs": [
    {
     "data": {
      "text/plain": [
       "['j', 'b', 'n', 'u']"
      ]
     },
     "execution_count": 77,
     "metadata": {},
     "output_type": "execute_result"
    }
   ],
   "source": [
    "['j','b','n','u']"
   ]
  },
  {
   "cell_type": "markdown",
   "id": "b8a3234c-5a42-445a-9c75-fa6010e416be",
   "metadata": {},
   "source": [
    "(다른풀이) 아래와 같이 풀면 된다는것은 알고 있음  "
   ]
  },
  {
   "cell_type": "code",
   "execution_count": 78,
   "id": "3af7ccbe-b973-46fe-af9e-0bff2d40104c",
   "metadata": {},
   "outputs": [
    {
     "data": {
      "text/plain": [
       "['j', 'b', 'n', 'u']"
      ]
     },
     "execution_count": 78,
     "metadata": {},
     "output_type": "execute_result"
    }
   ],
   "source": [
    "list('jbnu')"
   ]
  },
  {
   "cell_type": "markdown",
   "id": "1e914c48-477d-42b2-bb2f-bd48047eb62c",
   "metadata": {},
   "source": [
    "(풀이) "
   ]
  },
  {
   "cell_type": "markdown",
   "id": "c4ad0f92-ac55-47ec-a5d8-5b42afa89d66",
   "metadata": {},
   "source": [
    "`-` 예제: 리스트컴프리헨션을 이용하여 아래와 같은 리스트를 만들어라. "
   ]
  },
  {
   "cell_type": "code",
   "execution_count": 80,
   "id": "92e8da0a-1ff5-4112-9001-8b610cc73be3",
   "metadata": {},
   "outputs": [
    {
     "data": {
      "text/plain": [
       "['X1', 'X2', 'X3', 'X4', 'X5', 'X6', 'X7', 'X8', 'X9', 'X10', 'X11', 'X12']"
      ]
     },
     "execution_count": 80,
     "metadata": {},
     "output_type": "execute_result"
    }
   ],
   "source": [
    "['X1', 'X2', 'X3', 'X4', 'X5', 'X6', 'X7', 'X8', 'X9', 'X10', 'X11', 'X12']"
   ]
  },
  {
   "cell_type": "markdown",
   "id": "422067d8-d94f-4c49-9202-cd62a11ac760",
   "metadata": {},
   "source": [
    "## 리스트 컴프리헨션과 for문의 미묘한 차이"
   ]
  },
  {
   "cell_type": "markdown",
   "id": "72f741f6-7028-4d1d-8f4a-ccf802a17f9b",
   "metadata": {},
   "source": [
    "(경우1)"
   ]
  },
  {
   "cell_type": "code",
   "execution_count": 82,
   "id": "7c72a93c-b191-4d69-b8cf-24826a9f29da",
   "metadata": {},
   "outputs": [
    {
     "data": {
      "text/plain": [
       "['j', 'b', 'n', 'u']"
      ]
     },
     "execution_count": 82,
     "metadata": {},
     "output_type": "execute_result"
    }
   ],
   "source": [
    "x=1 \n",
    "lst = [] \n",
    "for x in 'jbnu': \n",
    "    lst = lst + [x]\n",
    "lst    "
   ]
  },
  {
   "cell_type": "code",
   "execution_count": 83,
   "id": "9d663b2f-05bc-4470-b190-a737ee3bdf8c",
   "metadata": {},
   "outputs": [
    {
     "data": {
      "text/plain": [
       "'u'"
      ]
     },
     "execution_count": 83,
     "metadata": {},
     "output_type": "execute_result"
    }
   ],
   "source": [
    "x "
   ]
  },
  {
   "cell_type": "markdown",
   "id": "749211fc-5364-45cb-a441-1255d3a2add0",
   "metadata": {},
   "source": [
    "(경우2)"
   ]
  },
  {
   "cell_type": "code",
   "execution_count": 84,
   "id": "7ed1c924-ace4-45cd-a002-45c990af15a4",
   "metadata": {},
   "outputs": [
    {
     "data": {
      "text/plain": [
       "['j', 'b', 'n', 'u']"
      ]
     },
     "execution_count": 84,
     "metadata": {},
     "output_type": "execute_result"
    }
   ],
   "source": [
    "x=1 \n",
    "lst = [x for x in 'jbnu'] \n",
    "lst "
   ]
  },
  {
   "cell_type": "code",
   "execution_count": 85,
   "id": "f297a504-1fc9-4d43-8c4e-e5e38fc0412a",
   "metadata": {},
   "outputs": [
    {
     "data": {
      "text/plain": [
       "1"
      ]
     },
     "execution_count": 85,
     "metadata": {},
     "output_type": "execute_result"
    }
   ],
   "source": [
    "x"
   ]
  },
  {
   "cell_type": "markdown",
   "id": "d437b5b7-31a8-46db-b07f-7ba41780f3cd",
   "metadata": {},
   "source": [
    "> 진짜 미묘하게 다르죠?"
   ]
  }
 ],
 "metadata": {
  "kernelspec": {
   "display_name": "Python 3",
   "language": "python",
   "name": "python3"
  },
  "language_info": {
   "codemirror_mode": {
    "name": "ipython",
    "version": 3
   },
   "file_extension": ".py",
   "mimetype": "text/x-python",
   "name": "python",
   "nbconvert_exporter": "python",
   "pygments_lexer": "ipython3",
   "version": "3.8.16"
  }
 },
 "nbformat": 4,
 "nbformat_minor": 5
}
