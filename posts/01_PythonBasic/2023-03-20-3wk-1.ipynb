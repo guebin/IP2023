{
 "cells": [
  {
   "cell_type": "raw",
   "id": "da48402f-cfcf-404a-a37f-7e08f71fcb27",
   "metadata": {},
   "source": [
    "---\n",
    "title: \"03wk-1: 파이썬의 자료형 (4)\"\n",
    "author: \"최규빈\"\n",
    "date: \"03/20/2023\"\n",
    "---"
   ]
  },
  {
   "cell_type": "markdown",
   "id": "882e5170-04a8-40df-bea5-a4eec0ae5ed2",
   "metadata": {},
   "source": [
    "<a href=\"https://colab.research.google.com/github/guebin/PP2023/blob/main/posts/01_PythonBasic/2023-03-20-3wk-1.ipynb\"><img src=\"https://colab.research.google.com/assets/colab-badge.svg\" style=\"text-align: left\"></a>"
   ]
  },
  {
   "cell_type": "markdown",
   "id": "7a6b7416-3845-4c65-92b0-afa2f5223037",
   "metadata": {},
   "source": [
    "# 강의영상 "
   ]
  },
  {
   "cell_type": "markdown",
   "id": "93f77a2e-eabe-437c-9da2-a3df705ce629",
   "metadata": {},
   "source": [
    "# list 고급내용 2"
   ]
  },
  {
   "cell_type": "markdown",
   "id": "95441d53-dd02-4e00-ab86-eb90522a8452",
   "metadata": {},
   "source": [
    "## 리스트 원소 추가"
   ]
  },
  {
   "cell_type": "code",
   "execution_count": null,
   "id": "919d4aa2-739d-46a6-9be1-58923ce95634",
   "metadata": {},
   "outputs": [],
   "source": []
  }
 ],
 "metadata": {
  "kernelspec": {
   "display_name": "Python 3",
   "language": "python",
   "name": "python3"
  },
  "language_info": {
   "codemirror_mode": {
    "name": "ipython",
    "version": 3
   },
   "file_extension": ".py",
   "mimetype": "text/x-python",
   "name": "python",
   "nbconvert_exporter": "python",
   "pygments_lexer": "ipython3",
   "version": "3.8.16"
  }
 },
 "nbformat": 4,
 "nbformat_minor": 5
}
