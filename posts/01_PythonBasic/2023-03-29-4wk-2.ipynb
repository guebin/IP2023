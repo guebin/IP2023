{
 "cells": [
  {
   "cell_type": "raw",
   "id": "0802fd94-7fb4-4e68-9f7d-fe6b5b7b7549",
   "metadata": {},
   "source": [
    "---\n",
    "title: \"04wk-2: 파이썬의 자료형 (7)\"\n",
    "author: \"최규빈\"\n",
    "date: \"03/29/2023\"\n",
    "---"
   ]
  },
  {
   "cell_type": "markdown",
   "id": "cf280cb4-ebe5-4574-a44f-ea4f30cce0b6",
   "metadata": {},
   "source": [
    "<a href=\"https://colab.research.google.com/github/guebin/PP2023/blob/main/posts/01_PythonBasic/2023-03-29-4wk-2.ipynb\"><img src=\"https://colab.research.google.com/assets/colab-badge.svg\" style=\"text-align: left\"></a>"
   ]
  },
  {
   "cell_type": "markdown",
   "id": "d5fe3500-ae1a-43e6-9f63-2038fb344184",
   "metadata": {},
   "source": [
    "# 딕셔너리 고급내용 (2) "
   ]
  },
  {
   "cell_type": "markdown",
   "id": "182a9734-ffef-469c-b13a-b504a7bbd1d3",
   "metadata": {},
   "source": [
    "## key의 조건"
   ]
  },
  {
   "cell_type": "markdown",
   "id": "8c15fff6-2288-498a-9917-dc0544c8d97d",
   "metadata": {},
   "source": [
    "`-` 조건1: 키로 쓸 수 있는 자료형은 정해져 있다. \n",
    "\n",
    "- int O, float O, bool O, str O, list X, tuple O, dict X, set X "
   ]
  },
  {
   "cell_type": "markdown",
   "id": "ca116e8d-ca3d-4743-8907-2aa67b47ccbf",
   "metadata": {},
   "source": [
    "(예시1) dict의 키로 int를 사용"
   ]
  },
  {
   "cell_type": "code",
   "execution_count": 9,
   "id": "07fc7019-7f39-44a5-a326-f5aa54808314",
   "metadata": {},
   "outputs": [
    {
     "data": {
      "text/plain": [
       "[1, 2, 3]"
      ]
     },
     "execution_count": 9,
     "metadata": {},
     "output_type": "execute_result"
    }
   ],
   "source": [
    "dct = {0:[1,2,3], 1:[2,3,4]} \n",
    "dct[0] # 인덱싱 하는거 같네?"
   ]
  },
  {
   "cell_type": "code",
   "execution_count": 89,
   "id": "832d01b9-d466-43ee-94a8-32b11bbcb57f",
   "metadata": {},
   "outputs": [
    {
     "ename": "KeyError",
     "evalue": "-1",
     "output_type": "error",
     "traceback": [
      "\u001b[0;31m---------------------------------------------------------------------------\u001b[0m",
      "\u001b[0;31mKeyError\u001b[0m                                  Traceback (most recent call last)",
      "Cell \u001b[0;32mIn[89], line 1\u001b[0m\n\u001b[0;32m----> 1\u001b[0m \u001b[43mdct\u001b[49m\u001b[43m[\u001b[49m\u001b[38;5;241;43m-\u001b[39;49m\u001b[38;5;241;43m1\u001b[39;49m\u001b[43m]\u001b[49m \u001b[38;5;66;03m# 속았지?\u001b[39;00m\n",
      "\u001b[0;31mKeyError\u001b[0m: -1"
     ]
    }
   ],
   "source": [
    "dct[-1] # 속았지?"
   ]
  },
  {
   "cell_type": "markdown",
   "id": "7ed54e84-086c-4aaa-bbfe-38bc877c352d",
   "metadata": {},
   "source": [
    "(예시2) dict의 키로 float을 사용 <-- 이렇게 쓰는 사람 본적이 없어요 "
   ]
  },
  {
   "cell_type": "code",
   "execution_count": 90,
   "id": "caaa96b9-b5e7-49e1-819a-f0f7f57b820d",
   "metadata": {},
   "outputs": [
    {
     "data": {
      "text/plain": [
       "'π'"
      ]
     },
     "execution_count": 90,
     "metadata": {},
     "output_type": "execute_result"
    }
   ],
   "source": [
    "dct = {3.14:'π', 2.178:'e'}\n",
    "dct[3.14]"
   ]
  },
  {
   "cell_type": "markdown",
   "id": "c960f1ae-e7b5-474e-a59c-3a198be39239",
   "metadata": {},
   "source": [
    "(예시3) dict의 키로 bool을 사용 "
   ]
  },
  {
   "cell_type": "code",
   "execution_count": 91,
   "id": "d14479fb-ec5c-40ed-a913-446085d727e9",
   "metadata": {},
   "outputs": [
    {
     "data": {
      "text/plain": [
       "{True: '참이다', False: '거짓이다.'}"
      ]
     },
     "execution_count": 91,
     "metadata": {},
     "output_type": "execute_result"
    }
   ],
   "source": [
    "dct = {True: '참이다', False: '거짓이다.'} \n",
    "dct"
   ]
  },
  {
   "cell_type": "code",
   "execution_count": 94,
   "id": "dadb71ea-3da4-4850-9293-ccc28d757312",
   "metadata": {},
   "outputs": [
    {
     "data": {
      "text/plain": [
       "'참이다'"
      ]
     },
     "execution_count": 94,
     "metadata": {},
     "output_type": "execute_result"
    }
   ],
   "source": [
    "dct[1<2]"
   ]
  },
  {
   "cell_type": "markdown",
   "id": "136a79a6-2024-4616-b7be-fed069dff3ad",
   "metadata": {},
   "source": [
    "(예시4) dict의 키로 str을 사용 ($\\star$)"
   ]
  },
  {
   "cell_type": "code",
   "execution_count": 23,
   "id": "36da0ee1-b35e-4923-952b-b7605bb5be25",
   "metadata": {},
   "outputs": [
    {
     "data": {
      "text/plain": [
       "[10, 20, 30, 30]"
      ]
     },
     "execution_count": 23,
     "metadata": {},
     "output_type": "execute_result"
    }
   ],
   "source": [
    "dct = {'guebin':[10,20,30,30], 'hanni':[10,20,25,40]}\n",
    "dct['guebin']"
   ]
  },
  {
   "cell_type": "markdown",
   "id": "e5e1a682-ab72-4ed9-b6ae-2f472cc2d717",
   "metadata": {},
   "source": [
    "(예시5) dict의 키로 list를 사용 $\\Rightarrow$ 불가능 "
   ]
  },
  {
   "cell_type": "code",
   "execution_count": 24,
   "id": "7b66c7c9-37d5-4885-9acf-f45f2e5c953f",
   "metadata": {},
   "outputs": [
    {
     "ename": "TypeError",
     "evalue": "unhashable type: 'list'",
     "output_type": "error",
     "traceback": [
      "\u001b[0;31m---------------------------------------------------------------------------\u001b[0m",
      "\u001b[0;31mTypeError\u001b[0m                                 Traceback (most recent call last)",
      "Cell \u001b[0;32mIn[24], line 1\u001b[0m\n\u001b[0;32m----> 1\u001b[0m dct \u001b[38;5;241m=\u001b[39m {[\u001b[38;5;241m10\u001b[39m,\u001b[38;5;241m20\u001b[39m,\u001b[38;5;241m30\u001b[39m,\u001b[38;5;241m40\u001b[39m]: \u001b[38;5;124m'\u001b[39m\u001b[38;5;124mguebin\u001b[39m\u001b[38;5;124m'\u001b[39m, [\u001b[38;5;241m10\u001b[39m,\u001b[38;5;241m20\u001b[39m,\u001b[38;5;241m25\u001b[39m,\u001b[38;5;241m40\u001b[39m]: \u001b[38;5;124m'\u001b[39m\u001b[38;5;124mhanni\u001b[39m\u001b[38;5;124m'\u001b[39m} \n\u001b[1;32m      2\u001b[0m dct\n",
      "\u001b[0;31mTypeError\u001b[0m: unhashable type: 'list'"
     ]
    }
   ],
   "source": [
    "dct = {[10,20,30,40]: 'guebin', [10,20,25,40]: 'hanni'} \n",
    "dct"
   ]
  },
  {
   "cell_type": "markdown",
   "id": "434be7e6-3795-42a3-babf-9815430c0374",
   "metadata": {},
   "source": [
    "(예시6) dict의 키로 tuple 사용 ($\\star$)"
   ]
  },
  {
   "cell_type": "code",
   "execution_count": 29,
   "id": "0e6c7390-ba51-43dd-a38f-0f7ef104b5aa",
   "metadata": {},
   "outputs": [
    {
     "data": {
      "text/plain": [
       "{(10, 20, 30, 40): 'guebin', (10, 20, 25, 40): 'hanni'}"
      ]
     },
     "execution_count": 29,
     "metadata": {},
     "output_type": "execute_result"
    }
   ],
   "source": [
    "dct = {(10,20,30,40): 'guebin', (10,20,25,40): 'hanni'} \n",
    "dct"
   ]
  },
  {
   "cell_type": "code",
   "execution_count": 32,
   "id": "8b2ea970-8ede-4b3f-96af-a5833ae72843",
   "metadata": {},
   "outputs": [
    {
     "data": {
      "text/plain": [
       "'guebin'"
      ]
     },
     "execution_count": 32,
     "metadata": {},
     "output_type": "execute_result"
    }
   ],
   "source": [
    "dct[(10,20,30,40)]"
   ]
  },
  {
   "cell_type": "code",
   "execution_count": 33,
   "id": "096980a7-a7f3-44bf-8bee-83988e6e468c",
   "metadata": {},
   "outputs": [
    {
     "data": {
      "text/plain": [
       "'guebin'"
      ]
     },
     "execution_count": 33,
     "metadata": {},
     "output_type": "execute_result"
    }
   ],
   "source": [
    "dct[10,20,30,40]"
   ]
  },
  {
   "cell_type": "markdown",
   "id": "103dbdcc-9c3a-4b98-acca-5eaf1b9fd8b4",
   "metadata": {},
   "source": [
    "(예시7) dict의 키로 dict사용 $\\Rightarrow$ 불가능"
   ]
  },
  {
   "cell_type": "code",
   "execution_count": 35,
   "id": "26186683-861f-4866-a89f-2be4611d2dd8",
   "metadata": {},
   "outputs": [
    {
     "ename": "TypeError",
     "evalue": "unhashable type: 'dict'",
     "output_type": "error",
     "traceback": [
      "\u001b[0;31m---------------------------------------------------------------------------\u001b[0m",
      "\u001b[0;31mTypeError\u001b[0m                                 Traceback (most recent call last)",
      "Cell \u001b[0;32mIn[35], line 1\u001b[0m\n\u001b[0;32m----> 1\u001b[0m dct \u001b[38;5;241m=\u001b[39m {{\u001b[38;5;241m0\u001b[39m:\u001b[38;5;241m1\u001b[39m}: \u001b[38;5;124m'\u001b[39m\u001b[38;5;124mguebin\u001b[39m\u001b[38;5;124m'\u001b[39m, {\u001b[38;5;241m1\u001b[39m:\u001b[38;5;241m2\u001b[39m}: \u001b[38;5;124m'\u001b[39m\u001b[38;5;124mhanni\u001b[39m\u001b[38;5;124m'\u001b[39m} \n\u001b[1;32m      2\u001b[0m dct\n",
      "\u001b[0;31mTypeError\u001b[0m: unhashable type: 'dict'"
     ]
    }
   ],
   "source": [
    "dct = {{0:1}: 'guebin', {1:2}: 'hanni'} \n",
    "dct"
   ]
  },
  {
   "cell_type": "markdown",
   "id": "ad30f7b8-0776-4a9a-9447-4ff3d0b133c2",
   "metadata": {},
   "source": [
    "(예시8) dict의 키로 set사용 $\\Rightarrow$ 불가능"
   ]
  },
  {
   "cell_type": "code",
   "execution_count": 36,
   "id": "8774cc76-2146-42ef-b6c5-4d2164244d06",
   "metadata": {},
   "outputs": [
    {
     "ename": "TypeError",
     "evalue": "unhashable type: 'set'",
     "output_type": "error",
     "traceback": [
      "\u001b[0;31m---------------------------------------------------------------------------\u001b[0m",
      "\u001b[0;31mTypeError\u001b[0m                                 Traceback (most recent call last)",
      "Cell \u001b[0;32mIn[36], line 1\u001b[0m\n\u001b[0;32m----> 1\u001b[0m dct \u001b[38;5;241m=\u001b[39m {{\u001b[38;5;124m'\u001b[39m\u001b[38;5;124m샌드위치\u001b[39m\u001b[38;5;124m'\u001b[39m,\u001b[38;5;124m'\u001b[39m\u001b[38;5;124m딸기우유\u001b[39m\u001b[38;5;124m'\u001b[39m}:\u001b[38;5;124m'\u001b[39m\u001b[38;5;124m점심\u001b[39m\u001b[38;5;124m'\u001b[39m, {\u001b[38;5;124m'\u001b[39m\u001b[38;5;124m불고기\u001b[39m\u001b[38;5;124m'\u001b[39m,\u001b[38;5;124m'\u001b[39m\u001b[38;5;124m된장찌개\u001b[39m\u001b[38;5;124m'\u001b[39m,\u001b[38;5;124m'\u001b[39m\u001b[38;5;124m김\u001b[39m\u001b[38;5;124m'\u001b[39m,\u001b[38;5;124m'\u001b[39m\u001b[38;5;124m콩자반\u001b[39m\u001b[38;5;124m'\u001b[39m}: \u001b[38;5;124m'\u001b[39m\u001b[38;5;124m저녁\u001b[39m\u001b[38;5;124m'\u001b[39m}\n\u001b[1;32m      2\u001b[0m dct\n",
      "\u001b[0;31mTypeError\u001b[0m: unhashable type: 'set'"
     ]
    }
   ],
   "source": [
    "dct = {{'샌드위치','딸기우유'}:'점심', {'불고기','된장찌개','김','콩자반'}: '저녁'}\n",
    "dct"
   ]
  },
  {
   "cell_type": "markdown",
   "id": "49e72a19-8993-4974-8a8f-2a3683002da6",
   "metadata": {},
   "source": [
    "`-` 조건2: 키는 중복해서 쓸 수 없다. "
   ]
  },
  {
   "cell_type": "markdown",
   "id": "05a9aaad-7773-4a82-87b0-7e3e8bada044",
   "metadata": {},
   "source": [
    "(예시1)"
   ]
  },
  {
   "cell_type": "code",
   "execution_count": 99,
   "id": "0fcf6ee8-c977-4a93-9b9c-a445c2a5bc7b",
   "metadata": {},
   "outputs": [
    {
     "data": {
      "text/plain": [
       "{0: [3, 4, 5], 1: [2, 3, 4]}"
      ]
     },
     "execution_count": 99,
     "metadata": {},
     "output_type": "execute_result"
    }
   ],
   "source": [
    "dct = {0:[1,2,3], 1:[2,3,4], 0:[3,4,5]} # 이렇게 쓰지 마세요\n",
    "dct "
   ]
  },
  {
   "cell_type": "markdown",
   "id": "d258223e-24dc-430c-aab2-c66bff64f5db",
   "metadata": {},
   "source": [
    "## value의 조건 "
   ]
  },
  {
   "cell_type": "markdown",
   "id": "afa7ac59-acac-46fa-b730-15cf5d4c5346",
   "metadata": {},
   "source": [
    "`-` 없다... $\\Rightarrow$ dict는 컨테이너형!!"
   ]
  },
  {
   "cell_type": "markdown",
   "id": "5b21bf8c-8da8-4678-a453-b8af4cdd2364",
   "metadata": {},
   "source": [
    "## 딕셔너리 컴프리헨션 "
   ]
  },
  {
   "cell_type": "markdown",
   "id": "9bb7cf49-5fc1-438c-8b39-9b32ae3ead87",
   "metadata": {},
   "source": [
    "`-` 예시1"
   ]
  },
  {
   "cell_type": "code",
   "execution_count": 100,
   "id": "5438e152-d4a7-4b29-854a-a8114ee4d7e7",
   "metadata": {},
   "outputs": [
    {
     "data": {
      "text/plain": [
       "[['딸기', '사과'], ['오토바이', '자동차'], ['컴퓨터', '아이패드', '마우스']]"
      ]
     },
     "execution_count": 100,
     "metadata": {},
     "output_type": "execute_result"
    }
   ],
   "source": [
    "lst = [['딸기','사과'],['오토바이','자동차'],['컴퓨터','아이패드','마우스']]\n",
    "lst  "
   ]
  },
  {
   "cell_type": "code",
   "execution_count": 44,
   "id": "0fdf2ced-847a-4803-ba0a-af8ab10577cb",
   "metadata": {},
   "outputs": [
    {
     "data": {
      "text/plain": [
       "{0: ['딸기', '사과'], 1: ['오토바이', '자동차'], 2: ['컴퓨터', '아이패드', '마우스']}"
      ]
     },
     "execution_count": 44,
     "metadata": {},
     "output_type": "execute_result"
    }
   ],
   "source": [
    "{i:lst[i] for i in range(3)}"
   ]
  },
  {
   "cell_type": "markdown",
   "id": "0905706a-cbbe-4cb7-926e-e6e578aecb50",
   "metadata": {},
   "source": [
    "`-` 예시2: key, val을 서로 바꾸는 예시"
   ]
  },
  {
   "cell_type": "code",
   "execution_count": 105,
   "id": "206a0969-8c5f-4e8f-94f7-939fe43449d3",
   "metadata": {},
   "outputs": [
    {
     "data": {
      "text/plain": [
       "{'a': (1, 0, 0, 0), 'b': (0, 1, 0, 0), 'c': (0, 0, 1, 0), 'd': (0, 0, 0, 1)}"
      ]
     },
     "execution_count": 105,
     "metadata": {},
     "output_type": "execute_result"
    }
   ],
   "source": [
    "dct = {'a':(1,0,0,0), 'b':(0,1,0,0), 'c':(0,0,1,0), 'd':(0,0,0,1)}\n",
    "dct"
   ]
  },
  {
   "cell_type": "code",
   "execution_count": 47,
   "id": "ed864dbf-17fc-4312-882f-022b64e3d239",
   "metadata": {},
   "outputs": [
    {
     "data": {
      "text/plain": [
       "{(1, 0, 0, 0): 'a', (0, 1, 0, 0): 'b', (0, 0, 1, 0): 'c', (0, 0, 0, 1): 'd'}"
      ]
     },
     "execution_count": 47,
     "metadata": {},
     "output_type": "execute_result"
    }
   ],
   "source": [
    "{v:k for k,v in dct.items() }"
   ]
  },
  {
   "cell_type": "markdown",
   "id": "16d28adb-bcf8-4a2e-b29b-adae230e4713",
   "metadata": {},
   "source": [
    "## 바꿔치기 (3) "
   ]
  },
  {
   "cell_type": "markdown",
   "id": "66996403-9323-48ca-a42f-6749b2022ffb",
   "metadata": {},
   "source": [
    "`-` 예제1: 아래와 같은 리스트가 있다고 하자. "
   ]
  },
  {
   "cell_type": "code",
   "execution_count": 186,
   "id": "e033cca2-93cc-44d0-b9b9-94de523e3d50",
   "metadata": {},
   "outputs": [
    {
     "data": {
      "text/plain": [
       "['a', 'b', 'c', 'd', 'a', 'b', 'c', 'd']"
      ]
     },
     "execution_count": 186,
     "metadata": {},
     "output_type": "execute_result"
    }
   ],
   "source": [
    "lst = list('abcd'*2)\n",
    "lst"
   ]
  },
  {
   "cell_type": "markdown",
   "id": "19bc3ae4-2492-41be-8d88-ae68ceefaf6a",
   "metadata": {},
   "source": [
    "아래의 규칙에 의하여 lst의 각 원소의 값을 바꾸고 싶다고 하자. "
   ]
  },
  {
   "cell_type": "markdown",
   "id": "a3515bbd-edab-4642-ba99-d20db7bb9696",
   "metadata": {},
   "source": [
    "|변환전|변환후|\n",
    "|:-:|:-:|\n",
    "|'a'|[1,0,0,0]|\n",
    "|'b'|[0,1,0,0]|\n",
    "|'c'|[0,0,1,0]|\n",
    "|'d'|[0,0,0,1]|"
   ]
  },
  {
   "cell_type": "markdown",
   "id": "06169234-a8fb-4614-a545-c1117d32978c",
   "metadata": {},
   "source": [
    "이를 구현하는 코드를 작성하고, 역변환하는 코드를 작성하라. "
   ]
  },
  {
   "cell_type": "markdown",
   "id": "16e64009-6482-45a1-90c7-53fa1a83d0f8",
   "metadata": {},
   "source": [
    "hint: 아래의 dct를 이용할 것 "
   ]
  },
  {
   "cell_type": "code",
   "execution_count": 187,
   "id": "2c2aebd8-0977-4a47-9e76-41e23411f356",
   "metadata": {},
   "outputs": [
    {
     "data": {
      "text/plain": [
       "{'a': [1, 0, 0, 0], 'b': [0, 1, 0, 0], 'c': [0, 0, 1, 0], 'd': [0, 0, 0, 1]}"
      ]
     },
     "execution_count": 187,
     "metadata": {},
     "output_type": "execute_result"
    }
   ],
   "source": [
    "dct = {'a':[1,0,0,0], 'b':[0,1,0,0], 'c':[0,0,1,0], 'd':[0,0,0,1]}\n",
    "dct"
   ]
  },
  {
   "cell_type": "markdown",
   "id": "a182a255-7931-477d-b82a-92e9848cfb58",
   "metadata": {},
   "source": [
    "(풀이)"
   ]
  },
  {
   "cell_type": "markdown",
   "id": "54c63696-408e-474b-ae84-fc81c4a9db53",
   "metadata": {},
   "source": [
    "변환하는 코드를 구현하면 "
   ]
  },
  {
   "cell_type": "code",
   "execution_count": 188,
   "id": "59cf5ec2-4450-486c-a29e-d483368a8662",
   "metadata": {},
   "outputs": [
    {
     "data": {
      "text/plain": [
       "[[1, 0, 0, 0],\n",
       " [0, 1, 0, 0],\n",
       " [0, 0, 1, 0],\n",
       " [0, 0, 0, 1],\n",
       " [1, 0, 0, 0],\n",
       " [0, 1, 0, 0],\n",
       " [0, 0, 1, 0],\n",
       " [0, 0, 0, 1]]"
      ]
     },
     "execution_count": 188,
     "metadata": {},
     "output_type": "execute_result"
    }
   ],
   "source": [
    "lst2= [dct[l] for l in lst] \n",
    "lst2"
   ]
  },
  {
   "cell_type": "markdown",
   "id": "38e8fbda-3e08-4178-809b-2dabc085d909",
   "metadata": {},
   "source": [
    "역변환하는 코드를 구현하면 "
   ]
  },
  {
   "cell_type": "markdown",
   "id": "1a8bc3e4-26ab-4577-b2cd-516d09411f2f",
   "metadata": {},
   "source": [
    "(1단계)"
   ]
  },
  {
   "cell_type": "code",
   "execution_count": 189,
   "id": "d4b38cf8-4ea8-4629-8e4b-89531de2a387",
   "metadata": {},
   "outputs": [
    {
     "data": {
      "text/plain": [
       "{(1, 0, 0, 0): 'a', (0, 1, 0, 0): 'b', (0, 0, 1, 0): 'c', (0, 0, 0, 1): 'd'}"
      ]
     },
     "execution_count": 189,
     "metadata": {},
     "output_type": "execute_result"
    }
   ],
   "source": [
    "dct_inv = {tuple(v):k for k,v in dct.items()}\n",
    "dct_inv"
   ]
  },
  {
   "cell_type": "markdown",
   "id": "b2b82b25-9932-4d21-a8fd-b202c3d087d4",
   "metadata": {},
   "source": [
    "(2단계)"
   ]
  },
  {
   "cell_type": "code",
   "execution_count": 190,
   "id": "fd2dc2b2-0c09-4e20-aab6-9f322cd5645f",
   "metadata": {},
   "outputs": [
    {
     "data": {
      "text/plain": [
       "['a', 'b', 'c', 'd', 'a', 'b', 'c', 'd']"
      ]
     },
     "execution_count": 190,
     "metadata": {},
     "output_type": "execute_result"
    }
   ],
   "source": [
    "[dct_inv[tuple(l)] for l in lst2]"
   ]
  },
  {
   "cell_type": "markdown",
   "id": "2fb5ab96-0e27-462e-97b7-cb369ab3b46b",
   "metadata": {},
   "source": [
    "***내생각***\n",
    "\n",
    "위와 같은 코드는 경우에 따라서 아래와 같은 복잡합 코드를 피할 수 있는 장점이 있다."
   ]
  },
  {
   "cell_type": "code",
   "execution_count": 191,
   "id": "8d92a82d-6fe0-4d15-b104-97483731498e",
   "metadata": {},
   "outputs": [
    {
     "data": {
      "text/plain": [
       "['a', 'b', 'c', 'd', 'a', 'b', 'c', 'd']"
      ]
     },
     "execution_count": 191,
     "metadata": {},
     "output_type": "execute_result"
    }
   ],
   "source": [
    "[x for l in lst2 for x,y in dct.items() if l==y]"
   ]
  },
  {
   "cell_type": "markdown",
   "id": "822841b6-ff80-46a3-a5e4-7561512d3e23",
   "metadata": {},
   "source": [
    "이는 중첩된 for문과 if문까지 포함된 복잡한 형태의 컴프리헨션을 구현하지 않아도 된다는 점에서 장점이 있다. 하지만 아래와 같은 자료구조를 만날때는 결국 중첩된 for문과 if문이 포함된 컴프리헨션을 구현하는게 편리할 때가 많다. "
   ]
  },
  {
   "cell_type": "markdown",
   "id": "1e780294-201c-4a11-a659-78a379205fc8",
   "metadata": {},
   "source": [
    "|변환전|변환후|\n",
    "|:-:|:-:|\n",
    "|딸기|과일|\n",
    "|사과|과일|\n",
    "|바나나|과일|\n",
    "|오토바이|탈것|\n",
    "|자동차|탈것|\n",
    "|버스|탈것|\n",
    "|기차|탈것|"
   ]
  },
  {
   "cell_type": "markdown",
   "id": "580dd31b-3e54-43f2-941d-954ee970a052",
   "metadata": {},
   "source": [
    "(왜??)"
   ]
  },
  {
   "cell_type": "markdown",
   "id": "610d67fe-7566-44a7-874d-7b4d5b5e48fd",
   "metadata": {},
   "source": [
    "위의 변환을 수행하려면 dict가 아래와 같은 형식으로 주어져야 하는데 "
   ]
  },
  {
   "cell_type": "code",
   "execution_count": 181,
   "id": "81a039ea-95d4-4272-94f1-df00ced60a7e",
   "metadata": {},
   "outputs": [],
   "source": [
    "dct = {'딸기':'과일',\n",
    "       '사과':'과일',\n",
    "       '바나나':'과일',\n",
    "       '오토바이':'탈것',\n",
    "       '자동차':'탈것',\n",
    "       '버스':'탈것',\n",
    "       '기차':'탈것'}"
   ]
  },
  {
   "cell_type": "markdown",
   "id": "601b6d30-13e5-4404-be71-385dee506bc9",
   "metadata": {},
   "source": [
    "이러한 형태보다 보통 아래와 같은 형태로 주어지는 경우가 많기 때문임 "
   ]
  },
  {
   "cell_type": "code",
   "execution_count": 182,
   "id": "dac7a9ba-7026-485b-98a6-036362ef04a8",
   "metadata": {},
   "outputs": [],
   "source": [
    "dct = {'과일':['딸기','사과','바나나'], '탈것':['오토바이','자동차','버스','기차']} "
   ]
  },
  {
   "cell_type": "markdown",
   "id": "b3740a91-34a6-4a11-b733-7c0c61123d82",
   "metadata": {},
   "source": [
    "# 집합 기본내용"
   ]
  },
  {
   "cell_type": "markdown",
   "id": "61bac28e-b25c-4e2b-9950-4607b50269d4",
   "metadata": {},
   "source": [
    "## 선언 "
   ]
  },
  {
   "cell_type": "code",
   "execution_count": 250,
   "id": "296bfc98-a4d2-421d-bff9-0279c19d5873",
   "metadata": {},
   "outputs": [
    {
     "data": {
      "text/plain": [
       "{'desktop', 'notebook'}"
      ]
     },
     "execution_count": 250,
     "metadata": {},
     "output_type": "execute_result"
    }
   ],
   "source": [
    "wishlist={'notebook','desktop'}\n",
    "wishlist"
   ]
  },
  {
   "cell_type": "markdown",
   "id": "491b40bc-f311-4b5e-943d-50a41253e3c5",
   "metadata": {},
   "source": [
    "## 원소추출 "
   ]
  },
  {
   "cell_type": "markdown",
   "id": "b5dc3af5-76c5-484c-b84b-cc9cf3e0e239",
   "metadata": {},
   "source": [
    "`-` 일단 인덱스로는 못합니다. "
   ]
  },
  {
   "cell_type": "code",
   "execution_count": 251,
   "id": "245a3afd-13d8-4104-8a22-b24eea7cef39",
   "metadata": {},
   "outputs": [
    {
     "ename": "TypeError",
     "evalue": "'set' object is not subscriptable",
     "output_type": "error",
     "traceback": [
      "\u001b[0;31m---------------------------------------------------------------------------\u001b[0m",
      "\u001b[0;31mTypeError\u001b[0m                                 Traceback (most recent call last)",
      "Cell \u001b[0;32mIn[251], line 2\u001b[0m\n\u001b[1;32m      1\u001b[0m wishlist\u001b[38;5;241m=\u001b[39m{\u001b[38;5;124m'\u001b[39m\u001b[38;5;124mnotebook\u001b[39m\u001b[38;5;124m'\u001b[39m,\u001b[38;5;124m'\u001b[39m\u001b[38;5;124mdesktop\u001b[39m\u001b[38;5;124m'\u001b[39m}\n\u001b[0;32m----> 2\u001b[0m \u001b[43mwishlist\u001b[49m\u001b[43m[\u001b[49m\u001b[38;5;241;43m0\u001b[39;49m\u001b[43m]\u001b[49m\n",
      "\u001b[0;31mTypeError\u001b[0m: 'set' object is not subscriptable"
     ]
    }
   ],
   "source": [
    "wishlist={'notebook','desktop'}\n",
    "wishlist[0]"
   ]
  },
  {
   "cell_type": "markdown",
   "id": "e6368dac-2f3e-40d4-b9bc-7b78c89fbde6",
   "metadata": {},
   "source": [
    "`-` 딱히 하는 방법이 없어요.. 그리고 이걸 하는 의미가 없어요.. (원소에 접근해서 뭐하려고??)"
   ]
  },
  {
   "cell_type": "markdown",
   "id": "8823d6ac-9d61-4b48-b14f-a1fe5e3f5982",
   "metadata": {},
   "source": [
    "## 원소추가 "
   ]
  },
  {
   "cell_type": "markdown",
   "id": "0b3a002f-8a28-4c53-8e0e-c1b88613488a",
   "metadata": {},
   "source": [
    "`-` 이건 의미가 있음"
   ]
  },
  {
   "cell_type": "code",
   "execution_count": 252,
   "id": "b43609fe-0d40-464a-9696-50357d2b35ea",
   "metadata": {},
   "outputs": [
    {
     "data": {
      "text/plain": [
       "{'desktop', 'notebook'}"
      ]
     },
     "execution_count": 252,
     "metadata": {},
     "output_type": "execute_result"
    }
   ],
   "source": [
    "wishlist={'notebook','desktop'} \n",
    "wishlist"
   ]
  },
  {
   "cell_type": "code",
   "execution_count": 253,
   "id": "359a1f90-0776-45bc-ad43-9520fbecc179",
   "metadata": {},
   "outputs": [
    {
     "data": {
      "text/plain": [
       "{'desktop', 'ipad', 'notebook'}"
      ]
     },
     "execution_count": 253,
     "metadata": {},
     "output_type": "execute_result"
    }
   ],
   "source": [
    "wishlist.add('ipad')\n",
    "wishlist"
   ]
  },
  {
   "cell_type": "code",
   "execution_count": 254,
   "id": "a8e27c56-d189-4504-8bd8-83e5199f8781",
   "metadata": {},
   "outputs": [
    {
     "data": {
      "text/plain": [
       "{'desktop', 'ipad', 'notebook'}"
      ]
     },
     "execution_count": 254,
     "metadata": {},
     "output_type": "execute_result"
    }
   ],
   "source": [
    "wishlist.add('notebook') # 이미 원소로 있는건 추가되지 않음. \n",
    "wishlist"
   ]
  },
  {
   "cell_type": "markdown",
   "id": "3e4fa51a-52df-485f-bc41-b9009cbc4378",
   "metadata": {},
   "source": [
    "## 원소삭제 "
   ]
  },
  {
   "cell_type": "code",
   "execution_count": 203,
   "id": "288e63e2-4748-4129-9be0-3c3fe7b8df82",
   "metadata": {},
   "outputs": [
    {
     "data": {
      "text/plain": [
       "{'desktop', 'ipad', 'notebook'}"
      ]
     },
     "execution_count": 203,
     "metadata": {},
     "output_type": "execute_result"
    }
   ],
   "source": [
    "wishlist={'desktop', 'ipad', 'notebook'}\n",
    "wishlist"
   ]
  },
  {
   "cell_type": "code",
   "execution_count": 204,
   "id": "79ee609d-d5ea-4150-a0b7-8dc55e204163",
   "metadata": {},
   "outputs": [],
   "source": [
    "wishlist.remove('notebook')"
   ]
  },
  {
   "cell_type": "code",
   "execution_count": 205,
   "id": "f40292c0-82b7-4139-8f60-1fc9eb484637",
   "metadata": {},
   "outputs": [
    {
     "data": {
      "text/plain": [
       "{'desktop', 'ipad'}"
      ]
     },
     "execution_count": 205,
     "metadata": {},
     "output_type": "execute_result"
    }
   ],
   "source": [
    "wishlist"
   ]
  },
  {
   "cell_type": "markdown",
   "id": "fc778988-c007-41aa-8997-069a54590409",
   "metadata": {},
   "source": [
    "## 연산 "
   ]
  },
  {
   "cell_type": "markdown",
   "id": "ad2a9265-2dff-4407-bcfe-8e3427ecbcbf",
   "metadata": {},
   "source": [
    "`-` in 연산자  "
   ]
  },
  {
   "cell_type": "code",
   "execution_count": 206,
   "id": "aef7d3b7-4583-4cdb-a22f-e6a25239ffc0",
   "metadata": {},
   "outputs": [
    {
     "data": {
      "text/plain": [
       "{'desktop', 'ipad', 'notebook'}"
      ]
     },
     "execution_count": 206,
     "metadata": {},
     "output_type": "execute_result"
    }
   ],
   "source": [
    "wishlist={'desktop', 'ipad', 'notebook'}\n",
    "wishlist"
   ]
  },
  {
   "cell_type": "code",
   "execution_count": 207,
   "id": "a63a9416-0642-4e73-9dea-61e498759535",
   "metadata": {},
   "outputs": [
    {
     "data": {
      "text/plain": [
       "True"
      ]
     },
     "execution_count": 207,
     "metadata": {},
     "output_type": "execute_result"
    }
   ],
   "source": [
    "'notebook' in wishlist"
   ]
  },
  {
   "cell_type": "markdown",
   "id": "73fd51e1-4823-49d1-875c-b70deee84d86",
   "metadata": {},
   "source": [
    "- 참고로 `in`연산자는 집합에서만 쓰는것은 아님 "
   ]
  },
  {
   "cell_type": "markdown",
   "id": "54b187c3-b5f3-4351-9e50-4bdb83c693c4",
   "metadata": {},
   "source": [
    "`-` 합집합, 교집합, 차집합"
   ]
  },
  {
   "cell_type": "code",
   "execution_count": 208,
   "id": "8581eec8-64ee-4060-b55e-4c1f84412132",
   "metadata": {},
   "outputs": [],
   "source": [
    "day1 = {'notebook','desktop'}\n",
    "day2 = {'notebook','ipad'}"
   ]
  },
  {
   "cell_type": "code",
   "execution_count": 209,
   "id": "65368e25-335a-4ff6-b9ab-66724ad6decb",
   "metadata": {},
   "outputs": [
    {
     "data": {
      "text/plain": [
       "{'desktop', 'ipad', 'notebook'}"
      ]
     },
     "execution_count": 209,
     "metadata": {},
     "output_type": "execute_result"
    }
   ],
   "source": [
    "day1 | day2 # 합집합"
   ]
  },
  {
   "cell_type": "code",
   "execution_count": 210,
   "id": "651ff060-4259-444e-9b8c-f0caa8d24229",
   "metadata": {},
   "outputs": [
    {
     "data": {
      "text/plain": [
       "{'notebook'}"
      ]
     },
     "execution_count": 210,
     "metadata": {},
     "output_type": "execute_result"
    }
   ],
   "source": [
    "day1 & day2 # 교집합"
   ]
  },
  {
   "cell_type": "code",
   "execution_count": 211,
   "id": "ee340b45-b2f1-44c7-96e0-f93263d298c2",
   "metadata": {},
   "outputs": [
    {
     "data": {
      "text/plain": [
       "{'desktop'}"
      ]
     },
     "execution_count": 211,
     "metadata": {},
     "output_type": "execute_result"
    }
   ],
   "source": [
    "day1 - day2 # 차집합 "
   ]
  },
  {
   "cell_type": "code",
   "execution_count": 212,
   "id": "51ac2d2b-c905-4703-a6af-6563884bcb54",
   "metadata": {},
   "outputs": [
    {
     "data": {
      "text/plain": [
       "{'ipad'}"
      ]
     },
     "execution_count": 212,
     "metadata": {},
     "output_type": "execute_result"
    }
   ],
   "source": [
    "day2 - day1 # 차집합"
   ]
  },
  {
   "cell_type": "markdown",
   "id": "ac107699-c372-4874-b41d-c06a4ade19a9",
   "metadata": {},
   "source": [
    "`-` 부분집합 "
   ]
  },
  {
   "cell_type": "code",
   "execution_count": 135,
   "id": "4e270836-73f6-41df-ab2b-780dbfe1b82b",
   "metadata": {},
   "outputs": [],
   "source": [
    "day1 = {'notebook', 'desktop'}\n",
    "day2 = day1 | {'ipad'} "
   ]
  },
  {
   "cell_type": "code",
   "execution_count": 140,
   "id": "66498d09-2ac8-4097-9530-58d797d57d0d",
   "metadata": {},
   "outputs": [
    {
     "data": {
      "text/plain": [
       "True"
      ]
     },
     "execution_count": 140,
     "metadata": {},
     "output_type": "execute_result"
    }
   ],
   "source": [
    "day1 < day2  # day1는 day2의 부분집합인가? "
   ]
  },
  {
   "cell_type": "code",
   "execution_count": 215,
   "id": "d0a84e4b-413e-4507-ac75-3814beed2d3b",
   "metadata": {},
   "outputs": [
    {
     "data": {
      "text/plain": [
       "False"
      ]
     },
     "execution_count": 215,
     "metadata": {},
     "output_type": "execute_result"
    }
   ],
   "source": [
    "day2 < day1"
   ]
  },
  {
   "cell_type": "markdown",
   "id": "4b9106e5-eda0-4ed5-bfed-487851be48d9",
   "metadata": {
    "tags": []
   },
   "source": [
    "## 집합 특수기능"
   ]
  },
  {
   "cell_type": "markdown",
   "id": "03da7325-cf56-435f-8ff5-8422cb4f8490",
   "metadata": {},
   "source": [
    "`-` 합집합 "
   ]
  },
  {
   "cell_type": "code",
   "execution_count": 216,
   "id": "0f3fa968-a02a-43bf-b182-5d5f2f536337",
   "metadata": {},
   "outputs": [],
   "source": [
    "day1 = {'notebook', 'desktop'}\n",
    "day2 = {'notebook','ipad'}"
   ]
  },
  {
   "cell_type": "code",
   "execution_count": 217,
   "id": "713fe8d0-ff08-4e4e-9cf2-4503b13c40aa",
   "metadata": {},
   "outputs": [
    {
     "data": {
      "text/plain": [
       "{'desktop', 'ipad', 'notebook'}"
      ]
     },
     "execution_count": 217,
     "metadata": {},
     "output_type": "execute_result"
    }
   ],
   "source": [
    "day1.union(day2)"
   ]
  },
  {
   "cell_type": "markdown",
   "id": "01347eba-17ef-4340-a3bf-315ec3ad5b00",
   "metadata": {},
   "source": [
    "`-` 나머지 메소드는 스스로 찾아보세요 "
   ]
  },
  {
   "cell_type": "markdown",
   "id": "44712a78-6d29-40e6-9e2a-658e2f4478b7",
   "metadata": {},
   "source": [
    "## for문과 set "
   ]
  },
  {
   "cell_type": "code",
   "execution_count": 142,
   "id": "ca05ef59-830e-4c02-96b6-c3dcb951c046",
   "metadata": {},
   "outputs": [],
   "source": [
    "day1 = {'notebook', 'desktop'}\n",
    "day2 = {'notebook', 'ipad'}"
   ]
  },
  {
   "cell_type": "code",
   "execution_count": 219,
   "id": "6d489f41-16d8-426f-badd-d235ec1d057a",
   "metadata": {},
   "outputs": [
    {
     "name": "stdout",
     "output_type": "stream",
     "text": [
      "notebook\n",
      "ipad\n",
      "desktop\n"
     ]
    }
   ],
   "source": [
    "for i in day1|day2: \n",
    "    print(i)"
   ]
  },
  {
   "cell_type": "markdown",
   "id": "c833fb36-6336-48b6-9a73-c239271ba8bb",
   "metadata": {},
   "source": [
    "# 집합 고급내용 "
   ]
  },
  {
   "cell_type": "markdown",
   "id": "31340fb9-41d4-4d00-9d11-cf61de8b7bd1",
   "metadata": {},
   "source": [
    "## set 컴프리헨션 "
   ]
  },
  {
   "cell_type": "markdown",
   "id": "088c827a-d857-4a0b-8201-399bd142c263",
   "metadata": {},
   "source": [
    "`-` 예시1"
   ]
  },
  {
   "cell_type": "code",
   "execution_count": 146,
   "id": "c799364a-dc24-40ca-b98c-19b7beb86b8f",
   "metadata": {},
   "outputs": [
    {
     "data": {
      "text/plain": [
       "{1, 2, 3, 4, 5}"
      ]
     },
     "execution_count": 146,
     "metadata": {},
     "output_type": "execute_result"
    }
   ],
   "source": [
    "lst = [1,2,1,1,3,4,5]\n",
    "{l for l in lst}"
   ]
  },
  {
   "cell_type": "markdown",
   "id": "7f62326a-ce20-4281-b747-60528a6c1299",
   "metadata": {},
   "source": [
    "## 유니크한 원소"
   ]
  },
  {
   "cell_type": "markdown",
   "id": "8d100a5d-0155-4d5f-83e5-558f9f36c605",
   "metadata": {},
   "source": [
    "`-` 예제1: 아래의 list는 모두 몇 종류의 문자로 이루어져 있는가? "
   ]
  },
  {
   "cell_type": "code",
   "execution_count": 165,
   "id": "5dd99ede-b627-416b-aa0d-08e439048478",
   "metadata": {},
   "outputs": [],
   "source": [
    "lst=list('asdfasssdfdsasdfasdfasdfasdf')"
   ]
  },
  {
   "cell_type": "markdown",
   "id": "f4a485a6-ae1d-4771-bf95-d75d53074b3b",
   "metadata": {},
   "source": [
    "(풀이)"
   ]
  },
  {
   "cell_type": "code",
   "execution_count": 166,
   "id": "9da29aba-1a20-41e1-8d50-050ed31a5340",
   "metadata": {},
   "outputs": [
    {
     "data": {
      "text/plain": [
       "{'a', 'd', 'f', 's'}"
      ]
     },
     "execution_count": 166,
     "metadata": {},
     "output_type": "execute_result"
    }
   ],
   "source": [
    "set(lst)"
   ]
  },
  {
   "cell_type": "code",
   "execution_count": 167,
   "id": "52e3b989-8556-4c58-aab8-cbfbd740d08a",
   "metadata": {},
   "outputs": [
    {
     "data": {
      "text/plain": [
       "4"
      ]
     },
     "execution_count": 167,
     "metadata": {},
     "output_type": "execute_result"
    }
   ],
   "source": [
    "len(set(lst))"
   ]
  },
  {
   "cell_type": "markdown",
   "id": "92f65f9e-b2a7-4c8d-830e-2333e891ba69",
   "metadata": {},
   "source": [
    "`-` 예제2: 아래의 txt에서 어떠한 종류의 문자가 각각 몇번씩 사용되었는지 빈도를 구하는 코드를 작성하라. "
   ]
  },
  {
   "cell_type": "code",
   "execution_count": 168,
   "id": "8a05a2cd-48dc-4b0a-a4d6-6becb8b29ad7",
   "metadata": {},
   "outputs": [
    {
     "data": {
      "text/plain": [
       "'asdkflkjahsdlkjfhlaksglkjdhflkgjhlskdfjhglkajhsdlkfjhalsdkf'"
      ]
     },
     "execution_count": 168,
     "metadata": {},
     "output_type": "execute_result"
    }
   ],
   "source": [
    "txt = 'asdkflkjahsdlkjfhlaksglkjdhflkgjhlskdfjhglkajhsdlkfjhalsdkf'\n",
    "txt"
   ]
  },
  {
   "cell_type": "markdown",
   "id": "9d72077f-8ea4-43f3-92f9-cf4db51775f9",
   "metadata": {},
   "source": [
    "(풀이)"
   ]
  },
  {
   "cell_type": "code",
   "execution_count": 176,
   "id": "39aadec2-290c-463a-9ca4-61bec56a702c",
   "metadata": {},
   "outputs": [
    {
     "data": {
      "text/plain": [
       "{'s': 6, 'a': 5, 'g': 3, 'k': 10, 'j': 7, 'h': 7, 'd': 6, 'l': 9, 'f': 6}"
      ]
     },
     "execution_count": 176,
     "metadata": {},
     "output_type": "execute_result"
    }
   ],
   "source": [
    "{k:list(txt).count(k) for k in set(txt)}"
   ]
  }
 ],
 "metadata": {
  "kernelspec": {
   "display_name": "Python 3",
   "language": "python",
   "name": "python3"
  },
  "language_info": {
   "codemirror_mode": {
    "name": "ipython",
    "version": 3
   },
   "file_extension": ".py",
   "mimetype": "text/x-python",
   "name": "python",
   "nbconvert_exporter": "python",
   "pygments_lexer": "ipython3",
   "version": "3.8.16"
  }
 },
 "nbformat": 4,
 "nbformat_minor": 5
}
