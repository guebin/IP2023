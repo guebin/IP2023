{
 "cells": [
  {
   "cell_type": "raw",
   "id": "38827d2a-29af-43f6-b9b7-165feeff89e1",
   "metadata": {},
   "source": [
    "---\n",
    "title: \"04wk-1: 파이썬의 자료형 (6) -- draft\"\n",
    "author: \"최규빈\"\n",
    "date: \"03/27/2023\"\n",
    "---"
   ]
  },
  {
   "cell_type": "markdown",
   "id": "4f9a8855-e369-4691-8902-80f772c87d42",
   "metadata": {},
   "source": [
    "<a href=\"https://colab.research.google.com/github/guebin/PP2023/blob/main/posts/01_PythonBasic/2023-03-27-4wk-1.ipynb\"><img src=\"https://colab.research.google.com/assets/colab-badge.svg\" style=\"text-align: left\"></a>"
   ]
  },
  {
   "cell_type": "markdown",
   "id": "4f51bdcf-8632-4b8c-98a1-b950b9ff0364",
   "metadata": {},
   "source": [
    "# 잡기술 (하지만 유용해)"
   ]
  },
  {
   "cell_type": "markdown",
   "id": "5e479799-98dc-4009-b53d-5edd88c5a2c3",
   "metadata": {},
   "source": [
    "## 인덱싱고급 (스트라이딩) "
   ]
  },
  {
   "cell_type": "markdown",
   "id": "83e21d5d-6338-487b-be4c-bf299b9c05b7",
   "metadata": {},
   "source": [
    "`-` 스트라이딩 [start:stop:step] "
   ]
  },
  {
   "cell_type": "code",
   "execution_count": 3,
   "id": "30ebf96a-c876-4429-9998-21eb9b8af8a2",
   "metadata": {},
   "outputs": [
    {
     "data": {
      "text/plain": [
       "['a', 'b', 'c', 'd', 'e', 'f', 'g', 'h']"
      ]
     },
     "execution_count": 3,
     "metadata": {},
     "output_type": "execute_result"
    }
   ],
   "source": [
    "lst = list('abcdefgh')\n",
    "lst"
   ]
  },
  {
   "cell_type": "code",
   "execution_count": 4,
   "id": "09c7886e-7dd2-4869-ba1f-5df33d095bc8",
   "metadata": {},
   "outputs": [
    {
     "data": {
      "text/plain": [
       "['a', 'c', 'e', 'g']"
      ]
     },
     "execution_count": 4,
     "metadata": {},
     "output_type": "execute_result"
    }
   ],
   "source": [
    "lst[0:8:2]"
   ]
  },
  {
   "cell_type": "markdown",
   "id": "6534dd22-8a27-486d-8a53-3b203d9b76eb",
   "metadata": {},
   "source": [
    "`-` 생략"
   ]
  },
  {
   "cell_type": "code",
   "execution_count": 46,
   "id": "b20809e3-d34d-4d88-b99f-41b5eca0a816",
   "metadata": {},
   "outputs": [
    {
     "data": {
      "text/plain": [
       "['a', 'c', 'e', 'g']"
      ]
     },
     "execution_count": 46,
     "metadata": {},
     "output_type": "execute_result"
    }
   ],
   "source": [
    "lst[::2]"
   ]
  },
  {
   "cell_type": "code",
   "execution_count": 47,
   "id": "e1b5c795-a185-4891-a24e-5fd1dac1c8a7",
   "metadata": {},
   "outputs": [
    {
     "data": {
      "text/plain": [
       "['a', 'c', 'e', 'g']"
      ]
     },
     "execution_count": 47,
     "metadata": {},
     "output_type": "execute_result"
    }
   ],
   "source": [
    "lst[0::2]"
   ]
  },
  {
   "cell_type": "code",
   "execution_count": 48,
   "id": "0d81e921-a926-4957-8878-2f5455edfec2",
   "metadata": {},
   "outputs": [
    {
     "data": {
      "text/plain": [
       "['a', 'c', 'e', 'g']"
      ]
     },
     "execution_count": 48,
     "metadata": {},
     "output_type": "execute_result"
    }
   ],
   "source": [
    "lst[:8:2]"
   ]
  },
  {
   "cell_type": "markdown",
   "id": "a31ad41e-77be-412a-9f22-f7b745c97cf1",
   "metadata": {},
   "source": [
    "`-` 예제: 짝수/홀수 원소 추출 "
   ]
  },
  {
   "cell_type": "code",
   "execution_count": 49,
   "id": "7d766efc-6ccd-4fc7-9640-d7313590e778",
   "metadata": {},
   "outputs": [
    {
     "data": {
      "text/plain": [
       "['a', 'b', 'c', 'd', 'e', 'f', 'g', 'h']"
      ]
     },
     "execution_count": 49,
     "metadata": {},
     "output_type": "execute_result"
    }
   ],
   "source": [
    "lst"
   ]
  },
  {
   "cell_type": "code",
   "execution_count": 50,
   "id": "62d31241-6678-45a5-9e0c-d81616dc45d2",
   "metadata": {},
   "outputs": [
    {
     "data": {
      "text/plain": [
       "['a', 'c', 'e', 'g']"
      ]
     },
     "execution_count": 50,
     "metadata": {},
     "output_type": "execute_result"
    }
   ],
   "source": [
    "lst[::2] # 1,3,5,7, ... "
   ]
  },
  {
   "cell_type": "code",
   "execution_count": 51,
   "id": "7ce4f436-f5af-420d-bd1a-7242a64c5d6f",
   "metadata": {},
   "outputs": [
    {
     "data": {
      "text/plain": [
       "['b', 'd', 'f', 'h']"
      ]
     },
     "execution_count": 51,
     "metadata": {},
     "output_type": "execute_result"
    }
   ],
   "source": [
    "lst[1::2] # 2,4,6,8, ... "
   ]
  },
  {
   "cell_type": "markdown",
   "id": "dbf33243-88bb-4cd1-8062-7ef828907943",
   "metadata": {},
   "source": [
    "`-` step = -1 이면? "
   ]
  },
  {
   "cell_type": "code",
   "execution_count": 52,
   "id": "e0ffe774-6914-4b7c-883e-1c6bdc52aeb7",
   "metadata": {},
   "outputs": [
    {
     "data": {
      "text/plain": [
       "['a', 'b', 'c', 'd', 'e', 'f', 'g', 'h']"
      ]
     },
     "execution_count": 52,
     "metadata": {},
     "output_type": "execute_result"
    }
   ],
   "source": [
    "lst"
   ]
  },
  {
   "cell_type": "code",
   "execution_count": 53,
   "id": "2e9cca9e-7629-4b12-836a-3ffa922edce8",
   "metadata": {},
   "outputs": [
    {
     "data": {
      "text/plain": [
       "['h', 'g', 'f', 'e', 'd', 'c', 'b', 'a']"
      ]
     },
     "execution_count": 53,
     "metadata": {},
     "output_type": "execute_result"
    }
   ],
   "source": [
    "lst[::-1]"
   ]
  },
  {
   "cell_type": "markdown",
   "id": "3d4af30b-4024-4d0e-953b-6a86d86dac13",
   "metadata": {},
   "source": [
    "(reverse)와 비교"
   ]
  },
  {
   "cell_type": "markdown",
   "id": "957b13b7-f9cd-4653-b5c5-3ba773c74138",
   "metadata": {},
   "source": [
    "관찰1: reverse 메소드는 리스트 자체를 변화시킴"
   ]
  },
  {
   "cell_type": "code",
   "execution_count": 54,
   "id": "b25e457b-9f6e-419b-9f40-1181f35eca09",
   "metadata": {},
   "outputs": [
    {
     "data": {
      "text/plain": [
       "['a', 'b', 'c', 'd', 'e', 'f', 'g', 'h']"
      ]
     },
     "execution_count": 54,
     "metadata": {},
     "output_type": "execute_result"
    }
   ],
   "source": [
    "lst = list('abcdefgh')\n",
    "lst"
   ]
  },
  {
   "cell_type": "code",
   "execution_count": 55,
   "id": "569d8510-b301-468e-8ee5-0cf64401bafe",
   "metadata": {},
   "outputs": [
    {
     "data": {
      "text/plain": [
       "['h', 'g', 'f', 'e', 'd', 'c', 'b', 'a']"
      ]
     },
     "execution_count": 55,
     "metadata": {},
     "output_type": "execute_result"
    }
   ],
   "source": [
    "lst.reverse() #리버스는 \n",
    "lst"
   ]
  },
  {
   "cell_type": "markdown",
   "id": "bc9450d8-9108-445f-a808-244d555f76fd",
   "metadata": {},
   "source": [
    "관찰2: [::-1]는 리스트는 변화시키지 않음"
   ]
  },
  {
   "cell_type": "code",
   "execution_count": 56,
   "id": "4d0b7fef-3e50-4a99-ad35-6cccca68cb80",
   "metadata": {},
   "outputs": [
    {
     "data": {
      "text/plain": [
       "['a', 'b', 'c', 'd', 'e', 'f', 'g', 'h']"
      ]
     },
     "execution_count": 56,
     "metadata": {},
     "output_type": "execute_result"
    }
   ],
   "source": [
    "lst = list('abcdefgh')\n",
    "lst"
   ]
  },
  {
   "cell_type": "code",
   "execution_count": 57,
   "id": "f5470c98-f4fe-4247-ab7d-058518d66c7c",
   "metadata": {},
   "outputs": [
    {
     "data": {
      "text/plain": [
       "['h', 'g', 'f', 'e', 'd', 'c', 'b', 'a']"
      ]
     },
     "execution_count": 57,
     "metadata": {},
     "output_type": "execute_result"
    }
   ],
   "source": [
    "lst[::-1]"
   ]
  },
  {
   "cell_type": "code",
   "execution_count": 58,
   "id": "d90332cd-5720-45c4-810a-90f0f28b6aab",
   "metadata": {},
   "outputs": [
    {
     "data": {
      "text/plain": [
       "['a', 'b', 'c', 'd', 'e', 'f', 'g', 'h']"
      ]
     },
     "execution_count": 58,
     "metadata": {},
     "output_type": "execute_result"
    }
   ],
   "source": [
    "lst"
   ]
  },
  {
   "cell_type": "markdown",
   "id": "e0f8e4c2-a870-4472-9d9f-1df71c578364",
   "metadata": {},
   "source": [
    "`-` 사실 -step은 쓰는 것이 조금 까다롭다. "
   ]
  },
  {
   "cell_type": "markdown",
   "id": "167c6925-c712-4afa-9397-0e6de6b52f19",
   "metadata": {},
   "source": [
    "(예제) 처음과 끝을 생략하지 않고 아래와 동일한 효과를 주는 코드를 만들어 보자. "
   ]
  },
  {
   "cell_type": "code",
   "execution_count": 59,
   "id": "27e23223-a4d8-4fca-9ae6-3bdce5e32144",
   "metadata": {},
   "outputs": [
    {
     "data": {
      "text/plain": [
       "['h', 'g', 'f', 'e', 'd', 'c', 'b', 'a']"
      ]
     },
     "execution_count": 59,
     "metadata": {},
     "output_type": "execute_result"
    }
   ],
   "source": [
    "lst = list('abcdefgh')\n",
    "lst[::-1]"
   ]
  },
  {
   "cell_type": "markdown",
   "id": "70b3d0e0-06ba-4e09-a75a-c53cfb0387d0",
   "metadata": {},
   "source": [
    "(풀이)"
   ]
  },
  {
   "cell_type": "markdown",
   "id": "6e1761b4-1ebd-4d88-80a5-90b8f15a49ff",
   "metadata": {},
   "source": [
    "결국 lst[?:?:-1]의 꼴에서 적당히 ?의 값을 채우면 된다. "
   ]
  },
  {
   "cell_type": "code",
   "execution_count": 60,
   "id": "f492e14c-b35b-4df2-98cd-15f7e5ee307c",
   "metadata": {},
   "outputs": [
    {
     "data": {
      "text/plain": [
       "['h', 'g', 'f', 'e', 'd', 'c', 'b', 'a']"
      ]
     },
     "execution_count": 60,
     "metadata": {},
     "output_type": "execute_result"
    }
   ],
   "source": [
    "lst[-1::-1] # 일단 첫 시작은 제일 마지막 원소 "
   ]
  },
  {
   "cell_type": "code",
   "execution_count": 61,
   "id": "67967cbe-febd-4d87-9c5f-6c7d030cc963",
   "metadata": {},
   "outputs": [
    {
     "data": {
      "text/plain": [
       "['h', 'g', 'f', 'e', 'd', 'c', 'b']"
      ]
     },
     "execution_count": 61,
     "metadata": {},
     "output_type": "execute_result"
    }
   ],
   "source": [
    "lst[-1:0:-1] # 앗 마지막 인덱스는 포함 안되는거였지? "
   ]
  },
  {
   "cell_type": "code",
   "execution_count": 64,
   "id": "1c94d104-3df2-4c75-b768-337b1019c610",
   "metadata": {},
   "outputs": [
    {
     "data": {
      "text/plain": [
       "[]"
      ]
     },
     "execution_count": 64,
     "metadata": {},
     "output_type": "execute_result"
    }
   ],
   "source": [
    "lst[-1:-1:-1] # 어쩌지??"
   ]
  },
  {
   "cell_type": "markdown",
   "id": "40ad86bf-f61d-4262-b0bd-8ca7607cceb2",
   "metadata": {},
   "source": [
    "잠깐 인덱스를 생각해보자. "
   ]
  },
  {
   "cell_type": "markdown",
   "id": "460ac7d4-284c-4136-a5f3-e6d2e796f47f",
   "metadata": {},
   "source": [
    "|a|b|c|d|e|f|g|h|\n",
    "|:-:|:-:|:-:|:-:|:-:|:-:|:-:|:-:|\n",
    "|0|1|2|3|4|5|6|7|\n",
    "|**-8**|-7|-6|-5|-4|-3|-2|**-1**|"
   ]
  },
  {
   "cell_type": "code",
   "execution_count": 65,
   "id": "117d4998-e866-4d0f-8041-ef632cae4252",
   "metadata": {},
   "outputs": [
    {
     "data": {
      "text/plain": [
       "['h', 'g', 'f', 'e', 'd', 'c', 'b', 'a']"
      ]
     },
     "execution_count": 65,
     "metadata": {},
     "output_type": "execute_result"
    }
   ],
   "source": [
    "lst[-1:-9:-1] # 아.."
   ]
  },
  {
   "cell_type": "markdown",
   "id": "92e4d159-9298-4dc7-9c7a-86840b8f18fa",
   "metadata": {},
   "source": [
    "결론: -step을 자주 쓰진 말자?"
   ]
  },
  {
   "cell_type": "markdown",
   "id": "e8ea2af1-8f5f-42ab-bb11-905446ecd3d4",
   "metadata": {},
   "source": [
    "## 컴프리헨션 고급 (if문이 포함된 컴프리헨션) "
   ]
  },
  {
   "cell_type": "markdown",
   "id": "3988d131-51c4-4975-a268-fbde44dc2dad",
   "metadata": {},
   "source": [
    "`-` 예제: 제곱수중에서 12로 나누어 떨어지는 수만 원소로 가지는 리스트를 만들고 싶다. \n",
    "- 제곱수: 1,4,9,16,25,36, ... \n",
    "- 12로 나누어 떨어지는 수: 36, ... "
   ]
  },
  {
   "cell_type": "markdown",
   "id": "96b55186-ca4a-4fc0-b739-0da57a7e5cf8",
   "metadata": {},
   "source": [
    "(예비학습)"
   ]
  },
  {
   "cell_type": "code",
   "execution_count": 69,
   "id": "a8b24708-48b0-4ebe-9b85-2e77982f701c",
   "metadata": {},
   "outputs": [
    {
     "data": {
      "text/plain": [
       "0"
      ]
     },
     "execution_count": 69,
     "metadata": {},
     "output_type": "execute_result"
    }
   ],
   "source": [
    "12 % 4 # %는 나머지를 계산하는 연산자, 12를 4로 나누면 나머지가 0"
   ]
  },
  {
   "cell_type": "code",
   "execution_count": 70,
   "id": "c2ed929f-9d7f-4311-8846-3a64f5a130cf",
   "metadata": {},
   "outputs": [
    {
     "data": {
      "text/plain": [
       "2"
      ]
     },
     "execution_count": 70,
     "metadata": {},
     "output_type": "execute_result"
    }
   ],
   "source": [
    "12 % 5 # %는 나머지를 계산하는 연산자, 12를 5로 나누면 나머지가 2"
   ]
  },
  {
   "cell_type": "markdown",
   "id": "88431b8c-36d4-4f4b-9d59-868655de225b",
   "metadata": {},
   "source": [
    "(풀이1)"
   ]
  },
  {
   "cell_type": "code",
   "execution_count": 74,
   "id": "bbba1669-13cc-48dc-a7cf-774b09339909",
   "metadata": {},
   "outputs": [],
   "source": [
    "lst = [] \n",
    "for i in range(1,101): \n",
    "    if (i**2 % 12 == 0): \n",
    "        lst.append(i**2)"
   ]
  },
  {
   "cell_type": "code",
   "execution_count": 75,
   "id": "db8703cb-a45d-42a3-be83-22c22d825540",
   "metadata": {},
   "outputs": [
    {
     "data": {
      "text/plain": [
       "[36,\n",
       " 144,\n",
       " 324,\n",
       " 576,\n",
       " 900,\n",
       " 1296,\n",
       " 1764,\n",
       " 2304,\n",
       " 2916,\n",
       " 3600,\n",
       " 4356,\n",
       " 5184,\n",
       " 6084,\n",
       " 7056,\n",
       " 8100,\n",
       " 9216]"
      ]
     },
     "execution_count": 75,
     "metadata": {},
     "output_type": "execute_result"
    }
   ],
   "source": [
    "lst"
   ]
  },
  {
   "cell_type": "markdown",
   "id": "2fbae900-6739-4d8a-b38f-f146ce8ecf62",
   "metadata": {},
   "source": [
    "(풀이2)"
   ]
  },
  {
   "cell_type": "code",
   "execution_count": 8,
   "id": "f45e52b8-2628-40dc-ab6d-405471014f56",
   "metadata": {},
   "outputs": [
    {
     "data": {
      "text/plain": [
       "[36,\n",
       " 144,\n",
       " 324,\n",
       " 576,\n",
       " 900,\n",
       " 1296,\n",
       " 1764,\n",
       " 2304,\n",
       " 2916,\n",
       " 3600,\n",
       " 4356,\n",
       " 5184,\n",
       " 6084,\n",
       " 7056,\n",
       " 8100,\n",
       " 9216]"
      ]
     },
     "execution_count": 8,
     "metadata": {},
     "output_type": "execute_result"
    }
   ],
   "source": [
    "[i**2 for i in range(1,101) if (i**2 % 12 == 0)]"
   ]
  },
  {
   "cell_type": "markdown",
   "id": "7b09e49b-a6d2-463d-8360-361c088f56a6",
   "metadata": {},
   "source": [
    "## 함수고급 (if문이 포함된 리턴)"
   ]
  },
  {
   "cell_type": "markdown",
   "id": "6c83312a-2a3b-41b7-a3fb-e4b771c9b1e6",
   "metadata": {},
   "source": [
    "`-` 홀수/짝수를 판별하는 함수 만들기 1"
   ]
  },
  {
   "cell_type": "code",
   "execution_count": 35,
   "id": "4eaaa7db-f282-408d-805e-809f7eb95651",
   "metadata": {},
   "outputs": [],
   "source": [
    "def test(a):\n",
    "    if a % 2 ==0: \n",
    "        return 'even'\n",
    "    else:\n",
    "        return 'odd'"
   ]
  },
  {
   "cell_type": "code",
   "execution_count": 36,
   "id": "6b71aac2-7fcc-46dc-b541-17c90f53fe71",
   "metadata": {},
   "outputs": [
    {
     "data": {
      "text/plain": [
       "'odd'"
      ]
     },
     "execution_count": 36,
     "metadata": {},
     "output_type": "execute_result"
    }
   ],
   "source": [
    "test(1)"
   ]
  },
  {
   "cell_type": "code",
   "execution_count": 37,
   "id": "2e2a60b7-175c-46d0-9fe9-74cc42169b98",
   "metadata": {},
   "outputs": [
    {
     "data": {
      "text/plain": [
       "'even'"
      ]
     },
     "execution_count": 37,
     "metadata": {},
     "output_type": "execute_result"
    }
   ],
   "source": [
    "test(2)"
   ]
  },
  {
   "cell_type": "code",
   "execution_count": 38,
   "id": "625a2d03-54bd-4630-a3fa-2c2946529f92",
   "metadata": {},
   "outputs": [
    {
     "data": {
      "text/plain": [
       "'odd'"
      ]
     },
     "execution_count": 38,
     "metadata": {},
     "output_type": "execute_result"
    }
   ],
   "source": [
    "test(3)"
   ]
  },
  {
   "cell_type": "code",
   "execution_count": 39,
   "id": "d49f81e9-d136-4a84-9cf6-dfc52d4da3f5",
   "metadata": {},
   "outputs": [
    {
     "data": {
      "text/plain": [
       "'even'"
      ]
     },
     "execution_count": 39,
     "metadata": {},
     "output_type": "execute_result"
    }
   ],
   "source": [
    "test(4)"
   ]
  },
  {
   "cell_type": "code",
   "execution_count": 40,
   "id": "83635983-9f71-4eb8-a622-7db231f2d8c8",
   "metadata": {},
   "outputs": [
    {
     "data": {
      "text/plain": [
       "['odd', 'even', 'odd', 'even', 'odd', 'even', 'odd', 'even', 'odd', 'even']"
      ]
     },
     "execution_count": 40,
     "metadata": {},
     "output_type": "execute_result"
    }
   ],
   "source": [
    "[test(a) for a in range(1,11)]"
   ]
  },
  {
   "cell_type": "markdown",
   "id": "fb58fa97-b0e1-4a35-9d6c-d4b6af939e4f",
   "metadata": {},
   "source": [
    "`-` 홀수/짝수를 판별하는 함수 만들기 2"
   ]
  },
  {
   "cell_type": "code",
   "execution_count": 41,
   "id": "42c9bb2f-ca1f-48f1-bd12-d27e969d14ff",
   "metadata": {},
   "outputs": [],
   "source": [
    "def test(a):\n",
    "    return 'even' if a%2 ==0 else 'odd'"
   ]
  },
  {
   "cell_type": "code",
   "execution_count": 42,
   "id": "61680d67-270d-4350-b85f-be73212e6f86",
   "metadata": {},
   "outputs": [
    {
     "data": {
      "text/plain": [
       "'odd'"
      ]
     },
     "execution_count": 42,
     "metadata": {},
     "output_type": "execute_result"
    }
   ],
   "source": [
    "test(3)"
   ]
  },
  {
   "cell_type": "code",
   "execution_count": 43,
   "id": "a54218c9-0078-4531-848c-e0c5896cd65b",
   "metadata": {},
   "outputs": [
    {
     "data": {
      "text/plain": [
       "['odd', 'even', 'odd', 'even', 'odd', 'even', 'odd', 'even', 'odd', 'even']"
      ]
     },
     "execution_count": 43,
     "metadata": {},
     "output_type": "execute_result"
    }
   ],
   "source": [
    "[test(a) for a in range(1,11)]"
   ]
  },
  {
   "cell_type": "markdown",
   "id": "7297f858-8eca-4ad2-9f43-61975c4d0615",
   "metadata": {},
   "source": [
    "## len함수 "
   ]
  },
  {
   "cell_type": "markdown",
   "id": "0ccc2293-559b-4c2c-944b-5d9d76155bce",
   "metadata": {},
   "source": [
    "`-` 0차원 자료형은 len함수가 동작하지 않음 "
   ]
  },
  {
   "cell_type": "code",
   "execution_count": 44,
   "id": "d7914d3d-09f8-4c68-9b20-5c7a1c4db046",
   "metadata": {},
   "outputs": [
    {
     "ename": "TypeError",
     "evalue": "object of type 'int' has no len()",
     "output_type": "error",
     "traceback": [
      "\u001b[0;31m---------------------------------------------------------------------------\u001b[0m",
      "\u001b[0;31mTypeError\u001b[0m                                 Traceback (most recent call last)",
      "Input \u001b[0;32mIn [44]\u001b[0m, in \u001b[0;36m<cell line: 2>\u001b[0;34m()\u001b[0m\n\u001b[1;32m      1\u001b[0m a\u001b[38;5;241m=\u001b[39m\u001b[38;5;241m1\u001b[39m \n\u001b[0;32m----> 2\u001b[0m \u001b[38;5;28;43mlen\u001b[39;49m\u001b[43m(\u001b[49m\u001b[43ma\u001b[49m\u001b[43m)\u001b[49m\n",
      "\u001b[0;31mTypeError\u001b[0m: object of type 'int' has no len()"
     ]
    }
   ],
   "source": [
    "a=1 \n",
    "len(a)"
   ]
  },
  {
   "cell_type": "code",
   "execution_count": 45,
   "id": "08714f3c-e4a2-4678-861e-0ea8c18cf257",
   "metadata": {},
   "outputs": [
    {
     "ename": "TypeError",
     "evalue": "object of type 'bool' has no len()",
     "output_type": "error",
     "traceback": [
      "\u001b[0;31m---------------------------------------------------------------------------\u001b[0m",
      "\u001b[0;31mTypeError\u001b[0m                                 Traceback (most recent call last)",
      "Input \u001b[0;32mIn [45]\u001b[0m, in \u001b[0;36m<cell line: 2>\u001b[0;34m()\u001b[0m\n\u001b[1;32m      1\u001b[0m a\u001b[38;5;241m=\u001b[39m\u001b[38;5;28;01mTrue\u001b[39;00m\n\u001b[0;32m----> 2\u001b[0m \u001b[38;5;28;43mlen\u001b[39;49m\u001b[43m(\u001b[49m\u001b[43ma\u001b[49m\u001b[43m)\u001b[49m\n",
      "\u001b[0;31mTypeError\u001b[0m: object of type 'bool' has no len()"
     ]
    }
   ],
   "source": [
    "a=True\n",
    "len(a)"
   ]
  },
  {
   "cell_type": "code",
   "execution_count": 46,
   "id": "d822b0c5-453e-4d0b-af4a-1628b6871b86",
   "metadata": {},
   "outputs": [
    {
     "ename": "TypeError",
     "evalue": "object of type 'float' has no len()",
     "output_type": "error",
     "traceback": [
      "\u001b[0;31m---------------------------------------------------------------------------\u001b[0m",
      "\u001b[0;31mTypeError\u001b[0m                                 Traceback (most recent call last)",
      "Input \u001b[0;32mIn [46]\u001b[0m, in \u001b[0;36m<cell line: 2>\u001b[0;34m()\u001b[0m\n\u001b[1;32m      1\u001b[0m a\u001b[38;5;241m=\u001b[39m\u001b[38;5;241m3.14\u001b[39m\n\u001b[0;32m----> 2\u001b[0m \u001b[38;5;28;43mlen\u001b[39;49m\u001b[43m(\u001b[49m\u001b[43ma\u001b[49m\u001b[43m)\u001b[49m\n",
      "\u001b[0;31mTypeError\u001b[0m: object of type 'float' has no len()"
     ]
    }
   ],
   "source": [
    "a=3.14\n",
    "len(a)"
   ]
  },
  {
   "cell_type": "markdown",
   "id": "c77b1337-abd0-44e3-a860-5b5e80fdc416",
   "metadata": {},
   "source": [
    "> note: 이것이 어떠한 수학적인 의미를 가지거나 0차원의 본질적진리를 뜻하는 것은 안미. R에서는 1,3.14,TRUE의 길이가 1로 존재함. "
   ]
  },
  {
   "cell_type": "markdown",
   "id": "15e3faf4-5e21-4666-81d6-d883bbb37106",
   "metadata": {},
   "source": [
    "`-` 1차원 자료형은 len함수가 동작"
   ]
  },
  {
   "cell_type": "code",
   "execution_count": 47,
   "id": "04075b6c-1b6a-480d-b01f-684558c80469",
   "metadata": {},
   "outputs": [
    {
     "data": {
      "text/plain": [
       "6"
      ]
     },
     "execution_count": 47,
     "metadata": {},
     "output_type": "execute_result"
    }
   ],
   "source": [
    "a='guebin'\n",
    "len(a)"
   ]
  },
  {
   "cell_type": "code",
   "execution_count": 48,
   "id": "8d11615d-afb7-450b-a5bd-15aa7b0cf17f",
   "metadata": {},
   "outputs": [
    {
     "data": {
      "text/plain": [
       "6"
      ]
     },
     "execution_count": 48,
     "metadata": {},
     "output_type": "execute_result"
    }
   ],
   "source": [
    "a=[1,2,3,4,5,6]\n",
    "len(a)"
   ]
  },
  {
   "cell_type": "code",
   "execution_count": 49,
   "id": "fa5bdf1d-b169-4a62-961f-a33ca37e412e",
   "metadata": {},
   "outputs": [
    {
     "data": {
      "text/plain": [
       "6"
      ]
     },
     "execution_count": 49,
     "metadata": {},
     "output_type": "execute_result"
    }
   ],
   "source": [
    "a=1,2,3,4,5,6 \n",
    "len(a)"
   ]
  },
  {
   "cell_type": "code",
   "execution_count": 50,
   "id": "35edfd66-f4a9-47da-bc5d-8ed26d9d1faf",
   "metadata": {},
   "outputs": [
    {
     "data": {
      "text/plain": [
       "10"
      ]
     },
     "execution_count": 50,
     "metadata": {},
     "output_type": "execute_result"
    }
   ],
   "source": [
    "a=range(10)\n",
    "len(a)"
   ]
  },
  {
   "cell_type": "markdown",
   "id": "f7112d28-0c77-4bfa-8f49-34afaf003bf9",
   "metadata": {},
   "source": [
    "`-` 길이가 1인 1차원 자료형과 0차원 자료형은 다른것임 "
   ]
  },
  {
   "cell_type": "code",
   "execution_count": 51,
   "id": "fd2ef87e-5c4e-4016-ae01-361cb425979e",
   "metadata": {},
   "outputs": [
    {
     "data": {
      "text/plain": [
       "1"
      ]
     },
     "execution_count": 51,
     "metadata": {},
     "output_type": "execute_result"
    }
   ],
   "source": [
    "a='g'\n",
    "len(a)"
   ]
  },
  {
   "cell_type": "code",
   "execution_count": 52,
   "id": "e9c44d10-ab70-47f2-8256-2a21e38dae66",
   "metadata": {},
   "outputs": [
    {
     "data": {
      "text/plain": [
       "1"
      ]
     },
     "execution_count": 52,
     "metadata": {},
     "output_type": "execute_result"
    }
   ],
   "source": [
    "a=[1] \n",
    "len(a)"
   ]
  },
  {
   "cell_type": "code",
   "execution_count": 53,
   "id": "7ce63381-4801-481e-8ba1-de4b8a63c088",
   "metadata": {},
   "outputs": [
    {
     "data": {
      "text/plain": [
       "1"
      ]
     },
     "execution_count": 53,
     "metadata": {},
     "output_type": "execute_result"
    }
   ],
   "source": [
    "a=(1,)\n",
    "len(a)"
   ]
  },
  {
   "cell_type": "code",
   "execution_count": 54,
   "id": "0ad9d9f2-d0c6-4583-b183-9181bf14b701",
   "metadata": {},
   "outputs": [
    {
     "data": {
      "text/plain": [
       "1"
      ]
     },
     "execution_count": 54,
     "metadata": {},
     "output_type": "execute_result"
    }
   ],
   "source": [
    "a=range(1)\n",
    "len(a)"
   ]
  },
  {
   "cell_type": "markdown",
   "id": "3b97f9bf-6d0e-4e25-9b04-7e74b4d476ec",
   "metadata": {},
   "source": [
    "`-` 길이가 0인 1차원 자료형도 존재함 "
   ]
  },
  {
   "cell_type": "code",
   "execution_count": 55,
   "id": "236965ec-6a9a-49ae-b06c-86ea677d3984",
   "metadata": {},
   "outputs": [
    {
     "data": {
      "text/plain": [
       "0"
      ]
     },
     "execution_count": 55,
     "metadata": {},
     "output_type": "execute_result"
    }
   ],
   "source": [
    "a=''\n",
    "len(a)"
   ]
  },
  {
   "cell_type": "code",
   "execution_count": 56,
   "id": "b6e771ce-40fe-4cab-a77a-735e79da795d",
   "metadata": {},
   "outputs": [
    {
     "data": {
      "text/plain": [
       "0"
      ]
     },
     "execution_count": 56,
     "metadata": {},
     "output_type": "execute_result"
    }
   ],
   "source": [
    "a=[]\n",
    "len(a)"
   ]
  },
  {
   "cell_type": "code",
   "execution_count": 57,
   "id": "e15735e5-ba00-4725-a719-1e1fb9c2dbfa",
   "metadata": {},
   "outputs": [
    {
     "data": {
      "text/plain": [
       "0"
      ]
     },
     "execution_count": 57,
     "metadata": {},
     "output_type": "execute_result"
    }
   ],
   "source": [
    "a=()\n",
    "len(a)"
   ]
  },
  {
   "cell_type": "code",
   "execution_count": 58,
   "id": "763a5718-9462-473f-a019-7e34824536ac",
   "metadata": {},
   "outputs": [
    {
     "data": {
      "text/plain": [
       "0"
      ]
     },
     "execution_count": 58,
     "metadata": {},
     "output_type": "execute_result"
    }
   ],
   "source": [
    "a=range(0)\n",
    "len(a)"
   ]
  },
  {
   "cell_type": "markdown",
   "id": "87d281b5-1f93-407a-bef6-43bbabd507fe",
   "metadata": {
    "tags": []
   },
   "source": [
    "# 딕셔너리 기본내용"
   ]
  },
  {
   "cell_type": "markdown",
   "id": "650168c0-9e08-4556-804c-2b6128b2aab5",
   "metadata": {},
   "source": [
    "## intro: str, list, tuple 정리"
   ]
  },
  {
   "cell_type": "markdown",
   "id": "ab087d3c-f1fc-4fb0-8cf0-7c507278b5d0",
   "metadata": {},
   "source": [
    "`-` str, list, tuple은 모두 시퀀스형이라는 공통점이 있다. $\\to$ 원소의 위치번호로 인덱싱이 가능 "
   ]
  },
  {
   "cell_type": "code",
   "execution_count": 62,
   "id": "25798f15-ba8a-4043-bee9-1009aa06165c",
   "metadata": {},
   "outputs": [],
   "source": [
    "lst = [1,2,3,4]"
   ]
  },
  {
   "cell_type": "code",
   "execution_count": 63,
   "id": "75a01a1d-cced-457d-b9f6-53064cf87ed5",
   "metadata": {},
   "outputs": [
    {
     "data": {
      "text/plain": [
       "1"
      ]
     },
     "execution_count": 63,
     "metadata": {},
     "output_type": "execute_result"
    }
   ],
   "source": [
    "lst[0] # 위치번호=0"
   ]
  },
  {
   "cell_type": "code",
   "execution_count": 64,
   "id": "3e6882f5-c01d-4ca3-a855-6e716ba86ef5",
   "metadata": {},
   "outputs": [
    {
     "data": {
      "text/plain": [
       "4"
      ]
     },
     "execution_count": 64,
     "metadata": {},
     "output_type": "execute_result"
    }
   ],
   "source": [
    "lst[-1] # 위치번호=-1"
   ]
  },
  {
   "cell_type": "markdown",
   "id": "9750b3be-d217-4f87-8310-cbfc50a95d8b",
   "metadata": {},
   "source": [
    "`-` str, list, tuple은 차이점도 존재함. 잠깐 정리해보자. "
   ]
  },
  {
   "cell_type": "markdown",
   "id": "803102b9-a7cf-4236-a5c6-9df0ef88fed6",
   "metadata": {},
   "source": [
    "***시퀀스형의 카테고리***\n",
    "\n",
    "- 컨테니어형: list, tuple \n",
    "- 균일형: str \n",
    "- 가변형: list \n",
    "- 불변형: tuple, str "
   ]
  },
  {
   "cell_type": "markdown",
   "id": "7f801754-9c9f-412e-850f-340afef97201",
   "metadata": {},
   "source": [
    "***표로 정리하면***"
   ]
  },
  {
   "cell_type": "markdown",
   "id": "3144f6e3-199c-4023-bb18-95cb89f0dd76",
   "metadata": {},
   "source": [
    "||컨테니어형|균일형|\n",
    "|:-:|:-:|:-:|\n",
    "|가변형|list|.|\n",
    "|불변형|tuple|str|"
   ]
  },
  {
   "cell_type": "markdown",
   "id": "bf2f4474-c514-4e77-86bc-e31997718b7a",
   "metadata": {},
   "source": [
    "`-` 시퀀스형이 아닌 1차원 자료형도 있을까? 원소의 위치번호로 인덱싱이 불가능한 자료형 "
   ]
  },
  {
   "cell_type": "markdown",
   "id": "6db44420-e5a7-4cca-b2f6-64f7bb83adb0",
   "metadata": {},
   "source": [
    "`-` 왜 이런게 필요할까? \n",
    "- 벡터에서 원소를 뽑는것은 정보의 모임에서 정보를 검색하는 것과 같다. \n",
    "- 정보를 `순서`대로 나열한뒤에 그 `순서`를 이용하여 검색하는 방법은 유용하다. \n",
    "- 하지만 경우에 따라서는 `키워드`를 기억해서 그 `키워드`를 바탕으로 정보에 접근하는 방법이 유용할 수 있다.  "
   ]
  },
  {
   "cell_type": "markdown",
   "id": "2c5e3752-da64-4b2e-8c3c-83265438adc1",
   "metadata": {},
   "source": [
    "***카카오톡 대화내용검색*** "
   ]
  },
  {
   "cell_type": "markdown",
   "id": "04c76dae-65ed-4966-8f16-6bd3b08d0d0e",
   "metadata": {},
   "source": [
    "(상황1) `오늘아침`에 와이프가 `뭔가`를 카톡으로 부탁했었음. 그런데 그 `뭔가`가 기억안남. "
   ]
  },
  {
   "cell_type": "markdown",
   "id": "249105c1-42d4-4eb6-8ea7-8244e95e0ae0",
   "metadata": {},
   "source": [
    "(상황2) `개강전에` 동료교수와 함께 `저녁약속`을 카톡으로 잡았었음. 그런데 그게 언제인지 기억안남. "
   ]
  },
  {
   "cell_type": "markdown",
   "id": "c9a7fd7c-1088-4e09-950f-80c13686345d",
   "metadata": {},
   "source": [
    "(상황3) `오늘아침` 동료교수와 함께 `점심약속`을 카톡으로 잡았었음. 그런데 그 장소가 기억나지 않음. "
   ]
  },
  {
   "cell_type": "markdown",
   "id": "c523b29a-731e-4cb6-9e7b-620dbf7c2fe0",
   "metadata": {},
   "source": [
    "`-` 순서대로 정리된 자료를 검색할때는 시퀀스형이 유리하다. 그런데 키워드로 검색하고 싶을 경우는 딕셔너리 타입이 유리하다. "
   ]
  },
  {
   "cell_type": "markdown",
   "id": "6d0361f2-571a-42e6-ab76-5b87926af274",
   "metadata": {},
   "source": [
    "## 선언 "
   ]
  },
  {
   "cell_type": "markdown",
   "id": "d8a43189-40ca-4166-9cdf-83d8eaf29533",
   "metadata": {},
   "source": [
    "`-` 방법1"
   ]
  },
  {
   "cell_type": "code",
   "execution_count": 65,
   "id": "a9a20701-3621-4a6a-b29f-955d6640b307",
   "metadata": {},
   "outputs": [
    {
     "data": {
      "text/plain": [
       "{'guebin': 49, 'iu': 80}"
      ]
     },
     "execution_count": 65,
     "metadata": {},
     "output_type": "execute_result"
    }
   ],
   "source": [
    "score={'guebin':49, 'iu':80}\n",
    "score"
   ]
  },
  {
   "cell_type": "code",
   "execution_count": 66,
   "id": "5149c6f6-90f5-4069-a341-b0202345cf37",
   "metadata": {},
   "outputs": [
    {
     "data": {
      "text/plain": [
       "dict"
      ]
     },
     "execution_count": 66,
     "metadata": {},
     "output_type": "execute_result"
    }
   ],
   "source": [
    "type(score)"
   ]
  },
  {
   "cell_type": "markdown",
   "id": "b233f419-c57f-4b67-b654-7fddb346776d",
   "metadata": {},
   "source": [
    "`-` 방법2"
   ]
  },
  {
   "cell_type": "code",
   "execution_count": 67,
   "id": "f78b058c-484a-4887-975c-d153a870e975",
   "metadata": {},
   "outputs": [
    {
     "data": {
      "text/plain": [
       "{'guebin': 49, 'iu': 80}"
      ]
     },
     "execution_count": 67,
     "metadata": {},
     "output_type": "execute_result"
    }
   ],
   "source": [
    "score=dict(guebin=49, iu=80)\n",
    "score"
   ]
  },
  {
   "cell_type": "code",
   "execution_count": 68,
   "id": "1d6254bc-c977-4c73-a7ed-ef43eab74b15",
   "metadata": {},
   "outputs": [
    {
     "data": {
      "text/plain": [
       "dict"
      ]
     },
     "execution_count": 68,
     "metadata": {},
     "output_type": "execute_result"
    }
   ],
   "source": [
    "type(score)"
   ]
  },
  {
   "cell_type": "markdown",
   "id": "0a5f6de1-4211-40af-b43d-4677dcc9f85e",
   "metadata": {},
   "source": [
    "`-` 방법3 "
   ]
  },
  {
   "cell_type": "code",
   "execution_count": 69,
   "id": "e8faa47b-c1f2-40be-a631-f7589d2794dc",
   "metadata": {},
   "outputs": [
    {
     "data": {
      "text/plain": [
       "[['guebin', 49], ['iu', 80]]"
      ]
     },
     "execution_count": 69,
     "metadata": {},
     "output_type": "execute_result"
    }
   ],
   "source": [
    "_lst = [['guebin',49],['iu',80]]\n",
    "_lst "
   ]
  },
  {
   "cell_type": "code",
   "execution_count": 70,
   "id": "a5ff8e2c-80f9-4598-a19a-38e95bff6675",
   "metadata": {},
   "outputs": [
    {
     "data": {
      "text/plain": [
       "{'guebin': 49, 'iu': 80}"
      ]
     },
     "execution_count": 70,
     "metadata": {},
     "output_type": "execute_result"
    }
   ],
   "source": [
    "dict(_lst)"
   ]
  },
  {
   "cell_type": "markdown",
   "id": "c9d70b26-b7a4-40b9-b3a1-29ce0019edb5",
   "metadata": {},
   "source": [
    "`-` 방법4"
   ]
  },
  {
   "cell_type": "code",
   "execution_count": 71,
   "id": "93753dfd-b3cd-4f53-8cb1-aea4396607a6",
   "metadata": {},
   "outputs": [
    {
     "data": {
      "text/plain": [
       "(('guebin', 49), ('iu', 80))"
      ]
     },
     "execution_count": 71,
     "metadata": {},
     "output_type": "execute_result"
    }
   ],
   "source": [
    "_tpl = ('guebin',49), ('iu',80)\n",
    "_tpl"
   ]
  },
  {
   "cell_type": "code",
   "execution_count": 72,
   "id": "fb2193b4-1a61-4660-a981-1dad442c95d2",
   "metadata": {},
   "outputs": [
    {
     "data": {
      "text/plain": [
       "{'guebin': 49, 'iu': 80}"
      ]
     },
     "execution_count": 72,
     "metadata": {},
     "output_type": "execute_result"
    }
   ],
   "source": [
    "dict(_tpl)"
   ]
  },
  {
   "cell_type": "markdown",
   "id": "d4891e32-a00b-4c0f-80c0-61b26728df7f",
   "metadata": {},
   "source": [
    "## 원소추출 "
   ]
  },
  {
   "cell_type": "code",
   "execution_count": 73,
   "id": "f7500b7c-ebf4-4c78-961e-1101e046f49d",
   "metadata": {},
   "outputs": [
    {
     "data": {
      "text/plain": [
       "{'guebin': 49, 'iu': 80}"
      ]
     },
     "execution_count": 73,
     "metadata": {},
     "output_type": "execute_result"
    }
   ],
   "source": [
    "score = {'guebin':49, 'iu':80}\n",
    "score"
   ]
  },
  {
   "cell_type": "markdown",
   "id": "10d03052-cc3b-4be7-8f56-042c28592b99",
   "metadata": {},
   "source": [
    "guebin의 점수를 추출하고 싶다면? "
   ]
  },
  {
   "cell_type": "code",
   "execution_count": 74,
   "id": "a6538532-47d1-4bd9-8339-5e4f25801bd4",
   "metadata": {},
   "outputs": [
    {
     "ename": "KeyError",
     "evalue": "0",
     "output_type": "error",
     "traceback": [
      "\u001b[0;31m---------------------------------------------------------------------------\u001b[0m",
      "\u001b[0;31mKeyError\u001b[0m                                  Traceback (most recent call last)",
      "Cell \u001b[0;32mIn[74], line 1\u001b[0m\n\u001b[0;32m----> 1\u001b[0m \u001b[43mscore\u001b[49m\u001b[43m[\u001b[49m\u001b[38;5;241;43m0\u001b[39;49m\u001b[43m]\u001b[49m \u001b[38;5;66;03m# 이렇게 뽑는것이 아니고! \u001b[39;00m\n",
      "\u001b[0;31mKeyError\u001b[0m: 0"
     ]
    }
   ],
   "source": [
    "score[0] # 이렇게 뽑는것이 아니고! "
   ]
  },
  {
   "cell_type": "code",
   "execution_count": 75,
   "id": "5ddc4a55-6084-435c-8022-dcc210908c41",
   "metadata": {},
   "outputs": [
    {
     "data": {
      "text/plain": [
       "49"
      ]
     },
     "execution_count": 75,
     "metadata": {},
     "output_type": "execute_result"
    }
   ],
   "source": [
    "score['guebin'] "
   ]
  },
  {
   "cell_type": "markdown",
   "id": "e62d7e5f-1eb9-4bcc-b1e0-1ec00a3dd466",
   "metadata": {},
   "source": [
    "`-` 리스트로 저장했다면? "
   ]
  },
  {
   "cell_type": "code",
   "execution_count": 76,
   "id": "2a1cec28-2c7f-4347-a454-b7a084c7f15d",
   "metadata": {},
   "outputs": [
    {
     "data": {
      "text/plain": [
       "[['guebin', 49], ['iu', 80]]"
      ]
     },
     "execution_count": 76,
     "metadata": {},
     "output_type": "execute_result"
    }
   ],
   "source": [
    "score=[['guebin',49],['iu',80]]\n",
    "score"
   ]
  },
  {
   "cell_type": "markdown",
   "id": "b1ca1707-87b7-4bec-b3cd-8d66d36e1314",
   "metadata": {},
   "source": [
    "guebin의 점수를 추출하고 싶다면? "
   ]
  },
  {
   "cell_type": "markdown",
   "id": "6d1c3212-904e-44e1-89cd-e9277e50ae3e",
   "metadata": {},
   "source": [
    "(방법1)"
   ]
  },
  {
   "cell_type": "code",
   "execution_count": 77,
   "id": "fef35148-fbf7-47db-b8ed-39e48548751a",
   "metadata": {},
   "outputs": [
    {
     "data": {
      "text/plain": [
       "49"
      ]
     },
     "execution_count": 77,
     "metadata": {},
     "output_type": "execute_result"
    }
   ],
   "source": [
    "score[0][1] # guebin의 점수를 출력하란 의미"
   ]
  },
  {
   "cell_type": "markdown",
   "id": "71f37202-d088-4d6d-8284-ead71394161e",
   "metadata": {},
   "source": [
    "(방법2)"
   ]
  },
  {
   "cell_type": "code",
   "execution_count": 78,
   "id": "ece8fbc8-7fba-4ab2-aecd-e398f07c3a62",
   "metadata": {},
   "outputs": [
    {
     "data": {
      "text/plain": [
       "['guebin', 'iu']"
      ]
     },
     "execution_count": 78,
     "metadata": {},
     "output_type": "execute_result"
    }
   ],
   "source": [
    "_keys = [score[i][0] for i in range(len(score))] # 리스트컴프리헨션\n",
    "_keys"
   ]
  },
  {
   "cell_type": "code",
   "execution_count": 79,
   "id": "30d3259a-9140-4522-9d4f-8ad096c7ad55",
   "metadata": {},
   "outputs": [
    {
     "data": {
      "text/plain": [
       "[49]"
      ]
     },
     "execution_count": 79,
     "metadata": {},
     "output_type": "execute_result"
    }
   ],
   "source": [
    "[score[i][1] for i in range(len(score)) if score[i][0] =='guebin' ] "
   ]
  },
  {
   "cell_type": "markdown",
   "id": "e9ab34a0-897e-4269-9094-5d2d5340a7f2",
   "metadata": {},
   "source": [
    "- 어지럽죠? "
   ]
  },
  {
   "cell_type": "markdown",
   "id": "a0eb23fe-135d-4392-a8d9-0d2ae62eda74",
   "metadata": {},
   "source": [
    "## 원소추가, 변경, 삭제"
   ]
  },
  {
   "cell_type": "code",
   "execution_count": 80,
   "id": "42dfe67e-5758-460e-b488-96489e69b44d",
   "metadata": {},
   "outputs": [
    {
     "data": {
      "text/plain": [
       "{'guebin': 49, 'iu': 80}"
      ]
     },
     "execution_count": 80,
     "metadata": {},
     "output_type": "execute_result"
    }
   ],
   "source": [
    "score={'guebin':49, 'iu':80}\n",
    "score"
   ]
  },
  {
   "cell_type": "markdown",
   "id": "eff65b2d-d549-4365-9cd3-586683aa3363",
   "metadata": {},
   "source": [
    "`-` 원소에 접근 "
   ]
  },
  {
   "cell_type": "code",
   "execution_count": 81,
   "id": "6f5422dd-668d-45b6-ad86-69f02450ad7d",
   "metadata": {},
   "outputs": [
    {
     "data": {
      "text/plain": [
       "49"
      ]
     },
     "execution_count": 81,
     "metadata": {},
     "output_type": "execute_result"
    }
   ],
   "source": [
    "score['guebin']"
   ]
  },
  {
   "cell_type": "markdown",
   "id": "e3642cb8-574f-43ed-b5c9-3d8558af7bef",
   "metadata": {},
   "source": [
    "`-` 추가"
   ]
  },
  {
   "cell_type": "code",
   "execution_count": 82,
   "id": "780778b4-69c6-40ec-b523-4ebf657bce84",
   "metadata": {},
   "outputs": [
    {
     "data": {
      "text/plain": [
       "{'guebin': 49, 'iu': 80, 'hynn': 99}"
      ]
     },
     "execution_count": 82,
     "metadata": {},
     "output_type": "execute_result"
    }
   ],
   "source": [
    "score['hynn'] = 99 # 추가 \n",
    "score "
   ]
  },
  {
   "cell_type": "markdown",
   "id": "35b19b4f-90e5-4809-946b-127b32377e54",
   "metadata": {},
   "source": [
    "`-` 변경 "
   ]
  },
  {
   "cell_type": "code",
   "execution_count": 83,
   "id": "1eb1882b-db48-433d-8978-8c30f3465c3a",
   "metadata": {},
   "outputs": [
    {
     "data": {
      "text/plain": [
       "{'guebin': 49, 'iu': 99, 'hynn': 99}"
      ]
     },
     "execution_count": 83,
     "metadata": {},
     "output_type": "execute_result"
    }
   ],
   "source": [
    "score['iu'] = 99  # 변경 \n",
    "score "
   ]
  },
  {
   "cell_type": "markdown",
   "id": "0f836be2-7cb8-4163-841b-a4f0d5b4cb74",
   "metadata": {},
   "source": [
    "`-` 삭제 "
   ]
  },
  {
   "cell_type": "markdown",
   "id": "11b1fa64-f5c6-4294-a7db-82d1f95520c5",
   "metadata": {},
   "source": [
    "(방법1)"
   ]
  },
  {
   "cell_type": "code",
   "execution_count": 84,
   "id": "4995e70f-5e38-4e72-a8fb-213582884a19",
   "metadata": {},
   "outputs": [
    {
     "data": {
      "text/plain": [
       "{'iu': 80, 'hynn': 99}"
      ]
     },
     "execution_count": 84,
     "metadata": {},
     "output_type": "execute_result"
    }
   ],
   "source": [
    "score={'guebin':49, 'iu':80, 'hynn':99}\n",
    "del score['guebin']  \n",
    "score"
   ]
  },
  {
   "cell_type": "markdown",
   "id": "f5ce9ac0-58af-4d32-ab73-d07e69d8037d",
   "metadata": {},
   "source": [
    "(방법2)"
   ]
  },
  {
   "cell_type": "code",
   "execution_count": 85,
   "id": "902adb7d-37ef-437c-a52a-e732a7c76121",
   "metadata": {},
   "outputs": [
    {
     "data": {
      "text/plain": [
       "49"
      ]
     },
     "execution_count": 85,
     "metadata": {},
     "output_type": "execute_result"
    }
   ],
   "source": [
    "score={'guebin':49, 'iu':80, 'hynn':99} \n",
    "score.pop('guebin')"
   ]
  },
  {
   "cell_type": "code",
   "execution_count": 86,
   "id": "5ddd4589-63ad-4be3-805b-1759a255cb0f",
   "metadata": {},
   "outputs": [
    {
     "data": {
      "text/plain": [
       "{'iu': 80, 'hynn': 99}"
      ]
     },
     "execution_count": 86,
     "metadata": {},
     "output_type": "execute_result"
    }
   ],
   "source": [
    "score"
   ]
  },
  {
   "cell_type": "markdown",
   "id": "4062d0bb-59f7-4682-8dba-3362d8cd5cd3",
   "metadata": {},
   "source": [
    "`-` 참고로 리스트였다면 이러한 삭제작업역시 비효율적이었을 것임 "
   ]
  },
  {
   "cell_type": "code",
   "execution_count": 87,
   "id": "98b531f2-7f4d-4222-ac65-0f8304debe8a",
   "metadata": {},
   "outputs": [
    {
     "data": {
      "text/plain": [
       "[['guebin', 49], ['iu', 80], ['hynn', 99]]"
      ]
     },
     "execution_count": 87,
     "metadata": {},
     "output_type": "execute_result"
    }
   ],
   "source": [
    "score = [['guebin',49],['iu',80],['hynn',99]] \n",
    "score"
   ]
  },
  {
   "cell_type": "code",
   "execution_count": 88,
   "id": "5aa60059-2d3d-4dc4-818b-959bc95e07ba",
   "metadata": {},
   "outputs": [
    {
     "data": {
      "text/plain": [
       "[['iu', 80], ['hynn', 99]]"
      ]
     },
     "execution_count": 88,
     "metadata": {},
     "output_type": "execute_result"
    }
   ],
   "source": [
    "score = [[key,val] for key,val in score if key != 'guebin'] \n",
    "score"
   ]
  },
  {
   "cell_type": "markdown",
   "id": "a56844c9-c6ce-4184-8a6e-367a5070814c",
   "metadata": {},
   "source": [
    "## 연산 "
   ]
  },
  {
   "cell_type": "markdown",
   "id": "d323e284-a8c3-4fec-927d-817680554348",
   "metadata": {},
   "source": [
    "`-` 하나있어요.. "
   ]
  },
  {
   "cell_type": "code",
   "execution_count": 89,
   "id": "4b720ae0-6d2d-4b18-ad23-446a94c1d3d8",
   "metadata": {},
   "outputs": [
    {
     "data": {
      "text/plain": [
       "{'guebin': 49, 'iu': 80}"
      ]
     },
     "execution_count": 89,
     "metadata": {},
     "output_type": "execute_result"
    }
   ],
   "source": [
    "score = {'guebin':49, 'iu':80} \n",
    "score "
   ]
  },
  {
   "cell_type": "code",
   "execution_count": 90,
   "id": "242b7344-8806-488c-9f29-ef674609a7b3",
   "metadata": {},
   "outputs": [
    {
     "data": {
      "text/plain": [
       "True"
      ]
     },
     "execution_count": 90,
     "metadata": {},
     "output_type": "execute_result"
    }
   ],
   "source": [
    "'guebin' in score"
   ]
  },
  {
   "cell_type": "code",
   "execution_count": 91,
   "id": "c1f70e2a-22eb-45f2-abb9-109568f6021a",
   "metadata": {},
   "outputs": [
    {
     "data": {
      "text/plain": [
       "True"
      ]
     },
     "execution_count": 91,
     "metadata": {},
     "output_type": "execute_result"
    }
   ],
   "source": [
    "'iu' in score"
   ]
  },
  {
   "cell_type": "code",
   "execution_count": 92,
   "id": "39c3c2e5-3583-40e1-80dc-9d3da480bed4",
   "metadata": {},
   "outputs": [
    {
     "data": {
      "text/plain": [
       "False"
      ]
     },
     "execution_count": 92,
     "metadata": {},
     "output_type": "execute_result"
    }
   ],
   "source": [
    "'hynn' in score"
   ]
  },
  {
   "cell_type": "markdown",
   "id": "f210a89b-91cf-4a54-beae-5d6c9ce3b235",
   "metadata": {},
   "source": [
    "`-` in은 사실 다른자료형도 가능했음 "
   ]
  },
  {
   "cell_type": "markdown",
   "id": "953fbd73-87fa-49b7-b6a2-c7fb71d72be4",
   "metadata": {},
   "source": [
    "(관찰1)"
   ]
  },
  {
   "cell_type": "code",
   "execution_count": 93,
   "id": "98bf95d6-e5b6-4745-87c5-73093593a97b",
   "metadata": {},
   "outputs": [
    {
     "data": {
      "text/plain": [
       "False"
      ]
     },
     "execution_count": 93,
     "metadata": {},
     "output_type": "execute_result"
    }
   ],
   "source": [
    "'a' in 'guebin' "
   ]
  },
  {
   "cell_type": "code",
   "execution_count": 94,
   "id": "ff7fde97-fc08-40b9-a574-16094e08d569",
   "metadata": {},
   "outputs": [
    {
     "data": {
      "text/plain": [
       "True"
      ]
     },
     "execution_count": 94,
     "metadata": {},
     "output_type": "execute_result"
    }
   ],
   "source": [
    "'b' in 'guebin' "
   ]
  },
  {
   "cell_type": "code",
   "execution_count": 95,
   "id": "279bb460-d1d4-48f5-af67-f2e93d44c599",
   "metadata": {},
   "outputs": [
    {
     "data": {
      "text/plain": [
       "False"
      ]
     },
     "execution_count": 95,
     "metadata": {},
     "output_type": "execute_result"
    }
   ],
   "source": [
    "'c' in 'guebin' "
   ]
  },
  {
   "cell_type": "markdown",
   "id": "f17636b3-a030-4710-bd6f-dc2225fbea1c",
   "metadata": {},
   "source": [
    "(관찰2)"
   ]
  },
  {
   "cell_type": "code",
   "execution_count": 96,
   "id": "64ee3b16-984f-48a7-8877-55c7abe862bd",
   "metadata": {},
   "outputs": [
    {
     "data": {
      "text/plain": [
       "(1, 2, 3)"
      ]
     },
     "execution_count": 96,
     "metadata": {},
     "output_type": "execute_result"
    }
   ],
   "source": [
    "tpl = 1,2,3 \n",
    "tpl"
   ]
  },
  {
   "cell_type": "code",
   "execution_count": 97,
   "id": "dbf9c462-74df-4f9f-b9bb-eee36235567b",
   "metadata": {},
   "outputs": [
    {
     "data": {
      "text/plain": [
       "True"
      ]
     },
     "execution_count": 97,
     "metadata": {},
     "output_type": "execute_result"
    }
   ],
   "source": [
    "1 in tpl"
   ]
  },
  {
   "cell_type": "code",
   "execution_count": 98,
   "id": "824b9f85-8ab1-4fa3-8f41-b6b69bbd536f",
   "metadata": {},
   "outputs": [
    {
     "data": {
      "text/plain": [
       "False"
      ]
     },
     "execution_count": 98,
     "metadata": {},
     "output_type": "execute_result"
    }
   ],
   "source": [
    "4 in tpl"
   ]
  },
  {
   "cell_type": "markdown",
   "id": "d3aec5ee-4746-47da-a181-8f1b7c8add4d",
   "metadata": {},
   "source": [
    "(관찰3)"
   ]
  },
  {
   "cell_type": "code",
   "execution_count": 99,
   "id": "9b933f88-1d7e-4d28-81bd-041fa1bd543d",
   "metadata": {},
   "outputs": [
    {
     "data": {
      "text/plain": [
       "[['guebin', 49], ['iu', 80], ['hynn', 99]]"
      ]
     },
     "execution_count": 99,
     "metadata": {},
     "output_type": "execute_result"
    }
   ],
   "source": [
    "score = [['guebin',49],['iu',80],['hynn',99]] \n",
    "score"
   ]
  },
  {
   "cell_type": "code",
   "execution_count": 100,
   "id": "7759d776-c334-4949-87e4-337b889b297f",
   "metadata": {},
   "outputs": [
    {
     "data": {
      "text/plain": [
       "True"
      ]
     },
     "execution_count": 100,
     "metadata": {},
     "output_type": "execute_result"
    }
   ],
   "source": [
    "['guebin',49] in score "
   ]
  },
  {
   "cell_type": "markdown",
   "id": "fd9542a0-ad23-4140-8570-1e3ae015e173",
   "metadata": {},
   "source": [
    "`-` in연산자가 dict형에 사용되면 key를 기준으로 True, False를 판단한다. "
   ]
  },
  {
   "cell_type": "markdown",
   "id": "7741bf24-070f-4e45-aea5-e5b116da24de",
   "metadata": {},
   "source": [
    "## 딕셔너리 특수기능 "
   ]
  },
  {
   "cell_type": "markdown",
   "id": "6009e074-94cb-4717-b4b8-d31e3cb3b3ec",
   "metadata": {},
   "source": [
    "**(get)**"
   ]
  },
  {
   "cell_type": "code",
   "execution_count": 101,
   "id": "52c9d2db-0b01-4909-b3ed-52d7d414f8d3",
   "metadata": {},
   "outputs": [
    {
     "data": {
      "text/plain": [
       "{'guebin': 49, 'iu': 80}"
      ]
     },
     "execution_count": 101,
     "metadata": {},
     "output_type": "execute_result"
    }
   ],
   "source": [
    "score = {'guebin':49, 'iu':80} \n",
    "score "
   ]
  },
  {
   "cell_type": "code",
   "execution_count": 102,
   "id": "b62c2ecf-6a01-417b-86a1-852dbde62dcd",
   "metadata": {},
   "outputs": [
    {
     "data": {
      "text/plain": [
       "49"
      ]
     },
     "execution_count": 102,
     "metadata": {},
     "output_type": "execute_result"
    }
   ],
   "source": [
    "score.get('guebin') "
   ]
  },
  {
   "cell_type": "markdown",
   "id": "5d322965-05d8-4ca5-81c5-bf6ac8b2f95b",
   "metadata": {},
   "source": [
    "아래와 같은 기능 "
   ]
  },
  {
   "cell_type": "code",
   "execution_count": 103,
   "id": "82f6a470-7702-4646-901b-7da52cf7f85f",
   "metadata": {},
   "outputs": [
    {
     "data": {
      "text/plain": [
       "49"
      ]
     },
     "execution_count": 103,
     "metadata": {},
     "output_type": "execute_result"
    }
   ],
   "source": [
    "score['guebin']"
   ]
  },
  {
   "cell_type": "markdown",
   "id": "1627f8e4-9ef0-432f-a0f2-713296db70b8",
   "metadata": {},
   "source": [
    "미묘한 차이점이 존재함 "
   ]
  },
  {
   "cell_type": "code",
   "execution_count": 104,
   "id": "46720e67-609f-4cbb-ac6e-45b8c90fc0b5",
   "metadata": {},
   "outputs": [
    {
     "ename": "KeyError",
     "evalue": "'hynn'",
     "output_type": "error",
     "traceback": [
      "\u001b[0;31m---------------------------------------------------------------------------\u001b[0m",
      "\u001b[0;31mKeyError\u001b[0m                                  Traceback (most recent call last)",
      "Cell \u001b[0;32mIn[104], line 1\u001b[0m\n\u001b[0;32m----> 1\u001b[0m \u001b[43mscore\u001b[49m\u001b[43m[\u001b[49m\u001b[38;5;124;43m'\u001b[39;49m\u001b[38;5;124;43mhynn\u001b[39;49m\u001b[38;5;124;43m'\u001b[39;49m\u001b[43m]\u001b[49m \u001b[38;5;66;03m# hynn이 없어서 키에러 출력, 그런 key는 없다.. \u001b[39;00m\n",
      "\u001b[0;31mKeyError\u001b[0m: 'hynn'"
     ]
    }
   ],
   "source": [
    "score['hynn'] # hynn이 없어서 키에러 출력, 그런 key는 없다.. "
   ]
  },
  {
   "cell_type": "code",
   "execution_count": 105,
   "id": "3219303b-6400-4765-bbe0-1680f3921a68",
   "metadata": {},
   "outputs": [],
   "source": [
    "score.get('hynn') # hynn이 없으면 아무것도 출력안함 "
   ]
  },
  {
   "cell_type": "markdown",
   "id": "454e9de6-4f41-4085-92cf-66e783bcabc5",
   "metadata": {},
   "source": [
    "**(keys,values,items)**"
   ]
  },
  {
   "cell_type": "markdown",
   "id": "a991cc61-6c36-4114-8ca3-4d6db96cf2a1",
   "metadata": {},
   "source": [
    "`-` .keys()는 딕셔너리의 키를 리턴한다.  "
   ]
  },
  {
   "cell_type": "code",
   "execution_count": 106,
   "id": "0b819e51-fbe7-44b9-a49d-cb8e7c23180f",
   "metadata": {},
   "outputs": [
    {
     "data": {
      "text/plain": [
       "{'guebin': 49, 'iu': 80}"
      ]
     },
     "execution_count": 106,
     "metadata": {},
     "output_type": "execute_result"
    }
   ],
   "source": [
    "score = {'guebin':49, 'iu':80} \n",
    "score "
   ]
  },
  {
   "cell_type": "code",
   "execution_count": 107,
   "id": "2a9cf806-cebd-4701-b443-290f1a74f8da",
   "metadata": {},
   "outputs": [
    {
     "data": {
      "text/plain": [
       "dict_keys(['guebin', 'iu'])"
      ]
     },
     "execution_count": 107,
     "metadata": {},
     "output_type": "execute_result"
    }
   ],
   "source": [
    "_keys=score.keys()\n",
    "_keys"
   ]
  },
  {
   "cell_type": "code",
   "execution_count": 108,
   "id": "dc8a8cd1-a6b8-4d0d-80df-be161d3c1a26",
   "metadata": {},
   "outputs": [
    {
     "data": {
      "text/plain": [
       "dict_keys"
      ]
     },
     "execution_count": 108,
     "metadata": {},
     "output_type": "execute_result"
    }
   ],
   "source": [
    "type(_keys) # 리턴된 자료형은 이상한것임"
   ]
  },
  {
   "cell_type": "code",
   "execution_count": 109,
   "id": "52fe1e5a-fcf3-4229-aea5-16f89fcd50b7",
   "metadata": {},
   "outputs": [
    {
     "data": {
      "text/plain": [
       "['guebin', 'iu']"
      ]
     },
     "execution_count": 109,
     "metadata": {},
     "output_type": "execute_result"
    }
   ],
   "source": [
    "list(_keys) # 아무튼 그 이상한 자료형도 리스트화 가능 "
   ]
  },
  {
   "cell_type": "markdown",
   "id": "86dca278-a791-42bf-8567-a7bf4b3dabdc",
   "metadata": {},
   "source": [
    "`-` .values()는 딕셔너리의 값들을 리턴한다. "
   ]
  },
  {
   "cell_type": "code",
   "execution_count": 110,
   "id": "cabaff38-37d4-43f0-bb11-bb59b92bc400",
   "metadata": {},
   "outputs": [
    {
     "data": {
      "text/plain": [
       "dict_values([49, 80])"
      ]
     },
     "execution_count": 110,
     "metadata": {},
     "output_type": "execute_result"
    }
   ],
   "source": [
    "_values =score.values()\n",
    "_values "
   ]
  },
  {
   "cell_type": "code",
   "execution_count": 111,
   "id": "0a9b8073-8650-43ea-95e1-c59fe0b6971b",
   "metadata": {},
   "outputs": [
    {
     "data": {
      "text/plain": [
       "dict_values"
      ]
     },
     "execution_count": 111,
     "metadata": {},
     "output_type": "execute_result"
    }
   ],
   "source": [
    "type(_values)"
   ]
  },
  {
   "cell_type": "code",
   "execution_count": 112,
   "id": "dd155b50-b4b6-4d33-b32c-471e414955d9",
   "metadata": {},
   "outputs": [
    {
     "data": {
      "text/plain": [
       "[49, 80]"
      ]
     },
     "execution_count": 112,
     "metadata": {},
     "output_type": "execute_result"
    }
   ],
   "source": [
    "list(_values)"
   ]
  },
  {
   "cell_type": "markdown",
   "id": "55ec5837-cd6e-452c-91ef-dcb44c1040f2",
   "metadata": {},
   "source": [
    "`-` .items()는 딕셔너리의 (키,값)을 리턴한다. "
   ]
  },
  {
   "cell_type": "code",
   "execution_count": 113,
   "id": "82fa5bd1-819c-495a-820c-fec15d38da0b",
   "metadata": {},
   "outputs": [
    {
     "data": {
      "text/plain": [
       "dict_items([('guebin', 49), ('iu', 80)])"
      ]
     },
     "execution_count": 113,
     "metadata": {},
     "output_type": "execute_result"
    }
   ],
   "source": [
    "_items = score.items()\n",
    "_items "
   ]
  },
  {
   "cell_type": "code",
   "execution_count": 114,
   "id": "5c305fbd-9cf7-4b99-b5e4-8aad9b152bc7",
   "metadata": {},
   "outputs": [
    {
     "data": {
      "text/plain": [
       "dict_items"
      ]
     },
     "execution_count": 114,
     "metadata": {},
     "output_type": "execute_result"
    }
   ],
   "source": [
    "type(_items)"
   ]
  },
  {
   "cell_type": "code",
   "execution_count": 115,
   "id": "ff507139-8327-4d69-944e-ee54fdeeec43",
   "metadata": {},
   "outputs": [
    {
     "data": {
      "text/plain": [
       "[('guebin', 49), ('iu', 80)]"
      ]
     },
     "execution_count": 115,
     "metadata": {},
     "output_type": "execute_result"
    }
   ],
   "source": [
    "list(_items)"
   ]
  },
  {
   "cell_type": "markdown",
   "id": "b1eb0fb1-59e7-4c88-b156-7bcbc79da930",
   "metadata": {},
   "source": [
    "## for문과 dict ($\\star$)"
   ]
  },
  {
   "cell_type": "markdown",
   "id": "76c6eb94-e356-4c24-b540-4cc3fc25f2ca",
   "metadata": {},
   "source": [
    "(예시1) "
   ]
  },
  {
   "cell_type": "code",
   "execution_count": 116,
   "id": "dbf6ed12-5ff3-4b06-9da6-9bdeccb9ee4f",
   "metadata": {},
   "outputs": [
    {
     "name": "stdout",
     "output_type": "stream",
     "text": [
      "guebin\n",
      "iu\n"
     ]
    }
   ],
   "source": [
    "for i in score.keys():\n",
    "    print(i)"
   ]
  },
  {
   "cell_type": "code",
   "execution_count": 117,
   "id": "758e2e35-4099-4056-84a9-3c28e576b2b6",
   "metadata": {},
   "outputs": [
    {
     "name": "stdout",
     "output_type": "stream",
     "text": [
      "guebin\n",
      "iu\n"
     ]
    }
   ],
   "source": [
    "for i in score:\n",
    "    print(i)"
   ]
  },
  {
   "cell_type": "markdown",
   "id": "0f456374-fecb-45be-af74-78c4930a7407",
   "metadata": {},
   "source": [
    "- 딕셔너리 그자체도 for문에 넣을 수 있다. \n",
    "- i에는 value가 삭제되어 들어간다. (즉 key만)\n",
    "- 결과를 보면 score대신에 score.keys()와 list(score)를 넣었을때와 결과가 같다. "
   ]
  },
  {
   "cell_type": "markdown",
   "id": "abce065d-75fa-4ac8-9fb6-97ce2a1baec2",
   "metadata": {},
   "source": [
    "> Note: list(score) 하면 key만 리턴된다. "
   ]
  },
  {
   "cell_type": "markdown",
   "id": "23b352b5-f7d5-496e-95dd-28e93dc13cac",
   "metadata": {},
   "source": [
    "(예시2)"
   ]
  },
  {
   "cell_type": "code",
   "execution_count": 118,
   "id": "0ee7c025-5172-46d7-aa28-f18ff2b362b5",
   "metadata": {},
   "outputs": [
    {
     "name": "stdout",
     "output_type": "stream",
     "text": [
      "49\n",
      "80\n"
     ]
    }
   ],
   "source": [
    "for i in score.values():\n",
    "    print(i)"
   ]
  },
  {
   "cell_type": "markdown",
   "id": "915a9ff5-29c3-4eab-a057-45f136e55bc1",
   "metadata": {},
   "source": [
    "(예시3)"
   ]
  },
  {
   "cell_type": "code",
   "execution_count": 119,
   "id": "2d2ed2c8-9b29-4814-86aa-b5ee8a341b38",
   "metadata": {},
   "outputs": [
    {
     "name": "stdout",
     "output_type": "stream",
     "text": [
      "('guebin', 49)\n",
      "('iu', 80)\n"
     ]
    }
   ],
   "source": [
    "for k in score.items():\n",
    "    print(k)"
   ]
  },
  {
   "cell_type": "markdown",
   "id": "678334c1-292b-419a-8725-ca42e42112c4",
   "metadata": {},
   "source": [
    "(예시4)"
   ]
  },
  {
   "cell_type": "code",
   "execution_count": 120,
   "id": "a66292c8-bb45-469c-8d93-ef6fd8435a29",
   "metadata": {},
   "outputs": [
    {
     "name": "stdout",
     "output_type": "stream",
     "text": [
      "guebin 49\n",
      "iu 80\n"
     ]
    }
   ],
   "source": [
    "for i,j in score.items():\n",
    "    print(i,j)"
   ]
  },
  {
   "cell_type": "markdown",
   "id": "ac5d642a-7777-4b6f-80d0-a257d80ace1c",
   "metadata": {},
   "source": [
    "(예시5)"
   ]
  },
  {
   "cell_type": "code",
   "execution_count": 121,
   "id": "c76b3474-9360-47f0-94eb-baddaed5735d",
   "metadata": {},
   "outputs": [
    {
     "name": "stdout",
     "output_type": "stream",
     "text": [
      "guebin의 중간고사 점수는 49점 입니다.\n",
      "iu의 중간고사 점수는 80점 입니다.\n"
     ]
    }
   ],
   "source": [
    "for i,j in score.items():\n",
    "    print(i + '의 중간고사 점수는 %s점 입니다.' % j)"
   ]
  },
  {
   "cell_type": "markdown",
   "id": "1d5cf4cc-8308-467d-9d0f-9ec08b67d141",
   "metadata": {},
   "source": [
    "[보충학습] 문자열 새치기 "
   ]
  },
  {
   "cell_type": "code",
   "execution_count": 122,
   "id": "ea128750-70c8-48b2-bdf3-edee86e4d0c3",
   "metadata": {},
   "outputs": [
    {
     "data": {
      "text/plain": [
       "'제 이름은 최규빈입니다'"
      ]
     },
     "execution_count": 122,
     "metadata": {},
     "output_type": "execute_result"
    }
   ],
   "source": [
    "'제 이름은 %s입니다' % '최규빈'"
   ]
  },
  {
   "cell_type": "markdown",
   "id": "b0090685-ce21-4b05-a6d0-9fda1b719eac",
   "metadata": {},
   "source": [
    "- %는 새치기연산자임. %s는 새치기하는 자리라고 생각 "
   ]
  },
  {
   "cell_type": "markdown",
   "id": "bd690f7d-3c33-4ae4-846a-7e13a52faea4",
   "metadata": {},
   "source": [
    "보충학습끝"
   ]
  },
  {
   "cell_type": "markdown",
   "id": "05ec1051-9236-440b-8b0e-3fec09c371be",
   "metadata": {},
   "source": [
    "# 딕셔너리 고급내용 ($\\star$)"
   ]
  },
  {
   "cell_type": "markdown",
   "id": "f134acad-77eb-46b1-a273-62ea1ba56bc3",
   "metadata": {},
   "source": [
    "## 바꿔치기 (1)\n",
    "\n"
   ]
  },
  {
   "cell_type": "markdown",
   "id": "3f7ef384-dc7a-497a-b3da-a5fab4055e72",
   "metadata": {},
   "source": [
    "`-` 예제1"
   ]
  },
  {
   "cell_type": "code",
   "execution_count": 23,
   "id": "4f41d711-812d-4ee9-859f-a3f4a90213d2",
   "metadata": {},
   "outputs": [
    {
     "data": {
      "text/plain": [
       "['a', 'b', 'c', 'd', 'a', 'b', 'c', 'd']"
      ]
     },
     "execution_count": 23,
     "metadata": {},
     "output_type": "execute_result"
    }
   ],
   "source": [
    "lst = list('abcd'*2)\n",
    "lst"
   ]
  },
  {
   "cell_type": "code",
   "execution_count": 24,
   "id": "133ab0ea-e6af-41ae-93f0-605ced8eb5bc",
   "metadata": {},
   "outputs": [
    {
     "data": {
      "text/plain": [
       "{'a': [1, 0, 0, 0], 'b': [0, 1, 0, 0], 'c': [0, 0, 1, 0], 'd': [0, 0, 0, 1]}"
      ]
     },
     "execution_count": 24,
     "metadata": {},
     "output_type": "execute_result"
    }
   ],
   "source": [
    "dct = {'a':[1,0,0,0], 'b':[0,1,0,0], 'c':[0,0,1,0], 'd':[0,0,0,1]}\n",
    "dct"
   ]
  },
  {
   "cell_type": "code",
   "execution_count": 27,
   "id": "220e5f00-4988-41b0-aedb-06692c3a8279",
   "metadata": {},
   "outputs": [
    {
     "data": {
      "text/plain": [
       "[[1, 0, 0, 0],\n",
       " [0, 1, 0, 0],\n",
       " [0, 0, 1, 0],\n",
       " [0, 0, 0, 1],\n",
       " [1, 0, 0, 0],\n",
       " [0, 1, 0, 0],\n",
       " [0, 0, 1, 0],\n",
       " [0, 0, 0, 1]]"
      ]
     },
     "execution_count": 27,
     "metadata": {},
     "output_type": "execute_result"
    }
   ],
   "source": [
    "lst2 = [dct[key] for key in lst]\n",
    "lst2"
   ]
  },
  {
   "cell_type": "markdown",
   "id": "3ef656a9-a89c-48af-83c4-da3065d3c2bd",
   "metadata": {},
   "source": [
    "`-` 예제2: 예제1을 역변환하라. "
   ]
  },
  {
   "cell_type": "markdown",
   "id": "fd881b72-17d7-41af-919a-149fcdb964eb",
   "metadata": {},
   "source": [
    "(풀이1)"
   ]
  },
  {
   "cell_type": "code",
   "execution_count": 26,
   "id": "7257f3e8-6ed0-4841-8774-694f224e88d5",
   "metadata": {},
   "outputs": [
    {
     "data": {
      "text/plain": [
       "['a', 'b', 'c', 'd']"
      ]
     },
     "execution_count": 26,
     "metadata": {},
     "output_type": "execute_result"
    }
   ],
   "source": [
    "[key for key in dct]"
   ]
  },
  {
   "cell_type": "code",
   "execution_count": 30,
   "id": "8faf3f7d-e000-4e1e-90a4-fcf77b4fb948",
   "metadata": {},
   "outputs": [
    {
     "data": {
      "text/plain": [
       "{(1, 0, 0, 0): 'a', (0, 1, 0, 0): 'b', (0, 0, 1, 0): 'c', (0, 0, 0, 1): 'd'}"
      ]
     },
     "execution_count": 30,
     "metadata": {},
     "output_type": "execute_result"
    }
   ],
   "source": [
    "dct2= {tuple(v): k for k, v in dct.items()}\n",
    "dct2"
   ]
  },
  {
   "cell_type": "code",
   "execution_count": 34,
   "id": "64b574a8-8ef7-4f70-b53d-f8ec48bdeb20",
   "metadata": {},
   "outputs": [
    {
     "data": {
      "text/plain": [
       "['a', 'b', 'c', 'd', 'a', 'b', 'c', 'd']"
      ]
     },
     "execution_count": 34,
     "metadata": {},
     "output_type": "execute_result"
    }
   ],
   "source": [
    "[dct2[tuple(key)] for key in lst2]"
   ]
  },
  {
   "cell_type": "markdown",
   "id": "149df8e1-eb3b-4597-9285-8a5d3459da30",
   "metadata": {},
   "source": [
    "(풀이2)"
   ]
  },
  {
   "cell_type": "code",
   "execution_count": 36,
   "id": "db6ceac3-da86-4390-9cf4-8467aeacfc94",
   "metadata": {},
   "outputs": [],
   "source": [
    "lst = list('abcd'*2)\n",
    "dct = {'a':[1,0,0,0], 'b':[0,1,0,0], 'c':[0,0,1,0], 'd':[0,0,0,1]}\n",
    "lst2 = [dct[key] for key in lst]"
   ]
  },
  {
   "cell_type": "code",
   "execution_count": 37,
   "id": "59065970-219f-4be3-9fda-a7182b151c2e",
   "metadata": {},
   "outputs": [
    {
     "data": {
      "text/plain": [
       "[[1, 0, 0, 0],\n",
       " [0, 1, 0, 0],\n",
       " [0, 0, 1, 0],\n",
       " [0, 0, 0, 1],\n",
       " [1, 0, 0, 0],\n",
       " [0, 1, 0, 0],\n",
       " [0, 0, 1, 0],\n",
       " [0, 0, 0, 1]]"
      ]
     },
     "execution_count": 37,
     "metadata": {},
     "output_type": "execute_result"
    }
   ],
   "source": [
    "lst2"
   ]
  },
  {
   "cell_type": "code",
   "execution_count": 58,
   "id": "73f6964a-0991-4d70-af85-e2c5b80ba7ce",
   "metadata": {},
   "outputs": [
    {
     "data": {
      "text/plain": [
       "['a', 'b', 'c', 'd', 'a', 'b', 'c', 'd']"
      ]
     },
     "execution_count": 58,
     "metadata": {},
     "output_type": "execute_result"
    }
   ],
   "source": [
    "[x for l in lst2 for x,y in dct.items() if l==y]"
   ]
  },
  {
   "cell_type": "markdown",
   "id": "bfc0f353-b7d4-4018-9db5-e89b363616be",
   "metadata": {},
   "source": [
    "## 바꿔치기 (2)"
   ]
  },
  {
   "cell_type": "markdown",
   "id": "b8747c20-028a-40a7-988d-133c3a1fd5e8",
   "metadata": {},
   "source": [
    "`-` 예제1: 아래와 같은 리스트를 고려하자. "
   ]
  },
  {
   "cell_type": "code",
   "execution_count": 125,
   "id": "daed14f4-17be-4677-95d2-a3de2349513b",
   "metadata": {},
   "outputs": [],
   "source": [
    "lst = ['딸기','사과','바나나','딸기','사과','오토바이','자동차','버스','기차','오토바이','자동차']"
   ]
  },
  {
   "cell_type": "markdown",
   "id": "d329f123-f40f-4393-8151-876cac05a1cd",
   "metadata": {},
   "source": [
    "다음의 맵핑규칙에 따라서 위의 리스트의 원소를 바꾸어라. "
   ]
  },
  {
   "cell_type": "markdown",
   "id": "e44486e1-f368-456b-8c3b-5e6f50c92c80",
   "metadata": {},
   "source": [
    "|변환전|변환후|\n",
    "|:-:|:-:|\n",
    "|딸기|과일|\n",
    "|사과|과일|\n",
    "|바나나|과일|\n",
    "|오토바이|탈것|\n",
    "|자동차|탈것|\n",
    "|버스|탈것|\n",
    "|기차|탈것|"
   ]
  },
  {
   "cell_type": "markdown",
   "id": "7b8b7cff-d256-4b97-9c98-74940d8ad628",
   "metadata": {},
   "source": [
    "# 집합 기본내용"
   ]
  },
  {
   "cell_type": "markdown",
   "id": "668ed473-c889-4895-9c5b-d009ca538876",
   "metadata": {},
   "source": [
    "## 선언 "
   ]
  },
  {
   "cell_type": "code",
   "execution_count": 130,
   "id": "6c79eb30-5f59-4dd7-ac84-381cb36499c8",
   "metadata": {},
   "outputs": [],
   "source": [
    "a={'notebook','desktop'}"
   ]
  },
  {
   "cell_type": "markdown",
   "id": "e423f0ff-f0e0-4827-8813-376595a92a70",
   "metadata": {},
   "source": [
    "## 원소추출 "
   ]
  },
  {
   "cell_type": "markdown",
   "id": "7fe63404-1dba-42d8-a121-6bc239b5f503",
   "metadata": {},
   "source": [
    "`-` 일단 인덱스로는 못합니다. "
   ]
  },
  {
   "cell_type": "code",
   "execution_count": 132,
   "id": "341bbf81-2f37-4f7c-9ec0-77a632c80ee0",
   "metadata": {},
   "outputs": [
    {
     "ename": "TypeError",
     "evalue": "'set' object is not subscriptable",
     "output_type": "error",
     "traceback": [
      "\u001b[0;31m---------------------------------------------------------------------------\u001b[0m",
      "\u001b[0;31mTypeError\u001b[0m                                 Traceback (most recent call last)",
      "Input \u001b[0;32mIn [132]\u001b[0m, in \u001b[0;36m<cell line: 2>\u001b[0;34m()\u001b[0m\n\u001b[1;32m      1\u001b[0m a\u001b[38;5;241m=\u001b[39m{\u001b[38;5;124m'\u001b[39m\u001b[38;5;124mnotebook\u001b[39m\u001b[38;5;124m'\u001b[39m,\u001b[38;5;124m'\u001b[39m\u001b[38;5;124mdesktop\u001b[39m\u001b[38;5;124m'\u001b[39m}\n\u001b[0;32m----> 2\u001b[0m \u001b[43ma\u001b[49m\u001b[43m[\u001b[49m\u001b[38;5;241;43m0\u001b[39;49m\u001b[43m]\u001b[49m\n",
      "\u001b[0;31mTypeError\u001b[0m: 'set' object is not subscriptable"
     ]
    }
   ],
   "source": [
    "a={'notebook','desktop'}\n",
    "a[0]"
   ]
  },
  {
   "cell_type": "markdown",
   "id": "bb9f41a1-5503-4c9b-bd08-318eba4aad08",
   "metadata": {},
   "source": [
    "`-` 딱히 하는 방법이 없어요.. 그리고 이걸 하는 의미가 없어요.. (원소에 접근해서 뭐하려고??)"
   ]
  },
  {
   "cell_type": "markdown",
   "id": "0086795c-153c-4135-ab8f-93745fc34799",
   "metadata": {},
   "source": [
    "## 원소추가 "
   ]
  },
  {
   "cell_type": "markdown",
   "id": "726dca0b-282b-4894-8b03-521995f464ad",
   "metadata": {},
   "source": [
    "`-` 이건 의미가 있음"
   ]
  },
  {
   "cell_type": "code",
   "execution_count": 143,
   "id": "4529ee41-1a64-469a-b525-4f6b9e6144a1",
   "metadata": {},
   "outputs": [
    {
     "data": {
      "text/plain": [
       "{'desktop', 'notebook'}"
      ]
     },
     "execution_count": 143,
     "metadata": {},
     "output_type": "execute_result"
    }
   ],
   "source": [
    "a={'notebook','desktop'} \n",
    "a"
   ]
  },
  {
   "cell_type": "code",
   "execution_count": 144,
   "id": "c51bf1f9-3fd3-4c77-8932-8f380a0aee78",
   "metadata": {},
   "outputs": [
    {
     "data": {
      "text/plain": [
       "{'desktop', 'ipad', 'notebook'}"
      ]
     },
     "execution_count": 144,
     "metadata": {},
     "output_type": "execute_result"
    }
   ],
   "source": [
    "a.add('ipad')\n",
    "a"
   ]
  },
  {
   "cell_type": "code",
   "execution_count": 145,
   "id": "43a5db75-da82-4f83-8c4e-f53a92a464e4",
   "metadata": {},
   "outputs": [
    {
     "data": {
      "text/plain": [
       "{'desktop', 'ipad', 'notebook'}"
      ]
     },
     "execution_count": 145,
     "metadata": {},
     "output_type": "execute_result"
    }
   ],
   "source": [
    "a.add('notebook') # 이미 원소로 있는건 추가되지 않음. \n",
    "a"
   ]
  },
  {
   "cell_type": "markdown",
   "id": "cc7fae46-58e1-4394-b447-fb454ca574da",
   "metadata": {},
   "source": [
    "## 원소삭제 "
   ]
  },
  {
   "cell_type": "code",
   "execution_count": 147,
   "id": "288dd7f7-11d5-4320-beb1-55595a3e001d",
   "metadata": {},
   "outputs": [
    {
     "data": {
      "text/plain": [
       "{'desktop', 'ipad', 'notebook'}"
      ]
     },
     "execution_count": 147,
     "metadata": {},
     "output_type": "execute_result"
    }
   ],
   "source": [
    "a={'desktop', 'ipad', 'notebook'}\n",
    "a"
   ]
  },
  {
   "cell_type": "code",
   "execution_count": 148,
   "id": "0b7fcdbf-9a89-4a81-a80b-16a209ab7afd",
   "metadata": {},
   "outputs": [],
   "source": [
    "a.remove('notebook')"
   ]
  },
  {
   "cell_type": "code",
   "execution_count": 149,
   "id": "895b750e-3bf0-4e57-8218-39504b27c27b",
   "metadata": {},
   "outputs": [
    {
     "data": {
      "text/plain": [
       "{'desktop', 'ipad'}"
      ]
     },
     "execution_count": 149,
     "metadata": {},
     "output_type": "execute_result"
    }
   ],
   "source": [
    "a"
   ]
  },
  {
   "cell_type": "markdown",
   "id": "b39ad6ec-7e5c-4fa9-b406-e92bfa457092",
   "metadata": {},
   "source": [
    "## 연산 "
   ]
  },
  {
   "cell_type": "markdown",
   "id": "cece3cc7-373a-4bbd-ad9e-8b4a13d30297",
   "metadata": {},
   "source": [
    "`-` in 연산자  "
   ]
  },
  {
   "cell_type": "code",
   "execution_count": 153,
   "id": "319ff380-9d74-40ef-95e8-5833b924df85",
   "metadata": {},
   "outputs": [
    {
     "data": {
      "text/plain": [
       "{'desktop', 'ipad', 'notebook'}"
      ]
     },
     "execution_count": 153,
     "metadata": {},
     "output_type": "execute_result"
    }
   ],
   "source": [
    "a={'desktop', 'ipad', 'notebook'}\n",
    "a"
   ]
  },
  {
   "cell_type": "code",
   "execution_count": 154,
   "id": "0455102c-ec14-46eb-915f-3c6d23eb9e9a",
   "metadata": {},
   "outputs": [
    {
     "data": {
      "text/plain": [
       "True"
      ]
     },
     "execution_count": 154,
     "metadata": {},
     "output_type": "execute_result"
    }
   ],
   "source": [
    "'notebook' in a"
   ]
  },
  {
   "cell_type": "markdown",
   "id": "e6ea0d4f-cb29-4786-a93e-cb002b432259",
   "metadata": {},
   "source": [
    "- 참고로 `in`연산자는 집합에서만 쓰는것은 아님 "
   ]
  },
  {
   "cell_type": "markdown",
   "id": "72882656-31d5-4ae3-ab3d-8921453ae677",
   "metadata": {},
   "source": [
    "`-` 합집합, 교집합, 차집합"
   ]
  },
  {
   "cell_type": "code",
   "execution_count": 160,
   "id": "783bd961-5c27-4648-b6be-84905de60e58",
   "metadata": {},
   "outputs": [],
   "source": [
    "day1 = {'notebook','desktop'}\n",
    "day2 = {'notebook','ipad'}"
   ]
  },
  {
   "cell_type": "code",
   "execution_count": 166,
   "id": "a285021d-7990-45d7-a63f-df768bb82003",
   "metadata": {},
   "outputs": [
    {
     "data": {
      "text/plain": [
       "{'desktop', 'ipad', 'notebook'}"
      ]
     },
     "execution_count": 166,
     "metadata": {},
     "output_type": "execute_result"
    }
   ],
   "source": [
    "day1 | day2 # 합집합"
   ]
  },
  {
   "cell_type": "code",
   "execution_count": 167,
   "id": "08d3c24b-9bb5-449d-9cda-2e2ae81461b7",
   "metadata": {},
   "outputs": [
    {
     "data": {
      "text/plain": [
       "{'notebook'}"
      ]
     },
     "execution_count": 167,
     "metadata": {},
     "output_type": "execute_result"
    }
   ],
   "source": [
    "day1 & day2 # 교집합"
   ]
  },
  {
   "cell_type": "code",
   "execution_count": 168,
   "id": "44a04ada-58c5-450b-b6fa-d213ca14b711",
   "metadata": {},
   "outputs": [
    {
     "data": {
      "text/plain": [
       "{'desktop'}"
      ]
     },
     "execution_count": 168,
     "metadata": {},
     "output_type": "execute_result"
    }
   ],
   "source": [
    "day1 - day2 # 차집합 "
   ]
  },
  {
   "cell_type": "code",
   "execution_count": 169,
   "id": "8c3db12e-300c-42b9-a50d-6b1da0baf5cf",
   "metadata": {},
   "outputs": [
    {
     "data": {
      "text/plain": [
       "{'ipad'}"
      ]
     },
     "execution_count": 169,
     "metadata": {},
     "output_type": "execute_result"
    }
   ],
   "source": [
    "day2 - day1 # 차집합"
   ]
  },
  {
   "cell_type": "markdown",
   "id": "22806c77-dee0-492d-b4f7-852a040127b2",
   "metadata": {},
   "source": [
    "`-` 부분집합 "
   ]
  },
  {
   "cell_type": "code",
   "execution_count": 170,
   "id": "d6d785bd-d264-4d3a-8354-f8709727c51e",
   "metadata": {},
   "outputs": [],
   "source": [
    "day1 = {'notebook', 'desktop'}\n",
    "day2 = day1 | {'ipad'} "
   ]
  },
  {
   "cell_type": "code",
   "execution_count": 176,
   "id": "e6a017f6-3082-4c77-b47e-5868710d6fb4",
   "metadata": {},
   "outputs": [
    {
     "data": {
      "text/plain": [
       "True"
      ]
     },
     "execution_count": 176,
     "metadata": {},
     "output_type": "execute_result"
    }
   ],
   "source": [
    "day1 < day2  # day1는 day2의 부분집합인가? "
   ]
  },
  {
   "cell_type": "code",
   "execution_count": 177,
   "id": "b2017731-7860-4bb6-827c-387758a32aa0",
   "metadata": {},
   "outputs": [
    {
     "data": {
      "text/plain": [
       "False"
      ]
     },
     "execution_count": 177,
     "metadata": {},
     "output_type": "execute_result"
    }
   ],
   "source": [
    "day2 < day1"
   ]
  },
  {
   "cell_type": "markdown",
   "id": "f90e044a-74c4-4626-b78f-3dfaa4f5d8a1",
   "metadata": {},
   "source": [
    "## 메소드 "
   ]
  },
  {
   "cell_type": "markdown",
   "id": "92bcc247-dc63-4bf8-9d65-17dff486ecfb",
   "metadata": {},
   "source": [
    "`-` 합집합 "
   ]
  },
  {
   "cell_type": "code",
   "execution_count": 179,
   "id": "751b8396-5d21-4bd0-885a-bdfe448c92e7",
   "metadata": {},
   "outputs": [],
   "source": [
    "day1 = {'notebook', 'desktop'}\n",
    "day2 = {'notebook','ipad'}"
   ]
  },
  {
   "cell_type": "code",
   "execution_count": 180,
   "id": "7d7d763d-1d8e-4ac3-b47b-7ea017b10170",
   "metadata": {},
   "outputs": [
    {
     "data": {
      "text/plain": [
       "{'desktop', 'ipad', 'notebook'}"
      ]
     },
     "execution_count": 180,
     "metadata": {},
     "output_type": "execute_result"
    }
   ],
   "source": [
    "day1.union(day2)"
   ]
  },
  {
   "cell_type": "markdown",
   "id": "78efe493-e5c5-4a6b-a477-f80b8debd3fb",
   "metadata": {},
   "source": [
    "`-` 나머지 메소드는 스스로 찾아보세요 "
   ]
  },
  {
   "cell_type": "markdown",
   "id": "d137bce5-25c5-4ca0-84b1-892cef1f1b3d",
   "metadata": {},
   "source": [
    "## for문과 set "
   ]
  },
  {
   "cell_type": "code",
   "execution_count": 181,
   "id": "d53c3cdc-7384-4ca1-983c-5604202c47cb",
   "metadata": {},
   "outputs": [],
   "source": [
    "day1 = {'notebook', 'desktop'}\n",
    "day2 = {'notebook','ipad'}"
   ]
  },
  {
   "cell_type": "code",
   "execution_count": 182,
   "id": "09544d78-7666-45f0-a88e-3dc19a65a8c6",
   "metadata": {},
   "outputs": [
    {
     "name": "stdout",
     "output_type": "stream",
     "text": [
      "ipad\n",
      "notebook\n",
      "desktop\n"
     ]
    }
   ],
   "source": [
    "for i in day1|day2: \n",
    "    print(i)"
   ]
  }
 ],
 "metadata": {
  "kernelspec": {
   "display_name": "Python 3",
   "language": "python",
   "name": "python3"
  },
  "language_info": {
   "codemirror_mode": {
    "name": "ipython",
    "version": 3
   },
   "file_extension": ".py",
   "mimetype": "text/x-python",
   "name": "python",
   "nbconvert_exporter": "python",
   "pygments_lexer": "ipython3",
   "version": "3.8.16"
  }
 },
 "nbformat": 4,
 "nbformat_minor": 5
}
