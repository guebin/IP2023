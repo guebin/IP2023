{
 "cells": [
  {
   "cell_type": "raw",
   "id": "38827d2a-29af-43f6-b9b7-165feeff89e1",
   "metadata": {},
   "source": [
    "---\n",
    "title: \"04wk-1: 파이썬의 자료형 (6)\"\n",
    "author: \"최규빈\"\n",
    "date: \"03/27/2023\"\n",
    "---"
   ]
  },
  {
   "cell_type": "markdown",
   "id": "4f9a8855-e369-4691-8902-80f772c87d42",
   "metadata": {},
   "source": [
    "<a href=\"https://colab.research.google.com/github/guebin/PP2023/blob/main/posts/01_PythonBasic/2023-03-27-4wk-1.ipynb\"><img src=\"https://colab.research.google.com/assets/colab-badge.svg\" style=\"text-align: left\"></a>"
   ]
  },
  {
   "cell_type": "markdown",
   "id": "e3ba8620-78a3-4704-a70e-96a09f2bdf16",
   "metadata": {},
   "source": [
    "# 강의영상 \n",
    "\n",
    "> youtube: <https://youtube.com/playlist?list=PLQqh36zP38-yH_F4QH9ldMXyEDA5wWXx_>"
   ]
  },
  {
   "cell_type": "markdown",
   "id": "3658fac5-8fd5-41f9-8dce-f9f6aa403c12",
   "metadata": {},
   "source": [
    "- 강의 마지막에 집합 설명하려다가 다 못했습니다. 집합은 다음시간에 다시 설명하겠습니다. 위 영상에서 집합설명한 부분은 무시하셔도 됩니다. "
   ]
  },
  {
   "cell_type": "markdown",
   "id": "6a8314e5-35f2-4273-8582-da7af86465b5",
   "metadata": {},
   "source": [
    "# 잡기술 (하지만 유용해)"
   ]
  },
  {
   "cell_type": "markdown",
   "id": "b16fe94d-d571-4f61-b1c9-b2b784064c8a",
   "metadata": {},
   "source": [
    "## 인덱싱고급 (스트라이딩) "
   ]
  },
  {
   "cell_type": "markdown",
   "id": "478c2cee-fdf1-423a-8aa9-dde7dabb2fc2",
   "metadata": {},
   "source": [
    "`-` 스트라이딩 [start:end:step] "
   ]
  },
  {
   "cell_type": "code",
   "execution_count": 6,
   "id": "6f66f483-073b-4959-bbee-cae80508032b",
   "metadata": {},
   "outputs": [
    {
     "data": {
      "text/plain": [
       "['a', 'b', 'c', 'd', 'e', 'f', 'g', 'h', 'i', 'j', 'k']"
      ]
     },
     "execution_count": 6,
     "metadata": {},
     "output_type": "execute_result"
    }
   ],
   "source": [
    "lst = list('abcdefghijk')\n",
    "lst"
   ]
  },
  {
   "cell_type": "code",
   "execution_count": 16,
   "id": "31c66313-1071-4c02-97fc-8e16125d4754",
   "metadata": {},
   "outputs": [
    {
     "data": {
      "text/plain": [
       "['a', 'd', 'g']"
      ]
     },
     "execution_count": 16,
     "metadata": {},
     "output_type": "execute_result"
    }
   ],
   "source": [
    "lst[0:9:3]"
   ]
  },
  {
   "cell_type": "markdown",
   "id": "5bd21f3c-c22e-4129-97a7-835952873f1e",
   "metadata": {},
   "source": [
    "`-` 생략"
   ]
  },
  {
   "cell_type": "code",
   "execution_count": 22,
   "id": "1282add6-7f77-4043-8dab-b9fdef1f31d8",
   "metadata": {},
   "outputs": [
    {
     "data": {
      "text/plain": [
       "['a', 'b', 'c', 'd', 'e', 'f', 'g', 'h', 'i']"
      ]
     },
     "execution_count": 22,
     "metadata": {},
     "output_type": "execute_result"
    }
   ],
   "source": [
    "lst[0:9]\n",
    "#lst[0:9:]\n",
    "#lst[0:9:1]"
   ]
  },
  {
   "cell_type": "code",
   "execution_count": 23,
   "id": "00abac6f-5737-42ec-b4cc-8fac1634d17b",
   "metadata": {},
   "outputs": [
    {
     "data": {
      "text/plain": [
       "['a', 'd', 'g', 'j']"
      ]
     },
     "execution_count": 23,
     "metadata": {},
     "output_type": "execute_result"
    }
   ],
   "source": [
    "lst[0::3]"
   ]
  },
  {
   "cell_type": "code",
   "execution_count": 24,
   "id": "932de1be-412c-4593-9395-54882e26de5e",
   "metadata": {},
   "outputs": [
    {
     "data": {
      "text/plain": [
       "['a', 'd', 'g']"
      ]
     },
     "execution_count": 24,
     "metadata": {},
     "output_type": "execute_result"
    }
   ],
   "source": [
    "lst[:8:3]"
   ]
  },
  {
   "cell_type": "markdown",
   "id": "b1932b2d-9be0-4a85-bced-90498f92235d",
   "metadata": {},
   "source": [
    "`-` 예제1: 짝수/홀수 원소 추출 "
   ]
  },
  {
   "cell_type": "markdown",
   "id": "c0253c4f-51f9-44f1-8c87-020b83fd4b19",
   "metadata": {},
   "source": [
    "아래와 같은 문자열이 있다고 하자. "
   ]
  },
  {
   "cell_type": "code",
   "execution_count": 26,
   "id": "e6423d6d-8591-4711-b630-5896f17f551d",
   "metadata": {},
   "outputs": [
    {
     "data": {
      "text/plain": [
       "['a', 'b', 'c', 'd', 'e', 'f', 'g', 'h', 'i', 'j', 'k']"
      ]
     },
     "execution_count": 26,
     "metadata": {},
     "output_type": "execute_result"
    }
   ],
   "source": [
    "lst = list('abcdefghijk')\n",
    "lst"
   ]
  },
  {
   "cell_type": "markdown",
   "id": "51d1c6bd-404b-400a-afb6-89244107215f",
   "metadata": {},
   "source": [
    "`index = 0,2,4, ...` 에 해당하는 원소를 출력하라. "
   ]
  },
  {
   "cell_type": "code",
   "execution_count": 27,
   "id": "a7c02fad-4ebb-41a3-892e-6f1659d4543c",
   "metadata": {},
   "outputs": [
    {
     "data": {
      "text/plain": [
       "['a', 'c', 'e', 'g', 'i', 'k']"
      ]
     },
     "execution_count": 27,
     "metadata": {},
     "output_type": "execute_result"
    }
   ],
   "source": [
    "lst[::2]"
   ]
  },
  {
   "cell_type": "markdown",
   "id": "0841ebcb-135d-4cdf-ad75-21c45dc9c8a4",
   "metadata": {},
   "source": [
    "`index = 1,4,7 ...` 에 해당하는 원소를 출력하라. "
   ]
  },
  {
   "cell_type": "code",
   "execution_count": 28,
   "id": "c39f7a9f-56a8-4c2c-8564-d9ebb532fb80",
   "metadata": {},
   "outputs": [
    {
     "data": {
      "text/plain": [
       "['b', 'e', 'h', 'k']"
      ]
     },
     "execution_count": 28,
     "metadata": {},
     "output_type": "execute_result"
    }
   ],
   "source": [
    "lst[1::3]"
   ]
  },
  {
   "cell_type": "markdown",
   "id": "9e20ee11-682a-4625-9049-1f926d164d6e",
   "metadata": {},
   "source": [
    "`-` 예제2: 세로로.."
   ]
  },
  {
   "cell_type": "markdown",
   "id": "81bbf4f2-f456-4f54-b2cb-118a8d1a885d",
   "metadata": {},
   "source": [
    "---"
   ]
  },
  {
   "cell_type": "markdown",
   "id": "0bc0e616-a789-4155-9f3b-ccf7f3d372aa",
   "metadata": {},
   "source": [
    "(예제2를 위한 예비학습) 문자열에서 `\\n`을 출력하면 출력시 줄바꿈이 일어난다. "
   ]
  },
  {
   "cell_type": "code",
   "execution_count": 31,
   "id": "1b56e06c-3dbe-4e21-853b-030fe70ed4bf",
   "metadata": {},
   "outputs": [
    {
     "name": "stdout",
     "output_type": "stream",
     "text": [
      "1행\n",
      "2행\n",
      "3행\n"
     ]
    }
   ],
   "source": [
    "print('1행\\n2행\\n3행')"
   ]
  },
  {
   "cell_type": "markdown",
   "id": "fe3d0e30-7c52-4a36-9041-43f49f54cf6d",
   "metadata": {},
   "source": [
    "예비학습 끝 "
   ]
  },
  {
   "cell_type": "markdown",
   "id": "05807685-0a48-484d-a755-b9a6c39a98b7",
   "metadata": {},
   "source": [
    "--- "
   ]
  },
  {
   "cell_type": "markdown",
   "id": "e040d485-bf73-4f58-a227-99289b47d43d",
   "metadata": {},
   "source": [
    "아래와 같은 문자열이 있다고 하자. "
   ]
  },
  {
   "cell_type": "code",
   "execution_count": 32,
   "id": "416388ec-d774-4b6a-b691-28c3dd7247db",
   "metadata": {},
   "outputs": [
    {
     "name": "stdout",
     "output_type": "stream",
     "text": [
      "너같이사랑스럽고\n",
      "또예쁘고도멋지고\n",
      "속훤히보이는너알\n",
      "았어그동안고마웠\n",
      "지정말정말사랑해\n"
     ]
    }
   ],
   "source": [
    "txt = '너같이사랑스럽고\\n또예쁘고도멋지고\\n속훤히보이는너알\\n았어그동안고마웠\\n지정말정말사랑해'\n",
    "print(txt)"
   ]
  },
  {
   "cell_type": "markdown",
   "id": "b4db3765-794f-4c95-a478-d7e4e190e130",
   "metadata": {},
   "source": [
    "위 문자열을 세로로 읽는 코드를 작성하라. (9칸씩 점프하면서 읽으면 된다) "
   ]
  },
  {
   "cell_type": "markdown",
   "id": "3c44d671-bf46-4d0e-a3c1-b1666ab64eea",
   "metadata": {},
   "source": [
    "(풀이)"
   ]
  },
  {
   "cell_type": "code",
   "execution_count": 34,
   "id": "42474fec-89ac-4e79-aad6-e080a6b6d92d",
   "metadata": {},
   "outputs": [
    {
     "data": {
      "text/plain": [
       "'너또속았지'"
      ]
     },
     "execution_count": 34,
     "metadata": {},
     "output_type": "execute_result"
    }
   ],
   "source": [
    "txt[::9]"
   ]
  },
  {
   "cell_type": "markdown",
   "id": "daf0d59f-7876-454c-b29b-a10338bc6fe1",
   "metadata": {},
   "source": [
    "`-` step = -1 이면? "
   ]
  },
  {
   "cell_type": "code",
   "execution_count": 37,
   "id": "fe961f89-2f64-41cf-b298-3242580f5f73",
   "metadata": {},
   "outputs": [
    {
     "data": {
      "text/plain": [
       "['a', 'b', 'c', 'd', 'e', 'f', 'g', 'h', 'i', 'j', 'k']"
      ]
     },
     "execution_count": 37,
     "metadata": {},
     "output_type": "execute_result"
    }
   ],
   "source": [
    "lst"
   ]
  },
  {
   "cell_type": "code",
   "execution_count": 39,
   "id": "3a3fbfd8-0c24-4656-966c-62502d264364",
   "metadata": {},
   "outputs": [
    {
     "data": {
      "text/plain": [
       "['k', 'j', 'i', 'h', 'g', 'f', 'e', 'd', 'c', 'b', 'a']"
      ]
     },
     "execution_count": 39,
     "metadata": {},
     "output_type": "execute_result"
    }
   ],
   "source": [
    "lst[::-1]"
   ]
  },
  {
   "cell_type": "markdown",
   "id": "1b9c2716-e143-4a7b-86f2-87fd148d097f",
   "metadata": {},
   "source": [
    "`-` 스트라이딩으로 `step = -1` 옵션 주기 vs 리스트의 `.reverse()` 메소드 이용하기 "
   ]
  },
  {
   "cell_type": "markdown",
   "id": "10d81f82-4c44-4af3-b88c-6086f8d9d171",
   "metadata": {},
   "source": [
    "관찰1: reverse 메소드는 리스트 자체를 변화시킴"
   ]
  },
  {
   "cell_type": "code",
   "execution_count": 42,
   "id": "feeae8ec-3e40-4ee4-82ef-090bd7b680ba",
   "metadata": {},
   "outputs": [
    {
     "data": {
      "text/plain": [
       "['a', 'b', 'c', 'd', 'e', 'f', 'g', 'h']"
      ]
     },
     "execution_count": 42,
     "metadata": {},
     "output_type": "execute_result"
    }
   ],
   "source": [
    "lst = list('abcdefgh')\n",
    "lst"
   ]
  },
  {
   "cell_type": "code",
   "execution_count": 43,
   "id": "1eb17164-63ae-4044-8c29-7b5f9a2c5c25",
   "metadata": {},
   "outputs": [
    {
     "data": {
      "text/plain": [
       "['h', 'g', 'f', 'e', 'd', 'c', 'b', 'a']"
      ]
     },
     "execution_count": 43,
     "metadata": {},
     "output_type": "execute_result"
    }
   ],
   "source": [
    "lst.reverse()  \n",
    "lst"
   ]
  },
  {
   "cell_type": "markdown",
   "id": "93595105-fbe0-4b89-9d07-e6c21d1984d9",
   "metadata": {},
   "source": [
    "관찰2: [::-1]는 리스트는 변화시키지 않음"
   ]
  },
  {
   "cell_type": "code",
   "execution_count": 44,
   "id": "bf2db592-8cbf-443b-92c9-c56ffd250b81",
   "metadata": {},
   "outputs": [
    {
     "data": {
      "text/plain": [
       "['a', 'b', 'c', 'd', 'e', 'f', 'g', 'h']"
      ]
     },
     "execution_count": 44,
     "metadata": {},
     "output_type": "execute_result"
    }
   ],
   "source": [
    "lst = list('abcdefgh')\n",
    "lst"
   ]
  },
  {
   "cell_type": "code",
   "execution_count": 45,
   "id": "ee2994b6-8aca-44aa-bb8f-c6b7798762b4",
   "metadata": {},
   "outputs": [
    {
     "data": {
      "text/plain": [
       "['h', 'g', 'f', 'e', 'd', 'c', 'b', 'a']"
      ]
     },
     "execution_count": 45,
     "metadata": {},
     "output_type": "execute_result"
    }
   ],
   "source": [
    "lst[::-1]"
   ]
  },
  {
   "cell_type": "code",
   "execution_count": 46,
   "id": "50e38e5d-d9ad-4d2a-8feb-524f0e305028",
   "metadata": {},
   "outputs": [
    {
     "data": {
      "text/plain": [
       "['a', 'b', 'c', 'd', 'e', 'f', 'g', 'h']"
      ]
     },
     "execution_count": 46,
     "metadata": {},
     "output_type": "execute_result"
    }
   ],
   "source": [
    "lst"
   ]
  },
  {
   "cell_type": "markdown",
   "id": "9ad754f2-8508-433e-bd2b-6d33d3015dcc",
   "metadata": {},
   "source": [
    "`-` -step은 쓰기 까다롭다. "
   ]
  },
  {
   "cell_type": "markdown",
   "id": "fcafe28d-b499-47a5-86e8-326477bb0dcf",
   "metadata": {},
   "source": [
    "(예제) 처음과 끝을 생략하지 않고 아래와 동일한 효과를 주는 코드를 만들어 보자. "
   ]
  },
  {
   "cell_type": "code",
   "execution_count": 47,
   "id": "1d204c2e-4ffa-459b-86b1-a744d00eb7b3",
   "metadata": {},
   "outputs": [
    {
     "data": {
      "text/plain": [
       "['h', 'g', 'f', 'e', 'd', 'c', 'b', 'a']"
      ]
     },
     "execution_count": 47,
     "metadata": {},
     "output_type": "execute_result"
    }
   ],
   "source": [
    "lst = list('abcdefgh')\n",
    "lst[::-1]"
   ]
  },
  {
   "cell_type": "markdown",
   "id": "e005ff3f-cc1e-4de1-afd5-1b33d7715d17",
   "metadata": {},
   "source": [
    "(풀이)"
   ]
  },
  {
   "cell_type": "markdown",
   "id": "8855b650-3498-4a0d-994b-9589488077ba",
   "metadata": {},
   "source": [
    "결국 lst[?:?:-1]의 꼴에서 적당히 ?의 값을 채우면 된다. --> 어려워"
   ]
  },
  {
   "cell_type": "code",
   "execution_count": 51,
   "id": "e1f61cec-6e26-4ab8-8bba-4c389c3ee6e4",
   "metadata": {},
   "outputs": [
    {
     "data": {
      "text/plain": [
       "['a', 'b', 'c', 'd', 'e', 'f', 'g', 'h']"
      ]
     },
     "execution_count": 51,
     "metadata": {},
     "output_type": "execute_result"
    }
   ],
   "source": [
    "lst"
   ]
  },
  {
   "cell_type": "code",
   "execution_count": 48,
   "id": "3ee6f2e7-2c94-4c00-b1bd-7acec2fb280b",
   "metadata": {},
   "outputs": [
    {
     "data": {
      "text/plain": [
       "['h', 'g', 'f', 'e', 'd', 'c', 'b', 'a']"
      ]
     },
     "execution_count": 48,
     "metadata": {},
     "output_type": "execute_result"
    }
   ],
   "source": [
    "lst[::-1]"
   ]
  },
  {
   "cell_type": "markdown",
   "id": "2974d5a9-78a8-4161-b421-adfa09644129",
   "metadata": {},
   "source": [
    "|None|a|b|c|d|e|f|g|h|None|\n",
    "|:-:|:-:|:-:|:-:|:-:|:-:|:-:|:-:|:-:|:-:|\n",
    "|?|0|1|2|3|4|5|6|7|8|\n",
    "|-9|-8|-7|-6|-5|-4|-3|-2|-1|?|"
   ]
  },
  {
   "cell_type": "code",
   "execution_count": 55,
   "id": "0cf6003a-ba67-43da-b912-2c8fd1cbff10",
   "metadata": {},
   "outputs": [
    {
     "data": {
      "text/plain": [
       "['h', 'g', 'f', 'e', 'd', 'c', 'b', 'a']"
      ]
     },
     "execution_count": 55,
     "metadata": {},
     "output_type": "execute_result"
    }
   ],
   "source": [
    "lst[-1:-9:-1] "
   ]
  },
  {
   "cell_type": "markdown",
   "id": "26c527d4-dab8-40ee-b18b-4bbb226654fc",
   "metadata": {},
   "source": [
    "## 컴프리헨션 고급 (if문이 포함된 컴프리헨션) "
   ]
  },
  {
   "cell_type": "markdown",
   "id": "cd4fc282-ee55-4178-bfe5-88676c40a864",
   "metadata": {},
   "source": [
    "`-` 예제: 제곱수중에서 12로 나누어 떨어지는 수만 원소로 가지는 리스트를 만들고 싶다. \n",
    "\n",
    "- 제곱수: 1,4,9,16,25,36, ... \n",
    "- 12로 나누어 떨어지는 수: 36, ... "
   ]
  },
  {
   "cell_type": "markdown",
   "id": "f5a07ad9-f181-4249-9348-0cbb2193df80",
   "metadata": {},
   "source": [
    "(예비학습1)"
   ]
  },
  {
   "cell_type": "code",
   "execution_count": 56,
   "id": "0cd083fe-695a-46c7-ac09-8cee4ed0d423",
   "metadata": {},
   "outputs": [
    {
     "data": {
      "text/plain": [
       "0"
      ]
     },
     "execution_count": 56,
     "metadata": {},
     "output_type": "execute_result"
    }
   ],
   "source": [
    "12 % 4 # %는 나머지를 계산하는 연산자, 12를 4로 나누면 나머지가 0"
   ]
  },
  {
   "cell_type": "code",
   "execution_count": 58,
   "id": "d20b8285-6f86-4020-a54b-7f6db24af1e4",
   "metadata": {},
   "outputs": [
    {
     "data": {
      "text/plain": [
       "2"
      ]
     },
     "execution_count": 58,
     "metadata": {},
     "output_type": "execute_result"
    }
   ],
   "source": [
    "12 % 5 # %는 나머지를 계산하는 연산자, 12를 5로 나누면 나머지가 2"
   ]
  },
  {
   "cell_type": "markdown",
   "id": "0b8aa0e2-806a-4ac1-b766-8496fb4d0f80",
   "metadata": {},
   "source": [
    "(예비학습2)"
   ]
  },
  {
   "cell_type": "code",
   "execution_count": 59,
   "id": "f8b5b030-e6fe-4508-adc8-fadb7ce51c48",
   "metadata": {},
   "outputs": [],
   "source": [
    "a = 2 ## a에 2를 \"대입\" 하라. "
   ]
  },
  {
   "cell_type": "code",
   "execution_count": 60,
   "id": "02810c1f-709c-4b58-bfcf-8385a46d496a",
   "metadata": {},
   "outputs": [
    {
     "data": {
      "text/plain": [
       "True"
      ]
     },
     "execution_count": 60,
     "metadata": {},
     "output_type": "execute_result"
    }
   ],
   "source": [
    "a == 2 # a에 들어있는 값이 2인지 \"test\"하라."
   ]
  },
  {
   "cell_type": "code",
   "execution_count": 61,
   "id": "17cbabea-e111-4aa7-a2b2-061715ed13ab",
   "metadata": {},
   "outputs": [
    {
     "data": {
      "text/plain": [
       "False"
      ]
     },
     "execution_count": 61,
     "metadata": {},
     "output_type": "execute_result"
    }
   ],
   "source": [
    "a == 3 # a에 들어있는 값이 3인지 \"test\"하라."
   ]
  },
  {
   "cell_type": "markdown",
   "id": "ad56d085-c2d9-4b78-b2e3-855e115019bb",
   "metadata": {},
   "source": [
    "(예비학습3) if문 "
   ]
  },
  {
   "cell_type": "code",
   "execution_count": 66,
   "id": "27e767a0-c4bc-4061-a9a6-aaa06adfac31",
   "metadata": {},
   "outputs": [],
   "source": [
    "a= 3 \n",
    "if a%2 == 0: \n",
    "    a_is='even' ## a%2==0 이 true일 경우만 실행된다. \n",
    "else:\n",
    "    a_is='odd' ## a%2==0 이 false일 경우만 실행된다. "
   ]
  },
  {
   "cell_type": "code",
   "execution_count": 67,
   "id": "1fe6d5d5-7e30-4141-89d5-45be43301bca",
   "metadata": {},
   "outputs": [
    {
     "data": {
      "text/plain": [
       "(3, 'odd')"
      ]
     },
     "execution_count": 67,
     "metadata": {},
     "output_type": "execute_result"
    }
   ],
   "source": [
    "a,a_is"
   ]
  },
  {
   "cell_type": "markdown",
   "id": "444cd68f-f685-4fc6-b0fe-6875d16a1ce7",
   "metadata": {},
   "source": [
    "(풀이1) - 비어있는 리스트를 만들고 $\\to$ for문 + if문 "
   ]
  },
  {
   "cell_type": "code",
   "execution_count": 70,
   "id": "078d5028-cc01-4e40-9b4e-8ccfb4f17690",
   "metadata": {},
   "outputs": [],
   "source": [
    "lst = list()\n",
    "for i in range(1,101): \n",
    "    if i**2 % 12 == 0:\n",
    "        lst.append(i**2)"
   ]
  },
  {
   "cell_type": "code",
   "execution_count": 71,
   "id": "a39a799c-b176-404c-a990-ed86f574649c",
   "metadata": {},
   "outputs": [
    {
     "data": {
      "text/plain": [
       "[36,\n",
       " 144,\n",
       " 324,\n",
       " 576,\n",
       " 900,\n",
       " 1296,\n",
       " 1764,\n",
       " 2304,\n",
       " 2916,\n",
       " 3600,\n",
       " 4356,\n",
       " 5184,\n",
       " 6084,\n",
       " 7056,\n",
       " 8100,\n",
       " 9216]"
      ]
     },
     "execution_count": 71,
     "metadata": {},
     "output_type": "execute_result"
    }
   ],
   "source": [
    "lst"
   ]
  },
  {
   "cell_type": "markdown",
   "id": "f47d0e3b-b72f-48ee-9fb5-078170562c18",
   "metadata": {},
   "source": [
    "(풀이2) - if문이 포함된 리스트컴프리헨션 "
   ]
  },
  {
   "cell_type": "code",
   "execution_count": 73,
   "id": "43e8da70-0080-4772-a943-6dbf37c803ac",
   "metadata": {},
   "outputs": [
    {
     "data": {
      "text/plain": [
       "[36,\n",
       " 144,\n",
       " 324,\n",
       " 576,\n",
       " 900,\n",
       " 1296,\n",
       " 1764,\n",
       " 2304,\n",
       " 2916,\n",
       " 3600,\n",
       " 4356,\n",
       " 5184,\n",
       " 6084,\n",
       " 7056,\n",
       " 8100,\n",
       " 9216]"
      ]
     },
     "execution_count": 73,
     "metadata": {},
     "output_type": "execute_result"
    }
   ],
   "source": [
    "[i**2 for i in range(1,101) if i**2 % 12 == 0]"
   ]
  },
  {
   "cell_type": "markdown",
   "id": "45201528-6616-4bdc-b09c-0198491b651a",
   "metadata": {},
   "source": [
    "## 함수고급 (if문이 포함된 리턴)"
   ]
  },
  {
   "cell_type": "markdown",
   "id": "e672620a-68a4-4ea9-b9c6-cd617d135d8a",
   "metadata": {},
   "source": [
    "`-` 홀수/짝수를 판별하는 함수 만들기 1"
   ]
  },
  {
   "cell_type": "code",
   "execution_count": 74,
   "id": "0aad1117-28b2-4bae-ae22-7871244dd0bb",
   "metadata": {},
   "outputs": [],
   "source": [
    "def test(x): \n",
    "    if x % 2 == 0: \n",
    "        return 'even'\n",
    "    else:\n",
    "        return 'odd'"
   ]
  },
  {
   "cell_type": "code",
   "execution_count": 77,
   "id": "604cef52-01b3-4480-b582-a44a0be391c3",
   "metadata": {},
   "outputs": [
    {
     "data": {
      "text/plain": [
       "'odd'"
      ]
     },
     "execution_count": 77,
     "metadata": {},
     "output_type": "execute_result"
    }
   ],
   "source": [
    "test(5)"
   ]
  },
  {
   "cell_type": "markdown",
   "id": "b592e8df-5f68-4d1d-9755-9ee11657c8fd",
   "metadata": {},
   "source": [
    "(사용) "
   ]
  },
  {
   "cell_type": "code",
   "execution_count": 82,
   "id": "9893a55f-8a8a-49f4-8d74-bba3b00fbe51",
   "metadata": {},
   "outputs": [
    {
     "data": {
      "text/plain": [
       "['odd', 'even', 'odd', 'even', 'odd', 'even', 'odd', 'even', 'odd', 'even']"
      ]
     },
     "execution_count": 82,
     "metadata": {},
     "output_type": "execute_result"
    }
   ],
   "source": [
    "[test(l) for l in list(range(1,11))]"
   ]
  },
  {
   "cell_type": "markdown",
   "id": "21887ba3-1775-45bd-986a-bfe974467431",
   "metadata": {},
   "source": [
    "`-` 홀수/짝수를 판별하는 함수 만들기 2"
   ]
  },
  {
   "cell_type": "code",
   "execution_count": 83,
   "id": "21ce4498-b25a-4c1f-8daa-417e5547bdcf",
   "metadata": {},
   "outputs": [],
   "source": [
    "def test(x):\n",
    "    return 'even' if x % 2 == 0 else 'odd'"
   ]
  },
  {
   "cell_type": "code",
   "execution_count": 85,
   "id": "c4944d4a-fb18-4ecd-a72f-725545b71ad2",
   "metadata": {},
   "outputs": [
    {
     "data": {
      "text/plain": [
       "'even'"
      ]
     },
     "execution_count": 85,
     "metadata": {},
     "output_type": "execute_result"
    }
   ],
   "source": [
    "test(4)"
   ]
  },
  {
   "cell_type": "markdown",
   "id": "a1ea400a-e5fb-45c5-a870-5f20efb4a9d7",
   "metadata": {},
   "source": [
    "(사용)"
   ]
  },
  {
   "cell_type": "code",
   "execution_count": 86,
   "id": "a364a600-4a70-46f3-8361-7251fa5810af",
   "metadata": {},
   "outputs": [
    {
     "data": {
      "text/plain": [
       "['odd', 'even', 'odd', 'even', 'odd', 'even', 'odd', 'even', 'odd', 'even']"
      ]
     },
     "execution_count": 86,
     "metadata": {},
     "output_type": "execute_result"
    }
   ],
   "source": [
    "[test(l) for l in list(range(1,11))]"
   ]
  },
  {
   "cell_type": "markdown",
   "id": "c13010eb-f83f-4fe3-8f1d-d552dbe13225",
   "metadata": {},
   "source": [
    "## len함수 "
   ]
  },
  {
   "cell_type": "markdown",
   "id": "595d7f92-145e-411d-9407-422800216353",
   "metadata": {},
   "source": [
    "`-` 0차원 자료형은 len함수가 동작하지 않음 "
   ]
  },
  {
   "cell_type": "code",
   "execution_count": 87,
   "id": "37dcd50b-dfe8-4e80-803a-d4dc4c7e3a08",
   "metadata": {},
   "outputs": [
    {
     "ename": "TypeError",
     "evalue": "object of type 'int' has no len()",
     "output_type": "error",
     "traceback": [
      "\u001b[0;31m---------------------------------------------------------------------------\u001b[0m",
      "\u001b[0;31mTypeError\u001b[0m                                 Traceback (most recent call last)",
      "Cell \u001b[0;32mIn[87], line 2\u001b[0m\n\u001b[1;32m      1\u001b[0m a\u001b[38;5;241m=\u001b[39m\u001b[38;5;241m1\u001b[39m \n\u001b[0;32m----> 2\u001b[0m \u001b[38;5;28;43mlen\u001b[39;49m\u001b[43m(\u001b[49m\u001b[43ma\u001b[49m\u001b[43m)\u001b[49m\n",
      "\u001b[0;31mTypeError\u001b[0m: object of type 'int' has no len()"
     ]
    }
   ],
   "source": [
    "a=1 \n",
    "len(a)"
   ]
  },
  {
   "cell_type": "code",
   "execution_count": 88,
   "id": "ac8b387e-35ad-4965-bcee-679373d0f2d4",
   "metadata": {},
   "outputs": [
    {
     "ename": "TypeError",
     "evalue": "object of type 'bool' has no len()",
     "output_type": "error",
     "traceback": [
      "\u001b[0;31m---------------------------------------------------------------------------\u001b[0m",
      "\u001b[0;31mTypeError\u001b[0m                                 Traceback (most recent call last)",
      "Cell \u001b[0;32mIn[88], line 2\u001b[0m\n\u001b[1;32m      1\u001b[0m a\u001b[38;5;241m=\u001b[39m\u001b[38;5;28;01mTrue\u001b[39;00m\n\u001b[0;32m----> 2\u001b[0m \u001b[38;5;28;43mlen\u001b[39;49m\u001b[43m(\u001b[49m\u001b[43ma\u001b[49m\u001b[43m)\u001b[49m\n",
      "\u001b[0;31mTypeError\u001b[0m: object of type 'bool' has no len()"
     ]
    }
   ],
   "source": [
    "a=True\n",
    "len(a)"
   ]
  },
  {
   "cell_type": "code",
   "execution_count": 89,
   "id": "f6c9b60f-9031-4b18-b6a0-ff186ee3cb24",
   "metadata": {},
   "outputs": [
    {
     "ename": "TypeError",
     "evalue": "object of type 'float' has no len()",
     "output_type": "error",
     "traceback": [
      "\u001b[0;31m---------------------------------------------------------------------------\u001b[0m",
      "\u001b[0;31mTypeError\u001b[0m                                 Traceback (most recent call last)",
      "Cell \u001b[0;32mIn[89], line 2\u001b[0m\n\u001b[1;32m      1\u001b[0m a\u001b[38;5;241m=\u001b[39m\u001b[38;5;241m3.14\u001b[39m\n\u001b[0;32m----> 2\u001b[0m \u001b[38;5;28;43mlen\u001b[39;49m\u001b[43m(\u001b[49m\u001b[43ma\u001b[49m\u001b[43m)\u001b[49m\n",
      "\u001b[0;31mTypeError\u001b[0m: object of type 'float' has no len()"
     ]
    }
   ],
   "source": [
    "a=3.14\n",
    "len(a)"
   ]
  },
  {
   "cell_type": "markdown",
   "id": "2a27b6b9-3c93-4836-9ef1-46031156fc03",
   "metadata": {},
   "source": [
    "> note: 이것이 어떠한 수학적인 의미를 가지거나 0차원의 본질적진리를 뜻하는 것은 안미. R에서는 1,3.14,TRUE의 길이가 1로 존재함. "
   ]
  },
  {
   "cell_type": "markdown",
   "id": "532d27d2-0c71-4d61-95fb-d5d983118492",
   "metadata": {},
   "source": [
    "`-` 1차원 자료형은 len함수가 동작"
   ]
  },
  {
   "cell_type": "code",
   "execution_count": 90,
   "id": "0cee34f5-d925-4fc2-8ac2-def074888f14",
   "metadata": {},
   "outputs": [
    {
     "data": {
      "text/plain": [
       "6"
      ]
     },
     "execution_count": 90,
     "metadata": {},
     "output_type": "execute_result"
    }
   ],
   "source": [
    "a='guebin'\n",
    "len(a)"
   ]
  },
  {
   "cell_type": "code",
   "execution_count": 91,
   "id": "9b7df96d-d507-4857-a75b-c929eaf1fa2f",
   "metadata": {},
   "outputs": [
    {
     "data": {
      "text/plain": [
       "6"
      ]
     },
     "execution_count": 91,
     "metadata": {},
     "output_type": "execute_result"
    }
   ],
   "source": [
    "a=[1,2,3,4,5,6]\n",
    "len(a)"
   ]
  },
  {
   "cell_type": "code",
   "execution_count": 92,
   "id": "996f033d-4cd6-4b48-b7cd-5cf0ac7d1a29",
   "metadata": {},
   "outputs": [
    {
     "data": {
      "text/plain": [
       "6"
      ]
     },
     "execution_count": 92,
     "metadata": {},
     "output_type": "execute_result"
    }
   ],
   "source": [
    "a=1,2,3,4,5,6 \n",
    "len(a)"
   ]
  },
  {
   "cell_type": "code",
   "execution_count": 93,
   "id": "56b45323-fbe3-47e4-8dea-c6dc37bd4b5e",
   "metadata": {},
   "outputs": [
    {
     "data": {
      "text/plain": [
       "10"
      ]
     },
     "execution_count": 93,
     "metadata": {},
     "output_type": "execute_result"
    }
   ],
   "source": [
    "a=range(10)\n",
    "len(a)"
   ]
  },
  {
   "cell_type": "markdown",
   "id": "696435f8-29ee-4348-9038-fc77e87380e2",
   "metadata": {},
   "source": [
    "`-` 길이가 1인 1차원 자료형과 0차원 자료형은 다른것임 "
   ]
  },
  {
   "cell_type": "code",
   "execution_count": 94,
   "id": "8772a8aa-bd77-4464-9846-c1756ca9e0c1",
   "metadata": {},
   "outputs": [
    {
     "data": {
      "text/plain": [
       "1"
      ]
     },
     "execution_count": 94,
     "metadata": {},
     "output_type": "execute_result"
    }
   ],
   "source": [
    "a='g'\n",
    "len(a)"
   ]
  },
  {
   "cell_type": "code",
   "execution_count": 97,
   "id": "3719ee30-7814-47f8-bcd9-802652652dfc",
   "metadata": {},
   "outputs": [
    {
     "data": {
      "text/plain": [
       "1"
      ]
     },
     "execution_count": 97,
     "metadata": {},
     "output_type": "execute_result"
    }
   ],
   "source": [
    "a=[1]\n",
    "len(a)"
   ]
  },
  {
   "cell_type": "code",
   "execution_count": 98,
   "id": "bf629e62-3004-41dd-899b-950006607904",
   "metadata": {},
   "outputs": [
    {
     "data": {
      "text/plain": [
       "1"
      ]
     },
     "execution_count": 98,
     "metadata": {},
     "output_type": "execute_result"
    }
   ],
   "source": [
    "a=(1,)\n",
    "len(a)"
   ]
  },
  {
   "cell_type": "code",
   "execution_count": 99,
   "id": "50f89f33-3b2e-4396-9134-3cea1338089b",
   "metadata": {},
   "outputs": [
    {
     "data": {
      "text/plain": [
       "1"
      ]
     },
     "execution_count": 99,
     "metadata": {},
     "output_type": "execute_result"
    }
   ],
   "source": [
    "a=range(1)\n",
    "len(a)"
   ]
  },
  {
   "cell_type": "markdown",
   "id": "ad520b3f-9ccf-428b-8cba-e7a8478a9446",
   "metadata": {},
   "source": [
    "`-` 길이가 0인 1차원 자료형도 존재함 "
   ]
  },
  {
   "cell_type": "code",
   "execution_count": 100,
   "id": "0b9bc122-20cb-437f-a1e6-ae10557a0a6e",
   "metadata": {},
   "outputs": [
    {
     "data": {
      "text/plain": [
       "0"
      ]
     },
     "execution_count": 100,
     "metadata": {},
     "output_type": "execute_result"
    }
   ],
   "source": [
    "a=''\n",
    "len(a)"
   ]
  },
  {
   "cell_type": "code",
   "execution_count": 101,
   "id": "f60ad92b-eb2b-4a12-a01a-751f1948c232",
   "metadata": {},
   "outputs": [
    {
     "data": {
      "text/plain": [
       "0"
      ]
     },
     "execution_count": 101,
     "metadata": {},
     "output_type": "execute_result"
    }
   ],
   "source": [
    "a=[]\n",
    "len(a)"
   ]
  },
  {
   "cell_type": "code",
   "execution_count": 55,
   "id": "5fc6844f-2612-42d3-aa74-391725c1348e",
   "metadata": {},
   "outputs": [
    {
     "data": {
      "text/plain": [
       "0"
      ]
     },
     "execution_count": 55,
     "metadata": {},
     "output_type": "execute_result"
    }
   ],
   "source": [
    "a=()\n",
    "len(a)"
   ]
  },
  {
   "cell_type": "code",
   "execution_count": 102,
   "id": "ee8b6fab-29e9-412e-b533-f2e661bc059c",
   "metadata": {},
   "outputs": [
    {
     "data": {
      "text/plain": [
       "0"
      ]
     },
     "execution_count": 102,
     "metadata": {},
     "output_type": "execute_result"
    }
   ],
   "source": [
    "a=range(0)\n",
    "len(a)"
   ]
  },
  {
   "cell_type": "markdown",
   "id": "38732a1b-c18d-4e36-adec-b5e8eff9105d",
   "metadata": {
    "tags": []
   },
   "source": [
    "# 딕셔너리 기본내용"
   ]
  },
  {
   "cell_type": "markdown",
   "id": "c987d28b-78b0-4dee-9794-21546201c67d",
   "metadata": {},
   "source": [
    "## intro: str, list, tuple 정리"
   ]
  },
  {
   "cell_type": "markdown",
   "id": "6d384049-2b26-4d08-95cb-6350125bedbc",
   "metadata": {},
   "source": [
    "`-` str, list, tuple은 모두 시퀀스형이라는 공통점이 있다. $\\to$ 원소의 위치번호로 인덱싱이 가능 "
   ]
  },
  {
   "cell_type": "code",
   "execution_count": 104,
   "id": "c2f2ae0d-0c70-4fee-95da-95270f56dd98",
   "metadata": {},
   "outputs": [],
   "source": [
    "lst = [1,2,3,4]"
   ]
  },
  {
   "cell_type": "code",
   "execution_count": 105,
   "id": "3b18708d-6a10-48a9-9ed7-f800ec986463",
   "metadata": {},
   "outputs": [
    {
     "data": {
      "text/plain": [
       "1"
      ]
     },
     "execution_count": 105,
     "metadata": {},
     "output_type": "execute_result"
    }
   ],
   "source": [
    "lst[0] # 위치번호=0"
   ]
  },
  {
   "cell_type": "code",
   "execution_count": 106,
   "id": "85a5e116-6a92-400e-ac0f-cf3990807ef2",
   "metadata": {},
   "outputs": [
    {
     "data": {
      "text/plain": [
       "4"
      ]
     },
     "execution_count": 106,
     "metadata": {},
     "output_type": "execute_result"
    }
   ],
   "source": [
    "lst[-1] # 위치번호=-1"
   ]
  },
  {
   "cell_type": "markdown",
   "id": "dbf2ad20-992c-4025-942f-573876754f22",
   "metadata": {},
   "source": [
    "`-` str, list, tuple은 차이점도 존재함. 잠깐 정리해보자. "
   ]
  },
  {
   "cell_type": "markdown",
   "id": "41ccf8e0-25c6-4b09-bc66-86734e0c4dc7",
   "metadata": {},
   "source": [
    "***시퀀스형의 카테고리***\n",
    "\n",
    "- 컨테니어형: list, tuple \n",
    "- 균일형: str \n",
    "- 가변형: list \n",
    "- 불변형: tuple, str "
   ]
  },
  {
   "cell_type": "markdown",
   "id": "6b4022b3-b0a3-4dd3-8932-7a7547857eb0",
   "metadata": {},
   "source": [
    "***표로 정리하면***"
   ]
  },
  {
   "cell_type": "markdown",
   "id": "26b07a56-d773-4dd6-ab4d-d5422a1a6471",
   "metadata": {},
   "source": [
    "||컨테니어형|균일형|\n",
    "|:-:|:-:|:-:|\n",
    "|가변형|list|.|\n",
    "|불변형|tuple|str|"
   ]
  },
  {
   "cell_type": "markdown",
   "id": "aaf5e0c0-5ea4-4f71-9bfa-57d893361004",
   "metadata": {},
   "source": [
    "`-` 시퀀스형이 아닌 1차원 자료형도 있을까? 원소의 위치번호로 인덱싱이 불가능한 자료형 "
   ]
  },
  {
   "cell_type": "markdown",
   "id": "ce83150c-7b55-49c0-9394-f377d9df0d31",
   "metadata": {},
   "source": [
    "`-` 왜 이런게 필요할까? \n",
    "\n",
    "- 벡터에서 원소를 뽑는것은 정보의 모임에서 정보를 검색하는 것과 같다. \n",
    "- 정보를 `순서`대로 나열한뒤에 그 `순서`를 이용하여 검색하는 방법은 유용하다. \n",
    "- 하지만 경우에 따라서는 `키워드`를 기억해서 그 `키워드`를 바탕으로 정보에 접근하는 방법이 유용할 수 있다.  "
   ]
  },
  {
   "cell_type": "markdown",
   "id": "a076b270-75f1-4027-b000-a334e5301b52",
   "metadata": {},
   "source": [
    "***카카오톡 대화내용검색*** "
   ]
  },
  {
   "cell_type": "markdown",
   "id": "6cbdb644-b6ab-4ac6-9367-049a465ad3b9",
   "metadata": {},
   "source": [
    "(상황1) `오늘아침`에 와이프가 `뭔가`를 카톡으로 부탁했었음. 그런데 그 `뭔가`가 기억안남. "
   ]
  },
  {
   "cell_type": "markdown",
   "id": "83237972-6bba-4d7d-8483-b5d81b26e11a",
   "metadata": {},
   "source": [
    "(상황2) `개강전에` 동료교수와 함께 `저녁약속`을 카톡으로 잡았었음. 그런데 그게 언제인지 기억안남. "
   ]
  },
  {
   "cell_type": "markdown",
   "id": "6b77aec7-ca97-44c1-91c6-857c24314f35",
   "metadata": {},
   "source": [
    "(상황3) `오늘아침` 동료교수와 함께 `점심약속`을 카톡으로 잡았었음. 그런데 그 장소가 기억나지 않음. "
   ]
  },
  {
   "cell_type": "markdown",
   "id": "bbc817c8-7902-4a6f-a0f3-43c88541e306",
   "metadata": {},
   "source": [
    "`-` 순서대로 정리된 자료를 검색할때는 시퀀스형이 유리하다. 그런데 키워드로 검색하고 싶을 경우는 딕셔너리 타입이 유리하다. "
   ]
  },
  {
   "cell_type": "markdown",
   "id": "0318fe4b-0dea-4391-a0f1-4e62dde76ae2",
   "metadata": {},
   "source": [
    "## 선언 "
   ]
  },
  {
   "cell_type": "markdown",
   "id": "d113f7b0-6908-46fd-a603-7f45971883cc",
   "metadata": {},
   "source": [
    "`-` 방법1: 가장 일반적 "
   ]
  },
  {
   "cell_type": "code",
   "execution_count": 110,
   "id": "07d9e78f-0754-4e47-957c-9589f9b29369",
   "metadata": {},
   "outputs": [
    {
     "data": {
      "text/plain": [
       "{'guebin': 49, 'hanni': 80}"
      ]
     },
     "execution_count": 110,
     "metadata": {},
     "output_type": "execute_result"
    }
   ],
   "source": [
    "dct = {'guebin':49, 'hanni':80}\n",
    "dct"
   ]
  },
  {
   "cell_type": "markdown",
   "id": "ed7bf9ff-461b-498a-8ecd-b85744570297",
   "metadata": {},
   "source": [
    "`-` 방법2: `dict()` 이용 "
   ]
  },
  {
   "cell_type": "code",
   "execution_count": 112,
   "id": "7109fa8e-683a-40f3-92c5-31184ec1e3ff",
   "metadata": {},
   "outputs": [
    {
     "data": {
      "text/plain": [
       "{'guebin': 49, 'hanni': 80}"
      ]
     },
     "execution_count": 112,
     "metadata": {},
     "output_type": "execute_result"
    }
   ],
   "source": [
    "dct = dict(guebin=49, hanni=80)\n",
    "dct"
   ]
  },
  {
   "cell_type": "markdown",
   "id": "a22fd8a7-1a1f-446d-9ca8-2fb2bbb255ce",
   "metadata": {},
   "source": [
    "`-` 방법3: 중첩된 리스트를 만든 뒤에 형태변환 "
   ]
  },
  {
   "cell_type": "code",
   "execution_count": 113,
   "id": "e0a92979-d594-435c-b24c-cfe4f731f47b",
   "metadata": {},
   "outputs": [
    {
     "data": {
      "text/plain": [
       "[['guebin', 49], ['hanni', 80]]"
      ]
     },
     "execution_count": 113,
     "metadata": {},
     "output_type": "execute_result"
    }
   ],
   "source": [
    "_lst = [['guebin',49],['hanni',80]]\n",
    "_lst "
   ]
  },
  {
   "cell_type": "code",
   "execution_count": 114,
   "id": "2fd19f0c-9023-43b7-a2ba-dc743166f82c",
   "metadata": {},
   "outputs": [
    {
     "data": {
      "text/plain": [
       "{'guebin': 49, 'hanni': 80}"
      ]
     },
     "execution_count": 114,
     "metadata": {},
     "output_type": "execute_result"
    }
   ],
   "source": [
    "dict(_lst)"
   ]
  },
  {
   "cell_type": "markdown",
   "id": "7bc20d83-32d5-4772-b44a-3f17195f0db5",
   "metadata": {},
   "source": [
    "`-` 방법4: 중첩된 튜플을 만든 뒤에 형태변환 "
   ]
  },
  {
   "cell_type": "code",
   "execution_count": 115,
   "id": "5115710c-3a13-44e9-9edb-ae7d6c41670c",
   "metadata": {},
   "outputs": [
    {
     "data": {
      "text/plain": [
       "(('guebin', 49), ('hanni', 80))"
      ]
     },
     "execution_count": 115,
     "metadata": {},
     "output_type": "execute_result"
    }
   ],
   "source": [
    "_tpl = ('guebin',49), ('hanni',80)\n",
    "_tpl"
   ]
  },
  {
   "cell_type": "code",
   "execution_count": 116,
   "id": "897f2fa0-6c06-44e1-9ba1-9fce55d8d18e",
   "metadata": {},
   "outputs": [
    {
     "data": {
      "text/plain": [
       "{'guebin': 49, 'hanni': 80}"
      ]
     },
     "execution_count": 116,
     "metadata": {},
     "output_type": "execute_result"
    }
   ],
   "source": [
    "dict(_tpl)"
   ]
  },
  {
   "cell_type": "markdown",
   "id": "34172354-d666-44b3-bb7e-3a3c24cb025c",
   "metadata": {},
   "source": [
    "## 원소추출 "
   ]
  },
  {
   "cell_type": "markdown",
   "id": "410da401-cb9e-427a-950c-f0923c676d00",
   "metadata": {},
   "source": [
    "`-` 원소의 위치로 추출할 수 없고, key로 추출해야 한다. "
   ]
  },
  {
   "cell_type": "code",
   "execution_count": 117,
   "id": "131e9f7d-1431-4124-ba16-b20305e223c2",
   "metadata": {},
   "outputs": [
    {
     "data": {
      "text/plain": [
       "{'guebin': 49, 'hanni': 80}"
      ]
     },
     "execution_count": 117,
     "metadata": {},
     "output_type": "execute_result"
    }
   ],
   "source": [
    "dct = {'guebin':49, 'hanni':80}\n",
    "dct"
   ]
  },
  {
   "cell_type": "markdown",
   "id": "e84b2cec-0cb7-428d-a948-603d1c4dd779",
   "metadata": {},
   "source": [
    "guebin의 점수를 추출하고 싶다면? "
   ]
  },
  {
   "cell_type": "code",
   "execution_count": 119,
   "id": "5b9bfc63-6f94-4d3e-93c7-5d8a92d282e4",
   "metadata": {},
   "outputs": [
    {
     "data": {
      "text/plain": [
       "49"
      ]
     },
     "execution_count": 119,
     "metadata": {},
     "output_type": "execute_result"
    }
   ],
   "source": [
    "dct['guebin']"
   ]
  },
  {
   "cell_type": "markdown",
   "id": "9ebe0aaa-d655-4aab-b158-3fed0770f55d",
   "metadata": {},
   "source": [
    "`-` 만약에 dict가 아니라 list로 정보를 저장했다면? "
   ]
  },
  {
   "cell_type": "markdown",
   "id": "85dc83f4-6d4b-41cf-8a9c-0155ee87337c",
   "metadata": {},
   "source": [
    "(예제) 아래와 같은 리스트에서 guebin의 점수를 추출하고 싶다면? "
   ]
  },
  {
   "cell_type": "code",
   "execution_count": 120,
   "id": "15fd189b-91d6-4ab2-b39d-5abe7465782e",
   "metadata": {},
   "outputs": [
    {
     "data": {
      "text/plain": [
       "[['guebin', 49], ['hanni', 80]]"
      ]
     },
     "execution_count": 120,
     "metadata": {},
     "output_type": "execute_result"
    }
   ],
   "source": [
    "lst=[['guebin',49],['hanni',80]]\n",
    "lst"
   ]
  },
  {
   "cell_type": "markdown",
   "id": "91786f5c-4421-4470-9b54-d245d3eb9b5b",
   "metadata": {},
   "source": [
    "(풀이1)"
   ]
  },
  {
   "cell_type": "code",
   "execution_count": 120,
   "id": "c284eb0b-9bc0-475e-b049-ec328ecf593b",
   "metadata": {},
   "outputs": [
    {
     "data": {
      "text/plain": [
       "49"
      ]
     },
     "execution_count": 120,
     "metadata": {},
     "output_type": "execute_result"
    }
   ],
   "source": [
    "lst[0][1] # guebin의 점수를 출력하란 의미"
   ]
  },
  {
   "cell_type": "markdown",
   "id": "44eb3f00-885a-454c-a642-05cbc9be5e00",
   "metadata": {},
   "source": [
    "(풀이2) -- 진짜 최악"
   ]
  },
  {
   "cell_type": "code",
   "execution_count": 129,
   "id": "f3a65032-c089-4185-8915-ab02ec1665cd",
   "metadata": {},
   "outputs": [
    {
     "data": {
      "text/plain": [
       "[49]"
      ]
     },
     "execution_count": 129,
     "metadata": {},
     "output_type": "execute_result"
    }
   ],
   "source": [
    "[lst[i][1] for i in range(len(lst)) if lst[i][0] == 'guebin']"
   ]
  },
  {
   "cell_type": "markdown",
   "id": "2a5f855d-1157-4b32-81c6-e7ea41495266",
   "metadata": {},
   "source": [
    "(풀이3) -- 덜 최악"
   ]
  },
  {
   "cell_type": "code",
   "execution_count": 132,
   "id": "88ac58df-b9a3-4a6b-b839-1c7d3d432031",
   "metadata": {},
   "outputs": [
    {
     "data": {
      "text/plain": [
       "[49]"
      ]
     },
     "execution_count": 132,
     "metadata": {},
     "output_type": "execute_result"
    }
   ],
   "source": [
    "[score for name,score in lst if name == 'guebin']"
   ]
  },
  {
   "cell_type": "markdown",
   "id": "8cf10b7a-1787-4cf4-9701-7c1f82048564",
   "metadata": {},
   "source": [
    "`-` 'guebin'의 점수를 추출하는 코드 비교 "
   ]
  },
  {
   "cell_type": "code",
   "execution_count": 52,
   "id": "6fe5acce-5559-4283-be9e-13a8b35c10ed",
   "metadata": {},
   "outputs": [
    {
     "data": {
      "text/plain": [
       "49"
      ]
     },
     "execution_count": 52,
     "metadata": {},
     "output_type": "execute_result"
    }
   ],
   "source": [
    "dct['guebin'] # 코드1: 단순하고, 가독성있음"
   ]
  },
  {
   "cell_type": "code",
   "execution_count": 53,
   "id": "dd2e14dc-a65b-470c-bca5-41b3f516d320",
   "metadata": {},
   "outputs": [
    {
     "data": {
      "text/plain": [
       "49"
      ]
     },
     "execution_count": 53,
     "metadata": {},
     "output_type": "execute_result"
    }
   ],
   "source": [
    "lst[0][1] # 코드2: 단순하지만, 가독성이 있는건 아님"
   ]
  },
  {
   "cell_type": "code",
   "execution_count": 54,
   "id": "6bbd2d86-7a92-432c-986a-809511e29cf3",
   "metadata": {},
   "outputs": [
    {
     "data": {
      "text/plain": [
       "[49]"
      ]
     },
     "execution_count": 54,
     "metadata": {},
     "output_type": "execute_result"
    }
   ],
   "source": [
    "[lst[i][1] for i in range(len(lst)) if lst[i][0] =='guebin'] # 코드3: 단순하지도 않고, 가독성도 없음."
   ]
  },
  {
   "cell_type": "code",
   "execution_count": 55,
   "id": "af0118f0-862c-4628-9bbe-f3a51c12aa4b",
   "metadata": {},
   "outputs": [
    {
     "data": {
      "text/plain": [
       "[49]"
      ]
     },
     "execution_count": 55,
     "metadata": {},
     "output_type": "execute_result"
    }
   ],
   "source": [
    "[score for name,score in lst if name=='guebin' ] # 코드4: 단순하지 않지만, 가독성은 있음"
   ]
  },
  {
   "cell_type": "markdown",
   "id": "eb019e94-e12a-4385-9d58-3a0e0eefe363",
   "metadata": {},
   "source": [
    "## 원소추가, 변경, 삭제"
   ]
  },
  {
   "cell_type": "code",
   "execution_count": 133,
   "id": "af6af135-877c-4942-924d-47dd02ded493",
   "metadata": {},
   "outputs": [
    {
     "data": {
      "text/plain": [
       "{'guebin': 49, 'hanni': 80}"
      ]
     },
     "execution_count": 133,
     "metadata": {},
     "output_type": "execute_result"
    }
   ],
   "source": [
    "dct={'guebin':49, 'hanni':80}\n",
    "dct"
   ]
  },
  {
   "cell_type": "markdown",
   "id": "3789eddd-a178-4668-a995-f0e5a87911ea",
   "metadata": {},
   "source": [
    "`-` 원소에 접근: guebin의 점수 출력"
   ]
  },
  {
   "cell_type": "code",
   "execution_count": 134,
   "id": "1daf01b2-a079-4b43-8a9a-97e19d9046c8",
   "metadata": {},
   "outputs": [
    {
     "data": {
      "text/plain": [
       "49"
      ]
     },
     "execution_count": 134,
     "metadata": {},
     "output_type": "execute_result"
    }
   ],
   "source": [
    "dct['guebin']"
   ]
  },
  {
   "cell_type": "markdown",
   "id": "9c20701b-2b9e-4f3d-ac24-cd5c31744d29",
   "metadata": {},
   "source": [
    "`-` 추가: hynn학생의 점수를 추가"
   ]
  },
  {
   "cell_type": "code",
   "execution_count": 136,
   "id": "c9a0132f-4bd6-42a7-8986-c4935f089fd1",
   "metadata": {},
   "outputs": [],
   "source": [
    "dct['hynn'] = 99"
   ]
  },
  {
   "cell_type": "code",
   "execution_count": 137,
   "id": "9e4eb12d-88df-4eeb-8204-bde73d714569",
   "metadata": {},
   "outputs": [
    {
     "data": {
      "text/plain": [
       "{'guebin': 49, 'hanni': 80, 'hynn': 99}"
      ]
     },
     "execution_count": 137,
     "metadata": {},
     "output_type": "execute_result"
    }
   ],
   "source": [
    "dct"
   ]
  },
  {
   "cell_type": "markdown",
   "id": "2f16b1e5-00cd-4621-8bd8-e156c31b3dba",
   "metadata": {},
   "source": [
    "`-` 변경: hanni의 점수를 변경 "
   ]
  },
  {
   "cell_type": "code",
   "execution_count": 139,
   "id": "83ae32a6-ea36-471d-bee0-48aed2437dae",
   "metadata": {},
   "outputs": [],
   "source": [
    "dct['hanni'] = 100 "
   ]
  },
  {
   "cell_type": "code",
   "execution_count": 140,
   "id": "e3bee8c1-c68d-4b9c-91b5-0aad0bded8f4",
   "metadata": {},
   "outputs": [
    {
     "data": {
      "text/plain": [
       "{'guebin': 49, 'hanni': 100, 'hynn': 99}"
      ]
     },
     "execution_count": 140,
     "metadata": {},
     "output_type": "execute_result"
    }
   ],
   "source": [
    "dct"
   ]
  },
  {
   "cell_type": "markdown",
   "id": "7f786f7d-1c42-4b54-90e3-5b82ef4a1858",
   "metadata": {},
   "source": [
    "`-` 삭제 "
   ]
  },
  {
   "cell_type": "markdown",
   "id": "ad00497a-b806-48da-8ecd-d198506efcf5",
   "metadata": {},
   "source": [
    "(방법1)"
   ]
  },
  {
   "cell_type": "code",
   "execution_count": 141,
   "id": "8376b5a5-87f7-4523-bcd1-b9b855d6b244",
   "metadata": {},
   "outputs": [
    {
     "data": {
      "text/plain": [
       "{'hanni': 80, 'hynn': 99}"
      ]
     },
     "execution_count": 141,
     "metadata": {},
     "output_type": "execute_result"
    }
   ],
   "source": [
    "dct={'guebin':49, 'hanni':80, 'hynn':99}\n",
    "del dct['guebin']  \n",
    "dct"
   ]
  },
  {
   "cell_type": "markdown",
   "id": "74c9229c-4e84-4a2b-bc92-57ca7cf51362",
   "metadata": {},
   "source": [
    "(방법2)"
   ]
  },
  {
   "cell_type": "code",
   "execution_count": 142,
   "id": "77ca092f-54a9-4ac5-a767-eb2738cec7bb",
   "metadata": {},
   "outputs": [
    {
     "data": {
      "text/plain": [
       "49"
      ]
     },
     "execution_count": 142,
     "metadata": {},
     "output_type": "execute_result"
    }
   ],
   "source": [
    "dct={'guebin':49, 'hanni':80, 'hynn':99} \n",
    "dct.pop('guebin')"
   ]
  },
  {
   "cell_type": "code",
   "execution_count": 62,
   "id": "2ad146b4-e7b8-4846-820d-bab2ad2881da",
   "metadata": {},
   "outputs": [
    {
     "data": {
      "text/plain": [
       "{'hanni': 80, 'hynn': 99}"
      ]
     },
     "execution_count": 62,
     "metadata": {},
     "output_type": "execute_result"
    }
   ],
   "source": [
    "dct"
   ]
  },
  {
   "cell_type": "markdown",
   "id": "d85215c5-1b34-49ee-8f4c-90e195a2ffcc",
   "metadata": {},
   "source": [
    "`-` 참고로 리스트였다면 이러한 삭제작업역시 비효율적이었을 것임 "
   ]
  },
  {
   "cell_type": "code",
   "execution_count": 143,
   "id": "d37fa8cd-f2dc-4406-a140-be6aa9bb8c16",
   "metadata": {},
   "outputs": [
    {
     "data": {
      "text/plain": [
       "[['guebin', 49], ['hanni', 80], ['hynn', 99]]"
      ]
     },
     "execution_count": 143,
     "metadata": {},
     "output_type": "execute_result"
    }
   ],
   "source": [
    "lst = [['guebin',49],['hanni',80],['hynn',99]] \n",
    "lst"
   ]
  },
  {
   "cell_type": "markdown",
   "id": "384a06b1-4a30-4d09-89a2-7f3d8bcd220a",
   "metadata": {},
   "source": [
    "guebin의 점수를 삭제하려면? "
   ]
  },
  {
   "cell_type": "code",
   "execution_count": 150,
   "id": "1f87b54e-93c8-4584-968f-c173fcfd3efe",
   "metadata": {},
   "outputs": [
    {
     "data": {
      "text/plain": [
       "[['hanni', 80], ['hynn', 99]]"
      ]
     },
     "execution_count": 150,
     "metadata": {},
     "output_type": "execute_result"
    }
   ],
   "source": [
    "[[name,score] for name,score in lst if name != 'guebin']"
   ]
  },
  {
   "cell_type": "markdown",
   "id": "30ceef2e-d98c-4aa1-abe9-24d014b83a68",
   "metadata": {},
   "source": [
    "## 연산 "
   ]
  },
  {
   "cell_type": "markdown",
   "id": "20eefd90-4c99-48aa-97af-c5c82e7a60e5",
   "metadata": {},
   "source": [
    "`-` 하나있어요.. "
   ]
  },
  {
   "cell_type": "code",
   "execution_count": 159,
   "id": "40dd3c89-2631-4cfd-ad6b-a7dd8e3ddd1d",
   "metadata": {},
   "outputs": [
    {
     "data": {
      "text/plain": [
       "{'guebin': 49, 'hanni': 80}"
      ]
     },
     "execution_count": 159,
     "metadata": {},
     "output_type": "execute_result"
    }
   ],
   "source": [
    "dct = {'guebin':49, 'hanni':80} \n",
    "dct"
   ]
  },
  {
   "cell_type": "code",
   "execution_count": 160,
   "id": "98b7ad04-0fea-42ac-9e8e-dda5c7de0b9a",
   "metadata": {},
   "outputs": [
    {
     "data": {
      "text/plain": [
       "True"
      ]
     },
     "execution_count": 160,
     "metadata": {},
     "output_type": "execute_result"
    }
   ],
   "source": [
    "'guebin' in dct"
   ]
  },
  {
   "cell_type": "code",
   "execution_count": 161,
   "id": "b25b9939-3c30-4551-9c01-62caf2a55f40",
   "metadata": {},
   "outputs": [
    {
     "data": {
      "text/plain": [
       "True"
      ]
     },
     "execution_count": 161,
     "metadata": {},
     "output_type": "execute_result"
    }
   ],
   "source": [
    "'hanni' in dct"
   ]
  },
  {
   "cell_type": "code",
   "execution_count": 162,
   "id": "06ce310d-a2cb-43db-80a7-7c65d8ab4e1c",
   "metadata": {},
   "outputs": [
    {
     "data": {
      "text/plain": [
       "False"
      ]
     },
     "execution_count": 162,
     "metadata": {},
     "output_type": "execute_result"
    }
   ],
   "source": [
    "'hynn' in dct"
   ]
  },
  {
   "cell_type": "markdown",
   "id": "8ece0980-bcf8-4bb5-9563-595c14308e3d",
   "metadata": {},
   "source": [
    "`-` in은 사실 다른자료형도 가능했음 "
   ]
  },
  {
   "cell_type": "markdown",
   "id": "0555753b-5a59-4a1e-9f76-5859485629c0",
   "metadata": {},
   "source": [
    "(관찰1)"
   ]
  },
  {
   "cell_type": "code",
   "execution_count": 152,
   "id": "54c67497-9f1e-4a47-bc15-6b4c5c65baf3",
   "metadata": {},
   "outputs": [
    {
     "data": {
      "text/plain": [
       "False"
      ]
     },
     "execution_count": 152,
     "metadata": {},
     "output_type": "execute_result"
    }
   ],
   "source": [
    "'a' in 'guebin' "
   ]
  },
  {
   "cell_type": "code",
   "execution_count": 153,
   "id": "bb4b392b-76a6-4634-95b2-b4426cd17fd5",
   "metadata": {},
   "outputs": [
    {
     "data": {
      "text/plain": [
       "True"
      ]
     },
     "execution_count": 153,
     "metadata": {},
     "output_type": "execute_result"
    }
   ],
   "source": [
    "'b' in 'guebin' "
   ]
  },
  {
   "cell_type": "code",
   "execution_count": 154,
   "id": "6eb404d9-3f83-4974-8c8d-3fd8b5145b0f",
   "metadata": {},
   "outputs": [
    {
     "data": {
      "text/plain": [
       "False"
      ]
     },
     "execution_count": 154,
     "metadata": {},
     "output_type": "execute_result"
    }
   ],
   "source": [
    "'c' in 'guebin' "
   ]
  },
  {
   "cell_type": "markdown",
   "id": "ad7ff5d4-b603-4351-b2a4-63b1c20d525f",
   "metadata": {},
   "source": [
    "(관찰2)"
   ]
  },
  {
   "cell_type": "code",
   "execution_count": 155,
   "id": "ba411feb-79b5-47b1-8af3-00c72415ec82",
   "metadata": {},
   "outputs": [
    {
     "data": {
      "text/plain": [
       "(1, 2, 3)"
      ]
     },
     "execution_count": 155,
     "metadata": {},
     "output_type": "execute_result"
    }
   ],
   "source": [
    "tpl = 1,2,3 \n",
    "tpl"
   ]
  },
  {
   "cell_type": "code",
   "execution_count": 156,
   "id": "0e07af8e-9464-45dd-9b9d-2eda4dae5949",
   "metadata": {},
   "outputs": [
    {
     "data": {
      "text/plain": [
       "True"
      ]
     },
     "execution_count": 156,
     "metadata": {},
     "output_type": "execute_result"
    }
   ],
   "source": [
    "1 in tpl"
   ]
  },
  {
   "cell_type": "code",
   "execution_count": 157,
   "id": "642fbd5e-7902-4802-a02b-381060d67b83",
   "metadata": {},
   "outputs": [
    {
     "data": {
      "text/plain": [
       "False"
      ]
     },
     "execution_count": 157,
     "metadata": {},
     "output_type": "execute_result"
    }
   ],
   "source": [
    "4 in tpl"
   ]
  },
  {
   "cell_type": "markdown",
   "id": "2868f2dc-8a08-4052-b46e-ed42fc320aaa",
   "metadata": {},
   "source": [
    "(관찰3)"
   ]
  },
  {
   "cell_type": "code",
   "execution_count": 135,
   "id": "46b35057-8ffe-4776-8393-9ed436e73fcf",
   "metadata": {},
   "outputs": [
    {
     "data": {
      "text/plain": [
       "[['guebin', 49], ['hanni', 80], ['hynn', 99]]"
      ]
     },
     "execution_count": 135,
     "metadata": {},
     "output_type": "execute_result"
    }
   ],
   "source": [
    "lst = [['guebin',49],['hanni',80],['hynn',99]] \n",
    "lst"
   ]
  },
  {
   "cell_type": "code",
   "execution_count": 158,
   "id": "96841b96-7a45-4c0b-9cd0-979e4537bbe2",
   "metadata": {},
   "outputs": [
    {
     "data": {
      "text/plain": [
       "True"
      ]
     },
     "execution_count": 158,
     "metadata": {},
     "output_type": "execute_result"
    }
   ],
   "source": [
    "['guebin',49] in lst"
   ]
  },
  {
   "cell_type": "markdown",
   "id": "b229c94f-aeba-4075-8745-0d4c553d8c5c",
   "metadata": {},
   "source": [
    "`-` in연산자가 dict형에 사용되면 key를 기준으로 True, False를 판단한다. "
   ]
  },
  {
   "cell_type": "markdown",
   "id": "8001f5df-1885-4f88-aef5-71afeb74fafe",
   "metadata": {},
   "source": [
    "## 딕셔너리 특수기능 "
   ]
  },
  {
   "cell_type": "markdown",
   "id": "efd3a717-0550-49ed-8658-a48eb73a4497",
   "metadata": {},
   "source": [
    "**(pop)**"
   ]
  },
  {
   "cell_type": "code",
   "execution_count": 164,
   "id": "84f168c0-12c7-447e-b723-5960525bb119",
   "metadata": {},
   "outputs": [
    {
     "data": {
      "text/plain": [
       "{'guebin': 49}"
      ]
     },
     "execution_count": 164,
     "metadata": {},
     "output_type": "execute_result"
    }
   ],
   "source": [
    "dct = {'guebin':49, 'hanni':80} \n",
    "dct.pop('hanni')\n",
    "dct"
   ]
  },
  {
   "cell_type": "markdown",
   "id": "b4c04302-3888-4f07-bb4f-f223513055bd",
   "metadata": {},
   "source": [
    "**(get)**"
   ]
  },
  {
   "cell_type": "code",
   "execution_count": 165,
   "id": "2df6b4fb-5f44-481f-a079-abc508e83561",
   "metadata": {},
   "outputs": [
    {
     "data": {
      "text/plain": [
       "{'guebin': 49, 'hanni': 80}"
      ]
     },
     "execution_count": 165,
     "metadata": {},
     "output_type": "execute_result"
    }
   ],
   "source": [
    "dct = {'guebin':49, 'hanni':80} \n",
    "dct"
   ]
  },
  {
   "cell_type": "code",
   "execution_count": 149,
   "id": "9a2455a0-9e75-493e-8f07-167a1069b1a2",
   "metadata": {},
   "outputs": [
    {
     "data": {
      "text/plain": [
       "49"
      ]
     },
     "execution_count": 149,
     "metadata": {},
     "output_type": "execute_result"
    }
   ],
   "source": [
    "dct.get('guebin') "
   ]
  },
  {
   "cell_type": "markdown",
   "id": "66c0e013-08b6-4a04-9593-f99ec1eeafad",
   "metadata": {},
   "source": [
    "아래와 같은 기능 "
   ]
  },
  {
   "cell_type": "code",
   "execution_count": 150,
   "id": "ee6634bd-0e0f-45cd-b619-713261eb6b22",
   "metadata": {},
   "outputs": [
    {
     "data": {
      "text/plain": [
       "49"
      ]
     },
     "execution_count": 150,
     "metadata": {},
     "output_type": "execute_result"
    }
   ],
   "source": [
    "dct['guebin']"
   ]
  },
  {
   "cell_type": "markdown",
   "id": "0c4a6382-de27-4057-9059-cc532b2b1a7b",
   "metadata": {},
   "source": [
    "미묘한 차이점이 존재함 "
   ]
  },
  {
   "cell_type": "code",
   "execution_count": 151,
   "id": "869b9ba1-6513-460f-b015-0e2e8a334f22",
   "metadata": {},
   "outputs": [
    {
     "ename": "KeyError",
     "evalue": "'hynn'",
     "output_type": "error",
     "traceback": [
      "\u001b[0;31m---------------------------------------------------------------------------\u001b[0m",
      "\u001b[0;31mKeyError\u001b[0m                                  Traceback (most recent call last)",
      "Cell \u001b[0;32mIn[151], line 1\u001b[0m\n\u001b[0;32m----> 1\u001b[0m \u001b[43mdct\u001b[49m\u001b[43m[\u001b[49m\u001b[38;5;124;43m'\u001b[39;49m\u001b[38;5;124;43mhynn\u001b[39;49m\u001b[38;5;124;43m'\u001b[39;49m\u001b[43m]\u001b[49m \u001b[38;5;66;03m# hynn이 없어서 키에러 출력, 그런 key는 없다.. \u001b[39;00m\n",
      "\u001b[0;31mKeyError\u001b[0m: 'hynn'"
     ]
    }
   ],
   "source": [
    "dct['hynn'] # hynn이 없어서 키에러 출력, 그런 key는 없다.. "
   ]
  },
  {
   "cell_type": "code",
   "execution_count": 152,
   "id": "a5231d0e-fe8d-4a3e-b6fe-f2a343448805",
   "metadata": {},
   "outputs": [],
   "source": [
    "dct.get('hynn') # hynn이 없으면 아무것도 출력안함 "
   ]
  },
  {
   "cell_type": "markdown",
   "id": "afbd3d78-0a90-46d7-8312-b1481f9eb26c",
   "metadata": {},
   "source": [
    "**(keys,values,items)**"
   ]
  },
  {
   "cell_type": "markdown",
   "id": "c8509ada-e71e-482d-a34a-dd6df8fca597",
   "metadata": {},
   "source": [
    "`-` .keys()는 딕셔너리의 키를 리턴한다.  "
   ]
  },
  {
   "cell_type": "code",
   "execution_count": 166,
   "id": "65e989dc-348f-48f5-9128-2e3d239a2fd7",
   "metadata": {},
   "outputs": [
    {
     "data": {
      "text/plain": [
       "{'guebin': 49, 'hanni': 80}"
      ]
     },
     "execution_count": 166,
     "metadata": {},
     "output_type": "execute_result"
    }
   ],
   "source": [
    "dct = {'guebin':49, 'hanni':80} \n",
    "dct"
   ]
  },
  {
   "cell_type": "code",
   "execution_count": 83,
   "id": "c4395cc1-9ea0-442b-8081-d77e2d58f5b7",
   "metadata": {},
   "outputs": [
    {
     "data": {
      "text/plain": [
       "dict_keys(['guebin', 'hanni'])"
      ]
     },
     "execution_count": 83,
     "metadata": {},
     "output_type": "execute_result"
    }
   ],
   "source": [
    "_keys=dct.keys()\n",
    "_keys"
   ]
  },
  {
   "cell_type": "code",
   "execution_count": 84,
   "id": "d706b078-b696-4a14-8ad9-36fa74f5dee8",
   "metadata": {},
   "outputs": [
    {
     "data": {
      "text/plain": [
       "dict_keys"
      ]
     },
     "execution_count": 84,
     "metadata": {},
     "output_type": "execute_result"
    }
   ],
   "source": [
    "type(_keys) # 리턴된 자료형은 이상한것임"
   ]
  },
  {
   "cell_type": "code",
   "execution_count": 85,
   "id": "af1cd8e2-0cd9-41a3-bce6-82352efd8b16",
   "metadata": {},
   "outputs": [
    {
     "data": {
      "text/plain": [
       "['guebin', 'hanni']"
      ]
     },
     "execution_count": 85,
     "metadata": {},
     "output_type": "execute_result"
    }
   ],
   "source": [
    "list(_keys) # 아무튼 그 이상한 자료형도 리스트화 가능 "
   ]
  },
  {
   "cell_type": "markdown",
   "id": "0028943b-df29-4140-91d3-ba41cbcd218b",
   "metadata": {},
   "source": [
    "`-` .values()는 딕셔너리의 값들을 리턴한다. "
   ]
  },
  {
   "cell_type": "code",
   "execution_count": 86,
   "id": "400031b3-f7a0-4d68-b1e2-54abd1beb79a",
   "metadata": {},
   "outputs": [
    {
     "data": {
      "text/plain": [
       "dict_values([49, 80])"
      ]
     },
     "execution_count": 86,
     "metadata": {},
     "output_type": "execute_result"
    }
   ],
   "source": [
    "_values = dct.values()\n",
    "_values "
   ]
  },
  {
   "cell_type": "code",
   "execution_count": 87,
   "id": "3ab4c07b-ad42-4f1d-ae81-0a7581f3b894",
   "metadata": {},
   "outputs": [
    {
     "data": {
      "text/plain": [
       "dict_values"
      ]
     },
     "execution_count": 87,
     "metadata": {},
     "output_type": "execute_result"
    }
   ],
   "source": [
    "type(_values)"
   ]
  },
  {
   "cell_type": "code",
   "execution_count": 88,
   "id": "2e966ef6-9f69-42db-9c1a-5558be0356f6",
   "metadata": {},
   "outputs": [
    {
     "data": {
      "text/plain": [
       "[49, 80]"
      ]
     },
     "execution_count": 88,
     "metadata": {},
     "output_type": "execute_result"
    }
   ],
   "source": [
    "list(_values)"
   ]
  },
  {
   "cell_type": "markdown",
   "id": "3fb1f0b7-4129-43e9-bdc7-ee1087a74c5d",
   "metadata": {},
   "source": [
    "`-` .items()는 딕셔너리의 (키,값)을 리턴한다. "
   ]
  },
  {
   "cell_type": "code",
   "execution_count": 89,
   "id": "de23d6d7-36cc-4abd-a49d-02fe82c8f8e8",
   "metadata": {},
   "outputs": [
    {
     "data": {
      "text/plain": [
       "dict_items([('guebin', 49), ('hanni', 80)])"
      ]
     },
     "execution_count": 89,
     "metadata": {},
     "output_type": "execute_result"
    }
   ],
   "source": [
    "_items = dct.items()\n",
    "_items "
   ]
  },
  {
   "cell_type": "code",
   "execution_count": 90,
   "id": "807955b6-259c-4874-84e7-c21985306ce8",
   "metadata": {},
   "outputs": [
    {
     "data": {
      "text/plain": [
       "dict_items"
      ]
     },
     "execution_count": 90,
     "metadata": {},
     "output_type": "execute_result"
    }
   ],
   "source": [
    "type(_items)"
   ]
  },
  {
   "cell_type": "code",
   "execution_count": 91,
   "id": "b5627b39-598d-4b8e-b05a-efc667e00298",
   "metadata": {},
   "outputs": [
    {
     "data": {
      "text/plain": [
       "[('guebin', 49), ('hanni', 80)]"
      ]
     },
     "execution_count": 91,
     "metadata": {},
     "output_type": "execute_result"
    }
   ],
   "source": [
    "list(_items)"
   ]
  },
  {
   "cell_type": "markdown",
   "id": "4eaec72d-320f-41cb-9725-75fda5c1899b",
   "metadata": {},
   "source": [
    "## for문과 dict ($\\star$)"
   ]
  },
  {
   "cell_type": "code",
   "execution_count": 179,
   "id": "a86cb042-6a3c-4b4d-a676-33b91191b888",
   "metadata": {},
   "outputs": [
    {
     "data": {
      "text/plain": [
       "{'guebin': 49, 'hanni': 80}"
      ]
     },
     "execution_count": 179,
     "metadata": {},
     "output_type": "execute_result"
    }
   ],
   "source": [
    "dct = {'guebin': 49, 'hanni': 80}\n",
    "dct"
   ]
  },
  {
   "cell_type": "markdown",
   "id": "d47cde22-2d43-44fa-8657-996140bb5054",
   "metadata": {},
   "source": [
    "(예시1) "
   ]
  },
  {
   "cell_type": "code",
   "execution_count": 182,
   "id": "a128e5fa-23f2-466a-9e79-6c1d76c6aa02",
   "metadata": {},
   "outputs": [
    {
     "name": "stdout",
     "output_type": "stream",
     "text": [
      "guebin\n",
      "hanni\n"
     ]
    }
   ],
   "source": [
    "for k in dct.keys():\n",
    "    print(k)"
   ]
  },
  {
   "cell_type": "code",
   "execution_count": 183,
   "id": "43a3e3d6-1227-4c85-81ae-2616fe82c419",
   "metadata": {},
   "outputs": [
    {
     "name": "stdout",
     "output_type": "stream",
     "text": [
      "guebin\n",
      "hanni\n"
     ]
    }
   ],
   "source": [
    "for k in dct:\n",
    "    print(k)"
   ]
  },
  {
   "cell_type": "markdown",
   "id": "ba411859-c007-4d0e-8f6b-06a9852127fd",
   "metadata": {},
   "source": [
    "- 딕셔너리 그자체도 for문에 넣을 수 있다. \n",
    "- k에는 value가 삭제되어 들어간다. (즉 key만)\n",
    "- 결과를 보면 dct 대신에 dct.keys()와 list(dct)를 넣었을때와 결과가 같다. "
   ]
  },
  {
   "cell_type": "markdown",
   "id": "1a8262b2-70fd-43a0-9c15-4b427c564f8b",
   "metadata": {},
   "source": [
    "> Note: list(dct) 하면 key만 리턴된다. "
   ]
  },
  {
   "cell_type": "markdown",
   "id": "659ee3a2-0a96-4aa5-8dfe-07615dc21808",
   "metadata": {},
   "source": [
    "(예시2)"
   ]
  },
  {
   "cell_type": "code",
   "execution_count": 94,
   "id": "53aac535-3ec0-471d-9c81-64e5ad6b2933",
   "metadata": {},
   "outputs": [
    {
     "name": "stdout",
     "output_type": "stream",
     "text": [
      "49\n",
      "80\n"
     ]
    }
   ],
   "source": [
    "for v in dct.values():\n",
    "    print(v)"
   ]
  },
  {
   "cell_type": "markdown",
   "id": "2f852736-867c-4435-bffa-4d3402edf65c",
   "metadata": {},
   "source": [
    "(예시3)"
   ]
  },
  {
   "cell_type": "code",
   "execution_count": 187,
   "id": "2f215e97-3349-4942-9b1c-09cc1d01fd2f",
   "metadata": {},
   "outputs": [
    {
     "name": "stdout",
     "output_type": "stream",
     "text": [
      "('guebin', 49)\n",
      "('hanni', 80)\n"
     ]
    }
   ],
   "source": [
    "for i in dct.items():\n",
    "    print(i)"
   ]
  },
  {
   "cell_type": "markdown",
   "id": "bbd2fa85-d690-4a6c-8824-c53fb7c95426",
   "metadata": {},
   "source": [
    "(예시4)"
   ]
  },
  {
   "cell_type": "code",
   "execution_count": 193,
   "id": "6295eeda-c51d-4b07-af6f-38d03aed7ec4",
   "metadata": {},
   "outputs": [
    {
     "name": "stdout",
     "output_type": "stream",
     "text": [
      "guebin 49\n",
      "hanni 80\n"
     ]
    }
   ],
   "source": [
    "for k,v in dct.items():\n",
    "    print(k,v)"
   ]
  },
  {
   "cell_type": "markdown",
   "id": "765a63eb-6e3b-4795-80fa-058ecdbe0085",
   "metadata": {},
   "source": [
    "(예시5) -- {}의 중간고사 점수는 {}점 입니다."
   ]
  },
  {
   "cell_type": "code",
   "execution_count": 199,
   "id": "a106eb5c-e64b-477d-b18b-84d7c0dbc6a0",
   "metadata": {},
   "outputs": [
    {
     "name": "stdout",
     "output_type": "stream",
     "text": [
      "guebin의 중간고사 점수는 49점 입니다.\n",
      "hanni의 중간고사 점수는 80점 입니다.\n"
     ]
    }
   ],
   "source": [
    "for name,score in dct.items():\n",
    "    print('{}의 중간고사 점수는 {}점 입니다.'.format(name,score))"
   ]
  },
  {
   "cell_type": "markdown",
   "id": "815825b3-8387-424e-8aa7-3511e0e1a511",
   "metadata": {},
   "source": [
    "# 딕셔너리 고급내용 (1) ($\\star$)"
   ]
  },
  {
   "cell_type": "markdown",
   "id": "bf2c7f0f-183d-4121-a674-b19f20c280ba",
   "metadata": {},
   "source": [
    "## dict에서 key혹은 value만 뽑아내기 "
   ]
  },
  {
   "cell_type": "markdown",
   "id": "a70fed54-3255-4c50-8be2-909f98fd7628",
   "metadata": {},
   "source": [
    "`-` 예제: 아래의 dict에서 key만 뽑아내고 싶다. "
   ]
  },
  {
   "cell_type": "code",
   "execution_count": 98,
   "id": "94df70b3-4777-48bf-80c6-2ef9633d8d2d",
   "metadata": {},
   "outputs": [],
   "source": [
    "dct = {'guebin':49, 'hanni':80} "
   ]
  },
  {
   "cell_type": "markdown",
   "id": "45cfe085-edea-4979-bed3-c0d9a8592090",
   "metadata": {},
   "source": [
    "(풀이1)"
   ]
  },
  {
   "cell_type": "code",
   "execution_count": 99,
   "id": "d416cc5a-ca74-46a4-89b8-e3fefbdfa986",
   "metadata": {},
   "outputs": [
    {
     "data": {
      "text/plain": [
       "['guebin', 'hanni']"
      ]
     },
     "execution_count": 99,
     "metadata": {},
     "output_type": "execute_result"
    }
   ],
   "source": [
    "list(dct)"
   ]
  },
  {
   "cell_type": "markdown",
   "id": "8ecf6e6d-0d2d-4557-82bd-35eb49702f56",
   "metadata": {},
   "source": [
    "(풀이2)"
   ]
  },
  {
   "cell_type": "code",
   "execution_count": 100,
   "id": "fbf8bb94-37c8-4697-8b0c-2a4e313a8c8f",
   "metadata": {},
   "outputs": [
    {
     "data": {
      "text/plain": [
       "['guebin', 'hanni']"
      ]
     },
     "execution_count": 100,
     "metadata": {},
     "output_type": "execute_result"
    }
   ],
   "source": [
    "list(dct.keys())"
   ]
  },
  {
   "cell_type": "markdown",
   "id": "26f37123-12c4-4fd8-a193-4387e4cc5218",
   "metadata": {},
   "source": [
    "(풀이3)"
   ]
  },
  {
   "cell_type": "code",
   "execution_count": 101,
   "id": "f30e0c2d-c81f-4340-8c28-0ce2da653f95",
   "metadata": {},
   "outputs": [
    {
     "data": {
      "text/plain": [
       "['guebin', 'hanni']"
      ]
     },
     "execution_count": 101,
     "metadata": {},
     "output_type": "execute_result"
    }
   ],
   "source": [
    "[k for k in dct]"
   ]
  },
  {
   "cell_type": "markdown",
   "id": "7f52277c-a739-45b3-8cb4-39dd456f9521",
   "metadata": {},
   "source": [
    "(풀이4)"
   ]
  },
  {
   "cell_type": "code",
   "execution_count": 102,
   "id": "cce2b078-5b12-4ede-82e2-c2987b79a6c0",
   "metadata": {},
   "outputs": [
    {
     "data": {
      "text/plain": [
       "['guebin', 'hanni']"
      ]
     },
     "execution_count": 102,
     "metadata": {},
     "output_type": "execute_result"
    }
   ],
   "source": [
    "[k for k,v in dct.items()]"
   ]
  },
  {
   "cell_type": "markdown",
   "id": "ebc5f04f-fc54-4c20-ba0b-fb76ef160c03",
   "metadata": {},
   "source": [
    "`-` 예제: 아래의 dict에서 value만 뽑아내고 싶다. "
   ]
  },
  {
   "cell_type": "code",
   "execution_count": 103,
   "id": "3d014038-46d1-4d0c-b2e9-0b556fcaaa57",
   "metadata": {},
   "outputs": [],
   "source": [
    "dct = {'guebin':49, 'hanni':80} "
   ]
  },
  {
   "cell_type": "markdown",
   "id": "055f57d7-ec54-4c3b-9b43-ac8deba6882b",
   "metadata": {},
   "source": [
    "(풀이1)"
   ]
  },
  {
   "cell_type": "code",
   "execution_count": 104,
   "id": "b643d03f-fbdd-45e1-808b-2012b94c3706",
   "metadata": {},
   "outputs": [
    {
     "data": {
      "text/plain": [
       "[49, 80]"
      ]
     },
     "execution_count": 104,
     "metadata": {},
     "output_type": "execute_result"
    }
   ],
   "source": [
    "list(dct.values())"
   ]
  },
  {
   "cell_type": "markdown",
   "id": "5835bcce-d5e3-4a4f-9e87-c2c26b0c254d",
   "metadata": {},
   "source": [
    "(풀이2)"
   ]
  },
  {
   "cell_type": "code",
   "execution_count": 105,
   "id": "6667a77c-da81-4474-9871-d1abfe96c918",
   "metadata": {},
   "outputs": [
    {
     "data": {
      "text/plain": [
       "[49, 80]"
      ]
     },
     "execution_count": 105,
     "metadata": {},
     "output_type": "execute_result"
    }
   ],
   "source": [
    "[dct[k] for k in dct]"
   ]
  },
  {
   "cell_type": "markdown",
   "id": "d7dcb550-0603-4a79-ae88-6a888965cb57",
   "metadata": {},
   "source": [
    "(풀이3)"
   ]
  },
  {
   "cell_type": "code",
   "execution_count": 106,
   "id": "93a8caa0-8330-4add-83bf-08cde4b9c196",
   "metadata": {},
   "outputs": [
    {
     "data": {
      "text/plain": [
       "[49, 80]"
      ]
     },
     "execution_count": 106,
     "metadata": {},
     "output_type": "execute_result"
    }
   ],
   "source": [
    "[v for v in dct.values()]"
   ]
  },
  {
   "cell_type": "markdown",
   "id": "17f4059f-2141-4235-8b8c-d355d09dfe75",
   "metadata": {},
   "source": [
    "(풀이4)"
   ]
  },
  {
   "cell_type": "code",
   "execution_count": 107,
   "id": "b4e85a31-ee2c-42e4-8c8e-7792289ee086",
   "metadata": {},
   "outputs": [
    {
     "data": {
      "text/plain": [
       "[49, 80]"
      ]
     },
     "execution_count": 107,
     "metadata": {},
     "output_type": "execute_result"
    }
   ],
   "source": [
    "[v for k,v in dct.items()]"
   ]
  },
  {
   "cell_type": "markdown",
   "id": "a017773f-c81c-4da4-8d11-be44dd2511b3",
   "metadata": {},
   "source": [
    "## 바꿔치기 (1)\n",
    "\n"
   ]
  },
  {
   "cell_type": "markdown",
   "id": "0d461b43-198c-4f76-8ff9-1d03a1e24521",
   "metadata": {},
   "source": [
    "`-` 예제1: 아래와 같은 리스트가 있다고 하자. "
   ]
  },
  {
   "cell_type": "code",
   "execution_count": 163,
   "id": "894332f3-262b-41d2-8860-df41e91190a0",
   "metadata": {},
   "outputs": [
    {
     "data": {
      "text/plain": [
       "['a', 'b', 'c', 'd', 'a', 'b', 'c', 'd']"
      ]
     },
     "execution_count": 163,
     "metadata": {},
     "output_type": "execute_result"
    }
   ],
   "source": [
    "lst = list('abcd'*2)\n",
    "lst"
   ]
  },
  {
   "cell_type": "markdown",
   "id": "57533750-4239-47cb-981c-0c349fba7bb4",
   "metadata": {},
   "source": [
    "아래의 규칙에 의하여 lst의 각 원소의 값을 바꾸고 싶다고 하자. 이를 구현하는 코드를 작성하라. "
   ]
  },
  {
   "cell_type": "markdown",
   "id": "f54a083a-9204-4e9b-995b-627483eacf0c",
   "metadata": {},
   "source": [
    "|변환전|변환후|\n",
    "|:-:|:-:|\n",
    "|'a'|[1,0,0,0]|\n",
    "|'b'|[0,1,0,0]|\n",
    "|'c'|[0,0,1,0]|\n",
    "|'d'|[0,0,0,1]|"
   ]
  },
  {
   "cell_type": "markdown",
   "id": "cf4e2e08-f4b5-41ab-9d7d-100973107fc7",
   "metadata": {},
   "source": [
    "hint: 아래의 dct를 이용할 것 "
   ]
  },
  {
   "cell_type": "code",
   "execution_count": 214,
   "id": "98123886-7c0b-4be7-a90b-52e052c4ac64",
   "metadata": {},
   "outputs": [
    {
     "data": {
      "text/plain": [
       "['a', 'b', 'c', 'd', 'a', 'b', 'c', 'd']"
      ]
     },
     "execution_count": 214,
     "metadata": {},
     "output_type": "execute_result"
    }
   ],
   "source": [
    "lst = list('abcd'*2)\n",
    "lst"
   ]
  },
  {
   "cell_type": "code",
   "execution_count": 215,
   "id": "2440de70-eb3d-459e-aeb8-fa0489f623e6",
   "metadata": {},
   "outputs": [
    {
     "data": {
      "text/plain": [
       "{'a': [1, 0, 0, 0], 'b': [0, 1, 0, 0], 'c': [0, 0, 1, 0], 'd': [0, 0, 0, 1]}"
      ]
     },
     "execution_count": 215,
     "metadata": {},
     "output_type": "execute_result"
    }
   ],
   "source": [
    "dct = {'a':[1,0,0,0], 'b':[0,1,0,0], 'c':[0,0,1,0], 'd':[0,0,0,1]}\n",
    "dct"
   ]
  },
  {
   "cell_type": "markdown",
   "id": "9acad4ad-3c8f-4484-ac28-8f9e5862829f",
   "metadata": {},
   "source": [
    "(풀이)"
   ]
  },
  {
   "cell_type": "code",
   "execution_count": 224,
   "id": "210013f7-3517-4a5b-aa3c-ad558073db30",
   "metadata": {},
   "outputs": [
    {
     "data": {
      "text/plain": [
       "[[1, 0, 0, 0],\n",
       " [0, 1, 0, 0],\n",
       " [0, 0, 1, 0],\n",
       " [0, 0, 0, 1],\n",
       " [1, 0, 0, 0],\n",
       " [0, 1, 0, 0],\n",
       " [0, 0, 1, 0],\n",
       " [0, 0, 0, 1]]"
      ]
     },
     "execution_count": 224,
     "metadata": {},
     "output_type": "execute_result"
    }
   ],
   "source": [
    "[dct[x] for x in lst]"
   ]
  },
  {
   "cell_type": "markdown",
   "id": "fbde4dbe-e906-46c4-a2d7-55e2d569e06a",
   "metadata": {},
   "source": [
    "`-` 예제2: 예제1을 역변환하라. "
   ]
  },
  {
   "cell_type": "code",
   "execution_count": 225,
   "id": "c2aba97d-391a-41f0-a519-9f97c9f0934a",
   "metadata": {},
   "outputs": [],
   "source": [
    "dct = {'a':[1,0,0,0], 'b':[0,1,0,0], 'c':[0,0,1,0], 'd':[0,0,0,1]}"
   ]
  },
  {
   "cell_type": "code",
   "execution_count": 226,
   "id": "6f4fabcd-778d-4ad4-9899-f6124dca300c",
   "metadata": {},
   "outputs": [
    {
     "data": {
      "text/plain": [
       "[[1, 0, 0, 0],\n",
       " [0, 1, 0, 0],\n",
       " [0, 0, 1, 0],\n",
       " [0, 0, 0, 1],\n",
       " [1, 0, 0, 0],\n",
       " [0, 1, 0, 0],\n",
       " [0, 0, 1, 0],\n",
       " [0, 0, 0, 1]]"
      ]
     },
     "execution_count": 226,
     "metadata": {},
     "output_type": "execute_result"
    }
   ],
   "source": [
    "lst= [[1, 0, 0, 0],\n",
    "      [0, 1, 0, 0],\n",
    "      [0, 0, 1, 0],\n",
    "      [0, 0, 0, 1],\n",
    "      [1, 0, 0, 0],\n",
    "      [0, 1, 0, 0],\n",
    "      [0, 0, 1, 0],\n",
    "      [0, 0, 0, 1]]\n",
    "lst "
   ]
  },
  {
   "cell_type": "markdown",
   "id": "170c77c4-a002-4146-b019-51daa9bde543",
   "metadata": {},
   "source": [
    "(풀이)"
   ]
  },
  {
   "cell_type": "code",
   "execution_count": 239,
   "id": "5af336fa-32fb-4fcd-b005-7beee5583e00",
   "metadata": {},
   "outputs": [
    {
     "data": {
      "text/plain": [
       "['a', 'b', 'c', 'd', 'a', 'b', 'c', 'd']"
      ]
     },
     "execution_count": 239,
     "metadata": {},
     "output_type": "execute_result"
    }
   ],
   "source": [
    "[x for l in lst for x,y in dct.items() if y == l]"
   ]
  },
  {
   "cell_type": "markdown",
   "id": "9d326fa6-5ad6-4c9e-8363-4848b8d2ff5b",
   "metadata": {},
   "source": [
    "## 바꿔치기 (2)"
   ]
  },
  {
   "cell_type": "markdown",
   "id": "298ee9f4-a094-4d5c-ac13-9891ba48b541",
   "metadata": {},
   "source": [
    "`-` 예제1: 아래와 같은 리스트를 고려하자. "
   ]
  },
  {
   "cell_type": "code",
   "execution_count": 240,
   "id": "cd843f81-b422-4657-bc7e-646bbe3b4dc1",
   "metadata": {},
   "outputs": [],
   "source": [
    "lst = ['딸기','사과','바나나','딸기','사과','오토바이','자동차','버스','기차','오토바이','자동차']"
   ]
  },
  {
   "cell_type": "markdown",
   "id": "a152aede-8c38-427e-8b17-4ca6bff682b7",
   "metadata": {},
   "source": [
    "다음의 맵핑규칙에 따라서 위의 리스트의 원소를 바꾸어라. "
   ]
  },
  {
   "cell_type": "markdown",
   "id": "5e355794-77d9-44d4-af8a-0795aaada244",
   "metadata": {},
   "source": [
    "|변환전|변환후|\n",
    "|:-:|:-:|\n",
    "|딸기|과일|\n",
    "|사과|과일|\n",
    "|바나나|과일|\n",
    "|오토바이|탈것|\n",
    "|자동차|탈것|\n",
    "|버스|탈것|\n",
    "|기차|탈것|"
   ]
  },
  {
   "cell_type": "markdown",
   "id": "b01edcab-741f-46f2-b6a0-ebad1f4b1a42",
   "metadata": {},
   "source": [
    "(풀이)"
   ]
  },
  {
   "cell_type": "code",
   "execution_count": 242,
   "id": "bf46f15b-15fe-4578-b257-101d6ab84c9b",
   "metadata": {},
   "outputs": [
    {
     "data": {
      "text/plain": [
       "{'과일': ['딸기', '사과', '바나나'], '탈것': ['오토바이', '자동차', '버스', '기차']}"
      ]
     },
     "execution_count": 242,
     "metadata": {},
     "output_type": "execute_result"
    }
   ],
   "source": [
    "dct = {'과일':['딸기','사과','바나나'], '탈것':['오토바이','자동차','버스','기차']}\n",
    "dct"
   ]
  },
  {
   "cell_type": "code",
   "execution_count": 246,
   "id": "ff054db9-ab5a-427e-bf2d-f36e914ca3a9",
   "metadata": {},
   "outputs": [
    {
     "data": {
      "text/plain": [
       "['과일', '과일', '과일', '과일', '과일', '탈것', '탈것', '탈것', '탈것', '탈것', '탈것']"
      ]
     },
     "execution_count": 246,
     "metadata": {},
     "output_type": "execute_result"
    }
   ],
   "source": [
    "[x for l in lst for x,y in dct.items() if l in y]"
   ]
  },
  {
   "cell_type": "markdown",
   "id": "7b60d71d-4858-45c6-9df2-3a379fe039ce",
   "metadata": {},
   "source": [
    "# HW 0327 (1)"
   ]
  },
  {
   "cell_type": "markdown",
   "id": "5f8350b7-d380-48bf-be54-fd1432de775a",
   "metadata": {},
   "source": [
    "`ssh코드`: 1-2"
   ]
  },
  {
   "cell_type": "markdown",
   "id": "1424e258-9350-4295-b0e2-f66d4e7c6ff0",
   "metadata": {},
   "source": [
    "아래의 문자열을 고려하자. "
   ]
  },
  {
   "cell_type": "code",
   "execution_count": 1,
   "id": "9d8f9c5b-b4b1-4c1b-9126-f4b51354dfee",
   "metadata": {},
   "outputs": [],
   "source": [
    "test_arr = 'ssh-rsa AAAAB3NzaC1yc2EAAAABIwAAAQEAklOUpkDHrfHY17SbrmTIpNLTGK9Tjom/BWDSUGPl+nafzlHDTYW7hdI4yZ5ew18JH4JW9jbhUFrviQzM7xlELEVf4h9lFX5QVkbPppSwg0cda3Pbv7kOdJ/MTyBlWXFCR+HAo3FXRitBqxiX1nKhXpHAZsMciLq8V6RjsNAQwdsdMFvSlVK/7XAt3FaoJoAsncM1Q9x5+3V0Ww68/eIFmb1zuUFljQJKprrX88XypNDvjYNby6vw/Pb0rwert/EnmZ+AW4OZPnTPI89ZPmVMLuayrD2cE86Z/il8b+gw3r3+1nKatmIkjn2so1d01QraTlMqVSsbxNrRFi9wrf+M7Q== schacon@mylaptop.local'"
   ]
  },
  {
   "cell_type": "markdown",
   "id": "bc0a829c-fd50-4743-b7fc-08883cec1127",
   "metadata": {},
   "source": [
    "`1`. 이 문자열에서 `index = 0,2,4,6,8,...` 에 해당하는 원소를 출력하는 코드를 작성하라. (2022-파이썬입문 중간고사 1-(2) 참고)"
   ]
  },
  {
   "cell_type": "code",
   "execution_count": 140,
   "id": "8d62e13b-da3e-471d-9cc3-071f3ada7673",
   "metadata": {},
   "outputs": [
    {
     "data": {
      "text/plain": [
       "'shraAABNa1cEAAIAAEkOpDrH1SrTpLG9jmBDUP+azHTWhIy5w8HJ9bUriz7lLV49F5VbpSgcaPvkd/TBWFRHoFRtqi1KXHZMiqVRsAwsMvlK7A3aJAnMQx+VW6/Im1uFjJpr8XpDjNyv/bretEm+WOPTI9PVLar2E6/lbg331KtIj2od1rTMVsxrF9r+7= cao@yatplcl'"
      ]
     },
     "execution_count": 140,
     "metadata": {},
     "output_type": "execute_result"
    }
   ],
   "source": [
    "# 출력결과는 아래와 같아야 한다. "
   ]
  },
  {
   "cell_type": "markdown",
   "id": "66bbbda7-b0f0-4445-ab62-280d5c97ba14",
   "metadata": {},
   "source": [
    "(풀이)"
   ]
  },
  {
   "cell_type": "code",
   "execution_count": 3,
   "id": "b381bac2-2c06-4109-916f-3604c9c1502b",
   "metadata": {},
   "outputs": [
    {
     "data": {
      "text/plain": [
       "'shraAABNa1cEAAIAAEkOpDrH1SrTpLG9jmBDUP+azHTWhIy5w8HJ9bUriz7lLV49F5VbpSgcaPvkd/TBWFRHoFRtqi1KXHZMiqVRsAwsMvlK7A3aJAnMQx+VW6/Im1uFjJpr8XpDjNyv/bretEm+WOPTI9PVLar2E6/lbg331KtIj2od1rTMVsxrF9r+7= cao@yatplcl'"
      ]
     },
     "execution_count": 3,
     "metadata": {},
     "output_type": "execute_result"
    }
   ],
   "source": [
    "test_arr[::2]"
   ]
  },
  {
   "cell_type": "markdown",
   "id": "5ceaebe7-524c-4323-af82-41283a5f6380",
   "metadata": {},
   "source": [
    "`2`. 위 문자열을 뒤집은 문자열을 구하는 코드를 구현하라. (2022-파이썬입문 중간고사 1-(4) 참고)"
   ]
  },
  {
   "cell_type": "code",
   "execution_count": 141,
   "id": "d81051b6-1e63-42b2-97d0-62cf9b1f6c6f",
   "metadata": {},
   "outputs": [
    {
     "data": {
      "text/plain": [
       "'lacol.potpalym@nocahcs ==Q7M+frw9iFRrNxbsSVqMlTarQ10d1os2njkImtaKn1+3r3wg+b8li/Z68Ec2DryauLMVmPZ98IPTnPZO4WA+ZmnE/trewr0bP/wv6ybNYjvDNpyX88XrrpKJQjlFUuz1bmFIe/86wW0V3+5x9Q1McnsAoJoaF3tAX7/KVlSvFMdsdwQANsjR6V8qLicMsZAHpXhKn1XixqBtiRXF3oAH+RCFXWlByTM/JdOk7vbP3adc0gwSppPbkVQ5XFl9h4fVELElx7MzQivrFUhbj9WJ4HJ81we5Zy4Idh7WYTDHlzfan+lPGUSDWB/mojT9KGTLNpITmrbS71YHfrHDkpUOlkAEQAAAwIBAAAAE2cy1CazN3BAAAA asr-hss'"
      ]
     },
     "execution_count": 141,
     "metadata": {},
     "output_type": "execute_result"
    }
   ],
   "source": [
    "# 출력결과는 아래와 같아야 한다. "
   ]
  },
  {
   "cell_type": "markdown",
   "id": "2e70358b-980c-4f30-84bc-0b2d6bcf6468",
   "metadata": {},
   "source": [
    "(풀이)"
   ]
  },
  {
   "cell_type": "code",
   "execution_count": 4,
   "id": "a171fb2e-4358-4e8c-b876-2373054f33c4",
   "metadata": {},
   "outputs": [
    {
     "data": {
      "text/plain": [
       "'lacol.potpalym@nocahcs ==Q7M+frw9iFRrNxbsSVqMlTarQ10d1os2njkImtaKn1+3r3wg+b8li/Z68Ec2DryauLMVmPZ98IPTnPZO4WA+ZmnE/trewr0bP/wv6ybNYjvDNpyX88XrrpKJQjlFUuz1bmFIe/86wW0V3+5x9Q1McnsAoJoaF3tAX7/KVlSvFMdsdwQANsjR6V8qLicMsZAHpXhKn1XixqBtiRXF3oAH+RCFXWlByTM/JdOk7vbP3adc0gwSppPbkVQ5XFl9h4fVELElx7MzQivrFUhbj9WJ4HJ81we5Zy4Idh7WYTDHlzfan+lPGUSDWB/mojT9KGTLNpITmrbS71YHfrHDkpUOlkAEQAAAwIBAAAAE2cy1CazN3BAAAA asr-hss'"
      ]
     },
     "execution_count": 4,
     "metadata": {},
     "output_type": "execute_result"
    }
   ],
   "source": [
    "test_arr[::-1]"
   ]
  },
  {
   "cell_type": "markdown",
   "id": "20fa01ad-41e7-4b27-bc74-5bffe9a1cfde",
   "metadata": {},
   "source": [
    "---"
   ]
  },
  {
   "cell_type": "markdown",
   "id": "302a2149-7cfc-4dff-a760-d11964f03179",
   "metadata": {},
   "source": [
    "`파이썬 프로그래밍 시험성적`: 3-4"
   ]
  },
  {
   "cell_type": "markdown",
   "id": "7bbf8288-90bd-4be2-8cf2-2557758d7814",
   "metadata": {},
   "source": [
    "아래와 같은 dictionary가 있다고 가정하자. "
   ]
  },
  {
   "cell_type": "code",
   "execution_count": 5,
   "id": "6e826886-6566-4e6b-b494-b5777cdda092",
   "metadata": {},
   "outputs": [],
   "source": [
    "dct={'202212377': {'att': 65, 'rep': 45, 'mid': 0, 'fin': 10},\n",
    "     '202212473': {'att': 95, 'rep': 30, 'mid': 60, 'fin': 10},\n",
    "     '202212310': {'att': 65, 'rep': 85, 'mid': 15, 'fin': 20},\n",
    "     '202212460': {'att': 55, 'rep': 35, 'mid': 35, 'fin': 5},\n",
    "     '202212320': {'att': 80, 'rep': 60, 'mid': 55, 'fin': 70},\n",
    "     '202212329': {'att': 75, 'rep': 40, 'mid': 75, 'fin': 85},\n",
    "     '202212408': {'att': 65, 'rep': 70, 'mid': 60, 'fin': 75},\n",
    "     '202212319': {'att': 60, 'rep': 25, 'mid': 20, 'fin': 35},\n",
    "     '202212348': {'att': 95, 'rep': 55, 'mid': 65, 'fin': 90},\n",
    "     '202212306': {'att': 90, 'rep': 25, 'mid': 95, 'fin': 50},\n",
    "     '202212308': {'att': 55, 'rep': 45, 'mid': 75, 'fin': 30},\n",
    "     '202212366': {'att': 95, 'rep': 60, 'mid': 25, 'fin': 55},\n",
    "     '202212367': {'att': 95, 'rep': 35, 'mid': 0, 'fin': 25},\n",
    "     '202212461': {'att': 50, 'rep': 55, 'mid': 90, 'fin': 45}}"
   ]
  },
  {
   "cell_type": "markdown",
   "id": "9a328c54-fb7a-4e85-bff9-94aabdb3a62c",
   "metadata": {},
   "source": [
    "여기에서 '202212377' 등은 학번을, att는 출석점수, rep는 레포트점수, mid는 중간고사 점수, fin은 기말고사 점수를 의미한다. "
   ]
  },
  {
   "cell_type": "markdown",
   "id": "2fb8a6d5-d2f8-442b-92dd-94f77fc12f55",
   "metadata": {},
   "source": [
    "`3`. 학생들의 학번을 아래와 같은 방식으로 출력하는 코드를 작성하라. "
   ]
  },
  {
   "cell_type": "code",
   "execution_count": 165,
   "id": "8d755a80-6a40-4ad8-9bae-2e3fcb35031f",
   "metadata": {},
   "outputs": [
    {
     "data": {
      "text/plain": [
       "['2022-12377',\n",
       " '2022-12473',\n",
       " '2022-12310',\n",
       " '2022-12460',\n",
       " '2022-12320',\n",
       " '2022-12329',\n",
       " '2022-12408',\n",
       " '2022-12319',\n",
       " '2022-12348',\n",
       " '2022-12306',\n",
       " '2022-12308',\n",
       " '2022-12366',\n",
       " '2022-12367',\n",
       " '2022-12461']"
      ]
     },
     "execution_count": 165,
     "metadata": {},
     "output_type": "execute_result"
    }
   ],
   "source": [
    "# 출력예시"
   ]
  },
  {
   "cell_type": "markdown",
   "id": "2737ae49-c0b6-4dd3-b70c-62caaa3f093f",
   "metadata": {},
   "source": [
    "(풀이)"
   ]
  },
  {
   "cell_type": "code",
   "execution_count": 8,
   "id": "f4c58912-9060-49b7-a88d-7be4c3539bf7",
   "metadata": {},
   "outputs": [
    {
     "data": {
      "text/plain": [
       "['2022-12377',\n",
       " '2022-12473',\n",
       " '2022-12310',\n",
       " '2022-12460',\n",
       " '2022-12320',\n",
       " '2022-12329',\n",
       " '2022-12408',\n",
       " '2022-12319',\n",
       " '2022-12348',\n",
       " '2022-12306',\n",
       " '2022-12308',\n",
       " '2022-12366',\n",
       " '2022-12367',\n",
       " '2022-12461']"
      ]
     },
     "execution_count": 8,
     "metadata": {},
     "output_type": "execute_result"
    }
   ],
   "source": [
    "[k[:4]+'-'+k[4:] for k in dct]"
   ]
  },
  {
   "cell_type": "markdown",
   "id": "08908426-440f-4269-a42d-dd3a267cc6cf",
   "metadata": {},
   "source": [
    "`4`. 출석점수가 70점 이상인(`>=70`) 학생들의 학번을 출력하는 코드를 작성하라. (2022-파이썬입문 중간고사 2-(3) 참고) "
   ]
  },
  {
   "cell_type": "code",
   "execution_count": 166,
   "id": "9d4094cd-861b-492d-b2cd-b98323ef4c4b",
   "metadata": {},
   "outputs": [
    {
     "data": {
      "text/plain": [
       "['2022-12473',\n",
       " '2022-12320',\n",
       " '2022-12329',\n",
       " '2022-12348',\n",
       " '2022-12306',\n",
       " '2022-12366',\n",
       " '2022-12367']"
      ]
     },
     "execution_count": 166,
     "metadata": {},
     "output_type": "execute_result"
    }
   ],
   "source": [
    "# 출력예시 "
   ]
  },
  {
   "cell_type": "markdown",
   "id": "652b1a26-e5a9-4114-8942-17938ab88231",
   "metadata": {},
   "source": [
    "(풀이)"
   ]
  },
  {
   "cell_type": "code",
   "execution_count": 10,
   "id": "a53f0c4e-8c9b-4880-880e-543fc014c335",
   "metadata": {},
   "outputs": [
    {
     "data": {
      "text/plain": [
       "['2022-12473',\n",
       " '2022-12320',\n",
       " '2022-12329',\n",
       " '2022-12348',\n",
       " '2022-12306',\n",
       " '2022-12366',\n",
       " '2022-12367']"
      ]
     },
     "execution_count": 10,
     "metadata": {},
     "output_type": "execute_result"
    }
   ],
   "source": [
    "[k[:4]+'-'+k[4:] for k,v in dct.items() if v['att']>70]"
   ]
  },
  {
   "cell_type": "markdown",
   "id": "4cc08972-507d-4804-8df6-30625dd25e60",
   "metadata": {},
   "source": [
    "---"
   ]
  },
  {
   "cell_type": "markdown",
   "id": "4a2ca86a-25bc-4d6c-b444-b6334ceb2570",
   "metadata": {},
   "source": [
    "`Oxford-III`: 5--10 // [reference](https://www.robots.ox.ac.uk/~vgg/data/pets/)\n",
    "\n",
    "아래는 이미지 파일명들이 저장된 string을 불러오는 코드이다. "
   ]
  },
  {
   "cell_type": "code",
   "execution_count": 11,
   "id": "5d193377-5ff7-47be-94e6-772942c0acc4",
   "metadata": {},
   "outputs": [],
   "source": [
    "import requests\n",
    "url = 'https://raw.githubusercontent.com/guebin/PP2023/main/posts/01_PythonBasic/Oxford-IIIT.txt'\n",
    "txt = requests.get(url).content.decode()"
   ]
  },
  {
   "cell_type": "markdown",
   "id": "00b1d008-876c-4ce3-b1e2-f832d6351d3a",
   "metadata": {},
   "source": [
    "txt의 출력 일부를 나타내면 아래와 같다. \n",
    "\n",
    "```default\n",
    "'Abyssinian_1.jpg\\nAbyssinian_10.jpg\\nAbyssinian_100.jpg\\nAbyssinian_100.mat\\nAbyssinian_101.jpg\\nAbyssinian_101.mat\\nAbyssinian_102.jpg\\nAbyssinian_102.mat\\nAbyssinian_103.jpg\\nAbyssinian_104.jpg\\nAbyssinian_105.jpg\\nAbyssinian_106.jpg\\nAbyssinian_107.jpg\\nAbyssinian_108.jpg\\nAbyssinian_109.jpg\\nAbyssinian_11.jpg\\nAbyssinian_110.jpg\\nAbyssinian_111.jpg\\nAbyssinian_112.jpg\\nAbyssinian_113.jpg\\nAbyssinian_114.jpg\\nAbyssinian_115.jpg\\nAbyssinian_116.jpg\\nAbyssinian_117.jpg\\nAbyssinian_118.jpg\\nAbyssinian_119.jpg\\nAbyssinian_12.jpg\\nAbyssinian_120.jpg\\nAbyssinian_121.jpg\\nAbyssinian_122.jpg\\nAbyssinian_123.jpg\\nAbyssinian_124.jpg\\nAbyssinian_125.jpg\\nAbyssinian_126.jpg\\nAbyssinian_127.jpg\\nAbyssinian_128.jpg\\nAbyssinian_129.jpg\\nAbyssinian_13.jpg\\nAbyssinian_130.jpg\\nAbyssinian_131.jpg\\nAbyssinian_132.jpg\\n ....... \n",
    "```"
   ]
  },
  {
   "cell_type": "markdown",
   "id": "9ed71aa8-c67c-451a-9c44-850c79a4ab15",
   "metadata": {},
   "source": [
    "`5`. 각 파일명은 `\\n`으로 구분되어있다. 위의 스트링을 분해하여 아래와 같은 리스트를 생성하고 `fname_list`에 저장하라. "
   ]
  },
  {
   "cell_type": "markdown",
   "id": "9598de5f-e798-445e-a290-ede83ce40860",
   "metadata": {},
   "source": [
    "```Python\n",
    "# fname_list 의 출력결과는 아래와 같아야 한다. \n",
    "['Abyssinian_1.jpg','Abyssinian_10.jpg', ... ,'yorkshire_terrier_98.jpg', 'yorkshire_terrier_99.jpg']\n",
    "```"
   ]
  },
  {
   "cell_type": "markdown",
   "id": "9251dc9c-207d-4be0-b518-f79a6d237762",
   "metadata": {},
   "source": [
    "(풀이)"
   ]
  },
  {
   "cell_type": "code",
   "execution_count": 19,
   "id": "32bbfb59-002a-4b56-8d50-4d7bd60fdfdc",
   "metadata": {},
   "outputs": [
    {
     "data": {
      "text/plain": [
       "['Abyssinian_1.jpg',\n",
       " 'Abyssinian_10.jpg',\n",
       " 'Abyssinian_100.jpg',\n",
       " 'Abyssinian_100.mat',\n",
       " 'Abyssinian_101.jpg',\n",
       " 'Abyssinian_101.mat',\n",
       " 'Abyssinian_102.jpg',\n",
       " 'Abyssinian_102.mat',\n",
       " 'Abyssinian_103.jpg',\n",
       " 'Abyssinian_104.jpg']"
      ]
     },
     "execution_count": 19,
     "metadata": {},
     "output_type": "execute_result"
    }
   ],
   "source": [
    "fname_list = txt.split('\\n')\n",
    "fname_list[:10]"
   ]
  },
  {
   "cell_type": "markdown",
   "id": "cb31ab87-66d2-4052-978f-c38864bfeb98",
   "metadata": {},
   "source": [
    "`6`. 각 이미지파일명은 아래와 같은 규칙으로 저장되어 있다. \n",
    "\n",
    "- 파일명의 첫글자가 대문자이면 고양이를 의미하고 첫글자가 소문자이면 강아지를 의미한다. \n",
    "- `_` 이전의 영문명은 고양이 혹은 강아지의 종(breed)을 의미한다. "
   ]
  },
  {
   "cell_type": "markdown",
   "id": "098564cc-337b-4d33-b385-cd63327e9544",
   "metadata": {},
   "source": [
    "이미지 파일명이 입력으로 오면 강아지인지 고양이인지 판단하여 'cat' or 'dog'를 리턴하는 함수 `f`를 구현하라. "
   ]
  },
  {
   "cell_type": "markdown",
   "id": "0cc7a746-24e2-4503-a4bc-4cc51192a8bb",
   "metadata": {},
   "source": [
    "(함수사용예시)"
   ]
  },
  {
   "cell_type": "code",
   "execution_count": 56,
   "id": "f3aa8a8e-3488-409f-95d6-777a69905fe9",
   "metadata": {},
   "outputs": [
    {
     "data": {
      "text/plain": [
       "'dog'"
      ]
     },
     "execution_count": 56,
     "metadata": {},
     "output_type": "execute_result"
    }
   ],
   "source": [
    "f('yorkshire_terrier_99.jpg')"
   ]
  },
  {
   "cell_type": "code",
   "execution_count": 58,
   "id": "44bcb9a7-a9cc-43ce-ae02-11d14b8321b0",
   "metadata": {},
   "outputs": [
    {
     "data": {
      "text/plain": [
       "'cat'"
      ]
     },
     "execution_count": 58,
     "metadata": {},
     "output_type": "execute_result"
    }
   ],
   "source": [
    "f('Abyssinian_1.jpg')"
   ]
  },
  {
   "cell_type": "markdown",
   "id": "23bc8d25-827c-403b-9511-4ac42eb81e02",
   "metadata": {},
   "source": [
    "(풀이)"
   ]
  },
  {
   "cell_type": "code",
   "execution_count": 21,
   "id": "02210b2b-4946-472c-bf02-4ecd785d72cd",
   "metadata": {},
   "outputs": [],
   "source": [
    "def f(fname): \n",
    "    return 'cat' if fname[0].isupper() else 'dog' "
   ]
  },
  {
   "cell_type": "code",
   "execution_count": 23,
   "id": "8be3881a-a897-47c6-ad89-9048d27d87df",
   "metadata": {},
   "outputs": [
    {
     "data": {
      "text/plain": [
       "('dog', 'cat')"
      ]
     },
     "execution_count": 23,
     "metadata": {},
     "output_type": "execute_result"
    }
   ],
   "source": [
    "f('yorkshire_terrier_99.jpg'), f('Abyssinian_1.jpg')"
   ]
  },
  {
   "cell_type": "markdown",
   "id": "4e8ba181-cafe-431b-90f2-2329bc0df689",
   "metadata": {},
   "source": [
    "`7`. 5의 결과로 나온 `fname_list`를 입력으로 하고 리스트의 각 원소가 고양이를 의미하는 그림인지 강아지를 의미하는 그림인지 나타내는 리스트를 만들어라. "
   ]
  },
  {
   "cell_type": "markdown",
   "id": "1a6574e9-63da-42f2-973c-3cdcb2f50ced",
   "metadata": {},
   "source": [
    "```Python\n",
    "## 입력예시 \n",
    "['Abyssinian_1.jpg','Abyssinian_10.jpg',...,'yorkshire_terrier_98.jpg', 'yorkshire_terrier_99.jpg']\n",
    "\n",
    "## 출력예시\n",
    "['cat', 'cat', ... , 'dog', 'dog']\n",
    "```"
   ]
  },
  {
   "cell_type": "markdown",
   "id": "fa1b0772-2c99-427c-9658-f794475ce06d",
   "metadata": {},
   "source": [
    "(풀이) "
   ]
  },
  {
   "cell_type": "code",
   "execution_count": 25,
   "id": "90ab8147-e4fe-4efb-b159-c54f9ea0282d",
   "metadata": {},
   "outputs": [
    {
     "data": {
      "text/plain": [
       "['cat', 'cat', 'cat', 'cat', 'cat', 'cat', 'cat', 'cat', 'cat', 'cat']"
      ]
     },
     "execution_count": 25,
     "metadata": {},
     "output_type": "execute_result"
    }
   ],
   "source": [
    "result = [f(l) for l in fname_list]\n",
    "result[:10]"
   ]
  },
  {
   "cell_type": "markdown",
   "id": "450feac8-d130-43a3-a929-039c3072557a",
   "metadata": {},
   "source": [
    "`8`. 강아지 그림과 고양이 그림이 각각 몇 장씩 포함되어 있는지 파악하는 코드를 구현하라. "
   ]
  },
  {
   "cell_type": "markdown",
   "id": "31219d2d-0057-42d3-bbf2-27ba44c67a58",
   "metadata": {},
   "source": [
    "(풀이)"
   ]
  },
  {
   "cell_type": "code",
   "execution_count": 29,
   "id": "ea12b2f6-9eaf-4d16-a284-395bebf9abbb",
   "metadata": {},
   "outputs": [
    {
     "data": {
      "text/plain": [
       "2403"
      ]
     },
     "execution_count": 29,
     "metadata": {},
     "output_type": "execute_result"
    }
   ],
   "source": [
    "sum([s=='cat' for s in result]) # 고양이"
   ]
  },
  {
   "cell_type": "code",
   "execution_count": 30,
   "id": "23f45df8-f436-458a-ad76-a02e6ae34519",
   "metadata": {},
   "outputs": [
    {
     "data": {
      "text/plain": [
       "4990"
      ]
     },
     "execution_count": 30,
     "metadata": {},
     "output_type": "execute_result"
    }
   ],
   "source": [
    "sum([s=='dog' for s in result]) # 강아지"
   ]
  },
  {
   "cell_type": "markdown",
   "id": "4b18f986-8fd9-48c7-a9c4-29fef8151451",
   "metadata": {},
   "source": [
    "`9`. 포메라니안 종의 그림이 몇장있는지 파악하는 코드를 구현하라. "
   ]
  },
  {
   "cell_type": "markdown",
   "id": "4991f627-ae0b-4d11-a4db-51a6b8664f13",
   "metadata": {},
   "source": [
    "**hint:** 포메라니안 그림은 파일명에 'pomeranian' 을 포함한다. "
   ]
  },
  {
   "cell_type": "markdown",
   "id": "708ea60e-f3da-4fad-a65d-a2a25ad1dccd",
   "metadata": {},
   "source": [
    "(풀이)"
   ]
  },
  {
   "cell_type": "code",
   "execution_count": 33,
   "id": "78c56b61-ad28-43dc-aa3b-241d26a8975a",
   "metadata": {},
   "outputs": [
    {
     "data": {
      "text/plain": [
       "200"
      ]
     },
     "execution_count": 33,
     "metadata": {},
     "output_type": "execute_result"
    }
   ],
   "source": [
    "sum(['pomeranian'  in s for s in fname_list])"
   ]
  },
  {
   "cell_type": "markdown",
   "id": "9453ba9e-eb5a-4f93-813e-20cdb79259c1",
   "metadata": {},
   "source": [
    "`10`. 아래의 `dct`는 포메라니안과 사모예드가 각각 몇장씩 포함되어있는지 정리하기 위해 임시로 정리한 dictionary이다. 각 종이 몇 장씩 포함되어있는지 구하여 `dct`를 수정하라. "
   ]
  },
  {
   "cell_type": "code",
   "execution_count": 34,
   "id": "98e4cf00-6497-4870-88ea-c51e6cfb7763",
   "metadata": {},
   "outputs": [
    {
     "data": {
      "text/plain": [
       "{'pomeranian': 0, 'samoyed': 0}"
      ]
     },
     "execution_count": 34,
     "metadata": {},
     "output_type": "execute_result"
    }
   ],
   "source": [
    "dct = {'pomeranian':0, 'samoyed':0} \n",
    "dct"
   ]
  },
  {
   "cell_type": "markdown",
   "id": "150d31ac-4aff-4e8d-ba3f-dc53f589de37",
   "metadata": {},
   "source": [
    "예를들어 포메라니안과 사모에예드의 그림이 각각 200장씩 있다면 아래와 같이 딕셔너리를 수정해야한다. "
   ]
  },
  {
   "cell_type": "code",
   "execution_count": 92,
   "id": "c728e613-6036-4882-bb66-c99282866e4f",
   "metadata": {},
   "outputs": [
    {
     "data": {
      "text/plain": [
       "{'pomeranian': 200, 'samoyed': 200}"
      ]
     },
     "execution_count": 92,
     "metadata": {},
     "output_type": "execute_result"
    }
   ],
   "source": [
    "{'pomeranian':200, 'samoyed':200} "
   ]
  },
  {
   "cell_type": "markdown",
   "id": "89c6a230-8cd4-47b9-bbb0-b2003a68708b",
   "metadata": {},
   "source": [
    "(풀이)"
   ]
  },
  {
   "cell_type": "code",
   "execution_count": 35,
   "id": "36d4eb4c-52ee-4fca-9734-15e4eca99056",
   "metadata": {},
   "outputs": [
    {
     "data": {
      "text/plain": [
       "{'pomeranian': 200, 'samoyed': 200}"
      ]
     },
     "execution_count": 35,
     "metadata": {},
     "output_type": "execute_result"
    }
   ],
   "source": [
    "dct['pomeranian'] = sum(['pomeranian'  in s for s in fname_list])\n",
    "dct['samoyed'] = sum(['samoyed'  in s for s in fname_list])\n",
    "dct"
   ]
  },
  {
   "cell_type": "markdown",
   "id": "f5c84572-bf12-4c10-a470-514f0a82848d",
   "metadata": {},
   "source": [
    "# HW 0327 (2)"
   ]
  },
  {
   "cell_type": "markdown",
   "id": "5d5eb795-966d-4d6d-a87a-f349cb300762",
   "metadata": {},
   "source": [
    "`1`. 아래와 같은 맵핑을 고려하자. "
   ]
  },
  {
   "cell_type": "markdown",
   "id": "c6d8a26f-fe77-49b7-a230-3e7a83d067de",
   "metadata": {},
   "source": [
    "|문자|숫자|\n",
    "|:-:|:-:|\n",
    "|a|1|\n",
    "|b|0|"
   ]
  },
  {
   "cell_type": "markdown",
   "id": "41a7f244-a44f-4caf-bdcc-66235494489f",
   "metadata": {},
   "source": [
    "이를 딕셔너리로 표현하면 아래와 같다. "
   ]
  },
  {
   "cell_type": "code",
   "execution_count": 36,
   "id": "f9ba4ef5-d4e0-4feb-9205-023addb1b9d7",
   "metadata": {},
   "outputs": [],
   "source": [
    "dct = {'a':0, 'b':1} "
   ]
  },
  {
   "cell_type": "markdown",
   "id": "4299242b-deb5-4920-a11f-21282b0aa14d",
   "metadata": {},
   "source": [
    "위 규칙에 따라서 아래의 리스트의 원소를 문자로 각각 변환하라."
   ]
  },
  {
   "cell_type": "code",
   "execution_count": 37,
   "id": "6ed824de-46d0-4c0d-b10f-19607c9d663c",
   "metadata": {},
   "outputs": [],
   "source": [
    "lst = [1, 0, 1, 0, 1, 0, 1, 1, 1, 1, 0, 0, 1, 0, 1]"
   ]
  },
  {
   "cell_type": "markdown",
   "id": "37963aea-0c1a-4ea0-8aae-7070b454674e",
   "metadata": {},
   "source": [
    "```Python\n",
    "# 출력은 아래와 같아야 한다. \n",
    "['b', 'a', 'b', 'a', 'b', 'a', 'b', 'b', 'b', 'b', 'a', 'a', 'b', 'a', 'b']\n",
    "```"
   ]
  },
  {
   "cell_type": "markdown",
   "id": "8013c75b-1532-4bff-947c-947014477303",
   "metadata": {},
   "source": [
    "(풀이)"
   ]
  },
  {
   "cell_type": "code",
   "execution_count": 39,
   "id": "e01ea0b5-fa59-4254-866e-600ca9aa0341",
   "metadata": {},
   "outputs": [
    {
     "data": {
      "text/plain": [
       "['b', 'a', 'b', 'a', 'b', 'a', 'b', 'b', 'b', 'b', 'a', 'a', 'b', 'a', 'b']"
      ]
     },
     "execution_count": 39,
     "metadata": {},
     "output_type": "execute_result"
    }
   ],
   "source": [
    "[k for l in lst for k,v in dct.items() if v==l]"
   ]
  },
  {
   "cell_type": "markdown",
   "id": "1c4c094a-fbb5-4763-b007-d59f87a67f98",
   "metadata": {},
   "source": [
    "`2`. 아래와 같은 맵핑을 고려하자. "
   ]
  },
  {
   "cell_type": "markdown",
   "id": "52b22feb-08dc-4211-a7da-7afdcdcd8ac6",
   "metadata": {},
   "source": [
    "|월|의미|\n",
    "|:-:|:-:|\n",
    "|1,2|겨울방학|\n",
    "|3,4,5,6|1학기|\n",
    "|7,8|여름방학|\n",
    "|9,10,11,12|2학기|"
   ]
  },
  {
   "cell_type": "markdown",
   "id": "66b48a21-2e72-4e58-bcfb-c14617aa70bd",
   "metadata": {},
   "source": [
    "이러한 규칙에 맞게 아래의 리스트를 적절한 문자열로 변환하라. "
   ]
  },
  {
   "cell_type": "code",
   "execution_count": 41,
   "id": "fcd4f0a4-62a2-4ef4-8ba2-377813310dfb",
   "metadata": {},
   "outputs": [],
   "source": [
    "month = [1,2,2,3,4,5,6,7,8,9,9,10,11,12] "
   ]
  },
  {
   "cell_type": "markdown",
   "id": "7ba9708e-fbd1-4e7b-9e47-db10912503c5",
   "metadata": {},
   "source": [
    "```Python\n",
    "## 출력은 아래와 같아야 한다. \n",
    "['겨울방학', '겨울방학', '겨울방학', '1학기', '1학기', '1학기', '1학기', '여름방학', '여름방학', '2학기', '2학기', '2학기', '2학기', '2학기']\n",
    "```"
   ]
  },
  {
   "cell_type": "markdown",
   "id": "c15c003b-e4ba-42d9-8a16-1e82959018f2",
   "metadata": {},
   "source": [
    "(풀이)"
   ]
  },
  {
   "cell_type": "code",
   "execution_count": 42,
   "id": "bc36b4cc-7912-4e08-b587-8ee10587cf57",
   "metadata": {},
   "outputs": [
    {
     "data": {
      "text/plain": [
       "['겨울방학',\n",
       " '겨울방학',\n",
       " '겨울방학',\n",
       " '1학기',\n",
       " '1학기',\n",
       " '1학기',\n",
       " '1학기',\n",
       " '여름방학',\n",
       " '여름방학',\n",
       " '2학기',\n",
       " '2학기',\n",
       " '2학기',\n",
       " '2학기',\n",
       " '2학기']"
      ]
     },
     "execution_count": 42,
     "metadata": {},
     "output_type": "execute_result"
    }
   ],
   "source": [
    "dct = {'겨울방학':[1,2], '1학기':[3,4,5,6], '여름방학':[7,8], '2학기':[9,10,11,12]} \n",
    "[k for m in month for k,v in dct.items() if m in v] "
   ]
  },
  {
   "cell_type": "markdown",
   "id": "a650e903-388a-41e2-9b46-ce0f437d1ed3",
   "metadata": {},
   "source": [
    "`합성변환` 3-5. "
   ]
  },
  {
   "cell_type": "markdown",
   "id": "08312efe-558b-4b4f-9f27-06a423d12e01",
   "metadata": {},
   "source": [
    "아래와 같은 맵핑을 고려하자. "
   ]
  },
  {
   "cell_type": "markdown",
   "id": "74cadf7e-0299-47c3-8bfe-bbee355cf22b",
   "metadata": {},
   "source": [
    "(규칙1)"
   ]
  },
  {
   "cell_type": "markdown",
   "id": "2caa3199-02d6-42a1-af85-482fdf13517b",
   "metadata": {},
   "source": [
    "|문자|숫자|\n",
    "|:-:|:-:|\n",
    "|바나나|0|\n",
    "|사과|1|\n",
    "|오토바이|2|\n",
    "|자동차|3|\n",
    "|자전거|4|"
   ]
  },
  {
   "cell_type": "markdown",
   "id": "13748c5e-05d5-496a-bc66-f3fbf9957d42",
   "metadata": {},
   "source": [
    "(규칙2)"
   ]
  },
  {
   "cell_type": "markdown",
   "id": "61354ea4-6a0c-4fe4-b0bd-29f457f18306",
   "metadata": {},
   "source": [
    "|아이템|카테고리|\n",
    "|:-:|:-:|\n",
    "|바나나|과일|\n",
    "|사과|과일|\n",
    "|오토바이|탈것|\n",
    "|자동차|탈것|\n",
    "|자전거|탈것|"
   ]
  },
  {
   "cell_type": "markdown",
   "id": "1c5c588f-6266-4c44-b600-2111b44f3fe3",
   "metadata": {},
   "source": [
    "각각의 규칙을 나타내는 딕셔너리는 아래와 같이 선언되어있다고 하자. "
   ]
  },
  {
   "cell_type": "code",
   "execution_count": 44,
   "id": "60d9f5c6-f0d1-4ffa-8dc1-e3124947e64c",
   "metadata": {},
   "outputs": [],
   "source": [
    "dct1 = {'바나나':0, '사과':1, '오토바이':2, '자동차':3, '자전거':4} \n",
    "dct2 = {'과일':['바나나','사과'], '탈것':['오토바이','자동차','자전거']} "
   ]
  },
  {
   "cell_type": "markdown",
   "id": "db69c31f-9e28-4b09-9cea-28b470419dbc",
   "metadata": {},
   "source": [
    "`3`. 규칙1를 이용하여 아래와 같은 리스트를 변환하는 함수를 구현하고 그 함수를 `f`라 선언하라."
   ]
  },
  {
   "cell_type": "markdown",
   "id": "bc441db6-8522-4794-bd2b-0ee2c9ad781b",
   "metadata": {},
   "source": [
    "```Python\n",
    "# 입력 \n",
    "[0,1,0,1,4]\n",
    "\n",
    "# 출력 \n",
    "['바나나', '사과', '바나나', '사과', '자전거']\n",
    "```"
   ]
  },
  {
   "cell_type": "markdown",
   "id": "0cd372e7-3be8-4521-9440-8dca797b515d",
   "metadata": {},
   "source": [
    "(사용예시)"
   ]
  },
  {
   "cell_type": "code",
   "execution_count": 202,
   "id": "bc8521e4-fa35-431e-95f6-ffbbe341da05",
   "metadata": {},
   "outputs": [
    {
     "data": {
      "text/plain": [
       "['바나나', '사과', '바나나', '사과', '자전거']"
      ]
     },
     "execution_count": 202,
     "metadata": {},
     "output_type": "execute_result"
    }
   ],
   "source": [
    "f([0,1,0,1,4])"
   ]
  },
  {
   "cell_type": "markdown",
   "id": "d2d3a233-9a24-4a1d-9e50-4c81621ac49e",
   "metadata": {},
   "source": [
    "(풀이)"
   ]
  },
  {
   "cell_type": "code",
   "execution_count": 47,
   "id": "9420cc14-d186-4a3b-bf5e-62fdbacf290e",
   "metadata": {},
   "outputs": [],
   "source": [
    "def f(lst):\n",
    "    return [k for l in lst for k,v in dct1.items() if v == l]    "
   ]
  },
  {
   "cell_type": "code",
   "execution_count": 48,
   "id": "7cd2c049-8037-4d3e-894f-935cfb6202ee",
   "metadata": {},
   "outputs": [
    {
     "data": {
      "text/plain": [
       "['바나나', '사과', '바나나', '사과', '자전거']"
      ]
     },
     "execution_count": 48,
     "metadata": {},
     "output_type": "execute_result"
    }
   ],
   "source": [
    "f([0,1,0,1,4])"
   ]
  },
  {
   "cell_type": "markdown",
   "id": "ce4a01f1-61be-4629-8dd2-705eaee38ba7",
   "metadata": {},
   "source": [
    "`4`. 규칙2를 이용하여 아래와 같이 리스트를 변환하는 함수를 구현하고 그 함수를 `g`라고 선언하라. "
   ]
  },
  {
   "cell_type": "markdown",
   "id": "950240f0-2f59-43ec-ac39-808cb26eae26",
   "metadata": {},
   "source": [
    "```Python\n",
    "# 입력 \n",
    "['바나나','바나나','바나나','자동차']\n",
    "\n",
    "# 출력 \n",
    "['과일','과일','과일','탈것']\n",
    "```"
   ]
  },
  {
   "cell_type": "markdown",
   "id": "7545954c-b78a-4944-84ef-9c9c0705b1f0",
   "metadata": {},
   "source": [
    "(사용예시)"
   ]
  },
  {
   "cell_type": "code",
   "execution_count": 201,
   "id": "3756176e-d285-4923-b1ec-29846b9eb502",
   "metadata": {},
   "outputs": [
    {
     "data": {
      "text/plain": [
       "['과일', '과일', '과일', '탈것']"
      ]
     },
     "execution_count": 201,
     "metadata": {},
     "output_type": "execute_result"
    }
   ],
   "source": [
    "g(['바나나','바나나','바나나','자동차'])"
   ]
  },
  {
   "cell_type": "markdown",
   "id": "048b6137-bb7f-45b6-93c3-56787da2f631",
   "metadata": {},
   "source": [
    "(풀이)"
   ]
  },
  {
   "cell_type": "code",
   "execution_count": 52,
   "id": "f0098c85-332e-4591-ba1f-846dc1e145b3",
   "metadata": {},
   "outputs": [
    {
     "data": {
      "text/plain": [
       "{'과일': ['바나나', '사과'], '탈것': ['오토바이', '자동차', '자전거']}"
      ]
     },
     "execution_count": 52,
     "metadata": {},
     "output_type": "execute_result"
    }
   ],
   "source": [
    "dct2"
   ]
  },
  {
   "cell_type": "code",
   "execution_count": 53,
   "id": "a3888dfa-b706-496e-bcb1-c37f4fa023f3",
   "metadata": {},
   "outputs": [],
   "source": [
    "def g(lst):\n",
    "    return [k for l in lst for k,v in dct2.items() if l in v] "
   ]
  },
  {
   "cell_type": "code",
   "execution_count": 54,
   "id": "e1a92106-9dd0-4f19-bc3e-badb8a7352c9",
   "metadata": {},
   "outputs": [
    {
     "data": {
      "text/plain": [
       "['과일', '과일', '과일', '탈것']"
      ]
     },
     "execution_count": 54,
     "metadata": {},
     "output_type": "execute_result"
    }
   ],
   "source": [
    "g(['바나나','바나나','바나나','자동차'])"
   ]
  },
  {
   "cell_type": "markdown",
   "id": "51c11f4e-7816-4b56-b644-3b3bb4cbc9a6",
   "metadata": {},
   "source": [
    "`5`. 규칙1-2를 이용하여 아래와 같은 숫자로 이루어진 입력을 '과일', '탈것' 중 하나로 바꾸는 코드를 구현하라. "
   ]
  },
  {
   "cell_type": "markdown",
   "id": "c73dad87-65da-4103-8f52-a473712d4bb5",
   "metadata": {},
   "source": [
    "```Python\n",
    "# 입력 \n",
    "[0,1,0,1,3,4,2,2,3,4,1,0]\n",
    "\n",
    "# 출력 \n",
    "['과일', '과일', '과일', '과일', '탈것', '탈것', '탈것', '탈것', '탈것', '탈것', '과일', '과일']\n",
    "```"
   ]
  },
  {
   "cell_type": "markdown",
   "id": "eaafc5e3-259e-440a-a650-69e9997f45da",
   "metadata": {},
   "source": [
    "**hint** $g(f(x))$ 를 이용하라. "
   ]
  },
  {
   "cell_type": "markdown",
   "id": "70e52d99-fb4d-43bb-96a1-0fdf3c9d3b73",
   "metadata": {},
   "source": [
    "(풀이)"
   ]
  },
  {
   "cell_type": "code",
   "execution_count": 55,
   "id": "912290e6-57a3-447b-9319-ba92d73905bc",
   "metadata": {},
   "outputs": [
    {
     "data": {
      "text/plain": [
       "['과일', '과일', '과일', '과일', '탈것', '탈것', '탈것', '탈것', '탈것', '탈것', '과일', '과일']"
      ]
     },
     "execution_count": 55,
     "metadata": {},
     "output_type": "execute_result"
    }
   ],
   "source": [
    "g(f([0,1,0,1,3,4,2,2,3,4,1,0]))"
   ]
  }
 ],
 "metadata": {
  "kernelspec": {
   "display_name": "Python 3",
   "language": "python",
   "name": "python3"
  },
  "language_info": {
   "codemirror_mode": {
    "name": "ipython",
    "version": 3
   },
   "file_extension": ".py",
   "mimetype": "text/x-python",
   "name": "python",
   "nbconvert_exporter": "python",
   "pygments_lexer": "ipython3",
   "version": "3.8.16"
  }
 },
 "nbformat": 4,
 "nbformat_minor": 5
}
