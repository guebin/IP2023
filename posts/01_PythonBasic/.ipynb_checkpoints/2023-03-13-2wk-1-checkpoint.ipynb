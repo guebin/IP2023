{
 "cells": [
  {
   "cell_type": "raw",
   "id": "e31b9d9e-32c7-4162-99b9-c1d858bff023",
   "metadata": {},
   "source": [
    "---\n",
    "title: \"02wk-1: 파이썬의 자료형 (2) -- draft\"\n",
    "author: \"최규빈\"\n",
    "date: \"03/13/2023\"\n",
    "---"
   ]
  },
  {
   "cell_type": "markdown",
   "id": "d0fd1c74-c926-4478-a38a-6a16318fd35c",
   "metadata": {},
   "source": [
    "<a href=\"https://colab.research.google.com/github/guebin/PP2023/blob/main/posts/01_PythonBasic/2023-03-08-2wk-1.ipynb\"><img src=\"https://colab.research.google.com/assets/colab-badge.svg\" style=\"text-align: left\"></a>"
   ]
  },
  {
   "cell_type": "markdown",
   "id": "6f78199d-cf9b-42a1-b0ce-cc440dc5dc15",
   "metadata": {},
   "source": [
    "# 강의영상 "
   ]
  },
  {
   "cell_type": "markdown",
   "id": "c1d85ca3-cbb3-4704-96b1-7aa7059a01b7",
   "metadata": {},
   "source": [
    "# 강의노트의 저장 및 정리"
   ]
  },
  {
   "cell_type": "markdown",
   "id": "1bc97715-9ffe-40c2-96df-4a12edcda522",
   "metadata": {},
   "source": [
    "`1`. website에 들어가서 강의노트를 pdf 혹은 html 파일로 변환한다. \n",
    "\n",
    "- 강의노트를 출력, 책으로 만들거나.. \n",
    "- 아이패드등에 저장하고 필기하면서 공부한다.. "
   ]
  },
  {
   "cell_type": "markdown",
   "id": "8b6d4915-9227-44a3-9186-1c723759744e",
   "metadata": {},
   "source": [
    "`2`. 코랩이용 \n",
    "\n",
    "- <https://guebin.github.io/PP2023> 에서 원하는 강의노트 선택 $\\to$ collab 버튼을 누른뒤에 강의노트 파일을 연다 $\\to$ 다운로드 or 본인의 구글 드라이브에 저장 \n",
    "- 코랩을 연다 $\\to$ 파일열기 $\\to$ github / guebin / PP2023 / 파일찾기 $\\to$ 강의노트 파일 열기 $\\to$ 다운로드 or 본인의 구글 드라이브에 저장 "
   ]
  },
  {
   "cell_type": "markdown",
   "id": "6972ee41-0ba5-4748-aebc-913349d3bee9",
   "metadata": {},
   "source": [
    "`3`. 깃헙에서 저장 \n",
    "\n",
    "- 파일하나씩 저장 \n",
    "- 레포지토리 전체 저장 "
   ]
  },
  {
   "cell_type": "markdown",
   "id": "241f593a-95c1-4d76-948a-765e0bdd9279",
   "metadata": {},
   "source": [
    "# 참고도서 소개 "
   ]
  },
  {
   "cell_type": "markdown",
   "id": "b1721508-c6d8-423d-b01d-df0c1e33b512",
   "metadata": {},
   "source": [
    "`-` 전자교재\n",
    "\n",
    "- <https://docs.python.org/3.9/tutorial/index.html>\n",
    "- <https://wikidocs.net/book/1>\n",
    "- <https://jakevdp.github.io/PythonDataScienceHandbook/>"
   ]
  },
  {
   "cell_type": "markdown",
   "id": "35fdbeb2-791a-4375-94eb-9a0ade98e818",
   "metadata": {},
   "source": [
    "`-` 종이책\n",
    "\n",
    "- 효율적 개발로 이끄는 파이썬 실천 기술\n",
    "- Learning python: powerful object-oriented programming\n",
    "- 전문가를 위한 파이썬 : 파이썬3 버전 기준 | 간단하고, 명료하고, 효율적인 파이썬 프로그래밍"
   ]
  },
  {
   "cell_type": "markdown",
   "id": "4ff09b98-42c8-4a37-81d6-dee712608dc9",
   "metadata": {},
   "source": [
    "# 주피터랩 "
   ]
  },
  {
   "cell_type": "markdown",
   "id": "69618086-59b9-4a78-8454-20dfc73e5b7c",
   "metadata": {},
   "source": [
    "`-` 파일탐색기, 저장된 변수값 확인 등의 기능이 있음 "
   ]
  },
  {
   "cell_type": "markdown",
   "id": "732ee40a-b019-4b5f-b3c4-6470744b758e",
   "metadata": {},
   "source": [
    "`-` interactive notebook이 아니다. "
   ]
  },
  {
   "cell_type": "code",
   "execution_count": 24,
   "id": "dbe52b7a-0fc4-48e5-b25f-0af7d4508f65",
   "metadata": {},
   "outputs": [],
   "source": [
    "a=1"
   ]
  },
  {
   "cell_type": "code",
   "execution_count": 25,
   "id": "4a72952f-2c06-44d8-a751-452c5ab645b0",
   "metadata": {},
   "outputs": [
    {
     "name": "stdout",
     "output_type": "stream",
     "text": [
      "1\n"
     ]
    }
   ],
   "source": [
    "print(a)"
   ]
  },
  {
   "cell_type": "code",
   "execution_count": 26,
   "id": "3324a9bb-136b-42cb-9a56-9b1acdb6a4d8",
   "metadata": {},
   "outputs": [],
   "source": [
    "a=3"
   ]
  },
  {
   "cell_type": "markdown",
   "id": "eaaf174e-2383-4a69-8342-813b95b2b0a1",
   "metadata": {},
   "source": [
    "# 주석 "
   ]
  },
  {
   "cell_type": "code",
   "execution_count": 27,
   "id": "8700d479-b27b-4ee1-9d70-45454074d752",
   "metadata": {},
   "outputs": [
    {
     "name": "stdout",
     "output_type": "stream",
     "text": [
      "3\n"
     ]
    }
   ],
   "source": [
    "a=3 \n",
    "#a=4 \n",
    "print(a)"
   ]
  },
  {
   "cell_type": "markdown",
   "id": "86c99587-b25e-4456-b62d-0b9837b5173d",
   "metadata": {},
   "source": [
    "# str 기본내용 "
   ]
  },
  {
   "cell_type": "markdown",
   "id": "f410c675-2fb4-493b-b74c-5ac1fa6b4ab5",
   "metadata": {},
   "source": [
    "## 선언 "
   ]
  },
  {
   "cell_type": "markdown",
   "id": "e6265070-f621-4b5c-b18c-8323ea7a1906",
   "metadata": {},
   "source": [
    "`-` 예시1"
   ]
  },
  {
   "cell_type": "code",
   "execution_count": 85,
   "id": "a4248c6b-06f4-4257-89e2-4ad1f9ff987d",
   "metadata": {},
   "outputs": [],
   "source": [
    "a='guebin'"
   ]
  },
  {
   "cell_type": "code",
   "execution_count": 86,
   "id": "d19c7a0d-6caf-4a98-b2c2-9e6293da8817",
   "metadata": {},
   "outputs": [
    {
     "data": {
      "text/plain": [
       "'guebin'"
      ]
     },
     "execution_count": 86,
     "metadata": {},
     "output_type": "execute_result"
    }
   ],
   "source": [
    "a"
   ]
  },
  {
   "cell_type": "markdown",
   "id": "8a86f8fa-538a-4961-9d8c-5928b8aeba03",
   "metadata": {},
   "source": [
    "`-` 예시2"
   ]
  },
  {
   "cell_type": "code",
   "execution_count": 9,
   "id": "85d2d458-d7b3-417b-a95d-061d4412c40b",
   "metadata": {},
   "outputs": [],
   "source": [
    "a=\"guebin\""
   ]
  },
  {
   "cell_type": "code",
   "execution_count": 2,
   "id": "c236cb4b-0f5e-4834-a6d5-d494ffb013b6",
   "metadata": {},
   "outputs": [
    {
     "data": {
      "text/plain": [
       "'guebin'"
      ]
     },
     "execution_count": 2,
     "metadata": {},
     "output_type": "execute_result"
    }
   ],
   "source": [
    "a"
   ]
  },
  {
   "cell_type": "markdown",
   "id": "a7b46607-e439-4bda-9013-17fe3d1e4cca",
   "metadata": {},
   "source": [
    "## 연산"
   ]
  },
  {
   "cell_type": "markdown",
   "id": "6e9861e6-87b6-4a53-ba66-dba21d2c0fd2",
   "metadata": {},
   "source": [
    "`-` 더하기(+)연산 "
   ]
  },
  {
   "cell_type": "code",
   "execution_count": 87,
   "id": "4821d768-6982-407e-ac21-acbefa39e91d",
   "metadata": {},
   "outputs": [],
   "source": [
    "a='X'\n",
    "b='2'"
   ]
  },
  {
   "cell_type": "code",
   "execution_count": 91,
   "id": "6648aac8-60d3-493d-b10f-5dd1289939bf",
   "metadata": {},
   "outputs": [
    {
     "data": {
      "text/plain": [
       "'X2'"
      ]
     },
     "execution_count": 91,
     "metadata": {},
     "output_type": "execute_result"
    }
   ],
   "source": [
    "c=a+b\n",
    "c"
   ]
  },
  {
   "cell_type": "markdown",
   "id": "4ab3648a-9619-4d70-9527-7e66962f9bdd",
   "metadata": {},
   "source": [
    "`-` 빼기(-)연산 "
   ]
  },
  {
   "cell_type": "code",
   "execution_count": 92,
   "id": "23e774f6-7d05-4c14-b1f8-92d3b5ef351f",
   "metadata": {},
   "outputs": [
    {
     "ename": "TypeError",
     "evalue": "unsupported operand type(s) for -: 'str' and 'str'",
     "output_type": "error",
     "traceback": [
      "\u001b[0;31m---------------------------------------------------------------------------\u001b[0m",
      "\u001b[0;31mTypeError\u001b[0m                                 Traceback (most recent call last)",
      "Input \u001b[0;32mIn [92]\u001b[0m, in \u001b[0;36m<module>\u001b[0;34m\u001b[0m\n\u001b[1;32m      1\u001b[0m a\u001b[38;5;241m=\u001b[39m\u001b[38;5;124m'\u001b[39m\u001b[38;5;124mX2\u001b[39m\u001b[38;5;124m'\u001b[39m\n\u001b[1;32m      2\u001b[0m b\u001b[38;5;241m=\u001b[39m\u001b[38;5;124m'\u001b[39m\u001b[38;5;124m2\u001b[39m\u001b[38;5;124m'\u001b[39m\n\u001b[0;32m----> 3\u001b[0m \u001b[43ma\u001b[49m\u001b[38;5;241;43m-\u001b[39;49m\u001b[43mb\u001b[49m\n",
      "\u001b[0;31mTypeError\u001b[0m: unsupported operand type(s) for -: 'str' and 'str'"
     ]
    }
   ],
   "source": [
    "a='X2'\n",
    "b='2'\n",
    "a-b"
   ]
  },
  {
   "cell_type": "markdown",
   "id": "a1a83bf1-49f8-49b3-a3bf-05a340532d29",
   "metadata": {},
   "source": [
    "- 이런건 없다. "
   ]
  },
  {
   "cell_type": "markdown",
   "id": "93ba6990-3c92-438a-84ae-40081241d68e",
   "metadata": {},
   "source": [
    "`-` 곱하기(*)연산"
   ]
  },
  {
   "cell_type": "code",
   "execution_count": 93,
   "id": "95dd66cf-c692-40b5-8ef4-ad6ee2d57379",
   "metadata": {},
   "outputs": [],
   "source": [
    "a='X'"
   ]
  },
  {
   "cell_type": "code",
   "execution_count": 94,
   "id": "fb3a01ac-28ea-431f-8e6b-89468587948c",
   "metadata": {},
   "outputs": [
    {
     "data": {
      "text/plain": [
       "'XXX'"
      ]
     },
     "execution_count": 94,
     "metadata": {},
     "output_type": "execute_result"
    }
   ],
   "source": [
    "a+a+a"
   ]
  },
  {
   "cell_type": "code",
   "execution_count": 95,
   "id": "2206ea1e-9c5e-4c51-aa01-308e8845ec9c",
   "metadata": {},
   "outputs": [
    {
     "data": {
      "text/plain": [
       "'XXX'"
      ]
     },
     "execution_count": 95,
     "metadata": {},
     "output_type": "execute_result"
    }
   ],
   "source": [
    "a*3 # a*3 = a+a+a = 'X'+'X+'X'"
   ]
  },
  {
   "cell_type": "markdown",
   "id": "19a0da7e-e2dd-40a4-8164-a13d5ca4aa7b",
   "metadata": {},
   "source": [
    "아래도 가능하다. "
   ]
  },
  {
   "cell_type": "code",
   "execution_count": 96,
   "id": "5afac3cf-0c99-42f1-acc8-b008416eb433",
   "metadata": {},
   "outputs": [
    {
     "data": {
      "text/plain": [
       "'XXX'"
      ]
     },
     "execution_count": 96,
     "metadata": {},
     "output_type": "execute_result"
    }
   ],
   "source": [
    "3*a"
   ]
  },
  {
   "cell_type": "markdown",
   "id": "8677d6d7-a3f6-4e63-90d4-509a163677b9",
   "metadata": {},
   "source": [
    "그리고 아래도 가능하다. "
   ]
  },
  {
   "cell_type": "code",
   "execution_count": 97,
   "id": "8677606d-9cd0-425d-a352-5194cd10af37",
   "metadata": {},
   "outputs": [
    {
     "data": {
      "text/plain": [
       "'XXX'"
      ]
     },
     "execution_count": 97,
     "metadata": {},
     "output_type": "execute_result"
    }
   ],
   "source": [
    "a='X'\n",
    "b=3 \n",
    "a*b"
   ]
  },
  {
   "cell_type": "markdown",
   "id": "dc8a5613-a948-4f60-9190-13a926dbd34c",
   "metadata": {},
   "source": [
    "대신에 의미상 맞지 않는 것은 수행되지 않고 에러가 난다. "
   ]
  },
  {
   "cell_type": "code",
   "execution_count": 98,
   "id": "3dda6310-73de-43b8-9c68-fe0da3683d11",
   "metadata": {},
   "outputs": [
    {
     "data": {
      "text/plain": [
       "'XY'"
      ]
     },
     "execution_count": 98,
     "metadata": {},
     "output_type": "execute_result"
    }
   ],
   "source": [
    "a='X'\n",
    "b='Y'\n",
    "a+b"
   ]
  },
  {
   "cell_type": "code",
   "execution_count": 99,
   "id": "2184ff3c-3cbb-4024-b2ac-f29dec5527de",
   "metadata": {},
   "outputs": [
    {
     "ename": "TypeError",
     "evalue": "can't multiply sequence by non-int of type 'str'",
     "output_type": "error",
     "traceback": [
      "\u001b[0;31m---------------------------------------------------------------------------\u001b[0m",
      "\u001b[0;31mTypeError\u001b[0m                                 Traceback (most recent call last)",
      "Input \u001b[0;32mIn [99]\u001b[0m, in \u001b[0;36m<module>\u001b[0;34m\u001b[0m\n\u001b[0;32m----> 1\u001b[0m \u001b[43ma\u001b[49m\u001b[38;5;241;43m*\u001b[39;49m\u001b[43mb\u001b[49m\n",
      "\u001b[0;31mTypeError\u001b[0m: can't multiply sequence by non-int of type 'str'"
     ]
    }
   ],
   "source": [
    "a*b"
   ]
  },
  {
   "cell_type": "markdown",
   "id": "737f6120-1ffa-4da1-bd51-7ac40f2784ec",
   "metadata": {},
   "source": [
    "`-` 나눗셈(/)연산 "
   ]
  },
  {
   "cell_type": "code",
   "execution_count": 100,
   "id": "77f22e63-661b-4200-ab01-d24f92046de2",
   "metadata": {},
   "outputs": [],
   "source": [
    "a='XX'"
   ]
  },
  {
   "cell_type": "code",
   "execution_count": 101,
   "id": "107e7c94-e358-449c-8a92-b740be09420a",
   "metadata": {},
   "outputs": [
    {
     "ename": "TypeError",
     "evalue": "unsupported operand type(s) for /: 'str' and 'int'",
     "output_type": "error",
     "traceback": [
      "\u001b[0;31m---------------------------------------------------------------------------\u001b[0m",
      "\u001b[0;31mTypeError\u001b[0m                                 Traceback (most recent call last)",
      "Input \u001b[0;32mIn [101]\u001b[0m, in \u001b[0;36m<module>\u001b[0;34m\u001b[0m\n\u001b[0;32m----> 1\u001b[0m \u001b[43ma\u001b[49m\u001b[38;5;241;43m/\u001b[39;49m\u001b[38;5;241;43m2\u001b[39;49m\n",
      "\u001b[0;31mTypeError\u001b[0m: unsupported operand type(s) for /: 'str' and 'int'"
     ]
    }
   ],
   "source": [
    "a/2"
   ]
  },
  {
   "cell_type": "markdown",
   "id": "a45e90f8-a0c2-4753-9479-986e56c8425e",
   "metadata": {},
   "source": [
    "- 이런건 없다.. "
   ]
  },
  {
   "cell_type": "markdown",
   "id": "ae5c40a5-70b1-40ee-be41-c920373e5396",
   "metadata": {},
   "source": [
    "## 인덱싱"
   ]
  },
  {
   "cell_type": "markdown",
   "id": "4bb658f3-4576-4c0e-a4cd-bf331f8aa7e4",
   "metadata": {},
   "source": [
    "`-` str은 하나의 벡터 문자가 여러개 있는 형태라고 생각하면 된다. "
   ]
  },
  {
   "cell_type": "code",
   "execution_count": 102,
   "id": "79a5950b-59bb-47e2-9941-53f7d05252bc",
   "metadata": {},
   "outputs": [],
   "source": [
    "a='guebin'"
   ]
  },
  {
   "cell_type": "code",
   "execution_count": 103,
   "id": "0305d453-7997-4df1-9845-d3d01a6ae94c",
   "metadata": {},
   "outputs": [
    {
     "data": {
      "text/plain": [
       "'guebin'"
      ]
     },
     "execution_count": 103,
     "metadata": {},
     "output_type": "execute_result"
    }
   ],
   "source": [
    "a"
   ]
  },
  {
   "cell_type": "markdown",
   "id": "2f4c34c3-efe5-4fed-81e4-b5b4c94d1aca",
   "metadata": {},
   "source": [
    "- 6개의 칸에 글씨가 하나씩 들어가 있음. "
   ]
  },
  {
   "cell_type": "markdown",
   "id": "e50eae61-5a25-4d2a-a67f-eda4ca5b5eff",
   "metadata": {},
   "source": [
    "`-` 대괄호 `[]`안에 숫자를 넣는 방식으로 벡터의 원소를 호출할 수 있다. (주의: 인덱스가 0부터 시작함) "
   ]
  },
  {
   "cell_type": "code",
   "execution_count": 110,
   "id": "0c20884b-a3cb-4677-9103-71384adc19b2",
   "metadata": {},
   "outputs": [
    {
     "data": {
      "text/plain": [
       "'g'"
      ]
     },
     "execution_count": 110,
     "metadata": {},
     "output_type": "execute_result"
    }
   ],
   "source": [
    "a[0] #첫번째원소"
   ]
  },
  {
   "cell_type": "code",
   "execution_count": 111,
   "id": "cc5d7fb3-a143-4c89-998a-ada55a958ba1",
   "metadata": {},
   "outputs": [
    {
     "data": {
      "text/plain": [
       "'u'"
      ]
     },
     "execution_count": 111,
     "metadata": {},
     "output_type": "execute_result"
    }
   ],
   "source": [
    "a[1] #두번째원소 "
   ]
  },
  {
   "cell_type": "markdown",
   "id": "dc449b03-465c-42c1-9c48-4e2cea4bd67c",
   "metadata": {},
   "source": [
    "마지막원소는 -1로 호출할 수도 있다. "
   ]
  },
  {
   "cell_type": "code",
   "execution_count": 114,
   "id": "18d020ce-b09d-4a90-918c-58276c13544c",
   "metadata": {},
   "outputs": [
    {
     "data": {
      "text/plain": [
       "'n'"
      ]
     },
     "execution_count": 114,
     "metadata": {},
     "output_type": "execute_result"
    }
   ],
   "source": [
    "a[-1]"
   ]
  },
  {
   "cell_type": "markdown",
   "id": "1c5989a5-c6d8-4561-b755-6b37cfac65fa",
   "metadata": {},
   "source": [
    "마지막에서 2번째 원소는 -2로 호출가능하다. "
   ]
  },
  {
   "cell_type": "code",
   "execution_count": 115,
   "id": "85e70a24-25b6-4a6c-b5eb-953ca74241cb",
   "metadata": {},
   "outputs": [
    {
     "data": {
      "text/plain": [
       "'i'"
      ]
     },
     "execution_count": 115,
     "metadata": {},
     "output_type": "execute_result"
    }
   ],
   "source": [
    "a[-2]"
   ]
  },
  {
   "cell_type": "markdown",
   "id": "7b368bfb-a812-4117-8af9-08e0451a048c",
   "metadata": {},
   "source": [
    "`-` 요약하면 아래와 같은 방식으로 호출가능함. "
   ]
  },
  {
   "cell_type": "markdown",
   "id": "530cf6ae-2f71-4efa-ad26-75a43b62eedb",
   "metadata": {},
   "source": [
    "|g|u|e|b|i|n|\n",
    "|:-:|:-:|:-:|:-:|:-:|:-:|\n",
    "|0|1|2|3|4|5|\n",
    "|0|-5|-4|-3|-2|-1|"
   ]
  },
  {
   "cell_type": "code",
   "execution_count": 120,
   "id": "0a8ade8b-88df-463b-88c7-14e8de1f7fff",
   "metadata": {},
   "outputs": [
    {
     "data": {
      "text/plain": [
       "'i'"
      ]
     },
     "execution_count": 120,
     "metadata": {},
     "output_type": "execute_result"
    }
   ],
   "source": [
    "a[4]"
   ]
  },
  {
   "cell_type": "code",
   "execution_count": 121,
   "id": "d31d3740-d7bc-41bb-a9d9-bc21fee57e36",
   "metadata": {},
   "outputs": [
    {
     "data": {
      "text/plain": [
       "'i'"
      ]
     },
     "execution_count": 121,
     "metadata": {},
     "output_type": "execute_result"
    }
   ],
   "source": [
    "a[-2]"
   ]
  },
  {
   "cell_type": "code",
   "execution_count": 123,
   "id": "cc5e4f41-e7cf-4ba8-9e62-cad834da57d8",
   "metadata": {},
   "outputs": [
    {
     "data": {
      "text/plain": [
       "'e'"
      ]
     },
     "execution_count": 123,
     "metadata": {},
     "output_type": "execute_result"
    }
   ],
   "source": [
    "a[-4]"
   ]
  },
  {
   "cell_type": "markdown",
   "id": "0e0347ec-c414-42ef-a0bd-370303be13b7",
   "metadata": {},
   "source": [
    "`-` `:`을 이용하여 여러개의 원소를 호출할 수 있음. "
   ]
  },
  {
   "cell_type": "code",
   "execution_count": 124,
   "id": "62fe50e4-71e5-4f54-8a9a-bb6954cf52cd",
   "metadata": {},
   "outputs": [],
   "source": [
    "a='guebin'"
   ]
  },
  {
   "cell_type": "code",
   "execution_count": 126,
   "id": "a5c7057c-e167-45a2-988f-b48aab9b44e2",
   "metadata": {},
   "outputs": [
    {
     "data": {
      "text/plain": [
       "'gue'"
      ]
     },
     "execution_count": 126,
     "metadata": {},
     "output_type": "execute_result"
    }
   ],
   "source": [
    "a[0:3] # a[0],a[1],a[2],a[3]이 아니라 a[0],a[1],a[2]까지만 뽑힌다. 즉 마지막의 3은 호출되지 않는다. "
   ]
  },
  {
   "cell_type": "code",
   "execution_count": 128,
   "id": "0d69e7dc-4b06-4c59-9e6b-039629b86f43",
   "metadata": {},
   "outputs": [
    {
     "data": {
      "text/plain": [
       "'ue'"
      ]
     },
     "execution_count": 128,
     "metadata": {},
     "output_type": "execute_result"
    }
   ],
   "source": [
    "a[1:3] # a[1], a[2] 만 호출 // start=1,  stop=3 "
   ]
  },
  {
   "cell_type": "markdown",
   "id": "deb68bf1-bbc9-4682-8d26-5e34df391cdb",
   "metadata": {},
   "source": [
    "index=1부터 시작해서 마지막원소까지 호출하려면? "
   ]
  },
  {
   "cell_type": "code",
   "execution_count": 130,
   "id": "ac81185d-9137-448e-944b-881eb0ec698b",
   "metadata": {},
   "outputs": [
    {
     "data": {
      "text/plain": [
       "'n'"
      ]
     },
     "execution_count": 130,
     "metadata": {},
     "output_type": "execute_result"
    }
   ],
   "source": [
    "a[5] # guebin의 마지막원소 'n'이 출려 "
   ]
  },
  {
   "cell_type": "code",
   "execution_count": 135,
   "id": "cff760ab-17f2-4d3e-bb67-81020304f53a",
   "metadata": {},
   "outputs": [
    {
     "data": {
      "text/plain": [
       "'uebi'"
      ]
     },
     "execution_count": 135,
     "metadata": {},
     "output_type": "execute_result"
    }
   ],
   "source": [
    "a[1:5] # 5는 포함되지 않으므로 틀림"
   ]
  },
  {
   "cell_type": "code",
   "execution_count": 136,
   "id": "755d4763-1455-4911-abdf-54c7a01e57e5",
   "metadata": {},
   "outputs": [
    {
     "data": {
      "text/plain": [
       "'uebin'"
      ]
     },
     "execution_count": 136,
     "metadata": {},
     "output_type": "execute_result"
    }
   ],
   "source": [
    "a[1:6] # 정답"
   ]
  },
  {
   "cell_type": "markdown",
   "id": "e2726777-16bd-43fe-bbd3-7a1476f3da74",
   "metadata": {},
   "source": [
    "안 헷갈리는 방법은 없을까? "
   ]
  },
  {
   "cell_type": "code",
   "execution_count": 137,
   "id": "8ff66e01-8a01-4d38-8587-2e249977f477",
   "metadata": {},
   "outputs": [
    {
     "data": {
      "text/plain": [
       "'n'"
      ]
     },
     "execution_count": 137,
     "metadata": {},
     "output_type": "execute_result"
    }
   ],
   "source": [
    "a[-1]"
   ]
  },
  {
   "cell_type": "code",
   "execution_count": 139,
   "id": "640b35f4-1fed-47ce-9fd7-a92f0d51d6f3",
   "metadata": {},
   "outputs": [
    {
     "data": {
      "text/plain": [
       "'uebi'"
      ]
     },
     "execution_count": 139,
     "metadata": {},
     "output_type": "execute_result"
    }
   ],
   "source": [
    "a[1:-1] # 이것은 결국 (a[1:5]와 같은 것임) "
   ]
  },
  {
   "cell_type": "markdown",
   "id": "92d12cc8-c408-494c-93af-f89a32cec805",
   "metadata": {},
   "source": [
    "해결책? 생략한다!!"
   ]
  },
  {
   "cell_type": "code",
   "execution_count": 140,
   "id": "3ec43f1f-488f-4773-933d-9ff06b884772",
   "metadata": {},
   "outputs": [
    {
     "data": {
      "text/plain": [
       "'uebin'"
      ]
     },
     "execution_count": 140,
     "metadata": {},
     "output_type": "execute_result"
    }
   ],
   "source": [
    "a[1:]"
   ]
  },
  {
   "cell_type": "markdown",
   "id": "1f40fafa-6fc8-4765-aaa5-6535af7981f3",
   "metadata": {},
   "source": [
    "`-` 생략의 응용1"
   ]
  },
  {
   "cell_type": "code",
   "execution_count": 158,
   "id": "58d29252-8cd3-431e-b6fa-e63c85ef37e3",
   "metadata": {},
   "outputs": [
    {
     "data": {
      "text/plain": [
       "'k-pop'"
      ]
     },
     "execution_count": 158,
     "metadata": {},
     "output_type": "execute_result"
    }
   ],
   "source": [
    "a='k-pop' \n",
    "a"
   ]
  },
  {
   "cell_type": "code",
   "execution_count": 159,
   "id": "5d83b129-2cee-40b4-b2a0-d3c40aff0f0d",
   "metadata": {},
   "outputs": [
    {
     "data": {
      "text/plain": [
       "'pop'"
      ]
     },
     "execution_count": 159,
     "metadata": {},
     "output_type": "execute_result"
    }
   ],
   "source": [
    "a[2:5]"
   ]
  },
  {
   "cell_type": "code",
   "execution_count": 160,
   "id": "3195fc64-eff8-4664-aae1-c7a3513bc4b8",
   "metadata": {},
   "outputs": [
    {
     "data": {
      "text/plain": [
       "'pop'"
      ]
     },
     "execution_count": 160,
     "metadata": {},
     "output_type": "execute_result"
    }
   ],
   "source": [
    "a[2:]"
   ]
  },
  {
   "cell_type": "markdown",
   "id": "9b0ea17f-4c16-4eab-a780-50b5c8009b47",
   "metadata": {},
   "source": [
    "`-` 생략의 응용2"
   ]
  },
  {
   "cell_type": "code",
   "execution_count": 161,
   "id": "1956b74a-9928-4325-afdb-a30d964b1b78",
   "metadata": {},
   "outputs": [
    {
     "data": {
      "text/plain": [
       "'k-pop'"
      ]
     },
     "execution_count": 161,
     "metadata": {},
     "output_type": "execute_result"
    }
   ],
   "source": [
    "a='k-pop'\n",
    "a"
   ]
  },
  {
   "cell_type": "code",
   "execution_count": 163,
   "id": "69e55965-b902-49eb-afe9-de61885cba2e",
   "metadata": {},
   "outputs": [
    {
     "data": {
      "text/plain": [
       "'k-'"
      ]
     },
     "execution_count": 163,
     "metadata": {},
     "output_type": "execute_result"
    }
   ],
   "source": [
    "a[0:2] # a[0],a[1]"
   ]
  },
  {
   "cell_type": "code",
   "execution_count": 165,
   "id": "0b57d2ab-3d16-4761-848b-c8f742431513",
   "metadata": {},
   "outputs": [
    {
     "data": {
      "text/plain": [
       "'k-'"
      ]
     },
     "execution_count": 165,
     "metadata": {},
     "output_type": "execute_result"
    }
   ],
   "source": [
    "a[:2] # a[0],a[1] "
   ]
  },
  {
   "cell_type": "markdown",
   "id": "368aa591-9801-4940-8977-177c2357f939",
   "metadata": {},
   "source": [
    "`-` 생략의 응용3"
   ]
  },
  {
   "cell_type": "code",
   "execution_count": 166,
   "id": "7ec04af6-d7f6-4ebe-97f8-e670bf4142b2",
   "metadata": {},
   "outputs": [
    {
     "data": {
      "text/plain": [
       "'k-pop'"
      ]
     },
     "execution_count": 166,
     "metadata": {},
     "output_type": "execute_result"
    }
   ],
   "source": [
    "a='k-pop'\n",
    "a"
   ]
  },
  {
   "cell_type": "code",
   "execution_count": 170,
   "id": "e251c5d4-b724-4674-806a-5b3cc2490db0",
   "metadata": {},
   "outputs": [
    {
     "data": {
      "text/plain": [
       "'k-pop'"
      ]
     },
     "execution_count": 170,
     "metadata": {},
     "output_type": "execute_result"
    }
   ],
   "source": [
    "a[0:5] # a[0],...,a[4]"
   ]
  },
  {
   "cell_type": "code",
   "execution_count": 169,
   "id": "70f8a025-5ae8-4e03-bedc-e79c8a25d151",
   "metadata": {},
   "outputs": [
    {
     "data": {
      "text/plain": [
       "'k-pop'"
      ]
     },
     "execution_count": 169,
     "metadata": {},
     "output_type": "execute_result"
    }
   ],
   "source": [
    "a[:]"
   ]
  },
  {
   "cell_type": "markdown",
   "id": "ca455932-0562-4630-83f2-f88cdf602746",
   "metadata": {},
   "source": [
    "## str 특수기능 "
   ]
  },
  {
   "cell_type": "markdown",
   "id": "926de996-fd15-4631-a6d0-3951081005fd",
   "metadata": {},
   "source": [
    "`-` 파이썬의 변수는 단순히 정보를 담는 그릇이 아니다. 유용한 기능을 제공하는 경우가 있다. "
   ]
  },
  {
   "cell_type": "code",
   "execution_count": 187,
   "id": "4f7ed308-37da-4d2d-8acd-5a4980a47abe",
   "metadata": {},
   "outputs": [
    {
     "data": {
      "text/plain": [
       "'ABCD'"
      ]
     },
     "execution_count": 187,
     "metadata": {},
     "output_type": "execute_result"
    }
   ],
   "source": [
    "a='ABCD' # a라는 변수는 'ABCD'라는 정보를 담는 그릇의 역할만 하지 않고, 특화된 어떠한 기능도 제공한다. \n",
    "a"
   ]
  },
  {
   "cell_type": "code",
   "execution_count": 188,
   "id": "49c16c42-9833-4d27-bc1a-f087121956d3",
   "metadata": {},
   "outputs": [
    {
     "data": {
      "text/plain": [
       "'abcd'"
      ]
     },
     "execution_count": 188,
     "metadata": {},
     "output_type": "execute_result"
    }
   ],
   "source": [
    "a.lower() # a.lower()를 쓰면 a의 모든 문자를 소문자로 바꾸는 기능을 제공, lower(a)라고 읽자!"
   ]
  },
  {
   "cell_type": "markdown",
   "id": "7c85e931-6f80-47a3-8a70-f11b18edc6ef",
   "metadata": {},
   "source": [
    "여기에서 lower()는 문자열에 특화된 기능임. 따라서 당연히 아래는 불가능 "
   ]
  },
  {
   "cell_type": "code",
   "execution_count": 194,
   "id": "467117d1-7157-4f67-8189-883625c13d7e",
   "metadata": {},
   "outputs": [
    {
     "ename": "AttributeError",
     "evalue": "'float' object has no attribute 'lower'",
     "output_type": "error",
     "traceback": [
      "\u001b[0;31m---------------------------------------------------------------------------\u001b[0m",
      "\u001b[0;31mAttributeError\u001b[0m                            Traceback (most recent call last)",
      "Input \u001b[0;32mIn [194]\u001b[0m, in \u001b[0;36m<module>\u001b[0;34m\u001b[0m\n\u001b[1;32m      1\u001b[0m a\u001b[38;5;241m=\u001b[39m\u001b[38;5;241m3.14\u001b[39m\n\u001b[0;32m----> 2\u001b[0m \u001b[43ma\u001b[49m\u001b[38;5;241;43m.\u001b[39;49m\u001b[43mlower\u001b[49m()\n",
      "\u001b[0;31mAttributeError\u001b[0m: 'float' object has no attribute 'lower'"
     ]
    }
   ],
   "source": [
    "a=3.14\n",
    "a.lower() # lower(a)"
   ]
  },
  {
   "cell_type": "markdown",
   "id": "91e087db-91b8-4e9a-8d0a-db939612d430",
   "metadata": {},
   "source": [
    "`-` 자료형에 특화된 기능(=함수)을 확인하는 방법? `a.`+ `tab` 으로 목록 확인 가능 "
   ]
  },
  {
   "cell_type": "code",
   "execution_count": 195,
   "id": "c9965258-c6be-41fe-9739-9281296be760",
   "metadata": {},
   "outputs": [],
   "source": [
    "a='guebin'"
   ]
  },
  {
   "cell_type": "code",
   "execution_count": 191,
   "id": "301f3fb7-cac2-4cf0-9fdf-f83bd1b0ac97",
   "metadata": {},
   "outputs": [
    {
     "data": {
      "text/plain": [
       "\u001b[0;31mSignature:\u001b[0m \u001b[0ma\u001b[0m\u001b[0;34m.\u001b[0m\u001b[0mupper\u001b[0m\u001b[0;34m(\u001b[0m\u001b[0;34m)\u001b[0m\u001b[0;34m\u001b[0m\u001b[0;34m\u001b[0m\u001b[0m\n",
       "\u001b[0;31mDocstring:\u001b[0m Return a copy of the string converted to uppercase.\n",
       "\u001b[0;31mType:\u001b[0m      builtin_function_or_method\n"
      ]
     },
     "metadata": {},
     "output_type": "display_data"
    }
   ],
   "source": [
    "a.upper?"
   ]
  },
  {
   "cell_type": "code",
   "execution_count": 192,
   "id": "f8af36d2-2f22-426a-a6b7-a83d51ee9aef",
   "metadata": {},
   "outputs": [
    {
     "data": {
      "text/plain": [
       "'GUEBIN'"
      ]
     },
     "execution_count": 192,
     "metadata": {},
     "output_type": "execute_result"
    }
   ],
   "source": [
    "a.upper() # upper(a) "
   ]
  },
  {
   "cell_type": "code",
   "execution_count": 193,
   "id": "0f91d3e0-d258-4b4c-a354-18fa05e6d4dd",
   "metadata": {},
   "outputs": [
    {
     "data": {
      "text/plain": [
       "'Guebin'"
      ]
     },
     "execution_count": 193,
     "metadata": {},
     "output_type": "execute_result"
    }
   ],
   "source": [
    "a.capitalize() # capitalize(a) "
   ]
  },
  {
   "cell_type": "markdown",
   "id": "025eaf50-e4be-4bee-9b6b-a7d206e4b42d",
   "metadata": {},
   "source": [
    "`-` 문자열에 대한 다른 내용들은 추후에 다루겠음. "
   ]
  },
  {
   "cell_type": "markdown",
   "id": "40e016d1-b11a-411a-a5af-dee051967576",
   "metadata": {},
   "source": [
    "`-` 마음의눈: `a.f()` 형태를 읽는 팁\n",
    "\n",
    "- `a.f()`는 `f(a)`로 생각하면 편리함. \n",
    "- `a.f(2)`는 `f(a,2)`로 생각하면 편리함. \n",
    "- 이런점에서 R `%>%` 연산자와 비슷하다고 생각할 수 있다. (약간 다르긴함) "
   ]
  },
  {
   "cell_type": "markdown",
   "id": "47debfd1-e574-40b0-8e7e-7e08a5f34675",
   "metadata": {},
   "source": [
    "`-` 사실 `.`은 좀 더 다양한 상황에서 쓰일 수 있다. `변수이름.함수이름()` 의 형태가 아니라 \n",
    "\n",
    "- `패지키이름.함수이름()`\n",
    "- `패키지이름.변수이름` \n",
    "- `패키지이름.패키지이름.함수이름()` \n",
    "- ... \n",
    "\n",
    "와 같이 다양한 형태가 가능하다. 근본적인 공통점은 `.`을 기준으로 `상위개념.하위개념` 으로 이해하는 것이 좋다. "
   ]
  },
  {
   "cell_type": "markdown",
   "id": "59889d13-f489-4261-80b4-1e9a4915d56e",
   "metadata": {},
   "source": [
    "## len"
   ]
  },
  {
   "cell_type": "markdown",
   "id": "45881431-d02c-4ba0-8329-893ea2f9d345",
   "metadata": {},
   "source": [
    "`-` `len`함수 소개: 원소의 갯수를 알려주는 함수. "
   ]
  },
  {
   "cell_type": "code",
   "execution_count": 10,
   "id": "491c469d-1a5a-45fe-9c83-28e4b3e4ff2d",
   "metadata": {},
   "outputs": [
    {
     "data": {
      "text/plain": [
       "4"
      ]
     },
     "execution_count": 10,
     "metadata": {},
     "output_type": "execute_result"
    }
   ],
   "source": [
    "a='ABCD' \n",
    "len(a)"
   ]
  },
  {
   "cell_type": "markdown",
   "id": "57643c3b-cd3c-4ac6-a199-b3acc1153c0d",
   "metadata": {},
   "source": [
    "`-` 참고: len은 0차원 변수형에서는 동작하지 않고 1차원 변수형에서만 동작한다. "
   ]
  },
  {
   "cell_type": "markdown",
   "id": "b01e45be-0724-400d-83ec-fcc7eff931b9",
   "metadata": {},
   "source": [
    "(0차원) `len` 함수가 동작하지 않음."
   ]
  },
  {
   "cell_type": "code",
   "execution_count": 11,
   "id": "3a11e307-85e2-4194-aeeb-f8d6363c3a26",
   "metadata": {},
   "outputs": [],
   "source": [
    "a=3.14"
   ]
  },
  {
   "cell_type": "code",
   "execution_count": 12,
   "id": "0daa3095-7acc-4860-8f68-7a6f5d46a3f6",
   "metadata": {},
   "outputs": [
    {
     "ename": "TypeError",
     "evalue": "object of type 'float' has no len()",
     "output_type": "error",
     "traceback": [
      "\u001b[0;31m---------------------------------------------------------------------------\u001b[0m",
      "\u001b[0;31mTypeError\u001b[0m                                 Traceback (most recent call last)",
      "Cell \u001b[0;32mIn[12], line 1\u001b[0m\n\u001b[0;32m----> 1\u001b[0m \u001b[38;5;28;43mlen\u001b[39;49m\u001b[43m(\u001b[49m\u001b[43ma\u001b[49m\u001b[43m)\u001b[49m\n",
      "\u001b[0;31mTypeError\u001b[0m: object of type 'float' has no len()"
     ]
    }
   ],
   "source": [
    "len(a)"
   ]
  },
  {
   "cell_type": "code",
   "execution_count": 13,
   "id": "83746dc1-87e1-47ad-8ba1-5cfaff4d2a3a",
   "metadata": {},
   "outputs": [],
   "source": [
    "b=True"
   ]
  },
  {
   "cell_type": "code",
   "execution_count": 14,
   "id": "3354bca3-b748-4e17-a44f-30eec029533c",
   "metadata": {},
   "outputs": [
    {
     "ename": "TypeError",
     "evalue": "object of type 'bool' has no len()",
     "output_type": "error",
     "traceback": [
      "\u001b[0;31m---------------------------------------------------------------------------\u001b[0m",
      "\u001b[0;31mTypeError\u001b[0m                                 Traceback (most recent call last)",
      "Cell \u001b[0;32mIn[14], line 1\u001b[0m\n\u001b[0;32m----> 1\u001b[0m \u001b[38;5;28;43mlen\u001b[39;49m\u001b[43m(\u001b[49m\u001b[43mb\u001b[49m\u001b[43m)\u001b[49m\n",
      "\u001b[0;31mTypeError\u001b[0m: object of type 'bool' has no len()"
     ]
    }
   ],
   "source": [
    "len(b)"
   ]
  },
  {
   "cell_type": "markdown",
   "id": "60b49d16-e014-470e-a340-9366eb4a5c54",
   "metadata": {},
   "source": [
    "(1차원) `len` 함수가 잘 동작함. "
   ]
  },
  {
   "cell_type": "code",
   "execution_count": 15,
   "id": "9b28a788-f91c-481b-aed8-4ba1a9916c35",
   "metadata": {},
   "outputs": [
    {
     "data": {
      "text/plain": [
       "4"
      ]
     },
     "execution_count": 15,
     "metadata": {},
     "output_type": "execute_result"
    }
   ],
   "source": [
    "a='3.14'\n",
    "len(a)"
   ]
  },
  {
   "cell_type": "code",
   "execution_count": 16,
   "id": "a999f4d6-5cf5-4b9c-8b34-b8a2ab35f9ad",
   "metadata": {},
   "outputs": [],
   "source": [
    "b=[1,2,3]"
   ]
  },
  {
   "cell_type": "code",
   "execution_count": 17,
   "id": "9d607870-3baa-4288-91d4-4a0991480b15",
   "metadata": {},
   "outputs": [
    {
     "data": {
      "text/plain": [
       "3"
      ]
     },
     "execution_count": 17,
     "metadata": {},
     "output_type": "execute_result"
    }
   ],
   "source": [
    "len(b)"
   ]
  },
  {
   "cell_type": "markdown",
   "id": "b8ea29f6-7ae2-4e7d-92c0-29daff7023f1",
   "metadata": {},
   "source": [
    "# list 기본내용"
   ]
  },
  {
   "cell_type": "markdown",
   "id": "d6cdf1d6-4668-4735-953e-55c482fc3e0a",
   "metadata": {},
   "source": [
    "## 선언 "
   ]
  },
  {
   "cell_type": "markdown",
   "id": "ed6f967e-fa5a-4b5a-bdc0-daf8aee66d97",
   "metadata": {},
   "source": [
    "`-` 리스트의 선언"
   ]
  },
  {
   "cell_type": "code",
   "execution_count": 1,
   "id": "1a866b23-4201-4f0b-8656-14fff0227e9c",
   "metadata": {},
   "outputs": [
    {
     "data": {
      "text/plain": [
       "[11, 22]"
      ]
     },
     "execution_count": 1,
     "metadata": {},
     "output_type": "execute_result"
    }
   ],
   "source": [
    "a=[11,22]\n",
    "a"
   ]
  },
  {
   "cell_type": "code",
   "execution_count": 2,
   "id": "f4393746-24f0-4fd4-bf37-2c30936407cc",
   "metadata": {},
   "outputs": [
    {
     "data": {
      "text/plain": [
       "list"
      ]
     },
     "execution_count": 2,
     "metadata": {},
     "output_type": "execute_result"
    }
   ],
   "source": [
    "type(a)"
   ]
  },
  {
   "cell_type": "markdown",
   "id": "bddf5320-3072-4b52-a276-a3355ce19052",
   "metadata": {},
   "source": [
    "`-` 비어있는 리스트의 선언 "
   ]
  },
  {
   "cell_type": "code",
   "execution_count": 3,
   "id": "04ba9ec3-7af2-4da6-a4df-edb7f984f54b",
   "metadata": {},
   "outputs": [
    {
     "data": {
      "text/plain": [
       "[]"
      ]
     },
     "execution_count": 3,
     "metadata": {},
     "output_type": "execute_result"
    }
   ],
   "source": [
    "a=[] # 방법1\n",
    "a"
   ]
  },
  {
   "cell_type": "code",
   "execution_count": 4,
   "id": "c7303220-bfeb-4689-af4e-a09876b8ba18",
   "metadata": {},
   "outputs": [
    {
     "data": {
      "text/plain": [
       "[]"
      ]
     },
     "execution_count": 4,
     "metadata": {},
     "output_type": "execute_result"
    }
   ],
   "source": [
    "a=list() # 방법2\n",
    "a"
   ]
  },
  {
   "cell_type": "markdown",
   "id": "baee1b6e-ecf1-42c5-9a5c-203f23bbc90e",
   "metadata": {},
   "source": [
    "## 연산 "
   ]
  },
  {
   "cell_type": "markdown",
   "id": "59932ece-5161-4132-ad5d-e4ac375dcd87",
   "metadata": {},
   "source": [
    "`-` 더하기연산 "
   ]
  },
  {
   "cell_type": "code",
   "execution_count": 5,
   "id": "fea32fc9-1ab1-4e15-8a93-5003e51cb57a",
   "metadata": {},
   "outputs": [],
   "source": [
    "a=[11,12]\n",
    "b=[12,13]"
   ]
  },
  {
   "cell_type": "code",
   "execution_count": 6,
   "id": "0d5f277f-03ca-4c5c-b7a2-942bfda35ce7",
   "metadata": {},
   "outputs": [
    {
     "data": {
      "text/plain": [
       "[11, 12]"
      ]
     },
     "execution_count": 6,
     "metadata": {},
     "output_type": "execute_result"
    }
   ],
   "source": [
    "a"
   ]
  },
  {
   "cell_type": "code",
   "execution_count": 7,
   "id": "d7a78efa-52e8-44b6-aec6-8d4009d7753a",
   "metadata": {},
   "outputs": [
    {
     "data": {
      "text/plain": [
       "[12, 13]"
      ]
     },
     "execution_count": 7,
     "metadata": {},
     "output_type": "execute_result"
    }
   ],
   "source": [
    "b"
   ]
  },
  {
   "cell_type": "code",
   "execution_count": 8,
   "id": "d6ea4750-b6ae-4166-8861-2cf854d2d296",
   "metadata": {},
   "outputs": [
    {
     "data": {
      "text/plain": [
       "[11, 12, 12, 13]"
      ]
     },
     "execution_count": 8,
     "metadata": {},
     "output_type": "execute_result"
    }
   ],
   "source": [
    "a+b"
   ]
  },
  {
   "cell_type": "markdown",
   "id": "c0333626-1059-4adc-b169-124748b309a8",
   "metadata": {},
   "source": [
    "- 우리의 예상과 다른 결과가 나옴 $\\to$ 파이썬은 R처럼 자체적으로 좋은 계산기능을 내장하고 있지 않음. "
   ]
  },
  {
   "cell_type": "markdown",
   "id": "cd7b7145-ca2a-4ee7-9a34-db5500b2fd9b",
   "metadata": {},
   "source": [
    "`-` 브로드캐스팅과 같이 R에서는 당연히 가능했던 기능을 사용할 수 없음. "
   ]
  },
  {
   "cell_type": "code",
   "execution_count": 9,
   "id": "89510515-bdd4-4c28-a008-fa909db4ee08",
   "metadata": {},
   "outputs": [
    {
     "ename": "TypeError",
     "evalue": "can only concatenate list (not \"int\") to list",
     "output_type": "error",
     "traceback": [
      "\u001b[0;31m---------------------------------------------------------------------------\u001b[0m",
      "\u001b[0;31mTypeError\u001b[0m                                 Traceback (most recent call last)",
      "Input \u001b[0;32mIn [9]\u001b[0m, in \u001b[0;36m<module>\u001b[0;34m\u001b[0m\n\u001b[1;32m      1\u001b[0m a\u001b[38;5;241m=\u001b[39m[\u001b[38;5;241m1\u001b[39m,\u001b[38;5;241m2\u001b[39m,\u001b[38;5;241m3\u001b[39m]\n\u001b[1;32m      2\u001b[0m b\u001b[38;5;241m=\u001b[39m\u001b[38;5;241m1\u001b[39m\n\u001b[0;32m----> 3\u001b[0m \u001b[43ma\u001b[49m\u001b[38;5;241;43m+\u001b[39;49m\u001b[43mb\u001b[49m\n",
      "\u001b[0;31mTypeError\u001b[0m: can only concatenate list (not \"int\") to list"
     ]
    }
   ],
   "source": [
    "a=[1,2,3]\n",
    "b=1\n",
    "a+b"
   ]
  },
  {
   "cell_type": "markdown",
   "id": "7512204d-c877-4e22-b471-9234156d7c7d",
   "metadata": {},
   "source": [
    "`-` 뺄셈은 정의되지 않음 "
   ]
  },
  {
   "cell_type": "code",
   "execution_count": 10,
   "id": "324ed89e-5286-41f7-94ad-14cad1b3c33f",
   "metadata": {},
   "outputs": [
    {
     "ename": "TypeError",
     "evalue": "unsupported operand type(s) for -: 'list' and 'list'",
     "output_type": "error",
     "traceback": [
      "\u001b[0;31m---------------------------------------------------------------------------\u001b[0m",
      "\u001b[0;31mTypeError\u001b[0m                                 Traceback (most recent call last)",
      "Input \u001b[0;32mIn [10]\u001b[0m, in \u001b[0;36m<module>\u001b[0;34m\u001b[0m\n\u001b[1;32m      1\u001b[0m a\u001b[38;5;241m=\u001b[39m[\u001b[38;5;241m1\u001b[39m,\u001b[38;5;241m2\u001b[39m]\n\u001b[1;32m      2\u001b[0m b\u001b[38;5;241m=\u001b[39m[\u001b[38;5;241m1\u001b[39m,\u001b[38;5;241m2\u001b[39m]\n\u001b[0;32m----> 3\u001b[0m \u001b[43ma\u001b[49m\u001b[38;5;241;43m-\u001b[39;49m\u001b[43mb\u001b[49m\n",
      "\u001b[0;31mTypeError\u001b[0m: unsupported operand type(s) for -: 'list' and 'list'"
     ]
    }
   ],
   "source": [
    "a=[1,2]\n",
    "b=[1,2]\n",
    "a-b"
   ]
  },
  {
   "cell_type": "markdown",
   "id": "d282aec8-860e-4161-9d35-7b8a46e939eb",
   "metadata": {},
   "source": [
    "`-` 곱하기는 정의가능 "
   ]
  },
  {
   "cell_type": "code",
   "execution_count": 11,
   "id": "831eae8c-fd6f-4579-b881-3d6adcf05096",
   "metadata": {},
   "outputs": [],
   "source": [
    "a=[1,2]"
   ]
  },
  {
   "cell_type": "code",
   "execution_count": 12,
   "id": "4d1d3ddf-3f40-40d0-ac37-5e7e93e3b21e",
   "metadata": {},
   "outputs": [
    {
     "data": {
      "text/plain": [
       "[1, 2, 1, 2]"
      ]
     },
     "execution_count": 12,
     "metadata": {},
     "output_type": "execute_result"
    }
   ],
   "source": [
    "2*a # a+a "
   ]
  },
  {
   "cell_type": "markdown",
   "id": "94d95505-27a4-43b2-87d3-08ae63985637",
   "metadata": {},
   "source": [
    "`-` 나눗셈은 정의되지 않음 "
   ]
  },
  {
   "cell_type": "code",
   "execution_count": 13,
   "id": "5d236231-6ac2-4bf4-9a33-25c24a8f0686",
   "metadata": {},
   "outputs": [
    {
     "ename": "TypeError",
     "evalue": "unsupported operand type(s) for /: 'list' and 'int'",
     "output_type": "error",
     "traceback": [
      "\u001b[0;31m---------------------------------------------------------------------------\u001b[0m",
      "\u001b[0;31mTypeError\u001b[0m                                 Traceback (most recent call last)",
      "Input \u001b[0;32mIn [13]\u001b[0m, in \u001b[0;36m<module>\u001b[0;34m\u001b[0m\n\u001b[1;32m      1\u001b[0m a\u001b[38;5;241m=\u001b[39m[\u001b[38;5;241m1\u001b[39m,\u001b[38;5;241m2\u001b[39m,\u001b[38;5;241m1\u001b[39m,\u001b[38;5;241m2\u001b[39m]\n\u001b[0;32m----> 2\u001b[0m \u001b[43ma\u001b[49m\u001b[38;5;241;43m/\u001b[39;49m\u001b[38;5;241;43m2\u001b[39;49m\n",
      "\u001b[0;31mTypeError\u001b[0m: unsupported operand type(s) for /: 'list' and 'int'"
     ]
    }
   ],
   "source": [
    "a=[1,2,1,2]\n",
    "a/2"
   ]
  },
  {
   "cell_type": "markdown",
   "id": "ce06c15e-31e1-4c47-801c-377ec432bf5f",
   "metadata": {},
   "source": [
    "`-` 더하기와 곱하기는 원소의 추가와 반복추가를 의미하지만 그렇다고 해서 뺄셈과 나눗셈이 원소의 삭제를 의미하는것은 아님"
   ]
  },
  {
   "cell_type": "code",
   "execution_count": 14,
   "id": "9b68065d-bbb2-422b-9ae9-890c6904fcbd",
   "metadata": {},
   "outputs": [
    {
     "ename": "TypeError",
     "evalue": "unsupported operand type(s) for -: 'list' and 'list'",
     "output_type": "error",
     "traceback": [
      "\u001b[0;31m---------------------------------------------------------------------------\u001b[0m",
      "\u001b[0;31mTypeError\u001b[0m                                 Traceback (most recent call last)",
      "Input \u001b[0;32mIn [14]\u001b[0m, in \u001b[0;36m<module>\u001b[0;34m\u001b[0m\n\u001b[1;32m      1\u001b[0m a\u001b[38;5;241m=\u001b[39m[\u001b[38;5;241m1\u001b[39m,\u001b[38;5;241m2\u001b[39m,\u001b[38;5;241m3\u001b[39m]\n\u001b[0;32m----> 2\u001b[0m \u001b[43ma\u001b[49m\u001b[38;5;241;43m-\u001b[39;49m\u001b[43m[\u001b[49m\u001b[38;5;241;43m3\u001b[39;49m\u001b[43m]\u001b[49m\n",
      "\u001b[0;31mTypeError\u001b[0m: unsupported operand type(s) for -: 'list' and 'list'"
     ]
    }
   ],
   "source": [
    "a=[1,2,3]\n",
    "a-[3] # 이런건 없다"
   ]
  },
  {
   "cell_type": "code",
   "execution_count": 15,
   "id": "e2145df9-4474-4932-af9e-89c43e78db51",
   "metadata": {},
   "outputs": [
    {
     "ename": "TypeError",
     "evalue": "unsupported operand type(s) for /: 'list' and 'int'",
     "output_type": "error",
     "traceback": [
      "\u001b[0;31m---------------------------------------------------------------------------\u001b[0m",
      "\u001b[0;31mTypeError\u001b[0m                                 Traceback (most recent call last)",
      "Input \u001b[0;32mIn [15]\u001b[0m, in \u001b[0;36m<module>\u001b[0;34m\u001b[0m\n\u001b[1;32m      1\u001b[0m a\u001b[38;5;241m=\u001b[39m[\u001b[38;5;241m1\u001b[39m,\u001b[38;5;241m2\u001b[39m,\u001b[38;5;241m1\u001b[39m,\u001b[38;5;241m2\u001b[39m,\u001b[38;5;241m1\u001b[39m,\u001b[38;5;241m2\u001b[39m]\n\u001b[0;32m----> 2\u001b[0m \u001b[43ma\u001b[49m\u001b[38;5;241;43m/\u001b[39;49m\u001b[38;5;241;43m3\u001b[39;49m\n",
      "\u001b[0;31mTypeError\u001b[0m: unsupported operand type(s) for /: 'list' and 'int'"
     ]
    }
   ],
   "source": [
    "a=[1,2,1,2,1,2]\n",
    "a/3 # 이런건 없다"
   ]
  },
  {
   "cell_type": "markdown",
   "id": "3ffd2367-1b1a-4f09-9adb-3aeb81d60e90",
   "metadata": {},
   "source": [
    "`-` 더하기와 곱하기가 원소의 추가와 반복추가를 의미하여 편리할때도 있긴하지만, 우리는 산술적인 `+`, `*` 를 원하는 경우도 있다. 이럴 경우는 어떻게 할 수 있을까?"
   ]
  },
  {
   "cell_type": "markdown",
   "id": "875667a3-475b-471d-894c-07103f7b9966",
   "metadata": {},
   "source": [
    "(예제)"
   ]
  },
  {
   "cell_type": "code",
   "execution_count": 16,
   "id": "bc19a9ad-8d8d-4c96-9acb-12b0e118897f",
   "metadata": {},
   "outputs": [],
   "source": [
    "a=[1,2]\n",
    "b=[3,4]"
   ]
  },
  {
   "cell_type": "markdown",
   "id": "c17d37cd-c5e2-46b3-9ec4-9ad2a584d797",
   "metadata": {},
   "source": [
    "a+b = [4,6] 이 되도록 하려면? "
   ]
  },
  {
   "cell_type": "markdown",
   "id": "ef150783-8c3a-4a2a-8431-1869ca48017a",
   "metadata": {},
   "source": [
    "(풀이1)"
   ]
  },
  {
   "cell_type": "code",
   "execution_count": 67,
   "id": "6530bdeb-d313-45ce-b511-c7211a701d75",
   "metadata": {},
   "outputs": [
    {
     "data": {
      "text/plain": [
       "4"
      ]
     },
     "execution_count": 67,
     "metadata": {},
     "output_type": "execute_result"
    }
   ],
   "source": [
    "a[0]+b[0] # a의 첫번째 원소를 추출, b의 첫번째 원소를 추출, 둘을 더함 "
   ]
  },
  {
   "cell_type": "code",
   "execution_count": 18,
   "id": "c360e613-25ca-4906-9dc6-f4d8ff2b981e",
   "metadata": {},
   "outputs": [
    {
     "data": {
      "text/plain": [
       "6"
      ]
     },
     "execution_count": 18,
     "metadata": {},
     "output_type": "execute_result"
    }
   ],
   "source": [
    "a[1]+b[1] # a의 두번째 원소를 추출, b의 두번째 원소를 추출, 둘을 더함 "
   ]
  },
  {
   "cell_type": "code",
   "execution_count": 19,
   "id": "f77903fc-113b-4d1b-b878-c0065f861707",
   "metadata": {},
   "outputs": [
    {
     "data": {
      "text/plain": [
       "[4, 6]"
      ]
     },
     "execution_count": 19,
     "metadata": {},
     "output_type": "execute_result"
    }
   ],
   "source": [
    "[a[0]+b[0],a[1]+b[1]]"
   ]
  },
  {
   "cell_type": "markdown",
   "id": "ec835026-b190-4a4b-8c98-13b24bdac61e",
   "metadata": {},
   "source": [
    "풀이가 가능한 이유? a,b는 리스트이지만 a[0], a[1], b[0], b[1] 은 각각 인트형임. 인트형은 + 연산이 가능했음. "
   ]
  },
  {
   "cell_type": "markdown",
   "id": "3d76ac54-acbe-4a2b-9ac7-775d27125468",
   "metadata": {},
   "source": [
    "(풀이2)"
   ]
  },
  {
   "cell_type": "markdown",
   "id": "169d6148-a67d-45e4-8e6e-57f682bd71a2",
   "metadata": {},
   "source": [
    "numpy 패키지 (파이썬의 여러 수치연산들을 담당하는 라이브러리)\n",
    "\n",
    "- 이러한 벡터연산은 누구나 필요로 하는 연산임.\n",
    "- 내가 아니더라도 누군가가 프로그램화 해놓았을 것임.\n",
    "- 그 누군가가 자신이 만든 코드를 잘 정리하여 무료로 배포했을 수도 있음. (패키지를 배포한다고 표현) \n",
    "- 그 패키지를 우리는 가져와서 설치한뒤 사용하기만 하면된다. \n",
    "\n",
    "패키지를 설치하는 방법 \n",
    "\n",
    "- `!pip install numpy` # 최신버전을 설치함 \n",
    "- `!conda install -c conda-forge numpy -y` # 안전한 버전을 설치함 \n",
    "\n",
    "설치된 패키지를 사용하는 방법\n",
    "\n",
    "- `import numpy` 한뒤에 `numpy.??`로 기능을 사용 \n",
    "- `import numpy as np` 한뒤에 `np.??`로 기능을 사용 "
   ]
  },
  {
   "cell_type": "code",
   "execution_count": 29,
   "id": "8d913b47-dabb-4dab-a9d8-f8396d973199",
   "metadata": {},
   "outputs": [],
   "source": [
    "import numpy ## 설치한패키지를 쓰겠다고 선언함 "
   ]
  },
  {
   "cell_type": "code",
   "execution_count": 30,
   "id": "2dd21ea7-bbb9-4a47-8e04-b6d10abe5dec",
   "metadata": {},
   "outputs": [],
   "source": [
    "a=[1,2]\n",
    "b=[3,4]"
   ]
  },
  {
   "cell_type": "code",
   "execution_count": 47,
   "id": "4815c24e-0e6f-4a32-beea-9ab01496fdd1",
   "metadata": {},
   "outputs": [],
   "source": [
    "aa=numpy.array(a) \n",
    "bb=numpy.array(b)\n",
    "# aa,bb는 리스트가 아니라 넘파이 어레이,\n",
    "# numpy.array()는 numpy패키지에서 제공하는 array함수를 쓰겠다는 의미. "
   ]
  },
  {
   "cell_type": "code",
   "execution_count": 52,
   "id": "e39eb489-a727-46fb-8309-108240ef7482",
   "metadata": {},
   "outputs": [
    {
     "data": {
      "text/plain": [
       "array([4, 6])"
      ]
     },
     "execution_count": 52,
     "metadata": {},
     "output_type": "execute_result"
    }
   ],
   "source": [
    "aa+bb"
   ]
  },
  {
   "cell_type": "markdown",
   "id": "20a02764-de9d-4564-ae12-d9466be80ac4",
   "metadata": {},
   "source": [
    "이런것도 가능 "
   ]
  },
  {
   "cell_type": "code",
   "execution_count": 55,
   "id": "b1d8fa70-f1c6-4af6-a78b-885292b9d4b2",
   "metadata": {},
   "outputs": [
    {
     "data": {
      "text/plain": [
       "array([2, 4])"
      ]
     },
     "execution_count": 55,
     "metadata": {},
     "output_type": "execute_result"
    }
   ],
   "source": [
    "2*aa"
   ]
  },
  {
   "cell_type": "code",
   "execution_count": 57,
   "id": "4f497723-b950-4e23-98bd-bd9384fe46b6",
   "metadata": {},
   "outputs": [
    {
     "data": {
      "text/plain": [
       "array([3, 5])"
      ]
     },
     "execution_count": 57,
     "metadata": {},
     "output_type": "execute_result"
    }
   ],
   "source": [
    "2*aa+1"
   ]
  },
  {
   "cell_type": "code",
   "execution_count": 59,
   "id": "6659d654-77ec-40ec-8b7b-ba3e74e73c59",
   "metadata": {},
   "outputs": [
    {
     "data": {
      "text/plain": [
       "array([6, 9])"
      ]
     },
     "execution_count": 59,
     "metadata": {},
     "output_type": "execute_result"
    }
   ],
   "source": [
    "2*aa+1+bb"
   ]
  },
  {
   "cell_type": "markdown",
   "id": "76c608ff-017d-4a16-9311-501cb26c874c",
   "metadata": {},
   "source": [
    "(풀이3)"
   ]
  },
  {
   "cell_type": "code",
   "execution_count": 61,
   "id": "ad178fa0-7bcd-470a-ac15-2912ac745691",
   "metadata": {},
   "outputs": [],
   "source": [
    "import numpy as np ## 설치한 numpy라는 패키지를 쓰겠음. 그런데 numpy말고 np라는 이름으로 쓰겠음"
   ]
  },
  {
   "cell_type": "code",
   "execution_count": 64,
   "id": "0f51a505-a68d-445b-8405-05cd9fb882fd",
   "metadata": {},
   "outputs": [
    {
     "data": {
      "text/plain": [
       "array([4, 6])"
      ]
     },
     "execution_count": 64,
     "metadata": {},
     "output_type": "execute_result"
    }
   ],
   "source": [
    "a=[1,2]\n",
    "b=[3,4]\n",
    "np.array(a)+np.array(b)"
   ]
  },
  {
   "cell_type": "markdown",
   "id": "347754a1-275e-4c80-889a-4011a1761193",
   "metadata": {},
   "source": [
    "## 인덱싱 "
   ]
  },
  {
   "cell_type": "markdown",
   "id": "ba94e275-8367-4630-8dab-f995da93cf52",
   "metadata": {},
   "source": [
    "`-` str형과 동일한 방식"
   ]
  },
  {
   "cell_type": "code",
   "execution_count": 77,
   "id": "7d8584c3-3163-4e36-bb3a-f70c0b619fac",
   "metadata": {},
   "outputs": [],
   "source": [
    "a=[11,22,33,44,55] # 0 -4 -3 -2 -1"
   ]
  },
  {
   "cell_type": "code",
   "execution_count": 76,
   "id": "eaaa320e-a53a-480b-9338-1cb94e629a51",
   "metadata": {},
   "outputs": [
    {
     "data": {
      "text/plain": [
       "[44, 55]"
      ]
     },
     "execution_count": 76,
     "metadata": {},
     "output_type": "execute_result"
    }
   ],
   "source": [
    "a[-2:] # 끝의 2개의 원소를 뽑음 "
   ]
  },
  {
   "cell_type": "markdown",
   "id": "1556cee1-b55c-4398-9eee-1afb04dea243",
   "metadata": {},
   "source": [
    "# list 고급내용"
   ]
  },
  {
   "cell_type": "markdown",
   "id": "c7456837-1577-42e5-8268-2417839c2757",
   "metadata": {},
   "source": [
    "## 콘테이너형 객체, 가변객체 "
   ]
  },
  {
   "cell_type": "markdown",
   "id": "f8971496-9e45-41aa-bb4c-ab45997cfc49",
   "metadata": {},
   "source": [
    "`-` 리스트의 원소는 int, float 따위만 가능한 것이 아니다. (리스트는 컨테이너형 객체이므로)"
   ]
  },
  {
   "cell_type": "code",
   "execution_count": 78,
   "id": "858496d2-5fed-4e38-bb93-96bef18ed7e8",
   "metadata": {},
   "outputs": [],
   "source": [
    "lst = [1,3.14,True,'a',[1,2], \n",
    "       (1,2),{'name':'iu','age':27},{1,2,3}]"
   ]
  },
  {
   "cell_type": "code",
   "execution_count": 79,
   "id": "17daed95-3d16-458a-b639-88244725659a",
   "metadata": {},
   "outputs": [
    {
     "data": {
      "text/plain": [
       "[1, 3.14, True, 'a', [1, 2], (1, 2), {'name': 'iu', 'age': 27}, {1, 2, 3}]"
      ]
     },
     "execution_count": 79,
     "metadata": {},
     "output_type": "execute_result"
    }
   ],
   "source": [
    "lst"
   ]
  },
  {
   "cell_type": "markdown",
   "id": "7631d619-b4e0-4812-a9a1-7e6150bdd13a",
   "metadata": {},
   "source": [
    "각 원소의 타입을 알아보자. "
   ]
  },
  {
   "cell_type": "code",
   "execution_count": 80,
   "id": "0dd9bd8d-58d2-48d3-bea3-6670bf9eafbc",
   "metadata": {},
   "outputs": [
    {
     "data": {
      "text/plain": [
       "int"
      ]
     },
     "execution_count": 80,
     "metadata": {},
     "output_type": "execute_result"
    }
   ],
   "source": [
    "type(lst[0])"
   ]
  },
  {
   "cell_type": "code",
   "execution_count": 81,
   "id": "07bed6c8-2b30-44dc-81e1-4ec89418abd1",
   "metadata": {},
   "outputs": [
    {
     "data": {
      "text/plain": [
       "float"
      ]
     },
     "execution_count": 81,
     "metadata": {},
     "output_type": "execute_result"
    }
   ],
   "source": [
    "type(lst[1])"
   ]
  },
  {
   "cell_type": "code",
   "execution_count": 82,
   "id": "5e1fbb24-4639-4153-9dfa-0f2b10215d2c",
   "metadata": {},
   "outputs": [
    {
     "data": {
      "text/plain": [
       "bool"
      ]
     },
     "execution_count": 82,
     "metadata": {},
     "output_type": "execute_result"
    }
   ],
   "source": [
    "type(lst[2])"
   ]
  },
  {
   "cell_type": "code",
   "execution_count": 83,
   "id": "91ec7155-5ee6-45fc-bcba-6802955cf676",
   "metadata": {},
   "outputs": [
    {
     "data": {
      "text/plain": [
       "str"
      ]
     },
     "execution_count": 83,
     "metadata": {},
     "output_type": "execute_result"
    }
   ],
   "source": [
    "type(lst[3])"
   ]
  },
  {
   "cell_type": "code",
   "execution_count": 84,
   "id": "c92bee8d-41d0-4688-8546-07134a96e885",
   "metadata": {},
   "outputs": [
    {
     "data": {
      "text/plain": [
       "list"
      ]
     },
     "execution_count": 84,
     "metadata": {},
     "output_type": "execute_result"
    }
   ],
   "source": [
    "type(lst[4])"
   ]
  },
  {
   "cell_type": "code",
   "execution_count": 85,
   "id": "1595e248-c591-49d5-ba42-16441360665b",
   "metadata": {},
   "outputs": [
    {
     "data": {
      "text/plain": [
       "tuple"
      ]
     },
     "execution_count": 85,
     "metadata": {},
     "output_type": "execute_result"
    }
   ],
   "source": [
    "type(lst[5])"
   ]
  },
  {
   "cell_type": "code",
   "execution_count": 86,
   "id": "10d59cb0-be0a-4131-a648-c83b91ce16c3",
   "metadata": {},
   "outputs": [
    {
     "data": {
      "text/plain": [
       "dict"
      ]
     },
     "execution_count": 86,
     "metadata": {},
     "output_type": "execute_result"
    }
   ],
   "source": [
    "type(lst[6])"
   ]
  },
  {
   "cell_type": "code",
   "execution_count": 87,
   "id": "f2dafa0e-913f-4cfb-bb3a-22afae99b8bd",
   "metadata": {},
   "outputs": [
    {
     "data": {
      "text/plain": [
       "set"
      ]
     },
     "execution_count": 87,
     "metadata": {},
     "output_type": "execute_result"
    }
   ],
   "source": [
    "type(lst[7])"
   ]
  },
  {
   "cell_type": "markdown",
   "id": "75e0075c-9f72-4ef3-ab82-bae5a00900bd",
   "metadata": {},
   "source": [
    "`-` str은 컨테이너형이 아니다. "
   ]
  },
  {
   "cell_type": "code",
   "execution_count": 93,
   "id": "de7ae863-7024-4d66-9e8a-7f6264215ef9",
   "metadata": {},
   "outputs": [
    {
     "data": {
      "text/plain": [
       "'c'"
      ]
     },
     "execution_count": 93,
     "metadata": {},
     "output_type": "execute_result"
    }
   ],
   "source": [
    "'abcd'[2]"
   ]
  },
  {
   "cell_type": "markdown",
   "id": "30a6a780-48d7-4f37-bb7c-24e02629e659",
   "metadata": {},
   "source": [
    "- str의 모든 원소는 문자임 "
   ]
  },
  {
   "cell_type": "markdown",
   "id": "8430aaea-29f6-4396-89cf-602af00d77a4",
   "metadata": {},
   "source": [
    "`-` 리스트의 원소를 수정할 수 있다. (리스트는 가변객체이므로)"
   ]
  },
  {
   "cell_type": "code",
   "execution_count": 96,
   "id": "5a289105-5412-4077-bdf0-1bfd66125c9a",
   "metadata": {},
   "outputs": [
    {
     "data": {
      "text/plain": [
       "[11, 22, 33]"
      ]
     },
     "execution_count": 96,
     "metadata": {},
     "output_type": "execute_result"
    }
   ],
   "source": [
    "a=[11,22,33]\n",
    "a"
   ]
  },
  {
   "cell_type": "code",
   "execution_count": 97,
   "id": "6940f7cd-32b8-426a-8c01-a13c273976cd",
   "metadata": {},
   "outputs": [
    {
     "data": {
      "text/plain": [
       "11"
      ]
     },
     "execution_count": 97,
     "metadata": {},
     "output_type": "execute_result"
    }
   ],
   "source": [
    "a[0]"
   ]
  },
  {
   "cell_type": "code",
   "execution_count": 98,
   "id": "279b53e4-0ac2-4aa0-996b-3199333b8152",
   "metadata": {},
   "outputs": [],
   "source": [
    "a[0]=111"
   ]
  },
  {
   "cell_type": "code",
   "execution_count": 99,
   "id": "0d6bcc44-c55e-4c3a-a7eb-9a88d4422e52",
   "metadata": {},
   "outputs": [
    {
     "data": {
      "text/plain": [
       "[111, 22, 33]"
      ]
     },
     "execution_count": 99,
     "metadata": {},
     "output_type": "execute_result"
    }
   ],
   "source": [
    "a"
   ]
  },
  {
   "cell_type": "markdown",
   "id": "9650d0d2-2914-4383-b04e-017110904fe2",
   "metadata": {},
   "source": [
    "`-` 원소수정은 당연한 기능같은데 이것이 불가능한 경우도 있다. "
   ]
  },
  {
   "cell_type": "markdown",
   "id": "4db83281-d94a-4fc3-a3a2-fdc0464b6356",
   "metadata": {},
   "source": [
    "(가능한경우) "
   ]
  },
  {
   "cell_type": "code",
   "execution_count": 103,
   "id": "1657810e-fdb5-41f6-8da4-ce379a72fba7",
   "metadata": {},
   "outputs": [
    {
     "data": {
      "text/plain": [
       "['g', 'u', 'e', 'b', 'i', 'n']"
      ]
     },
     "execution_count": 103,
     "metadata": {},
     "output_type": "execute_result"
    }
   ],
   "source": [
    "a=['g','u','e','b','i','n']\n",
    "a"
   ]
  },
  {
   "cell_type": "code",
   "execution_count": 104,
   "id": "d2a6b97b-b83c-48e3-96a0-7670f14444dd",
   "metadata": {},
   "outputs": [
    {
     "data": {
      "text/plain": [
       "'g'"
      ]
     },
     "execution_count": 104,
     "metadata": {},
     "output_type": "execute_result"
    }
   ],
   "source": [
    "a[0]"
   ]
  },
  {
   "cell_type": "code",
   "execution_count": 105,
   "id": "04a209a8-ecf9-4e56-ae39-5e4a3e9c846f",
   "metadata": {},
   "outputs": [],
   "source": [
    "a[0]='G'"
   ]
  },
  {
   "cell_type": "code",
   "execution_count": 106,
   "id": "a622134c-22dc-4f1c-9001-3c9b9f3d000e",
   "metadata": {},
   "outputs": [
    {
     "data": {
      "text/plain": [
       "['G', 'u', 'e', 'b', 'i', 'n']"
      ]
     },
     "execution_count": 106,
     "metadata": {},
     "output_type": "execute_result"
    }
   ],
   "source": [
    "a"
   ]
  },
  {
   "cell_type": "markdown",
   "id": "bb89f711-ee70-4832-ab1b-bfbe6f117f23",
   "metadata": {},
   "source": [
    "(불가능한경우) "
   ]
  },
  {
   "cell_type": "code",
   "execution_count": 107,
   "id": "49fcb323-6c7b-4370-a9e8-ba4ef152daab",
   "metadata": {},
   "outputs": [
    {
     "data": {
      "text/plain": [
       "'guebin'"
      ]
     },
     "execution_count": 107,
     "metadata": {},
     "output_type": "execute_result"
    }
   ],
   "source": [
    "a='guebin'\n",
    "a"
   ]
  },
  {
   "cell_type": "code",
   "execution_count": 108,
   "id": "c1e62cf6-bcdc-4f18-8bbb-fa552acb86e3",
   "metadata": {},
   "outputs": [
    {
     "data": {
      "text/plain": [
       "'g'"
      ]
     },
     "execution_count": 108,
     "metadata": {},
     "output_type": "execute_result"
    }
   ],
   "source": [
    "a[0]"
   ]
  },
  {
   "cell_type": "code",
   "execution_count": 109,
   "id": "05075aa7-edfd-4bcd-aac5-c1dd1d7237e7",
   "metadata": {},
   "outputs": [
    {
     "ename": "TypeError",
     "evalue": "'str' object does not support item assignment",
     "output_type": "error",
     "traceback": [
      "\u001b[0;31m---------------------------------------------------------------------------\u001b[0m",
      "\u001b[0;31mTypeError\u001b[0m                                 Traceback (most recent call last)",
      "Input \u001b[0;32mIn [109]\u001b[0m, in \u001b[0;36m<module>\u001b[0;34m\u001b[0m\n\u001b[0;32m----> 1\u001b[0m a[\u001b[38;5;241m0\u001b[39m]\u001b[38;5;241m=\u001b[39m\u001b[38;5;124m'\u001b[39m\u001b[38;5;124mG\u001b[39m\u001b[38;5;124m'\u001b[39m\n",
      "\u001b[0;31mTypeError\u001b[0m: 'str' object does not support item assignment"
     ]
    }
   ],
   "source": [
    "a[0]='G'"
   ]
  },
  {
   "cell_type": "markdown",
   "id": "6bf47ba6-25f4-4d98-9b13-bdb20175885d",
   "metadata": {},
   "source": [
    "`-` 리스트 원소 삭제 "
   ]
  },
  {
   "cell_type": "markdown",
   "id": "d3e259ee-631f-4c82-9067-d22c367272e4",
   "metadata": {},
   "source": [
    "(예제)"
   ]
  },
  {
   "cell_type": "markdown",
   "id": "f1d50984-bf54-4222-b964-15de47b5268a",
   "metadata": {},
   "source": [
    "아래와 같이 문자로 된 리스트를 선언하자. "
   ]
  },
  {
   "cell_type": "code",
   "execution_count": 118,
   "id": "a3640f90-3aef-4717-850e-920fc29796e3",
   "metadata": {},
   "outputs": [
    {
     "data": {
      "text/plain": [
       "['g', 'u', 'e', 'b', 'i', 'n']"
      ]
     },
     "execution_count": 118,
     "metadata": {},
     "output_type": "execute_result"
    }
   ],
   "source": [
    "a=['g','u','e','b','i','n']\n",
    "a"
   ]
  },
  {
   "cell_type": "markdown",
   "id": "2cf2af4b-7525-4734-8f06-227775ab8881",
   "metadata": {},
   "source": [
    "사실 더 쉽게 선언할 수 있음 "
   ]
  },
  {
   "cell_type": "code",
   "execution_count": 120,
   "id": "e3c7ea70-357b-4364-88fb-39a252c0b73b",
   "metadata": {},
   "outputs": [
    {
     "data": {
      "text/plain": [
       "['g', 'u', 'e', 'b', 'i', 'n']"
      ]
     },
     "execution_count": 120,
     "metadata": {},
     "output_type": "execute_result"
    }
   ],
   "source": [
    "a= 'guebin' # string으로 a를 선언\n",
    "a= list(a) # list(a)를 통하여 str을 ㅣist로 변환 -> 그 결과를 a에 다시 저장\n",
    "a"
   ]
  },
  {
   "cell_type": "markdown",
   "id": "d2a3bbe4-1515-4498-8e98-bbe68d04fd30",
   "metadata": {},
   "source": [
    "첫번째 원소를 삭제하고 싶다면? "
   ]
  },
  {
   "cell_type": "code",
   "execution_count": 121,
   "id": "32f87314-424a-455f-b08c-53e69412ba94",
   "metadata": {},
   "outputs": [],
   "source": [
    "del a[0]"
   ]
  },
  {
   "cell_type": "code",
   "execution_count": 122,
   "id": "d76a86a8-48e1-4150-bf2a-72e47cf48ff6",
   "metadata": {},
   "outputs": [
    {
     "data": {
      "text/plain": [
       "['u', 'e', 'b', 'i', 'n']"
      ]
     },
     "execution_count": 122,
     "metadata": {},
     "output_type": "execute_result"
    }
   ],
   "source": [
    "a"
   ]
  },
  {
   "cell_type": "markdown",
   "id": "ee6ead7b-4971-46a7-baf1-482939c59a5a",
   "metadata": {},
   "source": [
    "이 상태에서 다시 첫번째 원소를 삭제한다면? "
   ]
  },
  {
   "cell_type": "code",
   "execution_count": 123,
   "id": "61fc009c-de87-419f-8aa6-a3513cea5678",
   "metadata": {},
   "outputs": [],
   "source": [
    "del a[0]"
   ]
  },
  {
   "cell_type": "code",
   "execution_count": 124,
   "id": "4818c506-ac96-4d9b-b8f2-2156c96209a6",
   "metadata": {},
   "outputs": [
    {
     "data": {
      "text/plain": [
       "['e', 'b', 'i', 'n']"
      ]
     },
     "execution_count": 124,
     "metadata": {},
     "output_type": "execute_result"
    }
   ],
   "source": [
    "a"
   ]
  },
  {
   "cell_type": "markdown",
   "id": "28869240-c5b8-4b1f-a14f-309d44117f58",
   "metadata": {},
   "source": [
    "`-` 리스트의 원소 추가 "
   ]
  },
  {
   "cell_type": "markdown",
   "id": "4c03c30f-a5dd-493f-b64f-77ff70783b71",
   "metadata": {},
   "source": [
    "(예제) 비어있는 리스트를 만들고 원소 0,1,2를 차례로 추가하여 보자. "
   ]
  },
  {
   "cell_type": "markdown",
   "id": "c0393c33-9b9f-4e80-b1dc-4a2ba60d0559",
   "metadata": {},
   "source": [
    "(풀이1)"
   ]
  },
  {
   "cell_type": "code",
   "execution_count": 130,
   "id": "8bcaa1da-3116-4df7-84d8-c91e4adc5995",
   "metadata": {},
   "outputs": [
    {
     "data": {
      "text/plain": [
       "[]"
      ]
     },
     "execution_count": 130,
     "metadata": {},
     "output_type": "execute_result"
    }
   ],
   "source": [
    "a=[]\n",
    "a"
   ]
  },
  {
   "cell_type": "code",
   "execution_count": 131,
   "id": "d8c19393-626b-42ed-83f9-ad946a18eb25",
   "metadata": {},
   "outputs": [
    {
     "data": {
      "text/plain": [
       "[0]"
      ]
     },
     "execution_count": 131,
     "metadata": {},
     "output_type": "execute_result"
    }
   ],
   "source": [
    "a= a + [0] \n",
    "a"
   ]
  },
  {
   "cell_type": "code",
   "execution_count": 132,
   "id": "4953025f-91b0-4e17-ae5d-4901f6d9105a",
   "metadata": {},
   "outputs": [
    {
     "data": {
      "text/plain": [
       "[0, 1]"
      ]
     },
     "execution_count": 132,
     "metadata": {},
     "output_type": "execute_result"
    }
   ],
   "source": [
    "a= a + [1]\n",
    "a"
   ]
  },
  {
   "cell_type": "code",
   "execution_count": 133,
   "id": "87e4c160-dbc8-4b4f-b10e-920d2f8abcf8",
   "metadata": {},
   "outputs": [
    {
     "data": {
      "text/plain": [
       "[0, 1, 2]"
      ]
     },
     "execution_count": 133,
     "metadata": {},
     "output_type": "execute_result"
    }
   ],
   "source": [
    "a= a + [2]\n",
    "a"
   ]
  },
  {
   "cell_type": "markdown",
   "id": "2a87d044-163e-4fdb-a318-06f80f0e2ce5",
   "metadata": {},
   "source": [
    "(풀이2)"
   ]
  },
  {
   "cell_type": "code",
   "execution_count": 134,
   "id": "4e48b4f5-fecf-4794-9c7d-3fb12df1fd30",
   "metadata": {},
   "outputs": [
    {
     "data": {
      "text/plain": [
       "[]"
      ]
     },
     "execution_count": 134,
     "metadata": {},
     "output_type": "execute_result"
    }
   ],
   "source": [
    "a=[]\n",
    "a"
   ]
  },
  {
   "cell_type": "code",
   "execution_count": 135,
   "id": "00b6aef5-88a5-45a6-9b1a-5484c46769e6",
   "metadata": {},
   "outputs": [
    {
     "data": {
      "text/plain": [
       "[0]"
      ]
     },
     "execution_count": 135,
     "metadata": {},
     "output_type": "execute_result"
    }
   ],
   "source": [
    "a += [0] \n",
    "a"
   ]
  },
  {
   "cell_type": "code",
   "execution_count": 136,
   "id": "d9828acc-e2cb-4a4a-8785-26be8e6e672a",
   "metadata": {},
   "outputs": [
    {
     "data": {
      "text/plain": [
       "[0, 1]"
      ]
     },
     "execution_count": 136,
     "metadata": {},
     "output_type": "execute_result"
    }
   ],
   "source": [
    "a += [1]\n",
    "a"
   ]
  },
  {
   "cell_type": "code",
   "execution_count": 137,
   "id": "69afa59c-b3cd-4f85-b7a3-70809d1b6d06",
   "metadata": {},
   "outputs": [
    {
     "data": {
      "text/plain": [
       "[0, 1, 2]"
      ]
     },
     "execution_count": 137,
     "metadata": {},
     "output_type": "execute_result"
    }
   ],
   "source": [
    "a += [2]\n",
    "a"
   ]
  },
  {
   "cell_type": "markdown",
   "id": "b2ea0807-972b-4211-9fa8-5c61f7130228",
   "metadata": {},
   "source": [
    "- 암기법: 중복되는 변수를 지우고 연산자의 순서를 바꾼다. "
   ]
  },
  {
   "cell_type": "markdown",
   "id": "31a5c1b6-8eb6-46bc-a72e-9a8a1cbe0cb5",
   "metadata": {},
   "source": [
    "(풀이3) 리스트 특화기능(=메소드)를 이용 "
   ]
  },
  {
   "cell_type": "code",
   "execution_count": 142,
   "id": "f61b0f89-6cae-4b6a-9844-a9c62c0197df",
   "metadata": {},
   "outputs": [
    {
     "data": {
      "text/plain": [
       "[]"
      ]
     },
     "execution_count": 142,
     "metadata": {},
     "output_type": "execute_result"
    }
   ],
   "source": [
    "a=[]\n",
    "a"
   ]
  },
  {
   "cell_type": "code",
   "execution_count": 146,
   "id": "66f7eaea-25a0-4a13-805d-30090fe1124e",
   "metadata": {},
   "outputs": [
    {
     "data": {
      "text/plain": [
       "[0]"
      ]
     },
     "execution_count": 146,
     "metadata": {},
     "output_type": "execute_result"
    }
   ],
   "source": [
    "a.append(0)\n",
    "a"
   ]
  },
  {
   "cell_type": "code",
   "execution_count": 147,
   "id": "0a011a6a-43b5-41e8-b6c6-45ef3a9b7b8c",
   "metadata": {},
   "outputs": [
    {
     "data": {
      "text/plain": [
       "[0, 1]"
      ]
     },
     "execution_count": 147,
     "metadata": {},
     "output_type": "execute_result"
    }
   ],
   "source": [
    "a.append(1)\n",
    "a"
   ]
  },
  {
   "cell_type": "code",
   "execution_count": 148,
   "id": "a27ea27d-2a1e-47f6-9f0f-4efc4f7f3bb5",
   "metadata": {},
   "outputs": [
    {
     "data": {
      "text/plain": [
       "[0, 1, 2]"
      ]
     },
     "execution_count": 148,
     "metadata": {},
     "output_type": "execute_result"
    }
   ],
   "source": [
    "a.append(2)\n",
    "a"
   ]
  },
  {
   "cell_type": "markdown",
   "id": "82ab7727-7160-4480-a9a7-691afaf58a0b",
   "metadata": {},
   "source": [
    "`-` `a+[4]`와 `a.append(4)`의 차이점은? "
   ]
  },
  {
   "cell_type": "markdown",
   "id": "6349bdc5-bb76-4f5e-b21f-8c39a0f534a6",
   "metadata": {},
   "source": [
    "(관찰1)"
   ]
  },
  {
   "cell_type": "code",
   "execution_count": 149,
   "id": "190868ae-e66c-41ee-a437-2a75558488d4",
   "metadata": {},
   "outputs": [
    {
     "data": {
      "text/plain": [
       "[1, 2, 3, 4]"
      ]
     },
     "execution_count": 149,
     "metadata": {},
     "output_type": "execute_result"
    }
   ],
   "source": [
    "a=[1,2,3]\n",
    "a+[4] ## 리스트 a와 리스트 [4]의 연산결과를 알려줘 "
   ]
  },
  {
   "cell_type": "code",
   "execution_count": 151,
   "id": "cf6901e0-8115-49e3-b702-d0d086863084",
   "metadata": {},
   "outputs": [
    {
     "data": {
      "text/plain": [
       "[1, 2, 3]"
      ]
     },
     "execution_count": 151,
     "metadata": {},
     "output_type": "execute_result"
    }
   ],
   "source": [
    "a ## a는 그대로임. 변화없음 "
   ]
  },
  {
   "cell_type": "markdown",
   "id": "4c97e7b0-f7ce-4c74-a861-195e747b0734",
   "metadata": {},
   "source": [
    "(관찰2)"
   ]
  },
  {
   "cell_type": "code",
   "execution_count": 152,
   "id": "8738fb2c-5c39-40d7-ac2f-926620b53446",
   "metadata": {},
   "outputs": [],
   "source": [
    "a=[1,2,3]\n",
    "a.append(4)"
   ]
  },
  {
   "cell_type": "code",
   "execution_count": 154,
   "id": "5f4e50de-e13f-4504-abfd-8acdc0806fd1",
   "metadata": {},
   "outputs": [
    {
     "data": {
      "text/plain": [
       "[1, 2, 3, 4]"
      ]
     },
     "execution_count": 154,
     "metadata": {},
     "output_type": "execute_result"
    }
   ],
   "source": [
    "a ## a자체가 변화함 "
   ]
  },
  {
   "cell_type": "markdown",
   "id": "790cb242-dff4-444d-ac03-8a5202785ed1",
   "metadata": {},
   "source": [
    "비슷해보이지만 굉장히 미묘한 차이가 있음 "
   ]
  },
  {
   "cell_type": "markdown",
   "id": "1eb479c2-25a8-4f01-9852-4df113fd32a3",
   "metadata": {},
   "source": [
    "`a.append(4)`: `a`에 4를 append하라 $\\to$ `a`가 변함\n",
    "\n",
    "`a+[4]`: `a`와 4를 연산하라 "
   ]
  },
  {
   "cell_type": "markdown",
   "id": "bf5115ac-c996-45bd-b028-f067a6b17bb2",
   "metadata": {},
   "source": [
    "## list 특수기능 "
   ]
  },
  {
   "cell_type": "markdown",
   "id": "06af3dcf-6e09-4a57-85ef-cdfc7ca28ee1",
   "metadata": {},
   "source": [
    "**(append)**"
   ]
  },
  {
   "cell_type": "code",
   "execution_count": 162,
   "id": "bc74e001-3541-4ce0-acdb-f3aecc0f7725",
   "metadata": {},
   "outputs": [
    {
     "data": {
      "text/plain": [
       "\u001b[0;31mSignature:\u001b[0m \u001b[0ma\u001b[0m\u001b[0;34m.\u001b[0m\u001b[0mappend\u001b[0m\u001b[0;34m(\u001b[0m\u001b[0mobject\u001b[0m\u001b[0;34m,\u001b[0m \u001b[0;34m/\u001b[0m\u001b[0;34m)\u001b[0m\u001b[0;34m\u001b[0m\u001b[0;34m\u001b[0m\u001b[0m\n",
       "\u001b[0;31mDocstring:\u001b[0m Append object to the end of the list.\n",
       "\u001b[0;31mType:\u001b[0m      builtin_function_or_method\n"
      ]
     },
     "metadata": {},
     "output_type": "display_data"
    }
   ],
   "source": [
    "a=[1,2,3,4]\n",
    "a.append?"
   ]
  },
  {
   "cell_type": "code",
   "execution_count": 163,
   "id": "fff36861-6d77-48b0-9375-72a522bc6143",
   "metadata": {},
   "outputs": [
    {
     "data": {
      "text/plain": [
       "[1, 2, 3, 4, 5]"
      ]
     },
     "execution_count": 163,
     "metadata": {},
     "output_type": "execute_result"
    }
   ],
   "source": [
    "a.append(5)\n",
    "a"
   ]
  },
  {
   "cell_type": "markdown",
   "id": "e34a73d7-8f9a-4479-a5a1-c9c5658f08b1",
   "metadata": {},
   "source": [
    "**(clear)**"
   ]
  },
  {
   "cell_type": "code",
   "execution_count": 166,
   "id": "0b915cc3-4b46-46e5-b514-b8cc72f47fd7",
   "metadata": {},
   "outputs": [
    {
     "data": {
      "text/plain": [
       "\u001b[0;31mSignature:\u001b[0m \u001b[0ma\u001b[0m\u001b[0;34m.\u001b[0m\u001b[0mclear\u001b[0m\u001b[0;34m(\u001b[0m\u001b[0;34m)\u001b[0m\u001b[0;34m\u001b[0m\u001b[0;34m\u001b[0m\u001b[0m\n",
       "\u001b[0;31mDocstring:\u001b[0m Remove all items from list.\n",
       "\u001b[0;31mType:\u001b[0m      builtin_function_or_method\n"
      ]
     },
     "metadata": {},
     "output_type": "display_data"
    }
   ],
   "source": [
    "a=[1,2,3,4]\n",
    "a.clear?"
   ]
  },
  {
   "cell_type": "code",
   "execution_count": 168,
   "id": "7483d25f-49e8-4900-85d8-f4997b7f853d",
   "metadata": {},
   "outputs": [
    {
     "data": {
      "text/plain": [
       "[]"
      ]
     },
     "execution_count": 168,
     "metadata": {},
     "output_type": "execute_result"
    }
   ],
   "source": [
    "a.clear()\n",
    "a"
   ]
  },
  {
   "cell_type": "markdown",
   "id": "77027e0b-0408-44fa-a3e7-3bcda2401ecb",
   "metadata": {},
   "source": [
    "**(copy)**"
   ]
  },
  {
   "cell_type": "code",
   "execution_count": 170,
   "id": "e2afec87-c1c7-4f51-84bc-dbd13d613d61",
   "metadata": {},
   "outputs": [
    {
     "data": {
      "text/plain": [
       "\u001b[0;31mSignature:\u001b[0m \u001b[0ma\u001b[0m\u001b[0;34m.\u001b[0m\u001b[0mcopy\u001b[0m\u001b[0;34m(\u001b[0m\u001b[0;34m)\u001b[0m\u001b[0;34m\u001b[0m\u001b[0;34m\u001b[0m\u001b[0m\n",
       "\u001b[0;31mDocstring:\u001b[0m Return a shallow copy of the list.\n",
       "\u001b[0;31mType:\u001b[0m      builtin_function_or_method\n"
      ]
     },
     "metadata": {},
     "output_type": "display_data"
    }
   ],
   "source": [
    "a=[1,2,3,4]\n",
    "a.copy?"
   ]
  },
  {
   "cell_type": "code",
   "execution_count": 171,
   "id": "4f070153-22ca-41a3-a91a-23dcea199eaf",
   "metadata": {},
   "outputs": [
    {
     "data": {
      "text/plain": [
       "[1, 2, 3, 4]"
      ]
     },
     "execution_count": 171,
     "metadata": {},
     "output_type": "execute_result"
    }
   ],
   "source": [
    "b=a.copy()\n",
    "b"
   ]
  },
  {
   "cell_type": "markdown",
   "id": "2f9654df-234a-4b85-9390-efd2b28b338f",
   "metadata": {},
   "source": [
    "**(count)**"
   ]
  },
  {
   "cell_type": "code",
   "execution_count": 179,
   "id": "3a6c0127-6dfc-44de-a094-5ee14ac1821e",
   "metadata": {},
   "outputs": [
    {
     "data": {
      "text/plain": [
       "\u001b[0;31mSignature:\u001b[0m \u001b[0ma\u001b[0m\u001b[0;34m.\u001b[0m\u001b[0mcount\u001b[0m\u001b[0;34m(\u001b[0m\u001b[0mvalue\u001b[0m\u001b[0;34m,\u001b[0m \u001b[0;34m/\u001b[0m\u001b[0;34m)\u001b[0m\u001b[0;34m\u001b[0m\u001b[0;34m\u001b[0m\u001b[0m\n",
       "\u001b[0;31mDocstring:\u001b[0m Return number of occurrences of value.\n",
       "\u001b[0;31mType:\u001b[0m      builtin_function_or_method\n"
      ]
     },
     "metadata": {},
     "output_type": "display_data"
    }
   ],
   "source": [
    "a=[1,1,2,3,3,4,4,4]\n",
    "a.count?"
   ]
  },
  {
   "cell_type": "code",
   "execution_count": 181,
   "id": "68e57be0-4496-4edc-80ca-b959165a14ff",
   "metadata": {},
   "outputs": [
    {
     "data": {
      "text/plain": [
       "2"
      ]
     },
     "execution_count": 181,
     "metadata": {},
     "output_type": "execute_result"
    }
   ],
   "source": [
    "a.count(1)"
   ]
  },
  {
   "cell_type": "code",
   "execution_count": 182,
   "id": "1acc4d97-ae8e-4288-98ef-84aee8457cf6",
   "metadata": {},
   "outputs": [
    {
     "data": {
      "text/plain": [
       "1"
      ]
     },
     "execution_count": 182,
     "metadata": {},
     "output_type": "execute_result"
    }
   ],
   "source": [
    "a.count(2)"
   ]
  },
  {
   "cell_type": "code",
   "execution_count": 183,
   "id": "d0971b6e-219c-4f21-81d6-6bf822e61d79",
   "metadata": {},
   "outputs": [
    {
     "data": {
      "text/plain": [
       "2"
      ]
     },
     "execution_count": 183,
     "metadata": {},
     "output_type": "execute_result"
    }
   ],
   "source": [
    "a.count(3)"
   ]
  },
  {
   "cell_type": "code",
   "execution_count": 184,
   "id": "3fb5ce53-2742-454a-be3b-e665926a12b2",
   "metadata": {},
   "outputs": [
    {
     "data": {
      "text/plain": [
       "3"
      ]
     },
     "execution_count": 184,
     "metadata": {},
     "output_type": "execute_result"
    }
   ],
   "source": [
    "a.count(4)"
   ]
  },
  {
   "cell_type": "markdown",
   "id": "6bc68362-eca4-409b-836f-a881edec0c4c",
   "metadata": {},
   "source": [
    "**(extend)**"
   ]
  },
  {
   "cell_type": "code",
   "execution_count": 198,
   "id": "2f8646ca-9186-44e9-83e7-82c570724002",
   "metadata": {},
   "outputs": [],
   "source": [
    "a=[1,2,3,4]\n",
    "b=[-1,-2,-3,-4]"
   ]
  },
  {
   "cell_type": "code",
   "execution_count": 199,
   "id": "9cbd70f9-fb08-43d9-b3a4-1014c2a39c96",
   "metadata": {},
   "outputs": [
    {
     "data": {
      "text/plain": [
       "[1, 2, 3, 4, -1, -2, -3, -4]"
      ]
     },
     "execution_count": 199,
     "metadata": {},
     "output_type": "execute_result"
    }
   ],
   "source": [
    "a.extend(b)\n",
    "a"
   ]
  },
  {
   "cell_type": "code",
   "execution_count": 200,
   "id": "cf108983-0b2c-405b-a371-b4a413e9050a",
   "metadata": {},
   "outputs": [],
   "source": [
    "a=[1,2,3,4]\n",
    "b=[-1,-2,-3,-4]"
   ]
  },
  {
   "cell_type": "code",
   "execution_count": 201,
   "id": "db3d9c06-243c-4eea-bf5b-8a4b53ac4333",
   "metadata": {},
   "outputs": [],
   "source": [
    "a.append(b)"
   ]
  },
  {
   "cell_type": "code",
   "execution_count": 202,
   "id": "045bbd86-db57-4ac1-8925-e31246fdbd91",
   "metadata": {},
   "outputs": [
    {
     "data": {
      "text/plain": [
       "[1, 2, 3, 4, [-1, -2, -3, -4]]"
      ]
     },
     "execution_count": 202,
     "metadata": {},
     "output_type": "execute_result"
    }
   ],
   "source": [
    "a"
   ]
  },
  {
   "cell_type": "markdown",
   "id": "f1dfe867-8e77-48ac-9c9e-54370f33d14b",
   "metadata": {},
   "source": [
    "**(index)**"
   ]
  },
  {
   "cell_type": "code",
   "execution_count": 236,
   "id": "95df8210-ac24-45fb-96c2-9ee8c5520476",
   "metadata": {},
   "outputs": [
    {
     "data": {
      "text/plain": [
       "\u001b[0;31mSignature:\u001b[0m \u001b[0ma\u001b[0m\u001b[0;34m.\u001b[0m\u001b[0mindex\u001b[0m\u001b[0;34m(\u001b[0m\u001b[0mvalue\u001b[0m\u001b[0;34m,\u001b[0m \u001b[0mstart\u001b[0m\u001b[0;34m=\u001b[0m\u001b[0;36m0\u001b[0m\u001b[0;34m,\u001b[0m \u001b[0mstop\u001b[0m\u001b[0;34m=\u001b[0m\u001b[0;36m9223372036854775807\u001b[0m\u001b[0;34m,\u001b[0m \u001b[0;34m/\u001b[0m\u001b[0;34m)\u001b[0m\u001b[0;34m\u001b[0m\u001b[0;34m\u001b[0m\u001b[0m\n",
       "\u001b[0;31mDocstring:\u001b[0m\n",
       "Return first index of value.\n",
       "\n",
       "Raises ValueError if the value is not present.\n",
       "\u001b[0;31mType:\u001b[0m      builtin_function_or_method\n"
      ]
     },
     "metadata": {},
     "output_type": "display_data"
    }
   ],
   "source": [
    "a=[11,22,'a',True, 22,'a']\n",
    "a.index?"
   ]
  },
  {
   "cell_type": "code",
   "execution_count": 237,
   "id": "a9b163db-4f26-4d30-9f5b-3a02ec563da3",
   "metadata": {},
   "outputs": [
    {
     "data": {
      "text/plain": [
       "0"
      ]
     },
     "execution_count": 237,
     "metadata": {},
     "output_type": "execute_result"
    }
   ],
   "source": [
    "a.index(11)"
   ]
  },
  {
   "cell_type": "code",
   "execution_count": 238,
   "id": "772b98b6-45da-4bac-b733-89f1e03e208f",
   "metadata": {},
   "outputs": [
    {
     "data": {
      "text/plain": [
       "1"
      ]
     },
     "execution_count": 238,
     "metadata": {},
     "output_type": "execute_result"
    }
   ],
   "source": [
    "a.index(22)"
   ]
  },
  {
   "cell_type": "code",
   "execution_count": 239,
   "id": "90b10c27-8022-4d71-9752-87ff9464657e",
   "metadata": {},
   "outputs": [
    {
     "data": {
      "text/plain": [
       "2"
      ]
     },
     "execution_count": 239,
     "metadata": {},
     "output_type": "execute_result"
    }
   ],
   "source": [
    "a.index('a')"
   ]
  },
  {
   "cell_type": "code",
   "execution_count": 240,
   "id": "eb2acbe9-2404-4e25-b81d-ff1c2f626953",
   "metadata": {},
   "outputs": [
    {
     "data": {
      "text/plain": [
       "3"
      ]
     },
     "execution_count": 240,
     "metadata": {},
     "output_type": "execute_result"
    }
   ],
   "source": [
    "a.index(True)"
   ]
  },
  {
   "cell_type": "markdown",
   "id": "02ecd302-b2ca-45ff-912f-3f4068daa786",
   "metadata": {},
   "source": [
    "**(insert)**"
   ]
  },
  {
   "cell_type": "code",
   "execution_count": 242,
   "id": "07a69701-8ecb-4a5d-bb47-e103ff3c5036",
   "metadata": {},
   "outputs": [
    {
     "data": {
      "text/plain": [
       "\u001b[0;31mSignature:\u001b[0m \u001b[0ma\u001b[0m\u001b[0;34m.\u001b[0m\u001b[0minsert\u001b[0m\u001b[0;34m(\u001b[0m\u001b[0mindex\u001b[0m\u001b[0;34m,\u001b[0m \u001b[0mobject\u001b[0m\u001b[0;34m,\u001b[0m \u001b[0;34m/\u001b[0m\u001b[0;34m)\u001b[0m\u001b[0;34m\u001b[0m\u001b[0;34m\u001b[0m\u001b[0m\n",
       "\u001b[0;31mDocstring:\u001b[0m Insert object before index.\n",
       "\u001b[0;31mType:\u001b[0m      builtin_function_or_method\n"
      ]
     },
     "metadata": {},
     "output_type": "display_data"
    }
   ],
   "source": [
    "a=[1,2,3]\n",
    "a.insert?"
   ]
  },
  {
   "cell_type": "code",
   "execution_count": 243,
   "id": "a0deb0a4-cca6-4143-9c12-a2aabc03b7a3",
   "metadata": {},
   "outputs": [
    {
     "data": {
      "text/plain": [
       "[1, 88, 2, 3]"
      ]
     },
     "execution_count": 243,
     "metadata": {},
     "output_type": "execute_result"
    }
   ],
   "source": [
    "a.insert(1,88) \n",
    "a"
   ]
  },
  {
   "cell_type": "markdown",
   "id": "1501111f-fa25-41d3-b331-b85122b4457b",
   "metadata": {},
   "source": [
    "**(pop)**"
   ]
  },
  {
   "cell_type": "code",
   "execution_count": 250,
   "id": "5ac3a564-6d01-43ac-9347-5da154cd02ff",
   "metadata": {},
   "outputs": [
    {
     "data": {
      "text/plain": [
       "\u001b[0;31mSignature:\u001b[0m \u001b[0ma\u001b[0m\u001b[0;34m.\u001b[0m\u001b[0mpop\u001b[0m\u001b[0;34m(\u001b[0m\u001b[0mindex\u001b[0m\u001b[0;34m=\u001b[0m\u001b[0;34m-\u001b[0m\u001b[0;36m1\u001b[0m\u001b[0;34m,\u001b[0m \u001b[0;34m/\u001b[0m\u001b[0;34m)\u001b[0m\u001b[0;34m\u001b[0m\u001b[0;34m\u001b[0m\u001b[0m\n",
       "\u001b[0;31mDocstring:\u001b[0m\n",
       "Remove and return item at index (default last).\n",
       "\n",
       "Raises IndexError if list is empty or index is out of range.\n",
       "\u001b[0;31mType:\u001b[0m      builtin_function_or_method\n"
      ]
     },
     "metadata": {},
     "output_type": "display_data"
    }
   ],
   "source": [
    "a=['a',1,2,'d']\n",
    "a.pop?"
   ]
  },
  {
   "cell_type": "code",
   "execution_count": 251,
   "id": "40758f36-b08e-4179-a063-4aeef3648774",
   "metadata": {},
   "outputs": [
    {
     "data": {
      "text/plain": [
       "'d'"
      ]
     },
     "execution_count": 251,
     "metadata": {},
     "output_type": "execute_result"
    }
   ],
   "source": [
    "a.pop() # index=-1 이므로 마지막원소가 나타남"
   ]
  },
  {
   "cell_type": "code",
   "execution_count": 252,
   "id": "83147f1f-33e4-488a-8b28-1d3b86fe4ff3",
   "metadata": {},
   "outputs": [
    {
     "data": {
      "text/plain": [
       "['a', 1, 2]"
      ]
     },
     "execution_count": 252,
     "metadata": {},
     "output_type": "execute_result"
    }
   ],
   "source": [
    "a # a는 마지막 원소가 사라진 상태"
   ]
  },
  {
   "cell_type": "code",
   "execution_count": 253,
   "id": "bd8d8fad-6a21-459a-b67c-ac2c98e87f65",
   "metadata": {},
   "outputs": [
    {
     "data": {
      "text/plain": [
       "'a'"
      ]
     },
     "execution_count": 253,
     "metadata": {},
     "output_type": "execute_result"
    }
   ],
   "source": [
    "a.pop(0) # index=0 이므로 첫번쨰 원소가 나타남"
   ]
  },
  {
   "cell_type": "code",
   "execution_count": 254,
   "id": "def5ffe9-98e9-41d3-87e3-b09c77e135d0",
   "metadata": {},
   "outputs": [
    {
     "data": {
      "text/plain": [
       "[1, 2]"
      ]
     },
     "execution_count": 254,
     "metadata": {},
     "output_type": "execute_result"
    }
   ],
   "source": [
    "a # a에는 첫번째 원소가 사라진 상태"
   ]
  },
  {
   "cell_type": "markdown",
   "id": "2a515457-5972-4e27-8bec-5be43875c675",
   "metadata": {},
   "source": [
    "**(remove)**"
   ]
  },
  {
   "cell_type": "code",
   "execution_count": 255,
   "id": "372040f9-23aa-4767-8c9c-28c68ea023d2",
   "metadata": {},
   "outputs": [
    {
     "data": {
      "text/plain": [
       "\u001b[0;31mSignature:\u001b[0m \u001b[0ma\u001b[0m\u001b[0;34m.\u001b[0m\u001b[0mremove\u001b[0m\u001b[0;34m(\u001b[0m\u001b[0mvalue\u001b[0m\u001b[0;34m,\u001b[0m \u001b[0;34m/\u001b[0m\u001b[0;34m)\u001b[0m\u001b[0;34m\u001b[0m\u001b[0;34m\u001b[0m\u001b[0m\n",
       "\u001b[0;31mDocstring:\u001b[0m\n",
       "Remove first occurrence of value.\n",
       "\n",
       "Raises ValueError if the value is not present.\n",
       "\u001b[0;31mType:\u001b[0m      builtin_function_or_method\n"
      ]
     },
     "metadata": {},
     "output_type": "display_data"
    }
   ],
   "source": [
    "a=['a',2,3,'d']\n",
    "a.remove?"
   ]
  },
  {
   "cell_type": "code",
   "execution_count": 256,
   "id": "0cadeccb-1832-41ec-85b1-32f8a085bc0a",
   "metadata": {},
   "outputs": [],
   "source": [
    "a.remove('d')"
   ]
  },
  {
   "cell_type": "code",
   "execution_count": 257,
   "id": "8d4ce8af-c268-4341-b2d9-f7b85126dc62",
   "metadata": {},
   "outputs": [
    {
     "data": {
      "text/plain": [
       "['a', 2, 3]"
      ]
     },
     "execution_count": 257,
     "metadata": {},
     "output_type": "execute_result"
    }
   ],
   "source": [
    "a"
   ]
  },
  {
   "cell_type": "code",
   "execution_count": 259,
   "id": "caad9105-f4b8-41c2-996e-5ceb2a47023c",
   "metadata": {},
   "outputs": [],
   "source": [
    "a.remove('a')"
   ]
  },
  {
   "cell_type": "code",
   "execution_count": 260,
   "id": "59e8f237-1b0e-454c-afe9-59498e6689d9",
   "metadata": {},
   "outputs": [
    {
     "data": {
      "text/plain": [
       "[2, 3]"
      ]
     },
     "execution_count": 260,
     "metadata": {},
     "output_type": "execute_result"
    }
   ],
   "source": [
    "a"
   ]
  },
  {
   "cell_type": "markdown",
   "id": "9b7b4cea-afdf-4c1d-953a-8b03f7a1bd3c",
   "metadata": {},
   "source": [
    "**(reverse)**"
   ]
  },
  {
   "cell_type": "code",
   "execution_count": 262,
   "id": "700f6176-1d99-4579-a051-0feb02846e33",
   "metadata": {},
   "outputs": [
    {
     "data": {
      "text/plain": [
       "\u001b[0;31mSignature:\u001b[0m \u001b[0ma\u001b[0m\u001b[0;34m.\u001b[0m\u001b[0mreverse\u001b[0m\u001b[0;34m(\u001b[0m\u001b[0;34m)\u001b[0m\u001b[0;34m\u001b[0m\u001b[0;34m\u001b[0m\u001b[0m\n",
       "\u001b[0;31mDocstring:\u001b[0m Reverse *IN PLACE*.\n",
       "\u001b[0;31mType:\u001b[0m      builtin_function_or_method\n"
      ]
     },
     "metadata": {},
     "output_type": "display_data"
    }
   ],
   "source": [
    "a=[1,2,3,4]\n",
    "a.reverse?"
   ]
  },
  {
   "cell_type": "code",
   "execution_count": 263,
   "id": "d2f536cd-23e5-4a19-aaf4-e6639fd4be85",
   "metadata": {},
   "outputs": [
    {
     "data": {
      "text/plain": [
       "[4, 3, 2, 1]"
      ]
     },
     "execution_count": 263,
     "metadata": {},
     "output_type": "execute_result"
    }
   ],
   "source": [
    "a.reverse()\n",
    "a"
   ]
  },
  {
   "cell_type": "markdown",
   "id": "fb3aea61-e517-4a21-b145-e4b73f6d2d5f",
   "metadata": {},
   "source": [
    "**(sort)**"
   ]
  },
  {
   "cell_type": "code",
   "execution_count": 265,
   "id": "c6ecc73b-685e-4855-a1f5-6921dc565de9",
   "metadata": {},
   "outputs": [
    {
     "data": {
      "text/plain": [
       "\u001b[0;31mSignature:\u001b[0m \u001b[0ma\u001b[0m\u001b[0;34m.\u001b[0m\u001b[0msort\u001b[0m\u001b[0;34m(\u001b[0m\u001b[0;34m*\u001b[0m\u001b[0;34m,\u001b[0m \u001b[0mkey\u001b[0m\u001b[0;34m=\u001b[0m\u001b[0;32mNone\u001b[0m\u001b[0;34m,\u001b[0m \u001b[0mreverse\u001b[0m\u001b[0;34m=\u001b[0m\u001b[0;32mFalse\u001b[0m\u001b[0;34m)\u001b[0m\u001b[0;34m\u001b[0m\u001b[0;34m\u001b[0m\u001b[0m\n",
       "\u001b[0;31mDocstring:\u001b[0m\n",
       "Sort the list in ascending order and return None.\n",
       "\n",
       "The sort is in-place (i.e. the list itself is modified) and stable (i.e. the\n",
       "order of two equal elements is maintained).\n",
       "\n",
       "If a key function is given, apply it once to each list item and sort them,\n",
       "ascending or descending, according to their function values.\n",
       "\n",
       "The reverse flag can be set to sort in descending order.\n",
       "\u001b[0;31mType:\u001b[0m      builtin_function_or_method\n"
      ]
     },
     "metadata": {},
     "output_type": "display_data"
    }
   ],
   "source": [
    "a=[1,3,2,4]\n",
    "a.sort?"
   ]
  },
  {
   "cell_type": "code",
   "execution_count": 266,
   "id": "9c12b2f3-a6c0-4a7b-b4c8-dcb335d594c9",
   "metadata": {},
   "outputs": [
    {
     "data": {
      "text/plain": [
       "[1, 2, 3, 4]"
      ]
     },
     "execution_count": 266,
     "metadata": {},
     "output_type": "execute_result"
    }
   ],
   "source": [
    "a.sort()\n",
    "a"
   ]
  },
  {
   "cell_type": "markdown",
   "id": "053eb305-7d15-4ed6-aa49-793a55a03c6d",
   "metadata": {},
   "source": [
    "(다른예제들)"
   ]
  },
  {
   "cell_type": "code",
   "execution_count": 271,
   "id": "e7a9a55a-7fb4-462c-94d5-8283d9572623",
   "metadata": {},
   "outputs": [
    {
     "data": {
      "text/plain": [
       "['g', 'u', 'e', 'b', 'i', 'n']"
      ]
     },
     "execution_count": 271,
     "metadata": {},
     "output_type": "execute_result"
    }
   ],
   "source": [
    "a=list('guebin')\n",
    "a"
   ]
  },
  {
   "cell_type": "code",
   "execution_count": 272,
   "id": "151a0fea-95b7-460a-8b71-77cf3fa4837d",
   "metadata": {},
   "outputs": [
    {
     "data": {
      "text/plain": [
       "['b', 'e', 'g', 'i', 'n', 'u']"
      ]
     },
     "execution_count": 272,
     "metadata": {},
     "output_type": "execute_result"
    }
   ],
   "source": [
    "a.sort()\n",
    "a"
   ]
  },
  {
   "cell_type": "code",
   "execution_count": 274,
   "id": "9e9ce4f2-5604-4a4f-9ce8-c7321e6d77fc",
   "metadata": {},
   "outputs": [
    {
     "data": {
      "text/plain": [
       "['u', 'n', 'i', 'g', 'e', 'b']"
      ]
     },
     "execution_count": 274,
     "metadata": {},
     "output_type": "execute_result"
    }
   ],
   "source": [
    "a.sort(reverse=True)\n",
    "a"
   ]
  },
  {
   "cell_type": "markdown",
   "id": "db5f2f12-869d-4ac2-8cad-0bafce3e508b",
   "metadata": {},
   "source": [
    "## 중첩리스트 "
   ]
  },
  {
   "cell_type": "code",
   "execution_count": 275,
   "id": "a0a2f585-1735-4530-8aa4-6295cb7701a2",
   "metadata": {},
   "outputs": [
    {
     "data": {
      "text/plain": [
       "[[1, 2, 3], [4, 5, 6], [7, 8, 9]]"
      ]
     },
     "execution_count": 275,
     "metadata": {},
     "output_type": "execute_result"
    }
   ],
   "source": [
    "A=[[1,2,3],[4,5,6],[7,8,9]]\n",
    "A"
   ]
  },
  {
   "cell_type": "markdown",
   "id": "5d033b68-2179-4c6d-8840-816f036acb24",
   "metadata": {},
   "source": [
    "`-` A는 아래와 같은 매트릭스로 이해할 수 있다"
   ]
  },
  {
   "cell_type": "markdown",
   "id": "2736e469-42e2-4519-89d3-b6633278e4c1",
   "metadata": {},
   "source": [
    "$\n",
    "\\bf{A}=\\begin{bmatrix}\n",
    "1 & 2 & 3 \\\\ \n",
    "4 & 5 & 6 \\\\ \n",
    "7 & 8 & 9 \n",
    "\\end{bmatrix}\n",
    "$"
   ]
  },
  {
   "cell_type": "markdown",
   "id": "222976d4-1fe8-4c5c-acd1-be1ee5a94602",
   "metadata": {},
   "source": [
    "`-` A에서 (2,1)의 원소를 뽑고싶다 = 4를 뽑고싶다 "
   ]
  },
  {
   "cell_type": "code",
   "execution_count": 279,
   "id": "41fe9c3d-98de-4977-9980-7cd1edc4fa3c",
   "metadata": {},
   "outputs": [
    {
     "ename": "TypeError",
     "evalue": "list indices must be integers or slices, not tuple",
     "output_type": "error",
     "traceback": [
      "\u001b[0;31m---------------------------------------------------------------------------\u001b[0m",
      "\u001b[0;31mTypeError\u001b[0m                                 Traceback (most recent call last)",
      "Input \u001b[0;32mIn [279]\u001b[0m, in \u001b[0;36m<module>\u001b[0;34m\u001b[0m\n\u001b[0;32m----> 1\u001b[0m \u001b[43mA\u001b[49m\u001b[43m[\u001b[49m\u001b[38;5;241;43m1\u001b[39;49m\u001b[43m,\u001b[49m\u001b[38;5;241;43m0\u001b[39;49m\u001b[43m]\u001b[49m\n",
      "\u001b[0;31mTypeError\u001b[0m: list indices must be integers or slices, not tuple"
     ]
    }
   ],
   "source": [
    "A[1,0]"
   ]
  },
  {
   "cell_type": "markdown",
   "id": "63586148-ae37-4aa8-ad9e-23a380a460fb",
   "metadata": {},
   "source": [
    "- 실패"
   ]
  },
  {
   "cell_type": "code",
   "execution_count": 278,
   "id": "f16115c0-cebc-47e3-9ff5-ce4ddcae8bba",
   "metadata": {},
   "outputs": [
    {
     "data": {
      "text/plain": [
       "4"
      ]
     },
     "execution_count": 278,
     "metadata": {},
     "output_type": "execute_result"
    }
   ],
   "source": [
    "A[1][0]"
   ]
  },
  {
   "cell_type": "markdown",
   "id": "67f0b381-8f96-49bd-adb6-69a9fca82d96",
   "metadata": {},
   "source": [
    "- 성공 "
   ]
  },
  {
   "cell_type": "markdown",
   "id": "0f2872d3-7469-47ca-ab10-e1af49944d30",
   "metadata": {},
   "source": [
    "`-` 성공의 이유를 분석해보자. "
   ]
  },
  {
   "cell_type": "code",
   "execution_count": 285,
   "id": "6b2631c9-f1ea-459a-bd0f-01b0b61e9b54",
   "metadata": {},
   "outputs": [
    {
     "data": {
      "text/plain": [
       "[[1, 2, 3], [4, 5, 6], [7, 8, 9]]"
      ]
     },
     "execution_count": 285,
     "metadata": {},
     "output_type": "execute_result"
    }
   ],
   "source": [
    "A"
   ]
  },
  {
   "cell_type": "code",
   "execution_count": 286,
   "id": "3361f2cd-8bdd-4d7b-a0df-6a14b2014c42",
   "metadata": {},
   "outputs": [
    {
     "data": {
      "text/plain": [
       "[4, 5, 6]"
      ]
     },
     "execution_count": 286,
     "metadata": {},
     "output_type": "execute_result"
    }
   ],
   "source": [
    "A[1]"
   ]
  },
  {
   "cell_type": "code",
   "execution_count": 287,
   "id": "0a167eaf-d46f-43d6-b496-14ffefe00cba",
   "metadata": {},
   "outputs": [
    {
     "data": {
      "text/plain": [
       "4"
      ]
     },
     "execution_count": 287,
     "metadata": {},
     "output_type": "execute_result"
    }
   ],
   "source": [
    "A[1][0]"
   ]
  },
  {
   "cell_type": "markdown",
   "id": "5b3896c8-91af-4508-a559-42e7b9a7d096",
   "metadata": {},
   "source": [
    "`-` 매트릭스는 아니지만 매트릭스 같음!\n",
    "- 1차원 배열을 다차원 배열로 확장할 수 있는 기본 아이디어를 제공함 "
   ]
  },
  {
   "cell_type": "markdown",
   "id": "4759caca-6c57-431e-ada2-175eaa2ec12a",
   "metadata": {},
   "source": [
    "## 리스트컴프리헨션($\\star\\star\\star$)"
   ]
  },
  {
   "cell_type": "markdown",
   "id": "aa8bc2bc-204a-42c8-a11b-9794f08f0d70",
   "metadata": {},
   "source": [
    "`-` 리스트 컴프리헨션을 이해하기 전에 for문에 대하여 알아보자. "
   ]
  },
  {
   "cell_type": "markdown",
   "id": "31a3c43f-3355-407e-81f9-5bb9368a47a3",
   "metadata": {},
   "source": [
    "[예비학습] `for`문 벼락치기"
   ]
  },
  {
   "cell_type": "markdown",
   "id": "10241829-7ffb-4dd6-92df-8bd5b1fa35db",
   "metadata": {},
   "source": [
    "프로그램안에서 반복해서 무엇인가를 하고싶다 $\\to$ for "
   ]
  },
  {
   "cell_type": "code",
   "execution_count": 371,
   "id": "acfd7ba3-bdd0-41d7-86bf-4953378a5a2f",
   "metadata": {},
   "outputs": [
    {
     "name": "stdout",
     "output_type": "stream",
     "text": [
      "0\n",
      "1\n",
      "2\n",
      "3\n"
     ]
    }
   ],
   "source": [
    "for i in [0,1,2,3]: ## 반복실행계획\n",
    "    print(i) ## 반복실행할내용, 탭을이용하여 들여쓰기해야한다. "
   ]
  },
  {
   "cell_type": "markdown",
   "id": "04af242a-61a1-40d5-907b-bbc622fac3c1",
   "metadata": {},
   "source": [
    "(예제) 1,2,3,4의 합을 for문을 이용하여 구해보자. "
   ]
  },
  {
   "cell_type": "code",
   "execution_count": 360,
   "id": "014e848f-15d9-4906-bd19-2de508048500",
   "metadata": {},
   "outputs": [],
   "source": [
    "_sum = 0\n",
    "for i in [1,2,3,4]: \n",
    "    _sum = _sum + i "
   ]
  },
  {
   "cell_type": "code",
   "execution_count": 361,
   "id": "1a92bd10-cbab-4ac3-93a4-930f4b27137b",
   "metadata": {},
   "outputs": [
    {
     "data": {
      "text/plain": [
       "10"
      ]
     },
     "execution_count": 361,
     "metadata": {},
     "output_type": "execute_result"
    }
   ],
   "source": [
    "_sum"
   ]
  },
  {
   "cell_type": "code",
   "execution_count": 364,
   "id": "4eb38477-861a-4d14-b30d-c5a6b7eb745a",
   "metadata": {},
   "outputs": [],
   "source": [
    "_sum = 0\n",
    "i=1 \n",
    "_sum = _sum + i ## 1 <= 0+1\n",
    "i=2\n",
    "_sum = _sum + i ## 3 <= 1+2 \n",
    "i=3 \n",
    "_sum = _sum + i ## 6 <= 3+3\n",
    "i=4\n",
    "_sum = _sum + i ## 10 <= 6+4 "
   ]
  },
  {
   "cell_type": "code",
   "execution_count": 365,
   "id": "c263297d-7a7a-432f-8f78-93b14dcb04ce",
   "metadata": {},
   "outputs": [
    {
     "data": {
      "text/plain": [
       "10"
      ]
     },
     "execution_count": 365,
     "metadata": {},
     "output_type": "execute_result"
    }
   ],
   "source": [
    "_sum"
   ]
  },
  {
   "cell_type": "markdown",
   "id": "4ae92b76-5a27-476e-9ac6-f3cfafabf6b5",
   "metadata": {},
   "source": [
    "예비학습끝"
   ]
  },
  {
   "cell_type": "markdown",
   "id": "0b87cbdc-114b-4c01-8bbc-cf87278e003d",
   "metadata": {},
   "source": [
    "`-` 예제: $2^0, 2^1, 2^2, 2^3$를 원소로 가지는 리스트를 생성하라. "
   ]
  },
  {
   "cell_type": "markdown",
   "id": "1488b17e-6e0b-433c-addb-ade41d5abb64",
   "metadata": {},
   "source": [
    "(풀이1) 직접입력"
   ]
  },
  {
   "cell_type": "code",
   "execution_count": 386,
   "id": "2856dbc0-fb94-4322-b683-539c5ba8ee5c",
   "metadata": {},
   "outputs": [
    {
     "data": {
      "text/plain": [
       "[1, 2, 4, 8]"
      ]
     },
     "execution_count": 386,
     "metadata": {},
     "output_type": "execute_result"
    }
   ],
   "source": [
    "x= [2**0, 2**1, 2**2, 2**3] \n",
    "x"
   ]
  },
  {
   "cell_type": "markdown",
   "id": "798fd585-5ffd-4f97-9d63-946b5d4bf5ea",
   "metadata": {},
   "source": [
    "(풀이2) for문을 이용함 "
   ]
  },
  {
   "cell_type": "code",
   "execution_count": 388,
   "id": "fdce1b11-509f-4576-ae87-de0fc74b1b57",
   "metadata": {},
   "outputs": [],
   "source": [
    "x=[] \n",
    "for i in [0,1,2,3]:\n",
    "    x.append(2**i) "
   ]
  },
  {
   "cell_type": "code",
   "execution_count": 389,
   "id": "a2acffed-e2bf-4bbb-aed5-ac2b9aa359ba",
   "metadata": {},
   "outputs": [
    {
     "data": {
      "text/plain": [
       "[1, 2, 4, 8]"
      ]
     },
     "execution_count": 389,
     "metadata": {},
     "output_type": "execute_result"
    }
   ],
   "source": [
    "x"
   ]
  },
  {
   "cell_type": "markdown",
   "id": "72d6118a-760d-474d-b8e3-b6562a58f3fd",
   "metadata": {},
   "source": [
    "(풀이3) for문을 이용함 "
   ]
  },
  {
   "cell_type": "code",
   "execution_count": 390,
   "id": "da7ca85a-2cd1-496a-aecb-8a6682d45bed",
   "metadata": {},
   "outputs": [],
   "source": [
    "x=[] \n",
    "for i in [0,1,2,3]:\n",
    "    x = x+[2**i]"
   ]
  },
  {
   "cell_type": "code",
   "execution_count": 391,
   "id": "d6d20c4f-120f-4d21-a652-4e8714a208f6",
   "metadata": {},
   "outputs": [
    {
     "data": {
      "text/plain": [
       "[1, 2, 4, 8]"
      ]
     },
     "execution_count": 391,
     "metadata": {},
     "output_type": "execute_result"
    }
   ],
   "source": [
    "x"
   ]
  },
  {
   "cell_type": "markdown",
   "id": "ec336bb6-3577-4920-a730-9da2d43e27d1",
   "metadata": {},
   "source": [
    "(풀이4) for문을 이용함 "
   ]
  },
  {
   "cell_type": "code",
   "execution_count": 392,
   "id": "58283bd8-85bc-4238-8ab6-cf3f97810fc3",
   "metadata": {},
   "outputs": [],
   "source": [
    "x=[] \n",
    "for i in [0,1,2,3]:\n",
    "    x += [2**i]"
   ]
  },
  {
   "cell_type": "code",
   "execution_count": 393,
   "id": "4dced052-3ea9-4102-b503-503c793d8a74",
   "metadata": {},
   "outputs": [
    {
     "data": {
      "text/plain": [
       "[1, 2, 4, 8]"
      ]
     },
     "execution_count": 393,
     "metadata": {},
     "output_type": "execute_result"
    }
   ],
   "source": [
    "x"
   ]
  },
  {
   "cell_type": "markdown",
   "id": "e7f8ecab-e1df-4fa7-a549-2568cb35dd0c",
   "metadata": {},
   "source": [
    "(풀이5) 리스트컴프리헨션을 이용한 풀이 "
   ]
  },
  {
   "cell_type": "code",
   "execution_count": 394,
   "id": "a94f7d18-5529-46ae-a641-f485babb9499",
   "metadata": {},
   "outputs": [
    {
     "data": {
      "text/plain": [
       "[1, 2, 4, 8]"
      ]
     },
     "execution_count": 394,
     "metadata": {},
     "output_type": "execute_result"
    }
   ],
   "source": [
    "x= [2**i for i in [0,1,2,3]] \n",
    "x"
   ]
  },
  {
   "cell_type": "markdown",
   "id": "c049d7a6-df55-494f-94a3-041cf3c26653",
   "metadata": {},
   "source": [
    "`-` 리스트컴프리헨션의 문법 암기방법 \n",
    "- 집합에서 조건제시법을 연상 \n",
    "- $\\{2^0,2^1,2^2,2^3\\}=\\{2^i: i \\in \\{0,1,2,3\\} \\}$"
   ]
  },
  {
   "cell_type": "markdown",
   "id": "a0914ef7-b712-4cf1-a427-c1d10a3417aa",
   "metadata": {},
   "source": [
    "`-` 리스트컴프리헨션이란? \n",
    "- 리스트를 매우 효율적으로 만드는 테크닉 \n",
    "- for문에 비하여 가지고 있는 장점: (1) 코드가 간결하다 (2) 빠르다 "
   ]
  },
  {
   "cell_type": "markdown",
   "id": "c1a578c8-c5d9-4810-b267-8cf75344ced6",
   "metadata": {},
   "source": [
    "`-` 예제: 리스트 컴프리헨션을 이용하여 아래와 같은 리스트를 만들어라. "
   ]
  },
  {
   "cell_type": "code",
   "execution_count": 396,
   "id": "c8556c03-823f-48ab-be8d-ca7b2a2a2604",
   "metadata": {},
   "outputs": [
    {
     "data": {
      "text/plain": [
       "['SSSS', 'PPPP', 'AAAA', 'MMMM']"
      ]
     },
     "execution_count": 396,
     "metadata": {},
     "output_type": "execute_result"
    }
   ],
   "source": [
    "['SSSS','PPPP','AAAA','MMMM']"
   ]
  },
  {
   "cell_type": "markdown",
   "id": "16f249f6-b50c-4013-8cc3-6f7b0207a8cc",
   "metadata": {},
   "source": [
    "(풀이)"
   ]
  },
  {
   "cell_type": "code",
   "execution_count": 397,
   "id": "a26eedaa-179f-43f1-878f-87b44eb412ee",
   "metadata": {},
   "outputs": [
    {
     "data": {
      "text/plain": [
       "['SSSS', 'PPPP', 'AAAA', 'MMMM']"
      ]
     },
     "execution_count": 397,
     "metadata": {},
     "output_type": "execute_result"
    }
   ],
   "source": [
    "[i*4 for i in 'SPAM']"
   ]
  },
  {
   "cell_type": "markdown",
   "id": "bfe05458-f530-4298-aa59-f3af3d0ec5fa",
   "metadata": {},
   "source": [
    "`-` 예제: 리스트컴프리헨션을 이용하여 아래와 같은 리스트를 만들어라. "
   ]
  },
  {
   "cell_type": "code",
   "execution_count": 401,
   "id": "5f0d1c0b-a45e-4147-8e1d-116d2dc18939",
   "metadata": {},
   "outputs": [
    {
     "data": {
      "text/plain": [
       "['X1', 'X2', 'X3', 'Y1', 'Y2', 'Y3']"
      ]
     },
     "execution_count": 401,
     "metadata": {},
     "output_type": "execute_result"
    }
   ],
   "source": [
    "['X1','X2','X3','Y1','Y2','Y3']"
   ]
  },
  {
   "cell_type": "markdown",
   "id": "8de7391a-0827-44bf-895d-13cc13a66e9c",
   "metadata": {},
   "source": [
    "(풀이) "
   ]
  },
  {
   "cell_type": "code",
   "execution_count": 405,
   "id": "0d849891-5c7a-4a13-bea3-50d64e12f356",
   "metadata": {},
   "outputs": [
    {
     "data": {
      "text/plain": [
       "['X1', 'X2', 'X3', 'Y1', 'Y2', 'Y3']"
      ]
     },
     "execution_count": 405,
     "metadata": {},
     "output_type": "execute_result"
    }
   ],
   "source": [
    "[i+j for i in 'XY' for j in '123']"
   ]
  },
  {
   "cell_type": "markdown",
   "id": "b3082152-7c1c-49cb-aeb6-3d5dc16d3ebc",
   "metadata": {},
   "source": [
    "`-` 예제: 리스트컴프리헨션을 이용하여 통계1,...,통계5,수학1,...,수학5를 만들어라. "
   ]
  },
  {
   "cell_type": "markdown",
   "id": "a8536a47-36ac-4d7e-ae75-b8fc4d216e7a",
   "metadata": {},
   "source": [
    "(풀이) "
   ]
  },
  {
   "cell_type": "code",
   "execution_count": 407,
   "id": "561a1525-6ec2-48a0-812e-d0561176ebb0",
   "metadata": {},
   "outputs": [
    {
     "data": {
      "text/plain": [
       "['stat1',\n",
       " 'stat2',\n",
       " 'stat3',\n",
       " 'stat4',\n",
       " 'stat5',\n",
       " 'math1',\n",
       " 'math2',\n",
       " 'math3',\n",
       " 'math4',\n",
       " 'math5']"
      ]
     },
     "execution_count": 407,
     "metadata": {},
     "output_type": "execute_result"
    }
   ],
   "source": [
    "[x+y for x in ['stat','math'] for y in '12345'] "
   ]
  },
  {
   "cell_type": "markdown",
   "id": "2f69b23a-c4b9-4b39-b65f-e67bd8ac735f",
   "metadata": {},
   "source": [
    "- $\\{xy : x \\in \\{stat,math\\}, y \\in \\{1,2,3,4,5\\} \\}$ "
   ]
  },
  {
   "cell_type": "markdown",
   "id": "10cd45f6-ade4-4b4b-b198-ced305310efa",
   "metadata": {},
   "source": [
    "(다른풀이) 참고로 for문을 쓰면 좀 복잡해진다. "
   ]
  },
  {
   "cell_type": "code",
   "execution_count": 409,
   "id": "b79c5f56-2af8-4ab0-94c3-3ac0bd0a0844",
   "metadata": {},
   "outputs": [],
   "source": [
    "_lst = [] \n",
    "for x in ['stat','math']: \n",
    "    for y in '12345': \n",
    "        _lst = _lst + [x+y] "
   ]
  },
  {
   "cell_type": "code",
   "execution_count": 410,
   "id": "dd08b334-bd70-4055-af52-ff1e565cd98b",
   "metadata": {},
   "outputs": [
    {
     "data": {
      "text/plain": [
       "['stat1',\n",
       " 'stat2',\n",
       " 'stat3',\n",
       " 'stat4',\n",
       " 'stat5',\n",
       " 'math1',\n",
       " 'math2',\n",
       " 'math3',\n",
       " 'math4',\n",
       " 'math5']"
      ]
     },
     "execution_count": 410,
     "metadata": {},
     "output_type": "execute_result"
    }
   ],
   "source": [
    "_lst "
   ]
  },
  {
   "cell_type": "markdown",
   "id": "53496363-edf9-4edb-b8a7-842fbaa001f8",
   "metadata": {},
   "source": [
    "`-` 예제: 'jbnu'를 이용하여 아래와 같은 리스트를 만들어라. (리스트컴프리헨션을 이용할것) "
   ]
  },
  {
   "cell_type": "code",
   "execution_count": 412,
   "id": "1e2d42b3-adab-424e-868b-b89ea547583d",
   "metadata": {},
   "outputs": [
    {
     "data": {
      "text/plain": [
       "['j', 'b', 'n', 'u']"
      ]
     },
     "execution_count": 412,
     "metadata": {},
     "output_type": "execute_result"
    }
   ],
   "source": [
    "['j','b','n','u']"
   ]
  },
  {
   "cell_type": "markdown",
   "id": "a2ef4e1c-806a-4ef3-bbdb-6f8ecb6e4a16",
   "metadata": {},
   "source": [
    "(다른풀이) 아래와 같이 풀면 된다는것은 알고 있음  "
   ]
  },
  {
   "cell_type": "code",
   "execution_count": 415,
   "id": "02cd184b-3220-4196-8550-77550359d31b",
   "metadata": {},
   "outputs": [
    {
     "data": {
      "text/plain": [
       "['j', 'b', 'n', 'u']"
      ]
     },
     "execution_count": 415,
     "metadata": {},
     "output_type": "execute_result"
    }
   ],
   "source": [
    "list('jbnu')"
   ]
  },
  {
   "cell_type": "markdown",
   "id": "30a7317c-6f8c-45c1-b586-ed4e1a17f623",
   "metadata": {},
   "source": [
    "(풀이) "
   ]
  },
  {
   "cell_type": "code",
   "execution_count": 418,
   "id": "2c7a36aa-aa92-4921-845d-897d2d1cad32",
   "metadata": {},
   "outputs": [
    {
     "data": {
      "text/plain": [
       "['j', 'b', 'n', 'u']"
      ]
     },
     "execution_count": 418,
     "metadata": {},
     "output_type": "execute_result"
    }
   ],
   "source": [
    "[x for x in 'jbnu']"
   ]
  },
  {
   "cell_type": "markdown",
   "id": "cbd828ee-5056-4d91-93f6-36b590a237e0",
   "metadata": {},
   "source": [
    "`-` 예제: x에는 무엇이 있을까? "
   ]
  },
  {
   "cell_type": "markdown",
   "id": "b5fe25d2-ef90-41a5-8da2-71620872ef57",
   "metadata": {},
   "source": [
    "(경우1)"
   ]
  },
  {
   "cell_type": "code",
   "execution_count": 423,
   "id": "50b63fb5-5d89-4d40-9430-3255f69ba37e",
   "metadata": {},
   "outputs": [
    {
     "data": {
      "text/plain": [
       "['j', 'b', 'n', 'u']"
      ]
     },
     "execution_count": 423,
     "metadata": {},
     "output_type": "execute_result"
    }
   ],
   "source": [
    "x=1 \n",
    "lst = [] \n",
    "for x in 'jbnu': \n",
    "    lst = lst + [x]\n",
    "lst    "
   ]
  },
  {
   "cell_type": "code",
   "execution_count": 424,
   "id": "2e341918-2ad9-415c-99b3-f4b647f73e5b",
   "metadata": {},
   "outputs": [
    {
     "data": {
      "text/plain": [
       "'u'"
      ]
     },
     "execution_count": 424,
     "metadata": {},
     "output_type": "execute_result"
    }
   ],
   "source": [
    "x "
   ]
  },
  {
   "cell_type": "markdown",
   "id": "31eebe05-da7c-4565-8cf0-91eea4c2bf52",
   "metadata": {},
   "source": [
    "(경우2)"
   ]
  },
  {
   "cell_type": "code",
   "execution_count": 425,
   "id": "4c49b47e-73ad-4d31-b2ea-7a7035f5bf13",
   "metadata": {},
   "outputs": [
    {
     "data": {
      "text/plain": [
       "['j', 'b', 'n', 'u']"
      ]
     },
     "execution_count": 425,
     "metadata": {},
     "output_type": "execute_result"
    }
   ],
   "source": [
    "x=1 \n",
    "lst = [x for x in 'jbnu'] \n",
    "lst "
   ]
  },
  {
   "cell_type": "code",
   "execution_count": 426,
   "id": "d3b3ce0d-fd87-4a68-8329-13dd70207105",
   "metadata": {},
   "outputs": [
    {
     "data": {
      "text/plain": [
       "1"
      ]
     },
     "execution_count": 426,
     "metadata": {},
     "output_type": "execute_result"
    }
   ],
   "source": [
    "x"
   ]
  },
  {
   "cell_type": "markdown",
   "id": "9db73cd4-797c-45f9-8231-99ce20b8b73b",
   "metadata": {},
   "source": [
    "- 진짜 미묘하게 다르죠? "
   ]
  },
  {
   "cell_type": "markdown",
   "id": "f1d988d5-67e9-485d-9b1b-187357fd6f2b",
   "metadata": {},
   "source": [
    "`-` 예제: [X1,X2,X3,...,X100]와 같은 리스트를 만들어보라. "
   ]
  },
  {
   "cell_type": "markdown",
   "id": "5bbee6a1-32c9-41cf-9c81-ba441bbfb216",
   "metadata": {},
   "source": [
    "(풀이) "
   ]
  },
  {
   "cell_type": "code",
   "execution_count": 431,
   "id": "bb0451b5-f7a5-4881-817f-4969c21c5cd9",
   "metadata": {},
   "outputs": [
    {
     "data": {
      "text/plain": [
       "['X1', 'X2', 'X3', 'X4']"
      ]
     },
     "execution_count": 431,
     "metadata": {},
     "output_type": "execute_result"
    }
   ],
   "source": [
    "['X'+str(i) for i in [1,2,3,4]] ## 이걸 4까지가 아니라 100까지 써야함"
   ]
  },
  {
   "cell_type": "code",
   "execution_count": 432,
   "id": "86846b60-c0db-4e3d-b70e-a791874f0671",
   "metadata": {},
   "outputs": [
    {
     "ename": "SyntaxError",
     "evalue": "invalid syntax (<ipython-input-432-4555f37f5468>, line 1)",
     "output_type": "error",
     "traceback": [
      "\u001b[0;36m  Input \u001b[0;32mIn [432]\u001b[0;36m\u001b[0m\n\u001b[0;31m    ['X'+str(i) for i in 1:100]\u001b[0m\n\u001b[0m                          ^\u001b[0m\n\u001b[0;31mSyntaxError\u001b[0m\u001b[0;31m:\u001b[0m invalid syntax\n"
     ]
    }
   ],
   "source": [
    "['X'+str(i) for i in 1:100]"
   ]
  },
  {
   "cell_type": "markdown",
   "id": "20d4857d-a0e7-4231-b683-e611c69c6814",
   "metadata": {},
   "source": [
    "[예비학습]"
   ]
  },
  {
   "cell_type": "code",
   "execution_count": 434,
   "id": "8f04466d-35f0-4ce5-b111-0d8d729920b4",
   "metadata": {},
   "outputs": [
    {
     "data": {
      "text/plain": [
       "range(0, 10)"
      ]
     },
     "execution_count": 434,
     "metadata": {},
     "output_type": "execute_result"
    }
   ],
   "source": [
    "range(0,10)"
   ]
  },
  {
   "cell_type": "markdown",
   "id": "f2610384-e72e-41e2-8c10-53fcc3491dc6",
   "metadata": {},
   "source": [
    "- 이게뭐야? "
   ]
  },
  {
   "cell_type": "code",
   "execution_count": 438,
   "id": "bc5eb0b4-1020-4b81-a7ce-52a0d80aa1df",
   "metadata": {},
   "outputs": [
    {
     "data": {
      "text/plain": [
       "\u001b[0;31mType:\u001b[0m        range\n",
       "\u001b[0;31mString form:\u001b[0m range(0, 10)\n",
       "\u001b[0;31mLength:\u001b[0m      10\n",
       "\u001b[0;31mDocstring:\u001b[0m  \n",
       "range(stop) -> range object\n",
       "range(start, stop[, step]) -> range object\n",
       "\n",
       "Return an object that produces a sequence of integers from start (inclusive)\n",
       "to stop (exclusive) by step.  range(i, j) produces i, i+1, i+2, ..., j-1.\n",
       "start defaults to 0, and stop is omitted!  range(4) produces 0, 1, 2, 3.\n",
       "These are exactly the valid indices for a list of 4 elements.\n",
       "When step is given, it specifies the increment (or decrement).\n"
      ]
     },
     "metadata": {},
     "output_type": "display_data"
    }
   ],
   "source": [
    "_tmp = range(0,10)\n",
    "_tmp?"
   ]
  },
  {
   "cell_type": "markdown",
   "id": "fa1330b1-41a0-405a-8bfd-0f7a55332cbc",
   "metadata": {},
   "source": [
    "- 우리가 아는 범위에서는 모르겠음.. 이런게 있나보다 하고 넘어가야 하겠음 "
   ]
  },
  {
   "cell_type": "code",
   "execution_count": 448,
   "id": "1a1aa937-6fb2-448e-a9ad-94e006ab7d2c",
   "metadata": {},
   "outputs": [
    {
     "data": {
      "text/plain": [
       "[0, 1, 2, 3, 4, 5, 6, 7, 8, 9]"
      ]
     },
     "execution_count": 448,
     "metadata": {},
     "output_type": "execute_result"
    }
   ],
   "source": [
    "list(range(0,10)) # 0을 포함, 10을 미포함 "
   ]
  },
  {
   "cell_type": "markdown",
   "id": "224dc5ff-9575-45c3-bb49-abbb3f3e2e04",
   "metadata": {},
   "source": [
    "- 이게 중요한것임. range(0,10)를 리스트화시키면 [0,1,2,...,9] 와 같은 리스트를 얻을 수 있음.  "
   ]
  },
  {
   "cell_type": "code",
   "execution_count": 453,
   "id": "539dc503-263d-4628-a8dc-33ea899d3502",
   "metadata": {},
   "outputs": [
    {
     "data": {
      "text/plain": [
       "[0, 1, 2, 3, 4, 5, 6, 7, 8, 9]"
      ]
     },
     "execution_count": 453,
     "metadata": {},
     "output_type": "execute_result"
    }
   ],
   "source": [
    "list(range(10)) # 0은 생략가능"
   ]
  },
  {
   "cell_type": "code",
   "execution_count": 452,
   "id": "2659db20-8781-4dba-9cbf-77ebd26b4fe5",
   "metadata": {},
   "outputs": [
    {
     "data": {
      "text/plain": [
       "[2, 3, 4, 5, 6, 7, 8, 9]"
      ]
     },
     "execution_count": 452,
     "metadata": {},
     "output_type": "execute_result"
    }
   ],
   "source": [
    "list(range(2,10)) # 2는 포함, 10은 미포함 "
   ]
  },
  {
   "cell_type": "code",
   "execution_count": 455,
   "id": "01e5e76d-dd5b-4ae2-876f-bf3e858346ca",
   "metadata": {},
   "outputs": [
    {
     "data": {
      "text/plain": [
       "[1, 3, 5, 7, 9]"
      ]
     },
     "execution_count": 455,
     "metadata": {},
     "output_type": "execute_result"
    }
   ],
   "source": [
    "list(range(1,10,2)) # 2는 포함, 10은 미포함 "
   ]
  },
  {
   "cell_type": "markdown",
   "id": "97775d4d-5966-4b90-907f-8f0af6cfd5fb",
   "metadata": {},
   "source": [
    "예비학습 끝 "
   ]
  },
  {
   "cell_type": "code",
   "execution_count": 460,
   "id": "83f5e5a0-00b6-404f-9e8d-784b9cd97dce",
   "metadata": {},
   "outputs": [
    {
     "data": {
      "text/plain": [
       "['X1', 'X2', 'X3', 'X4', 'X5', 'X6', 'X7', 'X8', 'X9', 'X10', 'X11', 'X12']"
      ]
     },
     "execution_count": 460,
     "metadata": {},
     "output_type": "execute_result"
    }
   ],
   "source": [
    "['X'+str(i) for i in list(range(1,13))] ## 출력결과가 너무 기니까 101대신에 13으로 변경 "
   ]
  },
  {
   "cell_type": "markdown",
   "id": "95319822-00b4-41ce-a5ce-7167aa701b90",
   "metadata": {},
   "source": [
    "(아래와 같은 풀이도 가능) "
   ]
  },
  {
   "cell_type": "code",
   "execution_count": 466,
   "id": "ff85f1ae-b117-413d-9a1b-fe960b7c046a",
   "metadata": {},
   "outputs": [
    {
     "data": {
      "text/plain": [
       "['X1', 'X2', 'X3', 'X4', 'X5', 'X6', 'X7', 'X8', 'X9', 'X10', 'X11', 'X12']"
      ]
     },
     "execution_count": 466,
     "metadata": {},
     "output_type": "execute_result"
    }
   ],
   "source": [
    "['X'+str(i) for i in range(1,13)] ## 출력결과가 너무 기니까 101대신에 13으로 변경 "
   ]
  },
  {
   "cell_type": "markdown",
   "id": "7d38121b-8647-45a3-ab08-d019da38f07e",
   "metadata": {},
   "source": [
    "(딴생각) 생각해보니까 for문 뒤에 올수 있는것이 무엇인지 생각하는것도 흥미로울듯 "
   ]
  },
  {
   "cell_type": "code",
   "execution_count": 467,
   "id": "38db2bbf-a2bf-4a6f-8294-38ab59877564",
   "metadata": {},
   "outputs": [
    {
     "name": "stdout",
     "output_type": "stream",
     "text": [
      "1\n",
      "2\n",
      "3\n",
      "4\n"
     ]
    }
   ],
   "source": [
    "for i in '1234':\n",
    "    print(i)"
   ]
  },
  {
   "cell_type": "code",
   "execution_count": 468,
   "id": "81ab5a72-b0d0-4c85-a467-50470d84bb8b",
   "metadata": {},
   "outputs": [
    {
     "name": "stdout",
     "output_type": "stream",
     "text": [
      "1\n",
      "2\n",
      "3\n",
      "4\n"
     ]
    }
   ],
   "source": [
    "for i in [1,2,3,4]:\n",
    "    print(i)"
   ]
  },
  {
   "cell_type": "code",
   "execution_count": 470,
   "id": "2e4ee5d0-5a99-47f4-82a6-7982cc854279",
   "metadata": {},
   "outputs": [
    {
     "name": "stdout",
     "output_type": "stream",
     "text": [
      "1\n",
      "2\n",
      "3\n",
      "4\n"
     ]
    }
   ],
   "source": [
    "for i in (1,2,3,4): # (1,2,3,4)는 튜플\n",
    "    print(i)"
   ]
  },
  {
   "cell_type": "code",
   "execution_count": 474,
   "id": "860c1bb4-4590-4c39-b9f6-7239e355d759",
   "metadata": {},
   "outputs": [
    {
     "name": "stdout",
     "output_type": "stream",
     "text": [
      "1\n",
      "2\n",
      "3\n",
      "4\n"
     ]
    }
   ],
   "source": [
    "for i in {1,2,3,4}: # {1,2,3,4}는 set \n",
    "    print(i)"
   ]
  },
  {
   "cell_type": "code",
   "execution_count": 476,
   "id": "e973adfd-b7af-4fe6-b43b-9e1f39062148",
   "metadata": {},
   "outputs": [
    {
     "name": "stdout",
     "output_type": "stream",
     "text": [
      "name\n",
      "age\n"
     ]
    }
   ],
   "source": [
    "for i in {'name':'iu','age':28}: #{'name':'iu','age':28} 는 딕셔너리\n",
    "    print(i)"
   ]
  },
  {
   "cell_type": "code",
   "execution_count": 479,
   "id": "9de50054-9a92-40fe-b078-ce6af691ea50",
   "metadata": {},
   "outputs": [
    {
     "name": "stdout",
     "output_type": "stream",
     "text": [
      "1\n",
      "2\n",
      "3\n",
      "4\n"
     ]
    }
   ],
   "source": [
    "for i in range(1,5): \n",
    "    print(i)"
   ]
  },
  {
   "cell_type": "markdown",
   "id": "90fcf081-f581-4cd6-9f67-6514db0ae94c",
   "metadata": {},
   "source": [
    "(숙제) "
   ]
  },
  {
   "cell_type": "markdown",
   "id": "3d664297-6a42-4092-9cb7-ff46daeaf8a4",
   "metadata": {},
   "source": [
    "리스트컴프리헨션을 이용하여 아래와 같은 리스트를 만들어라. "
   ]
  },
  {
   "cell_type": "code",
   "execution_count": 481,
   "id": "4e936163-433a-4115-97b7-170c7745b383",
   "metadata": {},
   "outputs": [
    {
     "data": {
      "text/plain": [
       "['X1', 'X2X2', 'X3X3X3', 'X4X4X4X4', 'X5X5X5X5X5']"
      ]
     },
     "execution_count": 481,
     "metadata": {},
     "output_type": "execute_result"
    }
   ],
   "source": [
    "['X1','X2X2','X3X3X3','X4X4X4X4','X5X5X5X5X5']"
   ]
  }
 ],
 "metadata": {
  "kernelspec": {
   "display_name": "Python 3",
   "language": "python",
   "name": "python3"
  },
  "language_info": {
   "codemirror_mode": {
    "name": "ipython",
    "version": 3
   },
   "file_extension": ".py",
   "mimetype": "text/x-python",
   "name": "python",
   "nbconvert_exporter": "python",
   "pygments_lexer": "ipython3",
   "version": "3.8.16"
  }
 },
 "nbformat": 4,
 "nbformat_minor": 5
}
