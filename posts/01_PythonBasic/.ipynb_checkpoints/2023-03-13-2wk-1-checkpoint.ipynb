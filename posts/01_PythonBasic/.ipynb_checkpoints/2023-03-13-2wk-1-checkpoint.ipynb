{
 "cells": [
  {
   "cell_type": "raw",
   "id": "e31b9d9e-32c7-4162-99b9-c1d858bff023",
   "metadata": {},
   "source": [
    "---\n",
    "title: \"02wk-1: 파이썬의 자료형 (2)\"\n",
    "author: \"최규빈\"\n",
    "date: \"03/13/2023\"\n",
    "---"
   ]
  },
  {
   "cell_type": "markdown",
   "id": "d0fd1c74-c926-4478-a38a-6a16318fd35c",
   "metadata": {},
   "source": [
    "<a href=\"https://colab.research.google.com/github/guebin/PP2023/blob/main/posts/01_PythonBasic/2023-03-08-2wk-1.ipynb\"><img src=\"https://colab.research.google.com/assets/colab-badge.svg\" style=\"text-align: left\"></a>"
   ]
  },
  {
   "cell_type": "markdown",
   "id": "6f78199d-cf9b-42a1-b0ce-cc440dc5dc15",
   "metadata": {},
   "source": [
    "# 강의영상 "
   ]
  },
  {
   "cell_type": "markdown",
   "id": "c1d85ca3-cbb3-4704-96b1-7aa7059a01b7",
   "metadata": {},
   "source": [
    "# 강의노트의 저장 및 정리"
   ]
  },
  {
   "cell_type": "markdown",
   "id": "1bc97715-9ffe-40c2-96df-4a12edcda522",
   "metadata": {},
   "source": [
    "`1`. website에 들어가서 강의노트를 pdf 혹은 html 파일로 변환한다. \n",
    "\n",
    "- 강의노트를 출력, 책으로 만들거나.. \n",
    "- 아이패드등에 저장하고 필기하면서 공부한다.. "
   ]
  },
  {
   "cell_type": "markdown",
   "id": "8b6d4915-9227-44a3-9186-1c723759744e",
   "metadata": {},
   "source": [
    "`2`. 코랩이용 \n",
    "\n",
    "- <https://guebin.github.io/PP2023> 에서 원하는 강의노트 선택 $\\to$ collab 버튼을 누른뒤에 강의노트 파일을 연다 $\\to$ 다운로드 or 본인의 구글 드라이브에 저장 \n",
    "- 코랩을 연다 $\\to$ 파일열기 $\\to$ github / guebin / PP2023 / 파일찾기 $\\to$ 강의노트 파일 열기 $\\to$ 다운로드 or 본인의 구글 드라이브에 저장 "
   ]
  },
  {
   "cell_type": "markdown",
   "id": "6972ee41-0ba5-4748-aebc-913349d3bee9",
   "metadata": {},
   "source": [
    "`3`. 깃헙에서 저장 \n",
    "\n",
    "- 파일하나씩 저장 \n",
    "- 레포지토리 전체 저장 "
   ]
  },
  {
   "cell_type": "markdown",
   "id": "241f593a-95c1-4d76-948a-765e0bdd9279",
   "metadata": {},
   "source": [
    "# 참고도서 소개 "
   ]
  },
  {
   "cell_type": "markdown",
   "id": "b1721508-c6d8-423d-b01d-df0c1e33b512",
   "metadata": {},
   "source": [
    "`-` 전자교재\n",
    "\n",
    "- <https://docs.python.org/3.9/tutorial/index.html>\n",
    "- <https://wikidocs.net/book/1>\n",
    "- <https://jakevdp.github.io/PythonDataScienceHandbook/>"
   ]
  },
  {
   "cell_type": "markdown",
   "id": "35fdbeb2-791a-4375-94eb-9a0ade98e818",
   "metadata": {},
   "source": [
    "`-` 종이책\n",
    "\n",
    "- 효율적 개발로 이끄는 파이썬 실천 기술\n",
    "- Learning python: powerful object-oriented programming\n",
    "- 전문가를 위한 파이썬 : 파이썬3 버전 기준 | 간단하고, 명료하고, 효율적인 파이썬 프로그래밍"
   ]
  },
  {
   "cell_type": "markdown",
   "id": "4ff09b98-42c8-4a37-81d6-dee712608dc9",
   "metadata": {},
   "source": [
    "# 주피터랩 "
   ]
  },
  {
   "cell_type": "markdown",
   "id": "69618086-59b9-4a78-8454-20dfc73e5b7c",
   "metadata": {},
   "source": [
    "`-` 파일탐색기, 저장된 변수값 확인 등의 기능이 있음 "
   ]
  },
  {
   "cell_type": "markdown",
   "id": "732ee40a-b019-4b5f-b3c4-6470744b758e",
   "metadata": {},
   "source": [
    "`-` interactive notebook이 아니다. "
   ]
  },
  {
   "cell_type": "code",
   "execution_count": 40,
   "id": "dbe52b7a-0fc4-48e5-b25f-0af7d4508f65",
   "metadata": {},
   "outputs": [],
   "source": [
    "a=1"
   ]
  },
  {
   "cell_type": "code",
   "execution_count": 41,
   "id": "4a72952f-2c06-44d8-a751-452c5ab645b0",
   "metadata": {},
   "outputs": [
    {
     "name": "stdout",
     "output_type": "stream",
     "text": [
      "1\n"
     ]
    }
   ],
   "source": [
    "print(a)"
   ]
  },
  {
   "cell_type": "code",
   "execution_count": 42,
   "id": "3324a9bb-136b-42cb-9a56-9b1acdb6a4d8",
   "metadata": {},
   "outputs": [],
   "source": [
    "a=3"
   ]
  },
  {
   "cell_type": "markdown",
   "id": "eaaf174e-2383-4a69-8342-813b95b2b0a1",
   "metadata": {},
   "source": [
    "# 주석 "
   ]
  },
  {
   "cell_type": "code",
   "execution_count": 48,
   "id": "8700d479-b27b-4ee1-9d70-45454074d752",
   "metadata": {},
   "outputs": [
    {
     "name": "stdout",
     "output_type": "stream",
     "text": [
      "3\n"
     ]
    }
   ],
   "source": [
    "a=3  \n",
    "#a=4\n",
    "print(a)"
   ]
  },
  {
   "cell_type": "markdown",
   "id": "86c99587-b25e-4456-b62d-0b9837b5173d",
   "metadata": {},
   "source": [
    "# str 기본내용 "
   ]
  },
  {
   "cell_type": "markdown",
   "id": "f410c675-2fb4-493b-b74c-5ac1fa6b4ab5",
   "metadata": {},
   "source": [
    "## 선언 "
   ]
  },
  {
   "cell_type": "markdown",
   "id": "e6265070-f621-4b5c-b18c-8323ea7a1906",
   "metadata": {},
   "source": [
    "`-` 예시1"
   ]
  },
  {
   "cell_type": "code",
   "execution_count": 85,
   "id": "a4248c6b-06f4-4257-89e2-4ad1f9ff987d",
   "metadata": {},
   "outputs": [],
   "source": [
    "a='guebin'"
   ]
  },
  {
   "cell_type": "code",
   "execution_count": 86,
   "id": "d19c7a0d-6caf-4a98-b2c2-9e6293da8817",
   "metadata": {},
   "outputs": [
    {
     "data": {
      "text/plain": [
       "'guebin'"
      ]
     },
     "execution_count": 86,
     "metadata": {},
     "output_type": "execute_result"
    }
   ],
   "source": [
    "a"
   ]
  },
  {
   "cell_type": "markdown",
   "id": "8a86f8fa-538a-4961-9d8c-5928b8aeba03",
   "metadata": {},
   "source": [
    "`-` 예시2"
   ]
  },
  {
   "cell_type": "code",
   "execution_count": 9,
   "id": "85d2d458-d7b3-417b-a95d-061d4412c40b",
   "metadata": {},
   "outputs": [],
   "source": [
    "a=\"guebin\""
   ]
  },
  {
   "cell_type": "code",
   "execution_count": 2,
   "id": "c236cb4b-0f5e-4834-a6d5-d494ffb013b6",
   "metadata": {},
   "outputs": [
    {
     "data": {
      "text/plain": [
       "'guebin'"
      ]
     },
     "execution_count": 2,
     "metadata": {},
     "output_type": "execute_result"
    }
   ],
   "source": [
    "a"
   ]
  },
  {
   "cell_type": "markdown",
   "id": "a7b46607-e439-4bda-9013-17fe3d1e4cca",
   "metadata": {},
   "source": [
    "## 연산"
   ]
  },
  {
   "cell_type": "markdown",
   "id": "6e9861e6-87b6-4a53-ba66-dba21d2c0fd2",
   "metadata": {},
   "source": [
    "`-` 더하기(+)연산 "
   ]
  },
  {
   "cell_type": "code",
   "execution_count": 87,
   "id": "4821d768-6982-407e-ac21-acbefa39e91d",
   "metadata": {},
   "outputs": [],
   "source": [
    "a='X'\n",
    "b='2'"
   ]
  },
  {
   "cell_type": "code",
   "execution_count": 91,
   "id": "6648aac8-60d3-493d-b10f-5dd1289939bf",
   "metadata": {},
   "outputs": [
    {
     "data": {
      "text/plain": [
       "'X2'"
      ]
     },
     "execution_count": 91,
     "metadata": {},
     "output_type": "execute_result"
    }
   ],
   "source": [
    "c=a+b\n",
    "c"
   ]
  },
  {
   "cell_type": "markdown",
   "id": "4ab3648a-9619-4d70-9527-7e66962f9bdd",
   "metadata": {},
   "source": [
    "`-` 빼기(-)연산 "
   ]
  },
  {
   "cell_type": "code",
   "execution_count": 92,
   "id": "23e774f6-7d05-4c14-b1f8-92d3b5ef351f",
   "metadata": {},
   "outputs": [
    {
     "ename": "TypeError",
     "evalue": "unsupported operand type(s) for -: 'str' and 'str'",
     "output_type": "error",
     "traceback": [
      "\u001b[0;31m---------------------------------------------------------------------------\u001b[0m",
      "\u001b[0;31mTypeError\u001b[0m                                 Traceback (most recent call last)",
      "Input \u001b[0;32mIn [92]\u001b[0m, in \u001b[0;36m<module>\u001b[0;34m\u001b[0m\n\u001b[1;32m      1\u001b[0m a\u001b[38;5;241m=\u001b[39m\u001b[38;5;124m'\u001b[39m\u001b[38;5;124mX2\u001b[39m\u001b[38;5;124m'\u001b[39m\n\u001b[1;32m      2\u001b[0m b\u001b[38;5;241m=\u001b[39m\u001b[38;5;124m'\u001b[39m\u001b[38;5;124m2\u001b[39m\u001b[38;5;124m'\u001b[39m\n\u001b[0;32m----> 3\u001b[0m \u001b[43ma\u001b[49m\u001b[38;5;241;43m-\u001b[39;49m\u001b[43mb\u001b[49m\n",
      "\u001b[0;31mTypeError\u001b[0m: unsupported operand type(s) for -: 'str' and 'str'"
     ]
    }
   ],
   "source": [
    "a='X2'\n",
    "b='2'\n",
    "a-b"
   ]
  },
  {
   "cell_type": "markdown",
   "id": "a1a83bf1-49f8-49b3-a3bf-05a340532d29",
   "metadata": {},
   "source": [
    "- 이런건 없다. "
   ]
  },
  {
   "cell_type": "markdown",
   "id": "93ba6990-3c92-438a-84ae-40081241d68e",
   "metadata": {},
   "source": [
    "`-` 곱하기(*)연산"
   ]
  },
  {
   "cell_type": "code",
   "execution_count": 61,
   "id": "96204fc5-5fe9-4edf-8022-e887fcd6086a",
   "metadata": {},
   "outputs": [],
   "source": [
    "a='X'"
   ]
  },
  {
   "cell_type": "code",
   "execution_count": 94,
   "id": "fb3a01ac-28ea-431f-8e6b-89468587948c",
   "metadata": {},
   "outputs": [
    {
     "data": {
      "text/plain": [
       "'XXX'"
      ]
     },
     "execution_count": 94,
     "metadata": {},
     "output_type": "execute_result"
    }
   ],
   "source": [
    "a+a+a"
   ]
  },
  {
   "cell_type": "code",
   "execution_count": 95,
   "id": "2206ea1e-9c5e-4c51-aa01-308e8845ec9c",
   "metadata": {},
   "outputs": [
    {
     "data": {
      "text/plain": [
       "'XXX'"
      ]
     },
     "execution_count": 95,
     "metadata": {},
     "output_type": "execute_result"
    }
   ],
   "source": [
    "a*3 # a*3 = a+a+a = 'X'+'X+'X'"
   ]
  },
  {
   "cell_type": "markdown",
   "id": "19a0da7e-e2dd-40a4-8164-a13d5ca4aa7b",
   "metadata": {},
   "source": [
    "아래도 가능하다. "
   ]
  },
  {
   "cell_type": "code",
   "execution_count": 96,
   "id": "5afac3cf-0c99-42f1-acc8-b008416eb433",
   "metadata": {},
   "outputs": [
    {
     "data": {
      "text/plain": [
       "'XXX'"
      ]
     },
     "execution_count": 96,
     "metadata": {},
     "output_type": "execute_result"
    }
   ],
   "source": [
    "3*a"
   ]
  },
  {
   "cell_type": "markdown",
   "id": "8677d6d7-a3f6-4e63-90d4-509a163677b9",
   "metadata": {},
   "source": [
    "그리고 아래도 가능하다. "
   ]
  },
  {
   "cell_type": "code",
   "execution_count": 97,
   "id": "8677606d-9cd0-425d-a352-5194cd10af37",
   "metadata": {},
   "outputs": [
    {
     "data": {
      "text/plain": [
       "'XXX'"
      ]
     },
     "execution_count": 97,
     "metadata": {},
     "output_type": "execute_result"
    }
   ],
   "source": [
    "a='X'\n",
    "b=3 \n",
    "a*b"
   ]
  },
  {
   "cell_type": "markdown",
   "id": "dc8a5613-a948-4f60-9190-13a926dbd34c",
   "metadata": {},
   "source": [
    "대신에 의미상 맞지 않는 것은 수행되지 않고 에러가 난다. "
   ]
  },
  {
   "cell_type": "code",
   "execution_count": 69,
   "id": "3dda6310-73de-43b8-9c68-fe0da3683d11",
   "metadata": {},
   "outputs": [
    {
     "data": {
      "text/plain": [
       "'XY'"
      ]
     },
     "execution_count": 69,
     "metadata": {},
     "output_type": "execute_result"
    }
   ],
   "source": [
    "a='X'\n",
    "b='Y'\n",
    "a+b"
   ]
  },
  {
   "cell_type": "code",
   "execution_count": 70,
   "id": "2184ff3c-3cbb-4024-b2ac-f29dec5527de",
   "metadata": {},
   "outputs": [
    {
     "ename": "TypeError",
     "evalue": "can't multiply sequence by non-int of type 'str'",
     "output_type": "error",
     "traceback": [
      "\u001b[0;31m---------------------------------------------------------------------------\u001b[0m",
      "\u001b[0;31mTypeError\u001b[0m                                 Traceback (most recent call last)",
      "Cell \u001b[0;32mIn[70], line 1\u001b[0m\n\u001b[0;32m----> 1\u001b[0m \u001b[43ma\u001b[49m\u001b[38;5;241;43m*\u001b[39;49m\u001b[43mb\u001b[49m\n",
      "\u001b[0;31mTypeError\u001b[0m: can't multiply sequence by non-int of type 'str'"
     ]
    }
   ],
   "source": [
    "a*b"
   ]
  },
  {
   "cell_type": "markdown",
   "id": "737f6120-1ffa-4da1-bd51-7ac40f2784ec",
   "metadata": {},
   "source": [
    "`-` 나눗셈(/)연산 "
   ]
  },
  {
   "cell_type": "code",
   "execution_count": 72,
   "id": "77f22e63-661b-4200-ab01-d24f92046de2",
   "metadata": {},
   "outputs": [],
   "source": [
    "a='XX'"
   ]
  },
  {
   "cell_type": "code",
   "execution_count": 73,
   "id": "107e7c94-e358-449c-8a92-b740be09420a",
   "metadata": {},
   "outputs": [
    {
     "ename": "TypeError",
     "evalue": "unsupported operand type(s) for /: 'str' and 'int'",
     "output_type": "error",
     "traceback": [
      "\u001b[0;31m---------------------------------------------------------------------------\u001b[0m",
      "\u001b[0;31mTypeError\u001b[0m                                 Traceback (most recent call last)",
      "Cell \u001b[0;32mIn[73], line 1\u001b[0m\n\u001b[0;32m----> 1\u001b[0m \u001b[43ma\u001b[49m\u001b[38;5;241;43m/\u001b[39;49m\u001b[38;5;241;43m2\u001b[39;49m\n",
      "\u001b[0;31mTypeError\u001b[0m: unsupported operand type(s) for /: 'str' and 'int'"
     ]
    }
   ],
   "source": [
    "a/2"
   ]
  },
  {
   "cell_type": "markdown",
   "id": "a45e90f8-a0c2-4753-9479-986e56c8425e",
   "metadata": {},
   "source": [
    "- 이런건 없다.. "
   ]
  },
  {
   "cell_type": "markdown",
   "id": "ae5c40a5-70b1-40ee-be41-c920373e5396",
   "metadata": {},
   "source": [
    "## 인덱싱"
   ]
  },
  {
   "cell_type": "markdown",
   "id": "4bb658f3-4576-4c0e-a4cd-bf331f8aa7e4",
   "metadata": {},
   "source": [
    "`-` str은 하나의 벡터 문자가 여러개 있는 형태라고 생각하면 된다. "
   ]
  },
  {
   "cell_type": "code",
   "execution_count": 89,
   "id": "79a5950b-59bb-47e2-9941-53f7d05252bc",
   "metadata": {},
   "outputs": [],
   "source": [
    "a='guebin'"
   ]
  },
  {
   "cell_type": "code",
   "execution_count": 90,
   "id": "0305d453-7997-4df1-9845-d3d01a6ae94c",
   "metadata": {},
   "outputs": [
    {
     "data": {
      "text/plain": [
       "'guebin'"
      ]
     },
     "execution_count": 90,
     "metadata": {},
     "output_type": "execute_result"
    }
   ],
   "source": [
    "a"
   ]
  },
  {
   "cell_type": "markdown",
   "id": "2f4c34c3-efe5-4fed-81e4-b5b4c94d1aca",
   "metadata": {},
   "source": [
    "- 6개의 칸에 글씨가 하나씩 들어가 있음. "
   ]
  },
  {
   "cell_type": "markdown",
   "id": "e50eae61-5a25-4d2a-a67f-eda4ca5b5eff",
   "metadata": {},
   "source": [
    "`-` 대괄호 `[]`안에 숫자를 넣는 방식으로 벡터의 원소를 호출할 수 있다. (주의: 인덱스가 0부터 시작함) "
   ]
  },
  {
   "cell_type": "code",
   "execution_count": 77,
   "id": "0c20884b-a3cb-4677-9103-71384adc19b2",
   "metadata": {},
   "outputs": [
    {
     "data": {
      "text/plain": [
       "'g'"
      ]
     },
     "execution_count": 77,
     "metadata": {},
     "output_type": "execute_result"
    }
   ],
   "source": [
    "a[0] #첫번째원소"
   ]
  },
  {
   "cell_type": "code",
   "execution_count": 78,
   "id": "cc5d7fb3-a143-4c89-998a-ada55a958ba1",
   "metadata": {},
   "outputs": [
    {
     "data": {
      "text/plain": [
       "'u'"
      ]
     },
     "execution_count": 78,
     "metadata": {},
     "output_type": "execute_result"
    }
   ],
   "source": [
    "a[1] #두번째원소 "
   ]
  },
  {
   "cell_type": "markdown",
   "id": "dc449b03-465c-42c1-9c48-4e2cea4bd67c",
   "metadata": {},
   "source": [
    "마지막원소는 -1로 호출할 수도 있다. "
   ]
  },
  {
   "cell_type": "code",
   "execution_count": 114,
   "id": "18d020ce-b09d-4a90-918c-58276c13544c",
   "metadata": {},
   "outputs": [
    {
     "data": {
      "text/plain": [
       "'n'"
      ]
     },
     "execution_count": 114,
     "metadata": {},
     "output_type": "execute_result"
    }
   ],
   "source": [
    "a[-1]"
   ]
  },
  {
   "cell_type": "markdown",
   "id": "1c5989a5-c6d8-4561-b755-6b37cfac65fa",
   "metadata": {},
   "source": [
    "마지막에서 2번째 원소는 -2로 호출가능하다. "
   ]
  },
  {
   "cell_type": "code",
   "execution_count": 115,
   "id": "85e70a24-25b6-4a6c-b5eb-953ca74241cb",
   "metadata": {},
   "outputs": [
    {
     "data": {
      "text/plain": [
       "'i'"
      ]
     },
     "execution_count": 115,
     "metadata": {},
     "output_type": "execute_result"
    }
   ],
   "source": [
    "a[-2]"
   ]
  },
  {
   "cell_type": "markdown",
   "id": "7b368bfb-a812-4117-8af9-08e0451a048c",
   "metadata": {},
   "source": [
    "`-` 요약하면 아래와 같은 방식으로 호출가능함. "
   ]
  },
  {
   "cell_type": "markdown",
   "id": "530cf6ae-2f71-4efa-ad26-75a43b62eedb",
   "metadata": {},
   "source": [
    "|g|u|e|b|i|n|\n",
    "|:-:|:-:|:-:|:-:|:-:|:-:|\n",
    "|0|1|2|3|4|5|\n",
    "|0|-5|-4|-3|-2|-1|"
   ]
  },
  {
   "cell_type": "code",
   "execution_count": 95,
   "id": "0a8ade8b-88df-463b-88c7-14e8de1f7fff",
   "metadata": {},
   "outputs": [
    {
     "data": {
      "text/plain": [
       "'i'"
      ]
     },
     "execution_count": 95,
     "metadata": {},
     "output_type": "execute_result"
    }
   ],
   "source": [
    "a[4]"
   ]
  },
  {
   "cell_type": "code",
   "execution_count": 96,
   "id": "d31d3740-d7bc-41bb-a9d9-bc21fee57e36",
   "metadata": {},
   "outputs": [
    {
     "data": {
      "text/plain": [
       "'i'"
      ]
     },
     "execution_count": 96,
     "metadata": {},
     "output_type": "execute_result"
    }
   ],
   "source": [
    "a[-2]"
   ]
  },
  {
   "cell_type": "code",
   "execution_count": 97,
   "id": "cc5e4f41-e7cf-4ba8-9e62-cad834da57d8",
   "metadata": {},
   "outputs": [
    {
     "data": {
      "text/plain": [
       "'e'"
      ]
     },
     "execution_count": 97,
     "metadata": {},
     "output_type": "execute_result"
    }
   ],
   "source": [
    "a[-4]"
   ]
  },
  {
   "cell_type": "markdown",
   "id": "0e0347ec-c414-42ef-a0bd-370303be13b7",
   "metadata": {},
   "source": [
    "`-` `:`을 이용하여 여러개의 원소를 호출할 수 있음. "
   ]
  },
  {
   "cell_type": "code",
   "execution_count": 98,
   "id": "62fe50e4-71e5-4f54-8a9a-bb6954cf52cd",
   "metadata": {},
   "outputs": [],
   "source": [
    "a='guebin'"
   ]
  },
  {
   "cell_type": "code",
   "execution_count": 102,
   "id": "a5c7057c-e167-45a2-988f-b48aab9b44e2",
   "metadata": {},
   "outputs": [
    {
     "data": {
      "text/plain": [
       "'gue'"
      ]
     },
     "execution_count": 102,
     "metadata": {},
     "output_type": "execute_result"
    }
   ],
   "source": [
    "a[0:3] # a[0],a[1],a[2],a[3]이 아니라 a[0],a[1],a[2]까지만 뽑힌다. 즉 마지막의 3은 호출되지 않는다. "
   ]
  },
  {
   "cell_type": "code",
   "execution_count": 103,
   "id": "0d69e7dc-4b06-4c59-9e6b-039629b86f43",
   "metadata": {},
   "outputs": [
    {
     "data": {
      "text/plain": [
       "'ue'"
      ]
     },
     "execution_count": 103,
     "metadata": {},
     "output_type": "execute_result"
    }
   ],
   "source": [
    "a[1:3] # a[1], a[2] 만 호출 // start=1,  stop=3 "
   ]
  },
  {
   "cell_type": "markdown",
   "id": "deb68bf1-bbc9-4682-8d26-5e34df391cdb",
   "metadata": {},
   "source": [
    "index=1부터 시작해서 마지막원소까지 호출하려면? "
   ]
  },
  {
   "cell_type": "code",
   "execution_count": 153,
   "id": "7303340b-1a8f-4a4f-9fca-d7ad8d0ae623",
   "metadata": {},
   "outputs": [],
   "source": [
    "a='guebin'"
   ]
  },
  {
   "cell_type": "code",
   "execution_count": 130,
   "id": "ac81185d-9137-448e-944b-881eb0ec698b",
   "metadata": {},
   "outputs": [
    {
     "data": {
      "text/plain": [
       "'n'"
      ]
     },
     "execution_count": 130,
     "metadata": {},
     "output_type": "execute_result"
    }
   ],
   "source": [
    "a[5] # guebin의 마지막원소 'n'이 출려 "
   ]
  },
  {
   "cell_type": "code",
   "execution_count": 135,
   "id": "cff760ab-17f2-4d3e-bb67-81020304f53a",
   "metadata": {},
   "outputs": [
    {
     "data": {
      "text/plain": [
       "'uebi'"
      ]
     },
     "execution_count": 135,
     "metadata": {},
     "output_type": "execute_result"
    }
   ],
   "source": [
    "a[1:5] # 5는 포함되지 않으므로 틀림"
   ]
  },
  {
   "cell_type": "code",
   "execution_count": 136,
   "id": "755d4763-1455-4911-abdf-54c7a01e57e5",
   "metadata": {},
   "outputs": [
    {
     "data": {
      "text/plain": [
       "'uebin'"
      ]
     },
     "execution_count": 136,
     "metadata": {},
     "output_type": "execute_result"
    }
   ],
   "source": [
    "a[1:6] # 정답"
   ]
  },
  {
   "cell_type": "markdown",
   "id": "e2726777-16bd-43fe-bbd3-7a1476f3da74",
   "metadata": {},
   "source": [
    "안 헷갈리는 방법은 없을까? 생략한다. "
   ]
  },
  {
   "cell_type": "code",
   "execution_count": 140,
   "id": "3ec43f1f-488f-4773-933d-9ff06b884772",
   "metadata": {},
   "outputs": [
    {
     "data": {
      "text/plain": [
       "'uebin'"
      ]
     },
     "execution_count": 140,
     "metadata": {},
     "output_type": "execute_result"
    }
   ],
   "source": [
    "a[1:]"
   ]
  },
  {
   "cell_type": "markdown",
   "id": "1f40fafa-6fc8-4765-aaa5-6535af7981f3",
   "metadata": {},
   "source": [
    "`-` 생략의 응용1"
   ]
  },
  {
   "cell_type": "code",
   "execution_count": 160,
   "id": "58d29252-8cd3-431e-b6fa-e63c85ef37e3",
   "metadata": {},
   "outputs": [
    {
     "data": {
      "text/plain": [
       "'k-pop'"
      ]
     },
     "execution_count": 160,
     "metadata": {},
     "output_type": "execute_result"
    }
   ],
   "source": [
    "a='k-pop' \n",
    "a"
   ]
  },
  {
   "cell_type": "code",
   "execution_count": 159,
   "id": "5d83b129-2cee-40b4-b2a0-d3c40aff0f0d",
   "metadata": {},
   "outputs": [
    {
     "data": {
      "text/plain": [
       "'pop'"
      ]
     },
     "execution_count": 159,
     "metadata": {},
     "output_type": "execute_result"
    }
   ],
   "source": [
    "a[2:5]"
   ]
  },
  {
   "cell_type": "code",
   "execution_count": 160,
   "id": "3195fc64-eff8-4664-aae1-c7a3513bc4b8",
   "metadata": {},
   "outputs": [
    {
     "data": {
      "text/plain": [
       "'pop'"
      ]
     },
     "execution_count": 160,
     "metadata": {},
     "output_type": "execute_result"
    }
   ],
   "source": [
    "a[2:]"
   ]
  },
  {
   "cell_type": "markdown",
   "id": "9b0ea17f-4c16-4eab-a780-50b5c8009b47",
   "metadata": {},
   "source": [
    "`-` 생략의 응용2"
   ]
  },
  {
   "cell_type": "code",
   "execution_count": 168,
   "id": "1956b74a-9928-4325-afdb-a30d964b1b78",
   "metadata": {},
   "outputs": [
    {
     "data": {
      "text/plain": [
       "'k-pop'"
      ]
     },
     "execution_count": 168,
     "metadata": {},
     "output_type": "execute_result"
    }
   ],
   "source": [
    "a='k-pop'\n",
    "a"
   ]
  },
  {
   "cell_type": "code",
   "execution_count": 173,
   "id": "69e55965-b902-49eb-afe9-de61885cba2e",
   "metadata": {},
   "outputs": [
    {
     "data": {
      "text/plain": [
       "'k-'"
      ]
     },
     "execution_count": 173,
     "metadata": {},
     "output_type": "execute_result"
    }
   ],
   "source": [
    "a[0:2] # a[0],a[1]"
   ]
  },
  {
   "cell_type": "code",
   "execution_count": 174,
   "id": "0b57d2ab-3d16-4761-848b-c8f742431513",
   "metadata": {},
   "outputs": [
    {
     "data": {
      "text/plain": [
       "'k-'"
      ]
     },
     "execution_count": 174,
     "metadata": {},
     "output_type": "execute_result"
    }
   ],
   "source": [
    "a[:2] # a[0],a[1] "
   ]
  },
  {
   "cell_type": "markdown",
   "id": "368aa591-9801-4940-8977-177c2357f939",
   "metadata": {},
   "source": [
    "`-` 생략의 응용3"
   ]
  },
  {
   "cell_type": "code",
   "execution_count": 175,
   "id": "7ec04af6-d7f6-4ebe-97f8-e670bf4142b2",
   "metadata": {},
   "outputs": [
    {
     "data": {
      "text/plain": [
       "'k-pop'"
      ]
     },
     "execution_count": 175,
     "metadata": {},
     "output_type": "execute_result"
    }
   ],
   "source": [
    "a='k-pop'\n",
    "a"
   ]
  },
  {
   "cell_type": "code",
   "execution_count": 176,
   "id": "e251c5d4-b724-4674-806a-5b3cc2490db0",
   "metadata": {},
   "outputs": [
    {
     "data": {
      "text/plain": [
       "'k-pop'"
      ]
     },
     "execution_count": 176,
     "metadata": {},
     "output_type": "execute_result"
    }
   ],
   "source": [
    "a[0:5] # a[0],...,a[4]"
   ]
  },
  {
   "cell_type": "code",
   "execution_count": 177,
   "id": "70f8a025-5ae8-4e03-bedc-e79c8a25d151",
   "metadata": {},
   "outputs": [
    {
     "data": {
      "text/plain": [
       "'k-pop'"
      ]
     },
     "execution_count": 177,
     "metadata": {},
     "output_type": "execute_result"
    }
   ],
   "source": [
    "a[:]"
   ]
  },
  {
   "cell_type": "markdown",
   "id": "ca455932-0562-4630-83f2-f88cdf602746",
   "metadata": {},
   "source": [
    "## str 특수기능 "
   ]
  },
  {
   "cell_type": "markdown",
   "id": "926de996-fd15-4631-a6d0-3951081005fd",
   "metadata": {},
   "source": [
    "`-` 파이썬의 변수는 단순히 정보를 담는 그릇이 아니다. 유용한 기능을 제공하는 경우가 있다. "
   ]
  },
  {
   "cell_type": "code",
   "execution_count": 135,
   "id": "4f7ed308-37da-4d2d-8acd-5a4980a47abe",
   "metadata": {},
   "outputs": [
    {
     "data": {
      "text/plain": [
       "'ABCD'"
      ]
     },
     "execution_count": 135,
     "metadata": {},
     "output_type": "execute_result"
    }
   ],
   "source": [
    "a='ABCD' # a라는 변수는 'ABCD'라는 정보를 담는 그릇의 역할만 하지 않고, 특화된 어떠한 기능도 제공한다. \n",
    "a"
   ]
  },
  {
   "cell_type": "code",
   "execution_count": 140,
   "id": "49c16c42-9833-4d27-bc1a-f087121956d3",
   "metadata": {},
   "outputs": [
    {
     "data": {
      "text/plain": [
       "'abcd'"
      ]
     },
     "execution_count": 140,
     "metadata": {},
     "output_type": "execute_result"
    }
   ],
   "source": [
    "a.lower() # a.lower()를 쓰면 a의 모든 문자를 소문자로 바꾸는 기능을 제공, lower(a)라고 읽자!"
   ]
  },
  {
   "cell_type": "markdown",
   "id": "7c85e931-6f80-47a3-8a70-f11b18edc6ef",
   "metadata": {},
   "source": [
    "여기에서 lower()는 문자열에 특화된 기능임. 따라서 당연히 아래는 불가능 "
   ]
  },
  {
   "cell_type": "code",
   "execution_count": 194,
   "id": "467117d1-7157-4f67-8189-883625c13d7e",
   "metadata": {},
   "outputs": [
    {
     "ename": "AttributeError",
     "evalue": "'float' object has no attribute 'lower'",
     "output_type": "error",
     "traceback": [
      "\u001b[0;31m---------------------------------------------------------------------------\u001b[0m",
      "\u001b[0;31mAttributeError\u001b[0m                            Traceback (most recent call last)",
      "Input \u001b[0;32mIn [194]\u001b[0m, in \u001b[0;36m<module>\u001b[0;34m\u001b[0m\n\u001b[1;32m      1\u001b[0m a\u001b[38;5;241m=\u001b[39m\u001b[38;5;241m3.14\u001b[39m\n\u001b[0;32m----> 2\u001b[0m \u001b[43ma\u001b[49m\u001b[38;5;241;43m.\u001b[39;49m\u001b[43mlower\u001b[49m()\n",
      "\u001b[0;31mAttributeError\u001b[0m: 'float' object has no attribute 'lower'"
     ]
    }
   ],
   "source": [
    "a=3.14\n",
    "a.lower() # lower(a)"
   ]
  },
  {
   "cell_type": "markdown",
   "id": "91e087db-91b8-4e9a-8d0a-db939612d430",
   "metadata": {},
   "source": [
    "`-` 자료형에 특화된 기능(=함수)을 확인하는 방법? `a.`+ `tab` 으로 목록 확인 가능 "
   ]
  },
  {
   "cell_type": "code",
   "execution_count": 193,
   "id": "c9965258-c6be-41fe-9739-9281296be760",
   "metadata": {},
   "outputs": [],
   "source": [
    "a='guebin'"
   ]
  },
  {
   "cell_type": "code",
   "execution_count": 194,
   "id": "301f3fb7-cac2-4cf0-9fdf-f83bd1b0ac97",
   "metadata": {},
   "outputs": [
    {
     "data": {
      "text/plain": [
       "\u001b[0;31mSignature:\u001b[0m \u001b[0ma\u001b[0m\u001b[0;34m.\u001b[0m\u001b[0mupper\u001b[0m\u001b[0;34m(\u001b[0m\u001b[0;34m)\u001b[0m\u001b[0;34m\u001b[0m\u001b[0;34m\u001b[0m\u001b[0m\n",
       "\u001b[0;31mDocstring:\u001b[0m Return a copy of the string converted to uppercase.\n",
       "\u001b[0;31mType:\u001b[0m      builtin_function_or_method"
      ]
     },
     "metadata": {},
     "output_type": "display_data"
    }
   ],
   "source": [
    "a.upper?"
   ]
  },
  {
   "cell_type": "code",
   "execution_count": 195,
   "id": "f8af36d2-2f22-426a-a6b7-a83d51ee9aef",
   "metadata": {},
   "outputs": [
    {
     "data": {
      "text/plain": [
       "'GUEBIN'"
      ]
     },
     "execution_count": 195,
     "metadata": {},
     "output_type": "execute_result"
    }
   ],
   "source": [
    "a.upper() # upper(a) "
   ]
  },
  {
   "cell_type": "code",
   "execution_count": 143,
   "id": "0f91d3e0-d258-4b4c-a354-18fa05e6d4dd",
   "metadata": {},
   "outputs": [
    {
     "data": {
      "text/plain": [
       "'Guebin'"
      ]
     },
     "execution_count": 143,
     "metadata": {},
     "output_type": "execute_result"
    }
   ],
   "source": [
    "a.capitalize() # capitalize(a) "
   ]
  },
  {
   "cell_type": "code",
   "execution_count": 198,
   "id": "6313107d-2d52-4c0b-af38-e85a5c0505e6",
   "metadata": {},
   "outputs": [],
   "source": [
    "a='asdf'"
   ]
  },
  {
   "cell_type": "markdown",
   "id": "025eaf50-e4be-4bee-9b6b-a7d206e4b42d",
   "metadata": {},
   "source": [
    "`-` 문자열에 대한 다른 내용들은 추후에 다루겠음. "
   ]
  },
  {
   "cell_type": "markdown",
   "id": "40e016d1-b11a-411a-a5af-dee051967576",
   "metadata": {},
   "source": [
    "`-` 마음의눈: `a.f()` 형태를 읽는 팁\n",
    "\n",
    "- `a.f()`는 `f(a)`로 생각하면 편리함. \n",
    "- `a.f(2)`는 `f(a,2)`로 생각하면 편리함. \n",
    "- 이런점에서 R `%>%` 연산자와 비슷하다고 생각할 수 있다. (약간 다르긴함) "
   ]
  },
  {
   "cell_type": "markdown",
   "id": "47debfd1-e574-40b0-8e7e-7e08a5f34675",
   "metadata": {},
   "source": [
    "`-` 사실 `.`은 좀 더 다양한 상황에서 쓰일 수 있다. `변수이름.함수이름()` 의 형태가 아니라 \n",
    "\n",
    "- `패지키이름.함수이름()`\n",
    "- `패키지이름.변수이름` \n",
    "- `패키지이름.패키지이름.함수이름()` \n",
    "- ... \n",
    "\n",
    "와 같이 다양한 형태가 가능하다. 근본적인 공통점은 `.`을 기준으로 `상위개념.하위개념` 으로 이해하는 것이 좋다. "
   ]
  },
  {
   "cell_type": "markdown",
   "id": "59889d13-f489-4261-80b4-1e9a4915d56e",
   "metadata": {},
   "source": [
    "## len"
   ]
  },
  {
   "cell_type": "markdown",
   "id": "45881431-d02c-4ba0-8329-893ea2f9d345",
   "metadata": {},
   "source": [
    "`-` `len`함수 소개: 원소의 갯수를 알려주는 함수. "
   ]
  },
  {
   "cell_type": "code",
   "execution_count": 206,
   "id": "491c469d-1a5a-45fe-9c83-28e4b3e4ff2d",
   "metadata": {},
   "outputs": [
    {
     "data": {
      "text/plain": [
       "4"
      ]
     },
     "execution_count": 206,
     "metadata": {},
     "output_type": "execute_result"
    }
   ],
   "source": [
    "a='ABCD' \n",
    "len(a)"
   ]
  },
  {
   "cell_type": "markdown",
   "id": "57643c3b-cd3c-4ac6-a199-b3acc1153c0d",
   "metadata": {},
   "source": [
    "`-` 참고: len은 0차원 변수형에서는 동작하지 않고 1차원 변수형에서만 동작한다. "
   ]
  },
  {
   "cell_type": "markdown",
   "id": "b01e45be-0724-400d-83ec-fcc7eff931b9",
   "metadata": {},
   "source": [
    "(0차원) `len` 함수가 동작하지 않음."
   ]
  },
  {
   "cell_type": "code",
   "execution_count": 209,
   "id": "3a11e307-85e2-4194-aeeb-f8d6363c3a26",
   "metadata": {},
   "outputs": [],
   "source": [
    "a=3.14"
   ]
  },
  {
   "cell_type": "code",
   "execution_count": 210,
   "id": "0daa3095-7acc-4860-8f68-7a6f5d46a3f6",
   "metadata": {},
   "outputs": [
    {
     "ename": "TypeError",
     "evalue": "object of type 'float' has no len()",
     "output_type": "error",
     "traceback": [
      "\u001b[0;31m---------------------------------------------------------------------------\u001b[0m",
      "\u001b[0;31mTypeError\u001b[0m                                 Traceback (most recent call last)",
      "Cell \u001b[0;32mIn[210], line 1\u001b[0m\n\u001b[0;32m----> 1\u001b[0m \u001b[38;5;28;43mlen\u001b[39;49m\u001b[43m(\u001b[49m\u001b[43ma\u001b[49m\u001b[43m)\u001b[49m\n",
      "\u001b[0;31mTypeError\u001b[0m: object of type 'float' has no len()"
     ]
    }
   ],
   "source": [
    "len(a)"
   ]
  },
  {
   "cell_type": "code",
   "execution_count": 211,
   "id": "83746dc1-87e1-47ad-8ba1-5cfaff4d2a3a",
   "metadata": {},
   "outputs": [],
   "source": [
    "b=True"
   ]
  },
  {
   "cell_type": "code",
   "execution_count": 212,
   "id": "3354bca3-b748-4e17-a44f-30eec029533c",
   "metadata": {},
   "outputs": [
    {
     "ename": "TypeError",
     "evalue": "object of type 'bool' has no len()",
     "output_type": "error",
     "traceback": [
      "\u001b[0;31m---------------------------------------------------------------------------\u001b[0m",
      "\u001b[0;31mTypeError\u001b[0m                                 Traceback (most recent call last)",
      "Cell \u001b[0;32mIn[212], line 1\u001b[0m\n\u001b[0;32m----> 1\u001b[0m \u001b[38;5;28;43mlen\u001b[39;49m\u001b[43m(\u001b[49m\u001b[43mb\u001b[49m\u001b[43m)\u001b[49m\n",
      "\u001b[0;31mTypeError\u001b[0m: object of type 'bool' has no len()"
     ]
    }
   ],
   "source": [
    "len(b)"
   ]
  },
  {
   "cell_type": "markdown",
   "id": "60b49d16-e014-470e-a340-9366eb4a5c54",
   "metadata": {},
   "source": [
    "(1차원) `len` 함수가 잘 동작함. "
   ]
  },
  {
   "cell_type": "code",
   "execution_count": 213,
   "id": "9b28a788-f91c-481b-aed8-4ba1a9916c35",
   "metadata": {},
   "outputs": [
    {
     "data": {
      "text/plain": [
       "4"
      ]
     },
     "execution_count": 213,
     "metadata": {},
     "output_type": "execute_result"
    }
   ],
   "source": [
    "a='3.14'\n",
    "len(a)"
   ]
  },
  {
   "cell_type": "code",
   "execution_count": 214,
   "id": "a999f4d6-5cf5-4b9c-8b34-b8a2ab35f9ad",
   "metadata": {},
   "outputs": [],
   "source": [
    "b=[1,2,3]"
   ]
  },
  {
   "cell_type": "code",
   "execution_count": 215,
   "id": "9d607870-3baa-4288-91d4-4a0991480b15",
   "metadata": {},
   "outputs": [
    {
     "data": {
      "text/plain": [
       "3"
      ]
     },
     "execution_count": 215,
     "metadata": {},
     "output_type": "execute_result"
    }
   ],
   "source": [
    "len(b)"
   ]
  },
  {
   "cell_type": "markdown",
   "id": "65f22d7e-aea3-4ec2-b59b-cd1e8c79ea02",
   "metadata": {},
   "source": [
    "# HW: 0315"
   ]
  },
  {
   "cell_type": "markdown",
   "id": "d4f0902b-4f39-4af9-a747-cd8043a4097a",
   "metadata": {},
   "source": [
    "아래와 같은 문자열이 있다고 하자. "
   ]
  },
  {
   "cell_type": "code",
   "execution_count": 216,
   "id": "97d226d3-afa2-43fe-8b26-1245e01b2ddf",
   "metadata": {},
   "outputs": [],
   "source": [
    "a='Jeonbuk National University' "
   ]
  },
  {
   "cell_type": "markdown",
   "id": "f7b55542-65c6-47d5-ac93-6e6353005811",
   "metadata": {},
   "source": [
    "`1`. 적당한 인덱싱을 통하여 출력결과가 아래와 같도록 하라."
   ]
  },
  {
   "cell_type": "code",
   "execution_count": 221,
   "id": "b75af562-5b0e-488f-98a1-616405552ec0",
   "metadata": {},
   "outputs": [
    {
     "data": {
      "text/plain": [
       "'University'"
      ]
     },
     "execution_count": 221,
     "metadata": {},
     "output_type": "execute_result"
    }
   ],
   "source": [
    "# 적당한 인덱싱"
   ]
  },
  {
   "cell_type": "markdown",
   "id": "71916e1e-1dfc-43bc-982d-c601219c1f3c",
   "metadata": {},
   "source": [
    "**hint**: University는 10글자이다. "
   ]
  },
  {
   "cell_type": "markdown",
   "id": "42b4b8ca-5fea-4f08-ba2b-fb6179ca0ab5",
   "metadata": {},
   "source": [
    "`2`. 출력결과가 아래와 같도록 하는 코드를 작성하라. (lower 함수를 이용할 것)"
   ]
  },
  {
   "cell_type": "code",
   "execution_count": 222,
   "id": "753bcd16-e62a-4c10-a4dc-4ff14a2d17b7",
   "metadata": {},
   "outputs": [
    {
     "data": {
      "text/plain": [
       "'jeonbuk national university'"
      ]
     },
     "execution_count": 222,
     "metadata": {},
     "output_type": "execute_result"
    }
   ],
   "source": [
    "# 적당한 코드 "
   ]
  },
  {
   "cell_type": "markdown",
   "id": "c0413cfb-05e3-4dd8-855e-ad5996f7bed4",
   "metadata": {},
   "source": [
    "`3`. 아래의 코드를 관찰하고 isupper()의 기능이 무엇인지 스스로 정리해보라. "
   ]
  },
  {
   "cell_type": "code",
   "execution_count": 229,
   "id": "82567453-19a2-49d9-a8bc-22492ba55d4a",
   "metadata": {},
   "outputs": [
    {
     "data": {
      "text/plain": [
       "True"
      ]
     },
     "execution_count": 229,
     "metadata": {},
     "output_type": "execute_result"
    }
   ],
   "source": [
    "'A'.isupper()"
   ]
  },
  {
   "cell_type": "code",
   "execution_count": 230,
   "id": "97216c74-fde6-4976-ab98-524787e39120",
   "metadata": {},
   "outputs": [
    {
     "data": {
      "text/plain": [
       "True"
      ]
     },
     "execution_count": 230,
     "metadata": {},
     "output_type": "execute_result"
    }
   ],
   "source": [
    "'AA'.isupper()"
   ]
  },
  {
   "cell_type": "code",
   "execution_count": 231,
   "id": "dda2089e-220e-4b0c-90fb-392fafe9da8f",
   "metadata": {},
   "outputs": [
    {
     "data": {
      "text/plain": [
       "False"
      ]
     },
     "execution_count": 231,
     "metadata": {},
     "output_type": "execute_result"
    }
   ],
   "source": [
    "'Aa'.isupper()"
   ]
  },
  {
   "cell_type": "code",
   "execution_count": 232,
   "id": "d35cba09-1b59-46b7-a18e-6e3b15b2bc5f",
   "metadata": {},
   "outputs": [
    {
     "data": {
      "text/plain": [
       "False"
      ]
     },
     "execution_count": 232,
     "metadata": {},
     "output_type": "execute_result"
    }
   ],
   "source": [
    "'aa'.isupper()"
   ]
  },
  {
   "cell_type": "code",
   "execution_count": 233,
   "id": "83e1a853-0d6b-48e0-9e38-28d93cdb7011",
   "metadata": {},
   "outputs": [
    {
     "data": {
      "text/plain": [
       "False"
      ]
     },
     "execution_count": 233,
     "metadata": {},
     "output_type": "execute_result"
    }
   ],
   "source": [
    "'aA'.isupper()"
   ]
  },
  {
   "cell_type": "markdown",
   "id": "d06a873a-cefd-4151-b688-36e11e27c21b",
   "metadata": {},
   "source": [
    "유추한 기능이 맞는지 ChatGPT를 통하여 확인하라. "
   ]
  },
  {
   "cell_type": "markdown",
   "id": "0e97f116-4785-4077-8f32-4d6c8c7d9b4c",
   "metadata": {},
   "source": [
    "`4`. 다음중 실행 불가능한 코드를 모두 골라라.  "
   ]
  },
  {
   "cell_type": "markdown",
   "id": "ee42d091-62ad-45c1-b937-dd94f92f39b2",
   "metadata": {},
   "source": [
    "```Python\n",
    "(a) 'a'*2 \n",
    "\n",
    "(b) 'a'*'2'\n",
    "\n",
    "(c) 'a'+2 \n",
    "\n",
    "(d) 'a'+'2'\n",
    "```"
   ]
  }
 ],
 "metadata": {
  "kernelspec": {
   "display_name": "Python 3",
   "language": "python",
   "name": "python3"
  },
  "language_info": {
   "codemirror_mode": {
    "name": "ipython",
    "version": 3
   },
   "file_extension": ".py",
   "mimetype": "text/x-python",
   "name": "python",
   "nbconvert_exporter": "python",
   "pygments_lexer": "ipython3",
   "version": "3.8.16"
  }
 },
 "nbformat": 4,
 "nbformat_minor": 5
}
