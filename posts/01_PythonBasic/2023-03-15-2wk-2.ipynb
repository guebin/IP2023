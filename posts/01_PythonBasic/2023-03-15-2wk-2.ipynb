{
 "cells": [
  {
   "cell_type": "raw",
   "id": "8c5fd2db-6013-45c5-b6bc-d04f06ea8a14",
   "metadata": {},
   "source": [
    "---\n",
    "title: \"02wk-2: 파이썬의 자료형 (3)\"\n",
    "author: \"최규빈\"\n",
    "date: \"03/15/2023\"\n",
    "---"
   ]
  },
  {
   "cell_type": "markdown",
   "id": "8d65248e-c0a6-4bf1-bbaf-064941ea1a61",
   "metadata": {},
   "source": [
    "<a href=\"https://colab.research.google.com/github/guebin/PP2023/blob/main/posts/01_PythonBasic/2023-03-15-2wk-2.ipynb\"><img src=\"https://colab.research.google.com/assets/colab-badge.svg\" style=\"text-align: left\"></a>"
   ]
  },
  {
   "cell_type": "markdown",
   "id": "d25cfa26",
   "metadata": {},
   "source": [
    "# 강의영상 "
   ]
  },
  {
   "cell_type": "markdown",
   "id": "3e328a7d",
   "metadata": {},
   "source": [
    "> <https://youtube.com/playlist?list=PLQqh36zP38-yYY4_T4ZDcUeMLxFJma2B3>"
   ]
  },
  {
   "cell_type": "markdown",
   "id": "13b42b39-e7bc-4924-a84c-ff4be9a06dc6",
   "metadata": {},
   "source": [
    "# list 기본내용"
   ]
  },
  {
   "cell_type": "markdown",
   "id": "54e489b8-cf7e-47fe-a502-75e8ed7d2a75",
   "metadata": {},
   "source": [
    "## 선언 "
   ]
  },
  {
   "cell_type": "markdown",
   "id": "7ea96260-f50b-4ad3-b953-ad29769f59a9",
   "metadata": {},
   "source": [
    "`-` 리스트의 선언"
   ]
  },
  {
   "cell_type": "code",
   "execution_count": 38,
   "id": "c68e3bd1-77ce-4aa1-a066-6f5cf661f871",
   "metadata": {},
   "outputs": [],
   "source": [
    "a= [1,2,3,22] "
   ]
  },
  {
   "cell_type": "markdown",
   "id": "90f2d841-d96c-4811-bccf-02b4f39549cb",
   "metadata": {},
   "source": [
    "`-` 비어있는 리스트의 선언 "
   ]
  },
  {
   "cell_type": "code",
   "execution_count": 43,
   "id": "c7eff869-ed60-4922-97f9-6d69b8d123de",
   "metadata": {},
   "outputs": [
    {
     "data": {
      "text/plain": [
       "[]"
      ]
     },
     "execution_count": 43,
     "metadata": {},
     "output_type": "execute_result"
    }
   ],
   "source": [
    "a= []\n",
    "a"
   ]
  },
  {
   "cell_type": "code",
   "execution_count": 44,
   "id": "8142f0ed-9dc6-4342-b679-b0147005d266",
   "metadata": {},
   "outputs": [
    {
     "data": {
      "text/plain": [
       "[]"
      ]
     },
     "execution_count": 44,
     "metadata": {},
     "output_type": "execute_result"
    }
   ],
   "source": [
    "a= list()\n",
    "a"
   ]
  },
  {
   "cell_type": "markdown",
   "id": "dc90db33-9b8e-42f9-a446-a4576e14b4b7",
   "metadata": {},
   "source": [
    "## 연산 "
   ]
  },
  {
   "cell_type": "markdown",
   "id": "912a9bff-09b3-400a-b806-b286377be69b",
   "metadata": {},
   "source": [
    "`-` 더하기연산 "
   ]
  },
  {
   "cell_type": "code",
   "execution_count": 50,
   "id": "85dff1ed-accb-4674-a770-fdf10d385059",
   "metadata": {},
   "outputs": [
    {
     "data": {
      "text/plain": [
       "[1, 2, -3, 4, 5]"
      ]
     },
     "execution_count": 50,
     "metadata": {},
     "output_type": "execute_result"
    }
   ],
   "source": [
    "[1,2]+[-3,4,5]"
   ]
  },
  {
   "cell_type": "markdown",
   "id": "2d1b9de6-c143-4beb-bfb9-504b62eb477f",
   "metadata": {},
   "source": [
    "- 우리의 예상과 다른 결과가 나옴 $\\to$ 파이썬은 R처럼 자체적으로 좋은 계산기능을 내장하고 있지 않음. "
   ]
  },
  {
   "cell_type": "markdown",
   "id": "83608315-200e-4d11-b2e8-7df6436aab7e",
   "metadata": {},
   "source": [
    "`-` 브로드캐스팅과 같이 R에서는 당연히 가능했던 기능을 사용할 수 없음. "
   ]
  },
  {
   "cell_type": "code",
   "execution_count": 53,
   "id": "e41a662c-eec0-4838-92d4-96ff272702f8",
   "metadata": {},
   "outputs": [
    {
     "ename": "TypeError",
     "evalue": "can only concatenate list (not \"int\") to list",
     "output_type": "error",
     "traceback": [
      "\u001b[0;31m---------------------------------------------------------------------------\u001b[0m",
      "\u001b[0;31mTypeError\u001b[0m                                 Traceback (most recent call last)",
      "Cell \u001b[0;32mIn[53], line 1\u001b[0m\n\u001b[0;32m----> 1\u001b[0m \u001b[43m[\u001b[49m\u001b[38;5;241;43m1\u001b[39;49m\u001b[43m,\u001b[49m\u001b[38;5;241;43m2\u001b[39;49m\u001b[43m,\u001b[49m\u001b[38;5;241;43m3\u001b[39;49m\u001b[43m,\u001b[49m\u001b[38;5;241;43m4\u001b[39;49m\u001b[43m,\u001b[49m\u001b[38;5;241;43m5\u001b[39;49m\u001b[43m]\u001b[49m\u001b[43m \u001b[49m\u001b[38;5;241;43m+\u001b[39;49m\u001b[43m \u001b[49m\u001b[38;5;241;43m1\u001b[39;49m\n",
      "\u001b[0;31mTypeError\u001b[0m: can only concatenate list (not \"int\") to list"
     ]
    }
   ],
   "source": [
    "[1,2,3,4,5] + 1"
   ]
  },
  {
   "cell_type": "markdown",
   "id": "a5fa96f4-f019-4fc9-b8fa-cb4b11bc2d23",
   "metadata": {},
   "source": [
    "`-` 뺄셈은 정의되지 않음 "
   ]
  },
  {
   "cell_type": "code",
   "execution_count": 55,
   "id": "4eedf8a0-f46f-4414-95cd-0f660efc85d5",
   "metadata": {},
   "outputs": [
    {
     "ename": "TypeError",
     "evalue": "unsupported operand type(s) for -: 'list' and 'list'",
     "output_type": "error",
     "traceback": [
      "\u001b[0;31m---------------------------------------------------------------------------\u001b[0m",
      "\u001b[0;31mTypeError\u001b[0m                                 Traceback (most recent call last)",
      "Cell \u001b[0;32mIn[55], line 2\u001b[0m\n\u001b[1;32m      1\u001b[0m a\u001b[38;5;241m=\u001b[39m [\u001b[38;5;241m1\u001b[39m,\u001b[38;5;241m2\u001b[39m,\u001b[38;5;241m1\u001b[39m,\u001b[38;5;241m2\u001b[39m]\n\u001b[0;32m----> 2\u001b[0m \u001b[43ma\u001b[49m\u001b[38;5;241;43m-\u001b[39;49m\u001b[43m[\u001b[49m\u001b[38;5;241;43m1\u001b[39;49m\u001b[43m,\u001b[49m\u001b[38;5;241;43m2\u001b[39;49m\u001b[43m]\u001b[49m\n",
      "\u001b[0;31mTypeError\u001b[0m: unsupported operand type(s) for -: 'list' and 'list'"
     ]
    }
   ],
   "source": [
    "a= [1,2,1,2]\n",
    "a-[1,2]"
   ]
  },
  {
   "cell_type": "markdown",
   "id": "dc5a7484-f2b6-4c59-a8d9-5168935c6417",
   "metadata": {},
   "source": [
    "`-` 곱하기는 정의가능 "
   ]
  },
  {
   "cell_type": "code",
   "execution_count": 57,
   "id": "d96b70b4-4cda-41aa-9ac1-acf488d823af",
   "metadata": {},
   "outputs": [
    {
     "data": {
      "text/plain": [
       "[1, 2, 1, 2, 1, 2]"
      ]
     },
     "execution_count": 57,
     "metadata": {},
     "output_type": "execute_result"
    }
   ],
   "source": [
    "[1,2]*3"
   ]
  },
  {
   "cell_type": "markdown",
   "id": "49fd01c0-88cc-4bfc-a5b4-da7fa53c2929",
   "metadata": {},
   "source": [
    "`-` 나눗셈은 정의되지 않음 "
   ]
  },
  {
   "cell_type": "code",
   "execution_count": 58,
   "id": "08b974ff-b341-4783-95b2-7cae20b02d0f",
   "metadata": {},
   "outputs": [
    {
     "ename": "TypeError",
     "evalue": "unsupported operand type(s) for /: 'list' and 'int'",
     "output_type": "error",
     "traceback": [
      "\u001b[0;31m---------------------------------------------------------------------------\u001b[0m",
      "\u001b[0;31mTypeError\u001b[0m                                 Traceback (most recent call last)",
      "Cell \u001b[0;32mIn[58], line 1\u001b[0m\n\u001b[0;32m----> 1\u001b[0m \u001b[43m[\u001b[49m\u001b[38;5;241;43m1\u001b[39;49m\u001b[43m,\u001b[49m\u001b[38;5;241;43m2\u001b[39;49m\u001b[43m,\u001b[49m\u001b[38;5;241;43m1\u001b[39;49m\u001b[43m,\u001b[49m\u001b[38;5;241;43m2\u001b[39;49m\u001b[43m,\u001b[49m\u001b[38;5;241;43m1\u001b[39;49m\u001b[43m,\u001b[49m\u001b[38;5;241;43m2\u001b[39;49m\u001b[43m]\u001b[49m\u001b[43m \u001b[49m\u001b[38;5;241;43m/\u001b[39;49m\u001b[38;5;241;43m3\u001b[39;49m\n",
      "\u001b[0;31mTypeError\u001b[0m: unsupported operand type(s) for /: 'list' and 'int'"
     ]
    }
   ],
   "source": [
    "[1,2,1,2,1,2] /3"
   ]
  },
  {
   "cell_type": "markdown",
   "id": "dddd737e-25f4-4832-b39d-7c240aac13d3",
   "metadata": {},
   "source": [
    "`-` 더하기와 곱하기는 원소의 추가와 반복추가를 의미하지만 그렇다고 해서 뺄셈과 나눗셈이 원소의 삭제를 의미하는것은 아님"
   ]
  },
  {
   "cell_type": "markdown",
   "id": "4b8b4155-f810-4609-a682-6e459eceb38a",
   "metadata": {},
   "source": [
    "`-` 더하기와 곱하기가 원소의 추가와 반복추가를 의미하여 편리할때도 있긴하지만, 우리는 산술적인 `+`, `*` 를 원하는 경우도 있다. 이럴 경우는 어떻게 할 수 있을까?"
   ]
  },
  {
   "cell_type": "markdown",
   "id": "fc38d5fc-00cd-45bf-a5be-6cb2b8beaaa0",
   "metadata": {},
   "source": [
    "(예제)"
   ]
  },
  {
   "cell_type": "code",
   "execution_count": 60,
   "id": "643db365-7958-4ebf-87e1-8d086fde4623",
   "metadata": {},
   "outputs": [],
   "source": [
    "a=[1,2]\n",
    "b=[3,4]"
   ]
  },
  {
   "cell_type": "markdown",
   "id": "be6353d3-e872-4a2d-b1b8-3e33c0749284",
   "metadata": {},
   "source": [
    "a+b = [4,6] 이 되도록 하려면? "
   ]
  },
  {
   "cell_type": "markdown",
   "id": "fcf673d2-9074-4b74-a340-2770cdedc513",
   "metadata": {},
   "source": [
    "(풀이1)"
   ]
  },
  {
   "cell_type": "code",
   "execution_count": 69,
   "id": "55f4bdc2-d08d-44f5-851f-a779500678e5",
   "metadata": {},
   "outputs": [
    {
     "data": {
      "text/plain": [
       "[4, 6]"
      ]
     },
     "execution_count": 69,
     "metadata": {},
     "output_type": "execute_result"
    }
   ],
   "source": [
    "[a[0]+b[0],a[1]+b[1]]"
   ]
  },
  {
   "cell_type": "markdown",
   "id": "24a9206e-ef03-43e2-ae41-8177a9ed7d84",
   "metadata": {},
   "source": [
    "풀이가 가능한 이유? a,b는 리스트이지만 a[0], a[1], b[0], b[1] 은 각각 인트형임. 인트형은 + 연산이 가능했음. "
   ]
  },
  {
   "cell_type": "markdown",
   "id": "94c7bb08-6efd-4587-b0e8-88a47766fedd",
   "metadata": {},
   "source": [
    "(풀이2)"
   ]
  },
  {
   "cell_type": "markdown",
   "id": "dbaf178a-6c4f-4787-b604-a872c31a42f7",
   "metadata": {},
   "source": [
    "numpy 패키지 (파이썬의 여러 수치연산들을 담당하는 라이브러리)\n",
    "\n",
    "- 이러한 벡터연산은 누구나 필요로 하는 연산임.\n",
    "- 내가 아니더라도 누군가가 프로그램화 해놓았을 것임.\n",
    "- 그 누군가가 자신이 만든 코드를 잘 정리하여 무료로 배포했을 수도 있음. (패키지를 배포한다고 표현) \n",
    "- 그 패키지를 우리는 가져와서 설치한뒤 사용하기만 하면된다. \n",
    "\n",
    "패키지를 설치하는 방법 \n",
    "\n",
    "- `!pip install numpy` # 최신버전을 설치함 \n",
    "- `!conda install -c conda-forge numpy -y` # 안전한 버전을 설치함 \n",
    "\n",
    "설치된 패키지를 사용하는 방법\n",
    "\n",
    "- `import numpy` 한뒤에 `numpy.??`로 기능을 사용 \n",
    "- `import numpy as np` 한뒤에 `np.??`로 기능을 사용 "
   ]
  },
  {
   "cell_type": "code",
   "execution_count": 71,
   "id": "8ef820c4-1e9d-49a1-8238-2705a8850a50",
   "metadata": {},
   "outputs": [],
   "source": [
    "import numpy ## 설치한패키지를 쓰겠다고 선언함 "
   ]
  },
  {
   "cell_type": "code",
   "execution_count": 72,
   "id": "86978180-0621-40b0-b6c8-2cdb0fd60853",
   "metadata": {},
   "outputs": [],
   "source": [
    "a=[1,2]\n",
    "b=[3,4]"
   ]
  },
  {
   "cell_type": "code",
   "execution_count": 84,
   "id": "0e6322b6-ca8a-47f2-8b4e-ec7fa6372b6a",
   "metadata": {},
   "outputs": [],
   "source": [
    "aa = numpy.array(a)\n",
    "bb = numpy.array(b)"
   ]
  },
  {
   "cell_type": "code",
   "execution_count": 88,
   "id": "f4bfe720-241c-4d08-b47b-3210775f6bde",
   "metadata": {},
   "outputs": [
    {
     "data": {
      "text/plain": [
       "array([4, 6])"
      ]
     },
     "execution_count": 88,
     "metadata": {},
     "output_type": "execute_result"
    }
   ],
   "source": [
    "aa+bb"
   ]
  },
  {
   "cell_type": "markdown",
   "id": "fb01453b-ba5e-4943-b675-34c3d41a94e0",
   "metadata": {},
   "source": [
    "여러가지 연산 가능 (마치 R처럼 쓸 수 있음) "
   ]
  },
  {
   "cell_type": "code",
   "execution_count": 90,
   "id": "8f5ce4c0-1a8c-4ccd-8ad2-450c0e97bdf1",
   "metadata": {},
   "outputs": [
    {
     "data": {
      "text/plain": [
       "array([2, 4])"
      ]
     },
     "execution_count": 90,
     "metadata": {},
     "output_type": "execute_result"
    }
   ],
   "source": [
    "2*aa"
   ]
  },
  {
   "cell_type": "code",
   "execution_count": 94,
   "id": "83773bda-e522-487f-a413-33184903be6b",
   "metadata": {},
   "outputs": [
    {
     "data": {
      "text/plain": [
       "array([3, 5])"
      ]
     },
     "execution_count": 94,
     "metadata": {},
     "output_type": "execute_result"
    }
   ],
   "source": [
    "2*aa+1"
   ]
  },
  {
   "cell_type": "code",
   "execution_count": 97,
   "id": "a6aaf1c2-ac33-40b6-bbb2-028c0864bd89",
   "metadata": {},
   "outputs": [
    {
     "data": {
      "text/plain": [
       "array([6, 9])"
      ]
     },
     "execution_count": 97,
     "metadata": {},
     "output_type": "execute_result"
    }
   ],
   "source": [
    "2*aa+1+bb"
   ]
  },
  {
   "cell_type": "markdown",
   "id": "6d3d87e0-8b5e-46f4-b635-0e72d6dd7765",
   "metadata": {},
   "source": [
    "(풀이3)"
   ]
  },
  {
   "cell_type": "code",
   "execution_count": 109,
   "id": "64c7d2ab-50a7-4d08-b204-27b4f3b00e4e",
   "metadata": {},
   "outputs": [],
   "source": [
    "import numpy as np ## 설치한 numpy라는 패키지를 쓰겠음. 그런데 numpy말고 np라는 이름으로 쓰겠음"
   ]
  },
  {
   "cell_type": "code",
   "execution_count": 110,
   "id": "05f9e4a4-6912-4fb2-9725-f11cacadd665",
   "metadata": {},
   "outputs": [
    {
     "data": {
      "text/plain": [
       "array([4, 6])"
      ]
     },
     "execution_count": 110,
     "metadata": {},
     "output_type": "execute_result"
    }
   ],
   "source": [
    "np.array(a)+np.array(b)"
   ]
  },
  {
   "cell_type": "markdown",
   "id": "24cee08d-aca3-4542-aba7-8ea9a1fe2a63",
   "metadata": {},
   "source": [
    "## 인덱싱 "
   ]
  },
  {
   "cell_type": "markdown",
   "id": "a77a384d-54f1-4a60-b252-5fcb949ec73d",
   "metadata": {},
   "source": [
    "`-` str형과 동일한 방식"
   ]
  },
  {
   "cell_type": "code",
   "execution_count": 111,
   "id": "1fab0cf8-b693-45f0-9ca2-be5923508d65",
   "metadata": {},
   "outputs": [],
   "source": [
    "a=[11,22,33,44,55] # 0 -4 -3 -2 -1"
   ]
  },
  {
   "cell_type": "code",
   "execution_count": 117,
   "id": "a5ed42cc-2ec2-4b4d-b390-8f22ad95f8f9",
   "metadata": {},
   "outputs": [
    {
     "data": {
      "text/plain": [
       "[44, 55]"
      ]
     },
     "execution_count": 117,
     "metadata": {},
     "output_type": "execute_result"
    }
   ],
   "source": [
    "a[-2:] # 끝의 2개의 원소를 뽑음 "
   ]
  },
  {
   "cell_type": "markdown",
   "id": "a9974d5f-7f35-4d65-a04e-d43f2c854156",
   "metadata": {},
   "source": [
    "# list 고급내용 1"
   ]
  },
  {
   "cell_type": "markdown",
   "id": "0d606c02-4533-4dbd-a95b-c528c62a8371",
   "metadata": {},
   "source": [
    "## 콘테이너형 객체"
   ]
  },
  {
   "cell_type": "markdown",
   "id": "189fcaa6-5346-4823-a042-6fd4617cef54",
   "metadata": {},
   "source": [
    "`-` 리스트의 원소는 int, float 따위만 가능한 것이 아니다. (리스트는 컨테이너형 객체이므로)"
   ]
  },
  {
   "cell_type": "code",
   "execution_count": 124,
   "id": "6bca2ab6-762d-4476-9c3c-204778d824c0",
   "metadata": {},
   "outputs": [],
   "source": [
    "lst = [1,3.14,True,'a',[1,2], \n",
    "       (1,2),{'name':'iu','age':27},{1,2,3}]"
   ]
  },
  {
   "cell_type": "code",
   "execution_count": 125,
   "id": "c202a191-a3e4-4a40-8353-03df6fa1eece",
   "metadata": {},
   "outputs": [
    {
     "data": {
      "text/plain": [
       "[1, 3.14, True, 'a', [1, 2], (1, 2), {'name': 'iu', 'age': 27}, {1, 2, 3}]"
      ]
     },
     "execution_count": 125,
     "metadata": {},
     "output_type": "execute_result"
    }
   ],
   "source": [
    "lst"
   ]
  },
  {
   "cell_type": "markdown",
   "id": "d73a16fc-2096-4038-b438-f8507b670644",
   "metadata": {},
   "source": [
    "각 원소의 타입을 알아보자. "
   ]
  },
  {
   "cell_type": "code",
   "execution_count": 80,
   "id": "58b9d37c-017b-4965-9ced-8181f4b63772",
   "metadata": {},
   "outputs": [
    {
     "data": {
      "text/plain": [
       "int"
      ]
     },
     "execution_count": 80,
     "metadata": {},
     "output_type": "execute_result"
    }
   ],
   "source": [
    "type(lst[0])"
   ]
  },
  {
   "cell_type": "code",
   "execution_count": 81,
   "id": "8ad7e578-f4f4-409c-bc7a-ce188efb8293",
   "metadata": {},
   "outputs": [
    {
     "data": {
      "text/plain": [
       "float"
      ]
     },
     "execution_count": 81,
     "metadata": {},
     "output_type": "execute_result"
    }
   ],
   "source": [
    "type(lst[1])"
   ]
  },
  {
   "cell_type": "code",
   "execution_count": 82,
   "id": "fef0fd0f-e394-4fcd-a2fd-cd986354640d",
   "metadata": {},
   "outputs": [
    {
     "data": {
      "text/plain": [
       "bool"
      ]
     },
     "execution_count": 82,
     "metadata": {},
     "output_type": "execute_result"
    }
   ],
   "source": [
    "type(lst[2])"
   ]
  },
  {
   "cell_type": "code",
   "execution_count": 83,
   "id": "97a7896b-bb24-4ef6-80f1-6772facb7345",
   "metadata": {},
   "outputs": [
    {
     "data": {
      "text/plain": [
       "str"
      ]
     },
     "execution_count": 83,
     "metadata": {},
     "output_type": "execute_result"
    }
   ],
   "source": [
    "type(lst[3])"
   ]
  },
  {
   "cell_type": "code",
   "execution_count": 84,
   "id": "2cdfa3a1-ddd7-4aa8-a48c-b76116358527",
   "metadata": {},
   "outputs": [
    {
     "data": {
      "text/plain": [
       "list"
      ]
     },
     "execution_count": 84,
     "metadata": {},
     "output_type": "execute_result"
    }
   ],
   "source": [
    "type(lst[4])"
   ]
  },
  {
   "cell_type": "code",
   "execution_count": 85,
   "id": "990b57c8-03c9-4eea-8ee2-28e615fb410e",
   "metadata": {},
   "outputs": [
    {
     "data": {
      "text/plain": [
       "tuple"
      ]
     },
     "execution_count": 85,
     "metadata": {},
     "output_type": "execute_result"
    }
   ],
   "source": [
    "type(lst[5])"
   ]
  },
  {
   "cell_type": "code",
   "execution_count": 86,
   "id": "6a03c65f-054d-457a-a484-d081bae70e79",
   "metadata": {},
   "outputs": [
    {
     "data": {
      "text/plain": [
       "dict"
      ]
     },
     "execution_count": 86,
     "metadata": {},
     "output_type": "execute_result"
    }
   ],
   "source": [
    "type(lst[6])"
   ]
  },
  {
   "cell_type": "code",
   "execution_count": 87,
   "id": "d251284d-2c55-471d-a498-5361b9e9f55a",
   "metadata": {},
   "outputs": [
    {
     "data": {
      "text/plain": [
       "set"
      ]
     },
     "execution_count": 87,
     "metadata": {},
     "output_type": "execute_result"
    }
   ],
   "source": [
    "type(lst[7])"
   ]
  },
  {
   "cell_type": "markdown",
   "id": "8dd97942-e7ab-4b81-a334-fb02be8b89ae",
   "metadata": {},
   "source": [
    "`-` str은 컨테이너형이 아니다. "
   ]
  },
  {
   "cell_type": "code",
   "execution_count": 93,
   "id": "7bac689f-25d5-424d-8092-02bd93edc2b8",
   "metadata": {},
   "outputs": [
    {
     "data": {
      "text/plain": [
       "'c'"
      ]
     },
     "execution_count": 93,
     "metadata": {},
     "output_type": "execute_result"
    }
   ],
   "source": [
    "'abcd'[2]"
   ]
  },
  {
   "cell_type": "markdown",
   "id": "9a0d7bfb-6f0e-41db-9e98-bb6d3d1c58e6",
   "metadata": {},
   "source": [
    "- str의 모든 원소는 문자임 "
   ]
  },
  {
   "cell_type": "markdown",
   "id": "1579e78f-25fb-442c-9986-1125e51f24b5",
   "metadata": {},
   "source": [
    "## 가변객체 "
   ]
  },
  {
   "cell_type": "markdown",
   "id": "617adf35-c269-4c08-be16-8b82dc5e3c9e",
   "metadata": {},
   "source": [
    "`-` 리스트는 원소를 수정할 수 있다. (리스트는 가변객체이므로)"
   ]
  },
  {
   "cell_type": "code",
   "execution_count": 128,
   "id": "03b12f77-4f18-4251-8ce4-51f7be28e631",
   "metadata": {},
   "outputs": [
    {
     "data": {
      "text/plain": [
       "[11, 22, 33]"
      ]
     },
     "execution_count": 128,
     "metadata": {},
     "output_type": "execute_result"
    }
   ],
   "source": [
    "a=[11,22,33]\n",
    "a"
   ]
  },
  {
   "cell_type": "code",
   "execution_count": 129,
   "id": "3878c6ef-50b7-4b61-aef2-8d22a8bd3f17",
   "metadata": {},
   "outputs": [
    {
     "data": {
      "text/plain": [
       "11"
      ]
     },
     "execution_count": 129,
     "metadata": {},
     "output_type": "execute_result"
    }
   ],
   "source": [
    "a[0]"
   ]
  },
  {
   "cell_type": "code",
   "execution_count": 130,
   "id": "86bb058a-bf39-4a6b-8183-cc8ce2c7b62d",
   "metadata": {},
   "outputs": [],
   "source": [
    "a[0]=111"
   ]
  },
  {
   "cell_type": "code",
   "execution_count": 131,
   "id": "0fd901e0-ef1d-4db9-b57e-1fffe10b28bb",
   "metadata": {},
   "outputs": [
    {
     "data": {
      "text/plain": [
       "[111, 22, 33]"
      ]
     },
     "execution_count": 131,
     "metadata": {},
     "output_type": "execute_result"
    }
   ],
   "source": [
    "a"
   ]
  },
  {
   "cell_type": "markdown",
   "id": "a8c9e087-6e49-42e3-8eb2-d9de7e21613e",
   "metadata": {},
   "source": [
    "`-` 원소수정은 당연한 기능같은데 이것이 불가능한 경우도 있다. "
   ]
  },
  {
   "cell_type": "markdown",
   "id": "876b2b87-cfd5-4851-b149-f2c0a5c0137b",
   "metadata": {},
   "source": [
    "(가능한경우) "
   ]
  },
  {
   "cell_type": "code",
   "execution_count": 132,
   "id": "147f5a58-b94f-45ea-9ab2-bb190913f6e9",
   "metadata": {},
   "outputs": [
    {
     "data": {
      "text/plain": [
       "['g', 'u', 'e', 'b', 'i', 'n']"
      ]
     },
     "execution_count": 132,
     "metadata": {},
     "output_type": "execute_result"
    }
   ],
   "source": [
    "a=['g','u','e','b','i','n']\n",
    "a"
   ]
  },
  {
   "cell_type": "code",
   "execution_count": 133,
   "id": "e6c8c0b1-d95b-427a-92ca-ab09d7827974",
   "metadata": {},
   "outputs": [
    {
     "data": {
      "text/plain": [
       "'g'"
      ]
     },
     "execution_count": 133,
     "metadata": {},
     "output_type": "execute_result"
    }
   ],
   "source": [
    "a[0]"
   ]
  },
  {
   "cell_type": "code",
   "execution_count": 134,
   "id": "53577bb1-80e2-4e9e-b17d-e7af1b1555f1",
   "metadata": {},
   "outputs": [],
   "source": [
    "a[0]='G'"
   ]
  },
  {
   "cell_type": "code",
   "execution_count": 135,
   "id": "ddf501eb-f3d9-4acd-8f77-f07424c9ab41",
   "metadata": {},
   "outputs": [
    {
     "data": {
      "text/plain": [
       "['G', 'u', 'e', 'b', 'i', 'n']"
      ]
     },
     "execution_count": 135,
     "metadata": {},
     "output_type": "execute_result"
    }
   ],
   "source": [
    "a"
   ]
  },
  {
   "cell_type": "markdown",
   "id": "545f1d49-1099-405d-8076-de721c5b3bad",
   "metadata": {},
   "source": [
    "(불가능한경우) "
   ]
  },
  {
   "cell_type": "code",
   "execution_count": 136,
   "id": "35db9d10-7e56-4c7b-9813-d302f453fdf8",
   "metadata": {},
   "outputs": [
    {
     "data": {
      "text/plain": [
       "'guebin'"
      ]
     },
     "execution_count": 136,
     "metadata": {},
     "output_type": "execute_result"
    }
   ],
   "source": [
    "a='guebin'\n",
    "a"
   ]
  },
  {
   "cell_type": "code",
   "execution_count": 137,
   "id": "2bbde9f0-2a30-43cd-b76c-a578f181317a",
   "metadata": {},
   "outputs": [
    {
     "data": {
      "text/plain": [
       "'g'"
      ]
     },
     "execution_count": 137,
     "metadata": {},
     "output_type": "execute_result"
    }
   ],
   "source": [
    "a[0]"
   ]
  },
  {
   "cell_type": "code",
   "execution_count": 138,
   "id": "d3712c4c-f962-4e7e-bd61-b8561f0afedd",
   "metadata": {},
   "outputs": [
    {
     "ename": "TypeError",
     "evalue": "'str' object does not support item assignment",
     "output_type": "error",
     "traceback": [
      "\u001b[0;31m---------------------------------------------------------------------------\u001b[0m",
      "\u001b[0;31mTypeError\u001b[0m                                 Traceback (most recent call last)",
      "Cell \u001b[0;32mIn[138], line 1\u001b[0m\n\u001b[0;32m----> 1\u001b[0m \u001b[43ma\u001b[49m\u001b[43m[\u001b[49m\u001b[38;5;241;43m0\u001b[39;49m\u001b[43m]\u001b[49m\u001b[38;5;241m=\u001b[39m\u001b[38;5;124m'\u001b[39m\u001b[38;5;124mG\u001b[39m\u001b[38;5;124m'\u001b[39m\n",
      "\u001b[0;31mTypeError\u001b[0m: 'str' object does not support item assignment"
     ]
    }
   ],
   "source": [
    "a[0]='G'"
   ]
  },
  {
   "cell_type": "markdown",
   "id": "57c70233-94ca-4485-9a9f-3c01fab1f797",
   "metadata": {},
   "source": [
    "## 리스트의 원소 삭제 "
   ]
  },
  {
   "cell_type": "markdown",
   "id": "3ae5576f-cc7d-4360-9259-d03b1adf4951",
   "metadata": {},
   "source": [
    "(예제1) del을 이용한 원소삭제 "
   ]
  },
  {
   "cell_type": "markdown",
   "id": "ac63afb0-c25a-4d5b-9425-0cac70ee60d6",
   "metadata": {},
   "source": [
    "아래와 같이 문자로 된 리스트를 선언하자. "
   ]
  },
  {
   "cell_type": "code",
   "execution_count": 139,
   "id": "baab4373-6a21-4c64-b279-3595ead70469",
   "metadata": {},
   "outputs": [
    {
     "data": {
      "text/plain": [
       "['g', 'u', 'e', 'b', 'i', 'n']"
      ]
     },
     "execution_count": 139,
     "metadata": {},
     "output_type": "execute_result"
    }
   ],
   "source": [
    "a=['g','u','e','b','i','n']\n",
    "a"
   ]
  },
  {
   "cell_type": "markdown",
   "id": "ca0eb762-e92b-40ec-9a25-99ba303e895c",
   "metadata": {},
   "source": [
    "***사실 더 쉽게 선언할 수 있음***"
   ]
  },
  {
   "cell_type": "code",
   "execution_count": 142,
   "id": "bbea1098-1882-4931-bbd5-97c843a1a464",
   "metadata": {},
   "outputs": [
    {
     "data": {
      "text/plain": [
       "['g', 'u', 'e', 'b', 'i', 'n']"
      ]
     },
     "execution_count": 142,
     "metadata": {},
     "output_type": "execute_result"
    }
   ],
   "source": [
    "list('guebin')"
   ]
  },
  {
   "cell_type": "markdown",
   "id": "738e7389-8694-4528-acf0-f395d0d0ff4f",
   "metadata": {},
   "source": [
    "첫번째 원소를 삭제하고 싶다면? "
   ]
  },
  {
   "cell_type": "code",
   "execution_count": 144,
   "id": "642812f1-f109-4d7f-b561-76a1afdeeda0",
   "metadata": {},
   "outputs": [
    {
     "data": {
      "text/plain": [
       "['u', 'e', 'b', 'i', 'n']"
      ]
     },
     "execution_count": 144,
     "metadata": {},
     "output_type": "execute_result"
    }
   ],
   "source": [
    "del a[0]\n",
    "a"
   ]
  },
  {
   "cell_type": "markdown",
   "id": "d3c36278-ab8e-432f-bc54-bbf0c0e614ee",
   "metadata": {},
   "source": [
    "이 상태에서 다시 첫번째 원소를 삭제한다면? "
   ]
  },
  {
   "cell_type": "code",
   "execution_count": 145,
   "id": "6c0c6f66-ff71-4ac0-a16e-77ed9ca9b4c5",
   "metadata": {},
   "outputs": [
    {
     "data": {
      "text/plain": [
       "['e', 'b', 'i', 'n']"
      ]
     },
     "execution_count": 145,
     "metadata": {},
     "output_type": "execute_result"
    }
   ],
   "source": [
    "del a[0]\n",
    "a"
   ]
  },
  {
   "cell_type": "markdown",
   "id": "9a8200f4-bbb2-467e-9bbc-54a16736aef1",
   "metadata": {},
   "source": [
    "(예제2) pop을 이용한 원소삭제 "
   ]
  },
  {
   "cell_type": "code",
   "execution_count": 146,
   "id": "47556a57-357a-48a2-b50c-900b3ff19f0f",
   "metadata": {},
   "outputs": [
    {
     "data": {
      "text/plain": [
       "['g', 'u', 'e', 'b', 'i', 'n']"
      ]
     },
     "execution_count": 146,
     "metadata": {},
     "output_type": "execute_result"
    }
   ],
   "source": [
    "a=list('guebin')\n",
    "a"
   ]
  },
  {
   "cell_type": "code",
   "execution_count": 148,
   "id": "b9825e53-c507-4caa-9e57-23d003111e49",
   "metadata": {},
   "outputs": [
    {
     "data": {
      "text/plain": [
       "'g'"
      ]
     },
     "execution_count": 148,
     "metadata": {},
     "output_type": "execute_result"
    }
   ],
   "source": [
    "a.pop(0)"
   ]
  },
  {
   "cell_type": "code",
   "execution_count": 149,
   "id": "6ffc048f-6750-453b-a8bb-4451bb6d7a38",
   "metadata": {},
   "outputs": [
    {
     "data": {
      "text/plain": [
       "['u', 'e', 'b', 'i', 'n']"
      ]
     },
     "execution_count": 149,
     "metadata": {},
     "output_type": "execute_result"
    }
   ],
   "source": [
    "a"
   ]
  },
  {
   "cell_type": "code",
   "execution_count": 151,
   "id": "c2c4d187-e6e2-436f-8db2-ca3bcd18a707",
   "metadata": {},
   "outputs": [
    {
     "data": {
      "text/plain": [
       "'u'"
      ]
     },
     "execution_count": 151,
     "metadata": {},
     "output_type": "execute_result"
    }
   ],
   "source": [
    "a.pop(0)"
   ]
  },
  {
   "cell_type": "code",
   "execution_count": 152,
   "id": "1e00e75d-2c1f-463d-bb52-aee86c5224d3",
   "metadata": {},
   "outputs": [
    {
     "data": {
      "text/plain": [
       "['e', 'b', 'i', 'n']"
      ]
     },
     "execution_count": 152,
     "metadata": {},
     "output_type": "execute_result"
    }
   ],
   "source": [
    "a"
   ]
  },
  {
   "cell_type": "markdown",
   "id": "7d87dc2d-005b-47b4-bbc6-59d438c8a0e4",
   "metadata": {},
   "source": [
    "# HW 0315"
   ]
  },
  {
   "cell_type": "markdown",
   "id": "55dc76f7-0c88-462f-853d-d10a0afa6410",
   "metadata": {},
   "source": [
    "`1`. 길이가 0인 리스트를 만들어라. (비어있는 리스트를 만들어라) "
   ]
  },
  {
   "cell_type": "markdown",
   "id": "b930760c-dd4a-4602-b6c2-000b357f1476",
   "metadata": {},
   "source": [
    "(풀이1)"
   ]
  },
  {
   "cell_type": "code",
   "execution_count": 25,
   "id": "22ddba19-9269-4edb-97e2-77fb74ea96ee",
   "metadata": {},
   "outputs": [
    {
     "data": {
      "text/plain": [
       "[]"
      ]
     },
     "execution_count": 25,
     "metadata": {},
     "output_type": "execute_result"
    }
   ],
   "source": [
    "[]"
   ]
  },
  {
   "cell_type": "markdown",
   "id": "409d98e7-7c9e-4ee0-95df-5f112e256a1a",
   "metadata": {},
   "source": [
    "(풀이2)"
   ]
  },
  {
   "cell_type": "code",
   "execution_count": 24,
   "id": "36cf5ac9-70d4-46de-af2d-3e9a3affe355",
   "metadata": {},
   "outputs": [
    {
     "data": {
      "text/plain": [
       "[]"
      ]
     },
     "execution_count": 24,
     "metadata": {},
     "output_type": "execute_result"
    }
   ],
   "source": [
    "list()"
   ]
  },
  {
   "cell_type": "markdown",
   "id": "34142102-b8a3-4d30-9d68-8b49f5dc46e8",
   "metadata": {},
   "source": [
    "`2`. 다음의 실행값 중 가장 큰 숫자가 나오는 보기를 골라라. (에러가 나는 코드는 정답에서 제외함) \n",
    "\n",
    "```Python\n",
    "(a) len(3.14) \n",
    "(b) len([3.14]) \n",
    "(c) len('3.14') \n",
    "```"
   ]
  },
  {
   "cell_type": "markdown",
   "id": "13c31ede-4a06-4a2b-bf8c-2728ca742f83",
   "metadata": {},
   "source": [
    "(풀이)"
   ]
  },
  {
   "cell_type": "code",
   "execution_count": 32,
   "id": "1632a818-1ae1-4ab5-a4f1-f5933eb3a3f5",
   "metadata": {},
   "outputs": [
    {
     "ename": "TypeError",
     "evalue": "object of type 'float' has no len()",
     "output_type": "error",
     "traceback": [
      "\u001b[0;31m---------------------------------------------------------------------------\u001b[0m",
      "\u001b[0;31mTypeError\u001b[0m                                 Traceback (most recent call last)",
      "Cell \u001b[0;32mIn[32], line 1\u001b[0m\n\u001b[0;32m----> 1\u001b[0m \u001b[38;5;28;43mlen\u001b[39;49m\u001b[43m(\u001b[49m\u001b[38;5;241;43m3.14\u001b[39;49m\u001b[43m)\u001b[49m\n",
      "\u001b[0;31mTypeError\u001b[0m: object of type 'float' has no len()"
     ]
    }
   ],
   "source": [
    "len(3.14)"
   ]
  },
  {
   "cell_type": "code",
   "execution_count": 33,
   "id": "543a1e27-2058-4395-9e80-339dd3d224e7",
   "metadata": {},
   "outputs": [
    {
     "data": {
      "text/plain": [
       "1"
      ]
     },
     "execution_count": 33,
     "metadata": {},
     "output_type": "execute_result"
    }
   ],
   "source": [
    "len([3.14])"
   ]
  },
  {
   "cell_type": "code",
   "execution_count": 34,
   "id": "651e4d30-f408-43e9-961f-a873de48dd5d",
   "metadata": {},
   "outputs": [
    {
     "data": {
      "text/plain": [
       "4"
      ]
     },
     "execution_count": 34,
     "metadata": {},
     "output_type": "execute_result"
    }
   ],
   "source": [
    "len('3.14')"
   ]
  },
  {
   "cell_type": "markdown",
   "id": "fca407c5-0d38-423c-a148-5df74fdb393b",
   "metadata": {},
   "source": [
    "따라서 답은 (c)"
   ]
  },
  {
   "cell_type": "markdown",
   "id": "44994247-afd3-4801-a965-317f9a773fd3",
   "metadata": {},
   "source": [
    "`3`. 아래의 예제를 관찰하라. "
   ]
  },
  {
   "cell_type": "code",
   "execution_count": 1,
   "id": "d93527ad-4af4-476d-bb47-bf939c1cf882",
   "metadata": {},
   "outputs": [
    {
     "data": {
      "text/plain": [
       "'제 이름은 최규빈입니다'"
      ]
     },
     "execution_count": 1,
     "metadata": {},
     "output_type": "execute_result"
    }
   ],
   "source": [
    "'제 이름은 {}입니다'.format('최규빈')"
   ]
  },
  {
   "cell_type": "code",
   "execution_count": 2,
   "id": "b848a434-48b8-4ee4-82f3-2ec91ee2a124",
   "metadata": {},
   "outputs": [
    {
     "data": {
      "text/plain": [
       "'제 이름은 최규빈이고 사는곳은 전주입니다.'"
      ]
     },
     "execution_count": 2,
     "metadata": {},
     "output_type": "execute_result"
    }
   ],
   "source": [
    "'제 이름은 {}이고 사는곳은 {}입니다.'.format('최규빈','전주')"
   ]
  },
  {
   "cell_type": "markdown",
   "id": "a17d0bad-5b61-4dbb-8ad7-f9ba0e500d44",
   "metadata": {},
   "source": [
    "이 예제를 바탕으로 문자열에 포함된 `.format()`함수의 기능을 유추하라. 그리고 아래의 결과를 확인하라. \n",
    "\n",
    "```Python\n",
    "string = '전북대학교 학생엠티가 {}월{}일-{}월{}일 완주 곶감펜션에서 있다고 합니다. 자세한 일정 등은 다시 공지하겠습니다.' \n",
    "string.format(3,24,3,25)\n",
    "```"
   ]
  },
  {
   "cell_type": "markdown",
   "id": "90d2b34a-32e3-4031-a854-e42f0a9c0411",
   "metadata": {},
   "source": [
    "ChatGPT를 활용하여 `.format()`함수의 기능을 학습하라. "
   ]
  },
  {
   "cell_type": "markdown",
   "id": "9ccb2699-c980-4937-bafd-81c7715d1dd2",
   "metadata": {},
   "source": [
    "(풀이) "
   ]
  },
  {
   "cell_type": "markdown",
   "id": "a4008916-165a-4dd5-820a-b1ff1e10bb83",
   "metadata": {},
   "source": [
    "생략 "
   ]
  },
  {
   "cell_type": "markdown",
   "id": "128cabfe-f87f-41e9-b1df-df44fe56fe3a",
   "metadata": {},
   "source": [
    "`4`. 아래의 예제를 관찰하라. "
   ]
  },
  {
   "cell_type": "code",
   "execution_count": 16,
   "id": "77f99a1c-fb7d-4268-b90b-0c48ed7ae650",
   "metadata": {},
   "outputs": [
    {
     "data": {
      "text/plain": [
       "'abcdefu'"
      ]
     },
     "execution_count": 16,
     "metadata": {},
     "output_type": "execute_result"
    }
   ],
   "source": [
    "'abcdefg'.replace('g','u')"
   ]
  },
  {
   "cell_type": "markdown",
   "id": "8a7ede9d-27c3-4e51-80a1-07640fb75606",
   "metadata": {},
   "source": [
    "이 예제를 바탕으로 문자열의 `.replace()` 기능을 유추하라. 유추한 기능을 chatGPT로 확인하라. "
   ]
  },
  {
   "cell_type": "markdown",
   "id": "8b15ef6b-584f-4122-8264-abbbb21b9f26",
   "metadata": {},
   "source": [
    "(풀이)"
   ]
  },
  {
   "cell_type": "markdown",
   "id": "c2724120-cb55-4557-82ea-39e1f2280f91",
   "metadata": {},
   "source": [
    "생략 "
   ]
  },
  {
   "cell_type": "markdown",
   "id": "7c117e3c-ae49-4137-9cc5-4f6687f482be",
   "metadata": {},
   "source": [
    "`5`. 리스트자료형의 `+`와 `*` 연산을 이용하여 아래와 같은 list를 생성하라. "
   ]
  },
  {
   "cell_type": "code",
   "execution_count": 30,
   "id": "1b12f310-68f3-4802-b1cc-0d8eeb054b9c",
   "metadata": {},
   "outputs": [
    {
     "data": {
      "text/plain": [
       "[1, 2, 2, 3, 3, 3, 4, 4, 4, 4, 5, 5, 5, 5, 5]"
      ]
     },
     "execution_count": 30,
     "metadata": {},
     "output_type": "execute_result"
    }
   ],
   "source": [
    "[1, 2, 2, 3, 3, 3, 4, 4, 4, 4, 5, 5, 5, 5, 5]"
   ]
  },
  {
   "cell_type": "markdown",
   "id": "8489764c-1235-44af-99fd-70422e1f0cf4",
   "metadata": {},
   "source": [
    "**hint:** 아래의 코드를 관찰해보세요"
   ]
  },
  {
   "cell_type": "code",
   "execution_count": 10,
   "id": "913145d4-8ad0-4931-a05e-40ab6e1dfdbb",
   "metadata": {},
   "outputs": [
    {
     "data": {
      "text/plain": [
       "[1, 2, 2]"
      ]
     },
     "execution_count": 10,
     "metadata": {},
     "output_type": "execute_result"
    }
   ],
   "source": [
    "[1]*1+[2]*2 "
   ]
  },
  {
   "cell_type": "markdown",
   "id": "1ef7e0a2-aa20-4a27-bb7c-cfa66024c7e5",
   "metadata": {},
   "source": [
    "(풀이)"
   ]
  },
  {
   "cell_type": "code",
   "execution_count": 31,
   "id": "ef82a2b1-4735-4b83-b698-15c2ece51ddf",
   "metadata": {},
   "outputs": [
    {
     "data": {
      "text/plain": [
       "[1, 2, 2, 3, 3, 3, 4, 4, 4, 4, 5, 5, 5, 5, 5]"
      ]
     },
     "execution_count": 31,
     "metadata": {},
     "output_type": "execute_result"
    }
   ],
   "source": [
    "[1]*1+[2]*2+[3]*3+[4]*4+[5]*5"
   ]
  },
  {
   "cell_type": "markdown",
   "id": "1c0b9fbc-9a52-4d69-816c-5217305e3c4a",
   "metadata": {},
   "source": [
    "`6`. 넘파이를 이용하여 아래와 같은 결과가 나오도록 코드가 작성하라. "
   ]
  },
  {
   "cell_type": "markdown",
   "id": "0c1ca845-e695-43fb-a62d-0dd7da25c4b0",
   "metadata": {},
   "source": [
    "$$\\begin{bmatrix}\n",
    "1 \\\\\n",
    "2 \n",
    "\\end{bmatrix} + \\begin{bmatrix}\n",
    "11 \\\\\n",
    "22 \n",
    "\\end{bmatrix} = \n",
    "\\begin{bmatrix}\n",
    "12 \\\\\n",
    "24\n",
    "\\end{bmatrix}$$"
   ]
  },
  {
   "cell_type": "markdown",
   "id": "37b34c2e-e8de-4415-95ce-79a53fa900b7",
   "metadata": {},
   "source": [
    "(풀이)"
   ]
  },
  {
   "cell_type": "code",
   "execution_count": 37,
   "id": "1c0cd7ae-57b8-4886-9bfb-1223d0072668",
   "metadata": {},
   "outputs": [],
   "source": [
    "import numpy as np"
   ]
  },
  {
   "cell_type": "code",
   "execution_count": 40,
   "id": "ff469bf6-c6c2-4ed7-a5bf-5d55c716223c",
   "metadata": {},
   "outputs": [
    {
     "data": {
      "text/plain": [
       "array([12, 24])"
      ]
     },
     "execution_count": 40,
     "metadata": {},
     "output_type": "execute_result"
    }
   ],
   "source": [
    "np.array([1,2]) + np.array([11,22]) # 풀이1"
   ]
  },
  {
   "cell_type": "code",
   "execution_count": 41,
   "id": "0a10a948-8dd7-4467-a527-196d2fb64705",
   "metadata": {},
   "outputs": [
    {
     "data": {
      "text/plain": [
       "array([[12],\n",
       "       [24]])"
      ]
     },
     "execution_count": 41,
     "metadata": {},
     "output_type": "execute_result"
    }
   ],
   "source": [
    "np.array([[1],[2]]) + np.array([[11],[22]]) # 풀이2"
   ]
  },
  {
   "cell_type": "markdown",
   "id": "1226b888-9105-487b-93ee-ede7252c9361",
   "metadata": {},
   "source": [
    "> 풀이1,2 모두 좋음 "
   ]
  },
  {
   "cell_type": "markdown",
   "id": "e9997d95-43b7-44f2-9009-58dab92d2c93",
   "metadata": {},
   "source": [
    "`7`. 아래와 같은 벡터 ${\\boldsymbol a}$가 있다고 하자. "
   ]
  },
  {
   "cell_type": "markdown",
   "id": "46aae663-146c-40d7-b6a1-06de72529f83",
   "metadata": {},
   "source": [
    "$$\\boldsymbol{a}=\n",
    "\\begin{bmatrix}\n",
    "12 \\\\\n",
    "24\n",
    "\\end{bmatrix}$$"
   ]
  },
  {
   "cell_type": "markdown",
   "id": "f3095c78-0ae2-4665-8df1-7b3ae079a98f",
   "metadata": {},
   "source": [
    "넘파이를 이용하여 아래의 결과가 나오게 하는 코드를 작성하라. "
   ]
  },
  {
   "cell_type": "markdown",
   "id": "e7ae1536-b4bc-42d3-be30-22b76c551828",
   "metadata": {},
   "source": [
    "$$2\\boldsymbol{a}=\n",
    "\\begin{bmatrix}\n",
    "24 \\\\\n",
    "48\n",
    "\\end{bmatrix}$$"
   ]
  },
  {
   "cell_type": "markdown",
   "id": "40b37fd0-2504-411a-8eb2-a0c7cbbf69a3",
   "metadata": {},
   "source": [
    "(풀이)"
   ]
  },
  {
   "cell_type": "code",
   "execution_count": 42,
   "id": "5427cb4d-7174-45e1-951e-7f46b561c52c",
   "metadata": {},
   "outputs": [
    {
     "data": {
      "text/plain": [
       "array([24, 48])"
      ]
     },
     "execution_count": 42,
     "metadata": {},
     "output_type": "execute_result"
    }
   ],
   "source": [
    "2*np.array([12,24]) # 풀이1"
   ]
  },
  {
   "cell_type": "code",
   "execution_count": 43,
   "id": "5c40032f-c00d-4e2c-996f-e03798b4b30c",
   "metadata": {},
   "outputs": [
    {
     "data": {
      "text/plain": [
       "array([[24],\n",
       "       [48]])"
      ]
     },
     "execution_count": 43,
     "metadata": {},
     "output_type": "execute_result"
    }
   ],
   "source": [
    "2*np.array([[12],[24]]) # 풀이2"
   ]
  }
 ],
 "metadata": {
  "kernelspec": {
   "display_name": "Python 3",
   "language": "python",
   "name": "python3"
  },
  "language_info": {
   "codemirror_mode": {
    "name": "ipython",
    "version": 3
   },
   "file_extension": ".py",
   "mimetype": "text/x-python",
   "name": "python",
   "nbconvert_exporter": "python",
   "pygments_lexer": "ipython3",
   "version": "3.8.16"
  }
 },
 "nbformat": 4,
 "nbformat_minor": 5
}
