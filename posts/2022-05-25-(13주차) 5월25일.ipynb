{
 "cells": [
  {
   "cell_type": "markdown",
   "id": "98ef34db-df0c-40d7-a25f-58f1a2dcf31f",
   "metadata": {
    "slideshow": {
     "slide_type": "slide"
    },
    "tags": []
   },
   "source": [
    "# (13주차) 5월25일\n",
    "> 클래스 공부 5단계\n",
    "\n",
    "- toc:true\n",
    "- branch: master\n",
    "- badges: true\n",
    "- comments: true\n",
    "- author: 최규빈"
   ]
  },
  {
   "cell_type": "markdown",
   "id": "2e046eea-514c-4039-8f0b-281f98a343d1",
   "metadata": {},
   "source": [
    "## 강의영상"
   ]
  },
  {
   "cell_type": "markdown",
   "id": "d5cdb9bb-1cd0-4d46-8099-0f59ea8df6dd",
   "metadata": {},
   "source": [
    "> youtube: https://youtube.com/playlist?list=PLQqh36zP38-xtwQxx2ib8xsD6p4GYy7yE"
   ]
  },
  {
   "cell_type": "markdown",
   "id": "2c948a52-fd4b-4f74-809c-31e89e1fc931",
   "metadata": {},
   "source": [
    "`-` (1/4) `__add__` (1) \n",
    "\n",
    "`-` (2/4) `__add__` (2) \n",
    "\n",
    "`-` (3/4) `__add__` (3) \n",
    "\n",
    "`-` (4/4) `__mul__` "
   ]
  },
  {
   "cell_type": "markdown",
   "id": "94757db4-b208-4422-9ea2-39079b767153",
   "metadata": {},
   "source": [
    "## imports"
   ]
  },
  {
   "cell_type": "code",
   "execution_count": 173,
   "id": "40fbf84d-4da1-4af4-abb9-edfe2ecf7df0",
   "metadata": {},
   "outputs": [],
   "source": [
    "import numpy as np"
   ]
  },
  {
   "cell_type": "markdown",
   "id": "4f29e70f-f08d-4d8c-8bb3-602642655547",
   "metadata": {},
   "source": [
    "## 클래스공부 5단계"
   ]
  },
  {
   "cell_type": "markdown",
   "id": "8c2d9c90-7924-4503-b8c4-4984e175d50e",
   "metadata": {},
   "source": [
    "`-` 지난시간까지 배운것: RPS자료형에 한정해서 print()등의 기능을 조작할 수 있었다. (재정의 할 수 있었다) "
   ]
  },
  {
   "cell_type": "markdown",
   "id": "05b9a997-845d-4d27-8a00-b0b0c227864b",
   "metadata": {},
   "source": [
    "`-` 이번시간에 배울것: 특정자료형에 한정하여 print 이외의 파이썬 내부기능을 조작하여 보자. (재정의하여 보자)"
   ]
  },
  {
   "cell_type": "markdown",
   "id": "f8514b25-6330-4184-b6ba-64c5fd6c3912",
   "metadata": {},
   "source": [
    "### motive"
   ]
  },
  {
   "cell_type": "markdown",
   "id": "e8a309ab-f043-47db-87bf-7d0f6c66bff9",
   "metadata": {},
   "source": [
    "`-` 아래의 연산구조를 관찰하자. "
   ]
  },
  {
   "cell_type": "code",
   "execution_count": 3,
   "id": "c5df4948-d644-450e-b4a3-5cf7ce5e0e1a",
   "metadata": {},
   "outputs": [
    {
     "data": {
      "text/plain": [
       "3"
      ]
     },
     "execution_count": 3,
     "metadata": {},
     "output_type": "execute_result"
    }
   ],
   "source": [
    "a=1 \n",
    "b=2 \n",
    "a+b "
   ]
  },
  {
   "cell_type": "markdown",
   "id": "c5e6c2ec-b353-4b5f-ab16-822fcd1a9303",
   "metadata": {},
   "source": [
    "- a라는 인스턴스와 b라는 인스턴스를 +라는 기호가 연결하고 있다. "
   ]
  },
  {
   "cell_type": "markdown",
   "id": "6bc57e13-b3d1-4e93-b9ec-162c7e6ac266",
   "metadata": {},
   "source": [
    "`-` 이번에는 아래의 연산구조를 관찰하자."
   ]
  },
  {
   "cell_type": "code",
   "execution_count": 4,
   "id": "65164b9c-d821-4afe-b0d4-472f5aed8c07",
   "metadata": {},
   "outputs": [
    {
     "data": {
      "text/plain": [
       "[1, 2, 3, 4]"
      ]
     },
     "execution_count": 4,
     "metadata": {},
     "output_type": "execute_result"
    }
   ],
   "source": [
    "a=[1,2]\n",
    "b=[3,4]\n",
    "a+b"
   ]
  },
  {
   "cell_type": "markdown",
   "id": "40a21b92-c296-4d9b-b1b9-1c0b94b2c9f1",
   "metadata": {},
   "source": [
    "- a라는 인스턴스와 b라는 인스턴스를 +라는 기호가 연결하고 있다. "
   ]
  },
  {
   "cell_type": "markdown",
   "id": "732a191f-b0c6-4a97-99b2-17f9673bc088",
   "metadata": {},
   "source": [
    "`-` 동작이 다른 이유?\n",
    "- 클래스를 배우기 이전: int자료형의 `+`는 \"정수의 덧셈\"을 의미하고 list자료형의 `+`는 \"자료의 추가\"를 의미한다. \n",
    "- 클래스를 배운 이후: 아마 클래스는 `+`라는 연산을 정의하는 숨겨진 메소드가 있을것이다. (print가 그랬듯이) 그리고 int클래스에서는 그 메소드를 \"정수의 덧셈\"이 되도록 정의하였고 list클래스에서는 그 메소드를 \"자료의 추가\"를 의미하도록 정의하였다. "
   ]
  },
  {
   "cell_type": "markdown",
   "id": "09b1a3f7-6f32-4d3c-8513-10a3f0fc0b18",
   "metadata": {},
   "source": [
    "`-` 아래의 결과를 관찰"
   ]
  },
  {
   "cell_type": "code",
   "execution_count": 14,
   "id": "295f38ba-6a8e-48ee-88c2-2dc0cf062e62",
   "metadata": {},
   "outputs": [],
   "source": [
    "a=1\n",
    "b=2"
   ]
  },
  {
   "cell_type": "code",
   "execution_count": 19,
   "id": "124e0c71-1783-4bd0-91f8-6e2cfa45258c",
   "metadata": {},
   "outputs": [
    {
     "data": {
      "text/plain": [
       "3"
      ]
     },
     "execution_count": 19,
     "metadata": {},
     "output_type": "execute_result"
    }
   ],
   "source": [
    "a.__add__(b)"
   ]
  },
  {
   "cell_type": "code",
   "execution_count": 20,
   "id": "e3085db5-b91b-4a79-9eda-08523a23cfc7",
   "metadata": {},
   "outputs": [
    {
     "data": {
      "text/plain": [
       "3"
      ]
     },
     "execution_count": 20,
     "metadata": {},
     "output_type": "execute_result"
    }
   ],
   "source": [
    "b.__add__(a)"
   ]
  },
  {
   "cell_type": "code",
   "execution_count": 21,
   "id": "64bc3e01-1407-4436-a295-9cb51cdbbba6",
   "metadata": {},
   "outputs": [],
   "source": [
    "a=[1,2]\n",
    "b=[3,4]"
   ]
  },
  {
   "cell_type": "code",
   "execution_count": 22,
   "id": "d21c935b-ba65-459f-abda-103ad3c22460",
   "metadata": {},
   "outputs": [
    {
     "data": {
      "text/plain": [
       "[1, 2, 3, 4]"
      ]
     },
     "execution_count": 22,
     "metadata": {},
     "output_type": "execute_result"
    }
   ],
   "source": [
    "a.__add__(b)"
   ]
  },
  {
   "cell_type": "code",
   "execution_count": 23,
   "id": "4cfc2e68-1e4f-48b0-80a8-7d92664d2745",
   "metadata": {},
   "outputs": [
    {
     "data": {
      "text/plain": [
       "[3, 4, 1, 2]"
      ]
     },
     "execution_count": 23,
     "metadata": {},
     "output_type": "execute_result"
    }
   ],
   "source": [
    "b.__add__(a)"
   ]
  },
  {
   "cell_type": "markdown",
   "id": "91adf3ae-5aa6-441a-8f05-8606d6a3305e",
   "metadata": {},
   "source": [
    "`-` a+b는 사실 내부적으로 `a.__add__(b)`의 축약구문이다. 따라서 만약 `a.__add__(b)`의 기능을 바꾸면 (재정의하면) a+b의 기능도 바뀔 것이다. "
   ]
  },
  {
   "cell_type": "markdown",
   "id": "fc2ca88c-d00e-4c69-9a37-31a58cddface",
   "metadata": {},
   "source": [
    "### `__add__`"
   ]
  },
  {
   "cell_type": "markdown",
   "id": "2a8f074f-2e7f-4e4e-9161-3fa49cb6ff04",
   "metadata": {},
   "source": [
    "`-` 학생예제"
   ]
  },
  {
   "cell_type": "code",
   "execution_count": 104,
   "id": "d16ee08a-9eed-493d-932c-082eab17de6d",
   "metadata": {},
   "outputs": [],
   "source": [
    "class Student:\n",
    "    def __init__(self,age=20.0, semester=0): \n",
    "        self.age = age\n",
    "        self.semester = semester\n",
    "        print(\"입학을 축하합니다. 당신의 나이는 {}이고 현재 학기는 {}학기 입니다.\".format(self.age,self.semester))\n",
    "    def __add__(self,val): \n",
    "        # val == 0: 휴학 \n",
    "        # val == 1: 등록 \n",
    "        if val==0: \n",
    "            self.age=self.age+0.5\n",
    "        elif val==1:\n",
    "            self.age=self.age+0.5 \n",
    "            self.semester= self.semester+1 \n",
    "    def _repr_html_(self):\n",
    "        html_str = \"\"\"\n",
    "        나이: {} <br/>\n",
    "        학기: {} <br/>\n",
    "        \"\"\"\n",
    "        return html_str.format(self.age,self.semester)"
   ]
  },
  {
   "cell_type": "code",
   "execution_count": 105,
   "id": "acd5bbba-6c99-4299-b8db-25b95a8339ad",
   "metadata": {},
   "outputs": [
    {
     "name": "stdout",
     "output_type": "stream",
     "text": [
      "입학을 축하합니다. 당신의 나이는 20.0이고 현재 학기는 0학기 입니다.\n"
     ]
    }
   ],
   "source": [
    "iu= Student()"
   ]
  },
  {
   "cell_type": "code",
   "execution_count": 106,
   "id": "3e46a724-1f59-4372-9b32-cb446dd67a90",
   "metadata": {},
   "outputs": [
    {
     "data": {
      "text/html": [
       "\n",
       "        나이: 20.0 <br/>\n",
       "        학기: 0 <br/>\n",
       "        "
      ],
      "text/plain": [
       "<__main__.Student at 0x7f8c68390250>"
      ]
     },
     "execution_count": 106,
     "metadata": {},
     "output_type": "execute_result"
    }
   ],
   "source": [
    "iu"
   ]
  },
  {
   "cell_type": "code",
   "execution_count": 107,
   "id": "7ebf6ac2-0b00-4b33-b9ca-4298c02a18e5",
   "metadata": {},
   "outputs": [
    {
     "data": {
      "text/html": [
       "\n",
       "        나이: 20.5 <br/>\n",
       "        학기: 1 <br/>\n",
       "        "
      ],
      "text/plain": [
       "<__main__.Student at 0x7f8c68390250>"
      ]
     },
     "execution_count": 107,
     "metadata": {},
     "output_type": "execute_result"
    }
   ],
   "source": [
    "iu + 1 ## 1학년 1학기 등록\n",
    "iu"
   ]
  },
  {
   "cell_type": "code",
   "execution_count": 108,
   "id": "56ebe2e3-1fd9-4e11-bd36-b4e101fd8c16",
   "metadata": {},
   "outputs": [
    {
     "data": {
      "text/html": [
       "\n",
       "        나이: 21.0 <br/>\n",
       "        학기: 1 <br/>\n",
       "        "
      ],
      "text/plain": [
       "<__main__.Student at 0x7f8c68390250>"
      ]
     },
     "execution_count": 108,
     "metadata": {},
     "output_type": "execute_result"
    }
   ],
   "source": [
    "iu + 0 ## 휴학함\n",
    "iu "
   ]
  },
  {
   "cell_type": "markdown",
   "id": "505ccf18-4dc1-4daa-918e-bb82d4147966",
   "metadata": {},
   "source": [
    "`-` 연산을 연속으로 하고 싶다. "
   ]
  },
  {
   "cell_type": "code",
   "execution_count": 109,
   "id": "7c0caf3e-313f-43e7-a123-4069296d64e0",
   "metadata": {},
   "outputs": [
    {
     "ename": "TypeError",
     "evalue": "unsupported operand type(s) for +: 'NoneType' and 'int'",
     "output_type": "error",
     "traceback": [
      "\u001b[0;31m---------------------------------------------------------------------------\u001b[0m",
      "\u001b[0;31mTypeError\u001b[0m                                 Traceback (most recent call last)",
      "Input \u001b[0;32mIn [109]\u001b[0m, in \u001b[0;36m<cell line: 1>\u001b[0;34m()\u001b[0m\n\u001b[0;32m----> 1\u001b[0m \u001b[43miu\u001b[49m\u001b[43m \u001b[49m\u001b[38;5;241;43m+\u001b[39;49m\u001b[43m \u001b[49m\u001b[38;5;241;43m1\u001b[39;49m\u001b[43m \u001b[49m\u001b[38;5;241;43m+\u001b[39;49m\u001b[43m \u001b[49m\u001b[38;5;241;43m0\u001b[39;49m \u001b[38;5;241m+\u001b[39m \u001b[38;5;241m0\u001b[39m \u001b[38;5;241m+\u001b[39m \u001b[38;5;241m0\u001b[39m \u001b[38;5;241m+\u001b[39m \u001b[38;5;241m0\u001b[39m\n",
      "\u001b[0;31mTypeError\u001b[0m: unsupported operand type(s) for +: 'NoneType' and 'int'"
     ]
    }
   ],
   "source": [
    "iu + 1 + 0 + 0 + 0 + 0"
   ]
  },
  {
   "cell_type": "markdown",
   "id": "1f3bcc32-8bdc-4113-a5ac-ccc03ce02892",
   "metadata": {},
   "source": [
    "`-` 에러의 이유?"
   ]
  },
  {
   "cell_type": "markdown",
   "id": "cf18b8fb-e426-42aa-a444-fc50811d0a53",
   "metadata": {},
   "source": [
    "(되는코드)"
   ]
  },
  {
   "cell_type": "code",
   "execution_count": 110,
   "id": "c7afcba6-cd7f-49c4-829b-cb95e539d468",
   "metadata": {},
   "outputs": [
    {
     "data": {
      "text/plain": [
       "3"
      ]
     },
     "execution_count": 110,
     "metadata": {},
     "output_type": "execute_result"
    }
   ],
   "source": [
    "(1+1)+1 # 1+1+1은 이렇게 볼 수 있다"
   ]
  },
  {
   "cell_type": "code",
   "execution_count": 111,
   "id": "1093b39c-22a3-40fe-8ace-4c6f359d4b84",
   "metadata": {},
   "outputs": [
    {
     "data": {
      "text/plain": [
       "int"
      ]
     },
     "execution_count": 111,
     "metadata": {},
     "output_type": "execute_result"
    }
   ],
   "source": [
    "_a = (1+1) \n",
    "type(_a)"
   ]
  },
  {
   "cell_type": "code",
   "execution_count": 112,
   "id": "c0d6f071-b717-4b74-b517-2cd8252b6067",
   "metadata": {},
   "outputs": [
    {
     "data": {
      "text/plain": [
       "3"
      ]
     },
     "execution_count": 112,
     "metadata": {},
     "output_type": "execute_result"
    }
   ],
   "source": [
    "_a+1 # 이 연산은 int인스턴스 + int인스턴스 "
   ]
  },
  {
   "cell_type": "markdown",
   "id": "d73d6270-5ca1-48c5-8bb5-68fcb277e8a1",
   "metadata": {},
   "source": [
    "(안되는코드)"
   ]
  },
  {
   "cell_type": "code",
   "execution_count": 113,
   "id": "ba96b54a-97cf-4dab-b567-a5e61c1c6f04",
   "metadata": {},
   "outputs": [
    {
     "ename": "TypeError",
     "evalue": "unsupported operand type(s) for +: 'NoneType' and 'int'",
     "output_type": "error",
     "traceback": [
      "\u001b[0;31m---------------------------------------------------------------------------\u001b[0m",
      "\u001b[0;31mTypeError\u001b[0m                                 Traceback (most recent call last)",
      "Input \u001b[0;32mIn [113]\u001b[0m, in \u001b[0;36m<cell line: 1>\u001b[0;34m()\u001b[0m\n\u001b[0;32m----> 1\u001b[0m \u001b[43miu\u001b[49m\u001b[38;5;241;43m+\u001b[39;49m\u001b[38;5;241;43m1\u001b[39;49m\u001b[38;5;241;43m+\u001b[39;49m\u001b[38;5;241;43m1\u001b[39;49m\n",
      "\u001b[0;31mTypeError\u001b[0m: unsupported operand type(s) for +: 'NoneType' and 'int'"
     ]
    }
   ],
   "source": [
    "iu+1+1"
   ]
  },
  {
   "cell_type": "code",
   "execution_count": 114,
   "id": "bd502898-27f8-49a4-8b89-f7b81e8c1538",
   "metadata": {},
   "outputs": [
    {
     "data": {
      "text/plain": [
       "NoneType"
      ]
     },
     "execution_count": 114,
     "metadata": {},
     "output_type": "execute_result"
    }
   ],
   "source": [
    "_a=iu+1 \n",
    "type(_a)"
   ]
  },
  {
   "cell_type": "code",
   "execution_count": 115,
   "id": "f52d83e5-6f39-40a7-a8e7-6bd57053f4f6",
   "metadata": {},
   "outputs": [
    {
     "ename": "TypeError",
     "evalue": "unsupported operand type(s) for +: 'NoneType' and 'int'",
     "output_type": "error",
     "traceback": [
      "\u001b[0;31m---------------------------------------------------------------------------\u001b[0m",
      "\u001b[0;31mTypeError\u001b[0m                                 Traceback (most recent call last)",
      "Input \u001b[0;32mIn [115]\u001b[0m, in \u001b[0;36m<cell line: 1>\u001b[0;34m()\u001b[0m\n\u001b[0;32m----> 1\u001b[0m \u001b[43m_a\u001b[49m\u001b[38;5;241;43m+\u001b[39;49m\u001b[38;5;241;43m1\u001b[39;49m\n",
      "\u001b[0;31mTypeError\u001b[0m: unsupported operand type(s) for +: 'NoneType' and 'int'"
     ]
    }
   ],
   "source": [
    "_a+1 "
   ]
  },
  {
   "cell_type": "markdown",
   "id": "2634daa1-1ea2-40bf-880d-d959c8f481ac",
   "metadata": {},
   "source": [
    "`-` 에러를 해결하는 방법: iu+1의 결과로 Student클래스의 인스턴스가 리턴되면 된다. "
   ]
  },
  {
   "cell_type": "code",
   "execution_count": 125,
   "id": "d6a2b27e-8605-48f3-b2d2-54ac526e71cd",
   "metadata": {},
   "outputs": [],
   "source": [
    "class Student:\n",
    "    def __init__(self,age=20.0, semester=0): \n",
    "        self.age = age\n",
    "        self.semester = semester\n",
    "        print(\"입학을 축하합니다. 당신의 나이는 {}이고 현재 학기는 {}학기 입니다.\".format(self.age,self.semester))\n",
    "    def __add__(self,val): \n",
    "        # val == 0: 휴학 \n",
    "        # val == 1: 등록 \n",
    "        if val==0: \n",
    "            self.age=self.age+0.5\n",
    "        elif val==1:\n",
    "            self.age=self.age+0.5 \n",
    "            self.semester= self.semester+1 \n",
    "        return self\n",
    "    def _repr_html_(self):\n",
    "        html_str = \"\"\"\n",
    "        나이: {} <br/>\n",
    "        학기: {} <br/>\n",
    "        \"\"\"\n",
    "        return html_str.format(self.age,self.semester)"
   ]
  },
  {
   "cell_type": "code",
   "execution_count": 126,
   "id": "fe1a1af2-e591-4750-af5c-4dd2b933416e",
   "metadata": {},
   "outputs": [
    {
     "name": "stdout",
     "output_type": "stream",
     "text": [
      "입학을 축하합니다. 당신의 나이는 20.0이고 현재 학기는 0학기 입니다.\n"
     ]
    }
   ],
   "source": [
    "iu = Student()"
   ]
  },
  {
   "cell_type": "code",
   "execution_count": 127,
   "id": "e2a94a03-efdc-436f-9644-ebd903a03a1e",
   "metadata": {},
   "outputs": [
    {
     "data": {
      "text/html": [
       "\n",
       "        나이: 20.5 <br/>\n",
       "        학기: 1 <br/>\n",
       "        "
      ],
      "text/plain": [
       "<__main__.Student at 0x7f8c6030e940>"
      ]
     },
     "execution_count": 127,
     "metadata": {},
     "output_type": "execute_result"
    }
   ],
   "source": [
    "iu+1 # __add__의 return에 Student클래스의 인스턴스가 리턴되면서 자동으로 _repr_html_() 실행"
   ]
  },
  {
   "cell_type": "code",
   "execution_count": 128,
   "id": "22780f68-9de4-4076-b2cc-fa2951f8c2f5",
   "metadata": {},
   "outputs": [
    {
     "data": {
      "text/html": [
       "\n",
       "        나이: 23.0 <br/>\n",
       "        학기: 2 <br/>\n",
       "        "
      ],
      "text/plain": [
       "<__main__.Student at 0x7f8c6030e940>"
      ]
     },
     "execution_count": 128,
     "metadata": {},
     "output_type": "execute_result"
    }
   ],
   "source": [
    "iu+1 +0+0+0+0"
   ]
  },
  {
   "cell_type": "markdown",
   "id": "81d937a0-a71d-4c83-a1d6-4ae77e9bec53",
   "metadata": {},
   "source": [
    "### `__mul__`"
   ]
  },
  {
   "cell_type": "code",
   "execution_count": 229,
   "id": "0764ebba-de58-4765-8d98-e9dbb992e8b2",
   "metadata": {},
   "outputs": [],
   "source": [
    "class RPS: \n",
    "    def __init__(self,candidate=['가위','바위','보']):\n",
    "        self.candidate = candidate\n",
    "        self.actions = list() \n",
    "        self.results = list()\n",
    "    def __mul__(self,other):\n",
    "        self.choose()\n",
    "        other.choose()\n",
    "        if self.actions[-1]=='가위' and other.actions[-1]=='가위':\n",
    "            self.results.append(0)\n",
    "            other.results.append(0)\n",
    "        if self.actions[-1]=='가위' and other.actions[-1]=='바위':\n",
    "            self.results.append(-1)\n",
    "            other.results.append(1)\n",
    "        if self.actions[-1]=='가위' and other.actions[-1]=='보':\n",
    "            self.results.append(1)\n",
    "            other.results.append(-1)\n",
    "        if self.actions[-1]=='바위' and other.actions[-1]=='가위':\n",
    "            self.results.append(1)\n",
    "            other.results.append(-1)\n",
    "        if self.actions[-1]=='바위' and other.actions[-1]=='바위':\n",
    "            self.results.append(0)\n",
    "            other.results.append(0)\n",
    "        if self.actions[-1]=='바위' and other.actions[-1]=='보':\n",
    "            self.results.append(-1)\n",
    "            other.results.append(1)\n",
    "        if self.actions[-1]=='보' and other.actions[-1]=='가위':\n",
    "            self.results.append(-1)\n",
    "            other.results.append(1)\n",
    "        if self.actions[-1]=='보' and other.actions[-1]=='바위':\n",
    "            self.results.append(1)\n",
    "            other.results.append(-1)\n",
    "        if self.actions[-1]=='보' and other.actions[-1]=='보':\n",
    "            self.results.append(0)\n",
    "            other.results.append(0)\n",
    "    def choose(self):\n",
    "        self.actions.append(np.random.choice(self.candidate))\n",
    "    def _repr_html_(self):\n",
    "        html_str = \"\"\"\n",
    "        낼 수 있는 패: {} <br/> \n",
    "        액션: {} <br/>\n",
    "        승패: {}\n",
    "        \"\"\"\n",
    "        return html_str.format(self.candidate,self.actions,self.results)"
   ]
  },
  {
   "cell_type": "code",
   "execution_count": 230,
   "id": "a1ad190f-16e5-4d39-91c2-27ac90680f52",
   "metadata": {},
   "outputs": [],
   "source": [
    "a=RPS()\n",
    "b=RPS()"
   ]
  },
  {
   "cell_type": "code",
   "execution_count": 231,
   "id": "019ae33a-0e04-498c-87f7-11175638ccfe",
   "metadata": {},
   "outputs": [
    {
     "data": {
      "text/html": [
       "\n",
       "        낼 수 있는 패: ['가위', '바위', '보'] <br/> \n",
       "        액션: [] <br/>\n",
       "        승패: []\n",
       "        "
      ],
      "text/plain": [
       "<__main__.RPC at 0x7f8c442be280>"
      ]
     },
     "execution_count": 231,
     "metadata": {},
     "output_type": "execute_result"
    }
   ],
   "source": [
    "a"
   ]
  },
  {
   "cell_type": "code",
   "execution_count": 232,
   "id": "d4e29984-79bc-49bf-a23a-5847f8646b31",
   "metadata": {},
   "outputs": [
    {
     "data": {
      "text/html": [
       "\n",
       "        낼 수 있는 패: ['가위', '바위', '보'] <br/> \n",
       "        액션: [] <br/>\n",
       "        승패: []\n",
       "        "
      ],
      "text/plain": [
       "<__main__.RPC at 0x7f8c442be520>"
      ]
     },
     "execution_count": 232,
     "metadata": {},
     "output_type": "execute_result"
    }
   ],
   "source": [
    "b"
   ]
  },
  {
   "cell_type": "code",
   "execution_count": 233,
   "id": "5d96944f-2c2d-441e-b40c-6d15fb62e4f6",
   "metadata": {},
   "outputs": [],
   "source": [
    "a*b"
   ]
  },
  {
   "cell_type": "code",
   "execution_count": 234,
   "id": "df6d5221-ab05-47f7-9e1a-4fd6af4bb37f",
   "metadata": {},
   "outputs": [
    {
     "data": {
      "text/html": [
       "\n",
       "        낼 수 있는 패: ['가위', '바위', '보'] <br/> \n",
       "        액션: ['보'] <br/>\n",
       "        승패: [-1]\n",
       "        "
      ],
      "text/plain": [
       "<__main__.RPC at 0x7f8c442be280>"
      ]
     },
     "execution_count": 234,
     "metadata": {},
     "output_type": "execute_result"
    }
   ],
   "source": [
    "a"
   ]
  },
  {
   "cell_type": "code",
   "execution_count": 235,
   "id": "6dabab87-9ec0-4169-9608-107a5f67d03e",
   "metadata": {},
   "outputs": [
    {
     "data": {
      "text/html": [
       "\n",
       "        낼 수 있는 패: ['가위', '바위', '보'] <br/> \n",
       "        액션: ['가위'] <br/>\n",
       "        승패: [1]\n",
       "        "
      ],
      "text/plain": [
       "<__main__.RPC at 0x7f8c442be520>"
      ]
     },
     "execution_count": 235,
     "metadata": {},
     "output_type": "execute_result"
    }
   ],
   "source": [
    "b"
   ]
  },
  {
   "cell_type": "code",
   "execution_count": 236,
   "id": "0cd8a823-e35e-4f4a-bb1f-6a977b0893e8",
   "metadata": {},
   "outputs": [],
   "source": [
    "for i in range(5):\n",
    "    a*b"
   ]
  },
  {
   "cell_type": "code",
   "execution_count": 237,
   "id": "e867085a-e448-428f-bff8-7c4f4df3534e",
   "metadata": {},
   "outputs": [
    {
     "data": {
      "text/html": [
       "\n",
       "        낼 수 있는 패: ['가위', '바위', '보'] <br/> \n",
       "        액션: ['보', '가위', '바위', '바위', '가위', '보'] <br/>\n",
       "        승패: [-1, -1, 0, 1, -1, 1]\n",
       "        "
      ],
      "text/plain": [
       "<__main__.RPC at 0x7f8c442be280>"
      ]
     },
     "execution_count": 237,
     "metadata": {},
     "output_type": "execute_result"
    }
   ],
   "source": [
    "a"
   ]
  },
  {
   "cell_type": "code",
   "execution_count": 238,
   "id": "7985add7-1b89-4186-85d8-7d67b03f439c",
   "metadata": {},
   "outputs": [
    {
     "data": {
      "text/html": [
       "\n",
       "        낼 수 있는 패: ['가위', '바위', '보'] <br/> \n",
       "        액션: ['가위', '바위', '바위', '가위', '바위', '바위'] <br/>\n",
       "        승패: [1, 1, 0, -1, 1, -1]\n",
       "        "
      ],
      "text/plain": [
       "<__main__.RPC at 0x7f8c442be520>"
      ]
     },
     "execution_count": 238,
     "metadata": {},
     "output_type": "execute_result"
    }
   ],
   "source": [
    "b"
   ]
  },
  {
   "cell_type": "code",
   "execution_count": 239,
   "id": "f8bec85e-b483-42fb-9244-971bc1b19398",
   "metadata": {},
   "outputs": [],
   "source": [
    "for i in range(50000):\n",
    "    a*b"
   ]
  },
  {
   "cell_type": "code",
   "execution_count": 241,
   "id": "58f82c4b-d6a2-4a32-b8e9-ce867e9755bf",
   "metadata": {},
   "outputs": [
    {
     "data": {
      "text/plain": [
       "-0.005739311282646082"
      ]
     },
     "execution_count": 241,
     "metadata": {},
     "output_type": "execute_result"
    }
   ],
   "source": [
    "sum(a.results)/len(a.results)"
   ]
  },
  {
   "cell_type": "code",
   "execution_count": 242,
   "id": "e3999e83-060e-4f8c-8f2e-3cbb7421ed2a",
   "metadata": {},
   "outputs": [
    {
     "data": {
      "text/plain": [
       "0.005739311282646082"
      ]
     },
     "execution_count": 242,
     "metadata": {},
     "output_type": "execute_result"
    }
   ],
   "source": [
    "sum(b.results)/len(a.results)"
   ]
  },
  {
   "cell_type": "markdown",
   "id": "aa7c4b9c-c340-46cc-aac4-1a9dd189c1ac",
   "metadata": {},
   "source": [
    "## 숙제"
   ]
  },
  {
   "cell_type": "markdown",
   "id": "58363836-883f-4685-855f-c025e30598c8",
   "metadata": {},
   "source": [
    "RPS클래스에서 player a와 player b를 만들어라. Player a는 ['가위','보'] 중에 하나를 낼 수 있다. 그리고 Player b는 ['가위','바위'] 중에 하나를 낼 수 있다. 두 player는 가지고 있는 패를 (같은확률로) 랜덤으로 낸다. (즉 player a가 가위만 내거나 보만 내는 경우는 없다.)"
   ]
  },
  {
   "cell_type": "markdown",
   "id": "0d7acc3e-e2a3-489b-91ad-2480cbb20bf6",
   "metadata": {},
   "source": [
    "(1) 누가 더 유리한가? 이유를 스스로 생각해보라. (이유를 정리하여 숙제로 제출할 필요 없음) "
   ]
  },
  {
   "cell_type": "markdown",
   "id": "5ec40b69-ac85-417d-bacf-b0bbb72c0400",
   "metadata": {},
   "source": [
    "(2) 50000번의 시뮬레이션을 해보고 결과를 분석해보라. "
   ]
  }
 ],
 "metadata": {
  "kernelspec": {
   "display_name": "Python 3 (ipykernel)",
   "language": "python",
   "name": "python3"
  },
  "language_info": {
   "codemirror_mode": {
    "name": "ipython",
    "version": 3
   },
   "file_extension": ".py",
   "mimetype": "text/x-python",
   "name": "python",
   "nbconvert_exporter": "python",
   "pygments_lexer": "ipython3",
   "version": "3.7.13"
  }
 },
 "nbformat": 4,
 "nbformat_minor": 5
}
