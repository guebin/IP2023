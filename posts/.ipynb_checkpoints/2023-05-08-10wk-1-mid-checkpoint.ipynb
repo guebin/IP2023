{
 "cells": [
  {
   "cell_type": "raw",
   "id": "83739eb0-57a3-4f13-8d74-7f32500d3649",
   "metadata": {},
   "source": [
    "---\n",
    "title: \"10wk-1: 중간고사\"\n",
    "author: \"최규빈\"\n",
    "date: \"05/08/2023\"\n",
    "---"
   ]
  },
  {
   "cell_type": "markdown",
   "id": "643258d1-ff46-4258-83b7-deaa56e6a14e",
   "metadata": {},
   "source": [
    "<a href=\"https://colab.research.google.com/github/guebin/PP2023/blob/main/posts/2023-05-08-10wk-1-mid.ipynb\"><img src=\"https://colab.research.google.com/assets/colab-badge.svg\" style=\"text-align: left\"></a>"
   ]
  },
  {
   "cell_type": "markdown",
   "id": "8225e111-ed4f-458a-b3db-69b7478e39f8",
   "metadata": {},
   "source": [
    "**제출은 `*.ipynb`, `*.html`, `*.pdf` 파일로 제출할 것** \n",
    "\n",
    "- `ipynb` 파일형태제출을 권장함. "
   ]
  },
  {
   "cell_type": "markdown",
   "id": "e2dbb2b8-8301-4f7e-bb10-badd751766dc",
   "metadata": {},
   "source": [
    "# Imports "
   ]
  },
  {
   "cell_type": "code",
   "execution_count": 7,
   "id": "57a11f55-3e57-4fb5-b03d-038ef3bdcd03",
   "metadata": {},
   "outputs": [],
   "source": [
    "import pandas as pd\n",
    "import numpy as np\n",
    "import matplotlib.pyplot as plt\n",
    "import yfinance as yf\n",
    "import PIL\n",
    "import io \n",
    "import requests"
   ]
  },
  {
   "cell_type": "markdown",
   "id": "811910ca-2a10-4f9c-9447-1deea4e6f26c",
   "metadata": {},
   "source": [
    "# 1. Numpy and Pandas (35점)"
   ]
  },
  {
   "cell_type": "markdown",
   "id": "13a315b9-0d22-4ce7-a397-605c8fd34380",
   "metadata": {},
   "source": [
    "## FIFA23"
   ]
  },
  {
   "cell_type": "markdown",
   "id": "b724fb46-89d1-4650-8654-541884daf0e1",
   "metadata": {},
   "source": [
    "`(1)--(3)` 아래는 FIFA23 자료를 불러오는 코드이다. "
   ]
  },
  {
   "cell_type": "code",
   "execution_count": 8,
   "id": "59745b07-8533-47ea-ac3f-b88f893391c6",
   "metadata": {},
   "outputs": [
    {
     "data": {
      "text/html": [
       "<div>\n",
       "<style scoped>\n",
       "    .dataframe tbody tr th:only-of-type {\n",
       "        vertical-align: middle;\n",
       "    }\n",
       "\n",
       "    .dataframe tbody tr th {\n",
       "        vertical-align: top;\n",
       "    }\n",
       "\n",
       "    .dataframe thead th {\n",
       "        text-align: right;\n",
       "    }\n",
       "</style>\n",
       "<table border=\"1\" class=\"dataframe\">\n",
       "  <thead>\n",
       "    <tr style=\"text-align: right;\">\n",
       "      <th></th>\n",
       "      <th>ID</th>\n",
       "      <th>Name</th>\n",
       "      <th>Age</th>\n",
       "      <th>Photo</th>\n",
       "      <th>Nationality</th>\n",
       "      <th>Flag</th>\n",
       "      <th>Overall</th>\n",
       "      <th>Potential</th>\n",
       "      <th>Club</th>\n",
       "      <th>Club Logo</th>\n",
       "      <th>...</th>\n",
       "      <th>Work Rate</th>\n",
       "      <th>Body Type</th>\n",
       "      <th>Real Face</th>\n",
       "      <th>Position</th>\n",
       "      <th>Joined</th>\n",
       "      <th>Contract Valid Until</th>\n",
       "      <th>Height</th>\n",
       "      <th>Weight</th>\n",
       "      <th>Release Clause</th>\n",
       "      <th>Kit Number</th>\n",
       "    </tr>\n",
       "  </thead>\n",
       "  <tbody>\n",
       "    <tr>\n",
       "      <th>0</th>\n",
       "      <td>209658</td>\n",
       "      <td>L. Goretzka</td>\n",
       "      <td>27</td>\n",
       "      <td>https://cdn.sofifa.net/players/209/658/23_60.png</td>\n",
       "      <td>Germany</td>\n",
       "      <td>https://cdn.sofifa.net/flags/de.png</td>\n",
       "      <td>87</td>\n",
       "      <td>88</td>\n",
       "      <td>FC Bayern München</td>\n",
       "      <td>https://cdn.sofifa.net/teams/21/30.png</td>\n",
       "      <td>...</td>\n",
       "      <td>High/ Medium</td>\n",
       "      <td>Unique</td>\n",
       "      <td>Yes</td>\n",
       "      <td>&lt;span class=\"pos pos28\"&gt;SUB</td>\n",
       "      <td>Jul 1, 2018</td>\n",
       "      <td>2026</td>\n",
       "      <td>189cm</td>\n",
       "      <td>82kg</td>\n",
       "      <td>€157M</td>\n",
       "      <td>8.0</td>\n",
       "    </tr>\n",
       "    <tr>\n",
       "      <th>1</th>\n",
       "      <td>212198</td>\n",
       "      <td>Bruno Fernandes</td>\n",
       "      <td>27</td>\n",
       "      <td>https://cdn.sofifa.net/players/212/198/23_60.png</td>\n",
       "      <td>Portugal</td>\n",
       "      <td>https://cdn.sofifa.net/flags/pt.png</td>\n",
       "      <td>86</td>\n",
       "      <td>87</td>\n",
       "      <td>Manchester United</td>\n",
       "      <td>https://cdn.sofifa.net/teams/11/30.png</td>\n",
       "      <td>...</td>\n",
       "      <td>High/ High</td>\n",
       "      <td>Unique</td>\n",
       "      <td>Yes</td>\n",
       "      <td>&lt;span class=\"pos pos15\"&gt;LCM</td>\n",
       "      <td>Jan 30, 2020</td>\n",
       "      <td>2026</td>\n",
       "      <td>179cm</td>\n",
       "      <td>69kg</td>\n",
       "      <td>€155M</td>\n",
       "      <td>8.0</td>\n",
       "    </tr>\n",
       "    <tr>\n",
       "      <th>2</th>\n",
       "      <td>224334</td>\n",
       "      <td>M. Acuña</td>\n",
       "      <td>30</td>\n",
       "      <td>https://cdn.sofifa.net/players/224/334/23_60.png</td>\n",
       "      <td>Argentina</td>\n",
       "      <td>https://cdn.sofifa.net/flags/ar.png</td>\n",
       "      <td>85</td>\n",
       "      <td>85</td>\n",
       "      <td>Sevilla FC</td>\n",
       "      <td>https://cdn.sofifa.net/teams/481/30.png</td>\n",
       "      <td>...</td>\n",
       "      <td>High/ High</td>\n",
       "      <td>Stocky (170-185)</td>\n",
       "      <td>No</td>\n",
       "      <td>&lt;span class=\"pos pos7\"&gt;LB</td>\n",
       "      <td>Sep 14, 2020</td>\n",
       "      <td>2024</td>\n",
       "      <td>172cm</td>\n",
       "      <td>69kg</td>\n",
       "      <td>€97.7M</td>\n",
       "      <td>19.0</td>\n",
       "    </tr>\n",
       "    <tr>\n",
       "      <th>3</th>\n",
       "      <td>192985</td>\n",
       "      <td>K. De Bruyne</td>\n",
       "      <td>31</td>\n",
       "      <td>https://cdn.sofifa.net/players/192/985/23_60.png</td>\n",
       "      <td>Belgium</td>\n",
       "      <td>https://cdn.sofifa.net/flags/be.png</td>\n",
       "      <td>91</td>\n",
       "      <td>91</td>\n",
       "      <td>Manchester City</td>\n",
       "      <td>https://cdn.sofifa.net/teams/10/30.png</td>\n",
       "      <td>...</td>\n",
       "      <td>High/ High</td>\n",
       "      <td>Unique</td>\n",
       "      <td>Yes</td>\n",
       "      <td>&lt;span class=\"pos pos13\"&gt;RCM</td>\n",
       "      <td>Aug 30, 2015</td>\n",
       "      <td>2025</td>\n",
       "      <td>181cm</td>\n",
       "      <td>70kg</td>\n",
       "      <td>€198.9M</td>\n",
       "      <td>17.0</td>\n",
       "    </tr>\n",
       "    <tr>\n",
       "      <th>4</th>\n",
       "      <td>224232</td>\n",
       "      <td>N. Barella</td>\n",
       "      <td>25</td>\n",
       "      <td>https://cdn.sofifa.net/players/224/232/23_60.png</td>\n",
       "      <td>Italy</td>\n",
       "      <td>https://cdn.sofifa.net/flags/it.png</td>\n",
       "      <td>86</td>\n",
       "      <td>89</td>\n",
       "      <td>Inter</td>\n",
       "      <td>https://cdn.sofifa.net/teams/44/30.png</td>\n",
       "      <td>...</td>\n",
       "      <td>High/ High</td>\n",
       "      <td>Normal (170-)</td>\n",
       "      <td>Yes</td>\n",
       "      <td>&lt;span class=\"pos pos13\"&gt;RCM</td>\n",
       "      <td>Sep 1, 2020</td>\n",
       "      <td>2026</td>\n",
       "      <td>172cm</td>\n",
       "      <td>68kg</td>\n",
       "      <td>€154.4M</td>\n",
       "      <td>23.0</td>\n",
       "    </tr>\n",
       "  </tbody>\n",
       "</table>\n",
       "<p>5 rows × 27 columns</p>\n",
       "</div>"
      ],
      "text/plain": [
       "       ID             Name  Age   \n",
       "0  209658      L. Goretzka   27  \\\n",
       "1  212198  Bruno Fernandes   27   \n",
       "2  224334         M. Acuña   30   \n",
       "3  192985     K. De Bruyne   31   \n",
       "4  224232       N. Barella   25   \n",
       "\n",
       "                                              Photo Nationality   \n",
       "0  https://cdn.sofifa.net/players/209/658/23_60.png     Germany  \\\n",
       "1  https://cdn.sofifa.net/players/212/198/23_60.png    Portugal   \n",
       "2  https://cdn.sofifa.net/players/224/334/23_60.png   Argentina   \n",
       "3  https://cdn.sofifa.net/players/192/985/23_60.png     Belgium   \n",
       "4  https://cdn.sofifa.net/players/224/232/23_60.png       Italy   \n",
       "\n",
       "                                  Flag  Overall  Potential               Club   \n",
       "0  https://cdn.sofifa.net/flags/de.png       87         88  FC Bayern München  \\\n",
       "1  https://cdn.sofifa.net/flags/pt.png       86         87  Manchester United   \n",
       "2  https://cdn.sofifa.net/flags/ar.png       85         85         Sevilla FC   \n",
       "3  https://cdn.sofifa.net/flags/be.png       91         91    Manchester City   \n",
       "4  https://cdn.sofifa.net/flags/it.png       86         89              Inter   \n",
       "\n",
       "                                 Club Logo  ...     Work Rate   \n",
       "0   https://cdn.sofifa.net/teams/21/30.png  ...  High/ Medium  \\\n",
       "1   https://cdn.sofifa.net/teams/11/30.png  ...    High/ High   \n",
       "2  https://cdn.sofifa.net/teams/481/30.png  ...    High/ High   \n",
       "3   https://cdn.sofifa.net/teams/10/30.png  ...    High/ High   \n",
       "4   https://cdn.sofifa.net/teams/44/30.png  ...    High/ High   \n",
       "\n",
       "          Body Type  Real Face                     Position        Joined   \n",
       "0            Unique        Yes  <span class=\"pos pos28\">SUB   Jul 1, 2018  \\\n",
       "1            Unique        Yes  <span class=\"pos pos15\">LCM  Jan 30, 2020   \n",
       "2  Stocky (170-185)         No    <span class=\"pos pos7\">LB  Sep 14, 2020   \n",
       "3            Unique        Yes  <span class=\"pos pos13\">RCM  Aug 30, 2015   \n",
       "4     Normal (170-)        Yes  <span class=\"pos pos13\">RCM   Sep 1, 2020   \n",
       "\n",
       "   Contract Valid Until  Height Weight Release Clause Kit Number  \n",
       "0                  2026   189cm   82kg          €157M        8.0  \n",
       "1                  2026   179cm   69kg          €155M        8.0  \n",
       "2                  2024   172cm   69kg         €97.7M       19.0  \n",
       "3                  2025   181cm   70kg        €198.9M       17.0  \n",
       "4                  2026   172cm   68kg        €154.4M       23.0  \n",
       "\n",
       "[5 rows x 27 columns]"
      ]
     },
     "execution_count": 8,
     "metadata": {},
     "output_type": "execute_result"
    }
   ],
   "source": [
    "df=pd.read_csv('https://raw.githubusercontent.com/guebin/DV2022/master/posts/FIFA23_official_data.csv').drop(columns=['Loaned From', 'Best Overall Rating']).dropna().reset_index(drop=True)\n",
    "df.head()"
   ]
  },
  {
   "cell_type": "markdown",
   "id": "7ae73f4c-a747-4680-877f-67f8f619565c",
   "metadata": {},
   "source": [
    "`(1)` 공백이 포함된 column이름이 총 몇개인지 count하는 코드를 작성하라."
   ]
  },
  {
   "cell_type": "markdown",
   "id": "9331804e-9135-417a-bf06-ae6da46614a2",
   "metadata": {},
   "source": [
    "**hint** 모두 11개의 column name에 공백이 포함되어있음 "
   ]
  },
  {
   "cell_type": "markdown",
   "id": "ac3e91d1-cb44-4ec9-bd53-090ea78ba92d",
   "metadata": {},
   "source": [
    "`(풀이)`"
   ]
  },
  {
   "cell_type": "code",
   "execution_count": 9,
   "id": "d563d4d0-100a-40a7-8bbb-06e346f7b95b",
   "metadata": {},
   "outputs": [
    {
     "data": {
      "text/plain": [
       "11"
      ]
     },
     "execution_count": 9,
     "metadata": {},
     "output_type": "execute_result"
    }
   ],
   "source": [
    "sum([' ' in name for name in df.columns])"
   ]
  },
  {
   "cell_type": "markdown",
   "id": "edeb20ae-59d0-40ab-ab4f-adf610ac6e5c",
   "metadata": {},
   "source": [
    "`(2)` column name에 공백이 포함된 열을 출력하라. "
   ]
  },
  {
   "cell_type": "markdown",
   "id": "bf169db1-0475-4b5f-a8f1-edc45a1428c5",
   "metadata": {},
   "source": [
    "`(풀이)`"
   ]
  },
  {
   "cell_type": "code",
   "execution_count": 10,
   "id": "88490ceb-420a-4224-b39a-f9601a158ed9",
   "metadata": {},
   "outputs": [
    {
     "data": {
      "text/html": [
       "<div>\n",
       "<style scoped>\n",
       "    .dataframe tbody tr th:only-of-type {\n",
       "        vertical-align: middle;\n",
       "    }\n",
       "\n",
       "    .dataframe tbody tr th {\n",
       "        vertical-align: top;\n",
       "    }\n",
       "\n",
       "    .dataframe thead th {\n",
       "        text-align: right;\n",
       "    }\n",
       "</style>\n",
       "<table border=\"1\" class=\"dataframe\">\n",
       "  <thead>\n",
       "    <tr style=\"text-align: right;\">\n",
       "      <th></th>\n",
       "      <th>Club Logo</th>\n",
       "      <th>Preferred Foot</th>\n",
       "      <th>International Reputation</th>\n",
       "      <th>Weak Foot</th>\n",
       "      <th>Skill Moves</th>\n",
       "      <th>Work Rate</th>\n",
       "      <th>Body Type</th>\n",
       "      <th>Real Face</th>\n",
       "      <th>Contract Valid Until</th>\n",
       "      <th>Release Clause</th>\n",
       "      <th>Kit Number</th>\n",
       "    </tr>\n",
       "  </thead>\n",
       "  <tbody>\n",
       "    <tr>\n",
       "      <th>0</th>\n",
       "      <td>https://cdn.sofifa.net/teams/21/30.png</td>\n",
       "      <td>Right</td>\n",
       "      <td>4.0</td>\n",
       "      <td>4.0</td>\n",
       "      <td>3.0</td>\n",
       "      <td>High/ Medium</td>\n",
       "      <td>Unique</td>\n",
       "      <td>Yes</td>\n",
       "      <td>2026</td>\n",
       "      <td>€157M</td>\n",
       "      <td>8.0</td>\n",
       "    </tr>\n",
       "    <tr>\n",
       "      <th>1</th>\n",
       "      <td>https://cdn.sofifa.net/teams/11/30.png</td>\n",
       "      <td>Right</td>\n",
       "      <td>3.0</td>\n",
       "      <td>3.0</td>\n",
       "      <td>4.0</td>\n",
       "      <td>High/ High</td>\n",
       "      <td>Unique</td>\n",
       "      <td>Yes</td>\n",
       "      <td>2026</td>\n",
       "      <td>€155M</td>\n",
       "      <td>8.0</td>\n",
       "    </tr>\n",
       "    <tr>\n",
       "      <th>2</th>\n",
       "      <td>https://cdn.sofifa.net/teams/481/30.png</td>\n",
       "      <td>Left</td>\n",
       "      <td>2.0</td>\n",
       "      <td>3.0</td>\n",
       "      <td>3.0</td>\n",
       "      <td>High/ High</td>\n",
       "      <td>Stocky (170-185)</td>\n",
       "      <td>No</td>\n",
       "      <td>2024</td>\n",
       "      <td>€97.7M</td>\n",
       "      <td>19.0</td>\n",
       "    </tr>\n",
       "    <tr>\n",
       "      <th>3</th>\n",
       "      <td>https://cdn.sofifa.net/teams/10/30.png</td>\n",
       "      <td>Right</td>\n",
       "      <td>4.0</td>\n",
       "      <td>5.0</td>\n",
       "      <td>4.0</td>\n",
       "      <td>High/ High</td>\n",
       "      <td>Unique</td>\n",
       "      <td>Yes</td>\n",
       "      <td>2025</td>\n",
       "      <td>€198.9M</td>\n",
       "      <td>17.0</td>\n",
       "    </tr>\n",
       "    <tr>\n",
       "      <th>4</th>\n",
       "      <td>https://cdn.sofifa.net/teams/44/30.png</td>\n",
       "      <td>Right</td>\n",
       "      <td>3.0</td>\n",
       "      <td>3.0</td>\n",
       "      <td>3.0</td>\n",
       "      <td>High/ High</td>\n",
       "      <td>Normal (170-)</td>\n",
       "      <td>Yes</td>\n",
       "      <td>2026</td>\n",
       "      <td>€154.4M</td>\n",
       "      <td>23.0</td>\n",
       "    </tr>\n",
       "    <tr>\n",
       "      <th>...</th>\n",
       "      <td>...</td>\n",
       "      <td>...</td>\n",
       "      <td>...</td>\n",
       "      <td>...</td>\n",
       "      <td>...</td>\n",
       "      <td>...</td>\n",
       "      <td>...</td>\n",
       "      <td>...</td>\n",
       "      <td>...</td>\n",
       "      <td>...</td>\n",
       "      <td>...</td>\n",
       "    </tr>\n",
       "    <tr>\n",
       "      <th>16359</th>\n",
       "      <td>https://cdn.sofifa.net/teams/114628/30.png</td>\n",
       "      <td>Right</td>\n",
       "      <td>1.0</td>\n",
       "      <td>3.0</td>\n",
       "      <td>1.0</td>\n",
       "      <td>Medium/ Medium</td>\n",
       "      <td>Normal (185+)</td>\n",
       "      <td>No</td>\n",
       "      <td>2027</td>\n",
       "      <td>€218K</td>\n",
       "      <td>35.0</td>\n",
       "    </tr>\n",
       "    <tr>\n",
       "      <th>16360</th>\n",
       "      <td>https://cdn.sofifa.net/teams/1478/30.png</td>\n",
       "      <td>Right</td>\n",
       "      <td>1.0</td>\n",
       "      <td>2.0</td>\n",
       "      <td>1.0</td>\n",
       "      <td>Medium/ Medium</td>\n",
       "      <td>Lean (185+)</td>\n",
       "      <td>No</td>\n",
       "      <td>2026</td>\n",
       "      <td>€188K</td>\n",
       "      <td>21.0</td>\n",
       "    </tr>\n",
       "    <tr>\n",
       "      <th>16361</th>\n",
       "      <td>https://cdn.sofifa.net/teams/113796/30.png</td>\n",
       "      <td>Right</td>\n",
       "      <td>1.0</td>\n",
       "      <td>2.0</td>\n",
       "      <td>1.0</td>\n",
       "      <td>Medium/ Medium</td>\n",
       "      <td>Lean (185+)</td>\n",
       "      <td>No</td>\n",
       "      <td>2023</td>\n",
       "      <td>€142K</td>\n",
       "      <td>12.0</td>\n",
       "    </tr>\n",
       "    <tr>\n",
       "      <th>16362</th>\n",
       "      <td>https://cdn.sofifa.net/teams/112260/30.png</td>\n",
       "      <td>Right</td>\n",
       "      <td>1.0</td>\n",
       "      <td>2.0</td>\n",
       "      <td>1.0</td>\n",
       "      <td>Medium/ Medium</td>\n",
       "      <td>Normal (185+)</td>\n",
       "      <td>No</td>\n",
       "      <td>2021</td>\n",
       "      <td>€214K</td>\n",
       "      <td>40.0</td>\n",
       "    </tr>\n",
       "    <tr>\n",
       "      <th>16363</th>\n",
       "      <td>https://cdn.sofifa.net/teams/702/30.png</td>\n",
       "      <td>Left</td>\n",
       "      <td>1.0</td>\n",
       "      <td>2.0</td>\n",
       "      <td>1.0</td>\n",
       "      <td>Medium/ Medium</td>\n",
       "      <td>Normal (185+)</td>\n",
       "      <td>No</td>\n",
       "      <td>2021</td>\n",
       "      <td>€131K</td>\n",
       "      <td>30.0</td>\n",
       "    </tr>\n",
       "  </tbody>\n",
       "</table>\n",
       "<p>16364 rows × 11 columns</p>\n",
       "</div>"
      ],
      "text/plain": [
       "                                        Club Logo Preferred Foot   \n",
       "0          https://cdn.sofifa.net/teams/21/30.png          Right  \\\n",
       "1          https://cdn.sofifa.net/teams/11/30.png          Right   \n",
       "2         https://cdn.sofifa.net/teams/481/30.png           Left   \n",
       "3          https://cdn.sofifa.net/teams/10/30.png          Right   \n",
       "4          https://cdn.sofifa.net/teams/44/30.png          Right   \n",
       "...                                           ...            ...   \n",
       "16359  https://cdn.sofifa.net/teams/114628/30.png          Right   \n",
       "16360    https://cdn.sofifa.net/teams/1478/30.png          Right   \n",
       "16361  https://cdn.sofifa.net/teams/113796/30.png          Right   \n",
       "16362  https://cdn.sofifa.net/teams/112260/30.png          Right   \n",
       "16363     https://cdn.sofifa.net/teams/702/30.png           Left   \n",
       "\n",
       "       International Reputation  Weak Foot  Skill Moves       Work Rate   \n",
       "0                           4.0        4.0          3.0    High/ Medium  \\\n",
       "1                           3.0        3.0          4.0      High/ High   \n",
       "2                           2.0        3.0          3.0      High/ High   \n",
       "3                           4.0        5.0          4.0      High/ High   \n",
       "4                           3.0        3.0          3.0      High/ High   \n",
       "...                         ...        ...          ...             ...   \n",
       "16359                       1.0        3.0          1.0  Medium/ Medium   \n",
       "16360                       1.0        2.0          1.0  Medium/ Medium   \n",
       "16361                       1.0        2.0          1.0  Medium/ Medium   \n",
       "16362                       1.0        2.0          1.0  Medium/ Medium   \n",
       "16363                       1.0        2.0          1.0  Medium/ Medium   \n",
       "\n",
       "              Body Type Real Face Contract Valid Until Release Clause   \n",
       "0                Unique       Yes                 2026          €157M  \\\n",
       "1                Unique       Yes                 2026          €155M   \n",
       "2      Stocky (170-185)        No                 2024         €97.7M   \n",
       "3                Unique       Yes                 2025        €198.9M   \n",
       "4         Normal (170-)       Yes                 2026        €154.4M   \n",
       "...                 ...       ...                  ...            ...   \n",
       "16359     Normal (185+)        No                 2027          €218K   \n",
       "16360       Lean (185+)        No                 2026          €188K   \n",
       "16361       Lean (185+)        No                 2023          €142K   \n",
       "16362     Normal (185+)        No                 2021          €214K   \n",
       "16363     Normal (185+)        No                 2021          €131K   \n",
       "\n",
       "       Kit Number  \n",
       "0             8.0  \n",
       "1             8.0  \n",
       "2            19.0  \n",
       "3            17.0  \n",
       "4            23.0  \n",
       "...           ...  \n",
       "16359        35.0  \n",
       "16360        21.0  \n",
       "16361        12.0  \n",
       "16362        40.0  \n",
       "16363        30.0  \n",
       "\n",
       "[16364 rows x 11 columns]"
      ]
     },
     "execution_count": 10,
     "metadata": {},
     "output_type": "execute_result"
    }
   ],
   "source": [
    "df.loc[:,[' ' in name for name in df.columns]]"
   ]
  },
  {
   "cell_type": "markdown",
   "id": "cde759c5-e1d7-4985-b842-2f40fa84dea1",
   "metadata": {
    "tags": []
   },
   "source": [
    "`(3)` 데이터프레임을 올바르게 해석한 사람을 모두 고르시오 (모두 맞출경우만 정답으로 인정)\n",
    "\n",
    "- 세민: 데이터프레임에는 모두 27개의 열이 있다. \n",
    "- 성재: 한국선수(`Nationality==Korea Republic`)와 일본선수(`Nationality==Japan`)의 `Overall`의 평균값은 일본이 더 높다. \n",
    "- 민정: 총 159개의 나라선수들이 포함되어 있다. \n",
    "- 슬기: 선수들의 연령이 25세이상(>=)인 선수들은 그렇지 않은 선수들보다 평균적으로 키(`Height`)가크다. "
   ]
  },
  {
   "cell_type": "markdown",
   "id": "6b0027d3-772f-4e4c-a26a-88130420ca2d",
   "metadata": {},
   "source": [
    "`(풀이)`"
   ]
  },
  {
   "cell_type": "markdown",
   "id": "b966b011-94c8-4468-b9b5-d7024b9cbd64",
   "metadata": {},
   "source": [
    "**세민**: 데이터프레임에는 모두 27개의 열이 있다 -> True"
   ]
  },
  {
   "cell_type": "code",
   "execution_count": 11,
   "id": "f6b78e34-6e14-4532-b64b-39c53e4c8615",
   "metadata": {},
   "outputs": [
    {
     "data": {
      "text/plain": [
       "True"
      ]
     },
     "execution_count": 11,
     "metadata": {},
     "output_type": "execute_result"
    }
   ],
   "source": [
    "len(df.columns) == 27"
   ]
  },
  {
   "cell_type": "markdown",
   "id": "5586693c-44b6-4a78-9bb9-6ec8868a68c1",
   "metadata": {},
   "source": [
    "**성재**:  한국선수(Nationality==Korea Republic)와 일본선수(Nationality==Japan)의 Overall의 평균값은 일본이 더 높다. -> True"
   ]
  },
  {
   "cell_type": "code",
   "execution_count": 12,
   "id": "94e2ff81-7044-43d8-b2cc-478c9ada91bb",
   "metadata": {},
   "outputs": [
    {
     "data": {
      "text/plain": [
       "True"
      ]
     },
     "execution_count": 12,
     "metadata": {},
     "output_type": "execute_result"
    }
   ],
   "source": [
    "df.query('Nationality == \"Korea Republic\"').Overall.mean() < df.query('Nationality == \"Japan\"').Overall.mean()"
   ]
  },
  {
   "cell_type": "markdown",
   "id": "0bea7a7c-c9a4-455e-b2b7-32ac1f2566e4",
   "metadata": {},
   "source": [
    "**민정**: 총 159개의 나라선수들이 포함되어 있다. -> True"
   ]
  },
  {
   "cell_type": "code",
   "execution_count": 13,
   "id": "8016e847-1752-4e13-8ee4-3f5e6b4e350d",
   "metadata": {},
   "outputs": [
    {
     "data": {
      "text/plain": [
       "True"
      ]
     },
     "execution_count": 13,
     "metadata": {},
     "output_type": "execute_result"
    }
   ],
   "source": [
    "len(set(df.Nationality))==159"
   ]
  },
  {
   "cell_type": "markdown",
   "id": "231e18ee-50b3-4e02-b06a-3de4c5d25ef2",
   "metadata": {},
   "source": [
    "**슬기**: 선수들의 연령이 25세이상(>=)인 선수들은 그렇지 않은 선수들보다 평균적으로 키(`Height`)가크다. -> True"
   ]
  },
  {
   "cell_type": "code",
   "execution_count": 14,
   "id": "d6f2925d-0862-46e8-b017-315b61ce05ec",
   "metadata": {},
   "outputs": [
    {
     "data": {
      "text/plain": [
       "True"
      ]
     },
     "execution_count": 14,
     "metadata": {},
     "output_type": "execute_result"
    }
   ],
   "source": [
    "_old = np.mean([int(height[:3]) for height in df.query('Age>=25').Height.tolist()]) \n",
    "_young =  np.mean([int(height[:3]) for height in df.query('Age<25').Height.tolist()]) \n",
    "_old > _young"
   ]
  },
  {
   "cell_type": "markdown",
   "id": "84df44b5-89e1-4002-9c62-62f38498bbdb",
   "metadata": {},
   "source": [
    "## 삼성전자의 주가 "
   ]
  },
  {
   "cell_type": "markdown",
   "id": "9f3d5631-b876-4100-9a68-9f2d06a7bebc",
   "metadata": {},
   "source": [
    "`(4)--(5)` 다음은 삼성전자의 주가를 크롤링하는 코드이다. "
   ]
  },
  {
   "cell_type": "code",
   "execution_count": 16,
   "id": "ac8f0da9-e17e-45ed-9d34-afa3ca784df3",
   "metadata": {},
   "outputs": [
    {
     "name": "stdout",
     "output_type": "stream",
     "text": [
      "[*********************100%***********************]  1 of 1 completed\n"
     ]
    }
   ],
   "source": [
    "start_date = \"2023-01-01\"\n",
    "end_date = \"2023-05-02\"\n",
    "y = yf.download(\"005930.KS\", start=start_date, end=end_date)['Adj Close'].to_numpy()"
   ]
  },
  {
   "cell_type": "markdown",
   "id": "79f9c7f0-c146-4e9f-b62f-90691dd113dd",
   "metadata": {},
   "source": [
    "삼성전자의 주가 ${\\boldsymbol y}$를 시각화하면 아래와 같다. "
   ]
  },
  {
   "cell_type": "code",
   "execution_count": 17,
   "id": "3c45a2bd-6684-4493-86ba-6da6de2b674f",
   "metadata": {},
   "outputs": [
    {
     "data": {
      "text/plain": [
       "[<matplotlib.lines.Line2D at 0x7f6efc1d4ac0>]"
      ]
     },
     "execution_count": 17,
     "metadata": {},
     "output_type": "execute_result"
    },
    {
     "data": {
      "image/png": "[encoded data removed]",
      "text/plain": [
       "<Figure size 432x288 with 1 Axes>"
      ]
     },
     "metadata": {
      "needs_background": "light"
     },
     "output_type": "display_data"
    }
   ],
   "source": [
    "plt.plot(y)"
   ]
  },
  {
   "cell_type": "markdown",
   "id": "ae8bd18e-75ba-484b-a832-a97fbcfbca00",
   "metadata": {},
   "source": [
    "`(4)` 아래와 같은 변환을 이용하여 ${\\boldsymbol y}$를 $\\tilde {\\boldsymbol y}$로 변환하고 결과를 시각화하라. "
   ]
  },
  {
   "cell_type": "markdown",
   "id": "5e999e22-ce0a-4ef0-8a2a-e7f8de76772b",
   "metadata": {},
   "source": [
    "- $\\tilde{y}_1= \\frac{1}{4}(3y_1 + y_2)$\n",
    "- $\\tilde{y}_i= \\frac{1}{4}(y_{i-1}+2y_i+y_{i+1})$, for $i=2,3,\\dots,n-1$ \n",
    "- $\\tilde{y}_n= \\frac{1}{4}(y_{n-1}+3y_{n})$"
   ]
  },
  {
   "cell_type": "markdown",
   "id": "ea417be6-4225-4773-b8da-da8ab0276b1c",
   "metadata": {},
   "source": [
    "**hint**: 아래의 코드를 관찰 "
   ]
  },
  {
   "cell_type": "code",
   "execution_count": 18,
   "id": "f7f724a2-4374-48f4-9f29-fe6925c492d2",
   "metadata": {},
   "outputs": [
    {
     "data": {
      "text/plain": [
       "array([[2., 1., 0., 0.],\n",
       "       [1., 2., 1., 0.],\n",
       "       [0., 1., 2., 1.],\n",
       "       [0., 0., 1., 2.]])"
      ]
     },
     "execution_count": 18,
     "metadata": {},
     "output_type": "execute_result"
    }
   ],
   "source": [
    "np.eye(4) + np.array([abs(i-j)<2 for i in range(4) for j in range(4)]).reshape(4,4) "
   ]
  },
  {
   "cell_type": "markdown",
   "id": "770104b0-1671-4ced-8a61-04229a277c6a",
   "metadata": {},
   "source": [
    "`(풀이)`"
   ]
  },
  {
   "cell_type": "code",
   "execution_count": 19,
   "id": "dc45c446-b9d2-43c2-abe1-6e3b1858cc23",
   "metadata": {},
   "outputs": [
    {
     "data": {
      "text/plain": [
       "<matplotlib.legend.Legend at 0x7f6efc12bb80>"
      ]
     },
     "execution_count": 19,
     "metadata": {},
     "output_type": "execute_result"
    },
    {
     "data": {
      "image/png": "[encoded data removed]",
      "text/plain": [
       "<Figure size 432x288 with 1 Axes>"
      ]
     },
     "metadata": {
      "needs_background": "light"
     },
     "output_type": "display_data"
    }
   ],
   "source": [
    "T = len(y)\n",
    "M = (np.eye(T) + np.array([abs(i-j)<2 for i in range(T) for j in range(T)]).reshape(T,T))/4\n",
    "M[0,0] = 3/4; M[-1,-1]= 3/4 \n",
    "plt.plot(y,label=r'$y$')\n",
    "plt.plot(M@y,'--',label=r'$M@y$')\n",
    "plt.legend()"
   ]
  },
  {
   "cell_type": "markdown",
   "id": "a96a6958-8901-4639-b916-858932bc8c95",
   "metadata": {},
   "source": [
    "`(5)` `(4)`의 변환을 50회 반복적용하고 결과를 시각화하라. "
   ]
  },
  {
   "cell_type": "code",
   "execution_count": 20,
   "id": "6ee43144-cb63-41b9-8dbd-9d0bf0dd54bc",
   "metadata": {},
   "outputs": [
    {
     "data": {
      "text/plain": [
       "<matplotlib.legend.Legend at 0x7f6efc6694f0>"
      ]
     },
     "execution_count": 20,
     "metadata": {},
     "output_type": "execute_result"
    },
    {
     "data": {
      "image/png": "[encoded data removed]",
      "text/plain": [
       "<Figure size 432x288 with 1 Axes>"
      ]
     },
     "metadata": {
      "needs_background": "light"
     },
     "output_type": "display_data"
    }
   ],
   "source": [
    "plt.plot(y,label=r'$y$')\n",
    "plt.plot(np.linalg.matrix_power(M,50)@y,'--',label=r'$M^{50}@y$')\n",
    "plt.legend()"
   ]
  },
  {
   "cell_type": "markdown",
   "id": "c5c40cd1-c8e8-43c0-bdcc-0cb4eef40bfc",
   "metadata": {},
   "source": [
    "## 회귀모형 "
   ]
  },
  {
   "cell_type": "markdown",
   "id": "6e135e0c-b479-4879-8fe1-bfc73f4a0989",
   "metadata": {},
   "source": [
    "`(6)--(7)` $(x_i,y_i)$가 아래와 같이 주어졌다고 가정하자. "
   ]
  },
  {
   "cell_type": "code",
   "execution_count": 21,
   "id": "ebd83cce-1ef4-4cd6-a0a1-e060734a99bf",
   "metadata": {},
   "outputs": [],
   "source": [
    "x =  np.array([0.00983, 0.01098, 0.02951, 0.0384 , 0.03973, 0.04178, 0.0533 ,\n",
    "               0.058  , 0.09454, 0.1103 , 0.1328 , 0.1412 , 0.1497 , 0.1664 ,\n",
    "               0.1906 , 0.1923 , 0.198  , 0.2141 , 0.2393 , 0.2433 , 0.3157 ,\n",
    "               0.3228 , 0.3418 , 0.3552 , 0.3918 , 0.3962 , 0.4    , 0.4482 ,\n",
    "               0.496  , 0.507  , 0.53   , 0.5654 , 0.582  , 0.5854 , 0.5854 ,\n",
    "               0.6606 , 0.7007 , 0.723  , 0.7305 , 0.7383 , 0.7656 , 0.7725 ,\n",
    "               0.831  , 0.8896 , 0.9053 , 0.914  , 0.949  , 0.952  , 0.9727 ,\n",
    "               0.982  ])\n",
    "y =  np.array([0.7381, 0.7043, 0.3937, 0.1365, 0.3784, 0.3028, 0.1037, 0.3846,\n",
    "               0.706 , 0.7572, 0.2421, 0.232 , 0.9855, 1.162 , 0.4653, 0.6791,\n",
    "               0.6905, 0.6865, 0.9757, 0.7665, 0.9522, 0.4641, 0.5498, 1.1509,\n",
    "               0.5288, 1.1195, 1.1659, 1.4341, 1.2779, 1.1648, 1.4002, 0.7472,\n",
    "               0.9142, 0.9658, 1.0707, 1.4501, 1.6758, 0.8778, 1.3384, 0.7476,\n",
    "               1.3086, 1.7537, 1.5559, 1.2928, 1.3832, 1.3115, 1.3382, 1.536 ,           \n",
    "               1.9177, 1.2069])"
   ]
  },
  {
   "cell_type": "code",
   "execution_count": 22,
   "id": "bcbdbb67-f82f-429e-8818-d6ae04f20ea5",
   "metadata": {},
   "outputs": [
    {
     "data": {
      "text/plain": [
       "[<matplotlib.lines.Line2D at 0x7f6efc008b50>]"
      ]
     },
     "execution_count": 22,
     "metadata": {},
     "output_type": "execute_result"
    },
    {
     "data": {
      "image/png": "[encoded data removed]",
      "text/plain": [
       "<Figure size 432x288 with 1 Axes>"
      ]
     },
     "metadata": {
      "needs_background": "light"
     },
     "output_type": "display_data"
    }
   ],
   "source": [
    "plt.plot(x,y,'o')"
   ]
  },
  {
   "cell_type": "markdown",
   "id": "06216e0d-55bf-47d7-a8ce-2497fe022057",
   "metadata": {},
   "source": [
    "`6`. 아래의 수식을 이용하여 적절한 추세선 $\\hat{y}_i= \\hat{\\beta}_0 +\\hat{\\beta}_1 x_i$를 구하고 시각화하라. "
   ]
  },
  {
   "cell_type": "markdown",
   "id": "ddf1b2db-1de9-4a01-a816-71520377b4f3",
   "metadata": {},
   "source": [
    "$$\\begin{bmatrix} \\hat{\\beta}_0 \\\\ \\hat{\\beta}_1 \\end{bmatrix} = ({\\bf X}^T {\\bf X})^{-1}{\\bf X}^T {\\boldsymbol y}, \\quad {\\bf X}=\\begin{bmatrix} 1 & x_1 \\\\ 1 & x_2 \\\\ \\dots \\\\ 1 & x_n \\end{bmatrix}$$ "
   ]
  },
  {
   "cell_type": "markdown",
   "id": "6c250ff9-c497-4f93-891b-40f9d62ed3f8",
   "metadata": {},
   "source": [
    "(풀이)"
   ]
  },
  {
   "cell_type": "code",
   "execution_count": 27,
   "id": "fa401e25-41dd-40ad-8375-a6755ca5f734",
   "metadata": {},
   "outputs": [
    {
     "data": {
      "text/plain": [
       "[<matplotlib.lines.Line2D at 0x7f6efb1a7880>]"
      ]
     },
     "execution_count": 27,
     "metadata": {},
     "output_type": "execute_result"
    },
    {
     "data": {
      "image/png": "[encoded data removed]",
      "text/plain": [
       "<Figure size 432x288 with 1 Axes>"
      ]
     },
     "metadata": {
      "needs_background": "light"
     },
     "output_type": "display_data"
    }
   ],
   "source": [
    "n = len(x)\n",
    "X = np.stack([np.ones(n),x],axis=1)\n",
    "b,a = np.linalg.inv(X.T@X)@X.T@y \n",
    "yhat = b+a*x \n",
    "plt.plot(x,y,'o')\n",
    "plt.plot(x,yhat,'--')"
   ]
  },
  {
   "cell_type": "markdown",
   "id": "be8952a5-7fc6-4827-b99d-b1997c584f6e",
   "metadata": {},
   "source": [
    "`7`. $\\frac{1}{n}\\sum_{i=1}^{n}(y_i-\\hat{y}_i)^2$을 계산하라. "
   ]
  },
  {
   "cell_type": "markdown",
   "id": "b540ba97-dd8a-4221-a1d1-39b3e9629c29",
   "metadata": {},
   "source": [
    "`(풀이)`"
   ]
  },
  {
   "cell_type": "code",
   "execution_count": 31,
   "id": "a03f7393-7261-4934-9c2b-992cc896e2ed",
   "metadata": {},
   "outputs": [
    {
     "data": {
      "text/plain": [
       "0.07602899763337416"
      ]
     },
     "execution_count": 31,
     "metadata": {},
     "output_type": "execute_result"
    }
   ],
   "source": [
    "np.mean((y-yhat)**2)"
   ]
  },
  {
   "cell_type": "markdown",
   "id": "222e4963-90da-4db4-b580-ab1539418f7b",
   "metadata": {},
   "source": [
    "# 2. fashion MNIST data (60점)"
   ]
  },
  {
   "cell_type": "markdown",
   "id": "e6c3d16e-f352-4e12-9fed-0ac2619a4dc5",
   "metadata": {},
   "source": [
    "아래는 9가지의 의류이미지가 저장된 이미지데이터를 불러오는 코드이다. "
   ]
  },
  {
   "cell_type": "code",
   "execution_count": 32,
   "id": "7dc4f14c-0b68-4fc6-8617-ae782da323c3",
   "metadata": {},
   "outputs": [],
   "source": [
    "df_train=pd.read_csv('https://media.githubusercontent.com/media/guebin/PP2023/main/posts/fashion-mnist_train.csv')\n",
    "df_test=pd.read_csv('https://media.githubusercontent.com/media/guebin/PP2023/main/posts/fashion-mnist_test.csv')"
   ]
  },
  {
   "cell_type": "code",
   "execution_count": 33,
   "id": "fce74000-08c4-462d-acd8-70e821df0f48",
   "metadata": {},
   "outputs": [],
   "source": [
    "def rshp(row):\n",
    "    return row.reshape(28,28)"
   ]
  },
  {
   "cell_type": "code",
   "execution_count": 34,
   "id": "084d6540-4f85-4817-9043-33406de63270",
   "metadata": {},
   "outputs": [],
   "source": [
    "xtrain = np.apply_along_axis(rshp,axis=1,arr=np.array(df_train.iloc[:,1:]))\n",
    "xtest  = np.apply_along_axis(rshp,axis=1,arr=np.array(df_test.iloc[:,1:]))\n",
    "ytrain = np.array(df_train.label)\n",
    "ytest  = np.array(df_test.label)"
   ]
  },
  {
   "cell_type": "markdown",
   "id": "8377738e-c306-45d0-a464-81ac1b3eceed",
   "metadata": {},
   "source": [
    "아래는 데이터에 대한 설명이다. \n",
    "\n",
    "- 전체의 이미지의 수는 70000개이며, 60000개의 이미지 ${\\tt xtrain}$에 10000개의 이미지는 ${\\tt xtest}$에 저장되어 있다. \n",
    "- 이미지에 대한 라벨은 각각 ${\\tt ytrain}$과 $\\tt ytest$에 저장되어 있다. 따라서 $\\tt ytrain$에는 60000개의 이미지에 해당하는 라벨이, $\\tt ytest$에는 10000개의 이미지에 해당하는 라벨이 기록되어 있다. \n",
    "- 보통 분석에서는 60000개의 이미지를 가지고 라벨을 맞추는 \"훈련\"을 하고 (${\\tt xtrain}$을 이용하여 ${\\tt ytrain}$을 맞추는 방법을 학습하고), 그러한 훈련이 잘 되었는지 10000개의 이미지를 이용하여 \"테스트\"한다. \n",
    "- 위와 같은 의미로 $({\\tt xtrain}, {\\tt ytrain})$ 을 training data set, $({\\tt xtest},{\\tt ytest})$ 를 test data set 이라고 부른다. (ref: [위키참고](https://en.wikipedia.org/wiki/Training,_validation,_and_test_data_sets))"
   ]
  },
  {
   "cell_type": "markdown",
   "id": "8c5733e6-900e-471a-b1d0-acd85bf6fec8",
   "metadata": {},
   "source": [
    "아래는 이미지자료와 시각화에 대한 설명이다. \n",
    "\n",
    "- 각 이미지는 (28,28) 픽셀의 흑백이미지이다. 따라서 각 이미지는 (28,28,3) 이 아니라 (28,28) 의 shape을 가진 텐서로 구성되어있다. \n",
    "- 흑백이미지를 시각화 하기 위해서는 `plt.imshow(img, cmap='gray')`를 이용한다. 여기에서 ${\\tt img}$은 임의의 2차원 텐서이며 이 예제의 경우 (28,28)의 shape을 가진다. "
   ]
  },
  {
   "cell_type": "markdown",
   "id": "52fa47ed-426a-44c2-bb36-f05154696b43",
   "metadata": {},
   "source": [
    "아래는 ${\\tt xtrain}$의 두번째 이미지, 즉 ${\\tt xtrain[1,:,:]}$를 확인하는 코드의 예시이다. "
   ]
  },
  {
   "cell_type": "code",
   "execution_count": 35,
   "id": "c0adfcce-30b0-4b0d-a8e7-cf1f5928103f",
   "metadata": {},
   "outputs": [
    {
     "data": {
      "text/plain": [
       "<matplotlib.image.AxesImage at 0x7f6efb174730>"
      ]
     },
     "execution_count": 35,
     "metadata": {},
     "output_type": "execute_result"
    },
    {
     "data": {
      "image/png": "[encoded data removed]",
      "text/plain": [
       "<Figure size 432x288 with 1 Axes>"
      ]
     },
     "metadata": {
      "needs_background": "light"
     },
     "output_type": "display_data"
    }
   ],
   "source": [
    "# plt.imshow(xtrain[1,:,:],cmap='gray')\n",
    "plt.imshow(xtrain[1],cmap='gray') ## 같은코드임"
   ]
  },
  {
   "cell_type": "markdown",
   "id": "abeeb94f-5a64-4f8a-9e9f-2a9089e8419a",
   "metadata": {},
   "source": [
    "이 이미지에 대한 label은 ${\\tt ytrain[1]}$의 값으로 확인가능하다. "
   ]
  },
  {
   "cell_type": "code",
   "execution_count": 36,
   "id": "b5a3bad7-c9c1-479d-85b9-2e6c802ddfee",
   "metadata": {},
   "outputs": [
    {
     "data": {
      "text/plain": [
       "9"
      ]
     },
     "execution_count": 36,
     "metadata": {},
     "output_type": "execute_result"
    }
   ],
   "source": [
    "ytrain[1]"
   ]
  },
  {
   "cell_type": "markdown",
   "id": "57f236ce-bf5a-415a-8e3c-a54f52d545ef",
   "metadata": {},
   "source": [
    "이미지와 라벨을 한번에 표현하는 코드는 아래와 같이 작성가능하다. "
   ]
  },
  {
   "cell_type": "code",
   "execution_count": 37,
   "id": "0c116c43-1ed7-4421-80a5-94f940211821",
   "metadata": {},
   "outputs": [
    {
     "data": {
      "image/png": "[encoded data removed]",
      "text/plain": [
       "<Figure size 432x288 with 1 Axes>"
      ]
     },
     "metadata": {
      "needs_background": "light"
     },
     "output_type": "display_data"
    }
   ],
   "source": [
    "plt.imshow(xtrain[1],cmap='gray')\n",
    "plt.title('label={}'.format(ytrain[1]));"
   ]
  },
  {
   "cell_type": "markdown",
   "id": "5d3fbe66-61fa-4d42-81d2-18ca7cab94fd",
   "metadata": {},
   "source": [
    "여기에서 9가 의미하는 것은 'Ankel boot'이며, 다른 숫자가 의미하는 것은 각각 아래와 같다. "
   ]
  },
  {
   "cell_type": "code",
   "execution_count": 38,
   "id": "2e6f9679-cb03-4e19-871c-93fd5cb46ef6",
   "metadata": {},
   "outputs": [],
   "source": [
    "labels= {0:'T-shirt/top', \n",
    "         1:'Trouser', \n",
    "         2:'Pullover', \n",
    "         3:'Dress', \n",
    "         4:'Coat', \n",
    "         5:'Sandal', \n",
    "         6:'Shirt', \n",
    "         7:'Sneaker', \n",
    "         8:'Bag', \n",
    "         9:'Ankel boot'} "
   ]
  },
  {
   "cell_type": "markdown",
   "id": "86a37d0a-7e4e-4845-8623-4eb7719c2b39",
   "metadata": {},
   "source": [
    "아래는 ${\\tt xtrain}$의 처음 10개의 이미지를 라벨과 함께 출력하는 코드이다. "
   ]
  },
  {
   "cell_type": "code",
   "execution_count": 39,
   "id": "30c5af65-e6a8-46a6-aa37-21521761ae84",
   "metadata": {},
   "outputs": [
    {
     "data": {
      "image/png": "[encoded data removed]",
      "text/plain": [
       "<Figure size 720x360 with 10 Axes>"
      ]
     },
     "metadata": {
      "needs_background": "light"
     },
     "output_type": "display_data"
    }
   ],
   "source": [
    "fig, ax = plt.subplots(2,5,figsize=(10,5))\n",
    "\n",
    "ax[0][0].imshow(xtrain[0],cmap='gray'); ax[0][0].set_title('label={}'.format(labels[ytest[0]]));\n",
    "ax[0][1].imshow(xtrain[1],cmap='gray'); ax[0][1].set_title('label={}'.format(labels[ytest[1]]));\n",
    "ax[0][2].imshow(xtrain[2],cmap='gray'); ax[0][2].set_title('label={}'.format(labels[ytest[2]]));\n",
    "ax[0][3].imshow(xtrain[3],cmap='gray'); ax[0][3].set_title('label={}'.format(labels[ytest[3]]));\n",
    "ax[0][4].imshow(xtrain[4],cmap='gray'); ax[0][4].set_title('label={}'.format(labels[ytest[4]]));\n",
    "\n",
    "ax[1][0].imshow(xtrain[5],cmap='gray'); ax[1][0].set_title('label={}'.format(labels[ytest[5]]));\n",
    "ax[1][1].imshow(xtrain[6],cmap='gray'); ax[1][1].set_title('label={}'.format(labels[ytest[6]]));\n",
    "ax[1][2].imshow(xtrain[7],cmap='gray'); ax[1][2].set_title('label={}'.format(labels[ytest[7]]));\n",
    "ax[1][3].imshow(xtrain[8],cmap='gray'); ax[1][3].set_title('label={}'.format(labels[ytest[8]]));\n",
    "ax[1][4].imshow(xtrain[9],cmap='gray'); ax[1][4].set_title('label={}'.format(labels[ytest[9]]));\n",
    "\n",
    "fig.tight_layout()"
   ]
  },
  {
   "cell_type": "markdown",
   "id": "e7662409-20a9-4296-bd38-393093fe5531",
   "metadata": {},
   "source": [
    "---"
   ]
  },
  {
   "cell_type": "markdown",
   "id": "c1593fba-d7c3-4673-a509-7c16bf3f3f81",
   "metadata": {},
   "source": [
    "`(1)` ${\\tt xtrain}$에서 각 라벨에 대한 평균이미지를 계산하고 계산결과를 ${\\tt imgmean}$에 길이가 10인 `list`로 저장하라. 즉 ${\\tt imgmean}$은 아래와 같은 자료구조를 가지고 있어야 한다. \n",
    "\n",
    "- ${\\tt imgmean}=\\big[{\\tt imgmean[0]},\\dots, {\\tt imgmean[9]}\\big]$ \n",
    "- ${\\tt imgmean[0]}, \\dots, {\\tt imgmean[9]}$ 는 각각 (28,28)의 shape을 가진 numpy array \n",
    "- ${\\tt imgmean[0]}, \\dots, {\\tt imgmean[9]}$ 는 각각 숫자 0,1, ..., 9의 평균이미지를 의미"
   ]
  },
  {
   "cell_type": "markdown",
   "id": "ff1c007e-bc92-4f2c-87a6-3f91b9b37529",
   "metadata": {},
   "source": [
    "${\\tt imgmean[0]},\\dots, {\\tt imgmean[9]}$를 시각화 하라."
   ]
  },
  {
   "cell_type": "markdown",
   "id": "05860c0c-5f10-4f15-8d9e-02d6f39b0103",
   "metadata": {},
   "source": [
    "`(풀이)`"
   ]
  },
  {
   "cell_type": "code",
   "execution_count": 40,
   "id": "21b7a672-aadc-4e0f-9172-ab00e833e1a1",
   "metadata": {},
   "outputs": [
    {
     "data": {
      "image/png": "[encoded data removed]",
      "text/plain": [
       "<Figure size 720x360 with 10 Axes>"
      ]
     },
     "metadata": {
      "needs_background": "light"
     },
     "output_type": "display_data"
    }
   ],
   "source": [
    "imgmean = [xtrain[ytrain==i].mean(axis=0) for i in range(10)] \n",
    "\n",
    "fig, ax = plt.subplots(2,5,figsize=(10,5))\n",
    "ax[0][0].imshow(imgmean[0],cmap='gray'); ax[0][0].set_title('label={}'.format(labels[0]));\n",
    "ax[0][1].imshow(imgmean[1],cmap='gray'); ax[0][1].set_title('label={}'.format(labels[1]));\n",
    "ax[0][2].imshow(imgmean[2],cmap='gray'); ax[0][2].set_title('label={}'.format(labels[2]));\n",
    "ax[0][3].imshow(imgmean[3],cmap='gray'); ax[0][3].set_title('label={}'.format(labels[3]));\n",
    "ax[0][4].imshow(imgmean[4],cmap='gray'); ax[0][4].set_title('label={}'.format(labels[4]));\n",
    "ax[1][0].imshow(imgmean[5],cmap='gray'); ax[1][0].set_title('label={}'.format(labels[5]));\n",
    "ax[1][1].imshow(imgmean[6],cmap='gray'); ax[1][1].set_title('label={}'.format(labels[6]));\n",
    "ax[1][2].imshow(imgmean[7],cmap='gray'); ax[1][2].set_title('label={}'.format(labels[7]));\n",
    "ax[1][3].imshow(imgmean[8],cmap='gray'); ax[1][3].set_title('label={}'.format(labels[8]));\n",
    "ax[1][4].imshow(imgmean[9],cmap='gray'); ax[1][4].set_title('label={}'.format(labels[9]));\n",
    "fig.tight_layout()"
   ]
  },
  {
   "cell_type": "markdown",
   "id": "deab9375-8f8a-4c16-8281-d81458c3fbc0",
   "metadata": {},
   "source": [
    "`(2)` 아래와 같은 numpy array 를 생성하라. \n",
    "\n",
    "$${\\tt loss}= \n",
    "\\begin{bmatrix} \n",
    "{\\tt loss[0,0]} & \\dots & {\\tt loss[0,9]} \\\\ \n",
    "{\\tt loss[1,0]} & \\dots & {\\tt loss[1,9]} \\\\ \n",
    "\\dots & \\dots &  \\dots \\\\ \n",
    "{\\tt loss[59999,0]}& \\dots &{\\tt loss[59999,9]} \\\\ \n",
    "\\end{bmatrix}$$\n",
    "\n",
    "여기에서 \n",
    "\n",
    "$${\\tt loss[i,j]} = \\frac{1}{28\\times 28} \\sum_{p=0}^{27}\\sum_{q=0}^{27}\\big({\\tt xtrain[i,p,q]}-{\\tt imgmean[j][p,q]}\\big)^2$$\n",
    "\n",
    "이다. 이제 ${\\tt loss}$에서 \"최소값을 가지는 원소의 인덱스를 출력\"하는 함수를 행별로 적용해 이미지를 분류하라. 예를들어 모든 $j=0,1,\\dots,9$ 에 대하여 아래를 계산한 결과 \n",
    "\n",
    "$$\\frac{1}{28\\times 28} \\sum_{p=0}^{27}\\sum_{q=0}^{27}\\big({\\tt xtrain[1,p,q]}-{\\tt imgmean[j][p,q]}\\big)^2$$\n",
    "\n",
    "$j=9$일 경우 그 값이 가장 작다면 ${\\tt xtrain[1]}$ 이미지는 9번으로 분류한다. 분류한 결과와 실제 라벨 ${\\tt ytrain}$을 비교하라. 얼마나 많은 결과가 일치하는지 비율을 계산하라. "
   ]
  },
  {
   "cell_type": "markdown",
   "id": "bdb53f2e-a362-4f07-bcb5-551487bf55cd",
   "metadata": {},
   "source": [
    "`(풀이)`"
   ]
  },
  {
   "cell_type": "code",
   "execution_count": 41,
   "id": "70e15fa0-1c83-40f3-8c9a-3e833712c2f9",
   "metadata": {},
   "outputs": [
    {
     "data": {
      "text/plain": [
       "0.6850666666666667"
      ]
     },
     "execution_count": 41,
     "metadata": {},
     "output_type": "execute_result"
    }
   ],
   "source": [
    "training_loss = np.array([[np.mean((xtrain[j,:,:]- imgmean[i])**2) for i in range(10)] for j in range(60000)])\n",
    "ytrain_hat = training_loss.argmin(axis=1)\n",
    "np.mean(ytrain_hat == ytrain)"
   ]
  },
  {
   "cell_type": "markdown",
   "id": "591e565b-a4a5-4eb5-bfc9-14cea06d1e1e",
   "metadata": {},
   "source": [
    "`(3)` ${\\tt xtrain}$에서 학습한 평균이미지 ${\\tt imgmean}$를 바탕으로 ${\\tt xtest}$의 1번라벨에 해당하는 이미지만을 분류하라. 아래의 물음에 답하라. \n",
    "\n",
    "- 1번라벨에 해당하는 이미지를 0번라벨로 분류한 경우는 모두 몇건인가? (잘못된 분류) \n",
    "- 1번라벨에 해당하는 이미지를 1번라벨로 분류한 경우는 모두 몇건인가? (올바른 분류)\n",
    "- $\\dots$\n",
    "- 1번라벨에 해당하는 이미지를 9번라벨로 분류한 경우는 모두 몇건인가? (잘못된 분류)"
   ]
  },
  {
   "cell_type": "markdown",
   "id": "faf225f5-dcc5-49dc-a4e0-4d80a1d79da9",
   "metadata": {},
   "source": [
    "**hint**: 아래와 같은 결과를 주는 dictionary를 만들면 된다. \n",
    "\n",
    "```\n",
    "{0: 28, 1: 895, 2: 11, 3: 36, 4: 8, 5: 12, 6: 10, 7: 0, 8: 0, 9: 0}\n",
    "```\n",
    "\n",
    "- 1번라벨에 해당하는 이미지를 0번라벨로 분류한 경우는 모두 28건\n",
    "- 1번라벨에 해당하는 이미지를 1번라벨로 분류한 경우는 모두 895건\n",
    "- $\\dots$\n",
    "- 1번라벨에 해당하는 이미지를 9번라벨로 분류한 경우는 모두 0건 \n"
   ]
  },
  {
   "cell_type": "markdown",
   "id": "cac9e421-49c3-44f3-aefa-35e9adc411a6",
   "metadata": {},
   "source": [
    "`(풀이)`"
   ]
  },
  {
   "cell_type": "code",
   "execution_count": 42,
   "id": "c58047f6-250d-4796-8c27-a927bd2679ba",
   "metadata": {},
   "outputs": [
    {
     "data": {
      "text/plain": [
       "{0: 28, 1: 895, 2: 11, 3: 36, 4: 8, 5: 12, 6: 10, 7: 0, 8: 0, 9: 0}"
      ]
     },
     "execution_count": 42,
     "metadata": {},
     "output_type": "execute_result"
    }
   ],
   "source": [
    "test_loss = np.array([[np.mean((xtest[j,:,:]- imgmean[i])**2) for i in range(10)] for j in range(10000)])\n",
    "ytest_hat = test_loss.argmin(axis=1)\n",
    "{j: ytest_hat[ytest==1].tolist().count(j) for j in range(10)}"
   ]
  },
  {
   "cell_type": "markdown",
   "id": "44cb4361-2dd4-4679-89bb-8e2a6798adce",
   "metadata": {},
   "source": [
    "`(4)` ${\\tt xtest}$의 이미지를 올바르게 분류한 비율을 카테고리별로 정리하라. "
   ]
  },
  {
   "cell_type": "markdown",
   "id": "89c0b852-5773-40e4-9784-695cb1af9fb5",
   "metadata": {},
   "source": [
    "`(풀이)`"
   ]
  },
  {
   "cell_type": "code",
   "execution_count": 43,
   "id": "809aa45a-3741-4435-a7d4-6d3a77ad2725",
   "metadata": {},
   "outputs": [
    {
     "data": {
      "text/plain": [
       "{'T-shirt/top': 0.7,\n",
       " 'Trouser': 0.895,\n",
       " 'Pullover': 0.496,\n",
       " 'Dress': 0.802,\n",
       " 'Coat': 0.599,\n",
       " 'Sandal': 0.757,\n",
       " 'Shirt': 0.202,\n",
       " 'Sneaker': 0.794,\n",
       " 'Bag': 0.761,\n",
       " 'Ankel boot': 0.851}"
      ]
     },
     "execution_count": 43,
     "metadata": {},
     "output_type": "execute_result"
    }
   ],
   "source": [
    "{labels[j]:ytest_hat[ytest==j].tolist().count(j)/sum(ytest==j) for j in range(10)}"
   ]
  },
  {
   "cell_type": "markdown",
   "id": "70f7cb79-ad4a-4bc0-8b92-d9595a6b7993",
   "metadata": {},
   "source": [
    "# 3. 파이썬의 설치 (5점)\n",
    "\n",
    "다음을 읽고 파이썬과 가상환경에 대하여 올바른 진술을 한 사람을 모두 골라라. (모두 맞출 경우만 정답으로 인정함) \n",
    "\n",
    "**민정**: 구글코랩은 사용자의 컴퓨터에 설치된 아나콘다를 기반으로 동작하며, 실제적으로는 사용자의 ipython과 크롬과의 통신만을 담당한다. 따라서 구글코랩은 반드시 파이썬만 연결하여 사용가능하지 않으며 실제로 구글코랩에 R을 연결하여 사용하기도 한다. \n",
    "\n",
    "**구환**: 아래와 같이 스크립트로 구성된 `mysum.py`와 같은 파이썬파일을 실행하기 위해서는 반드시 ipython 이나 주피터랩이 설치된 상태이어야 한다. \n",
    "\n",
    "```Python\n",
    "## mysum.py\n",
    "total = 0 \n",
    "for i in range(1,11): \n",
    "    total = total + i\n",
    "print(total)\n",
    "```\n",
    "\n",
    "**슬기**: 아나콘다를 이용하여 가상환경을 만들 경우 두 가지버전 이상의 python을 동시에 관리할 수 있다. \n",
    "\n",
    "**승민**: 아래와 같이 `myfuns.py` 파일을 구성하였다고 하자. \n",
    "\n",
    "```Python\n",
    "# myfuns.py\n",
    "def vec2_add(a,b): \n",
    "    return [a[0]+b[0], a[1]+b[1]]\n",
    "```\n",
    "\n",
    "이 경우 아래와 같이 임의의 주피터 노트북에서 `myfuns`를 임포트하면 `vec2_add` 함수를 사용할 수 있다. \n",
    "\n",
    "```Python\n",
    "import myfuns\n",
    "```\n",
    "\n",
    "단, 여기에서 `myfuns.py`는 현재 실행중인 노트북과 같은 폴더에 있다고 가정한다. "
   ]
  },
  {
   "cell_type": "markdown",
   "id": "e93b93fa-9c3e-4937-b2a9-51577bb01fdb",
   "metadata": {},
   "source": [
    "`(풀이)` 슬기, 승민\n",
    "\n",
    "- 민정: 코랩은 사용자의 컴퓨터에 설치된 아나콘다를 기반으로 동작하며 (X) \n",
    "- 구환: 반드시 ipython 이나 주피터랩이 설치된 상태이어야 한다. (X) "
   ]
  },
  {
   "cell_type": "markdown",
   "id": "5c3ebd52-9b0d-498b-bdf2-41c3674a3258",
   "metadata": {},
   "source": [
    "---"
   ]
  },
  {
   "cell_type": "markdown",
   "id": "77b29c4b-8837-4526-8da7-56a5a1ba5f12",
   "metadata": {},
   "source": [
    "# 4. 삼성전자의 주가 추가문제 (30점)"
   ]
  },
  {
   "cell_type": "markdown",
   "id": "5b2c9186-fd38-446e-86ff-f9c631e45618",
   "metadata": {},
   "source": [
    "다음은 삼성전자의 주가를 크롤링하는 코드이다. "
   ]
  },
  {
   "cell_type": "code",
   "execution_count": 231,
   "id": "b41ff245-9cb3-455c-849f-c0cd860ee686",
   "metadata": {},
   "outputs": [
    {
     "name": "stdout",
     "output_type": "stream",
     "text": [
      "[*********************100%***********************]  1 of 1 completed\n"
     ]
    }
   ],
   "source": [
    "start_date = \"2023-01-01\"\n",
    "end_date = \"2023-05-02\"\n",
    "y = yf.download(\"005930.KS\", start=start_date, end=end_date)['Adj Close'].to_numpy()"
   ]
  },
  {
   "cell_type": "markdown",
   "id": "a618fc46-5fcf-4bce-82a0-9098ebd07ddc",
   "metadata": {},
   "source": [
    "삼성전자의 주가 ${\\boldsymbol y}$를 시각화하면 아래와 같다. "
   ]
  },
  {
   "cell_type": "code",
   "execution_count": 232,
   "id": "8223019c-07a8-44e0-8cfa-f4d795e92e03",
   "metadata": {},
   "outputs": [
    {
     "data": {
      "text/plain": [
       "[<matplotlib.lines.Line2D at 0x7f6ebbb004f0>]"
      ]
     },
     "execution_count": 232,
     "metadata": {},
     "output_type": "execute_result"
    },
    {
     "data": {
      "image/png": "[encoded data removed]",
      "text/plain": [
       "<Figure size 432x288 with 1 Axes>"
      ]
     },
     "metadata": {
      "needs_background": "light"
     },
     "output_type": "display_data"
    }
   ],
   "source": [
    "plt.plot(y)"
   ]
  },
  {
   "cell_type": "markdown",
   "id": "b6946d15-9195-46ac-8f92-a842a1381c5c",
   "metadata": {},
   "source": [
    "`(1)` 아래와 같은 ${\\bf x}$를 설정하라. \n",
    "\n",
    "$${\\bf x}=(x_1,x_2,\\dots,x_n)=\\big(\\frac{1}{n},\\frac{2}{n},\\dots,1\\big)$$\n",
    "\n",
    "${\\bf x}=(x_1,\\dots,x_n)$을 바탕으로 아래와 같은 매트릭스 ${\\bf X}$를 생성하라. 단, $n={\\tt len}({\\boldsymbol y})$."
   ]
  },
  {
   "cell_type": "markdown",
   "id": "23edba91-e609-4517-893a-260e97d77ffe",
   "metadata": {},
   "source": [
    "$${\\bf X}=\\begin{bmatrix} 1 & x_1 \\\\ 1 & x_2\\\\ \\dots & \\dots \\\\ 1 & x_n \\end{bmatrix}$$ "
   ]
  },
  {
   "cell_type": "code",
   "execution_count": 233,
   "id": "ef4005d8-ce01-4355-b7f7-45f4ddc4e9de",
   "metadata": {},
   "outputs": [],
   "source": [
    "x = np.arange(1,83)/82\n",
    "X = np.stack([x**k for k in range(2)],axis=1)"
   ]
  },
  {
   "cell_type": "markdown",
   "id": "546c472e-e2cb-44a2-9151-add356355423",
   "metadata": {},
   "source": [
    "`(2)` `(1)`에서 계산된 ${\\bf X}$에 대하여 아래를 계산하라. \n",
    "\n",
    "$$\\hat{\\bf y}= {\\bf X}({\\bf X}^T {\\bf X})^{-1}{\\bf X}^T {\\bf y}$$"
   ]
  },
  {
   "cell_type": "markdown",
   "id": "f56e3fe3-041f-42d5-919e-60281fd33a96",
   "metadata": {},
   "source": [
    "$(x_i,y_i)$와 $(x_i,\\hat{y}_i)$을 겹쳐서 시각화하라. 단, $\\hat{\\bf y}=(\\hat{y}_1,\\dots,\\hat{y}_n)$. "
   ]
  },
  {
   "cell_type": "markdown",
   "id": "4a4e2f04-bf7c-4734-9df3-f61950dcdd40",
   "metadata": {},
   "source": [
    "**hint:** 계산의 편의를 위하여 ${\\bf y}$와 $\\hat{\\bf y}$은 모두 $n\\times 1$ col-vector가 아닌 길이가 $n$인 벡터로 해석해도 무방하다. "
   ]
  },
  {
   "cell_type": "markdown",
   "id": "756e9c7e-87c3-4daf-a633-8902a0271beb",
   "metadata": {},
   "source": [
    "**hint**: ${\\bf X}$를 아래와 같이 해석해도 무방하다. "
   ]
  },
  {
   "cell_type": "markdown",
   "id": "e1e5fe3f-aa36-462a-bdd0-91aa484fe0d9",
   "metadata": {},
   "source": [
    "$${\\bf X}=\\begin{bmatrix} x_1^0 & x_1^1 \\\\ x_2^0 & x_2^1\\\\ \\dots & \\dots \\\\ x_n^0 & x_n^1 \\end{bmatrix}$$ "
   ]
  },
  {
   "cell_type": "markdown",
   "id": "8ef56c88-1c84-4741-9205-8a556f982090",
   "metadata": {},
   "source": [
    "`(풀이)`"
   ]
  },
  {
   "cell_type": "code",
   "execution_count": 235,
   "id": "22cd565e-253e-40c4-beea-593d8ba601f6",
   "metadata": {},
   "outputs": [
    {
     "data": {
      "text/plain": [
       "<matplotlib.legend.Legend at 0x7f6ebb83c700>"
      ]
     },
     "execution_count": 235,
     "metadata": {},
     "output_type": "execute_result"
    },
    {
     "data": {
      "image/png": "[encoded data removed]",
      "text/plain": [
       "<Figure size 432x288 with 1 Axes>"
      ]
     },
     "metadata": {
      "needs_background": "light"
     },
     "output_type": "display_data"
    }
   ],
   "source": [
    "yhat= X@np.linalg.inv(X.T@ X)@ X.T @ y\n",
    "plt.plot(x,y, label=r'$(x_i,y_i)$')\n",
    "plt.plot(x,yhat,'--',label=r'$(x_i,\\hat{y}_i)$')\n",
    "plt.legend()"
   ]
  },
  {
   "cell_type": "markdown",
   "id": "3c844060-63b9-4e7c-a846-711f3a89da61",
   "metadata": {},
   "source": [
    "`3`. 아래와 같이 ${\\bf X}$를 수정하라. "
   ]
  },
  {
   "cell_type": "markdown",
   "id": "e0b81af3-a1fd-485d-a4aa-d00ec092af4f",
   "metadata": {},
   "source": [
    "$${\\bf X}=\\begin{bmatrix} 1 & x_1 & x_1^2 & x_1^3 & \\dots & x_1^{10} \\\\ 1 & x_2 & x_2^2 & x_2^3 & \\dots & x_2^{10} \\\\ \\dots & \\dots & \\dots & \\dots & \\dots & \\dots \\\\ 1 & x_n & x_n^2 & x_n^3 & \\dots & x_n^{10} \\end{bmatrix}$$ "
   ]
  },
  {
   "cell_type": "markdown",
   "id": "dbcb90b4-706d-45a2-8da6-8cabffbb9da5",
   "metadata": {},
   "source": [
    "수정된 ${\\bf X}$에 대하여 아래의 수식으로 $\\hat{\\bf y}$을 구하라. "
   ]
  },
  {
   "cell_type": "markdown",
   "id": "a2863b91-a5e9-47f9-8f3c-eb7b2a4840fe",
   "metadata": {},
   "source": [
    "$$\\hat{\\bf y}= {\\bf X}({\\bf X}^T {\\bf X})^{-1}{\\bf X}^T {\\bf y}$$"
   ]
  },
  {
   "cell_type": "markdown",
   "id": "a2f97f72-95de-495f-b4a7-755cf0095702",
   "metadata": {},
   "source": [
    "$(x_i,y_i)$와 $(x_i,\\hat{y}_i)$을 겹쳐서 시각화하라. 단, $\\hat{\\bf y}=(\\hat{y}_1,\\dots,\\hat{y}_n)$. "
   ]
  },
  {
   "cell_type": "markdown",
   "id": "20c89ba6-fdb0-4ce0-8e22-2df74807482a",
   "metadata": {},
   "source": [
    "`(풀이)`"
   ]
  },
  {
   "cell_type": "code",
   "execution_count": 244,
   "id": "f0efce4b-ae50-4ed1-8389-7507915459fa",
   "metadata": {},
   "outputs": [
    {
     "data": {
      "text/plain": [
       "<matplotlib.legend.Legend at 0x7f6ebb7cd370>"
      ]
     },
     "execution_count": 244,
     "metadata": {},
     "output_type": "execute_result"
    },
    {
     "data": {
      "image/png": "[encoded data removed]",
      "text/plain": [
       "<Figure size 432x288 with 1 Axes>"
      ]
     },
     "metadata": {
      "needs_background": "light"
     },
     "output_type": "display_data"
    }
   ],
   "source": [
    "X = np.stack([x**k for k in range(11)],axis=1)\n",
    "plt.plot(x,y, label=r'$(x_i,y_i)$')\n",
    "plt.plot(x, X@np.linalg.inv(X.T@ X)@ X.T @ y,'--',label=r'$(x_i,\\hat{y}_i)$')\n",
    "plt.legend()"
   ]
  },
  {
   "cell_type": "markdown",
   "id": "6b71719f-ef81-4b14-ae3f-48c9cbd52208",
   "metadata": {},
   "source": [
    "# 5. fashin MNIST data 추가문제 (30점)"
   ]
  },
  {
   "cell_type": "markdown",
   "id": "b4e7c812-c548-43a9-95fc-e0b066462cab",
   "metadata": {},
   "source": [
    "이 문제는 2번문항의 추가문항입니다. "
   ]
  },
  {
   "cell_type": "code",
   "execution_count": 53,
   "id": "424153c1-03e3-4dcb-b567-b3f0c799b513",
   "metadata": {},
   "outputs": [],
   "source": [
    "# read data \n",
    "df_train=pd.read_csv('https://media.githubusercontent.com/media/guebin/PP2023/main/posts/fashion-mnist_train.csv')\n",
    "df_test=pd.read_csv('https://media.githubusercontent.com/media/guebin/PP2023/main/posts/fashion-mnist_test.csv')\n",
    "\n",
    "# rshp 함수정의 \n",
    "def rshp(row):\n",
    "    return row.reshape(28,28)\n",
    "\n",
    "# cleaning data \n",
    "xtrain = np.apply_along_axis(rshp,axis=1,arr=np.array(df_train.iloc[:,1:]))\n",
    "xtest  = np.apply_along_axis(rshp,axis=1,arr=np.array(df_test.iloc[:,1:]))\n",
    "ytrain = np.array(df_train.label)\n",
    "ytest  = np.array(df_test.label)"
   ]
  },
  {
   "cell_type": "markdown",
   "id": "e4321024-757b-48a0-83a4-795edf893e17",
   "metadata": {},
   "source": [
    "`(1)` ${\\tt xtrain}$에서 각 라벨에 대한 평균이미지를 계산하고 계산결과를 ${\\tt imgmean}$에 길이가 10인 `list`로 저장하라. 즉 ${\\tt imgmean}$은 아래와 같은 자료구조를 가지고 있어야 한다. \n",
    "\n",
    "- ${\\tt imgmean}=\\big[{\\tt imgmean[0]},\\dots, {\\tt imgmean[9]}\\big]$ \n",
    "- ${\\tt imgmean[0]}, \\dots, {\\tt imgmean[9]}$ 는 각각 (28,28)의 shape을 가진 numpy array \n",
    "- ${\\tt imgmean[0]}, \\dots, {\\tt imgmean[9]}$ 는 각각 숫자 0,1, ..., 9의 평균이미지를 의미"
   ]
  },
  {
   "cell_type": "markdown",
   "id": "43a34cd8-791e-438e-b915-562236e08017",
   "metadata": {},
   "source": [
    "모든 $i=0,\\dots,9$에 대하여 아래를 계산하고 \n",
    "\n",
    "$${\\tt dist}[i] = \\frac{1}{28\\times 28} \\sum_{p=0}^{27}\\sum_{q=0}^{27}\\big({\\tt imgmean}[2][p,q]-{\\tt imgmean}[i][p,q]\\big)^2$$"
   ]
  },
  {
   "cell_type": "markdown",
   "id": "510183de-afda-4859-bf11-49916e1e4996",
   "metadata": {},
   "source": [
    "${\\tt dist}[i]$의 값이 가장 작은 $i$를 찾아라. 단 ${\\tt dist}[i]=0$ 인 경우는 제외한다. (즉 2번 라벨과 평균이미지가 가장 비슷한 카테고리를 찾아라) "
   ]
  },
  {
   "cell_type": "markdown",
   "id": "b0361e4f-7d97-425b-8e42-ea1cc65b47da",
   "metadata": {},
   "source": [
    "**hint:** 4번라벨이 2번라벨과 가장 비슷하다. "
   ]
  },
  {
   "cell_type": "code",
   "execution_count": 247,
   "id": "619981f9-2137-44ee-8baf-64c4c8c06be6",
   "metadata": {},
   "outputs": [
    {
     "data": {
      "text/plain": [
       "[2597.2085496295,\n",
       " 5878.065097639916,\n",
       " 0.0,\n",
       " 4213.533631714888,\n",
       " 498.11027318129953,\n",
       " 7492.365150424071,\n",
       " 565.4023419996103,\n",
       " 8216.785686526042,\n",
       " 2762.121757294324,\n",
       " 6135.9385566330075]"
      ]
     },
     "execution_count": 247,
     "metadata": {},
     "output_type": "execute_result"
    }
   ],
   "source": [
    "imgmean = [xtrain[ytrain==i].mean(axis=0) for i in range(10)] \n",
    "[np.mean((imgmean[i] - imgmean[2])**2) for i in range(10)]"
   ]
  },
  {
   "cell_type": "markdown",
   "id": "90dd03f1-12c3-413b-9782-579ac86d9643",
   "metadata": {},
   "source": [
    "`(2)` `(1)`의 과정을 반복하여 아래의 평균이미지를 비슷한 카테고리로 묶는 작업을 하였다고 하자. "
   ]
  },
  {
   "cell_type": "code",
   "execution_count": null,
   "id": "6b8bd159-0a8a-41f5-94b1-17cf902215d1",
   "metadata": {},
   "outputs": [
    {
     "data": {
      "image/png": "[encoded data removed]",
      "text/plain": [
       "<Figure size 720x360 with 10 Axes>"
      ]
     },
     "metadata": {
      "needs_background": "light"
     },
     "output_type": "display_data"
    }
   ],
   "source": [
    "# 평균이미지"
   ]
  },
  {
   "cell_type": "markdown",
   "id": "06a858b2-2b88-4dbc-a0ff-e8a0b2113f7a",
   "metadata": {},
   "source": [
    "작업결과 아래와 같이 비슷한 카테고리를 생각하였다고 하자. "
   ]
  },
  {
   "cell_type": "code",
   "execution_count": 55,
   "id": "29ac2ed1-2c30-4365-a7d3-c7086cc8bfb6",
   "metadata": {},
   "outputs": [
    {
     "data": {
      "text/plain": [
       "{0: [0, 2, 3, 4, 6], 1: [1], 2: [5, 7, 9], 3: [8]}"
      ]
     },
     "execution_count": 55,
     "metadata": {},
     "output_type": "execute_result"
    }
   ],
   "source": [
    "mapping_rule = {0:[0,2,3,4,6], 1:[1], 2:[5,7,9], 3:[8]}\n",
    "mapping_rule"
   ]
  },
  {
   "cell_type": "markdown",
   "id": "40c8c8c7-2775-46f9-be6b-6825e6406b84",
   "metadata": {},
   "source": [
    "즉 기존의 0,2,3,4,6번에 해당하는 이미지는 모두 비슷하다고 판단하였다. 위에 제시된 mapping_rule에 의거하여 아래와 같이 라벨의 수정하는 변환을 수행하라. "
   ]
  },
  {
   "cell_type": "markdown",
   "id": "32b42e90-456f-48d3-b816-f217f297881c",
   "metadata": {},
   "source": [
    "|Before|After|\n",
    "|:-:|:-:|\n",
    "|0|0|\n",
    "|1|1|\n",
    "|2|0|\n",
    "|3|0|\n",
    "|4|0|\n",
    "|5|2|\n",
    "|6|0|\n",
    "|7|2|\n",
    "|8|3|\n",
    "|9|2|"
   ]
  },
  {
   "cell_type": "markdown",
   "id": "7518f264-4c7b-4c15-b4cf-9137ec5e1664",
   "metadata": {},
   "source": [
    "수정된 라벨에 대하여 평균이미지를 다시 계산하여 `imgmean2`에 저장하고 아래의 코드를 이용하여 시각화하라. "
   ]
  },
  {
   "cell_type": "markdown",
   "id": "5d7e1143-aaf0-4f5c-b4a0-f152b46ec85b",
   "metadata": {},
   "source": [
    "```Python\n",
    "fig, ax = plt.subplots(1,4,figsize=(10,5))\n",
    "for i in range(4):\n",
    "    ax[i].imshow(imgmean2[i],cmap='gray')\n",
    "```"
   ]
  },
  {
   "cell_type": "markdown",
   "id": "6d2f0fb0-6c8d-466b-b0c4-f5d9dabe849d",
   "metadata": {},
   "source": [
    "`(풀이)`"
   ]
  },
  {
   "cell_type": "code",
   "execution_count": 56,
   "id": "18021832-e98b-469a-a2b2-fe8159587668",
   "metadata": {},
   "outputs": [],
   "source": [
    "ytrain2 = np.array([m for y in ytrain for m in mapping_rule if y in mapping_rule[m]])"
   ]
  },
  {
   "cell_type": "code",
   "execution_count": 57,
   "id": "72d0695c-476e-4a3e-9249-59ccac18901a",
   "metadata": {},
   "outputs": [],
   "source": [
    "imgmean2 = [xtrain[ytrain2==i].mean(axis=0) for i in range(4)] "
   ]
  },
  {
   "cell_type": "code",
   "execution_count": 58,
   "id": "4c826279-fd5c-4ea4-9a11-2faeb5fc33d0",
   "metadata": {},
   "outputs": [
    {
     "data": {
      "image/png": "[encoded data removed]",
      "text/plain": [
       "<Figure size 720x360 with 4 Axes>"
      ]
     },
     "metadata": {
      "needs_background": "light"
     },
     "output_type": "display_data"
    }
   ],
   "source": [
    "fig, ax = plt.subplots(1,4,figsize=(10,5))\n",
    "for i in range(4):\n",
    "    ax[i].imshow(imgmean2[i],cmap='gray')"
   ]
  },
  {
   "cell_type": "markdown",
   "id": "29515621-7884-4d0b-a533-39c8a080ccf4",
   "metadata": {},
   "source": [
    "`(3)` 수정된 라벨에 대하여 xtrain의 이미지를 분류하고 분류결과를 카테고리별로 제시하라. "
   ]
  },
  {
   "cell_type": "markdown",
   "id": "cd9ab25a-b6eb-445a-9f39-8411a2385f65",
   "metadata": {},
   "source": [
    "`(풀이)`"
   ]
  },
  {
   "cell_type": "code",
   "execution_count": 61,
   "id": "6a12009e-2dc4-43c6-92fd-5aa038c73e31",
   "metadata": {
    "tags": []
   },
   "outputs": [
    {
     "data": {
      "text/plain": [
       "{0: 0.7493333333333333,\n",
       " 1: 0.9443333333333334,\n",
       " 2: 0.9379444444444445,\n",
       " 3: 0.7983333333333333}"
      ]
     },
     "execution_count": 61,
     "metadata": {},
     "output_type": "execute_result"
    }
   ],
   "source": [
    "training_loss2 = np.array([[np.mean((xtrain[j,:,:]- imgmean2[i])**2) for i in range(4)] for j in range(60000)])\n",
    "ytrain2_hat = training_loss2.argmin(axis=1)\n",
    "{i:ytrain2_hat[ytrain2==i].tolist().count(i)/sum(ytrain2==i) for i in range(4)}"
   ]
  },
  {
   "cell_type": "markdown",
   "id": "577cc963-63a7-4a1e-a7fc-0df32aa1e383",
   "metadata": {},
   "source": [
    "# 6. 동물명: 최하니 (20점)"
   ]
  },
  {
   "cell_type": "markdown",
   "id": "cbc2f3f6-cb02-4f00-9661-75c23b5aeb20",
   "metadata": {},
   "source": [
    "아래는 동물명 \"최하니\"의 이미지이다. "
   ]
  },
  {
   "cell_type": "code",
   "execution_count": 63,
   "id": "2ce1c331-b321-44d4-8cef-460075a66edf",
   "metadata": {},
   "outputs": [],
   "source": [
    "url = 'https://raw.githubusercontent.com/guebin/SC2022/main/hani.jpeg'\n",
    "hani = np.einsum('ijk->jik',np.array(PIL.Image.open(io.BytesIO(requests.get(url).content))),dtype=np.int64)/255"
   ]
  },
  {
   "cell_type": "code",
   "execution_count": 64,
   "id": "65f67dba-736f-41fa-a90f-503269d9e6ef",
   "metadata": {},
   "outputs": [
    {
     "data": {
      "text/plain": [
       "<matplotlib.image.AxesImage at 0x7f6efc778130>"
      ]
     },
     "execution_count": 64,
     "metadata": {},
     "output_type": "execute_result"
    },
    {
     "data": {
      "image/png": "[encoded data removed]",
      "text/plain": [
       "<Figure size 432x288 with 1 Axes>"
      ]
     },
     "metadata": {
      "needs_background": "light"
     },
     "output_type": "display_data"
    }
   ],
   "source": [
    "plt.imshow(hani)"
   ]
  },
  {
   "cell_type": "markdown",
   "id": "3a18fe82-dc09-4acf-87e4-1e1a4bf43548",
   "metadata": {},
   "source": [
    "아래는 하니를 적당히 분리하여 아래와 같이 `hani_left`와 `hini_right`를 만들고 시각화한 것이다. "
   ]
  },
  {
   "cell_type": "code",
   "execution_count": 65,
   "id": "d7ad3036-32d5-40ee-8d7e-921454d985d5",
   "metadata": {},
   "outputs": [],
   "source": [
    "hani_left = hani[:,:1512,:].copy()\n",
    "hani_right = hani[:,1512:,:].copy()"
   ]
  },
  {
   "cell_type": "code",
   "execution_count": 66,
   "id": "e5975ba9-f3a7-42d5-983f-02008361430f",
   "metadata": {},
   "outputs": [
    {
     "data": {
      "text/plain": [
       "<matplotlib.image.AxesImage at 0x7f6ef8144b50>"
      ]
     },
     "execution_count": 66,
     "metadata": {},
     "output_type": "execute_result"
    },
    {
     "data": {
      "image/png": "[encoded data removed]",
      "text/plain": [
       "<Figure size 432x288 with 2 Axes>"
      ]
     },
     "metadata": {
      "needs_background": "light"
     },
     "output_type": "display_data"
    }
   ],
   "source": [
    "fig, ax = plt.subplots(1,2)\n",
    "ax[0].imshow(hani_left)\n",
    "ax[1].imshow(hani_right)"
   ]
  },
  {
   "cell_type": "markdown",
   "id": "a0ee8835-cde8-4ee3-a8ef-ab2c9b48662b",
   "metadata": {},
   "source": [
    "`(1)` `hani_right[:,:,2]`의 모든 원소에 아래와 같은 변환을 수행하라. "
   ]
  },
  {
   "cell_type": "markdown",
   "id": "29793935-8b1b-421e-b7be-801d434560b2",
   "metadata": {},
   "source": [
    "- $f(x)=\\begin{cases} x & 1.15x >1.0 \\\\ 1.15x & 1.15x \\leq 1.0 \\end{cases}$"
   ]
  },
  {
   "cell_type": "markdown",
   "id": "251891da-3646-4140-b584-4e9b976ddc4b",
   "metadata": {},
   "source": [
    "`(풀이)`"
   ]
  },
  {
   "cell_type": "code",
   "execution_count": 67,
   "id": "2127b208-4c04-4c3e-bee5-6356ccab6d43",
   "metadata": {},
   "outputs": [],
   "source": [
    "_a = hani_right[:,:,2] * (hani_right[:,:,2]*1.15 > 1.0)\n",
    "_b = hani_right[:,:,2]*1.15 * (hani_right[:,:,2]*1.15 < 1.0)\n",
    "hani_right[:,:,2] = _a + _b"
   ]
  },
  {
   "cell_type": "markdown",
   "id": "f0eeb1da-a80e-48fc-8df9-7b301893c485",
   "metadata": {},
   "source": [
    "`(2)` `hani_left`와 `(1)`에서 변환된 `hani_right`를 `np.concatenate`을 이용하여 합치고 결과를 시각화하라."
   ]
  },
  {
   "cell_type": "markdown",
   "id": "9710457a-d4ca-4a54-9bad-ba1ae11f4502",
   "metadata": {},
   "source": [
    "`(풀이)`"
   ]
  },
  {
   "cell_type": "code",
   "execution_count": 68,
   "id": "2d50224c-6eca-4c29-8193-592bbccdbc34",
   "metadata": {},
   "outputs": [
    {
     "data": {
      "text/plain": [
       "<matplotlib.image.AxesImage at 0x7f6ef835bbb0>"
      ]
     },
     "execution_count": 68,
     "metadata": {},
     "output_type": "execute_result"
    },
    {
     "data": {
      "image/png": "[encoded data removed]",
      "text/plain": [
       "<Figure size 432x288 with 1 Axes>"
      ]
     },
     "metadata": {
      "needs_background": "light"
     },
     "output_type": "display_data"
    }
   ],
   "source": [
    "plt.imshow(np.concatenate([hani_left,hani_right],axis=1))"
   ]
  },
  {
   "cell_type": "markdown",
   "id": "4cb6b45a-545e-4a34-8f53-3a3d45a62d01",
   "metadata": {},
   "source": [
    "# 7. Naive Bayes classifier (120점) "
   ]
  },
  {
   "cell_type": "markdown",
   "id": "3b870301-42c1-47d6-8033-14b2bb089cb0",
   "metadata": {},
   "source": [
    "> ref: <https://towardsdatascience.com/the-naive-bayes-classifier-how-it-works-e229e7970b84>"
   ]
  },
  {
   "cell_type": "markdown",
   "id": "6f545f1c-07ef-4429-a7c6-04cf97f023dc",
   "metadata": {},
   "source": [
    "***채점기준***"
   ]
  },
  {
   "cell_type": "markdown",
   "id": "af0e2a5c-fd91-48f0-993c-e5cdab502094",
   "metadata": {},
   "source": [
    "- (1),(2)를 모두 맞출경우: 40점\n",
    "- (3),(4)를 모두 맞출경우: 80점 // (4)만 맞춰도 80점인정함\n",
    "- 그 외의의 경우는 부분점수 없음 \n",
    "- 확장불가능한 코드는 부분점수 없음 "
   ]
  },
  {
   "cell_type": "markdown",
   "id": "678cca25-a812-4d82-a89a-b14d3ddf609b",
   "metadata": {},
   "source": [
    "아래의 데이터프레임은 날씨, 도로 상태, 교통 상황, 엔진 문제 및 사고 여부와 같은 여러 가지 변수를 포함하는 10개의 행과 5개의 열로 구성되어있다. "
   ]
  },
  {
   "cell_type": "code",
   "execution_count": 70,
   "id": "7889f90f-0b74-470b-82f4-746993568907",
   "metadata": {},
   "outputs": [],
   "source": [
    "df = pd.DataFrame({\n",
    "    'WeatherCondition': ['rain', 'snow', 'clear', 'clear', 'snow', 'rain', 'rain', 'snow', 'clear', 'clear'],\n",
    "    'RoadCondition': ['bad','average','bad','good','good','average','good','bad','good','bad'],\n",
    "    'TrafficCondition': ['high','normal','light','light','normal','light','normal','high','high','high'],\n",
    "    'EngineProblem': ['no','yes','no','yes','no','no','no','no','yes','yes'],\n",
    "    'Accident': ['yes','yes','no','yes','no','no','no','yes','no','yes']\n",
    "})"
   ]
  },
  {
   "cell_type": "code",
   "execution_count": 71,
   "id": "f2d8135b-4a6a-4552-b308-81297500ed1e",
   "metadata": {},
   "outputs": [
    {
     "data": {
      "text/html": [
       "<div>\n",
       "<style scoped>\n",
       "    .dataframe tbody tr th:only-of-type {\n",
       "        vertical-align: middle;\n",
       "    }\n",
       "\n",
       "    .dataframe tbody tr th {\n",
       "        vertical-align: top;\n",
       "    }\n",
       "\n",
       "    .dataframe thead th {\n",
       "        text-align: right;\n",
       "    }\n",
       "</style>\n",
       "<table border=\"1\" class=\"dataframe\">\n",
       "  <thead>\n",
       "    <tr style=\"text-align: right;\">\n",
       "      <th></th>\n",
       "      <th>WeatherCondition</th>\n",
       "      <th>RoadCondition</th>\n",
       "      <th>TrafficCondition</th>\n",
       "      <th>EngineProblem</th>\n",
       "      <th>Accident</th>\n",
       "    </tr>\n",
       "  </thead>\n",
       "  <tbody>\n",
       "    <tr>\n",
       "      <th>0</th>\n",
       "      <td>rain</td>\n",
       "      <td>bad</td>\n",
       "      <td>high</td>\n",
       "      <td>no</td>\n",
       "      <td>yes</td>\n",
       "    </tr>\n",
       "    <tr>\n",
       "      <th>1</th>\n",
       "      <td>snow</td>\n",
       "      <td>average</td>\n",
       "      <td>normal</td>\n",
       "      <td>yes</td>\n",
       "      <td>yes</td>\n",
       "    </tr>\n",
       "    <tr>\n",
       "      <th>2</th>\n",
       "      <td>clear</td>\n",
       "      <td>bad</td>\n",
       "      <td>light</td>\n",
       "      <td>no</td>\n",
       "      <td>no</td>\n",
       "    </tr>\n",
       "    <tr>\n",
       "      <th>3</th>\n",
       "      <td>clear</td>\n",
       "      <td>good</td>\n",
       "      <td>light</td>\n",
       "      <td>yes</td>\n",
       "      <td>yes</td>\n",
       "    </tr>\n",
       "    <tr>\n",
       "      <th>4</th>\n",
       "      <td>snow</td>\n",
       "      <td>good</td>\n",
       "      <td>normal</td>\n",
       "      <td>no</td>\n",
       "      <td>no</td>\n",
       "    </tr>\n",
       "    <tr>\n",
       "      <th>5</th>\n",
       "      <td>rain</td>\n",
       "      <td>average</td>\n",
       "      <td>light</td>\n",
       "      <td>no</td>\n",
       "      <td>no</td>\n",
       "    </tr>\n",
       "    <tr>\n",
       "      <th>6</th>\n",
       "      <td>rain</td>\n",
       "      <td>good</td>\n",
       "      <td>normal</td>\n",
       "      <td>no</td>\n",
       "      <td>no</td>\n",
       "    </tr>\n",
       "    <tr>\n",
       "      <th>7</th>\n",
       "      <td>snow</td>\n",
       "      <td>bad</td>\n",
       "      <td>high</td>\n",
       "      <td>no</td>\n",
       "      <td>yes</td>\n",
       "    </tr>\n",
       "    <tr>\n",
       "      <th>8</th>\n",
       "      <td>clear</td>\n",
       "      <td>good</td>\n",
       "      <td>high</td>\n",
       "      <td>yes</td>\n",
       "      <td>no</td>\n",
       "    </tr>\n",
       "    <tr>\n",
       "      <th>9</th>\n",
       "      <td>clear</td>\n",
       "      <td>bad</td>\n",
       "      <td>high</td>\n",
       "      <td>yes</td>\n",
       "      <td>yes</td>\n",
       "    </tr>\n",
       "  </tbody>\n",
       "</table>\n",
       "</div>"
      ],
      "text/plain": [
       "  WeatherCondition RoadCondition TrafficCondition EngineProblem Accident\n",
       "0             rain           bad             high            no      yes\n",
       "1             snow       average           normal           yes      yes\n",
       "2            clear           bad            light            no       no\n",
       "3            clear          good            light           yes      yes\n",
       "4             snow          good           normal            no       no\n",
       "5             rain       average            light            no       no\n",
       "6             rain          good           normal            no       no\n",
       "7             snow           bad             high            no      yes\n",
       "8            clear          good             high           yes       no\n",
       "9            clear           bad             high           yes      yes"
      ]
     },
     "execution_count": 71,
     "metadata": {},
     "output_type": "execute_result"
    }
   ],
   "source": [
    "df"
   ]
  },
  {
   "cell_type": "markdown",
   "id": "0b0235c7-df4d-4c79-b221-1e93531ca3e2",
   "metadata": {},
   "source": [
    "각 열에 대한 설명은 아래와 같다. "
   ]
  },
  {
   "cell_type": "markdown",
   "id": "b42d93a7-849e-44ad-9288-cba1be4a5387",
   "metadata": {},
   "source": [
    "- 'WeatherCondition': 각 행에서 기록된 날씨 조건을 설명하며, 'rain'은 비, 'snow'는 눈, 'clear'는 맑은 날씨를 나타낸다. \n",
    "- 'RoadCondition':각 행에서 기록된 도로 상태를 설명하며, 'bad'는 안 좋은, 'average'는 보통, 'good'은 좋은 도로 상태를 나타낸다. \n",
    "- 'TrafficCondition':각 행에서 기록된 교통 상황을 설명하며, 'light'는 움직이기 쉬운, 'normal'은 평균, 'high'는 교통이 많은 상황을 나타낸다. \n",
    "- 'EngineProblem': 각 행에서 기록된 엔진 문제 여부를 설명하며, 'yes'는 문제가 있음을 나타내고, 'no'는 문제가 없음을 나타낸다. \n",
    "- 'Accident': 각 행에서 기록된 사고 여부를 설명하며, 'yes'는 사고가 있음을 나타내고, 'no'는 사고가 없음을 나타낸다. "
   ]
  },
  {
   "cell_type": "markdown",
   "id": "deff2520-5cdc-44fe-b942-6a4c945b26a1",
   "metadata": {},
   "source": [
    "우리는 'WeatherCondition', 'RoadCondition', 'TrafficCondition', 'EngineProblem' 를 이용하여 'Accident' 행의 값이 yes일지 no일지를 판단하는 일에 관심이 있다고 하자. 아래의 (1)-(4) 이러한 분류를 수행하는 방법을 구체화 한 것이다. (1)-(4)의 물음에 답하라."
   ]
  },
  {
   "cell_type": "markdown",
   "id": "0029a458-45d0-4f1a-b22d-862f9d0f3a13",
   "metadata": {},
   "source": [
    "`(1)` 주어진 자료에서 $P({\\tt Accident == no})$를 계산하여라. "
   ]
  },
  {
   "cell_type": "markdown",
   "id": "c38fe604-22b7-47a8-87de-5791f5adfc96",
   "metadata": {},
   "source": [
    "**hint**: `Accident=='yes'인 데이터수 / 전체데이터수`를 계산하면 되며 답은 0.5이다. "
   ]
  },
  {
   "cell_type": "markdown",
   "id": "925c9d44-ed76-4e3e-91e7-210f93e36cd1",
   "metadata": {},
   "source": [
    "`(풀이)`"
   ]
  },
  {
   "cell_type": "code",
   "execution_count": 72,
   "id": "c3f6e11d-dd3b-4f53-b9c7-f86dcd4b8ce4",
   "metadata": {},
   "outputs": [
    {
     "data": {
      "text/plain": [
       "0.5"
      ]
     },
     "execution_count": 72,
     "metadata": {},
     "output_type": "execute_result"
    }
   ],
   "source": [
    "len(df.query('Accident==\"no\"')) / 10"
   ]
  },
  {
   "cell_type": "markdown",
   "id": "363f85dd-790b-440a-b86c-6f61b501567b",
   "metadata": {},
   "source": [
    "`(2)` 아래와 같은 조건부 확률은\n",
    "\n",
    "$$P({\\tt WeatherCondition == rain} ~|~ {\\tt Accident==no})$$\n",
    "\n",
    "아래와 같이 계산한다고 하자. "
   ]
  },
  {
   "cell_type": "code",
   "execution_count": 508,
   "id": "6f93a7c6-93e0-4592-a253-a3dade3bb9bf",
   "metadata": {},
   "outputs": [
    {
     "data": {
      "text/plain": [
       "0.4"
      ]
     },
     "execution_count": 508,
     "metadata": {},
     "output_type": "execute_result"
    }
   ],
   "source": [
    "# 방법1\n",
    "len(df.query('WeatherCondition == \"rain\" and Accident == \"no\"'))/len(df.query('Accident==\"no\"'))"
   ]
  },
  {
   "cell_type": "code",
   "execution_count": 509,
   "id": "ece6d9bf-df12-4314-9148-3bdd4a896d64",
   "metadata": {},
   "outputs": [
    {
     "data": {
      "text/plain": [
       "0.4"
      ]
     },
     "execution_count": 509,
     "metadata": {},
     "output_type": "execute_result"
    }
   ],
   "source": [
    "# 방법2\n",
    "((df['WeatherCondition'] == 'rain') & (df['Accident']== 'no')).sum() / (df['Accident']== 'no').sum()"
   ]
  },
  {
   "cell_type": "markdown",
   "id": "ce1dcd8e-c825-4729-8226-1bdd4ebf843a",
   "metadata": {},
   "source": [
    "이와 유사한 방식으로 아래를 계산하라. \n",
    "\n",
    "- $P({\\tt WeatherCondition == rain} ~|~ {\\tt Accident==no})$ \n",
    "- $P({\\tt WeatherCondition == snow} ~|~ {\\tt Accident==no})$ \n",
    "- $\\dots$\n",
    "- $P({\\tt EngineProblem == no} ~|~ {\\tt Accident==yes})$ \n",
    "- $P({\\tt EngineProblem == yes} ~|~ {\\tt Accident==yes})$ "
   ]
  },
  {
   "cell_type": "markdown",
   "id": "4a108254-5f75-40c2-be30-62c758e7041b",
   "metadata": {},
   "source": [
    "계산결과는 아래와 같다. \n",
    "\n",
    "```\n",
    "{'P(WeatherCondition=clear|Accident=no)': 0.4,\n",
    " 'P(WeatherCondition=clear|Accident=yes)': 0.4,\n",
    " 'P(WeatherCondition=rain|Accident=no)': 0.4,\n",
    " 'P(WeatherCondition=rain|Accident=yes)': 0.2,\n",
    " 'P(WeatherCondition=snow|Accident=no)': 0.2,\n",
    " 'P(WeatherCondition=snow|Accident=yes)': 0.4,\n",
    " 'P(RoadCondition=average|Accident=no)': 0.2,\n",
    " 'P(RoadCondition=average|Accident=yes)': 0.2,\n",
    " 'P(RoadCondition=good|Accident=no)': 0.6,\n",
    " 'P(RoadCondition=good|Accident=yes)': 0.2,\n",
    " 'P(RoadCondition=bad|Accident=no)': 0.2,\n",
    " 'P(RoadCondition=bad|Accident=yes)': 0.6,\n",
    " 'P(TrafficCondition=light|Accident=no)': 0.4,\n",
    " 'P(TrafficCondition=light|Accident=yes)': 0.2,\n",
    " 'P(TrafficCondition=high|Accident=no)': 0.2,\n",
    " 'P(TrafficCondition=high|Accident=yes)': 0.6,\n",
    " 'P(TrafficCondition=normal|Accident=no)': 0.4,\n",
    " 'P(TrafficCondition=normal|Accident=yes)': 0.2,\n",
    " 'P(EngineProblem=no|Accident=no)': 0.8,\n",
    " 'P(EngineProblem=no|Accident=yes)': 0.4,\n",
    " 'P(EngineProblem=yes|Accident=no)': 0.2,\n",
    " 'P(EngineProblem=yes|Accident=yes)': 0.6}\n",
    "```"
   ]
  },
  {
   "cell_type": "markdown",
   "id": "a80d6e63-e28a-4ef2-a919-6b372cb07d4c",
   "metadata": {},
   "source": [
    "`(풀이)`"
   ]
  },
  {
   "cell_type": "code",
   "execution_count": 316,
   "id": "e7843644-3a79-43b4-864a-3efb8e3a3f0c",
   "metadata": {},
   "outputs": [
    {
     "data": {
      "text/plain": [
       "{'P(WeatherCondition=clear|Accident=no)': 0.4,\n",
       " 'P(WeatherCondition=clear|Accident=yes)': 0.4,\n",
       " 'P(WeatherCondition=rain|Accident=no)': 0.4,\n",
       " 'P(WeatherCondition=rain|Accident=yes)': 0.2,\n",
       " 'P(WeatherCondition=snow|Accident=no)': 0.2,\n",
       " 'P(WeatherCondition=snow|Accident=yes)': 0.4,\n",
       " 'P(RoadCondition=average|Accident=no)': 0.2,\n",
       " 'P(RoadCondition=average|Accident=yes)': 0.2,\n",
       " 'P(RoadCondition=bad|Accident=no)': 0.2,\n",
       " 'P(RoadCondition=bad|Accident=yes)': 0.6,\n",
       " 'P(RoadCondition=good|Accident=no)': 0.6,\n",
       " 'P(RoadCondition=good|Accident=yes)': 0.2,\n",
       " 'P(TrafficCondition=normal|Accident=no)': 0.4,\n",
       " 'P(TrafficCondition=normal|Accident=yes)': 0.2,\n",
       " 'P(TrafficCondition=light|Accident=no)': 0.4,\n",
       " 'P(TrafficCondition=light|Accident=yes)': 0.2,\n",
       " 'P(TrafficCondition=high|Accident=no)': 0.2,\n",
       " 'P(TrafficCondition=high|Accident=yes)': 0.6,\n",
       " 'P(EngineProblem=yes|Accident=no)': 0.2,\n",
       " 'P(EngineProblem=yes|Accident=yes)': 0.6,\n",
       " 'P(EngineProblem=no|Accident=no)': 0.8,\n",
       " 'P(EngineProblem=no|Accident=yes)': 0.4}"
      ]
     },
     "execution_count": 316,
     "metadata": {},
     "output_type": "execute_result"
    }
   ],
   "source": [
    "*cond, _ = df.columns\n",
    "{'P({}={}|Accident={})'.format(i,j,k): ((df[i]==j)&(df['Accident']==k)).sum()/(df['Accident']==k).sum() for i in cond for j in set(df[i]) for k in ['no','yes']}"
   ]
  },
  {
   "cell_type": "markdown",
   "id": "d5b459dc-1d6c-4429-9dae-5eec68646001",
   "metadata": {},
   "source": [
    "`(3)` 아래와 같은 새로운 상황이 발생하였다고 가정하자. \n",
    "\n",
    "- ${\\tt WeatherCondition==rain}$\n",
    "- ${\\tt RoadCondition==good}$\n",
    "- ${\\tt TraffictCondition==normal}$\n",
    "- ${\\tt EngineProblem==no}$\n"
   ]
  },
  {
   "cell_type": "markdown",
   "id": "8bd6b6c2-8eae-4a08-8856-df9ad21a0a6a",
   "metadata": {},
   "source": [
    "아래를 각각 계산하라. \n",
    "\n",
    "$\\begin{align}\n",
    "A&=P({\\tt Accident == yes})\\\\\n",
    "&\\times P({\\tt WeatherCondition==rain~ |~ Accident == yes}) \\\\  \n",
    "&\\times P({\\tt RoadCondition==good~|~ Accident == yes}) \\\\ \n",
    "&\\times P({\\tt TrafficCondition==normal~ |~ Accident == yes}) \\\\ \n",
    "&\\times P({\\tt EngineProblem=no~ |~ Accident == yes})\n",
    "\\end{align}$\n",
    "\n",
    "$\\begin{align}\n",
    "B&=P({\\tt Accident ==no})\\\\\n",
    "&\\times P({\\tt WeatherCondition==rain~ |~ Accident == no}) \\\\  \n",
    "&\\times P({\\tt RoadCondition==good~|~ Accident == no}) \\\\ \n",
    "&\\times P({\\tt TrafficCondition==normal~ |~ Accident == no}) \\\\ \n",
    "&\\times P({\\tt EngineProblem=no~ |~ Accident == no})\n",
    "\\end{align}$"
   ]
  },
  {
   "cell_type": "markdown",
   "id": "59d0c64f-4599-4ff8-9fc6-f79db1a043a9",
   "metadata": {},
   "source": [
    "여기에서 $\\frac{A}{A+B}$와 $\\frac{B}{A+B}$를 각각 주어진 상황에 대하여 사고가 날 확률, 사고가 나지 않을 확률을 의미한다고 하자. 주어진 상황에서 사고가 날 확률은 얼마인가? "
   ]
  },
  {
   "cell_type": "markdown",
   "id": "3528b9bb-cf83-4a4e-b0a4-ba7c224c217c",
   "metadata": {},
   "source": [
    "**hint:** 답은 1/25"
   ]
  },
  {
   "cell_type": "markdown",
   "id": "2a2feff5-9fb4-475a-b2f4-dee06dc84751",
   "metadata": {},
   "source": [
    "`(풀이)`"
   ]
  },
  {
   "cell_type": "code",
   "execution_count": 279,
   "id": "4b7a2b7b-4da1-46df-82d0-14bc88e9be02",
   "metadata": {},
   "outputs": [
    {
     "data": {
      "text/plain": [
       "{('clear', 'no'): 0.4,\n",
       " ('clear', 'yes'): 0.4,\n",
       " ('rain', 'no'): 0.4,\n",
       " ('rain', 'yes'): 0.2,\n",
       " ('snow', 'no'): 0.2,\n",
       " ('snow', 'yes'): 0.4,\n",
       " ('average', 'no'): 0.2,\n",
       " ('average', 'yes'): 0.2,\n",
       " ('bad', 'no'): 0.2,\n",
       " ('bad', 'yes'): 0.6,\n",
       " ('good', 'no'): 0.6,\n",
       " ('good', 'yes'): 0.2,\n",
       " ('normal', 'no'): 0.4,\n",
       " ('normal', 'yes'): 0.2,\n",
       " ('light', 'no'): 0.4,\n",
       " ('light', 'yes'): 0.2,\n",
       " ('high', 'no'): 0.2,\n",
       " ('high', 'yes'): 0.6,\n",
       " ('yes', 'no'): 0.2,\n",
       " ('yes', 'yes'): 0.6,\n",
       " ('no', 'no'): 0.8,\n",
       " ('no', 'yes'): 0.4}"
      ]
     },
     "execution_count": 279,
     "metadata": {},
     "output_type": "execute_result"
    }
   ],
   "source": [
    "dct = {(j,k):((df[i]==j)&(df['Accident']==k)).sum()/(df['Accident']==k).sum() for i in cond for j in set(df[i]) for k in ['no','yes']}\n",
    "dct"
   ]
  },
  {
   "cell_type": "markdown",
   "id": "f0ebab75-e33e-4ab1-9c1b-6d5cf83d98a5",
   "metadata": {},
   "source": [
    "- dct의 키는 `(WeatherCondition~EngineProblem의 라벨, Accident의 라벨)`로 이루어짐 "
   ]
  },
  {
   "cell_type": "code",
   "execution_count": 223,
   "id": "4d27a64f-fb0c-4f8e-a1bc-2f11641935de",
   "metadata": {},
   "outputs": [],
   "source": [
    "A = dct['rain','yes']*dct['good','yes']*dct['normal','yes']*dct['no','yes']\n",
    "B = dct['rain','no']*dct['good','no']*dct['normal','no']*dct['no','no']"
   ]
  },
  {
   "cell_type": "code",
   "execution_count": 238,
   "id": "ad6651c0-67fd-4afa-8ae4-cd5cd7be18b2",
   "metadata": {},
   "outputs": [
    {
     "data": {
      "text/plain": [
       "0.040000000000000015"
      ]
     },
     "execution_count": 238,
     "metadata": {},
     "output_type": "execute_result"
    }
   ],
   "source": [
    "A/(A+B) # 실제정답은 0.04, 0.000000000000000015는 에러"
   ]
  },
  {
   "cell_type": "markdown",
   "id": "722b2a90-32bb-43eb-a615-1d1ea8de12d2",
   "metadata": {},
   "source": [
    "`(4)` 모든 상황에 대하여 사고가 날 확률을 구하여라. "
   ]
  },
  {
   "cell_type": "markdown",
   "id": "f975f656-f460-4869-9e2d-be47b0ff4c6a",
   "metadata": {},
   "source": [
    "`(풀이1)`"
   ]
  },
  {
   "cell_type": "code",
   "execution_count": 152,
   "id": "574fead6-76a4-4e23-b6a7-42a2985e225f",
   "metadata": {},
   "outputs": [],
   "source": [
    "W = set(df.WeatherCondition)\n",
    "R = set(df.RoadCondition)\n",
    "T = set(df.TrafficCondition)\n",
    "E = set(df.EngineProblem)"
   ]
  },
  {
   "cell_type": "code",
   "execution_count": 237,
   "id": "8adab597-37cb-44d1-8a8a-476df277d125",
   "metadata": {},
   "outputs": [
    {
     "data": {
      "text/html": [
       "<div>\n",
       "<style scoped>\n",
       "    .dataframe tbody tr th:only-of-type {\n",
       "        vertical-align: middle;\n",
       "    }\n",
       "\n",
       "    .dataframe tbody tr th {\n",
       "        vertical-align: top;\n",
       "    }\n",
       "\n",
       "    .dataframe thead th {\n",
       "        text-align: right;\n",
       "    }\n",
       "</style>\n",
       "<table border=\"1\" class=\"dataframe\">\n",
       "  <thead>\n",
       "    <tr style=\"text-align: right;\">\n",
       "      <th></th>\n",
       "      <th>WeatherCondition</th>\n",
       "      <th>RoadCondition</th>\n",
       "      <th>TrafficCondition</th>\n",
       "      <th>EngineProblem</th>\n",
       "      <th>A</th>\n",
       "      <th>B</th>\n",
       "      <th>Prob</th>\n",
       "    </tr>\n",
       "  </thead>\n",
       "  <tbody>\n",
       "    <tr>\n",
       "      <th>0</th>\n",
       "      <td>clear</td>\n",
       "      <td>average</td>\n",
       "      <td>normal</td>\n",
       "      <td>yes</td>\n",
       "      <td>0.0096</td>\n",
       "      <td>0.0064</td>\n",
       "      <td>0.600000</td>\n",
       "    </tr>\n",
       "    <tr>\n",
       "      <th>1</th>\n",
       "      <td>clear</td>\n",
       "      <td>average</td>\n",
       "      <td>normal</td>\n",
       "      <td>no</td>\n",
       "      <td>0.0064</td>\n",
       "      <td>0.0256</td>\n",
       "      <td>0.200000</td>\n",
       "    </tr>\n",
       "    <tr>\n",
       "      <th>2</th>\n",
       "      <td>clear</td>\n",
       "      <td>average</td>\n",
       "      <td>light</td>\n",
       "      <td>yes</td>\n",
       "      <td>0.0096</td>\n",
       "      <td>0.0064</td>\n",
       "      <td>0.600000</td>\n",
       "    </tr>\n",
       "    <tr>\n",
       "      <th>3</th>\n",
       "      <td>clear</td>\n",
       "      <td>average</td>\n",
       "      <td>light</td>\n",
       "      <td>no</td>\n",
       "      <td>0.0064</td>\n",
       "      <td>0.0256</td>\n",
       "      <td>0.200000</td>\n",
       "    </tr>\n",
       "    <tr>\n",
       "      <th>4</th>\n",
       "      <td>clear</td>\n",
       "      <td>average</td>\n",
       "      <td>high</td>\n",
       "      <td>yes</td>\n",
       "      <td>0.0288</td>\n",
       "      <td>0.0032</td>\n",
       "      <td>0.900000</td>\n",
       "    </tr>\n",
       "    <tr>\n",
       "      <th>5</th>\n",
       "      <td>clear</td>\n",
       "      <td>average</td>\n",
       "      <td>high</td>\n",
       "      <td>no</td>\n",
       "      <td>0.0192</td>\n",
       "      <td>0.0128</td>\n",
       "      <td>0.600000</td>\n",
       "    </tr>\n",
       "    <tr>\n",
       "      <th>6</th>\n",
       "      <td>clear</td>\n",
       "      <td>bad</td>\n",
       "      <td>normal</td>\n",
       "      <td>yes</td>\n",
       "      <td>0.0288</td>\n",
       "      <td>0.0064</td>\n",
       "      <td>0.818182</td>\n",
       "    </tr>\n",
       "    <tr>\n",
       "      <th>7</th>\n",
       "      <td>clear</td>\n",
       "      <td>bad</td>\n",
       "      <td>normal</td>\n",
       "      <td>no</td>\n",
       "      <td>0.0192</td>\n",
       "      <td>0.0256</td>\n",
       "      <td>0.428571</td>\n",
       "    </tr>\n",
       "    <tr>\n",
       "      <th>8</th>\n",
       "      <td>clear</td>\n",
       "      <td>bad</td>\n",
       "      <td>light</td>\n",
       "      <td>yes</td>\n",
       "      <td>0.0288</td>\n",
       "      <td>0.0064</td>\n",
       "      <td>0.818182</td>\n",
       "    </tr>\n",
       "    <tr>\n",
       "      <th>9</th>\n",
       "      <td>clear</td>\n",
       "      <td>bad</td>\n",
       "      <td>light</td>\n",
       "      <td>no</td>\n",
       "      <td>0.0192</td>\n",
       "      <td>0.0256</td>\n",
       "      <td>0.428571</td>\n",
       "    </tr>\n",
       "    <tr>\n",
       "      <th>10</th>\n",
       "      <td>clear</td>\n",
       "      <td>bad</td>\n",
       "      <td>high</td>\n",
       "      <td>yes</td>\n",
       "      <td>0.0864</td>\n",
       "      <td>0.0032</td>\n",
       "      <td>0.964286</td>\n",
       "    </tr>\n",
       "    <tr>\n",
       "      <th>11</th>\n",
       "      <td>clear</td>\n",
       "      <td>bad</td>\n",
       "      <td>high</td>\n",
       "      <td>no</td>\n",
       "      <td>0.0576</td>\n",
       "      <td>0.0128</td>\n",
       "      <td>0.818182</td>\n",
       "    </tr>\n",
       "    <tr>\n",
       "      <th>12</th>\n",
       "      <td>clear</td>\n",
       "      <td>good</td>\n",
       "      <td>normal</td>\n",
       "      <td>yes</td>\n",
       "      <td>0.0096</td>\n",
       "      <td>0.0192</td>\n",
       "      <td>0.333333</td>\n",
       "    </tr>\n",
       "    <tr>\n",
       "      <th>13</th>\n",
       "      <td>clear</td>\n",
       "      <td>good</td>\n",
       "      <td>normal</td>\n",
       "      <td>no</td>\n",
       "      <td>0.0064</td>\n",
       "      <td>0.0768</td>\n",
       "      <td>0.076923</td>\n",
       "    </tr>\n",
       "    <tr>\n",
       "      <th>14</th>\n",
       "      <td>clear</td>\n",
       "      <td>good</td>\n",
       "      <td>light</td>\n",
       "      <td>yes</td>\n",
       "      <td>0.0096</td>\n",
       "      <td>0.0192</td>\n",
       "      <td>0.333333</td>\n",
       "    </tr>\n",
       "    <tr>\n",
       "      <th>15</th>\n",
       "      <td>clear</td>\n",
       "      <td>good</td>\n",
       "      <td>light</td>\n",
       "      <td>no</td>\n",
       "      <td>0.0064</td>\n",
       "      <td>0.0768</td>\n",
       "      <td>0.076923</td>\n",
       "    </tr>\n",
       "    <tr>\n",
       "      <th>16</th>\n",
       "      <td>clear</td>\n",
       "      <td>good</td>\n",
       "      <td>high</td>\n",
       "      <td>yes</td>\n",
       "      <td>0.0288</td>\n",
       "      <td>0.0096</td>\n",
       "      <td>0.750000</td>\n",
       "    </tr>\n",
       "    <tr>\n",
       "      <th>17</th>\n",
       "      <td>clear</td>\n",
       "      <td>good</td>\n",
       "      <td>high</td>\n",
       "      <td>no</td>\n",
       "      <td>0.0192</td>\n",
       "      <td>0.0384</td>\n",
       "      <td>0.333333</td>\n",
       "    </tr>\n",
       "    <tr>\n",
       "      <th>18</th>\n",
       "      <td>rain</td>\n",
       "      <td>average</td>\n",
       "      <td>normal</td>\n",
       "      <td>yes</td>\n",
       "      <td>0.0048</td>\n",
       "      <td>0.0064</td>\n",
       "      <td>0.428571</td>\n",
       "    </tr>\n",
       "    <tr>\n",
       "      <th>19</th>\n",
       "      <td>rain</td>\n",
       "      <td>average</td>\n",
       "      <td>normal</td>\n",
       "      <td>no</td>\n",
       "      <td>0.0032</td>\n",
       "      <td>0.0256</td>\n",
       "      <td>0.111111</td>\n",
       "    </tr>\n",
       "    <tr>\n",
       "      <th>20</th>\n",
       "      <td>rain</td>\n",
       "      <td>average</td>\n",
       "      <td>light</td>\n",
       "      <td>yes</td>\n",
       "      <td>0.0048</td>\n",
       "      <td>0.0064</td>\n",
       "      <td>0.428571</td>\n",
       "    </tr>\n",
       "    <tr>\n",
       "      <th>21</th>\n",
       "      <td>rain</td>\n",
       "      <td>average</td>\n",
       "      <td>light</td>\n",
       "      <td>no</td>\n",
       "      <td>0.0032</td>\n",
       "      <td>0.0256</td>\n",
       "      <td>0.111111</td>\n",
       "    </tr>\n",
       "    <tr>\n",
       "      <th>22</th>\n",
       "      <td>rain</td>\n",
       "      <td>average</td>\n",
       "      <td>high</td>\n",
       "      <td>yes</td>\n",
       "      <td>0.0144</td>\n",
       "      <td>0.0032</td>\n",
       "      <td>0.818182</td>\n",
       "    </tr>\n",
       "    <tr>\n",
       "      <th>23</th>\n",
       "      <td>rain</td>\n",
       "      <td>average</td>\n",
       "      <td>high</td>\n",
       "      <td>no</td>\n",
       "      <td>0.0096</td>\n",
       "      <td>0.0128</td>\n",
       "      <td>0.428571</td>\n",
       "    </tr>\n",
       "    <tr>\n",
       "      <th>24</th>\n",
       "      <td>rain</td>\n",
       "      <td>bad</td>\n",
       "      <td>normal</td>\n",
       "      <td>yes</td>\n",
       "      <td>0.0144</td>\n",
       "      <td>0.0064</td>\n",
       "      <td>0.692308</td>\n",
       "    </tr>\n",
       "    <tr>\n",
       "      <th>25</th>\n",
       "      <td>rain</td>\n",
       "      <td>bad</td>\n",
       "      <td>normal</td>\n",
       "      <td>no</td>\n",
       "      <td>0.0096</td>\n",
       "      <td>0.0256</td>\n",
       "      <td>0.272727</td>\n",
       "    </tr>\n",
       "    <tr>\n",
       "      <th>26</th>\n",
       "      <td>rain</td>\n",
       "      <td>bad</td>\n",
       "      <td>light</td>\n",
       "      <td>yes</td>\n",
       "      <td>0.0144</td>\n",
       "      <td>0.0064</td>\n",
       "      <td>0.692308</td>\n",
       "    </tr>\n",
       "    <tr>\n",
       "      <th>27</th>\n",
       "      <td>rain</td>\n",
       "      <td>bad</td>\n",
       "      <td>light</td>\n",
       "      <td>no</td>\n",
       "      <td>0.0096</td>\n",
       "      <td>0.0256</td>\n",
       "      <td>0.272727</td>\n",
       "    </tr>\n",
       "    <tr>\n",
       "      <th>28</th>\n",
       "      <td>rain</td>\n",
       "      <td>bad</td>\n",
       "      <td>high</td>\n",
       "      <td>yes</td>\n",
       "      <td>0.0432</td>\n",
       "      <td>0.0032</td>\n",
       "      <td>0.931034</td>\n",
       "    </tr>\n",
       "    <tr>\n",
       "      <th>29</th>\n",
       "      <td>rain</td>\n",
       "      <td>bad</td>\n",
       "      <td>high</td>\n",
       "      <td>no</td>\n",
       "      <td>0.0288</td>\n",
       "      <td>0.0128</td>\n",
       "      <td>0.692308</td>\n",
       "    </tr>\n",
       "    <tr>\n",
       "      <th>30</th>\n",
       "      <td>rain</td>\n",
       "      <td>good</td>\n",
       "      <td>normal</td>\n",
       "      <td>yes</td>\n",
       "      <td>0.0048</td>\n",
       "      <td>0.0192</td>\n",
       "      <td>0.200000</td>\n",
       "    </tr>\n",
       "    <tr>\n",
       "      <th>31</th>\n",
       "      <td>rain</td>\n",
       "      <td>good</td>\n",
       "      <td>normal</td>\n",
       "      <td>no</td>\n",
       "      <td>0.0032</td>\n",
       "      <td>0.0768</td>\n",
       "      <td>0.040000</td>\n",
       "    </tr>\n",
       "    <tr>\n",
       "      <th>32</th>\n",
       "      <td>rain</td>\n",
       "      <td>good</td>\n",
       "      <td>light</td>\n",
       "      <td>yes</td>\n",
       "      <td>0.0048</td>\n",
       "      <td>0.0192</td>\n",
       "      <td>0.200000</td>\n",
       "    </tr>\n",
       "    <tr>\n",
       "      <th>33</th>\n",
       "      <td>rain</td>\n",
       "      <td>good</td>\n",
       "      <td>light</td>\n",
       "      <td>no</td>\n",
       "      <td>0.0032</td>\n",
       "      <td>0.0768</td>\n",
       "      <td>0.040000</td>\n",
       "    </tr>\n",
       "    <tr>\n",
       "      <th>34</th>\n",
       "      <td>rain</td>\n",
       "      <td>good</td>\n",
       "      <td>high</td>\n",
       "      <td>yes</td>\n",
       "      <td>0.0144</td>\n",
       "      <td>0.0096</td>\n",
       "      <td>0.600000</td>\n",
       "    </tr>\n",
       "    <tr>\n",
       "      <th>35</th>\n",
       "      <td>rain</td>\n",
       "      <td>good</td>\n",
       "      <td>high</td>\n",
       "      <td>no</td>\n",
       "      <td>0.0096</td>\n",
       "      <td>0.0384</td>\n",
       "      <td>0.200000</td>\n",
       "    </tr>\n",
       "    <tr>\n",
       "      <th>36</th>\n",
       "      <td>snow</td>\n",
       "      <td>average</td>\n",
       "      <td>normal</td>\n",
       "      <td>yes</td>\n",
       "      <td>0.0096</td>\n",
       "      <td>0.0032</td>\n",
       "      <td>0.750000</td>\n",
       "    </tr>\n",
       "    <tr>\n",
       "      <th>37</th>\n",
       "      <td>snow</td>\n",
       "      <td>average</td>\n",
       "      <td>normal</td>\n",
       "      <td>no</td>\n",
       "      <td>0.0064</td>\n",
       "      <td>0.0128</td>\n",
       "      <td>0.333333</td>\n",
       "    </tr>\n",
       "    <tr>\n",
       "      <th>38</th>\n",
       "      <td>snow</td>\n",
       "      <td>average</td>\n",
       "      <td>light</td>\n",
       "      <td>yes</td>\n",
       "      <td>0.0096</td>\n",
       "      <td>0.0032</td>\n",
       "      <td>0.750000</td>\n",
       "    </tr>\n",
       "    <tr>\n",
       "      <th>39</th>\n",
       "      <td>snow</td>\n",
       "      <td>average</td>\n",
       "      <td>light</td>\n",
       "      <td>no</td>\n",
       "      <td>0.0064</td>\n",
       "      <td>0.0128</td>\n",
       "      <td>0.333333</td>\n",
       "    </tr>\n",
       "    <tr>\n",
       "      <th>40</th>\n",
       "      <td>snow</td>\n",
       "      <td>average</td>\n",
       "      <td>high</td>\n",
       "      <td>yes</td>\n",
       "      <td>0.0288</td>\n",
       "      <td>0.0016</td>\n",
       "      <td>0.947368</td>\n",
       "    </tr>\n",
       "    <tr>\n",
       "      <th>41</th>\n",
       "      <td>snow</td>\n",
       "      <td>average</td>\n",
       "      <td>high</td>\n",
       "      <td>no</td>\n",
       "      <td>0.0192</td>\n",
       "      <td>0.0064</td>\n",
       "      <td>0.750000</td>\n",
       "    </tr>\n",
       "    <tr>\n",
       "      <th>42</th>\n",
       "      <td>snow</td>\n",
       "      <td>bad</td>\n",
       "      <td>normal</td>\n",
       "      <td>yes</td>\n",
       "      <td>0.0288</td>\n",
       "      <td>0.0032</td>\n",
       "      <td>0.900000</td>\n",
       "    </tr>\n",
       "    <tr>\n",
       "      <th>43</th>\n",
       "      <td>snow</td>\n",
       "      <td>bad</td>\n",
       "      <td>normal</td>\n",
       "      <td>no</td>\n",
       "      <td>0.0192</td>\n",
       "      <td>0.0128</td>\n",
       "      <td>0.600000</td>\n",
       "    </tr>\n",
       "    <tr>\n",
       "      <th>44</th>\n",
       "      <td>snow</td>\n",
       "      <td>bad</td>\n",
       "      <td>light</td>\n",
       "      <td>yes</td>\n",
       "      <td>0.0288</td>\n",
       "      <td>0.0032</td>\n",
       "      <td>0.900000</td>\n",
       "    </tr>\n",
       "    <tr>\n",
       "      <th>45</th>\n",
       "      <td>snow</td>\n",
       "      <td>bad</td>\n",
       "      <td>light</td>\n",
       "      <td>no</td>\n",
       "      <td>0.0192</td>\n",
       "      <td>0.0128</td>\n",
       "      <td>0.600000</td>\n",
       "    </tr>\n",
       "    <tr>\n",
       "      <th>46</th>\n",
       "      <td>snow</td>\n",
       "      <td>bad</td>\n",
       "      <td>high</td>\n",
       "      <td>yes</td>\n",
       "      <td>0.0864</td>\n",
       "      <td>0.0016</td>\n",
       "      <td>0.981818</td>\n",
       "    </tr>\n",
       "    <tr>\n",
       "      <th>47</th>\n",
       "      <td>snow</td>\n",
       "      <td>bad</td>\n",
       "      <td>high</td>\n",
       "      <td>no</td>\n",
       "      <td>0.0576</td>\n",
       "      <td>0.0064</td>\n",
       "      <td>0.900000</td>\n",
       "    </tr>\n",
       "    <tr>\n",
       "      <th>48</th>\n",
       "      <td>snow</td>\n",
       "      <td>good</td>\n",
       "      <td>normal</td>\n",
       "      <td>yes</td>\n",
       "      <td>0.0096</td>\n",
       "      <td>0.0096</td>\n",
       "      <td>0.500000</td>\n",
       "    </tr>\n",
       "    <tr>\n",
       "      <th>49</th>\n",
       "      <td>snow</td>\n",
       "      <td>good</td>\n",
       "      <td>normal</td>\n",
       "      <td>no</td>\n",
       "      <td>0.0064</td>\n",
       "      <td>0.0384</td>\n",
       "      <td>0.142857</td>\n",
       "    </tr>\n",
       "    <tr>\n",
       "      <th>50</th>\n",
       "      <td>snow</td>\n",
       "      <td>good</td>\n",
       "      <td>light</td>\n",
       "      <td>yes</td>\n",
       "      <td>0.0096</td>\n",
       "      <td>0.0096</td>\n",
       "      <td>0.500000</td>\n",
       "    </tr>\n",
       "    <tr>\n",
       "      <th>51</th>\n",
       "      <td>snow</td>\n",
       "      <td>good</td>\n",
       "      <td>light</td>\n",
       "      <td>no</td>\n",
       "      <td>0.0064</td>\n",
       "      <td>0.0384</td>\n",
       "      <td>0.142857</td>\n",
       "    </tr>\n",
       "    <tr>\n",
       "      <th>52</th>\n",
       "      <td>snow</td>\n",
       "      <td>good</td>\n",
       "      <td>high</td>\n",
       "      <td>yes</td>\n",
       "      <td>0.0288</td>\n",
       "      <td>0.0048</td>\n",
       "      <td>0.857143</td>\n",
       "    </tr>\n",
       "    <tr>\n",
       "      <th>53</th>\n",
       "      <td>snow</td>\n",
       "      <td>good</td>\n",
       "      <td>high</td>\n",
       "      <td>no</td>\n",
       "      <td>0.0192</td>\n",
       "      <td>0.0192</td>\n",
       "      <td>0.500000</td>\n",
       "    </tr>\n",
       "  </tbody>\n",
       "</table>\n",
       "</div>"
      ],
      "text/plain": [
       "   WeatherCondition RoadCondition TrafficCondition EngineProblem       A   \n",
       "0             clear       average           normal           yes  0.0096  \\\n",
       "1             clear       average           normal            no  0.0064   \n",
       "2             clear       average            light           yes  0.0096   \n",
       "3             clear       average            light            no  0.0064   \n",
       "4             clear       average             high           yes  0.0288   \n",
       "5             clear       average             high            no  0.0192   \n",
       "6             clear           bad           normal           yes  0.0288   \n",
       "7             clear           bad           normal            no  0.0192   \n",
       "8             clear           bad            light           yes  0.0288   \n",
       "9             clear           bad            light            no  0.0192   \n",
       "10            clear           bad             high           yes  0.0864   \n",
       "11            clear           bad             high            no  0.0576   \n",
       "12            clear          good           normal           yes  0.0096   \n",
       "13            clear          good           normal            no  0.0064   \n",
       "14            clear          good            light           yes  0.0096   \n",
       "15            clear          good            light            no  0.0064   \n",
       "16            clear          good             high           yes  0.0288   \n",
       "17            clear          good             high            no  0.0192   \n",
       "18             rain       average           normal           yes  0.0048   \n",
       "19             rain       average           normal            no  0.0032   \n",
       "20             rain       average            light           yes  0.0048   \n",
       "21             rain       average            light            no  0.0032   \n",
       "22             rain       average             high           yes  0.0144   \n",
       "23             rain       average             high            no  0.0096   \n",
       "24             rain           bad           normal           yes  0.0144   \n",
       "25             rain           bad           normal            no  0.0096   \n",
       "26             rain           bad            light           yes  0.0144   \n",
       "27             rain           bad            light            no  0.0096   \n",
       "28             rain           bad             high           yes  0.0432   \n",
       "29             rain           bad             high            no  0.0288   \n",
       "30             rain          good           normal           yes  0.0048   \n",
       "31             rain          good           normal            no  0.0032   \n",
       "32             rain          good            light           yes  0.0048   \n",
       "33             rain          good            light            no  0.0032   \n",
       "34             rain          good             high           yes  0.0144   \n",
       "35             rain          good             high            no  0.0096   \n",
       "36             snow       average           normal           yes  0.0096   \n",
       "37             snow       average           normal            no  0.0064   \n",
       "38             snow       average            light           yes  0.0096   \n",
       "39             snow       average            light            no  0.0064   \n",
       "40             snow       average             high           yes  0.0288   \n",
       "41             snow       average             high            no  0.0192   \n",
       "42             snow           bad           normal           yes  0.0288   \n",
       "43             snow           bad           normal            no  0.0192   \n",
       "44             snow           bad            light           yes  0.0288   \n",
       "45             snow           bad            light            no  0.0192   \n",
       "46             snow           bad             high           yes  0.0864   \n",
       "47             snow           bad             high            no  0.0576   \n",
       "48             snow          good           normal           yes  0.0096   \n",
       "49             snow          good           normal            no  0.0064   \n",
       "50             snow          good            light           yes  0.0096   \n",
       "51             snow          good            light            no  0.0064   \n",
       "52             snow          good             high           yes  0.0288   \n",
       "53             snow          good             high            no  0.0192   \n",
       "\n",
       "         B      Prob  \n",
       "0   0.0064  0.600000  \n",
       "1   0.0256  0.200000  \n",
       "2   0.0064  0.600000  \n",
       "3   0.0256  0.200000  \n",
       "4   0.0032  0.900000  \n",
       "5   0.0128  0.600000  \n",
       "6   0.0064  0.818182  \n",
       "7   0.0256  0.428571  \n",
       "8   0.0064  0.818182  \n",
       "9   0.0256  0.428571  \n",
       "10  0.0032  0.964286  \n",
       "11  0.0128  0.818182  \n",
       "12  0.0192  0.333333  \n",
       "13  0.0768  0.076923  \n",
       "14  0.0192  0.333333  \n",
       "15  0.0768  0.076923  \n",
       "16  0.0096  0.750000  \n",
       "17  0.0384  0.333333  \n",
       "18  0.0064  0.428571  \n",
       "19  0.0256  0.111111  \n",
       "20  0.0064  0.428571  \n",
       "21  0.0256  0.111111  \n",
       "22  0.0032  0.818182  \n",
       "23  0.0128  0.428571  \n",
       "24  0.0064  0.692308  \n",
       "25  0.0256  0.272727  \n",
       "26  0.0064  0.692308  \n",
       "27  0.0256  0.272727  \n",
       "28  0.0032  0.931034  \n",
       "29  0.0128  0.692308  \n",
       "30  0.0192  0.200000  \n",
       "31  0.0768  0.040000  \n",
       "32  0.0192  0.200000  \n",
       "33  0.0768  0.040000  \n",
       "34  0.0096  0.600000  \n",
       "35  0.0384  0.200000  \n",
       "36  0.0032  0.750000  \n",
       "37  0.0128  0.333333  \n",
       "38  0.0032  0.750000  \n",
       "39  0.0128  0.333333  \n",
       "40  0.0016  0.947368  \n",
       "41  0.0064  0.750000  \n",
       "42  0.0032  0.900000  \n",
       "43  0.0128  0.600000  \n",
       "44  0.0032  0.900000  \n",
       "45  0.0128  0.600000  \n",
       "46  0.0016  0.981818  \n",
       "47  0.0064  0.900000  \n",
       "48  0.0096  0.500000  \n",
       "49  0.0384  0.142857  \n",
       "50  0.0096  0.500000  \n",
       "51  0.0384  0.142857  \n",
       "52  0.0048  0.857143  \n",
       "53  0.0192  0.500000  "
      ]
     },
     "execution_count": 237,
     "metadata": {},
     "output_type": "execute_result"
    }
   ],
   "source": [
    "df2 = pd.DataFrame([[w,r,t,e,dct[w,'yes']*dct[r,'yes']*dct[t,'yes']*dct[e,'yes'],dct[w,'no']*dct[r,'no']*dct[t,'no']*dct[e,'no']] for w in W for r in R for t in T for e in E])\n",
    "df2.columns = pd.Index(['WeatherCondition','RoadCondition','TrafficCondition','EngineProblem','A','B'])\n",
    "df2.eval('Prob = A/(A+B)')"
   ]
  },
  {
   "cell_type": "markdown",
   "id": "4e4c1a6c-45b7-4eba-a04d-feeb09e99105",
   "metadata": {},
   "source": [
    "`(풀이2)` -- 좀 더 일반적인 풀이 "
   ]
  },
  {
   "cell_type": "code",
   "execution_count": 306,
   "id": "df91c516-3622-4b84-8e1b-64918227b931",
   "metadata": {},
   "outputs": [],
   "source": [
    "import itertools\n",
    "lst = []\n",
    "for cond_details in itertools.product(*[set(df[col_name]) for col_name in cond]):\n",
    "    A=1;\n",
    "    B=1;\n",
    "    for c in cond_details:\n",
    "        A = A*dct[c,'yes']\n",
    "        B = B*dct[c,'no']\n",
    "    lst.append([*combination,A,B,A/(A+B)])"
   ]
  },
  {
   "cell_type": "code",
   "execution_count": 307,
   "id": "1b48a439-dcd9-4f7a-911d-fdd067ffe778",
   "metadata": {},
   "outputs": [
    {
     "data": {
      "text/html": [
       "<div>\n",
       "<style scoped>\n",
       "    .dataframe tbody tr th:only-of-type {\n",
       "        vertical-align: middle;\n",
       "    }\n",
       "\n",
       "    .dataframe tbody tr th {\n",
       "        vertical-align: top;\n",
       "    }\n",
       "\n",
       "    .dataframe thead th {\n",
       "        text-align: right;\n",
       "    }\n",
       "</style>\n",
       "<table border=\"1\" class=\"dataframe\">\n",
       "  <thead>\n",
       "    <tr style=\"text-align: right;\">\n",
       "      <th></th>\n",
       "      <th>WeatherCondition</th>\n",
       "      <th>RoadCondition</th>\n",
       "      <th>TrafficCondition</th>\n",
       "      <th>EngineProblem</th>\n",
       "      <th>A</th>\n",
       "      <th>B</th>\n",
       "      <th>Prob</th>\n",
       "    </tr>\n",
       "  </thead>\n",
       "  <tbody>\n",
       "    <tr>\n",
       "      <th>0</th>\n",
       "      <td>snow</td>\n",
       "      <td>good</td>\n",
       "      <td>high</td>\n",
       "      <td>no</td>\n",
       "      <td>0.0096</td>\n",
       "      <td>0.0064</td>\n",
       "      <td>0.600000</td>\n",
       "    </tr>\n",
       "    <tr>\n",
       "      <th>1</th>\n",
       "      <td>snow</td>\n",
       "      <td>good</td>\n",
       "      <td>high</td>\n",
       "      <td>no</td>\n",
       "      <td>0.0064</td>\n",
       "      <td>0.0256</td>\n",
       "      <td>0.200000</td>\n",
       "    </tr>\n",
       "    <tr>\n",
       "      <th>2</th>\n",
       "      <td>snow</td>\n",
       "      <td>good</td>\n",
       "      <td>high</td>\n",
       "      <td>no</td>\n",
       "      <td>0.0096</td>\n",
       "      <td>0.0064</td>\n",
       "      <td>0.600000</td>\n",
       "    </tr>\n",
       "    <tr>\n",
       "      <th>3</th>\n",
       "      <td>snow</td>\n",
       "      <td>good</td>\n",
       "      <td>high</td>\n",
       "      <td>no</td>\n",
       "      <td>0.0064</td>\n",
       "      <td>0.0256</td>\n",
       "      <td>0.200000</td>\n",
       "    </tr>\n",
       "    <tr>\n",
       "      <th>4</th>\n",
       "      <td>snow</td>\n",
       "      <td>good</td>\n",
       "      <td>high</td>\n",
       "      <td>no</td>\n",
       "      <td>0.0288</td>\n",
       "      <td>0.0032</td>\n",
       "      <td>0.900000</td>\n",
       "    </tr>\n",
       "    <tr>\n",
       "      <th>5</th>\n",
       "      <td>snow</td>\n",
       "      <td>good</td>\n",
       "      <td>high</td>\n",
       "      <td>no</td>\n",
       "      <td>0.0192</td>\n",
       "      <td>0.0128</td>\n",
       "      <td>0.600000</td>\n",
       "    </tr>\n",
       "    <tr>\n",
       "      <th>6</th>\n",
       "      <td>snow</td>\n",
       "      <td>good</td>\n",
       "      <td>high</td>\n",
       "      <td>no</td>\n",
       "      <td>0.0288</td>\n",
       "      <td>0.0064</td>\n",
       "      <td>0.818182</td>\n",
       "    </tr>\n",
       "    <tr>\n",
       "      <th>7</th>\n",
       "      <td>snow</td>\n",
       "      <td>good</td>\n",
       "      <td>high</td>\n",
       "      <td>no</td>\n",
       "      <td>0.0192</td>\n",
       "      <td>0.0256</td>\n",
       "      <td>0.428571</td>\n",
       "    </tr>\n",
       "    <tr>\n",
       "      <th>8</th>\n",
       "      <td>snow</td>\n",
       "      <td>good</td>\n",
       "      <td>high</td>\n",
       "      <td>no</td>\n",
       "      <td>0.0288</td>\n",
       "      <td>0.0064</td>\n",
       "      <td>0.818182</td>\n",
       "    </tr>\n",
       "    <tr>\n",
       "      <th>9</th>\n",
       "      <td>snow</td>\n",
       "      <td>good</td>\n",
       "      <td>high</td>\n",
       "      <td>no</td>\n",
       "      <td>0.0192</td>\n",
       "      <td>0.0256</td>\n",
       "      <td>0.428571</td>\n",
       "    </tr>\n",
       "    <tr>\n",
       "      <th>10</th>\n",
       "      <td>snow</td>\n",
       "      <td>good</td>\n",
       "      <td>high</td>\n",
       "      <td>no</td>\n",
       "      <td>0.0864</td>\n",
       "      <td>0.0032</td>\n",
       "      <td>0.964286</td>\n",
       "    </tr>\n",
       "    <tr>\n",
       "      <th>11</th>\n",
       "      <td>snow</td>\n",
       "      <td>good</td>\n",
       "      <td>high</td>\n",
       "      <td>no</td>\n",
       "      <td>0.0576</td>\n",
       "      <td>0.0128</td>\n",
       "      <td>0.818182</td>\n",
       "    </tr>\n",
       "    <tr>\n",
       "      <th>12</th>\n",
       "      <td>snow</td>\n",
       "      <td>good</td>\n",
       "      <td>high</td>\n",
       "      <td>no</td>\n",
       "      <td>0.0096</td>\n",
       "      <td>0.0192</td>\n",
       "      <td>0.333333</td>\n",
       "    </tr>\n",
       "    <tr>\n",
       "      <th>13</th>\n",
       "      <td>snow</td>\n",
       "      <td>good</td>\n",
       "      <td>high</td>\n",
       "      <td>no</td>\n",
       "      <td>0.0064</td>\n",
       "      <td>0.0768</td>\n",
       "      <td>0.076923</td>\n",
       "    </tr>\n",
       "    <tr>\n",
       "      <th>14</th>\n",
       "      <td>snow</td>\n",
       "      <td>good</td>\n",
       "      <td>high</td>\n",
       "      <td>no</td>\n",
       "      <td>0.0096</td>\n",
       "      <td>0.0192</td>\n",
       "      <td>0.333333</td>\n",
       "    </tr>\n",
       "    <tr>\n",
       "      <th>15</th>\n",
       "      <td>snow</td>\n",
       "      <td>good</td>\n",
       "      <td>high</td>\n",
       "      <td>no</td>\n",
       "      <td>0.0064</td>\n",
       "      <td>0.0768</td>\n",
       "      <td>0.076923</td>\n",
       "    </tr>\n",
       "    <tr>\n",
       "      <th>16</th>\n",
       "      <td>snow</td>\n",
       "      <td>good</td>\n",
       "      <td>high</td>\n",
       "      <td>no</td>\n",
       "      <td>0.0288</td>\n",
       "      <td>0.0096</td>\n",
       "      <td>0.750000</td>\n",
       "    </tr>\n",
       "    <tr>\n",
       "      <th>17</th>\n",
       "      <td>snow</td>\n",
       "      <td>good</td>\n",
       "      <td>high</td>\n",
       "      <td>no</td>\n",
       "      <td>0.0192</td>\n",
       "      <td>0.0384</td>\n",
       "      <td>0.333333</td>\n",
       "    </tr>\n",
       "    <tr>\n",
       "      <th>18</th>\n",
       "      <td>snow</td>\n",
       "      <td>good</td>\n",
       "      <td>high</td>\n",
       "      <td>no</td>\n",
       "      <td>0.0048</td>\n",
       "      <td>0.0064</td>\n",
       "      <td>0.428571</td>\n",
       "    </tr>\n",
       "    <tr>\n",
       "      <th>19</th>\n",
       "      <td>snow</td>\n",
       "      <td>good</td>\n",
       "      <td>high</td>\n",
       "      <td>no</td>\n",
       "      <td>0.0032</td>\n",
       "      <td>0.0256</td>\n",
       "      <td>0.111111</td>\n",
       "    </tr>\n",
       "    <tr>\n",
       "      <th>20</th>\n",
       "      <td>snow</td>\n",
       "      <td>good</td>\n",
       "      <td>high</td>\n",
       "      <td>no</td>\n",
       "      <td>0.0048</td>\n",
       "      <td>0.0064</td>\n",
       "      <td>0.428571</td>\n",
       "    </tr>\n",
       "    <tr>\n",
       "      <th>21</th>\n",
       "      <td>snow</td>\n",
       "      <td>good</td>\n",
       "      <td>high</td>\n",
       "      <td>no</td>\n",
       "      <td>0.0032</td>\n",
       "      <td>0.0256</td>\n",
       "      <td>0.111111</td>\n",
       "    </tr>\n",
       "    <tr>\n",
       "      <th>22</th>\n",
       "      <td>snow</td>\n",
       "      <td>good</td>\n",
       "      <td>high</td>\n",
       "      <td>no</td>\n",
       "      <td>0.0144</td>\n",
       "      <td>0.0032</td>\n",
       "      <td>0.818182</td>\n",
       "    </tr>\n",
       "    <tr>\n",
       "      <th>23</th>\n",
       "      <td>snow</td>\n",
       "      <td>good</td>\n",
       "      <td>high</td>\n",
       "      <td>no</td>\n",
       "      <td>0.0096</td>\n",
       "      <td>0.0128</td>\n",
       "      <td>0.428571</td>\n",
       "    </tr>\n",
       "    <tr>\n",
       "      <th>24</th>\n",
       "      <td>snow</td>\n",
       "      <td>good</td>\n",
       "      <td>high</td>\n",
       "      <td>no</td>\n",
       "      <td>0.0144</td>\n",
       "      <td>0.0064</td>\n",
       "      <td>0.692308</td>\n",
       "    </tr>\n",
       "    <tr>\n",
       "      <th>25</th>\n",
       "      <td>snow</td>\n",
       "      <td>good</td>\n",
       "      <td>high</td>\n",
       "      <td>no</td>\n",
       "      <td>0.0096</td>\n",
       "      <td>0.0256</td>\n",
       "      <td>0.272727</td>\n",
       "    </tr>\n",
       "    <tr>\n",
       "      <th>26</th>\n",
       "      <td>snow</td>\n",
       "      <td>good</td>\n",
       "      <td>high</td>\n",
       "      <td>no</td>\n",
       "      <td>0.0144</td>\n",
       "      <td>0.0064</td>\n",
       "      <td>0.692308</td>\n",
       "    </tr>\n",
       "    <tr>\n",
       "      <th>27</th>\n",
       "      <td>snow</td>\n",
       "      <td>good</td>\n",
       "      <td>high</td>\n",
       "      <td>no</td>\n",
       "      <td>0.0096</td>\n",
       "      <td>0.0256</td>\n",
       "      <td>0.272727</td>\n",
       "    </tr>\n",
       "    <tr>\n",
       "      <th>28</th>\n",
       "      <td>snow</td>\n",
       "      <td>good</td>\n",
       "      <td>high</td>\n",
       "      <td>no</td>\n",
       "      <td>0.0432</td>\n",
       "      <td>0.0032</td>\n",
       "      <td>0.931034</td>\n",
       "    </tr>\n",
       "    <tr>\n",
       "      <th>29</th>\n",
       "      <td>snow</td>\n",
       "      <td>good</td>\n",
       "      <td>high</td>\n",
       "      <td>no</td>\n",
       "      <td>0.0288</td>\n",
       "      <td>0.0128</td>\n",
       "      <td>0.692308</td>\n",
       "    </tr>\n",
       "    <tr>\n",
       "      <th>30</th>\n",
       "      <td>snow</td>\n",
       "      <td>good</td>\n",
       "      <td>high</td>\n",
       "      <td>no</td>\n",
       "      <td>0.0048</td>\n",
       "      <td>0.0192</td>\n",
       "      <td>0.200000</td>\n",
       "    </tr>\n",
       "    <tr>\n",
       "      <th>31</th>\n",
       "      <td>snow</td>\n",
       "      <td>good</td>\n",
       "      <td>high</td>\n",
       "      <td>no</td>\n",
       "      <td>0.0032</td>\n",
       "      <td>0.0768</td>\n",
       "      <td>0.040000</td>\n",
       "    </tr>\n",
       "    <tr>\n",
       "      <th>32</th>\n",
       "      <td>snow</td>\n",
       "      <td>good</td>\n",
       "      <td>high</td>\n",
       "      <td>no</td>\n",
       "      <td>0.0048</td>\n",
       "      <td>0.0192</td>\n",
       "      <td>0.200000</td>\n",
       "    </tr>\n",
       "    <tr>\n",
       "      <th>33</th>\n",
       "      <td>snow</td>\n",
       "      <td>good</td>\n",
       "      <td>high</td>\n",
       "      <td>no</td>\n",
       "      <td>0.0032</td>\n",
       "      <td>0.0768</td>\n",
       "      <td>0.040000</td>\n",
       "    </tr>\n",
       "    <tr>\n",
       "      <th>34</th>\n",
       "      <td>snow</td>\n",
       "      <td>good</td>\n",
       "      <td>high</td>\n",
       "      <td>no</td>\n",
       "      <td>0.0144</td>\n",
       "      <td>0.0096</td>\n",
       "      <td>0.600000</td>\n",
       "    </tr>\n",
       "    <tr>\n",
       "      <th>35</th>\n",
       "      <td>snow</td>\n",
       "      <td>good</td>\n",
       "      <td>high</td>\n",
       "      <td>no</td>\n",
       "      <td>0.0096</td>\n",
       "      <td>0.0384</td>\n",
       "      <td>0.200000</td>\n",
       "    </tr>\n",
       "    <tr>\n",
       "      <th>36</th>\n",
       "      <td>snow</td>\n",
       "      <td>good</td>\n",
       "      <td>high</td>\n",
       "      <td>no</td>\n",
       "      <td>0.0096</td>\n",
       "      <td>0.0032</td>\n",
       "      <td>0.750000</td>\n",
       "    </tr>\n",
       "    <tr>\n",
       "      <th>37</th>\n",
       "      <td>snow</td>\n",
       "      <td>good</td>\n",
       "      <td>high</td>\n",
       "      <td>no</td>\n",
       "      <td>0.0064</td>\n",
       "      <td>0.0128</td>\n",
       "      <td>0.333333</td>\n",
       "    </tr>\n",
       "    <tr>\n",
       "      <th>38</th>\n",
       "      <td>snow</td>\n",
       "      <td>good</td>\n",
       "      <td>high</td>\n",
       "      <td>no</td>\n",
       "      <td>0.0096</td>\n",
       "      <td>0.0032</td>\n",
       "      <td>0.750000</td>\n",
       "    </tr>\n",
       "    <tr>\n",
       "      <th>39</th>\n",
       "      <td>snow</td>\n",
       "      <td>good</td>\n",
       "      <td>high</td>\n",
       "      <td>no</td>\n",
       "      <td>0.0064</td>\n",
       "      <td>0.0128</td>\n",
       "      <td>0.333333</td>\n",
       "    </tr>\n",
       "    <tr>\n",
       "      <th>40</th>\n",
       "      <td>snow</td>\n",
       "      <td>good</td>\n",
       "      <td>high</td>\n",
       "      <td>no</td>\n",
       "      <td>0.0288</td>\n",
       "      <td>0.0016</td>\n",
       "      <td>0.947368</td>\n",
       "    </tr>\n",
       "    <tr>\n",
       "      <th>41</th>\n",
       "      <td>snow</td>\n",
       "      <td>good</td>\n",
       "      <td>high</td>\n",
       "      <td>no</td>\n",
       "      <td>0.0192</td>\n",
       "      <td>0.0064</td>\n",
       "      <td>0.750000</td>\n",
       "    </tr>\n",
       "    <tr>\n",
       "      <th>42</th>\n",
       "      <td>snow</td>\n",
       "      <td>good</td>\n",
       "      <td>high</td>\n",
       "      <td>no</td>\n",
       "      <td>0.0288</td>\n",
       "      <td>0.0032</td>\n",
       "      <td>0.900000</td>\n",
       "    </tr>\n",
       "    <tr>\n",
       "      <th>43</th>\n",
       "      <td>snow</td>\n",
       "      <td>good</td>\n",
       "      <td>high</td>\n",
       "      <td>no</td>\n",
       "      <td>0.0192</td>\n",
       "      <td>0.0128</td>\n",
       "      <td>0.600000</td>\n",
       "    </tr>\n",
       "    <tr>\n",
       "      <th>44</th>\n",
       "      <td>snow</td>\n",
       "      <td>good</td>\n",
       "      <td>high</td>\n",
       "      <td>no</td>\n",
       "      <td>0.0288</td>\n",
       "      <td>0.0032</td>\n",
       "      <td>0.900000</td>\n",
       "    </tr>\n",
       "    <tr>\n",
       "      <th>45</th>\n",
       "      <td>snow</td>\n",
       "      <td>good</td>\n",
       "      <td>high</td>\n",
       "      <td>no</td>\n",
       "      <td>0.0192</td>\n",
       "      <td>0.0128</td>\n",
       "      <td>0.600000</td>\n",
       "    </tr>\n",
       "    <tr>\n",
       "      <th>46</th>\n",
       "      <td>snow</td>\n",
       "      <td>good</td>\n",
       "      <td>high</td>\n",
       "      <td>no</td>\n",
       "      <td>0.0864</td>\n",
       "      <td>0.0016</td>\n",
       "      <td>0.981818</td>\n",
       "    </tr>\n",
       "    <tr>\n",
       "      <th>47</th>\n",
       "      <td>snow</td>\n",
       "      <td>good</td>\n",
       "      <td>high</td>\n",
       "      <td>no</td>\n",
       "      <td>0.0576</td>\n",
       "      <td>0.0064</td>\n",
       "      <td>0.900000</td>\n",
       "    </tr>\n",
       "    <tr>\n",
       "      <th>48</th>\n",
       "      <td>snow</td>\n",
       "      <td>good</td>\n",
       "      <td>high</td>\n",
       "      <td>no</td>\n",
       "      <td>0.0096</td>\n",
       "      <td>0.0096</td>\n",
       "      <td>0.500000</td>\n",
       "    </tr>\n",
       "    <tr>\n",
       "      <th>49</th>\n",
       "      <td>snow</td>\n",
       "      <td>good</td>\n",
       "      <td>high</td>\n",
       "      <td>no</td>\n",
       "      <td>0.0064</td>\n",
       "      <td>0.0384</td>\n",
       "      <td>0.142857</td>\n",
       "    </tr>\n",
       "    <tr>\n",
       "      <th>50</th>\n",
       "      <td>snow</td>\n",
       "      <td>good</td>\n",
       "      <td>high</td>\n",
       "      <td>no</td>\n",
       "      <td>0.0096</td>\n",
       "      <td>0.0096</td>\n",
       "      <td>0.500000</td>\n",
       "    </tr>\n",
       "    <tr>\n",
       "      <th>51</th>\n",
       "      <td>snow</td>\n",
       "      <td>good</td>\n",
       "      <td>high</td>\n",
       "      <td>no</td>\n",
       "      <td>0.0064</td>\n",
       "      <td>0.0384</td>\n",
       "      <td>0.142857</td>\n",
       "    </tr>\n",
       "    <tr>\n",
       "      <th>52</th>\n",
       "      <td>snow</td>\n",
       "      <td>good</td>\n",
       "      <td>high</td>\n",
       "      <td>no</td>\n",
       "      <td>0.0288</td>\n",
       "      <td>0.0048</td>\n",
       "      <td>0.857143</td>\n",
       "    </tr>\n",
       "    <tr>\n",
       "      <th>53</th>\n",
       "      <td>snow</td>\n",
       "      <td>good</td>\n",
       "      <td>high</td>\n",
       "      <td>no</td>\n",
       "      <td>0.0192</td>\n",
       "      <td>0.0192</td>\n",
       "      <td>0.500000</td>\n",
       "    </tr>\n",
       "  </tbody>\n",
       "</table>\n",
       "</div>"
      ],
      "text/plain": [
       "   WeatherCondition RoadCondition TrafficCondition EngineProblem       A   \n",
       "0              snow          good             high            no  0.0096  \\\n",
       "1              snow          good             high            no  0.0064   \n",
       "2              snow          good             high            no  0.0096   \n",
       "3              snow          good             high            no  0.0064   \n",
       "4              snow          good             high            no  0.0288   \n",
       "5              snow          good             high            no  0.0192   \n",
       "6              snow          good             high            no  0.0288   \n",
       "7              snow          good             high            no  0.0192   \n",
       "8              snow          good             high            no  0.0288   \n",
       "9              snow          good             high            no  0.0192   \n",
       "10             snow          good             high            no  0.0864   \n",
       "11             snow          good             high            no  0.0576   \n",
       "12             snow          good             high            no  0.0096   \n",
       "13             snow          good             high            no  0.0064   \n",
       "14             snow          good             high            no  0.0096   \n",
       "15             snow          good             high            no  0.0064   \n",
       "16             snow          good             high            no  0.0288   \n",
       "17             snow          good             high            no  0.0192   \n",
       "18             snow          good             high            no  0.0048   \n",
       "19             snow          good             high            no  0.0032   \n",
       "20             snow          good             high            no  0.0048   \n",
       "21             snow          good             high            no  0.0032   \n",
       "22             snow          good             high            no  0.0144   \n",
       "23             snow          good             high            no  0.0096   \n",
       "24             snow          good             high            no  0.0144   \n",
       "25             snow          good             high            no  0.0096   \n",
       "26             snow          good             high            no  0.0144   \n",
       "27             snow          good             high            no  0.0096   \n",
       "28             snow          good             high            no  0.0432   \n",
       "29             snow          good             high            no  0.0288   \n",
       "30             snow          good             high            no  0.0048   \n",
       "31             snow          good             high            no  0.0032   \n",
       "32             snow          good             high            no  0.0048   \n",
       "33             snow          good             high            no  0.0032   \n",
       "34             snow          good             high            no  0.0144   \n",
       "35             snow          good             high            no  0.0096   \n",
       "36             snow          good             high            no  0.0096   \n",
       "37             snow          good             high            no  0.0064   \n",
       "38             snow          good             high            no  0.0096   \n",
       "39             snow          good             high            no  0.0064   \n",
       "40             snow          good             high            no  0.0288   \n",
       "41             snow          good             high            no  0.0192   \n",
       "42             snow          good             high            no  0.0288   \n",
       "43             snow          good             high            no  0.0192   \n",
       "44             snow          good             high            no  0.0288   \n",
       "45             snow          good             high            no  0.0192   \n",
       "46             snow          good             high            no  0.0864   \n",
       "47             snow          good             high            no  0.0576   \n",
       "48             snow          good             high            no  0.0096   \n",
       "49             snow          good             high            no  0.0064   \n",
       "50             snow          good             high            no  0.0096   \n",
       "51             snow          good             high            no  0.0064   \n",
       "52             snow          good             high            no  0.0288   \n",
       "53             snow          good             high            no  0.0192   \n",
       "\n",
       "         B      Prob  \n",
       "0   0.0064  0.600000  \n",
       "1   0.0256  0.200000  \n",
       "2   0.0064  0.600000  \n",
       "3   0.0256  0.200000  \n",
       "4   0.0032  0.900000  \n",
       "5   0.0128  0.600000  \n",
       "6   0.0064  0.818182  \n",
       "7   0.0256  0.428571  \n",
       "8   0.0064  0.818182  \n",
       "9   0.0256  0.428571  \n",
       "10  0.0032  0.964286  \n",
       "11  0.0128  0.818182  \n",
       "12  0.0192  0.333333  \n",
       "13  0.0768  0.076923  \n",
       "14  0.0192  0.333333  \n",
       "15  0.0768  0.076923  \n",
       "16  0.0096  0.750000  \n",
       "17  0.0384  0.333333  \n",
       "18  0.0064  0.428571  \n",
       "19  0.0256  0.111111  \n",
       "20  0.0064  0.428571  \n",
       "21  0.0256  0.111111  \n",
       "22  0.0032  0.818182  \n",
       "23  0.0128  0.428571  \n",
       "24  0.0064  0.692308  \n",
       "25  0.0256  0.272727  \n",
       "26  0.0064  0.692308  \n",
       "27  0.0256  0.272727  \n",
       "28  0.0032  0.931034  \n",
       "29  0.0128  0.692308  \n",
       "30  0.0192  0.200000  \n",
       "31  0.0768  0.040000  \n",
       "32  0.0192  0.200000  \n",
       "33  0.0768  0.040000  \n",
       "34  0.0096  0.600000  \n",
       "35  0.0384  0.200000  \n",
       "36  0.0032  0.750000  \n",
       "37  0.0128  0.333333  \n",
       "38  0.0032  0.750000  \n",
       "39  0.0128  0.333333  \n",
       "40  0.0016  0.947368  \n",
       "41  0.0064  0.750000  \n",
       "42  0.0032  0.900000  \n",
       "43  0.0128  0.600000  \n",
       "44  0.0032  0.900000  \n",
       "45  0.0128  0.600000  \n",
       "46  0.0016  0.981818  \n",
       "47  0.0064  0.900000  \n",
       "48  0.0096  0.500000  \n",
       "49  0.0384  0.142857  \n",
       "50  0.0096  0.500000  \n",
       "51  0.0384  0.142857  \n",
       "52  0.0048  0.857143  \n",
       "53  0.0192  0.500000  "
      ]
     },
     "execution_count": 307,
     "metadata": {},
     "output_type": "execute_result"
    }
   ],
   "source": [
    "df2 = pd.DataFrame(lst)\n",
    "df2.columns = pd.Index(['WeatherCondition','RoadCondition','TrafficCondition','EngineProblem','A','B','Prob'])\n",
    "df2"
   ]
  }
 ],
 "metadata": {
  "kernelspec": {
   "display_name": "Python 3",
   "language": "python",
   "name": "python3"
  },
  "language_info": {
   "codemirror_mode": {
    "name": "ipython",
    "version": 3
   },
   "file_extension": ".py",
   "mimetype": "text/x-python",
   "name": "python",
   "nbconvert_exporter": "python",
   "pygments_lexer": "ipython3",
   "version": "3.8.16"
  }
 },
 "nbformat": 4,
 "nbformat_minor": 5
}
