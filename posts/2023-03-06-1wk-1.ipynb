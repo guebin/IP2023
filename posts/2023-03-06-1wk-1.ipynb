{
 "cells": [
  {
   "cell_type": "raw",
   "id": "6337cdb8-9ee3-4e56-b8fc-96cfb7fbcd4f",
   "metadata": {},
   "source": [
    "---\n",
    "title: \"01wk-1: 강의소개\"\n",
    "author: \"최규빈\"\n",
    "date: \"03/06/2023\"\n",
    "---"
   ]
  },
  {
   "cell_type": "markdown",
   "id": "08887f35-bc3e-4f26-8fae-537b39dc6297",
   "metadata": {},
   "source": [
    "# 이 수업을 들어야 하는 이유"
   ]
  },
  {
   "cell_type": "markdown",
   "id": "0c2656e0-be1c-47c7-83da-06ffc83d82ca",
   "metadata": {},
   "source": [
    "생략"
   ]
  },
  {
   "cell_type": "markdown",
   "id": "5ab823ca-c6de-446c-a3b1-68898be40cf5",
   "metadata": {},
   "source": [
    "---"
   ]
  },
  {
   "cell_type": "markdown",
   "id": "502516ed-d947-42af-b040-5229d1c0893e",
   "metadata": {
    "slideshow": {
     "slide_type": "slide"
    }
   },
   "source": [
    "# 이 수업을 듣지 말아야 하는 이유 "
   ]
  },
  {
   "cell_type": "markdown",
   "id": "78bb6130-fdeb-4637-930d-110ce66176e0",
   "metadata": {
    "slideshow": {
     "slide_type": "slide"
    }
   },
   "source": [
    "`1`. F학점을 많이 준다. \n",
    "\n",
    "- 30%까지 F를 줄 수 있음. \n",
    "- F학점은 태도점수+시험성적을 종합하여 부여함 (태도점수로만 부여하지 않음) "
   ]
  },
  {
   "cell_type": "markdown",
   "id": "d8ff3abe-8bcc-49db-91ee-e5839851c10a",
   "metadata": {
    "slideshow": {
     "slide_type": "slide"
    }
   },
   "source": [
    "`2`. 파이썬을 배울 수 있는 다른 대안이 많다. \n",
    "\n",
    "- [ChatGPT](https://chat.openai.com)\n",
    "- 패스트캠퍼스 \n",
    "- 학원\n",
    "- 각종 캠프 "
   ]
  },
  {
   "cell_type": "markdown",
   "id": "e7fe9eb9-123e-4601-959a-8e69ed702fa8",
   "metadata": {
    "slideshow": {
     "slide_type": "slide"
    }
   },
   "source": [
    "`3`. cost-effective 하지 않음 \n",
    "\n",
    "- 열심히 공부해도 시험성적이 안 좋을 수 있음. $\\to$ 학점도 안좋아짐 \n",
    "- 왜? (1) 타전공 고수들이 많음 (2) 시험문제가 어려움 (3) 기출문제가 별 의미없음 (4) 적성에 안 맞음"
   ]
  },
  {
   "cell_type": "markdown",
   "id": "c7e2d50e-5502-4edb-a74d-fe0811de6290",
   "metadata": {
    "slideshow": {
     "slide_type": "slide"
    }
   },
   "source": [
    "`4`. 꼭 파이썬을 배워야 할까?\n",
    "\n",
    "***이거 꼭 들어야 졸업가능? --> 파이썬을 못하면 선택의 폭이 좁아지긴 하지만 졸업불가능한 정도는 아님*** \n",
    "\n",
    "- <https://stat.jbnu.ac.kr/stat/6453/subview.do>"
   ]
  },
  {
   "cell_type": "markdown",
   "id": "91f1f644-c4e6-42c7-bde2-29a244da7bea",
   "metadata": {
    "slideshow": {
     "slide_type": "slide"
    }
   },
   "source": [
    "***파이썬 못하면 굶어죽을까? --> 몇몇 진로에서는 파이썬이 필요함. 그런데 다 그런건 아님***\n",
    "\n",
    "*통계학과 졸업생이 갈 수 있는 진로들*\n",
    "\n",
    "- 의약계열: 전북대병원, XX병원, XX제약, 셀트리온, 삼성바이오  \n",
    "- 금융계열: 전북은행, XX은행, XX증권, XX화재 \n",
    "- 공무원,공기업: 통계청, 9급공무원, 국민연금 등 \n",
    "- 기타 대기업: 삼성전자 (인사과)... \n",
    "- 국책연구기관: 에트리, 한국교통연구원 등 \n",
    "- 금융공기업: 한국은행, 금융감독원, 한국거래소 등 \n",
    "- 제조업: 삼성전자, 하이닉스, LG전자, 현대자동차 등 (스마트팩토리)\n",
    "- 통신사: SKT, KT, LGU\n",
    "- 컨설팅: 베가스, 삼성SDS, LG-CNS 등 \n",
    "- 게임회사: 엔씨, 넷마블, 위메이드 등 \n",
    "- 인공지능, 빅데이터: 네이버, 카카오, 라인, 쿠팡, 배민(?), SKT, 삼성, LG, ... \n",
    "- 순수IT: "
   ]
  },
  {
   "cell_type": "markdown",
   "id": "4ace809c-2fc8-4653-8027-08decbe20256",
   "metadata": {},
   "source": [
    "---"
   ]
  },
  {
   "cell_type": "markdown",
   "id": "d29fa374-7bc8-4187-b224-30bb16701c32",
   "metadata": {
    "slideshow": {
     "slide_type": "slide"
    }
   },
   "source": [
    "# 수업진행 "
   ]
  },
  {
   "cell_type": "markdown",
   "id": "27e0d927-432a-47f3-880b-ebeeac4ec285",
   "metadata": {
    "slideshow": {
     "slide_type": "slide"
    }
   },
   "source": [
    "- 다음시간부터 개인 노트북 지참\n",
    "- wifi: 218-5G-1. 218-5G-2\n",
    "- 가급적 영상 올릴 생각... (복습용도) \n",
    "- 질문: 카톡, 이메일, 직접방문, 줌, 등등~"
   ]
  }
 ],
 "metadata": {
  "celltoolbar": "Slideshow",
  "kernelspec": {
   "display_name": "Python 3",
   "language": "python",
   "name": "python3"
  },
  "language_info": {
   "codemirror_mode": {
    "name": "ipython",
    "version": 3
   },
   "file_extension": ".py",
   "mimetype": "text/x-python",
   "name": "python",
   "nbconvert_exporter": "python",
   "pygments_lexer": "ipython3",
   "version": "3.7.15"
  }
 },
 "nbformat": 4,
 "nbformat_minor": 5
}
