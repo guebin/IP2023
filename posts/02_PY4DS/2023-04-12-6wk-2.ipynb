{
 "cells": [
  {
   "cell_type": "raw",
   "id": "632f3371-289b-4c25-a640-54322063044f",
   "metadata": {},
   "source": [
    "---\n",
    "title: \"06wk-2: Numpy (2)\"\n",
    "author: \"최규빈\"\n",
    "date: \"04/12/2024\"\n",
    "---"
   ]
  },
  {
   "cell_type": "markdown",
   "id": "8a37ce7b-fafc-471f-af47-50b74cb65754",
   "metadata": {},
   "source": [
    "<a href=\"https://colab.research.google.com/github/guebin/PP2023/blob/main/posts/02_PY4DS/2023-04-12-6wk-2.ipynb\"><img src=\"https://colab.research.google.com/assets/colab-badge.svg\" style=\"text-align: left\"></a>"
   ]
  },
  {
   "cell_type": "markdown",
   "id": "fd69010e-e7d5-4c9e-b616-ffeb20137fb2",
   "metadata": {},
   "source": [
    "# 강의영상 "
   ]
  },
  {
   "cell_type": "markdown",
   "id": "780e61ba-b218-45d6-b1c0-eabd5cc4f010",
   "metadata": {},
   "source": [
    "- "
   ]
  },
  {
   "cell_type": "markdown",
   "id": "834314fc-12b2-41c6-b80d-36eb3cc556da",
   "metadata": {},
   "source": [
    "# import "
   ]
  },
  {
   "cell_type": "code",
   "execution_count": 1,
   "id": "3e137183-e755-43bc-adaf-1f4dba948ffb",
   "metadata": {},
   "outputs": [],
   "source": [
    "import numpy as np"
   ]
  },
  {
   "cell_type": "markdown",
   "id": "36d32c93-db70-400e-9b97-100cd7672b58",
   "metadata": {},
   "source": [
    "# 넘파이 공부 4단계: 축 "
   ]
  },
  {
   "cell_type": "markdown",
   "id": "52730031-bd74-49e1-9d59-6855942a2526",
   "metadata": {},
   "source": [
    "## np.concatenate"
   ]
  },
  {
   "cell_type": "markdown",
   "id": "b8947680-d0df-46ea-b8d6-2df0cd5b5c4a",
   "metadata": {},
   "source": [
    "`-` 1차원: concat의 기본예제 (쓸모 없어보임)"
   ]
  },
  {
   "cell_type": "code",
   "execution_count": 145,
   "id": "784b5a29-9c7e-4091-bb60-00165eb3c956",
   "metadata": {},
   "outputs": [],
   "source": [
    "a= np.array([1,2,3]) \n",
    "b= -a "
   ]
  },
  {
   "cell_type": "code",
   "execution_count": 146,
   "id": "2ff9e6ae-d3fc-46d6-aba7-e7545d770ef2",
   "metadata": {},
   "outputs": [
    {
     "data": {
      "text/plain": [
       "array([ 1,  2,  3, -1, -2, -3])"
      ]
     },
     "execution_count": 146,
     "metadata": {},
     "output_type": "execute_result"
    }
   ],
   "source": [
    "np.concatenate([a,b])"
   ]
  },
  {
   "cell_type": "code",
   "execution_count": 147,
   "id": "1ccbff05-8fee-4e53-bbc8-0a1f680ba57f",
   "metadata": {},
   "outputs": [
    {
     "data": {
      "text/plain": [
       "array([ 1,  2,  3, -1, -2, -3])"
      ]
     },
     "execution_count": 147,
     "metadata": {},
     "output_type": "execute_result"
    }
   ],
   "source": [
    "np.array(list(a)+list(b))"
   ]
  },
  {
   "cell_type": "markdown",
   "id": "7c2cd96d-c2eb-4117-bb4a-30123ddb8522",
   "metadata": {},
   "source": [
    "`-` 2차원: 이건 좀 의미가 있어보임 "
   ]
  },
  {
   "cell_type": "code",
   "execution_count": 148,
   "id": "320eb487-5720-4812-846b-03b2a7cf91ea",
   "metadata": {},
   "outputs": [],
   "source": [
    "a = np.array([1,2,3,4]).reshape(2,2)\n",
    "b = -a "
   ]
  },
  {
   "cell_type": "code",
   "execution_count": 149,
   "id": "197e1a9c-4b6f-4948-93c4-0fee4cae8bac",
   "metadata": {},
   "outputs": [
    {
     "data": {
      "text/plain": [
       "array([[ 1,  2],\n",
       "       [ 3,  4],\n",
       "       [-1, -2],\n",
       "       [-3, -4]])"
      ]
     },
     "execution_count": 149,
     "metadata": {},
     "output_type": "execute_result"
    }
   ],
   "source": [
    "np.concatenate([a,b])"
   ]
  },
  {
   "cell_type": "markdown",
   "id": "fcece1dc-9071-4f9d-b345-27d2fd6e7a14",
   "metadata": {},
   "source": [
    "만약에 a,b를 좌우로 붙이고 싶다면? axis=1이라고 옵션을 주면 된다. "
   ]
  },
  {
   "cell_type": "code",
   "execution_count": 150,
   "id": "ff082039-05e0-460f-b336-a4fe5c779efc",
   "metadata": {},
   "outputs": [
    {
     "data": {
      "text/plain": [
       "array([[ 1,  2, -1, -2],\n",
       "       [ 3,  4, -3, -4]])"
      ]
     },
     "execution_count": 150,
     "metadata": {},
     "output_type": "execute_result"
    }
   ],
   "source": [
    "np.concatenate([a,b],axis=1) "
   ]
  },
  {
   "cell_type": "markdown",
   "id": "3a6cd148-786c-4fff-ac89-b68aebd92e4c",
   "metadata": {},
   "source": [
    "- axis=1의 의미는 무엇일까? "
   ]
  },
  {
   "cell_type": "markdown",
   "id": "58f9b377-caf7-4d08-87bf-8c50de8349a5",
   "metadata": {},
   "source": [
    "`-` axis=1 의 의미를 파악하기 전에, axis=1만 가능한것인지 알아보자. "
   ]
  },
  {
   "cell_type": "markdown",
   "id": "8b3c1da1-f448-4926-9957-5bc6986d7f14",
   "metadata": {},
   "source": [
    "(시도1)"
   ]
  },
  {
   "cell_type": "code",
   "execution_count": 31,
   "id": "61116523-870e-4008-b1bb-7dbb30ff0ee3",
   "metadata": {},
   "outputs": [
    {
     "data": {
      "text/plain": [
       "array([[ 1,  2],\n",
       "       [ 3,  4],\n",
       "       [-1, -2],\n",
       "       [-3, -4]])"
      ]
     },
     "execution_count": 31,
     "metadata": {},
     "output_type": "execute_result"
    }
   ],
   "source": [
    "np.concatenate([a,b],axis=0)\n",
    "# np.concatenate([a,b]) 와 같음 \n",
    "# np.concatenate([a,b])은 np.concatenate([a,b],axis=0)의 생략버전이라 유추가능"
   ]
  },
  {
   "cell_type": "markdown",
   "id": "d0679890-8df2-49b2-a366-8ea7cb4ef5ac",
   "metadata": {},
   "source": [
    "- axis=0 도 가능!! "
   ]
  },
  {
   "cell_type": "markdown",
   "id": "01c08959-fe61-4622-83d6-76ae6e263659",
   "metadata": {},
   "source": [
    "(시도2)"
   ]
  },
  {
   "cell_type": "code",
   "execution_count": 33,
   "id": "8d0e64e5-2143-4b61-8597-fb99f86ecd85",
   "metadata": {},
   "outputs": [
    {
     "ename": "AxisError",
     "evalue": "axis 2 is out of bounds for array of dimension 2",
     "output_type": "error",
     "traceback": [
      "\u001b[0;31m--------------------------------------------------------------------\u001b[0m",
      "\u001b[0;31mAxisError\u001b[0m                          Traceback (most recent call last)",
      "Cell \u001b[0;32mIn[33], line 1\u001b[0m\n\u001b[0;32m----> 1\u001b[0m \u001b[43mnp\u001b[49m\u001b[38;5;241;43m.\u001b[39;49m\u001b[43mconcatenate\u001b[49m\u001b[43m(\u001b[49m\u001b[43m[\u001b[49m\u001b[43ma\u001b[49m\u001b[43m,\u001b[49m\u001b[43mb\u001b[49m\u001b[43m]\u001b[49m\u001b[43m,\u001b[49m\u001b[43maxis\u001b[49m\u001b[38;5;241;43m=\u001b[39;49m\u001b[38;5;241;43m2\u001b[39;49m\u001b[43m)\u001b[49m\n\u001b[1;32m      2\u001b[0m \u001b[38;5;66;03m# 에러가 난다. \u001b[39;00m\n",
      "File \u001b[0;32m<__array_function__ internals>:180\u001b[0m, in \u001b[0;36mconcatenate\u001b[0;34m(*args, **kwargs)\u001b[0m\n",
      "\u001b[0;31mAxisError\u001b[0m: axis 2 is out of bounds for array of dimension 2"
     ]
    }
   ],
   "source": [
    "np.concatenate([a,b],axis=2)\n",
    "# 에러가 난다. "
   ]
  },
  {
   "cell_type": "markdown",
   "id": "cac77ede-eb1c-46a0-99d6-80fbaadb9430",
   "metadata": {},
   "source": [
    "- axis=1은 불가능!!"
   ]
  },
  {
   "cell_type": "markdown",
   "id": "bde8ecff-2d0d-4ee4-aab4-04a0ab0197f1",
   "metadata": {},
   "source": [
    "`-` axis의 의미를 알아보자.  "
   ]
  },
  {
   "cell_type": "code",
   "execution_count": 151,
   "id": "7d9d17a2-6b38-475a-9851-6cf51b58a4e3",
   "metadata": {},
   "outputs": [],
   "source": [
    "a= np.array([1,2,3,4,5,6]).reshape(3,2)\n",
    "b= -a "
   ]
  },
  {
   "cell_type": "markdown",
   "id": "a1ee7f94-db6e-443f-bf7f-0032f63fe72a",
   "metadata": {},
   "source": [
    "(예시1)"
   ]
  },
  {
   "cell_type": "code",
   "execution_count": 152,
   "id": "c34c58e3-5745-494a-8c5a-61cb7a3e777f",
   "metadata": {},
   "outputs": [
    {
     "data": {
      "text/plain": [
       "((3, 2), (3, 2), (6, 2))"
      ]
     },
     "execution_count": 152,
     "metadata": {},
     "output_type": "execute_result"
    }
   ],
   "source": [
    "a.shape,b.shape, np.concatenate([a,b],axis=0).shape"
   ]
  },
  {
   "cell_type": "markdown",
   "id": "a6f65e76-265a-4741-8665-e7a47b99cfa7",
   "metadata": {},
   "source": [
    "- 관찰: `(3,2)` concat `(3,2)` -> `(6,2)` // 첫번째 숫자가 바뀜  <== axis=0"
   ]
  },
  {
   "cell_type": "markdown",
   "id": "468021df-8b5b-4bda-bacc-61e898361c91",
   "metadata": {},
   "source": [
    "(예시2)"
   ]
  },
  {
   "cell_type": "code",
   "execution_count": 42,
   "id": "bc702826-f0c0-4ca1-8878-4fcf64c66d55",
   "metadata": {},
   "outputs": [
    {
     "data": {
      "text/plain": [
       "((3, 2), (3, 2), (3, 4))"
      ]
     },
     "execution_count": 42,
     "metadata": {},
     "output_type": "execute_result"
    }
   ],
   "source": [
    "a.shape,b.shape, np.concatenate([a,b],axis=1).shape"
   ]
  },
  {
   "cell_type": "markdown",
   "id": "df719689-1240-4d74-b22f-08e1d1596ed6",
   "metadata": {},
   "source": [
    "- 관찰: `(3,2)` concat `(3,2)` -> `(3,4)` // 두번째 숫자가 바뀜 <== axis=1 "
   ]
  },
  {
   "cell_type": "markdown",
   "id": "dadbd8ce-7a66-416a-9c10-d29437dcd12d",
   "metadata": {},
   "source": [
    "(예시3)"
   ]
  },
  {
   "cell_type": "code",
   "execution_count": 154,
   "id": "59fc3b0d-9166-47b4-9bcf-69ae0b161555",
   "metadata": {},
   "outputs": [],
   "source": [
    "a= np.arange(24).reshape(2,3,4) \n",
    "b= -a "
   ]
  },
  {
   "cell_type": "code",
   "execution_count": 155,
   "id": "2b1eda2b-7ed1-4923-9338-02343bb12b14",
   "metadata": {},
   "outputs": [
    {
     "data": {
      "text/plain": [
       "((2, 3, 4), (2, 3, 4), (4, 3, 4))"
      ]
     },
     "execution_count": 155,
     "metadata": {},
     "output_type": "execute_result"
    }
   ],
   "source": [
    "a.shape,b.shape,np.concatenate([a,b],axis=0).shape"
   ]
  },
  {
   "cell_type": "markdown",
   "id": "561a6608-8b77-4708-918b-e4f3e35020db",
   "metadata": {},
   "source": [
    "- 유추: `(2,3,4)` concat `(2,3,4)` -> `(4,3,4)` // 첫번째 숫자가 바뀔 것 같았는데 실제로 그러함 <== axis=0 "
   ]
  },
  {
   "cell_type": "markdown",
   "id": "9fc5548c-6486-434b-aa47-3155785714c1",
   "metadata": {},
   "source": [
    "(예시4)"
   ]
  },
  {
   "cell_type": "code",
   "execution_count": 156,
   "id": "cbd90f57-f736-4950-a038-9a3014e73703",
   "metadata": {},
   "outputs": [
    {
     "data": {
      "text/plain": [
       "((2, 3, 4), (2, 3, 4), (2, 6, 4))"
      ]
     },
     "execution_count": 156,
     "metadata": {},
     "output_type": "execute_result"
    }
   ],
   "source": [
    "a.shape,b.shape,np.concatenate([a,b],axis=1).shape"
   ]
  },
  {
   "cell_type": "markdown",
   "id": "5eb2c8fa-f08c-49ca-85bf-e283ebd2cfab",
   "metadata": {},
   "source": [
    "- `(2,3,4)` concat `(2,3,4)` -> `(2,6,4)` // 두번째 숫자가 바뀜 <== axis=1"
   ]
  },
  {
   "cell_type": "markdown",
   "id": "3e53df85-a494-41ae-824e-74579fa879bb",
   "metadata": {},
   "source": [
    "(예시5)"
   ]
  },
  {
   "cell_type": "code",
   "execution_count": 157,
   "id": "de40ffda-13ac-4a01-96a3-eebbc181447e",
   "metadata": {},
   "outputs": [
    {
     "data": {
      "text/plain": [
       "((2, 3, 4), (2, 3, 4), (2, 3, 8))"
      ]
     },
     "execution_count": 157,
     "metadata": {},
     "output_type": "execute_result"
    }
   ],
   "source": [
    "a.shape,b.shape,np.concatenate([a,b],axis=2).shape"
   ]
  },
  {
   "cell_type": "markdown",
   "id": "3f8882a1-0e80-4c64-b5ad-42e479e3542a",
   "metadata": {},
   "source": [
    "- `(2,3,4)` concat `(2,3,4)` -> `(2,3,8)` // 세번째 숫자가 바뀜 <== axis=2"
   ]
  },
  {
   "cell_type": "markdown",
   "id": "1730c1e2-6de5-49c1-b686-2c06ba585e02",
   "metadata": {},
   "source": [
    "(예시5)"
   ]
  },
  {
   "cell_type": "code",
   "execution_count": 158,
   "id": "cd46ec59-c9a8-48ff-85b0-a04ddc2bacbd",
   "metadata": {},
   "outputs": [
    {
     "data": {
      "text/plain": [
       "((2, 3, 4), (2, 3, 4), (2, 3, 8))"
      ]
     },
     "execution_count": 158,
     "metadata": {},
     "output_type": "execute_result"
    }
   ],
   "source": [
    "a.shape,b.shape,np.concatenate([a,b],axis=-1).shape"
   ]
  },
  {
   "cell_type": "markdown",
   "id": "320d9b01-68c7-478e-bf01-eacd32866019",
   "metadata": {},
   "source": [
    "- `(2,3,4)` concat `(2,3,4)` -> `(2,3,8)` // 마지막 숫자가 바뀜 <== axis=-1"
   ]
  },
  {
   "cell_type": "markdown",
   "id": "1b33864d-6030-43ea-8272-38b5da5ff9a0",
   "metadata": {},
   "source": [
    "(예시6)"
   ]
  },
  {
   "cell_type": "code",
   "execution_count": 159,
   "id": "6be3e6f9-23ad-4c80-b0cb-a58c23f28e46",
   "metadata": {},
   "outputs": [
    {
     "data": {
      "text/plain": [
       "((2, 3, 4), (2, 3, 4), (2, 6, 4))"
      ]
     },
     "execution_count": 159,
     "metadata": {},
     "output_type": "execute_result"
    }
   ],
   "source": [
    "a.shape,b.shape,np.concatenate([a,b],axis=-2).shape"
   ]
  },
  {
   "cell_type": "markdown",
   "id": "1373078e-8eea-407f-a759-dc89a6ef235c",
   "metadata": {},
   "source": [
    "- `(2,3,4)` concat `(2,3,4)` -> `(2,6,4)` // 마지막에서 두번째 숫자가 바뀜 <== axis=-2"
   ]
  },
  {
   "cell_type": "markdown",
   "id": "abd49faf-3844-4ef4-81c5-4f6708a2d0f7",
   "metadata": {},
   "source": [
    "(예시7)"
   ]
  },
  {
   "cell_type": "code",
   "execution_count": 160,
   "id": "6aee3d80-3f11-449b-9f57-f4393f0ebe0a",
   "metadata": {},
   "outputs": [
    {
     "data": {
      "text/plain": [
       "((2, 3, 4), (2, 3, 4), (4, 3, 4))"
      ]
     },
     "execution_count": 160,
     "metadata": {},
     "output_type": "execute_result"
    }
   ],
   "source": [
    "a.shape,b.shape,np.concatenate([a,b],axis=-3).shape"
   ]
  },
  {
   "cell_type": "markdown",
   "id": "28c6d549-165e-41c7-9ac5-b44547f9af4c",
   "metadata": {},
   "source": [
    "- `(2,3,4)` concat `(2,3,4)` -> `(4,3,4)` // 마지막에서 세번째 숫자가 바뀜 <== axis=-3"
   ]
  },
  {
   "cell_type": "markdown",
   "id": "578b6f39-eb6a-48af-baa6-c21eee535027",
   "metadata": {},
   "source": [
    "(예시8)"
   ]
  },
  {
   "cell_type": "code",
   "execution_count": 161,
   "id": "fc619570-2df2-4f65-80be-b73ce8e2babd",
   "metadata": {},
   "outputs": [
    {
     "ename": "AxisError",
     "evalue": "axis -4 is out of bounds for array of dimension 3",
     "output_type": "error",
     "traceback": [
      "\u001b[0;31m--------------------------------------------------------------------\u001b[0m",
      "\u001b[0;31mAxisError\u001b[0m                          Traceback (most recent call last)",
      "Cell \u001b[0;32mIn[161], line 1\u001b[0m\n\u001b[0;32m----> 1\u001b[0m a\u001b[38;5;241m.\u001b[39mshape,b\u001b[38;5;241m.\u001b[39mshape,\u001b[43mnp\u001b[49m\u001b[38;5;241;43m.\u001b[39;49m\u001b[43mconcatenate\u001b[49m\u001b[43m(\u001b[49m\u001b[43m[\u001b[49m\u001b[43ma\u001b[49m\u001b[43m,\u001b[49m\u001b[43mb\u001b[49m\u001b[43m]\u001b[49m\u001b[43m,\u001b[49m\u001b[43maxis\u001b[49m\u001b[38;5;241;43m=\u001b[39;49m\u001b[38;5;241;43m-\u001b[39;49m\u001b[38;5;241;43m4\u001b[39;49m\u001b[43m)\u001b[49m\u001b[38;5;241m.\u001b[39mshape\n",
      "File \u001b[0;32m<__array_function__ internals>:180\u001b[0m, in \u001b[0;36mconcatenate\u001b[0;34m(*args, **kwargs)\u001b[0m\n",
      "\u001b[0;31mAxisError\u001b[0m: axis -4 is out of bounds for array of dimension 3"
     ]
    }
   ],
   "source": [
    "a.shape,b.shape,np.concatenate([a,b],axis=-4).shape"
   ]
  },
  {
   "cell_type": "markdown",
   "id": "9b6a3d9d-d846-4827-bbfb-5f1230c636b0",
   "metadata": {
    "tags": []
   },
   "source": [
    "- `(2,3,4)` concat `(2,3,4)` -> `???` // 마지막에서 네번째 숫자는 없어서 에러남 <== axis=-4"
   ]
  },
  {
   "cell_type": "markdown",
   "id": "380ad00f-b400-409c-8d53-2d98c1afaf23",
   "metadata": {},
   "source": [
    "(예시9)"
   ]
  },
  {
   "cell_type": "code",
   "execution_count": 162,
   "id": "b442a747-d2ff-4cb6-93af-69861af46fe2",
   "metadata": {},
   "outputs": [
    {
     "ename": "AxisError",
     "evalue": "axis 3 is out of bounds for array of dimension 3",
     "output_type": "error",
     "traceback": [
      "\u001b[0;31m--------------------------------------------------------------------\u001b[0m",
      "\u001b[0;31mAxisError\u001b[0m                          Traceback (most recent call last)",
      "Cell \u001b[0;32mIn[162], line 1\u001b[0m\n\u001b[0;32m----> 1\u001b[0m a\u001b[38;5;241m.\u001b[39mshape,b\u001b[38;5;241m.\u001b[39mshape,\u001b[43mnp\u001b[49m\u001b[38;5;241;43m.\u001b[39;49m\u001b[43mconcatenate\u001b[49m\u001b[43m(\u001b[49m\u001b[43m[\u001b[49m\u001b[43ma\u001b[49m\u001b[43m,\u001b[49m\u001b[43mb\u001b[49m\u001b[43m]\u001b[49m\u001b[43m,\u001b[49m\u001b[43maxis\u001b[49m\u001b[38;5;241;43m=\u001b[39;49m\u001b[38;5;241;43m3\u001b[39;49m\u001b[43m)\u001b[49m\u001b[38;5;241m.\u001b[39mshape\n",
      "File \u001b[0;32m<__array_function__ internals>:180\u001b[0m, in \u001b[0;36mconcatenate\u001b[0;34m(*args, **kwargs)\u001b[0m\n",
      "\u001b[0;31mAxisError\u001b[0m: axis 3 is out of bounds for array of dimension 3"
     ]
    }
   ],
   "source": [
    "a.shape,b.shape,np.concatenate([a,b],axis=3).shape"
   ]
  },
  {
   "cell_type": "markdown",
   "id": "81a13ee1-e2ba-4ec3-bc7a-a21b196e0cd2",
   "metadata": {
    "tags": []
   },
   "source": [
    "- `(2,3,4)` concat `(2,3,4)` -> `???` // 네번째 숫자는 없어서 에러남 <== axis=3"
   ]
  },
  {
   "cell_type": "markdown",
   "id": "9c8b23c7-5d99-4272-bed7-5e3d437b80c5",
   "metadata": {},
   "source": [
    "## np.stack "
   ]
  },
  {
   "cell_type": "markdown",
   "id": "4e1b5d62-3d11-4197-94f9-2d65f791d166",
   "metadata": {},
   "source": [
    "`-` 아래의 자료를 관찰하자. "
   ]
  },
  {
   "cell_type": "code",
   "execution_count": 3,
   "id": "aae19ae7-3772-4730-ab5d-a5fe8da01236",
   "metadata": {},
   "outputs": [],
   "source": [
    "a = np.array([1,2,3])\n",
    "b = -a "
   ]
  },
  {
   "cell_type": "code",
   "execution_count": 4,
   "id": "5daddd50-aedf-4cb6-aab0-1f739876419c",
   "metadata": {},
   "outputs": [
    {
     "data": {
      "text/plain": [
       "(array([1, 2, 3]), array([-1, -2, -3]))"
      ]
     },
     "execution_count": 4,
     "metadata": {},
     "output_type": "execute_result"
    }
   ],
   "source": [
    "a,b"
   ]
  },
  {
   "cell_type": "markdown",
   "id": "84c22b93-0ec7-4b0c-a12c-d273895d4cd5",
   "metadata": {},
   "source": [
    "`-` 혹시 a,b를 위아래로 쌓아서 결과를 `(2,3)` 매트릭스로 만들 수 있을까? "
   ]
  },
  {
   "cell_type": "code",
   "execution_count": 7,
   "id": "4189f2e4-77b1-47b9-aad4-ccf22044d361",
   "metadata": {},
   "outputs": [
    {
     "data": {
      "text/plain": [
       "array([ 1,  2,  3, -1, -2, -3])"
      ]
     },
     "execution_count": 7,
     "metadata": {},
     "output_type": "execute_result"
    }
   ],
   "source": [
    "np.concatenate([a,b]) # 실패1"
   ]
  },
  {
   "cell_type": "code",
   "execution_count": 9,
   "id": "1e19584c-819f-49f9-958a-3364498ef7e9",
   "metadata": {},
   "outputs": [
    {
     "ename": "AxisError",
     "evalue": "axis 1 is out of bounds for array of dimension 1",
     "output_type": "error",
     "traceback": [
      "\u001b[0;31m--------------------------------------------------------------------\u001b[0m",
      "\u001b[0;31mAxisError\u001b[0m                          Traceback (most recent call last)",
      "Cell \u001b[0;32mIn[9], line 1\u001b[0m\n\u001b[0;32m----> 1\u001b[0m \u001b[43mnp\u001b[49m\u001b[38;5;241;43m.\u001b[39;49m\u001b[43mconcatenate\u001b[49m\u001b[43m(\u001b[49m\u001b[43m[\u001b[49m\u001b[43ma\u001b[49m\u001b[43m,\u001b[49m\u001b[43mb\u001b[49m\u001b[43m]\u001b[49m\u001b[43m,\u001b[49m\u001b[43maxis\u001b[49m\u001b[38;5;241;43m=\u001b[39;49m\u001b[38;5;241;43m1\u001b[39;49m\u001b[43m)\u001b[49m \u001b[38;5;66;03m# 실패2\u001b[39;00m\n",
      "File \u001b[0;32m<__array_function__ internals>:180\u001b[0m, in \u001b[0;36mconcatenate\u001b[0;34m(*args, **kwargs)\u001b[0m\n",
      "\u001b[0;31mAxisError\u001b[0m: axis 1 is out of bounds for array of dimension 1"
     ]
    }
   ],
   "source": [
    "np.concatenate([a,b],axis=1) # 실패2"
   ]
  },
  {
   "cell_type": "markdown",
   "id": "d4c9cf88-39f6-4289-9e0e-597f49a4bdda",
   "metadata": {},
   "source": [
    "`-` 실패이유를 분석: `(3,) concat (3,)` 으로 `(2,3)` 를 만들려고 해서 불가능했음. \n",
    "\n",
    "- 전략: reshape을 이용하여 `(3,), (3,) => (1,3), (1,3)` 으로 변경후 concat을 하면 가능할듯 "
   ]
  },
  {
   "cell_type": "code",
   "execution_count": 11,
   "id": "dc1bf3e0-0991-4011-868e-d77c113dd875",
   "metadata": {},
   "outputs": [
    {
     "data": {
      "text/plain": [
       "array([[ 1,  2,  3],\n",
       "       [-1, -2, -3]])"
      ]
     },
     "execution_count": 11,
     "metadata": {},
     "output_type": "execute_result"
    }
   ],
   "source": [
    "np.concatenate([a.reshape(1,3),b.reshape(1,3)],axis=0) # 성공"
   ]
  },
  {
   "cell_type": "markdown",
   "id": "f8b9bcf1-91e8-41a1-b51a-1c6163086512",
   "metadata": {},
   "source": [
    "또 다른 방법!"
   ]
  },
  {
   "cell_type": "code",
   "execution_count": 12,
   "id": "15d3b137-d528-4ab9-abb4-36d76898cebc",
   "metadata": {},
   "outputs": [
    {
     "data": {
      "text/plain": [
       "array([[ 1,  2,  3],\n",
       "       [-1, -2, -3]])"
      ]
     },
     "execution_count": 12,
     "metadata": {},
     "output_type": "execute_result"
    }
   ],
   "source": [
    "np.stack([a,b],axis=0)"
   ]
  },
  {
   "cell_type": "markdown",
   "id": "30191cba-a80a-42cc-9743-e89c6530c7d0",
   "metadata": {},
   "source": [
    "`-` 이번에는 a,b를 좌우로 쌓아서 결과를 `(3,2)` 매트릭스로를 만들어 보자. "
   ]
  },
  {
   "cell_type": "code",
   "execution_count": 13,
   "id": "1467fe76-f709-4150-87bb-ce13d31db655",
   "metadata": {},
   "outputs": [
    {
     "data": {
      "text/plain": [
       "array([[ 1, -1],\n",
       "       [ 2, -2],\n",
       "       [ 3, -3]])"
      ]
     },
     "execution_count": 13,
     "metadata": {},
     "output_type": "execute_result"
    }
   ],
   "source": [
    "np.concatenate([a.reshape(3,1),b.reshape(3,1)],axis=1)"
   ]
  },
  {
   "cell_type": "markdown",
   "id": "c67df46e-615f-46cf-b527-5ac04129b69f",
   "metadata": {},
   "source": [
    "또 다른 방법!"
   ]
  },
  {
   "cell_type": "code",
   "execution_count": 14,
   "id": "0e7824b7-4147-461b-8e2f-53111294375a",
   "metadata": {},
   "outputs": [
    {
     "data": {
      "text/plain": [
       "array([[ 1, -1],\n",
       "       [ 2, -2],\n",
       "       [ 3, -3]])"
      ]
     },
     "execution_count": 14,
     "metadata": {},
     "output_type": "execute_result"
    }
   ],
   "source": [
    "np.stack([a,b],axis=1)"
   ]
  },
  {
   "cell_type": "markdown",
   "id": "9aef888c-c1c5-46d9-963b-a277f5053184",
   "metadata": {},
   "source": [
    "`-` 요약: stack은 `axis=` 위치에 축을 추가하고 concat을 한 것 이라 이해할 수 있다. "
   ]
  },
  {
   "cell_type": "markdown",
   "id": "2166b7b7-6c1c-4e9b-b89f-68abf690a01e",
   "metadata": {},
   "source": [
    "**강의에서는 하지 않은 예제**"
   ]
  },
  {
   "cell_type": "code",
   "execution_count": 166,
   "id": "30c2c3b1-7e6d-4e58-b0ce-f1e61b376cc4",
   "metadata": {},
   "outputs": [],
   "source": [
    "a=np.arange(3*4*5).reshape(3,4,5) \n",
    "b=-a"
   ]
  },
  {
   "cell_type": "code",
   "execution_count": 167,
   "id": "b01a838c-7517-44f5-bf69-f5cd06b7b194",
   "metadata": {},
   "outputs": [
    {
     "data": {
      "text/plain": [
       "((3, 4, 5), (3, 4, 5))"
      ]
     },
     "execution_count": 167,
     "metadata": {},
     "output_type": "execute_result"
    }
   ],
   "source": [
    "a.shape, b.shape"
   ]
  },
  {
   "cell_type": "code",
   "execution_count": 170,
   "id": "bf5b5d88-58ac-47eb-ad6f-d355ec08c802",
   "metadata": {},
   "outputs": [
    {
     "data": {
      "text/plain": [
       "(2, 3, 4, 5)"
      ]
     },
     "execution_count": 170,
     "metadata": {},
     "output_type": "execute_result"
    }
   ],
   "source": [
    "np.stack([a,b],axis=0).shape # (3,4,5) => (1,3,4,5) // 첫 위치에 축이 추가되고 스택 "
   ]
  },
  {
   "cell_type": "code",
   "execution_count": 174,
   "id": "0f7523ed-8964-4c1f-9bcc-a1f502c75e1f",
   "metadata": {},
   "outputs": [
    {
     "data": {
      "text/plain": [
       "(3, 2, 4, 5)"
      ]
     },
     "execution_count": 174,
     "metadata": {},
     "output_type": "execute_result"
    }
   ],
   "source": [
    "np.stack([a,b],axis=1).shape # (3,4,5) => (3,1,4,5) // 두번째 위치에 축이 추가되고 스택 "
   ]
  },
  {
   "cell_type": "code",
   "execution_count": 175,
   "id": "0bb51cb0-94c5-4a62-be7d-e06b06e6f3bf",
   "metadata": {},
   "outputs": [
    {
     "data": {
      "text/plain": [
       "(3, 4, 2, 5)"
      ]
     },
     "execution_count": 175,
     "metadata": {},
     "output_type": "execute_result"
    }
   ],
   "source": [
    "np.stack([a,b],axis=2).shape # (3,4,5) => (3,4,1,5) // 세번째 위치에 축이 추가되고 스택 "
   ]
  },
  {
   "cell_type": "code",
   "execution_count": 179,
   "id": "fbf2854c-26b3-4e47-9021-eac93220ee37",
   "metadata": {},
   "outputs": [
    {
     "data": {
      "text/plain": [
       "(3, 4, 5, 2)"
      ]
     },
     "execution_count": 179,
     "metadata": {},
     "output_type": "execute_result"
    }
   ],
   "source": [
    "np.stack([a,b],axis=3).shape # (3,4,5) => (3,4,5,1) // 네번째 위치에 축이 추가되고 스택 "
   ]
  },
  {
   "cell_type": "code",
   "execution_count": 181,
   "id": "912a44ca-5f4f-45fe-b61f-ca596f8144be",
   "metadata": {},
   "outputs": [
    {
     "data": {
      "text/plain": [
       "(3, 4, 5, 2)"
      ]
     },
     "execution_count": 181,
     "metadata": {},
     "output_type": "execute_result"
    }
   ],
   "source": [
    "np.stack([a,b],axis=-1).shape # axis=-1 <=> axis=3 "
   ]
  },
  {
   "cell_type": "code",
   "execution_count": 182,
   "id": "f4af567e-5a87-41b3-890f-8da9df19977e",
   "metadata": {},
   "outputs": [
    {
     "data": {
      "text/plain": [
       "(3, 4, 2, 5)"
      ]
     },
     "execution_count": 182,
     "metadata": {},
     "output_type": "execute_result"
    }
   ],
   "source": [
    "np.stack([a,b],axis=-2).shape # axis=-2 <=> axis=2"
   ]
  },
  {
   "cell_type": "markdown",
   "id": "976a1049-7185-4be5-bfc9-f317661ba69e",
   "metadata": {},
   "source": [
    "***np.concatenate*** 는 축의 총 갯수를 유지하면서 결합, ***np.stack***은 축의 갯수를 하나 증가시키면서 결합"
   ]
  },
  {
   "cell_type": "markdown",
   "id": "01ddbdf1-f8f9-452e-a30c-979da1ad2092",
   "metadata": {},
   "source": [
    "## sum"
   ]
  },
  {
   "cell_type": "markdown",
   "id": "202b7213-2b02-4a78-9c01-1508d0639415",
   "metadata": {},
   "source": [
    "`-` 1차원 array의 sum"
   ]
  },
  {
   "cell_type": "code",
   "execution_count": 91,
   "id": "159152c0-c10d-4a53-ab92-7a4fe5086a9c",
   "metadata": {},
   "outputs": [
    {
     "data": {
      "text/plain": [
       "array([1, 2, 3, 4])"
      ]
     },
     "execution_count": 91,
     "metadata": {},
     "output_type": "execute_result"
    }
   ],
   "source": [
    "a = np.array([1,2,3,4])\n",
    "a"
   ]
  },
  {
   "cell_type": "code",
   "execution_count": 92,
   "id": "b869b5a9-9ea5-4356-8f41-4f4086d59783",
   "metadata": {},
   "outputs": [
    {
     "data": {
      "text/plain": [
       "10"
      ]
     },
     "execution_count": 92,
     "metadata": {},
     "output_type": "execute_result"
    }
   ],
   "source": [
    "a.sum()"
   ]
  },
  {
   "cell_type": "code",
   "execution_count": 93,
   "id": "19c11236-f5c4-44b7-9856-de5d523834a4",
   "metadata": {},
   "outputs": [
    {
     "data": {
      "text/plain": [
       "10"
      ]
     },
     "execution_count": 93,
     "metadata": {},
     "output_type": "execute_result"
    }
   ],
   "source": [
    "np.sum(a)"
   ]
  },
  {
   "cell_type": "markdown",
   "id": "84672a8a-36c4-4395-9a09-1c47066cdf11",
   "metadata": {},
   "source": [
    "`-` 2차원 array일 경우 "
   ]
  },
  {
   "cell_type": "code",
   "execution_count": 95,
   "id": "454c10d9-c470-433c-a853-a2ffc64576ff",
   "metadata": {},
   "outputs": [
    {
     "data": {
      "text/plain": [
       "array([[ 0,  1,  2],\n",
       "       [ 3,  4,  5],\n",
       "       [ 6,  7,  8],\n",
       "       [ 9, 10, 11]])"
      ]
     },
     "execution_count": 95,
     "metadata": {},
     "output_type": "execute_result"
    }
   ],
   "source": [
    "a= np.arange(4*3).reshape(4,3)\n",
    "a"
   ]
  },
  {
   "cell_type": "code",
   "execution_count": 101,
   "id": "c657fd6f-9ca3-4bd7-b942-b16221804ea4",
   "metadata": {},
   "outputs": [
    {
     "data": {
      "text/plain": [
       "array([ 3, 12, 21, 30])"
      ]
     },
     "execution_count": 101,
     "metadata": {},
     "output_type": "execute_result"
    }
   ],
   "source": [
    "a.sum(axis=-1)"
   ]
  },
  {
   "cell_type": "markdown",
   "id": "08d620a1-a739-443f-a349-e12d344e965c",
   "metadata": {},
   "source": [
    "- 마지막 축이 삭제됨 "
   ]
  },
  {
   "cell_type": "markdown",
   "id": "46010c5a-aef8-4721-9bfc-f555fcf3759c",
   "metadata": {},
   "source": [
    "`-` 그렇다면? "
   ]
  },
  {
   "cell_type": "code",
   "execution_count": 104,
   "id": "ceebadb7-3c0c-42a8-a4a8-0f4031217b2f",
   "metadata": {},
   "outputs": [
    {
     "data": {
      "text/plain": [
       "66"
      ]
     },
     "execution_count": 104,
     "metadata": {},
     "output_type": "execute_result"
    }
   ],
   "source": [
    "a.sum(axis=(0,1))"
   ]
  },
  {
   "cell_type": "markdown",
   "id": "62e7e5a4-c9a7-4342-b7ea-edbc442e3070",
   "metadata": {},
   "source": [
    "- 첫번째 축과 두번째 축이 삭제됨 "
   ]
  },
  {
   "cell_type": "markdown",
   "id": "51ce60d9-1338-40f3-b0b2-8f2f63e7ebc0",
   "metadata": {},
   "source": [
    "`-` 연습 (강의에서 하지 않은 예제)"
   ]
  },
  {
   "cell_type": "code",
   "execution_count": 197,
   "id": "7abb3fdc-6b7b-4de5-84b4-80e9f9eb9e63",
   "metadata": {},
   "outputs": [
    {
     "data": {
      "text/plain": [
       "array([[0, 1],\n",
       "       [2, 3],\n",
       "       [4, 5],\n",
       "       [6, 7],\n",
       "       [8, 9]])"
      ]
     },
     "execution_count": 197,
     "metadata": {},
     "output_type": "execute_result"
    }
   ],
   "source": [
    "a=np.array(range(10)).reshape(5,2) \n",
    "a"
   ]
  },
  {
   "cell_type": "markdown",
   "id": "0937e1c9-609d-4617-a5dc-2e1508eea9e8",
   "metadata": {},
   "source": [
    "(문제1) 1열의 합, 2열의 합을 계산하고 싶다면? "
   ]
  },
  {
   "cell_type": "markdown",
   "id": "c6c17bb2-6081-4a94-9095-417980858cb0",
   "metadata": {},
   "source": [
    "(풀이) 차원이 (5,2) => (2,) 로 나와야 한다. (그럼 첫번째 축이 삭제되어야 하네?) "
   ]
  },
  {
   "cell_type": "code",
   "execution_count": 198,
   "id": "95c07915-507c-4c52-8d72-48009ddd74be",
   "metadata": {},
   "outputs": [
    {
     "data": {
      "text/plain": [
       "array([20, 25])"
      ]
     },
     "execution_count": 198,
     "metadata": {},
     "output_type": "execute_result"
    }
   ],
   "source": [
    "a.sum(axis=0)"
   ]
  },
  {
   "cell_type": "markdown",
   "id": "3cc93a6e-5e2a-4d57-bd99-005267fd5871",
   "metadata": {},
   "source": [
    "(문제2) 1행의 합, 2행의 합, ... , 5행의 합을 계산하고 싶다면? "
   ]
  },
  {
   "cell_type": "markdown",
   "id": "732be1fe-8d9c-43e9-8110-e9a13063f339",
   "metadata": {},
   "source": [
    "(풀이) 차원이 (5,2) => (5,)로 나와야 한다. (그럼 두번째 축이 삭제되어야 하네?) "
   ]
  },
  {
   "cell_type": "code",
   "execution_count": 199,
   "id": "1dcf9442-af55-45e1-b409-902b60842df5",
   "metadata": {},
   "outputs": [
    {
     "data": {
      "text/plain": [
       "array([ 1,  5,  9, 13, 17])"
      ]
     },
     "execution_count": 199,
     "metadata": {},
     "output_type": "execute_result"
    }
   ],
   "source": [
    "a.sum(axis=1)"
   ]
  },
  {
   "cell_type": "markdown",
   "id": "5e4e697f-b96c-4123-80a9-c42743c27033",
   "metadata": {},
   "source": [
    "(문제3) a의 모든원소의 합을 계산하고 싶다면? "
   ]
  },
  {
   "cell_type": "markdown",
   "id": "d9ecfbab-1112-4edc-87da-08bf8a26b174",
   "metadata": {},
   "source": [
    "(풀이) 차원이 (5,2) => () 로 나와야 한다. (첫번째축, 두번째축이 모두 삭제되어야 하네?) "
   ]
  },
  {
   "cell_type": "code",
   "execution_count": 201,
   "id": "2fb7ae30-d7fb-4683-a50b-1688907fef7a",
   "metadata": {},
   "outputs": [
    {
     "data": {
      "text/plain": [
       "45"
      ]
     },
     "execution_count": 201,
     "metadata": {},
     "output_type": "execute_result"
    }
   ],
   "source": [
    "a.sum(axis=(0,1))"
   ]
  },
  {
   "cell_type": "code",
   "execution_count": 203,
   "id": "69b3cbcf-1a9b-4a79-892b-7914d76e16d1",
   "metadata": {},
   "outputs": [
    {
     "data": {
      "text/plain": [
       "45"
      ]
     },
     "execution_count": 203,
     "metadata": {},
     "output_type": "execute_result"
    }
   ],
   "source": [
    "a.sum() # 즉 a.sum(axis=(0,1))이 디폴트값임 "
   ]
  },
  {
   "cell_type": "markdown",
   "id": "598bf92c-6b3f-4e28-8446-3c61ac1876bf",
   "metadata": {},
   "source": [
    "## mean, std, max, min, prod "
   ]
  },
  {
   "cell_type": "markdown",
   "id": "ef572abc-f67f-40af-862e-9031753b777b",
   "metadata": {},
   "source": [
    "`-` mean, std, max, min, prod 모두 sum과 유사한 논리임 "
   ]
  },
  {
   "cell_type": "markdown",
   "id": "1d377ed2-30eb-46ad-8a33-97230f1fb18c",
   "metadata": {},
   "source": [
    "`-` 평균 "
   ]
  },
  {
   "cell_type": "code",
   "execution_count": 106,
   "id": "11f83493-6bfd-479a-b087-edba5dffc561",
   "metadata": {},
   "outputs": [
    {
     "data": {
      "text/plain": [
       "array([[[ 0,  1,  2,  3,  4],\n",
       "        [ 5,  6,  7,  8,  9],\n",
       "        [10, 11, 12, 13, 14],\n",
       "        [15, 16, 17, 18, 19],\n",
       "        [20, 21, 22, 23, 24]],\n",
       "\n",
       "       [[25, 26, 27, 28, 29],\n",
       "        [30, 31, 32, 33, 34],\n",
       "        [35, 36, 37, 38, 39],\n",
       "        [40, 41, 42, 43, 44],\n",
       "        [45, 46, 47, 48, 49]],\n",
       "\n",
       "       [[50, 51, 52, 53, 54],\n",
       "        [55, 56, 57, 58, 59],\n",
       "        [60, 61, 62, 63, 64],\n",
       "        [65, 66, 67, 68, 69],\n",
       "        [70, 71, 72, 73, 74]]])"
      ]
     },
     "execution_count": 106,
     "metadata": {},
     "output_type": "execute_result"
    }
   ],
   "source": [
    "a = np.arange(3*5*5).reshape(3,5,5)\n",
    "a"
   ]
  },
  {
   "cell_type": "code",
   "execution_count": 109,
   "id": "51a9ef53-6adb-48c2-8e40-94145d4a3306",
   "metadata": {},
   "outputs": [
    {
     "data": {
      "text/plain": [
       "array([[25., 26., 27., 28., 29.],\n",
       "       [30., 31., 32., 33., 34.],\n",
       "       [35., 36., 37., 38., 39.],\n",
       "       [40., 41., 42., 43., 44.],\n",
       "       [45., 46., 47., 48., 49.]])"
      ]
     },
     "execution_count": 109,
     "metadata": {},
     "output_type": "execute_result"
    }
   ],
   "source": [
    "a.mean(axis=0)"
   ]
  },
  {
   "cell_type": "markdown",
   "id": "0f9fe5ca-72fc-4d65-bf87-9e8fc1aa7cb5",
   "metadata": {},
   "source": [
    "- `(3,5,5) => (5,5)`"
   ]
  },
  {
   "cell_type": "code",
   "execution_count": 111,
   "id": "ee033dda-f233-495b-8488-696830bfe2c1",
   "metadata": {},
   "outputs": [
    {
     "data": {
      "text/plain": [
       "array([12., 37., 62.])"
      ]
     },
     "execution_count": 111,
     "metadata": {},
     "output_type": "execute_result"
    }
   ],
   "source": [
    "a.mean(axis=(1,2))"
   ]
  },
  {
   "cell_type": "markdown",
   "id": "556964ac-5de0-4dd2-b80a-ed536d80f1e8",
   "metadata": {},
   "source": [
    "- `(3,5,5) => (3,)`"
   ]
  },
  {
   "cell_type": "markdown",
   "id": "eebf7396-d06a-4788-8849-39575ef5fd8e",
   "metadata": {},
   "source": [
    "`-` std"
   ]
  },
  {
   "cell_type": "code",
   "execution_count": 17,
   "id": "cca87e90-48ee-4da3-8966-5fb6ede72c44",
   "metadata": {},
   "outputs": [
    {
     "data": {
      "text/plain": [
       "array([[1, 2],\n",
       "       [3, 4],\n",
       "       [5, 6]])"
      ]
     },
     "execution_count": 17,
     "metadata": {},
     "output_type": "execute_result"
    }
   ],
   "source": [
    "a = np.array([1,2,3,4,5,6]).reshape(3,2)\n",
    "a"
   ]
  },
  {
   "cell_type": "code",
   "execution_count": 18,
   "id": "6dc7d504-bae6-48ae-b7c9-1280d74d00f1",
   "metadata": {},
   "outputs": [
    {
     "data": {
      "text/plain": [
       "array([0.5, 0.5, 0.5])"
      ]
     },
     "execution_count": 18,
     "metadata": {},
     "output_type": "execute_result"
    }
   ],
   "source": [
    "a.std(axis=1)"
   ]
  },
  {
   "cell_type": "markdown",
   "id": "16c01653-273b-4188-9875-ebb758ff6be4",
   "metadata": {},
   "source": [
    "**참고: 분모를 $n$이 아니라 $n-1$로 나누고 싶다면 아래와 같이 사용하라.**"
   ]
  },
  {
   "cell_type": "code",
   "execution_count": 19,
   "id": "59ed331c-fe39-4bc4-851f-1591008b6a6e",
   "metadata": {},
   "outputs": [
    {
     "data": {
      "text/plain": [
       "array([0.70710678, 0.70710678, 0.70710678])"
      ]
     },
     "execution_count": 19,
     "metadata": {},
     "output_type": "execute_result"
    }
   ],
   "source": [
    "a.std(axis=1,ddof=1)"
   ]
  },
  {
   "cell_type": "markdown",
   "id": "f223294b-b0d0-4808-b03c-c3afb588d256",
   "metadata": {},
   "source": [
    "`-` max,min,prod"
   ]
  },
  {
   "cell_type": "code",
   "execution_count": 20,
   "id": "9e9b571a-acae-42f7-92b8-cefdd1656c4d",
   "metadata": {},
   "outputs": [
    {
     "data": {
      "text/plain": [
       "array([[1, 2],\n",
       "       [3, 4],\n",
       "       [5, 6]])"
      ]
     },
     "execution_count": 20,
     "metadata": {},
     "output_type": "execute_result"
    }
   ],
   "source": [
    "a = np.array([1,2,3,4,5,6]).reshape(3,2)\n",
    "a"
   ]
  },
  {
   "cell_type": "code",
   "execution_count": 21,
   "id": "7536b2a6-7e7e-4a3a-8ff7-5f962aa0dc8e",
   "metadata": {},
   "outputs": [
    {
     "data": {
      "text/plain": [
       "array([2, 4, 6])"
      ]
     },
     "execution_count": 21,
     "metadata": {},
     "output_type": "execute_result"
    }
   ],
   "source": [
    "a.max(axis=1)"
   ]
  },
  {
   "cell_type": "code",
   "execution_count": 22,
   "id": "f649b54b-651a-4bf3-825e-6f22a2773682",
   "metadata": {},
   "outputs": [
    {
     "data": {
      "text/plain": [
       "array([1, 3, 5])"
      ]
     },
     "execution_count": 22,
     "metadata": {},
     "output_type": "execute_result"
    }
   ],
   "source": [
    "a.min(axis=1)"
   ]
  },
  {
   "cell_type": "code",
   "execution_count": 23,
   "id": "ed0a5b29-2e2e-4746-a0e1-c814993302bd",
   "metadata": {},
   "outputs": [
    {
     "data": {
      "text/plain": [
       "array([ 2, 12, 30])"
      ]
     },
     "execution_count": 23,
     "metadata": {},
     "output_type": "execute_result"
    }
   ],
   "source": [
    "a.prod(axis=1)"
   ]
  },
  {
   "cell_type": "markdown",
   "id": "7370c1df-9706-4091-8424-53e4d677582a",
   "metadata": {},
   "source": [
    "## argmax, argmin "
   ]
  },
  {
   "cell_type": "markdown",
   "id": "58aac90a-9860-45b1-abb1-f9cb196b50a7",
   "metadata": {},
   "source": [
    "`-` 아래와 같은 행렬 `a`를 고려하자. "
   ]
  },
  {
   "cell_type": "code",
   "execution_count": 25,
   "id": "a7cf21db-4e2b-4776-a2bb-930ba5256b31",
   "metadata": {},
   "outputs": [
    {
     "data": {
      "text/plain": [
       "array([[0.58989212, 0.30450216, 0.10560572],\n",
       "       [0.05347106, 0.83664056, 0.10988837],\n",
       "       [0.50986898, 0.27325369, 0.21687733],\n",
       "       [0.06361946, 0.33376979, 0.60261074],\n",
       "       [0.0593742 , 0.70953607, 0.23108973]])"
      ]
     },
     "execution_count": 25,
     "metadata": {},
     "output_type": "execute_result"
    }
   ],
   "source": [
    "a = np.random.rand(15).reshape(5,3)\n",
    "a = np.stack([np.array(l)/l.sum() for l in a]) # 리스트는 5개의 원소가 있으며 각 원소는 차원이 (3,) => stack을 이용해 첫 위치에 축을 추가하여 (5,3) 매트릭스를 만듬 \n",
    "a"
   ]
  },
  {
   "cell_type": "markdown",
   "id": "a3790f00-2b3a-47b3-b619-6beba34dba13",
   "metadata": {},
   "source": [
    "- 편의상 이 행렬의 each-row 는 어떠한 이미지가 '개,고양이,사과' 일 확률을 의미한다고 상상하자. "
   ]
  },
  {
   "cell_type": "markdown",
   "id": "aa8db5f3-ba99-4ddf-befc-449c1c892230",
   "metadata": {},
   "source": [
    "`-` 위의 `a`에서 최대값을 가지는 index를 리턴하는 함수 (=`np.argmax`)를 행별로 적용하려면?"
   ]
  },
  {
   "cell_type": "code",
   "execution_count": 26,
   "id": "9ad1f0a3-7625-4ddd-a522-4b0e16d78d31",
   "metadata": {},
   "outputs": [
    {
     "data": {
      "text/plain": [
       "array([0, 1, 0, 2, 1])"
      ]
     },
     "execution_count": 26,
     "metadata": {},
     "output_type": "execute_result"
    }
   ],
   "source": [
    "np.argmax(a,axis=1)"
   ]
  },
  {
   "cell_type": "markdown",
   "id": "1063c607-13e4-4312-a402-8143efbad503",
   "metadata": {},
   "source": [
    "# 숙제 "
   ]
  }
 ],
 "metadata": {
  "kernelspec": {
   "display_name": "Python 3",
   "language": "python",
   "name": "python3"
  },
  "language_info": {
   "codemirror_mode": {
    "name": "ipython",
    "version": 3
   },
   "file_extension": ".py",
   "mimetype": "text/x-python",
   "name": "python",
   "nbconvert_exporter": "python",
   "pygments_lexer": "ipython3",
   "version": "3.8.16"
  }
 },
 "nbformat": 4,
 "nbformat_minor": 5
}
