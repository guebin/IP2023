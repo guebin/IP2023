{
 "cells": [
  {
   "cell_type": "raw",
   "id": "b34521f2-3a09-47e4-97d1-ff62b3984530",
   "metadata": {},
   "source": [
    "---\n",
    "title: \"08wk-2: Pandas (2)\"\n",
    "author: \"최규빈\"\n",
    "date: \"04/26/2023\"\n",
    "---"
   ]
  },
  {
   "cell_type": "markdown",
   "id": "9ffaa8fd-6972-4c0f-862c-37346b8d2f85",
   "metadata": {},
   "source": [
    "<a href=\"https://colab.research.google.com/github/guebin/PP2023/blob/main/posts/02_PY4DS/2023-04-26-8wk-2.ipynb\"><img src=\"https://colab.research.google.com/assets/colab-badge.svg\" style=\"text-align: left\"></a>"
   ]
  },
  {
   "cell_type": "markdown",
   "id": "5375b4d7-23ba-4cff-8355-4aa1ccf52ea4",
   "metadata": {},
   "source": [
    "# 강의영상 "
   ]
  },
  {
   "cell_type": "markdown",
   "id": "44675b75-993f-423c-bcb8-f70751b39b86",
   "metadata": {},
   "source": [
    "## query ($\\star$)"
   ]
  },
  {
   "cell_type": "markdown",
   "id": "ac6e5d84-0a67-4803-b4cd-1ea601918c7b",
   "metadata": {},
   "source": [
    "`-` 예제1: att==90 and mid>30"
   ]
  },
  {
   "cell_type": "markdown",
   "id": "8ca21303-0923-4bfe-936a-d0621050d7a2",
   "metadata": {},
   "source": [
    "`-` 예제2: att<rep and mid<fin"
   ]
  },
  {
   "cell_type": "markdown",
   "id": "25f2eba9-a064-4e17-a4a0-1c38f53a7798",
   "metadata": {},
   "source": [
    "`-` 예제3: att < rep < 80"
   ]
  },
  {
   "cell_type": "markdown",
   "id": "42daaef2-fcae-42e5-abcd-3feafb009124",
   "metadata": {},
   "source": [
    "`-` 예제4: 50 < att <= 90 and mid < fin"
   ]
  },
  {
   "cell_type": "markdown",
   "id": "a24f5b11-e0db-46ed-9be4-43472d0a74f7",
   "metadata": {},
   "source": [
    "`-` 예제5: (mid+fin)/2 >=60"
   ]
  },
  {
   "cell_type": "markdown",
   "id": "625798ee-4c4c-4983-b5b3-fea6bebd9746",
   "metadata": {},
   "source": [
    "`-` 예제6: att > mean(att) "
   ]
  },
  {
   "cell_type": "markdown",
   "id": "9686e987-f66a-4580-829b-1966f29a8eaf",
   "metadata": {},
   "source": [
    "`-` 예제7: 학번 <= '2022-12380' "
   ]
  },
  {
   "cell_type": "markdown",
   "id": "172e0617-7ee9-4d72-bccb-9fafee525b33",
   "metadata": {},
   "source": [
    "`-` 예제8: 시계열자료에서의 인덱싱 (예제7의 응용)"
   ]
  },
  {
   "cell_type": "code",
   "execution_count": 113,
   "id": "dd64bbeb-f548-4e57-b8ef-6e1f5e1b3b31",
   "metadata": {},
   "outputs": [
    {
     "data": {
      "text/plain": [
       "DatetimeIndex(['2021-12-26', '2021-12-27', '2021-12-28', '2021-12-29',\n",
       "               '2021-12-30', '2021-12-31', '2022-01-01', '2022-01-02',\n",
       "               '2022-01-03', '2022-01-04'],\n",
       "              dtype='datetime64[ns]', freq='D')"
      ]
     },
     "execution_count": 113,
     "metadata": {},
     "output_type": "execute_result"
    }
   ],
   "source": [
    "pd.date_range('20211226',periods=10)"
   ]
  },
  {
   "cell_type": "code",
   "execution_count": 114,
   "id": "4f523f3e-95fd-41ae-922b-7f93856ff239",
   "metadata": {},
   "outputs": [
    {
     "data": {
      "text/html": [
       "<div>\n",
       "<style scoped>\n",
       "    .dataframe tbody tr th:only-of-type {\n",
       "        vertical-align: middle;\n",
       "    }\n",
       "\n",
       "    .dataframe tbody tr th {\n",
       "        vertical-align: top;\n",
       "    }\n",
       "\n",
       "    .dataframe thead th {\n",
       "        text-align: right;\n",
       "    }\n",
       "</style>\n",
       "<table border=\"1\" class=\"dataframe\">\n",
       "  <thead>\n",
       "    <tr style=\"text-align: right;\">\n",
       "      <th></th>\n",
       "      <th>A</th>\n",
       "      <th>B</th>\n",
       "      <th>C</th>\n",
       "      <th>D</th>\n",
       "    </tr>\n",
       "  </thead>\n",
       "  <tbody>\n",
       "    <tr>\n",
       "      <th>2021-12-26</th>\n",
       "      <td>0.106173</td>\n",
       "      <td>0.723759</td>\n",
       "      <td>0.217990</td>\n",
       "      <td>0.194022</td>\n",
       "    </tr>\n",
       "    <tr>\n",
       "      <th>2021-12-27</th>\n",
       "      <td>-0.688990</td>\n",
       "      <td>-0.351670</td>\n",
       "      <td>0.990933</td>\n",
       "      <td>1.212147</td>\n",
       "    </tr>\n",
       "    <tr>\n",
       "      <th>2021-12-28</th>\n",
       "      <td>-0.608965</td>\n",
       "      <td>0.032549</td>\n",
       "      <td>-1.884089</td>\n",
       "      <td>-0.860866</td>\n",
       "    </tr>\n",
       "    <tr>\n",
       "      <th>2021-12-29</th>\n",
       "      <td>0.552755</td>\n",
       "      <td>0.104294</td>\n",
       "      <td>-1.661620</td>\n",
       "      <td>-0.965230</td>\n",
       "    </tr>\n",
       "    <tr>\n",
       "      <th>2021-12-30</th>\n",
       "      <td>1.898428</td>\n",
       "      <td>2.625531</td>\n",
       "      <td>-0.381609</td>\n",
       "      <td>-0.948021</td>\n",
       "    </tr>\n",
       "    <tr>\n",
       "      <th>2021-12-31</th>\n",
       "      <td>0.453758</td>\n",
       "      <td>-0.716270</td>\n",
       "      <td>-0.167750</td>\n",
       "      <td>0.089546</td>\n",
       "    </tr>\n",
       "    <tr>\n",
       "      <th>2022-01-01</th>\n",
       "      <td>0.874006</td>\n",
       "      <td>0.401627</td>\n",
       "      <td>0.204911</td>\n",
       "      <td>1.042722</td>\n",
       "    </tr>\n",
       "    <tr>\n",
       "      <th>2022-01-02</th>\n",
       "      <td>-0.352356</td>\n",
       "      <td>-1.241658</td>\n",
       "      <td>-0.434388</td>\n",
       "      <td>-1.436772</td>\n",
       "    </tr>\n",
       "    <tr>\n",
       "      <th>2022-01-03</th>\n",
       "      <td>-0.539290</td>\n",
       "      <td>0.018518</td>\n",
       "      <td>-0.573696</td>\n",
       "      <td>0.937827</td>\n",
       "    </tr>\n",
       "    <tr>\n",
       "      <th>2022-01-04</th>\n",
       "      <td>1.079232</td>\n",
       "      <td>0.248633</td>\n",
       "      <td>-0.004055</td>\n",
       "      <td>1.266743</td>\n",
       "    </tr>\n",
       "  </tbody>\n",
       "</table>\n",
       "</div>"
      ],
      "text/plain": [
       "                   A         B         C         D\n",
       "2021-12-26  0.106173  0.723759  0.217990  0.194022\n",
       "2021-12-27 -0.688990 -0.351670  0.990933  1.212147\n",
       "2021-12-28 -0.608965  0.032549 -1.884089 -0.860866\n",
       "2021-12-29  0.552755  0.104294 -1.661620 -0.965230\n",
       "2021-12-30  1.898428  2.625531 -0.381609 -0.948021\n",
       "2021-12-31  0.453758 -0.716270 -0.167750  0.089546\n",
       "2022-01-01  0.874006  0.401627  0.204911  1.042722\n",
       "2022-01-02 -0.352356 -1.241658 -0.434388 -1.436772\n",
       "2022-01-03 -0.539290  0.018518 -0.573696  0.937827\n",
       "2022-01-04  1.079232  0.248633 -0.004055  1.266743"
      ]
     },
     "execution_count": 114,
     "metadata": {},
     "output_type": "execute_result"
    }
   ],
   "source": [
    "_df=pd.DataFrame(np.random.normal(size=(10,4)),columns=list('ABCD'),index=pd.date_range('20211226',periods=10))\n",
    "_df"
   ]
  },
  {
   "cell_type": "code",
   "execution_count": 115,
   "id": "cd6ffe37-1e33-4e27-843b-ba7555d4af97",
   "metadata": {},
   "outputs": [
    {
     "data": {
      "text/html": [
       "<div>\n",
       "<style scoped>\n",
       "    .dataframe tbody tr th:only-of-type {\n",
       "        vertical-align: middle;\n",
       "    }\n",
       "\n",
       "    .dataframe tbody tr th {\n",
       "        vertical-align: top;\n",
       "    }\n",
       "\n",
       "    .dataframe thead th {\n",
       "        text-align: right;\n",
       "    }\n",
       "</style>\n",
       "<table border=\"1\" class=\"dataframe\">\n",
       "  <thead>\n",
       "    <tr style=\"text-align: right;\">\n",
       "      <th></th>\n",
       "      <th>A</th>\n",
       "      <th>B</th>\n",
       "      <th>C</th>\n",
       "      <th>D</th>\n",
       "    </tr>\n",
       "  </thead>\n",
       "  <tbody>\n",
       "    <tr>\n",
       "      <th>2021-12-29</th>\n",
       "      <td>0.552755</td>\n",
       "      <td>0.104294</td>\n",
       "      <td>-1.661620</td>\n",
       "      <td>-0.965230</td>\n",
       "    </tr>\n",
       "    <tr>\n",
       "      <th>2021-12-30</th>\n",
       "      <td>1.898428</td>\n",
       "      <td>2.625531</td>\n",
       "      <td>-0.381609</td>\n",
       "      <td>-0.948021</td>\n",
       "    </tr>\n",
       "    <tr>\n",
       "      <th>2021-12-31</th>\n",
       "      <td>0.453758</td>\n",
       "      <td>-0.716270</td>\n",
       "      <td>-0.167750</td>\n",
       "      <td>0.089546</td>\n",
       "    </tr>\n",
       "    <tr>\n",
       "      <th>2022-01-01</th>\n",
       "      <td>0.874006</td>\n",
       "      <td>0.401627</td>\n",
       "      <td>0.204911</td>\n",
       "      <td>1.042722</td>\n",
       "    </tr>\n",
       "    <tr>\n",
       "      <th>2022-01-02</th>\n",
       "      <td>-0.352356</td>\n",
       "      <td>-1.241658</td>\n",
       "      <td>-0.434388</td>\n",
       "      <td>-1.436772</td>\n",
       "    </tr>\n",
       "    <tr>\n",
       "      <th>2022-01-03</th>\n",
       "      <td>-0.539290</td>\n",
       "      <td>0.018518</td>\n",
       "      <td>-0.573696</td>\n",
       "      <td>0.937827</td>\n",
       "    </tr>\n",
       "  </tbody>\n",
       "</table>\n",
       "</div>"
      ],
      "text/plain": [
       "                   A         B         C         D\n",
       "2021-12-29  0.552755  0.104294 -1.661620 -0.965230\n",
       "2021-12-30  1.898428  2.625531 -0.381609 -0.948021\n",
       "2021-12-31  0.453758 -0.716270 -0.167750  0.089546\n",
       "2022-01-01  0.874006  0.401627  0.204911  1.042722\n",
       "2022-01-02 -0.352356 -1.241658 -0.434388 -1.436772\n",
       "2022-01-03 -0.539290  0.018518 -0.573696  0.937827"
      ]
     },
     "execution_count": 115,
     "metadata": {},
     "output_type": "execute_result"
    }
   ],
   "source": [
    "_df.query(\" '2021-12-29' <=  index <= '2022-01-03' \")"
   ]
  },
  {
   "cell_type": "code",
   "execution_count": 240,
   "id": "a604a35c-6f8e-48b1-bbc8-dc4d3771f205",
   "metadata": {},
   "outputs": [
    {
     "data": {
      "text/html": [
       "<div>\n",
       "<style scoped>\n",
       "    .dataframe tbody tr th:only-of-type {\n",
       "        vertical-align: middle;\n",
       "    }\n",
       "\n",
       "    .dataframe tbody tr th {\n",
       "        vertical-align: top;\n",
       "    }\n",
       "\n",
       "    .dataframe thead th {\n",
       "        text-align: right;\n",
       "    }\n",
       "</style>\n",
       "<table border=\"1\" class=\"dataframe\">\n",
       "  <thead>\n",
       "    <tr style=\"text-align: right;\">\n",
       "      <th></th>\n",
       "      <th>A</th>\n",
       "      <th>B</th>\n",
       "      <th>C</th>\n",
       "      <th>D</th>\n",
       "    </tr>\n",
       "  </thead>\n",
       "  <tbody>\n",
       "    <tr>\n",
       "      <th>2021-12-30</th>\n",
       "      <td>-0.794595</td>\n",
       "      <td>-2.605380</td>\n",
       "      <td>0.283726</td>\n",
       "      <td>-1.832944</td>\n",
       "    </tr>\n",
       "    <tr>\n",
       "      <th>2022-01-01</th>\n",
       "      <td>-0.918335</td>\n",
       "      <td>0.402325</td>\n",
       "      <td>0.485921</td>\n",
       "      <td>0.122862</td>\n",
       "    </tr>\n",
       "    <tr>\n",
       "      <th>2022-01-03</th>\n",
       "      <td>-0.441720</td>\n",
       "      <td>0.319821</td>\n",
       "      <td>0.705463</td>\n",
       "      <td>-0.027263</td>\n",
       "    </tr>\n",
       "  </tbody>\n",
       "</table>\n",
       "</div>"
      ],
      "text/plain": [
       "                   A         B         C         D\n",
       "2021-12-30 -0.794595 -2.605380  0.283726 -1.832944\n",
       "2022-01-01 -0.918335  0.402325  0.485921  0.122862\n",
       "2022-01-03 -0.441720  0.319821  0.705463 -0.027263"
      ]
     },
     "execution_count": 240,
     "metadata": {},
     "output_type": "execute_result"
    }
   ],
   "source": [
    "_df.query(\" '2021-12-29' <=  index <= '2022-01-03' and A+B<C  \")"
   ]
  },
  {
   "cell_type": "markdown",
   "id": "fe6144db-b08b-45bb-b488-edd07b89327a",
   "metadata": {},
   "source": [
    "`-` 주의: query가 만능은 아니다. "
   ]
  },
  {
   "cell_type": "code",
   "execution_count": 116,
   "id": "2ff36199-6eb5-4e2c-8300-3b8c139e7a52",
   "metadata": {},
   "outputs": [],
   "source": [
    "df.columns = pd.Index(['att score', 'rep score', 'mid score', 'fin score'])"
   ]
  },
  {
   "cell_type": "code",
   "execution_count": 120,
   "id": "c1665860-d452-4459-90c0-7bb675cb917c",
   "metadata": {},
   "outputs": [
    {
     "ename": "SyntaxError",
     "evalue": "invalid syntax (<unknown>, line 1)",
     "output_type": "error",
     "traceback": [
      "Traceback \u001b[0;36m(most recent call last)\u001b[0m:\n",
      "\u001b[0m  File \u001b[1;32m~/anaconda3/envs/py38/lib/python3.8/site-packages/IPython/core/interactiveshell.py:3460\u001b[0m in \u001b[1;35mrun_code\u001b[0m\n    exec(code_obj, self.user_global_ns, self.user_ns)\u001b[0m\n",
      "\u001b[0m  Cell \u001b[1;32mIn[120], line 1\u001b[0m\n    df.query(\" att score < 90 \")\u001b[0m\n",
      "\u001b[0m  File \u001b[1;32m~/anaconda3/envs/py38/lib/python3.8/site-packages/pandas/core/frame.py:4449\u001b[0m in \u001b[1;35mquery\u001b[0m\n    res = self.eval(expr, **kwargs)\u001b[0m\n",
      "\u001b[0m  File \u001b[1;32m~/anaconda3/envs/py38/lib/python3.8/site-packages/pandas/core/frame.py:4575\u001b[0m in \u001b[1;35meval\u001b[0m\n    return _eval(expr, inplace=inplace, **kwargs)\u001b[0m\n",
      "\u001b[0m  File \u001b[1;32m~/anaconda3/envs/py38/lib/python3.8/site-packages/pandas/core/computation/eval.py:336\u001b[0m in \u001b[1;35meval\u001b[0m\n    parsed_expr = Expr(expr, engine=engine, parser=parser, env=env)\u001b[0m\n",
      "\u001b[0m  File \u001b[1;32m~/anaconda3/envs/py38/lib/python3.8/site-packages/pandas/core/computation/expr.py:809\u001b[0m in \u001b[1;35m__init__\u001b[0m\n    self.terms = self.parse()\u001b[0m\n",
      "\u001b[0m  File \u001b[1;32m~/anaconda3/envs/py38/lib/python3.8/site-packages/pandas/core/computation/expr.py:828\u001b[0m in \u001b[1;35mparse\u001b[0m\n    return self._visitor.visit(self.expr)\u001b[0m\n",
      "\u001b[0m  File \u001b[1;32m~/anaconda3/envs/py38/lib/python3.8/site-packages/pandas/core/computation/expr.py:411\u001b[0m in \u001b[1;35mvisit\u001b[0m\n    raise e\u001b[0m\n",
      "\u001b[0m  File \u001b[1;32m~/anaconda3/envs/py38/lib/python3.8/site-packages/pandas/core/computation/expr.py:407\u001b[0m in \u001b[1;35mvisit\u001b[0m\n    node = ast.fix_missing_locations(ast.parse(clean))\u001b[0m\n",
      "\u001b[0;36m  File \u001b[0;32m~/anaconda3/envs/py38/lib/python3.8/ast.py:47\u001b[0;36m in \u001b[0;35mparse\u001b[0;36m\n\u001b[0;31m    return compile(source, filename, mode, flags,\u001b[0;36m\n",
      "\u001b[0;36m  File \u001b[0;32m<unknown>:1\u001b[0;36m\u001b[0m\n\u001b[0;31m    att score <90\u001b[0m\n\u001b[0m        ^\u001b[0m\n\u001b[0;31mSyntaxError\u001b[0m\u001b[0;31m:\u001b[0m invalid syntax\n"
     ]
    }
   ],
   "source": [
    "df.query(\" att score < 90 \")\n",
    "# df.loc[df['att score'] < 90,:] <-- 이렇게 구현하면 된다! (아니면 변수이름을 바꿔주는 코드를 짜든가)"
   ]
  },
  {
   "cell_type": "markdown",
   "id": "125e40dc-751e-4ffd-880b-90764c672029",
   "metadata": {},
   "source": [
    "# pandas 공부 3단계 "
   ]
  },
  {
   "cell_type": "markdown",
   "id": "08484138-61c7-4b24-a4cd-71b6f1b00d86",
   "metadata": {},
   "source": [
    "`-` df자료형의 메소드를 알아보자. "
   ]
  },
  {
   "cell_type": "markdown",
   "id": "99ad162a-bc6c-4b46-8828-4c078168f599",
   "metadata": {},
   "source": [
    "## 전치  "
   ]
  },
  {
   "cell_type": "code",
   "execution_count": 248,
   "id": "04bb5e2a-0a00-4f6c-b432-ab373de519cf",
   "metadata": {},
   "outputs": [
    {
     "data": {
      "text/html": [
       "<div>\n",
       "<style scoped>\n",
       "    .dataframe tbody tr th:only-of-type {\n",
       "        vertical-align: middle;\n",
       "    }\n",
       "\n",
       "    .dataframe tbody tr th {\n",
       "        vertical-align: top;\n",
       "    }\n",
       "\n",
       "    .dataframe thead th {\n",
       "        text-align: right;\n",
       "    }\n",
       "</style>\n",
       "<table border=\"1\" class=\"dataframe\">\n",
       "  <thead>\n",
       "    <tr style=\"text-align: right;\">\n",
       "      <th></th>\n",
       "      <th>0</th>\n",
       "      <th>1</th>\n",
       "      <th>2</th>\n",
       "    </tr>\n",
       "  </thead>\n",
       "  <tbody>\n",
       "    <tr>\n",
       "      <th>0</th>\n",
       "      <td>0</td>\n",
       "      <td>1</td>\n",
       "      <td>2</td>\n",
       "    </tr>\n",
       "    <tr>\n",
       "      <th>1</th>\n",
       "      <td>3</td>\n",
       "      <td>4</td>\n",
       "      <td>5</td>\n",
       "    </tr>\n",
       "  </tbody>\n",
       "</table>\n",
       "</div>"
      ],
      "text/plain": [
       "   0  1  2\n",
       "0  0  1  2\n",
       "1  3  4  5"
      ]
     },
     "execution_count": 248,
     "metadata": {},
     "output_type": "execute_result"
    }
   ],
   "source": [
    "arr = np.arange(2*3).reshape(2,3)\n",
    "df = pd.DataFrame(ndarray)\n",
    "df"
   ]
  },
  {
   "cell_type": "code",
   "execution_count": 249,
   "id": "fc35d9a6-93dc-464d-8834-8408bf4c8032",
   "metadata": {},
   "outputs": [
    {
     "data": {
      "text/plain": [
       "array([[0, 3],\n",
       "       [1, 4],\n",
       "       [2, 5]])"
      ]
     },
     "execution_count": 249,
     "metadata": {},
     "output_type": "execute_result"
    }
   ],
   "source": [
    "arr.T"
   ]
  },
  {
   "cell_type": "code",
   "execution_count": 250,
   "id": "dd6d3c2a-80f7-4345-bb71-435168b12a3c",
   "metadata": {},
   "outputs": [
    {
     "data": {
      "text/html": [
       "<div>\n",
       "<style scoped>\n",
       "    .dataframe tbody tr th:only-of-type {\n",
       "        vertical-align: middle;\n",
       "    }\n",
       "\n",
       "    .dataframe tbody tr th {\n",
       "        vertical-align: top;\n",
       "    }\n",
       "\n",
       "    .dataframe thead th {\n",
       "        text-align: right;\n",
       "    }\n",
       "</style>\n",
       "<table border=\"1\" class=\"dataframe\">\n",
       "  <thead>\n",
       "    <tr style=\"text-align: right;\">\n",
       "      <th></th>\n",
       "      <th>0</th>\n",
       "      <th>1</th>\n",
       "    </tr>\n",
       "  </thead>\n",
       "  <tbody>\n",
       "    <tr>\n",
       "      <th>0</th>\n",
       "      <td>0</td>\n",
       "      <td>3</td>\n",
       "    </tr>\n",
       "    <tr>\n",
       "      <th>1</th>\n",
       "      <td>1</td>\n",
       "      <td>4</td>\n",
       "    </tr>\n",
       "    <tr>\n",
       "      <th>2</th>\n",
       "      <td>2</td>\n",
       "      <td>5</td>\n",
       "    </tr>\n",
       "  </tbody>\n",
       "</table>\n",
       "</div>"
      ],
      "text/plain": [
       "   0  1\n",
       "0  0  3\n",
       "1  1  4\n",
       "2  2  5"
      ]
     },
     "execution_count": 250,
     "metadata": {},
     "output_type": "execute_result"
    }
   ],
   "source": [
    "df.T"
   ]
  },
  {
   "cell_type": "markdown",
   "id": "3f3d23bf-3fd8-4fca-b03d-a5f38efc6d22",
   "metadata": {},
   "source": [
    "## 합"
   ]
  },
  {
   "cell_type": "code",
   "execution_count": 251,
   "id": "2a426a96-d4e9-4011-a36f-f3a5bb753998",
   "metadata": {},
   "outputs": [
    {
     "data": {
      "text/plain": [
       "array([3, 5, 7])"
      ]
     },
     "execution_count": 251,
     "metadata": {},
     "output_type": "execute_result"
    }
   ],
   "source": [
    "arr.sum(axis=0)"
   ]
  },
  {
   "cell_type": "code",
   "execution_count": 252,
   "id": "99e22eab-0cef-4c80-92f2-0f8c0375ee73",
   "metadata": {},
   "outputs": [
    {
     "data": {
      "text/plain": [
       "0    3\n",
       "1    5\n",
       "2    7\n",
       "dtype: int64"
      ]
     },
     "execution_count": 252,
     "metadata": {},
     "output_type": "execute_result"
    }
   ],
   "source": [
    "df.sum(axis=0)"
   ]
  },
  {
   "cell_type": "code",
   "execution_count": 254,
   "id": "b6aece73-cabb-480d-8342-5554ceed1f59",
   "metadata": {},
   "outputs": [
    {
     "data": {
      "text/plain": [
       "array([ 3, 12])"
      ]
     },
     "execution_count": 254,
     "metadata": {},
     "output_type": "execute_result"
    }
   ],
   "source": [
    "arr.sum(axis=1)"
   ]
  },
  {
   "cell_type": "code",
   "execution_count": 255,
   "id": "71fb404f-b55c-4c16-93d7-2989e0c16c42",
   "metadata": {},
   "outputs": [
    {
     "data": {
      "text/plain": [
       "0     3\n",
       "1    12\n",
       "dtype: int64"
      ]
     },
     "execution_count": 255,
     "metadata": {},
     "output_type": "execute_result"
    }
   ],
   "source": [
    "df.sum(axis=1)"
   ]
  },
  {
   "cell_type": "markdown",
   "id": "66ec954b-4c49-4887-bba8-fac69348bbe8",
   "metadata": {},
   "source": [
    "## cumsum "
   ]
  },
  {
   "cell_type": "code",
   "execution_count": 256,
   "id": "e207a37c-2c24-4419-ae72-00154d8e648d",
   "metadata": {},
   "outputs": [
    {
     "data": {
      "text/html": [
       "<div>\n",
       "<style scoped>\n",
       "    .dataframe tbody tr th:only-of-type {\n",
       "        vertical-align: middle;\n",
       "    }\n",
       "\n",
       "    .dataframe tbody tr th {\n",
       "        vertical-align: top;\n",
       "    }\n",
       "\n",
       "    .dataframe thead th {\n",
       "        text-align: right;\n",
       "    }\n",
       "</style>\n",
       "<table border=\"1\" class=\"dataframe\">\n",
       "  <thead>\n",
       "    <tr style=\"text-align: right;\">\n",
       "      <th></th>\n",
       "      <th>0</th>\n",
       "      <th>1</th>\n",
       "      <th>2</th>\n",
       "    </tr>\n",
       "  </thead>\n",
       "  <tbody>\n",
       "    <tr>\n",
       "      <th>0</th>\n",
       "      <td>0</td>\n",
       "      <td>1</td>\n",
       "      <td>2</td>\n",
       "    </tr>\n",
       "    <tr>\n",
       "      <th>1</th>\n",
       "      <td>3</td>\n",
       "      <td>4</td>\n",
       "      <td>5</td>\n",
       "    </tr>\n",
       "  </tbody>\n",
       "</table>\n",
       "</div>"
      ],
      "text/plain": [
       "   0  1  2\n",
       "0  0  1  2\n",
       "1  3  4  5"
      ]
     },
     "execution_count": 256,
     "metadata": {},
     "output_type": "execute_result"
    }
   ],
   "source": [
    "df"
   ]
  },
  {
   "cell_type": "code",
   "execution_count": 257,
   "id": "27896693-10f6-4642-aa0a-c09fe01af8a7",
   "metadata": {},
   "outputs": [
    {
     "data": {
      "text/plain": [
       "array([[0, 1, 2],\n",
       "       [3, 5, 7]])"
      ]
     },
     "execution_count": 257,
     "metadata": {},
     "output_type": "execute_result"
    }
   ],
   "source": [
    "arr.cumsum(axis=0)"
   ]
  },
  {
   "cell_type": "code",
   "execution_count": 258,
   "id": "65792917-c778-4c42-9315-92da43ba7c58",
   "metadata": {},
   "outputs": [
    {
     "data": {
      "text/html": [
       "<div>\n",
       "<style scoped>\n",
       "    .dataframe tbody tr th:only-of-type {\n",
       "        vertical-align: middle;\n",
       "    }\n",
       "\n",
       "    .dataframe tbody tr th {\n",
       "        vertical-align: top;\n",
       "    }\n",
       "\n",
       "    .dataframe thead th {\n",
       "        text-align: right;\n",
       "    }\n",
       "</style>\n",
       "<table border=\"1\" class=\"dataframe\">\n",
       "  <thead>\n",
       "    <tr style=\"text-align: right;\">\n",
       "      <th></th>\n",
       "      <th>0</th>\n",
       "      <th>1</th>\n",
       "      <th>2</th>\n",
       "    </tr>\n",
       "  </thead>\n",
       "  <tbody>\n",
       "    <tr>\n",
       "      <th>0</th>\n",
       "      <td>0</td>\n",
       "      <td>1</td>\n",
       "      <td>2</td>\n",
       "    </tr>\n",
       "    <tr>\n",
       "      <th>1</th>\n",
       "      <td>3</td>\n",
       "      <td>5</td>\n",
       "      <td>7</td>\n",
       "    </tr>\n",
       "  </tbody>\n",
       "</table>\n",
       "</div>"
      ],
      "text/plain": [
       "   0  1  2\n",
       "0  0  1  2\n",
       "1  3  5  7"
      ]
     },
     "execution_count": 258,
     "metadata": {},
     "output_type": "execute_result"
    }
   ],
   "source": [
    "df.cumsum(axis=0)"
   ]
  },
  {
   "cell_type": "code",
   "execution_count": 259,
   "id": "56cdead2-b51c-4e1d-b9e6-b02ffa2a9836",
   "metadata": {},
   "outputs": [
    {
     "data": {
      "text/plain": [
       "array([[ 0,  1,  3],\n",
       "       [ 3,  7, 12]])"
      ]
     },
     "execution_count": 259,
     "metadata": {},
     "output_type": "execute_result"
    }
   ],
   "source": [
    "arr.cumsum(axis=1)"
   ]
  },
  {
   "cell_type": "code",
   "execution_count": 260,
   "id": "b58c6918-3d40-4324-8146-611d018c0a72",
   "metadata": {},
   "outputs": [
    {
     "data": {
      "text/html": [
       "<div>\n",
       "<style scoped>\n",
       "    .dataframe tbody tr th:only-of-type {\n",
       "        vertical-align: middle;\n",
       "    }\n",
       "\n",
       "    .dataframe tbody tr th {\n",
       "        vertical-align: top;\n",
       "    }\n",
       "\n",
       "    .dataframe thead th {\n",
       "        text-align: right;\n",
       "    }\n",
       "</style>\n",
       "<table border=\"1\" class=\"dataframe\">\n",
       "  <thead>\n",
       "    <tr style=\"text-align: right;\">\n",
       "      <th></th>\n",
       "      <th>0</th>\n",
       "      <th>1</th>\n",
       "      <th>2</th>\n",
       "    </tr>\n",
       "  </thead>\n",
       "  <tbody>\n",
       "    <tr>\n",
       "      <th>0</th>\n",
       "      <td>0</td>\n",
       "      <td>1</td>\n",
       "      <td>3</td>\n",
       "    </tr>\n",
       "    <tr>\n",
       "      <th>1</th>\n",
       "      <td>3</td>\n",
       "      <td>7</td>\n",
       "      <td>12</td>\n",
       "    </tr>\n",
       "  </tbody>\n",
       "</table>\n",
       "</div>"
      ],
      "text/plain": [
       "   0  1   2\n",
       "0  0  1   3\n",
       "1  3  7  12"
      ]
     },
     "execution_count": 260,
     "metadata": {},
     "output_type": "execute_result"
    }
   ],
   "source": [
    "df.cumsum(axis=1)"
   ]
  },
  {
   "cell_type": "markdown",
   "id": "1363b8ed-d738-487d-8504-cd30f4822314",
   "metadata": {},
   "source": [
    "## 형태변환 "
   ]
  },
  {
   "cell_type": "code",
   "execution_count": 261,
   "id": "d358f133-a1aa-45e7-89bc-103b6308a443",
   "metadata": {},
   "outputs": [
    {
     "data": {
      "text/plain": [
       "[[0, 1, 2], [3, 4, 5]]"
      ]
     },
     "execution_count": 261,
     "metadata": {},
     "output_type": "execute_result"
    }
   ],
   "source": [
    "arr.tolist()"
   ]
  },
  {
   "cell_type": "code",
   "execution_count": 262,
   "id": "58527f7e-7836-434b-9ae6-6a78a992d36a",
   "metadata": {},
   "outputs": [
    {
     "data": {
      "text/plain": [
       "{0: {0: 0, 1: 3}, 1: {0: 1, 1: 4}, 2: {0: 2, 1: 5}}"
      ]
     },
     "execution_count": 262,
     "metadata": {},
     "output_type": "execute_result"
    }
   ],
   "source": [
    "df.to_dict()"
   ]
  },
  {
   "cell_type": "code",
   "execution_count": 263,
   "id": "d425a4c1-8a46-4dc6-b16f-707b781d111a",
   "metadata": {},
   "outputs": [
    {
     "data": {
      "text/plain": [
       "array([[0, 1, 2],\n",
       "       [3, 4, 5]])"
      ]
     },
     "execution_count": 263,
     "metadata": {},
     "output_type": "execute_result"
    }
   ],
   "source": [
    "df.to_numpy()"
   ]
  },
  {
   "cell_type": "code",
   "execution_count": 264,
   "id": "138ffbce-20d9-4b02-9fd9-e63b2acaa89e",
   "metadata": {},
   "outputs": [
    {
     "data": {
      "text/plain": [
       "[[0, 1, 2], [3, 4, 5]]"
      ]
     },
     "execution_count": 264,
     "metadata": {},
     "output_type": "execute_result"
    }
   ],
   "source": [
    "df.to_numpy().tolist()"
   ]
  },
  {
   "cell_type": "markdown",
   "id": "d4e4c00f-e301-4bb3-8845-aa7796a952d4",
   "metadata": {},
   "source": [
    "## 기타메소드.. 생략... "
   ]
  },
  {
   "cell_type": "markdown",
   "id": "b3cca7f0-0a4b-4b8d-858a-eff723d65651",
   "metadata": {},
   "source": [
    "# pandas 공부 4단계~ "
   ]
  },
  {
   "cell_type": "markdown",
   "id": "f177111d-7baa-4aa0-be5a-b8e48886c58a",
   "metadata": {},
   "source": [
    "생략 "
   ]
  }
 ],
 "metadata": {
  "kernelspec": {
   "display_name": "Python 3",
   "language": "python",
   "name": "python3"
  },
  "language_info": {
   "codemirror_mode": {
    "name": "ipython",
    "version": 3
   },
   "file_extension": ".py",
   "mimetype": "text/x-python",
   "name": "python",
   "nbconvert_exporter": "python",
   "pygments_lexer": "ipython3",
   "version": "3.8.16"
  }
 },
 "nbformat": 4,
 "nbformat_minor": 5
}
