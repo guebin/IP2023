{
 "cells": [
  {
   "cell_type": "raw",
   "id": "302e4b02-8d94-4088-affd-7bff11c05501",
   "metadata": {
    "tags": []
   },
   "source": [
    "---\n",
    "title: \"06wk-1: Numpy (1) -- draft\"\n",
    "author: \"최규빈\"\n",
    "date: \"04/10/2024\"\n",
    "---"
   ]
  },
  {
   "cell_type": "markdown",
   "id": "6b2ffae6-65b5-45c4-a294-bc567f12c748",
   "metadata": {},
   "source": [
    "<a href=\"https://colab.research.google.com/github/guebin/PP2023/blob/main/posts/02_PY4DS/2023-04-10-6wk-1.ipynb\"><img src=\"https://colab.research.google.com/assets/colab-badge.svg\" style=\"text-align: left\"></a>"
   ]
  },
  {
   "cell_type": "markdown",
   "id": "4ab7e9d6-e792-46a1-a6d9-e1ba040ebc65",
   "metadata": {},
   "source": [
    "# 강의영상 "
   ]
  },
  {
   "cell_type": "markdown",
   "id": "02b40269-0b22-464e-8f94-5da5b8d8ec1f",
   "metadata": {},
   "source": [
    "> youtube: "
   ]
  },
  {
   "cell_type": "markdown",
   "id": "486ca053-3723-4966-b9fa-36179a26545c",
   "metadata": {},
   "source": [
    "# 예비학습"
   ]
  },
  {
   "cell_type": "markdown",
   "id": "75bb88ae-8969-429c-bece-2515ef96e9a4",
   "metadata": {},
   "source": [
    "`-` 혹시 행렬을 처음 보시는 학생이 있다면 아래주소의 영상에서 1-4를 학습하시면 됩니다. (1-5까지 있는데 1-4까지만 보시면됩니다) 혹은 스스로 학습하셔도 무방합니다.\n",
    "\n",
    "- https://guebin.github.io/IR2021/2021/10/29/(A2)-%EB%A7%A4%ED%8A%B8%EB%A6%AD%EC%8A%A4.html"
   ]
  },
  {
   "cell_type": "markdown",
   "id": "dc64d526-8aae-4e50-93e0-a0c621720fab",
   "metadata": {},
   "source": [
    "`-` 행렬을 알고 있다면 위의 주소의 영상은 skip 하셔도 무방합니다. "
   ]
  },
  {
   "cell_type": "markdown",
   "id": "224e9010-e0df-48f6-8bce-e451c5ae4c89",
   "metadata": {
    "tags": []
   },
   "source": [
    "# import "
   ]
  },
  {
   "cell_type": "code",
   "execution_count": 1,
   "id": "8adbbe65-da8c-4f20-ab65-6301e6e1bfc1",
   "metadata": {},
   "outputs": [],
   "source": [
    "import numpy as np"
   ]
  },
  {
   "cell_type": "markdown",
   "id": "586666a5-af38-46d9-8555-22625fe9eddc",
   "metadata": {},
   "source": [
    "# 넘파이 공부 1단계 "
   ]
  },
  {
   "cell_type": "markdown",
   "id": "04e85d58-4228-4d71-9fb4-523440ffe485",
   "metadata": {},
   "source": [
    "## 선언 "
   ]
  },
  {
   "cell_type": "code",
   "execution_count": 7,
   "id": "2fab2a6e-e024-41b7-96e2-4ab023fa312a",
   "metadata": {},
   "outputs": [],
   "source": [
    "a=np.array([1,2,3]) # list를 만들고 ndarray화 시킴 \n",
    "l=[1,2,3]"
   ]
  },
  {
   "cell_type": "markdown",
   "id": "1629cd9d-6f2a-4c94-b293-04a4d407fc78",
   "metadata": {},
   "source": [
    "## 기본연산 브로드캐스팅 "
   ]
  },
  {
   "cell_type": "markdown",
   "id": "de5d2b7c-2563-496a-9fcf-413d6fa571aa",
   "metadata": {},
   "source": [
    "`-` 사칙연산가능 "
   ]
  },
  {
   "cell_type": "code",
   "execution_count": 8,
   "id": "afc1c32c-31b6-407d-9934-3d6c143387e5",
   "metadata": {},
   "outputs": [
    {
     "data": {
      "text/plain": [
       "array([1, 2, 3])"
      ]
     },
     "execution_count": 8,
     "metadata": {},
     "output_type": "execute_result"
    }
   ],
   "source": [
    "a+1"
   ]
  },
  {
   "cell_type": "code",
   "execution_count": 15,
   "id": "8c94ee51-e9b5-4838-9ee8-df1eaa8bff56",
   "metadata": {},
   "outputs": [
    {
     "data": {
      "text/plain": [
       "array([2, 3, 4])"
      ]
     },
     "execution_count": 15,
     "metadata": {},
     "output_type": "execute_result"
    }
   ],
   "source": [
    "a+1 ## [1,2,3] + 1 = [2,3,4]"
   ]
  },
  {
   "cell_type": "code",
   "execution_count": 16,
   "id": "4185b316-27a9-4ab7-9399-1dc8f87f3d6b",
   "metadata": {},
   "outputs": [
    {
     "ename": "TypeError",
     "evalue": "can only concatenate list (not \"int\") to list",
     "output_type": "error",
     "traceback": [
      "\u001b[0;31m---------------------------------------------------------------------------\u001b[0m",
      "\u001b[0;31mTypeError\u001b[0m                                 Traceback (most recent call last)",
      "Input \u001b[0;32mIn [16]\u001b[0m, in \u001b[0;36m<cell line: 1>\u001b[0;34m()\u001b[0m\n\u001b[0;32m----> 1\u001b[0m \u001b[43ml\u001b[49m\u001b[38;5;241;43m+\u001b[39;49m\u001b[38;5;241;43m1\u001b[39;49m\n",
      "\u001b[0;31mTypeError\u001b[0m: can only concatenate list (not \"int\") to list"
     ]
    }
   ],
   "source": [
    "l+1"
   ]
  },
  {
   "cell_type": "code",
   "execution_count": 21,
   "id": "26aa79d2-8959-4c95-bbd6-5106b14b8b27",
   "metadata": {},
   "outputs": [
    {
     "data": {
      "text/plain": [
       "array([2, 4, 6])"
      ]
     },
     "execution_count": 21,
     "metadata": {},
     "output_type": "execute_result"
    }
   ],
   "source": [
    "a*2"
   ]
  },
  {
   "cell_type": "code",
   "execution_count": 22,
   "id": "d760dcfa-c674-44fc-b4ea-3774ebcf34c7",
   "metadata": {},
   "outputs": [
    {
     "data": {
      "text/plain": [
       "[1, 2, 3, 1, 2, 3]"
      ]
     },
     "execution_count": 22,
     "metadata": {},
     "output_type": "execute_result"
    }
   ],
   "source": [
    "l*2"
   ]
  },
  {
   "cell_type": "code",
   "execution_count": 23,
   "id": "b2cc457b-b667-4d7f-8bd1-e5959f6396c6",
   "metadata": {},
   "outputs": [
    {
     "data": {
      "text/plain": [
       "array([0.5, 1. , 1.5])"
      ]
     },
     "execution_count": 23,
     "metadata": {},
     "output_type": "execute_result"
    }
   ],
   "source": [
    "a/2"
   ]
  },
  {
   "cell_type": "code",
   "execution_count": 24,
   "id": "f3a14c42-5c51-435d-b48d-36c07bcf62b6",
   "metadata": {},
   "outputs": [
    {
     "ename": "TypeError",
     "evalue": "unsupported operand type(s) for /: 'list' and 'int'",
     "output_type": "error",
     "traceback": [
      "\u001b[0;31m---------------------------------------------------------------------------\u001b[0m",
      "\u001b[0;31mTypeError\u001b[0m                                 Traceback (most recent call last)",
      "Input \u001b[0;32mIn [24]\u001b[0m, in \u001b[0;36m<cell line: 1>\u001b[0;34m()\u001b[0m\n\u001b[0;32m----> 1\u001b[0m \u001b[43ml\u001b[49m\u001b[38;5;241;43m/\u001b[39;49m\u001b[38;5;241;43m2\u001b[39;49m\n",
      "\u001b[0;31mTypeError\u001b[0m: unsupported operand type(s) for /: 'list' and 'int'"
     ]
    }
   ],
   "source": [
    "l/2"
   ]
  },
  {
   "cell_type": "code",
   "execution_count": 25,
   "id": "76ca10c8-e5d4-4f3d-b997-eee258b00a65",
   "metadata": {},
   "outputs": [
    {
     "data": {
      "text/plain": [
       "array([1, 4, 9])"
      ]
     },
     "execution_count": 25,
     "metadata": {},
     "output_type": "execute_result"
    }
   ],
   "source": [
    "a**2"
   ]
  },
  {
   "cell_type": "code",
   "execution_count": 26,
   "id": "01eb01cc-fa6e-43cd-ba1f-a8fe806ebe9f",
   "metadata": {},
   "outputs": [
    {
     "ename": "TypeError",
     "evalue": "unsupported operand type(s) for ** or pow(): 'list' and 'int'",
     "output_type": "error",
     "traceback": [
      "\u001b[0;31m---------------------------------------------------------------------------\u001b[0m",
      "\u001b[0;31mTypeError\u001b[0m                                 Traceback (most recent call last)",
      "Input \u001b[0;32mIn [26]\u001b[0m, in \u001b[0;36m<cell line: 1>\u001b[0;34m()\u001b[0m\n\u001b[0;32m----> 1\u001b[0m \u001b[43ml\u001b[49m\u001b[38;5;241;43m*\u001b[39;49m\u001b[38;5;241;43m*\u001b[39;49m\u001b[38;5;241;43m2\u001b[39;49m\n",
      "\u001b[0;31mTypeError\u001b[0m: unsupported operand type(s) for ** or pow(): 'list' and 'int'"
     ]
    }
   ],
   "source": [
    "l**2"
   ]
  },
  {
   "cell_type": "markdown",
   "id": "294fb611-8754-406c-a780-84dbe5e3901e",
   "metadata": {},
   "source": [
    "`-` 나머지 연산가능 "
   ]
  },
  {
   "cell_type": "code",
   "execution_count": 34,
   "id": "d6e2a52b-92e0-4ee8-95b2-afb4b24bf4cf",
   "metadata": {},
   "outputs": [
    {
     "data": {
      "text/plain": [
       "array([1, 0, 1])"
      ]
     },
     "execution_count": 34,
     "metadata": {},
     "output_type": "execute_result"
    }
   ],
   "source": [
    "a%2 # %2 = 2로 나눈 나머지를 리턴 a=[1,2,3] "
   ]
  },
  {
   "cell_type": "code",
   "execution_count": 35,
   "id": "a6f885f4-10f7-412b-8b4a-29781a0f0ddf",
   "metadata": {},
   "outputs": [
    {
     "ename": "TypeError",
     "evalue": "unsupported operand type(s) for %: 'list' and 'int'",
     "output_type": "error",
     "traceback": [
      "\u001b[0;31m---------------------------------------------------------------------------\u001b[0m",
      "\u001b[0;31mTypeError\u001b[0m                                 Traceback (most recent call last)",
      "Input \u001b[0;32mIn [35]\u001b[0m, in \u001b[0;36m<cell line: 1>\u001b[0;34m()\u001b[0m\n\u001b[0;32m----> 1\u001b[0m \u001b[43ml\u001b[49m\u001b[38;5;241;43m%\u001b[39;49m\u001b[38;5;241;43m2\u001b[39;49m\n",
      "\u001b[0;31mTypeError\u001b[0m: unsupported operand type(s) for %: 'list' and 'int'"
     ]
    }
   ],
   "source": [
    "l%2"
   ]
  },
  {
   "cell_type": "markdown",
   "id": "da7720a7-6b6a-49f0-8450-b00640944421",
   "metadata": {},
   "source": [
    "## 기타수학연산지원 "
   ]
  },
  {
   "cell_type": "code",
   "execution_count": 38,
   "id": "5cfd3ab5-d6fa-4fd0-9489-2d40d4e08a1f",
   "metadata": {},
   "outputs": [
    {
     "data": {
      "text/plain": [
       "(array([1.        , 1.41421356, 1.73205081]),\n",
       " array([1.        , 1.41421356, 1.73205081]))"
      ]
     },
     "execution_count": 38,
     "metadata": {},
     "output_type": "execute_result"
    }
   ],
   "source": [
    "np.sqrt(a), np.sqrt(l)"
   ]
  },
  {
   "cell_type": "code",
   "execution_count": 39,
   "id": "a89b7818-4db4-487d-9af9-6035295ab9ac",
   "metadata": {},
   "outputs": [
    {
     "data": {
      "text/plain": [
       "(array([0.        , 0.69314718, 1.09861229]),\n",
       " array([0.        , 0.69314718, 1.09861229]))"
      ]
     },
     "execution_count": 39,
     "metadata": {},
     "output_type": "execute_result"
    }
   ],
   "source": [
    "np.log(a), np.log(l)"
   ]
  },
  {
   "cell_type": "code",
   "execution_count": 41,
   "id": "cd1a21de-eac3-4b34-98a6-5c7541788a13",
   "metadata": {},
   "outputs": [
    {
     "data": {
      "text/plain": [
       "(array([ 2.71828183,  7.3890561 , 20.08553692]),\n",
       " array([ 2.71828183,  7.3890561 , 20.08553692]))"
      ]
     },
     "execution_count": 41,
     "metadata": {},
     "output_type": "execute_result"
    }
   ],
   "source": [
    "np.exp(a), np.exp(l)"
   ]
  },
  {
   "cell_type": "code",
   "execution_count": 42,
   "id": "d01340e5-c6c7-409a-a379-1d5f51915379",
   "metadata": {},
   "outputs": [
    {
     "data": {
      "text/plain": [
       "(array([0.84147098, 0.90929743, 0.14112001]),\n",
       " array([0.84147098, 0.90929743, 0.14112001]))"
      ]
     },
     "execution_count": 42,
     "metadata": {},
     "output_type": "execute_result"
    }
   ],
   "source": [
    "np.sin(a), np.sin(l)"
   ]
  },
  {
   "cell_type": "markdown",
   "id": "74df1997-655e-47e4-8d2e-b3531430644c",
   "metadata": {},
   "source": [
    "## 차원 ($\\star$)"
   ]
  },
  {
   "cell_type": "markdown",
   "id": "acac8b04-ae83-41ff-a4b9-88a9aab1e4d8",
   "metadata": {},
   "source": [
    "`-` 넘파이배열의 차원은 .shape 으로 확인가능 "
   ]
  },
  {
   "cell_type": "markdown",
   "id": "133640b4-d346-4a7d-98ed-3cc88a7877c5",
   "metadata": {},
   "source": [
    "`-` 아래는 모두 미묘하게 다르다. "
   ]
  },
  {
   "cell_type": "code",
   "execution_count": 49,
   "id": "2d8272fa-a98d-4702-9c2b-b2c08130d120",
   "metadata": {},
   "outputs": [
    {
     "data": {
      "text/plain": [
       "(array(3.14), ())"
      ]
     },
     "execution_count": 49,
     "metadata": {},
     "output_type": "execute_result"
    }
   ],
   "source": [
    "a=np.array(3.14) # 스칼라, 0d array \n",
    "a, a.shape"
   ]
  },
  {
   "cell_type": "code",
   "execution_count": 50,
   "id": "a6074b71-043f-45b8-a7fb-5742fc6172a4",
   "metadata": {},
   "outputs": [
    {
     "data": {
      "text/plain": [
       "(array([3.14]), (1,))"
      ]
     },
     "execution_count": 50,
     "metadata": {},
     "output_type": "execute_result"
    }
   ],
   "source": [
    "a=np.array([3.14]) # 벡터, 1d array \n",
    "a, a.shape"
   ]
  },
  {
   "cell_type": "code",
   "execution_count": 51,
   "id": "9510658e-921e-4f0d-ae60-4c5ea3fcbf30",
   "metadata": {},
   "outputs": [
    {
     "data": {
      "text/plain": [
       "(array([[3.14]]), (1, 1))"
      ]
     },
     "execution_count": 51,
     "metadata": {},
     "output_type": "execute_result"
    }
   ],
   "source": [
    "a=np.array([[3.14]]) # 매트릭스, 2d array \n",
    "a, a.shape"
   ]
  },
  {
   "cell_type": "code",
   "execution_count": 52,
   "id": "be8a4dd9-7616-4fe1-ba12-bb003a2de222",
   "metadata": {},
   "outputs": [
    {
     "data": {
      "text/plain": [
       "(array([[[3.14]]]), (1, 1, 1))"
      ]
     },
     "execution_count": 52,
     "metadata": {},
     "output_type": "execute_result"
    }
   ],
   "source": [
    "a=np.array([[[3.14]]]) # 텐서, 3d array \n",
    "a, a.shape"
   ]
  },
  {
   "cell_type": "markdown",
   "id": "972d0b48-c34f-4dfa-9bb9-1fb5682568cf",
   "metadata": {},
   "source": [
    "# 넘파이 공부 2단계 "
   ]
  },
  {
   "cell_type": "markdown",
   "id": "90e17fa2-8aae-444c-82e3-3696150c7288",
   "metadata": {},
   "source": [
    "## 인덱싱 1차원 "
   ]
  },
  {
   "cell_type": "markdown",
   "id": "7e6d8368-e063-4e69-9443-6abb3ae0da66",
   "metadata": {},
   "source": [
    "`-` 선언 "
   ]
  },
  {
   "cell_type": "code",
   "execution_count": 49,
   "id": "c861c6e5-d139-4e0e-a455-039979ac9321",
   "metadata": {},
   "outputs": [],
   "source": [
    "l=[11,22,33,44,55,66] \n",
    "a=np.array(l) "
   ]
  },
  {
   "cell_type": "markdown",
   "id": "7c41410b-38fa-45e6-814c-631ac01b1cde",
   "metadata": {},
   "source": [
    "`-` 인덱스로 접근 "
   ]
  },
  {
   "cell_type": "code",
   "execution_count": 50,
   "id": "5938ed7f-c289-41b9-a1df-b2e824f3d654",
   "metadata": {},
   "outputs": [
    {
     "data": {
      "text/plain": [
       "(11, 22, 33, 44, 55, 66)"
      ]
     },
     "execution_count": 50,
     "metadata": {},
     "output_type": "execute_result"
    }
   ],
   "source": [
    "l[0],l[1],l[2],l[3],l[-2],l[-1]"
   ]
  },
  {
   "cell_type": "code",
   "execution_count": 51,
   "id": "1b4c447d-005e-49a1-8a8f-3badc2077bc6",
   "metadata": {},
   "outputs": [
    {
     "data": {
      "text/plain": [
       "(11, 22, 33, 44, 55, 66)"
      ]
     },
     "execution_count": 51,
     "metadata": {},
     "output_type": "execute_result"
    }
   ],
   "source": [
    "a[0],a[1],a[2],a[3],a[-2],a[-1]"
   ]
  },
  {
   "cell_type": "markdown",
   "id": "580dfd13-8b6e-47df-a7f5-62af23a10ce6",
   "metadata": {},
   "source": [
    "`-` `:` 이용 (슬라이싱)"
   ]
  },
  {
   "cell_type": "code",
   "execution_count": 52,
   "id": "cdc3ee19-9257-479e-bf45-f01d5e7ffc8f",
   "metadata": {},
   "outputs": [
    {
     "data": {
      "text/plain": [
       "[33, 44]"
      ]
     },
     "execution_count": 52,
     "metadata": {},
     "output_type": "execute_result"
    }
   ],
   "source": [
    "l[2:4] # index 2에서 시작, index 4는 포함하지 않음 "
   ]
  },
  {
   "cell_type": "code",
   "execution_count": 53,
   "id": "0288a120-cad8-4ce9-8100-417c5811e3d1",
   "metadata": {},
   "outputs": [
    {
     "data": {
      "text/plain": [
       "array([33, 44])"
      ]
     },
     "execution_count": 53,
     "metadata": {},
     "output_type": "execute_result"
    }
   ],
   "source": [
    "a[2:4] "
   ]
  },
  {
   "cell_type": "markdown",
   "id": "68b28b02-2971-48e7-b43d-0b73e6936050",
   "metadata": {},
   "source": [
    "`-` 정수배열에 의한 인덱싱 "
   ]
  },
  {
   "cell_type": "code",
   "execution_count": 54,
   "id": "11e47e31-2fab-46b2-a6cb-122a9cb56a00",
   "metadata": {},
   "outputs": [
    {
     "data": {
      "text/plain": [
       "array([11, 22, 33, 44, 55, 66])"
      ]
     },
     "execution_count": 54,
     "metadata": {},
     "output_type": "execute_result"
    }
   ],
   "source": [
    "a"
   ]
  },
  {
   "cell_type": "code",
   "execution_count": 55,
   "id": "7c91dd7d-2bc8-4561-a67e-a8f9f42636bd",
   "metadata": {},
   "outputs": [
    {
     "data": {
      "text/plain": [
       "array([11, 33, 55])"
      ]
     },
     "execution_count": 55,
     "metadata": {},
     "output_type": "execute_result"
    }
   ],
   "source": [
    "a[[0,2,4]] # index=0, index=2, index=4 에 해당하는 원소를 뽑고 싶다 "
   ]
  },
  {
   "cell_type": "code",
   "execution_count": 56,
   "id": "b8afb3ad-8076-4f05-93a7-7c52aad55a3c",
   "metadata": {},
   "outputs": [
    {
     "ename": "TypeError",
     "evalue": "list indices must be integers or slices, not list",
     "output_type": "error",
     "traceback": [
      "\u001b[0;31m--------------------------------------------------------------------\u001b[0m",
      "\u001b[0;31mTypeError\u001b[0m                          Traceback (most recent call last)",
      "Cell \u001b[0;32mIn[56], line 1\u001b[0m\n\u001b[0;32m----> 1\u001b[0m \u001b[43ml\u001b[49m\u001b[43m[\u001b[49m\u001b[43m[\u001b[49m\u001b[38;5;241;43m0\u001b[39;49m\u001b[43m,\u001b[49m\u001b[38;5;241;43m2\u001b[39;49m\u001b[43m,\u001b[49m\u001b[38;5;241;43m4\u001b[39;49m\u001b[43m]\u001b[49m\u001b[43m]\u001b[49m \u001b[38;5;66;03m# 리스트는 불가능 \u001b[39;00m\n",
      "\u001b[0;31mTypeError\u001b[0m: list indices must be integers or slices, not list"
     ]
    }
   ],
   "source": [
    "l[[0,2,4]] # 리스트는 불가능 "
   ]
  },
  {
   "cell_type": "markdown",
   "id": "5088a071-63ee-4955-8b46-835731a2e38c",
   "metadata": {},
   "source": [
    "`-` 부울값에 의한 인덱싱 "
   ]
  },
  {
   "cell_type": "code",
   "execution_count": 57,
   "id": "402ca51a-ab66-420f-832d-2816d67b54f0",
   "metadata": {},
   "outputs": [
    {
     "data": {
      "text/plain": [
       "array([11, 22, 33, 44, 55, 66])"
      ]
     },
     "execution_count": 57,
     "metadata": {},
     "output_type": "execute_result"
    }
   ],
   "source": [
    "a"
   ]
  },
  {
   "cell_type": "code",
   "execution_count": 58,
   "id": "727617b3-1310-452e-9fe0-8379aa427845",
   "metadata": {},
   "outputs": [
    {
     "data": {
      "text/plain": [
       "array([11, 33, 55])"
      ]
     },
     "execution_count": 58,
     "metadata": {},
     "output_type": "execute_result"
    }
   ],
   "source": [
    "a[[True,False,True,False,True,False]] "
   ]
  },
  {
   "cell_type": "markdown",
   "id": "b952079b-fcbd-4ca0-baa2-135dd93bac4b",
   "metadata": {},
   "source": [
    "응용하면? "
   ]
  },
  {
   "cell_type": "code",
   "execution_count": 59,
   "id": "b6aaf4ce-c5a1-4cdf-bc80-51696ffd5d79",
   "metadata": {},
   "outputs": [
    {
     "data": {
      "text/plain": [
       "array([ True,  True, False, False, False, False])"
      ]
     },
     "execution_count": 59,
     "metadata": {},
     "output_type": "execute_result"
    }
   ],
   "source": [
    "a < 33 "
   ]
  },
  {
   "cell_type": "code",
   "execution_count": 60,
   "id": "17289e20-3b6d-4350-bf3c-43c6ffdee09e",
   "metadata": {},
   "outputs": [
    {
     "data": {
      "text/plain": [
       "array([11, 22])"
      ]
     },
     "execution_count": 60,
     "metadata": {},
     "output_type": "execute_result"
    }
   ],
   "source": [
    "a[a<33]"
   ]
  },
  {
   "cell_type": "markdown",
   "id": "97a6ca67-09af-4bf9-9290-805cdcdb8247",
   "metadata": {},
   "source": [
    "리스트는 불가능 "
   ]
  },
  {
   "cell_type": "code",
   "execution_count": 61,
   "id": "2c596997-7960-4595-8495-52ff8baff998",
   "metadata": {},
   "outputs": [
    {
     "ename": "TypeError",
     "evalue": "'<' not supported between instances of 'list' and 'int'",
     "output_type": "error",
     "traceback": [
      "\u001b[0;31m--------------------------------------------------------------------\u001b[0m",
      "\u001b[0;31mTypeError\u001b[0m                          Traceback (most recent call last)",
      "Cell \u001b[0;32mIn[61], line 1\u001b[0m\n\u001b[0;32m----> 1\u001b[0m \u001b[43ml\u001b[49m\u001b[38;5;241;43m<\u001b[39;49m\u001b[38;5;241;43m33\u001b[39;49m \u001b[38;5;66;03m# 여기에서부터 불가능 \u001b[39;00m\n",
      "\u001b[0;31mTypeError\u001b[0m: '<' not supported between instances of 'list' and 'int'"
     ]
    }
   ],
   "source": [
    "l<33 # 여기에서부터 불가능 "
   ]
  },
  {
   "cell_type": "code",
   "execution_count": 62,
   "id": "a3afa138-ebf2-4155-a4c8-e39b7dcd9ad0",
   "metadata": {},
   "outputs": [
    {
     "ename": "TypeError",
     "evalue": "list indices must be integers or slices, not list",
     "output_type": "error",
     "traceback": [
      "\u001b[0;31m--------------------------------------------------------------------\u001b[0m",
      "\u001b[0;31mTypeError\u001b[0m                          Traceback (most recent call last)",
      "Cell \u001b[0;32mIn[62], line 1\u001b[0m\n\u001b[0;32m----> 1\u001b[0m \u001b[43ml\u001b[49m\u001b[43m[\u001b[49m\u001b[43m[\u001b[49m\u001b[38;5;28;43;01mTrue\u001b[39;49;00m\u001b[43m,\u001b[49m\u001b[38;5;28;43;01mFalse\u001b[39;49;00m\u001b[43m,\u001b[49m\u001b[38;5;28;43;01mTrue\u001b[39;49;00m\u001b[43m,\u001b[49m\u001b[38;5;28;43;01mFalse\u001b[39;49;00m\u001b[43m,\u001b[49m\u001b[38;5;28;43;01mTrue\u001b[39;49;00m\u001b[43m,\u001b[49m\u001b[38;5;28;43;01mFalse\u001b[39;49;00m\u001b[43m]\u001b[49m\u001b[43m]\u001b[49m \u001b[38;5;66;03m# 이것도 불가능 \u001b[39;00m\n",
      "\u001b[0;31mTypeError\u001b[0m: list indices must be integers or slices, not list"
     ]
    }
   ],
   "source": [
    "l[[True,False,True,False,True,False]] # 이것도 불가능 "
   ]
  },
  {
   "cell_type": "markdown",
   "id": "77fb69a6-3c7c-4bd8-86cf-4512c49dcbe8",
   "metadata": {},
   "source": [
    "## 인덱싱 2차원 "
   ]
  },
  {
   "cell_type": "markdown",
   "id": "16d53e75-267f-43ee-a9d5-f6e582e43e44",
   "metadata": {},
   "source": [
    "`-` 중첩리스트와 2차원 np.array 선언 "
   ]
  },
  {
   "cell_type": "code",
   "execution_count": 63,
   "id": "7331f59b-c1af-4c99-9e77-dbad1859db53",
   "metadata": {},
   "outputs": [],
   "source": [
    "A = [[1,2,3,4],[-1,-2,-3,-4],[5,6,7,8],[-5,-6,-7,-8]]\n",
    "A2 = np.array(A)"
   ]
  },
  {
   "cell_type": "code",
   "execution_count": 64,
   "id": "85d7f756-b844-44c8-8503-8609a890ebd7",
   "metadata": {},
   "outputs": [
    {
     "data": {
      "text/plain": [
       "array([[ 1,  2,  3,  4],\n",
       "       [-1, -2, -3, -4],\n",
       "       [ 5,  6,  7,  8],\n",
       "       [-5, -6, -7, -8]])"
      ]
     },
     "execution_count": 64,
     "metadata": {},
     "output_type": "execute_result"
    }
   ],
   "source": [
    "A2"
   ]
  },
  {
   "cell_type": "code",
   "execution_count": 65,
   "id": "366e82df-8d76-48e8-8d38-02e36dc3c4fb",
   "metadata": {},
   "outputs": [
    {
     "data": {
      "text/plain": [
       "[[1, 2, 3, 4], [-1, -2, -3, -4], [5, 6, 7, 8], [-5, -6, -7, -8]]"
      ]
     },
     "execution_count": 65,
     "metadata": {},
     "output_type": "execute_result"
    }
   ],
   "source": [
    "A"
   ]
  },
  {
   "cell_type": "markdown",
   "id": "6c6221bd-6831-449d-a0f1-946634c0660a",
   "metadata": {},
   "source": [
    "`-` A의 원소 인덱싱 "
   ]
  },
  {
   "cell_type": "code",
   "execution_count": 66,
   "id": "f0ead1ae-fed3-47d3-b272-127bf2fa24ac",
   "metadata": {},
   "outputs": [
    {
     "data": {
      "text/plain": [
       "1"
      ]
     },
     "execution_count": 66,
     "metadata": {},
     "output_type": "execute_result"
    }
   ],
   "source": [
    "A[0][0] # (1,1)의 원소 "
   ]
  },
  {
   "cell_type": "code",
   "execution_count": 67,
   "id": "d3aeb65c-1899-4f26-b53b-06f16fc211d9",
   "metadata": {},
   "outputs": [
    {
     "data": {
      "text/plain": [
       "-3"
      ]
     },
     "execution_count": 67,
     "metadata": {},
     "output_type": "execute_result"
    }
   ],
   "source": [
    "A[1][2] # (2,3)의 원소 "
   ]
  },
  {
   "cell_type": "code",
   "execution_count": 68,
   "id": "77f60a6c-1e66-4f9b-ad0f-1306242f1920",
   "metadata": {},
   "outputs": [
    {
     "data": {
      "text/plain": [
       "-5"
      ]
     },
     "execution_count": 68,
     "metadata": {},
     "output_type": "execute_result"
    }
   ],
   "source": [
    "A[-1][0] # (4,1)의 원소 "
   ]
  },
  {
   "cell_type": "markdown",
   "id": "aa7be0f8-bebb-4345-ae38-3d9d4269533d",
   "metadata": {},
   "source": [
    "`-` A2의 원소 인덱싱 "
   ]
  },
  {
   "cell_type": "code",
   "execution_count": 69,
   "id": "336c2274-24cf-4876-a74c-831ab2dfd772",
   "metadata": {
    "tags": []
   },
   "outputs": [
    {
     "data": {
      "text/plain": [
       "1"
      ]
     },
     "execution_count": 69,
     "metadata": {},
     "output_type": "execute_result"
    }
   ],
   "source": [
    "A2[0][0] # (1,1)의 원소 "
   ]
  },
  {
   "cell_type": "code",
   "execution_count": 70,
   "id": "369bcfd3-57e0-47b1-873a-0e40f5d0c2f1",
   "metadata": {},
   "outputs": [
    {
     "data": {
      "text/plain": [
       "-3"
      ]
     },
     "execution_count": 70,
     "metadata": {},
     "output_type": "execute_result"
    }
   ],
   "source": [
    "A2[1][2] # (2,3)의 원소 "
   ]
  },
  {
   "cell_type": "code",
   "execution_count": 71,
   "id": "5fd4f7c6-cfcd-42fb-8376-e3f1fe1de9c1",
   "metadata": {},
   "outputs": [
    {
     "data": {
      "text/plain": [
       "-5"
      ]
     },
     "execution_count": 71,
     "metadata": {},
     "output_type": "execute_result"
    }
   ],
   "source": [
    "A2[-1][0] # (4,1)의 원소 "
   ]
  },
  {
   "cell_type": "markdown",
   "id": "8b4c3480-9be2-4cbd-926d-c98c51379b34",
   "metadata": {},
   "source": [
    "`-` A2에서만 되는 기술 (넘파이에서 제시하는 신기술, R에서는 기본적으로 쓰던것, 이중list는 불가능) "
   ]
  },
  {
   "cell_type": "code",
   "execution_count": 72,
   "id": "e02143a9-2d30-44ec-920c-a511c5bc3b1f",
   "metadata": {
    "tags": []
   },
   "outputs": [
    {
     "data": {
      "text/plain": [
       "1"
      ]
     },
     "execution_count": 72,
     "metadata": {},
     "output_type": "execute_result"
    }
   ],
   "source": [
    "A2[0,0] # (1,1)의 원소 "
   ]
  },
  {
   "cell_type": "code",
   "execution_count": 73,
   "id": "45f7e56b-cc06-4d92-b0c3-988d43acdbd5",
   "metadata": {},
   "outputs": [
    {
     "data": {
      "text/plain": [
       "-3"
      ]
     },
     "execution_count": 73,
     "metadata": {},
     "output_type": "execute_result"
    }
   ],
   "source": [
    "A2[1,2] # (2,3)의 원소 "
   ]
  },
  {
   "cell_type": "code",
   "execution_count": 74,
   "id": "909078ec-c2c0-46aa-a229-d986284b2e70",
   "metadata": {},
   "outputs": [
    {
     "data": {
      "text/plain": [
       "-5"
      ]
     },
     "execution_count": 74,
     "metadata": {},
     "output_type": "execute_result"
    }
   ],
   "source": [
    "A2[-1,0] # (4,1)의 원소 "
   ]
  },
  {
   "cell_type": "markdown",
   "id": "0af08f03-1e1a-4121-af47-0349cf9f3334",
   "metadata": {},
   "source": [
    "`-` 정수배열에 의한 인덱싱 & 슬라이싱!"
   ]
  },
  {
   "cell_type": "code",
   "execution_count": 85,
   "id": "59a2221a-4a22-453d-a00a-8df58dad8f7f",
   "metadata": {},
   "outputs": [
    {
     "data": {
      "text/plain": [
       "array([[ 1,  2,  3,  4],\n",
       "       [-1, -2, -3, -4],\n",
       "       [ 5,  6,  7,  8],\n",
       "       [-5, -6, -7, -8]])"
      ]
     },
     "execution_count": 85,
     "metadata": {},
     "output_type": "execute_result"
    }
   ],
   "source": [
    "A2"
   ]
  },
  {
   "cell_type": "code",
   "execution_count": 86,
   "id": "c029d84f-8d2d-4da0-935e-f56bc73c0ed2",
   "metadata": {},
   "outputs": [
    {
     "data": {
      "text/plain": [
       "array([1, 2])"
      ]
     },
     "execution_count": 86,
     "metadata": {},
     "output_type": "execute_result"
    }
   ],
   "source": [
    "A2[0,0:2] # 1행1열, 1행2열 "
   ]
  },
  {
   "cell_type": "code",
   "execution_count": 87,
   "id": "d60a1858-d5cd-4562-b8f7-06067d59801d",
   "metadata": {},
   "outputs": [
    {
     "data": {
      "text/plain": [
       "array([1, 2, 3, 4])"
      ]
     },
     "execution_count": 87,
     "metadata": {},
     "output_type": "execute_result"
    }
   ],
   "source": [
    "A2[0,:] # 1행 "
   ]
  },
  {
   "cell_type": "code",
   "execution_count": 88,
   "id": "abd02229-fee6-4851-bb44-2794d8052dd3",
   "metadata": {},
   "outputs": [
    {
     "data": {
      "text/plain": [
       "array([1, 2, 3, 4])"
      ]
     },
     "execution_count": 88,
     "metadata": {},
     "output_type": "execute_result"
    }
   ],
   "source": [
    "A2[0] # 1행"
   ]
  },
  {
   "cell_type": "code",
   "execution_count": 89,
   "id": "ac91a63f-3a34-4cc3-819c-dd63159011d4",
   "metadata": {},
   "outputs": [
    {
     "data": {
      "text/plain": [
       "array([[1, 2, 3, 4],\n",
       "       [5, 6, 7, 8]])"
      ]
     },
     "execution_count": 89,
     "metadata": {},
     "output_type": "execute_result"
    }
   ],
   "source": [
    "A2[[0,2],:] # 1행, 3행 "
   ]
  },
  {
   "cell_type": "code",
   "execution_count": 90,
   "id": "1c266c0a-ed43-4bd7-8cfe-0a489795b4e6",
   "metadata": {},
   "outputs": [
    {
     "data": {
      "text/plain": [
       "array([[1, 2, 3, 4],\n",
       "       [5, 6, 7, 8]])"
      ]
     },
     "execution_count": 90,
     "metadata": {},
     "output_type": "execute_result"
    }
   ],
   "source": [
    "A2[[0,2]] # 1행, 3행 "
   ]
  },
  {
   "cell_type": "code",
   "execution_count": 91,
   "id": "1bf0ad5d-83af-4cad-9cdf-60a1b72232db",
   "metadata": {},
   "outputs": [
    {
     "data": {
      "text/plain": [
       "array([ 1, -1,  5, -5])"
      ]
     },
     "execution_count": 91,
     "metadata": {},
     "output_type": "execute_result"
    }
   ],
   "source": [
    "A2[:,0] # 1열 -- 이상한데?"
   ]
  },
  {
   "cell_type": "code",
   "execution_count": 84,
   "id": "69c14f70-49e5-4d13-8f70-345510023961",
   "metadata": {},
   "outputs": [
    {
     "data": {
      "text/plain": [
       "array([[ 1],\n",
       "       [-1],\n",
       "       [ 5],\n",
       "       [-5]])"
      ]
     },
     "execution_count": 84,
     "metadata": {},
     "output_type": "execute_result"
    }
   ],
   "source": [
    "A2[:,[0]] # 1열 "
   ]
  },
  {
   "cell_type": "code",
   "execution_count": 122,
   "id": "52dcf8c6-1a96-4b99-803f-24ed0eaed1e2",
   "metadata": {},
   "outputs": [
    {
     "data": {
      "text/plain": [
       "array([[ 1,  3],\n",
       "       [-1, -3],\n",
       "       [ 5,  7],\n",
       "       [-5, -7]])"
      ]
     },
     "execution_count": 122,
     "metadata": {},
     "output_type": "execute_result"
    }
   ],
   "source": [
    "A2[:,[0,2]] # 1열, 3열"
   ]
  },
  {
   "cell_type": "code",
   "execution_count": 124,
   "id": "81d666b9-196e-4838-964d-107119867df7",
   "metadata": {},
   "outputs": [
    {
     "data": {
      "text/plain": [
       "array([[ 1,  3],\n",
       "       [-1, -3]])"
      ]
     },
     "execution_count": 124,
     "metadata": {},
     "output_type": "execute_result"
    }
   ],
   "source": [
    "A2[0:2,[0,2]] # 1행~2행 //  1열,3열 "
   ]
  },
  {
   "cell_type": "markdown",
   "id": "b8be4539-f6b1-44bd-81e9-e999e7b0a6ae",
   "metadata": {},
   "source": [
    "`-` 인덱싱에 대한 미묘한 차이 $(\\star)$"
   ]
  },
  {
   "cell_type": "markdown",
   "id": "c4571217-240b-4af6-bee7-b6723ea94c44",
   "metadata": {},
   "source": [
    "**관찰**: 2차원 array의 인덱싱 결과가 2차원이 나올수도있고, 1차원이 나올수도 있다. "
   ]
  },
  {
   "cell_type": "code",
   "execution_count": 80,
   "id": "49a85e9e-d4ce-4208-a955-0af77a8162de",
   "metadata": {},
   "outputs": [
    {
     "data": {
      "text/plain": [
       "(array([1, 2, 3, 4]), (4,))"
      ]
     },
     "execution_count": 80,
     "metadata": {},
     "output_type": "execute_result"
    }
   ],
   "source": [
    "A2[0], A2[0].shape"
   ]
  },
  {
   "cell_type": "markdown",
   "id": "f641fef6-a606-49a5-b05a-ea0640b99a74",
   "metadata": {},
   "source": [
    "- shape이 (4,)인 ndarray = 길이가 4인 1차원 벡터 "
   ]
  },
  {
   "cell_type": "code",
   "execution_count": 81,
   "id": "955e0c7e-8eb9-4e5b-8a0e-642c5b7cbbf2",
   "metadata": {},
   "outputs": [
    {
     "data": {
      "text/plain": [
       "(array([[ 1,  2,  3,  4],\n",
       "        [-1, -2, -3, -4]]),\n",
       " (2, 4))"
      ]
     },
     "execution_count": 81,
     "metadata": {},
     "output_type": "execute_result"
    }
   ],
   "source": [
    "A2[0:2], A2[0:2].shape"
   ]
  },
  {
   "cell_type": "markdown",
   "id": "d61ba291-8e76-4700-aa8e-8bb71310c895",
   "metadata": {},
   "source": [
    "- shape이 (2,4)인 ndarray = dim이 `2*4`인 행렬"
   ]
  },
  {
   "cell_type": "code",
   "execution_count": 82,
   "id": "d82551fe-3679-4d02-9934-43173cc03f99",
   "metadata": {},
   "outputs": [
    {
     "data": {
      "text/plain": [
       "(array([[1, 2, 3, 4]]), (1, 4))"
      ]
     },
     "execution_count": 82,
     "metadata": {},
     "output_type": "execute_result"
    }
   ],
   "source": [
    "A2[0:1], A2[0:1].shape"
   ]
  },
  {
   "cell_type": "markdown",
   "id": "fb4f3832-cf28-46d4-aad1-bfb5e801b567",
   "metadata": {},
   "source": [
    "- shape이 (1,4)인 ndarray = dim이 `1*4`인 행렬\n",
    "- `A2[0:1]`은 `A2[0]`와 같은 코드가 아니었다!!"
   ]
  },
  {
   "cell_type": "markdown",
   "id": "a1c54c6f-f731-4d4a-a0fe-10bc0763b5c4",
   "metadata": {},
   "source": [
    "**인덱싱:** 결과가 어떻게 나올지 생각해보고 인덱싱 할 것"
   ]
  },
  {
   "cell_type": "markdown",
   "id": "0a4bb5ce-27e7-47d5-9dfb-95f63b4b8920",
   "metadata": {},
   "source": [
    "(예시1) 한개의 값을 뽑을때 -> 출력을 0차원,1차원,2차원으로 만들 수 있다. "
   ]
  },
  {
   "cell_type": "code",
   "execution_count": 101,
   "id": "0990e854-38a6-4b35-b232-852b848a6b50",
   "metadata": {},
   "outputs": [
    {
     "data": {
      "text/plain": [
       "array([[ 1,  2,  3,  4],\n",
       "       [-1, -2, -3, -4],\n",
       "       [ 5,  6,  7,  8],\n",
       "       [-5, -6, -7, -8]])"
      ]
     },
     "execution_count": 101,
     "metadata": {},
     "output_type": "execute_result"
    }
   ],
   "source": [
    "A2"
   ]
  },
  {
   "cell_type": "code",
   "execution_count": 93,
   "id": "a64a4baf-1338-474e-8645-ee7867b587b1",
   "metadata": {},
   "outputs": [
    {
     "data": {
      "text/plain": [
       "1"
      ]
     },
     "execution_count": 93,
     "metadata": {},
     "output_type": "execute_result"
    }
   ],
   "source": [
    "A2[0,0] # 출력이 0차원 "
   ]
  },
  {
   "cell_type": "code",
   "execution_count": 95,
   "id": "e96213a9-9470-4dfc-b8d5-0f2cff154cb1",
   "metadata": {},
   "outputs": [
    {
     "data": {
      "text/plain": [
       "array([1])"
      ]
     },
     "execution_count": 95,
     "metadata": {},
     "output_type": "execute_result"
    }
   ],
   "source": [
    "A2[[0],0] # 출력이 1차원 "
   ]
  },
  {
   "cell_type": "code",
   "execution_count": 97,
   "id": "c4bf71ed-b0cf-4ca0-9252-c73ac2ac02ab",
   "metadata": {},
   "outputs": [
    {
     "data": {
      "text/plain": [
       "array([1])"
      ]
     },
     "execution_count": 97,
     "metadata": {},
     "output_type": "execute_result"
    }
   ],
   "source": [
    "A2[0,[0]] # 출력이 1차원 "
   ]
  },
  {
   "cell_type": "code",
   "execution_count": 98,
   "id": "525e734d-370b-4397-afbd-7d71ed89b796",
   "metadata": {},
   "outputs": [
    {
     "data": {
      "text/plain": [
       "array([1])"
      ]
     },
     "execution_count": 98,
     "metadata": {},
     "output_type": "execute_result"
    }
   ],
   "source": [
    "A2[[0],[0]] # 출력이 2차원"
   ]
  },
  {
   "cell_type": "markdown",
   "id": "c512256d-984f-4ad4-91a7-a124a2252294",
   "metadata": {},
   "source": [
    "(예시2) 하나의 벡터를 뽑을때 -> 출력을 1차원, 2차원으로 만들 수 있다. "
   ]
  },
  {
   "cell_type": "code",
   "execution_count": 99,
   "id": "173e050f-06ea-4d63-a04e-fa9b60b2ab1a",
   "metadata": {},
   "outputs": [
    {
     "data": {
      "text/plain": [
       "array([[ 1,  2,  3,  4],\n",
       "       [-1, -2, -3, -4],\n",
       "       [ 5,  6,  7,  8],\n",
       "       [-5, -6, -7, -8]])"
      ]
     },
     "execution_count": 99,
     "metadata": {},
     "output_type": "execute_result"
    }
   ],
   "source": [
    "A2"
   ]
  },
  {
   "cell_type": "code",
   "execution_count": 103,
   "id": "8d9bf8bf-676b-42b6-b8af-29810ceba2d6",
   "metadata": {},
   "outputs": [
    {
     "data": {
      "text/plain": [
       "array([ 2, -2,  6, -6])"
      ]
     },
     "execution_count": 103,
     "metadata": {},
     "output_type": "execute_result"
    }
   ],
   "source": [
    "A2[:,1] # 출력이 1차원"
   ]
  },
  {
   "cell_type": "code",
   "execution_count": 104,
   "id": "1a8c4e85-26f7-4bd8-96b0-8b19a6a008c5",
   "metadata": {},
   "outputs": [
    {
     "data": {
      "text/plain": [
       "array([[ 2],\n",
       "       [-2],\n",
       "       [ 6],\n",
       "       [-6]])"
      ]
     },
     "execution_count": 104,
     "metadata": {},
     "output_type": "execute_result"
    }
   ],
   "source": [
    "A2[:,[1]] # 출력이 2차원"
   ]
  },
  {
   "cell_type": "code",
   "execution_count": 106,
   "id": "fa8f47de-1630-4cf2-a6db-8b0e7c7bb426",
   "metadata": {},
   "outputs": [
    {
     "data": {
      "text/plain": [
       "array([-5, -6, -7, -8])"
      ]
     },
     "execution_count": 106,
     "metadata": {},
     "output_type": "execute_result"
    }
   ],
   "source": [
    "A2[-1,:] # 출력이 1차원"
   ]
  },
  {
   "cell_type": "code",
   "execution_count": 108,
   "id": "81aaca1f-3e94-49ee-81a4-ee16756d0d10",
   "metadata": {},
   "outputs": [
    {
     "data": {
      "text/plain": [
       "array([[-5, -6, -7, -8]])"
      ]
     },
     "execution_count": 108,
     "metadata": {},
     "output_type": "execute_result"
    }
   ],
   "source": [
    "A2[[-1],:] # 출력이 2차원"
   ]
  },
  {
   "cell_type": "markdown",
   "id": "bc37225a-5778-4f46-8dad-b87fbc32f0cb",
   "metadata": {},
   "source": [
    "## 1차원 배열의 선언 "
   ]
  },
  {
   "cell_type": "markdown",
   "id": "1c3013af-d2f5-436b-b895-ce5c98e1bb36",
   "metadata": {},
   "source": [
    "`-` 리스트나 튜플을 선언하고 형변환 "
   ]
  },
  {
   "cell_type": "code",
   "execution_count": 128,
   "id": "3de506da-1bac-4022-8666-2867fe205aef",
   "metadata": {},
   "outputs": [
    {
     "data": {
      "text/plain": [
       "array([1, 2, 3])"
      ]
     },
     "execution_count": 128,
     "metadata": {},
     "output_type": "execute_result"
    }
   ],
   "source": [
    "np.array((1,2,3)) # 튜플->넘파이어레이 "
   ]
  },
  {
   "cell_type": "code",
   "execution_count": 129,
   "id": "669f3058-244c-4fe4-934f-25342d735c78",
   "metadata": {},
   "outputs": [
    {
     "data": {
      "text/plain": [
       "array([1, 2, 3])"
      ]
     },
     "execution_count": 129,
     "metadata": {},
     "output_type": "execute_result"
    }
   ],
   "source": [
    "np.array([1,2,3]) # 리스트 ->넘파이어레이 "
   ]
  },
  {
   "cell_type": "markdown",
   "id": "9fc06250-e154-4613-b90f-a5beec96f243",
   "metadata": {},
   "source": [
    "`-` range()를 이용해서 선언하고 형변환 "
   ]
  },
  {
   "cell_type": "code",
   "execution_count": 133,
   "id": "616b8bfb-b9d4-4ae5-936c-cfaa6f577ab1",
   "metadata": {},
   "outputs": [
    {
     "data": {
      "text/plain": [
       "array([0, 1, 2, 3, 4, 5, 6, 7, 8, 9])"
      ]
     },
     "execution_count": 133,
     "metadata": {},
     "output_type": "execute_result"
    }
   ],
   "source": [
    "np.array(range(10)) # range(10) -> 넘파이어레이 "
   ]
  },
  {
   "cell_type": "markdown",
   "id": "eeaf6c0c-b949-48be-b3b5-6785ae0b486a",
   "metadata": {},
   "source": [
    "`-` np.zeros, np.ones"
   ]
  },
  {
   "cell_type": "code",
   "execution_count": 135,
   "id": "ac3774ab-6f17-4b94-a68b-ae712290f53d",
   "metadata": {},
   "outputs": [
    {
     "data": {
      "text/plain": [
       "array([0., 0., 0.])"
      ]
     },
     "execution_count": 135,
     "metadata": {},
     "output_type": "execute_result"
    }
   ],
   "source": [
    "np.zeros(3) "
   ]
  },
  {
   "cell_type": "code",
   "execution_count": 137,
   "id": "fe38e90b-920d-4e29-b43e-0d889e3266c1",
   "metadata": {},
   "outputs": [
    {
     "data": {
      "text/plain": [
       "array([1., 1., 1., 1.])"
      ]
     },
     "execution_count": 137,
     "metadata": {},
     "output_type": "execute_result"
    }
   ],
   "source": [
    "np.ones(4)"
   ]
  },
  {
   "cell_type": "markdown",
   "id": "83ac6a1c-84e8-443c-9023-3527796001a8",
   "metadata": {},
   "source": [
    "`-` np.linspace "
   ]
  },
  {
   "cell_type": "code",
   "execution_count": 141,
   "id": "16dfe855-350d-4534-a6d7-ce0179cf6a6f",
   "metadata": {},
   "outputs": [
    {
     "data": {
      "text/plain": [
       "array([0.        , 0.09090909, 0.18181818, 0.27272727, 0.36363636,\n",
       "       0.45454545, 0.54545455, 0.63636364, 0.72727273, 0.81818182,\n",
       "       0.90909091, 1.        ])"
      ]
     },
     "execution_count": 141,
     "metadata": {},
     "output_type": "execute_result"
    }
   ],
   "source": [
    "np.linspace(0,1,12) # 0에서 시작하고 1에서 끝남 (양끝점 모두 포함)"
   ]
  },
  {
   "cell_type": "code",
   "execution_count": 142,
   "id": "718ae69c-69e1-4d76-b48f-2a3d85f3b853",
   "metadata": {},
   "outputs": [
    {
     "data": {
      "text/plain": [
       "12"
      ]
     },
     "execution_count": 142,
     "metadata": {},
     "output_type": "execute_result"
    }
   ],
   "source": [
    "len(np.linspace(0,1,12)) # 길이는 12"
   ]
  },
  {
   "cell_type": "markdown",
   "id": "8f4af769-e342-487c-9fc7-73ee9b7f45f1",
   "metadata": {},
   "source": [
    "`-` np.arange"
   ]
  },
  {
   "cell_type": "code",
   "execution_count": 144,
   "id": "6d2de2ee-ecc8-409a-b958-a2bda810537a",
   "metadata": {},
   "outputs": [
    {
     "data": {
      "text/plain": [
       "array([0, 1, 2, 3, 4])"
      ]
     },
     "execution_count": 144,
     "metadata": {},
     "output_type": "execute_result"
    }
   ],
   "source": [
    "np.arange(5) # np.array(range(5))"
   ]
  },
  {
   "cell_type": "code",
   "execution_count": 148,
   "id": "96a13589-3084-4502-8a15-6ec9c6ecca36",
   "metadata": {},
   "outputs": [
    {
     "data": {
      "text/plain": [
       "array([1, 2, 3, 4, 5])"
      ]
     },
     "execution_count": 148,
     "metadata": {},
     "output_type": "execute_result"
    }
   ],
   "source": [
    "np.arange(1,6) # np.array(range(1,6))"
   ]
  },
  {
   "cell_type": "markdown",
   "id": "ea9f02c6-137e-4d28-b3cb-2f2ea25e927c",
   "metadata": {},
   "source": [
    "## reshape "
   ]
  },
  {
   "cell_type": "markdown",
   "id": "aea21768-a609-41d1-8547-88a19912a9a0",
   "metadata": {},
   "source": [
    "`-` reshape: ndarray의 특수한 기능 "
   ]
  },
  {
   "cell_type": "code",
   "execution_count": 166,
   "id": "4731e325-ab66-4463-a754-e46af4b78345",
   "metadata": {},
   "outputs": [
    {
     "data": {
      "text/plain": [
       "array([11, 22, 33, 44, 55, 66])"
      ]
     },
     "execution_count": 166,
     "metadata": {},
     "output_type": "execute_result"
    }
   ],
   "source": [
    "a=np.array([11,22,33,44,55,66])\n",
    "a ## 길이가 6인 벡터 "
   ]
  },
  {
   "cell_type": "code",
   "execution_count": 167,
   "id": "dc0791b2-2774-45cc-bee8-e66b08a843b6",
   "metadata": {},
   "outputs": [
    {
     "data": {
      "text/plain": [
       "array([[11, 22, 33],\n",
       "       [44, 55, 66]])"
      ]
     },
     "execution_count": 167,
     "metadata": {},
     "output_type": "execute_result"
    }
   ],
   "source": [
    "a.reshape(2,3) ## (2,3) matrix 라고 생각해도 무방 "
   ]
  },
  {
   "cell_type": "markdown",
   "id": "87b30fad-6a4d-40df-9469-f4a00078ca4e",
   "metadata": {},
   "source": [
    "note: reshape은 a자체를 변화시키는것은 아님 "
   ]
  },
  {
   "cell_type": "code",
   "execution_count": 165,
   "id": "3d1b3d98-bed1-49ca-aba0-aa028b9a0a1a",
   "metadata": {},
   "outputs": [
    {
     "data": {
      "text/plain": [
       "array([11, 22, 33, 44, 55, 66])"
      ]
     },
     "execution_count": 165,
     "metadata": {},
     "output_type": "execute_result"
    }
   ],
   "source": [
    "a # a는 그대로 있음 "
   ]
  },
  {
   "cell_type": "code",
   "execution_count": 169,
   "id": "21e92247-3bad-4dbd-b90b-575a4882b77e",
   "metadata": {},
   "outputs": [
    {
     "data": {
      "text/plain": [
       "array([[11, 22, 33],\n",
       "       [44, 55, 66]])"
      ]
     },
     "execution_count": 169,
     "metadata": {},
     "output_type": "execute_result"
    }
   ],
   "source": [
    "b= a.reshape(2,3) # a를 reshape한 결과를 b에 저장 \n",
    "b"
   ]
  },
  {
   "cell_type": "code",
   "execution_count": 170,
   "id": "9d7a19da-c4f9-4780-9c45-8ed12ae468e2",
   "metadata": {},
   "outputs": [
    {
     "data": {
      "text/plain": [
       "array([11, 22, 33, 44, 55, 66])"
      ]
     },
     "execution_count": 170,
     "metadata": {},
     "output_type": "execute_result"
    }
   ],
   "source": [
    "a # a는 여전히 그대로 있음"
   ]
  },
  {
   "cell_type": "markdown",
   "id": "1df07db5-b448-4a61-8ba0-70ac990e49c7",
   "metadata": {},
   "source": [
    "`-` 다시 b를 a처럼 바꾸고 싶다 "
   ]
  },
  {
   "cell_type": "code",
   "execution_count": 171,
   "id": "bcacae02-f02c-4d7d-aeda-bc1b19c8e88b",
   "metadata": {},
   "outputs": [
    {
     "data": {
      "text/plain": [
       "array([[11, 22, 33],\n",
       "       [44, 55, 66]])"
      ]
     },
     "execution_count": 171,
     "metadata": {},
     "output_type": "execute_result"
    }
   ],
   "source": [
    "b"
   ]
  },
  {
   "cell_type": "code",
   "execution_count": 174,
   "id": "5af9b148-56be-471a-939a-c968307f9a61",
   "metadata": {},
   "outputs": [
    {
     "data": {
      "text/plain": [
       "array([11, 22, 33, 44, 55, 66])"
      ]
     },
     "execution_count": 174,
     "metadata": {},
     "output_type": "execute_result"
    }
   ],
   "source": [
    "b.reshape(6) # b는 (2,3) matrix , 그런데 이것을 길이가 6인 벡터로 만들고 싶다. "
   ]
  },
  {
   "cell_type": "markdown",
   "id": "4b0e469b-00ff-40b5-95c6-9d489096fe41",
   "metadata": {},
   "source": [
    "`-` reshape with -1 "
   ]
  },
  {
   "cell_type": "code",
   "execution_count": 180,
   "id": "9403d743-e9ae-4a21-917e-1fcc2ab8fe43",
   "metadata": {},
   "outputs": [
    {
     "data": {
      "text/plain": [
       "array([ 0,  1,  2,  3,  4,  5,  6,  7,  8,  9, 10, 11, 12, 13, 14, 15, 16,\n",
       "       17, 18, 19, 20, 21, 22, 23])"
      ]
     },
     "execution_count": 180,
     "metadata": {},
     "output_type": "execute_result"
    }
   ],
   "source": [
    "a=np.arange(24) # np.array(range(24))\n",
    "a"
   ]
  },
  {
   "cell_type": "code",
   "execution_count": 185,
   "id": "96eaef8b-4785-42b9-b501-3a7c76a0eb6c",
   "metadata": {},
   "outputs": [
    {
     "data": {
      "text/plain": [
       "array([[ 0,  1,  2,  3,  4,  5,  6,  7,  8,  9, 10, 11],\n",
       "       [12, 13, 14, 15, 16, 17, 18, 19, 20, 21, 22, 23]])"
      ]
     },
     "execution_count": 185,
     "metadata": {},
     "output_type": "execute_result"
    }
   ],
   "source": [
    "a.reshape(2,-1)"
   ]
  },
  {
   "cell_type": "code",
   "execution_count": 186,
   "id": "0b2a2e78-87cb-4d72-bfda-d45452fa706c",
   "metadata": {},
   "outputs": [
    {
     "data": {
      "text/plain": [
       "array([[ 0,  1,  2,  3,  4,  5,  6,  7],\n",
       "       [ 8,  9, 10, 11, 12, 13, 14, 15],\n",
       "       [16, 17, 18, 19, 20, 21, 22, 23]])"
      ]
     },
     "execution_count": 186,
     "metadata": {},
     "output_type": "execute_result"
    }
   ],
   "source": [
    "a.reshape(3,-1)"
   ]
  },
  {
   "cell_type": "code",
   "execution_count": 187,
   "id": "0c0e19df-d09e-4134-ae05-fcf4682d7c2c",
   "metadata": {},
   "outputs": [
    {
     "data": {
      "text/plain": [
       "array([[ 0,  1,  2,  3,  4,  5],\n",
       "       [ 6,  7,  8,  9, 10, 11],\n",
       "       [12, 13, 14, 15, 16, 17],\n",
       "       [18, 19, 20, 21, 22, 23]])"
      ]
     },
     "execution_count": 187,
     "metadata": {},
     "output_type": "execute_result"
    }
   ],
   "source": [
    "a.reshape(4,-1)"
   ]
  },
  {
   "cell_type": "code",
   "execution_count": 188,
   "id": "69b2d2d5-74c3-401c-bf52-5ab1a8e55c8d",
   "metadata": {},
   "outputs": [
    {
     "ename": "ValueError",
     "evalue": "cannot reshape array of size 24 into shape (5,newaxis)",
     "output_type": "error",
     "traceback": [
      "\u001b[0;31m---------------------------------------------------------------------------\u001b[0m",
      "\u001b[0;31mValueError\u001b[0m                                Traceback (most recent call last)",
      "Input \u001b[0;32mIn [188]\u001b[0m, in \u001b[0;36m<cell line: 1>\u001b[0;34m()\u001b[0m\n\u001b[0;32m----> 1\u001b[0m \u001b[43ma\u001b[49m\u001b[38;5;241;43m.\u001b[39;49m\u001b[43mreshape\u001b[49m\u001b[43m(\u001b[49m\u001b[38;5;241;43m5\u001b[39;49m\u001b[43m,\u001b[49m\u001b[38;5;241;43m-\u001b[39;49m\u001b[38;5;241;43m1\u001b[39;49m\u001b[43m)\u001b[49m\n",
      "\u001b[0;31mValueError\u001b[0m: cannot reshape array of size 24 into shape (5,newaxis)"
     ]
    }
   ],
   "source": [
    "a.reshape(5,-1)"
   ]
  },
  {
   "cell_type": "code",
   "execution_count": 189,
   "id": "b207ba94-c3b1-4737-97d2-ef0a94f4177b",
   "metadata": {},
   "outputs": [
    {
     "data": {
      "text/plain": [
       "array([[ 0,  1,  2,  3],\n",
       "       [ 4,  5,  6,  7],\n",
       "       [ 8,  9, 10, 11],\n",
       "       [12, 13, 14, 15],\n",
       "       [16, 17, 18, 19],\n",
       "       [20, 21, 22, 23]])"
      ]
     },
     "execution_count": 189,
     "metadata": {},
     "output_type": "execute_result"
    }
   ],
   "source": [
    "a.reshape(6,-1)"
   ]
  },
  {
   "cell_type": "code",
   "execution_count": 190,
   "id": "1ae36f11-6d1c-4db0-8dd5-09de802896ef",
   "metadata": {},
   "outputs": [
    {
     "ename": "ValueError",
     "evalue": "cannot reshape array of size 24 into shape (7,newaxis)",
     "output_type": "error",
     "traceback": [
      "\u001b[0;31m---------------------------------------------------------------------------\u001b[0m",
      "\u001b[0;31mValueError\u001b[0m                                Traceback (most recent call last)",
      "Input \u001b[0;32mIn [190]\u001b[0m, in \u001b[0;36m<cell line: 1>\u001b[0;34m()\u001b[0m\n\u001b[0;32m----> 1\u001b[0m \u001b[43ma\u001b[49m\u001b[38;5;241;43m.\u001b[39;49m\u001b[43mreshape\u001b[49m\u001b[43m(\u001b[49m\u001b[38;5;241;43m7\u001b[39;49m\u001b[43m,\u001b[49m\u001b[38;5;241;43m-\u001b[39;49m\u001b[38;5;241;43m1\u001b[39;49m\u001b[43m)\u001b[49m\n",
      "\u001b[0;31mValueError\u001b[0m: cannot reshape array of size 24 into shape (7,newaxis)"
     ]
    }
   ],
   "source": [
    "a.reshape(7,-1)"
   ]
  },
  {
   "cell_type": "code",
   "execution_count": 191,
   "id": "46efedd9-26f4-4e39-b4d7-ef83e86f9ea6",
   "metadata": {},
   "outputs": [
    {
     "data": {
      "text/plain": [
       "array([[ 0,  1,  2],\n",
       "       [ 3,  4,  5],\n",
       "       [ 6,  7,  8],\n",
       "       [ 9, 10, 11],\n",
       "       [12, 13, 14],\n",
       "       [15, 16, 17],\n",
       "       [18, 19, 20],\n",
       "       [21, 22, 23]])"
      ]
     },
     "execution_count": 191,
     "metadata": {},
     "output_type": "execute_result"
    }
   ],
   "source": [
    "a.reshape(8,-1)"
   ]
  },
  {
   "cell_type": "code",
   "execution_count": 192,
   "id": "90c353ed-911d-4be1-a63e-38f3f30d72dc",
   "metadata": {},
   "outputs": [
    {
     "data": {
      "text/plain": [
       "array([[ 0,  1],\n",
       "       [ 2,  3],\n",
       "       [ 4,  5],\n",
       "       [ 6,  7],\n",
       "       [ 8,  9],\n",
       "       [10, 11],\n",
       "       [12, 13],\n",
       "       [14, 15],\n",
       "       [16, 17],\n",
       "       [18, 19],\n",
       "       [20, 21],\n",
       "       [22, 23]])"
      ]
     },
     "execution_count": 192,
     "metadata": {},
     "output_type": "execute_result"
    }
   ],
   "source": [
    "a.reshape(12,-1)"
   ]
  },
  {
   "cell_type": "code",
   "execution_count": 193,
   "id": "d4ea5808-dbc6-4f35-89fd-05863c87d1f3",
   "metadata": {},
   "outputs": [
    {
     "data": {
      "text/plain": [
       "array([[ 0,  1],\n",
       "       [ 2,  3],\n",
       "       [ 4,  5],\n",
       "       [ 6,  7],\n",
       "       [ 8,  9],\n",
       "       [10, 11],\n",
       "       [12, 13],\n",
       "       [14, 15],\n",
       "       [16, 17],\n",
       "       [18, 19],\n",
       "       [20, 21],\n",
       "       [22, 23]])"
      ]
     },
     "execution_count": 193,
     "metadata": {},
     "output_type": "execute_result"
    }
   ],
   "source": [
    "b= a.reshape(12,-1)\n",
    "b"
   ]
  },
  {
   "cell_type": "code",
   "execution_count": 197,
   "id": "004a3421-e410-4341-b41d-86362ff76959",
   "metadata": {},
   "outputs": [
    {
     "data": {
      "text/plain": [
       "array([ 0,  1,  2,  3,  4,  5,  6,  7,  8,  9, 10, 11, 12, 13, 14, 15, 16,\n",
       "       17, 18, 19, 20, 21, 22, 23])"
      ]
     },
     "execution_count": 197,
     "metadata": {},
     "output_type": "execute_result"
    }
   ],
   "source": [
    "b.reshape(-1) # b를 다시 길이가 24인 벡터로!"
   ]
  },
  {
   "cell_type": "markdown",
   "id": "1e383d7a-3c00-47ff-86b8-2102b68eae0f",
   "metadata": {},
   "source": [
    "## 2차원 배열의 선언 "
   ]
  },
  {
   "cell_type": "code",
   "execution_count": 198,
   "id": "3da3c67b-30b7-4cf1-872e-d310ea4055e1",
   "metadata": {},
   "outputs": [
    {
     "data": {
      "text/plain": [
       "array([[0., 0., 0.],\n",
       "       [0., 0., 0.],\n",
       "       [0., 0., 0.]])"
      ]
     },
     "execution_count": 198,
     "metadata": {},
     "output_type": "execute_result"
    }
   ],
   "source": [
    "np.zeros((3,3))"
   ]
  },
  {
   "cell_type": "code",
   "execution_count": 199,
   "id": "73c8e7f2-61f7-4325-b002-d4cbcef6bdf7",
   "metadata": {},
   "outputs": [
    {
     "data": {
      "text/plain": [
       "array([[1., 1., 1.],\n",
       "       [1., 1., 1.],\n",
       "       [1., 1., 1.]])"
      ]
     },
     "execution_count": 199,
     "metadata": {},
     "output_type": "execute_result"
    }
   ],
   "source": [
    "np.ones((3,3))"
   ]
  },
  {
   "cell_type": "code",
   "execution_count": 200,
   "id": "299f35b3-aabc-40e5-b15f-82fd4f2b4575",
   "metadata": {},
   "outputs": [
    {
     "data": {
      "text/plain": [
       "array([[1., 0., 0.],\n",
       "       [0., 1., 0.],\n",
       "       [0., 0., 1.]])"
      ]
     },
     "execution_count": 200,
     "metadata": {},
     "output_type": "execute_result"
    }
   ],
   "source": [
    "np.eye(3)"
   ]
  },
  {
   "cell_type": "code",
   "execution_count": 202,
   "id": "cfef5c30-b3ef-4587-9354-35820bef735f",
   "metadata": {},
   "outputs": [
    {
     "data": {
      "text/plain": [
       "array([[ 1,  0,  0,  0],\n",
       "       [ 0,  2,  0,  0],\n",
       "       [ 0,  0,  3,  0],\n",
       "       [ 0,  0,  0, -1]])"
      ]
     },
     "execution_count": 202,
     "metadata": {},
     "output_type": "execute_result"
    }
   ],
   "source": [
    "np.diag([1,2,3,-1])"
   ]
  },
  {
   "cell_type": "markdown",
   "id": "0c4a053f-6b01-4992-add0-98f2e1dacb0d",
   "metadata": {},
   "source": [
    "## 랜덤으로 배열 생성 "
   ]
  },
  {
   "cell_type": "code",
   "execution_count": 204,
   "id": "9b77680f-93dd-4dbf-81ca-61e0c6a9b389",
   "metadata": {},
   "outputs": [
    {
     "data": {
      "text/plain": [
       "array([ 0.27184979, -0.4540305 ,  0.24538219, -3.11389327,  1.06478234,\n",
       "        0.12051154,  0.01503231, -0.06744028,  2.30710253,  0.78840453])"
      ]
     },
     "execution_count": 204,
     "metadata": {},
     "output_type": "execute_result"
    }
   ],
   "source": [
    "np.random.randn(10) # 표쥰정규분포에서 10개를 뽑음 "
   ]
  },
  {
   "cell_type": "code",
   "execution_count": 205,
   "id": "95492076-4b69-474c-b22b-73a3376af346",
   "metadata": {},
   "outputs": [
    {
     "data": {
      "text/plain": [
       "array([0.67729671, 0.19584606, 0.4564896 , 0.9308976 , 0.49080792,\n",
       "       0.03410752, 0.47480477, 0.44519947, 0.20608611, 0.85576604])"
      ]
     },
     "execution_count": 205,
     "metadata": {},
     "output_type": "execute_result"
    }
   ],
   "source": [
    "np.random.rand(10) # 0~1사이에서 10개를 뽑음"
   ]
  },
  {
   "cell_type": "code",
   "execution_count": 209,
   "id": "f633f72b-1b63-44d2-aef9-91e36fbba440",
   "metadata": {},
   "outputs": [
    {
     "data": {
      "text/plain": [
       "array([[-0.97378852,  0.5250826 ],\n",
       "       [-0.97400213, -0.59600022]])"
      ]
     },
     "execution_count": 209,
     "metadata": {},
     "output_type": "execute_result"
    }
   ],
   "source": [
    "np.random.randn(4).reshape(2,2) # 표준정규분포에서 4개를 뽑고 (2,2) ndarray로 형태변환 "
   ]
  },
  {
   "cell_type": "code",
   "execution_count": 208,
   "id": "ffe8f40d-18bc-4b08-817b-f03413e48cbc",
   "metadata": {},
   "outputs": [
    {
     "data": {
      "text/plain": [
       "array([[0.03708309, 0.56122376],\n",
       "       [0.80934488, 0.65723348]])"
      ]
     },
     "execution_count": 208,
     "metadata": {},
     "output_type": "execute_result"
    }
   ],
   "source": [
    "np.random.rand(4).reshape(2,2) # 0~1 4개를 뽑고 (2,2) ndarray로 형태변환 "
   ]
  },
  {
   "cell_type": "markdown",
   "id": "2a38062a-69bd-407f-a9b6-809ab89e2781",
   "metadata": {},
   "source": [
    "## 행렬관련기능"
   ]
  },
  {
   "cell_type": "code",
   "execution_count": 219,
   "id": "642c8453-3cae-410c-a5db-b87bb5f5a4b7",
   "metadata": {},
   "outputs": [
    {
     "data": {
      "text/plain": [
       "array([[0, 1],\n",
       "       [2, 3]])"
      ]
     },
     "execution_count": 219,
     "metadata": {},
     "output_type": "execute_result"
    }
   ],
   "source": [
    "A=np.arange(4).reshape(2,2) \n",
    "A"
   ]
  },
  {
   "cell_type": "code",
   "execution_count": 220,
   "id": "6f6f4580-bf90-42be-9638-163bb8a761df",
   "metadata": {},
   "outputs": [
    {
     "data": {
      "text/plain": [
       "array([[0, 2],\n",
       "       [1, 3]])"
      ]
     },
     "execution_count": 220,
     "metadata": {},
     "output_type": "execute_result"
    }
   ],
   "source": [
    "A.T # .T는 전치행렬을 구해줌 "
   ]
  },
  {
   "cell_type": "code",
   "execution_count": 221,
   "id": "f1ad1530-4df0-49ee-af18-460fac01f585",
   "metadata": {},
   "outputs": [
    {
     "data": {
      "text/plain": [
       "array([[-1.5,  0.5],\n",
       "       [ 1. ,  0. ]])"
      ]
     },
     "execution_count": 221,
     "metadata": {},
     "output_type": "execute_result"
    }
   ],
   "source": [
    "np.linalg.inv(A) # np.linalg.inv는 역행렬을 구해주는 함수 "
   ]
  },
  {
   "cell_type": "code",
   "execution_count": 222,
   "id": "4e90a130-c711-49c5-9d30-2399bacac8e4",
   "metadata": {},
   "outputs": [
    {
     "data": {
      "text/plain": [
       "array([[1., 0.],\n",
       "       [0., 1.]])"
      ]
     },
     "execution_count": 222,
     "metadata": {},
     "output_type": "execute_result"
    }
   ],
   "source": [
    "A @ np.linalg.inv(A) # @는 행렬곱을 수행 "
   ]
  },
  {
   "cell_type": "markdown",
   "id": "b86aa771-c120-4816-aded-b74e311ba4f0",
   "metadata": {},
   "source": [
    "# 넘파이 공부 3단계: 차원 "
   ]
  },
  {
   "cell_type": "markdown",
   "id": "5f41b23d-390e-4b79-bb91-b535f0468a58",
   "metadata": {},
   "source": [
    "## 2차원 배열과 연립 1차 방정식 "
   ]
  },
  {
   "cell_type": "markdown",
   "id": "73512757-cd8b-4dac-b69d-334d2fb8a440",
   "metadata": {},
   "source": [
    "`-` 아래의 연립방정식 고려 \n",
    "\n",
    "$\\begin{cases}\n",
    "y+z+w = 3 \\\\ \n",
    "x+z+w = 3 \\\\ \n",
    "x+y+w = 3 \\\\\n",
    "x+y+z = 3 \n",
    "\\end{cases}$"
   ]
  },
  {
   "cell_type": "markdown",
   "id": "15f482d9-ea95-4973-a8ee-6f2612cee2e7",
   "metadata": {},
   "source": [
    "`-` 행렬표현? \n",
    "\n",
    "$\\begin{bmatrix} \n",
    "0 & 1 & 1 & 1 \\\\\n",
    "1 & 0 & 1 & 1 \\\\\n",
    "1 & 1 & 0 & 1 \\\\\n",
    "1 & 1 & 1 & 0 \n",
    "\\end{bmatrix}\n",
    "\\begin{bmatrix}\n",
    "x \\\\ \n",
    "y \\\\ \n",
    "z \\\\ \n",
    "w \n",
    "\\end{bmatrix} =\n",
    "\\begin{bmatrix}\n",
    "3 \\\\ \n",
    "3 \\\\ \n",
    "3 \\\\ \n",
    "3 \n",
    "\\end{bmatrix}$\n"
   ]
  },
  {
   "cell_type": "markdown",
   "id": "da61cf9f-3e7f-4b2a-a88a-8f574c6aee29",
   "metadata": {},
   "source": [
    "`-` 풀이"
   ]
  },
  {
   "cell_type": "code",
   "execution_count": 3,
   "id": "fcb12768-c763-4243-be10-5405ba738336",
   "metadata": {},
   "outputs": [
    {
     "data": {
      "text/plain": [
       "array([[0, 1, 1, 1],\n",
       "       [1, 0, 1, 1],\n",
       "       [1, 1, 0, 1],\n",
       "       [1, 1, 1, 0]])"
      ]
     },
     "execution_count": 3,
     "metadata": {},
     "output_type": "execute_result"
    }
   ],
   "source": [
    "A = np.array([[0,1,1,1],[1,0,1,1],[1,1,0,1],[1,1,1,0]])\n",
    "A"
   ]
  },
  {
   "cell_type": "code",
   "execution_count": 5,
   "id": "2c54484b-90a0-42cc-9c79-175feb552791",
   "metadata": {},
   "outputs": [
    {
     "data": {
      "text/plain": [
       "array([[3],\n",
       "       [3],\n",
       "       [3],\n",
       "       [3]])"
      ]
     },
     "execution_count": 5,
     "metadata": {},
     "output_type": "execute_result"
    }
   ],
   "source": [
    "b= np.array([3,3,3,3]).reshape(4,1)\n",
    "b"
   ]
  },
  {
   "cell_type": "code",
   "execution_count": 7,
   "id": "c5e4dd47-25d5-49b7-a554-68b062458ead",
   "metadata": {},
   "outputs": [
    {
     "data": {
      "text/plain": [
       "array([[1.],\n",
       "       [1.],\n",
       "       [1.],\n",
       "       [1.]])"
      ]
     },
     "execution_count": 7,
     "metadata": {},
     "output_type": "execute_result"
    }
   ],
   "source": [
    "np.linalg.inv(A) @ b "
   ]
  },
  {
   "cell_type": "markdown",
   "id": "163fff6a-a192-40d4-a804-255900f27683",
   "metadata": {},
   "source": [
    "`-` 다른풀이 "
   ]
  },
  {
   "cell_type": "markdown",
   "id": "89d020bc-9065-4b88-b4ad-1a49add61219",
   "metadata": {},
   "source": [
    "b를 아래와 같이 만들어도 된다. "
   ]
  },
  {
   "cell_type": "code",
   "execution_count": 11,
   "id": "b9bb8c56-d5f7-46a8-8be6-e5939333b607",
   "metadata": {},
   "outputs": [
    {
     "data": {
      "text/plain": [
       "array([3, 3, 3, 3])"
      ]
     },
     "execution_count": 11,
     "metadata": {},
     "output_type": "execute_result"
    }
   ],
   "source": [
    "b=np.array([3,3,3,3])\n",
    "b"
   ]
  },
  {
   "cell_type": "code",
   "execution_count": 13,
   "id": "74e32084-28f9-4921-8a55-4e0eb4030104",
   "metadata": {},
   "outputs": [
    {
     "data": {
      "text/plain": [
       "(4,)"
      ]
     },
     "execution_count": 13,
     "metadata": {},
     "output_type": "execute_result"
    }
   ],
   "source": [
    "b.shape # b.shape은 길이가 1인 튜플로 나온다. "
   ]
  },
  {
   "cell_type": "code",
   "execution_count": 14,
   "id": "03d60158-22d5-4d2f-b5d0-92c3d68a2669",
   "metadata": {},
   "outputs": [
    {
     "data": {
      "text/plain": [
       "array([1., 1., 1., 1.])"
      ]
     },
     "execution_count": 14,
     "metadata": {},
     "output_type": "execute_result"
    }
   ],
   "source": [
    "np.linalg.inv(A) @ b "
   ]
  },
  {
   "cell_type": "markdown",
   "id": "871a531a-c626-450c-a01c-53e9ec27f0e8",
   "metadata": {},
   "source": [
    "## `@`의 유연성 "
   ]
  },
  {
   "cell_type": "markdown",
   "id": "e312af71-7e76-46d6-ae38-0ea74cfd5258",
   "metadata": {},
   "source": [
    "`-` 엄밀하게는 아래의 행렬곱이 가능하다. \n",
    "\n",
    "- (2,2) @ (2,1) => (2,1) \n",
    "- (1,2) @ (2,2) => (1,2) "
   ]
  },
  {
   "cell_type": "code",
   "execution_count": 17,
   "id": "534be66a-89cc-4df9-b96d-e57c772926c9",
   "metadata": {},
   "outputs": [
    {
     "data": {
      "text/plain": [
       "array([[ 5],\n",
       "       [11]])"
      ]
     },
     "execution_count": 17,
     "metadata": {},
     "output_type": "execute_result"
    }
   ],
   "source": [
    "A = np.array([1,2,3,4]).reshape(2,2) \n",
    "b = np.array([1,2]).reshape(2,1) \n",
    "A@b"
   ]
  },
  {
   "cell_type": "code",
   "execution_count": 18,
   "id": "dd08237d-5a3f-4430-af12-90f34d42fd6c",
   "metadata": {},
   "outputs": [
    {
     "data": {
      "text/plain": [
       "((2, 2), (2, 1), (2, 1))"
      ]
     },
     "execution_count": 18,
     "metadata": {},
     "output_type": "execute_result"
    }
   ],
   "source": [
    "A.shape, b.shape, (A@b).shape"
   ]
  },
  {
   "cell_type": "code",
   "execution_count": 20,
   "id": "91641a15-4816-4bea-a44a-a9ca503ada37",
   "metadata": {},
   "outputs": [
    {
     "data": {
      "text/plain": [
       "array([[ 7, 10]])"
      ]
     },
     "execution_count": 20,
     "metadata": {},
     "output_type": "execute_result"
    }
   ],
   "source": [
    "A = np.array([1,2,3,4]).reshape(2,2) \n",
    "b = np.array([1,2]).reshape(1,2) \n",
    "b@A "
   ]
  },
  {
   "cell_type": "code",
   "execution_count": 21,
   "id": "b469b513-1374-430d-9499-87a7717b230e",
   "metadata": {},
   "outputs": [
    {
     "data": {
      "text/plain": [
       "((2, 2), (1, 2), (1, 2))"
      ]
     },
     "execution_count": 21,
     "metadata": {},
     "output_type": "execute_result"
    }
   ],
   "source": [
    "A.shape, b.shape, (b@A).shape"
   ]
  },
  {
   "cell_type": "markdown",
   "id": "eb537b22-1fed-4652-9785-8b2e732d375f",
   "metadata": {},
   "source": [
    "`-` 당연히 아래는 성립안한다. "
   ]
  },
  {
   "cell_type": "code",
   "execution_count": 22,
   "id": "30d5b5b1-15c0-4286-ba98-b55e739490f6",
   "metadata": {},
   "outputs": [
    {
     "ename": "ValueError",
     "evalue": "matmul: Input operand 1 has a mismatch in its core dimension 0, with gufunc signature (n?,k),(k,m?)->(n?,m?) (size 2 is different from 1)",
     "output_type": "error",
     "traceback": [
      "\u001b[0;31m---------------------------------------------------------------------------\u001b[0m",
      "\u001b[0;31mValueError\u001b[0m                                Traceback (most recent call last)",
      "Input \u001b[0;32mIn [22]\u001b[0m, in \u001b[0;36m<cell line: 3>\u001b[0;34m()\u001b[0m\n\u001b[1;32m      1\u001b[0m A \u001b[38;5;241m=\u001b[39m np\u001b[38;5;241m.\u001b[39marray([\u001b[38;5;241m1\u001b[39m,\u001b[38;5;241m2\u001b[39m,\u001b[38;5;241m3\u001b[39m,\u001b[38;5;241m4\u001b[39m])\u001b[38;5;241m.\u001b[39mreshape(\u001b[38;5;241m2\u001b[39m,\u001b[38;5;241m2\u001b[39m) \n\u001b[1;32m      2\u001b[0m b \u001b[38;5;241m=\u001b[39m np\u001b[38;5;241m.\u001b[39marray([\u001b[38;5;241m1\u001b[39m,\u001b[38;5;241m2\u001b[39m])\u001b[38;5;241m.\u001b[39mreshape(\u001b[38;5;241m2\u001b[39m,\u001b[38;5;241m1\u001b[39m) \n\u001b[0;32m----> 3\u001b[0m \u001b[43mb\u001b[49m\u001b[38;5;129;43m@A\u001b[39;49m\n",
      "\u001b[0;31mValueError\u001b[0m: matmul: Input operand 1 has a mismatch in its core dimension 0, with gufunc signature (n?,k),(k,m?)->(n?,m?) (size 2 is different from 1)"
     ]
    }
   ],
   "source": [
    "A = np.array([1,2,3,4]).reshape(2,2) \n",
    "b = np.array([1,2]).reshape(2,1) \n",
    "b@A"
   ]
  },
  {
   "cell_type": "code",
   "execution_count": 23,
   "id": "2154c269-ab58-43aa-af83-a5be388a0de4",
   "metadata": {},
   "outputs": [
    {
     "ename": "ValueError",
     "evalue": "matmul: Input operand 1 has a mismatch in its core dimension 0, with gufunc signature (n?,k),(k,m?)->(n?,m?) (size 1 is different from 2)",
     "output_type": "error",
     "traceback": [
      "\u001b[0;31m---------------------------------------------------------------------------\u001b[0m",
      "\u001b[0;31mValueError\u001b[0m                                Traceback (most recent call last)",
      "Input \u001b[0;32mIn [23]\u001b[0m, in \u001b[0;36m<cell line: 3>\u001b[0;34m()\u001b[0m\n\u001b[1;32m      1\u001b[0m A \u001b[38;5;241m=\u001b[39m np\u001b[38;5;241m.\u001b[39marray([\u001b[38;5;241m1\u001b[39m,\u001b[38;5;241m2\u001b[39m,\u001b[38;5;241m3\u001b[39m,\u001b[38;5;241m4\u001b[39m])\u001b[38;5;241m.\u001b[39mreshape(\u001b[38;5;241m2\u001b[39m,\u001b[38;5;241m2\u001b[39m) \n\u001b[1;32m      2\u001b[0m b \u001b[38;5;241m=\u001b[39m np\u001b[38;5;241m.\u001b[39marray([\u001b[38;5;241m1\u001b[39m,\u001b[38;5;241m2\u001b[39m])\u001b[38;5;241m.\u001b[39mreshape(\u001b[38;5;241m1\u001b[39m,\u001b[38;5;241m2\u001b[39m) \n\u001b[0;32m----> 3\u001b[0m \u001b[43mA\u001b[49m\u001b[38;5;129;43m@b\u001b[39;49m\n",
      "\u001b[0;31mValueError\u001b[0m: matmul: Input operand 1 has a mismatch in its core dimension 0, with gufunc signature (n?,k),(k,m?)->(n?,m?) (size 1 is different from 2)"
     ]
    }
   ],
   "source": [
    "A = np.array([1,2,3,4]).reshape(2,2) \n",
    "b = np.array([1,2]).reshape(1,2) \n",
    "A@b"
   ]
  },
  {
   "cell_type": "markdown",
   "id": "3c14006a-e058-4674-a3d4-edadf14ee5d8",
   "metadata": {},
   "source": [
    "`-` 아래는 어떨까? 계산가능할까? $\\to$ 모두 계산가능!\n",
    "\n",
    "- (2,) @ (2,2) = (2,) \n",
    "- (2,2) @ (2,) = (2,) "
   ]
  },
  {
   "cell_type": "code",
   "execution_count": 25,
   "id": "fe6cc482-c2b7-49d5-b305-d0b127eaf846",
   "metadata": {},
   "outputs": [
    {
     "data": {
      "text/plain": [
       "array([ 5, 11])"
      ]
     },
     "execution_count": 25,
     "metadata": {},
     "output_type": "execute_result"
    }
   ],
   "source": [
    "A = np.array([1,2,3,4]).reshape(2,2)\n",
    "b = np.array([1,2]) \n",
    "A@b"
   ]
  },
  {
   "cell_type": "code",
   "execution_count": 26,
   "id": "a8715bc2-d8a8-4d06-97a7-648a8c24105d",
   "metadata": {},
   "outputs": [
    {
     "data": {
      "text/plain": [
       "((2, 2), (2,), (2,))"
      ]
     },
     "execution_count": 26,
     "metadata": {},
     "output_type": "execute_result"
    }
   ],
   "source": [
    "A.shape, b.shape, (A@b).shape "
   ]
  },
  {
   "cell_type": "markdown",
   "id": "f380487c-e7c9-4299-baf4-a93d88bd5073",
   "metadata": {},
   "source": [
    "- b를 마치 (2,1)처럼 해석하여 행렬곱하고 결과는 다시 (2,) 로 만든것 같다. "
   ]
  },
  {
   "cell_type": "code",
   "execution_count": 27,
   "id": "46bf60ca-8595-4bb5-bc1f-c66baf383814",
   "metadata": {},
   "outputs": [
    {
     "data": {
      "text/plain": [
       "array([ 7, 10])"
      ]
     },
     "execution_count": 27,
     "metadata": {},
     "output_type": "execute_result"
    }
   ],
   "source": [
    "b@A"
   ]
  },
  {
   "cell_type": "code",
   "execution_count": 28,
   "id": "339a4fff-0d3a-407a-ba05-fefc3e18b85c",
   "metadata": {},
   "outputs": [
    {
     "data": {
      "text/plain": [
       "((2, 2), (2,), (2,))"
      ]
     },
     "execution_count": 28,
     "metadata": {},
     "output_type": "execute_result"
    }
   ],
   "source": [
    "A.shape, b.shape, (b@A).shape "
   ]
  },
  {
   "cell_type": "markdown",
   "id": "898d4e46-2f50-42b3-8b83-177e4224452e",
   "metadata": {},
   "source": [
    "- 이때는 $b$를 마치 (1,2)처럼 해석하여 행렬곱하고 결과는 다시 (2,)로 만든것 같다. "
   ]
  },
  {
   "cell_type": "markdown",
   "id": "2e46d070-f128-4b5d-85d1-f59643df4e72",
   "metadata": {},
   "source": [
    "`-` 아래는 어떠할까? "
   ]
  },
  {
   "cell_type": "code",
   "execution_count": 32,
   "id": "7e56ef62-0454-4744-83d8-140c629dc794",
   "metadata": {},
   "outputs": [
    {
     "data": {
      "text/plain": [
       "30"
      ]
     },
     "execution_count": 32,
     "metadata": {},
     "output_type": "execute_result"
    }
   ],
   "source": [
    "b1 = np.array([1,2,3,4]) \n",
    "b2 = np.array([1,2,3,4]) \n",
    "b1@b2 "
   ]
  },
  {
   "cell_type": "code",
   "execution_count": 31,
   "id": "12b15df4-7a05-4da0-83e4-0b3ce798b5b0",
   "metadata": {},
   "outputs": [
    {
     "data": {
      "text/plain": [
       "((4,), (4,), ())"
      ]
     },
     "execution_count": 31,
     "metadata": {},
     "output_type": "execute_result"
    }
   ],
   "source": [
    "b1.shape, b2.shape, (b1@b2).shape "
   ]
  },
  {
   "cell_type": "markdown",
   "id": "9a903d11-002d-4f2a-b809-d37875de3922",
   "metadata": {},
   "source": [
    "- (1,4) @ (4,1) = (1,1) 로 생각 "
   ]
  },
  {
   "cell_type": "markdown",
   "id": "459f0f25-cdc7-4a37-a9bc-167f638ca2ab",
   "metadata": {},
   "source": [
    "`-` 즉 위는 아래와 같이 해석하고 행렬곱한것과 결과가 같다. "
   ]
  },
  {
   "cell_type": "code",
   "execution_count": 35,
   "id": "ad90a7bc-6eae-46df-983b-42702c08f914",
   "metadata": {},
   "outputs": [
    {
     "data": {
      "text/plain": [
       "array([[30]])"
      ]
     },
     "execution_count": 35,
     "metadata": {},
     "output_type": "execute_result"
    }
   ],
   "source": [
    "b1 = np.array([1,2,3,4]).reshape(1,4) \n",
    "b2 = np.array([1,2,3,4]).reshape(4,1) \n",
    "b1@b2 "
   ]
  },
  {
   "cell_type": "code",
   "execution_count": 36,
   "id": "85e0b3e1-33f6-4bf7-a1f0-40948c62f6cd",
   "metadata": {},
   "outputs": [
    {
     "data": {
      "text/plain": [
       "((1, 4), (4, 1), (1, 1))"
      ]
     },
     "execution_count": 36,
     "metadata": {},
     "output_type": "execute_result"
    }
   ],
   "source": [
    "b1.shape, b2.shape, (b1@b2).shape "
   ]
  },
  {
   "cell_type": "markdown",
   "id": "1a0ce128-f05b-41e0-9255-a40dc88b4e35",
   "metadata": {},
   "source": [
    "`-` 때로는 (4,1) @ (1,4)와 같은 계산결과를 얻고 싶을 수 있는데 이때는 차원을 명시해야함 "
   ]
  },
  {
   "cell_type": "code",
   "execution_count": 34,
   "id": "48657603-5709-451b-8835-d7e0fd8639fc",
   "metadata": {},
   "outputs": [
    {
     "data": {
      "text/plain": [
       "array([[ 1,  2,  3,  4],\n",
       "       [ 2,  4,  6,  8],\n",
       "       [ 3,  6,  9, 12],\n",
       "       [ 4,  8, 12, 16]])"
      ]
     },
     "execution_count": 34,
     "metadata": {},
     "output_type": "execute_result"
    }
   ],
   "source": [
    "b1 = np.array([1,2,3,4]).reshape(4,1) \n",
    "b2 = np.array([1,2,3,4]).reshape(1,4) \n",
    "b1@b2 "
   ]
  },
  {
   "cell_type": "markdown",
   "id": "b875cf78-baa2-41c0-813f-1e9e23a65de1",
   "metadata": {},
   "source": [
    "# 넘파이 공부 4단계: 축 "
   ]
  },
  {
   "cell_type": "markdown",
   "id": "a30cf391-2482-4f56-a9f0-065ceb6b2079",
   "metadata": {},
   "source": [
    "## np.concatenate"
   ]
  },
  {
   "cell_type": "markdown",
   "id": "7a6afcb3-fba2-4324-8697-fcf83b134907",
   "metadata": {},
   "source": [
    "`-` 기본예제 "
   ]
  },
  {
   "cell_type": "code",
   "execution_count": 53,
   "id": "a10c8b6e-edf0-47ef-b0eb-619eceeabd8b",
   "metadata": {},
   "outputs": [],
   "source": [
    "a=np.array([1,2]) \n",
    "b=-a"
   ]
  },
  {
   "cell_type": "code",
   "execution_count": 56,
   "id": "edee2ad8-16db-4763-b47c-e3a8c16e4ce3",
   "metadata": {},
   "outputs": [
    {
     "data": {
      "text/plain": [
       "array([ 1,  2, -1, -2])"
      ]
     },
     "execution_count": 56,
     "metadata": {},
     "output_type": "execute_result"
    }
   ],
   "source": [
    "np.concatenate([a,b]) "
   ]
  },
  {
   "cell_type": "markdown",
   "id": "f071b53b-9d37-4700-9835-9b81bc3d015d",
   "metadata": {},
   "source": [
    "`-` 응용 "
   ]
  },
  {
   "cell_type": "code",
   "execution_count": 57,
   "id": "57d8d9dd-8db9-4696-8e84-b06f01e9cf60",
   "metadata": {},
   "outputs": [],
   "source": [
    "a=np.array([1,2])\n",
    "b=-a \n",
    "c=np.array([3,4,5])"
   ]
  },
  {
   "cell_type": "code",
   "execution_count": 58,
   "id": "0e285667-8b6c-4e09-aa4e-684bda2889c9",
   "metadata": {},
   "outputs": [
    {
     "data": {
      "text/plain": [
       "array([ 1,  2, -1, -2,  3,  4,  5])"
      ]
     },
     "execution_count": 58,
     "metadata": {},
     "output_type": "execute_result"
    }
   ],
   "source": [
    "np.concatenate([a,b,c])"
   ]
  },
  {
   "cell_type": "markdown",
   "id": "51543406-0af0-473f-988a-a477e2d5e7ee",
   "metadata": {},
   "source": [
    "- 여기까진 딱히 칸캐터네이트의 메리트가 없어보임\n",
    "- 리스트였다면 a+b+c 하면 되는 기능이니까? "
   ]
  },
  {
   "cell_type": "markdown",
   "id": "a131b304-d78f-4ec4-b741-d9591dc55aa3",
   "metadata": {},
   "source": [
    "`-` 2d array에 적용해보자. "
   ]
  },
  {
   "cell_type": "code",
   "execution_count": 61,
   "id": "0fc286c7-c7cc-4220-b96f-47647b53858a",
   "metadata": {},
   "outputs": [],
   "source": [
    "a=np.arange(4).reshape(2,2) \n",
    "b=-a"
   ]
  },
  {
   "cell_type": "code",
   "execution_count": 62,
   "id": "7099c95b-ef72-4176-bfac-2bc7d2b18fde",
   "metadata": {},
   "outputs": [
    {
     "data": {
      "text/plain": [
       "array([[ 0,  1],\n",
       "       [ 2,  3],\n",
       "       [ 0, -1],\n",
       "       [-2, -3]])"
      ]
     },
     "execution_count": 62,
     "metadata": {},
     "output_type": "execute_result"
    }
   ],
   "source": [
    "np.concatenate([a,b]) "
   ]
  },
  {
   "cell_type": "markdown",
   "id": "39cd744e-821d-469f-aa89-595a41275267",
   "metadata": {},
   "source": [
    "`-` 옆으로 붙일려면? "
   ]
  },
  {
   "cell_type": "code",
   "execution_count": 63,
   "id": "56565aad-9a30-4a6f-af3c-d5bf956a6bc9",
   "metadata": {},
   "outputs": [
    {
     "data": {
      "text/plain": [
       "array([[ 0,  1,  0, -1],\n",
       "       [ 2,  3, -2, -3]])"
      ]
     },
     "execution_count": 63,
     "metadata": {},
     "output_type": "execute_result"
    }
   ],
   "source": [
    "np.concatenate([a,b],axis=1)"
   ]
  },
  {
   "cell_type": "markdown",
   "id": "8c1132a1-d337-4267-9aa3-576e06e0c79e",
   "metadata": {},
   "source": [
    "`-` 위의 코드에서 axis=1 이 뭐지? axis=0,2 등을 치면 결과가 어떻게 될까? "
   ]
  },
  {
   "cell_type": "code",
   "execution_count": 64,
   "id": "9dc78bf3-dd2b-418a-a3c4-f5a0290483fb",
   "metadata": {},
   "outputs": [
    {
     "data": {
      "text/plain": [
       "array([[ 0,  1],\n",
       "       [ 2,  3],\n",
       "       [ 0, -1],\n",
       "       [-2, -3]])"
      ]
     },
     "execution_count": 64,
     "metadata": {},
     "output_type": "execute_result"
    }
   ],
   "source": [
    "np.concatenate([a,b],axis=0)"
   ]
  },
  {
   "cell_type": "markdown",
   "id": "fa605595-e3c8-4a2e-bfff-31061e881e96",
   "metadata": {},
   "source": [
    "- 이건 그냥 np.concatenate([a,b])와 같다. \n",
    "- np.concatenate([a,b])는 np.concatenate([a,b],axis=0)의 생략버전이군? "
   ]
  },
  {
   "cell_type": "code",
   "execution_count": 65,
   "id": "55643bb2-04a3-4775-a482-0b940a0ac7d1",
   "metadata": {},
   "outputs": [
    {
     "ename": "AxisError",
     "evalue": "axis 2 is out of bounds for array of dimension 2",
     "output_type": "error",
     "traceback": [
      "\u001b[0;31m---------------------------------------------------------------------------\u001b[0m",
      "\u001b[0;31mAxisError\u001b[0m                                 Traceback (most recent call last)",
      "Input \u001b[0;32mIn [65]\u001b[0m, in \u001b[0;36m<cell line: 1>\u001b[0;34m()\u001b[0m\n\u001b[0;32m----> 1\u001b[0m \u001b[43mnp\u001b[49m\u001b[38;5;241;43m.\u001b[39;49m\u001b[43mconcatenate\u001b[49m\u001b[43m(\u001b[49m\u001b[43m[\u001b[49m\u001b[43ma\u001b[49m\u001b[43m,\u001b[49m\u001b[43mb\u001b[49m\u001b[43m]\u001b[49m\u001b[43m,\u001b[49m\u001b[43maxis\u001b[49m\u001b[38;5;241;43m=\u001b[39;49m\u001b[38;5;241;43m2\u001b[39;49m\u001b[43m)\u001b[49m\n",
      "File \u001b[0;32m<__array_function__ internals>:5\u001b[0m, in \u001b[0;36mconcatenate\u001b[0;34m(*args, **kwargs)\u001b[0m\n",
      "\u001b[0;31mAxisError\u001b[0m: axis 2 is out of bounds for array of dimension 2"
     ]
    }
   ],
   "source": [
    "np.concatenate([a,b],axis=2)"
   ]
  },
  {
   "cell_type": "markdown",
   "id": "c9746992-4887-477c-a366-f9b39076c59c",
   "metadata": {},
   "source": [
    "- 이런건 없다. "
   ]
  },
  {
   "cell_type": "markdown",
   "id": "6270e508-7094-4c72-9cc3-f558bc4fddbe",
   "metadata": {},
   "source": [
    "`-` axis의 의미가 뭔지 궁금함. 좀 더 예제를 살펴보자. "
   ]
  },
  {
   "cell_type": "code",
   "execution_count": 68,
   "id": "272788f8-b033-427a-994d-0d1c37e3438f",
   "metadata": {},
   "outputs": [
    {
     "data": {
      "text/plain": [
       "array([[[ 0,  1,  2,  3],\n",
       "        [ 4,  5,  6,  7],\n",
       "        [ 8,  9, 10, 11]],\n",
       "\n",
       "       [[12, 13, 14, 15],\n",
       "        [16, 17, 18, 19],\n",
       "        [20, 21, 22, 23]]])"
      ]
     },
     "execution_count": 68,
     "metadata": {},
     "output_type": "execute_result"
    }
   ],
   "source": [
    "a=np.array(range(2*3*4)).reshape(2,3,4)\n",
    "a"
   ]
  },
  {
   "cell_type": "code",
   "execution_count": 69,
   "id": "defe33ec-8398-4f26-8452-b44e952ced97",
   "metadata": {},
   "outputs": [
    {
     "data": {
      "text/plain": [
       "array([[[  0,  -1,  -2,  -3],\n",
       "        [ -4,  -5,  -6,  -7],\n",
       "        [ -8,  -9, -10, -11]],\n",
       "\n",
       "       [[-12, -13, -14, -15],\n",
       "        [-16, -17, -18, -19],\n",
       "        [-20, -21, -22, -23]]])"
      ]
     },
     "execution_count": 69,
     "metadata": {},
     "output_type": "execute_result"
    }
   ],
   "source": [
    "b=-a\n",
    "b"
   ]
  },
  {
   "cell_type": "code",
   "execution_count": 70,
   "id": "e9be0eb8-efef-4bd2-96bf-4f8c686ddee1",
   "metadata": {},
   "outputs": [
    {
     "data": {
      "text/plain": [
       "array([[[  0,   1,   2,   3],\n",
       "        [  4,   5,   6,   7],\n",
       "        [  8,   9,  10,  11]],\n",
       "\n",
       "       [[ 12,  13,  14,  15],\n",
       "        [ 16,  17,  18,  19],\n",
       "        [ 20,  21,  22,  23]],\n",
       "\n",
       "       [[  0,  -1,  -2,  -3],\n",
       "        [ -4,  -5,  -6,  -7],\n",
       "        [ -8,  -9, -10, -11]],\n",
       "\n",
       "       [[-12, -13, -14, -15],\n",
       "        [-16, -17, -18, -19],\n",
       "        [-20, -21, -22, -23]]])"
      ]
     },
     "execution_count": 70,
     "metadata": {},
     "output_type": "execute_result"
    }
   ],
   "source": [
    "np.concatenate([a,b],axis=0) "
   ]
  },
  {
   "cell_type": "code",
   "execution_count": 72,
   "id": "5ce0571a-7a7c-408e-b6d5-9943720e5c8b",
   "metadata": {},
   "outputs": [
    {
     "data": {
      "text/plain": [
       "array([[[  0,   1,   2,   3],\n",
       "        [  4,   5,   6,   7],\n",
       "        [  8,   9,  10,  11],\n",
       "        [  0,  -1,  -2,  -3],\n",
       "        [ -4,  -5,  -6,  -7],\n",
       "        [ -8,  -9, -10, -11]],\n",
       "\n",
       "       [[ 12,  13,  14,  15],\n",
       "        [ 16,  17,  18,  19],\n",
       "        [ 20,  21,  22,  23],\n",
       "        [-12, -13, -14, -15],\n",
       "        [-16, -17, -18, -19],\n",
       "        [-20, -21, -22, -23]]])"
      ]
     },
     "execution_count": 72,
     "metadata": {},
     "output_type": "execute_result"
    }
   ],
   "source": [
    "np.concatenate([a,b],axis=1) "
   ]
  },
  {
   "cell_type": "code",
   "execution_count": 73,
   "id": "3919060c-5330-4e52-8450-056bbd27b674",
   "metadata": {},
   "outputs": [
    {
     "data": {
      "text/plain": [
       "array([[[  0,   1,   2,   3,   0,  -1,  -2,  -3],\n",
       "        [  4,   5,   6,   7,  -4,  -5,  -6,  -7],\n",
       "        [  8,   9,  10,  11,  -8,  -9, -10, -11]],\n",
       "\n",
       "       [[ 12,  13,  14,  15, -12, -13, -14, -15],\n",
       "        [ 16,  17,  18,  19, -16, -17, -18, -19],\n",
       "        [ 20,  21,  22,  23, -20, -21, -22, -23]]])"
      ]
     },
     "execution_count": 73,
     "metadata": {},
     "output_type": "execute_result"
    }
   ],
   "source": [
    "np.concatenate([a,b],axis=2) "
   ]
  },
  {
   "cell_type": "markdown",
   "id": "282c7d1a-4d35-4bd3-a068-f62dd940d17b",
   "metadata": {},
   "source": [
    "- 이번에는 axis=2까지 된다? "
   ]
  },
  {
   "cell_type": "code",
   "execution_count": 75,
   "id": "4ea66864-459d-4b65-97c2-788167524368",
   "metadata": {},
   "outputs": [
    {
     "ename": "AxisError",
     "evalue": "axis 3 is out of bounds for array of dimension 3",
     "output_type": "error",
     "traceback": [
      "\u001b[0;31m---------------------------------------------------------------------------\u001b[0m",
      "\u001b[0;31mAxisError\u001b[0m                                 Traceback (most recent call last)",
      "Input \u001b[0;32mIn [75]\u001b[0m, in \u001b[0;36m<cell line: 1>\u001b[0;34m()\u001b[0m\n\u001b[0;32m----> 1\u001b[0m \u001b[43mnp\u001b[49m\u001b[38;5;241;43m.\u001b[39;49m\u001b[43mconcatenate\u001b[49m\u001b[43m(\u001b[49m\u001b[43m[\u001b[49m\u001b[43ma\u001b[49m\u001b[43m,\u001b[49m\u001b[43mb\u001b[49m\u001b[43m]\u001b[49m\u001b[43m,\u001b[49m\u001b[43maxis\u001b[49m\u001b[38;5;241;43m=\u001b[39;49m\u001b[38;5;241;43m3\u001b[39;49m\u001b[43m)\u001b[49m\n",
      "File \u001b[0;32m<__array_function__ internals>:5\u001b[0m, in \u001b[0;36mconcatenate\u001b[0;34m(*args, **kwargs)\u001b[0m\n",
      "\u001b[0;31mAxisError\u001b[0m: axis 3 is out of bounds for array of dimension 3"
     ]
    }
   ],
   "source": [
    "np.concatenate([a,b],axis=3) "
   ]
  },
  {
   "cell_type": "markdown",
   "id": "08471c88-3413-48e0-9d63-a91572954437",
   "metadata": {},
   "source": [
    "- axis=3까지는 안된다? "
   ]
  },
  {
   "cell_type": "markdown",
   "id": "99c4976e-2534-4c5b-b516-d1d5f224f34a",
   "metadata": {},
   "source": [
    "`-` 뭔가 나름의 방식으로 합쳐지는데 원리가 뭘까? "
   ]
  },
  {
   "cell_type": "markdown",
   "id": "7114cf84-bf3d-4e66-a428-4eb2f92cb743",
   "metadata": {},
   "source": [
    "(분석1) np.concatenate([a,b],axis=0) "
   ]
  },
  {
   "cell_type": "code",
   "execution_count": 80,
   "id": "01861fe7-5556-4462-a36f-813c21a8781a",
   "metadata": {},
   "outputs": [],
   "source": [
    "a=np.array(range(2*3*4)).reshape(2,3,4) \n",
    "b=-a "
   ]
  },
  {
   "cell_type": "code",
   "execution_count": 86,
   "id": "adc69e3a-97be-4fd2-9513-3462de508f3a",
   "metadata": {},
   "outputs": [
    {
     "data": {
      "text/plain": [
       "((2, 3, 4), (2, 3, 4), (4, 3, 4))"
      ]
     },
     "execution_count": 86,
     "metadata": {},
     "output_type": "execute_result"
    }
   ],
   "source": [
    "a.shape, b.shape, np.concatenate([a,b],axis=0).shape"
   ]
  },
  {
   "cell_type": "markdown",
   "id": "7f42de7c-be68-4d06-8890-dc3307ce8857",
   "metadata": {},
   "source": [
    "- 첫번째차원이 바뀌었다 => 첫번째 축이 바뀌었다 => axis=0 (파이썬은 0부터 시작하니까!) "
   ]
  },
  {
   "cell_type": "markdown",
   "id": "4e0ef11c-69ad-415e-a87f-7b326adc5f5f",
   "metadata": {},
   "source": [
    "(분석2) np.concatenate([a,b],axis=1) "
   ]
  },
  {
   "cell_type": "code",
   "execution_count": 88,
   "id": "8271be81-560c-4553-8056-2cdb2bf018bc",
   "metadata": {},
   "outputs": [],
   "source": [
    "a=np.array(range(2*3*4)).reshape(2,3,4) \n",
    "b=-a "
   ]
  },
  {
   "cell_type": "code",
   "execution_count": 89,
   "id": "deb17bbb-b2a4-48fc-9084-55ae3a7e0e79",
   "metadata": {},
   "outputs": [
    {
     "data": {
      "text/plain": [
       "((2, 3, 4), (2, 3, 4), (2, 6, 4))"
      ]
     },
     "execution_count": 89,
     "metadata": {},
     "output_type": "execute_result"
    }
   ],
   "source": [
    "a.shape, b.shape, np.concatenate([a,b],axis=1).shape"
   ]
  },
  {
   "cell_type": "markdown",
   "id": "51ea431a-6e17-4bae-9810-f84f102a0440",
   "metadata": {},
   "source": [
    "- 두번째차원이 바뀌었다 => 두번째 축이 바뀌었다 => axis=1"
   ]
  },
  {
   "cell_type": "markdown",
   "id": "0de51f44-f3c4-4842-ab96-33af2f8f5364",
   "metadata": {},
   "source": [
    "(분석3) np.concatenate([a,b],axis=2) "
   ]
  },
  {
   "cell_type": "code",
   "execution_count": 90,
   "id": "ee45d85e-1d18-4e38-88ff-b523dc72a70a",
   "metadata": {},
   "outputs": [],
   "source": [
    "a=np.array(range(2*3*4)).reshape(2,3,4) \n",
    "b=-a "
   ]
  },
  {
   "cell_type": "code",
   "execution_count": 92,
   "id": "6117cddb-0fe5-4f42-8ce6-4f1c0b467997",
   "metadata": {},
   "outputs": [
    {
     "data": {
      "text/plain": [
       "((2, 3, 4), (2, 3, 4), (2, 3, 8))"
      ]
     },
     "execution_count": 92,
     "metadata": {},
     "output_type": "execute_result"
    }
   ],
   "source": [
    "a.shape, b.shape, np.concatenate([a,b],axis=2).shape"
   ]
  },
  {
   "cell_type": "markdown",
   "id": "dbaa9759-82b7-4dd1-801b-790db1a738af",
   "metadata": {},
   "source": [
    "- 세번째차원이 바뀌었다 => 세번째 축이 바뀌었다 => axis=2"
   ]
  },
  {
   "cell_type": "markdown",
   "id": "b5a27e84-19bc-478a-a515-34f3d3c32f64",
   "metadata": {},
   "source": [
    "(분석4) np.concatenate([a,b],axis=3) "
   ]
  },
  {
   "cell_type": "code",
   "execution_count": 94,
   "id": "a17b7ffa-2fa1-491f-966e-940f6f8d9651",
   "metadata": {},
   "outputs": [],
   "source": [
    "a=np.array(range(2*3*4)).reshape(2,3,4) \n",
    "b=-a "
   ]
  },
  {
   "cell_type": "code",
   "execution_count": 95,
   "id": "99ac26df-d5d0-4b7b-baa2-cec9ddd9681a",
   "metadata": {},
   "outputs": [
    {
     "ename": "AxisError",
     "evalue": "axis 3 is out of bounds for array of dimension 3",
     "output_type": "error",
     "traceback": [
      "\u001b[0;31m---------------------------------------------------------------------------\u001b[0m",
      "\u001b[0;31mAxisError\u001b[0m                                 Traceback (most recent call last)",
      "Input \u001b[0;32mIn [95]\u001b[0m, in \u001b[0;36m<cell line: 1>\u001b[0;34m()\u001b[0m\n\u001b[0;32m----> 1\u001b[0m a\u001b[38;5;241m.\u001b[39mshape, b\u001b[38;5;241m.\u001b[39mshape, \u001b[43mnp\u001b[49m\u001b[38;5;241;43m.\u001b[39;49m\u001b[43mconcatenate\u001b[49m\u001b[43m(\u001b[49m\u001b[43m[\u001b[49m\u001b[43ma\u001b[49m\u001b[43m,\u001b[49m\u001b[43mb\u001b[49m\u001b[43m]\u001b[49m\u001b[43m,\u001b[49m\u001b[43maxis\u001b[49m\u001b[38;5;241;43m=\u001b[39;49m\u001b[38;5;241;43m3\u001b[39;49m\u001b[43m)\u001b[49m\u001b[38;5;241m.\u001b[39mshape\n",
      "File \u001b[0;32m<__array_function__ internals>:5\u001b[0m, in \u001b[0;36mconcatenate\u001b[0;34m(*args, **kwargs)\u001b[0m\n",
      "\u001b[0;31mAxisError\u001b[0m: axis 3 is out of bounds for array of dimension 3"
     ]
    }
   ],
   "source": [
    "a.shape, b.shape, np.concatenate([a,b],axis=3).shape"
   ]
  },
  {
   "cell_type": "markdown",
   "id": "9a5a8f44-6553-4642-93d3-ae108e41cb4d",
   "metadata": {},
   "source": [
    "- 네번째차원이 없다 => 네번째 축이 없다 => axis=3으로 하면 에러가 난다. "
   ]
  },
  {
   "cell_type": "markdown",
   "id": "8bea40b5-7abf-436e-8ccc-1d9c42c038aa",
   "metadata": {},
   "source": [
    "(보너스1) "
   ]
  },
  {
   "cell_type": "code",
   "execution_count": 99,
   "id": "6a9a1314-af64-4633-8a19-177f887989f7",
   "metadata": {},
   "outputs": [],
   "source": [
    "a=np.array(range(2*3*4)).reshape(2,3,4) \n",
    "b=-a "
   ]
  },
  {
   "cell_type": "code",
   "execution_count": 101,
   "id": "32e8b9aa-4c6a-461c-b049-d20c178bca58",
   "metadata": {},
   "outputs": [
    {
     "data": {
      "text/plain": [
       "array([[[  0,   1,   2,   3,   0,  -1,  -2,  -3],\n",
       "        [  4,   5,   6,   7,  -4,  -5,  -6,  -7],\n",
       "        [  8,   9,  10,  11,  -8,  -9, -10, -11]],\n",
       "\n",
       "       [[ 12,  13,  14,  15, -12, -13, -14, -15],\n",
       "        [ 16,  17,  18,  19, -16, -17, -18, -19],\n",
       "        [ 20,  21,  22,  23, -20, -21, -22, -23]]])"
      ]
     },
     "execution_count": 101,
     "metadata": {},
     "output_type": "execute_result"
    }
   ],
   "source": [
    "np.concatenate([a,b],axis=-1)"
   ]
  },
  {
   "cell_type": "code",
   "execution_count": 100,
   "id": "856b9d0e-a76f-4b9e-8b88-f1ec92257081",
   "metadata": {},
   "outputs": [
    {
     "data": {
      "text/plain": [
       "((2, 3, 4), (2, 3, 4), (2, 3, 8))"
      ]
     },
     "execution_count": 100,
     "metadata": {},
     "output_type": "execute_result"
    }
   ],
   "source": [
    "a.shape, b.shape, np.concatenate([a,b],axis=-1).shape"
   ]
  },
  {
   "cell_type": "markdown",
   "id": "32a648f5-63e0-407a-a009-c550e664d11c",
   "metadata": {},
   "source": [
    "- 마지막 차원이 바뀌었다 => 마지막 축이 바뀌었다 => axis = -1 "
   ]
  },
  {
   "cell_type": "markdown",
   "id": "a95f8f96-65d4-4c34-994d-0c76c708e808",
   "metadata": {},
   "source": [
    "(보너스2) "
   ]
  },
  {
   "cell_type": "code",
   "execution_count": 107,
   "id": "85669b4e-6f10-4fc5-9835-cc6b65c63952",
   "metadata": {},
   "outputs": [],
   "source": [
    "a=np.array(range(2*3*4)).reshape(2,3,4) \n",
    "b=-a "
   ]
  },
  {
   "cell_type": "code",
   "execution_count": 108,
   "id": "eb9f34c9-aff3-43af-a067-374c07fe3245",
   "metadata": {},
   "outputs": [
    {
     "data": {
      "text/plain": [
       "array([[[  0,   1,   2,   3],\n",
       "        [  4,   5,   6,   7],\n",
       "        [  8,   9,  10,  11],\n",
       "        [  0,  -1,  -2,  -3],\n",
       "        [ -4,  -5,  -6,  -7],\n",
       "        [ -8,  -9, -10, -11]],\n",
       "\n",
       "       [[ 12,  13,  14,  15],\n",
       "        [ 16,  17,  18,  19],\n",
       "        [ 20,  21,  22,  23],\n",
       "        [-12, -13, -14, -15],\n",
       "        [-16, -17, -18, -19],\n",
       "        [-20, -21, -22, -23]]])"
      ]
     },
     "execution_count": 108,
     "metadata": {},
     "output_type": "execute_result"
    }
   ],
   "source": [
    "np.concatenate([a,b],axis=-2)"
   ]
  },
  {
   "cell_type": "code",
   "execution_count": 109,
   "id": "9b8af027-0a97-4347-9259-9a5663de296e",
   "metadata": {},
   "outputs": [
    {
     "data": {
      "text/plain": [
       "((2, 3, 4), (2, 3, 4), (2, 6, 4))"
      ]
     },
     "execution_count": 109,
     "metadata": {},
     "output_type": "execute_result"
    }
   ],
   "source": [
    "a.shape, b.shape, np.concatenate([a,b],axis=-2).shape"
   ]
  },
  {
   "cell_type": "markdown",
   "id": "1e4577f0-71e9-481a-aac6-bc1b1e444d44",
   "metadata": {},
   "source": [
    "- 마지막에서 2번째 차원이 바뀌었다 => 마지막에서 2번째 축이 바뀌었다 => axis = -2 "
   ]
  },
  {
   "cell_type": "markdown",
   "id": "1e943577-ed59-4b97-89ec-6c6c1f8ef0eb",
   "metadata": {},
   "source": [
    "(보너스3) "
   ]
  },
  {
   "cell_type": "code",
   "execution_count": 110,
   "id": "377331c3-6524-4d59-bfd6-ad3bf6c4e868",
   "metadata": {},
   "outputs": [],
   "source": [
    "a=np.array(range(2*3*4)).reshape(2,3,4) \n",
    "b=-a "
   ]
  },
  {
   "cell_type": "code",
   "execution_count": 111,
   "id": "61c6353e-cf91-4d00-bdb1-b01f0600099d",
   "metadata": {},
   "outputs": [
    {
     "data": {
      "text/plain": [
       "array([[[  0,   1,   2,   3],\n",
       "        [  4,   5,   6,   7],\n",
       "        [  8,   9,  10,  11]],\n",
       "\n",
       "       [[ 12,  13,  14,  15],\n",
       "        [ 16,  17,  18,  19],\n",
       "        [ 20,  21,  22,  23]],\n",
       "\n",
       "       [[  0,  -1,  -2,  -3],\n",
       "        [ -4,  -5,  -6,  -7],\n",
       "        [ -8,  -9, -10, -11]],\n",
       "\n",
       "       [[-12, -13, -14, -15],\n",
       "        [-16, -17, -18, -19],\n",
       "        [-20, -21, -22, -23]]])"
      ]
     },
     "execution_count": 111,
     "metadata": {},
     "output_type": "execute_result"
    }
   ],
   "source": [
    "np.concatenate([a,b],axis=-3)"
   ]
  },
  {
   "cell_type": "code",
   "execution_count": 112,
   "id": "eeff3c94-5146-471c-8ed5-3c59e0715285",
   "metadata": {},
   "outputs": [
    {
     "data": {
      "text/plain": [
       "((2, 3, 4), (2, 3, 4), (4, 3, 4))"
      ]
     },
     "execution_count": 112,
     "metadata": {},
     "output_type": "execute_result"
    }
   ],
   "source": [
    "a.shape, b.shape, np.concatenate([a,b],axis=-3).shape"
   ]
  },
  {
   "cell_type": "markdown",
   "id": "252cd71c-b7f1-4a82-9e85-884d02bc0cd8",
   "metadata": {},
   "source": [
    "- 마지막에서 3번째 차원이 바뀌었다 => 마지막에서 3번째 축이 바뀌었다 => axis = -3 "
   ]
  },
  {
   "cell_type": "markdown",
   "id": "ea7e5852-5529-46c4-9b3e-792d0bd9c02f",
   "metadata": {},
   "source": [
    "(보너스3) "
   ]
  },
  {
   "cell_type": "code",
   "execution_count": 114,
   "id": "ec9234eb-708b-480c-9373-c5e6375258e5",
   "metadata": {},
   "outputs": [],
   "source": [
    "a=np.array(range(2*3*4)).reshape(2,3,4) \n",
    "b=-a "
   ]
  },
  {
   "cell_type": "code",
   "execution_count": 115,
   "id": "94a71085-cc0d-429b-a8ca-b889a15af7d6",
   "metadata": {},
   "outputs": [
    {
     "ename": "AxisError",
     "evalue": "axis -4 is out of bounds for array of dimension 3",
     "output_type": "error",
     "traceback": [
      "\u001b[0;31m---------------------------------------------------------------------------\u001b[0m",
      "\u001b[0;31mAxisError\u001b[0m                                 Traceback (most recent call last)",
      "Input \u001b[0;32mIn [115]\u001b[0m, in \u001b[0;36m<cell line: 1>\u001b[0;34m()\u001b[0m\n\u001b[0;32m----> 1\u001b[0m \u001b[43mnp\u001b[49m\u001b[38;5;241;43m.\u001b[39;49m\u001b[43mconcatenate\u001b[49m\u001b[43m(\u001b[49m\u001b[43m[\u001b[49m\u001b[43ma\u001b[49m\u001b[43m,\u001b[49m\u001b[43mb\u001b[49m\u001b[43m]\u001b[49m\u001b[43m,\u001b[49m\u001b[43maxis\u001b[49m\u001b[38;5;241;43m=\u001b[39;49m\u001b[38;5;241;43m-\u001b[39;49m\u001b[38;5;241;43m4\u001b[39;49m\u001b[43m)\u001b[49m\n",
      "File \u001b[0;32m<__array_function__ internals>:5\u001b[0m, in \u001b[0;36mconcatenate\u001b[0;34m(*args, **kwargs)\u001b[0m\n",
      "\u001b[0;31mAxisError\u001b[0m: axis -4 is out of bounds for array of dimension 3"
     ]
    }
   ],
   "source": [
    "np.concatenate([a,b],axis=-4)"
   ]
  },
  {
   "cell_type": "markdown",
   "id": "6686004a-6e55-4225-9946-ae1935af57d6",
   "metadata": {},
   "source": [
    "- 마지막에서 4번째 차원은 없다 => 마지막에서 4번째 축이 없다 => axis = -4는 에러가 난다. "
   ]
  },
  {
   "cell_type": "markdown",
   "id": "5045d06e-e475-4ae3-934b-d741a0a394ac",
   "metadata": {},
   "source": [
    "`-` 0차원은 축이 없으므로 concatenate를 쓸 수 없다. "
   ]
  },
  {
   "cell_type": "code",
   "execution_count": 125,
   "id": "5a13b6fc-4d40-408d-a85a-14afbc2f69ba",
   "metadata": {},
   "outputs": [],
   "source": [
    "a= np.array(1)\n",
    "b= np.array(-1) "
   ]
  },
  {
   "cell_type": "code",
   "execution_count": 126,
   "id": "70ec924c-02f3-42b1-9dd7-e00f581226be",
   "metadata": {},
   "outputs": [
    {
     "data": {
      "text/plain": [
       "((), ())"
      ]
     },
     "execution_count": 126,
     "metadata": {},
     "output_type": "execute_result"
    }
   ],
   "source": [
    "a.shape, b.shape"
   ]
  },
  {
   "cell_type": "code",
   "execution_count": 127,
   "id": "ac9d32c5-0c38-4f4a-9d42-6916eb3b0e83",
   "metadata": {},
   "outputs": [
    {
     "ename": "ValueError",
     "evalue": "zero-dimensional arrays cannot be concatenated",
     "output_type": "error",
     "traceback": [
      "\u001b[0;31m---------------------------------------------------------------------------\u001b[0m",
      "\u001b[0;31mValueError\u001b[0m                                Traceback (most recent call last)",
      "Input \u001b[0;32mIn [127]\u001b[0m, in \u001b[0;36m<cell line: 1>\u001b[0;34m()\u001b[0m\n\u001b[0;32m----> 1\u001b[0m \u001b[43mnp\u001b[49m\u001b[38;5;241;43m.\u001b[39;49m\u001b[43mconcatenate\u001b[49m\u001b[43m(\u001b[49m\u001b[43m[\u001b[49m\u001b[43ma\u001b[49m\u001b[43m,\u001b[49m\u001b[43mb\u001b[49m\u001b[43m]\u001b[49m\u001b[43m)\u001b[49m\n",
      "File \u001b[0;32m<__array_function__ internals>:5\u001b[0m, in \u001b[0;36mconcatenate\u001b[0;34m(*args, **kwargs)\u001b[0m\n",
      "\u001b[0;31mValueError\u001b[0m: zero-dimensional arrays cannot be concatenated"
     ]
    }
   ],
   "source": [
    "np.concatenate([a,b])"
   ]
  },
  {
   "cell_type": "markdown",
   "id": "4ffbcbdf-6541-499e-bd94-987a4f72687f",
   "metadata": {},
   "source": [
    "`-` 꼭 a,b가 같은 차원일 필요는 없다. "
   ]
  },
  {
   "cell_type": "code",
   "execution_count": 128,
   "id": "64f0fc79-43d3-43b3-8134-b09399e96a59",
   "metadata": {},
   "outputs": [],
   "source": [
    "a=np.array(range(4)).reshape(2,2) \n",
    "b=np.array(range(2)).reshape(2,1)  "
   ]
  },
  {
   "cell_type": "code",
   "execution_count": 131,
   "id": "43a71ead-6d65-47f3-87df-608969224d97",
   "metadata": {},
   "outputs": [
    {
     "data": {
      "text/plain": [
       "array([[0, 1, 0],\n",
       "       [2, 3, 1]])"
      ]
     },
     "execution_count": 131,
     "metadata": {},
     "output_type": "execute_result"
    }
   ],
   "source": [
    "np.concatenate([a,b],axis=1)"
   ]
  },
  {
   "cell_type": "code",
   "execution_count": 133,
   "id": "fff1d8dd-70d8-46f3-b020-ae4ef4908aa1",
   "metadata": {},
   "outputs": [
    {
     "data": {
      "text/plain": [
       "((2, 2), (2, 1), (2, 3))"
      ]
     },
     "execution_count": 133,
     "metadata": {},
     "output_type": "execute_result"
    }
   ],
   "source": [
    "a.shape, b.shape, np.concatenate([a,b],axis=1).shape"
   ]
  },
  {
   "cell_type": "markdown",
   "id": "9777fbcc-98cf-403f-b05e-dad4a8fd5a5b",
   "metadata": {},
   "source": [
    "## np.stack "
   ]
  },
  {
   "cell_type": "markdown",
   "id": "3e1f9906-3cfb-4d9f-913a-d5f6450a13b4",
   "metadata": {},
   "source": [
    "`-` 혹시 아래가 가능할까? "
   ]
  },
  {
   "cell_type": "markdown",
   "id": "9f96509e-0ac5-40ac-bd34-ef9b32627968",
   "metadata": {},
   "source": [
    "- (3,) 결합 (3,) => (3,2) "
   ]
  },
  {
   "cell_type": "code",
   "execution_count": 149,
   "id": "a323b40a-ace6-448c-ad64-88919d540abd",
   "metadata": {},
   "outputs": [],
   "source": [
    "a=np.array([1,2,3])\n",
    "b=-a"
   ]
  },
  {
   "cell_type": "code",
   "execution_count": 150,
   "id": "0637cf68-e7ce-45e0-a3c6-3b76527a594b",
   "metadata": {},
   "outputs": [
    {
     "data": {
      "text/plain": [
       "(array([1, 2, 3]), array([-1, -2, -3]))"
      ]
     },
     "execution_count": 150,
     "metadata": {},
     "output_type": "execute_result"
    }
   ],
   "source": [
    "a,b"
   ]
  },
  {
   "cell_type": "code",
   "execution_count": 151,
   "id": "35aa57da-dc25-4d58-9985-2572f1840951",
   "metadata": {},
   "outputs": [
    {
     "ename": "AxisError",
     "evalue": "axis 1 is out of bounds for array of dimension 1",
     "output_type": "error",
     "traceback": [
      "\u001b[0;31m---------------------------------------------------------------------------\u001b[0m",
      "\u001b[0;31mAxisError\u001b[0m                                 Traceback (most recent call last)",
      "Input \u001b[0;32mIn [151]\u001b[0m, in \u001b[0;36m<cell line: 1>\u001b[0;34m()\u001b[0m\n\u001b[0;32m----> 1\u001b[0m \u001b[43mnp\u001b[49m\u001b[38;5;241;43m.\u001b[39;49m\u001b[43mconcatenate\u001b[49m\u001b[43m(\u001b[49m\u001b[43m[\u001b[49m\u001b[43ma\u001b[49m\u001b[43m,\u001b[49m\u001b[43mb\u001b[49m\u001b[43m]\u001b[49m\u001b[43m,\u001b[49m\u001b[43maxis\u001b[49m\u001b[38;5;241;43m=\u001b[39;49m\u001b[38;5;241;43m1\u001b[39;49m\u001b[43m)\u001b[49m\n",
      "File \u001b[0;32m<__array_function__ internals>:5\u001b[0m, in \u001b[0;36mconcatenate\u001b[0;34m(*args, **kwargs)\u001b[0m\n",
      "\u001b[0;31mAxisError\u001b[0m: axis 1 is out of bounds for array of dimension 1"
     ]
    }
   ],
   "source": [
    "np.concatenate([a,b],axis=1)"
   ]
  },
  {
   "cell_type": "markdown",
   "id": "9420ed8d-8ac5-41e7-b86b-985f990074a8",
   "metadata": {},
   "source": [
    "- 불가능 "
   ]
  },
  {
   "cell_type": "markdown",
   "id": "cbf67cc6-e471-4588-a525-b992bca995fe",
   "metadata": {},
   "source": [
    "`-` 아래와 같이 하면 해결가능 "
   ]
  },
  {
   "cell_type": "code",
   "execution_count": 152,
   "id": "9817b486-0271-41e3-b8c7-ad0713778394",
   "metadata": {},
   "outputs": [],
   "source": [
    "a=np.array([1,2,3]).reshape(3,1) \n",
    "b=-a"
   ]
  },
  {
   "cell_type": "code",
   "execution_count": 153,
   "id": "debaa8b4-d673-4542-92ef-553a69991b97",
   "metadata": {},
   "outputs": [
    {
     "data": {
      "text/plain": [
       "(array([[1],\n",
       "        [2],\n",
       "        [3]]),\n",
       " array([[-1],\n",
       "        [-2],\n",
       "        [-3]]))"
      ]
     },
     "execution_count": 153,
     "metadata": {},
     "output_type": "execute_result"
    }
   ],
   "source": [
    "a,b"
   ]
  },
  {
   "cell_type": "code",
   "execution_count": 154,
   "id": "92218657-ce3d-4601-8a19-65fec04b577d",
   "metadata": {},
   "outputs": [
    {
     "data": {
      "text/plain": [
       "array([[ 1, -1],\n",
       "       [ 2, -2],\n",
       "       [ 3, -3]])"
      ]
     },
     "execution_count": 154,
     "metadata": {},
     "output_type": "execute_result"
    }
   ],
   "source": [
    "np.concatenate([a,b],axis=1)"
   ]
  },
  {
   "cell_type": "markdown",
   "id": "50b69814-d015-454f-8958-4a5eda7f0248",
   "metadata": {},
   "source": [
    "- 분석: (3) (3) => (3,1) (3,1) => (3,1) concat (3,1) "
   ]
  },
  {
   "cell_type": "markdown",
   "id": "7ce6c54c-9abd-4aa7-8028-d3160fac6a1a",
   "metadata": {},
   "source": [
    "`-` 위의 과정을 줄여서 아래와 같이 할 수 있다. "
   ]
  },
  {
   "cell_type": "code",
   "execution_count": 156,
   "id": "66bd33cc-f69e-46c0-8365-9bb4cd9e9542",
   "metadata": {},
   "outputs": [],
   "source": [
    "a=np.array([1,2,3])\n",
    "b=-a"
   ]
  },
  {
   "cell_type": "code",
   "execution_count": 157,
   "id": "9226723a-8855-4424-a08a-b412bf0344fa",
   "metadata": {},
   "outputs": [
    {
     "data": {
      "text/plain": [
       "array([[ 1, -1],\n",
       "       [ 2, -2],\n",
       "       [ 3, -3]])"
      ]
     },
     "execution_count": 157,
     "metadata": {},
     "output_type": "execute_result"
    }
   ],
   "source": [
    "np.stack([a,b],axis=1)"
   ]
  },
  {
   "cell_type": "markdown",
   "id": "aa170cef-160c-4729-a6eb-66d3648d9adb",
   "metadata": {},
   "source": [
    "`-` 아래도 가능 "
   ]
  },
  {
   "cell_type": "code",
   "execution_count": 158,
   "id": "f58654b5-3d87-4d17-9df3-62cd73130aff",
   "metadata": {},
   "outputs": [
    {
     "data": {
      "text/plain": [
       "array([[ 1,  2,  3],\n",
       "       [-1, -2, -3]])"
      ]
     },
     "execution_count": 158,
     "metadata": {},
     "output_type": "execute_result"
    }
   ],
   "source": [
    "np.stack([a,b],axis=0)"
   ]
  },
  {
   "cell_type": "markdown",
   "id": "6dafee2b-96a7-4dce-b9ea-7d9da2858564",
   "metadata": {},
   "source": [
    "`-` 분석해보고 외우자"
   ]
  },
  {
   "cell_type": "markdown",
   "id": "567ada76-cdbf-40b1-a8c7-ebc96a53b7a2",
   "metadata": {},
   "source": [
    "(분석1)"
   ]
  },
  {
   "cell_type": "code",
   "execution_count": 159,
   "id": "282e3bd9-4d3f-440c-8c66-dd9f0e5a671c",
   "metadata": {},
   "outputs": [],
   "source": [
    "a=np.array([1,2,3])\n",
    "b=-a"
   ]
  },
  {
   "cell_type": "code",
   "execution_count": 162,
   "id": "a3f503d7-b462-43c8-888e-1059f66f09fd",
   "metadata": {},
   "outputs": [
    {
     "data": {
      "text/plain": [
       "((3,), (3,), (2, 3))"
      ]
     },
     "execution_count": 162,
     "metadata": {},
     "output_type": "execute_result"
    }
   ],
   "source": [
    "a.shape, b.shape, np.stack([a,b],axis=0).shape"
   ]
  },
  {
   "cell_type": "markdown",
   "id": "492334ef-de12-44bc-a8a3-2cf17c73131b",
   "metadata": {},
   "source": [
    "- (3) (3) => 첫 위치에 축을 추가 (axis=0) => (1,3) (1,3) => (2,3) "
   ]
  },
  {
   "cell_type": "markdown",
   "id": "f4cede4f-1a9c-47a6-a4a8-c0810d2082f0",
   "metadata": {},
   "source": [
    "(분석2)"
   ]
  },
  {
   "cell_type": "code",
   "execution_count": 163,
   "id": "2209da27-af47-46d1-a0e4-f93c78c65bde",
   "metadata": {},
   "outputs": [],
   "source": [
    "a=np.array([1,2,3])\n",
    "b=-a"
   ]
  },
  {
   "cell_type": "code",
   "execution_count": 164,
   "id": "86c3ee16-ccb5-40a0-950a-6335f330c197",
   "metadata": {},
   "outputs": [
    {
     "data": {
      "text/plain": [
       "((3,), (3,), (3, 2))"
      ]
     },
     "execution_count": 164,
     "metadata": {},
     "output_type": "execute_result"
    }
   ],
   "source": [
    "a.shape, b.shape, np.stack([a,b],axis=1).shape"
   ]
  },
  {
   "cell_type": "markdown",
   "id": "83b2f26c-8202-4e11-b3be-cd219876ee5d",
   "metadata": {},
   "source": [
    "- (3) (3) => 두 위치에 축을 추가 (axis=1) => (3,1) (3,1) => (3,2) "
   ]
  },
  {
   "cell_type": "markdown",
   "id": "60d3f04f-fd49-49ad-af31-d7fce705664c",
   "metadata": {},
   "source": [
    "`-` 고차원예제 "
   ]
  },
  {
   "cell_type": "code",
   "execution_count": 166,
   "id": "6a6fec5b-c627-4093-8c91-710aafde5a56",
   "metadata": {},
   "outputs": [],
   "source": [
    "a=np.arange(3*4*5).reshape(3,4,5) \n",
    "b=-a"
   ]
  },
  {
   "cell_type": "code",
   "execution_count": 167,
   "id": "6ee9832c-d6f4-43a1-a5aa-ce3dc0ae49eb",
   "metadata": {},
   "outputs": [
    {
     "data": {
      "text/plain": [
       "((3, 4, 5), (3, 4, 5))"
      ]
     },
     "execution_count": 167,
     "metadata": {},
     "output_type": "execute_result"
    }
   ],
   "source": [
    "a.shape, b.shape"
   ]
  },
  {
   "cell_type": "code",
   "execution_count": 170,
   "id": "fa011ae8-efcc-4b16-90e2-429f7847a25f",
   "metadata": {},
   "outputs": [
    {
     "data": {
      "text/plain": [
       "(2, 3, 4, 5)"
      ]
     },
     "execution_count": 170,
     "metadata": {},
     "output_type": "execute_result"
    }
   ],
   "source": [
    "np.stack([a,b],axis=0).shape # (3,4,5) => (1,3,4,5) // 첫 위치에 축이 추가되고 스택 "
   ]
  },
  {
   "cell_type": "code",
   "execution_count": 174,
   "id": "332ca179-95e6-4360-b676-52ec03781654",
   "metadata": {},
   "outputs": [
    {
     "data": {
      "text/plain": [
       "(3, 2, 4, 5)"
      ]
     },
     "execution_count": 174,
     "metadata": {},
     "output_type": "execute_result"
    }
   ],
   "source": [
    "np.stack([a,b],axis=1).shape # (3,4,5) => (3,1,4,5) // 두번째 위치에 축이 추가되고 스택 "
   ]
  },
  {
   "cell_type": "code",
   "execution_count": 175,
   "id": "4ac8f7ea-70ee-41ef-ad0a-0a6cfe528cf8",
   "metadata": {},
   "outputs": [
    {
     "data": {
      "text/plain": [
       "(3, 4, 2, 5)"
      ]
     },
     "execution_count": 175,
     "metadata": {},
     "output_type": "execute_result"
    }
   ],
   "source": [
    "np.stack([a,b],axis=2).shape # (3,4,5) => (3,4,1,5) // 세번째 위치에 축이 추가되고 스택 "
   ]
  },
  {
   "cell_type": "code",
   "execution_count": 179,
   "id": "9fcf76a6-b288-4231-9944-b08d840edb1f",
   "metadata": {},
   "outputs": [
    {
     "data": {
      "text/plain": [
       "(3, 4, 5, 2)"
      ]
     },
     "execution_count": 179,
     "metadata": {},
     "output_type": "execute_result"
    }
   ],
   "source": [
    "np.stack([a,b],axis=3).shape # (3,4,5) => (3,4,5,1) // 네번째 위치에 축이 추가되고 스택 "
   ]
  },
  {
   "cell_type": "code",
   "execution_count": 181,
   "id": "10051b1c-d9fe-49bd-8e4e-1cdea73eebd3",
   "metadata": {},
   "outputs": [
    {
     "data": {
      "text/plain": [
       "(3, 4, 5, 2)"
      ]
     },
     "execution_count": 181,
     "metadata": {},
     "output_type": "execute_result"
    }
   ],
   "source": [
    "np.stack([a,b],axis=-1).shape # axis=-1 <=> axis=3 "
   ]
  },
  {
   "cell_type": "code",
   "execution_count": 182,
   "id": "e47a5e25-ecd0-47f8-8db0-8bcfb5cfc187",
   "metadata": {},
   "outputs": [
    {
     "data": {
      "text/plain": [
       "(3, 4, 2, 5)"
      ]
     },
     "execution_count": 182,
     "metadata": {},
     "output_type": "execute_result"
    }
   ],
   "source": [
    "np.stack([a,b],axis=-2).shape # axis=-2 <=> axis=2"
   ]
  },
  {
   "cell_type": "markdown",
   "id": "5136e5f1-c6ce-49eb-8642-0711a6c22201",
   "metadata": {},
   "source": [
    "***np.concatenate*** 는 축의 총 갯수를 유지하면서 결합, ***np.stack***은 축의 갯수를 하나 증가시키면서 결합"
   ]
  },
  {
   "cell_type": "markdown",
   "id": "4dc48966-5731-4821-aa19-8baf25ca059c",
   "metadata": {},
   "source": [
    "## sum"
   ]
  },
  {
   "cell_type": "markdown",
   "id": "afdf629c-02c3-472a-bd37-f08c3ff331b9",
   "metadata": {},
   "source": [
    "`-` 1차원 "
   ]
  },
  {
   "cell_type": "code",
   "execution_count": 212,
   "id": "5b4b1885-8f3a-4077-a240-5647121c68ee",
   "metadata": {},
   "outputs": [
    {
     "data": {
      "text/plain": [
       "array([1, 2, 3])"
      ]
     },
     "execution_count": 212,
     "metadata": {},
     "output_type": "execute_result"
    }
   ],
   "source": [
    "a = np.array([1,2,3]) \n",
    "a"
   ]
  },
  {
   "cell_type": "code",
   "execution_count": 213,
   "id": "36dad232-54dc-476c-a1ab-27322ebd8142",
   "metadata": {},
   "outputs": [
    {
     "data": {
      "text/plain": [
       "6"
      ]
     },
     "execution_count": 213,
     "metadata": {},
     "output_type": "execute_result"
    }
   ],
   "source": [
    "a.sum()"
   ]
  },
  {
   "cell_type": "code",
   "execution_count": 214,
   "id": "558b9c9f-c094-4e27-8e09-0486a7ab845f",
   "metadata": {},
   "outputs": [
    {
     "data": {
      "text/plain": [
       "6"
      ]
     },
     "execution_count": 214,
     "metadata": {},
     "output_type": "execute_result"
    }
   ],
   "source": [
    "a.sum(axis=0)"
   ]
  },
  {
   "cell_type": "markdown",
   "id": "1c6fce8b-d162-424f-a2ad-df48b224076b",
   "metadata": {},
   "source": [
    "`-` 2차원 "
   ]
  },
  {
   "cell_type": "code",
   "execution_count": 208,
   "id": "50851434-d9c8-4516-8d62-417e2dddb53e",
   "metadata": {},
   "outputs": [
    {
     "data": {
      "text/plain": [
       "array([[0, 1, 2],\n",
       "       [3, 4, 5]])"
      ]
     },
     "execution_count": 208,
     "metadata": {},
     "output_type": "execute_result"
    }
   ],
   "source": [
    "a=np.array(range(6)).reshape(2,3)\n",
    "a"
   ]
  },
  {
   "cell_type": "code",
   "execution_count": 209,
   "id": "4fa014f5-44b6-4a8c-a363-388f71e67845",
   "metadata": {},
   "outputs": [
    {
     "data": {
      "text/plain": [
       "15"
      ]
     },
     "execution_count": 209,
     "metadata": {},
     "output_type": "execute_result"
    }
   ],
   "source": [
    "a.sum() # 전체합"
   ]
  },
  {
   "cell_type": "code",
   "execution_count": 210,
   "id": "858205a3-91ec-48c6-a826-7e31d129e912",
   "metadata": {},
   "outputs": [
    {
     "data": {
      "text/plain": [
       "array([3, 5, 7])"
      ]
     },
     "execution_count": 210,
     "metadata": {},
     "output_type": "execute_result"
    }
   ],
   "source": [
    "a.sum(axis=0) "
   ]
  },
  {
   "cell_type": "code",
   "execution_count": 211,
   "id": "dcbf355b-71b4-4492-81a0-4295b468329e",
   "metadata": {},
   "outputs": [
    {
     "data": {
      "text/plain": [
       "array([ 3, 12])"
      ]
     },
     "execution_count": 211,
     "metadata": {},
     "output_type": "execute_result"
    }
   ],
   "source": [
    "a.sum(axis=1) "
   ]
  },
  {
   "cell_type": "markdown",
   "id": "fe5dab84-cd7f-4053-b2ae-fa8af083a259",
   "metadata": {},
   "source": [
    "`-` 2차원 결과 분석 "
   ]
  },
  {
   "cell_type": "code",
   "execution_count": 193,
   "id": "5ad6778f-b2a4-4f74-a8a1-ce86d480c99c",
   "metadata": {},
   "outputs": [
    {
     "data": {
      "text/plain": [
       "((2, 3), (3,))"
      ]
     },
     "execution_count": 193,
     "metadata": {},
     "output_type": "execute_result"
    }
   ],
   "source": [
    "a.shape, a.sum(axis=0).shape"
   ]
  },
  {
   "cell_type": "markdown",
   "id": "42948554-8c2e-4870-a5d7-dc2a8e570154",
   "metadata": {},
   "source": [
    "- 첫번째 축이 삭제됨 => axis=0 "
   ]
  },
  {
   "cell_type": "code",
   "execution_count": 195,
   "id": "35446df0-e90f-4450-a8e7-e3f1b80330e5",
   "metadata": {},
   "outputs": [
    {
     "data": {
      "text/plain": [
       "((2, 3), (2,))"
      ]
     },
     "execution_count": 195,
     "metadata": {},
     "output_type": "execute_result"
    }
   ],
   "source": [
    "a.shape, a.sum(axis=1).shape"
   ]
  },
  {
   "cell_type": "markdown",
   "id": "a34221e0-da00-441f-a870-64c4083887ac",
   "metadata": {},
   "source": [
    "- 두번째 축이 삭제됨 => axis=1 "
   ]
  },
  {
   "cell_type": "markdown",
   "id": "c1b78b1b-9e95-42cc-8c30-0e4f887d1837",
   "metadata": {},
   "source": [
    "`-` 연습"
   ]
  },
  {
   "cell_type": "code",
   "execution_count": 197,
   "id": "3a4ab5e7-ad5f-4d6e-9768-3d32961a21ee",
   "metadata": {},
   "outputs": [
    {
     "data": {
      "text/plain": [
       "array([[0, 1],\n",
       "       [2, 3],\n",
       "       [4, 5],\n",
       "       [6, 7],\n",
       "       [8, 9]])"
      ]
     },
     "execution_count": 197,
     "metadata": {},
     "output_type": "execute_result"
    }
   ],
   "source": [
    "a=np.array(range(10)).reshape(5,2) \n",
    "a"
   ]
  },
  {
   "cell_type": "markdown",
   "id": "08d81886-9365-49eb-8866-329b3f04331c",
   "metadata": {},
   "source": [
    "(문제1) 1열의 합, 2열의 합을 계산하고 싶다면? "
   ]
  },
  {
   "cell_type": "markdown",
   "id": "1de5ebd4-99ad-470f-9b67-e190d991e4b1",
   "metadata": {},
   "source": [
    "(풀이) 차원이 (5,2) => (2,) 로 나와야 한다. (그럼 첫번째 축이 삭제되어야 하네?) "
   ]
  },
  {
   "cell_type": "code",
   "execution_count": 198,
   "id": "2a8ef9f2-fdfd-485e-95e4-db69f43a2a3f",
   "metadata": {},
   "outputs": [
    {
     "data": {
      "text/plain": [
       "array([20, 25])"
      ]
     },
     "execution_count": 198,
     "metadata": {},
     "output_type": "execute_result"
    }
   ],
   "source": [
    "a.sum(axis=0)"
   ]
  },
  {
   "cell_type": "markdown",
   "id": "ed137035-e3bd-4c2e-aa7e-d3e17a9b477b",
   "metadata": {},
   "source": [
    "(문제2) 1행의 합, 2행의 합, ... , 5행의 합을 계산하고 싶다면? "
   ]
  },
  {
   "cell_type": "markdown",
   "id": "5ddec6c6-8636-4a9d-8a4a-846cfe5e6b05",
   "metadata": {},
   "source": [
    "(풀이) 차원이 (5,2) => (5,)로 나와야 한다. (그럼 두번째 축이 삭제되어야 하네?) "
   ]
  },
  {
   "cell_type": "code",
   "execution_count": 199,
   "id": "d644c537-439a-4460-b28d-f1b7219ecd7f",
   "metadata": {},
   "outputs": [
    {
     "data": {
      "text/plain": [
       "array([ 1,  5,  9, 13, 17])"
      ]
     },
     "execution_count": 199,
     "metadata": {},
     "output_type": "execute_result"
    }
   ],
   "source": [
    "a.sum(axis=1)"
   ]
  },
  {
   "cell_type": "markdown",
   "id": "21fd09d0-2f6e-442c-a5a5-94697fbcf70d",
   "metadata": {},
   "source": [
    "(문제3) a의 모든원소의 합을 계산하고 싶다면? "
   ]
  },
  {
   "cell_type": "markdown",
   "id": "70389917-ce5d-423f-9bcc-0919abcc9393",
   "metadata": {},
   "source": [
    "(풀이) 차원이 (5,2) => () 로 나와야 한다. (첫번째축, 두번째축이 모두 삭제되어야 하네?) "
   ]
  },
  {
   "cell_type": "code",
   "execution_count": 201,
   "id": "1131ae5e-8a80-49db-a5cb-82ad1b0f3078",
   "metadata": {},
   "outputs": [
    {
     "data": {
      "text/plain": [
       "45"
      ]
     },
     "execution_count": 201,
     "metadata": {},
     "output_type": "execute_result"
    }
   ],
   "source": [
    "a.sum(axis=(0,1))"
   ]
  },
  {
   "cell_type": "code",
   "execution_count": 203,
   "id": "4d793e70-4d17-4a0c-b6a4-47a082fe0170",
   "metadata": {},
   "outputs": [
    {
     "data": {
      "text/plain": [
       "45"
      ]
     },
     "execution_count": 203,
     "metadata": {},
     "output_type": "execute_result"
    }
   ],
   "source": [
    "a.sum() # 즉 a.sum(axis=(0,1))이 디폴트값임 "
   ]
  },
  {
   "cell_type": "markdown",
   "id": "0c17db82-44c2-46ae-b1a6-f9786cbc84d5",
   "metadata": {},
   "source": [
    "## mean, std, max, min, prod "
   ]
  },
  {
   "cell_type": "markdown",
   "id": "527dfb18-bc33-4a35-a02a-4999b213b48b",
   "metadata": {},
   "source": [
    "`-` 모두 sum이랑 유사한 논리 "
   ]
  },
  {
   "cell_type": "code",
   "execution_count": 218,
   "id": "b60af9cc-eac9-4bf3-b3fb-30a030e22c7d",
   "metadata": {},
   "outputs": [
    {
     "data": {
      "text/plain": [
       "array([[0, 1],\n",
       "       [2, 3],\n",
       "       [4, 5],\n",
       "       [6, 7],\n",
       "       [8, 9]])"
      ]
     },
     "execution_count": 218,
     "metadata": {},
     "output_type": "execute_result"
    }
   ],
   "source": [
    "a=np.array(range(10)).reshape(5,2)\n",
    "a"
   ]
  },
  {
   "cell_type": "code",
   "execution_count": 225,
   "id": "31701c1f-cec4-477a-b1a5-b7cb3c696561",
   "metadata": {},
   "outputs": [
    {
     "data": {
      "text/plain": [
       "(array([4., 5.]),\n",
       " array([2.82842712, 2.82842712]),\n",
       " array([8, 9]),\n",
       " array([0, 1]),\n",
       " array([  0, 945]))"
      ]
     },
     "execution_count": 225,
     "metadata": {},
     "output_type": "execute_result"
    }
   ],
   "source": [
    "a.mean(axis=0), a.std(axis=0), a.max(axis=0), a.min(axis=0), a.prod(axis=0)"
   ]
  },
  {
   "cell_type": "code",
   "execution_count": 227,
   "id": "131343a1-9c7a-4fa4-91a0-cdbb5c071f7a",
   "metadata": {},
   "outputs": [
    {
     "data": {
      "text/plain": [
       "(array([0.5, 2.5, 4.5, 6.5, 8.5]),\n",
       " array([0.5, 0.5, 0.5, 0.5, 0.5]),\n",
       " array([1, 3, 5, 7, 9]),\n",
       " array([0, 2, 4, 6, 8]),\n",
       " array([ 0,  6, 20, 42, 72]))"
      ]
     },
     "execution_count": 227,
     "metadata": {},
     "output_type": "execute_result"
    }
   ],
   "source": [
    "a.mean(axis=1), a.std(axis=1), a.max(axis=1), a.min(axis=1), a.prod(axis=1)"
   ]
  },
  {
   "cell_type": "markdown",
   "id": "2e432aa7-1e53-4f5e-8b35-a5c17ecf5093",
   "metadata": {},
   "source": [
    "**(보충학습)** `np.std()`와 `np.std(ddof=1)`의 차이점 "
   ]
  },
  {
   "cell_type": "markdown",
   "id": "5dd4c7f4-6672-46fb-80f0-76fe49066a86",
   "metadata": {},
   "source": [
    "`-` 참고로 std는 분포를 n으로 나눈다. "
   ]
  },
  {
   "cell_type": "code",
   "execution_count": 228,
   "id": "c3057703-94d6-42a8-b208-e347e7bfe5c7",
   "metadata": {},
   "outputs": [
    {
     "data": {
      "text/plain": [
       "1.118033988749895"
      ]
     },
     "execution_count": 228,
     "metadata": {},
     "output_type": "execute_result"
    }
   ],
   "source": [
    "a=np.array([1,2,3,4])\n",
    "a.std()"
   ]
  },
  {
   "cell_type": "code",
   "execution_count": 233,
   "id": "0aab3f02-4297-4336-9046-f62fb8e718fd",
   "metadata": {},
   "outputs": [
    {
     "data": {
      "text/plain": [
       "1.118033988749895"
      ]
     },
     "execution_count": 233,
     "metadata": {},
     "output_type": "execute_result"
    }
   ],
   "source": [
    "np.sqrt(sum((a-a.mean())**2)/4)"
   ]
  },
  {
   "cell_type": "markdown",
   "id": "50de136d-15f1-4c42-bcb9-6ca947ee9609",
   "metadata": {},
   "source": [
    "`-` 분모를 n-1로 나눌려면? "
   ]
  },
  {
   "cell_type": "code",
   "execution_count": 234,
   "id": "9c07279c-f5c5-41fb-a83a-fec59e0e7b1f",
   "metadata": {},
   "outputs": [
    {
     "data": {
      "text/plain": [
       "1.2909944487358056"
      ]
     },
     "execution_count": 234,
     "metadata": {},
     "output_type": "execute_result"
    }
   ],
   "source": [
    "a=np.array([1,2,3,4])\n",
    "a.std(ddof=1)"
   ]
  },
  {
   "cell_type": "code",
   "execution_count": 235,
   "id": "19564fc4-867d-463d-9e5c-146d75cd34f8",
   "metadata": {},
   "outputs": [
    {
     "data": {
      "text/plain": [
       "1.2909944487358056"
      ]
     },
     "execution_count": 235,
     "metadata": {},
     "output_type": "execute_result"
    }
   ],
   "source": [
    "np.sqrt(sum((a-a.mean())**2)/3)"
   ]
  },
  {
   "cell_type": "markdown",
   "id": "fcd38d52-0df3-4154-8e71-4d01191be85e",
   "metadata": {},
   "source": [
    "## argmax, argmin "
   ]
  },
  {
   "cell_type": "markdown",
   "id": "692015ba-7d7f-4a79-9e34-a32661230b20",
   "metadata": {},
   "source": [
    "`-` 1차원 "
   ]
  },
  {
   "cell_type": "code",
   "execution_count": 299,
   "id": "684f9fe2-159a-49f8-a4c6-dc6274880ef9",
   "metadata": {},
   "outputs": [
    {
     "data": {
      "text/plain": [
       "array([ 1, -2,  3, 10,  4])"
      ]
     },
     "execution_count": 299,
     "metadata": {},
     "output_type": "execute_result"
    }
   ],
   "source": [
    "a= np.array([1,-2,3,10,4])\n",
    "a"
   ]
  },
  {
   "cell_type": "code",
   "execution_count": 300,
   "id": "2e3335c2-e6e9-4199-aa96-7b559392da04",
   "metadata": {},
   "outputs": [
    {
     "data": {
      "text/plain": [
       "3"
      ]
     },
     "execution_count": 300,
     "metadata": {},
     "output_type": "execute_result"
    }
   ],
   "source": [
    "a.argmax() # 가장 큰 값이 위치한 원소의 인덱스를 리턴 "
   ]
  },
  {
   "cell_type": "code",
   "execution_count": 301,
   "id": "e7af60af-a8f5-4f1b-8d1e-65c52862ca0e",
   "metadata": {},
   "outputs": [
    {
     "data": {
      "text/plain": [
       "1"
      ]
     },
     "execution_count": 301,
     "metadata": {},
     "output_type": "execute_result"
    }
   ],
   "source": [
    "a.argmin() # 가장 작은 값이 위치한 원소의 인덱스를 리턴 "
   ]
  },
  {
   "cell_type": "markdown",
   "id": "2e9269bd-d35a-4fa6-8242-79926ea4f273",
   "metadata": {},
   "source": [
    "`-` 2차원 "
   ]
  },
  {
   "cell_type": "code",
   "execution_count": 312,
   "id": "06d793c8-069c-4a88-a70d-2be24062f672",
   "metadata": {},
   "outputs": [
    {
     "data": {
      "text/plain": [
       "array([[ 0.38342049,  1.0841745 ,  1.14277825,  0.30789368,  0.23778744],\n",
       "       [ 0.35595116, -1.66307542, -1.38277318, -1.92684484, -1.4862163 ],\n",
       "       [ 0.00692519, -0.03488725, -0.34357323,  0.70895648, -1.55100608],\n",
       "       [ 1.34565583, -0.05654272, -0.83017342, -1.46395159, -0.35459593]])"
      ]
     },
     "execution_count": 312,
     "metadata": {},
     "output_type": "execute_result"
    }
   ],
   "source": [
    "np.random.seed(43052)\n",
    "a=np.random.randn(4*5).reshape(4,5)\n",
    "a"
   ]
  },
  {
   "cell_type": "code",
   "execution_count": 314,
   "id": "c2e83044-89d7-4f77-af5b-d89f1025e753",
   "metadata": {},
   "outputs": [
    {
     "data": {
      "text/plain": [
       "(8, -1.9268448358915802)"
      ]
     },
     "execution_count": 314,
     "metadata": {},
     "output_type": "execute_result"
    }
   ],
   "source": [
    "a.argmin(), a.min()"
   ]
  },
  {
   "cell_type": "code",
   "execution_count": 315,
   "id": "ba396793-f520-4606-b6f9-30c68a9a02b1",
   "metadata": {},
   "outputs": [
    {
     "data": {
      "text/plain": [
       "(15, 1.3456558341738827)"
      ]
     },
     "execution_count": 315,
     "metadata": {},
     "output_type": "execute_result"
    }
   ],
   "source": [
    "a.argmax(), a.max()"
   ]
  },
  {
   "cell_type": "code",
   "execution_count": 317,
   "id": "d8c222df-92a3-437c-9232-8273faf730d1",
   "metadata": {},
   "outputs": [
    {
     "data": {
      "text/plain": [
       "(array([2, 1, 1, 1, 2]), array([4, 3, 4, 3]))"
      ]
     },
     "execution_count": 317,
     "metadata": {},
     "output_type": "execute_result"
    }
   ],
   "source": [
    "a.argmin(axis=0), a.argmin(axis=1)"
   ]
  },
  {
   "cell_type": "code",
   "execution_count": 318,
   "id": "fe6e3185-cf49-40dc-ad42-3a9c481b518f",
   "metadata": {},
   "outputs": [
    {
     "data": {
      "text/plain": [
       "(array([3, 0, 0, 2, 0]), array([2, 0, 3, 0]))"
      ]
     },
     "execution_count": 318,
     "metadata": {},
     "output_type": "execute_result"
    }
   ],
   "source": [
    "a.argmax(axis=0), a.argmax(axis=1)"
   ]
  },
  {
   "cell_type": "markdown",
   "id": "9531ba3b-684d-4cab-99d0-bbe23561a89b",
   "metadata": {},
   "source": [
    "## cumsum, cumprod"
   ]
  },
  {
   "cell_type": "markdown",
   "id": "5b616c46-b292-4c73-bbaf-19534a058d4d",
   "metadata": {},
   "source": [
    "`-` 1차원"
   ]
  },
  {
   "cell_type": "code",
   "execution_count": 319,
   "id": "dac57e6f-97fd-4c50-b320-ab9ad8ba80d1",
   "metadata": {},
   "outputs": [
    {
     "data": {
      "text/plain": [
       "array([1, 2, 3, 4])"
      ]
     },
     "execution_count": 319,
     "metadata": {},
     "output_type": "execute_result"
    }
   ],
   "source": [
    "a=np.array([1,2,3,4])\n",
    "a"
   ]
  },
  {
   "cell_type": "code",
   "execution_count": 320,
   "id": "20d36af9-7310-488a-924a-f9ee9d759cb6",
   "metadata": {},
   "outputs": [
    {
     "data": {
      "text/plain": [
       "array([ 1,  3,  6, 10])"
      ]
     },
     "execution_count": 320,
     "metadata": {},
     "output_type": "execute_result"
    }
   ],
   "source": [
    "a.cumsum()"
   ]
  },
  {
   "cell_type": "code",
   "execution_count": 321,
   "id": "efad265e-ba5a-4cff-bf1b-acebaad990da",
   "metadata": {},
   "outputs": [
    {
     "data": {
      "text/plain": [
       "array([ 1,  2,  6, 24])"
      ]
     },
     "execution_count": 321,
     "metadata": {},
     "output_type": "execute_result"
    }
   ],
   "source": [
    "a.cumprod()"
   ]
  },
  {
   "cell_type": "markdown",
   "id": "c5f15e40-90cd-41aa-82c4-98293ba34e35",
   "metadata": {},
   "source": [
    "`-` 2차원"
   ]
  },
  {
   "cell_type": "code",
   "execution_count": 322,
   "id": "87285f40-a3df-4608-9260-328f05de164e",
   "metadata": {},
   "outputs": [
    {
     "data": {
      "text/plain": [
       "array([[ 0,  1,  2,  3],\n",
       "       [ 4,  5,  6,  7],\n",
       "       [ 8,  9, 10, 11]])"
      ]
     },
     "execution_count": 322,
     "metadata": {},
     "output_type": "execute_result"
    }
   ],
   "source": [
    "a=np.array(range(3*4)).reshape(3,4)\n",
    "a"
   ]
  },
  {
   "cell_type": "code",
   "execution_count": 325,
   "id": "de7aed95-2251-4ec9-939d-a68148ac08bf",
   "metadata": {},
   "outputs": [
    {
     "data": {
      "text/plain": [
       "(array([[ 0,  1,  2,  3],\n",
       "        [ 4,  6,  8, 10],\n",
       "        [12, 15, 18, 21]]),\n",
       " array([[ 0,  1,  3,  6],\n",
       "        [ 4,  9, 15, 22],\n",
       "        [ 8, 17, 27, 38]]))"
      ]
     },
     "execution_count": 325,
     "metadata": {},
     "output_type": "execute_result"
    }
   ],
   "source": [
    "a.cumsum(axis=0), a.cumsum(axis=1)"
   ]
  },
  {
   "cell_type": "code",
   "execution_count": 326,
   "id": "6ad413de-e337-40f4-8e40-a6c6e5099cf1",
   "metadata": {},
   "outputs": [
    {
     "data": {
      "text/plain": [
       "(array([[  0,   1,   2,   3],\n",
       "        [  0,   5,  12,  21],\n",
       "        [  0,  45, 120, 231]]),\n",
       " array([[   0,    0,    0,    0],\n",
       "        [   4,   20,  120,  840],\n",
       "        [   8,   72,  720, 7920]]))"
      ]
     },
     "execution_count": 326,
     "metadata": {},
     "output_type": "execute_result"
    }
   ],
   "source": [
    "a.cumprod(axis=0), a.cumprod(axis=1)"
   ]
  },
  {
   "cell_type": "markdown",
   "id": "446d5f3b-493d-4dbc-a52f-e512a7060384",
   "metadata": {},
   "source": [
    "## diff "
   ]
  },
  {
   "cell_type": "markdown",
   "id": "fbddc0bb-1571-4d55-85d4-e288a313da25",
   "metadata": {},
   "source": [
    "`-` 1차차분 "
   ]
  },
  {
   "cell_type": "code",
   "execution_count": 327,
   "id": "4fdb98e6-9581-4448-a22d-bda0762fcc32",
   "metadata": {},
   "outputs": [
    {
     "data": {
      "text/plain": [
       "array([1, 2, 4, 6, 7])"
      ]
     },
     "execution_count": 327,
     "metadata": {},
     "output_type": "execute_result"
    }
   ],
   "source": [
    "a=np.array([1,2,4,6,7])\n",
    "a"
   ]
  },
  {
   "cell_type": "code",
   "execution_count": 328,
   "id": "f61f602e-891b-4c25-85dc-0aca6f38705c",
   "metadata": {},
   "outputs": [
    {
     "data": {
      "text/plain": [
       "array([1, 2, 2, 1])"
      ]
     },
     "execution_count": 328,
     "metadata": {},
     "output_type": "execute_result"
    }
   ],
   "source": [
    "np.diff(a)"
   ]
  },
  {
   "cell_type": "markdown",
   "id": "bce033eb-72a8-4b53-8279-bcecb7cb9761",
   "metadata": {},
   "source": [
    "`-` 2차차분 "
   ]
  },
  {
   "cell_type": "code",
   "execution_count": 331,
   "id": "8b094553-eeba-4583-8db9-a8691022b65f",
   "metadata": {},
   "outputs": [
    {
     "data": {
      "text/plain": [
       "array([ 1,  0, -1])"
      ]
     },
     "execution_count": 331,
     "metadata": {},
     "output_type": "execute_result"
    }
   ],
   "source": [
    "np.diff(np.diff(a))"
   ]
  },
  {
   "cell_type": "markdown",
   "id": "1dc05c54-2340-44dd-8095-0ce9e4ea9b04",
   "metadata": {},
   "source": [
    "`-` prepend, append "
   ]
  },
  {
   "cell_type": "code",
   "execution_count": 332,
   "id": "348d902a-7521-4879-8add-aba58a77800b",
   "metadata": {},
   "outputs": [
    {
     "data": {
      "text/plain": [
       "array([1, 2, 4, 6, 7])"
      ]
     },
     "execution_count": 332,
     "metadata": {},
     "output_type": "execute_result"
    }
   ],
   "source": [
    "a=np.array([1,2,4,6,7])\n",
    "a"
   ]
  },
  {
   "cell_type": "code",
   "execution_count": 339,
   "id": "18341bbf-39ba-441b-996a-88d996ad7ad5",
   "metadata": {},
   "outputs": [
    {
     "data": {
      "text/plain": [
       "array([-99,   1,   2,   2,   1])"
      ]
     },
     "execution_count": 339,
     "metadata": {},
     "output_type": "execute_result"
    }
   ],
   "source": [
    "np.diff(a,prepend=100)\n",
    "#np.diff(np.array([100]+a.tolist()) )"
   ]
  },
  {
   "cell_type": "markdown",
   "id": "d88a0a1d-be77-4c9e-b50b-bc203d4fb75e",
   "metadata": {},
   "source": [
    "- [1,2,4,6,7] -> [100,1,2,3,4,6] -> np.diff "
   ]
  },
  {
   "cell_type": "code",
   "execution_count": 343,
   "id": "c8ad0e62-3dbe-40e9-ad00-3aadbe6fddec",
   "metadata": {},
   "outputs": [
    {
     "data": {
      "text/plain": [
       "array([ 1,  2,  2,  1, 93])"
      ]
     },
     "execution_count": 343,
     "metadata": {},
     "output_type": "execute_result"
    }
   ],
   "source": [
    "np.diff(a,append=100)\n",
    "#np.diff(np.array(a.tolist()+[100]) )"
   ]
  },
  {
   "cell_type": "markdown",
   "id": "cb86866b-d49b-4f1e-b422-67e339ceffbe",
   "metadata": {},
   "source": [
    "(예제) a=[1,2,4,6,7]의 앞에 1을 추가하여 차분하라. "
   ]
  },
  {
   "cell_type": "code",
   "execution_count": 347,
   "id": "944c4466-65ba-4130-a6d5-e6f88b9b9fdc",
   "metadata": {},
   "outputs": [
    {
     "data": {
      "text/plain": [
       "array([0, 1, 2, 2, 1])"
      ]
     },
     "execution_count": 347,
     "metadata": {},
     "output_type": "execute_result"
    }
   ],
   "source": [
    "np.diff(a,prepend=a[0])\n",
    "#np.diff(a,prepend=1)"
   ]
  },
  {
   "cell_type": "markdown",
   "id": "d2ab3747-5c59-4929-95c9-e33d8b0c8e8f",
   "metadata": {},
   "source": [
    "(예제) a=[1,2,4,6,7]의 뒤에 7을 추가하여 차분하라. "
   ]
  },
  {
   "cell_type": "code",
   "execution_count": 348,
   "id": "c03e686a-1103-4710-ae9f-4adea366834c",
   "metadata": {},
   "outputs": [
    {
     "data": {
      "text/plain": [
       "array([1, 2, 2, 1, 0])"
      ]
     },
     "execution_count": 348,
     "metadata": {},
     "output_type": "execute_result"
    }
   ],
   "source": [
    "np.diff(a,append=a[-1])\n",
    "#np.diff(a,append=7)"
   ]
  },
  {
   "cell_type": "markdown",
   "id": "94fe0a0f-2533-4dc0-a11f-9bc72b8f957d",
   "metadata": {},
   "source": [
    "`-` 2차원 array의 차분 "
   ]
  },
  {
   "cell_type": "code",
   "execution_count": 5,
   "id": "d48c0cc0-176b-49e4-aa15-c5c49acff377",
   "metadata": {},
   "outputs": [
    {
     "data": {
      "text/plain": [
       "array([[ 0,  1,  2,  3,  4,  5],\n",
       "       [ 6,  7,  8,  9, 10, 11],\n",
       "       [12, 13, 14, 15, 16, 17],\n",
       "       [18, 19, 20, 21, 22, 23]])"
      ]
     },
     "execution_count": 5,
     "metadata": {},
     "output_type": "execute_result"
    }
   ],
   "source": [
    "a=np.arange(24).reshape(4,6)\n",
    "a"
   ]
  },
  {
   "cell_type": "code",
   "execution_count": 47,
   "id": "9d14a23c-861e-4422-ac62-47c37b6e3f18",
   "metadata": {},
   "outputs": [
    {
     "data": {
      "text/plain": [
       "array([[6, 6, 6, 6, 6, 6],\n",
       "       [6, 6, 6, 6, 6, 6],\n",
       "       [6, 6, 6, 6, 6, 6]])"
      ]
     },
     "execution_count": 47,
     "metadata": {},
     "output_type": "execute_result"
    }
   ],
   "source": [
    "np.diff(a,axis=0)\n",
    "#np.diff(a,axis=0,append=a[[-1],:])\n",
    "#np.diff(a,axis=0,prepend=a[[0],:])"
   ]
  },
  {
   "cell_type": "code",
   "execution_count": 48,
   "id": "408b3ea8-1281-411c-94a4-a13da46bbe5d",
   "metadata": {},
   "outputs": [
    {
     "data": {
      "text/plain": [
       "array([[1, 1, 1, 1, 1],\n",
       "       [1, 1, 1, 1, 1],\n",
       "       [1, 1, 1, 1, 1],\n",
       "       [1, 1, 1, 1, 1]])"
      ]
     },
     "execution_count": 48,
     "metadata": {},
     "output_type": "execute_result"
    }
   ],
   "source": [
    "np.diff(a,axis=1) \n",
    "#np.diff(a,axis=1,append=a[:,[-1]])\n",
    "#np.diff(a,axis=1,prepend=a[:,[0]])"
   ]
  }
 ],
 "metadata": {
  "kernelspec": {
   "display_name": "Python 3",
   "language": "python",
   "name": "python3"
  },
  "language_info": {
   "codemirror_mode": {
    "name": "ipython",
    "version": 3
   },
   "file_extension": ".py",
   "mimetype": "text/x-python",
   "name": "python",
   "nbconvert_exporter": "python",
   "pygments_lexer": "ipython3",
   "version": "3.8.16"
  }
 },
 "nbformat": 4,
 "nbformat_minor": 5
}
