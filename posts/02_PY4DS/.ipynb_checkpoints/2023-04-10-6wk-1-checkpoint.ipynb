{
 "cells": [
  {
   "cell_type": "raw",
   "id": "302e4b02-8d94-4088-affd-7bff11c05501",
   "metadata": {
    "tags": []
   },
   "source": [
    "---\n",
    "title: \"06wk-1: Numpy (1)\"\n",
    "author: \"최규빈\"\n",
    "date: \"04/10/2024\"\n",
    "---"
   ]
  },
  {
   "cell_type": "markdown",
   "id": "6b2ffae6-65b5-45c4-a294-bc567f12c748",
   "metadata": {},
   "source": [
    "<a href=\"https://colab.research.google.com/github/guebin/PP2023/blob/main/posts/02_PY4DS/2023-04-10-6wk-1.ipynb\"><img src=\"https://colab.research.google.com/assets/colab-badge.svg\" style=\"text-align: left\"></a>"
   ]
  },
  {
   "cell_type": "markdown",
   "id": "60b3c209-fd55-42b5-b16e-e7d85d17cb2b",
   "metadata": {},
   "source": [
    "# 중간고사 관련 "
   ]
  },
  {
   "cell_type": "markdown",
   "id": "e9ab6679-e610-4b03-8e27-ab51f2722898",
   "metadata": {},
   "source": [
    "`1`. 일정\n",
    "\n",
    "- 9wk-1 : 가장 유력\n",
    "- 8wk-2, 9wk-2: 가능성 있음 "
   ]
  },
  {
   "cell_type": "markdown",
   "id": "4b334d4f-ef26-4fd2-a51a-fdff704bc918",
   "metadata": {},
   "source": [
    "`2`. 방식 \n",
    "\n",
    "- 방식1: 오픈북 O / 구글검색 O / ChatGPT O <-- 가장 유력 \n",
    "- 방식2: 오픈북 O / 구글검색 O / ChatGPT X <-- 2022년 중간고사 방식 \n",
    "- 방식3: 오픈북 X / 구글검색 X / ChatGPT X <-- 2021년 중간고사 방식"
   ]
  },
  {
   "cell_type": "markdown",
   "id": "74dae2ac-b8f8-4354-8f46-794e75a42778",
   "metadata": {},
   "source": [
    "`3`. 난이도 \n",
    "\n",
    "- 시험방식에 따라 다름 (방식1로 칠 경우 난이도가 가장 높을 것으로 예상) "
   ]
  },
  {
   "cell_type": "markdown",
   "id": "0dcc4bc3-e357-4d67-849b-15965e591878",
   "metadata": {},
   "source": [
    "`4`. 범위\n",
    "\n",
    "- 넘파이, 판다스, matplolib <-- 유력 "
   ]
  },
  {
   "cell_type": "markdown",
   "id": "4ab7e9d6-e792-46a1-a6d9-e1ba040ebc65",
   "metadata": {},
   "source": [
    "# 강의영상 "
   ]
  },
  {
   "cell_type": "markdown",
   "id": "02b40269-0b22-464e-8f94-5da5b8d8ec1f",
   "metadata": {},
   "source": [
    "> youtube: <https://youtube.com/playlist?list=PLQqh36zP38-xvHU3Dnl1w3YEd6uLZhThJ>"
   ]
  },
  {
   "cell_type": "markdown",
   "id": "486ca053-3723-4966-b9fa-36179a26545c",
   "metadata": {},
   "source": [
    "# 예비학습"
   ]
  },
  {
   "cell_type": "markdown",
   "id": "75bb88ae-8969-429c-bece-2515ef96e9a4",
   "metadata": {},
   "source": [
    "`-` 혹시 행렬을 처음 보시는 학생이 있다면 아래주소의 영상에서 1-4를 학습하시면 됩니다. (1-5까지 있는데 1-4까지만 보시면됩니다) 혹은 스스로 학습하셔도 무방합니다.\n",
    "\n",
    "- https://guebin.github.io/IR2021/2021/10/29/(A2)-%EB%A7%A4%ED%8A%B8%EB%A6%AD%EC%8A%A4.html"
   ]
  },
  {
   "cell_type": "markdown",
   "id": "dc64d526-8aae-4e50-93e0-a0c621720fab",
   "metadata": {},
   "source": [
    "`-` 행렬을 알고 있다면 위의 주소의 영상은 skip 하셔도 무방합니다. "
   ]
  },
  {
   "cell_type": "markdown",
   "id": "224e9010-e0df-48f6-8bce-e451c5ae4c89",
   "metadata": {
    "tags": []
   },
   "source": [
    "# import "
   ]
  },
  {
   "cell_type": "code",
   "execution_count": 310,
   "id": "8adbbe65-da8c-4f20-ab65-6301e6e1bfc1",
   "metadata": {},
   "outputs": [],
   "source": [
    "import numpy as np"
   ]
  },
  {
   "cell_type": "markdown",
   "id": "586666a5-af38-46d9-8555-22625fe9eddc",
   "metadata": {},
   "source": [
    "# 넘파이 공부 1단계 "
   ]
  },
  {
   "cell_type": "markdown",
   "id": "04e85d58-4228-4d71-9fb4-523440ffe485",
   "metadata": {},
   "source": [
    "## 선언 "
   ]
  },
  {
   "cell_type": "code",
   "execution_count": 313,
   "id": "53af6c64-6440-408e-9c31-03ce91fb8a41",
   "metadata": {},
   "outputs": [],
   "source": [
    "l = [1,2,3]\n",
    "a = np.array(l)"
   ]
  },
  {
   "cell_type": "code",
   "execution_count": 11,
   "id": "2fab2a6e-e024-41b7-96e2-4ab023fa312a",
   "metadata": {},
   "outputs": [],
   "source": [
    "a=np.array([1,2,3]) # list를 만들고 ndarray화 시킴 \n",
    "l=[1,2,3]"
   ]
  },
  {
   "cell_type": "markdown",
   "id": "1629cd9d-6f2a-4c94-b293-04a4d407fc78",
   "metadata": {},
   "source": [
    "## 기본연산 브로드캐스팅 "
   ]
  },
  {
   "cell_type": "markdown",
   "id": "de5d2b7c-2563-496a-9fcf-413d6fa571aa",
   "metadata": {},
   "source": [
    "`-` 사칙연산가능 "
   ]
  },
  {
   "cell_type": "code",
   "execution_count": 15,
   "id": "8c94ee51-e9b5-4838-9ee8-df1eaa8bff56",
   "metadata": {},
   "outputs": [
    {
     "data": {
      "text/plain": [
       "array([2, 3, 4])"
      ]
     },
     "execution_count": 15,
     "metadata": {},
     "output_type": "execute_result"
    }
   ],
   "source": [
    "a+1 ## [1,2,3] + 1 = [2,3,4]"
   ]
  },
  {
   "cell_type": "code",
   "execution_count": 17,
   "id": "4185b316-27a9-4ab7-9399-1dc8f87f3d6b",
   "metadata": {},
   "outputs": [
    {
     "ename": "TypeError",
     "evalue": "can only concatenate list (not \"int\") to list",
     "output_type": "error",
     "traceback": [
      "\u001b[0;31m--------------------------------------------------------------------\u001b[0m",
      "\u001b[0;31mTypeError\u001b[0m                          Traceback (most recent call last)",
      "Cell \u001b[0;32mIn[17], line 1\u001b[0m\n\u001b[0;32m----> 1\u001b[0m \u001b[43ml\u001b[49m\u001b[38;5;241;43m+\u001b[39;49m\u001b[38;5;241;43m1\u001b[39;49m\n",
      "\u001b[0;31mTypeError\u001b[0m: can only concatenate list (not \"int\") to list"
     ]
    }
   ],
   "source": [
    "l+1"
   ]
  },
  {
   "cell_type": "code",
   "execution_count": 21,
   "id": "26aa79d2-8959-4c95-bbd6-5106b14b8b27",
   "metadata": {},
   "outputs": [
    {
     "data": {
      "text/plain": [
       "array([2, 4, 6])"
      ]
     },
     "execution_count": 21,
     "metadata": {},
     "output_type": "execute_result"
    }
   ],
   "source": [
    "a*2"
   ]
  },
  {
   "cell_type": "code",
   "execution_count": 22,
   "id": "d760dcfa-c674-44fc-b4ea-3774ebcf34c7",
   "metadata": {},
   "outputs": [
    {
     "data": {
      "text/plain": [
       "[1, 2, 3, 1, 2, 3]"
      ]
     },
     "execution_count": 22,
     "metadata": {},
     "output_type": "execute_result"
    }
   ],
   "source": [
    "l*2"
   ]
  },
  {
   "cell_type": "code",
   "execution_count": 23,
   "id": "b2cc457b-b667-4d7f-8bd1-e5959f6396c6",
   "metadata": {},
   "outputs": [
    {
     "data": {
      "text/plain": [
       "array([0.5, 1. , 1.5])"
      ]
     },
     "execution_count": 23,
     "metadata": {},
     "output_type": "execute_result"
    }
   ],
   "source": [
    "a/2"
   ]
  },
  {
   "cell_type": "code",
   "execution_count": 24,
   "id": "f3a14c42-5c51-435d-b48d-36c07bcf62b6",
   "metadata": {},
   "outputs": [
    {
     "ename": "TypeError",
     "evalue": "unsupported operand type(s) for /: 'list' and 'int'",
     "output_type": "error",
     "traceback": [
      "\u001b[0;31m---------------------------------------------------------------------------\u001b[0m",
      "\u001b[0;31mTypeError\u001b[0m                                 Traceback (most recent call last)",
      "Input \u001b[0;32mIn [24]\u001b[0m, in \u001b[0;36m<cell line: 1>\u001b[0;34m()\u001b[0m\n\u001b[0;32m----> 1\u001b[0m \u001b[43ml\u001b[49m\u001b[38;5;241;43m/\u001b[39;49m\u001b[38;5;241;43m2\u001b[39;49m\n",
      "\u001b[0;31mTypeError\u001b[0m: unsupported operand type(s) for /: 'list' and 'int'"
     ]
    }
   ],
   "source": [
    "l/2"
   ]
  },
  {
   "cell_type": "markdown",
   "id": "8ceb82cc-a0c5-44b4-bfb5-b099d7210b33",
   "metadata": {},
   "source": [
    "`-` 제곱이 가능 "
   ]
  },
  {
   "cell_type": "code",
   "execution_count": 19,
   "id": "76ca10c8-e5d4-4f3d-b997-eee258b00a65",
   "metadata": {},
   "outputs": [
    {
     "data": {
      "text/plain": [
       "array([1, 4, 9])"
      ]
     },
     "execution_count": 19,
     "metadata": {},
     "output_type": "execute_result"
    }
   ],
   "source": [
    "a**2"
   ]
  },
  {
   "cell_type": "code",
   "execution_count": 26,
   "id": "01eb01cc-fa6e-43cd-ba1f-a8fe806ebe9f",
   "metadata": {},
   "outputs": [
    {
     "ename": "TypeError",
     "evalue": "unsupported operand type(s) for ** or pow(): 'list' and 'int'",
     "output_type": "error",
     "traceback": [
      "\u001b[0;31m---------------------------------------------------------------------------\u001b[0m",
      "\u001b[0;31mTypeError\u001b[0m                                 Traceback (most recent call last)",
      "Input \u001b[0;32mIn [26]\u001b[0m, in \u001b[0;36m<cell line: 1>\u001b[0;34m()\u001b[0m\n\u001b[0;32m----> 1\u001b[0m \u001b[43ml\u001b[49m\u001b[38;5;241;43m*\u001b[39;49m\u001b[38;5;241;43m*\u001b[39;49m\u001b[38;5;241;43m2\u001b[39;49m\n",
      "\u001b[0;31mTypeError\u001b[0m: unsupported operand type(s) for ** or pow(): 'list' and 'int'"
     ]
    }
   ],
   "source": [
    "l**2"
   ]
  },
  {
   "cell_type": "markdown",
   "id": "294fb611-8754-406c-a780-84dbe5e3901e",
   "metadata": {},
   "source": [
    "`-` 나머지 연산가능 "
   ]
  },
  {
   "cell_type": "code",
   "execution_count": 22,
   "id": "d6e2a52b-92e0-4ee8-95b2-afb4b24bf4cf",
   "metadata": {},
   "outputs": [
    {
     "data": {
      "text/plain": [
       "array([1, 0, 1])"
      ]
     },
     "execution_count": 22,
     "metadata": {},
     "output_type": "execute_result"
    }
   ],
   "source": [
    "a%2 # %2 = 2로 나눈 나머지를 리턴 a=[1,2,3] "
   ]
  },
  {
   "cell_type": "code",
   "execution_count": 24,
   "id": "a6f885f4-10f7-412b-8b4a-29781a0f0ddf",
   "metadata": {},
   "outputs": [
    {
     "ename": "TypeError",
     "evalue": "unsupported operand type(s) for %: 'list' and 'int'",
     "output_type": "error",
     "traceback": [
      "\u001b[0;31m--------------------------------------------------------------------\u001b[0m",
      "\u001b[0;31mTypeError\u001b[0m                          Traceback (most recent call last)",
      "Cell \u001b[0;32mIn[24], line 1\u001b[0m\n\u001b[0;32m----> 1\u001b[0m \u001b[43ml\u001b[49m\u001b[38;5;241;43m%\u001b[39;49m\u001b[38;5;241;43m2\u001b[39;49m\n",
      "\u001b[0;31mTypeError\u001b[0m: unsupported operand type(s) for %: 'list' and 'int'"
     ]
    }
   ],
   "source": [
    "l%2"
   ]
  },
  {
   "cell_type": "markdown",
   "id": "da7720a7-6b6a-49f0-8450-b00640944421",
   "metadata": {},
   "source": [
    "## 기타수학연산지원 "
   ]
  },
  {
   "cell_type": "code",
   "execution_count": 31,
   "id": "5cfd3ab5-d6fa-4fd0-9489-2d40d4e08a1f",
   "metadata": {},
   "outputs": [
    {
     "data": {
      "text/plain": [
       "(array([1.        , 1.41421356, 1.73205081]),\n",
       " array([1.        , 1.41421356, 1.73205081]))"
      ]
     },
     "execution_count": 31,
     "metadata": {},
     "output_type": "execute_result"
    }
   ],
   "source": [
    "np.sqrt(a), np.sqrt(l)"
   ]
  },
  {
   "cell_type": "code",
   "execution_count": 39,
   "id": "a89b7818-4db4-487d-9af9-6035295ab9ac",
   "metadata": {},
   "outputs": [
    {
     "data": {
      "text/plain": [
       "(array([0.        , 0.69314718, 1.09861229]),\n",
       " array([0.        , 0.69314718, 1.09861229]))"
      ]
     },
     "execution_count": 39,
     "metadata": {},
     "output_type": "execute_result"
    }
   ],
   "source": [
    "np.log(a), np.log(l)"
   ]
  },
  {
   "cell_type": "code",
   "execution_count": 32,
   "id": "cd1a21de-eac3-4b34-98a6-5c7541788a13",
   "metadata": {},
   "outputs": [
    {
     "data": {
      "text/plain": [
       "(array([ 2.71828183,  7.3890561 , 20.08553692]),\n",
       " array([ 2.71828183,  7.3890561 , 20.08553692]))"
      ]
     },
     "execution_count": 32,
     "metadata": {},
     "output_type": "execute_result"
    }
   ],
   "source": [
    "np.exp(a), np.exp(l)"
   ]
  },
  {
   "cell_type": "code",
   "execution_count": 33,
   "id": "d01340e5-c6c7-409a-a379-1d5f51915379",
   "metadata": {},
   "outputs": [
    {
     "data": {
      "text/plain": [
       "(array([0.84147098, 0.90929743, 0.14112001]),\n",
       " array([0.84147098, 0.90929743, 0.14112001]))"
      ]
     },
     "execution_count": 33,
     "metadata": {},
     "output_type": "execute_result"
    }
   ],
   "source": [
    "np.sin(a), np.sin(l)"
   ]
  },
  {
   "cell_type": "markdown",
   "id": "74df1997-655e-47e4-8d2e-b3531430644c",
   "metadata": {},
   "source": [
    "## 차원 ($\\star$)"
   ]
  },
  {
   "cell_type": "markdown",
   "id": "acac8b04-ae83-41ff-a4b9-88a9aab1e4d8",
   "metadata": {},
   "source": [
    "`-` 넘파이배열의 차원은 .shape 으로 확인가능 "
   ]
  },
  {
   "cell_type": "markdown",
   "id": "133640b4-d346-4a7d-98ed-3cc88a7877c5",
   "metadata": {},
   "source": [
    "`-` 아래는 모두 미묘하게 다르다. "
   ]
  },
  {
   "cell_type": "code",
   "execution_count": 43,
   "id": "2d8272fa-a98d-4702-9c2b-b2c08130d120",
   "metadata": {},
   "outputs": [
    {
     "data": {
      "text/plain": [
       "(array(3.14), ())"
      ]
     },
     "execution_count": 43,
     "metadata": {},
     "output_type": "execute_result"
    }
   ],
   "source": [
    "a=np.array(3.14) # 스칼라, 0d array \n",
    "a, a.shape"
   ]
  },
  {
   "cell_type": "code",
   "execution_count": 44,
   "id": "a6074b71-043f-45b8-a7fb-5742fc6172a4",
   "metadata": {},
   "outputs": [
    {
     "data": {
      "text/plain": [
       "(array([3.14]), (1,))"
      ]
     },
     "execution_count": 44,
     "metadata": {},
     "output_type": "execute_result"
    }
   ],
   "source": [
    "a=np.array([3.14]) # 벡터, 1d array \n",
    "a, a.shape"
   ]
  },
  {
   "cell_type": "code",
   "execution_count": 45,
   "id": "9510658e-921e-4f0d-ae60-4c5ea3fcbf30",
   "metadata": {},
   "outputs": [
    {
     "data": {
      "text/plain": [
       "(array([[3.14]]), (1, 1))"
      ]
     },
     "execution_count": 45,
     "metadata": {},
     "output_type": "execute_result"
    }
   ],
   "source": [
    "a=np.array([[3.14]]) # 매트릭스, 2d array \n",
    "a, a.shape"
   ]
  },
  {
   "cell_type": "code",
   "execution_count": 46,
   "id": "be8a4dd9-7616-4fe1-ba12-bb003a2de222",
   "metadata": {},
   "outputs": [
    {
     "data": {
      "text/plain": [
       "(array([[[3.14]]]), (1, 1, 1))"
      ]
     },
     "execution_count": 46,
     "metadata": {},
     "output_type": "execute_result"
    }
   ],
   "source": [
    "a=np.array([[[3.14]]]) # 텐서, 3d array \n",
    "a, a.shape"
   ]
  },
  {
   "cell_type": "markdown",
   "id": "972d0b48-c34f-4dfa-9bb9-1fb5682568cf",
   "metadata": {},
   "source": [
    "# 넘파이 공부 2단계 "
   ]
  },
  {
   "cell_type": "markdown",
   "id": "90e17fa2-8aae-444c-82e3-3696150c7288",
   "metadata": {},
   "source": [
    "## 인덱싱 1차원 "
   ]
  },
  {
   "cell_type": "markdown",
   "id": "7e6d8368-e063-4e69-9443-6abb3ae0da66",
   "metadata": {},
   "source": [
    "`-` 선언 "
   ]
  },
  {
   "cell_type": "code",
   "execution_count": 8,
   "id": "c861c6e5-d139-4e0e-a455-039979ac9321",
   "metadata": {},
   "outputs": [],
   "source": [
    "l=[11,22,33,44,55,66] \n",
    "a=np.array(l) "
   ]
  },
  {
   "cell_type": "markdown",
   "id": "7c41410b-38fa-45e6-814c-631ac01b1cde",
   "metadata": {},
   "source": [
    "`-` 인덱스로 접근 "
   ]
  },
  {
   "cell_type": "code",
   "execution_count": 50,
   "id": "5938ed7f-c289-41b9-a1df-b2e824f3d654",
   "metadata": {},
   "outputs": [
    {
     "data": {
      "text/plain": [
       "(11, 22, 33, 44, 55, 66)"
      ]
     },
     "execution_count": 50,
     "metadata": {},
     "output_type": "execute_result"
    }
   ],
   "source": [
    "l[0],l[1],l[2],l[3],l[-2],l[-1]"
   ]
  },
  {
   "cell_type": "code",
   "execution_count": 51,
   "id": "1b4c447d-005e-49a1-8a8f-3badc2077bc6",
   "metadata": {},
   "outputs": [
    {
     "data": {
      "text/plain": [
       "(11, 22, 33, 44, 55, 66)"
      ]
     },
     "execution_count": 51,
     "metadata": {},
     "output_type": "execute_result"
    }
   ],
   "source": [
    "a[0],a[1],a[2],a[3],a[-2],a[-1]"
   ]
  },
  {
   "cell_type": "markdown",
   "id": "580dfd13-8b6e-47df-a7f5-62af23a10ce6",
   "metadata": {},
   "source": [
    "`-` `:` 이용 (슬라이싱)"
   ]
  },
  {
   "cell_type": "code",
   "execution_count": 52,
   "id": "cdc3ee19-9257-479e-bf45-f01d5e7ffc8f",
   "metadata": {},
   "outputs": [
    {
     "data": {
      "text/plain": [
       "[33, 44]"
      ]
     },
     "execution_count": 52,
     "metadata": {},
     "output_type": "execute_result"
    }
   ],
   "source": [
    "l[2:4] # index 2에서 시작, index 4는 포함하지 않음 "
   ]
  },
  {
   "cell_type": "code",
   "execution_count": 53,
   "id": "0288a120-cad8-4ce9-8100-417c5811e3d1",
   "metadata": {},
   "outputs": [
    {
     "data": {
      "text/plain": [
       "array([33, 44])"
      ]
     },
     "execution_count": 53,
     "metadata": {},
     "output_type": "execute_result"
    }
   ],
   "source": [
    "a[2:4] "
   ]
  },
  {
   "cell_type": "markdown",
   "id": "68b28b02-2971-48e7-b43d-0b73e6936050",
   "metadata": {},
   "source": [
    "`-` 정수배열에 의한 인덱싱 "
   ]
  },
  {
   "cell_type": "code",
   "execution_count": 54,
   "id": "11e47e31-2fab-46b2-a6cb-122a9cb56a00",
   "metadata": {},
   "outputs": [
    {
     "data": {
      "text/plain": [
       "array([11, 22, 33, 44, 55, 66])"
      ]
     },
     "execution_count": 54,
     "metadata": {},
     "output_type": "execute_result"
    }
   ],
   "source": [
    "a"
   ]
  },
  {
   "cell_type": "code",
   "execution_count": 59,
   "id": "7c91dd7d-2bc8-4561-a67e-a8f9f42636bd",
   "metadata": {},
   "outputs": [
    {
     "data": {
      "text/plain": [
       "array([11, 33, 55])"
      ]
     },
     "execution_count": 59,
     "metadata": {},
     "output_type": "execute_result"
    }
   ],
   "source": [
    "a[[0,2,4]] # index=0, index=2, index=4 에 해당하는 원소를 뽑고 싶다 "
   ]
  },
  {
   "cell_type": "code",
   "execution_count": 60,
   "id": "b8afb3ad-8076-4f05-93a7-7c52aad55a3c",
   "metadata": {},
   "outputs": [
    {
     "ename": "TypeError",
     "evalue": "list indices must be integers or slices, not list",
     "output_type": "error",
     "traceback": [
      "\u001b[0;31m--------------------------------------------------------------------\u001b[0m",
      "\u001b[0;31mTypeError\u001b[0m                          Traceback (most recent call last)",
      "Cell \u001b[0;32mIn[60], line 1\u001b[0m\n\u001b[0;32m----> 1\u001b[0m \u001b[43ml\u001b[49m\u001b[43m[\u001b[49m\u001b[43m[\u001b[49m\u001b[38;5;241;43m0\u001b[39;49m\u001b[43m,\u001b[49m\u001b[38;5;241;43m2\u001b[39;49m\u001b[43m,\u001b[49m\u001b[38;5;241;43m4\u001b[39;49m\u001b[43m]\u001b[49m\u001b[43m]\u001b[49m \u001b[38;5;66;03m# 리스트는 불가능 \u001b[39;00m\n",
      "\u001b[0;31mTypeError\u001b[0m: list indices must be integers or slices, not list"
     ]
    }
   ],
   "source": [
    "l[[0,2,4]] # 리스트는 불가능 "
   ]
  },
  {
   "cell_type": "markdown",
   "id": "f8ef1772-d18d-4bfc-9a53-200bfdbe0160",
   "metadata": {},
   "source": [
    "`-` 참고: 정수배열에 의한 인덱싱에서 아래의 코드는 돌아가지 않음. "
   ]
  },
  {
   "cell_type": "code",
   "execution_count": 11,
   "id": "4db7bce3-64e8-49fb-bef7-2cc2fd712e52",
   "metadata": {},
   "outputs": [
    {
     "ename": "IndexError",
     "evalue": "too many indices for array: array is 1-dimensional, but 3 were indexed",
     "output_type": "error",
     "traceback": [
      "\u001b[0;31m---------------------------------------------------------------------------\u001b[0m",
      "\u001b[0;31mIndexError\u001b[0m                                Traceback (most recent call last)",
      "Cell \u001b[0;32mIn[11], line 1\u001b[0m\n\u001b[0;32m----> 1\u001b[0m \u001b[43ma\u001b[49m\u001b[43m[\u001b[49m\u001b[43m(\u001b[49m\u001b[38;5;241;43m0\u001b[39;49m\u001b[43m,\u001b[49m\u001b[38;5;241;43m2\u001b[39;49m\u001b[43m,\u001b[49m\u001b[38;5;241;43m4\u001b[39;49m\u001b[43m)\u001b[49m\u001b[43m]\u001b[49m \u001b[38;5;66;03m# a[[0,2,4]] 는 돌아감 \u001b[39;00m\n",
      "\u001b[0;31mIndexError\u001b[0m: too many indices for array: array is 1-dimensional, but 3 were indexed"
     ]
    }
   ],
   "source": [
    "a[(0,2,4)] # a[[0,2,4]] 는 돌아감 "
   ]
  },
  {
   "cell_type": "markdown",
   "id": "72881e29-176a-4284-9e58-86eb07588475",
   "metadata": {},
   "source": [
    "- 즉 a[`index`]에서 index의 자리에 리스트를 넣어야만 동작.\n",
    "- index자리에 튜플을 넣으면 동작하지 않음.\n",
    "- 이러한 사소한 지식까지 알아야 하는걸 추천하는건 아님. "
   ]
  },
  {
   "cell_type": "markdown",
   "id": "5088a071-63ee-4955-8b46-835731a2e38c",
   "metadata": {},
   "source": [
    "`-` 부울값에 의한 인덱싱 "
   ]
  },
  {
   "cell_type": "code",
   "execution_count": 61,
   "id": "402ca51a-ab66-420f-832d-2816d67b54f0",
   "metadata": {},
   "outputs": [
    {
     "data": {
      "text/plain": [
       "array([11, 22, 33, 44, 55, 66])"
      ]
     },
     "execution_count": 61,
     "metadata": {},
     "output_type": "execute_result"
    }
   ],
   "source": [
    "a"
   ]
  },
  {
   "cell_type": "code",
   "execution_count": 62,
   "id": "976f4223-ded7-4860-99c2-3be6696fb01f",
   "metadata": {},
   "outputs": [
    {
     "data": {
      "text/plain": [
       "array([11, 33, 55])"
      ]
     },
     "execution_count": 62,
     "metadata": {},
     "output_type": "execute_result"
    }
   ],
   "source": [
    "a[[True, False, True, False, True, False]]"
   ]
  },
  {
   "cell_type": "markdown",
   "id": "b952079b-fcbd-4ca0-baa2-135dd93bac4b",
   "metadata": {},
   "source": [
    "응용하면? "
   ]
  },
  {
   "cell_type": "code",
   "execution_count": 68,
   "id": "b6aaf4ce-c5a1-4cdf-bc80-51696ffd5d79",
   "metadata": {},
   "outputs": [
    {
     "data": {
      "text/plain": [
       "array([ True,  True, False, False, False, False])"
      ]
     },
     "execution_count": 68,
     "metadata": {},
     "output_type": "execute_result"
    }
   ],
   "source": [
    "a < 33 "
   ]
  },
  {
   "cell_type": "code",
   "execution_count": 69,
   "id": "17289e20-3b6d-4350-bf3c-43c6ffdee09e",
   "metadata": {},
   "outputs": [
    {
     "data": {
      "text/plain": [
       "array([11, 22])"
      ]
     },
     "execution_count": 69,
     "metadata": {},
     "output_type": "execute_result"
    }
   ],
   "source": [
    "a[a<33]"
   ]
  },
  {
   "cell_type": "markdown",
   "id": "97a6ca67-09af-4bf9-9290-805cdcdb8247",
   "metadata": {},
   "source": [
    "리스트는 불가능 "
   ]
  },
  {
   "cell_type": "code",
   "execution_count": 70,
   "id": "2c596997-7960-4595-8495-52ff8baff998",
   "metadata": {},
   "outputs": [
    {
     "ename": "TypeError",
     "evalue": "'<' not supported between instances of 'list' and 'int'",
     "output_type": "error",
     "traceback": [
      "\u001b[0;31m--------------------------------------------------------------------\u001b[0m",
      "\u001b[0;31mTypeError\u001b[0m                          Traceback (most recent call last)",
      "Cell \u001b[0;32mIn[70], line 1\u001b[0m\n\u001b[0;32m----> 1\u001b[0m \u001b[43ml\u001b[49m\u001b[38;5;241;43m<\u001b[39;49m\u001b[38;5;241;43m33\u001b[39;49m \u001b[38;5;66;03m# 여기에서부터 불가능 \u001b[39;00m\n",
      "\u001b[0;31mTypeError\u001b[0m: '<' not supported between instances of 'list' and 'int'"
     ]
    }
   ],
   "source": [
    "l<33 # 여기에서부터 불가능 "
   ]
  },
  {
   "cell_type": "code",
   "execution_count": 62,
   "id": "a3afa138-ebf2-4155-a4c8-e39b7dcd9ad0",
   "metadata": {},
   "outputs": [
    {
     "ename": "TypeError",
     "evalue": "list indices must be integers or slices, not list",
     "output_type": "error",
     "traceback": [
      "\u001b[0;31m--------------------------------------------------------------------\u001b[0m",
      "\u001b[0;31mTypeError\u001b[0m                          Traceback (most recent call last)",
      "Cell \u001b[0;32mIn[62], line 1\u001b[0m\n\u001b[0;32m----> 1\u001b[0m \u001b[43ml\u001b[49m\u001b[43m[\u001b[49m\u001b[43m[\u001b[49m\u001b[38;5;28;43;01mTrue\u001b[39;49;00m\u001b[43m,\u001b[49m\u001b[38;5;28;43;01mFalse\u001b[39;49;00m\u001b[43m,\u001b[49m\u001b[38;5;28;43;01mTrue\u001b[39;49;00m\u001b[43m,\u001b[49m\u001b[38;5;28;43;01mFalse\u001b[39;49;00m\u001b[43m,\u001b[49m\u001b[38;5;28;43;01mTrue\u001b[39;49;00m\u001b[43m,\u001b[49m\u001b[38;5;28;43;01mFalse\u001b[39;49;00m\u001b[43m]\u001b[49m\u001b[43m]\u001b[49m \u001b[38;5;66;03m# 이것도 불가능 \u001b[39;00m\n",
      "\u001b[0;31mTypeError\u001b[0m: list indices must be integers or slices, not list"
     ]
    }
   ],
   "source": [
    "l[[True,False,True,False,True,False]] # 이것도 불가능 "
   ]
  },
  {
   "cell_type": "markdown",
   "id": "77fb69a6-3c7c-4bd8-86cf-4512c49dcbe8",
   "metadata": {},
   "source": [
    "## 인덱싱 2차원 "
   ]
  },
  {
   "cell_type": "markdown",
   "id": "16d53e75-267f-43ee-a9d5-f6e582e43e44",
   "metadata": {},
   "source": [
    "`-` 중첩리스트와 2차원 np.array 선언 "
   ]
  },
  {
   "cell_type": "code",
   "execution_count": 403,
   "id": "7331f59b-c1af-4c99-9e77-dbad1859db53",
   "metadata": {},
   "outputs": [],
   "source": [
    "A = [[1,2,3,4],[-1,-2,-3,-4],[5,6,7,8],[-5,-6,-7,-8]]\n",
    "A2 = np.array(A)"
   ]
  },
  {
   "cell_type": "code",
   "execution_count": 404,
   "id": "366e82df-8d76-48e8-8d38-02e36dc3c4fb",
   "metadata": {},
   "outputs": [
    {
     "data": {
      "text/plain": [
       "[[1, 2, 3, 4], [-1, -2, -3, -4], [5, 6, 7, 8], [-5, -6, -7, -8]]"
      ]
     },
     "execution_count": 404,
     "metadata": {},
     "output_type": "execute_result"
    }
   ],
   "source": [
    "A"
   ]
  },
  {
   "cell_type": "code",
   "execution_count": 405,
   "id": "39b30cc4-59b6-4c6b-b23d-23ddeeb8daa3",
   "metadata": {},
   "outputs": [
    {
     "data": {
      "text/plain": [
       "array([[ 1,  2,  3,  4],\n",
       "       [-1, -2, -3, -4],\n",
       "       [ 5,  6,  7,  8],\n",
       "       [-5, -6, -7, -8]])"
      ]
     },
     "execution_count": 405,
     "metadata": {},
     "output_type": "execute_result"
    }
   ],
   "source": [
    "A2"
   ]
  },
  {
   "cell_type": "markdown",
   "id": "6c6221bd-6831-449d-a0f1-946634c0660a",
   "metadata": {},
   "source": [
    "`-` A의 원소 인덱싱 "
   ]
  },
  {
   "cell_type": "code",
   "execution_count": 17,
   "id": "d20bae49-24c3-400b-940b-fbcd726bd701",
   "metadata": {},
   "outputs": [
    {
     "data": {
      "text/plain": [
       "array([[ 1,  2,  3,  4],\n",
       "       [-1, -2, -3, -4],\n",
       "       [ 5,  6,  7,  8],\n",
       "       [-5, -6, -7, -8]])"
      ]
     },
     "execution_count": 17,
     "metadata": {},
     "output_type": "execute_result"
    }
   ],
   "source": [
    "np.array(A)"
   ]
  },
  {
   "cell_type": "markdown",
   "id": "a332ff5f-4a5e-4b79-89c6-a8b8543e6e45",
   "metadata": {},
   "source": [
    "`-` A(이중list)에서의 원소 추출"
   ]
  },
  {
   "cell_type": "code",
   "execution_count": 18,
   "id": "f0ead1ae-fed3-47d3-b272-127bf2fa24ac",
   "metadata": {},
   "outputs": [
    {
     "data": {
      "text/plain": [
       "1"
      ]
     },
     "execution_count": 18,
     "metadata": {},
     "output_type": "execute_result"
    }
   ],
   "source": [
    "A[0][0] # (1,1)의 원소 "
   ]
  },
  {
   "cell_type": "code",
   "execution_count": 19,
   "id": "d3aeb65c-1899-4f26-b53b-06f16fc211d9",
   "metadata": {},
   "outputs": [
    {
     "data": {
      "text/plain": [
       "-3"
      ]
     },
     "execution_count": 19,
     "metadata": {},
     "output_type": "execute_result"
    }
   ],
   "source": [
    "A[1][2] # (2,3)의 원소 "
   ]
  },
  {
   "cell_type": "code",
   "execution_count": 20,
   "id": "77f60a6c-1e66-4f9b-ad0f-1306242f1920",
   "metadata": {},
   "outputs": [
    {
     "data": {
      "text/plain": [
       "-5"
      ]
     },
     "execution_count": 20,
     "metadata": {},
     "output_type": "execute_result"
    }
   ],
   "source": [
    "A[-1][0] # (4,1)의 원소 "
   ]
  },
  {
   "cell_type": "markdown",
   "id": "aa7be0f8-bebb-4345-ae38-3d9d4269533d",
   "metadata": {},
   "source": [
    "`-` A2(넘파이어레이)에서의 원소 인덱싱 "
   ]
  },
  {
   "cell_type": "code",
   "execution_count": 21,
   "id": "336c2274-24cf-4876-a74c-831ab2dfd772",
   "metadata": {
    "tags": []
   },
   "outputs": [
    {
     "data": {
      "text/plain": [
       "1"
      ]
     },
     "execution_count": 21,
     "metadata": {},
     "output_type": "execute_result"
    }
   ],
   "source": [
    "A2[0][0] # (1,1)의 원소 "
   ]
  },
  {
   "cell_type": "code",
   "execution_count": 22,
   "id": "369bcfd3-57e0-47b1-873a-0e40f5d0c2f1",
   "metadata": {},
   "outputs": [
    {
     "data": {
      "text/plain": [
       "-3"
      ]
     },
     "execution_count": 22,
     "metadata": {},
     "output_type": "execute_result"
    }
   ],
   "source": [
    "A2[1][2] # (2,3)의 원소 "
   ]
  },
  {
   "cell_type": "code",
   "execution_count": 23,
   "id": "5fd4f7c6-cfcd-42fb-8376-e3f1fe1de9c1",
   "metadata": {},
   "outputs": [
    {
     "data": {
      "text/plain": [
       "-5"
      ]
     },
     "execution_count": 23,
     "metadata": {},
     "output_type": "execute_result"
    }
   ],
   "source": [
    "A2[-1][0] # (4,1)의 원소 "
   ]
  },
  {
   "cell_type": "markdown",
   "id": "8b4c3480-9be2-4cbd-926d-c98c51379b34",
   "metadata": {},
   "source": [
    "`-` A2에서만 되는 기술 (넘파이에서 제시하는 신기술, R에서는 기본적으로 쓰던것, 이중list는 불가능) "
   ]
  },
  {
   "cell_type": "code",
   "execution_count": 38,
   "id": "e02143a9-2d30-44ec-920c-a511c5bc3b1f",
   "metadata": {
    "tags": []
   },
   "outputs": [
    {
     "data": {
      "text/plain": [
       "1"
      ]
     },
     "execution_count": 38,
     "metadata": {},
     "output_type": "execute_result"
    }
   ],
   "source": [
    "A2[0,0] # (1,1)의 원소 "
   ]
  },
  {
   "cell_type": "code",
   "execution_count": 39,
   "id": "45f7e56b-cc06-4d92-b0c3-988d43acdbd5",
   "metadata": {},
   "outputs": [
    {
     "data": {
      "text/plain": [
       "-3"
      ]
     },
     "execution_count": 39,
     "metadata": {},
     "output_type": "execute_result"
    }
   ],
   "source": [
    "A2[1,2] # (2,3)의 원소 "
   ]
  },
  {
   "cell_type": "code",
   "execution_count": 40,
   "id": "909078ec-c2c0-46aa-a229-d986284b2e70",
   "metadata": {},
   "outputs": [
    {
     "data": {
      "text/plain": [
       "-5"
      ]
     },
     "execution_count": 40,
     "metadata": {},
     "output_type": "execute_result"
    }
   ],
   "source": [
    "A2[-1,0] # (4,1)의 원소 "
   ]
  },
  {
   "cell_type": "markdown",
   "id": "0af08f03-1e1a-4121-af47-0349cf9f3334",
   "metadata": {},
   "source": [
    "`-` A2에서의 인덱싱예시 "
   ]
  },
  {
   "cell_type": "markdown",
   "id": "d4a248e9-5e1a-4c3a-bc6a-17af89174b07",
   "metadata": {},
   "source": [
    "**(예시1)** 1행,1-2열 추출 "
   ]
  },
  {
   "cell_type": "code",
   "execution_count": 49,
   "id": "59a2221a-4a22-453d-a00a-8df58dad8f7f",
   "metadata": {},
   "outputs": [
    {
     "data": {
      "text/plain": [
       "array([[ 1,  2,  3,  4],\n",
       "       [-1, -2, -3, -4],\n",
       "       [ 5,  6,  7,  8],\n",
       "       [-5, -6, -7, -8]])"
      ]
     },
     "execution_count": 49,
     "metadata": {},
     "output_type": "execute_result"
    }
   ],
   "source": [
    "A2"
   ]
  },
  {
   "cell_type": "code",
   "execution_count": 50,
   "id": "c029d84f-8d2d-4da0-935e-f56bc73c0ed2",
   "metadata": {},
   "outputs": [
    {
     "data": {
      "text/plain": [
       "array([1, 2])"
      ]
     },
     "execution_count": 50,
     "metadata": {},
     "output_type": "execute_result"
    }
   ],
   "source": [
    "A2[0,0:2] # 1행1열, 1행2열 "
   ]
  },
  {
   "cell_type": "markdown",
   "id": "500f3e57-31fd-46d7-aa38-95c192a7fb3e",
   "metadata": {},
   "source": [
    "**(예시2)** 1행 추출 "
   ]
  },
  {
   "cell_type": "code",
   "execution_count": 59,
   "id": "bdde7594-8fab-4545-91c6-db611dbbda32",
   "metadata": {},
   "outputs": [
    {
     "data": {
      "text/plain": [
       "array([[ 1,  2,  3,  4],\n",
       "       [-1, -2, -3, -4],\n",
       "       [ 5,  6,  7,  8],\n",
       "       [-5, -6, -7, -8]])"
      ]
     },
     "execution_count": 59,
     "metadata": {},
     "output_type": "execute_result"
    }
   ],
   "source": [
    "A2"
   ]
  },
  {
   "cell_type": "code",
   "execution_count": 53,
   "id": "d60a1858-d5cd-4562-b8f7-06067d59801d",
   "metadata": {},
   "outputs": [
    {
     "data": {
      "text/plain": [
       "array([1, 2, 3, 4])"
      ]
     },
     "execution_count": 53,
     "metadata": {},
     "output_type": "execute_result"
    }
   ],
   "source": [
    "A2[0,:] # 방법1"
   ]
  },
  {
   "cell_type": "code",
   "execution_count": 54,
   "id": "abd02229-fee6-4851-bb44-2794d8052dd3",
   "metadata": {},
   "outputs": [
    {
     "data": {
      "text/plain": [
       "array([1, 2, 3, 4])"
      ]
     },
     "execution_count": 54,
     "metadata": {},
     "output_type": "execute_result"
    }
   ],
   "source": [
    "A2[0] # 방법2"
   ]
  },
  {
   "cell_type": "markdown",
   "id": "ffe30598-efa1-4f81-a0d4-60dbd0ad86d7",
   "metadata": {},
   "source": [
    "**(예시3)** 1행,3행 추출  "
   ]
  },
  {
   "cell_type": "code",
   "execution_count": 60,
   "id": "03bba20f-7159-490d-b784-a7117787c8f1",
   "metadata": {},
   "outputs": [
    {
     "data": {
      "text/plain": [
       "array([[ 1,  2,  3,  4],\n",
       "       [-1, -2, -3, -4],\n",
       "       [ 5,  6,  7,  8],\n",
       "       [-5, -6, -7, -8]])"
      ]
     },
     "execution_count": 60,
     "metadata": {},
     "output_type": "execute_result"
    }
   ],
   "source": [
    "A2"
   ]
  },
  {
   "cell_type": "code",
   "execution_count": 55,
   "id": "ac91a63f-3a34-4cc3-819c-dd63159011d4",
   "metadata": {},
   "outputs": [
    {
     "data": {
      "text/plain": [
       "array([[1, 2, 3, 4],\n",
       "       [5, 6, 7, 8]])"
      ]
     },
     "execution_count": 55,
     "metadata": {},
     "output_type": "execute_result"
    }
   ],
   "source": [
    "A2[[0,2],:] # 방법1"
   ]
  },
  {
   "cell_type": "code",
   "execution_count": 56,
   "id": "1c266c0a-ed43-4bd7-8cfe-0a489795b4e6",
   "metadata": {},
   "outputs": [
    {
     "data": {
      "text/plain": [
       "array([[1, 2, 3, 4],\n",
       "       [5, 6, 7, 8]])"
      ]
     },
     "execution_count": 56,
     "metadata": {},
     "output_type": "execute_result"
    }
   ],
   "source": [
    "A2[[0,2]] # 방법2"
   ]
  },
  {
   "cell_type": "markdown",
   "id": "f4289227-9963-48c1-97eb-8683994215e8",
   "metadata": {},
   "source": [
    "**(예시4)** 1열 추출 "
   ]
  },
  {
   "cell_type": "code",
   "execution_count": 64,
   "id": "a3626d3d-4cf1-4965-97c6-5ee214c2b76a",
   "metadata": {},
   "outputs": [
    {
     "data": {
      "text/plain": [
       "array([[ 1,  2,  3,  4],\n",
       "       [-1, -2, -3, -4],\n",
       "       [ 5,  6,  7,  8],\n",
       "       [-5, -6, -7, -8]])"
      ]
     },
     "execution_count": 64,
     "metadata": {},
     "output_type": "execute_result"
    }
   ],
   "source": [
    "A2"
   ]
  },
  {
   "cell_type": "code",
   "execution_count": 65,
   "id": "1bf0ad5d-83af-4cad-9cdf-60a1b72232db",
   "metadata": {},
   "outputs": [
    {
     "data": {
      "text/plain": [
       "array([ 1, -1,  5, -5])"
      ]
     },
     "execution_count": 65,
     "metadata": {},
     "output_type": "execute_result"
    }
   ],
   "source": [
    "A2[:,0] # 방법1, 출력이 이상하게 보이는데?"
   ]
  },
  {
   "cell_type": "code",
   "execution_count": 66,
   "id": "69c14f70-49e5-4d13-8f70-345510023961",
   "metadata": {},
   "outputs": [
    {
     "data": {
      "text/plain": [
       "array([[ 1],\n",
       "       [-1],\n",
       "       [ 5],\n",
       "       [-5]])"
      ]
     },
     "execution_count": 66,
     "metadata": {},
     "output_type": "execute_result"
    }
   ],
   "source": [
    "A2[:,[0]] # 방법2"
   ]
  },
  {
   "cell_type": "markdown",
   "id": "f480a37c-0a9d-4c61-ac13-a05c7556d43a",
   "metadata": {},
   "source": [
    "**(예시5)** 1열,3열 추출"
   ]
  },
  {
   "cell_type": "code",
   "execution_count": 68,
   "id": "df8965f7-b9c6-4a78-9ee8-aeff476c089a",
   "metadata": {},
   "outputs": [
    {
     "data": {
      "text/plain": [
       "array([[ 1,  2,  3,  4],\n",
       "       [-1, -2, -3, -4],\n",
       "       [ 5,  6,  7,  8],\n",
       "       [-5, -6, -7, -8]])"
      ]
     },
     "execution_count": 68,
     "metadata": {},
     "output_type": "execute_result"
    }
   ],
   "source": [
    "A2"
   ]
  },
  {
   "cell_type": "code",
   "execution_count": 67,
   "id": "52dcf8c6-1a96-4b99-803f-24ed0eaed1e2",
   "metadata": {},
   "outputs": [
    {
     "data": {
      "text/plain": [
       "array([[ 1,  3],\n",
       "       [-1, -3],\n",
       "       [ 5,  7],\n",
       "       [-5, -7]])"
      ]
     },
     "execution_count": 67,
     "metadata": {},
     "output_type": "execute_result"
    }
   ],
   "source": [
    "A2[:,[0,2]] # 1열, 3열"
   ]
  },
  {
   "cell_type": "markdown",
   "id": "4329f15c-9c50-4e3b-a458-9e6258fe2de5",
   "metadata": {},
   "source": [
    "**(예시6)** 1행2행, 1열3열 추출 -- 삭제하려다가 다시 설명하는 내용 "
   ]
  },
  {
   "cell_type": "code",
   "execution_count": 71,
   "id": "065d7d76-320a-43ba-a53c-a9250ea36f3c",
   "metadata": {},
   "outputs": [
    {
     "data": {
      "text/plain": [
       "array([[ 1,  2,  3,  4],\n",
       "       [-1, -2, -3, -4],\n",
       "       [ 5,  6,  7,  8],\n",
       "       [-5, -6, -7, -8]])"
      ]
     },
     "execution_count": 71,
     "metadata": {},
     "output_type": "execute_result"
    }
   ],
   "source": [
    "A2"
   ]
  },
  {
   "cell_type": "markdown",
   "id": "ebdc9ede-c7c6-43b6-bd89-fb3376344c77",
   "metadata": {},
   "source": [
    "**헷갈려:** 문장이 좀 모호한데 경우1,2중 수행 하라는 것인지 모호하다. "
   ]
  },
  {
   "cell_type": "markdown",
   "id": "4f81b460-a6dd-47d3-8b60-93b725af0cec",
   "metadata": {},
   "source": [
    "(경우1) 이러한 숫자들을 뽑으라는 의미인지, (즉 1행 1,3열, 2행 1,3열을 뽑으란 의미인지) "
   ]
  },
  {
   "cell_type": "markdown",
   "id": "8e0a2e95-5de9-401b-b2f2-96d03b8667e8",
   "metadata": {},
   "source": [
    "$$\\begin{bmatrix}\n",
    "1 & | & 3 & | \\\\\n",
    "-1 & | & -3 & | \\\\\n",
    "| & | & | & | \\\\\n",
    "| & | & | & |\n",
    "\\end{bmatrix}$$\n"
   ]
  },
  {
   "cell_type": "markdown",
   "id": "2e34174b-6cdb-4610-bed4-498095fc2a99",
   "metadata": {},
   "source": [
    "(경우2) 이러한 숫자들을 뽑으란 의미인지, (즉 1행1열, 2행3열을 뽑으란 의미인지)"
   ]
  },
  {
   "cell_type": "markdown",
   "id": "f18dcd38-c5e7-4195-94fa-730c16f6e6ba",
   "metadata": {},
   "source": [
    "$$\\begin{bmatrix}\n",
    "1 & | & | & | \\\\\n",
    "| & | & -3 & | \\\\\n",
    "| & | & | & | \\\\\n",
    "| & | & | & |\n",
    "\\end{bmatrix}$$\n"
   ]
  },
  {
   "cell_type": "code",
   "execution_count": 75,
   "id": "3ac62958-589c-4397-90d5-babdb25c849c",
   "metadata": {},
   "outputs": [
    {
     "data": {
      "text/plain": [
       "array([[ 1,  3],\n",
       "       [-1, -3]])"
      ]
     },
     "execution_count": 75,
     "metadata": {},
     "output_type": "execute_result"
    }
   ],
   "source": [
    "A2[0:2, [0,2]] # 경우1이 구현"
   ]
  },
  {
   "cell_type": "code",
   "execution_count": 76,
   "id": "8e573c93-9cd5-49e2-9ae0-3aab7f734250",
   "metadata": {},
   "outputs": [
    {
     "data": {
      "text/plain": [
       "array([ 1, -3])"
      ]
     },
     "execution_count": 76,
     "metadata": {},
     "output_type": "execute_result"
    }
   ],
   "source": [
    "A2[[0,1],[0,2]] # 경우2가 구현"
   ]
  },
  {
   "cell_type": "markdown",
   "id": "b8be4539-f6b1-44bd-81e9-e999e7b0a6ae",
   "metadata": {},
   "source": [
    "`-` 인덱싱에 대한 미묘한 차이 $(\\star)$"
   ]
  },
  {
   "cell_type": "markdown",
   "id": "c4571217-240b-4af6-bee7-b6723ea94c44",
   "metadata": {},
   "source": [
    "**관찰**: 2차원 array의 인덱싱 결과가 2차원이 나올수도있고, 1차원이 나올수도 있다. "
   ]
  },
  {
   "cell_type": "code",
   "execution_count": 36,
   "id": "49a85e9e-d4ce-4208-a955-0af77a8162de",
   "metadata": {},
   "outputs": [
    {
     "data": {
      "text/plain": [
       "(array([1, 2, 3, 4]), (4,))"
      ]
     },
     "execution_count": 36,
     "metadata": {},
     "output_type": "execute_result"
    }
   ],
   "source": [
    "A2[0], A2[0].shape"
   ]
  },
  {
   "cell_type": "markdown",
   "id": "f641fef6-a606-49a5-b05a-ea0640b99a74",
   "metadata": {},
   "source": [
    "- shape이 (4,)인 ndarray = 길이가 4인 1차원 벡터 "
   ]
  },
  {
   "cell_type": "code",
   "execution_count": 37,
   "id": "955e0c7e-8eb9-4e5b-8a0e-642c5b7cbbf2",
   "metadata": {},
   "outputs": [
    {
     "data": {
      "text/plain": [
       "(array([[ 1,  2,  3,  4],\n",
       "        [-1, -2, -3, -4]]),\n",
       " (2, 4))"
      ]
     },
     "execution_count": 37,
     "metadata": {},
     "output_type": "execute_result"
    }
   ],
   "source": [
    "A2[0:2], A2[0:2].shape"
   ]
  },
  {
   "cell_type": "markdown",
   "id": "d61ba291-8e76-4700-aa8e-8bb71310c895",
   "metadata": {},
   "source": [
    "- shape이 (2,4)인 ndarray = dim이 `2*4`인 행렬"
   ]
  },
  {
   "cell_type": "code",
   "execution_count": 82,
   "id": "d82551fe-3679-4d02-9934-43173cc03f99",
   "metadata": {},
   "outputs": [
    {
     "data": {
      "text/plain": [
       "(array([[1, 2, 3, 4]]), (1, 4))"
      ]
     },
     "execution_count": 82,
     "metadata": {},
     "output_type": "execute_result"
    }
   ],
   "source": [
    "A2[0:1], A2[0:1].shape"
   ]
  },
  {
   "cell_type": "markdown",
   "id": "fb4f3832-cf28-46d4-aad1-bfb5e801b567",
   "metadata": {},
   "source": [
    "- shape이 (1,4)인 ndarray = dim이 `1*4`인 행렬\n",
    "- `A2[0:1]`은 `A2[0]`와 같은 코드가 아니었다!!"
   ]
  },
  {
   "cell_type": "markdown",
   "id": "a1c54c6f-f731-4d4a-a0fe-10bc0763b5c4",
   "metadata": {},
   "source": [
    "**인덱싱:** 결과가 어떻게 나올지 생각해보고 인덱싱 할 것"
   ]
  },
  {
   "cell_type": "markdown",
   "id": "0a4bb5ce-27e7-47d5-9dfb-95f63b4b8920",
   "metadata": {},
   "source": [
    "(예시1) 한개의 값을 뽑을때 -> 출력을 0차원,1차원,2차원으로 만들 수 있다. "
   ]
  },
  {
   "cell_type": "code",
   "execution_count": 406,
   "id": "0990e854-38a6-4b35-b232-852b848a6b50",
   "metadata": {},
   "outputs": [
    {
     "data": {
      "text/plain": [
       "array([[ 1,  2,  3,  4],\n",
       "       [-1, -2, -3, -4],\n",
       "       [ 5,  6,  7,  8],\n",
       "       [-5, -6, -7, -8]])"
      ]
     },
     "execution_count": 406,
     "metadata": {},
     "output_type": "execute_result"
    }
   ],
   "source": [
    "A2"
   ]
  },
  {
   "cell_type": "code",
   "execution_count": 407,
   "id": "a64a4baf-1338-474e-8645-ee7867b587b1",
   "metadata": {},
   "outputs": [
    {
     "data": {
      "text/plain": [
       "1"
      ]
     },
     "execution_count": 407,
     "metadata": {},
     "output_type": "execute_result"
    }
   ],
   "source": [
    "A2[0,0] # 출력이 0차원 "
   ]
  },
  {
   "cell_type": "code",
   "execution_count": 408,
   "id": "e96213a9-9470-4dfc-b8d5-0f2cff154cb1",
   "metadata": {},
   "outputs": [
    {
     "data": {
      "text/plain": [
       "array([1])"
      ]
     },
     "execution_count": 408,
     "metadata": {},
     "output_type": "execute_result"
    }
   ],
   "source": [
    "A2[[0],0] # 출력이 1차원 "
   ]
  },
  {
   "cell_type": "code",
   "execution_count": 409,
   "id": "c4bf71ed-b0cf-4ca0-9252-c73ac2ac02ab",
   "metadata": {},
   "outputs": [
    {
     "data": {
      "text/plain": [
       "array([1])"
      ]
     },
     "execution_count": 409,
     "metadata": {},
     "output_type": "execute_result"
    }
   ],
   "source": [
    "A2[0,[0]] # 출력이 1차원 "
   ]
  },
  {
   "cell_type": "code",
   "execution_count": 416,
   "id": "0557ef41-8b3d-4538-a472-ac6301ac9e7e",
   "metadata": {},
   "outputs": [
    {
     "data": {
      "text/plain": [
       "array([1])"
      ]
     },
     "execution_count": 416,
     "metadata": {},
     "output_type": "execute_result"
    }
   ],
   "source": [
    "A2[0:1,0] # 출력이 1차원 "
   ]
  },
  {
   "cell_type": "code",
   "execution_count": 415,
   "id": "a5412c7f-49ce-49f3-ada1-bb3f380965bb",
   "metadata": {},
   "outputs": [
    {
     "data": {
      "text/plain": [
       "array([1])"
      ]
     },
     "execution_count": 415,
     "metadata": {},
     "output_type": "execute_result"
    }
   ],
   "source": [
    "A2[0,0:1] # 출력이 1차원"
   ]
  },
  {
   "cell_type": "code",
   "execution_count": 414,
   "id": "525e734d-370b-4397-afbd-7d71ed89b796",
   "metadata": {},
   "outputs": [
    {
     "data": {
      "text/plain": [
       "array([[1]])"
      ]
     },
     "execution_count": 414,
     "metadata": {},
     "output_type": "execute_result"
    }
   ],
   "source": [
    "A2[0:1,0:1] # 출력이 2차원 "
   ]
  },
  {
   "cell_type": "markdown",
   "id": "c512256d-984f-4ad4-91a7-a124a2252294",
   "metadata": {},
   "source": [
    "(예시2) 하나의 벡터를 뽑을때 -> 출력을 1차원, 2차원으로 만들 수 있다. "
   ]
  },
  {
   "cell_type": "code",
   "execution_count": 156,
   "id": "173e050f-06ea-4d63-a04e-fa9b60b2ab1a",
   "metadata": {},
   "outputs": [
    {
     "data": {
      "text/plain": [
       "array([[ 1,  2,  3,  4],\n",
       "       [-1, -2, -3, -4],\n",
       "       [ 5,  6,  7,  8],\n",
       "       [-5, -6, -7, -8]])"
      ]
     },
     "execution_count": 156,
     "metadata": {},
     "output_type": "execute_result"
    }
   ],
   "source": [
    "A2"
   ]
  },
  {
   "cell_type": "code",
   "execution_count": 157,
   "id": "8d9bf8bf-676b-42b6-b8af-29810ceba2d6",
   "metadata": {},
   "outputs": [
    {
     "data": {
      "text/plain": [
       "array([ 2, -2,  6, -6])"
      ]
     },
     "execution_count": 157,
     "metadata": {},
     "output_type": "execute_result"
    }
   ],
   "source": [
    "A2[:,1] # 출력이 1차원: 출력은 길이가 4인 벡터처럼 해석가능 "
   ]
  },
  {
   "cell_type": "code",
   "execution_count": 158,
   "id": "1a8c4e85-26f7-4bd8-96b0-8b19a6a008c5",
   "metadata": {},
   "outputs": [
    {
     "data": {
      "text/plain": [
       "array([[ 2],\n",
       "       [-2],\n",
       "       [ 6],\n",
       "       [-6]])"
      ]
     },
     "execution_count": 158,
     "metadata": {},
     "output_type": "execute_result"
    }
   ],
   "source": [
    "A2[:,[1]] # 출력이 2차원: 출력을 4*1 매트릭스처럼 해석가능"
   ]
  },
  {
   "cell_type": "code",
   "execution_count": 162,
   "id": "fa8f47de-1630-4cf2-a6db-8b0e7c7bb426",
   "metadata": {},
   "outputs": [
    {
     "data": {
      "text/plain": [
       "array([-5, -6, -7, -8])"
      ]
     },
     "execution_count": 162,
     "metadata": {},
     "output_type": "execute_result"
    }
   ],
   "source": [
    "A2[-1,:] # 출력이 1차원: 출력을 길이가 4인 벡터처럼 해석가능 "
   ]
  },
  {
   "cell_type": "code",
   "execution_count": 161,
   "id": "81aaca1f-3e94-49ee-81a4-ee16756d0d10",
   "metadata": {},
   "outputs": [
    {
     "data": {
      "text/plain": [
       "array([[-5, -6, -7, -8]])"
      ]
     },
     "execution_count": 161,
     "metadata": {},
     "output_type": "execute_result"
    }
   ],
   "source": [
    "A2[[-1],:] # 출력이 2차원: 출력을 1*4 매트릭스처럼 해석가능 "
   ]
  },
  {
   "cell_type": "markdown",
   "id": "bc37225a-5778-4f46-8dad-b87fbc32f0cb",
   "metadata": {},
   "source": [
    "## 1차원 배열의 선언 "
   ]
  },
  {
   "cell_type": "markdown",
   "id": "1c3013af-d2f5-436b-b895-ce5c98e1bb36",
   "metadata": {},
   "source": [
    "`-` 리스트나 튜플을 선언하고 형변환 "
   ]
  },
  {
   "cell_type": "code",
   "execution_count": 166,
   "id": "3de506da-1bac-4022-8666-2867fe205aef",
   "metadata": {},
   "outputs": [
    {
     "data": {
      "text/plain": [
       "array([1, 2, 3])"
      ]
     },
     "execution_count": 166,
     "metadata": {},
     "output_type": "execute_result"
    }
   ],
   "source": [
    "np.array((1,2,3)) # 튜플->넘파이어레이 "
   ]
  },
  {
   "cell_type": "code",
   "execution_count": 167,
   "id": "669f3058-244c-4fe4-934f-25342d735c78",
   "metadata": {},
   "outputs": [
    {
     "data": {
      "text/plain": [
       "array([1, 2, 3])"
      ]
     },
     "execution_count": 167,
     "metadata": {},
     "output_type": "execute_result"
    }
   ],
   "source": [
    "np.array([1,2,3]) # 리스트 ->넘파이어레이 "
   ]
  },
  {
   "cell_type": "markdown",
   "id": "9fc06250-e154-4613-b90f-a5beec96f243",
   "metadata": {},
   "source": [
    "`-` range()를 이용해서 선언하고 형변환 "
   ]
  },
  {
   "cell_type": "code",
   "execution_count": 133,
   "id": "616b8bfb-b9d4-4ae5-936c-cfaa6f577ab1",
   "metadata": {},
   "outputs": [
    {
     "data": {
      "text/plain": [
       "array([0, 1, 2, 3, 4, 5, 6, 7, 8, 9])"
      ]
     },
     "execution_count": 133,
     "metadata": {},
     "output_type": "execute_result"
    }
   ],
   "source": [
    "np.array(range(10)) # range(10) -> 넘파이어레이 "
   ]
  },
  {
   "cell_type": "markdown",
   "id": "eeaf6c0c-b949-48be-b3b5-6785ae0b486a",
   "metadata": {},
   "source": [
    "`-` np.zeros, np.ones"
   ]
  },
  {
   "cell_type": "code",
   "execution_count": 135,
   "id": "ac3774ab-6f17-4b94-a68b-ae712290f53d",
   "metadata": {},
   "outputs": [
    {
     "data": {
      "text/plain": [
       "array([0., 0., 0.])"
      ]
     },
     "execution_count": 135,
     "metadata": {},
     "output_type": "execute_result"
    }
   ],
   "source": [
    "np.zeros(3) "
   ]
  },
  {
   "cell_type": "code",
   "execution_count": 137,
   "id": "fe38e90b-920d-4e29-b43e-0d889e3266c1",
   "metadata": {},
   "outputs": [
    {
     "data": {
      "text/plain": [
       "array([1., 1., 1., 1.])"
      ]
     },
     "execution_count": 137,
     "metadata": {},
     "output_type": "execute_result"
    }
   ],
   "source": [
    "np.ones(4)"
   ]
  },
  {
   "cell_type": "markdown",
   "id": "83ac6a1c-84e8-443c-9023-3527796001a8",
   "metadata": {},
   "source": [
    "`-` np.linspace "
   ]
  },
  {
   "cell_type": "code",
   "execution_count": 184,
   "id": "16dfe855-350d-4534-a6d7-ce0179cf6a6f",
   "metadata": {},
   "outputs": [
    {
     "data": {
      "text/plain": [
       "array([0.        , 0.09090909, 0.18181818, 0.27272727, 0.36363636,\n",
       "       0.45454545, 0.54545455, 0.63636364, 0.72727273, 0.81818182,\n",
       "       0.90909091, 1.        ])"
      ]
     },
     "execution_count": 184,
     "metadata": {},
     "output_type": "execute_result"
    }
   ],
   "source": [
    "np.linspace(0,1,12) # 0에서 시작하고 1에서 끝남 (양끝점 모두 포함)"
   ]
  },
  {
   "cell_type": "code",
   "execution_count": 142,
   "id": "718ae69c-69e1-4d76-b48f-2a3d85f3b853",
   "metadata": {},
   "outputs": [
    {
     "data": {
      "text/plain": [
       "12"
      ]
     },
     "execution_count": 142,
     "metadata": {},
     "output_type": "execute_result"
    }
   ],
   "source": [
    "len(np.linspace(0,1,12)) # 길이는 12"
   ]
  },
  {
   "cell_type": "markdown",
   "id": "8f4af769-e342-487c-9fc7-73ee9b7f45f1",
   "metadata": {},
   "source": [
    "`-` np.arange"
   ]
  },
  {
   "cell_type": "code",
   "execution_count": 189,
   "id": "6d2de2ee-ecc8-409a-b958-a2bda810537a",
   "metadata": {},
   "outputs": [
    {
     "data": {
      "text/plain": [
       "array([0, 1, 2, 3, 4])"
      ]
     },
     "execution_count": 189,
     "metadata": {},
     "output_type": "execute_result"
    }
   ],
   "source": [
    "np.arange(5) # np.array(range(5))"
   ]
  },
  {
   "cell_type": "code",
   "execution_count": 190,
   "id": "96a13589-3084-4502-8a15-6ec9c6ecca36",
   "metadata": {},
   "outputs": [
    {
     "data": {
      "text/plain": [
       "array([1, 2, 3, 4, 5])"
      ]
     },
     "execution_count": 190,
     "metadata": {},
     "output_type": "execute_result"
    }
   ],
   "source": [
    "np.arange(1,6) # np.array(range(1,6))"
   ]
  },
  {
   "cell_type": "markdown",
   "id": "ea9f02c6-137e-4d28-b3cb-2f2ea25e927c",
   "metadata": {},
   "source": [
    "## reshape ($\\star$)"
   ]
  },
  {
   "cell_type": "markdown",
   "id": "aea21768-a609-41d1-8547-88a19912a9a0",
   "metadata": {},
   "source": [
    "`-` reshape: ndarray의 특수한 기능 "
   ]
  },
  {
   "cell_type": "code",
   "execution_count": 197,
   "id": "4731e325-ab66-4463-a754-e46af4b78345",
   "metadata": {},
   "outputs": [
    {
     "data": {
      "text/plain": [
       "array([11, 22, 33, 44, 55, 66])"
      ]
     },
     "execution_count": 197,
     "metadata": {},
     "output_type": "execute_result"
    }
   ],
   "source": [
    "a=np.array([11,22,33,44,55,66])\n",
    "a ## 길이가 6인 벡터 "
   ]
  },
  {
   "cell_type": "code",
   "execution_count": 198,
   "id": "dc0791b2-2774-45cc-bee8-e66b08a843b6",
   "metadata": {},
   "outputs": [
    {
     "data": {
      "text/plain": [
       "array([[11, 22, 33],\n",
       "       [44, 55, 66]])"
      ]
     },
     "execution_count": 198,
     "metadata": {},
     "output_type": "execute_result"
    }
   ],
   "source": [
    "a.reshape(2,3) ## (2,3) matrix 라고 생각해도 무방 "
   ]
  },
  {
   "cell_type": "markdown",
   "id": "87b30fad-6a4d-40df-9469-f4a00078ca4e",
   "metadata": {},
   "source": [
    "note: reshape은 a자체를 변화시키는것은 아님 "
   ]
  },
  {
   "cell_type": "code",
   "execution_count": 207,
   "id": "3d1b3d98-bed1-49ca-aba0-aa028b9a0a1a",
   "metadata": {},
   "outputs": [
    {
     "data": {
      "text/plain": [
       "array([11, 22, 33, 44, 55, 66])"
      ]
     },
     "execution_count": 207,
     "metadata": {},
     "output_type": "execute_result"
    }
   ],
   "source": [
    "a # a는 그대로 있음 "
   ]
  },
  {
   "cell_type": "code",
   "execution_count": 208,
   "id": "21e92247-3bad-4dbd-b90b-575a4882b77e",
   "metadata": {},
   "outputs": [
    {
     "data": {
      "text/plain": [
       "array([[11, 22, 33],\n",
       "       [44, 55, 66]])"
      ]
     },
     "execution_count": 208,
     "metadata": {},
     "output_type": "execute_result"
    }
   ],
   "source": [
    "b= a.reshape(2,3) # a를 reshape한 결과를 b에 저장 \n",
    "b"
   ]
  },
  {
   "cell_type": "code",
   "execution_count": 170,
   "id": "9d7a19da-c4f9-4780-9c45-8ed12ae468e2",
   "metadata": {},
   "outputs": [
    {
     "data": {
      "text/plain": [
       "array([11, 22, 33, 44, 55, 66])"
      ]
     },
     "execution_count": 170,
     "metadata": {},
     "output_type": "execute_result"
    }
   ],
   "source": [
    "a # a는 여전히 그대로 있음"
   ]
  },
  {
   "cell_type": "markdown",
   "id": "1df07db5-b448-4a61-8ba0-70ac990e49c7",
   "metadata": {},
   "source": [
    "`-` 다시 b를 a처럼 바꾸고 싶다 "
   ]
  },
  {
   "cell_type": "code",
   "execution_count": 171,
   "id": "bcacae02-f02c-4d7d-aeda-bc1b19c8e88b",
   "metadata": {},
   "outputs": [
    {
     "data": {
      "text/plain": [
       "array([[11, 22, 33],\n",
       "       [44, 55, 66]])"
      ]
     },
     "execution_count": 171,
     "metadata": {},
     "output_type": "execute_result"
    }
   ],
   "source": [
    "b"
   ]
  },
  {
   "cell_type": "code",
   "execution_count": 174,
   "id": "5af9b148-56be-471a-939a-c968307f9a61",
   "metadata": {},
   "outputs": [
    {
     "data": {
      "text/plain": [
       "array([11, 22, 33, 44, 55, 66])"
      ]
     },
     "execution_count": 174,
     "metadata": {},
     "output_type": "execute_result"
    }
   ],
   "source": [
    "b.reshape(6) # b는 (2,3) matrix , 그런데 이것을 길이가 6인 벡터로 만들고 싶다. "
   ]
  },
  {
   "cell_type": "markdown",
   "id": "4b0e469b-00ff-40b5-95c6-9d489096fe41",
   "metadata": {},
   "source": [
    "`-` reshape with -1 "
   ]
  },
  {
   "cell_type": "code",
   "execution_count": 180,
   "id": "9403d743-e9ae-4a21-917e-1fcc2ab8fe43",
   "metadata": {},
   "outputs": [
    {
     "data": {
      "text/plain": [
       "array([ 0,  1,  2,  3,  4,  5,  6,  7,  8,  9, 10, 11, 12, 13, 14, 15, 16,\n",
       "       17, 18, 19, 20, 21, 22, 23])"
      ]
     },
     "execution_count": 180,
     "metadata": {},
     "output_type": "execute_result"
    }
   ],
   "source": [
    "a=np.arange(24) # np.array(range(24))\n",
    "a"
   ]
  },
  {
   "cell_type": "code",
   "execution_count": 185,
   "id": "96eaef8b-4785-42b9-b501-3a7c76a0eb6c",
   "metadata": {},
   "outputs": [
    {
     "data": {
      "text/plain": [
       "array([[ 0,  1,  2,  3,  4,  5,  6,  7,  8,  9, 10, 11],\n",
       "       [12, 13, 14, 15, 16, 17, 18, 19, 20, 21, 22, 23]])"
      ]
     },
     "execution_count": 185,
     "metadata": {},
     "output_type": "execute_result"
    }
   ],
   "source": [
    "a.reshape(2,-1)"
   ]
  },
  {
   "cell_type": "code",
   "execution_count": 186,
   "id": "0b2a2e78-87cb-4d72-bfda-d45452fa706c",
   "metadata": {},
   "outputs": [
    {
     "data": {
      "text/plain": [
       "array([[ 0,  1,  2,  3,  4,  5,  6,  7],\n",
       "       [ 8,  9, 10, 11, 12, 13, 14, 15],\n",
       "       [16, 17, 18, 19, 20, 21, 22, 23]])"
      ]
     },
     "execution_count": 186,
     "metadata": {},
     "output_type": "execute_result"
    }
   ],
   "source": [
    "a.reshape(3,-1)"
   ]
  },
  {
   "cell_type": "code",
   "execution_count": 187,
   "id": "0c0e19df-d09e-4134-ae05-fcf4682d7c2c",
   "metadata": {},
   "outputs": [
    {
     "data": {
      "text/plain": [
       "array([[ 0,  1,  2,  3,  4,  5],\n",
       "       [ 6,  7,  8,  9, 10, 11],\n",
       "       [12, 13, 14, 15, 16, 17],\n",
       "       [18, 19, 20, 21, 22, 23]])"
      ]
     },
     "execution_count": 187,
     "metadata": {},
     "output_type": "execute_result"
    }
   ],
   "source": [
    "a.reshape(4,-1)"
   ]
  },
  {
   "cell_type": "code",
   "execution_count": 188,
   "id": "69b2d2d5-74c3-401c-bf52-5ab1a8e55c8d",
   "metadata": {},
   "outputs": [
    {
     "ename": "ValueError",
     "evalue": "cannot reshape array of size 24 into shape (5,newaxis)",
     "output_type": "error",
     "traceback": [
      "\u001b[0;31m---------------------------------------------------------------------------\u001b[0m",
      "\u001b[0;31mValueError\u001b[0m                                Traceback (most recent call last)",
      "Input \u001b[0;32mIn [188]\u001b[0m, in \u001b[0;36m<cell line: 1>\u001b[0;34m()\u001b[0m\n\u001b[0;32m----> 1\u001b[0m \u001b[43ma\u001b[49m\u001b[38;5;241;43m.\u001b[39;49m\u001b[43mreshape\u001b[49m\u001b[43m(\u001b[49m\u001b[38;5;241;43m5\u001b[39;49m\u001b[43m,\u001b[49m\u001b[38;5;241;43m-\u001b[39;49m\u001b[38;5;241;43m1\u001b[39;49m\u001b[43m)\u001b[49m\n",
      "\u001b[0;31mValueError\u001b[0m: cannot reshape array of size 24 into shape (5,newaxis)"
     ]
    }
   ],
   "source": [
    "a.reshape(5,-1)"
   ]
  },
  {
   "cell_type": "code",
   "execution_count": 189,
   "id": "b207ba94-c3b1-4737-97d2-ef0a94f4177b",
   "metadata": {},
   "outputs": [
    {
     "data": {
      "text/plain": [
       "array([[ 0,  1,  2,  3],\n",
       "       [ 4,  5,  6,  7],\n",
       "       [ 8,  9, 10, 11],\n",
       "       [12, 13, 14, 15],\n",
       "       [16, 17, 18, 19],\n",
       "       [20, 21, 22, 23]])"
      ]
     },
     "execution_count": 189,
     "metadata": {},
     "output_type": "execute_result"
    }
   ],
   "source": [
    "a.reshape(6,-1)"
   ]
  },
  {
   "cell_type": "code",
   "execution_count": 190,
   "id": "1ae36f11-6d1c-4db0-8dd5-09de802896ef",
   "metadata": {},
   "outputs": [
    {
     "ename": "ValueError",
     "evalue": "cannot reshape array of size 24 into shape (7,newaxis)",
     "output_type": "error",
     "traceback": [
      "\u001b[0;31m---------------------------------------------------------------------------\u001b[0m",
      "\u001b[0;31mValueError\u001b[0m                                Traceback (most recent call last)",
      "Input \u001b[0;32mIn [190]\u001b[0m, in \u001b[0;36m<cell line: 1>\u001b[0;34m()\u001b[0m\n\u001b[0;32m----> 1\u001b[0m \u001b[43ma\u001b[49m\u001b[38;5;241;43m.\u001b[39;49m\u001b[43mreshape\u001b[49m\u001b[43m(\u001b[49m\u001b[38;5;241;43m7\u001b[39;49m\u001b[43m,\u001b[49m\u001b[38;5;241;43m-\u001b[39;49m\u001b[38;5;241;43m1\u001b[39;49m\u001b[43m)\u001b[49m\n",
      "\u001b[0;31mValueError\u001b[0m: cannot reshape array of size 24 into shape (7,newaxis)"
     ]
    }
   ],
   "source": [
    "a.reshape(7,-1)"
   ]
  },
  {
   "cell_type": "code",
   "execution_count": 191,
   "id": "46efedd9-26f4-4e39-b4d7-ef83e86f9ea6",
   "metadata": {},
   "outputs": [
    {
     "data": {
      "text/plain": [
       "array([[ 0,  1,  2],\n",
       "       [ 3,  4,  5],\n",
       "       [ 6,  7,  8],\n",
       "       [ 9, 10, 11],\n",
       "       [12, 13, 14],\n",
       "       [15, 16, 17],\n",
       "       [18, 19, 20],\n",
       "       [21, 22, 23]])"
      ]
     },
     "execution_count": 191,
     "metadata": {},
     "output_type": "execute_result"
    }
   ],
   "source": [
    "a.reshape(8,-1)"
   ]
  },
  {
   "cell_type": "code",
   "execution_count": 192,
   "id": "90c353ed-911d-4be1-a63e-38f3f30d72dc",
   "metadata": {},
   "outputs": [
    {
     "data": {
      "text/plain": [
       "array([[ 0,  1],\n",
       "       [ 2,  3],\n",
       "       [ 4,  5],\n",
       "       [ 6,  7],\n",
       "       [ 8,  9],\n",
       "       [10, 11],\n",
       "       [12, 13],\n",
       "       [14, 15],\n",
       "       [16, 17],\n",
       "       [18, 19],\n",
       "       [20, 21],\n",
       "       [22, 23]])"
      ]
     },
     "execution_count": 192,
     "metadata": {},
     "output_type": "execute_result"
    }
   ],
   "source": [
    "a.reshape(12,-1)"
   ]
  },
  {
   "cell_type": "code",
   "execution_count": 193,
   "id": "d4ea5808-dbc6-4f35-89fd-05863c87d1f3",
   "metadata": {},
   "outputs": [
    {
     "data": {
      "text/plain": [
       "array([[ 0,  1],\n",
       "       [ 2,  3],\n",
       "       [ 4,  5],\n",
       "       [ 6,  7],\n",
       "       [ 8,  9],\n",
       "       [10, 11],\n",
       "       [12, 13],\n",
       "       [14, 15],\n",
       "       [16, 17],\n",
       "       [18, 19],\n",
       "       [20, 21],\n",
       "       [22, 23]])"
      ]
     },
     "execution_count": 193,
     "metadata": {},
     "output_type": "execute_result"
    }
   ],
   "source": [
    "b= a.reshape(12,-1)\n",
    "b"
   ]
  },
  {
   "cell_type": "code",
   "execution_count": 197,
   "id": "004a3421-e410-4341-b41d-86362ff76959",
   "metadata": {},
   "outputs": [
    {
     "data": {
      "text/plain": [
       "array([ 0,  1,  2,  3,  4,  5,  6,  7,  8,  9, 10, 11, 12, 13, 14, 15, 16,\n",
       "       17, 18, 19, 20, 21, 22, 23])"
      ]
     },
     "execution_count": 197,
     "metadata": {},
     "output_type": "execute_result"
    }
   ],
   "source": [
    "b.reshape(-1) # b를 다시 길이가 24인 벡터로!"
   ]
  },
  {
   "cell_type": "markdown",
   "id": "1e383d7a-3c00-47ff-86b8-2102b68eae0f",
   "metadata": {},
   "source": [
    "## 2차원 배열의 선언 "
   ]
  },
  {
   "cell_type": "code",
   "execution_count": 198,
   "id": "3da3c67b-30b7-4cf1-872e-d310ea4055e1",
   "metadata": {},
   "outputs": [
    {
     "data": {
      "text/plain": [
       "array([[0., 0., 0.],\n",
       "       [0., 0., 0.],\n",
       "       [0., 0., 0.]])"
      ]
     },
     "execution_count": 198,
     "metadata": {},
     "output_type": "execute_result"
    }
   ],
   "source": [
    "np.zeros((3,3))"
   ]
  },
  {
   "cell_type": "code",
   "execution_count": 199,
   "id": "73c8e7f2-61f7-4325-b002-d4cbcef6bdf7",
   "metadata": {},
   "outputs": [
    {
     "data": {
      "text/plain": [
       "array([[1., 1., 1.],\n",
       "       [1., 1., 1.],\n",
       "       [1., 1., 1.]])"
      ]
     },
     "execution_count": 199,
     "metadata": {},
     "output_type": "execute_result"
    }
   ],
   "source": [
    "np.ones((3,3))"
   ]
  },
  {
   "cell_type": "code",
   "execution_count": 200,
   "id": "299f35b3-aabc-40e5-b15f-82fd4f2b4575",
   "metadata": {},
   "outputs": [
    {
     "data": {
      "text/plain": [
       "array([[1., 0., 0.],\n",
       "       [0., 1., 0.],\n",
       "       [0., 0., 1.]])"
      ]
     },
     "execution_count": 200,
     "metadata": {},
     "output_type": "execute_result"
    }
   ],
   "source": [
    "np.eye(3)"
   ]
  },
  {
   "cell_type": "code",
   "execution_count": 202,
   "id": "cfef5c30-b3ef-4587-9354-35820bef735f",
   "metadata": {},
   "outputs": [
    {
     "data": {
      "text/plain": [
       "array([[ 1,  0,  0,  0],\n",
       "       [ 0,  2,  0,  0],\n",
       "       [ 0,  0,  3,  0],\n",
       "       [ 0,  0,  0, -1]])"
      ]
     },
     "execution_count": 202,
     "metadata": {},
     "output_type": "execute_result"
    }
   ],
   "source": [
    "np.diag([1,2,3,-1])"
   ]
  },
  {
   "cell_type": "markdown",
   "id": "0c4a053f-6b01-4992-add0-98f2e1dacb0d",
   "metadata": {},
   "source": [
    "## 랜덤으로 배열 생성 "
   ]
  },
  {
   "cell_type": "code",
   "execution_count": 204,
   "id": "9b77680f-93dd-4dbf-81ca-61e0c6a9b389",
   "metadata": {},
   "outputs": [
    {
     "data": {
      "text/plain": [
       "array([ 0.27184979, -0.4540305 ,  0.24538219, -3.11389327,  1.06478234,\n",
       "        0.12051154,  0.01503231, -0.06744028,  2.30710253,  0.78840453])"
      ]
     },
     "execution_count": 204,
     "metadata": {},
     "output_type": "execute_result"
    }
   ],
   "source": [
    "np.random.randn(10) # 표쥰정규분포에서 10개를 뽑음 "
   ]
  },
  {
   "cell_type": "code",
   "execution_count": 205,
   "id": "95492076-4b69-474c-b22b-73a3376af346",
   "metadata": {},
   "outputs": [
    {
     "data": {
      "text/plain": [
       "array([0.67729671, 0.19584606, 0.4564896 , 0.9308976 , 0.49080792,\n",
       "       0.03410752, 0.47480477, 0.44519947, 0.20608611, 0.85576604])"
      ]
     },
     "execution_count": 205,
     "metadata": {},
     "output_type": "execute_result"
    }
   ],
   "source": [
    "np.random.rand(10) # 0~1사이에서 10개를 뽑음"
   ]
  },
  {
   "cell_type": "code",
   "execution_count": 247,
   "id": "f633f72b-1b63-44d2-aef9-91e36fbba440",
   "metadata": {},
   "outputs": [
    {
     "data": {
      "text/plain": [
       "array([[-0.44348217, -0.04732516],\n",
       "       [ 0.75768436, -0.15208593]])"
      ]
     },
     "execution_count": 247,
     "metadata": {},
     "output_type": "execute_result"
    }
   ],
   "source": [
    "np.random.randn(4).reshape(2,2) # 표준정규분포에서 4개를 뽑고 (2,2) ndarray로 형태변환 "
   ]
  },
  {
   "cell_type": "code",
   "execution_count": 208,
   "id": "ffe8f40d-18bc-4b08-817b-f03413e48cbc",
   "metadata": {},
   "outputs": [
    {
     "data": {
      "text/plain": [
       "array([[0.03708309, 0.56122376],\n",
       "       [0.80934488, 0.65723348]])"
      ]
     },
     "execution_count": 208,
     "metadata": {},
     "output_type": "execute_result"
    }
   ],
   "source": [
    "np.random.rand(4).reshape(2,2) # 0~1 4개를 뽑고 (2,2) ndarray로 형태변환 "
   ]
  },
  {
   "cell_type": "markdown",
   "id": "2a38062a-69bd-407f-a9b6-809ab89e2781",
   "metadata": {},
   "source": [
    "## 행렬관련기능"
   ]
  },
  {
   "cell_type": "code",
   "execution_count": 249,
   "id": "642c8453-3cae-410c-a5db-b87bb5f5a4b7",
   "metadata": {},
   "outputs": [
    {
     "data": {
      "text/plain": [
       "array([[0, 1],\n",
       "       [2, 3]])"
      ]
     },
     "execution_count": 249,
     "metadata": {},
     "output_type": "execute_result"
    }
   ],
   "source": [
    "A=np.arange(4).reshape(2,2) \n",
    "A"
   ]
  },
  {
   "cell_type": "code",
   "execution_count": 250,
   "id": "6f6f4580-bf90-42be-9638-163bb8a761df",
   "metadata": {},
   "outputs": [
    {
     "data": {
      "text/plain": [
       "array([[0, 2],\n",
       "       [1, 3]])"
      ]
     },
     "execution_count": 250,
     "metadata": {},
     "output_type": "execute_result"
    }
   ],
   "source": [
    "A.T # .T는 전치행렬을 구해줌 "
   ]
  },
  {
   "cell_type": "code",
   "execution_count": 221,
   "id": "f1ad1530-4df0-49ee-af18-460fac01f585",
   "metadata": {},
   "outputs": [
    {
     "data": {
      "text/plain": [
       "array([[-1.5,  0.5],\n",
       "       [ 1. ,  0. ]])"
      ]
     },
     "execution_count": 221,
     "metadata": {},
     "output_type": "execute_result"
    }
   ],
   "source": [
    "np.linalg.inv(A) # np.linalg.inv는 역행렬을 구해주는 함수 "
   ]
  },
  {
   "cell_type": "code",
   "execution_count": 254,
   "id": "4e90a130-c711-49c5-9d30-2399bacac8e4",
   "metadata": {},
   "outputs": [
    {
     "data": {
      "text/plain": [
       "array([[1., 0.],\n",
       "       [0., 1.]])"
      ]
     },
     "execution_count": 254,
     "metadata": {},
     "output_type": "execute_result"
    }
   ],
   "source": [
    "A @ np.linalg.inv(A) # @는 행렬곱을 수행 "
   ]
  },
  {
   "cell_type": "markdown",
   "id": "b86aa771-c120-4816-aded-b74e311ba4f0",
   "metadata": {},
   "source": [
    "# 넘파이 공부 3단계: 차원 "
   ]
  },
  {
   "cell_type": "markdown",
   "id": "5f41b23d-390e-4b79-bb91-b535f0468a58",
   "metadata": {},
   "source": [
    "## 2차원 배열과 연립 1차 방정식 "
   ]
  },
  {
   "cell_type": "markdown",
   "id": "73512757-cd8b-4dac-b69d-334d2fb8a440",
   "metadata": {},
   "source": [
    "`-` 아래의 연립방정식 고려 \n",
    "\n",
    "$\\begin{cases}\n",
    "y+z+w = 3 \\\\ \n",
    "x+z+w = 3 \\\\ \n",
    "x+y+w = 3 \\\\\n",
    "x+y+z = 3 \n",
    "\\end{cases}$"
   ]
  },
  {
   "cell_type": "markdown",
   "id": "15f482d9-ea95-4973-a8ee-6f2612cee2e7",
   "metadata": {},
   "source": [
    "`-` 행렬표현? \n",
    "\n",
    "$\\begin{bmatrix} \n",
    "0 & 1 & 1 & 1 \\\\\n",
    "1 & 0 & 1 & 1 \\\\\n",
    "1 & 1 & 0 & 1 \\\\\n",
    "1 & 1 & 1 & 0 \n",
    "\\end{bmatrix}\n",
    "\\begin{bmatrix}\n",
    "x \\\\ \n",
    "y \\\\ \n",
    "z \\\\ \n",
    "w \n",
    "\\end{bmatrix} =\n",
    "\\begin{bmatrix}\n",
    "3 \\\\ \n",
    "3 \\\\ \n",
    "3 \\\\ \n",
    "3 \n",
    "\\end{bmatrix}$\n"
   ]
  },
  {
   "cell_type": "markdown",
   "id": "da61cf9f-3e7f-4b2a-a88a-8f574c6aee29",
   "metadata": {},
   "source": [
    "`-` 풀이"
   ]
  },
  {
   "cell_type": "code",
   "execution_count": 3,
   "id": "fcb12768-c763-4243-be10-5405ba738336",
   "metadata": {},
   "outputs": [
    {
     "data": {
      "text/plain": [
       "array([[0, 1, 1, 1],\n",
       "       [1, 0, 1, 1],\n",
       "       [1, 1, 0, 1],\n",
       "       [1, 1, 1, 0]])"
      ]
     },
     "execution_count": 3,
     "metadata": {},
     "output_type": "execute_result"
    }
   ],
   "source": [
    "A = np.array([[0,1,1,1],[1,0,1,1],[1,1,0,1],[1,1,1,0]])\n",
    "A"
   ]
  },
  {
   "cell_type": "code",
   "execution_count": 5,
   "id": "2c54484b-90a0-42cc-9c79-175feb552791",
   "metadata": {},
   "outputs": [
    {
     "data": {
      "text/plain": [
       "array([[3],\n",
       "       [3],\n",
       "       [3],\n",
       "       [3]])"
      ]
     },
     "execution_count": 5,
     "metadata": {},
     "output_type": "execute_result"
    }
   ],
   "source": [
    "b= np.array([3,3,3,3]).reshape(4,1)\n",
    "b"
   ]
  },
  {
   "cell_type": "code",
   "execution_count": 7,
   "id": "c5e4dd47-25d5-49b7-a554-68b062458ead",
   "metadata": {},
   "outputs": [
    {
     "data": {
      "text/plain": [
       "array([[1.],\n",
       "       [1.],\n",
       "       [1.],\n",
       "       [1.]])"
      ]
     },
     "execution_count": 7,
     "metadata": {},
     "output_type": "execute_result"
    }
   ],
   "source": [
    "np.linalg.inv(A) @ b "
   ]
  },
  {
   "cell_type": "markdown",
   "id": "163fff6a-a192-40d4-a804-255900f27683",
   "metadata": {},
   "source": [
    "`-` 다른풀이 "
   ]
  },
  {
   "cell_type": "markdown",
   "id": "89d020bc-9065-4b88-b4ad-1a49add61219",
   "metadata": {},
   "source": [
    "b를 아래와 같이 만들어도 된다. "
   ]
  },
  {
   "cell_type": "code",
   "execution_count": 267,
   "id": "b9bb8c56-d5f7-46a8-8be6-e5939333b607",
   "metadata": {},
   "outputs": [
    {
     "data": {
      "text/plain": [
       "array([3, 3, 3, 3])"
      ]
     },
     "execution_count": 267,
     "metadata": {},
     "output_type": "execute_result"
    }
   ],
   "source": [
    "b=np.array([3,3,3,3])\n",
    "b"
   ]
  },
  {
   "cell_type": "code",
   "execution_count": 268,
   "id": "74e32084-28f9-4921-8a55-4e0eb4030104",
   "metadata": {},
   "outputs": [
    {
     "data": {
      "text/plain": [
       "(4,)"
      ]
     },
     "execution_count": 268,
     "metadata": {},
     "output_type": "execute_result"
    }
   ],
   "source": [
    "b.shape # b.shape은 길이가 1인 튜플로 나온다. "
   ]
  },
  {
   "cell_type": "code",
   "execution_count": 269,
   "id": "03d60158-22d5-4d2f-b5d0-92c3d68a2669",
   "metadata": {},
   "outputs": [
    {
     "data": {
      "text/plain": [
       "array([1., 1., 1., 1.])"
      ]
     },
     "execution_count": 269,
     "metadata": {},
     "output_type": "execute_result"
    }
   ],
   "source": [
    "np.linalg.inv(A) @ b "
   ]
  },
  {
   "cell_type": "markdown",
   "id": "871a531a-c626-450c-a01c-53e9ec27f0e8",
   "metadata": {},
   "source": [
    "## `@`의 유연성 "
   ]
  },
  {
   "cell_type": "markdown",
   "id": "e312af71-7e76-46d6-ae38-0ea74cfd5258",
   "metadata": {},
   "source": [
    "`-` 엄밀하게는 아래의 행렬곱이 가능하다. \n",
    "\n",
    "- (2,2) @ (2,1) => (2,1) \n",
    "- (1,2) @ (2,2) => (1,2) "
   ]
  },
  {
   "cell_type": "code",
   "execution_count": 372,
   "id": "534be66a-89cc-4df9-b96d-e57c772926c9",
   "metadata": {},
   "outputs": [
    {
     "data": {
      "text/plain": [
       "array([[ 5],\n",
       "       [11]])"
      ]
     },
     "execution_count": 372,
     "metadata": {},
     "output_type": "execute_result"
    }
   ],
   "source": [
    "A = np.array([1,2,3,4]).reshape(2,2) \n",
    "b = np.array([1,2]).reshape(2,1) \n",
    "A@b"
   ]
  },
  {
   "cell_type": "code",
   "execution_count": 271,
   "id": "dd08237d-5a3f-4430-af12-90f34d42fd6c",
   "metadata": {},
   "outputs": [
    {
     "data": {
      "text/plain": [
       "((2, 2), (2, 1), (2, 1))"
      ]
     },
     "execution_count": 271,
     "metadata": {},
     "output_type": "execute_result"
    }
   ],
   "source": [
    "A.shape, b.shape, (A@b).shape"
   ]
  },
  {
   "cell_type": "code",
   "execution_count": 380,
   "id": "91641a15-4816-4bea-a44a-a9ca503ada37",
   "metadata": {},
   "outputs": [
    {
     "data": {
      "text/plain": [
       "array([[ 7, 10]])"
      ]
     },
     "execution_count": 380,
     "metadata": {},
     "output_type": "execute_result"
    }
   ],
   "source": [
    "A = np.array([1,2,3,4]).reshape(2,2) \n",
    "b = np.array([1,2]).reshape(1,2) \n",
    "b@A "
   ]
  },
  {
   "cell_type": "code",
   "execution_count": 381,
   "id": "b469b513-1374-430d-9499-87a7717b230e",
   "metadata": {},
   "outputs": [
    {
     "data": {
      "text/plain": [
       "((2, 2), (1, 2), (1, 2))"
      ]
     },
     "execution_count": 381,
     "metadata": {},
     "output_type": "execute_result"
    }
   ],
   "source": [
    "A.shape, b.shape, (b@A).shape"
   ]
  },
  {
   "cell_type": "markdown",
   "id": "eb537b22-1fed-4652-9785-8b2e732d375f",
   "metadata": {},
   "source": [
    "`-` 당연히 아래는 성립안한다. "
   ]
  },
  {
   "cell_type": "code",
   "execution_count": 382,
   "id": "30d5b5b1-15c0-4286-ba98-b55e739490f6",
   "metadata": {},
   "outputs": [
    {
     "ename": "ValueError",
     "evalue": "matmul: Input operand 1 has a mismatch in its core dimension 0, with gufunc signature (n?,k),(k,m?)->(n?,m?) (size 2 is different from 1)",
     "output_type": "error",
     "traceback": [
      "\u001b[0;31m--------------------------------------------------------------------\u001b[0m",
      "\u001b[0;31mValueError\u001b[0m                         Traceback (most recent call last)",
      "Cell \u001b[0;32mIn[382], line 3\u001b[0m\n\u001b[1;32m      1\u001b[0m A \u001b[38;5;241m=\u001b[39m np\u001b[38;5;241m.\u001b[39marray([\u001b[38;5;241m1\u001b[39m,\u001b[38;5;241m2\u001b[39m,\u001b[38;5;241m3\u001b[39m,\u001b[38;5;241m4\u001b[39m])\u001b[38;5;241m.\u001b[39mreshape(\u001b[38;5;241m2\u001b[39m,\u001b[38;5;241m2\u001b[39m) \n\u001b[1;32m      2\u001b[0m b \u001b[38;5;241m=\u001b[39m np\u001b[38;5;241m.\u001b[39marray([\u001b[38;5;241m1\u001b[39m,\u001b[38;5;241m2\u001b[39m])\u001b[38;5;241m.\u001b[39mreshape(\u001b[38;5;241m2\u001b[39m,\u001b[38;5;241m1\u001b[39m) \n\u001b[0;32m----> 3\u001b[0m \u001b[43mb\u001b[49m\u001b[38;5;129;43m@A\u001b[39;49m\n",
      "\u001b[0;31mValueError\u001b[0m: matmul: Input operand 1 has a mismatch in its core dimension 0, with gufunc signature (n?,k),(k,m?)->(n?,m?) (size 2 is different from 1)"
     ]
    }
   ],
   "source": [
    "A = np.array([1,2,3,4]).reshape(2,2) \n",
    "b = np.array([1,2]).reshape(2,1) \n",
    "b@A"
   ]
  },
  {
   "cell_type": "code",
   "execution_count": 385,
   "id": "2154c269-ab58-43aa-af83-a5be388a0de4",
   "metadata": {},
   "outputs": [
    {
     "ename": "ValueError",
     "evalue": "matmul: Input operand 1 has a mismatch in its core dimension 0, with gufunc signature (n?,k),(k,m?)->(n?,m?) (size 1 is different from 2)",
     "output_type": "error",
     "traceback": [
      "\u001b[0;31m--------------------------------------------------------------------\u001b[0m",
      "\u001b[0;31mValueError\u001b[0m                         Traceback (most recent call last)",
      "Cell \u001b[0;32mIn[385], line 3\u001b[0m\n\u001b[1;32m      1\u001b[0m A \u001b[38;5;241m=\u001b[39m np\u001b[38;5;241m.\u001b[39marray([\u001b[38;5;241m1\u001b[39m,\u001b[38;5;241m2\u001b[39m,\u001b[38;5;241m3\u001b[39m,\u001b[38;5;241m4\u001b[39m])\u001b[38;5;241m.\u001b[39mreshape(\u001b[38;5;241m2\u001b[39m,\u001b[38;5;241m2\u001b[39m) \n\u001b[1;32m      2\u001b[0m b \u001b[38;5;241m=\u001b[39m np\u001b[38;5;241m.\u001b[39marray([\u001b[38;5;241m1\u001b[39m,\u001b[38;5;241m2\u001b[39m])\u001b[38;5;241m.\u001b[39mreshape(\u001b[38;5;241m1\u001b[39m,\u001b[38;5;241m2\u001b[39m) \n\u001b[0;32m----> 3\u001b[0m \u001b[43mA\u001b[49m\u001b[38;5;129;43m@b\u001b[39;49m\n",
      "\u001b[0;31mValueError\u001b[0m: matmul: Input operand 1 has a mismatch in its core dimension 0, with gufunc signature (n?,k),(k,m?)->(n?,m?) (size 1 is different from 2)"
     ]
    }
   ],
   "source": [
    "A = np.array([1,2,3,4]).reshape(2,2) \n",
    "b = np.array([1,2]).reshape(1,2) \n",
    "A@b"
   ]
  },
  {
   "cell_type": "markdown",
   "id": "3c14006a-e058-4674-a3d4-edadf14ee5d8",
   "metadata": {},
   "source": [
    "`-` 아래는 어떨까? 계산가능할까? $\\to$ 모두 계산가능!\n",
    "\n",
    "- (2,) @ (2,2) = (2,) \n",
    "- (2,2) @ (2,) = (2,) "
   ]
  },
  {
   "cell_type": "code",
   "execution_count": 386,
   "id": "fe6cc482-c2b7-49d5-b305-d0b127eaf846",
   "metadata": {},
   "outputs": [
    {
     "data": {
      "text/plain": [
       "array([ 5, 11])"
      ]
     },
     "execution_count": 386,
     "metadata": {},
     "output_type": "execute_result"
    }
   ],
   "source": [
    "A = np.array([1,2,3,4]).reshape(2,2)\n",
    "b = np.array([1,2]) \n",
    "A@b"
   ]
  },
  {
   "cell_type": "code",
   "execution_count": 26,
   "id": "a8715bc2-d8a8-4d06-97a7-648a8c24105d",
   "metadata": {},
   "outputs": [
    {
     "data": {
      "text/plain": [
       "((2, 2), (2,), (2,))"
      ]
     },
     "execution_count": 26,
     "metadata": {},
     "output_type": "execute_result"
    }
   ],
   "source": [
    "A.shape, b.shape, (A@b).shape "
   ]
  },
  {
   "cell_type": "markdown",
   "id": "f380487c-e7c9-4299-baf4-a93d88bd5073",
   "metadata": {},
   "source": [
    "- b를 마치 (2,1)처럼 해석하여 행렬곱하고 결과는 다시 (2,) 로 만든것 같다. "
   ]
  },
  {
   "cell_type": "code",
   "execution_count": 387,
   "id": "46bf60ca-8595-4bb5-bc1f-c66baf383814",
   "metadata": {},
   "outputs": [
    {
     "data": {
      "text/plain": [
       "array([ 7, 10])"
      ]
     },
     "execution_count": 387,
     "metadata": {},
     "output_type": "execute_result"
    }
   ],
   "source": [
    "b@A"
   ]
  },
  {
   "cell_type": "code",
   "execution_count": 289,
   "id": "339a4fff-0d3a-407a-ba05-fefc3e18b85c",
   "metadata": {},
   "outputs": [
    {
     "data": {
      "text/plain": [
       "((2, 2), (2,), (2,))"
      ]
     },
     "execution_count": 289,
     "metadata": {},
     "output_type": "execute_result"
    }
   ],
   "source": [
    "A.shape, b.shape, (b@A).shape "
   ]
  },
  {
   "cell_type": "markdown",
   "id": "898d4e46-2f50-42b3-8b83-177e4224452e",
   "metadata": {},
   "source": [
    "- 이때는 $b$를 마치 (1,2)처럼 해석하여 행렬곱하고 결과는 다시 (2,)로 만든것 같다. "
   ]
  },
  {
   "cell_type": "markdown",
   "id": "2e46d070-f128-4b5d-85d1-f59643df4e72",
   "metadata": {},
   "source": [
    "`-` 아래는 어떠할까? "
   ]
  },
  {
   "cell_type": "code",
   "execution_count": 394,
   "id": "7e56ef62-0454-4744-83d8-140c629dc794",
   "metadata": {},
   "outputs": [
    {
     "data": {
      "text/plain": [
       "30"
      ]
     },
     "execution_count": 394,
     "metadata": {},
     "output_type": "execute_result"
    }
   ],
   "source": [
    "b1 = np.array([1,2,3,4]) \n",
    "b2 = np.array([1,2,3,4]) \n",
    "b1@b2 "
   ]
  },
  {
   "cell_type": "code",
   "execution_count": 31,
   "id": "12b15df4-7a05-4da0-83e4-0b3ce798b5b0",
   "metadata": {},
   "outputs": [
    {
     "data": {
      "text/plain": [
       "((4,), (4,), ())"
      ]
     },
     "execution_count": 31,
     "metadata": {},
     "output_type": "execute_result"
    }
   ],
   "source": [
    "b1.shape, b2.shape, (b1@b2).shape "
   ]
  },
  {
   "cell_type": "markdown",
   "id": "9a903d11-002d-4f2a-b809-d37875de3922",
   "metadata": {},
   "source": [
    "- (1,4) @ (4,1) = (1,1) 로 생각 "
   ]
  },
  {
   "cell_type": "markdown",
   "id": "459f0f25-cdc7-4a37-a9bc-167f638ca2ab",
   "metadata": {},
   "source": [
    "`-` 즉 위는 아래와 같이 해석하고 행렬곱한것과 결과가 같다. "
   ]
  },
  {
   "cell_type": "code",
   "execution_count": 395,
   "id": "ad90a7bc-6eae-46df-983b-42702c08f914",
   "metadata": {},
   "outputs": [
    {
     "data": {
      "text/plain": [
       "array([[30]])"
      ]
     },
     "execution_count": 395,
     "metadata": {},
     "output_type": "execute_result"
    }
   ],
   "source": [
    "b1 = np.array([1,2,3,4]).reshape(1,4) \n",
    "b2 = np.array([1,2,3,4]).reshape(4,1) \n",
    "b1@b2 "
   ]
  },
  {
   "cell_type": "code",
   "execution_count": 36,
   "id": "85e0b3e1-33f6-4bf7-a1f0-40948c62f6cd",
   "metadata": {},
   "outputs": [
    {
     "data": {
      "text/plain": [
       "((1, 4), (4, 1), (1, 1))"
      ]
     },
     "execution_count": 36,
     "metadata": {},
     "output_type": "execute_result"
    }
   ],
   "source": [
    "b1.shape, b2.shape, (b1@b2).shape "
   ]
  },
  {
   "cell_type": "markdown",
   "id": "1a0ce128-f05b-41e0-9255-a40dc88b4e35",
   "metadata": {},
   "source": [
    "`-` 때로는 (4,1) @ (1,4)와 같은 계산결과를 얻고 싶을 수 있는데 이때는 차원을 명시해야함 "
   ]
  },
  {
   "cell_type": "code",
   "execution_count": 396,
   "id": "48657603-5709-451b-8835-d7e0fd8639fc",
   "metadata": {},
   "outputs": [
    {
     "data": {
      "text/plain": [
       "array([[ 1,  2,  3,  4],\n",
       "       [ 2,  4,  6,  8],\n",
       "       [ 3,  6,  9, 12],\n",
       "       [ 4,  8, 12, 16]])"
      ]
     },
     "execution_count": 396,
     "metadata": {},
     "output_type": "execute_result"
    }
   ],
   "source": [
    "b1 = np.array([1,2,3,4]).reshape(4,1) \n",
    "b2 = np.array([1,2,3,4]).reshape(1,4) \n",
    "b1@b2 "
   ]
  },
  {
   "cell_type": "markdown",
   "id": "19bde2b8-4e39-49c2-bd31-fa66685ec28e",
   "metadata": {},
   "source": [
    "**참고: 평균을 구하는 신기한 코드** "
   ]
  },
  {
   "cell_type": "code",
   "execution_count": 78,
   "id": "a7b03e21-35a5-4aec-85b8-8ecc42b370d8",
   "metadata": {},
   "outputs": [],
   "source": [
    "x = np.random.randn(100)"
   ]
  },
  {
   "cell_type": "code",
   "execution_count": 79,
   "id": "311dda6e-6771-4587-a847-71bc0aea625e",
   "metadata": {},
   "outputs": [
    {
     "data": {
      "text/plain": [
       "0.04274275334613641"
      ]
     },
     "execution_count": 79,
     "metadata": {},
     "output_type": "execute_result"
    }
   ],
   "source": [
    "np.array([1/100]*100) @ x  ## x의 평균을 구하라는 의미"
   ]
  },
  {
   "cell_type": "code",
   "execution_count": 80,
   "id": "ff94e0ad-a67d-4ef5-84dc-ab3170631fbb",
   "metadata": {},
   "outputs": [
    {
     "data": {
      "text/plain": [
       "0.04274275334613641"
      ]
     },
     "execution_count": 80,
     "metadata": {},
     "output_type": "execute_result"
    }
   ],
   "source": [
    "np.mean(x)"
   ]
  },
  {
   "cell_type": "markdown",
   "id": "56c0b9f1-0112-4a7a-b808-29d40d40cfda",
   "metadata": {},
   "source": [
    "# HW "
   ]
  },
  {
   "cell_type": "markdown",
   "id": "08572705-b17b-49c3-886e-6d5fa5803d0e",
   "metadata": {},
   "source": [
    "`1`. shape이 ()인 numpy이 array를 만들어라. (즉 차원이 0인 np.array를 만들어라) // 2022-중간고사-1-(19)"
   ]
  },
  {
   "cell_type": "markdown",
   "id": "96007583-94de-400d-a67e-99c1d8f8790b",
   "metadata": {},
   "source": [
    "`2` a의 모든 원소에 1을 더하는 코드를 작성하라. // 2022-중간고사-1-(21)\n",
    "\n",
    "```python\n",
    "a=[1,3,2,5,-3,3,8,2,3,1] \n",
    "```"
   ]
  },
  {
   "cell_type": "markdown",
   "id": "6b7ca345-f877-4e38-bd21-b5d557c31dd1",
   "metadata": {},
   "source": [
    "`3` 아래와 같은 수열을 생생성하라. // 2022-중간고사-1-(23)\n",
    "```\n",
    "0,1,2,3,4,5,...,99 \n",
    "```"
   ]
  },
  {
   "cell_type": "markdown",
   "id": "83495876-2d67-4e89-88e3-0f94c60f8963",
   "metadata": {},
   "source": [
    "위의 수열에서 1,4,7,10,13,... 번째의 원소를 뽑아라. (첫번째 원소는 0이다) "
   ]
  },
  {
   "cell_type": "markdown",
   "id": "fa9829f5-1bcf-4414-b781-b67ad9d47e09",
   "metadata": {},
   "source": [
    "`4`. shape이 (5,5)인 단위행렬을 만들어라. // 2022-중간고사-1-(20)"
   ]
  },
  {
   "cell_type": "markdown",
   "id": "c6c6457b-b5bd-435e-ab4e-8adc650888a5",
   "metadata": {},
   "source": [
    "`5`. numpy를 이용하여 아래의 역행렬을 구하라. // 2022-중간고사-1-(24)\n",
    "\n",
    "$$\\begin{bmatrix}\n",
    "1&  0 \\\\\n",
    "0&  3\n",
    "\\end{bmatrix}$$"
   ]
  },
  {
   "cell_type": "markdown",
   "id": "e71e5573-57eb-4d87-94f9-55a623931278",
   "metadata": {},
   "source": [
    "`6`. 본인의 학번으로 랜덤시드를 설정하고 표준정규분포에서 1000개의 난수를 생성하라. // 2022-중간고사-1-(34)\n",
    "\n",
    "```Python\n",
    "# 학번이 2021-43052 라면 아래와 같이 시드설정 \n",
    "np.random.seed(202143052)\n",
    "```"
   ]
  },
  {
   "cell_type": "markdown",
   "id": "892ce254-c64f-4ed6-acb5-264bfd5c10d5",
   "metadata": {},
   "source": [
    "`7`. `6`의 결과로 나온 1000개의 난수중 1.96보다 크거나 -1.96보다 작은 작은값은 모두 몇개인가? "
   ]
  },
  {
   "cell_type": "markdown",
   "id": "b1cdb37d-4a40-4243-8809-5cdc8580c389",
   "metadata": {},
   "source": [
    "`8`. 아래와 같은 배열을 선언하라. // 2022-중간고사-1-(38)"
   ]
  },
  {
   "cell_type": "code",
   "execution_count": 62,
   "id": "37262d80-b95f-474d-a5bc-3e42cd7a6d86",
   "metadata": {},
   "outputs": [
    {
     "data": {
      "text/plain": [
       "array([[ 0,  1,  2,  3],\n",
       "       [ 4,  5,  6,  7],\n",
       "       [ 8,  9, 10, 11]])"
      ]
     },
     "execution_count": 62,
     "metadata": {},
     "output_type": "execute_result"
    }
   ],
   "source": [
    "a=np.arange(12).reshape(3,4)\n",
    "a"
   ]
  },
  {
   "cell_type": "markdown",
   "id": "d64d7ccf-d1e2-4fab-84a1-02f7c903d5ec",
   "metadata": {},
   "source": [
    "차원의 수를 유지하면서 1열을 추출하는 코드를 작성하라. 즉 결과가 아래와 같이 나오도록 하라. \n",
    "\n",
    "```\n",
    "array([[0],\n",
    "       [4],\n",
    "       [8]])\n",
    "```"
   ]
  },
  {
   "cell_type": "markdown",
   "id": "89a22e31-ba3f-41fe-961d-bd7eb07e2032",
   "metadata": {},
   "source": [
    "`9`. 아래의 코드를 관찰하라. // 2022-중간고사-1-(40)"
   ]
  },
  {
   "cell_type": "code",
   "execution_count": null,
   "id": "73129713-cc1c-4d82-bf00-716502bb0468",
   "metadata": {},
   "outputs": [],
   "source": [
    "np.random.seed(43052)\n",
    "a=np.random.randint(low=20,high=25,size=(10,10))"
   ]
  },
  {
   "cell_type": "markdown",
   "id": "77691a6a-7d68-40be-b3a2-3c2b5424c11c",
   "metadata": {},
   "source": [
    "a에서 20,21,22는 각각 몇개씩 있는가?"
   ]
  },
  {
   "cell_type": "markdown",
   "id": "48ec35dc-d303-4c20-bb5b-8770649f4434",
   "metadata": {},
   "source": [
    "**note** 공부를 위하여 `np.random.randint()`의 기능을 chatGPT등으로 확인해 볼 것 "
   ]
  },
  {
   "cell_type": "markdown",
   "id": "c334942a-b089-4507-b2fe-23e91b42ed6d",
   "metadata": {},
   "source": [
    "`10`. 아래의 코드를 관찰하라. "
   ]
  },
  {
   "cell_type": "code",
   "execution_count": 38,
   "id": "a5135cb2-1de0-490b-82a7-8d2cf9940bb5",
   "metadata": {},
   "outputs": [
    {
     "data": {
      "text/plain": [
       "[[True, False, False, False, False],\n",
       " [False, True, False, False, False],\n",
       " [False, False, True, False, False],\n",
       " [False, False, False, True, False],\n",
       " [False, False, False, False, True]]"
      ]
     },
     "execution_count": 38,
     "metadata": {},
     "output_type": "execute_result"
    }
   ],
   "source": [
    "lst = [[i==j for i in range(5)] for j in range(5)]\n",
    "lst"
   ]
  },
  {
   "cell_type": "markdown",
   "id": "462b3ef4-16f3-400f-a1a1-c2f3e513ca78",
   "metadata": {},
   "source": [
    "lst를 이용하여 shape이 (5,5)인 단위행렬을 만들어라. "
   ]
  },
  {
   "cell_type": "code",
   "execution_count": null,
   "id": "e870dfc5-d523-4b17-ab00-66b886d22669",
   "metadata": {},
   "outputs": [
    {
     "data": {
      "text/plain": [
       "array([[1, 0, 0, 0, 0],\n",
       "       [0, 1, 0, 0, 0],\n",
       "       [0, 0, 1, 0, 0],\n",
       "       [0, 0, 0, 1, 0],\n",
       "       [0, 0, 0, 0, 1]])"
      ]
     },
     "execution_count": 39,
     "metadata": {},
     "output_type": "execute_result"
    }
   ],
   "source": [
    "# 출력결과는 아래와 같이 나와야 한다. "
   ]
  },
  {
   "cell_type": "markdown",
   "id": "285aca35-792c-4b67-8930-b71d01522574",
   "metadata": {},
   "source": [
    "**hint**: 아래의 `코드1` 혹은 `코드2`를 참고할 것 "
   ]
  },
  {
   "cell_type": "markdown",
   "id": "81bcf665-d328-4a80-af76-55d87be0e50d",
   "metadata": {},
   "source": [
    "`코드1`"
   ]
  },
  {
   "cell_type": "code",
   "execution_count": 47,
   "id": "6f75bc3f-3e4c-4422-8c1e-acc907caf544",
   "metadata": {},
   "outputs": [
    {
     "data": {
      "text/plain": [
       "array([ True,  True, False])"
      ]
     },
     "execution_count": 47,
     "metadata": {},
     "output_type": "execute_result"
    }
   ],
   "source": [
    "np.array([True,True,False])"
   ]
  },
  {
   "cell_type": "code",
   "execution_count": 48,
   "id": "ed44d17c-a82a-493a-b858-c0fac964071a",
   "metadata": {},
   "outputs": [
    {
     "data": {
      "text/plain": [
       "array([1, 1, 0])"
      ]
     },
     "execution_count": 48,
     "metadata": {},
     "output_type": "execute_result"
    }
   ],
   "source": [
    "np.array([True,True,False])*1"
   ]
  },
  {
   "cell_type": "markdown",
   "id": "97dc4f7b-094c-45a6-8456-3bfe753b570e",
   "metadata": {},
   "source": [
    "`코드2`"
   ]
  },
  {
   "cell_type": "code",
   "execution_count": 49,
   "id": "329a4e27-dd41-4011-9a54-52ab52e3a159",
   "metadata": {},
   "outputs": [
    {
     "data": {
      "text/plain": [
       "array([1, 1, 0])"
      ]
     },
     "execution_count": 49,
     "metadata": {},
     "output_type": "execute_result"
    }
   ],
   "source": [
    "np.array([True,True,False],dtype=np.int64)"
   ]
  },
  {
   "cell_type": "markdown",
   "id": "aaf52487-12bb-4fe0-9357-7cf71fb247e0",
   "metadata": {},
   "source": [
    "`12`. 적당한 코드를 이용하여 아래와 같은 리스트를 생성하라. "
   ]
  },
  {
   "cell_type": "code",
   "execution_count": 27,
   "id": "abdd5ec4-0920-43de-ac16-ef1a7dc9c430",
   "metadata": {},
   "outputs": [
    {
     "data": {
      "text/plain": [
       "[[0, 1, 2, 3, 4],\n",
       " [1, 2, 3, 4, 5],\n",
       " [2, 3, 4, 5, 6],\n",
       " [3, 4, 5, 6, 7],\n",
       " [4, 5, 6, 7, 8]]"
      ]
     },
     "execution_count": 27,
     "metadata": {},
     "output_type": "execute_result"
    }
   ],
   "source": [
    "lst"
   ]
  },
  {
   "cell_type": "markdown",
   "id": "85add587-5af8-4731-9076-881927808505",
   "metadata": {},
   "source": [
    "이를 이용하여 아래와 같은 행렬을 선언하라. "
   ]
  },
  {
   "cell_type": "code",
   "execution_count": 28,
   "id": "d7582a15-4043-4773-a93a-aa143c6a8c9f",
   "metadata": {},
   "outputs": [
    {
     "data": {
      "text/plain": [
       "array([[0, 1, 2, 3, 4],\n",
       "       [1, 2, 3, 4, 5],\n",
       "       [2, 3, 4, 5, 6],\n",
       "       [3, 4, 5, 6, 7],\n",
       "       [4, 5, 6, 7, 8]])"
      ]
     },
     "execution_count": 28,
     "metadata": {},
     "output_type": "execute_result"
    }
   ],
   "source": [
    "arr "
   ]
  },
  {
   "cell_type": "markdown",
   "id": "ccf7a61a-fff5-4b33-989c-f72eb60164f2",
   "metadata": {},
   "source": [
    "**hint** 아래의 코드를 관찰"
   ]
  },
  {
   "cell_type": "code",
   "execution_count": 57,
   "id": "9794a417-1331-426f-a3c5-b91f46cb23aa",
   "metadata": {},
   "outputs": [
    {
     "data": {
      "text/plain": [
       "[[0, 0, 0, 0, 0],\n",
       " [0, 1, 2, 3, 4],\n",
       " [0, 2, 4, 6, 8],\n",
       " [0, 3, 6, 9, 12],\n",
       " [0, 4, 8, 12, 16]]"
      ]
     },
     "execution_count": 57,
     "metadata": {},
     "output_type": "execute_result"
    }
   ],
   "source": [
    "[[i*j for i in range(5)] for j in range(5)] "
   ]
  },
  {
   "cell_type": "markdown",
   "id": "ffe56748-c33b-4135-9266-4c3a02fa7b05",
   "metadata": {},
   "source": [
    "`13`. 적당한 코드를 이용하여 아래와 같은 행렬을 선언하라. "
   ]
  },
  {
   "cell_type": "code",
   "execution_count": 52,
   "id": "40851a95-0678-40cf-a86b-ffb4667f8669",
   "metadata": {},
   "outputs": [
    {
     "data": {
      "text/plain": [
       "array([[1, 1, 0, 0, 0, 0, 0, 0, 0, 0],\n",
       "       [1, 1, 1, 0, 0, 0, 0, 0, 0, 0],\n",
       "       [0, 1, 1, 1, 0, 0, 0, 0, 0, 0],\n",
       "       [0, 0, 1, 1, 1, 0, 0, 0, 0, 0],\n",
       "       [0, 0, 0, 1, 1, 1, 0, 0, 0, 0],\n",
       "       [0, 0, 0, 0, 1, 1, 1, 0, 0, 0],\n",
       "       [0, 0, 0, 0, 0, 1, 1, 1, 0, 0],\n",
       "       [0, 0, 0, 0, 0, 0, 1, 1, 1, 0],\n",
       "       [0, 0, 0, 0, 0, 0, 0, 1, 1, 1],\n",
       "       [0, 0, 0, 0, 0, 0, 0, 0, 1, 1]])"
      ]
     },
     "execution_count": 52,
     "metadata": {},
     "output_type": "execute_result"
    }
   ],
   "source": [
    "# 출력결과는 아래와 같아야 한다."
   ]
  },
  {
   "cell_type": "markdown",
   "id": "541b1b9c-9084-4143-a30e-89104d607884",
   "metadata": {},
   "source": [
    "`14`. 아래와 같은 배열이 있다고 하자. // 2022-중간고사-1-(31)"
   ]
  },
  {
   "cell_type": "code",
   "execution_count": 242,
   "id": "4dff41f9-7076-4c9b-9299-f51e885c4ce9",
   "metadata": {},
   "outputs": [],
   "source": [
    "a=np.array([1,2,3,4,5])\n",
    "b=np.array([3,2,1,1,2])"
   ]
  },
  {
   "cell_type": "markdown",
   "id": "d3dd89f6-26ae-4b69-90b5-bfd8198f66cb",
   "metadata": {},
   "source": [
    "numpy의 `@` 연산자를 이용하여 $\\sum_{i=1}^{5}a_ib_i$를 계산하라. "
   ]
  },
  {
   "cell_type": "markdown",
   "id": "927e3a03-7b6e-4685-8e6a-61a52fd286fa",
   "metadata": {},
   "source": [
    "`15`. 아래와 같은 배열을 생성하라. // 2022-중간고사-1-(32)\n",
    "```python\n",
    "x=np.random.randn(100)\n",
    "```\n",
    "numpy의 `@`연산자를 이용하여 $\\sum_{i=1}^{100}x_i^2$을 계산하라. "
   ]
  },
  {
   "cell_type": "markdown",
   "id": "7c8c94c4-6a79-43f2-baac-0448559171b7",
   "metadata": {},
   "source": [
    "`16`. 아래와 같은 배열을 생성하라. // 2022-중간고사-1-(33)\n",
    "```python\n",
    "a=np.array([1/100]*100)\n",
    "x=np.random.randn(100)\n",
    "```"
   ]
  },
  {
   "cell_type": "markdown",
   "id": "912aba8f-b4c8-4a5a-b5ca-113066cfd440",
   "metadata": {},
   "source": [
    "numpy의 `@`연산자를 이용하여 $\\frac{1}{n}\\sum_{i=1}^{n}x_i$를 계산하라. "
   ]
  },
  {
   "cell_type": "markdown",
   "id": "769e9870-931a-4893-8657-fd2551916f0b",
   "metadata": {},
   "source": [
    "`17`. 성공확률이 45%인 시행을 100번 반복하여 성공하면 True, 실패하면 False를 기록하는 난수열을 생성하라. "
   ]
  },
  {
   "cell_type": "markdown",
   "id": "e8155adf-80d8-4573-9744-6e925dfcb908",
   "metadata": {},
   "source": [
    "**hint:** "
   ]
  },
  {
   "cell_type": "code",
   "execution_count": 92,
   "id": "86a54fc4-6a8c-4249-9c6e-f0f3c9888265",
   "metadata": {},
   "outputs": [
    {
     "data": {
      "text/plain": [
       "0.1721011158345127"
      ]
     },
     "execution_count": 92,
     "metadata": {},
     "output_type": "execute_result"
    }
   ],
   "source": [
    "np.random.rand() # 0~1사이의 값이 임의로 생성"
   ]
  },
  {
   "cell_type": "code",
   "execution_count": 94,
   "id": "653d2478-eb3b-4e54-9396-ecb1fea21687",
   "metadata": {},
   "outputs": [
    {
     "data": {
      "text/plain": [
       "False"
      ]
     },
     "execution_count": 94,
     "metadata": {},
     "output_type": "execute_result"
    }
   ],
   "source": [
    "np.random.rand() < 0.45 # 0~1사이에 랜덤으로 생성된 값이 0.45보다 작다면 True를 리턴 "
   ]
  }
 ],
 "metadata": {
  "kernelspec": {
   "display_name": "Python 3",
   "language": "python",
   "name": "python3"
  },
  "language_info": {
   "codemirror_mode": {
    "name": "ipython",
    "version": 3
   },
   "file_extension": ".py",
   "mimetype": "text/x-python",
   "name": "python",
   "nbconvert_exporter": "python",
   "pygments_lexer": "ipython3",
   "version": "3.8.16"
  }
 },
 "nbformat": 4,
 "nbformat_minor": 5
}
