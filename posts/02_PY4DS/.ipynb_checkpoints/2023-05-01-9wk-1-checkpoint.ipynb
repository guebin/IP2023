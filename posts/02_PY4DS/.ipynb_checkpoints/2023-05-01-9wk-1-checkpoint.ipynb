{
 "cells": [
  {
   "cell_type": "raw",
   "id": "4b5f7448-adae-46fc-8d37-a82445d8ef60",
   "metadata": {},
   "source": [
    "---\n",
    "title: \"09wk-1: Numpy와 Pandas의 활용\"\n",
    "author: \"최규빈\"\n",
    "date: \"05/01/2023\"\n",
    "---"
   ]
  },
  {
   "cell_type": "markdown",
   "id": "3dd7c9f8",
   "metadata": {},
   "source": [
    "# 강의영상 "
   ]
  },
  {
   "cell_type": "markdown",
   "id": "2a4c8111",
   "metadata": {},
   "source": [
    "> youtube: <https://youtube.com/playlist?list=PLQqh36zP38-w-stglh0uVkQxHpCT9lH9C>"
   ]
  },
  {
   "cell_type": "markdown",
   "id": "729f69c6-bc71-4398-9219-d2dc58930450",
   "metadata": {},
   "source": [
    "# imports "
   ]
  },
  {
   "cell_type": "code",
   "execution_count": 1,
   "id": "8bc45346-052d-4da4-beb6-aec2d6167161",
   "metadata": {},
   "outputs": [],
   "source": [
    "import numpy as np\n",
    "import pandas as pd \n",
    "import matplotlib.pyplot as plt \n",
    "import urllib.request"
   ]
  },
  {
   "cell_type": "markdown",
   "id": "1a83c083-8a10-489e-998d-d9e65a6f04ca",
   "metadata": {},
   "source": [
    "# 회귀분석 "
   ]
  },
  {
   "cell_type": "markdown",
   "id": "b50d7966-e91c-4be7-b12e-993275349aa2",
   "metadata": {},
   "source": [
    "`1--7`. "
   ]
  },
  {
   "cell_type": "markdown",
   "id": "6f9d7e98-297f-4af2-83f0-2270f05284aa",
   "metadata": {},
   "source": [
    "`1`. $x_i$가 아래와 같이 주어졌다고 가정하자. "
   ]
  },
  {
   "cell_type": "code",
   "execution_count": 2,
   "id": "72bc70cb-964c-4f64-a535-4cf8fd6ab0d5",
   "metadata": {},
   "outputs": [],
   "source": [
    "x =  np.array([0.00983, 0.01098, 0.02951, 0.0384 , 0.03973, 0.04178, 0.0533 ,\n",
    "               0.058  , 0.09454, 0.1103 , 0.1328 , 0.1412 , 0.1497 , 0.1664 ,\n",
    "               0.1906 , 0.1923 , 0.198  , 0.2141 , 0.2393 , 0.2433 , 0.3157 ,\n",
    "               0.3228 , 0.3418 , 0.3552 , 0.3918 , 0.3962 , 0.4    , 0.4482 ,\n",
    "               0.496  , 0.507  , 0.53   , 0.5654 , 0.582  , 0.5854 , 0.5854 ,\n",
    "               0.6606 , 0.7007 , 0.723  , 0.7305 , 0.7383 , 0.7656 , 0.7725 ,\n",
    "               0.831  , 0.8896 , 0.9053 , 0.914  , 0.949  , 0.952  , 0.9727 ,\n",
    "               0.982  ])"
   ]
  },
  {
   "cell_type": "markdown",
   "id": "e461f4ae-3713-4338-ad7c-c3d2b0cee630",
   "metadata": {},
   "source": [
    "아래의 수식에 따라 $y_i$를 생성하라. \n",
    "\n",
    "- $y_i = 2+3x_i +\\epsilon_i,\\quad \\epsilon_i \\overset{iid}{\\sim} N(0,1)$\n",
    "\n",
    "$(x_i,y_i)$를 산점도를 이용하여 시각화하라. "
   ]
  },
  {
   "cell_type": "markdown",
   "id": "768be846-baff-495a-bffd-6255b26cce14",
   "metadata": {},
   "source": [
    "(풀이)"
   ]
  },
  {
   "cell_type": "code",
   "execution_count": 4,
   "id": "cc4d9ead-a7fc-4734-9f85-fb1dddb8698b",
   "metadata": {},
   "outputs": [],
   "source": [
    "y = 2+3*x + np.random.randn(50) "
   ]
  },
  {
   "cell_type": "code",
   "execution_count": 7,
   "id": "26a8d9a3-6ee3-4618-aae6-152419e0733d",
   "metadata": {},
   "outputs": [
    {
     "data": {
      "text/plain": [
       "<matplotlib.legend.Legend at 0x7f457a486790>"
      ]
     },
     "execution_count": 7,
     "metadata": {},
     "output_type": "execute_result"
    },
    {
     "data": {
      "image/png": "[encoded data removed]",
      "text/plain": [
       "<Figure size 432x288 with 1 Axes>"
      ]
     },
     "metadata": {
      "needs_background": "light"
     },
     "output_type": "display_data"
    }
   ],
   "source": [
    "plt.plot(x,y,'o',label=r'$(x_i,y_i)$')\n",
    "plt.legend()"
   ]
  },
  {
   "cell_type": "markdown",
   "id": "b08621a5-200d-45c4-a704-0f0cbb842558",
   "metadata": {},
   "source": [
    "`2`. `1`과 같은 자료를 잘 표현할 수 있는 적절한 추세선 $(x_i, \\hat{y}_i)$를 그리기 위하여 아래의 수식을 고려하자. \n",
    "\n",
    "- $\\hat{y}_i = ax_i+b$\n",
    "\n",
    "a,b를 각각 아래의 표에 의하여 선택하였을 경우 추세선을 문제하단에 명시된 요구사항에 맞추어 시각화하라. \n",
    "\n",
    "||$a$|$b$|\n",
    "|:-:|:-:|:-:|\n",
    "|(a)|$1$|$0$|\n",
    "|(b)|$2.5$|$2$|\n",
    "|(c)|$3$|$2$|\n",
    "\n",
    "**요구사항** \n",
    "\n",
    "- $(x_i,y_i)$를 산점도로 그리고 각 (a),(b),(c)에 대한 $(x_i,\\hat{y}_i)$를 lineplot으로 겹쳐그릴 것\n",
    "- 범례를 포함할 것 "
   ]
  },
  {
   "cell_type": "code",
   "execution_count": 20,
   "id": "47a01002-de75-434b-b2a5-681134588bf8",
   "metadata": {},
   "outputs": [
    {
     "data": {
      "text/plain": [
       "<matplotlib.legend.Legend at 0x7f4579b17520>"
      ]
     },
     "execution_count": 20,
     "metadata": {},
     "output_type": "execute_result"
    },
    {
     "data": {
      "image/png": "[encoded data removed]",
      "text/plain": [
       "<Figure size 432x288 with 1 Axes>"
      ]
     },
     "metadata": {
      "needs_background": "light"
     },
     "output_type": "display_data"
    }
   ],
   "source": [
    "plt.plot(x,y,'o',label=r'$(x_i,y_i)$')\n",
    "plt.plot(x,1*x+0,'--',label=r'(a) $(x_i,\\hat{y}_i)$')\n",
    "plt.plot(x,2.5*x+2,'--',label=r'(b) $(x_i,\\hat{y}_i)$')\n",
    "plt.plot(x,3*x+2,'--',label=r'(c) $(x_i,\\hat{y}_i)$')\n",
    "plt.legend()"
   ]
  },
  {
   "cell_type": "markdown",
   "id": "2823b442-0505-45ca-a69d-5beace7809a5",
   "metadata": {},
   "source": [
    "`3`. 아래를 각각 계산하라. "
   ]
  },
  {
   "cell_type": "markdown",
   "id": "c88be666-f7d3-4949-97a8-d6e9a0ba1799",
   "metadata": {},
   "source": [
    "`(a)` $\\frac{1}{n}\\sum_{i=1}^{n}(y_i-x_i)^2$\n",
    "\n",
    "`(b)` $\\frac{1}{n}\\sum_{i=1}^{n}(y_i-2-2.5x_i)^2$\n",
    "\n",
    "`(c)` $\\frac{1}{n}\\sum_{i=1}^{n}(y_i-2-3x_i)^2$"
   ]
  },
  {
   "cell_type": "markdown",
   "id": "759a0ce2-e3f9-4a91-b5c0-403a79ed48a4",
   "metadata": {},
   "source": [
    "가장 작은 값을 가지는 것은 무엇인가? "
   ]
  },
  {
   "cell_type": "markdown",
   "id": "c140b715-9921-49ac-9c7d-30716697193f",
   "metadata": {},
   "source": [
    "(풀이)"
   ]
  },
  {
   "cell_type": "code",
   "execution_count": 32,
   "id": "258cd06f-aa42-4293-aaee-589d2acd81da",
   "metadata": {},
   "outputs": [
    {
     "data": {
      "text/plain": [
       "(9.310962556625569, 1.1267147296257563, 1.0907585903281032)"
      ]
     },
     "execution_count": 32,
     "metadata": {},
     "output_type": "execute_result"
    }
   ],
   "source": [
    "np.mean((y-(1*x+0))**2), np.mean((y-(2.5*x+2))**2), np.mean((y-(3*x+2))**2)"
   ]
  },
  {
   "cell_type": "markdown",
   "id": "f59efcff-2a7f-4257-9d16-5fa6624322d1",
   "metadata": {},
   "source": [
    "가장 작은 값을 가지는 것은 (c)이다. "
   ]
  },
  {
   "cell_type": "markdown",
   "id": "c86726b7-fef1-4570-ac6a-c6566e77a1c8",
   "metadata": {},
   "source": [
    "`4`. 3의 결과를 근거로 (a)-(c)중 가장 적절한 추세선을 판단하고 적절한 순서대로 나열하라. "
   ]
  },
  {
   "cell_type": "markdown",
   "id": "8357c519-d37f-478d-bdc9-e535f52c2020",
   "metadata": {},
   "source": [
    "`(풀이)`"
   ]
  },
  {
   "cell_type": "markdown",
   "id": "5245436b-640e-41c6-a181-d68fd79c4098",
   "metadata": {},
   "source": [
    "3-(a),(b),(c)는 각각 \n",
    "\n",
    "- $\\hat{y}_i=x_i$\n",
    "- $\\hat{y}_i=2+2.5x_i$\n",
    "- $\\hat{y}_i=2+3x_i$ \n",
    "\n",
    "일 경우 \n",
    "\n",
    "$${\\tt mse}({\\boldsymbol y}, \\hat{\\boldsymbol y}) = \\frac{1}{n}\\sum_{i=1}^{n}(y_i -\\hat{y}_i)^2$$\n",
    "\n",
    "를 계산한 것이라 해석할 수 있다. 그런데 ${\\tt mse}({\\boldsymbol y}, \\hat{\\boldsymbol y})$의 값은 \n",
    "\n",
    "- $y_1 \\approx \\hat{y}_1$ \n",
    "- $y_2 \\approx \\hat{y}_2$ \n",
    "- $\\dots$ \n",
    "- $y_n \\approx \\hat{y}_n$ \n",
    "\n",
    "일수록 작은 값을 가진다. 그리고 위의 조건은 더 적절하게 추세선을 그렸을때 만족된다. 요약하면 \n",
    "\n",
    "- 적절한 추세선을 그림 $\\Rightarrow$ $y_i \\approx \\hat{y}_i$ $\\Rightarrow$ ${\\tt mse}({\\boldsymbol y}, \\hat{\\boldsymbol y})$ 값이 작아짐 \n",
    "\n",
    "와 같은 관계가 있음을 파악할 수 있다. 따라서 ${\\tt mse}({\\boldsymbol y}, \\hat{\\boldsymbol y})$의 값이 작을수록 적절한 추세선이라 생각할 수 있다. "
   ]
  },
  {
   "cell_type": "markdown",
   "id": "28a31fdc-bbe8-4207-9553-3189ae641502",
   "metadata": {},
   "source": [
    "`5`. 아래와 같은 수식을 이용하여 $\\hat{\\beta}_0, \\hat{\\beta}_1$ 을 계산하라. "
   ]
  },
  {
   "cell_type": "markdown",
   "id": "c5298aa6-4a22-42a3-ac9a-f5369bcafdf2",
   "metadata": {},
   "source": [
    "$$\\begin{bmatrix} \\hat{\\beta}_0 \\\\ \\hat{\\beta}_1 \\end{bmatrix} = ({\\bf X}^T {\\bf X})^{-1}{\\bf X}^T {\\boldsymbol y}, \\quad {\\bf X}=\\begin{bmatrix} 1 & x_1 \\\\ 1 & x_2 \\\\ \\dots \\\\ 1 & x_n \\end{bmatrix}$$ "
   ]
  },
  {
   "cell_type": "markdown",
   "id": "69173efc-7fbd-43b4-b8c8-5c2a5187e6bb",
   "metadata": {},
   "source": [
    "`(풀이)`"
   ]
  },
  {
   "cell_type": "code",
   "execution_count": 40,
   "id": "8909caef-073e-4227-842d-f4442e26ac18",
   "metadata": {},
   "outputs": [
    {
     "data": {
      "text/plain": [
       "array([1.97914281, 2.90834079])"
      ]
     },
     "execution_count": 40,
     "metadata": {},
     "output_type": "execute_result"
    }
   ],
   "source": [
    "X = np.stack([[1]*50 ,x],axis=1)\n",
    "np.linalg.inv(X.T @ X)@X.T@y "
   ]
  },
  {
   "cell_type": "markdown",
   "id": "55abbd2c-6220-4370-8b93-2ad76e1c0e78",
   "metadata": {},
   "source": [
    "$\\hat{\\beta}_0=1.97914281$ 이고 $\\hat{\\beta}_1= 2.90834079$ 이다. "
   ]
  },
  {
   "cell_type": "markdown",
   "id": "7b3acc17-68ea-4746-bf14-0ebf484a0814",
   "metadata": {},
   "source": [
    "`6`. `5`에서 계산된 $\\hat{\\beta}_0, \\hat{\\beta}_1$을 각각 $b=\\hat{\\beta}_0, a=\\hat{\\beta}_1$으로 생각하고 적절한 추세선 $(x_i, \\hat{y}_i)$를 그려라. (단, $\\hat{y}_i=ax_i+b$ 이다) "
   ]
  },
  {
   "cell_type": "markdown",
   "id": "9bf99853-c87e-4516-ac07-9021f3664393",
   "metadata": {},
   "source": [
    "`(풀이)`"
   ]
  },
  {
   "cell_type": "code",
   "execution_count": 43,
   "id": "363dd1fc-c037-447c-b5c1-938b29c6e48b",
   "metadata": {},
   "outputs": [],
   "source": [
    "b, a = np.linalg.inv(X.T @ X)@X.T@y \n",
    "yhat = a*x +b "
   ]
  },
  {
   "cell_type": "code",
   "execution_count": 47,
   "id": "35857d1c-1994-4f15-9abe-d0b12e037211",
   "metadata": {},
   "outputs": [
    {
     "data": {
      "text/plain": [
       "<matplotlib.legend.Legend at 0x7f4577dd45e0>"
      ]
     },
     "execution_count": 47,
     "metadata": {},
     "output_type": "execute_result"
    },
    {
     "data": {
      "image/png": "[encoded data removed]",
      "text/plain": [
       "<Figure size 432x288 with 1 Axes>"
      ]
     },
     "metadata": {
      "needs_background": "light"
     },
     "output_type": "display_data"
    }
   ],
   "source": [
    "plt.plot(x,y,'o',label=r'$(x_i,y_i)$')\n",
    "plt.plot(x,yhat,'--',label=r'$(x_i,\\hat{y}_i)$')\n",
    "plt.legend()"
   ]
  },
  {
   "cell_type": "markdown",
   "id": "a13c0959-aeea-4a63-84dd-b70f87fc8d24",
   "metadata": {},
   "source": [
    "`7`. 4의 기준에 따르면, $(a,b)=(3,2)$ 일때 만들어지는 추세선과 $(a,b)=(\\hat{\\beta}_1,\\hat{\\beta}_0)$ 일때 만들어지는 추세선은 어떤 것이 더 적절한가? "
   ]
  },
  {
   "cell_type": "markdown",
   "id": "4319b42a-a8da-418d-be55-9ff256989a0f",
   "metadata": {},
   "source": [
    "`(풀이)`"
   ]
  },
  {
   "cell_type": "code",
   "execution_count": 51,
   "id": "e4c90c43-3b82-4205-bee8-c45b4d7247ec",
   "metadata": {},
   "outputs": [
    {
     "data": {
      "text/plain": [
       "(1.0907585903281032, 1.0862796480117118)"
      ]
     },
     "execution_count": 51,
     "metadata": {},
     "output_type": "execute_result"
    }
   ],
   "source": [
    "np.mean((y-(3*x+2))**2), np.mean((y-yhat)**2)"
   ]
  },
  {
   "cell_type": "markdown",
   "id": "79a4136b-9963-4d7d-8fed-e35c42d2b547",
   "metadata": {},
   "source": [
    "# MNIST data"
   ]
  },
  {
   "cell_type": "markdown",
   "id": "110c36e0-e7d0-4271-9f55-3c4416918239",
   "metadata": {},
   "source": [
    "아래는 0~9가지의 숫자이미지가 저장된 이미지데이터를 불러오는 코드이다. "
   ]
  },
  {
   "cell_type": "code",
   "execution_count": 52,
   "id": "f7d26003-a978-4cf0-91b2-e36087a2a38d",
   "metadata": {},
   "outputs": [],
   "source": [
    "# URL 설정\n",
    "url = 'https://github.com/guebin/PP2023/raw/main/posts/02_PY4DS/mnist.npz'\n",
    "\n",
    "# URL에서 파일 다운로드\n",
    "urllib.request.urlretrieve(url, './mnist.npz')\n",
    "\n",
    "# 데이터 로드\n",
    "data = np.load('./mnist.npz')\n",
    "xtrain, ytrain, xtest, ytest = data['x_train'], data['y_train'], data['x_test'], data['y_test']"
   ]
  },
  {
   "cell_type": "markdown",
   "id": "da9d8300-6ef5-4f3a-a462-c3905cb5508b",
   "metadata": {},
   "source": [
    "아래는 데이터에 대한 설명이다. \n",
    "\n",
    "- 전체의 이미지의 수는 70000개이며, 60000개의 이미지 ${\\tt xtrain}$에 10000개의 이미지는 ${\\tt xtest}$에 저장되어 있다. \n",
    "- 이미지에 대한 라벨은 각각 ${\\tt ytrain}$과 $\\tt ytest$에 저장되어 있다. 따라서 $\\tt ytrain$에는 60000개의 이미지에 해당하는 라벨이, $\\tt ytest$에는 10000개의 이미지에 해당하는 라벨이 기록되어 있다. \n",
    "- 보통 분석에서는 60000개의 이미지를 가지고 라벨을 맞추는 \"훈련\"을 하고 (${\\tt xtrain}$을 이용하여 ${\\tt ytrain}$을 맞추는 방법을 학습하고), 그러한 훈련이 잘 되었는지 10000개의 이미지를 이용하여 \"테스트\"한다. \n",
    "- 위와 같은 의미로 $({\\tt xtrain}, {\\tt ytrain})$ 을 training data set, $({\\tt xtest},{\\tt ytest})$ 를 test data set 이라고 부른다. (ref: [위키참고](https://en.wikipedia.org/wiki/Training,_validation,_and_test_data_sets))"
   ]
  },
  {
   "cell_type": "markdown",
   "id": "4c48aeb6-bf73-4984-885f-53d484d844eb",
   "metadata": {},
   "source": [
    "아래는 이미지자료와 시각화에 대한 설명이다. \n",
    "\n",
    "- 각 이미지는 (28,28) 픽셀의 흑백이미지이다. 따라서 각 이미지는 (28,28,3) 이 아니라 (28,28) 의 shape을 가진 텐서로 구성되어있다. \n",
    "- 흑백이미지를 시각화 하기 위해서는 `plt.imshow(img, cmap='gray')`를 이용한다. 여기에서 ${\\tt img}$은 임의의 2차원 텐서이며 이 예제의 경우 (28,28)의 shape을 가진다. "
   ]
  },
  {
   "cell_type": "markdown",
   "id": "0c679357-78fe-4513-af5a-8fd2b0ce9d9b",
   "metadata": {},
   "source": [
    "아래는 ${\\tt xtrain}$의 두번째 이미지, 즉 ${\\tt xtrain[1,:,:]}$를 확인하는 코드의 예시이다. "
   ]
  },
  {
   "cell_type": "code",
   "execution_count": 78,
   "id": "5d1eb0c2-c7a5-4bbb-b860-408747fd7863",
   "metadata": {},
   "outputs": [
    {
     "data": {
      "text/plain": [
       "<matplotlib.image.AxesImage at 0x7f457418ca30>"
      ]
     },
     "execution_count": 78,
     "metadata": {},
     "output_type": "execute_result"
    },
    {
     "data": {
      "image/png": "[encoded data removed]",
      "text/plain": [
       "<Figure size 432x288 with 1 Axes>"
      ]
     },
     "metadata": {
      "needs_background": "light"
     },
     "output_type": "display_data"
    }
   ],
   "source": [
    "# plt.imshow(xtrain[1,:,:],cmap='gray')\n",
    "plt.imshow(xtrain[1],cmap='gray') ## 같은코드임"
   ]
  },
  {
   "cell_type": "markdown",
   "id": "b1b3560e-d87c-443d-94a8-e868b26a4062",
   "metadata": {},
   "source": [
    "이 이미지에 대한 label은 ${\\tt ytrain[1]}$의 값으로 확인가능하다. "
   ]
  },
  {
   "cell_type": "code",
   "execution_count": 9,
   "id": "43f9b361-6543-499c-b060-260bd3819f26",
   "metadata": {},
   "outputs": [
    {
     "data": {
      "text/plain": [
       "0"
      ]
     },
     "execution_count": 9,
     "metadata": {},
     "output_type": "execute_result"
    }
   ],
   "source": [
    "ytrain[1]"
   ]
  },
  {
   "cell_type": "markdown",
   "id": "1e37ef7b-b780-4016-84f4-36326533840c",
   "metadata": {},
   "source": [
    "이미지와 라벨을 한번에 표현하는 코드는 아래와 같이 작성가능하다. "
   ]
  },
  {
   "cell_type": "code",
   "execution_count": 88,
   "id": "39c31132-a451-4c8b-b979-08628de4923f",
   "metadata": {},
   "outputs": [
    {
     "data": {
      "image/png": "[encoded data removed]",
      "text/plain": [
       "<Figure size 432x288 with 1 Axes>"
      ]
     },
     "metadata": {
      "needs_background": "light"
     },
     "output_type": "display_data"
    }
   ],
   "source": [
    "plt.imshow(xtrain[1],cmap='gray')\n",
    "plt.title('label={}'.format(ytrain[1]));"
   ]
  },
  {
   "cell_type": "markdown",
   "id": "8ce68547-1da9-469d-bf2f-034b9d6e20fe",
   "metadata": {},
   "source": [
    "아래는 10개의 이미지를 라벨과 함께 출력하는 코드의 예시이다. "
   ]
  },
  {
   "cell_type": "code",
   "execution_count": 95,
   "id": "17405393-3dbc-4771-be5f-b54fdadf21f5",
   "metadata": {},
   "outputs": [
    {
     "data": {
      "image/png": "[encoded data removed]",
      "text/plain": [
       "<Figure size 720x360 with 10 Axes>"
      ]
     },
     "metadata": {
      "needs_background": "light"
     },
     "output_type": "display_data"
    }
   ],
   "source": [
    "fig, ax = plt.subplots(2,5,figsize=(10,5))\n",
    "\n",
    "ax[0][0].imshow(xtrain[0],cmap='gray'); ax[0][0].set_title('label={}'.format(ytrain[0]));\n",
    "ax[0][1].imshow(xtrain[1],cmap='gray'); ax[0][1].set_title('label={}'.format(ytrain[1]));\n",
    "ax[0][2].imshow(xtrain[2],cmap='gray'); ax[0][2].set_title('label={}'.format(ytrain[2]));\n",
    "ax[0][3].imshow(xtrain[3],cmap='gray'); ax[0][3].set_title('label={}'.format(ytrain[3]));\n",
    "ax[0][4].imshow(xtrain[4],cmap='gray'); ax[0][4].set_title('label={}'.format(ytrain[4]));\n",
    "\n",
    "ax[1][0].imshow(xtrain[5],cmap='gray'); ax[1][0].set_title('label={}'.format(ytrain[5]));\n",
    "ax[1][1].imshow(xtrain[6],cmap='gray'); ax[1][1].set_title('label={}'.format(ytrain[6]));\n",
    "ax[1][2].imshow(xtrain[7],cmap='gray'); ax[1][2].set_title('label={}'.format(ytrain[7]));\n",
    "ax[1][3].imshow(xtrain[8],cmap='gray'); ax[1][3].set_title('label={}'.format(ytrain[8]));\n",
    "ax[1][4].imshow(xtrain[9],cmap='gray'); ax[1][4].set_title('label={}'.format(ytrain[9]));\n",
    "\n",
    "fig.tight_layout()\n"
   ]
  },
  {
   "cell_type": "markdown",
   "id": "f39cacf4-c4de-4b1d-912d-497d31e38fe8",
   "metadata": {},
   "source": [
    "`(1)` 70000개의 이미지중 0~9에 해당하는 이미지는 각각 몇장씩 들어있는가? "
   ]
  },
  {
   "cell_type": "markdown",
   "id": "1c0dfd7a-49e9-40a9-9bb7-4e424c528dc4",
   "metadata": {},
   "source": [
    "(풀이)"
   ]
  },
  {
   "cell_type": "code",
   "execution_count": 105,
   "id": "827c7a10-385e-47ef-be4d-ca970969dcec",
   "metadata": {},
   "outputs": [],
   "source": [
    "_y = ytrain.tolist()+ytest.tolist()"
   ]
  },
  {
   "cell_type": "code",
   "execution_count": 111,
   "id": "b197d528-afca-4b5f-a2a6-29a36e4f6ed0",
   "metadata": {},
   "outputs": [
    {
     "data": {
      "text/plain": [
       "{0: 6903,\n",
       " 1: 7877,\n",
       " 2: 6990,\n",
       " 3: 7141,\n",
       " 4: 6824,\n",
       " 5: 6313,\n",
       " 6: 6876,\n",
       " 7: 7293,\n",
       " 8: 6825,\n",
       " 9: 6958}"
      ]
     },
     "execution_count": 111,
     "metadata": {},
     "output_type": "execute_result"
    }
   ],
   "source": [
    "{s:_y.count(s) for s in set(_y)}"
   ]
  },
  {
   "cell_type": "markdown",
   "id": "1c1ec40c-6aa8-46aa-be9a-df94e4fb4171",
   "metadata": {},
   "source": [
    "`(2)` ${\\tt xtrain}$에서 손글씨 0을 의미하는 이미지만을 모아서 새로운 텐서 ${\\tt xtrain0}$를 만들어라. 이 텐서에서 처음과 마지막 이미지를 출력하라. "
   ]
  },
  {
   "cell_type": "markdown",
   "id": "ea8ac250-2f25-4691-96a3-94ab84e2ee5f",
   "metadata": {},
   "source": [
    "**hint:** ${\\tt xtrain0}$ 의 shape은 (5923,28,28)이어야 한다. "
   ]
  },
  {
   "cell_type": "markdown",
   "id": "c5a8152e-af46-4f52-bbeb-aa8b208149c4",
   "metadata": {},
   "source": [
    "(풀이)"
   ]
  },
  {
   "cell_type": "code",
   "execution_count": 117,
   "id": "3743e66a-7f15-4506-bc5c-f89e0972a897",
   "metadata": {},
   "outputs": [
    {
     "data": {
      "text/plain": [
       "(5923, 28, 28)"
      ]
     },
     "execution_count": 117,
     "metadata": {},
     "output_type": "execute_result"
    }
   ],
   "source": [
    "xtrain0 = xtrain[ytrain==0]\n",
    "xtrain0.shape"
   ]
  },
  {
   "cell_type": "code",
   "execution_count": 119,
   "id": "b5d0fcdc-c46a-4210-b09d-e0602fe6abe9",
   "metadata": {},
   "outputs": [
    {
     "data": {
      "text/plain": [
       "<matplotlib.image.AxesImage at 0x7f4574142880>"
      ]
     },
     "execution_count": 119,
     "metadata": {},
     "output_type": "execute_result"
    },
    {
     "data": {
      "image/png": "[encoded data removed]",
      "text/plain": [
       "<Figure size 432x288 with 1 Axes>"
      ]
     },
     "metadata": {
      "needs_background": "light"
     },
     "output_type": "display_data"
    }
   ],
   "source": [
    "plt.imshow(xtrain0[0],cmap='gray') # 처음이미지"
   ]
  },
  {
   "cell_type": "code",
   "execution_count": 120,
   "id": "4f0b72cf-9a5c-48d1-993a-22de33bda1b8",
   "metadata": {},
   "outputs": [
    {
     "data": {
      "text/plain": [
       "<matplotlib.image.AxesImage at 0x7f45740b1bb0>"
      ]
     },
     "execution_count": 120,
     "metadata": {},
     "output_type": "execute_result"
    },
    {
     "data": {
      "image/png": "[encoded data removed]",
      "text/plain": [
       "<Figure size 432x288 with 1 Axes>"
      ]
     },
     "metadata": {
      "needs_background": "light"
     },
     "output_type": "display_data"
    }
   ],
   "source": [
    "plt.imshow(xtrain0[-1],cmap='gray') # 마지막이미지"
   ]
  },
  {
   "cell_type": "markdown",
   "id": "7ef75051-a81c-490a-8bca-bf976d85adaa",
   "metadata": {},
   "source": [
    "`(3)` ${\\tt xtrain}$에서 손글씨 0을 의미하는 이미지의 평균을 계산하라. 즉 아래를 계산하라. \n",
    "\n",
    "- ${\\tt xtrain0mean} = \\frac{1}{5923}\\sum_{i=1}^{5923} {\\tt xtrain0[i, :, :]}$\n",
    "\n",
    "계산결과를 출력하라. "
   ]
  },
  {
   "cell_type": "markdown",
   "id": "41ab9059-4be7-45fa-a838-ffec549d0476",
   "metadata": {},
   "source": [
    "(풀이)"
   ]
  },
  {
   "cell_type": "code",
   "execution_count": 131,
   "id": "0713aaac-51a2-4018-9e8a-9d697eb65892",
   "metadata": {},
   "outputs": [
    {
     "data": {
      "text/plain": [
       "<matplotlib.image.AxesImage at 0x7f4573d89a60>"
      ]
     },
     "execution_count": 131,
     "metadata": {},
     "output_type": "execute_result"
    },
    {
     "data": {
      "image/png": "[encoded data removed]",
      "text/plain": [
       "<Figure size 432x288 with 1 Axes>"
      ]
     },
     "metadata": {
      "needs_background": "light"
     },
     "output_type": "display_data"
    }
   ],
   "source": [
    "plt.imshow(xtrain0.mean(axis=0),cmap='gray')"
   ]
  },
  {
   "cell_type": "markdown",
   "id": "f833e96a-bbc6-46b1-8806-e80b50246b72",
   "metadata": {},
   "source": [
    "`(4)` ${\\tt xtrain}$에서 각 라벨에 대한 평균이미지를 계산하고 계산결과를 ${\\tt imgmean}$에 길이가 10인 `list`로 저장하라. 즉 ${\\tt imgmean}$은 아래와 같은 자료구조를 가지고 있어야 한다. \n",
    "\n",
    "- ${\\tt imgmean}=\\big[{\\tt imgmean[0]},\\dots, {\\tt imgmean[9]}\\big]$ \n",
    "- ${\\tt imgmean[0]}, \\dots, {\\tt imgmean[9]}$ 는 각각 (28,28)의 shape을 가진 numpy array \n",
    "- ${\\tt imgmean[0]}, \\dots, {\\tt imgmean[9]}$ 는 각각 숫자 0,1, ..., 9의 평균이미지를 의미"
   ]
  },
  {
   "cell_type": "markdown",
   "id": "3c9d9ddc-7a79-4bbb-8563-c30af2174d2e",
   "metadata": {},
   "source": [
    "${\\tt imgmean[0]},\\dots, {\\tt imgmean[9]}$를 시각화 하라. "
   ]
  },
  {
   "cell_type": "markdown",
   "id": "99165c7c-b801-4209-b92c-b37ecf3c51e9",
   "metadata": {},
   "source": [
    "(풀이)"
   ]
  },
  {
   "cell_type": "code",
   "execution_count": 133,
   "id": "d9503a9f-1eac-450e-84bf-e9709983eace",
   "metadata": {},
   "outputs": [],
   "source": [
    "imgmean = [xtrain[ytrain==i].mean(axis=0) for i in range(10)] "
   ]
  },
  {
   "cell_type": "code",
   "execution_count": 137,
   "id": "9a4812f4-b5cb-4d5a-b73f-54ef5d261221",
   "metadata": {},
   "outputs": [
    {
     "data": {
      "image/png": "[encoded data removed]",
      "text/plain": [
       "<Figure size 720x360 with 10 Axes>"
      ]
     },
     "metadata": {
      "needs_background": "light"
     },
     "output_type": "display_data"
    }
   ],
   "source": [
    "fig, ax = plt.subplots(2,5,figsize=(10,5))\n",
    "\n",
    "ax[0][0].imshow(imgmean[0],cmap='gray')\n",
    "ax[0][1].imshow(imgmean[1],cmap='gray')\n",
    "ax[0][2].imshow(imgmean[2],cmap='gray')\n",
    "ax[0][3].imshow(imgmean[3],cmap='gray')\n",
    "ax[0][4].imshow(imgmean[4],cmap='gray')\n",
    "\n",
    "ax[1][0].imshow(imgmean[5],cmap='gray')\n",
    "ax[1][1].imshow(imgmean[6],cmap='gray')\n",
    "ax[1][2].imshow(imgmean[7],cmap='gray')\n",
    "ax[1][3].imshow(imgmean[8],cmap='gray')\n",
    "ax[1][4].imshow(imgmean[9],cmap='gray')\n",
    "\n",
    "fig.tight_layout()\n"
   ]
  },
  {
   "cell_type": "markdown",
   "id": "c4f6d96f-7ce1-4966-a486-c27e8690fe19",
   "metadata": {},
   "source": [
    "`(5)` ${\\tt xtrain}$의 두번째 이미지와 ${\\tt imgmean[0]}$의 차이를 제곱한 값의 평균을 구하라. 즉 아래를 계산하라. \n",
    "\n",
    "- $\\frac{1}{28\\times 28} \\sum_{p=0}^{27}\\sum_{q=0}^{27}\\big({\\tt xtrain[1,p,q]}-{\\tt imgmean[0][p,q]}\\big)^2$"
   ]
  },
  {
   "cell_type": "markdown",
   "id": "c2ade175-073b-429a-9fc3-526ac792abf3",
   "metadata": {},
   "source": [
    "(풀이)"
   ]
  },
  {
   "cell_type": "code",
   "execution_count": 151,
   "id": "33cd18e2-c6d8-43c0-adde-c9129818bab6",
   "metadata": {},
   "outputs": [
    {
     "data": {
      "text/plain": [
       "2299.9585279846365"
      ]
     },
     "execution_count": 151,
     "metadata": {},
     "output_type": "execute_result"
    }
   ],
   "source": [
    "np.mean((xtrain[1,:,:]- imgmean[0])**2)"
   ]
  },
  {
   "cell_type": "markdown",
   "id": "5cc25b83-ceff-4595-b0c4-b9f6f953e50f",
   "metadata": {},
   "source": [
    "`(6)` 모든 $j=0,1,\\dots,9$ 에 대하여 아래를 계산하라. \n",
    "\n",
    "- $\\frac{1}{28\\times 28} \\sum_{p=0}^{27}\\sum_{q=0}^{27}\\big({\\tt xtrain[1,p,q]}-{\\tt imgmean[j][p,q]}\\big)^2$\n",
    "\n",
    "계산값이 가장 작게 나오는 $j$는 얼마인가? 위의 계산결과를 토대로 ${\\tt xtrain}$의 두번째 이미지는 어떠한 숫자를 의미한다고 \"분류\"하는 것이 타당한가? "
   ]
  },
  {
   "cell_type": "code",
   "execution_count": 152,
   "id": "11059ad0-e5c7-4ce6-85f6-c7236d932d9c",
   "metadata": {},
   "outputs": [
    {
     "data": {
      "text/plain": [
       "[2299.9585279846365,\n",
       " 7474.876421640121,\n",
       " 6154.997099653264,\n",
       " 5889.84882305034,\n",
       " 6763.709480023399,\n",
       " 4616.900123430389,\n",
       " 5856.367892213506,\n",
       " 6465.999476962735,\n",
       " 5916.546346421647,\n",
       " 6385.5252510342525]"
      ]
     },
     "execution_count": 152,
     "metadata": {},
     "output_type": "execute_result"
    }
   ],
   "source": [
    "[np.mean((xtrain[1,:,:]- imgmean[i])**2) for i in range(10)]"
   ]
  },
  {
   "cell_type": "markdown",
   "id": "1ec53090-5a7f-4fb7-94e6-41ee3baa763a",
   "metadata": {},
   "source": [
    "`(7)` 아래와 같은 numpy array 를 생성하라. "
   ]
  },
  {
   "cell_type": "markdown",
   "id": "c3689cdf-44e2-4239-bc0f-68f09faf2128",
   "metadata": {},
   "source": [
    "$${\\tt loss}= \n",
    "\\begin{bmatrix} \n",
    "{\\tt loss[0,0]} & \\dots & {\\tt loss[0,9]} \\\\ \n",
    "{\\tt loss[1,0]} & \\dots & {\\tt loss[1,9]} \\\\ \n",
    "\\dots & \\dots &  \\dots \\\\ \n",
    "{\\tt loss[59999,0]}& \\dots &{\\tt loss[59999,9]} \\\\ \n",
    "\\end{bmatrix}$$"
   ]
  },
  {
   "cell_type": "markdown",
   "id": "2a4365d0-7c4c-414f-a3dc-f0eee15b7337",
   "metadata": {},
   "source": [
    "단, ${\\tt loss[i,j]} = \\frac{1}{28\\times 28} \\sum_{p=0}^{27}\\sum_{q=0}^{27}\\big({\\tt xtrain[i,p,q]}-{\\tt imgmean[j][p,q]}\\big)^2$"
   ]
  },
  {
   "cell_type": "markdown",
   "id": "18fc0f69-06e0-4d25-80b2-96498634af77",
   "metadata": {},
   "source": [
    "위에서 생성한 ${\\tt loss}$를 이용해 (6)와 같은 방식으로 ${\\tt xtrain}$의 모든 이미지에 대한 분류를 수행하라. "
   ]
  },
  {
   "cell_type": "markdown",
   "id": "9d6f61bf-ab4e-410e-8f6c-a4914b921469",
   "metadata": {},
   "source": [
    "**hint**: ${\\tt loss}$에서 \"최소값을 가지는 원소의 인덱스를 출력\"하는 함수를 각 행별로 적용하면 된다. "
   ]
  },
  {
   "cell_type": "markdown",
   "id": "85d07ec2-fd39-48e3-9848-e5ec0c9e09f7",
   "metadata": {},
   "source": [
    "(풀이)"
   ]
  },
  {
   "cell_type": "code",
   "execution_count": 169,
   "id": "b440cd25-443c-4e96-bd86-2ff0ce52497a",
   "metadata": {},
   "outputs": [],
   "source": [
    "loss = np.array([[np.mean((xtrain[j,:,:]- imgmean[i])**2) for i in range(10)] for j in range(60000)])"
   ]
  },
  {
   "cell_type": "code",
   "execution_count": 171,
   "id": "d46a617f-6c97-47c2-99c7-5b5a4c54a99c",
   "metadata": {},
   "outputs": [
    {
     "data": {
      "text/plain": [
       "array([5, 0, 4, ..., 5, 6, 8])"
      ]
     },
     "execution_count": 171,
     "metadata": {},
     "output_type": "execute_result"
    }
   ],
   "source": [
    "loss.argmin(axis=1)"
   ]
  },
  {
   "cell_type": "markdown",
   "id": "c526e4fd-5d8a-46ce-8a73-7a4dd1eca975",
   "metadata": {},
   "source": [
    "`(8)` `(7)`에서 수행한 분류결과와 실제 라벨 ${\\tt ytrain}$을 비교하라. 얼마나 많은 결과가 일치하는지 비율을 계산하라. "
   ]
  },
  {
   "cell_type": "markdown",
   "id": "f1a570a4-003f-44b4-9327-9f0836fcf7e6",
   "metadata": {},
   "source": [
    "(풀이)"
   ]
  },
  {
   "cell_type": "code",
   "execution_count": 176,
   "id": "351ef726-4c04-43de-ad7a-6436c55d935d",
   "metadata": {},
   "outputs": [
    {
     "data": {
      "text/plain": [
       "0.8079833333333334"
      ]
     },
     "execution_count": 176,
     "metadata": {},
     "output_type": "execute_result"
    }
   ],
   "source": [
    "np.sum(ytrain == loss.argmin(axis=1)) / 60000"
   ]
  },
  {
   "cell_type": "markdown",
   "id": "30c02bf2-d9e3-4cc8-bf8a-f999ce0a9379",
   "metadata": {},
   "source": [
    "`(9)` ${\\tt xtrain}$에서 학습한 평균이미지 ${\\tt imgmean}$를 바탕으로 ${\\tt xtest}$의 이미지를 분류하라. 분류결과를 ${\\tt ytest}$와 비교하라. 얼마나 많은 결과가 일치하는지 비율을 계산하라."
   ]
  },
  {
   "cell_type": "markdown",
   "id": "abc7a853-a141-4620-9f4c-717cfed8fe21",
   "metadata": {},
   "source": [
    "(풀이)"
   ]
  },
  {
   "cell_type": "code",
   "execution_count": 183,
   "id": "e58202b3-684b-44e5-9719-2a1792f530fb",
   "metadata": {},
   "outputs": [],
   "source": [
    "est = np.array([[np.mean((xtest[j,:,:]- imgmean[i])**2) for i in range(10)] for j in range(10000)]).argmin(axis=1)"
   ]
  },
  {
   "cell_type": "code",
   "execution_count": 186,
   "id": "251c6cb9-a733-44ae-bf89-6c6ce4b88920",
   "metadata": {},
   "outputs": [
    {
     "data": {
      "text/plain": [
       "0.8203"
      ]
     },
     "execution_count": 186,
     "metadata": {},
     "output_type": "execute_result"
    }
   ],
   "source": [
    "np.sum(est == ytest)/10000"
   ]
  },
  {
   "cell_type": "markdown",
   "id": "27e1c402-50fc-4784-8ddb-8ffbeea7e2c1",
   "metadata": {},
   "source": [
    "`(10)` `(9)`의 과정에서 잘못분류된 이미지 10개를 선택하여 시각화 하라. \n",
    "\n",
    "- 실제 라벨과 잘못된 라벨을 구분하여 시각화 할 것 "
   ]
  },
  {
   "cell_type": "code",
   "execution_count": 191,
   "id": "c7158777-cf48-4ae1-85d9-63b06c9cc149",
   "metadata": {},
   "outputs": [],
   "source": [
    "_ytest = ytest[est != ytest]\n",
    "_xtest = xtest[est != ytest]\n",
    "_est = est[est != ytest]"
   ]
  },
  {
   "cell_type": "code",
   "execution_count": 196,
   "id": "2a56cf69-230f-4aed-ae66-40e0998e4509",
   "metadata": {},
   "outputs": [
    {
     "data": {
      "image/png": "[encoded data removed]",
      "text/plain": [
       "<Figure size 720x360 with 10 Axes>"
      ]
     },
     "metadata": {
      "needs_background": "light"
     },
     "output_type": "display_data"
    }
   ],
   "source": [
    "fig, ax = plt.subplots(2,5,figsize=(10,5))\n",
    "\n",
    "ax[0][0].imshow(_xtest[0],cmap='gray'); ax[0][0].set_title('{}/{}'.format(_ytest[0],_est[0]));\n",
    "ax[0][1].imshow(_xtest[1],cmap='gray'); ax[0][1].set_title('{}/{}'.format(_ytest[1],_est[1]));\n",
    "ax[0][2].imshow(_xtest[2],cmap='gray'); ax[0][2].set_title('{}/{}'.format(_ytest[2],_est[2]));\n",
    "ax[0][3].imshow(_xtest[3],cmap='gray'); ax[0][3].set_title('{}/{}'.format(_ytest[3],_est[3]));\n",
    "ax[0][4].imshow(_xtest[4],cmap='gray'); ax[0][4].set_title('{}/{}'.format(_ytest[4],_est[4]));\n",
    "\n",
    "ax[1][0].imshow(_xtest[5],cmap='gray'); ax[1][0].set_title('{}/{}'.format(_ytest[5],_est[5]));\n",
    "ax[1][1].imshow(_xtest[6],cmap='gray'); ax[1][1].set_title('{}/{}'.format(_ytest[6],_est[6]));\n",
    "ax[1][2].imshow(_xtest[7],cmap='gray'); ax[1][2].set_title('{}/{}'.format(_ytest[7],_est[7]));\n",
    "ax[1][3].imshow(_xtest[8],cmap='gray'); ax[1][3].set_title('{}/{}'.format(_ytest[8],_est[8]));\n",
    "ax[1][4].imshow(_xtest[9],cmap='gray'); ax[1][4].set_title('{}/{}'.format(_ytest[9],_est[9]));\n",
    "\n",
    "fig.tight_layout()"
   ]
  },
  {
   "cell_type": "markdown",
   "id": "b8af2c73-b019-43c5-a2be-0851dda61c52",
   "metadata": {},
   "source": [
    "# FIFA23 자료분석 "
   ]
  },
  {
   "cell_type": "markdown",
   "id": "dc1011ca-27d5-4600-8fe7-ee3dccb80f37",
   "metadata": {},
   "source": [
    "아래는 FIFA23 자료를 불러오는 코드이다. "
   ]
  },
  {
   "cell_type": "code",
   "execution_count": 201,
   "id": "e3928e66-58bc-43b0-abf9-23a7c21877ba",
   "metadata": {},
   "outputs": [
    {
     "data": {
      "text/html": [
       "<div>\n",
       "<style scoped>\n",
       "    .dataframe tbody tr th:only-of-type {\n",
       "        vertical-align: middle;\n",
       "    }\n",
       "\n",
       "    .dataframe tbody tr th {\n",
       "        vertical-align: top;\n",
       "    }\n",
       "\n",
       "    .dataframe thead th {\n",
       "        text-align: right;\n",
       "    }\n",
       "</style>\n",
       "<table border=\"1\" class=\"dataframe\">\n",
       "  <thead>\n",
       "    <tr style=\"text-align: right;\">\n",
       "      <th></th>\n",
       "      <th>ID</th>\n",
       "      <th>Name</th>\n",
       "      <th>Age</th>\n",
       "      <th>Photo</th>\n",
       "      <th>Nationality</th>\n",
       "      <th>Flag</th>\n",
       "      <th>Overall</th>\n",
       "      <th>Potential</th>\n",
       "      <th>Club</th>\n",
       "      <th>Club Logo</th>\n",
       "      <th>...</th>\n",
       "      <th>Work Rate</th>\n",
       "      <th>Body Type</th>\n",
       "      <th>Real Face</th>\n",
       "      <th>Position</th>\n",
       "      <th>Joined</th>\n",
       "      <th>Contract Valid Until</th>\n",
       "      <th>Height</th>\n",
       "      <th>Weight</th>\n",
       "      <th>Release Clause</th>\n",
       "      <th>Kit Number</th>\n",
       "    </tr>\n",
       "  </thead>\n",
       "  <tbody>\n",
       "    <tr>\n",
       "      <th>0</th>\n",
       "      <td>209658</td>\n",
       "      <td>L. Goretzka</td>\n",
       "      <td>27</td>\n",
       "      <td>https://cdn.sofifa.net/players/209/658/23_60.png</td>\n",
       "      <td>Germany</td>\n",
       "      <td>https://cdn.sofifa.net/flags/de.png</td>\n",
       "      <td>87</td>\n",
       "      <td>88</td>\n",
       "      <td>FC Bayern München</td>\n",
       "      <td>https://cdn.sofifa.net/teams/21/30.png</td>\n",
       "      <td>...</td>\n",
       "      <td>High/ Medium</td>\n",
       "      <td>Unique</td>\n",
       "      <td>Yes</td>\n",
       "      <td>&lt;span class=\"pos pos28\"&gt;SUB</td>\n",
       "      <td>Jul 1, 2018</td>\n",
       "      <td>2026</td>\n",
       "      <td>189cm</td>\n",
       "      <td>82kg</td>\n",
       "      <td>€157M</td>\n",
       "      <td>8.0</td>\n",
       "    </tr>\n",
       "    <tr>\n",
       "      <th>1</th>\n",
       "      <td>212198</td>\n",
       "      <td>Bruno Fernandes</td>\n",
       "      <td>27</td>\n",
       "      <td>https://cdn.sofifa.net/players/212/198/23_60.png</td>\n",
       "      <td>Portugal</td>\n",
       "      <td>https://cdn.sofifa.net/flags/pt.png</td>\n",
       "      <td>86</td>\n",
       "      <td>87</td>\n",
       "      <td>Manchester United</td>\n",
       "      <td>https://cdn.sofifa.net/teams/11/30.png</td>\n",
       "      <td>...</td>\n",
       "      <td>High/ High</td>\n",
       "      <td>Unique</td>\n",
       "      <td>Yes</td>\n",
       "      <td>&lt;span class=\"pos pos15\"&gt;LCM</td>\n",
       "      <td>Jan 30, 2020</td>\n",
       "      <td>2026</td>\n",
       "      <td>179cm</td>\n",
       "      <td>69kg</td>\n",
       "      <td>€155M</td>\n",
       "      <td>8.0</td>\n",
       "    </tr>\n",
       "    <tr>\n",
       "      <th>2</th>\n",
       "      <td>224334</td>\n",
       "      <td>M. Acuña</td>\n",
       "      <td>30</td>\n",
       "      <td>https://cdn.sofifa.net/players/224/334/23_60.png</td>\n",
       "      <td>Argentina</td>\n",
       "      <td>https://cdn.sofifa.net/flags/ar.png</td>\n",
       "      <td>85</td>\n",
       "      <td>85</td>\n",
       "      <td>Sevilla FC</td>\n",
       "      <td>https://cdn.sofifa.net/teams/481/30.png</td>\n",
       "      <td>...</td>\n",
       "      <td>High/ High</td>\n",
       "      <td>Stocky (170-185)</td>\n",
       "      <td>No</td>\n",
       "      <td>&lt;span class=\"pos pos7\"&gt;LB</td>\n",
       "      <td>Sep 14, 2020</td>\n",
       "      <td>2024</td>\n",
       "      <td>172cm</td>\n",
       "      <td>69kg</td>\n",
       "      <td>€97.7M</td>\n",
       "      <td>19.0</td>\n",
       "    </tr>\n",
       "    <tr>\n",
       "      <th>3</th>\n",
       "      <td>192985</td>\n",
       "      <td>K. De Bruyne</td>\n",
       "      <td>31</td>\n",
       "      <td>https://cdn.sofifa.net/players/192/985/23_60.png</td>\n",
       "      <td>Belgium</td>\n",
       "      <td>https://cdn.sofifa.net/flags/be.png</td>\n",
       "      <td>91</td>\n",
       "      <td>91</td>\n",
       "      <td>Manchester City</td>\n",
       "      <td>https://cdn.sofifa.net/teams/10/30.png</td>\n",
       "      <td>...</td>\n",
       "      <td>High/ High</td>\n",
       "      <td>Unique</td>\n",
       "      <td>Yes</td>\n",
       "      <td>&lt;span class=\"pos pos13\"&gt;RCM</td>\n",
       "      <td>Aug 30, 2015</td>\n",
       "      <td>2025</td>\n",
       "      <td>181cm</td>\n",
       "      <td>70kg</td>\n",
       "      <td>€198.9M</td>\n",
       "      <td>17.0</td>\n",
       "    </tr>\n",
       "    <tr>\n",
       "      <th>4</th>\n",
       "      <td>224232</td>\n",
       "      <td>N. Barella</td>\n",
       "      <td>25</td>\n",
       "      <td>https://cdn.sofifa.net/players/224/232/23_60.png</td>\n",
       "      <td>Italy</td>\n",
       "      <td>https://cdn.sofifa.net/flags/it.png</td>\n",
       "      <td>86</td>\n",
       "      <td>89</td>\n",
       "      <td>Inter</td>\n",
       "      <td>https://cdn.sofifa.net/teams/44/30.png</td>\n",
       "      <td>...</td>\n",
       "      <td>High/ High</td>\n",
       "      <td>Normal (170-)</td>\n",
       "      <td>Yes</td>\n",
       "      <td>&lt;span class=\"pos pos13\"&gt;RCM</td>\n",
       "      <td>Sep 1, 2020</td>\n",
       "      <td>2026</td>\n",
       "      <td>172cm</td>\n",
       "      <td>68kg</td>\n",
       "      <td>€154.4M</td>\n",
       "      <td>23.0</td>\n",
       "    </tr>\n",
       "  </tbody>\n",
       "</table>\n",
       "<p>5 rows × 27 columns</p>\n",
       "</div>"
      ],
      "text/plain": [
       "       ID             Name  Age   \n",
       "0  209658      L. Goretzka   27  \\\n",
       "1  212198  Bruno Fernandes   27   \n",
       "2  224334         M. Acuña   30   \n",
       "3  192985     K. De Bruyne   31   \n",
       "4  224232       N. Barella   25   \n",
       "\n",
       "                                              Photo Nationality   \n",
       "0  https://cdn.sofifa.net/players/209/658/23_60.png     Germany  \\\n",
       "1  https://cdn.sofifa.net/players/212/198/23_60.png    Portugal   \n",
       "2  https://cdn.sofifa.net/players/224/334/23_60.png   Argentina   \n",
       "3  https://cdn.sofifa.net/players/192/985/23_60.png     Belgium   \n",
       "4  https://cdn.sofifa.net/players/224/232/23_60.png       Italy   \n",
       "\n",
       "                                  Flag  Overall  Potential               Club   \n",
       "0  https://cdn.sofifa.net/flags/de.png       87         88  FC Bayern München  \\\n",
       "1  https://cdn.sofifa.net/flags/pt.png       86         87  Manchester United   \n",
       "2  https://cdn.sofifa.net/flags/ar.png       85         85         Sevilla FC   \n",
       "3  https://cdn.sofifa.net/flags/be.png       91         91    Manchester City   \n",
       "4  https://cdn.sofifa.net/flags/it.png       86         89              Inter   \n",
       "\n",
       "                                 Club Logo  ...     Work Rate   \n",
       "0   https://cdn.sofifa.net/teams/21/30.png  ...  High/ Medium  \\\n",
       "1   https://cdn.sofifa.net/teams/11/30.png  ...    High/ High   \n",
       "2  https://cdn.sofifa.net/teams/481/30.png  ...    High/ High   \n",
       "3   https://cdn.sofifa.net/teams/10/30.png  ...    High/ High   \n",
       "4   https://cdn.sofifa.net/teams/44/30.png  ...    High/ High   \n",
       "\n",
       "          Body Type  Real Face                     Position        Joined   \n",
       "0            Unique        Yes  <span class=\"pos pos28\">SUB   Jul 1, 2018  \\\n",
       "1            Unique        Yes  <span class=\"pos pos15\">LCM  Jan 30, 2020   \n",
       "2  Stocky (170-185)         No    <span class=\"pos pos7\">LB  Sep 14, 2020   \n",
       "3            Unique        Yes  <span class=\"pos pos13\">RCM  Aug 30, 2015   \n",
       "4     Normal (170-)        Yes  <span class=\"pos pos13\">RCM   Sep 1, 2020   \n",
       "\n",
       "   Contract Valid Until  Height Weight Release Clause Kit Number  \n",
       "0                  2026   189cm   82kg          €157M        8.0  \n",
       "1                  2026   179cm   69kg          €155M        8.0  \n",
       "2                  2024   172cm   69kg         €97.7M       19.0  \n",
       "3                  2025   181cm   70kg        €198.9M       17.0  \n",
       "4                  2026   172cm   68kg        €154.4M       23.0  \n",
       "\n",
       "[5 rows x 27 columns]"
      ]
     },
     "execution_count": 201,
     "metadata": {},
     "output_type": "execute_result"
    }
   ],
   "source": [
    "df=pd.read_csv('https://raw.githubusercontent.com/guebin/DV2022/master/posts/FIFA23_official_data.csv').drop(columns=['Loaned From', 'Best Overall Rating']).dropna()\n",
    "df.head()"
   ]
  },
  {
   "cell_type": "markdown",
   "id": "9073d12e-6a87-4cf2-a7ed-9025a25f4a82",
   "metadata": {},
   "source": [
    "`(1)` 선수들의 평균임금(Wage)을 구하라. "
   ]
  },
  {
   "cell_type": "markdown",
   "id": "ee147f80-22e2-4878-b540-73762edd1029",
   "metadata": {},
   "source": [
    "# 삼성전자와 SK하이닉스"
   ]
  },
  {
   "cell_type": "markdown",
   "id": "46e3ea85-cdb3-4560-881d-c1afe6cfa251",
   "metadata": {},
   "source": [
    "아래는 삼성전자와 SK하이닉스의 주가를 load하는 코드이다."
   ]
  },
  {
   "cell_type": "code",
   "execution_count": 227,
   "id": "c1e15c74-5a08-442d-a9d5-a633fb6f1524",
   "metadata": {},
   "outputs": [
    {
     "name": "stdout",
     "output_type": "stream",
     "text": [
      "[*********************100%***********************]  2 of 2 completed\n"
     ]
    },
    {
     "data": {
      "text/html": [
       "<div>\n",
       "<style scoped>\n",
       "    .dataframe tbody tr th:only-of-type {\n",
       "        vertical-align: middle;\n",
       "    }\n",
       "\n",
       "    .dataframe tbody tr th {\n",
       "        vertical-align: top;\n",
       "    }\n",
       "\n",
       "    .dataframe thead th {\n",
       "        text-align: right;\n",
       "    }\n",
       "</style>\n",
       "<table border=\"1\" class=\"dataframe\">\n",
       "  <thead>\n",
       "    <tr style=\"text-align: right;\">\n",
       "      <th></th>\n",
       "      <th>삼성전자</th>\n",
       "      <th>SKT</th>\n",
       "    </tr>\n",
       "    <tr>\n",
       "      <th>Date</th>\n",
       "      <th></th>\n",
       "      <th></th>\n",
       "    </tr>\n",
       "  </thead>\n",
       "  <tbody>\n",
       "    <tr>\n",
       "      <th>2021-01-04</th>\n",
       "      <td>79093.812500</td>\n",
       "      <td>69000.554688</td>\n",
       "    </tr>\n",
       "    <tr>\n",
       "      <th>2021-01-05</th>\n",
       "      <td>79951.445312</td>\n",
       "      <td>71620.828125</td>\n",
       "    </tr>\n",
       "    <tr>\n",
       "      <th>2021-01-06</th>\n",
       "      <td>78331.453125</td>\n",
       "      <td>72930.960938</td>\n",
       "    </tr>\n",
       "    <tr>\n",
       "      <th>2021-01-07</th>\n",
       "      <td>78998.507812</td>\n",
       "      <td>78608.226562</td>\n",
       "    </tr>\n",
       "    <tr>\n",
       "      <th>2021-01-08</th>\n",
       "      <td>84620.843750</td>\n",
       "      <td>77152.507812</td>\n",
       "    </tr>\n",
       "    <tr>\n",
       "      <th>...</th>\n",
       "      <td>...</td>\n",
       "      <td>...</td>\n",
       "    </tr>\n",
       "    <tr>\n",
       "      <th>2023-04-24</th>\n",
       "      <td>65200.000000</td>\n",
       "      <td>47700.000000</td>\n",
       "    </tr>\n",
       "    <tr>\n",
       "      <th>2023-04-25</th>\n",
       "      <td>63600.000000</td>\n",
       "      <td>47750.000000</td>\n",
       "    </tr>\n",
       "    <tr>\n",
       "      <th>2023-04-26</th>\n",
       "      <td>64100.000000</td>\n",
       "      <td>47500.000000</td>\n",
       "    </tr>\n",
       "    <tr>\n",
       "      <th>2023-04-27</th>\n",
       "      <td>64600.000000</td>\n",
       "      <td>47350.000000</td>\n",
       "    </tr>\n",
       "    <tr>\n",
       "      <th>2023-04-28</th>\n",
       "      <td>65500.000000</td>\n",
       "      <td>47700.000000</td>\n",
       "    </tr>\n",
       "  </tbody>\n",
       "</table>\n",
       "<p>574 rows × 2 columns</p>\n",
       "</div>"
      ],
      "text/plain": [
       "                    삼성전자           SKT\n",
       "Date                                  \n",
       "2021-01-04  79093.812500  69000.554688\n",
       "2021-01-05  79951.445312  71620.828125\n",
       "2021-01-06  78331.453125  72930.960938\n",
       "2021-01-07  78998.507812  78608.226562\n",
       "2021-01-08  84620.843750  77152.507812\n",
       "...                  ...           ...\n",
       "2023-04-24  65200.000000  47700.000000\n",
       "2023-04-25  63600.000000  47750.000000\n",
       "2023-04-26  64100.000000  47500.000000\n",
       "2023-04-27  64600.000000  47350.000000\n",
       "2023-04-28  65500.000000  47700.000000\n",
       "\n",
       "[574 rows x 2 columns]"
      ]
     },
     "execution_count": 227,
     "metadata": {},
     "output_type": "execute_result"
    }
   ],
   "source": [
    "import yfinance as yf\n",
    "\n",
    "# 삼성전자와 SK하이닉스의 종목 코드\n",
    "tickers = [\"005930.KS\", \"017670.KS\"]\n",
    "\n",
    "# 주가 데이터를 불러올 기간\n",
    "start_date = \"2021-01-01\"\n",
    "end_date = \"2023-05-02\"\n",
    "\n",
    "# yfinance를 이용하여 데이터 다운로드\n",
    "df = yf.download(tickers, start=start_date, end=end_date)['Adj Close']\n",
    "df.columns = pd.Index(['삼성전자','SKT']) \n",
    "\n",
    "# 데이터 확인\n",
    "df"
   ]
  }
 ],
 "metadata": {
  "kernelspec": {
   "display_name": "Python 3",
   "language": "python",
   "name": "python3"
  },
  "language_info": {
   "codemirror_mode": {
    "name": "ipython",
    "version": 3
   },
   "file_extension": ".py",
   "mimetype": "text/x-python",
   "name": "python",
   "nbconvert_exporter": "python",
   "pygments_lexer": "ipython3",
   "version": "3.8.16"
  }
 },
 "nbformat": 4,
 "nbformat_minor": 5
}
