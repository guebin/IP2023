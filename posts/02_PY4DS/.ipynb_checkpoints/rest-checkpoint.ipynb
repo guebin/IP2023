{
 "cells": [
  {
   "cell_type": "markdown",
   "id": "e69bc116-aac7-4a3d-afc0-cbc61479fade",
   "metadata": {},
   "source": [
    "# 스무딩하니, 샤프하니"
   ]
  },
  {
   "cell_type": "markdown",
   "id": "79a4136b-9963-4d7d-8fed-e35c42d2b547",
   "metadata": {},
   "source": [
    "# 이미지자료 분석 "
   ]
  },
  {
   "cell_type": "markdown",
   "id": "6ce70950-10ee-470d-910d-0e132bcd7248",
   "metadata": {},
   "source": [
    "# 브로드캐스팅 "
   ]
  },
  {
   "cell_type": "markdown",
   "id": "877e4fad-e2da-4f6e-917c-06762e2f126d",
   "metadata": {},
   "source": [
    "# 확률변수 "
   ]
  },
  {
   "cell_type": "markdown",
   "id": "4dff3e3a-1ef9-4e64-986a-f3b9bafccfdb",
   "metadata": {},
   "source": [
    "`-` 베르누이분포의 합 "
   ]
  },
  {
   "cell_type": "markdown",
   "id": "56b70c5e-336b-4486-b791-7447a6753816",
   "metadata": {},
   "source": [
    "`-` 지수분포의 합"
   ]
  },
  {
   "cell_type": "markdown",
   "id": "13536197-3274-400b-af46-8d28ff28442b",
   "metadata": {},
   "source": [
    "`-` "
   ]
  },
  {
   "cell_type": "code",
   "execution_count": 2,
   "id": "cd1ffaeb-ff87-48d1-bfac-17a4e17b3ead",
   "metadata": {},
   "outputs": [],
   "source": [
    "import numpy as np"
   ]
  },
  {
   "cell_type": "code",
   "execution_count": 9,
   "id": "cd2f1a25-9f98-4305-b04a-0e9908dc316c",
   "metadata": {},
   "outputs": [
    {
     "data": {
      "text/plain": [
       "array([[8, 1],\n",
       "       [4, 3],\n",
       "       [5, 2]])"
      ]
     },
     "execution_count": 9,
     "metadata": {},
     "output_type": "execute_result"
    }
   ],
   "source": [
    "arr = np.array([[8,1], [4,3], [5,2]])\n",
    "arr"
   ]
  },
  {
   "cell_type": "code",
   "execution_count": 10,
   "id": "c6f1b289-e9fc-4d23-a167-ee0e70669976",
   "metadata": {},
   "outputs": [
    {
     "data": {
      "text/plain": [
       "array([9, 7, 7])"
      ]
     },
     "execution_count": 10,
     "metadata": {},
     "output_type": "execute_result"
    }
   ],
   "source": [
    "np.apply_along_axis(func1d=np.sum,axis=1,arr=arr)"
   ]
  },
  {
   "cell_type": "code",
   "execution_count": 11,
   "id": "81e212f0-0f0d-4a58-8f40-38eea4d3b6ca",
   "metadata": {},
   "outputs": [
    {
     "data": {
      "text/plain": [
       "array([[9, 2],\n",
       "       [5, 4],\n",
       "       [6, 3]])"
      ]
     },
     "execution_count": 11,
     "metadata": {},
     "output_type": "execute_result"
    }
   ],
   "source": [
    "np.apply_along_axis(func1d=lambda x: x+1,axis=1,arr=arr)"
   ]
  }
 ],
 "metadata": {
  "kernelspec": {
   "display_name": "Python 3",
   "language": "python",
   "name": "python3"
  },
  "language_info": {
   "codemirror_mode": {
    "name": "ipython",
    "version": 3
   },
   "file_extension": ".py",
   "mimetype": "text/x-python",
   "name": "python",
   "nbconvert_exporter": "python",
   "pygments_lexer": "ipython3",
   "version": "3.8.16"
  }
 },
 "nbformat": 4,
 "nbformat_minor": 5
}
