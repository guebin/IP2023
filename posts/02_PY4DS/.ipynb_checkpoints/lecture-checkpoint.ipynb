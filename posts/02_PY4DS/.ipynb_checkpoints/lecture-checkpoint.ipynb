{
 "cells": [
  {
   "cell_type": "code",
   "execution_count": 1,
   "id": "3e137183-e755-43bc-adaf-1f4dba948ffb",
   "metadata": {},
   "outputs": [],
   "source": [
    "import numpy as np"
   ]
  },
  {
   "cell_type": "markdown",
   "id": "36d32c93-db70-400e-9b97-100cd7672b58",
   "metadata": {},
   "source": [
    "# 넘파이 공부 4단계: 축 "
   ]
  },
  {
   "cell_type": "markdown",
   "id": "52730031-bd74-49e1-9d59-6855942a2526",
   "metadata": {},
   "source": [
    "## np.concatenate"
   ]
  },
  {
   "cell_type": "markdown",
   "id": "9c8b23c7-5d99-4272-bed7-5e3d437b80c5",
   "metadata": {},
   "source": [
    "## np.stack "
   ]
  },
  {
   "cell_type": "markdown",
   "id": "01ddbdf1-f8f9-452e-a30c-979da1ad2092",
   "metadata": {},
   "source": [
    "## sum"
   ]
  },
  {
   "cell_type": "markdown",
   "id": "598bf92c-6b3f-4e28-8446-3c61ac1876bf",
   "metadata": {},
   "source": [
    "## mean, std, max, min, prod "
   ]
  },
  {
   "cell_type": "markdown",
   "id": "7370c1df-9706-4091-8424-53e4d677582a",
   "metadata": {},
   "source": [
    "## argmax, argmin "
   ]
  },
  {
   "cell_type": "markdown",
   "id": "85d4c109-3a41-4137-ac21-f6ea51c31fbb",
   "metadata": {},
   "source": [
    "## cumsum, cumprod"
   ]
  },
  {
   "cell_type": "markdown",
   "id": "ef84867d-2172-4465-9ed4-231a8ecaa278",
   "metadata": {},
   "source": [
    "## diff "
   ]
  }
 ],
 "metadata": {
  "kernelspec": {
   "display_name": "Python 3",
   "language": "python",
   "name": "python3"
  },
  "language_info": {
   "codemirror_mode": {
    "name": "ipython",
    "version": 3
   },
   "file_extension": ".py",
   "mimetype": "text/x-python",
   "name": "python",
   "nbconvert_exporter": "python",
   "pygments_lexer": "ipython3",
   "version": "3.8.16"
  }
 },
 "nbformat": 4,
 "nbformat_minor": 5
}
