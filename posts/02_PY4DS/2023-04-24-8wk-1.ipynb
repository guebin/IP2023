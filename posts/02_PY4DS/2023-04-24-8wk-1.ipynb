{
 "cells": [
  {
   "cell_type": "raw",
   "id": "a4f8d160-3935-4c3e-9209-b647c69de10c",
   "metadata": {
    "tags": []
   },
   "source": [
    "---\n",
    "title: \"08wk-1: Pandas (1)\"\n",
    "author: \"최규빈\"\n",
    "date: \"04/24/2023\"\n",
    "---"
   ]
  }
 ],
 "metadata": {
  "kernelspec": {
   "display_name": "Python 3",
   "language": "python",
   "name": "python3"
  },
  "language_info": {
   "codemirror_mode": {
    "name": "ipython",
    "version": 3
   },
   "file_extension": ".py",
   "mimetype": "text/x-python",
   "name": "python",
   "nbconvert_exporter": "python",
   "pygments_lexer": "ipython3",
   "version": "3.8.16"
  }
 },
 "nbformat": 4,
 "nbformat_minor": 5
}
