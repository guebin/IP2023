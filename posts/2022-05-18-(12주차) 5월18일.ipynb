{
 "cells": [
  {
   "cell_type": "markdown",
   "id": "68d21b11-9125-4521-bd6d-9e66b2d030f9",
   "metadata": {
    "slideshow": {
     "slide_type": "slide"
    },
    "tags": []
   },
   "source": [
    "# (12주차) 5월18일\n",
    "> 클래스 공부 3단계\n",
    "\n",
    "- toc:true\n",
    "- branch: master\n",
    "- badges: true\n",
    "- comments: true\n",
    "- author: 최규빈"
   ]
  },
  {
   "cell_type": "markdown",
   "id": "a8ea1450-0347-4781-a37a-36f77f05ab5c",
   "metadata": {},
   "source": [
    "## 강의영상 "
   ]
  },
  {
   "cell_type": "markdown",
   "id": "56c1018f",
   "metadata": {},
   "source": [
    "> youtube: https://youtube.com/playlist?list=PLQqh36zP38-yAav-nx8zUjabLZXGYRyR2"
   ]
  },
  {
   "cell_type": "markdown",
   "id": "7735256a",
   "metadata": {},
   "source": [
    "`-` (1/6) 오브젝트의 개념 \n",
    "\n",
    "`-` (2/6) 예제1\n",
    "\n",
    "`-` (3/6) 예제2,3,4\n",
    "\n",
    "`-` (4/6) 예제5\n",
    "\n",
    "`-` (5/6) 예제 6,7 \n",
    "\n",
    "`-` (6/6) 숙제설명 "
   ]
  },
  {
   "cell_type": "markdown",
   "id": "2c665600-331a-4f78-89ea-5d338fc5bd84",
   "metadata": {},
   "source": [
    "## 클래스 공부 3단계 "
   ]
  },
  {
   "cell_type": "markdown",
   "id": "da4fe17a-2ecf-4b06-8924-e98be07daae2",
   "metadata": {},
   "source": [
    "`-` 이 단계에서는 클래스오브젝트에 소속된 변수와 인스턴스오브젝트에 소속된 변수를 설명한다. "
   ]
  },
  {
   "cell_type": "markdown",
   "id": "85b5e7a9-0ecc-4225-8beb-8d8ed917ef1b",
   "metadata": {},
   "source": [
    "### 오브젝트의 개념 "
   ]
  },
  {
   "cell_type": "markdown",
   "id": "46880251-42b6-4ba5-9aff-064822c98b62",
   "metadata": {},
   "source": [
    "`-` 파이썬은 모든 것이 오브젝트로 이루어져 있다. <- 우선은 그냥 명언처럼 외우세요 "
   ]
  },
  {
   "cell_type": "markdown",
   "id": "c7e683bc-8280-45f0-af82-c3101652eac2",
   "metadata": {},
   "source": [
    "`-` 오브젝트는 메모리주소에 저장되는 모든것을 의미한다. "
   ]
  },
  {
   "cell_type": "code",
   "execution_count": 3,
   "id": "6f0d5cba-1178-40d7-a259-f1c6431b8efb",
   "metadata": {},
   "outputs": [
    {
     "data": {
      "text/plain": [
       "140193842610416"
      ]
     },
     "execution_count": 3,
     "metadata": {},
     "output_type": "execute_result"
    }
   ],
   "source": [
    "a=1\n",
    "id(a) # 메모리주소를 보는 명령어 "
   ]
  },
  {
   "cell_type": "code",
   "execution_count": 4,
   "id": "ff923fd9-bad6-41e7-bae6-bf24e1588ca3",
   "metadata": {},
   "outputs": [
    {
     "data": {
      "text/plain": [
       "140193794777968"
      ]
     },
     "execution_count": 4,
     "metadata": {},
     "output_type": "execute_result"
    }
   ],
   "source": [
    "a='asdf' \n",
    "id(a)"
   ]
  },
  {
   "cell_type": "code",
   "execution_count": 5,
   "id": "e6d9294b-9fc5-4048-8960-2c04f3396ae8",
   "metadata": {},
   "outputs": [
    {
     "data": {
      "text/plain": [
       "140193794512384"
      ]
     },
     "execution_count": 5,
     "metadata": {},
     "output_type": "execute_result"
    }
   ],
   "source": [
    "a=[1,2,3]\n",
    "id(a)"
   ]
  },
  {
   "cell_type": "markdown",
   "id": "25f83d5a-c855-416a-ae1c-83fdf0e9efbe",
   "metadata": {},
   "source": [
    "`-` 클래스와 인스턴스도 오브젝트다 "
   ]
  },
  {
   "cell_type": "code",
   "execution_count": 6,
   "id": "cd49545b-efd5-4fa7-9bed-c8061326b58f",
   "metadata": {},
   "outputs": [],
   "source": [
    "class A:\n",
    "    x=0 \n",
    "    def f(self):\n",
    "        print(self.x) "
   ]
  },
  {
   "cell_type": "code",
   "execution_count": 7,
   "id": "9d2df562-0d76-4e33-8bb3-7e353229bd1b",
   "metadata": {},
   "outputs": [
    {
     "data": {
      "text/plain": [
       "94740835761168"
      ]
     },
     "execution_count": 7,
     "metadata": {},
     "output_type": "execute_result"
    }
   ],
   "source": [
    "id(A)"
   ]
  },
  {
   "cell_type": "markdown",
   "id": "3e4a9eb9-b796-434f-8624-5e25068ceded",
   "metadata": {},
   "source": [
    "- A는 오브젝트"
   ]
  },
  {
   "cell_type": "code",
   "execution_count": 8,
   "id": "e0251884-f3fa-4c20-8d1f-8529e4c9ef31",
   "metadata": {},
   "outputs": [],
   "source": [
    "a=A()"
   ]
  },
  {
   "cell_type": "code",
   "execution_count": 9,
   "id": "0412c28b-71fb-4f52-bb2a-edbfc7bd274b",
   "metadata": {},
   "outputs": [
    {
     "data": {
      "text/plain": [
       "140193794535776"
      ]
     },
     "execution_count": 9,
     "metadata": {},
     "output_type": "execute_result"
    }
   ],
   "source": [
    "id(a)"
   ]
  },
  {
   "cell_type": "markdown",
   "id": "851775ef-74f9-4b8a-8953-b1b02ae901d3",
   "metadata": {},
   "source": [
    "- a는 오브젝트"
   ]
  },
  {
   "cell_type": "code",
   "execution_count": 10,
   "id": "8654ee5e-663c-42e1-8c52-f4cfe61092ba",
   "metadata": {},
   "outputs": [],
   "source": [
    "b=A()"
   ]
  },
  {
   "cell_type": "code",
   "execution_count": 11,
   "id": "a8fc9a66-465f-40ab-b37c-5b4e0da30ca0",
   "metadata": {},
   "outputs": [
    {
     "data": {
      "text/plain": [
       "140193794529632"
      ]
     },
     "execution_count": 11,
     "metadata": {},
     "output_type": "execute_result"
    }
   ],
   "source": [
    "id(b)"
   ]
  },
  {
   "cell_type": "markdown",
   "id": "31b87d48-7ae7-48ac-bcfe-43f30c5cd4c3",
   "metadata": {},
   "source": [
    "- b는 오브젝트"
   ]
  },
  {
   "cell_type": "markdown",
   "id": "8c68b4cd-9e58-445d-9221-d0df40c7e0aa",
   "metadata": {},
   "source": [
    "`-` 앞으로는 A를 클래스오브젝트, a,b를 인스턴스오브젝트라고 부르자."
   ]
  },
  {
   "cell_type": "markdown",
   "id": "54539e0b-ad8d-4dfd-b962-218cbf25b504",
   "metadata": {},
   "source": [
    "### 예제1: 클래스변수, 인스턴스변수 "
   ]
  },
  {
   "cell_type": "markdown",
   "id": "6ab5027b-f601-428d-a0c7-c406f0aaa00e",
   "metadata": {},
   "source": [
    "`-` 시점0"
   ]
  },
  {
   "cell_type": "code",
   "execution_count": 43,
   "id": "82c4d7a0-0594-42ab-9ce1-ff16da6f63f6",
   "metadata": {},
   "outputs": [],
   "source": [
    "class A: \n",
    "    x=0\n",
    "    y=0 \n",
    "    def f(self):\n",
    "        self.x = self.x + 1 \n",
    "        A.y = A.y + 1 \n",
    "        print(\"현재 인스턴스에서 f가 {}번 실행\".format(self.x))\n",
    "        print(\"A클래스에서 만들어진 모든 인스턴스들에서 f가 총 {}번 실행\".format(self.y))"
   ]
  },
  {
   "cell_type": "code",
   "execution_count": 44,
   "id": "be7d9d2d-e975-4cdf-8797-a1f07cb8e6ae",
   "metadata": {},
   "outputs": [
    {
     "data": {
      "text/plain": [
       "(0, 0)"
      ]
     },
     "execution_count": 44,
     "metadata": {},
     "output_type": "execute_result"
    }
   ],
   "source": [
    "A.x, A.y"
   ]
  },
  {
   "cell_type": "markdown",
   "id": "87196d79-1be6-4781-9355-d51108f7e004",
   "metadata": {},
   "source": [
    "`-` 시점1"
   ]
  },
  {
   "cell_type": "code",
   "execution_count": 45,
   "id": "cf0b51ad-22a9-40c4-8ff9-75f7b746f034",
   "metadata": {},
   "outputs": [],
   "source": [
    "a = A() "
   ]
  },
  {
   "cell_type": "code",
   "execution_count": 46,
   "id": "c63c9f35-8e96-4dea-a927-c170ad52b319",
   "metadata": {},
   "outputs": [],
   "source": [
    "b = A()"
   ]
  },
  {
   "cell_type": "code",
   "execution_count": 47,
   "id": "857acfe4-b7c7-45ff-a884-7681469d28d0",
   "metadata": {},
   "outputs": [
    {
     "data": {
      "text/plain": [
       "([0, 0], [0, 0], [0, 0])"
      ]
     },
     "execution_count": 47,
     "metadata": {},
     "output_type": "execute_result"
    }
   ],
   "source": [
    "[A.x,A.y], [a.x,a.y], [b.x,b.y]"
   ]
  },
  {
   "cell_type": "markdown",
   "id": "c3eafb2a-dd43-4d0a-8ba7-e3bd3aa68bda",
   "metadata": {},
   "source": [
    "`-` 시점2"
   ]
  },
  {
   "cell_type": "code",
   "execution_count": 48,
   "id": "689b7ce0-dd9d-4b33-808f-1b2c90e60900",
   "metadata": {},
   "outputs": [
    {
     "name": "stdout",
     "output_type": "stream",
     "text": [
      "현재 인스턴스에서 f가 1번 실행\n",
      "A클래스에서 만들어진 모든 인스턴스들에서 f가 총 1번 실행\n"
     ]
    }
   ],
   "source": [
    "a.f()"
   ]
  },
  {
   "cell_type": "code",
   "execution_count": 49,
   "id": "8f2e78f0-3bbf-4e6e-9d6c-fd2ef133767b",
   "metadata": {},
   "outputs": [
    {
     "data": {
      "text/plain": [
       "([0, 1], [1, 1], [0, 1])"
      ]
     },
     "execution_count": 49,
     "metadata": {},
     "output_type": "execute_result"
    }
   ],
   "source": [
    "[A.x,A.y], [a.x,a.y], [b.x,b.y]"
   ]
  },
  {
   "cell_type": "markdown",
   "id": "41a19752-746d-4769-b0a7-e1a4d30c8551",
   "metadata": {},
   "source": [
    "`-` 시점3"
   ]
  },
  {
   "cell_type": "code",
   "execution_count": 50,
   "id": "61c5f9fb-1845-48f0-83c2-e986ef0d0379",
   "metadata": {},
   "outputs": [
    {
     "name": "stdout",
     "output_type": "stream",
     "text": [
      "현재 인스턴스에서 f가 1번 실행\n",
      "A클래스에서 만들어진 모든 인스턴스들에서 f가 총 2번 실행\n"
     ]
    }
   ],
   "source": [
    "b.f()"
   ]
  },
  {
   "cell_type": "code",
   "execution_count": 51,
   "id": "51c2f1bb-e247-4c80-8a14-09b54f0d202a",
   "metadata": {},
   "outputs": [
    {
     "data": {
      "text/plain": [
       "([0, 2], [1, 2], [1, 2])"
      ]
     },
     "execution_count": 51,
     "metadata": {},
     "output_type": "execute_result"
    }
   ],
   "source": [
    "[A.x,A.y], [a.x,a.y], [b.x,b.y]"
   ]
  },
  {
   "cell_type": "markdown",
   "id": "d4cb1ce4-8597-491a-8b60-d0f6cccf6194",
   "metadata": {},
   "source": [
    "`-` 시점4"
   ]
  },
  {
   "cell_type": "code",
   "execution_count": 52,
   "id": "ced33bce-6cd1-49d6-9373-4f4f0e573c7d",
   "metadata": {},
   "outputs": [
    {
     "name": "stdout",
     "output_type": "stream",
     "text": [
      "현재 인스턴스에서 f가 2번 실행\n",
      "A클래스에서 만들어진 모든 인스턴스들에서 f가 총 3번 실행\n"
     ]
    }
   ],
   "source": [
    "b.f()"
   ]
  },
  {
   "cell_type": "code",
   "execution_count": 53,
   "id": "909e1b95-018b-46b4-a50e-93f419a52873",
   "metadata": {},
   "outputs": [
    {
     "data": {
      "text/plain": [
       "([0, 3], [1, 3], [2, 3])"
      ]
     },
     "execution_count": 53,
     "metadata": {},
     "output_type": "execute_result"
    }
   ],
   "source": [
    "[A.x,A.y], [a.x,a.y], [b.x,b.y]"
   ]
  },
  {
   "cell_type": "markdown",
   "id": "bb034457-9219-401a-82d8-b7c3937fad3a",
   "metadata": {},
   "source": [
    "`-` 시점5"
   ]
  },
  {
   "cell_type": "code",
   "execution_count": 54,
   "id": "a9152dd7-5d90-4a38-94ef-db3e9f95cb8d",
   "metadata": {},
   "outputs": [
    {
     "name": "stdout",
     "output_type": "stream",
     "text": [
      "현재 인스턴스에서 f가 2번 실행\n",
      "A클래스에서 만들어진 모든 인스턴스들에서 f가 총 4번 실행\n"
     ]
    }
   ],
   "source": [
    "a.f()"
   ]
  },
  {
   "cell_type": "code",
   "execution_count": 55,
   "id": "5faccb5b-9426-4c17-9c1d-e24e32ab6155",
   "metadata": {},
   "outputs": [
    {
     "data": {
      "text/plain": [
       "([0, 4], [2, 4], [2, 4])"
      ]
     },
     "execution_count": 55,
     "metadata": {},
     "output_type": "execute_result"
    }
   ],
   "source": [
    "[A.x,A.y], [a.x,a.y], [b.x,b.y]"
   ]
  },
  {
   "cell_type": "markdown",
   "id": "f0493bb2-42fa-4ed3-b5c5-c7f60cc035a2",
   "metadata": {},
   "source": [
    "`-` 시점6"
   ]
  },
  {
   "cell_type": "code",
   "execution_count": 56,
   "id": "69ed4624-5c7c-4880-aec0-ebee9a4ba573",
   "metadata": {},
   "outputs": [],
   "source": [
    "c=A()"
   ]
  },
  {
   "cell_type": "code",
   "execution_count": 57,
   "id": "e03506cd-5c12-471b-a50f-07a42d2d05d4",
   "metadata": {},
   "outputs": [
    {
     "data": {
      "text/plain": [
       "([0, 4], [2, 4], [2, 4], [0, 4])"
      ]
     },
     "execution_count": 57,
     "metadata": {},
     "output_type": "execute_result"
    }
   ],
   "source": [
    "[A.x,A.y], [a.x,a.y], [b.x,b.y], [c.x,c.y]"
   ]
  },
  {
   "cell_type": "markdown",
   "id": "d033809e-efff-46c6-89b0-353f80faa247",
   "metadata": {},
   "source": [
    "`-` 시점7"
   ]
  },
  {
   "cell_type": "code",
   "execution_count": 58,
   "id": "b817f5d3-e2f6-40c9-b659-db677854168b",
   "metadata": {},
   "outputs": [
    {
     "name": "stdout",
     "output_type": "stream",
     "text": [
      "현재 인스턴스에서 f가 1번 실행\n",
      "A클래스에서 만들어진 모든 인스턴스들에서 f가 총 5번 실행\n"
     ]
    }
   ],
   "source": [
    "c.f()"
   ]
  },
  {
   "cell_type": "code",
   "execution_count": 60,
   "id": "8c166dcc-8e75-49eb-8856-0e638a56bc51",
   "metadata": {},
   "outputs": [
    {
     "data": {
      "text/plain": [
       "([0, 5], [2, 5], [2, 5], [1, 5])"
      ]
     },
     "execution_count": 60,
     "metadata": {},
     "output_type": "execute_result"
    }
   ],
   "source": [
    "[A.x,A.y], [a.x,a.y], [b.x,b.y], [c.x,c.y]"
   ]
  },
  {
   "cell_type": "markdown",
   "id": "a012d70a-ed37-45e8-bfce-ed0b3e82ab0e",
   "metadata": {},
   "source": [
    "`-` 신기한점: 각 인스턴스에서 `인스턴스이름.f()`를 실행한 횟수를 서로 공유하는 듯 하다. (A의 관리하는 것처럼 느껴진다)"
   ]
  },
  {
   "cell_type": "markdown",
   "id": "c6dbaad3-a978-4de0-a452-15864088334e",
   "metadata": {},
   "source": [
    "`-` x와 y는 약간 느낌이 다르다. x는 지점소속, y는 본사소속의 느낌? "
   ]
  },
  {
   "cell_type": "markdown",
   "id": "1c144564-ffb9-4d76-99cc-dbc45b237221",
   "metadata": {},
   "source": [
    "> 이 예제에서 x는 인스턴스오브젝트에 소속된 변수, y는 클래스오브젝트에 소속된 변수처럼 느껴짐 "
   ]
  },
  {
   "cell_type": "markdown",
   "id": "f18ac375-ca30-4e1e-9aac-fa66749938c2",
   "metadata": {},
   "source": [
    "(약속) 앞으로 인스턴스오브젝트에 소속된 변수를 인스턴스변수라고 하고, 클래스오브젝트에 소속된 변수를 클래스변수라고 하자. "
   ]
  },
  {
   "cell_type": "markdown",
   "id": "5e516dea-ceb8-40b3-8d9f-73e7da14672c",
   "metadata": {},
   "source": [
    "`-` 인스턴스변수와 클래스변수를 구분하는 방법? `인스턴스이름.__dict__`를 쓰면 인스턴스변수만 출력된다"
   ]
  },
  {
   "cell_type": "markdown",
   "id": "84dffc10-1a69-46a9-9d47-5b6d3136b571",
   "metadata": {},
   "source": [
    "- 따라서 a.+ tab을 눌러서 나오는 변수중 `a.__dict__`에 출력되지 않으면 클래스변수이다. "
   ]
  },
  {
   "cell_type": "code",
   "execution_count": 62,
   "id": "79d54519-875c-4302-828e-26d04f9e631a",
   "metadata": {},
   "outputs": [
    {
     "data": {
      "text/plain": [
       "{'x': 2}"
      ]
     },
     "execution_count": 62,
     "metadata": {},
     "output_type": "execute_result"
    }
   ],
   "source": [
    "a.__dict__ "
   ]
  },
  {
   "cell_type": "code",
   "execution_count": 63,
   "id": "12fb0227-be3c-4a20-baa0-f0c61b22dd20",
   "metadata": {},
   "outputs": [
    {
     "data": {
      "text/plain": [
       "{'x': 2}"
      ]
     },
     "execution_count": 63,
     "metadata": {},
     "output_type": "execute_result"
    }
   ],
   "source": [
    "b.__dict__ "
   ]
  },
  {
   "cell_type": "code",
   "execution_count": 64,
   "id": "afbb498b-c9a8-4bd4-804f-fd54edd0daf2",
   "metadata": {},
   "outputs": [
    {
     "data": {
      "text/plain": [
       "{'x': 1}"
      ]
     },
     "execution_count": 64,
     "metadata": {},
     "output_type": "execute_result"
    }
   ],
   "source": [
    "c.__dict__"
   ]
  },
  {
   "cell_type": "markdown",
   "id": "195ba913-9507-41b1-be87-03bd997b9f6e",
   "metadata": {},
   "source": [
    "`-` 이 예제에서 아래는 모두 클래스변수이다. "
   ]
  },
  {
   "cell_type": "code",
   "execution_count": 65,
   "id": "a1da4fa4-2f74-4989-b23d-4fbd936aa355",
   "metadata": {},
   "outputs": [
    {
     "data": {
      "text/plain": [
       "(5, 5, 5)"
      ]
     },
     "execution_count": 65,
     "metadata": {},
     "output_type": "execute_result"
    }
   ],
   "source": [
    "a.y, b.y, c.y "
   ]
  },
  {
   "cell_type": "markdown",
   "id": "24ed77b6-81e3-4898-ba6d-e9e80f4c16ca",
   "metadata": {},
   "source": [
    "### 예제2: 인스턴스에서 변수x 변경 (변경가능)"
   ]
  },
  {
   "cell_type": "markdown",
   "id": "1aa8642f-896a-4962-8bae-c37e114ea42f",
   "metadata": {},
   "source": [
    "`-` 시점0"
   ]
  },
  {
   "cell_type": "code",
   "execution_count": 66,
   "id": "376140b3-447a-4bb3-bec2-bf0a2e823d16",
   "metadata": {},
   "outputs": [],
   "source": [
    "class A: \n",
    "    x=0\n",
    "    y=0 \n",
    "    def f(self):\n",
    "        self.x = self.x + 1 \n",
    "        A.y = A.y + 1 \n",
    "        print(\"현재 인스턴스에서 f가 {}번 실행\".format(self.x))\n",
    "        print(\"A클래스에서 만들어진 모든 인스턴스들에서 f가 총 {}번 실행\".format(self.y))"
   ]
  },
  {
   "cell_type": "code",
   "execution_count": 67,
   "id": "9a1acef4-6c01-4e04-b9a7-41d61dd6aaf6",
   "metadata": {},
   "outputs": [],
   "source": [
    "a=A()"
   ]
  },
  {
   "cell_type": "code",
   "execution_count": 68,
   "id": "f0dfad8e-a2e3-45d2-8d65-8b6a8c8e63bd",
   "metadata": {},
   "outputs": [
    {
     "data": {
      "text/plain": [
       "([0, 0], [0, 0])"
      ]
     },
     "execution_count": 68,
     "metadata": {},
     "output_type": "execute_result"
    }
   ],
   "source": [
    "[A.x,A.y], [a.x,a.y]"
   ]
  },
  {
   "cell_type": "markdown",
   "id": "d4858d12-9c44-4458-a2a5-6102b110b44d",
   "metadata": {},
   "source": [
    "`-` 시점1"
   ]
  },
  {
   "cell_type": "code",
   "execution_count": 69,
   "id": "1dca47c0-b422-4510-8790-c1f884c2ad43",
   "metadata": {},
   "outputs": [
    {
     "name": "stdout",
     "output_type": "stream",
     "text": [
      "현재 인스턴스에서 f가 1번 실행\n",
      "A클래스에서 만들어진 모든 인스턴스들에서 f가 총 1번 실행\n"
     ]
    }
   ],
   "source": [
    "a.f()"
   ]
  },
  {
   "cell_type": "code",
   "execution_count": 70,
   "id": "4a3ca23f-6484-4788-a205-3f1d79d94be2",
   "metadata": {},
   "outputs": [
    {
     "name": "stdout",
     "output_type": "stream",
     "text": [
      "현재 인스턴스에서 f가 2번 실행\n",
      "A클래스에서 만들어진 모든 인스턴스들에서 f가 총 2번 실행\n"
     ]
    }
   ],
   "source": [
    "a.f()"
   ]
  },
  {
   "cell_type": "code",
   "execution_count": 71,
   "id": "9ae7f59c-d9df-4118-bd9e-3bc10210779f",
   "metadata": {},
   "outputs": [
    {
     "name": "stdout",
     "output_type": "stream",
     "text": [
      "현재 인스턴스에서 f가 3번 실행\n",
      "A클래스에서 만들어진 모든 인스턴스들에서 f가 총 3번 실행\n"
     ]
    }
   ],
   "source": [
    "a.f()"
   ]
  },
  {
   "cell_type": "code",
   "execution_count": 72,
   "id": "8eac40bf-2bee-478e-a4eb-4769a0577eda",
   "metadata": {},
   "outputs": [
    {
     "data": {
      "text/plain": [
       "([0, 3], [3, 3])"
      ]
     },
     "execution_count": 72,
     "metadata": {},
     "output_type": "execute_result"
    }
   ],
   "source": [
    "[A.x,A.y], [a.x,a.y]"
   ]
  },
  {
   "cell_type": "markdown",
   "id": "13f97b7e-023b-4262-ba59-448952274be5",
   "metadata": {},
   "source": [
    "`-` 시점2"
   ]
  },
  {
   "cell_type": "code",
   "execution_count": 74,
   "id": "39f1a61e-0d73-41ab-acac-2907d243303d",
   "metadata": {},
   "outputs": [],
   "source": [
    "a.x = 0 # f의 실행기록을 초기화하고 싶다"
   ]
  },
  {
   "cell_type": "code",
   "execution_count": 75,
   "id": "31205046-8b65-4e55-a423-79827a4d6ae9",
   "metadata": {},
   "outputs": [
    {
     "name": "stdout",
     "output_type": "stream",
     "text": [
      "현재 인스턴스에서 f가 1번 실행\n",
      "A클래스에서 만들어진 모든 인스턴스들에서 f가 총 4번 실행\n"
     ]
    }
   ],
   "source": [
    "a.f()"
   ]
  },
  {
   "cell_type": "code",
   "execution_count": 76,
   "id": "d087b909-f9b0-4da6-a2f2-f24770f1792a",
   "metadata": {},
   "outputs": [
    {
     "data": {
      "text/plain": [
       "([0, 4], [1, 4])"
      ]
     },
     "execution_count": 76,
     "metadata": {},
     "output_type": "execute_result"
    }
   ],
   "source": [
    "[A.x,A.y], [a.x,a.y]"
   ]
  },
  {
   "cell_type": "markdown",
   "id": "cd1085ce-9461-421f-b37f-edc489201c6b",
   "metadata": {},
   "source": [
    "### 예제3: 클래스에서 변수y 변경 (변경가능)"
   ]
  },
  {
   "cell_type": "markdown",
   "id": "827b7884-5705-4327-bc9c-b352bcf378e8",
   "metadata": {},
   "source": [
    "`-` 시점0"
   ]
  },
  {
   "cell_type": "code",
   "execution_count": 77,
   "id": "c5cccf47-b1eb-46fd-ac4a-413f6c675068",
   "metadata": {},
   "outputs": [],
   "source": [
    "class A: \n",
    "    x=0\n",
    "    y=0 \n",
    "    def f(self):\n",
    "        self.x = self.x + 1 \n",
    "        A.y = A.y + 1 \n",
    "        print(\"현재 인스턴스에서 f가 {}번 실행\".format(self.x))\n",
    "        print(\"A클래스에서 만들어진 모든 인스턴스들에서 f가 총 {}번 실행\".format(self.y))"
   ]
  },
  {
   "cell_type": "code",
   "execution_count": 78,
   "id": "c663cf8b-f8a4-40bc-817c-d740a8ea9483",
   "metadata": {},
   "outputs": [],
   "source": [
    "a=A()"
   ]
  },
  {
   "cell_type": "code",
   "execution_count": 79,
   "id": "dad21a26-e09c-461d-99dd-f2f427bb045a",
   "metadata": {},
   "outputs": [],
   "source": [
    "b=A()"
   ]
  },
  {
   "cell_type": "code",
   "execution_count": 80,
   "id": "9e54e56a-3e50-4ed5-ae82-2b8c3c703137",
   "metadata": {},
   "outputs": [
    {
     "data": {
      "text/plain": [
       "([0, 0], [0, 0], [0, 0])"
      ]
     },
     "execution_count": 80,
     "metadata": {},
     "output_type": "execute_result"
    }
   ],
   "source": [
    "[A.x,A.y], [a.x,a.y], [b.x,b.y]"
   ]
  },
  {
   "cell_type": "markdown",
   "id": "ca69a2a0-42cb-41a2-93bd-974695d723bc",
   "metadata": {},
   "source": [
    "`-` 시점1"
   ]
  },
  {
   "cell_type": "code",
   "execution_count": 81,
   "id": "a21b3f85-85a9-4097-99bc-16ee38d28d0e",
   "metadata": {},
   "outputs": [
    {
     "name": "stdout",
     "output_type": "stream",
     "text": [
      "현재 인스턴스에서 f가 1번 실행\n",
      "A클래스에서 만들어진 모든 인스턴스들에서 f가 총 1번 실행\n"
     ]
    }
   ],
   "source": [
    "a.f()"
   ]
  },
  {
   "cell_type": "code",
   "execution_count": 82,
   "id": "1efb31df-0d2f-4479-beba-3c8ccc407761",
   "metadata": {},
   "outputs": [
    {
     "data": {
      "text/plain": [
       "([0, 1], [1, 1], [0, 1])"
      ]
     },
     "execution_count": 82,
     "metadata": {},
     "output_type": "execute_result"
    }
   ],
   "source": [
    "[A.x,A.y], [a.x,a.y], [b.x,b.y]"
   ]
  },
  {
   "cell_type": "markdown",
   "id": "525d892b-e147-49ec-a059-ce7747c8fbce",
   "metadata": {},
   "source": [
    "`-` 시점2"
   ]
  },
  {
   "cell_type": "code",
   "execution_count": 85,
   "id": "2281ca44-4866-4d2c-bfed-4184726804e8",
   "metadata": {},
   "outputs": [],
   "source": [
    "A.y = 100 "
   ]
  },
  {
   "cell_type": "code",
   "execution_count": 86,
   "id": "9d875182-9ee7-476c-b967-7a551c0d5744",
   "metadata": {},
   "outputs": [
    {
     "data": {
      "text/plain": [
       "([0, 100], [1, 100], [0, 100])"
      ]
     },
     "execution_count": 86,
     "metadata": {},
     "output_type": "execute_result"
    }
   ],
   "source": [
    "[A.x,A.y], [a.x,a.y], [b.x,b.y]"
   ]
  },
  {
   "cell_type": "code",
   "execution_count": 87,
   "id": "6bb07fa3-17da-4d14-b2eb-3ee5c2f4df57",
   "metadata": {},
   "outputs": [
    {
     "name": "stdout",
     "output_type": "stream",
     "text": [
      "현재 인스턴스에서 f가 2번 실행\n",
      "A클래스에서 만들어진 모든 인스턴스들에서 f가 총 101번 실행\n"
     ]
    }
   ],
   "source": [
    "a.f()"
   ]
  },
  {
   "cell_type": "code",
   "execution_count": 88,
   "id": "f6672506-1a62-4278-8719-5b4efb9879f7",
   "metadata": {},
   "outputs": [
    {
     "data": {
      "text/plain": [
       "([0, 101], [2, 101], [0, 101])"
      ]
     },
     "execution_count": 88,
     "metadata": {},
     "output_type": "execute_result"
    }
   ],
   "source": [
    "[A.x,A.y], [a.x,a.y], [b.x,b.y]"
   ]
  },
  {
   "cell_type": "markdown",
   "id": "b0f115e3-e0e6-4fc4-9834-d99bf7e79e83",
   "metadata": {},
   "source": [
    "### 예제4: 클래스에서 변수x 변경 (변경가능)"
   ]
  },
  {
   "cell_type": "markdown",
   "id": "706b24a2-8006-4ba2-9660-6505dd161289",
   "metadata": {},
   "source": [
    "`-` 시점0"
   ]
  },
  {
   "cell_type": "code",
   "execution_count": 106,
   "id": "2e79682a-6110-4895-ab57-b86ff41572ff",
   "metadata": {},
   "outputs": [],
   "source": [
    "class A: \n",
    "    x=0\n",
    "    y=0 \n",
    "    def f(self):\n",
    "        self.x = self.x + 1 \n",
    "        A.y = A.y + 1 \n",
    "        print(\"현재 인스턴스에서 f가 {}번 실행\".format(self.x))\n",
    "        print(\"A클래스에서 만들어진 모든 인스턴스들에서 f가 총 {}번 실행\".format(self.y))"
   ]
  },
  {
   "cell_type": "code",
   "execution_count": 107,
   "id": "cd8bf268-04ce-4a27-a344-de3a11ed2763",
   "metadata": {},
   "outputs": [],
   "source": [
    "a=A()"
   ]
  },
  {
   "cell_type": "code",
   "execution_count": 108,
   "id": "ebbe1efe-fa76-4e1a-9a53-db1c8fa5c579",
   "metadata": {},
   "outputs": [
    {
     "data": {
      "text/plain": [
       "([0, 0], [0, 0])"
      ]
     },
     "execution_count": 108,
     "metadata": {},
     "output_type": "execute_result"
    }
   ],
   "source": [
    "[A.x, A.y], [a.x,a.y]"
   ]
  },
  {
   "cell_type": "markdown",
   "id": "54a18a3d-c29c-4c37-bd71-16d9e932c019",
   "metadata": {},
   "source": [
    "`-` 시점1"
   ]
  },
  {
   "cell_type": "code",
   "execution_count": 109,
   "id": "db39c99b-d0ff-4ed2-9cd2-15bab4dd56b7",
   "metadata": {},
   "outputs": [
    {
     "name": "stdout",
     "output_type": "stream",
     "text": [
      "현재 인스턴스에서 f가 1번 실행\n",
      "A클래스에서 만들어진 모든 인스턴스들에서 f가 총 1번 실행\n"
     ]
    }
   ],
   "source": [
    "a.f()"
   ]
  },
  {
   "cell_type": "code",
   "execution_count": 110,
   "id": "fcc213c0-df21-420f-8a71-9723c768e683",
   "metadata": {},
   "outputs": [
    {
     "data": {
      "text/plain": [
       "([0, 1], [1, 1])"
      ]
     },
     "execution_count": 110,
     "metadata": {},
     "output_type": "execute_result"
    }
   ],
   "source": [
    "[A.x, A.y], [a.x,a.y]"
   ]
  },
  {
   "cell_type": "markdown",
   "id": "7d460e31-0a3c-4300-9cb2-323d0fa87aec",
   "metadata": {},
   "source": [
    "`-` 시점2"
   ]
  },
  {
   "cell_type": "code",
   "execution_count": 111,
   "id": "a6b67b40-2f97-4928-ae2f-1277d1c0e9d7",
   "metadata": {},
   "outputs": [],
   "source": [
    "A.x = 100 # 이렇게 되면 앞으로 만들어진 인스턴스는 기본적으로 현재 인스턴스에서 100번 f를 실행하였다는 정보를 가지고 태어나게 된다. "
   ]
  },
  {
   "cell_type": "code",
   "execution_count": 112,
   "id": "5593dbe5-cbaf-41fd-8fea-3ba3da7841e9",
   "metadata": {},
   "outputs": [
    {
     "data": {
      "text/plain": [
       "([100, 1], [1, 1])"
      ]
     },
     "execution_count": 112,
     "metadata": {},
     "output_type": "execute_result"
    }
   ],
   "source": [
    "[A.x, A.y], [a.x,a.y]"
   ]
  },
  {
   "cell_type": "markdown",
   "id": "0468185e-7a15-45c1-9bd0-f481f165aeaf",
   "metadata": {},
   "source": [
    "`-` 시점3"
   ]
  },
  {
   "cell_type": "code",
   "execution_count": 113,
   "id": "0640bd84-8d92-4ad1-a609-40d4d28bdade",
   "metadata": {},
   "outputs": [],
   "source": [
    "b=A()"
   ]
  },
  {
   "cell_type": "code",
   "execution_count": 114,
   "id": "f56672bb-8da1-4b27-8d71-e0166569ee12",
   "metadata": {},
   "outputs": [
    {
     "data": {
      "text/plain": [
       "([100, 1], [1, 1], [100, 1])"
      ]
     },
     "execution_count": 114,
     "metadata": {},
     "output_type": "execute_result"
    }
   ],
   "source": [
    "[A.x, A.y], [a.x,a.y], [b.x,b.y] "
   ]
  },
  {
   "cell_type": "markdown",
   "id": "f0d19390-2bd9-48a7-81aa-40e349ec714f",
   "metadata": {},
   "source": [
    "`-` 시점4"
   ]
  },
  {
   "cell_type": "code",
   "execution_count": 115,
   "id": "7710cdb9-f5be-4a3e-b5ce-dc5ea365408b",
   "metadata": {},
   "outputs": [
    {
     "name": "stdout",
     "output_type": "stream",
     "text": [
      "현재 인스턴스에서 f가 101번 실행\n",
      "A클래스에서 만들어진 모든 인스턴스들에서 f가 총 2번 실행\n"
     ]
    }
   ],
   "source": [
    "b.f()"
   ]
  },
  {
   "cell_type": "markdown",
   "id": "f9ccb0fe-2b2b-4bdd-b24c-f226e8febeae",
   "metadata": {},
   "source": [
    "`-` 시점5"
   ]
  },
  {
   "cell_type": "code",
   "execution_count": 116,
   "id": "fcf19860-2b47-4bf0-8e7c-583f86b32841",
   "metadata": {},
   "outputs": [
    {
     "name": "stdout",
     "output_type": "stream",
     "text": [
      "현재 인스턴스에서 f가 2번 실행\n",
      "A클래스에서 만들어진 모든 인스턴스들에서 f가 총 3번 실행\n"
     ]
    }
   ],
   "source": [
    "a.f()"
   ]
  },
  {
   "cell_type": "code",
   "execution_count": 117,
   "id": "a8f88726-3ed5-4759-a35e-6df15183b048",
   "metadata": {},
   "outputs": [
    {
     "name": "stdout",
     "output_type": "stream",
     "text": [
      "현재 인스턴스에서 f가 3번 실행\n",
      "A클래스에서 만들어진 모든 인스턴스들에서 f가 총 4번 실행\n"
     ]
    }
   ],
   "source": [
    "a.f()"
   ]
  },
  {
   "cell_type": "code",
   "execution_count": 118,
   "id": "3edaa8a5-3736-4052-b017-3b73b52f3a52",
   "metadata": {},
   "outputs": [
    {
     "name": "stdout",
     "output_type": "stream",
     "text": [
      "현재 인스턴스에서 f가 102번 실행\n",
      "A클래스에서 만들어진 모든 인스턴스들에서 f가 총 5번 실행\n"
     ]
    }
   ],
   "source": [
    "b.f()"
   ]
  },
  {
   "cell_type": "markdown",
   "id": "e3fb5404-91c7-468a-bfb1-1e078669bc0f",
   "metadata": {},
   "source": [
    "### 예제4의 변형"
   ]
  },
  {
   "cell_type": "markdown",
   "id": "6672c174-a024-4f3a-9867-75c25db1d3a1",
   "metadata": {},
   "source": [
    "`-` 시점0"
   ]
  },
  {
   "cell_type": "code",
   "execution_count": 124,
   "id": "0fa9b7ef-78e7-4eb4-aaed-bac865a73737",
   "metadata": {},
   "outputs": [],
   "source": [
    "class B: \n",
    "    x=10 # 초기자본금 \n",
    "    y=0 \n",
    "    def f(self): # f()를 실행할때마다 돈을 쓴다. \n",
    "        self.x = self.x - 1 \n",
    "        B.y = B.y + 1 \n",
    "        print(\"현재 인스턴스에서 {}원 잔액남음\".format(self.x))\n",
    "        print(\"A클래스에서 만들어진 모든 인스턴스들에서 총 {}원 사용\".format(self.y))"
   ]
  },
  {
   "cell_type": "code",
   "execution_count": 125,
   "id": "a090f30c-3d73-4c8b-af0b-3be9ab71d0be",
   "metadata": {},
   "outputs": [],
   "source": [
    "a=B()"
   ]
  },
  {
   "cell_type": "code",
   "execution_count": 126,
   "id": "54183df2-4e47-47d3-8501-8d2a9a1143f5",
   "metadata": {},
   "outputs": [],
   "source": [
    "b=B()"
   ]
  },
  {
   "cell_type": "code",
   "execution_count": 127,
   "id": "77256ae9-215b-4500-baf4-a18c5358c8da",
   "metadata": {},
   "outputs": [
    {
     "data": {
      "text/plain": [
       "([10, 0], [10, 0], [10, 0])"
      ]
     },
     "execution_count": 127,
     "metadata": {},
     "output_type": "execute_result"
    }
   ],
   "source": [
    "[B.x,B.y], [a.x,a.y], [b.x,b.y]"
   ]
  },
  {
   "cell_type": "markdown",
   "id": "e312850c-ddcb-4f63-8688-a4e1e617edb8",
   "metadata": {},
   "source": [
    "`-` 시점1"
   ]
  },
  {
   "cell_type": "code",
   "execution_count": 128,
   "id": "352637f3-003c-451a-a12e-3037efa86283",
   "metadata": {},
   "outputs": [
    {
     "name": "stdout",
     "output_type": "stream",
     "text": [
      "현재 인스턴스에서 9원 잔액남음\n",
      "A클래스에서 만들어진 모든 인스턴스들에서 총 1원 사용\n"
     ]
    }
   ],
   "source": [
    "a.f() # 돈을쓰는것"
   ]
  },
  {
   "cell_type": "code",
   "execution_count": 129,
   "id": "5f07d9d7-cebf-437f-bdf1-46233797f84f",
   "metadata": {},
   "outputs": [
    {
     "name": "stdout",
     "output_type": "stream",
     "text": [
      "현재 인스턴스에서 8원 잔액남음\n",
      "A클래스에서 만들어진 모든 인스턴스들에서 총 2원 사용\n"
     ]
    }
   ],
   "source": [
    "a.f()"
   ]
  },
  {
   "cell_type": "code",
   "execution_count": 130,
   "id": "c7c48b86-2e5d-4ec7-b527-ddd5482f8096",
   "metadata": {},
   "outputs": [
    {
     "name": "stdout",
     "output_type": "stream",
     "text": [
      "현재 인스턴스에서 9원 잔액남음\n",
      "A클래스에서 만들어진 모든 인스턴스들에서 총 3원 사용\n"
     ]
    }
   ],
   "source": [
    "b.f()"
   ]
  },
  {
   "cell_type": "markdown",
   "id": "102fa6a3-7d7d-4d37-afed-94a1a08adbb4",
   "metadata": {},
   "source": [
    "`-` 시점2"
   ]
  },
  {
   "cell_type": "code",
   "execution_count": 131,
   "id": "c32f5ddd-2455-4e9d-98fe-ce6127fd81a4",
   "metadata": {},
   "outputs": [
    {
     "data": {
      "text/plain": [
       "([10, 3], [8, 3], [9, 3])"
      ]
     },
     "execution_count": 131,
     "metadata": {},
     "output_type": "execute_result"
    }
   ],
   "source": [
    "[B.x,B.y], [a.x,a.y], [b.x,b.y]"
   ]
  },
  {
   "cell_type": "code",
   "execution_count": 132,
   "id": "5f475ce9-15e9-4351-ae91-655d69bf3119",
   "metadata": {},
   "outputs": [],
   "source": [
    "B.x = 999"
   ]
  },
  {
   "cell_type": "code",
   "execution_count": 133,
   "id": "53be41f7-9202-40e7-8ee5-e230eab17f91",
   "metadata": {},
   "outputs": [
    {
     "data": {
      "text/plain": [
       "([999, 3], [8, 3], [9, 3])"
      ]
     },
     "execution_count": 133,
     "metadata": {},
     "output_type": "execute_result"
    }
   ],
   "source": [
    "[B.x,B.y], [a.x,a.y], [b.x,b.y]"
   ]
  },
  {
   "cell_type": "markdown",
   "id": "58d00ff7-d87c-469c-947e-2840119ec0fc",
   "metadata": {},
   "source": [
    "`-` 시점3"
   ]
  },
  {
   "cell_type": "code",
   "execution_count": 134,
   "id": "9ec82e26-da15-444c-ba26-3bc584294eaf",
   "metadata": {},
   "outputs": [],
   "source": [
    "c = B()"
   ]
  },
  {
   "cell_type": "code",
   "execution_count": 135,
   "id": "0fdf92f5-3163-4d18-ac24-66c0c46a3ce7",
   "metadata": {},
   "outputs": [
    {
     "name": "stdout",
     "output_type": "stream",
     "text": [
      "현재 인스턴스에서 998원 잔액남음\n",
      "A클래스에서 만들어진 모든 인스턴스들에서 총 4원 사용\n"
     ]
    }
   ],
   "source": [
    "c.f()"
   ]
  },
  {
   "cell_type": "markdown",
   "id": "ca3ec62d-eb2f-4f55-9b50-cf1a3c107e4c",
   "metadata": {},
   "source": [
    "`-` 시점4"
   ]
  },
  {
   "cell_type": "code",
   "execution_count": 136,
   "id": "4c049065-ba56-4e4d-8143-7771d4f98daa",
   "metadata": {},
   "outputs": [
    {
     "name": "stdout",
     "output_type": "stream",
     "text": [
      "현재 인스턴스에서 7원 잔액남음\n",
      "A클래스에서 만들어진 모든 인스턴스들에서 총 5원 사용\n"
     ]
    }
   ],
   "source": [
    "a.f()"
   ]
  },
  {
   "cell_type": "code",
   "execution_count": 137,
   "id": "724b10c7-ba3f-4238-a706-31e7b42720e6",
   "metadata": {},
   "outputs": [
    {
     "name": "stdout",
     "output_type": "stream",
     "text": [
      "현재 인스턴스에서 8원 잔액남음\n",
      "A클래스에서 만들어진 모든 인스턴스들에서 총 6원 사용\n"
     ]
    }
   ],
   "source": [
    "b.f()"
   ]
  },
  {
   "cell_type": "code",
   "execution_count": 138,
   "id": "a00abc66-03a4-4f36-892a-b98a240b3062",
   "metadata": {},
   "outputs": [
    {
     "name": "stdout",
     "output_type": "stream",
     "text": [
      "현재 인스턴스에서 997원 잔액남음\n",
      "A클래스에서 만들어진 모든 인스턴스들에서 총 7원 사용\n"
     ]
    }
   ],
   "source": [
    "c.f()"
   ]
  },
  {
   "cell_type": "code",
   "execution_count": 139,
   "id": "1a327506-53fc-4e70-ae96-c5ac03dc0d49",
   "metadata": {},
   "outputs": [
    {
     "name": "stdout",
     "output_type": "stream",
     "text": [
      "현재 인스턴스에서 996원 잔액남음\n",
      "A클래스에서 만들어진 모든 인스턴스들에서 총 8원 사용\n"
     ]
    }
   ],
   "source": [
    "c.f()"
   ]
  },
  {
   "cell_type": "code",
   "execution_count": 140,
   "id": "7a57d7fb-9da9-4ae5-9b65-52a677b1fd5a",
   "metadata": {},
   "outputs": [
    {
     "name": "stdout",
     "output_type": "stream",
     "text": [
      "현재 인스턴스에서 995원 잔액남음\n",
      "A클래스에서 만들어진 모든 인스턴스들에서 총 9원 사용\n"
     ]
    }
   ],
   "source": [
    "c.f()"
   ]
  },
  {
   "cell_type": "markdown",
   "id": "2123f1fb-36c7-459c-8db6-6fdd68bc9474",
   "metadata": {},
   "source": [
    "### 예제5: 인스턴스에서 클래스변수 변경 (변경가능??)"
   ]
  },
  {
   "cell_type": "markdown",
   "id": "b507e71e-7c90-4613-b864-27ac6a3de634",
   "metadata": {},
   "source": [
    "`-` 시점0"
   ]
  },
  {
   "cell_type": "code",
   "execution_count": 160,
   "id": "80b4457e-f65a-4748-aa3a-dc865c1f8610",
   "metadata": {},
   "outputs": [],
   "source": [
    "class A: \n",
    "    x=0\n",
    "    y=0 \n",
    "    def f(self):\n",
    "        self.x = self.x + 1 \n",
    "        A.y = A.y + 1 \n",
    "        print(\"현재 인스턴스에서 f가 {}번 실행\".format(self.x))\n",
    "        print(\"A클래스에서 만들어진 모든 인스턴스들에서 f가 총 {}번 실행\".format(self.y))"
   ]
  },
  {
   "cell_type": "code",
   "execution_count": 161,
   "id": "d542a530-ff30-4314-b1bf-731bb75ff667",
   "metadata": {},
   "outputs": [],
   "source": [
    "a=A()\n",
    "b=A()"
   ]
  },
  {
   "cell_type": "code",
   "execution_count": 162,
   "id": "eb0aa645-586c-49ed-9dee-3ab2a63c2ac3",
   "metadata": {},
   "outputs": [
    {
     "data": {
      "text/plain": [
       "([0, 0], [0, 0], [0, 0])"
      ]
     },
     "execution_count": 162,
     "metadata": {},
     "output_type": "execute_result"
    }
   ],
   "source": [
    "[A.x, A.y], [a.x,a.y], [b.x,b.y]"
   ]
  },
  {
   "cell_type": "markdown",
   "id": "73776365-a4d0-4080-a58d-499c1884acd2",
   "metadata": {},
   "source": [
    "`-` 시점1"
   ]
  },
  {
   "cell_type": "code",
   "execution_count": 163,
   "id": "c99eef6c-2f5c-407b-b64d-e87b3e7c8509",
   "metadata": {},
   "outputs": [
    {
     "name": "stdout",
     "output_type": "stream",
     "text": [
      "현재 인스턴스에서 f가 1번 실행\n",
      "A클래스에서 만들어진 모든 인스턴스들에서 f가 총 1번 실행\n"
     ]
    }
   ],
   "source": [
    "a.f()"
   ]
  },
  {
   "cell_type": "code",
   "execution_count": 164,
   "id": "c8eda967-9ddf-4462-becb-b955c4aae08c",
   "metadata": {},
   "outputs": [
    {
     "name": "stdout",
     "output_type": "stream",
     "text": [
      "현재 인스턴스에서 f가 1번 실행\n",
      "A클래스에서 만들어진 모든 인스턴스들에서 f가 총 2번 실행\n"
     ]
    }
   ],
   "source": [
    "b.f()"
   ]
  },
  {
   "cell_type": "code",
   "execution_count": 165,
   "id": "dcff9f98-617a-431e-be43-a6431fc2d01c",
   "metadata": {},
   "outputs": [
    {
     "name": "stdout",
     "output_type": "stream",
     "text": [
      "현재 인스턴스에서 f가 2번 실행\n",
      "A클래스에서 만들어진 모든 인스턴스들에서 f가 총 3번 실행\n"
     ]
    }
   ],
   "source": [
    "a.f()"
   ]
  },
  {
   "cell_type": "code",
   "execution_count": 166,
   "id": "1cfcf436-b673-47d7-9c3f-4179b4303904",
   "metadata": {},
   "outputs": [
    {
     "data": {
      "text/plain": [
       "([0, 3], [2, 3], [1, 3])"
      ]
     },
     "execution_count": 166,
     "metadata": {},
     "output_type": "execute_result"
    }
   ],
   "source": [
    "[A.x, A.y], [a.x,a.y], [b.x,b.y]"
   ]
  },
  {
   "cell_type": "markdown",
   "id": "d22deb81-1d6e-4322-91df-beb4b3dbcabe",
   "metadata": {},
   "source": [
    "`-` 시점2"
   ]
  },
  {
   "cell_type": "code",
   "execution_count": 167,
   "id": "02c35113-5ea3-4918-a9f7-da374fd60f42",
   "metadata": {},
   "outputs": [
    {
     "data": {
      "text/plain": [
       "3"
      ]
     },
     "execution_count": 167,
     "metadata": {},
     "output_type": "execute_result"
    }
   ],
   "source": [
    "a.y ## 인스턴스a에 소속되어있지만 클래스변수"
   ]
  },
  {
   "cell_type": "code",
   "execution_count": 170,
   "id": "cded250b-8251-4e8c-a0e1-81231a88dd6b",
   "metadata": {},
   "outputs": [],
   "source": [
    "a.y = 999 ## 내가 하드코딩으로 a.y에 999를 입력 -> 이것이 A.y나 b.y에도 반영될까? (X) "
   ]
  },
  {
   "cell_type": "code",
   "execution_count": 153,
   "id": "d5a93c13-6c0a-4a4d-84c9-aa0a199666c5",
   "metadata": {},
   "outputs": [
    {
     "data": {
      "text/plain": [
       "([0, 3], [2, 999], [1, 3])"
      ]
     },
     "execution_count": 153,
     "metadata": {},
     "output_type": "execute_result"
    }
   ],
   "source": [
    "[A.x, A.y], [a.x,a.y], [b.x,b.y]"
   ]
  },
  {
   "cell_type": "markdown",
   "id": "7055cecf-183a-45d4-9fdf-2a3e835921e8",
   "metadata": {},
   "source": [
    "`-` 시점3"
   ]
  },
  {
   "cell_type": "code",
   "execution_count": 154,
   "id": "65c38689-058b-4892-93cf-25881d077d4e",
   "metadata": {},
   "outputs": [
    {
     "name": "stdout",
     "output_type": "stream",
     "text": [
      "현재 인스턴스에서 f가 2번 실행\n",
      "A클래스에서 만들어진 모든 인스턴스들에서 f가 총 4번 실행\n"
     ]
    }
   ],
   "source": [
    "b.f()"
   ]
  },
  {
   "cell_type": "code",
   "execution_count": 155,
   "id": "4e6411e0-f688-4b5d-adc5-cdac76964f02",
   "metadata": {},
   "outputs": [
    {
     "name": "stdout",
     "output_type": "stream",
     "text": [
      "현재 인스턴스에서 f가 3번 실행\n",
      "A클래스에서 만들어진 모든 인스턴스들에서 f가 총 999번 실행\n"
     ]
    }
   ],
   "source": [
    "a.f()"
   ]
  },
  {
   "cell_type": "code",
   "execution_count": 156,
   "id": "0754fb88-5bd7-42b2-99b6-6557bcfc45bb",
   "metadata": {},
   "outputs": [
    {
     "name": "stdout",
     "output_type": "stream",
     "text": [
      "현재 인스턴스에서 f가 3번 실행\n",
      "A클래스에서 만들어진 모든 인스턴스들에서 f가 총 6번 실행\n"
     ]
    }
   ],
   "source": [
    "b.f()"
   ]
  },
  {
   "cell_type": "code",
   "execution_count": 157,
   "id": "385ee43b-de0b-4b6f-a77c-850d508ca1dd",
   "metadata": {},
   "outputs": [
    {
     "name": "stdout",
     "output_type": "stream",
     "text": [
      "현재 인스턴스에서 f가 4번 실행\n",
      "A클래스에서 만들어진 모든 인스턴스들에서 f가 총 7번 실행\n"
     ]
    }
   ],
   "source": [
    "b.f()"
   ]
  },
  {
   "cell_type": "code",
   "execution_count": 158,
   "id": "079a6065-795f-410d-9a48-63214deea499",
   "metadata": {},
   "outputs": [
    {
     "name": "stdout",
     "output_type": "stream",
     "text": [
      "현재 인스턴스에서 f가 4번 실행\n",
      "A클래스에서 만들어진 모든 인스턴스들에서 f가 총 999번 실행\n"
     ]
    }
   ],
   "source": [
    "a.f()"
   ]
  },
  {
   "cell_type": "markdown",
   "id": "5c66eb08-788e-4a88-937e-147779db23c7",
   "metadata": {},
   "source": [
    "`-` 요약 \n",
    "- 인스턴스에서 클래스변수의 값을 변경하면? -> 클래스변수의 값이 변경되는 것이 아니라 인스턴스변수가 새롭게 만들어져서 할당된다. \n",
    "- 이 예제에서 a.y는 이제 클래스변수에서 인스턴스변수로 재탄생되었다. 즉 999 오브젝트가 새롭게 만들어져서 a.y라는 이름을 얻은것임. \n",
    "- 기존의 A.y나 b.y에는 아무런 변화가 없다. "
   ]
  },
  {
   "cell_type": "markdown",
   "id": "e5603877-9fd2-4409-9242-29776769d17c",
   "metadata": {},
   "source": [
    "> a.y = 999 은 새로운 인스턴변수 y를 할당하는 역할을 한다. 클래스변수의 값을 변경하는 것이 아니다. (왜냐하면 애초에 a.y는 없는 값이었고, A.y를 빌리고 있었던 것임) "
   ]
  },
  {
   "cell_type": "code",
   "execution_count": 172,
   "id": "cc5dcfa0-3cfc-4dd5-b706-7674058ecaf4",
   "metadata": {},
   "outputs": [
    {
     "data": {
      "text/plain": [
       "{'x': 2, 'y': 999}"
      ]
     },
     "execution_count": 172,
     "metadata": {},
     "output_type": "execute_result"
    }
   ],
   "source": [
    "a.__dict__"
   ]
  },
  {
   "cell_type": "code",
   "execution_count": 173,
   "id": "dabf72c6-b6c0-473d-9ef5-185a9b9b1803",
   "metadata": {},
   "outputs": [
    {
     "data": {
      "text/plain": [
       "{'x': 1}"
      ]
     },
     "execution_count": 173,
     "metadata": {},
     "output_type": "execute_result"
    }
   ],
   "source": [
    "b.__dict__"
   ]
  },
  {
   "cell_type": "markdown",
   "id": "f1420b47-5408-4423-b2c3-ffdd0df92366",
   "metadata": {},
   "source": [
    "### 예제5의 변형"
   ]
  },
  {
   "cell_type": "markdown",
   "id": "5d9f2c04-65d3-48c7-81f3-99b3a351d968",
   "metadata": {},
   "source": [
    "`-` 시점0"
   ]
  },
  {
   "cell_type": "code",
   "execution_count": 180,
   "id": "cb50c840-0b0e-4c15-9157-40dbe3ff0bd1",
   "metadata": {},
   "outputs": [],
   "source": [
    "class A: \n",
    "    x=0\n",
    "    y=0 \n",
    "    def f(self):\n",
    "        self.x = self.x + 1 \n",
    "        A.y = A.y + 1 \n",
    "        print(\"현재 인스턴스에서 f가 {}번 실행 (인스턴스레벨)\".format(self.x))\n",
    "        print(\"A클래스에서 만들어진 모든 인스턴스들에서 f가 총 {}번 실행 (클래스레벨)\".format(A.y))\n",
    "        print(\"A클래스에서 만들어진 모든 인스턴스들에서 f가 총 {}번 실행 (인스턴스레벨)\".format(self.y))"
   ]
  },
  {
   "cell_type": "code",
   "execution_count": 181,
   "id": "187db834-5012-437c-9a2d-c51ea0339723",
   "metadata": {},
   "outputs": [],
   "source": [
    "a=A()"
   ]
  },
  {
   "cell_type": "code",
   "execution_count": 182,
   "id": "9ff29569-9115-4f6b-822d-e1cec4dd0c42",
   "metadata": {},
   "outputs": [
    {
     "name": "stdout",
     "output_type": "stream",
     "text": [
      "현재 인스턴스에서 f가 1번 실행 (인스턴스레벨)\n",
      "A클래스에서 만들어진 모든 인스턴스들에서 f가 총 1번 실행 (클래스레벨)\n",
      "A클래스에서 만들어진 모든 인스턴스들에서 f가 총 1번 실행 (인스턴스레벨)\n"
     ]
    }
   ],
   "source": [
    "a.f()"
   ]
  },
  {
   "cell_type": "code",
   "execution_count": 183,
   "id": "1e7c2bdf-2c46-4373-bbfc-fd52d7bfa43f",
   "metadata": {},
   "outputs": [],
   "source": [
    "b=A()"
   ]
  },
  {
   "cell_type": "code",
   "execution_count": 184,
   "id": "f06b2065-9f42-44e4-bd9d-65364575a31d",
   "metadata": {},
   "outputs": [
    {
     "name": "stdout",
     "output_type": "stream",
     "text": [
      "현재 인스턴스에서 f가 1번 실행 (인스턴스레벨)\n",
      "A클래스에서 만들어진 모든 인스턴스들에서 f가 총 2번 실행 (클래스레벨)\n",
      "A클래스에서 만들어진 모든 인스턴스들에서 f가 총 2번 실행 (인스턴스레벨)\n"
     ]
    }
   ],
   "source": [
    "b.f()"
   ]
  },
  {
   "cell_type": "markdown",
   "id": "edbb3c7e-5a2c-473a-86fc-36cb52a211f7",
   "metadata": {},
   "source": [
    "`-` 시점1"
   ]
  },
  {
   "cell_type": "code",
   "execution_count": 185,
   "id": "7d4b5023-b828-4b34-b17a-b36e041ab618",
   "metadata": {},
   "outputs": [],
   "source": [
    "a.y = 999 "
   ]
  },
  {
   "cell_type": "code",
   "execution_count": 186,
   "id": "66a39461-0b2c-4fa0-9621-e890bc10898b",
   "metadata": {},
   "outputs": [
    {
     "name": "stdout",
     "output_type": "stream",
     "text": [
      "현재 인스턴스에서 f가 2번 실행 (인스턴스레벨)\n",
      "A클래스에서 만들어진 모든 인스턴스들에서 f가 총 3번 실행 (클래스레벨)\n",
      "A클래스에서 만들어진 모든 인스턴스들에서 f가 총 999번 실행 (인스턴스레벨)\n"
     ]
    }
   ],
   "source": [
    "a.f()"
   ]
  },
  {
   "cell_type": "code",
   "execution_count": 187,
   "id": "06ee3dd9-554c-4cd7-a4a1-c1b7c0396a80",
   "metadata": {},
   "outputs": [
    {
     "name": "stdout",
     "output_type": "stream",
     "text": [
      "현재 인스턴스에서 f가 3번 실행 (인스턴스레벨)\n",
      "A클래스에서 만들어진 모든 인스턴스들에서 f가 총 4번 실행 (클래스레벨)\n",
      "A클래스에서 만들어진 모든 인스턴스들에서 f가 총 999번 실행 (인스턴스레벨)\n"
     ]
    }
   ],
   "source": [
    "a.f()"
   ]
  },
  {
   "cell_type": "code",
   "execution_count": 188,
   "id": "9b9db16c-c7a0-483f-bb03-9adda29d37dd",
   "metadata": {},
   "outputs": [
    {
     "name": "stdout",
     "output_type": "stream",
     "text": [
      "현재 인스턴스에서 f가 4번 실행 (인스턴스레벨)\n",
      "A클래스에서 만들어진 모든 인스턴스들에서 f가 총 5번 실행 (클래스레벨)\n",
      "A클래스에서 만들어진 모든 인스턴스들에서 f가 총 999번 실행 (인스턴스레벨)\n"
     ]
    }
   ],
   "source": [
    "a.f()"
   ]
  },
  {
   "cell_type": "markdown",
   "id": "30d71a6f-539a-4b0e-a834-2f80db872f92",
   "metadata": {},
   "source": [
    "### 예제6: 인스턴스 생성시점에 대한 분석 "
   ]
  },
  {
   "cell_type": "markdown",
   "id": "815cac81-8e07-44e6-995a-e74a5d8428f9",
   "metadata": {},
   "source": [
    "`-` 의문: 아래의 코드에서 x는 클래변수라고 봐야할까? 인스턴스 변수라고 봐야할까? --> 클래스변수\n",
    "\n",
    "```python \n",
    "class SoWhaTV: \n",
    "    x=0 ### 이 시점에서 x는 클래스변수인가? 아니면 인스턴변수인가? \n",
    "    def f(self):\n",
    "        print(self.x) \n",
    "```"
   ]
  },
  {
   "cell_type": "markdown",
   "id": "01bcfd26-a68b-45ee-91f2-7df6f4523454",
   "metadata": {},
   "source": [
    "`-` 시점0"
   ]
  },
  {
   "cell_type": "code",
   "execution_count": 189,
   "id": "602fa735-d3dc-4de9-bfcd-eb879c5ab685",
   "metadata": {},
   "outputs": [],
   "source": [
    "class A: \n",
    "    x=0\n",
    "    y=0 \n",
    "    def f(self):\n",
    "        self.x = self.x + 1 \n",
    "        A.y = A.y + 1 \n",
    "        print(\"현재 인스턴스에서 f가 {}번 실행 (인스턴스레벨)\".format(self.x))\n",
    "        print(\"A클래스에서 만들어진 모든 인스턴스들에서 f가 총 {}번 실행 (클래스레벨)\".format(A.y))\n",
    "        #print(\"A클래스에서 만들어진 모든 인스턴스들에서 f가 총 {}번 실행 (인스턴스레벨)\".format(self.y))"
   ]
  },
  {
   "cell_type": "code",
   "execution_count": 190,
   "id": "047742d2-3897-4a0f-95db-e216fe88dc81",
   "metadata": {},
   "outputs": [],
   "source": [
    "a=A()\n",
    "b=A()"
   ]
  },
  {
   "cell_type": "code",
   "execution_count": 191,
   "id": "7c5f5f35-6870-49d5-96f7-3804edcd0e09",
   "metadata": {},
   "outputs": [
    {
     "data": {
      "text/plain": [
       "(0, 0, 0, 0)"
      ]
     },
     "execution_count": 191,
     "metadata": {},
     "output_type": "execute_result"
    }
   ],
   "source": [
    "a.x,a.y,b.x,b.y "
   ]
  },
  {
   "cell_type": "code",
   "execution_count": 192,
   "id": "63b7cb8f-0a11-40c9-8944-5fd9944dc9eb",
   "metadata": {},
   "outputs": [
    {
     "data": {
      "text/plain": [
       "({}, {})"
      ]
     },
     "execution_count": 192,
     "metadata": {},
     "output_type": "execute_result"
    }
   ],
   "source": [
    "a.__dict__, b.__dict__"
   ]
  },
  {
   "cell_type": "markdown",
   "id": "866fac89-9d8a-4c23-ac29-201da61633b4",
   "metadata": {},
   "source": [
    "- 지금 시점에서 a.x, a.y, b.x, b.y 는 모두 클래스변수임 "
   ]
  },
  {
   "cell_type": "markdown",
   "id": "21362d01-1863-494b-9492-bb8bf58af8ef",
   "metadata": {},
   "source": [
    "`-` 시점1"
   ]
  },
  {
   "cell_type": "code",
   "execution_count": 193,
   "id": "ffb7118f-25ae-4944-9d35-1653deae78a7",
   "metadata": {},
   "outputs": [
    {
     "name": "stdout",
     "output_type": "stream",
     "text": [
      "현재 인스턴스에서 f가 1번 실행 (인스턴스레벨)\n",
      "A클래스에서 만들어진 모든 인스턴스들에서 f가 총 1번 실행 (클래스레벨)\n"
     ]
    }
   ],
   "source": [
    "a.f()"
   ]
  },
  {
   "cell_type": "code",
   "execution_count": 194,
   "id": "d8f44821-d4a8-439e-a0aa-102eab3f82a4",
   "metadata": {},
   "outputs": [
    {
     "data": {
      "text/plain": [
       "({'x': 1}, {})"
      ]
     },
     "execution_count": 194,
     "metadata": {},
     "output_type": "execute_result"
    }
   ],
   "source": [
    "a.__dict__, b.__dict__"
   ]
  },
  {
   "cell_type": "markdown",
   "id": "21bcfa68-6987-4c67-b8d1-389bac4d505c",
   "metadata": {},
   "source": [
    "- 이 순간 a.x가 클래스변수에서 인스턴스변수로 변경되었다. 왜? f가 실행되면서 self.x = self.x + 1 이 실행되었으므로!"
   ]
  },
  {
   "cell_type": "markdown",
   "id": "b3991203-fd8b-4306-a75f-652018eeda39",
   "metadata": {},
   "source": [
    "`-` 시점2"
   ]
  },
  {
   "cell_type": "code",
   "execution_count": 195,
   "id": "6bc1cdb6-89af-4ca9-98f9-8c0e2bfaaa59",
   "metadata": {},
   "outputs": [
    {
     "name": "stdout",
     "output_type": "stream",
     "text": [
      "현재 인스턴스에서 f가 1번 실행 (인스턴스레벨)\n",
      "A클래스에서 만들어진 모든 인스턴스들에서 f가 총 2번 실행 (클래스레벨)\n"
     ]
    }
   ],
   "source": [
    "b.f()"
   ]
  },
  {
   "cell_type": "code",
   "execution_count": 196,
   "id": "6277a85e-cad5-48c2-b57c-bb15051bebe7",
   "metadata": {},
   "outputs": [
    {
     "data": {
      "text/plain": [
       "({'x': 1}, {'x': 1})"
      ]
     },
     "execution_count": 196,
     "metadata": {},
     "output_type": "execute_result"
    }
   ],
   "source": [
    "a.__dict__, b.__dict__"
   ]
  },
  {
   "cell_type": "markdown",
   "id": "b6d4173e-53f5-460d-820f-50fea8e4398b",
   "metadata": {},
   "source": [
    "### 예제7: 잘못된사용 "
   ]
  },
  {
   "cell_type": "markdown",
   "id": "91c429d0-5e1a-4677-9b59-a83f14fba45e",
   "metadata": {},
   "source": [
    "`-` 아래처럼 코드를 바꾸면 어떻게 되는가? "
   ]
  },
  {
   "cell_type": "code",
   "execution_count": 197,
   "id": "aa8460db-9a6d-436c-b669-e6f4de654c70",
   "metadata": {},
   "outputs": [],
   "source": [
    "class A: \n",
    "    def __init__(self): \n",
    "        self.x=0 # 인스턴스변수로 나중에 쓸꺼니까 명시함 \n",
    "        A.y=0 # 클래스변수로 나중에 쓸꺼니까 명시함 \n",
    "    def f(self):\n",
    "        self.x = self.x + 1 \n",
    "        A.y = A.y + 1 \n",
    "        print(\"현재 인스턴스에서 f가 {}번 실행 (인스턴스레벨)\".format(self.x))\n",
    "        print(\"A클래스에서 만들어진 모든 인스턴스들에서 f가 총 {}번 실행 (클래스레벨)\".format(A.y))\n",
    "        #print(\"A클래스에서 만들어진 모든 인스턴스들에서 f가 총 {}번 실행 (인스턴스레벨)\".format(self.y))"
   ]
  },
  {
   "cell_type": "markdown",
   "id": "60b4422d-ca6c-4f9b-811d-c8cfcfd6a80a",
   "metadata": {},
   "source": [
    "`-` 사용해보자. "
   ]
  },
  {
   "cell_type": "code",
   "execution_count": 198,
   "id": "1283630a-ca24-44ed-9878-594ba93a8a12",
   "metadata": {},
   "outputs": [],
   "source": [
    "a=A()\n",
    "b=A()"
   ]
  },
  {
   "cell_type": "code",
   "execution_count": 199,
   "id": "c08d871f-89a6-4784-a3e5-9cb7759c88e8",
   "metadata": {},
   "outputs": [
    {
     "name": "stdout",
     "output_type": "stream",
     "text": [
      "현재 인스턴스에서 f가 1번 실행 (인스턴스레벨)\n",
      "A클래스에서 만들어진 모든 인스턴스들에서 f가 총 1번 실행 (클래스레벨)\n"
     ]
    }
   ],
   "source": [
    "a.f()"
   ]
  },
  {
   "cell_type": "code",
   "execution_count": 200,
   "id": "c09eb89b-754e-4a82-b89b-23421237c737",
   "metadata": {},
   "outputs": [
    {
     "name": "stdout",
     "output_type": "stream",
     "text": [
      "현재 인스턴스에서 f가 1번 실행 (인스턴스레벨)\n",
      "A클래스에서 만들어진 모든 인스턴스들에서 f가 총 2번 실행 (클래스레벨)\n"
     ]
    }
   ],
   "source": [
    "b.f()"
   ]
  },
  {
   "cell_type": "code",
   "execution_count": 201,
   "id": "e90bb3fa-86c5-4bbc-a26e-249aaddfbcc4",
   "metadata": {},
   "outputs": [
    {
     "name": "stdout",
     "output_type": "stream",
     "text": [
      "현재 인스턴스에서 f가 2번 실행 (인스턴스레벨)\n",
      "A클래스에서 만들어진 모든 인스턴스들에서 f가 총 3번 실행 (클래스레벨)\n"
     ]
    }
   ],
   "source": [
    "b.f()"
   ]
  },
  {
   "cell_type": "code",
   "execution_count": 202,
   "id": "de659309-4ba0-4b1e-ac0e-d9b6c7c834de",
   "metadata": {},
   "outputs": [
    {
     "name": "stdout",
     "output_type": "stream",
     "text": [
      "현재 인스턴스에서 f가 3번 실행 (인스턴스레벨)\n",
      "A클래스에서 만들어진 모든 인스턴스들에서 f가 총 4번 실행 (클래스레벨)\n"
     ]
    }
   ],
   "source": [
    "b.f()"
   ]
  },
  {
   "cell_type": "code",
   "execution_count": 203,
   "id": "afeeb75a-5c10-428b-81e6-5b236c678ddf",
   "metadata": {},
   "outputs": [
    {
     "name": "stdout",
     "output_type": "stream",
     "text": [
      "현재 인스턴스에서 f가 2번 실행 (인스턴스레벨)\n",
      "A클래스에서 만들어진 모든 인스턴스들에서 f가 총 5번 실행 (클래스레벨)\n"
     ]
    }
   ],
   "source": [
    "a.f()"
   ]
  },
  {
   "cell_type": "markdown",
   "id": "39c5b212-601e-4d5d-aace-732928ee1b37",
   "metadata": {},
   "source": [
    "`-` 잘 되는것 같다?"
   ]
  },
  {
   "cell_type": "markdown",
   "id": "47280fe4-ca00-47c0-aa8a-f7014e2e2857",
   "metadata": {},
   "source": [
    "`-` 조금만 생각해보면 엉터리라는 것을 알 수 있다. 아래를 관찰해보자. "
   ]
  },
  {
   "cell_type": "code",
   "execution_count": 204,
   "id": "0657063c-74ce-4bb1-9c27-51213bcaed77",
   "metadata": {},
   "outputs": [],
   "source": [
    "c=A() # 이 시점에서 __init__()이 실행된다! "
   ]
  },
  {
   "cell_type": "code",
   "execution_count": 205,
   "id": "22c69269-c88e-49df-bc06-f0730026ccfb",
   "metadata": {},
   "outputs": [
    {
     "name": "stdout",
     "output_type": "stream",
     "text": [
      "현재 인스턴스에서 f가 3번 실행 (인스턴스레벨)\n",
      "A클래스에서 만들어진 모든 인스턴스들에서 f가 총 1번 실행 (클래스레벨)\n"
     ]
    }
   ],
   "source": [
    "a.f()"
   ]
  },
  {
   "cell_type": "markdown",
   "id": "8efb8ef5-91a6-45d4-b9d8-40329e479151",
   "metadata": {},
   "source": [
    "- 클래스레벨의 변수가 왜 초기화가 되었지? "
   ]
  },
  {
   "cell_type": "markdown",
   "id": "aae37f3e-8389-4b2a-bac8-2f19d37565bc",
   "metadata": {},
   "source": [
    "`-` 오류의 이유? c=A()가 실행되는 시점에 `__init__()`이 실행되면서 `A.y=0`이 실행된다. 따라서 강제초기화가 진행되었음 "
   ]
  },
  {
   "cell_type": "markdown",
   "id": "177458b9-24fd-45ca-b575-df100ec99eb4",
   "metadata": {},
   "source": [
    "## 숙제 "
   ]
  },
  {
   "cell_type": "markdown",
   "id": "5d6b80ad-1610-4b7f-8a9d-8e109e5d10fc",
   "metadata": {},
   "source": [
    "아래의 조건에 맞는 클래스를 생성하라. \n",
    "\n",
    "(1) `['가위','바위']`와 같은 리스트를 입력으로 받아 인스턴스를 생성한다. \n",
    "\n",
    "(2) 위의 리스트에서 하나의 값을 뽑는 메소드 `f`를 가지고 있다. \n",
    "\n",
    "**(3) f의 실행횟수를 기록하는 기능을 가진다. (각 인스턴스에서 실행한 횟수, 클래스에서 생성된 모든 인스턴스에서 실행한 횟수 모두 기록)**"
   ]
  },
  {
   "cell_type": "markdown",
   "id": "143b956c-4726-40f5-b250-531450a9eda6",
   "metadata": {},
   "source": [
    "사용예시\n",
    "\n",
    "```python\n",
    "a = Klass(['가위','바위'])\n",
    "a.f() # 가위가 1/2 바위가 1/2의 확률로 출력 \n",
    "b = Klass(['가위','바위','보'])\n",
    "b.f() # 가위, 바위, 보가 1/3의 확률로 출력 \n",
    "```"
   ]
  }
 ],
 "metadata": {
  "kernelspec": {
   "display_name": "Python 3 (ipykernel)",
   "language": "python",
   "name": "python3"
  },
  "language_info": {
   "codemirror_mode": {
    "name": "ipython",
    "version": 3
   },
   "file_extension": ".py",
   "mimetype": "text/x-python",
   "name": "python",
   "nbconvert_exporter": "python",
   "pygments_lexer": "ipython3",
   "version": "3.10.2"
  }
 },
 "nbformat": 4,
 "nbformat_minor": 5
}
